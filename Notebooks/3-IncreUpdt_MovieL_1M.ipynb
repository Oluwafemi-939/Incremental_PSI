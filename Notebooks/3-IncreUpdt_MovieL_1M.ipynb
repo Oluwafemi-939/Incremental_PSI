{
  "nbformat": 4,
  "nbformat_minor": 0,
  "metadata": {
    "colab": {
      "name": "IncreUpdt_MovieLens_.ipynb",
      "provenance": [],
      "collapsed_sections": [],
      "toc_visible": true
    },
    "kernelspec": {
      "name": "python392jvsc74a57bd01d40221c0336dfe0c468749ccfbce19a4d0ada951efb74219fd3ebf7d78ddc70",
      "display_name": "Python 3.9.2 64-bit ('PSI_project': conda)"
    },
    "language_info": {
      "codemirror_mode": {
        "name": "ipython",
        "version": 3
      },
      "file_extension": ".py",
      "mimetype": "text/x-python",
      "name": "python",
      "nbconvert_exporter": "python",
      "pygments_lexer": "ipython3",
      "version": "3.9.2"
    },
    "metadata": {
      "interpreter": {
        "hash": "1d40221c0336dfe0c468749ccfbce19a4d0ada951efb74219fd3ebf7d78ddc70"
      }
    }
  },
  "cells": [
    {
      "cell_type": "code",
      "metadata": {
        "id": "iAOiZN8XhOgm"
      },
      "source": [
        ""
      ],
      "execution_count": null,
      "outputs": []
    },
    {
      "cell_type": "markdown",
      "metadata": {
        "id": "k4m79fhGhSjI"
      },
      "source": [
        "- This notebook contains experiments for the MovieLens (1M) Dataset for the following models:\n",
        "\n",
        "- **Updated PSI**\n",
        "\n",
        "- **Regular PSI**\n",
        "\n",
        "- **Pure SVD**\n",
        "\n",
        "- **Most Pop**\n",
        "\n",
        "- **Rand Rec**"
      ]
    },
    {
      "cell_type": "code",
      "metadata": {
        "id": "ornBemh4hAYS"
      },
      "source": [
        "import os\n",
        "os.environ[\"OMP_NUM_THREADS\"] = \"8\"        # export OMP_NUM_THREADS=4\n",
        "os.environ[\"OPENBLAS_NUM_THREADS\"] = \"8\"   # export OPENBLAS_NUM_THREADS=4 \n",
        "os.environ[\"MKL_NUM_THREADS\"] = \"8\"        # export MKL_NUM_THREADS=6\n",
        "os.environ[\"VECLIB_MAXIMUM_THREADS\"] = \"8\" # export VECLIB_MAXIMUM_THREADS=478\n",
        "os.environ[\"NUMEXPR_NUM_THREADS\"] = \"8\""
      ],
      "execution_count": null,
      "outputs": []
    },
    {
      "cell_type": "code",
      "metadata": {
        "id": "_04yvnYBhAYZ"
      },
      "source": [
        "#import os; os.environ[\"MKL_NUM_THREADS\"] = \"1\" # as required by implicit"
      ],
      "execution_count": null,
      "outputs": []
    },
    {
      "cell_type": "markdown",
      "metadata": {
        "id": "waGNRsQkGt3t"
      },
      "source": [
        "## Imports"
      ]
    },
    {
      "cell_type": "code",
      "metadata": {
        "id": "LSMrVzzrFcnl"
      },
      "source": [
        "import io\n",
        "import os\n",
        "import gzip\n",
        "import json\n",
        "import scipy\n",
        "import random\n",
        "import warnings\n",
        "import numpy as np\n",
        "import numba as nb\n",
        "import pandas as pd\n",
        "import datetime as dt\n",
        "import seaborn as sns\n",
        "from tqdm import tqdm\n",
        "import scipy.stats as st\n",
        "from collections import OrderedDict\n",
        "import scipy.sparse as sparse\n",
        "from scipy.linalg import orth\n",
        "import matplotlib.pyplot as plt\n",
        "from numpy import linalg as lin\n",
        "import implicit\n",
        "import pickle\n",
        "warnings.filterwarnings('ignore')\n",
        "from scipy.sparse import coo_matrix\n",
        "from scipy.sparse.linalg import svds\n",
        "from datetime import datetime as dt_dt\n",
        "from scipy.sparse.linalg import spsolve\n",
        "from numpy.linalg import qr as QR_decomp\n",
        "from scipy.sparse import csr_matrix, find\n",
        "from pandas.api.types import CategoricalDtype\n",
        "from typing import List\n",
        "import torch\n",
        "import torch.nn.functional as F\n",
        "from torch import nn\n",
        "from polara.evaluation.pipelines import random_grid\n",
        "import bottleneck as bn"
      ],
      "execution_count": null,
      "outputs": []
    },
    {
      "cell_type": "markdown",
      "metadata": {
        "id": "IkLZJhQWqaPp"
      },
      "source": [
        "## Functions"
      ]
    },
    {
      "cell_type": "code",
      "metadata": {
        "id": "Uvv8Q8zR7OAn"
      },
      "source": [
        "import sys\n",
        "sys.path.append('/home/oolaleke/incremental_PSI/Scripts/')\n",
        "#sys.path.append('/content/')"
      ],
      "execution_count": null,
      "outputs": []
    },
    {
      "cell_type": "code",
      "metadata": {
        "id": "qoOQOsCf7849"
      },
      "source": [
        "import a_DataHelpers\n",
        "import b_AlgoFunctions\n",
        "import c_PredEval\n",
        "import d_CorrScores\n",
        "import e_VAEfunction"
      ],
      "execution_count": null,
      "outputs": []
    },
    {
      "cell_type": "code",
      "metadata": {
        "id": "slSdgbc1XxNT"
      },
      "source": [
        "from a_DataHelpers import getPivotMonths,Time_DataSplit,TestTrain_DataSplit,SingleRatingMatrix\n",
        "from a_DataHelpers import AllRatingMatrices,All_SingleStepRatMat,psiStep_RatMat,psiAllStep_RatMat\n",
        "from a_DataHelpers import Find_NewUsersItems,adjustedPSI_DF,adjustedAllDF,get_NEWHoldout,ADJUST_mainDF\n",
        "from a_DataHelpers import  SingleStepRatMat_2,AllSingleStepRatMat_2\n",
        "\n",
        "from b_AlgoFunctions import integrator,getStartingValues,integratorOnMat,last_psiTrainMat, pureSVD\n",
        "from b_AlgoFunctions import Updt_RowMatrix,getRow_Mat,row_update, Updt_ColMatrix,getCol_Mat,colunm_update\n",
        "from b_AlgoFunctions import UsersItems_RatPair,getRowCol_psiupdt,ITEMS_defferredStatus,USERS_defferredStatus\n",
        "from b_AlgoFunctions import getV_listUpdate, SingleStep_UPDATE,ALLSTEPs_UPDATE, auc_score,TrainTest\n",
        "from b_AlgoFunctions import mean_auc,tune_ALS,nonzeros,least_squares_cg,alternating_least_squares_cg\n",
        "from b_AlgoFunctions import HitrEval_noprint,SVDoptimalSearch\n",
        "\n",
        "from c_PredEval import TopNPred,TQDMgetALLTopNPred, Hitrate_Eval,getAll_HitRate,mean_confidence_interval\n",
        "from c_PredEval import TQDMgetALLTopNPred_ALLUSERS,getALLTopNPred_ALLUSERS,get_ALLRandPred\n",
        "from c_PredEval import topN_Index,getAll_RandomHitRate,getMOSTPOP_Pred,getAll_MostPOPHitRate,getAll_MOSTPOP_Pred\n",
        "from c_PredEval import StepCoverage_Ratio,AllSteps_Coverage_Ratio,getAll_VAEMRR, MRR_Eval,getAll_MRR_Eval\n",
        "from c_PredEval import TQDMgetAll_MRR_Eval, getAll_MostPOP_MRR,getAll_RandomRecMRR, ials_TopNPred,ials_getALLPred\n",
        "from c_PredEval import ials_getALLPredTQDM,ials_ALLUSERSpred,ialsALLPred_ALLUSERS,TQDM_ialsALLPred_ALLUSERS\n",
        "\n",
        "from d_CorrScores import no_copy_csr_matrix,build_rank_weights_matrix,rank_weighted_jaccard_index\n",
        "from d_CorrScores import Updt_getAll_AvgCorr, updtCorr_4AllRanks\n",
        "\n",
        "from e_VAEfunction import split_users, split_train_test, numerize_data, get_TrainRatMat, getTrainTest_RatMat"
      ],
      "execution_count": null,
      "outputs": []
    },
    {
      "cell_type": "code",
      "metadata": {
        "id": "Z8W4Wy9AhAYn"
      },
      "source": [
        "def SingleStepRatMat_2(DF,V,user_column,item_column):  ##rows_ = n_users,cols_ = n_items\n",
        "    rows_ = DF[user_column].max()+1 \n",
        "    cols_ = V.shape[0] \n",
        "    \n",
        "    rows0 = DF[user_column].values\n",
        "    cols0 = DF[item_column].values\n",
        "    data  = np.broadcast_to(1., DF.shape[0]) # ignore ratings\n",
        "\n",
        "    A0_Rating_matrix = coo_matrix((data, (rows0, cols0)), shape=(rows_, cols_)).tocsr()\n",
        "    if A0_Rating_matrix.nnz < len(data):\n",
        "        A0_Rating_matrix = A0_Rating_matrix._with_data(np.broadcast_to(1., A0_Rating_matrix.nnz), copy=False)\n",
        "\n",
        "    return A0_Rating_matrix\n",
        "\n",
        "def AllSingleStepRatMat_2(DFList,Vlist,user_column,item_column):\n",
        "    Rating_matrix_list = []\n",
        "    for df,v in zip(DFList,Vlist):\n",
        "        df_Mat = SingleStepRatMat_2(df,v,user_column,item_column)\n",
        "        Rating_matrix_list.append(df_Mat)\n",
        "    return Rating_matrix_list              \n"
      ],
      "execution_count": null,
      "outputs": []
    },
    {
      "cell_type": "markdown",
      "metadata": {
        "id": "e556n8BpXy0b"
      },
      "source": [
        "## Apply Functions on *MovieLenDF*"
      ]
    },
    {
      "cell_type": "markdown",
      "metadata": {
        "id": "Kq7VUKhmJPxP"
      },
      "source": [
        "#Data  Preparation"
      ]
    },
    {
      "cell_type": "code",
      "metadata": {
        "id": "hE6KEjteGV3c",
        "outputId": "ad779426-513c-4c23-d7ec-e5ad885de972"
      },
      "source": [
        "ML1M_DF = pd.read_csv('/mnt/bulky/oolaleke/TDM_Dataset/ML_1M/newIncreMLDF_1M.zip') \n",
        "ML1M_DF['timestamp'] = pd.to_datetime(ML1M_DF['timestamp']) \n",
        "print(ML1M_DF.shape)   #userId_int\n",
        "print(ML1M_DF.dtypes)\n",
        "ML1M_DF"
      ],
      "execution_count": null,
      "outputs": [
        {
          "output_type": "stream",
          "text": [
            "(575281, 7)\n",
            "userId_int               int64\n",
            "movieId_int              int64\n",
            "rating                   int64\n",
            "timestamp       datetime64[ns]\n",
            "userId                   int64\n",
            "productId                int64\n",
            "timestamp_YM            object\n",
            "dtype: object\n"
          ],
          "name": "stdout"
        },
        {
          "output_type": "execute_result",
          "data": {
            "text/plain": [
              "        userId_int  movieId_int  rating           timestamp  userId  \\\n",
              "0             6040          858       1 2000-04-25 23:05:32       0   \n",
              "1             6040         2384       1 2000-04-25 23:05:54       0   \n",
              "2             6040          593       1 2000-04-25 23:05:54       0   \n",
              "3             6040         1961       1 2000-04-25 23:06:17       0   \n",
              "4             6040         2019       1 2000-04-25 23:06:17       0   \n",
              "...            ...          ...     ...                 ...     ...   \n",
              "575276        4958         2453       1 2003-02-28 17:44:20    1081   \n",
              "575277        4958         3489       1 2003-02-28 17:45:20    1081   \n",
              "575278        4958         1407       1 2003-02-28 17:47:23    1081   \n",
              "575279        4958         3264       1 2003-02-28 17:49:08    1081   \n",
              "575280        4958         1924       1 2003-02-28 17:49:50    1081   \n",
              "\n",
              "        productId timestamp_YM  \n",
              "0               0      2000-04  \n",
              "1               1      2000-04  \n",
              "2               2      2000-04  \n",
              "3               3      2000-04  \n",
              "4               4      2000-04  \n",
              "...           ...          ...  \n",
              "575276       1838      2003-02  \n",
              "575277        632      2003-02  \n",
              "575278        677      2003-02  \n",
              "575279       1018      2003-02  \n",
              "575280        656      2003-02  \n",
              "\n",
              "[575281 rows x 7 columns]"
            ],
            "text/html": [
              "<div>\n",
              "<style scoped>\n",
              "    .dataframe tbody tr th:only-of-type {\n",
              "        vertical-align: middle;\n",
              "    }\n",
              "\n",
              "    .dataframe tbody tr th {\n",
              "        vertical-align: top;\n",
              "    }\n",
              "\n",
              "    .dataframe thead th {\n",
              "        text-align: right;\n",
              "    }\n",
              "</style>\n",
              "<table border=\"1\" class=\"dataframe\">\n",
              "  <thead>\n",
              "    <tr style=\"text-align: right;\">\n",
              "      <th></th>\n",
              "      <th>userId_int</th>\n",
              "      <th>movieId_int</th>\n",
              "      <th>rating</th>\n",
              "      <th>timestamp</th>\n",
              "      <th>userId</th>\n",
              "      <th>productId</th>\n",
              "      <th>timestamp_YM</th>\n",
              "    </tr>\n",
              "  </thead>\n",
              "  <tbody>\n",
              "    <tr>\n",
              "      <th>0</th>\n",
              "      <td>6040</td>\n",
              "      <td>858</td>\n",
              "      <td>1</td>\n",
              "      <td>2000-04-25 23:05:32</td>\n",
              "      <td>0</td>\n",
              "      <td>0</td>\n",
              "      <td>2000-04</td>\n",
              "    </tr>\n",
              "    <tr>\n",
              "      <th>1</th>\n",
              "      <td>6040</td>\n",
              "      <td>2384</td>\n",
              "      <td>1</td>\n",
              "      <td>2000-04-25 23:05:54</td>\n",
              "      <td>0</td>\n",
              "      <td>1</td>\n",
              "      <td>2000-04</td>\n",
              "    </tr>\n",
              "    <tr>\n",
              "      <th>2</th>\n",
              "      <td>6040</td>\n",
              "      <td>593</td>\n",
              "      <td>1</td>\n",
              "      <td>2000-04-25 23:05:54</td>\n",
              "      <td>0</td>\n",
              "      <td>2</td>\n",
              "      <td>2000-04</td>\n",
              "    </tr>\n",
              "    <tr>\n",
              "      <th>3</th>\n",
              "      <td>6040</td>\n",
              "      <td>1961</td>\n",
              "      <td>1</td>\n",
              "      <td>2000-04-25 23:06:17</td>\n",
              "      <td>0</td>\n",
              "      <td>3</td>\n",
              "      <td>2000-04</td>\n",
              "    </tr>\n",
              "    <tr>\n",
              "      <th>4</th>\n",
              "      <td>6040</td>\n",
              "      <td>2019</td>\n",
              "      <td>1</td>\n",
              "      <td>2000-04-25 23:06:17</td>\n",
              "      <td>0</td>\n",
              "      <td>4</td>\n",
              "      <td>2000-04</td>\n",
              "    </tr>\n",
              "    <tr>\n",
              "      <th>...</th>\n",
              "      <td>...</td>\n",
              "      <td>...</td>\n",
              "      <td>...</td>\n",
              "      <td>...</td>\n",
              "      <td>...</td>\n",
              "      <td>...</td>\n",
              "      <td>...</td>\n",
              "    </tr>\n",
              "    <tr>\n",
              "      <th>575276</th>\n",
              "      <td>4958</td>\n",
              "      <td>2453</td>\n",
              "      <td>1</td>\n",
              "      <td>2003-02-28 17:44:20</td>\n",
              "      <td>1081</td>\n",
              "      <td>1838</td>\n",
              "      <td>2003-02</td>\n",
              "    </tr>\n",
              "    <tr>\n",
              "      <th>575277</th>\n",
              "      <td>4958</td>\n",
              "      <td>3489</td>\n",
              "      <td>1</td>\n",
              "      <td>2003-02-28 17:45:20</td>\n",
              "      <td>1081</td>\n",
              "      <td>632</td>\n",
              "      <td>2003-02</td>\n",
              "    </tr>\n",
              "    <tr>\n",
              "      <th>575278</th>\n",
              "      <td>4958</td>\n",
              "      <td>1407</td>\n",
              "      <td>1</td>\n",
              "      <td>2003-02-28 17:47:23</td>\n",
              "      <td>1081</td>\n",
              "      <td>677</td>\n",
              "      <td>2003-02</td>\n",
              "    </tr>\n",
              "    <tr>\n",
              "      <th>575279</th>\n",
              "      <td>4958</td>\n",
              "      <td>3264</td>\n",
              "      <td>1</td>\n",
              "      <td>2003-02-28 17:49:08</td>\n",
              "      <td>1081</td>\n",
              "      <td>1018</td>\n",
              "      <td>2003-02</td>\n",
              "    </tr>\n",
              "    <tr>\n",
              "      <th>575280</th>\n",
              "      <td>4958</td>\n",
              "      <td>1924</td>\n",
              "      <td>1</td>\n",
              "      <td>2003-02-28 17:49:50</td>\n",
              "      <td>1081</td>\n",
              "      <td>656</td>\n",
              "      <td>2003-02</td>\n",
              "    </tr>\n",
              "  </tbody>\n",
              "</table>\n",
              "<p>575281 rows × 7 columns</p>\n",
              "</div>"
            ]
          },
          "metadata": {
            "tags": []
          },
          "execution_count": 30
        }
      ]
    },
    {
      "cell_type": "code",
      "metadata": {
        "colab": {
          "base_uri": "https://localhost:8080/"
        },
        "id": "2XWFDaGwFFCR",
        "outputId": "3fdc693b-c261-4c90-c686-89a29fab2ad9"
      },
      "source": [
        "print(ML1M_DF.shape)\n",
        "print(\"For users: \")\n",
        "print(ML1M_DF['userId'].nunique())\n",
        "print(ML1M_DF['userId'].max())\n",
        "print()\n",
        "print(\"For items: \")\n",
        "print(ML1M_DF['productId'].nunique())\n",
        "print(ML1M_DF['productId'].max())\n",
        "print()\n",
        "print(\"Timestamp\")\n",
        "print(ML1M_DF['timestamp'].min())\n",
        "print(ML1M_DF['timestamp'].max())"
      ],
      "execution_count": null,
      "outputs": [
        {
          "output_type": "stream",
          "text": [
            "(575281, 7)\n",
            "For users: \n",
            "6038\n",
            "6037\n",
            "\n",
            "For items: \n",
            "3533\n",
            "3532\n",
            "\n",
            "Timestamp\n",
            "2000-04-25 23:05:32\n",
            "2003-02-28 17:49:50\n"
          ],
          "name": "stdout"
        }
      ]
    },
    {
      "cell_type": "code",
      "metadata": {
        "id": "xlbzMS4hGeF3"
      },
      "source": [
        ""
      ],
      "execution_count": null,
      "outputs": []
    },
    {
      "cell_type": "markdown",
      "metadata": {
        "id": "KwnnNu5ISAOR"
      },
      "source": [
        "**Data Split**"
      ]
    },
    {
      "cell_type": "code",
      "metadata": {
        "colab": {
          "base_uri": "https://localhost:8080/"
        },
        "id": "iMlutJ-GSAOT",
        "outputId": "a50b2e42-5c64-4264-cbbf-96f44bab0809"
      },
      "source": [
        "print(\"Size of Dataset: \", ML1M_DF.shape)\n",
        "print('Min Date: ', ML1M_DF['timestamp'].min())\n",
        "print(\"Max Date: \",ML1M_DF['timestamp'].max())"
      ],
      "execution_count": null,
      "outputs": [
        {
          "output_type": "stream",
          "text": [
            "Size of Dataset:  (575281, 7)\n",
            "Min Date:  2000-04-25 23:05:32\n",
            "Max Date:  2003-02-28 17:49:50\n"
          ],
          "name": "stdout"
        }
      ]
    },
    {
      "cell_type": "code",
      "metadata": {
        "colab": {
          "base_uri": "https://localhost:8080/"
        },
        "id": "Jqqxa8AOSAOd",
        "outputId": "71798581-1161-4a56-9c83-46298fdf5517"
      },
      "source": [
        "train_df = ML1M_DF[ML1M_DF['timestamp_YM'] < '2000-12']    #'2016-02\n",
        "print(\"DF Shape: \",train_df['userId'].shape)  ##63%\n",
        "print(\"NUsers  : \",train_df['userId'].nunique())"
      ],
      "execution_count": null,
      "outputs": [
        {
          "output_type": "stream",
          "text": [
            "DF Shape:  (458067,)\n",
            "NUsers  :  5361\n"
          ],
          "name": "stdout"
        }
      ]
    },
    {
      "cell_type": "code",
      "metadata": {
        "colab": {
          "base_uri": "https://localhost:8080/"
        },
        "id": "XkUSFKB1SAOe",
        "outputId": "ff91b6bf-4f5a-45fd-c9bb-7a5746118748"
      },
      "source": [
        "remainder_df = ML1M_DF[ML1M_DF['timestamp_YM'] >= '2000-12']  \n",
        "print(remainder_df['userId'].nunique())\n",
        "print(remainder_df.shape)"
      ],
      "execution_count": null,
      "outputs": [
        {
          "output_type": "stream",
          "text": [
            "1801\n",
            "(117214, 7)\n"
          ],
          "name": "stdout"
        }
      ]
    },
    {
      "cell_type": "code",
      "metadata": {
        "colab": {
          "base_uri": "https://localhost:8080/"
        },
        "id": "6TDHVuxGSAOf",
        "outputId": "0526a446-9cdf-465e-c2fb-ffd4edcc51c3"
      },
      "source": [
        "n = 8500  #num_of_interaction/no_steps\n",
        "all_df = []\n",
        "for g, df in remainder_df.groupby(np.arange(len(remainder_df)) // n):\n",
        "    all_df.append(df)\n",
        "    print(df['userId'].nunique())\n",
        "print()\n",
        "print(g+1)    "
      ],
      "execution_count": null,
      "outputs": [
        {
          "output_type": "stream",
          "text": [
            "213\n",
            "197\n",
            "148\n",
            "194\n",
            "233\n",
            "255\n",
            "286\n",
            "309\n",
            "468\n",
            "526\n",
            "517\n",
            "470\n",
            "453\n",
            "362\n",
            "\n",
            "14\n"
          ],
          "name": "stdout"
        }
      ]
    },
    {
      "cell_type": "code",
      "metadata": {
        "id": "l96vNu21SAOi"
      },
      "source": [
        ""
      ],
      "execution_count": null,
      "outputs": []
    },
    {
      "cell_type": "markdown",
      "metadata": {
        "id": "CfrlfYwtg0RR"
      },
      "source": [
        "**Traintest Split**"
      ]
    },
    {
      "cell_type": "code",
      "metadata": {
        "id": "3gAygjGd8NFK",
        "colab": {
          "base_uri": "https://localhost:8080/"
        },
        "outputId": "b819133d-8aa2-431f-bb5a-224e80dd08e3"
      },
      "source": [
        "A0_df = train_df  \n",
        "print(\"Initial Training Data: \") \n",
        "print(\"Start Time: \",A0_df['timestamp'].min())\n",
        "print(\"End Time:   \",A0_df['timestamp'].max())\n",
        "print()\n",
        "print(\"Num of interactions: \",A0_df.shape[0])\n",
        "print(\"Num of uniqueUsers:  \",A0_df['userId'].nunique())"
      ],
      "execution_count": null,
      "outputs": [
        {
          "output_type": "stream",
          "text": [
            "Initial Training Data: \n",
            "Start Time:  2000-04-25 23:05:32\n",
            "End Time:    2000-11-30 23:59:47\n",
            "\n",
            "Num of interactions:  458067\n",
            "Num of uniqueUsers:   5361\n"
          ],
          "name": "stdout"
        }
      ]
    },
    {
      "cell_type": "code",
      "metadata": {
        "id": "FSvG81Gs8NFL",
        "colab": {
          "base_uri": "https://localhost:8080/"
        },
        "outputId": "5e2ab424-5b82-40ad-9b4d-e24c9caae7f1"
      },
      "source": [
        "ΔA_train = all_df[:4] \n",
        "print(\"Incremental Train steps: \",len(ΔA_train))\n",
        "print(\"Start Time: \",ΔA_train[0]['timestamp'].min())\n",
        "print(\"End Time:   \",ΔA_train[-1]['timestamp'].max())\n",
        "\n"
      ],
      "execution_count": null,
      "outputs": [
        {
          "output_type": "stream",
          "text": [
            "Incremental Train steps:  4\n",
            "Start Time:  2000-12-01 00:00:15\n",
            "End Time:    2000-12-10 04:09:37\n"
          ],
          "name": "stdout"
        }
      ]
    },
    {
      "cell_type": "code",
      "metadata": {
        "id": "2V6tLApz8NFM",
        "colab": {
          "base_uri": "https://localhost:8080/"
        },
        "outputId": "060fe08e-1bb3-4047-cb13-7d3d9c2136c5"
      },
      "source": [
        "ΔA_test = all_df[4:] \n",
        "print(\"Incremental Test steps: \",len(ΔA_test))\n",
        "print(\"Start Time: \",ΔA_test[0]['timestamp'].min())\n",
        "print(\"End Time:   \",ΔA_test[-1]['timestamp'].max())"
      ],
      "execution_count": null,
      "outputs": [
        {
          "output_type": "stream",
          "text": [
            "Incremental Test steps:  10\n",
            "Start Time:  2000-12-10 04:09:37\n",
            "End Time:    2003-02-28 17:49:50\n"
          ],
          "name": "stdout"
        }
      ]
    },
    {
      "cell_type": "code",
      "metadata": {
        "id": "O_HSp4Ax8NFN",
        "colab": {
          "base_uri": "https://localhost:8080/"
        },
        "outputId": "ab3d83e1-0094-4bac-a742-b33de1072bb7"
      },
      "source": [
        "ΔA_test[0]['timestamp'].max()"
      ],
      "execution_count": null,
      "outputs": [
        {
          "output_type": "execute_result",
          "data": {
            "text/plain": [
              "Timestamp('2000-12-14 00:34:30')"
            ]
          },
          "metadata": {
            "tags": []
          },
          "execution_count": 39
        }
      ]
    },
    {
      "cell_type": "code",
      "metadata": {
        "id": "baVjA5xh8NFT",
        "colab": {
          "base_uri": "https://localhost:8080/"
        },
        "outputId": "0bc578ff-c30c-40e5-d3a7-02b7c9e770ed"
      },
      "source": [
        "AllDF_list, PSITest_list, HOLDOUT_list,UserItemDF_list = TestTrain_DataSplit(ML1M_DF,'userId','timestamp',ΔA_test)\n",
        "print(AllDF_list[1]['timestamp'].min())\n",
        "print(AllDF_list[1]['timestamp'].max())\n",
        "print()\n",
        "print(ΔA_test[1]['timestamp'].min())\n",
        "print(ΔA_test[1]['timestamp'].max())"
      ],
      "execution_count": null,
      "outputs": [
        {
          "output_type": "stream",
          "text": [
            "2000-04-25 23:05:32\n",
            "2000-12-19 13:44:29\n",
            "\n",
            "2000-12-14 00:36:17\n",
            "2000-12-19 13:44:29\n"
          ],
          "name": "stdout"
        }
      ]
    },
    {
      "cell_type": "code",
      "metadata": {
        "id": "FXqq0BEw8NFW",
        "colab": {
          "base_uri": "https://localhost:8080/"
        },
        "outputId": "4544d831-2883-4a11-d8a6-b50016b50dd8"
      },
      "source": [
        "for i in range(10):\n",
        "    print(AllDF_list[i]['userId'].max(),AllDF_list[i]['userId'].nunique())"
      ],
      "execution_count": null,
      "outputs": [
        {
          "output_type": "stream",
          "text": [
            "5787 5788\n",
            "5869 5870\n",
            "5973 5974\n",
            "6029 6030\n",
            "6029 6030\n",
            "6030 6031\n",
            "6032 6033\n",
            "6034 6035\n",
            "6035 6036\n",
            "6037 6038\n"
          ],
          "name": "stdout"
        }
      ]
    },
    {
      "cell_type": "code",
      "metadata": {
        "id": "C9_iraoz8NFY",
        "colab": {
          "base_uri": "https://localhost:8080/"
        },
        "outputId": "fac1b830-7f41-4957-afd2-e8f3858fd464"
      },
      "source": [
        "print(ΔA_test[2].shape)\n",
        "print(PSITest_list[2].shape)\n",
        "print(HOLDOUT_list[2]['userId'].nunique())"
      ],
      "execution_count": null,
      "outputs": [
        {
          "output_type": "stream",
          "text": [
            "(8500, 7)\n",
            "(8214, 7)\n",
            "286\n"
          ],
          "name": "stdout"
        }
      ]
    },
    {
      "cell_type": "markdown",
      "metadata": {
        "id": "dzWCij3ZipQX"
      },
      "source": [
        "**Find new users and items**"
      ]
    },
    {
      "cell_type": "code",
      "metadata": {
        "colab": {
          "base_uri": "https://localhost:8080/"
        },
        "id": "L-GolZfZipQZ",
        "outputId": "9670753c-d17e-45a4-f73e-c95d1fe4d0ee"
      },
      "source": [
        "Tstps = ML1M_DF['timestamp']\n",
        "tr_ts = ΔA_train[-1]['timestamp'].max()\n",
        "print(\"ΔA_train_last max date: \",tr_ts)\n",
        "AllDF_start = ML1M_DF.loc[Tstps <= tr_ts] \n",
        "print(AllDF_start['timestamp'].min())\n",
        "print(AllDF_start['timestamp'].max())\n",
        "print()\n",
        "print(AllDF_list[0]['timestamp'].min())\n",
        "print(AllDF_list[0]['timestamp'].max())"
      ],
      "execution_count": null,
      "outputs": [
        {
          "output_type": "stream",
          "text": [
            "ΔA_train_last max date:  2000-12-10 04:09:37\n",
            "2000-04-25 23:05:32\n",
            "2000-12-10 04:09:37\n",
            "\n",
            "2000-04-25 23:05:32\n",
            "2000-12-14 00:34:30\n"
          ],
          "name": "stdout"
        }
      ]
    },
    {
      "cell_type": "code",
      "metadata": {
        "colab": {
          "base_uri": "https://localhost:8080/"
        },
        "id": "GfgYKuugA3lO",
        "outputId": "93ffa1b9-9a78-46ad-e657-f4afc2d46081"
      },
      "source": [
        "New_usersList,New_itemsList = Find_NewUsersItems(AllDF_start,AllDF_list,'userId','productId',N_steps=10)\n",
        "print(New_usersList[0][:10]) #\n",
        "print()\n",
        "print(New_itemsList[0][:10]) #"
      ],
      "execution_count": null,
      "outputs": [
        {
          "output_type": "stream",
          "text": [
            "[5711 5712 5713 5714 5715 5716 5717 5718 5719 5720]\n",
            "\n",
            "[3478 3479 3480 3481 3482 3483]\n"
          ],
          "name": "stdout"
        }
      ]
    },
    {
      "cell_type": "code",
      "metadata": {
        "colab": {
          "base_uri": "https://localhost:8080/"
        },
        "id": "KXIsxxPnjhx2",
        "outputId": "89e48312-1337-44fd-c912-c49f7829ef23"
      },
      "source": [
        "print(\"users,Items\")\n",
        "for i,j in zip(New_usersList,New_itemsList):\n",
        "    print(i.size,j.size)\n",
        "    print()\n",
        "    "
      ],
      "execution_count": null,
      "outputs": [
        {
          "output_type": "stream",
          "text": [
            "users,Items\n",
            "77 6\n",
            "\n",
            "82 5\n",
            "\n",
            "104 0\n",
            "\n",
            "56 6\n",
            "\n",
            "0 5\n",
            "\n",
            "1 5\n",
            "\n",
            "2 7\n",
            "\n",
            "2 9\n",
            "\n",
            "1 9\n",
            "\n",
            "2 3\n",
            "\n"
          ],
          "name": "stdout"
        }
      ]
    },
    {
      "cell_type": "code",
      "metadata": {
        "id": "4P6ChRMChAZP"
      },
      "source": [
        ""
      ],
      "execution_count": null,
      "outputs": []
    },
    {
      "cell_type": "markdown",
      "metadata": {
        "id": "6g26LsG1jMa8"
      },
      "source": [
        "**Rank Tuning**"
      ]
    },
    {
      "cell_type": "code",
      "metadata": {
        "id": "1ykECNc7G4GL"
      },
      "source": [
        "########## #####\n",
        "#Rank Tuning \n",
        "######### ######"
      ],
      "execution_count": null,
      "outputs": []
    },
    {
      "cell_type": "code",
      "metadata": {
        "id": "9FvJMA0qhAZS",
        "outputId": "85d6d0eb-1357-4f50-b8ae-ed1148d55349"
      },
      "source": [
        "#MOVIElen_1M\n",
        "newMLDF_1M = pd.read_csv('/mnt/bulky/oolaleke/TDM_Dataset/ML_1M/MLDF1M_afterUpdt.csv.zip')\n",
        "newMLDF_1M['timestamp'] = pd.to_datetime(newMLDF_1M['timestamp']) \n",
        "print(newMLDF_1M.shape)   #userId_int\n",
        "newMLDF_1M.head()"
      ],
      "execution_count": null,
      "outputs": [
        {
          "output_type": "stream",
          "text": [
            "(575281, 9)\n"
          ],
          "name": "stdout"
        },
        {
          "output_type": "execute_result",
          "data": {
            "text/plain": [
              "   userId_int  movieId_int  rating           timestamp  userId  productId  \\\n",
              "0        6040          858       1 2000-04-25 23:05:32       0          0   \n",
              "1        6040         2384       1 2000-04-25 23:05:54       0          1   \n",
              "2        6040          593       1 2000-04-25 23:05:54       0          2   \n",
              "3        6040         1961       1 2000-04-25 23:06:17       0          3   \n",
              "4        6040         2019       1 2000-04-25 23:06:17       0          4   \n",
              "\n",
              "  timestamp_YM  Updated_UserID  Updated_ItemID  \n",
              "0      2000-04               0               0  \n",
              "1      2000-04               0               1  \n",
              "2      2000-04               0               2  \n",
              "3      2000-04               0               3  \n",
              "4      2000-04               0               4  "
            ],
            "text/html": [
              "<div>\n",
              "<style scoped>\n",
              "    .dataframe tbody tr th:only-of-type {\n",
              "        vertical-align: middle;\n",
              "    }\n",
              "\n",
              "    .dataframe tbody tr th {\n",
              "        vertical-align: top;\n",
              "    }\n",
              "\n",
              "    .dataframe thead th {\n",
              "        text-align: right;\n",
              "    }\n",
              "</style>\n",
              "<table border=\"1\" class=\"dataframe\">\n",
              "  <thead>\n",
              "    <tr style=\"text-align: right;\">\n",
              "      <th></th>\n",
              "      <th>userId_int</th>\n",
              "      <th>movieId_int</th>\n",
              "      <th>rating</th>\n",
              "      <th>timestamp</th>\n",
              "      <th>userId</th>\n",
              "      <th>productId</th>\n",
              "      <th>timestamp_YM</th>\n",
              "      <th>Updated_UserID</th>\n",
              "      <th>Updated_ItemID</th>\n",
              "    </tr>\n",
              "  </thead>\n",
              "  <tbody>\n",
              "    <tr>\n",
              "      <th>0</th>\n",
              "      <td>6040</td>\n",
              "      <td>858</td>\n",
              "      <td>1</td>\n",
              "      <td>2000-04-25 23:05:32</td>\n",
              "      <td>0</td>\n",
              "      <td>0</td>\n",
              "      <td>2000-04</td>\n",
              "      <td>0</td>\n",
              "      <td>0</td>\n",
              "    </tr>\n",
              "    <tr>\n",
              "      <th>1</th>\n",
              "      <td>6040</td>\n",
              "      <td>2384</td>\n",
              "      <td>1</td>\n",
              "      <td>2000-04-25 23:05:54</td>\n",
              "      <td>0</td>\n",
              "      <td>1</td>\n",
              "      <td>2000-04</td>\n",
              "      <td>0</td>\n",
              "      <td>1</td>\n",
              "    </tr>\n",
              "    <tr>\n",
              "      <th>2</th>\n",
              "      <td>6040</td>\n",
              "      <td>593</td>\n",
              "      <td>1</td>\n",
              "      <td>2000-04-25 23:05:54</td>\n",
              "      <td>0</td>\n",
              "      <td>2</td>\n",
              "      <td>2000-04</td>\n",
              "      <td>0</td>\n",
              "      <td>2</td>\n",
              "    </tr>\n",
              "    <tr>\n",
              "      <th>3</th>\n",
              "      <td>6040</td>\n",
              "      <td>1961</td>\n",
              "      <td>1</td>\n",
              "      <td>2000-04-25 23:06:17</td>\n",
              "      <td>0</td>\n",
              "      <td>3</td>\n",
              "      <td>2000-04</td>\n",
              "      <td>0</td>\n",
              "      <td>3</td>\n",
              "    </tr>\n",
              "    <tr>\n",
              "      <th>4</th>\n",
              "      <td>6040</td>\n",
              "      <td>2019</td>\n",
              "      <td>1</td>\n",
              "      <td>2000-04-25 23:06:17</td>\n",
              "      <td>0</td>\n",
              "      <td>4</td>\n",
              "      <td>2000-04</td>\n",
              "      <td>0</td>\n",
              "      <td>4</td>\n",
              "    </tr>\n",
              "  </tbody>\n",
              "</table>\n",
              "</div>"
            ]
          },
          "metadata": {
            "tags": []
          },
          "execution_count": 9
        }
      ]
    },
    {
      "cell_type": "code",
      "metadata": {
        "id": "ffqyX9HBhAZT"
      },
      "source": [
        "\n",
        "import pickle\n",
        "with open('/mnt/bulky/oolaleke/TDM_Dataset/ML_1M/MLDF1M_newHoldout.pkl', 'rb') as f:\n",
        "     newHoldout_list = pickle.load(f)     \n",
        "    \n",
        "with open('/mnt/bulky/oolaleke/TDM_Dataset/ML_1M/MLDF1M_newUserItem.pkl', 'rb') as f:\n",
        "     newUserItem_list = pickle.load(f)  "
      ],
      "execution_count": null,
      "outputs": []
    },
    {
      "cell_type": "code",
      "metadata": {
        "id": "ZL3zEA5chAZV",
        "outputId": "4ad5a3b0-3a32-4bdd-fd90-f69bb53ed182"
      },
      "source": [
        "rows_i = newMLDF_1M['Updated_UserID'].nunique()\n",
        "cols_i = newMLDF_1M['Updated_ItemID'].nunique()\n",
        "SVD_UserItemMAT = AllRatingMatrices(newUserItem_list,'Updated_UserID','Updated_ItemID',rows_i ,cols_i) ##Same as UserItemMAT_regPSI\n",
        "SVD_UserItemMAT"
      ],
      "execution_count": null,
      "outputs": [
        {
          "output_type": "execute_result",
          "data": {
            "text/plain": [
              "[<6038x3533 sparse matrix of type '<class 'numpy.float64'>'\n",
              " \twith 500332 stored elements in Compressed Sparse Row format>,\n",
              " <6038x3533 sparse matrix of type '<class 'numpy.float64'>'\n",
              " \twith 508812 stored elements in Compressed Sparse Row format>,\n",
              " <6038x3533 sparse matrix of type '<class 'numpy.float64'>'\n",
              " \twith 517278 stored elements in Compressed Sparse Row format>,\n",
              " <6038x3533 sparse matrix of type '<class 'numpy.float64'>'\n",
              " \twith 525757 stored elements in Compressed Sparse Row format>,\n",
              " <6038x3533 sparse matrix of type '<class 'numpy.float64'>'\n",
              " \twith 534098 stored elements in Compressed Sparse Row format>,\n",
              " <6038x3533 sparse matrix of type '<class 'numpy.float64'>'\n",
              " \twith 542538 stored elements in Compressed Sparse Row format>,\n",
              " <6038x3533 sparse matrix of type '<class 'numpy.float64'>'\n",
              " \twith 551048 stored elements in Compressed Sparse Row format>,\n",
              " <6038x3533 sparse matrix of type '<class 'numpy.float64'>'\n",
              " \twith 559597 stored elements in Compressed Sparse Row format>,\n",
              " <6038x3533 sparse matrix of type '<class 'numpy.float64'>'\n",
              " \twith 568114 stored elements in Compressed Sparse Row format>,\n",
              " <6038x3533 sparse matrix of type '<class 'numpy.float64'>'\n",
              " \twith 574919 stored elements in Compressed Sparse Row format>]"
            ]
          },
          "metadata": {
            "tags": []
          },
          "execution_count": 14
        }
      ]
    },
    {
      "cell_type": "code",
      "metadata": {
        "id": "vYuL3sYehAZX"
      },
      "source": [
        ""
      ],
      "execution_count": null,
      "outputs": []
    },
    {
      "cell_type": "code",
      "metadata": {
        "id": "5pYeBFmuhAZX",
        "outputId": "f2b93e57-00cb-4251-d764-f85ddea67449"
      },
      "source": [
        "AllHitr_,maxhit,maxrank = SVDoptimalSearch(SVD_UserItemMAT[0],newHoldout_list[0],'Updated_UserID','Updated_ItemID',start=10,end=200,increment=10,N=10)"
      ],
      "execution_count": null,
      "outputs": [
        {
          "output_type": "stream",
          "text": [
            " 10%|█         | 2/20 [00:00<00:03,  5.88it/s]\n",
            " Max Rank: 10 | HitRate:0.06437768240343347\n",
            "\n",
            " Max Rank: 20 | HitRate:0.07296137339055794\n",
            "100%|██████████| 20/20 [00:15<00:00,  1.30it/s]\n",
            " Best-Params; Max Rank: 20 | HitRate: 0.07296137339055794\n",
            "\n"
          ],
          "name": "stderr"
        }
      ]
    },
    {
      "cell_type": "code",
      "metadata": {
        "id": "aCdGdKmEhAZY",
        "outputId": "0c694c78-411e-4bfa-c480-b9b1cc48d5ff"
      },
      "source": [
        "print(maxhit,maxrank )\n",
        "rank_list = list(range(10,201,10))\n",
        "print(rank_list)"
      ],
      "execution_count": null,
      "outputs": [
        {
          "output_type": "stream",
          "text": [
            "0.07296137339055794 20\n",
            "[10, 20, 30, 40, 50, 60, 70, 80, 90, 100, 110, 120, 130, 140, 150, 160, 170, 180, 190, 200]\n"
          ],
          "name": "stdout"
        }
      ]
    },
    {
      "cell_type": "code",
      "metadata": {
        "id": "HyOAIFhuhAZZ",
        "outputId": "4896f760-76a8-4f5c-a792-f66f73ff531e"
      },
      "source": [
        "plt.figure(figsize=(12,8))  \n",
        "plt.plot(rank_list,AllHitr_)   ###Max == 100\n",
        "plt.grid()"
      ],
      "execution_count": null,
      "outputs": [
        {
          "output_type": "display_data",
          "data": {
            "text/plain": [
              "<Figure size 864x576 with 1 Axes>"
            ],
            "image/svg+xml": "<?xml version=\"1.0\" encoding=\"utf-8\" standalone=\"no\"?>\n<!DOCTYPE svg PUBLIC \"-//W3C//DTD SVG 1.1//EN\"\n  \"http://www.w3.org/Graphics/SVG/1.1/DTD/svg11.dtd\">\n<svg height=\"465.958125pt\" version=\"1.1\" viewBox=\"0 0 713.265625 465.958125\" width=\"713.265625pt\" xmlns=\"http://www.w3.org/2000/svg\" xmlns:xlink=\"http://www.w3.org/1999/xlink\">\n <metadata>\n  <rdf:RDF xmlns:cc=\"http://creativecommons.org/ns#\" xmlns:dc=\"http://purl.org/dc/elements/1.1/\" xmlns:rdf=\"http://www.w3.org/1999/02/22-rdf-syntax-ns#\">\n   <cc:Work>\n    <dc:type rdf:resource=\"http://purl.org/dc/dcmitype/StillImage\"/>\n    <dc:date>2021-05-22T22:45:57.387439</dc:date>\n    <dc:format>image/svg+xml</dc:format>\n    <dc:creator>\n     <cc:Agent>\n      <dc:title>Matplotlib v3.4.1, https://matplotlib.org/</dc:title>\n     </cc:Agent>\n    </dc:creator>\n   </cc:Work>\n  </rdf:RDF>\n </metadata>\n <defs>\n  <style type=\"text/css\">*{stroke-linecap:butt;stroke-linejoin:round;}</style>\n </defs>\n <g id=\"figure_1\">\n  <g id=\"patch_1\">\n   <path d=\"M 0 465.958125 \nL 713.265625 465.958125 \nL 713.265625 0 \nL 0 0 \nz\n\" style=\"fill:none;\"/>\n  </g>\n  <g id=\"axes_1\">\n   <g id=\"patch_2\">\n    <path d=\"M 36.465625 442.08 \nL 706.065625 442.08 \nL 706.065625 7.2 \nL 36.465625 7.2 \nz\n\" style=\"fill:#ffffff;\"/>\n   </g>\n   <g id=\"matplotlib.axis_1\">\n    <g id=\"xtick_1\">\n     <g id=\"line2d_1\">\n      <path clip-path=\"url(#pa22e14aa63)\" d=\"M 114.959405 442.08 \nL 114.959405 7.2 \n\" style=\"fill:none;stroke:#b0b0b0;stroke-linecap:square;stroke-width:0.8;\"/>\n     </g>\n     <g id=\"line2d_2\">\n      <defs>\n       <path d=\"M 0 0 \nL 0 3.5 \n\" id=\"m0bf72b1ad4\" style=\"stroke:#000000;stroke-width:0.8;\"/>\n      </defs>\n      <g>\n       <use style=\"stroke:#000000;stroke-width:0.8;\" x=\"114.959405\" xlink:href=\"#m0bf72b1ad4\" y=\"442.08\"/>\n      </g>\n     </g>\n     <g id=\"text_1\">\n      <!-- 25 -->\n      <g transform=\"translate(108.596905 456.678437)scale(0.1 -0.1)\">\n       <defs>\n        <path d=\"M 1228 531 \nL 3431 531 \nL 3431 0 \nL 469 0 \nL 469 531 \nQ 828 903 1448 1529 \nQ 2069 2156 2228 2338 \nQ 2531 2678 2651 2914 \nQ 2772 3150 2772 3378 \nQ 2772 3750 2511 3984 \nQ 2250 4219 1831 4219 \nQ 1534 4219 1204 4116 \nQ 875 4013 500 3803 \nL 500 4441 \nQ 881 4594 1212 4672 \nQ 1544 4750 1819 4750 \nQ 2544 4750 2975 4387 \nQ 3406 4025 3406 3419 \nQ 3406 3131 3298 2873 \nQ 3191 2616 2906 2266 \nQ 2828 2175 2409 1742 \nQ 1991 1309 1228 531 \nz\n\" id=\"DejaVuSans-32\" transform=\"scale(0.015625)\"/>\n        <path d=\"M 691 4666 \nL 3169 4666 \nL 3169 4134 \nL 1269 4134 \nL 1269 2991 \nQ 1406 3038 1543 3061 \nQ 1681 3084 1819 3084 \nQ 2600 3084 3056 2656 \nQ 3513 2228 3513 1497 \nQ 3513 744 3044 326 \nQ 2575 -91 1722 -91 \nQ 1428 -91 1123 -41 \nQ 819 9 494 109 \nL 494 744 \nQ 775 591 1075 516 \nQ 1375 441 1709 441 \nQ 2250 441 2565 725 \nQ 2881 1009 2881 1497 \nQ 2881 1984 2565 2268 \nQ 2250 2553 1709 2553 \nQ 1456 2553 1204 2497 \nQ 953 2441 691 2322 \nL 691 4666 \nz\n\" id=\"DejaVuSans-35\" transform=\"scale(0.015625)\"/>\n       </defs>\n       <use xlink:href=\"#DejaVuSans-32\"/>\n       <use x=\"63.623047\" xlink:href=\"#DejaVuSans-35\"/>\n      </g>\n     </g>\n    </g>\n    <g id=\"xtick_2\">\n     <g id=\"line2d_3\">\n      <path clip-path=\"url(#pa22e14aa63)\" d=\"M 195.055099 442.08 \nL 195.055099 7.2 \n\" style=\"fill:none;stroke:#b0b0b0;stroke-linecap:square;stroke-width:0.8;\"/>\n     </g>\n     <g id=\"line2d_4\">\n      <g>\n       <use style=\"stroke:#000000;stroke-width:0.8;\" x=\"195.055099\" xlink:href=\"#m0bf72b1ad4\" y=\"442.08\"/>\n      </g>\n     </g>\n     <g id=\"text_2\">\n      <!-- 50 -->\n      <g transform=\"translate(188.692599 456.678437)scale(0.1 -0.1)\">\n       <defs>\n        <path d=\"M 2034 4250 \nQ 1547 4250 1301 3770 \nQ 1056 3291 1056 2328 \nQ 1056 1369 1301 889 \nQ 1547 409 2034 409 \nQ 2525 409 2770 889 \nQ 3016 1369 3016 2328 \nQ 3016 3291 2770 3770 \nQ 2525 4250 2034 4250 \nz\nM 2034 4750 \nQ 2819 4750 3233 4129 \nQ 3647 3509 3647 2328 \nQ 3647 1150 3233 529 \nQ 2819 -91 2034 -91 \nQ 1250 -91 836 529 \nQ 422 1150 422 2328 \nQ 422 3509 836 4129 \nQ 1250 4750 2034 4750 \nz\n\" id=\"DejaVuSans-30\" transform=\"scale(0.015625)\"/>\n       </defs>\n       <use xlink:href=\"#DejaVuSans-35\"/>\n       <use x=\"63.623047\" xlink:href=\"#DejaVuSans-30\"/>\n      </g>\n     </g>\n    </g>\n    <g id=\"xtick_3\">\n     <g id=\"line2d_5\">\n      <path clip-path=\"url(#pa22e14aa63)\" d=\"M 275.150792 442.08 \nL 275.150792 7.2 \n\" style=\"fill:none;stroke:#b0b0b0;stroke-linecap:square;stroke-width:0.8;\"/>\n     </g>\n     <g id=\"line2d_6\">\n      <g>\n       <use style=\"stroke:#000000;stroke-width:0.8;\" x=\"275.150792\" xlink:href=\"#m0bf72b1ad4\" y=\"442.08\"/>\n      </g>\n     </g>\n     <g id=\"text_3\">\n      <!-- 75 -->\n      <g transform=\"translate(268.788292 456.678437)scale(0.1 -0.1)\">\n       <defs>\n        <path d=\"M 525 4666 \nL 3525 4666 \nL 3525 4397 \nL 1831 0 \nL 1172 0 \nL 2766 4134 \nL 525 4134 \nL 525 4666 \nz\n\" id=\"DejaVuSans-37\" transform=\"scale(0.015625)\"/>\n       </defs>\n       <use xlink:href=\"#DejaVuSans-37\"/>\n       <use x=\"63.623047\" xlink:href=\"#DejaVuSans-35\"/>\n      </g>\n     </g>\n    </g>\n    <g id=\"xtick_4\">\n     <g id=\"line2d_7\">\n      <path clip-path=\"url(#pa22e14aa63)\" d=\"M 355.246486 442.08 \nL 355.246486 7.2 \n\" style=\"fill:none;stroke:#b0b0b0;stroke-linecap:square;stroke-width:0.8;\"/>\n     </g>\n     <g id=\"line2d_8\">\n      <g>\n       <use style=\"stroke:#000000;stroke-width:0.8;\" x=\"355.246486\" xlink:href=\"#m0bf72b1ad4\" y=\"442.08\"/>\n      </g>\n     </g>\n     <g id=\"text_4\">\n      <!-- 100 -->\n      <g transform=\"translate(345.702736 456.678437)scale(0.1 -0.1)\">\n       <defs>\n        <path d=\"M 794 531 \nL 1825 531 \nL 1825 4091 \nL 703 3866 \nL 703 4441 \nL 1819 4666 \nL 2450 4666 \nL 2450 531 \nL 3481 531 \nL 3481 0 \nL 794 0 \nL 794 531 \nz\n\" id=\"DejaVuSans-31\" transform=\"scale(0.015625)\"/>\n       </defs>\n       <use xlink:href=\"#DejaVuSans-31\"/>\n       <use x=\"63.623047\" xlink:href=\"#DejaVuSans-30\"/>\n       <use x=\"127.246094\" xlink:href=\"#DejaVuSans-30\"/>\n      </g>\n     </g>\n    </g>\n    <g id=\"xtick_5\">\n     <g id=\"line2d_9\">\n      <path clip-path=\"url(#pa22e14aa63)\" d=\"M 435.34218 442.08 \nL 435.34218 7.2 \n\" style=\"fill:none;stroke:#b0b0b0;stroke-linecap:square;stroke-width:0.8;\"/>\n     </g>\n     <g id=\"line2d_10\">\n      <g>\n       <use style=\"stroke:#000000;stroke-width:0.8;\" x=\"435.34218\" xlink:href=\"#m0bf72b1ad4\" y=\"442.08\"/>\n      </g>\n     </g>\n     <g id=\"text_5\">\n      <!-- 125 -->\n      <g transform=\"translate(425.79843 456.678437)scale(0.1 -0.1)\">\n       <use xlink:href=\"#DejaVuSans-31\"/>\n       <use x=\"63.623047\" xlink:href=\"#DejaVuSans-32\"/>\n       <use x=\"127.246094\" xlink:href=\"#DejaVuSans-35\"/>\n      </g>\n     </g>\n    </g>\n    <g id=\"xtick_6\">\n     <g id=\"line2d_11\">\n      <path clip-path=\"url(#pa22e14aa63)\" d=\"M 515.437874 442.08 \nL 515.437874 7.2 \n\" style=\"fill:none;stroke:#b0b0b0;stroke-linecap:square;stroke-width:0.8;\"/>\n     </g>\n     <g id=\"line2d_12\">\n      <g>\n       <use style=\"stroke:#000000;stroke-width:0.8;\" x=\"515.437874\" xlink:href=\"#m0bf72b1ad4\" y=\"442.08\"/>\n      </g>\n     </g>\n     <g id=\"text_6\">\n      <!-- 150 -->\n      <g transform=\"translate(505.894124 456.678437)scale(0.1 -0.1)\">\n       <use xlink:href=\"#DejaVuSans-31\"/>\n       <use x=\"63.623047\" xlink:href=\"#DejaVuSans-35\"/>\n       <use x=\"127.246094\" xlink:href=\"#DejaVuSans-30\"/>\n      </g>\n     </g>\n    </g>\n    <g id=\"xtick_7\">\n     <g id=\"line2d_13\">\n      <path clip-path=\"url(#pa22e14aa63)\" d=\"M 595.533568 442.08 \nL 595.533568 7.2 \n\" style=\"fill:none;stroke:#b0b0b0;stroke-linecap:square;stroke-width:0.8;\"/>\n     </g>\n     <g id=\"line2d_14\">\n      <g>\n       <use style=\"stroke:#000000;stroke-width:0.8;\" x=\"595.533568\" xlink:href=\"#m0bf72b1ad4\" y=\"442.08\"/>\n      </g>\n     </g>\n     <g id=\"text_7\">\n      <!-- 175 -->\n      <g transform=\"translate(585.989818 456.678437)scale(0.1 -0.1)\">\n       <use xlink:href=\"#DejaVuSans-31\"/>\n       <use x=\"63.623047\" xlink:href=\"#DejaVuSans-37\"/>\n       <use x=\"127.246094\" xlink:href=\"#DejaVuSans-35\"/>\n      </g>\n     </g>\n    </g>\n    <g id=\"xtick_8\">\n     <g id=\"line2d_15\">\n      <path clip-path=\"url(#pa22e14aa63)\" d=\"M 675.629261 442.08 \nL 675.629261 7.2 \n\" style=\"fill:none;stroke:#b0b0b0;stroke-linecap:square;stroke-width:0.8;\"/>\n     </g>\n     <g id=\"line2d_16\">\n      <g>\n       <use style=\"stroke:#000000;stroke-width:0.8;\" x=\"675.629261\" xlink:href=\"#m0bf72b1ad4\" y=\"442.08\"/>\n      </g>\n     </g>\n     <g id=\"text_8\">\n      <!-- 200 -->\n      <g transform=\"translate(666.085511 456.678437)scale(0.1 -0.1)\">\n       <use xlink:href=\"#DejaVuSans-32\"/>\n       <use x=\"63.623047\" xlink:href=\"#DejaVuSans-30\"/>\n       <use x=\"127.246094\" xlink:href=\"#DejaVuSans-30\"/>\n      </g>\n     </g>\n    </g>\n   </g>\n   <g id=\"matplotlib.axis_2\">\n    <g id=\"ytick_1\">\n     <g id=\"line2d_17\">\n      <path clip-path=\"url(#pa22e14aa63)\" d=\"M 36.465625 422.708073 \nL 706.065625 422.708073 \n\" style=\"fill:none;stroke:#b0b0b0;stroke-linecap:square;stroke-width:0.8;\"/>\n     </g>\n     <g id=\"line2d_18\">\n      <defs>\n       <path d=\"M 0 0 \nL -3.5 0 \n\" id=\"m658b19d154\" style=\"stroke:#000000;stroke-width:0.8;\"/>\n      </defs>\n      <g>\n       <use style=\"stroke:#000000;stroke-width:0.8;\" x=\"36.465625\" xlink:href=\"#m658b19d154\" y=\"422.708073\"/>\n      </g>\n     </g>\n     <g id=\"text_9\">\n      <!-- 0.03 -->\n      <g transform=\"translate(7.2 426.507291)scale(0.1 -0.1)\">\n       <defs>\n        <path d=\"M 684 794 \nL 1344 794 \nL 1344 0 \nL 684 0 \nL 684 794 \nz\n\" id=\"DejaVuSans-2e\" transform=\"scale(0.015625)\"/>\n        <path d=\"M 2597 2516 \nQ 3050 2419 3304 2112 \nQ 3559 1806 3559 1356 \nQ 3559 666 3084 287 \nQ 2609 -91 1734 -91 \nQ 1441 -91 1130 -33 \nQ 819 25 488 141 \nL 488 750 \nQ 750 597 1062 519 \nQ 1375 441 1716 441 \nQ 2309 441 2620 675 \nQ 2931 909 2931 1356 \nQ 2931 1769 2642 2001 \nQ 2353 2234 1838 2234 \nL 1294 2234 \nL 1294 2753 \nL 1863 2753 \nQ 2328 2753 2575 2939 \nQ 2822 3125 2822 3475 \nQ 2822 3834 2567 4026 \nQ 2313 4219 1838 4219 \nQ 1578 4219 1281 4162 \nQ 984 4106 628 3988 \nL 628 4550 \nQ 988 4650 1302 4700 \nQ 1616 4750 1894 4750 \nQ 2613 4750 3031 4423 \nQ 3450 4097 3450 3541 \nQ 3450 3153 3228 2886 \nQ 3006 2619 2597 2516 \nz\n\" id=\"DejaVuSans-33\" transform=\"scale(0.015625)\"/>\n       </defs>\n       <use xlink:href=\"#DejaVuSans-30\"/>\n       <use x=\"63.623047\" xlink:href=\"#DejaVuSans-2e\"/>\n       <use x=\"95.410156\" xlink:href=\"#DejaVuSans-30\"/>\n       <use x=\"159.033203\" xlink:href=\"#DejaVuSans-33\"/>\n      </g>\n     </g>\n    </g>\n    <g id=\"ytick_2\">\n     <g id=\"line2d_19\">\n      <path clip-path=\"url(#pa22e14aa63)\" d=\"M 36.465625 330.592582 \nL 706.065625 330.592582 \n\" style=\"fill:none;stroke:#b0b0b0;stroke-linecap:square;stroke-width:0.8;\"/>\n     </g>\n     <g id=\"line2d_20\">\n      <g>\n       <use style=\"stroke:#000000;stroke-width:0.8;\" x=\"36.465625\" xlink:href=\"#m658b19d154\" y=\"330.592582\"/>\n      </g>\n     </g>\n     <g id=\"text_10\">\n      <!-- 0.04 -->\n      <g transform=\"translate(7.2 334.391801)scale(0.1 -0.1)\">\n       <defs>\n        <path d=\"M 2419 4116 \nL 825 1625 \nL 2419 1625 \nL 2419 4116 \nz\nM 2253 4666 \nL 3047 4666 \nL 3047 1625 \nL 3713 1625 \nL 3713 1100 \nL 3047 1100 \nL 3047 0 \nL 2419 0 \nL 2419 1100 \nL 313 1100 \nL 313 1709 \nL 2253 4666 \nz\n\" id=\"DejaVuSans-34\" transform=\"scale(0.015625)\"/>\n       </defs>\n       <use xlink:href=\"#DejaVuSans-30\"/>\n       <use x=\"63.623047\" xlink:href=\"#DejaVuSans-2e\"/>\n       <use x=\"95.410156\" xlink:href=\"#DejaVuSans-30\"/>\n       <use x=\"159.033203\" xlink:href=\"#DejaVuSans-34\"/>\n      </g>\n     </g>\n    </g>\n    <g id=\"ytick_3\">\n     <g id=\"line2d_21\">\n      <path clip-path=\"url(#pa22e14aa63)\" d=\"M 36.465625 238.477091 \nL 706.065625 238.477091 \n\" style=\"fill:none;stroke:#b0b0b0;stroke-linecap:square;stroke-width:0.8;\"/>\n     </g>\n     <g id=\"line2d_22\">\n      <g>\n       <use style=\"stroke:#000000;stroke-width:0.8;\" x=\"36.465625\" xlink:href=\"#m658b19d154\" y=\"238.477091\"/>\n      </g>\n     </g>\n     <g id=\"text_11\">\n      <!-- 0.05 -->\n      <g transform=\"translate(7.2 242.27631)scale(0.1 -0.1)\">\n       <use xlink:href=\"#DejaVuSans-30\"/>\n       <use x=\"63.623047\" xlink:href=\"#DejaVuSans-2e\"/>\n       <use x=\"95.410156\" xlink:href=\"#DejaVuSans-30\"/>\n       <use x=\"159.033203\" xlink:href=\"#DejaVuSans-35\"/>\n      </g>\n     </g>\n    </g>\n    <g id=\"ytick_4\">\n     <g id=\"line2d_23\">\n      <path clip-path=\"url(#pa22e14aa63)\" d=\"M 36.465625 146.3616 \nL 706.065625 146.3616 \n\" style=\"fill:none;stroke:#b0b0b0;stroke-linecap:square;stroke-width:0.8;\"/>\n     </g>\n     <g id=\"line2d_24\">\n      <g>\n       <use style=\"stroke:#000000;stroke-width:0.8;\" x=\"36.465625\" xlink:href=\"#m658b19d154\" y=\"146.3616\"/>\n      </g>\n     </g>\n     <g id=\"text_12\">\n      <!-- 0.06 -->\n      <g transform=\"translate(7.2 150.160819)scale(0.1 -0.1)\">\n       <defs>\n        <path d=\"M 2113 2584 \nQ 1688 2584 1439 2293 \nQ 1191 2003 1191 1497 \nQ 1191 994 1439 701 \nQ 1688 409 2113 409 \nQ 2538 409 2786 701 \nQ 3034 994 3034 1497 \nQ 3034 2003 2786 2293 \nQ 2538 2584 2113 2584 \nz\nM 3366 4563 \nL 3366 3988 \nQ 3128 4100 2886 4159 \nQ 2644 4219 2406 4219 \nQ 1781 4219 1451 3797 \nQ 1122 3375 1075 2522 \nQ 1259 2794 1537 2939 \nQ 1816 3084 2150 3084 \nQ 2853 3084 3261 2657 \nQ 3669 2231 3669 1497 \nQ 3669 778 3244 343 \nQ 2819 -91 2113 -91 \nQ 1303 -91 875 529 \nQ 447 1150 447 2328 \nQ 447 3434 972 4092 \nQ 1497 4750 2381 4750 \nQ 2619 4750 2861 4703 \nQ 3103 4656 3366 4563 \nz\n\" id=\"DejaVuSans-36\" transform=\"scale(0.015625)\"/>\n       </defs>\n       <use xlink:href=\"#DejaVuSans-30\"/>\n       <use x=\"63.623047\" xlink:href=\"#DejaVuSans-2e\"/>\n       <use x=\"95.410156\" xlink:href=\"#DejaVuSans-30\"/>\n       <use x=\"159.033203\" xlink:href=\"#DejaVuSans-36\"/>\n      </g>\n     </g>\n    </g>\n    <g id=\"ytick_5\">\n     <g id=\"line2d_25\">\n      <path clip-path=\"url(#pa22e14aa63)\" d=\"M 36.465625 54.246109 \nL 706.065625 54.246109 \n\" style=\"fill:none;stroke:#b0b0b0;stroke-linecap:square;stroke-width:0.8;\"/>\n     </g>\n     <g id=\"line2d_26\">\n      <g>\n       <use style=\"stroke:#000000;stroke-width:0.8;\" x=\"36.465625\" xlink:href=\"#m658b19d154\" y=\"54.246109\"/>\n      </g>\n     </g>\n     <g id=\"text_13\">\n      <!-- 0.07 -->\n      <g transform=\"translate(7.2 58.045328)scale(0.1 -0.1)\">\n       <use xlink:href=\"#DejaVuSans-30\"/>\n       <use x=\"63.623047\" xlink:href=\"#DejaVuSans-2e\"/>\n       <use x=\"95.410156\" xlink:href=\"#DejaVuSans-30\"/>\n       <use x=\"159.033203\" xlink:href=\"#DejaVuSans-37\"/>\n      </g>\n     </g>\n    </g>\n   </g>\n   <g id=\"line2d_27\">\n    <path clip-path=\"url(#pa22e14aa63)\" d=\"M 66.901989 106.036364 \nL 98.940266 26.967273 \nL 130.978544 224.64 \nL 163.016821 145.570909 \nL 195.055099 224.64 \nL 227.093376 106.036364 \nL 259.131654 106.036364 \nL 291.169931 145.570909 \nL 323.208209 145.570909 \nL 355.246486 224.64 \nL 387.284764 264.174545 \nL 419.323041 303.709091 \nL 451.361319 264.174545 \nL 483.399596 343.243636 \nL 515.437874 343.243636 \nL 547.476151 264.174545 \nL 579.514429 422.312727 \nL 611.552706 422.312727 \nL 643.590984 343.243636 \nL 675.629261 382.778182 \n\" style=\"fill:none;stroke:#1f77b4;stroke-linecap:square;stroke-width:1.5;\"/>\n   </g>\n   <g id=\"patch_3\">\n    <path d=\"M 36.465625 442.08 \nL 36.465625 7.2 \n\" style=\"fill:none;stroke:#000000;stroke-linecap:square;stroke-linejoin:miter;stroke-width:0.8;\"/>\n   </g>\n   <g id=\"patch_4\">\n    <path d=\"M 706.065625 442.08 \nL 706.065625 7.2 \n\" style=\"fill:none;stroke:#000000;stroke-linecap:square;stroke-linejoin:miter;stroke-width:0.8;\"/>\n   </g>\n   <g id=\"patch_5\">\n    <path d=\"M 36.465625 442.08 \nL 706.065625 442.08 \n\" style=\"fill:none;stroke:#000000;stroke-linecap:square;stroke-linejoin:miter;stroke-width:0.8;\"/>\n   </g>\n   <g id=\"patch_6\">\n    <path d=\"M 36.465625 7.2 \nL 706.065625 7.2 \n\" style=\"fill:none;stroke:#000000;stroke-linecap:square;stroke-linejoin:miter;stroke-width:0.8;\"/>\n   </g>\n  </g>\n </g>\n <defs>\n  <clipPath id=\"pa22e14aa63\">\n   <rect height=\"434.88\" width=\"669.6\" x=\"36.465625\" y=\"7.2\"/>\n  </clipPath>\n </defs>\n</svg>\n",
            "image/png": "[encoded data removed]"
          },
          "metadata": {
            "tags": [],
            "needs_background": "light"
          }
        }
      ]
    },
    {
      "cell_type": "code",
      "metadata": {
        "id": "5f6udmxnhAZa"
      },
      "source": [
        ""
      ],
      "execution_count": null,
      "outputs": []
    },
    {
      "cell_type": "markdown",
      "metadata": {
        "id": "gk_I6-j-nqwZ"
      },
      "source": [
        "# Updated PSI"
      ]
    },
    {
      "cell_type": "markdown",
      "metadata": {
        "id": "n_XyE7otUxey"
      },
      "source": [
        "**Get Updt RatMat**"
      ]
    },
    {
      "cell_type": "code",
      "metadata": {
        "colab": {
          "base_uri": "https://localhost:8080/"
        },
        "id": "-S_Ti3jIVmL7",
        "outputId": "2f20526a-161b-4f43-8a9c-2ca2ef433386"
      },
      "source": [
        "rows_i = AllDF_start['userId'].nunique()\n",
        "cols_i = AllDF_start['productId'].nunique()\n",
        "print(A0_df.shape)\n",
        "A0_RatMat_updt = SingleRatingMatrix(A0_df,'userId', 'productId',rows_i,cols_i)\n",
        "A0_RatMat_updt"
      ],
      "execution_count": null,
      "outputs": [
        {
          "output_type": "stream",
          "text": [
            "(458067, 7)\n"
          ],
          "name": "stdout"
        },
        {
          "output_type": "execute_result",
          "data": {
            "text/plain": [
              "<5711x3478 sparse matrix of type '<class 'numpy.float64'>'\n",
              "\twith 458067 stored elements in Compressed Sparse Row format>"
            ]
          },
          "metadata": {
            "tags": []
          },
          "execution_count": 46
        }
      ]
    },
    {
      "cell_type": "code",
      "metadata": {
        "colab": {
          "base_uri": "https://localhost:8080/"
        },
        "id": "9bSWovTNVmMX",
        "outputId": "6e884a38-df23-4e1a-8743-a82fc9c246d2"
      },
      "source": [
        "PSI_TrainMat_updt = AllRatingMatrices(ΔA_train,'userId','productId',rows_i ,cols_i)\n",
        "PSI_TrainMat_updt"
      ],
      "execution_count": null,
      "outputs": [
        {
          "output_type": "execute_result",
          "data": {
            "text/plain": [
              "[<5711x3478 sparse matrix of type '<class 'numpy.float64'>'\n",
              " \twith 8500 stored elements in Compressed Sparse Row format>,\n",
              " <5711x3478 sparse matrix of type '<class 'numpy.float64'>'\n",
              " \twith 8500 stored elements in Compressed Sparse Row format>,\n",
              " <5711x3478 sparse matrix of type '<class 'numpy.float64'>'\n",
              " \twith 8500 stored elements in Compressed Sparse Row format>,\n",
              " <5711x3478 sparse matrix of type '<class 'numpy.float64'>'\n",
              " \twith 8500 stored elements in Compressed Sparse Row format>]"
            ]
          },
          "metadata": {
            "tags": []
          },
          "execution_count": 47
        }
      ]
    },
    {
      "cell_type": "code",
      "metadata": {
        "id": "X9B1wEG8YUQa"
      },
      "source": [
        ""
      ],
      "execution_count": null,
      "outputs": []
    },
    {
      "cell_type": "markdown",
      "metadata": {
        "id": "A0k3BxpQCEDK"
      },
      "source": [
        "**Allsteps Update**"
      ]
    },
    {
      "cell_type": "code",
      "metadata": {
        "colab": {
          "base_uri": "https://localhost:8080/"
        },
        "id": "gZKKzIA4UPAt",
        "outputId": "48841a1b-8ec0-48fc-fdd6-cc5994e3aa00"
      },
      "source": [
        "U_start,S_start,V_start = last_psiTrainMat(A0_RatMat_updt,PSI_TrainMat_updt,k=20)\n",
        "print()\n",
        "print(\"U_start shape: \",U_start.shape)\n",
        "print(\"S_start shape: \",S_start.shape)\n",
        "print(\"V_start shape: \",V_start.shape)"
      ],
      "execution_count": null,
      "outputs": [
        {
          "output_type": "stream",
          "text": [
            "100%|██████████| 4/4 [00:00<00:00, 165.83it/s]\n",
            "U_start shape:  (5711, 20)\n",
            "S_start shape:  (20, 20)\n",
            "V_start shape:  (3478, 20)\n",
            "\n"
          ],
          "name": "stderr"
        }
      ]
    },
    {
      "cell_type": "code",
      "metadata": {
        "colab": {
          "base_uri": "https://localhost:8080/"
        },
        "id": "1c2frghJa9qQ",
        "outputId": "56ab2b11-f3cc-4376-8ac1-470ed4d9b697"
      },
      "source": [
        "U_list,S_list,V_list = [],[],[]\n",
        "U_list.append(U_start)\n",
        "S_list.append(S_start)\n",
        "V_list.append(V_start)\n",
        "print(len(U_list),len(V_list))"
      ],
      "execution_count": null,
      "outputs": [
        {
          "output_type": "stream",
          "text": [
            "1 1\n"
          ],
          "name": "stdout"
        }
      ]
    },
    {
      "cell_type": "code",
      "metadata": {
        "id": "GBY5SEHx8NFk",
        "colab": {
          "base_uri": "https://localhost:8080/"
        },
        "outputId": "3d2af409-b6a3-4258-afc1-149527a386be"
      },
      "source": [
        "DItems_, DUsers_,In_DomainUSERS,In_DomainITEMS,userID_dict,itemID_dict,AllUpdtUSERS_,AllUpdtITEMS_,U_list,S_list,V_list = ALLSTEPs_UPDATE(AllDF_start,AllDF_list,New_itemsList,New_usersList,U_list,\n",
        "                                       S_list,V_list,'userId','productId',Nsteps=10,k=20,Forced_Orth=False)"
      ],
      "execution_count": null,
      "outputs": [
        {
          "output_type": "stream",
          "text": [
            "100%|██████████| 9/9 [00:01<00:00,  5.67it/s]\n"
          ],
          "name": "stderr"
        }
      ]
    },
    {
      "cell_type": "markdown",
      "metadata": {
        "id": "H9o1U4E-zttV"
      },
      "source": [
        "**Output Check**"
      ]
    },
    {
      "cell_type": "code",
      "metadata": {
        "id": "d92VJcjh8NFn",
        "colab": {
          "base_uri": "https://localhost:8080/"
        },
        "outputId": "6221ef5b-6dc2-4651-8486-7c3e24db1b66"
      },
      "source": [
        "print(AllDF_start['productId'].max())\n",
        "print(AllDF_start['userId'].max())"
      ],
      "execution_count": null,
      "outputs": [
        {
          "output_type": "stream",
          "text": [
            "3477\n",
            "5710\n"
          ],
          "name": "stdout"
        }
      ]
    },
    {
      "cell_type": "code",
      "metadata": {
        "colab": {
          "base_uri": "https://localhost:8080/"
        },
        "id": "0J4Qrzf9OvVN",
        "outputId": "61a5bb25-b4bc-4477-80ce-3c2f023462fa"
      },
      "source": [
        "print(len(In_DomainITEMS[3477+1:]))\n",
        "print(In_DomainITEMS[3477+1:][:10])\n",
        "print()\n",
        "print(len(In_DomainUSERS[5710+1:]))\n",
        "print(In_DomainUSERS[5710+1:][:10])"
      ],
      "execution_count": null,
      "outputs": [
        {
          "output_type": "stream",
          "text": [
            "55\n",
            "[3478, 3479, 3480, 3481, 3482, 3483, 3484, 3487, 3485, 3486]\n",
            "\n",
            "327\n",
            "[5711, 5712, 5713, 5714, 5715, 5716, 5717, 5718, 5719, 5720]\n"
          ],
          "name": "stdout"
        }
      ]
    },
    {
      "cell_type": "code",
      "metadata": {
        "colab": {
          "base_uri": "https://localhost:8080/"
        },
        "id": "5vpSt3xLOvVU",
        "outputId": "f8071193-7eb5-4079-cd4f-71cec00b649f"
      },
      "source": [
        "#deferred items and users\n",
        "print(len(DItems_))\n",
        "print(DItems_[:10])\n",
        "print()\n",
        "print(len(DUsers_))\n",
        "print(DUsers_[:10])"
      ],
      "execution_count": null,
      "outputs": [
        {
          "output_type": "stream",
          "text": [
            "0\n",
            "[]\n",
            "\n",
            "0\n",
            "[]\n"
          ],
          "name": "stdout"
        }
      ]
    },
    {
      "cell_type": "code",
      "metadata": {
        "colab": {
          "base_uri": "https://localhost:8080/"
        },
        "id": "fYRgZGwlOvVW",
        "tags": [],
        "outputId": "fb60070e-9e33-4250-ddbb-3177944ed509"
      },
      "source": [
        "for x in list(itemID_dict)[3477+1:][:100]:\n",
        "    print (\"Id: {}, UpdtId: {} \".format(x,  itemID_dict[x]))   ##id ==key || updtedid == values  ,itemID_dict"
      ],
      "execution_count": null,
      "outputs": [
        {
          "output_type": "stream",
          "text": [
            "Id: 3478, UpdtId: 3478 \n",
            "Id: 3479, UpdtId: 3479 \n",
            "Id: 3480, UpdtId: 3480 \n",
            "Id: 3481, UpdtId: 3481 \n",
            "Id: 3482, UpdtId: 3482 \n",
            "Id: 3483, UpdtId: 3483 \n",
            "Id: 3484, UpdtId: 3484 \n",
            "Id: 3487, UpdtId: 3485 \n",
            "Id: 3485, UpdtId: 3486 \n",
            "Id: 3486, UpdtId: 3487 \n",
            "Id: 3488, UpdtId: 3488 \n",
            "Id: 3491, UpdtId: 3489 \n",
            "Id: 3492, UpdtId: 3490 \n",
            "Id: 3493, UpdtId: 3491 \n",
            "Id: 3494, UpdtId: 3492 \n",
            "Id: 3489, UpdtId: 3493 \n",
            "Id: 3490, UpdtId: 3494 \n",
            "Id: 3495, UpdtId: 3495 \n",
            "Id: 3496, UpdtId: 3496 \n",
            "Id: 3497, UpdtId: 3497 \n",
            "Id: 3498, UpdtId: 3498 \n",
            "Id: 3499, UpdtId: 3499 \n",
            "Id: 3500, UpdtId: 3500 \n",
            "Id: 3501, UpdtId: 3501 \n",
            "Id: 3502, UpdtId: 3502 \n",
            "Id: 3503, UpdtId: 3503 \n",
            "Id: 3504, UpdtId: 3504 \n",
            "Id: 3505, UpdtId: 3505 \n",
            "Id: 3506, UpdtId: 3506 \n",
            "Id: 3507, UpdtId: 3507 \n",
            "Id: 3508, UpdtId: 3508 \n",
            "Id: 3509, UpdtId: 3509 \n",
            "Id: 3510, UpdtId: 3510 \n",
            "Id: 3511, UpdtId: 3511 \n",
            "Id: 3512, UpdtId: 3512 \n",
            "Id: 3513, UpdtId: 3513 \n",
            "Id: 3514, UpdtId: 3514 \n",
            "Id: 3515, UpdtId: 3515 \n",
            "Id: 3516, UpdtId: 3516 \n",
            "Id: 3517, UpdtId: 3517 \n",
            "Id: 3518, UpdtId: 3518 \n",
            "Id: 3519, UpdtId: 3519 \n",
            "Id: 3520, UpdtId: 3520 \n",
            "Id: 3521, UpdtId: 3521 \n",
            "Id: 3522, UpdtId: 3522 \n",
            "Id: 3523, UpdtId: 3523 \n",
            "Id: 3524, UpdtId: 3524 \n",
            "Id: 3525, UpdtId: 3525 \n",
            "Id: 3526, UpdtId: 3526 \n",
            "Id: 3527, UpdtId: 3527 \n",
            "Id: 3528, UpdtId: 3528 \n",
            "Id: 3529, UpdtId: 3529 \n",
            "Id: 3530, UpdtId: 3530 \n",
            "Id: 3531, UpdtId: 3531 \n",
            "Id: 3532, UpdtId: 3532 \n"
          ],
          "name": "stdout"
        }
      ]
    },
    {
      "cell_type": "code",
      "metadata": {
        "colab": {
          "base_uri": "https://localhost:8080/"
        },
        "id": "XP6aaq1qOvVY",
        "tags": [],
        "outputId": "ea126af8-d952-422b-c5f3-a7678b3fb8b7"
      },
      "source": [
        "for x in list(userID_dict)[5710:][:100]:\n",
        "    print (\"Id: {}, UpdtId: {} \".format(x,  userID_dict[x]))   ##id ==key || updtedid == values "
      ],
      "execution_count": null,
      "outputs": [
        {
          "output_type": "stream",
          "text": [
            "Id: 5710, UpdtId: 5710 \n",
            "Id: 5711, UpdtId: 5711 \n",
            "Id: 5712, UpdtId: 5712 \n",
            "Id: 5713, UpdtId: 5713 \n",
            "Id: 5714, UpdtId: 5714 \n",
            "Id: 5715, UpdtId: 5715 \n",
            "Id: 5716, UpdtId: 5716 \n",
            "Id: 5717, UpdtId: 5717 \n",
            "Id: 5718, UpdtId: 5718 \n",
            "Id: 5719, UpdtId: 5719 \n",
            "Id: 5720, UpdtId: 5720 \n",
            "Id: 5721, UpdtId: 5721 \n",
            "Id: 5722, UpdtId: 5722 \n",
            "Id: 5723, UpdtId: 5723 \n",
            "Id: 5724, UpdtId: 5724 \n",
            "Id: 5725, UpdtId: 5725 \n",
            "Id: 5726, UpdtId: 5726 \n",
            "Id: 5727, UpdtId: 5727 \n",
            "Id: 5728, UpdtId: 5728 \n",
            "Id: 5729, UpdtId: 5729 \n",
            "Id: 5730, UpdtId: 5730 \n",
            "Id: 5731, UpdtId: 5731 \n",
            "Id: 5732, UpdtId: 5732 \n",
            "Id: 5733, UpdtId: 5733 \n",
            "Id: 5734, UpdtId: 5734 \n",
            "Id: 5735, UpdtId: 5735 \n",
            "Id: 5736, UpdtId: 5736 \n",
            "Id: 5737, UpdtId: 5737 \n",
            "Id: 5738, UpdtId: 5738 \n",
            "Id: 5739, UpdtId: 5739 \n",
            "Id: 5740, UpdtId: 5740 \n",
            "Id: 5741, UpdtId: 5741 \n",
            "Id: 5742, UpdtId: 5742 \n",
            "Id: 5743, UpdtId: 5743 \n",
            "Id: 5744, UpdtId: 5744 \n",
            "Id: 5745, UpdtId: 5745 \n",
            "Id: 5746, UpdtId: 5746 \n",
            "Id: 5747, UpdtId: 5747 \n",
            "Id: 5748, UpdtId: 5748 \n",
            "Id: 5749, UpdtId: 5749 \n",
            "Id: 5750, UpdtId: 5750 \n",
            "Id: 5751, UpdtId: 5751 \n",
            "Id: 5752, UpdtId: 5752 \n",
            "Id: 5753, UpdtId: 5753 \n",
            "Id: 5754, UpdtId: 5754 \n",
            "Id: 5755, UpdtId: 5755 \n",
            "Id: 5756, UpdtId: 5756 \n",
            "Id: 5757, UpdtId: 5757 \n",
            "Id: 5758, UpdtId: 5758 \n",
            "Id: 5759, UpdtId: 5759 \n",
            "Id: 5760, UpdtId: 5760 \n",
            "Id: 5761, UpdtId: 5761 \n",
            "Id: 5762, UpdtId: 5762 \n",
            "Id: 5763, UpdtId: 5763 \n",
            "Id: 5764, UpdtId: 5764 \n",
            "Id: 5765, UpdtId: 5765 \n",
            "Id: 5766, UpdtId: 5766 \n",
            "Id: 5767, UpdtId: 5767 \n",
            "Id: 5768, UpdtId: 5768 \n",
            "Id: 5769, UpdtId: 5769 \n",
            "Id: 5770, UpdtId: 5770 \n",
            "Id: 5771, UpdtId: 5771 \n",
            "Id: 5772, UpdtId: 5772 \n",
            "Id: 5773, UpdtId: 5773 \n",
            "Id: 5774, UpdtId: 5774 \n",
            "Id: 5775, UpdtId: 5775 \n",
            "Id: 5776, UpdtId: 5776 \n",
            "Id: 5777, UpdtId: 5777 \n",
            "Id: 5778, UpdtId: 5778 \n",
            "Id: 5779, UpdtId: 5779 \n",
            "Id: 5780, UpdtId: 5780 \n",
            "Id: 5781, UpdtId: 5781 \n",
            "Id: 5782, UpdtId: 5782 \n",
            "Id: 5783, UpdtId: 5783 \n",
            "Id: 5784, UpdtId: 5784 \n",
            "Id: 5785, UpdtId: 5785 \n",
            "Id: 5786, UpdtId: 5786 \n",
            "Id: 5787, UpdtId: 5787 \n",
            "Id: 5788, UpdtId: 5788 \n",
            "Id: 5789, UpdtId: 5789 \n",
            "Id: 5790, UpdtId: 5790 \n",
            "Id: 5791, UpdtId: 5791 \n",
            "Id: 5792, UpdtId: 5792 \n",
            "Id: 5793, UpdtId: 5793 \n",
            "Id: 5794, UpdtId: 5794 \n",
            "Id: 5795, UpdtId: 5795 \n",
            "Id: 5796, UpdtId: 5796 \n",
            "Id: 5797, UpdtId: 5797 \n",
            "Id: 5798, UpdtId: 5798 \n",
            "Id: 5799, UpdtId: 5799 \n",
            "Id: 5800, UpdtId: 5800 \n",
            "Id: 5801, UpdtId: 5801 \n",
            "Id: 5802, UpdtId: 5802 \n",
            "Id: 5803, UpdtId: 5803 \n",
            "Id: 5804, UpdtId: 5804 \n",
            "Id: 5805, UpdtId: 5805 \n",
            "Id: 5806, UpdtId: 5806 \n",
            "Id: 5807, UpdtId: 5807 \n",
            "Id: 5808, UpdtId: 5808 \n",
            "Id: 5809, UpdtId: 5809 \n"
          ],
          "name": "stdout"
        }
      ]
    },
    {
      "cell_type": "code",
      "metadata": {
        "colab": {
          "base_uri": "https://localhost:8080/"
        },
        "id": "9hrMshBYOvVa",
        "outputId": "980377e4-7a74-47a0-c12d-a8f20749f23f"
      },
      "source": [
        "print(len(U_list),len(V_list))\n",
        "print(U_list[0].shape,V_list[0].shape)\n",
        "print()\n",
        "for u,v in zip(U_list[1:],V_list[1:]):\n",
        "    print(u.shape,v.shape)   "
      ],
      "execution_count": null,
      "outputs": [
        {
          "output_type": "stream",
          "text": [
            "11 11\n",
            "(5711, 20) (3478, 20)\n",
            "\n",
            "(5788, 20) (3484, 20)\n",
            "(5870, 20) (3489, 20)\n",
            "(5974, 20) (3489, 20)\n",
            "(6030, 20) (3495, 20)\n",
            "(6030, 20) (3500, 20)\n",
            "(6031, 20) (3505, 20)\n",
            "(6033, 20) (3512, 20)\n",
            "(6035, 20) (3521, 20)\n",
            "(6036, 20) (3530, 20)\n",
            "(6038, 20) (3533, 20)\n"
          ],
          "name": "stdout"
        }
      ]
    },
    {
      "cell_type": "code",
      "metadata": {
        "colab": {
          "base_uri": "https://localhost:8080/"
        },
        "id": "xOQC6r84_ju1",
        "outputId": "687e7c0a-2ca0-4667-bb8e-9f86de99ffc6"
      },
      "source": [
        "for i,j in zip(AllUpdtUSERS_,AllUpdtITEMS_):\n",
        "    print(len(i),len(j))"
      ],
      "execution_count": null,
      "outputs": [
        {
          "output_type": "stream",
          "text": [
            "5788 3484\n",
            "5870 3489\n",
            "5974 3489\n",
            "6030 3495\n",
            "6030 3500\n",
            "6031 3505\n",
            "6033 3512\n",
            "6035 3521\n",
            "6036 3530\n",
            "6038 3533\n"
          ],
          "name": "stdout"
        }
      ]
    },
    {
      "cell_type": "code",
      "metadata": {
        "colab": {
          "base_uri": "https://localhost:8080/"
        },
        "id": "AMjo4AbxOvVc",
        "outputId": "553f733f-70f8-451f-84f4-ed7c5da4420d"
      },
      "source": [
        "print(len(In_DomainUSERS),len(In_DomainITEMS))\n",
        "print(ML1M_DF['userId'].nunique(),ML1M_DF['productId'].nunique())"
      ],
      "execution_count": null,
      "outputs": [
        {
          "output_type": "stream",
          "text": [
            "6038 3533\n",
            "6038 3533\n"
          ],
          "name": "stdout"
        }
      ]
    },
    {
      "cell_type": "markdown",
      "metadata": {
        "id": "nNpsng5z8doR"
      },
      "source": [
        "Data Adjustments"
      ]
    },
    {
      "cell_type": "markdown",
      "metadata": {
        "id": "U8YcpbXKpAMG"
      },
      "source": [
        "**Data Adjustment**"
      ]
    },
    {
      "cell_type": "code",
      "metadata": {
        "id": "beVvlDTN8NFx",
        "colab": {
          "base_uri": "https://localhost:8080/"
        },
        "outputId": "8f5e802e-bb84-4e7f-a17c-46262f72a431"
      },
      "source": [
        "len(AllUpdtITEMS_)"
      ],
      "execution_count": null,
      "outputs": [
        {
          "output_type": "execute_result",
          "data": {
            "text/plain": [
              "10"
            ]
          },
          "metadata": {
            "tags": []
          },
          "execution_count": 60
        }
      ]
    },
    {
      "cell_type": "code",
      "metadata": {
        "id": "DDU62aYf8NF0",
        "colab": {
          "base_uri": "https://localhost:8080/"
        },
        "outputId": "ddad99b4-3954-4aab-a9f2-b9794918e868"
      },
      "source": [
        "newHOLDOUT_LIST = get_NEWHoldout(HOLDOUT_list,userID_dict,itemID_dict,AllUpdtUSERS_,AllUpdtITEMS_,'userId','productId')\n",
        "print(len(newHOLDOUT_LIST))\n",
        "print()\n",
        "for old,new in zip(HOLDOUT_list,newHOLDOUT_LIST):\n",
        "    print(old.shape[0],new.shape[0])"
      ],
      "execution_count": null,
      "outputs": [
        {
          "output_type": "stream",
          "text": [
            "10it [00:00, 118.81it/s]10\n",
            "\n",
            "233 233\n",
            "255 255\n",
            "286 286\n",
            "309 309\n",
            "468 468\n",
            "526 526\n",
            "517 517\n",
            "470 470\n",
            "453 453\n",
            "362 362\n",
            "\n"
          ],
          "name": "stderr"
        }
      ]
    },
    {
      "cell_type": "code",
      "metadata": {
        "id": "oqs2gnUq8NF1",
        "colab": {
          "base_uri": "https://localhost:8080/"
        },
        "outputId": "605d3c8a-2b69-4321-e4a8-2dbab62571aa"
      },
      "source": [
        "newUserItem_list = adjustedAllDF(UserItemDF_list,userID_dict,itemID_dict,AllUpdtUSERS_,AllUpdtITEMS_,'userId','productId')\n",
        "print()\n",
        "for df in newUserItem_list:\n",
        "    print(df['Updated_UserID'].max(),df['Updated_ItemID'].max())"
      ],
      "execution_count": null,
      "outputs": [
        {
          "output_type": "stream",
          "text": [
            "10it [00:06,  1.49it/s]\n",
            "5787 3483\n",
            "5869 3488\n",
            "5973 3488\n",
            "6029 3494\n",
            "6029 3498\n",
            "6030 3504\n",
            "6032 3509\n",
            "6034 3520\n",
            "6035 3529\n",
            "6037 3531\n",
            "\n"
          ],
          "name": "stderr"
        }
      ]
    },
    {
      "cell_type": "code",
      "metadata": {
        "id": "f3xuPvCNhAZv"
      },
      "source": [
        ""
      ],
      "execution_count": null,
      "outputs": []
    },
    {
      "cell_type": "code",
      "metadata": {
        "id": "FHJylUYj8NF3",
        "colab": {
          "base_uri": "https://localhost:8080/"
        },
        "outputId": "c521557e-78b4-4f18-d96d-23d044a334d4"
      },
      "source": [
        "new_PSIDFlist = adjustedPSI_DF(PSITest_list,userID_dict,itemID_dict,AllUpdtUSERS_,AllUpdtITEMS_,'userId','productId')\n",
        "for old,new in zip(PSITest_list,new_PSIDFlist):\n",
        "    print(old.shape[0],new.shape[0])"
      ],
      "execution_count": null,
      "outputs": [
        {
          "output_type": "stream",
          "text": [
            "10it [00:00, 49.88it/s]8267 8267\n",
            "8245 8245\n",
            "8214 8214\n",
            "8191 8191\n",
            "8032 8032\n",
            "7974 7974\n",
            "7983 7983\n",
            "8030 8030\n",
            "8047 8047\n",
            "6352 6352\n",
            "\n"
          ],
          "name": "stderr"
        }
      ]
    },
    {
      "cell_type": "code",
      "metadata": {
        "id": "injTPfoD8NF3",
        "colab": {
          "base_uri": "https://localhost:8080/"
        },
        "outputId": "bce70823-2c33-4a4c-ebd0-cf7a9776f461"
      },
      "source": [
        "newMLDF_1M = ADJUST_mainDF(ML1M_DF,userID_dict,itemID_dict,AllUpdtUSERS_,AllUpdtITEMS_,'userId','productId')\n",
        "print(newMLDF_1M.shape)\n",
        "print(newMLDF_1M['userId'].max(),newMLDF_1M['productId'].max())\n",
        "print(newMLDF_1M['userId'].nunique(),newMLDF_1M['productId'].nunique())\n",
        "print()\n",
        "print(newMLDF_1M['Updated_UserID'].max(),newMLDF_1M['Updated_ItemID'].max())\n",
        "print(newMLDF_1M['Updated_UserID'].nunique(),newMLDF_1M['Updated_ItemID'].nunique())\n",
        "#newAMZB_DF.head()"
      ],
      "execution_count": null,
      "outputs": [
        {
          "output_type": "stream",
          "text": [
            "(575281, 9)\n",
            "6037 3532\n",
            "6038 3533\n",
            "\n",
            "6037 3532\n",
            "6038 3533\n"
          ],
          "name": "stdout"
        }
      ]
    },
    {
      "cell_type": "code",
      "metadata": {
        "id": "rvb8bp_j8NF5"
      },
      "source": [
        "with open('MLDF1M_newUserItem.pkl', 'wb') as f:\n",
        "     pickle.dump(newUserItem_list, f)\n",
        "\n",
        "with open('MLDF1M_newHoldout.pkl', 'wb') as f:\n",
        "     pickle.dump(newHOLDOUT_LIST, f)\n",
        "\n",
        "with open('MLDF1M_newPSITest.pkl', 'wb') as f:\n",
        "     pickle.dump(new_PSIDFlist, f)     "
      ],
      "execution_count": null,
      "outputs": []
    },
    {
      "cell_type": "code",
      "metadata": {
        "id": "XjluqAp68NF6"
      },
      "source": [
        "newMLDF_1M.to_csv('MLDF1M_afterUpdt.csv.zip',index=False,compression='zip')"
      ],
      "execution_count": null,
      "outputs": []
    },
    {
      "cell_type": "code",
      "metadata": {
        "id": "bfFHg8h0QiVE"
      },
      "source": [
        ""
      ],
      "execution_count": null,
      "outputs": []
    },
    {
      "cell_type": "markdown",
      "metadata": {
        "id": "J_bFpV2cKCuA"
      },
      "source": [
        "**Get UserItem MAT**"
      ]
    },
    {
      "cell_type": "code",
      "metadata": {
        "id": "l9uf6prp8NF-",
        "colab": {
          "base_uri": "https://localhost:8080/"
        },
        "outputId": "3028691f-cba4-45bc-acee-806e5dc8f90a"
      },
      "source": [
        "for i in range(10):\n",
        "    print(newUserItem_list[i]['Updated_UserID'].max(),newUserItem_list[i]['Updated_ItemID'].max())"
      ],
      "execution_count": null,
      "outputs": [
        {
          "output_type": "stream",
          "text": [
            "5787 3483\n",
            "5869 3488\n",
            "5973 3488\n",
            "6029 3494\n",
            "6029 3498\n",
            "6030 3504\n",
            "6032 3509\n",
            "6034 3520\n",
            "6035 3529\n",
            "6037 3531\n"
          ],
          "name": "stdout"
        }
      ]
    },
    {
      "cell_type": "code",
      "metadata": {
        "colab": {
          "base_uri": "https://localhost:8080/"
        },
        "id": "bA6bmr-CKCuD",
        "outputId": "43496cd7-6b4e-4e5a-f22b-10d46c92df04"
      },
      "source": [
        "print(len(U_list[1:]),len(V_list[1:]))\n",
        "for u,v in zip(U_list[1:],V_list[1:]):\n",
        "    print(u.shape[0],v.shape[0])   "
      ],
      "execution_count": null,
      "outputs": [
        {
          "output_type": "stream",
          "text": [
            "10 10\n",
            "5788 3484\n",
            "5870 3489\n",
            "5974 3489\n",
            "6030 3495\n",
            "6030 3500\n",
            "6031 3505\n",
            "6033 3512\n",
            "6035 3521\n",
            "6036 3530\n",
            "6038 3533\n"
          ],
          "name": "stdout"
        }
      ]
    },
    {
      "cell_type": "code",
      "metadata": {
        "colab": {
          "base_uri": "https://localhost:8080/"
        },
        "id": "N1FI-D8uKCuG",
        "outputId": "5d1600df-8cfa-462e-cf4d-c97817585079"
      },
      "source": [
        "#UserItem_Matupdt = All_SingleStepRatMat(newUserItem_list,'Updated_UserID','Updated_ItemID')\n",
        "UserItem_Matupdt = AllSingleStepRatMat_2(newUserItem_list,V_list[1:],'Updated_UserID','Updated_ItemID')\n",
        "print(len(UserItem_Matupdt))\n",
        "UserItem_Matupdt"
      ],
      "execution_count": null,
      "outputs": [
        {
          "output_type": "stream",
          "text": [
            "10\n"
          ],
          "name": "stdout"
        },
        {
          "output_type": "execute_result",
          "data": {
            "text/plain": [
              "[<5788x3484 sparse matrix of type '<class 'numpy.float64'>'\n",
              " \twith 500332 stored elements in Compressed Sparse Row format>,\n",
              " <5870x3489 sparse matrix of type '<class 'numpy.float64'>'\n",
              " \twith 508812 stored elements in Compressed Sparse Row format>,\n",
              " <5974x3489 sparse matrix of type '<class 'numpy.float64'>'\n",
              " \twith 517278 stored elements in Compressed Sparse Row format>,\n",
              " <6030x3495 sparse matrix of type '<class 'numpy.float64'>'\n",
              " \twith 525757 stored elements in Compressed Sparse Row format>,\n",
              " <6030x3500 sparse matrix of type '<class 'numpy.float64'>'\n",
              " \twith 534098 stored elements in Compressed Sparse Row format>,\n",
              " <6031x3505 sparse matrix of type '<class 'numpy.float64'>'\n",
              " \twith 542538 stored elements in Compressed Sparse Row format>,\n",
              " <6033x3512 sparse matrix of type '<class 'numpy.float64'>'\n",
              " \twith 551048 stored elements in Compressed Sparse Row format>,\n",
              " <6035x3521 sparse matrix of type '<class 'numpy.float64'>'\n",
              " \twith 559597 stored elements in Compressed Sparse Row format>,\n",
              " <6036x3530 sparse matrix of type '<class 'numpy.float64'>'\n",
              " \twith 568114 stored elements in Compressed Sparse Row format>,\n",
              " <6038x3533 sparse matrix of type '<class 'numpy.float64'>'\n",
              " \twith 574919 stored elements in Compressed Sparse Row format>]"
            ]
          },
          "metadata": {
            "tags": []
          },
          "execution_count": 69
        }
      ]
    },
    {
      "cell_type": "code",
      "metadata": {
        "id": "kRkFwCd8KCuE"
      },
      "source": [
        "# print(AllDF_start['userId'].nunique(),AllDF_start['productId'].nunique())\n",
        "# print()\n",
        "# for i,j in zip(AllUpdtUSERS_,AllUpdtITEMS_):\n",
        "#     print(len(i),len(j))"
      ],
      "execution_count": null,
      "outputs": []
    },
    {
      "cell_type": "markdown",
      "metadata": {
        "id": "-FWZcWCDzJ-i"
      },
      "source": [
        "**V_list**"
      ]
    },
    {
      "cell_type": "code",
      "metadata": {
        "colab": {
          "base_uri": "https://localhost:8080/"
        },
        "id": "NrcfgZCCzPPu",
        "outputId": "1a2cbc17-cb12-4d3b-d166-271fcfadcffc"
      },
      "source": [
        "print(len(UserItem_Matupdt),len(newHOLDOUT_LIST))"
      ],
      "execution_count": null,
      "outputs": [
        {
          "output_type": "stream",
          "text": [
            "10 10\n"
          ],
          "name": "stdout"
        }
      ]
    },
    {
      "cell_type": "code",
      "metadata": {
        "colab": {
          "base_uri": "https://localhost:8080/"
        },
        "id": "RguT3Utr0iLy",
        "outputId": "56a7d213-bb0d-4807-cd0d-009f8386ac51"
      },
      "source": [
        "Vpsi_listUpdt = V_list[1:]\n",
        "for v in Vpsi_listUpdt:\n",
        "    print(v.shape)"
      ],
      "execution_count": null,
      "outputs": [
        {
          "output_type": "stream",
          "text": [
            "(3484, 20)\n",
            "(3489, 20)\n",
            "(3489, 20)\n",
            "(3495, 20)\n",
            "(3500, 20)\n",
            "(3505, 20)\n",
            "(3512, 20)\n",
            "(3521, 20)\n",
            "(3530, 20)\n",
            "(3533, 20)\n"
          ],
          "name": "stdout"
        }
      ]
    },
    {
      "cell_type": "code",
      "metadata": {
        "colab": {
          "base_uri": "https://localhost:8080/"
        },
        "id": "py9S9LGoKamJ",
        "outputId": "e9121055-f7a1-45a3-a859-e0cb353a1776"
      },
      "source": [
        "V_1 = Vpsi_listUpdt[0]\n",
        "V_1.shape"
      ],
      "execution_count": null,
      "outputs": [
        {
          "output_type": "execute_result",
          "data": {
            "text/plain": [
              "(3484, 20)"
            ]
          },
          "metadata": {
            "tags": []
          },
          "execution_count": 72
        }
      ]
    },
    {
      "cell_type": "code",
      "metadata": {
        "id": "N1Vc6Na38NGR"
      },
      "source": [
        ""
      ],
      "execution_count": null,
      "outputs": []
    },
    {
      "cell_type": "markdown",
      "metadata": {
        "id": "dlm-q9ms_BWw"
      },
      "source": [
        "# Regular PSI "
      ]
    },
    {
      "cell_type": "markdown",
      "metadata": {
        "id": "uWbLS4cbPI19"
      },
      "source": [
        "**Get Rating Matrices**"
      ]
    },
    {
      "cell_type": "code",
      "metadata": {
        "id": "0i3Z3Aay8NGe",
        "outputId": "c4064d1d-a5b5-4365-e677-9de2fc7f9758"
      },
      "source": [
        "print(newMLDF_1M.shape)\n",
        "print(newMLDF_1M['userId'].max(),newMLDF_1M['productId'].max())\n",
        "print(newMLDF_1M['userId'].nunique(),newMLDF_1M['productId'].nunique())\n",
        "print()\n",
        "print(newMLDF_1M['Updated_UserID'].max(),newMLDF_1M['Updated_ItemID'].max())\n",
        "print(newMLDF_1M['Updated_UserID'].nunique(),newMLDF_1M['Updated_ItemID'].nunique())\n",
        "newMLDF_1M.head()"
      ],
      "execution_count": null,
      "outputs": [
        {
          "output_type": "stream",
          "text": [
            "(575281, 9)\n",
            "6037 3532\n",
            "6038 3533\n",
            "\n",
            "6037 3532\n",
            "6038 3533\n"
          ],
          "name": "stdout"
        },
        {
          "output_type": "execute_result",
          "data": {
            "text/plain": [
              "   userId_int  movieId_int  rating           timestamp  userId  productId  \\\n",
              "0        6040          858       1 2000-04-25 23:05:32       0          0   \n",
              "1        6040         2384       1 2000-04-25 23:05:54       0          1   \n",
              "2        6040          593       1 2000-04-25 23:05:54       0          2   \n",
              "3        6040         1961       1 2000-04-25 23:06:17       0          3   \n",
              "4        6040         2019       1 2000-04-25 23:06:17       0          4   \n",
              "\n",
              "  timestamp_YM  Updated_UserID  Updated_ItemID  \n",
              "0      2000-04               0               0  \n",
              "1      2000-04               0               1  \n",
              "2      2000-04               0               2  \n",
              "3      2000-04               0               3  \n",
              "4      2000-04               0               4  "
            ],
            "text/html": [
              "<div>\n",
              "<style scoped>\n",
              "    .dataframe tbody tr th:only-of-type {\n",
              "        vertical-align: middle;\n",
              "    }\n",
              "\n",
              "    .dataframe tbody tr th {\n",
              "        vertical-align: top;\n",
              "    }\n",
              "\n",
              "    .dataframe thead th {\n",
              "        text-align: right;\n",
              "    }\n",
              "</style>\n",
              "<table border=\"1\" class=\"dataframe\">\n",
              "  <thead>\n",
              "    <tr style=\"text-align: right;\">\n",
              "      <th></th>\n",
              "      <th>userId_int</th>\n",
              "      <th>movieId_int</th>\n",
              "      <th>rating</th>\n",
              "      <th>timestamp</th>\n",
              "      <th>userId</th>\n",
              "      <th>productId</th>\n",
              "      <th>timestamp_YM</th>\n",
              "      <th>Updated_UserID</th>\n",
              "      <th>Updated_ItemID</th>\n",
              "    </tr>\n",
              "  </thead>\n",
              "  <tbody>\n",
              "    <tr>\n",
              "      <th>0</th>\n",
              "      <td>6040</td>\n",
              "      <td>858</td>\n",
              "      <td>1</td>\n",
              "      <td>2000-04-25 23:05:32</td>\n",
              "      <td>0</td>\n",
              "      <td>0</td>\n",
              "      <td>2000-04</td>\n",
              "      <td>0</td>\n",
              "      <td>0</td>\n",
              "    </tr>\n",
              "    <tr>\n",
              "      <th>1</th>\n",
              "      <td>6040</td>\n",
              "      <td>2384</td>\n",
              "      <td>1</td>\n",
              "      <td>2000-04-25 23:05:54</td>\n",
              "      <td>0</td>\n",
              "      <td>1</td>\n",
              "      <td>2000-04</td>\n",
              "      <td>0</td>\n",
              "      <td>1</td>\n",
              "    </tr>\n",
              "    <tr>\n",
              "      <th>2</th>\n",
              "      <td>6040</td>\n",
              "      <td>593</td>\n",
              "      <td>1</td>\n",
              "      <td>2000-04-25 23:05:54</td>\n",
              "      <td>0</td>\n",
              "      <td>2</td>\n",
              "      <td>2000-04</td>\n",
              "      <td>0</td>\n",
              "      <td>2</td>\n",
              "    </tr>\n",
              "    <tr>\n",
              "      <th>3</th>\n",
              "      <td>6040</td>\n",
              "      <td>1961</td>\n",
              "      <td>1</td>\n",
              "      <td>2000-04-25 23:06:17</td>\n",
              "      <td>0</td>\n",
              "      <td>3</td>\n",
              "      <td>2000-04</td>\n",
              "      <td>0</td>\n",
              "      <td>3</td>\n",
              "    </tr>\n",
              "    <tr>\n",
              "      <th>4</th>\n",
              "      <td>6040</td>\n",
              "      <td>2019</td>\n",
              "      <td>1</td>\n",
              "      <td>2000-04-25 23:06:17</td>\n",
              "      <td>0</td>\n",
              "      <td>4</td>\n",
              "      <td>2000-04</td>\n",
              "      <td>0</td>\n",
              "      <td>4</td>\n",
              "    </tr>\n",
              "  </tbody>\n",
              "</table>\n",
              "</div>"
            ]
          },
          "metadata": {
            "tags": []
          },
          "execution_count": 84
        }
      ]
    },
    {
      "cell_type": "code",
      "metadata": {
        "colab": {
          "base_uri": "https://localhost:8080/"
        },
        "id": "9VaLJAAPRRLc",
        "outputId": "3cb7f9b6-ccb4-4b5a-ef25-66be8380bd80"
      },
      "source": [
        "rows_i = newMLDF_1M['Updated_UserID'].nunique()\n",
        "cols_i = newMLDF_1M['Updated_ItemID'].nunique()\n",
        "print(A0_df.shape)\n",
        "A0_Rating_matrix = SingleRatingMatrix(A0_df,'userId', 'productId',rows_i,cols_i)  ##changes start within steps...\n",
        "A0_Rating_matrix"
      ],
      "execution_count": null,
      "outputs": [
        {
          "output_type": "stream",
          "text": [
            "(458067, 7)\n"
          ],
          "name": "stdout"
        },
        {
          "output_type": "execute_result",
          "data": {
            "text/plain": [
              "<6038x3533 sparse matrix of type '<class 'numpy.float64'>'\n",
              "\twith 458067 stored elements in Compressed Sparse Row format>"
            ]
          },
          "metadata": {
            "tags": []
          },
          "execution_count": 85
        }
      ]
    },
    {
      "cell_type": "code",
      "metadata": {
        "id": "1deDiBeP8NGg",
        "outputId": "b76bfb65-a52f-490b-c011-f66c0757240b"
      },
      "source": [
        "for df in new_PSIDFlist:\n",
        "    print(df['Updated_UserID'].max(),df['Updated_ItemID'].max())"
      ],
      "execution_count": null,
      "outputs": [
        {
          "output_type": "stream",
          "text": [
            "5787 3483\n",
            "5869 3488\n",
            "5973 3441\n",
            "6029 3494\n",
            "6029 3498\n",
            "6030 3504\n",
            "6032 3509\n",
            "6034 3520\n",
            "6035 3529\n",
            "6037 3531\n"
          ],
          "name": "stdout"
        }
      ]
    },
    {
      "cell_type": "code",
      "metadata": {
        "colab": {
          "base_uri": "https://localhost:8080/"
        },
        "id": "PJgsMKCpRRMD",
        "outputId": "1b4cc003-3329-4043-de8a-c5f7d5a40e41"
      },
      "source": [
        "print(\"Length of PSI_Train :\",len(ΔA_train))\n",
        "print(\"Length of PSI_Test  :\",len(new_PSIDFlist))"
      ],
      "execution_count": null,
      "outputs": [
        {
          "output_type": "stream",
          "text": [
            "Length of PSI_Train : 4\n",
            "Length of PSI_Test  : 10\n"
          ],
          "name": "stdout"
        }
      ]
    },
    {
      "cell_type": "code",
      "metadata": {
        "colab": {
          "base_uri": "https://localhost:8080/"
        },
        "id": "EBFJoOOvRRME",
        "outputId": "fd8f9149-59dd-40ad-d6c5-572b6df59721"
      },
      "source": [
        "PSI_train_matrix = AllRatingMatrices(ΔA_train,'userId','productId',rows_i ,cols_i)\n",
        "PSI_train_matrix   "
      ],
      "execution_count": null,
      "outputs": [
        {
          "output_type": "execute_result",
          "data": {
            "text/plain": [
              "[<6038x3533 sparse matrix of type '<class 'numpy.float64'>'\n",
              " \twith 8500 stored elements in Compressed Sparse Row format>,\n",
              " <6038x3533 sparse matrix of type '<class 'numpy.float64'>'\n",
              " \twith 8500 stored elements in Compressed Sparse Row format>,\n",
              " <6038x3533 sparse matrix of type '<class 'numpy.float64'>'\n",
              " \twith 8500 stored elements in Compressed Sparse Row format>,\n",
              " <6038x3533 sparse matrix of type '<class 'numpy.float64'>'\n",
              " \twith 8500 stored elements in Compressed Sparse Row format>]"
            ]
          },
          "metadata": {
            "tags": []
          },
          "execution_count": 88
        }
      ]
    },
    {
      "cell_type": "code",
      "metadata": {
        "id": "8M_ymqxs8NGk",
        "outputId": "0104bf9b-3bdd-4f8b-919c-7be44f27ddcf"
      },
      "source": [
        "PSI_test_matrix = AllRatingMatrices(new_PSIDFlist,'Updated_UserID','Updated_ItemID',rows_i ,cols_i)                                                                      \n",
        "print(len(PSI_test_matrix))\n",
        "PSI_test_matrix"
      ],
      "execution_count": null,
      "outputs": [
        {
          "output_type": "stream",
          "text": [
            "10\n"
          ],
          "name": "stdout"
        },
        {
          "output_type": "execute_result",
          "data": {
            "text/plain": [
              "[<6038x3533 sparse matrix of type '<class 'numpy.float64'>'\n",
              " \twith 8267 stored elements in Compressed Sparse Row format>,\n",
              " <6038x3533 sparse matrix of type '<class 'numpy.float64'>'\n",
              " \twith 8245 stored elements in Compressed Sparse Row format>,\n",
              " <6038x3533 sparse matrix of type '<class 'numpy.float64'>'\n",
              " \twith 8214 stored elements in Compressed Sparse Row format>,\n",
              " <6038x3533 sparse matrix of type '<class 'numpy.float64'>'\n",
              " \twith 8191 stored elements in Compressed Sparse Row format>,\n",
              " <6038x3533 sparse matrix of type '<class 'numpy.float64'>'\n",
              " \twith 8032 stored elements in Compressed Sparse Row format>,\n",
              " <6038x3533 sparse matrix of type '<class 'numpy.float64'>'\n",
              " \twith 7974 stored elements in Compressed Sparse Row format>,\n",
              " <6038x3533 sparse matrix of type '<class 'numpy.float64'>'\n",
              " \twith 7983 stored elements in Compressed Sparse Row format>,\n",
              " <6038x3533 sparse matrix of type '<class 'numpy.float64'>'\n",
              " \twith 8030 stored elements in Compressed Sparse Row format>,\n",
              " <6038x3533 sparse matrix of type '<class 'numpy.float64'>'\n",
              " \twith 8047 stored elements in Compressed Sparse Row format>,\n",
              " <6038x3533 sparse matrix of type '<class 'numpy.float64'>'\n",
              " \twith 6352 stored elements in Compressed Sparse Row format>]"
            ]
          },
          "metadata": {
            "tags": []
          },
          "execution_count": 89
        }
      ]
    },
    {
      "cell_type": "code",
      "metadata": {
        "id": "1nRNYRwH8NGm",
        "outputId": "385e0297-a621-410c-920d-48a288304ce2"
      },
      "source": [
        "UserItemMAT_regPSI = AllRatingMatrices(newUserItem_list,'Updated_UserID','Updated_ItemID',rows_i ,cols_i) \n",
        "UserItemMAT_regPSI  "
      ],
      "execution_count": null,
      "outputs": [
        {
          "output_type": "execute_result",
          "data": {
            "text/plain": [
              "[<6038x3533 sparse matrix of type '<class 'numpy.float64'>'\n",
              " \twith 500332 stored elements in Compressed Sparse Row format>,\n",
              " <6038x3533 sparse matrix of type '<class 'numpy.float64'>'\n",
              " \twith 508812 stored elements in Compressed Sparse Row format>,\n",
              " <6038x3533 sparse matrix of type '<class 'numpy.float64'>'\n",
              " \twith 517278 stored elements in Compressed Sparse Row format>,\n",
              " <6038x3533 sparse matrix of type '<class 'numpy.float64'>'\n",
              " \twith 525757 stored elements in Compressed Sparse Row format>,\n",
              " <6038x3533 sparse matrix of type '<class 'numpy.float64'>'\n",
              " \twith 534098 stored elements in Compressed Sparse Row format>,\n",
              " <6038x3533 sparse matrix of type '<class 'numpy.float64'>'\n",
              " \twith 542538 stored elements in Compressed Sparse Row format>,\n",
              " <6038x3533 sparse matrix of type '<class 'numpy.float64'>'\n",
              " \twith 551048 stored elements in Compressed Sparse Row format>,\n",
              " <6038x3533 sparse matrix of type '<class 'numpy.float64'>'\n",
              " \twith 559597 stored elements in Compressed Sparse Row format>,\n",
              " <6038x3533 sparse matrix of type '<class 'numpy.float64'>'\n",
              " \twith 568114 stored elements in Compressed Sparse Row format>,\n",
              " <6038x3533 sparse matrix of type '<class 'numpy.float64'>'\n",
              " \twith 574919 stored elements in Compressed Sparse Row format>]"
            ]
          },
          "metadata": {
            "tags": []
          },
          "execution_count": 90
        }
      ]
    },
    {
      "cell_type": "code",
      "metadata": {
        "colab": {
          "base_uri": "https://localhost:8080/"
        },
        "id": "bZGtyUJPRCff",
        "outputId": "8e7cd4d6-1f3a-42b7-806e-6ebdb96bed2b"
      },
      "source": [
        "# print(AllDF_list[-1]['userId'].nunique(),AllDF_list[-1]['productId'].nunique())\n",
        "# print(AMZB_DF['userId'].nunique(),AMZB_DF['productId'].nunique())"
      ],
      "execution_count": null,
      "outputs": [
        {
          "output_type": "stream",
          "text": [
            "22799 8620\n",
            "22799 8620\n"
          ],
          "name": "stdout"
        }
      ]
    },
    {
      "cell_type": "code",
      "metadata": {
        "colab": {
          "base_uri": "https://localhost:8080/"
        },
        "id": "erGth4eKRRMJ",
        "outputId": "55daf721-ccc9-438f-a637-b77da7712052"
      },
      "source": [
        "Vpsi_listReg =  integratorOnMat(A0_Rating_matrix,PSI_train_matrix,PSI_test_matrix,k=20)  #PSI\n",
        "print(len(Vpsi_listReg))  "
      ],
      "execution_count": null,
      "outputs": [
        {
          "output_type": "stream",
          "text": [
            "10\n"
          ],
          "name": "stdout"
        }
      ]
    },
    {
      "cell_type": "code",
      "metadata": {
        "id": "-ALFq_slAffr",
        "outputId": "aebf4af0-ddad-4ed5-cfc0-62fad801f8fc"
      },
      "source": [
        "Vpsi_listReg[0].shape"
      ],
      "execution_count": null,
      "outputs": [
        {
          "output_type": "execute_result",
          "data": {
            "text/plain": [
              "(3533, 20)"
            ]
          },
          "metadata": {
            "tags": []
          },
          "execution_count": 93
        }
      ]
    },
    {
      "cell_type": "code",
      "metadata": {
        "id": "-7YAxpTBnYRT"
      },
      "source": [
        ""
      ],
      "execution_count": null,
      "outputs": []
    },
    {
      "cell_type": "markdown",
      "metadata": {
        "id": "PkouMhzgmD-N"
      },
      "source": [
        "# PureSVD"
      ]
    },
    {
      "cell_type": "markdown",
      "metadata": {
        "id": "IplkHKXjmEAU"
      },
      "source": [
        "**Get Rating Matrices**"
      ]
    },
    {
      "cell_type": "code",
      "metadata": {
        "id": "D6lfc3_rhAaT",
        "outputId": "3ef62aa8-ae08-4830-df3e-a88eda695c58"
      },
      "source": [
        "#MOVIElen_1M\n",
        "newMLDF_1M = pd.read_csv('/mnt/bulky/oolaleke/TDM_Dataset/ML_1M/MLDF1M_afterUpdt.csv.zip')\n",
        "newMLDF_1M['timestamp'] = pd.to_datetime(newMLDF_1M['timestamp']) \n",
        "print(newMLDF_1M.shape)   #userId_int\n",
        "newMLDF_1M.head()"
      ],
      "execution_count": null,
      "outputs": [
        {
          "output_type": "stream",
          "text": [
            "(575281, 9)\n"
          ],
          "name": "stdout"
        },
        {
          "output_type": "execute_result",
          "data": {
            "text/plain": [
              "   userId_int  movieId_int  rating           timestamp  userId  productId  \\\n",
              "0        6040          858       1 2000-04-25 23:05:32       0          0   \n",
              "1        6040         2384       1 2000-04-25 23:05:54       0          1   \n",
              "2        6040          593       1 2000-04-25 23:05:54       0          2   \n",
              "3        6040         1961       1 2000-04-25 23:06:17       0          3   \n",
              "4        6040         2019       1 2000-04-25 23:06:17       0          4   \n",
              "\n",
              "  timestamp_YM  Updated_UserID  Updated_ItemID  \n",
              "0      2000-04               0               0  \n",
              "1      2000-04               0               1  \n",
              "2      2000-04               0               2  \n",
              "3      2000-04               0               3  \n",
              "4      2000-04               0               4  "
            ],
            "text/html": [
              "<div>\n",
              "<style scoped>\n",
              "    .dataframe tbody tr th:only-of-type {\n",
              "        vertical-align: middle;\n",
              "    }\n",
              "\n",
              "    .dataframe tbody tr th {\n",
              "        vertical-align: top;\n",
              "    }\n",
              "\n",
              "    .dataframe thead th {\n",
              "        text-align: right;\n",
              "    }\n",
              "</style>\n",
              "<table border=\"1\" class=\"dataframe\">\n",
              "  <thead>\n",
              "    <tr style=\"text-align: right;\">\n",
              "      <th></th>\n",
              "      <th>userId_int</th>\n",
              "      <th>movieId_int</th>\n",
              "      <th>rating</th>\n",
              "      <th>timestamp</th>\n",
              "      <th>userId</th>\n",
              "      <th>productId</th>\n",
              "      <th>timestamp_YM</th>\n",
              "      <th>Updated_UserID</th>\n",
              "      <th>Updated_ItemID</th>\n",
              "    </tr>\n",
              "  </thead>\n",
              "  <tbody>\n",
              "    <tr>\n",
              "      <th>0</th>\n",
              "      <td>6040</td>\n",
              "      <td>858</td>\n",
              "      <td>1</td>\n",
              "      <td>2000-04-25 23:05:32</td>\n",
              "      <td>0</td>\n",
              "      <td>0</td>\n",
              "      <td>2000-04</td>\n",
              "      <td>0</td>\n",
              "      <td>0</td>\n",
              "    </tr>\n",
              "    <tr>\n",
              "      <th>1</th>\n",
              "      <td>6040</td>\n",
              "      <td>2384</td>\n",
              "      <td>1</td>\n",
              "      <td>2000-04-25 23:05:54</td>\n",
              "      <td>0</td>\n",
              "      <td>1</td>\n",
              "      <td>2000-04</td>\n",
              "      <td>0</td>\n",
              "      <td>1</td>\n",
              "    </tr>\n",
              "    <tr>\n",
              "      <th>2</th>\n",
              "      <td>6040</td>\n",
              "      <td>593</td>\n",
              "      <td>1</td>\n",
              "      <td>2000-04-25 23:05:54</td>\n",
              "      <td>0</td>\n",
              "      <td>2</td>\n",
              "      <td>2000-04</td>\n",
              "      <td>0</td>\n",
              "      <td>2</td>\n",
              "    </tr>\n",
              "    <tr>\n",
              "      <th>3</th>\n",
              "      <td>6040</td>\n",
              "      <td>1961</td>\n",
              "      <td>1</td>\n",
              "      <td>2000-04-25 23:06:17</td>\n",
              "      <td>0</td>\n",
              "      <td>3</td>\n",
              "      <td>2000-04</td>\n",
              "      <td>0</td>\n",
              "      <td>3</td>\n",
              "    </tr>\n",
              "    <tr>\n",
              "      <th>4</th>\n",
              "      <td>6040</td>\n",
              "      <td>2019</td>\n",
              "      <td>1</td>\n",
              "      <td>2000-04-25 23:06:17</td>\n",
              "      <td>0</td>\n",
              "      <td>4</td>\n",
              "      <td>2000-04</td>\n",
              "      <td>0</td>\n",
              "      <td>4</td>\n",
              "    </tr>\n",
              "  </tbody>\n",
              "</table>\n",
              "</div>"
            ]
          },
          "metadata": {
            "tags": []
          },
          "execution_count": 9
        }
      ]
    },
    {
      "cell_type": "code",
      "metadata": {
        "id": "mxSQ3MeBhAaU"
      },
      "source": [
        "import pickle\n",
        "\n",
        "with open('/mnt/bulky/oolaleke/TDM_Dataset/ML_1M/MLDF1M_newHoldout.pkl', 'rb') as f:\n",
        "     newHoldout_list = pickle.load(f)     \n",
        "    \n",
        "with open('/mnt/bulky/oolaleke/TDM_Dataset/ML_1M/MLDF1M_newUserItem.pkl', 'rb') as f:\n",
        "     newUserItem_list = pickle.load(f)\n"
      ],
      "execution_count": null,
      "outputs": []
    },
    {
      "cell_type": "code",
      "metadata": {
        "id": "CqfE0PNF8NG1",
        "outputId": "e3b1b61c-4d5b-4913-9d5a-1a9528958c35"
      },
      "source": [
        "rows_i = newMLDF_1M['Updated_UserID'].nunique()\n",
        "cols_i = newMLDF_1M['Updated_ItemID'].nunique()\n",
        "SVD_UserItemMAT = AllRatingMatrices(newUserItem_list,'Updated_UserID','Updated_ItemID',rows_i ,cols_i) ##Same as UserItemMAT_regPSI\n",
        "SVD_UserItemMAT"
      ],
      "execution_count": null,
      "outputs": [
        {
          "output_type": "execute_result",
          "data": {
            "text/plain": [
              "[<6038x3533 sparse matrix of type '<class 'numpy.float64'>'\n",
              " \twith 500332 stored elements in Compressed Sparse Row format>,\n",
              " <6038x3533 sparse matrix of type '<class 'numpy.float64'>'\n",
              " \twith 508812 stored elements in Compressed Sparse Row format>,\n",
              " <6038x3533 sparse matrix of type '<class 'numpy.float64'>'\n",
              " \twith 517278 stored elements in Compressed Sparse Row format>,\n",
              " <6038x3533 sparse matrix of type '<class 'numpy.float64'>'\n",
              " \twith 525757 stored elements in Compressed Sparse Row format>,\n",
              " <6038x3533 sparse matrix of type '<class 'numpy.float64'>'\n",
              " \twith 534098 stored elements in Compressed Sparse Row format>,\n",
              " <6038x3533 sparse matrix of type '<class 'numpy.float64'>'\n",
              " \twith 542538 stored elements in Compressed Sparse Row format>,\n",
              " <6038x3533 sparse matrix of type '<class 'numpy.float64'>'\n",
              " \twith 551048 stored elements in Compressed Sparse Row format>,\n",
              " <6038x3533 sparse matrix of type '<class 'numpy.float64'>'\n",
              " \twith 559597 stored elements in Compressed Sparse Row format>,\n",
              " <6038x3533 sparse matrix of type '<class 'numpy.float64'>'\n",
              " \twith 568114 stored elements in Compressed Sparse Row format>,\n",
              " <6038x3533 sparse matrix of type '<class 'numpy.float64'>'\n",
              " \twith 574919 stored elements in Compressed Sparse Row format>]"
            ]
          },
          "metadata": {
            "tags": []
          },
          "execution_count": 11
        }
      ]
    },
    {
      "cell_type": "code",
      "metadata": {
        "colab": {
          "base_uri": "https://localhost:8080/"
        },
        "id": "qJSJnDKTdogh",
        "outputId": "fe099c50-df55-458f-e6c5-5e4d308d0155"
      },
      "source": [
        "Vsvd_list = pureSVD(SVD_UserItemMAT,k=20)\n",
        "print(len(Vsvd_list))"
      ],
      "execution_count": null,
      "outputs": [
        {
          "output_type": "stream",
          "text": [
            "10\n"
          ],
          "name": "stdout"
        }
      ]
    },
    {
      "cell_type": "code",
      "metadata": {
        "colab": {
          "base_uri": "https://localhost:8080/"
        },
        "id": "DT9ATyeIdogj",
        "outputId": "9e3ba5db-7a86-4af1-fad5-cf98485e992d"
      },
      "source": [
        "Vsvd_last = Vsvd_list[-1]\n",
        "print(Vsvd_last.shape)\n",
        "Vsvd_last"
      ],
      "execution_count": null,
      "outputs": [
        {
          "output_type": "stream",
          "text": [
            "(3533, 20)\n"
          ],
          "name": "stdout"
        },
        {
          "output_type": "execute_result",
          "data": {
            "text/plain": [
              "array([[-5.78136534e-02,  1.01859278e-01, -3.09093094e-02, ...,\n",
              "         4.73060697e-02, -5.63458829e-02,  8.96398052e-02],\n",
              "       [-6.20111637e-03,  1.75745786e-02,  7.33128684e-03, ...,\n",
              "        -1.37249409e-02, -1.04115742e-02,  1.42355835e-02],\n",
              "       [ 1.68719523e-02, -2.55868247e-04, -3.86794689e-02, ...,\n",
              "        -7.45063256e-02,  1.87714505e-03,  9.78856070e-02],\n",
              "       ...,\n",
              "       [-4.11195564e-04, -2.88080722e-04,  3.21895136e-04, ...,\n",
              "        -2.58801333e-04,  3.95958426e-04,  9.40604543e-05],\n",
              "       [-2.62450195e-04,  8.68072965e-04,  7.51641417e-04, ...,\n",
              "        -2.59917487e-04,  3.02481953e-04,  7.40757638e-05],\n",
              "       [-1.99385601e-21, -1.12561639e-20,  2.67570451e-21, ...,\n",
              "        -6.68213062e-21,  3.62665612e-21,  7.49341146e-21]])"
            ]
          },
          "metadata": {
            "tags": []
          },
          "execution_count": 98
        }
      ]
    },
    {
      "cell_type": "code",
      "metadata": {
        "id": "u_EC_Bj6hAaY"
      },
      "source": [
        ""
      ],
      "execution_count": null,
      "outputs": []
    },
    {
      "cell_type": "code",
      "metadata": {
        "id": "3RwA_O_gq7J_"
      },
      "source": [
        ""
      ],
      "execution_count": null,
      "outputs": []
    },
    {
      "cell_type": "markdown",
      "metadata": {
        "id": "x7Nguxdf3ewZ"
      },
      "source": [
        "# AllUsers Predictions"
      ]
    },
    {
      "cell_type": "markdown",
      "metadata": {
        "id": "M1ro3DThmGq2"
      },
      "source": [
        "## UpdtPSI AllPred"
      ]
    },
    {
      "cell_type": "code",
      "metadata": {
        "id": "Mylf5NR98NGR",
        "outputId": "b0e7a61d-3c24-48e5-f59a-3db3bebc0940"
      },
      "source": [
        "print(UserItem_Matupdt[0].shape)\n",
        "UserItem_Matupdt[0]"
      ],
      "execution_count": null,
      "outputs": [
        {
          "output_type": "stream",
          "text": [
            "(5788, 3484)\n"
          ],
          "name": "stdout"
        },
        {
          "output_type": "execute_result",
          "data": {
            "text/plain": [
              "<5788x3484 sparse matrix of type '<class 'numpy.float64'>'\n",
              "\twith 500332 stored elements in Compressed Sparse Row format>"
            ]
          },
          "metadata": {
            "tags": []
          },
          "execution_count": 73
        }
      ]
    },
    {
      "cell_type": "code",
      "metadata": {
        "id": "e95u6f8bhAZ-"
      },
      "source": [
        "# for i,j,k in zip(UserItem_Matupdt,Vpsi_listUpdt,newUserItem_list):\n",
        "#     print(i.shape[1],j.shape[0],k['Updated_ItemID'].max())"
      ],
      "execution_count": null,
      "outputs": []
    },
    {
      "cell_type": "code",
      "metadata": {
        "id": "H3qyz8eO8NGS",
        "outputId": "2cb6f173-b4e9-4d94-e313-a3dd3a437044"
      },
      "source": [
        "AllUsers_updtPRED =  TQDMgetALLTopNPred_ALLUSERS(UserItem_Matupdt,Vpsi_listUpdt, N=10) \n",
        "print(len(AllUsers_updtPRED))\n",
        "AllUsers_updtPRED[:2]"
      ],
      "execution_count": null,
      "outputs": [
        {
          "output_type": "stream",
          "text": [
            "10it [00:04,  2.49it/s]10\n",
            "\n"
          ],
          "name": "stderr"
        },
        {
          "output_type": "execute_result",
          "data": {
            "text/plain": [
              "[array([[ 136,  138,  142, ...,  858,  256,  131],\n",
              "        [ 140,  563,  398, ...,  412,  134,  365],\n",
              "        [  62,  413,   59, ...,  695,   50,  219],\n",
              "        ...,\n",
              "        [  59,   57,  566, ...,  156,  576,  184],\n",
              "        [ 271,  413,  156, ...,  254,  818, 1238],\n",
              "        [  87,  223,  292, ...,  848,  262,  461]]),\n",
              " array([[136, 138, 142, ..., 858, 256, 131],\n",
              "        [140, 563, 398, ..., 412, 134, 365],\n",
              "        [ 62, 413,  59, ..., 695,  50, 219],\n",
              "        ...,\n",
              "        [261, 644, 647, ..., 254, 549, 272],\n",
              "        [138, 137,   0, ..., 317, 136,  89],\n",
              "        [ 91,  40, 223, ..., 254,  73, 156]])]"
            ]
          },
          "metadata": {
            "tags": []
          },
          "execution_count": 75
        }
      ]
    },
    {
      "cell_type": "code",
      "metadata": {
        "id": "3GtRYa2z8NGT",
        "outputId": "644b11fe-8b52-4f43-be68-645e8bc482e3"
      },
      "source": [
        "AllUsers_updtPRED[-1].shape"
      ],
      "execution_count": null,
      "outputs": [
        {
          "output_type": "execute_result",
          "data": {
            "text/plain": [
              "(6038, 10)"
            ]
          },
          "metadata": {
            "tags": []
          },
          "execution_count": 76
        }
      ]
    },
    {
      "cell_type": "code",
      "metadata": {
        "id": "ayCKyzF98NGT"
      },
      "source": [
        "with open('/mnt/bulky/oolaleke/TDM_Dataset/ML_1M/MLDF1M_UpdtPSI_allPRED.pkl', 'wb') as f:\n",
        "     pickle.dump(AllUsers_updtPRED, f)\n"
      ],
      "execution_count": null,
      "outputs": []
    },
    {
      "cell_type": "code",
      "metadata": {
        "id": "H0bd92I44GhD"
      },
      "source": [
        ""
      ],
      "execution_count": null,
      "outputs": []
    },
    {
      "cell_type": "markdown",
      "metadata": {
        "id": "iPIvCmfbnLsl"
      },
      "source": [
        "## RegPSI AllPred"
      ]
    },
    {
      "cell_type": "code",
      "metadata": {
        "id": "ODBMy0uE8NGv",
        "outputId": "e252c358-d034-4443-f224-92a89b457e56"
      },
      "source": [
        "AllUsersRegPIS_PRED =  TQDMgetALLTopNPred_ALLUSERS(UserItemMAT_regPSI,Vpsi_listReg, N=10) \n",
        "print(len(AllUsersRegPIS_PRED))\n",
        "AllUsersRegPIS_PRED[:2]"
      ],
      "execution_count": null,
      "outputs": [
        {
          "output_type": "stream",
          "text": [
            "10it [00:04,  2.29it/s]10\n",
            "\n"
          ],
          "name": "stderr"
        },
        {
          "output_type": "execute_result",
          "data": {
            "text/plain": [
              "[array([[ 136,  138,  142, ...,  858,  256,  131],\n",
              "        [ 140,  563,  398, ...,  412,  134,  365],\n",
              "        [  62,  413,   59, ...,  695,   50,  219],\n",
              "        ...,\n",
              "        [1181, 1179, 1182, ..., 1177, 1176, 3532],\n",
              "        [1181, 1179, 1182, ..., 1177, 1176, 3532],\n",
              "        [1181, 1179, 1182, ..., 1177, 1176, 3532]]),\n",
              " array([[ 136,  138,  142, ...,  858,  256,  131],\n",
              "        [ 140,  563,  398, ...,  412,  134,  365],\n",
              "        [  62,   59,  413, ...,  695,   50,  219],\n",
              "        ...,\n",
              "        [1181, 1179, 1182, ..., 1177, 1176, 3532],\n",
              "        [1181, 1179, 1182, ..., 1177, 1176, 3532],\n",
              "        [1181, 1179, 1182, ..., 1177, 1176, 3532]])]"
            ]
          },
          "metadata": {
            "tags": []
          },
          "execution_count": 94
        }
      ]
    },
    {
      "cell_type": "code",
      "metadata": {
        "id": "73btpxdn8NGv"
      },
      "source": [
        "with open('/mnt/bulky/oolaleke/TDM_Dataset/ML_1M/MLDF1M_PSI_allPRED.pkl', 'wb') as f:\n",
        "     pickle.dump(AllUsersRegPIS_PRED, f)\n"
      ],
      "execution_count": null,
      "outputs": []
    },
    {
      "cell_type": "code",
      "metadata": {
        "id": "rq50242q8NGw",
        "outputId": "708ff346-61f0-45eb-fe4b-54c2e88875d2"
      },
      "source": [
        "AllUsersRegPIS_PRED[2].shape"
      ],
      "execution_count": null,
      "outputs": [
        {
          "output_type": "execute_result",
          "data": {
            "text/plain": [
              "(6038, 10)"
            ]
          },
          "metadata": {
            "tags": []
          },
          "execution_count": 96
        }
      ]
    },
    {
      "cell_type": "code",
      "metadata": {
        "id": "Pzn25DDF4N1X"
      },
      "source": [
        ""
      ],
      "execution_count": null,
      "outputs": []
    },
    {
      "cell_type": "markdown",
      "metadata": {
        "id": "MOwfp31xq_M8"
      },
      "source": [
        "## SVD AllPred"
      ]
    },
    {
      "cell_type": "code",
      "metadata": {
        "id": "lZJ2v4048NHA",
        "outputId": "2099c143-4973-4b04-9ae2-d5a7a2f7a672"
      },
      "source": [
        "AllUsersSVD_PRED =  TQDMgetALLTopNPred_ALLUSERS(SVD_UserItemMAT,Vsvd_list, N=10) \n",
        "print(len(AllUsersSVD_PRED))\n",
        "AllUsersSVD_PRED[:2]"
      ],
      "execution_count": null,
      "outputs": [
        {
          "output_type": "stream",
          "text": [
            "10it [00:04,  2.17it/s]10\n",
            "\n"
          ],
          "name": "stderr"
        },
        {
          "output_type": "execute_result",
          "data": {
            "text/plain": [
              "[array([[ 136,  138,  142, ...,  858,  256,  319],\n",
              "        [ 140,  563,  398, ...,  412,  134,  497],\n",
              "        [  62,   59,  413, ...,   50,  261,  221],\n",
              "        ...,\n",
              "        [1181, 1179, 1182, ..., 1177, 1176, 3532],\n",
              "        [1181, 1179, 1182, ..., 1177, 1176, 3532],\n",
              "        [1181, 1179, 1182, ..., 1177, 1176, 3532]]),\n",
              " array([[ 136,  138,  142, ...,  858,  256,  319],\n",
              "        [ 140,  563,  398, ...,  412,  134,  497],\n",
              "        [  62,   59,  413, ...,   50,  695,  221],\n",
              "        ...,\n",
              "        [1181, 1179, 1182, ..., 1177, 1176, 3532],\n",
              "        [1181, 1179, 1182, ..., 1177, 1176, 3532],\n",
              "        [1181, 1179, 1182, ..., 1177, 1176, 3532]])]"
            ]
          },
          "metadata": {
            "tags": []
          },
          "execution_count": 99
        }
      ]
    },
    {
      "cell_type": "code",
      "metadata": {
        "id": "mAycsmW78NHB"
      },
      "source": [
        "with open('/mnt/bulky/oolaleke/TDM_Dataset/ML_1M/MLDF1M_SVD_allPRED.pkl', 'wb') as f:\n",
        "     pickle.dump(AllUsersSVD_PRED, f)\n"
      ],
      "execution_count": null,
      "outputs": []
    },
    {
      "cell_type": "code",
      "metadata": {
        "id": "c_VFliWc3hZ6"
      },
      "source": [
        ""
      ],
      "execution_count": null,
      "outputs": []
    },
    {
      "cell_type": "markdown",
      "metadata": {
        "id": "tp_LhvKAM5ys"
      },
      "source": [
        "## RandRec AllPred"
      ]
    },
    {
      "cell_type": "code",
      "metadata": {
        "colab": {
          "base_uri": "https://localhost:8080/"
        },
        "id": "42RCvm1dlZNu",
        "outputId": "485957b6-7ebc-4c72-baac-94e7c3c51671"
      },
      "source": [
        "print(len(SVD_UserItemMAT),len(newHOLDOUT_LIST))"
      ],
      "execution_count": null,
      "outputs": [
        {
          "output_type": "stream",
          "text": [
            "10 10\n"
          ],
          "name": "stdout"
        }
      ]
    },
    {
      "cell_type": "code",
      "metadata": {
        "id": "eMuYANAS8NHY",
        "outputId": "23484f2c-75c8-4649-97c7-6b930e2a39a9"
      },
      "source": [
        "All_UsersRRecPred = get_ALLRandPred(SVD_UserItemMAT,'Updated_UserID',N=10)\n",
        "All_UsersRRecPred[:2]  "
      ],
      "execution_count": null,
      "outputs": [
        {
          "output_type": "stream",
          "text": [
            "100%|██████████| 10/10 [00:05<00:00,  1.81it/s]\n"
          ],
          "name": "stderr"
        },
        {
          "output_type": "execute_result",
          "data": {
            "text/plain": [
              "[array([[2689, 2334,  540, ..., 2563, 3392, 1283],\n",
              "        [2632, 2863, 2628, ..., 2876, 2011, 1847],\n",
              "        [1925, 1883, 1987, ..., 1233, 1989, 1847],\n",
              "        ...,\n",
              "        [2025, 2309, 2262, ..., 2106, 1212, 2957],\n",
              "        [1144, 3027, 2287, ...,  273,  290, 2798],\n",
              "        [ 799, 2831,  756, ...,  803,  381, 1644]]),\n",
              " array([[1454,  980, 3108, ..., 1363,  546, 3417],\n",
              "        [1606, 1879, 1747, ...,  731,  714, 2163],\n",
              "        [1616, 1209, 2232, ...,  394, 2256,  462],\n",
              "        ...,\n",
              "        [2157, 1429,  479, ..., 1740, 3478, 1788],\n",
              "        [3430, 1003, 1141, ..., 1336, 1039, 2261],\n",
              "        [3094,  378,  976, ..., 2947,  221, 3269]])]"
            ]
          },
          "metadata": {
            "tags": []
          },
          "execution_count": 100
        }
      ]
    },
    {
      "cell_type": "code",
      "metadata": {
        "colab": {
          "base_uri": "https://localhost:8080/"
        },
        "id": "TBkzzmmFlZNz",
        "outputId": "f066dac9-b2a2-4c9a-d9b8-eba929a11b75"
      },
      "source": [
        "All_UsersRRecPred[1].shape"
      ],
      "execution_count": null,
      "outputs": [
        {
          "output_type": "execute_result",
          "data": {
            "text/plain": [
              "(6038, 10)"
            ]
          },
          "metadata": {
            "tags": []
          },
          "execution_count": 101
        }
      ]
    },
    {
      "cell_type": "code",
      "metadata": {
        "id": "80XlCcJS8NHZ"
      },
      "source": [
        "with open('MLDF1M_RRec_AllPRED.pkl', 'wb') as f:\n",
        "     pickle.dump(All_UsersRRecPred, f)\n"
      ],
      "execution_count": null,
      "outputs": []
    },
    {
      "cell_type": "code",
      "metadata": {
        "id": "_YumCnLur0p_"
      },
      "source": [
        ""
      ],
      "execution_count": null,
      "outputs": []
    },
    {
      "cell_type": "markdown",
      "metadata": {
        "id": "DCw8gy2rM9Or"
      },
      "source": [
        "## MostPop AllPred"
      ]
    },
    {
      "cell_type": "code",
      "metadata": {
        "id": "A-V7Lj0H8NHl",
        "outputId": "973422c8-813d-4bf7-d007-9c95f3fb1cf1"
      },
      "source": [
        "                      #getAll_MOSTPOP_Pred(DF_list,user_column,item_colum,Nusers,N\n",
        "Nusers = newMLDF_1M['Updated_UserID'].nunique()\n",
        "All_MostPOPRED_List =  getAll_MOSTPOP_Pred(newUserItem_list,'Updated_UserID','Updated_ItemID',Nusers,N=10)\n",
        "All_MostPOPRED_List[:2]   #Mpop with newUserItem list"
      ],
      "execution_count": null,
      "outputs": [
        {
          "output_type": "execute_result",
          "data": {
            "text/plain": [
              "[array([[ 19,  87, 223, ...,  91,  24,  40],\n",
              "        [ 19,  87, 223, ...,  91,  24,  40],\n",
              "        [ 19,  87, 223, ...,  91,  24,  40],\n",
              "        ...,\n",
              "        [ 19,  87, 223, ...,  91,  24,  40],\n",
              "        [ 19,  87, 223, ...,  91,  24,  40],\n",
              "        [ 19,  87, 223, ...,  91,  24,  40]]),\n",
              " array([[ 19,  87, 223, ...,  91,  24,  40],\n",
              "        [ 19,  87, 223, ...,  91,  24,  40],\n",
              "        [ 19,  87, 223, ...,  91,  24,  40],\n",
              "        ...,\n",
              "        [ 19,  87, 223, ...,  91,  24,  40],\n",
              "        [ 19,  87, 223, ...,  91,  24,  40],\n",
              "        [ 19,  87, 223, ...,  91,  24,  40]])]"
            ]
          },
          "metadata": {
            "tags": []
          },
          "execution_count": 11
        }
      ]
    },
    {
      "cell_type": "code",
      "metadata": {
        "colab": {
          "base_uri": "https://localhost:8080/"
        },
        "id": "dwtyYptbxT1n",
        "outputId": "79b08aa3-3f9e-40e7-a037-7bbec7b343a1"
      },
      "source": [
        "All_MostPOPRED_List[1].shape"
      ],
      "execution_count": null,
      "outputs": [
        {
          "output_type": "execute_result",
          "data": {
            "text/plain": [
              "(6038, 10)"
            ]
          },
          "metadata": {
            "tags": []
          },
          "execution_count": 14
        }
      ]
    },
    {
      "cell_type": "code",
      "metadata": {
        "id": "AoBZNlPu8NHr"
      },
      "source": [
        "with open('/mnt/bulky/oolaleke/TDM_Dataset/ML_1M/MLDF1M_MPop_allPRED.pkl', 'wb') as f:\n",
        "     pickle.dump(All_MostPOPRED_List, f)  #Mpop with newUserItem list\n"
      ],
      "execution_count": null,
      "outputs": []
    },
    {
      "cell_type": "markdown",
      "metadata": {
        "id": "krCIIB8flw0U"
      },
      "source": [
        "# HitRate"
      ]
    },
    {
      "cell_type": "markdown",
      "metadata": {
        "id": "FZd_vVsPpIqV"
      },
      "source": [
        "## Updated PSI"
      ]
    },
    {
      "cell_type": "code",
      "metadata": {
        "colab": {
          "base_uri": "https://localhost:8080/"
        },
        "id": "LtlchmQtHN5c",
        "outputId": "5774d60b-ae54-4fad-f2ae-9cfe8fbbefd5"
      },
      "source": [
        "Top_NPred = TopNPred(UserItem_Matupdt[0],newHOLDOUT_LIST[0],V_1,'Updated_UserID',10)\n",
        "Top_NPred"
      ],
      "execution_count": null,
      "outputs": [
        {
          "output_type": "execute_result",
          "data": {
            "text/plain": [
              "array([[ 574,   13,  497, ...,   68,  935,  572],\n",
              "       [  37,   15,   62, ...,  556,    9,   86],\n",
              "       [  23,  209,  413, ...,  540,  577,  419],\n",
              "       ...,\n",
              "       [  59,   57,  566, ...,  156,  576,  184],\n",
              "       [ 271,  413,  156, ...,  254,  818, 1238],\n",
              "       [  87,  223,  292, ...,  848,  262,  461]])"
            ]
          },
          "metadata": {
            "tags": []
          },
          "execution_count": 77
        }
      ]
    },
    {
      "cell_type": "code",
      "metadata": {
        "colab": {
          "base_uri": "https://localhost:8080/"
        },
        "id": "Ql0pwhxeHN5g",
        "outputId": "c7eee04a-f906-4789-e52e-89d7fdfd71d2"
      },
      "source": [
        "Hitrate_Eval(newHOLDOUT_LIST[0],Top_NPred,'Updated_UserID','Updated_ItemID')"
      ],
      "execution_count": null,
      "outputs": [
        {
          "output_type": "stream",
          "text": [
            "Number of hits:  17\n",
            "Total Num of users:  233\n",
            "Recommendation HitRate:  0.07296137339055794\n"
          ],
          "name": "stdout"
        },
        {
          "output_type": "execute_result",
          "data": {
            "text/plain": [
              "0.07296137339055794"
            ]
          },
          "metadata": {
            "tags": []
          },
          "execution_count": 78
        }
      ]
    },
    {
      "cell_type": "code",
      "metadata": {
        "colab": {
          "base_uri": "https://localhost:8080/"
        },
        "id": "8J8LC6tDAiir",
        "outputId": "38d39465-88e3-44fc-cd8e-1930185d0047"
      },
      "source": [
        "AllUpdt_pred =  TQDMgetALLTopNPred(UserItem_Matupdt,newHOLDOUT_LIST,Vpsi_listUpdt,'Updated_UserID',N = 10)\n",
        "print(len(AllUpdt_pred))\n",
        "AllUpdt_pred[:2]"
      ],
      "execution_count": null,
      "outputs": [
        {
          "output_type": "stream",
          "text": [
            "10it [00:00, 29.52it/s]10\n",
            "\n"
          ],
          "name": "stderr"
        },
        {
          "output_type": "execute_result",
          "data": {
            "text/plain": [
              "[array([[ 574,   13,  497, ...,   68,  935,  572],\n",
              "        [  37,   15,   62, ...,  556,    9,   86],\n",
              "        [  23,  209,  413, ...,  540,  577,  419],\n",
              "        ...,\n",
              "        [  59,   57,  566, ...,  156,  576,  184],\n",
              "        [ 271,  413,  156, ...,  254,  818, 1238],\n",
              "        [  87,  223,  292, ...,  848,  262,  461]]),\n",
              " array([[  19,  330,   12, ...,  337,  170, 2765],\n",
              "        [ 193,  223,  330, ...,  342,  433,  317],\n",
              "        [ 166,  169,  239, ...,  330,  560,  317],\n",
              "        ...,\n",
              "        [ 261,  644,  647, ...,  254,  549,  272],\n",
              "        [ 138,  137,    0, ...,  317,  136,   89],\n",
              "        [  91,   40,  223, ...,  254,   73,  156]])]"
            ]
          },
          "metadata": {
            "tags": []
          },
          "execution_count": 79
        }
      ]
    },
    {
      "cell_type": "code",
      "metadata": {
        "colab": {
          "base_uri": "https://localhost:8080/"
        },
        "id": "Osi894h4Aiiv",
        "outputId": "230d7213-4baf-4ea5-eb7b-b98c616ca36a"
      },
      "source": [
        "AllSteps_HitR_updt, LowerBand_updt, Avg_HitR_updt, UpperBand_updt   = getAll_HitRate(newHOLDOUT_LIST,AllUpdt_pred,'Updated_UserID','Updated_ItemID')\n",
        "AllSteps_HitR_updt"
      ],
      "execution_count": null,
      "outputs": [
        {
          "output_type": "stream",
          "text": [
            "Number of hits:  17\n",
            "Total Num of users:  233\n",
            "Recommendation HitRate:  0.07296137339055794\n",
            "Number of hits:  20\n",
            "Total Num of users:  255\n",
            "Recommendation HitRate:  0.0784313725490196\n",
            "Number of hits:  24\n",
            "Total Num of users:  286\n",
            "Recommendation HitRate:  0.08391608391608392\n",
            "Number of hits:  20\n",
            "Total Num of users:  309\n",
            "Recommendation HitRate:  0.06472491909385113\n",
            "Number of hits:  20\n",
            "Total Num of users:  468\n",
            "Recommendation HitRate:  0.042735042735042736\n",
            "Number of hits:  23\n",
            "Total Num of users:  526\n",
            "Recommendation HitRate:  0.043726235741444866\n",
            "Number of hits:  27\n",
            "Total Num of users:  517\n",
            "Recommendation HitRate:  0.05222437137330754\n",
            "Number of hits:  22\n",
            "Total Num of users:  470\n",
            "Recommendation HitRate:  0.04680851063829787\n",
            "Number of hits:  28\n",
            "Total Num of users:  453\n",
            "Recommendation HitRate:  0.06181015452538632\n",
            "Number of hits:  20\n",
            "Total Num of users:  362\n",
            "Recommendation HitRate:  0.055248618784530384\n",
            "Average HitRate for All Recommendations:  0.060258668274752236\n"
          ],
          "name": "stdout"
        },
        {
          "output_type": "execute_result",
          "data": {
            "text/plain": [
              "[0.07296137339055794,\n",
              " 0.0784313725490196,\n",
              " 0.08391608391608392,\n",
              " 0.06472491909385113,\n",
              " 0.042735042735042736,\n",
              " 0.043726235741444866,\n",
              " 0.05222437137330754,\n",
              " 0.04680851063829787,\n",
              " 0.06181015452538632,\n",
              " 0.055248618784530384]"
            ]
          },
          "metadata": {
            "tags": []
          },
          "execution_count": 80
        }
      ]
    },
    {
      "cell_type": "code",
      "metadata": {
        "id": "3-FkHqn-pB_G",
        "outputId": "ee8c3c87-a6d3-4588-a841-24bce50babfb"
      },
      "source": [
        "print(LowerBand_updt)\n",
        "print(UpperBand_updt)\n",
        "print(Avg_HitR_updt)"
      ],
      "execution_count": null,
      "outputs": [
        {
          "output_type": "stream",
          "text": [
            "0.049797730838973965\n",
            "0.0707196057105305\n",
            "0.060258668274752236\n"
          ],
          "name": "stdout"
        }
      ]
    },
    {
      "cell_type": "code",
      "metadata": {
        "id": "wvVmP30opBuv",
        "outputId": "9bfd4595-4775-4877-a445-2b33cf96266f"
      },
      "source": [
        "AllSteps_HitR_updt  ##Rank ==20"
      ],
      "execution_count": null,
      "outputs": [
        {
          "output_type": "execute_result",
          "data": {
            "text/plain": [
              "[0.07296137339055794,\n",
              " 0.0784313725490196,\n",
              " 0.08391608391608392,\n",
              " 0.06472491909385113,\n",
              " 0.042735042735042736,\n",
              " 0.043726235741444866,\n",
              " 0.05222437137330754,\n",
              " 0.04680851063829787,\n",
              " 0.06181015452538632,\n",
              " 0.055248618784530384]"
            ]
          },
          "metadata": {
            "tags": []
          },
          "execution_count": 82
        }
      ]
    },
    {
      "cell_type": "markdown",
      "metadata": {
        "id": "KcaJU4aApEpg"
      },
      "source": [
        "## Regular PSI"
      ]
    },
    {
      "cell_type": "code",
      "metadata": {
        "colab": {
          "base_uri": "https://localhost:8080/"
        },
        "id": "c9jUgHkKAhbi",
        "outputId": "be5430ee-3931-400d-8944-8c8126127ea2"
      },
      "source": [
        "Top10Pred_psi = TopNPred(UserItemMAT_regPSI[0], newHOLDOUT_LIST[0],Vpsi_listReg[0],'Updated_UserID',N=10)\n",
        "print(Top10Pred_psi.shape)"
      ],
      "execution_count": null,
      "outputs": [
        {
          "output_type": "stream",
          "text": [
            "(233, 10)\n"
          ],
          "name": "stdout"
        }
      ]
    },
    {
      "cell_type": "code",
      "metadata": {
        "colab": {
          "base_uri": "https://localhost:8080/"
        },
        "id": "u1sFaxNBAhc2",
        "outputId": "a221cdb8-2cb0-4ae9-b4b2-eace696881c5"
      },
      "source": [
        "Hitrate_Eval(newHOLDOUT_LIST[0],Top10Pred_psi,'Updated_UserID','Updated_ItemID')"
      ],
      "execution_count": null,
      "outputs": [
        {
          "output_type": "stream",
          "text": [
            "Number of hits:  17\n",
            "Total Num of users:  233\n",
            "Recommendation HitRate:  0.07296137339055794\n"
          ],
          "name": "stdout"
        },
        {
          "output_type": "execute_result",
          "data": {
            "text/plain": [
              "0.07296137339055794"
            ]
          },
          "metadata": {
            "tags": []
          },
          "execution_count": 102
        }
      ]
    },
    {
      "cell_type": "code",
      "metadata": {
        "colab": {
          "base_uri": "https://localhost:8080/"
        },
        "id": "oUDxtIohbVj8",
        "outputId": "48677220-09c6-4c42-bb00-17236691f54f"
      },
      "source": [
        "All_regPSI_PRED =  TQDMgetALLTopNPred(UserItemMAT_regPSI,newHOLDOUT_LIST,Vpsi_listReg,'Updated_UserID',N = 10)\n",
        "print(len(All_regPSI_PRED))\n",
        "All_regPSI_PRED[:2]"
      ],
      "execution_count": null,
      "outputs": [
        {
          "output_type": "stream",
          "text": [
            "10it [00:00, 30.62it/s]10\n",
            "\n"
          ],
          "name": "stderr"
        },
        {
          "output_type": "execute_result",
          "data": {
            "text/plain": [
              "[array([[574,  13, 497, ...,  68, 935, 572],\n",
              "        [ 37,  15,  62, ..., 556,   9,  86],\n",
              "        [ 23, 209, 413, ..., 540, 419, 577],\n",
              "        ...,\n",
              "        [ 59,  57, 902, ..., 156, 184, 576],\n",
              "        [271, 413, 156, ..., 254, 818, 259],\n",
              "        [ 87, 223, 292, ..., 848, 262, 651]]),\n",
              " array([[  19,  330,   12, ...,  337,  170, 2765],\n",
              "        [ 193,  223,  330, ...,  342,  433,  317],\n",
              "        [ 166,  169,  239, ...,  330,  560, 2933],\n",
              "        ...,\n",
              "        [ 261,  644,  647, ...,  254,  549,  466],\n",
              "        [ 138,  137,    0, ...,  317,  136,   89],\n",
              "        [  91,   40,  223, ...,  254,   73,  156]])]"
            ]
          },
          "metadata": {
            "tags": []
          },
          "execution_count": 103
        }
      ]
    },
    {
      "cell_type": "code",
      "metadata": {
        "colab": {
          "base_uri": "https://localhost:8080/"
        },
        "id": "2ZnpolG9A7KZ",
        "outputId": "e843ebf9-2b5e-410b-84d5-21a21489fb4e"
      },
      "source": [
        "AllSteps_Hitrate_psi, LowerBand, Avg_HitRate, UpperBand   = getAll_HitRate(newHOLDOUT_LIST,All_regPSI_PRED,'Updated_UserID','Updated_ItemID')"
      ],
      "execution_count": null,
      "outputs": [
        {
          "output_type": "stream",
          "text": [
            "Number of hits:  17\n",
            "Total Num of users:  233\n",
            "Recommendation HitRate:  0.07296137339055794\n",
            "Number of hits:  22\n",
            "Total Num of users:  255\n",
            "Recommendation HitRate:  0.08627450980392157\n",
            "Number of hits:  24\n",
            "Total Num of users:  286\n",
            "Recommendation HitRate:  0.08391608391608392\n",
            "Number of hits:  21\n",
            "Total Num of users:  309\n",
            "Recommendation HitRate:  0.06796116504854369\n",
            "Number of hits:  22\n",
            "Total Num of users:  468\n",
            "Recommendation HitRate:  0.04700854700854701\n",
            "Number of hits:  25\n",
            "Total Num of users:  526\n",
            "Recommendation HitRate:  0.04752851711026616\n",
            "Number of hits:  28\n",
            "Total Num of users:  517\n",
            "Recommendation HitRate:  0.05415860735009671\n",
            "Number of hits:  22\n",
            "Total Num of users:  470\n",
            "Recommendation HitRate:  0.04680851063829787\n",
            "Number of hits:  28\n",
            "Total Num of users:  453\n",
            "Recommendation HitRate:  0.06181015452538632\n",
            "Number of hits:  20\n",
            "Total Num of users:  362\n",
            "Recommendation HitRate:  0.055248618784530384\n",
            "Average HitRate for All Recommendations:  0.06236760875762315\n"
          ],
          "name": "stdout"
        }
      ]
    },
    {
      "cell_type": "code",
      "metadata": {
        "id": "LQZ8s2yBhAbC",
        "outputId": "1b3775fa-98d4-43fe-d7fa-4b4bca812b66"
      },
      "source": [
        "AllSteps_Hitrate_psi ##Rank ==20"
      ],
      "execution_count": null,
      "outputs": [
        {
          "output_type": "execute_result",
          "data": {
            "text/plain": [
              "[0.07296137339055794,\n",
              " 0.08627450980392157,\n",
              " 0.08391608391608392,\n",
              " 0.06796116504854369,\n",
              " 0.04700854700854701,\n",
              " 0.04752851711026616,\n",
              " 0.05415860735009671,\n",
              " 0.04680851063829787,\n",
              " 0.06181015452538632,\n",
              " 0.055248618784530384]"
            ]
          },
          "metadata": {
            "tags": []
          },
          "execution_count": 105
        }
      ]
    },
    {
      "cell_type": "code",
      "metadata": {
        "id": "Ak2Iuz1mrPwE",
        "outputId": "e81eda07-de18-4ce5-e186-adbea95b1856"
      },
      "source": [
        "print(LowerBand, Avg_HitRate, UpperBand)"
      ],
      "execution_count": null,
      "outputs": [
        {
          "output_type": "stream",
          "text": [
            "0.051714484692394674 0.06236760875762315 0.07302073282285163\n"
          ],
          "name": "stdout"
        }
      ]
    },
    {
      "cell_type": "markdown",
      "metadata": {
        "id": "HQB5V56-rLfg"
      },
      "source": [
        "## SVD HItR_"
      ]
    },
    {
      "cell_type": "code",
      "metadata": {
        "colab": {
          "base_uri": "https://localhost:8080/"
        },
        "id": "WnCO3ZL96e4I",
        "outputId": "364ac4f0-b337-49d1-b2ca-8c8eced89c9f"
      },
      "source": [
        "Top10Pred_SVD = TopNPred(SVD_UserItemMAT[0],newHOLDOUT_LIST[0],Vsvd_list[0],'Updated_UserID',N=10)\n",
        "print(Top10Pred_SVD.shape)\n",
        "Top10Pred_SVD"
      ],
      "execution_count": null,
      "outputs": [
        {
          "output_type": "stream",
          "text": [
            "(233, 10)\n"
          ],
          "name": "stdout"
        },
        {
          "output_type": "execute_result",
          "data": {
            "text/plain": [
              "array([[ 574,   13,  497, ...,  935,  572,   68],\n",
              "       [  37,   15,   62, ...,   86, 1929,  556],\n",
              "       [  23,  209,  413, ...,  540,  419,  687],\n",
              "       ...,\n",
              "       [  59,   57,  902, ...,  156,  184,  576],\n",
              "       [ 271,  413,  156, ...,  408, 1238,  259],\n",
              "       [  87,  223,  292, ...,  848,  262,  651]])"
            ]
          },
          "metadata": {
            "tags": []
          },
          "execution_count": 107
        }
      ]
    },
    {
      "cell_type": "code",
      "metadata": {
        "colab": {
          "base_uri": "https://localhost:8080/"
        },
        "id": "_y8C9P5hr-sN",
        "outputId": "ff5b210c-636b-4d66-a012-67fdca10344b"
      },
      "source": [
        "Hitrate_Eval(newHOLDOUT_LIST[0],Top10Pred_SVD,'Updated_UserID','Updated_ItemID')"
      ],
      "execution_count": null,
      "outputs": [
        {
          "output_type": "stream",
          "text": [
            "Number of hits:  17\n",
            "Total Num of users:  233\n",
            "Recommendation HitRate:  0.07296137339055794\n"
          ],
          "name": "stdout"
        },
        {
          "output_type": "execute_result",
          "data": {
            "text/plain": [
              "0.07296137339055794"
            ]
          },
          "metadata": {
            "tags": []
          },
          "execution_count": 108
        }
      ]
    },
    {
      "cell_type": "code",
      "metadata": {
        "colab": {
          "base_uri": "https://localhost:8080/"
        },
        "id": "nOTHviyK-jwT",
        "outputId": "eab74d67-67fd-4f08-dec6-61126557c065"
      },
      "source": [
        "AllSVD_topNPRED =  TQDMgetALLTopNPred(SVD_UserItemMAT,newHOLDOUT_LIST,Vsvd_list,'Updated_UserID',N = 10)\n",
        "print(len(AllSVD_topNPRED))\n",
        "AllSVD_topNPRED[:2]"
      ],
      "execution_count": null,
      "outputs": [
        {
          "output_type": "stream",
          "text": [
            "10it [00:00, 24.89it/s]10\n",
            "\n"
          ],
          "name": "stderr"
        },
        {
          "output_type": "execute_result",
          "data": {
            "text/plain": [
              "[array([[ 574,   13,  497, ...,  935,  572,   68],\n",
              "        [  37,   15,   62, ...,   86, 1929,  556],\n",
              "        [  23,  209,  413, ...,  540,  419,  687],\n",
              "        ...,\n",
              "        [  59,   57,  902, ...,  156,  184,  576],\n",
              "        [ 271,  413,  156, ...,  408, 1238,  259],\n",
              "        [  87,  223,  292, ...,  848,  262,  651]]),\n",
              " array([[  19,  330,   12, ...,  337, 2765,  455],\n",
              "        [ 193,  223,  330, ...,  209,  433,  317],\n",
              "        [ 166,  169,  239, ...,  560,  153,  206],\n",
              "        ...,\n",
              "        [ 261,  644,  647, ...,  549,  466,  462],\n",
              "        [ 138,  137,    0, ...,   59,  136,   89],\n",
              "        [  91,   40,  223, ...,  254, 1929,   73]])]"
            ]
          },
          "metadata": {
            "tags": []
          },
          "execution_count": 109
        }
      ]
    },
    {
      "cell_type": "code",
      "metadata": {
        "colab": {
          "base_uri": "https://localhost:8080/"
        },
        "id": "d7xlsk71shw9",
        "outputId": "7e4b2f47-441d-4732-d206-e8a1f3f0cfd3"
      },
      "source": [
        "AllSteps_Hitrate_svd, LowerBand, Avg_HitRate, UpperBand   = getAll_HitRate(,AllSVD_topNPRED,'Updated_UserID','Updated_ItemID')"
      ],
      "execution_count": null,
      "outputs": [
        {
          "output_type": "stream",
          "text": [
            "Number of hits:  17\n",
            "Total Num of users:  233\n",
            "Recommendation HitRate:  0.07296137339055794\n",
            "Number of hits:  21\n",
            "Total Num of users:  255\n",
            "Recommendation HitRate:  0.08235294117647059\n",
            "Number of hits:  25\n",
            "Total Num of users:  286\n",
            "Recommendation HitRate:  0.08741258741258741\n",
            "Number of hits:  20\n",
            "Total Num of users:  309\n",
            "Recommendation HitRate:  0.06472491909385113\n",
            "Number of hits:  23\n",
            "Total Num of users:  468\n",
            "Recommendation HitRate:  0.049145299145299144\n",
            "Number of hits:  27\n",
            "Total Num of users:  526\n",
            "Recommendation HitRate:  0.051330798479087454\n",
            "Number of hits:  34\n",
            "Total Num of users:  517\n",
            "Recommendation HitRate:  0.06576402321083172\n",
            "Number of hits:  22\n",
            "Total Num of users:  470\n",
            "Recommendation HitRate:  0.04680851063829787\n",
            "Number of hits:  29\n",
            "Total Num of users:  453\n",
            "Recommendation HitRate:  0.0640176600441501\n",
            "Number of hits:  19\n",
            "Total Num of users:  362\n",
            "Recommendation HitRate:  0.052486187845303865\n",
            "Average HitRate for All Recommendations:  0.06370043004364373\n"
          ],
          "name": "stdout"
        }
      ]
    },
    {
      "cell_type": "code",
      "metadata": {
        "colab": {
          "base_uri": "https://localhost:8080/"
        },
        "id": "x_L3w8iDPcDV",
        "outputId": "363b53f7-434d-49d0-ea7e-008773d42541"
      },
      "source": [
        "AllSteps_Hitrate_svd  #Rank =20"
      ],
      "execution_count": null,
      "outputs": [
        {
          "output_type": "execute_result",
          "data": {
            "text/plain": [
              "[0.07296137339055794,\n",
              " 0.08235294117647059,\n",
              " 0.08741258741258741,\n",
              " 0.06472491909385113,\n",
              " 0.049145299145299144,\n",
              " 0.051330798479087454,\n",
              " 0.06576402321083172,\n",
              " 0.04680851063829787,\n",
              " 0.0640176600441501,\n",
              " 0.052486187845303865]"
            ]
          },
          "metadata": {
            "tags": []
          },
          "execution_count": 111
        }
      ]
    },
    {
      "cell_type": "code",
      "metadata": {
        "id": "zQN9UtGQhAbK",
        "outputId": "5d83e325-93db-4cc3-e71b-930b38d5db02"
      },
      "source": [
        " print(LowerBand, Avg_HitRate, UpperBand) "
      ],
      "execution_count": null,
      "outputs": [
        {
          "output_type": "stream",
          "text": [
            "0.05364771517696369 0.06370043004364373 0.07375314491032377\n"
          ],
          "name": "stdout"
        }
      ]
    },
    {
      "cell_type": "markdown",
      "metadata": {
        "id": "2mG-deAzqE-C"
      },
      "source": [
        "## RRec HitR_"
      ]
    },
    {
      "cell_type": "code",
      "metadata": {
        "colab": {
          "base_uri": "https://localhost:8080/"
        },
        "id": "uMLoaZ6YlZN3",
        "outputId": "90ba4c62-a1f1-4242-f422-cd84cd1ab274"
      },
      "source": [
        "RRec_AllStepsHitR, RRec_LowBHR, RREC_AvgHitR, RRec_UppBHR = getAll_RandomHitRate(newHOLDOUT_LIST,All_UsersRRecPred,'Updated_UserID','Updated_ItemID')"
      ],
      "execution_count": null,
      "outputs": [
        {
          "output_type": "stream",
          "text": [
            "Number of hits:  0\n",
            "Total Num of users:  233\n",
            "Recommendation HitRate:  0.0\n",
            "Number of hits:  0\n",
            "Total Num of users:  255\n",
            "Recommendation HitRate:  0.0\n",
            "Number of hits:  0\n",
            "Total Num of users:  286\n",
            "Recommendation HitRate:  0.0\n",
            "Number of hits:  0\n",
            "Total Num of users:  309\n",
            "Recommendation HitRate:  0.0\n",
            "Number of hits:  2\n",
            "Total Num of users:  468\n",
            "Recommendation HitRate:  0.004273504273504274\n",
            "Number of hits:  3\n",
            "Total Num of users:  526\n",
            "Recommendation HitRate:  0.005703422053231939\n",
            "Number of hits:  2\n",
            "Total Num of users:  517\n",
            "Recommendation HitRate:  0.0038684719535783366\n",
            "Number of hits:  2\n",
            "Total Num of users:  470\n",
            "Recommendation HitRate:  0.00425531914893617\n",
            "Number of hits:  0\n",
            "Total Num of users:  453\n",
            "Recommendation HitRate:  0.0\n",
            "Number of hits:  1\n",
            "Total Num of users:  362\n",
            "Recommendation HitRate:  0.0027624309392265192\n",
            "Average HitRate for All Recommendations:  0.002086314836847724\n"
          ],
          "name": "stdout"
        }
      ]
    },
    {
      "cell_type": "code",
      "metadata": {
        "id": "FVPb6680r81m",
        "outputId": "244dd119-5715-4231-aab5-31b2fde39741"
      },
      "source": [
        "RRec_AllStepsHitR"
      ],
      "execution_count": null,
      "outputs": [
        {
          "output_type": "execute_result",
          "data": {
            "text/plain": [
              "[0.0,\n",
              " 0.0,\n",
              " 0.0,\n",
              " 0.0,\n",
              " 0.004273504273504274,\n",
              " 0.005703422053231939,\n",
              " 0.0038684719535783366,\n",
              " 0.00425531914893617,\n",
              " 0.0,\n",
              " 0.0027624309392265192]"
            ]
          },
          "metadata": {
            "tags": []
          },
          "execution_count": 128
        }
      ]
    },
    {
      "cell_type": "code",
      "metadata": {
        "id": "lJjf284OhAbY",
        "outputId": "28a2a996-0f57-42de-9dc9-2df15b2701a7"
      },
      "source": [
        "print( RRec_LowBHR, RREC_AvgHitR, RRec_UppBHR)"
      ],
      "execution_count": null,
      "outputs": [
        {
          "output_type": "stream",
          "text": [
            "0.00043480915401082143 0.002086314836847724 0.0037378205196846267\n"
          ],
          "name": "stdout"
        }
      ]
    },
    {
      "cell_type": "markdown",
      "metadata": {
        "id": "YZNhrtpwr_fM"
      },
      "source": [
        "## MPop HitR_"
      ]
    },
    {
      "cell_type": "code",
      "metadata": {
        "colab": {
          "base_uri": "https://localhost:8080/"
        },
        "id": "pzPaCjrsUvFa",
        "outputId": "b7ffccf3-91fc-459b-dd5e-4d8322459502"
      },
      "source": [
        "AllSteps_Hitrate, LowerBand, Avg_HitRate, UpperBand  = getAll_MostPOPHitRate(newHoldout_list,All_MostPOPRED_List,'Updated_UserID','Updated_ItemID')"
      ],
      "execution_count": null,
      "outputs": [
        {
          "output_type": "stream",
          "text": [
            "Number of hits:  9\n",
            "Total Num of users:  233\n",
            "Recommendation HitRate:  0.03862660944206009\n",
            "Number of hits:  5\n",
            "Total Num of users:  255\n",
            "Recommendation HitRate:  0.0196078431372549\n",
            "Number of hits:  7\n",
            "Total Num of users:  286\n",
            "Recommendation HitRate:  0.024475524475524476\n",
            "Number of hits:  3\n",
            "Total Num of users:  309\n",
            "Recommendation HitRate:  0.009708737864077669\n",
            "Number of hits:  6\n",
            "Total Num of users:  468\n",
            "Recommendation HitRate:  0.01282051282051282\n",
            "Number of hits:  9\n",
            "Total Num of users:  526\n",
            "Recommendation HitRate:  0.017110266159695818\n",
            "Number of hits:  11\n",
            "Total Num of users:  517\n",
            "Recommendation HitRate:  0.02127659574468085\n",
            "Number of hits:  6\n",
            "Total Num of users:  470\n",
            "Recommendation HitRate:  0.01276595744680851\n",
            "Number of hits:  14\n",
            "Total Num of users:  453\n",
            "Recommendation HitRate:  0.03090507726269316\n",
            "Number of hits:  2\n",
            "Total Num of users:  362\n",
            "Recommendation HitRate:  0.0055248618784530384\n",
            "Average HitRate for All Recommendations:  0.019282198623176133\n"
          ],
          "name": "stdout"
        }
      ]
    },
    {
      "cell_type": "code",
      "metadata": {
        "id": "H3kfcIzLq3aq",
        "outputId": "a982b12f-7085-44be-a775-6815cdff213f"
      },
      "source": [
        "AllSteps_Hitrate #Mpop with newUserItem list"
      ],
      "execution_count": null,
      "outputs": [
        {
          "output_type": "execute_result",
          "data": {
            "text/plain": [
              "[0.03862660944206009,\n",
              " 0.0196078431372549,\n",
              " 0.024475524475524476,\n",
              " 0.009708737864077669,\n",
              " 0.01282051282051282,\n",
              " 0.017110266159695818,\n",
              " 0.02127659574468085,\n",
              " 0.01276595744680851,\n",
              " 0.03090507726269316,\n",
              " 0.0055248618784530384]"
            ]
          },
          "metadata": {
            "tags": []
          },
          "execution_count": 17
        }
      ]
    },
    {
      "cell_type": "code",
      "metadata": {
        "id": "dmerRgcn_tH-",
        "outputId": "32373494-24f3-42a9-8a87-d97a11046ada"
      },
      "source": [
        "print(LowerBand, Avg_HitRate, UpperBand)"
      ],
      "execution_count": null,
      "outputs": [
        {
          "output_type": "stream",
          "text": [
            "0.03044334133503459 0.0567052845870437 0.0829672278390528\n"
          ],
          "name": "stdout"
        }
      ]
    },
    {
      "cell_type": "code",
      "metadata": {
        "id": "LlAtIN0K7qM9"
      },
      "source": [
        ""
      ],
      "execution_count": null,
      "outputs": []
    },
    {
      "cell_type": "markdown",
      "metadata": {
        "id": "4LTu6CfTlkKV"
      },
      "source": [
        "# MRR_Scores"
      ]
    },
    {
      "cell_type": "markdown",
      "metadata": {
        "id": "zSy_1uXgpvHE"
      },
      "source": [
        "## Updated_mrr"
      ]
    },
    {
      "cell_type": "code",
      "metadata": {
        "id": "Jua1mher8NGO",
        "outputId": "75892255-0e71-4966-aa09-bbcebd25f107"
      },
      "source": [
        "mrr_1st = MRR_Eval(newHOLDOUT_LIST[0],Top_NPred,'Updated_ItemID')\n",
        "print(\"1st Step MRR: \",mrr_1st)"
      ],
      "execution_count": null,
      "outputs": [
        {
          "output_type": "stream",
          "text": [
            "1st Step MRR:  0.021786225219701617\n"
          ],
          "name": "stdout"
        }
      ]
    },
    {
      "cell_type": "code",
      "metadata": {
        "id": "HKCypKY78NGP",
        "outputId": "a3b76d44-bca2-4ebb-faa3-31e32a223bc3"
      },
      "source": [
        "AllSteps_MRRUpdt, LowerB_Updt, AvgMRR_Updt, UpperB_Updt  = TQDMgetAll_MRR_Eval(newHOLDOUT_LIST,AllUpdt_pred,'Updated_ItemID')\n",
        "AllSteps_MRRUpdt    ##Rank ==20"
      ],
      "execution_count": null,
      "outputs": [
        {
          "output_type": "stream",
          "text": [
            "10it [00:00, 1165.83it/s]\n"
          ],
          "name": "stderr"
        },
        {
          "output_type": "execute_result",
          "data": {
            "text/plain": [
              "[0.021786,\n",
              " 0.023369,\n",
              " 0.032823,\n",
              " 0.019985,\n",
              " 0.01388,\n",
              " 0.016827,\n",
              " 0.018896,\n",
              " 0.021409,\n",
              " 0.024646,\n",
              " 0.018688]"
            ]
          },
          "metadata": {
            "tags": []
          },
          "execution_count": 114
        }
      ]
    },
    {
      "cell_type": "code",
      "metadata": {
        "id": "xvxgknDI8NGQ",
        "outputId": "49f4e381-1f53-41d9-ea1b-13334722749b"
      },
      "source": [
        "print(LowerB_Updt, AvgMRR_Updt, UpperB_Updt)\n",
        "print(\"Average MRR: \",AvgMRR_Updt)"
      ],
      "execution_count": null,
      "outputs": [
        {
          "output_type": "stream",
          "text": [
            "0.017553 0.021231 0.024908\n",
            "Average MRR:  0.021231\n"
          ],
          "name": "stdout"
        }
      ]
    },
    {
      "cell_type": "code",
      "metadata": {
        "id": "Kcme4SUDp0UO"
      },
      "source": [
        ""
      ],
      "execution_count": null,
      "outputs": []
    },
    {
      "cell_type": "markdown",
      "metadata": {
        "id": "NViCcctzqDX0"
      },
      "source": [
        "## RegPSI_MRR"
      ]
    },
    {
      "cell_type": "code",
      "metadata": {
        "id": "QiUIA7jglb2c",
        "outputId": "8ca95a94-c146-4519-95b6-bbe6b9d4289e"
      },
      "source": [
        "##MRR: \n",
        "mrr_psi_1st = MRR_Eval(newHOLDOUT_LIST[0],Top10Pred_psi,'Updated_ItemID')\n",
        "print(\"1st Step MRR: \",mrr_psi_1st)"
      ],
      "execution_count": null,
      "outputs": [
        {
          "output_type": "stream",
          "text": [
            "1st Step MRR:  0.021684038422235846\n"
          ],
          "name": "stdout"
        }
      ]
    },
    {
      "cell_type": "code",
      "metadata": {
        "id": "lHlCnS9t8NGt",
        "outputId": "359894ce-1a44-4294-fc09-eb36ce23e040"
      },
      "source": [
        "psi_AllStepsMRR, psi_LowerB, psi_AvgMRR, psi_UpperB  = TQDMgetAll_MRR_Eval(newHOLDOUT_LIST,All_regPSI_PRED,'Updated_ItemID')\n",
        "psi_AllStepsMRR    ##Rank ==20"
      ],
      "execution_count": null,
      "outputs": [
        {
          "output_type": "stream",
          "text": [
            "10it [00:00, 1066.36it/s]\n"
          ],
          "name": "stderr"
        },
        {
          "output_type": "execute_result",
          "data": {
            "text/plain": [
              "[0.021684,\n",
              " 0.024197,\n",
              " 0.031262,\n",
              " 0.020147,\n",
              " 0.014692,\n",
              " 0.017142,\n",
              " 0.019946,\n",
              " 0.021279,\n",
              " 0.023715,\n",
              " 0.020008]"
            ]
          },
          "metadata": {
            "tags": []
          },
          "execution_count": 117
        }
      ]
    },
    {
      "cell_type": "code",
      "metadata": {
        "id": "-V-t5JQ68NGu",
        "outputId": "9d506c1d-e490-4b15-d1fe-24f7296a79be"
      },
      "source": [
        "print(psi_LowerB, psi_AvgMRR, psi_UpperB)\n",
        "print(\"Average MRR: \",psi_AvgMRR)"
      ],
      "execution_count": null,
      "outputs": [
        {
          "output_type": "stream",
          "text": [
            "0.018214 0.021407 0.0246\n",
            "Average MRR:  0.021407\n"
          ],
          "name": "stdout"
        }
      ]
    },
    {
      "cell_type": "code",
      "metadata": {
        "id": "ZCXL-Upxrfcf"
      },
      "source": [
        ""
      ],
      "execution_count": null,
      "outputs": []
    },
    {
      "cell_type": "markdown",
      "metadata": {
        "id": "0VF39Re9rg3C"
      },
      "source": [
        "## SVD_MRR"
      ]
    },
    {
      "cell_type": "code",
      "metadata": {
        "id": "2VNpJ3gc8NG-",
        "outputId": "5be82150-5b2a-40aa-f4a5-ac1c051917d3"
      },
      "source": [
        "##MRR: \n",
        "mrr_SVD_1st = MRR_Eval(newHOLDOUT_LIST[0],Top10Pred_SVD,'Updated_ItemID')\n",
        "print(\"1st Step MRR: \",mrr_SVD_1st)"
      ],
      "execution_count": null,
      "outputs": [
        {
          "output_type": "stream",
          "text": [
            "1st Step MRR:  0.019473397370393077\n"
          ],
          "name": "stdout"
        }
      ]
    },
    {
      "cell_type": "code",
      "metadata": {
        "id": "Xxx66F3a8NG_",
        "outputId": "7e2a3c90-0b6d-4303-a498-94fafacfdf70"
      },
      "source": [
        "svd_AllStepsMRR, svd_LowerB, svd_AvgMRR, svd_UpperB  = TQDMgetAll_MRR_Eval(newHOLDOUT_LIST,AllSVD_topNPRED,'Updated_ItemID')\n",
        "svd_AllStepsMRR    ####Rank ==20"
      ],
      "execution_count": null,
      "outputs": [
        {
          "output_type": "stream",
          "text": [
            "10it [00:00, 837.10it/s]\n"
          ],
          "name": "stderr"
        },
        {
          "output_type": "execute_result",
          "data": {
            "text/plain": [
              "[0.019473,\n",
              " 0.023609,\n",
              " 0.035299,\n",
              " 0.020142,\n",
              " 0.017286,\n",
              " 0.017076,\n",
              " 0.024127,\n",
              " 0.020408,\n",
              " 0.025603,\n",
              " 0.016128]"
            ]
          },
          "metadata": {
            "tags": []
          },
          "execution_count": 120
        }
      ]
    },
    {
      "cell_type": "code",
      "metadata": {
        "id": "CdIKor9yrnkW",
        "outputId": "91f49e19-2362-4ed2-9c61-8a8c8261cc2c"
      },
      "source": [
        " print(svd_LowerB, svd_AvgMRR, svd_UpperB )"
      ],
      "execution_count": null,
      "outputs": [
        {
          "output_type": "stream",
          "text": [
            "0.017853 0.021915 0.025977\n"
          ],
          "name": "stdout"
        }
      ]
    },
    {
      "cell_type": "markdown",
      "metadata": {
        "id": "R9brrLc1q8RZ"
      },
      "source": [
        "## RRec_MRR"
      ]
    },
    {
      "cell_type": "code",
      "metadata": {
        "id": "2f566w7D8NHa",
        "outputId": "d1444399-0394-4490-c971-48d9a8b60221"
      },
      "source": [
        "RRec_AllStepsMRR, RRec_LowB, RRec_Avg_MRR, RRec_UppB = getAll_RandomRecMRR(newHOLDOUT_LIST,All_UsersRRecPred,'Updated_UserID','Updated_ItemID')\n",
        "RRec_AllStepsMRR"
      ],
      "execution_count": null,
      "outputs": [
        {
          "output_type": "stream",
          "text": [
            "10it [00:00, 511.28it/s]\n"
          ],
          "name": "stderr"
        },
        {
          "output_type": "execute_result",
          "data": {
            "text/plain": [
              "[0, 0, 0, 0, 0.00089, 0.001061, 0.000516, 0.00266, 0, 0.000345]"
            ]
          },
          "metadata": {
            "tags": []
          },
          "execution_count": 147
        }
      ]
    },
    {
      "cell_type": "code",
      "metadata": {
        "id": "elQ1eq6PhAbz",
        "outputId": "f7ed8d28-533b-4db0-9f92-dbb2a491f733"
      },
      "source": [
        "print(RRec_LowB, RRec_Avg_MRR, RRec_UppB )"
      ],
      "execution_count": null,
      "outputs": [
        {
          "output_type": "stream",
          "text": [
            "-5.530737401062021e-05 0.0005472 0.00114970737401062\n"
          ],
          "name": "stdout"
        }
      ]
    },
    {
      "cell_type": "markdown",
      "metadata": {
        "id": "3jYTmPkgsL7r"
      },
      "source": [
        "## Mpop_MRR"
      ]
    },
    {
      "cell_type": "code",
      "metadata": {
        "id": "IQFQoOfF8NHu",
        "outputId": "a4574a8c-32a5-4479-e0db-61b516426f18"
      },
      "source": [
        "#MRR....\n",
        "Mpop_AllStepsMRR, Mpop_LowB, Mpop_AvgMRR, Mpop_UppB = getAll_MostPOP_MRR(newHoldout_list,All_MostPOPRED_List,'Updated_UserID','Updated_ItemID')\n",
        "Mpop_AllStepsMRR  #Mpop with newUserItem list"
      ],
      "execution_count": null,
      "outputs": [
        {
          "output_type": "stream",
          "text": [
            "10it [00:00, 654.35it/s]\n"
          ],
          "name": "stderr"
        },
        {
          "output_type": "execute_result",
          "data": {
            "text/plain": [
              "[0.010174398801008244,\n",
              " 0.007009025832555245,\n",
              " 0.014248251748251749,\n",
              " 0.006934812760055478,\n",
              " 0.0027981277981277983,\n",
              " 0.0044541010320478,\n",
              " 0.0082281784409444,\n",
              " 0.005851063829787234,\n",
              " 0.009682364483688987,\n",
              " 0.0016881522406384287]"
            ]
          },
          "metadata": {
            "tags": []
          },
          "execution_count": 18
        }
      ]
    },
    {
      "cell_type": "code",
      "metadata": {
        "id": "F8sooK_TCywX",
        "outputId": "8f00af36-f1da-4968-8006-c875c0397062"
      },
      "source": [
        "print( Mpop_LowB, Mpop_AvgMRR, Mpop_UppB )"
      ],
      "execution_count": null,
      "outputs": [
        {
          "output_type": "stream",
          "text": [
            "0.004442141976998976 0.007106847696710536 0.009771553416422097\n"
          ],
          "name": "stdout"
        }
      ]
    },
    {
      "cell_type": "code",
      "metadata": {
        "id": "7FVvKv6r7yic"
      },
      "source": [
        ""
      ],
      "execution_count": null,
      "outputs": []
    },
    {
      "cell_type": "markdown",
      "metadata": {
        "id": "9E5uZACqmdRw"
      },
      "source": [
        "# Coverage"
      ]
    },
    {
      "cell_type": "markdown",
      "metadata": {
        "id": "T_N9aVIdmiJw"
      },
      "source": [
        "## UpdtedPSI_COV"
      ]
    },
    {
      "cell_type": "code",
      "metadata": {
        "id": "eIylbmcphAb7"
      },
      "source": [
        ""
      ],
      "execution_count": null,
      "outputs": []
    },
    {
      "cell_type": "code",
      "metadata": {
        "id": "V6MBUBiw8NGX",
        "outputId": "7f06e0ee-9b91-4105-dd35-f7c70ddab502"
      },
      "source": [
        "StepCoverage_Ratio(newMLDF_1M,AllUsers_updtPRED[0],'Updated_ItemID')  "
      ],
      "execution_count": null,
      "outputs": [
        {
          "output_type": "execute_result",
          "data": {
            "text/plain": [
              "0.152845"
            ]
          },
          "metadata": {
            "tags": []
          },
          "execution_count": 122
        }
      ]
    },
    {
      "cell_type": "code",
      "metadata": {
        "id": "UWbQX8v-8NGY",
        "outputId": "ac300c20-57ab-40d8-ec3a-cfeedade9b95"
      },
      "source": [
        "UpdtAvg_Coverage_List = AllSteps_Coverage_Ratio(newMLDF_1M,AllUsers_updtPRED,'Updated_ItemID')\n",
        "UpdtAvg_Coverage_List  #Rank == 20"
      ],
      "execution_count": null,
      "outputs": [
        {
          "output_type": "execute_result",
          "data": {
            "text/plain": [
              "[0.152845,\n",
              " 0.156524,\n",
              " 0.155392,\n",
              " 0.152279,\n",
              " 0.152279,\n",
              " 0.152845,\n",
              " 0.152562,\n",
              " 0.152845,\n",
              " 0.153694,\n",
              " 0.153411]"
            ]
          },
          "metadata": {
            "tags": []
          },
          "execution_count": 123
        }
      ]
    },
    {
      "cell_type": "code",
      "metadata": {
        "id": "yLH8e0QZ8NGs"
      },
      "source": [
        ""
      ],
      "execution_count": null,
      "outputs": []
    },
    {
      "cell_type": "markdown",
      "metadata": {
        "id": "1GSmfsOoqcSR"
      },
      "source": [
        "## RegPSI_COV"
      ]
    },
    {
      "cell_type": "code",
      "metadata": {
        "id": "4qGnS77i8NGx",
        "outputId": "c6276faf-3ed0-4205-a7c2-8e7333f6c869"
      },
      "source": [
        "psi_AvgCoverage_List = AllSteps_Coverage_Ratio(newMLDF_1M,AllUsersRegPIS_PRED,'Updated_ItemID')\n",
        "psi_AvgCoverage_List  #Rank ==20"
      ],
      "execution_count": null,
      "outputs": [
        {
          "output_type": "execute_result",
          "data": {
            "text/plain": [
              "[0.155958,\n",
              " 0.15709,\n",
              " 0.155675,\n",
              " 0.155675,\n",
              " 0.156241,\n",
              " 0.158222,\n",
              " 0.158222,\n",
              " 0.158222,\n",
              " 0.158789,\n",
              " 0.156807]"
            ]
          },
          "metadata": {
            "tags": []
          },
          "execution_count": 124
        }
      ]
    },
    {
      "cell_type": "code",
      "metadata": {
        "id": "-oVnc3FR_DfB"
      },
      "source": [
        ""
      ],
      "execution_count": null,
      "outputs": []
    },
    {
      "cell_type": "markdown",
      "metadata": {
        "id": "6lEpxbMqoPdG"
      },
      "source": [
        "## SVD_COV\n"
      ]
    },
    {
      "cell_type": "code",
      "metadata": {
        "id": "o-7SsHoVo2gx",
        "outputId": "c6e6fb89-4de7-4ca6-8d1c-c8ebf340c15e"
      },
      "source": [
        "SVD_AvgCoverage_List = AllSteps_Coverage_Ratio(newMLDF_1M,AllUsersSVD_PRED,'Updated_ItemID')\n",
        "SVD_AvgCoverage_List  ##Rank == 20"
      ],
      "execution_count": null,
      "outputs": [
        {
          "output_type": "execute_result",
          "data": {
            "text/plain": [
              "[0.155109,\n",
              " 0.155392,\n",
              " 0.154543,\n",
              " 0.155675,\n",
              " 0.158789,\n",
              " 0.157939,\n",
              " 0.15709,\n",
              " 0.157656,\n",
              " 0.158506,\n",
              " 0.155109]"
            ]
          },
          "metadata": {
            "tags": []
          },
          "execution_count": 125
        }
      ]
    },
    {
      "cell_type": "code",
      "metadata": {
        "id": "Oxcy-gTkrRVG"
      },
      "source": [
        ""
      ],
      "execution_count": null,
      "outputs": []
    },
    {
      "cell_type": "markdown",
      "metadata": {
        "id": "q5lllTOKrGZi"
      },
      "source": [
        "## RRec_COV"
      ]
    },
    {
      "cell_type": "code",
      "metadata": {
        "id": "DUFoVqur8NHb",
        "outputId": "da623733-8c91-4c52-d440-d610613648bf"
      },
      "source": [
        "##COVERAGE\n",
        "RRec_AvgCoverageList = AllSteps_Coverage_Ratio(newMLDF_1M,All_UsersRRecPred,'Updated_ItemID')\n",
        "RRec_AvgCoverageList"
      ],
      "execution_count": null,
      "outputs": [
        {
          "output_type": "execute_result",
          "data": {
            "text/plain": [
              "[1.0, 1.0, 1.0, 1.0, 1.0, 1.0, 1.0, 1.0, 1.0, 1.0]"
            ]
          },
          "metadata": {
            "tags": []
          },
          "execution_count": 161
        }
      ]
    },
    {
      "cell_type": "code",
      "metadata": {
        "id": "J2VTX-PBsUVL"
      },
      "source": [
        ""
      ],
      "execution_count": null,
      "outputs": []
    },
    {
      "cell_type": "markdown",
      "metadata": {
        "id": "TQEA5_2msUjM"
      },
      "source": [
        "## Mpop_COV"
      ]
    },
    {
      "cell_type": "code",
      "metadata": {
        "id": "LcCzVhcD8NHv",
        "outputId": "804e1087-609c-4f93-8b8f-2a0c926cf0a5"
      },
      "source": [
        "##COVERAGE\n",
        "MPop_AvgCoverageList = AllSteps_Coverage_Ratio(newMLDF_1M,All_MostPOPRED_List,'Updated_ItemID')\n",
        "MPop_AvgCoverageList  #Mpop with newUserItem list"
      ],
      "execution_count": null,
      "outputs": [
        {
          "output_type": "execute_result",
          "data": {
            "text/plain": [
              "[0.00283,\n",
              " 0.00283,\n",
              " 0.00283,\n",
              " 0.00283,\n",
              " 0.00283,\n",
              " 0.00283,\n",
              " 0.00283,\n",
              " 0.00283,\n",
              " 0.00283,\n",
              " 0.00283]"
            ]
          },
          "metadata": {
            "tags": []
          },
          "execution_count": 20
        }
      ]
    },
    {
      "cell_type": "code",
      "metadata": {
        "id": "wLBSI-B3C6NG"
      },
      "source": [
        ""
      ],
      "execution_count": null,
      "outputs": []
    },
    {
      "cell_type": "markdown",
      "metadata": {
        "id": "00phYsByS9Oq"
      },
      "source": [
        "# Stability\n"
      ]
    },
    {
      "cell_type": "code",
      "metadata": {
        "id": "YpmeR79n8NHC"
      },
      "source": [
        ""
      ],
      "execution_count": null,
      "outputs": []
    },
    {
      "cell_type": "code",
      "metadata": {
        "id": "UkFqDvcW_Amh"
      },
      "source": [
        "AllSteps = list(range(1,10))\n",
        "print(len(AllSteps))\n",
        "print(len(AllUsers_updtPRED))\n",
        "AllSteps"
      ],
      "execution_count": null,
      "outputs": []
    },
    {
      "cell_type": "markdown",
      "metadata": {
        "id": "4GLHnKJViAHo"
      },
      "source": [
        "##  Updated Stby"
      ]
    },
    {
      "cell_type": "code",
      "metadata": {
        "id": "idg0D36EhAcM"
      },
      "source": [
        "#newHOLDOUT_LIST  newUserItem_list new_PSIDFlist newMLDF_1M"
      ],
      "execution_count": null,
      "outputs": []
    },
    {
      "cell_type": "code",
      "metadata": {
        "colab": {
          "base_uri": "https://localhost:8080/"
        },
        "id": "QlTrlJKrNwRC",
        "outputId": "48d55153-12ed-4742-be38-3beb3266a589"
      },
      "source": [
        "UpdtPSICorr_ = Updt_getAll_AvgCorr(AllUsers_updtPRED,newUserItem_list,AllSteps,'Updated_UserID')  #,\n",
        "UpdtPSICorr_"
      ],
      "execution_count": null,
      "outputs": [
        {
          "output_type": "execute_result",
          "data": {
            "text/plain": [
              "array([array([0.97749498, 1.        , 0.98387314, ..., 0.76346912, 0.77748344,\n",
              "              0.93752461])                                                    ,\n",
              "       array([1.        , 1.        , 0.80641214, ..., 0.89742931, 0.98788042,\n",
              "              0.83310567])                                                    ,\n",
              "       array([1.        , 0.93397092, 0.8923215 , ..., 0.97749498, 0.0820994 ,\n",
              "              0.49579491])                                                    ,\n",
              "       array([1.        , 1.        , 1.        , ..., 0.8923215 , 1.        ,\n",
              "              0.26365348])                                                    ,\n",
              "       array([1.        , 1.        , 1.        , ..., 1.        , 1.        ,\n",
              "              0.91192851])                                                    ,\n",
              "       array([1.        , 1.        , 1.        , ..., 1.        , 1.        ,\n",
              "              0.49141241])                                                    ,\n",
              "       array([0.98387314, 1.        , 1.        , ..., 1.        , 0.62971958,\n",
              "              0.04199901])                                                    ,\n",
              "       array([0.4539545 , 1.        , 1.        , ..., 0.21268381, 0.25837525,\n",
              "              1.        ])                                                    ,\n",
              "       array([0.98387314, 1.        , 1.        , ..., 0.49412955, 1.        ,\n",
              "              0.55422194])                                                    ],\n",
              "      dtype=object)"
            ]
          },
          "metadata": {
            "tags": []
          },
          "execution_count": 127
        }
      ]
    },
    {
      "cell_type": "code",
      "metadata": {
        "colab": {
          "base_uri": "https://localhost:8080/"
        },
        "id": "Ms8Nj-1ndBAG",
        "outputId": "744e9e7a-12fa-4919-a992-faa64d30e9b2"
      },
      "source": [
        "UpdtPSICorr_.shape  ##Raank ==20\n",
        "for df in UpdtPSICorr_:\n",
        "    print(df.mean())  "
      ],
      "execution_count": null,
      "outputs": [
        {
          "output_type": "stream",
          "text": [
            "0.9620970285062926\n",
            "0.9607216348825189\n",
            "0.9630551961242444\n",
            "0.9765954882468535\n",
            "0.9731713720756313\n",
            "0.9750155671598835\n",
            "0.9723693530189954\n",
            "0.9754953602840869\n",
            "0.9769391266876223\n"
          ],
          "name": "stdout"
        }
      ]
    },
    {
      "cell_type": "code",
      "metadata": {
        "id": "PhfkO3EcJN5W"
      },
      "source": [
        ""
      ],
      "execution_count": null,
      "outputs": []
    },
    {
      "cell_type": "markdown",
      "metadata": {
        "id": "s19yQCNaTxSL"
      },
      "source": [
        "## RegPSI Stby"
      ]
    },
    {
      "cell_type": "code",
      "metadata": {
        "colab": {
          "base_uri": "https://localhost:8080/"
        },
        "id": "5jPXwk8KTxS9",
        "outputId": "c3ed416c-2aab-4494-b731-b57f7a837dd8"
      },
      "source": [
        "RegPSICorr_ = Updt_getAll_AvgCorr(AllUsersRegPIS_PRED,newUserItem_list,AllSteps,'Updated_UserID')  #,\n",
        "RegPSICorr_"
      ],
      "execution_count": null,
      "outputs": [
        {
          "output_type": "execute_result",
          "data": {
            "text/plain": [
              "array([array([1.        , 1.        , 0.87787813, ..., 0.80884696, 0.78198938,\n",
              "              0.87549231])                                                    ,\n",
              "       array([0.93397092, 0.93397092, 0.88724111, ..., 0.89742931, 0.9804132 ,\n",
              "              0.83310567])                                                    ,\n",
              "       array([1.        , 0.91291953, 0.98788042, ..., 0.90428277, 0.07988296,\n",
              "              0.49579491])                                                    ,\n",
              "       array([0.93752461, 0.93397092, 0.97458534, ..., 1.        , 0.98788042,\n",
              "              0.26063194])                                                    ,\n",
              "       array([0.94467132, 0.97749498, 0.87787813, ..., 0.70836709, 1.        ,\n",
              "              0.9226361 ])                                                    ,\n",
              "       array([0.98307362, 1.        , 0.85242816, ..., 1.        , 1.        ,\n",
              "              0.51669578])                                                    ,\n",
              "       array([0.98307362, 1.        , 0.87716175, ..., 0.87477775, 0.62469734,\n",
              "              0.04199901])                                                    ,\n",
              "       array([0.47841763, 1.        , 0.98307362, ..., 0.26701571, 0.25837525,\n",
              "              1.        ])                                                    ,\n",
              "       array([1.        , 0.98788042, 0.84825341, ..., 0.47531481, 1.        ,\n",
              "              0.54059695])                                                    ],\n",
              "      dtype=object)"
            ]
          },
          "metadata": {
            "tags": []
          },
          "execution_count": 129
        }
      ]
    },
    {
      "cell_type": "code",
      "metadata": {
        "id": "fxJ8CrJahAcQ"
      },
      "source": [
        ""
      ],
      "execution_count": null,
      "outputs": []
    },
    {
      "cell_type": "code",
      "metadata": {
        "colab": {
          "base_uri": "https://localhost:8080/"
        },
        "id": "7Jw6LVmFTxTC",
        "outputId": "38745d49-00dd-4f61-c7d0-78bc0f17010f"
      },
      "source": [
        "RegPSICorr_.shape   ##Rank ==20\n",
        "for df in RegPSICorr_:\n",
        "    print(df.mean())  "
      ],
      "execution_count": null,
      "outputs": [
        {
          "output_type": "stream",
          "text": [
            "0.9599783547670391\n",
            "0.9606047528373529\n",
            "0.956993887099318\n",
            "0.944814578108829\n",
            "0.9431241776247598\n",
            "0.9441558231795784\n",
            "0.9412947863264628\n",
            "0.9473987669946528\n",
            "0.9513248035619233\n"
          ],
          "name": "stdout"
        }
      ]
    },
    {
      "cell_type": "code",
      "metadata": {
        "id": "O1ZQgxN2TxTF"
      },
      "source": [
        ""
      ],
      "execution_count": null,
      "outputs": []
    },
    {
      "cell_type": "markdown",
      "metadata": {
        "id": "yfOZLbLYuqpn"
      },
      "source": [
        "## SVD Stby"
      ]
    },
    {
      "cell_type": "code",
      "metadata": {
        "colab": {
          "base_uri": "https://localhost:8080/"
        },
        "id": "B6Dik3BEvZDE",
        "outputId": "133b7aeb-06be-4e8c-defd-8c5e80bbca0a"
      },
      "source": [
        "pureSVDCorr_ = Updt_getAll_AvgCorr(AllUsersSVD_PRED,newUserItem_list,AllSteps,'Updated_UserID')  #,\n",
        "pureSVDCorr_"
      ],
      "execution_count": null,
      "outputs": [
        {
          "output_type": "execute_result",
          "data": {
            "text/plain": [
              "array([array([1.        , 1.        , 0.92439056, ..., 0.80884696, 0.72453271,\n",
              "              0.84755945])                                                    ,\n",
              "       array([0.89816124, 0.98387314, 0.91391158, ..., 0.96721748, 1.        ,\n",
              "              0.88386932])                                                    ,\n",
              "       array([0.89816124, 0.98788042, 0.90428277, ..., 0.84594223, 0.06033616,\n",
              "              0.480939  ])                                                    ,\n",
              "       array([0.97749498, 0.97194764, 0.9711577 , ..., 0.91813929, 0.91391158,\n",
              "              0.26745085])                                                    ,\n",
              "       array([0.92514345, 0.8714503 , 0.86224297, ..., 0.84271627, 0.92514345,\n",
              "              0.85080241])                                                    ,\n",
              "       array([0.9804132 , 0.90330067, 0.8923215 , ..., 0.91019669, 0.91118591,\n",
              "              0.83242304])                                                    ,\n",
              "       array([0.9804132 , 0.9711577 , 0.86648122, ..., 0.91813929, 0.74162341,\n",
              "              0.01933435])                                                    ,\n",
              "       array([0.47841763, 0.97010543, 0.8923215 , ..., 0.27588591, 0.29072309,\n",
              "              0.97749498])                                                    ,\n",
              "       array([0.98788042, 0.92514345, 0.97194764, ..., 0.22151427, 0.93397092,\n",
              "              0.5388304 ])                                                    ],\n",
              "      dtype=object)"
            ]
          },
          "metadata": {
            "tags": []
          },
          "execution_count": 131
        }
      ]
    },
    {
      "cell_type": "code",
      "metadata": {
        "colab": {
          "base_uri": "https://localhost:8080/"
        },
        "id": "ei8R6zjrvZDG",
        "outputId": "15f545fe-060f-49aa-cce9-b1b0b3e96fee"
      },
      "source": [
        "pureSVDCorr_.shape   #Rank ==20\n",
        "for df in pureSVDCorr_:\n",
        "    print(df.mean())  "
      ],
      "execution_count": null,
      "outputs": [
        {
          "output_type": "stream",
          "text": [
            "0.9323322516589378\n",
            "0.9324193010339629\n",
            "0.9262582334143175\n",
            "0.8740615242956935\n",
            "0.8118970867704245\n",
            "0.8610486821761149\n",
            "0.8572816226862137\n",
            "0.916621474708931\n",
            "0.9169505447269858\n"
          ],
          "name": "stdout"
        }
      ]
    },
    {
      "cell_type": "code",
      "metadata": {
        "id": "RG9tvVXSvYaX"
      },
      "source": [
        ""
      ],
      "execution_count": null,
      "outputs": []
    },
    {
      "cell_type": "markdown",
      "metadata": {
        "id": "xwHxO9FCrisT"
      },
      "source": [
        "## RRec Stby"
      ]
    },
    {
      "cell_type": "code",
      "metadata": {
        "id": "3xq4aMTZ8NHc",
        "outputId": "21f01b8a-82ee-431c-f265-e14de586903e"
      },
      "source": [
        "RandRec_Corr = Updt_getAll_AvgCorr(All_UsersRRecPred,newUserItem_list,AllSteps,'Updated_UserID')  #,\n",
        "RandRec_Corr"
      ],
      "execution_count": null,
      "outputs": [
        {
          "output_type": "execute_result",
          "data": {
            "text/plain": [
              "array([array([0., 0., 0., ..., 0., 0., 0.]),\n",
              "       array([0., 0., 0., ..., 0., 0., 0.]),\n",
              "       array([0.02928462, 0.        , 0.        , ..., 0.        , 0.        ,\n",
              "              0.        ])                                                    ,\n",
              "       array([0., 0., 0., ..., 0., 0., 0.]),\n",
              "       array([0., 0., 0., ..., 0., 0., 0.]),\n",
              "       array([0., 0., 0., ..., 0., 0., 0.]),\n",
              "       array([0.        , 0.01933435, 0.        , ..., 0.        , 0.        ,\n",
              "              0.        ])                                                    ,\n",
              "       array([0., 0., 0., ..., 0., 0., 0.]),\n",
              "       array([0., 0., 0., ..., 0., 0., 0.])], dtype=object)"
            ]
          },
          "metadata": {
            "tags": []
          },
          "execution_count": 172
        }
      ]
    },
    {
      "cell_type": "code",
      "metadata": {
        "id": "yAYdhFex8NHd",
        "outputId": "f066b764-1806-419c-89cf-508e6e36f6eb"
      },
      "source": [
        "RandRec_Corr.shape\n",
        "for df in RandRec_Corr:\n",
        "    print(df.mean())  "
      ],
      "execution_count": null,
      "outputs": [
        {
          "output_type": "stream",
          "text": [
            "0.0008539759501276988\n",
            "0.0009934460742910861\n",
            "0.0007693024931910824\n",
            "0.0010225318100066166\n",
            "0.0009904980277526095\n",
            "0.0010209302145753653\n",
            "0.0009490019932535105\n",
            "0.0007092371131026445\n",
            "0.0008256794136270756\n"
          ],
          "name": "stdout"
        }
      ]
    },
    {
      "cell_type": "code",
      "metadata": {
        "id": "YAou17RX8NHf"
      },
      "source": [
        ""
      ],
      "execution_count": null,
      "outputs": []
    },
    {
      "cell_type": "markdown",
      "metadata": {
        "id": "3W-oNrd2s__2"
      },
      "source": [
        "## Mpop Stby "
      ]
    },
    {
      "cell_type": "code",
      "metadata": {
        "colab": {
          "base_uri": "https://localhost:8080/"
        },
        "id": "CbzcieIu7oCt",
        "outputId": "5c7ee35e-baa8-4a5a-efbf-2f07298adec1"
      },
      "source": [
        "MPop_Corr = Updt_getAll_AvgCorr(All_MostPOPRED_List,newUserItem_list,AllSteps,'Updated_UserID')  #,\n",
        "MPop_Corr"
      ],
      "execution_count": null,
      "outputs": [
        {
          "output_type": "execute_result",
          "data": {
            "text/plain": [
              "array([array([0.97749498, 0.97749498, 0.97749498, ..., 0.97749498, 0.97749498,\n",
              "              0.97749498])                                                    ,\n",
              "       array([0.93397092, 0.93397092, 0.93397092, ..., 0.93397092, 0.93397092,\n",
              "              0.93397092])                                                    ,\n",
              "       array([0.93397092, 0.93397092, 0.93397092, ..., 0.93397092, 0.93397092,\n",
              "              0.93397092])                                                    ,\n",
              "       array([0.93397092, 0.93397092, 0.93397092, ..., 0.93397092, 0.93397092,\n",
              "              0.93397092])                                                    ,\n",
              "       array([1., 1., 1., ..., 1., 1., 1.]),\n",
              "       array([0.99056095, 0.99056095, 0.99056095, ..., 0.99056095, 0.99056095,\n",
              "              0.99056095])                                                    ,\n",
              "       array([0.96643133, 0.96643133, 0.96643133, ..., 0.96643133, 0.96643133,\n",
              "              0.96643133])                                                    ,\n",
              "       array([0.96643133, 0.96643133, 0.96643133, ..., 0.96643133, 0.96643133,\n",
              "              0.96643133])                                                    ,\n",
              "       array([0.96643133, 0.96643133, 0.96643133, ..., 0.96643133, 0.96643133,\n",
              "              0.96643133])                                                    ],\n",
              "      dtype=object)"
            ]
          },
          "metadata": {
            "tags": []
          },
          "execution_count": 22
        }
      ]
    },
    {
      "cell_type": "code",
      "metadata": {
        "id": "aVz6areR8NH0",
        "outputId": "813e828e-7d5e-41f1-9c2b-02cdc99f9dbb"
      },
      "source": [
        "MPop_Corr.shape  #Mpop with newUserItem list\n",
        "for df in MPop_Corr:\n",
        "    print(df.mean())  "
      ],
      "execution_count": null,
      "outputs": [
        {
          "output_type": "stream",
          "text": [
            "0.9774949765572672\n",
            "0.9339709157605133\n",
            "0.9339709157605133\n",
            "0.9339709157605132\n",
            "1.0\n",
            "0.9905609492988136\n",
            "0.9664313307579595\n",
            "0.9664313307579594\n",
            "0.9664313307579595\n"
          ],
          "name": "stdout"
        }
      ]
    },
    {
      "cell_type": "code",
      "metadata": {
        "id": "kvEzAs238NHt"
      },
      "source": [
        ""
      ],
      "execution_count": null,
      "outputs": []
    }
  ]
}