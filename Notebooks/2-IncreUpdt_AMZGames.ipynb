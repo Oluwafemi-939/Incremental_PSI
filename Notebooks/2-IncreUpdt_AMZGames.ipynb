{
  "nbformat": 4,
  "nbformat_minor": 0,
  "metadata": {
    "colab": {
      "name": "IncreUpdt_AMZGames.ipynb",
      "provenance": [],
      "collapsed_sections": [],
      "toc_visible": true
    },
    "kernelspec": {
      "name": "python392jvsc74a57bd01d40221c0336dfe0c468749ccfbce19a4d0ada951efb74219fd3ebf7d78ddc70",
      "display_name": "Python 3.9.2 64-bit ('PSI_project': conda)"
    },
    "language_info": {
      "codemirror_mode": {
        "name": "ipython",
        "version": 3
      },
      "file_extension": ".py",
      "mimetype": "text/x-python",
      "name": "python",
      "nbconvert_exporter": "python",
      "pygments_lexer": "ipython3",
      "version": "3.9.2"
    },
    "metadata": {
      "interpreter": {
        "hash": "1d40221c0336dfe0c468749ccfbce19a4d0ada951efb74219fd3ebf7d78ddc70"
      }
    }
  },
  "cells": [
    {
      "cell_type": "code",
      "metadata": {
        "id": "6H1jopOERKdh"
      },
      "source": [
        ""
      ],
      "execution_count": null,
      "outputs": []
    },
    {
      "cell_type": "markdown",
      "metadata": {
        "id": "P9ewr-a7RIil"
      },
      "source": [
        "- This notebook contains experiments for the Amazon Games Dataset for the following models:\n",
        "\n",
        "- **Updated PSI**\n",
        "\n",
        "- **Regular PSI**\n",
        "\n",
        "- **Pure SVD**\n",
        "\n",
        "- **Most Pop**\n",
        "\n",
        "- **Rand Rec**"
      ]
    },
    {
      "cell_type": "markdown",
      "metadata": {
        "id": "waGNRsQkGt3t"
      },
      "source": [
        "## Imports"
      ]
    },
    {
      "cell_type": "code",
      "metadata": {
        "id": "U2GJdO-_I7Z8"
      },
      "source": [
        "import os\n",
        "os.environ[\"OMP_NUM_THREADS\"] = \"8\" # export OMP_NUM_THREADS=4\n",
        "os.environ[\"OPENBLAS_NUM_THREADS\"] = \"8\" # export OPENBLAS_NUM_THREADS=4 \n",
        "os.environ[\"MKL_NUM_THREADS\"] = \"8\" # export MKL_NUM_THREADS=6\n",
        "os.environ[\"VECLIB_MAXIMUM_THREADS\"] = \"8\" # export VECLIB_MAXIMUM_THREADS=4\n",
        "os.environ[\"NUMEXPR_NUM_THREADS\"] = \"8\""
      ],
      "execution_count": null,
      "outputs": []
    },
    {
      "cell_type": "code",
      "metadata": {
        "id": "LSMrVzzrFcnl"
      },
      "source": [
        "import io\n",
        "import os\n",
        "import gzip\n",
        "import json\n",
        "import scipy\n",
        "import random\n",
        "import warnings\n",
        "import numpy as np\n",
        "#import numba as nb\n",
        "import pandas as pd\n",
        "import datetime as dt\n",
        "import seaborn as sns\n",
        "from tqdm import tqdm\n",
        "import scipy.stats as st\n",
        "from collections import OrderedDict\n",
        "import scipy.sparse as sparse\n",
        "from scipy.linalg import orth\n",
        "import matplotlib.pyplot as plt\n",
        "from numpy import linalg as lin\n",
        "import implicit\n",
        "import pickle\n",
        "warnings.filterwarnings('ignore')\n",
        "from scipy.sparse import coo_matrix\n",
        "from scipy.sparse.linalg import svds\n",
        "from datetime import datetime as dt_dt\n",
        "from scipy.sparse.linalg import spsolve\n",
        "from numpy.linalg import qr as QR_decomp\n",
        "from scipy.sparse import csr_matrix, find\n",
        "from pandas.api.types import CategoricalDtype\n",
        "from typing import List\n",
        "import torch\n",
        "import torch.nn.functional as F\n",
        "from torch import nn\n",
        "from polara.evaluation.pipelines import random_grid\n",
        "import bottleneck as bn"
      ],
      "execution_count": null,
      "outputs": []
    },
    {
      "cell_type": "code",
      "metadata": {
        "id": "mpAqFA5_I7aO"
      },
      "source": [
        ""
      ],
      "execution_count": null,
      "outputs": []
    },
    {
      "cell_type": "markdown",
      "metadata": {
        "id": "IkLZJhQWqaPp"
      },
      "source": [
        "## Functions"
      ]
    },
    {
      "cell_type": "code",
      "metadata": {
        "id": "Uvv8Q8zR7OAn"
      },
      "source": [
        "import sys\n",
        "sys.path.append('/home/oolaleke/incremental_PSI/Scripts/')\n",
        "#sys.path.append('/content/')"
      ],
      "execution_count": null,
      "outputs": []
    },
    {
      "cell_type": "code",
      "metadata": {
        "id": "qoOQOsCf7849"
      },
      "source": [
        "import a_DataHelpers\n",
        "import b_AlgoFunctions\n",
        "import c_PredEval\n",
        "import d_CorrScores\n",
        "import e_VAEfunction"
      ],
      "execution_count": null,
      "outputs": []
    },
    {
      "cell_type": "code",
      "metadata": {
        "id": "slSdgbc1XxNT"
      },
      "source": [
        "from a_DataHelpers import getPivotMonths,Time_DataSplit,TestTrain_DataSplit,SingleRatingMatrix\n",
        "from a_DataHelpers import AllRatingMatrices,All_SingleStepRatMat,psiStep_RatMat,psiAllStep_RatMat\n",
        "from a_DataHelpers import Find_NewUsersItems,adjustedPSI_DF,adjustedAllDF,get_NEWHoldout,ADJUST_mainDF\n",
        "from a_DataHelpers import  SingleStepRatMat_2,AllSingleStepRatMat_2,SingleStep_RatMat\n",
        "\n",
        "from b_AlgoFunctions import integrator,getStartingValues,integratorOnMat,last_psiTrainMat, pureSVD\n",
        "from b_AlgoFunctions import Updt_RowMatrix,getRow_Mat,row_update, Updt_ColMatrix,getCol_Mat,colunm_update\n",
        "from b_AlgoFunctions import UsersItems_RatPair,getRowCol_psiupdt,ITEMS_defferredStatus,USERS_defferredStatus\n",
        "from b_AlgoFunctions import getV_listUpdate, SingleStep_UPDATE,ALLSTEPs_UPDATE\n",
        "from b_AlgoFunctions import tune_ALS,auc_score,TrainTest,mean_auc\n",
        "from b_AlgoFunctions import nonzeros,least_squares_cg,alternating_least_squares_cg\n",
        "#from b_AlgoFunctions import topN_Index, TopNPred, HitrEval_noprint,SVDoptimalSearch\n",
        "\n",
        "from c_PredEval import TopNPred,TQDMgetALLTopNPred, Hitrate_Eval,getAll_HitRate,mean_confidence_interval\n",
        "from c_PredEval import TQDMgetALLTopNPred_ALLUSERS,getALLTopNPred_ALLUSERS,get_ALLRandPred\n",
        "from c_PredEval import topN_Index,getAll_RandomHitRate,getMOSTPOP_Pred,getAll_MostPOPHitRate,getAll_MOSTPOP_Pred\n",
        "from c_PredEval import StepCoverage_Ratio,AllSteps_Coverage_Ratio,getAll_VAEMRR\n",
        "from c_PredEval import MRR_Eval,getAll_MRR_Eval,TQDMgetAll_MRR_Eval, getAll_MostPOP_MRR,getAll_RandomRecMRR\n",
        "from c_PredEval import ials_TopNPred, ials_getALLPred, ials_getALLPredTQDM,ialsALLPred_ALLUSERS\n",
        "\n",
        "from d_CorrScores import no_copy_csr_matrix,build_rank_weights_matrix,rank_weighted_jaccard_index\n",
        "from d_CorrScores import Updt_getAll_AvgCorr, updtCorr_4AllRanks\n",
        "\n",
        "from e_VAEfunction import split_users, split_train_test, numerize_data, get_TrainRatMat, getTrainTest_RatMat\n"
      ],
      "execution_count": null,
      "outputs": []
    },
    {
      "cell_type": "code",
      "metadata": {
        "id": "R3sL7tK4I7a0"
      },
      "source": [
        "def HitrEval_noprint(Holdout,TopN_pred,user_column,item_column):\n",
        "    Eval_itemsVector  =  Holdout[[item_column]].to_numpy()\n",
        "    HitRate_arr   =  (TopN_pred == Eval_itemsVector).sum(axis=1)  ##sum along row...\n",
        "    HitCount = np.count_nonzero(HitRate_arr == 1)\n",
        "    HitRate_ = HitRate_arr.mean()\n",
        "    return HitRate_\n",
        "\n",
        "def SVDoptimalSearch(RatingMat,holdout,user_column,item_column,start,end,increment,N=10):\n",
        "    AllHitrate = []\n",
        "    max_hit = 0 \n",
        "    for rank in tqdm(range(start,end+1,increment)): \n",
        "        Usvd, Ssvd, VTsvd = svds(RatingMat, k=rank)\n",
        "        Vsvd = VTsvd.T\n",
        "        top_k = TopNPred(RatingMat,holdout,Vsvd, user_column, N)\n",
        "        hit_r = HitrEval_noprint(holdout,top_k,user_column,item_column)\n",
        "        AllHitrate.append(hit_r)\n",
        "        if hit_r > max_hit:\n",
        "           max_hit =  hit_r\n",
        "           max_rank = rank\n",
        "           print(\"\\n Max Rank: {} | HitRate:{}\".format(max_rank, max_hit))\n",
        "    print(\"\\n Best-Params; Max Rank: {} | HitRate: {}\".format(max_rank, max_hit))    \n",
        "    return AllHitrate,max_hit,max_rank"
      ],
      "execution_count": null,
      "outputs": []
    },
    {
      "cell_type": "code",
      "metadata": {
        "id": "sijLve_ZI7ce"
      },
      "source": [
        "def TopN_RandomPred(RatingMat,user_column,N):  \n",
        "    N_users,N_items = RatingMat.shape   \n",
        "    PVVT_RandScores = np.random.rand(N_users,N_items)   ##Assigns random scores to items\n",
        "    users_column = RatingMat.nonzero()[0]\n",
        "    items_column = RatingMat.nonzero()[1]\n",
        "    args = np.array([users_column,items_column])\n",
        "    np.put(PVVT_RandScores, np.ravel_multi_index(args, PVVT_RandScores.shape),-np.inf)   ##downsample previously \n",
        "    TopN_pred = np.apply_along_axis(topN_Index, 1,PVVT_RandScores,n = N)\n",
        "    return TopN_pred\n",
        "\n",
        "def get_ALLRandPred(RatingMat_List,user_column,N):\n",
        "    All_RandPred = []\n",
        "    for RatingMat in tqdm(RatingMat_List):  \n",
        "        Rand_pred =  TopN_RandomPred(RatingMat,user_column, N)\n",
        "        All_RandPred.append(Rand_pred)\n",
        "    return All_RandPred\n"
      ],
      "execution_count": null,
      "outputs": []
    },
    {
      "cell_type": "code",
      "metadata": {
        "id": "psyQ1UGBJhTL"
      },
      "source": [
        ""
      ],
      "execution_count": null,
      "outputs": []
    },
    {
      "cell_type": "markdown",
      "metadata": {
        "id": "e556n8BpXy0b"
      },
      "source": [
        "**Apply Functions on AmazonGAMES**"
      ]
    },
    {
      "cell_type": "markdown",
      "metadata": {
        "id": "Kq7VUKhmJPxP"
      },
      "source": [
        "# Data Preparation"
      ]
    },
    {
      "cell_type": "markdown",
      "metadata": {
        "id": "qDBP9J8BKN9F"
      },
      "source": [
        "**Data Import**"
      ]
    },
    {
      "cell_type": "code",
      "metadata": {
        "colab": {
          "base_uri": "https://localhost:8080/",
          "height": 566
        },
        "id": "YDwA6s5IaiIe",
        "outputId": "6790cf74-ca03-4017-8779-4166b539683d"
      },
      "source": [
        "#\n",
        "AMZGames_DF = pd.read_csv('/mnt/bulky/oolaleke/TDM_Dataset/AMZ_GamesFiles/AMZGames_IncreDF.csv') \n",
        "AMZGames_DF['timestamp'] = pd.to_datetime(AMZGames_DF['timestamp']) \n",
        "print(AMZGames_DF.shape)   #userId_int\n",
        "print(AMZGames_DF.dtypes)\n",
        "AMZGames_DF"
      ],
      "execution_count": null,
      "outputs": [
        {
          "output_type": "stream",
          "text": [
            "(345213, 7)\n",
            "userid                  object\n",
            "ProductID               object\n",
            "rating                   int64\n",
            "timestamp       datetime64[ns]\n",
            "timestamp_YM            object\n",
            "userId                   int64\n",
            "productId                int64\n",
            "dtype: object\n"
          ],
          "name": "stdout"
        },
        {
          "output_type": "execute_result",
          "data": {
            "text/plain": [
              "                userid   ProductID  rating  timestamp timestamp_YM  userId  \\\n",
              "0       A2AXQTB83VMK4L  B0000296O5       1 1999-10-14      1999-10       0   \n",
              "1       A2T04VAIXSKJH2  B00002NDRY       1 1999-11-05      1999-11       1   \n",
              "2       A1QA8K3LD9K892  B000021Y5F       1 1999-11-10      1999-11       2   \n",
              "3       A1QA8K3LD9K892  B000021Y5Q       1 1999-11-10      1999-11       2   \n",
              "4        ANLA598UNJI8A  B00001IVGE       1 1999-11-14      1999-11       3   \n",
              "...                ...         ...     ...        ...          ...     ...   \n",
              "345208    AXGJNBYPUNR2  B01FDA42PU       1 2018-09-29      2018-09   29226   \n",
              "345209   ANS2OWH7CK1M9  B01GW8YDLK       1 2018-09-30      2018-09    3543   \n",
              "345210  A1SDXNTHJ255P7  B01GW3H3U8       1 2018-10-01      2018-10   33517   \n",
              "345211  A3R7Y70K7ZPJ3I  B01GKF824Y       1 2018-10-01      2018-10   35953   \n",
              "345212   AE0337VVP8MRM  B01GVJTTAK       1 2018-10-02      2018-10   20363   \n",
              "\n",
              "        productId  \n",
              "0               0  \n",
              "1               1  \n",
              "2               2  \n",
              "3               3  \n",
              "4               4  \n",
              "...           ...  \n",
              "345208      16596  \n",
              "345209      17319  \n",
              "345210      16745  \n",
              "345211      17045  \n",
              "345212      17059  \n",
              "\n",
              "[345213 rows x 7 columns]"
            ],
            "text/html": [
              "<div>\n",
              "<style scoped>\n",
              "    .dataframe tbody tr th:only-of-type {\n",
              "        vertical-align: middle;\n",
              "    }\n",
              "\n",
              "    .dataframe tbody tr th {\n",
              "        vertical-align: top;\n",
              "    }\n",
              "\n",
              "    .dataframe thead th {\n",
              "        text-align: right;\n",
              "    }\n",
              "</style>\n",
              "<table border=\"1\" class=\"dataframe\">\n",
              "  <thead>\n",
              "    <tr style=\"text-align: right;\">\n",
              "      <th></th>\n",
              "      <th>userid</th>\n",
              "      <th>ProductID</th>\n",
              "      <th>rating</th>\n",
              "      <th>timestamp</th>\n",
              "      <th>timestamp_YM</th>\n",
              "      <th>userId</th>\n",
              "      <th>productId</th>\n",
              "    </tr>\n",
              "  </thead>\n",
              "  <tbody>\n",
              "    <tr>\n",
              "      <th>0</th>\n",
              "      <td>A2AXQTB83VMK4L</td>\n",
              "      <td>B0000296O5</td>\n",
              "      <td>1</td>\n",
              "      <td>1999-10-14</td>\n",
              "      <td>1999-10</td>\n",
              "      <td>0</td>\n",
              "      <td>0</td>\n",
              "    </tr>\n",
              "    <tr>\n",
              "      <th>1</th>\n",
              "      <td>A2T04VAIXSKJH2</td>\n",
              "      <td>B00002NDRY</td>\n",
              "      <td>1</td>\n",
              "      <td>1999-11-05</td>\n",
              "      <td>1999-11</td>\n",
              "      <td>1</td>\n",
              "      <td>1</td>\n",
              "    </tr>\n",
              "    <tr>\n",
              "      <th>2</th>\n",
              "      <td>A1QA8K3LD9K892</td>\n",
              "      <td>B000021Y5F</td>\n",
              "      <td>1</td>\n",
              "      <td>1999-11-10</td>\n",
              "      <td>1999-11</td>\n",
              "      <td>2</td>\n",
              "      <td>2</td>\n",
              "    </tr>\n",
              "    <tr>\n",
              "      <th>3</th>\n",
              "      <td>A1QA8K3LD9K892</td>\n",
              "      <td>B000021Y5Q</td>\n",
              "      <td>1</td>\n",
              "      <td>1999-11-10</td>\n",
              "      <td>1999-11</td>\n",
              "      <td>2</td>\n",
              "      <td>3</td>\n",
              "    </tr>\n",
              "    <tr>\n",
              "      <th>4</th>\n",
              "      <td>ANLA598UNJI8A</td>\n",
              "      <td>B00001IVGE</td>\n",
              "      <td>1</td>\n",
              "      <td>1999-11-14</td>\n",
              "      <td>1999-11</td>\n",
              "      <td>3</td>\n",
              "      <td>4</td>\n",
              "    </tr>\n",
              "    <tr>\n",
              "      <th>...</th>\n",
              "      <td>...</td>\n",
              "      <td>...</td>\n",
              "      <td>...</td>\n",
              "      <td>...</td>\n",
              "      <td>...</td>\n",
              "      <td>...</td>\n",
              "      <td>...</td>\n",
              "    </tr>\n",
              "    <tr>\n",
              "      <th>345208</th>\n",
              "      <td>AXGJNBYPUNR2</td>\n",
              "      <td>B01FDA42PU</td>\n",
              "      <td>1</td>\n",
              "      <td>2018-09-29</td>\n",
              "      <td>2018-09</td>\n",
              "      <td>29226</td>\n",
              "      <td>16596</td>\n",
              "    </tr>\n",
              "    <tr>\n",
              "      <th>345209</th>\n",
              "      <td>ANS2OWH7CK1M9</td>\n",
              "      <td>B01GW8YDLK</td>\n",
              "      <td>1</td>\n",
              "      <td>2018-09-30</td>\n",
              "      <td>2018-09</td>\n",
              "      <td>3543</td>\n",
              "      <td>17319</td>\n",
              "    </tr>\n",
              "    <tr>\n",
              "      <th>345210</th>\n",
              "      <td>A1SDXNTHJ255P7</td>\n",
              "      <td>B01GW3H3U8</td>\n",
              "      <td>1</td>\n",
              "      <td>2018-10-01</td>\n",
              "      <td>2018-10</td>\n",
              "      <td>33517</td>\n",
              "      <td>16745</td>\n",
              "    </tr>\n",
              "    <tr>\n",
              "      <th>345211</th>\n",
              "      <td>A3R7Y70K7ZPJ3I</td>\n",
              "      <td>B01GKF824Y</td>\n",
              "      <td>1</td>\n",
              "      <td>2018-10-01</td>\n",
              "      <td>2018-10</td>\n",
              "      <td>35953</td>\n",
              "      <td>17045</td>\n",
              "    </tr>\n",
              "    <tr>\n",
              "      <th>345212</th>\n",
              "      <td>AE0337VVP8MRM</td>\n",
              "      <td>B01GVJTTAK</td>\n",
              "      <td>1</td>\n",
              "      <td>2018-10-02</td>\n",
              "      <td>2018-10</td>\n",
              "      <td>20363</td>\n",
              "      <td>17059</td>\n",
              "    </tr>\n",
              "  </tbody>\n",
              "</table>\n",
              "<p>345213 rows × 7 columns</p>\n",
              "</div>"
            ]
          },
          "metadata": {
            "tags": []
          },
          "execution_count": 95
        }
      ]
    },
    {
      "cell_type": "code",
      "metadata": {
        "colab": {
          "base_uri": "https://localhost:8080/"
        },
        "id": "2XWFDaGwFFCR",
        "outputId": "f0dc1e35-6215-43a5-9bed-eeb40bedb8b5"
      },
      "source": [
        "print(AMZGames_DF.shape)\n",
        "print(\"For users: \")\n",
        "print(AMZGames_DF['userId'].nunique())\n",
        "print(AMZGames_DF['userId'].max())\n",
        "print()\n",
        "print(\"For items: \")\n",
        "print(AMZGames_DF['productId'].nunique())\n",
        "print(AMZGames_DF['productId'].max())\n",
        "print()\n",
        "print(\"Timestamp\")\n",
        "print(AMZGames_DF['timestamp'].min())\n",
        "print(AMZGames_DF['timestamp'].max())"
      ],
      "execution_count": null,
      "outputs": [
        {
          "output_type": "stream",
          "text": [
            "(345213, 7)\n",
            "For users: \n",
            "39284\n",
            "39283\n",
            "\n",
            "For items: \n",
            "17320\n",
            "17319\n",
            "\n",
            "Timestamp\n",
            "1999-10-14 00:00:00\n",
            "2018-10-02 00:00:00\n"
          ],
          "name": "stdout"
        }
      ]
    },
    {
      "cell_type": "code",
      "metadata": {
        "id": "xlbzMS4hGeF3"
      },
      "source": [
        ""
      ],
      "execution_count": null,
      "outputs": []
    },
    {
      "cell_type": "markdown",
      "metadata": {
        "id": "XD_pQm8Lfko0"
      },
      "source": [
        "**Data Splitting**"
      ]
    },
    {
      "cell_type": "code",
      "metadata": {
        "colab": {
          "base_uri": "https://localhost:8080/"
        },
        "id": "aM4xMYIRqUOg",
        "outputId": "f59892a9-1119-4a27-8b65-0536522eb238"
      },
      "source": [
        "train_df = AMZGames_DF[AMZGames_DF['timestamp_YM'] < '2015-06']  \n",
        "print(train_df['userid'].nunique())\n",
        "print(train_df['userid'].shape)  ##63%"
      ],
      "execution_count": null,
      "outputs": [
        {
          "output_type": "stream",
          "text": [
            "30238\n",
            "(217772,)\n"
          ],
          "name": "stdout"
        }
      ]
    },
    {
      "cell_type": "code",
      "metadata": {
        "colab": {
          "base_uri": "https://localhost:8080/"
        },
        "id": "V26mrR-bxvBV",
        "outputId": "d2ac8083-1da7-4f23-f9a0-52fe0862d10e"
      },
      "source": [
        "remainder_df = AMZGames_DF[AMZGames_DF['timestamp_YM'] >= '2015-06']  \n",
        "print(remainder_df['userid'].nunique())\n",
        "print(remainder_df.shape)"
      ],
      "execution_count": null,
      "outputs": [
        {
          "output_type": "stream",
          "text": [
            "23371\n",
            "(127441, 7)\n"
          ],
          "name": "stdout"
        }
      ]
    },
    {
      "cell_type": "code",
      "metadata": {
        "colab": {
          "base_uri": "https://localhost:8080/"
        },
        "id": "dXaW3L_Poi1T",
        "outputId": "2f16bb30-ce77-4f5c-9c2b-dc68f215bda2"
      },
      "source": [
        "AMZGames_DF['userId']  #.unique()\n",
        "\n",
        "n = 5550  #num_of_interaction/no_steps\n",
        "all_df = []\n",
        "for g, df in remainder_df.groupby(np.arange(len(remainder_df)) // n):\n",
        "    all_df.append(df)\n",
        "    print(df['userId'].nunique())\n",
        "print()\n",
        "print(g+1)    "
      ],
      "execution_count": null,
      "outputs": [
        {
          "output_type": "stream",
          "text": [
            "2255\n",
            "2215\n",
            "2236\n",
            "2293\n",
            "2336\n",
            "2362\n",
            "2176\n",
            "2225\n",
            "2239\n",
            "2408\n",
            "2346\n",
            "2259\n",
            "2275\n",
            "2290\n",
            "2374\n",
            "2311\n",
            "2228\n",
            "2269\n",
            "2330\n",
            "2302\n",
            "2297\n",
            "2294\n",
            "2232\n",
            "\n",
            "23\n"
          ],
          "name": "stdout"
        }
      ]
    },
    {
      "cell_type": "code",
      "metadata": {
        "id": "3gAygjGd8NFK",
        "colab": {
          "base_uri": "https://localhost:8080/"
        },
        "outputId": "d0fe0920-f0e8-42ab-d76b-b73d9d2587f1"
      },
      "source": [
        "A0_df = train_df  \n",
        "print(\"Initial Training Data: \") \n",
        "print(\"Start Time: \",A0_df['timestamp'].min())\n",
        "print(\"End Time:   \",A0_df['timestamp'].max())\n",
        "print()\n",
        "print(\"Num of interactions: \",A0_df.shape[0])\n",
        "print(\"Num of uniqueUsers:  \",A0_df['userId'].nunique())"
      ],
      "execution_count": null,
      "outputs": [
        {
          "output_type": "stream",
          "text": [
            "Initial Training Data: \n",
            "Start Time:  1999-10-14 00:00:00\n",
            "End Time:    2015-05-31 00:00:00\n",
            "\n",
            "Num of interactions:  217772\n",
            "Num of uniqueUsers:   30238\n"
          ],
          "name": "stdout"
        }
      ]
    },
    {
      "cell_type": "code",
      "metadata": {
        "id": "FSvG81Gs8NFL",
        "colab": {
          "base_uri": "https://localhost:8080/"
        },
        "outputId": "34810b13-31db-453f-d905-ff562b49988a"
      },
      "source": [
        "ΔA_train = all_df[:8] \n",
        "print(\"Incremental Train steps: \",len(ΔA_train))\n",
        "print(\"Start Time: \",ΔA_train[0]['timestamp'].min())\n",
        "print(\"End Time:   \",ΔA_train[-1]['timestamp'].max())"
      ],
      "execution_count": null,
      "outputs": [
        {
          "output_type": "stream",
          "text": [
            "Incremental Train steps:  8\n",
            "Start Time:  2015-06-01 00:00:00\n",
            "End Time:    2016-02-14 00:00:00\n"
          ],
          "name": "stdout"
        }
      ]
    },
    {
      "cell_type": "code",
      "metadata": {
        "id": "2V6tLApz8NFM",
        "colab": {
          "base_uri": "https://localhost:8080/"
        },
        "outputId": "6ca6a446-a827-4962-eb39-00f9015b8dc1"
      },
      "source": [
        "ΔA_test = all_df[8:] \n",
        "print(\"Incremental Test steps: \",len(ΔA_test))\n",
        "print(\"Start Time: \",ΔA_test[0]['timestamp'].min())\n",
        "print(\"End Time:   \",ΔA_test[-1]['timestamp'].max())"
      ],
      "execution_count": null,
      "outputs": [
        {
          "output_type": "stream",
          "text": [
            "Incremental Test steps:  15\n",
            "Start Time:  2016-02-14 00:00:00\n",
            "End Time:    2018-10-02 00:00:00\n"
          ],
          "name": "stdout"
        }
      ]
    },
    {
      "cell_type": "code",
      "metadata": {
        "id": "O_HSp4Ax8NFN",
        "colab": {
          "base_uri": "https://localhost:8080/"
        },
        "outputId": "51343ee1-5b30-4996-c8d3-f39f04f2507b"
      },
      "source": [
        "ΔA_test[0]['timestamp'].max()"
      ],
      "execution_count": null,
      "outputs": [
        {
          "output_type": "execute_result",
          "data": {
            "text/plain": [
              "Timestamp('2016-03-13 00:00:00')"
            ]
          },
          "metadata": {
            "tags": []
          },
          "execution_count": 103
        }
      ]
    },
    {
      "cell_type": "code",
      "metadata": {
        "id": "vundWwyU8NFR"
      },
      "source": [
        ""
      ],
      "execution_count": null,
      "outputs": []
    },
    {
      "cell_type": "code",
      "metadata": {
        "id": "baVjA5xh8NFT",
        "colab": {
          "base_uri": "https://localhost:8080/"
        },
        "outputId": "ba75e020-c052-4813-9c2f-8ba4fdc38e8b"
      },
      "source": [
        "AllDF_list, PSITest_list, HOLDOUT_list,UserItemDF_list = TestTrain_DataSplit(AMZGames_DF,'userId','timestamp',ΔA_test)\n",
        "print(AllDF_list[1]['timestamp'].min())\n",
        "print(AllDF_list[1]['timestamp'].max())\n",
        "print()\n",
        "print(ΔA_test[1]['timestamp'].min())\n",
        "print(ΔA_test[1]['timestamp'].max())"
      ],
      "execution_count": null,
      "outputs": [
        {
          "output_type": "stream",
          "text": [
            "1999-10-14 00:00:00\n",
            "2016-04-19 00:00:00\n",
            "\n",
            "2016-03-13 00:00:00\n",
            "2016-04-19 00:00:00\n"
          ],
          "name": "stdout"
        }
      ]
    },
    {
      "cell_type": "code",
      "metadata": {
        "id": "FXqq0BEw8NFW",
        "colab": {
          "base_uri": "https://localhost:8080/"
        },
        "outputId": "f8dd9d41-dcf4-474c-961e-0b08de376edb"
      },
      "source": [
        "for i in range(10):\n",
        "    print(AllDF_list[i]['userId'].max(),AllDF_list[i]['userId'].nunique())"
      ],
      "execution_count": null,
      "outputs": [
        {
          "output_type": "stream",
          "text": [
            "34705 34706\n",
            "35124 35125\n",
            "35482 35483\n",
            "35886 35887\n",
            "36314 36315\n",
            "36662 36663\n",
            "37003 37004\n",
            "37346 37347\n",
            "37698 37699\n",
            "38004 38005\n"
          ],
          "name": "stdout"
        }
      ]
    },
    {
      "cell_type": "code",
      "metadata": {
        "colab": {
          "base_uri": "https://localhost:8080/"
        },
        "id": "IFIEfHbaGkcJ",
        "outputId": "7e9572c5-feeb-47f2-f194-80a2966da28d"
      },
      "source": [
        "print(AllDF_list[0].shape)\n",
        "print(UserItemDF_list[0].shape)\n",
        "print(HOLDOUT_list[0].shape)"
      ],
      "execution_count": null,
      "outputs": [
        {
          "output_type": "stream",
          "text": [
            "(267723, 7)\n",
            "(265446, 7)\n",
            "(2239, 7)\n"
          ],
          "name": "stdout"
        }
      ]
    },
    {
      "cell_type": "markdown",
      "metadata": {
        "id": "dzWCij3ZipQX"
      },
      "source": [
        "**Find new users and items**"
      ]
    },
    {
      "cell_type": "code",
      "metadata": {
        "colab": {
          "base_uri": "https://localhost:8080/"
        },
        "id": "L-GolZfZipQZ",
        "outputId": "1f3541b6-581f-444b-a8f3-417bd6d2d0b3"
      },
      "source": [
        "Tstps = AMZGames_DF['timestamp']\n",
        "tr_ts = ΔA_train[-1]['timestamp'].max()\n",
        "print(\"ΔA_train_last max date: \",tr_ts)\n",
        "AllDF_start = AMZGames_DF.loc[Tstps <= tr_ts] \n",
        "print(AllDF_start['timestamp'].min())\n",
        "print(AllDF_start['timestamp'].max())\n",
        "print()\n",
        "print(AllDF_list[0]['timestamp'].min())\n",
        "print(AllDF_list[0]['timestamp'].max())"
      ],
      "execution_count": null,
      "outputs": [
        {
          "output_type": "stream",
          "text": [
            "ΔA_train_last max date:  2016-02-14 00:00:00\n",
            "1999-10-14 00:00:00\n",
            "2016-02-14 00:00:00\n",
            "\n",
            "1999-10-14 00:00:00\n",
            "2016-03-13 00:00:00\n"
          ],
          "name": "stdout"
        }
      ]
    },
    {
      "cell_type": "code",
      "metadata": {
        "colab": {
          "base_uri": "https://localhost:8080/"
        },
        "id": "GfgYKuugA3lO",
        "outputId": "d79bacef-98fb-4b32-c7d7-1c5036a0ee26"
      },
      "source": [
        "New_usersList,New_itemsList = Find_NewUsersItems(AllDF_start,AllDF_list,'userId','productId',N_steps=15)\n",
        "print(New_usersList[0][:10]) #\n",
        "print()\n",
        "print(New_itemsList[0][:10]) #"
      ],
      "execution_count": null,
      "outputs": [
        {
          "output_type": "stream",
          "text": [
            "[34250 34251 34252 34253 34254 34255 34256 34257 34258 34259]\n",
            "\n",
            "[16034 16035 16036 16037 16038 16039 16040 16041 16042 16043]\n"
          ],
          "name": "stdout"
        }
      ]
    },
    {
      "cell_type": "code",
      "metadata": {
        "colab": {
          "base_uri": "https://localhost:8080/"
        },
        "id": "KXIsxxPnjhx2",
        "outputId": "60220945-78b0-41ed-909e-a2c1fa19239f"
      },
      "source": [
        "print(\"users,Items\")\n",
        "for i,j in zip(New_usersList,New_itemsList):\n",
        "    print(i.size,j.size)\n",
        "    print()\n",
        "    "
      ],
      "execution_count": null,
      "outputs": [
        {
          "output_type": "stream",
          "text": [
            "users,Items\n",
            "456 175\n",
            "\n",
            "419 157\n",
            "\n",
            "358 147\n",
            "\n",
            "404 137\n",
            "\n",
            "428 113\n",
            "\n",
            "348 112\n",
            "\n",
            "341 160\n",
            "\n",
            "343 67\n",
            "\n",
            "352 40\n",
            "\n",
            "306 48\n",
            "\n",
            "272 31\n",
            "\n",
            "268 34\n",
            "\n",
            "295 33\n",
            "\n",
            "260 14\n",
            "\n",
            "184 18\n",
            "\n"
          ],
          "name": "stdout"
        }
      ]
    },
    {
      "cell_type": "code",
      "metadata": {
        "id": "DQWyCfvMI7az"
      },
      "source": [
        ""
      ],
      "execution_count": null,
      "outputs": []
    },
    {
      "cell_type": "markdown",
      "metadata": {
        "id": "WhESfv6zKZDX"
      },
      "source": [
        "**Rank Tuning**"
      ]
    },
    {
      "cell_type": "code",
      "metadata": {
        "id": "eeQjLJjEI7a1",
        "outputId": "f17566df-b008-4a36-ed37-868e0a11f82d"
      },
      "source": [
        "###Rank Tuning:\n",
        "newAMZGames_DF = pd.read_csv('/mnt/bulky/oolaleke/TDM_Dataset/AMZ_GamesFiles/AMZGames_afterUpdt.csv')\n",
        "print(newAMZGames_DF.shape)\n",
        "newAMZGames_DF.head()"
      ],
      "execution_count": null,
      "outputs": [
        {
          "output_type": "stream",
          "text": [
            "(345203, 9)\n"
          ],
          "name": "stdout"
        },
        {
          "output_type": "execute_result",
          "data": {
            "text/plain": [
              "           userid   ProductID  rating   timestamp timestamp_YM  userId  \\\n",
              "0  A2AXQTB83VMK4L  B0000296O5       1  1999-10-14      1999-10       0   \n",
              "1  A2T04VAIXSKJH2  B00002NDRY       1  1999-11-05      1999-11       1   \n",
              "2  A1QA8K3LD9K892  B000021Y5F       1  1999-11-10      1999-11       2   \n",
              "3  A1QA8K3LD9K892  B000021Y5Q       1  1999-11-10      1999-11       2   \n",
              "4   ANLA598UNJI8A  B00001IVGE       1  1999-11-14      1999-11       3   \n",
              "\n",
              "   productId  Updated_UserID  Updated_ItemID  \n",
              "0          0               0               0  \n",
              "1          1               1               1  \n",
              "2          2               2               2  \n",
              "3          3               2               3  \n",
              "4          4               3               4  "
            ],
            "text/html": [
              "<div>\n",
              "<style scoped>\n",
              "    .dataframe tbody tr th:only-of-type {\n",
              "        vertical-align: middle;\n",
              "    }\n",
              "\n",
              "    .dataframe tbody tr th {\n",
              "        vertical-align: top;\n",
              "    }\n",
              "\n",
              "    .dataframe thead th {\n",
              "        text-align: right;\n",
              "    }\n",
              "</style>\n",
              "<table border=\"1\" class=\"dataframe\">\n",
              "  <thead>\n",
              "    <tr style=\"text-align: right;\">\n",
              "      <th></th>\n",
              "      <th>userid</th>\n",
              "      <th>ProductID</th>\n",
              "      <th>rating</th>\n",
              "      <th>timestamp</th>\n",
              "      <th>timestamp_YM</th>\n",
              "      <th>userId</th>\n",
              "      <th>productId</th>\n",
              "      <th>Updated_UserID</th>\n",
              "      <th>Updated_ItemID</th>\n",
              "    </tr>\n",
              "  </thead>\n",
              "  <tbody>\n",
              "    <tr>\n",
              "      <th>0</th>\n",
              "      <td>A2AXQTB83VMK4L</td>\n",
              "      <td>B0000296O5</td>\n",
              "      <td>1</td>\n",
              "      <td>1999-10-14</td>\n",
              "      <td>1999-10</td>\n",
              "      <td>0</td>\n",
              "      <td>0</td>\n",
              "      <td>0</td>\n",
              "      <td>0</td>\n",
              "    </tr>\n",
              "    <tr>\n",
              "      <th>1</th>\n",
              "      <td>A2T04VAIXSKJH2</td>\n",
              "      <td>B00002NDRY</td>\n",
              "      <td>1</td>\n",
              "      <td>1999-11-05</td>\n",
              "      <td>1999-11</td>\n",
              "      <td>1</td>\n",
              "      <td>1</td>\n",
              "      <td>1</td>\n",
              "      <td>1</td>\n",
              "    </tr>\n",
              "    <tr>\n",
              "      <th>2</th>\n",
              "      <td>A1QA8K3LD9K892</td>\n",
              "      <td>B000021Y5F</td>\n",
              "      <td>1</td>\n",
              "      <td>1999-11-10</td>\n",
              "      <td>1999-11</td>\n",
              "      <td>2</td>\n",
              "      <td>2</td>\n",
              "      <td>2</td>\n",
              "      <td>2</td>\n",
              "    </tr>\n",
              "    <tr>\n",
              "      <th>3</th>\n",
              "      <td>A1QA8K3LD9K892</td>\n",
              "      <td>B000021Y5Q</td>\n",
              "      <td>1</td>\n",
              "      <td>1999-11-10</td>\n",
              "      <td>1999-11</td>\n",
              "      <td>2</td>\n",
              "      <td>3</td>\n",
              "      <td>2</td>\n",
              "      <td>3</td>\n",
              "    </tr>\n",
              "    <tr>\n",
              "      <th>4</th>\n",
              "      <td>ANLA598UNJI8A</td>\n",
              "      <td>B00001IVGE</td>\n",
              "      <td>1</td>\n",
              "      <td>1999-11-14</td>\n",
              "      <td>1999-11</td>\n",
              "      <td>3</td>\n",
              "      <td>4</td>\n",
              "      <td>3</td>\n",
              "      <td>4</td>\n",
              "    </tr>\n",
              "  </tbody>\n",
              "</table>\n",
              "</div>"
            ]
          },
          "metadata": {
            "tags": []
          },
          "execution_count": 66
        }
      ]
    },
    {
      "cell_type": "code",
      "metadata": {
        "id": "1ykECNc7G4GL"
      },
      "source": [
        "\n",
        "##lOAD Saved Lists...\n",
        "with open('/mnt/bulky/oolaleke/TDM_Dataset/AMZ_GamesFiles/AMZGames_newHoldout.pkl', 'rb') as f:\n",
        "     newHOLDOUT_LIST = pickle.load(f)\n",
        "\n",
        "with open('/mnt/bulky/oolaleke/TDM_Dataset/AMZ_GamesFiles/AMZGames_newUserItem.pkl', 'rb') as f:\n",
        "     newUserItem_list = pickle.load(f)\n",
        "\n",
        "\n",
        "with open('/mnt/bulky/oolaleke/TDM_Dataset/AMZ_GamesFiles/AMZGames_newPSITest.pkl', 'rb') as f:\n",
        "    new_PSIDFlist = pickle.load(f)\n"
      ],
      "execution_count": null,
      "outputs": []
    },
    {
      "cell_type": "code",
      "metadata": {
        "id": "oUSu0UgMI7a4",
        "outputId": "6d11bbae-9d03-4c09-9d96-c8accd95da3d"
      },
      "source": [
        "rows_i = newAMZGames_DF['Updated_UserID'].nunique()\n",
        "cols_i = newAMZGames_DF['Updated_ItemID'].nunique()\n",
        "SVD_UserItemMAT = AllRatingMatrices(newUserItem_list,'Updated_UserID','Updated_ItemID',rows_i ,cols_i) ##Same as UserItemMAT_regPSI\n",
        "SVD_UserItemMAT"
      ],
      "execution_count": null,
      "outputs": [
        {
          "output_type": "execute_result",
          "data": {
            "text/plain": [
              "[<39284x17318 sparse matrix of type '<class 'numpy.float64'>'\n",
              " \twith 250384 stored elements in Compressed Sparse Row format>,\n",
              " <39284x17318 sparse matrix of type '<class 'numpy.float64'>'\n",
              " \twith 255520 stored elements in Compressed Sparse Row format>,\n",
              " <39284x17318 sparse matrix of type '<class 'numpy.float64'>'\n",
              " \twith 261105 stored elements in Compressed Sparse Row format>,\n",
              " <39284x17318 sparse matrix of type '<class 'numpy.float64'>'\n",
              " \twith 266597 stored elements in Compressed Sparse Row format>,\n",
              " <39284x17318 sparse matrix of type '<class 'numpy.float64'>'\n",
              " \twith 272102 stored elements in Compressed Sparse Row format>,\n",
              " <39284x17318 sparse matrix of type '<class 'numpy.float64'>'\n",
              " \twith 277572 stored elements in Compressed Sparse Row format>,\n",
              " <39284x17318 sparse matrix of type '<class 'numpy.float64'>'\n",
              " \twith 282899 stored elements in Compressed Sparse Row format>,\n",
              " <39284x17318 sparse matrix of type '<class 'numpy.float64'>'\n",
              " \twith 288493 stored elements in Compressed Sparse Row format>,\n",
              " <39284x17318 sparse matrix of type '<class 'numpy.float64'>'\n",
              " \twith 294033 stored elements in Compressed Sparse Row format>,\n",
              " <39284x17318 sparse matrix of type '<class 'numpy.float64'>'\n",
              " \twith 299422 stored elements in Compressed Sparse Row format>,\n",
              " <39284x17318 sparse matrix of type '<class 'numpy.float64'>'\n",
              " \twith 304874 stored elements in Compressed Sparse Row format>,\n",
              " <39284x17318 sparse matrix of type '<class 'numpy.float64'>'\n",
              " \twith 310345 stored elements in Compressed Sparse Row format>,\n",
              " <39284x17318 sparse matrix of type '<class 'numpy.float64'>'\n",
              " \twith 315857 stored elements in Compressed Sparse Row format>,\n",
              " <39284x17318 sparse matrix of type '<class 'numpy.float64'>'\n",
              " \twith 321360 stored elements in Compressed Sparse Row format>,\n",
              " <39284x17318 sparse matrix of type '<class 'numpy.float64'>'\n",
              " \twith 326607 stored elements in Compressed Sparse Row format>]"
            ]
          },
          "metadata": {
            "tags": []
          },
          "execution_count": 68
        }
      ]
    },
    {
      "cell_type": "code",
      "metadata": {
        "id": "yKcMsBw_I7a5",
        "outputId": "7f430d70-2f51-4aa4-9ce4-8562cdc23309"
      },
      "source": [
        "AllHitr_,maxhit,maxrank = SVDoptimalSearch(SVD_UserItemMAT[0],newHOLDOUT_LIST[0],'Updated_UserID','Updated_ItemID',start=10,end=200,increment=10,N=10)"
      ],
      "execution_count": null,
      "outputs": [
        {
          "output_type": "stream",
          "text": [
            "  5%|▌         | 1/20 [00:00<00:14,  1.32it/s]\n",
            " Max Rank: 10 | HitRate:0.027254707631318136\n",
            " 10%|█         | 2/20 [00:01<00:13,  1.36it/s]\n",
            " Max Rank: 20 | HitRate:0.031714568880079286\n",
            " 15%|█▌        | 3/20 [00:02<00:13,  1.28it/s]\n",
            " Max Rank: 30 | HitRate:0.03617443012884044\n",
            " 30%|███       | 6/20 [00:05<00:14,  1.04s/it]\n",
            " Max Rank: 60 | HitRate:0.04112983151635283\n",
            " 35%|███▌      | 7/20 [00:06<00:14,  1.12s/it]\n",
            " Max Rank: 70 | HitRate:0.04261645193260654\n",
            " 40%|████      | 8/20 [00:08<00:14,  1.21s/it]\n",
            " Max Rank: 80 | HitRate:0.04757185332011893\n",
            " 65%|██████▌   | 13/20 [00:17<00:13,  1.90s/it]\n",
            " Max Rank: 130 | HitRate:0.048562933597621406\n",
            " 75%|███████▌  | 15/20 [00:23<00:11,  2.25s/it]\n",
            " Max Rank: 150 | HitRate:0.050049554013875126\n",
            "100%|██████████| 20/20 [00:43<00:00,  2.19s/it]\n",
            " Best-Params; Max Rank: 150 | HitRate: 0.050049554013875126\n",
            "\n"
          ],
          "name": "stderr"
        }
      ]
    },
    {
      "cell_type": "code",
      "metadata": {
        "id": "wepvZMqUI7a6",
        "outputId": "161966dd-33c0-4775-9c10-8cefa9ca1710"
      },
      "source": [
        "rank_list = list(range(10,201,10))\n",
        "print(rank_list)\n",
        "print()\n",
        "print(maxhit,maxrank )\n"
      ],
      "execution_count": null,
      "outputs": [
        {
          "output_type": "stream",
          "text": [
            "[10, 20, 30, 40, 50, 60, 70, 80, 90, 100, 110, 120, 130, 140, 150, 160, 170, 180, 190, 200]\n",
            "\n",
            "0.050049554013875126 150\n"
          ],
          "name": "stdout"
        }
      ]
    },
    {
      "cell_type": "code",
      "metadata": {
        "id": "Q1-HHdwTI7a7",
        "outputId": "52ed0efc-01eb-47b4-f8d5-10859af31ba1"
      },
      "source": [
        "plt.figure(figsize=(12,8))  \n",
        "plt.plot(rank_list,AllHitr_)   ###Max == 150\n",
        "plt.grid()"
      ],
      "execution_count": null,
      "outputs": [
        {
          "output_type": "display_data",
          "data": {
            "text/plain": [
              "<Figure size 864x576 with 1 Axes>"
            ],
            "image/svg+xml": "<?xml version=\"1.0\" encoding=\"utf-8\" standalone=\"no\"?>\n<!DOCTYPE svg PUBLIC \"-//W3C//DTD SVG 1.1//EN\"\n  \"http://www.w3.org/Graphics/SVG/1.1/DTD/svg11.dtd\">\n<svg height=\"465.958125pt\" version=\"1.1\" viewBox=\"0 0 719.628125 465.958125\" width=\"719.628125pt\" xmlns=\"http://www.w3.org/2000/svg\" xmlns:xlink=\"http://www.w3.org/1999/xlink\">\n <metadata>\n  <rdf:RDF xmlns:cc=\"http://creativecommons.org/ns#\" xmlns:dc=\"http://purl.org/dc/elements/1.1/\" xmlns:rdf=\"http://www.w3.org/1999/02/22-rdf-syntax-ns#\">\n   <cc:Work>\n    <dc:type rdf:resource=\"http://purl.org/dc/dcmitype/StillImage\"/>\n    <dc:date>2021-05-21T18:41:41.065774</dc:date>\n    <dc:format>image/svg+xml</dc:format>\n    <dc:creator>\n     <cc:Agent>\n      <dc:title>Matplotlib v3.4.1, https://matplotlib.org/</dc:title>\n     </cc:Agent>\n    </dc:creator>\n   </cc:Work>\n  </rdf:RDF>\n </metadata>\n <defs>\n  <style type=\"text/css\">*{stroke-linecap:butt;stroke-linejoin:round;}</style>\n </defs>\n <g id=\"figure_1\">\n  <g id=\"patch_1\">\n   <path d=\"M 0 465.958125 \nL 719.628125 465.958125 \nL 719.628125 0 \nL 0 0 \nz\n\" style=\"fill:none;\"/>\n  </g>\n  <g id=\"axes_1\">\n   <g id=\"patch_2\">\n    <path d=\"M 42.828125 442.08 \nL 712.428125 442.08 \nL 712.428125 7.2 \nL 42.828125 7.2 \nz\n\" style=\"fill:#ffffff;\"/>\n   </g>\n   <g id=\"matplotlib.axis_1\">\n    <g id=\"xtick_1\">\n     <g id=\"line2d_1\">\n      <path clip-path=\"url(#p5b1baed06d)\" d=\"M 121.321905 442.08 \nL 121.321905 7.2 \n\" style=\"fill:none;stroke:#b0b0b0;stroke-linecap:square;stroke-width:0.8;\"/>\n     </g>\n     <g id=\"line2d_2\">\n      <defs>\n       <path d=\"M 0 0 \nL 0 3.5 \n\" id=\"meeb2e20ac3\" style=\"stroke:#000000;stroke-width:0.8;\"/>\n      </defs>\n      <g>\n       <use style=\"stroke:#000000;stroke-width:0.8;\" x=\"121.321905\" xlink:href=\"#meeb2e20ac3\" y=\"442.08\"/>\n      </g>\n     </g>\n     <g id=\"text_1\">\n      <!-- 25 -->\n      <g transform=\"translate(114.959405 456.678438)scale(0.1 -0.1)\">\n       <defs>\n        <path d=\"M 1228 531 \nL 3431 531 \nL 3431 0 \nL 469 0 \nL 469 531 \nQ 828 903 1448 1529 \nQ 2069 2156 2228 2338 \nQ 2531 2678 2651 2914 \nQ 2772 3150 2772 3378 \nQ 2772 3750 2511 3984 \nQ 2250 4219 1831 4219 \nQ 1534 4219 1204 4116 \nQ 875 4013 500 3803 \nL 500 4441 \nQ 881 4594 1212 4672 \nQ 1544 4750 1819 4750 \nQ 2544 4750 2975 4387 \nQ 3406 4025 3406 3419 \nQ 3406 3131 3298 2873 \nQ 3191 2616 2906 2266 \nQ 2828 2175 2409 1742 \nQ 1991 1309 1228 531 \nz\n\" id=\"DejaVuSans-32\" transform=\"scale(0.015625)\"/>\n        <path d=\"M 691 4666 \nL 3169 4666 \nL 3169 4134 \nL 1269 4134 \nL 1269 2991 \nQ 1406 3038 1543 3061 \nQ 1681 3084 1819 3084 \nQ 2600 3084 3056 2656 \nQ 3513 2228 3513 1497 \nQ 3513 744 3044 326 \nQ 2575 -91 1722 -91 \nQ 1428 -91 1123 -41 \nQ 819 9 494 109 \nL 494 744 \nQ 775 591 1075 516 \nQ 1375 441 1709 441 \nQ 2250 441 2565 725 \nQ 2881 1009 2881 1497 \nQ 2881 1984 2565 2268 \nQ 2250 2553 1709 2553 \nQ 1456 2553 1204 2497 \nQ 953 2441 691 2322 \nL 691 4666 \nz\n\" id=\"DejaVuSans-35\" transform=\"scale(0.015625)\"/>\n       </defs>\n       <use xlink:href=\"#DejaVuSans-32\"/>\n       <use x=\"63.623047\" xlink:href=\"#DejaVuSans-35\"/>\n      </g>\n     </g>\n    </g>\n    <g id=\"xtick_2\">\n     <g id=\"line2d_3\">\n      <path clip-path=\"url(#p5b1baed06d)\" d=\"M 201.417599 442.08 \nL 201.417599 7.2 \n\" style=\"fill:none;stroke:#b0b0b0;stroke-linecap:square;stroke-width:0.8;\"/>\n     </g>\n     <g id=\"line2d_4\">\n      <g>\n       <use style=\"stroke:#000000;stroke-width:0.8;\" x=\"201.417599\" xlink:href=\"#meeb2e20ac3\" y=\"442.08\"/>\n      </g>\n     </g>\n     <g id=\"text_2\">\n      <!-- 50 -->\n      <g transform=\"translate(195.055099 456.678438)scale(0.1 -0.1)\">\n       <defs>\n        <path d=\"M 2034 4250 \nQ 1547 4250 1301 3770 \nQ 1056 3291 1056 2328 \nQ 1056 1369 1301 889 \nQ 1547 409 2034 409 \nQ 2525 409 2770 889 \nQ 3016 1369 3016 2328 \nQ 3016 3291 2770 3770 \nQ 2525 4250 2034 4250 \nz\nM 2034 4750 \nQ 2819 4750 3233 4129 \nQ 3647 3509 3647 2328 \nQ 3647 1150 3233 529 \nQ 2819 -91 2034 -91 \nQ 1250 -91 836 529 \nQ 422 1150 422 2328 \nQ 422 3509 836 4129 \nQ 1250 4750 2034 4750 \nz\n\" id=\"DejaVuSans-30\" transform=\"scale(0.015625)\"/>\n       </defs>\n       <use xlink:href=\"#DejaVuSans-35\"/>\n       <use x=\"63.623047\" xlink:href=\"#DejaVuSans-30\"/>\n      </g>\n     </g>\n    </g>\n    <g id=\"xtick_3\">\n     <g id=\"line2d_5\">\n      <path clip-path=\"url(#p5b1baed06d)\" d=\"M 281.513292 442.08 \nL 281.513292 7.2 \n\" style=\"fill:none;stroke:#b0b0b0;stroke-linecap:square;stroke-width:0.8;\"/>\n     </g>\n     <g id=\"line2d_6\">\n      <g>\n       <use style=\"stroke:#000000;stroke-width:0.8;\" x=\"281.513292\" xlink:href=\"#meeb2e20ac3\" y=\"442.08\"/>\n      </g>\n     </g>\n     <g id=\"text_3\">\n      <!-- 75 -->\n      <g transform=\"translate(275.150792 456.678438)scale(0.1 -0.1)\">\n       <defs>\n        <path d=\"M 525 4666 \nL 3525 4666 \nL 3525 4397 \nL 1831 0 \nL 1172 0 \nL 2766 4134 \nL 525 4134 \nL 525 4666 \nz\n\" id=\"DejaVuSans-37\" transform=\"scale(0.015625)\"/>\n       </defs>\n       <use xlink:href=\"#DejaVuSans-37\"/>\n       <use x=\"63.623047\" xlink:href=\"#DejaVuSans-35\"/>\n      </g>\n     </g>\n    </g>\n    <g id=\"xtick_4\">\n     <g id=\"line2d_7\">\n      <path clip-path=\"url(#p5b1baed06d)\" d=\"M 361.608986 442.08 \nL 361.608986 7.2 \n\" style=\"fill:none;stroke:#b0b0b0;stroke-linecap:square;stroke-width:0.8;\"/>\n     </g>\n     <g id=\"line2d_8\">\n      <g>\n       <use style=\"stroke:#000000;stroke-width:0.8;\" x=\"361.608986\" xlink:href=\"#meeb2e20ac3\" y=\"442.08\"/>\n      </g>\n     </g>\n     <g id=\"text_4\">\n      <!-- 100 -->\n      <g transform=\"translate(352.065236 456.678438)scale(0.1 -0.1)\">\n       <defs>\n        <path d=\"M 794 531 \nL 1825 531 \nL 1825 4091 \nL 703 3866 \nL 703 4441 \nL 1819 4666 \nL 2450 4666 \nL 2450 531 \nL 3481 531 \nL 3481 0 \nL 794 0 \nL 794 531 \nz\n\" id=\"DejaVuSans-31\" transform=\"scale(0.015625)\"/>\n       </defs>\n       <use xlink:href=\"#DejaVuSans-31\"/>\n       <use x=\"63.623047\" xlink:href=\"#DejaVuSans-30\"/>\n       <use x=\"127.246094\" xlink:href=\"#DejaVuSans-30\"/>\n      </g>\n     </g>\n    </g>\n    <g id=\"xtick_5\">\n     <g id=\"line2d_9\">\n      <path clip-path=\"url(#p5b1baed06d)\" d=\"M 441.70468 442.08 \nL 441.70468 7.2 \n\" style=\"fill:none;stroke:#b0b0b0;stroke-linecap:square;stroke-width:0.8;\"/>\n     </g>\n     <g id=\"line2d_10\">\n      <g>\n       <use style=\"stroke:#000000;stroke-width:0.8;\" x=\"441.70468\" xlink:href=\"#meeb2e20ac3\" y=\"442.08\"/>\n      </g>\n     </g>\n     <g id=\"text_5\">\n      <!-- 125 -->\n      <g transform=\"translate(432.16093 456.678438)scale(0.1 -0.1)\">\n       <use xlink:href=\"#DejaVuSans-31\"/>\n       <use x=\"63.623047\" xlink:href=\"#DejaVuSans-32\"/>\n       <use x=\"127.246094\" xlink:href=\"#DejaVuSans-35\"/>\n      </g>\n     </g>\n    </g>\n    <g id=\"xtick_6\">\n     <g id=\"line2d_11\">\n      <path clip-path=\"url(#p5b1baed06d)\" d=\"M 521.800374 442.08 \nL 521.800374 7.2 \n\" style=\"fill:none;stroke:#b0b0b0;stroke-linecap:square;stroke-width:0.8;\"/>\n     </g>\n     <g id=\"line2d_12\">\n      <g>\n       <use style=\"stroke:#000000;stroke-width:0.8;\" x=\"521.800374\" xlink:href=\"#meeb2e20ac3\" y=\"442.08\"/>\n      </g>\n     </g>\n     <g id=\"text_6\">\n      <!-- 150 -->\n      <g transform=\"translate(512.256624 456.678438)scale(0.1 -0.1)\">\n       <use xlink:href=\"#DejaVuSans-31\"/>\n       <use x=\"63.623047\" xlink:href=\"#DejaVuSans-35\"/>\n       <use x=\"127.246094\" xlink:href=\"#DejaVuSans-30\"/>\n      </g>\n     </g>\n    </g>\n    <g id=\"xtick_7\">\n     <g id=\"line2d_13\">\n      <path clip-path=\"url(#p5b1baed06d)\" d=\"M 601.896068 442.08 \nL 601.896068 7.2 \n\" style=\"fill:none;stroke:#b0b0b0;stroke-linecap:square;stroke-width:0.8;\"/>\n     </g>\n     <g id=\"line2d_14\">\n      <g>\n       <use style=\"stroke:#000000;stroke-width:0.8;\" x=\"601.896068\" xlink:href=\"#meeb2e20ac3\" y=\"442.08\"/>\n      </g>\n     </g>\n     <g id=\"text_7\">\n      <!-- 175 -->\n      <g transform=\"translate(592.352318 456.678438)scale(0.1 -0.1)\">\n       <use xlink:href=\"#DejaVuSans-31\"/>\n       <use x=\"63.623047\" xlink:href=\"#DejaVuSans-37\"/>\n       <use x=\"127.246094\" xlink:href=\"#DejaVuSans-35\"/>\n      </g>\n     </g>\n    </g>\n    <g id=\"xtick_8\">\n     <g id=\"line2d_15\">\n      <path clip-path=\"url(#p5b1baed06d)\" d=\"M 681.991761 442.08 \nL 681.991761 7.2 \n\" style=\"fill:none;stroke:#b0b0b0;stroke-linecap:square;stroke-width:0.8;\"/>\n     </g>\n     <g id=\"line2d_16\">\n      <g>\n       <use style=\"stroke:#000000;stroke-width:0.8;\" x=\"681.991761\" xlink:href=\"#meeb2e20ac3\" y=\"442.08\"/>\n      </g>\n     </g>\n     <g id=\"text_8\">\n      <!-- 200 -->\n      <g transform=\"translate(672.448011 456.678438)scale(0.1 -0.1)\">\n       <use xlink:href=\"#DejaVuSans-32\"/>\n       <use x=\"63.623047\" xlink:href=\"#DejaVuSans-30\"/>\n       <use x=\"127.246094\" xlink:href=\"#DejaVuSans-30\"/>\n      </g>\n     </g>\n    </g>\n   </g>\n   <g id=\"matplotlib.axis_2\">\n    <g id=\"ytick_1\">\n     <g id=\"line2d_17\">\n      <path clip-path=\"url(#p5b1baed06d)\" d=\"M 42.828125 374.699383 \nL 712.428125 374.699383 \n\" style=\"fill:none;stroke:#b0b0b0;stroke-linecap:square;stroke-width:0.8;\"/>\n     </g>\n     <g id=\"line2d_18\">\n      <defs>\n       <path d=\"M 0 0 \nL -3.5 0 \n\" id=\"m565bea65eb\" style=\"stroke:#000000;stroke-width:0.8;\"/>\n      </defs>\n      <g>\n       <use style=\"stroke:#000000;stroke-width:0.8;\" x=\"42.828125\" xlink:href=\"#m565bea65eb\" y=\"374.699383\"/>\n      </g>\n     </g>\n     <g id=\"text_9\">\n      <!-- 0.030 -->\n      <g transform=\"translate(7.2 378.498602)scale(0.1 -0.1)\">\n       <defs>\n        <path d=\"M 684 794 \nL 1344 794 \nL 1344 0 \nL 684 0 \nL 684 794 \nz\n\" id=\"DejaVuSans-2e\" transform=\"scale(0.015625)\"/>\n        <path d=\"M 2597 2516 \nQ 3050 2419 3304 2112 \nQ 3559 1806 3559 1356 \nQ 3559 666 3084 287 \nQ 2609 -91 1734 -91 \nQ 1441 -91 1130 -33 \nQ 819 25 488 141 \nL 488 750 \nQ 750 597 1062 519 \nQ 1375 441 1716 441 \nQ 2309 441 2620 675 \nQ 2931 909 2931 1356 \nQ 2931 1769 2642 2001 \nQ 2353 2234 1838 2234 \nL 1294 2234 \nL 1294 2753 \nL 1863 2753 \nQ 2328 2753 2575 2939 \nQ 2822 3125 2822 3475 \nQ 2822 3834 2567 4026 \nQ 2313 4219 1838 4219 \nQ 1578 4219 1281 4162 \nQ 984 4106 628 3988 \nL 628 4550 \nQ 988 4650 1302 4700 \nQ 1616 4750 1894 4750 \nQ 2613 4750 3031 4423 \nQ 3450 4097 3450 3541 \nQ 3450 3153 3228 2886 \nQ 3006 2619 2597 2516 \nz\n\" id=\"DejaVuSans-33\" transform=\"scale(0.015625)\"/>\n       </defs>\n       <use xlink:href=\"#DejaVuSans-30\"/>\n       <use x=\"63.623047\" xlink:href=\"#DejaVuSans-2e\"/>\n       <use x=\"95.410156\" xlink:href=\"#DejaVuSans-30\"/>\n       <use x=\"159.033203\" xlink:href=\"#DejaVuSans-33\"/>\n       <use x=\"222.65625\" xlink:href=\"#DejaVuSans-30\"/>\n      </g>\n     </g>\n    </g>\n    <g id=\"ytick_2\">\n     <g id=\"line2d_19\">\n      <path clip-path=\"url(#p5b1baed06d)\" d=\"M 42.828125 287.981217 \nL 712.428125 287.981217 \n\" style=\"fill:none;stroke:#b0b0b0;stroke-linecap:square;stroke-width:0.8;\"/>\n     </g>\n     <g id=\"line2d_20\">\n      <g>\n       <use style=\"stroke:#000000;stroke-width:0.8;\" x=\"42.828125\" xlink:href=\"#m565bea65eb\" y=\"287.981217\"/>\n      </g>\n     </g>\n     <g id=\"text_10\">\n      <!-- 0.035 -->\n      <g transform=\"translate(7.2 291.780436)scale(0.1 -0.1)\">\n       <use xlink:href=\"#DejaVuSans-30\"/>\n       <use x=\"63.623047\" xlink:href=\"#DejaVuSans-2e\"/>\n       <use x=\"95.410156\" xlink:href=\"#DejaVuSans-30\"/>\n       <use x=\"159.033203\" xlink:href=\"#DejaVuSans-33\"/>\n       <use x=\"222.65625\" xlink:href=\"#DejaVuSans-35\"/>\n      </g>\n     </g>\n    </g>\n    <g id=\"ytick_3\">\n     <g id=\"line2d_21\">\n      <path clip-path=\"url(#p5b1baed06d)\" d=\"M 42.828125 201.263051 \nL 712.428125 201.263051 \n\" style=\"fill:none;stroke:#b0b0b0;stroke-linecap:square;stroke-width:0.8;\"/>\n     </g>\n     <g id=\"line2d_22\">\n      <g>\n       <use style=\"stroke:#000000;stroke-width:0.8;\" x=\"42.828125\" xlink:href=\"#m565bea65eb\" y=\"201.263051\"/>\n      </g>\n     </g>\n     <g id=\"text_11\">\n      <!-- 0.040 -->\n      <g transform=\"translate(7.2 205.06227)scale(0.1 -0.1)\">\n       <defs>\n        <path d=\"M 2419 4116 \nL 825 1625 \nL 2419 1625 \nL 2419 4116 \nz\nM 2253 4666 \nL 3047 4666 \nL 3047 1625 \nL 3713 1625 \nL 3713 1100 \nL 3047 1100 \nL 3047 0 \nL 2419 0 \nL 2419 1100 \nL 313 1100 \nL 313 1709 \nL 2253 4666 \nz\n\" id=\"DejaVuSans-34\" transform=\"scale(0.015625)\"/>\n       </defs>\n       <use xlink:href=\"#DejaVuSans-30\"/>\n       <use x=\"63.623047\" xlink:href=\"#DejaVuSans-2e\"/>\n       <use x=\"95.410156\" xlink:href=\"#DejaVuSans-30\"/>\n       <use x=\"159.033203\" xlink:href=\"#DejaVuSans-34\"/>\n       <use x=\"222.65625\" xlink:href=\"#DejaVuSans-30\"/>\n      </g>\n     </g>\n    </g>\n    <g id=\"ytick_4\">\n     <g id=\"line2d_23\">\n      <path clip-path=\"url(#p5b1baed06d)\" d=\"M 42.828125 114.544885 \nL 712.428125 114.544885 \n\" style=\"fill:none;stroke:#b0b0b0;stroke-linecap:square;stroke-width:0.8;\"/>\n     </g>\n     <g id=\"line2d_24\">\n      <g>\n       <use style=\"stroke:#000000;stroke-width:0.8;\" x=\"42.828125\" xlink:href=\"#m565bea65eb\" y=\"114.544885\"/>\n      </g>\n     </g>\n     <g id=\"text_12\">\n      <!-- 0.045 -->\n      <g transform=\"translate(7.2 118.344104)scale(0.1 -0.1)\">\n       <use xlink:href=\"#DejaVuSans-30\"/>\n       <use x=\"63.623047\" xlink:href=\"#DejaVuSans-2e\"/>\n       <use x=\"95.410156\" xlink:href=\"#DejaVuSans-30\"/>\n       <use x=\"159.033203\" xlink:href=\"#DejaVuSans-34\"/>\n       <use x=\"222.65625\" xlink:href=\"#DejaVuSans-35\"/>\n      </g>\n     </g>\n    </g>\n    <g id=\"ytick_5\">\n     <g id=\"line2d_25\">\n      <path clip-path=\"url(#p5b1baed06d)\" d=\"M 42.828125 27.826719 \nL 712.428125 27.826719 \n\" style=\"fill:none;stroke:#b0b0b0;stroke-linecap:square;stroke-width:0.8;\"/>\n     </g>\n     <g id=\"line2d_26\">\n      <g>\n       <use style=\"stroke:#000000;stroke-width:0.8;\" x=\"42.828125\" xlink:href=\"#m565bea65eb\" y=\"27.826719\"/>\n      </g>\n     </g>\n     <g id=\"text_13\">\n      <!-- 0.050 -->\n      <g transform=\"translate(7.2 31.625938)scale(0.1 -0.1)\">\n       <use xlink:href=\"#DejaVuSans-30\"/>\n       <use x=\"63.623047\" xlink:href=\"#DejaVuSans-2e\"/>\n       <use x=\"95.410156\" xlink:href=\"#DejaVuSans-30\"/>\n       <use x=\"159.033203\" xlink:href=\"#DejaVuSans-35\"/>\n       <use x=\"222.65625\" xlink:href=\"#DejaVuSans-30\"/>\n      </g>\n     </g>\n    </g>\n   </g>\n   <g id=\"line2d_27\">\n    <path clip-path=\"url(#p5b1baed06d)\" d=\"M 73.264489 422.312727 \nL 105.302766 344.96253 \nL 137.341044 267.612332 \nL 169.379321 267.612332 \nL 201.417599 267.612332 \nL 233.455876 181.667668 \nL 265.494154 155.884269 \nL 297.532431 69.939605 \nL 329.570709 78.534071 \nL 361.608986 104.31747 \nL 393.647264 112.911937 \nL 425.685541 78.534071 \nL 457.723819 52.750672 \nL 489.762096 69.939605 \nL 521.800374 26.967273 \nL 553.838651 52.750672 \nL 585.876929 61.345138 \nL 617.915206 87.128538 \nL 649.953484 95.723004 \nL 681.991761 104.31747 \n\" style=\"fill:none;stroke:#1f77b4;stroke-linecap:square;stroke-width:1.5;\"/>\n   </g>\n   <g id=\"patch_3\">\n    <path d=\"M 42.828125 442.08 \nL 42.828125 7.2 \n\" style=\"fill:none;stroke:#000000;stroke-linecap:square;stroke-linejoin:miter;stroke-width:0.8;\"/>\n   </g>\n   <g id=\"patch_4\">\n    <path d=\"M 712.428125 442.08 \nL 712.428125 7.2 \n\" style=\"fill:none;stroke:#000000;stroke-linecap:square;stroke-linejoin:miter;stroke-width:0.8;\"/>\n   </g>\n   <g id=\"patch_5\">\n    <path d=\"M 42.828125 442.08 \nL 712.428125 442.08 \n\" style=\"fill:none;stroke:#000000;stroke-linecap:square;stroke-linejoin:miter;stroke-width:0.8;\"/>\n   </g>\n   <g id=\"patch_6\">\n    <path d=\"M 42.828125 7.2 \nL 712.428125 7.2 \n\" style=\"fill:none;stroke:#000000;stroke-linecap:square;stroke-linejoin:miter;stroke-width:0.8;\"/>\n   </g>\n  </g>\n </g>\n <defs>\n  <clipPath id=\"p5b1baed06d\">\n   <rect height=\"434.88\" width=\"669.6\" x=\"42.828125\" y=\"7.2\"/>\n  </clipPath>\n </defs>\n</svg>\n",
            "image/png": "[encoded data removed]"
          },
          "metadata": {
            "tags": [],
            "needs_background": "light"
          }
        }
      ]
    },
    {
      "cell_type": "code",
      "metadata": {
        "id": "78-its_0I7a8"
      },
      "source": [
        ""
      ],
      "execution_count": null,
      "outputs": []
    },
    {
      "cell_type": "markdown",
      "metadata": {
        "id": "gk_I6-j-nqwZ"
      },
      "source": [
        "# Updated PSI"
      ]
    },
    {
      "cell_type": "markdown",
      "metadata": {
        "id": "n_XyE7otUxey"
      },
      "source": [
        "**Get RatingMatrices**"
      ]
    },
    {
      "cell_type": "code",
      "metadata": {
        "colab": {
          "base_uri": "https://localhost:8080/"
        },
        "id": "-S_Ti3jIVmL7",
        "outputId": "0b22810a-aa5c-4cb3-dd8e-4f0cf3ad1028"
      },
      "source": [
        "rows_i = AllDF_start['userId'].nunique()\n",
        "cols_i = AllDF_start['productId'].nunique()\n",
        "print(A0_df.shape)\n",
        "A0_RatMat_updt = SingleRatingMatrix(A0_df,'userId', 'productId',rows_i,cols_i)\n",
        "A0_RatMat_updt"
      ],
      "execution_count": null,
      "outputs": [
        {
          "output_type": "stream",
          "text": [
            "(217772, 7)\n"
          ],
          "name": "stdout"
        },
        {
          "output_type": "execute_result",
          "data": {
            "text/plain": [
              "<34250x16034 sparse matrix of type '<class 'numpy.float64'>'\n",
              "\twith 203890 stored elements in Compressed Sparse Row format>"
            ]
          },
          "metadata": {
            "tags": []
          },
          "execution_count": 110
        }
      ]
    },
    {
      "cell_type": "code",
      "metadata": {
        "colab": {
          "base_uri": "https://localhost:8080/"
        },
        "id": "9bSWovTNVmMX",
        "outputId": "3f8e65c4-cfee-4ef7-e409-d908d20c361d"
      },
      "source": [
        "PSI_TrainMat_updt = AllRatingMatrices(ΔA_train,'userId','productId',rows_i ,cols_i)\n",
        "PSI_TrainMat_updt"
      ],
      "execution_count": null,
      "outputs": [
        {
          "output_type": "execute_result",
          "data": {
            "text/plain": [
              "[<34250x16034 sparse matrix of type '<class 'numpy.float64'>'\n",
              " \twith 5390 stored elements in Compressed Sparse Row format>,\n",
              " <34250x16034 sparse matrix of type '<class 'numpy.float64'>'\n",
              " \twith 5394 stored elements in Compressed Sparse Row format>,\n",
              " <34250x16034 sparse matrix of type '<class 'numpy.float64'>'\n",
              " \twith 5404 stored elements in Compressed Sparse Row format>,\n",
              " <34250x16034 sparse matrix of type '<class 'numpy.float64'>'\n",
              " \twith 5391 stored elements in Compressed Sparse Row format>,\n",
              " <34250x16034 sparse matrix of type '<class 'numpy.float64'>'\n",
              " \twith 5440 stored elements in Compressed Sparse Row format>,\n",
              " <34250x16034 sparse matrix of type '<class 'numpy.float64'>'\n",
              " \twith 5436 stored elements in Compressed Sparse Row format>,\n",
              " <34250x16034 sparse matrix of type '<class 'numpy.float64'>'\n",
              " \twith 5439 stored elements in Compressed Sparse Row format>,\n",
              " <34250x16034 sparse matrix of type '<class 'numpy.float64'>'\n",
              " \twith 5431 stored elements in Compressed Sparse Row format>]"
            ]
          },
          "metadata": {
            "tags": []
          },
          "execution_count": 111
        }
      ]
    },
    {
      "cell_type": "code",
      "metadata": {
        "id": "X9B1wEG8YUQa"
      },
      "source": [
        ""
      ],
      "execution_count": null,
      "outputs": []
    },
    {
      "cell_type": "markdown",
      "metadata": {
        "id": "A0k3BxpQCEDK"
      },
      "source": [
        "**Allsteps Update**"
      ]
    },
    {
      "cell_type": "code",
      "metadata": {
        "colab": {
          "base_uri": "https://localhost:8080/"
        },
        "id": "gZKKzIA4UPAt",
        "outputId": "f57f7b39-1177-433a-fff5-80705e3609d5"
      },
      "source": [
        "U_start,S_start,V_start = last_psiTrainMat(A0_RatMat_updt,PSI_TrainMat_updt,k=150)\n",
        "print()\n",
        "print(\"U_start shape: \",U_start.shape)\n",
        "print(\"S_start shape: \",S_start.shape)\n",
        "print(\"V_start shape: \",V_start.shape)"
      ],
      "execution_count": null,
      "outputs": [
        {
          "output_type": "stream",
          "text": [
            "100%|██████████| 8/8 [00:01<00:00,  5.25it/s]\n",
            "U_start shape:  (34250, 150)\n",
            "S_start shape:  (150, 150)\n",
            "V_start shape:  (16034, 150)\n",
            "\n"
          ],
          "name": "stderr"
        }
      ]
    },
    {
      "cell_type": "code",
      "metadata": {
        "colab": {
          "base_uri": "https://localhost:8080/"
        },
        "id": "1c2frghJa9qQ",
        "outputId": "8a41a965-a1f4-4aa5-d5ff-7d075bb3f3cd"
      },
      "source": [
        "U_list,S_list,V_list = [],[],[]\n",
        "U_list.append(U_start)\n",
        "S_list.append(S_start)\n",
        "V_list.append(V_start)\n",
        "print(len(U_list),len(V_list))"
      ],
      "execution_count": null,
      "outputs": [
        {
          "output_type": "stream",
          "text": [
            "1 1\n"
          ],
          "name": "stdout"
        }
      ]
    },
    {
      "cell_type": "code",
      "metadata": {
        "id": "GBY5SEHx8NFk",
        "colab": {
          "base_uri": "https://localhost:8080/"
        },
        "outputId": "892c53e1-aed5-4993-aded-5a0d122fde87"
      },
      "source": [
        "DItems_, DUsers_,In_DomainUSERS,In_DomainITEMS,userID_dict,itemID_dict,AllUpdtUSERS_,AllUpdtITEMS_,U_list,S_list,V_list = ALLSTEPs_UPDATE(AllDF_start,UserItemDF_list,New_itemsList,New_usersList,U_list,S_list,V_list,'userId','productId',Nsteps=15,k=150,Forced_Orth=False)"
      ],
      "execution_count": null,
      "outputs": [
        {
          "output_type": "stream",
          "text": [
            "100%|██████████| 14/14 [07:50<00:00, 33.61s/it]\n"
          ],
          "name": "stderr"
        }
      ]
    },
    {
      "cell_type": "code",
      "metadata": {
        "id": "rdX0nPyQz1LO"
      },
      "source": [
        ""
      ],
      "execution_count": null,
      "outputs": []
    },
    {
      "cell_type": "markdown",
      "metadata": {
        "id": "H9o1U4E-zttV"
      },
      "source": [
        "**Output Check**"
      ]
    },
    {
      "cell_type": "code",
      "metadata": {
        "id": "d92VJcjh8NFn",
        "colab": {
          "base_uri": "https://localhost:8080/"
        },
        "outputId": "52ca2cc0-f19c-45ff-8ffd-bcc6bb87e6c6"
      },
      "source": [
        "print(AllDF_start['productId'].max())\n",
        "print(AllDF_start['userId'].max())"
      ],
      "execution_count": null,
      "outputs": [
        {
          "output_type": "stream",
          "text": [
            "16033\n",
            "34249\n"
          ],
          "name": "stdout"
        }
      ]
    },
    {
      "cell_type": "code",
      "metadata": {
        "colab": {
          "base_uri": "https://localhost:8080/"
        },
        "id": "0J4Qrzf9OvVN",
        "outputId": "94a86177-552b-4d22-f64f-3e051a96598b"
      },
      "source": [
        "print(len(In_DomainITEMS[16033+1:]))\n",
        "print(In_DomainITEMS[16033+1:][:10])\n",
        "print()\n",
        "print(len(In_DomainUSERS[34249+1:]))\n",
        "print(In_DomainUSERS[34249+1:][:10])"
      ],
      "execution_count": null,
      "outputs": [
        {
          "output_type": "stream",
          "text": [
            "1284\n",
            "[16034, 16035, 16037, 16039, 16040, 16044, 16046, 16047, 16048, 16049]\n",
            "\n",
            "5034\n",
            "[34251, 34252, 34253, 34254, 34255, 34256, 34257, 34258, 34259, 34260]\n"
          ],
          "name": "stdout"
        }
      ]
    },
    {
      "cell_type": "code",
      "metadata": {
        "colab": {
          "base_uri": "https://localhost:8080/"
        },
        "id": "5vpSt3xLOvVU",
        "outputId": "0353f327-32e6-425b-8e1c-1b7962883277"
      },
      "source": [
        "#deferred items and users\n",
        "print(len(DItems_))\n",
        "print(DItems_[:10])\n",
        "print()\n",
        "print(len(DUsers_))\n",
        "print(DUsers_[:10])"
      ],
      "execution_count": null,
      "outputs": [
        {
          "output_type": "stream",
          "text": [
            "2\n",
            "[17312, 17317]\n",
            "\n",
            "0\n",
            "[]\n"
          ],
          "name": "stdout"
        }
      ]
    },
    {
      "cell_type": "code",
      "metadata": {
        "colab": {
          "base_uri": "https://localhost:8080/"
        },
        "id": "fYRgZGwlOvVW",
        "tags": [],
        "outputId": "c280e5d4-f663-4712-caf2-5fe163182f5b"
      },
      "source": [
        "for x in list(itemID_dict)[16033+1:][:50]:\n",
        "    print (\"Id: {}, UpdtId: {} \".format(x,  itemID_dict[x]))   ##id ==key || updtedid == values  ,itemID_dict"
      ],
      "execution_count": null,
      "outputs": [
        {
          "output_type": "stream",
          "text": [
            "Id: 16034, UpdtId: 16034 \n",
            "Id: 16035, UpdtId: 16035 \n",
            "Id: 16037, UpdtId: 16036 \n",
            "Id: 16039, UpdtId: 16037 \n",
            "Id: 16040, UpdtId: 16038 \n",
            "Id: 16044, UpdtId: 16039 \n",
            "Id: 16046, UpdtId: 16040 \n",
            "Id: 16047, UpdtId: 16041 \n",
            "Id: 16048, UpdtId: 16042 \n",
            "Id: 16049, UpdtId: 16043 \n",
            "Id: 16050, UpdtId: 16044 \n",
            "Id: 16051, UpdtId: 16045 \n",
            "Id: 16052, UpdtId: 16046 \n",
            "Id: 16054, UpdtId: 16047 \n",
            "Id: 16055, UpdtId: 16048 \n",
            "Id: 16056, UpdtId: 16049 \n",
            "Id: 16058, UpdtId: 16050 \n",
            "Id: 16061, UpdtId: 16051 \n",
            "Id: 16062, UpdtId: 16052 \n",
            "Id: 16065, UpdtId: 16053 \n",
            "Id: 16067, UpdtId: 16054 \n",
            "Id: 16068, UpdtId: 16055 \n",
            "Id: 16069, UpdtId: 16056 \n",
            "Id: 16070, UpdtId: 16057 \n",
            "Id: 16072, UpdtId: 16058 \n",
            "Id: 16073, UpdtId: 16059 \n",
            "Id: 16074, UpdtId: 16060 \n",
            "Id: 16075, UpdtId: 16061 \n",
            "Id: 16076, UpdtId: 16062 \n",
            "Id: 16077, UpdtId: 16063 \n",
            "Id: 16078, UpdtId: 16064 \n",
            "Id: 16079, UpdtId: 16065 \n",
            "Id: 16080, UpdtId: 16066 \n",
            "Id: 16082, UpdtId: 16067 \n",
            "Id: 16083, UpdtId: 16068 \n",
            "Id: 16085, UpdtId: 16069 \n",
            "Id: 16087, UpdtId: 16070 \n",
            "Id: 16089, UpdtId: 16071 \n",
            "Id: 16090, UpdtId: 16072 \n",
            "Id: 16092, UpdtId: 16073 \n",
            "Id: 16093, UpdtId: 16074 \n",
            "Id: 16097, UpdtId: 16075 \n",
            "Id: 16099, UpdtId: 16076 \n",
            "Id: 16100, UpdtId: 16077 \n",
            "Id: 16105, UpdtId: 16078 \n",
            "Id: 16106, UpdtId: 16079 \n",
            "Id: 16109, UpdtId: 16080 \n",
            "Id: 16111, UpdtId: 16081 \n",
            "Id: 16112, UpdtId: 16082 \n",
            "Id: 16114, UpdtId: 16083 \n"
          ],
          "name": "stdout"
        }
      ]
    },
    {
      "cell_type": "code",
      "metadata": {
        "colab": {
          "base_uri": "https://localhost:8080/"
        },
        "id": "XP6aaq1qOvVY",
        "tags": [],
        "outputId": "bd90209f-b096-427f-e074-4ec29c89af50"
      },
      "source": [
        "for x in list(userID_dict)[34249:][:50]:\n",
        "    print (\"Id: {}, UpdtId: {} \".format(x,  userID_dict[x]))   ##id ==key || updtedid == values "
      ],
      "execution_count": null,
      "outputs": [
        {
          "output_type": "stream",
          "text": [
            "Id: 34249, UpdtId: 34249 \n",
            "Id: 34251, UpdtId: 34250 \n",
            "Id: 34252, UpdtId: 34251 \n",
            "Id: 34253, UpdtId: 34252 \n",
            "Id: 34254, UpdtId: 34253 \n",
            "Id: 34255, UpdtId: 34254 \n",
            "Id: 34256, UpdtId: 34255 \n",
            "Id: 34257, UpdtId: 34256 \n",
            "Id: 34258, UpdtId: 34257 \n",
            "Id: 34259, UpdtId: 34258 \n",
            "Id: 34260, UpdtId: 34259 \n",
            "Id: 34261, UpdtId: 34260 \n",
            "Id: 34263, UpdtId: 34261 \n",
            "Id: 34266, UpdtId: 34262 \n",
            "Id: 34267, UpdtId: 34263 \n",
            "Id: 34268, UpdtId: 34264 \n",
            "Id: 34269, UpdtId: 34265 \n",
            "Id: 34270, UpdtId: 34266 \n",
            "Id: 34271, UpdtId: 34267 \n",
            "Id: 34272, UpdtId: 34268 \n",
            "Id: 34273, UpdtId: 34269 \n",
            "Id: 34274, UpdtId: 34270 \n",
            "Id: 34275, UpdtId: 34271 \n",
            "Id: 34276, UpdtId: 34272 \n",
            "Id: 34277, UpdtId: 34273 \n",
            "Id: 34280, UpdtId: 34274 \n",
            "Id: 34282, UpdtId: 34275 \n",
            "Id: 34283, UpdtId: 34276 \n",
            "Id: 34284, UpdtId: 34277 \n",
            "Id: 34285, UpdtId: 34278 \n",
            "Id: 34286, UpdtId: 34279 \n",
            "Id: 34287, UpdtId: 34280 \n",
            "Id: 34288, UpdtId: 34281 \n",
            "Id: 34289, UpdtId: 34282 \n",
            "Id: 34291, UpdtId: 34283 \n",
            "Id: 34292, UpdtId: 34284 \n",
            "Id: 34294, UpdtId: 34285 \n",
            "Id: 34295, UpdtId: 34286 \n",
            "Id: 34300, UpdtId: 34287 \n",
            "Id: 34302, UpdtId: 34288 \n",
            "Id: 34303, UpdtId: 34289 \n",
            "Id: 34304, UpdtId: 34290 \n",
            "Id: 34305, UpdtId: 34291 \n",
            "Id: 34306, UpdtId: 34292 \n",
            "Id: 34307, UpdtId: 34293 \n",
            "Id: 34308, UpdtId: 34294 \n",
            "Id: 34309, UpdtId: 34295 \n",
            "Id: 34310, UpdtId: 34296 \n",
            "Id: 34311, UpdtId: 34297 \n",
            "Id: 34315, UpdtId: 34298 \n"
          ],
          "name": "stdout"
        }
      ]
    },
    {
      "cell_type": "code",
      "metadata": {
        "colab": {
          "base_uri": "https://localhost:8080/"
        },
        "id": "9hrMshBYOvVa",
        "outputId": "58c73af5-e3d4-4a22-e524-1b262903f78d"
      },
      "source": [
        "print(len(U_list),len(V_list))\n",
        "print(U_list[0].shape,V_list[0].shape)\n",
        "print()\n",
        "for u,v in zip(U_list[1:],V_list[1:]):\n",
        "    print(u.shape,v.shape)   "
      ],
      "execution_count": null,
      "outputs": [
        {
          "output_type": "stream",
          "text": [
            "16 16\n",
            "(34250, 150) (16034, 150)\n",
            "\n",
            "(34576, 150) (16139, 150)\n",
            "(35003, 150) (16295, 150)\n",
            "(35393, 150) (16441, 150)\n",
            "(35799, 150) (16570, 150)\n",
            "(36209, 150) (16706, 150)\n",
            "(36585, 150) (16820, 150)\n",
            "(36929, 150) (16968, 150)\n",
            "(37279, 150) (17072, 150)\n",
            "(37644, 150) (17119, 150)\n",
            "(37952, 150) (17162, 150)\n",
            "(38235, 150) (17201, 150)\n",
            "(38518, 150) (17235, 150)\n",
            "(38811, 150) (17271, 150)\n",
            "(39089, 150) (17293, 150)\n",
            "(39284, 150) (17318, 150)\n"
          ],
          "name": "stdout"
        }
      ]
    },
    {
      "cell_type": "code",
      "metadata": {
        "colab": {
          "base_uri": "https://localhost:8080/"
        },
        "id": "xOQC6r84_ju1",
        "outputId": "687e7c0a-2ca0-4667-bb8e-9f86de99ffc6"
      },
      "source": [
        "for i,j in zip(AllUpdtUSERS_,AllUpdtITEMS_):\n",
        "    print(len(i),len(j))"
      ],
      "execution_count": null,
      "outputs": [
        {
          "output_type": "stream",
          "text": [
            "34576 16139\n",
            "35003 16295\n",
            "35393 16441\n",
            "35799 16570\n",
            "36209 16706\n",
            "36585 16820\n",
            "36929 16968\n",
            "37279 17072\n",
            "37644 17119\n",
            "37952 17162\n",
            "38235 17201\n",
            "38518 17235\n",
            "38811 17271\n",
            "39089 17293\n",
            "39284 17318\n"
          ],
          "name": "stdout"
        }
      ]
    },
    {
      "cell_type": "code",
      "metadata": {
        "colab": {
          "base_uri": "https://localhost:8080/"
        },
        "id": "AMjo4AbxOvVc",
        "outputId": "553f733f-70f8-451f-84f4-ed7c5da4420d"
      },
      "source": [
        "print(len(In_DomainUSERS),len(In_DomainITEMS))\n",
        "print(AMZGames_DF['userId'].nunique(),AMZGames_DF['productId'].nunique())"
      ],
      "execution_count": null,
      "outputs": [
        {
          "output_type": "stream",
          "text": [
            "39284 17318\n",
            "39284 17320\n"
          ],
          "name": "stdout"
        }
      ]
    },
    {
      "cell_type": "code",
      "metadata": {
        "id": "SVxmZ2BWK7TS"
      },
      "source": [
        ""
      ],
      "execution_count": null,
      "outputs": []
    },
    {
      "cell_type": "markdown",
      "metadata": {
        "id": "nNpsng5z8doR"
      },
      "source": [
        "**Data Adjustments**"
      ]
    },
    {
      "cell_type": "code",
      "metadata": {
        "id": "beVvlDTN8NFx",
        "colab": {
          "base_uri": "https://localhost:8080/"
        },
        "outputId": "8f5e802e-bb84-4e7f-a17c-46262f72a431"
      },
      "source": [
        "len(AllUpdtITEMS_)"
      ],
      "execution_count": null,
      "outputs": [
        {
          "output_type": "execute_result",
          "data": {
            "text/plain": [
              "15"
            ]
          },
          "metadata": {
            "tags": []
          },
          "execution_count": 123
        }
      ]
    },
    {
      "cell_type": "code",
      "metadata": {
        "id": "DDU62aYf8NF0",
        "colab": {
          "base_uri": "https://localhost:8080/"
        },
        "outputId": "ddad99b4-3954-4aab-a9f2-b9794918e868"
      },
      "source": [
        "\n",
        "newHOLDOUT_LIST = get_NEWHoldout(HOLDOUT_list,userID_dict,itemID_dict,AllUpdtUSERS_,AllUpdtITEMS_,'userId','productId')\n",
        "print(len(newHOLDOUT_LIST))\n",
        "print()\n",
        "for old,new in zip(HOLDOUT_list,newHOLDOUT_LIST):\n",
        "    print(old.shape[0],new.shape[0])"
      ],
      "execution_count": null,
      "outputs": [
        {
          "output_type": "stream",
          "text": [
            "15it [00:00, 55.73it/s]15\n",
            "\n",
            "2239 2018\n",
            "2408 2200\n",
            "2346 2172\n",
            "2259 2079\n",
            "2275 2089\n",
            "2290 2120\n",
            "2374 2217\n",
            "2311 2207\n",
            "2228 2133\n",
            "2269 2171\n",
            "2330 2261\n",
            "2302 2246\n",
            "2297 2196\n",
            "2294 2269\n",
            "2232 2222\n",
            "\n"
          ],
          "name": "stderr"
        }
      ]
    },
    {
      "cell_type": "code",
      "metadata": {
        "id": "oqs2gnUq8NF1",
        "colab": {
          "base_uri": "https://localhost:8080/"
        },
        "outputId": "605d3c8a-2b69-4321-e4a8-2dbab62571aa"
      },
      "source": [
        "newUserItem_list = adjustedAllDF(UserItemDF_list,userID_dict,itemID_dict,AllUpdtUSERS_,AllUpdtITEMS_,'userId','productId')\n",
        "print()\n",
        "for df in newUserItem_list:\n",
        "    print(df['Updated_UserID'].max(),df['Updated_ItemID'].max())"
      ],
      "execution_count": null,
      "outputs": [
        {
          "output_type": "stream",
          "text": [
            "15it [00:06,  2.46it/s]\n",
            "34575 16138\n",
            "35002 16294\n",
            "35392 16440\n",
            "35798 16569\n",
            "36208 16705\n",
            "36584 16819\n",
            "36928 16967\n",
            "37278 17071\n",
            "37643 17118\n",
            "37951 17161\n",
            "38234 17200\n",
            "38517 17234\n",
            "38810 17270\n",
            "39088 17292\n",
            "39283 17317\n",
            "\n"
          ],
          "name": "stderr"
        }
      ]
    },
    {
      "cell_type": "code",
      "metadata": {
        "id": "FHJylUYj8NF3",
        "colab": {
          "base_uri": "https://localhost:8080/"
        },
        "outputId": "c521557e-78b4-4f18-d96d-23d044a334d4"
      },
      "source": [
        "new_PSIDFlist = adjustedPSI_DF(PSITest_list,userID_dict,itemID_dict,AllUpdtUSERS_,AllUpdtITEMS_,'userId','productId')\n",
        "for old,new in zip(PSITest_list,new_PSIDFlist):\n",
        "    print(old.shape[0],new.shape[0])"
      ],
      "execution_count": null,
      "outputs": [
        {
          "output_type": "stream",
          "text": [
            "15it [00:00, 47.53it/s]3311 3310\n",
            "3142 3140\n",
            "3204 3204\n",
            "3291 3291\n",
            "3275 3275\n",
            "3260 3260\n",
            "3176 3175\n",
            "3239 3238\n",
            "3322 3321\n",
            "3281 3280\n",
            "3220 3220\n",
            "3248 3248\n",
            "3253 3252\n",
            "3256 3256\n",
            "3109 3109\n",
            "\n"
          ],
          "name": "stderr"
        }
      ]
    },
    {
      "cell_type": "code",
      "metadata": {
        "id": "injTPfoD8NF3",
        "colab": {
          "base_uri": "https://localhost:8080/"
        },
        "outputId": "bce70823-2c33-4a4c-ebd0-cf7a9776f461"
      },
      "source": [
        "newAMZGames_DF = ADJUST_mainDF(AMZGames_DF,userID_dict,itemID_dict,AllUpdtUSERS_,AllUpdtITEMS_,'userId','productId')\n",
        "print(newAMZGames_DF.shape)\n",
        "print(newAMZGames_DF['userId'].max(),newAMZGames_DF['productId'].max())\n",
        "print(newAMZGames_DF['userId'].nunique(),newAMZGames_DF['productId'].nunique())\n",
        "print()\n",
        "print(newAMZGames_DF['Updated_UserID'].max(),newAMZGames_DF['Updated_ItemID'].max())\n",
        "print(newAMZGames_DF['Updated_UserID'].nunique(),newAMZGames_DF['Updated_ItemID'].nunique())\n",
        "#newAMZB_DF.head()"
      ],
      "execution_count": null,
      "outputs": [
        {
          "output_type": "stream",
          "text": [
            "(345203, 9)\n",
            "39283 17319\n",
            "39284 17318\n",
            "\n",
            "39283 17317\n",
            "39284 17318\n"
          ],
          "name": "stdout"
        }
      ]
    },
    {
      "cell_type": "code",
      "metadata": {
        "id": "cB4Q1VO18NF5"
      },
      "source": [
        ""
      ],
      "execution_count": null,
      "outputs": []
    },
    {
      "cell_type": "code",
      "metadata": {
        "id": "rvb8bp_j8NF5"
      },
      "source": [
        "with open('AMZGames_newUserItem.pkl', 'wb') as f:\n",
        "     pickle.dump(newUserItem_list, f)\n",
        "\n",
        "with open('AMZGames_newHoldout.pkl', 'wb') as f:\n",
        "     pickle.dump(newHOLDOUT_LIST, f)\n",
        "\n",
        "with open('AMZGames_newPSITest.pkl', 'wb') as f:\n",
        "     pickle.dump(new_PSIDFlist, f)     "
      ],
      "execution_count": null,
      "outputs": []
    },
    {
      "cell_type": "code",
      "metadata": {
        "id": "XjluqAp68NF6"
      },
      "source": [
        "newAMZGames_DF.to_csv('AMZGms_afterUpdt.csv',index=False)"
      ],
      "execution_count": null,
      "outputs": []
    },
    {
      "cell_type": "code",
      "metadata": {
        "id": "H-tiGhvz8NF6"
      },
      "source": [
        ""
      ],
      "execution_count": null,
      "outputs": []
    },
    {
      "cell_type": "code",
      "metadata": {
        "id": "VSBJoB3h8NF7"
      },
      "source": [
        "with open('AMZGames_newPSITest.pkl', 'rb') as f:\n",
        "     newPSITest_ = pickle.load(f)"
      ],
      "execution_count": null,
      "outputs": []
    },
    {
      "cell_type": "code",
      "metadata": {
        "id": "nYXgSW6cI7bZ",
        "outputId": "f9411e17-0211-4958-9eef-22487d5aa676"
      },
      "source": [
        "with open('/mnt/bulky/oolaleke/TDM_Dataset/AMZGames_newHoldout.pkl', 'rb') as f:\n",
        "     newHoldOut_ = pickle.load(f)\n",
        "     \n",
        "print(newPSITest_[0].shape)\n",
        "print(newPSITest_[0]['Updated_UserID'].nunique())\n",
        "# print(new_PSIDFlist[0].shape)\n",
        "# print(new_PSIDFlist[0]['Updated_UserID'].nunique())"
      ],
      "execution_count": null,
      "outputs": [
        {
          "output_type": "stream",
          "text": [
            "(3310, 4)\n",
            "1062\n"
          ],
          "name": "stdout"
        }
      ]
    },
    {
      "cell_type": "code",
      "metadata": {
        "id": "fvhCrjnS8NF8"
      },
      "source": [
        ""
      ],
      "execution_count": null,
      "outputs": []
    },
    {
      "cell_type": "markdown",
      "metadata": {
        "id": "J_bFpV2cKCuA"
      },
      "source": [
        "**Get UserItem MAT**"
      ]
    },
    {
      "cell_type": "code",
      "metadata": {
        "id": "l9uf6prp8NF-",
        "colab": {
          "base_uri": "https://localhost:8080/"
        },
        "outputId": "3028691f-cba4-45bc-acee-806e5dc8f90a"
      },
      "source": [
        "for i in range(10):\n",
        "    print(newUserItem_list[i]['Updated_UserID'].max(),newUserItem_list[i]['Updated_ItemID'].max())"
      ],
      "execution_count": null,
      "outputs": [
        {
          "output_type": "stream",
          "text": [
            "34575 16138\n",
            "35002 16294\n",
            "35392 16440\n",
            "35798 16569\n",
            "36208 16705\n",
            "36584 16819\n",
            "36928 16967\n",
            "37278 17071\n",
            "37643 17118\n",
            "37951 17161\n"
          ],
          "name": "stdout"
        }
      ]
    },
    {
      "cell_type": "code",
      "metadata": {
        "colab": {
          "base_uri": "https://localhost:8080/"
        },
        "id": "bA6bmr-CKCuD",
        "outputId": "43496cd7-6b4e-4e5a-f22b-10d46c92df04"
      },
      "source": [
        "print(len(U_list[1:]),len(V_list[1:]))\n",
        "for u,v in zip(U_list[1:],V_list[1:]):\n",
        "    print(u.shape[0],v.shape[0])   "
      ],
      "execution_count": null,
      "outputs": [
        {
          "output_type": "stream",
          "text": [
            "15 15\n",
            "34576 16139\n",
            "35003 16295\n",
            "35393 16441\n",
            "35799 16570\n",
            "36209 16706\n",
            "36585 16820\n",
            "36929 16968\n",
            "37279 17072\n",
            "37644 17119\n",
            "37952 17162\n",
            "38235 17201\n",
            "38518 17235\n",
            "38811 17271\n",
            "39089 17293\n",
            "39284 17318\n"
          ],
          "name": "stdout"
        }
      ]
    },
    {
      "cell_type": "code",
      "metadata": {
        "colab": {
          "base_uri": "https://localhost:8080/"
        },
        "id": "N1FI-D8uKCuG",
        "outputId": "5d1600df-8cfa-462e-cf4d-c97817585079"
      },
      "source": [
        "                   #AllSingleStepRatMat_2(DFList,Ulist,Vlist,user_column,item_column)\n",
        "UserItem_Matupdt = AllSingleStepRatMat_2(newUserItem_list,U_list[1:],V_list[1:],'Updated_UserID','Updated_ItemID')\n",
        "print(len(UserItem_Matupdt))\n",
        "UserItem_Matupdt"
      ],
      "execution_count": null,
      "outputs": [
        {
          "output_type": "stream",
          "text": [
            "15\n"
          ],
          "name": "stdout"
        },
        {
          "output_type": "execute_result",
          "data": {
            "text/plain": [
              "[<34576x16139 sparse matrix of type '<class 'numpy.float64'>'\n",
              " \twith 250384 stored elements in Compressed Sparse Row format>,\n",
              " <35003x16295 sparse matrix of type '<class 'numpy.float64'>'\n",
              " \twith 255520 stored elements in Compressed Sparse Row format>,\n",
              " <35393x16441 sparse matrix of type '<class 'numpy.float64'>'\n",
              " \twith 261105 stored elements in Compressed Sparse Row format>,\n",
              " <35799x16570 sparse matrix of type '<class 'numpy.float64'>'\n",
              " \twith 266597 stored elements in Compressed Sparse Row format>,\n",
              " <36209x16706 sparse matrix of type '<class 'numpy.float64'>'\n",
              " \twith 272102 stored elements in Compressed Sparse Row format>,\n",
              " <36585x16820 sparse matrix of type '<class 'numpy.float64'>'\n",
              " \twith 277572 stored elements in Compressed Sparse Row format>,\n",
              " <36929x16968 sparse matrix of type '<class 'numpy.float64'>'\n",
              " \twith 282899 stored elements in Compressed Sparse Row format>,\n",
              " <37279x17072 sparse matrix of type '<class 'numpy.float64'>'\n",
              " \twith 288493 stored elements in Compressed Sparse Row format>,\n",
              " <37644x17119 sparse matrix of type '<class 'numpy.float64'>'\n",
              " \twith 294033 stored elements in Compressed Sparse Row format>,\n",
              " <37952x17162 sparse matrix of type '<class 'numpy.float64'>'\n",
              " \twith 299422 stored elements in Compressed Sparse Row format>,\n",
              " <38235x17201 sparse matrix of type '<class 'numpy.float64'>'\n",
              " \twith 304874 stored elements in Compressed Sparse Row format>,\n",
              " <38518x17235 sparse matrix of type '<class 'numpy.float64'>'\n",
              " \twith 310345 stored elements in Compressed Sparse Row format>,\n",
              " <38811x17271 sparse matrix of type '<class 'numpy.float64'>'\n",
              " \twith 315857 stored elements in Compressed Sparse Row format>,\n",
              " <39089x17293 sparse matrix of type '<class 'numpy.float64'>'\n",
              " \twith 321360 stored elements in Compressed Sparse Row format>,\n",
              " <39284x17318 sparse matrix of type '<class 'numpy.float64'>'\n",
              " \twith 326607 stored elements in Compressed Sparse Row format>]"
            ]
          },
          "metadata": {
            "tags": []
          },
          "execution_count": 130
        }
      ]
    },
    {
      "cell_type": "code",
      "metadata": {
        "colab": {
          "base_uri": "https://localhost:8080/"
        },
        "id": "kRkFwCd8KCuE",
        "outputId": "12084721-5223-489d-af82-70e647f55c90"
      },
      "source": [
        "print(AllDF_start['userId'].nunique(),AllDF_start['productId'].nunique())\n",
        "print()\n",
        "for i,j in zip(AllUpdtUSERS_,AllUpdtITEMS_):\n",
        "    print(len(i),len(j))"
      ],
      "execution_count": null,
      "outputs": [
        {
          "output_type": "stream",
          "text": [
            "34250 16034\n",
            "\n",
            "34576 16139\n",
            "35003 16295\n",
            "35393 16441\n",
            "35799 16570\n",
            "36209 16706\n",
            "36585 16820\n",
            "36929 16968\n",
            "37279 17072\n",
            "37644 17119\n",
            "37952 17162\n",
            "38235 17201\n",
            "38518 17235\n",
            "38811 17271\n",
            "39089 17293\n",
            "39284 17318\n"
          ],
          "name": "stdout"
        }
      ]
    },
    {
      "cell_type": "code",
      "metadata": {
        "id": "Q8-yXl1wpd9M"
      },
      "source": [
        ""
      ],
      "execution_count": null,
      "outputs": []
    },
    {
      "cell_type": "markdown",
      "metadata": {
        "id": "-FWZcWCDzJ-i"
      },
      "source": [
        "**V_list**"
      ]
    },
    {
      "cell_type": "code",
      "metadata": {
        "colab": {
          "base_uri": "https://localhost:8080/"
        },
        "id": "NrcfgZCCzPPu",
        "outputId": "1a2cbc17-cb12-4d3b-d166-271fcfadcffc"
      },
      "source": [
        "print(len(UserItem_Matupdt),len(newHOLDOUT_LIST))"
      ],
      "execution_count": null,
      "outputs": [
        {
          "output_type": "stream",
          "text": [
            "15 15\n"
          ],
          "name": "stdout"
        }
      ]
    },
    {
      "cell_type": "code",
      "metadata": {
        "colab": {
          "base_uri": "https://localhost:8080/"
        },
        "id": "RguT3Utr0iLy",
        "outputId": "56a7d213-bb0d-4807-cd0d-009f8386ac51"
      },
      "source": [
        "Vpsi_listUpdt = V_list[1:]\n",
        "for v in Vpsi_listUpdt:\n",
        "    print(v.shape)"
      ],
      "execution_count": null,
      "outputs": [
        {
          "output_type": "stream",
          "text": [
            "(16139, 150)\n",
            "(16295, 150)\n",
            "(16441, 150)\n",
            "(16570, 150)\n",
            "(16706, 150)\n",
            "(16820, 150)\n",
            "(16968, 150)\n",
            "(17072, 150)\n",
            "(17119, 150)\n",
            "(17162, 150)\n",
            "(17201, 150)\n",
            "(17235, 150)\n",
            "(17271, 150)\n",
            "(17293, 150)\n",
            "(17318, 150)\n"
          ],
          "name": "stdout"
        }
      ]
    },
    {
      "cell_type": "code",
      "metadata": {
        "colab": {
          "base_uri": "https://localhost:8080/"
        },
        "id": "py9S9LGoKamJ",
        "outputId": "e9121055-f7a1-45a3-a859-e0cb353a1776"
      },
      "source": [
        "V_1 = Vpsi_listUpdt[0]\n",
        "V_1.shape"
      ],
      "execution_count": null,
      "outputs": [
        {
          "output_type": "execute_result",
          "data": {
            "text/plain": [
              "(16139, 150)"
            ]
          },
          "metadata": {
            "tags": []
          },
          "execution_count": 134
        }
      ]
    },
    {
      "cell_type": "code",
      "metadata": {
        "id": "N1Vc6Na38NGR"
      },
      "source": [
        ""
      ],
      "execution_count": null,
      "outputs": []
    },
    {
      "cell_type": "markdown",
      "metadata": {
        "id": "dlm-q9ms_BWw"
      },
      "source": [
        "# Regular PSI "
      ]
    },
    {
      "cell_type": "markdown",
      "metadata": {
        "id": "uWbLS4cbPI19"
      },
      "source": [
        "**Get Rating Matrices**"
      ]
    },
    {
      "cell_type": "code",
      "metadata": {
        "id": "0i3Z3Aay8NGe",
        "outputId": "c4064d1d-a5b5-4365-e677-9de2fc7f9758"
      },
      "source": [
        "print(newAMZGames_DF.shape)\n",
        "print(newAMZGames_DF['userId'].max(),newAMZGames_DF['productId'].max())\n",
        "print(newAMZGames_DF['userId'].nunique(),newAMZGames_DF['productId'].nunique())\n",
        "print()\n",
        "print(newAMZGames_DF['Updated_UserID'].max(),newAMZGames_DF['Updated_ItemID'].max())\n",
        "print(newAMZGames_DF['Updated_UserID'].nunique(),newAMZGames_DF['Updated_ItemID'].nunique())\n",
        "newAMZGames_DF.head()"
      ],
      "execution_count": null,
      "outputs": [
        {
          "output_type": "stream",
          "text": [
            "(345203, 9)\n",
            "39283 17319\n",
            "39284 17318\n",
            "\n",
            "39283 17317\n",
            "39284 17318\n"
          ],
          "name": "stdout"
        },
        {
          "output_type": "execute_result",
          "data": {
            "text/plain": [
              "           userid   ProductID  rating  timestamp timestamp_YM  userId  \\\n",
              "0  A2AXQTB83VMK4L  B0000296O5       1 1999-10-14      1999-10       0   \n",
              "1  A2T04VAIXSKJH2  B00002NDRY       1 1999-11-05      1999-11       1   \n",
              "2  A1QA8K3LD9K892  B000021Y5F       1 1999-11-10      1999-11       2   \n",
              "3  A1QA8K3LD9K892  B000021Y5Q       1 1999-11-10      1999-11       2   \n",
              "4   ANLA598UNJI8A  B00001IVGE       1 1999-11-14      1999-11       3   \n",
              "\n",
              "   productId  Updated_UserID  Updated_ItemID  \n",
              "0          0               0               0  \n",
              "1          1               1               1  \n",
              "2          2               2               2  \n",
              "3          3               2               3  \n",
              "4          4               3               4  "
            ],
            "text/html": [
              "<div>\n",
              "<style scoped>\n",
              "    .dataframe tbody tr th:only-of-type {\n",
              "        vertical-align: middle;\n",
              "    }\n",
              "\n",
              "    .dataframe tbody tr th {\n",
              "        vertical-align: top;\n",
              "    }\n",
              "\n",
              "    .dataframe thead th {\n",
              "        text-align: right;\n",
              "    }\n",
              "</style>\n",
              "<table border=\"1\" class=\"dataframe\">\n",
              "  <thead>\n",
              "    <tr style=\"text-align: right;\">\n",
              "      <th></th>\n",
              "      <th>userid</th>\n",
              "      <th>ProductID</th>\n",
              "      <th>rating</th>\n",
              "      <th>timestamp</th>\n",
              "      <th>timestamp_YM</th>\n",
              "      <th>userId</th>\n",
              "      <th>productId</th>\n",
              "      <th>Updated_UserID</th>\n",
              "      <th>Updated_ItemID</th>\n",
              "    </tr>\n",
              "  </thead>\n",
              "  <tbody>\n",
              "    <tr>\n",
              "      <th>0</th>\n",
              "      <td>A2AXQTB83VMK4L</td>\n",
              "      <td>B0000296O5</td>\n",
              "      <td>1</td>\n",
              "      <td>1999-10-14</td>\n",
              "      <td>1999-10</td>\n",
              "      <td>0</td>\n",
              "      <td>0</td>\n",
              "      <td>0</td>\n",
              "      <td>0</td>\n",
              "    </tr>\n",
              "    <tr>\n",
              "      <th>1</th>\n",
              "      <td>A2T04VAIXSKJH2</td>\n",
              "      <td>B00002NDRY</td>\n",
              "      <td>1</td>\n",
              "      <td>1999-11-05</td>\n",
              "      <td>1999-11</td>\n",
              "      <td>1</td>\n",
              "      <td>1</td>\n",
              "      <td>1</td>\n",
              "      <td>1</td>\n",
              "    </tr>\n",
              "    <tr>\n",
              "      <th>2</th>\n",
              "      <td>A1QA8K3LD9K892</td>\n",
              "      <td>B000021Y5F</td>\n",
              "      <td>1</td>\n",
              "      <td>1999-11-10</td>\n",
              "      <td>1999-11</td>\n",
              "      <td>2</td>\n",
              "      <td>2</td>\n",
              "      <td>2</td>\n",
              "      <td>2</td>\n",
              "    </tr>\n",
              "    <tr>\n",
              "      <th>3</th>\n",
              "      <td>A1QA8K3LD9K892</td>\n",
              "      <td>B000021Y5Q</td>\n",
              "      <td>1</td>\n",
              "      <td>1999-11-10</td>\n",
              "      <td>1999-11</td>\n",
              "      <td>2</td>\n",
              "      <td>3</td>\n",
              "      <td>2</td>\n",
              "      <td>3</td>\n",
              "    </tr>\n",
              "    <tr>\n",
              "      <th>4</th>\n",
              "      <td>ANLA598UNJI8A</td>\n",
              "      <td>B00001IVGE</td>\n",
              "      <td>1</td>\n",
              "      <td>1999-11-14</td>\n",
              "      <td>1999-11</td>\n",
              "      <td>3</td>\n",
              "      <td>4</td>\n",
              "      <td>3</td>\n",
              "      <td>4</td>\n",
              "    </tr>\n",
              "  </tbody>\n",
              "</table>\n",
              "</div>"
            ]
          },
          "metadata": {
            "tags": []
          },
          "execution_count": 146
        }
      ]
    },
    {
      "cell_type": "code",
      "metadata": {
        "colab": {
          "base_uri": "https://localhost:8080/"
        },
        "id": "9VaLJAAPRRLc",
        "outputId": "3cb7f9b6-ccb4-4b5a-ef25-66be8380bd80"
      },
      "source": [
        "rows_i = newAMZGames_DF['Updated_UserID'].nunique()\n",
        "cols_i = newAMZGames_DF['Updated_ItemID'].nunique()\n",
        "print(A0_df.shape)\n",
        "A0_Rating_matrix = SingleRatingMatrix(A0_df,'userId', 'productId',rows_i,cols_i)  ##changes start within steps...\n",
        "A0_Rating_matrix"
      ],
      "execution_count": null,
      "outputs": [
        {
          "output_type": "stream",
          "text": [
            "(217772, 7)\n"
          ],
          "name": "stdout"
        },
        {
          "output_type": "execute_result",
          "data": {
            "text/plain": [
              "<39284x17318 sparse matrix of type '<class 'numpy.float64'>'\n",
              "\twith 203890 stored elements in Compressed Sparse Row format>"
            ]
          },
          "metadata": {
            "tags": []
          },
          "execution_count": 147
        }
      ]
    },
    {
      "cell_type": "code",
      "metadata": {
        "id": "1deDiBeP8NGg",
        "outputId": "b76bfb65-a52f-490b-c011-f66c0757240b"
      },
      "source": [
        "for df in new_PSIDFlist:\n",
        "    print(df['Updated_UserID'].max(),df['Updated_ItemID'].max(),df.shape[0])"
      ],
      "execution_count": null,
      "outputs": [
        {
          "output_type": "stream",
          "text": [
            "34575 16138 3310\n",
            "35001 16293 3140\n",
            "35388 16440 3204\n",
            "35796 16569 3291\n",
            "36205 16704 3275\n",
            "36582 16817 3260\n",
            "36928 16966 3175\n",
            "37278 17071 3238\n",
            "37643 17117 3321\n",
            "37950 17161 3280\n",
            "38234 17197 3220\n",
            "38517 17233 3248\n",
            "38808 17270 3252\n",
            "39088 17290 3256\n",
            "39283 17317 3109\n"
          ],
          "name": "stdout"
        }
      ]
    },
    {
      "cell_type": "code",
      "metadata": {
        "colab": {
          "base_uri": "https://localhost:8080/"
        },
        "id": "PJgsMKCpRRMD",
        "outputId": "1b4cc003-3329-4043-de8a-c5f7d5a40e41"
      },
      "source": [
        "print(\"Length of PSI_Train :\",len(ΔA_train))\n",
        "print(\"Length of PSI_Test  :\",len(new_PSIDFlist))"
      ],
      "execution_count": null,
      "outputs": [
        {
          "output_type": "stream",
          "text": [
            "Length of PSI_Train : 8\n",
            "Length of PSI_Test  : 15\n"
          ],
          "name": "stdout"
        }
      ]
    },
    {
      "cell_type": "code",
      "metadata": {
        "colab": {
          "base_uri": "https://localhost:8080/"
        },
        "id": "EBFJoOOvRRME",
        "outputId": "fd8f9149-59dd-40ad-d6c5-572b6df59721"
      },
      "source": [
        "PSI_train_matrix = AllRatingMatrices(ΔA_train,'userId','productId',rows_i ,cols_i)\n",
        "PSI_train_matrix   "
      ],
      "execution_count": null,
      "outputs": [
        {
          "output_type": "execute_result",
          "data": {
            "text/plain": [
              "[<39284x17318 sparse matrix of type '<class 'numpy.float64'>'\n",
              " \twith 5390 stored elements in Compressed Sparse Row format>,\n",
              " <39284x17318 sparse matrix of type '<class 'numpy.float64'>'\n",
              " \twith 5394 stored elements in Compressed Sparse Row format>,\n",
              " <39284x17318 sparse matrix of type '<class 'numpy.float64'>'\n",
              " \twith 5404 stored elements in Compressed Sparse Row format>,\n",
              " <39284x17318 sparse matrix of type '<class 'numpy.float64'>'\n",
              " \twith 5391 stored elements in Compressed Sparse Row format>,\n",
              " <39284x17318 sparse matrix of type '<class 'numpy.float64'>'\n",
              " \twith 5440 stored elements in Compressed Sparse Row format>,\n",
              " <39284x17318 sparse matrix of type '<class 'numpy.float64'>'\n",
              " \twith 5436 stored elements in Compressed Sparse Row format>,\n",
              " <39284x17318 sparse matrix of type '<class 'numpy.float64'>'\n",
              " \twith 5439 stored elements in Compressed Sparse Row format>,\n",
              " <39284x17318 sparse matrix of type '<class 'numpy.float64'>'\n",
              " \twith 5431 stored elements in Compressed Sparse Row format>]"
            ]
          },
          "metadata": {
            "tags": []
          },
          "execution_count": 152
        }
      ]
    },
    {
      "cell_type": "code",
      "metadata": {
        "id": "8M_ymqxs8NGk",
        "outputId": "0104bf9b-3bdd-4f8b-919c-7be44f27ddcf"
      },
      "source": [
        "PSI_test_matrix = AllRatingMatrices(new_PSIDFlist,'Updated_UserID','Updated_ItemID',rows_i ,cols_i)                                                                      \n",
        "print(len(PSI_test_matrix))\n",
        "PSI_test_matrix"
      ],
      "execution_count": null,
      "outputs": [
        {
          "output_type": "stream",
          "text": [
            "15\n"
          ],
          "name": "stdout"
        },
        {
          "output_type": "execute_result",
          "data": {
            "text/plain": [
              "[<39284x17318 sparse matrix of type '<class 'numpy.float64'>'\n",
              " \twith 3248 stored elements in Compressed Sparse Row format>,\n",
              " <39284x17318 sparse matrix of type '<class 'numpy.float64'>'\n",
              " \twith 3100 stored elements in Compressed Sparse Row format>,\n",
              " <39284x17318 sparse matrix of type '<class 'numpy.float64'>'\n",
              " \twith 3146 stored elements in Compressed Sparse Row format>,\n",
              " <39284x17318 sparse matrix of type '<class 'numpy.float64'>'\n",
              " \twith 3229 stored elements in Compressed Sparse Row format>,\n",
              " <39284x17318 sparse matrix of type '<class 'numpy.float64'>'\n",
              " \twith 3216 stored elements in Compressed Sparse Row format>,\n",
              " <39284x17318 sparse matrix of type '<class 'numpy.float64'>'\n",
              " \twith 3217 stored elements in Compressed Sparse Row format>,\n",
              " <39284x17318 sparse matrix of type '<class 'numpy.float64'>'\n",
              " \twith 3120 stored elements in Compressed Sparse Row format>,\n",
              " <39284x17318 sparse matrix of type '<class 'numpy.float64'>'\n",
              " \twith 3193 stored elements in Compressed Sparse Row format>,\n",
              " <39284x17318 sparse matrix of type '<class 'numpy.float64'>'\n",
              " \twith 3269 stored elements in Compressed Sparse Row format>,\n",
              " <39284x17318 sparse matrix of type '<class 'numpy.float64'>'\n",
              " \twith 3236 stored elements in Compressed Sparse Row format>,\n",
              " <39284x17318 sparse matrix of type '<class 'numpy.float64'>'\n",
              " \twith 3185 stored elements in Compressed Sparse Row format>,\n",
              " <39284x17318 sparse matrix of type '<class 'numpy.float64'>'\n",
              " \twith 3212 stored elements in Compressed Sparse Row format>,\n",
              " <39284x17318 sparse matrix of type '<class 'numpy.float64'>'\n",
              " \twith 3223 stored elements in Compressed Sparse Row format>,\n",
              " <39284x17318 sparse matrix of type '<class 'numpy.float64'>'\n",
              " \twith 3227 stored elements in Compressed Sparse Row format>,\n",
              " <39284x17318 sparse matrix of type '<class 'numpy.float64'>'\n",
              " \twith 2980 stored elements in Compressed Sparse Row format>]"
            ]
          },
          "metadata": {
            "tags": []
          },
          "execution_count": 153
        }
      ]
    },
    {
      "cell_type": "code",
      "metadata": {
        "id": "1nRNYRwH8NGm",
        "outputId": "385e0297-a621-410c-920d-48a288304ce2"
      },
      "source": [
        "UserItemMAT_regPSI = AllRatingMatrices(newUserItem_list,'Updated_UserID','Updated_ItemID',rows_i ,cols_i) \n",
        "UserItemMAT_regPSI  "
      ],
      "execution_count": null,
      "outputs": [
        {
          "output_type": "execute_result",
          "data": {
            "text/plain": [
              "[<39284x17318 sparse matrix of type '<class 'numpy.float64'>'\n",
              " \twith 250384 stored elements in Compressed Sparse Row format>,\n",
              " <39284x17318 sparse matrix of type '<class 'numpy.float64'>'\n",
              " \twith 255520 stored elements in Compressed Sparse Row format>,\n",
              " <39284x17318 sparse matrix of type '<class 'numpy.float64'>'\n",
              " \twith 261105 stored elements in Compressed Sparse Row format>,\n",
              " <39284x17318 sparse matrix of type '<class 'numpy.float64'>'\n",
              " \twith 266597 stored elements in Compressed Sparse Row format>,\n",
              " <39284x17318 sparse matrix of type '<class 'numpy.float64'>'\n",
              " \twith 272102 stored elements in Compressed Sparse Row format>,\n",
              " <39284x17318 sparse matrix of type '<class 'numpy.float64'>'\n",
              " \twith 277572 stored elements in Compressed Sparse Row format>,\n",
              " <39284x17318 sparse matrix of type '<class 'numpy.float64'>'\n",
              " \twith 282899 stored elements in Compressed Sparse Row format>,\n",
              " <39284x17318 sparse matrix of type '<class 'numpy.float64'>'\n",
              " \twith 288493 stored elements in Compressed Sparse Row format>,\n",
              " <39284x17318 sparse matrix of type '<class 'numpy.float64'>'\n",
              " \twith 294033 stored elements in Compressed Sparse Row format>,\n",
              " <39284x17318 sparse matrix of type '<class 'numpy.float64'>'\n",
              " \twith 299422 stored elements in Compressed Sparse Row format>,\n",
              " <39284x17318 sparse matrix of type '<class 'numpy.float64'>'\n",
              " \twith 304874 stored elements in Compressed Sparse Row format>,\n",
              " <39284x17318 sparse matrix of type '<class 'numpy.float64'>'\n",
              " \twith 310345 stored elements in Compressed Sparse Row format>,\n",
              " <39284x17318 sparse matrix of type '<class 'numpy.float64'>'\n",
              " \twith 315857 stored elements in Compressed Sparse Row format>,\n",
              " <39284x17318 sparse matrix of type '<class 'numpy.float64'>'\n",
              " \twith 321360 stored elements in Compressed Sparse Row format>,\n",
              " <39284x17318 sparse matrix of type '<class 'numpy.float64'>'\n",
              " \twith 326607 stored elements in Compressed Sparse Row format>]"
            ]
          },
          "metadata": {
            "tags": []
          },
          "execution_count": 154
        }
      ]
    },
    {
      "cell_type": "code",
      "metadata": {
        "colab": {
          "base_uri": "https://localhost:8080/"
        },
        "id": "bZGtyUJPRCff",
        "outputId": "8e7cd4d6-1f3a-42b7-806e-6ebdb96bed2b"
      },
      "source": [
        "print(AllDF_list[-1]['userId'].nunique(),AllDF_list[-1]['productId'].nunique())\n",
        "print(AMZGames_DF['userId'].nunique(),AMZGames_DF['productId'].nunique())"
      ],
      "execution_count": null,
      "outputs": [
        {
          "output_type": "stream",
          "text": [
            "39284 17320\n",
            "39284 17320\n"
          ],
          "name": "stdout"
        }
      ]
    },
    {
      "cell_type": "code",
      "metadata": {
        "colab": {
          "base_uri": "https://localhost:8080/"
        },
        "id": "erGth4eKRRMJ",
        "outputId": "55daf721-ccc9-438f-a637-b77da7712052"
      },
      "source": [
        "Vpsi_listReg =  integratorOnMat(A0_Rating_matrix,PSI_train_matrix,PSI_test_matrix,k=150)  ####PSI\n",
        "print(len(Vpsi_listReg))  "
      ],
      "execution_count": null,
      "outputs": [
        {
          "output_type": "stream",
          "text": [
            "15\n"
          ],
          "name": "stdout"
        }
      ]
    },
    {
      "cell_type": "code",
      "metadata": {
        "id": "-ALFq_slAffr",
        "outputId": "5cadecee-e9f6-4724-e87c-96450712ec12"
      },
      "source": [
        "Vpsi_listReg[0].shape"
      ],
      "execution_count": null,
      "outputs": [
        {
          "output_type": "execute_result",
          "data": {
            "text/plain": [
              "(17318, 150)"
            ]
          },
          "metadata": {
            "tags": []
          },
          "execution_count": 157
        }
      ]
    },
    {
      "cell_type": "code",
      "metadata": {
        "id": "fXEZn_cpNbg6"
      },
      "source": [
        ""
      ],
      "execution_count": null,
      "outputs": []
    },
    {
      "cell_type": "markdown",
      "metadata": {
        "id": "PkouMhzgmD-N"
      },
      "source": [
        "# Pure SVD"
      ]
    },
    {
      "cell_type": "markdown",
      "metadata": {
        "id": "IplkHKXjmEAU"
      },
      "source": [
        "**Get Rating Matrices**"
      ]
    },
    {
      "cell_type": "code",
      "metadata": {
        "id": "CqfE0PNF8NG1",
        "outputId": "e3b1b61c-4d5b-4913-9d5a-1a9528958c35"
      },
      "source": [
        "rows_i = newAMZGames_DF['Updated_UserID'].nunique()\n",
        "cols_i = newAMZGames_DF['Updated_ItemID'].nunique()\n",
        "SVD_UserItemMAT = AllRatingMatrices(newUserItem_list,'Updated_UserID','Updated_ItemID',rows_i ,cols_i)\n",
        "SVD_UserItemMAT"
      ],
      "execution_count": null,
      "outputs": [
        {
          "output_type": "execute_result",
          "data": {
            "text/plain": [
              "[<39284x17318 sparse matrix of type '<class 'numpy.float64'>'\n",
              " \twith 250384 stored elements in Compressed Sparse Row format>,\n",
              " <39284x17318 sparse matrix of type '<class 'numpy.float64'>'\n",
              " \twith 255520 stored elements in Compressed Sparse Row format>,\n",
              " <39284x17318 sparse matrix of type '<class 'numpy.float64'>'\n",
              " \twith 261105 stored elements in Compressed Sparse Row format>,\n",
              " <39284x17318 sparse matrix of type '<class 'numpy.float64'>'\n",
              " \twith 266597 stored elements in Compressed Sparse Row format>,\n",
              " <39284x17318 sparse matrix of type '<class 'numpy.float64'>'\n",
              " \twith 272102 stored elements in Compressed Sparse Row format>,\n",
              " <39284x17318 sparse matrix of type '<class 'numpy.float64'>'\n",
              " \twith 277572 stored elements in Compressed Sparse Row format>,\n",
              " <39284x17318 sparse matrix of type '<class 'numpy.float64'>'\n",
              " \twith 282899 stored elements in Compressed Sparse Row format>,\n",
              " <39284x17318 sparse matrix of type '<class 'numpy.float64'>'\n",
              " \twith 288493 stored elements in Compressed Sparse Row format>,\n",
              " <39284x17318 sparse matrix of type '<class 'numpy.float64'>'\n",
              " \twith 294033 stored elements in Compressed Sparse Row format>,\n",
              " <39284x17318 sparse matrix of type '<class 'numpy.float64'>'\n",
              " \twith 299422 stored elements in Compressed Sparse Row format>,\n",
              " <39284x17318 sparse matrix of type '<class 'numpy.float64'>'\n",
              " \twith 304874 stored elements in Compressed Sparse Row format>,\n",
              " <39284x17318 sparse matrix of type '<class 'numpy.float64'>'\n",
              " \twith 310345 stored elements in Compressed Sparse Row format>,\n",
              " <39284x17318 sparse matrix of type '<class 'numpy.float64'>'\n",
              " \twith 315857 stored elements in Compressed Sparse Row format>,\n",
              " <39284x17318 sparse matrix of type '<class 'numpy.float64'>'\n",
              " \twith 321360 stored elements in Compressed Sparse Row format>,\n",
              " <39284x17318 sparse matrix of type '<class 'numpy.float64'>'\n",
              " \twith 326607 stored elements in Compressed Sparse Row format>]"
            ]
          },
          "metadata": {
            "tags": []
          },
          "execution_count": 161
        }
      ]
    },
    {
      "cell_type": "code",
      "metadata": {
        "colab": {
          "base_uri": "https://localhost:8080/"
        },
        "id": "qJSJnDKTdogh",
        "outputId": "fe099c50-df55-458f-e6c5-5e4d308d0155"
      },
      "source": [
        "Vsvd_list = pureSVD(SVD_UserItemMAT,k=150)\n",
        "print(len(Vsvd_list))"
      ],
      "execution_count": null,
      "outputs": [
        {
          "output_type": "stream",
          "text": [
            "15\n"
          ],
          "name": "stdout"
        }
      ]
    },
    {
      "cell_type": "code",
      "metadata": {
        "colab": {
          "base_uri": "https://localhost:8080/"
        },
        "id": "DT9ATyeIdogj",
        "outputId": "9e3ba5db-7a86-4af1-fad5-cf98485e992d"
      },
      "source": [
        "Vsvd_last = Vsvd_list[-1]\n",
        "print(Vsvd_last.shape)\n",
        "Vsvd_last"
      ],
      "execution_count": null,
      "outputs": [
        {
          "output_type": "stream",
          "text": [
            "(17318, 150)\n"
          ],
          "name": "stdout"
        },
        {
          "output_type": "execute_result",
          "data": {
            "text/plain": [
              "array([[-3.19316363e-02,  6.59725294e-03, -1.42916716e-02, ...,\n",
              "         1.47644577e-02,  5.61380976e-02,  4.73890482e-02],\n",
              "       [-1.43793909e-02, -5.92821208e-05, -8.50265009e-03, ...,\n",
              "         5.26775721e-03,  1.38938156e-02,  9.21305662e-03],\n",
              "       [-1.73799925e-04, -1.10414196e-03, -5.64529305e-04, ...,\n",
              "         6.60214572e-05,  1.26832187e-04,  3.79104279e-04],\n",
              "       ...,\n",
              "       [ 3.58711567e-05, -3.66066619e-05,  8.38066035e-06, ...,\n",
              "        -2.86918310e-06, -5.05549817e-06,  3.72356154e-06],\n",
              "       [ 3.49302938e-07,  2.21119126e-05, -3.45991126e-05, ...,\n",
              "         4.57356329e-06,  1.80967438e-05,  1.75187204e-05],\n",
              "       [-1.66260647e-04,  1.14330535e-04, -2.86762446e-04, ...,\n",
              "        -9.56328354e-06, -1.95749109e-05,  1.71249430e-05]])"
            ]
          },
          "metadata": {
            "tags": []
          },
          "execution_count": 163
        }
      ]
    },
    {
      "cell_type": "code",
      "metadata": {
        "id": "3RwA_O_gq7J_"
      },
      "source": [
        ""
      ],
      "execution_count": null,
      "outputs": []
    },
    {
      "cell_type": "markdown",
      "metadata": {
        "id": "XTkVUSBi4sgE"
      },
      "source": [
        "# AllUsers Predictions"
      ]
    },
    {
      "cell_type": "code",
      "metadata": {
        "id": "ATh9mrYxOEcv"
      },
      "source": [
        ""
      ],
      "execution_count": null,
      "outputs": []
    },
    {
      "cell_type": "markdown",
      "metadata": {
        "id": "M1ro3DThmGq2"
      },
      "source": [
        "## UpdtPSI AllPred"
      ]
    },
    {
      "cell_type": "code",
      "metadata": {
        "id": "Mylf5NR98NGR",
        "outputId": "b0e7a61d-3c24-48e5-f59a-3db3bebc0940"
      },
      "source": [
        "print(UserItem_Matupdt[0].shape)\n",
        "UserItem_Matupdt[0]"
      ],
      "execution_count": null,
      "outputs": [
        {
          "output_type": "stream",
          "text": [
            "(34576, 16139)\n"
          ],
          "name": "stdout"
        },
        {
          "output_type": "execute_result",
          "data": {
            "text/plain": [
              "<34576x16139 sparse matrix of type '<class 'numpy.float64'>'\n",
              "\twith 250384 stored elements in Compressed Sparse Row format>"
            ]
          },
          "metadata": {
            "tags": []
          },
          "execution_count": 135
        }
      ]
    },
    {
      "cell_type": "code",
      "metadata": {
        "id": "H3qyz8eO8NGS",
        "outputId": "2cb6f173-b4e9-4d94-e313-a3dd3a437044"
      },
      "source": [
        "AllUsers_updtPRED =  TQDMgetALLTopNPred_ALLUSERS(UserItem_Matupdt,Vpsi_listUpdt, N=10) \n",
        "print(len(AllUsers_updtPRED))\n",
        "AllUsers_updtPRED[:2]"
      ],
      "execution_count": null,
      "outputs": [
        {
          "output_type": "stream",
          "text": [
            "15it [02:11,  8.77s/it]15\n",
            "\n"
          ],
          "name": "stderr"
        },
        {
          "output_type": "execute_result",
          "data": {
            "text/plain": [
              "[array([[  385,   145,  2543, ...,  1626,   202,   916],\n",
              "        [13773, 14256, 13834, ..., 14760, 13713, 13576],\n",
              "        [  385,   168,   754, ...,  6074,  4113,   687],\n",
              "        ...,\n",
              "        [ 4110,  5862,  4735, ...,  8892,  5445,  8103],\n",
              "        [ 6103,  9254,  8220, ...,  6438, 12513, 10362],\n",
              "        [13384,  4110, 10377, ...,  3442,  8019,  5462]]),\n",
              " array([[  385,   145,  2543, ...,  1626,   202,   916],\n",
              "        [13773, 14256, 13834, ..., 14760, 13713, 13576],\n",
              "        [  385,   168,   754, ...,  6074,  4113,   687],\n",
              "        ...,\n",
              "        [12060, 12073, 10498, ..., 12595, 13510, 13703],\n",
              "        [13825, 14555, 11901, ..., 13171, 14256, 13576],\n",
              "        [11114,  9344,  3442, ..., 13510,  5402,  9592]])]"
            ]
          },
          "metadata": {
            "tags": []
          },
          "execution_count": 136
        }
      ]
    },
    {
      "cell_type": "code",
      "metadata": {
        "id": "3GtRYa2z8NGT",
        "outputId": "644b11fe-8b52-4f43-be68-645e8bc482e3"
      },
      "source": [
        "AllUsers_updtPRED[4].shape"
      ],
      "execution_count": null,
      "outputs": [
        {
          "output_type": "execute_result",
          "data": {
            "text/plain": [
              "(36209, 10)"
            ]
          },
          "metadata": {
            "tags": []
          },
          "execution_count": 137
        }
      ]
    },
    {
      "cell_type": "code",
      "metadata": {
        "id": "ayCKyzF98NGT"
      },
      "source": [
        "          #/mnt/bulky/oolaleke/TDM_Dataset/AMZ_GamesFiles/AMZG_UpdtPSI_allPRED.pkl\n",
        "with open('/mnt/bulky/oolaleke/TDM_Dataset/AMZ_GamesFiles/AMZG_UpdtPSI_allPRED.pkl', 'wb') as f:    \n",
        "     pickle.dump(AllUsers_updtPRED, f)\n"
      ],
      "execution_count": null,
      "outputs": []
    },
    {
      "cell_type": "code",
      "metadata": {
        "id": "tlrqpd4HI7cC"
      },
      "source": [
        ""
      ],
      "execution_count": null,
      "outputs": []
    },
    {
      "cell_type": "markdown",
      "metadata": {
        "id": "iPIvCmfbnLsl"
      },
      "source": [
        "## RegPSI AllPred "
      ]
    },
    {
      "cell_type": "code",
      "metadata": {
        "id": "ODBMy0uE8NGv",
        "outputId": "e252c358-d034-4443-f224-92a89b457e56"
      },
      "source": [
        "AllUsersRegPIS_PRED =  TQDMgetALLTopNPred_ALLUSERS(UserItemMAT_regPSI,Vpsi_listReg, N=10) \n",
        "print(len(AllUsersRegPIS_PRED))\n",
        "AllUsersRegPIS_PRED[:2]"
      ],
      "execution_count": null,
      "outputs": [
        {
          "output_type": "stream",
          "text": [
            "15it [02:29,  9.97s/it]15\n",
            "\n"
          ],
          "name": "stderr"
        },
        {
          "output_type": "execute_result",
          "data": {
            "text/plain": [
              "[array([[  385,   145,  2543, ...,  1626,   202,   916],\n",
              "        [13773, 14256, 13834, ..., 14760, 13713, 14369],\n",
              "        [  385,   168,   754, ...,  6074,  4113,   687],\n",
              "        ...,\n",
              "        [ 5775,  5777,  5782, ...,  5771,  5770, 17317],\n",
              "        [ 5775,  5777,  5782, ...,  5771,  5770, 17317],\n",
              "        [ 5775,  5777,  5782, ...,  5771,  5770, 17317]]),\n",
              " array([[  385,   145,  2543, ...,  1626,   202,   916],\n",
              "        [13773, 14256, 13834, ..., 13713, 14369, 14760],\n",
              "        [  385,   168,   754, ...,  6074,   687,   151],\n",
              "        ...,\n",
              "        [ 5775,  5777,  5782, ...,  5771,  5770, 17317],\n",
              "        [ 5775,  5777,  5782, ...,  5771,  5770, 17317],\n",
              "        [ 5775,  5777,  5782, ...,  5771,  5770, 17317]])]"
            ]
          },
          "metadata": {
            "tags": []
          },
          "execution_count": 158
        }
      ]
    },
    {
      "cell_type": "code",
      "metadata": {
        "id": "73btpxdn8NGv"
      },
      "source": [
        "with open('/mnt/bulky/oolaleke/TDM_Dataset/AMZ_GamesFiles/AMZG_PSI_allPRED.pkl', 'wb') as f:  \n",
        "     pickle.dump(AllUsersRegPIS_PRED, f)  \n"
      ],
      "execution_count": null,
      "outputs": []
    },
    {
      "cell_type": "code",
      "metadata": {
        "id": "rq50242q8NGw",
        "outputId": "708ff346-61f0-45eb-fe4b-54c2e88875d2"
      },
      "source": [
        "AllUsersRegPIS_PRED[2].shape"
      ],
      "execution_count": null,
      "outputs": [
        {
          "output_type": "execute_result",
          "data": {
            "text/plain": [
              "(39284, 10)"
            ]
          },
          "metadata": {
            "tags": []
          },
          "execution_count": 159
        }
      ]
    },
    {
      "cell_type": "code",
      "metadata": {
        "id": "2USarS-qnYeZ"
      },
      "source": [
        ""
      ],
      "execution_count": null,
      "outputs": []
    },
    {
      "cell_type": "markdown",
      "metadata": {
        "id": "MOwfp31xq_M8"
      },
      "source": [
        "## SVD AllPred"
      ]
    },
    {
      "cell_type": "code",
      "metadata": {
        "id": "lZJ2v4048NHA",
        "outputId": "2099c143-4973-4b04-9ae2-d5a7a2f7a672"
      },
      "source": [
        "AllUsersSVD_PRED =  TQDMgetALLTopNPred_ALLUSERS(SVD_UserItemMAT,Vsvd_list, N=10) \n",
        "print(len(AllUsersSVD_PRED))\n",
        "AllUsersSVD_PRED[:2]"
      ],
      "execution_count": null,
      "outputs": [
        {
          "output_type": "stream",
          "text": [
            "15it [02:35, 10.34s/it]15\n",
            "\n"
          ],
          "name": "stderr"
        },
        {
          "output_type": "execute_result",
          "data": {
            "text/plain": [
              "[array([[  385,   145,   825, ...,   284,   703,   916],\n",
              "        [11924, 13834, 14256, ..., 12562, 13908,   864],\n",
              "        [  385,     0,   754, ...,  8892,  7656,   346],\n",
              "        ...,\n",
              "        [ 5775,  5777,  5782, ...,  5771,  5770, 17317],\n",
              "        [ 5775,  5777,  5782, ...,  5771,  5770, 17317],\n",
              "        [ 5775,  5777,  5782, ...,  5771,  5770, 17317]]),\n",
              " array([[  385,   145,   825, ...,   202,   916,   703],\n",
              "        [11924, 13834, 14256, ..., 13832, 12562, 15359],\n",
              "        [  385,   754,     0, ...,   346,  1920,   168],\n",
              "        ...,\n",
              "        [ 5775,  5777,  5782, ...,  5771,  5770, 17317],\n",
              "        [ 5775,  5777,  5782, ...,  5771,  5770, 17317],\n",
              "        [ 5775,  5777,  5782, ...,  5771,  5770, 17317]])]"
            ]
          },
          "metadata": {
            "tags": []
          },
          "execution_count": 164
        }
      ]
    },
    {
      "cell_type": "code",
      "metadata": {
        "id": "mAycsmW78NHB"
      },
      "source": [
        "with open('/mnt/bulky/oolaleke/TDM_Dataset/AMZ_GamesFiles/AMZG_SVD_allPRED.pkl', 'wb') as f:\n",
        "     pickle.dump(AllUsersSVD_PRED, f)\n"
      ],
      "execution_count": null,
      "outputs": []
    },
    {
      "cell_type": "code",
      "metadata": {
        "id": "-AQfKIXEtTlC"
      },
      "source": [
        ""
      ],
      "execution_count": null,
      "outputs": []
    },
    {
      "cell_type": "markdown",
      "metadata": {
        "id": "tp_LhvKAM5ys"
      },
      "source": [
        "## RandRec AllPred"
      ]
    },
    {
      "cell_type": "code",
      "metadata": {
        "colab": {
          "base_uri": "https://localhost:8080/"
        },
        "id": "42RCvm1dlZNu",
        "outputId": "485957b6-7ebc-4c72-baac-94e7c3c51671"
      },
      "source": [
        "print(len(SVD_UserItemMAT),len(newHOLDOUT_LIST))"
      ],
      "execution_count": null,
      "outputs": [
        {
          "output_type": "stream",
          "text": [
            "15 15\n"
          ],
          "name": "stdout"
        }
      ]
    },
    {
      "cell_type": "code",
      "metadata": {
        "id": "eMuYANAS8NHY",
        "outputId": "23484f2c-75c8-4649-97c7-6b930e2a39a9"
      },
      "source": [
        "All_UsersRRecPred = get_ALLRandPred(SVD_UserItemMAT,'Updated_UserID',N=10)\n",
        "All_UsersRRecPred[:2]  "
      ],
      "execution_count": null,
      "outputs": [
        {
          "output_type": "stream",
          "text": [
            "100%|██████████| 15/15 [03:41<00:00, 14.77s/it]\n"
          ],
          "name": "stderr"
        },
        {
          "output_type": "execute_result",
          "data": {
            "text/plain": [
              "[array([[16141,  4418,  7208, ...,  7295,  5403,   160],\n",
              "        [ 5495,  3308,  4251, ..., 14622,   255, 15757],\n",
              "        [ 3467, 14436,  5882, ...,  4604, 11955,  4483],\n",
              "        ...,\n",
              "        [ 7599, 13798,  3161, ...,  6286,  7202,  4206],\n",
              "        [14390, 10356,  9705, ...,  7564,  6148,  3613],\n",
              "        [  800,  9473,  7287, ...,   676, 13600,  2410]]),\n",
              " array([[ 5494, 13631, 12490, ...,  1547,  5407,  9779],\n",
              "        [ 6168,  3332,  6253, ...,  8446,  6486,  4044],\n",
              "        [ 9052,  8182,  3624, ...,  6911,   230,  9858],\n",
              "        ...,\n",
              "        [10197,  4567, 10721, ...,  1221,  2147, 14997],\n",
              "        [14447, 15975, 11750, ...,  9706,  5145, 14521],\n",
              "        [12127,  1923,  7812, ..., 13509, 13081, 15564]])]"
            ]
          },
          "metadata": {
            "tags": []
          },
          "execution_count": 109
        }
      ]
    },
    {
      "cell_type": "code",
      "metadata": {
        "colab": {
          "base_uri": "https://localhost:8080/"
        },
        "id": "TBkzzmmFlZNz",
        "outputId": "f066dac9-b2a2-4c9a-d9b8-eba929a11b75"
      },
      "source": [
        "All_UsersRRecPred[2].shape"
      ],
      "execution_count": null,
      "outputs": [
        {
          "output_type": "execute_result",
          "data": {
            "text/plain": [
              "(39284, 10)"
            ]
          },
          "metadata": {
            "tags": []
          },
          "execution_count": 111
        }
      ]
    },
    {
      "cell_type": "code",
      "metadata": {
        "id": "80XlCcJS8NHZ"
      },
      "source": [
        "with open('AMZG_RRec_allPRED.pkl', 'wb') as f:\n",
        "     pickle.dump(All_UsersRRecPred, f)\n"
      ],
      "execution_count": null,
      "outputs": []
    },
    {
      "cell_type": "code",
      "metadata": {
        "id": "_YumCnLur0p_"
      },
      "source": [
        ""
      ],
      "execution_count": null,
      "outputs": []
    },
    {
      "cell_type": "markdown",
      "metadata": {
        "id": "DCw8gy2rM9Or"
      },
      "source": [
        "## MostPop AllPred"
      ]
    },
    {
      "cell_type": "code",
      "metadata": {
        "id": "A-V7Lj0H8NHl",
        "outputId": "973422c8-813d-4bf7-d007-9c95f3fb1cf1"
      },
      "source": [
        "                      #getAll_MOSTPOP_Pred(DF_list,user_column,item_colum,Nusers,N\n",
        "Nusers = newAMZGames_DF['Updated_UserID'].nunique()\n",
        "All_MostPOPRED_List =  getAll_MOSTPOP_Pred(newUserItem_list,'Updated_UserID','Updated_ItemID',Nusers,N=10)\n",
        "All_MostPOPRED_List[:2]"
      ],
      "execution_count": null,
      "outputs": [
        {
          "output_type": "execute_result",
          "data": {
            "text/plain": [
              "[array([[7666, 5452, 6771, ..., 3771, 5483, 4190],\n",
              "        [7666, 5452, 6771, ..., 3771, 5483, 4190],\n",
              "        [7666, 5452, 6771, ..., 3771, 5483, 4190],\n",
              "        ...,\n",
              "        [7666, 5452, 6771, ..., 3771, 5483, 4190],\n",
              "        [7666, 5452, 6771, ..., 3771, 5483, 4190],\n",
              "        [7666, 5452, 6771, ..., 3771, 5483, 4190]]),\n",
              " array([[7666, 5452, 6771, ..., 3771, 5483, 4190],\n",
              "        [7666, 5452, 6771, ..., 3771, 5483, 4190],\n",
              "        [7666, 5452, 6771, ..., 3771, 5483, 4190],\n",
              "        ...,\n",
              "        [7666, 5452, 6771, ..., 3771, 5483, 4190],\n",
              "        [7666, 5452, 6771, ..., 3771, 5483, 4190],\n",
              "        [7666, 5452, 6771, ..., 3771, 5483, 4190]])]"
            ]
          },
          "metadata": {
            "tags": []
          },
          "execution_count": 166
        }
      ]
    },
    {
      "cell_type": "code",
      "metadata": {
        "colab": {
          "base_uri": "https://localhost:8080/"
        },
        "id": "dwtyYptbxT1n",
        "outputId": "79b08aa3-3f9e-40e7-a037-7bbec7b343a1"
      },
      "source": [
        "All_MostPOPRED_List[2].shape"
      ],
      "execution_count": null,
      "outputs": [
        {
          "output_type": "execute_result",
          "data": {
            "text/plain": [
              "(39284, 10)"
            ]
          },
          "metadata": {
            "tags": []
          },
          "execution_count": 167
        }
      ]
    },
    {
      "cell_type": "code",
      "metadata": {
        "id": "AoBZNlPu8NHr"
      },
      "source": [
        "with open('/mnt/bulky/oolaleke/TDM_Dataset/AMZ_GamesFiles/AMZG_MPOP_AllPRED.pkl', 'wb') as f:\n",
        "     pickle.dump(All_MostPOPRED_List, f)\n"
      ],
      "execution_count": null,
      "outputs": []
    },
    {
      "cell_type": "code",
      "metadata": {
        "id": "WAojPGrKNde6"
      },
      "source": [
        ""
      ],
      "execution_count": null,
      "outputs": []
    },
    {
      "cell_type": "markdown",
      "metadata": {
        "id": "krCIIB8flw0U"
      },
      "source": [
        "# HitRate Scores"
      ]
    },
    {
      "cell_type": "markdown",
      "metadata": {
        "id": "FZd_vVsPpIqV"
      },
      "source": [
        "## UpdtPSI HitR_"
      ]
    },
    {
      "cell_type": "code",
      "metadata": {
        "id": "7Est1Y6pI7cn",
        "outputId": "9d3a6c85-e54f-41ed-be66-6ec5f286b068"
      },
      "source": [
        "V_1 = Vpsi_listUpdt[0]\n",
        "V_1.shape"
      ],
      "execution_count": null,
      "outputs": [
        {
          "output_type": "execute_result",
          "data": {
            "text/plain": [
              "(16139, 150)"
            ]
          },
          "metadata": {
            "tags": []
          },
          "execution_count": 169
        }
      ]
    },
    {
      "cell_type": "code",
      "metadata": {
        "colab": {
          "base_uri": "https://localhost:8080/"
        },
        "id": "LtlchmQtHN5c",
        "outputId": "5774d60b-ae54-4fad-f2ae-9cfe8fbbefd5"
      },
      "source": [
        "Top_NupdtPred = TopNPred(UserItem_Matupdt[0],newHOLDOUT_LIST[0],V_1,'Updated_UserID',10)\n",
        "Top_NupdtPred"
      ],
      "execution_count": null,
      "outputs": [
        {
          "output_type": "execute_result",
          "data": {
            "text/plain": [
              "array([[  864,  1862,  2176, ...,  2061,    29,  2448],\n",
              "       [ 3816,  3753,  2982, ...,   138,  4029, 13773],\n",
              "       [12021, 10876,  9913, ...,  4548,  1862,   802],\n",
              "       ...,\n",
              "       [ 4110,  5862,  4735, ...,  8892,  5445,  8103],\n",
              "       [ 6103,  9254,  8220, ...,  6438, 12513, 10362],\n",
              "       [13384,  4110, 10377, ...,  3442,  8019,  5462]])"
            ]
          },
          "metadata": {
            "tags": []
          },
          "execution_count": 170
        }
      ]
    },
    {
      "cell_type": "code",
      "metadata": {
        "id": "_vxAMjowI7cp",
        "outputId": "7b2d803d-55f9-46e4-fdc9-13db590bcfef"
      },
      "source": [
        "Hitrate_Eval(newHOLDOUT_LIST[0],Top_NupdtPred,'Updated_UserID','Updated_ItemID')"
      ],
      "execution_count": null,
      "outputs": [
        {
          "output_type": "stream",
          "text": [
            "Number of hits:  67\n",
            "Total Num of users:  2018\n",
            "Recommendation HitRate:  0.033201189296333006\n"
          ],
          "name": "stdout"
        },
        {
          "output_type": "execute_result",
          "data": {
            "text/plain": [
              "0.033201189296333006"
            ]
          },
          "metadata": {
            "tags": []
          },
          "execution_count": 171
        }
      ]
    },
    {
      "cell_type": "code",
      "metadata": {
        "colab": {
          "base_uri": "https://localhost:8080/"
        },
        "id": "8J8LC6tDAiir",
        "outputId": "38d39465-88e3-44fc-cd8e-1930185d0047"
      },
      "source": [
        "AllUpdt_pred =  TQDMgetALLTopNPred(UserItem_Matupdt,newHOLDOUT_LIST,Vpsi_listUpdt,'Updated_UserID',N = 10)\n",
        "print(len(AllUpdt_pred))\n",
        "AllUpdt_pred[:2]"
      ],
      "execution_count": null,
      "outputs": [
        {
          "output_type": "stream",
          "text": [
            "15it [00:09,  1.63it/s]15\n",
            "\n"
          ],
          "name": "stderr"
        },
        {
          "output_type": "execute_result",
          "data": {
            "text/plain": [
              "[array([[  864,  1862,  2176, ...,  2061,    29,  2448],\n",
              "        [ 3816,  3753,  2982, ...,   138,  4029, 13773],\n",
              "        [12021, 10876,  9913, ...,  4548,  1862,   802],\n",
              "        ...,\n",
              "        [ 4110,  5862,  4735, ...,  8892,  5445,  8103],\n",
              "        [ 6103,  9254,  8220, ...,  6438, 12513, 10362],\n",
              "        [13384,  4110, 10377, ...,  3442,  8019,  5462]]),\n",
              " array([[  346,   687,  4919, ...,  8733,  2532,   385],\n",
              "        [ 5054,  1805,  6024, ...,  2864,  5532, 11962],\n",
              "        [  201,   289, 13778, ...,  1460, 13825,   644],\n",
              "        ...,\n",
              "        [11821,  9695,  3378, ...,  9566,  8086, 11792],\n",
              "        [10377, 11419, 10236, ...,  1805, 13478, 12024],\n",
              "        [13857, 10377, 10362, ..., 14325, 11961,  5305]])]"
            ]
          },
          "metadata": {
            "tags": []
          },
          "execution_count": 172
        }
      ]
    },
    {
      "cell_type": "code",
      "metadata": {
        "id": "eM4kqgMUI7cr",
        "outputId": "ff605d1d-d67c-4d1f-dd96-2321db5299c5"
      },
      "source": [
        "AllSteps_HitR_updt, LowerBand_updt, Avg_HitR_updt, UpperBand_updt   = getAll_HitRate(newHOLDOUT_LIST,AllUpdt_pred,'Updated_UserID','Updated_ItemID')"
      ],
      "execution_count": null,
      "outputs": [
        {
          "output_type": "stream",
          "text": [
            "Number of hits:  67\n",
            "Total Num of users:  2018\n",
            "Recommendation HitRate:  0.033201189296333006\n",
            "Number of hits:  66\n",
            "Total Num of users:  2200\n",
            "Recommendation HitRate:  0.03\n",
            "Number of hits:  69\n",
            "Total Num of users:  2172\n",
            "Recommendation HitRate:  0.031767955801104975\n",
            "Number of hits:  61\n",
            "Total Num of users:  2079\n",
            "Recommendation HitRate:  0.02934102934102934\n",
            "Number of hits:  65\n",
            "Total Num of users:  2089\n",
            "Recommendation HitRate:  0.031115366203925323\n",
            "Number of hits:  60\n",
            "Total Num of users:  2120\n",
            "Recommendation HitRate:  0.02830188679245283\n",
            "Number of hits:  49\n",
            "Total Num of users:  2217\n",
            "Recommendation HitRate:  0.02210193955796121\n",
            "Number of hits:  50\n",
            "Total Num of users:  2207\n",
            "Recommendation HitRate:  0.022655188038060717\n",
            "Number of hits:  54\n",
            "Total Num of users:  2133\n",
            "Recommendation HitRate:  0.02531645569620253\n",
            "Number of hits:  57\n",
            "Total Num of users:  2171\n",
            "Recommendation HitRate:  0.0262551819438047\n",
            "Number of hits:  55\n",
            "Total Num of users:  2261\n",
            "Recommendation HitRate:  0.024325519681556832\n",
            "Number of hits:  58\n",
            "Total Num of users:  2246\n",
            "Recommendation HitRate:  0.025823686553873553\n",
            "Number of hits:  67\n",
            "Total Num of users:  2196\n",
            "Recommendation HitRate:  0.03051001821493625\n",
            "Number of hits:  59\n",
            "Total Num of users:  2269\n",
            "Recommendation HitRate:  0.02600264433671221\n",
            "Number of hits:  33\n",
            "Total Num of users:  2222\n",
            "Recommendation HitRate:  0.01485148514851485\n",
            "Average HitRate for All Recommendations:  0.026771303107097896\n"
          ],
          "name": "stdout"
        }
      ]
    },
    {
      "cell_type": "code",
      "metadata": {
        "id": "LBap2gG9I7cs",
        "outputId": "444cfd77-1b7b-4e83-acf1-89ab4f39daa5"
      },
      "source": [
        "AllSteps_HitR_updt  #Rank ==150"
      ],
      "execution_count": null,
      "outputs": [
        {
          "output_type": "execute_result",
          "data": {
            "text/plain": [
              "[0.033201189296333006,\n",
              " 0.03,\n",
              " 0.031767955801104975,\n",
              " 0.02934102934102934,\n",
              " 0.031115366203925323,\n",
              " 0.02830188679245283,\n",
              " 0.02210193955796121,\n",
              " 0.022655188038060717,\n",
              " 0.02531645569620253,\n",
              " 0.0262551819438047,\n",
              " 0.024325519681556832,\n",
              " 0.025823686553873553,\n",
              " 0.03051001821493625,\n",
              " 0.02600264433671221,\n",
              " 0.01485148514851485]"
            ]
          },
          "metadata": {
            "tags": []
          },
          "execution_count": 174
        }
      ]
    },
    {
      "cell_type": "code",
      "metadata": {
        "id": "3-FkHqn-pB_G"
      },
      "source": [
        ""
      ],
      "execution_count": null,
      "outputs": []
    },
    {
      "cell_type": "code",
      "metadata": {
        "id": "wvVmP30opBuv"
      },
      "source": [
        ""
      ],
      "execution_count": null,
      "outputs": []
    },
    {
      "cell_type": "markdown",
      "metadata": {
        "id": "KcaJU4aApEpg"
      },
      "source": [
        "## RegPSI HitR_"
      ]
    },
    {
      "cell_type": "code",
      "metadata": {
        "id": "Det8aShvI7cv",
        "outputId": "166c97c9-85de-4477-aeed-0ffb8e0146a6"
      },
      "source": [
        "Vpsi_listReg[0].shape"
      ],
      "execution_count": null,
      "outputs": [
        {
          "output_type": "execute_result",
          "data": {
            "text/plain": [
              "(17318, 150)"
            ]
          },
          "metadata": {
            "tags": []
          },
          "execution_count": 175
        }
      ]
    },
    {
      "cell_type": "code",
      "metadata": {
        "colab": {
          "base_uri": "https://localhost:8080/"
        },
        "id": "c9jUgHkKAhbi",
        "outputId": "be5430ee-3931-400d-8944-8c8126127ea2"
      },
      "source": [
        "Top10Pred_psi = TopNPred(UserItemMAT_regPSI[0], newHOLDOUT_LIST[0],Vpsi_listReg[0],'Updated_UserID',N=10)\n",
        "print(Top10Pred_psi.shape)"
      ],
      "execution_count": null,
      "outputs": [
        {
          "output_type": "stream",
          "text": [
            "(2018, 10)\n"
          ],
          "name": "stdout"
        }
      ]
    },
    {
      "cell_type": "code",
      "metadata": {
        "colab": {
          "base_uri": "https://localhost:8080/"
        },
        "id": "u1sFaxNBAhc2",
        "outputId": "a221cdb8-2cb0-4ae9-b4b2-eace696881c5"
      },
      "source": [
        "Hitrate_Eval(newHOLDOUT_LIST[0],Top10Pred_psi,'Updated_UserID','Updated_ItemID')"
      ],
      "execution_count": null,
      "outputs": [
        {
          "output_type": "stream",
          "text": [
            "Number of hits:  68\n",
            "Total Num of users:  2018\n",
            "Recommendation HitRate:  0.03369672943508424\n"
          ],
          "name": "stdout"
        },
        {
          "output_type": "execute_result",
          "data": {
            "text/plain": [
              "0.03369672943508424"
            ]
          },
          "metadata": {
            "tags": []
          },
          "execution_count": 177
        }
      ]
    },
    {
      "cell_type": "code",
      "metadata": {
        "colab": {
          "base_uri": "https://localhost:8080/"
        },
        "id": "oUDxtIohbVj8",
        "outputId": "48677220-09c6-4c42-bb00-17236691f54f"
      },
      "source": [
        "All_regPSI_PRED =  TQDMgetALLTopNPred(UserItemMAT_regPSI,newHOLDOUT_LIST,Vpsi_listReg,'Updated_UserID',N = 10)\n",
        "print(len(All_regPSI_PRED))\n",
        "All_regPSI_PRED[:2]"
      ],
      "execution_count": null,
      "outputs": [
        {
          "output_type": "stream",
          "text": [
            "15it [00:09,  1.52it/s]15\n",
            "\n"
          ],
          "name": "stderr"
        },
        {
          "output_type": "execute_result",
          "data": {
            "text/plain": [
              "[array([[  864,  1862,  2176, ...,  2061,    29,  2448],\n",
              "        [ 3816,  3753,  2982, ...,   138, 13773,  4029],\n",
              "        [12021,  9913,   864, ...,  4548,  1862,   802],\n",
              "        ...,\n",
              "        [ 4110,  5862,  4735, ...,  8892,  5445,  8103],\n",
              "        [ 6103,  9254,  8220, ...,  6438, 12513,  7117],\n",
              "        [13384,  4110, 10377, ..., 10362, 11901,  5462]]),\n",
              " array([[  346,   687,  4919, ...,  8733,  2532,   385],\n",
              "        [ 5054,  1805,  6024, ...,  2864,  5532, 11962],\n",
              "        [  201,   289, 13778, ...,  1460, 13825,   644],\n",
              "        ...,\n",
              "        [11821,  9695,  3378, ...,  7765,  8086, 10331],\n",
              "        [10377,  8892, 11419, ..., 12066,  8766, 13478],\n",
              "        [13857, 10377, 10362, ..., 11419,  5305, 12024]])]"
            ]
          },
          "metadata": {
            "tags": []
          },
          "execution_count": 178
        }
      ]
    },
    {
      "cell_type": "code",
      "metadata": {
        "colab": {
          "base_uri": "https://localhost:8080/"
        },
        "id": "2ZnpolG9A7KZ",
        "outputId": "e843ebf9-2b5e-410b-84d5-21a21489fb4e"
      },
      "source": [
        "AllSteps_Hitrate_psi, LowerBand, Avg_HitRate, UpperBand   = getAll_HitRate(newHOLDOUT_LIST,All_regPSI_PRED,'Updated_UserID','Updated_ItemID')"
      ],
      "execution_count": null,
      "outputs": [
        {
          "output_type": "stream",
          "text": [
            "Number of hits:  68\n",
            "Total Num of users:  2018\n",
            "Recommendation HitRate:  0.03369672943508424\n",
            "Number of hits:  70\n",
            "Total Num of users:  2200\n",
            "Recommendation HitRate:  0.031818181818181815\n",
            "Number of hits:  69\n",
            "Total Num of users:  2172\n",
            "Recommendation HitRate:  0.031767955801104975\n",
            "Number of hits:  63\n",
            "Total Num of users:  2079\n",
            "Recommendation HitRate:  0.030303030303030304\n",
            "Number of hits:  74\n",
            "Total Num of users:  2089\n",
            "Recommendation HitRate:  0.03542364767831498\n",
            "Number of hits:  59\n",
            "Total Num of users:  2120\n",
            "Recommendation HitRate:  0.027830188679245284\n",
            "Number of hits:  61\n",
            "Total Num of users:  2217\n",
            "Recommendation HitRate:  0.02751465944970681\n",
            "Number of hits:  59\n",
            "Total Num of users:  2207\n",
            "Recommendation HitRate:  0.026733121884911646\n",
            "Number of hits:  66\n",
            "Total Num of users:  2133\n",
            "Recommendation HitRate:  0.030942334739803096\n",
            "Number of hits:  76\n",
            "Total Num of users:  2171\n",
            "Recommendation HitRate:  0.035006909258406264\n",
            "Number of hits:  76\n",
            "Total Num of users:  2261\n",
            "Recommendation HitRate:  0.03361344537815126\n",
            "Number of hits:  75\n",
            "Total Num of users:  2246\n",
            "Recommendation HitRate:  0.033392698130008905\n",
            "Number of hits:  80\n",
            "Total Num of users:  2196\n",
            "Recommendation HitRate:  0.03642987249544627\n",
            "Number of hits:  75\n",
            "Total Num of users:  2269\n",
            "Recommendation HitRate:  0.03305420890260027\n",
            "Number of hits:  42\n",
            "Total Num of users:  2222\n",
            "Recommendation HitRate:  0.018901890189018902\n",
            "Average HitRate for All Recommendations:  0.031095258276201\n"
          ],
          "name": "stdout"
        }
      ]
    },
    {
      "cell_type": "code",
      "metadata": {
        "id": "Ak2Iuz1mrPwE",
        "outputId": "b439f124-e132-4ae3-a1a8-3424194bd711"
      },
      "source": [
        "AllSteps_Hitrate_psi  ##Rank == 150"
      ],
      "execution_count": null,
      "outputs": [
        {
          "output_type": "execute_result",
          "data": {
            "text/plain": [
              "[0.03369672943508424,\n",
              " 0.031818181818181815,\n",
              " 0.031767955801104975,\n",
              " 0.030303030303030304,\n",
              " 0.03542364767831498,\n",
              " 0.027830188679245284,\n",
              " 0.02751465944970681,\n",
              " 0.026733121884911646,\n",
              " 0.030942334739803096,\n",
              " 0.035006909258406264,\n",
              " 0.03361344537815126,\n",
              " 0.033392698130008905,\n",
              " 0.03642987249544627,\n",
              " 0.03305420890260027,\n",
              " 0.018901890189018902]"
            ]
          },
          "metadata": {
            "tags": []
          },
          "execution_count": 181
        }
      ]
    },
    {
      "cell_type": "code",
      "metadata": {
        "id": "gVZVq9gZI7c1"
      },
      "source": [
        ""
      ],
      "execution_count": null,
      "outputs": []
    },
    {
      "cell_type": "markdown",
      "metadata": {
        "id": "HQB5V56-rLfg"
      },
      "source": [
        "## SVD HItR_"
      ]
    },
    {
      "cell_type": "code",
      "metadata": {
        "id": "NTMt5CiAI7c2",
        "outputId": "fd6b75d3-e2ba-48aa-b648-c9995a884730"
      },
      "source": [
        "print(Vsvd_list[0].shape)"
      ],
      "execution_count": null,
      "outputs": [
        {
          "output_type": "stream",
          "text": [
            "(17318, 150)\n"
          ],
          "name": "stdout"
        }
      ]
    },
    {
      "cell_type": "code",
      "metadata": {
        "colab": {
          "base_uri": "https://localhost:8080/"
        },
        "id": "WnCO3ZL96e4I",
        "outputId": "364ac4f0-b337-49d1-b2ca-8c8eced89c9f"
      },
      "source": [
        "Top10Pred_SVD = TopNPred(SVD_UserItemMAT[0],newHOLDOUT_LIST[0],Vsvd_list[0],'Updated_UserID',N=10)\n",
        "print(Top10Pred_SVD.shape)\n",
        "Top10Pred_SVD"
      ],
      "execution_count": null,
      "outputs": [
        {
          "output_type": "stream",
          "text": [
            "(2018, 10)\n"
          ],
          "name": "stdout"
        },
        {
          "output_type": "execute_result",
          "data": {
            "text/plain": [
              "array([[ 1862,   864,  2176, ...,  9913,  2061,    28],\n",
              "       [ 9610,  3753,  3816, ...,  2720,  1694,  3488],\n",
              "       [ 4548, 13252, 10876, ...,  9610, 11980,  9565],\n",
              "       ...,\n",
              "       [ 4110, 12867,  4735, ...,  4919,  8892, 11918],\n",
              "       [11641, 12867,  7160, ..., 12513,  6438,  7315],\n",
              "       [13384, 14325, 12024, ...,  6074, 12595, 14638]])"
            ]
          },
          "metadata": {
            "tags": []
          },
          "execution_count": 183
        }
      ]
    },
    {
      "cell_type": "code",
      "metadata": {
        "colab": {
          "base_uri": "https://localhost:8080/"
        },
        "id": "_y8C9P5hr-sN",
        "outputId": "ff5b210c-636b-4d66-a012-67fdca10344b"
      },
      "source": [
        "Hitrate_Eval(newHOLDOUT_LIST[0],Top10Pred_SVD,'Updated_UserID','Updated_ItemID')"
      ],
      "execution_count": null,
      "outputs": [
        {
          "output_type": "stream",
          "text": [
            "Number of hits:  101\n",
            "Total Num of users:  2018\n",
            "Recommendation HitRate:  0.050049554013875126\n"
          ],
          "name": "stdout"
        },
        {
          "output_type": "execute_result",
          "data": {
            "text/plain": [
              "0.050049554013875126"
            ]
          },
          "metadata": {
            "tags": []
          },
          "execution_count": 184
        }
      ]
    },
    {
      "cell_type": "code",
      "metadata": {
        "colab": {
          "base_uri": "https://localhost:8080/"
        },
        "id": "nOTHviyK-jwT",
        "outputId": "eab74d67-67fd-4f08-dec6-61126557c065"
      },
      "source": [
        "AllSVD_topNPRED =  TQDMgetALLTopNPred(SVD_UserItemMAT,newHOLDOUT_LIST,Vsvd_list,'Updated_UserID',N = 10)\n",
        "print(len(AllSVD_topNPRED))\n",
        "AllSVD_topNPRED[:2]"
      ],
      "execution_count": null,
      "outputs": [
        {
          "output_type": "stream",
          "text": [
            "15it [00:10,  1.50it/s]15\n",
            "\n"
          ],
          "name": "stderr"
        },
        {
          "output_type": "execute_result",
          "data": {
            "text/plain": [
              "[array([[ 1862,   864,  2176, ...,  9913,  2061,    28],\n",
              "        [ 9610,  3753,  3816, ...,  2720,  1694,  3488],\n",
              "        [ 4548, 13252, 10876, ...,  9610, 11980,  9565],\n",
              "        ...,\n",
              "        [ 4110, 12867,  4735, ...,  4919,  8892, 11918],\n",
              "        [11641, 12867,  7160, ..., 12513,  6438,  7315],\n",
              "        [13384, 14325, 12024, ...,  6074, 12595, 14638]]),\n",
              " array([[  346,   687,  2232, ...,  4066,   682,  7808],\n",
              "        [ 5054,  4919,  3442, ...,  2976,  7315,  4895],\n",
              "        [13831, 13819, 13705, ...,   289, 13825,   201],\n",
              "        ...,\n",
              "        [ 6103,  5950,  7765, ..., 10331,  8086, 11821],\n",
              "        [13858, 15189, 14800, ...,  8892,  8766, 14801],\n",
              "        [14541, 14065, 14604, ..., 14310, 14801, 14142]])]"
            ]
          },
          "metadata": {
            "tags": []
          },
          "execution_count": 185
        }
      ]
    },
    {
      "cell_type": "code",
      "metadata": {
        "colab": {
          "base_uri": "https://localhost:8080/"
        },
        "id": "d7xlsk71shw9",
        "outputId": "7e4b2f47-441d-4732-d206-e8a1f3f0cfd3"
      },
      "source": [
        "AllSteps_Hitrate_svd, LowerBand, Avg_HitRate, UpperBand   = getAll_HitRate(newHOLDOUT_LIST,AllSVD_topNPRED,'Updated_UserID','Updated_ItemID')"
      ],
      "execution_count": null,
      "outputs": [
        {
          "output_type": "stream",
          "text": [
            "Number of hits:  101\n",
            "Total Num of users:  2018\n",
            "Recommendation HitRate:  0.050049554013875126\n",
            "Number of hits:  98\n",
            "Total Num of users:  2200\n",
            "Recommendation HitRate:  0.04454545454545455\n",
            "Number of hits:  101\n",
            "Total Num of users:  2172\n",
            "Recommendation HitRate:  0.046500920810313075\n",
            "Number of hits:  124\n",
            "Total Num of users:  2079\n",
            "Recommendation HitRate:  0.059644059644059645\n",
            "Number of hits:  113\n",
            "Total Num of users:  2089\n",
            "Recommendation HitRate:  0.05409286740067018\n",
            "Number of hits:  103\n",
            "Total Num of users:  2120\n",
            "Recommendation HitRate:  0.04858490566037736\n",
            "Number of hits:  94\n",
            "Total Num of users:  2217\n",
            "Recommendation HitRate:  0.042399639152007215\n",
            "Number of hits:  74\n",
            "Total Num of users:  2207\n",
            "Recommendation HitRate:  0.03352967829632986\n",
            "Number of hits:  98\n",
            "Total Num of users:  2133\n",
            "Recommendation HitRate:  0.04594467885607126\n",
            "Number of hits:  106\n",
            "Total Num of users:  2171\n",
            "Recommendation HitRate:  0.048825426070935055\n",
            "Number of hits:  91\n",
            "Total Num of users:  2261\n",
            "Recommendation HitRate:  0.04024767801857585\n",
            "Number of hits:  128\n",
            "Total Num of users:  2246\n",
            "Recommendation HitRate:  0.05699020480854853\n",
            "Number of hits:  111\n",
            "Total Num of users:  2196\n",
            "Recommendation HitRate:  0.050546448087431695\n",
            "Number of hits:  125\n",
            "Total Num of users:  2269\n",
            "Recommendation HitRate:  0.05509034817100044\n",
            "Number of hits:  71\n",
            "Total Num of users:  2222\n",
            "Recommendation HitRate:  0.03195319531953195\n",
            "Average HitRate for All Recommendations:  0.047263003923678784\n"
          ],
          "name": "stdout"
        }
      ]
    },
    {
      "cell_type": "code",
      "metadata": {
        "colab": {
          "base_uri": "https://localhost:8080/"
        },
        "id": "x_L3w8iDPcDV",
        "outputId": "363b53f7-434d-49d0-ea7e-008773d42541"
      },
      "source": [
        "AllSteps_Hitrate_svd   #Rank ==150"
      ],
      "execution_count": null,
      "outputs": [
        {
          "output_type": "execute_result",
          "data": {
            "text/plain": [
              "[0.050049554013875126,\n",
              " 0.04454545454545455,\n",
              " 0.046500920810313075,\n",
              " 0.059644059644059645,\n",
              " 0.05409286740067018,\n",
              " 0.04858490566037736,\n",
              " 0.042399639152007215,\n",
              " 0.03352967829632986,\n",
              " 0.04594467885607126,\n",
              " 0.048825426070935055,\n",
              " 0.04024767801857585,\n",
              " 0.05699020480854853,\n",
              " 0.050546448087431695,\n",
              " 0.05509034817100044,\n",
              " 0.03195319531953195]"
            ]
          },
          "metadata": {
            "tags": []
          },
          "execution_count": 188
        }
      ]
    },
    {
      "cell_type": "code",
      "metadata": {
        "id": "j4jRW4qNPJ90"
      },
      "source": [
        ""
      ],
      "execution_count": null,
      "outputs": []
    },
    {
      "cell_type": "markdown",
      "metadata": {
        "id": "2mG-deAzqE-C"
      },
      "source": [
        "## RRec HitR_"
      ]
    },
    {
      "cell_type": "code",
      "metadata": {
        "id": "6z2TMCnuqJ3n"
      },
      "source": [
        ""
      ],
      "execution_count": null,
      "outputs": []
    },
    {
      "cell_type": "code",
      "metadata": {
        "colab": {
          "base_uri": "https://localhost:8080/"
        },
        "id": "uMLoaZ6YlZN3",
        "outputId": "90ba4c62-a1f1-4242-f422-cd84cd1ab274"
      },
      "source": [
        "RRec_AllStepsHitR, RRec_LowBHR, RREC_AvgHitR, RRec_UppBHR = getAll_RandomHitRate(newHOLDOUT_LIST,All_UsersRRecPred,'Updated_UserID','Updated_ItemID')"
      ],
      "execution_count": null,
      "outputs": [
        {
          "output_type": "stream",
          "text": [
            "Number of hits:  2\n",
            "Total Num of users:  2018\n",
            "Recommendation HitRate:  0.0009910802775024777\n",
            "Number of hits:  3\n",
            "Total Num of users:  2200\n",
            "Recommendation HitRate:  0.0013636363636363637\n",
            "Number of hits:  1\n",
            "Total Num of users:  2172\n",
            "Recommendation HitRate:  0.00046040515653775324\n",
            "Number of hits:  2\n",
            "Total Num of users:  2079\n",
            "Recommendation HitRate:  0.000962000962000962\n",
            "Number of hits:  0\n",
            "Total Num of users:  2089\n",
            "Recommendation HitRate:  0.0\n",
            "Number of hits:  4\n",
            "Total Num of users:  2120\n",
            "Recommendation HitRate:  0.0018867924528301887\n",
            "Number of hits:  3\n",
            "Total Num of users:  2217\n",
            "Recommendation HitRate:  0.0013531799729364006\n",
            "Number of hits:  4\n",
            "Total Num of users:  2207\n",
            "Recommendation HitRate:  0.0018124150430448573\n",
            "Number of hits:  2\n",
            "Total Num of users:  2133\n",
            "Recommendation HitRate:  0.0009376465072667605\n",
            "Number of hits:  0\n",
            "Total Num of users:  2171\n",
            "Recommendation HitRate:  0.0\n",
            "Number of hits:  1\n",
            "Total Num of users:  2261\n",
            "Recommendation HitRate:  0.0004422821760283061\n",
            "Number of hits:  0\n",
            "Total Num of users:  2246\n",
            "Recommendation HitRate:  0.0\n",
            "Number of hits:  0\n",
            "Total Num of users:  2196\n",
            "Recommendation HitRate:  0.0\n",
            "Number of hits:  0\n",
            "Total Num of users:  2269\n",
            "Recommendation HitRate:  0.0\n",
            "Number of hits:  0\n",
            "Total Num of users:  2222\n",
            "Recommendation HitRate:  0.0\n",
            "Average HitRate for All Recommendations:  0.0006806292607856047\n"
          ],
          "name": "stdout"
        }
      ]
    },
    {
      "cell_type": "code",
      "metadata": {
        "id": "FVPb6680r81m"
      },
      "source": [
        ""
      ],
      "execution_count": null,
      "outputs": []
    },
    {
      "cell_type": "markdown",
      "metadata": {
        "id": "YZNhrtpwr_fM"
      },
      "source": [
        "## MPop HitR_"
      ]
    },
    {
      "cell_type": "code",
      "metadata": {
        "colab": {
          "base_uri": "https://localhost:8080/"
        },
        "id": "pzPaCjrsUvFa",
        "outputId": "b7ffccf3-91fc-459b-dd5e-4d8322459502"
      },
      "source": [
        "AllStepsHitr_Mpop, LowerBand, Avg_HitRate, UpperBand  = getAll_MostPOPHitRate(newHOLDOUT_LIST,All_MostPOPRED_List,'Updated_UserID','Updated_ItemID')"
      ],
      "execution_count": null,
      "outputs": [
        {
          "output_type": "stream",
          "text": [
            "Number of hits:  13\n",
            "Total Num of users:  2018\n",
            "Recommendation HitRate:  0.006442021803766105\n",
            "Number of hits:  14\n",
            "Total Num of users:  2200\n",
            "Recommendation HitRate:  0.006363636363636364\n",
            "Number of hits:  9\n",
            "Total Num of users:  2172\n",
            "Recommendation HitRate:  0.004143646408839779\n",
            "Number of hits:  8\n",
            "Total Num of users:  2079\n",
            "Recommendation HitRate:  0.003848003848003848\n",
            "Number of hits:  10\n",
            "Total Num of users:  2089\n",
            "Recommendation HitRate:  0.004786979415988511\n",
            "Number of hits:  5\n",
            "Total Num of users:  2120\n",
            "Recommendation HitRate:  0.0023584905660377358\n",
            "Number of hits:  17\n",
            "Total Num of users:  2217\n",
            "Recommendation HitRate:  0.007668019846639603\n",
            "Number of hits:  12\n",
            "Total Num of users:  2207\n",
            "Recommendation HitRate:  0.005437245129134572\n",
            "Number of hits:  12\n",
            "Total Num of users:  2133\n",
            "Recommendation HitRate:  0.005625879043600563\n",
            "Number of hits:  17\n",
            "Total Num of users:  2171\n",
            "Recommendation HitRate:  0.00783049286043298\n",
            "Number of hits:  18\n",
            "Total Num of users:  2261\n",
            "Recommendation HitRate:  0.00796107916850951\n",
            "Number of hits:  29\n",
            "Total Num of users:  2246\n",
            "Recommendation HitRate:  0.012911843276936777\n",
            "Number of hits:  22\n",
            "Total Num of users:  2196\n",
            "Recommendation HitRate:  0.010018214936247723\n",
            "Number of hits:  29\n",
            "Total Num of users:  2269\n",
            "Recommendation HitRate:  0.012780960775672102\n",
            "Number of hits:  14\n",
            "Total Num of users:  2222\n",
            "Recommendation HitRate:  0.0063006300630063005\n",
            "Average HitRate for All Recommendations:  0.006965142900430165\n"
          ],
          "name": "stdout"
        }
      ]
    },
    {
      "cell_type": "code",
      "metadata": {
        "id": "3LjOknDEI7dB",
        "outputId": "17454efb-7935-4179-c42c-4d76b4c1a17c"
      },
      "source": [
        "AllStepsHitr_Mpop"
      ],
      "execution_count": null,
      "outputs": [
        {
          "output_type": "execute_result",
          "data": {
            "text/plain": [
              "[0.006442021803766105,\n",
              " 0.006363636363636364,\n",
              " 0.004143646408839779,\n",
              " 0.003848003848003848,\n",
              " 0.004786979415988511,\n",
              " 0.0023584905660377358,\n",
              " 0.007668019846639603,\n",
              " 0.005437245129134572,\n",
              " 0.005625879043600563,\n",
              " 0.00783049286043298,\n",
              " 0.00796107916850951,\n",
              " 0.012911843276936777,\n",
              " 0.010018214936247723,\n",
              " 0.012780960775672102,\n",
              " 0.0063006300630063005]"
            ]
          },
          "metadata": {
            "tags": []
          },
          "execution_count": 190
        }
      ]
    },
    {
      "cell_type": "code",
      "metadata": {
        "id": "2lde2o6hI7dD"
      },
      "source": [
        ""
      ],
      "execution_count": null,
      "outputs": []
    },
    {
      "cell_type": "code",
      "metadata": {
        "id": "QJjx5nsiI7dE"
      },
      "source": [
        "########..iALS\n",
        "########             "
      ],
      "execution_count": null,
      "outputs": []
    },
    {
      "cell_type": "code",
      "metadata": {
        "id": "w64LQ9CKI7dF",
        "outputId": "152c3565-9ae3-4283-f3fd-ba5736162c07"
      },
      "source": [
        "Allals_topNPRED =  ials_getALLPredTQDM(UserItem_RatMAT,newHOLDOUT_LIST,Ulist_als,Vlist_als,'Updated_UserID',N = 10)\n",
        "print(len(Allals_topNPRED))\n",
        "print(Allals_topNPRED[0].shape)\n",
        "Allals_topNPRED[:2]"
      ],
      "execution_count": null,
      "outputs": [
        {
          "output_type": "stream",
          "text": [
            "15it [00:08,  1.79it/s]15\n",
            "(2018, 10)\n",
            "\n"
          ],
          "name": "stderr"
        },
        {
          "output_type": "execute_result",
          "data": {
            "text/plain": [
              "[array([[   29,    28,    23, ...,  8148,     1,   802],\n",
              "        [ 6413,  2061,  2645, ...,  4807,  2176,  2154],\n",
              "        [11641, 10874, 11877, ..., 11822, 11224, 11345],\n",
              "        ...,\n",
              "        [10355,  7194,  5862, ...,  5397,  6118,  9827],\n",
              "        [ 4919,  5397,  7963, ...,  8252, 12166,  9827],\n",
              "        [ 6118,  4110,  7812, ..., 10355,  8197,  5445]]),\n",
              " array([[  958,  1434,    29, ...,   874,  1050,   825],\n",
              "        [ 5483,  3771,  7613, ...,  7849,  7186,  6754],\n",
              "        [13171, 16336, 14555, ..., 13778, 13825, 12595],\n",
              "        ...,\n",
              "        [ 5397, 12867, 11921, ...,  4930, 11901, 11917],\n",
              "        [13858, 14541, 14362, ..., 13252, 14801, 14471],\n",
              "        [13857, 15189, 10362, ..., 14197, 12055, 14541]])]"
            ]
          },
          "metadata": {
            "tags": []
          },
          "execution_count": 44
        }
      ]
    },
    {
      "cell_type": "code",
      "metadata": {
        "id": "ozvwIJSPI7dG",
        "outputId": "d905b44d-a55d-4562-9cac-289f3017b25a"
      },
      "source": [
        "Hitrate_Eval(newHOLDOUT_LIST[0],Allals_topNPRED[0],'Updated_UserID','Updated_ItemID')"
      ],
      "execution_count": null,
      "outputs": [
        {
          "output_type": "stream",
          "text": [
            "Number of hits:  254\n",
            "Total Num of users:  2018\n",
            "Recommendation HitRate:  0.12586719524281467\n"
          ],
          "name": "stdout"
        },
        {
          "output_type": "execute_result",
          "data": {
            "text/plain": [
              "0.12586719524281467"
            ]
          },
          "metadata": {
            "tags": []
          },
          "execution_count": 45
        }
      ]
    },
    {
      "cell_type": "code",
      "metadata": {
        "id": "A9CMZpgcI7dH",
        "outputId": "f0eca2fa-7b6b-49c2-d723-962f08a8835d"
      },
      "source": [
        "alsAllStepsHitR_, als_LBand, als_AvgHitR, als_UBand   = getAll_HitRate(newHOLDOUT_LIST,Allals_topNPRED,'Updated_UserID','Updated_ItemID')"
      ],
      "execution_count": null,
      "outputs": [
        {
          "output_type": "stream",
          "text": [
            "Number of hits:  254\n",
            "Total Num of users:  2018\n",
            "Recommendation HitRate:  0.12586719524281467\n",
            "Number of hits:  266\n",
            "Total Num of users:  2200\n",
            "Recommendation HitRate:  0.12090909090909091\n",
            "Number of hits:  303\n",
            "Total Num of users:  2172\n",
            "Recommendation HitRate:  0.13950276243093923\n",
            "Number of hits:  279\n",
            "Total Num of users:  2079\n",
            "Recommendation HitRate:  0.1341991341991342\n",
            "Number of hits:  250\n",
            "Total Num of users:  2089\n",
            "Recommendation HitRate:  0.11967448539971279\n",
            "Number of hits:  231\n",
            "Total Num of users:  2120\n",
            "Recommendation HitRate:  0.1089622641509434\n",
            "Number of hits:  211\n",
            "Total Num of users:  2217\n",
            "Recommendation HitRate:  0.09517365809652684\n",
            "Number of hits:  208\n",
            "Total Num of users:  2207\n",
            "Recommendation HitRate:  0.09424558223833258\n",
            "Number of hits:  234\n",
            "Total Num of users:  2133\n",
            "Recommendation HitRate:  0.10970464135021098\n",
            "Number of hits:  240\n",
            "Total Num of users:  2171\n",
            "Recommendation HitRate:  0.11054813450023031\n",
            "Number of hits:  250\n",
            "Total Num of users:  2261\n",
            "Recommendation HitRate:  0.11057054400707651\n",
            "Number of hits:  246\n",
            "Total Num of users:  2246\n",
            "Recommendation HitRate:  0.10952804986642921\n",
            "Number of hits:  261\n",
            "Total Num of users:  2196\n",
            "Recommendation HitRate:  0.11885245901639344\n",
            "Number of hits:  258\n",
            "Total Num of users:  2269\n",
            "Recommendation HitRate:  0.11370647862494491\n",
            "Number of hits:  68\n",
            "Total Num of users:  2222\n",
            "Recommendation HitRate:  0.0306030603060306\n",
            "Average HitRate for All Recommendations:  0.10946983602258739\n"
          ],
          "name": "stdout"
        }
      ]
    },
    {
      "cell_type": "code",
      "metadata": {
        "id": "3v_AdfvZI7dJ",
        "outputId": "07afff92-b4e9-4f4b-e0d5-f3eecf030e6e"
      },
      "source": [
        "alsAllStepsHitR_  #rerun..."
      ],
      "execution_count": null,
      "outputs": [
        {
          "output_type": "execute_result",
          "data": {
            "text/plain": [
              "[0.12586719524281467,\n",
              " 0.12090909090909091,\n",
              " 0.13950276243093923,\n",
              " 0.1341991341991342,\n",
              " 0.11967448539971279,\n",
              " 0.1089622641509434,\n",
              " 0.09517365809652684,\n",
              " 0.09424558223833258,\n",
              " 0.10970464135021098,\n",
              " 0.11054813450023031,\n",
              " 0.11057054400707651,\n",
              " 0.10952804986642921,\n",
              " 0.11885245901639344,\n",
              " 0.11370647862494491,\n",
              " 0.0306030603060306]"
            ]
          },
          "metadata": {
            "tags": []
          },
          "execution_count": 47
        }
      ]
    },
    {
      "cell_type": "code",
      "metadata": {
        "id": "-Zf4P-iiI7dK",
        "outputId": "795ceee1-4d79-4960-ac73-4ba12a49766b"
      },
      "source": [
        "print(als_LBand, als_AvgHitR, als_UBand)"
      ],
      "execution_count": null,
      "outputs": [
        {
          "output_type": "stream",
          "text": [
            "0.09559986289403813 0.10946983602258739 0.12333980915113665\n"
          ],
          "name": "stdout"
        }
      ]
    },
    {
      "cell_type": "code",
      "metadata": {
        "id": "H3kfcIzLq3aq"
      },
      "source": [
        "##MRR Test"
      ],
      "execution_count": null,
      "outputs": []
    },
    {
      "cell_type": "markdown",
      "metadata": {
        "id": "4LTu6CfTlkKV"
      },
      "source": [
        "# MRR_Scores"
      ]
    },
    {
      "cell_type": "markdown",
      "metadata": {
        "id": "m9ENZNz7Pfts"
      },
      "source": [
        "## UpdtPSI MRR"
      ]
    },
    {
      "cell_type": "code",
      "metadata": {
        "id": "Jua1mher8NGO",
        "outputId": "75892255-0e71-4966-aa09-bbcebd25f107"
      },
      "source": [
        "mrr_1st = MRR_Eval(newHOLDOUT_LIST[0],Top_NupdtPred,'Updated_ItemID')\n",
        "print(\"1st Step MRR: \",mrr_1st)"
      ],
      "execution_count": null,
      "outputs": [
        {
          "output_type": "stream",
          "text": [
            "1st Step MRR:  0.013339861878018468\n"
          ],
          "name": "stdout"
        }
      ]
    },
    {
      "cell_type": "code",
      "metadata": {
        "id": "HKCypKY78NGP",
        "outputId": "a3b76d44-bca2-4ebb-faa3-31e32a223bc3"
      },
      "source": [
        "AllSteps_MRRUpdt, LowerB_Updt, AvgMRR_Updt, UpperB_Updt  = TQDMgetAll_MRR_Eval(newHOLDOUT_LIST,AllUpdt_pred,'Updated_ItemID')\n",
        "AllSteps_MRRUpdt      #Rank ==150"
      ],
      "execution_count": null,
      "outputs": [
        {
          "output_type": "stream",
          "text": [
            "15it [00:00, 650.00it/s]\n"
          ],
          "name": "stderr"
        },
        {
          "output_type": "execute_result",
          "data": {
            "text/plain": [
              "[0.01334,\n",
              " 0.014017,\n",
              " 0.016633,\n",
              " 0.012544,\n",
              " 0.01465,\n",
              " 0.013371,\n",
              " 0.009877,\n",
              " 0.010887,\n",
              " 0.010926,\n",
              " 0.011099,\n",
              " 0.01122,\n",
              " 0.009847,\n",
              " 0.010948,\n",
              " 0.012784,\n",
              " 0.004832]"
            ]
          },
          "metadata": {
            "tags": []
          },
          "execution_count": 192
        }
      ]
    },
    {
      "cell_type": "code",
      "metadata": {
        "id": "xvxgknDI8NGQ",
        "outputId": "49f4e381-1f53-41d9-ea1b-13334722749b"
      },
      "source": [
        "print(\"Average MRR: \",AvgMRR_Updt)"
      ],
      "execution_count": null,
      "outputs": [
        {
          "output_type": "stream",
          "text": [
            "Average MRR:  0.011798\n"
          ],
          "name": "stdout"
        }
      ]
    },
    {
      "cell_type": "code",
      "metadata": {
        "id": "Kcme4SUDp0UO"
      },
      "source": [
        ""
      ],
      "execution_count": null,
      "outputs": []
    },
    {
      "cell_type": "markdown",
      "metadata": {
        "id": "NViCcctzqDX0"
      },
      "source": [
        "## RegPSI MRR"
      ]
    },
    {
      "cell_type": "code",
      "metadata": {
        "id": "QiUIA7jglb2c",
        "outputId": "8ca95a94-c146-4519-95b6-bbe6b9d4289e"
      },
      "source": [
        "##MRR: \n",
        "mrr_psi_1st = MRR_Eval(newHOLDOUT_LIST[0],Top10Pred_psi,'Updated_ItemID')\n",
        "print(\"1st Step MRR: \",mrr_psi_1st)"
      ],
      "execution_count": null,
      "outputs": [
        {
          "output_type": "stream",
          "text": [
            "1st Step MRR:  0.013397674894206112\n"
          ],
          "name": "stdout"
        }
      ]
    },
    {
      "cell_type": "code",
      "metadata": {
        "id": "lHlCnS9t8NGt",
        "outputId": "359894ce-1a44-4294-fc09-eb36ce23e040"
      },
      "source": [
        "psi_AllStepsMRR, psi_LowerB, psi_AvgMRR, psi_UpperB  = TQDMgetAll_MRR_Eval(newHOLDOUT_LIST,All_regPSI_PRED,'Updated_ItemID')\n",
        "psi_AllStepsMRR  #Rank ==150"
      ],
      "execution_count": null,
      "outputs": [
        {
          "output_type": "stream",
          "text": [
            "15it [00:00, 589.55it/s]\n"
          ],
          "name": "stderr"
        },
        {
          "output_type": "execute_result",
          "data": {
            "text/plain": [
              "[0.013398,\n",
              " 0.014141,\n",
              " 0.016565,\n",
              " 0.012617,\n",
              " 0.015305,\n",
              " 0.013355,\n",
              " 0.011169,\n",
              " 0.012022,\n",
              " 0.014899,\n",
              " 0.016974,\n",
              " 0.016547,\n",
              " 0.013888,\n",
              " 0.016548,\n",
              " 0.016854,\n",
              " 0.007916]"
            ]
          },
          "metadata": {
            "tags": []
          },
          "execution_count": 195
        }
      ]
    },
    {
      "cell_type": "code",
      "metadata": {
        "id": "-V-t5JQ68NGu",
        "outputId": "9d506c1d-e490-4b15-d1fe-24f7296a79be"
      },
      "source": [
        "print(\"Average MRR: \",psi_AvgMRR)"
      ],
      "execution_count": null,
      "outputs": [
        {
          "output_type": "stream",
          "text": [
            "Average MRR:  0.014147\n"
          ],
          "name": "stdout"
        }
      ]
    },
    {
      "cell_type": "code",
      "metadata": {
        "id": "ZCXL-Upxrfcf"
      },
      "source": [
        ""
      ],
      "execution_count": null,
      "outputs": []
    },
    {
      "cell_type": "markdown",
      "metadata": {
        "id": "0VF39Re9rg3C"
      },
      "source": [
        "## SVD MRR"
      ]
    },
    {
      "cell_type": "code",
      "metadata": {
        "id": "2VNpJ3gc8NG-",
        "outputId": "5be82150-5b2a-40aa-f4a5-ac1c051917d3"
      },
      "source": [
        "##MRR: \n",
        "mrr_SVD_1st = MRR_Eval(newHOLDOUT_LIST[0],Top10Pred_SVD,'Updated_ItemID')\n",
        "print(\"1st Step MRR: \",mrr_SVD_1st)"
      ],
      "execution_count": null,
      "outputs": [
        {
          "output_type": "stream",
          "text": [
            "1st Step MRR:  0.022629666336306576\n"
          ],
          "name": "stdout"
        }
      ]
    },
    {
      "cell_type": "code",
      "metadata": {
        "id": "Xxx66F3a8NG_",
        "outputId": "7e2a3c90-0b6d-4303-a498-94fafacfdf70"
      },
      "source": [
        "svd_AllStepsMRR, svd_LowerB, svd_AvgMRR, svd_UpperB  = TQDMgetAll_MRR_Eval(newHOLDOUT_LIST,AllSVD_topNPRED,'Updated_ItemID')\n",
        "svd_AllStepsMRR  #Rank ==150\n"
      ],
      "execution_count": null,
      "outputs": [
        {
          "output_type": "stream",
          "text": [
            "15it [00:00, 530.35it/s]\n"
          ],
          "name": "stderr"
        },
        {
          "output_type": "execute_result",
          "data": {
            "text/plain": [
              "[0.02263,\n",
              " 0.024163,\n",
              " 0.022637,\n",
              " 0.028074,\n",
              " 0.026985,\n",
              " 0.028163,\n",
              " 0.019985,\n",
              " 0.016027,\n",
              " 0.021635,\n",
              " 0.023555,\n",
              " 0.020578,\n",
              " 0.02637,\n",
              " 0.021923,\n",
              " 0.024283,\n",
              " 0.014118]"
            ]
          },
          "metadata": {
            "tags": []
          },
          "execution_count": 198
        }
      ]
    },
    {
      "cell_type": "code",
      "metadata": {
        "id": "CdIKor9yrnkW",
        "outputId": "4fbad040-fb28-4910-9df2-704fdac22762"
      },
      "source": [
        "svd_AvgMRR"
      ],
      "execution_count": null,
      "outputs": [
        {
          "output_type": "execute_result",
          "data": {
            "text/plain": [
              "0.022742"
            ]
          },
          "metadata": {
            "tags": []
          },
          "execution_count": 199
        }
      ]
    },
    {
      "cell_type": "code",
      "metadata": {
        "id": "YVjJxdSkI7dZ",
        "outputId": "89417d3a-db2c-4dee-9db7-2f977a452072"
      },
      "source": [
        "##mrr\n",
        "als_AllStepsMRR, als_LBand, als_AvgMRR, als_UBand  = TQDMgetAll_MRR_Eval(newHOLDOUT_LIST,Allals_topNPRED,'Updated_ItemID')\n",
        "als_AllStepsMRR    ##rerun..."
      ],
      "execution_count": null,
      "outputs": [
        {
          "output_type": "stream",
          "text": [
            "15it [00:00, 573.59it/s]\n"
          ],
          "name": "stderr"
        },
        {
          "output_type": "execute_result",
          "data": {
            "text/plain": [
              "[0.049607,\n",
              " 0.052059,\n",
              " 0.053776,\n",
              " 0.055517,\n",
              " 0.056555,\n",
              " 0.05046,\n",
              " 0.041408,\n",
              " 0.039994,\n",
              " 0.049662,\n",
              " 0.049453,\n",
              " 0.046754,\n",
              " 0.044937,\n",
              " 0.052191,\n",
              " 0.052042,\n",
              " 0.010583]"
            ]
          },
          "metadata": {
            "tags": []
          },
          "execution_count": 200
        }
      ]
    },
    {
      "cell_type": "code",
      "metadata": {
        "id": "-uZkROFyI7da",
        "outputId": "f4b3cc48-e877-4c3f-fd05-6d2218e5cec4"
      },
      "source": [
        "print(als_LBand, als_AvgMRR, als_UBand)"
      ],
      "execution_count": null,
      "outputs": [
        {
          "output_type": "stream",
          "text": [
            "0.040843 0.047 0.053157\n"
          ],
          "name": "stdout"
        }
      ]
    },
    {
      "cell_type": "markdown",
      "metadata": {
        "id": "R9brrLc1q8RZ"
      },
      "source": [
        "## RRec_MRR"
      ]
    },
    {
      "cell_type": "code",
      "metadata": {
        "id": "2f566w7D8NHa",
        "outputId": "d1444399-0394-4490-c971-48d9a8b60221"
      },
      "source": [
        "RRec_AllStepsMRR, RRec_LowB, RRec_Avg_MRR, RRec_UppB = getAll_RandomRecMRR(newHOLDOUT_LIST,All_UsersRRecPred,'Updated_UserID','Updated_ItemID')\n",
        "RRec_AllStepsMRR"
      ],
      "execution_count": null,
      "outputs": [
        {
          "output_type": "stream",
          "text": [
            "15it [00:00, 299.83it/s]\n"
          ],
          "name": "stderr"
        },
        {
          "output_type": "execute_result",
          "data": {
            "text/plain": [
              "[0.000578,\n",
              " 0.000338,\n",
              " 0.000153,\n",
              " 0.000168,\n",
              " 0,\n",
              " 0.000218,\n",
              " 0.000182,\n",
              " 0.000374,\n",
              " 0.000586,\n",
              " 0,\n",
              " 6.3e-05,\n",
              " 0,\n",
              " 0,\n",
              " 0,\n",
              " 0]"
            ]
          },
          "metadata": {
            "tags": []
          },
          "execution_count": 156
        }
      ]
    },
    {
      "cell_type": "code",
      "metadata": {
        "id": "05OJMLJeI7dd"
      },
      "source": [
        ""
      ],
      "execution_count": null,
      "outputs": []
    },
    {
      "cell_type": "markdown",
      "metadata": {
        "id": "3jYTmPkgsL7r"
      },
      "source": [
        "## Mpop_MRR"
      ]
    },
    {
      "cell_type": "code",
      "metadata": {
        "id": "IQFQoOfF8NHu",
        "outputId": "a4574a8c-32a5-4479-e0db-61b516426f18"
      },
      "source": [
        "#MRR....\n",
        "                                    #getAll_MostPOP_MRR(HOLDOUT_list,All_MostPOPRED_List,user_column,item_column)\n",
        "Mpop_AllStepsMRR, Mpop_LowB, Mpop_AvgMRR, Mpop_UppB = getAll_MostPOP_MRR(newHOLDOUT_LIST,All_MostPOPRED_List,'Updated_UserID','Updated_ItemID')\n",
        "Mpop_AllStepsMRR  ##new_rerun"
      ],
      "execution_count": null,
      "outputs": [
        {
          "output_type": "stream",
          "text": [
            "15it [00:00, 538.35it/s]\n"
          ],
          "name": "stderr"
        },
        {
          "output_type": "execute_result",
          "data": {
            "text/plain": [
              "[0.0013344188022086933,\n",
              " 0.002412878787878788,\n",
              " 0.0007072334765704931,\n",
              " 0.0008992036769814547,\n",
              " 0.0010856185461259658,\n",
              " 0.00041404612159329137,\n",
              " 0.001693264886769623,\n",
              " 0.0007765695010824143,\n",
              " 0.0012018246898696967,\n",
              " 0.0015935162641749468,\n",
              " 0.0019281396769234007,\n",
              " 0.0023899631090192083,\n",
              " 0.0026942926533090462,\n",
              " 0.002657803241760932,\n",
              " 0.001376923406626377]"
            ]
          },
          "metadata": {
            "tags": []
          },
          "execution_count": 202
        }
      ]
    },
    {
      "cell_type": "code",
      "metadata": {
        "id": "NM0Bqs_psQio"
      },
      "source": [
        ""
      ],
      "execution_count": null,
      "outputs": []
    },
    {
      "cell_type": "markdown",
      "metadata": {
        "id": "9E5uZACqmdRw"
      },
      "source": [
        "# Coverage Scores"
      ]
    },
    {
      "cell_type": "markdown",
      "metadata": {
        "id": "T_N9aVIdmiJw"
      },
      "source": [
        "## UpdtPSI COV"
      ]
    },
    {
      "cell_type": "code",
      "metadata": {
        "id": "V6MBUBiw8NGX",
        "outputId": "7f06e0ee-9b91-4105-dd35-f7c70ddab502"
      },
      "source": [
        "StepCoverage_Ratio(newAMZGames_DF,AllUsers_updtPRED[0],'Updated_ItemID')"
      ],
      "execution_count": null,
      "outputs": [
        {
          "output_type": "execute_result",
          "data": {
            "text/plain": [
              "0.071313"
            ]
          },
          "metadata": {
            "tags": []
          },
          "execution_count": 203
        }
      ]
    },
    {
      "cell_type": "code",
      "metadata": {
        "id": "UWbQX8v-8NGY",
        "outputId": "ac300c20-57ab-40d8-ec3a-cfeedade9b95"
      },
      "source": [
        "UpdtAvg_Coverage_List = AllSteps_Coverage_Ratio(newAMZGames_DF,AllUsers_updtPRED,'Updated_ItemID')\n",
        "UpdtAvg_Coverage_List  #rank = 150"
      ],
      "execution_count": null,
      "outputs": [
        {
          "output_type": "execute_result",
          "data": {
            "text/plain": [
              "[0.071313,\n",
              " 0.071486,\n",
              " 0.071717,\n",
              " 0.071198,\n",
              " 0.071371,\n",
              " 0.070967,\n",
              " 0.07114,\n",
              " 0.070678,\n",
              " 0.070562,\n",
              " 0.071313,\n",
              " 0.07062,\n",
              " 0.071429,\n",
              " 0.071948,\n",
              " 0.072064,\n",
              " 0.072064]"
            ]
          },
          "metadata": {
            "tags": []
          },
          "execution_count": 204
        }
      ]
    },
    {
      "cell_type": "code",
      "metadata": {
        "id": "yLH8e0QZ8NGs"
      },
      "source": [
        ""
      ],
      "execution_count": null,
      "outputs": []
    },
    {
      "cell_type": "markdown",
      "metadata": {
        "id": "1GSmfsOoqcSR"
      },
      "source": [
        "##RegPSI COV"
      ]
    },
    {
      "cell_type": "code",
      "metadata": {
        "id": "4qGnS77i8NGx",
        "outputId": "c6276faf-3ed0-4205-a7c2-8e7333f6c869"
      },
      "source": [
        "psi_AvgCoverage_List = AllSteps_Coverage_Ratio(newAMZGames_DF,AllUsersRegPIS_PRED,'Updated_ItemID')\n",
        "psi_AvgCoverage_List#rank ==150"
      ],
      "execution_count": null,
      "outputs": [
        {
          "output_type": "execute_result",
          "data": {
            "text/plain": [
              "[0.071429,\n",
              " 0.071486,\n",
              " 0.071486,\n",
              " 0.071371,\n",
              " 0.071429,\n",
              " 0.071544,\n",
              " 0.071775,\n",
              " 0.071544,\n",
              " 0.071255,\n",
              " 0.071602,\n",
              " 0.071833,\n",
              " 0.071717,\n",
              " 0.071833,\n",
              " 0.071544,\n",
              " 0.07166]"
            ]
          },
          "metadata": {
            "tags": []
          },
          "execution_count": 205
        }
      ]
    },
    {
      "cell_type": "code",
      "metadata": {
        "id": "-oVnc3FR_DfB"
      },
      "source": [
        ""
      ],
      "execution_count": null,
      "outputs": []
    },
    {
      "cell_type": "markdown",
      "metadata": {
        "id": "6lEpxbMqoPdG"
      },
      "source": [
        "## SVD COV\n"
      ]
    },
    {
      "cell_type": "code",
      "metadata": {
        "id": "o-7SsHoVo2gx",
        "outputId": "c6e6fb89-4de7-4ca6-8d1c-c8ebf340c15e"
      },
      "source": [
        "SVD_AvgCoverage_List = AllSteps_Coverage_Ratio(newAMZGames_DF,AllUsersSVD_PRED,'Updated_ItemID')\n",
        "SVD_AvgCoverage_List  #rank == 150"
      ],
      "execution_count": null,
      "outputs": [
        {
          "output_type": "execute_result",
          "data": {
            "text/plain": [
              "[0.072179,\n",
              " 0.071255,\n",
              " 0.072699,\n",
              " 0.072295,\n",
              " 0.071775,\n",
              " 0.070909,\n",
              " 0.071082,\n",
              " 0.072179,\n",
              " 0.071198,\n",
              " 0.071833,\n",
              " 0.071775,\n",
              " 0.070909,\n",
              " 0.070851,\n",
              " 0.070505,\n",
              " 0.07062]"
            ]
          },
          "metadata": {
            "tags": []
          },
          "execution_count": 206
        }
      ]
    },
    {
      "cell_type": "code",
      "metadata": {
        "id": "e2fKLQzMI7dt",
        "outputId": "d0564843-b148-40c0-840f-d3d00eba3596"
      },
      "source": [
        "###cOVERAGE:\n",
        "als_AvgCovList = AllSteps_Coverage_Ratio(newAMZGames_DF,All_alsPRED_List,'Updated_ItemID')\n",
        "als_AvgCovList  #rerun..."
      ],
      "execution_count": null,
      "outputs": [
        {
          "output_type": "execute_result",
          "data": {
            "text/plain": [
              "[0.067387,\n",
              " 0.067387,\n",
              " 0.067444,\n",
              " 0.067444,\n",
              " 0.067387,\n",
              " 0.067444,\n",
              " 0.067502,\n",
              " 0.067444,\n",
              " 0.067502,\n",
              " 0.067502,\n",
              " 0.06756,\n",
              " 0.06756,\n",
              " 0.067444,\n",
              " 0.067444,\n",
              " 0.067329]"
            ]
          },
          "metadata": {
            "tags": []
          },
          "execution_count": 207
        }
      ]
    },
    {
      "cell_type": "code",
      "metadata": {
        "id": "Oxcy-gTkrRVG"
      },
      "source": [
        ""
      ],
      "execution_count": null,
      "outputs": []
    },
    {
      "cell_type": "markdown",
      "metadata": {
        "id": "q5lllTOKrGZi"
      },
      "source": [
        "## RRec COV"
      ]
    },
    {
      "cell_type": "code",
      "metadata": {
        "id": "DUFoVqur8NHb",
        "outputId": "da623733-8c91-4c52-d440-d610613648bf"
      },
      "source": [
        "##COVERAGE\n",
        "RRec_AvgCoverageList = AllSteps_Coverage_Ratio(newAMZGames_DF,All_UsersRRecPred,'Updated_ItemID')\n",
        "RRec_AvgCoverageList"
      ],
      "execution_count": null,
      "outputs": [
        {
          "output_type": "execute_result",
          "data": {
            "text/plain": [
              "[1.0, 1.0, 1.0, 1.0, 1.0, 1.0, 1.0, 1.0, 1.0, 1.0, 1.0, 1.0, 1.0, 1.0, 1.0]"
            ]
          },
          "metadata": {
            "tags": []
          },
          "execution_count": 164
        }
      ]
    },
    {
      "cell_type": "code",
      "metadata": {
        "id": "J2VTX-PBsUVL"
      },
      "source": [
        ""
      ],
      "execution_count": null,
      "outputs": []
    },
    {
      "cell_type": "markdown",
      "metadata": {
        "id": "TQEA5_2msUjM"
      },
      "source": [
        "## Mpop COV"
      ]
    },
    {
      "cell_type": "code",
      "metadata": {
        "id": "LcCzVhcD8NHv",
        "outputId": "804e1087-609c-4f93-8b8f-2a0c926cf0a5"
      },
      "source": [
        "##COVERAGE\n",
        "MPop_AvgCoverageList = AllSteps_Coverage_Ratio(newAMZGames_DF,All_MostPOPRED_List,'Updated_ItemID')\n",
        "MPop_AvgCoverageList"
      ],
      "execution_count": null,
      "outputs": [
        {
          "output_type": "execute_result",
          "data": {
            "text/plain": [
              "[0.000577,\n",
              " 0.000577,\n",
              " 0.000577,\n",
              " 0.000577,\n",
              " 0.000577,\n",
              " 0.000577,\n",
              " 0.000577,\n",
              " 0.000577,\n",
              " 0.000577,\n",
              " 0.000577,\n",
              " 0.000577,\n",
              " 0.000577,\n",
              " 0.000577,\n",
              " 0.000577,\n",
              " 0.000577]"
            ]
          },
          "metadata": {
            "tags": []
          },
          "execution_count": 208
        }
      ]
    },
    {
      "cell_type": "code",
      "metadata": {
        "id": "q2oT8wMP8NG_"
      },
      "source": [
        "## AllSVD Prediction"
      ],
      "execution_count": null,
      "outputs": []
    },
    {
      "cell_type": "markdown",
      "metadata": {
        "id": "00phYsByS9Oq"
      },
      "source": [
        "# Stability Scores"
      ]
    },
    {
      "cell_type": "code",
      "metadata": {
        "id": "YpmeR79n8NHC"
      },
      "source": [
        "##lOAD Saved Lists...\n",
        "with open('/mnt/bulky/oolaleke/TDM_Dataset/AMZ_GamesFiles/AMZG_UpdtPSI_allPRED.pkl', 'rb') as f:\n",
        "     AllUsers_updtPRED = pickle.load(f)\n",
        "\n",
        "with open('/mnt/bulky/oolaleke/TDM_Dataset/AMZ_GamesFiles/AMZG_PSI_allPRED.pkl', 'rb') as f:\n",
        "     AllUsersRegPIS_PRED = pickle.load(f)\n",
        "\n",
        "\n",
        "with open('/mnt/bulky/oolaleke/TDM_Dataset/AMZ_GamesFiles/AMZG_SVD_allPRED.pkl', 'rb') as f:\n",
        "     AllUsersSVD_PRED = pickle.load(f)\n",
        "\n",
        "# with open('/mnt/bulky/oolaleke/TDM_Dataset/AMZ_GamesFiles/AMZG_SVD_allPRED.pkl', 'rb') as f:\n",
        "#      AllUsersSVD_PRED = pickle.load(f)\n",
        "\n",
        "\n",
        "with open('/home/oolaleke/incremental_PSI/Notebooks/AMZGms_iALS_allPRED.pkl', 'rb') as f:\n",
        "     All_alsPRED_List = pickle.load(f)\n",
        "\n",
        "with open('/mnt/bulky/oolaleke/TDM_Dataset/AMZ_GamesFiles/AMZG_MPOP_AllPRED.pkl', 'rb') as f:\n",
        "     All_MostPOPRED_List = pickle.load(f)\n",
        "\n",
        "\n",
        "with open('/mnt/bulky/oolaleke/TDM_Dataset/AMZ_GamesFiles/AMZG_RRec_allPRED.pkl', 'rb') as f:\n",
        "     All_UsersRRecPred = pickle.load(f)     \n",
        "\n",
        "#newAMZB_DF = pd.read_csv()"
      ],
      "execution_count": null,
      "outputs": []
    },
    {
      "cell_type": "code",
      "metadata": {
        "id": "PhfkO3EcJN5W"
      },
      "source": [
        ""
      ],
      "execution_count": null,
      "outputs": []
    },
    {
      "cell_type": "code",
      "metadata": {
        "colab": {
          "base_uri": "https://localhost:8080/"
        },
        "id": "UkFqDvcW_Amh",
        "outputId": "5ab6a0c0-723f-4ae3-a451-b5db08df1ca0"
      },
      "source": [
        "AllSteps = list(range(1,15))\n",
        "print(len(AllSteps))\n",
        "AllSteps"
      ],
      "execution_count": null,
      "outputs": [
        {
          "output_type": "stream",
          "text": [
            "14\n"
          ],
          "name": "stdout"
        },
        {
          "output_type": "execute_result",
          "data": {
            "text/plain": [
              "[1, 2, 3, 4, 5, 6, 7, 8, 9, 10, 11, 12, 13, 14]"
            ]
          },
          "metadata": {
            "tags": []
          },
          "execution_count": 61
        }
      ]
    },
    {
      "cell_type": "markdown",
      "metadata": {
        "id": "4GLHnKJViAHo"
      },
      "source": [
        "##  UpdtPSI Stby "
      ]
    },
    {
      "cell_type": "code",
      "metadata": {
        "id": "WOCcEd3KI7d5"
      },
      "source": [
        "newUserItem_list"
      ],
      "execution_count": null,
      "outputs": []
    },
    {
      "cell_type": "code",
      "metadata": {
        "colab": {
          "base_uri": "https://localhost:8080/"
        },
        "id": "QlTrlJKrNwRC",
        "outputId": "48d55153-12ed-4742-be38-3beb3266a589"
      },
      "source": [
        "UpdtPSICorr_ = Updt_getAll_AvgCorr(AllUsers_updtPRED,newUserItem_list,AllSteps,'Updated_UserID')  #,\n",
        "UpdtPSICorr_"
      ],
      "execution_count": null,
      "outputs": [
        {
          "output_type": "execute_result",
          "data": {
            "text/plain": [
              "array([array([1.        , 1.        , 0.98387314, ..., 0.        , 0.        ,\n",
              "              0.        ])                                                    ,\n",
              "       array([1.        , 0.99244163, 0.98387314, ..., 0.        , 0.        ,\n",
              "              0.06569448])                                                    ,\n",
              "       array([1.       , 1.       , 0.9188873, ..., 0.       , 0.       ,\n",
              "              0.       ])                                                ,\n",
              "       array([1.        , 1.        , 1.        , ..., 0.        , 0.        ,\n",
              "              0.15121266])                                                    ,\n",
              "       array([1.        , 1.        , 1.        , ..., 0.16035215, 0.09779133,\n",
              "              0.        ])                                                    ,\n",
              "       array([0.99056095, 0.87549231, 0.9188873 , ..., 0.11943581, 0.21278344,\n",
              "              0.        ])                                                    ,\n",
              "       array([1.        , 0.92690249, 0.98788042, ..., 0.        , 0.96826667,\n",
              "              0.10560216])                                                    ,\n",
              "       array([1.        , 1.        , 1.        , ..., 0.38662408, 0.22689495,\n",
              "              0.38975711])                                                    ,\n",
              "       array([1.        , 0.77151086, 1.        , ..., 0.24206984, 0.        ,\n",
              "              0.        ])                                                    ,\n",
              "       array([1.        , 0.91813929, 1.        , ..., 0.        , 0.91813929,\n",
              "              0.        ])                                                    ,\n",
              "       array([1.        , 0.94467132, 1.        , ..., 1.        , 0.        ,\n",
              "              0.        ])                                                    ,\n",
              "       array([1.        , 0.94467132, 0.93397092, ..., 0.        , 0.03534858,\n",
              "              0.        ])                                                    ,\n",
              "       array([1.       , 1.       , 1.       , ..., 0.       , 0.2712711,\n",
              "              0.       ])                                                ,\n",
              "       array([1.        , 0.99056095, 1.        , ..., 0.        , 0.04791652,\n",
              "              0.27698962])                                                    ],\n",
              "      dtype=object)"
            ]
          },
          "metadata": {
            "tags": []
          },
          "execution_count": 209
        }
      ]
    },
    {
      "cell_type": "code",
      "metadata": {
        "colab": {
          "base_uri": "https://localhost:8080/"
        },
        "id": "Ms8Nj-1ndBAG",
        "outputId": "744e9e7a-12fa-4919-a992-faa64d30e9b2"
      },
      "source": [
        "UpdtPSICorr_.shape   #rank == 150\n",
        "for df in UpdtPSICorr_:\n",
        "    print(df.mean())  "
      ],
      "execution_count": null,
      "outputs": [
        {
          "output_type": "stream",
          "text": [
            "0.9646820503475579\n",
            "0.9608210031319182\n",
            "0.9584980000913076\n",
            "0.9633227900359743\n",
            "0.9654738459305533\n",
            "0.966010082251742\n",
            "0.9648171925539355\n",
            "0.9654937143947737\n",
            "0.9631707491024416\n",
            "0.9638069059443296\n",
            "0.9676064598059436\n",
            "0.9648045081257557\n",
            "0.9644398839190419\n",
            "0.964483896257767\n"
          ],
          "name": "stdout"
        }
      ]
    },
    {
      "cell_type": "markdown",
      "metadata": {
        "id": "s19yQCNaTxSL"
      },
      "source": [
        "## RegPSI Stby"
      ]
    },
    {
      "cell_type": "code",
      "metadata": {
        "colab": {
          "base_uri": "https://localhost:8080/"
        },
        "id": "5jPXwk8KTxS9",
        "outputId": "c3ed416c-2aab-4494-b731-b57f7a837dd8"
      },
      "source": [
        "RegPSICorr_ = Updt_getAll_AvgCorr(AllUsersRegPIS_PRED,newUserItem_list,AllSteps,'Updated_UserID')  #,\n",
        "RegPSICorr_"
      ],
      "execution_count": null,
      "outputs": [
        {
          "output_type": "execute_result",
          "data": {
            "text/plain": [
              "array([array([1.        , 0.9609458 , 0.92690249, ..., 0.        , 0.        ,\n",
              "              0.        ])                                                    ,\n",
              "       array([1.        , 0.9609458 , 0.98387314, ..., 0.        , 0.        ,\n",
              "              0.07988296])                                                    ,\n",
              "       array([0.99056095, 1.        , 0.98387314, ..., 0.        , 0.        ,\n",
              "              0.        ])                                                    ,\n",
              "       array([1.        , 0.9077281 , 0.93397092, ..., 0.        , 0.        ,\n",
              "              0.15121266])                                                    ,\n",
              "       array([1.        , 1.        , 1.        , ..., 0.10909091, 0.09779133,\n",
              "              0.24868889])                                                    ,\n",
              "       array([1.        , 0.93397092, 0.99244163, ..., 0.11943581, 0.2472119 ,\n",
              "              0.        ])                                                    ,\n",
              "       array([1.        , 0.81887629, 0.98788042, ..., 0.11059284, 0.95730575,\n",
              "              0.12532398])                                                    ,\n",
              "       array([1.        , 0.96643133, 1.        , ..., 0.38662408, 0.22689495,\n",
              "              0.04457968])                                                    ,\n",
              "       array([1.        , 0.90256476, 0.97194764, ..., 0.24206984, 0.09331951,\n",
              "              0.        ])                                                    ,\n",
              "       array([1.        , 0.98788042, 1.        , ..., 0.        , 0.80796081,\n",
              "              0.02499653])                                                    ,\n",
              "       array([1.        , 1.        , 0.98788042, ..., 0.82675411, 0.        ,\n",
              "              0.        ])                                                    ,\n",
              "       array([1.        , 1.        , 1.        , ..., 0.        , 0.03534858,\n",
              "              0.        ])                                                    ,\n",
              "       array([1.        , 1.        , 1.        , ..., 0.        , 0.24500295,\n",
              "              0.        ])                                                    ,\n",
              "       array([1.        , 0.97749498, 0.93397092, ..., 0.        , 0.04977955,\n",
              "              0.27698962])                                                    ],\n",
              "      dtype=object)"
            ]
          },
          "metadata": {
            "tags": []
          },
          "execution_count": 211
        }
      ]
    },
    {
      "cell_type": "code",
      "metadata": {
        "colab": {
          "base_uri": "https://localhost:8080/"
        },
        "id": "7Jw6LVmFTxTC",
        "outputId": "38745d49-00dd-4f61-c7d0-78bc0f17010f"
      },
      "source": [
        "RegPSICorr_.shape  #rank ==150\n",
        "for df in RegPSICorr_:\n",
        "    print(df.mean())  "
      ],
      "execution_count": null,
      "outputs": [
        {
          "output_type": "stream",
          "text": [
            "0.9491295695721855\n",
            "0.9468816943403465\n",
            "0.9479422140589678\n",
            "0.949640114606598\n",
            "0.950456493407019\n",
            "0.949878901088672\n",
            "0.9517462720404214\n",
            "0.9523828510221347\n",
            "0.9478848131441061\n",
            "0.950463349134428\n",
            "0.9505406764609895\n",
            "0.9518649053892785\n",
            "0.953596124117734\n",
            "0.953783682988284\n"
          ],
          "name": "stdout"
        }
      ]
    },
    {
      "cell_type": "code",
      "metadata": {
        "id": "O1ZQgxN2TxTF"
      },
      "source": [
        ""
      ],
      "execution_count": null,
      "outputs": []
    },
    {
      "cell_type": "markdown",
      "metadata": {
        "id": "yfOZLbLYuqpn"
      },
      "source": [
        "## SVD Stby"
      ]
    },
    {
      "cell_type": "code",
      "metadata": {
        "colab": {
          "base_uri": "https://localhost:8080/"
        },
        "id": "B6Dik3BEvZDE",
        "outputId": "133b7aeb-06be-4e8c-defd-8c5e80bbca0a"
      },
      "source": [
        "pureSVDCorr_ = Updt_getAll_AvgCorr(AllUsersSVD_PRED,newUserItem_list,AllSteps,'Updated_UserID')  #,\n",
        "pureSVDCorr_"
      ],
      "execution_count": null,
      "outputs": [
        {
          "output_type": "execute_result",
          "data": {
            "text/plain": [
              "array([array([0.9474934 , 0.84686601, 0.7582182 , ..., 0.        , 0.        ,\n",
              "              0.        ])                                                    ,\n",
              "       array([1.        , 0.89159405, 0.9226361 , ..., 0.        , 0.        ,\n",
              "              0.06839401])                                                    ,\n",
              "       array([0.87382584, 0.79107013, 0.86648122, ..., 0.        , 0.        ,\n",
              "              0.        ])                                                    ,\n",
              "       array([0.99244163, 0.87644591, 0.92866475, ..., 0.        , 0.        ,\n",
              "              0.01933435])                                                    ,\n",
              "       array([0.92690249, 0.8714503 , 0.98387314, ..., 0.19356404, 0.06431146,\n",
              "              0.15310108])                                                    ,\n",
              "       array([0.98307362, 0.82201925, 0.83219561, ..., 0.11436552, 0.61421542,\n",
              "              0.        ])                                                    ,\n",
              "       array([0.92866475, 0.72312361, 0.83310567, ..., 0.12326891, 0.4903584 ,\n",
              "              0.27203791])                                                    ,\n",
              "       array([0.86718948, 0.8923215 , 0.9619883 , ..., 0.19627229, 0.31159485,\n",
              "              0.09331951])                                                    ,\n",
              "       array([0.83310567, 0.80420435, 0.90084986, ..., 0.17093678, 0.06033616,\n",
              "              0.        ])                                                    ,\n",
              "       array([0.63549745, 0.81887629, 0.97855515, ..., 0.        , 0.54559732,\n",
              "              0.        ])                                                    ,\n",
              "       array([0.91192851, 0.91366347, 0.79936616, ..., 0.91291953, 0.        ,\n",
              "              0.        ])                                                    ,\n",
              "       array([0.99056095, 0.82833787, 0.9226361 , ..., 0.        , 0.        ,\n",
              "              0.        ])                                                    ,\n",
              "       array([1.        , 0.90600387, 0.93397092, ..., 0.        , 0.16973059,\n",
              "              0.        ])                                                    ,\n",
              "       array([1.        , 0.71891011, 0.8573226 , ..., 0.        , 0.02928462,\n",
              "              0.11117802])                                                    ],\n",
              "      dtype=object)"
            ]
          },
          "metadata": {
            "tags": []
          },
          "execution_count": 213
        }
      ]
    },
    {
      "cell_type": "code",
      "metadata": {
        "colab": {
          "base_uri": "https://localhost:8080/"
        },
        "id": "ei8R6zjrvZDG",
        "outputId": "15f545fe-060f-49aa-cce9-b1b0b3e96fee"
      },
      "source": [
        "pureSVDCorr_.shape   #rank ==150\n",
        "for df in pureSVDCorr_:\n",
        "    print(df.mean())  "
      ],
      "execution_count": null,
      "outputs": [
        {
          "output_type": "stream",
          "text": [
            "0.7889586031724308\n",
            "0.8205823884657172\n",
            "0.7944481481534675\n",
            "0.7811641914354114\n",
            "0.8065256789980834\n",
            "0.8046694800447238\n",
            "0.8064152821020302\n",
            "0.8156834178847765\n",
            "0.797968505564725\n",
            "0.7829792208383554\n",
            "0.8184998118824861\n",
            "0.8040217938035495\n",
            "0.8124940688265262\n",
            "0.829368587121292\n"
          ],
          "name": "stdout"
        }
      ]
    },
    {
      "cell_type": "code",
      "metadata": {
        "id": "JLGMLptHI7eA"
      },
      "source": [
        ""
      ],
      "execution_count": null,
      "outputs": []
    },
    {
      "cell_type": "code",
      "metadata": {
        "id": "RG9tvVXSvYaX",
        "outputId": "d3e8e536-0dcd-4725-daa6-c20fd6a66abc"
      },
      "source": [
        "##IALS..\n",
        "iALSCorr_ = Updt_getAll_AvgCorr(All_alsPRED_List,newUserItem_list,AllSteps,'Updated_UserID')  #,\n",
        "iALSCorr_"
      ],
      "execution_count": null,
      "outputs": [
        {
          "output_type": "execute_result",
          "data": {
            "text/plain": [
              "array([array([1.       , 1.       , 1.       , ..., 1.       , 1.       ,\n",
              "              0.7956453])                                                ,\n",
              "       array([1.        , 1.        , 1.        , ..., 1.        , 0.49096051,\n",
              "              1.        ])                                                    ,\n",
              "       array([1.        , 1.        , 1.        , ..., 0.93397092, 1.        ,\n",
              "              1.        ])                                                    ,\n",
              "       array([1.        , 1.        , 1.        , ..., 1.        , 1.        ,\n",
              "              0.70836709])                                                    ,\n",
              "       array([1., 1., 1., ..., 1., 1., 1.]),\n",
              "       array([1.        , 1.        , 1.        , ..., 0.93397092, 1.        ,\n",
              "              1.        ])                                                    ,\n",
              "       array([1.       , 1.       , 1.       , ..., 1.       , 0.7956453,\n",
              "              1.       ])                                                ,\n",
              "       array([1.        , 1.        , 1.        , ..., 1.        , 1.        ,\n",
              "              0.37435993])                                                    ,\n",
              "       array([1.       , 1.       , 1.       , ..., 0.8923215, 1.       ,\n",
              "              1.       ])                                                ,\n",
              "       array([1.        , 1.        , 1.        , ..., 0.23006416, 1.        ,\n",
              "              0.92690249])                                                    ,\n",
              "       array([1.        , 1.        , 1.        , ..., 1.        , 0.91813929,\n",
              "              0.43028776])                                                    ,\n",
              "       array([1.        , 1.        , 1.        , ..., 0.49096051, 1.        ,\n",
              "              1.        ])                                                    ,\n",
              "       array([1.        , 1.        , 1.        , ..., 0.87216233, 0.49096051,\n",
              "              0.91813929])                                                    ,\n",
              "       array([1.       , 1.       , 1.       , ..., 1.       , 0.7956453,\n",
              "              1.       ])                                                ],\n",
              "      dtype=object)"
            ]
          },
          "metadata": {
            "tags": []
          },
          "execution_count": 215
        }
      ]
    },
    {
      "cell_type": "code",
      "metadata": {
        "id": "eM8wT41gI7eC",
        "outputId": "3f5c534f-f59c-434d-8310-a2a547b5206d"
      },
      "source": [
        "iALSCorr_.shape\n",
        "for df in iALSCorr_:\n",
        "    print(df.mean())  ###rerun..."
      ],
      "execution_count": null,
      "outputs": [
        {
          "output_type": "stream",
          "text": [
            "0.9967573742798062\n",
            "0.9968686346885436\n",
            "0.9970362580776088\n",
            "0.996866446447772\n",
            "0.9967774269197364\n",
            "0.9972167567264246\n",
            "0.9974770069947411\n",
            "0.9974166901810466\n",
            "0.9970680247110706\n",
            "0.9972760980783949\n",
            "0.997159774651736\n",
            "0.9973104110992619\n",
            "0.997089136415538\n",
            "0.9972316932946973\n"
          ],
          "name": "stdout"
        }
      ]
    },
    {
      "cell_type": "code",
      "metadata": {
        "id": "TiYfPqx1I7eD"
      },
      "source": [
        ""
      ],
      "execution_count": null,
      "outputs": []
    },
    {
      "cell_type": "markdown",
      "metadata": {
        "id": "xwHxO9FCrisT"
      },
      "source": [
        "## RRec Stby "
      ]
    },
    {
      "cell_type": "code",
      "metadata": {
        "id": "3xq4aMTZ8NHc",
        "outputId": "21f01b8a-82ee-431c-f265-e14de586903e"
      },
      "source": [
        "RandRec_Corr = Updt_getAll_AvgCorr(All_UsersRRecPred,newUserItem_list,AllSteps,'Updated_UserID')  #,\n",
        "RandRec_Corr"
      ],
      "execution_count": null,
      "outputs": [
        {
          "output_type": "execute_result",
          "data": {
            "text/plain": [
              "array([array([0., 0., 0., ..., 0., 0., 0.]),\n",
              "       array([0., 0., 0., ..., 0., 0., 0.]),\n",
              "       array([0., 0., 0., ..., 0., 0., 0.]),\n",
              "       array([0., 0., 0., ..., 0., 0., 0.]),\n",
              "       array([0., 0., 0., ..., 0., 0., 0.]),\n",
              "       array([0., 0., 0., ..., 0., 0., 0.]),\n",
              "       array([0., 0., 0., ..., 0., 0., 0.]),\n",
              "       array([0., 0., 0., ..., 0., 0., 0.]),\n",
              "       array([0., 0., 0., ..., 0., 0., 0.]),\n",
              "       array([0., 0., 0., ..., 0., 0., 0.]),\n",
              "       array([0., 0., 0., ..., 0., 0., 0.]),\n",
              "       array([0., 0., 0., ..., 0., 0., 0.]),\n",
              "       array([0., 0., 0., ..., 0., 0., 0.]),\n",
              "       array([0., 0., 0., ..., 0., 0., 0.])], dtype=object)"
            ]
          },
          "metadata": {
            "tags": []
          },
          "execution_count": 52
        }
      ]
    },
    {
      "cell_type": "code",
      "metadata": {
        "id": "yAYdhFex8NHd",
        "outputId": "f066b764-1806-419c-89cf-508e6e36f6eb"
      },
      "source": [
        "RandRec_Corr.shape\n",
        "for df in RandRec_Corr:\n",
        "    print(df.mean())  "
      ],
      "execution_count": null,
      "outputs": [
        {
          "output_type": "stream",
          "text": [
            "0.00018938852830573005\n",
            "0.00015479077771931346\n",
            "0.00017015650373206369\n",
            "0.00018682228286983054\n",
            "0.00016458385548443193\n",
            "0.0001866611350496244\n",
            "0.00018824939177046766\n",
            "0.0001701431999147521\n",
            "0.00018879551616648419\n",
            "0.0001567332310289805\n",
            "0.00018423108944432665\n",
            "0.00018467830958120293\n",
            "0.00018689519887117728\n",
            "0.0001719810808100546\n"
          ],
          "name": "stdout"
        }
      ]
    },
    {
      "cell_type": "code",
      "metadata": {
        "id": "YAou17RX8NHf"
      },
      "source": [
        ""
      ],
      "execution_count": null,
      "outputs": []
    },
    {
      "cell_type": "markdown",
      "metadata": {
        "id": "3W-oNrd2s__2"
      },
      "source": [
        "## Mpop Stby"
      ]
    },
    {
      "cell_type": "code",
      "metadata": {
        "colab": {
          "base_uri": "https://localhost:8080/"
        },
        "id": "CbzcieIu7oCt",
        "outputId": "5c7ee35e-baa8-4a5a-efbf-2f07298adec1"
      },
      "source": [
        "MPop_Corr = Updt_getAll_AvgCorr(All_MostPOPRED_List,newUserItem_list,AllSteps,'Updated_UserID')  #,\n",
        "MPop_Corr   ##rerun\n"
      ],
      "execution_count": null,
      "outputs": [
        {
          "output_type": "execute_result",
          "data": {
            "text/plain": [
              "array([array([1., 1., 1., ..., 1., 1., 1.]),\n",
              "       array([1., 1., 1., ..., 1., 1., 1.]),\n",
              "       array([1., 1., 1., ..., 1., 1., 1.]),\n",
              "       array([1., 1., 1., ..., 1., 1., 1.]),\n",
              "       array([0.94467132, 0.94467132, 0.94467132, ..., 0.94467132, 0.94467132,\n",
              "              0.94467132])                                                    ,\n",
              "       array([0.93397092, 0.93397092, 0.93397092, ..., 0.93397092, 0.93397092,\n",
              "              0.93397092])                                                    ,\n",
              "       array([0.94929354, 0.94929354, 0.94929354, ..., 0.94929354, 0.94929354,\n",
              "              0.94929354])                                                    ,\n",
              "       array([1., 1., 1., ..., 1., 1., 1.]),\n",
              "       array([0.91291953, 0.91291953, 0.91291953, ..., 0.91291953, 0.91291953,\n",
              "              0.91291953])                                                    ,\n",
              "       array([0.86789827, 0.86789827, 0.86789827, ..., 0.86789827, 0.86789827,\n",
              "              0.86789827])                                                    ,\n",
              "       array([0.87549231, 0.87549231, 0.87549231, ..., 0.87549231, 0.87549231,\n",
              "              0.87549231])                                                    ,\n",
              "       array([0.98307362, 0.98307362, 0.98307362, ..., 0.98307362, 0.98307362,\n",
              "              0.98307362])                                                    ,\n",
              "       array([0.9526455, 0.9526455, 0.9526455, ..., 0.9526455, 0.9526455,\n",
              "              0.9526455])                                                ,\n",
              "       array([0.97749498, 0.97749498, 0.97749498, ..., 0.97749498, 0.97749498,\n",
              "              0.97749498])                                                    ],\n",
              "      dtype=object)"
            ]
          },
          "metadata": {
            "tags": []
          },
          "execution_count": 217
        }
      ]
    },
    {
      "cell_type": "code",
      "metadata": {
        "id": "aVz6areR8NH0",
        "outputId": "813e828e-7d5e-41f1-9c2b-02cdc99f9dbb"
      },
      "source": [
        "MPop_Corr.shape\n",
        "for df in MPop_Corr:\n",
        "    print(df.mean())  "
      ],
      "execution_count": null,
      "outputs": [
        {
          "output_type": "stream",
          "text": [
            "1.0\n",
            "1.0\n",
            "1.0\n",
            "1.0\n",
            "0.9446713213015414\n",
            "0.9339709157605133\n",
            "0.9492935428495973\n",
            "1.0\n",
            "0.9129195283141116\n",
            "0.8678982664810828\n",
            "0.8754923135560921\n",
            "0.9830736163353037\n",
            "0.9526455026455026\n",
            "0.9774949765572672\n"
          ],
          "name": "stdout"
        }
      ]
    },
    {
      "cell_type": "code",
      "metadata": {
        "id": "kvEzAs238NHt"
      },
      "source": [
        ""
      ],
      "execution_count": null,
      "outputs": []
    },
    {
      "cell_type": "code",
      "metadata": {
        "id": "gshLEV6neh4Y"
      },
      "source": [
        ""
      ],
      "execution_count": null,
      "outputs": []
    }
  ]
}