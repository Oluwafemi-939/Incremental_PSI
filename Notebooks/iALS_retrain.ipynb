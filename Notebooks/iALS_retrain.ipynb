{
  "nbformat": 4,
  "nbformat_minor": 0,
  "metadata": {
    "colab": {
      "name": "Untitled7.ipynb",
      "provenance": []
    },
    "kernelspec": {
      "name": "python392jvsc74a57bd01d40221c0336dfe0c468749ccfbce19a4d0ada951efb74219fd3ebf7d78ddc70",
      "display_name": "Python 3.9.2 64-bit ('PSI_project': conda)"
    },
    "language_info": {
      "name": "python",
      "version": "3.9.2"
    },
    "metadata": {
      "interpreter": {
        "hash": "1d40221c0336dfe0c468749ccfbce19a4d0ada951efb74219fd3ebf7d78ddc70"
      }
    }
  },
  "cells": [
    {
      "cell_type": "markdown",
      "metadata": {
        "id": "g8PK9_VZ3jb5"
      },
      "source": [
        "### Imports"
      ]
    },
    {
      "cell_type": "code",
      "metadata": {
        "id": "_mWI8Kh9kMBc"
      },
      "source": [
        "import os                                  #Hello2021\n",
        "os.environ[\"OMP_NUM_THREADS\"] = \"8\"        #\"export\" OMP_NUM_THREADS=4\n",
        "os.environ[\"OPENBLAS_NUM_THREADS\"] = \"8\"   #\"export\" OPENBLAS_NUM_THREADS=4 \n",
        "os.environ[\"MKL_NUM_THREADS\"] = \"8\"        #\"export\" MKL_NUM_THREADS=6\n",
        "os.environ[\"VECLIB_MAXIMUM_THREADS\"] = \"8\" #\"export\" VECLIB_MAXIMUM_THREADS=4\n",
        "os.environ[\"NUMEXPR_NUM_THREADS\"] = \"8\"    #Hello2021"
      ],
      "execution_count": 1,
      "outputs": []
    },
    {
      "cell_type": "code",
      "metadata": {
        "id": "R3Eqsxu41uKo"
      },
      "source": [
        "import io\n",
        "import os\n",
        "import gzip\n",
        "import json\n",
        "import scipy\n",
        "import random\n",
        "import warnings\n",
        "import numpy as np\n",
        "import numba as nb\n",
        "import pandas as pd\n",
        "import datetime as dt\n",
        "import seaborn as sns\n",
        "from tqdm import tqdm\n",
        "import scipy.stats as st\n",
        "from collections import OrderedDict\n",
        "import scipy.sparse as sparse\n",
        "from scipy.linalg import orth\n",
        "import matplotlib.pyplot as plt\n",
        "from numpy import linalg as lin\n",
        "import implicit\n",
        "import pickle\n",
        "warnings.filterwarnings('ignore')\n",
        "from scipy.sparse import coo_matrix\n",
        "from scipy.sparse.linalg import svds\n",
        "from datetime import datetime as dt_dt\n",
        "from scipy.sparse.linalg import spsolve\n",
        "from numpy.linalg import qr as QR_decomp\n",
        "from scipy.sparse import csr_matrix, find\n",
        "from pandas.api.types import CategoricalDtype\n",
        "from typing import List\n",
        "import torch\n",
        "import torch.nn.functional as F\n",
        "from torch import nn\n",
        "from polara.evaluation.pipelines import random_grid\n",
        "import bottleneck as bn"
      ],
      "execution_count": 2,
      "outputs": []
    },
    {
      "cell_type": "code",
      "metadata": {
        "id": "5yuxxyjZ4dYs"
      },
      "source": [
        "import sys\n",
        "sys.path.append('/home/oolaleke/incremental_PSI/Scripts/')\n",
        "#sys.path.append('/content/')"
      ],
      "execution_count": 3,
      "outputs": []
    },
    {
      "cell_type": "code",
      "metadata": {
        "id": "QFu40Jgr4f8S"
      },
      "source": [
        "import a_DataHelpers\n",
        "import b_AlgoFunctions\n",
        "import c_PredEval\n",
        "import d_CorrScores\n",
        "import e_VAEfunction"
      ],
      "execution_count": 4,
      "outputs": []
    },
    {
      "cell_type": "code",
      "metadata": {
        "id": "5Q7OU7w24kYj"
      },
      "source": [
        "from a_DataHelpers import getPivotMonths,Time_DataSplit,TestTrain_DataSplit,SingleRatingMatrix\n",
        "from a_DataHelpers import AllRatingMatrices,All_SingleStepRatMat,psiStep_RatMat,psiAllStep_RatMat\n",
        "from a_DataHelpers import Find_NewUsersItems,adjustedPSI_DF,adjustedAllDF,get_NEWHoldout,ADJUST_mainDF\n",
        "from a_DataHelpers import  SingleStepRatMat_2,AllSingleStepRatMat_2\n",
        "\n",
        "from b_AlgoFunctions import integrator,getStartingValues,integratorOnMat,last_psiTrainMat, pureSVD\n",
        "from b_AlgoFunctions import Updt_RowMatrix,getRow_Mat,row_update, Updt_ColMatrix,getCol_Mat,colunm_update\n",
        "from b_AlgoFunctions import UsersItems_RatPair,getRowCol_psiupdt,ITEMS_defferredStatus,USERS_defferredStatus\n",
        "from b_AlgoFunctions import getV_listUpdate, SingleStep_UPDATE,ALLSTEPs_UPDATE, auc_score,TrainTest\n",
        "from b_AlgoFunctions import mean_auc,tune_ALS,nonzeros,least_squares_cg,alternating_least_squares_cg\n",
        "\n",
        "from c_PredEval import TopNPred,TQDMgetALLTopNPred, Hitrate_Eval,getAll_HitRate,mean_confidence_interval\n",
        "from c_PredEval import TQDMgetALLTopNPred_ALLUSERS,getALLTopNPred_ALLUSERS,get_ALLRandPred\n",
        "from c_PredEval import topN_Index,getAll_RandomHitRate,getMOSTPOP_Pred,getAll_MostPOPHitRate,getAll_MOSTPOP_Pred\n",
        "from c_PredEval import StepCoverage_Ratio,AllSteps_Coverage_Ratio,getAll_VAEMRR, MRR_Eval,getAll_MRR_Eval\n",
        "from c_PredEval import TQDMgetAll_MRR_Eval, getAll_MostPOP_MRR,getAll_RandomRecMRR, ials_TopNPred,ials_getALLPred\n",
        "from c_PredEval import ials_getALLPredTQDM,ials_ALLUSERSpred,ialsALLPred_ALLUSERS,TQDM_ialsALLPred_ALLUSERS\n",
        "\n",
        "from d_CorrScores import no_copy_csr_matrix,build_rank_weights_matrix,rank_weighted_jaccard_index\n",
        "from d_CorrScores import Updt_getAll_AvgCorr, updtCorr_4AllRanks\n",
        "\n",
        "from e_VAEfunction import split_users, split_train_test, numerize_data, get_TrainRatMat, getTrainTest_RatMat\n"
      ],
      "execution_count": 5,
      "outputs": []
    },
    {
      "cell_type": "markdown",
      "metadata": {
        "id": "sif5LDuJ1m5_"
      },
      "source": [
        "###iALS Functions"
      ]
    },
    {
      "cell_type": "code",
      "metadata": {
        "id": "3NfKN3HB1iap"
      },
      "source": [],
      "execution_count": 22,
      "outputs": []
    },
    {
      "cell_type": "markdown",
      "metadata": {
        "id": "ODuHEi_Yyf59"
      },
      "source": [
        "### Pred & Eval "
      ]
    },
    {
      "cell_type": "code",
      "metadata": {
        "id": "UTDT3YeHgv3F"
      },
      "source": [
        "def topN_Index(a, n):\n",
        "    parted = np.argpartition(a, -n)[-n:]\n",
        "    return parted[np.argsort(-a[parted])]\n",
        "\n",
        "def ials_TopNPred(RatingMat,holdout,users_vec,items_vec,user_column, N):  #N == Top_N\n",
        "    TestUsers = holdout[user_column]            #prediction for holdout users alone\n",
        "    HOLDOUT_usersMat = RatingMat[TestUsers,:]   #this doubles as the \"previously seen items\"\n",
        "    testusers_vec = users_vec[TestUsers, :]\n",
        "    PVVT =  testusers_vec.dot(items_vec.T) \n",
        "    users_column = HOLDOUT_usersMat.nonzero()[0]\n",
        "    items_column = HOLDOUT_usersMat.nonzero()[1]\n",
        "    args = np.array([users_column,items_column])\n",
        "    np.put(PVVT, np.ravel_multi_index(args, PVVT.shape),-np.inf)   #downsample previously seen items\n",
        "    TopN_pred = np.apply_along_axis(topN_Index, 1,PVVT,n = N)\n",
        "    return TopN_pred\n",
        "\n",
        "def ials_getALLPred(RatingMat_List,HOLDOUT_list,U_list,V_list,user_column,N):\n",
        "    All_TOPN_PRED = []\n",
        "    for RatMat,holdout,users_vec,items_vec in zip(RatingMat_List,HOLDOUT_list,U_list,V_list):\n",
        "        TopN_pred =  ials_TopNPred(RatMat,holdout,users_vec,items_vec,user_column, N)  \n",
        "        All_TOPN_PRED.append(TopN_pred)\n",
        "    return All_TOPN_PRED\n",
        "\n",
        "#RatingMat_List,HOLDOUT_list,U_list,V_list,\n",
        "def ials_getALLPredTQDM(RatingMat_List,HOLDOUT_list,U_list,V_list,user_column,N):\n",
        "    All_TOPN_PRED = []\n",
        "    for RatMat,holdout,users_vec,items_vec in tqdm(zip(RatingMat_List,HOLDOUT_list,U_list,V_list)):  \n",
        "        TopN_pred = ials_TopNPred(RatMat,holdout,users_vec,items_vec,user_column, N)\n",
        "        All_TOPN_PRED.append(TopN_pred)\n",
        "    return All_TOPN_PRED\n",
        "\n",
        "def ials_ALLUSERSpred(RatingMat,users_vec,items_vec,N):  ##Prediction for all users ...||Not just Holdout\n",
        "    PVVT =  users_vec.dot(items_vec.T) \n",
        "    users_column = RatingMat.nonzero()[0]\n",
        "    items_column = RatingMat.nonzero()[1]\n",
        "    args = np.array([users_column,items_column])\n",
        "    np.put(PVVT, np.ravel_multi_index(args, PVVT.shape),-np.inf)   ##downsample previously seen items\n",
        "    TopN_pred = np.apply_along_axis(topN_Index, 1,PVVT,n = N)\n",
        "    return TopN_pred\n",
        "\n",
        "def ialsALLPred_ALLUSERS(RatingMat_List,U_list,V_list,N):\n",
        "    All_TOPN_PRED = []\n",
        "    for RatMat,users_vec,items_vec in zip(RatingMat_List,U_list,V_list):  \n",
        "        TopN_pred = ials_ALLUSERSpred(RatMat,users_vec,items_vec,N) \n",
        "        All_TOPN_PRED.append(TopN_pred)\n",
        "    return All_TOPN_PRED\n",
        "\n",
        "def TQDM_ialsALLPred_ALLUSERS(RatingMat_List,V_list,N):\n",
        "    All_TOPN_PRED = []\n",
        "    for RatMat,users_vec,items_vec in tqdm(zip(RatingMat_List,U_list,V_list)):  \n",
        "        TopN_pred = ials_ALLUSERSpred(RatMat,users_vec,items_vec,N) \n",
        "        All_TOPN_PRED.append(TopN_pred)\n",
        "    return All_TOPN_PRED"
      ],
      "execution_count": 15,
      "outputs": []
    },
    {
      "cell_type": "code",
      "execution_count": 17,
      "metadata": {},
      "outputs": [],
      "source": [
        "def getiALS_VUlist(bst_Model,UserItem_RatMAT,alpha):\n",
        "    V_list = []\n",
        "    U_list = []\n",
        "    for RatMAT in tqdm(UserItem_RatMAT):\n",
        "        Item_UsersMAT = (RatMAT.T*alpha).astype('double')\n",
        "        bst_Model.fit(Item_UsersMAT, show_progress=True)                \n",
        "        user_vecs = bst_Model.user_factors\n",
        "        item_vecs = bst_Model.item_factors\n",
        "        V_list.append(item_vecs)\n",
        "        U_list.append(user_vecs)\n",
        "    return V_list,U_list "
      ]
    },
    {
      "cell_type": "markdown",
      "metadata": {
        "id": "7U9zPCau2ojb"
      },
      "source": [
        "###MovieLen_DF"
      ]
    },
    {
      "cell_type": "code",
      "metadata": {
        "id": "iK0cLfBX5uqL"
      },
      "source": [
        "#MOVIElen_20M\n",
        "newMLDF_20M = pd.read_csv('/mnt/bulky/oolaleke/TDM_Dataset/ML_20M/MLDF20M_afterUpdt.csv.zip')\n",
        "newMLDF_20M['timestamp'] = pd.to_datetime(newMLDF_20M['timestamp']) \n",
        "print(newMLDF_20M.shape)   #userId_int\n",
        "print(newMLDF_20M.dtypes)\n",
        "newMLDF_20M.head()"
      ],
      "execution_count": 13,
      "outputs": [
        {
          "output_type": "stream",
          "name": "stdout",
          "text": [
            "(9990682, 9)\nuserid                     int64\nmovieId                    int64\nrating                     int64\ntimestamp         datetime64[ns]\ntimestamp_YM              object\nuserId                     int64\nproductId                  int64\nUpdated_UserID             int64\nUpdated_ItemID             int64\ndtype: object\n"
          ]
        },
        {
          "output_type": "execute_result",
          "data": {
            "text/plain": [
              "   userid  movieId  rating           timestamp timestamp_YM  userId  \\\n",
              "0   28507     1176       1 1995-01-09 11:46:44      1995-01       0   \n",
              "1  131160       47       1 1995-01-09 11:46:49      1995-01       1   \n",
              "2   85252       70       1 1996-01-29 00:00:00      1996-01       2   \n",
              "3  134445       45       1 1996-01-29 00:00:00      1996-01       3   \n",
              "4   99851       10       1 1996-01-29 00:00:00      1996-01       4   \n",
              "\n",
              "   productId  Updated_UserID  Updated_ItemID  \n",
              "0          0               0               0  \n",
              "1          1               1               1  \n",
              "2          2               2               2  \n",
              "3          3               3               3  \n",
              "4          4               4               4  "
            ],
            "text/html": "<div>\n<style scoped>\n    .dataframe tbody tr th:only-of-type {\n        vertical-align: middle;\n    }\n\n    .dataframe tbody tr th {\n        vertical-align: top;\n    }\n\n    .dataframe thead th {\n        text-align: right;\n    }\n</style>\n<table border=\"1\" class=\"dataframe\">\n  <thead>\n    <tr style=\"text-align: right;\">\n      <th></th>\n      <th>userid</th>\n      <th>movieId</th>\n      <th>rating</th>\n      <th>timestamp</th>\n      <th>timestamp_YM</th>\n      <th>userId</th>\n      <th>productId</th>\n      <th>Updated_UserID</th>\n      <th>Updated_ItemID</th>\n    </tr>\n  </thead>\n  <tbody>\n    <tr>\n      <th>0</th>\n      <td>28507</td>\n      <td>1176</td>\n      <td>1</td>\n      <td>1995-01-09 11:46:44</td>\n      <td>1995-01</td>\n      <td>0</td>\n      <td>0</td>\n      <td>0</td>\n      <td>0</td>\n    </tr>\n    <tr>\n      <th>1</th>\n      <td>131160</td>\n      <td>47</td>\n      <td>1</td>\n      <td>1995-01-09 11:46:49</td>\n      <td>1995-01</td>\n      <td>1</td>\n      <td>1</td>\n      <td>1</td>\n      <td>1</td>\n    </tr>\n    <tr>\n      <th>2</th>\n      <td>85252</td>\n      <td>70</td>\n      <td>1</td>\n      <td>1996-01-29 00:00:00</td>\n      <td>1996-01</td>\n      <td>2</td>\n      <td>2</td>\n      <td>2</td>\n      <td>2</td>\n    </tr>\n    <tr>\n      <th>3</th>\n      <td>134445</td>\n      <td>45</td>\n      <td>1</td>\n      <td>1996-01-29 00:00:00</td>\n      <td>1996-01</td>\n      <td>3</td>\n      <td>3</td>\n      <td>3</td>\n      <td>3</td>\n    </tr>\n    <tr>\n      <th>4</th>\n      <td>99851</td>\n      <td>10</td>\n      <td>1</td>\n      <td>1996-01-29 00:00:00</td>\n      <td>1996-01</td>\n      <td>4</td>\n      <td>4</td>\n      <td>4</td>\n      <td>4</td>\n    </tr>\n  </tbody>\n</table>\n</div>"
          },
          "metadata": {},
          "execution_count": 13
        }
      ]
    },
    {
      "cell_type": "code",
      "metadata": {
        "id": "RoziaV1C6HsY"
      },
      "source": [
        "import pickle\n",
        "\n",
        "with open('/mnt/bulky/oolaleke/TDM_Dataset/ML_20M/MLDF20M_newHoldout.pkl', 'rb') as f:\n",
        "     newHoldout_list = pickle.load(f)     \n",
        "    \n",
        "with open('/mnt/bulky/oolaleke/TDM_Dataset/ML_20M/MLDF20M_newUserItem.pkl', 'rb') as f:\n",
        "     newUserItem_list = pickle.load(f)\n"
      ],
      "execution_count": 14,
      "outputs": []
    },
    {
      "cell_type": "code",
      "metadata": {
        "id": "s9tQo7Re6K13"
      },
      "source": [
        "rows_i = newMLDF_20M['Updated_UserID'].nunique()\n",
        "cols_i = newMLDF_20M['Updated_ItemID'].nunique()\n",
        "UserItem_MATList = AllRatingMatrices(newUserItem_list,'Updated_UserID','Updated_ItemID',rows_i ,cols_i) \n",
        "print(len(UserItem_MATList))   \n",
        "UserItem_MATList"
      ],
      "execution_count": 15,
      "outputs": [
        {
          "output_type": "stream",
          "name": "stdout",
          "text": [
            "15\n"
          ]
        },
        {
          "output_type": "execute_result",
          "data": {
            "text/plain": [
              "[<136677x20720 sparse matrix of type '<class 'numpy.float64'>'\n",
              " \twith 8865107 stored elements in Compressed Sparse Row format>,\n",
              " <136677x20720 sparse matrix of type '<class 'numpy.float64'>'\n",
              " \twith 8945455 stored elements in Compressed Sparse Row format>,\n",
              " <136677x20720 sparse matrix of type '<class 'numpy.float64'>'\n",
              " \twith 9025842 stored elements in Compressed Sparse Row format>,\n",
              " <136677x20720 sparse matrix of type '<class 'numpy.float64'>'\n",
              " \twith 9106051 stored elements in Compressed Sparse Row format>,\n",
              " <136677x20720 sparse matrix of type '<class 'numpy.float64'>'\n",
              " \twith 9186201 stored elements in Compressed Sparse Row format>,\n",
              " <136677x20720 sparse matrix of type '<class 'numpy.float64'>'\n",
              " \twith 9266468 stored elements in Compressed Sparse Row format>,\n",
              " <136677x20720 sparse matrix of type '<class 'numpy.float64'>'\n",
              " \twith 9346597 stored elements in Compressed Sparse Row format>,\n",
              " <136677x20720 sparse matrix of type '<class 'numpy.float64'>'\n",
              " \twith 9426837 stored elements in Compressed Sparse Row format>,\n",
              " <136677x20720 sparse matrix of type '<class 'numpy.float64'>'\n",
              " \twith 9506974 stored elements in Compressed Sparse Row format>,\n",
              " <136677x20720 sparse matrix of type '<class 'numpy.float64'>'\n",
              " \twith 9586957 stored elements in Compressed Sparse Row format>,\n",
              " <136677x20720 sparse matrix of type '<class 'numpy.float64'>'\n",
              " \twith 9667299 stored elements in Compressed Sparse Row format>,\n",
              " <136677x20720 sparse matrix of type '<class 'numpy.float64'>'\n",
              " \twith 9747689 stored elements in Compressed Sparse Row format>,\n",
              " <136677x20720 sparse matrix of type '<class 'numpy.float64'>'\n",
              " \twith 9828194 stored elements in Compressed Sparse Row format>,\n",
              " <136677x20720 sparse matrix of type '<class 'numpy.float64'>'\n",
              " \twith 9908522 stored elements in Compressed Sparse Row format>,\n",
              " <136677x20720 sparse matrix of type '<class 'numpy.float64'>'\n",
              " \twith 9987952 stored elements in Compressed Sparse Row format>]"
            ]
          },
          "metadata": {},
          "execution_count": 15
        }
      ]
    },
    {
      "cell_type": "code",
      "metadata": {
        "id": "araDv5FJ2oHV"
      },
      "source": [
        "## latent factors= 10 ,regularization = 0.01:, n_iter = 30, alpha = 100,\n",
        "rank=10\n",
        "alpha=100\n",
        "reglr=0.01\n",
        "iter=30"
      ],
      "execution_count": 27,
      "outputs": []
    },
    {
      "cell_type": "code",
      "execution_count": 28,
      "metadata": {},
      "outputs": [
        {
          "output_type": "execute_result",
          "data": {
            "text/plain": [
              "<implicit.als.AlternatingLeastSquares at 0x7f1e735e9070>"
            ]
          },
          "metadata": {},
          "execution_count": 28
        }
      ],
      "source": [
        "best_model = implicit.als.AlternatingLeastSquares(factors=rank, regularization=reglr, iterations=iter,use_gpu = False)\n",
        "best_model"
      ]
    },
    {
      "cell_type": "code",
      "execution_count": 63,
      "metadata": {},
      "outputs": [],
      "source": []
    },
    {
      "cell_type": "code",
      "metadata": {
        "id": "PaYaB2zJ5Kpf"
      },
      "source": [
        "V_list,U_list  = getiALS_VUlist(best_model,UserItem_MATList,alpha)\n",
        "print(len(V_list),len(U_list))"
      ],
      "execution_count": 30,
      "outputs": [
        {
          "output_type": "stream",
          "name": "stderr",
          "text": [
            "  0%|          | 0/15 [00:00<?, ?it/s]"
          ]
        },
        {
          "output_type": "display_data",
          "data": {
            "text/plain": "  0%|          | 0/30 [00:00<?, ?it/s]",
            "application/vnd.jupyter.widget-view+json": {
              "version_major": 2,
              "version_minor": 0,
              "model_id": "e8e58e71a10840dea7af2c9f8174e97d"
            }
          },
          "metadata": {}
        },
        {
          "output_type": "stream",
          "name": "stderr",
          "text": [
            "  7%|▋         | 1/15 [02:22<33:09, 142.08s/it]"
          ]
        },
        {
          "output_type": "display_data",
          "data": {
            "text/plain": "  0%|          | 0/30 [00:00<?, ?it/s]",
            "application/vnd.jupyter.widget-view+json": {
              "version_major": 2,
              "version_minor": 0,
              "model_id": "411f2525c234401eb31794f635577c8e"
            }
          },
          "metadata": {}
        },
        {
          "output_type": "stream",
          "name": "stderr",
          "text": [
            " 13%|█▎        | 2/15 [04:41<30:28, 140.66s/it]"
          ]
        },
        {
          "output_type": "display_data",
          "data": {
            "text/plain": "  0%|          | 0/30 [00:00<?, ?it/s]",
            "application/vnd.jupyter.widget-view+json": {
              "version_major": 2,
              "version_minor": 0,
              "model_id": "4ba39b1062464241ace3386c9ea5a065"
            }
          },
          "metadata": {}
        },
        {
          "output_type": "stream",
          "name": "stderr",
          "text": [
            " 20%|██        | 3/15 [07:08<28:43, 143.62s/it]"
          ]
        },
        {
          "output_type": "display_data",
          "data": {
            "text/plain": "  0%|          | 0/30 [00:00<?, ?it/s]",
            "application/vnd.jupyter.widget-view+json": {
              "version_major": 2,
              "version_minor": 0,
              "model_id": "8bede24ac1a5421e866eab43bfd5e2f5"
            }
          },
          "metadata": {}
        },
        {
          "output_type": "stream",
          "name": "stderr",
          "text": [
            " 27%|██▋       | 4/15 [09:32<26:20, 143.66s/it]"
          ]
        },
        {
          "output_type": "display_data",
          "data": {
            "text/plain": "  0%|          | 0/30 [00:00<?, ?it/s]",
            "application/vnd.jupyter.widget-view+json": {
              "version_major": 2,
              "version_minor": 0,
              "model_id": "5b7e814f6d44443fa0e6ba6b3e3a78e6"
            }
          },
          "metadata": {}
        },
        {
          "output_type": "stream",
          "name": "stderr",
          "text": [
            " 33%|███▎      | 5/15 [12:00<24:11, 145.11s/it]"
          ]
        },
        {
          "output_type": "display_data",
          "data": {
            "text/plain": "  0%|          | 0/30 [00:00<?, ?it/s]",
            "application/vnd.jupyter.widget-view+json": {
              "version_major": 2,
              "version_minor": 0,
              "model_id": "29fd8e76be0443318ba59173ee024b19"
            }
          },
          "metadata": {}
        },
        {
          "output_type": "stream",
          "name": "stderr",
          "text": [
            " 40%|████      | 6/15 [14:20<21:30, 143.39s/it]"
          ]
        },
        {
          "output_type": "display_data",
          "data": {
            "text/plain": "  0%|          | 0/30 [00:00<?, ?it/s]",
            "application/vnd.jupyter.widget-view+json": {
              "version_major": 2,
              "version_minor": 0,
              "model_id": "1f9afcefd60a402cadf68ea1b915add2"
            }
          },
          "metadata": {}
        },
        {
          "output_type": "stream",
          "name": "stderr",
          "text": [
            " 47%|████▋     | 7/15 [16:45<19:10, 143.82s/it]"
          ]
        },
        {
          "output_type": "display_data",
          "data": {
            "text/plain": "  0%|          | 0/30 [00:00<?, ?it/s]",
            "application/vnd.jupyter.widget-view+json": {
              "version_major": 2,
              "version_minor": 0,
              "model_id": "1b32bc3704ab4ad5b76c687a7603d040"
            }
          },
          "metadata": {}
        },
        {
          "output_type": "stream",
          "name": "stderr",
          "text": [
            " 53%|█████▎    | 8/15 [19:16<17:04, 146.36s/it]"
          ]
        },
        {
          "output_type": "display_data",
          "data": {
            "text/plain": "  0%|          | 0/30 [00:00<?, ?it/s]",
            "application/vnd.jupyter.widget-view+json": {
              "version_major": 2,
              "version_minor": 0,
              "model_id": "fcfa227dee9b4fc98ac3a594f20bfe7b"
            }
          },
          "metadata": {}
        },
        {
          "output_type": "stream",
          "name": "stderr",
          "text": [
            " 60%|██████    | 9/15 [21:48<14:47, 147.87s/it]"
          ]
        },
        {
          "output_type": "display_data",
          "data": {
            "text/plain": "  0%|          | 0/30 [00:00<?, ?it/s]",
            "application/vnd.jupyter.widget-view+json": {
              "version_major": 2,
              "version_minor": 0,
              "model_id": "36d4c594afdf4f69a1bf9ca4571948f0"
            }
          },
          "metadata": {}
        },
        {
          "output_type": "stream",
          "name": "stderr",
          "text": [
            " 67%|██████▋   | 10/15 [24:20<12:26, 149.35s/it]"
          ]
        },
        {
          "output_type": "display_data",
          "data": {
            "text/plain": "  0%|          | 0/30 [00:00<?, ?it/s]",
            "application/vnd.jupyter.widget-view+json": {
              "version_major": 2,
              "version_minor": 0,
              "model_id": "9c30dbd60e6447aaaae762cf0b09ee6c"
            }
          },
          "metadata": {}
        },
        {
          "output_type": "stream",
          "name": "stderr",
          "text": [
            " 73%|███████▎  | 11/15 [26:48<09:55, 148.89s/it]"
          ]
        },
        {
          "output_type": "display_data",
          "data": {
            "text/plain": "  0%|          | 0/30 [00:00<?, ?it/s]",
            "application/vnd.jupyter.widget-view+json": {
              "version_major": 2,
              "version_minor": 0,
              "model_id": "d35e9fbfad4749f9960c3f97eb3587b6"
            }
          },
          "metadata": {}
        },
        {
          "output_type": "stream",
          "name": "stderr",
          "text": [
            " 80%|████████  | 12/15 [29:24<07:33, 151.10s/it]"
          ]
        },
        {
          "output_type": "display_data",
          "data": {
            "text/plain": "  0%|          | 0/30 [00:00<?, ?it/s]",
            "application/vnd.jupyter.widget-view+json": {
              "version_major": 2,
              "version_minor": 0,
              "model_id": "92ae056459794c25a7eaf0de6f426035"
            }
          },
          "metadata": {}
        },
        {
          "output_type": "stream",
          "name": "stderr",
          "text": [
            " 87%|████████▋ | 13/15 [32:05<05:08, 154.15s/it]"
          ]
        },
        {
          "output_type": "display_data",
          "data": {
            "text/plain": "  0%|          | 0/30 [00:00<?, ?it/s]",
            "application/vnd.jupyter.widget-view+json": {
              "version_major": 2,
              "version_minor": 0,
              "model_id": "67dfb90b83604c3d8580312a4a675201"
            }
          },
          "metadata": {}
        },
        {
          "output_type": "stream",
          "name": "stderr",
          "text": [
            " 93%|█████████▎| 14/15 [34:42<02:35, 155.03s/it]"
          ]
        },
        {
          "output_type": "display_data",
          "data": {
            "text/plain": "  0%|          | 0/30 [00:00<?, ?it/s]",
            "application/vnd.jupyter.widget-view+json": {
              "version_major": 2,
              "version_minor": 0,
              "model_id": "3638734abf734f448d64875c31fea700"
            }
          },
          "metadata": {}
        },
        {
          "output_type": "stream",
          "name": "stderr",
          "text": [
            "100%|██████████| 15/15 [37:21<00:00, 149.44s/it]15 15\n",
            "\n"
          ]
        }
      ]
    },
    {
      "cell_type": "code",
      "metadata": {
        "id": "9qICRcwQ26N_"
      },
      "source": [
        "print(V_list[0].shape)\n",
        "V_list[0]"
      ],
      "execution_count": 31,
      "outputs": [
        {
          "output_type": "stream",
          "name": "stdout",
          "text": [
            "(20720, 10)\n"
          ]
        },
        {
          "output_type": "execute_result",
          "data": {
            "text/plain": [
              "array([[ 0.00138654, -0.00662851,  0.01164053, ..., -0.00381399,\n",
              "        -0.010678  ,  0.03700994],\n",
              "       [ 0.00406693,  0.0204256 , -0.0213815 , ..., -0.01375093,\n",
              "         0.02026875,  0.02027158],\n",
              "       [ 0.02341511, -0.00670435,  0.03356945, ..., -0.00883616,\n",
              "         0.02762147,  0.01500012],\n",
              "       ...,\n",
              "       [ 0.00015684, -0.0007066 , -0.00023933, ...,  0.00029181,\n",
              "         0.00024318,  0.00025619],\n",
              "       [ 0.00015684, -0.0007066 , -0.00023933, ...,  0.00029181,\n",
              "         0.00024318,  0.00025619],\n",
              "       [ 0.00015684, -0.0007066 , -0.00023933, ...,  0.00029181,\n",
              "         0.00024318,  0.00025619]], dtype=float32)"
            ]
          },
          "metadata": {},
          "execution_count": 31
        }
      ]
    },
    {
      "cell_type": "code",
      "metadata": {
        "id": "w3mtqU9W26Hm"
      },
      "source": [
        "print(U_list[0].shape)\n",
        "U_list[0] "
      ],
      "execution_count": 32,
      "outputs": [
        {
          "output_type": "stream",
          "name": "stdout",
          "text": [
            "(136677, 10)\n"
          ]
        },
        {
          "output_type": "execute_result",
          "data": {
            "text/plain": [
              "array([[ 0.42321783,  8.065394  , -1.5808942 , ...,  0.07281416,\n",
              "         6.4723053 , 10.490261  ],\n",
              "       [ 1.6069639 ,  5.6425533 , -1.7833235 , ..., -2.7991807 ,\n",
              "         3.5406559 ,  2.6793363 ],\n",
              "       [ 2.2058923 , 11.1626215 , -3.0424585 , ...,  0.9013025 ,\n",
              "         8.036954  ,  7.0253887 ],\n",
              "       ...,\n",
              "       [-0.56736726, -1.4833525 , -2.1427412 , ..., -2.8038988 ,\n",
              "         2.6899655 ,  3.239953  ],\n",
              "       [-1.3589827 ,  1.2417485 , -0.49268597, ..., -3.454316  ,\n",
              "         0.3824782 ,  6.3518124 ],\n",
              "       [ 5.8199673 , -2.5476768 , -0.32295978, ..., -1.9410455 ,\n",
              "         4.8684196 ,  9.782213  ]], dtype=float32)"
            ]
          },
          "metadata": {},
          "execution_count": 32
        }
      ]
    },
    {
      "cell_type": "code",
      "metadata": {
        "id": "rr7COiPw5UPv"
      },
      "source": [],
      "execution_count": null,
      "outputs": []
    },
    {
      "cell_type": "code",
      "metadata": {
        "id": "FAKHEKJd5ULU"
      },
      "source": [
        "top10_pred = ials_TopNPred(UserItem_MATList[0],newHoldout_list[0],U_list[0],V_list[0],'Updated_UserID', N=10)\n",
        "print(top10_pred.shape)\n",
        "top10_pred"
      ],
      "execution_count": 33,
      "outputs": [
        {
          "output_type": "stream",
          "name": "stdout",
          "text": [
            "(3459, 10)\n"
          ]
        },
        {
          "output_type": "execute_result",
          "data": {
            "text/plain": [
              "array([[ 9142,  1565,  8982, ...,  8135, 15992,  8311],\n",
              "       [  914,  2924,    62, ...,   406,  2996,  2714],\n",
              "       [  146,  1027,  1310, ...,  1024,  6943,  7800],\n",
              "       ...,\n",
              "       [   78,    76,   149, ...,    20,  1062,   269],\n",
              "       [ 1624,  9781,  2630, ...,  2378,  6760,  4724],\n",
              "       [ 2008,  2547,  2235, ...,  3344,  2401,  2836]])"
            ]
          },
          "metadata": {},
          "execution_count": 33
        }
      ]
    },
    {
      "cell_type": "code",
      "metadata": {
        "id": "BiMSFIhX5UED"
      },
      "source": [
        "Hitrate_Eval(newHoldout_list[0],top10_pred,'Updated_UserID','Updated_ItemID')  #"
      ],
      "execution_count": 36,
      "outputs": [
        {
          "output_type": "stream",
          "name": "stdout",
          "text": [
            "Number of hits:  141\nTotal Num of users:  3459\nRecommendation HitRate:  0.040763226366001735\n"
          ]
        },
        {
          "output_type": "execute_result",
          "data": {
            "text/plain": [
              "0.040763226366001735"
            ]
          },
          "metadata": {},
          "execution_count": 36
        }
      ]
    },
    {
      "cell_type": "code",
      "execution_count": null,
      "metadata": {},
      "outputs": [],
      "source": [
        "##HitRate"
      ]
    },
    {
      "cell_type": "code",
      "metadata": {
        "id": "pafnUlEE25LS"
      },
      "source": [
        "All_ialsPRED = ials_getALLPredTQDM(UserItem_MATList,newHoldout_list,U_list,V_list,'Updated_UserID',N=10)\n",
        "print(len(All_ialsPRED))\n"
      ],
      "execution_count": 37,
      "outputs": [
        {
          "output_type": "stream",
          "name": "stderr",
          "text": [
            "15it [00:08,  1.79it/s]15\n",
            "\n"
          ]
        }
      ]
    },
    {
      "cell_type": "code",
      "metadata": {
        "id": "9_YFQtZZ278q"
      },
      "source": [
        "AllSteps_Hitrate_iALS, LowerBand, Avg_HitRate, UpperBand   = getAll_HitRate(newHoldout_list,All_ialsPRED,'Updated_UserID','Updated_ItemID')"
      ],
      "execution_count": 38,
      "outputs": [
        {
          "output_type": "stream",
          "name": "stdout",
          "text": [
            "Number of hits:  141\nTotal Num of users:  3459\nRecommendation HitRate:  0.040763226366001735\nNumber of hits:  133\nTotal Num of users:  3311\nRecommendation HitRate:  0.040169133192389\nNumber of hits:  128\nTotal Num of users:  3124\nRecommendation HitRate:  0.040973111395646605\nNumber of hits:  137\nTotal Num of users:  3115\nRecommendation HitRate:  0.043980738362760834\nNumber of hits:  137\nTotal Num of users:  3165\nRecommendation HitRate:  0.04328593996840442\nNumber of hits:  111\nTotal Num of users:  3098\nRecommendation HitRate:  0.035829567462879276\nNumber of hits:  118\nTotal Num of users:  3169\nRecommendation HitRate:  0.0372357210476491\nNumber of hits:  144\nTotal Num of users:  3129\nRecommendation HitRate:  0.046021093000958774\nNumber of hits:  142\nTotal Num of users:  3192\nRecommendation HitRate:  0.044486215538847115\nNumber of hits:  157\nTotal Num of users:  3409\nRecommendation HitRate:  0.04605456145497213\nNumber of hits:  127\nTotal Num of users:  3267\nRecommendation HitRate:  0.03887358432812978\nNumber of hits:  127\nTotal Num of users:  3077\nRecommendation HitRate:  0.04127396815079623\nNumber of hits:  126\nTotal Num of users:  2772\nRecommendation HitRate:  0.045454545454545456\nNumber of hits:  105\nTotal Num of users:  2644\nRecommendation HitRate:  0.0397125567322239\nNumber of hits:  94\nTotal Num of users:  2730\nRecommendation HitRate:  0.034432234432234435\nAverage HitRate for All Recommendations:  0.04123641312589592\n"
          ]
        }
      ]
    },
    {
      "cell_type": "code",
      "metadata": {
        "id": "sPXf3c2u3AJZ"
      },
      "source": [
        "AllSteps_Hitrate_iALS"
      ],
      "execution_count": 39,
      "outputs": [
        {
          "output_type": "execute_result",
          "data": {
            "text/plain": [
              "[0.040763226366001735,\n",
              " 0.040169133192389,\n",
              " 0.040973111395646605,\n",
              " 0.043980738362760834,\n",
              " 0.04328593996840442,\n",
              " 0.035829567462879276,\n",
              " 0.0372357210476491,\n",
              " 0.046021093000958774,\n",
              " 0.044486215538847115,\n",
              " 0.04605456145497213,\n",
              " 0.03887358432812978,\n",
              " 0.04127396815079623,\n",
              " 0.045454545454545456,\n",
              " 0.0397125567322239,\n",
              " 0.034432234432234435]"
            ]
          },
          "metadata": {},
          "execution_count": 39
        }
      ]
    },
    {
      "cell_type": "code",
      "execution_count": null,
      "metadata": {},
      "outputs": [],
      "source": []
    },
    {
      "cell_type": "code",
      "execution_count": 40,
      "metadata": {},
      "outputs": [
        {
          "output_type": "stream",
          "name": "stdout",
          "text": [
            "15\n"
          ]
        },
        {
          "output_type": "execute_result",
          "data": {
            "text/plain": [
              "[array([[ 140,   17,  151, ...,   76,  108,   15],\n",
              "        [  42,   19,   50, ...,  149,   58,  110],\n",
              "        [ 304,  124, 1255, ...,  108,  195,   22],\n",
              "        ...,\n",
              "        [  78,  149,  105, ...,  861, 1062,   58],\n",
              "        [4724, 4750, 2770, ..., 2378, 9781, 4137],\n",
              "        [  78,   76,  149, ...,   92, 9781,   14]]),\n",
              " array([[ 140,   17,  151, ...,   76,  108,   15],\n",
              "        [  42,   19,   50, ...,  149,   58,  110],\n",
              "        [ 304,  124, 1255, ...,  108,  195,   22],\n",
              "        ...,\n",
              "        [  78,  149,  105, ...,  861, 1062,   58],\n",
              "        [4724, 4750, 2770, ..., 2378, 9781, 4137],\n",
              "        [  78,   76,  149, ...,   92, 9781,   14]])]"
            ]
          },
          "metadata": {},
          "execution_count": 40
        }
      ],
      "source": [
        "##All prediction:\n",
        "All_alsPRED_List = ialsALLPred_ALLUSERS(UserItem_MATList,U_list,V_list,N=10)  \n",
        "print(len(All_alsPRED_List))\n",
        "All_alsPRED_List[:2]"
      ]
    },
    {
      "cell_type": "code",
      "execution_count": 41,
      "metadata": {},
      "outputs": [
        {
          "output_type": "execute_result",
          "data": {
            "text/plain": [
              "(136677, 10)"
            ]
          },
          "metadata": {},
          "execution_count": 41
        }
      ],
      "source": [
        "All_alsPRED_List[0].shape"
      ]
    },
    {
      "cell_type": "code",
      "execution_count": 45,
      "metadata": {},
      "outputs": [],
      "source": [
        "with open('/mnt/bulky/oolaleke/TDM_Dataset/ML_20M/MLDF20M_ialsRT_allPRED.pkl', 'wb') as f:\n",
        "     pickle.dump(All_alsPRED_List, f)\n"
      ]
    },
    {
      "cell_type": "code",
      "execution_count": 44,
      "metadata": {},
      "outputs": [
        {
          "output_type": "stream",
          "name": "stderr",
          "text": [
            "15it [00:00, 504.51it/s]\n"
          ]
        },
        {
          "output_type": "execute_result",
          "data": {
            "text/plain": [
              "[0.015236,\n",
              " 0.013069,\n",
              " 0.013784,\n",
              " 0.015161,\n",
              " 0.013493,\n",
              " 0.010798,\n",
              " 0.011916,\n",
              " 0.013365,\n",
              " 0.016248,\n",
              " 0.014866,\n",
              " 0.0151,\n",
              " 0.011921,\n",
              " 0.016177,\n",
              " 0.01458,\n",
              " 0.011589]"
            ]
          },
          "metadata": {},
          "execution_count": 44
        }
      ],
      "source": [
        "##mrr\n",
        "#als_AllStepsHitR_, als_LBand, als_AvgHitR, als_UBand \n",
        "als_AllStepsMRR, als_LBand, als_AvgMRR, als_UBand  = TQDMgetAll_MRR_Eval(newHoldout_list,All_ialsPRED,'Updated_ItemID')\n",
        "als_AllStepsMRR    "
      ]
    },
    {
      "cell_type": "code",
      "execution_count": 46,
      "metadata": {},
      "outputs": [
        {
          "output_type": "execute_result",
          "data": {
            "text/plain": [
              "[0.118147,\n",
              " 0.118098,\n",
              " 0.118147,\n",
              " 0.118243,\n",
              " 0.118195,\n",
              " 0.11834,\n",
              " 0.118436,\n",
              " 0.118533,\n",
              " 0.118678,\n",
              " 0.118871,\n",
              " 0.118967,\n",
              " 0.118822,\n",
              " 0.119015,\n",
              " 0.11916,\n",
              " 0.119353]"
            ]
          },
          "metadata": {},
          "execution_count": 46
        }
      ],
      "source": [
        "##Coverage\n",
        "###cOVERAGE:\n",
        "als_AvgCovList = AllSteps_Coverage_Ratio(newMLDF_20M,All_alsPRED_List,'Updated_ItemID')\n",
        "als_AvgCovList"
      ]
    },
    {
      "cell_type": "code",
      "execution_count": 48,
      "metadata": {},
      "outputs": [
        {
          "output_type": "stream",
          "name": "stdout",
          "text": [
            "14\n"
          ]
        },
        {
          "output_type": "execute_result",
          "data": {
            "text/plain": [
              "[1, 2, 3, 4, 5, 6, 7, 8, 9, 10, 11, 12, 13, 14]"
            ]
          },
          "metadata": {},
          "execution_count": 48
        }
      ],
      "source": [
        "AllSteps = list(range(1,15))\n",
        "print(len(AllSteps))\n",
        "AllSteps"
      ]
    },
    {
      "cell_type": "code",
      "execution_count": 49,
      "metadata": {},
      "outputs": [
        {
          "output_type": "execute_result",
          "data": {
            "text/plain": [
              "array([array([1.        , 1.        , 1.        , ..., 0.91813929, 1.        ,\n",
              "              1.        ])                                                    ,\n",
              "       array([1., 1., 1., ..., 1., 1., 1.]),\n",
              "       array([1., 1., 1., ..., 1., 1., 1.]),\n",
              "       array([1.        , 1.        , 1.        , ..., 0.69056344, 0.6699095 ,\n",
              "              0.08321104])                                                    ,\n",
              "       array([1.        , 1.        , 1.        , ..., 0.31733   , 0.91813929,\n",
              "              0.70363531])                                                    ,\n",
              "       array([1.        , 1.        , 1.        , ..., 0.56625995, 1.        ,\n",
              "              0.90698876])                                                    ,\n",
              "       array([1.        , 1.        , 1.        , ..., 0.7956453 , 1.        ,\n",
              "              0.87216233])                                                    ,\n",
              "       array([1.        , 1.        , 1.        , ..., 0.70836709, 0.91813929,\n",
              "              0.09526636])                                                    ,\n",
              "       array([1.        , 1.        , 1.        , ..., 0.93397092, 1.        ,\n",
              "              1.        ])                                                    ,\n",
              "       array([1.        , 1.        , 1.        , ..., 1.        , 1.        ,\n",
              "              0.70836709])                                                    ,\n",
              "       array([1.        , 1.        , 1.        , ..., 1.        , 0.62487617,\n",
              "              1.        ])                                                    ,\n",
              "       array([1.        , 1.        , 1.        , ..., 1.        , 1.        ,\n",
              "              0.07516387])                                                    ,\n",
              "       array([1.        , 1.        , 1.        , ..., 1.        , 0.44498825,\n",
              "              0.93397092])                                                    ,\n",
              "       array([1., 1., 1., ..., 1., 1., 1.])], dtype=object)"
            ]
          },
          "metadata": {},
          "execution_count": 49
        }
      ],
      "source": [
        "UpdtPSICorr_ = Updt_getAll_AvgCorr(All_alsPRED_List,newUserItem_list,AllSteps,'Updated_UserID')  #,\n",
        "UpdtPSICorr_"
      ]
    },
    {
      "cell_type": "code",
      "execution_count": null,
      "metadata": {},
      "outputs": [],
      "source": []
    },
    {
      "cell_type": "code",
      "execution_count": 50,
      "metadata": {},
      "outputs": [
        {
          "output_type": "stream",
          "name": "stdout",
          "text": [
            "0.9987890598388818\n0.999111298344693\n0.9989668104384218\n0.9990022883774632\n0.9990717473639525\n0.9990228969406075\n0.9991534365690912\n0.9992754676882192\n0.9990608570015678\n0.9989781160470768\n0.9991394551052235\n0.9988572673328814\n0.998916032129617\n0.999253391753015\n"
          ]
        }
      ],
      "source": [
        "UpdtPSICorr_.shape\n",
        "for df in UpdtPSICorr_:\n",
        "    print(df.mean())  "
      ]
    },
    {
      "cell_type": "markdown",
      "metadata": {
        "id": "7neRWSyp2ru2"
      },
      "source": [
        "###Amz_Beauty"
      ]
    },
    {
      "cell_type": "code",
      "execution_count": 84,
      "metadata": {},
      "outputs": [],
      "source": [
        "#AMZBty\n",
        "newAMZB_DF = pd.read_csv('/mnt/bulky/oolaleke/TDM_Dataset/AMZ_Btyfiles/AMZB_afterUpdt.csv')"
      ]
    },
    {
      "cell_type": "code",
      "execution_count": 85,
      "metadata": {},
      "outputs": [],
      "source": [
        "import pickle\n",
        "\n",
        "with open('/mnt/bulky/oolaleke/TDM_Dataset/AMZ_Btyfiles/AMZB_newHoldout.pkl', 'rb') as f:\n",
        "     newHoldout_list = pickle.load(f)     \n",
        "    \n",
        "with open('/mnt/bulky/oolaleke/TDM_Dataset/AMZ_Btyfiles/AMZB_newUserItem.pkl', 'rb') as f:\n",
        "     newUserItem_list = pickle.load(f)"
      ]
    },
    {
      "cell_type": "code",
      "execution_count": 86,
      "metadata": {},
      "outputs": [
        {
          "output_type": "stream",
          "name": "stdout",
          "text": [
            "10\n"
          ]
        },
        {
          "output_type": "execute_result",
          "data": {
            "text/plain": [
              "[<22557x8109 sparse matrix of type '<class 'numpy.float64'>'\n",
              " \twith 40228 stored elements in Compressed Sparse Row format>,\n",
              " <22557x8109 sparse matrix of type '<class 'numpy.float64'>'\n",
              " \twith 41330 stored elements in Compressed Sparse Row format>,\n",
              " <22557x8109 sparse matrix of type '<class 'numpy.float64'>'\n",
              " \twith 42432 stored elements in Compressed Sparse Row format>,\n",
              " <22557x8109 sparse matrix of type '<class 'numpy.float64'>'\n",
              " \twith 43525 stored elements in Compressed Sparse Row format>,\n",
              " <22557x8109 sparse matrix of type '<class 'numpy.float64'>'\n",
              " \twith 44665 stored elements in Compressed Sparse Row format>,\n",
              " <22557x8109 sparse matrix of type '<class 'numpy.float64'>'\n",
              " \twith 45752 stored elements in Compressed Sparse Row format>,\n",
              " <22557x8109 sparse matrix of type '<class 'numpy.float64'>'\n",
              " \twith 47034 stored elements in Compressed Sparse Row format>,\n",
              " <22557x8109 sparse matrix of type '<class 'numpy.float64'>'\n",
              " \twith 48112 stored elements in Compressed Sparse Row format>,\n",
              " <22557x8109 sparse matrix of type '<class 'numpy.float64'>'\n",
              " \twith 49321 stored elements in Compressed Sparse Row format>,\n",
              " <22557x8109 sparse matrix of type '<class 'numpy.float64'>'\n",
              " \twith 50337 stored elements in Compressed Sparse Row format>]"
            ]
          },
          "metadata": {},
          "execution_count": 86
        }
      ],
      "source": [
        "rows_i = newAMZB_DF['Updated_UserID'].nunique()\n",
        "cols_i = newAMZB_DF['Updated_ItemID'].nunique()\n",
        "UserItem_MATList_amb = AllRatingMatrices(newUserItem_list,'Updated_UserID','Updated_ItemID',rows_i ,cols_i) \n",
        "print(len(UserItem_MATList_amb))   \n",
        "UserItem_MATList_amb"
      ]
    },
    {
      "cell_type": "code",
      "execution_count": 89,
      "metadata": {},
      "outputs": [
        {
          "output_type": "execute_result",
          "data": {
            "text/plain": [
              "<implicit.als.AlternatingLeastSquares at 0x7f1e98ab3bb0>"
            ]
          },
          "metadata": {},
          "execution_count": 89
        }
      ],
      "source": [
        "#latent factors= 10 , regularization = 1, n_iter = 15, alpha = 5, AUC = 0.79839\n",
        "rank = 10\n",
        "alpha = 5\n",
        "reglr = 1\n",
        "iter = 15\n",
        "best_model_bty = implicit.als.AlternatingLeastSquares(factors=rank, regularization=reglr, iterations=iter,use_gpu = False)\n",
        "best_model_bty"
      ]
    },
    {
      "cell_type": "code",
      "execution_count": 90,
      "metadata": {},
      "outputs": [
        {
          "output_type": "stream",
          "name": "stderr",
          "text": [
            "  0%|          | 0/10 [00:00<?, ?it/s]"
          ]
        },
        {
          "output_type": "display_data",
          "data": {
            "text/plain": "  0%|          | 0/15 [00:00<?, ?it/s]",
            "application/vnd.jupyter.widget-view+json": {
              "version_major": 2,
              "version_minor": 0,
              "model_id": "edd584b27ecb4cdda73fc7009745a7fa"
            }
          },
          "metadata": {}
        },
        {
          "output_type": "stream",
          "name": "stderr",
          "text": [
            " 10%|█         | 1/10 [00:00<00:05,  1.57it/s]"
          ]
        },
        {
          "output_type": "display_data",
          "data": {
            "text/plain": "  0%|          | 0/15 [00:00<?, ?it/s]",
            "application/vnd.jupyter.widget-view+json": {
              "version_major": 2,
              "version_minor": 0,
              "model_id": "ef7a3c34a6e0401ba5085fc2ea21417b"
            }
          },
          "metadata": {}
        },
        {
          "output_type": "stream",
          "name": "stderr",
          "text": [
            " 20%|██        | 2/10 [00:01<00:04,  1.72it/s]"
          ]
        },
        {
          "output_type": "display_data",
          "data": {
            "text/plain": "  0%|          | 0/15 [00:00<?, ?it/s]",
            "application/vnd.jupyter.widget-view+json": {
              "version_major": 2,
              "version_minor": 0,
              "model_id": "d8edc44a5e7345338b754228fc42340a"
            }
          },
          "metadata": {}
        },
        {
          "output_type": "stream",
          "name": "stderr",
          "text": [
            " 30%|███       | 3/10 [00:02<00:04,  1.43it/s]"
          ]
        },
        {
          "output_type": "display_data",
          "data": {
            "text/plain": "  0%|          | 0/15 [00:00<?, ?it/s]",
            "application/vnd.jupyter.widget-view+json": {
              "version_major": 2,
              "version_minor": 0,
              "model_id": "2f52edebf91942a995695b119e9cff3b"
            }
          },
          "metadata": {}
        },
        {
          "output_type": "stream",
          "name": "stderr",
          "text": [
            " 40%|████      | 4/10 [00:02<00:04,  1.44it/s]"
          ]
        },
        {
          "output_type": "display_data",
          "data": {
            "text/plain": "  0%|          | 0/15 [00:00<?, ?it/s]",
            "application/vnd.jupyter.widget-view+json": {
              "version_major": 2,
              "version_minor": 0,
              "model_id": "2c0a19f589fe403b80b91c22d7bbb529"
            }
          },
          "metadata": {}
        },
        {
          "output_type": "stream",
          "name": "stderr",
          "text": [
            " 50%|█████     | 5/10 [00:03<00:03,  1.58it/s]"
          ]
        },
        {
          "output_type": "display_data",
          "data": {
            "text/plain": "  0%|          | 0/15 [00:00<?, ?it/s]",
            "application/vnd.jupyter.widget-view+json": {
              "version_major": 2,
              "version_minor": 0,
              "model_id": "04c0dfc5e2504f53a10b2fbe704adf5d"
            }
          },
          "metadata": {}
        },
        {
          "output_type": "stream",
          "name": "stderr",
          "text": [
            " 60%|██████    | 6/10 [00:03<00:02,  1.66it/s]"
          ]
        },
        {
          "output_type": "display_data",
          "data": {
            "text/plain": "  0%|          | 0/15 [00:00<?, ?it/s]",
            "application/vnd.jupyter.widget-view+json": {
              "version_major": 2,
              "version_minor": 0,
              "model_id": "fa6643d897a1476fa82d526c32d38350"
            }
          },
          "metadata": {}
        },
        {
          "output_type": "stream",
          "name": "stderr",
          "text": [
            " 70%|███████   | 7/10 [00:04<00:01,  1.70it/s]"
          ]
        },
        {
          "output_type": "display_data",
          "data": {
            "text/plain": "  0%|          | 0/15 [00:00<?, ?it/s]",
            "application/vnd.jupyter.widget-view+json": {
              "version_major": 2,
              "version_minor": 0,
              "model_id": "9499f8e5bb9a4669bd5d3877c6e38538"
            }
          },
          "metadata": {}
        },
        {
          "output_type": "stream",
          "name": "stderr",
          "text": [
            " 80%|████████  | 8/10 [00:04<00:01,  1.71it/s]"
          ]
        },
        {
          "output_type": "display_data",
          "data": {
            "text/plain": "  0%|          | 0/15 [00:00<?, ?it/s]",
            "application/vnd.jupyter.widget-view+json": {
              "version_major": 2,
              "version_minor": 0,
              "model_id": "9f92118250dc4bd8a7a31c3ff19e4c3d"
            }
          },
          "metadata": {}
        },
        {
          "output_type": "stream",
          "name": "stderr",
          "text": [
            " 90%|█████████ | 9/10 [00:05<00:00,  1.71it/s]"
          ]
        },
        {
          "output_type": "display_data",
          "data": {
            "text/plain": "  0%|          | 0/15 [00:00<?, ?it/s]",
            "application/vnd.jupyter.widget-view+json": {
              "version_major": 2,
              "version_minor": 0,
              "model_id": "71f02db6644a43a7b88b242f0c15c762"
            }
          },
          "metadata": {}
        },
        {
          "output_type": "stream",
          "name": "stderr",
          "text": [
            "100%|██████████| 10/10 [00:06<00:00,  1.64it/s]10 10\n",
            "\n"
          ]
        }
      ],
      "source": [
        "V_list_bty,U_list_bty  = getiALS_VUlist(best_model_bty,UserItem_MATList_amb,alpha)\n",
        "print(len(V_list_bty),len(U_list_bty))"
      ]
    },
    {
      "cell_type": "code",
      "execution_count": 91,
      "metadata": {},
      "outputs": [
        {
          "output_type": "stream",
          "name": "stderr",
          "text": [
            "10it [00:00, 14.25it/s]10\n",
            "\n"
          ]
        }
      ],
      "source": [
        "All_ialsPRED_bty = ials_getALLPredTQDM(UserItem_MATList_amb,newHoldout_list,U_list_bty,V_list_bty,'Updated_UserID',N=10) \n",
        "print(len(All_ialsPRED_bty))"
      ]
    },
    {
      "cell_type": "code",
      "execution_count": 92,
      "metadata": {},
      "outputs": [
        {
          "output_type": "stream",
          "name": "stdout",
          "text": [
            "Number of hits:  148\nTotal Num of users:  474\nRecommendation HitRate:  0.31223628691983124\nNumber of hits:  170\nTotal Num of users:  433\nRecommendation HitRate:  0.39260969976905313\nNumber of hits:  186\nTotal Num of users:  465\nRecommendation HitRate:  0.4\nNumber of hits:  182\nTotal Num of users:  478\nRecommendation HitRate:  0.3807531380753138\nNumber of hits:  173\nTotal Num of users:  478\nRecommendation HitRate:  0.3619246861924686\nNumber of hits:  201\nTotal Num of users:  508\nRecommendation HitRate:  0.3956692913385827\nNumber of hits:  422\nTotal Num of users:  612\nRecommendation HitRate:  0.6895424836601307\nNumber of hits:  252\nTotal Num of users:  599\nRecommendation HitRate:  0.42070116861435725\nNumber of hits:  234\nTotal Num of users:  536\nRecommendation HitRate:  0.43656716417910446\nNumber of hits:  104\nTotal Num of users:  425\nRecommendation HitRate:  0.2447058823529412\nAverage HitRate for All Recommendations:  0.40347098011017835\n"
          ]
        },
        {
          "output_type": "execute_result",
          "data": {
            "text/plain": [
              "[0.31223628691983124,\n",
              " 0.39260969976905313,\n",
              " 0.4,\n",
              " 0.3807531380753138,\n",
              " 0.3619246861924686,\n",
              " 0.3956692913385827,\n",
              " 0.6895424836601307,\n",
              " 0.42070116861435725,\n",
              " 0.43656716417910446,\n",
              " 0.2447058823529412]"
            ]
          },
          "metadata": {},
          "execution_count": 92
        }
      ],
      "source": [
        "AllStepsHitr_iALS_bty, LowerBand, Avg_HitRate, UpperBand   = getAll_HitRate(newHoldout_list,All_ialsPRED_bty,'Updated_UserID','Updated_ItemID')\n",
        "AllStepsHitr_iALS_bty"
      ]
    },
    {
      "cell_type": "code",
      "execution_count": 93,
      "metadata": {},
      "outputs": [
        {
          "output_type": "execute_result",
          "data": {
            "text/plain": [
              "[0.31223628691983124,\n",
              " 0.39260969976905313,\n",
              " 0.4,\n",
              " 0.3807531380753138,\n",
              " 0.3619246861924686,\n",
              " 0.3956692913385827,\n",
              " 0.6895424836601307,\n",
              " 0.42070116861435725,\n",
              " 0.43656716417910446,\n",
              " 0.2447058823529412]"
            ]
          },
          "metadata": {},
          "execution_count": 93
        }
      ],
      "source": [
        "AllStepsHitr_iALS_bty"
      ]
    },
    {
      "cell_type": "code",
      "execution_count": 96,
      "metadata": {},
      "outputs": [
        {
          "output_type": "stream",
          "name": "stdout",
          "text": [
            "10\n"
          ]
        },
        {
          "output_type": "execute_result",
          "data": {
            "text/plain": [
              "[array([[ 168,  311,  842, ...,  555,  385,  228],\n",
              "        [ 168,  311, 1230, ...,  555,  110,  385],\n",
              "        [ 168,  311, 1230, ...,  321,  194,  322],\n",
              "        ...,\n",
              "        [ 692,  842, 2849, ...,  995,  385,  228],\n",
              "        [2849,  995,   22, ...,  800,  557, 3666],\n",
              "        [1230,  995, 2849, ...,  676,  231, 2120]]),\n",
              " array([[ 168,  311,  842, ...,  555,  385,  228],\n",
              "        [ 168,  311, 1230, ...,  555,  110,  385],\n",
              "        [ 168,  311, 1230, ...,  321,  194,  322],\n",
              "        ...,\n",
              "        [ 692,  842, 2849, ...,  995,  385,  228],\n",
              "        [2849,  995,   22, ...,  800,  557, 3666],\n",
              "        [1230,  995, 2849, ...,  676,  231, 2120]])]"
            ]
          },
          "metadata": {},
          "execution_count": 96
        }
      ],
      "source": [
        "##All prediction:\n",
        "All_usersPRED_amb  = ialsALLPred_ALLUSERS(UserItem_MATList_amb,U_list_bty,V_list_bty,N=10)  \n",
        "print(len(All_usersPRED_amb))\n",
        "All_usersPRED_amb[:2]\n"
      ]
    },
    {
      "cell_type": "code",
      "execution_count": 98,
      "metadata": {},
      "outputs": [],
      "source": [
        "with open('/mnt/bulky/oolaleke/TDM_Dataset/AMZ_Btyfiles/AMZB_ialsRT_allPRED.pkl', 'wb') as f:  \n",
        "     pickle.dump(All_usersPRED_amb, f)"
      ]
    },
    {
      "cell_type": "code",
      "execution_count": 99,
      "metadata": {},
      "outputs": [
        {
          "output_type": "stream",
          "name": "stderr",
          "text": [
            "10it [00:00, 683.16it/s]\n"
          ]
        },
        {
          "output_type": "execute_result",
          "data": {
            "text/plain": [
              "[0.28652,\n",
              " 0.348428,\n",
              " 0.344253,\n",
              " 0.335785,\n",
              " 0.313232,\n",
              " 0.308541,\n",
              " 0.54902,\n",
              " 0.345979,\n",
              " 0.365187,\n",
              " 0.169874]"
            ]
          },
          "metadata": {},
          "execution_count": 99
        }
      ],
      "source": [
        "#als_AllStepsHitR_, als_LBand, als_AvgHitR, als_UBand \n",
        "als_AllStepsMRR_bty, als_LBand, als_AvgMRR, als_UBand  = TQDMgetAll_MRR_Eval(newHoldout_list,All_ialsPRED_bty,'Updated_ItemID')\n",
        "als_AllStepsMRR_bty"
      ]
    },
    {
      "cell_type": "code",
      "execution_count": 100,
      "metadata": {},
      "outputs": [
        {
          "output_type": "execute_result",
          "data": {
            "text/plain": [
              "[0.013812,\n",
              " 0.013812,\n",
              " 0.014182,\n",
              " 0.014182,\n",
              " 0.014182,\n",
              " 0.014182,\n",
              " 0.014428,\n",
              " 0.014428,\n",
              " 0.014428,\n",
              " 0.014428]"
            ]
          },
          "metadata": {},
          "execution_count": 100
        }
      ],
      "source": [
        "##Coverage\n",
        "als_AvgCovList_bty = AllSteps_Coverage_Ratio(newAMZB_DF,All_usersPRED_amb,'Updated_ItemID')\n",
        "als_AvgCovList_bty"
      ]
    },
    {
      "cell_type": "code",
      "execution_count": 101,
      "metadata": {},
      "outputs": [
        {
          "output_type": "stream",
          "name": "stdout",
          "text": [
            "9\n"
          ]
        },
        {
          "output_type": "execute_result",
          "data": {
            "text/plain": [
              "[1, 2, 3, 4, 5, 6, 7, 8, 9]"
            ]
          },
          "metadata": {},
          "execution_count": 101
        }
      ],
      "source": [
        "AllSteps_10 = list(range(1,10))\n",
        "print(len(AllSteps_10))\n",
        "AllSteps_10"
      ]
    },
    {
      "cell_type": "code",
      "execution_count": 102,
      "metadata": {},
      "outputs": [
        {
          "output_type": "execute_result",
          "data": {
            "text/plain": [
              "array([array([1.        , 1.        , 1.        , ..., 0.23006416, 0.7956453 ,\n",
              "              0.7956453 ])                                                    ,\n",
              "       array([1.        , 1.        , 1.        , ..., 0.49096051, 1.        ,\n",
              "              0.49096051])                                                    ,\n",
              "       array([1.        , 1.        , 1.        , ..., 0.20752556, 0.49096051,\n",
              "              0.70836709])                                                    ,\n",
              "       array([1.        , 1.        , 1.        , ..., 1.        , 0.49096051,\n",
              "              0.49096051])                                                    ,\n",
              "       array([1.        , 1.        , 1.        , ..., 0.49096051, 1.        ,\n",
              "              1.        ])                                                    ,\n",
              "       array([1.        , 1.        , 1.        , ..., 0.49096051, 0.49096051,\n",
              "              0.49096051])                                                    ,\n",
              "       array([1.        , 1.        , 1.        , ..., 1.        , 0.7956453 ,\n",
              "              0.49096051])                                                    ,\n",
              "       array([1.        , 1.        , 1.        , ..., 0.49096051, 0.49096051,\n",
              "              1.        ])                                                    ,\n",
              "       array([1.        , 1.        , 1.        , ..., 1.        , 0.70836709,\n",
              "              0.70836709])                                                    ],\n",
              "      dtype=object)"
            ]
          },
          "metadata": {},
          "execution_count": 102
        }
      ],
      "source": [
        "UpdtPSICorr_bty = Updt_getAll_AvgCorr(All_usersPRED_amb,newUserItem_list,AllSteps_10,'Updated_UserID')  #,\n",
        "UpdtPSICorr_bty"
      ]
    },
    {
      "cell_type": "code",
      "execution_count": 103,
      "metadata": {},
      "outputs": [
        {
          "output_type": "stream",
          "name": "stdout",
          "text": [
            "0.9962956082015595\n0.9958661801268679\n0.9958300778352793\n0.9958945613668483\n0.9961923378849067\n0.9944196210325439\n0.9916817067157313\n0.9948657173245663\n0.9953391747756014\n"
          ]
        }
      ],
      "source": [
        "\n",
        "for df in UpdtPSICorr_bty:\n",
        "    print(df.mean())  \n"
      ]
    },
    {
      "cell_type": "code",
      "execution_count": null,
      "metadata": {},
      "outputs": [],
      "source": []
    },
    {
      "cell_type": "markdown",
      "metadata": {
        "id": "Vh0xdGsa20et"
      },
      "source": [
        "###MovieLen_1M"
      ]
    },
    {
      "cell_type": "code",
      "metadata": {
        "id": "jw1o_wqS3A-v"
      },
      "source": [
        "newMLDF_1M = pd.read_csv('/mnt/bulky/oolaleke/TDM_Dataset/ML_1M/MLDF1M_afterUpdt.csv.zip')\n",
        "print(newMLDF_1M.shape)   #userId_int\n"
      ],
      "execution_count": 7,
      "outputs": [
        {
          "output_type": "stream",
          "name": "stdout",
          "text": [
            "(575281, 9)\n"
          ]
        }
      ]
    },
    {
      "cell_type": "code",
      "metadata": {
        "id": "ZCpw2cM-28fR"
      },
      "source": [
        "import pickle\n",
        "\n",
        "with open('/mnt/bulky/oolaleke/TDM_Dataset/ML_1M/MLDF1M_newHoldout.pkl', 'rb') as f:\n",
        "     newHoldout_listML1 = pickle.load(f)     \n",
        "    \n",
        "with open('/mnt/bulky/oolaleke/TDM_Dataset/ML_1M/MLDF1M_newUserItem.pkl', 'rb') as f:\n",
        "     newUserItem_listML1 = pickle.load(f)"
      ],
      "execution_count": 8,
      "outputs": []
    },
    {
      "cell_type": "code",
      "execution_count": 10,
      "metadata": {},
      "outputs": [
        {
          "output_type": "stream",
          "name": "stdout",
          "text": [
            "10\n"
          ]
        },
        {
          "output_type": "execute_result",
          "data": {
            "text/plain": [
              "[<6038x3533 sparse matrix of type '<class 'numpy.float64'>'\n",
              " \twith 500332 stored elements in Compressed Sparse Row format>,\n",
              " <6038x3533 sparse matrix of type '<class 'numpy.float64'>'\n",
              " \twith 508812 stored elements in Compressed Sparse Row format>,\n",
              " <6038x3533 sparse matrix of type '<class 'numpy.float64'>'\n",
              " \twith 517278 stored elements in Compressed Sparse Row format>,\n",
              " <6038x3533 sparse matrix of type '<class 'numpy.float64'>'\n",
              " \twith 525757 stored elements in Compressed Sparse Row format>,\n",
              " <6038x3533 sparse matrix of type '<class 'numpy.float64'>'\n",
              " \twith 534098 stored elements in Compressed Sparse Row format>,\n",
              " <6038x3533 sparse matrix of type '<class 'numpy.float64'>'\n",
              " \twith 542538 stored elements in Compressed Sparse Row format>,\n",
              " <6038x3533 sparse matrix of type '<class 'numpy.float64'>'\n",
              " \twith 551048 stored elements in Compressed Sparse Row format>,\n",
              " <6038x3533 sparse matrix of type '<class 'numpy.float64'>'\n",
              " \twith 559597 stored elements in Compressed Sparse Row format>,\n",
              " <6038x3533 sparse matrix of type '<class 'numpy.float64'>'\n",
              " \twith 568114 stored elements in Compressed Sparse Row format>,\n",
              " <6038x3533 sparse matrix of type '<class 'numpy.float64'>'\n",
              " \twith 574919 stored elements in Compressed Sparse Row format>]"
            ]
          },
          "metadata": {},
          "execution_count": 10
        }
      ],
      "source": [
        "rows_i = newMLDF_1M['Updated_UserID'].nunique()\n",
        "cols_i = newMLDF_1M['Updated_ItemID'].nunique()\n",
        "UserItem_MATListML1 = AllRatingMatrices(newUserItem_listML1,'Updated_UserID','Updated_ItemID',rows_i ,cols_i) \n",
        "print(len(UserItem_MATListML1))   \n",
        "UserItem_MATListML1"
      ]
    },
    {
      "cell_type": "code",
      "execution_count": 12,
      "metadata": {},
      "outputs": [],
      "source": [
        "## latent factors= 20 , regularization = 0.05, n_iter = 20, alpha = 50\n",
        "#Ulist_als,Vlist_als = alternating_least_squares_cg(UserItem_RatMAT[-1],nuser_list,nItem_list,factors=20,alpha=50,reglr=0.05,iter=20)\n",
        "rank = 20\n",
        "reglr = 0.05\n",
        "iter = 20\n",
        "alpha=50"
      ]
    },
    {
      "cell_type": "code",
      "execution_count": 13,
      "metadata": {},
      "outputs": [
        {
          "output_type": "execute_result",
          "data": {
            "text/plain": [
              "<implicit.als.AlternatingLeastSquares at 0x7fd7bf69fb80>"
            ]
          },
          "metadata": {},
          "execution_count": 13
        }
      ],
      "source": [
        "best_model_ml1 = implicit.als.AlternatingLeastSquares(factors=rank, regularization=reglr, iterations=iter,use_gpu = False)\n",
        "best_model_ml1\n"
      ]
    },
    {
      "cell_type": "code",
      "execution_count": 18,
      "metadata": {},
      "outputs": [
        {
          "output_type": "stream",
          "name": "stderr",
          "text": [
            "  0%|          | 0/10 [00:00<?, ?it/s]"
          ]
        },
        {
          "output_type": "display_data",
          "data": {
            "text/plain": "  0%|          | 0/20 [00:00<?, ?it/s]",
            "application/vnd.jupyter.widget-view+json": {
              "version_major": 2,
              "version_minor": 0,
              "model_id": "104b4e9a68de4a4485a20e7cbdb76058"
            }
          },
          "metadata": {}
        },
        {
          "output_type": "stream",
          "name": "stderr",
          "text": [
            " 10%|█         | 1/10 [00:06<00:58,  6.46s/it]"
          ]
        },
        {
          "output_type": "display_data",
          "data": {
            "text/plain": "  0%|          | 0/20 [00:00<?, ?it/s]",
            "application/vnd.jupyter.widget-view+json": {
              "version_major": 2,
              "version_minor": 0,
              "model_id": "4c5ad6717365475c9c9cab744d71b191"
            }
          },
          "metadata": {}
        },
        {
          "output_type": "stream",
          "name": "stderr",
          "text": [
            " 20%|██        | 2/10 [00:13<00:52,  6.54s/it]"
          ]
        },
        {
          "output_type": "display_data",
          "data": {
            "text/plain": "  0%|          | 0/20 [00:00<?, ?it/s]",
            "application/vnd.jupyter.widget-view+json": {
              "version_major": 2,
              "version_minor": 0,
              "model_id": "0743cb01040448ac999eec7ef7ea8091"
            }
          },
          "metadata": {}
        },
        {
          "output_type": "stream",
          "name": "stderr",
          "text": [
            " 30%|███       | 3/10 [00:24<01:00,  8.58s/it]"
          ]
        },
        {
          "output_type": "display_data",
          "data": {
            "text/plain": "  0%|          | 0/20 [00:00<?, ?it/s]",
            "application/vnd.jupyter.widget-view+json": {
              "version_major": 2,
              "version_minor": 0,
              "model_id": "8cd8b0bb05cb44e392c72bf44860b2cf"
            }
          },
          "metadata": {}
        },
        {
          "output_type": "stream",
          "name": "stderr",
          "text": [
            " 40%|████      | 4/10 [00:36<01:00, 10.16s/it]"
          ]
        },
        {
          "output_type": "display_data",
          "data": {
            "text/plain": "  0%|          | 0/20 [00:00<?, ?it/s]",
            "application/vnd.jupyter.widget-view+json": {
              "version_major": 2,
              "version_minor": 0,
              "model_id": "32dd06d7c19c4921802e8c75e7b4a127"
            }
          },
          "metadata": {}
        },
        {
          "output_type": "stream",
          "name": "stderr",
          "text": [
            " 50%|█████     | 5/10 [00:42<00:43,  8.71s/it]"
          ]
        },
        {
          "output_type": "display_data",
          "data": {
            "text/plain": "  0%|          | 0/20 [00:00<?, ?it/s]",
            "application/vnd.jupyter.widget-view+json": {
              "version_major": 2,
              "version_minor": 0,
              "model_id": "bed1fc985ffd463c954cf7314170ed37"
            }
          },
          "metadata": {}
        },
        {
          "output_type": "stream",
          "name": "stderr",
          "text": [
            " 60%|██████    | 6/10 [00:51<00:34,  8.56s/it]"
          ]
        },
        {
          "output_type": "display_data",
          "data": {
            "text/plain": "  0%|          | 0/20 [00:00<?, ?it/s]",
            "application/vnd.jupyter.widget-view+json": {
              "version_major": 2,
              "version_minor": 0,
              "model_id": "dc230882db0d4b4483a83af2dfc704fa"
            }
          },
          "metadata": {}
        },
        {
          "output_type": "stream",
          "name": "stderr",
          "text": [
            " 70%|███████   | 7/10 [00:56<00:23,  7.70s/it]"
          ]
        },
        {
          "output_type": "display_data",
          "data": {
            "text/plain": "  0%|          | 0/20 [00:00<?, ?it/s]",
            "application/vnd.jupyter.widget-view+json": {
              "version_major": 2,
              "version_minor": 0,
              "model_id": "c4439a353cc74d9490b6c203fbf557ad"
            }
          },
          "metadata": {}
        },
        {
          "output_type": "stream",
          "name": "stderr",
          "text": [
            " 80%|████████  | 8/10 [01:05<00:15,  7.89s/it]"
          ]
        },
        {
          "output_type": "display_data",
          "data": {
            "text/plain": "  0%|          | 0/20 [00:00<?, ?it/s]",
            "application/vnd.jupyter.widget-view+json": {
              "version_major": 2,
              "version_minor": 0,
              "model_id": "0e172f67291e49499cc1c99381187d02"
            }
          },
          "metadata": {}
        },
        {
          "output_type": "stream",
          "name": "stderr",
          "text": [
            " 90%|█████████ | 9/10 [01:11<00:07,  7.50s/it]"
          ]
        },
        {
          "output_type": "display_data",
          "data": {
            "text/plain": "  0%|          | 0/20 [00:00<?, ?it/s]",
            "application/vnd.jupyter.widget-view+json": {
              "version_major": 2,
              "version_minor": 0,
              "model_id": "7f900244133b48138c5e0b4ad69b55b3"
            }
          },
          "metadata": {}
        },
        {
          "output_type": "stream",
          "name": "stderr",
          "text": [
            "100%|██████████| 10/10 [01:22<00:00,  8.28s/it]10 10\n",
            "\n"
          ]
        }
      ],
      "source": [
        "V_list,U_list  = getiALS_VUlist(best_model_ml1,UserItem_MATListML1,alpha)\n",
        "print(len(V_list),len(U_list))"
      ]
    },
    {
      "cell_type": "code",
      "execution_count": 19,
      "metadata": {},
      "outputs": [
        {
          "output_type": "stream",
          "name": "stderr",
          "text": [
            "10it [00:00, 28.89it/s]10\n",
            "\n"
          ]
        }
      ],
      "source": [
        "All_ialsPRED1m = ials_getALLPredTQDM(UserItem_MATListML1,newHoldout_listML1,U_list,V_list,'Updated_UserID',N=10)\n",
        "print(len(All_ialsPRED1m))"
      ]
    },
    {
      "cell_type": "code",
      "execution_count": 20,
      "metadata": {},
      "outputs": [
        {
          "output_type": "stream",
          "name": "stdout",
          "text": [
            "Number of hits:  13\nTotal Num of users:  233\nRecommendation HitRate:  0.055793991416309016\nNumber of hits:  12\nTotal Num of users:  255\nRecommendation HitRate:  0.047058823529411764\nNumber of hits:  29\nTotal Num of users:  286\nRecommendation HitRate:  0.10139860139860139\nNumber of hits:  20\nTotal Num of users:  309\nRecommendation HitRate:  0.06472491909385113\nNumber of hits:  18\nTotal Num of users:  468\nRecommendation HitRate:  0.038461538461538464\nNumber of hits:  22\nTotal Num of users:  526\nRecommendation HitRate:  0.04182509505703422\nNumber of hits:  18\nTotal Num of users:  517\nRecommendation HitRate:  0.03481624758220503\nNumber of hits:  15\nTotal Num of users:  470\nRecommendation HitRate:  0.031914893617021274\nNumber of hits:  16\nTotal Num of users:  453\nRecommendation HitRate:  0.03532008830022075\nNumber of hits:  19\nTotal Num of users:  362\nRecommendation HitRate:  0.052486187845303865\nAverage HitRate for All Recommendations:  0.05038003863014969\n"
          ]
        },
        {
          "output_type": "execute_result",
          "data": {
            "text/plain": [
              "[0.055793991416309016,\n",
              " 0.047058823529411764,\n",
              " 0.10139860139860139,\n",
              " 0.06472491909385113,\n",
              " 0.038461538461538464,\n",
              " 0.04182509505703422,\n",
              " 0.03481624758220503,\n",
              " 0.031914893617021274,\n",
              " 0.03532008830022075,\n",
              " 0.052486187845303865]"
            ]
          },
          "metadata": {},
          "execution_count": 20
        }
      ],
      "source": [
        "AllSteps_Hitrate_iALS1m, LowerBand, Avg_HitRate, UpperBand   = getAll_HitRate(newHoldout_listML1,All_ialsPRED1m,'Updated_UserID','Updated_ItemID')"
      ]
    },
    {
      "cell_type": "code",
      "execution_count": 21,
      "metadata": {},
      "outputs": [
        {
          "output_type": "execute_result",
          "data": {
            "text/plain": [
              "[0.055793991416309016,\n",
              " 0.047058823529411764,\n",
              " 0.10139860139860139,\n",
              " 0.06472491909385113,\n",
              " 0.038461538461538464,\n",
              " 0.04182509505703422,\n",
              " 0.03481624758220503,\n",
              " 0.031914893617021274,\n",
              " 0.03532008830022075,\n",
              " 0.052486187845303865]"
            ]
          },
          "metadata": {},
          "execution_count": 21
        }
      ],
      "source": [
        "AllSteps_Hitrate_iALS1m"
      ]
    },
    {
      "cell_type": "code",
      "execution_count": 22,
      "metadata": {},
      "outputs": [
        {
          "output_type": "stream",
          "name": "stdout",
          "text": [
            "10\n"
          ]
        },
        {
          "output_type": "execute_result",
          "data": {
            "text/plain": [
              "[array([[ 256,  320,  566, ...,  247, 1226,  279],\n",
              "        [ 369,  563,  564, ...,  635, 1116,  140],\n",
              "        [  79,  478,  695, ...,   23,  171,  641],\n",
              "        ...,\n",
              "        [ 472,  680,  975, ...,  669,   54, 1020],\n",
              "        [  61,  921,  925, ...,   83,  574,  432],\n",
              "        [  82,  897,   31, ...,  388,  905,  153]]),\n",
              " array([[ 256,  320,  566, ...,  247, 1226,  279],\n",
              "        [ 369,  563,  564, ...,  635, 1116,  140],\n",
              "        [  79,  478,  695, ...,   23,  171,  641],\n",
              "        ...,\n",
              "        [ 472,  680,  975, ...,  669,   54, 1020],\n",
              "        [  61,  921,  925, ...,   83,  574,  432],\n",
              "        [  82,  897,   31, ...,  388,  905,  153]])]"
            ]
          },
          "metadata": {},
          "execution_count": 22
        }
      ],
      "source": [
        "#All prediction:\n",
        "All_usersialsPRED1m  = ialsALLPred_ALLUSERS(UserItem_MATListML1,U_list,V_list,N=10)  \n",
        "print(len(All_usersialsPRED1m))\n",
        "All_usersialsPRED1m[:2]"
      ]
    },
    {
      "cell_type": "code",
      "execution_count": 24,
      "metadata": {},
      "outputs": [],
      "source": [
        "with open('/mnt/bulky/oolaleke/TDM_Dataset/ML_1M/ML1_ialsRT_allPRED.pkl', 'wb') as f:\n",
        "     pickle.dump(All_usersialsPRED1m, f)"
      ]
    },
    {
      "cell_type": "code",
      "execution_count": 25,
      "metadata": {},
      "outputs": [
        {
          "output_type": "stream",
          "name": "stderr",
          "text": [
            "10it [00:00, 653.42it/s]\n"
          ]
        },
        {
          "output_type": "execute_result",
          "data": {
            "text/plain": [
              "[0.012285,\n",
              " 0.016704,\n",
              " 0.038849,\n",
              " 0.017435,\n",
              " 0.007294,\n",
              " 0.011021,\n",
              " 0.010794,\n",
              " 0.010074,\n",
              " 0.00939,\n",
              " 0.018622]"
            ]
          },
          "metadata": {},
          "execution_count": 25
        }
      ],
      "source": [
        "#als_AllStepsHitR_, als_LBand, als_AvgHitR, als_UBand \n",
        "als_AllStepsMRR_ML1, als_LBand, als_AvgMRR, als_UBand  = TQDMgetAll_MRR_Eval(newHoldout_listML1,All_ialsPRED1m,'Updated_ItemID')\n",
        "als_AllStepsMRR_ML1"
      ]
    },
    {
      "cell_type": "code",
      "execution_count": 26,
      "metadata": {},
      "outputs": [
        {
          "output_type": "execute_result",
          "data": {
            "text/plain": [
              "[0.459949,\n",
              " 0.459949,\n",
              " 0.460515,\n",
              " 0.461081,\n",
              " 0.461081,\n",
              " 0.461364,\n",
              " 0.46193,\n",
              " 0.461647,\n",
              " 0.461364,\n",
              " 0.461081]"
            ]
          },
          "metadata": {},
          "execution_count": 26
        }
      ],
      "source": [
        "##Coverage\n",
        "###cOVERAGE:\n",
        "als_AvgCovList_ML1 = AllSteps_Coverage_Ratio(newMLDF_1M,All_usersialsPRED1m,'Updated_ItemID')\n",
        "als_AvgCovList_ML1"
      ]
    },
    {
      "cell_type": "code",
      "execution_count": 27,
      "metadata": {},
      "outputs": [
        {
          "output_type": "stream",
          "name": "stdout",
          "text": [
            "9\n"
          ]
        },
        {
          "output_type": "execute_result",
          "data": {
            "text/plain": [
              "[1, 2, 3, 4, 5, 6, 7, 8, 9]"
            ]
          },
          "metadata": {},
          "execution_count": 27
        }
      ],
      "source": [
        "AllSteps_10 = list(range(1,10))\n",
        "print(len(AllSteps_10))\n",
        "AllSteps_10"
      ]
    },
    {
      "cell_type": "code",
      "execution_count": 28,
      "metadata": {},
      "outputs": [
        {
          "output_type": "execute_result",
          "data": {
            "text/plain": [
              "array([array([1., 1., 1., ..., 1., 1., 1.]),\n",
              "       array([1., 1., 1., ..., 1., 1., 1.]),\n",
              "       array([1.        , 1.        , 1.        , ..., 0.87216233, 0.10040999,\n",
              "              0.90698876])                                                    ,\n",
              "       array([1.        , 1.        , 1.        , ..., 1.        , 1.        ,\n",
              "              0.59227699])                                                    ,\n",
              "       array([1., 1., 1., ..., 1., 1., 1.]),\n",
              "       array([1., 1., 1., ..., 1., 1., 1.]),\n",
              "       array([0.84271627, 1.        , 1.        , ..., 1.        , 0.87216233,\n",
              "              0.65215445])                                                    ,\n",
              "       array([1.        , 1.        , 1.        , ..., 0.49096051, 0.69463896,\n",
              "              1.        ])                                                    ,\n",
              "       array([1.        , 1.        , 1.        , ..., 0.17065821, 1.        ,\n",
              "              1.        ])                                                    ],\n",
              "      dtype=object)"
            ]
          },
          "metadata": {},
          "execution_count": 28
        }
      ],
      "source": [
        "UpdtPSICorr_ML1 = Updt_getAll_AvgCorr(All_usersialsPRED1m,newUserItem_listML1,AllSteps_10,'Updated_UserID')  #,\n",
        "UpdtPSICorr_ML1"
      ]
    },
    {
      "cell_type": "code",
      "execution_count": 29,
      "metadata": {},
      "outputs": [
        {
          "output_type": "stream",
          "name": "stdout",
          "text": [
            "0.9971061071900807\n0.9970551355717188\n0.9949711023697712\n0.9917415400020714\n0.9909368311232252\n0.9917716375598122\n0.9915170481352636\n0.9931394334231475\n0.9940270238412618\n"
          ]
        }
      ],
      "source": [
        "\n",
        "for df in UpdtPSICorr_ML1:\n",
        "    print(df.mean())  "
      ]
    },
    {
      "cell_type": "markdown",
      "metadata": {
        "id": "Lb2NaJ772v3a"
      },
      "source": [
        "###Amz_Games"
      ]
    },
    {
      "cell_type": "code",
      "metadata": {
        "id": "UISRS49D3Fo0"
      },
      "source": [
        "newAMZGames_DF = pd.read_csv('/mnt/bulky/oolaleke/TDM_Dataset/AMZ_GamesFiles/AMZGames_afterUpdt.csv')\n",
        "\n",
        "print(newAMZGames_DF.shape)   #userId_int\n",
        "print(newAMZGames_DF.dtypes)\n",
        "newAMZGames_DF.head()"
      ],
      "execution_count": 51,
      "outputs": [
        {
          "output_type": "stream",
          "name": "stdout",
          "text": [
            "(345203, 9)\nuserid            object\nProductID         object\nrating             int64\ntimestamp         object\ntimestamp_YM      object\nuserId             int64\nproductId          int64\nUpdated_UserID     int64\nUpdated_ItemID     int64\ndtype: object\n"
          ]
        },
        {
          "output_type": "execute_result",
          "data": {
            "text/plain": [
              "           userid   ProductID  rating   timestamp timestamp_YM  userId  \\\n",
              "0  A2AXQTB83VMK4L  B0000296O5       1  1999-10-14      1999-10       0   \n",
              "1  A2T04VAIXSKJH2  B00002NDRY       1  1999-11-05      1999-11       1   \n",
              "2  A1QA8K3LD9K892  B000021Y5F       1  1999-11-10      1999-11       2   \n",
              "3  A1QA8K3LD9K892  B000021Y5Q       1  1999-11-10      1999-11       2   \n",
              "4   ANLA598UNJI8A  B00001IVGE       1  1999-11-14      1999-11       3   \n",
              "\n",
              "   productId  Updated_UserID  Updated_ItemID  \n",
              "0          0               0               0  \n",
              "1          1               1               1  \n",
              "2          2               2               2  \n",
              "3          3               2               3  \n",
              "4          4               3               4  "
            ],
            "text/html": "<div>\n<style scoped>\n    .dataframe tbody tr th:only-of-type {\n        vertical-align: middle;\n    }\n\n    .dataframe tbody tr th {\n        vertical-align: top;\n    }\n\n    .dataframe thead th {\n        text-align: right;\n    }\n</style>\n<table border=\"1\" class=\"dataframe\">\n  <thead>\n    <tr style=\"text-align: right;\">\n      <th></th>\n      <th>userid</th>\n      <th>ProductID</th>\n      <th>rating</th>\n      <th>timestamp</th>\n      <th>timestamp_YM</th>\n      <th>userId</th>\n      <th>productId</th>\n      <th>Updated_UserID</th>\n      <th>Updated_ItemID</th>\n    </tr>\n  </thead>\n  <tbody>\n    <tr>\n      <th>0</th>\n      <td>A2AXQTB83VMK4L</td>\n      <td>B0000296O5</td>\n      <td>1</td>\n      <td>1999-10-14</td>\n      <td>1999-10</td>\n      <td>0</td>\n      <td>0</td>\n      <td>0</td>\n      <td>0</td>\n    </tr>\n    <tr>\n      <th>1</th>\n      <td>A2T04VAIXSKJH2</td>\n      <td>B00002NDRY</td>\n      <td>1</td>\n      <td>1999-11-05</td>\n      <td>1999-11</td>\n      <td>1</td>\n      <td>1</td>\n      <td>1</td>\n      <td>1</td>\n    </tr>\n    <tr>\n      <th>2</th>\n      <td>A1QA8K3LD9K892</td>\n      <td>B000021Y5F</td>\n      <td>1</td>\n      <td>1999-11-10</td>\n      <td>1999-11</td>\n      <td>2</td>\n      <td>2</td>\n      <td>2</td>\n      <td>2</td>\n    </tr>\n    <tr>\n      <th>3</th>\n      <td>A1QA8K3LD9K892</td>\n      <td>B000021Y5Q</td>\n      <td>1</td>\n      <td>1999-11-10</td>\n      <td>1999-11</td>\n      <td>2</td>\n      <td>3</td>\n      <td>2</td>\n      <td>3</td>\n    </tr>\n    <tr>\n      <th>4</th>\n      <td>ANLA598UNJI8A</td>\n      <td>B00001IVGE</td>\n      <td>1</td>\n      <td>1999-11-14</td>\n      <td>1999-11</td>\n      <td>3</td>\n      <td>4</td>\n      <td>3</td>\n      <td>4</td>\n    </tr>\n  </tbody>\n</table>\n</div>"
          },
          "metadata": {},
          "execution_count": 51
        }
      ]
    },
    {
      "cell_type": "code",
      "metadata": {
        "id": "q3hEVDDE3FMi"
      },
      "source": [
        "##lOAD Saved Lists...\n",
        "with open('/mnt/bulky/oolaleke/TDM_Dataset/AMZ_GamesFiles/AMZGames_newUserItem.pkl', 'rb') as f:   #\n",
        "     newUserItem_list = pickle.load(f)\n",
        "\n",
        "\n",
        "with open('/mnt/bulky/oolaleke/TDM_Dataset/AMZ_GamesFiles/AMZGames_newHoldout.pkl', 'rb') as f:\n",
        "     newHOLDOUT_LIST = pickle.load(f)\n"
      ],
      "execution_count": 54,
      "outputs": []
    },
    {
      "cell_type": "code",
      "execution_count": null,
      "metadata": {},
      "outputs": [],
      "source": [
        "#latent factors= 10 , regularization = 1, n_iter = 15, alpha = 5, AUC = 0.79839\n",
        "Ulist_als,Vlist_als = alternating_least_squares_cg(UserItem_RatMAT[-1],nuser_list,nItem_list,factors=10,alpha=5,reglr=1,iter=15)\n",
        "print(len(Ulist_als))  \n",
        "Ulist_als[:2]"
      ]
    },
    {
      "cell_type": "code",
      "execution_count": 55,
      "metadata": {},
      "outputs": [
        {
          "output_type": "stream",
          "name": "stdout",
          "text": [
            "15\n"
          ]
        },
        {
          "output_type": "execute_result",
          "data": {
            "text/plain": [
              "[<39284x17318 sparse matrix of type '<class 'numpy.float64'>'\n",
              " \twith 250384 stored elements in Compressed Sparse Row format>,\n",
              " <39284x17318 sparse matrix of type '<class 'numpy.float64'>'\n",
              " \twith 255520 stored elements in Compressed Sparse Row format>,\n",
              " <39284x17318 sparse matrix of type '<class 'numpy.float64'>'\n",
              " \twith 261105 stored elements in Compressed Sparse Row format>,\n",
              " <39284x17318 sparse matrix of type '<class 'numpy.float64'>'\n",
              " \twith 266597 stored elements in Compressed Sparse Row format>,\n",
              " <39284x17318 sparse matrix of type '<class 'numpy.float64'>'\n",
              " \twith 272102 stored elements in Compressed Sparse Row format>,\n",
              " <39284x17318 sparse matrix of type '<class 'numpy.float64'>'\n",
              " \twith 277572 stored elements in Compressed Sparse Row format>,\n",
              " <39284x17318 sparse matrix of type '<class 'numpy.float64'>'\n",
              " \twith 282899 stored elements in Compressed Sparse Row format>,\n",
              " <39284x17318 sparse matrix of type '<class 'numpy.float64'>'\n",
              " \twith 288493 stored elements in Compressed Sparse Row format>,\n",
              " <39284x17318 sparse matrix of type '<class 'numpy.float64'>'\n",
              " \twith 294033 stored elements in Compressed Sparse Row format>,\n",
              " <39284x17318 sparse matrix of type '<class 'numpy.float64'>'\n",
              " \twith 299422 stored elements in Compressed Sparse Row format>,\n",
              " <39284x17318 sparse matrix of type '<class 'numpy.float64'>'\n",
              " \twith 304874 stored elements in Compressed Sparse Row format>,\n",
              " <39284x17318 sparse matrix of type '<class 'numpy.float64'>'\n",
              " \twith 310345 stored elements in Compressed Sparse Row format>,\n",
              " <39284x17318 sparse matrix of type '<class 'numpy.float64'>'\n",
              " \twith 315857 stored elements in Compressed Sparse Row format>,\n",
              " <39284x17318 sparse matrix of type '<class 'numpy.float64'>'\n",
              " \twith 321360 stored elements in Compressed Sparse Row format>,\n",
              " <39284x17318 sparse matrix of type '<class 'numpy.float64'>'\n",
              " \twith 326607 stored elements in Compressed Sparse Row format>]"
            ]
          },
          "metadata": {},
          "execution_count": 55
        }
      ],
      "source": [
        "rows_i = newAMZGames_DF['Updated_UserID'].nunique()\n",
        "cols_i = newAMZGames_DF['Updated_ItemID'].nunique()\n",
        "UserItem_MATList = AllRatingMatrices(newUserItem_list,'Updated_UserID','Updated_ItemID',rows_i ,cols_i) \n",
        "print(len(UserItem_MATList))   \n",
        "UserItem_MATList"
      ]
    },
    {
      "cell_type": "code",
      "execution_count": 64,
      "metadata": {},
      "outputs": [],
      "source": [
        "#est model; latent factors= 20 , regularization = 10, n_iter = 20, alpha = 50, AUC = 0.87067\n",
        "#Ulist_als,Vlist_als = alternating_least_squares_cg(UserItem_RatMAT[-1],nuser_list,nItem_list,factors=20,alpha=50,reglr=10,iter=20)\n",
        "rank = 20\n",
        "alpha = 50\n",
        "reglr = 10\n",
        "iter = 20"
      ]
    },
    {
      "cell_type": "code",
      "execution_count": 65,
      "metadata": {},
      "outputs": [
        {
          "output_type": "execute_result",
          "data": {
            "text/plain": [
              "<implicit.als.AlternatingLeastSquares at 0x7f1e98a573d0>"
            ]
          },
          "metadata": {},
          "execution_count": 65
        }
      ],
      "source": [
        "best_model_gm = implicit.als.AlternatingLeastSquares(factors=rank, regularization=reglr, iterations=iter,use_gpu = False)\n",
        "best_model_gm\n"
      ]
    },
    {
      "cell_type": "code",
      "execution_count": 66,
      "metadata": {},
      "outputs": [
        {
          "output_type": "stream",
          "name": "stderr",
          "text": [
            "  0%|          | 0/15 [00:00<?, ?it/s]"
          ]
        },
        {
          "output_type": "display_data",
          "data": {
            "text/plain": "  0%|          | 0/20 [00:00<?, ?it/s]",
            "application/vnd.jupyter.widget-view+json": {
              "version_major": 2,
              "version_minor": 0,
              "model_id": "a58521a294d54b7db5c9d7f679049c1f"
            }
          },
          "metadata": {}
        },
        {
          "output_type": "stream",
          "name": "stderr",
          "text": [
            "  7%|▋         | 1/15 [00:04<01:05,  4.70s/it]"
          ]
        },
        {
          "output_type": "display_data",
          "data": {
            "text/plain": "  0%|          | 0/20 [00:00<?, ?it/s]",
            "application/vnd.jupyter.widget-view+json": {
              "version_major": 2,
              "version_minor": 0,
              "model_id": "7c2eccdf5d3f45569abdb5451497921a"
            }
          },
          "metadata": {}
        },
        {
          "output_type": "stream",
          "name": "stderr",
          "text": [
            " 13%|█▎        | 2/15 [00:09<01:05,  5.03s/it]"
          ]
        },
        {
          "output_type": "display_data",
          "data": {
            "text/plain": "  0%|          | 0/20 [00:00<?, ?it/s]",
            "application/vnd.jupyter.widget-view+json": {
              "version_major": 2,
              "version_minor": 0,
              "model_id": "7773c7d11d284254a4006bc861a4e829"
            }
          },
          "metadata": {}
        },
        {
          "output_type": "stream",
          "name": "stderr",
          "text": [
            " 20%|██        | 3/15 [00:13<00:49,  4.16s/it]"
          ]
        },
        {
          "output_type": "display_data",
          "data": {
            "text/plain": "  0%|          | 0/20 [00:00<?, ?it/s]",
            "application/vnd.jupyter.widget-view+json": {
              "version_major": 2,
              "version_minor": 0,
              "model_id": "ab1584faf43d482093e1c9e7460ea432"
            }
          },
          "metadata": {}
        },
        {
          "output_type": "stream",
          "name": "stderr",
          "text": [
            " 27%|██▋       | 4/15 [00:16<00:44,  4.00s/it]"
          ]
        },
        {
          "output_type": "display_data",
          "data": {
            "text/plain": "  0%|          | 0/20 [00:00<?, ?it/s]",
            "application/vnd.jupyter.widget-view+json": {
              "version_major": 2,
              "version_minor": 0,
              "model_id": "f577e47ab7464d29b550048e0ce25932"
            }
          },
          "metadata": {}
        },
        {
          "output_type": "stream",
          "name": "stderr",
          "text": [
            " 33%|███▎      | 5/15 [00:20<00:37,  3.78s/it]"
          ]
        },
        {
          "output_type": "display_data",
          "data": {
            "text/plain": "  0%|          | 0/20 [00:00<?, ?it/s]",
            "application/vnd.jupyter.widget-view+json": {
              "version_major": 2,
              "version_minor": 0,
              "model_id": "0459f19f45d74f2898063704e87eb1f0"
            }
          },
          "metadata": {}
        },
        {
          "output_type": "stream",
          "name": "stderr",
          "text": [
            " 40%|████      | 6/15 [00:24<00:35,  3.95s/it]"
          ]
        },
        {
          "output_type": "display_data",
          "data": {
            "text/plain": "  0%|          | 0/20 [00:00<?, ?it/s]",
            "application/vnd.jupyter.widget-view+json": {
              "version_major": 2,
              "version_minor": 0,
              "model_id": "6d9c9e9c5a904bbf8de6bf265e1ffa21"
            }
          },
          "metadata": {}
        },
        {
          "output_type": "stream",
          "name": "stderr",
          "text": [
            " 47%|████▋     | 7/15 [00:28<00:30,  3.82s/it]"
          ]
        },
        {
          "output_type": "display_data",
          "data": {
            "text/plain": "  0%|          | 0/20 [00:00<?, ?it/s]",
            "application/vnd.jupyter.widget-view+json": {
              "version_major": 2,
              "version_minor": 0,
              "model_id": "fd79364d298d4b4b954ad71bba8ee33b"
            }
          },
          "metadata": {}
        },
        {
          "output_type": "stream",
          "name": "stderr",
          "text": [
            " 53%|█████▎    | 8/15 [00:31<00:26,  3.74s/it]"
          ]
        },
        {
          "output_type": "display_data",
          "data": {
            "text/plain": "  0%|          | 0/20 [00:00<?, ?it/s]",
            "application/vnd.jupyter.widget-view+json": {
              "version_major": 2,
              "version_minor": 0,
              "model_id": "d93340c587de4e83b95a1115a9a1d445"
            }
          },
          "metadata": {}
        },
        {
          "output_type": "stream",
          "name": "stderr",
          "text": [
            " 60%|██████    | 9/15 [00:35<00:22,  3.67s/it]"
          ]
        },
        {
          "output_type": "display_data",
          "data": {
            "text/plain": "  0%|          | 0/20 [00:00<?, ?it/s]",
            "application/vnd.jupyter.widget-view+json": {
              "version_major": 2,
              "version_minor": 0,
              "model_id": "81161d003e58482187dcd3b74af0d8aa"
            }
          },
          "metadata": {}
        },
        {
          "output_type": "stream",
          "name": "stderr",
          "text": [
            " 67%|██████▋   | 10/15 [00:41<00:22,  4.55s/it]"
          ]
        },
        {
          "output_type": "display_data",
          "data": {
            "text/plain": "  0%|          | 0/20 [00:00<?, ?it/s]",
            "application/vnd.jupyter.widget-view+json": {
              "version_major": 2,
              "version_minor": 0,
              "model_id": "2111bb231d744c1eb9b546cb9db22358"
            }
          },
          "metadata": {}
        },
        {
          "output_type": "stream",
          "name": "stderr",
          "text": [
            " 73%|███████▎  | 11/15 [00:45<00:17,  4.31s/it]"
          ]
        },
        {
          "output_type": "display_data",
          "data": {
            "text/plain": "  0%|          | 0/20 [00:00<?, ?it/s]",
            "application/vnd.jupyter.widget-view+json": {
              "version_major": 2,
              "version_minor": 0,
              "model_id": "680506fe437749c6aff7c837f8c8781a"
            }
          },
          "metadata": {}
        },
        {
          "output_type": "stream",
          "name": "stderr",
          "text": [
            " 80%|████████  | 12/15 [00:50<00:13,  4.55s/it]"
          ]
        },
        {
          "output_type": "display_data",
          "data": {
            "text/plain": "  0%|          | 0/20 [00:00<?, ?it/s]",
            "application/vnd.jupyter.widget-view+json": {
              "version_major": 2,
              "version_minor": 0,
              "model_id": "de57944c92b448d7a9c0bed0919c254e"
            }
          },
          "metadata": {}
        },
        {
          "output_type": "stream",
          "name": "stderr",
          "text": [
            " 87%|████████▋ | 13/15 [00:54<00:08,  4.40s/it]"
          ]
        },
        {
          "output_type": "display_data",
          "data": {
            "text/plain": "  0%|          | 0/20 [00:00<?, ?it/s]",
            "application/vnd.jupyter.widget-view+json": {
              "version_major": 2,
              "version_minor": 0,
              "model_id": "1f503e19b7ab4966bb52ee514b703757"
            }
          },
          "metadata": {}
        },
        {
          "output_type": "stream",
          "name": "stderr",
          "text": [
            " 93%|█████████▎| 14/15 [00:58<00:04,  4.16s/it]"
          ]
        },
        {
          "output_type": "display_data",
          "data": {
            "text/plain": "  0%|          | 0/20 [00:00<?, ?it/s]",
            "application/vnd.jupyter.widget-view+json": {
              "version_major": 2,
              "version_minor": 0,
              "model_id": "9a5d842babe647ba82b0c52acfc276ca"
            }
          },
          "metadata": {}
        },
        {
          "output_type": "stream",
          "name": "stderr",
          "text": [
            "100%|██████████| 15/15 [01:01<00:00,  4.13s/it]15 15\n",
            "\n"
          ]
        }
      ],
      "source": [
        "V_list,U_list  = getiALS_VUlist(best_model_gm,UserItem_MATList,alpha)\n",
        "print(len(V_list),len(U_list))"
      ]
    },
    {
      "cell_type": "code",
      "execution_count": 67,
      "metadata": {},
      "outputs": [
        {
          "output_type": "stream",
          "name": "stdout",
          "text": [
            "(17318, 20)\n"
          ]
        },
        {
          "output_type": "execute_result",
          "data": {
            "text/plain": [
              "array([[ 2.4586728e-01, -1.0253001e-01,  5.2688974e-01, ...,\n",
              "         9.5730409e-02,  5.0278598e-01, -2.1666187e-01],\n",
              "       [-3.7283552e-01, -3.0116895e-01,  3.0186471e-01, ...,\n",
              "        -2.8866857e-01,  3.0461004e-01,  3.3960751e-01],\n",
              "       [-2.9005392e-02,  1.1430346e-02,  1.2192819e-02, ...,\n",
              "         1.4158544e-02,  3.7464689e-02,  4.1886050e-02],\n",
              "       ...,\n",
              "       [ 9.9292891e-03, -8.2680453e-03, -7.2541721e-03, ...,\n",
              "         5.0837616e-03,  3.9920737e-03, -7.1032578e-03],\n",
              "       [-6.6471118e-03, -2.4426004e-04,  9.5815230e-03, ...,\n",
              "         6.2665213e-03, -3.2993790e-03, -8.1900088e-03],\n",
              "       [-2.0265041e-03, -2.3011619e-02,  3.4033705e-03, ...,\n",
              "        -4.7611753e-03,  7.4624126e-03, -1.9644326e-02]], dtype=float32)"
            ]
          },
          "metadata": {},
          "execution_count": 67
        }
      ],
      "source": [
        "print(V_list[0].shape)\n",
        "V_list[0]"
      ]
    },
    {
      "cell_type": "code",
      "execution_count": 68,
      "metadata": {},
      "outputs": [
        {
          "output_type": "stream",
          "name": "stdout",
          "text": [
            "(39284, 20)\n"
          ]
        },
        {
          "output_type": "execute_result",
          "data": {
            "text/plain": [
              "array([[-0.10047837,  0.00785078,  0.061002  , ...,  0.00421529,\n",
              "         0.10790339,  0.0123235 ],\n",
              "       [-0.00781376, -0.08831523,  0.12809968, ..., -0.0732992 ,\n",
              "         0.04521151,  0.0849192 ],\n",
              "       [-0.02811822, -0.00351027,  0.08058146, ...,  0.08152273,\n",
              "         0.0970396 ,  0.02830829],\n",
              "       ...,\n",
              "       [ 0.01630092,  0.02622255,  0.1127287 , ...,  0.04876202,\n",
              "         0.03764512, -0.01158503],\n",
              "       [ 0.06569523,  0.10956392,  0.03666268, ..., -0.0239969 ,\n",
              "         0.08159462, -0.03336352],\n",
              "       [ 0.00759129, -0.00352367, -0.00453922, ...,  0.03935907,\n",
              "         0.01827624, -0.02539729]], dtype=float32)"
            ]
          },
          "metadata": {},
          "execution_count": 68
        }
      ],
      "source": [
        "print(U_list[0].shape)\n",
        "U_list[0] "
      ]
    },
    {
      "cell_type": "code",
      "execution_count": 69,
      "metadata": {},
      "outputs": [
        {
          "output_type": "stream",
          "name": "stderr",
          "text": [
            "15it [00:08,  1.86it/s]15\n",
            "\n"
          ]
        }
      ],
      "source": [
        "All_ialsPRED = ials_getALLPredTQDM(UserItem_MATList,newHOLDOUT_LIST,U_list,V_list,'Updated_UserID',N=10)\n",
        "print(len(All_ialsPRED))"
      ]
    },
    {
      "cell_type": "code",
      "execution_count": 73,
      "metadata": {},
      "outputs": [
        {
          "output_type": "execute_result",
          "data": {
            "text/plain": [
              "(2018, 10)"
            ]
          },
          "metadata": {},
          "execution_count": 73
        }
      ],
      "source": [
        "All_ialsPRED[0].shape"
      ]
    },
    {
      "cell_type": "code",
      "execution_count": 75,
      "metadata": {},
      "outputs": [
        {
          "output_type": "stream",
          "name": "stdout",
          "text": [
            "Number of hits:  274\nTotal Num of users:  2018\nRecommendation HitRate:  0.13577799801783944\nNumber of hits:  303\nTotal Num of users:  2200\nRecommendation HitRate:  0.13772727272727273\nNumber of hits:  374\nTotal Num of users:  2172\nRecommendation HitRate:  0.1721915285451197\nNumber of hits:  319\nTotal Num of users:  2079\nRecommendation HitRate:  0.15343915343915343\nNumber of hits:  286\nTotal Num of users:  2089\nRecommendation HitRate:  0.13690761129727141\nNumber of hits:  264\nTotal Num of users:  2120\nRecommendation HitRate:  0.12452830188679245\nNumber of hits:  271\nTotal Num of users:  2217\nRecommendation HitRate:  0.12223725755525484\nNumber of hits:  310\nTotal Num of users:  2207\nRecommendation HitRate:  0.14046216583597643\nNumber of hits:  311\nTotal Num of users:  2133\nRecommendation HitRate:  0.14580403187998126\nNumber of hits:  371\nTotal Num of users:  2171\nRecommendation HitRate:  0.1708889912482727\nNumber of hits:  378\nTotal Num of users:  2261\nRecommendation HitRate:  0.16718266253869968\nNumber of hits:  328\nTotal Num of users:  2246\nRecommendation HitRate:  0.1460373998219056\nNumber of hits:  295\nTotal Num of users:  2196\nRecommendation HitRate:  0.1343351548269581\nNumber of hits:  312\nTotal Num of users:  2269\nRecommendation HitRate:  0.1375055090348171\nNumber of hits:  87\nTotal Num of users:  2222\nRecommendation HitRate:  0.03915391539153915\nAverage HitRate for All Recommendations:  0.13761193026979027\n"
          ]
        }
      ],
      "source": [
        "AllSteps_Hitrate_iALS, LowerBand, Avg_HitRate, UpperBand   = getAll_HitRate(newHOLDOUT_LIST,All_ialsPRED,'Updated_UserID','Updated_ItemID')"
      ]
    },
    {
      "cell_type": "code",
      "execution_count": 76,
      "metadata": {},
      "outputs": [
        {
          "output_type": "execute_result",
          "data": {
            "text/plain": [
              "[0.13577799801783944,\n",
              " 0.13772727272727273,\n",
              " 0.1721915285451197,\n",
              " 0.15343915343915343,\n",
              " 0.13690761129727141,\n",
              " 0.12452830188679245,\n",
              " 0.12223725755525484,\n",
              " 0.14046216583597643,\n",
              " 0.14580403187998126,\n",
              " 0.1708889912482727,\n",
              " 0.16718266253869968,\n",
              " 0.1460373998219056,\n",
              " 0.1343351548269581,\n",
              " 0.1375055090348171,\n",
              " 0.03915391539153915]"
            ]
          },
          "metadata": {},
          "execution_count": 76
        }
      ],
      "source": [
        "AllSteps_Hitrate_iALS"
      ]
    },
    {
      "cell_type": "code",
      "execution_count": 77,
      "metadata": {},
      "outputs": [
        {
          "output_type": "stream",
          "name": "stdout",
          "text": [
            "15\n"
          ]
        },
        {
          "output_type": "execute_result",
          "data": {
            "text/plain": [
              "[array([[ 1050,  1434,   145, ...,  1552,   882,   610],\n",
              "        [15455, 13773, 15563, ..., 11891, 17122, 16799],\n",
              "        [ 1050,   385,   145, ...,   202,   754,   346],\n",
              "        ...,\n",
              "        [ 4255,  6027,  6055, ...,  7613,  7666,  6113],\n",
              "        [13045, 13519, 15194, ..., 15487, 15562, 14806],\n",
              "        [ 8077,  8019, 10344, ...,  7527,  7319,  4957]]),\n",
              " array([[ 1050,  1434,   145, ...,  1552,   882,   610],\n",
              "        [15455, 13773, 15563, ..., 11891, 17122, 16799],\n",
              "        [ 1050,   385,   145, ...,   202,   754,   346],\n",
              "        ...,\n",
              "        [ 4255,  6027,  6055, ...,  7613,  7666,  6113],\n",
              "        [13045, 13519, 15194, ..., 15487, 15562, 14806],\n",
              "        [ 8077,  8019, 10344, ...,  7527,  7319,  4957]])]"
            ]
          },
          "metadata": {},
          "execution_count": 77
        }
      ],
      "source": [
        "##All prediction:\n",
        "All_usersialsPRED  = ialsALLPred_ALLUSERS(UserItem_MATList,U_list,V_list,N=10)  \n",
        "print(len(All_usersialsPRED))\n",
        "All_usersialsPRED[:2]"
      ]
    },
    {
      "cell_type": "code",
      "execution_count": 82,
      "metadata": {},
      "outputs": [],
      "source": [
        "with open('/mnt/bulky/oolaleke/TDM_Dataset/AMZ_GamesFiles/AMZG_ialsRT_allPRED.pkl', 'wb') as f: \n",
        "     pickle.dump(All_usersialsPRED, f)"
      ]
    },
    {
      "cell_type": "code",
      "execution_count": 78,
      "metadata": {},
      "outputs": [
        {
          "output_type": "stream",
          "name": "stderr",
          "text": [
            "15it [00:00, 578.59it/s]\n"
          ]
        },
        {
          "output_type": "execute_result",
          "data": {
            "text/plain": [
              "[0.04772,\n",
              " 0.053833,\n",
              " 0.073051,\n",
              " 0.061129,\n",
              " 0.058823,\n",
              " 0.053896,\n",
              " 0.051082,\n",
              " 0.058526,\n",
              " 0.062536,\n",
              " 0.076733,\n",
              " 0.073479,\n",
              " 0.061514,\n",
              " 0.057076,\n",
              " 0.064686,\n",
              " 0.014476]"
            ]
          },
          "metadata": {},
          "execution_count": 78
        }
      ],
      "source": [
        "##mrr\n",
        "#als_AllStepsHitR_, als_LBand, als_AvgHitR, als_UBand \n",
        "als_AllStepsMRR_azmg, als_LBand, als_AvgMRR, als_UBand  = TQDMgetAll_MRR_Eval(newHOLDOUT_LIST,All_ialsPRED,'Updated_ItemID')\n",
        "als_AllStepsMRR_azmg"
      ]
    },
    {
      "cell_type": "code",
      "execution_count": 79,
      "metadata": {},
      "outputs": [
        {
          "output_type": "execute_result",
          "data": {
            "text/plain": [
              "[0.067444,\n",
              " 0.067618,\n",
              " 0.067618,\n",
              " 0.06756,\n",
              " 0.067675,\n",
              " 0.067675,\n",
              " 0.067675,\n",
              " 0.067733,\n",
              " 0.067791,\n",
              " 0.067733,\n",
              " 0.067675,\n",
              " 0.067675,\n",
              " 0.067618,\n",
              " 0.067618,\n",
              " 0.067618]"
            ]
          },
          "metadata": {},
          "execution_count": 79
        }
      ],
      "source": [
        "##Coverage\n",
        "###cOVERAGE:\n",
        "als_AvgCovList_amg = AllSteps_Coverage_Ratio(newAMZGames_DF,All_usersialsPRED,'Updated_ItemID')\n",
        "als_AvgCovList_amg"
      ]
    },
    {
      "cell_type": "code",
      "execution_count": 80,
      "metadata": {},
      "outputs": [
        {
          "output_type": "execute_result",
          "data": {
            "text/plain": [
              "array([array([1.       , 1.       , 1.       , ..., 1.       , 1.       ,\n",
              "              0.7956453])                                                ,\n",
              "       array([1.        , 1.        , 1.        , ..., 1.        , 0.49096051,\n",
              "              1.        ])                                                    ,\n",
              "       array([1.        , 1.        , 1.        , ..., 0.92690249, 1.        ,\n",
              "              1.        ])                                                    ,\n",
              "       array([1.        , 1.        , 1.        , ..., 0.93397092, 1.        ,\n",
              "              0.70836709])                                                    ,\n",
              "       array([1.        , 1.        , 1.        , ..., 1.        , 1.        ,\n",
              "              0.84271627])                                                    ,\n",
              "       array([1.       , 1.       , 1.       , ..., 0.7956453, 1.       ,\n",
              "              1.       ])                                                ,\n",
              "       array([1.        , 1.        , 1.        , ..., 1.        , 0.70836709,\n",
              "              1.        ])                                                    ,\n",
              "       array([1.        , 1.        , 1.        , ..., 1.        , 1.        ,\n",
              "              0.37435993])                                                    ,\n",
              "       array([1.        , 1.        , 1.        , ..., 0.87216233, 1.        ,\n",
              "              1.        ])                                                    ,\n",
              "       array([1.        , 1.        , 1.        , ..., 0.23006416, 0.49096051,\n",
              "              0.7956453 ])                                                    ,\n",
              "       array([1.        , 1.        , 1.        , ..., 1.        , 0.92690249,\n",
              "              0.64828048])                                                    ,\n",
              "       array([1.        , 1.        , 1.        , ..., 0.49096051, 1.        ,\n",
              "              1.        ])                                                    ,\n",
              "       array([1.        , 1.        , 1.        , ..., 0.70836709, 0.41874099,\n",
              "              0.91813929])                                                    ,\n",
              "       array([1.        , 1.        , 1.        , ..., 1.        , 0.90698876,\n",
              "              1.        ])                                                    ],\n",
              "      dtype=object)"
            ]
          },
          "metadata": {},
          "execution_count": 80
        }
      ],
      "source": [
        "UpdtPSICorr_amg = Updt_getAll_AvgCorr(All_usersialsPRED,newUserItem_list,AllSteps,'Updated_UserID')  #,\n",
        "UpdtPSICorr_amg\n"
      ]
    },
    {
      "cell_type": "code",
      "execution_count": null,
      "metadata": {},
      "outputs": [],
      "source": []
    },
    {
      "cell_type": "code",
      "execution_count": null,
      "metadata": {},
      "outputs": [],
      "source": []
    },
    {
      "cell_type": "code",
      "execution_count": 81,
      "metadata": {},
      "outputs": [
        {
          "output_type": "stream",
          "name": "stdout",
          "text": [
            "0.996910090121146\n0.9966430925405705\n0.9963338303261913\n0.9966207847652867\n0.9965970104139847\n0.9970158089092586\n0.9968901113543907\n0.996415681302881\n0.9965009204286434\n0.9959621672464949\n0.9959822219615734\n0.9967086735077657\n0.9965829631948259\n0.996751554591299\n"
          ]
        }
      ],
      "source": [
        "\n",
        "for df in UpdtPSICorr_amg:\n",
        "    print(df.mean())  "
      ]
    },
    {
      "cell_type": "code",
      "execution_count": null,
      "metadata": {},
      "outputs": [],
      "source": []
    }
  ]
}