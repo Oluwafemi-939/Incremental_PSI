{
  "nbformat": 4,
  "nbformat_minor": 0,
  "metadata": {
    "colab": {
      "name": "iALS_retrainnew.ipynb",
      "provenance": [],
      "toc_visible": true
    },
    "kernelspec": {
      "name": "python392jvsc74a57bd01d40221c0336dfe0c468749ccfbce19a4d0ada951efb74219fd3ebf7d78ddc70",
      "display_name": "Python 3.9.2 64-bit ('PSI_project': conda)"
    },
    "language_info": {
      "name": "python",
      "version": "3.9.2"
    },
    "metadata": {
      "interpreter": {
        "hash": "1d40221c0336dfe0c468749ccfbce19a4d0ada951efb74219fd3ebf7d78ddc70"
      }
    }
  },
  "cells": [
    {
      "cell_type": "markdown",
      "metadata": {
        "id": "g8PK9_VZ3jb5"
      },
      "source": [
        "### Imports"
      ]
    },
    {
      "cell_type": "code",
      "metadata": {
        "id": "_mWI8Kh9kMBc"
      },
      "source": [
        "import os                                  #Hello2021\n",
        "os.environ[\"OMP_NUM_THREADS\"] = \"8\"        #\"export\" OMP_NUM_THREADS=4\n",
        "os.environ[\"OPENBLAS_NUM_THREADS\"] = \"8\"   #\"export\" OPENBLAS_NUM_THREADS=4 \n",
        "os.environ[\"MKL_NUM_THREADS\"] = \"8\"        #\"export\" MKL_NUM_THREADS=6\n",
        "os.environ[\"VECLIB_MAXIMUM_THREADS\"] = \"8\" #\"export\" VECLIB_MAXIMUM_THREADS=4\n",
        "os.environ[\"NUMEXPR_NUM_THREADS\"] = \"8\"    #Hello2021"
      ],
      "execution_count": null,
      "outputs": []
    },
    {
      "cell_type": "code",
      "metadata": {
        "id": "R3Eqsxu41uKo"
      },
      "source": [
        "import io\n",
        "import os\n",
        "import gzip\n",
        "import json\n",
        "import scipy\n",
        "import random\n",
        "import warnings\n",
        "import numpy as np\n",
        "import numba as nb\n",
        "import pandas as pd\n",
        "import datetime as dt\n",
        "import seaborn as sns\n",
        "from tqdm import tqdm\n",
        "from tqdm import trange\n",
        "import scipy.stats as st\n",
        "from collections import OrderedDict\n",
        "import scipy.sparse as sparse\n",
        "from scipy.linalg import orth\n",
        "import matplotlib.pyplot as plt\n",
        "from numpy import linalg as lin\n",
        "import implicit\n",
        "import pickle\n",
        "warnings.filterwarnings('ignore')\n",
        "from scipy.sparse import coo_matrix\n",
        "from scipy.sparse.linalg import svds\n",
        "from datetime import datetime as dt_dt\n",
        "from scipy.sparse.linalg import spsolve\n",
        "from numpy.linalg import qr as QR_decomp\n",
        "from scipy.sparse import csr_matrix, find\n",
        "from pandas.api.types import CategoricalDtype\n",
        "from typing import List\n",
        "import torch\n",
        "import torch.nn.functional as F\n",
        "from torch import nn\n",
        "from polara.evaluation.pipelines import random_grid\n",
        "import bottleneck as bn"
      ],
      "execution_count": null,
      "outputs": []
    },
    {
      "cell_type": "code",
      "metadata": {
        "id": "5yuxxyjZ4dYs"
      },
      "source": [
        "import sys\n",
        "sys.path.append('/home/oolaleke/incremental_PSI/Scripts/')\n",
        "#sys.path.append('/content/')"
      ],
      "execution_count": null,
      "outputs": []
    },
    {
      "cell_type": "code",
      "metadata": {
        "id": "QFu40Jgr4f8S"
      },
      "source": [
        "import a_DataHelpers\n",
        "import b_AlgoFunctions\n",
        "import c_PredEval\n",
        "import d_CorrScores\n",
        "import e_VAEfunction"
      ],
      "execution_count": null,
      "outputs": []
    },
    {
      "cell_type": "code",
      "metadata": {
        "id": "5Q7OU7w24kYj"
      },
      "source": [
        "from a_DataHelpers import getPivotMonths,Time_DataSplit,TestTrain_DataSplit,SingleRatingMatrix\n",
        "from a_DataHelpers import AllRatingMatrices,All_SingleStepRatMat,psiStep_RatMat,psiAllStep_RatMat\n",
        "from a_DataHelpers import Find_NewUsersItems,adjustedPSI_DF,adjustedAllDF,get_NEWHoldout,ADJUST_mainDF\n",
        "from a_DataHelpers import  SingleStepRatMat_2,AllSingleStepRatMat_2\n",
        "\n",
        "from b_AlgoFunctions import integrator,getStartingValues,integratorOnMat,last_psiTrainMat, pureSVD\n",
        "from b_AlgoFunctions import Updt_RowMatrix,getRow_Mat,row_update, Updt_ColMatrix,getCol_Mat,colunm_update\n",
        "from b_AlgoFunctions import UsersItems_RatPair,getRowCol_psiupdt,ITEMS_defferredStatus,USERS_defferredStatus\n",
        "from b_AlgoFunctions import getV_listUpdate, SingleStep_UPDATE,ALLSTEPs_UPDATE\n",
        "from b_AlgoFunctions import HitrEval_noprint,TuneALS,nonzeros,least_squares_cg,alternating_least_squares_cg\n",
        "\n",
        "from c_PredEval import TopNPred,TQDMgetALLTopNPred, Hitrate_Eval,getAll_HitRate,mean_confidence_interval\n",
        "from c_PredEval import TQDMgetALLTopNPred_ALLUSERS,getALLTopNPred_ALLUSERS,get_ALLRandPred\n",
        "from c_PredEval import topN_Index,getAll_RandomHitRate,getMOSTPOP_Pred,getAll_MostPOPHitRate,getAll_MOSTPOP_Pred\n",
        "from c_PredEval import StepCoverage_Ratio,AllSteps_Coverage_Ratio,getAll_VAEMRR, MRR_Eval,getAll_MRR_Eval\n",
        "from c_PredEval import TQDMgetAll_MRR_Eval, getAll_MostPOP_MRR,getAll_RandomRecMRR\n",
        "\n",
        "from d_CorrScores import no_copy_csr_matrix,build_rank_weights_matrix,rank_weighted_jaccard_index\n",
        "from d_CorrScores import Updt_getAll_AvgCorr, updtCorr_4AllRanks\n",
        "\n",
        "from e_VAEfunction import split_users, split_train_test, numerize_data, get_TrainRatMat, getTrainTest_RatMat\n"
      ],
      "execution_count": null,
      "outputs": []
    },
    {
      "cell_type": "code",
      "metadata": {
        "id": "jIHyM5Iy0dC2"
      },
      "source": [
        "#from c_PredEval import ials_TopNPred,ials_getALLPred,ials_getALLPredTQDM,ials_ALLUSERSpred,\n",
        "#ialsALLPred_ALLUSERS,TQDM_ialsALLPred_ALLUSERS\n"
      ],
      "execution_count": null,
      "outputs": []
    },
    {
      "cell_type": "markdown",
      "metadata": {
        "id": "sif5LDuJ1m5_"
      },
      "source": [
        "## iALS Functions"
      ]
    },
    {
      "cell_type": "code",
      "metadata": {
        "id": "3NfKN3HB1iap"
      },
      "source": [
        ""
      ],
      "execution_count": null,
      "outputs": []
    },
    {
      "cell_type": "markdown",
      "metadata": {
        "id": "ODuHEi_Yyf59"
      },
      "source": [
        "### Pred & Eval "
      ]
    },
    {
      "cell_type": "code",
      "metadata": {
        "id": "UTDT3YeHgv3F"
      },
      "source": [
        "def topN_Index(a, n):\n",
        "    parted = np.argpartition(a, -n)[-n:]\n",
        "    return parted[np.argsort(-a[parted])]\n",
        "\n",
        "def ials_TopNPred(RatingMat,holdout,users_vec,items_vec,user_column, N):  #N == Top_N\n",
        "    TestUsers = holdout[user_column]            #prediction for holdout users alone\n",
        "    HOLDOUT_usersMat = RatingMat[TestUsers,:]   #this doubles as the \"previously seen items\"\n",
        "    testusers_vec = users_vec[TestUsers, :]\n",
        "    PVVT =  testusers_vec.dot(items_vec.T) \n",
        "    users_column = HOLDOUT_usersMat.nonzero()[0]\n",
        "    items_column = HOLDOUT_usersMat.nonzero()[1]\n",
        "    args = np.array([users_column,items_column])\n",
        "    np.put(PVVT, np.ravel_multi_index(args, PVVT.shape),-np.inf)   #downsample previously seen items\n",
        "    TopN_pred = np.apply_along_axis(topN_Index, 1,PVVT,n = N)\n",
        "    return TopN_pred\n",
        "\n",
        "#####  #\n",
        "def ials_getALLPred(RatingMat_List,HOLDOUT_list,U_list,V_list,user_column,N):\n",
        "    All_TOPN_PRED = []\n",
        "    for RatMat,holdout,users_vec,items_vec in zip(RatingMat_List,HOLDOUT_list,U_list,V_list):\n",
        "        TopN_pred =  ials_TopNPred(RatMat,holdout,users_vec,items_vec,user_column, N)  \n",
        "        All_TOPN_PRED.append(TopN_pred)\n",
        "    return All_TOPN_PRED\n",
        "\n",
        "def ials_ALLUSERSpred(RatingMat,users_vec,items_vec,N):  ##Prediction for all users ...||Not just Holdout\n",
        "    PVVT =  users_vec.dot(items_vec.T) \n",
        "    users_column = RatingMat.nonzero()[0]\n",
        "    items_column = RatingMat.nonzero()[1]\n",
        "    args = np.array([users_column,items_column])\n",
        "    np.put(PVVT, np.ravel_multi_index(args, PVVT.shape),-np.inf)   ##downsample previously seen items\n",
        "    TopN_pred = np.apply_along_axis(topN_Index, 1,PVVT,n = N)\n",
        "    return TopN_pred\n",
        "\n",
        "def ialsALLPred_ALLUSERS(RatingMat_List,U_list,V_list,N):\n",
        "    All_TOPN_PRED = []\n",
        "    for RatMat,users_vec,items_vec in zip(RatingMat_List,U_list,V_list):  \n",
        "        TopN_pred = ials_ALLUSERSpred(RatMat,users_vec,items_vec,N) \n",
        "        All_TOPN_PRED.append(TopN_pred)\n",
        "    return All_TOPN_PRED\n"
      ],
      "execution_count": null,
      "outputs": []
    },
    {
      "cell_type": "code",
      "metadata": {
        "id": "3Cyxv5Qw0dDA"
      },
      "source": [
        "def getiALS_VUlist(UserItem_RatMAT,rank,iter,reg,alpha):\n",
        "    V_list = []\n",
        "    U_list = []\n",
        "    for RatMAT in tqdm(UserItem_RatMAT):\n",
        "        bst_Model = implicit.als.AlternatingLeastSquares(factors=rank, regularization=reg, iterations=iter,use_gpu = False)\n",
        "        Item_UsersMAT = (RatMAT.T*alpha).astype('double')\n",
        "        bst_Model.fit(Item_UsersMAT, show_progress=False)                \n",
        "        user_vecs = bst_Model.user_factors\n",
        "        item_vecs = bst_Model.item_factors\n",
        "        V_list.append(item_vecs)\n",
        "        U_list.append(user_vecs)\n",
        "    return V_list,U_list "
      ],
      "execution_count": null,
      "outputs": []
    },
    {
      "cell_type": "code",
      "metadata": {
        "id": "x4jYfzu0078G"
      },
      "source": [
        ""
      ],
      "execution_count": null,
      "outputs": []
    },
    {
      "cell_type": "code",
      "metadata": {
        "id": "HOyGjh800dDJ"
      },
      "source": [
        "## Tuning::\n",
        "## Tuning::\n",
        "## Tuning::"
      ],
      "execution_count": null,
      "outputs": []
    },
    {
      "cell_type": "code",
      "metadata": {
        "id": "Js5-pih_0dDK"
      },
      "source": [
        "def HitrEval_noprint(Holdout,TopN_pred,user_column,item_column):\n",
        "    Eval_itemsVector  =  Holdout[[item_column]].to_numpy()\n",
        "    HitRate_arr   =  (TopN_pred == Eval_itemsVector).sum(axis=1)  ##sum along row...\n",
        "    HitCount = np.count_nonzero(HitRate_arr == 1)\n",
        "    HitRate_ = HitRate_arr.mean()\n",
        "    return HitRate_\n",
        "\n",
        "def TuneALS(train_set,holdout,als_param_grid):\n",
        "    best_hr   = -np.inf\n",
        "    best_model = None\n",
        "    for i in trange(len(als_param_grid)):\n",
        "        alpha, reg, rank, iter = list(als_param_grid)[i]  \n",
        "        ALSmodel = implicit.als.AlternatingLeastSquares(\n",
        "                   factors=rank, regularization=reg, iterations=iter,use_gpu = False)\n",
        "        #train ALS model\n",
        "        Item_UsersMAT = (train_set.T * alpha).astype('double')\n",
        "        ALSmodel.fit(Item_UsersMAT, show_progress=False)                \n",
        "        users_vecs = ALSmodel.user_factors\n",
        "        items_vecs = ALSmodel.item_factors                                              \n",
        "        ##############        ##############  users_vecs\n",
        "        top10_pred = ials_TopNPred(train_set,holdout,users_vecs,items_vecs,'Updated_UserID', N=10) \n",
        "        test_hr = HitrEval_noprint(holdout,top10_pred,'Updated_UserID','Updated_ItemID')  #                           \n",
        "\n",
        "        print('latent factors= {} ,reg_ = {}:, n_iter = {}, alpha = {}, HR= {}'.format(rank,reg,iter,alpha,test_hr))\n",
        "        if test_hr > best_hr:\n",
        "           best_hr  = test_hr\n",
        "           best_rank = rank\n",
        "           best_reg  = reg\n",
        "           best_iter = iter\n",
        "           best_alpha = alpha\n",
        "           best_model = ALSmodel\n",
        "    print('\\n Best model; latent_factors= {} , reg_ = {}, n_iter = {}, alpha = {}, HR = {}'.format(best_rank,\n",
        "                                                                              best_reg, best_iter,best_alpha,best_hr))\n",
        "    return best_rank, best_reg, best_iter,best_alpha,best_hr,best_model    \n"
      ],
      "execution_count": null,
      "outputs": []
    },
    {
      "cell_type": "code",
      "metadata": {
        "id": "-uigCnV70dDP"
      },
      "source": [
        ""
      ],
      "execution_count": null,
      "outputs": []
    },
    {
      "cell_type": "markdown",
      "metadata": {
        "id": "7U9zPCau2ojb"
      },
      "source": [
        "# MovieLen_DF"
      ]
    },
    {
      "cell_type": "code",
      "metadata": {
        "id": "iK0cLfBX5uqL"
      },
      "source": [
        "##MOVIElen_20M\n",
        "newMLDF_20M = pd.read_csv('/mnt/bulky/oolaleke/TDM_Dataset/ML_20M/MLDF20M_afterUpdt.csv.zip')"
      ],
      "execution_count": null,
      "outputs": []
    },
    {
      "cell_type": "code",
      "metadata": {
        "id": "RoziaV1C6HsY"
      },
      "source": [
        "import pickle\n",
        "\n",
        "with open('/mnt/bulky/oolaleke/TDM_Dataset/ML_20M/MLDF20M_newHoldout.pkl', 'rb') as f:\n",
        "     newHoldoutlist_ml20 = pickle.load(f)     \n",
        "    \n",
        "with open('/mnt/bulky/oolaleke/TDM_Dataset/ML_20M/MLDF20M_newUserItem.pkl', 'rb') as f:\n",
        "     newUserItemlist_ml20 = pickle.load(f)\n"
      ],
      "execution_count": null,
      "outputs": []
    },
    {
      "cell_type": "code",
      "metadata": {
        "id": "s9tQo7Re6K13",
        "outputId": "25639189-242e-4b59-b026-dfadd3923bc8"
      },
      "source": [
        "rows_i = newMLDF_20M['Updated_UserID'].nunique()\n",
        "cols_i = newMLDF_20M['Updated_ItemID'].nunique()\n",
        "UserItemMATList_ml20 = AllRatingMatrices(newUserItemlist_ml20,'Updated_UserID','Updated_ItemID',rows_i ,cols_i) \n",
        "print(len(UserItemMATList_ml20))   \n",
        "UserItemMATList_ml20"
      ],
      "execution_count": null,
      "outputs": [
        {
          "output_type": "stream",
          "text": [
            "15\n"
          ],
          "name": "stdout"
        },
        {
          "output_type": "execute_result",
          "data": {
            "text/plain": [
              "[<136677x20720 sparse matrix of type '<class 'numpy.float64'>'\n",
              " \twith 8865107 stored elements in Compressed Sparse Row format>,\n",
              " <136677x20720 sparse matrix of type '<class 'numpy.float64'>'\n",
              " \twith 8945455 stored elements in Compressed Sparse Row format>,\n",
              " <136677x20720 sparse matrix of type '<class 'numpy.float64'>'\n",
              " \twith 9025842 stored elements in Compressed Sparse Row format>,\n",
              " <136677x20720 sparse matrix of type '<class 'numpy.float64'>'\n",
              " \twith 9106051 stored elements in Compressed Sparse Row format>,\n",
              " <136677x20720 sparse matrix of type '<class 'numpy.float64'>'\n",
              " \twith 9186201 stored elements in Compressed Sparse Row format>,\n",
              " <136677x20720 sparse matrix of type '<class 'numpy.float64'>'\n",
              " \twith 9266468 stored elements in Compressed Sparse Row format>,\n",
              " <136677x20720 sparse matrix of type '<class 'numpy.float64'>'\n",
              " \twith 9346597 stored elements in Compressed Sparse Row format>,\n",
              " <136677x20720 sparse matrix of type '<class 'numpy.float64'>'\n",
              " \twith 9426837 stored elements in Compressed Sparse Row format>,\n",
              " <136677x20720 sparse matrix of type '<class 'numpy.float64'>'\n",
              " \twith 9506974 stored elements in Compressed Sparse Row format>,\n",
              " <136677x20720 sparse matrix of type '<class 'numpy.float64'>'\n",
              " \twith 9586957 stored elements in Compressed Sparse Row format>,\n",
              " <136677x20720 sparse matrix of type '<class 'numpy.float64'>'\n",
              " \twith 9667299 stored elements in Compressed Sparse Row format>,\n",
              " <136677x20720 sparse matrix of type '<class 'numpy.float64'>'\n",
              " \twith 9747689 stored elements in Compressed Sparse Row format>,\n",
              " <136677x20720 sparse matrix of type '<class 'numpy.float64'>'\n",
              " \twith 9828194 stored elements in Compressed Sparse Row format>,\n",
              " <136677x20720 sparse matrix of type '<class 'numpy.float64'>'\n",
              " \twith 9908522 stored elements in Compressed Sparse Row format>,\n",
              " <136677x20720 sparse matrix of type '<class 'numpy.float64'>'\n",
              " \twith 9987952 stored elements in Compressed Sparse Row format>]"
            ]
          },
          "metadata": {
            "tags": []
          },
          "execution_count": 78
        }
      ]
    },
    {
      "cell_type": "code",
      "metadata": {
        "id": "lPCRJ2FV0dDa"
      },
      "source": [
        "#### Tuning\n",
        "####\n",
        "#### Tuning"
      ],
      "execution_count": null,
      "outputs": []
    },
    {
      "cell_type": "code",
      "metadata": {
        "id": "k4scS38H0dDb",
        "outputId": "eb219680-eb41-4221-f4af-e6d47020faf3"
      },
      "source": [
        "rows_i = newMLDF_20M['Updated_UserID'].nunique()\n",
        "cols_i = newMLDF_20M['Updated_ItemID'].nunique()\n",
        "\n",
        "holdoutdf_ml20 = newHoldoutlist_ml20[0]\n",
        "print(\"Holdout set: \",holdoutdf_ml20.shape[0])\n",
        "print()\n",
        "Trainmat_ml20 = SingleRatingMatrix(newUserItemlist_ml20[0],'Updated_UserID','Updated_ItemID',rows_i,cols_i)  #changes start within steps...\n",
        "Trainmat_ml20"
      ],
      "execution_count": null,
      "outputs": [
        {
          "output_type": "stream",
          "text": [
            "Holdout set:  3459\n",
            "\n"
          ],
          "name": "stdout"
        },
        {
          "output_type": "execute_result",
          "data": {
            "text/plain": [
              "<136677x20720 sparse matrix of type '<class 'numpy.float64'>'\n",
              "\twith 8865107 stored elements in Compressed Sparse Row format>"
            ]
          },
          "metadata": {
            "tags": []
          },
          "execution_count": 41
        }
      ]
    },
    {
      "cell_type": "code",
      "metadata": {
        "id": "R1vC6MdP0dDd",
        "outputId": "f847a4e6-8fb3-486c-c92b-a6ab7fdc7920"
      },
      "source": [
        "als_params = dict(alpha = [ 0.001,0.05, 0.1, 0.5, 1, 5, 10, 50, 100],\n",
        "                  regularization = [0.001, 0.005, 0.01, 0.05, 0.1, 0.5, 1, 10],\n",
        "                  rank = list(range(10, 81, 10)),\n",
        "                  iter_array = [10,15,20,25,30])\n",
        "\n",
        "als_param_grid, als_param_names = random_grid(als_params, n=60)\n",
        "print(als_param_names)\n",
        "len(als_param_grid)   "
      ],
      "execution_count": null,
      "outputs": [
        {
          "output_type": "stream",
          "text": [
            "('alpha', 'regularization', 'rank', 'iter_array')\n"
          ],
          "name": "stdout"
        },
        {
          "output_type": "execute_result",
          "data": {
            "text/plain": [
              "60"
            ]
          },
          "metadata": {
            "tags": []
          },
          "execution_count": 42
        }
      ]
    },
    {
      "cell_type": "code",
      "metadata": {
        "id": "GMgS0A0g0dDk",
        "outputId": "4b818177-f1ac-4471-de79-20ea145e92c9"
      },
      "source": [
        "for i in range(10):\n",
        "    alpha, reg, rank, iter = list(als_param_grid)[i]  \n",
        "    print(alpha, reg, rank,iter)"
      ],
      "execution_count": null,
      "outputs": [
        {
          "output_type": "stream",
          "text": [
            "1 0.01 20 20\n",
            "5 0.1 50 10\n",
            "100 0.01 10 30\n",
            "0.5 0.001 60 20\n",
            "0.05 10 10 30\n",
            "0.5 0.1 70 20\n",
            "100 0.01 70 20\n",
            "0.05 1 70 10\n",
            "0.5 10 80 10\n",
            "0.5 0.05 70 30\n"
          ],
          "name": "stdout"
        }
      ]
    },
    {
      "cell_type": "code",
      "metadata": {
        "id": "lEdYPpvS0dDm",
        "outputId": "be8bf22e-387d-4d80-85c4-9e5364701bee"
      },
      "source": [
        "bestModelInfo_ml20 = TuneALS(Trainmat_ml20,holdoutdf_ml20,als_param_grid)    "
      ],
      "execution_count": null,
      "outputs": [
        {
          "output_type": "stream",
          "text": [
            "  2%|▏         | 1/60 [01:23<1:22:02, 83.44s/it]latent factors= 20 ,reg_ = 0.01:, n_iter = 20, alpha = 1, HR= 0.03902862098872507\n",
            "  3%|▎         | 2/60 [02:12<1:00:52, 62.97s/it]latent factors= 50 ,reg_ = 0.1:, n_iter = 10, alpha = 5, HR= 0.049147152356172306\n",
            "  5%|▌         | 3/60 [04:24<1:30:07, 94.87s/it]latent factors= 10 ,reg_ = 0.01:, n_iter = 30, alpha = 100, HR= 0.03498120844174617\n",
            "  7%|▋         | 4/60 [06:00<1:28:39, 94.99s/it]latent factors= 60 ,reg_ = 0.001:, n_iter = 20, alpha = 0.5, HR= 0.04163052905464007\n",
            "  8%|▊         | 5/60 [08:19<1:41:38, 110.87s/it]latent factors= 10 ,reg_ = 10:, n_iter = 30, alpha = 0.05, HR= 0.04047412546978896\n",
            " 10%|█         | 6/60 [10:02<1:37:34, 108.41s/it]latent factors= 70 ,reg_ = 0.1:, n_iter = 20, alpha = 0.5, HR= 0.047701647875108416\n",
            " 12%|█▏        | 7/60 [11:43<1:33:39, 106.03s/it]latent factors= 70 ,reg_ = 0.01:, n_iter = 20, alpha = 100, HR= 0.03498120844174617\n",
            " 13%|█▎        | 8/60 [12:34<1:16:42, 88.52s/it] latent factors= 70 ,reg_ = 1:, n_iter = 10, alpha = 0.05, HR= 0.037872217403873955\n",
            " 15%|█▌        | 9/60 [13:28<1:06:05, 77.75s/it]latent factors= 80 ,reg_ = 10:, n_iter = 10, alpha = 0.5, HR= 0.04278693263949118\n",
            " 17%|█▋        | 10/60 [16:04<1:24:52, 101.84s/it]latent factors= 70 ,reg_ = 0.05:, n_iter = 30, alpha = 0.5, HR= 0.045388840705406185\n",
            " 18%|█▊        | 11/60 [17:52<1:24:31, 103.50s/it]latent factors= 60 ,reg_ = 0.5:, n_iter = 25, alpha = 1, HR= 0.049147152356172306\n",
            " 20%|██        | 12/60 [18:41<1:09:43, 87.15s/it] latent factors= 30 ,reg_ = 0.005:, n_iter = 10, alpha = 0.5, HR= 0.035270309337958945\n",
            " 22%|██▏       | 13/60 [19:29<58:53, 75.17s/it]  latent factors= 10 ,reg_ = 0.5:, n_iter = 10, alpha = 0.1, HR= 0.041052327262214514\n",
            " 23%|██▎       | 14/60 [21:38<1:10:01, 91.35s/it]latent factors= 20 ,reg_ = 0.05:, n_iter = 30, alpha = 0.05, HR= 0.03758311650766118\n",
            " 25%|██▌       | 15/60 [22:26<58:43, 78.31s/it]  latent factors= 30 ,reg_ = 0.5:, n_iter = 10, alpha = 0.5, HR= 0.04278693263949118\n",
            " 27%|██▋       | 16/60 [23:12<50:20, 68.65s/it]latent factors= 10 ,reg_ = 10:, n_iter = 10, alpha = 50, HR= 0.030933795894767274\n",
            " 28%|██▊       | 17/60 [25:36<1:05:26, 91.32s/it]latent factors= 40 ,reg_ = 0.001:, n_iter = 30, alpha = 0.001, HR= 0.03613761202659728\n",
            " 30%|███       | 18/60 [26:54<1:01:07, 87.33s/it]latent factors= 80 ,reg_ = 1:, n_iter = 15, alpha = 0.1, HR= 0.04047412546978896\n",
            " 32%|███▏      | 19/60 [27:43<51:51, 75.88s/it]  latent factors= 10 ,reg_ = 0.05:, n_iter = 10, alpha = 0.05, HR= 0.03498120844174617\n",
            " 33%|███▎      | 20/60 [29:20<54:51, 82.29s/it]latent factors= 60 ,reg_ = 0.1:, n_iter = 20, alpha = 10, HR= 0.05608557386527898\n",
            " 35%|███▌      | 21/60 [31:56<1:07:50, 104.37s/it]latent factors= 80 ,reg_ = 0.01:, n_iter = 30, alpha = 5, HR= 0.050881757733448975\n",
            " 37%|███▋      | 22/60 [34:31<1:15:40, 119.48s/it]latent factors= 40 ,reg_ = 1:, n_iter = 30, alpha = 0.1, HR= 0.04278693263949118\n",
            " 38%|███▊      | 23/60 [35:38<1:03:52, 103.59s/it]latent factors= 70 ,reg_ = 0.005:, n_iter = 15, alpha = 1, HR= 0.04596704249783174\n",
            " 40%|████      | 24/60 [37:24<1:02:43, 104.54s/it]latent factors= 70 ,reg_ = 0.05:, n_iter = 20, alpha = 0.5, HR= 0.04827984966753397\n",
            " 42%|████▏     | 25/60 [38:51<57:56, 99.32s/it]   latent factors= 10 ,reg_ = 0.5:, n_iter = 20, alpha = 1, HR= 0.043654235328129516\n",
            " 43%|████▎     | 26/60 [39:46<48:39, 85.87s/it]latent factors= 40 ,reg_ = 0.001:, n_iter = 10, alpha = 0.05, HR= 0.04047412546978896\n",
            " 45%|████▌     | 27/60 [41:22<48:50, 88.81s/it]latent factors= 50 ,reg_ = 10:, n_iter = 20, alpha = 0.5, HR= 0.04567794160161896\n",
            " 47%|████▋     | 28/60 [42:13<41:24, 77.65s/it]latent factors= 70 ,reg_ = 0.1:, n_iter = 10, alpha = 0.5, HR= 0.049436253252385085\n",
            " 48%|████▊     | 29/60 [44:02<45:01, 87.13s/it]latent factors= 50 ,reg_ = 1:, n_iter = 25, alpha = 1, HR= 0.04856895056374675\n",
            " 50%|█████     | 30/60 [46:25<51:55, 103.84s/it]latent factors= 20 ,reg_ = 10:, n_iter = 30, alpha = 10, HR= 0.036715813819022836\n",
            " 52%|█████▏    | 31/60 [47:44<46:36, 96.42s/it] latent factors= 40 ,reg_ = 10:, n_iter = 15, alpha = 0.05, HR= 0.040763226366001735\n",
            " 53%|█████▎    | 32/60 [49:47<48:42, 104.37s/it]latent factors= 10 ,reg_ = 1:, n_iter = 25, alpha = 0.05, HR= 0.03642671292281006\n",
            " 55%|█████▌    | 33/60 [52:24<54:03, 120.14s/it]latent factors= 80 ,reg_ = 10:, n_iter = 30, alpha = 0.05, HR= 0.04134142815842729\n",
            " 57%|█████▋    | 34/60 [54:50<55:20, 127.72s/it]latent factors= 20 ,reg_ = 0.1:, n_iter = 30, alpha = 0.5, HR= 0.040763226366001735\n",
            " 58%|█████▊    | 35/60 [55:15<40:26, 97.07s/it] latent factors= 60 ,reg_ = 10:, n_iter = 10, alpha = 0.001, HR= 0.03151199768719283\n",
            " 60%|██████    | 36/60 [56:34<36:37, 91.56s/it]latent factors= 70 ,reg_ = 0.01:, n_iter = 15, alpha = 50, HR= 0.04307603353570396\n",
            " 62%|██████▏   | 37/60 [58:33<38:14, 99.78s/it]latent factors= 20 ,reg_ = 10:, n_iter = 25, alpha = 100, HR= 0.03411390575310783\n",
            " 63%|██████▎   | 38/60 [1:00:14<36:43, 100.17s/it]latent factors= 60 ,reg_ = 0.005:, n_iter = 20, alpha = 0.001, HR= 0.035270309337958945\n",
            " 65%|██████▌   | 39/60 [1:01:30<32:33, 93.03s/it] latent factors= 80 ,reg_ = 0.001:, n_iter = 15, alpha = 5, HR= 0.04856895056374675\n",
            " 67%|██████▋   | 40/60 [1:03:13<31:59, 95.99s/it]latent factors= 70 ,reg_ = 0.001:, n_iter = 20, alpha = 5, HR= 0.04741254697889564\n",
            " 68%|██████▊   | 41/60 [1:05:33<34:35, 109.24s/it]latent factors= 20 ,reg_ = 0.005:, n_iter = 30, alpha = 0.001, HR= 0.03555941023417172\n",
            " 70%|███████   | 42/60 [1:07:23<32:50, 109.45s/it]latent factors= 60 ,reg_ = 10:, n_iter = 25, alpha = 1, HR= 0.05001445504481064\n",
            " 72%|███████▏  | 43/60 [1:09:48<33:59, 119.98s/it]latent factors= 30 ,reg_ = 0.5:, n_iter = 30, alpha = 5, HR= 0.053772766695576756\n",
            " 73%|███████▎  | 44/60 [1:12:22<34:42, 130.19s/it]latent factors= 60 ,reg_ = 1:, n_iter = 30, alpha = 100, HR= 0.04134142815842729\n",
            " 75%|███████▌  | 45/60 [1:14:32<32:31, 130.11s/it]latent factors= 50 ,reg_ = 0.05:, n_iter = 25, alpha = 100, HR= 0.03151199768719283\n",
            " 77%|███████▋  | 46/60 [1:17:05<31:57, 136.97s/it]latent factors= 40 ,reg_ = 1:, n_iter = 30, alpha = 50, HR= 0.045388840705406185\n",
            " 78%|███████▊  | 47/60 [1:17:56<24:07, 111.32s/it]latent factors= 70 ,reg_ = 0.1:, n_iter = 10, alpha = 0.001, HR= 0.03642671292281006\n",
            " 80%|████████  | 48/60 [1:18:47<18:38, 93.19s/it] latent factors= 40 ,reg_ = 0.01:, n_iter = 10, alpha = 50, HR= 0.04163052905464007\n",
            " 82%|████████▏ | 49/60 [1:21:19<20:20, 110.93s/it]latent factors= 50 ,reg_ = 0.001:, n_iter = 30, alpha = 100, HR= 0.03266840127204394\n",
            " 83%|████████▎ | 50/60 [1:22:34<16:40, 100.05s/it]latent factors= 60 ,reg_ = 0.5:, n_iter = 15, alpha = 0.1, HR= 0.04336513443191674\n",
            " 85%|████████▌ | 51/60 [1:24:33<15:50, 105.61s/it]latent factors= 50 ,reg_ = 0.5:, n_iter = 25, alpha = 10, HR= 0.05348366579936398\n",
            " 87%|████████▋ | 52/60 [1:25:19<11:43, 87.94s/it] latent factors= 80 ,reg_ = 0.5:, n_iter = 10, alpha = 1, HR= 0.04885805145995953\n",
            " 88%|████████▊ | 53/60 [1:27:31<11:46, 100.96s/it]latent factors= 50 ,reg_ = 0.1:, n_iter = 30, alpha = 1, HR= 0.05145995952587453\n",
            " 90%|█████████ | 54/60 [1:29:54<11:22, 113.69s/it]latent factors= 30 ,reg_ = 10:, n_iter = 30, alpha = 10, HR= 0.04191962995085285\n",
            " 92%|█████████▏| 55/60 [1:31:04<08:23, 100.63s/it]latent factors= 30 ,reg_ = 0.01:, n_iter = 15, alpha = 100, HR= 0.0372940156114484\n",
            " 93%|█████████▎| 56/60 [1:32:45<06:42, 100.59s/it]latent factors= 30 ,reg_ = 10:, n_iter = 20, alpha = 50, HR= 0.041052327262214514\n",
            " 95%|█████████▌| 57/60 [1:33:35<04:16, 85.42s/it] latent factors= 50 ,reg_ = 1:, n_iter = 10, alpha = 50, HR= 0.0465452442902573\n",
            " 97%|█████████▋| 58/60 [1:34:29<02:31, 75.92s/it]latent factors= 20 ,reg_ = 0.05:, n_iter = 10, alpha = 5, HR= 0.04596704249783174\n",
            " 98%|█████████▊| 59/60 [1:35:18<01:07, 67.99s/it]latent factors= 30 ,reg_ = 0.1:, n_iter = 10, alpha = 50, HR= 0.04134142815842729\n",
            "100%|██████████| 60/60 [1:36:04<00:00, 96.07s/it]latent factors= 20 ,reg_ = 0.5:, n_iter = 10, alpha = 0.05, HR= 0.0358485111303845\n",
            "\n",
            " Best model; latent_factors= 60 , reg_ = 0.1, n_iter = 20, alpha = 10, HR = 0.05608557386527898\n",
            "\n"
          ],
          "name": "stderr"
        }
      ]
    },
    {
      "cell_type": "code",
      "metadata": {
        "id": "eGvkcGV80dDo",
        "outputId": "9aa857c4-b725-4e4f-d199-3a96b8902bff"
      },
      "source": [
        "#latent_factors= 60 , reg_ = 0.1, n_iter = 20, alpha = 10, :\n",
        "rank =  60\n",
        "reglr = 0.01\n",
        "iter =  20\n",
        "alpha = 10\n",
        "\n",
        "Vlist_ml20, Ulist_ml20 = getiALS_VUlist(UserItemMATList_ml20,rank=60,iter=20,reg=0.01,alpha=10)"
      ],
      "execution_count": null,
      "outputs": [
        {
          "output_type": "stream",
          "text": [
            "100%|██████████| 15/15 [26:14<00:00, 104.99s/it]\n"
          ],
          "name": "stderr"
        }
      ]
    },
    {
      "cell_type": "code",
      "metadata": {
        "id": "lNrpd6Yt0dDq",
        "outputId": "495d4f7d-0045-4904-ebb2-dd5f40eb3e13"
      },
      "source": [
        "All_RTPRED_ml20 = ials_getALLPred(UserItemMATList_ml20,newHoldoutlist_ml20,Ulist_ml20,Vlist_ml20,'Updated_UserID',N=10) \n",
        "print(len(All_RTPRED_ml20))"
      ],
      "execution_count": null,
      "outputs": [
        {
          "output_type": "stream",
          "text": [
            "15\n"
          ],
          "name": "stdout"
        }
      ]
    },
    {
      "cell_type": "code",
      "metadata": {
        "id": "s9CQPjo90dDr",
        "outputId": "ab314edc-407c-47a3-e1a8-89d6245072c2"
      },
      "source": [
        "AllStepsRTHitr_ml20, LowerBand, Avg_HitRate, UpperBand   = getAll_HitRate(newHoldoutlist_ml20,All_RTPRED_ml20,'Updated_UserID','Updated_ItemID')"
      ],
      "execution_count": null,
      "outputs": [
        {
          "output_type": "stream",
          "text": [
            "Number of hits:  199\n",
            "Total Num of users:  3459\n",
            "Recommendation HitRate:  0.05753107834634287\n",
            "Number of hits:  188\n",
            "Total Num of users:  3311\n",
            "Recommendation HitRate:  0.05678042887345213\n",
            "Number of hits:  166\n",
            "Total Num of users:  3124\n",
            "Recommendation HitRate:  0.05313700384122919\n",
            "Number of hits:  198\n",
            "Total Num of users:  3115\n",
            "Recommendation HitRate:  0.06356340288924558\n",
            "Number of hits:  185\n",
            "Total Num of users:  3165\n",
            "Recommendation HitRate:  0.05845181674565561\n",
            "Number of hits:  152\n",
            "Total Num of users:  3098\n",
            "Recommendation HitRate:  0.04906391220142027\n",
            "Number of hits:  161\n",
            "Total Num of users:  3169\n",
            "Recommendation HitRate:  0.050804670242978855\n",
            "Number of hits:  187\n",
            "Total Num of users:  3129\n",
            "Recommendation HitRate:  0.05976350271652285\n",
            "Number of hits:  229\n",
            "Total Num of users:  3192\n",
            "Recommendation HitRate:  0.07174185463659148\n",
            "Number of hits:  217\n",
            "Total Num of users:  3409\n",
            "Recommendation HitRate:  0.06365503080082136\n",
            "Number of hits:  198\n",
            "Total Num of users:  3267\n",
            "Recommendation HitRate:  0.06060606060606061\n",
            "Number of hits:  177\n",
            "Total Num of users:  3077\n",
            "Recommendation HitRate:  0.057523561910952224\n",
            "Number of hits:  184\n",
            "Total Num of users:  2772\n",
            "Recommendation HitRate:  0.06637806637806638\n",
            "Number of hits:  149\n",
            "Total Num of users:  2644\n",
            "Recommendation HitRate:  0.05635400907715583\n",
            "Number of hits:  159\n",
            "Total Num of users:  2730\n",
            "Recommendation HitRate:  0.05824175824175824\n",
            "Average HitRate for All Recommendations:  0.05890641050055023\n"
          ],
          "name": "stdout"
        }
      ]
    },
    {
      "cell_type": "code",
      "metadata": {
        "id": "37zvzfr60dDt",
        "outputId": "4e93033e-f270-4374-fc05-b2ecaaa910ee"
      },
      "source": [
        "AllStepsRTHitr_ml20"
      ],
      "execution_count": null,
      "outputs": [
        {
          "output_type": "execute_result",
          "data": {
            "text/plain": [
              "[0.05753107834634287,\n",
              " 0.05678042887345213,\n",
              " 0.05313700384122919,\n",
              " 0.06356340288924558,\n",
              " 0.05845181674565561,\n",
              " 0.04906391220142027,\n",
              " 0.050804670242978855,\n",
              " 0.05976350271652285,\n",
              " 0.07174185463659148,\n",
              " 0.06365503080082136,\n",
              " 0.06060606060606061,\n",
              " 0.057523561910952224,\n",
              " 0.06637806637806638,\n",
              " 0.05635400907715583,\n",
              " 0.05824175824175824]"
            ]
          },
          "metadata": {
            "tags": []
          },
          "execution_count": 82
        }
      ]
    },
    {
      "cell_type": "code",
      "metadata": {
        "id": "fTmTAGjD0dDu",
        "outputId": "686db4f9-41d1-40f6-ae24-74c73b0ae1a1"
      },
      "source": [
        "## MRR\n",
        "AllStepsRTMRR_ml20, als_LBand, als_AvgMRR, als_UBand  = TQDMgetAll_MRR_Eval(newHoldoutlist_ml20,All_RTPRED_ml20,'Updated_ItemID')\n",
        "AllStepsRTMRR_ml20"
      ],
      "execution_count": null,
      "outputs": [
        {
          "output_type": "stream",
          "text": [
            "15it [00:00, 562.55it/s]\n"
          ],
          "name": "stderr"
        },
        {
          "output_type": "execute_result",
          "data": {
            "text/plain": [
              "[0.021298,\n",
              " 0.020325,\n",
              " 0.018839,\n",
              " 0.023648,\n",
              " 0.022785,\n",
              " 0.017929,\n",
              " 0.017866,\n",
              " 0.022683,\n",
              " 0.027,\n",
              " 0.021308,\n",
              " 0.021749,\n",
              " 0.019226,\n",
              " 0.022571,\n",
              " 0.022542,\n",
              " 0.020212]"
            ]
          },
          "metadata": {
            "tags": []
          },
          "execution_count": 83
        }
      ]
    },
    {
      "cell_type": "code",
      "metadata": {
        "id": "FhS2rUBg0dDw",
        "outputId": "50ec662c-d987-42b6-c735-4fddebba0b64"
      },
      "source": [
        "## AllUsers Pred:  \n",
        "AllUsrsRTPRED_ml20  = ialsALLPred_ALLUSERS(UserItemMATList_ml20,Ulist_ml20,Vlist_ml20,N=10)  \n",
        "print(len(AllUsrsRTPRED_ml20))\n",
        "AllUsrsRTPRED_ml20[:2]"
      ],
      "execution_count": null,
      "outputs": [
        {
          "output_type": "stream",
          "text": [
            "15\n"
          ],
          "name": "stdout"
        },
        {
          "output_type": "execute_result",
          "data": {
            "text/plain": [
              "[array([[  950,  1108,   140, ...,   108,  1129,   430],\n",
              "        [   78,  1062,   663, ...,   105,   719,    15],\n",
              "        [  179,   124,   249, ...,   135,   869,    29],\n",
              "        ...,\n",
              "        [ 6918,  6901,  6908, ...,  6903,  6902, 20719],\n",
              "        [ 6918,  6901,  6908, ...,  6903,  6902, 20719],\n",
              "        [ 6918,  6901,  6908, ...,  6903,  6902, 20719]]),\n",
              " array([[  108,   950,    81, ...,  1129,  1058,  1108],\n",
              "        [   78,  1062,   969, ...,   719,   105,    15],\n",
              "        [  179,   274,   199, ...,    22,   869,   112],\n",
              "        ...,\n",
              "        [ 6918,  6901,  6908, ...,  6903,  6902, 20719],\n",
              "        [ 6918,  6901,  6908, ...,  6903,  6902, 20719],\n",
              "        [ 6918,  6901,  6908, ...,  6903,  6902, 20719]])]"
            ]
          },
          "metadata": {
            "tags": []
          },
          "execution_count": 84
        }
      ]
    },
    {
      "cell_type": "code",
      "metadata": {
        "id": "SlkbcHiq0dDx"
      },
      "source": [
        "with open('/mnt/bulky/oolaleke/TDM_Dataset/ML_20M/ML20_iRTnewPRED.pkl', 'wb') as f:  \n",
        "     pickle.dump(AllUsrsRTPRED_ml20, f)"
      ],
      "execution_count": null,
      "outputs": []
    },
    {
      "cell_type": "code",
      "metadata": {
        "id": "EEfPwpN00dDy",
        "outputId": "861ae6f7-8b65-431c-c8ef-42f76691f2af"
      },
      "source": [
        "##Coverage\n",
        "alsAvgCovList_ml20 = AllSteps_Coverage_Ratio(newMLDF_20M,AllUsrsRTPRED_ml20,'Updated_ItemID')\n",
        "alsAvgCovList_ml20"
      ],
      "execution_count": null,
      "outputs": [
        {
          "output_type": "execute_result",
          "data": {
            "text/plain": [
              "[0.098456,\n",
              " 0.098842,\n",
              " 0.098745,\n",
              " 0.098986,\n",
              " 0.099469,\n",
              " 0.100531,\n",
              " 0.101014,\n",
              " 0.100917,\n",
              " 0.10111,\n",
              " 0.1014,\n",
              " 0.101641,\n",
              " 0.102413,\n",
              " 0.102268,\n",
              " 0.102751,\n",
              " 0.102268]"
            ]
          },
          "metadata": {
            "tags": []
          },
          "execution_count": 86
        }
      ]
    },
    {
      "cell_type": "code",
      "metadata": {
        "id": "ubmYh1RH0dD0",
        "outputId": "9d12420c-f4ca-4435-a283-bee934d844c6"
      },
      "source": [
        "AllSteps  = list(range(1,15))\n",
        "iALSCorr_ml20 = Updt_getAll_AvgCorr(AllUsrsRTPRED_ml20,newUserItemlist_ml20,AllSteps,'Updated_UserID')  #,\n",
        "for df in iALSCorr_ml20:\n",
        "    print(df.mean()) "
      ],
      "execution_count": null,
      "outputs": [
        {
          "output_type": "stream",
          "text": [
            "0.5819352882884975\n",
            "0.5667725133848397\n",
            "0.5684140172124739\n",
            "0.5803752847244131\n",
            "0.5827544460078844\n",
            "0.5814161123003696\n",
            "0.5915663562648992\n",
            "0.5698909614231138\n",
            "0.5739098158109834\n",
            "0.5751296519964466\n",
            "0.5868151198456625\n",
            "0.5859081555069298\n",
            "0.5834152388368218\n",
            "0.5849117769752793\n"
          ],
          "name": "stdout"
        }
      ]
    },
    {
      "cell_type": "code",
      "metadata": {
        "id": "7JZe3Rf60dD1"
      },
      "source": [
        ""
      ],
      "execution_count": null,
      "outputs": []
    },
    {
      "cell_type": "markdown",
      "metadata": {
        "id": "7neRWSyp2ru2"
      },
      "source": [
        "# Amz_Beauty"
      ]
    },
    {
      "cell_type": "code",
      "metadata": {
        "id": "mYa4Q5Zp0dD_"
      },
      "source": [
        "#AMZBty\n",
        "newAMZB_DF = pd.read_csv('/mnt/bulky/oolaleke/TDM_Dataset/AMZ_Btyfiles/AMZB_afterUpdt.csv')"
      ],
      "execution_count": null,
      "outputs": []
    },
    {
      "cell_type": "code",
      "metadata": {
        "id": "T3pvUwun0dEA"
      },
      "source": [
        "import pickle\n",
        "\n",
        "with open('/mnt/bulky/oolaleke/TDM_Dataset/AMZ_Btyfiles/AMZB_newHoldout.pkl', 'rb') as f:\n",
        "     newHoldoutlist_amb = pickle.load(f)     \n",
        "    \n",
        "with open('/mnt/bulky/oolaleke/TDM_Dataset/AMZ_Btyfiles/AMZB_newUserItem.pkl', 'rb') as f:\n",
        "     newUserItemlist_amb = pickle.load(f)"
      ],
      "execution_count": null,
      "outputs": []
    },
    {
      "cell_type": "code",
      "metadata": {
        "id": "GxtMMcxS0dEB",
        "outputId": "512662e6-ad03-43b6-a435-0ac23b5651d0"
      },
      "source": [
        "rows_i = newAMZB_DF['Updated_UserID'].nunique()\n",
        "cols_i = newAMZB_DF['Updated_ItemID'].nunique()\n",
        "UserItem_MATList_amb = AllRatingMatrices(newUserItemlist_amb,'Updated_UserID','Updated_ItemID',rows_i ,cols_i) \n",
        "print(len(UserItem_MATList_amb))   \n",
        "UserItem_MATList_amb"
      ],
      "execution_count": null,
      "outputs": [
        {
          "output_type": "stream",
          "text": [
            "10\n"
          ],
          "name": "stdout"
        },
        {
          "output_type": "execute_result",
          "data": {
            "text/plain": [
              "[<22557x8109 sparse matrix of type '<class 'numpy.float64'>'\n",
              " \twith 40228 stored elements in Compressed Sparse Row format>,\n",
              " <22557x8109 sparse matrix of type '<class 'numpy.float64'>'\n",
              " \twith 41330 stored elements in Compressed Sparse Row format>,\n",
              " <22557x8109 sparse matrix of type '<class 'numpy.float64'>'\n",
              " \twith 42432 stored elements in Compressed Sparse Row format>,\n",
              " <22557x8109 sparse matrix of type '<class 'numpy.float64'>'\n",
              " \twith 43525 stored elements in Compressed Sparse Row format>,\n",
              " <22557x8109 sparse matrix of type '<class 'numpy.float64'>'\n",
              " \twith 44665 stored elements in Compressed Sparse Row format>,\n",
              " <22557x8109 sparse matrix of type '<class 'numpy.float64'>'\n",
              " \twith 45752 stored elements in Compressed Sparse Row format>,\n",
              " <22557x8109 sparse matrix of type '<class 'numpy.float64'>'\n",
              " \twith 47034 stored elements in Compressed Sparse Row format>,\n",
              " <22557x8109 sparse matrix of type '<class 'numpy.float64'>'\n",
              " \twith 48112 stored elements in Compressed Sparse Row format>,\n",
              " <22557x8109 sparse matrix of type '<class 'numpy.float64'>'\n",
              " \twith 49321 stored elements in Compressed Sparse Row format>,\n",
              " <22557x8109 sparse matrix of type '<class 'numpy.float64'>'\n",
              " \twith 50337 stored elements in Compressed Sparse Row format>]"
            ]
          },
          "metadata": {
            "tags": []
          },
          "execution_count": 30
        }
      ]
    },
    {
      "cell_type": "code",
      "metadata": {
        "id": "C_8fgkcM0dED"
      },
      "source": [
        "#### Tuning\n",
        "###\n",
        "#### Tuning"
      ],
      "execution_count": null,
      "outputs": []
    },
    {
      "cell_type": "code",
      "metadata": {
        "id": "w-7Ro68F0dEE",
        "outputId": "90c598c6-3bcb-4caf-fa55-fb429197dfe1"
      },
      "source": [
        "rows_i = newAMZB_DF['Updated_UserID'].nunique()\n",
        "cols_i = newAMZB_DF['Updated_ItemID'].nunique()\n",
        "\n",
        "holdout_df = newHoldoutlist_amb[0]\n",
        "print(\"Holdout set: \",holdout_df.shape[0])\n",
        "print()\n",
        "Train_mat = SingleRatingMatrix(newUserItemlist_amb[0],'Updated_UserID','Updated_ItemID',rows_i,cols_i)  #changes start within steps...\n",
        "Train_mat"
      ],
      "execution_count": null,
      "outputs": [
        {
          "output_type": "stream",
          "text": [
            "Holdout set:  474\n",
            "\n"
          ],
          "name": "stdout"
        },
        {
          "output_type": "execute_result",
          "data": {
            "text/plain": [
              "<22557x8109 sparse matrix of type '<class 'numpy.float64'>'\n",
              "\twith 40228 stored elements in Compressed Sparse Row format>"
            ]
          },
          "metadata": {
            "tags": []
          },
          "execution_count": 31
        }
      ]
    },
    {
      "cell_type": "code",
      "metadata": {
        "id": "w7Ncw4-m0dEG",
        "outputId": "d27d6df3-e345-4eaf-ed1d-fdb9ed2591b1"
      },
      "source": [
        "als_params = dict(alpha = [ 0.001,0.05, 0.1, 0.5, 1, 5, 10, 50, 100],\n",
        "                  regularization = [0.001, 0.005, 0.01, 0.05, 0.1, 0.5, 1, 10],\n",
        "                  rank = list(range(10, 81, 10)),\n",
        "                  iter_array = [10,15,20,25,30])\n",
        "\n",
        "als_param_grid, als_param_names = random_grid(als_params, n=60)\n",
        "print(als_param_names)\n",
        "len(als_param_grid)   "
      ],
      "execution_count": null,
      "outputs": [
        {
          "output_type": "stream",
          "text": [
            "('alpha', 'regularization', 'rank', 'iter_array')\n"
          ],
          "name": "stdout"
        },
        {
          "output_type": "execute_result",
          "data": {
            "text/plain": [
              "60"
            ]
          },
          "metadata": {
            "tags": []
          },
          "execution_count": 19
        }
      ]
    },
    {
      "cell_type": "code",
      "metadata": {
        "id": "BXkIYnxx0dEH",
        "outputId": "572b98ac-4a71-4b6a-9965-ec9d3811d781"
      },
      "source": [
        "for i in range(10):\n",
        "    alpha, reg, rank, iter = list(als_param_grid)[i]  \n",
        "    print(alpha, reg, rank,iter)"
      ],
      "execution_count": null,
      "outputs": [
        {
          "output_type": "stream",
          "text": [
            "1 1 50 20\n",
            "50 1 70 15\n",
            "5 0.05 60 15\n",
            "0.5 0.5 70 25\n",
            "50 0.005 10 30\n",
            "5 0.001 10 10\n",
            "0.1 10 40 20\n",
            "100 0.5 70 25\n",
            "5 0.001 70 15\n",
            "10 0.05 50 20\n"
          ],
          "name": "stdout"
        }
      ]
    },
    {
      "cell_type": "code",
      "metadata": {
        "id": "yFMC9T5W0dEJ",
        "outputId": "dc1f4027-719c-49ff-e18f-0a56a6b1ef6d"
      },
      "source": [
        "bestModel_Info = TuneALS(Train_mat,holdout_df,als_param_grid)    "
      ],
      "execution_count": null,
      "outputs": [
        {
          "output_type": "stream",
          "text": [
            "  2%|▏         | 1/60 [00:00<00:56,  1.04it/s]latent factors= 50 ,reg_ = 1:, n_iter = 20, alpha = 1, HR= 0.2869198312236287\n",
            "  3%|▎         | 2/60 [00:01<00:43,  1.33it/s]latent factors= 70 ,reg_ = 1:, n_iter = 15, alpha = 50, HR= 0.34177215189873417\n",
            "  5%|▌         | 3/60 [00:02<00:38,  1.49it/s]latent factors= 60 ,reg_ = 0.05:, n_iter = 15, alpha = 5, HR= 0.32489451476793246\n",
            "  7%|▋         | 4/60 [00:03<00:48,  1.15it/s]latent factors= 70 ,reg_ = 0.5:, n_iter = 25, alpha = 0.5, HR= 0.29535864978902954\n",
            "  8%|▊         | 5/60 [00:04<00:50,  1.09it/s]latent factors= 10 ,reg_ = 0.005:, n_iter = 30, alpha = 50, HR= 0.3080168776371308\n",
            " 10%|█         | 6/60 [00:04<00:43,  1.25it/s]latent factors= 10 ,reg_ = 0.001:, n_iter = 10, alpha = 5, HR= 0.26582278481012656\n",
            " 12%|█▏        | 7/60 [00:05<00:41,  1.27it/s]latent factors= 40 ,reg_ = 10:, n_iter = 20, alpha = 0.1, HR= 0.11392405063291139\n",
            " 13%|█▎        | 8/60 [00:06<00:47,  1.10it/s]latent factors= 70 ,reg_ = 0.5:, n_iter = 25, alpha = 100, HR= 0.3438818565400844\n",
            " 15%|█▌        | 9/60 [00:07<00:45,  1.13it/s]latent factors= 70 ,reg_ = 0.001:, n_iter = 15, alpha = 5, HR= 0.3270042194092827\n",
            " 17%|█▋        | 10/60 [00:08<00:45,  1.10it/s]latent factors= 50 ,reg_ = 0.05:, n_iter = 20, alpha = 10, HR= 0.3270042194092827\n",
            " 18%|█▊        | 11/60 [00:09<00:42,  1.15it/s]latent factors= 30 ,reg_ = 0.05:, n_iter = 20, alpha = 5, HR= 0.3143459915611814\n",
            " 20%|██        | 12/60 [00:10<00:42,  1.12it/s]latent factors= 70 ,reg_ = 0.1:, n_iter = 25, alpha = 0.05, HR= 0.2974683544303797\n",
            " 22%|██▏       | 13/60 [00:10<00:37,  1.25it/s]latent factors= 50 ,reg_ = 0.1:, n_iter = 15, alpha = 0.1, HR= 0.29535864978902954\n",
            " 23%|██▎       | 14/60 [00:12<00:41,  1.12it/s]latent factors= 80 ,reg_ = 10:, n_iter = 25, alpha = 5, HR= 0.3143459915611814\n",
            " 25%|██▌       | 15/60 [00:13<00:43,  1.03it/s]latent factors= 60 ,reg_ = 0.5:, n_iter = 20, alpha = 100, HR= 0.3438818565400844\n",
            " 27%|██▋       | 16/60 [00:14<00:41,  1.06it/s]latent factors= 40 ,reg_ = 10:, n_iter = 25, alpha = 100, HR= 0.34177215189873417\n",
            " 28%|██▊       | 17/60 [00:14<00:40,  1.07it/s]latent factors= 40 ,reg_ = 0.5:, n_iter = 20, alpha = 100, HR= 0.3438818565400844\n",
            " 30%|███       | 18/60 [00:15<00:37,  1.11it/s]latent factors= 20 ,reg_ = 0.5:, n_iter = 25, alpha = 10, HR= 0.3080168776371308\n",
            " 32%|███▏      | 19/60 [00:16<00:36,  1.11it/s]latent factors= 50 ,reg_ = 1:, n_iter = 25, alpha = 0.1, HR= 0.26371308016877637\n",
            " 33%|███▎      | 20/60 [00:17<00:33,  1.20it/s]latent factors= 20 ,reg_ = 0.005:, n_iter = 20, alpha = 0.05, HR= 0.25316455696202533\n",
            " 35%|███▌      | 21/60 [00:18<00:39,  1.00s/it]latent factors= 40 ,reg_ = 0.5:, n_iter = 25, alpha = 50, HR= 0.339662447257384\n",
            " 37%|███▋      | 22/60 [00:19<00:31,  1.19it/s]latent factors= 60 ,reg_ = 10:, n_iter = 10, alpha = 50, HR= 0.34177215189873417\n",
            " 38%|███▊      | 23/60 [00:20<00:38,  1.05s/it]latent factors= 70 ,reg_ = 0.005:, n_iter = 25, alpha = 100, HR= 0.3333333333333333\n",
            " 40%|████      | 24/60 [00:21<00:37,  1.03s/it]latent factors= 70 ,reg_ = 0.01:, n_iter = 20, alpha = 1, HR= 0.3080168776371308\n",
            " 42%|████▏     | 25/60 [00:22<00:28,  1.23it/s]latent factors= 60 ,reg_ = 0.5:, n_iter = 25, alpha = 0.001, HR= 0.12447257383966245\n",
            " 43%|████▎     | 26/60 [00:23<00:29,  1.14it/s]latent factors= 40 ,reg_ = 0.1:, n_iter = 30, alpha = 100, HR= 0.3438818565400844\n",
            " 45%|████▌     | 27/60 [00:23<00:29,  1.14it/s]latent factors= 40 ,reg_ = 0.001:, n_iter = 25, alpha = 5, HR= 0.31223628691983124\n",
            " 47%|████▋     | 28/60 [00:24<00:28,  1.12it/s]latent factors= 50 ,reg_ = 0.01:, n_iter = 20, alpha = 0.1, HR= 0.27637130801687765\n",
            " 48%|████▊     | 29/60 [00:25<00:28,  1.08it/s]latent factors= 60 ,reg_ = 0.5:, n_iter = 25, alpha = 50, HR= 0.34177215189873417\n",
            " 50%|█████     | 30/60 [00:26<00:23,  1.30it/s]latent factors= 60 ,reg_ = 1:, n_iter = 10, alpha = 0.05, HR= 0.22362869198312235\n",
            " 52%|█████▏    | 31/60 [00:27<00:21,  1.34it/s]latent factors= 20 ,reg_ = 0.001:, n_iter = 20, alpha = 50, HR= 0.3227848101265823\n",
            " 53%|█████▎    | 32/60 [00:28<00:23,  1.20it/s]latent factors= 60 ,reg_ = 0.5:, n_iter = 25, alpha = 0.5, HR= 0.2974683544303797\n",
            " 55%|█████▌    | 33/60 [00:28<00:22,  1.18it/s]latent factors= 60 ,reg_ = 0.1:, n_iter = 25, alpha = 1, HR= 0.3037974683544304\n",
            " 57%|█████▋    | 34/60 [00:30<00:24,  1.08it/s]latent factors= 50 ,reg_ = 0.05:, n_iter = 25, alpha = 0.1, HR= 0.2805907172995781\n",
            " 58%|█████▊    | 35/60 [00:31<00:23,  1.05it/s]latent factors= 30 ,reg_ = 0.001:, n_iter = 20, alpha = 10, HR= 0.3059071729957806\n",
            " 60%|██████    | 36/60 [00:31<00:20,  1.14it/s]latent factors= 50 ,reg_ = 0.001:, n_iter = 15, alpha = 100, HR= 0.33544303797468356\n",
            " 62%|██████▏   | 37/60 [00:32<00:19,  1.16it/s]latent factors= 10 ,reg_ = 0.005:, n_iter = 25, alpha = 0.001, HR= 0.24050632911392406\n",
            " 63%|██████▎   | 38/60 [00:33<00:20,  1.08it/s]latent factors= 10 ,reg_ = 1:, n_iter = 30, alpha = 10, HR= 0.2848101265822785\n",
            " 65%|██████▌   | 39/60 [00:33<00:15,  1.38it/s]latent factors= 20 ,reg_ = 0.5:, n_iter = 25, alpha = 0.001, HR= 0.10126582278481013\n",
            " 67%|██████▋   | 40/60 [00:34<00:14,  1.42it/s]latent factors= 10 ,reg_ = 10:, n_iter = 20, alpha = 5, HR= 0.270042194092827\n",
            " 68%|██████▊   | 41/60 [00:36<00:22,  1.20s/it]latent factors= 20 ,reg_ = 0.005:, n_iter = 30, alpha = 10, HR= 0.310126582278481\n",
            " 70%|███████   | 42/60 [00:37<00:18,  1.00s/it]latent factors= 40 ,reg_ = 1:, n_iter = 10, alpha = 0.05, HR= 0.22362869198312235\n",
            " 72%|███████▏  | 43/60 [00:38<00:14,  1.15it/s]latent factors= 50 ,reg_ = 0.1:, n_iter = 15, alpha = 1, HR= 0.2805907172995781\n",
            " 73%|███████▎  | 44/60 [00:38<00:12,  1.30it/s]latent factors= 40 ,reg_ = 0.1:, n_iter = 30, alpha = 0.001, HR= 0.11814345991561181\n",
            " 75%|███████▌  | 45/60 [00:39<00:11,  1.36it/s]latent factors= 10 ,reg_ = 0.001:, n_iter = 20, alpha = 0.5, HR= 0.19831223628691982\n",
            " 77%|███████▋  | 46/60 [00:39<00:09,  1.45it/s]latent factors= 70 ,reg_ = 0.05:, n_iter = 15, alpha = 1, HR= 0.30168776371308015\n",
            " 78%|███████▊  | 47/60 [00:40<00:08,  1.45it/s]latent factors= 40 ,reg_ = 0.05:, n_iter = 15, alpha = 50, HR= 0.3438818565400844\n",
            " 80%|████████  | 48/60 [00:41<00:07,  1.54it/s]latent factors= 50 ,reg_ = 0.05:, n_iter = 15, alpha = 1, HR= 0.270042194092827\n",
            " 82%|████████▏ | 49/60 [00:42<00:08,  1.33it/s]latent factors= 20 ,reg_ = 0.05:, n_iter = 30, alpha = 10, HR= 0.31223628691983124\n",
            " 83%|████████▎ | 50/60 [00:42<00:07,  1.27it/s]latent factors= 40 ,reg_ = 0.05:, n_iter = 25, alpha = 5, HR= 0.31645569620253167\n",
            " 85%|████████▌ | 51/60 [00:43<00:05,  1.51it/s]latent factors= 20 ,reg_ = 0.5:, n_iter = 10, alpha = 5, HR= 0.3080168776371308\n",
            " 87%|████████▋ | 52/60 [00:43<00:04,  1.73it/s]latent factors= 40 ,reg_ = 0.001:, n_iter = 10, alpha = 1, HR= 0.2679324894514768\n",
            " 88%|████████▊ | 53/60 [00:44<00:04,  1.53it/s]latent factors= 30 ,reg_ = 0.005:, n_iter = 20, alpha = 0.5, HR= 0.2679324894514768\n",
            " 90%|█████████ | 54/60 [00:45<00:04,  1.28it/s]latent factors= 40 ,reg_ = 0.001:, n_iter = 30, alpha = 5, HR= 0.310126582278481\n",
            " 92%|█████████▏| 55/60 [00:46<00:03,  1.28it/s]latent factors= 70 ,reg_ = 0.05:, n_iter = 30, alpha = 0.001, HR= 0.15822784810126583\n",
            " 93%|█████████▎| 56/60 [00:47<00:03,  1.01it/s]latent factors= 20 ,reg_ = 0.001:, n_iter = 30, alpha = 5, HR= 0.2890295358649789\n",
            " 95%|█████████▌| 57/60 [00:48<00:02,  1.22it/s]latent factors= 40 ,reg_ = 0.001:, n_iter = 10, alpha = 100, HR= 0.3270042194092827\n",
            " 97%|█████████▋| 58/60 [00:48<00:01,  1.53it/s]latent factors= 20 ,reg_ = 10:, n_iter = 15, alpha = 0.001, HR= 0.06329113924050633\n",
            " 98%|█████████▊| 59/60 [00:49<00:00,  1.41it/s]latent factors= 30 ,reg_ = 0.01:, n_iter = 20, alpha = 0.5, HR= 0.2616033755274262\n",
            "100%|██████████| 60/60 [00:50<00:00,  1.19it/s]latent factors= 40 ,reg_ = 0.5:, n_iter = 20, alpha = 10, HR= 0.31856540084388185\n",
            "\n",
            " Best model; latent_factors= 70 , reg_ = 0.5, n_iter = 25, alpha = 100, HR = 0.3438818565400844\n",
            "\n"
          ],
          "name": "stderr"
        }
      ]
    },
    {
      "cell_type": "code",
      "metadata": {
        "id": "-lrpjcfp0dEK"
      },
      "source": [
        ""
      ],
      "execution_count": null,
      "outputs": []
    },
    {
      "cell_type": "code",
      "metadata": {
        "id": "F0Ljhn6Z0dEL"
      },
      "source": [
        "##############\n",
        "# iALS Retrain\n",
        "############## "
      ],
      "execution_count": null,
      "outputs": []
    },
    {
      "cell_type": "code",
      "metadata": {
        "id": "g_2czIfJ0dEL"
      },
      "source": [
        "#latent_factors= 70 , reg_ = 0.5, n_iter = 25, alpha = 100,   BEST_new\n",
        "rank =  70\n",
        "reglr = 0.5\n",
        "iter =  25\n",
        "alpha = 100"
      ],
      "execution_count": null,
      "outputs": []
    },
    {
      "cell_type": "code",
      "metadata": {
        "id": "8rtzOWO10dEM",
        "outputId": "bb9f3dea-e6b6-4976-806f-6964af0a9689"
      },
      "source": [
        "V_list_bty,U_list_bty = getiALS_VUlist(UserItem_MATList_amb,rank=70,iter=25,reg=0.5,alpha=100)"
      ],
      "execution_count": null,
      "outputs": [
        {
          "output_type": "stream",
          "text": [
            "100%|██████████| 10/10 [00:17<00:00,  1.78s/it]\n"
          ],
          "name": "stderr"
        }
      ]
    },
    {
      "cell_type": "code",
      "metadata": {
        "id": "VSEfOPLU0dEN",
        "outputId": "088310ea-5b65-4919-d919-f1c89105c6dd"
      },
      "source": [
        "##Hitrate\n",
        "top10_pred = ials_TopNPred(UserItem_MATList_amb[0],newHoldoutlist_amb[0],U_list_bty[0],V_list_bty[0],'Updated_UserID', N=10)\n",
        "print(top10_pred.shape)\n",
        "top10_pred"
      ],
      "execution_count": null,
      "outputs": [
        {
          "output_type": "stream",
          "text": [
            "(474, 10)\n"
          ],
          "name": "stdout"
        },
        {
          "output_type": "execute_result",
          "data": {
            "text/plain": [
              "array([[ 995,   22,  483, ..., 2221, 2852, 1061],\n",
              "       [ 294,  309, 1283, ..., 1160,  920,  939],\n",
              "       [3062,  371, 2245, ..., 4349,  919, 6098],\n",
              "       ...,\n",
              "       [ 239,  251,  319, ..., 3030,  469,  551],\n",
              "       [ 815,  251,  319, ..., 1126, 1099,  871],\n",
              "       [ 369,  420,  426, ...,  263,  231,  144]])"
            ]
          },
          "metadata": {
            "tags": []
          },
          "execution_count": 33
        }
      ]
    },
    {
      "cell_type": "code",
      "metadata": {
        "id": "MQn0SHLV0dEO",
        "outputId": "36c3cebe-44d9-40ca-9273-b2a802cd7106"
      },
      "source": [
        "#\n",
        "Hitrate_Eval(newHoldoutlist_amb[0],top10_pred,'Updated_UserID','Updated_ItemID')  #"
      ],
      "execution_count": null,
      "outputs": [
        {
          "output_type": "stream",
          "text": [
            "Number of hits:  162\n",
            "Total Num of users:  474\n",
            "Recommendation HitRate:  0.34177215189873417\n"
          ],
          "name": "stdout"
        },
        {
          "output_type": "execute_result",
          "data": {
            "text/plain": [
              "0.34177215189873417"
            ]
          },
          "metadata": {
            "tags": []
          },
          "execution_count": 34
        }
      ]
    },
    {
      "cell_type": "code",
      "metadata": {
        "id": "sF-CCVtE0dEP",
        "outputId": "95e0202d-8c65-4ff1-dfb5-aec0b914bfad"
      },
      "source": [
        "All_ialsPRED_bty = ials_getALLPred(UserItem_MATList_amb,newHoldoutlist_amb,U_list_bty,V_list_bty,'Updated_UserID',N=10) \n",
        "print(len(All_ialsPRED_bty))"
      ],
      "execution_count": null,
      "outputs": [
        {
          "output_type": "stream",
          "text": [
            "10\n"
          ],
          "name": "stdout"
        }
      ]
    },
    {
      "cell_type": "code",
      "metadata": {
        "id": "SpFQ25Qx0dEQ",
        "outputId": "2a7ff637-5799-4b32-f624-2e04181deb35"
      },
      "source": [
        "AllStepsHitr_iALS_bty, LowerBand, Avg_HitRate, UpperBand   = getAll_HitRate(newHoldoutlist_amb,All_ialsPRED_bty,'Updated_UserID','Updated_ItemID')"
      ],
      "execution_count": null,
      "outputs": [
        {
          "output_type": "stream",
          "text": [
            "Number of hits:  162\n",
            "Total Num of users:  474\n",
            "Recommendation HitRate:  0.34177215189873417\n",
            "Number of hits:  174\n",
            "Total Num of users:  433\n",
            "Recommendation HitRate:  0.4018475750577367\n",
            "Number of hits:  194\n",
            "Total Num of users:  465\n",
            "Recommendation HitRate:  0.4172043010752688\n",
            "Number of hits:  179\n",
            "Total Num of users:  478\n",
            "Recommendation HitRate:  0.37447698744769875\n",
            "Number of hits:  173\n",
            "Total Num of users:  478\n",
            "Recommendation HitRate:  0.3619246861924686\n",
            "Number of hits:  169\n",
            "Total Num of users:  508\n",
            "Recommendation HitRate:  0.33267716535433073\n",
            "Number of hits:  272\n",
            "Total Num of users:  612\n",
            "Recommendation HitRate:  0.4444444444444444\n",
            "Number of hits:  230\n",
            "Total Num of users:  599\n",
            "Recommendation HitRate:  0.38397328881469117\n",
            "Number of hits:  205\n",
            "Total Num of users:  536\n",
            "Recommendation HitRate:  0.3824626865671642\n",
            "Number of hits:  117\n",
            "Total Num of users:  425\n",
            "Recommendation HitRate:  0.2752941176470588\n",
            "Average HitRate for All Recommendations:  0.3716077404499597\n"
          ],
          "name": "stdout"
        }
      ]
    },
    {
      "cell_type": "code",
      "metadata": {
        "id": "-IRJ56fv0dER",
        "outputId": "684ec40e-49bf-4d0e-ea28-13c00a8cd933"
      },
      "source": [
        "AllStepsHitr_iALS_bty"
      ],
      "execution_count": null,
      "outputs": [
        {
          "output_type": "execute_result",
          "data": {
            "text/plain": [
              "[0.34177215189873417,\n",
              " 0.4018475750577367,\n",
              " 0.4172043010752688,\n",
              " 0.37447698744769875,\n",
              " 0.3619246861924686,\n",
              " 0.33267716535433073,\n",
              " 0.4444444444444444,\n",
              " 0.38397328881469117,\n",
              " 0.3824626865671642,\n",
              " 0.2752941176470588]"
            ]
          },
          "metadata": {
            "tags": []
          },
          "execution_count": 37
        }
      ]
    },
    {
      "cell_type": "code",
      "metadata": {
        "id": "YsJorTu50dES",
        "outputId": "70f724f6-ef87-4c69-f5e9-dd9cf01238d4"
      },
      "source": [
        "#MRR\n",
        "als_AllStepsMRR_bty, als_LBand, als_AvgMRR, als_UBand  = TQDMgetAll_MRR_Eval(newHoldoutlist_amb,All_ialsPRED_bty,'Updated_ItemID')\n",
        "als_AllStepsMRR_bty"
      ],
      "execution_count": null,
      "outputs": [
        {
          "output_type": "stream",
          "text": [
            "10it [00:00, 625.32it/s]\n"
          ],
          "name": "stderr"
        },
        {
          "output_type": "execute_result",
          "data": {
            "text/plain": [
              "[0.311412,\n",
              " 0.371047,\n",
              " 0.368763,\n",
              " 0.34477,\n",
              " 0.31446,\n",
              " 0.289084,\n",
              " 0.318045,\n",
              " 0.321354,\n",
              " 0.336434,\n",
              " 0.214555]"
            ]
          },
          "metadata": {
            "tags": []
          },
          "execution_count": 38
        }
      ]
    },
    {
      "cell_type": "code",
      "metadata": {
        "id": "CMZfyjuE0dET",
        "outputId": "7d67342a-0da3-43db-d7ab-ee129fb82b77"
      },
      "source": [
        "##All USERS prediction:\n",
        "AllUsrSPRED_ambRT  = ialsALLPred_ALLUSERS(UserItem_MATList_amb,U_list_bty,V_list_bty,N=10)  \n",
        "print(len(AllUsrSPRED_ambRT))\n",
        "AllUsrSPRED_ambRT[:2]"
      ],
      "execution_count": null,
      "outputs": [
        {
          "output_type": "stream",
          "text": [
            "10\n"
          ],
          "name": "stdout"
        },
        {
          "output_type": "execute_result",
          "data": {
            "text/plain": [
              "[array([[  71,  116,    1, ...,  147,   21,    2],\n",
              "        [  60,   43,   71, ...,  116,   62,  215],\n",
              "        [ 297,   60,   43, ...,    2,  215,  116],\n",
              "        ...,\n",
              "        [2702, 2699, 2695, ..., 2705, 2706, 8108],\n",
              "        [2702, 2699, 2695, ..., 2705, 2706, 8108],\n",
              "        [2702, 2699, 2695, ..., 2705, 2706, 8108]]),\n",
              " array([[  71,  134,  116, ...,   21,  297,  138],\n",
              "        [  60,   43,  297, ...,    9,   21,  215],\n",
              "        [ 297,    3,   60, ...,  215,   21,   43],\n",
              "        ...,\n",
              "        [2702, 2699, 2695, ..., 2705, 2706, 8108],\n",
              "        [2702, 2699, 2695, ..., 2705, 2706, 8108],\n",
              "        [2702, 2699, 2695, ..., 2705, 2706, 8108]])]"
            ]
          },
          "metadata": {
            "tags": []
          },
          "execution_count": 39
        }
      ]
    },
    {
      "cell_type": "code",
      "metadata": {
        "id": "ZxIspGFH0dEU"
      },
      "source": [
        "# with open('/mnt/bulky/oolaleke/TDM_Dataset/AMZ_Btyfiles/AMZB_ialsRT_allPRED.pkl', 'wb') as f:  \n",
        "#      pickle.dump(All_usersPRED_amb, f)"
      ],
      "execution_count": null,
      "outputs": []
    },
    {
      "cell_type": "code",
      "metadata": {
        "id": "EFVneeHK0dEW",
        "outputId": "5fc85cc6-5c18-4d6a-9841-a9c7555f150e"
      },
      "source": [
        "##Coverage\n",
        "als_AvgCovList_bty = AllSteps_Coverage_Ratio(newAMZB_DF,AllUsrSPRED_ambRT,'Updated_ItemID')\n",
        "als_AvgCovList_bty"
      ],
      "execution_count": null,
      "outputs": [
        {
          "output_type": "execute_result",
          "data": {
            "text/plain": [
              "[0.51671,\n",
              " 0.530892,\n",
              " 0.534221,\n",
              " 0.541374,\n",
              " 0.54347,\n",
              " 0.553829,\n",
              " 0.565544,\n",
              " 0.575163,\n",
              " 0.571217,\n",
              " 0.574793]"
            ]
          },
          "metadata": {
            "tags": []
          },
          "execution_count": 40
        }
      ]
    },
    {
      "cell_type": "code",
      "metadata": {
        "id": "R8BK5L3V0dEY",
        "outputId": "1e089587-e717-41e7-beb9-6a096e6b0279"
      },
      "source": [
        "AllSteps  = list(range(1,10))\n",
        "iALSCorr_ = Updt_getAll_AvgCorr(AllUsrSPRED_ambRT,newUserItemlist_amb,AllSteps,'Updated_UserID')  #,\n",
        "\n",
        "iALSCorr_.shape\n",
        "for df in iALSCorr_:\n",
        "    print(df.mean())  "
      ],
      "execution_count": null,
      "outputs": [
        {
          "output_type": "stream",
          "text": [
            "0.3731984009681043\n",
            "0.37452346353959165\n",
            "0.37134439823009313\n",
            "0.3600623158271102\n",
            "0.3689771706730944\n",
            "0.3721809498378752\n",
            "0.38422220311050215\n",
            "0.36200365056613304\n",
            "0.37840815342348627\n"
          ],
          "name": "stdout"
        }
      ]
    },
    {
      "cell_type": "code",
      "metadata": {
        "id": "ZZPvVtGz0dEc"
      },
      "source": [
        ""
      ],
      "execution_count": null,
      "outputs": []
    },
    {
      "cell_type": "code",
      "metadata": {
        "id": "qS075ndJ0dEr"
      },
      "source": [
        ""
      ],
      "execution_count": null,
      "outputs": []
    },
    {
      "cell_type": "markdown",
      "metadata": {
        "id": "Vh0xdGsa20et"
      },
      "source": [
        "# MovieLen_1M"
      ]
    },
    {
      "cell_type": "code",
      "metadata": {
        "id": "jw1o_wqS3A-v",
        "outputId": "aba5e5e6-2fee-473c-9b79-b701099a2f71"
      },
      "source": [
        "newMLDF_1M = pd.read_csv('/mnt/bulky/oolaleke/TDM_Dataset/ML_1M/MLDF1M_afterUpdt.csv.zip')\n",
        "print(newMLDF_1M.shape)   #userId_int"
      ],
      "execution_count": null,
      "outputs": [
        {
          "output_type": "stream",
          "text": [
            "(575281, 9)\n"
          ],
          "name": "stdout"
        }
      ]
    },
    {
      "cell_type": "code",
      "metadata": {
        "id": "ZCpw2cM-28fR"
      },
      "source": [
        "import pickle\n",
        "\n",
        "with open('/mnt/bulky/oolaleke/TDM_Dataset/ML_1M/MLDF1M_newHoldout.pkl', 'rb') as f:\n",
        "     newHoldout_listML1 = pickle.load(f)     \n",
        "    \n",
        "with open('/mnt/bulky/oolaleke/TDM_Dataset/ML_1M/MLDF1M_newUserItem.pkl', 'rb') as f:\n",
        "     newUserItem_listML1 = pickle.load(f)\n"
      ],
      "execution_count": null,
      "outputs": []
    },
    {
      "cell_type": "code",
      "metadata": {
        "id": "Na4Eo16c0dEu",
        "outputId": "4c1da4eb-c800-4601-8c9f-f62f8fc92578"
      },
      "source": [
        "rows_i = newMLDF_1M['Updated_UserID'].nunique()\n",
        "cols_i = newMLDF_1M['Updated_ItemID'].nunique()\n",
        "UserItemMATList_ML1 = AllRatingMatrices(newUserItem_listML1,'Updated_UserID','Updated_ItemID',rows_i ,cols_i) \n",
        "print(len(UserItemMATList_ML1))   \n",
        "UserItemMATList_ML1"
      ],
      "execution_count": null,
      "outputs": [
        {
          "output_type": "stream",
          "text": [
            "10\n"
          ],
          "name": "stdout"
        },
        {
          "output_type": "execute_result",
          "data": {
            "text/plain": [
              "[<6038x3533 sparse matrix of type '<class 'numpy.float64'>'\n",
              " \twith 500332 stored elements in Compressed Sparse Row format>,\n",
              " <6038x3533 sparse matrix of type '<class 'numpy.float64'>'\n",
              " \twith 508812 stored elements in Compressed Sparse Row format>,\n",
              " <6038x3533 sparse matrix of type '<class 'numpy.float64'>'\n",
              " \twith 517278 stored elements in Compressed Sparse Row format>,\n",
              " <6038x3533 sparse matrix of type '<class 'numpy.float64'>'\n",
              " \twith 525757 stored elements in Compressed Sparse Row format>,\n",
              " <6038x3533 sparse matrix of type '<class 'numpy.float64'>'\n",
              " \twith 534098 stored elements in Compressed Sparse Row format>,\n",
              " <6038x3533 sparse matrix of type '<class 'numpy.float64'>'\n",
              " \twith 542538 stored elements in Compressed Sparse Row format>,\n",
              " <6038x3533 sparse matrix of type '<class 'numpy.float64'>'\n",
              " \twith 551048 stored elements in Compressed Sparse Row format>,\n",
              " <6038x3533 sparse matrix of type '<class 'numpy.float64'>'\n",
              " \twith 559597 stored elements in Compressed Sparse Row format>,\n",
              " <6038x3533 sparse matrix of type '<class 'numpy.float64'>'\n",
              " \twith 568114 stored elements in Compressed Sparse Row format>,\n",
              " <6038x3533 sparse matrix of type '<class 'numpy.float64'>'\n",
              " \twith 574919 stored elements in Compressed Sparse Row format>]"
            ]
          },
          "metadata": {
            "tags": []
          },
          "execution_count": 44
        }
      ]
    },
    {
      "cell_type": "code",
      "metadata": {
        "id": "-nXsOGh90dEw"
      },
      "source": [
        "######################\n",
        "# Tuning\n",
        "######################"
      ],
      "execution_count": null,
      "outputs": []
    },
    {
      "cell_type": "code",
      "metadata": {
        "id": "9ZlCr63U0dEx",
        "outputId": "5126edc6-c997-40bc-b890-1c06d825758b"
      },
      "source": [
        "rows_i = newMLDF_1M['Updated_UserID'].nunique()\n",
        "cols_i = newMLDF_1M['Updated_ItemID'].nunique()\n",
        "\n",
        "holdoutdf_ml1 = newHoldout_listML1[0]\n",
        "print(\"Holdout set: \",holdoutdf_ml1.shape[0])\n",
        "print()\n",
        "Trainmat_ml1 = SingleRatingMatrix(newUserItem_listML1[0],'Updated_UserID','Updated_ItemID',rows_i,cols_i)  #changes start within steps...\n",
        "Trainmat_ml1"
      ],
      "execution_count": null,
      "outputs": [
        {
          "output_type": "stream",
          "text": [
            "Holdout set:  233\n",
            "\n"
          ],
          "name": "stdout"
        },
        {
          "output_type": "execute_result",
          "data": {
            "text/plain": [
              "<6038x3533 sparse matrix of type '<class 'numpy.float64'>'\n",
              "\twith 500332 stored elements in Compressed Sparse Row format>"
            ]
          },
          "metadata": {
            "tags": []
          },
          "execution_count": 110
        }
      ]
    },
    {
      "cell_type": "code",
      "metadata": {
        "id": "fdpRIGeE0dEy",
        "outputId": "5e1b77f0-c597-42a3-bb4b-ef64f03e0a11"
      },
      "source": [
        "als_params = dict(alpha = [ 0.001,0.05, 0.1, 0.5, 1, 5, 10, 50, 100],\n",
        "                  regularization = [0.001, 0.005, 0.01, 0.05, 0.1, 0.5, 1, 10],\n",
        "                  rank = list(range(10, 81, 10)),\n",
        "                  iter_array = [10,15,20,25,30])\n",
        "\n",
        "als_param_grid, als_param_names = random_grid(als_params, n=60)\n",
        "print(als_param_names)\n",
        "len(als_param_grid)   "
      ],
      "execution_count": null,
      "outputs": [
        {
          "output_type": "stream",
          "text": [
            "('alpha', 'regularization', 'rank', 'iter_array')\n"
          ],
          "name": "stdout"
        },
        {
          "output_type": "execute_result",
          "data": {
            "text/plain": [
              "60"
            ]
          },
          "metadata": {
            "tags": []
          },
          "execution_count": 111
        }
      ]
    },
    {
      "cell_type": "code",
      "metadata": {
        "id": "Ro3jPHCB0dE0",
        "outputId": "bf8cd3c0-b786-4ab2-f8f4-f7b66e1aa50a"
      },
      "source": [
        "for i in range(10):\n",
        "    alpha, reg, rank, iter = list(als_param_grid)[i]  \n",
        "    print(alpha, reg, rank,iter)"
      ],
      "execution_count": null,
      "outputs": [
        {
          "output_type": "stream",
          "text": [
            "0.001 10 20 30\n",
            "0.1 0.01 20 15\n",
            "0.05 0.05 70 25\n",
            "100 0.01 50 20\n",
            "1 0.001 80 30\n",
            "0.05 0.5 20 10\n",
            "10 0.001 60 20\n",
            "50 1 30 15\n",
            "50 0.001 70 10\n",
            "100 0.001 60 15\n"
          ],
          "name": "stdout"
        }
      ]
    },
    {
      "cell_type": "code",
      "metadata": {
        "id": "2yks7_DW0dE1",
        "outputId": "9f8a9633-3f92-4662-c31f-798d2860c199"
      },
      "source": [
        "bestModelInfo_ml1 = TuneALS(Trainmat_ml1,holdoutdf_ml1,als_param_grid)    "
      ],
      "execution_count": null,
      "outputs": [
        {
          "output_type": "stream",
          "text": [
            "  2%|▏         | 1/60 [00:02<02:26,  2.48s/it]latent factors= 20 ,reg_ = 10:, n_iter = 30, alpha = 0.001, HR= 0.004291845493562232\n",
            "  3%|▎         | 2/60 [00:08<04:22,  4.52s/it]latent factors= 20 ,reg_ = 0.01:, n_iter = 15, alpha = 0.1, HR= 0.05150214592274678\n",
            "  5%|▌         | 3/60 [00:18<06:30,  6.85s/it]latent factors= 70 ,reg_ = 0.05:, n_iter = 25, alpha = 0.05, HR= 0.05150214592274678\n",
            "  7%|▋         | 4/60 [00:24<06:08,  6.57s/it]latent factors= 50 ,reg_ = 0.01:, n_iter = 20, alpha = 100, HR= 0.03862660944206009\n",
            "  8%|▊         | 5/60 [00:32<06:37,  7.23s/it]latent factors= 80 ,reg_ = 0.001:, n_iter = 30, alpha = 1, HR= 0.055793991416309016\n",
            " 10%|█         | 6/60 [00:35<05:10,  5.76s/it]latent factors= 20 ,reg_ = 0.5:, n_iter = 10, alpha = 0.05, HR= 0.04721030042918455\n",
            " 12%|█▏        | 7/60 [00:41<05:06,  5.79s/it]latent factors= 60 ,reg_ = 0.001:, n_iter = 20, alpha = 10, HR= 0.055793991416309016\n",
            " 13%|█▎        | 8/60 [00:44<04:22,  5.05s/it]latent factors= 30 ,reg_ = 1:, n_iter = 15, alpha = 50, HR= 0.06866952789699571\n",
            " 15%|█▌        | 9/60 [00:48<03:55,  4.62s/it]latent factors= 70 ,reg_ = 0.001:, n_iter = 10, alpha = 50, HR= 0.02575107296137339\n",
            " 17%|█▋        | 10/60 [00:53<03:56,  4.73s/it]latent factors= 60 ,reg_ = 0.001:, n_iter = 15, alpha = 100, HR= 0.012875536480686695\n",
            " 18%|█▊        | 11/60 [00:57<03:38,  4.46s/it]latent factors= 50 ,reg_ = 0.01:, n_iter = 15, alpha = 1, HR= 0.07725321888412018\n",
            " 20%|██        | 12/60 [01:04<04:13,  5.28s/it]latent factors= 70 ,reg_ = 1:, n_iter = 25, alpha = 0.05, HR= 0.06437768240343347\n",
            " 22%|██▏       | 13/60 [01:11<04:27,  5.70s/it]latent factors= 60 ,reg_ = 0.5:, n_iter = 20, alpha = 0.1, HR= 0.06437768240343347\n",
            " 23%|██▎       | 14/60 [01:14<03:47,  4.94s/it]latent factors= 30 ,reg_ = 0.5:, n_iter = 10, alpha = 5, HR= 0.06866952789699571\n",
            " 25%|██▌       | 15/60 [01:24<04:56,  6.60s/it]latent factors= 70 ,reg_ = 0.05:, n_iter = 30, alpha = 50, HR= 0.04721030042918455\n",
            " 27%|██▋       | 16/60 [01:28<04:18,  5.88s/it]latent factors= 50 ,reg_ = 0.1:, n_iter = 15, alpha = 50, HR= 0.05150214592274678\n",
            " 28%|██▊       | 17/60 [01:32<03:47,  5.29s/it]latent factors= 70 ,reg_ = 0.001:, n_iter = 15, alpha = 10, HR= 0.05150214592274678\n",
            " 30%|███       | 18/60 [01:37<03:32,  5.06s/it]latent factors= 40 ,reg_ = 0.01:, n_iter = 15, alpha = 0.5, HR= 0.06437768240343347\n",
            " 32%|███▏      | 19/60 [01:41<03:18,  4.84s/it]latent factors= 80 ,reg_ = 0.1:, n_iter = 15, alpha = 100, HR= 0.05150214592274678\n",
            " 33%|███▎      | 20/60 [01:46<03:18,  4.97s/it]latent factors= 30 ,reg_ = 0.1:, n_iter = 15, alpha = 50, HR= 0.060085836909871244\n",
            " 35%|███▌      | 21/60 [01:50<02:55,  4.49s/it]latent factors= 10 ,reg_ = 0.001:, n_iter = 15, alpha = 10, HR= 0.060085836909871244\n",
            " 37%|███▋      | 22/60 [01:54<02:49,  4.46s/it]latent factors= 70 ,reg_ = 0.5:, n_iter = 15, alpha = 0.5, HR= 0.07725321888412018\n",
            " 38%|███▊      | 23/60 [02:01<03:06,  5.05s/it]latent factors= 70 ,reg_ = 0.005:, n_iter = 25, alpha = 50, HR= 0.04291845493562232\n",
            " 40%|████      | 24/60 [02:06<02:59,  4.99s/it]latent factors= 30 ,reg_ = 0.01:, n_iter = 15, alpha = 0.1, HR= 0.05150214592274678\n",
            " 42%|████▏     | 25/60 [02:09<02:39,  4.56s/it]latent factors= 30 ,reg_ = 0.005:, n_iter = 15, alpha = 0.05, HR= 0.055793991416309016\n",
            " 43%|████▎     | 26/60 [02:17<03:05,  5.46s/it]latent factors= 80 ,reg_ = 0.05:, n_iter = 30, alpha = 1, HR= 0.08583690987124463\n",
            " 45%|████▌     | 27/60 [02:19<02:33,  4.64s/it]latent factors= 70 ,reg_ = 10:, n_iter = 10, alpha = 0.1, HR= 0.04721030042918455\n",
            " 47%|████▋     | 28/60 [02:29<03:16,  6.15s/it]latent factors= 20 ,reg_ = 0.1:, n_iter = 30, alpha = 1, HR= 0.08583690987124463\n",
            " 48%|████▊     | 29/60 [02:39<03:42,  7.18s/it]latent factors= 50 ,reg_ = 0.5:, n_iter = 30, alpha = 0.5, HR= 0.07296137339055794\n",
            " 50%|█████     | 30/60 [02:42<03:02,  6.07s/it]latent factors= 10 ,reg_ = 0.005:, n_iter = 15, alpha = 5, HR= 0.055793991416309016\n",
            " 52%|█████▏    | 31/60 [02:46<02:33,  5.30s/it]latent factors= 50 ,reg_ = 0.05:, n_iter = 10, alpha = 1, HR= 0.060085836909871244\n",
            " 53%|█████▎    | 32/60 [02:48<02:04,  4.45s/it]latent factors= 10 ,reg_ = 10:, n_iter = 10, alpha = 10, HR= 0.07296137339055794\n",
            " 55%|█████▌    | 33/60 [02:59<02:54,  6.48s/it]latent factors= 60 ,reg_ = 10:, n_iter = 30, alpha = 0.1, HR= 0.05150214592274678\n",
            " 57%|█████▋    | 34/60 [03:05<02:45,  6.38s/it]latent factors= 80 ,reg_ = 0.1:, n_iter = 20, alpha = 100, HR= 0.03862660944206009\n",
            " 58%|█████▊    | 35/60 [03:14<02:57,  7.08s/it]latent factors= 40 ,reg_ = 0.01:, n_iter = 30, alpha = 0.05, HR= 0.04291845493562232\n",
            " 60%|██████    | 36/60 [03:18<02:28,  6.20s/it]latent factors= 40 ,reg_ = 0.05:, n_iter = 15, alpha = 10, HR= 0.060085836909871244\n",
            " 62%|██████▏   | 37/60 [03:23<02:08,  5.61s/it]latent factors= 60 ,reg_ = 1:, n_iter = 15, alpha = 100, HR= 0.06437768240343347\n",
            " 63%|██████▎   | 38/60 [03:28<02:01,  5.54s/it]latent factors= 70 ,reg_ = 0.001:, n_iter = 20, alpha = 10, HR= 0.08583690987124463\n",
            " 65%|██████▌   | 39/60 [03:33<01:55,  5.50s/it]latent factors= 30 ,reg_ = 0.001:, n_iter = 20, alpha = 0.5, HR= 0.06437768240343347\n",
            " 67%|██████▋   | 40/60 [03:35<01:29,  4.50s/it]latent factors= 70 ,reg_ = 1:, n_iter = 10, alpha = 0.001, HR= 0.02575107296137339\n",
            " 68%|██████▊   | 41/60 [03:42<01:35,  5.04s/it]latent factors= 80 ,reg_ = 0.05:, n_iter = 20, alpha = 100, HR= 0.04291845493562232\n",
            " 70%|███████   | 42/60 [03:47<01:33,  5.20s/it]latent factors= 30 ,reg_ = 0.001:, n_iter = 20, alpha = 10, HR= 0.030042918454935622\n",
            " 72%|███████▏  | 43/60 [03:51<01:18,  4.61s/it]latent factors= 10 ,reg_ = 10:, n_iter = 30, alpha = 0.001, HR= 0.012875536480686695\n",
            " 73%|███████▎  | 44/60 [03:56<01:17,  4.87s/it]latent factors= 70 ,reg_ = 0.1:, n_iter = 15, alpha = 0.5, HR= 0.0815450643776824\n",
            " 75%|███████▌  | 45/60 [03:59<01:05,  4.37s/it]latent factors= 50 ,reg_ = 0.01:, n_iter = 10, alpha = 0.05, HR= 0.055793991416309016\n",
            " 77%|███████▋  | 46/60 [04:02<00:55,  3.95s/it]latent factors= 60 ,reg_ = 0.01:, n_iter = 10, alpha = 0.001, HR= 0.05150214592274678\n",
            " 78%|███████▊  | 47/60 [04:08<00:59,  4.55s/it]latent factors= 10 ,reg_ = 0.05:, n_iter = 15, alpha = 5, HR= 0.06866952789699571\n",
            " 80%|████████  | 48/60 [04:11<00:47,  3.95s/it]latent factors= 80 ,reg_ = 0.01:, n_iter = 10, alpha = 100, HR= 0.034334763948497854\n",
            " 82%|████████▏ | 49/60 [04:14<00:41,  3.73s/it]latent factors= 20 ,reg_ = 10:, n_iter = 15, alpha = 5, HR= 0.06866952789699571\n",
            " 83%|████████▎ | 50/60 [04:23<00:54,  5.46s/it]latent factors= 80 ,reg_ = 0.5:, n_iter = 30, alpha = 0.5, HR= 0.07296137339055794\n",
            " 85%|████████▌ | 51/60 [04:29<00:49,  5.53s/it]latent factors= 10 ,reg_ = 0.01:, n_iter = 15, alpha = 0.001, HR= 0.04721030042918455\n",
            " 87%|████████▋ | 52/60 [04:38<00:52,  6.58s/it]latent factors= 40 ,reg_ = 0.5:, n_iter = 30, alpha = 0.1, HR= 0.06437768240343347\n",
            " 88%|████████▊ | 53/60 [04:46<00:48,  6.87s/it]latent factors= 20 ,reg_ = 0.005:, n_iter = 30, alpha = 5, HR= 0.055793991416309016\n",
            " 90%|█████████ | 54/60 [04:51<00:37,  6.24s/it]latent factors= 30 ,reg_ = 0.1:, n_iter = 20, alpha = 10, HR= 0.06437768240343347\n",
            " 92%|█████████▏| 55/60 [04:57<00:31,  6.22s/it]latent factors= 10 ,reg_ = 0.005:, n_iter = 25, alpha = 100, HR= 0.030042918454935622\n",
            " 93%|█████████▎| 56/60 [05:06<00:28,  7.17s/it]latent factors= 60 ,reg_ = 10:, n_iter = 30, alpha = 1, HR= 0.06437768240343347\n",
            " 95%|█████████▌| 57/60 [05:09<00:17,  5.97s/it]latent factors= 10 ,reg_ = 0.1:, n_iter = 15, alpha = 0.5, HR= 0.06437768240343347\n",
            " 97%|█████████▋| 58/60 [05:14<00:11,  5.66s/it]latent factors= 30 ,reg_ = 0.01:, n_iter = 20, alpha = 50, HR= 0.03862660944206009\n",
            " 98%|█████████▊| 59/60 [05:23<00:06,  6.58s/it]latent factors= 60 ,reg_ = 0.005:, n_iter = 25, alpha = 50, HR= 0.04291845493562232\n",
            "100%|██████████| 60/60 [05:26<00:00,  5.45s/it]latent factors= 30 ,reg_ = 0.005:, n_iter = 15, alpha = 50, HR= 0.04291845493562232\n",
            "\n",
            " Best model; latent_factors= 80 , reg_ = 0.05, n_iter = 30, alpha = 1, HR = 0.08583690987124463\n",
            "\n"
          ],
          "name": "stderr"
        }
      ]
    },
    {
      "cell_type": "code",
      "metadata": {
        "id": "vyYrYWe80dE3",
        "outputId": "43df24fc-b0d0-47e7-ef1e-40771330f8c3"
      },
      "source": [
        "# Best model; latent_factors= 80 , reg_ = 0.05, n_iter = 30, alpha = 1 \n",
        "rank =  80\n",
        "reglr = 0.05\n",
        "iter =  30\n",
        "alpha = 1\n",
        "\n",
        "Vlist_ml1,Ulist_ml1 = getiALS_VUlist(UserItemMATList_ML1, rank=80, iter=30, reg=0.05,alpha= 1)"
      ],
      "execution_count": null,
      "outputs": [
        {
          "output_type": "stream",
          "text": [
            "100%|██████████| 10/10 [02:33<00:00, 15.35s/it]\n"
          ],
          "name": "stderr"
        }
      ]
    },
    {
      "cell_type": "code",
      "metadata": {
        "id": "RyrMSnjA0dE4",
        "outputId": "d2b7d43a-05d7-4db9-df28-f16231667405"
      },
      "source": [
        "All_RTPRED_ml1 = ials_getALLPred(UserItemMATList_ML1,newHoldout_listML1,Ulist_ml1,Vlist_ml1,'Updated_UserID',N=10) \n",
        "print(len(All_RTPRED_ml1))\n",
        "AllStepsRTHitr_ml1, LowerBand, Avg_HitRate, UpperBand   = getAll_HitRate(newHoldout_listML1,All_RTPRED_ml1,'Updated_UserID','Updated_ItemID')"
      ],
      "execution_count": null,
      "outputs": [
        {
          "output_type": "stream",
          "text": [
            "10\n",
            "Number of hits:  15\n",
            "Total Num of users:  233\n",
            "Recommendation HitRate:  0.06437768240343347\n",
            "Number of hits:  18\n",
            "Total Num of users:  255\n",
            "Recommendation HitRate:  0.07058823529411765\n",
            "Number of hits:  28\n",
            "Total Num of users:  286\n",
            "Recommendation HitRate:  0.0979020979020979\n",
            "Number of hits:  29\n",
            "Total Num of users:  309\n",
            "Recommendation HitRate:  0.09385113268608414\n",
            "Number of hits:  23\n",
            "Total Num of users:  468\n",
            "Recommendation HitRate:  0.049145299145299144\n",
            "Number of hits:  25\n",
            "Total Num of users:  526\n",
            "Recommendation HitRate:  0.04752851711026616\n",
            "Number of hits:  27\n",
            "Total Num of users:  517\n",
            "Recommendation HitRate:  0.05222437137330754\n",
            "Number of hits:  20\n",
            "Total Num of users:  470\n",
            "Recommendation HitRate:  0.0425531914893617\n",
            "Number of hits:  25\n",
            "Total Num of users:  453\n",
            "Recommendation HitRate:  0.05518763796909492\n",
            "Number of hits:  21\n",
            "Total Num of users:  362\n",
            "Recommendation HitRate:  0.058011049723756904\n",
            "Average HitRate for All Recommendations:  0.06313692150968195\n"
          ],
          "name": "stdout"
        }
      ]
    },
    {
      "cell_type": "code",
      "metadata": {
        "id": "BzG44ggM0dE5",
        "outputId": "ad63a8f4-4ae0-4025-ab7d-e33f5d5a7c1e"
      },
      "source": [
        "AllStepsRTHitr_ml1"
      ],
      "execution_count": null,
      "outputs": [
        {
          "output_type": "execute_result",
          "data": {
            "text/plain": [
              "[0.06437768240343347,\n",
              " 0.07058823529411765,\n",
              " 0.0979020979020979,\n",
              " 0.09385113268608414,\n",
              " 0.049145299145299144,\n",
              " 0.04752851711026616,\n",
              " 0.05222437137330754,\n",
              " 0.0425531914893617,\n",
              " 0.05518763796909492,\n",
              " 0.058011049723756904]"
            ]
          },
          "metadata": {
            "tags": []
          },
          "execution_count": 47
        }
      ]
    },
    {
      "cell_type": "code",
      "metadata": {
        "id": "Z6QDf-gF0dE6",
        "outputId": "e76d5b06-9228-4c8c-e301-35a637ef14a6"
      },
      "source": [
        "## MRR\n",
        "AllStepsRTMRR_ml1, als_LBand, als_AvgMRR, als_UBand  = TQDMgetAll_MRR_Eval(newHoldout_listML1,All_RTPRED_ml1,'Updated_ItemID')\n",
        "AllStepsRTMRR_ml1"
      ],
      "execution_count": null,
      "outputs": [
        {
          "output_type": "stream",
          "text": [
            "10it [00:00, 605.50it/s]\n"
          ],
          "name": "stderr"
        },
        {
          "output_type": "execute_result",
          "data": {
            "text/plain": [
              "[0.021006,\n",
              " 0.023399,\n",
              " 0.035424,\n",
              " 0.034254,\n",
              " 0.013204,\n",
              " 0.01421,\n",
              " 0.025114,\n",
              " 0.016873,\n",
              " 0.022615,\n",
              " 0.016527]"
            ]
          },
          "metadata": {
            "tags": []
          },
          "execution_count": 48
        }
      ]
    },
    {
      "cell_type": "code",
      "metadata": {
        "id": "QlzExkCr0dE7",
        "outputId": "268d8239-6c45-40c1-fefb-9b4976c231b9"
      },
      "source": [
        "## AllUsers Pred:  \n",
        "AllUsrsRTPRED_ml1  = ialsALLPred_ALLUSERS(UserItemMATList_ML1, Ulist_ml1, Vlist_ml1, N=10)  \n",
        "print(len(AllUsrsRTPRED_ml1))\n",
        "AllUsrsRTPRED_ml1[:2]"
      ],
      "execution_count": null,
      "outputs": [
        {
          "output_type": "stream",
          "text": [
            "10\n"
          ],
          "name": "stdout"
        },
        {
          "output_type": "execute_result",
          "data": {
            "text/plain": [
              "[array([[ 134,  336,  256, ...,  242,  138,  641],\n",
              "        [ 563,  140,  908, ...,  369,  587,  134],\n",
              "        [ 219,  223,  259, ...,  460,   23,  171],\n",
              "        ...,\n",
              "        [1181, 1179, 1182, ..., 1177, 1176, 3532],\n",
              "        [1181, 1179, 1182, ..., 1177, 1176, 3532],\n",
              "        [1181, 1179, 1182, ..., 1177, 1176, 3532]]),\n",
              " array([[ 336,  134,  256, ...,  385,  114,  641],\n",
              "        [ 140,  563,  908, ...,  369,  398,  587],\n",
              "        [ 219,  259,  223, ...,  156,   54,  585],\n",
              "        ...,\n",
              "        [1181, 1179, 1182, ..., 1177, 1176, 3532],\n",
              "        [1181, 1179, 1182, ..., 1177, 1176, 3532],\n",
              "        [1181, 1179, 1182, ..., 1177, 1176, 3532]])]"
            ]
          },
          "metadata": {
            "tags": []
          },
          "execution_count": 49
        }
      ]
    },
    {
      "cell_type": "code",
      "metadata": {
        "id": "kc3Iluf-0dE9"
      },
      "source": [
        "with open('/mnt/bulky/oolaleke/TDM_Dataset/ML_1M/ML1iRT_newPRED.pkl', 'wb') as f:  \n",
        "     pickle.dump(AllUsrsRTPRED_ml1, f)"
      ],
      "execution_count": null,
      "outputs": []
    },
    {
      "cell_type": "code",
      "metadata": {
        "id": "BhwBXFwv0dE-",
        "outputId": "11f4d7ae-90c2-499c-d13f-fddf6093e440"
      },
      "source": [
        "###Coverage ||.....||\n",
        "alsRTCovList_ml1 = AllSteps_Coverage_Ratio(newMLDF_1M,AllUsrsRTPRED_ml1,'Updated_ItemID')\n",
        "alsRTCovList_ml1"
      ],
      "execution_count": null,
      "outputs": [
        {
          "output_type": "execute_result",
          "data": {
            "text/plain": [
              "[0.230682,\n",
              " 0.230682,\n",
              " 0.234079,\n",
              " 0.23238,\n",
              " 0.233513,\n",
              " 0.234362,\n",
              " 0.233513,\n",
              " 0.234079,\n",
              " 0.23606,\n",
              " 0.237475]"
            ]
          },
          "metadata": {
            "tags": []
          },
          "execution_count": 53
        }
      ]
    },
    {
      "cell_type": "code",
      "metadata": {
        "id": "lMeCOdVM0dE_",
        "outputId": "72fa5ba9-ddd0-437f-cef8-4bc2785a1009"
      },
      "source": [
        "AllSteps  = list(range(1,10))\n",
        "iALSCorr_ml1 = Updt_getAll_AvgCorr(AllUsrsRTPRED_ml1,newUserItem_listML1,AllSteps,'Updated_UserID')  #,\n",
        "for df in iALSCorr_ml1:\n",
        "    print(df.mean()) "
      ],
      "execution_count": null,
      "outputs": [
        {
          "output_type": "stream",
          "text": [
            "0.6396744045164181\n",
            "0.6611167582446449\n",
            "0.6488851144620298\n",
            "0.6346426488938057\n",
            "0.6266215250864838\n",
            "0.6487937150831147\n",
            "0.643720971434931\n",
            "0.6386380717685826\n",
            "0.6467061937399258\n"
          ],
          "name": "stdout"
        }
      ]
    },
    {
      "cell_type": "code",
      "metadata": {
        "id": "H6E6K7DG0dFA"
      },
      "source": [
        ""
      ],
      "execution_count": null,
      "outputs": []
    },
    {
      "cell_type": "code",
      "metadata": {
        "id": "sYxENod-0dFC"
      },
      "source": [
        ""
      ],
      "execution_count": null,
      "outputs": []
    },
    {
      "cell_type": "markdown",
      "metadata": {
        "id": "Lb2NaJ772v3a"
      },
      "source": [
        "#Amz_Games"
      ]
    },
    {
      "cell_type": "code",
      "metadata": {
        "id": "UISRS49D3Fo0"
      },
      "source": [
        "newAMZGames_DF = pd.read_csv('/mnt/bulky/oolaleke/TDM_Dataset/AMZ_GamesFiles/AMZGames_afterUpdt.csv')"
      ],
      "execution_count": null,
      "outputs": []
    },
    {
      "cell_type": "code",
      "metadata": {
        "id": "q3hEVDDE3FMi"
      },
      "source": [
        "##lOAD Saved Lists...\n",
        "with open('/mnt/bulky/oolaleke/TDM_Dataset/AMZ_GamesFiles/AMZGames_newUserItem.pkl', 'rb') as f:   #\n",
        "     newUserItemlist_AMZg = pickle.load(f)\n",
        "\n",
        "with open('/mnt/bulky/oolaleke/TDM_Dataset/AMZ_GamesFiles/AMZGames_newHoldout.pkl', 'rb') as f:\n",
        "     newHOLDOUTLIST_AMZg  = pickle.load(f)\n"
      ],
      "execution_count": null,
      "outputs": []
    },
    {
      "cell_type": "code",
      "metadata": {
        "id": "oI_GwYEK0dFR",
        "outputId": "d6dc12f9-7944-424c-85a4-f29903b83768"
      },
      "source": [
        "rows_i = newAMZGames_DF['Updated_UserID'].nunique()\n",
        "cols_i = newAMZGames_DF['Updated_ItemID'].nunique()\n",
        "UserItemMATList_AMZg = AllRatingMatrices(newUserItemlist_AMZg,'Updated_UserID','Updated_ItemID',rows_i ,cols_i) \n",
        "print(len(UserItemMATList_AMZg))   \n",
        "UserItemMATList_AMZg"
      ],
      "execution_count": null,
      "outputs": [
        {
          "output_type": "stream",
          "text": [
            "15\n"
          ],
          "name": "stdout"
        },
        {
          "output_type": "execute_result",
          "data": {
            "text/plain": [
              "[<39284x17318 sparse matrix of type '<class 'numpy.float64'>'\n",
              " \twith 250384 stored elements in Compressed Sparse Row format>,\n",
              " <39284x17318 sparse matrix of type '<class 'numpy.float64'>'\n",
              " \twith 255520 stored elements in Compressed Sparse Row format>,\n",
              " <39284x17318 sparse matrix of type '<class 'numpy.float64'>'\n",
              " \twith 261105 stored elements in Compressed Sparse Row format>,\n",
              " <39284x17318 sparse matrix of type '<class 'numpy.float64'>'\n",
              " \twith 266597 stored elements in Compressed Sparse Row format>,\n",
              " <39284x17318 sparse matrix of type '<class 'numpy.float64'>'\n",
              " \twith 272102 stored elements in Compressed Sparse Row format>,\n",
              " <39284x17318 sparse matrix of type '<class 'numpy.float64'>'\n",
              " \twith 277572 stored elements in Compressed Sparse Row format>,\n",
              " <39284x17318 sparse matrix of type '<class 'numpy.float64'>'\n",
              " \twith 282899 stored elements in Compressed Sparse Row format>,\n",
              " <39284x17318 sparse matrix of type '<class 'numpy.float64'>'\n",
              " \twith 288493 stored elements in Compressed Sparse Row format>,\n",
              " <39284x17318 sparse matrix of type '<class 'numpy.float64'>'\n",
              " \twith 294033 stored elements in Compressed Sparse Row format>,\n",
              " <39284x17318 sparse matrix of type '<class 'numpy.float64'>'\n",
              " \twith 299422 stored elements in Compressed Sparse Row format>,\n",
              " <39284x17318 sparse matrix of type '<class 'numpy.float64'>'\n",
              " \twith 304874 stored elements in Compressed Sparse Row format>,\n",
              " <39284x17318 sparse matrix of type '<class 'numpy.float64'>'\n",
              " \twith 310345 stored elements in Compressed Sparse Row format>,\n",
              " <39284x17318 sparse matrix of type '<class 'numpy.float64'>'\n",
              " \twith 315857 stored elements in Compressed Sparse Row format>,\n",
              " <39284x17318 sparse matrix of type '<class 'numpy.float64'>'\n",
              " \twith 321360 stored elements in Compressed Sparse Row format>,\n",
              " <39284x17318 sparse matrix of type '<class 'numpy.float64'>'\n",
              " \twith 326607 stored elements in Compressed Sparse Row format>]"
            ]
          },
          "metadata": {
            "tags": []
          },
          "execution_count": 60
        }
      ]
    },
    {
      "cell_type": "code",
      "metadata": {
        "id": "S4S-FsVe0dFS"
      },
      "source": [
        "################################\n",
        "# Tuning\n",
        "################################"
      ],
      "execution_count": null,
      "outputs": []
    },
    {
      "cell_type": "code",
      "metadata": {
        "id": "l5rZH_a10dFT",
        "outputId": "0719e731-8e58-4e97-db99-43a64c7fe24a"
      },
      "source": [
        "rows_i = newAMZGames_DF['Updated_UserID'].nunique()\n",
        "cols_i = newAMZGames_DF['Updated_ItemID'].nunique()\n",
        "\n",
        "holdoutdf_AMZg = newHOLDOUTLIST_AMZg[0]\n",
        "print(\"Holdout set: \",holdoutdf_AMZg.shape[0])\n",
        "print()\n",
        "Trainmat_AMZg = SingleRatingMatrix(newUserItemlist_AMZg[0],'Updated_UserID','Updated_ItemID',rows_i,cols_i)  #changes start within steps...\n",
        "Trainmat_AMZg"
      ],
      "execution_count": null,
      "outputs": [
        {
          "output_type": "stream",
          "text": [
            "Holdout set:  2018\n",
            "\n"
          ],
          "name": "stdout"
        },
        {
          "output_type": "execute_result",
          "data": {
            "text/plain": [
              "<39284x17318 sparse matrix of type '<class 'numpy.float64'>'\n",
              "\twith 250384 stored elements in Compressed Sparse Row format>"
            ]
          },
          "metadata": {
            "tags": []
          },
          "execution_count": 83
        }
      ]
    },
    {
      "cell_type": "code",
      "metadata": {
        "id": "qW7_DSKq0dFU",
        "outputId": "4fefbb4d-6387-4fb0-d347-a4a96d296203"
      },
      "source": [
        "als_params = dict(alpha = [ 0.001,0.05, 0.1, 0.5, 1, 5, 10, 50, 100],\n",
        "                  regularization = [0.001, 0.005, 0.01, 0.05, 0.1, 0.5, 1, 10],\n",
        "                  rank = list(range(10, 81, 10)),\n",
        "                  iter_array = [10,15,20,25,30])\n",
        "\n",
        "als_param_grid, als_param_names = random_grid(als_params, n=60)\n",
        "print(als_param_names)\n",
        "len(als_param_grid) "
      ],
      "execution_count": null,
      "outputs": [
        {
          "output_type": "stream",
          "text": [
            "('alpha', 'regularization', 'rank', 'iter_array')\n"
          ],
          "name": "stdout"
        },
        {
          "output_type": "execute_result",
          "data": {
            "text/plain": [
              "60"
            ]
          },
          "metadata": {
            "tags": []
          },
          "execution_count": 84
        }
      ]
    },
    {
      "cell_type": "code",
      "metadata": {
        "id": "5MXwJS_70dFV",
        "outputId": "e0035db7-a22a-4685-8043-71e979cc00c7"
      },
      "source": [
        "for i in range(10):\n",
        "    alpha, reg, rank, iter = list(als_param_grid)[i]  \n",
        "    print(alpha, reg, rank,iter)"
      ],
      "execution_count": null,
      "outputs": [
        {
          "output_type": "stream",
          "text": [
            "1 0.01 20 20\n",
            "0.1 10 80 10\n",
            "0.5 0.05 50 30\n",
            "10 0.01 30 25\n",
            "100 0.005 60 10\n",
            "1 0.001 30 20\n",
            "50 10 50 10\n",
            "0.1 0.001 30 20\n",
            "10 1 50 10\n",
            "0.05 0.5 80 30\n"
          ],
          "name": "stdout"
        }
      ]
    },
    {
      "cell_type": "code",
      "metadata": {
        "id": "tTwPA7A60dFW",
        "outputId": "46f04878-cbc8-46fc-ab5d-b83a87f9c502"
      },
      "source": [
        "bestModelInfo_AMZg = TuneALS(Trainmat_AMZg,holdoutdf_AMZg,als_param_grid)    "
      ],
      "execution_count": null,
      "outputs": [
        {
          "output_type": "stream",
          "text": [
            "  2%|▏         | 1/60 [00:05<05:52,  5.97s/it]latent factors= 20 ,reg_ = 0.01:, n_iter = 20, alpha = 1, HR= 0.01734390485629336\n",
            "  3%|▎         | 2/60 [00:07<03:15,  3.38s/it]latent factors= 80 ,reg_ = 10:, n_iter = 10, alpha = 0.1, HR= 0.003468780971258672\n",
            "  5%|▌         | 3/60 [00:12<04:00,  4.22s/it]latent factors= 50 ,reg_ = 0.05:, n_iter = 30, alpha = 0.5, HR= 0.01635282457879088\n",
            "  7%|▋         | 4/60 [00:16<03:53,  4.18s/it]latent factors= 30 ,reg_ = 0.01:, n_iter = 25, alpha = 10, HR= 0.04112983151635283\n",
            "  8%|▊         | 5/60 [00:20<03:41,  4.03s/it]latent factors= 60 ,reg_ = 0.005:, n_iter = 10, alpha = 100, HR= 0.03419226957383548\n",
            " 10%|█         | 6/60 [00:24<03:30,  3.89s/it]latent factors= 30 ,reg_ = 0.001:, n_iter = 20, alpha = 1, HR= 0.014866204162537165\n",
            " 12%|█▏        | 7/60 [00:26<02:54,  3.29s/it]latent factors= 50 ,reg_ = 10:, n_iter = 10, alpha = 50, HR= 0.05946481665014866\n",
            " 13%|█▎        | 8/60 [00:29<02:55,  3.37s/it]latent factors= 30 ,reg_ = 0.001:, n_iter = 20, alpha = 0.1, HR= 0.006442021803766105\n",
            " 15%|█▌        | 9/60 [00:32<02:37,  3.09s/it]latent factors= 50 ,reg_ = 1:, n_iter = 10, alpha = 10, HR= 0.0599603567888999\n",
            " 17%|█▋        | 10/60 [00:38<03:26,  4.13s/it]latent factors= 80 ,reg_ = 0.5:, n_iter = 30, alpha = 0.05, HR= 0.028245787908820614\n",
            " 18%|█▊        | 11/60 [00:42<03:17,  4.04s/it]latent factors= 20 ,reg_ = 0.001:, n_iter = 25, alpha = 0.1, HR= 0.007433102081268583\n",
            " 20%|██        | 12/60 [00:44<02:45,  3.44s/it]latent factors= 10 ,reg_ = 0.05:, n_iter = 10, alpha = 0.05, HR= 0.009910802775024777\n",
            " 22%|██▏       | 13/60 [00:47<02:28,  3.15s/it]latent factors= 70 ,reg_ = 0.1:, n_iter = 10, alpha = 1, HR= 0.033201189296333006\n",
            " 23%|██▎       | 14/60 [00:50<02:25,  3.16s/it]latent factors= 30 ,reg_ = 0.01:, n_iter = 10, alpha = 0.5, HR= 0.007928642220019821\n",
            " 25%|██▌       | 15/60 [00:53<02:22,  3.16s/it]latent factors= 30 ,reg_ = 1:, n_iter = 15, alpha = 100, HR= 0.06095143706640238\n",
            " 27%|██▋       | 16/60 [00:58<02:37,  3.58s/it]latent factors= 80 ,reg_ = 0.005:, n_iter = 25, alpha = 10, HR= 0.05847373637264618\n",
            " 28%|██▊       | 17/60 [01:02<02:41,  3.75s/it]latent factors= 70 ,reg_ = 10:, n_iter = 25, alpha = 1, HR= 0.04311199207135778\n",
            " 30%|███       | 18/60 [01:05<02:32,  3.62s/it]latent factors= 70 ,reg_ = 0.01:, n_iter = 15, alpha = 0.1, HR= 0.01684836471754212\n",
            " 32%|███▏      | 19/60 [01:09<02:30,  3.68s/it]latent factors= 20 ,reg_ = 0.005:, n_iter = 25, alpha = 0.001, HR= 0.017839444995044598\n",
            " 33%|███▎      | 20/60 [01:12<02:21,  3.53s/it]latent factors= 60 ,reg_ = 10:, n_iter = 20, alpha = 1, HR= 0.04311199207135778\n",
            " 35%|███▌      | 21/60 [01:15<02:05,  3.22s/it]latent factors= 50 ,reg_ = 10:, n_iter = 20, alpha = 0.1, HR= 0.007433102081268583\n",
            " 37%|███▋      | 22/60 [01:19<02:22,  3.74s/it]latent factors= 70 ,reg_ = 0.001:, n_iter = 30, alpha = 10, HR= 0.050049554013875126\n",
            " 38%|███▊      | 23/60 [01:23<02:21,  3.82s/it]latent factors= 30 ,reg_ = 0.005:, n_iter = 20, alpha = 50, HR= 0.04013875123885035\n",
            " 40%|████      | 24/60 [01:31<02:59,  4.98s/it]latent factors= 20 ,reg_ = 1:, n_iter = 30, alpha = 0.1, HR= 0.02081268582755203\n",
            " 42%|████▏     | 25/60 [01:37<03:01,  5.20s/it]latent factors= 60 ,reg_ = 0.005:, n_iter = 20, alpha = 0.5, HR= 0.011892963330029732\n",
            " 43%|████▎     | 26/60 [01:42<02:54,  5.12s/it]latent factors= 20 ,reg_ = 10:, n_iter = 30, alpha = 1, HR= 0.030723488602576808\n",
            " 45%|████▌     | 27/60 [01:46<02:40,  4.87s/it]latent factors= 80 ,reg_ = 0.5:, n_iter = 25, alpha = 50, HR= 0.06788899900891972\n",
            " 47%|████▋     | 28/60 [01:52<02:49,  5.30s/it]latent factors= 10 ,reg_ = 0.1:, n_iter = 30, alpha = 50, HR= 0.03468780971258672\n",
            " 48%|████▊     | 29/60 [01:58<02:44,  5.30s/it]latent factors= 20 ,reg_ = 0.005:, n_iter = 30, alpha = 50, HR= 0.03221010901883053\n",
            " 50%|█████     | 30/60 [02:05<02:52,  5.76s/it]latent factors= 10 ,reg_ = 0.05:, n_iter = 30, alpha = 50, HR= 0.03468780971258672\n",
            " 52%|█████▏    | 31/60 [02:07<02:21,  4.87s/it]latent factors= 70 ,reg_ = 0.1:, n_iter = 15, alpha = 10, HR= 0.06095143706640238\n",
            " 53%|█████▎    | 32/60 [02:11<02:09,  4.62s/it]latent factors= 40 ,reg_ = 0.01:, n_iter = 20, alpha = 50, HR= 0.044598612487611496\n",
            " 55%|█████▌    | 33/60 [02:14<01:48,  4.00s/it]latent factors= 40 ,reg_ = 0.5:, n_iter = 10, alpha = 0.1, HR= 0.023290386521308225\n",
            " 57%|█████▋    | 34/60 [02:15<01:24,  3.26s/it]latent factors= 30 ,reg_ = 10:, n_iter = 30, alpha = 0.001, HR= 0.0009910802775024777\n",
            " 58%|█████▊    | 35/60 [02:18<01:16,  3.06s/it]latent factors= 40 ,reg_ = 0.01:, n_iter = 15, alpha = 0.05, HR= 0.012388503468780971\n",
            " 60%|██████    | 36/60 [02:23<01:29,  3.74s/it]latent factors= 10 ,reg_ = 0.5:, n_iter = 30, alpha = 50, HR= 0.035678889990089196\n",
            " 62%|██████▏   | 37/60 [02:25<01:10,  3.07s/it]latent factors= 50 ,reg_ = 1:, n_iter = 20, alpha = 0.001, HR= 0.003468780971258672\n",
            " 63%|██████▎   | 38/60 [02:29<01:11,  3.25s/it]latent factors= 40 ,reg_ = 0.01:, n_iter = 25, alpha = 1, HR= 0.018830525272547076\n",
            " 65%|██████▌   | 39/60 [02:33<01:14,  3.56s/it]latent factors= 40 ,reg_ = 10:, n_iter = 25, alpha = 50, HR= 0.05649157581764123\n",
            " 67%|██████▋   | 40/60 [02:38<01:20,  4.03s/it]latent factors= 70 ,reg_ = 0.001:, n_iter = 30, alpha = 0.001, HR= 0.018334985133795837\n",
            " 68%|██████▊   | 41/60 [02:43<01:23,  4.38s/it]latent factors= 80 ,reg_ = 0.005:, n_iter = 30, alpha = 10, HR= 0.06293359762140734\n",
            " 70%|███████   | 42/60 [02:45<01:07,  3.72s/it]latent factors= 60 ,reg_ = 0.1:, n_iter = 10, alpha = 5, HR= 0.055004955401387515\n",
            " 72%|███████▏  | 43/60 [02:51<01:12,  4.25s/it]latent factors= 30 ,reg_ = 0.5:, n_iter = 25, alpha = 1, HR= 0.03518334985133796\n",
            " 73%|███████▎  | 44/60 [02:53<01:00,  3.77s/it]latent factors= 70 ,reg_ = 0.001:, n_iter = 15, alpha = 0.1, HR= 0.012388503468780971\n",
            " 75%|███████▌  | 45/60 [02:57<00:55,  3.73s/it]latent factors= 30 ,reg_ = 0.001:, n_iter = 15, alpha = 50, HR= 0.03518334985133796\n",
            " 77%|███████▋  | 46/60 [03:01<00:53,  3.80s/it]latent factors= 60 ,reg_ = 0.001:, n_iter = 25, alpha = 1, HR= 0.02081268582755203\n",
            " 78%|███████▊  | 47/60 [03:05<00:49,  3.83s/it]latent factors= 70 ,reg_ = 0.1:, n_iter = 15, alpha = 100, HR= 0.06689791873141725\n",
            " 80%|████████  | 48/60 [03:06<00:37,  3.14s/it]latent factors= 70 ,reg_ = 10:, n_iter = 15, alpha = 0.1, HR= 0.007433102081268583\n",
            " 82%|████████▏ | 49/60 [03:10<00:35,  3.21s/it]latent factors= 60 ,reg_ = 1:, n_iter = 20, alpha = 5, HR= 0.05698711595639247\n",
            " 83%|████████▎ | 50/60 [03:16<00:40,  4.05s/it]latent factors= 10 ,reg_ = 0.005:, n_iter = 30, alpha = 0.5, HR= 0.013379583746283449\n",
            " 85%|████████▌ | 51/60 [03:19<00:33,  3.68s/it]latent factors= 80 ,reg_ = 0.5:, n_iter = 10, alpha = 1, HR= 0.046085232903865216\n",
            " 87%|████████▋ | 52/60 [03:21<00:26,  3.36s/it]latent factors= 20 ,reg_ = 10:, n_iter = 15, alpha = 100, HR= 0.04707631318136769\n",
            " 88%|████████▊ | 53/60 [03:24<00:22,  3.25s/it]latent factors= 30 ,reg_ = 0.005:, n_iter = 15, alpha = 0.001, HR= 0.019821605550049554\n",
            " 90%|█████████ | 54/60 [03:28<00:20,  3.38s/it]latent factors= 50 ,reg_ = 0.001:, n_iter = 20, alpha = 50, HR= 0.04410307234886026\n",
            " 92%|█████████▏| 55/60 [03:30<00:15,  3.00s/it]latent factors= 20 ,reg_ = 0.05:, n_iter = 10, alpha = 5, HR= 0.04162537165510406\n",
            " 93%|█████████▎| 56/60 [03:36<00:15,  3.86s/it]latent factors= 80 ,reg_ = 1:, n_iter = 25, alpha = 5, HR= 0.058969276511397425\n",
            " 95%|█████████▌| 57/60 [03:39<00:10,  3.51s/it]latent factors= 20 ,reg_ = 0.5:, n_iter = 15, alpha = 0.5, HR= 0.02180376610505451\n",
            " 97%|█████████▋| 58/60 [03:43<00:07,  3.87s/it]latent factors= 70 ,reg_ = 10:, n_iter = 30, alpha = 0.5, HR= 0.023290386521308225\n",
            " 98%|█████████▊| 59/60 [03:46<00:03,  3.55s/it]latent factors= 50 ,reg_ = 0.001:, n_iter = 10, alpha = 5, HR= 0.026759167492566897\n",
            "100%|██████████| 60/60 [03:53<00:00,  3.89s/it]latent factors= 50 ,reg_ = 1:, n_iter = 25, alpha = 50, HR= 0.06342913776015857\n",
            "\n",
            " Best model; latent_factors= 80 , reg_ = 0.5, n_iter = 25, alpha = 50, HR = 0.06788899900891972\n",
            "\n"
          ],
          "name": "stderr"
        }
      ]
    },
    {
      "cell_type": "code",
      "metadata": {
        "id": "6sa6OmvB0dFY"
      },
      "source": [
        ""
      ],
      "execution_count": null,
      "outputs": []
    },
    {
      "cell_type": "code",
      "metadata": {
        "id": "qKaVIi1g0dFZ",
        "outputId": "7d5d9b15-8ee7-46c5-9df3-53d2ed8b64f4"
      },
      "source": [
        "#bestModel: latent_factors= 80 , reg_ = 0.5, n_iter = 25, alpha = 50,\n",
        "rank =  80\n",
        "reglr = 0.5\n",
        "iter =  25\n",
        "alpha = 50\n",
        "\n",
        "Vlist_amzg,Ulist_amzg = getiALS_VUlist(UserItemMATList_AMZg,rank=80,iter=25,reg=0.5,alpha=50)"
      ],
      "execution_count": null,
      "outputs": [
        {
          "output_type": "stream",
          "text": [
            "100%|██████████| 15/15 [01:53<00:00,  7.58s/it]\n"
          ],
          "name": "stderr"
        }
      ]
    },
    {
      "cell_type": "code",
      "metadata": {
        "id": "5Pgz3DrJ0dFa",
        "outputId": "047b6dc9-187e-474c-b207-7c579b8d0ff1"
      },
      "source": [
        "TestUsrsPRED_amzg = ials_getALLPred(UserItemMATList_AMZg, newHOLDOUTLIST_AMZg, Ulist_amzg, Vlist_amzg,'Updated_UserID',N=10) \n",
        "print(len(TestUsrsPRED_amzg))\n",
        "AllStepsRTHitr_amzg, LowerBand, Avg_HitRate, UpperBand = getAll_HitRate(newHOLDOUTLIST_AMZg,TestUsrsPRED_amzg,'Updated_UserID','Updated_ItemID')"
      ],
      "execution_count": null,
      "outputs": [
        {
          "output_type": "stream",
          "text": [
            "15\n",
            "Number of hits:  142\n",
            "Total Num of users:  2018\n",
            "Recommendation HitRate:  0.07036669970267592\n",
            "Number of hits:  151\n",
            "Total Num of users:  2200\n",
            "Recommendation HitRate:  0.06863636363636363\n",
            "Number of hits:  160\n",
            "Total Num of users:  2172\n",
            "Recommendation HitRate:  0.07366482504604052\n",
            "Number of hits:  175\n",
            "Total Num of users:  2079\n",
            "Recommendation HitRate:  0.08417508417508418\n",
            "Number of hits:  168\n",
            "Total Num of users:  2089\n",
            "Recommendation HitRate:  0.08042125418860699\n",
            "Number of hits:  158\n",
            "Total Num of users:  2120\n",
            "Recommendation HitRate:  0.07452830188679245\n",
            "Number of hits:  132\n",
            "Total Num of users:  2217\n",
            "Recommendation HitRate:  0.05953991880920163\n",
            "Number of hits:  125\n",
            "Total Num of users:  2207\n",
            "Recommendation HitRate:  0.05663797009515179\n",
            "Number of hits:  157\n",
            "Total Num of users:  2133\n",
            "Recommendation HitRate:  0.0736052508204407\n",
            "Number of hits:  171\n",
            "Total Num of users:  2171\n",
            "Recommendation HitRate:  0.0787655458314141\n",
            "Number of hits:  162\n",
            "Total Num of users:  2261\n",
            "Recommendation HitRate:  0.07164971251658558\n",
            "Number of hits:  169\n",
            "Total Num of users:  2246\n",
            "Recommendation HitRate:  0.07524487978628673\n",
            "Number of hits:  157\n",
            "Total Num of users:  2196\n",
            "Recommendation HitRate:  0.0714936247723133\n",
            "Number of hits:  170\n",
            "Total Num of users:  2269\n",
            "Recommendation HitRate:  0.0749228735125606\n",
            "Number of hits:  127\n",
            "Total Num of users:  2222\n",
            "Recommendation HitRate:  0.05715571557155716\n",
            "Average HitRate for All Recommendations:  0.07138720135673836\n"
          ],
          "name": "stdout"
        }
      ]
    },
    {
      "cell_type": "code",
      "metadata": {
        "id": "eaZum8cc0dFb",
        "outputId": "beead9f5-d167-40cb-8085-c604a3b6ecb8"
      },
      "source": [
        "AllStepsRTHitr_amzg"
      ],
      "execution_count": null,
      "outputs": [
        {
          "output_type": "execute_result",
          "data": {
            "text/plain": [
              "[0.07036669970267592,\n",
              " 0.06863636363636363,\n",
              " 0.07366482504604052,\n",
              " 0.08417508417508418,\n",
              " 0.08042125418860699,\n",
              " 0.07452830188679245,\n",
              " 0.05953991880920163,\n",
              " 0.05663797009515179,\n",
              " 0.0736052508204407,\n",
              " 0.0787655458314141,\n",
              " 0.07164971251658558,\n",
              " 0.07524487978628673,\n",
              " 0.0714936247723133,\n",
              " 0.0749228735125606,\n",
              " 0.05715571557155716]"
            ]
          },
          "metadata": {
            "tags": []
          },
          "execution_count": 63
        }
      ]
    },
    {
      "cell_type": "code",
      "metadata": {
        "id": "c7noK3Ct0dFc",
        "outputId": "0f0195c6-8eef-4e85-d2e7-4186954976b1"
      },
      "source": [
        "## MRR\n",
        "AllStepsRTMRR_amzg, als_LBand, als_AvgMRR, als_UBand  = TQDMgetAll_MRR_Eval(newHOLDOUTLIST_AMZg,TestUsrsPRED_amzg,'Updated_ItemID')\n",
        "AllStepsRTMRR_amzg"
      ],
      "execution_count": null,
      "outputs": [
        {
          "output_type": "stream",
          "text": [
            "15it [00:00, 566.29it/s]\n"
          ],
          "name": "stderr"
        },
        {
          "output_type": "execute_result",
          "data": {
            "text/plain": [
              "[0.029182,\n",
              " 0.0291,\n",
              " 0.027641,\n",
              " 0.03636,\n",
              " 0.034335,\n",
              " 0.034739,\n",
              " 0.029932,\n",
              " 0.023984,\n",
              " 0.034718,\n",
              " 0.032746,\n",
              " 0.028055,\n",
              " 0.030768,\n",
              " 0.02987,\n",
              " 0.034885,\n",
              " 0.023542]"
            ]
          },
          "metadata": {
            "tags": []
          },
          "execution_count": 64
        }
      ]
    },
    {
      "cell_type": "code",
      "metadata": {
        "id": "jekNv9k50dFe",
        "outputId": "3048b765-2d8b-4a03-b401-8b1aabf46779"
      },
      "source": [
        "## AllUsersPred:::  \n",
        "AllUsrsRTPRED_amzg  = ialsALLPred_ALLUSERS(UserItemMATList_AMZg,Ulist_amzg,Vlist_amzg,N=10)  \n",
        "print(len(AllUsrsRTPRED_amzg))\n",
        "AllUsrsRTPRED_amzg[:2]"
      ],
      "execution_count": null,
      "outputs": [
        {
          "output_type": "stream",
          "text": [
            "15\n"
          ],
          "name": "stdout"
        },
        {
          "output_type": "execute_result",
          "data": {
            "text/plain": [
              "[array([[  385,   145,   825, ...,   916,   204,   380],\n",
              "        [14760,    29, 14555, ...,   874,   138, 13908],\n",
              "        [  346,   687,   385, ...,   181,   610,   155],\n",
              "        ...,\n",
              "        [ 5775,  5777,  5782, ...,  5771,  5770, 17317],\n",
              "        [ 5775,  5777,  5782, ...,  5771,  5770, 17317],\n",
              "        [ 5775,  5777,  5782, ...,  5771,  5770, 17317]]),\n",
              " array([[  145,   385,   825, ...,  1434,   916,   380],\n",
              "        [11924, 13491, 14555, ..., 14760,    23, 13171],\n",
              "        [  346,   174,   687, ...,     0,   705,   613],\n",
              "        ...,\n",
              "        [ 5775,  5777,  5782, ...,  5771,  5770, 17317],\n",
              "        [ 5775,  5777,  5782, ...,  5771,  5770, 17317],\n",
              "        [ 5775,  5777,  5782, ...,  5771,  5770, 17317]])]"
            ]
          },
          "metadata": {
            "tags": []
          },
          "execution_count": 65
        }
      ]
    },
    {
      "cell_type": "code",
      "metadata": {
        "id": "__qbW1bW0dFf"
      },
      "source": [
        "with open('/mnt/bulky/oolaleke/TDM_Dataset/AMZ_GamesFiles/AMZG_iRTnewPRED.pkl', 'wb') as f:  \n",
        "     pickle.dump(AllUsrsRTPRED_amzg, f)"
      ],
      "execution_count": null,
      "outputs": []
    },
    {
      "cell_type": "code",
      "metadata": {
        "id": "mMguW0hm0dFg",
        "outputId": "b7a9e13a-b5a8-41b1-8783-22856c33a5a1"
      },
      "source": [
        "## Coverage:::\n",
        "alsRTCovList_AMZg = AllSteps_Coverage_Ratio(newAMZGames_DF, AllUsrsRTPRED_amzg, 'Updated_ItemID')\n",
        "alsRTCovList_AMZg "
      ],
      "execution_count": null,
      "outputs": [
        {
          "output_type": "execute_result",
          "data": {
            "text/plain": [
              "[0.191304,\n",
              " 0.194422,\n",
              " 0.193556,\n",
              " 0.194191,\n",
              " 0.194595,\n",
              " 0.194768,\n",
              " 0.19344,\n",
              " 0.193498,\n",
              " 0.195173,\n",
              " 0.194364,\n",
              " 0.193671,\n",
              " 0.194307,\n",
              " 0.194884,\n",
              " 0.192228,\n",
              " 0.194942]"
            ]
          },
          "metadata": {
            "tags": []
          },
          "execution_count": 67
        }
      ]
    },
    {
      "cell_type": "code",
      "metadata": {
        "id": "tKpgmsxG0dFh",
        "outputId": "67c65c57-e1d6-47da-8d32-2caf401f4f38"
      },
      "source": [
        "AllSteps  = list(range(1,15))\n",
        "iALSCorr_amzg = Updt_getAll_AvgCorr(AllUsrsRTPRED_amzg, newUserItemlist_AMZg, AllSteps,'Updated_UserID') #\n",
        "for df in iALSCorr_amzg:\n",
        "    print(df.mean()) "
      ],
      "execution_count": null,
      "outputs": [
        {
          "output_type": "stream",
          "text": [
            "0.42018598742262653\n",
            "0.42555449747577945\n",
            "0.4232726066488098\n",
            "0.417317937330896\n",
            "0.41799430819152406\n",
            "0.4237161069162328\n",
            "0.4288281630852342\n",
            "0.4247635511827896\n",
            "0.42661200775151426\n",
            "0.4280036882104114\n",
            "0.42405788968832886\n",
            "0.42877834170285967\n",
            "0.4276171502777493\n",
            "0.4288725756438257\n"
          ],
          "name": "stdout"
        }
      ]
    },
    {
      "cell_type": "code",
      "metadata": {
        "id": "jIkKOV0d0dFi"
      },
      "source": [
        ""
      ],
      "execution_count": null,
      "outputs": []
    }
  ]
}