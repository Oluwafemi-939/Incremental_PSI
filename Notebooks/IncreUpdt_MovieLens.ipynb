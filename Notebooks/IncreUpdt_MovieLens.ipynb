{
  "nbformat": 4,
  "nbformat_minor": 0,
  "metadata": {
    "colab": {
      "name": "IncreUpdt_MovieLens_.ipynb",
      "provenance": [],
      "collapsed_sections": [],
      "toc_visible": true
    },
    "kernelspec": {
      "name": "python3",
      "display_name": "Python 3"
    },
    "language_info": {
      "name": "python"
    }
  },
  "cells": [
    {
      "cell_type": "code",
      "metadata": {
        "id": "gf2XKkWXXcDg"
      },
      "source": [
        ""
      ],
      "execution_count": null,
      "outputs": []
    },
    {
      "cell_type": "markdown",
      "metadata": {
        "id": "waGNRsQkGt3t"
      },
      "source": [
        "## Imports"
      ]
    },
    {
      "cell_type": "code",
      "metadata": {
        "id": "LSMrVzzrFcnl"
      },
      "source": [
        "import io\n",
        "import os\n",
        "import gzip\n",
        "import json\n",
        "import scipy\n",
        "import random\n",
        "import warnings\n",
        "import numpy as np\n",
        "import numba as nb\n",
        "import pandas as pd\n",
        "import datetime as dt\n",
        "import seaborn as sns\n",
        "from tqdm import tqdm\n",
        "import scipy.stats as st\n",
        "import scipy.sparse as sparse\n",
        "from scipy.linalg import orth\n",
        "import matplotlib.pyplot as plt\n",
        "from numpy import linalg as lin\n",
        "warnings.filterwarnings('ignore')\n",
        "from collections import OrderedDict\n",
        "from scipy.sparse import coo_matrix\n",
        "from scipy.sparse.linalg import svds\n",
        "from datetime import datetime as dt_dt\n",
        "from scipy.sparse.linalg import spsolve\n",
        "from numpy.linalg import qr as QR_decomp\n",
        "from scipy.sparse import csr_matrix, find\n",
        "from pandas.api.types import CategoricalDtype"
      ],
      "execution_count": 1,
      "outputs": []
    },
    {
      "cell_type": "markdown",
      "metadata": {
        "id": "IkLZJhQWqaPp"
      },
      "source": [
        "## Functions"
      ]
    },
    {
      "cell_type": "code",
      "metadata": {
        "id": "Uvv8Q8zR7OAn"
      },
      "source": [
        "import sys\n",
        "sys.path.append('/content/')"
      ],
      "execution_count": 2,
      "outputs": []
    },
    {
      "cell_type": "code",
      "metadata": {
        "id": "qoOQOsCf7849"
      },
      "source": [
        "import a_DataHelpers\n",
        "import b_AlgoFunctions\n",
        "import c_PredEval\n",
        "import d_CorrScores"
      ],
      "execution_count": 3,
      "outputs": []
    },
    {
      "cell_type": "code",
      "metadata": {
        "id": "slSdgbc1XxNT"
      },
      "source": [
        "from a_DataHelpers import getPivotMonths,Time_DataSplit,TestTrain_DataSplit,SingleRatingMatrix\n",
        "from a_DataHelpers import AllRatingMatrices,All_SingleStepRatMat,psiStep_RatMat,psiAllStep_RatMat\n",
        "from a_DataHelpers import Find_NewUsersItems,adjustedPSI_DF,adjustedAllDF,get_NEWHoldout,ADJUST_mainDF\n",
        "\n",
        "from b_AlgoFunctions import integrator,getStartingValues,integratorOnMat,last_psiTrainMat\n",
        "from b_AlgoFunctions import Updt_RowMatrix,getRow_Mat,row_update, Updt_ColMatrix,getCol_Mat,colunm_update\n",
        "from b_AlgoFunctions import UsersItems_RatPair,getRowCol_psiupdt,ITEMS_defferredStatus,USERS_defferredStatus\n",
        "from b_AlgoFunctions import getV_listUpdate, SingleStep_UPDATE,ALLSTEPs_UPDATE\n",
        "\n",
        "from c_PredEval import TopNPred,TQDMgetALLTopNPred, Hitrate_Eval,getAll_HitRate\n",
        "from c_PredEval import TQDMgetALLTopNPred_ALLUSERS,getALLTopNPred_ALLUSERS\n",
        "from c_PredEval import get_ALLRandPred,getAll_RandomHitRate,getMOSTPOP_Pred,getAll_MostPOPHitRate,getAll_MOSTPOP_Pred\n",
        "from c_PredEval import topN_Index,get_ALLRandPred_2,getAll_RandomHitRate_2,getAll_MostPOPHitRate2\n",
        "\n",
        "from d_CorrScores import no_copy_csr_matrix,build_rank_weights_matrix,rank_weighted_jaccard_index\n",
        "from d_CorrScores import Updt_getAll_AvgCorr, updtCorr_4AllRanks"
      ],
      "execution_count": 4,
      "outputs": []
    },
    {
      "cell_type": "code",
      "metadata": {
        "id": "9DMiakUEX3DY"
      },
      "source": [
        ""
      ],
      "execution_count": null,
      "outputs": []
    },
    {
      "cell_type": "markdown",
      "metadata": {
        "id": "xpocYB8bMmtu"
      },
      "source": [
        "## Apply Functions on *MovieLens*"
      ]
    },
    {
      "cell_type": "markdown",
      "metadata": {
        "id": "jg2rUDx4QFkB"
      },
      "source": [
        "### Import Cleaned Data"
      ]
    },
    {
      "cell_type": "code",
      "metadata": {
        "colab": {
          "base_uri": "https://localhost:8080/",
          "height": 566
        },
        "id": "pSTnVLyjbnKd",
        "outputId": "94148b9b-3219-4cf1-a29a-64ae6daa2d3f"
      },
      "source": [
        "MLDF  = pd.read_csv('/content/usedMovieLen.csv')   #/\n",
        "MLDF['timestamp'] = pd.to_datetime(MLDF['timestamp']) \n",
        "print(MLDF.shape)       #productId_int\tuserId_int\n",
        "print(MLDF.dtypes)\n",
        "print()\n",
        "MLDF"
      ],
      "execution_count": 5,
      "outputs": [
        {
          "output_type": "stream",
          "text": [
            "(575281, 6)\n",
            "userId_int              int64\n",
            "movieId_int             int64\n",
            "rating                  int64\n",
            "timestamp      datetime64[ns]\n",
            "userId                  int64\n",
            "productId               int64\n",
            "dtype: object\n",
            "\n"
          ],
          "name": "stdout"
        },
        {
          "output_type": "execute_result",
          "data": {
            "text/html": [
              "<div>\n",
              "<style scoped>\n",
              "    .dataframe tbody tr th:only-of-type {\n",
              "        vertical-align: middle;\n",
              "    }\n",
              "\n",
              "    .dataframe tbody tr th {\n",
              "        vertical-align: top;\n",
              "    }\n",
              "\n",
              "    .dataframe thead th {\n",
              "        text-align: right;\n",
              "    }\n",
              "</style>\n",
              "<table border=\"1\" class=\"dataframe\">\n",
              "  <thead>\n",
              "    <tr style=\"text-align: right;\">\n",
              "      <th></th>\n",
              "      <th>userId_int</th>\n",
              "      <th>movieId_int</th>\n",
              "      <th>rating</th>\n",
              "      <th>timestamp</th>\n",
              "      <th>userId</th>\n",
              "      <th>productId</th>\n",
              "    </tr>\n",
              "  </thead>\n",
              "  <tbody>\n",
              "    <tr>\n",
              "      <th>0</th>\n",
              "      <td>6040</td>\n",
              "      <td>858</td>\n",
              "      <td>1</td>\n",
              "      <td>2000-04-25 23:05:32</td>\n",
              "      <td>0</td>\n",
              "      <td>0</td>\n",
              "    </tr>\n",
              "    <tr>\n",
              "      <th>1</th>\n",
              "      <td>6040</td>\n",
              "      <td>2384</td>\n",
              "      <td>1</td>\n",
              "      <td>2000-04-25 23:05:54</td>\n",
              "      <td>0</td>\n",
              "      <td>1</td>\n",
              "    </tr>\n",
              "    <tr>\n",
              "      <th>2</th>\n",
              "      <td>6040</td>\n",
              "      <td>593</td>\n",
              "      <td>1</td>\n",
              "      <td>2000-04-25 23:05:54</td>\n",
              "      <td>0</td>\n",
              "      <td>2</td>\n",
              "    </tr>\n",
              "    <tr>\n",
              "      <th>3</th>\n",
              "      <td>6040</td>\n",
              "      <td>1961</td>\n",
              "      <td>1</td>\n",
              "      <td>2000-04-25 23:06:17</td>\n",
              "      <td>0</td>\n",
              "      <td>3</td>\n",
              "    </tr>\n",
              "    <tr>\n",
              "      <th>4</th>\n",
              "      <td>6040</td>\n",
              "      <td>2019</td>\n",
              "      <td>1</td>\n",
              "      <td>2000-04-25 23:06:17</td>\n",
              "      <td>0</td>\n",
              "      <td>4</td>\n",
              "    </tr>\n",
              "    <tr>\n",
              "      <th>...</th>\n",
              "      <td>...</td>\n",
              "      <td>...</td>\n",
              "      <td>...</td>\n",
              "      <td>...</td>\n",
              "      <td>...</td>\n",
              "      <td>...</td>\n",
              "    </tr>\n",
              "    <tr>\n",
              "      <th>575276</th>\n",
              "      <td>4958</td>\n",
              "      <td>2453</td>\n",
              "      <td>1</td>\n",
              "      <td>2003-02-28 17:44:20</td>\n",
              "      <td>1081</td>\n",
              "      <td>1838</td>\n",
              "    </tr>\n",
              "    <tr>\n",
              "      <th>575277</th>\n",
              "      <td>4958</td>\n",
              "      <td>3489</td>\n",
              "      <td>1</td>\n",
              "      <td>2003-02-28 17:45:20</td>\n",
              "      <td>1081</td>\n",
              "      <td>632</td>\n",
              "    </tr>\n",
              "    <tr>\n",
              "      <th>575278</th>\n",
              "      <td>4958</td>\n",
              "      <td>1407</td>\n",
              "      <td>1</td>\n",
              "      <td>2003-02-28 17:47:23</td>\n",
              "      <td>1081</td>\n",
              "      <td>677</td>\n",
              "    </tr>\n",
              "    <tr>\n",
              "      <th>575279</th>\n",
              "      <td>4958</td>\n",
              "      <td>3264</td>\n",
              "      <td>1</td>\n",
              "      <td>2003-02-28 17:49:08</td>\n",
              "      <td>1081</td>\n",
              "      <td>1018</td>\n",
              "    </tr>\n",
              "    <tr>\n",
              "      <th>575280</th>\n",
              "      <td>4958</td>\n",
              "      <td>1924</td>\n",
              "      <td>1</td>\n",
              "      <td>2003-02-28 17:49:50</td>\n",
              "      <td>1081</td>\n",
              "      <td>656</td>\n",
              "    </tr>\n",
              "  </tbody>\n",
              "</table>\n",
              "<p>575281 rows × 6 columns</p>\n",
              "</div>"
            ],
            "text/plain": [
              "        userId_int  movieId_int  rating           timestamp  userId  productId\n",
              "0             6040          858       1 2000-04-25 23:05:32       0          0\n",
              "1             6040         2384       1 2000-04-25 23:05:54       0          1\n",
              "2             6040          593       1 2000-04-25 23:05:54       0          2\n",
              "3             6040         1961       1 2000-04-25 23:06:17       0          3\n",
              "4             6040         2019       1 2000-04-25 23:06:17       0          4\n",
              "...            ...          ...     ...                 ...     ...        ...\n",
              "575276        4958         2453       1 2003-02-28 17:44:20    1081       1838\n",
              "575277        4958         3489       1 2003-02-28 17:45:20    1081        632\n",
              "575278        4958         1407       1 2003-02-28 17:47:23    1081        677\n",
              "575279        4958         3264       1 2003-02-28 17:49:08    1081       1018\n",
              "575280        4958         1924       1 2003-02-28 17:49:50    1081        656\n",
              "\n",
              "[575281 rows x 6 columns]"
            ]
          },
          "metadata": {
            "tags": []
          },
          "execution_count": 5
        }
      ]
    },
    {
      "cell_type": "code",
      "metadata": {
        "colab": {
          "base_uri": "https://localhost:8080/",
          "height": 548
        },
        "id": "4vdRrsHEQFkm",
        "outputId": "116c2f9c-3b4f-4604-9bbb-d783a8f7e7a3"
      },
      "source": [
        "MovieLen_df = MLDF[['userId','productId','rating','timestamp']]\n",
        "print(MovieLen_df.shape)\n",
        "print(\"For users: \")\n",
        "print(MovieLen_df['userId'].nunique(),MovieLen_df['userId'].max())\n",
        "print(\"For items: \")\n",
        "print(MovieLen_df['productId'].nunique(),MovieLen_df['productId'].max())\n",
        "print(\"Timestamp\")\n",
        "print(MovieLen_df['timestamp'].min())\n",
        "print(MovieLen_df['timestamp'].max())\n",
        "MovieLen_df"
      ],
      "execution_count": 6,
      "outputs": [
        {
          "output_type": "stream",
          "text": [
            "(575281, 4)\n",
            "For users: \n",
            "6038 6037\n",
            "For items: \n",
            "3533 3532\n",
            "Timestamp\n",
            "2000-04-25 23:05:32\n",
            "2003-02-28 17:49:50\n"
          ],
          "name": "stdout"
        },
        {
          "output_type": "execute_result",
          "data": {
            "text/html": [
              "<div>\n",
              "<style scoped>\n",
              "    .dataframe tbody tr th:only-of-type {\n",
              "        vertical-align: middle;\n",
              "    }\n",
              "\n",
              "    .dataframe tbody tr th {\n",
              "        vertical-align: top;\n",
              "    }\n",
              "\n",
              "    .dataframe thead th {\n",
              "        text-align: right;\n",
              "    }\n",
              "</style>\n",
              "<table border=\"1\" class=\"dataframe\">\n",
              "  <thead>\n",
              "    <tr style=\"text-align: right;\">\n",
              "      <th></th>\n",
              "      <th>userId</th>\n",
              "      <th>productId</th>\n",
              "      <th>rating</th>\n",
              "      <th>timestamp</th>\n",
              "    </tr>\n",
              "  </thead>\n",
              "  <tbody>\n",
              "    <tr>\n",
              "      <th>0</th>\n",
              "      <td>0</td>\n",
              "      <td>0</td>\n",
              "      <td>1</td>\n",
              "      <td>2000-04-25 23:05:32</td>\n",
              "    </tr>\n",
              "    <tr>\n",
              "      <th>1</th>\n",
              "      <td>0</td>\n",
              "      <td>1</td>\n",
              "      <td>1</td>\n",
              "      <td>2000-04-25 23:05:54</td>\n",
              "    </tr>\n",
              "    <tr>\n",
              "      <th>2</th>\n",
              "      <td>0</td>\n",
              "      <td>2</td>\n",
              "      <td>1</td>\n",
              "      <td>2000-04-25 23:05:54</td>\n",
              "    </tr>\n",
              "    <tr>\n",
              "      <th>3</th>\n",
              "      <td>0</td>\n",
              "      <td>3</td>\n",
              "      <td>1</td>\n",
              "      <td>2000-04-25 23:06:17</td>\n",
              "    </tr>\n",
              "    <tr>\n",
              "      <th>4</th>\n",
              "      <td>0</td>\n",
              "      <td>4</td>\n",
              "      <td>1</td>\n",
              "      <td>2000-04-25 23:06:17</td>\n",
              "    </tr>\n",
              "    <tr>\n",
              "      <th>...</th>\n",
              "      <td>...</td>\n",
              "      <td>...</td>\n",
              "      <td>...</td>\n",
              "      <td>...</td>\n",
              "    </tr>\n",
              "    <tr>\n",
              "      <th>575276</th>\n",
              "      <td>1081</td>\n",
              "      <td>1838</td>\n",
              "      <td>1</td>\n",
              "      <td>2003-02-28 17:44:20</td>\n",
              "    </tr>\n",
              "    <tr>\n",
              "      <th>575277</th>\n",
              "      <td>1081</td>\n",
              "      <td>632</td>\n",
              "      <td>1</td>\n",
              "      <td>2003-02-28 17:45:20</td>\n",
              "    </tr>\n",
              "    <tr>\n",
              "      <th>575278</th>\n",
              "      <td>1081</td>\n",
              "      <td>677</td>\n",
              "      <td>1</td>\n",
              "      <td>2003-02-28 17:47:23</td>\n",
              "    </tr>\n",
              "    <tr>\n",
              "      <th>575279</th>\n",
              "      <td>1081</td>\n",
              "      <td>1018</td>\n",
              "      <td>1</td>\n",
              "      <td>2003-02-28 17:49:08</td>\n",
              "    </tr>\n",
              "    <tr>\n",
              "      <th>575280</th>\n",
              "      <td>1081</td>\n",
              "      <td>656</td>\n",
              "      <td>1</td>\n",
              "      <td>2003-02-28 17:49:50</td>\n",
              "    </tr>\n",
              "  </tbody>\n",
              "</table>\n",
              "<p>575281 rows × 4 columns</p>\n",
              "</div>"
            ],
            "text/plain": [
              "        userId  productId  rating           timestamp\n",
              "0            0          0       1 2000-04-25 23:05:32\n",
              "1            0          1       1 2000-04-25 23:05:54\n",
              "2            0          2       1 2000-04-25 23:05:54\n",
              "3            0          3       1 2000-04-25 23:06:17\n",
              "4            0          4       1 2000-04-25 23:06:17\n",
              "...        ...        ...     ...                 ...\n",
              "575276    1081       1838       1 2003-02-28 17:44:20\n",
              "575277    1081        632       1 2003-02-28 17:45:20\n",
              "575278    1081        677       1 2003-02-28 17:47:23\n",
              "575279    1081       1018       1 2003-02-28 17:49:08\n",
              "575280    1081        656       1 2003-02-28 17:49:50\n",
              "\n",
              "[575281 rows x 4 columns]"
            ]
          },
          "metadata": {
            "tags": []
          },
          "execution_count": 6
        }
      ]
    },
    {
      "cell_type": "markdown",
      "metadata": {
        "id": "pvKWYN8fTvMG"
      },
      "source": [
        "###Step 1: Data Splitting"
      ]
    },
    {
      "cell_type": "code",
      "metadata": {
        "colab": {
          "base_uri": "https://localhost:8080/"
        },
        "id": "uPKsoiMgTvMs",
        "outputId": "73bc03b7-3e4c-475a-9536-8b232a3a7c60"
      },
      "source": [
        "pivotMonths_list  = getPivotMonths(MovieLen_df,'timestamp',N_TMonths=18)  \n",
        "pivotMonths_list"
      ],
      "execution_count": 7,
      "outputs": [
        {
          "output_type": "execute_result",
          "data": {
            "text/plain": [
              "[Timestamp('2003-01-28 17:49:50'),\n",
              " Timestamp('2002-12-28 17:49:50'),\n",
              " Timestamp('2002-11-28 17:49:50'),\n",
              " Timestamp('2002-10-28 17:49:50'),\n",
              " Timestamp('2002-09-28 17:49:50'),\n",
              " Timestamp('2002-08-28 17:49:50'),\n",
              " Timestamp('2002-07-28 17:49:50'),\n",
              " Timestamp('2002-06-28 17:49:50'),\n",
              " Timestamp('2002-05-28 17:49:50'),\n",
              " Timestamp('2002-04-28 17:49:50'),\n",
              " Timestamp('2002-03-28 17:49:50'),\n",
              " Timestamp('2002-02-28 17:49:50'),\n",
              " Timestamp('2002-01-28 17:49:50'),\n",
              " Timestamp('2001-12-28 17:49:50'),\n",
              " Timestamp('2001-11-28 17:49:50'),\n",
              " Timestamp('2001-10-28 17:49:50'),\n",
              " Timestamp('2001-09-28 17:49:50'),\n",
              " Timestamp('2001-08-28 17:49:50')]"
            ]
          },
          "metadata": {
            "tags": []
          },
          "execution_count": 7
        }
      ]
    },
    {
      "cell_type": "code",
      "metadata": {
        "colab": {
          "base_uri": "https://localhost:8080/"
        },
        "id": "ruYdG0P1TvMw",
        "outputId": "28066fbf-2fe4-48de-f73c-a339493fcbf7"
      },
      "source": [
        "A0_df,ΔA_train,ΔA_test = Time_DataSplit(MovieLen_df,'timestamp',pivotMonths_list,N_TMonths= 18,n_train=10)\n",
        "print('Last date in A0_df :',A0_df['timestamp'].max())\n",
        "print('Num ΔA_train :', len(ΔA_train))"
      ],
      "execution_count": 8,
      "outputs": [
        {
          "output_type": "stream",
          "text": [
            "Last date in A0_df : 2001-08-28 17:32:06\n",
            "Num ΔA_train : 10\n"
          ],
          "name": "stdout"
        }
      ]
    },
    {
      "cell_type": "code",
      "metadata": {
        "colab": {
          "base_uri": "https://localhost:8080/"
        },
        "id": "3VlxVQQMTvMy",
        "outputId": "5f086977-2582-4e08-bca6-d151873d3b20"
      },
      "source": [
        "AllDF_list, PSITest_list, HOLDOUT_list, UserItemDF_list = TestTrain_DataSplit(MovieLen_df,'userId','timestamp',pivotMonths_list,ΔA_test)\n",
        "print('Num AllDF_list :', len(AllDF_list))"
      ],
      "execution_count": 9,
      "outputs": [
        {
          "output_type": "stream",
          "text": [
            "Num AllDF_list : 8\n"
          ],
          "name": "stdout"
        }
      ]
    },
    {
      "cell_type": "code",
      "metadata": {
        "id": "pm4NRJ9jTvMz"
      },
      "source": [
        "for df in ΔA_train:\n",
        "    print(df['userId'].nunique(),df['productId'].nunique())\n",
        "for df in ΔA_test:\n",
        "    print(df['userId'].nunique(),df['productId'].nunique())"
      ],
      "execution_count": null,
      "outputs": []
    },
    {
      "cell_type": "code",
      "metadata": {
        "id": "eWMwJPUFTvM0"
      },
      "source": [
        ""
      ],
      "execution_count": null,
      "outputs": []
    },
    {
      "cell_type": "markdown",
      "metadata": {
        "id": "dzWCij3ZipQX"
      },
      "source": [
        "### Step 2: Find new users and items"
      ]
    },
    {
      "cell_type": "code",
      "metadata": {
        "colab": {
          "base_uri": "https://localhost:8080/"
        },
        "id": "L-GolZfZipQZ",
        "outputId": "205e6509-3198-4b47-bc77-b15563ab1a8d"
      },
      "source": [
        "Tstps = MovieLen_df['timestamp']\n",
        "tr_ts = ΔA_train[-1]['timestamp'].max()\n",
        "print(\"ΔA_train_last max date: \",tr_ts)\n",
        "AllDF_start = MovieLen_df.loc[Tstps <= tr_ts] \n",
        "print(AllDF_start['timestamp'].min())\n",
        "print(AllDF_start['timestamp'].max())\n",
        "print()\n",
        "print(AllDF_list[0]['timestamp'].min())\n",
        "print(AllDF_list[0]['timestamp'].max())"
      ],
      "execution_count": 10,
      "outputs": [
        {
          "output_type": "stream",
          "text": [
            "ΔA_train_last max date:  2002-06-28 17:28:28\n",
            "2000-04-25 23:05:32\n",
            "2002-06-28 17:28:28\n",
            "\n",
            "2000-04-25 23:05:32\n",
            "2002-07-28 15:04:47\n"
          ],
          "name": "stdout"
        }
      ]
    },
    {
      "cell_type": "code",
      "metadata": {
        "colab": {
          "base_uri": "https://localhost:8080/"
        },
        "id": "GfgYKuugA3lO",
        "outputId": "76978ec3-ab8d-481e-883b-be0bccfe7bf9"
      },
      "source": [
        "New_usersList,New_itemsList = Find_NewUsersItems(AllDF_start,AllDF_list,'userId','productId',N_steps=8)\n",
        "New_usersList[0]   #"
      ],
      "execution_count": 11,
      "outputs": [
        {
          "output_type": "execute_result",
          "data": {
            "text/plain": [
              "array([], dtype=int64)"
            ]
          },
          "metadata": {
            "tags": []
          },
          "execution_count": 11
        }
      ]
    },
    {
      "cell_type": "code",
      "metadata": {
        "colab": {
          "base_uri": "https://localhost:8080/"
        },
        "id": "0icoPBf-ipQb",
        "outputId": "ca8530f5-3055-4756-fbea-10a64833e2d3"
      },
      "source": [
        "New_itemsList[0]   "
      ],
      "execution_count": 12,
      "outputs": [
        {
          "output_type": "execute_result",
          "data": {
            "text/plain": [
              "array([3530])"
            ]
          },
          "metadata": {
            "tags": []
          },
          "execution_count": 12
        }
      ]
    },
    {
      "cell_type": "code",
      "metadata": {
        "colab": {
          "base_uri": "https://localhost:8080/"
        },
        "id": "KXIsxxPnjhx2",
        "outputId": "bbdfc730-5b99-4fa6-e55d-21883d30e312"
      },
      "source": [
        "for i,j in zip(New_usersList,New_itemsList):\n",
        "    print(i.size)\n",
        "    print(j.size)\n",
        "    print()"
      ],
      "execution_count": 13,
      "outputs": [
        {
          "output_type": "stream",
          "text": [
            "0\n",
            "1\n",
            "\n",
            "0\n",
            "0\n",
            "\n",
            "1\n",
            "1\n",
            "\n",
            "0\n",
            "0\n",
            "\n",
            "1\n",
            "1\n",
            "\n",
            "0\n",
            "0\n",
            "\n",
            "0\n",
            "0\n",
            "\n",
            "0\n",
            "0\n",
            "\n"
          ],
          "name": "stdout"
        }
      ]
    },
    {
      "cell_type": "code",
      "metadata": {
        "id": "1ykECNc7G4GL"
      },
      "source": [
        ""
      ],
      "execution_count": null,
      "outputs": []
    },
    {
      "cell_type": "markdown",
      "metadata": {
        "id": "n_XyE7otUxey"
      },
      "source": [
        "###Get Updt RatMat"
      ]
    },
    {
      "cell_type": "code",
      "metadata": {
        "colab": {
          "base_uri": "https://localhost:8080/"
        },
        "id": "Xdhii7cmgw2h",
        "outputId": "b0146974-1dd6-497a-f814-c76b3e22fba4"
      },
      "source": [
        "print(AllDF_start['userId'].nunique(),AllDF_start['productId'].nunique())   #"
      ],
      "execution_count": 14,
      "outputs": [
        {
          "output_type": "stream",
          "text": [
            "6036 3530\n"
          ],
          "name": "stdout"
        }
      ]
    },
    {
      "cell_type": "code",
      "metadata": {
        "colab": {
          "base_uri": "https://localhost:8080/"
        },
        "id": "-S_Ti3jIVmL7",
        "outputId": "97773e31-e2fa-4102-b667-ad6578141acf"
      },
      "source": [
        "rows_i = AllDF_start['userId'].nunique()\n",
        "cols_i = AllDF_start['productId'].nunique()\n",
        "print(A0_df.shape)\n",
        "A0_RatMat_updt = SingleRatingMatrix(A0_df,'userId', 'productId',rows_i,cols_i)\n",
        "A0_RatMat_updt"
      ],
      "execution_count": 15,
      "outputs": [
        {
          "output_type": "stream",
          "text": [
            "(554234, 4)\n"
          ],
          "name": "stdout"
        },
        {
          "output_type": "execute_result",
          "data": {
            "text/plain": [
              "<6036x3530 sparse matrix of type '<class 'numpy.float64'>'\n",
              "\twith 554234 stored elements in Compressed Sparse Row format>"
            ]
          },
          "metadata": {
            "tags": []
          },
          "execution_count": 15
        }
      ]
    },
    {
      "cell_type": "code",
      "metadata": {
        "colab": {
          "base_uri": "https://localhost:8080/"
        },
        "id": "9bSWovTNVmMX",
        "outputId": "514fb753-adb8-487e-f5b1-a779372a7878"
      },
      "source": [
        "PSI_TrainMat_updt = AllRatingMatrices(ΔA_train,'userId','productId',rows_i ,cols_i)\n",
        "PSI_TrainMat_updt"
      ],
      "execution_count": 16,
      "outputs": [
        {
          "output_type": "execute_result",
          "data": {
            "text/plain": [
              "[<6036x3530 sparse matrix of type '<class 'numpy.float64'>'\n",
              " \twith 1706 stored elements in Compressed Sparse Row format>,\n",
              " <6036x3530 sparse matrix of type '<class 'numpy.float64'>'\n",
              " \twith 1189 stored elements in Compressed Sparse Row format>,\n",
              " <6036x3530 sparse matrix of type '<class 'numpy.float64'>'\n",
              " \twith 1601 stored elements in Compressed Sparse Row format>,\n",
              " <6036x3530 sparse matrix of type '<class 'numpy.float64'>'\n",
              " \twith 1521 stored elements in Compressed Sparse Row format>,\n",
              " <6036x3530 sparse matrix of type '<class 'numpy.float64'>'\n",
              " \twith 2262 stored elements in Compressed Sparse Row format>,\n",
              " <6036x3530 sparse matrix of type '<class 'numpy.float64'>'\n",
              " \twith 1357 stored elements in Compressed Sparse Row format>,\n",
              " <6036x3530 sparse matrix of type '<class 'numpy.float64'>'\n",
              " \twith 1025 stored elements in Compressed Sparse Row format>,\n",
              " <6036x3530 sparse matrix of type '<class 'numpy.float64'>'\n",
              " \twith 1509 stored elements in Compressed Sparse Row format>,\n",
              " <6036x3530 sparse matrix of type '<class 'numpy.float64'>'\n",
              " \twith 1072 stored elements in Compressed Sparse Row format>,\n",
              " <6036x3530 sparse matrix of type '<class 'numpy.float64'>'\n",
              " \twith 1027 stored elements in Compressed Sparse Row format>]"
            ]
          },
          "metadata": {
            "tags": []
          },
          "execution_count": 16
        }
      ]
    },
    {
      "cell_type": "code",
      "metadata": {
        "id": "X9B1wEG8YUQa",
        "colab": {
          "base_uri": "https://localhost:8080/"
        },
        "outputId": "340a0c1e-b619-40e4-a8bf-b4936989f422"
      },
      "source": [
        "print(AllDF_start['userId'].nunique(),AllDF_start['productId'].nunique()) #"
      ],
      "execution_count": 17,
      "outputs": [
        {
          "output_type": "stream",
          "text": [
            "6036 3530\n"
          ],
          "name": "stdout"
        }
      ]
    },
    {
      "cell_type": "code",
      "metadata": {
        "id": "e9NJhE62HOOO"
      },
      "source": [
        ""
      ],
      "execution_count": null,
      "outputs": []
    },
    {
      "cell_type": "markdown",
      "metadata": {
        "id": "A0k3BxpQCEDK"
      },
      "source": [
        "### Allsteps Update"
      ]
    },
    {
      "cell_type": "code",
      "metadata": {
        "id": "RrhIaattvMvN"
      },
      "source": [
        "# rows_i = AllDF_start['userId'].nunique()\n",
        "# cols_i = AllDF_start['productId'].nunique()\n",
        "# print(AllDF_start.shape)\n",
        "# AllDF_startRatMat = SingleRatingMatrix(AllDF_start,'userId', 'productId',rows_i,cols_i)\n",
        "\n",
        "# U_start,S_start,V_start = svds(AllDF_startRatMat,k=50)\n",
        "# V_start = V_start.T\n",
        "# print()\n",
        "# print(\"U_start shape: \",U_start.shape)\n",
        "# print(\"S_start shape: \",S_start.shape)\n",
        "# print(\"V_start shape: \",V_start.shape)"
      ],
      "execution_count": null,
      "outputs": []
    },
    {
      "cell_type": "code",
      "metadata": {
        "colab": {
          "base_uri": "https://localhost:8080/"
        },
        "id": "gZKKzIA4UPAt",
        "outputId": "20f3d030-c7cf-4e20-ada6-5f42cce38710"
      },
      "source": [
        "U_start,S_start,V_start = last_psiTrainMat(A0_RatMat_updt,PSI_TrainMat_updt,k=50)\n",
        "print()\n",
        "print(\"U_start shape: \",U_start.shape)\n",
        "print(\"S_start shape: \",S_start.shape)\n",
        "print(\"V_start shape: \",V_start.shape)"
      ],
      "execution_count": 25,
      "outputs": [
        {
          "output_type": "stream",
          "text": [
            "100%|██████████| 10/10 [00:00<00:00, 24.01it/s]\n"
          ],
          "name": "stderr"
        },
        {
          "output_type": "stream",
          "text": [
            "\n",
            "U_start shape:  (6036, 50)\n",
            "S_start shape:  (50, 50)\n",
            "V_start shape:  (3530, 50)\n"
          ],
          "name": "stdout"
        }
      ]
    },
    {
      "cell_type": "code",
      "metadata": {
        "colab": {
          "base_uri": "https://localhost:8080/"
        },
        "id": "1c2frghJa9qQ",
        "outputId": "4e1e9285-1aa5-4f7f-d33c-e05d1c21f2c6"
      },
      "source": [
        "U_list,S_list,V_list = [],[],[]\n",
        "U_list.append(U_start)\n",
        "S_list.append(S_start)\n",
        "V_list.append(V_start)\n",
        "print(len(U_list),len(V_list))"
      ],
      "execution_count": 26,
      "outputs": [
        {
          "output_type": "stream",
          "text": [
            "1 1\n"
          ],
          "name": "stdout"
        }
      ]
    },
    {
      "cell_type": "code",
      "metadata": {
        "colab": {
          "base_uri": "https://localhost:8080/"
        },
        "id": "zrWnw-d_NaEe",
        "outputId": "257f647b-dbd4-49a1-e9b0-0012f39d9010"
      },
      "source": [
        "DItems_, DUsers_,In_DomainUSERS,In_DomainITEMS,userID_dict,itemID_dict,AllUpdtUSERS_,AllUpdtITEMS_,U_list,S_list,V_list = ALLSTEPs_UPDATE(AllDF_start,\n",
        "                                            UserItemDF_list,New_itemsList,New_usersList,U_list,S_list,V_list,'userId','productId',Nsteps=8,k=50,Forced_Orth=False)"
      ],
      "execution_count": 27,
      "outputs": [
        {
          "output_type": "stream",
          "text": [
            "100%|██████████| 7/7 [00:00<00:00, 57.46it/s]\n"
          ],
          "name": "stderr"
        }
      ]
    },
    {
      "cell_type": "code",
      "metadata": {
        "id": "rdX0nPyQz1LO"
      },
      "source": [
        ""
      ],
      "execution_count": null,
      "outputs": []
    },
    {
      "cell_type": "markdown",
      "metadata": {
        "id": "H9o1U4E-zttV"
      },
      "source": [
        "#### Output Check"
      ]
    },
    {
      "cell_type": "code",
      "metadata": {
        "colab": {
          "base_uri": "https://localhost:8080/"
        },
        "id": "dkB8VuZaiYrZ",
        "outputId": "19fae76c-ffac-4a38-cc89-131ebce1677d"
      },
      "source": [
        "AllDF_start['productId'].max() "
      ],
      "execution_count": 30,
      "outputs": [
        {
          "output_type": "execute_result",
          "data": {
            "text/plain": [
              "3529"
            ]
          },
          "metadata": {
            "tags": []
          },
          "execution_count": 30
        }
      ]
    },
    {
      "cell_type": "code",
      "metadata": {
        "colab": {
          "base_uri": "https://localhost:8080/"
        },
        "id": "0J4Qrzf9OvVN",
        "outputId": "9f303cec-4c4a-4404-b72d-fff3f30219b8"
      },
      "source": [
        "print(len(In_DomainITEMS[3530:]))\n",
        "print(In_DomainITEMS[3530:])\n",
        "print()\n",
        "print(len(In_DomainUSERS[6036:]))\n",
        "print(In_DomainUSERS[6036:])"
      ],
      "execution_count": 33,
      "outputs": [
        {
          "output_type": "stream",
          "text": [
            "3\n",
            "[3530, 3531, 3532]\n",
            "\n",
            "2\n",
            "[6036, 6037]\n"
          ],
          "name": "stdout"
        }
      ]
    },
    {
      "cell_type": "code",
      "metadata": {
        "colab": {
          "base_uri": "https://localhost:8080/"
        },
        "id": "5vpSt3xLOvVU",
        "outputId": "e4389cc4-0b4e-4cb7-b8fe-8cc8652e2935"
      },
      "source": [
        "#deferred items and users\n",
        "print(len(DItems_))\n",
        "print(DItems_)\n",
        "print()\n",
        "print(len(DUsers_))\n",
        "print(DUsers_)      "
      ],
      "execution_count": 34,
      "outputs": [
        {
          "output_type": "stream",
          "text": [
            "0\n",
            "[]\n",
            "\n",
            "0\n",
            "[]\n"
          ],
          "name": "stdout"
        }
      ]
    },
    {
      "cell_type": "code",
      "metadata": {
        "colab": {
          "base_uri": "https://localhost:8080/"
        },
        "id": "fYRgZGwlOvVW",
        "outputId": "3088b457-c9aa-4e1a-98a9-1174c3826bb6"
      },
      "source": [
        "for x in list(itemID_dict)[3530:]:\n",
        "    print (\"Id: {}, UpdtId: {} \".format(x,  itemID_dict[x]))   ##id ==key || updtedid == values  ,itemID_dict"
      ],
      "execution_count": 35,
      "outputs": [
        {
          "output_type": "stream",
          "text": [
            "Id: 3530, UpdtId: 3530 \n",
            "Id: 3531, UpdtId: 3531 \n",
            "Id: 3532, UpdtId: 3532 \n"
          ],
          "name": "stdout"
        }
      ]
    },
    {
      "cell_type": "code",
      "metadata": {
        "id": "XP6aaq1qOvVY",
        "colab": {
          "base_uri": "https://localhost:8080/"
        },
        "outputId": "e2f54db3-4dd3-4f81-dc2c-c5aa333d5ab6"
      },
      "source": [
        "for x in list(userID_dict)[6036:]:\n",
        "    print (\"Id: {}, UpdtId: {} \".format(x,  userID_dict[x]))   ##id ==key || updtedid == values "
      ],
      "execution_count": 36,
      "outputs": [
        {
          "output_type": "stream",
          "text": [
            "Id: 6036, UpdtId: 6036 \n",
            "Id: 6037, UpdtId: 6037 \n"
          ],
          "name": "stdout"
        }
      ]
    },
    {
      "cell_type": "code",
      "metadata": {
        "colab": {
          "base_uri": "https://localhost:8080/"
        },
        "id": "9hrMshBYOvVa",
        "outputId": "14edc730-da25-4b6e-814c-48e5b543a495"
      },
      "source": [
        "print(len(U_list),len(V_list))\n",
        "print(U_list[0].shape,V_list[0].shape)\n",
        "print()\n",
        "for u,v in zip(U_list[1:],V_list[1:]):\n",
        "    print(u.shape,v.shape)   "
      ],
      "execution_count": 37,
      "outputs": [
        {
          "output_type": "stream",
          "text": [
            "9 9\n",
            "(6036, 50) (3530, 50)\n",
            "\n",
            "(6036, 50) (3531, 50)\n",
            "(6036, 50) (3531, 50)\n",
            "(6037, 50) (3532, 50)\n",
            "(6037, 50) (3532, 50)\n",
            "(6038, 50) (3532, 50)\n",
            "(6038, 50) (3533, 50)\n",
            "(6038, 50) (3533, 50)\n",
            "(6038, 50) (3533, 50)\n"
          ],
          "name": "stdout"
        }
      ]
    },
    {
      "cell_type": "code",
      "metadata": {
        "colab": {
          "base_uri": "https://localhost:8080/"
        },
        "id": "xOQC6r84_ju1",
        "outputId": "f8ba18e8-9365-4a62-ca02-706253215f62"
      },
      "source": [
        "for i,j in zip(AllUpdtUSERS_,AllUpdtITEMS_):\n",
        "    print(len(i),len(j))"
      ],
      "execution_count": 38,
      "outputs": [
        {
          "output_type": "stream",
          "text": [
            "6036 3531\n",
            "6036 3531\n",
            "6037 3532\n",
            "6037 3532\n",
            "6038 3532\n",
            "6038 3533\n",
            "6038 3533\n",
            "6038 3533\n"
          ],
          "name": "stdout"
        }
      ]
    },
    {
      "cell_type": "code",
      "metadata": {
        "colab": {
          "base_uri": "https://localhost:8080/"
        },
        "id": "AMjo4AbxOvVc",
        "outputId": "ba509b2b-775d-45ae-f4f2-6fbd9192bd30"
      },
      "source": [
        "print(len(In_DomainUSERS),len(In_DomainITEMS))"
      ],
      "execution_count": 39,
      "outputs": [
        {
          "output_type": "stream",
          "text": [
            "6038 3533\n"
          ],
          "name": "stdout"
        }
      ]
    },
    {
      "cell_type": "code",
      "metadata": {
        "id": "VKsZcD9kMzd4"
      },
      "source": [
        ""
      ],
      "execution_count": null,
      "outputs": []
    },
    {
      "cell_type": "markdown",
      "metadata": {
        "id": "nNpsng5z8doR"
      },
      "source": [
        "Data Adjustments"
      ]
    },
    {
      "cell_type": "markdown",
      "metadata": {
        "id": "U8YcpbXKpAMG"
      },
      "source": [
        "#### Data Adjustment"
      ]
    },
    {
      "cell_type": "code",
      "metadata": {
        "colab": {
          "base_uri": "https://localhost:8080/"
        },
        "id": "uBF411YtOzhA",
        "outputId": "7c19ea1e-f88b-4f81-e787-d7dd354524a1"
      },
      "source": [
        "newHOLDOUT_LIST = get_NEWHoldout(HOLDOUT_list,userID_dict,itemID_dict,AllUpdtUSERS_,AllUpdtITEMS_,'userId','productId',n=8)\n",
        "print(len(newHOLDOUT_LIST))\n",
        "print()\n",
        "for old,new in zip(HOLDOUT_list,newHOLDOUT_LIST):\n",
        "    print(old.shape[0],new.shape[0])"
      ],
      "execution_count": 40,
      "outputs": [
        {
          "output_type": "stream",
          "text": [
            "100%|██████████| 8/8 [00:00<00:00, 219.62it/s]"
          ],
          "name": "stderr"
        },
        {
          "output_type": "stream",
          "text": [
            "8\n",
            "\n",
            "126 126\n",
            "114 114\n",
            "98 98\n",
            "96 96\n",
            "98 97\n",
            "105 105\n",
            "114 114\n",
            "88 88\n"
          ],
          "name": "stdout"
        },
        {
          "output_type": "stream",
          "text": [
            "\n"
          ],
          "name": "stderr"
        }
      ]
    },
    {
      "cell_type": "code",
      "metadata": {
        "colab": {
          "base_uri": "https://localhost:8080/"
        },
        "id": "HbyiliDLf9ul",
        "outputId": "70aca2f3-21a7-48dd-f823-d52282c62429"
      },
      "source": [
        "newUserItem_list = adjustedAllDF(UserItemDF_list,userID_dict,itemID_dict,AllUpdtUSERS_,AllUpdtITEMS_,'userId','productId',n=8)\n",
        "print()\n",
        "for df in newUserItem_list:\n",
        "    print(df['Updated_UserID'].nunique(),df['Updated_ItemID'].nunique())"
      ],
      "execution_count": 41,
      "outputs": [
        {
          "output_type": "stream",
          "text": [
            "\n",
            "6036 3531\n",
            "6036 3531\n",
            "6037 3532\n",
            "6037 3532\n",
            "6038 3532\n",
            "6038 3533\n",
            "6038 3533\n",
            "6038 3533\n"
          ],
          "name": "stdout"
        }
      ]
    },
    {
      "cell_type": "code",
      "metadata": {
        "colab": {
          "base_uri": "https://localhost:8080/"
        },
        "id": "1vJrhuEAQXDn",
        "outputId": "946fb488-646d-4072-add3-5665d4e41d8b"
      },
      "source": [
        "new_PSIDFlist = adjustedPSI_DF(PSITest_list,userID_dict,itemID_dict,AllUpdtUSERS_,AllUpdtITEMS_,'userId','productId',n=8)\n",
        "for old,new in zip(PSITest_list,new_PSIDFlist):\n",
        "    print(old.shape[0],new.shape[0])"
      ],
      "execution_count": 42,
      "outputs": [
        {
          "output_type": "stream",
          "text": [
            "828 828\n",
            "866 866\n",
            "550 550\n",
            "472 472\n",
            "957 957\n",
            "524 524\n",
            "839 839\n",
            "903 903\n"
          ],
          "name": "stdout"
        }
      ]
    },
    {
      "cell_type": "code",
      "metadata": {
        "id": "bfFHg8h0QiVE"
      },
      "source": [
        ""
      ],
      "execution_count": null,
      "outputs": []
    },
    {
      "cell_type": "markdown",
      "metadata": {
        "id": "J_bFpV2cKCuA"
      },
      "source": [
        "#### Get UserItem MAT"
      ]
    },
    {
      "cell_type": "code",
      "metadata": {
        "colab": {
          "base_uri": "https://localhost:8080/"
        },
        "id": "N1FI-D8uKCuG",
        "outputId": "762ac3da-f4cd-4477-ec1e-a5e34a1d8a14"
      },
      "source": [
        "UserItem_MatUpdt = All_SingleStepRatMat(newUserItem_list,'Updated_UserID','Updated_ItemID')\n",
        "print(len(UserItem_MatUpdt))\n",
        "UserItem_MatUpdt"
      ],
      "execution_count": 43,
      "outputs": [
        {
          "output_type": "stream",
          "text": [
            "8\n"
          ],
          "name": "stdout"
        },
        {
          "output_type": "execute_result",
          "data": {
            "text/plain": [
              "[<6036x3531 sparse matrix of type '<class 'numpy.float64'>'\n",
              " \twith 569331 stored elements in Compressed Sparse Row format>,\n",
              " <6036x3531 sparse matrix of type '<class 'numpy.float64'>'\n",
              " \twith 570323 stored elements in Compressed Sparse Row format>,\n",
              " <6037x3532 sparse matrix of type '<class 'numpy.float64'>'\n",
              " \twith 570987 stored elements in Compressed Sparse Row format>,\n",
              " <6037x3532 sparse matrix of type '<class 'numpy.float64'>'\n",
              " \twith 571557 stored elements in Compressed Sparse Row format>,\n",
              " <6038x3532 sparse matrix of type '<class 'numpy.float64'>'\n",
              " \twith 572610 stored elements in Compressed Sparse Row format>,\n",
              " <6038x3533 sparse matrix of type '<class 'numpy.float64'>'\n",
              " \twith 573232 stored elements in Compressed Sparse Row format>,\n",
              " <6038x3533 sparse matrix of type '<class 'numpy.float64'>'\n",
              " \twith 574176 stored elements in Compressed Sparse Row format>,\n",
              " <6038x3533 sparse matrix of type '<class 'numpy.float64'>'\n",
              " \twith 575193 stored elements in Compressed Sparse Row format>]"
            ]
          },
          "metadata": {
            "tags": []
          },
          "execution_count": 43
        }
      ]
    },
    {
      "cell_type": "code",
      "metadata": {
        "colab": {
          "base_uri": "https://localhost:8080/"
        },
        "id": "bA6bmr-CKCuD",
        "outputId": "2363beb0-7280-4f5e-90d0-26f306cc9a3a"
      },
      "source": [
        "print(len(U_list),len(V_list))\n",
        "for u,v in zip(U_list,V_list):\n",
        "    print(u.shape[0],v.shape[0])   "
      ],
      "execution_count": 44,
      "outputs": [
        {
          "output_type": "stream",
          "text": [
            "9 9\n",
            "6036 3530\n",
            "6036 3531\n",
            "6036 3531\n",
            "6037 3532\n",
            "6037 3532\n",
            "6038 3532\n",
            "6038 3533\n",
            "6038 3533\n",
            "6038 3533\n"
          ],
          "name": "stdout"
        }
      ]
    },
    {
      "cell_type": "code",
      "metadata": {
        "colab": {
          "base_uri": "https://localhost:8080/"
        },
        "id": "kRkFwCd8KCuE",
        "outputId": "ef89a89d-ac6d-4554-bb25-5e481710d79a"
      },
      "source": [
        "print(AllDF_start['userId'].nunique(),AllDF_start['productId'].nunique())\n",
        "print()\n",
        "for i,j in zip(AllUpdtUSERS_,AllUpdtITEMS_):\n",
        "    print(len(i),len(j))"
      ],
      "execution_count": 45,
      "outputs": [
        {
          "output_type": "stream",
          "text": [
            "6036 3530\n",
            "\n",
            "6036 3531\n",
            "6036 3531\n",
            "6037 3532\n",
            "6037 3532\n",
            "6038 3532\n",
            "6038 3533\n",
            "6038 3533\n",
            "6038 3533\n"
          ],
          "name": "stdout"
        }
      ]
    },
    {
      "cell_type": "markdown",
      "metadata": {
        "id": "-FWZcWCDzJ-i"
      },
      "source": [
        "#### Prediction"
      ]
    },
    {
      "cell_type": "code",
      "metadata": {
        "colab": {
          "base_uri": "https://localhost:8080/"
        },
        "id": "NrcfgZCCzPPu",
        "outputId": "5b374d5c-93f6-4ee1-843e-93be4178d68a"
      },
      "source": [
        "print(len(UserItem_MatUpdt),len(newHOLDOUT_LIST))"
      ],
      "execution_count": 46,
      "outputs": [
        {
          "output_type": "stream",
          "text": [
            "8 8\n"
          ],
          "name": "stdout"
        }
      ]
    },
    {
      "cell_type": "code",
      "metadata": {
        "colab": {
          "base_uri": "https://localhost:8080/"
        },
        "id": "RguT3Utr0iLy",
        "outputId": "0146f18d-9043-4025-90d3-e5cc456991fa"
      },
      "source": [
        "Vpsi_listUpdt = V_list[1:]\n",
        "for v in Vpsi_listUpdt:\n",
        "    print(v.shape)"
      ],
      "execution_count": 47,
      "outputs": [
        {
          "output_type": "stream",
          "text": [
            "(3531, 50)\n",
            "(3531, 50)\n",
            "(3532, 50)\n",
            "(3532, 50)\n",
            "(3532, 50)\n",
            "(3533, 50)\n",
            "(3533, 50)\n",
            "(3533, 50)\n"
          ],
          "name": "stdout"
        }
      ]
    },
    {
      "cell_type": "code",
      "metadata": {
        "colab": {
          "base_uri": "https://localhost:8080/"
        },
        "id": "py9S9LGoKamJ",
        "outputId": "c937ebad-1124-47cd-ccf7-1b5f4dd5b754"
      },
      "source": [
        "V_1 = Vpsi_listUpdt[0]\n",
        "V_1.shape"
      ],
      "execution_count": 48,
      "outputs": [
        {
          "output_type": "execute_result",
          "data": {
            "text/plain": [
              "(3531, 50)"
            ]
          },
          "metadata": {
            "tags": []
          },
          "execution_count": 48
        }
      ]
    },
    {
      "cell_type": "code",
      "metadata": {
        "colab": {
          "base_uri": "https://localhost:8080/"
        },
        "id": "LtlchmQtHN5c",
        "outputId": "9e2929a3-e173-412a-ba43-8e85c8de2cc1"
      },
      "source": [
        "Top_NPred = TopNPred(UserItem_MatUpdt[0],newHOLDOUT_LIST[0],V_1,'Updated_UserID',10)\n",
        "Top_NPred"
      ],
      "execution_count": 49,
      "outputs": [
        {
          "output_type": "execute_result",
          "data": {
            "text/plain": [
              "array([[ 639,  206,  342, ..., 1335,   59,  950],\n",
              "       [  22,  556,   41, ...,   40,  131,   73],\n",
              "       [ 328,  955,  581, ...,  908,  135,  651],\n",
              "       ...,\n",
              "       [ 955,  127,  271, ..., 1117,  549,  649],\n",
              "       [ 574,  563,   73, ...,  576,  112,  630],\n",
              "       [ 223,  970,  334, ...,  608,  521,  905]])"
            ]
          },
          "metadata": {
            "tags": []
          },
          "execution_count": 49
        }
      ]
    },
    {
      "cell_type": "code",
      "metadata": {
        "colab": {
          "base_uri": "https://localhost:8080/"
        },
        "id": "Ql0pwhxeHN5g",
        "outputId": "0e9773bd-d49b-435a-c8d5-4c56d9c6cbb0"
      },
      "source": [
        "Hitrate_Eval(newHOLDOUT_LIST[0],Top_NPred,'Updated_UserID','Updated_ItemID')"
      ],
      "execution_count": 50,
      "outputs": [
        {
          "output_type": "stream",
          "text": [
            "Number of hits:  8\n",
            "Total Num of users:  126\n",
            "Recommendation HitRate:  0.06349206349206349\n"
          ],
          "name": "stdout"
        },
        {
          "output_type": "execute_result",
          "data": {
            "text/plain": [
              "0.06349206349206349"
            ]
          },
          "metadata": {
            "tags": []
          },
          "execution_count": 50
        }
      ]
    },
    {
      "cell_type": "code",
      "metadata": {
        "id": "-ALFq_slAffr"
      },
      "source": [
        ""
      ],
      "execution_count": null,
      "outputs": []
    },
    {
      "cell_type": "code",
      "metadata": {
        "colab": {
          "base_uri": "https://localhost:8080/"
        },
        "id": "8J8LC6tDAiir",
        "outputId": "999e153f-a8b4-4cc6-98cd-a1cd036ee2e0"
      },
      "source": [
        "AllUpdt_pred =  TQDMgetALLTopNPred(UserItem_MatUpdt,newHOLDOUT_LIST,Vpsi_listUpdt,'Updated_UserID',N = 10)\n",
        "print(len(AllUpdt_pred))\n",
        "AllUpdt_pred[:2]"
      ],
      "execution_count": 51,
      "outputs": [
        {
          "output_type": "stream",
          "text": [
            "8it [00:00, 52.78it/s]"
          ],
          "name": "stderr"
        },
        {
          "output_type": "stream",
          "text": [
            "8\n"
          ],
          "name": "stdout"
        },
        {
          "output_type": "stream",
          "text": [
            "\n"
          ],
          "name": "stderr"
        },
        {
          "output_type": "execute_result",
          "data": {
            "text/plain": [
              "[array([[ 639,  206,  342, ..., 1335,   59,  950],\n",
              "        [  22,  556,   41, ...,   40,  131,   73],\n",
              "        [ 328,  955,  581, ...,  908,  135,  651],\n",
              "        ...,\n",
              "        [ 955,  127,  271, ..., 1117,  549,  649],\n",
              "        [ 574,  563,   73, ...,  576,  112,  630],\n",
              "        [ 223,  970,  334, ...,  608,  521,  905]]),\n",
              " array([[ 100,   71,   13, ...,  570,  635,  845],\n",
              "        [ 485,   10,   79, ...,  328,  480,  360],\n",
              "        [ 463, 1159,  465, ..., 1688,  204,   89],\n",
              "        ...,\n",
              "        [2933,  127,  539, ...,  514,  585, 1226],\n",
              "        [   2,  719,  254, ...,  133,   18,  153],\n",
              "        [ 970,  334,  312, ...,   57,  608,  709]])]"
            ]
          },
          "metadata": {
            "tags": []
          },
          "execution_count": 51
        }
      ]
    },
    {
      "cell_type": "code",
      "metadata": {
        "colab": {
          "base_uri": "https://localhost:8080/"
        },
        "id": "Osi894h4Aiiv",
        "outputId": "183436e8-33ed-42eb-a57a-cfe0c5e24412"
      },
      "source": [
        "AllSteps_HitR_updt, LowerBand_updt, Avg_HitR_updt, UpperBand_updt   = getAll_HitRate(newHOLDOUT_LIST,AllUpdt_pred,'Updated_UserID','Updated_ItemID')"
      ],
      "execution_count": 52,
      "outputs": [
        {
          "output_type": "stream",
          "text": [
            "Number of hits:  8\n",
            "Total Num of users:  126\n",
            "Recommendation HitRate:  0.06349206349206349\n",
            "Number of hits:  6\n",
            "Total Num of users:  114\n",
            "Recommendation HitRate:  0.05263157894736842\n",
            "Number of hits:  5\n",
            "Total Num of users:  98\n",
            "Recommendation HitRate:  0.05102040816326531\n",
            "Number of hits:  4\n",
            "Total Num of users:  96\n",
            "Recommendation HitRate:  0.041666666666666664\n",
            "Number of hits:  6\n",
            "Total Num of users:  97\n",
            "Recommendation HitRate:  0.061855670103092786\n",
            "Number of hits:  10\n",
            "Total Num of users:  105\n",
            "Recommendation HitRate:  0.09523809523809523\n",
            "Number of hits:  4\n",
            "Total Num of users:  114\n",
            "Recommendation HitRate:  0.03508771929824561\n",
            "Number of hits:  5\n",
            "Total Num of users:  88\n",
            "Recommendation HitRate:  0.056818181818181816\n",
            "Average HitRate for All Recommendations:  0.05722629796587242\n"
          ],
          "name": "stdout"
        }
      ]
    },
    {
      "cell_type": "code",
      "metadata": {
        "id": "H3kfcIzLq3aq"
      },
      "source": [
        ""
      ],
      "execution_count": null,
      "outputs": []
    },
    {
      "cell_type": "markdown",
      "metadata": {
        "id": "dlm-q9ms_BWw"
      },
      "source": [
        "### Regular PSI "
      ]
    },
    {
      "cell_type": "markdown",
      "metadata": {
        "id": "uWbLS4cbPI19"
      },
      "source": [
        "#### Get Rating Matrices"
      ]
    },
    {
      "cell_type": "code",
      "metadata": {
        "colab": {
          "base_uri": "https://localhost:8080/",
          "height": 304
        },
        "id": "L90Ba27xDyQQ",
        "outputId": "fd9b0f44-bb17-4c35-82b3-337560a5bb63"
      },
      "source": [
        "new_MLDF = ADJUST_mainDF(MovieLen_df,userID_dict,itemID_dict,AllUpdtUSERS_,AllUpdtITEMS_,'userId','productId')\n",
        "print(new_MLDF.shape)\n",
        "print(new_MLDF['userId'].max(),new_MLDF['productId'].max())\n",
        "print(new_MLDF['userId'].nunique(),new_MLDF['productId'].nunique())\n",
        "print()\n",
        "print(new_MLDF['Updated_UserID'].max(),new_MLDF['Updated_ItemID'].max())\n",
        "print(new_MLDF['Updated_UserID'].nunique(),new_MLDF['Updated_ItemID'].nunique())\n",
        "new_MLDF.head()"
      ],
      "execution_count": 54,
      "outputs": [
        {
          "output_type": "stream",
          "text": [
            "(575281, 6)\n",
            "6037 3532\n",
            "6038 3533\n",
            "\n",
            "6037 3532\n",
            "6038 3533\n"
          ],
          "name": "stdout"
        },
        {
          "output_type": "execute_result",
          "data": {
            "text/html": [
              "<div>\n",
              "<style scoped>\n",
              "    .dataframe tbody tr th:only-of-type {\n",
              "        vertical-align: middle;\n",
              "    }\n",
              "\n",
              "    .dataframe tbody tr th {\n",
              "        vertical-align: top;\n",
              "    }\n",
              "\n",
              "    .dataframe thead th {\n",
              "        text-align: right;\n",
              "    }\n",
              "</style>\n",
              "<table border=\"1\" class=\"dataframe\">\n",
              "  <thead>\n",
              "    <tr style=\"text-align: right;\">\n",
              "      <th></th>\n",
              "      <th>userId</th>\n",
              "      <th>productId</th>\n",
              "      <th>rating</th>\n",
              "      <th>timestamp</th>\n",
              "      <th>Updated_UserID</th>\n",
              "      <th>Updated_ItemID</th>\n",
              "    </tr>\n",
              "  </thead>\n",
              "  <tbody>\n",
              "    <tr>\n",
              "      <th>0</th>\n",
              "      <td>0</td>\n",
              "      <td>0</td>\n",
              "      <td>1</td>\n",
              "      <td>2000-04-25 23:05:32</td>\n",
              "      <td>0</td>\n",
              "      <td>0</td>\n",
              "    </tr>\n",
              "    <tr>\n",
              "      <th>1</th>\n",
              "      <td>0</td>\n",
              "      <td>1</td>\n",
              "      <td>1</td>\n",
              "      <td>2000-04-25 23:05:54</td>\n",
              "      <td>0</td>\n",
              "      <td>1</td>\n",
              "    </tr>\n",
              "    <tr>\n",
              "      <th>2</th>\n",
              "      <td>0</td>\n",
              "      <td>2</td>\n",
              "      <td>1</td>\n",
              "      <td>2000-04-25 23:05:54</td>\n",
              "      <td>0</td>\n",
              "      <td>2</td>\n",
              "    </tr>\n",
              "    <tr>\n",
              "      <th>3</th>\n",
              "      <td>0</td>\n",
              "      <td>3</td>\n",
              "      <td>1</td>\n",
              "      <td>2000-04-25 23:06:17</td>\n",
              "      <td>0</td>\n",
              "      <td>3</td>\n",
              "    </tr>\n",
              "    <tr>\n",
              "      <th>4</th>\n",
              "      <td>0</td>\n",
              "      <td>4</td>\n",
              "      <td>1</td>\n",
              "      <td>2000-04-25 23:06:17</td>\n",
              "      <td>0</td>\n",
              "      <td>4</td>\n",
              "    </tr>\n",
              "  </tbody>\n",
              "</table>\n",
              "</div>"
            ],
            "text/plain": [
              "   userId  productId  ...  Updated_UserID Updated_ItemID\n",
              "0       0          0  ...               0              0\n",
              "1       0          1  ...               0              1\n",
              "2       0          2  ...               0              2\n",
              "3       0          3  ...               0              3\n",
              "4       0          4  ...               0              4\n",
              "\n",
              "[5 rows x 6 columns]"
            ]
          },
          "metadata": {
            "tags": []
          },
          "execution_count": 54
        }
      ]
    },
    {
      "cell_type": "code",
      "metadata": {
        "id": "f1Ed3v8rRQyT"
      },
      "source": [
        ""
      ],
      "execution_count": null,
      "outputs": []
    },
    {
      "cell_type": "code",
      "metadata": {
        "colab": {
          "base_uri": "https://localhost:8080/"
        },
        "id": "9VaLJAAPRRLc",
        "outputId": "b8a162f3-af36-4f04-d529-3ac584f05900"
      },
      "source": [
        "rows_i = new_MLDF['Updated_UserID'].nunique()\n",
        "cols_i = new_MLDF['Updated_ItemID'].nunique()\n",
        "print(A0_df.shape)\n",
        "A0_Rating_matrix = SingleRatingMatrix(A0_df,'userId', 'productId',rows_i,cols_i)  ##changes start within steps...\n",
        "A0_Rating_matrix"
      ],
      "execution_count": 55,
      "outputs": [
        {
          "output_type": "stream",
          "text": [
            "(554234, 4)\n"
          ],
          "name": "stdout"
        },
        {
          "output_type": "execute_result",
          "data": {
            "text/plain": [
              "<6038x3533 sparse matrix of type '<class 'numpy.float64'>'\n",
              "\twith 554234 stored elements in Compressed Sparse Row format>"
            ]
          },
          "metadata": {
            "tags": []
          },
          "execution_count": 55
        }
      ]
    },
    {
      "cell_type": "code",
      "metadata": {
        "colab": {
          "base_uri": "https://localhost:8080/"
        },
        "id": "c_dQwNgf9joe",
        "outputId": "9cb39a2a-ac4b-4508-9d62-cee9f076b3dc"
      },
      "source": [
        "for df in new_PSIDFlist:\n",
        "    print(df['Updated_UserID'].max(),df['Updated_ItemID'].max())"
      ],
      "execution_count": 56,
      "outputs": [
        {
          "output_type": "stream",
          "text": [
            "6035 3530\n",
            "6035 3507\n",
            "6036 3531\n",
            "6033 3400\n",
            "6037 3521\n",
            "6033 3484\n",
            "6033 3526\n",
            "6033 3521\n"
          ],
          "name": "stdout"
        }
      ]
    },
    {
      "cell_type": "code",
      "metadata": {
        "colab": {
          "base_uri": "https://localhost:8080/"
        },
        "id": "PJgsMKCpRRMD",
        "outputId": "57db210c-5792-4496-e275-b368a17c896c"
      },
      "source": [
        "print(\"Length of PSI_Train :\",len(ΔA_train))\n",
        "print(\"Length of PSI_Test  :\",len(new_PSIDFlist))"
      ],
      "execution_count": 57,
      "outputs": [
        {
          "output_type": "stream",
          "text": [
            "Length of PSI_Train : 10\n",
            "Length of PSI_Test  : 8\n"
          ],
          "name": "stdout"
        }
      ]
    },
    {
      "cell_type": "code",
      "metadata": {
        "colab": {
          "base_uri": "https://localhost:8080/"
        },
        "id": "EBFJoOOvRRME",
        "outputId": "0f6d8c9f-5d25-4bfc-bb83-8eb1f2a7b712"
      },
      "source": [
        "PSI_train_matrix = AllRatingMatrices(ΔA_train,'userId','productId',rows_i ,cols_i)\n",
        "PSI_train_matrix   "
      ],
      "execution_count": 58,
      "outputs": [
        {
          "output_type": "execute_result",
          "data": {
            "text/plain": [
              "[<6038x3533 sparse matrix of type '<class 'numpy.float64'>'\n",
              " \twith 1706 stored elements in Compressed Sparse Row format>,\n",
              " <6038x3533 sparse matrix of type '<class 'numpy.float64'>'\n",
              " \twith 1189 stored elements in Compressed Sparse Row format>,\n",
              " <6038x3533 sparse matrix of type '<class 'numpy.float64'>'\n",
              " \twith 1601 stored elements in Compressed Sparse Row format>,\n",
              " <6038x3533 sparse matrix of type '<class 'numpy.float64'>'\n",
              " \twith 1521 stored elements in Compressed Sparse Row format>,\n",
              " <6038x3533 sparse matrix of type '<class 'numpy.float64'>'\n",
              " \twith 2262 stored elements in Compressed Sparse Row format>,\n",
              " <6038x3533 sparse matrix of type '<class 'numpy.float64'>'\n",
              " \twith 1357 stored elements in Compressed Sparse Row format>,\n",
              " <6038x3533 sparse matrix of type '<class 'numpy.float64'>'\n",
              " \twith 1025 stored elements in Compressed Sparse Row format>,\n",
              " <6038x3533 sparse matrix of type '<class 'numpy.float64'>'\n",
              " \twith 1509 stored elements in Compressed Sparse Row format>,\n",
              " <6038x3533 sparse matrix of type '<class 'numpy.float64'>'\n",
              " \twith 1072 stored elements in Compressed Sparse Row format>,\n",
              " <6038x3533 sparse matrix of type '<class 'numpy.float64'>'\n",
              " \twith 1027 stored elements in Compressed Sparse Row format>]"
            ]
          },
          "metadata": {
            "tags": []
          },
          "execution_count": 58
        }
      ]
    },
    {
      "cell_type": "code",
      "metadata": {
        "colab": {
          "base_uri": "https://localhost:8080/"
        },
        "id": "uTb5wHRNRRMG",
        "outputId": "bfdf3a17-7cbf-4231-c7d5-55bfe74b7bc9"
      },
      "source": [
        "PSI_test_matrix = AllRatingMatrices(new_PSIDFlist,'Updated_UserID','Updated_ItemID',rows_i ,cols_i)                                                                      \n",
        "print(len(PSI_test_matrix))\n",
        "PSI_test_matrix\n"
      ],
      "execution_count": 59,
      "outputs": [
        {
          "output_type": "stream",
          "text": [
            "8\n"
          ],
          "name": "stdout"
        },
        {
          "output_type": "execute_result",
          "data": {
            "text/plain": [
              "[<6038x3533 sparse matrix of type '<class 'numpy.float64'>'\n",
              " \twith 828 stored elements in Compressed Sparse Row format>,\n",
              " <6038x3533 sparse matrix of type '<class 'numpy.float64'>'\n",
              " \twith 866 stored elements in Compressed Sparse Row format>,\n",
              " <6038x3533 sparse matrix of type '<class 'numpy.float64'>'\n",
              " \twith 550 stored elements in Compressed Sparse Row format>,\n",
              " <6038x3533 sparse matrix of type '<class 'numpy.float64'>'\n",
              " \twith 472 stored elements in Compressed Sparse Row format>,\n",
              " <6038x3533 sparse matrix of type '<class 'numpy.float64'>'\n",
              " \twith 957 stored elements in Compressed Sparse Row format>,\n",
              " <6038x3533 sparse matrix of type '<class 'numpy.float64'>'\n",
              " \twith 524 stored elements in Compressed Sparse Row format>,\n",
              " <6038x3533 sparse matrix of type '<class 'numpy.float64'>'\n",
              " \twith 839 stored elements in Compressed Sparse Row format>,\n",
              " <6038x3533 sparse matrix of type '<class 'numpy.float64'>'\n",
              " \twith 903 stored elements in Compressed Sparse Row format>]"
            ]
          },
          "metadata": {
            "tags": []
          },
          "execution_count": 59
        }
      ]
    },
    {
      "cell_type": "code",
      "metadata": {
        "colab": {
          "base_uri": "https://localhost:8080/"
        },
        "id": "_6YCH6jWRRMH",
        "outputId": "3d3d499d-7151-4761-85f5-396984c8d906"
      },
      "source": [
        "UserItemMAT_reglist = AllRatingMatrices(newUserItem_list,'Updated_UserID','Updated_ItemID',rows_i ,cols_i) \n",
        "UserItemMAT_reglist  "
      ],
      "execution_count": 60,
      "outputs": [
        {
          "output_type": "execute_result",
          "data": {
            "text/plain": [
              "[<6038x3533 sparse matrix of type '<class 'numpy.float64'>'\n",
              " \twith 569331 stored elements in Compressed Sparse Row format>,\n",
              " <6038x3533 sparse matrix of type '<class 'numpy.float64'>'\n",
              " \twith 570323 stored elements in Compressed Sparse Row format>,\n",
              " <6038x3533 sparse matrix of type '<class 'numpy.float64'>'\n",
              " \twith 570987 stored elements in Compressed Sparse Row format>,\n",
              " <6038x3533 sparse matrix of type '<class 'numpy.float64'>'\n",
              " \twith 571557 stored elements in Compressed Sparse Row format>,\n",
              " <6038x3533 sparse matrix of type '<class 'numpy.float64'>'\n",
              " \twith 572610 stored elements in Compressed Sparse Row format>,\n",
              " <6038x3533 sparse matrix of type '<class 'numpy.float64'>'\n",
              " \twith 573232 stored elements in Compressed Sparse Row format>,\n",
              " <6038x3533 sparse matrix of type '<class 'numpy.float64'>'\n",
              " \twith 574176 stored elements in Compressed Sparse Row format>,\n",
              " <6038x3533 sparse matrix of type '<class 'numpy.float64'>'\n",
              " \twith 575193 stored elements in Compressed Sparse Row format>]"
            ]
          },
          "metadata": {
            "tags": []
          },
          "execution_count": 60
        }
      ]
    },
    {
      "cell_type": "code",
      "metadata": {
        "colab": {
          "base_uri": "https://localhost:8080/"
        },
        "id": "bZGtyUJPRCff",
        "outputId": "bdb0da7a-930d-465f-bf44-b27e54ffaa37"
      },
      "source": [
        "print(AllDF_list[-1]['userId'].nunique(),AllDF_list[-1]['productId'].nunique())\n",
        "print(MovieLen_df['userId'].nunique(),MovieLen_df['productId'].nunique())   #new_MLDF"
      ],
      "execution_count": 62,
      "outputs": [
        {
          "output_type": "stream",
          "text": [
            "6038 3533\n",
            "6038 3533\n"
          ],
          "name": "stdout"
        }
      ]
    },
    {
      "cell_type": "markdown",
      "metadata": {
        "id": "PTIqbZ8v3wX3"
      },
      "source": [
        "#### PSI Prediction"
      ]
    },
    {
      "cell_type": "code",
      "metadata": {
        "colab": {
          "base_uri": "https://localhost:8080/"
        },
        "id": "erGth4eKRRMJ",
        "outputId": "0af0dc64-c5cb-4762-ec44-de75c224186c"
      },
      "source": [
        "                                                                                   #integratorOnMat(A0,ΔA_train_matrix,ΔA_test_matrix,k):\n",
        "Vpsi_listReg =  integratorOnMat(A0_Rating_matrix,PSI_train_matrix,PSI_test_matrix,k=50)  #PSI == projector splitting integrator\n",
        "print(len(Vpsi_listReg))  "
      ],
      "execution_count": 63,
      "outputs": [
        {
          "output_type": "stream",
          "text": [
            "8\n"
          ],
          "name": "stdout"
        }
      ]
    },
    {
      "cell_type": "code",
      "metadata": {
        "colab": {
          "base_uri": "https://localhost:8080/"
        },
        "id": "c9jUgHkKAhbi",
        "outputId": "d190e08f-b982-4507-fd9e-1e8e5c2cac92"
      },
      "source": [
        "Top10Pred_psi = TopNPred(UserItemMAT_reglist[0], newHOLDOUT_LIST[0],Vpsi_listReg[0],'Updated_UserID',N=10)\n",
        "print(Top10Pred_psi.shape)\n",
        "Top10Pred_psi"
      ],
      "execution_count": 64,
      "outputs": [
        {
          "output_type": "stream",
          "text": [
            "(126, 10)\n"
          ],
          "name": "stdout"
        },
        {
          "output_type": "execute_result",
          "data": {
            "text/plain": [
              "array([[ 639,  342,  206, ..., 1335,   59,  950],\n",
              "       [  22,  556,   41, ...,  131,   40,   73],\n",
              "       [ 328,  955,  144, ...,  908,  135,  651],\n",
              "       ...,\n",
              "       [ 127,  955,  271, ..., 1117,  549,  649],\n",
              "       [ 574,  563,   73, ...,  576,  112,  630],\n",
              "       [ 223,  970,  334, ...,  608,  521,  905]])"
            ]
          },
          "metadata": {
            "tags": []
          },
          "execution_count": 64
        }
      ]
    },
    {
      "cell_type": "code",
      "metadata": {
        "colab": {
          "base_uri": "https://localhost:8080/"
        },
        "id": "u1sFaxNBAhc2",
        "outputId": "669a9146-241f-4b53-f2c9-e518779d487d"
      },
      "source": [
        "Hitrate_Eval(newHOLDOUT_LIST[0],Top10Pred_psi,'Updated_UserID','Updated_ItemID')"
      ],
      "execution_count": 65,
      "outputs": [
        {
          "output_type": "stream",
          "text": [
            "Number of hits:  8\n",
            "Total Num of users:  126\n",
            "Recommendation HitRate:  0.06349206349206349\n"
          ],
          "name": "stdout"
        },
        {
          "output_type": "execute_result",
          "data": {
            "text/plain": [
              "0.06349206349206349"
            ]
          },
          "metadata": {
            "tags": []
          },
          "execution_count": 65
        }
      ]
    },
    {
      "cell_type": "code",
      "metadata": {
        "colab": {
          "base_uri": "https://localhost:8080/"
        },
        "id": "oUDxtIohbVj8",
        "outputId": "d3c6b6f0-009a-4982-8c58-29b5ff6eb93f"
      },
      "source": [
        "All_PSI_PRED =  TQDMgetALLTopNPred(UserItemMAT_reglist,newHOLDOUT_LIST,Vpsi_listReg,'Updated_UserID',N = 10)\n",
        "print(len(All_PSI_PRED))\n",
        "All_PSI_PRED[:2]"
      ],
      "execution_count": 66,
      "outputs": [
        {
          "output_type": "stream",
          "text": [
            "8it [00:00, 53.51it/s]"
          ],
          "name": "stderr"
        },
        {
          "output_type": "stream",
          "text": [
            "8\n"
          ],
          "name": "stdout"
        },
        {
          "output_type": "stream",
          "text": [
            "\n"
          ],
          "name": "stderr"
        },
        {
          "output_type": "execute_result",
          "data": {
            "text/plain": [
              "[array([[ 639,  342,  206, ..., 1335,   59,  950],\n",
              "        [  22,  556,   41, ...,  131,   40,   73],\n",
              "        [ 328,  955,  144, ...,  908,  135,  651],\n",
              "        ...,\n",
              "        [ 127,  955,  271, ..., 1117,  549,  649],\n",
              "        [ 574,  563,   73, ...,  576,  112,  630],\n",
              "        [ 223,  970,  334, ...,  608,  521,  905]]),\n",
              " array([[ 100,   71,   13, ...,  570,  635,  845],\n",
              "        [ 485,   10,   79, ...,  360,  328,  480],\n",
              "        [ 463, 1159,  465, ..., 1688,   89,  502],\n",
              "        ...,\n",
              "        [2933,  127,  209, ...,  514, 1226,  585],\n",
              "        [   2,  719,  254, ...,  133,   18,  153],\n",
              "        [ 970,  334,  312, ...,   57,  608,   62]])]"
            ]
          },
          "metadata": {
            "tags": []
          },
          "execution_count": 66
        }
      ]
    },
    {
      "cell_type": "code",
      "metadata": {
        "colab": {
          "base_uri": "https://localhost:8080/"
        },
        "id": "2ZnpolG9A7KZ",
        "outputId": "5045c3f3-bcf5-4b13-b1db-bc90451e97f9"
      },
      "source": [
        "AllSteps_Hitrate_psi, LowerBand, Avg_HitRate, UpperBand   = getAll_HitRate(newHOLDOUT_LIST,All_PSI_PRED,'Updated_UserID','Updated_ItemID')"
      ],
      "execution_count": 67,
      "outputs": [
        {
          "output_type": "stream",
          "text": [
            "Number of hits:  8\n",
            "Total Num of users:  126\n",
            "Recommendation HitRate:  0.06349206349206349\n",
            "Number of hits:  6\n",
            "Total Num of users:  114\n",
            "Recommendation HitRate:  0.05263157894736842\n",
            "Number of hits:  5\n",
            "Total Num of users:  98\n",
            "Recommendation HitRate:  0.05102040816326531\n",
            "Number of hits:  4\n",
            "Total Num of users:  96\n",
            "Recommendation HitRate:  0.041666666666666664\n",
            "Number of hits:  6\n",
            "Total Num of users:  97\n",
            "Recommendation HitRate:  0.061855670103092786\n",
            "Number of hits:  10\n",
            "Total Num of users:  105\n",
            "Recommendation HitRate:  0.09523809523809523\n",
            "Number of hits:  4\n",
            "Total Num of users:  114\n",
            "Recommendation HitRate:  0.03508771929824561\n",
            "Number of hits:  5\n",
            "Total Num of users:  88\n",
            "Recommendation HitRate:  0.056818181818181816\n",
            "Average HitRate for All Recommendations:  0.05722629796587242\n"
          ],
          "name": "stdout"
        }
      ]
    },
    {
      "cell_type": "code",
      "metadata": {
        "colab": {
          "base_uri": "https://localhost:8080/"
        },
        "id": "p65XDxesTfBL",
        "outputId": "3dfa5ca9-09a4-40a7-c27c-2294af508f6f"
      },
      "source": [
        "for df in newUserItem_list:\n",
        "    print(df['Updated_UserID'].nunique(),df['Updated_ItemID'].nunique())"
      ],
      "execution_count": 68,
      "outputs": [
        {
          "output_type": "stream",
          "text": [
            "6036 3531\n",
            "6036 3531\n",
            "6037 3532\n",
            "6037 3532\n",
            "6038 3532\n",
            "6038 3533\n",
            "6038 3533\n",
            "6038 3533\n"
          ],
          "name": "stdout"
        }
      ]
    },
    {
      "cell_type": "code",
      "metadata": {
        "id": "r-omdXc5YnAM"
      },
      "source": [
        ""
      ],
      "execution_count": null,
      "outputs": []
    },
    {
      "cell_type": "markdown",
      "metadata": {
        "id": "ex_fBepRvk5I"
      },
      "source": [
        "###  RandRec:Test"
      ]
    },
    {
      "cell_type": "code",
      "metadata": {
        "colab": {
          "base_uri": "https://localhost:8080/"
        },
        "id": "42RCvm1dlZNu",
        "outputId": "19cb7fb9-ba9a-4027-e494-ca1a38eeac1d"
      },
      "source": [
        "print(len(UserItem_MatUpdt),len(newHOLDOUT_LIST))"
      ],
      "execution_count": 69,
      "outputs": [
        {
          "output_type": "stream",
          "text": [
            "8 8\n"
          ],
          "name": "stdout"
        }
      ]
    },
    {
      "cell_type": "code",
      "metadata": {
        "colab": {
          "base_uri": "https://localhost:8080/"
        },
        "id": "TBkzzmmFlZNz",
        "outputId": "d72edcbe-3f14-439d-ff92-945a853dbe40"
      },
      "source": [
        "All_RandPred = get_ALLRandPred(UserItem_MatUpdt,newHOLDOUT_LIST,'Updated_UserID',N=10)\n",
        "All_RandPred[:2]  "
      ],
      "execution_count": 70,
      "outputs": [
        {
          "output_type": "stream",
          "text": [
            "8it [00:00, 66.18it/s]\n"
          ],
          "name": "stderr"
        },
        {
          "output_type": "execute_result",
          "data": {
            "text/plain": [
              "[array([[  79, 3109, 2110, ..., 2651, 3009,  437],\n",
              "        [ 386, 3420, 1917, ..., 2282,  643, 2326],\n",
              "        [2237, 3487, 2789, ..., 2811,  409, 2276],\n",
              "        ...,\n",
              "        [1069, 1977, 1391, ..., 1504, 1667,   77],\n",
              "        [ 217, 2451, 1069, ...,  299,  479,  228],\n",
              "        [1271,  877, 2141, ..., 2007, 2108, 3522]]),\n",
              " array([[1608,  183,  622, ...,  980, 1626, 1491],\n",
              "        [1488, 2705,  233, ..., 1460, 3342, 1719],\n",
              "        [2047, 2076,  803, ..., 3076, 3361, 3470],\n",
              "        ...,\n",
              "        [1354,  633,  316, ..., 2928,  448, 2092],\n",
              "        [ 513, 2111, 1023, ...,  192, 1419, 1205],\n",
              "        [2213,  780, 3445, ...,  268, 2157, 1359]])]"
            ]
          },
          "metadata": {
            "tags": []
          },
          "execution_count": 70
        }
      ]
    },
    {
      "cell_type": "code",
      "metadata": {
        "colab": {
          "base_uri": "https://localhost:8080/"
        },
        "id": "uMLoaZ6YlZN3",
        "outputId": "218c025a-695d-4285-d103-4032e28b4e3e"
      },
      "source": [
        "AllSteps_Hitrate, LowerBand, Avg_HitRate, UpperBand = getAll_RandomHitRate(newHOLDOUT_LIST,All_RandPred,'Updated_UserID','Updated_ItemID')"
      ],
      "execution_count": 71,
      "outputs": [
        {
          "output_type": "stream",
          "text": [
            "Number of hits:  2\n",
            "Total Num of users:  126\n",
            "Recommendation HitRate:  0.015873015873015872\n",
            "Number of hits:  0\n",
            "Total Num of users:  114\n",
            "Recommendation HitRate:  0.0\n",
            "Number of hits:  0\n",
            "Total Num of users:  98\n",
            "Recommendation HitRate:  0.0\n",
            "Number of hits:  2\n",
            "Total Num of users:  96\n",
            "Recommendation HitRate:  0.020833333333333332\n",
            "Number of hits:  1\n",
            "Total Num of users:  97\n",
            "Recommendation HitRate:  0.010309278350515464\n",
            "Number of hits:  0\n",
            "Total Num of users:  105\n",
            "Recommendation HitRate:  0.0\n",
            "Number of hits:  0\n",
            "Total Num of users:  114\n",
            "Recommendation HitRate:  0.0\n",
            "Number of hits:  0\n",
            "Total Num of users:  88\n",
            "Recommendation HitRate:  0.0\n",
            "Average HitRate for All Recommendations:  0.005876953444608083\n"
          ],
          "name": "stdout"
        }
      ]
    },
    {
      "cell_type": "code",
      "metadata": {
        "id": "ZKEdny0fj3At"
      },
      "source": [
        ""
      ],
      "execution_count": null,
      "outputs": []
    },
    {
      "cell_type": "markdown",
      "metadata": {
        "id": "XTkVUSBi4sgE"
      },
      "source": [
        "### Most Pop Rec"
      ]
    },
    {
      "cell_type": "code",
      "metadata": {
        "colab": {
          "base_uri": "https://localhost:8080/"
        },
        "id": "dwtyYptbxT1n",
        "outputId": "abd6d813-d08f-4b03-f120-848c76e88b52"
      },
      "source": [
        "All_MostPOPRED_List =  getAll_MOSTPOP_Pred(new_PSIDFlist,newHOLDOUT_LIST,'Updated_UserID','Updated_ItemID',N=10)\n",
        "All_MostPOPRED_List[:2]"
      ],
      "execution_count": 74,
      "outputs": [
        {
          "output_type": "execute_result",
          "data": {
            "text/plain": [
              "[array([[ 209, 3318,  355, ...,   15, 2363,  902],\n",
              "        [ 209, 3318,  355, ...,   15, 2363,  902],\n",
              "        [ 209, 3318,  355, ...,   15, 2363,  902],\n",
              "        ...,\n",
              "        [ 209, 3318,  355, ...,   15, 2363,  902],\n",
              "        [ 209, 3318,  355, ...,   15, 2363,  902],\n",
              "        [ 209, 3318,  355, ...,   15, 2363,  902]]),\n",
              " array([[3367,   10,  337, ...,  221,  317, 2933],\n",
              "        [3367,   10,  337, ...,  221,  317, 2933],\n",
              "        [3367,   10,  337, ...,  221,  317, 2933],\n",
              "        ...,\n",
              "        [3367,   10,  337, ...,  221,  317, 2933],\n",
              "        [3367,   10,  337, ...,  221,  317, 2933],\n",
              "        [3367,   10,  337, ...,  221,  317, 2933]])]"
            ]
          },
          "metadata": {
            "tags": []
          },
          "execution_count": 74
        }
      ]
    },
    {
      "cell_type": "code",
      "metadata": {
        "colab": {
          "base_uri": "https://localhost:8080/"
        },
        "id": "pzPaCjrsUvFa",
        "outputId": "e646988b-8e49-4d99-e03f-2a9807e5f2fa"
      },
      "source": [
        "AllSteps_Hitrate, LowerBand, Avg_HitRate, UpperBand  = getAll_MostPOPHitRate(newHOLDOUT_LIST,All_MostPOPRED_List,'Updated_UserID','Updated_ItemID')"
      ],
      "execution_count": 75,
      "outputs": [
        {
          "output_type": "stream",
          "text": [
            "Number of hits:  2\n",
            "Total Num of users:  126\n",
            "Recommendation HitRate:  0.015873015873015872\n",
            "Number of hits:  0\n",
            "Total Num of users:  114\n",
            "Recommendation HitRate:  0.0\n",
            "Number of hits:  1\n",
            "Total Num of users:  98\n",
            "Recommendation HitRate:  0.01020408163265306\n",
            "Number of hits:  3\n",
            "Total Num of users:  96\n",
            "Recommendation HitRate:  0.03125\n",
            "Number of hits:  3\n",
            "Total Num of users:  97\n",
            "Recommendation HitRate:  0.030927835051546393\n",
            "Number of hits:  5\n",
            "Total Num of users:  105\n",
            "Recommendation HitRate:  0.047619047619047616\n",
            "Number of hits:  2\n",
            "Total Num of users:  114\n",
            "Recommendation HitRate:  0.017543859649122806\n",
            "Number of hits:  1\n",
            "Total Num of users:  88\n",
            "Recommendation HitRate:  0.011363636363636364\n",
            "Average HitRate for All Recommendations:  0.020597684523627764\n"
          ],
          "name": "stdout"
        }
      ]
    },
    {
      "cell_type": "code",
      "metadata": {
        "colab": {
          "base_uri": "https://localhost:8080/"
        },
        "id": "CbzcieIu7oCt",
        "outputId": "b89602e6-4c23-4d05-b588-9c346150b117"
      },
      "source": [
        "print(len(UserItem_MatUpdt),len(newHOLDOUT_LIST))"
      ],
      "execution_count": 76,
      "outputs": [
        {
          "output_type": "stream",
          "text": [
            "8 8\n"
          ],
          "name": "stdout"
        }
      ]
    },
    {
      "cell_type": "code",
      "metadata": {
        "id": "zD4s8IY4DvsK"
      },
      "source": [
        ""
      ],
      "execution_count": null,
      "outputs": []
    },
    {
      "cell_type": "markdown",
      "metadata": {
        "id": "00phYsByS9Oq"
      },
      "source": [
        "### CORRELATION Report\n"
      ]
    },
    {
      "cell_type": "code",
      "metadata": {
        "colab": {
          "base_uri": "https://localhost:8080/"
        },
        "id": "T1Sq8YA6U-V2",
        "outputId": "112c7d77-d094-45a2-9e92-090232515c59"
      },
      "source": [
        "print(UserItem_MatUpdt[0].shape)\n",
        "print(UserItemMAT_reglist[0].shape)"
      ],
      "execution_count": 77,
      "outputs": [
        {
          "output_type": "stream",
          "text": [
            "(6036, 3531)\n",
            "(6038, 3533)\n"
          ],
          "name": "stdout"
        }
      ]
    },
    {
      "cell_type": "markdown",
      "metadata": {
        "id": "gfiwUrPKfayk"
      },
      "source": [
        "#### getAll User Pred"
      ]
    },
    {
      "cell_type": "code",
      "metadata": {
        "colab": {
          "base_uri": "https://localhost:8080/"
        },
        "id": "BxV4PhiFfkuM",
        "outputId": "f54b7192-9821-4a0c-f932-21e0ce3d6b42"
      },
      "source": [
        "AllUsers_updtPRED =  TQDMgetALLTopNPred_ALLUSERS(UserItem_MatUpdt,Vpsi_listUpdt, N=10) \n",
        "print(len(AllUsers_updtPRED))\n",
        "AllUsers_updtPRED[:2]"
      ],
      "execution_count": 78,
      "outputs": [
        {
          "output_type": "stream",
          "text": [
            "8it [00:04,  1.69it/s]"
          ],
          "name": "stderr"
        },
        {
          "output_type": "stream",
          "text": [
            "8\n"
          ],
          "name": "stdout"
        },
        {
          "output_type": "stream",
          "text": [
            "\n"
          ],
          "name": "stderr"
        },
        {
          "output_type": "execute_result",
          "data": {
            "text/plain": [
              "[array([[ 138,  336,  142, ...,  279,  223,  641],\n",
              "        [ 563,  223,  398, ...,  140,  136,  412],\n",
              "        [ 219,  223,  220, ...,   57, 2362,  171],\n",
              "        ...,\n",
              "        [   2,  719,  455, ...,   18,  133,   12],\n",
              "        [ 156, 1929,  709, ...,   43,  208,  841],\n",
              "        [ 223,  970,  334, ...,  608,  521,  905]]),\n",
              " array([[ 138,  336,  142, ...,  279,  223,  641],\n",
              "        [ 563,  223,  398, ...,  140,  136,  412],\n",
              "        [ 219,  223,  220, ...,   57, 2362,  171],\n",
              "        ...,\n",
              "        [   2,  719,  254, ...,  133,   18,  153],\n",
              "        [ 156, 1929,  709, ...,   43,  208,  841],\n",
              "        [ 970,  334,  312, ...,   57,  608,  709]])]"
            ]
          },
          "metadata": {
            "tags": []
          },
          "execution_count": 78
        }
      ]
    },
    {
      "cell_type": "code",
      "metadata": {
        "id": "IxlTtkOs5tTN",
        "colab": {
          "base_uri": "https://localhost:8080/"
        },
        "outputId": "caa0125b-e259-4f90-e643-b411f242a39c"
      },
      "source": [
        "AllUsers_updtPRED[2].shape"
      ],
      "execution_count": 79,
      "outputs": [
        {
          "output_type": "execute_result",
          "data": {
            "text/plain": [
              "(6037, 10)"
            ]
          },
          "metadata": {
            "tags": []
          },
          "execution_count": 79
        }
      ]
    },
    {
      "cell_type": "markdown",
      "metadata": {
        "id": "4GLHnKJViAHo"
      },
      "source": [
        "####  SingleRank Corr "
      ]
    },
    {
      "cell_type": "code",
      "metadata": {
        "colab": {
          "base_uri": "https://localhost:8080/"
        },
        "id": "UkFqDvcW_Amh",
        "outputId": "82d6390c-7b91-4adc-b834-6df33404b187"
      },
      "source": [
        "AllSteps = list(range(1,8))\n",
        "print(len(AllSteps))\n",
        "AllSteps"
      ],
      "execution_count": 81,
      "outputs": [
        {
          "output_type": "stream",
          "text": [
            "7\n"
          ],
          "name": "stdout"
        },
        {
          "output_type": "execute_result",
          "data": {
            "text/plain": [
              "[1, 2, 3, 4, 5, 6, 7]"
            ]
          },
          "metadata": {
            "tags": []
          },
          "execution_count": 81
        }
      ]
    },
    {
      "cell_type": "code",
      "metadata": {
        "colab": {
          "base_uri": "https://localhost:8080/"
        },
        "id": "QlTrlJKrNwRC",
        "outputId": "6af80a56-894b-4343-e6de-82b504eeca18"
      },
      "source": [
        "UpdtPSICorr_ = Updt_getAll_AvgCorr(AllUsers_updtPRED,newUserItem_list,AllSteps,'Updated_UserID')  #,\n",
        "UpdtPSICorr_"
      ],
      "execution_count": 82,
      "outputs": [
        {
          "output_type": "execute_result",
          "data": {
            "text/plain": [
              "array([array([1.        , 1.        , 1.        , ..., 0.83060516, 1.        ,\n",
              "       0.31031422]),\n",
              "       array([1.        , 1.        , 1.        , ..., 0.81329075, 1.        ,\n",
              "       0.8714503 ]),\n",
              "       array([1.       , 1.       , 1.       , ..., 1.       , 1.       ,\n",
              "       0.9711577]),\n",
              "       array([1., 1., 1., ..., 1., 1., 1.]),\n",
              "       array([1.        , 1.        , 1.        , ..., 1.        , 1.        ,\n",
              "       0.78651821]),\n",
              "       array([1., 1., 1., ..., 1., 1., 1.]),\n",
              "       array([1., 1., 1., ..., 1., 1., 1.])], dtype=object)"
            ]
          },
          "metadata": {
            "tags": []
          },
          "execution_count": 82
        }
      ]
    },
    {
      "cell_type": "code",
      "metadata": {
        "colab": {
          "base_uri": "https://localhost:8080/"
        },
        "id": "Ms8Nj-1ndBAG",
        "outputId": "85aae3c5-1fae-404c-9d6d-95c23d1816b3"
      },
      "source": [
        "UpdtPSICorr_.shape\n",
        "for df in UpdtPSICorr_:\n",
        "    print(df.mean())  "
      ],
      "execution_count": 84,
      "outputs": [
        {
          "output_type": "stream",
          "text": [
            "0.9957622798367185\n",
            "0.9943476878706993\n",
            "0.9967992108398646\n",
            "0.9934850818426556\n",
            "0.9969058009851437\n",
            "0.9957442717314196\n",
            "0.9966838964624006\n"
          ],
          "name": "stdout"
        }
      ]
    },
    {
      "cell_type": "code",
      "metadata": {
        "id": "MkdAFQCZTnco"
      },
      "source": [
        ""
      ],
      "execution_count": null,
      "outputs": []
    },
    {
      "cell_type": "markdown",
      "metadata": {
        "id": "s19yQCNaTxSL"
      },
      "source": [
        "#### RegPSI Corr_"
      ]
    },
    {
      "cell_type": "code",
      "metadata": {
        "id": "C5-t8Ck1UYWv"
      },
      "source": [
        "[0], newHOLDOUT_LIST[0],Vpsi_listReg[0]"
      ],
      "execution_count": null,
      "outputs": []
    },
    {
      "cell_type": "code",
      "metadata": {
        "colab": {
          "base_uri": "https://localhost:8080/"
        },
        "id": "nNWgpQTkTxSv",
        "outputId": "f26c5492-7c44-4bfd-d639-c6803eec902e"
      },
      "source": [
        "AllUsersRegPIS_PRED =  TQDMgetALLTopNPred_ALLUSERS(UserItemMAT_reglist,Vpsi_listReg, N=10) \n",
        "print(len(AllUsersRegPIS_PRED))\n",
        "AllUsersRegPIS_PRED[:2]"
      ],
      "execution_count": 85,
      "outputs": [
        {
          "output_type": "stream",
          "text": [
            "8it [00:04,  1.68it/s]"
          ],
          "name": "stderr"
        },
        {
          "output_type": "stream",
          "text": [
            "8\n"
          ],
          "name": "stdout"
        },
        {
          "output_type": "stream",
          "text": [
            "\n"
          ],
          "name": "stderr"
        },
        {
          "output_type": "execute_result",
          "data": {
            "text/plain": [
              "[array([[ 138,  336,  142, ...,  279,  223,  641],\n",
              "        [ 563,  223,  398, ...,  140,  136,  412],\n",
              "        [ 219,  223,  220, ...,   57, 2362,  171],\n",
              "        ...,\n",
              "        [ 223,  970,  334, ...,  608,  521,  905],\n",
              "        [1181, 1179, 1182, ..., 1177, 1176, 3532],\n",
              "        [1181, 1179, 1182, ..., 1177, 1176, 3532]]),\n",
              " array([[ 138,  336,  142, ...,  279,  223,  641],\n",
              "        [ 563,  223,  398, ...,  140,  136,  412],\n",
              "        [ 219,  223,  220, ...,   57, 2362,  171],\n",
              "        ...,\n",
              "        [ 970,  334,  312, ...,   57,  608,   62],\n",
              "        [1181, 1179, 1182, ..., 1177, 1176, 3532],\n",
              "        [1181, 1179, 1182, ..., 1177, 1176, 3532]])]"
            ]
          },
          "metadata": {
            "tags": []
          },
          "execution_count": 85
        }
      ]
    },
    {
      "cell_type": "code",
      "metadata": {
        "colab": {
          "base_uri": "https://localhost:8080/"
        },
        "id": "e9CyySeHTxS1",
        "outputId": "3298d3e0-f1f4-4b27-9b5d-273b69c781d1"
      },
      "source": [
        "AllUsersRegPIS_PRED[2].shape"
      ],
      "execution_count": 86,
      "outputs": [
        {
          "output_type": "execute_result",
          "data": {
            "text/plain": [
              "(6038, 10)"
            ]
          },
          "metadata": {
            "tags": []
          },
          "execution_count": 86
        }
      ]
    },
    {
      "cell_type": "markdown",
      "metadata": {
        "id": "r0AvdqsHTxS4"
      },
      "source": [
        "####  RegPSI SingleRankCorr "
      ]
    },
    {
      "cell_type": "code",
      "metadata": {
        "colab": {
          "base_uri": "https://localhost:8080/"
        },
        "id": "gEYu_nLCTxS6",
        "outputId": "89796fe7-f730-46ca-e557-f6363fd63af4"
      },
      "source": [
        "AllSteps = list(range(1,8))\n",
        "print(len(AllSteps))\n",
        "print(len(AllUsersRegPIS_PRED))\n",
        "AllSteps  "
      ],
      "execution_count": 87,
      "outputs": [
        {
          "output_type": "stream",
          "text": [
            "7\n",
            "8\n"
          ],
          "name": "stdout"
        },
        {
          "output_type": "execute_result",
          "data": {
            "text/plain": [
              "[1, 2, 3, 4, 5, 6, 7]"
            ]
          },
          "metadata": {
            "tags": []
          },
          "execution_count": 87
        }
      ]
    },
    {
      "cell_type": "code",
      "metadata": {
        "colab": {
          "base_uri": "https://localhost:8080/"
        },
        "id": "5jPXwk8KTxS9",
        "outputId": "00ef92dd-d370-4fe9-f95b-74703614eee0"
      },
      "source": [
        "RegPSICorr_ = Updt_getAll_AvgCorr(AllUsersRegPIS_PRED,newUserItem_list,AllSteps,'Updated_UserID')  #,\n",
        "RegPSICorr_"
      ],
      "execution_count": 88,
      "outputs": [
        {
          "output_type": "execute_result",
          "data": {
            "text/plain": [
              "array([array([1.        , 1.        , 1.        , ..., 0.83060516, 1.        ,\n",
              "       0.28164612]),\n",
              "       array([0.98788042, 1.        , 1.        , ..., 0.79477204, 1.        ,\n",
              "       0.94467132]),\n",
              "       array([0.98788042, 1.        , 1.        , ..., 1.        , 1.        ,\n",
              "       0.98307362]),\n",
              "       array([0.98788042, 1.        , 1.        , ..., 1.        , 1.        ,\n",
              "       0.99244163]),\n",
              "       array([0.99244163, 1.        , 1.        , ..., 1.        , 1.        ,\n",
              "       0.84271627]),\n",
              "       array([0.95730575, 1.        , 0.99056095, ..., 1.        , 0.99244163,\n",
              "       0.97749498]),\n",
              "       array([1.        , 1.        , 1.        , ..., 1.        , 0.99244163,\n",
              "       0.94467132])], dtype=object)"
            ]
          },
          "metadata": {
            "tags": []
          },
          "execution_count": 88
        }
      ]
    },
    {
      "cell_type": "code",
      "metadata": {
        "colab": {
          "base_uri": "https://localhost:8080/"
        },
        "id": "7Jw6LVmFTxTC",
        "outputId": "e2115aee-b4a6-410b-8275-46c73c583980"
      },
      "source": [
        "RegPSICorr_.shape\n",
        "for df in RegPSICorr_:\n",
        "    print(df.mean())  "
      ],
      "execution_count": 89,
      "outputs": [
        {
          "output_type": "stream",
          "text": [
            "0.9803436334307236\n",
            "0.9842317028061345\n",
            "0.9850667025781458\n",
            "0.9816454010046866\n",
            "0.9857413417123495\n",
            "0.9811697275957267\n",
            "0.981346903617547\n"
          ],
          "name": "stdout"
        }
      ]
    },
    {
      "cell_type": "code",
      "metadata": {
        "id": "H_lvPsHkTwh2"
      },
      "source": [
        ""
      ],
      "execution_count": null,
      "outputs": []
    }
  ]
}