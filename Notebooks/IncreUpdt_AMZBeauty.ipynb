{
  "cells": [
    {
      "cell_type": "code",
      "execution_count": null,
      "metadata": {
        "id": "bnB7cJYMVY4Y"
      },
      "outputs": [],
      "source": []
    },
    {
      "cell_type": "markdown",
      "metadata": {
        "id": "waGNRsQkGt3t"
      },
      "source": [
        "## Imports"
      ]
    },
    {
      "cell_type": "code",
      "execution_count": null,
      "metadata": {},
      "outputs": [],
      "source": []
    },
    {
      "cell_type": "code",
      "execution_count": 31,
      "metadata": {},
      "outputs": [],
      "source": [
        "import os\n",
        "os.environ[\"OMP_NUM_THREADS\"] = \"8\"        #export OMP_NUM_THREADS=4\n",
        "os.environ[\"OPENBLAS_NUM_THREADS\"] = \"8\"   #export OPENBLAS_NUM_THREADS=4 \n",
        "os.environ[\"MKL_NUM_THREADS\"] = \"8\"        #export MKL_NUM_THREADS=6\n",
        "os.environ[\"VECLIB_MAXIMUM_THREADS\"] = \"8\" # export VECLIB_MAXIMUM_THREADS=4\n",
        "os.environ[\"NUMEXPR_NUM_THREADS\"] = \"8\""
      ]
    },
    {
      "cell_type": "code",
      "execution_count": 32,
      "metadata": {
        "id": "LSMrVzzrFcnl"
      },
      "outputs": [],
      "source": [
        "import io\n",
        "import os\n",
        "import gzip\n",
        "import json\n",
        "import scipy\n",
        "import random\n",
        "import warnings\n",
        "import numpy as np\n",
        "import numba as nb\n",
        "import pandas as pd\n",
        "import datetime as dt\n",
        "import seaborn as sns\n",
        "from tqdm import tqdm\n",
        "import scipy.stats as st\n",
        "from collections import OrderedDict\n",
        "import scipy.sparse as sparse\n",
        "from scipy.linalg import orth\n",
        "import matplotlib.pyplot as plt\n",
        "from numpy import linalg as lin\n",
        "warnings.filterwarnings('ignore')\n",
        "from scipy.sparse import coo_matrix\n",
        "from scipy.sparse.linalg import svds\n",
        "from datetime import datetime as dt_dt\n",
        "from scipy.sparse.linalg import spsolve\n",
        "from numpy.linalg import qr as QR_decomp\n",
        "from scipy.sparse import csr_matrix, find\n",
        "from pandas.api.types import CategoricalDtype\n",
        "from typing import List\n",
        "import torch\n",
        "import torch.nn.functional as F\n",
        "from torch import nn\n",
        "from polara.evaluation.pipelines import random_grid\n",
        "import bottleneck as bn\n",
        "import pickle"
      ]
    },
    {
      "cell_type": "code",
      "execution_count": 5,
      "metadata": {},
      "outputs": [],
      "source": [
        "from  polara import RecommenderData\n",
        "import os; os.environ[\"MKL_NUM_THREADS\"] = \"1\" # as required by implicit\n",
        "import numpy as np\n",
        "\n",
        "from polara.recommender.external.implicit.ialswrapper import ImplicitALS\n",
        "from polara.evaluation.pipelines import random_grid, set_config,find_optimal_config"
      ]
    },
    {
      "cell_type": "markdown",
      "metadata": {
        "id": "IkLZJhQWqaPp"
      },
      "source": [
        "## Functions"
      ]
    },
    {
      "cell_type": "code",
      "execution_count": 33,
      "metadata": {
        "id": "Uvv8Q8zR7OAn"
      },
      "outputs": [],
      "source": [
        "import sys\n",
        "sys.path.append('/home/oolaleke/incremental_PSI/Scripts/')"
      ]
    },
    {
      "cell_type": "code",
      "execution_count": 34,
      "metadata": {
        "id": "qoOQOsCf7849"
      },
      "outputs": [],
      "source": [
        "import a_DataHelpers\n",
        "import b_AlgoFunctions\n",
        "import c_PredEval\n",
        "import d_CorrScores\n",
        "import e_VAEfunction"
      ]
    },
    {
      "cell_type": "code",
      "execution_count": 35,
      "metadata": {
        "id": "q3U41fqMd0bb"
      },
      "outputs": [],
      "source": [
        "# import sys\n",
        "# sys.path.append('/content/drive/MyDrive/ColabNotebooks/Research/Functions/')"
      ]
    },
    {
      "cell_type": "code",
      "execution_count": 36,
      "metadata": {
        "id": "slSdgbc1XxNT"
      },
      "outputs": [],
      "source": [
        "from a_DataHelpers import getPivotMonths,Time_DataSplit,TestTrain_DataSplit,SingleRatingMatrix\n",
        "from a_DataHelpers import AllRatingMatrices,All_SingleStepRatMat,psiStep_RatMat,psiAllStep_RatMat\n",
        "from a_DataHelpers import Find_NewUsersItems,adjustedPSI_DF,adjustedAllDF,get_NEWHoldout,ADJUST_mainDF\n",
        "from a_DataHelpers import  SingleStepRatMat_2,AllSingleStepRatMat_2\n",
        "\n",
        "from b_AlgoFunctions import integrator,getStartingValues,integratorOnMat,last_psiTrainMat, pureSVD\n",
        "from b_AlgoFunctions import Updt_RowMatrix,getRow_Mat,row_update, Updt_ColMatrix,getCol_Mat,colunm_update\n",
        "from b_AlgoFunctions import UsersItems_RatPair,getRowCol_psiupdt,ITEMS_defferredStatus,USERS_defferredStatus\n",
        "from b_AlgoFunctions import getV_listUpdate, SingleStep_UPDATE,ALLSTEPs_UPDATE\n",
        "from b_AlgoFunctions import tune_ALS,auc_score,TrainTest,mean_auc,getiALS_VUlist\n",
        "\n",
        "from c_PredEval import TopNPred,TQDMgetALLTopNPred, Hitrate_Eval,getAll_HitRate,mean_confidence_interval\n",
        "from c_PredEval import TQDMgetALLTopNPred_ALLUSERS,getALLTopNPred_ALLUSERS,get_ALLRandPred\n",
        "from c_PredEval import topN_Index,getAll_RandomHitRate,getMOSTPOP_Pred,getAll_MostPOPHitRate,getAll_MOSTPOP_Pred\n",
        "from c_PredEval import StepCoverage_Ratio,AllSteps_Coverage_Ratio,getAll_VAEMRR\n",
        "from c_PredEval import MRR_Eval,getAll_MRR_Eval,TQDMgetAll_MRR_Eval, getAll_MostPOP_MRR,getAll_RandomRecMRR\n",
        "from c_PredEval import ials_TopNPred, ials_getALLPred, ials_getALLPredTQDM,ialsALLPred_ALLUSERS\n",
        "\n",
        "from d_CorrScores import no_copy_csr_matrix,build_rank_weights_matrix,rank_weighted_jaccard_index\n",
        "from d_CorrScores import Updt_getAll_AvgCorr, updtCorr_4AllRanks\n",
        "\n",
        "from e_VAEfunction import split_users, split_train_test, numerize_data, get_TrainRatMat, getTrainTest_RatMat\n"
      ]
    },
    {
      "cell_type": "code",
      "execution_count": 148,
      "metadata": {
        "id": "g0oNy5S9Cdjf"
      },
      "outputs": [],
      "source": []
    },
    {
      "cell_type": "markdown",
      "metadata": {
        "id": "e556n8BpXy0b"
      },
      "source": [
        "## Apply Functions on *AmazonBeauty*"
      ]
    },
    {
      "cell_type": "markdown",
      "metadata": {
        "id": "15dFS1TUYbdh"
      },
      "source": [
        "###Step 1: Data Cleaning"
      ]
    },
    {
      "cell_type": "markdown",
      "metadata": {
        "id": "Kq7VUKhmJPxP"
      },
      "source": [
        "###Step 2: Import Clean Data "
      ]
    },
    {
      "cell_type": "code",
      "execution_count": 37,
      "metadata": {
        "colab": {
          "base_uri": "https://localhost:8080/",
          "height": 513
        },
        "id": "YDwA6s5IaiIe",
        "outputId": "91d4a308-6479-4b2b-8127-cfa6ae62916e"
      },
      "outputs": [
        {
          "output_type": "stream",
          "name": "stdout",
          "text": [
            "(51869, 4)\nuserId                int64\nproductId             int64\nrating                int64\ntimestamp    datetime64[ns]\ndtype: object\n"
          ]
        },
        {
          "output_type": "execute_result",
          "data": {
            "text/plain": [
              "       userId  productId  rating  timestamp\n",
              "0           0          0       1 2001-06-08\n",
              "1           1          0       1 2002-06-12\n",
              "2           1          1       1 2002-06-12\n",
              "3           2          1       1 2002-06-17\n",
              "4           3          1       1 2002-07-04\n",
              "...       ...        ...     ...        ...\n",
              "51864   21470       6687       1 2018-09-21\n",
              "51865   16839       5635       1 2018-09-21\n",
              "51866   15319       8618       1 2018-09-25\n",
              "51867   12925       5977       1 2018-09-25\n",
              "51868   22789       8619       1 2018-09-26\n",
              "\n",
              "[51869 rows x 4 columns]"
            ],
            "text/html": "<div>\n<style scoped>\n    .dataframe tbody tr th:only-of-type {\n        vertical-align: middle;\n    }\n\n    .dataframe tbody tr th {\n        vertical-align: top;\n    }\n\n    .dataframe thead th {\n        text-align: right;\n    }\n</style>\n<table border=\"1\" class=\"dataframe\">\n  <thead>\n    <tr style=\"text-align: right;\">\n      <th></th>\n      <th>userId</th>\n      <th>productId</th>\n      <th>rating</th>\n      <th>timestamp</th>\n    </tr>\n  </thead>\n  <tbody>\n    <tr>\n      <th>0</th>\n      <td>0</td>\n      <td>0</td>\n      <td>1</td>\n      <td>2001-06-08</td>\n    </tr>\n    <tr>\n      <th>1</th>\n      <td>1</td>\n      <td>0</td>\n      <td>1</td>\n      <td>2002-06-12</td>\n    </tr>\n    <tr>\n      <th>2</th>\n      <td>1</td>\n      <td>1</td>\n      <td>1</td>\n      <td>2002-06-12</td>\n    </tr>\n    <tr>\n      <th>3</th>\n      <td>2</td>\n      <td>1</td>\n      <td>1</td>\n      <td>2002-06-17</td>\n    </tr>\n    <tr>\n      <th>4</th>\n      <td>3</td>\n      <td>1</td>\n      <td>1</td>\n      <td>2002-07-04</td>\n    </tr>\n    <tr>\n      <th>...</th>\n      <td>...</td>\n      <td>...</td>\n      <td>...</td>\n      <td>...</td>\n    </tr>\n    <tr>\n      <th>51864</th>\n      <td>21470</td>\n      <td>6687</td>\n      <td>1</td>\n      <td>2018-09-21</td>\n    </tr>\n    <tr>\n      <th>51865</th>\n      <td>16839</td>\n      <td>5635</td>\n      <td>1</td>\n      <td>2018-09-21</td>\n    </tr>\n    <tr>\n      <th>51866</th>\n      <td>15319</td>\n      <td>8618</td>\n      <td>1</td>\n      <td>2018-09-25</td>\n    </tr>\n    <tr>\n      <th>51867</th>\n      <td>12925</td>\n      <td>5977</td>\n      <td>1</td>\n      <td>2018-09-25</td>\n    </tr>\n    <tr>\n      <th>51868</th>\n      <td>22789</td>\n      <td>8619</td>\n      <td>1</td>\n      <td>2018-09-26</td>\n    </tr>\n  </tbody>\n</table>\n<p>51869 rows × 4 columns</p>\n</div>"
          },
          "metadata": {},
          "execution_count": 37
        }
      ],
      "source": [
        "#AMZB_DF = /mnt/bulky/oolaleke/TDM_Dataset/AMZB_increDF.csv\n",
        "AMZB_DF = pd.read_csv('/mnt/bulky/oolaleke/TDM_Dataset/AMZ_Btyfiles/AMZB_increDF.csv') \n",
        "AMZB_DF['timestamp'] = pd.to_datetime(AMZB_DF['timestamp']) \n",
        "print(AMZB_DF.shape)   #userId_int\n",
        "print(AMZB_DF.dtypes)\n",
        "AMZB_DF"
      ]
    },
    {
      "cell_type": "code",
      "execution_count": 38,
      "metadata": {
        "colab": {
          "base_uri": "https://localhost:8080/"
        },
        "id": "2XWFDaGwFFCR",
        "outputId": "eb2aa104-dd71-4bcb-9092-e901712e8f9c"
      },
      "outputs": [
        {
          "output_type": "stream",
          "name": "stdout",
          "text": [
            "(51869, 4)\nFor users: \n22799\n22798\n\nFor items: \n8620\n8619\n\nTimestamp\n2001-06-08 00:00:00\n2018-09-26 00:00:00\n"
          ]
        }
      ],
      "source": [
        "print(AMZB_DF.shape)\n",
        "print(\"For users: \")\n",
        "print(AMZB_DF['userId'].nunique())\n",
        "print(AMZB_DF['userId'].max())\n",
        "print()\n",
        "print(\"For items: \")\n",
        "print(AMZB_DF['productId'].nunique())\n",
        "print(AMZB_DF['productId'].max())\n",
        "print()\n",
        "print(\"Timestamp\")\n",
        "print(AMZB_DF['timestamp'].min())\n",
        "print(AMZB_DF['timestamp'].max())"
      ]
    },
    {
      "cell_type": "code",
      "execution_count": 39,
      "metadata": {
        "id": "xlbzMS4hGeF3"
      },
      "outputs": [
        {
          "output_type": "stream",
          "name": "stdout",
          "text": [
            "Num of unique users:  22799\nNum of unique items:  8620\n\nAfter filtering, there are 51869 inyteractions from 22799 users and 8620 items (sparsity: 0.026%)\n"
          ]
        }
      ],
      "source": [
        "nunsers = AMZB_DF['userId'].nunique()\n",
        "nitems = AMZB_DF['productId'].nunique()\n",
        "print(\"Num of unique users: \",nunsers)\n",
        "print(\"Num of unique items: \",nitems)\n",
        "print()\n",
        "sparsity = 1. * AMZB_DF.shape[0] / (nunsers * nitems)\n",
        "\n",
        "print(\"After filtering, there are %d inyteractions from %d users and %d items (sparsity: %.3f%%)\" % \n",
        "      (AMZB_DF.shape[0], nunsers, nitems, sparsity * 100))"
      ]
    },
    {
      "cell_type": "markdown",
      "metadata": {
        "id": "XD_pQm8Lfko0"
      },
      "source": [
        "###Step 1: Data Splitting"
      ]
    },
    {
      "cell_type": "code",
      "execution_count": 40,
      "metadata": {},
      "outputs": [
        {
          "output_type": "execute_result",
          "data": {
            "text/plain": [
              "   userId  productId  rating  timestamp timestamp_YM\n",
              "0       0          0       1 2001-06-08      2001-06\n",
              "1       1          0       1 2002-06-12      2002-06\n",
              "2       1          1       1 2002-06-12      2002-06\n",
              "3       2          1       1 2002-06-17      2002-06\n",
              "4       3          1       1 2002-07-04      2002-07"
            ],
            "text/html": "<div>\n<style scoped>\n    .dataframe tbody tr th:only-of-type {\n        vertical-align: middle;\n    }\n\n    .dataframe tbody tr th {\n        vertical-align: top;\n    }\n\n    .dataframe thead th {\n        text-align: right;\n    }\n</style>\n<table border=\"1\" class=\"dataframe\">\n  <thead>\n    <tr style=\"text-align: right;\">\n      <th></th>\n      <th>userId</th>\n      <th>productId</th>\n      <th>rating</th>\n      <th>timestamp</th>\n      <th>timestamp_YM</th>\n    </tr>\n  </thead>\n  <tbody>\n    <tr>\n      <th>0</th>\n      <td>0</td>\n      <td>0</td>\n      <td>1</td>\n      <td>2001-06-08</td>\n      <td>2001-06</td>\n    </tr>\n    <tr>\n      <th>1</th>\n      <td>1</td>\n      <td>0</td>\n      <td>1</td>\n      <td>2002-06-12</td>\n      <td>2002-06</td>\n    </tr>\n    <tr>\n      <th>2</th>\n      <td>1</td>\n      <td>1</td>\n      <td>1</td>\n      <td>2002-06-12</td>\n      <td>2002-06</td>\n    </tr>\n    <tr>\n      <th>3</th>\n      <td>2</td>\n      <td>1</td>\n      <td>1</td>\n      <td>2002-06-17</td>\n      <td>2002-06</td>\n    </tr>\n    <tr>\n      <th>4</th>\n      <td>3</td>\n      <td>1</td>\n      <td>1</td>\n      <td>2002-07-04</td>\n      <td>2002-07</td>\n    </tr>\n  </tbody>\n</table>\n</div>"
          },
          "metadata": {},
          "execution_count": 40
        }
      ],
      "source": [
        "AMZB_DF.shape\n",
        "AMZB_DF['timestamp_YM'] = pd.to_datetime(AMZB_DF['timestamp']).dt.to_period('M')   ##get date appropriately \n",
        "AMZB_DF.head()"
      ]
    },
    {
      "cell_type": "code",
      "execution_count": 41,
      "metadata": {},
      "outputs": [
        {
          "output_type": "stream",
          "name": "stdout",
          "text": [
            "15291\n(30661,)\n"
          ]
        }
      ],
      "source": [
        "train_df = AMZB_DF[AMZB_DF['timestamp_YM'] < '2016-01']  \n",
        "print(train_df['userId'].nunique())\n",
        "print(train_df['userId'].shape)  ##~60%"
      ]
    },
    {
      "cell_type": "code",
      "execution_count": 42,
      "metadata": {},
      "outputs": [
        {
          "output_type": "stream",
          "name": "stdout",
          "text": [
            "10653\n(21208, 5)\n"
          ]
        }
      ],
      "source": [
        "remainder_df = AMZB_DF[AMZB_DF['timestamp_YM'] >= '2016-01']  \n",
        "print(remainder_df['userId'].nunique())\n",
        "print(remainder_df.shape)"
      ]
    },
    {
      "cell_type": "code",
      "execution_count": 43,
      "metadata": {},
      "outputs": [],
      "source": [
        "# all_df = np.array_split(remainder_df, 23)  #[2]['userId'].nunique()\n",
        "# print(\"Number of steps: \",len(all_df))  \n",
        "# for df in all_df:\n",
        "#     print(df['userId'].nunique())\n"
      ]
    },
    {
      "cell_type": "code",
      "execution_count": 44,
      "metadata": {},
      "outputs": [
        {
          "output_type": "stream",
          "name": "stdout",
          "text": [
            "\nNumber of steps:  18\n794\n805\n817\n809\n852\n799\n805\n839\n829\n801\n811\n812\n820\n868\n787\n847\n789\n580\n"
          ]
        }
      ],
      "source": [
        "n = 1200  #num_of_interaction/no_steps (3%-5%)\n",
        "all_df = []\n",
        "for g, df in remainder_df.groupby(np.arange(len(remainder_df)) // n):\n",
        "    all_df.append(df)\n",
        "    \n",
        "print()\n",
        "print(\"Number of steps: \",g+1)  \n",
        "for df in all_df:\n",
        "    print(df['userId'].nunique())\n",
        "    #print(df['timestamp'].min())\n",
        "    #print(df['timestamp'].max())\n",
        "    #print()"
      ]
    },
    {
      "cell_type": "code",
      "execution_count": 45,
      "metadata": {},
      "outputs": [
        {
          "output_type": "stream",
          "name": "stdout",
          "text": [
            "Initial Training Data: \nStart Time:  2001-06-08 00:00:00\nEnd Time:    2015-12-31 00:00:00\n\nNum of interactions:  30661\nNum of uniqueUsers:   15291\n"
          ]
        }
      ],
      "source": [
        "A0_df = train_df  \n",
        "print(\"Initial Training Data: \") \n",
        "print(\"Start Time: \",A0_df['timestamp'].min())\n",
        "print(\"End Time:   \",A0_df['timestamp'].max())\n",
        "print()\n",
        "print(\"Num of interactions: \",A0_df.shape[0])\n",
        "print(\"Num of uniqueUsers:  \",A0_df['userId'].nunique())"
      ]
    },
    {
      "cell_type": "code",
      "execution_count": 46,
      "metadata": {},
      "outputs": [
        {
          "output_type": "stream",
          "name": "stdout",
          "text": [
            "Incremental Train steps:  8\nStart Time:  2016-01-01 00:00:00\nEnd Time:    2016-09-19 00:00:00\n"
          ]
        }
      ],
      "source": [
        "\n",
        "ΔA_train = all_df[:8] \n",
        "print(\"Incremental Train steps: \",len(ΔA_train))\n",
        "print(\"Start Time: \",ΔA_train[0]['timestamp'].min())\n",
        "print(\"End Time:   \",ΔA_train[-1]['timestamp'].max())\n",
        "\n",
        "#,ΔA_train,ΔA_test "
      ]
    },
    {
      "cell_type": "code",
      "execution_count": 47,
      "metadata": {},
      "outputs": [
        {
          "output_type": "stream",
          "name": "stdout",
          "text": [
            "Incremental Test steps:  10\nStart Time:  2016-09-19 00:00:00\nEnd Time:    2018-09-26 00:00:00\n"
          ]
        }
      ],
      "source": [
        "ΔA_test = all_df[8:] \n",
        "print(\"Incremental Test steps: \",len(ΔA_test))\n",
        "print(\"Start Time: \",ΔA_test[0]['timestamp'].min())\n",
        "print(\"End Time:   \",ΔA_test[-1]['timestamp'].max())"
      ]
    },
    {
      "cell_type": "code",
      "execution_count": 48,
      "metadata": {},
      "outputs": [
        {
          "output_type": "execute_result",
          "data": {
            "text/plain": [
              "Timestamp('2016-11-01 00:00:00')"
            ]
          },
          "metadata": {},
          "execution_count": 48
        }
      ],
      "source": [
        "ΔA_test[0]['timestamp'].max()"
      ]
    },
    {
      "cell_type": "code",
      "execution_count": 34,
      "metadata": {
        "colab": {
          "base_uri": "https://localhost:8080/"
        },
        "id": "wrP1xsoKbkP2",
        "outputId": "16e2d512-5f02-4aa1-a3ac-76b2083f58ee"
      },
      "outputs": [],
      "source": [
        "# pivotMonths_list = getPivotMonths(AMZB_DF,'timestamp',N_TMonths=18)  \n",
        "# pivotMonths_list\n",
        "\n",
        "# A0_df,ΔA_train,ΔA_test = Time_DataSplit(AMZB_DF,'timestamp',pivotMonths_list,N_TMonths= 18,n_train=10)\n",
        "# print('Last date in A0_df :',A0_df['timestamp'].max())\n",
        "# print('Num ΔA_train :', len(ΔA_train))\n",
        "\n",
        "# AllDF_list, PSITest_list, HOLDOUT_list, UserItemDF_list = TestTrain_DataSplit(AMZB_DF,'userId','timestamp',pivotMonths_list,ΔA_test)\n",
        "# print('Num AllDF_list :', len(AllDF_list))"
      ]
    },
    {
      "cell_type": "code",
      "execution_count": 49,
      "metadata": {},
      "outputs": [],
      "source": [
        "def TestTrain_DataSplit(DF,user_column,time_column,ΔA_test):\n",
        "    AllDF_list  =  []\n",
        "    PSITest_list = []\n",
        "    HOLDOUT_list = []\n",
        "    UserItemDF_list = []\n",
        "    ts = DF[time_column]\n",
        "    for test_ in ΔA_test:\n",
        "        train_ = DF.loc[ts < test_[time_column].min()]\n",
        "        test_sorted = test_.sort_values(time_column)\n",
        "        test_idx = [x[-1] for x in test_sorted.index.groupby(test_sorted[user_column]).values()]\n",
        "    \n",
        "        holdout = test_.loc[test_idx]\n",
        "        psi_test = test_.drop(test_idx)\n",
        "        all_df_ = DF.loc[ts <= test_[time_column].max()] \n",
        "        useritem_df = pd.concat([train_,test_.drop(test_idx)], axis = 0)  ##remove holdout items\n",
        "        \n",
        "        PSITest_list.append(psi_test)\n",
        "        HOLDOUT_list.append(holdout)\n",
        "        AllDF_list.append(all_df_)\n",
        "        UserItemDF_list.append(useritem_df)\n",
        "\n",
        "    return AllDF_list, PSITest_list, HOLDOUT_list,UserItemDF_list"
      ]
    },
    {
      "cell_type": "code",
      "execution_count": 50,
      "metadata": {},
      "outputs": [],
      "source": [
        "AllDF_list, PSITest_list, HOLDOUT_list,UserItemDF_list = TestTrain_DataSplit(AMZB_DF,'userId','timestamp',ΔA_test)"
      ]
    },
    {
      "cell_type": "code",
      "execution_count": 51,
      "metadata": {},
      "outputs": [
        {
          "output_type": "stream",
          "name": "stdout",
          "text": [
            "2001-06-08 00:00:00\n2016-12-18 00:00:00\n\n2016-11-01 00:00:00\n2016-12-18 00:00:00\n"
          ]
        }
      ],
      "source": [
        "print(AllDF_list[1]['timestamp'].min())\n",
        "print(AllDF_list[1]['timestamp'].max())\n",
        "print()\n",
        "print(ΔA_test[1]['timestamp'].min())\n",
        "print(ΔA_test[1]['timestamp'].max())"
      ]
    },
    {
      "cell_type": "code",
      "execution_count": 52,
      "metadata": {},
      "outputs": [
        {
          "output_type": "stream",
          "name": "stdout",
          "text": [
            "19611 19612\n20071 20072\n20498 20499\n20915 20916\n21303 21304\n21676 21677\n21971 21972\n22297 22298\n22644 22645\n22798 22799\n"
          ]
        }
      ],
      "source": [
        "for i in range(10):\n",
        "    print(AllDF_list[i]['userId'].max(),AllDF_list[i]['userId'].nunique())"
      ]
    },
    {
      "cell_type": "code",
      "execution_count": 53,
      "metadata": {},
      "outputs": [
        {
          "output_type": "stream",
          "name": "stdout",
          "text": [
            "(1200, 5)\n(389, 5)\n811\n"
          ]
        }
      ],
      "source": [
        "print(ΔA_test[2].shape)\n",
        "print(PSITest_list[2].shape)\n",
        "print(HOLDOUT_list[2]['userId'].nunique())"
      ]
    },
    {
      "cell_type": "code",
      "execution_count": 54,
      "metadata": {
        "colab": {
          "base_uri": "https://localhost:8080/"
        },
        "id": "IFIEfHbaGkcJ",
        "outputId": "c28eea05-9f07-45bb-b3db-0604d4c37f23"
      },
      "outputs": [
        {
          "output_type": "stream",
          "name": "stdout",
          "text": [
            "(41472, 5)\n(40609, 5)\n(829, 5)\n"
          ]
        }
      ],
      "source": [
        "print(AllDF_list[0].shape)\n",
        "print(UserItemDF_list[0].shape)\n",
        "print(HOLDOUT_list[0].shape)"
      ]
    },
    {
      "cell_type": "code",
      "execution_count": null,
      "metadata": {},
      "outputs": [],
      "source": []
    },
    {
      "cell_type": "markdown",
      "metadata": {
        "id": "dzWCij3ZipQX"
      },
      "source": [
        "### Step 2: Find new users and items"
      ]
    },
    {
      "cell_type": "code",
      "execution_count": 55,
      "metadata": {
        "colab": {
          "base_uri": "https://localhost:8080/"
        },
        "id": "L-GolZfZipQZ",
        "outputId": "aa9d3925-b4b0-47e1-de55-be613fe02d24"
      },
      "outputs": [
        {
          "output_type": "stream",
          "name": "stdout",
          "text": [
            "ΔA_train_last max date:  2016-09-19 00:00:00\n2001-06-08 00:00:00\n2016-09-19 00:00:00\n\n2001-06-08 00:00:00\n2016-11-01 00:00:00\n"
          ]
        }
      ],
      "source": [
        "Tstps = AMZB_DF['timestamp']\n",
        "tr_ts = ΔA_train[-1]['timestamp'].max()\n",
        "print(\"ΔA_train_last max date: \",tr_ts)\n",
        "AllDF_start = AMZB_DF.loc[Tstps <= tr_ts] \n",
        "print(AllDF_start['timestamp'].min())\n",
        "print(AllDF_start['timestamp'].max())\n",
        "print()\n",
        "print(AllDF_list[0]['timestamp'].min())\n",
        "print(AllDF_list[0]['timestamp'].max())"
      ]
    },
    {
      "cell_type": "code",
      "execution_count": 56,
      "metadata": {
        "colab": {
          "base_uri": "https://localhost:8080/"
        },
        "id": "GfgYKuugA3lO",
        "outputId": "07293a06-18d6-4146-f84a-8836b20bc015"
      },
      "outputs": [
        {
          "output_type": "stream",
          "name": "stdout",
          "text": [
            "[19169 19170 19171 19172 19173 19174 19175 19176 19177 19178]\n\n[6515 6516 6517 6518 6519 6520 6521 6522 6523 6524]\n"
          ]
        }
      ],
      "source": [
        "New_usersList,New_itemsList = Find_NewUsersItems(AllDF_start,AllDF_list,'userId','productId',N_steps=10)\n",
        "print(New_usersList[0][:10]) #\n",
        "print()\n",
        "print(New_itemsList[0][:10]) #"
      ]
    },
    {
      "cell_type": "code",
      "execution_count": 57,
      "metadata": {
        "colab": {
          "base_uri": "https://localhost:8080/"
        },
        "id": "KXIsxxPnjhx2",
        "outputId": "bf1c1858-4436-4c96-e75d-55624089bd8b"
      },
      "outputs": [
        {
          "output_type": "stream",
          "name": "stdout",
          "text": [
            "users,Items\n443 274\n\n460 277\n\n427 224\n\n417 238\n\n388 249\n\n373 232\n\n295 101\n\n326 190\n\n347 186\n\n154 134\n\n"
          ]
        }
      ],
      "source": [
        "print(\"users,Items\")\n",
        "for i,j in zip(New_usersList,New_itemsList):\n",
        "    print(i.size,j.size)\n",
        "    print()\n",
        "    "
      ]
    },
    {
      "cell_type": "code",
      "execution_count": null,
      "metadata": {
        "id": "1ykECNc7G4GL"
      },
      "outputs": [],
      "source": []
    },
    {
      "cell_type": "markdown",
      "metadata": {
        "id": "n_XyE7otUxey"
      },
      "source": [
        "###Get Updt RatMat"
      ]
    },
    {
      "cell_type": "code",
      "execution_count": 58,
      "metadata": {
        "colab": {
          "base_uri": "https://localhost:8080/"
        },
        "id": "-S_Ti3jIVmL7",
        "outputId": "c73fe5ee-6aea-4bd2-86d5-5c1f31e1a6d2"
      },
      "outputs": [
        {
          "output_type": "stream",
          "name": "stdout",
          "text": [
            "(30661, 5)\n"
          ]
        },
        {
          "output_type": "execute_result",
          "data": {
            "text/plain": [
              "<19169x6515 sparse matrix of type '<class 'numpy.float64'>'\n",
              "\twith 30415 stored elements in Compressed Sparse Row format>"
            ]
          },
          "metadata": {},
          "execution_count": 58
        }
      ],
      "source": [
        "rows_i = AllDF_start['userId'].nunique()\n",
        "cols_i = AllDF_start['productId'].nunique()\n",
        "print(A0_df.shape)\n",
        "A0_RatMat_updt = SingleRatingMatrix(A0_df,'userId', 'productId',rows_i,cols_i)\n",
        "A0_RatMat_updt"
      ]
    },
    {
      "cell_type": "code",
      "execution_count": 59,
      "metadata": {
        "colab": {
          "base_uri": "https://localhost:8080/"
        },
        "id": "9bSWovTNVmMX",
        "outputId": "3ff1e108-67c9-40fc-8f18-966adbcba55c"
      },
      "outputs": [
        {
          "output_type": "execute_result",
          "data": {
            "text/plain": [
              "[<19169x6515 sparse matrix of type '<class 'numpy.float64'>'\n",
              " \twith 1197 stored elements in Compressed Sparse Row format>,\n",
              " <19169x6515 sparse matrix of type '<class 'numpy.float64'>'\n",
              " \twith 1199 stored elements in Compressed Sparse Row format>,\n",
              " <19169x6515 sparse matrix of type '<class 'numpy.float64'>'\n",
              " \twith 1197 stored elements in Compressed Sparse Row format>,\n",
              " <19169x6515 sparse matrix of type '<class 'numpy.float64'>'\n",
              " \twith 1199 stored elements in Compressed Sparse Row format>,\n",
              " <19169x6515 sparse matrix of type '<class 'numpy.float64'>'\n",
              " \twith 1199 stored elements in Compressed Sparse Row format>,\n",
              " <19169x6515 sparse matrix of type '<class 'numpy.float64'>'\n",
              " \twith 1200 stored elements in Compressed Sparse Row format>,\n",
              " <19169x6515 sparse matrix of type '<class 'numpy.float64'>'\n",
              " \twith 1200 stored elements in Compressed Sparse Row format>,\n",
              " <19169x6515 sparse matrix of type '<class 'numpy.float64'>'\n",
              " \twith 1200 stored elements in Compressed Sparse Row format>]"
            ]
          },
          "metadata": {},
          "execution_count": 59
        }
      ],
      "source": [
        "PSI_TrainMat_updt = AllRatingMatrices(ΔA_train,'userId','productId',rows_i ,cols_i)\n",
        "PSI_TrainMat_updt"
      ]
    },
    {
      "cell_type": "code",
      "execution_count": null,
      "metadata": {
        "id": "X9B1wEG8YUQa"
      },
      "outputs": [],
      "source": []
    },
    {
      "cell_type": "markdown",
      "metadata": {
        "id": "A0k3BxpQCEDK"
      },
      "source": [
        "### Allsteps Update"
      ]
    },
    {
      "cell_type": "code",
      "execution_count": null,
      "metadata": {
        "id": "RrhIaattvMvN"
      },
      "outputs": [],
      "source": [
        "# rows_i = AllDF_start['userId'].nunique()\n",
        "# cols_i = AllDF_start['productId'].nunique()\n",
        "# print(AllDF_start.shape)\n",
        "# AllDF_startRatMat = SingleRatingMatrix(AllDF_start,'userId', 'productId',rows_i,cols_i)\n",
        "\n",
        "# U_start,S_start,V_start = svds(AllDF_startRatMat,k=50)\n",
        "# V_start = V_start.T\n",
        "# print()\n",
        "# print(\"U_start shape: \",U_start.shape)\n",
        "# print(\"S_start shape: \",S_start.shape)\n",
        "# print(\"V_start shape: \",V_start.shape)"
      ]
    },
    {
      "cell_type": "code",
      "execution_count": null,
      "metadata": {
        "id": "3cEAR8lWvMv0"
      },
      "outputs": [],
      "source": []
    },
    {
      "cell_type": "code",
      "execution_count": 60,
      "metadata": {
        "colab": {
          "base_uri": "https://localhost:8080/"
        },
        "id": "gZKKzIA4UPAt",
        "outputId": "c4e8f520-7013-4d87-c1cf-ff5eb3844b6c"
      },
      "outputs": [
        {
          "output_type": "stream",
          "name": "stderr",
          "text": [
            "100%|██████████| 8/8 [00:00<00:00, 20.83it/s]\n",
            "U_start shape:  (19169, 70)\n",
            "S_start shape:  (70, 70)\n",
            "V_start shape:  (6515, 70)\n",
            "\n"
          ]
        }
      ],
      "source": [
        "U_start,S_start,V_start = last_psiTrainMat(A0_RatMat_updt,PSI_TrainMat_updt,k=70)\n",
        "print()\n",
        "print(\"U_start shape: \",U_start.shape)\n",
        "print(\"S_start shape: \",S_start.shape)\n",
        "print(\"V_start shape: \",V_start.shape)"
      ]
    },
    {
      "cell_type": "code",
      "execution_count": 62,
      "metadata": {
        "colab": {
          "base_uri": "https://localhost:8080/"
        },
        "id": "1c2frghJa9qQ",
        "outputId": "bf4b9614-fae8-4573-e112-6c0587f6580e"
      },
      "outputs": [
        {
          "output_type": "stream",
          "name": "stdout",
          "text": [
            "1 1\n"
          ]
        }
      ],
      "source": [
        "U_list,S_list,V_list = [],[],[]\n",
        "U_list.append(U_start)\n",
        "S_list.append(S_start)\n",
        "V_list.append(V_start)\n",
        "print(len(U_list),len(V_list))"
      ]
    },
    {
      "cell_type": "code",
      "execution_count": 63,
      "metadata": {},
      "outputs": [
        {
          "output_type": "stream",
          "name": "stderr",
          "text": [
            "100%|██████████| 9/9 [01:59<00:00, 13.29s/it]\n"
          ]
        }
      ],
      "source": [
        "DItems_, DUsers_,In_DomainUSERS,In_DomainITEMS,userID_dict,itemID_dict,AllUpdtUSERS_,AllUpdtITEMS_,U_list,S_list,V_list = ALLSTEPs_UPDATE(AllDF_start,UserItemDF_list,New_itemsList,New_usersList,U_list,S_list,V_list,'userId','productId',Nsteps=10,k=70,Forced_Orth=False)"
      ]
    },
    {
      "cell_type": "code",
      "execution_count": null,
      "metadata": {
        "id": "rdX0nPyQz1LO"
      },
      "outputs": [],
      "source": []
    },
    {
      "cell_type": "markdown",
      "metadata": {
        "id": "H9o1U4E-zttV"
      },
      "source": [
        "#### Output Check"
      ]
    },
    {
      "cell_type": "code",
      "execution_count": 64,
      "metadata": {},
      "outputs": [
        {
          "output_type": "stream",
          "name": "stdout",
          "text": [
            "6514\n19168\n"
          ]
        }
      ],
      "source": [
        "print(AllDF_start['productId'].max())\n",
        "print(AllDF_start['userId'].max())"
      ]
    },
    {
      "cell_type": "code",
      "execution_count": 65,
      "metadata": {
        "colab": {
          "base_uri": "https://localhost:8080/"
        },
        "id": "0J4Qrzf9OvVN",
        "outputId": "55614d54-493f-498c-f4ed-7af591e48114"
      },
      "outputs": [
        {
          "output_type": "stream",
          "name": "stdout",
          "text": [
            "1594\n[6515, 6516, 6526, 6530, 6550, 6552, 6586, 6588, 6598, 6619]\n\n3388\n[19169, 19170, 19172, 19176, 19177, 19178, 19180, 19182, 19183, 19185]\n"
          ]
        }
      ],
      "source": [
        "print(len(In_DomainITEMS[6514+1:]))\n",
        "print(In_DomainITEMS[6514+1:][:10])\n",
        "print()\n",
        "print(len(In_DomainUSERS[19168+1:]))\n",
        "print(In_DomainUSERS[19168+1:][:10])"
      ]
    },
    {
      "cell_type": "code",
      "execution_count": 66,
      "metadata": {
        "colab": {
          "base_uri": "https://localhost:8080/"
        },
        "id": "5vpSt3xLOvVU",
        "outputId": "e6aa00d0-e415-47b4-92bf-f4304cfedf39"
      },
      "outputs": [
        {
          "output_type": "stream",
          "name": "stdout",
          "text": [
            "511\n[8486, 8487, 8488, 8489, 8490, 8491, 8492, 8493, 8494, 8495]\n\n242\n[22646, 22651, 22653, 22659, 22661, 22676, 22677, 22706, 22729, 22733]\n"
          ]
        }
      ],
      "source": [
        "#deferred items and users\n",
        "print(len(DItems_))\n",
        "print(DItems_[:10])\n",
        "print()\n",
        "print(len(DUsers_))\n",
        "print(DUsers_[:10])"
      ]
    },
    {
      "cell_type": "code",
      "execution_count": 67,
      "metadata": {
        "colab": {
          "base_uri": "https://localhost:8080/"
        },
        "id": "fYRgZGwlOvVW",
        "outputId": "185320cf-41bf-48a3-c031-570ab5236543",
        "tags": []
      },
      "outputs": [
        {
          "output_type": "stream",
          "name": "stdout",
          "text": [
            "Id: 6515, UpdtId: 6515 \nId: 6516, UpdtId: 6516 \nId: 6526, UpdtId: 6517 \nId: 6530, UpdtId: 6518 \nId: 6550, UpdtId: 6519 \nId: 6552, UpdtId: 6520 \nId: 6586, UpdtId: 6521 \nId: 6588, UpdtId: 6522 \nId: 6598, UpdtId: 6523 \nId: 6619, UpdtId: 6524 \nId: 6620, UpdtId: 6525 \nId: 6630, UpdtId: 6526 \nId: 6632, UpdtId: 6527 \nId: 6645, UpdtId: 6528 \nId: 6661, UpdtId: 6529 \nId: 6662, UpdtId: 6530 \nId: 6666, UpdtId: 6531 \nId: 6578, UpdtId: 6532 \nId: 6579, UpdtId: 6533 \nId: 6621, UpdtId: 6534 \nId: 6679, UpdtId: 6535 \nId: 6778, UpdtId: 6536 \nId: 6792, UpdtId: 6537 \nId: 6803, UpdtId: 6538 \nId: 6815, UpdtId: 6539 \nId: 6830, UpdtId: 6540 \nId: 6844, UpdtId: 6541 \nId: 6881, UpdtId: 6542 \nId: 6518, UpdtId: 6543 \nId: 6520, UpdtId: 6544 \nId: 6524, UpdtId: 6545 \nId: 6533, UpdtId: 6546 \nId: 6534, UpdtId: 6547 \nId: 6539, UpdtId: 6548 \nId: 6542, UpdtId: 6549 \nId: 6543, UpdtId: 6550 \nId: 6544, UpdtId: 6551 \nId: 6545, UpdtId: 6552 \nId: 6549, UpdtId: 6553 \nId: 6553, UpdtId: 6554 \nId: 6557, UpdtId: 6555 \nId: 6558, UpdtId: 6556 \nId: 6561, UpdtId: 6557 \nId: 6565, UpdtId: 6558 \nId: 6567, UpdtId: 6559 \nId: 6568, UpdtId: 6560 \nId: 6569, UpdtId: 6561 \nId: 6570, UpdtId: 6562 \nId: 6571, UpdtId: 6563 \nId: 6572, UpdtId: 6564 \nId: 6573, UpdtId: 6565 \nId: 6574, UpdtId: 6566 \nId: 6575, UpdtId: 6567 \nId: 6582, UpdtId: 6568 \nId: 6583, UpdtId: 6569 \nId: 6584, UpdtId: 6570 \nId: 6585, UpdtId: 6571 \nId: 6587, UpdtId: 6572 \nId: 6589, UpdtId: 6573 \nId: 6591, UpdtId: 6574 \nId: 6592, UpdtId: 6575 \nId: 6597, UpdtId: 6576 \nId: 6600, UpdtId: 6577 \nId: 6601, UpdtId: 6578 \nId: 6602, UpdtId: 6579 \nId: 6604, UpdtId: 6580 \nId: 6605, UpdtId: 6581 \nId: 6610, UpdtId: 6582 \nId: 6611, UpdtId: 6583 \nId: 6612, UpdtId: 6584 \nId: 6613, UpdtId: 6585 \nId: 6614, UpdtId: 6586 \nId: 6616, UpdtId: 6587 \nId: 6623, UpdtId: 6588 \nId: 6626, UpdtId: 6589 \nId: 6627, UpdtId: 6590 \nId: 6628, UpdtId: 6591 \nId: 6629, UpdtId: 6592 \nId: 6631, UpdtId: 6593 \nId: 6633, UpdtId: 6594 \nId: 6636, UpdtId: 6595 \nId: 6638, UpdtId: 6596 \nId: 6639, UpdtId: 6597 \nId: 6640, UpdtId: 6598 \nId: 6646, UpdtId: 6599 \nId: 6648, UpdtId: 6600 \nId: 6649, UpdtId: 6601 \nId: 6650, UpdtId: 6602 \nId: 6652, UpdtId: 6603 \nId: 6654, UpdtId: 6604 \nId: 6657, UpdtId: 6605 \nId: 6668, UpdtId: 6606 \nId: 6669, UpdtId: 6607 \nId: 6672, UpdtId: 6608 \nId: 6673, UpdtId: 6609 \nId: 6674, UpdtId: 6610 \nId: 6675, UpdtId: 6611 \nId: 6676, UpdtId: 6612 \nId: 6681, UpdtId: 6613 \nId: 6683, UpdtId: 6614 \n"
          ]
        }
      ],
      "source": [
        "for x in list(itemID_dict)[6514+1:][:100]:\n",
        "    print (\"Id: {}, UpdtId: {} \".format(x,  itemID_dict[x]))   ##id ==key || updtedid == values  ,itemID_dict"
      ]
    },
    {
      "cell_type": "code",
      "execution_count": 68,
      "metadata": {
        "colab": {
          "base_uri": "https://localhost:8080/"
        },
        "id": "XP6aaq1qOvVY",
        "outputId": "653bb770-1c08-434f-964b-8f96b46575fc",
        "tags": []
      },
      "outputs": [
        {
          "output_type": "stream",
          "name": "stdout",
          "text": [
            "Id: 19169, UpdtId: 19169 \nId: 19170, UpdtId: 19170 \nId: 19172, UpdtId: 19171 \nId: 19176, UpdtId: 19172 \nId: 19177, UpdtId: 19173 \nId: 19178, UpdtId: 19174 \nId: 19180, UpdtId: 19175 \nId: 19182, UpdtId: 19176 \nId: 19183, UpdtId: 19177 \nId: 19185, UpdtId: 19178 \nId: 19186, UpdtId: 19179 \nId: 19193, UpdtId: 19180 \nId: 19194, UpdtId: 19181 \nId: 19196, UpdtId: 19182 \nId: 19197, UpdtId: 19183 \nId: 19198, UpdtId: 19184 \nId: 19201, UpdtId: 19185 \nId: 19202, UpdtId: 19186 \nId: 19203, UpdtId: 19187 \nId: 19209, UpdtId: 19188 \nId: 19210, UpdtId: 19189 \nId: 19212, UpdtId: 19190 \nId: 19217, UpdtId: 19191 \nId: 19220, UpdtId: 19192 \nId: 19223, UpdtId: 19193 \nId: 19224, UpdtId: 19194 \nId: 19226, UpdtId: 19195 \nId: 19230, UpdtId: 19196 \nId: 19232, UpdtId: 19197 \nId: 19234, UpdtId: 19198 \nId: 19235, UpdtId: 19199 \nId: 19236, UpdtId: 19200 \nId: 19238, UpdtId: 19201 \nId: 19240, UpdtId: 19202 \nId: 19242, UpdtId: 19203 \nId: 19245, UpdtId: 19204 \nId: 19250, UpdtId: 19205 \nId: 19251, UpdtId: 19206 \nId: 19254, UpdtId: 19207 \nId: 19255, UpdtId: 19208 \nId: 19257, UpdtId: 19209 \nId: 19259, UpdtId: 19210 \nId: 19261, UpdtId: 19211 \nId: 19263, UpdtId: 19212 \nId: 19264, UpdtId: 19213 \nId: 19265, UpdtId: 19214 \nId: 19266, UpdtId: 19215 \nId: 19267, UpdtId: 19216 \nId: 19268, UpdtId: 19217 \nId: 19269, UpdtId: 19218 \nId: 19271, UpdtId: 19219 \nId: 19272, UpdtId: 19220 \nId: 19276, UpdtId: 19221 \nId: 19278, UpdtId: 19222 \nId: 19280, UpdtId: 19223 \nId: 19281, UpdtId: 19224 \nId: 19282, UpdtId: 19225 \nId: 19284, UpdtId: 19226 \nId: 19285, UpdtId: 19227 \nId: 19287, UpdtId: 19228 \nId: 19288, UpdtId: 19229 \nId: 19289, UpdtId: 19230 \nId: 19292, UpdtId: 19231 \nId: 19293, UpdtId: 19232 \nId: 19294, UpdtId: 19233 \nId: 19296, UpdtId: 19234 \nId: 19297, UpdtId: 19235 \nId: 19298, UpdtId: 19236 \nId: 19299, UpdtId: 19237 \nId: 19300, UpdtId: 19238 \nId: 19302, UpdtId: 19239 \nId: 19307, UpdtId: 19240 \nId: 19309, UpdtId: 19241 \nId: 19310, UpdtId: 19242 \nId: 19311, UpdtId: 19243 \nId: 19312, UpdtId: 19244 \nId: 19313, UpdtId: 19245 \nId: 19314, UpdtId: 19246 \nId: 19315, UpdtId: 19247 \nId: 19317, UpdtId: 19248 \nId: 19319, UpdtId: 19249 \nId: 19320, UpdtId: 19250 \nId: 19321, UpdtId: 19251 \nId: 19323, UpdtId: 19252 \nId: 19327, UpdtId: 19253 \nId: 19330, UpdtId: 19254 \nId: 19331, UpdtId: 19255 \nId: 19332, UpdtId: 19256 \nId: 19333, UpdtId: 19257 \nId: 19335, UpdtId: 19258 \nId: 19340, UpdtId: 19259 \nId: 19344, UpdtId: 19260 \nId: 19345, UpdtId: 19261 \nId: 19347, UpdtId: 19262 \nId: 19349, UpdtId: 19263 \nId: 19352, UpdtId: 19264 \nId: 19355, UpdtId: 19265 \nId: 19357, UpdtId: 19266 \nId: 19358, UpdtId: 19267 \nId: 19359, UpdtId: 19268 \n"
          ]
        }
      ],
      "source": [
        "for x in list(userID_dict)[19169:][:100]:\n",
        "    print (\"Id: {}, UpdtId: {} \".format(x,  userID_dict[x]))   ##id ==key || updtedid == values "
      ]
    },
    {
      "cell_type": "code",
      "execution_count": 69,
      "metadata": {
        "colab": {
          "base_uri": "https://localhost:8080/"
        },
        "id": "9hrMshBYOvVa",
        "outputId": "1fcf1ed5-3f98-4a55-a24b-6d45c7b73f21"
      },
      "outputs": [
        {
          "output_type": "stream",
          "name": "stdout",
          "text": [
            "11 11\n(19169, 70) (6515, 70)\n\n(19386, 70) (6537, 70)\n(19763, 70) (6694, 70)\n(20149, 70) (6873, 70)\n(20538, 70) (7034, 70)\n(20916, 70) (7224, 70)\n(21244, 70) (7428, 70)\n(21630, 70) (7645, 70)\n(21959, 70) (7748, 70)\n(22315, 70) (7914, 70)\n(22557, 70) (8109, 70)\n"
          ]
        }
      ],
      "source": [
        "print(len(U_list),len(V_list))\n",
        "print(U_list[0].shape,V_list[0].shape)\n",
        "print()\n",
        "for u,v in zip(U_list[1:],V_list[1:]):\n",
        "    print(u.shape,v.shape)   "
      ]
    },
    {
      "cell_type": "code",
      "execution_count": 70,
      "metadata": {
        "colab": {
          "base_uri": "https://localhost:8080/"
        },
        "id": "xOQC6r84_ju1",
        "outputId": "e836e928-6992-4d65-97a0-7942b7dd02be"
      },
      "outputs": [
        {
          "output_type": "stream",
          "name": "stdout",
          "text": [
            "19386 6537\n19763 6694\n20149 6873\n20538 7034\n20916 7224\n21244 7428\n21630 7645\n21959 7748\n22315 7914\n22557 8109\n"
          ]
        }
      ],
      "source": [
        "for i,j in zip(AllUpdtUSERS_,AllUpdtITEMS_):\n",
        "    print(len(i),len(j))"
      ]
    },
    {
      "cell_type": "code",
      "execution_count": 71,
      "metadata": {
        "colab": {
          "base_uri": "https://localhost:8080/"
        },
        "id": "AMjo4AbxOvVc",
        "outputId": "82ef4864-1a74-44b7-ce14-ba4aec675ef3"
      },
      "outputs": [
        {
          "output_type": "stream",
          "name": "stdout",
          "text": [
            "22557 8109\n22799 8620\n"
          ]
        }
      ],
      "source": [
        "print(len(In_DomainUSERS),len(In_DomainITEMS))\n",
        "print(AMZB_DF['userId'].nunique(),AMZB_DF['productId'].nunique())"
      ]
    },
    {
      "cell_type": "markdown",
      "metadata": {
        "id": "nNpsng5z8doR"
      },
      "source": [
        "Data Adjustments"
      ]
    },
    {
      "cell_type": "markdown",
      "metadata": {
        "id": "U8YcpbXKpAMG"
      },
      "source": [
        "#### Data Adjustment"
      ]
    },
    {
      "cell_type": "code",
      "execution_count": 72,
      "metadata": {},
      "outputs": [
        {
          "output_type": "execute_result",
          "data": {
            "text/plain": [
              "10"
            ]
          },
          "metadata": {},
          "execution_count": 72
        }
      ],
      "source": [
        "len(AllUpdtITEMS_)"
      ]
    },
    {
      "cell_type": "code",
      "execution_count": 46,
      "metadata": {},
      "outputs": [],
      "source": [
        "\n",
        "def get_NEWHoldout(HOLDOUT_list,userID_dict,itemID_dict,AllUpdtUSERS_,AllUpdtITEMS_,user_col,item_col):\n",
        "    newHOLDOUT_LIST =  []\n",
        "    for DF,Updt_Users,Updt_Items in tqdm(zip(HOLDOUT_list,AllUpdtUSERS_,AllUpdtITEMS_)):\n",
        "        df = DF.copy()\n",
        "        newHOLDOUT_ =   df.loc[(df[item_col].isin(Updt_Items)) & (df[user_col].isin(Updt_Users))]#\n",
        "        newHOLDOUT_ =   newHOLDOUT_[[user_col,item_col]]\n",
        "\n",
        "        prevUser_ID =   newHOLDOUT_[user_col].values  ##\n",
        "        prevItems_ID =  newHOLDOUT_[item_col].values   #\n",
        "        Updted_UserID = [userID_dict.get(user) for user in prevUser_ID]   \n",
        "        Updted_ItemID = [itemID_dict.get(item) for item in prevItems_ID]\n",
        "\n",
        "        newHOLDOUT_['Updated_UserID'] = Updted_UserID\n",
        "        newHOLDOUT_['Updated_ItemID'] = Updted_ItemID\n",
        "        newHOLDOUT_LIST.append(newHOLDOUT_)\n",
        "    return  newHOLDOUT_LIST\n",
        "\n",
        "\n",
        "def adjustedAllDF(AllDF_list,userID_dict,itemID_dict,AllUpdtUSERS_,AllUpdtITEMS_,user_col,item_col):\n",
        "    newAllDF_list =[]\n",
        "    for DF, Updt_Users, Updt_Items in tqdm(zip(AllDF_list,AllUpdtUSERS_,AllUpdtITEMS_)):\n",
        "        df = DF.copy()\n",
        "        df = df[[user_col,item_col]]\n",
        "        allnew_df     = df.loc[(df[item_col].isin(Updt_Items)) & (df[user_col].isin(Updt_Users))]\n",
        "\n",
        "        prevUser_ID =   allnew_df[user_col].values  \n",
        "        prevItems_ID =  allnew_df[item_col].values   \n",
        "        Updted_UserID = [userID_dict.get(user) for user in prevUser_ID]   \n",
        "        Updted_ItemID = [itemID_dict.get(item) for item in prevItems_ID]\n",
        "        allnew_df['Updated_UserID'] = Updted_UserID\n",
        "        allnew_df['Updated_ItemID'] = Updted_ItemID\n",
        "        newAllDF_list.append(allnew_df)\n",
        "    return newAllDF_list\n",
        "\n",
        "def adjustedPSI_DF(PSITest_list,userID_dict,itemID_dict,AllUpdtUSERS_,AllUpdtITEMS_,user_col,item_col):\n",
        "    new_PSIDFlist =[]\n",
        "    for DF, Updt_Users, Updt_Items in tqdm(zip(PSITest_list,AllUpdtUSERS_,AllUpdtITEMS_)):\n",
        "        df = DF.copy()\n",
        "        df = df[[user_col,item_col]]\n",
        "        new_PSIdf     = df.loc[(df[item_col].isin(Updt_Items)) & (df[user_col].isin(Updt_Users))]\n",
        "\n",
        "        prevUser_ID =   new_PSIdf[user_col].values  \n",
        "        prevItems_ID =  new_PSIdf[item_col].values   \n",
        "        Updted_UserID = [userID_dict.get(user) for user in prevUser_ID]   \n",
        "        Updted_ItemID = [itemID_dict.get(item) for item in prevItems_ID]\n",
        "        new_PSIdf['Updated_UserID'] = Updted_UserID\n",
        "        new_PSIdf['Updated_ItemID'] = Updted_ItemID\n",
        "        new_PSIDFlist.append(new_PSIdf)\n",
        "    return new_PSIDFlist\n"
      ]
    },
    {
      "cell_type": "code",
      "execution_count": 73,
      "metadata": {},
      "outputs": [
        {
          "output_type": "stream",
          "name": "stderr",
          "text": [
            "10it [00:00, 111.49it/s]10\n",
            "\n",
            "829 474\n",
            "801 433\n",
            "811 465\n",
            "812 478\n",
            "820 478\n",
            "868 508\n",
            "787 612\n",
            "847 599\n",
            "789 536\n",
            "580 425\n",
            "\n"
          ]
        }
      ],
      "source": [
        "\n",
        "newHOLDOUT_LIST = get_NEWHoldout(HOLDOUT_list,userID_dict,itemID_dict,AllUpdtUSERS_,AllUpdtITEMS_,'userId','productId')\n",
        "print(len(newHOLDOUT_LIST))\n",
        "print()\n",
        "for old,new in zip(HOLDOUT_list,newHOLDOUT_LIST):\n",
        "    print(old.shape[0],new.shape[0])"
      ]
    },
    {
      "cell_type": "code",
      "execution_count": 74,
      "metadata": {},
      "outputs": [
        {
          "output_type": "stream",
          "name": "stderr",
          "text": [
            "10it [00:00, 16.81it/s]\n",
            "19385 6536\n",
            "19762 6693\n",
            "20148 6872\n",
            "20537 7033\n",
            "20915 7223\n",
            "21243 7427\n",
            "21629 7644\n",
            "21958 7747\n",
            "22314 7913\n",
            "22556 8108\n",
            "\n"
          ]
        }
      ],
      "source": [
        "newUserItem_list = adjustedAllDF(UserItemDF_list,userID_dict,itemID_dict,AllUpdtUSERS_,AllUpdtITEMS_,'userId','productId')\n",
        "print()\n",
        "for df in newUserItem_list:\n",
        "    print(df['Updated_UserID'].max(),df['Updated_ItemID'].max())"
      ]
    },
    {
      "cell_type": "code",
      "execution_count": 104,
      "metadata": {},
      "outputs": [
        {
          "output_type": "stream",
          "name": "stderr",
          "text": [
            "10it [00:00, 130.43it/s]371 324\n",
            "399 343\n",
            "389 347\n",
            "388 338\n",
            "380 338\n",
            "332 292\n",
            "413 397\n",
            "353 323\n",
            "411 365\n",
            "228 203\n",
            "\n"
          ]
        }
      ],
      "source": [
        "new_PSIDFlist = adjustedPSI_DF(PSITest_list,userID_dict,itemID_dict,AllUpdtUSERS_,AllUpdtITEMS_,'userId','productId')\n",
        "for old,new in zip(PSITest_list,new_PSIDFlist):\n",
        "    print(old.shape[0],new.shape[0])"
      ]
    },
    {
      "cell_type": "code",
      "execution_count": 76,
      "metadata": {},
      "outputs": [
        {
          "output_type": "stream",
          "name": "stdout",
          "text": [
            "(51277, 7)\n22797 8611\n22557 8109\n\n22556 8108\n22557 8109\n"
          ]
        }
      ],
      "source": [
        "newAMZB_DF = ADJUST_mainDF(AMZB_DF,userID_dict,itemID_dict,AllUpdtUSERS_,AllUpdtITEMS_,'userId','productId')\n",
        "print(newAMZB_DF.shape)\n",
        "print(newAMZB_DF['userId'].max(),newAMZB_DF['productId'].max())\n",
        "print(newAMZB_DF['userId'].nunique(),newAMZB_DF['productId'].nunique())\n",
        "print()\n",
        "print(newAMZB_DF['Updated_UserID'].max(),newAMZB_DF['Updated_ItemID'].max())\n",
        "print(newAMZB_DF['Updated_UserID'].nunique(),newAMZB_DF['Updated_ItemID'].nunique())\n",
        "#newAMZB_DF.head()"
      ]
    },
    {
      "cell_type": "code",
      "execution_count": 55,
      "metadata": {},
      "outputs": [],
      "source": [
        "import pickle"
      ]
    },
    {
      "cell_type": "code",
      "execution_count": null,
      "metadata": {},
      "outputs": [],
      "source": []
    },
    {
      "cell_type": "code",
      "execution_count": 56,
      "metadata": {},
      "outputs": [],
      "source": [
        "with open('AMZB_newUserItem.pkl', 'wb') as f:\n",
        "     pickle.dump(newUserItem_list, f)"
      ]
    },
    {
      "cell_type": "code",
      "execution_count": 61,
      "metadata": {},
      "outputs": [],
      "source": [
        "with open('AMZB_newHoldout.pkl', 'wb') as f:\n",
        "     pickle.dump(newHOLDOUT_LIST, f)"
      ]
    },
    {
      "cell_type": "code",
      "execution_count": 62,
      "metadata": {},
      "outputs": [],
      "source": [
        "with open('AMZB_newPSITest.pkl', 'wb') as f:\n",
        "     pickle.dump(new_PSIDFlist, f)"
      ]
    },
    {
      "cell_type": "code",
      "execution_count": null,
      "metadata": {},
      "outputs": [],
      "source": [
        "with open('newUserItem_AMZB.pkl', 'wb') as f:\n",
        "     pickle.dump(newUserItem_list, f)"
      ]
    },
    {
      "cell_type": "code",
      "execution_count": 75,
      "metadata": {},
      "outputs": [],
      "source": [
        "newAMZB_DF.to_csv('AMZB_newDF.csv',index=False)"
      ]
    },
    {
      "cell_type": "code",
      "execution_count": null,
      "metadata": {},
      "outputs": [],
      "source": []
    },
    {
      "cell_type": "code",
      "execution_count": 79,
      "metadata": {},
      "outputs": [],
      "source": [
        "with open('/mnt/bulky/oolaleke/TDM_Dataset/AMZB_newUserItem.pkl', 'rb') as f:\n",
        "     newUserItem_l = pickle.load(f)\n",
        "#/mnt/bulky/oolaleke/TDM_Dataset/AMZB_newUserItem.pkl# len(mynewHOlist)\n",
        "# for df in newUserItem_l:\n",
        "#     #print(df['Updated_UserID'].nunique(),df['Updated_ItemID'].nunique())\n",
        "#     print(df.shape)"
      ]
    },
    {
      "cell_type": "code",
      "execution_count": 82,
      "metadata": {},
      "outputs": [],
      "source": [
        "#newUserItem_l[0]"
      ]
    },
    {
      "cell_type": "code",
      "execution_count": 80,
      "metadata": {},
      "outputs": [],
      "source": [
        "#######################################################################\n",
        "      ##get Rating Matrices based on single step interaction only \n",
        "def SingleStepRatMat_2(DF,user_column,item_column):  ##rows_ = n_users,cols_ = n_items\n",
        "    rows_ = DF[user_column].max()+1 \n",
        "    cols_ = DF[item_column].max()+1 \n",
        "    \n",
        "    rows0 = DF[user_column].values\n",
        "    cols0 = DF[item_column].values\n",
        "    data  = np.broadcast_to(1., DF.shape[0]) # ignore ratings\n",
        "\n",
        "    A0_Rating_matrix = coo_matrix((data, (rows0, cols0)), shape=(rows_, cols_)).tocsr()\n",
        "    if A0_Rating_matrix.nnz < len(data):\n",
        "        A0_Rating_matrix = A0_Rating_matrix._with_data(np.broadcast_to(1., A0_Rating_matrix.nnz), copy=False)\n",
        "\n",
        "    return A0_Rating_matrix\n",
        "\n",
        "def AllSingleStepRatMat_2(DFList,user_column,item_column):\n",
        "    Rating_matrix_list = []\n",
        "    for df in DFList:\n",
        "        df_Mat = SingleStepRatMat_2(df,user_column,item_column)\n",
        "        Rating_matrix_list.append(df_Mat)\n",
        "    return Rating_matrix_list               #return the list of Rating matrices\n",
        "\n",
        "################################################################################# #"
      ]
    },
    {
      "cell_type": "code",
      "execution_count": null,
      "metadata": {
        "id": "bfFHg8h0QiVE"
      },
      "outputs": [],
      "source": []
    },
    {
      "cell_type": "markdown",
      "metadata": {
        "id": "J_bFpV2cKCuA"
      },
      "source": [
        "#### Get UserItem MAT"
      ]
    },
    {
      "cell_type": "code",
      "execution_count": 357,
      "metadata": {},
      "outputs": [],
      "source": []
    },
    {
      "cell_type": "code",
      "execution_count": 77,
      "metadata": {},
      "outputs": [
        {
          "output_type": "stream",
          "name": "stdout",
          "text": [
            "19385 6536\n19762 6693\n20148 6872\n20537 7033\n20915 7223\n21243 7427\n21629 7644\n21958 7747\n22314 7913\n22556 8108\n"
          ]
        }
      ],
      "source": [
        "for i in range(10):\n",
        "    print(newUserItem_list[i]['Updated_UserID'].max(),newUserItem_list[i]['Updated_ItemID'].max())"
      ]
    },
    {
      "cell_type": "code",
      "execution_count": 78,
      "metadata": {
        "colab": {
          "base_uri": "https://localhost:8080/"
        },
        "id": "bA6bmr-CKCuD",
        "outputId": "653135f8-fe39-4133-d3c9-5d8bc6c11bdd"
      },
      "outputs": [
        {
          "output_type": "stream",
          "name": "stdout",
          "text": [
            "10 10\n19386 6537\n19763 6694\n20149 6873\n20538 7034\n20916 7224\n21244 7428\n21630 7645\n21959 7748\n22315 7914\n22557 8109\n"
          ]
        }
      ],
      "source": [
        "print(len(U_list[1:]),len(V_list[1:]))\n",
        "for u,v in zip(U_list[1:],V_list[1:]):\n",
        "    print(u.shape[0],v.shape[0])   "
      ]
    },
    {
      "cell_type": "code",
      "execution_count": 81,
      "metadata": {
        "colab": {
          "base_uri": "https://localhost:8080/"
        },
        "id": "N1FI-D8uKCuG",
        "outputId": "249efeec-cfb6-4211-9eb2-a736c2bda594"
      },
      "outputs": [
        {
          "output_type": "stream",
          "name": "stdout",
          "text": [
            "10\n"
          ]
        },
        {
          "output_type": "execute_result",
          "data": {
            "text/plain": [
              "[<19386x6537 sparse matrix of type '<class 'numpy.float64'>'\n",
              " \twith 40228 stored elements in Compressed Sparse Row format>,\n",
              " <19763x6694 sparse matrix of type '<class 'numpy.float64'>'\n",
              " \twith 41330 stored elements in Compressed Sparse Row format>,\n",
              " <20149x6873 sparse matrix of type '<class 'numpy.float64'>'\n",
              " \twith 42432 stored elements in Compressed Sparse Row format>,\n",
              " <20538x7034 sparse matrix of type '<class 'numpy.float64'>'\n",
              " \twith 43525 stored elements in Compressed Sparse Row format>,\n",
              " <20916x7224 sparse matrix of type '<class 'numpy.float64'>'\n",
              " \twith 44665 stored elements in Compressed Sparse Row format>,\n",
              " <21244x7428 sparse matrix of type '<class 'numpy.float64'>'\n",
              " \twith 45752 stored elements in Compressed Sparse Row format>,\n",
              " <21630x7645 sparse matrix of type '<class 'numpy.float64'>'\n",
              " \twith 47034 stored elements in Compressed Sparse Row format>,\n",
              " <21959x7748 sparse matrix of type '<class 'numpy.float64'>'\n",
              " \twith 48112 stored elements in Compressed Sparse Row format>,\n",
              " <22315x7914 sparse matrix of type '<class 'numpy.float64'>'\n",
              " \twith 49321 stored elements in Compressed Sparse Row format>,\n",
              " <22557x8109 sparse matrix of type '<class 'numpy.float64'>'\n",
              " \twith 50337 stored elements in Compressed Sparse Row format>]"
            ]
          },
          "metadata": {},
          "execution_count": 81
        }
      ],
      "source": [
        "UserItem_Matupdt = AllSingleStepRatMat_2(newUserItem_list,'Updated_UserID','Updated_ItemID')\n",
        "print(len(UserItem_Matupdt))\n",
        "UserItem_Matupdt"
      ]
    },
    {
      "cell_type": "code",
      "execution_count": 82,
      "metadata": {
        "colab": {
          "base_uri": "https://localhost:8080/"
        },
        "id": "kRkFwCd8KCuE",
        "outputId": "403613d4-2978-4330-ffcb-9afd850e4d4a"
      },
      "outputs": [
        {
          "output_type": "stream",
          "name": "stdout",
          "text": [
            "19169 6515\n\n19386 6537\n19763 6694\n20149 6873\n20538 7034\n20916 7224\n21244 7428\n21630 7645\n21959 7748\n22315 7914\n22557 8109\n"
          ]
        }
      ],
      "source": [
        "print(AllDF_start['userId'].nunique(),AllDF_start['productId'].nunique())\n",
        "print()\n",
        "for i,j in zip(AllUpdtUSERS_,AllUpdtITEMS_):\n",
        "    print(len(i),len(j))"
      ]
    },
    {
      "cell_type": "markdown",
      "metadata": {
        "id": "-FWZcWCDzJ-i"
      },
      "source": [
        "#### Prediction"
      ]
    },
    {
      "cell_type": "code",
      "execution_count": 83,
      "metadata": {
        "colab": {
          "base_uri": "https://localhost:8080/"
        },
        "id": "NrcfgZCCzPPu",
        "outputId": "ab5b7b13-354d-4b68-9cfd-ba637687db89"
      },
      "outputs": [
        {
          "output_type": "stream",
          "name": "stdout",
          "text": [
            "10 10\n"
          ]
        }
      ],
      "source": [
        "print(len(UserItem_Matupdt),len(newHOLDOUT_LIST))"
      ]
    },
    {
      "cell_type": "code",
      "execution_count": 84,
      "metadata": {
        "colab": {
          "base_uri": "https://localhost:8080/"
        },
        "id": "RguT3Utr0iLy",
        "outputId": "b0b6a4ed-f7ae-4f88-c7ea-226f92f41373"
      },
      "outputs": [
        {
          "output_type": "stream",
          "name": "stdout",
          "text": [
            "(6537, 70)\n(6694, 70)\n(6873, 70)\n(7034, 70)\n(7224, 70)\n(7428, 70)\n(7645, 70)\n(7748, 70)\n(7914, 70)\n(8109, 70)\n"
          ]
        }
      ],
      "source": [
        "Vpsi_listUpdt = V_list[1:]\n",
        "for v in Vpsi_listUpdt:\n",
        "    print(v.shape)"
      ]
    },
    {
      "cell_type": "code",
      "execution_count": 85,
      "metadata": {
        "colab": {
          "base_uri": "https://localhost:8080/"
        },
        "id": "py9S9LGoKamJ",
        "outputId": "1789bd81-16c2-4741-e816-79344eb3d1ff"
      },
      "outputs": [
        {
          "output_type": "execute_result",
          "data": {
            "text/plain": [
              "(6537, 70)"
            ]
          },
          "metadata": {},
          "execution_count": 85
        }
      ],
      "source": [
        "V_1 = Vpsi_listUpdt[0]\n",
        "V_1.shape"
      ]
    },
    {
      "cell_type": "code",
      "execution_count": 86,
      "metadata": {
        "colab": {
          "base_uri": "https://localhost:8080/"
        },
        "id": "LtlchmQtHN5c",
        "outputId": "ce489caf-9424-4007-cac5-c45a1b6305de"
      },
      "outputs": [
        {
          "output_type": "execute_result",
          "data": {
            "text/plain": [
              "array([[ 558,   22,  995, ...,  488,   66, 4323],\n",
              "       [ 360, 1283,  185, ..., 1012,  928,  242],\n",
              "       [ 389,  598,  723, ...,   82,  804, 1310],\n",
              "       ...,\n",
              "       [ 251,  239, 1566, ...,  499, 1247, 1967],\n",
              "       [ 319,  815,  422, ...,  420,  588, 3373],\n",
              "       [ 369,  420, 1120, ...,   74, 1283,  694]])"
            ]
          },
          "metadata": {},
          "execution_count": 86
        }
      ],
      "source": [
        "Top_NPred = TopNPred(UserItem_Matupdt[0],newHOLDOUT_LIST[0],V_1,'Updated_UserID',10)\n",
        "Top_NPred"
      ]
    },
    {
      "cell_type": "code",
      "execution_count": 87,
      "metadata": {
        "colab": {
          "base_uri": "https://localhost:8080/"
        },
        "id": "Ql0pwhxeHN5g",
        "outputId": "3398c6a4-6fa3-43d0-ac70-c792e3b86223"
      },
      "outputs": [
        {
          "output_type": "stream",
          "name": "stdout",
          "text": [
            "Number of hits:  127\nTotal Num of users:  474\nRecommendation HitRate:  0.2679324894514768\n"
          ]
        },
        {
          "output_type": "execute_result",
          "data": {
            "text/plain": [
              "0.2679324894514768"
            ]
          },
          "metadata": {},
          "execution_count": 87
        }
      ],
      "source": [
        "Hitrate_Eval(newHOLDOUT_LIST[0],Top_NPred,'Updated_UserID','Updated_ItemID')"
      ]
    },
    {
      "cell_type": "code",
      "execution_count": null,
      "metadata": {
        "id": "-ALFq_slAffr"
      },
      "outputs": [],
      "source": []
    },
    {
      "cell_type": "code",
      "execution_count": 88,
      "metadata": {
        "colab": {
          "base_uri": "https://localhost:8080/"
        },
        "id": "8J8LC6tDAiir",
        "outputId": "a1a50084-9165-4e7c-89ba-890d2cd582a3"
      },
      "outputs": [
        {
          "output_type": "stream",
          "name": "stderr",
          "text": [
            "10it [00:00, 16.15it/s]10\n",
            "\n"
          ]
        },
        {
          "output_type": "execute_result",
          "data": {
            "text/plain": [
              "[array([[ 558,   22,  995, ...,  488,   66, 4323],\n",
              "        [ 360, 1283,  185, ..., 1012,  928,  242],\n",
              "        [ 389,  598,  723, ...,   82,  804, 1310],\n",
              "        ...,\n",
              "        [ 251,  239, 1566, ...,  499, 1247, 1967],\n",
              "        [ 319,  815,  422, ...,  420,  588, 3373],\n",
              "        [ 369,  420, 1120, ...,   74, 1283,  694]]),\n",
              " array([[ 389,  598,  723, ...,   82,  804, 1310],\n",
              "        [1283,  694,  231, ...,  965, 1012,  789],\n",
              "        [  86,   92,  272, ..., 1947, 5594,    5],\n",
              "        ...,\n",
              "        [ 311,  129,   85, ...,   92,  242,  272],\n",
              "        [ 427, 1435,  635, ..., 6626,  191, 6661],\n",
              "        [  74, 2255,  231, ..., 1307, 2645,  460]])]"
            ]
          },
          "metadata": {},
          "execution_count": 88
        }
      ],
      "source": [
        "AllUpdt_pred =  TQDMgetALLTopNPred(UserItem_Matupdt,newHOLDOUT_LIST,Vpsi_listUpdt,'Updated_UserID',N = 10)\n",
        "print(len(AllUpdt_pred))\n",
        "AllUpdt_pred[:2]"
      ]
    },
    {
      "cell_type": "code",
      "execution_count": 89,
      "metadata": {
        "colab": {
          "base_uri": "https://localhost:8080/"
        },
        "id": "Osi894h4Aiiv",
        "outputId": "12e69b4e-233f-4687-d666-1b1a24781c6b"
      },
      "outputs": [
        {
          "output_type": "stream",
          "name": "stdout",
          "text": [
            "Number of hits:  127\nTotal Num of users:  474\nRecommendation HitRate:  0.2679324894514768\nNumber of hits:  149\nTotal Num of users:  433\nRecommendation HitRate:  0.3441108545034642\nNumber of hits:  156\nTotal Num of users:  465\nRecommendation HitRate:  0.33548387096774196\nNumber of hits:  146\nTotal Num of users:  478\nRecommendation HitRate:  0.3054393305439331\nNumber of hits:  136\nTotal Num of users:  478\nRecommendation HitRate:  0.28451882845188287\nNumber of hits:  139\nTotal Num of users:  508\nRecommendation HitRate:  0.2736220472440945\nNumber of hits:  174\nTotal Num of users:  612\nRecommendation HitRate:  0.28431372549019607\nNumber of hits:  151\nTotal Num of users:  599\nRecommendation HitRate:  0.25208681135225375\nNumber of hits:  162\nTotal Num of users:  536\nRecommendation HitRate:  0.30223880597014924\nNumber of hits:  58\nTotal Num of users:  425\nRecommendation HitRate:  0.13647058823529412\nAverage HitRate for All Recommendations:  0.2786217352210487\n"
          ]
        }
      ],
      "source": [
        "AllSteps_HitR_updt, LowerBand_updt, Avg_HitR_updt, UpperBand_updt   = getAll_HitRate(newHOLDOUT_LIST,AllUpdt_pred,'Updated_UserID','Updated_ItemID')"
      ]
    },
    {
      "cell_type": "code",
      "execution_count": 90,
      "metadata": {},
      "outputs": [
        {
          "output_type": "execute_result",
          "data": {
            "text/plain": [
              "[0.2679324894514768,\n",
              " 0.3441108545034642,\n",
              " 0.33548387096774196,\n",
              " 0.3054393305439331,\n",
              " 0.28451882845188287,\n",
              " 0.2736220472440945,\n",
              " 0.28431372549019607,\n",
              " 0.25208681135225375,\n",
              " 0.30223880597014924,\n",
              " 0.13647058823529412]"
            ]
          },
          "metadata": {},
          "execution_count": 90
        }
      ],
      "source": [
        "AllSteps_HitR_updt"
      ]
    },
    {
      "cell_type": "code",
      "execution_count": null,
      "metadata": {
        "id": "H3kfcIzLq3aq"
      },
      "outputs": [],
      "source": [
        "##MRR Test"
      ]
    },
    {
      "cell_type": "code",
      "execution_count": 96,
      "metadata": {},
      "outputs": [],
      "source": [
        "            ########### MEAN RECIPROCAL RANK #################\n",
        "\n",
        "def MRR_Eval(Holdout,TopN_pred,item_column):\n",
        "    Ntest_users = Holdout.shape[0]\n",
        "    Eval_itemsVector  =  Holdout[[item_column]].to_numpy()\n",
        "    item_pos = np.where(Eval_itemsVector == TopN_pred)[1] +1  #eval item pos in pred_index1 \n",
        "    if item_pos.size:  ##if any hit\n",
        "       Hit_RR = (1/item_pos)  \n",
        "       MRR_ = np.divide(np.sum(Hit_RR),Ntest_users)  #mean of all reciprocal rank\n",
        "       return MRR_    \n",
        "    return 0\n",
        "\n",
        "def getAll_MRR_Eval(HOLDOUT_list,All_TOPN_PRED,item_column):\n",
        "    AllSteps_MRR = []\n",
        "    for Holdout, TopN_pred in zip(HOLDOUT_list,All_TOPN_PRED):  \n",
        "        MRR_ = MRR_Eval(Holdout,TopN_pred,item_column)\n",
        "        AllSteps_MRR.append(round(MRR_,6))\n",
        "\n",
        "    LowerBand, Avg_MRR, UpperBand  = mean_confidence_interval(AllSteps_MRR, confidence=0.95)\n",
        "    LowerBand = round(LowerBand,6)\n",
        "    Avg_MRR  = round(Avg_MRR,6)\n",
        "    UpperBand =round(UpperBand,6)\n",
        "    return AllSteps_MRR, LowerBand, Avg_MRR, UpperBand    \n",
        "\n",
        "#\n",
        "def TQDMgetAll_MRR_Eval(HOLDOUT_list,All_TOPN_PRED,item_column):\n",
        "    AllSteps_MRR = []\n",
        "    for Holdout, TopN_pred in tqdm(zip(HOLDOUT_list,All_TOPN_PRED)):  \n",
        "        MRR_ = MRR_Eval(Holdout,TopN_pred,item_column)\n",
        "        AllSteps_MRR.append(round(MRR_,6))\n",
        "\n",
        "    LowerBand, Avg_MRR, UpperBand  = mean_confidence_interval(AllSteps_MRR, confidence=0.95)\n",
        "    LowerBand = round(LowerBand,6)\n",
        "    Avg_MRR  = round(Avg_MRR,6)\n",
        "    UpperBand =round(UpperBand,6)\n",
        "    return AllSteps_MRR, LowerBand, Avg_MRR, UpperBand    \n",
        "\n",
        "######################################################################################\n"
      ]
    },
    {
      "cell_type": "code",
      "execution_count": null,
      "metadata": {},
      "outputs": [],
      "source": []
    },
    {
      "cell_type": "code",
      "execution_count": 91,
      "metadata": {},
      "outputs": [
        {
          "output_type": "stream",
          "name": "stdout",
          "text": [
            "1st Step MRR:  0.24122714486638538\n"
          ]
        }
      ],
      "source": [
        "mrr_1st = MRR_Eval(newHOLDOUT_LIST[0],Top_NPred,'Updated_ItemID')\n",
        "print(\"1st Step MRR: \",mrr_1st)"
      ]
    },
    {
      "cell_type": "code",
      "execution_count": 92,
      "metadata": {},
      "outputs": [
        {
          "output_type": "stream",
          "name": "stderr",
          "text": [
            "10it [00:00, 1120.93it/s]\n"
          ]
        },
        {
          "output_type": "execute_result",
          "data": {
            "text/plain": [
              "[0.241227,\n",
              " 0.298919,\n",
              " 0.311335,\n",
              " 0.271502,\n",
              " 0.260327,\n",
              " 0.245122,\n",
              " 0.205629,\n",
              " 0.215582,\n",
              " 0.259141,\n",
              " 0.113294]"
            ]
          },
          "metadata": {},
          "execution_count": 92
        }
      ],
      "source": [
        "AllSteps_MRRUpdt, LowerB_Updt, AvgMRR_Updt, UpperB_Updt  = TQDMgetAll_MRR_Eval(newHOLDOUT_LIST,AllUpdt_pred,'Updated_ItemID')\n",
        "AllSteps_MRRUpdt    ##Rank ==70"
      ]
    },
    {
      "cell_type": "code",
      "execution_count": 93,
      "metadata": {},
      "outputs": [
        {
          "output_type": "stream",
          "name": "stdout",
          "text": [
            "Average MRR:  0.242208\n"
          ]
        }
      ],
      "source": [
        "print(\"Average MRR: \",AvgMRR_Updt)"
      ]
    },
    {
      "cell_type": "code",
      "execution_count": null,
      "metadata": {},
      "outputs": [],
      "source": [
        "##All Prediction"
      ]
    },
    {
      "cell_type": "code",
      "execution_count": 108,
      "metadata": {},
      "outputs": [
        {
          "output_type": "stream",
          "name": "stdout",
          "text": [
            "(19386, 6537)\n"
          ]
        },
        {
          "output_type": "execute_result",
          "data": {
            "text/plain": [
              "<19386x6537 sparse matrix of type '<class 'numpy.float64'>'\n",
              "\twith 40228 stored elements in Compressed Sparse Row format>"
            ]
          },
          "metadata": {},
          "execution_count": 108
        }
      ],
      "source": [
        "print(UserItem_Matupdt[0].shape)\n",
        "UserItem_Matupdt[0]"
      ]
    },
    {
      "cell_type": "code",
      "execution_count": 94,
      "metadata": {},
      "outputs": [
        {
          "output_type": "stream",
          "name": "stderr",
          "text": [
            "10it [00:23,  2.39s/it]10\n",
            "\n"
          ]
        },
        {
          "output_type": "execute_result",
          "data": {
            "text/plain": [
              "[array([[ 133,   71,  134, ...,   57,  139,  216],\n",
              "        [  60,  297,  133, ...,  242,  245,   63],\n",
              "        [ 297,  242,  424, ...,  199,  357,  595],\n",
              "        ...,\n",
              "        [ 251,  239, 1566, ...,  499, 1247, 1967],\n",
              "        [ 319,  815,  422, ...,  420,  588, 3373],\n",
              "        [ 369,  420, 1120, ...,   74, 1283,  694]]),\n",
              " array([[ 133,   71,  134, ...,   57,  139,  216],\n",
              "        [  60,  297,  133, ...,  242,  245,   63],\n",
              "        [ 297,  242,  424, ...,  199,  357,  595],\n",
              "        ...,\n",
              "        [ 694,   83,  416, ...,  105,  800,  757],\n",
              "        [ 239,  815,   25, ..., 1826, 3030,  551],\n",
              "        [ 558,  717, 1203, ...,  124, 3026,  474]])]"
            ]
          },
          "metadata": {},
          "execution_count": 94
        }
      ],
      "source": [
        "AllUsers_updtPRED =  TQDMgetALLTopNPred_ALLUSERS(UserItem_Matupdt,Vpsi_listUpdt, N=10) \n",
        "print(len(AllUsers_updtPRED))\n",
        "AllUsers_updtPRED[:2]"
      ]
    },
    {
      "cell_type": "code",
      "execution_count": 96,
      "metadata": {},
      "outputs": [
        {
          "output_type": "execute_result",
          "data": {
            "text/plain": [
              "(20149, 10)"
            ]
          },
          "metadata": {},
          "execution_count": 96
        }
      ],
      "source": [
        "AllUsers_updtPRED[2].shape"
      ]
    },
    {
      "cell_type": "code",
      "execution_count": 97,
      "metadata": {},
      "outputs": [],
      "source": [
        "with open('/mnt/bulky/oolaleke/TDM_Dataset/AMZ_Btyfiles/AMZB_UpdtPSI_AllPRED.pkl', 'wb') as f:\n",
        "     pickle.dump(AllUsers_updtPRED, f)"
      ]
    },
    {
      "cell_type": "code",
      "execution_count": 132,
      "metadata": {},
      "outputs": [],
      "source": [
        "## Coverage:\n",
        "def StepCoverage_Ratio(DF,Step_Pred,item_column):\n",
        "  nItems_tot  = DF[item_column].nunique()\n",
        "  nPred_items = len(np.unique(Step_Pred))\n",
        "  coverage_ratio = round((nPred_items/nItems_tot),6)\n",
        "  return coverage_ratio\n",
        "\n",
        "def AllSteps_Coverage_Ratio(DF,All_Pred,item_column):\n",
        "  Avg_Coverage_List = []\n",
        "  for Step_Pred in All_Pred:\n",
        "    step_CI = StepCoverage_Ratio(DF,Step_Pred,item_column)\n",
        "    Avg_Coverage_List.append(step_CI)\n",
        "  return Avg_Coverage_List\n"
      ]
    },
    {
      "cell_type": "code",
      "execution_count": 129,
      "metadata": {},
      "outputs": [
        {
          "output_type": "execute_result",
          "data": {
            "text/plain": [
              "Index(['userId', 'productId', 'rating', 'timestamp', 'timestamp_YM',\n",
              "       'Updated_UserID', 'Updated_ItemID'],\n",
              "      dtype='object')"
            ]
          },
          "metadata": {},
          "execution_count": 129
        }
      ],
      "source": [
        "newAMZB_DF.columns"
      ]
    },
    {
      "cell_type": "code",
      "execution_count": 98,
      "metadata": {},
      "outputs": [
        {
          "output_type": "execute_result",
          "data": {
            "text/plain": [
              "0.079911"
            ]
          },
          "metadata": {},
          "execution_count": 98
        }
      ],
      "source": [
        "StepCoverage_Ratio(newAMZB_DF,AllUsers_updtPRED[0],'Updated_ItemID')"
      ]
    },
    {
      "cell_type": "code",
      "execution_count": 99,
      "metadata": {},
      "outputs": [
        {
          "output_type": "execute_result",
          "data": {
            "text/plain": [
              "[0.079911,\n",
              " 0.081884,\n",
              " 0.083364,\n",
              " 0.084351,\n",
              " 0.083981,\n",
              " 0.083118,\n",
              " 0.083487,\n",
              " 0.082008,\n",
              " 0.082131,\n",
              " 0.082871]"
            ]
          },
          "metadata": {},
          "execution_count": 99
        }
      ],
      "source": [
        "UpdtAvg_Coverage_List = AllSteps_Coverage_Ratio(newAMZB_DF,AllUsers_updtPRED,'Updated_ItemID')\n",
        "UpdtAvg_Coverage_List"
      ]
    },
    {
      "cell_type": "code",
      "execution_count": 135,
      "metadata": {},
      "outputs": [],
      "source": []
    },
    {
      "cell_type": "code",
      "execution_count": 13,
      "metadata": {},
      "outputs": [],
      "source": [
        "##lOAD Saved Lists...\n",
        "with open('/mnt/bulky/oolaleke/TDM_Dataset/AMZB_newUserItem.pkl', 'rb') as f:\n",
        "     newUserItem_LIST = pickle.load(f)\n",
        "\n",
        "with open('/mnt/bulky/oolaleke/TDM_Dataset/AMZB_newPSITest.pkl', 'rb') as f:\n",
        "     newPSIDF_LIST = pickle.load(f)\n",
        "\n",
        "\n",
        "with open('/mnt/bulky/oolaleke/TDM_Dataset/AMZB_newHoldout.pkl', 'rb') as f:\n",
        "     newHOLDOUTDF_LIST = pickle.load(f)\n",
        "\n",
        "#newAMZB_DF = pd.read_csv()"
      ]
    },
    {
      "cell_type": "code",
      "execution_count": 1,
      "metadata": {},
      "outputs": [],
      "source": [
        "import pickle"
      ]
    },
    {
      "cell_type": "code",
      "execution_count": 2,
      "metadata": {},
      "outputs": [],
      "source": [
        "with open('/mnt/bulky/oolaleke/TDM_Dataset/AMZ_Btyfiles/AMZB_iALS_AllPRED.pkl', 'rb') as f:\n",
        "     newiALSPred_LIST = pickle.load(f)"
      ]
    },
    {
      "cell_type": "code",
      "execution_count": 5,
      "metadata": {},
      "outputs": [
        {
          "output_type": "execute_result",
          "data": {
            "text/plain": [
              "array([[ 168,  311, 1230, ...,  369,  368,  676],\n",
              "       [ 168,  311, 1230, ...,  369,  368,  110],\n",
              "       [1230,  168,  311, ...,  321,   43,  415],\n",
              "       ...,\n",
              "       [ 842,  692,  385, ...,  230,  374,  195],\n",
              "       [ 555,  107,  106, ...,  311,  168,  842],\n",
              "       [1230,  995,  800, ...,  555,  231, 3985]])"
            ]
          },
          "metadata": {},
          "execution_count": 5
        }
      ],
      "source": [
        "newiALSPred_LIST[0]"
      ]
    },
    {
      "cell_type": "code",
      "execution_count": null,
      "metadata": {},
      "outputs": [],
      "source": [
        "###iALS"
      ]
    },
    {
      "cell_type": "code",
      "execution_count": 16,
      "metadata": {},
      "outputs": [
        {
          "output_type": "stream",
          "name": "stdout",
          "text": [
            "(51277, 7)\n22797 8611\n22557 8109\n\n22556 8108\n22557 8109\n"
          ]
        },
        {
          "output_type": "execute_result",
          "data": {
            "text/plain": [
              "   userId  productId  rating   timestamp timestamp_YM  Updated_UserID  \\\n",
              "0       0          0       1  2001-06-08      2001-06               0   \n",
              "1       1          0       1  2002-06-12      2002-06               1   \n",
              "2       1          1       1  2002-06-12      2002-06               1   \n",
              "3       2          1       1  2002-06-17      2002-06               2   \n",
              "4       3          1       1  2002-07-04      2002-07               3   \n",
              "\n",
              "   Updated_ItemID  \n",
              "0               0  \n",
              "1               0  \n",
              "2               1  \n",
              "3               1  \n",
              "4               1  "
            ],
            "text/html": "<div>\n<style scoped>\n    .dataframe tbody tr th:only-of-type {\n        vertical-align: middle;\n    }\n\n    .dataframe tbody tr th {\n        vertical-align: top;\n    }\n\n    .dataframe thead th {\n        text-align: right;\n    }\n</style>\n<table border=\"1\" class=\"dataframe\">\n  <thead>\n    <tr style=\"text-align: right;\">\n      <th></th>\n      <th>userId</th>\n      <th>productId</th>\n      <th>rating</th>\n      <th>timestamp</th>\n      <th>timestamp_YM</th>\n      <th>Updated_UserID</th>\n      <th>Updated_ItemID</th>\n    </tr>\n  </thead>\n  <tbody>\n    <tr>\n      <th>0</th>\n      <td>0</td>\n      <td>0</td>\n      <td>1</td>\n      <td>2001-06-08</td>\n      <td>2001-06</td>\n      <td>0</td>\n      <td>0</td>\n    </tr>\n    <tr>\n      <th>1</th>\n      <td>1</td>\n      <td>0</td>\n      <td>1</td>\n      <td>2002-06-12</td>\n      <td>2002-06</td>\n      <td>1</td>\n      <td>0</td>\n    </tr>\n    <tr>\n      <th>2</th>\n      <td>1</td>\n      <td>1</td>\n      <td>1</td>\n      <td>2002-06-12</td>\n      <td>2002-06</td>\n      <td>1</td>\n      <td>1</td>\n    </tr>\n    <tr>\n      <th>3</th>\n      <td>2</td>\n      <td>1</td>\n      <td>1</td>\n      <td>2002-06-17</td>\n      <td>2002-06</td>\n      <td>2</td>\n      <td>1</td>\n    </tr>\n    <tr>\n      <th>4</th>\n      <td>3</td>\n      <td>1</td>\n      <td>1</td>\n      <td>2002-07-04</td>\n      <td>2002-07</td>\n      <td>3</td>\n      <td>1</td>\n    </tr>\n  </tbody>\n</table>\n</div>"
          },
          "metadata": {},
          "execution_count": 16
        }
      ],
      "source": [
        "newAMZB_DF = pd.read_csv(\"/mnt/bulky/oolaleke/TDM_Dataset/AMZB_afterUpdt.csv\")\n",
        "print(newAMZB_DF.shape)\n",
        "print(newAMZB_DF['userId'].max(),newAMZB_DF['productId'].max())\n",
        "print(newAMZB_DF['userId'].nunique(),newAMZB_DF['productId'].nunique())\n",
        "print()\n",
        "print(newAMZB_DF['Updated_UserID'].max(),newAMZB_DF['Updated_ItemID'].max())\n",
        "print(newAMZB_DF['Updated_UserID'].nunique(),newAMZB_DF['Updated_ItemID'].nunique())\n",
        "newAMZB_DF.head()"
      ]
    },
    {
      "cell_type": "code",
      "execution_count": 20,
      "metadata": {},
      "outputs": [
        {
          "output_type": "execute_result",
          "data": {
            "text/plain": [
              "19385"
            ]
          },
          "metadata": {},
          "execution_count": 20
        }
      ],
      "source": [
        "newUserItem_LIST[0]['Updated_UserID'].max()"
      ]
    },
    {
      "cell_type": "code",
      "execution_count": null,
      "metadata": {},
      "outputs": [],
      "source": [
        "2016-09-19 00:00:00"
      ]
    },
    {
      "cell_type": "code",
      "execution_count": 22,
      "metadata": {},
      "outputs": [
        {
          "output_type": "execute_result",
          "data": {
            "text/plain": [
              "<22557x8109 sparse matrix of type '<class 'numpy.float64'>'\n",
              "\twith 40228 stored elements in Compressed Sparse Row format>"
            ]
          },
          "metadata": {},
          "execution_count": 22
        }
      ],
      "source": [
        "rows_i = newAMZB_DF['Updated_UserID'].nunique()\n",
        "cols_i = newAMZB_DF['Updated_ItemID'].nunique()\n",
        "Rating_matrix = SingleRatingMatrix(newUserItem_LIST[0],'Updated_UserID','Updated_ItemID',rows_i,cols_i)  #changes start within steps...\n",
        "Rating_matrix"
      ]
    },
    {
      "cell_type": "code",
      "execution_count": 23,
      "metadata": {},
      "outputs": [
        {
          "output_type": "stream",
          "name": "stdout",
          "text": [
            "('alpha', 'regularization', 'rank', 'iter_array')\n"
          ]
        },
        {
          "output_type": "execute_result",
          "data": {
            "text/plain": [
              "30"
            ]
          },
          "metadata": {},
          "execution_count": 23
        }
      ],
      "source": [
        "als_params = dict(alpha = [ 0.001,0.05, 0.1, 0.5, 1, 5, 10, 50, 100],\n",
        "                  regularization = [0.001, 0.005, 0.01, 0.05, 0.1, 0.5, 1, 10],\n",
        "                  rank = list(range(10, 81, 10)),\n",
        "                  iter_array = [10,15,20,25,30])\n",
        "\n",
        "als_param_grid, als_param_names = random_grid(als_params, n=30)\n",
        "print(als_param_names)\n",
        "len(als_param_grid)                 "
      ]
    },
    {
      "cell_type": "code",
      "execution_count": 24,
      "metadata": {},
      "outputs": [
        {
          "output_type": "stream",
          "name": "stdout",
          "text": [
            "1 10 10 20\n100 10 40 20\n100 0.5 40 15\n100 0.01 70 20\n0.001 0.1 10 10\n0.5 0.05 20 20\n100 0.05 50 30\n5 1 10 15\n0.1 0.01 70 15\n0.5 0.1 10 20\n"
          ]
        }
      ],
      "source": [
        "for i in range(10):\n",
        "    alpha, reg, rank, iter = list(als_param_grid)[i]  \n",
        "    print(alpha, reg, rank,iter)"
      ]
    },
    {
      "cell_type": "code",
      "execution_count": 27,
      "metadata": {},
      "outputs": [
        {
          "output_type": "execute_result",
          "data": {
            "text/plain": [
              "<22557x8109 sparse matrix of type '<class 'numpy.float64'>'\n",
              "\twith 32182 stored elements in Compressed Sparse Row format>"
            ]
          },
          "metadata": {},
          "execution_count": 27
        }
      ],
      "source": [
        "train_set ,test_set,valid_set = TrainTest(Rating_matrix, pct_mask=0.2)\n",
        "train_set"
      ]
    },
    {
      "cell_type": "code",
      "execution_count": 28,
      "metadata": {},
      "outputs": [
        {
          "output_type": "execute_result",
          "data": {
            "text/plain": [
              "<22557x8109 sparse matrix of type '<class 'numpy.float64'>'\n",
              "\twith 40228 stored elements in Compressed Sparse Row format>"
            ]
          },
          "metadata": {},
          "execution_count": 28
        }
      ],
      "source": [
        "test_set"
      ]
    },
    {
      "cell_type": "code",
      "execution_count": 29,
      "metadata": {},
      "outputs": [
        {
          "output_type": "execute_result",
          "data": {
            "text/plain": [
              "7035"
            ]
          },
          "metadata": {},
          "execution_count": 29
        }
      ],
      "source": [
        "len(valid_set)"
      ]
    },
    {
      "cell_type": "code",
      "execution_count": 30,
      "metadata": {},
      "outputs": [
        {
          "output_type": "stream",
          "name": "stderr",
          "text": [
            "  0%|          | 0/30 [00:00<?, ?it/s]"
          ]
        },
        {
          "output_type": "display_data",
          "data": {
            "text/plain": "  0%|          | 0/20 [00:00<?, ?it/s]",
            "application/vnd.jupyter.widget-view+json": {
              "version_major": 2,
              "version_minor": 0,
              "model_id": "4135675facb7404b97e87158ee118f83"
            }
          },
          "metadata": {}
        },
        {
          "output_type": "stream",
          "name": "stderr",
          "text": [
            "  3%|▎         | 1/30 [00:26<13:00, 26.90s/it]latent factors= 10 ,regularization = 10:, n_iter = 20, alpha = 1, AUC= 0.790971\n"
          ]
        },
        {
          "output_type": "display_data",
          "data": {
            "text/plain": "  0%|          | 0/20 [00:00<?, ?it/s]",
            "application/vnd.jupyter.widget-view+json": {
              "version_major": 2,
              "version_minor": 0,
              "model_id": "311862360c05417eb3a70dcc1a718c70"
            }
          },
          "metadata": {}
        },
        {
          "output_type": "stream",
          "name": "stderr",
          "text": [
            "  7%|▋         | 2/30 [00:59<14:05, 30.21s/it]latent factors= 40 ,regularization = 10:, n_iter = 20, alpha = 100, AUC= 0.791588\n"
          ]
        },
        {
          "output_type": "display_data",
          "data": {
            "text/plain": "  0%|          | 0/15 [00:00<?, ?it/s]",
            "application/vnd.jupyter.widget-view+json": {
              "version_major": 2,
              "version_minor": 0,
              "model_id": "8338f070e7f24eeeb12a41b11c395cd1"
            }
          },
          "metadata": {}
        },
        {
          "output_type": "stream",
          "name": "stderr",
          "text": [
            " 10%|█         | 3/30 [01:31<13:58, 31.06s/it]latent factors= 40 ,regularization = 0.5:, n_iter = 15, alpha = 100, AUC= 0.78006\n"
          ]
        },
        {
          "output_type": "display_data",
          "data": {
            "text/plain": "  0%|          | 0/20 [00:00<?, ?it/s]",
            "application/vnd.jupyter.widget-view+json": {
              "version_major": 2,
              "version_minor": 0,
              "model_id": "1e7cc38fd2ff49b78422e0139cee5b34"
            }
          },
          "metadata": {}
        },
        {
          "output_type": "stream",
          "name": "stderr",
          "text": [
            " 13%|█▎        | 4/30 [02:06<14:08, 32.64s/it]latent factors= 70 ,regularization = 0.01:, n_iter = 20, alpha = 100, AUC= 0.776605\n"
          ]
        },
        {
          "output_type": "display_data",
          "data": {
            "text/plain": "  0%|          | 0/10 [00:00<?, ?it/s]",
            "application/vnd.jupyter.widget-view+json": {
              "version_major": 2,
              "version_minor": 0,
              "model_id": "87bac6c7c3f94b84a6002ee11a8475c9"
            }
          },
          "metadata": {}
        },
        {
          "output_type": "stream",
          "name": "stderr",
          "text": [
            " 17%|█▋        | 5/30 [02:33<12:48, 30.73s/it]latent factors= 10 ,regularization = 0.1:, n_iter = 10, alpha = 0.001, AUC= 0.766009\n"
          ]
        },
        {
          "output_type": "display_data",
          "data": {
            "text/plain": "  0%|          | 0/20 [00:00<?, ?it/s]",
            "application/vnd.jupyter.widget-view+json": {
              "version_major": 2,
              "version_minor": 0,
              "model_id": "fb7dace85edc4a128c7f914d3e2fbc20"
            }
          },
          "metadata": {}
        },
        {
          "output_type": "stream",
          "name": "stderr",
          "text": [
            " 20%|██        | 6/30 [03:03<12:10, 30.42s/it]latent factors= 20 ,regularization = 0.05:, n_iter = 20, alpha = 0.5, AUC= 0.771031\n"
          ]
        },
        {
          "output_type": "display_data",
          "data": {
            "text/plain": "  0%|          | 0/30 [00:00<?, ?it/s]",
            "application/vnd.jupyter.widget-view+json": {
              "version_major": 2,
              "version_minor": 0,
              "model_id": "701e4ee798874f9c9be5977280023229"
            }
          },
          "metadata": {}
        },
        {
          "output_type": "stream",
          "name": "stderr",
          "text": [
            " 23%|██▎       | 7/30 [03:37<12:01, 31.36s/it]latent factors= 50 ,regularization = 0.05:, n_iter = 30, alpha = 100, AUC= 0.77953\n"
          ]
        },
        {
          "output_type": "display_data",
          "data": {
            "text/plain": "  0%|          | 0/15 [00:00<?, ?it/s]",
            "application/vnd.jupyter.widget-view+json": {
              "version_major": 2,
              "version_minor": 0,
              "model_id": "5053320e1f5e4d389cdaea31539469d5"
            }
          },
          "metadata": {}
        },
        {
          "output_type": "stream",
          "name": "stderr",
          "text": [
            " 27%|██▋       | 8/30 [04:03<10:58, 29.94s/it]latent factors= 10 ,regularization = 1:, n_iter = 15, alpha = 5, AUC= 0.79839\n"
          ]
        },
        {
          "output_type": "display_data",
          "data": {
            "text/plain": "  0%|          | 0/15 [00:00<?, ?it/s]",
            "application/vnd.jupyter.widget-view+json": {
              "version_major": 2,
              "version_minor": 0,
              "model_id": "590a7f8690f24790a9b5954fdbe21e68"
            }
          },
          "metadata": {}
        },
        {
          "output_type": "stream",
          "name": "stderr",
          "text": [
            " 30%|███       | 9/30 [04:38<11:00, 31.46s/it]latent factors= 70 ,regularization = 0.01:, n_iter = 15, alpha = 0.1, AUC= 0.734098\n"
          ]
        },
        {
          "output_type": "display_data",
          "data": {
            "text/plain": "  0%|          | 0/20 [00:00<?, ?it/s]",
            "application/vnd.jupyter.widget-view+json": {
              "version_major": 2,
              "version_minor": 0,
              "model_id": "8df575b51d30482189e79f9421fa9005"
            }
          },
          "metadata": {}
        },
        {
          "output_type": "stream",
          "name": "stderr",
          "text": [
            " 33%|███▎      | 10/30 [05:06<10:03, 30.20s/it]latent factors= 10 ,regularization = 0.1:, n_iter = 20, alpha = 0.5, AUC= 0.780466\n"
          ]
        },
        {
          "output_type": "display_data",
          "data": {
            "text/plain": "  0%|          | 0/20 [00:00<?, ?it/s]",
            "application/vnd.jupyter.widget-view+json": {
              "version_major": 2,
              "version_minor": 0,
              "model_id": "1f04c3ee9b3440b7b64abb37fb576253"
            }
          },
          "metadata": {}
        },
        {
          "output_type": "stream",
          "name": "stderr",
          "text": [
            " 37%|███▋      | 11/30 [05:40<09:56, 31.37s/it]latent factors= 50 ,regularization = 0.001:, n_iter = 20, alpha = 0.05, AUC= 0.656651\n"
          ]
        },
        {
          "output_type": "display_data",
          "data": {
            "text/plain": "  0%|          | 0/20 [00:00<?, ?it/s]",
            "application/vnd.jupyter.widget-view+json": {
              "version_major": 2,
              "version_minor": 0,
              "model_id": "5324f6a56e0b4b8e972c753c82293e8a"
            }
          },
          "metadata": {}
        },
        {
          "output_type": "stream",
          "name": "stderr",
          "text": [
            " 40%|████      | 12/30 [06:14<09:38, 32.14s/it]latent factors= 60 ,regularization = 0.1:, n_iter = 20, alpha = 0.05, AUC= 0.456552\n"
          ]
        },
        {
          "output_type": "display_data",
          "data": {
            "text/plain": "  0%|          | 0/15 [00:00<?, ?it/s]",
            "application/vnd.jupyter.widget-view+json": {
              "version_major": 2,
              "version_minor": 0,
              "model_id": "9528f7ccdb634bf1950f0952abaaec93"
            }
          },
          "metadata": {}
        },
        {
          "output_type": "stream",
          "name": "stderr",
          "text": [
            " 43%|████▎     | 13/30 [06:49<09:22, 33.10s/it]latent factors= 70 ,regularization = 0.5:, n_iter = 15, alpha = 5, AUC= 0.765144\n"
          ]
        },
        {
          "output_type": "display_data",
          "data": {
            "text/plain": "  0%|          | 0/10 [00:00<?, ?it/s]",
            "application/vnd.jupyter.widget-view+json": {
              "version_major": 2,
              "version_minor": 0,
              "model_id": "a9b37f1033044e0a9f045cb44df94300"
            }
          },
          "metadata": {}
        },
        {
          "output_type": "stream",
          "name": "stderr",
          "text": [
            " 47%|████▋     | 14/30 [07:16<08:21, 31.35s/it]latent factors= 20 ,regularization = 0.001:, n_iter = 10, alpha = 0.5, AUC= 0.721945\n"
          ]
        },
        {
          "output_type": "display_data",
          "data": {
            "text/plain": "  0%|          | 0/15 [00:00<?, ?it/s]",
            "application/vnd.jupyter.widget-view+json": {
              "version_major": 2,
              "version_minor": 0,
              "model_id": "49ea115ab0b448f6a5cba60be3af8c67"
            }
          },
          "metadata": {}
        },
        {
          "output_type": "stream",
          "name": "stderr",
          "text": [
            " 50%|█████     | 15/30 [07:51<08:04, 32.31s/it]latent factors= 70 ,regularization = 0.01:, n_iter = 15, alpha = 0.5, AUC= 0.728934\n"
          ]
        },
        {
          "output_type": "display_data",
          "data": {
            "text/plain": "  0%|          | 0/30 [00:00<?, ?it/s]",
            "application/vnd.jupyter.widget-view+json": {
              "version_major": 2,
              "version_minor": 0,
              "model_id": "95a1c04dd6c046339f2aa17538779676"
            }
          },
          "metadata": {}
        },
        {
          "output_type": "stream",
          "name": "stderr",
          "text": [
            " 53%|█████▎    | 16/30 [08:18<07:13, 30.96s/it]latent factors= 20 ,regularization = 0.05:, n_iter = 30, alpha = 100, AUC= 0.791594\n"
          ]
        },
        {
          "output_type": "display_data",
          "data": {
            "text/plain": "  0%|          | 0/10 [00:00<?, ?it/s]",
            "application/vnd.jupyter.widget-view+json": {
              "version_major": 2,
              "version_minor": 0,
              "model_id": "8cedee23bf61422fb1f7f4ded8b179f4"
            }
          },
          "metadata": {}
        },
        {
          "output_type": "stream",
          "name": "stderr",
          "text": [
            " 57%|█████▋    | 17/30 [08:54<07:00, 32.33s/it]latent factors= 50 ,regularization = 10:, n_iter = 10, alpha = 0.1, AUC= 0.79349\n"
          ]
        },
        {
          "output_type": "display_data",
          "data": {
            "text/plain": "  0%|          | 0/30 [00:00<?, ?it/s]",
            "application/vnd.jupyter.widget-view+json": {
              "version_major": 2,
              "version_minor": 0,
              "model_id": "1768ef64830844bc805fe3cd500b6500"
            }
          },
          "metadata": {}
        },
        {
          "output_type": "stream",
          "name": "stderr",
          "text": [
            " 60%|██████    | 18/30 [09:21<06:09, 30.75s/it]latent factors= 10 ,regularization = 0.001:, n_iter = 30, alpha = 5, AUC= 0.786745\n"
          ]
        },
        {
          "output_type": "display_data",
          "data": {
            "text/plain": "  0%|          | 0/25 [00:00<?, ?it/s]",
            "application/vnd.jupyter.widget-view+json": {
              "version_major": 2,
              "version_minor": 0,
              "model_id": "fb627de11e0640e7870ade8d1a86a890"
            }
          },
          "metadata": {}
        },
        {
          "output_type": "stream",
          "name": "stderr",
          "text": [
            " 63%|██████▎   | 19/30 [09:55<05:48, 31.71s/it]latent factors= 60 ,regularization = 0.01:, n_iter = 25, alpha = 50, AUC= 0.764882\n"
          ]
        },
        {
          "output_type": "display_data",
          "data": {
            "text/plain": "  0%|          | 0/20 [00:00<?, ?it/s]",
            "application/vnd.jupyter.widget-view+json": {
              "version_major": 2,
              "version_minor": 0,
              "model_id": "b940324f13744747be24191b06f3619e"
            }
          },
          "metadata": {}
        },
        {
          "output_type": "stream",
          "name": "stderr",
          "text": [
            " 67%|██████▋   | 20/30 [10:27<05:19, 31.91s/it]latent factors= 50 ,regularization = 0.05:, n_iter = 20, alpha = 50, AUC= 0.774264\n"
          ]
        },
        {
          "output_type": "display_data",
          "data": {
            "text/plain": "  0%|          | 0/30 [00:00<?, ?it/s]",
            "application/vnd.jupyter.widget-view+json": {
              "version_major": 2,
              "version_minor": 0,
              "model_id": "38c23b155354455d94d3e218f2925c6d"
            }
          },
          "metadata": {}
        },
        {
          "output_type": "stream",
          "name": "stderr",
          "text": [
            " 70%|███████   | 21/30 [10:58<04:42, 31.42s/it]latent factors= 30 ,regularization = 0.5:, n_iter = 30, alpha = 0.5, AUC= 0.770776\n"
          ]
        },
        {
          "output_type": "display_data",
          "data": {
            "text/plain": "  0%|          | 0/25 [00:00<?, ?it/s]",
            "application/vnd.jupyter.widget-view+json": {
              "version_major": 2,
              "version_minor": 0,
              "model_id": "f336e49acb5a4ccebe228ec01ed943e3"
            }
          },
          "metadata": {}
        },
        {
          "output_type": "stream",
          "name": "stderr",
          "text": [
            " 73%|███████▎  | 22/30 [11:28<04:07, 30.95s/it]latent factors= 30 ,regularization = 0.005:, n_iter = 25, alpha = 100, AUC= 0.775471\n"
          ]
        },
        {
          "output_type": "display_data",
          "data": {
            "text/plain": "  0%|          | 0/25 [00:00<?, ?it/s]",
            "application/vnd.jupyter.widget-view+json": {
              "version_major": 2,
              "version_minor": 0,
              "model_id": "2fd48fbb2c904055bac9b6c9fab3e40d"
            }
          },
          "metadata": {}
        },
        {
          "output_type": "stream",
          "name": "stderr",
          "text": [
            " 77%|███████▋  | 23/30 [11:56<03:32, 30.33s/it]latent factors= 20 ,regularization = 0.5:, n_iter = 25, alpha = 0.001, AUC= 0.781444\n"
          ]
        },
        {
          "output_type": "display_data",
          "data": {
            "text/plain": "  0%|          | 0/25 [00:00<?, ?it/s]",
            "application/vnd.jupyter.widget-view+json": {
              "version_major": 2,
              "version_minor": 0,
              "model_id": "b0430d5ce00d4ceb96e29efdda24cce9"
            }
          },
          "metadata": {}
        },
        {
          "output_type": "stream",
          "name": "stderr",
          "text": [
            " 80%|████████  | 24/30 [12:30<03:08, 31.35s/it]latent factors= 10 ,regularization = 0.5:, n_iter = 25, alpha = 1, AUC= 0.78751\n"
          ]
        },
        {
          "output_type": "display_data",
          "data": {
            "text/plain": "  0%|          | 0/10 [00:00<?, ?it/s]",
            "application/vnd.jupyter.widget-view+json": {
              "version_major": 2,
              "version_minor": 0,
              "model_id": "a17959be5f01483dae5f84088ce01930"
            }
          },
          "metadata": {}
        },
        {
          "output_type": "stream",
          "name": "stderr",
          "text": [
            " 83%|████████▎ | 25/30 [12:59<02:32, 30.58s/it]latent factors= 30 ,regularization = 0.05:, n_iter = 10, alpha = 10, AUC= 0.631241\n"
          ]
        },
        {
          "output_type": "display_data",
          "data": {
            "text/plain": "  0%|          | 0/30 [00:00<?, ?it/s]",
            "application/vnd.jupyter.widget-view+json": {
              "version_major": 2,
              "version_minor": 0,
              "model_id": "d8e881db85184da98a8798139cfe357c"
            }
          },
          "metadata": {}
        },
        {
          "output_type": "stream",
          "name": "stderr",
          "text": [
            " 87%|████████▋ | 26/30 [13:30<02:03, 30.77s/it]latent factors= 40 ,regularization = 0.05:, n_iter = 30, alpha = 0.5, AUC= 0.762404\n"
          ]
        },
        {
          "output_type": "display_data",
          "data": {
            "text/plain": "  0%|          | 0/20 [00:00<?, ?it/s]",
            "application/vnd.jupyter.widget-view+json": {
              "version_major": 2,
              "version_minor": 0,
              "model_id": "57f8933e6ea143f0a4ee5d68ea321543"
            }
          },
          "metadata": {}
        },
        {
          "output_type": "stream",
          "name": "stderr",
          "text": [
            " 90%|█████████ | 27/30 [13:57<01:28, 29.61s/it]latent factors= 10 ,regularization = 0.01:, n_iter = 20, alpha = 1, AUC= 0.770439\n"
          ]
        },
        {
          "output_type": "display_data",
          "data": {
            "text/plain": "  0%|          | 0/10 [00:00<?, ?it/s]",
            "application/vnd.jupyter.widget-view+json": {
              "version_major": 2,
              "version_minor": 0,
              "model_id": "0642431f542a4ce9914a5ab2240b2cac"
            }
          },
          "metadata": {}
        },
        {
          "output_type": "stream",
          "name": "stderr",
          "text": [
            " 93%|█████████▎| 28/30 [14:24<00:57, 28.92s/it]latent factors= 20 ,regularization = 0.005:, n_iter = 10, alpha = 0.5, AUC= 0.724426\n"
          ]
        },
        {
          "output_type": "display_data",
          "data": {
            "text/plain": "  0%|          | 0/25 [00:00<?, ?it/s]",
            "application/vnd.jupyter.widget-view+json": {
              "version_major": 2,
              "version_minor": 0,
              "model_id": "32b426f6b482408da66f44a0101189c7"
            }
          },
          "metadata": {}
        },
        {
          "output_type": "stream",
          "name": "stderr",
          "text": [
            " 97%|█████████▋| 29/30 [14:51<00:28, 28.34s/it]latent factors= 10 ,regularization = 0.01:, n_iter = 25, alpha = 0.05, AUC= 0.447514\n"
          ]
        },
        {
          "output_type": "display_data",
          "data": {
            "text/plain": "  0%|          | 0/20 [00:00<?, ?it/s]",
            "application/vnd.jupyter.widget-view+json": {
              "version_major": 2,
              "version_minor": 0,
              "model_id": "9de7464cd2454563b2d74470788dfddb"
            }
          },
          "metadata": {}
        },
        {
          "output_type": "stream",
          "name": "stderr",
          "text": [
            "100%|██████████| 30/30 [15:19<00:00, 30.64s/it]latent factors= 10 ,regularization = 0.05:, n_iter = 20, alpha = 0.05, AUC= 0.439163\n",
            "\n",
            " Best model; latent factors= 10 , regularization = 1, n_iter = 15, alpha = 5, AUC = 0.79839\n",
            "\n"
          ]
        }
      ],
      "source": [
        "best_model_Info = tune_ALS(train_set,test_set,valid_set,als_param_grid)"
      ]
    },
    {
      "cell_type": "code",
      "execution_count": 31,
      "metadata": {},
      "outputs": [
        {
          "output_type": "stream",
          "name": "stdout",
          "text": [
            "best_rank:  10\nbest_reg:   1\nbest_iter:  15\nbest_alpha:  5\nbest_auc:   0.79839\n"
          ]
        },
        {
          "output_type": "execute_result",
          "data": {
            "text/plain": [
              "<implicit.als.AlternatingLeastSquares at 0x7fc455ac3a90>"
            ]
          },
          "metadata": {},
          "execution_count": 31
        }
      ],
      "source": [
        "#Best model; latent factors= 10 , regularization = 1, n_iter = 15, alpha = 5, AUC = 0.79839\n",
        "best_rank, best_reg, best_iter,best_alpha,best_auc,best_model = best_model_Info\n",
        "print('best_rank: ', best_rank)\n",
        "print('best_reg:  ', best_reg)\n",
        "print('best_iter: ', best_iter)\n",
        "print('best_alpha: ', best_alpha)\n",
        "print('best_auc:  ', best_auc)\n",
        "best_model"
      ]
    },
    {
      "cell_type": "code",
      "execution_count": 32,
      "metadata": {},
      "outputs": [
        {
          "output_type": "execute_result",
          "data": {
            "text/plain": [
              "[<22557x8109 sparse matrix of type '<class 'numpy.float64'>'\n",
              " \twith 40228 stored elements in Compressed Sparse Row format>,\n",
              " <22557x8109 sparse matrix of type '<class 'numpy.float64'>'\n",
              " \twith 41330 stored elements in Compressed Sparse Row format>,\n",
              " <22557x8109 sparse matrix of type '<class 'numpy.float64'>'\n",
              " \twith 42432 stored elements in Compressed Sparse Row format>,\n",
              " <22557x8109 sparse matrix of type '<class 'numpy.float64'>'\n",
              " \twith 43525 stored elements in Compressed Sparse Row format>,\n",
              " <22557x8109 sparse matrix of type '<class 'numpy.float64'>'\n",
              " \twith 44665 stored elements in Compressed Sparse Row format>,\n",
              " <22557x8109 sparse matrix of type '<class 'numpy.float64'>'\n",
              " \twith 45752 stored elements in Compressed Sparse Row format>,\n",
              " <22557x8109 sparse matrix of type '<class 'numpy.float64'>'\n",
              " \twith 47034 stored elements in Compressed Sparse Row format>,\n",
              " <22557x8109 sparse matrix of type '<class 'numpy.float64'>'\n",
              " \twith 48112 stored elements in Compressed Sparse Row format>,\n",
              " <22557x8109 sparse matrix of type '<class 'numpy.float64'>'\n",
              " \twith 49321 stored elements in Compressed Sparse Row format>,\n",
              " <22557x8109 sparse matrix of type '<class 'numpy.float64'>'\n",
              " \twith 50337 stored elements in Compressed Sparse Row format>]"
            ]
          },
          "metadata": {},
          "execution_count": 32
        }
      ],
      "source": [
        "rows_i = newAMZB_DF['Updated_UserID'].nunique()\n",
        "cols_i = newAMZB_DF['Updated_ItemID'].nunique()\n",
        "UserItem_RatMAT = AllRatingMatrices(newUserItem_LIST,'Updated_UserID','Updated_ItemID',rows_i ,cols_i) ##Same as UserItemMAT_regPSI\n",
        "UserItem_RatMAT"
      ]
    },
    {
      "cell_type": "code",
      "execution_count": 35,
      "metadata": {},
      "outputs": [
        {
          "output_type": "stream",
          "name": "stdout",
          "text": [
            "[0, 19386, 19763, 20149, 20538, 20916, 21244, 21630, 21959, 22315, 22557]\n[0, 6537, 6694, 6873, 7034, 7224, 7428, 7645, 7748, 7914, 8109]\n"
          ]
        }
      ],
      "source": [
        "nuser_list = []\n",
        "nItem_list = []\n",
        "for df in  newUserItem_LIST:\n",
        "    nuser_list.append(df['Updated_UserID'].max()+1)\n",
        "    nItem_list.append(df['Updated_ItemID'].max()+1)\n",
        "\n",
        "nuser_list = [0] + nuser_list  \n",
        "nItem_list = [0] + nItem_list  \n",
        "\n",
        "print(nuser_list)\n",
        "print(nItem_list) "
      ]
    },
    {
      "cell_type": "code",
      "execution_count": 39,
      "metadata": {},
      "outputs": [],
      "source": [
        "# for df in newUserItem_LIST:\n",
        "#     print(df['Updated_UserID'].max(),df['Updated_ItemID'].max())  "
      ]
    },
    {
      "cell_type": "code",
      "execution_count": 43,
      "metadata": {},
      "outputs": [],
      "source": [
        "def nonzeros(m, row):\n",
        "    for index in range(m.indptr[row], m.indptr[row+1]):\n",
        "        yield m.indices[index], m.data[index]\n",
        "\n",
        "\n",
        "def least_squares_cg(Cui, X, Y, factors, U1, U2,reglr,cg_steps=3):\n",
        "    YtY = Y.T.dot(Y) + reglr * np.eye(factors)\n",
        "    for u in range(U1, U2):\n",
        "        # start from previous iteration\n",
        "        x = X[u]   #single user vec\n",
        "\n",
        "        # calculate residual r = (YtCuPu - (YtCuY.dot(Xu), without computing YtCuY\n",
        "        r = -YtY.dot(x)\n",
        "        for i, confidence in nonzeros(Cui, u):\n",
        "            r += (confidence - (confidence - 1) * Y[i].dot(x)) * Y[i]\n",
        "\n",
        "        p = r.copy()\n",
        "        rsold = r.dot(r)\n",
        "\n",
        "        for it in range(cg_steps):\n",
        "            # calculate Ap = YtCuYp - without actually calculating YtCuY\n",
        "            Ap = YtY.dot(p)\n",
        "            for i, confidence in nonzeros(Cui, u):\n",
        "                Ap += (confidence - 1) * Y[i].dot(p) * Y[i]\n",
        "\n",
        "            # standard CG update\n",
        "            alpha = rsold / p.dot(Ap)\n",
        "            x += alpha * p\n",
        "            r -= alpha * Ap\n",
        "            rsnew = r.dot(r)\n",
        "            p = r + (rsnew / rsold) * p\n",
        "            rsold = rsnew\n",
        "\n",
        "        X[u] = x\n",
        "\n",
        "\n",
        "def alternating_least_squares_cg(Cui,nuser_list,nItem_list,factors,alpha,reglr,iter):\n",
        "    Cui = Cui*alpha\n",
        "    users, items = Cui.shape  \n",
        "    X = np.random.rand(users, factors) * 0.01  # initialize factors randomly\n",
        "    Y = np.random.rand(items, factors) * 0.01\n",
        "    U_list, V_list = [],[]\n",
        "    Cui, Ciu = Cui.tocsr(), Cui.T.tocsr()\n",
        "    for U1,U2,I1,I2 in tqdm(zip(nuser_list,nuser_list[1:],nItem_list,nItem_list[1:])):\n",
        "        for iteration in range(iter):\n",
        "            least_squares_cg(Cui, X, Y,factors,U1, U2,reglr)   ##for users..\n",
        "            least_squares_cg(Ciu, Y, X,factors,I1, I2,reglr)   ##for items....\n",
        "        U_list.append(X)\n",
        "        V_list.append(Y)\n",
        "\n",
        "    return U_list, V_list\n",
        "     "
      ]
    },
    {
      "cell_type": "code",
      "execution_count": 44,
      "metadata": {},
      "outputs": [
        {
          "output_type": "stream",
          "name": "stderr",
          "text": [
            "10it [00:54,  5.49s/it]10\n",
            "\n"
          ]
        },
        {
          "output_type": "execute_result",
          "data": {
            "text/plain": [
              "[array([[ 4.56707637e-02, -6.05444745e-02, -5.91502529e-02, ...,\n",
              "         -3.12482828e-02,  5.12938059e-03,  4.18608573e-02],\n",
              "        [ 6.99350875e-04, -2.39467026e-03, -1.95689963e-03, ...,\n",
              "         -5.74983540e-04,  6.33644617e-04,  1.22887073e-03],\n",
              "        [-2.93017934e-05, -1.20156263e-03, -8.38908699e-04, ...,\n",
              "          1.42515171e-04,  4.05380006e-04,  4.59454488e-04],\n",
              "        ...,\n",
              "        [ 1.00863972e-06,  8.99437680e-06,  1.61309597e-06, ...,\n",
              "          9.76010043e-06, -8.36951072e-05,  1.36899167e-05],\n",
              "        [ 1.14191493e-04,  2.54062813e-04, -9.91900444e-05, ...,\n",
              "          1.93181258e-04, -1.08648491e-04, -9.42908754e-05],\n",
              "        [ 1.07223381e-03, -1.61100871e-02, -2.31181631e-03, ...,\n",
              "          3.03594856e-03, -4.52528358e-03,  6.44909074e-03]]),\n",
              " array([[ 4.56707637e-02, -6.05444745e-02, -5.91502529e-02, ...,\n",
              "         -3.12482828e-02,  5.12938059e-03,  4.18608573e-02],\n",
              "        [ 6.99350875e-04, -2.39467026e-03, -1.95689963e-03, ...,\n",
              "         -5.74983540e-04,  6.33644617e-04,  1.22887073e-03],\n",
              "        [-2.93017934e-05, -1.20156263e-03, -8.38908699e-04, ...,\n",
              "          1.42515171e-04,  4.05380006e-04,  4.59454488e-04],\n",
              "        ...,\n",
              "        [ 1.00863972e-06,  8.99437680e-06,  1.61309597e-06, ...,\n",
              "          9.76010043e-06, -8.36951072e-05,  1.36899167e-05],\n",
              "        [ 1.14191493e-04,  2.54062813e-04, -9.91900444e-05, ...,\n",
              "          1.93181258e-04, -1.08648491e-04, -9.42908754e-05],\n",
              "        [ 1.07223381e-03, -1.61100871e-02, -2.31181631e-03, ...,\n",
              "          3.03594856e-03, -4.52528358e-03,  6.44909074e-03]])]"
            ]
          },
          "metadata": {},
          "execution_count": 44
        }
      ],
      "source": [
        "#latent factors= 10 , regularization = 1, n_iter = 15, alpha = 5, AUC = 0.79839\n",
        "Ulist_als,Vlist_als = alternating_least_squares_cg(UserItem_RatMAT[-1],nuser_list,nItem_list,factors=10,alpha=5,reglr=1,iter=15)\n",
        "print(len(Ulist_als))  \n",
        "Ulist_als[:2]"
      ]
    },
    {
      "cell_type": "code",
      "execution_count": 48,
      "metadata": {},
      "outputs": [
        {
          "output_type": "execute_result",
          "data": {
            "text/plain": [
              "(22557, 10)"
            ]
          },
          "metadata": {},
          "execution_count": 48
        }
      ],
      "source": [
        "Ulist_als[0].shape"
      ]
    },
    {
      "cell_type": "code",
      "execution_count": 53,
      "metadata": {},
      "outputs": [
        {
          "output_type": "stream",
          "name": "stdout",
          "text": [
            "(474, 10)\n"
          ]
        },
        {
          "output_type": "execute_result",
          "data": {
            "text/plain": [
              "array([[ 176,  465,  230, ...,  195,  558,  692],\n",
              "       [1230,  995,  676, ...,  311,  368, 3985],\n",
              "       [ 555,  230,  374, ...,  557,  176,  194],\n",
              "       ...,\n",
              "       [  25,   24,  239, ..., 1247, 3397, 3329],\n",
              "       [ 815,  319,  251, ..., 1923,  554, 3329],\n",
              "       [ 555,  369, 1409, ...,  225,  176,  465]])"
            ]
          },
          "metadata": {},
          "execution_count": 53
        }
      ],
      "source": [
        "##Hitrate\n",
        "top10_pred = ials_TopNPred(UserItem_RatMAT[0],newHOLDOUTDF_LIST[0],Ulist_als[0],Vlist_als[0],'Updated_UserID', N=10)\n",
        "print(top10_pred.shape)\n",
        "top10_pred"
      ]
    },
    {
      "cell_type": "code",
      "execution_count": 54,
      "metadata": {},
      "outputs": [
        {
          "output_type": "stream",
          "name": "stdout",
          "text": [
            "Number of hits:  144\nTotal Num of users:  474\nRecommendation HitRate:  0.3037974683544304\n"
          ]
        },
        {
          "output_type": "execute_result",
          "data": {
            "text/plain": [
              "0.3037974683544304"
            ]
          },
          "metadata": {},
          "execution_count": 54
        }
      ],
      "source": [
        "Hitrate_Eval(newHOLDOUTDF_LIST[0],top10_pred,'Updated_UserID','Updated_ItemID')  #"
      ]
    },
    {
      "cell_type": "code",
      "execution_count": 55,
      "metadata": {},
      "outputs": [
        {
          "output_type": "stream",
          "name": "stderr",
          "text": [
            "10it [00:00, 11.27it/s]10\n",
            "\n"
          ]
        },
        {
          "output_type": "execute_result",
          "data": {
            "text/plain": [
              "[array([[ 176,  465,  230, ...,  195,  558,  692],\n",
              "        [1230,  995,  676, ...,  311,  368, 3985],\n",
              "        [ 555,  230,  374, ...,  557,  176,  194],\n",
              "        ...,\n",
              "        [  25,   24,  239, ..., 1247, 3397, 3329],\n",
              "        [ 815,  319,  251, ..., 1923,  554, 3329],\n",
              "        [ 555,  369, 1409, ...,  225,  176,  465]]),\n",
              " array([[ 995, 1230, 2849, ...,  322,  413,  555],\n",
              "        [ 555,  369,  368, ..., 3985,  226,  225],\n",
              "        [ 842,  692,  110, ...,  311,  523, 1230],\n",
              "        ...,\n",
              "        [ 311,  110,  376, ...,  676,  297,  369],\n",
              "        [ 427,  110,  376, ...,  842,  231,  107],\n",
              "        [  74,  319,  389, ...,   50, 1138,  133]])]"
            ]
          },
          "metadata": {},
          "execution_count": 55
        }
      ],
      "source": [
        "                #ials_getALLPredTQDM(RatingMat_List,HOLDOUT_list,U_list,V_list,user_column,N)\n",
        "Allals_topNPRED =  ials_getALLPredTQDM(UserItem_RatMAT,newHOLDOUTDF_LIST,Ulist_als,Vlist_als,'Updated_UserID',N = 10)\n",
        "print(len(Allals_topNPRED))\n",
        "Allals_topNPRED[:2]"
      ]
    },
    {
      "cell_type": "code",
      "execution_count": 57,
      "metadata": {},
      "outputs": [
        {
          "output_type": "stream",
          "name": "stdout",
          "text": [
            "Number of hits:  144\nTotal Num of users:  474\nRecommendation HitRate:  0.3037974683544304\nNumber of hits:  166\nTotal Num of users:  433\nRecommendation HitRate:  0.3833718244803695\nNumber of hits:  184\nTotal Num of users:  465\nRecommendation HitRate:  0.3956989247311828\nNumber of hits:  183\nTotal Num of users:  478\nRecommendation HitRate:  0.38284518828451886\nNumber of hits:  169\nTotal Num of users:  478\nRecommendation HitRate:  0.35355648535564854\nNumber of hits:  194\nTotal Num of users:  508\nRecommendation HitRate:  0.38188976377952755\nNumber of hits:  394\nTotal Num of users:  612\nRecommendation HitRate:  0.6437908496732027\nNumber of hits:  242\nTotal Num of users:  599\nRecommendation HitRate:  0.4040066777963272\nNumber of hits:  223\nTotal Num of users:  536\nRecommendation HitRate:  0.416044776119403\nNumber of hits:  95\nTotal Num of users:  425\nRecommendation HitRate:  0.2235294117647059\nAverage HitRate for All Recommendations:  0.3888531370339316\n"
          ]
        },
        {
          "output_type": "execute_result",
          "data": {
            "text/plain": [
              "[0.3037974683544304,\n",
              " 0.3833718244803695,\n",
              " 0.3956989247311828,\n",
              " 0.38284518828451886,\n",
              " 0.35355648535564854,\n",
              " 0.38188976377952755,\n",
              " 0.6437908496732027,\n",
              " 0.4040066777963272,\n",
              " 0.416044776119403,\n",
              " 0.2235294117647059]"
            ]
          },
          "metadata": {},
          "execution_count": 57
        }
      ],
      "source": [
        "als_AllStepsHitR_, als_LBand, als_AvgHitR, als_UBand   = getAll_HitRate(newHOLDOUTDF_LIST,Allals_topNPRED,'Updated_UserID','Updated_ItemID')\n",
        "als_AllStepsHitR_"
      ]
    },
    {
      "cell_type": "code",
      "execution_count": 58,
      "metadata": {},
      "outputs": [
        {
          "output_type": "execute_result",
          "data": {
            "text/plain": [
              "0.3888531370339316"
            ]
          },
          "metadata": {},
          "execution_count": 58
        }
      ],
      "source": [
        "als_AvgHitR"
      ]
    },
    {
      "cell_type": "code",
      "execution_count": 61,
      "metadata": {},
      "outputs": [
        {
          "output_type": "stream",
          "name": "stdout",
          "text": [
            "10\n"
          ]
        },
        {
          "output_type": "execute_result",
          "data": {
            "text/plain": [
              "[array([[ 168,  311, 1230, ...,  369,  368,  676],\n",
              "        [ 168,  311, 1230, ...,  369,  368,  110],\n",
              "        [1230,  168,  311, ...,  321,   43,  415],\n",
              "        ...,\n",
              "        [ 842,  692,  385, ...,  230,  374,  195],\n",
              "        [ 555,  107,  106, ...,  311,  168,  842],\n",
              "        [1230,  995,  800, ...,  555,  231, 3985]]),\n",
              " array([[ 168,  311, 1230, ...,  369,  368,  676],\n",
              "        [ 168,  311, 1230, ...,  369,  368,  110],\n",
              "        [1230,  168,  311, ...,  321,   43,  415],\n",
              "        ...,\n",
              "        [ 842,  692,  385, ...,  230,  374,  195],\n",
              "        [ 555,  107,  106, ...,  311,  168,  842],\n",
              "        [1230,  995,  800, ...,  555,  231, 3985]])]"
            ]
          },
          "metadata": {},
          "execution_count": 61
        }
      ],
      "source": [
        "##All prediction:\n",
        "All_alsPRED_List = ialsALLPred_ALLUSERS(UserItem_RatMAT,Ulist_als,Vlist_als,N=10)\n",
        "print(len(All_alsPRED_List))\n",
        "All_alsPRED_List[:2]"
      ]
    },
    {
      "cell_type": "code",
      "execution_count": 62,
      "metadata": {},
      "outputs": [
        {
          "output_type": "execute_result",
          "data": {
            "text/plain": [
              "(22557, 10)"
            ]
          },
          "metadata": {},
          "execution_count": 62
        }
      ],
      "source": [
        "All_alsPRED_List[0].shape"
      ]
    },
    {
      "cell_type": "code",
      "execution_count": 63,
      "metadata": {},
      "outputs": [],
      "source": [
        "with open('AMZB_iALS_AllPRED.pkl', 'wb') as f:\n",
        "     pickle.dump(All_alsPRED_List, f)\n"
      ]
    },
    {
      "cell_type": "code",
      "execution_count": 65,
      "metadata": {},
      "outputs": [
        {
          "output_type": "stream",
          "name": "stdout",
          "text": [
            "9\n"
          ]
        },
        {
          "output_type": "execute_result",
          "data": {
            "text/plain": [
              "[1, 2, 3, 4, 5, 6, 7, 8, 9]"
            ]
          },
          "metadata": {},
          "execution_count": 65
        }
      ],
      "source": [
        "AllSteps = list(range(1,10))\n",
        "print(len(AllSteps))\n",
        "AllSteps  "
      ]
    },
    {
      "cell_type": "code",
      "execution_count": 66,
      "metadata": {},
      "outputs": [
        {
          "output_type": "execute_result",
          "data": {
            "text/plain": [
              "array([array([1.        , 1.        , 1.        , ..., 0.23006416, 0.7956453 ,\n",
              "              0.7956453 ])                                                    ,\n",
              "       array([1.        , 1.        , 1.        , ..., 0.49096051, 1.        ,\n",
              "              0.49096051])                                                    ,\n",
              "       array([1.        , 1.        , 1.        , ..., 1.        , 0.70836709,\n",
              "              0.70836709])                                                    ,\n",
              "       array([1.        , 1.        , 1.        , ..., 1.        , 0.49096051,\n",
              "              0.49096051])                                                    ,\n",
              "       array([1.        , 1.        , 1.        , ..., 0.49096051, 1.        ,\n",
              "              1.        ])                                                    ,\n",
              "       array([1.        , 1.        , 1.        , ..., 0.49096051, 0.49096051,\n",
              "              0.49096051])                                                    ,\n",
              "       array([1.        , 1.        , 1.        , ..., 1.        , 0.87216233,\n",
              "              0.49096051])                                                    ,\n",
              "       array([1.        , 1.        , 1.        , ..., 0.49096051, 0.49096051,\n",
              "              1.        ])                                                    ,\n",
              "       array([1.        , 1.        , 1.        , ..., 0.92690249, 0.70836709,\n",
              "              0.70836709])                                                    ],\n",
              "      dtype=object)"
            ]
          },
          "metadata": {},
          "execution_count": 66
        }
      ],
      "source": [
        "iALSCorr_ = Updt_getAll_AvgCorr(All_alsPRED_List,newUserItem_LIST,AllSteps,'Updated_UserID')  #,\n",
        "iALSCorr_"
      ]
    },
    {
      "cell_type": "code",
      "execution_count": 67,
      "metadata": {},
      "outputs": [
        {
          "output_type": "stream",
          "name": "stdout",
          "text": [
            "0.996466063579644\n0.995986449911295\n0.9959772455767535\n0.9959464850825885\n0.9963665240851328\n0.9947229355027233\n0.9920537619557133\n0.995189034425968\n0.9956833060977254\n"
          ]
        }
      ],
      "source": [
        "iALSCorr_.shape\n",
        "for df in iALSCorr_:\n",
        "    print(df.mean())  "
      ]
    },
    {
      "cell_type": "code",
      "execution_count": 71,
      "metadata": {},
      "outputs": [
        {
          "output_type": "stream",
          "name": "stderr",
          "text": [
            "10it [00:00, 448.29it/s]\n"
          ]
        },
        {
          "output_type": "execute_result",
          "data": {
            "text/plain": [
              "[0.272925,\n",
              " 0.34048,\n",
              " 0.336298,\n",
              " 0.332516,\n",
              " 0.295766,\n",
              " 0.288162,\n",
              " 0.526554,\n",
              " 0.323448,\n",
              " 0.340648,\n",
              " 0.168509]"
            ]
          },
          "metadata": {},
          "execution_count": 71
        }
      ],
      "source": [
        "##mrr\n",
        "#als_AllStepsHitR_, als_LBand, als_AvgHitR, als_UBand \n",
        "als_AllStepsMRR, als_LBand, als_AvgMRR, als_UBand  = TQDMgetAll_MRR_Eval(newHOLDOUTDF_LIST,Allals_topNPRED,'Updated_ItemID')\n",
        "als_AllStepsMRR    "
      ]
    },
    {
      "cell_type": "code",
      "execution_count": 72,
      "metadata": {},
      "outputs": [
        {
          "output_type": "execute_result",
          "data": {
            "text/plain": [
              "[0.012579,\n",
              " 0.012702,\n",
              " 0.012702,\n",
              " 0.012702,\n",
              " 0.012702,\n",
              " 0.012702,\n",
              " 0.012702,\n",
              " 0.012702,\n",
              " 0.012702,\n",
              " 0.012702]"
            ]
          },
          "metadata": {},
          "execution_count": 72
        }
      ],
      "source": [
        "###cOVERAGE:\n",
        "als_AvgCovList = AllSteps_Coverage_Ratio(newAMZB_DF,All_alsPRED_List,'Updated_ItemID')\n",
        "als_AvgCovList"
      ]
    },
    {
      "cell_type": "code",
      "execution_count": null,
      "metadata": {},
      "outputs": [],
      "source": []
    },
    {
      "cell_type": "markdown",
      "metadata": {
        "id": "dlm-q9ms_BWw"
      },
      "source": [
        "### Regular PSI "
      ]
    },
    {
      "cell_type": "markdown",
      "metadata": {
        "id": "uWbLS4cbPI19"
      },
      "source": [
        "#### Get Rating Matrices"
      ]
    },
    {
      "cell_type": "code",
      "execution_count": 100,
      "metadata": {},
      "outputs": [
        {
          "output_type": "stream",
          "name": "stdout",
          "text": [
            "(51277, 7)\n22797 8611\n22557 8109\n\n22556 8108\n22557 8109\n"
          ]
        },
        {
          "output_type": "execute_result",
          "data": {
            "text/plain": [
              "   userId  productId  rating  timestamp timestamp_YM  Updated_UserID  \\\n",
              "0       0          0       1 2001-06-08      2001-06               0   \n",
              "1       1          0       1 2002-06-12      2002-06               1   \n",
              "2       1          1       1 2002-06-12      2002-06               1   \n",
              "3       2          1       1 2002-06-17      2002-06               2   \n",
              "4       3          1       1 2002-07-04      2002-07               3   \n",
              "\n",
              "   Updated_ItemID  \n",
              "0               0  \n",
              "1               0  \n",
              "2               1  \n",
              "3               1  \n",
              "4               1  "
            ],
            "text/html": "<div>\n<style scoped>\n    .dataframe tbody tr th:only-of-type {\n        vertical-align: middle;\n    }\n\n    .dataframe tbody tr th {\n        vertical-align: top;\n    }\n\n    .dataframe thead th {\n        text-align: right;\n    }\n</style>\n<table border=\"1\" class=\"dataframe\">\n  <thead>\n    <tr style=\"text-align: right;\">\n      <th></th>\n      <th>userId</th>\n      <th>productId</th>\n      <th>rating</th>\n      <th>timestamp</th>\n      <th>timestamp_YM</th>\n      <th>Updated_UserID</th>\n      <th>Updated_ItemID</th>\n    </tr>\n  </thead>\n  <tbody>\n    <tr>\n      <th>0</th>\n      <td>0</td>\n      <td>0</td>\n      <td>1</td>\n      <td>2001-06-08</td>\n      <td>2001-06</td>\n      <td>0</td>\n      <td>0</td>\n    </tr>\n    <tr>\n      <th>1</th>\n      <td>1</td>\n      <td>0</td>\n      <td>1</td>\n      <td>2002-06-12</td>\n      <td>2002-06</td>\n      <td>1</td>\n      <td>0</td>\n    </tr>\n    <tr>\n      <th>2</th>\n      <td>1</td>\n      <td>1</td>\n      <td>1</td>\n      <td>2002-06-12</td>\n      <td>2002-06</td>\n      <td>1</td>\n      <td>1</td>\n    </tr>\n    <tr>\n      <th>3</th>\n      <td>2</td>\n      <td>1</td>\n      <td>1</td>\n      <td>2002-06-17</td>\n      <td>2002-06</td>\n      <td>2</td>\n      <td>1</td>\n    </tr>\n    <tr>\n      <th>4</th>\n      <td>3</td>\n      <td>1</td>\n      <td>1</td>\n      <td>2002-07-04</td>\n      <td>2002-07</td>\n      <td>3</td>\n      <td>1</td>\n    </tr>\n  </tbody>\n</table>\n</div>"
          },
          "metadata": {},
          "execution_count": 100
        }
      ],
      "source": [
        "print(newAMZB_DF.shape)\n",
        "print(newAMZB_DF['userId'].max(),newAMZB_DF['productId'].max())\n",
        "print(newAMZB_DF['userId'].nunique(),newAMZB_DF['productId'].nunique())\n",
        "print()\n",
        "print(newAMZB_DF['Updated_UserID'].max(),newAMZB_DF['Updated_ItemID'].max())\n",
        "print(newAMZB_DF['Updated_UserID'].nunique(),newAMZB_DF['Updated_ItemID'].nunique())\n",
        "newAMZB_DF.head()"
      ]
    },
    {
      "cell_type": "code",
      "execution_count": 101,
      "metadata": {
        "colab": {
          "base_uri": "https://localhost:8080/"
        },
        "id": "9VaLJAAPRRLc",
        "outputId": "3cb7f9b6-ccb4-4b5a-ef25-66be8380bd80"
      },
      "outputs": [
        {
          "output_type": "stream",
          "name": "stdout",
          "text": [
            "(30661, 5)\n"
          ]
        },
        {
          "output_type": "execute_result",
          "data": {
            "text/plain": [
              "<22557x8109 sparse matrix of type '<class 'numpy.float64'>'\n",
              "\twith 30415 stored elements in Compressed Sparse Row format>"
            ]
          },
          "metadata": {},
          "execution_count": 101
        }
      ],
      "source": [
        "rows_i = newAMZB_DF['Updated_UserID'].nunique()\n",
        "cols_i = newAMZB_DF['Updated_ItemID'].nunique()\n",
        "print(A0_df.shape)\n",
        "A0_Rating_matrix = SingleRatingMatrix(A0_df,'userId', 'productId',rows_i,cols_i)  ##changes start within steps...\n",
        "A0_Rating_matrix"
      ]
    },
    {
      "cell_type": "code",
      "execution_count": 105,
      "metadata": {},
      "outputs": [
        {
          "output_type": "stream",
          "name": "stdout",
          "text": [
            "19385 6536\n19747 6674\n20140 6837\n20537 6998\n20915 7178\n21216 7383\n21628 7579\n21948 7742\n22314 7866\n22502 8041\n"
          ]
        }
      ],
      "source": [
        "for df in new_PSIDFlist:\n",
        "    print(df['Updated_UserID'].max(),df['Updated_ItemID'].max())"
      ]
    },
    {
      "cell_type": "code",
      "execution_count": 106,
      "metadata": {
        "colab": {
          "base_uri": "https://localhost:8080/"
        },
        "id": "PJgsMKCpRRMD",
        "outputId": "1b4cc003-3329-4043-de8a-c5f7d5a40e41"
      },
      "outputs": [
        {
          "output_type": "stream",
          "name": "stdout",
          "text": [
            "Length of PSI_Train : 8\nLength of PSI_Test  : 10\n"
          ]
        }
      ],
      "source": [
        "print(\"Length of PSI_Train :\",len(ΔA_train))\n",
        "print(\"Length of PSI_Test  :\",len(new_PSIDFlist))  "
      ]
    },
    {
      "cell_type": "code",
      "execution_count": 107,
      "metadata": {
        "colab": {
          "base_uri": "https://localhost:8080/"
        },
        "id": "EBFJoOOvRRME",
        "outputId": "fd8f9149-59dd-40ad-d6c5-572b6df59721"
      },
      "outputs": [
        {
          "output_type": "execute_result",
          "data": {
            "text/plain": [
              "[<22557x8109 sparse matrix of type '<class 'numpy.float64'>'\n",
              " \twith 1197 stored elements in Compressed Sparse Row format>,\n",
              " <22557x8109 sparse matrix of type '<class 'numpy.float64'>'\n",
              " \twith 1199 stored elements in Compressed Sparse Row format>,\n",
              " <22557x8109 sparse matrix of type '<class 'numpy.float64'>'\n",
              " \twith 1197 stored elements in Compressed Sparse Row format>,\n",
              " <22557x8109 sparse matrix of type '<class 'numpy.float64'>'\n",
              " \twith 1199 stored elements in Compressed Sparse Row format>,\n",
              " <22557x8109 sparse matrix of type '<class 'numpy.float64'>'\n",
              " \twith 1199 stored elements in Compressed Sparse Row format>,\n",
              " <22557x8109 sparse matrix of type '<class 'numpy.float64'>'\n",
              " \twith 1200 stored elements in Compressed Sparse Row format>,\n",
              " <22557x8109 sparse matrix of type '<class 'numpy.float64'>'\n",
              " \twith 1200 stored elements in Compressed Sparse Row format>,\n",
              " <22557x8109 sparse matrix of type '<class 'numpy.float64'>'\n",
              " \twith 1200 stored elements in Compressed Sparse Row format>]"
            ]
          },
          "metadata": {},
          "execution_count": 107
        }
      ],
      "source": [
        "PSI_train_matrix = AllRatingMatrices(ΔA_train,'userId','productId',rows_i ,cols_i)\n",
        "PSI_train_matrix   "
      ]
    },
    {
      "cell_type": "code",
      "execution_count": 109,
      "metadata": {},
      "outputs": [
        {
          "output_type": "stream",
          "name": "stdout",
          "text": [
            "10\n"
          ]
        },
        {
          "output_type": "execute_result",
          "data": {
            "text/plain": [
              "[<22557x8109 sparse matrix of type '<class 'numpy.float64'>'\n",
              " \twith 324 stored elements in Compressed Sparse Row format>,\n",
              " <22557x8109 sparse matrix of type '<class 'numpy.float64'>'\n",
              " \twith 343 stored elements in Compressed Sparse Row format>,\n",
              " <22557x8109 sparse matrix of type '<class 'numpy.float64'>'\n",
              " \twith 347 stored elements in Compressed Sparse Row format>,\n",
              " <22557x8109 sparse matrix of type '<class 'numpy.float64'>'\n",
              " \twith 338 stored elements in Compressed Sparse Row format>,\n",
              " <22557x8109 sparse matrix of type '<class 'numpy.float64'>'\n",
              " \twith 338 stored elements in Compressed Sparse Row format>,\n",
              " <22557x8109 sparse matrix of type '<class 'numpy.float64'>'\n",
              " \twith 292 stored elements in Compressed Sparse Row format>,\n",
              " <22557x8109 sparse matrix of type '<class 'numpy.float64'>'\n",
              " \twith 395 stored elements in Compressed Sparse Row format>,\n",
              " <22557x8109 sparse matrix of type '<class 'numpy.float64'>'\n",
              " \twith 323 stored elements in Compressed Sparse Row format>,\n",
              " <22557x8109 sparse matrix of type '<class 'numpy.float64'>'\n",
              " \twith 362 stored elements in Compressed Sparse Row format>,\n",
              " <22557x8109 sparse matrix of type '<class 'numpy.float64'>'\n",
              " \twith 203 stored elements in Compressed Sparse Row format>]"
            ]
          },
          "metadata": {},
          "execution_count": 109
        }
      ],
      "source": [
        "PSI_test_matrix = AllRatingMatrices(new_PSIDFlist,'Updated_UserID','Updated_ItemID',rows_i ,cols_i)                                                                      \n",
        "print(len(PSI_test_matrix))\n",
        "PSI_test_matrix"
      ]
    },
    {
      "cell_type": "code",
      "execution_count": 112,
      "metadata": {},
      "outputs": [
        {
          "output_type": "execute_result",
          "data": {
            "text/plain": [
              "[<22557x8109 sparse matrix of type '<class 'numpy.float64'>'\n",
              " \twith 40228 stored elements in Compressed Sparse Row format>,\n",
              " <22557x8109 sparse matrix of type '<class 'numpy.float64'>'\n",
              " \twith 41330 stored elements in Compressed Sparse Row format>,\n",
              " <22557x8109 sparse matrix of type '<class 'numpy.float64'>'\n",
              " \twith 42432 stored elements in Compressed Sparse Row format>,\n",
              " <22557x8109 sparse matrix of type '<class 'numpy.float64'>'\n",
              " \twith 43525 stored elements in Compressed Sparse Row format>,\n",
              " <22557x8109 sparse matrix of type '<class 'numpy.float64'>'\n",
              " \twith 44665 stored elements in Compressed Sparse Row format>,\n",
              " <22557x8109 sparse matrix of type '<class 'numpy.float64'>'\n",
              " \twith 45752 stored elements in Compressed Sparse Row format>,\n",
              " <22557x8109 sparse matrix of type '<class 'numpy.float64'>'\n",
              " \twith 47034 stored elements in Compressed Sparse Row format>,\n",
              " <22557x8109 sparse matrix of type '<class 'numpy.float64'>'\n",
              " \twith 48112 stored elements in Compressed Sparse Row format>,\n",
              " <22557x8109 sparse matrix of type '<class 'numpy.float64'>'\n",
              " \twith 49321 stored elements in Compressed Sparse Row format>,\n",
              " <22557x8109 sparse matrix of type '<class 'numpy.float64'>'\n",
              " \twith 50337 stored elements in Compressed Sparse Row format>]"
            ]
          },
          "metadata": {},
          "execution_count": 112
        }
      ],
      "source": [
        "UserItemMAT_regPSI = AllRatingMatrices(newUserItem_list,'Updated_UserID','Updated_ItemID',rows_i ,cols_i) \n",
        "UserItemMAT_regPSI  "
      ]
    },
    {
      "cell_type": "code",
      "execution_count": 113,
      "metadata": {
        "colab": {
          "base_uri": "https://localhost:8080/"
        },
        "id": "bZGtyUJPRCff",
        "outputId": "8e7cd4d6-1f3a-42b7-806e-6ebdb96bed2b"
      },
      "outputs": [
        {
          "output_type": "stream",
          "name": "stdout",
          "text": [
            "22799 8620\n22799 8620\n"
          ]
        }
      ],
      "source": [
        "print(AllDF_list[-1]['userId'].nunique(),AllDF_list[-1]['productId'].nunique())\n",
        "print(AMZB_DF['userId'].nunique(),AMZB_DF['productId'].nunique())"
      ]
    },
    {
      "cell_type": "markdown",
      "metadata": {
        "id": "PTIqbZ8v3wX3"
      },
      "source": [
        "#### PSI PredEval"
      ]
    },
    {
      "cell_type": "code",
      "execution_count": 114,
      "metadata": {
        "colab": {
          "base_uri": "https://localhost:8080/"
        },
        "id": "erGth4eKRRMJ",
        "outputId": "55daf721-ccc9-438f-a637-b77da7712052"
      },
      "outputs": [
        {
          "output_type": "stream",
          "name": "stdout",
          "text": [
            "10\n"
          ]
        }
      ],
      "source": [
        "Vpsi_listReg =  integratorOnMat(A0_Rating_matrix,PSI_train_matrix,PSI_test_matrix,k=70)  #PSI\n",
        "print(len(Vpsi_listReg))  ##Rank==70"
      ]
    },
    {
      "cell_type": "code",
      "execution_count": 116,
      "metadata": {
        "colab": {
          "base_uri": "https://localhost:8080/"
        },
        "id": "c9jUgHkKAhbi",
        "outputId": "be5430ee-3931-400d-8944-8c8126127ea2"
      },
      "outputs": [
        {
          "output_type": "stream",
          "name": "stdout",
          "text": [
            "(474, 10)\n"
          ]
        },
        {
          "output_type": "execute_result",
          "data": {
            "text/plain": [
              "array([[ 558,   22,  995, ...,  488,   66, 4323],\n",
              "       [ 360, 1283,  185, ...,  789,  928,  242],\n",
              "       [ 389,  598,  723, ...,   82,  804, 1310],\n",
              "       ...,\n",
              "       [ 251,  239, 1566, ...,  499, 1247, 1967],\n",
              "       [ 319,  815,  422, ...,  854, 1412, 4005],\n",
              "       [ 369,  420, 1120, ...,  694,  144, 1076]])"
            ]
          },
          "metadata": {},
          "execution_count": 116
        }
      ],
      "source": [
        "Top10Pred_psi = TopNPred(UserItemMAT_regPSI[0], newHoldout_list[0],Vpsi_listReg[0],'Updated_UserID',N=10)\n",
        "print(Top10Pred_psi.shape)\n",
        "Top10Pred_psi  "
      ]
    },
    {
      "cell_type": "code",
      "execution_count": 118,
      "metadata": {
        "colab": {
          "base_uri": "https://localhost:8080/"
        },
        "id": "u1sFaxNBAhc2",
        "outputId": "a221cdb8-2cb0-4ae9-b4b2-eace696881c5"
      },
      "outputs": [
        {
          "output_type": "stream",
          "name": "stdout",
          "text": [
            "Number of hits:  127\nTotal Num of users:  474\nRecommendation HitRate:  0.2679324894514768\n"
          ]
        },
        {
          "output_type": "execute_result",
          "data": {
            "text/plain": [
              "0.2679324894514768"
            ]
          },
          "metadata": {},
          "execution_count": 118
        }
      ],
      "source": [
        "Hitrate_Eval(newHoldout_list[0],Top10Pred_psi,'Updated_UserID','Updated_ItemID')"
      ]
    },
    {
      "cell_type": "code",
      "execution_count": 119,
      "metadata": {
        "colab": {
          "base_uri": "https://localhost:8080/"
        },
        "id": "oUDxtIohbVj8",
        "outputId": "48677220-09c6-4c42-bb00-17236691f54f"
      },
      "outputs": [
        {
          "output_type": "stream",
          "name": "stderr",
          "text": [
            "10it [00:00, 13.53it/s]10\n",
            "\n"
          ]
        },
        {
          "output_type": "execute_result",
          "data": {
            "text/plain": [
              "[array([[ 558,   22,  995, ...,  488,   66, 4323],\n",
              "        [ 360, 1283,  185, ...,  789,  928,  242],\n",
              "        [ 389,  598,  723, ...,   82,  804, 1310],\n",
              "        ...,\n",
              "        [ 251,  239, 1566, ...,  499, 1247, 1967],\n",
              "        [ 319,  815,  422, ...,  854, 1412, 4005],\n",
              "        [ 369,  420, 1120, ...,  694,  144, 1076]]),\n",
              " array([[ 389,  598,  723, ...,   82,  804, 1310],\n",
              "        [1283,  694,  231, ...,  965, 1012,  789],\n",
              "        [  86,   92,  272, ..., 1947, 5594,    5],\n",
              "        ...,\n",
              "        [ 311,  129,   85, ...,  242,  272, 1385],\n",
              "        [ 427, 1435,  635, ..., 2043,  582, 1401],\n",
              "        [  74, 2255,  231, ..., 1307, 2645,  460]])]"
            ]
          },
          "metadata": {},
          "execution_count": 119
        }
      ],
      "source": [
        "All_regPSI_PRED =  TQDMgetALLTopNPred(UserItemMAT_regPSI,newHoldout_list,Vpsi_listReg,'Updated_UserID',N = 10)\n",
        "print(len(All_regPSI_PRED))\n",
        "All_regPSI_PRED[:2]"
      ]
    },
    {
      "cell_type": "code",
      "execution_count": 120,
      "metadata": {
        "colab": {
          "base_uri": "https://localhost:8080/"
        },
        "id": "2ZnpolG9A7KZ",
        "outputId": "e843ebf9-2b5e-410b-84d5-21a21489fb4e"
      },
      "outputs": [
        {
          "output_type": "stream",
          "name": "stdout",
          "text": [
            "Number of hits:  127\nTotal Num of users:  474\nRecommendation HitRate:  0.2679324894514768\nNumber of hits:  148\nTotal Num of users:  433\nRecommendation HitRate:  0.3418013856812933\nNumber of hits:  157\nTotal Num of users:  465\nRecommendation HitRate:  0.33763440860215055\nNumber of hits:  144\nTotal Num of users:  478\nRecommendation HitRate:  0.301255230125523\nNumber of hits:  135\nTotal Num of users:  478\nRecommendation HitRate:  0.2824267782426778\nNumber of hits:  139\nTotal Num of users:  508\nRecommendation HitRate:  0.2736220472440945\nNumber of hits:  168\nTotal Num of users:  612\nRecommendation HitRate:  0.27450980392156865\nNumber of hits:  149\nTotal Num of users:  599\nRecommendation HitRate:  0.24874791318864775\nNumber of hits:  165\nTotal Num of users:  536\nRecommendation HitRate:  0.30783582089552236\nNumber of hits:  61\nTotal Num of users:  425\nRecommendation HitRate:  0.14352941176470588\nAverage HitRate for All Recommendations:  0.27792952891176614\n"
          ]
        }
      ],
      "source": [
        "AllSteps_Hitrate_psi, LowerBand, Avg_HitRate, UpperBand   = getAll_HitRate(newHoldout_list,All_regPSI_PRED,'Updated_UserID','Updated_ItemID')"
      ]
    },
    {
      "cell_type": "code",
      "execution_count": 121,
      "metadata": {
        "id": "wzOFbi-7SrOS"
      },
      "outputs": [
        {
          "output_type": "execute_result",
          "data": {
            "text/plain": [
              "[0.2679324894514768,\n",
              " 0.3418013856812933,\n",
              " 0.33763440860215055,\n",
              " 0.301255230125523,\n",
              " 0.2824267782426778,\n",
              " 0.2736220472440945,\n",
              " 0.27450980392156865,\n",
              " 0.24874791318864775,\n",
              " 0.30783582089552236,\n",
              " 0.14352941176470588]"
            ]
          },
          "metadata": {},
          "execution_count": 121
        }
      ],
      "source": [
        "AllSteps_Hitrate_psi  #Rank ==70"
      ]
    },
    {
      "cell_type": "code",
      "execution_count": null,
      "metadata": {},
      "outputs": [],
      "source": []
    },
    {
      "cell_type": "code",
      "execution_count": 123,
      "metadata": {
        "id": "QiUIA7jglb2c"
      },
      "outputs": [
        {
          "output_type": "stream",
          "name": "stdout",
          "text": [
            "1st Step MRR:  0.2394188266023709\n"
          ]
        }
      ],
      "source": [
        "##MRR: \n",
        "mrr_psi_1st = MRR_Eval(newHoldout_list[0],Top10Pred_psi,'Updated_ItemID')\n",
        "print(\"1st Step MRR: \",mrr_psi_1st)"
      ]
    },
    {
      "cell_type": "code",
      "execution_count": 124,
      "metadata": {},
      "outputs": [
        {
          "output_type": "stream",
          "name": "stderr",
          "text": [
            "10it [00:00, 805.02it/s]\n"
          ]
        },
        {
          "output_type": "execute_result",
          "data": {
            "text/plain": [
              "[0.239419,\n",
              " 0.29641,\n",
              " 0.312709,\n",
              " 0.2697,\n",
              " 0.260157,\n",
              " 0.243877,\n",
              " 0.211119,\n",
              " 0.219799,\n",
              " 0.259858,\n",
              " 0.116059]"
            ]
          },
          "metadata": {},
          "execution_count": 124
        }
      ],
      "source": [
        "psi_AllStepsMRR, psi_LowerB, psi_AvgMRR, psi_UpperB  = TQDMgetAll_MRR_Eval(newHoldout_list,All_regPSI_PRED,'Updated_ItemID')\n",
        "psi_AllStepsMRR  "
      ]
    },
    {
      "cell_type": "code",
      "execution_count": 125,
      "metadata": {},
      "outputs": [
        {
          "output_type": "stream",
          "name": "stdout",
          "text": [
            "Average MRR:  0.242911\n"
          ]
        }
      ],
      "source": [
        "print(\"Average MRR: \",psi_AvgMRR)"
      ]
    },
    {
      "cell_type": "code",
      "execution_count": null,
      "metadata": {},
      "outputs": [],
      "source": [
        "### Get All Prediction"
      ]
    },
    {
      "cell_type": "code",
      "execution_count": 126,
      "metadata": {},
      "outputs": [
        {
          "output_type": "stream",
          "name": "stderr",
          "text": [
            "10it [00:28,  2.89s/it]10\n",
            "\n"
          ]
        },
        {
          "output_type": "execute_result",
          "data": {
            "text/plain": [
              "[array([[ 133,   71,  134, ...,   57,  139,  216],\n",
              "        [  60,  297,  133, ...,  242,  245,   63],\n",
              "        [ 297,  242,  424, ...,  199,  357,  595],\n",
              "        ...,\n",
              "        [2702, 2699, 2695, ..., 2705, 2706, 8108],\n",
              "        [2702, 2699, 2695, ..., 2705, 2706, 8108],\n",
              "        [2702, 2699, 2695, ..., 2705, 2706, 8108]]),\n",
              " array([[ 133,   71,  134, ...,   57,  139,  216],\n",
              "        [  60,  297,  133, ...,  242,  245,   63],\n",
              "        [ 297,  242,  424, ...,  199,  357,  595],\n",
              "        ...,\n",
              "        [2702, 2699, 2695, ..., 2705, 2706, 8108],\n",
              "        [2702, 2699, 2695, ..., 2705, 2706, 8108],\n",
              "        [2702, 2699, 2695, ..., 2705, 2706, 8108]])]"
            ]
          },
          "metadata": {},
          "execution_count": 126
        }
      ],
      "source": [
        "AllUsersRegPIS_PRED =  TQDMgetALLTopNPred_ALLUSERS(UserItemMAT_regPSI,Vpsi_listReg, N=10) \n",
        "print(len(AllUsersRegPIS_PRED))\n",
        "AllUsersRegPIS_PRED[:2]"
      ]
    },
    {
      "cell_type": "code",
      "execution_count": 127,
      "metadata": {},
      "outputs": [],
      "source": [
        "with open('/mnt/bulky/oolaleke/TDM_Dataset/AMZ_Btyfiles/AMZB_PSI_AllPRED.pkl', 'wb') as f:\n",
        "     pickle.dump(AllUsersRegPIS_PRED, f)\n"
      ]
    },
    {
      "cell_type": "code",
      "execution_count": 128,
      "metadata": {},
      "outputs": [
        {
          "output_type": "execute_result",
          "data": {
            "text/plain": [
              "(22557, 10)"
            ]
          },
          "metadata": {},
          "execution_count": 128
        }
      ],
      "source": [
        "AllUsersRegPIS_PRED[2].shape"
      ]
    },
    {
      "cell_type": "code",
      "execution_count": 129,
      "metadata": {},
      "outputs": [
        {
          "output_type": "execute_result",
          "data": {
            "text/plain": [
              "[0.079788,\n",
              " 0.080035,\n",
              " 0.080281,\n",
              " 0.080035,\n",
              " 0.079295,\n",
              " 0.078925,\n",
              " 0.078308,\n",
              " 0.078678,\n",
              " 0.077568,\n",
              " 0.076458]"
            ]
          },
          "metadata": {},
          "execution_count": 129
        }
      ],
      "source": [
        "psi_AvgCoverage_List = AllSteps_Coverage_Ratio(newAMZB_DF,AllUsersRegPIS_PRED,'Updated_ItemID')\n",
        "psi_AvgCoverage_List   #Rank ==70"
      ]
    },
    {
      "cell_type": "code",
      "execution_count": null,
      "metadata": {},
      "outputs": [],
      "source": []
    },
    {
      "cell_type": "markdown",
      "metadata": {
        "id": "PkouMhzgmD-N"
      },
      "source": [
        "### Pure SVD"
      ]
    },
    {
      "cell_type": "markdown",
      "metadata": {
        "id": "IplkHKXjmEAU"
      },
      "source": [
        "#### Get Rating Matrices"
      ]
    },
    {
      "cell_type": "code",
      "execution_count": 12,
      "metadata": {},
      "outputs": [],
      "source": [
        "# import pickle\n",
        "\n",
        "# with open('/mnt/bulky/oolaleke/TDM_Dataset/AMZ_Btyfiles/AMZB_newHoldout.pkl', 'rb') as f:\n",
        "#      newHoldout_list = pickle.load(f)     \n",
        "    \n",
        "# with open('/mnt/bulky/oolaleke/TDM_Dataset/AMZ_Btyfiles/AMZB_newUserItem.pkl', 'rb') as f:\n",
        "#      newUserItem_list = pickle.load(f)\n"
      ]
    },
    {
      "cell_type": "code",
      "execution_count": 131,
      "metadata": {},
      "outputs": [],
      "source": [
        "# newAMZB_DF = pd.read_csv('/mnt/bulky/oolaleke/TDM_Dataset/AMZ_Btyfiles/AMZB_afterUpdt.csv') \n",
        "# newAMZB_DF['timestamp'] = pd.to_datetime(newAMZB_DF['timestamp']) \n",
        "# print(newAMZB_DF.shape)   #userId_int\n",
        "# #print(newAMZB_DF.dtypes)\n",
        "# newAMZB_DF.head()"
      ]
    },
    {
      "cell_type": "code",
      "execution_count": 130,
      "metadata": {},
      "outputs": [
        {
          "output_type": "execute_result",
          "data": {
            "text/plain": [
              "[<22557x8109 sparse matrix of type '<class 'numpy.float64'>'\n",
              " \twith 40228 stored elements in Compressed Sparse Row format>,\n",
              " <22557x8109 sparse matrix of type '<class 'numpy.float64'>'\n",
              " \twith 41330 stored elements in Compressed Sparse Row format>,\n",
              " <22557x8109 sparse matrix of type '<class 'numpy.float64'>'\n",
              " \twith 42432 stored elements in Compressed Sparse Row format>,\n",
              " <22557x8109 sparse matrix of type '<class 'numpy.float64'>'\n",
              " \twith 43525 stored elements in Compressed Sparse Row format>,\n",
              " <22557x8109 sparse matrix of type '<class 'numpy.float64'>'\n",
              " \twith 44665 stored elements in Compressed Sparse Row format>,\n",
              " <22557x8109 sparse matrix of type '<class 'numpy.float64'>'\n",
              " \twith 45752 stored elements in Compressed Sparse Row format>,\n",
              " <22557x8109 sparse matrix of type '<class 'numpy.float64'>'\n",
              " \twith 47034 stored elements in Compressed Sparse Row format>,\n",
              " <22557x8109 sparse matrix of type '<class 'numpy.float64'>'\n",
              " \twith 48112 stored elements in Compressed Sparse Row format>,\n",
              " <22557x8109 sparse matrix of type '<class 'numpy.float64'>'\n",
              " \twith 49321 stored elements in Compressed Sparse Row format>,\n",
              " <22557x8109 sparse matrix of type '<class 'numpy.float64'>'\n",
              " \twith 50337 stored elements in Compressed Sparse Row format>]"
            ]
          },
          "metadata": {},
          "execution_count": 130
        }
      ],
      "source": [
        "rows_i = newAMZB_DF['Updated_UserID'].nunique()\n",
        "cols_i = newAMZB_DF['Updated_ItemID'].nunique()\n",
        "SVD_UserItemMAT = AllRatingMatrices(newUserItem_list,'Updated_UserID','Updated_ItemID',rows_i ,cols_i) ##Same as UserItemMAT_regPSI\n",
        "SVD_UserItemMAT"
      ]
    },
    {
      "cell_type": "code",
      "execution_count": 14,
      "metadata": {
        "id": "-oVnc3FR_DfB"
      },
      "outputs": [],
      "source": [
        "##Tuning:\n",
        "def SVDoptimalSearch(RatingMat,holdout,user_column,item_column,start,end,increment,N=10):\n",
        "    AllHitrate = []\n",
        "    for rank in tqdm(range(start,end+1,increment)): \n",
        "        Usvd, Ssvd, VTsvd = svds(RatingMat, k=rank)\n",
        "        Vsvd = VTsvd.T\n",
        "        top_k = TopNPred(RatingMat,holdout,Vsvd, user_column, N)\n",
        "        hit_r = Hitrate_Eval(holdout,top_k,user_column,item_column)\n",
        "        AllHitrate.append(hit_r)\n",
        "    return AllHitrate"
      ]
    },
    {
      "cell_type": "code",
      "execution_count": 25,
      "metadata": {},
      "outputs": [
        {
          "output_type": "stream",
          "name": "stderr",
          "text": [
            " 20%|██        | 2/10 [00:00<00:01,  6.86it/s]Number of hits:  107\n",
            "Total Num of users:  474\n",
            "Recommendation HitRate:  0.22573839662447256\n",
            "Number of hits:  124\n",
            "Total Num of users:  474\n",
            "Recommendation HitRate:  0.2616033755274262\n",
            " 30%|███       | 3/10 [00:00<00:01,  6.08it/s]Number of hits:  123\n",
            "Total Num of users:  474\n",
            "Recommendation HitRate:  0.25949367088607594\n",
            " 40%|████      | 4/10 [00:00<00:01,  5.20it/s]Number of hits:  130\n",
            "Total Num of users:  474\n",
            "Recommendation HitRate:  0.2742616033755274\n",
            " 50%|█████     | 5/10 [00:00<00:01,  4.74it/s]Number of hits:  130\n",
            "Total Num of users:  474\n",
            "Recommendation HitRate:  0.2742616033755274\n",
            " 60%|██████    | 6/10 [00:01<00:00,  4.22it/s]Number of hits:  135\n",
            "Total Num of users:  474\n",
            "Recommendation HitRate:  0.2848101265822785\n",
            " 70%|███████   | 7/10 [00:01<00:00,  3.45it/s]Number of hits:  140\n",
            "Total Num of users:  474\n",
            "Recommendation HitRate:  0.29535864978902954\n",
            " 80%|████████  | 8/10 [00:02<00:00,  3.01it/s]Number of hits:  122\n",
            "Total Num of users:  474\n",
            "Recommendation HitRate:  0.25738396624472576\n",
            " 90%|█████████ | 9/10 [00:02<00:00,  2.81it/s]Number of hits:  121\n",
            "Total Num of users:  474\n",
            "Recommendation HitRate:  0.2552742616033755\n",
            "100%|██████████| 10/10 [00:02<00:00,  3.35it/s]Number of hits:  121\n",
            "Total Num of users:  474\n",
            "Recommendation HitRate:  0.2552742616033755\n",
            "\n"
          ]
        }
      ],
      "source": [
        "AllHitrate = SVDoptimalSearch(SVD_UserItemMAT[0],newHoldout_list[0],'Updated_UserID','Updated_ItemID',start=10,end=100,increment=10,N=10)"
      ]
    },
    {
      "cell_type": "code",
      "execution_count": 26,
      "metadata": {},
      "outputs": [
        {
          "output_type": "execute_result",
          "data": {
            "text/plain": [
              "[0.22573839662447256,\n",
              " 0.2616033755274262,\n",
              " 0.25949367088607594,\n",
              " 0.2742616033755274,\n",
              " 0.2742616033755274,\n",
              " 0.2848101265822785,\n",
              " 0.29535864978902954,\n",
              " 0.25738396624472576,\n",
              " 0.2552742616033755,\n",
              " 0.2552742616033755]"
            ]
          },
          "metadata": {},
          "execution_count": 26
        }
      ],
      "source": [
        "AllHitrate"
      ]
    },
    {
      "cell_type": "code",
      "execution_count": 28,
      "metadata": {},
      "outputs": [
        {
          "output_type": "execute_result",
          "data": {
            "text/plain": [
              "[10, 20, 30, 40, 50, 60, 70, 80, 90, 100]"
            ]
          },
          "metadata": {},
          "execution_count": 28
        }
      ],
      "source": [
        "rank_list = list(range(10,101,10))\n",
        "rank_list"
      ]
    },
    {
      "cell_type": "code",
      "execution_count": 30,
      "metadata": {},
      "outputs": [
        {
          "output_type": "execute_result",
          "data": {
            "text/plain": [
              "[<matplotlib.lines.Line2D at 0x7f12a4635a30>]"
            ]
          },
          "metadata": {},
          "execution_count": 30
        },
        {
          "output_type": "display_data",
          "data": {
            "text/plain": "<Figure size 432x288 with 1 Axes>",
            "image/svg+xml": "<?xml version=\"1.0\" encoding=\"utf-8\" standalone=\"no\"?>\n<!DOCTYPE svg PUBLIC \"-//W3C//DTD SVG 1.1//EN\"\n  \"http://www.w3.org/Graphics/SVG/1.1/DTD/svg11.dtd\">\n<svg height=\"248.518125pt\" version=\"1.1\" viewBox=\"0 0 378.465625 248.518125\" width=\"378.465625pt\" xmlns=\"http://www.w3.org/2000/svg\" xmlns:xlink=\"http://www.w3.org/1999/xlink\">\n <metadata>\n  <rdf:RDF xmlns:cc=\"http://creativecommons.org/ns#\" xmlns:dc=\"http://purl.org/dc/elements/1.1/\" xmlns:rdf=\"http://www.w3.org/1999/02/22-rdf-syntax-ns#\">\n   <cc:Work>\n    <dc:type rdf:resource=\"http://purl.org/dc/dcmitype/StillImage\"/>\n    <dc:date>2021-05-17T21:40:41.122863</dc:date>\n    <dc:format>image/svg+xml</dc:format>\n    <dc:creator>\n     <cc:Agent>\n      <dc:title>Matplotlib v3.4.1, https://matplotlib.org/</dc:title>\n     </cc:Agent>\n    </dc:creator>\n   </cc:Work>\n  </rdf:RDF>\n </metadata>\n <defs>\n  <style type=\"text/css\">*{stroke-linecap:butt;stroke-linejoin:round;}</style>\n </defs>\n <g id=\"figure_1\">\n  <g id=\"patch_1\">\n   <path d=\"M 0 248.518125 \nL 378.465625 248.518125 \nL 378.465625 0 \nL 0 0 \nz\n\" style=\"fill:none;\"/>\n  </g>\n  <g id=\"axes_1\">\n   <g id=\"patch_2\">\n    <path d=\"M 36.465625 224.64 \nL 371.265625 224.64 \nL 371.265625 7.2 \nL 36.465625 7.2 \nz\n\" style=\"fill:#ffffff;\"/>\n   </g>\n   <g id=\"matplotlib.axis_1\">\n    <g id=\"xtick_1\">\n     <g id=\"line2d_1\">\n      <defs>\n       <path d=\"M 0 0 \nL 0 3.5 \n\" id=\"m77bead19d5\" style=\"stroke:#000000;stroke-width:0.8;\"/>\n      </defs>\n      <g>\n       <use style=\"stroke:#000000;stroke-width:0.8;\" x=\"85.501989\" xlink:href=\"#m77bead19d5\" y=\"224.64\"/>\n      </g>\n     </g>\n     <g id=\"text_1\">\n      <!-- 20 -->\n      <g transform=\"translate(79.139489 239.238437)scale(0.1 -0.1)\">\n       <defs>\n        <path d=\"M 1228 531 \nL 3431 531 \nL 3431 0 \nL 469 0 \nL 469 531 \nQ 828 903 1448 1529 \nQ 2069 2156 2228 2338 \nQ 2531 2678 2651 2914 \nQ 2772 3150 2772 3378 \nQ 2772 3750 2511 3984 \nQ 2250 4219 1831 4219 \nQ 1534 4219 1204 4116 \nQ 875 4013 500 3803 \nL 500 4441 \nQ 881 4594 1212 4672 \nQ 1544 4750 1819 4750 \nQ 2544 4750 2975 4387 \nQ 3406 4025 3406 3419 \nQ 3406 3131 3298 2873 \nQ 3191 2616 2906 2266 \nQ 2828 2175 2409 1742 \nQ 1991 1309 1228 531 \nz\n\" id=\"DejaVuSans-32\" transform=\"scale(0.015625)\"/>\n        <path d=\"M 2034 4250 \nQ 1547 4250 1301 3770 \nQ 1056 3291 1056 2328 \nQ 1056 1369 1301 889 \nQ 1547 409 2034 409 \nQ 2525 409 2770 889 \nQ 3016 1369 3016 2328 \nQ 3016 3291 2770 3770 \nQ 2525 4250 2034 4250 \nz\nM 2034 4750 \nQ 2819 4750 3233 4129 \nQ 3647 3509 3647 2328 \nQ 3647 1150 3233 529 \nQ 2819 -91 2034 -91 \nQ 1250 -91 836 529 \nQ 422 1150 422 2328 \nQ 422 3509 836 4129 \nQ 1250 4750 2034 4750 \nz\n\" id=\"DejaVuSans-30\" transform=\"scale(0.015625)\"/>\n       </defs>\n       <use xlink:href=\"#DejaVuSans-32\"/>\n       <use x=\"63.623047\" xlink:href=\"#DejaVuSans-30\"/>\n      </g>\n     </g>\n    </g>\n    <g id=\"xtick_2\">\n     <g id=\"line2d_2\">\n      <g>\n       <use style=\"stroke:#000000;stroke-width:0.8;\" x=\"153.138352\" xlink:href=\"#m77bead19d5\" y=\"224.64\"/>\n      </g>\n     </g>\n     <g id=\"text_2\">\n      <!-- 40 -->\n      <g transform=\"translate(146.775852 239.238437)scale(0.1 -0.1)\">\n       <defs>\n        <path d=\"M 2419 4116 \nL 825 1625 \nL 2419 1625 \nL 2419 4116 \nz\nM 2253 4666 \nL 3047 4666 \nL 3047 1625 \nL 3713 1625 \nL 3713 1100 \nL 3047 1100 \nL 3047 0 \nL 2419 0 \nL 2419 1100 \nL 313 1100 \nL 313 1709 \nL 2253 4666 \nz\n\" id=\"DejaVuSans-34\" transform=\"scale(0.015625)\"/>\n       </defs>\n       <use xlink:href=\"#DejaVuSans-34\"/>\n       <use x=\"63.623047\" xlink:href=\"#DejaVuSans-30\"/>\n      </g>\n     </g>\n    </g>\n    <g id=\"xtick_3\">\n     <g id=\"line2d_3\">\n      <g>\n       <use style=\"stroke:#000000;stroke-width:0.8;\" x=\"220.774716\" xlink:href=\"#m77bead19d5\" y=\"224.64\"/>\n      </g>\n     </g>\n     <g id=\"text_3\">\n      <!-- 60 -->\n      <g transform=\"translate(214.412216 239.238437)scale(0.1 -0.1)\">\n       <defs>\n        <path d=\"M 2113 2584 \nQ 1688 2584 1439 2293 \nQ 1191 2003 1191 1497 \nQ 1191 994 1439 701 \nQ 1688 409 2113 409 \nQ 2538 409 2786 701 \nQ 3034 994 3034 1497 \nQ 3034 2003 2786 2293 \nQ 2538 2584 2113 2584 \nz\nM 3366 4563 \nL 3366 3988 \nQ 3128 4100 2886 4159 \nQ 2644 4219 2406 4219 \nQ 1781 4219 1451 3797 \nQ 1122 3375 1075 2522 \nQ 1259 2794 1537 2939 \nQ 1816 3084 2150 3084 \nQ 2853 3084 3261 2657 \nQ 3669 2231 3669 1497 \nQ 3669 778 3244 343 \nQ 2819 -91 2113 -91 \nQ 1303 -91 875 529 \nQ 447 1150 447 2328 \nQ 447 3434 972 4092 \nQ 1497 4750 2381 4750 \nQ 2619 4750 2861 4703 \nQ 3103 4656 3366 4563 \nz\n\" id=\"DejaVuSans-36\" transform=\"scale(0.015625)\"/>\n       </defs>\n       <use xlink:href=\"#DejaVuSans-36\"/>\n       <use x=\"63.623047\" xlink:href=\"#DejaVuSans-30\"/>\n      </g>\n     </g>\n    </g>\n    <g id=\"xtick_4\">\n     <g id=\"line2d_4\">\n      <g>\n       <use style=\"stroke:#000000;stroke-width:0.8;\" x=\"288.41108\" xlink:href=\"#m77bead19d5\" y=\"224.64\"/>\n      </g>\n     </g>\n     <g id=\"text_4\">\n      <!-- 80 -->\n      <g transform=\"translate(282.04858 239.238437)scale(0.1 -0.1)\">\n       <defs>\n        <path d=\"M 2034 2216 \nQ 1584 2216 1326 1975 \nQ 1069 1734 1069 1313 \nQ 1069 891 1326 650 \nQ 1584 409 2034 409 \nQ 2484 409 2743 651 \nQ 3003 894 3003 1313 \nQ 3003 1734 2745 1975 \nQ 2488 2216 2034 2216 \nz\nM 1403 2484 \nQ 997 2584 770 2862 \nQ 544 3141 544 3541 \nQ 544 4100 942 4425 \nQ 1341 4750 2034 4750 \nQ 2731 4750 3128 4425 \nQ 3525 4100 3525 3541 \nQ 3525 3141 3298 2862 \nQ 3072 2584 2669 2484 \nQ 3125 2378 3379 2068 \nQ 3634 1759 3634 1313 \nQ 3634 634 3220 271 \nQ 2806 -91 2034 -91 \nQ 1263 -91 848 271 \nQ 434 634 434 1313 \nQ 434 1759 690 2068 \nQ 947 2378 1403 2484 \nz\nM 1172 3481 \nQ 1172 3119 1398 2916 \nQ 1625 2713 2034 2713 \nQ 2441 2713 2670 2916 \nQ 2900 3119 2900 3481 \nQ 2900 3844 2670 4047 \nQ 2441 4250 2034 4250 \nQ 1625 4250 1398 4047 \nQ 1172 3844 1172 3481 \nz\n\" id=\"DejaVuSans-38\" transform=\"scale(0.015625)\"/>\n       </defs>\n       <use xlink:href=\"#DejaVuSans-38\"/>\n       <use x=\"63.623047\" xlink:href=\"#DejaVuSans-30\"/>\n      </g>\n     </g>\n    </g>\n    <g id=\"xtick_5\">\n     <g id=\"line2d_5\">\n      <g>\n       <use style=\"stroke:#000000;stroke-width:0.8;\" x=\"356.047443\" xlink:href=\"#m77bead19d5\" y=\"224.64\"/>\n      </g>\n     </g>\n     <g id=\"text_5\">\n      <!-- 100 -->\n      <g transform=\"translate(346.503693 239.238437)scale(0.1 -0.1)\">\n       <defs>\n        <path d=\"M 794 531 \nL 1825 531 \nL 1825 4091 \nL 703 3866 \nL 703 4441 \nL 1819 4666 \nL 2450 4666 \nL 2450 531 \nL 3481 531 \nL 3481 0 \nL 794 0 \nL 794 531 \nz\n\" id=\"DejaVuSans-31\" transform=\"scale(0.015625)\"/>\n       </defs>\n       <use xlink:href=\"#DejaVuSans-31\"/>\n       <use x=\"63.623047\" xlink:href=\"#DejaVuSans-30\"/>\n       <use x=\"127.246094\" xlink:href=\"#DejaVuSans-30\"/>\n      </g>\n     </g>\n    </g>\n   </g>\n   <g id=\"matplotlib.axis_2\">\n    <g id=\"ytick_1\">\n     <g id=\"line2d_6\">\n      <defs>\n       <path d=\"M 0 0 \nL -3.5 0 \n\" id=\"m3f1bf1324e\" style=\"stroke:#000000;stroke-width:0.8;\"/>\n      </defs>\n      <g>\n       <use style=\"stroke:#000000;stroke-width:0.8;\" x=\"36.465625\" xlink:href=\"#m3f1bf1324e\" y=\"202.656397\"/>\n      </g>\n     </g>\n     <g id=\"text_6\">\n      <!-- 0.23 -->\n      <g transform=\"translate(7.2 206.455615)scale(0.1 -0.1)\">\n       <defs>\n        <path d=\"M 684 794 \nL 1344 794 \nL 1344 0 \nL 684 0 \nL 684 794 \nz\n\" id=\"DejaVuSans-2e\" transform=\"scale(0.015625)\"/>\n        <path d=\"M 2597 2516 \nQ 3050 2419 3304 2112 \nQ 3559 1806 3559 1356 \nQ 3559 666 3084 287 \nQ 2609 -91 1734 -91 \nQ 1441 -91 1130 -33 \nQ 819 25 488 141 \nL 488 750 \nQ 750 597 1062 519 \nQ 1375 441 1716 441 \nQ 2309 441 2620 675 \nQ 2931 909 2931 1356 \nQ 2931 1769 2642 2001 \nQ 2353 2234 1838 2234 \nL 1294 2234 \nL 1294 2753 \nL 1863 2753 \nQ 2328 2753 2575 2939 \nQ 2822 3125 2822 3475 \nQ 2822 3834 2567 4026 \nQ 2313 4219 1838 4219 \nQ 1578 4219 1281 4162 \nQ 984 4106 628 3988 \nL 628 4550 \nQ 988 4650 1302 4700 \nQ 1616 4750 1894 4750 \nQ 2613 4750 3031 4423 \nQ 3450 4097 3450 3541 \nQ 3450 3153 3228 2886 \nQ 3006 2619 2597 2516 \nz\n\" id=\"DejaVuSans-33\" transform=\"scale(0.015625)\"/>\n       </defs>\n       <use xlink:href=\"#DejaVuSans-30\"/>\n       <use x=\"63.623047\" xlink:href=\"#DejaVuSans-2e\"/>\n       <use x=\"95.410156\" xlink:href=\"#DejaVuSans-32\"/>\n       <use x=\"159.033203\" xlink:href=\"#DejaVuSans-33\"/>\n      </g>\n     </g>\n    </g>\n    <g id=\"ytick_2\">\n     <g id=\"line2d_7\">\n      <g>\n       <use style=\"stroke:#000000;stroke-width:0.8;\" x=\"36.465625\" xlink:href=\"#m3f1bf1324e\" y=\"174.263405\"/>\n      </g>\n     </g>\n     <g id=\"text_7\">\n      <!-- 0.24 -->\n      <g transform=\"translate(7.2 178.062624)scale(0.1 -0.1)\">\n       <use xlink:href=\"#DejaVuSans-30\"/>\n       <use x=\"63.623047\" xlink:href=\"#DejaVuSans-2e\"/>\n       <use x=\"95.410156\" xlink:href=\"#DejaVuSans-32\"/>\n       <use x=\"159.033203\" xlink:href=\"#DejaVuSans-34\"/>\n      </g>\n     </g>\n    </g>\n    <g id=\"ytick_3\">\n     <g id=\"line2d_8\">\n      <g>\n       <use style=\"stroke:#000000;stroke-width:0.8;\" x=\"36.465625\" xlink:href=\"#m3f1bf1324e\" y=\"145.870413\"/>\n      </g>\n     </g>\n     <g id=\"text_8\">\n      <!-- 0.25 -->\n      <g transform=\"translate(7.2 149.669632)scale(0.1 -0.1)\">\n       <defs>\n        <path d=\"M 691 4666 \nL 3169 4666 \nL 3169 4134 \nL 1269 4134 \nL 1269 2991 \nQ 1406 3038 1543 3061 \nQ 1681 3084 1819 3084 \nQ 2600 3084 3056 2656 \nQ 3513 2228 3513 1497 \nQ 3513 744 3044 326 \nQ 2575 -91 1722 -91 \nQ 1428 -91 1123 -41 \nQ 819 9 494 109 \nL 494 744 \nQ 775 591 1075 516 \nQ 1375 441 1709 441 \nQ 2250 441 2565 725 \nQ 2881 1009 2881 1497 \nQ 2881 1984 2565 2268 \nQ 2250 2553 1709 2553 \nQ 1456 2553 1204 2497 \nQ 953 2441 691 2322 \nL 691 4666 \nz\n\" id=\"DejaVuSans-35\" transform=\"scale(0.015625)\"/>\n       </defs>\n       <use xlink:href=\"#DejaVuSans-30\"/>\n       <use x=\"63.623047\" xlink:href=\"#DejaVuSans-2e\"/>\n       <use x=\"95.410156\" xlink:href=\"#DejaVuSans-32\"/>\n       <use x=\"159.033203\" xlink:href=\"#DejaVuSans-35\"/>\n      </g>\n     </g>\n    </g>\n    <g id=\"ytick_4\">\n     <g id=\"line2d_9\">\n      <g>\n       <use style=\"stroke:#000000;stroke-width:0.8;\" x=\"36.465625\" xlink:href=\"#m3f1bf1324e\" y=\"117.477421\"/>\n      </g>\n     </g>\n     <g id=\"text_9\">\n      <!-- 0.26 -->\n      <g transform=\"translate(7.2 121.27664)scale(0.1 -0.1)\">\n       <use xlink:href=\"#DejaVuSans-30\"/>\n       <use x=\"63.623047\" xlink:href=\"#DejaVuSans-2e\"/>\n       <use x=\"95.410156\" xlink:href=\"#DejaVuSans-32\"/>\n       <use x=\"159.033203\" xlink:href=\"#DejaVuSans-36\"/>\n      </g>\n     </g>\n    </g>\n    <g id=\"ytick_5\">\n     <g id=\"line2d_10\">\n      <g>\n       <use style=\"stroke:#000000;stroke-width:0.8;\" x=\"36.465625\" xlink:href=\"#m3f1bf1324e\" y=\"89.08443\"/>\n      </g>\n     </g>\n     <g id=\"text_10\">\n      <!-- 0.27 -->\n      <g transform=\"translate(7.2 92.883649)scale(0.1 -0.1)\">\n       <defs>\n        <path d=\"M 525 4666 \nL 3525 4666 \nL 3525 4397 \nL 1831 0 \nL 1172 0 \nL 2766 4134 \nL 525 4134 \nL 525 4666 \nz\n\" id=\"DejaVuSans-37\" transform=\"scale(0.015625)\"/>\n       </defs>\n       <use xlink:href=\"#DejaVuSans-30\"/>\n       <use x=\"63.623047\" xlink:href=\"#DejaVuSans-2e\"/>\n       <use x=\"95.410156\" xlink:href=\"#DejaVuSans-32\"/>\n       <use x=\"159.033203\" xlink:href=\"#DejaVuSans-37\"/>\n      </g>\n     </g>\n    </g>\n    <g id=\"ytick_6\">\n     <g id=\"line2d_11\">\n      <g>\n       <use style=\"stroke:#000000;stroke-width:0.8;\" x=\"36.465625\" xlink:href=\"#m3f1bf1324e\" y=\"60.691438\"/>\n      </g>\n     </g>\n     <g id=\"text_11\">\n      <!-- 0.28 -->\n      <g transform=\"translate(7.2 64.490657)scale(0.1 -0.1)\">\n       <use xlink:href=\"#DejaVuSans-30\"/>\n       <use x=\"63.623047\" xlink:href=\"#DejaVuSans-2e\"/>\n       <use x=\"95.410156\" xlink:href=\"#DejaVuSans-32\"/>\n       <use x=\"159.033203\" xlink:href=\"#DejaVuSans-38\"/>\n      </g>\n     </g>\n    </g>\n    <g id=\"ytick_7\">\n     <g id=\"line2d_12\">\n      <g>\n       <use style=\"stroke:#000000;stroke-width:0.8;\" x=\"36.465625\" xlink:href=\"#m3f1bf1324e\" y=\"32.298446\"/>\n      </g>\n     </g>\n     <g id=\"text_12\">\n      <!-- 0.29 -->\n      <g transform=\"translate(7.2 36.097665)scale(0.1 -0.1)\">\n       <defs>\n        <path d=\"M 703 97 \nL 703 672 \nQ 941 559 1184 500 \nQ 1428 441 1663 441 \nQ 2288 441 2617 861 \nQ 2947 1281 2994 2138 \nQ 2813 1869 2534 1725 \nQ 2256 1581 1919 1581 \nQ 1219 1581 811 2004 \nQ 403 2428 403 3163 \nQ 403 3881 828 4315 \nQ 1253 4750 1959 4750 \nQ 2769 4750 3195 4129 \nQ 3622 3509 3622 2328 \nQ 3622 1225 3098 567 \nQ 2575 -91 1691 -91 \nQ 1453 -91 1209 -44 \nQ 966 3 703 97 \nz\nM 1959 2075 \nQ 2384 2075 2632 2365 \nQ 2881 2656 2881 3163 \nQ 2881 3666 2632 3958 \nQ 2384 4250 1959 4250 \nQ 1534 4250 1286 3958 \nQ 1038 3666 1038 3163 \nQ 1038 2656 1286 2365 \nQ 1534 2075 1959 2075 \nz\n\" id=\"DejaVuSans-39\" transform=\"scale(0.015625)\"/>\n       </defs>\n       <use xlink:href=\"#DejaVuSans-30\"/>\n       <use x=\"63.623047\" xlink:href=\"#DejaVuSans-2e\"/>\n       <use x=\"95.410156\" xlink:href=\"#DejaVuSans-32\"/>\n       <use x=\"159.033203\" xlink:href=\"#DejaVuSans-39\"/>\n      </g>\n     </g>\n    </g>\n   </g>\n   <g id=\"line2d_13\">\n    <path clip-path=\"url(#p2267157f63)\" d=\"M 51.683807 214.756364 \nL 85.501989 112.924959 \nL 119.32017 118.915041 \nL 153.138352 76.984463 \nL 186.956534 76.984463 \nL 220.774716 47.03405 \nL 254.592898 17.083636 \nL 288.41108 124.905124 \nL 322.229261 130.895207 \nL 356.047443 130.895207 \n\" style=\"fill:none;stroke:#1f77b4;stroke-linecap:square;stroke-width:1.5;\"/>\n   </g>\n   <g id=\"patch_3\">\n    <path d=\"M 36.465625 224.64 \nL 36.465625 7.2 \n\" style=\"fill:none;stroke:#000000;stroke-linecap:square;stroke-linejoin:miter;stroke-width:0.8;\"/>\n   </g>\n   <g id=\"patch_4\">\n    <path d=\"M 371.265625 224.64 \nL 371.265625 7.2 \n\" style=\"fill:none;stroke:#000000;stroke-linecap:square;stroke-linejoin:miter;stroke-width:0.8;\"/>\n   </g>\n   <g id=\"patch_5\">\n    <path d=\"M 36.465625 224.64 \nL 371.265625 224.64 \n\" style=\"fill:none;stroke:#000000;stroke-linecap:square;stroke-linejoin:miter;stroke-width:0.8;\"/>\n   </g>\n   <g id=\"patch_6\">\n    <path d=\"M 36.465625 7.2 \nL 371.265625 7.2 \n\" style=\"fill:none;stroke:#000000;stroke-linecap:square;stroke-linejoin:miter;stroke-width:0.8;\"/>\n   </g>\n  </g>\n </g>\n <defs>\n  <clipPath id=\"p2267157f63\">\n   <rect height=\"217.44\" width=\"334.8\" x=\"36.465625\" y=\"7.2\"/>\n  </clipPath>\n </defs>\n</svg>\n",
            "image/png": "[encoded data removed]"
          },
          "metadata": {
            "needs_background": "light"
          }
        }
      ],
      "source": [
        "plt.plot(rank_list,AllHitrate)"
      ]
    },
    {
      "cell_type": "code",
      "execution_count": null,
      "metadata": {},
      "outputs": [],
      "source": [
        "##Best Rank==70"
      ]
    },
    {
      "cell_type": "markdown",
      "metadata": {
        "id": "6lEpxbMqoPdG"
      },
      "source": [
        "#### SVD PredEval\n"
      ]
    },
    {
      "cell_type": "code",
      "execution_count": 132,
      "metadata": {
        "colab": {
          "base_uri": "https://localhost:8080/"
        },
        "id": "qJSJnDKTdogh",
        "outputId": "fe099c50-df55-458f-e6c5-5e4d308d0155"
      },
      "outputs": [
        {
          "output_type": "stream",
          "name": "stdout",
          "text": [
            "10\n"
          ]
        }
      ],
      "source": [
        "Vsvd_list = pureSVD(SVD_UserItemMAT,k=70)\n",
        "print(len(Vsvd_list))"
      ]
    },
    {
      "cell_type": "code",
      "execution_count": 133,
      "metadata": {
        "colab": {
          "base_uri": "https://localhost:8080/"
        },
        "id": "DT9ATyeIdogj",
        "outputId": "9e3ba5db-7a86-4af1-fad5-cf98485e992d"
      },
      "outputs": [
        {
          "output_type": "execute_result",
          "data": {
            "text/plain": [
              "array([[ 2.52465830e-06, -2.39704886e-04,  1.03121346e-03, ...,\n",
              "         5.48022918e-10,  8.84752319e-10, -3.54033696e-08],\n",
              "       [ 2.62720207e-05, -1.45760305e-05, -5.36633086e-04, ...,\n",
              "        -2.47271955e-10,  6.68028386e-10, -2.82444440e-08],\n",
              "       [-1.45282062e-04,  5.95159440e-04,  7.69668168e-04, ...,\n",
              "         1.49198330e-07,  3.52620464e-07, -2.67741390e-07],\n",
              "       ...,\n",
              "       [ 1.91234867e-07, -1.55406575e-06,  5.54581134e-07, ...,\n",
              "         2.87645739e-13,  8.51731986e-15, -3.67450004e-16],\n",
              "       [ 1.95433367e-09, -5.44213811e-08,  4.74408769e-08, ...,\n",
              "        -4.97039610e-17, -1.88676733e-16, -5.14630231e-18],\n",
              "       [-9.56958812e-05,  8.02592590e-04,  5.97933171e-06, ...,\n",
              "        -2.09547368e-10,  3.36571072e-10, -1.68180004e-11]])"
            ]
          },
          "metadata": {},
          "execution_count": 133
        }
      ],
      "source": [
        "Vsvd_last = Vsvd_list[-1]\n",
        "Vsvd_last"
      ]
    },
    {
      "cell_type": "code",
      "execution_count": 135,
      "metadata": {
        "colab": {
          "base_uri": "https://localhost:8080/"
        },
        "id": "WnCO3ZL96e4I",
        "outputId": "364ac4f0-b337-49d1-b2ca-8c8eced89c9f"
      },
      "outputs": [
        {
          "output_type": "stream",
          "name": "stdout",
          "text": [
            "(474, 10)\n"
          ]
        },
        {
          "output_type": "execute_result",
          "data": {
            "text/plain": [
              "array([[ 558,   22,  995, ..., 3666,  488,  328],\n",
              "       [4017, 1283, 2255, ..., 2736,  194, 4401],\n",
              "       [ 389,  133,  598, ..., 1034,   82, 1310],\n",
              "       ...,\n",
              "       [ 251,  239, 1566, ...,  499, 1247, 1967],\n",
              "       [ 319,  815,  422, ...,  588,  416,  854],\n",
              "       [ 369,  158, 1628, ...,  328,  566,  219]])"
            ]
          },
          "metadata": {},
          "execution_count": 135
        }
      ],
      "source": [
        "Top10Pred_SVD = TopNPred(SVD_UserItemMAT[0],newHoldout_list[0],Vsvd_list[0],'Updated_UserID',N=10)\n",
        "print(Top10Pred_SVD.shape)\n",
        "Top10Pred_SVD  "
      ]
    },
    {
      "cell_type": "code",
      "execution_count": 136,
      "metadata": {
        "colab": {
          "base_uri": "https://localhost:8080/"
        },
        "id": "_y8C9P5hr-sN",
        "outputId": "ff5b210c-636b-4d66-a012-67fdca10344b"
      },
      "outputs": [
        {
          "output_type": "stream",
          "name": "stdout",
          "text": [
            "Number of hits:  141\nTotal Num of users:  474\nRecommendation HitRate:  0.2974683544303797\n"
          ]
        },
        {
          "output_type": "execute_result",
          "data": {
            "text/plain": [
              "0.2974683544303797"
            ]
          },
          "metadata": {},
          "execution_count": 136
        }
      ],
      "source": [
        "Hitrate_Eval(newHoldout_list[0],Top10Pred_SVD,'Updated_UserID','Updated_ItemID')"
      ]
    },
    {
      "cell_type": "code",
      "execution_count": 137,
      "metadata": {
        "colab": {
          "base_uri": "https://localhost:8080/"
        },
        "id": "nOTHviyK-jwT",
        "outputId": "eab74d67-67fd-4f08-dec6-61126557c065"
      },
      "outputs": [
        {
          "output_type": "stream",
          "name": "stderr",
          "text": [
            "10it [00:00, 12.70it/s]10\n",
            "\n"
          ]
        },
        {
          "output_type": "execute_result",
          "data": {
            "text/plain": [
              "[array([[ 558,   22,  995, ..., 3666,  488,  328],\n",
              "        [4017, 1283, 2255, ..., 2736,  194, 4401],\n",
              "        [ 389,  133,  598, ..., 1034,   82, 1310],\n",
              "        ...,\n",
              "        [ 251,  239, 1566, ...,  499, 1247, 1967],\n",
              "        [ 319,  815,  422, ...,  588,  416,  854],\n",
              "        [ 369,  158, 1628, ...,  328,  566,  219]]),\n",
              " array([[ 389,  133,  598, ...,   82, 1034, 1310],\n",
              "        [ 231,  523, 1260, ..., 3026,  225,  226],\n",
              "        [ 439,  922,  523, ...,   41,  191,  297],\n",
              "        ...,\n",
              "        [ 311,   85, 1230, ..., 2067, 3433, 4714],\n",
              "        [ 427, 6134, 1435, ..., 2043, 1401, 6386],\n",
              "        [  74, 2255,  231, ..., 3545, 2645,  566]])]"
            ]
          },
          "metadata": {},
          "execution_count": 137
        }
      ],
      "source": [
        "AllSVD_topNPRED =  TQDMgetALLTopNPred(SVD_UserItemMAT,newHoldout_list,Vsvd_list,'Updated_UserID',N = 10)\n",
        "print(len(AllSVD_topNPRED))\n",
        "AllSVD_topNPRED[:2]"
      ]
    },
    {
      "cell_type": "code",
      "execution_count": 138,
      "metadata": {
        "colab": {
          "base_uri": "https://localhost:8080/"
        },
        "id": "d7xlsk71shw9",
        "outputId": "7e4b2f47-441d-4732-d206-e8a1f3f0cfd3"
      },
      "outputs": [
        {
          "output_type": "stream",
          "name": "stdout",
          "text": [
            "Number of hits:  141\nTotal Num of users:  474\nRecommendation HitRate:  0.2974683544303797\nNumber of hits:  139\nTotal Num of users:  433\nRecommendation HitRate:  0.3210161662817552\nNumber of hits:  148\nTotal Num of users:  465\nRecommendation HitRate:  0.31827956989247314\nNumber of hits:  152\nTotal Num of users:  478\nRecommendation HitRate:  0.3179916317991632\nNumber of hits:  148\nTotal Num of users:  478\nRecommendation HitRate:  0.30962343096234307\nNumber of hits:  152\nTotal Num of users:  508\nRecommendation HitRate:  0.2992125984251969\nNumber of hits:  204\nTotal Num of users:  612\nRecommendation HitRate:  0.3333333333333333\nNumber of hits:  164\nTotal Num of users:  599\nRecommendation HitRate:  0.27378964941569284\nNumber of hits:  180\nTotal Num of users:  536\nRecommendation HitRate:  0.3358208955223881\nNumber of hits:  81\nTotal Num of users:  425\nRecommendation HitRate:  0.19058823529411764\nAverage HitRate for All Recommendations:  0.29971238653568427\n"
          ]
        }
      ],
      "source": [
        "AllSteps_Hitrate_svd, LowerBand, Avg_HitRate, UpperBand   = getAll_HitRate(newHoldout_list,AllSVD_topNPRED,'Updated_UserID','Updated_ItemID')"
      ]
    },
    {
      "cell_type": "code",
      "execution_count": 143,
      "metadata": {
        "colab": {
          "base_uri": "https://localhost:8080/"
        },
        "id": "x_L3w8iDPcDV",
        "outputId": "363b53f7-434d-49d0-ea7e-008773d42541"
      },
      "outputs": [
        {
          "output_type": "execute_result",
          "data": {
            "text/plain": [
              "[0.2974683544303797,\n",
              " 0.3210161662817552,\n",
              " 0.31827956989247314,\n",
              " 0.3179916317991632,\n",
              " 0.30962343096234307,\n",
              " 0.2992125984251969,\n",
              " 0.3333333333333333,\n",
              " 0.27378964941569284,\n",
              " 0.3358208955223881,\n",
              " 0.19058823529411764]"
            ]
          },
          "metadata": {},
          "execution_count": 143
        }
      ],
      "source": [
        "AllSteps_Hitrate_svd  ##Rank == 70"
      ]
    },
    {
      "cell_type": "code",
      "execution_count": 144,
      "metadata": {},
      "outputs": [
        {
          "output_type": "stream",
          "name": "stdout",
          "text": [
            "1st Step MRR:  0.2579038577456299\n"
          ]
        }
      ],
      "source": [
        "##MRR: \n",
        "mrr_SVD_1st = MRR_Eval(newHoldout_list[0],Top10Pred_SVD,'Updated_ItemID')\n",
        "print(\"1st Step MRR: \",mrr_SVD_1st)"
      ]
    },
    {
      "cell_type": "code",
      "execution_count": 145,
      "metadata": {},
      "outputs": [
        {
          "output_type": "stream",
          "name": "stderr",
          "text": [
            "10it [00:00, 748.88it/s]\n"
          ]
        },
        {
          "output_type": "execute_result",
          "data": {
            "text/plain": [
              "[0.257904,\n",
              " 0.265928,\n",
              " 0.282022,\n",
              " 0.277618,\n",
              " 0.276946,\n",
              " 0.262233,\n",
              " 0.252534,\n",
              " 0.238937,\n",
              " 0.271409,\n",
              " 0.152591]"
            ]
          },
          "metadata": {},
          "execution_count": 145
        }
      ],
      "source": [
        "svd_AllStepsMRR, svd_LowerB, svd_AvgMRR, svd_UpperB  = TQDMgetAll_MRR_Eval(newHoldout_list,AllSVD_topNPRED,'Updated_ItemID')\n",
        "svd_AllStepsMRR  "
      ]
    },
    {
      "cell_type": "code",
      "execution_count": null,
      "metadata": {},
      "outputs": [],
      "source": [
        "## AllSVD Prediction"
      ]
    },
    {
      "cell_type": "code",
      "execution_count": 147,
      "metadata": {},
      "outputs": [
        {
          "output_type": "stream",
          "name": "stderr",
          "text": [
            "10it [00:27,  2.77s/it]10\n",
            "\n"
          ]
        },
        {
          "output_type": "execute_result",
          "data": {
            "text/plain": [
              "[array([[  63,   71,  205, ...,  215,  191,   50],\n",
              "        [  60,  297,   43, ...,  928,  205,   57],\n",
              "        [ 297,  242,  424, ...,  449,  928,  199],\n",
              "        ...,\n",
              "        [2702, 2699, 2695, ..., 2705, 2706, 8108],\n",
              "        [2702, 2699, 2695, ..., 2705, 2706, 8108],\n",
              "        [2702, 2699, 2695, ..., 2705, 2706, 8108]]),\n",
              " array([[  63,   71,  205, ...,  215,  191,   83],\n",
              "        [  60,  297,   43, ...,  928,  205,   57],\n",
              "        [ 297,  242,  424, ...,  199,  357,  928],\n",
              "        ...,\n",
              "        [2702, 2699, 2695, ..., 2705, 2706, 8108],\n",
              "        [2702, 2699, 2695, ..., 2705, 2706, 8108],\n",
              "        [2702, 2699, 2695, ..., 2705, 2706, 8108]])]"
            ]
          },
          "metadata": {},
          "execution_count": 147
        }
      ],
      "source": [
        "AllUsersSVD_PRED =  TQDMgetALLTopNPred_ALLUSERS(SVD_UserItemMAT,Vsvd_list, N=10) \n",
        "print(len(AllUsersSVD_PRED))\n",
        "AllUsersSVD_PRED[:2]"
      ]
    },
    {
      "cell_type": "code",
      "execution_count": 148,
      "metadata": {},
      "outputs": [],
      "source": [
        "with open('/mnt/bulky/oolaleke/TDM_Dataset/AMZ_Btyfiles/AMZB_SVD_AllPRED.pkl', 'wb') as f:\n",
        "     pickle.dump(AllUsersSVD_PRED, f)\n"
      ]
    },
    {
      "cell_type": "code",
      "execution_count": 7,
      "metadata": {},
      "outputs": [],
      "source": [
        "# with open('/mnt/bulky/oolaleke/TDM_Dataset/AMZ_Btyfiles/AMZB_SVD_AllPRED.pkl', 'rb') as f:\n",
        "#      newSVDPred_LIST = pickle.load(f)\n",
        "# newSVDPred_LIST     "
      ]
    },
    {
      "cell_type": "code",
      "execution_count": 151,
      "metadata": {
        "id": "o-7SsHoVo2gx"
      },
      "outputs": [
        {
          "output_type": "execute_result",
          "data": {
            "text/plain": [
              "[0.079788,\n",
              " 0.081021,\n",
              " 0.079788,\n",
              " 0.079295,\n",
              " 0.079665,\n",
              " 0.079048,\n",
              " 0.080035,\n",
              " 0.080035,\n",
              " 0.079911,\n",
              " 0.079418]"
            ]
          },
          "metadata": {},
          "execution_count": 151
        }
      ],
      "source": [
        "SVD_AvgCoverage_List = AllSteps_Coverage_Ratio(newAMZB_DF,AllUsersSVD_PRED,'Updated_ItemID')\n",
        "SVD_AvgCoverage_List  ##..Rank == 70"
      ]
    },
    {
      "cell_type": "code",
      "execution_count": null,
      "metadata": {},
      "outputs": [],
      "source": []
    },
    {
      "cell_type": "markdown",
      "metadata": {
        "id": "00phYsByS9Oq"
      },
      "source": [
        "### CORRELATION Report\n"
      ]
    },
    {
      "cell_type": "markdown",
      "metadata": {
        "id": "gfiwUrPKfayk"
      },
      "source": [
        "### getAll User Pred"
      ]
    },
    {
      "cell_type": "code",
      "execution_count": 174,
      "metadata": {
        "colab": {
          "base_uri": "https://localhost:8080/"
        },
        "id": "BxV4PhiFfkuM",
        "outputId": "4eb57588-d5e7-437d-a800-4289f197bba8"
      },
      "outputs": [],
      "source": [
        "# AllUsers_updtPRED =  TQDMgetALLTopNPred_ALLUSERS(UserItem_Matupdt,Vpsi_listUpdt, N=10) \n",
        "# print(len(AllUsers_updtPRED))\n",
        "# AllUsers_updtPRED[:2]"
      ]
    },
    {
      "cell_type": "code",
      "execution_count": 152,
      "metadata": {
        "colab": {
          "base_uri": "https://localhost:8080/"
        },
        "id": "IxlTtkOs5tTN",
        "outputId": "d0ff3324-28d0-4596-f23b-3c11556721f5"
      },
      "outputs": [
        {
          "output_type": "execute_result",
          "data": {
            "text/plain": [
              "(20149, 10)"
            ]
          },
          "metadata": {},
          "execution_count": 152
        }
      ],
      "source": [
        "AllUsers_updtPRED[2].shape"
      ]
    },
    {
      "cell_type": "markdown",
      "metadata": {
        "id": "4GLHnKJViAHo"
      },
      "source": [
        "####  Updated SingleRank Corr "
      ]
    },
    {
      "cell_type": "code",
      "execution_count": 153,
      "metadata": {
        "colab": {
          "base_uri": "https://localhost:8080/"
        },
        "id": "UkFqDvcW_Amh",
        "outputId": "5ab6a0c0-723f-4ae3-a451-b5db08df1ca0"
      },
      "outputs": [
        {
          "output_type": "stream",
          "name": "stdout",
          "text": [
            "9\n10\n"
          ]
        },
        {
          "output_type": "execute_result",
          "data": {
            "text/plain": [
              "[1, 2, 3, 4, 5, 6, 7, 8, 9]"
            ]
          },
          "metadata": {},
          "execution_count": 153
        }
      ],
      "source": [
        "AllSteps = list(range(1,10))\n",
        "print(len(AllSteps))\n",
        "print(len(AllUsers_updtPRED))\n",
        "AllSteps"
      ]
    },
    {
      "cell_type": "code",
      "execution_count": null,
      "metadata": {},
      "outputs": [],
      "source": []
    },
    {
      "cell_type": "code",
      "execution_count": 155,
      "metadata": {
        "colab": {
          "base_uri": "https://localhost:8080/"
        },
        "id": "QlTrlJKrNwRC",
        "outputId": "48d55153-12ed-4742-be38-3beb3266a589"
      },
      "outputs": [
        {
          "output_type": "execute_result",
          "data": {
            "text/plain": [
              "array([array([1.        , 1.        , 1.        , ..., 0.        , 0.02499653,\n",
              "              0.        ])                                                    ,\n",
              "       array([1.        , 1.        , 1.        , ..., 0.38792779, 0.67845367,\n",
              "              0.        ])                                                    ,\n",
              "       array([0.98387314, 1.        , 1.        , ..., 0.        , 0.        ,\n",
              "              0.        ])                                                    ,\n",
              "       array([0.98387314, 0.94467132, 1.        , ..., 0.86813465, 0.4539545 ,\n",
              "              0.        ])                                                    ,\n",
              "       array([0.97749498, 0.9226361 , 1.        , ..., 0.49096051, 0.23150079,\n",
              "              0.33050924])                                                    ,\n",
              "       array([1.        , 1.        , 0.98387314, ..., 0.02499653, 0.08321104,\n",
              "              0.        ])                                                    ,\n",
              "       array([0.99056095, 1.        , 1.        , ..., 0.        , 0.        ,\n",
              "              0.        ])                                                    ,\n",
              "       array([0.87477775, 0.99244163, 0.96643133, ..., 0.        , 0.        ,\n",
              "              0.        ])                                                    ,\n",
              "       array([0.99056095, 0.97749498, 1.        , ..., 0.        , 0.40885665,\n",
              "              0.40885665])                                                    ],\n",
              "      dtype=object)"
            ]
          },
          "metadata": {},
          "execution_count": 155
        }
      ],
      "source": [
        "UpdtPSICorr_ = Updt_getAll_AvgCorr(AllUsers_updtPRED,newUserItem_list,AllSteps,'Updated_UserID')  #,\n",
        "UpdtPSICorr_"
      ]
    },
    {
      "cell_type": "code",
      "execution_count": 157,
      "metadata": {
        "colab": {
          "base_uri": "https://localhost:8080/"
        },
        "id": "Ms8Nj-1ndBAG",
        "outputId": "744e9e7a-12fa-4919-a992-faa64d30e9b2"
      },
      "outputs": [
        {
          "output_type": "stream",
          "name": "stdout",
          "text": [
            "(9,)\n\n0.9507462669864827\n0.9541200786395395\n0.9462585543316474\n0.954978187309988\n0.9558312089585588\n0.9507349839638036\n0.9493731138244673\n0.9385440611135092\n0.9621093635351206\n"
          ]
        }
      ],
      "source": [
        "print(UpdtPSICorr_.shape)\n",
        "print()\n",
        "for df in UpdtPSICorr_:\n",
        "    print(df.mean())  "
      ]
    },
    {
      "cell_type": "code",
      "execution_count": null,
      "metadata": {
        "id": "MkdAFQCZTnco"
      },
      "outputs": [],
      "source": []
    },
    {
      "cell_type": "code",
      "execution_count": null,
      "metadata": {
        "id": "PhfkO3EcJN5W"
      },
      "outputs": [],
      "source": []
    },
    {
      "cell_type": "markdown",
      "metadata": {
        "id": "s19yQCNaTxSL"
      },
      "source": [
        "## RegPSI Corr_"
      ]
    },
    {
      "source": [
        "AllUsersRegPIS_PRED =  TQDMgetALLTopNPred_ALLUSERS(UserItemMAT_regPSI,Vpsi_listReg, N=10) \n",
        "\n",
        "print(len(AllUsersRegPIS_PRED))\n",
        "\n",
        "AllUsersRegPIS_PRED[:2]"
      ],
      "cell_type": "markdown",
      "metadata": {
        "colab": {
          "base_uri": "https://localhost:8080/"
        },
        "id": "nNWgpQTkTxSv",
        "outputId": "32fde59f-7008-424a-b435-f0e0a571d88e"
      }
    },
    {
      "cell_type": "markdown",
      "metadata": {
        "id": "r0AvdqsHTxS4"
      },
      "source": [
        "####  RegPSI SingleRankCorr "
      ]
    },
    {
      "cell_type": "code",
      "execution_count": 158,
      "metadata": {
        "colab": {
          "base_uri": "https://localhost:8080/"
        },
        "id": "gEYu_nLCTxS6",
        "outputId": "f8e4a810-944d-42e2-cd09-ec0cdf07d83e"
      },
      "outputs": [
        {
          "output_type": "stream",
          "name": "stdout",
          "text": [
            "9\n10\n"
          ]
        },
        {
          "output_type": "execute_result",
          "data": {
            "text/plain": [
              "[1, 2, 3, 4, 5, 6, 7, 8, 9]"
            ]
          },
          "metadata": {},
          "execution_count": 158
        }
      ],
      "source": [
        "AllSteps = list(range(1,10))\n",
        "print(len(AllSteps))\n",
        "print(len(AllUsers_updtPRED))\n",
        "AllSteps  "
      ]
    },
    {
      "cell_type": "code",
      "execution_count": 159,
      "metadata": {
        "colab": {
          "base_uri": "https://localhost:8080/"
        },
        "id": "5jPXwk8KTxS9",
        "outputId": "c3ed416c-2aab-4494-b731-b57f7a837dd8"
      },
      "outputs": [
        {
          "output_type": "execute_result",
          "data": {
            "text/plain": [
              "array([array([1.        , 1.        , 1.        , ..., 0.        , 0.02180383,\n",
              "              0.        ])                                                    ,\n",
              "       array([1.        , 1.        , 1.        , ..., 0.49096051, 0.67845367,\n",
              "              0.        ])                                                    ,\n",
              "       array([1., 1., 1., ..., 0., 0., 0.]),\n",
              "       array([1.        , 0.94467132, 1.        , ..., 0.86813465, 0.49096051,\n",
              "              0.        ])                                                    ,\n",
              "       array([1.        , 0.98788042, 1.        , ..., 0.41493338, 0.15058457,\n",
              "              0.33050924])                                                    ,\n",
              "       array([1.        , 1.        , 1.        , ..., 0.02180383, 0.08321104,\n",
              "              0.        ])                                                    ,\n",
              "       array([0.97749498, 1.        , 1.        , ..., 0.        , 0.        ,\n",
              "              0.        ])                                                    ,\n",
              "       array([1.        , 0.93397092, 1.        , ..., 0.        , 0.        ,\n",
              "              0.        ])                                                    ,\n",
              "       array([1.        , 1.        , 0.93397092, ..., 0.        , 0.40885665,\n",
              "              0.40885665])                                                    ],\n",
              "      dtype=object)"
            ]
          },
          "metadata": {},
          "execution_count": 159
        }
      ],
      "source": [
        "RegPSICorr_ = Updt_getAll_AvgCorr(AllUsersRegPIS_PRED,newUserItem_list,AllSteps,'Updated_UserID')  #,\n",
        "RegPSICorr_"
      ]
    },
    {
      "cell_type": "code",
      "execution_count": 165,
      "metadata": {
        "colab": {
          "base_uri": "https://localhost:8080/"
        },
        "id": "7Jw6LVmFTxTC",
        "outputId": "38745d49-00dd-4f61-c7d0-78bc0f17010f"
      },
      "outputs": [
        {
          "output_type": "stream",
          "name": "stdout",
          "text": [
            "(9,)\n\n0.9650199240782822\n0.9654632087140693\n0.9695926766281905\n0.9686051221346264\n0.9527405218684136\n0.9601414867533916\n0.9622915047414743\n0.9439463379000846\n0.9700566762443715\n"
          ]
        }
      ],
      "source": [
        "print(RegPSICorr_.shape)\n",
        "print()\n",
        "for df in RegPSICorr_:  ##Rank == 70\n",
        "    print(df.mean())  "
      ]
    },
    {
      "cell_type": "code",
      "execution_count": null,
      "metadata": {},
      "outputs": [],
      "source": []
    },
    {
      "cell_type": "markdown",
      "metadata": {
        "id": "yfOZLbLYuqpn"
      },
      "source": [
        "#### SVD Corr_"
      ]
    },
    {
      "cell_type": "markdown",
      "metadata": {
        "id": "3ffss4Fsuqpx"
      },
      "source": [
        "####  SVD SingleRankCorr "
      ]
    },
    {
      "cell_type": "code",
      "execution_count": 162,
      "metadata": {
        "colab": {
          "base_uri": "https://localhost:8080/"
        },
        "id": "Y4VC_GCQvZDB",
        "outputId": "cd9f45ea-2ad8-4172-b672-70068303dd9e"
      },
      "outputs": [
        {
          "output_type": "stream",
          "name": "stdout",
          "text": [
            "9\n"
          ]
        },
        {
          "output_type": "execute_result",
          "data": {
            "text/plain": [
              "[1, 2, 3, 4, 5, 6, 7, 8, 9]"
            ]
          },
          "metadata": {},
          "execution_count": 162
        }
      ],
      "source": [
        "AllSteps = list(range(1,10))\n",
        "print(len(AllSteps))\n",
        "AllSteps  "
      ]
    },
    {
      "cell_type": "code",
      "execution_count": 163,
      "metadata": {
        "colab": {
          "base_uri": "https://localhost:8080/"
        },
        "id": "B6Dik3BEvZDE",
        "outputId": "133b7aeb-06be-4e8c-defd-8c5e80bbca0a"
      },
      "outputs": [
        {
          "output_type": "execute_result",
          "data": {
            "text/plain": [
              "array([array([0.93397092, 1.        , 0.91118591, ..., 0.        , 0.02928462,\n",
              "              0.        ])                                                    ,\n",
              "       array([0.87216233, 1.        , 1.        , ..., 0.49096051, 0.48421476,\n",
              "              0.        ])                                                    ,\n",
              "       array([0.88965694, 0.87216233, 0.90256476, ..., 0.        , 0.        ,\n",
              "              0.        ])                                                    ,\n",
              "       array([0.61846289, 0.96643133, 0.95083917, ..., 0.36331733, 0.44498825,\n",
              "              0.        ])                                                    ,\n",
              "       array([0.87216233, 1.        , 0.88555371, ..., 0.49096051, 0.43767043,\n",
              "              0.84271627])                                                    ,\n",
              "       array([0.32979011, 0.44753873, 0.7685396 , ..., 0.15148206, 0.12147687,\n",
              "              0.20133464])                                                    ,\n",
              "       array([0.65474723, 0.74162341, 0.7385467 , ..., 0.        , 0.        ,\n",
              "              0.        ])                                                    ,\n",
              "       array([0.89913804, 0.94569659, 0.99056095, ..., 0.09388662, 0.13842832,\n",
              "              0.09526636])                                                    ,\n",
              "       array([0.67180068, 0.97010543, 0.95471398, ..., 0.        , 0.33146929,\n",
              "              0.33146929])                                                    ],\n",
              "      dtype=object)"
            ]
          },
          "metadata": {},
          "execution_count": 163
        }
      ],
      "source": [
        "pureSVDCorr_ = Updt_getAll_AvgCorr(AllUsersSVD_PRED,newUserItem_list,AllSteps,'Updated_UserID')  #,\n",
        "pureSVDCorr_"
      ]
    },
    {
      "cell_type": "code",
      "execution_count": null,
      "metadata": {},
      "outputs": [],
      "source": []
    },
    {
      "cell_type": "code",
      "execution_count": 166,
      "metadata": {
        "colab": {
          "base_uri": "https://localhost:8080/"
        },
        "id": "ei8R6zjrvZDG",
        "outputId": "15f545fe-060f-49aa-cce9-b1b0b3e96fee"
      },
      "outputs": [
        {
          "output_type": "stream",
          "name": "stdout",
          "text": [
            "(9,)\n\n0.7276529488793384\n0.7800912000874578\n0.7950770993914437\n0.7779707098984335\n0.8316167535358526\n0.6910707965040934\n0.7405049881683469\n0.7925807479319823\n0.7955066322845123\n"
          ]
        }
      ],
      "source": [
        "print(pureSVDCorr_.shape)\n",
        "print()\n",
        "for df in pureSVDCorr_:  ##Rank == 70\n",
        "    print(df.mean())  "
      ]
    },
    {
      "cell_type": "code",
      "execution_count": null,
      "metadata": {
        "id": "RG9tvVXSvYaX"
      },
      "outputs": [],
      "source": []
    },
    {
      "cell_type": "markdown",
      "metadata": {
        "id": "ex_fBepRvk5I"
      },
      "source": [
        "###  RandRec:Test"
      ]
    },
    {
      "cell_type": "code",
      "execution_count": 194,
      "metadata": {},
      "outputs": [],
      "source": [
        "def TopN_RandomPred_2(RatingMat,user_column,N):  \n",
        "    N_users,N_items = RatingMat.shape   \n",
        "    PVVT_RandScores = np.random.rand(N_users,N_items)   ##Assigns random scores to items\n",
        "    users_column = RatingMat.nonzero()[0]\n",
        "    items_column = RatingMat.nonzero()[1]\n",
        "    args = np.array([users_column,items_column])\n",
        "    np.put(PVVT_RandScores, np.ravel_multi_index(args, PVVT_RandScores.shape),-np.inf)   ##downsample previously \n",
        "    TopN_pred = np.apply_along_axis(topN_Index, 1,PVVT_RandScores,n = N)\n",
        "    return TopN_pred\n",
        "\n",
        "def get_ALLRandPred_2(RatingMat_List,user_column,N):\n",
        "    All_RandPred = []\n",
        "    for RatingMat in tqdm(RatingMat_List):  \n",
        "        Rand_pred =  TopN_RandomPred_2(RatingMat,user_column, N)\n",
        "        All_RandPred.append(Rand_pred)\n",
        "    return All_RandPred\n",
        "\n",
        "def getAll_RandomHitRate_2(HOLDOUT_list,All_RandPred,user_column,item_column):\n",
        "    AllSteps_Hitrate = []\n",
        "    for Holdout, Random_pred in zip(HOLDOUT_list,All_RandPred):  \n",
        "        TestUsers = Holdout[user_column]\n",
        "        HOLDOUT_RandPred = Random_pred[TestUsers,:]    \n",
        "        HitRate_ = Hitrate_Eval(Holdout,HOLDOUT_RandPred,user_column,item_column)\n",
        "        #HitRate_ = Sample_Hitrate(Holdout,HOLDOUT_RandPred,user_column,item_column)\n",
        "        AllSteps_Hitrate.append(HitRate_)\n",
        "    LowerBand, Avg_HitRate, UpperBand  = mean_confidence_interval(AllSteps_Hitrate, confidence=0.95)\n",
        "    print(\"Average HitRate for All Recommendations: \", Avg_HitRate)\n",
        "    return AllSteps_Hitrate, LowerBand, Avg_HitRate, UpperBand\n",
        "\n",
        "    \n",
        "def getAll_RandomRecMRR(HOLDOUT_list,All_RandPred,user_column,item_column):\n",
        "    AllSteps_MRR = []\n",
        "    for Holdout, Random_pred in tqdm(zip(HOLDOUT_list,All_RandPred)):  \n",
        "        TestUsers = Holdout[user_column]\n",
        "        HOLDOUT_RandPred = Random_pred[TestUsers,:]    \n",
        "        MRR_ = MRR_Eval(Holdout,HOLDOUT_RandPred,item_column)\n",
        "        AllSteps_MRR.append(round(MRR_,6))\n",
        "\n",
        "    LowerBand, Avg_MRR, UpperBand  = mean_confidence_interval(AllSteps_MRR, confidence=0.95)\n",
        "    return AllSteps_MRR, LowerBand, Avg_MRR, UpperBand       \n",
        "\n"
      ]
    },
    {
      "cell_type": "code",
      "execution_count": 411,
      "metadata": {
        "colab": {
          "base_uri": "https://localhost:8080/"
        },
        "id": "42RCvm1dlZNu",
        "outputId": "485957b6-7ebc-4c72-baac-94e7c3c51671"
      },
      "outputs": [
        {
          "output_type": "stream",
          "name": "stdout",
          "text": [
            "10 10\n"
          ]
        }
      ],
      "source": [
        "print(len(SVD_UserItemMAT),len(newHOLDOUT_LIST))"
      ]
    },
    {
      "cell_type": "code",
      "execution_count": 195,
      "metadata": {},
      "outputs": [
        {
          "output_type": "stream",
          "name": "stderr",
          "text": [
            "100%|██████████| 10/10 [01:07<00:00,  6.71s/it]\n"
          ]
        },
        {
          "output_type": "execute_result",
          "data": {
            "text/plain": [
              "[array([[7113, 1023, 4800, ..., 2370, 4504, 8050],\n",
              "        [3656, 4990, 5604, ..., 7997, 6576, 5283],\n",
              "        [5462, 5960,   57, ..., 6255, 3119, 1420],\n",
              "        ...,\n",
              "        [5281, 5435, 3735, ..., 1418, 2805, 5019],\n",
              "        [4540, 1015,  955, ...,   51, 5749, 1866],\n",
              "        [5736,  390, 6479, ...,  451, 2147, 4771]]),\n",
              " array([[5533,  646, 2750, ..., 6767, 4991, 5788],\n",
              "        [6467, 7528, 2011, ..., 1509, 7335, 3460],\n",
              "        [4100, 5937, 1909, ..., 5114,  952,  198],\n",
              "        ...,\n",
              "        [3719,  629,   96, ..., 4776, 4365, 6035],\n",
              "        [ 534, 7773, 2771, ..., 4924,  266, 7755],\n",
              "        [4278, 7374, 5239, ..., 6123, 3059,    7]])]"
            ]
          },
          "metadata": {},
          "execution_count": 195
        }
      ],
      "source": [
        "All_UsersRRecPred = get_ALLRandPred_2(SVD_UserItemMAT,'Updated_UserID',N=10)\n",
        "All_UsersRRecPred[:2]  "
      ]
    },
    {
      "cell_type": "code",
      "execution_count": 197,
      "metadata": {
        "colab": {
          "base_uri": "https://localhost:8080/"
        },
        "id": "TBkzzmmFlZNz",
        "outputId": "f066dac9-b2a2-4c9a-d9b8-eba929a11b75"
      },
      "outputs": [
        {
          "output_type": "execute_result",
          "data": {
            "text/plain": [
              "(22557, 10)"
            ]
          },
          "metadata": {},
          "execution_count": 197
        }
      ],
      "source": [
        "All_UsersRRecPred[1].shape"
      ]
    },
    {
      "cell_type": "code",
      "execution_count": 199,
      "metadata": {},
      "outputs": [],
      "source": [
        "with open('RandRec_AllPRED.pkl', 'wb') as f:\n",
        "     pickle.dump(All_UsersRRecPred, f)\n"
      ]
    },
    {
      "cell_type": "code",
      "execution_count": 198,
      "metadata": {
        "colab": {
          "base_uri": "https://localhost:8080/"
        },
        "id": "uMLoaZ6YlZN3",
        "outputId": "90ba4c62-a1f1-4242-f422-cd84cd1ab274"
      },
      "outputs": [
        {
          "output_type": "stream",
          "name": "stdout",
          "text": [
            "Number of hits:  0\nTotal Num of users:  474\nRecommendation HitRate:  0.0\nNumber of hits:  1\nTotal Num of users:  433\nRecommendation HitRate:  0.0023094688221709007\nNumber of hits:  1\nTotal Num of users:  465\nRecommendation HitRate:  0.002150537634408602\nNumber of hits:  1\nTotal Num of users:  478\nRecommendation HitRate:  0.0020920502092050207\nNumber of hits:  0\nTotal Num of users:  478\nRecommendation HitRate:  0.0\nNumber of hits:  0\nTotal Num of users:  508\nRecommendation HitRate:  0.0\nNumber of hits:  0\nTotal Num of users:  612\nRecommendation HitRate:  0.0\nNumber of hits:  0\nTotal Num of users:  599\nRecommendation HitRate:  0.0\nNumber of hits:  1\nTotal Num of users:  536\nRecommendation HitRate:  0.0018656716417910447\nNumber of hits:  0\nTotal Num of users:  425\nRecommendation HitRate:  0.0\nAverage HitRate for All Recommendations:  0.0008417728307575569\n"
          ]
        }
      ],
      "source": [
        "RRec_AllStepsHitR, RRec_LowBHR, RREC_AvgHitR, RRec_UppBHR = getAll_RandomHitRate_2(newHOLDOUTDF_LIST,All_UsersRRecPred,'Updated_UserID','Updated_ItemID')"
      ]
    },
    {
      "cell_type": "code",
      "execution_count": 200,
      "metadata": {},
      "outputs": [
        {
          "output_type": "stream",
          "name": "stderr",
          "text": [
            "10it [00:00, 252.23it/s]\n"
          ]
        },
        {
          "output_type": "execute_result",
          "data": {
            "text/plain": [
              "[0, 0.00077, 0.00043, 0.000299, 0, 0, 0, 0, 0.000187, 0]"
            ]
          },
          "metadata": {},
          "execution_count": 200
        }
      ],
      "source": [
        "RRec_AllStepsMRR, RRec_LowB, RRec_Avg_MRR, RRec_UppB = getAll_RandomRecMRR(newHOLDOUTDF_LIST,All_UsersRRecPred,'Updated_UserID','Updated_ItemID')\n",
        "RRec_AllStepsMRR"
      ]
    },
    {
      "cell_type": "code",
      "execution_count": 201,
      "metadata": {},
      "outputs": [
        {
          "output_type": "execute_result",
          "data": {
            "text/plain": [
              "[1.0, 1.0, 1.0, 1.0, 1.0, 1.0, 1.0, 1.0, 1.0, 1.0]"
            ]
          },
          "metadata": {},
          "execution_count": 201
        }
      ],
      "source": [
        "##COVERAGE\n",
        "RRec_AvgCoverageList = AllSteps_Coverage_Ratio(newAMZB_DF,All_UsersRRecPred,'Updated_ItemID')\n",
        "RRec_AvgCoverageList"
      ]
    },
    {
      "cell_type": "code",
      "execution_count": 202,
      "metadata": {},
      "outputs": [
        {
          "output_type": "stream",
          "name": "stdout",
          "text": [
            "9\n"
          ]
        },
        {
          "output_type": "execute_result",
          "data": {
            "text/plain": [
              "[1, 2, 3, 4, 5, 6, 7, 8, 9]"
            ]
          },
          "metadata": {},
          "execution_count": 202
        }
      ],
      "source": [
        "#Stability: \n",
        "AllSteps = list(range(1,10))\n",
        "print(len(AllSteps))\n",
        "AllSteps  "
      ]
    },
    {
      "cell_type": "code",
      "execution_count": 203,
      "metadata": {},
      "outputs": [
        {
          "output_type": "execute_result",
          "data": {
            "text/plain": [
              "array([array([0., 0., 0., ..., 0., 0., 0.]),\n",
              "       array([0., 0., 0., ..., 0., 0., 0.]),\n",
              "       array([0., 0., 0., ..., 0., 0., 0.]),\n",
              "       array([0., 0., 0., ..., 0., 0., 0.]),\n",
              "       array([0., 0., 0., ..., 0., 0., 0.]),\n",
              "       array([0., 0., 0., ..., 0., 0., 0.]),\n",
              "       array([0.        , 0.02499653, 0.        , ..., 0.        , 0.        ,\n",
              "              0.        ])                                                    ,\n",
              "       array([0., 0., 0., ..., 0., 0., 0.]),\n",
              "       array([0., 0., 0., ..., 0., 0., 0.])], dtype=object)"
            ]
          },
          "metadata": {},
          "execution_count": 203
        }
      ],
      "source": [
        "RandRec_Corr = Updt_getAll_AvgCorr(All_UsersRRecPred,newUserItem_list,AllSteps,'Updated_UserID')  #,\n",
        "RandRec_Corr"
      ]
    },
    {
      "cell_type": "code",
      "execution_count": 204,
      "metadata": {},
      "outputs": [
        {
          "output_type": "stream",
          "name": "stdout",
          "text": [
            "0.00034168174161810095\n0.00041356184035532147\n0.00037166892182754195\n0.00036455975507635895\n0.00034647512586037757\n0.00039221420296906695\n0.000405889395615047\n0.0003310416333331755\n0.0003389459917360753\n"
          ]
        }
      ],
      "source": [
        "RandRec_Corr.shape\n",
        "for df in RandRec_Corr:\n",
        "    print(df.mean())  "
      ]
    },
    {
      "cell_type": "code",
      "execution_count": null,
      "metadata": {},
      "outputs": [],
      "source": []
    },
    {
      "cell_type": "code",
      "execution_count": 208,
      "metadata": {},
      "outputs": [
        {
          "output_type": "execute_result",
          "data": {
            "text/plain": [
              "(22557, 10)"
            ]
          },
          "metadata": {},
          "execution_count": 208
        }
      ],
      "source": [
        "newAMZB_DF['Updated_UserID'].nunique()\n",
        "All_UsersRRecPred[0].shape"
      ]
    },
    {
      "cell_type": "code",
      "execution_count": null,
      "metadata": {},
      "outputs": [],
      "source": [
        "newAMZB_DF['Updated_UserID'].nunique()\n",
        "All_UsersRRecPred[0].shape"
      ]
    },
    {
      "cell_type": "markdown",
      "metadata": {
        "id": "XTkVUSBi4sgE"
      },
      "source": [
        "### Most Pop Rec"
      ]
    },
    {
      "cell_type": "code",
      "execution_count": 231,
      "metadata": {
        "id": "xvUmSe4DH9Rw"
      },
      "outputs": [],
      "source": [
        "\n",
        "def getMOSTPOP_Pred(DF,user_column,item_colum,Nusers,N):  ##get the most popular item at a particular step\n",
        "    top_counts= DF.groupby(item_colum)[user_column].count()    \n",
        "    top_items = top_counts.sort_values(ascending=False) \n",
        "    MostPOP_Items = top_items[:N].index.values\n",
        "    MostPOP_Pred = np.array([MostPOP_Items,]*Nusers)\n",
        "    return MostPOP_Pred\n",
        "\n",
        "def getAll_MOSTPOP_Pred(DF_list,user_column,item_colum,Nusers,N):\n",
        "    All_MostPOPRED_List = []\n",
        "    for DF in DF_list:\n",
        "        MostPOP_Pred = getMOSTPOP_Pred(DF,user_column,item_colum,Nusers,N)\n",
        "        All_MostPOPRED_List.append(MostPOP_Pred) \n",
        "    return All_MostPOPRED_List\n",
        "\n",
        "def getAll_MostPOPHitRate(HOLDOUT_list,All_MostPOPRED_List,user_column,item_column):\n",
        "    AllSteps_Hitrate = []\n",
        "    for Holdout, MostPOP_pred in zip(HOLDOUT_list,All_MostPOPRED_List): \n",
        "        TestUsers = Holdout[user_column]\n",
        "        Holdout_MPPred = MostPOP_pred[TestUsers,:]    \n",
        "        HitRate_ = Hitrate_Eval(Holdout,Holdout_MPPred,user_column,item_column)\n",
        "        AllSteps_Hitrate.append(HitRate_)\n",
        "    LowerBand, Avg_HitRate, UpperBand  = mean_confidence_interval(AllSteps_Hitrate, confidence=0.95)\n",
        "    print(\"Average HitRate for All Recommendations: \", Avg_HitRate)\n",
        "    return AllSteps_Hitrate, LowerBand, Avg_HitRate, UpperBand    \n",
        "\n",
        "\n",
        "def getAll_MostPOP_MRR(HOLDOUT_list,All_MostPOPRED_List,user_column,item_column):\n",
        "    AllSteps_MRR = []\n",
        "    for Holdout, MostPOP_pred in tqdm(zip(HOLDOUT_list,All_MostPOPRED_List)): \n",
        "        TestUsers = Holdout[user_column]\n",
        "        Holdout_MostPOPred =  MostPOP_pred[TestUsers,:]   \n",
        "        MRR_ = MRR_Eval(Holdout,Holdout_MostPOPred,item_column)\n",
        "        AllSteps_MRR.append(MRR_)\n",
        "    LowerBand, Avg_MRR, UpperBand  = mean_confidence_interval(AllSteps_MRR, confidence=0.95)\n",
        "    return AllSteps_MRR, LowerBand, Avg_MRR, UpperBand "
      ]
    },
    {
      "cell_type": "code",
      "execution_count": 224,
      "metadata": {},
      "outputs": [
        {
          "output_type": "execute_result",
          "data": {
            "text/plain": [
              "22557"
            ]
          },
          "metadata": {},
          "execution_count": 224
        }
      ],
      "source": [
        "Nusers = newAMZB_DF['Updated_UserID'].nunique() \n",
        "Nusers   "
      ]
    },
    {
      "cell_type": "code",
      "execution_count": 226,
      "metadata": {},
      "outputs": [
        {
          "output_type": "execute_result",
          "data": {
            "text/plain": [
              "[array([[239,  74,  67, ...,  24, 106, 426],\n",
              "        [239,  74,  67, ...,  24, 106, 426],\n",
              "        [239,  74,  67, ...,  24, 106, 426],\n",
              "        ...,\n",
              "        [239,  74,  67, ...,  24, 106, 426],\n",
              "        [239,  74,  67, ...,  24, 106, 426],\n",
              "        [239,  74,  67, ...,  24, 106, 426]]),\n",
              " array([[ 67, 251, 319, ..., 376,  24, 110],\n",
              "        [ 67, 251, 319, ..., 376,  24, 110],\n",
              "        [ 67, 251, 319, ..., 376,  24, 110],\n",
              "        ...,\n",
              "        [ 67, 251, 319, ..., 376,  24, 110],\n",
              "        [ 67, 251, 319, ..., 376,  24, 110],\n",
              "        [ 67, 251, 319, ..., 376,  24, 110]])]"
            ]
          },
          "metadata": {},
          "execution_count": 226
        }
      ],
      "source": [
        "                      #getAll_MOSTPOP_Pred(DF_list,user_column,item_colum,Nusers,N\n",
        "All_MostPOPRED_List =  getAll_MOSTPOP_Pred(new_PSIDFlist,'Updated_UserID','Updated_ItemID',Nusers,N=10)\n",
        "All_MostPOPRED_List[:2]"
      ]
    },
    {
      "cell_type": "code",
      "execution_count": 227,
      "metadata": {
        "colab": {
          "base_uri": "https://localhost:8080/"
        },
        "id": "dwtyYptbxT1n",
        "outputId": "79b08aa3-3f9e-40e7-a037-7bbec7b343a1"
      },
      "outputs": [
        {
          "output_type": "execute_result",
          "data": {
            "text/plain": [
              "(22557, 10)"
            ]
          },
          "metadata": {},
          "execution_count": 227
        }
      ],
      "source": [
        "All_MostPOPRED_List[1].shape"
      ]
    },
    {
      "cell_type": "code",
      "execution_count": 229,
      "metadata": {},
      "outputs": [],
      "source": [
        "with open('MostPop_AllPRED.pkl', 'wb') as f:\n",
        "     pickle.dump(All_MostPOPRED_List, f)\n"
      ]
    },
    {
      "cell_type": "code",
      "execution_count": 228,
      "metadata": {
        "colab": {
          "base_uri": "https://localhost:8080/"
        },
        "id": "pzPaCjrsUvFa",
        "outputId": "b7ffccf3-91fc-459b-dd5e-4d8322459502"
      },
      "outputs": [
        {
          "output_type": "stream",
          "name": "stdout",
          "text": [
            "Number of hits:  66\nTotal Num of users:  474\nRecommendation HitRate:  0.13924050632911392\nNumber of hits:  93\nTotal Num of users:  433\nRecommendation HitRate:  0.21478060046189376\nNumber of hits:  88\nTotal Num of users:  465\nRecommendation HitRate:  0.18924731182795698\nNumber of hits:  83\nTotal Num of users:  478\nRecommendation HitRate:  0.17364016736401675\nNumber of hits:  66\nTotal Num of users:  478\nRecommendation HitRate:  0.13807531380753138\nNumber of hits:  72\nTotal Num of users:  508\nRecommendation HitRate:  0.14173228346456693\nNumber of hits:  344\nTotal Num of users:  612\nRecommendation HitRate:  0.5620915032679739\nNumber of hits:  115\nTotal Num of users:  599\nRecommendation HitRate:  0.19198664440734559\nNumber of hits:  89\nTotal Num of users:  536\nRecommendation HitRate:  0.166044776119403\nNumber of hits:  70\nTotal Num of users:  425\nRecommendation HitRate:  0.16470588235294117\nAverage HitRate for All Recommendations:  0.20815449894027432\n"
          ]
        }
      ],
      "source": [
        "AllSteps_Hitrate, LowerBand, Avg_HitRate, UpperBand  = getAll_MostPOPHitRate(newHOLDOUT_LIST,All_MostPOPRED_List,'Updated_UserID','Updated_ItemID')"
      ]
    },
    {
      "cell_type": "code",
      "execution_count": null,
      "metadata": {},
      "outputs": [],
      "source": []
    },
    {
      "cell_type": "code",
      "execution_count": 232,
      "metadata": {},
      "outputs": [
        {
          "output_type": "stream",
          "name": "stderr",
          "text": [
            "10it [00:00, 362.79it/s]\n"
          ]
        },
        {
          "output_type": "execute_result",
          "data": {
            "text/plain": [
              "[0.04406854865715625,\n",
              " 0.07490285567652774,\n",
              " 0.050268817204301076,\n",
              " 0.04613053729162516,\n",
              " 0.03268081291093843,\n",
              " 0.05100456192975878,\n",
              " 0.34897162568731194,\n",
              " 0.048820123486233664,\n",
              " 0.05733238569059465,\n",
              " 0.04723809523809524]"
            ]
          },
          "metadata": {},
          "execution_count": 232
        }
      ],
      "source": [
        "#MRR....\n",
        "                                    #getAll_MostPOP_MRR(HOLDOUT_list,All_MostPOPRED_List,user_column,item_column)\n",
        "Mpop_AllStepsMRR, Mpop_LowB, Mpop_AvgMRR, Mpop_UppB = getAll_MostPOP_MRR(newHOLDOUTDF_LIST,All_MostPOPRED_List,'Updated_UserID','Updated_ItemID')\n",
        "Mpop_AllStepsMRR"
      ]
    },
    {
      "cell_type": "code",
      "execution_count": 233,
      "metadata": {},
      "outputs": [
        {
          "output_type": "execute_result",
          "data": {
            "text/plain": [
              "[0.001233,\n",
              " 0.001233,\n",
              " 0.001233,\n",
              " 0.001233,\n",
              " 0.001233,\n",
              " 0.001233,\n",
              " 0.001233,\n",
              " 0.001233,\n",
              " 0.001233,\n",
              " 0.001233]"
            ]
          },
          "metadata": {},
          "execution_count": 233
        }
      ],
      "source": [
        "##COVERAGE\n",
        "MPop_AvgCoverageList = AllSteps_Coverage_Ratio(newAMZB_DF,All_MostPOPRED_List,'Updated_ItemID')\n",
        "MPop_AvgCoverageList"
      ]
    },
    {
      "cell_type": "code",
      "execution_count": 234,
      "metadata": {},
      "outputs": [
        {
          "output_type": "stream",
          "name": "stdout",
          "text": [
            "9\n"
          ]
        },
        {
          "output_type": "execute_result",
          "data": {
            "text/plain": [
              "[1, 2, 3, 4, 5, 6, 7, 8, 9]"
            ]
          },
          "metadata": {},
          "execution_count": 234
        }
      ],
      "source": [
        "#Stability: \n",
        "AllSteps = list(range(1,10))\n",
        "print(len(AllSteps))\n",
        "AllSteps"
      ]
    },
    {
      "cell_type": "code",
      "execution_count": 235,
      "metadata": {
        "colab": {
          "base_uri": "https://localhost:8080/"
        },
        "id": "CbzcieIu7oCt",
        "outputId": "5c7ee35e-baa8-4a5a-efbf-2f07298adec1"
      },
      "outputs": [
        {
          "output_type": "execute_result",
          "data": {
            "text/plain": [
              "array([array([0.35282258, 0.35282258, 0.35282258, ..., 0.35282258, 0.35282258,\n",
              "              0.35282258])                                                    ,\n",
              "       array([0.33303233, 0.33303233, 0.33303233, ..., 0.33303233, 0.33303233,\n",
              "              0.33303233])                                                    ,\n",
              "       array([0.36900677, 0.36900677, 0.36900677, ..., 0.36900677, 0.36900677,\n",
              "              0.36900677])                                                    ,\n",
              "       array([0.37346483, 0.37346483, 0.37346483, ..., 0.37346483, 0.37346483,\n",
              "              0.37346483])                                                    ,\n",
              "       array([0.33182966, 0.33182966, 0.33182966, ..., 0.33182966, 0.33182966,\n",
              "              0.33182966])                                                    ,\n",
              "       array([0.14585112, 0.14585112, 0.14585112, ..., 0.14585112, 0.14585112,\n",
              "              0.14585112])                                                    ,\n",
              "       array([0.21208638, 0.21208638, 0.21208638, ..., 0.21208638, 0.21208638,\n",
              "              0.21208638])                                                    ,\n",
              "       array([0.15337136, 0.15337136, 0.15337136, ..., 0.15337136, 0.15337136,\n",
              "              0.15337136])                                                    ,\n",
              "       array([0.35456047, 0.35456047, 0.35456047, ..., 0.35456047, 0.35456047,\n",
              "              0.35456047])                                                    ],\n",
              "      dtype=object)"
            ]
          },
          "metadata": {},
          "execution_count": 235
        }
      ],
      "source": [
        "MPop_Corr = Updt_getAll_AvgCorr(All_MostPOPRED_List,newUserItem_list,AllSteps,'Updated_UserID')  #,\n",
        "MPop_Corr"
      ]
    },
    {
      "cell_type": "code",
      "execution_count": 237,
      "metadata": {},
      "outputs": [
        {
          "output_type": "stream",
          "name": "stdout",
          "text": [
            "0.3528225806451613\n0.333032327975438\n0.36900676991560805\n0.37346483066617064\n0.33182966438108974\n0.14585112163315997\n0.21208637819196985\n0.15337135713727634\n0.3545604698109744\n"
          ]
        }
      ],
      "source": [
        "MPop_Corr.shape\n",
        "for df in MPop_Corr:\n",
        "    print(df.mean())  "
      ]
    },
    {
      "cell_type": "code",
      "execution_count": null,
      "metadata": {},
      "outputs": [],
      "source": []
    },
    {
      "cell_type": "code",
      "execution_count": 419,
      "metadata": {
        "id": "gshLEV6neh4Y"
      },
      "outputs": [],
      "source": [
        "## Multi VAE"
      ]
    },
    {
      "cell_type": "code",
      "execution_count": 7,
      "metadata": {},
      "outputs": [],
      "source": [
        "from e_VAEfunction import split_users, split_train_test, numerize_data, get_TrainRatMat, getTrainTest_RatMat"
      ]
    },
    {
      "cell_type": "code",
      "execution_count": 8,
      "metadata": {
        "id": "zD4s8IY4DvsK"
      },
      "outputs": [],
      "source": [
        "use_cuda = torch.cuda.is_available()\n",
        "device = torch.device(\"cuda\" if use_cuda else \"cpu\")"
      ]
    },
    {
      "cell_type": "code",
      "execution_count": null,
      "metadata": {},
      "outputs": [],
      "source": [
        "##Model"
      ]
    },
    {
      "cell_type": "code",
      "execution_count": 9,
      "metadata": {},
      "outputs": [],
      "source": [
        "class Encoder(nn.Module):\n",
        "    def __init__(self, q_dims, dropout):  ## q_dims: List[int], dropout: List[float]\n",
        "        super().__init__()\n",
        "\n",
        "        self.q_dims = q_dims\n",
        "        q_dims_ = self.q_dims[:-1] + [self.q_dims[-1] * 2]\n",
        "        self.q_layers = nn.Sequential()\n",
        "        for i, (p, inp, out) in enumerate(zip(dropout, q_dims_[:-1], q_dims_[1:])):\n",
        "            self.q_layers.add_module(\"_\".join([\"dropout\", str(i)]), nn.Dropout(p))\n",
        "            self.q_layers.add_module(\"_\".join([\"linear\", str(i)]), nn.Linear(inp, out))\n",
        "\n",
        "    def forward(self, X):\n",
        "        h = F.normalize(X, p=2, dim=1)\n",
        "        for i, layer in enumerate(self.q_layers):\n",
        "            h = layer(h)\n",
        "            if i != len(self.q_layers) - 1:\n",
        "                h = torch.tanh(h)\n",
        "            else:\n",
        "                mu, logvar = torch.split(h, self.q_dims[-1], dim=1)\n",
        "        return mu, logvar\n",
        "\n",
        "class Decoder(nn.Module):\n",
        "    def __init__(self, p_dims, dropout):  #p_dims: List[int], dropout: List[float]\n",
        "        super().__init__()\n",
        "\n",
        "        self.p_layers = nn.Sequential()\n",
        "        for i, (p, inp, out) in enumerate(zip(dropout, p_dims[:-1], p_dims[1:])):\n",
        "            self.p_layers.add_module(\"_\".join([\"dropout\", str(i)]), nn.Dropout(p))\n",
        "            self.p_layers.add_module(\"_\".join([\"linear\", str(i)]), nn.Linear(inp, out))\n",
        "\n",
        "    def forward(self, X):\n",
        "        h = X\n",
        "        for i, layer in enumerate(self.p_layers):\n",
        "            h = layer(h)\n",
        "            if i != len(self.p_layers) - 1:\n",
        "                h = torch.tanh(h)\n",
        "        return h\n",
        "\n",
        "\n",
        "class MultiVAE(nn.Module):\n",
        "    def __init__(self,p_dims,q_dims,dropout_enc,dropout_dec): #p_dims:List[int],q_dims:List[int],dropout_enc:List[float],dropout_dec:List[float], \n",
        "        super().__init__()\n",
        "        self.encode = Encoder(q_dims, dropout_enc)  #q_dims == Encoder dimensions\n",
        "        self.decode = Decoder(p_dims, dropout_dec)  #p_dims == Decoder dimensions\n",
        "\n",
        "    def forward(self, X):\n",
        "        mu, logvar = self.encode(X)\n",
        "        std = torch.exp(0.5 * logvar)\n",
        "        eps = torch.randn_like(std)\n",
        "        sampled_z = mu + float(self.training) * eps * std\n",
        "        return self.decode(sampled_z), mu, logvar        \n",
        "\n",
        "def vae_loss_fn(inp, out, mu, logvar, anneal):\n",
        "    neg_ll = -torch.mean(torch.sum(F.log_softmax(out, 1) * inp, -1))\n",
        "    KLD = -0.5 * torch.mean(torch.sum(1 + logvar - mu.pow(2) - logvar.exp(), dim=1))\n",
        "    return neg_ll + anneal * KLD\n",
        "\n",
        "\n",
        "def NDCG_binary_at_k_batch(X_pred, heldout_batch, k=100):\n",
        "    batch_users = X_pred.shape[0]\n",
        "    idx_topk_part = bn.argpartition(-X_pred, k, axis=1)\n",
        "    topk_part = X_pred[np.arange(batch_users)[:, np.newaxis], idx_topk_part[:, :k]]\n",
        "    idx_part = np.argsort(-topk_part, axis=1)\n",
        "    idx_topk = idx_topk_part[np.arange(batch_users)[:, np.newaxis], idx_part]\n",
        "\n",
        "    # build the discount template\n",
        "    tp = 1.0 / np.log2(np.arange(2, k + 2))\n",
        "    DCG = (heldout_batch[np.arange(batch_users)[:, np.newaxis], idx_topk].toarray() * tp).sum(axis=1)\n",
        "    IDCG = np.array([(tp[: min(n, k)]).sum() for n in heldout_batch.getnnz(axis=1)])\n",
        "    return DCG[IDCG > 0.0] / IDCG[IDCG > 0.0]\n",
        "\n",
        "#Recall = (Relevant_Items_Recommended in top-k)/(Relevant_Items)\n",
        "\n"
      ]
    },
    {
      "cell_type": "code",
      "execution_count": null,
      "metadata": {},
      "outputs": [],
      "source": [
        "##Train and Eval..."
      ]
    },
    {
      "cell_type": "code",
      "execution_count": 15,
      "metadata": {},
      "outputs": [],
      "source": [
        "def train_step(model, optimizer, data, epoch):\n",
        "    model.train()\n",
        "    running_loss = 0.0\n",
        "    global update_count\n",
        "    N = data.shape[0]\n",
        "    idxlist = list(range(N))\n",
        "    np.random.shuffle(idxlist)\n",
        "    training_steps = len(range(0, N, batch_size))   #training_steps\n",
        "    for batch_idx, start_idx in zip(range(training_steps), range(0, N, batch_size)):\n",
        "        end_idx = min(start_idx + batch_size, N)\n",
        "        X_inp = data[idxlist[start_idx:end_idx]]\n",
        "        X_inp = torch.FloatTensor(X_inp.toarray()).to(device)\n",
        "        if constant_anneal:\n",
        "            anneal = anneal_cap\n",
        "        else:\n",
        "            anneal = min(anneal_cap, update_count / total_anneal_steps)\n",
        "        update_count += 1\n",
        "        optimizer.zero_grad()\n",
        "        X_out, mu, logvar = model(X_inp)\n",
        "        loss = vae_loss_fn(X_inp, X_out, mu, logvar, anneal)\n",
        "        train_step.anneal = anneal\n",
        "        loss.backward()\n",
        "        optimizer.step()\n",
        "        running_loss += loss.item()\n",
        "        avg_loss = running_loss / (batch_idx + 1)\n",
        "        #t.set_postfix(loss=avg_loss)\n",
        "\n",
        "\n",
        "def eval_step(model,data_tr, data_te):\n",
        "    model.eval()\n",
        "    running_loss = 0.0\n",
        "    eval_idxlist = list(range(data_tr.shape[0]))\n",
        "    eval_N = data_tr.shape[0]\n",
        "    eval_steps = len(range(0, eval_N, batch_size))\n",
        "    n100_list, r20_list, r50_list = [], [], []\n",
        "    #with trange(eval_steps) as t:\n",
        "    with torch.no_grad():\n",
        "         for batch_idx, start_idx in zip(range(eval_steps), range(0, eval_N, batch_size)):\n",
        "             end_idx = min(start_idx + batch_size, eval_N)\n",
        "             X_tr = data_tr[eval_idxlist[start_idx:end_idx]]\n",
        "             X_te = data_te[eval_idxlist[start_idx:end_idx]]\n",
        "             X_tr_inp = torch.FloatTensor(X_tr.toarray()).to(device)\n",
        "\n",
        "             X_out, mu, logvar = model(X_tr_inp)\n",
        "             loss = vae_loss_fn(X_tr_inp, X_out, mu, logvar, train_step.anneal)\n",
        "             running_loss += loss.item()\n",
        "             avg_loss = running_loss / (batch_idx + 1)\n",
        "\n",
        "             #Exclude examples from training set\n",
        "             X_out = X_out.cpu().numpy()\n",
        "             X_out[X_tr.nonzero()] = -np.inf\n",
        "\n",
        "             n100 = NDCG_binary_at_k_batch(X_out, X_te, k=100)\n",
        "             r50 = Recall_at_k_batch(X_out, X_te, k=50)\n",
        "             #r20 = Recall_at_k_batch(X_out, X_te, k=20)\n",
        "\n",
        "             r50_list.append(r50)\n",
        "             n100_list.append(n100)\n",
        "             #r20_list.append(r20)\n",
        "                \n",
        "\n",
        "    n100_list = np.concatenate(n100_list)\n",
        "    r50_list = np.concatenate(r50_list)\n",
        "    #r20_list = np.concatenate(r20_list)\n",
        "    return avg_loss, np.mean(n100_list), np.mean(r50_list)  #, np.mean(r50_list)"
      ]
    },
    {
      "cell_type": "code",
      "execution_count": 17,
      "metadata": {},
      "outputs": [],
      "source": [
        "def getTot_annealSTeps(train_RatMat,batch_size,n_epochs,anneal_cap):\n",
        "    training_steps = len(range(0, train_RatMat.shape[0], batch_size))\n",
        "    try:\n",
        "       total_anneal_steps = (training_steps * (n_epochs - int(n_epochs * 0.2))) / anneal_cap  ##\n",
        "    except ZeroDivisionError:\n",
        "        assert (constant_anneal), \"if 'anneal_cap' is set to 0.0 'constant_anneal' must be set to 'True\"\n",
        "\n",
        "    return total_anneal_steps\n",
        "\n",
        "#############################################\n",
        "def early_stop(curr_value, best_value, stop_step, patience, score_fn='metric'):\n",
        "    if (score_fn == \"loss\" and curr_value <= best_value) or (score_fn == \"metric\" and curr_value >= best_value):\n",
        "        stop_step, best_value = 0, curr_value\n",
        "    else:\n",
        "        stop_step += 1\n",
        "    if stop_step >= patience:\n",
        "        print(\"Early stopping triggered. patience: {} log:{}\".format(patience, best_value))\n",
        "        stop = True\n",
        "    else:\n",
        "        stop = False\n",
        "    return best_value, stop_step, stop \n",
        "\n",
        "def init_weights(model):\n",
        "    for name, param in model.named_parameters():\n",
        "        if \"weight\" in name:\n",
        "            nn.init.xavier_uniform_(param.data)\n",
        "        elif \"bias\" in name:\n",
        "            param.data.normal_(std=0.001)\n",
        "  \n"
      ]
    },
    {
      "cell_type": "code",
      "execution_count": 478,
      "metadata": {},
      "outputs": [],
      "source": [
        "training_steps = len(range(0, TrainDF_RatMat.shape[0], batch_size))\n",
        "try:\n",
        "   total_anneal_steps = (training_steps * (n_epochs - int(n_epochs * 0.15))) / anneal_cap\n",
        "except ZeroDivisionError:\n",
        "   assert (constant_anneal), \"if 'anneal_cap' is set to 0.0 'constant_anneal' must be set to 'True\"\n",
        "total_anneal_steps"
      ]
    },
    {
      "cell_type": "code",
      "execution_count": 298,
      "metadata": {},
      "outputs": [],
      "source": []
    },
    {
      "cell_type": "code",
      "execution_count": 10,
      "metadata": {},
      "outputs": [
        {
          "output_type": "stream",
          "name": "stdout",
          "text": [
            "(51277, 7)\n"
          ]
        },
        {
          "output_type": "execute_result",
          "data": {
            "text/plain": [
              "   userId  productId  rating  timestamp timestamp_YM  Updated_UserID  \\\n",
              "0       0          0       1 2001-06-08      2001-06               0   \n",
              "1       1          0       1 2002-06-12      2002-06               1   \n",
              "2       1          1       1 2002-06-12      2002-06               1   \n",
              "3       2          1       1 2002-06-17      2002-06               2   \n",
              "4       3          1       1 2002-07-04      2002-07               3   \n",
              "\n",
              "   Updated_ItemID  \n",
              "0               0  \n",
              "1               0  \n",
              "2               1  \n",
              "3               1  \n",
              "4               1  "
            ],
            "text/html": "<div>\n<style scoped>\n    .dataframe tbody tr th:only-of-type {\n        vertical-align: middle;\n    }\n\n    .dataframe tbody tr th {\n        vertical-align: top;\n    }\n\n    .dataframe thead th {\n        text-align: right;\n    }\n</style>\n<table border=\"1\" class=\"dataframe\">\n  <thead>\n    <tr style=\"text-align: right;\">\n      <th></th>\n      <th>userId</th>\n      <th>productId</th>\n      <th>rating</th>\n      <th>timestamp</th>\n      <th>timestamp_YM</th>\n      <th>Updated_UserID</th>\n      <th>Updated_ItemID</th>\n    </tr>\n  </thead>\n  <tbody>\n    <tr>\n      <th>0</th>\n      <td>0</td>\n      <td>0</td>\n      <td>1</td>\n      <td>2001-06-08</td>\n      <td>2001-06</td>\n      <td>0</td>\n      <td>0</td>\n    </tr>\n    <tr>\n      <th>1</th>\n      <td>1</td>\n      <td>0</td>\n      <td>1</td>\n      <td>2002-06-12</td>\n      <td>2002-06</td>\n      <td>1</td>\n      <td>0</td>\n    </tr>\n    <tr>\n      <th>2</th>\n      <td>1</td>\n      <td>1</td>\n      <td>1</td>\n      <td>2002-06-12</td>\n      <td>2002-06</td>\n      <td>1</td>\n      <td>1</td>\n    </tr>\n    <tr>\n      <th>3</th>\n      <td>2</td>\n      <td>1</td>\n      <td>1</td>\n      <td>2002-06-17</td>\n      <td>2002-06</td>\n      <td>2</td>\n      <td>1</td>\n    </tr>\n    <tr>\n      <th>4</th>\n      <td>3</td>\n      <td>1</td>\n      <td>1</td>\n      <td>2002-07-04</td>\n      <td>2002-07</td>\n      <td>3</td>\n      <td>1</td>\n    </tr>\n  </tbody>\n</table>\n</div>"
          },
          "metadata": {},
          "execution_count": 10
        }
      ],
      "source": [
        "newAMZB_DF = pd.read_csv('/mnt/bulky/oolaleke/TDM_Dataset/AMZ_Btyfiles/AMZB_afterUpdt.csv') \n",
        "newAMZB_DF['timestamp'] = pd.to_datetime(newAMZB_DF['timestamp']) \n",
        "print(newAMZB_DF.shape)   #userId_int\n",
        "#print(newAMZB_DF.dtypes)\n",
        "newAMZB_DF.head()"
      ]
    },
    {
      "cell_type": "code",
      "execution_count": 17,
      "metadata": {},
      "outputs": [
        {
          "output_type": "execute_result",
          "data": {
            "text/plain": [
              "22557"
            ]
          },
          "metadata": {},
          "execution_count": 17
        }
      ],
      "source": [
        "newAMZB_DF['Updated_UserID'].nunique()"
      ]
    },
    {
      "cell_type": "code",
      "execution_count": 17,
      "metadata": {},
      "outputs": [
        {
          "output_type": "stream",
          "name": "stdout",
          "text": [
            "(22557,)\n(8109,)\n\nAfter filtering, there are 51277 watching events from 22557 users and 8109 movies (sparsity: 0.028%)\n"
          ]
        }
      ],
      "source": [
        "raw_data = newAMZB_DF\n",
        "user_activity =   raw_data['Updated_UserID'].unique()\n",
        "item_popularity = raw_data['Updated_ItemID'].unique()\n",
        "print(user_activity.shape)\n",
        "print(item_popularity.shape)\n",
        "print()\n",
        "sparsity = 1. * raw_data.shape[0] / (user_activity.shape[0] * item_popularity.shape[0])\n",
        "\n",
        "print(\"After filtering, there are %d watching events from %d users and %d movies (sparsity: %.3f%%)\" % \n",
        "      (raw_data.shape[0], user_activity.shape[0], item_popularity.shape[0], sparsity * 100))"
      ]
    },
    {
      "cell_type": "code",
      "execution_count": 18,
      "metadata": {},
      "outputs": [
        {
          "output_type": "stream",
          "name": "stdout",
          "text": [
            "(17557,)\n"
          ]
        },
        {
          "output_type": "execute_result",
          "data": {
            "text/plain": [
              "array([ 3378, 16041, 13632, ..., 19635, 17973, 21397])"
            ]
          },
          "metadata": {},
          "execution_count": 18
        }
      ],
      "source": [
        "unique_uid = user_activity\n",
        "train_users, valid_users, test_users = split_users(raw_data,'Updated_UserID',n_heldout_users=2500)\n",
        "print(train_users.shape)\n",
        "train_users"
      ]
    },
    {
      "cell_type": "code",
      "execution_count": 253,
      "metadata": {},
      "outputs": [
        {
          "output_type": "stream",
          "name": "stdout",
          "text": [
            "(2500,)\n"
          ]
        },
        {
          "output_type": "execute_result",
          "data": {
            "text/plain": [
              "array([13506, 14933, 11471, ..., 12904, 13868,  3810])"
            ]
          },
          "metadata": {},
          "execution_count": 253
        }
      ],
      "source": [
        "print(valid_users.shape)\n",
        "valid_users"
      ]
    },
    {
      "cell_type": "code",
      "execution_count": 452,
      "metadata": {},
      "outputs": [
        {
          "output_type": "stream",
          "name": "stdout",
          "text": [
            "(2500,)\n"
          ]
        },
        {
          "output_type": "execute_result",
          "data": {
            "text/plain": [
              "array([9731, 4164, 7504, ..., 9580, 3571, 3861])"
            ]
          },
          "metadata": {},
          "execution_count": 452
        }
      ],
      "source": [
        "print(test_users.shape)\n",
        "test_users"
      ]
    },
    {
      "cell_type": "code",
      "execution_count": 19,
      "metadata": {},
      "outputs": [
        {
          "output_type": "stream",
          "name": "stdout",
          "text": [
            "17557\n"
          ]
        },
        {
          "output_type": "execute_result",
          "data": {
            "text/plain": [
              "       userId  productId  rating  timestamp timestamp_YM  Updated_UserID  \\\n",
              "27502   13841        311       1 2015-09-05      2015-09           13841   \n",
              "8205     4289         67       1 2013-02-08      2013-02            4289   \n",
              "11471    5917         74       1 2013-08-16      2013-08            5917   \n",
              "7743     4049         67       1 2013-01-14      2013-01            4049   \n",
              "50030   17033       4383       1 2018-03-01      2018-03           17033   \n",
              "49030     701       8224       1 2017-11-20      2017-11             701   \n",
              "40177   19134       3755       1 2016-09-16      2016-09           19134   \n",
              "44936   20929       6848       1 2017-03-25      2017-03           20548   \n",
              "9187     4777         24       1 2013-04-03      2013-04            4777   \n",
              "49847   22411         55       1 2018-02-12      2018-02           22033   \n",
              "\n",
              "       Updated_ItemID  \n",
              "27502             311  \n",
              "8205               67  \n",
              "11471              74  \n",
              "7743               67  \n",
              "50030            4383  \n",
              "49030            7818  \n",
              "40177            3755  \n",
              "44936            6726  \n",
              "9187               24  \n",
              "49847              55  "
            ],
            "text/html": "<div>\n<style scoped>\n    .dataframe tbody tr th:only-of-type {\n        vertical-align: middle;\n    }\n\n    .dataframe tbody tr th {\n        vertical-align: top;\n    }\n\n    .dataframe thead th {\n        text-align: right;\n    }\n</style>\n<table border=\"1\" class=\"dataframe\">\n  <thead>\n    <tr style=\"text-align: right;\">\n      <th></th>\n      <th>userId</th>\n      <th>productId</th>\n      <th>rating</th>\n      <th>timestamp</th>\n      <th>timestamp_YM</th>\n      <th>Updated_UserID</th>\n      <th>Updated_ItemID</th>\n    </tr>\n  </thead>\n  <tbody>\n    <tr>\n      <th>27502</th>\n      <td>13841</td>\n      <td>311</td>\n      <td>1</td>\n      <td>2015-09-05</td>\n      <td>2015-09</td>\n      <td>13841</td>\n      <td>311</td>\n    </tr>\n    <tr>\n      <th>8205</th>\n      <td>4289</td>\n      <td>67</td>\n      <td>1</td>\n      <td>2013-02-08</td>\n      <td>2013-02</td>\n      <td>4289</td>\n      <td>67</td>\n    </tr>\n    <tr>\n      <th>11471</th>\n      <td>5917</td>\n      <td>74</td>\n      <td>1</td>\n      <td>2013-08-16</td>\n      <td>2013-08</td>\n      <td>5917</td>\n      <td>74</td>\n    </tr>\n    <tr>\n      <th>7743</th>\n      <td>4049</td>\n      <td>67</td>\n      <td>1</td>\n      <td>2013-01-14</td>\n      <td>2013-01</td>\n      <td>4049</td>\n      <td>67</td>\n    </tr>\n    <tr>\n      <th>50030</th>\n      <td>17033</td>\n      <td>4383</td>\n      <td>1</td>\n      <td>2018-03-01</td>\n      <td>2018-03</td>\n      <td>17033</td>\n      <td>4383</td>\n    </tr>\n    <tr>\n      <th>49030</th>\n      <td>701</td>\n      <td>8224</td>\n      <td>1</td>\n      <td>2017-11-20</td>\n      <td>2017-11</td>\n      <td>701</td>\n      <td>7818</td>\n    </tr>\n    <tr>\n      <th>40177</th>\n      <td>19134</td>\n      <td>3755</td>\n      <td>1</td>\n      <td>2016-09-16</td>\n      <td>2016-09</td>\n      <td>19134</td>\n      <td>3755</td>\n    </tr>\n    <tr>\n      <th>44936</th>\n      <td>20929</td>\n      <td>6848</td>\n      <td>1</td>\n      <td>2017-03-25</td>\n      <td>2017-03</td>\n      <td>20548</td>\n      <td>6726</td>\n    </tr>\n    <tr>\n      <th>9187</th>\n      <td>4777</td>\n      <td>24</td>\n      <td>1</td>\n      <td>2013-04-03</td>\n      <td>2013-04</td>\n      <td>4777</td>\n      <td>24</td>\n    </tr>\n    <tr>\n      <th>49847</th>\n      <td>22411</td>\n      <td>55</td>\n      <td>1</td>\n      <td>2018-02-12</td>\n      <td>2018-02</td>\n      <td>22033</td>\n      <td>55</td>\n    </tr>\n  </tbody>\n</table>\n</div>"
          },
          "metadata": {},
          "execution_count": 19
        }
      ],
      "source": [
        "##train data observation...\n",
        "train_df = raw_data.loc[raw_data['Updated_UserID'].isin(train_users)]\n",
        "print(train_df['Updated_UserID'].nunique())\n",
        "train_df.sample(10)"
      ]
    },
    {
      "cell_type": "code",
      "execution_count": 21,
      "metadata": {},
      "outputs": [
        {
          "output_type": "stream",
          "name": "stdout",
          "text": [
            "6961\n"
          ]
        },
        {
          "output_type": "execute_result",
          "data": {
            "text/plain": [
              "array([   0,    1,    2, ..., 8041, 5938, 7167])"
            ]
          },
          "metadata": {},
          "execution_count": 21
        }
      ],
      "source": [
        "### items used in the training data...\n",
        "train_Items = pd.unique(train_df['Updated_ItemID'])  #unique_sid == train_Items\n",
        "print(len(train_Items))\n",
        "train_Items"
      ]
    },
    {
      "cell_type": "code",
      "execution_count": 22,
      "metadata": {},
      "outputs": [
        {
          "output_type": "stream",
          "name": "stdout",
          "text": [
            "6961\n22557\n"
          ]
        }
      ],
      "source": [
        "# Save index dictionaries to \"numerise\" later one\n",
        "unique_uid = user_activity\n",
        "item2id = dict((sid, i) for (i, sid) in enumerate(train_Items))\n",
        "user2id = dict((pid, i) for (i, pid) in enumerate(unique_uid))\n",
        "print(len(item2id))\n",
        "print(len(user2id))"
      ]
    },
    {
      "cell_type": "code",
      "execution_count": 23,
      "metadata": {},
      "outputs": [
        {
          "output_type": "stream",
          "name": "stdout",
          "text": [
            "Validation Set\n2429\n(5089, 7)\n\nTest Set\n2421\n(5061, 7)\n"
          ]
        }
      ],
      "source": [
        "          #for validation and test they consider \"only\" items that have been seen during training\n",
        "valid_df = raw_data[raw_data[\"Updated_UserID\"].isin(valid_users)& raw_data[\"Updated_ItemID\"].isin(train_Items)]  #vd_obsrv \n",
        "test_df = raw_data[raw_data[\"Updated_UserID\"].isin(test_users) & raw_data[\"Updated_ItemID\"].isin(train_Items)]  #te_obsr\n",
        "print(\"Validation Set\")\n",
        "print(valid_df['Updated_UserID'].nunique())\n",
        "print(valid_df.shape)\n",
        "print()\n",
        "print(\"Test Set\")\n",
        "print(test_df['Updated_UserID'].nunique())\n",
        "print(test_df.shape)"
      ]
    },
    {
      "cell_type": "code",
      "execution_count": 24,
      "metadata": {},
      "outputs": [
        {
          "output_type": "stream",
          "name": "stdout",
          "text": [
            "0 users sampled\n",
            "250 users sampled\n",
            "500 users sampled\n",
            "750 users sampled\n",
            "1000 users sampled\n",
            "1250 users sampled\n",
            "1500 users sampled\n",
            "1750 users sampled\n",
            "2000 users sampled\n",
            "2250 users sampled\n",
            "(4931, 7) (158, 7)\n"
          ]
        }
      ],
      "source": [
        "valid_trn, valid_tst = split_train_test(valid_df, test_prop=0.3)\n",
        "print(valid_trn.shape, valid_tst.shape) "
      ]
    },
    {
      "cell_type": "code",
      "execution_count": 25,
      "metadata": {},
      "outputs": [
        {
          "output_type": "stream",
          "name": "stdout",
          "text": [
            "0 users sampled\n",
            "250 users sampled\n",
            "500 users sampled\n",
            "750 users sampled\n",
            "1000 users sampled\n",
            "1250 users sampled\n",
            "1500 users sampled\n",
            "1750 users sampled\n",
            "2000 users sampled\n",
            "2250 users sampled\n",
            "(4903, 7) (158, 7)\n"
          ]
        }
      ],
      "source": [
        "test_train, test_tst = split_train_test(test_df, test_prop=0.3)\n",
        "print(test_train.shape, test_tst.shape)   ##"
      ]
    },
    {
      "cell_type": "code",
      "execution_count": 26,
      "metadata": {},
      "outputs": [
        {
          "output_type": "stream",
          "name": "stdout",
          "text": [
            "Training Data:  (39893, 2)\n\nValidaion DF:  (4931, 2) (158, 2)\nTest DF:       (4903, 2) (158, 2)\n"
          ]
        }
      ],
      "source": [
        "Train_DF   =    numerize_data(train_df,user2id,item2id, 'Updated_UserID','Updated_ItemID')\n",
        "ValidTrain_DF = numerize_data(valid_trn,user2id,item2id,'Updated_UserID','Updated_ItemID')\n",
        "ValidTest_DF = numerize_data(valid_tst,user2id,item2id, 'Updated_UserID','Updated_ItemID')\n",
        "TestTrain_DF = numerize_data(test_train,user2id,item2id, 'Updated_UserID','Updated_ItemID')\n",
        "TestTest_DF =  numerize_data(test_tst,user2id,item2id, 'Updated_UserID','Updated_ItemID')\n",
        "\n",
        "print(\"Training Data: \",Train_DF.shape)\n",
        "print()\n",
        "print(\"Validaion DF: \", ValidTrain_DF.shape,ValidTest_DF.shape)\n",
        "print(\"Test DF:      \", TestTrain_DF.shape,TestTest_DF.shape)"
      ]
    },
    {
      "cell_type": "code",
      "execution_count": 27,
      "metadata": {},
      "outputs": [
        {
          "output_type": "execute_result",
          "data": {
            "text/plain": [
              "<22557x6961 sparse matrix of type '<class 'numpy.float64'>'\n",
              "\twith 39505 stored elements in Compressed Sparse Row format>"
            ]
          },
          "metadata": {},
          "execution_count": 27
        }
      ],
      "source": [
        "n_items = len(train_Items)                            #train_Items = unique_sid\n",
        "TrainDF_RatMat = get_TrainRatMat(Train_DF,'Updated_UserID','Updated_ItemID',n_items)\n",
        "ValidTrain_RatMat, ValidTest_RatMat = getTrainTest_RatMat(ValidTrain_DF, ValidTest_DF,'Updated_UserID','Updated_ItemID',n_items)\n",
        "TestTrain_RatMat, TestTest_RatMat = getTrainTest_RatMat(TestTrain_DF, TestTest_DF,'Updated_UserID','Updated_ItemID',n_items)\n",
        "\n",
        "TrainDF_RatMat"
      ]
    },
    {
      "cell_type": "code",
      "execution_count": 461,
      "metadata": {},
      "outputs": [
        {
          "output_type": "execute_result",
          "data": {
            "text/plain": [
              "<22543x6961 sparse matrix of type '<class 'numpy.float64'>'\n",
              "\twith 4872 stored elements in Compressed Sparse Row format>"
            ]
          },
          "metadata": {},
          "execution_count": 461
        }
      ],
      "source": [
        "ValidTrain_RatMat"
      ]
    },
    {
      "cell_type": "code",
      "execution_count": 263,
      "metadata": {},
      "outputs": [
        {
          "output_type": "execute_result",
          "data": {
            "text/plain": [
              "<22543x6961 sparse matrix of type '<class 'numpy.float64'>'\n",
              "\twith 158 stored elements in Compressed Sparse Row format>"
            ]
          },
          "metadata": {},
          "execution_count": 263
        }
      ],
      "source": [
        "ValidTest_RatMat"
      ]
    },
    {
      "cell_type": "code",
      "execution_count": 465,
      "metadata": {},
      "outputs": [
        {
          "output_type": "execute_result",
          "data": {
            "text/plain": [
              "<22517x6961 sparse matrix of type '<class 'numpy.float64'>'\n",
              "\twith 4852 stored elements in Compressed Sparse Row format>"
            ]
          },
          "metadata": {},
          "execution_count": 465
        }
      ],
      "source": [
        "TestTrain_RatMat"
      ]
    },
    {
      "cell_type": "code",
      "execution_count": 466,
      "metadata": {},
      "outputs": [
        {
          "output_type": "execute_result",
          "data": {
            "text/plain": [
              "<22517x6961 sparse matrix of type '<class 'numpy.float64'>'\n",
              "\twith 158 stored elements in Compressed Sparse Row format>"
            ]
          },
          "metadata": {},
          "execution_count": 466
        }
      ],
      "source": [
        "TestTest_RatMat"
      ]
    },
    {
      "cell_type": "code",
      "execution_count": null,
      "metadata": {},
      "outputs": [],
      "source": []
    },
    {
      "cell_type": "code",
      "execution_count": 16,
      "metadata": {},
      "outputs": [],
      "source": [
        "def topN_Index(a, n):\n",
        "    parted = np.argpartition(a, -n)[-n:]\n",
        "    return parted[np.argsort(-a[parted])]  \n",
        "\n",
        "\n",
        "def NDCG_binary_at_k_batch(X_pred, heldout_batch, k=100):  #Hello2021\n",
        "    batch_users = X_pred.shape[0]\n",
        "    idx_topk_part = bn.argpartition(-X_pred, k, axis=1)\n",
        "    topk_part = X_pred[np.arange(batch_users)[:, np.newaxis], idx_topk_part[:, :k]]\n",
        "    idx_part = np.argsort(-topk_part, axis=1)\n",
        "    idx_topk = idx_topk_part[np.arange(batch_users)[:, np.newaxis], idx_part]\n",
        "\n",
        "    # build the discount template\n",
        "    tp = 1.0 / np.log2(np.arange(2, k + 2))\n",
        "    DCG = (heldout_batch[np.arange(batch_users)[:, np.newaxis], idx_topk].toarray() * tp).sum(axis=1)\n",
        "    IDCG = np.array([(tp[: min(n, k)]).sum() for n in heldout_batch.getnnz(axis=1)])\n",
        "    return DCG[IDCG > 0.0] / IDCG[IDCG > 0.0]\n",
        "\n",
        "\n",
        "def Recall_at_k_batch(X_pred, heldout_batch, k=100):\n",
        "    batch_users = X_pred.shape[0]\n",
        "\n",
        "    idx = bn.argpartition(-X_pred, k, axis=1)\n",
        "    X_pred_binary = np.zeros_like(X_pred, dtype=bool)\n",
        "    X_pred_binary[np.arange(batch_users)[:, np.newaxis], idx[:, :k]] = True\n",
        "\n",
        "    X_true_binary = (heldout_batch > 0).toarray()\n",
        "    tmp = (np.logical_and(X_true_binary, X_pred_binary).sum(axis=1)).astype(np.float32)\n",
        "    denominator = np.minimum(k, X_true_binary.sum(axis=1))\n",
        "    recall = tmp[denominator > 0.0] / denominator[denominator > 0.0]\n",
        "    return recall\n",
        "\n",
        "def HR_at_k_batch(pred_scores, ground_truth, k=10):  #\"pred_scores' and 'ground_truth' must have the same shape.\"\n",
        "    k = min(pred_scores.shape[1], k)\n",
        "    idx = bn.argpartition(-pred_scores, k-1, axis=1)\n",
        "    pred_scores_binary = np.zeros_like(pred_scores, dtype=bool)\n",
        "    pred_scores_binary[np.arange(pred_scores.shape[0])[:, np.newaxis], idx[:, :k]] = True\n",
        "    X_true_binary = (ground_truth > 0)\n",
        "    num = (np.logical_and(X_true_binary, pred_scores_binary).sum(axis=1)).astype(np.float32)\n",
        "    return num > 0\n",
        "   \n",
        "def MRR_at_k_batch(pred_scores, ground_truth, k=10):  #'pred_scores' and 'ground_truth' must have the same shape\n",
        "       #Compute the Mean Reciprocal Rank (MRR)             \n",
        "    k = min(pred_scores.shape[1], k)\n",
        "    idx = np.argsort(-pred_scores)\n",
        "    hits = ground_truth[np.arange(ground_truth.shape[0])[:, np.newaxis], idx[:, :k]]\n",
        "    rranks, cranks = hits.nonzero()\n",
        "\n",
        "    mrr = [0. for _ in range(ground_truth.shape[0])]\n",
        "    for i, r in enumerate(rranks):\n",
        "        if mrr[r] == 0:\n",
        "           mrr[r] = 1. / (1 + cranks[i])\n",
        "\n",
        "    return np.array(mrr)"
      ]
    },
    {
      "cell_type": "code",
      "execution_count": 39,
      "metadata": {},
      "outputs": [],
      "source": [
        "   \n",
        "def get_eval(model,data_tr):\n",
        "    model.eval()\n",
        "    running_loss = 0.0\n",
        "    eval_idxlist = list(range(data_tr.shape[0]))\n",
        "    eval_N = data_tr.shape[0]\n",
        "    eval_steps = len(range(0, eval_N, batch_size))\n",
        "    n100_list, hr10_list, mrr10_list = [], [], []\n",
        "    with torch.no_grad():\n",
        "         for batch_idx, start_idx in zip(range(eval_steps), range(0, eval_N, batch_size)):\n",
        "             end_idx = min(start_idx + batch_size, eval_N)\n",
        "             X_tr = data_tr[eval_idxlist[start_idx:end_idx]]\n",
        "             X_tr_inp = torch.FloatTensor(X_tr.toarray()).to(device)\n",
        "             #Make pred:    \n",
        "             X_out, mu, logvar = model(X_tr_inp)\n",
        "             X_out = X_out.cpu().numpy()     #X_out[X_tr.nonzero()] = -np.inf \n",
        "            \n",
        "             n100 =  NDCG_binary_at_k_batch(X_out, X_tr, k=100)\n",
        "             hr10 =  HR_at_k_batch(X_out, X_tr.toarray(), k=10)   # #X_tr.toarray() == groundTruth\n",
        "             mrr10 = MRR_at_k_batch(X_out, X_tr.toarray(), k=10)\n",
        "\n",
        "             n100_list.append(n100)   \n",
        "             hr10_list.append(hr10)\n",
        "             mrr10_list.append(mrr10)\n",
        "                \n",
        "    n100_list = np.concatenate(n100_list)\n",
        "    hr10_list = np.concatenate(hr10_list)\n",
        "    mrr10_list = np.concatenate(mrr10_list)\n",
        "    return np.mean(n100_list), np.mean(hr10_list), np.mean(mrr10_list)\n",
        "\n",
        "\n",
        "def getPred_(model,data_tr,batch_size,k=10):\n",
        "    model.eval()\n",
        "    running_loss = 0.0\n",
        "    eval_idxlist = list(range(data_tr.shape[0]))\n",
        "    eval_N = data_tr.shape[0]\n",
        "    eval_steps = len(range(0, eval_N, batch_size))\n",
        "    n100_list, hr10_list, mrr10_list = [], [], []\n",
        "    users_pred = []\n",
        "    with torch.no_grad():\n",
        "         for batch_idx, start_idx in zip(range(eval_steps), range(0, eval_N, batch_size)):\n",
        "             end_idx = min(start_idx + batch_size, eval_N)\n",
        "             X_tr = data_tr[eval_idxlist[start_idx:end_idx]]\n",
        "             X_tr_inp = torch.FloatTensor(X_tr.toarray()).to(device)\n",
        "             #Make pred:    \n",
        "             X_out, mu, logvar = model(X_tr_inp)\n",
        "             X_out = X_out.cpu().numpy()        \n",
        "             topN_pred = TopNPred(data_tr,X_out,k)\n",
        "             #topN_pred = np.apply_along_axis(topN_Index, 1, X_out,n = 10)     \n",
        "             users_pred.append(topN_pred)        \n",
        "         AllUserPRED = np.vstack(users_pred)\n",
        "    return AllUserPRED \n"
      ]
    },
    {
      "cell_type": "code",
      "execution_count": null,
      "metadata": {},
      "outputs": [],
      "source": [
        "##All stepp Prediction"
      ]
    },
    {
      "cell_type": "code",
      "execution_count": 32,
      "metadata": {},
      "outputs": [],
      "source": [
        "def get_holdoutRatMat(Holdout_MATList,newHoldout_list):\n",
        "    HOLDOUT_MATList = []\n",
        "    for holdoutMAT, holdout_df in zip(Holdout_MATList,newHoldout_list):\n",
        "        heldout_users = holdout_df['Updated_UserID']\n",
        "        Holdout_Mat = holdoutMAT[heldout_users,:] \n",
        "        HOLDOUT_MATList.append(Holdout_Mat)\n",
        "    return  HOLDOUT_MATList\n",
        "\n",
        " "
      ]
    },
    {
      "cell_type": "code",
      "execution_count": 11,
      "metadata": {},
      "outputs": [],
      "source": [
        "import pickle\n",
        "\n",
        "with open('/mnt/bulky/oolaleke/TDM_Dataset/AMZ_Btyfiles/AMZB_newPSITest.pkl', 'rb') as f:\n",
        "     newPSITest_list = pickle.load(f)\n",
        "\n",
        "with open('/mnt/bulky/oolaleke/TDM_Dataset/AMZ_Btyfiles/AMZB_newHoldout.pkl', 'rb') as f:\n",
        "     newHoldout_list = pickle.load(f)     \n",
        "    \n",
        "with open('/mnt/bulky/oolaleke/TDM_Dataset/AMZ_Btyfiles/AMZB_newUserItem.pkl', 'rb') as f:\n",
        "     newUserItem_list = pickle.load(f)\n"
      ]
    },
    {
      "cell_type": "code",
      "execution_count": 12,
      "metadata": {},
      "outputs": [
        {
          "output_type": "stream",
          "name": "stdout",
          "text": [
            "10\n"
          ]
        },
        {
          "output_type": "execute_result",
          "data": {
            "text/plain": [
              "[<22557x8109 sparse matrix of type '<class 'numpy.float64'>'\n",
              " \twith 40228 stored elements in Compressed Sparse Row format>,\n",
              " <22557x8109 sparse matrix of type '<class 'numpy.float64'>'\n",
              " \twith 41330 stored elements in Compressed Sparse Row format>,\n",
              " <22557x8109 sparse matrix of type '<class 'numpy.float64'>'\n",
              " \twith 42432 stored elements in Compressed Sparse Row format>,\n",
              " <22557x8109 sparse matrix of type '<class 'numpy.float64'>'\n",
              " \twith 43525 stored elements in Compressed Sparse Row format>,\n",
              " <22557x8109 sparse matrix of type '<class 'numpy.float64'>'\n",
              " \twith 44665 stored elements in Compressed Sparse Row format>,\n",
              " <22557x8109 sparse matrix of type '<class 'numpy.float64'>'\n",
              " \twith 45752 stored elements in Compressed Sparse Row format>,\n",
              " <22557x8109 sparse matrix of type '<class 'numpy.float64'>'\n",
              " \twith 47034 stored elements in Compressed Sparse Row format>,\n",
              " <22557x8109 sparse matrix of type '<class 'numpy.float64'>'\n",
              " \twith 48112 stored elements in Compressed Sparse Row format>,\n",
              " <22557x8109 sparse matrix of type '<class 'numpy.float64'>'\n",
              " \twith 49321 stored elements in Compressed Sparse Row format>,\n",
              " <22557x8109 sparse matrix of type '<class 'numpy.float64'>'\n",
              " \twith 50337 stored elements in Compressed Sparse Row format>]"
            ]
          },
          "metadata": {},
          "execution_count": 12
        }
      ],
      "source": [
        "rows_i = newAMZB_DF['Updated_UserID'].nunique()\n",
        "cols_i = newAMZB_DF['Updated_ItemID'].nunique()\n",
        "UserItem_MATList = AllRatingMatrices(newUserItem_list,'Updated_UserID','Updated_ItemID',rows_i ,cols_i) \n",
        "print(len(UserItem_MATList))   \n",
        "UserItem_MATList"
      ]
    },
    {
      "cell_type": "code",
      "execution_count": 34,
      "metadata": {},
      "outputs": [
        {
          "output_type": "stream",
          "name": "stdout",
          "text": [
            "10\n"
          ]
        },
        {
          "output_type": "execute_result",
          "data": {
            "text/plain": [
              "[<474x8109 sparse matrix of type '<class 'numpy.float64'>'\n",
              " \twith 474 stored elements in Compressed Sparse Row format>,\n",
              " <433x8109 sparse matrix of type '<class 'numpy.float64'>'\n",
              " \twith 433 stored elements in Compressed Sparse Row format>,\n",
              " <465x8109 sparse matrix of type '<class 'numpy.float64'>'\n",
              " \twith 465 stored elements in Compressed Sparse Row format>,\n",
              " <478x8109 sparse matrix of type '<class 'numpy.float64'>'\n",
              " \twith 478 stored elements in Compressed Sparse Row format>,\n",
              " <478x8109 sparse matrix of type '<class 'numpy.float64'>'\n",
              " \twith 478 stored elements in Compressed Sparse Row format>,\n",
              " <508x8109 sparse matrix of type '<class 'numpy.float64'>'\n",
              " \twith 508 stored elements in Compressed Sparse Row format>,\n",
              " <612x8109 sparse matrix of type '<class 'numpy.float64'>'\n",
              " \twith 612 stored elements in Compressed Sparse Row format>,\n",
              " <599x8109 sparse matrix of type '<class 'numpy.float64'>'\n",
              " \twith 599 stored elements in Compressed Sparse Row format>,\n",
              " <536x8109 sparse matrix of type '<class 'numpy.float64'>'\n",
              " \twith 536 stored elements in Compressed Sparse Row format>,\n",
              " <425x8109 sparse matrix of type '<class 'numpy.float64'>'\n",
              " \twith 425 stored elements in Compressed Sparse Row format>]"
            ]
          },
          "metadata": {},
          "execution_count": 34
        }
      ],
      "source": [
        "rows_i = newAMZB_DF['Updated_UserID'].nunique()\n",
        "cols_i = newAMZB_DF['Updated_ItemID'].nunique()\n",
        "holdout_MATList_1 = AllRatingMatrices(newHoldout_list,'Updated_UserID','Updated_ItemID',rows_i ,cols_i) \n",
        "\n",
        "HOLDOUT_MATList = get_holdoutRatMat(holdout_MATList_1,newHoldout_list)\n",
        "print(len(HOLDOUT_MATList))   \n",
        "HOLDOUT_MATList  "
      ]
    },
    {
      "cell_type": "code",
      "execution_count": 142,
      "metadata": {},
      "outputs": [],
      "source": []
    },
    {
      "cell_type": "code",
      "execution_count": 173,
      "metadata": {},
      "outputs": [
        {
          "output_type": "execute_result",
          "data": {
            "text/plain": [
              "MultiVAE(\n",
              "  (encode): Encoder(\n",
              "    (q_layers): Sequential(\n",
              "      (dropout_0): Dropout(p=0.5, inplace=False)\n",
              "      (linear_0): Linear(in_features=8109, out_features=600, bias=True)\n",
              "      (dropout_1): Dropout(p=0.0, inplace=False)\n",
              "      (linear_1): Linear(in_features=600, out_features=400, bias=True)\n",
              "    )\n",
              "  )\n",
              "  (decode): Decoder(\n",
              "    (p_layers): Sequential(\n",
              "      (dropout_0): Dropout(p=0.0, inplace=False)\n",
              "      (linear_0): Linear(in_features=200, out_features=600, bias=True)\n",
              "      (dropout_1): Dropout(p=0.0, inplace=False)\n",
              "      (linear_1): Linear(in_features=600, out_features=8109, bias=True)\n",
              "    )\n",
              "  )\n",
              ")"
            ]
          },
          "metadata": {},
          "execution_count": 173
        }
      ],
      "source": [
        "I =  newAMZB_DF['Updated_ItemID'].nunique()  #I is the total number of items in the train date\n",
        "#I = len(train_Items) \n",
        "q_dims = [I] + [600, 200]\n",
        "p_dims = [200, 600] + [I]\n",
        "dropout_enc = [0.5, 0.]\n",
        "dropout_dec = [0., 0.]\n",
        "\n",
        "VAEmodel = MultiVAE(p_dims,q_dims,dropout_enc,dropout_dec)\n",
        "\n",
        "\n",
        "init_weights(VAEmodel)\n",
        "VAEmodel.to(device)\n",
        "optimizer = torch.optim.AdamW(VAEmodel.parameters(), lr=1e-3, weight_decay=0.0)  \n",
        "VAEmodel              "
      ]
    },
    {
      "cell_type": "code",
      "execution_count": 23,
      "metadata": {},
      "outputs": [
        {
          "output_type": "execute_result",
          "data": {
            "text/plain": [
              "90400.0"
            ]
          },
          "metadata": {},
          "execution_count": 23
        }
      ],
      "source": [
        " total_anneal_steps = getTot_annealSTeps(UserItem_MATList[0],batch_size,n_epochs,anneal_cap)\n",
        " total_anneal_steps"
      ]
    },
    {
      "cell_type": "code",
      "execution_count": 176,
      "metadata": {},
      "outputs": [],
      "source": [
        "batch_size = 200\n",
        "anneal_cap = 0.2\n",
        "best_score = -np.inf\n",
        "update_count = 0\n",
        "n_epochs = 200\n",
        "constant_anneal = False\n",
        "total_anneal_steps = 100000"
      ]
    },
    {
      "cell_type": "code",
      "execution_count": 168,
      "metadata": {},
      "outputs": [],
      "source": []
    },
    {
      "cell_type": "code",
      "execution_count": 169,
      "metadata": {},
      "outputs": [
        {
          "output_type": "stream",
          "name": "stderr",
          "text": [
            "100%|██████████| 50/50 [00:51<00:00,  1.03s/it]\n"
          ]
        }
      ],
      "source": [
        "for epoch in tqdm(range(50)):\n",
        "    train_step(VAEmodel, optimizer, UserItem_MATList[0], epoch)\n"
      ]
    },
    {
      "cell_type": "code",
      "execution_count": 177,
      "metadata": {},
      "outputs": [],
      "source": [
        "def topN_Index(a, n):\n",
        "    parted = np.argpartition(a, -n)[-n:]\n",
        "    return parted[np.argsort(-a[parted])]  \n",
        "\n",
        "def getall_UsersPred(model,data_tr,batch_size,k=10):\n",
        "    model.eval()\n",
        "    running_loss = 0.0\n",
        "    eval_idxlist = list(range(data_tr.shape[0]))\n",
        "    eval_N = data_tr.shape[0]\n",
        "    eval_steps = len(range(0, eval_N, batch_size))\n",
        "    n100_list, hr10_list, mrr10_list = [], [], []\n",
        "    users_pred = []\n",
        "    with torch.no_grad():\n",
        "         for batch_idx, start_idx in zip(range(eval_steps), range(0, eval_N, batch_size)):\n",
        "             end_idx = min(start_idx + batch_size, eval_N)\n",
        "             X_tr = data_tr[eval_idxlist[start_idx:end_idx]]\n",
        "             X_tr_inp = torch.FloatTensor(X_tr.toarray()).to(device)\n",
        "             #Make pred:    \n",
        "             X_out, mu, logvar = model(X_tr_inp)\n",
        "             X_out = X_out.cpu().numpy()        \n",
        "             topN_pred = np.apply_along_axis(topN_Index, 1, X_out,n = 10)     \n",
        "             users_pred.append(topN_pred)        \n",
        "         AllUserPRED = np.vstack(users_pred)\n",
        "         \n",
        "    return AllUserPRED \n",
        " \n",
        "\n",
        "   #getmetrics_(model_,holdout_Mat,holdout_df,batch_size=holdout_Mat.shape[0],k)\n",
        "def getmetrics_(model,data_tr,holdout_df,batch_size,k=10):\n",
        "    model.eval()\n",
        "    running_loss = 0.0\n",
        "    eval_idxlist = list(range(data_tr.shape[0]))\n",
        "    eval_N = data_tr.shape[0]\n",
        "    eval_steps = len(range(0, eval_N, batch_size))\n",
        "    n100_list, hr10_list, mrr10_list = [], [], []\n",
        "    users_pred = []\n",
        "    with torch.no_grad():\n",
        "         for batch_idx, start_idx in zip(range(eval_steps), range(0, eval_N, batch_size)):\n",
        "             end_idx = min(start_idx + batch_size, eval_N)\n",
        "             X_tr = data_tr[eval_idxlist[start_idx:end_idx]]\n",
        "             X_tr_inp = torch.FloatTensor(X_tr.toarray()).to(device)\n",
        "             #Make pred:    \n",
        "             X_out, mu, logvar = model(X_tr_inp)\n",
        "             X_out = X_out.cpu().numpy()        \n",
        "             #topN_pred = TopNPred(holdout_df,X_out,k)\n",
        "             topN_pred = np.apply_along_axis(topN_Index, 1, X_out,n = k)     \n",
        "             users_pred.append(topN_pred)        \n",
        "         AllUserPRED = np.vstack(users_pred)\n",
        "    hr_value = Hitrate_Eval(holdout_df,AllUserPRED,'Updated_UserID','Updated_ItemID')   \n",
        "    mrr_value = MRR_Eval(holdout_df,AllUserPRED,'Updated_ItemID') \n",
        "    return hr_value,mrr_value     \n",
        "\n",
        "def singlestep_predEval(model_,UserItemMat,holdout_Mat,holdout_df,pred_BS,n_epoch,k=10):\n",
        "    for epoch in range(n_epoch):\n",
        "        train_step(model_, optimizer, UserItemMat, epoch)\n",
        "    \n",
        "    hr10,mrr10 = getmetrics_(model_,holdout_Mat,holdout_df,holdout_Mat.shape[0],k)\n",
        "    allUserPRED = getall_UsersPred(model_,UserItemMat,pred_BS,k)\n",
        "    return  hr10,mrr10,allUserPRED\n",
        "\n",
        "def Allsteps_predEval(model_,UserItemMatList,holdout_MatList,newHoldoutList, pred_BS,n_epoch,k=10):   \n",
        "    hr10_List = [] \n",
        "    mrr10_List = [] \n",
        "    ALLUsers_Pred = []\n",
        "    for UserItemMat,holdout_Mat,holdout_df in tqdm(zip(UserItemMatList,holdout_MatList,newHoldoutList)):\n",
        "        hr10,mrr10,allUserpred_ = singlestep_predEval(model_,UserItemMat,holdout_Mat,holdout_df,pred_BS,n_epoch,k)\n",
        "        hr10_List.append(hr10)   \n",
        "        mrr10_List.append(mrr10)\n",
        "        ALLUsers_Pred.append(allUserpred_)\n",
        "        print(\"| HitRate  {:4.3f} | Mrr {:4.3f} | \".format(hr10, mrr10))\n",
        "    return hr10_List,mrr10_List ,ALLUsers_Pred    "
      ]
    },
    {
      "cell_type": "code",
      "execution_count": 171,
      "metadata": {},
      "outputs": [
        {
          "output_type": "stream",
          "name": "stdout",
          "text": [
            "0.920143720761297 0.989451476793249 0.8925808720112517\n"
          ]
        }
      ],
      "source": [
        " n100, hr10,mrr10 = get_eval(VAEmodel,HOLDOUT_MATList[0])\n",
        " print(n100, hr10,mrr10)"
      ]
    },
    {
      "cell_type": "code",
      "execution_count": 189,
      "metadata": {},
      "outputs": [
        {
          "output_type": "execute_result",
          "data": {
            "text/plain": [
              "MultiVAE(\n",
              "  (encode): Encoder(\n",
              "    (q_layers): Sequential(\n",
              "      (dropout_0): Dropout(p=0.5, inplace=False)\n",
              "      (linear_0): Linear(in_features=8109, out_features=600, bias=True)\n",
              "      (dropout_1): Dropout(p=0.0, inplace=False)\n",
              "      (linear_1): Linear(in_features=600, out_features=400, bias=True)\n",
              "    )\n",
              "  )\n",
              "  (decode): Decoder(\n",
              "    (p_layers): Sequential(\n",
              "      (dropout_0): Dropout(p=0.0, inplace=False)\n",
              "      (linear_0): Linear(in_features=200, out_features=600, bias=True)\n",
              "      (dropout_1): Dropout(p=0.0, inplace=False)\n",
              "      (linear_1): Linear(in_features=600, out_features=8109, bias=True)\n",
              "    )\n",
              "  )\n",
              ")"
            ]
          },
          "metadata": {},
          "execution_count": 189
        }
      ],
      "source": [
        "I =  newAMZB_DF['Updated_ItemID'].nunique()  #I is the total number of items in the train date\n",
        "#I = len(train_Items) \n",
        "q_dims = [I] + [600, 200]\n",
        "p_dims = [200, 600] + [I]\n",
        "dropout_enc = [0.5, 0.]\n",
        "dropout_dec = [0., 0.]\n",
        "\n",
        "VAEmodel = MultiVAE(p_dims,q_dims,dropout_enc,dropout_dec)\n",
        "\n",
        "\n",
        "init_weights(VAEmodel)\n",
        "VAEmodel.to(device)\n",
        "optimizer = torch.optim.AdamW(VAEmodel.parameters(), lr=1e-3, weight_decay=0.0)  \n",
        "VAEmodel              "
      ]
    },
    {
      "cell_type": "code",
      "execution_count": 190,
      "metadata": {},
      "outputs": [
        {
          "output_type": "stream",
          "name": "stderr",
          "text": [
            "0it [00:00, ?it/s]Number of hits:  470\n",
            "Total Num of users:  474\n",
            "Recommendation HitRate:  0.9915611814345991\n",
            "1it [00:55, 55.12s/it]| HitRate  0.992 | Mrr 0.869 | \n",
            "Number of hits:  426\n",
            "Total Num of users:  433\n",
            "Recommendation HitRate:  0.9838337182448037\n",
            "2it [01:48, 54.39s/it]| HitRate  0.984 | Mrr 0.893 | \n",
            "Number of hits:  458\n",
            "Total Num of users:  465\n",
            "Recommendation HitRate:  0.9849462365591398\n",
            "3it [02:43, 54.40s/it]| HitRate  0.985 | Mrr 0.858 | \n",
            "Number of hits:  470\n",
            "Total Num of users:  478\n",
            "Recommendation HitRate:  0.9832635983263598\n",
            "4it [03:38, 54.54s/it]| HitRate  0.983 | Mrr 0.877 | \n",
            "Number of hits:  472\n",
            "Total Num of users:  478\n",
            "Recommendation HitRate:  0.9874476987447699\n",
            "5it [04:33, 54.72s/it]| HitRate  0.987 | Mrr 0.900 | \n",
            "Number of hits:  503\n",
            "Total Num of users:  508\n",
            "Recommendation HitRate:  0.9901574803149606\n",
            "6it [05:28, 55.04s/it]| HitRate  0.990 | Mrr 0.906 | \n",
            "Number of hits:  606\n",
            "Total Num of users:  612\n",
            "Recommendation HitRate:  0.9901960784313726\n",
            "7it [06:23, 55.03s/it]| HitRate  0.990 | Mrr 0.927 | \n",
            "Number of hits:  591\n",
            "Total Num of users:  599\n",
            "Recommendation HitRate:  0.986644407345576\n",
            "8it [07:19, 55.32s/it]| HitRate  0.987 | Mrr 0.893 | \n",
            "Number of hits:  532\n",
            "Total Num of users:  536\n",
            "Recommendation HitRate:  0.9925373134328358\n",
            "9it [08:14, 55.13s/it]| HitRate  0.993 | Mrr 0.889 | \n",
            "Number of hits:  417\n",
            "Total Num of users:  425\n",
            "Recommendation HitRate:  0.9811764705882353\n",
            "10it [09:09, 54.93s/it]| HitRate  0.981 | Mrr 0.910 | \n",
            "\n"
          ]
        }
      ],
      "source": [
        "                                      #Allsteps_predEval(model_,UserItemMatList,holdout_MatList,newHoldoutList, pred_BS,n_epoch,k=10)\n",
        "hr10_List,mrr10_List ,ALLUsersPred_2 = Allsteps_predEval(VAEmodel,UserItem_MATList,HOLDOUT_MATList,newHoldout_list,pred_BS=2000,n_epoch=50,k=10)"
      ]
    },
    {
      "cell_type": "code",
      "execution_count": 191,
      "metadata": {},
      "outputs": [
        {
          "output_type": "execute_result",
          "data": {
            "text/plain": [
              "[0.9915611814345991,\n",
              " 0.9838337182448037,\n",
              " 0.9849462365591398,\n",
              " 0.9832635983263598,\n",
              " 0.9874476987447699,\n",
              " 0.9901574803149606,\n",
              " 0.9901960784313726,\n",
              " 0.986644407345576,\n",
              " 0.9925373134328358,\n",
              " 0.9811764705882353]"
            ]
          },
          "metadata": {},
          "execution_count": 191
        }
      ],
      "source": [
        "hr10_List"
      ]
    },
    {
      "cell_type": "code",
      "execution_count": 192,
      "metadata": {},
      "outputs": [
        {
          "output_type": "execute_result",
          "data": {
            "text/plain": [
              "[0.8687060478199718,\n",
              " 0.8929396238865062,\n",
              " 0.858458781362007,\n",
              " 0.8768828451882845,\n",
              " 0.9001046025104602,\n",
              " 0.906003937007874,\n",
              " 0.9272875816993464,\n",
              " 0.8929883138564273,\n",
              " 0.8885261194029851,\n",
              " 0.9104901960784313]"
            ]
          },
          "metadata": {},
          "execution_count": 192
        }
      ],
      "source": [
        "mrr10_List"
      ]
    },
    {
      "cell_type": "code",
      "execution_count": 198,
      "metadata": {},
      "outputs": [],
      "source": [
        "with open('/mnt/bulky/oolaleke/TDM_Dataset/AMZ_Btyfiles/AMZB_20VAE_allPRED_NEW.pkl', 'wb') as f:  \n",
        "     pickle.dump(ALLUsersPred_2, f)"
      ]
    },
    {
      "cell_type": "code",
      "execution_count": 193,
      "metadata": {},
      "outputs": [
        {
          "output_type": "execute_result",
          "data": {
            "text/plain": [
              "[array([[  60,    0,   43, ...,   21,   57,  737],\n",
              "        [   1,    0,   62, ...,    2, 3204, 3013],\n",
              "        [   1,   62,    0, ..., 5034, 3695,   60],\n",
              "        ...,\n",
              "        [  67,   74,  107, ...,  692,  555,  995],\n",
              "        [  67,   74,  107, ...,  692,  555,  995],\n",
              "        [  67,   74,  107, ...,  692,  555,  995]]),\n",
              " array([[  60,    0,   43, ...,   57,  381,   21],\n",
              "        [   1,    0,   62, ..., 3583, 3204,  199],\n",
              "        [   1,   62,    9, ...,    2,   60, 2577],\n",
              "        ...,\n",
              "        [  67,   74,  106, ...,  239, 1230,  555],\n",
              "        [  67,   74,  106, ...,  239, 1230,  555],\n",
              "        [  67,   74,  106, ...,  239, 1230,  555]])]"
            ]
          },
          "metadata": {},
          "execution_count": 193
        }
      ],
      "source": [
        "ALLUsersPred_2[:2]"
      ]
    },
    {
      "cell_type": "code",
      "execution_count": 195,
      "metadata": {},
      "outputs": [
        {
          "output_type": "execute_result",
          "data": {
            "text/plain": [
              "[0.802318,\n",
              " 0.823776,\n",
              " 0.84548,\n",
              " 0.865951,\n",
              " 0.888889,\n",
              " 0.914663,\n",
              " 0.940437,\n",
              " 0.953755,\n",
              " 0.973856,\n",
              " 0.997287]"
            ]
          },
          "metadata": {},
          "execution_count": 195
        }
      ],
      "source": [
        "VAE_CovList = AllSteps_Coverage_Ratio(newAMZB_DF,ALLUsersPred_2,'Updated_ItemID')\n",
        "VAE_CovList"
      ]
    },
    {
      "cell_type": "code",
      "execution_count": 186,
      "metadata": {},
      "outputs": [
        {
          "output_type": "stream",
          "name": "stdout",
          "text": [
            "9\n"
          ]
        },
        {
          "output_type": "execute_result",
          "data": {
            "text/plain": [
              "[1, 2, 3, 4, 5, 6, 7, 8, 9]"
            ]
          },
          "metadata": {},
          "execution_count": 186
        }
      ],
      "source": [
        "AllSteps = list(range(1,10))\n",
        "print(len(AllSteps))   #Hello2021\n",
        "AllSteps  "
      ]
    },
    {
      "cell_type": "code",
      "execution_count": 196,
      "metadata": {},
      "outputs": [
        {
          "output_type": "execute_result",
          "data": {
            "text/plain": [
              "array([array([0.712529  , 0.82765878, 0.7153149 , ..., 0.08012   , 0.73222248,\n",
              "              0.2040783 ])                                                    ,\n",
              "       array([0.43767043, 0.82765878, 0.41778717, ..., 0.6254129 , 0.09331951,\n",
              "              0.59039   ])                                                    ,\n",
              "       array([0.51560575, 0.50909834, 0.67902639, ..., 0.        , 0.09754647,\n",
              "              0.06677266])                                                    ,\n",
              "       array([0.74884492, 0.52264054, 0.51841185, ..., 0.66783414, 0.64644211,\n",
              "              0.37936834])                                                    ,\n",
              "       array([0.74656886, 0.64314337, 0.45252386, ..., 0.35059469, 0.16806457,\n",
              "              0.22121112])                                                    ,\n",
              "       array([0.67047641, 0.80266211, 0.77300024, ..., 0.5327588 , 0.34322111,\n",
              "              0.42065249])                                                    ,\n",
              "       array([0.54220644, 0.72735783, 0.50586555, ..., 0.        , 0.        ,\n",
              "              0.41452664])                                                    ,\n",
              "       array([0.44697118, 0.50586555, 0.56692495, ..., 0.46564734, 0.70069124,\n",
              "              0.29468514])                                                    ,\n",
              "       array([0.63549745, 0.50050823, 0.47075819, ..., 0.28164612, 0.26246472,\n",
              "              0.26246472])                                                    ],\n",
              "      dtype=object)"
            ]
          },
          "metadata": {},
          "execution_count": 196
        }
      ],
      "source": [
        "VAECorr_ = Updt_getAll_AvgCorr(ALLUsersPred_2,newUserItem_list,AllSteps,'Updated_UserID')  #,\n",
        "VAECorr_"
      ]
    },
    {
      "cell_type": "code",
      "execution_count": 199,
      "metadata": {},
      "outputs": [
        {
          "output_type": "stream",
          "name": "stdout",
          "text": [
            "(9,)\n0.4980823820124463\n0.5728869763525876\n0.5205820696074656\n0.517132851872847\n0.454360389003563\n0.5259238717380633\n0.4795210300395967\n0.4934513004033183\n0.536089021716472\n"
          ]
        }
      ],
      "source": [
        "print(VAECorr_.shape)\n",
        "for df in VAECorr_:\n",
        "    print(df.mean())    "
      ]
    },
    {
      "cell_type": "code",
      "execution_count": null,
      "metadata": {},
      "outputs": [],
      "source": []
    },
    {
      "cell_type": "code",
      "execution_count": 42,
      "metadata": {},
      "outputs": [],
      "source": [
        "from tqdm import trange"
      ]
    },
    {
      "cell_type": "code",
      "execution_count": 28,
      "metadata": {},
      "outputs": [
        {
          "output_type": "stream",
          "name": "stdout",
          "text": [
            "('batch_size', 'lr', 'weight_decay')\n"
          ]
        },
        {
          "output_type": "execute_result",
          "data": {
            "text/plain": [
              "50"
            ]
          },
          "metadata": {},
          "execution_count": 28
        }
      ],
      "source": [
        "als_params = dict(batch_size = [50,100,200,300,500],\n",
        "                  lr = [1e-7,1e-5,1e-3,1e-1],\n",
        "                  weight_decay= [0.,0.1,0.2,0.3])\n",
        "\n",
        "als_param_grid, als_param_names = random_grid(als_params, n=50)\n",
        "print(als_param_names)\n",
        "len(als_param_grid)                 "
      ]
    },
    {
      "cell_type": "code",
      "execution_count": 31,
      "metadata": {},
      "outputs": [
        {
          "output_type": "stream",
          "name": "stdout",
          "text": [
            "200 1e-05 0.1\n100 1e-07 0.1\n50 1e-05 0.2\n200 0.001 0.2\n300 1e-07 0.0\n300 0.1 0.3\n50 1e-07 0.0\n50 0.1 0.3\n100 0.001 0.2\n100 1e-05 0.1\n"
          ]
        }
      ],
      "source": [
        "for i in range(10):\n",
        "    batch_size, lr, weight_decay = list(als_param_grid)[i]  \n",
        "    print(batch_size, lr, weight_decay)"
      ]
    },
    {
      "cell_type": "code",
      "execution_count": 271,
      "metadata": {},
      "outputs": [
        {
          "output_type": "execute_result",
          "data": {
            "text/plain": [
              "6961"
            ]
          },
          "metadata": {},
          "execution_count": 271
        }
      ],
      "source": [
        "200 1e-05 0.1\n",
        "50 1e-05 0.2\n",
        "200 0.001 0.2\n",
        "300 1e-05 0.2\n",
        "50 0.001 0.2\n",
        "50 1e-07 0.0\n",
        "500 1e-05 0.0\n",
        "50 0.1 0.3\n",
        "100 0.001 0.2\n",
        "100 1e-05 0.1\n",
        "300 0.001 0.2\n",
        "200 1e-05 0.0\n",
        "500 0.1 0.2\n",
        "300 1e-05 0.1\n",
        "200 0.001 0.1\n",
        "100 0.1 0.2\n",
        "50 0.001 0.1\n",
        "200 0.1 0.1\n",
        "100 0.001 0.1\n",
        "500 0.001 0.0"
      ]
    },
    {
      "cell_type": "code",
      "execution_count": 47,
      "metadata": {},
      "outputs": [],
      "source": [
        "def early_stop(curr_value, best_value, stop_step, patience):\n",
        "    if  curr_value >= best_value:\n",
        "        stop_step =0\n",
        "        best_value = curr_value\n",
        "    else:\n",
        "        stop_step += 1\n",
        "    if stop_step >= patience:\n",
        "        print(\"Early stopping triggered. patience: {} log:{}\".format(patience, best_value))\n",
        "        stop = True\n",
        "    else:\n",
        "        stop = False\n",
        "    return best_value, stop_step, stop \n",
        "\n",
        "def tuning_2(model,train_set,validtrain_set,validtest_set,als_param_grid,n_epochs,model_name,save_results= True):\n",
        "    stop_step = 0\n",
        "    for i in trange(10):   #len(als_param_grid)\n",
        "        batch_size, lr_, weightdecay_ = list(als_param_grid)[i]\n",
        "        total_anneal_steps = getTot_annealSTeps(train_set,batch_size,n_epochs,anneal_cap)\n",
        "        Optimizer_ = torch.optim.AdamW(model.parameters(), lr=lr_, weight_decay=weightdecay_)\n",
        "        print('batch_size = {} ,learning_rate = {}, weight_decay = {} '.format(batch_size,lr_,weightdecay_))\n",
        "        model_2 = model\n",
        "        best_score = 0     ##based on MetricEval..\n",
        "        stop = False\n",
        "        for epoch in range(n_epochs):            \n",
        "            train_step_2(model_2, Optimizer_, train_set,total_anneal_steps,epoch)\n",
        "            val_loss, NDCG100_ = eval_step_2(model_2,validtrain_set,validtest_set)\n",
        "            curr_score = NDCG100_\n",
        "            best_score,stop_step,stop = early_stop(curr_score,best_score,stop_step,patience=20)\n",
        "            if stop:\n",
        "                break\n",
        "            if (stop_step == 0) & (save_results):\n",
        "               best_epoch = epoch\n",
        "               best_BS  = batch_size\n",
        "               best_lr_ = lr_\n",
        "               best_weightdecay_ = weightdecay_\n",
        "               best_NGCG100 = NDCG100_\n",
        "               torch.save(model_2.state_dict(),model_name+\".pth\")\n",
        "               #print('NDCG100_ = {}, epoch = {}, best_score = {} '.format(best_NGCG100,best_epoch,best_score))\n",
        "               \n",
        "        print('NDCG100_ = {} '.format(best_NGCG100))\n",
        "\n",
        "    print('\\n Best parameters; batch_size= {}, learning_rate = {}, weight_decay = {}, NDCG100_ = {}, best_epoch = {}'.format(best_BS, best_lr_,best_weightdecay_,best_NGCG100,best_epoch))\n",
        "    return best_BS, best_lr_, best_weightdecay_,best_NGCG100, best_epoch  "
      ]
    },
    {
      "cell_type": "code",
      "execution_count": 84,
      "metadata": {},
      "outputs": [
        {
          "output_type": "execute_result",
          "data": {
            "text/plain": [
              "MultiVAE(\n",
              "  (encode): Encoder(\n",
              "    (q_layers): Sequential(\n",
              "      (dropout_0): Dropout(p=0.5, inplace=False)\n",
              "      (linear_0): Linear(in_features=6961, out_features=600, bias=True)\n",
              "      (dropout_1): Dropout(p=0.0, inplace=False)\n",
              "      (linear_1): Linear(in_features=600, out_features=400, bias=True)\n",
              "    )\n",
              "  )\n",
              "  (decode): Decoder(\n",
              "    (p_layers): Sequential(\n",
              "      (dropout_0): Dropout(p=0.0, inplace=False)\n",
              "      (linear_0): Linear(in_features=200, out_features=600, bias=True)\n",
              "      (dropout_1): Dropout(p=0.0, inplace=False)\n",
              "      (linear_1): Linear(in_features=600, out_features=6961, bias=True)\n",
              "    )\n",
              "  )\n",
              ")"
            ]
          },
          "metadata": {},
          "execution_count": 84
        }
      ],
      "source": [
        "n_items = len(train_Items)   \n",
        "I = n_items    ##I is the total number of items in the train date\n",
        "q_dims = [I] + [600, 200]\n",
        "p_dims = [200, 600] + [I]\n",
        "dropout_enc = [0.5, 0.]\n",
        "dropout_dec = [0., 0.]\n",
        "\n",
        "                    \n",
        "VAEmodel = MultiVAE(p_dims,q_dims,dropout_enc,dropout_dec)\n",
        "init_weights(VAEmodel)\n",
        "VAEmodel.to(device)"
      ]
    },
    {
      "cell_type": "code",
      "execution_count": 76,
      "metadata": {
        "tags": []
      },
      "outputs": [],
      "source": [
        "# update_count = 0 \n",
        "# anneal_epochs = None  \n",
        "# anneal_cap = 0.2\n",
        "# constant_anneal = False\n",
        "# patience = 10\n",
        "# total_anneal_steps = getTot_annealSTeps(TrainDF_RatMat,200,50,anneal_cap)\n",
        "# Optimizer_ = torch.optim.AdamW(VAEmodel.parameters(), lr=0.001, weight_decay=0.2)\n",
        "# best_NDCG = 0     \n",
        "# #model_name = 'AMZBVAE_2'\n",
        "# for epoch in trange(50):            \n",
        "#     train_step_2(VAEmodel, Optimizer_, TrainDF_RatMat,total_anneal_steps,epoch)\n",
        "#     val_loss, NDCG100_ = eval_step_2(VAEmodel,ValidTrain_RatMat,ValidTest_RatMat)\n",
        "#     print(NDCG100_)\n",
        "#     curr_score = NDCG100_\n",
        "#     if curr_score > best_NDCG:\n",
        "#        best_NDCG = curr_score\n",
        "#        best_epoch = epoch\n",
        "#        #torch.save(VAEmodel.state_dict(),model_name+\".pth\")\n",
        "\n",
        "#     if (epoch >= best_epoch+patience) & (curr_score < best_NDCG):\n",
        "#         print(\"Early Stop Activated\")\n",
        "#         break\n",
        "    \n",
        "#     print('Curr_score = {}, Best_score = {} , Epoch = {} '.format(curr_score,best_NDCG,epoch))"
      ]
    },
    {
      "cell_type": "code",
      "execution_count": 62,
      "metadata": {},
      "outputs": [
        {
          "output_type": "stream",
          "name": "stderr",
          "text": [
            "  2%|▏         | 1/50 [00:06<05:05,  6.23s/it]0.6585828697189701\n",
            "Curr_score = 0.6585828697189701, Best_score = 0.6585828697189701 \n",
            "  4%|▍         | 2/50 [00:12<05:10,  6.47s/it]0.6674166300370469\n",
            "Curr_score = 0.6674166300370469, Best_score = 0.6674166300370469 \n",
            "  6%|▌         | 3/50 [00:19<05:11,  6.62s/it]0.6681812943726724\n",
            "Curr_score = 0.6681812943726724, Best_score = 0.6681812943726724 \n",
            "  8%|▊         | 4/50 [00:25<04:54,  6.41s/it]0.6640851603642662\n",
            "Curr_score = 0.6640851603642662, Best_score = 0.6681812943726724 \n",
            " 10%|█         | 5/50 [00:32<04:55,  6.56s/it]0.6841801532017329\n",
            "Curr_score = 0.6841801532017329, Best_score = 0.6841801532017329 \n",
            " 12%|█▏        | 6/50 [00:39<04:51,  6.63s/it]0.6847280249463524\n",
            "Curr_score = 0.6847280249463524, Best_score = 0.6847280249463524 \n",
            " 14%|█▍        | 7/50 [00:46<04:48,  6.70s/it]0.6799999163191904\n",
            "Curr_score = 0.6799999163191904, Best_score = 0.6847280249463524 \n",
            " 16%|█▌        | 8/50 [00:52<04:31,  6.46s/it]0.676198624886627\n",
            "Curr_score = 0.676198624886627, Best_score = 0.6847280249463524 \n",
            " 18%|█▊        | 9/50 [00:58<04:22,  6.40s/it]0.6803962923496358\n",
            "Curr_score = 0.6803962923496358, Best_score = 0.6847280249463524 \n",
            " 20%|██        | 10/50 [01:04<04:15,  6.38s/it]0.6751952107264663\n",
            "Curr_score = 0.6751952107264663, Best_score = 0.6847280249463524 \n",
            " 22%|██▏       | 11/50 [01:11<04:14,  6.54s/it]0.6898699692028114\n",
            "Curr_score = 0.6898699692028114, Best_score = 0.6898699692028114 \n",
            " 24%|██▍       | 12/50 [01:17<04:06,  6.49s/it]0.6907264857247551\n",
            "Curr_score = 0.6907264857247551, Best_score = 0.6907264857247551 \n",
            " 26%|██▌       | 13/50 [01:24<03:59,  6.48s/it]0.7011135677917985\n",
            "Curr_score = 0.7011135677917985, Best_score = 0.7011135677917985 \n",
            " 28%|██▊       | 14/50 [01:30<03:50,  6.40s/it]0.689911119211086\n",
            "Curr_score = 0.689911119211086, Best_score = 0.7011135677917985 \n",
            " 30%|███       | 15/50 [01:36<03:42,  6.35s/it]0.6912786268974449\n",
            "Curr_score = 0.6912786268974449, Best_score = 0.7011135677917985 \n",
            " 32%|███▏      | 16/50 [01:43<03:38,  6.44s/it]0.6926096555849736\n",
            "Curr_score = 0.6926096555849736, Best_score = 0.7011135677917985 \n",
            " 34%|███▍      | 17/50 [01:50<03:33,  6.47s/it]0.6958479551738241\n",
            "Curr_score = 0.6958479551738241, Best_score = 0.7011135677917985 \n",
            " 36%|███▌      | 18/50 [01:56<03:27,  6.49s/it]0.7069162013228254\n",
            "Curr_score = 0.7069162013228254, Best_score = 0.7069162013228254 \n",
            " 38%|███▊      | 19/50 [02:03<03:21,  6.50s/it]0.69714866454987\n",
            "Curr_score = 0.69714866454987, Best_score = 0.7069162013228254 \n",
            " 40%|████      | 20/50 [02:09<03:16,  6.53s/it]0.7013879035460314\n",
            "Curr_score = 0.7013879035460314, Best_score = 0.7069162013228254 \n",
            " 42%|████▏     | 21/50 [02:15<03:04,  6.37s/it]0.7075857577487933\n",
            "Curr_score = 0.7075857577487933, Best_score = 0.7075857577487933 \n",
            " 44%|████▍     | 22/50 [02:22<02:58,  6.36s/it]0.6861255971507066\n",
            "Curr_score = 0.6861255971507066, Best_score = 0.7075857577487933 \n",
            " 46%|████▌     | 23/50 [02:28<02:52,  6.39s/it]0.6916469493924393\n",
            "Curr_score = 0.6916469493924393, Best_score = 0.7075857577487933 \n",
            " 48%|████▊     | 24/50 [02:34<02:43,  6.28s/it]0.6944101704595845\n",
            "Curr_score = 0.6944101704595845, Best_score = 0.7075857577487933 \n",
            " 50%|█████     | 25/50 [02:41<02:40,  6.42s/it]0.707044010160348\n",
            "Curr_score = 0.707044010160348, Best_score = 0.7075857577487933 \n",
            " 52%|█████▏    | 26/50 [02:47<02:30,  6.25s/it]0.6931109835242641\n",
            "Curr_score = 0.6931109835242641, Best_score = 0.7075857577487933 \n",
            " 54%|█████▍    | 27/50 [02:52<02:19,  6.08s/it]0.6979896724483052\n",
            "Curr_score = 0.6979896724483052, Best_score = 0.7075857577487933 \n",
            " 56%|█████▌    | 28/50 [02:59<02:17,  6.27s/it]0.6858576901059941\n",
            "Curr_score = 0.6858576901059941, Best_score = 0.7075857577487933 \n",
            " 58%|█████▊    | 29/50 [03:06<02:12,  6.32s/it]0.6874486066243062\n",
            "Curr_score = 0.6874486066243062, Best_score = 0.7075857577487933 \n",
            " 60%|██████    | 30/50 [03:12<02:08,  6.43s/it]0.711627234732835\n",
            "Curr_score = 0.711627234732835, Best_score = 0.711627234732835 \n",
            " 62%|██████▏   | 31/50 [03:18<02:00,  6.37s/it]0.6935949560247048\n",
            "Curr_score = 0.6935949560247048, Best_score = 0.711627234732835 \n",
            " 64%|██████▍   | 32/50 [03:25<01:57,  6.52s/it]0.6899333976338251\n",
            "Curr_score = 0.6899333976338251, Best_score = 0.711627234732835 \n",
            " 66%|██████▌   | 33/50 [03:32<01:52,  6.63s/it]0.700293325360117\n",
            "Curr_score = 0.700293325360117, Best_score = 0.711627234732835 \n",
            " 68%|██████▊   | 34/50 [03:38<01:44,  6.50s/it]0.7005571996063802\n",
            "Curr_score = 0.7005571996063802, Best_score = 0.711627234732835 \n",
            " 70%|███████   | 35/50 [03:45<01:38,  6.55s/it]0.7107081591466162\n",
            "Curr_score = 0.7107081591466162, Best_score = 0.711627234732835 \n",
            " 72%|███████▏  | 36/50 [03:51<01:29,  6.43s/it]0.7018218852843693\n",
            "Curr_score = 0.7018218852843693, Best_score = 0.711627234732835 \n",
            " 74%|███████▍  | 37/50 [03:58<01:23,  6.43s/it]0.7008145392345014\n",
            "Curr_score = 0.7008145392345014, Best_score = 0.711627234732835 \n",
            " 76%|███████▌  | 38/50 [04:04<01:16,  6.40s/it]0.7025547210657275\n",
            "Curr_score = 0.7025547210657275, Best_score = 0.711627234732835 \n",
            " 78%|███████▊  | 39/50 [04:11<01:11,  6.47s/it]0.7087739846052238\n",
            "Curr_score = 0.7087739846052238, Best_score = 0.711627234732835 \n",
            " 80%|████████  | 40/50 [04:17<01:03,  6.37s/it]0.7008076560710653\n",
            "Curr_score = 0.7008076560710653, Best_score = 0.711627234732835 \n",
            " 82%|████████▏ | 41/50 [04:23<00:56,  6.24s/it]0.7153988414708565\n",
            "Curr_score = 0.7153988414708565, Best_score = 0.7153988414708565 \n",
            " 84%|████████▍ | 42/50 [04:29<00:49,  6.16s/it]0.705893060428749\n",
            "Curr_score = 0.705893060428749, Best_score = 0.7153988414708565 \n",
            " 86%|████████▌ | 43/50 [04:35<00:43,  6.20s/it]0.6989697587900989\n",
            "Curr_score = 0.6989697587900989, Best_score = 0.7153988414708565 \n",
            " 88%|████████▊ | 44/50 [04:41<00:37,  6.26s/it]0.6969065379193901\n",
            "Curr_score = 0.6969065379193901, Best_score = 0.7153988414708565 \n",
            " 90%|█████████ | 45/50 [04:48<00:31,  6.34s/it]0.7081086687904822\n",
            "Curr_score = 0.7081086687904822, Best_score = 0.7153988414708565 \n",
            " 92%|█████████▏| 46/50 [04:54<00:25,  6.27s/it]0.7031673592902618\n",
            "Curr_score = 0.7031673592902618, Best_score = 0.7153988414708565 \n",
            " 94%|█████████▍| 47/50 [05:01<00:19,  6.40s/it]0.7044409699362048\n",
            "Curr_score = 0.7044409699362048, Best_score = 0.7153988414708565 \n",
            " 96%|█████████▌| 48/50 [05:07<00:12,  6.42s/it]0.7054396342817973\n",
            "Curr_score = 0.7054396342817973, Best_score = 0.7153988414708565 \n",
            " 98%|█████████▊| 49/50 [05:14<00:06,  6.51s/it]0.7018585577685359\n",
            "Curr_score = 0.7018585577685359, Best_score = 0.7153988414708565 \n",
            "100%|██████████| 50/50 [05:20<00:00,  6.40s/it]0.7027238056260717\n",
            "Curr_score = 0.7027238056260717, Best_score = 0.7153988414708565 \n",
            "\n"
          ]
        }
      ],
      "source": [
        "#batch_size = 200 ,learning_rate = 0.001, weight_decay = 0.2 ,n_epochs_ = 50\n",
        "total_anneal_steps = getTot_annealSTeps(TrainDF_RatMat,200,50,anneal_cap)\n",
        "Optimizer_ = torch.optim.AdamW(VAEmodel.parameters(), lr=0.001, weight_decay=0.2)\n",
        "best_NDCG = 0     \n",
        "model_name = 'AMZBVAE_2'\n",
        "for epoch in trange(50):            \n",
        "    train_step_2(VAEmodel, Optimizer_, TrainDF_RatMat,total_anneal_steps,epoch)\n",
        "    val_loss, NDCG100_ = eval_step_2(VAEmodel,ValidTrain_RatMat,ValidTest_RatMat)\n",
        "    print(NDCG100_)\n",
        "    curr_score = NDCG100_\n",
        "    if curr_score > best_NDCG:\n",
        "       best_NDCG = curr_score\n",
        "       torch.save(VAEmodel.state_dict(),model_name+\".pth\")\n",
        "    \n",
        "    print('Curr_score = {}, Best_score = {} '.format(curr_score,best_NDCG))"
      ]
    },
    {
      "cell_type": "code",
      "execution_count": 63,
      "metadata": {},
      "outputs": [
        {
          "output_type": "execute_result",
          "data": {
            "text/plain": [
              "0.7153988414708565"
            ]
          },
          "metadata": {},
          "execution_count": 63
        }
      ],
      "source": [
        "best_NDCG"
      ]
    },
    {
      "cell_type": "code",
      "execution_count": 77,
      "metadata": {},
      "outputs": [
        {
          "output_type": "execute_result",
          "data": {
            "text/plain": [
              "0.7255124902637974"
            ]
          },
          "metadata": {},
          "execution_count": 77
        }
      ],
      "source": [
        "# Run on test data with best model\n",
        "#model.load_state_dict(torch.load(model_name + \".pt\")))\n",
        "VAEmodel.load_state_dict(torch.load('AMZBVAE_2.pth'))\n",
        "test_loss,tst_ndgc100_ = eval_step_2(VAEmodel,TestTrain_RatMat,TestTest_RatMat)\n",
        "tst_ndgc100_"
      ]
    },
    {
      "cell_type": "code",
      "execution_count": null,
      "metadata": {},
      "outputs": [],
      "source": []
    },
    {
      "cell_type": "code",
      "execution_count": 484,
      "metadata": {},
      "outputs": [
        {
          "output_type": "stream",
          "name": "stderr",
          "text": [
            "  0%|          | 0/50 [00:00<?, ?it/s]batch_size = 200 ,learning_rate = 1e-05, weight_decay = 0.1 \n",
            "  2%|▏         | 1/50 [11:23<9:17:56, 683.19s/it]Early stopping triggered. patience: 25 log:0.6412730657920738\n",
            "NDCG100_ = 0.6412730657920738 \n",
            "batch_size = 200 ,learning_rate = 0.001, weight_decay = 0.2 \n",
            "  4%|▍         | 2/50 [11:30<3:48:24, 285.51s/it]Early stopping triggered. patience: 25 log:0.6412730657920738\n",
            "NDCG100_ = 0.6412730657920738 \n",
            "batch_size = 300 ,learning_rate = 1e-07, weight_decay = 0.0 \n",
            "  6%|▌         | 3/50 [11:37<2:04:05, 158.41s/it]Early stopping triggered. patience: 25 log:0.6412730657920738\n",
            "NDCG100_ = 0.6412730657920738 \n",
            "batch_size = 100 ,learning_rate = 0.1, weight_decay = 0.3 \n",
            "  8%|▊         | 4/50 [11:43<1:15:10, 98.06s/it] Early stopping triggered. patience: 25 log:0.6412730657920738\n",
            "NDCG100_ = 0.6412730657920738 \n",
            "batch_size = 50 ,learning_rate = 1e-07, weight_decay = 0.0 \n",
            " 10%|█         | 5/50 [11:48<48:36, 64.81s/it]  Early stopping triggered. patience: 25 log:0.6412730657920738\n",
            "NDCG100_ = 0.6412730657920738 \n",
            "batch_size = 50 ,learning_rate = 0.001, weight_decay = 0.2 \n",
            " 12%|█▏        | 6/50 [11:54<32:44, 44.65s/it]Early stopping triggered. patience: 25 log:0.6412730657920738\n",
            "NDCG100_ = 0.6412730657920738 \n",
            "batch_size = 500 ,learning_rate = 1e-05, weight_decay = 0.0 \n",
            " 14%|█▍        | 7/50 [12:00<22:51, 31.89s/it]Early stopping triggered. patience: 25 log:0.6412730657920738\n",
            "NDCG100_ = 0.6412730657920738 \n",
            "batch_size = 500 ,learning_rate = 0.001, weight_decay = 0.1 \n",
            " 16%|█▌        | 8/50 [12:05<16:30, 23.58s/it]Early stopping triggered. patience: 25 log:0.6412730657920738\n",
            "NDCG100_ = 0.6412730657920738 \n",
            "batch_size = 200 ,learning_rate = 0.1, weight_decay = 0.2 \n",
            " 18%|█▊        | 9/50 [12:11<12:17, 17.99s/it]Early stopping triggered. patience: 25 log:0.6412730657920738\n",
            "NDCG100_ = 0.6412730657920738 \n",
            "batch_size = 100 ,learning_rate = 1e-05, weight_decay = 0.1 \n",
            " 20%|██        | 10/50 [12:17<09:28, 14.22s/it]Early stopping triggered. patience: 25 log:0.6412730657920738\n",
            "NDCG100_ = 0.6412730657920738 \n",
            "batch_size = 300 ,learning_rate = 0.001, weight_decay = 0.2 \n",
            " 22%|██▏       | 11/50 [12:23<07:33, 11.62s/it]Early stopping triggered. patience: 25 log:0.6412730657920738\n",
            "NDCG100_ = 0.6412730657920738 \n",
            "batch_size = 200 ,learning_rate = 1e-05, weight_decay = 0.0 \n",
            " 24%|██▍       | 12/50 [12:28<06:12,  9.80s/it]Early stopping triggered. patience: 25 log:0.6412730657920738\n",
            "NDCG100_ = 0.6412730657920738 \n",
            "batch_size = 50 ,learning_rate = 1e-05, weight_decay = 0.1 \n",
            " 26%|██▌       | 13/50 [12:34<05:13,  8.48s/it]Early stopping triggered. patience: 25 log:0.6412730657920738\n",
            "NDCG100_ = 0.6412730657920738 \n",
            "batch_size = 300 ,learning_rate = 1e-05, weight_decay = 0.1 \n",
            " 28%|██▊       | 14/50 [12:39<04:34,  7.62s/it]Early stopping triggered. patience: 25 log:0.6412730657920738\n",
            "NDCG100_ = 0.6412730657920738 \n",
            "batch_size = 200 ,learning_rate = 0.001, weight_decay = 0.1 \n",
            " 30%|███       | 15/50 [12:45<04:05,  7.01s/it]Early stopping triggered. patience: 25 log:0.6412730657920738\n",
            "NDCG100_ = 0.6412730657920738 \n",
            "batch_size = 200 ,learning_rate = 1e-07, weight_decay = 0.3 \n",
            " 32%|███▏      | 16/50 [12:50<03:43,  6.57s/it]Early stopping triggered. patience: 25 log:0.6412730657920738\n",
            "NDCG100_ = 0.6412730657920738 \n",
            "batch_size = 50 ,learning_rate = 0.001, weight_decay = 0.1 \n",
            " 34%|███▍      | 17/50 [12:56<03:27,  6.28s/it]Early stopping triggered. patience: 25 log:0.6412730657920738\n",
            "NDCG100_ = 0.6412730657920738 \n",
            "batch_size = 300 ,learning_rate = 0.1, weight_decay = 0.2 \n",
            " 36%|███▌      | 18/50 [13:02<03:14,  6.09s/it]Early stopping triggered. patience: 25 log:0.6412730657920738\n",
            "NDCG100_ = 0.6412730657920738 \n",
            "batch_size = 50 ,learning_rate = 0.1, weight_decay = 0.2 \n",
            " 38%|███▊      | 19/50 [13:07<03:05,  5.98s/it]Early stopping triggered. patience: 25 log:0.6412730657920738\n",
            "NDCG100_ = 0.6412730657920738 \n",
            "batch_size = 100 ,learning_rate = 1e-05, weight_decay = 0.0 \n",
            " 40%|████      | 20/50 [13:13<02:55,  5.85s/it]Early stopping triggered. patience: 25 log:0.6412730657920738\n",
            "NDCG100_ = 0.6412730657920738 \n",
            "batch_size = 300 ,learning_rate = 0.001, weight_decay = 0.1 \n",
            " 42%|████▏     | 21/50 [13:18<02:44,  5.68s/it]Early stopping triggered. patience: 25 log:0.6412730657920738\n",
            "NDCG100_ = 0.6412730657920738 \n",
            "batch_size = 200 ,learning_rate = 0.001, weight_decay = 0.0 \n",
            " 44%|████▍     | 22/50 [13:24<02:41,  5.75s/it]Early stopping triggered. patience: 25 log:0.6412730657920738\n",
            "NDCG100_ = 0.6412730657920738 \n",
            "batch_size = 300 ,learning_rate = 1e-07, weight_decay = 0.3 \n",
            " 46%|████▌     | 23/50 [13:30<02:33,  5.70s/it]Early stopping triggered. patience: 25 log:0.6412730657920738\n",
            "NDCG100_ = 0.6412730657920738 \n",
            "batch_size = 100 ,learning_rate = 0.1, weight_decay = 0.1 \n",
            " 48%|████▊     | 24/50 [13:35<02:27,  5.69s/it]Early stopping triggered. patience: 25 log:0.6412730657920738\n",
            "NDCG100_ = 0.6412730657920738 \n",
            "batch_size = 50 ,learning_rate = 1e-07, weight_decay = 0.3 \n",
            " 50%|█████     | 25/50 [13:41<02:21,  5.65s/it]Early stopping triggered. patience: 25 log:0.6412730657920738\n",
            "NDCG100_ = 0.6412730657920738 \n",
            "batch_size = 50 ,learning_rate = 0.001, weight_decay = 0.0 \n",
            " 52%|█████▏    | 26/50 [13:47<02:16,  5.68s/it]Early stopping triggered. patience: 25 log:0.6412730657920738\n",
            "NDCG100_ = 0.6412730657920738 \n",
            "batch_size = 300 ,learning_rate = 0.1, weight_decay = 0.1 \n",
            " 54%|█████▍    | 27/50 [13:52<02:11,  5.72s/it]Early stopping triggered. patience: 25 log:0.6412730657920738\n",
            "NDCG100_ = 0.6412730657920738 \n",
            "batch_size = 200 ,learning_rate = 1e-07, weight_decay = 0.2 \n",
            " 56%|█████▌    | 28/50 [13:58<02:04,  5.66s/it]Early stopping triggered. patience: 25 log:0.6412730657920738\n",
            "NDCG100_ = 0.6412730657920738 \n",
            "batch_size = 200 ,learning_rate = 0.1, weight_decay = 0.0 \n",
            " 58%|█████▊    | 29/50 [14:04<01:58,  5.65s/it]Early stopping triggered. patience: 25 log:0.6412730657920738\n",
            "NDCG100_ = 0.6412730657920738 \n",
            "batch_size = 100 ,learning_rate = 0.001, weight_decay = 0.0 \n",
            " 60%|██████    | 30/50 [14:09<01:53,  5.69s/it]Early stopping triggered. patience: 25 log:0.6412730657920738\n",
            "NDCG100_ = 0.6412730657920738 \n",
            "batch_size = 50 ,learning_rate = 0.1, weight_decay = 0.1 \n",
            " 62%|██████▏   | 31/50 [14:15<01:47,  5.67s/it]Early stopping triggered. patience: 25 log:0.6412730657920738\n",
            "NDCG100_ = 0.6412730657920738 \n",
            "batch_size = 500 ,learning_rate = 1e-07, weight_decay = 0.2 \n",
            " 64%|██████▍   | 32/50 [14:21<01:42,  5.69s/it]Early stopping triggered. patience: 25 log:0.6412730657920738\n",
            "NDCG100_ = 0.6412730657920738 \n",
            "batch_size = 300 ,learning_rate = 0.001, weight_decay = 0.0 \n",
            " 66%|██████▌   | 33/50 [14:26<01:36,  5.70s/it]Early stopping triggered. patience: 25 log:0.6412730657920738\n",
            "NDCG100_ = 0.6412730657920738 \n",
            "batch_size = 200 ,learning_rate = 1e-05, weight_decay = 0.3 \n",
            " 68%|██████▊   | 34/50 [14:32<01:30,  5.67s/it]Early stopping triggered. patience: 25 log:0.6412730657920738\n",
            "NDCG100_ = 0.6412730657920738 \n",
            "batch_size = 100 ,learning_rate = 1e-07, weight_decay = 0.3 \n",
            " 70%|███████   | 35/50 [14:38<01:26,  5.73s/it]Early stopping triggered. patience: 25 log:0.6412730657920738\n",
            "NDCG100_ = 0.6412730657920738 \n",
            "batch_size = 500 ,learning_rate = 0.1, weight_decay = 0.0 \n",
            " 72%|███████▏  | 36/50 [14:44<01:20,  5.73s/it]Early stopping triggered. patience: 25 log:0.6412730657920738\n",
            "NDCG100_ = 0.6412730657920738 \n",
            "batch_size = 300 ,learning_rate = 1e-07, weight_decay = 0.2 \n",
            " 74%|███████▍  | 37/50 [14:49<01:13,  5.67s/it]Early stopping triggered. patience: 25 log:0.6412730657920738\n",
            "NDCG100_ = 0.6412730657920738 \n",
            "batch_size = 100 ,learning_rate = 0.1, weight_decay = 0.0 \n",
            " 76%|███████▌  | 38/50 [14:55<01:07,  5.64s/it]Early stopping triggered. patience: 25 log:0.6412730657920738\n",
            "NDCG100_ = 0.6412730657920738 \n",
            "batch_size = 200 ,learning_rate = 1e-07, weight_decay = 0.1 \n",
            " 78%|███████▊  | 39/50 [15:00<01:01,  5.62s/it]Early stopping triggered. patience: 25 log:0.6412730657920738\n",
            "NDCG100_ = 0.6412730657920738 \n",
            "batch_size = 300 ,learning_rate = 0.1, weight_decay = 0.0 \n",
            " 80%|████████  | 40/50 [15:06<00:56,  5.69s/it]Early stopping triggered. patience: 25 log:0.6412730657920738\n",
            "NDCG100_ = 0.6412730657920738 \n",
            "batch_size = 500 ,learning_rate = 1e-05, weight_decay = 0.2 \n",
            " 82%|████████▏ | 41/50 [15:12<00:50,  5.59s/it]Early stopping triggered. patience: 25 log:0.6412730657920738\n",
            "NDCG100_ = 0.6412730657920738 \n",
            "batch_size = 500 ,learning_rate = 0.001, weight_decay = 0.3 \n",
            " 84%|████████▍ | 42/50 [15:17<00:45,  5.63s/it]Early stopping triggered. patience: 25 log:0.6412730657920738\n",
            "NDCG100_ = 0.6412730657920738 \n",
            "batch_size = 500 ,learning_rate = 1e-07, weight_decay = 0.1 \n",
            " 86%|████████▌ | 43/50 [15:23<00:39,  5.65s/it]Early stopping triggered. patience: 25 log:0.6412730657920738\n",
            "NDCG100_ = 0.6412730657920738 \n",
            "batch_size = 50 ,learning_rate = 1e-05, weight_decay = 0.3 \n",
            " 88%|████████▊ | 44/50 [15:29<00:33,  5.66s/it]Early stopping triggered. patience: 25 log:0.6412730657920738\n",
            "NDCG100_ = 0.6412730657920738 \n",
            "batch_size = 200 ,learning_rate = 1e-05, weight_decay = 0.2 \n",
            " 90%|█████████ | 45/50 [15:35<00:28,  5.73s/it]Early stopping triggered. patience: 25 log:0.6412730657920738\n",
            "NDCG100_ = 0.6412730657920738 \n",
            "batch_size = 200 ,learning_rate = 0.001, weight_decay = 0.3 \n",
            " 92%|█████████▏| 46/50 [15:40<00:22,  5.72s/it]Early stopping triggered. patience: 25 log:0.6412730657920738\n",
            "NDCG100_ = 0.6412730657920738 \n",
            "batch_size = 100 ,learning_rate = 1e-07, weight_decay = 0.2 \n",
            " 94%|█████████▍| 47/50 [15:46<00:16,  5.65s/it]Early stopping triggered. patience: 25 log:0.6412730657920738\n",
            "NDCG100_ = 0.6412730657920738 \n",
            "batch_size = 300 ,learning_rate = 1e-05, weight_decay = 0.3 \n",
            " 96%|█████████▌| 48/50 [15:51<00:11,  5.61s/it]Early stopping triggered. patience: 25 log:0.6412730657920738\n",
            "NDCG100_ = 0.6412730657920738 \n",
            "batch_size = 50 ,learning_rate = 1e-07, weight_decay = 0.1 \n",
            " 98%|█████████▊| 49/50 [15:57<00:05,  5.61s/it]Early stopping triggered. patience: 25 log:0.6412730657920738\n",
            "NDCG100_ = 0.6412730657920738 \n",
            "batch_size = 500 ,learning_rate = 1e-05, weight_decay = 0.1 \n",
            "100%|██████████| 50/50 [16:03<00:00, 19.26s/it]Early stopping triggered. patience: 25 log:0.6412730657920738\n",
            "NDCG100_ = 0.6412730657920738 \n",
            "\n",
            " Best parameters; batch_size= 200, learning_rate = 1e-05, weight_decay = 0.1, NDCG100_ = 0.6412730657920738, best_epoch = 72\n",
            "\n"
          ]
        }
      ],
      "source": [
        "anneal_epochs = None  \n",
        "anneal_cap = 0.2\n",
        "constant_anneal = False\n",
        "update_count = 0\n",
        "\n",
        "#tuning_2(model,train_set,validtrain_set,validtest_set,als_param_grid,n_epochs,model_name,save_results= True)\n",
        "bestModel_info =  tuning_2(VAEmodel,TrainDF_RatMat,ValidTrain_RatMat,ValidTest_RatMat,als_param_grid,200,\"AMZB_VAE\",save_results= True)"
      ]
    },
    {
      "cell_type": "code",
      "execution_count": 273,
      "metadata": {},
      "outputs": [],
      "source": []
    },
    {
      "cell_type": "code",
      "execution_count": 485,
      "metadata": {},
      "outputs": [
        {
          "output_type": "stream",
          "name": "stdout",
          "text": [
            "batch_size     : 200\nlearning_rate  : 1e-05\nweight_decay   : 0.1\nbest_NGCG100   : 0.6412730657920738\nbest_epoch      : 72\n"
          ]
        }
      ],
      "source": [
        "best_BS, best_lr_, best_weightdecay_,best_NGCG100, best_epoch =  bestModel_info\n",
        "print(\"batch_size     :\",best_BS)\n",
        "print(\"learning_rate  :\",best_lr_)\n",
        "print(\"weight_decay   :\",best_weightdecay_)\n",
        "print(\"best_NGCG100   :\",best_NGCG100)        \n",
        "print(\"best_epoch      :\",best_epoch)"
      ]
    },
    {
      "cell_type": "code",
      "execution_count": 69,
      "metadata": {},
      "outputs": [],
      "source": [
        "#batch_size = 200 ,learning_rate = 0.001, weight_decay = 0.2 ,n_epochs_ = 50\n",
        "print(\"batch_size     :\",200)\n",
        "print(\"learning_rate  :\",0.001)\n",
        "print(\"weight_decay   :\",0.2 )\n",
        "print(\"best_NGCG100   :\",best_NGCG)        \n",
        "#print(\"best_epoch      :\",best_epoch)"
      ]
    },
    {
      "cell_type": "code",
      "execution_count": 486,
      "metadata": {},
      "outputs": [
        {
          "output_type": "execute_result",
          "data": {
            "text/plain": [
              "0.6652911149722905"
            ]
          },
          "metadata": {},
          "execution_count": 486
        }
      ],
      "source": [
        "# Run on test data with best model\n",
        "#model.load_state_dict(torch.load(model_name + \".pt\")))\n",
        "VAEmodel.load_state_dict(torch.load('AMZB_VAE.pth'))\n",
        "test_loss,tst_ndgc100_ = eval_step_2(VAEmodel,TestTrain_RatMat,TestTest_RatMat)\n",
        "tst_ndgc100_"
      ]
    },
    {
      "cell_type": "code",
      "execution_count": null,
      "metadata": {},
      "outputs": [],
      "source": [
        "##P_Dimension Tuning"
      ]
    },
    {
      "cell_type": "code",
      "execution_count": 85,
      "metadata": {},
      "outputs": [],
      "source": [
        "def getVAEModel(n_items,p_dims):\n",
        "    I = n_items    #I is the total number of items in the train date\n",
        "    q_Dims = [I] + p_dims[::-1]\n",
        "    P_Dims = p_dims + [I]\n",
        "    dropout_enc = [0.5, 0.]\n",
        "    dropout_dec = [0., 0.5]\n",
        "\n",
        "    VAEmodel = MultiVAE(P_Dims,q_Dims,dropout_enc,dropout_dec)\n",
        "    init_weights(VAEmodel)\n",
        "    VAEmodel.to(device)\n",
        "    return VAEmodel\n",
        "\n",
        "def P_dimsTuning(train_set,validtrain_set,validtest_set,n_items,p_dimsList,model_name,n_epochs,save_results= True):\n",
        "    update_count = 0\n",
        "    best_NDCG = 0     \n",
        "    update_count = 0\n",
        "    total_anneal_steps = getTot_annealSTeps(train_set,batch_size,n_epochs,anneal_cap)\n",
        "    for p_dims in tqdm(p_dimsList):\n",
        "        print(\"P_Dimensions: \",p_dims)\n",
        "        model_ = getVAEModel(n_items,p_dims) \n",
        "        Optimizer_ = torch.optim.AdamW(model_.parameters(), lr=lr_, weight_decay=weightdecay_)\n",
        "        for epoch in range(n_epochs):            \n",
        "            train_step_2(model_, Optimizer_, train_set,total_anneal_steps,epoch)\n",
        "            val_loss, NDCG100_ = eval_step_2(model_,validtrain_set,validtest_set)\n",
        "            curr_score = NDCG100_\n",
        "            if curr_score > best_NDCG:\n",
        "               best_NDCG = curr_score\n",
        "               best_dims = p_dims\n",
        "               torch.save(VAEmodel.state_dict(),model_name+\".pth\")\n",
        "    \n",
        "        print('Curr_score = {}, Best_score = {},Best_P_dims = {} '.format(curr_score,best_NDCG,best_dims))\n",
        "        \n",
        "        \n",
        "    print('\\n Best parameters; Best_dims= {}, Best_NDCG100 = {}'.format(best_dims,best_NDCG))\n",
        "    return best_NDCG,best_dims  \n",
        "\n",
        "\n",
        "def epoch_Tuning(train_set,validtrain_set,validtest_set,n_items,p_dimsList,model_name,n_epochs,save_results= True):\n",
        "    update_count = 0\n",
        "    best_NDCG = 0     \n",
        "    update_count = 0\n",
        "    total_anneal_steps = getTot_annealSTeps(train_set,batch_size,n_epochs,anneal_cap)\n",
        "    for p_dims in tqdm(p_dimsList):\n",
        "        print(\"P_Dimensions: \",p_dims)\n",
        "        model_ = getVAEModel(n_items,p_dims) \n",
        "        Optimizer_ = torch.optim.AdamW(model_.parameters(), lr=lr_, weight_decay=weightdecay_)\n",
        "        for epoch in range(n_epochs):            \n",
        "            train_step_2(model_, Optimizer_, train_set,total_anneal_steps,epoch)\n",
        "            val_loss, NDCG100_ = eval_step_2(model_,validtrain_set,validtest_set)\n",
        "            curr_score = NDCG100_\n",
        "            if curr_score > best_NDCG:\n",
        "               best_NDCG = curr_score\n",
        "               best_dims = p_dims\n",
        "               torch.save(VAEmodel.state_dict(),model_name+\".pth\")\n",
        "    \n",
        "        print('Curr_score = {}, Best_score = {},Best_P_dims = {} '.format(curr_score,best_NDCG,best_dims))\n",
        "        \n",
        "        \n",
        "    print('\\n Best parameters; Best_dims= {}, Best_NDCG100 = {}'.format(best_dims,best_NDCG))\n",
        "    return best_NDCG,best_dims  \n",
        "\n"
      ]
    },
    {
      "cell_type": "code",
      "execution_count": 66,
      "metadata": {},
      "outputs": [],
      "source": []
    },
    {
      "cell_type": "code",
      "execution_count": 86,
      "metadata": {},
      "outputs": [
        {
          "output_type": "stream",
          "name": "stderr",
          "text": [
            "  0%|          | 0/8 [00:00<?, ?it/s]P_Dimensions:  [32, 64]\n",
            " 12%|█▎        | 1/8 [04:29<31:25, 269.32s/it]Curr_score = 0.5837287655464903, Best_score = 0.6120070681164448,Best_P_dims = [32, 64] \n",
            "P_Dimensions:  [64, 128]\n",
            " 25%|██▌       | 2/8 [09:07<27:25, 274.31s/it]Curr_score = 0.6666002005948007, Best_score = 0.6716524707237834,Best_P_dims = [64, 128] \n",
            "P_Dimensions:  [128, 256]\n",
            " 38%|███▊      | 3/8 [13:23<22:09, 265.95s/it]Curr_score = 0.6852466735557055, Best_score = 0.6875681265085664,Best_P_dims = [128, 256] \n",
            "P_Dimensions:  [256, 512]\n",
            " 50%|█████     | 4/8 [17:16<16:52, 253.10s/it]Curr_score = 0.6811728918212387, Best_score = 0.6993992422948409,Best_P_dims = [256, 512] \n",
            "P_Dimensions:  [512, 1024]\n",
            " 62%|██████▎   | 5/8 [21:32<12:42, 254.23s/it]Curr_score = 0.6970349825603533, Best_score = 0.7055693200112986,Best_P_dims = [512, 1024] \n",
            "P_Dimensions:  [100, 300]\n",
            " 75%|███████▌  | 6/8 [25:30<08:17, 248.72s/it]Curr_score = 0.6866653139930067, Best_score = 0.7055693200112986,Best_P_dims = [512, 1024] \n",
            "P_Dimensions:  [200, 600]\n",
            " 88%|████████▊ | 7/8 [29:28<04:05, 245.03s/it]Curr_score = 0.6923230328709216, Best_score = 0.706627259883148,Best_P_dims = [200, 600] \n",
            "P_Dimensions:  [300, 900]\n",
            "100%|██████████| 8/8 [33:45<00:00, 253.22s/it]Curr_score = 0.7065647344311379, Best_score = 0.7161055873077944,Best_P_dims = [300, 900] \n",
            "\n",
            " Best parameters; Best_dims= [300, 900], Best_NDCG100 = 0.7161055873077944\n",
            "\n"
          ]
        }
      ],
      "source": [
        "#batch_size = 200 ,learning_rate = 0.001, weight_decay = 0.2 ,n_epochs_ = 50\n",
        "anneal_epochs = None  \n",
        "anneal_cap = 0.2\n",
        "constant_anneal = False\n",
        "update_count = 0\n",
        "batch_size=200\n",
        "lr_= 0.001\n",
        "weightdecay_=0.2\n",
        "n_items = len(train_Items) \n",
        "p_dimsList  = [[32,64],[64,128],[128,256],[256,512],[512,1024],[100,300],[200,600],[300,900]]\n",
        "\n",
        "best_ModelInfo2 = P_dimsTuning(TrainDF_RatMat,ValidTrain_RatMat,ValidTest_RatMat,n_items,p_dimsList,\"AMZB_DimModel\",n_epochs=50,save_results= True)"
      ]
    },
    {
      "cell_type": "code",
      "execution_count": null,
      "metadata": {},
      "outputs": [],
      "source": []
    },
    {
      "cell_type": "code",
      "execution_count": 94,
      "metadata": {},
      "outputs": [
        {
          "output_type": "execute_result",
          "data": {
            "text/plain": [
              "MultiVAE(\n",
              "  (encode): Encoder(\n",
              "    (q_layers): Sequential(\n",
              "      (dropout_0): Dropout(p=0.5, inplace=False)\n",
              "      (linear_0): Linear(in_features=6961, out_features=600, bias=True)\n",
              "      (dropout_1): Dropout(p=0.0, inplace=False)\n",
              "      (linear_1): Linear(in_features=600, out_features=400, bias=True)\n",
              "    )\n",
              "  )\n",
              "  (decode): Decoder(\n",
              "    (p_layers): Sequential(\n",
              "      (dropout_0): Dropout(p=0.0, inplace=False)\n",
              "      (linear_0): Linear(in_features=200, out_features=600, bias=True)\n",
              "      (dropout_1): Dropout(p=0.5, inplace=False)\n",
              "      (linear_1): Linear(in_features=600, out_features=6961, bias=True)\n",
              "    )\n",
              "  )\n",
              ")"
            ]
          },
          "metadata": {},
          "execution_count": 94
        }
      ],
      "source": [
        "n_items = len(train_Items)   \n",
        "I = n_items    ##I is the total number of items in the train date\n",
        "q_dims = [I] + [600, 200]\n",
        "p_dims = [200, 600] + [I]\n",
        "dropout_enc = [0.5, 0.]\n",
        "dropout_dec = [0., 0.5]\n",
        "                    \n",
        "VAEmodel = MultiVAE(p_dims,q_dims,dropout_enc,dropout_dec)\n",
        "init_weights(VAEmodel)\n",
        "VAEmodel.to(device)"
      ]
    },
    {
      "cell_type": "code",
      "execution_count": 122,
      "metadata": {},
      "outputs": [
        {
          "output_type": "execute_result",
          "data": {
            "text/plain": [
              "0.7255124902637974"
            ]
          },
          "metadata": {},
          "execution_count": 122
        }
      ],
      "source": [
        "# Run on test data with best model\n",
        "#model.load_state_dict(torch.load(model_name + \".pt\")))\n",
        "VAEmodel.load_state_dict(torch.load('AMZBVAE_2.pth'))\n",
        "test_loss,tst_ndgc100_ = eval_step_2(VAEmodel,TestTrain_RatMat,TestTest_RatMat)\n",
        "tst_ndgc100_"
      ]
    },
    {
      "cell_type": "code",
      "execution_count": 98,
      "metadata": {},
      "outputs": [],
      "source": []
    },
    {
      "cell_type": "code",
      "execution_count": 18,
      "metadata": {},
      "outputs": [],
      "source": [
        " import pickle\n",
        "\n",
        "with open('/mnt/bulky/oolaleke/TDM_Dataset/AMZ_Btyfiles/AMZB_newHoldout.pkl', 'rb') as f:\n",
        "     newHoldout_list = pickle.load(f)\n",
        "\n",
        "with open('/mnt/bulky/oolaleke/TDM_Dataset/AMZ_Btyfiles/AMZB_newPSITest.pkl', 'rb') as f:\n",
        "     newPSITest_list = pickle.load(f)     \n",
        "\n",
        "    \n",
        "with open('/mnt/bulky/oolaleke/TDM_Dataset/AMZ_Btyfiles/AMZB_newUserItem.pkl', 'rb') as f:\n",
        "     newUserItem_list = pickle.load(f)"
      ]
    },
    {
      "cell_type": "code",
      "execution_count": 19,
      "metadata": {},
      "outputs": [
        {
          "output_type": "execute_result",
          "data": {
            "text/plain": [
              "[<22557x8109 sparse matrix of type '<class 'numpy.float64'>'\n",
              " \twith 40228 stored elements in Compressed Sparse Row format>,\n",
              " <22557x8109 sparse matrix of type '<class 'numpy.float64'>'\n",
              " \twith 41330 stored elements in Compressed Sparse Row format>,\n",
              " <22557x8109 sparse matrix of type '<class 'numpy.float64'>'\n",
              " \twith 42432 stored elements in Compressed Sparse Row format>,\n",
              " <22557x8109 sparse matrix of type '<class 'numpy.float64'>'\n",
              " \twith 43525 stored elements in Compressed Sparse Row format>,\n",
              " <22557x8109 sparse matrix of type '<class 'numpy.float64'>'\n",
              " \twith 44665 stored elements in Compressed Sparse Row format>,\n",
              " <22557x8109 sparse matrix of type '<class 'numpy.float64'>'\n",
              " \twith 45752 stored elements in Compressed Sparse Row format>,\n",
              " <22557x8109 sparse matrix of type '<class 'numpy.float64'>'\n",
              " \twith 47034 stored elements in Compressed Sparse Row format>,\n",
              " <22557x8109 sparse matrix of type '<class 'numpy.float64'>'\n",
              " \twith 48112 stored elements in Compressed Sparse Row format>,\n",
              " <22557x8109 sparse matrix of type '<class 'numpy.float64'>'\n",
              " \twith 49321 stored elements in Compressed Sparse Row format>,\n",
              " <22557x8109 sparse matrix of type '<class 'numpy.float64'>'\n",
              " \twith 50337 stored elements in Compressed Sparse Row format>]"
            ]
          },
          "metadata": {},
          "execution_count": 19
        }
      ],
      "source": [
        "rows_i = newAMZB_DF['Updated_UserID'].nunique()\n",
        "cols_i = newAMZB_DF['Updated_ItemID'].nunique()\n",
        "UserItem_MATList = AllRatingMatrices(newUserItem_list,'Updated_UserID','Updated_ItemID',rows_i ,cols_i) \n",
        "UserItem_MATList   "
      ]
    },
    {
      "cell_type": "code",
      "execution_count": 20,
      "metadata": {},
      "outputs": [
        {
          "output_type": "execute_result",
          "data": {
            "text/plain": [
              "MultiVAE(\n",
              "  (encode): Encoder(\n",
              "    (q_layers): Sequential(\n",
              "      (dropout_0): Dropout(p=0.5, inplace=False)\n",
              "      (linear_0): Linear(in_features=8109, out_features=600, bias=True)\n",
              "      (dropout_1): Dropout(p=0.0, inplace=False)\n",
              "      (linear_1): Linear(in_features=600, out_features=400, bias=True)\n",
              "    )\n",
              "  )\n",
              "  (decode): Decoder(\n",
              "    (p_layers): Sequential(\n",
              "      (dropout_0): Dropout(p=0.0, inplace=False)\n",
              "      (linear_0): Linear(in_features=200, out_features=600, bias=True)\n",
              "      (dropout_1): Dropout(p=0.0, inplace=False)\n",
              "      (linear_1): Linear(in_features=600, out_features=8109, bias=True)\n",
              "    )\n",
              "  )\n",
              ")"
            ]
          },
          "metadata": {},
          "execution_count": 20
        }
      ],
      "source": [
        " I =  newAMZB_DF['Updated_ItemID'].nunique()  #I is the total number of items in the train date\n",
        "q_dims = [I] + [600, 200]\n",
        "p_dims = [200, 600] + [I]\n",
        "dropout_enc = [0.5, 0.]\n",
        "dropout_dec = [0., 0.]\n",
        "\n",
        "                    #p_dims,q_dims,dropout_enc,dropout_dec\n",
        "VAEmodel_untrain = MultiVAE(p_dims,q_dims,dropout_enc,dropout_dec)\n",
        "init_weights(VAEmodel_untrain)\n",
        "VAEmodel_untrain.to(device)"
      ]
    },
    {
      "cell_type": "code",
      "execution_count": 21,
      "metadata": {},
      "outputs": [
        {
          "output_type": "execute_result",
          "data": {
            "text/plain": [
              "device(type='cuda')"
            ]
          },
          "metadata": {},
          "execution_count": 21
        }
      ],
      "source": [
        "device"
      ]
    },
    {
      "cell_type": "code",
      "execution_count": 104,
      "metadata": {},
      "outputs": [],
      "source": [
        "# newHoldout_List[0]  newPSITest_List"
      ]
    },
    {
      "cell_type": "code",
      "execution_count": 24,
      "metadata": {},
      "outputs": [],
      "source": [
        "def Trainwith_Best(model,UserItem_TRset,best_BS,best_lr,best_wd):\n",
        "    total_anneal_steps = getTot_annealSTeps(UserItem_TRset,best_BS,anneal_n,anneal_cap)\n",
        "    Optimizer_ = torch.optim.AdamW(model.parameters(), lr=best_lr, weight_decay=best_wd)\n",
        "    for epoch in tqdm(range(bst_epochs)):            \n",
        "        train_step_2(model, Optimizer_, UserItem_TRset,total_anneal_steps,epoch)\n",
        "      \n",
        "    #torch.save(model.state_dict(),model_name+\".pth\")\n",
        "    return model\n",
        "\n",
        "def get_ModelOut(X_train,model):  #X_train== RatMat...\n",
        "    with torch.no_grad():\n",
        "         X_input = torch.FloatTensor(X_train.toarray()).to(device)\n",
        "         X_out, mu, logvar = model(X_input)\n",
        "         X_out = X_out.cpu().numpy()         #convert from tensor to numpy\n",
        "         #X_out[X_train.nonzero()] = -np.inf  #Exclude examples from training set\n",
        "    return X_out\n",
        "\n",
        "\n",
        "def getVAE_TopNPred(X_out,k):   ##X_out == tensor output from model\n",
        "    batch_users = X_out.shape[0]\n",
        "    idx_topk_part = bn.argpartition(-X_out, k, axis=1)\n",
        "    topk_part = X_out[np.arange(batch_users)[:, np.newaxis], idx_topk_part[:, :k]]\n",
        "    idx_part = np.argsort(-topk_part, axis=1)\n",
        "    idx_topk = idx_topk_part[np.arange(batch_users)[:, np.newaxis], idx_part]\n",
        "    return idx_topk\n",
        "\n",
        "def getVAE_AllPred(model,UserItemList,best_BS,best_lr,best_wd,k=10):\n",
        "    ALLstep_Pred  = []\n",
        "    for UserItem_ in UserItemList:\n",
        "        Trainedmodel = Trainwith_Best(model,UserItem_,best_BS,best_lr,best_wd)\n",
        "        X_out = get_ModelOut(UserItem_,Trainedmodel)\n",
        "        topNPred = getVAE_TopNPred(X_out,k)   ##get prediction for all users..\n",
        "        ALLstep_Pred.append(topNPred)\n",
        "    return ALLstep_Pred\n",
        "\n",
        "\n",
        "def VAEHitrate_Eval_2(allPred,holdout,user_column,item_column):  ##N == Top_N\n",
        "    TestUsers = holdout[user_column]\n",
        "    HOLDOUT_pred = allPred[TestUsers,:] \n",
        "    Eval_itemsVector  = holdout[[item_column]].to_numpy()\n",
        "    HitRate_arr   =  (HOLDOUT_pred == Eval_itemsVector).sum(axis=1)  ##sum along row...\n",
        "    HitCount = np.count_nonzero(HitRate_arr == 1)\n",
        "    HitRate_ = HitRate_arr.mean()\n",
        "    print(\"Number of hits: \", HitCount)\n",
        "    print(\"Total Num of users: \",len(holdout[user_column]))\n",
        "    print(\"Recommendation HitRate: \",HitRate_)\n",
        "    return HitRate_\n",
        "\n",
        "def VAEHitrate_Eval(allPred,holdout,user_column,item_column):  ##N == Top_N\n",
        "    TestUsers = holdout[user_column]\n",
        "    HOLDOUT_pred = allPred[TestUsers,:] \n",
        "    Eval_itemsVector  = holdout[[item_column]].to_numpy()\n",
        "    HitRate_arr   =  (HOLDOUT_pred == Eval_itemsVector).sum(axis=1)  ##sum along row...\n",
        "    HitCount = np.count_nonzero(HitRate_arr == 1)\n",
        "    HitRate_ = HitRate_arr.mean()\n",
        "    return HitRate_\n",
        "\n",
        "def mean_confidence_interval(data, confidence=0.95):\n",
        "    a = 1.0 * np.array(data)\n",
        "    n = len(a)\n",
        "    mean, se = np.mean(a), st.sem(a)\n",
        "    h = se * scipy.stats.t.ppf((1 + confidence) / 2., n-1)\n",
        "    lower_band =  mean-h\n",
        "    upper_band =  mean+h\n",
        "    return lower_band, mean,upper_band                ##LowerBand || Mean || UpperBand\n",
        "\n",
        "\n",
        "\n",
        "def getAll_VAEHitRate(HOLDOUT_list,All_TOPN_PRED,user_column,item_column):\n",
        "    AllSteps_Hitrate = []\n",
        "    for holdout, allPred in zip(HOLDOUT_list,All_TOPN_PRED):                   \n",
        "        HitRate_ = VAEHitrate_Eval_2(allPred,holdout,user_column,item_column)\n",
        "        AllSteps_Hitrate.append(HitRate_)\n",
        "\n",
        "    LowerBand, Avg_HitRate, UpperBand  = mean_confidence_interval(AllSteps_Hitrate, confidence=0.95)\n",
        "    print(\"Average HitRate for All Recommendations: \", Avg_HitRate)\n",
        "    return AllSteps_Hitrate, LowerBand, Avg_HitRate, UpperBand    \n",
        "       "
      ]
    },
    {
      "cell_type": "code",
      "execution_count": 26,
      "metadata": {},
      "outputs": [
        {
          "output_type": "stream",
          "name": "stderr",
          "text": [
            "100%|██████████| 100/100 [01:39<00:00,  1.00it/s]\n",
            "100%|██████████| 100/100 [01:46<00:00,  1.06s/it]\n",
            "100%|██████████| 100/100 [01:48<00:00,  1.08s/it]\n",
            "100%|██████████| 100/100 [01:48<00:00,  1.09s/it]\n",
            "100%|██████████| 100/100 [01:49<00:00,  1.10s/it]\n",
            "100%|██████████| 100/100 [01:47<00:00,  1.07s/it]\n",
            "100%|██████████| 100/100 [01:46<00:00,  1.06s/it]\n",
            "100%|██████████| 100/100 [01:47<00:00,  1.08s/it]\n",
            "100%|██████████| 100/100 [01:48<00:00,  1.09s/it]\n",
            "100%|██████████| 100/100 [01:47<00:00,  1.08s/it]\n"
          ]
        }
      ],
      "source": [
        "#batch_size = 200 ,learning_rate = 0.001, weight_decay = 0.2 ,n_epochs_ = 50\n",
        "anneal_epochs = None  #Not excluding traing set\n",
        "anneal_cap = 0.2\n",
        "constant_anneal = False\n",
        "update_count = 0\n",
        "anneal_n = 50\n",
        "bst_epochs = 100\n",
        "best_BS = 200\n",
        "batch_size = best_BS\n",
        "best_lr_= 0.001\n",
        "best_weightdecay_ =  0.2\n",
        "ALLstep_PredList =  getVAE_AllPred(VAEmodel_untrain,UserItem_MATList,best_BS,best_lr_,best_weightdecay_,k=10)"
      ]
    },
    {
      "cell_type": "code",
      "execution_count": 27,
      "metadata": {},
      "outputs": [
        {
          "output_type": "execute_result",
          "data": {
            "text/plain": [
              "[array([[  60,    0,  737, ..., 2338, 5857,   43],\n",
              "        [   1,    0,   21, ...,  802,   26,  168],\n",
              "        [   1,  297,    9, ...,   74,   67,   62],\n",
              "        ...,\n",
              "        [  67,   74,   25, ...,  322,  105,  321],\n",
              "        [ 995, 1230, 2849, ..., 3293,  106, 4380],\n",
              "        [4017,   67,   74, ...,  319,  815, 3293]]),\n",
              " array([[  43,    0,   60, ...,   57, 4621,  134],\n",
              "        [   1,    0,    9, ..., 3962, 3960,  297],\n",
              "        [   1,    9,    0, ...,   74,   67, 6303],\n",
              "        ...,\n",
              "        [  67,   74, 3666, ...,  106,  661, 1198],\n",
              "        [  67,   74,  555, ...,   25,  317,  311],\n",
              "        [  67,   74,   22, ...,  374,  555,  168]])]"
            ]
          },
          "metadata": {},
          "execution_count": 27
        }
      ],
      "source": [
        "ALLstep_PredList[:2]"
      ]
    },
    {
      "cell_type": "code",
      "execution_count": 31,
      "metadata": {},
      "outputs": [],
      "source": [
        "with open('AMZBVAEPredList_2.pkl', 'wb') as f:\n",
        "     pickle.dump(ALLstep_PredList, f)"
      ]
    },
    {
      "cell_type": "code",
      "execution_count": 29,
      "metadata": {},
      "outputs": [
        {
          "output_type": "stream",
          "name": "stdout",
          "text": [
            "Number of hits:  118\nTotal Num of users:  474\nRecommendation HitRate:  0.2489451476793249\n"
          ]
        },
        {
          "output_type": "execute_result",
          "data": {
            "text/plain": [
              "0.2489451476793249"
            ]
          },
          "metadata": {},
          "execution_count": 29
        }
      ],
      "source": [
        "VAEHitrate_Eval_2(ALLstep_PredList[0],newHoldout_list[0],'Updated_UserID', 'Updated_ItemID')"
      ]
    },
    {
      "cell_type": "code",
      "execution_count": 30,
      "metadata": {},
      "outputs": [
        {
          "output_type": "stream",
          "name": "stdout",
          "text": [
            "Number of hits:  118\nTotal Num of users:  474\nRecommendation HitRate:  0.2489451476793249\nNumber of hits:  121\nTotal Num of users:  433\nRecommendation HitRate:  0.279445727482679\nNumber of hits:  134\nTotal Num of users:  465\nRecommendation HitRate:  0.28817204301075267\nNumber of hits:  125\nTotal Num of users:  478\nRecommendation HitRate:  0.2615062761506276\nNumber of hits:  124\nTotal Num of users:  478\nRecommendation HitRate:  0.2594142259414226\nNumber of hits:  118\nTotal Num of users:  508\nRecommendation HitRate:  0.23228346456692914\nNumber of hits:  197\nTotal Num of users:  612\nRecommendation HitRate:  0.32189542483660133\nNumber of hits:  165\nTotal Num of users:  599\nRecommendation HitRate:  0.27545909849749584\nNumber of hits:  150\nTotal Num of users:  536\nRecommendation HitRate:  0.2798507462686567\nNumber of hits:  75\nTotal Num of users:  425\nRecommendation HitRate:  0.17647058823529413\nAverage HitRate for All Recommendations:  0.2623442742669784\n"
          ]
        },
        {
          "output_type": "execute_result",
          "data": {
            "text/plain": [
              "([0.2489451476793249,\n",
              "  0.279445727482679,\n",
              "  0.28817204301075267,\n",
              "  0.2615062761506276,\n",
              "  0.2594142259414226,\n",
              "  0.23228346456692914,\n",
              "  0.32189542483660133,\n",
              "  0.27545909849749584,\n",
              "  0.2798507462686567,\n",
              "  0.17647058823529413],\n",
              " 0.23468882927113285,\n",
              " 0.2623442742669784,\n",
              " 0.28999971926282386)"
            ]
          },
          "metadata": {},
          "execution_count": 30
        }
      ],
      "source": [
        "#getAll_VAEHitRate(HOLDOUT_list,All_TOPN_PRED,user_column,item_column)\n",
        "getAll_VAEHitRate(newHoldout_list,ALLstep_PredList,'Updated_UserID', 'Updated_ItemID')"
      ]
    },
    {
      "cell_type": "code",
      "execution_count": null,
      "metadata": {},
      "outputs": [],
      "source": []
    },
    {
      "cell_type": "code",
      "execution_count": 127,
      "metadata": {},
      "outputs": [
        {
          "output_type": "stream",
          "name": "stderr",
          "text": [
            "100%|██████████| 100/100 [02:51<00:00,  1.72s/it]\n",
            "100%|██████████| 100/100 [02:51<00:00,  1.72s/it]\n",
            "100%|██████████| 100/100 [02:53<00:00,  1.74s/it]\n",
            "100%|██████████| 100/100 [02:53<00:00,  1.73s/it]\n",
            "100%|██████████| 100/100 [02:51<00:00,  1.72s/it]\n",
            "100%|██████████| 100/100 [02:48<00:00,  1.68s/it]\n",
            "100%|██████████| 100/100 [02:49<00:00,  1.70s/it]\n",
            "100%|██████████| 100/100 [02:50<00:00,  1.70s/it]\n",
            "100%|██████████| 100/100 [02:50<00:00,  1.71s/it]\n",
            "100%|██████████| 100/100 [02:49<00:00,  1.69s/it]\n"
          ]
        }
      ],
      "source": [
        "anneal_epochs = None  \n",
        "anneal_cap = 0.2\n",
        "constant_anneal = False\n",
        "update_count = 0\n",
        "anneal_n = 50\n",
        "bst_epochs = 100\n",
        "best_BS = 200\n",
        "best_lr_= 1e-5   #0.001\n",
        "best_weightdecay_ =  0.1 #0.2\n",
        "ALLstep_PredList =  getVAE_AllPred(VAEmodel_untrain,UserItem_MATList,best_BS,best_lr_,best_weightdecay_,k=10)"
      ]
    },
    {
      "cell_type": "code",
      "execution_count": 133,
      "metadata": {},
      "outputs": [
        {
          "output_type": "stream",
          "name": "stdout",
          "text": [
            "10\n"
          ]
        },
        {
          "output_type": "execute_result",
          "data": {
            "text/plain": [
              "[array([[815, 239, 106, ...,  25, 319, 107],\n",
              "        [ 67,  74, 239, ..., 319, 107, 106],\n",
              "        [ 74,  67, 815, ..., 251, 107, 106],\n",
              "        ...,\n",
              "        [ 74,  67, 239, ..., 106, 251, 319],\n",
              "        [ 74,  67, 815, ..., 251, 106, 168],\n",
              "        [ 74,  67, 815, ..., 251, 106, 319]]),\n",
              " array([[ 239,  815,   24, ...,  168,  107,  106],\n",
              "        [5693, 4894, 1196, ..., 2371, 5175,  793],\n",
              "        [  67,   74,  842, ...,  110,  230,  107],\n",
              "        ...,\n",
              "        [  74,   67,  106, ...,  555,  168,  176],\n",
              "        [  74,   67,  107, ...,  842,  376,  176],\n",
              "        [  74,   67,  107, ...,  692,  555,  110]])]"
            ]
          },
          "metadata": {},
          "execution_count": 133
        }
      ],
      "source": [
        "print(len(ALLstep_PredList))\n",
        "ALLstep_PredList[:2]"
      ]
    },
    {
      "cell_type": "code",
      "execution_count": 135,
      "metadata": {},
      "outputs": [
        {
          "output_type": "execute_result",
          "data": {
            "text/plain": [
              "(22557, 10)"
            ]
          },
          "metadata": {},
          "execution_count": 135
        }
      ],
      "source": [
        "ALLstep_PredList[0].shape"
      ]
    },
    {
      "cell_type": "code",
      "execution_count": 136,
      "metadata": {},
      "outputs": [],
      "source": [
        "with open('AMZB_VAEPredList.pkl', 'wb') as f:\n",
        "     pickle.dump(ALLstep_PredList, f)"
      ]
    },
    {
      "cell_type": "code",
      "execution_count": 113,
      "metadata": {},
      "outputs": [
        {
          "output_type": "execute_result",
          "data": {
            "text/plain": [
              "Index(['userId', 'productId', 'Updated_UserID', 'Updated_ItemID'], dtype='object')"
            ]
          },
          "metadata": {},
          "execution_count": 113
        }
      ],
      "source": [
        "newHoldout_List[0].columns # newHoldout_List[0]  newPSITest_List"
      ]
    },
    {
      "cell_type": "code",
      "execution_count": 129,
      "metadata": {},
      "outputs": [
        {
          "output_type": "stream",
          "name": "stdout",
          "text": [
            "Number of hits:  75\nTotal Num of users:  474\nRecommendation HitRate:  0.15822784810126583\n"
          ]
        },
        {
          "output_type": "execute_result",
          "data": {
            "text/plain": [
              "0.15822784810126583"
            ]
          },
          "metadata": {},
          "execution_count": 129
        }
      ],
      "source": [
        "VAEHitrate_Eval_2(ALLstep_PredList[0],newHoldout_List[0],'Updated_UserID', 'Updated_ItemID')"
      ]
    },
    {
      "cell_type": "code",
      "execution_count": 130,
      "metadata": {},
      "outputs": [
        {
          "output_type": "stream",
          "name": "stdout",
          "text": [
            "Number of hits:  75\nTotal Num of users:  474\nRecommendation HitRate:  0.15822784810126583\nNumber of hits:  97\nTotal Num of users:  433\nRecommendation HitRate:  0.22401847575057737\nNumber of hits:  112\nTotal Num of users:  465\nRecommendation HitRate:  0.24086021505376345\nNumber of hits:  112\nTotal Num of users:  478\nRecommendation HitRate:  0.23430962343096234\nNumber of hits:  90\nTotal Num of users:  478\nRecommendation HitRate:  0.18828451882845187\nNumber of hits:  100\nTotal Num of users:  508\nRecommendation HitRate:  0.1968503937007874\nNumber of hits:  188\nTotal Num of users:  612\nRecommendation HitRate:  0.30718954248366015\nNumber of hits:  133\nTotal Num of users:  599\nRecommendation HitRate:  0.22203672787979967\nNumber of hits:  131\nTotal Num of users:  536\nRecommendation HitRate:  0.24440298507462688\nNumber of hits:  75\nTotal Num of users:  425\nRecommendation HitRate:  0.17647058823529413\nAverage HitRate for All Recommendations:  0.21926509185391888\n"
          ]
        },
        {
          "output_type": "execute_result",
          "data": {
            "text/plain": [
              "([0.15822784810126583,\n",
              "  0.22401847575057737,\n",
              "  0.24086021505376345,\n",
              "  0.23430962343096234,\n",
              "  0.18828451882845187,\n",
              "  0.1968503937007874,\n",
              "  0.30718954248366015,\n",
              "  0.22203672787979967,\n",
              "  0.24440298507462688,\n",
              "  0.17647058823529413],\n",
              " 0.1890044557646113,\n",
              " 0.21926509185391888,\n",
              " 0.24952572794322644)"
            ]
          },
          "metadata": {},
          "execution_count": 130
        }
      ],
      "source": [
        "#getAll_VAEHitRate(HOLDOUT_list,All_TOPN_PRED,user_column,item_column)\n",
        "getAll_VAEHitRate(newHoldout_List,ALLstep_PredList,'Updated_UserID', 'Updated_ItemID')"
      ]
    },
    {
      "cell_type": "code",
      "execution_count": null,
      "metadata": {},
      "outputs": [],
      "source": [
        "##Stability Check"
      ]
    },
    {
      "cell_type": "code",
      "execution_count": 116,
      "metadata": {},
      "outputs": [
        {
          "output_type": "stream",
          "name": "stdout",
          "text": [
            "9\n"
          ]
        },
        {
          "output_type": "execute_result",
          "data": {
            "text/plain": [
              "[1, 2, 3, 4, 5, 6, 7, 8, 9]"
            ]
          },
          "metadata": {},
          "execution_count": 116
        }
      ],
      "source": [
        "AllSteps = list(range(1,10))\n",
        "print(len(AllSteps))\n",
        "AllSteps  "
      ]
    },
    {
      "cell_type": "code",
      "execution_count": 117,
      "metadata": {},
      "outputs": [
        {
          "output_type": "execute_result",
          "data": {
            "text/plain": [
              "Index(['userId', 'productId', 'Updated_UserID', 'Updated_ItemID'], dtype='object')"
            ]
          },
          "metadata": {},
          "execution_count": 117
        }
      ],
      "source": [
        "newUserItem_list[0].columns"
      ]
    },
    {
      "cell_type": "code",
      "execution_count": 131,
      "metadata": {},
      "outputs": [
        {
          "output_type": "execute_result",
          "data": {
            "text/plain": [
              "array([array([0.43613192, 0.        , 0.23119266, ..., 0.39067358, 0.23006416,\n",
              "              0.29151356])                                                    ,\n",
              "       array([0.08904463, 0.        , 0.31685995, ..., 0.80951214, 0.08904463,\n",
              "              0.35580456])                                                    ,\n",
              "       array([0.21417996, 0.14336612, 0.22475732, ..., 0.53164557, 0.54446537,\n",
              "              0.04199901])                                                    ,\n",
              "       array([0.26063194, 0.04791652, 0.21838891, ..., 0.25762481, 0.10942432,\n",
              "              0.34285454])                                                    ,\n",
              "       array([0.1387796 , 0.67979062, 0.        , ..., 0.        , 0.55422194,\n",
              "              0.08880366])                                                    ,\n",
              "       array([0.10942432, 0.35282258, 0.20584872, ..., 0.13049472, 0.50050823,\n",
              "              0.40885665])                                                    ,\n",
              "       array([0.0373858 , 0.13205521, 0.3441996 , ..., 0.27621682, 0.3441996 ,\n",
              "              0.06354467])                                                    ,\n",
              "       array([0.01933435, 0.32895211, 0.11059284, ..., 0.06677266, 0.12147687,\n",
              "              0.27665831])                                                    ,\n",
              "       array([0.        , 0.51513907, 0.09412985, ..., 0.13266324, 0.05578601,\n",
              "              0.09754647])                                                    ],\n",
              "      dtype=object)"
            ]
          },
          "metadata": {},
          "execution_count": 131
        }
      ],
      "source": [
        "VAECorr_ = Updt_getAll_AvgCorr(ALLstep_PredList,newUserItem_list,AllSteps,'Updated_UserID')  #,\n",
        "VAECorr_"
      ]
    },
    {
      "cell_type": "code",
      "execution_count": 132,
      "metadata": {},
      "outputs": [
        {
          "output_type": "stream",
          "name": "stdout",
          "text": [
            "(9,)\n0.2732244976067557\n0.364809484048606\n0.33884563755352487\n0.3118625682736383\n0.2925029262404798\n0.2688312832586939\n0.251730046057414\n0.23868934360270716\n0.2214833157147462\n"
          ]
        }
      ],
      "source": [
        "print(VAECorr_.shape)\n",
        "for df in VAECorr_:\n",
        "    print(df.mean())  "
      ]
    },
    {
      "cell_type": "code",
      "execution_count": 120,
      "metadata": {},
      "outputs": [
        {
          "output_type": "stream",
          "name": "stdout",
          "text": [
            "(9,)\n0.1009992299217226\n0.10050620492272815\n0.09183341316787527\n0.09607377957357206\n0.09577004897123254\n0.09702394440740514\n0.10205956832057403\n0.10124312608351634\n0.09779555758368301\n"
          ]
        }
      ],
      "source": [
        "print(VAECorr_.shape)   ##batch_size = 200 ,learning_rate = 0.001, weight_decay = 0.2 ,n_epochs_ = 50\n",
        "for df in VAECorr_:\n",
        "    print(df.mean())  "
      ]
    },
    {
      "cell_type": "code",
      "execution_count": 150,
      "metadata": {},
      "outputs": [],
      "source": [
        "def getAll_VAEMRR(HOLDOUT_list,All_VAEPred,user_column,item_column):\n",
        "    AllSteps_MRR = []\n",
        "    for Holdout, VAE_pred in tqdm(zip(HOLDOUT_list,All_VAEPred)):  \n",
        "        TestUsers = Holdout[user_column]\n",
        "        HOLDOUT_VAEPred = VAE_pred[TestUsers,:]    \n",
        "        MRR_ = MRR_Eval(Holdout,HOLDOUT_VAEPred,item_column)\n",
        "        AllSteps_MRR.append(round(MRR_,6))\n",
        "\n",
        "    LowerBand, Avg_MRR, UpperBand  = mean_confidence_interval(AllSteps_MRR, confidence=0.95)\n",
        "    return AllSteps_MRR, LowerBand, Avg_MRR, UpperBand "
      ]
    },
    {
      "cell_type": "code",
      "execution_count": 152,
      "metadata": {},
      "outputs": [
        {
          "output_type": "stream",
          "name": "stdout",
          "text": [
            "1st Step MRR:  0.08823839662447257\n"
          ]
        }
      ],
      "source": [
        "#MRR: \n",
        "TestUsers_1 = newHoldout_List[0]['Updated_UserID']\n",
        "HOLDOUT_1stPred = ALLstep_PredList[0][TestUsers_1,:]    \n",
        "\n",
        "\n",
        "mrr_vae_1st = MRR_Eval(newHoldout_List[0],HOLDOUT_1stPred,'Updated_ItemID')\n",
        "print(\"1st Step MRR: \",mrr_vae_1st)"
      ]
    },
    {
      "cell_type": "code",
      "execution_count": 153,
      "metadata": {},
      "outputs": [
        {
          "output_type": "stream",
          "name": "stderr",
          "text": [
            "10it [00:00, 266.58it/s]\n"
          ]
        }
      ],
      "source": [
        "VAE_AllStepsMRR, VAE_LBand, VAE_AvgMRR, VAE_UBand  = getAll_VAEMRR(newHoldout_List,ALLstep_PredList,'Updated_UserID','Updated_ItemID')"
      ]
    },
    {
      "cell_type": "code",
      "execution_count": 154,
      "metadata": {},
      "outputs": [
        {
          "output_type": "execute_result",
          "data": {
            "text/plain": [
              "[0.088238,\n",
              " 0.137602,\n",
              " 0.159774,\n",
              " 0.164642,\n",
              " 0.121717,\n",
              " 0.127636,\n",
              " 0.113283,\n",
              " 0.131317,\n",
              " 0.166217,\n",
              " 0.106366]"
            ]
          },
          "metadata": {},
          "execution_count": 154
        }
      ],
      "source": [
        "VAE_AllStepsMRR"
      ]
    },
    {
      "cell_type": "code",
      "execution_count": 149,
      "metadata": {},
      "outputs": [
        {
          "output_type": "execute_result",
          "data": {
            "text/plain": [
              "[0.466889,\n",
              " 0.289062,\n",
              " 0.018251,\n",
              " 0.011592,\n",
              " 0.013812,\n",
              " 0.015292,\n",
              " 0.023061,\n",
              " 0.025897,\n",
              " 0.03009,\n",
              " 0.034776]"
            ]
          },
          "metadata": {},
          "execution_count": 149
        }
      ],
      "source": [
        "##Coverage:\n",
        "VAE_AvgCoverageList = AllSteps_Coverage_Ratio(newAMZB_DF,ALLstep_PredList,'Updated_ItemID')\n",
        "VAE_AvgCoverageList"
      ]
    },
    {
      "cell_type": "code",
      "execution_count": 155,
      "metadata": {},
      "outputs": [
        {
          "output_type": "execute_result",
          "data": {
            "text/plain": [
              "MultiVAE(\n",
              "  (encode): Encoder(\n",
              "    (q_layers): Sequential(\n",
              "      (dropout_0): Dropout(p=0.5, inplace=False)\n",
              "      (linear_0): Linear(in_features=8109, out_features=900, bias=True)\n",
              "      (dropout_1): Dropout(p=0.0, inplace=False)\n",
              "      (linear_1): Linear(in_features=900, out_features=600, bias=True)\n",
              "    )\n",
              "  )\n",
              "  (decode): Decoder(\n",
              "    (p_layers): Sequential(\n",
              "      (dropout_0): Dropout(p=0.0, inplace=False)\n",
              "      (linear_0): Linear(in_features=300, out_features=900, bias=True)\n",
              "      (dropout_1): Dropout(p=0.0, inplace=False)\n",
              "      (linear_1): Linear(in_features=900, out_features=8109, bias=True)\n",
              "    )\n",
              "  )\n",
              ")"
            ]
          },
          "metadata": {},
          "execution_count": 155
        }
      ],
      "source": [
        " I =  newAMZB_DF['Updated_ItemID'].nunique()  #I is the total number of items in the train date\n",
        "q_dims = [I] + [900, 300]\n",
        "p_dims = [300, 900] + [I]\n",
        "dropout_enc = [0.5, 0.]\n",
        "dropout_dec = [0., 0.]\n",
        "\n",
        "                    #p_dims,q_dims,dropout_enc,dropout_dec\n",
        "VAEmodelUntrain_2 = MultiVAE(p_dims,q_dims,dropout_enc,dropout_dec)\n",
        "init_weights(VAEmodelUntrain_2)\n",
        "VAEmodelUntrain_2.to(device)"
      ]
    },
    {
      "cell_type": "code",
      "execution_count": 156,
      "metadata": {},
      "outputs": [
        {
          "output_type": "stream",
          "name": "stderr",
          "text": [
            "100%|██████████| 100/100 [03:13<00:00,  1.94s/it]\n",
            "100%|██████████| 100/100 [03:14<00:00,  1.94s/it]\n",
            "100%|██████████| 100/100 [03:14<00:00,  1.94s/it]\n",
            "100%|██████████| 100/100 [03:14<00:00,  1.94s/it]\n",
            "100%|██████████| 100/100 [03:13<00:00,  1.94s/it]\n",
            "100%|██████████| 100/100 [03:12<00:00,  1.93s/it]\n",
            "100%|██████████| 100/100 [03:13<00:00,  1.93s/it]\n",
            "100%|██████████| 100/100 [03:14<00:00,  1.94s/it]\n",
            "100%|██████████| 100/100 [03:14<00:00,  1.95s/it]\n",
            "100%|██████████| 100/100 [03:16<00:00,  1.96s/it]\n"
          ]
        }
      ],
      "source": [
        "anneal_epochs = None  \n",
        "anneal_cap = 0.2\n",
        "constant_anneal = False\n",
        "update_count = 0\n",
        "anneal_n = 50\n",
        "bst_epochs = 100\n",
        "best_BS = 200\n",
        "best_lr_= 0.001\n",
        "best_weightdecay_ = 0.2\n",
        "ALLstepPredList_2 =  getVAE_AllPred(VAEmodelUntrain_2,UserItem_MATList,best_BS,best_lr_,best_weightdecay_,k=10)"
      ]
    },
    {
      "cell_type": "code",
      "execution_count": 157,
      "metadata": {},
      "outputs": [
        {
          "output_type": "stream",
          "name": "stdout",
          "text": [
            "10\n"
          ]
        },
        {
          "output_type": "execute_result",
          "data": {
            "text/plain": [
              "[array([[1751,  413,   71, ..., 2794,  110,   74],\n",
              "        [  74,   67, 2849, ...,  995,  676, 2635],\n",
              "        [ 176,  465,  352, ..., 1537, 2625,  995],\n",
              "        ...,\n",
              "        [  67,   74,   25, ...,  107,  439,  362],\n",
              "        [ 851,   74,   67, ...,  230,  374,  902],\n",
              "        [  67,   74,  439, ...,  107,  495, 1654]]),\n",
              " array([[  26,  134,   71, ...,   51,   80,    1],\n",
              "        [ 315,   43,   60, ..., 1191,  168,  311],\n",
              "        [ 215,   26,  134, ...,   21,    3,   23],\n",
              "        ...,\n",
              "        [  25,   24,  555, ..., 2589,  815,  176],\n",
              "        [  74,   67,  555, ...,  815,  319, 2554],\n",
              "        [  67,   74,  692, ...,  922, 1230,  385]])]"
            ]
          },
          "metadata": {},
          "execution_count": 157
        }
      ],
      "source": [
        "print(len(ALLstepPredList_2))\n",
        "ALLstepPredList_2[:2]\n"
      ]
    },
    {
      "cell_type": "code",
      "execution_count": null,
      "metadata": {},
      "outputs": [],
      "source": [
        "with open('AMZB_VAEPredList.pkl', 'wb') as f:\n",
        "     pickle.dump(ALLstep_PredList, f)\n"
      ]
    },
    {
      "cell_type": "code",
      "execution_count": 158,
      "metadata": {},
      "outputs": [
        {
          "output_type": "stream",
          "name": "stdout",
          "text": [
            "Number of hits:  102\nTotal Num of users:  474\nRecommendation HitRate:  0.21518987341772153\n"
          ]
        },
        {
          "output_type": "execute_result",
          "data": {
            "text/plain": [
              "0.21518987341772153"
            ]
          },
          "metadata": {},
          "execution_count": 158
        }
      ],
      "source": [
        "VAEHitrate_Eval_2(ALLstepPredList_2[0],newHoldout_List[0],'Updated_UserID', 'Updated_ItemID')  \n"
      ]
    },
    {
      "cell_type": "code",
      "execution_count": 159,
      "metadata": {},
      "outputs": [
        {
          "output_type": "stream",
          "name": "stdout",
          "text": [
            "Number of hits:  102\nTotal Num of users:  474\nRecommendation HitRate:  0.21518987341772153\nNumber of hits:  130\nTotal Num of users:  433\nRecommendation HitRate:  0.3002309468822171\nNumber of hits:  123\nTotal Num of users:  465\nRecommendation HitRate:  0.2645161290322581\nNumber of hits:  122\nTotal Num of users:  478\nRecommendation HitRate:  0.25523012552301255\nNumber of hits:  119\nTotal Num of users:  478\nRecommendation HitRate:  0.2489539748953975\nNumber of hits:  115\nTotal Num of users:  508\nRecommendation HitRate:  0.2263779527559055\nNumber of hits:  167\nTotal Num of users:  612\nRecommendation HitRate:  0.272875816993464\nNumber of hits:  145\nTotal Num of users:  599\nRecommendation HitRate:  0.24207011686143573\nNumber of hits:  136\nTotal Num of users:  536\nRecommendation HitRate:  0.2537313432835821\nNumber of hits:  65\nTotal Num of users:  425\nRecommendation HitRate:  0.15294117647058825\nAverage HitRate for All Recommendations:  0.2432117456115582\n"
          ]
        },
        {
          "output_type": "execute_result",
          "data": {
            "text/plain": [
              "([0.21518987341772153,\n",
              "  0.3002309468822171,\n",
              "  0.2645161290322581,\n",
              "  0.25523012552301255,\n",
              "  0.2489539748953975,\n",
              "  0.2263779527559055,\n",
              "  0.272875816993464,\n",
              "  0.24207011686143573,\n",
              "  0.2537313432835821,\n",
              "  0.15294117647058825],\n",
              " 0.21490535751900378,\n",
              " 0.2432117456115582,\n",
              " 0.2715181337041126)"
            ]
          },
          "metadata": {},
          "execution_count": 159
        }
      ],
      "source": [
        "getAll_VAEHitRate(newHoldout_List,ALLstepPredList_2,'Updated_UserID', 'Updated_ItemID')\n"
      ]
    },
    {
      "cell_type": "code",
      "execution_count": 160,
      "metadata": {},
      "outputs": [
        {
          "output_type": "execute_result",
          "data": {
            "text/plain": [
              "array([array([0.08848252, 0.18152713, 0.        , ..., 0.40885665, 0.26020147,\n",
              "              0.04199901])                                                    ,\n",
              "       array([0.12122133, 0.12721442, 0.06033616, ..., 0.11260175, 0.04791652,\n",
              "              0.02180383])                                                    ,\n",
              "       array([0.04977955, 0.03943107, 0.01736733, ..., 0.08321104, 0.11943581,\n",
              "              0.37576887])                                                    ,\n",
              "       array([0.13842832, 0.        , 0.04199901, ..., 0.        , 0.        ,\n",
              "              0.        ])                                                    ,\n",
              "       array([0.06033616, 0.        , 0.01933435, ..., 0.0373858 , 0.10444411,\n",
              "              0.        ])                                                    ,\n",
              "       array([0.01736733, 0.        , 0.        , ..., 0.04199901, 0.        ,\n",
              "              0.38389425])                                                    ,\n",
              "       array([0.        , 0.01933435, 0.        , ..., 0.        , 0.26441113,\n",
              "              0.15058457])                                                    ,\n",
              "       array([0.04325088, 0.        , 0.16806457, ..., 0.11059284, 0.12386753,\n",
              "              0.        ])                                                    ,\n",
              "       array([0.03534858, 0.17363651, 0.        , ..., 0.06033616, 0.        ,\n",
              "              0.        ])                                                    ],\n",
              "      dtype=object)"
            ]
          },
          "metadata": {},
          "execution_count": 160
        }
      ],
      "source": [
        "VAECorr_2 = Updt_getAll_AvgCorr(ALLstepPredList_2,newUserItem_list,AllSteps,'Updated_UserID')  #,\n",
        "VAECorr_2\n"
      ]
    },
    {
      "cell_type": "code",
      "execution_count": 161,
      "metadata": {},
      "outputs": [
        {
          "output_type": "stream",
          "name": "stdout",
          "text": [
            "(9,)\n0.09411100947551994\n0.08914271951682617\n0.08660019869625575\n0.08223810268523456\n0.07995471799268919\n0.08031861968498406\n0.08146164956749707\n0.08122119580086044\n0.08082184449528516\n"
          ]
        }
      ],
      "source": [
        "print(VAECorr_2.shape)\n",
        "for df in VAECorr_2:\n",
        "    print(df.mean())  "
      ]
    },
    {
      "cell_type": "code",
      "execution_count": 162,
      "metadata": {},
      "outputs": [
        {
          "output_type": "stream",
          "name": "stderr",
          "text": [
            "10it [00:00, 591.76it/s]\n"
          ]
        },
        {
          "output_type": "execute_result",
          "data": {
            "text/plain": [
              "[0.174036,\n",
              " 0.242565,\n",
              " 0.219429,\n",
              " 0.204098,\n",
              " 0.204659,\n",
              " 0.183474,\n",
              " 0.153743,\n",
              " 0.180273,\n",
              " 0.206044,\n",
              " 0.108371]"
            ]
          },
          "metadata": {},
          "execution_count": 162
        }
      ],
      "source": [
        "VAE_AllStepsMRR_2, VAE_LBand_2, VAE_AvgMRR_2, VAE_UBand_2  = getAll_VAEMRR(newHoldout_List,ALLstepPredList_2,'Updated_UserID','Updated_ItemID')\n",
        "VAE_AllStepsMRR_2"
      ]
    },
    {
      "cell_type": "code",
      "execution_count": 163,
      "metadata": {},
      "outputs": [
        {
          "output_type": "execute_result",
          "data": {
            "text/plain": [
              "0.18766919999999998"
            ]
          },
          "metadata": {},
          "execution_count": 163
        }
      ],
      "source": [
        "VAE_AvgMRR_2"
      ]
    },
    {
      "cell_type": "code",
      "execution_count": 164,
      "metadata": {},
      "outputs": [
        {
          "output_type": "execute_result",
          "data": {
            "text/plain": [
              "[0.686275,\n",
              " 0.709952,\n",
              " 0.729313,\n",
              " 0.762116,\n",
              " 0.790973,\n",
              " 0.804292,\n",
              " 0.835491,\n",
              " 0.851276,\n",
              " 0.873721,\n",
              " 0.894808]"
            ]
          },
          "metadata": {},
          "execution_count": 164
        }
      ],
      "source": [
        "##Coverage:\n",
        "VAEAvgCoverageList_2 = AllSteps_Coverage_Ratio(newAMZB_DF,ALLstepPredList_2,'Updated_ItemID')\n",
        "VAEAvgCoverageList_2"
      ]
    },
    {
      "cell_type": "code",
      "execution_count": 165,
      "metadata": {},
      "outputs": [
        {
          "output_type": "error",
          "ename": "EOFError",
          "evalue": "Ran out of input",
          "traceback": [
            "\u001b[0;31m---------------------------------------------------------------------------\u001b[0m",
            "\u001b[0;31mEOFError\u001b[0m                                  Traceback (most recent call last)",
            "\u001b[0;32m<ipython-input-165-e1283e7df957>\u001b[0m in \u001b[0;36m<module>\u001b[0;34m\u001b[0m\n\u001b[1;32m      1\u001b[0m \u001b[0;32mwith\u001b[0m \u001b[0mopen\u001b[0m\u001b[0;34m(\u001b[0m\u001b[0;34m'/mnt/bulky/oolaleke/TDM_Dataset/AMZGames_newPSITest.pkl'\u001b[0m\u001b[0;34m,\u001b[0m \u001b[0;34m'rb'\u001b[0m\u001b[0;34m)\u001b[0m \u001b[0;32mas\u001b[0m \u001b[0mf\u001b[0m\u001b[0;34m:\u001b[0m\u001b[0;34m\u001b[0m\u001b[0;34m\u001b[0m\u001b[0m\n\u001b[0;32m----> 2\u001b[0;31m      \u001b[0mnew_df\u001b[0m \u001b[0;34m=\u001b[0m \u001b[0mpickle\u001b[0m\u001b[0;34m.\u001b[0m\u001b[0mload\u001b[0m\u001b[0;34m(\u001b[0m\u001b[0mf\u001b[0m\u001b[0;34m)\u001b[0m\u001b[0;34m\u001b[0m\u001b[0;34m\u001b[0m\u001b[0m\n\u001b[0m",
            "\u001b[0;31mEOFError\u001b[0m: Ran out of input"
          ]
        }
      ],
      "source": [
        "with open('/mnt/bulky/oolaleke/TDM_Dataset/AMZGames_newPSITest.pkl', 'rb') as f:\n",
        "     new_df = pickle.load(f)"
      ]
    },
    {
      "cell_type": "code",
      "execution_count": null,
      "metadata": {},
      "outputs": [],
      "source": []
    }
  ],
  "metadata": {
    "colab": {
      "collapsed_sections": [
        "15dFS1TUYbdh"
      ],
      "name": "IncreUpdt_AMZBeauty.ipynb",
      "provenance": [],
      "toc_visible": true
    },
    "kernelspec": {
      "name": "python392jvsc74a57bd01d40221c0336dfe0c468749ccfbce19a4d0ada951efb74219fd3ebf7d78ddc70",
      "display_name": "Python 3.9.2 64-bit ('PSI_project': conda)"
    },
    "language_info": {
      "codemirror_mode": {
        "name": "ipython",
        "version": 3
      },
      "file_extension": ".py",
      "mimetype": "text/x-python",
      "name": "python",
      "nbconvert_exporter": "python",
      "pygments_lexer": "ipython3",
      "version": "3.9.2"
    },
    "metadata": {
      "interpreter": {
        "hash": "1d40221c0336dfe0c468749ccfbce19a4d0ada951efb74219fd3ebf7d78ddc70"
      }
    }
  },
  "nbformat": 4,
  "nbformat_minor": 0
}