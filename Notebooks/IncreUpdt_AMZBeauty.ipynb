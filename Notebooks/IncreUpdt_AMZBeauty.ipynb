{
  "nbformat": 4,
  "nbformat_minor": 0,
  "metadata": {
    "colab": {
      "name": "IncreUpdt_AMZBeauty.ipynb.ipynb",
      "provenance": [],
      "collapsed_sections": [
        "15dFS1TUYbdh"
      ],
      "toc_visible": true
    },
    "kernelspec": {
      "name": "python3",
      "display_name": "Python 3"
    }
  },
  "cells": [
    {
      "cell_type": "code",
      "metadata": {
        "id": "bnB7cJYMVY4Y"
      },
      "source": [
        ""
      ],
      "execution_count": null,
      "outputs": []
    },
    {
      "cell_type": "markdown",
      "metadata": {
        "id": "waGNRsQkGt3t"
      },
      "source": [
        "## Imports"
      ]
    },
    {
      "cell_type": "code",
      "metadata": {
        "id": "LSMrVzzrFcnl"
      },
      "source": [
        "import io\n",
        "import os\n",
        "import gzip\n",
        "import json\n",
        "import scipy\n",
        "import random\n",
        "import warnings\n",
        "import numpy as np\n",
        "import numba as nb\n",
        "import pandas as pd\n",
        "import datetime as dt\n",
        "import seaborn as sns\n",
        "from tqdm import tqdm\n",
        "import scipy.stats as st\n",
        "from collections import OrderedDict\n",
        "import scipy.sparse as sparse\n",
        "from scipy.linalg import orth\n",
        "import matplotlib.pyplot as plt\n",
        "from numpy import linalg as lin\n",
        "warnings.filterwarnings('ignore')\n",
        "from scipy.sparse import coo_matrix\n",
        "from scipy.sparse.linalg import svds\n",
        "from datetime import datetime as dt_dt\n",
        "from scipy.sparse.linalg import spsolve\n",
        "from numpy.linalg import qr as QR_decomp\n",
        "from scipy.sparse import csr_matrix, find\n",
        "from pandas.api.types import CategoricalDtype"
      ],
      "execution_count": 1,
      "outputs": []
    },
    {
      "cell_type": "markdown",
      "metadata": {
        "id": "IkLZJhQWqaPp"
      },
      "source": [
        "## Functions"
      ]
    },
    {
      "cell_type": "code",
      "metadata": {
        "id": "Uvv8Q8zR7OAn"
      },
      "source": [
        "import sys\n",
        "sys.path.append('/content/')"
      ],
      "execution_count": 2,
      "outputs": []
    },
    {
      "cell_type": "code",
      "metadata": {
        "id": "qoOQOsCf7849"
      },
      "source": [
        "import a_DataHelpers\n",
        "import b_AlgoFunctions\n",
        "import c_PredEval\n",
        "import d_CorrScores"
      ],
      "execution_count": 3,
      "outputs": []
    },
    {
      "cell_type": "code",
      "metadata": {
        "id": "q3U41fqMd0bb"
      },
      "source": [
        "# import sys\n",
        "# sys.path.append('/content/drive/MyDrive/ColabNotebooks/Research/Functions/')"
      ],
      "execution_count": 5,
      "outputs": []
    },
    {
      "cell_type": "code",
      "metadata": {
        "id": "slSdgbc1XxNT"
      },
      "source": [
        "from a_DataHelpers import getPivotMonths,Time_DataSplit,TestTrain_DataSplit,SingleRatingMatrix\n",
        "from a_DataHelpers import AllRatingMatrices,All_SingleStepRatMat,psiStep_RatMat,psiAllStep_RatMat\n",
        "from a_DataHelpers import Find_NewUsersItems,adjustedPSI_DF,adjustedAllDF,get_NEWHoldout,ADJUST_mainDF\n",
        "\n",
        "from b_AlgoFunctions import integrator,getStartingValues,integratorOnMat,last_psiTrainMat\n",
        "from b_AlgoFunctions import Updt_RowMatrix,getRow_Mat,row_update, Updt_ColMatrix,getCol_Mat,colunm_update\n",
        "from b_AlgoFunctions import UsersItems_RatPair,getRowCol_psiupdt,ITEMS_defferredStatus,USERS_defferredStatus\n",
        "from b_AlgoFunctions import getV_listUpdate, SingleStep_UPDATE,ALLSTEPs_UPDATE\n",
        "\n",
        "from c_PredEval import TopNPred,TQDMgetALLTopNPred, Hitrate_Eval,getAll_HitRate\n",
        "from c_PredEval import TQDMgetALLTopNPred_ALLUSERS,getALLTopNPred_ALLUSERS\n",
        "from c_PredEval import get_ALLRandPred,getAll_RandomHitRate,getMOSTPOP_Pred,getAll_MostPOPHitRate,getAll_MOSTPOP_Pred\n",
        "from c_PredEval import topN_Index,get_ALLRandPred_2,getAll_RandomHitRate_2,getAll_MostPOPHitRate2\n",
        "\n",
        "from d_CorrScores import no_copy_csr_matrix,build_rank_weights_matrix,rank_weighted_jaccard_index\n",
        "from d_CorrScores import Updt_getAll_AvgCorr, updtCorr_4AllRanks"
      ],
      "execution_count": 4,
      "outputs": []
    },
    {
      "cell_type": "code",
      "metadata": {
        "id": "g0oNy5S9Cdjf"
      },
      "source": [
        ""
      ],
      "execution_count": null,
      "outputs": []
    },
    {
      "cell_type": "code",
      "metadata": {
        "id": "iOA3DYG5wCMv"
      },
      "source": [
        ""
      ],
      "execution_count": null,
      "outputs": []
    },
    {
      "cell_type": "markdown",
      "metadata": {
        "id": "e556n8BpXy0b"
      },
      "source": [
        "## Apply Functions on *AmazonBeauty*"
      ]
    },
    {
      "cell_type": "markdown",
      "metadata": {
        "id": "15dFS1TUYbdh"
      },
      "source": [
        "###Step 1: Data Cleaning"
      ]
    },
    {
      "cell_type": "code",
      "metadata": {
        "id": "VUZRaA685ziq"
      },
      "source": [
        "BeautyDFF = BeautyDFF.drop_duplicates()\n",
        "BeautyDFF.shape"
      ],
      "execution_count": null,
      "outputs": []
    },
    {
      "cell_type": "code",
      "metadata": {
        "id": "78dMIU2k6mo1"
      },
      "source": [
        "sample_df = BeautyDFF.groupby(['userId_int']).agg({'productId_int':'count'}) \n",
        "sample_df = sample_df.rename(columns = {'productId_int':'Product_Count'}).reset_index() \n",
        "sample_ = sample_df[sample_df['Product_Count'] > 1]         #get list of users that have rated more than 5 products\n",
        "print(sample_.shape[0])\n",
        "onetime_userslist =  sample_['userId_int'].to_list()\n",
        "#print(len(onetime_userslist))\n",
        "#onetime_userslist[:10]"
      ],
      "execution_count": null,
      "outputs": []
    },
    {
      "cell_type": "code",
      "metadata": {
        "id": "Yb88IIGVv-Jo"
      },
      "source": [
        "# df_SAMPLE = BeautyDFF.groupby(['productId_int']).agg({'userId_int':'count'}) \n",
        "# df_SAMPLE = df_SAMPLE.rename(columns = {'userId_int':'User_Count'}).reset_index() \n",
        "# DF_Items = df_SAMPLE[df_SAMPLE['User_Count'] > 1]         #get list of users that have rated more than 5 products\n",
        "# print(DF_Items.shape[0])\n",
        "# onetime_itemslist =  DF_Items['productId_int'].to_list()\n",
        "# print(len(onetime_itemslist))\n",
        "# #onetime_itemslist[:10]"
      ],
      "execution_count": null,
      "outputs": []
    },
    {
      "cell_type": "code",
      "metadata": {
        "id": "IddXZ5DZEBt6"
      },
      "source": [
        "DFF_ = BeautyDFF.loc[ BeautyDFF['userId_int'].isin(onetime_userslist) ]#& BeautyDFF['productId_int'].isin(onetime_itemslist)]\n",
        "print(DFF_['productId_int'].nunique())\n",
        "print(DFF_['userId_int'].nunique())"
      ],
      "execution_count": null,
      "outputs": []
    },
    {
      "cell_type": "code",
      "metadata": {
        "id": "59SXuhxHGLQf"
      },
      "source": [
        ""
      ],
      "execution_count": null,
      "outputs": []
    },
    {
      "cell_type": "code",
      "metadata": {
        "id": "7xKUoM2e9HFr"
      },
      "source": [
        "#AMZB_1 = BeautyDFF.loc[BeautyDFF['userId_int'].isin(onetime_userslist) & BeautyDFF['productId_int'].isin(onetime_userslist)]\n",
        "AMZB_1 = DFF_[['productId_int','userId_int','rating','timestamp']]\n",
        "AMZB_1"
      ],
      "execution_count": null,
      "outputs": []
    },
    {
      "cell_type": "code",
      "metadata": {
        "id": "HbvFiTpDalYK"
      },
      "source": [
        "#AMZB_df = AMZB_11.rename(columns={'userId':'userId_int','productId':'productId_int'})\n",
        "#AMZB_1['timestamp'] = pd.to_datetime(AMZB_1['timestamp']) \n",
        "AMZB_df = AMZB_1.copy()\n",
        "print(AMZB_df.dtypes)\n",
        "print()\n",
        "print(\"nUnique users: \",AMZB_df['userId_int'].nunique())\n",
        "print(\"nUnique items: \",AMZB_df['productId_int'].nunique())\n",
        "AMZB_df = AMZB_df.sort_values(['timestamp'])\n",
        "AMZB_df"
      ],
      "execution_count": null,
      "outputs": []
    },
    {
      "cell_type": "code",
      "metadata": {
        "id": "s0_KQuEmYbdj"
      },
      "source": [
        "unique_USER_id = pd.unique(AMZB_df.userId_int)\n",
        "unique_PRODUCT_id = pd.unique(AMZB_df.productId_int)\n",
        "\n",
        "zipped_USER_id_pair = zip(unique_USER_id, range(0, len(unique_USER_id)+1, 1))\n",
        "zipped_PRODUCT_id_pair = zip(unique_PRODUCT_id, range(0, len(unique_PRODUCT_id)+1, 1))\n",
        "\n",
        "USER_id_dict = OrderedDict(zipped_USER_id_pair)\n",
        "PRODUCT_id_dict = OrderedDict(zipped_PRODUCT_id_pair)\n",
        "\n",
        "AMZB_df['userId'] = AMZB_df.userId_int.map(USER_id_dict)\n",
        "AMZB_df['productId'] = AMZB_df.productId_int.map(PRODUCT_id_dict)\n",
        "print(AMZB_df['userId'].max())\n",
        "print(AMZB_df['productId'].max())\n",
        "print()\n",
        "print(AMZB_df['userId'].nunique())\n",
        "print(AMZB_df['productId'].nunique())\n",
        "AMZB_df"
      ],
      "execution_count": null,
      "outputs": []
    },
    {
      "cell_type": "code",
      "metadata": {
        "id": "RdK1FuzFYbdm"
      },
      "source": [
        "AMZB_DF = AMZB_df[['userId','productId','rating','timestamp']]\n",
        "print(AMZB_DF.shape)\n",
        "print(\"For users: \")\n",
        "print(AMZB_DF['userId'].nunique())\n",
        "print(AMZB_DF['userId'].max())\n",
        "print()\n",
        "print(\"For items: \")\n",
        "print(AMZB_DF['productId'].nunique())\n",
        "print(AMZB_DF['productId'].max())\n",
        "print()\n",
        "print(\"Timestamp\")\n",
        "print(AMZB_DF['timestamp'].min())\n",
        "print(AMZB_DF['timestamp'].max())\n",
        "AMZB_DF"
      ],
      "execution_count": null,
      "outputs": []
    },
    {
      "cell_type": "markdown",
      "metadata": {
        "id": "Kq7VUKhmJPxP"
      },
      "source": [
        "###Step 2: Import Clean Data "
      ]
    },
    {
      "cell_type": "code",
      "metadata": {
        "colab": {
          "base_uri": "https://localhost:8080/",
          "height": 513
        },
        "id": "YDwA6s5IaiIe",
        "outputId": "1eb10814-aa0c-48b3-c150-3c97d90e2933"
      },
      "source": [
        "AMZB_DF = pd.read_csv('/content/drive/MyDrive/ColabNotebooks/Research/Test_Data/usedAMZB.csv')\n",
        "AMZB_DF['timestamp'] = pd.to_datetime(AMZB_DF['timestamp']) \n",
        "print(AMZB_DF.shape)   #productId_int\t userId_int\n",
        "print(AMZB_DF.dtypes)\n",
        "AMZB_DF"
      ],
      "execution_count": 5,
      "outputs": [
        {
          "output_type": "stream",
          "text": [
            "(51869, 4)\n",
            "userId                int64\n",
            "productId             int64\n",
            "rating                int64\n",
            "timestamp    datetime64[ns]\n",
            "dtype: object\n"
          ],
          "name": "stdout"
        },
        {
          "output_type": "execute_result",
          "data": {
            "text/html": [
              "<div>\n",
              "<style scoped>\n",
              "    .dataframe tbody tr th:only-of-type {\n",
              "        vertical-align: middle;\n",
              "    }\n",
              "\n",
              "    .dataframe tbody tr th {\n",
              "        vertical-align: top;\n",
              "    }\n",
              "\n",
              "    .dataframe thead th {\n",
              "        text-align: right;\n",
              "    }\n",
              "</style>\n",
              "<table border=\"1\" class=\"dataframe\">\n",
              "  <thead>\n",
              "    <tr style=\"text-align: right;\">\n",
              "      <th></th>\n",
              "      <th>userId</th>\n",
              "      <th>productId</th>\n",
              "      <th>rating</th>\n",
              "      <th>timestamp</th>\n",
              "    </tr>\n",
              "  </thead>\n",
              "  <tbody>\n",
              "    <tr>\n",
              "      <th>0</th>\n",
              "      <td>0</td>\n",
              "      <td>0</td>\n",
              "      <td>1</td>\n",
              "      <td>2001-06-08</td>\n",
              "    </tr>\n",
              "    <tr>\n",
              "      <th>1</th>\n",
              "      <td>1</td>\n",
              "      <td>0</td>\n",
              "      <td>1</td>\n",
              "      <td>2002-06-12</td>\n",
              "    </tr>\n",
              "    <tr>\n",
              "      <th>2</th>\n",
              "      <td>1</td>\n",
              "      <td>1</td>\n",
              "      <td>1</td>\n",
              "      <td>2002-06-12</td>\n",
              "    </tr>\n",
              "    <tr>\n",
              "      <th>3</th>\n",
              "      <td>2</td>\n",
              "      <td>1</td>\n",
              "      <td>1</td>\n",
              "      <td>2002-06-17</td>\n",
              "    </tr>\n",
              "    <tr>\n",
              "      <th>4</th>\n",
              "      <td>3</td>\n",
              "      <td>1</td>\n",
              "      <td>1</td>\n",
              "      <td>2002-07-04</td>\n",
              "    </tr>\n",
              "    <tr>\n",
              "      <th>...</th>\n",
              "      <td>...</td>\n",
              "      <td>...</td>\n",
              "      <td>...</td>\n",
              "      <td>...</td>\n",
              "    </tr>\n",
              "    <tr>\n",
              "      <th>51864</th>\n",
              "      <td>21470</td>\n",
              "      <td>6687</td>\n",
              "      <td>1</td>\n",
              "      <td>2018-09-21</td>\n",
              "    </tr>\n",
              "    <tr>\n",
              "      <th>51865</th>\n",
              "      <td>16839</td>\n",
              "      <td>5635</td>\n",
              "      <td>1</td>\n",
              "      <td>2018-09-21</td>\n",
              "    </tr>\n",
              "    <tr>\n",
              "      <th>51866</th>\n",
              "      <td>15319</td>\n",
              "      <td>8618</td>\n",
              "      <td>1</td>\n",
              "      <td>2018-09-25</td>\n",
              "    </tr>\n",
              "    <tr>\n",
              "      <th>51867</th>\n",
              "      <td>12925</td>\n",
              "      <td>5977</td>\n",
              "      <td>1</td>\n",
              "      <td>2018-09-25</td>\n",
              "    </tr>\n",
              "    <tr>\n",
              "      <th>51868</th>\n",
              "      <td>22789</td>\n",
              "      <td>8619</td>\n",
              "      <td>1</td>\n",
              "      <td>2018-09-26</td>\n",
              "    </tr>\n",
              "  </tbody>\n",
              "</table>\n",
              "<p>51869 rows × 4 columns</p>\n",
              "</div>"
            ],
            "text/plain": [
              "       userId  productId  rating  timestamp\n",
              "0           0          0       1 2001-06-08\n",
              "1           1          0       1 2002-06-12\n",
              "2           1          1       1 2002-06-12\n",
              "3           2          1       1 2002-06-17\n",
              "4           3          1       1 2002-07-04\n",
              "...       ...        ...     ...        ...\n",
              "51864   21470       6687       1 2018-09-21\n",
              "51865   16839       5635       1 2018-09-21\n",
              "51866   15319       8618       1 2018-09-25\n",
              "51867   12925       5977       1 2018-09-25\n",
              "51868   22789       8619       1 2018-09-26\n",
              "\n",
              "[51869 rows x 4 columns]"
            ]
          },
          "metadata": {
            "tags": []
          },
          "execution_count": 5
        }
      ]
    },
    {
      "cell_type": "code",
      "metadata": {
        "colab": {
          "base_uri": "https://localhost:8080/"
        },
        "id": "2XWFDaGwFFCR",
        "outputId": "eb2aa104-dd71-4bcb-9092-e901712e8f9c"
      },
      "source": [
        "print(AMZB_DF.shape)\n",
        "print(\"For users: \")\n",
        "print(AMZB_DF['userId'].nunique())\n",
        "print(AMZB_DF['userId'].max())\n",
        "print()\n",
        "print(\"For items: \")\n",
        "print(AMZB_DF['productId'].nunique())\n",
        "print(AMZB_DF['productId'].max())\n",
        "print()\n",
        "print(\"Timestamp\")\n",
        "print(AMZB_DF['timestamp'].min())\n",
        "print(AMZB_DF['timestamp'].max())"
      ],
      "execution_count": 6,
      "outputs": [
        {
          "output_type": "stream",
          "text": [
            "(51869, 4)\n",
            "For users: \n",
            "22799\n",
            "22798\n",
            "\n",
            "For items: \n",
            "8620\n",
            "8619\n",
            "\n",
            "Timestamp\n",
            "2001-06-08 00:00:00\n",
            "2018-09-26 00:00:00\n"
          ],
          "name": "stdout"
        }
      ]
    },
    {
      "cell_type": "code",
      "metadata": {
        "id": "xlbzMS4hGeF3"
      },
      "source": [
        ""
      ],
      "execution_count": null,
      "outputs": []
    },
    {
      "cell_type": "markdown",
      "metadata": {
        "id": "XD_pQm8Lfko0"
      },
      "source": [
        "###Step 1: Data Splitting"
      ]
    },
    {
      "cell_type": "code",
      "metadata": {
        "colab": {
          "base_uri": "https://localhost:8080/"
        },
        "id": "wrP1xsoKbkP2",
        "outputId": "196dacc5-e4bf-4f72-ebce-f09eb0b218a7"
      },
      "source": [
        "pivotMonths_list = getPivotMonths(AMZB_DF,'timestamp',N_TMonths=18)  \n",
        "pivotMonths_list"
      ],
      "execution_count": 7,
      "outputs": [
        {
          "output_type": "execute_result",
          "data": {
            "text/plain": [
              "[Timestamp('2018-08-26 00:00:00'),\n",
              " Timestamp('2018-07-26 00:00:00'),\n",
              " Timestamp('2018-06-26 00:00:00'),\n",
              " Timestamp('2018-05-26 00:00:00'),\n",
              " Timestamp('2018-04-26 00:00:00'),\n",
              " Timestamp('2018-03-26 00:00:00'),\n",
              " Timestamp('2018-02-26 00:00:00'),\n",
              " Timestamp('2018-01-26 00:00:00'),\n",
              " Timestamp('2017-12-26 00:00:00'),\n",
              " Timestamp('2017-11-26 00:00:00'),\n",
              " Timestamp('2017-10-26 00:00:00'),\n",
              " Timestamp('2017-09-26 00:00:00'),\n",
              " Timestamp('2017-08-26 00:00:00'),\n",
              " Timestamp('2017-07-26 00:00:00'),\n",
              " Timestamp('2017-06-26 00:00:00'),\n",
              " Timestamp('2017-05-26 00:00:00'),\n",
              " Timestamp('2017-04-26 00:00:00'),\n",
              " Timestamp('2017-03-26 00:00:00')]"
            ]
          },
          "metadata": {
            "tags": []
          },
          "execution_count": 7
        }
      ]
    },
    {
      "cell_type": "code",
      "metadata": {
        "colab": {
          "base_uri": "https://localhost:8080/"
        },
        "id": "eR4XK_e1882W",
        "outputId": "9d52816f-9b47-4966-9ba8-08eb520fa76b"
      },
      "source": [
        "A0_df,ΔA_train,ΔA_test = Time_DataSplit(AMZB_DF,'timestamp',pivotMonths_list,N_TMonths= 18,n_train=10)\n",
        "print('Last date in A0_df :',A0_df['timestamp'].max())\n",
        "print('Num ΔA_train :', len(ΔA_train))"
      ],
      "execution_count": 8,
      "outputs": [
        {
          "output_type": "stream",
          "text": [
            "Last date in A0_df : 2017-03-25 00:00:00\n",
            "Num ΔA_train : 10\n"
          ],
          "name": "stdout"
        }
      ]
    },
    {
      "cell_type": "code",
      "metadata": {
        "colab": {
          "base_uri": "https://localhost:8080/"
        },
        "id": "FG95ceXI882a",
        "outputId": "7c18f5b3-9cc1-4b0f-87b7-4e606c01259a"
      },
      "source": [
        "AllDF_list, PSITest_list, HOLDOUT_list, UserItemDF_list = TestTrain_DataSplit(AMZB_DF,'userId','timestamp',pivotMonths_list,ΔA_test)\n",
        "print('Num AllDF_list :', len(AllDF_list))"
      ],
      "execution_count": 9,
      "outputs": [
        {
          "output_type": "stream",
          "text": [
            "Num AllDF_list : 8\n"
          ],
          "name": "stdout"
        }
      ]
    },
    {
      "cell_type": "code",
      "metadata": {
        "id": "IFIEfHbaGkcJ",
        "colab": {
          "base_uri": "https://localhost:8080/"
        },
        "outputId": "624421e3-05e2-46c7-8794-2aab2d23140e"
      },
      "source": [
        "print(AllDF_list[0].shape)\n",
        "print(UserItemDF_list[0].shape)\n",
        "print(HOLDOUT_list[0].shape)"
      ],
      "execution_count": 10,
      "outputs": [
        {
          "output_type": "stream",
          "text": [
            "(50377, 4)\n",
            "(50119, 4)\n",
            "(258, 4)\n"
          ],
          "name": "stdout"
        }
      ]
    },
    {
      "cell_type": "markdown",
      "metadata": {
        "id": "dzWCij3ZipQX"
      },
      "source": [
        "### Step 2: Find new users and items"
      ]
    },
    {
      "cell_type": "code",
      "metadata": {
        "colab": {
          "base_uri": "https://localhost:8080/"
        },
        "id": "L-GolZfZipQZ",
        "outputId": "ec9ed9c6-cdc3-4520-9b51-6a71201fb844"
      },
      "source": [
        "Tstps = AMZB_DF['timestamp']\n",
        "tr_ts = ΔA_train[-1]['timestamp'].max()\n",
        "print(\"ΔA_train_last max date: \",tr_ts)\n",
        "AllDF_start = AMZB_DF.loc[Tstps <= tr_ts] \n",
        "print(AllDF_start['timestamp'].min())\n",
        "print(AllDF_start['timestamp'].max())\n",
        "print()\n",
        "print(AllDF_list[0]['timestamp'].min())\n",
        "print(AllDF_list[0]['timestamp'].max())"
      ],
      "execution_count": 11,
      "outputs": [
        {
          "output_type": "stream",
          "text": [
            "ΔA_train_last max date:  2018-01-25 00:00:00\n",
            "2001-06-08 00:00:00\n",
            "2018-01-25 00:00:00\n",
            "\n",
            "2001-06-08 00:00:00\n",
            "2018-02-25 00:00:00\n"
          ],
          "name": "stdout"
        }
      ]
    },
    {
      "cell_type": "code",
      "metadata": {
        "colab": {
          "base_uri": "https://localhost:8080/"
        },
        "id": "GfgYKuugA3lO",
        "outputId": "a0ecd192-6c18-4f96-e5ec-c14cbd841521"
      },
      "source": [
        "New_usersList,New_itemsList = Find_NewUsersItems(AllDF_start,AllDF_list,'userId','productId',N_steps=8)\n",
        "New_usersList[0]   #"
      ],
      "execution_count": 12,
      "outputs": [
        {
          "output_type": "execute_result",
          "data": {
            "text/plain": [
              "array([22340, 22341, 22342, 22343, 22344, 22345, 22346, 22347, 22348,\n",
              "       22349, 22350, 22351, 22352, 22353, 22354, 22355, 22356, 22357,\n",
              "       22358, 22359, 22360, 22361, 22362, 22363, 22364, 22365, 22366,\n",
              "       22367, 22368, 22369, 22370, 22371, 22372, 22373, 22374, 22375,\n",
              "       22376, 22377, 22378, 22379, 22380, 22381, 22382, 22383, 22384,\n",
              "       22385, 22386, 22387, 22388, 22389, 22390, 22391, 22392, 22393,\n",
              "       22394, 22395, 22396, 22397, 22398, 22399, 22400, 22401, 22402,\n",
              "       22403, 22404, 22405, 22406, 22407, 22408, 22409, 22410, 22411,\n",
              "       22412, 22413, 22414, 22415, 22416, 22417, 22418, 22419, 22420,\n",
              "       22421, 22422, 22423, 22424, 22425, 22426, 22427, 22428, 22429,\n",
              "       22430, 22431, 22432, 22433, 22434, 22435, 22436, 22437, 22438,\n",
              "       22439, 22440, 22441, 22442, 22443, 22444, 22445, 22446, 22447,\n",
              "       22448, 22449, 22450])"
            ]
          },
          "metadata": {
            "tags": []
          },
          "execution_count": 12
        }
      ]
    },
    {
      "cell_type": "code",
      "metadata": {
        "colab": {
          "base_uri": "https://localhost:8080/"
        },
        "id": "0icoPBf-ipQb",
        "outputId": "54ff423a-7d03-41b4-ff52-944e151ac2b0"
      },
      "source": [
        "New_itemsList[0]   "
      ],
      "execution_count": 13,
      "outputs": [
        {
          "output_type": "execute_result",
          "data": {
            "text/plain": [
              "array([8328, 8329, 8330, 8331, 8332, 8333, 8334, 8335, 8336, 8337, 8338,\n",
              "       8339, 8340, 8341, 8342, 8343, 8344, 8345, 8346, 8347, 8348, 8349,\n",
              "       8350, 8351, 8352, 8353, 8354, 8355, 8356, 8357, 8358, 8359, 8360,\n",
              "       8361, 8362, 8363, 8364, 8365, 8366, 8367, 8368, 8369, 8370, 8371,\n",
              "       8372, 8373, 8374, 8375, 8376, 8377, 8378, 8379, 8380, 8381, 8382,\n",
              "       8383, 8384, 8385, 8386, 8387, 8388, 8389, 8390, 8391, 8392, 8393,\n",
              "       8394, 8395, 8396, 8397, 8398])"
            ]
          },
          "metadata": {
            "tags": []
          },
          "execution_count": 13
        }
      ]
    },
    {
      "cell_type": "code",
      "metadata": {
        "colab": {
          "base_uri": "https://localhost:8080/"
        },
        "id": "KXIsxxPnjhx2",
        "outputId": "b8d942c4-daf6-48e8-e9d0-67600b2f7f71"
      },
      "source": [
        "for i,j in zip(New_usersList,New_itemsList):\n",
        "    print(i.size)\n",
        "    print(j.size)\n",
        "    print()"
      ],
      "execution_count": 14,
      "outputs": [
        {
          "output_type": "stream",
          "text": [
            "111\n",
            "71\n",
            "\n",
            "97\n",
            "56\n",
            "\n",
            "119\n",
            "44\n",
            "\n",
            "78\n",
            "36\n",
            "\n",
            "24\n",
            "26\n",
            "\n",
            "17\n",
            "28\n",
            "\n",
            "12\n",
            "20\n",
            "\n",
            "1\n",
            "11\n",
            "\n"
          ],
          "name": "stdout"
        }
      ]
    },
    {
      "cell_type": "code",
      "metadata": {
        "id": "1ykECNc7G4GL"
      },
      "source": [
        ""
      ],
      "execution_count": null,
      "outputs": []
    },
    {
      "cell_type": "markdown",
      "metadata": {
        "id": "n_XyE7otUxey"
      },
      "source": [
        "###Get Updt RatMat"
      ]
    },
    {
      "cell_type": "code",
      "metadata": {
        "colab": {
          "base_uri": "https://localhost:8080/"
        },
        "id": "-S_Ti3jIVmL7",
        "outputId": "f996f0b4-3faf-4e61-b0e9-5a5eb00e13f5"
      },
      "source": [
        "rows_i = AllDF_start['userId'].nunique()\n",
        "cols_i = AllDF_start['productId'].nunique()\n",
        "print(A0_df.shape)\n",
        "A0_RatMat_updt = SingleRatingMatrix(A0_df,'userId', 'productId',rows_i,cols_i)\n",
        "A0_RatMat_updt"
      ],
      "execution_count": 15,
      "outputs": [
        {
          "output_type": "stream",
          "text": [
            "(45139, 4)\n"
          ],
          "name": "stdout"
        },
        {
          "output_type": "execute_result",
          "data": {
            "text/plain": [
              "<22340x8328 sparse matrix of type '<class 'numpy.float64'>'\n",
              "\twith 44740 stored elements in Compressed Sparse Row format>"
            ]
          },
          "metadata": {
            "tags": []
          },
          "execution_count": 15
        }
      ]
    },
    {
      "cell_type": "code",
      "metadata": {
        "colab": {
          "base_uri": "https://localhost:8080/"
        },
        "id": "9bSWovTNVmMX",
        "outputId": "ce781749-bded-4a61-b0cd-8f615ddac536"
      },
      "source": [
        "PSI_TrainMat_updt = AllRatingMatrices(ΔA_train,'userId','productId',rows_i ,cols_i)\n",
        "PSI_TrainMat_updt"
      ],
      "execution_count": 16,
      "outputs": [
        {
          "output_type": "execute_result",
          "data": {
            "text/plain": [
              "[<22340x8328 sparse matrix of type '<class 'numpy.float64'>'\n",
              " \twith 553 stored elements in Compressed Sparse Row format>,\n",
              " <22340x8328 sparse matrix of type '<class 'numpy.float64'>'\n",
              " \twith 518 stored elements in Compressed Sparse Row format>,\n",
              " <22340x8328 sparse matrix of type '<class 'numpy.float64'>'\n",
              " \twith 432 stored elements in Compressed Sparse Row format>,\n",
              " <22340x8328 sparse matrix of type '<class 'numpy.float64'>'\n",
              " \twith 397 stored elements in Compressed Sparse Row format>,\n",
              " <22340x8328 sparse matrix of type '<class 'numpy.float64'>'\n",
              " \twith 493 stored elements in Compressed Sparse Row format>,\n",
              " <22340x8328 sparse matrix of type '<class 'numpy.float64'>'\n",
              " \twith 1017 stored elements in Compressed Sparse Row format>,\n",
              " <22340x8328 sparse matrix of type '<class 'numpy.float64'>'\n",
              " \twith 482 stored elements in Compressed Sparse Row format>,\n",
              " <22340x8328 sparse matrix of type '<class 'numpy.float64'>'\n",
              " \twith 357 stored elements in Compressed Sparse Row format>,\n",
              " <22340x8328 sparse matrix of type '<class 'numpy.float64'>'\n",
              " \twith 290 stored elements in Compressed Sparse Row format>,\n",
              " <22340x8328 sparse matrix of type '<class 'numpy.float64'>'\n",
              " \twith 318 stored elements in Compressed Sparse Row format>]"
            ]
          },
          "metadata": {
            "tags": []
          },
          "execution_count": 16
        }
      ]
    },
    {
      "cell_type": "code",
      "metadata": {
        "id": "X9B1wEG8YUQa"
      },
      "source": [
        ""
      ],
      "execution_count": null,
      "outputs": []
    },
    {
      "cell_type": "code",
      "metadata": {
        "id": "e9NJhE62HOOO"
      },
      "source": [
        ""
      ],
      "execution_count": null,
      "outputs": []
    },
    {
      "cell_type": "markdown",
      "metadata": {
        "id": "A0k3BxpQCEDK"
      },
      "source": [
        "### Allsteps Update"
      ]
    },
    {
      "cell_type": "code",
      "metadata": {
        "id": "RrhIaattvMvN"
      },
      "source": [
        "# rows_i = AllDF_start['userId'].nunique()\n",
        "# cols_i = AllDF_start['productId'].nunique()\n",
        "# print(AllDF_start.shape)\n",
        "# AllDF_startRatMat = SingleRatingMatrix(AllDF_start,'userId', 'productId',rows_i,cols_i)\n",
        "\n",
        "# U_start,S_start,V_start = svds(AllDF_startRatMat,k=50)\n",
        "# V_start = V_start.T\n",
        "# print()\n",
        "# print(\"U_start shape: \",U_start.shape)\n",
        "# print(\"S_start shape: \",S_start.shape)\n",
        "# print(\"V_start shape: \",V_start.shape)"
      ],
      "execution_count": null,
      "outputs": []
    },
    {
      "cell_type": "code",
      "metadata": {
        "id": "3cEAR8lWvMv0"
      },
      "source": [
        ""
      ],
      "execution_count": null,
      "outputs": []
    },
    {
      "cell_type": "code",
      "metadata": {
        "colab": {
          "base_uri": "https://localhost:8080/"
        },
        "id": "gZKKzIA4UPAt",
        "outputId": "53a698ce-37a5-48c4-bd99-142b6c132729"
      },
      "source": [
        "U_start,S_start,V_start = last_psiTrainMat(A0_RatMat_updt,PSI_TrainMat_updt,k=50)\n",
        "print()\n",
        "print(\"U_start shape: \",U_start.shape)\n",
        "print(\"S_start shape: \",S_start.shape)\n",
        "print(\"V_start shape: \",V_start.shape)"
      ],
      "execution_count": 17,
      "outputs": [
        {
          "output_type": "stream",
          "text": [
            "100%|██████████| 10/10 [00:01<00:00,  9.67it/s]"
          ],
          "name": "stderr"
        },
        {
          "output_type": "stream",
          "text": [
            "\n",
            "U_start shape:  (22340, 50)\n",
            "S_start shape:  (50, 50)\n",
            "V_start shape:  (8328, 50)\n"
          ],
          "name": "stdout"
        },
        {
          "output_type": "stream",
          "text": [
            "\n"
          ],
          "name": "stderr"
        }
      ]
    },
    {
      "cell_type": "code",
      "metadata": {
        "colab": {
          "base_uri": "https://localhost:8080/"
        },
        "id": "1c2frghJa9qQ",
        "outputId": "5a18d2d4-399a-4591-f57d-08af3ef0d9df"
      },
      "source": [
        "U_list,S_list,V_list = [],[],[]\n",
        "U_list.append(U_start)\n",
        "S_list.append(S_start)\n",
        "V_list.append(V_start)\n",
        "print(len(U_list),len(V_list))"
      ],
      "execution_count": 18,
      "outputs": [
        {
          "output_type": "stream",
          "text": [
            "1 1\n"
          ],
          "name": "stdout"
        }
      ]
    },
    {
      "cell_type": "code",
      "metadata": {
        "colab": {
          "base_uri": "https://localhost:8080/"
        },
        "id": "zrWnw-d_NaEe",
        "outputId": "13bea17d-49f0-4d2d-c487-029abfe805a2"
      },
      "source": [
        "DItems_, DUsers_,In_DomainUSERS,In_DomainITEMS,userID_dict,itemID_dict,AllUpdtUSERS_,AllUpdtITEMS_,U_list,S_list,V_list = ALLSTEPs_UPDATE(AllDF_start,\n",
        "                                            UserItemDF_list,New_itemsList,New_usersList,U_list,S_list,V_list,'userId','productId',Nsteps=8,k=50,Forced_Orth=False)"
      ],
      "execution_count": 19,
      "outputs": [
        {
          "output_type": "stream",
          "text": [
            "100%|██████████| 7/7 [00:24<00:00,  3.50s/it]\n"
          ],
          "name": "stderr"
        }
      ]
    },
    {
      "cell_type": "code",
      "metadata": {
        "id": "rdX0nPyQz1LO"
      },
      "source": [
        ""
      ],
      "execution_count": null,
      "outputs": []
    },
    {
      "cell_type": "markdown",
      "metadata": {
        "id": "H9o1U4E-zttV"
      },
      "source": [
        "#### Output Check"
      ]
    },
    {
      "cell_type": "code",
      "metadata": {
        "colab": {
          "base_uri": "https://localhost:8080/"
        },
        "id": "0J4Qrzf9OvVN",
        "outputId": "30bf674f-d3b9-454f-bdff-ca53beb7953c"
      },
      "source": [
        "print(len(In_DomainITEMS[8327+1:]))\n",
        "print(In_DomainITEMS[8327+1:])\n",
        "print()\n",
        "print(len(In_DomainUSERS[22339+1:]))\n",
        "print(In_DomainUSERS[22339+1:])"
      ],
      "execution_count": 20,
      "outputs": [
        {
          "output_type": "stream",
          "text": [
            "236\n",
            "[8381, 8448, 8449, 8329, 8330, 8331, 8332, 8333, 8336, 8343, 8344, 8345, 8346, 8348, 8349, 8352, 8355, 8361, 8362, 8363, 8364, 8365, 8368, 8369, 8370, 8371, 8372, 8373, 8374, 8375, 8378, 8379, 8380, 8385, 8386, 8388, 8389, 8391, 8398, 8435, 8328, 8334, 8340, 8353, 8357, 8367, 8376, 8377, 8383, 8384, 8390, 8392, 8395, 8399, 8400, 8401, 8404, 8405, 8406, 8407, 8408, 8410, 8413, 8414, 8415, 8416, 8417, 8418, 8419, 8422, 8423, 8424, 8427, 8428, 8431, 8432, 8433, 8434, 8437, 8438, 8439, 8440, 8441, 8442, 8443, 8444, 8445, 8446, 8447, 8450, 8451, 8452, 8453, 8454, 8468, 8409, 8411, 8412, 8420, 8436, 8360, 8506, 8517, 8455, 8456, 8457, 8458, 8459, 8461, 8464, 8465, 8467, 8469, 8470, 8471, 8472, 8474, 8475, 8476, 8478, 8479, 8481, 8482, 8483, 8484, 8487, 8489, 8490, 8495, 8351, 8507, 8463, 8421, 8350, 8499, 8500, 8501, 8504, 8505, 8508, 8509, 8510, 8511, 8512, 8513, 8514, 8515, 8516, 8518, 8520, 8521, 8522, 8523, 8524, 8530, 8531, 8532, 8354, 8519, 8525, 8526, 8529, 8460, 8498, 8356, 8535, 8536, 8537, 8538, 8539, 8540, 8541, 8542, 8543, 8545, 8548, 8549, 8550, 8552, 8553, 8555, 8556, 8557, 8558, 8559, 8560, 8462, 8337, 8366, 8387, 8584, 8544, 8551, 8554, 8561, 8562, 8563, 8564, 8565, 8568, 8571, 8574, 8575, 8576, 8577, 8578, 8579, 8580, 8581, 8582, 8583, 8587, 8588, 8569, 8611, 8613, 8589, 8590, 8591, 8592, 8593, 8594, 8595, 8596, 8597, 8598, 8599, 8600, 8601, 8602, 8603, 8604, 8605, 8606, 8607, 8608]\n",
            "\n",
            "436\n",
            "[22340, 22341, 22342, 22345, 22346, 22348, 22349, 22350, 22351, 22352, 22353, 22356, 22357, 22358, 22361, 22364, 22366, 22371, 22373, 22375, 22376, 22378, 22382, 22383, 22385, 22387, 22390, 22391, 22392, 22393, 22394, 22395, 22396, 22397, 22398, 22400, 22402, 22403, 22404, 22406, 22407, 22408, 22409, 22410, 22411, 22412, 22413, 22415, 22416, 22418, 22420, 22421, 22422, 22423, 22425, 22428, 22430, 22431, 22432, 22435, 22436, 22439, 22440, 22441, 22445, 22449, 22450, 22451, 22452, 22454, 22455, 22456, 22458, 22459, 22462, 22463, 22464, 22465, 22466, 22467, 22469, 22470, 22471, 22472, 22473, 22474, 22476, 22477, 22478, 22479, 22481, 22482, 22483, 22484, 22486, 22488, 22489, 22490, 22491, 22492, 22493, 22494, 22495, 22496, 22498, 22499, 22500, 22501, 22503, 22504, 22505, 22507, 22508, 22509, 22510, 22513, 22514, 22516, 22517, 22520, 22521, 22523, 22524, 22525, 22527, 22528, 22529, 22531, 22532, 22536, 22537, 22538, 22539, 22540, 22541, 22543, 22544, 22545, 22546, 22547, 22343, 22344, 22347, 22354, 22359, 22363, 22367, 22368, 22369, 22370, 22374, 22379, 22380, 22381, 22386, 22401, 22405, 22414, 22417, 22419, 22424, 22426, 22427, 22429, 22434, 22437, 22438, 22442, 22444, 22447, 22448, 22548, 22549, 22550, 22551, 22552, 22553, 22554, 22555, 22556, 22557, 22558, 22559, 22561, 22562, 22563, 22564, 22565, 22566, 22567, 22570, 22571, 22572, 22573, 22574, 22575, 22576, 22577, 22579, 22580, 22581, 22582, 22583, 22584, 22585, 22586, 22587, 22588, 22589, 22590, 22591, 22592, 22593, 22594, 22595, 22597, 22598, 22599, 22600, 22601, 22602, 22603, 22604, 22605, 22606, 22607, 22608, 22609, 22610, 22612, 22614, 22615, 22616, 22617, 22618, 22619, 22620, 22621, 22622, 22623, 22624, 22625, 22626, 22627, 22628, 22629, 22630, 22632, 22633, 22634, 22635, 22636, 22639, 22640, 22641, 22642, 22643, 22644, 22645, 22647, 22649, 22650, 22652, 22654, 22655, 22656, 22657, 22658, 22662, 22663, 22664, 22665, 22666, 22457, 22460, 22461, 22468, 22475, 22480, 22502, 22506, 22511, 22512, 22515, 22518, 22519, 22522, 22526, 22530, 22533, 22534, 22535, 22542, 22389, 22667, 22668, 22669, 22670, 22671, 22672, 22673, 22674, 22678, 22679, 22680, 22681, 22682, 22683, 22684, 22685, 22686, 22687, 22688, 22689, 22690, 22691, 22692, 22694, 22695, 22696, 22697, 22698, 22699, 22700, 22701, 22702, 22703, 22704, 22705, 22707, 22708, 22709, 22710, 22711, 22713, 22714, 22715, 22716, 22718, 22720, 22721, 22722, 22723, 22724, 22726, 22727, 22728, 22730, 22731, 22732, 22735, 22736, 22738, 22739, 22741, 22743, 22568, 22578, 22596, 22611, 22631, 22638, 22648, 22660, 22485, 22377, 22746, 22747, 22748, 22749, 22750, 22752, 22753, 22755, 22756, 22758, 22760, 22761, 22762, 22763, 22764, 22765, 22675, 22676, 22693, 22706, 22712, 22717, 22719, 22725, 22729, 22733, 22737, 22740, 22744, 22560, 22661, 22384, 22769, 22770, 22772, 22773, 22777, 22778, 22779, 22780, 22781, 22782, 22783, 22784, 22745, 22754, 22757, 22759, 22766, 22767, 22768, 22360, 22399, 22433, 22569, 22786, 22787, 22790, 22791, 22792, 22793, 22795, 22796, 22797, 22774, 22775, 22798, 22788, 22789, 22794]\n"
          ],
          "name": "stdout"
        }
      ]
    },
    {
      "cell_type": "code",
      "metadata": {
        "colab": {
          "base_uri": "https://localhost:8080/"
        },
        "id": "5vpSt3xLOvVU",
        "outputId": "b20fb2ee-97d0-42bb-b356-3ce969aa6516"
      },
      "source": [
        "#deferred items and users\n",
        "print(len(DItems_))\n",
        "print(DItems_)\n",
        "print()\n",
        "print(len(DUsers_))\n",
        "print(DUsers_)"
      ],
      "execution_count": 21,
      "outputs": [
        {
          "output_type": "stream",
          "text": [
            "56\n",
            "[8609, 8610, 8612, 8614, 8615, 8616, 8617, 8618, 8619, 8566, 8567, 8570, 8572, 8573, 8585, 8586, 8546, 8547, 8502, 8503, 8527, 8528, 8533, 8534, 8466, 8473, 8477, 8480, 8485, 8486, 8488, 8491, 8492, 8493, 8494, 8496, 8497, 8402, 8403, 8425, 8426, 8429, 8430, 8335, 8338, 8339, 8341, 8342, 8347, 8358, 8359, 8382, 8393, 8394, 8396, 8397]\n",
            "\n",
            "23\n",
            "[22771, 22776, 22785, 22751, 22677, 22734, 22742, 22613, 22637, 22646, 22651, 22653, 22659, 22453, 22487, 22497, 22355, 22362, 22365, 22372, 22388, 22443, 22446]\n"
          ],
          "name": "stdout"
        }
      ]
    },
    {
      "cell_type": "code",
      "metadata": {
        "colab": {
          "base_uri": "https://localhost:8080/"
        },
        "id": "fYRgZGwlOvVW",
        "outputId": "a72712da-4afe-4410-e5c6-b35a2a09ebc8"
      },
      "source": [
        "for x in list(itemID_dict)[8355:]:\n",
        "    print (\"Id: {}, UpdtId: {} \".format(x,  itemID_dict[x]))   ##id ==key || updtedid == values  ,itemID_dict"
      ],
      "execution_count": 22,
      "outputs": [
        {
          "output_type": "stream",
          "text": [
            "Id: 8373, UpdtId: 8355 \n",
            "Id: 8374, UpdtId: 8356 \n",
            "Id: 8375, UpdtId: 8357 \n",
            "Id: 8378, UpdtId: 8358 \n",
            "Id: 8379, UpdtId: 8359 \n",
            "Id: 8380, UpdtId: 8360 \n",
            "Id: 8385, UpdtId: 8361 \n",
            "Id: 8386, UpdtId: 8362 \n",
            "Id: 8388, UpdtId: 8363 \n",
            "Id: 8389, UpdtId: 8364 \n",
            "Id: 8391, UpdtId: 8365 \n",
            "Id: 8398, UpdtId: 8366 \n",
            "Id: 8435, UpdtId: 8367 \n",
            "Id: 8328, UpdtId: 8368 \n",
            "Id: 8334, UpdtId: 8369 \n",
            "Id: 8340, UpdtId: 8370 \n",
            "Id: 8353, UpdtId: 8371 \n",
            "Id: 8357, UpdtId: 8372 \n",
            "Id: 8367, UpdtId: 8373 \n",
            "Id: 8376, UpdtId: 8374 \n",
            "Id: 8377, UpdtId: 8375 \n",
            "Id: 8383, UpdtId: 8376 \n",
            "Id: 8384, UpdtId: 8377 \n",
            "Id: 8390, UpdtId: 8378 \n",
            "Id: 8392, UpdtId: 8379 \n",
            "Id: 8395, UpdtId: 8380 \n",
            "Id: 8399, UpdtId: 8381 \n",
            "Id: 8400, UpdtId: 8382 \n",
            "Id: 8401, UpdtId: 8383 \n",
            "Id: 8404, UpdtId: 8384 \n",
            "Id: 8405, UpdtId: 8385 \n",
            "Id: 8406, UpdtId: 8386 \n",
            "Id: 8407, UpdtId: 8387 \n",
            "Id: 8408, UpdtId: 8388 \n",
            "Id: 8410, UpdtId: 8389 \n",
            "Id: 8413, UpdtId: 8390 \n",
            "Id: 8414, UpdtId: 8391 \n",
            "Id: 8415, UpdtId: 8392 \n",
            "Id: 8416, UpdtId: 8393 \n",
            "Id: 8417, UpdtId: 8394 \n",
            "Id: 8418, UpdtId: 8395 \n",
            "Id: 8419, UpdtId: 8396 \n",
            "Id: 8422, UpdtId: 8397 \n",
            "Id: 8423, UpdtId: 8398 \n",
            "Id: 8424, UpdtId: 8399 \n",
            "Id: 8427, UpdtId: 8400 \n",
            "Id: 8428, UpdtId: 8401 \n",
            "Id: 8431, UpdtId: 8402 \n",
            "Id: 8432, UpdtId: 8403 \n",
            "Id: 8433, UpdtId: 8404 \n",
            "Id: 8434, UpdtId: 8405 \n",
            "Id: 8437, UpdtId: 8406 \n",
            "Id: 8438, UpdtId: 8407 \n",
            "Id: 8439, UpdtId: 8408 \n",
            "Id: 8440, UpdtId: 8409 \n",
            "Id: 8441, UpdtId: 8410 \n",
            "Id: 8442, UpdtId: 8411 \n",
            "Id: 8443, UpdtId: 8412 \n",
            "Id: 8444, UpdtId: 8413 \n",
            "Id: 8445, UpdtId: 8414 \n",
            "Id: 8446, UpdtId: 8415 \n",
            "Id: 8447, UpdtId: 8416 \n",
            "Id: 8450, UpdtId: 8417 \n",
            "Id: 8451, UpdtId: 8418 \n",
            "Id: 8452, UpdtId: 8419 \n",
            "Id: 8453, UpdtId: 8420 \n",
            "Id: 8454, UpdtId: 8421 \n",
            "Id: 8468, UpdtId: 8422 \n",
            "Id: 8409, UpdtId: 8423 \n",
            "Id: 8411, UpdtId: 8424 \n",
            "Id: 8412, UpdtId: 8425 \n",
            "Id: 8420, UpdtId: 8426 \n",
            "Id: 8436, UpdtId: 8427 \n",
            "Id: 8360, UpdtId: 8428 \n",
            "Id: 8506, UpdtId: 8429 \n",
            "Id: 8517, UpdtId: 8430 \n",
            "Id: 8455, UpdtId: 8431 \n",
            "Id: 8456, UpdtId: 8432 \n",
            "Id: 8457, UpdtId: 8433 \n",
            "Id: 8458, UpdtId: 8434 \n",
            "Id: 8459, UpdtId: 8435 \n",
            "Id: 8461, UpdtId: 8436 \n",
            "Id: 8464, UpdtId: 8437 \n",
            "Id: 8465, UpdtId: 8438 \n",
            "Id: 8467, UpdtId: 8439 \n",
            "Id: 8469, UpdtId: 8440 \n",
            "Id: 8470, UpdtId: 8441 \n",
            "Id: 8471, UpdtId: 8442 \n",
            "Id: 8472, UpdtId: 8443 \n",
            "Id: 8474, UpdtId: 8444 \n",
            "Id: 8475, UpdtId: 8445 \n",
            "Id: 8476, UpdtId: 8446 \n",
            "Id: 8478, UpdtId: 8447 \n",
            "Id: 8479, UpdtId: 8448 \n",
            "Id: 8481, UpdtId: 8449 \n",
            "Id: 8482, UpdtId: 8450 \n",
            "Id: 8483, UpdtId: 8451 \n",
            "Id: 8484, UpdtId: 8452 \n",
            "Id: 8487, UpdtId: 8453 \n",
            "Id: 8489, UpdtId: 8454 \n",
            "Id: 8490, UpdtId: 8455 \n",
            "Id: 8495, UpdtId: 8456 \n",
            "Id: 8351, UpdtId: 8457 \n",
            "Id: 8507, UpdtId: 8458 \n",
            "Id: 8463, UpdtId: 8459 \n",
            "Id: 8421, UpdtId: 8460 \n",
            "Id: 8350, UpdtId: 8461 \n",
            "Id: 8499, UpdtId: 8462 \n",
            "Id: 8500, UpdtId: 8463 \n",
            "Id: 8501, UpdtId: 8464 \n",
            "Id: 8504, UpdtId: 8465 \n",
            "Id: 8505, UpdtId: 8466 \n",
            "Id: 8508, UpdtId: 8467 \n",
            "Id: 8509, UpdtId: 8468 \n",
            "Id: 8510, UpdtId: 8469 \n",
            "Id: 8511, UpdtId: 8470 \n",
            "Id: 8512, UpdtId: 8471 \n",
            "Id: 8513, UpdtId: 8472 \n",
            "Id: 8514, UpdtId: 8473 \n",
            "Id: 8515, UpdtId: 8474 \n",
            "Id: 8516, UpdtId: 8475 \n",
            "Id: 8518, UpdtId: 8476 \n",
            "Id: 8520, UpdtId: 8477 \n",
            "Id: 8521, UpdtId: 8478 \n",
            "Id: 8522, UpdtId: 8479 \n",
            "Id: 8523, UpdtId: 8480 \n",
            "Id: 8524, UpdtId: 8481 \n",
            "Id: 8530, UpdtId: 8482 \n",
            "Id: 8531, UpdtId: 8483 \n",
            "Id: 8532, UpdtId: 8484 \n",
            "Id: 8354, UpdtId: 8485 \n",
            "Id: 8519, UpdtId: 8486 \n",
            "Id: 8525, UpdtId: 8487 \n",
            "Id: 8526, UpdtId: 8488 \n",
            "Id: 8529, UpdtId: 8489 \n",
            "Id: 8460, UpdtId: 8490 \n",
            "Id: 8498, UpdtId: 8491 \n",
            "Id: 8356, UpdtId: 8492 \n",
            "Id: 8535, UpdtId: 8493 \n",
            "Id: 8536, UpdtId: 8494 \n",
            "Id: 8537, UpdtId: 8495 \n",
            "Id: 8538, UpdtId: 8496 \n",
            "Id: 8539, UpdtId: 8497 \n",
            "Id: 8540, UpdtId: 8498 \n",
            "Id: 8541, UpdtId: 8499 \n",
            "Id: 8542, UpdtId: 8500 \n",
            "Id: 8543, UpdtId: 8501 \n",
            "Id: 8545, UpdtId: 8502 \n",
            "Id: 8548, UpdtId: 8503 \n",
            "Id: 8549, UpdtId: 8504 \n",
            "Id: 8550, UpdtId: 8505 \n",
            "Id: 8552, UpdtId: 8506 \n",
            "Id: 8553, UpdtId: 8507 \n",
            "Id: 8555, UpdtId: 8508 \n",
            "Id: 8556, UpdtId: 8509 \n",
            "Id: 8557, UpdtId: 8510 \n",
            "Id: 8558, UpdtId: 8511 \n",
            "Id: 8559, UpdtId: 8512 \n",
            "Id: 8560, UpdtId: 8513 \n",
            "Id: 8462, UpdtId: 8514 \n",
            "Id: 8337, UpdtId: 8515 \n",
            "Id: 8366, UpdtId: 8516 \n",
            "Id: 8387, UpdtId: 8517 \n",
            "Id: 8584, UpdtId: 8518 \n",
            "Id: 8544, UpdtId: 8519 \n",
            "Id: 8551, UpdtId: 8520 \n",
            "Id: 8554, UpdtId: 8521 \n",
            "Id: 8561, UpdtId: 8522 \n",
            "Id: 8562, UpdtId: 8523 \n",
            "Id: 8563, UpdtId: 8524 \n",
            "Id: 8564, UpdtId: 8525 \n",
            "Id: 8565, UpdtId: 8526 \n",
            "Id: 8568, UpdtId: 8527 \n",
            "Id: 8571, UpdtId: 8528 \n",
            "Id: 8574, UpdtId: 8529 \n",
            "Id: 8575, UpdtId: 8530 \n",
            "Id: 8576, UpdtId: 8531 \n",
            "Id: 8577, UpdtId: 8532 \n",
            "Id: 8578, UpdtId: 8533 \n",
            "Id: 8579, UpdtId: 8534 \n",
            "Id: 8580, UpdtId: 8535 \n",
            "Id: 8581, UpdtId: 8536 \n",
            "Id: 8582, UpdtId: 8537 \n",
            "Id: 8583, UpdtId: 8538 \n",
            "Id: 8587, UpdtId: 8539 \n",
            "Id: 8588, UpdtId: 8540 \n",
            "Id: 8569, UpdtId: 8541 \n",
            "Id: 8611, UpdtId: 8542 \n",
            "Id: 8613, UpdtId: 8543 \n",
            "Id: 8589, UpdtId: 8544 \n",
            "Id: 8590, UpdtId: 8545 \n",
            "Id: 8591, UpdtId: 8546 \n",
            "Id: 8592, UpdtId: 8547 \n",
            "Id: 8593, UpdtId: 8548 \n",
            "Id: 8594, UpdtId: 8549 \n",
            "Id: 8595, UpdtId: 8550 \n",
            "Id: 8596, UpdtId: 8551 \n",
            "Id: 8597, UpdtId: 8552 \n",
            "Id: 8598, UpdtId: 8553 \n",
            "Id: 8599, UpdtId: 8554 \n",
            "Id: 8600, UpdtId: 8555 \n",
            "Id: 8601, UpdtId: 8556 \n",
            "Id: 8602, UpdtId: 8557 \n",
            "Id: 8603, UpdtId: 8558 \n",
            "Id: 8604, UpdtId: 8559 \n",
            "Id: 8605, UpdtId: 8560 \n",
            "Id: 8606, UpdtId: 8561 \n",
            "Id: 8607, UpdtId: 8562 \n",
            "Id: 8608, UpdtId: 8563 \n"
          ],
          "name": "stdout"
        }
      ]
    },
    {
      "cell_type": "code",
      "metadata": {
        "id": "XP6aaq1qOvVY",
        "colab": {
          "base_uri": "https://localhost:8080/"
        },
        "outputId": "6ed35cce-c589-4694-b1f1-2d3e9549d7d8"
      },
      "source": [
        "for x in list(userID_dict)[22339:]:\n",
        "    print (\"Id: {}, UpdtId: {} \".format(x,  userID_dict[x]))   ##id ==key || updtedid == values "
      ],
      "execution_count": 23,
      "outputs": [
        {
          "output_type": "stream",
          "text": [
            "Id: 22339, UpdtId: 22339 \n",
            "Id: 22340, UpdtId: 22340 \n",
            "Id: 22341, UpdtId: 22341 \n",
            "Id: 22342, UpdtId: 22342 \n",
            "Id: 22345, UpdtId: 22343 \n",
            "Id: 22346, UpdtId: 22344 \n",
            "Id: 22348, UpdtId: 22345 \n",
            "Id: 22349, UpdtId: 22346 \n",
            "Id: 22350, UpdtId: 22347 \n",
            "Id: 22351, UpdtId: 22348 \n",
            "Id: 22352, UpdtId: 22349 \n",
            "Id: 22353, UpdtId: 22350 \n",
            "Id: 22356, UpdtId: 22351 \n",
            "Id: 22357, UpdtId: 22352 \n",
            "Id: 22358, UpdtId: 22353 \n",
            "Id: 22361, UpdtId: 22354 \n",
            "Id: 22364, UpdtId: 22355 \n",
            "Id: 22366, UpdtId: 22356 \n",
            "Id: 22371, UpdtId: 22357 \n",
            "Id: 22373, UpdtId: 22358 \n",
            "Id: 22375, UpdtId: 22359 \n",
            "Id: 22376, UpdtId: 22360 \n",
            "Id: 22378, UpdtId: 22361 \n",
            "Id: 22382, UpdtId: 22362 \n",
            "Id: 22383, UpdtId: 22363 \n",
            "Id: 22385, UpdtId: 22364 \n",
            "Id: 22387, UpdtId: 22365 \n",
            "Id: 22390, UpdtId: 22366 \n",
            "Id: 22391, UpdtId: 22367 \n",
            "Id: 22392, UpdtId: 22368 \n",
            "Id: 22393, UpdtId: 22369 \n",
            "Id: 22394, UpdtId: 22370 \n",
            "Id: 22395, UpdtId: 22371 \n",
            "Id: 22396, UpdtId: 22372 \n",
            "Id: 22397, UpdtId: 22373 \n",
            "Id: 22398, UpdtId: 22374 \n",
            "Id: 22400, UpdtId: 22375 \n",
            "Id: 22402, UpdtId: 22376 \n",
            "Id: 22403, UpdtId: 22377 \n",
            "Id: 22404, UpdtId: 22378 \n",
            "Id: 22406, UpdtId: 22379 \n",
            "Id: 22407, UpdtId: 22380 \n",
            "Id: 22408, UpdtId: 22381 \n",
            "Id: 22409, UpdtId: 22382 \n",
            "Id: 22410, UpdtId: 22383 \n",
            "Id: 22411, UpdtId: 22384 \n",
            "Id: 22412, UpdtId: 22385 \n",
            "Id: 22413, UpdtId: 22386 \n",
            "Id: 22415, UpdtId: 22387 \n",
            "Id: 22416, UpdtId: 22388 \n",
            "Id: 22418, UpdtId: 22389 \n",
            "Id: 22420, UpdtId: 22390 \n",
            "Id: 22421, UpdtId: 22391 \n",
            "Id: 22422, UpdtId: 22392 \n",
            "Id: 22423, UpdtId: 22393 \n",
            "Id: 22425, UpdtId: 22394 \n",
            "Id: 22428, UpdtId: 22395 \n",
            "Id: 22430, UpdtId: 22396 \n",
            "Id: 22431, UpdtId: 22397 \n",
            "Id: 22432, UpdtId: 22398 \n",
            "Id: 22435, UpdtId: 22399 \n",
            "Id: 22436, UpdtId: 22400 \n",
            "Id: 22439, UpdtId: 22401 \n",
            "Id: 22440, UpdtId: 22402 \n",
            "Id: 22441, UpdtId: 22403 \n",
            "Id: 22445, UpdtId: 22404 \n",
            "Id: 22449, UpdtId: 22405 \n",
            "Id: 22450, UpdtId: 22406 \n",
            "Id: 22451, UpdtId: 22407 \n",
            "Id: 22452, UpdtId: 22408 \n",
            "Id: 22454, UpdtId: 22409 \n",
            "Id: 22455, UpdtId: 22410 \n",
            "Id: 22456, UpdtId: 22411 \n",
            "Id: 22458, UpdtId: 22412 \n",
            "Id: 22459, UpdtId: 22413 \n",
            "Id: 22462, UpdtId: 22414 \n",
            "Id: 22463, UpdtId: 22415 \n",
            "Id: 22464, UpdtId: 22416 \n",
            "Id: 22465, UpdtId: 22417 \n",
            "Id: 22466, UpdtId: 22418 \n",
            "Id: 22467, UpdtId: 22419 \n",
            "Id: 22469, UpdtId: 22420 \n",
            "Id: 22470, UpdtId: 22421 \n",
            "Id: 22471, UpdtId: 22422 \n",
            "Id: 22472, UpdtId: 22423 \n",
            "Id: 22473, UpdtId: 22424 \n",
            "Id: 22474, UpdtId: 22425 \n",
            "Id: 22476, UpdtId: 22426 \n",
            "Id: 22477, UpdtId: 22427 \n",
            "Id: 22478, UpdtId: 22428 \n",
            "Id: 22479, UpdtId: 22429 \n",
            "Id: 22481, UpdtId: 22430 \n",
            "Id: 22482, UpdtId: 22431 \n",
            "Id: 22483, UpdtId: 22432 \n",
            "Id: 22484, UpdtId: 22433 \n",
            "Id: 22486, UpdtId: 22434 \n",
            "Id: 22488, UpdtId: 22435 \n",
            "Id: 22489, UpdtId: 22436 \n",
            "Id: 22490, UpdtId: 22437 \n",
            "Id: 22491, UpdtId: 22438 \n",
            "Id: 22492, UpdtId: 22439 \n",
            "Id: 22493, UpdtId: 22440 \n",
            "Id: 22494, UpdtId: 22441 \n",
            "Id: 22495, UpdtId: 22442 \n",
            "Id: 22496, UpdtId: 22443 \n",
            "Id: 22498, UpdtId: 22444 \n",
            "Id: 22499, UpdtId: 22445 \n",
            "Id: 22500, UpdtId: 22446 \n",
            "Id: 22501, UpdtId: 22447 \n",
            "Id: 22503, UpdtId: 22448 \n",
            "Id: 22504, UpdtId: 22449 \n",
            "Id: 22505, UpdtId: 22450 \n",
            "Id: 22507, UpdtId: 22451 \n",
            "Id: 22508, UpdtId: 22452 \n",
            "Id: 22509, UpdtId: 22453 \n",
            "Id: 22510, UpdtId: 22454 \n",
            "Id: 22513, UpdtId: 22455 \n",
            "Id: 22514, UpdtId: 22456 \n",
            "Id: 22516, UpdtId: 22457 \n",
            "Id: 22517, UpdtId: 22458 \n",
            "Id: 22520, UpdtId: 22459 \n",
            "Id: 22521, UpdtId: 22460 \n",
            "Id: 22523, UpdtId: 22461 \n",
            "Id: 22524, UpdtId: 22462 \n",
            "Id: 22525, UpdtId: 22463 \n",
            "Id: 22527, UpdtId: 22464 \n",
            "Id: 22528, UpdtId: 22465 \n",
            "Id: 22529, UpdtId: 22466 \n",
            "Id: 22531, UpdtId: 22467 \n",
            "Id: 22532, UpdtId: 22468 \n",
            "Id: 22536, UpdtId: 22469 \n",
            "Id: 22537, UpdtId: 22470 \n",
            "Id: 22538, UpdtId: 22471 \n",
            "Id: 22539, UpdtId: 22472 \n",
            "Id: 22540, UpdtId: 22473 \n",
            "Id: 22541, UpdtId: 22474 \n",
            "Id: 22543, UpdtId: 22475 \n",
            "Id: 22544, UpdtId: 22476 \n",
            "Id: 22545, UpdtId: 22477 \n",
            "Id: 22546, UpdtId: 22478 \n",
            "Id: 22547, UpdtId: 22479 \n",
            "Id: 22343, UpdtId: 22480 \n",
            "Id: 22344, UpdtId: 22481 \n",
            "Id: 22347, UpdtId: 22482 \n",
            "Id: 22354, UpdtId: 22483 \n",
            "Id: 22359, UpdtId: 22484 \n",
            "Id: 22363, UpdtId: 22485 \n",
            "Id: 22367, UpdtId: 22486 \n",
            "Id: 22368, UpdtId: 22487 \n",
            "Id: 22369, UpdtId: 22488 \n",
            "Id: 22370, UpdtId: 22489 \n",
            "Id: 22374, UpdtId: 22490 \n",
            "Id: 22379, UpdtId: 22491 \n",
            "Id: 22380, UpdtId: 22492 \n",
            "Id: 22381, UpdtId: 22493 \n",
            "Id: 22386, UpdtId: 22494 \n",
            "Id: 22401, UpdtId: 22495 \n",
            "Id: 22405, UpdtId: 22496 \n",
            "Id: 22414, UpdtId: 22497 \n",
            "Id: 22417, UpdtId: 22498 \n",
            "Id: 22419, UpdtId: 22499 \n",
            "Id: 22424, UpdtId: 22500 \n",
            "Id: 22426, UpdtId: 22501 \n",
            "Id: 22427, UpdtId: 22502 \n",
            "Id: 22429, UpdtId: 22503 \n",
            "Id: 22434, UpdtId: 22504 \n",
            "Id: 22437, UpdtId: 22505 \n",
            "Id: 22438, UpdtId: 22506 \n",
            "Id: 22442, UpdtId: 22507 \n",
            "Id: 22444, UpdtId: 22508 \n",
            "Id: 22447, UpdtId: 22509 \n",
            "Id: 22448, UpdtId: 22510 \n",
            "Id: 22548, UpdtId: 22511 \n",
            "Id: 22549, UpdtId: 22512 \n",
            "Id: 22550, UpdtId: 22513 \n",
            "Id: 22551, UpdtId: 22514 \n",
            "Id: 22552, UpdtId: 22515 \n",
            "Id: 22553, UpdtId: 22516 \n",
            "Id: 22554, UpdtId: 22517 \n",
            "Id: 22555, UpdtId: 22518 \n",
            "Id: 22556, UpdtId: 22519 \n",
            "Id: 22557, UpdtId: 22520 \n",
            "Id: 22558, UpdtId: 22521 \n",
            "Id: 22559, UpdtId: 22522 \n",
            "Id: 22561, UpdtId: 22523 \n",
            "Id: 22562, UpdtId: 22524 \n",
            "Id: 22563, UpdtId: 22525 \n",
            "Id: 22564, UpdtId: 22526 \n",
            "Id: 22565, UpdtId: 22527 \n",
            "Id: 22566, UpdtId: 22528 \n",
            "Id: 22567, UpdtId: 22529 \n",
            "Id: 22570, UpdtId: 22530 \n",
            "Id: 22571, UpdtId: 22531 \n",
            "Id: 22572, UpdtId: 22532 \n",
            "Id: 22573, UpdtId: 22533 \n",
            "Id: 22574, UpdtId: 22534 \n",
            "Id: 22575, UpdtId: 22535 \n",
            "Id: 22576, UpdtId: 22536 \n",
            "Id: 22577, UpdtId: 22537 \n",
            "Id: 22579, UpdtId: 22538 \n",
            "Id: 22580, UpdtId: 22539 \n",
            "Id: 22581, UpdtId: 22540 \n",
            "Id: 22582, UpdtId: 22541 \n",
            "Id: 22583, UpdtId: 22542 \n",
            "Id: 22584, UpdtId: 22543 \n",
            "Id: 22585, UpdtId: 22544 \n",
            "Id: 22586, UpdtId: 22545 \n",
            "Id: 22587, UpdtId: 22546 \n",
            "Id: 22588, UpdtId: 22547 \n",
            "Id: 22589, UpdtId: 22548 \n",
            "Id: 22590, UpdtId: 22549 \n",
            "Id: 22591, UpdtId: 22550 \n",
            "Id: 22592, UpdtId: 22551 \n",
            "Id: 22593, UpdtId: 22552 \n",
            "Id: 22594, UpdtId: 22553 \n",
            "Id: 22595, UpdtId: 22554 \n",
            "Id: 22597, UpdtId: 22555 \n",
            "Id: 22598, UpdtId: 22556 \n",
            "Id: 22599, UpdtId: 22557 \n",
            "Id: 22600, UpdtId: 22558 \n",
            "Id: 22601, UpdtId: 22559 \n",
            "Id: 22602, UpdtId: 22560 \n",
            "Id: 22603, UpdtId: 22561 \n",
            "Id: 22604, UpdtId: 22562 \n",
            "Id: 22605, UpdtId: 22563 \n",
            "Id: 22606, UpdtId: 22564 \n",
            "Id: 22607, UpdtId: 22565 \n",
            "Id: 22608, UpdtId: 22566 \n",
            "Id: 22609, UpdtId: 22567 \n",
            "Id: 22610, UpdtId: 22568 \n",
            "Id: 22612, UpdtId: 22569 \n",
            "Id: 22614, UpdtId: 22570 \n",
            "Id: 22615, UpdtId: 22571 \n",
            "Id: 22616, UpdtId: 22572 \n",
            "Id: 22617, UpdtId: 22573 \n",
            "Id: 22618, UpdtId: 22574 \n",
            "Id: 22619, UpdtId: 22575 \n",
            "Id: 22620, UpdtId: 22576 \n",
            "Id: 22621, UpdtId: 22577 \n",
            "Id: 22622, UpdtId: 22578 \n",
            "Id: 22623, UpdtId: 22579 \n",
            "Id: 22624, UpdtId: 22580 \n",
            "Id: 22625, UpdtId: 22581 \n",
            "Id: 22626, UpdtId: 22582 \n",
            "Id: 22627, UpdtId: 22583 \n",
            "Id: 22628, UpdtId: 22584 \n",
            "Id: 22629, UpdtId: 22585 \n",
            "Id: 22630, UpdtId: 22586 \n",
            "Id: 22632, UpdtId: 22587 \n",
            "Id: 22633, UpdtId: 22588 \n",
            "Id: 22634, UpdtId: 22589 \n",
            "Id: 22635, UpdtId: 22590 \n",
            "Id: 22636, UpdtId: 22591 \n",
            "Id: 22639, UpdtId: 22592 \n",
            "Id: 22640, UpdtId: 22593 \n",
            "Id: 22641, UpdtId: 22594 \n",
            "Id: 22642, UpdtId: 22595 \n",
            "Id: 22643, UpdtId: 22596 \n",
            "Id: 22644, UpdtId: 22597 \n",
            "Id: 22645, UpdtId: 22598 \n",
            "Id: 22647, UpdtId: 22599 \n",
            "Id: 22649, UpdtId: 22600 \n",
            "Id: 22650, UpdtId: 22601 \n",
            "Id: 22652, UpdtId: 22602 \n",
            "Id: 22654, UpdtId: 22603 \n",
            "Id: 22655, UpdtId: 22604 \n",
            "Id: 22656, UpdtId: 22605 \n",
            "Id: 22657, UpdtId: 22606 \n",
            "Id: 22658, UpdtId: 22607 \n",
            "Id: 22662, UpdtId: 22608 \n",
            "Id: 22663, UpdtId: 22609 \n",
            "Id: 22664, UpdtId: 22610 \n",
            "Id: 22665, UpdtId: 22611 \n",
            "Id: 22666, UpdtId: 22612 \n",
            "Id: 22457, UpdtId: 22613 \n",
            "Id: 22460, UpdtId: 22614 \n",
            "Id: 22461, UpdtId: 22615 \n",
            "Id: 22468, UpdtId: 22616 \n",
            "Id: 22475, UpdtId: 22617 \n",
            "Id: 22480, UpdtId: 22618 \n",
            "Id: 22502, UpdtId: 22619 \n",
            "Id: 22506, UpdtId: 22620 \n",
            "Id: 22511, UpdtId: 22621 \n",
            "Id: 22512, UpdtId: 22622 \n",
            "Id: 22515, UpdtId: 22623 \n",
            "Id: 22518, UpdtId: 22624 \n",
            "Id: 22519, UpdtId: 22625 \n",
            "Id: 22522, UpdtId: 22626 \n",
            "Id: 22526, UpdtId: 22627 \n",
            "Id: 22530, UpdtId: 22628 \n",
            "Id: 22533, UpdtId: 22629 \n",
            "Id: 22534, UpdtId: 22630 \n",
            "Id: 22535, UpdtId: 22631 \n",
            "Id: 22542, UpdtId: 22632 \n",
            "Id: 22389, UpdtId: 22633 \n",
            "Id: 22667, UpdtId: 22634 \n",
            "Id: 22668, UpdtId: 22635 \n",
            "Id: 22669, UpdtId: 22636 \n",
            "Id: 22670, UpdtId: 22637 \n",
            "Id: 22671, UpdtId: 22638 \n",
            "Id: 22672, UpdtId: 22639 \n",
            "Id: 22673, UpdtId: 22640 \n",
            "Id: 22674, UpdtId: 22641 \n",
            "Id: 22678, UpdtId: 22642 \n",
            "Id: 22679, UpdtId: 22643 \n",
            "Id: 22680, UpdtId: 22644 \n",
            "Id: 22681, UpdtId: 22645 \n",
            "Id: 22682, UpdtId: 22646 \n",
            "Id: 22683, UpdtId: 22647 \n",
            "Id: 22684, UpdtId: 22648 \n",
            "Id: 22685, UpdtId: 22649 \n",
            "Id: 22686, UpdtId: 22650 \n",
            "Id: 22687, UpdtId: 22651 \n",
            "Id: 22688, UpdtId: 22652 \n",
            "Id: 22689, UpdtId: 22653 \n",
            "Id: 22690, UpdtId: 22654 \n",
            "Id: 22691, UpdtId: 22655 \n",
            "Id: 22692, UpdtId: 22656 \n",
            "Id: 22694, UpdtId: 22657 \n",
            "Id: 22695, UpdtId: 22658 \n",
            "Id: 22696, UpdtId: 22659 \n",
            "Id: 22697, UpdtId: 22660 \n",
            "Id: 22698, UpdtId: 22661 \n",
            "Id: 22699, UpdtId: 22662 \n",
            "Id: 22700, UpdtId: 22663 \n",
            "Id: 22701, UpdtId: 22664 \n",
            "Id: 22702, UpdtId: 22665 \n",
            "Id: 22703, UpdtId: 22666 \n",
            "Id: 22704, UpdtId: 22667 \n",
            "Id: 22705, UpdtId: 22668 \n",
            "Id: 22707, UpdtId: 22669 \n",
            "Id: 22708, UpdtId: 22670 \n",
            "Id: 22709, UpdtId: 22671 \n",
            "Id: 22710, UpdtId: 22672 \n",
            "Id: 22711, UpdtId: 22673 \n",
            "Id: 22713, UpdtId: 22674 \n",
            "Id: 22714, UpdtId: 22675 \n",
            "Id: 22715, UpdtId: 22676 \n",
            "Id: 22716, UpdtId: 22677 \n",
            "Id: 22718, UpdtId: 22678 \n",
            "Id: 22720, UpdtId: 22679 \n",
            "Id: 22721, UpdtId: 22680 \n",
            "Id: 22722, UpdtId: 22681 \n",
            "Id: 22723, UpdtId: 22682 \n",
            "Id: 22724, UpdtId: 22683 \n",
            "Id: 22726, UpdtId: 22684 \n",
            "Id: 22727, UpdtId: 22685 \n",
            "Id: 22728, UpdtId: 22686 \n",
            "Id: 22730, UpdtId: 22687 \n",
            "Id: 22731, UpdtId: 22688 \n",
            "Id: 22732, UpdtId: 22689 \n",
            "Id: 22735, UpdtId: 22690 \n",
            "Id: 22736, UpdtId: 22691 \n",
            "Id: 22738, UpdtId: 22692 \n",
            "Id: 22739, UpdtId: 22693 \n",
            "Id: 22741, UpdtId: 22694 \n",
            "Id: 22743, UpdtId: 22695 \n",
            "Id: 22568, UpdtId: 22696 \n",
            "Id: 22578, UpdtId: 22697 \n",
            "Id: 22596, UpdtId: 22698 \n",
            "Id: 22611, UpdtId: 22699 \n",
            "Id: 22631, UpdtId: 22700 \n",
            "Id: 22638, UpdtId: 22701 \n",
            "Id: 22648, UpdtId: 22702 \n",
            "Id: 22660, UpdtId: 22703 \n",
            "Id: 22485, UpdtId: 22704 \n",
            "Id: 22377, UpdtId: 22705 \n",
            "Id: 22746, UpdtId: 22706 \n",
            "Id: 22747, UpdtId: 22707 \n",
            "Id: 22748, UpdtId: 22708 \n",
            "Id: 22749, UpdtId: 22709 \n",
            "Id: 22750, UpdtId: 22710 \n",
            "Id: 22752, UpdtId: 22711 \n",
            "Id: 22753, UpdtId: 22712 \n",
            "Id: 22755, UpdtId: 22713 \n",
            "Id: 22756, UpdtId: 22714 \n",
            "Id: 22758, UpdtId: 22715 \n",
            "Id: 22760, UpdtId: 22716 \n",
            "Id: 22761, UpdtId: 22717 \n",
            "Id: 22762, UpdtId: 22718 \n",
            "Id: 22763, UpdtId: 22719 \n",
            "Id: 22764, UpdtId: 22720 \n",
            "Id: 22765, UpdtId: 22721 \n",
            "Id: 22675, UpdtId: 22722 \n",
            "Id: 22676, UpdtId: 22723 \n",
            "Id: 22693, UpdtId: 22724 \n",
            "Id: 22706, UpdtId: 22725 \n",
            "Id: 22712, UpdtId: 22726 \n",
            "Id: 22717, UpdtId: 22727 \n",
            "Id: 22719, UpdtId: 22728 \n",
            "Id: 22725, UpdtId: 22729 \n",
            "Id: 22729, UpdtId: 22730 \n",
            "Id: 22733, UpdtId: 22731 \n",
            "Id: 22737, UpdtId: 22732 \n",
            "Id: 22740, UpdtId: 22733 \n",
            "Id: 22744, UpdtId: 22734 \n",
            "Id: 22560, UpdtId: 22735 \n",
            "Id: 22661, UpdtId: 22736 \n",
            "Id: 22384, UpdtId: 22737 \n",
            "Id: 22769, UpdtId: 22738 \n",
            "Id: 22770, UpdtId: 22739 \n",
            "Id: 22772, UpdtId: 22740 \n",
            "Id: 22773, UpdtId: 22741 \n",
            "Id: 22777, UpdtId: 22742 \n",
            "Id: 22778, UpdtId: 22743 \n",
            "Id: 22779, UpdtId: 22744 \n",
            "Id: 22780, UpdtId: 22745 \n",
            "Id: 22781, UpdtId: 22746 \n",
            "Id: 22782, UpdtId: 22747 \n",
            "Id: 22783, UpdtId: 22748 \n",
            "Id: 22784, UpdtId: 22749 \n",
            "Id: 22745, UpdtId: 22750 \n",
            "Id: 22754, UpdtId: 22751 \n",
            "Id: 22757, UpdtId: 22752 \n",
            "Id: 22759, UpdtId: 22753 \n",
            "Id: 22766, UpdtId: 22754 \n",
            "Id: 22767, UpdtId: 22755 \n",
            "Id: 22768, UpdtId: 22756 \n",
            "Id: 22360, UpdtId: 22757 \n",
            "Id: 22399, UpdtId: 22758 \n",
            "Id: 22433, UpdtId: 22759 \n",
            "Id: 22569, UpdtId: 22760 \n",
            "Id: 22786, UpdtId: 22761 \n",
            "Id: 22787, UpdtId: 22762 \n",
            "Id: 22790, UpdtId: 22763 \n",
            "Id: 22791, UpdtId: 22764 \n",
            "Id: 22792, UpdtId: 22765 \n",
            "Id: 22793, UpdtId: 22766 \n",
            "Id: 22795, UpdtId: 22767 \n",
            "Id: 22796, UpdtId: 22768 \n",
            "Id: 22797, UpdtId: 22769 \n",
            "Id: 22774, UpdtId: 22770 \n",
            "Id: 22775, UpdtId: 22771 \n",
            "Id: 22798, UpdtId: 22772 \n",
            "Id: 22788, UpdtId: 22773 \n",
            "Id: 22789, UpdtId: 22774 \n",
            "Id: 22794, UpdtId: 22775 \n"
          ],
          "name": "stdout"
        }
      ]
    },
    {
      "cell_type": "code",
      "metadata": {
        "colab": {
          "base_uri": "https://localhost:8080/"
        },
        "id": "9hrMshBYOvVa",
        "outputId": "e892ea43-4061-4992-c115-eb59c2c31318"
      },
      "source": [
        "print(len(U_list),len(V_list))\n",
        "print(U_list[0].shape,V_list[0].shape)\n",
        "print()\n",
        "for u,v in zip(U_list[1:],V_list[1:]):\n",
        "    print(u.shape,v.shape)   "
      ],
      "execution_count": 24,
      "outputs": [
        {
          "output_type": "stream",
          "text": [
            "9 9\n",
            "(22340, 50) (8328, 50)\n",
            "\n",
            "(22407, 50) (8329, 50)\n",
            "(22511, 50) (8381, 50)\n",
            "(22634, 50) (8429, 50)\n",
            "(22706, 50) (8462, 50)\n",
            "(22738, 50) (8493, 50)\n",
            "(22761, 50) (8522, 50)\n",
            "(22772, 50) (8542, 50)\n",
            "(22776, 50) (8564, 50)\n"
          ],
          "name": "stdout"
        }
      ]
    },
    {
      "cell_type": "code",
      "metadata": {
        "colab": {
          "base_uri": "https://localhost:8080/"
        },
        "id": "xOQC6r84_ju1",
        "outputId": "a129ac4d-62b6-4b7a-acc2-d7392fb69dad"
      },
      "source": [
        "for i,j in zip(AllUpdtUSERS_,AllUpdtITEMS_):\n",
        "    print(len(i),len(j))"
      ],
      "execution_count": 25,
      "outputs": [
        {
          "output_type": "stream",
          "text": [
            "22407 8329\n",
            "22511 8381\n",
            "22634 8429\n",
            "22706 8462\n",
            "22738 8493\n",
            "22761 8522\n",
            "22772 8542\n",
            "22776 8564\n"
          ],
          "name": "stdout"
        }
      ]
    },
    {
      "cell_type": "code",
      "metadata": {
        "colab": {
          "base_uri": "https://localhost:8080/"
        },
        "id": "AMjo4AbxOvVc",
        "outputId": "0009933a-4983-4399-ab40-467f77833971"
      },
      "source": [
        "print(len(In_DomainUSERS),len(In_DomainITEMS))"
      ],
      "execution_count": 26,
      "outputs": [
        {
          "output_type": "stream",
          "text": [
            "22776 8564\n"
          ],
          "name": "stdout"
        }
      ]
    },
    {
      "cell_type": "code",
      "metadata": {
        "id": "VKsZcD9kMzd4"
      },
      "source": [
        ""
      ],
      "execution_count": null,
      "outputs": []
    },
    {
      "cell_type": "markdown",
      "metadata": {
        "id": "nNpsng5z8doR"
      },
      "source": [
        "Data Adjustments"
      ]
    },
    {
      "cell_type": "markdown",
      "metadata": {
        "id": "U8YcpbXKpAMG"
      },
      "source": [
        "#### Data Adjustment"
      ]
    },
    {
      "cell_type": "code",
      "metadata": {
        "colab": {
          "base_uri": "https://localhost:8080/"
        },
        "id": "uBF411YtOzhA",
        "outputId": "bc79da41-38c8-492b-fcd2-672be403081a"
      },
      "source": [
        "newHOLDOUT_LIST = get_NEWHoldout(HOLDOUT_list,userID_dict,itemID_dict,AllUpdtUSERS_,AllUpdtITEMS_,'userId','productId',n=8)\n",
        "print(len(newHOLDOUT_LIST))\n",
        "print()\n",
        "for old,new in zip(HOLDOUT_list,newHOLDOUT_LIST):\n",
        "    print(old.shape[0],new.shape[0])"
      ],
      "execution_count": 27,
      "outputs": [
        {
          "output_type": "stream",
          "text": [
            "100%|██████████| 8/8 [00:00<00:00, 167.02it/s]"
          ],
          "name": "stderr"
        },
        {
          "output_type": "stream",
          "text": [
            "8\n",
            "\n",
            "258 178\n",
            "239 173\n",
            "253 207\n",
            "207 165\n",
            "148 115\n",
            "97 72\n",
            "66 44\n",
            "30 21\n"
          ],
          "name": "stdout"
        },
        {
          "output_type": "stream",
          "text": [
            "\n"
          ],
          "name": "stderr"
        }
      ]
    },
    {
      "cell_type": "code",
      "metadata": {
        "colab": {
          "base_uri": "https://localhost:8080/"
        },
        "id": "HbyiliDLf9ul",
        "outputId": "546f7e77-f632-430d-81da-2c833a50210e"
      },
      "source": [
        "newUserItem_list = adjustedAllDF(UserItemDF_list,userID_dict,itemID_dict,AllUpdtUSERS_,AllUpdtITEMS_,'userId','productId',n=8)\n",
        "print()\n",
        "for df in newUserItem_list:\n",
        "    print(df['Updated_UserID'].nunique(),df['Updated_ItemID'].nunique())"
      ],
      "execution_count": 28,
      "outputs": [
        {
          "output_type": "stream",
          "text": [
            "\n",
            "22407 8329\n",
            "22511 8381\n",
            "22634 8429\n",
            "22706 8462\n",
            "22738 8493\n",
            "22761 8522\n",
            "22772 8542\n",
            "22776 8564\n"
          ],
          "name": "stdout"
        }
      ]
    },
    {
      "cell_type": "code",
      "metadata": {
        "colab": {
          "base_uri": "https://localhost:8080/"
        },
        "id": "1vJrhuEAQXDn",
        "outputId": "0ba63578-0676-4526-ef8d-b761b1c2239e"
      },
      "source": [
        "new_PSIDFlist = adjustedPSI_DF(PSITest_list,userID_dict,itemID_dict,AllUpdtUSERS_,AllUpdtITEMS_,'userId','productId',n=8)\n",
        "for old,new in zip(PSITest_list,new_PSIDFlist):\n",
        "    print(old.shape[0],new.shape[0])"
      ],
      "execution_count": 29,
      "outputs": [
        {
          "output_type": "stream",
          "text": [
            "110 89\n",
            "104 96\n",
            "178 171\n",
            "114 106\n",
            "25 21\n",
            "18 14\n",
            "10 9\n",
            "3 3\n"
          ],
          "name": "stdout"
        }
      ]
    },
    {
      "cell_type": "code",
      "metadata": {
        "id": "bfFHg8h0QiVE"
      },
      "source": [
        ""
      ],
      "execution_count": null,
      "outputs": []
    },
    {
      "cell_type": "markdown",
      "metadata": {
        "id": "J_bFpV2cKCuA"
      },
      "source": [
        "#### Get UserItem MAT"
      ]
    },
    {
      "cell_type": "code",
      "metadata": {
        "colab": {
          "base_uri": "https://localhost:8080/"
        },
        "id": "N1FI-D8uKCuG",
        "outputId": "7a10ec82-9877-4889-f4dc-e9e7d539789b"
      },
      "source": [
        "UserItem_Mat = All_SingleStepRatMat(newUserItem_list,'Updated_UserID','Updated_ItemID')\n",
        "print(len(UserItem_Mat))\n",
        "UserItem_Mat"
      ],
      "execution_count": 30,
      "outputs": [
        {
          "output_type": "stream",
          "text": [
            "8\n"
          ],
          "name": "stdout"
        },
        {
          "output_type": "execute_result",
          "data": {
            "text/plain": [
              "[<22407x8329 sparse matrix of type '<class 'numpy.float64'>'\n",
              " \twith 49611 stored elements in Compressed Sparse Row format>,\n",
              " <22511x8381 sparse matrix of type '<class 'numpy.float64'>'\n",
              " \twith 49953 stored elements in Compressed Sparse Row format>,\n",
              " <22634x8429 sparse matrix of type '<class 'numpy.float64'>'\n",
              " \twith 50358 stored elements in Compressed Sparse Row format>,\n",
              " <22706x8462 sparse matrix of type '<class 'numpy.float64'>'\n",
              " \twith 50707 stored elements in Compressed Sparse Row format>,\n",
              " <22738x8493 sparse matrix of type '<class 'numpy.float64'>'\n",
              " \twith 50940 stored elements in Compressed Sparse Row format>,\n",
              " <22761x8522 sparse matrix of type '<class 'numpy.float64'>'\n",
              " \twith 51108 stored elements in Compressed Sparse Row format>,\n",
              " <22772x8542 sparse matrix of type '<class 'numpy.float64'>'\n",
              " \twith 51211 stored elements in Compressed Sparse Row format>,\n",
              " <22776x8564 sparse matrix of type '<class 'numpy.float64'>'\n",
              " \twith 51280 stored elements in Compressed Sparse Row format>]"
            ]
          },
          "metadata": {
            "tags": []
          },
          "execution_count": 30
        }
      ]
    },
    {
      "cell_type": "code",
      "metadata": {
        "colab": {
          "base_uri": "https://localhost:8080/"
        },
        "id": "bA6bmr-CKCuD",
        "outputId": "0b7b39ec-0e92-41e6-b5b0-58488c1f7ebe"
      },
      "source": [
        "print(len(U_list),len(V_list))\n",
        "for u,v in zip(U_list,V_list):\n",
        "    print(u.shape[0],v.shape[0])   "
      ],
      "execution_count": 31,
      "outputs": [
        {
          "output_type": "stream",
          "text": [
            "9 9\n",
            "22340 8328\n",
            "22407 8329\n",
            "22511 8381\n",
            "22634 8429\n",
            "22706 8462\n",
            "22738 8493\n",
            "22761 8522\n",
            "22772 8542\n",
            "22776 8564\n"
          ],
          "name": "stdout"
        }
      ]
    },
    {
      "cell_type": "code",
      "metadata": {
        "colab": {
          "base_uri": "https://localhost:8080/"
        },
        "id": "kRkFwCd8KCuE",
        "outputId": "c9e4661f-e5e6-47fd-a164-73d9faa38cad"
      },
      "source": [
        "print(AllDF_start['userId'].nunique(),AllDF_start['productId'].nunique())\n",
        "print()\n",
        "for i,j in zip(AllUpdtUSERS_,AllUpdtITEMS_):\n",
        "    print(len(i),len(j))"
      ],
      "execution_count": 32,
      "outputs": [
        {
          "output_type": "stream",
          "text": [
            "22340 8328\n",
            "\n",
            "22407 8329\n",
            "22511 8381\n",
            "22634 8429\n",
            "22706 8462\n",
            "22738 8493\n",
            "22761 8522\n",
            "22772 8542\n",
            "22776 8564\n"
          ],
          "name": "stdout"
        }
      ]
    },
    {
      "cell_type": "markdown",
      "metadata": {
        "id": "-FWZcWCDzJ-i"
      },
      "source": [
        "#### Prediction"
      ]
    },
    {
      "cell_type": "code",
      "metadata": {
        "colab": {
          "base_uri": "https://localhost:8080/"
        },
        "id": "NrcfgZCCzPPu",
        "outputId": "38a7b055-a162-4bb7-e3d1-549c39480844"
      },
      "source": [
        "print(len(UserItem_Mat),len(newHOLDOUT_LIST))"
      ],
      "execution_count": 41,
      "outputs": [
        {
          "output_type": "stream",
          "text": [
            "8 8\n"
          ],
          "name": "stdout"
        }
      ]
    },
    {
      "cell_type": "code",
      "metadata": {
        "colab": {
          "base_uri": "https://localhost:8080/"
        },
        "id": "RguT3Utr0iLy",
        "outputId": "d750486f-7410-494d-8c01-f11f3988cfb8"
      },
      "source": [
        "Vpsi_listUpdt = V_list[1:]\n",
        "for v in Vpsi_listUpdt:\n",
        "    print(v.shape)"
      ],
      "execution_count": 33,
      "outputs": [
        {
          "output_type": "stream",
          "text": [
            "(8329, 50)\n",
            "(8381, 50)\n",
            "(8429, 50)\n",
            "(8462, 50)\n",
            "(8493, 50)\n",
            "(8522, 50)\n",
            "(8542, 50)\n",
            "(8564, 50)\n"
          ],
          "name": "stdout"
        }
      ]
    },
    {
      "cell_type": "code",
      "metadata": {
        "colab": {
          "base_uri": "https://localhost:8080/"
        },
        "id": "py9S9LGoKamJ",
        "outputId": "3b10f65c-a36b-48fa-a3a6-42ef92748ed7"
      },
      "source": [
        "V_1 = Vpsi_listUpdt[0]\n",
        "V_1.shape"
      ],
      "execution_count": 34,
      "outputs": [
        {
          "output_type": "execute_result",
          "data": {
            "text/plain": [
              "(8329, 50)"
            ]
          },
          "metadata": {
            "tags": []
          },
          "execution_count": 34
        }
      ]
    },
    {
      "cell_type": "code",
      "metadata": {
        "colab": {
          "base_uri": "https://localhost:8080/"
        },
        "id": "LtlchmQtHN5c",
        "outputId": "b7e5f0e9-4ff8-4c65-f80d-b89d2bf7df9b"
      },
      "source": [
        "Top_NPred = TopNPred(UserItem_Mat[0],newHOLDOUT_LIST[0],V_1,'Updated_UserID',10)\n",
        "Top_NPred"
      ],
      "execution_count": 35,
      "outputs": [
        {
          "output_type": "execute_result",
          "data": {
            "text/plain": [
              "array([[ 519,  381,   63, ...,  922,   83,   85],\n",
              "       [  63,  520,   43, ...,  137,   36,  134],\n",
              "       [ 519,   80,   41, ...,  667, 5977, 1725],\n",
              "       ...,\n",
              "       [1566,  538, 2031, ..., 1375, 2513, 3030],\n",
              "       [ 311,   85,  191, ...,  613, 1725, 1049],\n",
              "       [  67,   83,  416, ..., 1392,  393,  389]])"
            ]
          },
          "metadata": {
            "tags": []
          },
          "execution_count": 35
        }
      ]
    },
    {
      "cell_type": "code",
      "metadata": {
        "colab": {
          "base_uri": "https://localhost:8080/"
        },
        "id": "Ql0pwhxeHN5g",
        "outputId": "57f3ef02-6339-464c-839d-58cc285f4300"
      },
      "source": [
        "Hitrate_Eval(newHOLDOUT_LIST[0],Top_NPred,'Updated_UserID','Updated_ItemID')"
      ],
      "execution_count": 36,
      "outputs": [
        {
          "output_type": "stream",
          "text": [
            "Number of hits:  53\n",
            "Total Num of users:  178\n",
            "Recommendation HitRate:  0.29775280898876405\n"
          ],
          "name": "stdout"
        },
        {
          "output_type": "execute_result",
          "data": {
            "text/plain": [
              "0.29775280898876405"
            ]
          },
          "metadata": {
            "tags": []
          },
          "execution_count": 36
        }
      ]
    },
    {
      "cell_type": "code",
      "metadata": {
        "id": "-ALFq_slAffr"
      },
      "source": [
        ""
      ],
      "execution_count": null,
      "outputs": []
    },
    {
      "cell_type": "code",
      "metadata": {
        "colab": {
          "base_uri": "https://localhost:8080/"
        },
        "id": "8J8LC6tDAiir",
        "outputId": "e4513848-724c-4c05-9143-70324a1cfd9d"
      },
      "source": [
        "AllUpdt_pred =  TQDMgetALLTopNPred(UserItem_Mat,newHOLDOUT_LIST,Vpsi_listUpdt,'Updated_UserID',N = 10)\n",
        "print(len(AllUpdt_pred))\n",
        "AllUpdt_pred[:2]"
      ],
      "execution_count": 37,
      "outputs": [
        {
          "output_type": "stream",
          "text": [
            "8it [00:00, 38.66it/s]"
          ],
          "name": "stderr"
        },
        {
          "output_type": "stream",
          "text": [
            "8\n"
          ],
          "name": "stdout"
        },
        {
          "output_type": "stream",
          "text": [
            "\n"
          ],
          "name": "stderr"
        },
        {
          "output_type": "execute_result",
          "data": {
            "text/plain": [
              "[array([[ 519,  381,   63, ...,  922,   83,   85],\n",
              "        [  63,  520,   43, ...,  137,   36,  134],\n",
              "        [ 519,   80,   41, ...,  667, 5977, 1725],\n",
              "        ...,\n",
              "        [1566,  538, 2031, ..., 1375, 2513, 3030],\n",
              "        [ 311,   85,  191, ...,  613, 1725, 1049],\n",
              "        [  67,   83,  416, ..., 1392,  393,  389]]),\n",
              " array([[1260,  194,   85, ...,  922, 1512,  558],\n",
              "        [1260,  194,   85, ...,  922, 1512,  558],\n",
              "        [ 389,  133,  598, ..., 1034,   82, 1310],\n",
              "        ...,\n",
              "        [  68,   69, 1512, ...,   85, 2199,   83],\n",
              "        [  74,  231,  137, ...,   69, 1512, 2736],\n",
              "        [ 995,  717,  692, ..., 4017, 3293,  916]])]"
            ]
          },
          "metadata": {
            "tags": []
          },
          "execution_count": 37
        }
      ]
    },
    {
      "cell_type": "code",
      "metadata": {
        "colab": {
          "base_uri": "https://localhost:8080/"
        },
        "id": "Osi894h4Aiiv",
        "outputId": "e652ebc6-cd49-46a3-96c2-4b6a43e55cd1"
      },
      "source": [
        "AllSteps_HitR_updt, LowerBand_updt, Avg_HitR_updt, UpperBand_updt   = getAll_HitRate(newHOLDOUT_LIST,AllUpdt_pred,'Updated_UserID','Updated_ItemID')"
      ],
      "execution_count": 38,
      "outputs": [
        {
          "output_type": "stream",
          "text": [
            "Number of hits:  53\n",
            "Total Num of users:  178\n",
            "Recommendation HitRate:  0.29775280898876405\n",
            "Number of hits:  53\n",
            "Total Num of users:  173\n",
            "Recommendation HitRate:  0.3063583815028902\n",
            "Number of hits:  81\n",
            "Total Num of users:  207\n",
            "Recommendation HitRate:  0.391304347826087\n",
            "Number of hits:  45\n",
            "Total Num of users:  165\n",
            "Recommendation HitRate:  0.2727272727272727\n",
            "Number of hits:  11\n",
            "Total Num of users:  115\n",
            "Recommendation HitRate:  0.09565217391304348\n",
            "Number of hits:  4\n",
            "Total Num of users:  72\n",
            "Recommendation HitRate:  0.05555555555555555\n",
            "Number of hits:  0\n",
            "Total Num of users:  44\n",
            "Recommendation HitRate:  0.0\n",
            "Number of hits:  0\n",
            "Total Num of users:  21\n",
            "Recommendation HitRate:  0.0\n",
            "Average HitRate for All Recommendations:  0.1774188175642016\n"
          ],
          "name": "stdout"
        }
      ]
    },
    {
      "cell_type": "code",
      "metadata": {
        "id": "H3kfcIzLq3aq"
      },
      "source": [
        ""
      ],
      "execution_count": null,
      "outputs": []
    },
    {
      "cell_type": "markdown",
      "metadata": {
        "id": "dlm-q9ms_BWw"
      },
      "source": [
        "### Regular PSI "
      ]
    },
    {
      "cell_type": "markdown",
      "metadata": {
        "id": "uWbLS4cbPI19"
      },
      "source": [
        "#### Get Rating Matrices"
      ]
    },
    {
      "cell_type": "code",
      "metadata": {
        "colab": {
          "base_uri": "https://localhost:8080/",
          "height": 304
        },
        "id": "L90Ba27xDyQQ",
        "outputId": "14a077cf-92ce-433b-b653-175774d7c8b5"
      },
      "source": [
        "newAMZB_DF = ADJUST_mainDF(AMZB_DF,userID_dict,itemID_dict,AllUpdtUSERS_,AllUpdtITEMS_,'userId','productId')\n",
        "print(newAMZB_DF.shape)\n",
        "print(newAMZB_DF['userId'].max(),newAMZB_DF['productId'].max())\n",
        "print(newAMZB_DF['userId'].nunique(),newAMZB_DF['productId'].nunique())\n",
        "print()\n",
        "print(newAMZB_DF['Updated_UserID'].max(),newAMZB_DF['Updated_ItemID'].max())\n",
        "print(newAMZB_DF['Updated_UserID'].nunique(),newAMZB_DF['Updated_ItemID'].nunique())\n",
        "newAMZB_DF.head()"
      ],
      "execution_count": 39,
      "outputs": [
        {
          "output_type": "stream",
          "text": [
            "(51813, 6)\n",
            "22798 8613\n",
            "22776 8564\n",
            "\n",
            "22775 8563\n",
            "22776 8564\n"
          ],
          "name": "stdout"
        },
        {
          "output_type": "execute_result",
          "data": {
            "text/html": [
              "<div>\n",
              "<style scoped>\n",
              "    .dataframe tbody tr th:only-of-type {\n",
              "        vertical-align: middle;\n",
              "    }\n",
              "\n",
              "    .dataframe tbody tr th {\n",
              "        vertical-align: top;\n",
              "    }\n",
              "\n",
              "    .dataframe thead th {\n",
              "        text-align: right;\n",
              "    }\n",
              "</style>\n",
              "<table border=\"1\" class=\"dataframe\">\n",
              "  <thead>\n",
              "    <tr style=\"text-align: right;\">\n",
              "      <th></th>\n",
              "      <th>userId</th>\n",
              "      <th>productId</th>\n",
              "      <th>rating</th>\n",
              "      <th>timestamp</th>\n",
              "      <th>Updated_UserID</th>\n",
              "      <th>Updated_ItemID</th>\n",
              "    </tr>\n",
              "  </thead>\n",
              "  <tbody>\n",
              "    <tr>\n",
              "      <th>0</th>\n",
              "      <td>0</td>\n",
              "      <td>0</td>\n",
              "      <td>1</td>\n",
              "      <td>2001-06-08</td>\n",
              "      <td>0</td>\n",
              "      <td>0</td>\n",
              "    </tr>\n",
              "    <tr>\n",
              "      <th>1</th>\n",
              "      <td>1</td>\n",
              "      <td>0</td>\n",
              "      <td>1</td>\n",
              "      <td>2002-06-12</td>\n",
              "      <td>1</td>\n",
              "      <td>0</td>\n",
              "    </tr>\n",
              "    <tr>\n",
              "      <th>2</th>\n",
              "      <td>1</td>\n",
              "      <td>1</td>\n",
              "      <td>1</td>\n",
              "      <td>2002-06-12</td>\n",
              "      <td>1</td>\n",
              "      <td>1</td>\n",
              "    </tr>\n",
              "    <tr>\n",
              "      <th>3</th>\n",
              "      <td>2</td>\n",
              "      <td>1</td>\n",
              "      <td>1</td>\n",
              "      <td>2002-06-17</td>\n",
              "      <td>2</td>\n",
              "      <td>1</td>\n",
              "    </tr>\n",
              "    <tr>\n",
              "      <th>4</th>\n",
              "      <td>3</td>\n",
              "      <td>1</td>\n",
              "      <td>1</td>\n",
              "      <td>2002-07-04</td>\n",
              "      <td>3</td>\n",
              "      <td>1</td>\n",
              "    </tr>\n",
              "  </tbody>\n",
              "</table>\n",
              "</div>"
            ],
            "text/plain": [
              "   userId  productId  rating  timestamp  Updated_UserID  Updated_ItemID\n",
              "0       0          0       1 2001-06-08               0               0\n",
              "1       1          0       1 2002-06-12               1               0\n",
              "2       1          1       1 2002-06-12               1               1\n",
              "3       2          1       1 2002-06-17               2               1\n",
              "4       3          1       1 2002-07-04               3               1"
            ]
          },
          "metadata": {
            "tags": []
          },
          "execution_count": 39
        }
      ]
    },
    {
      "cell_type": "code",
      "metadata": {
        "colab": {
          "base_uri": "https://localhost:8080/"
        },
        "id": "9VaLJAAPRRLc",
        "outputId": "ceec7c9a-dad9-479e-e542-d62cb71f6f52"
      },
      "source": [
        "rows_i = newAMZB_DF['Updated_UserID'].nunique()\n",
        "cols_i = newAMZB_DF['Updated_ItemID'].nunique()\n",
        "print(A0_df.shape)\n",
        "A0_Rating_matrix = SingleRatingMatrix(A0_df,'userId', 'productId',rows_i,cols_i)  ##changes start within steps...\n",
        "A0_Rating_matrix"
      ],
      "execution_count": 40,
      "outputs": [
        {
          "output_type": "stream",
          "text": [
            "(45139, 4)\n"
          ],
          "name": "stdout"
        },
        {
          "output_type": "execute_result",
          "data": {
            "text/plain": [
              "<22776x8564 sparse matrix of type '<class 'numpy.float64'>'\n",
              "\twith 44740 stored elements in Compressed Sparse Row format>"
            ]
          },
          "metadata": {
            "tags": []
          },
          "execution_count": 40
        }
      ]
    },
    {
      "cell_type": "code",
      "metadata": {
        "colab": {
          "base_uri": "https://localhost:8080/"
        },
        "id": "c_dQwNgf9joe",
        "outputId": "6c4d2825-316a-4bca-a162-95fe1cf128d5"
      },
      "source": [
        "for df in new_PSIDFlist:\n",
        "    print(df['Updated_UserID'].max(),df['Updated_ItemID'].max())"
      ],
      "execution_count": 41,
      "outputs": [
        {
          "output_type": "stream",
          "text": [
            "22406 8328\n",
            "22510 8367\n",
            "22612 8422\n",
            "22702 8458\n",
            "22721 7967\n",
            "22749 8518\n",
            "22769 8522\n",
            "22772 8543\n"
          ],
          "name": "stdout"
        }
      ]
    },
    {
      "cell_type": "code",
      "metadata": {
        "colab": {
          "base_uri": "https://localhost:8080/"
        },
        "id": "PJgsMKCpRRMD",
        "outputId": "8e2782ce-a944-42bf-d541-bb17b761c93e"
      },
      "source": [
        "print(\"Length of PSI_Train :\",len(ΔA_train))\n",
        "print(\"Length of PSI_Test  :\",len(new_PSIDFlist))"
      ],
      "execution_count": 42,
      "outputs": [
        {
          "output_type": "stream",
          "text": [
            "Length of PSI_Train : 10\n",
            "Length of PSI_Test  : 8\n"
          ],
          "name": "stdout"
        }
      ]
    },
    {
      "cell_type": "code",
      "metadata": {
        "colab": {
          "base_uri": "https://localhost:8080/"
        },
        "id": "EBFJoOOvRRME",
        "outputId": "63d5938e-8486-48a6-d8a4-ca44e37411ff"
      },
      "source": [
        "PSI_train_matrix = AllRatingMatrices(ΔA_train,'userId','productId',rows_i ,cols_i)\n",
        "PSI_train_matrix   "
      ],
      "execution_count": 43,
      "outputs": [
        {
          "output_type": "execute_result",
          "data": {
            "text/plain": [
              "[<22776x8564 sparse matrix of type '<class 'numpy.float64'>'\n",
              " \twith 553 stored elements in Compressed Sparse Row format>,\n",
              " <22776x8564 sparse matrix of type '<class 'numpy.float64'>'\n",
              " \twith 518 stored elements in Compressed Sparse Row format>,\n",
              " <22776x8564 sparse matrix of type '<class 'numpy.float64'>'\n",
              " \twith 432 stored elements in Compressed Sparse Row format>,\n",
              " <22776x8564 sparse matrix of type '<class 'numpy.float64'>'\n",
              " \twith 397 stored elements in Compressed Sparse Row format>,\n",
              " <22776x8564 sparse matrix of type '<class 'numpy.float64'>'\n",
              " \twith 493 stored elements in Compressed Sparse Row format>,\n",
              " <22776x8564 sparse matrix of type '<class 'numpy.float64'>'\n",
              " \twith 1017 stored elements in Compressed Sparse Row format>,\n",
              " <22776x8564 sparse matrix of type '<class 'numpy.float64'>'\n",
              " \twith 482 stored elements in Compressed Sparse Row format>,\n",
              " <22776x8564 sparse matrix of type '<class 'numpy.float64'>'\n",
              " \twith 357 stored elements in Compressed Sparse Row format>,\n",
              " <22776x8564 sparse matrix of type '<class 'numpy.float64'>'\n",
              " \twith 290 stored elements in Compressed Sparse Row format>,\n",
              " <22776x8564 sparse matrix of type '<class 'numpy.float64'>'\n",
              " \twith 318 stored elements in Compressed Sparse Row format>]"
            ]
          },
          "metadata": {
            "tags": []
          },
          "execution_count": 43
        }
      ]
    },
    {
      "cell_type": "code",
      "metadata": {
        "colab": {
          "base_uri": "https://localhost:8080/"
        },
        "id": "uTb5wHRNRRMG",
        "outputId": "5fee336a-ed0b-4070-cd8c-30336dc51e11"
      },
      "source": [
        "PSI_test_matrix = AllRatingMatrices(new_PSIDFlist,'Updated_UserID','Updated_ItemID',rows_i ,cols_i)                                                                      \n",
        "print(len(PSI_test_matrix))\n",
        "PSI_test_matrix"
      ],
      "execution_count": 44,
      "outputs": [
        {
          "output_type": "stream",
          "text": [
            "8\n"
          ],
          "name": "stdout"
        },
        {
          "output_type": "execute_result",
          "data": {
            "text/plain": [
              "[<22776x8564 sparse matrix of type '<class 'numpy.float64'>'\n",
              " \twith 88 stored elements in Compressed Sparse Row format>,\n",
              " <22776x8564 sparse matrix of type '<class 'numpy.float64'>'\n",
              " \twith 96 stored elements in Compressed Sparse Row format>,\n",
              " <22776x8564 sparse matrix of type '<class 'numpy.float64'>'\n",
              " \twith 171 stored elements in Compressed Sparse Row format>,\n",
              " <22776x8564 sparse matrix of type '<class 'numpy.float64'>'\n",
              " \twith 106 stored elements in Compressed Sparse Row format>,\n",
              " <22776x8564 sparse matrix of type '<class 'numpy.float64'>'\n",
              " \twith 21 stored elements in Compressed Sparse Row format>,\n",
              " <22776x8564 sparse matrix of type '<class 'numpy.float64'>'\n",
              " \twith 14 stored elements in Compressed Sparse Row format>,\n",
              " <22776x8564 sparse matrix of type '<class 'numpy.float64'>'\n",
              " \twith 9 stored elements in Compressed Sparse Row format>,\n",
              " <22776x8564 sparse matrix of type '<class 'numpy.float64'>'\n",
              " \twith 3 stored elements in Compressed Sparse Row format>]"
            ]
          },
          "metadata": {
            "tags": []
          },
          "execution_count": 44
        }
      ]
    },
    {
      "cell_type": "code",
      "metadata": {
        "colab": {
          "base_uri": "https://localhost:8080/"
        },
        "id": "_6YCH6jWRRMH",
        "outputId": "f92b4275-9389-48b3-f64e-385ba945fa1c"
      },
      "source": [
        "UserItemMAT_list = AllRatingMatrices(newUserItem_list,'Updated_UserID','Updated_ItemID',rows_i ,cols_i) \n",
        "UserItemMAT_list  "
      ],
      "execution_count": 46,
      "outputs": [
        {
          "output_type": "execute_result",
          "data": {
            "text/plain": [
              "[<22776x8564 sparse matrix of type '<class 'numpy.float64'>'\n",
              " \twith 49611 stored elements in Compressed Sparse Row format>,\n",
              " <22776x8564 sparse matrix of type '<class 'numpy.float64'>'\n",
              " \twith 49953 stored elements in Compressed Sparse Row format>,\n",
              " <22776x8564 sparse matrix of type '<class 'numpy.float64'>'\n",
              " \twith 50358 stored elements in Compressed Sparse Row format>,\n",
              " <22776x8564 sparse matrix of type '<class 'numpy.float64'>'\n",
              " \twith 50707 stored elements in Compressed Sparse Row format>,\n",
              " <22776x8564 sparse matrix of type '<class 'numpy.float64'>'\n",
              " \twith 50940 stored elements in Compressed Sparse Row format>,\n",
              " <22776x8564 sparse matrix of type '<class 'numpy.float64'>'\n",
              " \twith 51108 stored elements in Compressed Sparse Row format>,\n",
              " <22776x8564 sparse matrix of type '<class 'numpy.float64'>'\n",
              " \twith 51211 stored elements in Compressed Sparse Row format>,\n",
              " <22776x8564 sparse matrix of type '<class 'numpy.float64'>'\n",
              " \twith 51280 stored elements in Compressed Sparse Row format>]"
            ]
          },
          "metadata": {
            "tags": []
          },
          "execution_count": 46
        }
      ]
    },
    {
      "cell_type": "code",
      "metadata": {
        "colab": {
          "base_uri": "https://localhost:8080/"
        },
        "id": "bZGtyUJPRCff",
        "outputId": "c51454e6-7646-468d-f3d6-5a679163c267"
      },
      "source": [
        "print(AllDF_list[-1]['userId'].nunique(),AllDF_list[-1]['productId'].nunique())\n",
        "print(AMZB_DF['userId'].nunique(),AMZB_DF['productId'].nunique())"
      ],
      "execution_count": 47,
      "outputs": [
        {
          "output_type": "stream",
          "text": [
            "22799 8620\n",
            "22799 8620\n"
          ],
          "name": "stdout"
        }
      ]
    },
    {
      "cell_type": "markdown",
      "metadata": {
        "id": "PTIqbZ8v3wX3"
      },
      "source": [
        "#### PSI Prediction"
      ]
    },
    {
      "cell_type": "code",
      "metadata": {
        "colab": {
          "base_uri": "https://localhost:8080/"
        },
        "id": "erGth4eKRRMJ",
        "outputId": "a337a080-5b50-413e-faae-02c9c9162cbd"
      },
      "source": [
        "                                                                                   #integratorOnMat(A0,ΔA_train_matrix,ΔA_test_matrix,k):\n",
        "Vpsi_listReg =  integratorOnMat(A0_Rating_matrix,PSI_train_matrix,PSI_test_matrix,k=50)  #PSI == projector splitting integrator\n",
        "print(len(Vpsi_listReg))  "
      ],
      "execution_count": 48,
      "outputs": [
        {
          "output_type": "stream",
          "text": [
            "8\n"
          ],
          "name": "stdout"
        }
      ]
    },
    {
      "cell_type": "code",
      "metadata": {
        "colab": {
          "base_uri": "https://localhost:8080/"
        },
        "id": "c9jUgHkKAhbi",
        "outputId": "9d6db7cd-3281-4320-dcac-94e7ded50a78"
      },
      "source": [
        "Top10Pred_psi = TopNPred(UserItemMAT_list[0], newHOLDOUT_LIST[0],Vpsi_listReg[0],'Updated_UserID',N=10)\n",
        "print(Top10Pred_psi.shape)\n",
        "Top10Pred_psi"
      ],
      "execution_count": 49,
      "outputs": [
        {
          "output_type": "stream",
          "text": [
            "(178, 10)\n"
          ],
          "name": "stdout"
        },
        {
          "output_type": "execute_result",
          "data": {
            "text/plain": [
              "array([[ 519,  381,   63, ...,  922,   83,   85],\n",
              "       [  63,  520,   43, ...,  137,   36,  134],\n",
              "       [ 519,   80,   41, ...,  667, 5977, 1725],\n",
              "       ...,\n",
              "       [1566,  538, 2031, ..., 1375, 2513, 3030],\n",
              "       [ 311,   85,  191, ...,  613, 1725, 1049],\n",
              "       [  67,   83,  416, ..., 1392,  393,  389]])"
            ]
          },
          "metadata": {
            "tags": []
          },
          "execution_count": 49
        }
      ]
    },
    {
      "cell_type": "code",
      "metadata": {
        "colab": {
          "base_uri": "https://localhost:8080/"
        },
        "id": "u1sFaxNBAhc2",
        "outputId": "7d7cd5c4-e739-44c1-84bf-3dbefcba4c29"
      },
      "source": [
        "Hitrate_Eval(newHOLDOUT_LIST[0],Top10Pred_psi,'Updated_UserID','Updated_ItemID')"
      ],
      "execution_count": 50,
      "outputs": [
        {
          "output_type": "stream",
          "text": [
            "Number of hits:  52\n",
            "Total Num of users:  178\n",
            "Recommendation HitRate:  0.29213483146067415\n"
          ],
          "name": "stdout"
        },
        {
          "output_type": "execute_result",
          "data": {
            "text/plain": [
              "0.29213483146067415"
            ]
          },
          "metadata": {
            "tags": []
          },
          "execution_count": 50
        }
      ]
    },
    {
      "cell_type": "code",
      "metadata": {
        "colab": {
          "base_uri": "https://localhost:8080/"
        },
        "id": "oUDxtIohbVj8",
        "outputId": "48ec4d87-1a9d-4ec4-954d-c7396797605b"
      },
      "source": [
        "All_PSI_PRED =  TQDMgetALLTopNPred(UserItemMAT_list,newHOLDOUT_LIST,Vpsi_listReg,'Updated_UserID',N = 10)\n",
        "print(len(All_PSI_PRED))\n",
        "All_PSI_PRED[:2]"
      ],
      "execution_count": 51,
      "outputs": [
        {
          "output_type": "stream",
          "text": [
            "8it [00:00, 36.28it/s]"
          ],
          "name": "stderr"
        },
        {
          "output_type": "stream",
          "text": [
            "8\n"
          ],
          "name": "stdout"
        },
        {
          "output_type": "stream",
          "text": [
            "\n"
          ],
          "name": "stderr"
        },
        {
          "output_type": "execute_result",
          "data": {
            "text/plain": [
              "[array([[ 519,  381,   63, ...,  922,   83,   85],\n",
              "        [  63,  520,   43, ...,  137,   36,  134],\n",
              "        [ 519,   80,   41, ...,  667, 5977, 1725],\n",
              "        ...,\n",
              "        [1566,  538, 2031, ..., 1375, 2513, 3030],\n",
              "        [ 311,   85,  191, ...,  613, 1725, 1049],\n",
              "        [  67,   83,  416, ..., 1392,  393,  389]]),\n",
              " array([[ 815,  239,  717, ...,  676, 3985,  519],\n",
              "        [ 815,  239,  717, ...,  676, 3985,  519],\n",
              "        [ 389,  133,  598, ..., 1034,   82, 1310],\n",
              "        ...,\n",
              "        [  68,   69, 1512, ...,   85, 2199,   83],\n",
              "        [  74,  231,  137, ...,   69, 1512,  105],\n",
              "        [ 995,  717,  692, ..., 4017, 3293,  916]])]"
            ]
          },
          "metadata": {
            "tags": []
          },
          "execution_count": 51
        }
      ]
    },
    {
      "cell_type": "code",
      "metadata": {
        "colab": {
          "base_uri": "https://localhost:8080/"
        },
        "id": "2ZnpolG9A7KZ",
        "outputId": "de555147-b9a7-429b-c708-7cd937a04cc2"
      },
      "source": [
        "AllSteps_Hitrate_psi, LowerBand, Avg_HitRate, UpperBand   = getAll_HitRate(newHOLDOUT_LIST,All_PSI_PRED,'Updated_UserID','Updated_ItemID')"
      ],
      "execution_count": 52,
      "outputs": [
        {
          "output_type": "stream",
          "text": [
            "Number of hits:  52\n",
            "Total Num of users:  178\n",
            "Recommendation HitRate:  0.29213483146067415\n",
            "Number of hits:  52\n",
            "Total Num of users:  173\n",
            "Recommendation HitRate:  0.30057803468208094\n",
            "Number of hits:  79\n",
            "Total Num of users:  207\n",
            "Recommendation HitRate:  0.38164251207729466\n",
            "Number of hits:  45\n",
            "Total Num of users:  165\n",
            "Recommendation HitRate:  0.2727272727272727\n",
            "Number of hits:  11\n",
            "Total Num of users:  115\n",
            "Recommendation HitRate:  0.09565217391304348\n",
            "Number of hits:  4\n",
            "Total Num of users:  72\n",
            "Recommendation HitRate:  0.05555555555555555\n",
            "Number of hits:  0\n",
            "Total Num of users:  44\n",
            "Recommendation HitRate:  0.0\n",
            "Number of hits:  0\n",
            "Total Num of users:  21\n",
            "Recommendation HitRate:  0.0\n",
            "Average HitRate for All Recommendations:  0.17478629755199018\n"
          ],
          "name": "stdout"
        }
      ]
    },
    {
      "cell_type": "code",
      "metadata": {
        "id": "wzOFbi-7SrOS"
      },
      "source": [
        ""
      ],
      "execution_count": null,
      "outputs": []
    },
    {
      "cell_type": "code",
      "metadata": {
        "colab": {
          "base_uri": "https://localhost:8080/"
        },
        "id": "p65XDxesTfBL",
        "outputId": "c125ae2e-a58e-4248-b7f5-5d4902db80c1"
      },
      "source": [
        "for df in newUserItem_list:\n",
        "    print(df['Updated_UserID'].nunique(),df['Updated_ItemID'].nunique())"
      ],
      "execution_count": 53,
      "outputs": [
        {
          "output_type": "stream",
          "text": [
            "22407 8329\n",
            "22511 8381\n",
            "22634 8429\n",
            "22706 8462\n",
            "22738 8493\n",
            "22761 8522\n",
            "22772 8542\n",
            "22776 8564\n"
          ],
          "name": "stdout"
        }
      ]
    },
    {
      "cell_type": "markdown",
      "metadata": {
        "id": "00phYsByS9Oq"
      },
      "source": [
        "### CORRELATION Report\n"
      ]
    },
    {
      "cell_type": "code",
      "metadata": {
        "colab": {
          "base_uri": "https://localhost:8080/"
        },
        "id": "T1Sq8YA6U-V2",
        "outputId": "33b13223-9eb1-48e9-b3ef-ab53282b17d7"
      },
      "source": [
        "UserItem_Mat[0].shape\n",
        "UserItemMAT_list[0].shape"
      ],
      "execution_count": 54,
      "outputs": [
        {
          "output_type": "execute_result",
          "data": {
            "text/plain": [
              "(22776, 8564)"
            ]
          },
          "metadata": {
            "tags": []
          },
          "execution_count": 54
        }
      ]
    },
    {
      "cell_type": "markdown",
      "metadata": {
        "id": "gfiwUrPKfayk"
      },
      "source": [
        "#### getAll User Pred"
      ]
    },
    {
      "cell_type": "code",
      "metadata": {
        "colab": {
          "base_uri": "https://localhost:8080/"
        },
        "id": "BxV4PhiFfkuM",
        "outputId": "18b9fdb5-aab1-4ba3-d1a3-3f003565f863"
      },
      "source": [
        "AllUsers_updtPRED =  TQDMgetALLTopNPred_ALLUSERS(UserItem_Mat,Vpsi_listUpdt, N=10) \n",
        "print(len(AllUsers_updtPRED))\n",
        "AllUsers_updtPRED[:2]"
      ],
      "execution_count": 55,
      "outputs": [
        {
          "output_type": "stream",
          "text": [
            "8it [00:27,  3.38s/it]"
          ],
          "name": "stderr"
        },
        {
          "output_type": "stream",
          "text": [
            "8\n"
          ],
          "name": "stdout"
        },
        {
          "output_type": "stream",
          "text": [
            "\n"
          ],
          "name": "stderr"
        },
        {
          "output_type": "execute_result",
          "data": {
            "text/plain": [
              "[array([[ 381,  297,   63, ...,  191, 1202, 1512],\n",
              "        [ 297,   60,   83, ...,  137,   63,  381],\n",
              "        [ 297,   60, 2255, ...,   41,   83,  215],\n",
              "        ...,\n",
              "        [1566,  538, 2031, ..., 1375, 2513, 3030],\n",
              "        [ 311,   85,  191, ...,  613, 1725, 1049],\n",
              "        [  67,   83,  416, ..., 1392,  393,  389]]),\n",
              " array([[ 381,  297,   63, ...,  191, 1202, 1512],\n",
              "        [ 297,   60,   83, ...,  137,   63,  381],\n",
              "        [ 297,   60, 2255, ...,   41,   83,  215],\n",
              "        ...,\n",
              "        [ 558,  676,  815, ...,   25,   24,  319],\n",
              "        [4017,  717, 3293, ..., 1203,  865, 1512],\n",
              "        [ 519,  381,   60, ...,  520, 1725,  694]])]"
            ]
          },
          "metadata": {
            "tags": []
          },
          "execution_count": 55
        }
      ]
    },
    {
      "cell_type": "code",
      "metadata": {
        "id": "IxlTtkOs5tTN",
        "colab": {
          "base_uri": "https://localhost:8080/"
        },
        "outputId": "376d38bf-4084-4cd0-b953-eba49ddd7705"
      },
      "source": [
        "AllUsers_updtPRED[2].shape"
      ],
      "execution_count": 66,
      "outputs": [
        {
          "output_type": "execute_result",
          "data": {
            "text/plain": [
              "(22634, 10)"
            ]
          },
          "metadata": {
            "tags": []
          },
          "execution_count": 66
        }
      ]
    },
    {
      "cell_type": "markdown",
      "metadata": {
        "id": "4GLHnKJViAHo"
      },
      "source": [
        "####  SingleRank Corr "
      ]
    },
    {
      "cell_type": "code",
      "metadata": {
        "colab": {
          "base_uri": "https://localhost:8080/"
        },
        "id": "UkFqDvcW_Amh",
        "outputId": "ebb9c6ab-d2cc-4e37-cc51-62f8b3fe3c35"
      },
      "source": [
        "AllSteps = list(range(1,8))\n",
        "print(len(AllSteps))\n",
        "print(len(AllUsers_updtPRED))\n",
        "AllSteps"
      ],
      "execution_count": 56,
      "outputs": [
        {
          "output_type": "stream",
          "text": [
            "7\n",
            "8\n"
          ],
          "name": "stdout"
        },
        {
          "output_type": "execute_result",
          "data": {
            "text/plain": [
              "[1, 2, 3, 4, 5, 6, 7]"
            ]
          },
          "metadata": {
            "tags": []
          },
          "execution_count": 56
        }
      ]
    },
    {
      "cell_type": "code",
      "metadata": {
        "colab": {
          "base_uri": "https://localhost:8080/"
        },
        "id": "QlTrlJKrNwRC",
        "outputId": "697679f5-4472-4174-c685-d48de44163d7"
      },
      "source": [
        "UpdtPSICorr_ = Updt_getAll_AvgCorr(AllUsers_updtPRED,newUserItem_list,AllSteps,'Updated_UserID')  #,\n",
        "UpdtPSICorr_"
      ],
      "execution_count": 57,
      "outputs": [
        {
          "output_type": "execute_result",
          "data": {
            "text/plain": [
              "array([array([1.        , 1.        , 1.        , ..., 0.18551237, 0.16007859,\n",
              "       0.01736733]),\n",
              "       array([1.        , 1.        , 1.        , ..., 0.49096051, 0.62918   ,\n",
              "       0.        ]),\n",
              "       array([1.        , 1.        , 1.        , ..., 0.37346483, 0.91291953,\n",
              "       0.        ]),\n",
              "       array([1.        , 1.        , 1.        , ..., 0.42793577, 0.49096051,\n",
              "       0.49096051]),\n",
              "       array([1.        , 1.        , 1.        , ..., 0.26246472, 0.67502553,\n",
              "       1.        ]),\n",
              "       array([1.        , 1.        , 1.        , ..., 0.02928462, 0.11059284,\n",
              "       0.7956453 ]),\n",
              "       array([1.        , 1.        , 1.        , ..., 0.93397092, 1.        ,\n",
              "       0.96277091])], dtype=object)"
            ]
          },
          "metadata": {
            "tags": []
          },
          "execution_count": 57
        }
      ]
    },
    {
      "cell_type": "code",
      "metadata": {
        "colab": {
          "base_uri": "https://localhost:8080/"
        },
        "id": "Ms8Nj-1ndBAG",
        "outputId": "659f7b40-9202-4584-a7a3-a675bb7ffae3"
      },
      "source": [
        "UpdtPSICorr_.shape\n",
        "for df in UpdtPSICorr_:\n",
        "    print(df.mean())  "
      ],
      "execution_count": 58,
      "outputs": [
        {
          "output_type": "stream",
          "text": [
            "0.9709379225751309\n",
            "0.9805529399419604\n",
            "0.9853496053939611\n",
            "0.9906672957847809\n",
            "0.9938861878282262\n",
            "0.9953173560574045\n",
            "0.9948768526616134\n"
          ],
          "name": "stdout"
        }
      ]
    },
    {
      "cell_type": "code",
      "metadata": {
        "id": "MkdAFQCZTnco"
      },
      "source": [
        ""
      ],
      "execution_count": null,
      "outputs": []
    },
    {
      "cell_type": "code",
      "metadata": {
        "id": "PhfkO3EcJN5W"
      },
      "source": [
        ""
      ],
      "execution_count": null,
      "outputs": []
    },
    {
      "cell_type": "markdown",
      "metadata": {
        "id": "s19yQCNaTxSL"
      },
      "source": [
        "#### RegPSI Corr_"
      ]
    },
    {
      "cell_type": "code",
      "metadata": {
        "id": "C5-t8Ck1UYWv"
      },
      "source": [
        ""
      ],
      "execution_count": null,
      "outputs": []
    },
    {
      "cell_type": "code",
      "metadata": {
        "colab": {
          "base_uri": "https://localhost:8080/"
        },
        "id": "nNWgpQTkTxSv",
        "outputId": "fa421dfc-0be9-4833-e296-5998cade3354"
      },
      "source": [
        "AllUsersRegPIS_PRED =  TQDMgetALLTopNPred_ALLUSERS(UserItemMAT_list,Vpsi_listReg, N=10) \n",
        "print(len(AllUsersRegPIS_PRED))\n",
        "AllUsersRegPIS_PRED[:2]"
      ],
      "execution_count": 62,
      "outputs": [
        {
          "output_type": "stream",
          "text": [
            "8it [00:29,  3.65s/it]"
          ],
          "name": "stderr"
        },
        {
          "output_type": "stream",
          "text": [
            "8\n"
          ],
          "name": "stdout"
        },
        {
          "output_type": "stream",
          "text": [
            "\n"
          ],
          "name": "stderr"
        },
        {
          "output_type": "execute_result",
          "data": {
            "text/plain": [
              "[array([[ 381,  297,   63, ...,  191, 1202, 1512],\n",
              "        [ 297,   60,   83, ...,  137,   63,  381],\n",
              "        [ 297,   60, 2255, ...,   41,   83,  215],\n",
              "        ...,\n",
              "        [2851, 2849, 2844, ..., 2855, 2856, 8563],\n",
              "        [2851, 2849, 2844, ..., 2855, 2856, 8563],\n",
              "        [2851, 2849, 2844, ..., 2855, 2856, 8563]]),\n",
              " array([[ 381,  297,   63, ...,  191, 1202, 1512],\n",
              "        [ 297,   60,   83, ...,  137,   63,  381],\n",
              "        [ 297,   60, 2255, ...,   41,   83,  215],\n",
              "        ...,\n",
              "        [2851, 2849, 2844, ..., 2855, 2856, 8563],\n",
              "        [2851, 2849, 2844, ..., 2855, 2856, 8563],\n",
              "        [2851, 2849, 2844, ..., 2855, 2856, 8563]])]"
            ]
          },
          "metadata": {
            "tags": []
          },
          "execution_count": 62
        }
      ]
    },
    {
      "cell_type": "code",
      "metadata": {
        "colab": {
          "base_uri": "https://localhost:8080/"
        },
        "id": "e9CyySeHTxS1",
        "outputId": "c77519bc-466a-431f-d5b8-d7f870ef3ff8"
      },
      "source": [
        "AllUsersRegPIS_PRED[2].shape"
      ],
      "execution_count": 63,
      "outputs": [
        {
          "output_type": "execute_result",
          "data": {
            "text/plain": [
              "(22776, 10)"
            ]
          },
          "metadata": {
            "tags": []
          },
          "execution_count": 63
        }
      ]
    },
    {
      "cell_type": "markdown",
      "metadata": {
        "id": "r0AvdqsHTxS4"
      },
      "source": [
        "####  RegPSI SingleRankCorr "
      ]
    },
    {
      "cell_type": "code",
      "metadata": {
        "colab": {
          "base_uri": "https://localhost:8080/"
        },
        "id": "gEYu_nLCTxS6",
        "outputId": "37f1a97a-1b10-4ed7-c87b-1b0d3473551f"
      },
      "source": [
        "AllSteps = list(range(1,8))\n",
        "print(len(AllSteps))\n",
        "print(len(AllUsers_updtPRED))\n",
        "AllSteps  "
      ],
      "execution_count": 64,
      "outputs": [
        {
          "output_type": "stream",
          "text": [
            "7\n",
            "8\n"
          ],
          "name": "stdout"
        },
        {
          "output_type": "execute_result",
          "data": {
            "text/plain": [
              "[1, 2, 3, 4, 5, 6, 7]"
            ]
          },
          "metadata": {
            "tags": []
          },
          "execution_count": 64
        }
      ]
    },
    {
      "cell_type": "code",
      "metadata": {
        "colab": {
          "base_uri": "https://localhost:8080/"
        },
        "id": "5jPXwk8KTxS9",
        "outputId": "c8171d1e-09ef-4adf-dd04-422715f20aaa"
      },
      "source": [
        "RegPSICorr_ = Updt_getAll_AvgCorr(AllUsersRegPIS_PRED,newUserItem_list,AllSteps,'Updated_UserID')  #,\n",
        "RegPSICorr_"
      ],
      "execution_count": 65,
      "outputs": [
        {
          "output_type": "execute_result",
          "data": {
            "text/plain": [
              "array([array([1.        , 1.        , 1.        , ..., 0.18551237, 0.16007859,\n",
              "       0.01736733]),\n",
              "       array([1.        , 1.        , 1.        , ..., 0.49096051, 0.62918   ,\n",
              "       0.        ]),\n",
              "       array([1.        , 1.        , 1.        , ..., 0.35022409, 0.94467132,\n",
              "       0.        ]),\n",
              "       array([1.        , 1.        , 1.        , ..., 0.43278657, 0.49096051,\n",
              "       0.49096051]),\n",
              "       array([1.        , 1.        , 1.        , ..., 0.26246472, 0.68650748,\n",
              "       1.        ]),\n",
              "       array([1.        , 1.        , 1.        , ..., 0.02928462, 0.11059284,\n",
              "       0.7956453 ]),\n",
              "       array([1.        , 1.        , 1.        , ..., 0.93397092, 1.        ,\n",
              "       0.95109701])], dtype=object)"
            ]
          },
          "metadata": {
            "tags": []
          },
          "execution_count": 65
        }
      ]
    },
    {
      "cell_type": "code",
      "metadata": {
        "colab": {
          "base_uri": "https://localhost:8080/"
        },
        "id": "7Jw6LVmFTxTC",
        "outputId": "7270f42d-409c-4b42-b335-7c1c99f91325"
      },
      "source": [
        "RegPSICorr_.shape\n",
        "for df in RegPSICorr_:\n",
        "    print(df.mean())  "
      ],
      "execution_count": 66,
      "outputs": [
        {
          "output_type": "stream",
          "text": [
            "0.9787586445172054\n",
            "0.9813125601753522\n",
            "0.9886840006787605\n",
            "0.9924237348462716\n",
            "0.9957534362484753\n",
            "0.996405052481314\n",
            "0.9975378108378178\n"
          ],
          "name": "stdout"
        }
      ]
    },
    {
      "cell_type": "code",
      "metadata": {
        "id": "O1ZQgxN2TxTF"
      },
      "source": [
        ""
      ],
      "execution_count": null,
      "outputs": []
    },
    {
      "cell_type": "code",
      "metadata": {
        "id": "H_lvPsHkTwh2"
      },
      "source": [
        ""
      ],
      "execution_count": null,
      "outputs": []
    },
    {
      "cell_type": "markdown",
      "metadata": {
        "id": "ex_fBepRvk5I"
      },
      "source": [
        "###  RandRec:Test"
      ]
    },
    {
      "cell_type": "code",
      "metadata": {
        "colab": {
          "base_uri": "https://localhost:8080/"
        },
        "id": "42RCvm1dlZNu",
        "outputId": "485957b6-7ebc-4c72-baac-94e7c3c51671"
      },
      "source": [
        "print(len(UserItem_Mat),len(newHOLDOUT_LIST))"
      ],
      "execution_count": 67,
      "outputs": [
        {
          "output_type": "stream",
          "text": [
            "8 8\n"
          ],
          "name": "stdout"
        }
      ]
    },
    {
      "cell_type": "code",
      "metadata": {
        "colab": {
          "base_uri": "https://localhost:8080/"
        },
        "id": "TBkzzmmFlZNz",
        "outputId": "f066dac9-b2a2-4c9a-d9b8-eba929a11b75"
      },
      "source": [
        "All_RandPred = get_ALLRandPred(UserItem_Mat,newHOLDOUT_LIST,'Updated_UserID',N=10)\n",
        "All_RandPred[:2]  "
      ],
      "execution_count": 70,
      "outputs": [
        {
          "output_type": "stream",
          "text": [
            "8it [00:00, 37.91it/s]\n"
          ],
          "name": "stderr"
        },
        {
          "output_type": "execute_result",
          "data": {
            "text/plain": [
              "[array([[1472,  293, 3912, ..., 2614, 7386,  889],\n",
              "        [5036, 7804, 1724, ..., 5280, 4684, 6452],\n",
              "        [1691, 5823,  839, ..., 1077,  832, 7213],\n",
              "        ...,\n",
              "        [5940, 5588, 4274, ..., 8236, 8134, 8160],\n",
              "        [1382, 2562, 6012, ..., 7315, 1594, 8244],\n",
              "        [7109, 5976, 4482, ..., 1479,  774,  825]]),\n",
              " array([[4675, 3040, 4012, ..., 6094, 4812,  565],\n",
              "        [1002, 3876, 3355, ...,  972, 5386,  272],\n",
              "        [7768, 4253,  570, ..., 6282, 4458, 3884],\n",
              "        ...,\n",
              "        [2199, 6073,  398, ..., 2793, 8211, 1857],\n",
              "        [6689, 8108, 4518, ..., 2227, 7883,  440],\n",
              "        [ 827, 3470, 2522, ...,  333, 6869, 5720]])]"
            ]
          },
          "metadata": {
            "tags": []
          },
          "execution_count": 70
        }
      ]
    },
    {
      "cell_type": "code",
      "metadata": {
        "colab": {
          "base_uri": "https://localhost:8080/"
        },
        "id": "uMLoaZ6YlZN3",
        "outputId": "90ba4c62-a1f1-4242-f422-cd84cd1ab274"
      },
      "source": [
        "AllSteps_Hitrate, LowerBand, Avg_HitRate, UpperBand = getAll_RandomHitRate(newHOLDOUT_LIST,All_RandPred,'Updated_UserID','Updated_ItemID')"
      ],
      "execution_count": 71,
      "outputs": [
        {
          "output_type": "stream",
          "text": [
            "Number of hits:  0\n",
            "Total Num of users:  178\n",
            "Recommendation HitRate:  0.0\n",
            "Number of hits:  0\n",
            "Total Num of users:  173\n",
            "Recommendation HitRate:  0.0\n",
            "Number of hits:  0\n",
            "Total Num of users:  207\n",
            "Recommendation HitRate:  0.0\n",
            "Number of hits:  1\n",
            "Total Num of users:  165\n",
            "Recommendation HitRate:  0.006060606060606061\n",
            "Number of hits:  0\n",
            "Total Num of users:  115\n",
            "Recommendation HitRate:  0.0\n",
            "Number of hits:  0\n",
            "Total Num of users:  72\n",
            "Recommendation HitRate:  0.0\n",
            "Number of hits:  0\n",
            "Total Num of users:  44\n",
            "Recommendation HitRate:  0.0\n",
            "Number of hits:  0\n",
            "Total Num of users:  21\n",
            "Recommendation HitRate:  0.0\n",
            "Average HitRate for All Recommendations:  0.0007575757575757576\n"
          ],
          "name": "stdout"
        }
      ]
    },
    {
      "cell_type": "code",
      "metadata": {
        "id": "ZKEdny0fj3At"
      },
      "source": [
        ""
      ],
      "execution_count": null,
      "outputs": []
    },
    {
      "cell_type": "markdown",
      "metadata": {
        "id": "XTkVUSBi4sgE"
      },
      "source": [
        "### Most Pop Rec"
      ]
    },
    {
      "cell_type": "code",
      "metadata": {
        "id": "xvUmSe4DH9Rw"
      },
      "source": [
        "# MostPOPPred_ = getMOSTPOP_Pred(new_PSIDFlist[0],'Updated_UserID','Updated_ItemID',Nusers=10,N=10)\n",
        "# MostPOPPred_"
      ],
      "execution_count": null,
      "outputs": []
    },
    {
      "cell_type": "code",
      "metadata": {
        "colab": {
          "base_uri": "https://localhost:8080/"
        },
        "id": "dwtyYptbxT1n",
        "outputId": "79b08aa3-3f9e-40e7-a037-7bbec7b343a1"
      },
      "source": [
        "All_MostPOPRED_List =  getAll_MOSTPOP_Pred(new_PSIDFlist,newHOLDOUT_LIST,'Updated_UserID','Updated_ItemID',N=10)\n",
        "All_MostPOPRED_List[:2]"
      ],
      "execution_count": 73,
      "outputs": [
        {
          "output_type": "execute_result",
          "data": {
            "text/plain": [
              "[array([[ 74, 251, 168, ..., 230, 555, 106],\n",
              "        [ 74, 251, 168, ..., 230, 555, 106],\n",
              "        [ 74, 251, 168, ..., 230, 555, 106],\n",
              "        ...,\n",
              "        [ 74, 251, 168, ..., 230, 555, 106],\n",
              "        [ 74, 251, 168, ..., 230, 555, 106],\n",
              "        [ 74, 251, 168, ..., 230, 555, 106]]),\n",
              " array([[110, 319,  74, ..., 239, 251,  67],\n",
              "        [110, 319,  74, ..., 239, 251,  67],\n",
              "        [110, 319,  74, ..., 239, 251,  67],\n",
              "        ...,\n",
              "        [110, 319,  74, ..., 239, 251,  67],\n",
              "        [110, 319,  74, ..., 239, 251,  67],\n",
              "        [110, 319,  74, ..., 239, 251,  67]])]"
            ]
          },
          "metadata": {
            "tags": []
          },
          "execution_count": 73
        }
      ]
    },
    {
      "cell_type": "code",
      "metadata": {
        "colab": {
          "base_uri": "https://localhost:8080/"
        },
        "id": "pzPaCjrsUvFa",
        "outputId": "b7ffccf3-91fc-459b-dd5e-4d8322459502"
      },
      "source": [
        "AllSteps_Hitrate, LowerBand, Avg_HitRate, UpperBand  = getAll_MostPOPHitRate(newHOLDOUT_LIST,All_MostPOPRED_List,'Updated_UserID','Updated_ItemID')"
      ],
      "execution_count": 74,
      "outputs": [
        {
          "output_type": "stream",
          "text": [
            "Number of hits:  22\n",
            "Total Num of users:  178\n",
            "Recommendation HitRate:  0.12359550561797752\n",
            "Number of hits:  23\n",
            "Total Num of users:  173\n",
            "Recommendation HitRate:  0.1329479768786127\n",
            "Number of hits:  57\n",
            "Total Num of users:  207\n",
            "Recommendation HitRate:  0.2753623188405797\n",
            "Number of hits:  32\n",
            "Total Num of users:  165\n",
            "Recommendation HitRate:  0.19393939393939394\n",
            "Number of hits:  18\n",
            "Total Num of users:  115\n",
            "Recommendation HitRate:  0.1565217391304348\n",
            "Number of hits:  1\n",
            "Total Num of users:  72\n",
            "Recommendation HitRate:  0.013888888888888888\n",
            "Number of hits:  4\n",
            "Total Num of users:  44\n",
            "Recommendation HitRate:  0.09090909090909091\n",
            "Number of hits:  0\n",
            "Total Num of users:  21\n",
            "Recommendation HitRate:  0.0\n",
            "Average HitRate for All Recommendations:  0.12339561427562232\n"
          ],
          "name": "stdout"
        }
      ]
    },
    {
      "cell_type": "code",
      "metadata": {
        "colab": {
          "base_uri": "https://localhost:8080/"
        },
        "id": "CbzcieIu7oCt",
        "outputId": "5c7ee35e-baa8-4a5a-efbf-2f07298adec1"
      },
      "source": [
        "print(len(UserItem_Mat),len(newHOLDOUT_LIST))"
      ],
      "execution_count": 75,
      "outputs": [
        {
          "output_type": "stream",
          "text": [
            "8 8\n"
          ],
          "name": "stdout"
        }
      ]
    },
    {
      "cell_type": "code",
      "metadata": {
        "id": "gshLEV6neh4Y"
      },
      "source": [
        ""
      ],
      "execution_count": null,
      "outputs": []
    },
    {
      "cell_type": "code",
      "metadata": {
        "id": "zD4s8IY4DvsK"
      },
      "source": [
        ""
      ],
      "execution_count": null,
      "outputs": []
    }
  ]
}