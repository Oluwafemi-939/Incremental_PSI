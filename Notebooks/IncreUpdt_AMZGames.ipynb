{
  "nbformat": 4,
  "nbformat_minor": 0,
  "metadata": {
    "colab": {
      "name": "ServerNote.ipynb",
      "provenance": [],
      "collapsed_sections": [],
      "toc_visible": true
    },
    "kernelspec": {
      "name": "python392jvsc74a57bd01d40221c0336dfe0c468749ccfbce19a4d0ada951efb74219fd3ebf7d78ddc70",
      "display_name": "Python 3.9.2 64-bit ('PSI_project': conda)"
    },
    "language_info": {
      "codemirror_mode": {
        "name": "ipython",
        "version": 3
      },
      "file_extension": ".py",
      "mimetype": "text/x-python",
      "name": "python",
      "nbconvert_exporter": "python",
      "pygments_lexer": "ipython3",
      "version": "3.9.2"
    },
    "metadata": {
      "interpreter": {
        "hash": "1d40221c0336dfe0c468749ccfbce19a4d0ada951efb74219fd3ebf7d78ddc70"
      }
    }
  },
  "cells": [
    {
      "cell_type": "code",
      "metadata": {
        "id": "bnB7cJYMVY4Y",
        "colab": {
          "base_uri": "https://localhost:8080/"
        },
        "outputId": "ea9594f7-2f42-4ab8-8018-8e4bc2ab53f0"
      },
      "source": [
        "#!pip install --no-cache-dir --upgrade git+https://github.com/evfro/polara.git#egg=polara"
      ],
      "execution_count": 1,
      "outputs": []
    },
    {
      "cell_type": "code",
      "metadata": {
        "colab": {
          "base_uri": "https://localhost:8080/"
        },
        "id": "Xa9ejBYEYSeg",
        "outputId": "33ff4b6e-c069-4f14-db8e-ff1dde3e1384"
      },
      "source": [
        "#!pip install implicit"
      ],
      "execution_count": 2,
      "outputs": []
    },
    {
      "cell_type": "code",
      "execution_count": 2,
      "metadata": {},
      "outputs": [],
      "source": [
        "import os\n",
        "os.environ[\"OMP_NUM_THREADS\"] = \"8\" # export OMP_NUM_THREADS=4\n",
        "os.environ[\"OPENBLAS_NUM_THREADS\"] = \"8\" # export OPENBLAS_NUM_THREADS=4 \n",
        "os.environ[\"MKL_NUM_THREADS\"] = \"8\" # export MKL_NUM_THREADS=6\n",
        "os.environ[\"VECLIB_MAXIMUM_THREADS\"] = \"8\" # export VECLIB_MAXIMUM_THREADS=4\n",
        "os.environ[\"NUMEXPR_NUM_THREADS\"] = \"8\""
      ]
    },
    {
      "cell_type": "markdown",
      "metadata": {
        "id": "waGNRsQkGt3t"
      },
      "source": [
        "## Imports"
      ]
    },
    {
      "cell_type": "code",
      "metadata": {
        "id": "LSMrVzzrFcnl"
      },
      "source": [
        "import io\n",
        "import os\n",
        "import gzip\n",
        "import json\n",
        "import scipy\n",
        "import random\n",
        "import warnings\n",
        "import numpy as np\n",
        "#import numba as nb\n",
        "import pandas as pd\n",
        "import datetime as dt\n",
        "import seaborn as sns\n",
        "from tqdm import tqdm\n",
        "import scipy.stats as st\n",
        "from collections import OrderedDict\n",
        "import scipy.sparse as sparse\n",
        "from scipy.linalg import orth\n",
        "import matplotlib.pyplot as plt\n",
        "from numpy import linalg as lin\n",
        "import implicit\n",
        "import pickle\n",
        "warnings.filterwarnings('ignore')\n",
        "from scipy.sparse import coo_matrix\n",
        "from scipy.sparse.linalg import svds\n",
        "from datetime import datetime as dt_dt\n",
        "from scipy.sparse.linalg import spsolve\n",
        "from numpy.linalg import qr as QR_decomp\n",
        "from scipy.sparse import csr_matrix, find\n",
        "from pandas.api.types import CategoricalDtype\n",
        "from typing import List\n",
        "import torch\n",
        "import torch.nn.functional as F\n",
        "from torch import nn\n",
        "from polara.evaluation.pipelines import random_grid\n",
        "import bottleneck as bn"
      ],
      "execution_count": 3,
      "outputs": []
    },
    {
      "cell_type": "code",
      "execution_count": null,
      "metadata": {},
      "outputs": [],
      "source": []
    },
    {
      "cell_type": "markdown",
      "metadata": {
        "id": "IkLZJhQWqaPp"
      },
      "source": [
        "## Functions"
      ]
    },
    {
      "cell_type": "code",
      "metadata": {
        "id": "Uvv8Q8zR7OAn"
      },
      "source": [
        "import sys\n",
        "sys.path.append('/home/oolaleke/incremental_PSI/Scripts/')\n",
        "#sys.path.append('/content/')"
      ],
      "execution_count": 4,
      "outputs": []
    },
    {
      "cell_type": "code",
      "metadata": {
        "id": "qoOQOsCf7849"
      },
      "source": [
        "import a_DataHelpers\n",
        "import b_AlgoFunctions\n",
        "import c_PredEval\n",
        "import d_CorrScores\n",
        "import e_VAEfunction"
      ],
      "execution_count": 5,
      "outputs": []
    },
    {
      "cell_type": "code",
      "metadata": {
        "id": "slSdgbc1XxNT"
      },
      "source": [
        "from a_DataHelpers import getPivotMonths,Time_DataSplit,TestTrain_DataSplit,SingleRatingMatrix\n",
        "from a_DataHelpers import AllRatingMatrices,All_SingleStepRatMat,psiStep_RatMat,psiAllStep_RatMat\n",
        "from a_DataHelpers import Find_NewUsersItems,adjustedPSI_DF,adjustedAllDF,get_NEWHoldout,ADJUST_mainDF\n",
        "from a_DataHelpers import  SingleStepRatMat_2,AllSingleStepRatMat_2,SingleStep_RatMat\n",
        "\n",
        "from b_AlgoFunctions import integrator,getStartingValues,integratorOnMat,last_psiTrainMat, pureSVD\n",
        "from b_AlgoFunctions import Updt_RowMatrix,getRow_Mat,row_update, Updt_ColMatrix,getCol_Mat,colunm_update\n",
        "from b_AlgoFunctions import UsersItems_RatPair,getRowCol_psiupdt,ITEMS_defferredStatus,USERS_defferredStatus\n",
        "from b_AlgoFunctions import getV_listUpdate, SingleStep_UPDATE,ALLSTEPs_UPDATE\n",
        "from b_AlgoFunctions import tune_ALS,auc_score,TrainTest,mean_auc\n",
        "from b_AlgoFunctions import nonzeros,least_squares_cg,alternating_least_squares_cg\n",
        "\n",
        "\n",
        "from c_PredEval import TopNPred,TQDMgetALLTopNPred, Hitrate_Eval,getAll_HitRate,mean_confidence_interval\n",
        "from c_PredEval import TQDMgetALLTopNPred_ALLUSERS,getALLTopNPred_ALLUSERS,get_ALLRandPred\n",
        "from c_PredEval import topN_Index,getAll_RandomHitRate,getMOSTPOP_Pred,getAll_MostPOPHitRate,getAll_MOSTPOP_Pred\n",
        "from c_PredEval import StepCoverage_Ratio,AllSteps_Coverage_Ratio,getAll_VAEMRR\n",
        "from c_PredEval import MRR_Eval,getAll_MRR_Eval,TQDMgetAll_MRR_Eval, getAll_MostPOP_MRR,getAll_RandomRecMRR\n",
        "from c_PredEval import ials_TopNPred, ials_getALLPred, ials_getALLPredTQDM,ialsALLPred_ALLUSERS\n",
        "\n",
        "from d_CorrScores import no_copy_csr_matrix,build_rank_weights_matrix,rank_weighted_jaccard_index\n",
        "from d_CorrScores import Updt_getAll_AvgCorr, updtCorr_4AllRanks\n",
        "\n",
        "from e_VAEfunction import split_users, split_train_test, numerize_data, get_TrainRatMat, getTrainTest_RatMat\n"
      ],
      "execution_count": 7,
      "outputs": []
    },
    {
      "source": [],
      "cell_type": "markdown",
      "metadata": {}
    },
    {
      "cell_type": "markdown",
      "metadata": {
        "id": "e556n8BpXy0b"
      },
      "source": [
        "## Apply Functions on *AmazonGAMES*"
      ]
    },
    {
      "cell_type": "markdown",
      "metadata": {
        "id": "Kq7VUKhmJPxP"
      },
      "source": [
        "###Import Clean Data "
      ]
    },
    {
      "cell_type": "code",
      "metadata": {
        "colab": {
          "base_uri": "https://localhost:8080/",
          "height": 566
        },
        "id": "YDwA6s5IaiIe",
        "outputId": "6790cf74-ca03-4017-8779-4166b539683d"
      },
      "source": [
        "#AMZGames_DF = pd.read_csv('/content/newIncre_AMGDF.csv') \n",
        "AMZGames_DF = pd.read_csv('/mnt/bulky/oolaleke/TDM_Dataset/AMZ_GamesFiles/AMZGames_IncreDF.csv') \n",
        "AMZGames_DF['timestamp'] = pd.to_datetime(AMZGames_DF['timestamp']) \n",
        "print(AMZGames_DF.shape)   #userId_int\n",
        "print(AMZGames_DF.dtypes)\n",
        "AMZGames_DF"
      ],
      "execution_count": 9,
      "outputs": [
        {
          "output_type": "stream",
          "name": "stdout",
          "text": [
            "(345213, 7)\nuserid                  object\nProductID               object\nrating                   int64\ntimestamp       datetime64[ns]\ntimestamp_YM            object\nuserId                   int64\nproductId                int64\ndtype: object\n"
          ]
        },
        {
          "output_type": "execute_result",
          "data": {
            "text/plain": [
              "                userid   ProductID  rating  timestamp timestamp_YM  userId  \\\n",
              "0       A2AXQTB83VMK4L  B0000296O5       1 1999-10-14      1999-10       0   \n",
              "1       A2T04VAIXSKJH2  B00002NDRY       1 1999-11-05      1999-11       1   \n",
              "2       A1QA8K3LD9K892  B000021Y5F       1 1999-11-10      1999-11       2   \n",
              "3       A1QA8K3LD9K892  B000021Y5Q       1 1999-11-10      1999-11       2   \n",
              "4        ANLA598UNJI8A  B00001IVGE       1 1999-11-14      1999-11       3   \n",
              "...                ...         ...     ...        ...          ...     ...   \n",
              "345208    AXGJNBYPUNR2  B01FDA42PU       1 2018-09-29      2018-09   29226   \n",
              "345209   ANS2OWH7CK1M9  B01GW8YDLK       1 2018-09-30      2018-09    3543   \n",
              "345210  A1SDXNTHJ255P7  B01GW3H3U8       1 2018-10-01      2018-10   33517   \n",
              "345211  A3R7Y70K7ZPJ3I  B01GKF824Y       1 2018-10-01      2018-10   35953   \n",
              "345212   AE0337VVP8MRM  B01GVJTTAK       1 2018-10-02      2018-10   20363   \n",
              "\n",
              "        productId  \n",
              "0               0  \n",
              "1               1  \n",
              "2               2  \n",
              "3               3  \n",
              "4               4  \n",
              "...           ...  \n",
              "345208      16596  \n",
              "345209      17319  \n",
              "345210      16745  \n",
              "345211      17045  \n",
              "345212      17059  \n",
              "\n",
              "[345213 rows x 7 columns]"
            ],
            "text/html": "<div>\n<style scoped>\n    .dataframe tbody tr th:only-of-type {\n        vertical-align: middle;\n    }\n\n    .dataframe tbody tr th {\n        vertical-align: top;\n    }\n\n    .dataframe thead th {\n        text-align: right;\n    }\n</style>\n<table border=\"1\" class=\"dataframe\">\n  <thead>\n    <tr style=\"text-align: right;\">\n      <th></th>\n      <th>userid</th>\n      <th>ProductID</th>\n      <th>rating</th>\n      <th>timestamp</th>\n      <th>timestamp_YM</th>\n      <th>userId</th>\n      <th>productId</th>\n    </tr>\n  </thead>\n  <tbody>\n    <tr>\n      <th>0</th>\n      <td>A2AXQTB83VMK4L</td>\n      <td>B0000296O5</td>\n      <td>1</td>\n      <td>1999-10-14</td>\n      <td>1999-10</td>\n      <td>0</td>\n      <td>0</td>\n    </tr>\n    <tr>\n      <th>1</th>\n      <td>A2T04VAIXSKJH2</td>\n      <td>B00002NDRY</td>\n      <td>1</td>\n      <td>1999-11-05</td>\n      <td>1999-11</td>\n      <td>1</td>\n      <td>1</td>\n    </tr>\n    <tr>\n      <th>2</th>\n      <td>A1QA8K3LD9K892</td>\n      <td>B000021Y5F</td>\n      <td>1</td>\n      <td>1999-11-10</td>\n      <td>1999-11</td>\n      <td>2</td>\n      <td>2</td>\n    </tr>\n    <tr>\n      <th>3</th>\n      <td>A1QA8K3LD9K892</td>\n      <td>B000021Y5Q</td>\n      <td>1</td>\n      <td>1999-11-10</td>\n      <td>1999-11</td>\n      <td>2</td>\n      <td>3</td>\n    </tr>\n    <tr>\n      <th>4</th>\n      <td>ANLA598UNJI8A</td>\n      <td>B00001IVGE</td>\n      <td>1</td>\n      <td>1999-11-14</td>\n      <td>1999-11</td>\n      <td>3</td>\n      <td>4</td>\n    </tr>\n    <tr>\n      <th>...</th>\n      <td>...</td>\n      <td>...</td>\n      <td>...</td>\n      <td>...</td>\n      <td>...</td>\n      <td>...</td>\n      <td>...</td>\n    </tr>\n    <tr>\n      <th>345208</th>\n      <td>AXGJNBYPUNR2</td>\n      <td>B01FDA42PU</td>\n      <td>1</td>\n      <td>2018-09-29</td>\n      <td>2018-09</td>\n      <td>29226</td>\n      <td>16596</td>\n    </tr>\n    <tr>\n      <th>345209</th>\n      <td>ANS2OWH7CK1M9</td>\n      <td>B01GW8YDLK</td>\n      <td>1</td>\n      <td>2018-09-30</td>\n      <td>2018-09</td>\n      <td>3543</td>\n      <td>17319</td>\n    </tr>\n    <tr>\n      <th>345210</th>\n      <td>A1SDXNTHJ255P7</td>\n      <td>B01GW3H3U8</td>\n      <td>1</td>\n      <td>2018-10-01</td>\n      <td>2018-10</td>\n      <td>33517</td>\n      <td>16745</td>\n    </tr>\n    <tr>\n      <th>345211</th>\n      <td>A3R7Y70K7ZPJ3I</td>\n      <td>B01GKF824Y</td>\n      <td>1</td>\n      <td>2018-10-01</td>\n      <td>2018-10</td>\n      <td>35953</td>\n      <td>17045</td>\n    </tr>\n    <tr>\n      <th>345212</th>\n      <td>AE0337VVP8MRM</td>\n      <td>B01GVJTTAK</td>\n      <td>1</td>\n      <td>2018-10-02</td>\n      <td>2018-10</td>\n      <td>20363</td>\n      <td>17059</td>\n    </tr>\n  </tbody>\n</table>\n<p>345213 rows × 7 columns</p>\n</div>"
          },
          "metadata": {},
          "execution_count": 9
        }
      ]
    },
    {
      "cell_type": "code",
      "metadata": {
        "colab": {
          "base_uri": "https://localhost:8080/"
        },
        "id": "2XWFDaGwFFCR",
        "outputId": "f0dc1e35-6215-43a5-9bed-eeb40bedb8b5"
      },
      "source": [
        "print(AMZGames_DF.shape)\n",
        "print(\"For users: \")\n",
        "print(AMZGames_DF['userId'].nunique())\n",
        "print(AMZGames_DF['userId'].max())\n",
        "print()\n",
        "print(\"For items: \")\n",
        "print(AMZGames_DF['productId'].nunique())\n",
        "print(AMZGames_DF['productId'].max())\n",
        "print()\n",
        "print(\"Timestamp\")\n",
        "print(AMZGames_DF['timestamp'].min())\n",
        "print(AMZGames_DF['timestamp'].max())"
      ],
      "execution_count": 10,
      "outputs": [
        {
          "output_type": "stream",
          "name": "stdout",
          "text": [
            "(345213, 7)\nFor users: \n39284\n39283\n\nFor items: \n17320\n17319\n\nTimestamp\n1999-10-14 00:00:00\n2018-10-02 00:00:00\n"
          ]
        }
      ]
    },
    {
      "cell_type": "code",
      "metadata": {
        "id": "xlbzMS4hGeF3"
      },
      "source": [],
      "execution_count": null,
      "outputs": []
    },
    {
      "cell_type": "markdown",
      "metadata": {
        "id": "XD_pQm8Lfko0"
      },
      "source": [
        "### Data Splitting"
      ]
    },
    {
      "cell_type": "code",
      "metadata": {
        "colab": {
          "base_uri": "https://localhost:8080/"
        },
        "id": "aM4xMYIRqUOg",
        "outputId": "f59892a9-1119-4a27-8b65-0536522eb238"
      },
      "source": [
        "train_df = AMZGames_DF[AMZGames_DF['timestamp_YM'] < '2015-06']  \n",
        "print(train_df['userid'].nunique())\n",
        "print(train_df['userid'].shape)  ##63%"
      ],
      "execution_count": 11,
      "outputs": [
        {
          "output_type": "stream",
          "name": "stdout",
          "text": [
            "30238\n(217772,)\n"
          ]
        }
      ]
    },
    {
      "cell_type": "code",
      "metadata": {
        "colab": {
          "base_uri": "https://localhost:8080/"
        },
        "id": "V26mrR-bxvBV",
        "outputId": "d2ac8083-1da7-4f23-f9a0-52fe0862d10e"
      },
      "source": [
        "remainder_df = AMZGames_DF[AMZGames_DF['timestamp_YM'] >= '2015-06']  \n",
        "print(remainder_df['userid'].nunique())\n",
        "print(remainder_df.shape)"
      ],
      "execution_count": 12,
      "outputs": [
        {
          "output_type": "stream",
          "name": "stdout",
          "text": [
            "23371\n(127441, 7)\n"
          ]
        }
      ]
    },
    {
      "cell_type": "code",
      "metadata": {
        "colab": {
          "base_uri": "https://localhost:8080/"
        },
        "id": "dXaW3L_Poi1T",
        "outputId": "2f16bb30-ce77-4f5c-9c2b-dc68f215bda2"
      },
      "source": [
        "AMZGames_DF['userId']  #.unique()\n",
        "\n",
        "n = 5550  #num_of_interaction/no_steps\n",
        "all_df = []\n",
        "for g, df in remainder_df.groupby(np.arange(len(remainder_df)) // n):\n",
        "    all_df.append(df)\n",
        "    print(df['userId'].nunique())\n",
        "print()\n",
        "print(g+1)    "
      ],
      "execution_count": 13,
      "outputs": [
        {
          "output_type": "stream",
          "name": "stdout",
          "text": [
            "2255\n2215\n2236\n2293\n2336\n2362\n2176\n2225\n2239\n2408\n2346\n2259\n2275\n2290\n2374\n2311\n2228\n2269\n2330\n2302\n2297\n2294\n2232\n\n23\n"
          ]
        }
      ]
    },
    {
      "cell_type": "code",
      "metadata": {
        "id": "3gAygjGd8NFK",
        "colab": {
          "base_uri": "https://localhost:8080/"
        },
        "outputId": "d0fe0920-f0e8-42ab-d76b-b73d9d2587f1"
      },
      "source": [
        "A0_df = train_df  \n",
        "print(\"Initial Training Data: \") \n",
        "print(\"Start Time: \",A0_df['timestamp'].min())\n",
        "print(\"End Time:   \",A0_df['timestamp'].max())\n",
        "print()\n",
        "print(\"Num of interactions: \",A0_df.shape[0])\n",
        "print(\"Num of uniqueUsers:  \",A0_df['userId'].nunique())"
      ],
      "execution_count": 14,
      "outputs": [
        {
          "output_type": "stream",
          "name": "stdout",
          "text": [
            "Initial Training Data: \nStart Time:  1999-10-14 00:00:00\nEnd Time:    2015-05-31 00:00:00\n\nNum of interactions:  217772\nNum of uniqueUsers:   30238\n"
          ]
        }
      ]
    },
    {
      "cell_type": "code",
      "metadata": {
        "id": "FSvG81Gs8NFL",
        "colab": {
          "base_uri": "https://localhost:8080/"
        },
        "outputId": "34810b13-31db-453f-d905-ff562b49988a"
      },
      "source": [
        "ΔA_train = all_df[:8] \n",
        "print(\"Incremental Train steps: \",len(ΔA_train))\n",
        "print(\"Start Time: \",ΔA_train[0]['timestamp'].min())\n",
        "print(\"End Time:   \",ΔA_train[-1]['timestamp'].max())"
      ],
      "execution_count": 15,
      "outputs": [
        {
          "output_type": "stream",
          "name": "stdout",
          "text": [
            "Incremental Train steps:  8\nStart Time:  2015-06-01 00:00:00\nEnd Time:    2016-02-14 00:00:00\n"
          ]
        }
      ]
    },
    {
      "cell_type": "code",
      "metadata": {
        "id": "2V6tLApz8NFM",
        "colab": {
          "base_uri": "https://localhost:8080/"
        },
        "outputId": "6ca6a446-a827-4962-eb39-00f9015b8dc1"
      },
      "source": [
        "ΔA_test = all_df[8:] \n",
        "print(\"Incremental Test steps: \",len(ΔA_test))\n",
        "print(\"Start Time: \",ΔA_test[0]['timestamp'].min())\n",
        "print(\"End Time:   \",ΔA_test[-1]['timestamp'].max())"
      ],
      "execution_count": 16,
      "outputs": [
        {
          "output_type": "stream",
          "name": "stdout",
          "text": [
            "Incremental Test steps:  15\nStart Time:  2016-02-14 00:00:00\nEnd Time:    2018-10-02 00:00:00\n"
          ]
        }
      ]
    },
    {
      "cell_type": "code",
      "metadata": {
        "id": "O_HSp4Ax8NFN",
        "colab": {
          "base_uri": "https://localhost:8080/"
        },
        "outputId": "51343ee1-5b30-4996-c8d3-f39f04f2507b"
      },
      "source": [
        "ΔA_test[0]['timestamp'].max()"
      ],
      "execution_count": 17,
      "outputs": [
        {
          "output_type": "execute_result",
          "data": {
            "text/plain": [
              "Timestamp('2016-03-13 00:00:00')"
            ]
          },
          "metadata": {},
          "execution_count": 17
        }
      ]
    },
    {
      "cell_type": "code",
      "metadata": {
        "id": "vundWwyU8NFR"
      },
      "source": [],
      "execution_count": null,
      "outputs": []
    },
    {
      "cell_type": "code",
      "metadata": {
        "id": "baVjA5xh8NFT",
        "colab": {
          "base_uri": "https://localhost:8080/"
        },
        "outputId": "ba75e020-c052-4813-9c2f-8ba4fdc38e8b"
      },
      "source": [
        "AllDF_list, PSITest_list, HOLDOUT_list,UserItemDF_list = TestTrain_DataSplit(AMZGames_DF,'userId','timestamp',ΔA_test)\n",
        "print(AllDF_list[1]['timestamp'].min())\n",
        "print(AllDF_list[1]['timestamp'].max())\n",
        "print()\n",
        "print(ΔA_test[1]['timestamp'].min())\n",
        "print(ΔA_test[1]['timestamp'].max())"
      ],
      "execution_count": 18,
      "outputs": [
        {
          "output_type": "stream",
          "name": "stdout",
          "text": [
            "1999-10-14 00:00:00\n2016-04-19 00:00:00\n\n2016-03-13 00:00:00\n2016-04-19 00:00:00\n"
          ]
        }
      ]
    },
    {
      "cell_type": "code",
      "metadata": {
        "id": "FXqq0BEw8NFW",
        "colab": {
          "base_uri": "https://localhost:8080/"
        },
        "outputId": "f8dd9d41-dcf4-474c-961e-0b08de376edb"
      },
      "source": [
        "for i in range(10):\n",
        "    print(AllDF_list[i]['userId'].max(),AllDF_list[i]['userId'].nunique())"
      ],
      "execution_count": 19,
      "outputs": [
        {
          "output_type": "stream",
          "name": "stdout",
          "text": [
            "34705 34706\n35124 35125\n35482 35483\n35886 35887\n36314 36315\n36662 36663\n37003 37004\n37346 37347\n37698 37699\n38004 38005\n"
          ]
        }
      ]
    },
    {
      "cell_type": "code",
      "metadata": {
        "colab": {
          "base_uri": "https://localhost:8080/"
        },
        "id": "IFIEfHbaGkcJ",
        "outputId": "7e9572c5-feeb-47f2-f194-80a2966da28d"
      },
      "source": [
        "print(AllDF_list[0].shape)\n",
        "print(UserItemDF_list[0].shape)\n",
        "print(HOLDOUT_list[0].shape)"
      ],
      "execution_count": 20,
      "outputs": [
        {
          "output_type": "stream",
          "name": "stdout",
          "text": [
            "(267723, 7)\n(265446, 7)\n(2239, 7)\n"
          ]
        }
      ]
    },
    {
      "cell_type": "markdown",
      "metadata": {
        "id": "dzWCij3ZipQX"
      },
      "source": [
        "### Find new users and items"
      ]
    },
    {
      "cell_type": "code",
      "metadata": {
        "colab": {
          "base_uri": "https://localhost:8080/"
        },
        "id": "L-GolZfZipQZ",
        "outputId": "1f3541b6-581f-444b-a8f3-417bd6d2d0b3"
      },
      "source": [
        "Tstps = AMZGames_DF['timestamp']\n",
        "tr_ts = ΔA_train[-1]['timestamp'].max()\n",
        "print(\"ΔA_train_last max date: \",tr_ts)\n",
        "AllDF_start = AMZGames_DF.loc[Tstps <= tr_ts] \n",
        "print(AllDF_start['timestamp'].min())\n",
        "print(AllDF_start['timestamp'].max())\n",
        "print()\n",
        "print(AllDF_list[0]['timestamp'].min())\n",
        "print(AllDF_list[0]['timestamp'].max())"
      ],
      "execution_count": 21,
      "outputs": [
        {
          "output_type": "stream",
          "name": "stdout",
          "text": [
            "ΔA_train_last max date:  2016-02-14 00:00:00\n1999-10-14 00:00:00\n2016-02-14 00:00:00\n\n1999-10-14 00:00:00\n2016-03-13 00:00:00\n"
          ]
        }
      ]
    },
    {
      "cell_type": "code",
      "metadata": {
        "colab": {
          "base_uri": "https://localhost:8080/"
        },
        "id": "GfgYKuugA3lO",
        "outputId": "d79bacef-98fb-4b32-c7d7-1c5036a0ee26"
      },
      "source": [
        "New_usersList,New_itemsList = Find_NewUsersItems(AllDF_start,AllDF_list,'userId','productId',N_steps=15)\n",
        "print(New_usersList[0][:10]) #\n",
        "print()\n",
        "print(New_itemsList[0][:10]) #"
      ],
      "execution_count": 22,
      "outputs": [
        {
          "output_type": "stream",
          "name": "stdout",
          "text": [
            "[34250 34251 34252 34253 34254 34255 34256 34257 34258 34259]\n\n[16034 16035 16036 16037 16038 16039 16040 16041 16042 16043]\n"
          ]
        }
      ]
    },
    {
      "cell_type": "code",
      "metadata": {
        "colab": {
          "base_uri": "https://localhost:8080/"
        },
        "id": "KXIsxxPnjhx2",
        "outputId": "60220945-78b0-41ed-909e-a2c1fa19239f"
      },
      "source": [
        "print(\"users,Items\")\n",
        "for i,j in zip(New_usersList,New_itemsList):\n",
        "    print(i.size,j.size)\n",
        "    print()\n",
        "    "
      ],
      "execution_count": 23,
      "outputs": [
        {
          "output_type": "stream",
          "name": "stdout",
          "text": [
            "users,Items\n456 175\n\n419 157\n\n358 147\n\n404 137\n\n428 113\n\n348 112\n\n341 160\n\n343 67\n\n352 40\n\n306 48\n\n272 31\n\n268 34\n\n295 33\n\n260 14\n\n184 18\n\n"
          ]
        }
      ]
    },
    {
      "cell_type": "code",
      "metadata": {
        "id": "1ykECNc7G4GL"
      },
      "source": [],
      "execution_count": null,
      "outputs": []
    },
    {
      "cell_type": "markdown",
      "metadata": {
        "id": "gk_I6-j-nqwZ"
      },
      "source": [
        "## Incre Update"
      ]
    },
    {
      "cell_type": "markdown",
      "metadata": {
        "id": "n_XyE7otUxey"
      },
      "source": [
        "###Get Updt RatMat"
      ]
    },
    {
      "cell_type": "code",
      "metadata": {
        "colab": {
          "base_uri": "https://localhost:8080/"
        },
        "id": "-S_Ti3jIVmL7",
        "outputId": "0b22810a-aa5c-4cb3-dd8e-4f0cf3ad1028"
      },
      "source": [
        "rows_i = AllDF_start['userId'].nunique()\n",
        "cols_i = AllDF_start['productId'].nunique()\n",
        "print(A0_df.shape)\n",
        "A0_RatMat_updt = SingleRatingMatrix(A0_df,'userId', 'productId',rows_i,cols_i)\n",
        "A0_RatMat_updt"
      ],
      "execution_count": 24,
      "outputs": [
        {
          "output_type": "stream",
          "name": "stdout",
          "text": [
            "(217772, 7)\n"
          ]
        },
        {
          "output_type": "execute_result",
          "data": {
            "text/plain": [
              "<34250x16034 sparse matrix of type '<class 'numpy.float64'>'\n",
              "\twith 203890 stored elements in Compressed Sparse Row format>"
            ]
          },
          "metadata": {},
          "execution_count": 24
        }
      ]
    },
    {
      "cell_type": "code",
      "metadata": {
        "colab": {
          "base_uri": "https://localhost:8080/"
        },
        "id": "9bSWovTNVmMX",
        "outputId": "3f8e65c4-cfee-4ef7-e409-d908d20c361d"
      },
      "source": [
        "PSI_TrainMat_updt = AllRatingMatrices(ΔA_train,'userId','productId',rows_i ,cols_i)\n",
        "PSI_TrainMat_updt"
      ],
      "execution_count": 25,
      "outputs": [
        {
          "output_type": "execute_result",
          "data": {
            "text/plain": [
              "[<34250x16034 sparse matrix of type '<class 'numpy.float64'>'\n",
              " \twith 5390 stored elements in Compressed Sparse Row format>,\n",
              " <34250x16034 sparse matrix of type '<class 'numpy.float64'>'\n",
              " \twith 5394 stored elements in Compressed Sparse Row format>,\n",
              " <34250x16034 sparse matrix of type '<class 'numpy.float64'>'\n",
              " \twith 5404 stored elements in Compressed Sparse Row format>,\n",
              " <34250x16034 sparse matrix of type '<class 'numpy.float64'>'\n",
              " \twith 5391 stored elements in Compressed Sparse Row format>,\n",
              " <34250x16034 sparse matrix of type '<class 'numpy.float64'>'\n",
              " \twith 5440 stored elements in Compressed Sparse Row format>,\n",
              " <34250x16034 sparse matrix of type '<class 'numpy.float64'>'\n",
              " \twith 5436 stored elements in Compressed Sparse Row format>,\n",
              " <34250x16034 sparse matrix of type '<class 'numpy.float64'>'\n",
              " \twith 5439 stored elements in Compressed Sparse Row format>,\n",
              " <34250x16034 sparse matrix of type '<class 'numpy.float64'>'\n",
              " \twith 5431 stored elements in Compressed Sparse Row format>]"
            ]
          },
          "metadata": {},
          "execution_count": 25
        }
      ]
    },
    {
      "cell_type": "code",
      "metadata": {
        "id": "X9B1wEG8YUQa"
      },
      "source": [],
      "execution_count": null,
      "outputs": []
    },
    {
      "cell_type": "markdown",
      "metadata": {
        "id": "A0k3BxpQCEDK"
      },
      "source": [
        "### Allsteps Update"
      ]
    },
    {
      "cell_type": "code",
      "metadata": {
        "id": "RrhIaattvMvN"
      },
      "source": [
        "# rows_i = AllDF_start['userId'].nunique()\n",
        "# cols_i = AllDF_start['productId'].nunique()\n",
        "# print(AllDF_start.shape)\n",
        "# AllDF_startRatMat = SingleRatingMatrix(AllDF_start,'userId', 'productId',rows_i,cols_i)\n",
        "\n",
        "# U_start,S_start,V_start = svds(AllDF_startRatMat,k=50)\n",
        "# V_start = V_start.T\n",
        "# print()\n",
        "# print(\"U_start shape: \",U_start.shape)\n",
        "# print(\"S_start shape: \",S_start.shape)\n",
        "# print(\"V_start shape: \",V_start.shape)"
      ],
      "execution_count": null,
      "outputs": []
    },
    {
      "cell_type": "code",
      "metadata": {
        "id": "3cEAR8lWvMv0"
      },
      "source": [],
      "execution_count": null,
      "outputs": []
    },
    {
      "cell_type": "code",
      "metadata": {
        "colab": {
          "base_uri": "https://localhost:8080/"
        },
        "id": "gZKKzIA4UPAt",
        "outputId": "f57f7b39-1177-433a-fff5-80705e3609d5"
      },
      "source": [
        "U_start,S_start,V_start = last_psiTrainMat(A0_RatMat_updt,PSI_TrainMat_updt,k=80)\n",
        "print()\n",
        "print(\"U_start shape: \",U_start.shape)\n",
        "print(\"S_start shape: \",S_start.shape)\n",
        "print(\"V_start shape: \",V_start.shape)"
      ],
      "execution_count": 26,
      "outputs": [
        {
          "output_type": "stream",
          "name": "stderr",
          "text": [
            "100%|██████████| 8/8 [00:00<00:00,  9.57it/s]\n",
            "U_start shape:  (34250, 80)\n",
            "S_start shape:  (80, 80)\n",
            "V_start shape:  (16034, 80)\n",
            "\n"
          ]
        }
      ]
    },
    {
      "cell_type": "code",
      "metadata": {
        "colab": {
          "base_uri": "https://localhost:8080/"
        },
        "id": "1c2frghJa9qQ",
        "outputId": "8a41a965-a1f4-4aa5-d5ff-7d075bb3f3cd"
      },
      "source": [
        "U_list,S_list,V_list = [],[],[]\n",
        "U_list.append(U_start)\n",
        "S_list.append(S_start)\n",
        "V_list.append(V_start)\n",
        "print(len(U_list),len(V_list))"
      ],
      "execution_count": 27,
      "outputs": [
        {
          "output_type": "stream",
          "name": "stdout",
          "text": [
            "1 1\n"
          ]
        }
      ]
    },
    {
      "cell_type": "code",
      "metadata": {
        "id": "GBY5SEHx8NFk",
        "colab": {
          "base_uri": "https://localhost:8080/"
        },
        "outputId": "892c53e1-aed5-4993-aded-5a0d122fde87"
      },
      "source": [
        "DItems_, DUsers_,In_DomainUSERS,In_DomainITEMS,userID_dict,itemID_dict,AllUpdtUSERS_,AllUpdtITEMS_,U_list,S_list,V_list = ALLSTEPs_UPDATE(AllDF_start,UserItemDF_list,New_itemsList,New_usersList,U_list,S_list,V_list,'userId','productId',Nsteps=15,k=80,Forced_Orth=False)"
      ],
      "execution_count": 28,
      "outputs": [
        {
          "output_type": "stream",
          "name": "stderr",
          "text": [
            "100%|██████████| 14/14 [03:22<00:00, 14.44s/it]\n"
          ]
        }
      ]
    },
    {
      "cell_type": "code",
      "metadata": {
        "id": "rdX0nPyQz1LO"
      },
      "source": [],
      "execution_count": null,
      "outputs": []
    },
    {
      "cell_type": "markdown",
      "metadata": {
        "id": "H9o1U4E-zttV"
      },
      "source": [
        "### Output Check"
      ]
    },
    {
      "cell_type": "code",
      "metadata": {
        "id": "d92VJcjh8NFn",
        "colab": {
          "base_uri": "https://localhost:8080/"
        },
        "outputId": "52ca2cc0-f19c-45ff-8ffd-bcc6bb87e6c6"
      },
      "source": [
        "print(AllDF_start['productId'].max())\n",
        "print(AllDF_start['userId'].max())"
      ],
      "execution_count": 29,
      "outputs": [
        {
          "output_type": "stream",
          "name": "stdout",
          "text": [
            "16033\n34249\n"
          ]
        }
      ]
    },
    {
      "cell_type": "code",
      "metadata": {
        "colab": {
          "base_uri": "https://localhost:8080/"
        },
        "id": "0J4Qrzf9OvVN",
        "outputId": "94a86177-552b-4d22-f64f-3e051a96598b"
      },
      "source": [
        "print(len(In_DomainITEMS[16033+1:]))\n",
        "print(In_DomainITEMS[16033+1:][:10])\n",
        "print()\n",
        "print(len(In_DomainUSERS[34249+1:]))\n",
        "print(In_DomainUSERS[34249+1:][:10])"
      ],
      "execution_count": 30,
      "outputs": [
        {
          "output_type": "stream",
          "name": "stdout",
          "text": [
            "1284\n[16034, 16035, 16037, 16039, 16040, 16044, 16046, 16047, 16048, 16049]\n\n5034\n[34251, 34252, 34253, 34254, 34255, 34256, 34257, 34258, 34259, 34260]\n"
          ]
        }
      ]
    },
    {
      "cell_type": "code",
      "metadata": {
        "colab": {
          "base_uri": "https://localhost:8080/"
        },
        "id": "5vpSt3xLOvVU",
        "outputId": "0353f327-32e6-425b-8e1c-1b7962883277"
      },
      "source": [
        "#deferred items and users\n",
        "print(len(DItems_))\n",
        "print(DItems_[:10])\n",
        "print()\n",
        "print(len(DUsers_))\n",
        "print(DUsers_[:10])"
      ],
      "execution_count": 31,
      "outputs": [
        {
          "output_type": "stream",
          "name": "stdout",
          "text": [
            "2\n[17312, 17317]\n\n0\n[]\n"
          ]
        }
      ]
    },
    {
      "cell_type": "code",
      "metadata": {
        "colab": {
          "base_uri": "https://localhost:8080/"
        },
        "id": "fYRgZGwlOvVW",
        "tags": [],
        "outputId": "c280e5d4-f663-4712-caf2-5fe163182f5b"
      },
      "source": [
        "for x in list(itemID_dict)[16033+1:][:100]:\n",
        "    print (\"Id: {}, UpdtId: {} \".format(x,  itemID_dict[x]))   ##id ==key || updtedid == values  ,itemID_dict"
      ],
      "execution_count": 32,
      "outputs": [
        {
          "output_type": "stream",
          "name": "stdout",
          "text": [
            "Id: 16034, UpdtId: 16034 \nId: 16035, UpdtId: 16035 \nId: 16037, UpdtId: 16036 \nId: 16039, UpdtId: 16037 \nId: 16040, UpdtId: 16038 \nId: 16044, UpdtId: 16039 \nId: 16046, UpdtId: 16040 \nId: 16047, UpdtId: 16041 \nId: 16048, UpdtId: 16042 \nId: 16049, UpdtId: 16043 \nId: 16050, UpdtId: 16044 \nId: 16051, UpdtId: 16045 \nId: 16052, UpdtId: 16046 \nId: 16054, UpdtId: 16047 \nId: 16055, UpdtId: 16048 \nId: 16056, UpdtId: 16049 \nId: 16058, UpdtId: 16050 \nId: 16061, UpdtId: 16051 \nId: 16062, UpdtId: 16052 \nId: 16065, UpdtId: 16053 \nId: 16067, UpdtId: 16054 \nId: 16068, UpdtId: 16055 \nId: 16069, UpdtId: 16056 \nId: 16070, UpdtId: 16057 \nId: 16072, UpdtId: 16058 \nId: 16073, UpdtId: 16059 \nId: 16074, UpdtId: 16060 \nId: 16075, UpdtId: 16061 \nId: 16076, UpdtId: 16062 \nId: 16077, UpdtId: 16063 \nId: 16078, UpdtId: 16064 \nId: 16079, UpdtId: 16065 \nId: 16080, UpdtId: 16066 \nId: 16082, UpdtId: 16067 \nId: 16083, UpdtId: 16068 \nId: 16085, UpdtId: 16069 \nId: 16087, UpdtId: 16070 \nId: 16089, UpdtId: 16071 \nId: 16090, UpdtId: 16072 \nId: 16092, UpdtId: 16073 \nId: 16093, UpdtId: 16074 \nId: 16097, UpdtId: 16075 \nId: 16099, UpdtId: 16076 \nId: 16100, UpdtId: 16077 \nId: 16105, UpdtId: 16078 \nId: 16106, UpdtId: 16079 \nId: 16109, UpdtId: 16080 \nId: 16111, UpdtId: 16081 \nId: 16112, UpdtId: 16082 \nId: 16114, UpdtId: 16083 \nId: 16115, UpdtId: 16084 \nId: 16116, UpdtId: 16085 \nId: 16117, UpdtId: 16086 \nId: 16131, UpdtId: 16087 \nId: 16136, UpdtId: 16088 \nId: 16140, UpdtId: 16089 \nId: 16142, UpdtId: 16090 \nId: 16144, UpdtId: 16091 \nId: 16145, UpdtId: 16092 \nId: 16148, UpdtId: 16093 \nId: 16149, UpdtId: 16094 \nId: 16150, UpdtId: 16095 \nId: 16152, UpdtId: 16096 \nId: 16153, UpdtId: 16097 \nId: 16157, UpdtId: 16098 \nId: 16158, UpdtId: 16099 \nId: 16160, UpdtId: 16100 \nId: 16161, UpdtId: 16101 \nId: 16162, UpdtId: 16102 \nId: 16165, UpdtId: 16103 \nId: 16167, UpdtId: 16104 \nId: 16173, UpdtId: 16105 \nId: 16176, UpdtId: 16106 \nId: 16177, UpdtId: 16107 \nId: 16178, UpdtId: 16108 \nId: 16182, UpdtId: 16109 \nId: 16183, UpdtId: 16110 \nId: 16185, UpdtId: 16111 \nId: 16187, UpdtId: 16112 \nId: 16191, UpdtId: 16113 \nId: 16192, UpdtId: 16114 \nId: 16194, UpdtId: 16115 \nId: 16196, UpdtId: 16116 \nId: 16200, UpdtId: 16117 \nId: 16201, UpdtId: 16118 \nId: 16205, UpdtId: 16119 \nId: 16208, UpdtId: 16120 \nId: 16036, UpdtId: 16121 \nId: 16038, UpdtId: 16122 \nId: 16041, UpdtId: 16123 \nId: 16063, UpdtId: 16124 \nId: 16064, UpdtId: 16125 \nId: 16091, UpdtId: 16126 \nId: 16096, UpdtId: 16127 \nId: 16098, UpdtId: 16128 \nId: 16108, UpdtId: 16129 \nId: 16118, UpdtId: 16130 \nId: 16126, UpdtId: 16131 \nId: 16133, UpdtId: 16132 \nId: 16137, UpdtId: 16133 \n"
          ]
        }
      ]
    },
    {
      "cell_type": "code",
      "metadata": {
        "colab": {
          "base_uri": "https://localhost:8080/"
        },
        "id": "XP6aaq1qOvVY",
        "tags": [],
        "outputId": "bd90209f-b096-427f-e074-4ec29c89af50"
      },
      "source": [
        "for x in list(userID_dict)[34249:][:100]:\n",
        "    print (\"Id: {}, UpdtId: {} \".format(x,  userID_dict[x]))   ##id ==key || updtedid == values "
      ],
      "execution_count": 33,
      "outputs": [
        {
          "output_type": "stream",
          "name": "stdout",
          "text": [
            "Id: 34249, UpdtId: 34249 \nId: 34251, UpdtId: 34250 \nId: 34252, UpdtId: 34251 \nId: 34253, UpdtId: 34252 \nId: 34254, UpdtId: 34253 \nId: 34255, UpdtId: 34254 \nId: 34256, UpdtId: 34255 \nId: 34257, UpdtId: 34256 \nId: 34258, UpdtId: 34257 \nId: 34259, UpdtId: 34258 \nId: 34260, UpdtId: 34259 \nId: 34261, UpdtId: 34260 \nId: 34263, UpdtId: 34261 \nId: 34266, UpdtId: 34262 \nId: 34267, UpdtId: 34263 \nId: 34268, UpdtId: 34264 \nId: 34269, UpdtId: 34265 \nId: 34270, UpdtId: 34266 \nId: 34271, UpdtId: 34267 \nId: 34272, UpdtId: 34268 \nId: 34273, UpdtId: 34269 \nId: 34274, UpdtId: 34270 \nId: 34275, UpdtId: 34271 \nId: 34276, UpdtId: 34272 \nId: 34277, UpdtId: 34273 \nId: 34280, UpdtId: 34274 \nId: 34282, UpdtId: 34275 \nId: 34283, UpdtId: 34276 \nId: 34284, UpdtId: 34277 \nId: 34285, UpdtId: 34278 \nId: 34286, UpdtId: 34279 \nId: 34287, UpdtId: 34280 \nId: 34288, UpdtId: 34281 \nId: 34289, UpdtId: 34282 \nId: 34291, UpdtId: 34283 \nId: 34292, UpdtId: 34284 \nId: 34294, UpdtId: 34285 \nId: 34295, UpdtId: 34286 \nId: 34300, UpdtId: 34287 \nId: 34302, UpdtId: 34288 \nId: 34303, UpdtId: 34289 \nId: 34304, UpdtId: 34290 \nId: 34305, UpdtId: 34291 \nId: 34306, UpdtId: 34292 \nId: 34307, UpdtId: 34293 \nId: 34308, UpdtId: 34294 \nId: 34309, UpdtId: 34295 \nId: 34310, UpdtId: 34296 \nId: 34311, UpdtId: 34297 \nId: 34315, UpdtId: 34298 \nId: 34316, UpdtId: 34299 \nId: 34317, UpdtId: 34300 \nId: 34318, UpdtId: 34301 \nId: 34319, UpdtId: 34302 \nId: 34320, UpdtId: 34303 \nId: 34321, UpdtId: 34304 \nId: 34322, UpdtId: 34305 \nId: 34330, UpdtId: 34306 \nId: 34331, UpdtId: 34307 \nId: 34332, UpdtId: 34308 \nId: 34333, UpdtId: 34309 \nId: 34334, UpdtId: 34310 \nId: 34335, UpdtId: 34311 \nId: 34336, UpdtId: 34312 \nId: 34337, UpdtId: 34313 \nId: 34338, UpdtId: 34314 \nId: 34339, UpdtId: 34315 \nId: 34340, UpdtId: 34316 \nId: 34342, UpdtId: 34317 \nId: 34343, UpdtId: 34318 \nId: 34344, UpdtId: 34319 \nId: 34346, UpdtId: 34320 \nId: 34347, UpdtId: 34321 \nId: 34349, UpdtId: 34322 \nId: 34350, UpdtId: 34323 \nId: 34351, UpdtId: 34324 \nId: 34352, UpdtId: 34325 \nId: 34356, UpdtId: 34326 \nId: 34357, UpdtId: 34327 \nId: 34359, UpdtId: 34328 \nId: 34361, UpdtId: 34329 \nId: 34362, UpdtId: 34330 \nId: 34363, UpdtId: 34331 \nId: 34364, UpdtId: 34332 \nId: 34366, UpdtId: 34333 \nId: 34367, UpdtId: 34334 \nId: 34369, UpdtId: 34335 \nId: 34370, UpdtId: 34336 \nId: 34371, UpdtId: 34337 \nId: 34372, UpdtId: 34338 \nId: 34373, UpdtId: 34339 \nId: 34376, UpdtId: 34340 \nId: 34379, UpdtId: 34341 \nId: 34382, UpdtId: 34342 \nId: 34383, UpdtId: 34343 \nId: 34384, UpdtId: 34344 \nId: 34385, UpdtId: 34345 \nId: 34386, UpdtId: 34346 \nId: 34388, UpdtId: 34347 \nId: 34389, UpdtId: 34348 \n"
          ]
        }
      ]
    },
    {
      "cell_type": "code",
      "metadata": {
        "colab": {
          "base_uri": "https://localhost:8080/"
        },
        "id": "9hrMshBYOvVa",
        "outputId": "58c73af5-e3d4-4a22-e524-1b262903f78d"
      },
      "source": [
        "print(len(U_list),len(V_list))\n",
        "print(U_list[0].shape,V_list[0].shape)\n",
        "print()\n",
        "for u,v in zip(U_list[1:],V_list[1:]):\n",
        "    print(u.shape,v.shape)   "
      ],
      "execution_count": 34,
      "outputs": [
        {
          "output_type": "stream",
          "name": "stdout",
          "text": [
            "16 16\n(34250, 80) (16034, 80)\n\n(34576, 80) (16139, 80)\n(35003, 80) (16295, 80)\n(35393, 80) (16441, 80)\n(35799, 80) (16570, 80)\n(36209, 80) (16706, 80)\n(36585, 80) (16820, 80)\n(36929, 80) (16968, 80)\n(37279, 80) (17072, 80)\n(37644, 80) (17119, 80)\n(37952, 80) (17162, 80)\n(38235, 80) (17201, 80)\n(38518, 80) (17235, 80)\n(38811, 80) (17271, 80)\n(39089, 80) (17293, 80)\n(39284, 80) (17318, 80)\n"
          ]
        }
      ]
    },
    {
      "cell_type": "code",
      "metadata": {
        "colab": {
          "base_uri": "https://localhost:8080/"
        },
        "id": "xOQC6r84_ju1",
        "outputId": "687e7c0a-2ca0-4667-bb8e-9f86de99ffc6"
      },
      "source": [
        "for i,j in zip(AllUpdtUSERS_,AllUpdtITEMS_):\n",
        "    print(len(i),len(j))"
      ],
      "execution_count": 35,
      "outputs": [
        {
          "output_type": "stream",
          "name": "stdout",
          "text": [
            "34576 16139\n35003 16295\n35393 16441\n35799 16570\n36209 16706\n36585 16820\n36929 16968\n37279 17072\n37644 17119\n37952 17162\n38235 17201\n38518 17235\n38811 17271\n39089 17293\n39284 17318\n"
          ]
        }
      ]
    },
    {
      "cell_type": "code",
      "metadata": {
        "colab": {
          "base_uri": "https://localhost:8080/"
        },
        "id": "AMjo4AbxOvVc",
        "outputId": "553f733f-70f8-451f-84f4-ed7c5da4420d"
      },
      "source": [
        "print(len(In_DomainUSERS),len(In_DomainITEMS))\n",
        "print(AMZGames_DF['userId'].nunique(),AMZGames_DF['productId'].nunique())"
      ],
      "execution_count": 36,
      "outputs": [
        {
          "output_type": "stream",
          "name": "stdout",
          "text": [
            "39284 17318\n39284 17320\n"
          ]
        }
      ]
    },
    {
      "cell_type": "markdown",
      "metadata": {
        "id": "nNpsng5z8doR"
      },
      "source": [
        "Data Adjustments"
      ]
    },
    {
      "cell_type": "markdown",
      "metadata": {
        "id": "U8YcpbXKpAMG"
      },
      "source": [
        "### Data Adjustment"
      ]
    },
    {
      "cell_type": "code",
      "metadata": {
        "id": "beVvlDTN8NFx",
        "colab": {
          "base_uri": "https://localhost:8080/"
        },
        "outputId": "8f5e802e-bb84-4e7f-a17c-46262f72a431"
      },
      "source": [
        "len(AllUpdtITEMS_)"
      ],
      "execution_count": 37,
      "outputs": [
        {
          "output_type": "execute_result",
          "data": {
            "text/plain": [
              "15"
            ]
          },
          "metadata": {},
          "execution_count": 37
        }
      ]
    },
    {
      "cell_type": "code",
      "metadata": {
        "id": "DDU62aYf8NF0",
        "colab": {
          "base_uri": "https://localhost:8080/"
        },
        "outputId": "ddad99b4-3954-4aab-a9f2-b9794918e868"
      },
      "source": [
        "\n",
        "newHOLDOUT_LIST = get_NEWHoldout(HOLDOUT_list,userID_dict,itemID_dict,AllUpdtUSERS_,AllUpdtITEMS_,'userId','productId')\n",
        "print(len(newHOLDOUT_LIST))\n",
        "print()\n",
        "for old,new in zip(HOLDOUT_list,newHOLDOUT_LIST):\n",
        "    print(old.shape[0],new.shape[0])"
      ],
      "execution_count": 38,
      "outputs": [
        {
          "output_type": "stream",
          "name": "stderr",
          "text": [
            "15it [00:00, 58.42it/s]15\n",
            "\n",
            "2239 2018\n",
            "2408 2200\n",
            "2346 2172\n",
            "2259 2079\n",
            "2275 2089\n",
            "2290 2120\n",
            "2374 2217\n",
            "2311 2207\n",
            "2228 2133\n",
            "2269 2171\n",
            "2330 2261\n",
            "2302 2246\n",
            "2297 2196\n",
            "2294 2269\n",
            "2232 2222\n",
            "\n"
          ]
        }
      ]
    },
    {
      "cell_type": "code",
      "metadata": {
        "id": "oqs2gnUq8NF1",
        "colab": {
          "base_uri": "https://localhost:8080/"
        },
        "outputId": "605d3c8a-2b69-4321-e4a8-2dbab62571aa"
      },
      "source": [
        "newUserItem_list = adjustedAllDF(UserItemDF_list,userID_dict,itemID_dict,AllUpdtUSERS_,AllUpdtITEMS_,'userId','productId')\n",
        "print()\n",
        "for df in newUserItem_list:\n",
        "    print(df['Updated_UserID'].max(),df['Updated_ItemID'].max())"
      ],
      "execution_count": 39,
      "outputs": [
        {
          "output_type": "stream",
          "name": "stderr",
          "text": [
            "15it [00:06,  2.33it/s]\n",
            "34575 16138\n",
            "35002 16294\n",
            "35392 16440\n",
            "35798 16569\n",
            "36208 16705\n",
            "36584 16819\n",
            "36928 16967\n",
            "37278 17071\n",
            "37643 17118\n",
            "37951 17161\n",
            "38234 17200\n",
            "38517 17234\n",
            "38810 17270\n",
            "39088 17292\n",
            "39283 17317\n",
            "\n"
          ]
        }
      ]
    },
    {
      "cell_type": "code",
      "metadata": {
        "id": "FHJylUYj8NF3",
        "colab": {
          "base_uri": "https://localhost:8080/"
        },
        "outputId": "c521557e-78b4-4f18-d96d-23d044a334d4"
      },
      "source": [
        "new_PSIDFlist = adjustedPSI_DF(PSITest_list,userID_dict,itemID_dict,AllUpdtUSERS_,AllUpdtITEMS_,'userId','productId')\n",
        "for old,new in zip(PSITest_list,new_PSIDFlist):\n",
        "    print(old.shape[0],new.shape[0])"
      ],
      "execution_count": 40,
      "outputs": [
        {
          "output_type": "stream",
          "name": "stderr",
          "text": [
            "15it [00:00, 53.45it/s]3311 3310\n",
            "3142 3140\n",
            "3204 3204\n",
            "3291 3291\n",
            "3275 3275\n",
            "3260 3260\n",
            "3176 3175\n",
            "3239 3238\n",
            "3322 3321\n",
            "3281 3280\n",
            "3220 3220\n",
            "3248 3248\n",
            "3253 3252\n",
            "3256 3256\n",
            "3109 3109\n",
            "\n"
          ]
        }
      ]
    },
    {
      "cell_type": "code",
      "metadata": {
        "id": "injTPfoD8NF3",
        "colab": {
          "base_uri": "https://localhost:8080/"
        },
        "outputId": "bce70823-2c33-4a4c-ebd0-cf7a9776f461"
      },
      "source": [
        "newAMZGames_DF = ADJUST_mainDF(AMZGames_DF,userID_dict,itemID_dict,AllUpdtUSERS_,AllUpdtITEMS_,'userId','productId')\n",
        "print(newAMZGames_DF.shape)\n",
        "print(newAMZGames_DF['userId'].max(),newAMZGames_DF['productId'].max())\n",
        "print(newAMZGames_DF['userId'].nunique(),newAMZGames_DF['productId'].nunique())\n",
        "print()\n",
        "print(newAMZGames_DF['Updated_UserID'].max(),newAMZGames_DF['Updated_ItemID'].max())\n",
        "print(newAMZGames_DF['Updated_UserID'].nunique(),newAMZGames_DF['Updated_ItemID'].nunique())\n",
        "#newAMZB_DF.head()"
      ],
      "execution_count": 41,
      "outputs": [
        {
          "output_type": "stream",
          "name": "stdout",
          "text": [
            "(345203, 9)\n39283 17319\n39284 17318\n\n39283 17317\n39284 17318\n"
          ]
        }
      ]
    },
    {
      "cell_type": "code",
      "metadata": {
        "id": "cB4Q1VO18NF5"
      },
      "source": [],
      "execution_count": null,
      "outputs": []
    },
    {
      "cell_type": "code",
      "metadata": {
        "id": "rvb8bp_j8NF5"
      },
      "source": [
        "with open('AMZGames_newUserItem.pkl', 'wb') as f:\n",
        "     pickle.dump(newUserItem_list, f)\n",
        "\n",
        "with open('AMZGames_newHoldout.pkl', 'wb') as f:\n",
        "     pickle.dump(newHOLDOUT_LIST, f)\n",
        "\n",
        "with open('AMZGames_newPSITest.pkl', 'wb') as f:\n",
        "     pickle.dump(new_PSIDFlist, f)     "
      ],
      "execution_count": 44,
      "outputs": []
    },
    {
      "cell_type": "code",
      "metadata": {
        "id": "XjluqAp68NF6"
      },
      "source": [
        "newAMZGames_DF.to_csv('AMZGms_afterUpdt.csv',index=False)"
      ],
      "execution_count": 53,
      "outputs": []
    },
    {
      "cell_type": "code",
      "metadata": {
        "id": "H-tiGhvz8NF6"
      },
      "source": [],
      "execution_count": null,
      "outputs": []
    },
    {
      "cell_type": "code",
      "metadata": {
        "id": "VSBJoB3h8NF7"
      },
      "source": [
        "with open('AMZGames_newPSITest.pkl', 'rb') as f:\n",
        "     newPSITest_ = pickle.load(f)"
      ],
      "execution_count": 46,
      "outputs": []
    },
    {
      "cell_type": "code",
      "execution_count": 65,
      "metadata": {},
      "outputs": [
        {
          "output_type": "stream",
          "name": "stdout",
          "text": [
            "(3310, 4)\n1062\n"
          ]
        }
      ],
      "source": [
        "with open('/mnt/bulky/oolaleke/TDM_Dataset/AMZGames_newHoldout.pkl', 'rb') as f:\n",
        "     newHoldOut_ = pickle.load(f)\n",
        "     \n",
        "print(newPSITest_[0].shape)\n",
        "print(newPSITest_[0]['Updated_UserID'].nunique())\n",
        "# print(new_PSIDFlist[0].shape)\n",
        "# print(new_PSIDFlist[0]['Updated_UserID'].nunique())"
      ]
    },
    {
      "cell_type": "code",
      "metadata": {
        "id": "fvhCrjnS8NF8"
      },
      "source": [],
      "execution_count": 62,
      "outputs": []
    },
    {
      "cell_type": "markdown",
      "metadata": {
        "id": "J_bFpV2cKCuA"
      },
      "source": [
        "### Get UserItem MAT"
      ]
    },
    {
      "cell_type": "code",
      "metadata": {
        "id": "l9uf6prp8NF-",
        "colab": {
          "base_uri": "https://localhost:8080/"
        },
        "outputId": "3028691f-cba4-45bc-acee-806e5dc8f90a"
      },
      "source": [
        "for i in range(10):\n",
        "    print(newUserItem_list[i]['Updated_UserID'].max(),newUserItem_list[i]['Updated_ItemID'].max())"
      ],
      "execution_count": 42,
      "outputs": [
        {
          "output_type": "stream",
          "name": "stdout",
          "text": [
            "34575 16138\n35002 16294\n35392 16440\n35798 16569\n36208 16705\n36584 16819\n36928 16967\n37278 17071\n37643 17118\n37951 17161\n"
          ]
        }
      ]
    },
    {
      "cell_type": "code",
      "metadata": {
        "colab": {
          "base_uri": "https://localhost:8080/"
        },
        "id": "bA6bmr-CKCuD",
        "outputId": "43496cd7-6b4e-4e5a-f22b-10d46c92df04"
      },
      "source": [
        "print(len(U_list[1:]),len(V_list[1:]))\n",
        "for u,v in zip(U_list[1:],V_list[1:]):\n",
        "    print(u.shape[0],v.shape[0])   "
      ],
      "execution_count": 43,
      "outputs": [
        {
          "output_type": "stream",
          "name": "stdout",
          "text": [
            "15 15\n34576 16139\n35003 16295\n35393 16441\n35799 16570\n36209 16706\n36585 16820\n36929 16968\n37279 17072\n37644 17119\n37952 17162\n38235 17201\n38518 17235\n38811 17271\n39089 17293\n39284 17318\n"
          ]
        }
      ]
    },
    {
      "cell_type": "code",
      "metadata": {
        "colab": {
          "base_uri": "https://localhost:8080/"
        },
        "id": "N1FI-D8uKCuG",
        "outputId": "5d1600df-8cfa-462e-cf4d-c97817585079"
      },
      "source": [
        "                   #AllSingleStepRatMat_2(DFList,Ulist,Vlist,user_column,item_column)\n",
        "UserItem_Matupdt = AllSingleStepRatMat_2(newUserItem_list,U_list[1:],V_list[1:],'Updated_UserID','Updated_ItemID')\n",
        "print(len(UserItem_Matupdt))\n",
        "UserItem_Matupdt"
      ],
      "execution_count": 45,
      "outputs": [
        {
          "output_type": "stream",
          "name": "stdout",
          "text": [
            "15\n"
          ]
        },
        {
          "output_type": "execute_result",
          "data": {
            "text/plain": [
              "[<34576x16139 sparse matrix of type '<class 'numpy.float64'>'\n",
              " \twith 250384 stored elements in Compressed Sparse Row format>,\n",
              " <35003x16295 sparse matrix of type '<class 'numpy.float64'>'\n",
              " \twith 255520 stored elements in Compressed Sparse Row format>,\n",
              " <35393x16441 sparse matrix of type '<class 'numpy.float64'>'\n",
              " \twith 261105 stored elements in Compressed Sparse Row format>,\n",
              " <35799x16570 sparse matrix of type '<class 'numpy.float64'>'\n",
              " \twith 266597 stored elements in Compressed Sparse Row format>,\n",
              " <36209x16706 sparse matrix of type '<class 'numpy.float64'>'\n",
              " \twith 272102 stored elements in Compressed Sparse Row format>,\n",
              " <36585x16820 sparse matrix of type '<class 'numpy.float64'>'\n",
              " \twith 277572 stored elements in Compressed Sparse Row format>,\n",
              " <36929x16968 sparse matrix of type '<class 'numpy.float64'>'\n",
              " \twith 282899 stored elements in Compressed Sparse Row format>,\n",
              " <37279x17072 sparse matrix of type '<class 'numpy.float64'>'\n",
              " \twith 288493 stored elements in Compressed Sparse Row format>,\n",
              " <37644x17119 sparse matrix of type '<class 'numpy.float64'>'\n",
              " \twith 294033 stored elements in Compressed Sparse Row format>,\n",
              " <37952x17162 sparse matrix of type '<class 'numpy.float64'>'\n",
              " \twith 299422 stored elements in Compressed Sparse Row format>,\n",
              " <38235x17201 sparse matrix of type '<class 'numpy.float64'>'\n",
              " \twith 304874 stored elements in Compressed Sparse Row format>,\n",
              " <38518x17235 sparse matrix of type '<class 'numpy.float64'>'\n",
              " \twith 310345 stored elements in Compressed Sparse Row format>,\n",
              " <38811x17271 sparse matrix of type '<class 'numpy.float64'>'\n",
              " \twith 315857 stored elements in Compressed Sparse Row format>,\n",
              " <39089x17293 sparse matrix of type '<class 'numpy.float64'>'\n",
              " \twith 321360 stored elements in Compressed Sparse Row format>,\n",
              " <39284x17318 sparse matrix of type '<class 'numpy.float64'>'\n",
              " \twith 326607 stored elements in Compressed Sparse Row format>]"
            ]
          },
          "metadata": {},
          "execution_count": 45
        }
      ]
    },
    {
      "cell_type": "code",
      "metadata": {
        "colab": {
          "base_uri": "https://localhost:8080/"
        },
        "id": "kRkFwCd8KCuE",
        "outputId": "12084721-5223-489d-af82-70e647f55c90"
      },
      "source": [
        "print(AllDF_start['userId'].nunique(),AllDF_start['productId'].nunique())\n",
        "print()\n",
        "for i,j in zip(AllUpdtUSERS_,AllUpdtITEMS_):\n",
        "    print(len(i),len(j))"
      ],
      "execution_count": 46,
      "outputs": [
        {
          "output_type": "stream",
          "name": "stdout",
          "text": [
            "34250 16034\n\n34576 16139\n35003 16295\n35393 16441\n35799 16570\n36209 16706\n36585 16820\n36929 16968\n37279 17072\n37644 17119\n37952 17162\n38235 17201\n38518 17235\n38811 17271\n39089 17293\n39284 17318\n"
          ]
        }
      ]
    },
    {
      "cell_type": "code",
      "metadata": {
        "id": "Q8-yXl1wpd9M"
      },
      "source": [],
      "execution_count": null,
      "outputs": []
    },
    {
      "cell_type": "markdown",
      "metadata": {
        "id": "-FWZcWCDzJ-i"
      },
      "source": [
        "### V_list"
      ]
    },
    {
      "cell_type": "code",
      "metadata": {
        "colab": {
          "base_uri": "https://localhost:8080/"
        },
        "id": "NrcfgZCCzPPu",
        "outputId": "1a2cbc17-cb12-4d3b-d166-271fcfadcffc"
      },
      "source": [
        "print(len(UserItem_Matupdt),len(newHOLDOUT_LIST))"
      ],
      "execution_count": 47,
      "outputs": [
        {
          "output_type": "stream",
          "name": "stdout",
          "text": [
            "15 15\n"
          ]
        }
      ]
    },
    {
      "cell_type": "code",
      "metadata": {
        "colab": {
          "base_uri": "https://localhost:8080/"
        },
        "id": "RguT3Utr0iLy",
        "outputId": "56a7d213-bb0d-4807-cd0d-009f8386ac51"
      },
      "source": [
        "Vpsi_listUpdt = V_list[1:]\n",
        "for v in Vpsi_listUpdt:\n",
        "    print(v.shape)"
      ],
      "execution_count": 48,
      "outputs": [
        {
          "output_type": "stream",
          "name": "stdout",
          "text": [
            "(16139, 80)\n(16295, 80)\n(16441, 80)\n(16570, 80)\n(16706, 80)\n(16820, 80)\n(16968, 80)\n(17072, 80)\n(17119, 80)\n(17162, 80)\n(17201, 80)\n(17235, 80)\n(17271, 80)\n(17293, 80)\n(17318, 80)\n"
          ]
        }
      ]
    },
    {
      "cell_type": "code",
      "metadata": {
        "colab": {
          "base_uri": "https://localhost:8080/"
        },
        "id": "py9S9LGoKamJ",
        "outputId": "e9121055-f7a1-45a3-a859-e0cb353a1776"
      },
      "source": [
        "V_1 = Vpsi_listUpdt[0]\n",
        "V_1.shape"
      ],
      "execution_count": 49,
      "outputs": [
        {
          "output_type": "execute_result",
          "data": {
            "text/plain": [
              "(16139, 80)"
            ]
          },
          "metadata": {},
          "execution_count": 49
        }
      ]
    },
    {
      "cell_type": "code",
      "metadata": {
        "id": "N1Vc6Na38NGR"
      },
      "source": [],
      "execution_count": null,
      "outputs": []
    },
    {
      "cell_type": "markdown",
      "metadata": {
        "id": "M1ro3DThmGq2"
      },
      "source": [
        "### All Prediction"
      ]
    },
    {
      "cell_type": "code",
      "metadata": {
        "id": "Mylf5NR98NGR",
        "outputId": "b0e7a61d-3c24-48e5-f59a-3db3bebc0940"
      },
      "source": [
        "print(UserItem_Matupdt[0].shape)\n",
        "UserItem_Matupdt[0]"
      ],
      "execution_count": 50,
      "outputs": [
        {
          "output_type": "stream",
          "name": "stdout",
          "text": [
            "(34576, 16139)\n"
          ]
        },
        {
          "output_type": "execute_result",
          "data": {
            "text/plain": [
              "<34576x16139 sparse matrix of type '<class 'numpy.float64'>'\n",
              "\twith 250384 stored elements in Compressed Sparse Row format>"
            ]
          },
          "metadata": {},
          "execution_count": 50
        }
      ]
    },
    {
      "cell_type": "code",
      "metadata": {
        "id": "H3qyz8eO8NGS",
        "outputId": "2cb6f173-b4e9-4d94-e313-a3dd3a437044"
      },
      "source": [
        "AllUsers_updtPRED =  TQDMgetALLTopNPred_ALLUSERS(UserItem_Matupdt,Vpsi_listUpdt, N=10) \n",
        "print(len(AllUsers_updtPRED))\n",
        "AllUsers_updtPRED[:2]"
      ],
      "execution_count": 51,
      "outputs": [
        {
          "output_type": "stream",
          "name": "stderr",
          "text": [
            "15it [02:09,  8.66s/it]15\n",
            "\n"
          ]
        },
        {
          "output_type": "execute_result",
          "data": {
            "text/plain": [
              "[array([[ 1434,   145,   385, ...,   687,   882,   284],\n",
              "        [13491, 12905, 11924, ..., 13384, 14555, 12595],\n",
              "        [  385,   145,     0, ...,   345,   958,  1801],\n",
              "        ...,\n",
              "        [ 4109, 11918,  4110, ...,  7304,  4735,  8239],\n",
              "        [ 9827,  7963, 12905, ...,  6103,  9254,  7656],\n",
              "        [10377,  4109, 11924, ...,  6771, 13857, 11961]]),\n",
              " array([[ 1434,   145,   385, ...,   687,   882,   284],\n",
              "        [13491, 12905, 11924, ..., 13384, 14555, 12595],\n",
              "        [  385,   145,     0, ...,   345,   958,  1801],\n",
              "        ...,\n",
              "        [12595, 10498, 12060, ..., 12073,  3827, 12062],\n",
              "        [13491, 13171, 13825, ..., 12652, 13384, 12043],\n",
              "        [ 9344,  4764,  4190, ...,  9880,  3442,  9592]])]"
            ]
          },
          "metadata": {},
          "execution_count": 51
        }
      ]
    },
    {
      "cell_type": "code",
      "metadata": {
        "id": "3GtRYa2z8NGT",
        "outputId": "644b11fe-8b52-4f43-be68-645e8bc482e3"
      },
      "source": [
        "AllUsers_updtPRED[4].shape"
      ],
      "execution_count": 59,
      "outputs": [
        {
          "output_type": "execute_result",
          "data": {
            "text/plain": [
              "(36209, 10)"
            ]
          },
          "metadata": {},
          "execution_count": 59
        }
      ]
    },
    {
      "cell_type": "code",
      "metadata": {
        "id": "ayCKyzF98NGT"
      },
      "source": [
        "with open('/mnt/bulky/oolaleke/TDM_Dataset/AMZ_GamesFiles/AMZG_UpdtPSI_allPRED.pkl', 'wb') as f:    \n",
        "     pickle.dump(AllUsers_updtPRED, f)\n"
      ],
      "execution_count": 61,
      "outputs": []
    },
    {
      "cell_type": "code",
      "metadata": {
        "id": "DuzCtDJ08NGU"
      },
      "source": [
        "# with open('/mnt/bulky/oolaleke/TDM_Dataset/AMZB_UpdtPSI_AllPRED.pkl', 'rb') as f:\n",
        "#      allpred_updt = pickle.load(f)\n",
        "# print(len(allpred_updt))\n",
        "# allpred_updt[:2]"
      ],
      "execution_count": null,
      "outputs": []
    },
    {
      "cell_type": "code",
      "metadata": {
        "id": "qRcPwH0tqAlR"
      },
      "source": [
        "##iALS..."
      ],
      "execution_count": null,
      "outputs": []
    },
    {
      "cell_type": "code",
      "metadata": {
        "id": "NHM6hJEV8NGa"
      },
      "source": [
        "##lOAD Saved Lists...\n",
        "with open('/mnt/bulky/oolaleke/TDM_Dataset/AMZ_GamesFiles/AMZGames_newHoldout.pkl', 'rb') as f:\n",
        "     newHOLDOUT_LIST = pickle.load(f)\n",
        "\n",
        "with open('/mnt/bulky/oolaleke/TDM_Dataset/AMZ_GamesFiles/AMZGames_newUserItem.pkl', 'rb') as f:\n",
        "     newUserItem_list = pickle.load(f)\n",
        "\n",
        "\n",
        "with open('/mnt/bulky/oolaleke/TDM_Dataset/AMZ_GamesFiles/AMZGames_newPSITest.pkl', 'rb') as f:\n",
        "     new_PSIDFlist = pickle.load(f)\n",
        "\n"
      ],
      "execution_count": 7,
      "outputs": []
    },
    {
      "cell_type": "code",
      "execution_count": 9,
      "metadata": {},
      "outputs": [
        {
          "output_type": "stream",
          "name": "stdout",
          "text": [
            "(345203, 9)\n39283 17319\n39284 17318\n\n39283 17317\n39284 17318\n"
          ]
        },
        {
          "output_type": "execute_result",
          "data": {
            "text/plain": [
              "           userid   ProductID  rating   timestamp timestamp_YM  userId  \\\n",
              "0  A2AXQTB83VMK4L  B0000296O5       1  1999-10-14      1999-10       0   \n",
              "1  A2T04VAIXSKJH2  B00002NDRY       1  1999-11-05      1999-11       1   \n",
              "2  A1QA8K3LD9K892  B000021Y5F       1  1999-11-10      1999-11       2   \n",
              "3  A1QA8K3LD9K892  B000021Y5Q       1  1999-11-10      1999-11       2   \n",
              "4   ANLA598UNJI8A  B00001IVGE       1  1999-11-14      1999-11       3   \n",
              "\n",
              "   productId  Updated_UserID  Updated_ItemID  \n",
              "0          0               0               0  \n",
              "1          1               1               1  \n",
              "2          2               2               2  \n",
              "3          3               2               3  \n",
              "4          4               3               4  "
            ],
            "text/html": "<div>\n<style scoped>\n    .dataframe tbody tr th:only-of-type {\n        vertical-align: middle;\n    }\n\n    .dataframe tbody tr th {\n        vertical-align: top;\n    }\n\n    .dataframe thead th {\n        text-align: right;\n    }\n</style>\n<table border=\"1\" class=\"dataframe\">\n  <thead>\n    <tr style=\"text-align: right;\">\n      <th></th>\n      <th>userid</th>\n      <th>ProductID</th>\n      <th>rating</th>\n      <th>timestamp</th>\n      <th>timestamp_YM</th>\n      <th>userId</th>\n      <th>productId</th>\n      <th>Updated_UserID</th>\n      <th>Updated_ItemID</th>\n    </tr>\n  </thead>\n  <tbody>\n    <tr>\n      <th>0</th>\n      <td>A2AXQTB83VMK4L</td>\n      <td>B0000296O5</td>\n      <td>1</td>\n      <td>1999-10-14</td>\n      <td>1999-10</td>\n      <td>0</td>\n      <td>0</td>\n      <td>0</td>\n      <td>0</td>\n    </tr>\n    <tr>\n      <th>1</th>\n      <td>A2T04VAIXSKJH2</td>\n      <td>B00002NDRY</td>\n      <td>1</td>\n      <td>1999-11-05</td>\n      <td>1999-11</td>\n      <td>1</td>\n      <td>1</td>\n      <td>1</td>\n      <td>1</td>\n    </tr>\n    <tr>\n      <th>2</th>\n      <td>A1QA8K3LD9K892</td>\n      <td>B000021Y5F</td>\n      <td>1</td>\n      <td>1999-11-10</td>\n      <td>1999-11</td>\n      <td>2</td>\n      <td>2</td>\n      <td>2</td>\n      <td>2</td>\n    </tr>\n    <tr>\n      <th>3</th>\n      <td>A1QA8K3LD9K892</td>\n      <td>B000021Y5Q</td>\n      <td>1</td>\n      <td>1999-11-10</td>\n      <td>1999-11</td>\n      <td>2</td>\n      <td>3</td>\n      <td>2</td>\n      <td>3</td>\n    </tr>\n    <tr>\n      <th>4</th>\n      <td>ANLA598UNJI8A</td>\n      <td>B00001IVGE</td>\n      <td>1</td>\n      <td>1999-11-14</td>\n      <td>1999-11</td>\n      <td>3</td>\n      <td>4</td>\n      <td>3</td>\n      <td>4</td>\n    </tr>\n  </tbody>\n</table>\n</div>"
          },
          "metadata": {},
          "execution_count": 9
        }
      ],
      "source": [
        "newAMZGames_DF = pd.read_csv('/mnt/bulky/oolaleke/TDM_Dataset/AMZ_GamesFiles/AMZGames_afterUpdt.csv')\n",
        "print(newAMZGames_DF.shape)\n",
        "print(newAMZGames_DF['userId'].max(),newAMZGames_DF['productId'].max())\n",
        "print(newAMZGames_DF['userId'].nunique(),newAMZGames_DF['productId'].nunique())\n",
        "print()\n",
        "print(newAMZGames_DF['Updated_UserID'].max(),newAMZGames_DF['Updated_ItemID'].max())\n",
        "print(newAMZGames_DF['Updated_UserID'].nunique(),newAMZGames_DF['Updated_ItemID'].nunique())\n",
        "newAMZGames_DF.head()"
      ]
    },
    {
      "cell_type": "code",
      "execution_count": 10,
      "metadata": {},
      "outputs": [
        {
          "output_type": "execute_result",
          "data": {
            "text/plain": [
              "<39284x17318 sparse matrix of type '<class 'numpy.float64'>'\n",
              "\twith 250384 stored elements in Compressed Sparse Row format>"
            ]
          },
          "metadata": {},
          "execution_count": 10
        }
      ],
      "source": [
        "rows_i = newAMZGames_DF['Updated_UserID'].nunique()\n",
        "cols_i = newAMZGames_DF['Updated_ItemID'].nunique()\n",
        "Rating_matrix = SingleRatingMatrix(newUserItem_list[0],'Updated_UserID','Updated_ItemID',rows_i,cols_i)  #changes start within steps...\n",
        "Rating_matrix"
      ]
    },
    {
      "cell_type": "code",
      "execution_count": 11,
      "metadata": {},
      "outputs": [
        {
          "output_type": "stream",
          "name": "stdout",
          "text": [
            "('alpha', 'regularization', 'rank', 'iter_array')\n"
          ]
        },
        {
          "output_type": "execute_result",
          "data": {
            "text/plain": [
              "30"
            ]
          },
          "metadata": {},
          "execution_count": 11
        }
      ],
      "source": [
        "als_params = dict(alpha = [ 0.001,0.05, 0.1, 0.5, 1, 5, 10, 50, 100],\n",
        "                  regularization = [0.001, 0.005, 0.01, 0.05, 0.1, 0.5, 1, 10],\n",
        "                  rank = list(range(10, 81, 10)),\n",
        "                  iter_array = [10,15,20,25,30])\n",
        "\n",
        "als_param_grid, als_param_names = random_grid(als_params, n=30)\n",
        "print(als_param_names)\n",
        "len(als_param_grid)                 "
      ]
    },
    {
      "cell_type": "code",
      "execution_count": 12,
      "metadata": {},
      "outputs": [
        {
          "output_type": "stream",
          "name": "stdout",
          "text": [
            "50 0.01 10 20\n1 0.05 30 15\n0.5 10 80 25\n50 1 50 15\n0.001 0.005 30 20\n0.05 0.05 40 20\n100 0.1 50 20\n5 0.01 20 25\n0.001 0.001 30 25\n0.5 0.005 60 20\n"
          ]
        }
      ],
      "source": [
        "for i in range(10):\n",
        "    alpha, reg, rank, iter = list(als_param_grid)[i]  \n",
        "    print(alpha, reg, rank,iter)"
      ]
    },
    {
      "cell_type": "code",
      "execution_count": 16,
      "metadata": {},
      "outputs": [
        {
          "output_type": "execute_result",
          "data": {
            "text/plain": [
              "<39284x17318 sparse matrix of type '<class 'numpy.float64'>'\n",
              "\twith 200307 stored elements in Compressed Sparse Row format>"
            ]
          },
          "metadata": {},
          "execution_count": 16
        }
      ],
      "source": [
        "train_set ,test_set,valid_set = TrainTest(Rating_matrix, pct_mask=0.2)\n",
        "train_set"
      ]
    },
    {
      "cell_type": "code",
      "execution_count": 17,
      "metadata": {},
      "outputs": [
        {
          "output_type": "stream",
          "name": "stderr",
          "text": [
            "  0%|          | 0/30 [00:00<?, ?it/s]"
          ]
        },
        {
          "output_type": "display_data",
          "data": {
            "text/plain": "  0%|          | 0/20 [00:00<?, ?it/s]",
            "application/vnd.jupyter.widget-view+json": {
              "version_major": 2,
              "version_minor": 0,
              "model_id": "d1a481a6d31b43b2bd1499e0a47f3f10"
            }
          },
          "metadata": {}
        },
        {
          "output_type": "stream",
          "name": "stderr",
          "text": [
            "  3%|▎         | 1/30 [01:54<55:20, 114.49s/it]latent factors= 10 ,regularization = 0.01:, n_iter = 20, alpha = 50, AUC= 0.869085\n"
          ]
        },
        {
          "output_type": "display_data",
          "data": {
            "text/plain": "  0%|          | 0/15 [00:00<?, ?it/s]",
            "application/vnd.jupyter.widget-view+json": {
              "version_major": 2,
              "version_minor": 0,
              "model_id": "60da098ad1874b7aabc3e11725a54cf1"
            }
          },
          "metadata": {}
        },
        {
          "output_type": "stream",
          "name": "stderr",
          "text": [
            "  7%|▋         | 2/30 [04:03<57:19, 122.85s/it]latent factors= 30 ,regularization = 0.05:, n_iter = 15, alpha = 1, AUC= 0.794278\n"
          ]
        },
        {
          "output_type": "display_data",
          "data": {
            "text/plain": "  0%|          | 0/25 [00:00<?, ?it/s]",
            "application/vnd.jupyter.widget-view+json": {
              "version_major": 2,
              "version_minor": 0,
              "model_id": "0333c529f78543c8b8e569414f0cb119"
            }
          },
          "metadata": {}
        },
        {
          "output_type": "stream",
          "name": "stderr",
          "text": [
            " 10%|█         | 3/30 [06:54<1:05:08, 144.76s/it]latent factors= 80 ,regularization = 10:, n_iter = 25, alpha = 0.5, AUC= 0.817006\n"
          ]
        },
        {
          "output_type": "display_data",
          "data": {
            "text/plain": "  0%|          | 0/15 [00:00<?, ?it/s]",
            "application/vnd.jupyter.widget-view+json": {
              "version_major": 2,
              "version_minor": 0,
              "model_id": "9063565458ae49b0ab82e995a68872f5"
            }
          },
          "metadata": {}
        },
        {
          "output_type": "stream",
          "name": "stderr",
          "text": [
            " 13%|█▎        | 4/30 [09:19<1:02:53, 145.15s/it]latent factors= 50 ,regularization = 1:, n_iter = 15, alpha = 50, AUC= 0.84543\n"
          ]
        },
        {
          "output_type": "display_data",
          "data": {
            "text/plain": "  0%|          | 0/20 [00:00<?, ?it/s]",
            "application/vnd.jupyter.widget-view+json": {
              "version_major": 2,
              "version_minor": 0,
              "model_id": "0947eff9653b4922ba395d819f7d4a9f"
            }
          },
          "metadata": {}
        },
        {
          "output_type": "stream",
          "name": "stderr",
          "text": [
            " 17%|█▋        | 5/30 [11:26<57:42, 138.48s/it]  latent factors= 30 ,regularization = 0.005:, n_iter = 20, alpha = 0.001, AUC= 0.739838\n"
          ]
        },
        {
          "output_type": "display_data",
          "data": {
            "text/plain": "  0%|          | 0/20 [00:00<?, ?it/s]",
            "application/vnd.jupyter.widget-view+json": {
              "version_major": 2,
              "version_minor": 0,
              "model_id": "e8cfb51ad7e94c3f912351f037eac93e"
            }
          },
          "metadata": {}
        },
        {
          "output_type": "stream",
          "name": "stderr",
          "text": [
            " 20%|██        | 6/30 [13:39<54:43, 136.80s/it]latent factors= 40 ,regularization = 0.05:, n_iter = 20, alpha = 0.05, AUC= 0.651992\n"
          ]
        },
        {
          "output_type": "display_data",
          "data": {
            "text/plain": "  0%|          | 0/20 [00:00<?, ?it/s]",
            "application/vnd.jupyter.widget-view+json": {
              "version_major": 2,
              "version_minor": 0,
              "model_id": "00ce7a798a8e41f59230100eb8bae031"
            }
          },
          "metadata": {}
        },
        {
          "output_type": "stream",
          "name": "stderr",
          "text": [
            " 23%|██▎       | 7/30 [16:01<53:01, 138.34s/it]latent factors= 50 ,regularization = 0.1:, n_iter = 20, alpha = 100, AUC= 0.851513\n"
          ]
        },
        {
          "output_type": "display_data",
          "data": {
            "text/plain": "  0%|          | 0/25 [00:00<?, ?it/s]",
            "application/vnd.jupyter.widget-view+json": {
              "version_major": 2,
              "version_minor": 0,
              "model_id": "c16a236237cc4475bc039ff7bb9b6dba"
            }
          },
          "metadata": {}
        },
        {
          "output_type": "stream",
          "name": "stderr",
          "text": [
            " 27%|██▋       | 8/30 [17:59<48:18, 131.76s/it]latent factors= 20 ,regularization = 0.01:, n_iter = 25, alpha = 5, AUC= 0.833621\n"
          ]
        },
        {
          "output_type": "display_data",
          "data": {
            "text/plain": "  0%|          | 0/25 [00:00<?, ?it/s]",
            "application/vnd.jupyter.widget-view+json": {
              "version_major": 2,
              "version_minor": 0,
              "model_id": "948ee91aab394fe89f7be3be71a6052e"
            }
          },
          "metadata": {}
        },
        {
          "output_type": "stream",
          "name": "stderr",
          "text": [
            " 30%|███       | 9/30 [20:05<45:34, 130.20s/it]latent factors= 30 ,regularization = 0.001:, n_iter = 25, alpha = 0.001, AUC= 0.709663\n"
          ]
        },
        {
          "output_type": "display_data",
          "data": {
            "text/plain": "  0%|          | 0/20 [00:00<?, ?it/s]",
            "application/vnd.jupyter.widget-view+json": {
              "version_major": 2,
              "version_minor": 0,
              "model_id": "8d5a12a829df4429b1e1dcb512b97123"
            }
          },
          "metadata": {}
        },
        {
          "output_type": "stream",
          "name": "stderr",
          "text": [
            " 33%|███▎      | 10/30 [22:35<45:26, 136.33s/it]latent factors= 60 ,regularization = 0.005:, n_iter = 20, alpha = 0.5, AUC= 0.742791\n"
          ]
        },
        {
          "output_type": "display_data",
          "data": {
            "text/plain": "  0%|          | 0/20 [00:00<?, ?it/s]",
            "application/vnd.jupyter.widget-view+json": {
              "version_major": 2,
              "version_minor": 0,
              "model_id": "93658a49db534437bb6277bbc73f1d3e"
            }
          },
          "metadata": {}
        },
        {
          "output_type": "stream",
          "name": "stderr",
          "text": [
            " 37%|███▋      | 11/30 [25:14<45:20, 143.19s/it]latent factors= 70 ,regularization = 1:, n_iter = 20, alpha = 0.001, AUC= 0.441796\n"
          ]
        },
        {
          "output_type": "display_data",
          "data": {
            "text/plain": "  0%|          | 0/20 [00:00<?, ?it/s]",
            "application/vnd.jupyter.widget-view+json": {
              "version_major": 2,
              "version_minor": 0,
              "model_id": "658e80e69d0a4bf193e5133786b73978"
            }
          },
          "metadata": {}
        },
        {
          "output_type": "stream",
          "name": "stderr",
          "text": [
            " 40%|████      | 12/30 [27:05<39:57, 133.22s/it]latent factors= 10 ,regularization = 0.5:, n_iter = 20, alpha = 0.5, AUC= 0.794788\n"
          ]
        },
        {
          "output_type": "display_data",
          "data": {
            "text/plain": "  0%|          | 0/20 [00:00<?, ?it/s]",
            "application/vnd.jupyter.widget-view+json": {
              "version_major": 2,
              "version_minor": 0,
              "model_id": "0b94dfc6f3bb49b98b4319c62f89e58a"
            }
          },
          "metadata": {}
        },
        {
          "output_type": "stream",
          "name": "stderr",
          "text": [
            " 43%|████▎     | 13/30 [29:03<36:29, 128.79s/it]latent factors= 20 ,regularization = 10:, n_iter = 20, alpha = 50, AUC= 0.87067\n"
          ]
        },
        {
          "output_type": "display_data",
          "data": {
            "text/plain": "  0%|          | 0/30 [00:00<?, ?it/s]",
            "application/vnd.jupyter.widget-view+json": {
              "version_major": 2,
              "version_minor": 0,
              "model_id": "fb0a9128940f49038759d8fee4d07cb3"
            }
          },
          "metadata": {}
        },
        {
          "output_type": "stream",
          "name": "stderr",
          "text": [
            " 47%|████▋     | 14/30 [31:52<37:35, 140.95s/it]latent factors= 80 ,regularization = 0.001:, n_iter = 30, alpha = 0.05, AUC= 0.693713\n"
          ]
        },
        {
          "output_type": "display_data",
          "data": {
            "text/plain": "  0%|          | 0/15 [00:00<?, ?it/s]",
            "application/vnd.jupyter.widget-view+json": {
              "version_major": 2,
              "version_minor": 0,
              "model_id": "0155e0d3e1734deea6b957229d6b8401"
            }
          },
          "metadata": {}
        },
        {
          "output_type": "stream",
          "name": "stderr",
          "text": [
            " 50%|█████     | 15/30 [34:30<36:28, 145.90s/it]latent factors= 70 ,regularization = 0.001:, n_iter = 15, alpha = 1, AUC= 0.764039\n"
          ]
        },
        {
          "output_type": "display_data",
          "data": {
            "text/plain": "  0%|          | 0/25 [00:00<?, ?it/s]",
            "application/vnd.jupyter.widget-view+json": {
              "version_major": 2,
              "version_minor": 0,
              "model_id": "e529225348ed4bdaaed9102473006ae7"
            }
          },
          "metadata": {}
        },
        {
          "output_type": "stream",
          "name": "stderr",
          "text": [
            " 53%|█████▎    | 16/30 [36:38<32:47, 140.52s/it]latent factors= 30 ,regularization = 0.5:, n_iter = 25, alpha = 0.05, AUC= 0.708242\n"
          ]
        },
        {
          "output_type": "display_data",
          "data": {
            "text/plain": "  0%|          | 0/20 [00:00<?, ?it/s]",
            "application/vnd.jupyter.widget-view+json": {
              "version_major": 2,
              "version_minor": 0,
              "model_id": "fd9a9a8b2afa4668a7967b9710721556"
            }
          },
          "metadata": {}
        },
        {
          "output_type": "stream",
          "name": "stderr",
          "text": [
            " 57%|█████▋    | 17/30 [38:45<29:34, 136.49s/it]latent factors= 30 ,regularization = 10:, n_iter = 20, alpha = 100, AUC= 0.868821\n"
          ]
        },
        {
          "output_type": "display_data",
          "data": {
            "text/plain": "  0%|          | 0/15 [00:00<?, ?it/s]",
            "application/vnd.jupyter.widget-view+json": {
              "version_major": 2,
              "version_minor": 0,
              "model_id": "66391316a8eb44ce93033c0d0698fbb8"
            }
          },
          "metadata": {}
        },
        {
          "output_type": "stream",
          "name": "stderr",
          "text": [
            " 60%|██████    | 18/30 [41:25<28:41, 143.46s/it]latent factors= 70 ,regularization = 0.5:, n_iter = 15, alpha = 0.05, AUC= 0.731003\n"
          ]
        },
        {
          "output_type": "display_data",
          "data": {
            "text/plain": "  0%|          | 0/15 [00:00<?, ?it/s]",
            "application/vnd.jupyter.widget-view+json": {
              "version_major": 2,
              "version_minor": 0,
              "model_id": "bc5c734bf99e484fb78216cf50eb4d8e"
            }
          },
          "metadata": {}
        },
        {
          "output_type": "stream",
          "name": "stderr",
          "text": [
            " 63%|██████▎   | 19/30 [43:54<26:39, 145.42s/it]latent factors= 60 ,regularization = 0.005:, n_iter = 15, alpha = 10, AUC= 0.822748\n"
          ]
        },
        {
          "output_type": "display_data",
          "data": {
            "text/plain": "  0%|          | 0/25 [00:00<?, ?it/s]",
            "application/vnd.jupyter.widget-view+json": {
              "version_major": 2,
              "version_minor": 0,
              "model_id": "013ecf70ba6141779b42f04ddf3f9b4f"
            }
          },
          "metadata": {}
        },
        {
          "output_type": "stream",
          "name": "stderr",
          "text": [
            " 67%|██████▋   | 20/30 [46:11<23:46, 142.62s/it]latent factors= 40 ,regularization = 0.5:, n_iter = 25, alpha = 0.5, AUC= 0.7576\n"
          ]
        },
        {
          "output_type": "display_data",
          "data": {
            "text/plain": "  0%|          | 0/25 [00:00<?, ?it/s]",
            "application/vnd.jupyter.widget-view+json": {
              "version_major": 2,
              "version_minor": 0,
              "model_id": "7beb115074654fc2bbbe8f62b447b8e4"
            }
          },
          "metadata": {}
        },
        {
          "output_type": "stream",
          "name": "stderr",
          "text": [
            " 70%|███████   | 21/30 [48:19<20:45, 138.39s/it]latent factors= 30 ,regularization = 1:, n_iter = 25, alpha = 0.1, AUC= 0.745911\n"
          ]
        },
        {
          "output_type": "display_data",
          "data": {
            "text/plain": "  0%|          | 0/30 [00:00<?, ?it/s]",
            "application/vnd.jupyter.widget-view+json": {
              "version_major": 2,
              "version_minor": 0,
              "model_id": "8c6c95be7ad94ecbaf1eaed7984b72e1"
            }
          },
          "metadata": {}
        },
        {
          "output_type": "stream",
          "name": "stderr",
          "text": [
            " 73%|███████▎  | 22/30 [50:52<19:01, 142.63s/it]latent factors= 60 ,regularization = 0.1:, n_iter = 30, alpha = 0.1, AUC= 0.672255\n"
          ]
        },
        {
          "output_type": "display_data",
          "data": {
            "text/plain": "  0%|          | 0/10 [00:00<?, ?it/s]",
            "application/vnd.jupyter.widget-view+json": {
              "version_major": 2,
              "version_minor": 0,
              "model_id": "0acc6bfda4674556953dd5c64d87fb6d"
            }
          },
          "metadata": {}
        },
        {
          "output_type": "stream",
          "name": "stderr",
          "text": [
            " 77%|███████▋  | 23/30 [53:15<16:39, 142.80s/it]latent factors= 50 ,regularization = 0.5:, n_iter = 10, alpha = 10, AUC= 0.824091\n"
          ]
        },
        {
          "output_type": "display_data",
          "data": {
            "text/plain": "  0%|          | 0/20 [00:00<?, ?it/s]",
            "application/vnd.jupyter.widget-view+json": {
              "version_major": 2,
              "version_minor": 0,
              "model_id": "8fb6327d55f44d578a70ae67f9941508"
            }
          },
          "metadata": {}
        },
        {
          "output_type": "stream",
          "name": "stderr",
          "text": [
            " 80%|████████  | 24/30 [55:12<13:31, 135.24s/it]latent factors= 20 ,regularization = 10:, n_iter = 20, alpha = 0.05, AUC= 0.573408\n"
          ]
        },
        {
          "output_type": "display_data",
          "data": {
            "text/plain": "  0%|          | 0/25 [00:00<?, ?it/s]",
            "application/vnd.jupyter.widget-view+json": {
              "version_major": 2,
              "version_minor": 0,
              "model_id": "6212a364c5114fe4b673952f1b67b594"
            }
          },
          "metadata": {}
        },
        {
          "output_type": "stream",
          "name": "stderr",
          "text": [
            " 83%|████████▎ | 25/30 [57:28<11:16, 135.36s/it]latent factors= 40 ,regularization = 10:, n_iter = 25, alpha = 1, AUC= 0.812446\n"
          ]
        },
        {
          "output_type": "display_data",
          "data": {
            "text/plain": "  0%|          | 0/25 [00:00<?, ?it/s]",
            "application/vnd.jupyter.widget-view+json": {
              "version_major": 2,
              "version_minor": 0,
              "model_id": "55aa7d6e7c324776bd355c49a5b1017a"
            }
          },
          "metadata": {}
        },
        {
          "output_type": "stream",
          "name": "stderr",
          "text": [
            " 87%|████████▋ | 26/30 [1:00:00<09:21, 140.36s/it]latent factors= 60 ,regularization = 0.001:, n_iter = 25, alpha = 50, AUC= 0.84188\n"
          ]
        },
        {
          "output_type": "display_data",
          "data": {
            "text/plain": "  0%|          | 0/20 [00:00<?, ?it/s]",
            "application/vnd.jupyter.widget-view+json": {
              "version_major": 2,
              "version_minor": 0,
              "model_id": "0afe21ae6e44479386a1c55ec0019af1"
            }
          },
          "metadata": {}
        },
        {
          "output_type": "stream",
          "name": "stderr",
          "text": [
            " 90%|█████████ | 27/30 [1:02:32<07:11, 143.86s/it]latent factors= 60 ,regularization = 0.1:, n_iter = 20, alpha = 50, AUC= 0.840467\n"
          ]
        },
        {
          "output_type": "display_data",
          "data": {
            "text/plain": "  0%|          | 0/30 [00:00<?, ?it/s]",
            "application/vnd.jupyter.widget-view+json": {
              "version_major": 2,
              "version_minor": 0,
              "model_id": "41f5ed828ea84e8781106284d52946b4"
            }
          },
          "metadata": {}
        },
        {
          "output_type": "stream",
          "name": "stderr",
          "text": [
            " 93%|█████████▎| 28/30 [1:04:59<04:49, 144.63s/it]latent factors= 50 ,regularization = 0.05:, n_iter = 30, alpha = 1, AUC= 0.776283\n"
          ]
        },
        {
          "output_type": "display_data",
          "data": {
            "text/plain": "  0%|          | 0/30 [00:00<?, ?it/s]",
            "application/vnd.jupyter.widget-view+json": {
              "version_major": 2,
              "version_minor": 0,
              "model_id": "eaef2f1817474862aef7df18bccbdd62"
            }
          },
          "metadata": {}
        },
        {
          "output_type": "stream",
          "name": "stderr",
          "text": [
            " 97%|█████████▋| 29/30 [1:07:40<02:29, 149.76s/it]latent factors= 70 ,regularization = 0.001:, n_iter = 30, alpha = 0.05, AUC= 0.705804\n"
          ]
        },
        {
          "output_type": "display_data",
          "data": {
            "text/plain": "  0%|          | 0/25 [00:00<?, ?it/s]",
            "application/vnd.jupyter.widget-view+json": {
              "version_major": 2,
              "version_minor": 0,
              "model_id": "ef180b00cb864dbfab5ba168d089ef0f"
            }
          },
          "metadata": {}
        },
        {
          "output_type": "stream",
          "name": "stderr",
          "text": [
            "100%|██████████| 30/30 [1:10:30<00:00, 141.00s/it]latent factors= 80 ,regularization = 0.005:, n_iter = 25, alpha = 100, AUC= 0.834284\n",
            "\n",
            " Best model; latent factors= 20 , regularization = 10, n_iter = 20, alpha = 50, AUC = 0.87067\n",
            "\n"
          ]
        }
      ],
      "source": [
        "best_model_Info = tune_ALS(train_set,test_set,valid_set,als_param_grid)"
      ]
    },
    {
      "cell_type": "code",
      "execution_count": 18,
      "metadata": {},
      "outputs": [
        {
          "output_type": "execute_result",
          "data": {
            "text/plain": [
              "(20,\n",
              " 10,\n",
              " 20,\n",
              " 50,\n",
              " 0.87067,\n",
              " <implicit.als.AlternatingLeastSquares at 0x7fc88ccf8460>)"
            ]
          },
          "metadata": {},
          "execution_count": 18
        }
      ],
      "source": [
        "best_model_Info"
      ]
    },
    {
      "cell_type": "code",
      "execution_count": 20,
      "metadata": {},
      "outputs": [
        {
          "output_type": "execute_result",
          "data": {
            "text/plain": [
              "[<39284x17318 sparse matrix of type '<class 'numpy.float64'>'\n",
              " \twith 250384 stored elements in Compressed Sparse Row format>,\n",
              " <39284x17318 sparse matrix of type '<class 'numpy.float64'>'\n",
              " \twith 255520 stored elements in Compressed Sparse Row format>,\n",
              " <39284x17318 sparse matrix of type '<class 'numpy.float64'>'\n",
              " \twith 261105 stored elements in Compressed Sparse Row format>,\n",
              " <39284x17318 sparse matrix of type '<class 'numpy.float64'>'\n",
              " \twith 266597 stored elements in Compressed Sparse Row format>,\n",
              " <39284x17318 sparse matrix of type '<class 'numpy.float64'>'\n",
              " \twith 272102 stored elements in Compressed Sparse Row format>,\n",
              " <39284x17318 sparse matrix of type '<class 'numpy.float64'>'\n",
              " \twith 277572 stored elements in Compressed Sparse Row format>,\n",
              " <39284x17318 sparse matrix of type '<class 'numpy.float64'>'\n",
              " \twith 282899 stored elements in Compressed Sparse Row format>,\n",
              " <39284x17318 sparse matrix of type '<class 'numpy.float64'>'\n",
              " \twith 288493 stored elements in Compressed Sparse Row format>,\n",
              " <39284x17318 sparse matrix of type '<class 'numpy.float64'>'\n",
              " \twith 294033 stored elements in Compressed Sparse Row format>,\n",
              " <39284x17318 sparse matrix of type '<class 'numpy.float64'>'\n",
              " \twith 299422 stored elements in Compressed Sparse Row format>,\n",
              " <39284x17318 sparse matrix of type '<class 'numpy.float64'>'\n",
              " \twith 304874 stored elements in Compressed Sparse Row format>,\n",
              " <39284x17318 sparse matrix of type '<class 'numpy.float64'>'\n",
              " \twith 310345 stored elements in Compressed Sparse Row format>,\n",
              " <39284x17318 sparse matrix of type '<class 'numpy.float64'>'\n",
              " \twith 315857 stored elements in Compressed Sparse Row format>,\n",
              " <39284x17318 sparse matrix of type '<class 'numpy.float64'>'\n",
              " \twith 321360 stored elements in Compressed Sparse Row format>,\n",
              " <39284x17318 sparse matrix of type '<class 'numpy.float64'>'\n",
              " \twith 326607 stored elements in Compressed Sparse Row format>]"
            ]
          },
          "metadata": {},
          "execution_count": 20
        }
      ],
      "source": [
        "rows_i = newAMZGames_DF['Updated_UserID'].nunique()\n",
        "cols_i = newAMZGames_DF['Updated_ItemID'].nunique()\n",
        "UserItem_RatMAT = AllRatingMatrices(newUserItem_list,'Updated_UserID','Updated_ItemID',rows_i ,cols_i) ##Same as UserItemMAT_regPSI\n",
        "UserItem_RatMAT"
      ]
    },
    {
      "cell_type": "code",
      "execution_count": null,
      "metadata": {},
      "outputs": [],
      "source": []
    },
    {
      "cell_type": "code",
      "execution_count": 22,
      "metadata": {},
      "outputs": [
        {
          "output_type": "stream",
          "name": "stdout",
          "text": [
            "[0, 34576, 35003, 35393, 35799, 36209, 36585, 36929, 37279, 37644, 37952, 38235, 38518, 38811, 39089, 39284]\n[0, 16139, 16295, 16441, 16570, 16706, 16820, 16968, 17072, 17119, 17162, 17201, 17235, 17271, 17293, 17318]\n"
          ]
        }
      ],
      "source": [
        "nuser_list = []\n",
        "nItem_list = []\n",
        "for df in  newUserItem_list:\n",
        "    nuser_list.append(df['Updated_UserID'].max()+1)\n",
        "    nItem_list.append(df['Updated_ItemID'].max()+1)\n",
        "\n",
        "nuser_list = [0] + nuser_list  \n",
        "nItem_list = [0] + nItem_list  \n",
        "\n",
        "print(nuser_list)\n",
        "print(nItem_list) "
      ]
    },
    {
      "cell_type": "code",
      "execution_count": 25,
      "metadata": {},
      "outputs": [
        {
          "output_type": "stream",
          "name": "stderr",
          "text": [
            "15it [05:46, 23.07s/it]15\n",
            "\n"
          ]
        },
        {
          "output_type": "execute_result",
          "data": {
            "text/plain": [
              "[array([[-0.05609392,  0.06580675,  0.00288801, ...,  0.03235087,\n",
              "          0.02640255,  0.09108814],\n",
              "        [-0.02744744,  0.11165374,  0.15432188, ...,  0.09745226,\n",
              "          0.02141063,  0.04501676],\n",
              "        [ 0.02186741,  0.11955099, -0.05015208, ...,  0.07023812,\n",
              "          0.06406705,  0.11280756],\n",
              "        ...,\n",
              "        [ 0.03833692,  0.00763546,  0.0730688 , ...,  0.02679311,\n",
              "          0.06276177,  0.03303298],\n",
              "        [ 0.11543263, -0.03130533, -0.0221981 , ...,  0.08479866,\n",
              "          0.01871159, -0.01357558],\n",
              "        [-0.04530556,  0.04418998,  0.04124793, ..., -0.00289623,\n",
              "         -0.04077251,  0.05696385]]),\n",
              " array([[-0.05609392,  0.06580675,  0.00288801, ...,  0.03235087,\n",
              "          0.02640255,  0.09108814],\n",
              "        [-0.02744744,  0.11165374,  0.15432188, ...,  0.09745226,\n",
              "          0.02141063,  0.04501676],\n",
              "        [ 0.02186741,  0.11955099, -0.05015208, ...,  0.07023812,\n",
              "          0.06406705,  0.11280756],\n",
              "        ...,\n",
              "        [ 0.03833692,  0.00763546,  0.0730688 , ...,  0.02679311,\n",
              "          0.06276177,  0.03303298],\n",
              "        [ 0.11543263, -0.03130533, -0.0221981 , ...,  0.08479866,\n",
              "          0.01871159, -0.01357558],\n",
              "        [-0.04530556,  0.04418998,  0.04124793, ..., -0.00289623,\n",
              "         -0.04077251,  0.05696385]])]"
            ]
          },
          "metadata": {},
          "execution_count": 25
        }
      ],
      "source": [
        "#est model; latent factors= 20 , regularization = 10, n_iter = 20, alpha = 50, AUC = 0.87067\n",
        "Ulist_als,Vlist_als = alternating_least_squares_cg(UserItem_RatMAT[-1],nuser_list,nItem_list,factors=20,alpha=50,reglr=10,iter=20)\n",
        "print(len(Ulist_als))  \n",
        "Ulist_als[:2]"
      ]
    },
    {
      "cell_type": "code",
      "execution_count": 29,
      "metadata": {},
      "outputs": [
        {
          "output_type": "execute_result",
          "data": {
            "text/plain": [
              "15"
            ]
          },
          "metadata": {},
          "execution_count": 29
        }
      ],
      "source": [
        "len(UserItem_RatMAT)"
      ]
    },
    {
      "cell_type": "code",
      "execution_count": 30,
      "metadata": {},
      "outputs": [
        {
          "output_type": "stream",
          "name": "stdout",
          "text": [
            "15\n"
          ]
        },
        {
          "output_type": "execute_result",
          "data": {
            "text/plain": [
              "[array([[ 1050,   145,   385, ...,   882,  1552,   610],\n",
              "        [15563, 13773, 15455, ..., 17122, 14760, 12905],\n",
              "        [  385,  1050,   145, ...,   958,  1552,   346],\n",
              "        ...,\n",
              "        [ 4255,  6027,  6055, ...,  6113,  4738,  7315],\n",
              "        [13045, 13519, 15194, ...,  8855, 11782, 14341],\n",
              "        [ 6532,  7469,  7807, ...,  7319, 11121,  8077]]),\n",
              " array([[ 1050,   145,   385, ...,   882,  1552,   610],\n",
              "        [15563, 13773, 15455, ..., 17122, 14760, 12905],\n",
              "        [  385,  1050,   145, ...,   958,  1552,   346],\n",
              "        ...,\n",
              "        [ 4255,  6027,  6055, ...,  6113,  4738,  7315],\n",
              "        [13045, 13519, 15194, ...,  8855, 11782, 14341],\n",
              "        [ 6532,  7469,  7807, ...,  7319, 11121,  8077]])]"
            ]
          },
          "metadata": {},
          "execution_count": 30
        }
      ],
      "source": [
        "##All prediction:\n",
        "All_alsPRED_List = ialsALLPred_ALLUSERS(UserItem_RatMAT,Ulist_als,Vlist_als,N=10)\n",
        "print(len(All_alsPRED_List))\n",
        "All_alsPRED_List[:2]"
      ]
    },
    {
      "cell_type": "code",
      "execution_count": 31,
      "metadata": {},
      "outputs": [
        {
          "output_type": "execute_result",
          "data": {
            "text/plain": [
              "(39284, 10)"
            ]
          },
          "metadata": {},
          "execution_count": 31
        }
      ],
      "source": [
        "All_alsPRED_List[0].shape"
      ]
    },
    {
      "cell_type": "code",
      "execution_count": 32,
      "metadata": {},
      "outputs": [],
      "source": [
        "with open('AMZGms_iALS_allPRED.pkl', 'wb') as f:\n",
        "     pickle.dump(All_alsPRED_List, f)\n"
      ]
    },
    {
      "cell_type": "code",
      "execution_count": 26,
      "metadata": {},
      "outputs": [
        {
          "output_type": "stream",
          "name": "stderr",
          "text": [
            "15it [00:08,  1.84it/s]15\n",
            "\n"
          ]
        },
        {
          "output_type": "execute_result",
          "data": {
            "text/plain": [
              "[array([[   29,    28,  7926, ...,  8042,  2414,   681],\n",
              "        [ 6413,  2061, 11706, ...,  4807,  6752,  4905],\n",
              "        [11641, 10874, 11877, ...,  4532, 13519, 11782],\n",
              "        ...,\n",
              "        [10355,  5862,  7194, ...,  7691,  8975, 10236],\n",
              "        [ 4919, 11918, 12867, ...,  6438,  6103,  8209],\n",
              "        [ 8855,  7812,  4110, ...,  5445,  7194,  4190]]),\n",
              " array([[   29,   958,  1050, ...,   874,     1,  2611],\n",
              "        [ 4255,  3771,  4919, ..., 15452, 11891,  6752],\n",
              "        [13171, 16336, 12905, ..., 12652, 12406, 13491],\n",
              "        ...,\n",
              "        [ 5397, 12867, 10247, ...,  8220, 10323,  4436],\n",
              "        [13858, 16096, 14362, ..., 14471, 14065, 14325],\n",
              "        [16096, 15189, 14800, ..., 14325, 14801, 10377]])]"
            ]
          },
          "metadata": {},
          "execution_count": 26
        }
      ],
      "source": [
        "                #ials_getALLPredTQDM(RatingMat_List,HOLDOUT_list,U_list,V_list,user_column,N)\n",
        "Allals_topNPRED =  ials_getALLPredTQDM(UserItem_RatMAT,newHOLDOUT_LIST,Ulist_als,Vlist_als,'Updated_UserID',N = 10)\n",
        "print(len(Allals_topNPRED))\n",
        "Allals_topNPRED[:2]"
      ]
    },
    {
      "cell_type": "code",
      "execution_count": null,
      "metadata": {},
      "outputs": [],
      "source": []
    },
    {
      "cell_type": "markdown",
      "metadata": {
        "id": "dlm-q9ms_BWw"
      },
      "source": [
        "## Regular PSI "
      ]
    },
    {
      "cell_type": "markdown",
      "metadata": {
        "id": "uWbLS4cbPI19"
      },
      "source": [
        "### Get Rating Matrices"
      ]
    },
    {
      "cell_type": "code",
      "metadata": {
        "id": "0i3Z3Aay8NGe",
        "outputId": "c4064d1d-a5b5-4365-e677-9de2fc7f9758"
      },
      "source": [
        "print(newAMZGames_DF.shape)\n",
        "print(newAMZGames_DF['userId'].max(),newAMZGames_DF['productId'].max())\n",
        "print(newAMZGames_DF['userId'].nunique(),newAMZGames_DF['productId'].nunique())\n",
        "print()\n",
        "print(newAMZGames_DF['Updated_UserID'].max(),newAMZGames_DF['Updated_ItemID'].max())\n",
        "print(newAMZGames_DF['Updated_UserID'].nunique(),newAMZGames_DF['Updated_ItemID'].nunique())\n",
        "newAMZGames_DF.head()"
      ],
      "execution_count": 62,
      "outputs": [
        {
          "output_type": "stream",
          "name": "stdout",
          "text": [
            "(345203, 9)\n39283 17319\n39284 17318\n\n39283 17317\n39284 17318\n"
          ]
        },
        {
          "output_type": "execute_result",
          "data": {
            "text/plain": [
              "           userid   ProductID  rating  timestamp timestamp_YM  userId  \\\n",
              "0  A2AXQTB83VMK4L  B0000296O5       1 1999-10-14      1999-10       0   \n",
              "1  A2T04VAIXSKJH2  B00002NDRY       1 1999-11-05      1999-11       1   \n",
              "2  A1QA8K3LD9K892  B000021Y5F       1 1999-11-10      1999-11       2   \n",
              "3  A1QA8K3LD9K892  B000021Y5Q       1 1999-11-10      1999-11       2   \n",
              "4   ANLA598UNJI8A  B00001IVGE       1 1999-11-14      1999-11       3   \n",
              "\n",
              "   productId  Updated_UserID  Updated_ItemID  \n",
              "0          0               0               0  \n",
              "1          1               1               1  \n",
              "2          2               2               2  \n",
              "3          3               2               3  \n",
              "4          4               3               4  "
            ],
            "text/html": "<div>\n<style scoped>\n    .dataframe tbody tr th:only-of-type {\n        vertical-align: middle;\n    }\n\n    .dataframe tbody tr th {\n        vertical-align: top;\n    }\n\n    .dataframe thead th {\n        text-align: right;\n    }\n</style>\n<table border=\"1\" class=\"dataframe\">\n  <thead>\n    <tr style=\"text-align: right;\">\n      <th></th>\n      <th>userid</th>\n      <th>ProductID</th>\n      <th>rating</th>\n      <th>timestamp</th>\n      <th>timestamp_YM</th>\n      <th>userId</th>\n      <th>productId</th>\n      <th>Updated_UserID</th>\n      <th>Updated_ItemID</th>\n    </tr>\n  </thead>\n  <tbody>\n    <tr>\n      <th>0</th>\n      <td>A2AXQTB83VMK4L</td>\n      <td>B0000296O5</td>\n      <td>1</td>\n      <td>1999-10-14</td>\n      <td>1999-10</td>\n      <td>0</td>\n      <td>0</td>\n      <td>0</td>\n      <td>0</td>\n    </tr>\n    <tr>\n      <th>1</th>\n      <td>A2T04VAIXSKJH2</td>\n      <td>B00002NDRY</td>\n      <td>1</td>\n      <td>1999-11-05</td>\n      <td>1999-11</td>\n      <td>1</td>\n      <td>1</td>\n      <td>1</td>\n      <td>1</td>\n    </tr>\n    <tr>\n      <th>2</th>\n      <td>A1QA8K3LD9K892</td>\n      <td>B000021Y5F</td>\n      <td>1</td>\n      <td>1999-11-10</td>\n      <td>1999-11</td>\n      <td>2</td>\n      <td>2</td>\n      <td>2</td>\n      <td>2</td>\n    </tr>\n    <tr>\n      <th>3</th>\n      <td>A1QA8K3LD9K892</td>\n      <td>B000021Y5Q</td>\n      <td>1</td>\n      <td>1999-11-10</td>\n      <td>1999-11</td>\n      <td>2</td>\n      <td>3</td>\n      <td>2</td>\n      <td>3</td>\n    </tr>\n    <tr>\n      <th>4</th>\n      <td>ANLA598UNJI8A</td>\n      <td>B00001IVGE</td>\n      <td>1</td>\n      <td>1999-11-14</td>\n      <td>1999-11</td>\n      <td>3</td>\n      <td>4</td>\n      <td>3</td>\n      <td>4</td>\n    </tr>\n  </tbody>\n</table>\n</div>"
          },
          "metadata": {},
          "execution_count": 62
        }
      ]
    },
    {
      "cell_type": "code",
      "metadata": {
        "colab": {
          "base_uri": "https://localhost:8080/"
        },
        "id": "9VaLJAAPRRLc",
        "outputId": "3cb7f9b6-ccb4-4b5a-ef25-66be8380bd80"
      },
      "source": [
        "rows_i = newAMZGames_DF['Updated_UserID'].nunique()\n",
        "cols_i = newAMZGames_DF['Updated_ItemID'].nunique()\n",
        "print(A0_df.shape)\n",
        "A0_Rating_matrix = SingleRatingMatrix(A0_df,'userId', 'productId',rows_i,cols_i)  ##changes start within steps...\n",
        "A0_Rating_matrix"
      ],
      "execution_count": 63,
      "outputs": [
        {
          "output_type": "stream",
          "name": "stdout",
          "text": [
            "(217772, 7)\n"
          ]
        },
        {
          "output_type": "execute_result",
          "data": {
            "text/plain": [
              "<39284x17318 sparse matrix of type '<class 'numpy.float64'>'\n",
              "\twith 203890 stored elements in Compressed Sparse Row format>"
            ]
          },
          "metadata": {},
          "execution_count": 63
        }
      ]
    },
    {
      "cell_type": "code",
      "metadata": {
        "id": "1deDiBeP8NGg",
        "outputId": "b76bfb65-a52f-490b-c011-f66c0757240b"
      },
      "source": [
        "for df in new_PSIDFlist:\n",
        "    print(df['Updated_UserID'].max(),df['Updated_ItemID'].max())"
      ],
      "execution_count": 64,
      "outputs": [
        {
          "output_type": "stream",
          "name": "stdout",
          "text": [
            "34575 16138\n35001 16293\n35388 16440\n35796 16569\n36205 16704\n36582 16817\n36928 16966\n37278 17071\n37643 17117\n37950 17161\n38234 17197\n38517 17233\n38808 17270\n39088 17290\n39283 17317\n"
          ]
        }
      ]
    },
    {
      "cell_type": "code",
      "metadata": {
        "colab": {
          "base_uri": "https://localhost:8080/"
        },
        "id": "PJgsMKCpRRMD",
        "outputId": "1b4cc003-3329-4043-de8a-c5f7d5a40e41"
      },
      "source": [
        "print(\"Length of PSI_Train :\",len(ΔA_train))\n",
        "print(\"Length of PSI_Test  :\",len(new_PSIDFlist))"
      ],
      "execution_count": 65,
      "outputs": [
        {
          "output_type": "stream",
          "name": "stdout",
          "text": [
            "Length of PSI_Train : 8\nLength of PSI_Test  : 15\n"
          ]
        }
      ]
    },
    {
      "cell_type": "code",
      "metadata": {
        "colab": {
          "base_uri": "https://localhost:8080/"
        },
        "id": "EBFJoOOvRRME",
        "outputId": "fd8f9149-59dd-40ad-d6c5-572b6df59721"
      },
      "source": [
        "PSI_train_matrix = AllRatingMatrices(ΔA_train,'userId','productId',rows_i ,cols_i)\n",
        "PSI_train_matrix   "
      ],
      "execution_count": 66,
      "outputs": [
        {
          "output_type": "execute_result",
          "data": {
            "text/plain": [
              "[<39284x17318 sparse matrix of type '<class 'numpy.float64'>'\n",
              " \twith 5390 stored elements in Compressed Sparse Row format>,\n",
              " <39284x17318 sparse matrix of type '<class 'numpy.float64'>'\n",
              " \twith 5394 stored elements in Compressed Sparse Row format>,\n",
              " <39284x17318 sparse matrix of type '<class 'numpy.float64'>'\n",
              " \twith 5404 stored elements in Compressed Sparse Row format>,\n",
              " <39284x17318 sparse matrix of type '<class 'numpy.float64'>'\n",
              " \twith 5391 stored elements in Compressed Sparse Row format>,\n",
              " <39284x17318 sparse matrix of type '<class 'numpy.float64'>'\n",
              " \twith 5440 stored elements in Compressed Sparse Row format>,\n",
              " <39284x17318 sparse matrix of type '<class 'numpy.float64'>'\n",
              " \twith 5436 stored elements in Compressed Sparse Row format>,\n",
              " <39284x17318 sparse matrix of type '<class 'numpy.float64'>'\n",
              " \twith 5439 stored elements in Compressed Sparse Row format>,\n",
              " <39284x17318 sparse matrix of type '<class 'numpy.float64'>'\n",
              " \twith 5431 stored elements in Compressed Sparse Row format>]"
            ]
          },
          "metadata": {},
          "execution_count": 66
        }
      ]
    },
    {
      "cell_type": "code",
      "metadata": {
        "id": "8M_ymqxs8NGk",
        "outputId": "0104bf9b-3bdd-4f8b-919c-7be44f27ddcf"
      },
      "source": [
        "PSI_test_matrix = AllRatingMatrices(new_PSIDFlist,'Updated_UserID','Updated_ItemID',rows_i ,cols_i)                                                                      \n",
        "print(len(PSI_test_matrix))\n",
        "PSI_test_matrix"
      ],
      "execution_count": 67,
      "outputs": [
        {
          "output_type": "stream",
          "name": "stdout",
          "text": [
            "15\n"
          ]
        },
        {
          "output_type": "execute_result",
          "data": {
            "text/plain": [
              "[<39284x17318 sparse matrix of type '<class 'numpy.float64'>'\n",
              " \twith 3248 stored elements in Compressed Sparse Row format>,\n",
              " <39284x17318 sparse matrix of type '<class 'numpy.float64'>'\n",
              " \twith 3100 stored elements in Compressed Sparse Row format>,\n",
              " <39284x17318 sparse matrix of type '<class 'numpy.float64'>'\n",
              " \twith 3146 stored elements in Compressed Sparse Row format>,\n",
              " <39284x17318 sparse matrix of type '<class 'numpy.float64'>'\n",
              " \twith 3229 stored elements in Compressed Sparse Row format>,\n",
              " <39284x17318 sparse matrix of type '<class 'numpy.float64'>'\n",
              " \twith 3216 stored elements in Compressed Sparse Row format>,\n",
              " <39284x17318 sparse matrix of type '<class 'numpy.float64'>'\n",
              " \twith 3217 stored elements in Compressed Sparse Row format>,\n",
              " <39284x17318 sparse matrix of type '<class 'numpy.float64'>'\n",
              " \twith 3120 stored elements in Compressed Sparse Row format>,\n",
              " <39284x17318 sparse matrix of type '<class 'numpy.float64'>'\n",
              " \twith 3193 stored elements in Compressed Sparse Row format>,\n",
              " <39284x17318 sparse matrix of type '<class 'numpy.float64'>'\n",
              " \twith 3269 stored elements in Compressed Sparse Row format>,\n",
              " <39284x17318 sparse matrix of type '<class 'numpy.float64'>'\n",
              " \twith 3236 stored elements in Compressed Sparse Row format>,\n",
              " <39284x17318 sparse matrix of type '<class 'numpy.float64'>'\n",
              " \twith 3185 stored elements in Compressed Sparse Row format>,\n",
              " <39284x17318 sparse matrix of type '<class 'numpy.float64'>'\n",
              " \twith 3212 stored elements in Compressed Sparse Row format>,\n",
              " <39284x17318 sparse matrix of type '<class 'numpy.float64'>'\n",
              " \twith 3223 stored elements in Compressed Sparse Row format>,\n",
              " <39284x17318 sparse matrix of type '<class 'numpy.float64'>'\n",
              " \twith 3227 stored elements in Compressed Sparse Row format>,\n",
              " <39284x17318 sparse matrix of type '<class 'numpy.float64'>'\n",
              " \twith 2980 stored elements in Compressed Sparse Row format>]"
            ]
          },
          "metadata": {},
          "execution_count": 67
        }
      ]
    },
    {
      "cell_type": "code",
      "metadata": {
        "id": "1nRNYRwH8NGm",
        "outputId": "385e0297-a621-410c-920d-48a288304ce2"
      },
      "source": [
        "UserItemMAT_regPSI = AllRatingMatrices(newUserItem_list,'Updated_UserID','Updated_ItemID',rows_i ,cols_i) \n",
        "UserItemMAT_regPSI  "
      ],
      "execution_count": 68,
      "outputs": [
        {
          "output_type": "execute_result",
          "data": {
            "text/plain": [
              "[<39284x17318 sparse matrix of type '<class 'numpy.float64'>'\n",
              " \twith 250384 stored elements in Compressed Sparse Row format>,\n",
              " <39284x17318 sparse matrix of type '<class 'numpy.float64'>'\n",
              " \twith 255520 stored elements in Compressed Sparse Row format>,\n",
              " <39284x17318 sparse matrix of type '<class 'numpy.float64'>'\n",
              " \twith 261105 stored elements in Compressed Sparse Row format>,\n",
              " <39284x17318 sparse matrix of type '<class 'numpy.float64'>'\n",
              " \twith 266597 stored elements in Compressed Sparse Row format>,\n",
              " <39284x17318 sparse matrix of type '<class 'numpy.float64'>'\n",
              " \twith 272102 stored elements in Compressed Sparse Row format>,\n",
              " <39284x17318 sparse matrix of type '<class 'numpy.float64'>'\n",
              " \twith 277572 stored elements in Compressed Sparse Row format>,\n",
              " <39284x17318 sparse matrix of type '<class 'numpy.float64'>'\n",
              " \twith 282899 stored elements in Compressed Sparse Row format>,\n",
              " <39284x17318 sparse matrix of type '<class 'numpy.float64'>'\n",
              " \twith 288493 stored elements in Compressed Sparse Row format>,\n",
              " <39284x17318 sparse matrix of type '<class 'numpy.float64'>'\n",
              " \twith 294033 stored elements in Compressed Sparse Row format>,\n",
              " <39284x17318 sparse matrix of type '<class 'numpy.float64'>'\n",
              " \twith 299422 stored elements in Compressed Sparse Row format>,\n",
              " <39284x17318 sparse matrix of type '<class 'numpy.float64'>'\n",
              " \twith 304874 stored elements in Compressed Sparse Row format>,\n",
              " <39284x17318 sparse matrix of type '<class 'numpy.float64'>'\n",
              " \twith 310345 stored elements in Compressed Sparse Row format>,\n",
              " <39284x17318 sparse matrix of type '<class 'numpy.float64'>'\n",
              " \twith 315857 stored elements in Compressed Sparse Row format>,\n",
              " <39284x17318 sparse matrix of type '<class 'numpy.float64'>'\n",
              " \twith 321360 stored elements in Compressed Sparse Row format>,\n",
              " <39284x17318 sparse matrix of type '<class 'numpy.float64'>'\n",
              " \twith 326607 stored elements in Compressed Sparse Row format>]"
            ]
          },
          "metadata": {},
          "execution_count": 68
        }
      ]
    },
    {
      "cell_type": "code",
      "metadata": {
        "colab": {
          "base_uri": "https://localhost:8080/"
        },
        "id": "bZGtyUJPRCff",
        "outputId": "8e7cd4d6-1f3a-42b7-806e-6ebdb96bed2b"
      },
      "source": [
        "print(AllDF_list[-1]['userId'].nunique(),AllDF_list[-1]['productId'].nunique())\n",
        "print(AMZGames_DF['userId'].nunique(),AMZGames_DF['productId'].nunique())"
      ],
      "execution_count": 69,
      "outputs": [
        {
          "output_type": "stream",
          "name": "stdout",
          "text": [
            "39284 17320\n39284 17320\n"
          ]
        }
      ]
    },
    {
      "cell_type": "code",
      "metadata": {
        "colab": {
          "base_uri": "https://localhost:8080/"
        },
        "id": "erGth4eKRRMJ",
        "outputId": "55daf721-ccc9-438f-a637-b77da7712052"
      },
      "source": [
        "Vpsi_listReg =  integratorOnMat(A0_Rating_matrix,PSI_train_matrix,PSI_test_matrix,k=80)  #PSI\n",
        "print(len(Vpsi_listReg))  "
      ],
      "execution_count": 70,
      "outputs": [
        {
          "output_type": "stream",
          "name": "stdout",
          "text": [
            "15\n"
          ]
        }
      ]
    },
    {
      "cell_type": "code",
      "metadata": {
        "id": "-ALFq_slAffr"
      },
      "source": [],
      "execution_count": null,
      "outputs": []
    },
    {
      "cell_type": "markdown",
      "metadata": {
        "id": "iPIvCmfbnLsl"
      },
      "source": [
        "### All Pred"
      ]
    },
    {
      "cell_type": "code",
      "metadata": {
        "id": "ODBMy0uE8NGv",
        "outputId": "e252c358-d034-4443-f224-92a89b457e56"
      },
      "source": [
        "AllUsersRegPIS_PRED =  TQDMgetALLTopNPred_ALLUSERS(UserItemMAT_regPSI,Vpsi_listReg, N=10) \n",
        "print(len(AllUsersRegPIS_PRED))\n",
        "AllUsersRegPIS_PRED[:2]"
      ],
      "execution_count": 71,
      "outputs": [
        {
          "output_type": "stream",
          "name": "stderr",
          "text": [
            "15it [02:24,  9.64s/it]15\n",
            "\n"
          ]
        },
        {
          "output_type": "execute_result",
          "data": {
            "text/plain": [
              "[array([[ 1434,   145,   385, ...,   687,   882,   284],\n",
              "        [13491, 12905, 11924, ..., 13384, 14555, 12595],\n",
              "        [  385,   145,     0, ...,   345,   958,  1801],\n",
              "        ...,\n",
              "        [ 5775,  5777,  5782, ...,  5771,  5770, 17317],\n",
              "        [ 5775,  5777,  5782, ...,  5771,  5770, 17317],\n",
              "        [ 5775,  5777,  5782, ...,  5771,  5770, 17317]]),\n",
              " array([[ 1434,   145,   385, ...,   687,   882,   284],\n",
              "        [13491, 12905, 11924, ..., 13384, 14555, 12595],\n",
              "        [  385,   145,     0, ...,   345,   958,  1801],\n",
              "        ...,\n",
              "        [ 5775,  5777,  5782, ...,  5771,  5770, 17317],\n",
              "        [ 5775,  5777,  5782, ...,  5771,  5770, 17317],\n",
              "        [ 5775,  5777,  5782, ...,  5771,  5770, 17317]])]"
            ]
          },
          "metadata": {},
          "execution_count": 71
        }
      ]
    },
    {
      "cell_type": "code",
      "metadata": {
        "id": "73btpxdn8NGv"
      },
      "source": [
        "with open('/mnt/bulky/oolaleke/TDM_Dataset/AMZ_GamesFiles/AMZG_PSI_allPRED.pkl', 'wb') as f:  \n",
        "     pickle.dump(AllUsersRegPIS_PRED, f)\n"
      ],
      "execution_count": 74,
      "outputs": []
    },
    {
      "cell_type": "code",
      "metadata": {
        "id": "rq50242q8NGw",
        "outputId": "708ff346-61f0-45eb-fe4b-54c2e88875d2"
      },
      "source": [
        "AllUsersRegPIS_PRED[2].shape"
      ],
      "execution_count": 73,
      "outputs": [
        {
          "output_type": "execute_result",
          "data": {
            "text/plain": [
              "(39284, 10)"
            ]
          },
          "metadata": {},
          "execution_count": 73
        }
      ]
    },
    {
      "cell_type": "code",
      "metadata": {
        "id": "2USarS-qnYeZ"
      },
      "source": [],
      "execution_count": null,
      "outputs": []
    },
    {
      "cell_type": "markdown",
      "metadata": {
        "id": "PkouMhzgmD-N"
      },
      "source": [
        "## Pure SVD"
      ]
    },
    {
      "cell_type": "markdown",
      "metadata": {
        "id": "IplkHKXjmEAU"
      },
      "source": [
        "### Get Rating Matrices"
      ]
    },
    {
      "cell_type": "code",
      "metadata": {
        "id": "CqfE0PNF8NG1",
        "outputId": "e3b1b61c-4d5b-4913-9d5a-1a9528958c35"
      },
      "source": [
        "rows_i = newAMZGames_DF['Updated_UserID'].nunique()\n",
        "cols_i = newAMZGames_DF['Updated_ItemID'].nunique()\n",
        "SVD_UserItemMAT = AllRatingMatrices(newUserItem_list,'Updated_UserID','Updated_ItemID',rows_i ,cols_i)\n",
        "SVD_UserItemMAT"
      ],
      "execution_count": 75,
      "outputs": [
        {
          "output_type": "execute_result",
          "data": {
            "text/plain": [
              "[<39284x17318 sparse matrix of type '<class 'numpy.float64'>'\n",
              " \twith 250384 stored elements in Compressed Sparse Row format>,\n",
              " <39284x17318 sparse matrix of type '<class 'numpy.float64'>'\n",
              " \twith 255520 stored elements in Compressed Sparse Row format>,\n",
              " <39284x17318 sparse matrix of type '<class 'numpy.float64'>'\n",
              " \twith 261105 stored elements in Compressed Sparse Row format>,\n",
              " <39284x17318 sparse matrix of type '<class 'numpy.float64'>'\n",
              " \twith 266597 stored elements in Compressed Sparse Row format>,\n",
              " <39284x17318 sparse matrix of type '<class 'numpy.float64'>'\n",
              " \twith 272102 stored elements in Compressed Sparse Row format>,\n",
              " <39284x17318 sparse matrix of type '<class 'numpy.float64'>'\n",
              " \twith 277572 stored elements in Compressed Sparse Row format>,\n",
              " <39284x17318 sparse matrix of type '<class 'numpy.float64'>'\n",
              " \twith 282899 stored elements in Compressed Sparse Row format>,\n",
              " <39284x17318 sparse matrix of type '<class 'numpy.float64'>'\n",
              " \twith 288493 stored elements in Compressed Sparse Row format>,\n",
              " <39284x17318 sparse matrix of type '<class 'numpy.float64'>'\n",
              " \twith 294033 stored elements in Compressed Sparse Row format>,\n",
              " <39284x17318 sparse matrix of type '<class 'numpy.float64'>'\n",
              " \twith 299422 stored elements in Compressed Sparse Row format>,\n",
              " <39284x17318 sparse matrix of type '<class 'numpy.float64'>'\n",
              " \twith 304874 stored elements in Compressed Sparse Row format>,\n",
              " <39284x17318 sparse matrix of type '<class 'numpy.float64'>'\n",
              " \twith 310345 stored elements in Compressed Sparse Row format>,\n",
              " <39284x17318 sparse matrix of type '<class 'numpy.float64'>'\n",
              " \twith 315857 stored elements in Compressed Sparse Row format>,\n",
              " <39284x17318 sparse matrix of type '<class 'numpy.float64'>'\n",
              " \twith 321360 stored elements in Compressed Sparse Row format>,\n",
              " <39284x17318 sparse matrix of type '<class 'numpy.float64'>'\n",
              " \twith 326607 stored elements in Compressed Sparse Row format>]"
            ]
          },
          "metadata": {},
          "execution_count": 75
        }
      ]
    },
    {
      "cell_type": "code",
      "metadata": {
        "id": "-7YAxpTBnYRT"
      },
      "source": [
        "##Tuning:\n",
        "def SVDoptimalSearch(RatingMat,holdout,user_column,item_column,start,end,increment,N=10):\n",
        "    AllHitrate = []\n",
        "    for rank in tqdm(range(start,end+1,increment)): \n",
        "        Usvd, Ssvd, VTsvd = svds(RatingMat, k=rank)\n",
        "        Vsvd = VTsvd.T\n",
        "        top_k = TopNPred(RatingMat,holdout,Vsvd, user_column, N)\n",
        "        hit_r = Hitrate_Eval(holdout,top_k,user_column,item_column)\n",
        "        AllHitrate.append(hit_r)\n",
        "    return AllHitrate"
      ],
      "execution_count": 78,
      "outputs": []
    },
    {
      "cell_type": "code",
      "execution_count": 80,
      "metadata": {},
      "outputs": [
        {
          "output_type": "stream",
          "name": "stderr",
          "text": [
            " 10%|█         | 1/10 [00:00<00:06,  1.35it/s]Number of hits:  55\n",
            "Total Num of users:  2018\n",
            "Recommendation HitRate:  0.027254707631318136\n",
            " 20%|██        | 2/10 [00:01<00:06,  1.25it/s]Number of hits:  64\n",
            "Total Num of users:  2018\n",
            "Recommendation HitRate:  0.031714568880079286\n",
            " 30%|███       | 3/10 [00:02<00:06,  1.15it/s]Number of hits:  73\n",
            "Total Num of users:  2018\n",
            "Recommendation HitRate:  0.03617443012884044\n",
            " 40%|████      | 4/10 [00:03<00:05,  1.10it/s]Number of hits:  73\n",
            "Total Num of users:  2018\n",
            "Recommendation HitRate:  0.03617443012884044\n",
            " 50%|█████     | 5/10 [00:04<00:04,  1.00it/s]Number of hits:  73\n",
            "Total Num of users:  2018\n",
            "Recommendation HitRate:  0.03617443012884044\n",
            " 60%|██████    | 6/10 [00:05<00:04,  1.11s/it]Number of hits:  83\n",
            "Total Num of users:  2018\n",
            "Recommendation HitRate:  0.04112983151635283\n",
            " 70%|███████   | 7/10 [00:07<00:03,  1.20s/it]Number of hits:  86\n",
            "Total Num of users:  2018\n",
            "Recommendation HitRate:  0.04261645193260654\n",
            " 80%|████████  | 8/10 [00:09<00:02,  1.41s/it]Number of hits:  96\n",
            "Total Num of users:  2018\n",
            "Recommendation HitRate:  0.04757185332011893\n",
            " 90%|█████████ | 9/10 [00:10<00:01,  1.50s/it]Number of hits:  95\n",
            "Total Num of users:  2018\n",
            "Recommendation HitRate:  0.04707631318136769\n",
            "100%|██████████| 10/10 [00:12<00:00,  1.29s/it]Number of hits:  92\n",
            "Total Num of users:  2018\n",
            "Recommendation HitRate:  0.04558969276511397\n",
            "\n"
          ]
        }
      ],
      "source": [
        "AllHitrate = SVDoptimalSearch(SVD_UserItemMAT[0],newHOLDOUT_LIST[0],'Updated_UserID','Updated_ItemID',start=10,end=100,increment=10,N=10)"
      ]
    },
    {
      "cell_type": "code",
      "execution_count": 81,
      "metadata": {},
      "outputs": [
        {
          "output_type": "execute_result",
          "data": {
            "text/plain": [
              "[0.027254707631318136,\n",
              " 0.031714568880079286,\n",
              " 0.03617443012884044,\n",
              " 0.03617443012884044,\n",
              " 0.03617443012884044,\n",
              " 0.04112983151635283,\n",
              " 0.04261645193260654,\n",
              " 0.04757185332011893,\n",
              " 0.04707631318136769,\n",
              " 0.04558969276511397]"
            ]
          },
          "metadata": {},
          "execution_count": 81
        }
      ],
      "source": [
        "AllHitrate"
      ]
    },
    {
      "cell_type": "code",
      "execution_count": 82,
      "metadata": {},
      "outputs": [
        {
          "output_type": "execute_result",
          "data": {
            "text/plain": [
              "[<matplotlib.lines.Line2D at 0x7fd7eeaf5430>]"
            ]
          },
          "metadata": {},
          "execution_count": 82
        },
        {
          "output_type": "display_data",
          "data": {
            "text/plain": "<Figure size 432x288 with 1 Axes>",
            "image/svg+xml": "<?xml version=\"1.0\" encoding=\"utf-8\" standalone=\"no\"?>\n<!DOCTYPE svg PUBLIC \"-//W3C//DTD SVG 1.1//EN\"\n  \"http://www.w3.org/Graphics/SVG/1.1/DTD/svg11.dtd\">\n<svg height=\"248.518125pt\" version=\"1.1\" viewBox=\"0 0 391.190625 248.518125\" width=\"391.190625pt\" xmlns=\"http://www.w3.org/2000/svg\" xmlns:xlink=\"http://www.w3.org/1999/xlink\">\n <metadata>\n  <rdf:RDF xmlns:cc=\"http://creativecommons.org/ns#\" xmlns:dc=\"http://purl.org/dc/elements/1.1/\" xmlns:rdf=\"http://www.w3.org/1999/02/22-rdf-syntax-ns#\">\n   <cc:Work>\n    <dc:type rdf:resource=\"http://purl.org/dc/dcmitype/StillImage\"/>\n    <dc:date>2021-05-17T03:18:11.339204</dc:date>\n    <dc:format>image/svg+xml</dc:format>\n    <dc:creator>\n     <cc:Agent>\n      <dc:title>Matplotlib v3.4.1, https://matplotlib.org/</dc:title>\n     </cc:Agent>\n    </dc:creator>\n   </cc:Work>\n  </rdf:RDF>\n </metadata>\n <defs>\n  <style type=\"text/css\">*{stroke-linecap:butt;stroke-linejoin:round;}</style>\n </defs>\n <g id=\"figure_1\">\n  <g id=\"patch_1\">\n   <path d=\"M 0 248.518125 \nL 391.190625 248.518125 \nL 391.190625 0 \nL 0 0 \nz\n\" style=\"fill:none;\"/>\n  </g>\n  <g id=\"axes_1\">\n   <g id=\"patch_2\">\n    <path d=\"M 49.190625 224.64 \nL 383.990625 224.64 \nL 383.990625 7.2 \nL 49.190625 7.2 \nz\n\" style=\"fill:#ffffff;\"/>\n   </g>\n   <g id=\"matplotlib.axis_1\">\n    <g id=\"xtick_1\">\n     <g id=\"line2d_1\">\n      <defs>\n       <path d=\"M 0 0 \nL 0 3.5 \n\" id=\"m8d8771966e\" style=\"stroke:#000000;stroke-width:0.8;\"/>\n      </defs>\n      <g>\n       <use style=\"stroke:#000000;stroke-width:0.8;\" x=\"64.408807\" xlink:href=\"#m8d8771966e\" y=\"224.64\"/>\n      </g>\n     </g>\n     <g id=\"text_1\">\n      <!-- 0 -->\n      <g transform=\"translate(61.227557 239.238437)scale(0.1 -0.1)\">\n       <defs>\n        <path d=\"M 2034 4250 \nQ 1547 4250 1301 3770 \nQ 1056 3291 1056 2328 \nQ 1056 1369 1301 889 \nQ 1547 409 2034 409 \nQ 2525 409 2770 889 \nQ 3016 1369 3016 2328 \nQ 3016 3291 2770 3770 \nQ 2525 4250 2034 4250 \nz\nM 2034 4750 \nQ 2819 4750 3233 4129 \nQ 3647 3509 3647 2328 \nQ 3647 1150 3233 529 \nQ 2819 -91 2034 -91 \nQ 1250 -91 836 529 \nQ 422 1150 422 2328 \nQ 422 3509 836 4129 \nQ 1250 4750 2034 4750 \nz\n\" id=\"DejaVuSans-30\" transform=\"scale(0.015625)\"/>\n       </defs>\n       <use xlink:href=\"#DejaVuSans-30\"/>\n      </g>\n     </g>\n    </g>\n    <g id=\"xtick_2\">\n     <g id=\"line2d_2\">\n      <g>\n       <use style=\"stroke:#000000;stroke-width:0.8;\" x=\"132.04517\" xlink:href=\"#m8d8771966e\" y=\"224.64\"/>\n      </g>\n     </g>\n     <g id=\"text_2\">\n      <!-- 2 -->\n      <g transform=\"translate(128.86392 239.238437)scale(0.1 -0.1)\">\n       <defs>\n        <path d=\"M 1228 531 \nL 3431 531 \nL 3431 0 \nL 469 0 \nL 469 531 \nQ 828 903 1448 1529 \nQ 2069 2156 2228 2338 \nQ 2531 2678 2651 2914 \nQ 2772 3150 2772 3378 \nQ 2772 3750 2511 3984 \nQ 2250 4219 1831 4219 \nQ 1534 4219 1204 4116 \nQ 875 4013 500 3803 \nL 500 4441 \nQ 881 4594 1212 4672 \nQ 1544 4750 1819 4750 \nQ 2544 4750 2975 4387 \nQ 3406 4025 3406 3419 \nQ 3406 3131 3298 2873 \nQ 3191 2616 2906 2266 \nQ 2828 2175 2409 1742 \nQ 1991 1309 1228 531 \nz\n\" id=\"DejaVuSans-32\" transform=\"scale(0.015625)\"/>\n       </defs>\n       <use xlink:href=\"#DejaVuSans-32\"/>\n      </g>\n     </g>\n    </g>\n    <g id=\"xtick_3\">\n     <g id=\"line2d_3\">\n      <g>\n       <use style=\"stroke:#000000;stroke-width:0.8;\" x=\"199.681534\" xlink:href=\"#m8d8771966e\" y=\"224.64\"/>\n      </g>\n     </g>\n     <g id=\"text_3\">\n      <!-- 4 -->\n      <g transform=\"translate(196.500284 239.238437)scale(0.1 -0.1)\">\n       <defs>\n        <path d=\"M 2419 4116 \nL 825 1625 \nL 2419 1625 \nL 2419 4116 \nz\nM 2253 4666 \nL 3047 4666 \nL 3047 1625 \nL 3713 1625 \nL 3713 1100 \nL 3047 1100 \nL 3047 0 \nL 2419 0 \nL 2419 1100 \nL 313 1100 \nL 313 1709 \nL 2253 4666 \nz\n\" id=\"DejaVuSans-34\" transform=\"scale(0.015625)\"/>\n       </defs>\n       <use xlink:href=\"#DejaVuSans-34\"/>\n      </g>\n     </g>\n    </g>\n    <g id=\"xtick_4\">\n     <g id=\"line2d_4\">\n      <g>\n       <use style=\"stroke:#000000;stroke-width:0.8;\" x=\"267.317898\" xlink:href=\"#m8d8771966e\" y=\"224.64\"/>\n      </g>\n     </g>\n     <g id=\"text_4\">\n      <!-- 6 -->\n      <g transform=\"translate(264.136648 239.238437)scale(0.1 -0.1)\">\n       <defs>\n        <path d=\"M 2113 2584 \nQ 1688 2584 1439 2293 \nQ 1191 2003 1191 1497 \nQ 1191 994 1439 701 \nQ 1688 409 2113 409 \nQ 2538 409 2786 701 \nQ 3034 994 3034 1497 \nQ 3034 2003 2786 2293 \nQ 2538 2584 2113 2584 \nz\nM 3366 4563 \nL 3366 3988 \nQ 3128 4100 2886 4159 \nQ 2644 4219 2406 4219 \nQ 1781 4219 1451 3797 \nQ 1122 3375 1075 2522 \nQ 1259 2794 1537 2939 \nQ 1816 3084 2150 3084 \nQ 2853 3084 3261 2657 \nQ 3669 2231 3669 1497 \nQ 3669 778 3244 343 \nQ 2819 -91 2113 -91 \nQ 1303 -91 875 529 \nQ 447 1150 447 2328 \nQ 447 3434 972 4092 \nQ 1497 4750 2381 4750 \nQ 2619 4750 2861 4703 \nQ 3103 4656 3366 4563 \nz\n\" id=\"DejaVuSans-36\" transform=\"scale(0.015625)\"/>\n       </defs>\n       <use xlink:href=\"#DejaVuSans-36\"/>\n      </g>\n     </g>\n    </g>\n    <g id=\"xtick_5\">\n     <g id=\"line2d_5\">\n      <g>\n       <use style=\"stroke:#000000;stroke-width:0.8;\" x=\"334.954261\" xlink:href=\"#m8d8771966e\" y=\"224.64\"/>\n      </g>\n     </g>\n     <g id=\"text_5\">\n      <!-- 8 -->\n      <g transform=\"translate(331.773011 239.238437)scale(0.1 -0.1)\">\n       <defs>\n        <path d=\"M 2034 2216 \nQ 1584 2216 1326 1975 \nQ 1069 1734 1069 1313 \nQ 1069 891 1326 650 \nQ 1584 409 2034 409 \nQ 2484 409 2743 651 \nQ 3003 894 3003 1313 \nQ 3003 1734 2745 1975 \nQ 2488 2216 2034 2216 \nz\nM 1403 2484 \nQ 997 2584 770 2862 \nQ 544 3141 544 3541 \nQ 544 4100 942 4425 \nQ 1341 4750 2034 4750 \nQ 2731 4750 3128 4425 \nQ 3525 4100 3525 3541 \nQ 3525 3141 3298 2862 \nQ 3072 2584 2669 2484 \nQ 3125 2378 3379 2068 \nQ 3634 1759 3634 1313 \nQ 3634 634 3220 271 \nQ 2806 -91 2034 -91 \nQ 1263 -91 848 271 \nQ 434 634 434 1313 \nQ 434 1759 690 2068 \nQ 947 2378 1403 2484 \nz\nM 1172 3481 \nQ 1172 3119 1398 2916 \nQ 1625 2713 2034 2713 \nQ 2441 2713 2670 2916 \nQ 2900 3119 2900 3481 \nQ 2900 3844 2670 4047 \nQ 2441 4250 2034 4250 \nQ 1625 4250 1398 4047 \nQ 1172 3844 1172 3481 \nz\n\" id=\"DejaVuSans-38\" transform=\"scale(0.015625)\"/>\n       </defs>\n       <use xlink:href=\"#DejaVuSans-38\"/>\n      </g>\n     </g>\n    </g>\n   </g>\n   <g id=\"matplotlib.axis_2\">\n    <g id=\"ytick_1\">\n     <g id=\"line2d_6\">\n      <defs>\n       <path d=\"M 0 0 \nL -3.5 0 \n\" id=\"m228382ac09\" style=\"stroke:#000000;stroke-width:0.8;\"/>\n      </defs>\n      <g>\n       <use style=\"stroke:#000000;stroke-width:0.8;\" x=\"49.190625\" xlink:href=\"#m228382ac09\" y=\"212.369827\"/>\n      </g>\n     </g>\n     <g id=\"text_6\">\n      <!-- 0.0275 -->\n      <g transform=\"translate(7.2 216.169046)scale(0.1 -0.1)\">\n       <defs>\n        <path d=\"M 684 794 \nL 1344 794 \nL 1344 0 \nL 684 0 \nL 684 794 \nz\n\" id=\"DejaVuSans-2e\" transform=\"scale(0.015625)\"/>\n        <path d=\"M 525 4666 \nL 3525 4666 \nL 3525 4397 \nL 1831 0 \nL 1172 0 \nL 2766 4134 \nL 525 4134 \nL 525 4666 \nz\n\" id=\"DejaVuSans-37\" transform=\"scale(0.015625)\"/>\n        <path d=\"M 691 4666 \nL 3169 4666 \nL 3169 4134 \nL 1269 4134 \nL 1269 2991 \nQ 1406 3038 1543 3061 \nQ 1681 3084 1819 3084 \nQ 2600 3084 3056 2656 \nQ 3513 2228 3513 1497 \nQ 3513 744 3044 326 \nQ 2575 -91 1722 -91 \nQ 1428 -91 1123 -41 \nQ 819 9 494 109 \nL 494 744 \nQ 775 591 1075 516 \nQ 1375 441 1709 441 \nQ 2250 441 2565 725 \nQ 2881 1009 2881 1497 \nQ 2881 1984 2565 2268 \nQ 2250 2553 1709 2553 \nQ 1456 2553 1204 2497 \nQ 953 2441 691 2322 \nL 691 4666 \nz\n\" id=\"DejaVuSans-35\" transform=\"scale(0.015625)\"/>\n       </defs>\n       <use xlink:href=\"#DejaVuSans-30\"/>\n       <use x=\"63.623047\" xlink:href=\"#DejaVuSans-2e\"/>\n       <use x=\"95.410156\" xlink:href=\"#DejaVuSans-30\"/>\n       <use x=\"159.033203\" xlink:href=\"#DejaVuSans-32\"/>\n       <use x=\"222.65625\" xlink:href=\"#DejaVuSans-37\"/>\n       <use x=\"286.279297\" xlink:href=\"#DejaVuSans-35\"/>\n      </g>\n     </g>\n    </g>\n    <g id=\"ytick_2\">\n     <g id=\"line2d_7\">\n      <g>\n       <use style=\"stroke:#000000;stroke-width:0.8;\" x=\"49.190625\" xlink:href=\"#m228382ac09\" y=\"188.046439\"/>\n      </g>\n     </g>\n     <g id=\"text_7\">\n      <!-- 0.0300 -->\n      <g transform=\"translate(7.2 191.845658)scale(0.1 -0.1)\">\n       <defs>\n        <path d=\"M 2597 2516 \nQ 3050 2419 3304 2112 \nQ 3559 1806 3559 1356 \nQ 3559 666 3084 287 \nQ 2609 -91 1734 -91 \nQ 1441 -91 1130 -33 \nQ 819 25 488 141 \nL 488 750 \nQ 750 597 1062 519 \nQ 1375 441 1716 441 \nQ 2309 441 2620 675 \nQ 2931 909 2931 1356 \nQ 2931 1769 2642 2001 \nQ 2353 2234 1838 2234 \nL 1294 2234 \nL 1294 2753 \nL 1863 2753 \nQ 2328 2753 2575 2939 \nQ 2822 3125 2822 3475 \nQ 2822 3834 2567 4026 \nQ 2313 4219 1838 4219 \nQ 1578 4219 1281 4162 \nQ 984 4106 628 3988 \nL 628 4550 \nQ 988 4650 1302 4700 \nQ 1616 4750 1894 4750 \nQ 2613 4750 3031 4423 \nQ 3450 4097 3450 3541 \nQ 3450 3153 3228 2886 \nQ 3006 2619 2597 2516 \nz\n\" id=\"DejaVuSans-33\" transform=\"scale(0.015625)\"/>\n       </defs>\n       <use xlink:href=\"#DejaVuSans-30\"/>\n       <use x=\"63.623047\" xlink:href=\"#DejaVuSans-2e\"/>\n       <use x=\"95.410156\" xlink:href=\"#DejaVuSans-30\"/>\n       <use x=\"159.033203\" xlink:href=\"#DejaVuSans-33\"/>\n       <use x=\"222.65625\" xlink:href=\"#DejaVuSans-30\"/>\n       <use x=\"286.279297\" xlink:href=\"#DejaVuSans-30\"/>\n      </g>\n     </g>\n    </g>\n    <g id=\"ytick_3\">\n     <g id=\"line2d_8\">\n      <g>\n       <use style=\"stroke:#000000;stroke-width:0.8;\" x=\"49.190625\" xlink:href=\"#m228382ac09\" y=\"163.723051\"/>\n      </g>\n     </g>\n     <g id=\"text_8\">\n      <!-- 0.0325 -->\n      <g transform=\"translate(7.2 167.52227)scale(0.1 -0.1)\">\n       <use xlink:href=\"#DejaVuSans-30\"/>\n       <use x=\"63.623047\" xlink:href=\"#DejaVuSans-2e\"/>\n       <use x=\"95.410156\" xlink:href=\"#DejaVuSans-30\"/>\n       <use x=\"159.033203\" xlink:href=\"#DejaVuSans-33\"/>\n       <use x=\"222.65625\" xlink:href=\"#DejaVuSans-32\"/>\n       <use x=\"286.279297\" xlink:href=\"#DejaVuSans-35\"/>\n      </g>\n     </g>\n    </g>\n    <g id=\"ytick_4\">\n     <g id=\"line2d_9\">\n      <g>\n       <use style=\"stroke:#000000;stroke-width:0.8;\" x=\"49.190625\" xlink:href=\"#m228382ac09\" y=\"139.399663\"/>\n      </g>\n     </g>\n     <g id=\"text_9\">\n      <!-- 0.0350 -->\n      <g transform=\"translate(7.2 143.198882)scale(0.1 -0.1)\">\n       <use xlink:href=\"#DejaVuSans-30\"/>\n       <use x=\"63.623047\" xlink:href=\"#DejaVuSans-2e\"/>\n       <use x=\"95.410156\" xlink:href=\"#DejaVuSans-30\"/>\n       <use x=\"159.033203\" xlink:href=\"#DejaVuSans-33\"/>\n       <use x=\"222.65625\" xlink:href=\"#DejaVuSans-35\"/>\n       <use x=\"286.279297\" xlink:href=\"#DejaVuSans-30\"/>\n      </g>\n     </g>\n    </g>\n    <g id=\"ytick_5\">\n     <g id=\"line2d_10\">\n      <g>\n       <use style=\"stroke:#000000;stroke-width:0.8;\" x=\"49.190625\" xlink:href=\"#m228382ac09\" y=\"115.076275\"/>\n      </g>\n     </g>\n     <g id=\"text_10\">\n      <!-- 0.0375 -->\n      <g transform=\"translate(7.2 118.875494)scale(0.1 -0.1)\">\n       <use xlink:href=\"#DejaVuSans-30\"/>\n       <use x=\"63.623047\" xlink:href=\"#DejaVuSans-2e\"/>\n       <use x=\"95.410156\" xlink:href=\"#DejaVuSans-30\"/>\n       <use x=\"159.033203\" xlink:href=\"#DejaVuSans-33\"/>\n       <use x=\"222.65625\" xlink:href=\"#DejaVuSans-37\"/>\n       <use x=\"286.279297\" xlink:href=\"#DejaVuSans-35\"/>\n      </g>\n     </g>\n    </g>\n    <g id=\"ytick_6\">\n     <g id=\"line2d_11\">\n      <g>\n       <use style=\"stroke:#000000;stroke-width:0.8;\" x=\"49.190625\" xlink:href=\"#m228382ac09\" y=\"90.752887\"/>\n      </g>\n     </g>\n     <g id=\"text_11\">\n      <!-- 0.0400 -->\n      <g transform=\"translate(7.2 94.552106)scale(0.1 -0.1)\">\n       <use xlink:href=\"#DejaVuSans-30\"/>\n       <use x=\"63.623047\" xlink:href=\"#DejaVuSans-2e\"/>\n       <use x=\"95.410156\" xlink:href=\"#DejaVuSans-30\"/>\n       <use x=\"159.033203\" xlink:href=\"#DejaVuSans-34\"/>\n       <use x=\"222.65625\" xlink:href=\"#DejaVuSans-30\"/>\n       <use x=\"286.279297\" xlink:href=\"#DejaVuSans-30\"/>\n      </g>\n     </g>\n    </g>\n    <g id=\"ytick_7\">\n     <g id=\"line2d_12\">\n      <g>\n       <use style=\"stroke:#000000;stroke-width:0.8;\" x=\"49.190625\" xlink:href=\"#m228382ac09\" y=\"66.429499\"/>\n      </g>\n     </g>\n     <g id=\"text_12\">\n      <!-- 0.0425 -->\n      <g transform=\"translate(7.2 70.228718)scale(0.1 -0.1)\">\n       <use xlink:href=\"#DejaVuSans-30\"/>\n       <use x=\"63.623047\" xlink:href=\"#DejaVuSans-2e\"/>\n       <use x=\"95.410156\" xlink:href=\"#DejaVuSans-30\"/>\n       <use x=\"159.033203\" xlink:href=\"#DejaVuSans-34\"/>\n       <use x=\"222.65625\" xlink:href=\"#DejaVuSans-32\"/>\n       <use x=\"286.279297\" xlink:href=\"#DejaVuSans-35\"/>\n      </g>\n     </g>\n    </g>\n    <g id=\"ytick_8\">\n     <g id=\"line2d_13\">\n      <g>\n       <use style=\"stroke:#000000;stroke-width:0.8;\" x=\"49.190625\" xlink:href=\"#m228382ac09\" y=\"42.106111\"/>\n      </g>\n     </g>\n     <g id=\"text_13\">\n      <!-- 0.0450 -->\n      <g transform=\"translate(7.2 45.90533)scale(0.1 -0.1)\">\n       <use xlink:href=\"#DejaVuSans-30\"/>\n       <use x=\"63.623047\" xlink:href=\"#DejaVuSans-2e\"/>\n       <use x=\"95.410156\" xlink:href=\"#DejaVuSans-30\"/>\n       <use x=\"159.033203\" xlink:href=\"#DejaVuSans-34\"/>\n       <use x=\"222.65625\" xlink:href=\"#DejaVuSans-35\"/>\n       <use x=\"286.279297\" xlink:href=\"#DejaVuSans-30\"/>\n      </g>\n     </g>\n    </g>\n    <g id=\"ytick_9\">\n     <g id=\"line2d_14\">\n      <g>\n       <use style=\"stroke:#000000;stroke-width:0.8;\" x=\"49.190625\" xlink:href=\"#m228382ac09\" y=\"17.782723\"/>\n      </g>\n     </g>\n     <g id=\"text_14\">\n      <!-- 0.0475 -->\n      <g transform=\"translate(7.2 21.581942)scale(0.1 -0.1)\">\n       <use xlink:href=\"#DejaVuSans-30\"/>\n       <use x=\"63.623047\" xlink:href=\"#DejaVuSans-2e\"/>\n       <use x=\"95.410156\" xlink:href=\"#DejaVuSans-30\"/>\n       <use x=\"159.033203\" xlink:href=\"#DejaVuSans-34\"/>\n       <use x=\"222.65625\" xlink:href=\"#DejaVuSans-37\"/>\n       <use x=\"286.279297\" xlink:href=\"#DejaVuSans-35\"/>\n      </g>\n     </g>\n    </g>\n   </g>\n   <g id=\"line2d_15\">\n    <path clip-path=\"url(#p2bbd24bfa8)\" d=\"M 64.408807 214.756364 \nL 98.226989 171.364789 \nL 132.04517 127.973215 \nL 165.863352 127.973215 \nL 199.681534 127.973215 \nL 233.499716 79.760355 \nL 267.317898 65.296497 \nL 301.13608 17.083636 \nL 334.954261 21.904922 \nL 368.772443 36.36878 \n\" style=\"fill:none;stroke:#1f77b4;stroke-linecap:square;stroke-width:1.5;\"/>\n   </g>\n   <g id=\"patch_3\">\n    <path d=\"M 49.190625 224.64 \nL 49.190625 7.2 \n\" style=\"fill:none;stroke:#000000;stroke-linecap:square;stroke-linejoin:miter;stroke-width:0.8;\"/>\n   </g>\n   <g id=\"patch_4\">\n    <path d=\"M 383.990625 224.64 \nL 383.990625 7.2 \n\" style=\"fill:none;stroke:#000000;stroke-linecap:square;stroke-linejoin:miter;stroke-width:0.8;\"/>\n   </g>\n   <g id=\"patch_5\">\n    <path d=\"M 49.190625 224.64 \nL 383.990625 224.64 \n\" style=\"fill:none;stroke:#000000;stroke-linecap:square;stroke-linejoin:miter;stroke-width:0.8;\"/>\n   </g>\n   <g id=\"patch_6\">\n    <path d=\"M 49.190625 7.2 \nL 383.990625 7.2 \n\" style=\"fill:none;stroke:#000000;stroke-linecap:square;stroke-linejoin:miter;stroke-width:0.8;\"/>\n   </g>\n  </g>\n </g>\n <defs>\n  <clipPath id=\"p2bbd24bfa8\">\n   <rect height=\"217.44\" width=\"334.8\" x=\"49.190625\" y=\"7.2\"/>\n  </clipPath>\n </defs>\n</svg>\n",
            "image/png": "[encoded data removed]"
          },
          "metadata": {
            "needs_background": "light"
          }
        }
      ],
      "source": [
        "plt.plot(AllHitrate)   ###Max == 80"
      ]
    },
    {
      "cell_type": "code",
      "metadata": {
        "colab": {
          "base_uri": "https://localhost:8080/"
        },
        "id": "qJSJnDKTdogh",
        "outputId": "fe099c50-df55-458f-e6c5-5e4d308d0155"
      },
      "source": [
        "Vsvd_list = pureSVD(SVD_UserItemMAT,k=80)\n",
        "print(len(Vsvd_list))"
      ],
      "execution_count": 83,
      "outputs": [
        {
          "output_type": "stream",
          "name": "stdout",
          "text": [
            "15\n"
          ]
        }
      ]
    },
    {
      "cell_type": "code",
      "metadata": {
        "colab": {
          "base_uri": "https://localhost:8080/"
        },
        "id": "DT9ATyeIdogj",
        "outputId": "9e3ba5db-7a86-4af1-fad5-cf98485e992d"
      },
      "source": [
        "Vsvd_last = Vsvd_list[-1]\n",
        "Vsvd_last"
      ],
      "execution_count": 84,
      "outputs": [
        {
          "output_type": "execute_result",
          "data": {
            "text/plain": [
              "array([[ 4.34578900e-03,  4.93982809e-02, -2.88923818e-02, ...,\n",
              "        -1.47644577e-02,  5.61380976e-02, -4.73890482e-02],\n",
              "       [-8.42578970e-05,  4.94305880e-04,  2.46487147e-04, ...,\n",
              "        -5.26775721e-03,  1.38938156e-02, -9.21305662e-03],\n",
              "       [-8.28299990e-04,  4.23922733e-05, -5.14173537e-04, ...,\n",
              "        -6.60214572e-05,  1.26832187e-04, -3.79104279e-04],\n",
              "       ...,\n",
              "       [-3.07402437e-05, -1.59730546e-05, -9.37798624e-06, ...,\n",
              "         2.86918310e-06, -5.05549817e-06, -3.72356154e-06],\n",
              "       [ 1.30471204e-05, -8.17110590e-06,  3.61482916e-05, ...,\n",
              "        -4.57356329e-06,  1.80967438e-05, -1.75187204e-05],\n",
              "       [-7.73844643e-05, -9.84212325e-05,  6.71522727e-05, ...,\n",
              "         9.56328354e-06, -1.95749109e-05, -1.71249430e-05]])"
            ]
          },
          "metadata": {},
          "execution_count": 84
        }
      ]
    },
    {
      "cell_type": "code",
      "metadata": {
        "id": "3RwA_O_gq7J_"
      },
      "source": [],
      "execution_count": null,
      "outputs": []
    },
    {
      "cell_type": "markdown",
      "metadata": {
        "id": "MOwfp31xq_M8"
      },
      "source": [
        "### SVDAll Pred"
      ]
    },
    {
      "cell_type": "code",
      "metadata": {
        "id": "lZJ2v4048NHA",
        "outputId": "2099c143-4973-4b04-9ae2-d5a7a2f7a672"
      },
      "source": [
        "AllUsersSVD_PRED =  TQDMgetALLTopNPred_ALLUSERS(SVD_UserItemMAT,Vsvd_list, N=10) \n",
        "print(len(AllUsersSVD_PRED))\n",
        "AllUsersSVD_PRED[:2]"
      ],
      "execution_count": 85,
      "outputs": [
        {
          "output_type": "stream",
          "name": "stderr",
          "text": [
            "15it [02:24,  9.64s/it]15\n",
            "\n"
          ]
        },
        {
          "output_type": "execute_result",
          "data": {
            "text/plain": [
              "[array([[ 1434,   145,   385, ...,   202,   687,  1386],\n",
              "        [13773, 15563, 10498, ...,  9827,  5483, 11924],\n",
              "        [  385,   145,     0, ...,   345,  7656,  1920],\n",
              "        ...,\n",
              "        [ 5775,  5777,  5782, ...,  5771,  5770, 17317],\n",
              "        [ 5775,  5777,  5782, ...,  5771,  5770, 17317],\n",
              "        [ 5775,  5777,  5782, ...,  5771,  5770, 17317]]),\n",
              " array([[ 1434,   145,   385, ...,   202,   687,  1386],\n",
              "        [13773, 11924, 12905, ...,  9827, 10498, 13576],\n",
              "        [  385,   145,     0, ...,   345,  7656,  1920],\n",
              "        ...,\n",
              "        [ 5775,  5777,  5782, ...,  5771,  5770, 17317],\n",
              "        [ 5775,  5777,  5782, ...,  5771,  5770, 17317],\n",
              "        [ 5775,  5777,  5782, ...,  5771,  5770, 17317]])]"
            ]
          },
          "metadata": {},
          "execution_count": 85
        }
      ]
    },
    {
      "cell_type": "code",
      "metadata": {
        "id": "mAycsmW78NHB"
      },
      "source": [
        "with open('/mnt/bulky/oolaleke/TDM_Dataset/AMZ_GamesFiles/AMZG_SVD_allPRED.pkl', 'wb') as f:\n",
        "     pickle.dump(AllUsersSVD_PRED, f)\n"
      ],
      "execution_count": 88,
      "outputs": []
    },
    {
      "cell_type": "code",
      "metadata": {
        "id": "-AQfKIXEtTlC"
      },
      "source": [],
      "execution_count": null,
      "outputs": []
    },
    {
      "cell_type": "markdown",
      "metadata": {
        "id": "ex_fBepRvk5I"
      },
      "source": [
        "##  RandRec:Test"
      ]
    },
    {
      "cell_type": "code",
      "metadata": {
        "colab": {
          "base_uri": "https://localhost:8080/"
        },
        "id": "42RCvm1dlZNu",
        "outputId": "485957b6-7ebc-4c72-baac-94e7c3c51671"
      },
      "source": [
        "print(len(SVD_UserItemMAT),len(newHOLDOUT_LIST))"
      ],
      "execution_count": 105,
      "outputs": [
        {
          "output_type": "stream",
          "name": "stdout",
          "text": [
            "15 15\n"
          ]
        }
      ]
    },
    {
      "cell_type": "code",
      "execution_count": 108,
      "metadata": {},
      "outputs": [],
      "source": [
        "def TopN_RandomPred(RatingMat,user_column,N):  \n",
        "    N_users,N_items = RatingMat.shape   \n",
        "    PVVT_RandScores = np.random.rand(N_users,N_items)   ##Assigns random scores to items\n",
        "    users_column = RatingMat.nonzero()[0]\n",
        "    items_column = RatingMat.nonzero()[1]\n",
        "    args = np.array([users_column,items_column])\n",
        "    np.put(PVVT_RandScores, np.ravel_multi_index(args, PVVT_RandScores.shape),-np.inf)   ##downsample previously \n",
        "    TopN_pred = np.apply_along_axis(topN_Index, 1,PVVT_RandScores,n = N)\n",
        "    return TopN_pred\n",
        "\n",
        "def get_ALLRandPred(RatingMat_List,user_column,N):\n",
        "    All_RandPred = []\n",
        "    for RatingMat in tqdm(RatingMat_List):  \n",
        "        Rand_pred =  TopN_RandomPred(RatingMat,user_column, N)\n",
        "        All_RandPred.append(Rand_pred)\n",
        "    return All_RandPred\n"
      ]
    },
    {
      "cell_type": "code",
      "metadata": {
        "id": "eMuYANAS8NHY",
        "outputId": "23484f2c-75c8-4649-97c7-6b930e2a39a9"
      },
      "source": [
        "All_UsersRRecPred = get_ALLRandPred(SVD_UserItemMAT,'Updated_UserID',N=10)\n",
        "All_UsersRRecPred[:2]  "
      ],
      "execution_count": 109,
      "outputs": [
        {
          "output_type": "stream",
          "name": "stderr",
          "text": [
            "100%|██████████| 15/15 [03:41<00:00, 14.77s/it]\n"
          ]
        },
        {
          "output_type": "execute_result",
          "data": {
            "text/plain": [
              "[array([[16141,  4418,  7208, ...,  7295,  5403,   160],\n",
              "        [ 5495,  3308,  4251, ..., 14622,   255, 15757],\n",
              "        [ 3467, 14436,  5882, ...,  4604, 11955,  4483],\n",
              "        ...,\n",
              "        [ 7599, 13798,  3161, ...,  6286,  7202,  4206],\n",
              "        [14390, 10356,  9705, ...,  7564,  6148,  3613],\n",
              "        [  800,  9473,  7287, ...,   676, 13600,  2410]]),\n",
              " array([[ 5494, 13631, 12490, ...,  1547,  5407,  9779],\n",
              "        [ 6168,  3332,  6253, ...,  8446,  6486,  4044],\n",
              "        [ 9052,  8182,  3624, ...,  6911,   230,  9858],\n",
              "        ...,\n",
              "        [10197,  4567, 10721, ...,  1221,  2147, 14997],\n",
              "        [14447, 15975, 11750, ...,  9706,  5145, 14521],\n",
              "        [12127,  1923,  7812, ..., 13509, 13081, 15564]])]"
            ]
          },
          "metadata": {},
          "execution_count": 109
        }
      ]
    },
    {
      "cell_type": "code",
      "metadata": {
        "colab": {
          "base_uri": "https://localhost:8080/"
        },
        "id": "TBkzzmmFlZNz",
        "outputId": "f066dac9-b2a2-4c9a-d9b8-eba929a11b75"
      },
      "source": [
        "All_UsersRRecPred[2].shape"
      ],
      "execution_count": 111,
      "outputs": [
        {
          "output_type": "execute_result",
          "data": {
            "text/plain": [
              "(39284, 10)"
            ]
          },
          "metadata": {},
          "execution_count": 111
        }
      ]
    },
    {
      "cell_type": "code",
      "metadata": {
        "id": "80XlCcJS8NHZ"
      },
      "source": [
        "with open('AMZG_RRec_allPRED.pkl', 'wb') as f:\n",
        "     pickle.dump(All_UsersRRecPred, f)\n"
      ],
      "execution_count": 112,
      "outputs": []
    },
    {
      "cell_type": "code",
      "metadata": {
        "id": "_YumCnLur0p_"
      },
      "source": [],
      "execution_count": null,
      "outputs": []
    },
    {
      "cell_type": "markdown",
      "metadata": {
        "id": "XTkVUSBi4sgE"
      },
      "source": [
        "## Most Pop Rec"
      ]
    },
    {
      "cell_type": "code",
      "metadata": {
        "id": "A-V7Lj0H8NHl",
        "outputId": "973422c8-813d-4bf7-d007-9c95f3fb1cf1"
      },
      "source": [
        "                      #getAll_MOSTPOP_Pred(DF_list,user_column,item_colum,Nusers,N\n",
        "Nusers = newAMZGames_DF['Updated_UserID'].nunique()\n",
        "All_MostPOPRED_List =  getAll_MOSTPOP_Pred(new_PSIDFlist,'Updated_UserID','Updated_ItemID',Nusers,N=10)\n",
        "All_MostPOPRED_List[:2]"
      ],
      "execution_count": 119,
      "outputs": [
        {
          "output_type": "execute_result",
          "data": {
            "text/plain": [
              "[array([[13858, 13252, 16038, ..., 16053, 15563, 15189],\n",
              "        [13858, 13252, 16038, ..., 16053, 15563, 15189],\n",
              "        [13858, 13252, 16038, ..., 16053, 15563, 15189],\n",
              "        ...,\n",
              "        [13858, 13252, 16038, ..., 16053, 15563, 15189],\n",
              "        [13858, 13252, 16038, ..., 16053, 15563, 15189],\n",
              "        [13858, 13252, 16038, ..., 16053, 15563, 15189]]),\n",
              " array([[13858, 16096, 16155, ..., 12073, 12586, 15685],\n",
              "        [13858, 16096, 16155, ..., 12073, 12586, 15685],\n",
              "        [13858, 16096, 16155, ..., 12073, 12586, 15685],\n",
              "        ...,\n",
              "        [13858, 16096, 16155, ..., 12073, 12586, 15685],\n",
              "        [13858, 16096, 16155, ..., 12073, 12586, 15685],\n",
              "        [13858, 16096, 16155, ..., 12073, 12586, 15685]])]"
            ]
          },
          "metadata": {},
          "execution_count": 119
        }
      ]
    },
    {
      "cell_type": "code",
      "metadata": {
        "colab": {
          "base_uri": "https://localhost:8080/"
        },
        "id": "dwtyYptbxT1n",
        "outputId": "79b08aa3-3f9e-40e7-a037-7bbec7b343a1"
      },
      "source": [
        "All_MostPOPRED_List[2].shape"
      ],
      "execution_count": 121,
      "outputs": [
        {
          "output_type": "execute_result",
          "data": {
            "text/plain": [
              "(39284, 10)"
            ]
          },
          "metadata": {},
          "execution_count": 121
        }
      ]
    },
    {
      "cell_type": "code",
      "metadata": {
        "id": "AoBZNlPu8NHr"
      },
      "source": [
        "with open('AMZG_MPOP_AllPRED.pkl', 'wb') as f:\n",
        "     pickle.dump(All_MostPOPRED_List, f)\n"
      ],
      "execution_count": 122,
      "outputs": []
    },
    {
      "cell_type": "markdown",
      "metadata": {
        "id": "krCIIB8flw0U"
      },
      "source": [
        "## HitRate"
      ]
    },
    {
      "cell_type": "markdown",
      "metadata": {
        "id": "FZd_vVsPpIqV"
      },
      "source": [
        "### Updated PSI"
      ]
    },
    {
      "cell_type": "code",
      "execution_count": 89,
      "metadata": {},
      "outputs": [
        {
          "output_type": "execute_result",
          "data": {
            "text/plain": [
              "(16139, 80)"
            ]
          },
          "metadata": {},
          "execution_count": 89
        }
      ],
      "source": [
        "V_1 = Vpsi_listUpdt[0]\n",
        "V_1.shape"
      ]
    },
    {
      "cell_type": "code",
      "metadata": {
        "colab": {
          "base_uri": "https://localhost:8080/"
        },
        "id": "LtlchmQtHN5c",
        "outputId": "5774d60b-ae54-4fad-f2ae-9cfe8fbbefd5"
      },
      "source": [
        "Top_NupdtPred = TopNPred(UserItem_Matupdt[0],newHOLDOUT_LIST[0],V_1,'Updated_UserID',10)\n",
        "Top_NupdtPred"
      ],
      "execution_count": 90,
      "outputs": [
        {
          "output_type": "execute_result",
          "data": {
            "text/plain": [
              "array([[ 5483,  2176,  1862, ...,  5549,  2154,  7253],\n",
              "       [  138,  3753, 11370, ...,  3937,  2982, 12021],\n",
              "       [ 8019,  5483, 11924, ...,  2176,  1862,   958],\n",
              "       ...,\n",
              "       [ 4109, 11918,  4110, ...,  7304,  4735,  8239],\n",
              "       [ 9827,  7963, 12905, ...,  6103,  9254,  7656],\n",
              "       [10377,  4109, 11924, ...,  6771, 13857, 11961]])"
            ]
          },
          "metadata": {},
          "execution_count": 90
        }
      ]
    },
    {
      "cell_type": "code",
      "execution_count": 91,
      "metadata": {},
      "outputs": [
        {
          "output_type": "stream",
          "name": "stdout",
          "text": [
            "Number of hits:  58\nTotal Num of users:  2018\nRecommendation HitRate:  0.028741328047571853\n"
          ]
        },
        {
          "output_type": "execute_result",
          "data": {
            "text/plain": [
              "0.028741328047571853"
            ]
          },
          "metadata": {},
          "execution_count": 91
        }
      ],
      "source": [
        "Hitrate_Eval(newHOLDOUT_LIST[0],Top_NupdtPred,'Updated_UserID','Updated_ItemID')"
      ]
    },
    {
      "cell_type": "code",
      "metadata": {
        "colab": {
          "base_uri": "https://localhost:8080/"
        },
        "id": "8J8LC6tDAiir",
        "outputId": "38d39465-88e3-44fc-cd8e-1930185d0047"
      },
      "source": [
        "AllUpdt_pred =  TQDMgetALLTopNPred(UserItem_Matupdt,newHOLDOUT_LIST,Vpsi_listUpdt,'Updated_UserID',N = 10)\n",
        "print(len(AllUpdt_pred))\n",
        "AllUpdt_pred[:2]"
      ],
      "execution_count": 92,
      "outputs": [
        {
          "output_type": "stream",
          "name": "stderr",
          "text": [
            "15it [00:08,  1.75it/s]15\n",
            "\n"
          ]
        },
        {
          "output_type": "execute_result",
          "data": {
            "text/plain": [
              "[array([[ 5483,  2176,  1862, ...,  5549,  2154,  7253],\n",
              "        [  138,  3753, 11370, ...,  3937,  2982, 12021],\n",
              "        [ 8019,  5483, 11924, ...,  2176,  1862,   958],\n",
              "        ...,\n",
              "        [ 4109, 11918,  4110, ...,  7304,  4735,  8239],\n",
              "        [ 9827,  7963, 12905, ...,  6103,  9254,  7656],\n",
              "        [10377,  4109, 11924, ...,  6771, 13857, 11961]]),\n",
              " array([[ 4735,   346,   687, ...,  6630,  1386,  7941],\n",
              "        [ 7804,  6490,  4895, ...,  1805, 13857,  9917],\n",
              "        [13778, 13703, 12073, ..., 11821,  7886, 14760],\n",
              "        ...,\n",
              "        [ 6103,  8220, 12021, ...,  9695,  7186,  4436],\n",
              "        [10377, 10236, 11419, ...,  8892, 13857,  8766],\n",
              "        [10377, 13857, 10362, ...,  5305, 13859, 11961]])]"
            ]
          },
          "metadata": {},
          "execution_count": 92
        }
      ]
    },
    {
      "cell_type": "code",
      "execution_count": 93,
      "metadata": {},
      "outputs": [
        {
          "output_type": "stream",
          "name": "stdout",
          "text": [
            "Number of hits:  58\nTotal Num of users:  2018\nRecommendation HitRate:  0.028741328047571853\nNumber of hits:  63\nTotal Num of users:  2200\nRecommendation HitRate:  0.028636363636363637\nNumber of hits:  80\nTotal Num of users:  2172\nRecommendation HitRate:  0.03683241252302026\nNumber of hits:  58\nTotal Num of users:  2079\nRecommendation HitRate:  0.027898027898027897\nNumber of hits:  65\nTotal Num of users:  2089\nRecommendation HitRate:  0.031115366203925323\nNumber of hits:  53\nTotal Num of users:  2120\nRecommendation HitRate:  0.025\nNumber of hits:  45\nTotal Num of users:  2217\nRecommendation HitRate:  0.02029769959404601\nNumber of hits:  44\nTotal Num of users:  2207\nRecommendation HitRate:  0.01993656547349343\nNumber of hits:  52\nTotal Num of users:  2133\nRecommendation HitRate:  0.02437880918893577\nNumber of hits:  51\nTotal Num of users:  2171\nRecommendation HitRate:  0.02349147858129894\nNumber of hits:  43\nTotal Num of users:  2261\nRecommendation HitRate:  0.01901813356921716\nNumber of hits:  49\nTotal Num of users:  2246\nRecommendation HitRate:  0.021816562778272486\nNumber of hits:  60\nTotal Num of users:  2196\nRecommendation HitRate:  0.0273224043715847\nNumber of hits:  50\nTotal Num of users:  2269\nRecommendation HitRate:  0.022036139268400177\nNumber of hits:  20\nTotal Num of users:  2222\nRecommendation HitRate:  0.009000900090009001\nAverage HitRate for All Recommendations:  0.024368146081611107\n"
          ]
        }
      ],
      "source": [
        "AllSteps_HitR_updt, LowerBand_updt, Avg_HitR_updt, UpperBand_updt   = getAll_HitRate(newHOLDOUT_LIST,AllUpdt_pred,'Updated_UserID','Updated_ItemID')"
      ]
    },
    {
      "cell_type": "code",
      "execution_count": 94,
      "metadata": {},
      "outputs": [
        {
          "output_type": "execute_result",
          "data": {
            "text/plain": [
              "[0.028741328047571853,\n",
              " 0.028636363636363637,\n",
              " 0.03683241252302026,\n",
              " 0.027898027898027897,\n",
              " 0.031115366203925323,\n",
              " 0.025,\n",
              " 0.02029769959404601,\n",
              " 0.01993656547349343,\n",
              " 0.02437880918893577,\n",
              " 0.02349147858129894,\n",
              " 0.01901813356921716,\n",
              " 0.021816562778272486,\n",
              " 0.0273224043715847,\n",
              " 0.022036139268400177,\n",
              " 0.009000900090009001]"
            ]
          },
          "metadata": {},
          "execution_count": 94
        }
      ],
      "source": [
        "AllSteps_HitR_updt"
      ]
    },
    {
      "cell_type": "code",
      "metadata": {
        "id": "3-FkHqn-pB_G"
      },
      "source": [],
      "execution_count": null,
      "outputs": []
    },
    {
      "cell_type": "code",
      "metadata": {
        "id": "wvVmP30opBuv"
      },
      "source": [],
      "execution_count": null,
      "outputs": []
    },
    {
      "cell_type": "markdown",
      "metadata": {
        "id": "KcaJU4aApEpg"
      },
      "source": [
        "### Regular PSI"
      ]
    },
    {
      "cell_type": "code",
      "execution_count": 95,
      "metadata": {},
      "outputs": [
        {
          "output_type": "execute_result",
          "data": {
            "text/plain": [
              "(17318, 80)"
            ]
          },
          "metadata": {},
          "execution_count": 95
        }
      ],
      "source": [
        "Vpsi_listReg[0].shape"
      ]
    },
    {
      "cell_type": "code",
      "metadata": {
        "colab": {
          "base_uri": "https://localhost:8080/"
        },
        "id": "c9jUgHkKAhbi",
        "outputId": "be5430ee-3931-400d-8944-8c8126127ea2"
      },
      "source": [
        "Top10Pred_psi = TopNPred(UserItemMAT_regPSI[0], newHOLDOUT_LIST[0],Vpsi_listReg[0],'Updated_UserID',N=10)\n",
        "print(Top10Pred_psi.shape)"
      ],
      "execution_count": 96,
      "outputs": [
        {
          "output_type": "stream",
          "name": "stdout",
          "text": [
            "(2018, 10)\n"
          ]
        }
      ]
    },
    {
      "cell_type": "code",
      "metadata": {
        "colab": {
          "base_uri": "https://localhost:8080/"
        },
        "id": "u1sFaxNBAhc2",
        "outputId": "a221cdb8-2cb0-4ae9-b4b2-eace696881c5"
      },
      "source": [
        "Hitrate_Eval(newHOLDOUT_LIST[0],Top10Pred_psi,'Updated_UserID','Updated_ItemID')"
      ],
      "execution_count": 97,
      "outputs": [
        {
          "output_type": "stream",
          "name": "stdout",
          "text": [
            "Number of hits:  61\nTotal Num of users:  2018\nRecommendation HitRate:  0.03022794846382557\n"
          ]
        },
        {
          "output_type": "execute_result",
          "data": {
            "text/plain": [
              "0.03022794846382557"
            ]
          },
          "metadata": {},
          "execution_count": 97
        }
      ]
    },
    {
      "cell_type": "code",
      "metadata": {
        "colab": {
          "base_uri": "https://localhost:8080/"
        },
        "id": "oUDxtIohbVj8",
        "outputId": "48677220-09c6-4c42-bb00-17236691f54f"
      },
      "source": [
        "All_regPSI_PRED =  TQDMgetALLTopNPred(UserItemMAT_regPSI,newHOLDOUT_LIST,Vpsi_listReg,'Updated_UserID',N = 10)\n",
        "print(len(All_regPSI_PRED))\n",
        "All_regPSI_PRED[:2]"
      ],
      "execution_count": 98,
      "outputs": [
        {
          "output_type": "stream",
          "name": "stderr",
          "text": [
            "15it [00:09,  1.65it/s]15\n",
            "\n"
          ]
        },
        {
          "output_type": "execute_result",
          "data": {
            "text/plain": [
              "[array([[ 5483,  2176,  1862, ...,  5549,  2154,  7253],\n",
              "        [  138,  3753, 11370, ..., 12021, 12905,  2982],\n",
              "        [ 8019,  5483, 11924, ...,  2176,  1862,   958],\n",
              "        ...,\n",
              "        [ 4109, 11918,  4110, ...,  7304,  4735,  8239],\n",
              "        [ 9827,  7963, 12905, ...,  6103,  9254, 12647],\n",
              "        [10377,  4109, 11924, ..., 13857, 10236, 11961]]),\n",
              " array([[ 4735,   346,   687, ...,   825,  1386, 12055],\n",
              "        [ 7804,  6490,  4895, ...,  6092,  9917, 13857],\n",
              "        [13778, 13703, 12073, ...,  7886, 11821, 14760],\n",
              "        ...,\n",
              "        [ 6103,  8220, 12021, ...,  9695,  7186,  5950],\n",
              "        [10377, 10236, 11419, ..., 10876,  8892,  8766],\n",
              "        [10377, 13857, 10362, ...,  5305, 11972, 13646]])]"
            ]
          },
          "metadata": {},
          "execution_count": 98
        }
      ]
    },
    {
      "cell_type": "code",
      "metadata": {
        "colab": {
          "base_uri": "https://localhost:8080/"
        },
        "id": "2ZnpolG9A7KZ",
        "outputId": "e843ebf9-2b5e-410b-84d5-21a21489fb4e"
      },
      "source": [
        "AllSteps_Hitrate_psi, LowerBand, Avg_HitRate, UpperBand   = getAll_HitRate(newHOLDOUT_LIST,All_regPSI_PRED,'Updated_UserID','Updated_ItemID')"
      ],
      "execution_count": 99,
      "outputs": [
        {
          "output_type": "stream",
          "name": "stdout",
          "text": [
            "Number of hits:  61\nTotal Num of users:  2018\nRecommendation HitRate:  0.03022794846382557\nNumber of hits:  63\nTotal Num of users:  2200\nRecommendation HitRate:  0.028636363636363637\nNumber of hits:  81\nTotal Num of users:  2172\nRecommendation HitRate:  0.03729281767955801\nNumber of hits:  56\nTotal Num of users:  2079\nRecommendation HitRate:  0.026936026936026935\nNumber of hits:  70\nTotal Num of users:  2089\nRecommendation HitRate:  0.03350885591191958\nNumber of hits:  54\nTotal Num of users:  2120\nRecommendation HitRate:  0.02547169811320755\nNumber of hits:  49\nTotal Num of users:  2217\nRecommendation HitRate:  0.02210193955796121\nNumber of hits:  48\nTotal Num of users:  2207\nRecommendation HitRate:  0.02174898051653829\nNumber of hits:  57\nTotal Num of users:  2133\nRecommendation HitRate:  0.026722925457102673\nNumber of hits:  58\nTotal Num of users:  2171\nRecommendation HitRate:  0.026715799170888992\nNumber of hits:  46\nTotal Num of users:  2261\nRecommendation HitRate:  0.020344980097302078\nNumber of hits:  55\nTotal Num of users:  2246\nRecommendation HitRate:  0.024487978628673197\nNumber of hits:  66\nTotal Num of users:  2196\nRecommendation HitRate:  0.030054644808743168\nNumber of hits:  55\nTotal Num of users:  2269\nRecommendation HitRate:  0.024239753195240195\nNumber of hits:  21\nTotal Num of users:  2222\nRecommendation HitRate:  0.009450945094509451\nAverage HitRate for All Recommendations:  0.0258627771511907\n"
          ]
        }
      ]
    },
    {
      "cell_type": "code",
      "metadata": {
        "id": "Ak2Iuz1mrPwE"
      },
      "source": [
        "AllSteps_Hitrate_psi"
      ],
      "execution_count": 100,
      "outputs": [
        {
          "output_type": "execute_result",
          "data": {
            "text/plain": [
              "[0.03022794846382557,\n",
              " 0.028636363636363637,\n",
              " 0.03729281767955801,\n",
              " 0.026936026936026935,\n",
              " 0.03350885591191958,\n",
              " 0.02547169811320755,\n",
              " 0.02210193955796121,\n",
              " 0.02174898051653829,\n",
              " 0.026722925457102673,\n",
              " 0.026715799170888992,\n",
              " 0.020344980097302078,\n",
              " 0.024487978628673197,\n",
              " 0.030054644808743168,\n",
              " 0.024239753195240195,\n",
              " 0.009450945094509451]"
            ]
          },
          "metadata": {},
          "execution_count": 100
        }
      ]
    },
    {
      "cell_type": "code",
      "execution_count": null,
      "metadata": {},
      "outputs": [],
      "source": []
    },
    {
      "cell_type": "markdown",
      "metadata": {
        "id": "HQB5V56-rLfg"
      },
      "source": [
        "### SVD HItR_"
      ]
    },
    {
      "cell_type": "code",
      "execution_count": 101,
      "metadata": {},
      "outputs": [
        {
          "output_type": "stream",
          "name": "stdout",
          "text": [
            "(17318, 80)\n"
          ]
        }
      ],
      "source": [
        "print(Vsvd_list[0].shape)"
      ]
    },
    {
      "cell_type": "code",
      "metadata": {
        "colab": {
          "base_uri": "https://localhost:8080/"
        },
        "id": "WnCO3ZL96e4I",
        "outputId": "364ac4f0-b337-49d1-b2ca-8c8eced89c9f"
      },
      "source": [
        "Top10Pred_SVD = TopNPred(SVD_UserItemMAT[0],newHOLDOUT_LIST[0],Vsvd_list[0],'Updated_UserID',N=10)\n",
        "print(Top10Pred_SVD.shape)\n",
        "Top10Pred_SVD"
      ],
      "execution_count": 102,
      "outputs": [
        {
          "output_type": "stream",
          "name": "stdout",
          "text": [
            "(2018, 10)\n"
          ]
        },
        {
          "output_type": "execute_result",
          "data": {
            "text/plain": [
              "array([[ 7529,  1862,  2176, ...,  4687,  9913,  4914],\n",
              "       [ 2976,   138,  2136, ...,  3753,  2982,  3937],\n",
              "       [ 7886,  9913, 13384, ..., 11414,  7926, 12055],\n",
              "       ...,\n",
              "       [ 4109,  9827, 11918, ..., 12027, 10236, 13862],\n",
              "       [ 9827,  7963,  4436, ..., 13862, 14252,  6103],\n",
              "       [10377,  4109,  4735, ...,  4110, 13858,  7886]])"
            ]
          },
          "metadata": {},
          "execution_count": 102
        }
      ]
    },
    {
      "cell_type": "code",
      "metadata": {
        "colab": {
          "base_uri": "https://localhost:8080/"
        },
        "id": "_y8C9P5hr-sN",
        "outputId": "ff5b210c-636b-4d66-a012-67fdca10344b"
      },
      "source": [
        "Hitrate_Eval(newHOLDOUT_LIST[0],Top10Pred_SVD,'Updated_UserID','Updated_ItemID')"
      ],
      "execution_count": 103,
      "outputs": [
        {
          "output_type": "stream",
          "name": "stdout",
          "text": [
            "Number of hits:  96\nTotal Num of users:  2018\nRecommendation HitRate:  0.04757185332011893\n"
          ]
        },
        {
          "output_type": "execute_result",
          "data": {
            "text/plain": [
              "0.04757185332011893"
            ]
          },
          "metadata": {},
          "execution_count": 103
        }
      ]
    },
    {
      "cell_type": "code",
      "metadata": {
        "colab": {
          "base_uri": "https://localhost:8080/"
        },
        "id": "nOTHviyK-jwT",
        "outputId": "eab74d67-67fd-4f08-dec6-61126557c065"
      },
      "source": [
        "AllSVD_topNPRED =  TQDMgetALLTopNPred(SVD_UserItemMAT,newHOLDOUT_LIST,Vsvd_list,'Updated_UserID',N = 10)\n",
        "print(len(AllSVD_topNPRED))\n",
        "AllSVD_topNPRED[:2]"
      ],
      "execution_count": 104,
      "outputs": [
        {
          "output_type": "stream",
          "name": "stderr",
          "text": [
            "15it [00:09,  1.63it/s]15\n",
            "\n"
          ]
        },
        {
          "output_type": "execute_result",
          "data": {
            "text/plain": [
              "[array([[ 7529,  1862,  2176, ...,  4687,  9913,  4914],\n",
              "        [ 2976,   138,  2136, ...,  3753,  2982,  3937],\n",
              "        [ 7886,  9913, 13384, ..., 11414,  7926, 12055],\n",
              "        ...,\n",
              "        [ 4109,  9827, 11918, ..., 12027, 10236, 13862],\n",
              "        [ 9827,  7963,  4436, ..., 13862, 14252,  6103],\n",
              "        [10377,  4109,  4735, ...,  4110, 13858,  7886]]),\n",
              " array([[ 4735,   346,  2232, ...,   385,  1050,   168],\n",
              "        [ 7963,  6533,  4950, ...,  4919,  4895, 13825],\n",
              "        [13778, 13703, 13831, ...,  4950, 13819, 12652],\n",
              "        ...,\n",
              "        [10247,  6103,  9566, ...,  1050, 10331,  9695],\n",
              "        [13858, 14541, 15189, ..., 14390, 14604, 11114],\n",
              "        [14541, 15189, 14801, ..., 14384, 14805, 14310]])]"
            ]
          },
          "metadata": {},
          "execution_count": 104
        }
      ]
    },
    {
      "cell_type": "code",
      "metadata": {
        "colab": {
          "base_uri": "https://localhost:8080/"
        },
        "id": "d7xlsk71shw9",
        "outputId": "7e4b2f47-441d-4732-d206-e8a1f3f0cfd3"
      },
      "source": [
        "AllSteps_Hitrate_svd, LowerBand, Avg_HitRate, UpperBand   = getAll_HitRate(newHOLDOUT_LIST,AllSVD_topNPRED,'Updated_UserID','Updated_ItemID')"
      ],
      "execution_count": 105,
      "outputs": [
        {
          "output_type": "stream",
          "name": "stdout",
          "text": [
            "Number of hits:  96\nTotal Num of users:  2018\nRecommendation HitRate:  0.04757185332011893\nNumber of hits:  99\nTotal Num of users:  2200\nRecommendation HitRate:  0.045\nNumber of hits:  92\nTotal Num of users:  2172\nRecommendation HitRate:  0.0423572744014733\nNumber of hits:  100\nTotal Num of users:  2079\nRecommendation HitRate:  0.0481000481000481\nNumber of hits:  113\nTotal Num of users:  2089\nRecommendation HitRate:  0.05409286740067018\nNumber of hits:  103\nTotal Num of users:  2120\nRecommendation HitRate:  0.04858490566037736\nNumber of hits:  84\nTotal Num of users:  2217\nRecommendation HitRate:  0.037889039242219216\nNumber of hits:  74\nTotal Num of users:  2207\nRecommendation HitRate:  0.03352967829632986\nNumber of hits:  105\nTotal Num of users:  2133\nRecommendation HitRate:  0.04922644163150492\nNumber of hits:  107\nTotal Num of users:  2171\nRecommendation HitRate:  0.04928604329801935\nNumber of hits:  92\nTotal Num of users:  2261\nRecommendation HitRate:  0.040689960194604156\nNumber of hits:  105\nTotal Num of users:  2246\nRecommendation HitRate:  0.04674977738201247\nNumber of hits:  116\nTotal Num of users:  2196\nRecommendation HitRate:  0.052823315118397086\nNumber of hits:  127\nTotal Num of users:  2269\nRecommendation HitRate:  0.05597179374173645\nNumber of hits:  64\nTotal Num of users:  2222\nRecommendation HitRate:  0.0288028802880288\nAverage HitRate for All Recommendations:  0.04537839187170267\n"
          ]
        }
      ]
    },
    {
      "cell_type": "code",
      "metadata": {
        "colab": {
          "base_uri": "https://localhost:8080/"
        },
        "id": "x_L3w8iDPcDV",
        "outputId": "363b53f7-434d-49d0-ea7e-008773d42541"
      },
      "source": [
        "AllSteps_Hitrate_svd"
      ],
      "execution_count": 106,
      "outputs": [
        {
          "output_type": "execute_result",
          "data": {
            "text/plain": [
              "[0.04757185332011893,\n",
              " 0.045,\n",
              " 0.0423572744014733,\n",
              " 0.0481000481000481,\n",
              " 0.05409286740067018,\n",
              " 0.04858490566037736,\n",
              " 0.037889039242219216,\n",
              " 0.03352967829632986,\n",
              " 0.04922644163150492,\n",
              " 0.04928604329801935,\n",
              " 0.040689960194604156,\n",
              " 0.04674977738201247,\n",
              " 0.052823315118397086,\n",
              " 0.05597179374173645,\n",
              " 0.0288028802880288]"
            ]
          },
          "metadata": {},
          "execution_count": 106
        }
      ]
    },
    {
      "cell_type": "markdown",
      "metadata": {
        "id": "2mG-deAzqE-C"
      },
      "source": [
        "### RRec HitR_"
      ]
    },
    {
      "cell_type": "code",
      "metadata": {
        "id": "6z2TMCnuqJ3n"
      },
      "source": [],
      "execution_count": null,
      "outputs": []
    },
    {
      "cell_type": "code",
      "metadata": {
        "colab": {
          "base_uri": "https://localhost:8080/"
        },
        "id": "uMLoaZ6YlZN3",
        "outputId": "90ba4c62-a1f1-4242-f422-cd84cd1ab274"
      },
      "source": [
        "RRec_AllStepsHitR, RRec_LowBHR, RREC_AvgHitR, RRec_UppBHR = getAll_RandomHitRate(newHOLDOUT_LIST,All_UsersRRecPred,'Updated_UserID','Updated_ItemID')"
      ],
      "execution_count": 141,
      "outputs": [
        {
          "output_type": "stream",
          "name": "stdout",
          "text": [
            "Number of hits:  2\nTotal Num of users:  2018\nRecommendation HitRate:  0.0009910802775024777\nNumber of hits:  3\nTotal Num of users:  2200\nRecommendation HitRate:  0.0013636363636363637\nNumber of hits:  1\nTotal Num of users:  2172\nRecommendation HitRate:  0.00046040515653775324\nNumber of hits:  2\nTotal Num of users:  2079\nRecommendation HitRate:  0.000962000962000962\nNumber of hits:  0\nTotal Num of users:  2089\nRecommendation HitRate:  0.0\nNumber of hits:  4\nTotal Num of users:  2120\nRecommendation HitRate:  0.0018867924528301887\nNumber of hits:  3\nTotal Num of users:  2217\nRecommendation HitRate:  0.0013531799729364006\nNumber of hits:  4\nTotal Num of users:  2207\nRecommendation HitRate:  0.0018124150430448573\nNumber of hits:  2\nTotal Num of users:  2133\nRecommendation HitRate:  0.0009376465072667605\nNumber of hits:  0\nTotal Num of users:  2171\nRecommendation HitRate:  0.0\nNumber of hits:  1\nTotal Num of users:  2261\nRecommendation HitRate:  0.0004422821760283061\nNumber of hits:  0\nTotal Num of users:  2246\nRecommendation HitRate:  0.0\nNumber of hits:  0\nTotal Num of users:  2196\nRecommendation HitRate:  0.0\nNumber of hits:  0\nTotal Num of users:  2269\nRecommendation HitRate:  0.0\nNumber of hits:  0\nTotal Num of users:  2222\nRecommendation HitRate:  0.0\nAverage HitRate for All Recommendations:  0.0006806292607856047\n"
          ]
        }
      ]
    },
    {
      "cell_type": "code",
      "metadata": {
        "id": "FVPb6680r81m"
      },
      "source": [],
      "execution_count": null,
      "outputs": []
    },
    {
      "cell_type": "markdown",
      "metadata": {
        "id": "YZNhrtpwr_fM"
      },
      "source": [
        "### MPop HitR_"
      ]
    },
    {
      "cell_type": "code",
      "metadata": {
        "colab": {
          "base_uri": "https://localhost:8080/"
        },
        "id": "pzPaCjrsUvFa",
        "outputId": "b7ffccf3-91fc-459b-dd5e-4d8322459502"
      },
      "source": [
        "AllSteps_Hitrate, LowerBand, Avg_HitRate, UpperBand  = getAll_MostPOPHitRate(newHOLDOUT_LIST,All_MostPOPRED_List,'Updated_UserID','Updated_ItemID')"
      ],
      "execution_count": 142,
      "outputs": [
        {
          "output_type": "stream",
          "name": "stdout",
          "text": [
            "Number of hits:  114\nTotal Num of users:  2018\nRecommendation HitRate:  0.05649157581764123\nNumber of hits:  94\nTotal Num of users:  2200\nRecommendation HitRate:  0.042727272727272725\nNumber of hits:  237\nTotal Num of users:  2172\nRecommendation HitRate:  0.10911602209944751\nNumber of hits:  131\nTotal Num of users:  2079\nRecommendation HitRate:  0.06301106301106302\nNumber of hits:  78\nTotal Num of users:  2089\nRecommendation HitRate:  0.03733843944471039\nNumber of hits:  116\nTotal Num of users:  2120\nRecommendation HitRate:  0.05471698113207547\nNumber of hits:  148\nTotal Num of users:  2217\nRecommendation HitRate:  0.06675687866486242\nNumber of hits:  177\nTotal Num of users:  2207\nRecommendation HitRate:  0.08019936565473493\nNumber of hits:  136\nTotal Num of users:  2133\nRecommendation HitRate:  0.0637599624941397\nNumber of hits:  160\nTotal Num of users:  2171\nRecommendation HitRate:  0.07369875633348687\nNumber of hits:  209\nTotal Num of users:  2261\nRecommendation HitRate:  0.09243697478991597\nNumber of hits:  135\nTotal Num of users:  2246\nRecommendation HitRate:  0.06010685663401603\nNumber of hits:  91\nTotal Num of users:  2196\nRecommendation HitRate:  0.04143897996357013\nNumber of hits:  129\nTotal Num of users:  2269\nRecommendation HitRate:  0.05685323931247246\nNumber of hits:  165\nTotal Num of users:  2222\nRecommendation HitRate:  0.07425742574257425\nAverage HitRate for All Recommendations:  0.06486065292146555\n"
          ]
        }
      ]
    },
    {
      "cell_type": "code",
      "execution_count": null,
      "metadata": {},
      "outputs": [],
      "source": []
    },
    {
      "cell_type": "code",
      "execution_count": null,
      "metadata": {},
      "outputs": [],
      "source": [
        "##iALS"
      ]
    },
    {
      "cell_type": "code",
      "execution_count": 33,
      "metadata": {},
      "outputs": [
        {
          "output_type": "stream",
          "name": "stdout",
          "text": [
            "Number of hits:  262\nTotal Num of users:  2018\nRecommendation HitRate:  0.12983151635282458\nNumber of hits:  273\nTotal Num of users:  2200\nRecommendation HitRate:  0.12409090909090909\nNumber of hits:  304\nTotal Num of users:  2172\nRecommendation HitRate:  0.13996316758747698\nNumber of hits:  301\nTotal Num of users:  2079\nRecommendation HitRate:  0.1447811447811448\nNumber of hits:  254\nTotal Num of users:  2089\nRecommendation HitRate:  0.12158927716610819\nNumber of hits:  226\nTotal Num of users:  2120\nRecommendation HitRate:  0.10660377358490566\nNumber of hits:  216\nTotal Num of users:  2217\nRecommendation HitRate:  0.09742895805142084\nNumber of hits:  211\nTotal Num of users:  2207\nRecommendation HitRate:  0.09560489352061623\nNumber of hits:  235\nTotal Num of users:  2133\nRecommendation HitRate:  0.11017346460384435\nNumber of hits:  250\nTotal Num of users:  2171\nRecommendation HitRate:  0.11515430677107324\nNumber of hits:  250\nTotal Num of users:  2261\nRecommendation HitRate:  0.11057054400707651\nNumber of hits:  240\nTotal Num of users:  2246\nRecommendation HitRate:  0.10685663401602849\nNumber of hits:  263\nTotal Num of users:  2196\nRecommendation HitRate:  0.1197632058287796\nNumber of hits:  268\nTotal Num of users:  2269\nRecommendation HitRate:  0.11811370647862494\nNumber of hits:  64\nTotal Num of users:  2222\nRecommendation HitRate:  0.0288028802880288\nAverage HitRate for All Recommendations:  0.11128855880859082\n"
          ]
        },
        {
          "output_type": "execute_result",
          "data": {
            "text/plain": [
              "[0.12983151635282458,\n",
              " 0.12409090909090909,\n",
              " 0.13996316758747698,\n",
              " 0.1447811447811448,\n",
              " 0.12158927716610819,\n",
              " 0.10660377358490566,\n",
              " 0.09742895805142084,\n",
              " 0.09560489352061623,\n",
              " 0.11017346460384435,\n",
              " 0.11515430677107324,\n",
              " 0.11057054400707651,\n",
              " 0.10685663401602849,\n",
              " 0.1197632058287796,\n",
              " 0.11811370647862494,\n",
              " 0.0288028802880288]"
            ]
          },
          "metadata": {},
          "execution_count": 33
        }
      ],
      "source": [
        "als_AllStepsHitR_, als_LBand, als_AvgHitR, als_UBand   = getAll_HitRate(newHOLDOUT_LIST,Allals_topNPRED,'Updated_UserID','Updated_ItemID')\n",
        "als_AllStepsHitR_"
      ]
    },
    {
      "cell_type": "code",
      "execution_count": 34,
      "metadata": {},
      "outputs": [
        {
          "output_type": "stream",
          "name": "stdout",
          "text": [
            "0.09650553993232808 0.11128855880859082 0.12607157768485355\n"
          ]
        }
      ],
      "source": [
        "print(als_LBand, als_AvgHitR, als_UBand)"
      ]
    },
    {
      "cell_type": "code",
      "metadata": {
        "id": "H3kfcIzLq3aq"
      },
      "source": [
        "##MRR Test"
      ],
      "execution_count": null,
      "outputs": []
    },
    {
      "cell_type": "markdown",
      "metadata": {
        "id": "4LTu6CfTlkKV"
      },
      "source": [
        "## MRR_Scores"
      ]
    },
    {
      "cell_type": "markdown",
      "metadata": {
        "id": "zSy_1uXgpvHE"
      },
      "source": [
        "### Updated_mrr"
      ]
    },
    {
      "cell_type": "code",
      "metadata": {
        "id": "Jua1mher8NGO",
        "outputId": "75892255-0e71-4966-aa09-bbcebd25f107"
      },
      "source": [
        "mrr_1st = MRR_Eval(newHOLDOUT_LIST[0],Top_NupdtPred,'Updated_ItemID')\n",
        "print(\"1st Step MRR: \",mrr_1st)"
      ],
      "execution_count": 107,
      "outputs": [
        {
          "output_type": "stream",
          "name": "stdout",
          "text": [
            "1st Step MRR:  0.010185119637547785\n"
          ]
        }
      ]
    },
    {
      "cell_type": "code",
      "metadata": {
        "id": "HKCypKY78NGP",
        "outputId": "a3b76d44-bca2-4ebb-faa3-31e32a223bc3"
      },
      "source": [
        "AllSteps_MRRUpdt, LowerB_Updt, AvgMRR_Updt, UpperB_Updt  = TQDMgetAll_MRR_Eval(newHOLDOUT_LIST,AllUpdt_pred,'Updated_ItemID')\n",
        "AllSteps_MRRUpdt    "
      ],
      "execution_count": 108,
      "outputs": [
        {
          "output_type": "stream",
          "name": "stderr",
          "text": [
            "15it [00:00, 625.88it/s]\n"
          ]
        },
        {
          "output_type": "execute_result",
          "data": {
            "text/plain": [
              "[0.010185,\n",
              " 0.013654,\n",
              " 0.01338,\n",
              " 0.011199,\n",
              " 0.011477,\n",
              " 0.009797,\n",
              " 0.007529,\n",
              " 0.009307,\n",
              " 0.009586,\n",
              " 0.010436,\n",
              " 0.007218,\n",
              " 0.005953,\n",
              " 0.010094,\n",
              " 0.009585,\n",
              " 0.002721]"
            ]
          },
          "metadata": {},
          "execution_count": 108
        }
      ]
    },
    {
      "cell_type": "code",
      "metadata": {
        "id": "xvxgknDI8NGQ",
        "outputId": "49f4e381-1f53-41d9-ea1b-13334722749b"
      },
      "source": [
        "print(\"Average MRR: \",AvgMRR_Updt)"
      ],
      "execution_count": 109,
      "outputs": [
        {
          "output_type": "stream",
          "name": "stdout",
          "text": [
            "Average MRR:  0.009475\n"
          ]
        }
      ]
    },
    {
      "cell_type": "code",
      "metadata": {
        "id": "Kcme4SUDp0UO"
      },
      "source": [],
      "execution_count": null,
      "outputs": []
    },
    {
      "cell_type": "markdown",
      "metadata": {
        "id": "NViCcctzqDX0"
      },
      "source": [
        "### RegPSI_MRR"
      ]
    },
    {
      "cell_type": "code",
      "metadata": {
        "id": "QiUIA7jglb2c",
        "outputId": "8ca95a94-c146-4519-95b6-bbe6b9d4289e"
      },
      "source": [
        "##MRR: \n",
        "mrr_psi_1st = MRR_Eval(newHOLDOUT_LIST[0],Top10Pred_psi,'Updated_ItemID')\n",
        "print(\"1st Step MRR: \",mrr_psi_1st)"
      ],
      "execution_count": 110,
      "outputs": [
        {
          "output_type": "stream",
          "name": "stdout",
          "text": [
            "1st Step MRR:  0.010435446064782042\n"
          ]
        }
      ]
    },
    {
      "cell_type": "code",
      "metadata": {
        "id": "lHlCnS9t8NGt",
        "outputId": "359894ce-1a44-4294-fc09-eb36ce23e040"
      },
      "source": [
        "psi_AllStepsMRR, psi_LowerB, psi_AvgMRR, psi_UpperB  = TQDMgetAll_MRR_Eval(newHOLDOUT_LIST,All_regPSI_PRED,'Updated_ItemID')\n",
        "psi_AllStepsMRR  \n"
      ],
      "execution_count": 111,
      "outputs": [
        {
          "output_type": "stream",
          "name": "stderr",
          "text": [
            "15it [00:00, 634.58it/s]\n"
          ]
        },
        {
          "output_type": "execute_result",
          "data": {
            "text/plain": [
              "[0.010435,\n",
              " 0.01365,\n",
              " 0.013784,\n",
              " 0.01083,\n",
              " 0.012396,\n",
              " 0.009929,\n",
              " 0.008309,\n",
              " 0.008626,\n",
              " 0.01006,\n",
              " 0.011204,\n",
              " 0.007652,\n",
              " 0.006467,\n",
              " 0.011027,\n",
              " 0.009598,\n",
              " 0.003073]"
            ]
          },
          "metadata": {},
          "execution_count": 111
        }
      ]
    },
    {
      "cell_type": "code",
      "metadata": {
        "id": "-V-t5JQ68NGu",
        "outputId": "9d506c1d-e490-4b15-d1fe-24f7296a79be"
      },
      "source": [
        "print(\"Average MRR: \",psi_AvgMRR)"
      ],
      "execution_count": 112,
      "outputs": [
        {
          "output_type": "stream",
          "name": "stdout",
          "text": [
            "Average MRR:  0.009803\n"
          ]
        }
      ]
    },
    {
      "cell_type": "code",
      "metadata": {
        "id": "ZCXL-Upxrfcf"
      },
      "source": [],
      "execution_count": null,
      "outputs": []
    },
    {
      "cell_type": "markdown",
      "metadata": {
        "id": "0VF39Re9rg3C"
      },
      "source": [
        "### SVD_MRR"
      ]
    },
    {
      "cell_type": "code",
      "metadata": {
        "id": "2VNpJ3gc8NG-",
        "outputId": "5be82150-5b2a-40aa-f4a5-ac1c051917d3"
      },
      "source": [
        "##MRR: \n",
        "mrr_SVD_1st = MRR_Eval(newHOLDOUT_LIST[0],Top10Pred_SVD,'Updated_ItemID')\n",
        "print(\"1st Step MRR: \",mrr_SVD_1st)"
      ],
      "execution_count": 113,
      "outputs": [
        {
          "output_type": "stream",
          "name": "stdout",
          "text": [
            "1st Step MRR:  0.019357528277250773\n"
          ]
        }
      ]
    },
    {
      "cell_type": "code",
      "metadata": {
        "id": "Xxx66F3a8NG_",
        "outputId": "7e2a3c90-0b6d-4303-a498-94fafacfdf70"
      },
      "source": [
        "svd_AllStepsMRR, svd_LowerB, svd_AvgMRR, svd_UpperB  = TQDMgetAll_MRR_Eval(newHOLDOUT_LIST,AllSVD_topNPRED,'Updated_ItemID')\n",
        "svd_AllStepsMRR  \n"
      ],
      "execution_count": 115,
      "outputs": [
        {
          "output_type": "stream",
          "name": "stderr",
          "text": [
            "15it [00:00, 640.54it/s]\n"
          ]
        },
        {
          "output_type": "execute_result",
          "data": {
            "text/plain": [
              "[0.019358,\n",
              " 0.023652,\n",
              " 0.020143,\n",
              " 0.022079,\n",
              " 0.025752,\n",
              " 0.028113,\n",
              " 0.021062,\n",
              " 0.015026,\n",
              " 0.019633,\n",
              " 0.021855,\n",
              " 0.019073,\n",
              " 0.02022,\n",
              " 0.022113,\n",
              " 0.025357,\n",
              " 0.012638]"
            ]
          },
          "metadata": {},
          "execution_count": 115
        }
      ]
    },
    {
      "cell_type": "code",
      "metadata": {
        "id": "CdIKor9yrnkW"
      },
      "source": [
        "svd_AvgMRR"
      ],
      "execution_count": 116,
      "outputs": [
        {
          "output_type": "execute_result",
          "data": {
            "text/plain": [
              "0.021072"
            ]
          },
          "metadata": {},
          "execution_count": 116
        }
      ]
    },
    {
      "cell_type": "code",
      "execution_count": 36,
      "metadata": {},
      "outputs": [
        {
          "output_type": "stream",
          "name": "stderr",
          "text": [
            "15it [00:00, 594.64it/s]\n"
          ]
        },
        {
          "output_type": "execute_result",
          "data": {
            "text/plain": [
              "[0.049942,\n",
              " 0.053576,\n",
              " 0.054273,\n",
              " 0.056051,\n",
              " 0.059633,\n",
              " 0.051975,\n",
              " 0.04103,\n",
              " 0.041182,\n",
              " 0.049902,\n",
              " 0.049107,\n",
              " 0.048834,\n",
              " 0.044036,\n",
              " 0.050561,\n",
              " 0.053631,\n",
              " 0.01063]"
            ]
          },
          "metadata": {},
          "execution_count": 36
        }
      ],
      "source": [
        "##mrr\n",
        "als_AllStepsMRR, als_LBand, als_AvgMRR, als_UBand  = TQDMgetAll_MRR_Eval(newHOLDOUT_LIST,Allals_topNPRED,'Updated_ItemID')\n",
        "als_AllStepsMRR    "
      ]
    },
    {
      "cell_type": "code",
      "execution_count": 37,
      "metadata": {},
      "outputs": [
        {
          "output_type": "stream",
          "name": "stdout",
          "text": [
            "0.041277 0.047624 0.053971\n"
          ]
        }
      ],
      "source": [
        "print(als_LBand, als_AvgMRR, als_UBand)"
      ]
    },
    {
      "cell_type": "markdown",
      "metadata": {
        "id": "R9brrLc1q8RZ"
      },
      "source": [
        "### RRec_MRR"
      ]
    },
    {
      "cell_type": "code",
      "metadata": {
        "id": "2f566w7D8NHa",
        "outputId": "d1444399-0394-4490-c971-48d9a8b60221"
      },
      "source": [
        "RRec_AllStepsMRR, RRec_LowB, RRec_Avg_MRR, RRec_UppB = getAll_RandomRecMRR(newHOLDOUT_LIST,All_UsersRRecPred,'Updated_UserID','Updated_ItemID')\n",
        "RRec_AllStepsMRR"
      ],
      "execution_count": 156,
      "outputs": [
        {
          "output_type": "stream",
          "name": "stderr",
          "text": [
            "15it [00:00, 299.83it/s]\n"
          ]
        },
        {
          "output_type": "execute_result",
          "data": {
            "text/plain": [
              "[0.000578,\n",
              " 0.000338,\n",
              " 0.000153,\n",
              " 0.000168,\n",
              " 0,\n",
              " 0.000218,\n",
              " 0.000182,\n",
              " 0.000374,\n",
              " 0.000586,\n",
              " 0,\n",
              " 6.3e-05,\n",
              " 0,\n",
              " 0,\n",
              " 0,\n",
              " 0]"
            ]
          },
          "metadata": {},
          "execution_count": 156
        }
      ]
    },
    {
      "cell_type": "markdown",
      "metadata": {
        "id": "3jYTmPkgsL7r"
      },
      "source": [
        "### Mpop_MRR"
      ]
    },
    {
      "cell_type": "code",
      "metadata": {
        "id": "IQFQoOfF8NHu",
        "outputId": "a4574a8c-32a5-4479-e0db-61b516426f18"
      },
      "source": [
        "#MRR....\n",
        "                                    #getAll_MostPOP_MRR(HOLDOUT_list,All_MostPOPRED_List,user_column,item_column)\n",
        "Mpop_AllStepsMRR, Mpop_LowB, Mpop_AvgMRR, Mpop_UppB = getAll_MostPOP_MRR(newHOLDOUT_LIST,All_MostPOPRED_List,'Updated_UserID','Updated_ItemID')\n",
        "Mpop_AllStepsMRR"
      ],
      "execution_count": 157,
      "outputs": [
        {
          "output_type": "stream",
          "name": "stderr",
          "text": [
            "15it [00:00, 199.08it/s]\n"
          ]
        },
        {
          "output_type": "execute_result",
          "data": {
            "text/plain": [
              "[0.014842017084336212,\n",
              " 0.01745256132756133,\n",
              " 0.07358005203309072,\n",
              " 0.04122842178397734,\n",
              " 0.010668885393634076,\n",
              " 0.013654162923030847,\n",
              " 0.016223661318383917,\n",
              " 0.03177893570961084,\n",
              " 0.02674004122667976,\n",
              " 0.040723315274213474,\n",
              " 0.0550734328819247,\n",
              " 0.01649369602397207,\n",
              " 0.01795147020556857,\n",
              " 0.030229735496372784,\n",
              " 0.030533946251768036]"
            ]
          },
          "metadata": {},
          "execution_count": 157
        }
      ]
    },
    {
      "cell_type": "code",
      "metadata": {
        "id": "NM0Bqs_psQio"
      },
      "source": [],
      "execution_count": null,
      "outputs": []
    },
    {
      "cell_type": "markdown",
      "metadata": {
        "id": "9E5uZACqmdRw"
      },
      "source": [
        "## Coverage"
      ]
    },
    {
      "cell_type": "markdown",
      "metadata": {
        "id": "T_N9aVIdmiJw"
      },
      "source": [
        "### UpdtedPSI_COV"
      ]
    },
    {
      "cell_type": "code",
      "metadata": {
        "id": "V6MBUBiw8NGX",
        "outputId": "7f06e0ee-9b91-4105-dd35-f7c70ddab502"
      },
      "source": [
        "StepCoverage_Ratio(newAMZGames_DF,AllUsers_updtPRED[0],'Updated_ItemID')"
      ],
      "execution_count": 117,
      "outputs": [
        {
          "output_type": "execute_result",
          "data": {
            "text/plain": [
              "0.04556"
            ]
          },
          "metadata": {},
          "execution_count": 117
        }
      ]
    },
    {
      "cell_type": "code",
      "metadata": {
        "id": "UWbQX8v-8NGY",
        "outputId": "ac300c20-57ab-40d8-ec3a-cfeedade9b95"
      },
      "source": [
        "UpdtAvg_Coverage_List = AllSteps_Coverage_Ratio(newAMZGames_DF,AllUsers_updtPRED,'Updated_ItemID')\n",
        "UpdtAvg_Coverage_List"
      ],
      "execution_count": 118,
      "outputs": [
        {
          "output_type": "execute_result",
          "data": {
            "text/plain": [
              "[0.04556,\n",
              " 0.045444,\n",
              " 0.045444,\n",
              " 0.04556,\n",
              " 0.045444,\n",
              " 0.044809,\n",
              " 0.045213,\n",
              " 0.044693,\n",
              " 0.044751,\n",
              " 0.045271,\n",
              " 0.044924,\n",
              " 0.045675,\n",
              " 0.045617,\n",
              " 0.04556,\n",
              " 0.045502]"
            ]
          },
          "metadata": {},
          "execution_count": 118
        }
      ]
    },
    {
      "cell_type": "code",
      "metadata": {
        "id": "yLH8e0QZ8NGs"
      },
      "source": [],
      "execution_count": null,
      "outputs": []
    },
    {
      "cell_type": "markdown",
      "metadata": {
        "id": "1GSmfsOoqcSR"
      },
      "source": [
        "###RegPSI_COV"
      ]
    },
    {
      "cell_type": "code",
      "metadata": {
        "id": "4qGnS77i8NGx",
        "outputId": "c6276faf-3ed0-4205-a7c2-8e7333f6c869"
      },
      "source": [
        "psi_AvgCoverage_List = AllSteps_Coverage_Ratio(newAMZGames_DF,AllUsersRegPIS_PRED,'Updated_ItemID')\n",
        "psi_AvgCoverage_List"
      ],
      "execution_count": 119,
      "outputs": [
        {
          "output_type": "execute_result",
          "data": {
            "text/plain": [
              "[0.045502,\n",
              " 0.045386,\n",
              " 0.045213,\n",
              " 0.045098,\n",
              " 0.04504,\n",
              " 0.045329,\n",
              " 0.04504,\n",
              " 0.045386,\n",
              " 0.04504,\n",
              " 0.045271,\n",
              " 0.045329,\n",
              " 0.045386,\n",
              " 0.045502,\n",
              " 0.045906,\n",
              " 0.045733]"
            ]
          },
          "metadata": {},
          "execution_count": 119
        }
      ]
    },
    {
      "cell_type": "code",
      "metadata": {
        "id": "-oVnc3FR_DfB"
      },
      "source": [],
      "execution_count": null,
      "outputs": []
    },
    {
      "cell_type": "markdown",
      "metadata": {
        "id": "6lEpxbMqoPdG"
      },
      "source": [
        "### SVD_COV\n"
      ]
    },
    {
      "cell_type": "code",
      "metadata": {
        "id": "o-7SsHoVo2gx",
        "outputId": "c6e6fb89-4de7-4ca6-8d1c-c8ebf340c15e"
      },
      "source": [
        "SVD_AvgCoverage_List = AllSteps_Coverage_Ratio(newAMZGames_DF,AllUsersSVD_PRED,'Updated_ItemID')\n",
        "SVD_AvgCoverage_List"
      ],
      "execution_count": 120,
      "outputs": [
        {
          "output_type": "execute_result",
          "data": {
            "text/plain": [
              "[0.04556,\n",
              " 0.045791,\n",
              " 0.04556,\n",
              " 0.045213,\n",
              " 0.045213,\n",
              " 0.045386,\n",
              " 0.045906,\n",
              " 0.045906,\n",
              " 0.046541,\n",
              " 0.046368,\n",
              " 0.046714,\n",
              " 0.047061,\n",
              " 0.046483,\n",
              " 0.046426,\n",
              " 0.045791]"
            ]
          },
          "metadata": {},
          "execution_count": 120
        }
      ]
    },
    {
      "cell_type": "code",
      "execution_count": 38,
      "metadata": {},
      "outputs": [
        {
          "output_type": "execute_result",
          "data": {
            "text/plain": [
              "[0.067271,\n",
              " 0.067271,\n",
              " 0.067213,\n",
              " 0.067156,\n",
              " 0.067213,\n",
              " 0.067156,\n",
              " 0.067213,\n",
              " 0.067213,\n",
              " 0.067213,\n",
              " 0.067213,\n",
              " 0.067213,\n",
              " 0.067156,\n",
              " 0.067098,\n",
              " 0.067098,\n",
              " 0.067098]"
            ]
          },
          "metadata": {},
          "execution_count": 38
        }
      ],
      "source": [
        "###cOVERAGE:\n",
        "als_AvgCovList = AllSteps_Coverage_Ratio(newAMZGames_DF,All_alsPRED_List,'Updated_ItemID')\n",
        "als_AvgCovList"
      ]
    },
    {
      "cell_type": "code",
      "metadata": {
        "id": "Oxcy-gTkrRVG"
      },
      "source": [],
      "execution_count": null,
      "outputs": []
    },
    {
      "cell_type": "markdown",
      "metadata": {
        "id": "q5lllTOKrGZi"
      },
      "source": [
        "### RRec_COV"
      ]
    },
    {
      "cell_type": "code",
      "metadata": {
        "id": "DUFoVqur8NHb",
        "outputId": "da623733-8c91-4c52-d440-d610613648bf"
      },
      "source": [
        "##COVERAGE\n",
        "RRec_AvgCoverageList = AllSteps_Coverage_Ratio(newAMZGames_DF,All_UsersRRecPred,'Updated_ItemID')\n",
        "RRec_AvgCoverageList"
      ],
      "execution_count": 164,
      "outputs": [
        {
          "output_type": "execute_result",
          "data": {
            "text/plain": [
              "[1.0, 1.0, 1.0, 1.0, 1.0, 1.0, 1.0, 1.0, 1.0, 1.0, 1.0, 1.0, 1.0, 1.0, 1.0]"
            ]
          },
          "metadata": {},
          "execution_count": 164
        }
      ]
    },
    {
      "cell_type": "code",
      "metadata": {
        "id": "J2VTX-PBsUVL"
      },
      "source": [],
      "execution_count": null,
      "outputs": []
    },
    {
      "cell_type": "markdown",
      "metadata": {
        "id": "TQEA5_2msUjM"
      },
      "source": [
        "### Mpop_COV"
      ]
    },
    {
      "cell_type": "code",
      "metadata": {
        "id": "LcCzVhcD8NHv",
        "outputId": "804e1087-609c-4f93-8b8f-2a0c926cf0a5"
      },
      "source": [
        "##COVERAGE\n",
        "MPop_AvgCoverageList = AllSteps_Coverage_Ratio(newAMZGames_DF,All_MostPOPRED_List,'Updated_ItemID')\n",
        "MPop_AvgCoverageList"
      ],
      "execution_count": 165,
      "outputs": [
        {
          "output_type": "execute_result",
          "data": {
            "text/plain": [
              "[0.000577,\n",
              " 0.000577,\n",
              " 0.000577,\n",
              " 0.000577,\n",
              " 0.000577,\n",
              " 0.000577,\n",
              " 0.000577,\n",
              " 0.000577,\n",
              " 0.000577,\n",
              " 0.000577,\n",
              " 0.000577,\n",
              " 0.000577,\n",
              " 0.000577,\n",
              " 0.000577,\n",
              " 0.000577]"
            ]
          },
          "metadata": {},
          "execution_count": 165
        }
      ]
    },
    {
      "cell_type": "code",
      "metadata": {
        "id": "q2oT8wMP8NG_"
      },
      "source": [
        "## AllSVD Prediction"
      ],
      "execution_count": null,
      "outputs": []
    },
    {
      "cell_type": "markdown",
      "metadata": {
        "id": "00phYsByS9Oq"
      },
      "source": [
        "## CORRELATION Report\n"
      ]
    },
    {
      "cell_type": "code",
      "metadata": {
        "id": "YpmeR79n8NHC"
      },
      "source": [
        "##lOAD Saved Lists...\n",
        "with open('/mnt/bulky/oolaleke/TDM_Dataset/AMZ_GamesFiles/AMZG_UpdtPSI_allPRED.pkl', 'rb') as f:\n",
        "     AllUsers_updtPRED = pickle.load(f)\n",
        "\n",
        "with open('/mnt/bulky/oolaleke/TDM_Dataset/AMZ_GamesFiles/AMZG_PSI_allPRED.pkl', 'rb') as f:\n",
        "     AllUsersRegPIS_PRED = pickle.load(f)\n",
        "\n",
        "\n",
        "with open('/mnt/bulky/oolaleke/TDM_Dataset/AMZ_GamesFiles/AMZG_SVD_allPRED.pkl', 'rb') as f:\n",
        "     AllUsersSVD_PRED = pickle.load(f)\n",
        "\n",
        "# with open('/mnt/bulky/oolaleke/TDM_Dataset/AMZ_GamesFiles/AMZG_SVD_allPRED.pkl', 'rb') as f:\n",
        "#      AllUsersSVD_PRED = pickle.load(f)\n",
        "\n",
        "\n",
        "with open('/home/oolaleke/incremental_PSI/Notebooks/AMZGms_iALS_allPRED.pkl', 'rb') as f:\n",
        "     All_alsPRED_List = pickle.load(f)\n",
        "\n",
        "with open('/mnt/bulky/oolaleke/TDM_Dataset/AMZ_GamesFiles/AMZG_MPOP_AllPRED.pkl', 'rb') as f:\n",
        "     All_MostPOPRED_List = pickle.load(f)\n",
        "\n",
        "\n",
        "with open('/mnt/bulky/oolaleke/TDM_Dataset/AMZ_GamesFiles/AMZG_RRec_allPRED.pkl', 'rb') as f:\n",
        "     All_UsersRRecPred = pickle.load(f)     \n",
        "\n",
        "#newAMZB_DF = pd.read_csv()"
      ],
      "execution_count": 42,
      "outputs": []
    },
    {
      "cell_type": "code",
      "metadata": {
        "id": "PhfkO3EcJN5W"
      },
      "source": [],
      "execution_count": null,
      "outputs": []
    },
    {
      "cell_type": "code",
      "metadata": {
        "colab": {
          "base_uri": "https://localhost:8080/"
        },
        "id": "UkFqDvcW_Amh",
        "outputId": "5ab6a0c0-723f-4ae3-a451-b5db08df1ca0"
      },
      "source": [
        "AllSteps = list(range(1,15))\n",
        "print(len(AllSteps))\n",
        "AllSteps"
      ],
      "execution_count": 121,
      "outputs": [
        {
          "output_type": "stream",
          "name": "stdout",
          "text": [
            "14\n"
          ]
        },
        {
          "output_type": "execute_result",
          "data": {
            "text/plain": [
              "[1, 2, 3, 4, 5, 6, 7, 8, 9, 10, 11, 12, 13, 14]"
            ]
          },
          "metadata": {},
          "execution_count": 121
        }
      ]
    },
    {
      "cell_type": "markdown",
      "metadata": {
        "id": "4GLHnKJViAHo"
      },
      "source": [
        "####  Updated_Corr "
      ]
    },
    {
      "cell_type": "code",
      "execution_count": null,
      "metadata": {},
      "outputs": [],
      "source": [
        "newUserItem_list"
      ]
    },
    {
      "cell_type": "code",
      "metadata": {
        "colab": {
          "base_uri": "https://localhost:8080/"
        },
        "id": "QlTrlJKrNwRC",
        "outputId": "48d55153-12ed-4742-be38-3beb3266a589"
      },
      "source": [
        "UpdtPSICorr_ = Updt_getAll_AvgCorr(AllUsers_updtPRED,newUserItem_list,AllSteps,'Updated_UserID')  #,\n",
        "UpdtPSICorr_"
      ],
      "execution_count": 122,
      "outputs": [
        {
          "output_type": "execute_result",
          "data": {
            "text/plain": [
              "array([array([1., 1., 1., ..., 0., 0., 0.]),\n",
              "       array([1.        , 0.94467132, 0.98788042, ..., 0.        , 0.        ,\n",
              "              0.06033616])                                                    ,\n",
              "       array([0.99244163, 1.        , 0.98788042, ..., 0.        , 0.        ,\n",
              "              0.        ])                                                    ,\n",
              "       array([1.        , 1.        , 0.93397092, ..., 0.03534858, 0.        ,\n",
              "              0.23873458])                                                    ,\n",
              "       array([1.        , 1.        , 0.93397092, ..., 0.111429  , 0.10246453,\n",
              "              0.01933435])                                                    ,\n",
              "       array([1.        , 1.        , 0.93397092, ..., 0.33435777, 0.44061677,\n",
              "              0.        ])                                                    ,\n",
              "       array([0.99244163, 1.        , 0.93397092, ..., 0.        , 0.80884696,\n",
              "              0.36155691])                                                    ,\n",
              "       array([0.99244163, 0.93397092, 0.93397092, ..., 0.56046512, 0.384803  ,\n",
              "              0.10593347])                                                    ,\n",
              "       array([1.        , 0.93397092, 1.        , ..., 0.39435156, 0.01736733,\n",
              "              0.        ])                                                    ,\n",
              "       array([1.        , 0.92690249, 0.93397092, ..., 0.03534858, 0.99056095,\n",
              "              0.        ])                                                    ,\n",
              "       array([1.        , 0.98387314, 1.        , ..., 1.        , 0.        ,\n",
              "              0.        ])                                                    ,\n",
              "       array([0.99244163, 0.93397092, 0.90256476, ..., 0.        , 0.03534858,\n",
              "              0.        ])                                                    ,\n",
              "       array([1.        , 1.        , 1.        , ..., 0.        , 0.47487261,\n",
              "              0.        ])                                                    ,\n",
              "       array([1.        , 1.        , 1.        , ..., 0.        , 0.04791652,\n",
              "              0.17195935])                                                    ],\n",
              "      dtype=object)"
            ]
          },
          "metadata": {},
          "execution_count": 122
        }
      ]
    },
    {
      "cell_type": "code",
      "metadata": {
        "colab": {
          "base_uri": "https://localhost:8080/"
        },
        "id": "Ms8Nj-1ndBAG",
        "outputId": "744e9e7a-12fa-4919-a992-faa64d30e9b2"
      },
      "source": [
        "UpdtPSICorr_.shape\n",
        "for df in UpdtPSICorr_:\n",
        "    print(df.mean())  "
      ],
      "execution_count": 123,
      "outputs": [
        {
          "output_type": "stream",
          "name": "stdout",
          "text": [
            "0.9680726500913674\n0.9658616634107436\n0.9653709211274857\n0.9669961652095344\n0.9687347193653832\n0.9700946404946141\n0.9676846471800108\n0.9683982721467231\n0.9675085247273923\n0.9671354318497746\n0.9713038895440378\n0.9690137132374153\n0.9676481949263103\n0.9700115605981278\n"
          ]
        }
      ]
    },
    {
      "cell_type": "markdown",
      "metadata": {
        "id": "s19yQCNaTxSL"
      },
      "source": [
        "#### RegPSI Corr_"
      ]
    },
    {
      "cell_type": "code",
      "metadata": {
        "colab": {
          "base_uri": "https://localhost:8080/"
        },
        "id": "5jPXwk8KTxS9",
        "outputId": "c3ed416c-2aab-4494-b731-b57f7a837dd8"
      },
      "source": [
        "RegPSICorr_ = Updt_getAll_AvgCorr(AllUsersRegPIS_PRED,newUserItem_list,AllSteps,'Updated_UserID')  #,\n",
        "RegPSICorr_"
      ],
      "execution_count": 124,
      "outputs": [
        {
          "output_type": "execute_result",
          "data": {
            "text/plain": [
              "array([array([1., 1., 1., ..., 0., 0., 0.]),\n",
              "       array([1.        , 0.94467132, 0.93397092, ..., 0.        , 0.        ,\n",
              "              0.06033616])                                                    ,\n",
              "       array([0.98307362, 1.        , 0.96643133, ..., 0.        , 0.        ,\n",
              "              0.        ])                                                    ,\n",
              "       array([1.        , 1.        , 1.        , ..., 0.02499653, 0.        ,\n",
              "              0.35543109])                                                    ,\n",
              "       array([1.        , 0.99244163, 1.        , ..., 0.11647255, 0.1053538 ,\n",
              "              0.06677266])                                                    ,\n",
              "       array([1.        , 0.92690249, 1.        , ..., 0.33014958, 0.44061677,\n",
              "              0.        ])                                                    ,\n",
              "       array([1.        , 0.98387314, 1.        , ..., 0.19996748, 0.7956453 ,\n",
              "              0.36243655])                                                    ,\n",
              "       array([1.        , 1.        , 1.        , ..., 0.58458566, 0.3952741 ,\n",
              "              0.01736733])                                                    ,\n",
              "       array([1.        , 0.98788042, 1.        , ..., 0.40030355, 0.07188498,\n",
              "              0.        ])                                                    ,\n",
              "       array([1.        , 1.        , 1.        , ..., 0.09331951, 0.97458534,\n",
              "              0.        ])                                                    ,\n",
              "       array([1.        , 1.        , 1.        , ..., 0.84271627, 0.        ,\n",
              "              0.        ])                                                    ,\n",
              "       array([1.        , 1.        , 1.        , ..., 0.        , 0.03534858,\n",
              "              0.        ])                                                    ,\n",
              "       array([1.        , 1.        , 1.        , ..., 0.        , 0.84340659,\n",
              "              0.        ])                                                    ,\n",
              "       array([0.8923215 , 1.        , 0.97749498, ..., 0.        , 0.04531936,\n",
              "              0.17457034])                                                    ],\n",
              "      dtype=object)"
            ]
          },
          "metadata": {},
          "execution_count": 124
        }
      ]
    },
    {
      "cell_type": "code",
      "metadata": {
        "colab": {
          "base_uri": "https://localhost:8080/"
        },
        "id": "7Jw6LVmFTxTC",
        "outputId": "38745d49-00dd-4f61-c7d0-78bc0f17010f"
      },
      "source": [
        "RegPSICorr_.shape\n",
        "for df in RegPSICorr_:\n",
        "    print(df.mean())  "
      ],
      "execution_count": 125,
      "outputs": [
        {
          "output_type": "stream",
          "name": "stdout",
          "text": [
            "0.9558582054356557\n0.9541903421038225\n0.9546681651980554\n0.9550894634833644\n0.9554055236251504\n0.9562263009005716\n0.9569987324766154\n0.9587156851392303\n0.9539716982301606\n0.9568038105217984\n0.9572353152364913\n0.9585819520854937\n0.9582293117301625\n0.9619027185655068\n"
          ]
        }
      ]
    },
    {
      "cell_type": "code",
      "metadata": {
        "id": "O1ZQgxN2TxTF"
      },
      "source": [],
      "execution_count": null,
      "outputs": []
    },
    {
      "cell_type": "markdown",
      "metadata": {
        "id": "yfOZLbLYuqpn"
      },
      "source": [
        "#### SVD Corr_"
      ]
    },
    {
      "cell_type": "code",
      "metadata": {
        "colab": {
          "base_uri": "https://localhost:8080/"
        },
        "id": "B6Dik3BEvZDE",
        "outputId": "133b7aeb-06be-4e8c-defd-8c5e80bbca0a"
      },
      "source": [
        "pureSVDCorr_ = Updt_getAll_AvgCorr(AllUsersSVD_PRED,newUserItem_list,AllSteps,'Updated_UserID')  #,\n",
        "pureSVDCorr_"
      ],
      "execution_count": 126,
      "outputs": [
        {
          "output_type": "execute_result",
          "data": {
            "text/plain": [
              "array([array([1.        , 0.54333508, 0.98387314, ..., 0.        , 0.        ,\n",
              "              0.        ])                                                    ,\n",
              "       array([0.9226361 , 0.81485124, 0.99244163, ..., 0.        , 0.        ,\n",
              "              0.09331951])                                                    ,\n",
              "       array([0.93321111, 0.75612658, 0.92690249, ..., 0.        , 0.        ,\n",
              "              0.        ])                                                    ,\n",
              "       array([0.78651821, 0.74512354, 0.84271627, ..., 0.        , 0.        ,\n",
              "              0.12301255])                                                    ,\n",
              "       array([0.92690249, 0.74656886, 0.9804132 , ..., 0.07736097, 0.08043621,\n",
              "              0.19559407])                                                    ,\n",
              "       array([1.        , 0.8998713 , 0.98788042, ..., 0.52942395, 0.50909834,\n",
              "              0.        ])                                                    ,\n",
              "       array([0.98788042, 0.83789841, 0.98788042, ..., 0.27898111, 0.70010365,\n",
              "              0.05608814])                                                    ,\n",
              "       array([1.        , 0.73222248, 0.99244163, ..., 0.49096051, 0.10909091,\n",
              "              0.09331951])                                                    ,\n",
              "       array([1.        , 0.7917223 , 0.99244163, ..., 0.37435993, 0.04199901,\n",
              "              0.        ])                                                    ,\n",
              "       array([1.        , 0.49458338, 0.98788042, ..., 0.        , 0.49050889,\n",
              "              0.        ])                                                    ,\n",
              "       array([0.93397092, 0.90698876, 1.        , ..., 0.70639232, 0.        ,\n",
              "              0.        ])                                                    ,\n",
              "       array([1.       , 0.7685396, 1.       , ..., 0.       , 0.       ,\n",
              "              0.       ])                                                ,\n",
              "       array([1.        , 0.80420435, 1.        , ..., 0.        , 0.12326891,\n",
              "              0.        ])                                                    ,\n",
              "       array([0.99056095, 0.60073737, 0.99056095, ..., 0.        , 0.23769598,\n",
              "              0.24679054])                                                    ],\n",
              "      dtype=object)"
            ]
          },
          "metadata": {},
          "execution_count": 126
        }
      ]
    },
    {
      "cell_type": "code",
      "metadata": {
        "colab": {
          "base_uri": "https://localhost:8080/"
        },
        "id": "ei8R6zjrvZDG",
        "outputId": "15f545fe-060f-49aa-cce9-b1b0b3e96fee"
      },
      "source": [
        "pureSVDCorr_.shape\n",
        "for df in pureSVDCorr_:\n",
        "    print(df.mean())  "
      ],
      "execution_count": 127,
      "outputs": [
        {
          "output_type": "stream",
          "name": "stdout",
          "text": [
            "0.8037702425745978\n0.8019338949532058\n0.8066768773195171\n0.7810016672182626\n0.8436419351812148\n0.8479125383243834\n0.8678127646681513\n0.8588567711323736\n0.8346920757834289\n0.8362061292212155\n0.81594388599508\n0.8177250888234795\n0.8352680825555298\n0.8366888881128417\n"
          ]
        }
      ]
    },
    {
      "cell_type": "code",
      "metadata": {
        "id": "RG9tvVXSvYaX"
      },
      "source": [
        "##IALS..\n",
        "iALSCorr_ = Updt_getAll_AvgCorr(All_alsPRED_List,newUserItem_list,AllSteps,'Updated_UserID')  #,\n",
        "iALSCorr_"
      ],
      "execution_count": 50,
      "outputs": [
        {
          "output_type": "execute_result",
          "data": {
            "text/plain": [
              "array([array([1.        , 1.        , 1.        , ..., 1.        , 1.        ,\n",
              "              0.70836709])                                                    ,\n",
              "       array([1.        , 1.        , 1.        , ..., 1.        , 0.49096051,\n",
              "              1.        ])                                                    ,\n",
              "       array([1.        , 1.        , 1.        , ..., 0.93397092, 1.        ,\n",
              "              1.        ])                                                    ,\n",
              "       array([1.        , 1.        , 1.        , ..., 0.91813929, 1.        ,\n",
              "              0.7956453 ])                                                    ,\n",
              "       array([1., 1., 1., ..., 1., 1., 1.]),\n",
              "       array([1.        , 1.        , 1.        , ..., 0.93397092, 1.        ,\n",
              "              1.        ])                                                    ,\n",
              "       array([1.       , 1.       , 1.       , ..., 1.       , 0.7956453,\n",
              "              1.       ])                                                ,\n",
              "       array([1.        , 1.        , 1.        , ..., 1.        , 1.        ,\n",
              "              0.37435993])                                                    ,\n",
              "       array([1.       , 1.       , 1.       , ..., 0.8923215, 1.       ,\n",
              "              1.       ])                                                ,\n",
              "       array([1.        , 1.        , 1.        , ..., 0.23006416, 1.        ,\n",
              "              1.        ])                                                    ,\n",
              "       array([1.        , 1.        , 1.        , ..., 1.        , 0.81887629,\n",
              "              0.4386512 ])                                                    ,\n",
              "       array([1.        , 1.        , 1.        , ..., 0.65995727, 1.        ,\n",
              "              1.        ])                                                    ,\n",
              "       array([1.        , 1.        , 1.        , ..., 0.91813929, 0.44498825,\n",
              "              1.        ])                                                    ,\n",
              "       array([1.       , 1.       , 1.       , ..., 1.       , 0.8923215,\n",
              "              1.       ])                                                ],\n",
              "      dtype=object)"
            ]
          },
          "metadata": {},
          "execution_count": 50
        }
      ]
    },
    {
      "cell_type": "code",
      "execution_count": 51,
      "metadata": {},
      "outputs": [
        {
          "output_type": "stream",
          "name": "stdout",
          "text": [
            "0.9967433425370312\n0.9967600091541361\n0.9970130100414063\n0.996871442732639\n0.9966272694780534\n0.9971921045976824\n0.9974827954814323\n0.9972900528644716\n0.9970267746974989\n0.9972094231037097\n0.9970747919554998\n0.9973786567199608\n0.9970655078474026\n0.9972261540505606\n"
          ]
        }
      ],
      "source": [
        "iALSCorr_.shape\n",
        "for df in iALSCorr_:\n",
        "    print(df.mean())  "
      ]
    },
    {
      "cell_type": "markdown",
      "metadata": {
        "id": "xwHxO9FCrisT"
      },
      "source": [
        "### RRec_Corr "
      ]
    },
    {
      "cell_type": "code",
      "metadata": {
        "id": "3xq4aMTZ8NHc",
        "outputId": "21f01b8a-82ee-431c-f265-e14de586903e"
      },
      "source": [
        "RandRec_Corr = Updt_getAll_AvgCorr(All_UsersRRecPred,newUserItem_list,AllSteps,'Updated_UserID')  #,\n",
        "RandRec_Corr"
      ],
      "execution_count": 52,
      "outputs": [
        {
          "output_type": "execute_result",
          "data": {
            "text/plain": [
              "array([array([0., 0., 0., ..., 0., 0., 0.]),\n",
              "       array([0., 0., 0., ..., 0., 0., 0.]),\n",
              "       array([0., 0., 0., ..., 0., 0., 0.]),\n",
              "       array([0., 0., 0., ..., 0., 0., 0.]),\n",
              "       array([0., 0., 0., ..., 0., 0., 0.]),\n",
              "       array([0., 0., 0., ..., 0., 0., 0.]),\n",
              "       array([0., 0., 0., ..., 0., 0., 0.]),\n",
              "       array([0., 0., 0., ..., 0., 0., 0.]),\n",
              "       array([0., 0., 0., ..., 0., 0., 0.]),\n",
              "       array([0., 0., 0., ..., 0., 0., 0.]),\n",
              "       array([0., 0., 0., ..., 0., 0., 0.]),\n",
              "       array([0., 0., 0., ..., 0., 0., 0.]),\n",
              "       array([0., 0., 0., ..., 0., 0., 0.]),\n",
              "       array([0., 0., 0., ..., 0., 0., 0.])], dtype=object)"
            ]
          },
          "metadata": {},
          "execution_count": 52
        }
      ]
    },
    {
      "cell_type": "code",
      "metadata": {
        "id": "yAYdhFex8NHd",
        "outputId": "f066b764-1806-419c-89cf-508e6e36f6eb"
      },
      "source": [
        "RandRec_Corr.shape\n",
        "for df in RandRec_Corr:\n",
        "    print(df.mean())  "
      ],
      "execution_count": 53,
      "outputs": [
        {
          "output_type": "stream",
          "name": "stdout",
          "text": [
            "0.00018938852830573005\n0.00015479077771931346\n0.00017015650373206369\n0.00018682228286983054\n0.00016458385548443193\n0.0001866611350496244\n0.00018824939177046766\n0.0001701431999147521\n0.00018879551616648419\n0.0001567332310289805\n0.00018423108944432665\n0.00018467830958120293\n0.00018689519887117728\n0.0001719810808100546\n"
          ]
        }
      ]
    },
    {
      "cell_type": "code",
      "metadata": {
        "id": "YAou17RX8NHf"
      },
      "source": [],
      "execution_count": null,
      "outputs": []
    },
    {
      "cell_type": "markdown",
      "metadata": {
        "id": "3W-oNrd2s__2"
      },
      "source": [
        "### Mpop_Corr "
      ]
    },
    {
      "cell_type": "code",
      "metadata": {
        "colab": {
          "base_uri": "https://localhost:8080/"
        },
        "id": "CbzcieIu7oCt",
        "outputId": "5c7ee35e-baa8-4a5a-efbf-2f07298adec1"
      },
      "source": [
        "MPop_Corr = Updt_getAll_AvgCorr(All_MostPOPRED_List,newUserItem_list,AllSteps,'Updated_UserID')  #,\n",
        "MPop_Corr\n",
        "\n"
      ],
      "execution_count": 54,
      "outputs": [
        {
          "output_type": "execute_result",
          "data": {
            "text/plain": [
              "array([array([0.30787632, 0.30787632, 0.30787632, ..., 0.30787632, 0.30787632,\n",
              "              0.30787632])                                                    ,\n",
              "       array([0.09162168, 0.09162168, 0.09162168, ..., 0.09162168, 0.09162168,\n",
              "              0.09162168])                                                    ,\n",
              "       array([0.2828713, 0.2828713, 0.2828713, ..., 0.2828713, 0.2828713,\n",
              "              0.2828713])                                                ,\n",
              "       array([0.23335283, 0.23335283, 0.23335283, ..., 0.23335283, 0.23335283,\n",
              "              0.23335283])                                                    ,\n",
              "       array([0.27192831, 0.27192831, 0.27192831, ..., 0.27192831, 0.27192831,\n",
              "              0.27192831])                                                    ,\n",
              "       array([0.18780174, 0.18780174, 0.18780174, ..., 0.18780174, 0.18780174,\n",
              "              0.18780174])                                                    ,\n",
              "       array([0.29548047, 0.29548047, 0.29548047, ..., 0.29548047, 0.29548047,\n",
              "              0.29548047])                                                    ,\n",
              "       array([0.32727927, 0.32727927, 0.32727927, ..., 0.32727927, 0.32727927,\n",
              "              0.32727927])                                                    ,\n",
              "       array([0.27467404, 0.27467404, 0.27467404, ..., 0.27467404, 0.27467404,\n",
              "              0.27467404])                                                    ,\n",
              "       array([0.16071709, 0.16071709, 0.16071709, ..., 0.16071709, 0.16071709,\n",
              "              0.16071709])                                                    ,\n",
              "       array([0.27006797, 0.27006797, 0.27006797, ..., 0.27006797, 0.27006797,\n",
              "              0.27006797])                                                    ,\n",
              "       array([0.13449124, 0.13449124, 0.13449124, ..., 0.13449124, 0.13449124,\n",
              "              0.13449124])                                                    ,\n",
              "       array([0.1835164, 0.1835164, 0.1835164, ..., 0.1835164, 0.1835164,\n",
              "              0.1835164])                                                ,\n",
              "       array([0.12326891, 0.12326891, 0.12326891, ..., 0.12326891, 0.12326891,\n",
              "              0.12326891])                                                    ],\n",
              "      dtype=object)"
            ]
          },
          "metadata": {},
          "execution_count": 54
        }
      ]
    },
    {
      "cell_type": "code",
      "metadata": {
        "id": "aVz6areR8NH0",
        "outputId": "813e828e-7d5e-41f1-9c2b-02cdc99f9dbb"
      },
      "source": [
        "MPop_Corr.shape\n",
        "for df in MPop_Corr:\n",
        "    print(df.mean())  "
      ],
      "execution_count": 55,
      "outputs": [
        {
          "output_type": "stream",
          "name": "stdout",
          "text": [
            "0.3078763178878355\n0.0916216815795312\n0.28287129573303205\n0.2333528281393601\n0.271928312941582\n0.18780173801094296\n0.2954804738920579\n0.3272792663190075\n0.2746740350574216\n0.160717093882686\n0.2700679686827842\n0.13449123885644015\n0.1835163954140944\n0.123268908841881\n"
          ]
        }
      ]
    },
    {
      "cell_type": "code",
      "metadata": {
        "id": "kvEzAs238NHt"
      },
      "source": [],
      "execution_count": null,
      "outputs": []
    },
    {
      "cell_type": "code",
      "metadata": {
        "id": "gshLEV6neh4Y"
      },
      "source": [],
      "execution_count": null,
      "outputs": []
    },
    {
      "cell_type": "markdown",
      "metadata": {
        "id": "MNzZxw2UtL8a"
      },
      "source": [
        "## Multi VAE"
      ]
    },
    {
      "cell_type": "code",
      "metadata": {
        "id": "VpAzvqaY8NH2"
      },
      "source": [
        "from e_VAEfunction import split_users, split_train_test, numerize_data, get_TrainRatMat, getTrainTest_RatMat"
      ],
      "execution_count": 283,
      "outputs": []
    },
    {
      "cell_type": "code",
      "metadata": {
        "id": "zD4s8IY4DvsK"
      },
      "source": [
        "use_cuda = torch.cuda.is_available()\n",
        "device = torch.device(\"cuda\" if use_cuda else \"cpu\")\n",
        "device"
      ],
      "execution_count": 284,
      "outputs": [
        {
          "output_type": "execute_result",
          "data": {
            "text/plain": [
              "device(type='cuda')"
            ]
          },
          "metadata": {},
          "execution_count": 284
        }
      ]
    },
    {
      "cell_type": "code",
      "metadata": {
        "id": "RIm6iBaE8NH5"
      },
      "source": [
        "class Encoder(nn.Module):\n",
        "    def __init__(self, q_dims, dropout):  ## q_dims: List[int], dropout: List[float]\n",
        "        super().__init__()\n",
        "\n",
        "        self.q_dims = q_dims\n",
        "        q_dims_ = self.q_dims[:-1] + [self.q_dims[-1] * 2]\n",
        "        self.q_layers = nn.Sequential()\n",
        "        for i, (p, inp, out) in enumerate(zip(dropout, q_dims_[:-1], q_dims_[1:])):\n",
        "            self.q_layers.add_module(\"_\".join([\"dropout\", str(i)]), nn.Dropout(p))\n",
        "            self.q_layers.add_module(\"_\".join([\"linear\", str(i)]), nn.Linear(inp, out))\n",
        "\n",
        "    def forward(self, X):\n",
        "        h = F.normalize(X, p=2, dim=1)\n",
        "        for i, layer in enumerate(self.q_layers):\n",
        "            h = layer(h)\n",
        "            if i != len(self.q_layers) - 1:\n",
        "                h = torch.tanh(h)\n",
        "            else:\n",
        "                mu, logvar = torch.split(h, self.q_dims[-1], dim=1)\n",
        "        return mu, logvar\n",
        "\n",
        "class Decoder(nn.Module):\n",
        "    def __init__(self, p_dims, dropout):  #p_dims: List[int], dropout: List[float]\n",
        "        super().__init__()\n",
        "\n",
        "        self.p_layers = nn.Sequential()\n",
        "        for i, (p, inp, out) in enumerate(zip(dropout, p_dims[:-1], p_dims[1:])):\n",
        "            self.p_layers.add_module(\"_\".join([\"dropout\", str(i)]), nn.Dropout(p))\n",
        "            self.p_layers.add_module(\"_\".join([\"linear\", str(i)]), nn.Linear(inp, out))\n",
        "\n",
        "    def forward(self, X):\n",
        "        h = X\n",
        "        for i, layer in enumerate(self.p_layers):\n",
        "            h = layer(h)\n",
        "            if i != len(self.p_layers) - 1:\n",
        "                h = torch.tanh(h)\n",
        "        return h\n",
        "\n",
        "\n",
        "class MultiVAE(nn.Module):\n",
        "    def __init__(self,p_dims,q_dims,dropout_enc,dropout_dec): #p_dims:List[int],q_dims:List[int],dropout_enc:List[float],dropout_dec:List[float], \n",
        "        super().__init__()\n",
        "        self.encode = Encoder(q_dims, dropout_enc)  #q_dims == Encoder dimensions\n",
        "        self.decode = Decoder(p_dims, dropout_dec)  #p_dims == Decoder dimensions\n",
        "\n",
        "    def forward(self, X):\n",
        "        mu, logvar = self.encode(X)\n",
        "        std = torch.exp(0.5 * logvar)\n",
        "        eps = torch.randn_like(std)\n",
        "        sampled_z = mu + float(self.training) * eps * std\n",
        "        return self.decode(sampled_z), mu, logvar        \n",
        "\n",
        "def vae_loss_fn(inp, out, mu, logvar, anneal):\n",
        "    neg_ll = -torch.mean(torch.sum(F.log_softmax(out, 1) * inp, -1))\n",
        "    KLD = -0.5 * torch.mean(torch.sum(1 + logvar - mu.pow(2) - logvar.exp(), dim=1))\n",
        "    return neg_ll + anneal * KLD\n",
        "\n",
        "\n",
        "def NDCG_binary_at_k_batch(X_pred, heldout_batch, k=100):\n",
        "    batch_users = X_pred.shape[0]\n",
        "    idx_topk_part = bn.argpartition(-X_pred, k, axis=1)\n",
        "    topk_part = X_pred[np.arange(batch_users)[:, np.newaxis], idx_topk_part[:, :k]]\n",
        "    idx_part = np.argsort(-topk_part, axis=1)\n",
        "    idx_topk = idx_topk_part[np.arange(batch_users)[:, np.newaxis], idx_part]\n",
        "\n",
        "    # build the discount template\n",
        "    tp = 1.0 / np.log2(np.arange(2, k + 2))\n",
        "    DCG = (heldout_batch[np.arange(batch_users)[:, np.newaxis], idx_topk].toarray() * tp).sum(axis=1)\n",
        "    IDCG = np.array([(tp[: min(n, k)]).sum() for n in heldout_batch.getnnz(axis=1)])\n",
        "    return DCG[IDCG > 0.0] / IDCG[IDCG > 0.0]\n",
        "\n",
        "#Recall = (Relevant_Items_Recommended in top-k)/(Relevant_Items)\n",
        "\n"
      ],
      "execution_count": 290,
      "outputs": []
    },
    {
      "cell_type": "code",
      "metadata": {
        "id": "0ODKCnro8NH6"
      },
      "source": [
        "def train_step(model, optimizer, data, epoch):\n",
        "    model.train()\n",
        "    running_loss = 0.0\n",
        "    global update_count\n",
        "    N = data.shape[0]\n",
        "    idxlist = list(range(N))\n",
        "    np.random.shuffle(idxlist)\n",
        "    training_steps = len(range(0, N, batch_size))   #training_steps\n",
        "    for batch_idx, start_idx in zip(range(training_steps), range(0, N, batch_size)):\n",
        "        end_idx = min(start_idx + batch_size, N)\n",
        "        X_inp = data[idxlist[start_idx:end_idx]]\n",
        "        X_inp = torch.FloatTensor(X_inp.toarray()).to(device)\n",
        "        if constant_anneal:\n",
        "            anneal = anneal_cap\n",
        "        else:\n",
        "            anneal = min(anneal_cap, update_count / total_anneal_steps)\n",
        "        update_count += 1\n",
        "        optimizer.zero_grad()\n",
        "        X_out, mu, logvar = model(X_inp)\n",
        "        loss = vae_loss_fn(X_inp, X_out, mu, logvar, anneal)\n",
        "        train_step.anneal = anneal\n",
        "        loss.backward()\n",
        "        optimizer.step()\n",
        "        running_loss += loss.item()\n",
        "        avg_loss = running_loss / (batch_idx + 1)\n",
        "        #t.set_postfix(loss=avg_loss)\n",
        "\n",
        "\n",
        "def eval_step(model,data_tr, data_te):\n",
        "    model.eval()\n",
        "    running_loss = 0.0\n",
        "    eval_idxlist = list(range(data_tr.shape[0]))\n",
        "    eval_N = data_tr.shape[0]\n",
        "    eval_steps = len(range(0, eval_N, batch_size))\n",
        "    n100_list, r20_list, r50_list = [], [], []\n",
        "    #with trange(eval_steps) as t:\n",
        "    with torch.no_grad():\n",
        "         for batch_idx, start_idx in zip(range(eval_steps), range(0, eval_N, batch_size)):\n",
        "             end_idx = min(start_idx + batch_size, eval_N)\n",
        "             X_tr = data_tr[eval_idxlist[start_idx:end_idx]]\n",
        "             X_te = data_te[eval_idxlist[start_idx:end_idx]]\n",
        "             X_tr_inp = torch.FloatTensor(X_tr.toarray()).to(device)\n",
        "\n",
        "             X_out, mu, logvar = model(X_tr_inp)\n",
        "             loss = vae_loss_fn(X_tr_inp, X_out, mu, logvar, train_step.anneal)\n",
        "             running_loss += loss.item()\n",
        "             avg_loss = running_loss / (batch_idx + 1)\n",
        "\n",
        "             #Exclude examples from training set\n",
        "             X_out = X_out.cpu().numpy()\n",
        "             X_out[X_tr.nonzero()] = -np.inf\n",
        "\n",
        "             n100 = NDCG_binary_at_k_batch(X_out, X_te, k=100)\n",
        "             r50 = Recall_at_k_batch(X_out, X_te, k=50)\n",
        "             #r20 = Recall_at_k_batch(X_out, X_te, k=20)\n",
        "\n",
        "             r50_list.append(r50)\n",
        "             n100_list.append(n100)\n",
        "             #r20_list.append(r20)\n",
        "                \n",
        "\n",
        "    n100_list = np.concatenate(n100_list)\n",
        "    r50_list = np.concatenate(r50_list)\n",
        "    #r20_list = np.concatenate(r20_list)\n",
        "    return avg_loss, np.mean(n100_list), np.mean(r50_list) "
      ],
      "execution_count": 286,
      "outputs": []
    },
    {
      "cell_type": "code",
      "metadata": {
        "id": "-h7m0OUv8NH7"
      },
      "source": [
        "def getTot_annealSTeps(train_RatMat,batch_size,n_epochs,anneal_cap):\n",
        "    training_steps = len(range(0, train_RatMat.shape[0], batch_size))\n",
        "    try:\n",
        "       total_anneal_steps = (training_steps * (n_epochs - int(n_epochs * 0.2))) / anneal_cap  ##\n",
        "    except ZeroDivisionError:\n",
        "        assert (constant_anneal), \"if 'anneal_cap' is set to 0.0 'constant_anneal' must be set to 'True\"\n",
        "\n",
        "    return total_anneal_steps\n",
        "\n",
        "#############################################\n",
        "def early_stop(curr_value, best_value, stop_step, patience, score_fn='metric'):\n",
        "    if (score_fn == \"loss\" and curr_value <= best_value) or (score_fn == \"metric\" and curr_value >= best_value):\n",
        "        stop_step, best_value = 0, curr_value\n",
        "    else:\n",
        "        stop_step += 1\n",
        "    if stop_step >= patience:\n",
        "        print(\"Early stopping triggered. patience: {} log:{}\".format(patience, best_value))\n",
        "        stop = True\n",
        "    else:\n",
        "        stop = False\n",
        "    return best_value, stop_step, stop \n",
        "\n",
        "def init_weights(model):\n",
        "    for name, param in model.named_parameters():\n",
        "        if \"weight\" in name:\n",
        "            nn.init.xavier_uniform_(param.data)\n",
        "        elif \"bias\" in name:\n",
        "            param.data.normal_(std=0.001)\n",
        "  \n"
      ],
      "execution_count": 261,
      "outputs": []
    },
    {
      "cell_type": "code",
      "metadata": {
        "id": "pPjpfcaU8NH7"
      },
      "source": [
        "def get_holdoutRatMat(Holdout_MATList,newHoldout_list):\n",
        "    HOLDOUT_MATList = []\n",
        "    for holdoutMAT, holdout_df in zip(Holdout_MATList,newHoldout_list):\n",
        "        heldout_users = holdout_df['Updated_UserID']\n",
        "        Holdout_Mat = holdoutMAT[heldout_users,:] \n",
        "        HOLDOUT_MATList.append(Holdout_Mat)\n",
        "    return  HOLDOUT_MATList\n",
        "\n",
        " "
      ],
      "execution_count": 262,
      "outputs": []
    },
    {
      "cell_type": "code",
      "metadata": {
        "id": "tC6c16pP8NH8"
      },
      "source": [
        "##lOAD Saved Lists...\n",
        "with open('/mnt/bulky/oolaleke/TDM_Dataset/AMZ_GamesFiles/AMZGames_newUserItem.pkl', 'rb') as f:   #\n",
        "     newUserItem_list = pickle.load(f)\n",
        "\n",
        "with open('/mnt/bulky/oolaleke/TDM_Dataset/AMZ_GamesFiles/AMZGames_newPSITest.pkl', 'rb') as f:\n",
        "     newPSIDF_LIST = pickle.load(f)\n",
        "\n",
        "\n",
        "with open('/mnt/bulky/oolaleke/TDM_Dataset/AMZ_GamesFiles/AMZGames_newHoldout.pkl', 'rb') as f:\n",
        "     newHOLDOUT_LIST = pickle.load(f)\n"
      ],
      "execution_count": 313,
      "outputs": []
    },
    {
      "cell_type": "code",
      "metadata": {
        "id": "xycH9Ztu8NH8",
        "outputId": "22306792-bbde-4d7b-f9c9-b8663206f457"
      },
      "source": [
        "newAMZGames_DF = pd.read_csv('/mnt/bulky/oolaleke/TDM_Dataset/AMZ_GamesFiles/AMZGames_afterUpdt.csv')\n",
        "\n",
        "print(newAMZGames_DF.shape)   #userId_int\n",
        "print(newAMZGames_DF.dtypes)\n",
        "newAMZGames_DF.head()"
      ],
      "execution_count": 314,
      "outputs": [
        {
          "output_type": "stream",
          "name": "stdout",
          "text": [
            "(345203, 9)\nuserid            object\nProductID         object\nrating             int64\ntimestamp         object\ntimestamp_YM      object\nuserId             int64\nproductId          int64\nUpdated_UserID     int64\nUpdated_ItemID     int64\ndtype: object\n"
          ]
        },
        {
          "output_type": "execute_result",
          "data": {
            "text/plain": [
              "           userid   ProductID  rating   timestamp timestamp_YM  userId  \\\n",
              "0  A2AXQTB83VMK4L  B0000296O5       1  1999-10-14      1999-10       0   \n",
              "1  A2T04VAIXSKJH2  B00002NDRY       1  1999-11-05      1999-11       1   \n",
              "2  A1QA8K3LD9K892  B000021Y5F       1  1999-11-10      1999-11       2   \n",
              "3  A1QA8K3LD9K892  B000021Y5Q       1  1999-11-10      1999-11       2   \n",
              "4   ANLA598UNJI8A  B00001IVGE       1  1999-11-14      1999-11       3   \n",
              "\n",
              "   productId  Updated_UserID  Updated_ItemID  \n",
              "0          0               0               0  \n",
              "1          1               1               1  \n",
              "2          2               2               2  \n",
              "3          3               2               3  \n",
              "4          4               3               4  "
            ],
            "text/html": "<div>\n<style scoped>\n    .dataframe tbody tr th:only-of-type {\n        vertical-align: middle;\n    }\n\n    .dataframe tbody tr th {\n        vertical-align: top;\n    }\n\n    .dataframe thead th {\n        text-align: right;\n    }\n</style>\n<table border=\"1\" class=\"dataframe\">\n  <thead>\n    <tr style=\"text-align: right;\">\n      <th></th>\n      <th>userid</th>\n      <th>ProductID</th>\n      <th>rating</th>\n      <th>timestamp</th>\n      <th>timestamp_YM</th>\n      <th>userId</th>\n      <th>productId</th>\n      <th>Updated_UserID</th>\n      <th>Updated_ItemID</th>\n    </tr>\n  </thead>\n  <tbody>\n    <tr>\n      <th>0</th>\n      <td>A2AXQTB83VMK4L</td>\n      <td>B0000296O5</td>\n      <td>1</td>\n      <td>1999-10-14</td>\n      <td>1999-10</td>\n      <td>0</td>\n      <td>0</td>\n      <td>0</td>\n      <td>0</td>\n    </tr>\n    <tr>\n      <th>1</th>\n      <td>A2T04VAIXSKJH2</td>\n      <td>B00002NDRY</td>\n      <td>1</td>\n      <td>1999-11-05</td>\n      <td>1999-11</td>\n      <td>1</td>\n      <td>1</td>\n      <td>1</td>\n      <td>1</td>\n    </tr>\n    <tr>\n      <th>2</th>\n      <td>A1QA8K3LD9K892</td>\n      <td>B000021Y5F</td>\n      <td>1</td>\n      <td>1999-11-10</td>\n      <td>1999-11</td>\n      <td>2</td>\n      <td>2</td>\n      <td>2</td>\n      <td>2</td>\n    </tr>\n    <tr>\n      <th>3</th>\n      <td>A1QA8K3LD9K892</td>\n      <td>B000021Y5Q</td>\n      <td>1</td>\n      <td>1999-11-10</td>\n      <td>1999-11</td>\n      <td>2</td>\n      <td>3</td>\n      <td>2</td>\n      <td>3</td>\n    </tr>\n    <tr>\n      <th>4</th>\n      <td>ANLA598UNJI8A</td>\n      <td>B00001IVGE</td>\n      <td>1</td>\n      <td>1999-11-14</td>\n      <td>1999-11</td>\n      <td>3</td>\n      <td>4</td>\n      <td>3</td>\n      <td>4</td>\n    </tr>\n  </tbody>\n</table>\n</div>"
          },
          "metadata": {},
          "execution_count": 314
        }
      ]
    },
    {
      "cell_type": "code",
      "metadata": {
        "id": "3J31ET588NH_",
        "outputId": "1938765d-08ef-4d13-ad63-b953541ce741"
      },
      "source": [
        "print(newAMZGames_DF['Updated_UserID'].nunique())\n",
        "print(newAMZGames_DF['Updated_ItemID'].nunique())"
      ],
      "execution_count": 25,
      "outputs": [
        {
          "output_type": "stream",
          "name": "stdout",
          "text": [
            "39284\n17318\n"
          ]
        }
      ]
    },
    {
      "cell_type": "code",
      "execution_count": 322,
      "metadata": {},
      "outputs": [
        {
          "output_type": "execute_result",
          "data": {
            "text/plain": [
              "34571"
            ]
          },
          "metadata": {},
          "execution_count": 322
        }
      ],
      "source": [
        "newUserItem_list[0]['Updated_UserID'].nunique()"
      ]
    },
    {
      "cell_type": "code",
      "execution_count": 317,
      "metadata": {},
      "outputs": [
        {
          "output_type": "execute_result",
          "data": {
            "text/plain": [
              "2018"
            ]
          },
          "metadata": {},
          "execution_count": 317
        }
      ],
      "source": [
        "len(newHOLDOUT_LIST[0]['Updated_UserID'])"
      ]
    },
    {
      "cell_type": "code",
      "execution_count": 128,
      "metadata": {},
      "outputs": [],
      "source": [
        "# rows_i = newAMZGames_DF['Updated_UserID'].nunique()\n",
        "# cols_i = newAMZGames_DF['Updated_ItemID'].nunique()\n",
        "# UserItem_MATList = AllRatingMatrices(newUserItem_list,'Updated_UserID','Updated_ItemID',rows_i ,cols_i) \n",
        "# print(len(UserItem_MATList))   \n",
        "# UserItem_MATList"
      ]
    },
    {
      "cell_type": "code",
      "execution_count": 320,
      "metadata": {},
      "outputs": [
        {
          "output_type": "stream",
          "name": "stdout",
          "text": [
            "2018\n34571\n32558\n"
          ]
        },
        {
          "output_type": "execute_result",
          "data": {
            "text/plain": [
              "array([    0,     1,     2, ..., 34489, 34494, 34570])"
            ]
          },
          "metadata": {},
          "execution_count": 320
        }
      ],
      "source": [
        "UserItem_df1 =  newUserItem_list[0]\n",
        "trainusers_ = UserItem_df1['Updated_UserID'].unique()\n",
        "testusers = newHOLDOUT_LIST[0]['Updated_UserID'].unique()\n",
        "print(len(testusers))\n",
        "print(len(trainusers_))\n",
        "\n",
        "true_trUsers = np.setdiff1d(trainusers_,testusers)  #elements in 'trainusers_' not in 'testusers' == new_items\n",
        "print(len(true_trUsers))\n",
        "true_trUsers"
      ]
    },
    {
      "cell_type": "code",
      "execution_count": 223,
      "metadata": {},
      "outputs": [],
      "source": [
        "# UserItem_df1 =  newUserItem_list[0]\n",
        "# trainItems_ = UserItem_df1['Updated_ItemID'].unique()\n",
        "# print(len(trainItems_))\n",
        "# #print(sorted(trainusers_)[200:300])\n",
        "# trainItems_\n",
        "\n",
        "#  testItems = newHOLDOUT_LIST[0]['Updated_ItemID'].unique()\n",
        "#  print(len(testItems))\n",
        "#  #print(sorted(testusers)[:100])\n",
        "#  testItems\n",
        "\n",
        "#  true_trItems = np.setdiff1d(trainItems_,testItems)  #elements in 'trainusers_' not in 'testusers' == new_items\n",
        "# print(len(true_trItems))\n",
        "# true_trItems"
      ]
    },
    {
      "cell_type": "code",
      "execution_count": 302,
      "metadata": {},
      "outputs": [],
      "source": [
        "def topN_Index(a, n):\n",
        "    parted = np.argpartition(a, -n)[-n:]\n",
        "    return parted[np.argsort(-a[parted])]  \n",
        "\n",
        "\n",
        "def NDCG_binary_at_k_batch(X_pred, heldout_batch, k=100):  #Hello2021\n",
        "    batch_users = X_pred.shape[0]\n",
        "    idx_topk_part = bn.argpartition(-X_pred, k, axis=1)\n",
        "    topk_part = X_pred[np.arange(batch_users)[:, np.newaxis], idx_topk_part[:, :k]]\n",
        "    idx_part = np.argsort(-topk_part, axis=1)\n",
        "    idx_topk = idx_topk_part[np.arange(batch_users)[:, np.newaxis], idx_part]\n",
        "\n",
        "    # build the discount template\n",
        "    tp = 1.0 / np.log2(np.arange(2, k + 2))\n",
        "    DCG = (heldout_batch[np.arange(batch_users)[:, np.newaxis], idx_topk].toarray() * tp).sum(axis=1)\n",
        "    IDCG = np.array([(tp[: min(n, k)]).sum() for n in heldout_batch.getnnz(axis=1)])\n",
        "    return DCG[IDCG > 0.0] / IDCG[IDCG > 0.0]\n",
        "\n",
        "\n",
        "def Recall_at_k_batch(X_pred, heldout_batch, k=100):\n",
        "    batch_users = X_pred.shape[0]\n",
        "\n",
        "    idx = bn.argpartition(-X_pred, k, axis=1)\n",
        "    X_pred_binary = np.zeros_like(X_pred, dtype=bool)\n",
        "    X_pred_binary[np.arange(batch_users)[:, np.newaxis], idx[:, :k]] = True\n",
        "\n",
        "    X_true_binary = (heldout_batch > 0).toarray()\n",
        "    tmp = (np.logical_and(X_true_binary, X_pred_binary).sum(axis=1)).astype(np.float32)\n",
        "    denominator = np.minimum(k, X_true_binary.sum(axis=1))\n",
        "    recall = tmp[denominator > 0.0] / denominator[denominator > 0.0]\n",
        "    return recall\n",
        "\n",
        "def HR_at_k_batch(pred_scores, ground_truth, k=10):  #\"pred_scores' and 'ground_truth' must have the same shape.\"\n",
        "    k = min(pred_scores.shape[1], k)\n",
        "    idx = bn.argpartition(-pred_scores, k-1, axis=1)\n",
        "    pred_scores_binary = np.zeros_like(pred_scores, dtype=bool)\n",
        "    pred_scores_binary[np.arange(pred_scores.shape[0])[:, np.newaxis], idx[:, :k]] = True\n",
        "    X_true_binary = (ground_truth > 0)\n",
        "    num = (np.logical_and(X_true_binary, pred_scores_binary).sum(axis=1)).astype(np.float32)\n",
        "    return num > 0\n",
        "   \n",
        "def MRR_at_k_batch(pred_scores, ground_truth, k=10):  #'pred_scores' and 'ground_truth' must have the same shape\n",
        "       #Compute the Mean Reciprocal Rank (MRR)             \n",
        "    k = min(pred_scores.shape[1], k)\n",
        "    idx = np.argsort(-pred_scores)\n",
        "    hits = ground_truth[np.arange(ground_truth.shape[0])[:, np.newaxis], idx[:, :k]]\n",
        "    rranks, cranks = hits.nonzero()\n",
        "\n",
        "    mrr = [0. for _ in range(ground_truth.shape[0])]\n",
        "    for i, r in enumerate(rranks):\n",
        "        if mrr[r] == 0:\n",
        "           mrr[r] = 1. / (1 + cranks[i])\n",
        "\n",
        "    return np.array(mrr)\n"
      ]
    },
    {
      "cell_type": "code",
      "execution_count": 323,
      "metadata": {},
      "outputs": [
        {
          "output_type": "execute_result",
          "data": {
            "text/plain": [
              "32558"
            ]
          },
          "metadata": {},
          "execution_count": 323
        }
      ],
      "source": [
        "trUserItem_df1 = UserItem_df1[ UserItem_df1['Updated_UserID'].isin(true_trUsers)]  #UserItem_df1['Updated_UserID'].isin(true_trUsers)& \n",
        "trUserItem_df1['Updated_UserID'].nunique()"
      ]
    },
    {
      "cell_type": "code",
      "execution_count": 425,
      "metadata": {},
      "outputs": [
        {
          "output_type": "stream",
          "name": "stdout",
          "text": [
            "15993\n39284\n"
          ]
        }
      ],
      "source": [
        "# Save index dictionaries to \"numerise\" later one\n",
        "trainItems_ = trUserItem_df1['Updated_ItemID'].unique()\n",
        "unique_uid =  newAMZGames_DF['Updated_UserID'].unique()\n",
        "item2id = dict((sid, i) for (i, sid) in enumerate(trainItems_))\n",
        "user2id = dict((pid, i) for (i, pid) in enumerate(unique_uid))\n",
        "print(len(item2id))\n",
        "print(len(user2id))"
      ]
    },
    {
      "cell_type": "code",
      "execution_count": null,
      "metadata": {},
      "outputs": [],
      "source": []
    },
    {
      "cell_type": "code",
      "execution_count": 418,
      "metadata": {},
      "outputs": [
        {
          "output_type": "execute_result",
          "data": {
            "text/plain": [
              "<34571x16120 sparse matrix of type '<class 'numpy.float64'>'\n",
              "\twith 233619 stored elements in Compressed Sparse Row format>"
            ]
          },
          "metadata": {},
          "execution_count": 418
        }
      ],
      "source": [
        "rows_i = trUserItem_df1['Updated_UserID'].max()+1\n",
        "cols_i = trUserItem_df1['Updated_ItemID'].max()+1\n",
        "#UserItem_MAT_1 = SingleRatingMatrix( newUserItem_list[0],'Updated_UserID','Updated_ItemID',rows_i,cols_i)\n",
        "UserItem_MAT_1 = SingleRatingMatrix(trUserItem_df1,'Updated_UserID','Updated_ItemID',rows_i,cols_i)\n",
        "UserItem_MAT_1    "
      ]
    },
    {
      "cell_type": "code",
      "execution_count": 427,
      "metadata": {},
      "outputs": [
        {
          "output_type": "execute_result",
          "data": {
            "text/plain": [
              "1891"
            ]
          },
          "metadata": {},
          "execution_count": 427
        }
      ],
      "source": [
        "valid_df = newHOLDOUT_LIST[0]\n",
        "valid_df = valid_df[valid_df['Updated_ItemID'].isin(trainItems_)]\n",
        "#print(newHOLDOUT_LIST[0]['Updated_ItemID'].nunique())\n",
        "valid_df['Updated_UserID'].nunique()"
      ]
    },
    {
      "cell_type": "code",
      "execution_count": 428,
      "metadata": {},
      "outputs": [],
      "source": [
        "Train_DF   =    numerize_data(trUserItem_df1,user2id,item2id, 'Updated_UserID','Updated_ItemID')\n",
        "Valid_DF   = numerize_data(valid_df,user2id,item2id,'Updated_UserID','Updated_ItemID')"
      ]
    },
    {
      "cell_type": "code",
      "execution_count": 432,
      "metadata": {},
      "outputs": [
        {
          "output_type": "execute_result",
          "data": {
            "text/plain": [
              "<34699x15993 sparse matrix of type '<class 'numpy.float64'>'\n",
              "\twith 233619 stored elements in Compressed Sparse Row format>"
            ]
          },
          "metadata": {},
          "execution_count": 432
        }
      ],
      "source": [
        "n_items = len(trainItems_)\n",
        "TrainDF_RatMat = get_TrainRatMat(Train_DF,'Updated_UserID','Updated_ItemID',n_items)\n",
        "TrainDF_RatMat"
      ]
    },
    {
      "cell_type": "code",
      "execution_count": 433,
      "metadata": {},
      "outputs": [
        {
          "output_type": "execute_result",
          "data": {
            "text/plain": [
              "<34705x15993 sparse matrix of type '<class 'numpy.float64'>'\n",
              "\twith 1891 stored elements in Compressed Sparse Row format>"
            ]
          },
          "metadata": {},
          "execution_count": 433
        }
      ],
      "source": [
        "Valid_DFRatMat = get_TrainRatMat(Valid_DF,'Updated_UserID','Updated_ItemID',n_items)\n",
        "Valid_DFRatMat"
      ]
    },
    {
      "cell_type": "code",
      "execution_count": 435,
      "metadata": {},
      "outputs": [
        {
          "output_type": "execute_result",
          "data": {
            "text/plain": [
              "<1891x15993 sparse matrix of type '<class 'numpy.float64'>'\n",
              "\twith 1891 stored elements in Compressed Sparse Row format>"
            ]
          },
          "metadata": {},
          "execution_count": 435
        }
      ],
      "source": [
        "heldout_users = Valid_DF['Updated_UserID']\n",
        "Holdout_Mat = Valid_DFRatMat[heldout_users,:] \n",
        "#holdoutMAT_1 \n",
        "Holdout_Mat"
      ]
    },
    {
      "cell_type": "code",
      "execution_count": null,
      "metadata": {},
      "outputs": [],
      "source": []
    },
    {
      "cell_type": "code",
      "execution_count": 417,
      "metadata": {},
      "outputs": [
        {
          "output_type": "execute_result",
          "data": {
            "text/plain": [
              "<2018x17318 sparse matrix of type '<class 'numpy.float64'>'\n",
              "\twith 2018 stored elements in Compressed Sparse Row format>"
            ]
          },
          "metadata": {},
          "execution_count": 417
        }
      ],
      "source": [
        "# valid_df = newHOLDOUT_LIST[0]\n",
        "# holdoutMAT_1 = SingleRatingMatrix(valid_df,'Updated_UserID','Updated_ItemID',rows_i,cols_i)\n",
        "# heldout_users = Valid_DF['Updated_UserID']\n",
        "# Holdout_Mat = Valid_DFRatMat[heldout_users,:] \n",
        "# #holdoutMAT_1 \n",
        "# Holdout_Mat"
      ]
    },
    {
      "cell_type": "code",
      "execution_count": 132,
      "metadata": {},
      "outputs": [],
      "source": [
        "\n",
        "# def getPred_(model,data_tr,batch_size,k=10):\n",
        "#     model.eval()\n",
        "#     running_loss = 0.0\n",
        "#     eval_idxlist = list(range(data_tr.shape[0]))\n",
        "#     eval_N = data_tr.shape[0]\n",
        "#     eval_steps = len(range(0, eval_N, batch_size))\n",
        "#     n100_list, hr10_list, mrr10_list = [], [], []\n",
        "#     users_pred = []\n",
        "#     with torch.no_grad():\n",
        "#          for batch_idx, start_idx in zip(range(eval_steps), range(0, eval_N, batch_size)):\n",
        "#              end_idx = min(start_idx + batch_size, eval_N)\n",
        "#              X_tr = data_tr[eval_idxlist[start_idx:end_idx]]\n",
        "#              X_tr_inp = torch.FloatTensor(X_tr.toarray()).to(device)\n",
        "#              #Make pred:    \n",
        "#              X_out, mu, logvar = model(X_tr_inp)\n",
        "#              X_out = X_out.cpu().numpy()        #X_out[X_tr.nonzero()] = -np.inf\n",
        "#              topN_pred = np.apply_along_axis(topN_Index, 1, X_out,n = 10) \n",
        "#              #batch_users = X_out.shape[0]\n",
        "#              #idx_topk_part = bn.argpartition(-X_out, k, axis=1)##Not this\n",
        "#              #topk_part = X_out[np.arange(batch_users)[:, np.newaxis], idx_topk_part[:, :k]]  \n",
        "#              #idx_part = np.argsort(-topk_part, axis=1)   ##Not this\n",
        "#              #idx_topk = idx_topk_part[np.arange(batch_users)[:, np.newaxis], idx_part]      \n",
        "#              users_pred.append(topN_pred)\n",
        "        \n",
        "#          AllUserPRED = np.vstack(users_pred)\n",
        "#     return AllUserPRED \n",
        "\n",
        "def eval_step(model,data_tr,data_te):\n",
        "    model.eval()\n",
        "    running_loss = 0.0\n",
        "    eval_idxlist = list(range(data_tr.shape[0]))\n",
        "    eval_N = data_tr.shape[0]\n",
        "    eval_steps = len(range(0, eval_N, batch_size))\n",
        "    n10_list, hr10_list,mrr10_list = [], [], []\n",
        "    with torch.no_grad():\n",
        "         for batch_idx, start_idx in zip(range(eval_steps), range(0, eval_N, batch_size)):\n",
        "             end_idx = min(start_idx + batch_size, eval_N)\n",
        "             X_tr = data_tr[eval_idxlist[start_idx:end_idx]]\n",
        "             X_te = data_te[eval_idxlist[start_idx:end_idx]]\n",
        "             X_tr_inp = torch.FloatTensor(X_tr.toarray()).to(device)\n",
        "\n",
        "             X_out, mu, logvar = model(X_tr_inp)\n",
        "             #loss = vae_loss_fn(X_tr_inp, X_out, mu, logvar, train_step.anneal)\n",
        "             #running_loss += loss.item()\n",
        "             #avg_loss = running_loss / (batch_idx + 1)\n",
        "\n",
        "             #Exclude examples from training set\n",
        "             X_out = X_out.cpu().numpy()\n",
        "             #X_out[X_tr.nonzero()] = -np.inf\n",
        "             X_pred =  X_out[heldout_users,:]     \n",
        "             n10 = NDCG_binary_at_k_batch(X_pred, X_te, k=10)\n",
        "             #r10 = Recall_at_k_batch(X_out, X_te, k=10)\n",
        "             hr10 =  HR_at_k_batch(X_out, X_te.toarray(), k=10)   # #X_tr.toarray() == groundTruth\n",
        "             mrr10 = MRR_at_k_batch(X_out, X_te.toarray(), k=10)\n",
        "\n",
        "             \n",
        "             #r10_list.append(r10)\n",
        "             n10_list.append(n10)\n",
        "             hr10_list.append(hr10)\n",
        "             mrr10_list.append(mrr10)\n",
        "                \n",
        "    n10_list = np.concatenate(n10_list)\n",
        "    #r10_list = np.concatenate(r10_list)\n",
        "    hr10_list = np.concatenate(hr10_list)\n",
        "    mrr10_list = np.concatenate(mrr10_list)\n",
        "    return np.mean(n10_list) ,np.mean(hr10_list),np.mean(mrr10_list)\n",
        "\n"
      ]
    },
    {
      "cell_type": "code",
      "execution_count": 409,
      "metadata": {},
      "outputs": [],
      "source": [
        "def topN_Index(a, n):\n",
        "    parted = np.argpartition(a, -n)[-n:]\n",
        "    return parted[np.argsort(-a[parted])]  \n",
        "\n",
        "def getall_UsersPred(model,data_tr,batch_size,k=10):\n",
        "    model.eval()\n",
        "    running_loss = 0.0\n",
        "    eval_idxlist = list(range(data_tr.shape[0]))\n",
        "    eval_N = data_tr.shape[0]\n",
        "    eval_steps = len(range(0, eval_N, batch_size))\n",
        "    n100_list, hr10_list, mrr10_list = [], [], []\n",
        "    users_pred = []\n",
        "    with torch.no_grad():\n",
        "         for batch_idx, start_idx in zip(range(eval_steps), range(0, eval_N, batch_size)):\n",
        "             end_idx = min(start_idx + batch_size, eval_N)\n",
        "             X_tr = data_tr[eval_idxlist[start_idx:end_idx]]\n",
        "             X_tr_inp = torch.FloatTensor(X_tr.toarray()).to(device)\n",
        "             #Make pred:    \n",
        "             X_out, mu, logvar = model(X_tr_inp)\n",
        "             X_out = X_out.cpu().numpy()        \n",
        "             topN_pred = np.apply_along_axis(topN_Index, 1, X_out,n = 10)     \n",
        "             users_pred.append(topN_pred)        \n",
        "         AllUserPRED = np.vstack(users_pred)\n",
        "         \n",
        "    return AllUserPRED \n",
        " \n",
        "\n",
        "def get_evalMetrics(model,data_tr):\n",
        "    eval_idxlist = list(range(data_tr.shape[0]))\n",
        "    eval_N = data_tr.shape[0]\n",
        "    eval_steps = len(range(0, eval_N, batch_size))\n",
        "    hr10_list, mrr10_list = [], []\n",
        "    with torch.no_grad():\n",
        "         for batch_idx, start_idx in zip(range(eval_steps), range(0, eval_N, batch_size)):\n",
        "             end_idx = min(start_idx + batch_size, eval_N)\n",
        "             X_tr = data_tr[eval_idxlist[start_idx:end_idx]]\n",
        "             X_tr_inp = torch.FloatTensor(X_tr.toarray()).to(device)\n",
        "             #Make pred:    \n",
        "             X_out, mu, logvar = model(X_tr_inp)\n",
        "             X_out = X_out.cpu().numpy()     \n",
        "             #n100 =  NDCG_binary_at_k_batch(X_out, X_tr, k=100)\n",
        "             hr10 =  HR_at_k_batch(X_out, X_tr.toarray(), k=10)   # #X_tr.toarray() == groundTruth\n",
        "             mrr10 = MRR_at_k_batch(X_out, X_tr.toarray(), k=10)\n",
        "\n",
        "             #n100_list.append(n100)   \n",
        "             hr10_list.append(hr10)\n",
        "             mrr10_list.append(mrr10)\n",
        "                \n",
        "    #n100_list = np.concatenate(n100_list)\n",
        "    hr10_list = np.concatenate(hr10_list)\n",
        "    mrr10_list = np.concatenate(mrr10_list)\n",
        "    return np.mean(hr10_list), np.mean(mrr10_list)\n",
        "\n",
        "   #getmetrics_(model_,holdout_Mat,holdout_df,batch_size=holdout_Mat.shape[0],k)\n",
        "def getmetrics_(model,data_tr,holdout_df,batch_size,k=10):\n",
        "    model.eval()\n",
        "    running_loss = 0.0\n",
        "    eval_idxlist = list(range(data_tr.shape[0]))\n",
        "    eval_N = data_tr.shape[0]\n",
        "    eval_steps = len(range(0, eval_N, batch_size))\n",
        "    n100_list, hr10_list, mrr10_list = [], [], []\n",
        "    users_pred = []\n",
        "    with torch.no_grad():\n",
        "         for batch_idx, start_idx in zip(range(eval_steps), range(0, eval_N, batch_size)):\n",
        "             end_idx = min(start_idx + batch_size, eval_N)\n",
        "             X_tr = data_tr[eval_idxlist[start_idx:end_idx]]\n",
        "             X_tr_inp = torch.FloatTensor(X_tr.toarray()).to(device)\n",
        "             #Make pred:    \n",
        "             X_out, mu, logvar = model(X_tr_inp)\n",
        "             X_out = X_out.cpu().numpy()        \n",
        "             #topN_pred = TopNPred(holdout_df,X_out,k)\n",
        "             topN_pred = np.apply_along_axis(topN_Index, 1, X_out,n = k)     \n",
        "             users_pred.append(topN_pred)        \n",
        "         AllUserPRED = np.vstack(users_pred)\n",
        "    hr_value = Hitrate_Eval(holdout_df,AllUserPRED,'Updated_UserID','Updated_ItemID')   \n",
        "    mrr_value = MRR_Eval(holdout_df,AllUserPRED,'Updated_ItemID') \n",
        "    return hr_value,mrr_value     \n",
        "\n",
        "def singlestep_predEval(model_,UserItemMat,holdout_Mat,holdout_df,pred_BS,n_epoch,k=10):\n",
        "    for epoch in range(n_epoch):\n",
        "        train_step(model_, optimizer, UserItemMat, epoch)\n",
        "    \n",
        "    hr10,mrr10 = getmetrics_(model_,holdout_Mat,holdout_df,holdout_Mat.shape[0],k)\n",
        "    allUserPRED = getall_UsersPred(model_,UserItemMat,pred_BS,k)\n",
        "    return  hr10,mrr10,allUserPRED\n",
        "\n",
        "def Allsteps_predEval(model_,UserItemMatList,holdout_MatList,newHoldoutList, pred_BS,n_epoch,k=10):   \n",
        "    hr10_List = [] \n",
        "    mrr10_List = [] \n",
        "    ALLUsers_Pred = []\n",
        "    for UserItemMat,holdout_Mat,holdout_df in tqdm(zip(UserItemMatList,holdout_MatList,newHoldoutList)):\n",
        "        hr10,mrr10,allUserpred_ = singlestep_predEval(model_,UserItemMat,holdout_Mat,holdout_df,pred_BS,n_epoch,k)\n",
        "        hr10_List.append(hr10)   \n",
        "        mrr10_List.append(mrr10)\n",
        "        ALLUsers_Pred.append(allUserpred_)\n",
        "        print(\"| HitRate  {:4.3f} | Mrr {:4.3f} | \".format(hr10, mrr10))\n",
        "    return hr10_List,mrr10_List ,ALLUsers_Pred    "
      ]
    },
    {
      "cell_type": "code",
      "execution_count": 149,
      "metadata": {},
      "outputs": [],
      "source": []
    },
    {
      "cell_type": "code",
      "execution_count": 437,
      "metadata": {},
      "outputs": [
        {
          "output_type": "execute_result",
          "data": {
            "text/plain": [
              "MultiVAE(\n",
              "  (encode): Encoder(\n",
              "    (q_layers): Sequential(\n",
              "      (dropout_0): Dropout(p=0.5, inplace=False)\n",
              "      (linear_0): Linear(in_features=15993, out_features=600, bias=True)\n",
              "      (dropout_1): Dropout(p=0.0, inplace=False)\n",
              "      (linear_1): Linear(in_features=600, out_features=400, bias=True)\n",
              "    )\n",
              "  )\n",
              "  (decode): Decoder(\n",
              "    (p_layers): Sequential(\n",
              "      (dropout_0): Dropout(p=0.0, inplace=False)\n",
              "      (linear_0): Linear(in_features=200, out_features=600, bias=True)\n",
              "      (dropout_1): Dropout(p=0.0, inplace=False)\n",
              "      (linear_1): Linear(in_features=600, out_features=15993, bias=True)\n",
              "    )\n",
              "  )\n",
              ")"
            ]
          },
          "metadata": {},
          "execution_count": 437
        }
      ],
      "source": [
        "#I =  UserItem_MAT_1.shape[1]  #I is the total number of items in the train date\n",
        "I  = len(trainItems_)\n",
        "q_dims = [I] + [600, 200]\n",
        "p_dims = [200, 600] + [I]\n",
        "dropout_enc = [0.5, 0.]\n",
        "dropout_dec = [0., 0.]\n",
        "\n",
        "VAEmodel = MultiVAE(p_dims,q_dims,dropout_enc,dropout_dec)\n",
        "\n",
        "\n",
        "init_weights(VAEmodel)\n",
        "VAEmodel.to(device)\n",
        "optimizer = torch.optim.AdamW(VAEmodel.parameters(), lr=1e-3, weight_decay=0.0)  \n",
        "VAEmodel              "
      ]
    },
    {
      "cell_type": "code",
      "execution_count": null,
      "metadata": {},
      "outputs": [],
      "source": []
    },
    {
      "cell_type": "code",
      "execution_count": 335,
      "metadata": {},
      "outputs": [
        {
          "output_type": "execute_result",
          "data": {
            "text/plain": [
              "device(type='cuda')"
            ]
          },
          "metadata": {},
          "execution_count": 335
        }
      ],
      "source": []
    },
    {
      "cell_type": "code",
      "execution_count": 438,
      "metadata": {},
      "outputs": [],
      "source": [
        "batch_size = 500\n",
        "anneal_cap = 0.2\n",
        "update_count = 0\n",
        "n_epochs = 100\n",
        "constant_anneal = False"
      ]
    },
    {
      "cell_type": "code",
      "execution_count": 440,
      "metadata": {},
      "outputs": [
        {
          "output_type": "execute_result",
          "data": {
            "text/plain": [
              "28000.0"
            ]
          },
          "metadata": {},
          "execution_count": 440
        }
      ],
      "source": [
        " total_anneal_steps = getTot_annealSTeps(TrainDF_RatMat,batch_size,n_epochs,anneal_cap)\n",
        " total_anneal_steps"
      ]
    },
    {
      "cell_type": "code",
      "execution_count": 441,
      "metadata": {},
      "outputs": [],
      "source": [
        "total_anneal_steps = 28000 ##.."
      ]
    },
    {
      "cell_type": "code",
      "execution_count": 442,
      "metadata": {},
      "outputs": [
        {
          "output_type": "execute_result",
          "data": {
            "text/plain": [
              "<34699x15993 sparse matrix of type '<class 'numpy.float64'>'\n",
              "\twith 233619 stored elements in Compressed Sparse Row format>"
            ]
          },
          "metadata": {},
          "execution_count": 442
        }
      ],
      "source": [
        "TrainDF_RatMat"
      ]
    },
    {
      "cell_type": "code",
      "execution_count": 443,
      "metadata": {},
      "outputs": [
        {
          "output_type": "stream",
          "name": "stderr",
          "text": [
            "100%|██████████| 100/100 [03:58<00:00,  2.39s/it]\n"
          ]
        }
      ],
      "source": [
        "for epoch in tqdm(range(100)):\n",
        "    train_step(VAEmodel, optimizer, TrainDF_RatMat, epoch)\n"
      ]
    },
    {
      "cell_type": "code",
      "execution_count": 475,
      "metadata": {},
      "outputs": [],
      "source": [
        "def getmetrics_(model,data_tr,holdout_df,batch_size,k=10):\n",
        "    model.eval()\n",
        "    running_loss = 0.0\n",
        "    eval_idxlist = list(range(data_tr.shape[0]))\n",
        "    eval_N = data_tr.shape[0]\n",
        "    eval_steps = len(range(0, eval_N, batch_size))\n",
        "    n100_list, hr10_list, mrr10_list = [], [], []\n",
        "    users_pred = []\n",
        "    with torch.no_grad():\n",
        "         for batch_idx, start_idx in zip(range(eval_steps), range(0, eval_N, batch_size)):\n",
        "             end_idx = min(start_idx + batch_size, eval_N)\n",
        "             X_tr = data_tr[eval_idxlist[start_idx:end_idx]]\n",
        "             X_tr_inp = torch.FloatTensor(X_tr.toarray()).to(device)\n",
        "             #Make pred:    \n",
        "             X_out, mu, logvar = model(X_tr_inp)\n",
        "             X_out = X_out.cpu().numpy()  \n",
        "             #X_out[X_tr.nonzero()] = -np.inf      \n",
        "             topN_pred = np.apply_along_axis(topN_Index, 1, X_out,n = k)     \n",
        "             users_pred.append(topN_pred)        \n",
        "         AllUserPRED = np.vstack(users_pred)\n",
        "    hr_value = Hitrate_Eval(holdout_df,AllUserPRED,'Updated_UserID','Updated_ItemID')   \n",
        "    mrr_value = MRR_Eval(holdout_df,AllUserPRED,'Updated_ItemID') \n",
        "    return hr_value,mrr_value  "
      ]
    },
    {
      "cell_type": "code",
      "execution_count": 480,
      "metadata": {},
      "outputs": [
        {
          "output_type": "execute_result",
          "data": {
            "text/plain": [
              "<1891x15993 sparse matrix of type '<class 'numpy.float64'>'\n",
              "\twith 1891 stored elements in Compressed Sparse Row format>"
            ]
          },
          "metadata": {},
          "execution_count": 480
        }
      ],
      "source": [
        "#Holdout_Mat  \n",
        "# holdoutMAT_1\n",
        "# heldout_users = valid_df['Updated_UserID']\n",
        "# Holdout_Mat =  holdoutMAT_1[heldout_users,:] \n",
        "# holdoutMAT_1 \n",
        "\n",
        "heldout_users = Valid_DF['Updated_UserID']\n",
        "Holdout_Mat = Valid_DFRatMat[heldout_users,:] \n",
        "Holdout_Mat"
      ]
    },
    {
      "cell_type": "code",
      "execution_count": 481,
      "metadata": {},
      "outputs": [
        {
          "output_type": "stream",
          "name": "stdout",
          "text": [
            "Number of hits:  1784\nTotal Num of users:  1891\nRecommendation HitRate:  0.9434161819143311\n"
          ]
        },
        {
          "output_type": "execute_result",
          "data": {
            "text/plain": [
              "(0.9434161819143311, 0.9179543031737637)"
            ]
          },
          "metadata": {},
          "execution_count": 481
        }
      ],
      "source": [
        "getmetrics_(VAEmodel,Holdout_Mat,Valid_DF,batch_size=500,k=10)"
      ]
    },
    {
      "cell_type": "code",
      "execution_count": 291,
      "metadata": {},
      "outputs": [],
      "source": []
    },
    {
      "cell_type": "code",
      "execution_count": 403,
      "metadata": {},
      "outputs": [],
      "source": [
        "def get_evalMetrics(model,data_tr):\n",
        "    eval_idxlist = list(range(data_tr.shape[0]))\n",
        "    eval_N = data_tr.shape[0]\n",
        "    eval_steps = len(range(0, eval_N, batch_size))\n",
        "    hr10_list, mrr10_list = [], []\n",
        "    with torch.no_grad():\n",
        "         for batch_idx, start_idx in zip(range(eval_steps), range(0, eval_N, batch_size)):\n",
        "             end_idx = min(start_idx + batch_size, eval_N)\n",
        "             X_tr = data_tr[eval_idxlist[start_idx:end_idx]]\n",
        "             X_tr_inp = torch.FloatTensor(X_tr.toarray()).to(device)\n",
        "             #Make pred:    \n",
        "             X_out, mu, logvar = model(X_tr_inp)\n",
        "             X_out = X_out.cpu().numpy()    \n",
        "             #X_out[heldout_users,:]  \n",
        "             #n100 =  NDCG_binary_at_k_batch(X_out, X_tr, k=100)\n",
        "             hr10 =  HR_at_k_batch(X_out, X_tr.toarray(), k=10)   # #X_tr.toarray() == groundTruth\n",
        "             mrr10 = MRR_at_k_batch(X_out, X_tr.toarray(), k=10)\n",
        "\n",
        "             #n100_list.append(n100)   \n",
        "             hr10_list.append(hr10)\n",
        "             mrr10_list.append(mrr10)\n",
        "                \n",
        "    #n100_list = np.concatenate(n100_list)\n",
        "    hr10_list = np.concatenate(hr10_list)\n",
        "    mrr10_list = np.concatenate(mrr10_list)\n",
        "    return hr10_list,mrr10_list #np.mean(hr10_list), np.mean(mrr10_list)\n"
      ]
    },
    {
      "cell_type": "code",
      "execution_count": 471,
      "metadata": {},
      "outputs": [],
      "source": [
        "# def get_evalMetrics(model,data_tr):\n",
        "#     eval_idxlist = list(range(data_tr.shape[0]))\n",
        "#     eval_N = data_tr.shape[0]\n",
        "#     eval_steps = len(range(0, eval_N, batch_size))\n",
        "#     hr10_list, mrr10_list,all_Xout = [], [],[]\n",
        "#     with torch.no_grad():\n",
        "#          for batch_idx, start_idx in zip(range(eval_steps), range(0, eval_N, batch_size)):\n",
        "#              end_idx = min(start_idx + batch_size, eval_N)\n",
        "#              X_tr = data_tr[eval_idxlist[start_idx:end_idx]]\n",
        "#              X_tr_inp = torch.FloatTensor(X_tr.toarray()).to(device)\n",
        "#              #Make pred:    \n",
        "#              X_out, mu, logvar = model(X_tr_inp)\n",
        "#              X_out = X_out.cpu().numpy() \n",
        "#              all_Xout.append(X_out)\n",
        "#     all_Xout = np.concatenate(all_Xout)         \n",
        "#     return all_Xout"
      ]
    },
    {
      "cell_type": "code",
      "execution_count": null,
      "metadata": {},
      "outputs": [],
      "source": [
        "all_Xout"
      ]
    },
    {
      "cell_type": "code",
      "execution_count": 482,
      "metadata": {},
      "outputs": [
        {
          "output_type": "execute_result",
          "data": {
            "text/plain": [
              "<34705x15993 sparse matrix of type '<class 'numpy.float64'>'\n",
              "\twith 1891 stored elements in Compressed Sparse Row format>"
            ]
          },
          "metadata": {},
          "execution_count": 482
        }
      ],
      "source": [
        "Valid_DFRatMat"
      ]
    },
    {
      "cell_type": "code",
      "execution_count": 445,
      "metadata": {},
      "outputs": [
        {
          "output_type": "execute_result",
          "data": {
            "text/plain": [
              "<1891x15993 sparse matrix of type '<class 'numpy.float64'>'\n",
              "\twith 1891 stored elements in Compressed Sparse Row format>"
            ]
          },
          "metadata": {},
          "execution_count": 445
        }
      ],
      "source": [
        "Holdout_Mat"
      ]
    },
    {
      "cell_type": "code",
      "execution_count": null,
      "metadata": {},
      "outputs": [],
      "source": [
        "eval_step(VAEmodel,Valid_DFRatMat) ##..."
      ]
    },
    {
      "cell_type": "code",
      "execution_count": 452,
      "metadata": {},
      "outputs": [],
      "source": [
        "# holdoutMAT_1   eval_step(VAEmodel,Valid_DFRatMat) ##..."
      ]
    },
    {
      "cell_type": "code",
      "execution_count": 472,
      "metadata": {},
      "outputs": [
        {
          "output_type": "stream",
          "name": "stdout",
          "text": [
            "(34705, 15993)\n"
          ]
        },
        {
          "output_type": "execute_result",
          "data": {
            "text/plain": [
              "array([[ 2.4424322 ,  0.31981206, -3.075183  , ..., -6.2124057 ,\n",
              "        -5.643233  , -8.394986  ],\n",
              "       [ 2.4424322 ,  0.31981206, -3.075183  , ..., -6.2124057 ,\n",
              "        -5.643233  , -8.394986  ],\n",
              "       [ 2.4424322 ,  0.31981206, -3.075183  , ..., -6.2124057 ,\n",
              "        -5.643233  , -8.394986  ],\n",
              "       ...,\n",
              "       [ 2.4424329 ,  0.3198122 , -3.0751822 , ..., -6.2124043 ,\n",
              "        -5.643234  , -8.394986  ],\n",
              "       [ 2.7001956 ,  0.4640211 , -4.7893987 , ..., -3.81392   ,\n",
              "        -3.5630395 , -6.860027  ],\n",
              "       [ 3.6731014 , -1.349139  , -0.26375774, ..., -5.8695393 ,\n",
              "        -5.6106277 , -8.747262  ]], dtype=float32)"
            ]
          },
          "metadata": {},
          "execution_count": 472
        }
      ],
      "source": [
        "all_Xout = get_evalMetrics(VAEmodel,Valid_DFRatMat)\n",
        "print(all_Xout.shape)\n",
        "all_Xout"
      ]
    },
    {
      "cell_type": "code",
      "execution_count": null,
      "metadata": {},
      "outputs": [],
      "source": [
        "heldout_users = Valid_DF['Updated_UserID']\n",
        "Holdout_Mat = Valid_DFRatMat[heldout_users,:] \n",
        "#holdoutMAT_1 \n",
        "Holdout_Mat"
      ]
    },
    {
      "cell_type": "code",
      "execution_count": 473,
      "metadata": {},
      "outputs": [
        {
          "output_type": "stream",
          "name": "stdout",
          "text": [
            "(1891, 15993)\n"
          ]
        },
        {
          "output_type": "execute_result",
          "data": {
            "text/plain": [
              "array([[ 1.533822  ,  3.2953055 , -4.3575788 , ..., -8.938703  ,\n",
              "        -8.5877    , -5.6790233 ],\n",
              "       [ 2.5483587 ,  2.123441  , -1.8649957 , ..., -5.696309  ,\n",
              "        -5.64353   , -7.2749705 ],\n",
              "       [ 2.046613  , -3.2168002 , -2.6525056 , ..., -5.400098  ,\n",
              "        -5.675798  , -9.792383  ],\n",
              "       ...,\n",
              "       [-1.0551393 , -0.573854  , -3.942324  , ..., -3.130574  ,\n",
              "        -2.2338066 , -6.0773206 ],\n",
              "       [ 2.7001956 ,  0.4640211 , -4.7893987 , ..., -3.81392   ,\n",
              "        -3.5630395 , -6.860027  ],\n",
              "       [ 3.6731014 , -1.349139  , -0.26375774, ..., -5.8695393 ,\n",
              "        -5.6106277 , -8.747262  ]], dtype=float32)"
            ]
          },
          "metadata": {},
          "execution_count": 473
        }
      ],
      "source": [
        "holdout_pred = all_Xout[heldout_users,:]\n",
        "print(holdout_pred.shape)\n",
        "holdout_pred"
      ]
    },
    {
      "cell_type": "code",
      "execution_count": 469,
      "metadata": {},
      "outputs": [],
      "source": [
        "# topN_pred = TopNPred(Holdout_Mat,holdout_pred, N=10)\n",
        "# topN_pred"
      ]
    },
    {
      "cell_type": "code",
      "execution_count": 474,
      "metadata": {},
      "outputs": [
        {
          "output_type": "stream",
          "name": "stdout",
          "text": [
            "Number of hits:  0\nTotal Num of users:  1891\nRecommendation HitRate:  0.0\n"
          ]
        },
        {
          "output_type": "error",
          "ename": "NameError",
          "evalue": "name 'holdout_df' is not defined",
          "traceback": [
            "\u001b[0;31m---------------------------------------------------------------------------\u001b[0m",
            "\u001b[0;31mNameError\u001b[0m                                 Traceback (most recent call last)",
            "\u001b[0;32m<ipython-input-474-919ce7012ed5>\u001b[0m in \u001b[0;36m<module>\u001b[0;34m\u001b[0m\n\u001b[1;32m      1\u001b[0m \u001b[0mHitrate_Eval\u001b[0m\u001b[0;34m(\u001b[0m\u001b[0mValid_DF\u001b[0m\u001b[0;34m,\u001b[0m\u001b[0mholdout_pred\u001b[0m\u001b[0;34m,\u001b[0m\u001b[0;34m'Updated_UserID'\u001b[0m\u001b[0;34m,\u001b[0m\u001b[0;34m'Updated_ItemID'\u001b[0m\u001b[0;34m)\u001b[0m\u001b[0;34m\u001b[0m\u001b[0;34m\u001b[0m\u001b[0m\n\u001b[0;32m----> 2\u001b[0;31m \u001b[0mhr_value\u001b[0m \u001b[0;34m=\u001b[0m \u001b[0mHitrate_Eval\u001b[0m\u001b[0;34m(\u001b[0m\u001b[0mholdout_df\u001b[0m\u001b[0;34m,\u001b[0m\u001b[0mholdout_pred\u001b[0m\u001b[0;34m,\u001b[0m\u001b[0;34m'Updated_UserID'\u001b[0m\u001b[0;34m,\u001b[0m\u001b[0;34m'Updated_ItemID'\u001b[0m\u001b[0;34m)\u001b[0m\u001b[0;34m\u001b[0m\u001b[0;34m\u001b[0m\u001b[0m\n\u001b[0m\u001b[1;32m      3\u001b[0m \u001b[0mmrr_value\u001b[0m \u001b[0;34m=\u001b[0m \u001b[0mMRR_Eval\u001b[0m\u001b[0;34m(\u001b[0m\u001b[0mholdout_df\u001b[0m\u001b[0;34m,\u001b[0m\u001b[0mholdout_pred\u001b[0m\u001b[0;34m,\u001b[0m\u001b[0;34m'Updated_ItemID'\u001b[0m\u001b[0;34m)\u001b[0m\u001b[0;34m\u001b[0m\u001b[0;34m\u001b[0m\u001b[0m\n",
            "\u001b[0;31mNameError\u001b[0m: name 'holdout_df' is not defined"
          ]
        }
      ],
      "source": [
        "Hitrate_Eval(Valid_DF,holdout_pred,'Updated_UserID','Updated_ItemID') \n",
        "hr_value = Hitrate_Eval(holdout_df,holdout_pred,'Updated_UserID','Updated_ItemID')   \n",
        "mrr_value = MRR_Eval(holdout_df,holdout_pred,'Updated_ItemID')     "
      ]
    },
    {
      "cell_type": "code",
      "execution_count": null,
      "metadata": {},
      "outputs": [],
      "source": []
    },
    {
      "cell_type": "code",
      "execution_count": 483,
      "metadata": {},
      "outputs": [
        {
          "output_type": "execute_result",
          "data": {
            "text/plain": [
              "(0.9239869823617919, 0.05140469672957787, 0.05001733431210451)"
            ]
          },
          "metadata": {},
          "execution_count": 483
        }
      ],
      "source": [
        "eval_step(VAEmodel,Valid_DFRatMat) ##..."
      ]
    },
    {
      "cell_type": "code",
      "execution_count": 459,
      "metadata": {},
      "outputs": [
        {
          "output_type": "execute_result",
          "data": {
            "text/plain": [
              "<34705x15993 sparse matrix of type '<class 'numpy.float64'>'\n",
              "\twith 1891 stored elements in Compressed Sparse Row format>"
            ]
          },
          "metadata": {},
          "execution_count": 459
        }
      ],
      "source": [
        "Valid_DFRatMat"
      ]
    },
    {
      "cell_type": "code",
      "execution_count": 404,
      "metadata": {},
      "outputs": [],
      "source": [
        "#get_eval(model,data_tr):\n",
        "hr, mrr = get_evalMetrics(VAEmodel,holdoutMAT_1)"
      ]
    },
    {
      "cell_type": "code",
      "execution_count": 408,
      "metadata": {},
      "outputs": [
        {
          "output_type": "execute_result",
          "data": {
            "text/plain": [
              "1950"
            ]
          },
          "metadata": {},
          "execution_count": 408
        }
      ],
      "source": [
        "len(hr[hr>0])"
      ]
    },
    {
      "cell_type": "code",
      "execution_count": 410,
      "metadata": {},
      "outputs": [
        {
          "output_type": "execute_result",
          "data": {
            "text/plain": [
              "1950"
            ]
          },
          "metadata": {},
          "execution_count": 410
        }
      ],
      "source": [
        "len(mrr[mrr>0])"
      ]
    },
    {
      "cell_type": "code",
      "execution_count": 375,
      "metadata": {},
      "outputs": [
        {
          "output_type": "execute_result",
          "data": {
            "text/plain": [
              "<2018x17318 sparse matrix of type '<class 'numpy.float64'>'\n",
              "\twith 2018 stored elements in Compressed Sparse Row format>"
            ]
          },
          "metadata": {},
          "execution_count": 375
        }
      ],
      "source": [
        "#Holdout_Mat  \n",
        "holdoutMAT_1\n",
        "heldout_users = valid_df['Updated_UserID']\n",
        "Holdout_Mat = holdoutMAT_1[heldout_users,:] \n",
        "Holdout_Mat "
      ]
    },
    {
      "cell_type": "code",
      "execution_count": 376,
      "metadata": {},
      "outputs": [
        {
          "output_type": "execute_result",
          "data": {
            "text/plain": [
              "(0.8637661389786107, 0.8810703666997026, 0.8580379756792046)"
            ]
          },
          "metadata": {},
          "execution_count": 376
        }
      ],
      "source": [
        " eval_step(VAEmodel,Holdout_Mat)"
      ]
    },
    {
      "cell_type": "code",
      "execution_count": 361,
      "metadata": {},
      "outputs": [
        {
          "output_type": "execute_result",
          "data": {
            "text/plain": [
              "(0.9265440233787886, 0.9402432575356954, 0.9156640057750582)"
            ]
          },
          "metadata": {},
          "execution_count": 361
        }
      ],
      "source": [
        "#get_eval(model,data_tr):\n",
        "get_eval(VAEmodel,Holdout_Mat)"
      ]
    },
    {
      "cell_type": "code",
      "execution_count": 57,
      "metadata": {},
      "outputs": [
        {
          "output_type": "stream",
          "name": "stderr",
          "text": [
            "0it [00:00, ?it/s]Number of hits:  1939\n",
            "Total Num of users:  2018\n",
            "Recommendation HitRate:  0.9608523290386521\n",
            "1it [02:39, 159.61s/it]| HitRate  0.961 | Mrr 0.948 | \n",
            "Number of hits:  2085\n",
            "Total Num of users:  2200\n",
            "Recommendation HitRate:  0.9477272727272728\n",
            "2it [05:18, 159.38s/it]| HitRate  0.948 | Mrr 0.931 | \n",
            "Number of hits:  2105\n",
            "Total Num of users:  2172\n",
            "Recommendation HitRate:  0.9691528545119705\n",
            "3it [07:59, 159.75s/it]| HitRate  0.969 | Mrr 0.949 | \n",
            "Number of hits:  1942\n",
            "Total Num of users:  2079\n",
            "Recommendation HitRate:  0.9341029341029341\n",
            "4it [10:41, 160.71s/it]| HitRate  0.934 | Mrr 0.918 | \n",
            "Number of hits:  2006\n",
            "Total Num of users:  2089\n",
            "Recommendation HitRate:  0.9602680708472954\n",
            "5it [13:21, 160.46s/it]| HitRate  0.960 | Mrr 0.936 | \n",
            "Number of hits:  2031\n",
            "Total Num of users:  2120\n",
            "Recommendation HitRate:  0.9580188679245283\n",
            "6it [16:02, 160.60s/it]| HitRate  0.958 | Mrr 0.933 | \n",
            "Number of hits:  2124\n",
            "Total Num of users:  2217\n",
            "Recommendation HitRate:  0.9580514208389715\n",
            "7it [18:43, 160.89s/it]| HitRate  0.958 | Mrr 0.925 | \n",
            "Number of hits:  2107\n",
            "Total Num of users:  2207\n",
            "Recommendation HitRate:  0.9546896239238786\n",
            "8it [21:24, 160.94s/it]| HitRate  0.955 | Mrr 0.932 | \n",
            "Number of hits:  2083\n",
            "Total Num of users:  2133\n",
            "Recommendation HitRate:  0.976558837318331\n",
            "9it [24:05, 160.87s/it]| HitRate  0.977 | Mrr 0.952 | \n",
            "Number of hits:  2110\n",
            "Total Num of users:  2171\n",
            "Recommendation HitRate:  0.9719023491478581\n",
            "10it [26:46, 160.97s/it]| HitRate  0.972 | Mrr 0.938 | \n",
            "Number of hits:  2174\n",
            "Total Num of users:  2261\n",
            "Recommendation HitRate:  0.9615214506855374\n",
            "11it [29:27, 161.07s/it]| HitRate  0.962 | Mrr 0.945 | \n",
            "Number of hits:  2222\n",
            "Total Num of users:  2246\n",
            "Recommendation HitRate:  0.9893143365983972\n",
            "12it [32:09, 161.11s/it]| HitRate  0.989 | Mrr 0.965 | \n",
            "Number of hits:  2163\n",
            "Total Num of users:  2196\n",
            "Recommendation HitRate:  0.9849726775956285\n",
            "13it [34:49, 161.01s/it]| HitRate  0.985 | Mrr 0.957 | \n",
            "Number of hits:  2239\n",
            "Total Num of users:  2269\n",
            "Recommendation HitRate:  0.9867783164389599\n",
            "14it [37:31, 161.10s/it]| HitRate  0.987 | Mrr 0.967 | \n",
            "Number of hits:  2150\n",
            "Total Num of users:  2222\n",
            "Recommendation HitRate:  0.9675967596759676\n",
            "15it [40:11, 160.78s/it]| HitRate  0.968 | Mrr 0.949 | \n",
            "\n"
          ]
        }
      ],
      "source": [
        "                                      #Allsteps_predEval(model_,UserItemMatList,holdout_MatList,newHoldoutList, pred_BS,n_epoch,k=10)\n",
        "hr10_List,mrr10_List ,ALLUsersPred_ = Allsteps_predEval(VAEmodel,UserItem_MATList,HOLDOUT_MATList,newHOLDOUT_LIST,pred_BS=500,n_epoch=50,k=10)"
      ]
    },
    {
      "cell_type": "code",
      "execution_count": 58,
      "metadata": {},
      "outputs": [
        {
          "output_type": "execute_result",
          "data": {
            "text/plain": [
              "[0.9608523290386521,\n",
              " 0.9477272727272728,\n",
              " 0.9691528545119705,\n",
              " 0.9341029341029341,\n",
              " 0.9602680708472954,\n",
              " 0.9580188679245283,\n",
              " 0.9580514208389715,\n",
              " 0.9546896239238786,\n",
              " 0.976558837318331,\n",
              " 0.9719023491478581,\n",
              " 0.9615214506855374,\n",
              " 0.9893143365983972,\n",
              " 0.9849726775956285,\n",
              " 0.9867783164389599,\n",
              " 0.9675967596759676]"
            ]
          },
          "metadata": {},
          "execution_count": 58
        }
      ],
      "source": [
        "hr10_List"
      ]
    },
    {
      "cell_type": "code",
      "execution_count": 59,
      "metadata": {},
      "outputs": [
        {
          "output_type": "execute_result",
          "data": {
            "text/plain": [
              "[0.947739589724228,\n",
              " 0.9307260101010101,\n",
              " 0.9490656698529627,\n",
              " 0.9181421165548149,\n",
              " 0.9362085603349367,\n",
              " 0.9329692647499253,\n",
              " 0.925334357167916,\n",
              " 0.9316564898123575,\n",
              " 0.9517180883917875,\n",
              " 0.9375664422071609,\n",
              " 0.9454504608861087,\n",
              " 0.9653466833453476,\n",
              " 0.9574939644953306,\n",
              " 0.966598459568931,\n",
              " 0.948531103110311]"
            ]
          },
          "metadata": {},
          "execution_count": 59
        }
      ],
      "source": [
        "mrr10_List"
      ]
    },
    {
      "cell_type": "code",
      "execution_count": 60,
      "metadata": {},
      "outputs": [
        {
          "output_type": "execute_result",
          "data": {
            "text/plain": [
              "[array([[ 1531,   144,    39, ...,   710,   825,   204],\n",
              "        [ 9647, 13779,     7, ..., 12348,  2687,     1],\n",
              "        [    3,     2,  4788, ...,    19,   124,  2127],\n",
              "        ...,\n",
              "        [12918, 10874, 13171, ...,  9913, 13491,  7304],\n",
              "        [12918, 10874, 13171, ...,  9913, 13491,  7304],\n",
              "        [12918, 10874, 13171, ...,  9913, 13491,  7304]]),\n",
              " array([[   39,  1531,   958, ...,  1991,   235,   243],\n",
              "        [    7,     1, 13779, ..., 11230,  3367,  2664],\n",
              "        [  564,   384,   390, ...,   284,    19,  4788],\n",
              "        ...,\n",
              "        [12918, 10874, 12043, ..., 13491,  9913, 13384],\n",
              "        [12918, 10874, 12043, ..., 13491,  9913, 13384],\n",
              "        [12918, 10874, 12043, ..., 13491,  9913, 13384]])]"
            ]
          },
          "metadata": {},
          "execution_count": 60
        }
      ],
      "source": [
        "ALLUsersPred_[:2]"
      ]
    },
    {
      "cell_type": "code",
      "execution_count": 65,
      "metadata": {},
      "outputs": [],
      "source": [
        "with open('/mnt/bulky/oolaleke/TDM_Dataset/AMZ_GamesFiles/AMZB_VAE_allPRED_NEW.pkl', 'wb') as f:   #/mnt/bulky/oolaleke/TDM_Dataset/AMZ_GamesFiles\n",
        "     pickle.dump(ALLUsersPred_, f)  "
      ]
    },
    {
      "cell_type": "code",
      "execution_count": 61,
      "metadata": {},
      "outputs": [
        {
          "output_type": "execute_result",
          "data": {
            "text/plain": [
              "[0.924241,\n",
              " 0.932498,\n",
              " 0.940582,\n",
              " 0.946818,\n",
              " 0.954036,\n",
              " 0.961832,\n",
              " 0.969396,\n",
              " 0.97621,\n",
              " 0.97979,\n",
              " 0.983023,\n",
              " 0.983947,\n",
              " 0.987758,\n",
              " 0.98822,\n",
              " 0.991108,\n",
              " 0.993764]"
            ]
          },
          "metadata": {},
          "execution_count": 61
        }
      ],
      "source": [
        "VAE_CovList = AllSteps_Coverage_Ratio(newAMZGames_DF,ALLUsersPred_,'Updated_ItemID')\n",
        "VAE_CovList "
      ]
    },
    {
      "cell_type": "code",
      "execution_count": 62,
      "metadata": {},
      "outputs": [
        {
          "output_type": "stream",
          "name": "stdout",
          "text": [
            "14\n"
          ]
        },
        {
          "output_type": "execute_result",
          "data": {
            "text/plain": [
              "[1, 2, 3, 4, 5, 6, 7, 8, 9, 10, 11, 12, 13, 14]"
            ]
          },
          "metadata": {},
          "execution_count": 62
        }
      ],
      "source": [
        "AllSteps = list(range(1,15))\n",
        "print(len(AllSteps))   #Hello2021\n",
        "AllSteps "
      ]
    },
    {
      "cell_type": "code",
      "execution_count": 63,
      "metadata": {},
      "outputs": [
        {
          "output_type": "execute_result",
          "data": {
            "text/plain": [
              "array([array([0.35232686, 0.27390404, 0.28275982, ..., 0.07657526, 0.        ,\n",
              "              0.02180383])                                                    ,\n",
              "       array([0.48049343, 0.59883028, 0.35667678, ..., 0.        , 0.03534858,\n",
              "              0.        ])                                                    ,\n",
              "       array([0.75759019, 0.69056344, 0.34628363, ..., 0.        , 0.        ,\n",
              "              0.        ])                                                    ,\n",
              "       array([0.34973027, 0.56925694, 0.33604851, ..., 0.07165154, 0.04457968,\n",
              "              0.10213528])                                                    ,\n",
              "       array([0.79870842, 0.65995727, 0.35319461, ..., 0.04325088, 0.        ,\n",
              "              0.05873915])                                                    ,\n",
              "       array([0.85662181, 0.48780488, 0.38884185, ..., 0.03534858, 0.06033616,\n",
              "              0.        ])                                                    ,\n",
              "       array([0.59176192, 0.4357129 , 0.36193376, ..., 0.16585058, 0.31194454,\n",
              "              0.20683453])                                                    ,\n",
              "       array([0.36281388, 0.51296505, 0.44640408, ..., 0.07988296, 0.28521679,\n",
              "              0.22262713])                                                    ,\n",
              "       array([0.47075819, 0.50971569, 0.40550319, ..., 0.04457968, 0.09412985,\n",
              "              0.04457968])                                                    ,\n",
              "       array([0.69405554, 0.45352501, 0.51451729, ..., 0.        , 0.25837525,\n",
              "              0.40323194])                                                    ,\n",
              "       array([0.48212851, 0.51064265, 0.4308423 , ..., 0.33689549, 0.        ,\n",
              "              0.        ])                                                    ,\n",
              "       array([0.46856347, 0.64497437, 0.31147832, ..., 0.02499653, 0.        ,\n",
              "              0.        ])                                                    ,\n",
              "       array([0.75383153, 0.69600184, 0.57511737, ..., 0.03534858, 0.81351351,\n",
              "              0.        ])                                                    ,\n",
              "       array([0.51560575, 0.52657704, 0.44258771, ..., 0.        , 0.04457968,\n",
              "              0.06033616])                                                    ],\n",
              "      dtype=object)"
            ]
          },
          "metadata": {},
          "execution_count": 63
        }
      ],
      "source": [
        "VAECorr_ = Updt_getAll_AvgCorr(ALLUsersPred_,newUserItem_list,AllSteps,'Updated_UserID')  #,\n",
        "VAECorr_"
      ]
    },
    {
      "cell_type": "code",
      "execution_count": 64,
      "metadata": {},
      "outputs": [
        {
          "output_type": "stream",
          "name": "stdout",
          "text": [
            "(14,)\n0.5111650831111791\n0.5247335389890364\n0.5306557581310182\n0.5339006599565076\n0.5341660126327813\n0.5390096999887687\n0.5409274330342736\n0.5420277971886575\n0.543709788106349\n0.546247757070087\n0.5476100738669618\n0.5490711755628648\n0.5509607153132491\n0.549736140618877\n"
          ]
        }
      ],
      "source": [
        "print(VAECorr_.shape)\n",
        "for df in VAECorr_:\n",
        "    print(df.mean())    \n"
      ]
    },
    {
      "cell_type": "code",
      "execution_count": null,
      "metadata": {},
      "outputs": [],
      "source": []
    },
    {
      "cell_type": "code",
      "metadata": {
        "id": "Qxj9EM848NIA",
        "outputId": "405f762b-7309-44fb-d95d-516b98b706d7"
      },
      "source": [
        "raw_data = newAMZGames_DF\n",
        "user_activity =   raw_data['Updated_UserID'].unique()\n",
        "item_popularity = raw_data['Updated_ItemID'].unique()\n",
        "print(user_activity.shape)\n",
        "print(item_popularity.shape)\n",
        "print()\n",
        "sparsity = 1. * raw_data.shape[0] / (user_activity.shape[0] * item_popularity.shape[0])\n",
        "\n",
        "print(\"After filtering, there are %d watching events from %d users and %d movies (sparsity: %.3f%%)\" % \n",
        "      (raw_data.shape[0], user_activity.shape[0], item_popularity.shape[0], sparsity * 100))"
      ],
      "execution_count": 23,
      "outputs": [
        {
          "output_type": "stream",
          "name": "stdout",
          "text": [
            "(39284,)\n(17318,)\n\nAfter filtering, there are 345203 watching events from 39284 users and 17318 movies (sparsity: 0.051%)\n"
          ]
        }
      ]
    },
    {
      "cell_type": "code",
      "metadata": {
        "id": "TVbNoHwR8NIB",
        "outputId": "82c038e8-c832-4a5d-dc0b-7f1c09a98390"
      },
      "source": [
        "unique_uid = user_activity\n",
        "train_users, valid_users, test_users = split_users(raw_data,'Updated_UserID',n_heldout_users=4500)\n",
        "print(train_users.shape)\n",
        "train_users"
      ],
      "execution_count": 24,
      "outputs": [
        {
          "output_type": "stream",
          "name": "stdout",
          "text": [
            "(30284,)\n"
          ]
        },
        {
          "output_type": "execute_result",
          "data": {
            "text/plain": [
              "array([ 6368, 13248, 33899, ..., 31398, 37671, 30265])"
            ]
          },
          "metadata": {},
          "execution_count": 24
        }
      ]
    },
    {
      "cell_type": "code",
      "metadata": {
        "id": "okI9dplV8NID",
        "outputId": "a826a61d-95fa-4607-baa4-3eb42f1cf12d"
      },
      "source": [
        "print(valid_users.shape)\n",
        "valid_users"
      ],
      "execution_count": 25,
      "outputs": [
        {
          "output_type": "stream",
          "name": "stdout",
          "text": [
            "(4500,)\n"
          ]
        },
        {
          "output_type": "execute_result",
          "data": {
            "text/plain": [
              "array([ 6158, 32649,   839, ..., 11774, 33060, 31937])"
            ]
          },
          "metadata": {},
          "execution_count": 25
        }
      ]
    },
    {
      "cell_type": "code",
      "metadata": {
        "id": "Vi7CVPLv8NIE",
        "outputId": "057693f0-d520-44a6-9b86-2eb69b6d2815"
      },
      "source": [
        "print(test_users.shape)\n",
        "test_users"
      ],
      "execution_count": 26,
      "outputs": [
        {
          "output_type": "stream",
          "name": "stdout",
          "text": [
            "(4500,)\n"
          ]
        },
        {
          "output_type": "execute_result",
          "data": {
            "text/plain": [
              "array([ 5973, 13936,  2027, ..., 30685,  3571,  3861])"
            ]
          },
          "metadata": {},
          "execution_count": 26
        }
      ]
    },
    {
      "cell_type": "code",
      "metadata": {
        "id": "5eDTvBPd8NIF",
        "outputId": "7c9e9e95-c785-4831-e6c2-214f9aa0367c"
      },
      "source": [
        "##train data observation...\n",
        "train_df = raw_data.loc[raw_data['Updated_UserID'].isin(train_users)]\n",
        "print(train_df['Updated_UserID'].nunique())\n",
        "train_df.sample(10)"
      ],
      "execution_count": 27,
      "outputs": [
        {
          "output_type": "stream",
          "name": "stdout",
          "text": [
            "30284\n"
          ]
        },
        {
          "output_type": "execute_result",
          "data": {
            "text/plain": [
              "                userid   ProductID  rating   timestamp timestamp_YM  userId  \\\n",
              "277408   ASOQSWS26QCNR  B00Z0UWWYC       1  2016-05-14      2016-05   31543   \n",
              "275532  A1S4O3J4ZGG8HR  B0050SXI6K       1  2016-05-03      2016-05   35273   \n",
              "229315  A27B25H1OX2ELP  B0026EV5LG       1  2015-08-10      2015-08   16982   \n",
              "145648  A19RYPCX74Y9M7  B000MTK2KM       1  2014-04-30      2014-04   11409   \n",
              "296171  A3RME9AB6HIEHF  B00JKM06HG       1  2016-09-30      2016-09   35026   \n",
              "117950   A6J3CGTPTWAUX  B00B1N07QM       1  2013-07-19      2013-07   12443   \n",
              "93406   A1ZPVW0WXNJ3YZ  B0050SWTAQ       1  2012-10-30      2012-10    2776   \n",
              "112808  A1FOACA8KHBA9W  B00006IJMS       1  2013-05-09      2013-05   14692   \n",
              "264244  A2KMV8SENEG6IK  B00PRDEZN8       1  2016-02-24      2016-02   34407   \n",
              "245037  A2BTXF5S2LD0IR  B00KTNSKZU       1  2015-11-13      2015-11   32780   \n",
              "\n",
              "        productId  Updated_UserID  Updated_ItemID  \n",
              "277408      14997           31543           14997  \n",
              "275532      10151           35749           10151  \n",
              "229315       7309           16982            7309  \n",
              "145648       5288           11409            5288  \n",
              "296171      15145           35361           15145  \n",
              "117950      11544           12443           11544  \n",
              "93406       10329            2776           10329  \n",
              "112808       1705           14692            1705  \n",
              "264244      14361           34361           14361  \n",
              "245037      13623           32780           13623  "
            ],
            "text/html": "<div>\n<style scoped>\n    .dataframe tbody tr th:only-of-type {\n        vertical-align: middle;\n    }\n\n    .dataframe tbody tr th {\n        vertical-align: top;\n    }\n\n    .dataframe thead th {\n        text-align: right;\n    }\n</style>\n<table border=\"1\" class=\"dataframe\">\n  <thead>\n    <tr style=\"text-align: right;\">\n      <th></th>\n      <th>userid</th>\n      <th>ProductID</th>\n      <th>rating</th>\n      <th>timestamp</th>\n      <th>timestamp_YM</th>\n      <th>userId</th>\n      <th>productId</th>\n      <th>Updated_UserID</th>\n      <th>Updated_ItemID</th>\n    </tr>\n  </thead>\n  <tbody>\n    <tr>\n      <th>277408</th>\n      <td>ASOQSWS26QCNR</td>\n      <td>B00Z0UWWYC</td>\n      <td>1</td>\n      <td>2016-05-14</td>\n      <td>2016-05</td>\n      <td>31543</td>\n      <td>14997</td>\n      <td>31543</td>\n      <td>14997</td>\n    </tr>\n    <tr>\n      <th>275532</th>\n      <td>A1S4O3J4ZGG8HR</td>\n      <td>B0050SXI6K</td>\n      <td>1</td>\n      <td>2016-05-03</td>\n      <td>2016-05</td>\n      <td>35273</td>\n      <td>10151</td>\n      <td>35749</td>\n      <td>10151</td>\n    </tr>\n    <tr>\n      <th>229315</th>\n      <td>A27B25H1OX2ELP</td>\n      <td>B0026EV5LG</td>\n      <td>1</td>\n      <td>2015-08-10</td>\n      <td>2015-08</td>\n      <td>16982</td>\n      <td>7309</td>\n      <td>16982</td>\n      <td>7309</td>\n    </tr>\n    <tr>\n      <th>145648</th>\n      <td>A19RYPCX74Y9M7</td>\n      <td>B000MTK2KM</td>\n      <td>1</td>\n      <td>2014-04-30</td>\n      <td>2014-04</td>\n      <td>11409</td>\n      <td>5288</td>\n      <td>11409</td>\n      <td>5288</td>\n    </tr>\n    <tr>\n      <th>296171</th>\n      <td>A3RME9AB6HIEHF</td>\n      <td>B00JKM06HG</td>\n      <td>1</td>\n      <td>2016-09-30</td>\n      <td>2016-09</td>\n      <td>35026</td>\n      <td>15145</td>\n      <td>35361</td>\n      <td>15145</td>\n    </tr>\n    <tr>\n      <th>117950</th>\n      <td>A6J3CGTPTWAUX</td>\n      <td>B00B1N07QM</td>\n      <td>1</td>\n      <td>2013-07-19</td>\n      <td>2013-07</td>\n      <td>12443</td>\n      <td>11544</td>\n      <td>12443</td>\n      <td>11544</td>\n    </tr>\n    <tr>\n      <th>93406</th>\n      <td>A1ZPVW0WXNJ3YZ</td>\n      <td>B0050SWTAQ</td>\n      <td>1</td>\n      <td>2012-10-30</td>\n      <td>2012-10</td>\n      <td>2776</td>\n      <td>10329</td>\n      <td>2776</td>\n      <td>10329</td>\n    </tr>\n    <tr>\n      <th>112808</th>\n      <td>A1FOACA8KHBA9W</td>\n      <td>B00006IJMS</td>\n      <td>1</td>\n      <td>2013-05-09</td>\n      <td>2013-05</td>\n      <td>14692</td>\n      <td>1705</td>\n      <td>14692</td>\n      <td>1705</td>\n    </tr>\n    <tr>\n      <th>264244</th>\n      <td>A2KMV8SENEG6IK</td>\n      <td>B00PRDEZN8</td>\n      <td>1</td>\n      <td>2016-02-24</td>\n      <td>2016-02</td>\n      <td>34407</td>\n      <td>14361</td>\n      <td>34361</td>\n      <td>14361</td>\n    </tr>\n    <tr>\n      <th>245037</th>\n      <td>A2BTXF5S2LD0IR</td>\n      <td>B00KTNSKZU</td>\n      <td>1</td>\n      <td>2015-11-13</td>\n      <td>2015-11</td>\n      <td>32780</td>\n      <td>13623</td>\n      <td>32780</td>\n      <td>13623</td>\n    </tr>\n  </tbody>\n</table>\n</div>"
          },
          "metadata": {},
          "execution_count": 27
        }
      ]
    },
    {
      "cell_type": "code",
      "metadata": {
        "id": "v4pFsuyA8NIH",
        "outputId": "f8c1b158-b8b2-4dbe-8654-00bb7ff76c37"
      },
      "source": [
        "### items used in the training data...\n",
        "train_Items = pd.unique(train_df['Updated_ItemID'])  #unique_sid == train_Items\n",
        "print(len(train_Items))\n",
        "train_Items"
      ],
      "execution_count": 29,
      "outputs": [
        {
          "output_type": "stream",
          "name": "stdout",
          "text": [
            "17148\n"
          ]
        },
        {
          "output_type": "execute_result",
          "data": {
            "text/plain": [
              "array([    0,     2,     3, ..., 17302, 16754, 17303])"
            ]
          },
          "metadata": {},
          "execution_count": 29
        }
      ]
    },
    {
      "cell_type": "code",
      "metadata": {
        "id": "u2woxjzG8NII",
        "outputId": "84ec2f62-7674-4fe1-e76e-8b13e96a407f"
      },
      "source": [
        "# Save index dictionaries to \"numerise\" later one\n",
        "unique_uid = user_activity\n",
        "item2id = dict((sid, i) for (i, sid) in enumerate(train_Items))\n",
        "user2id = dict((pid, i) for (i, pid) in enumerate(unique_uid))\n",
        "print(len(item2id))\n",
        "print(len(user2id))"
      ],
      "execution_count": 30,
      "outputs": [
        {
          "output_type": "stream",
          "name": "stdout",
          "text": [
            "17148\n39284\n"
          ]
        }
      ]
    },
    {
      "cell_type": "code",
      "metadata": {
        "id": "ewiw5VTo8NIJ",
        "outputId": "3e6fb1f7-6668-4441-ec69-db6f609d7e1c"
      },
      "source": [
        "          #for validation and test they consider \"only\" items that have been seen during training\n",
        "valid_df = raw_data[raw_data[\"Updated_UserID\"].isin(valid_users)& raw_data[\"Updated_ItemID\"].isin(train_Items)]  #vd_obsrv \n",
        "test_df = raw_data[raw_data[\"Updated_UserID\"].isin(test_users) & raw_data[\"Updated_ItemID\"].isin(train_Items)]  #te_obsr\n",
        "print(\"Validation Set\")\n",
        "print(valid_df['Updated_UserID'].nunique())\n",
        "print(valid_df.shape)\n",
        "print()\n",
        "print(\"Test Set\")\n",
        "print(test_df['Updated_UserID'].nunique())\n",
        "print(test_df.shape)\n"
      ],
      "execution_count": 31,
      "outputs": [
        {
          "output_type": "stream",
          "name": "stdout",
          "text": [
            "Validation Set\n4500\n(40082, 9)\n\nTest Set\n4500\n(39031, 9)\n"
          ]
        }
      ]
    },
    {
      "cell_type": "code",
      "metadata": {
        "id": "got_WQUb8NIK",
        "outputId": "62acdbeb-b9ec-4c71-8585-5a399ef79c11"
      },
      "source": [
        "valid_trn, valid_tst = split_train_test(valid_df, test_prop=0.2)\n",
        "print(valid_trn.shape, valid_tst.shape) "
      ],
      "execution_count": 32,
      "outputs": [
        {
          "output_type": "stream",
          "name": "stdout",
          "text": [
            "0 users sampled\n",
            "250 users sampled\n",
            "500 users sampled\n",
            "750 users sampled\n",
            "1000 users sampled\n",
            "1250 users sampled\n",
            "1500 users sampled\n",
            "1750 users sampled\n",
            "2000 users sampled\n",
            "2250 users sampled\n",
            "2500 users sampled\n",
            "2750 users sampled\n",
            "3000 users sampled\n",
            "3250 users sampled\n",
            "3500 users sampled\n",
            "3750 users sampled\n",
            "4000 users sampled\n",
            "4250 users sampled\n",
            "(33206, 9) (6876, 9)\n"
          ]
        }
      ]
    },
    {
      "cell_type": "code",
      "metadata": {
        "id": "dOYqgXnD8NIL",
        "outputId": "f54a7286-d575-4cca-e3f7-60c34c588853"
      },
      "source": [
        "test_train, test_tst = split_train_test(test_df, test_prop=0.2)\n",
        "print(test_train.shape, test_tst.shape)   ##"
      ],
      "execution_count": 33,
      "outputs": [
        {
          "output_type": "stream",
          "name": "stdout",
          "text": [
            "0 users sampled\n",
            "250 users sampled\n",
            "500 users sampled\n",
            "750 users sampled\n",
            "1000 users sampled\n",
            "1250 users sampled\n",
            "1500 users sampled\n",
            "1750 users sampled\n",
            "2000 users sampled\n",
            "2250 users sampled\n",
            "2500 users sampled\n",
            "2750 users sampled\n",
            "3000 users sampled\n",
            "3250 users sampled\n",
            "3500 users sampled\n",
            "3750 users sampled\n",
            "4000 users sampled\n",
            "4250 users sampled\n",
            "(32413, 9) (6618, 9)\n"
          ]
        }
      ]
    },
    {
      "cell_type": "code",
      "metadata": {
        "id": "mzOW6uIb8NIL",
        "outputId": "c87d31a4-cadd-4596-f4da-e1e76cd0a3b1"
      },
      "source": [
        "Train_DF   =    numerize_data(train_df,user2id,item2id, 'Updated_UserID','Updated_ItemID')\n",
        "ValidTrain_DF = numerize_data(valid_trn,user2id,item2id,'Updated_UserID','Updated_ItemID')\n",
        "ValidTest_DF = numerize_data(valid_tst,user2id,item2id, 'Updated_UserID','Updated_ItemID')\n",
        "TestTrain_DF = numerize_data(test_train,user2id,item2id, 'Updated_UserID','Updated_ItemID')\n",
        "TestTest_DF =  numerize_data(test_tst,user2id,item2id, 'Updated_UserID','Updated_ItemID')\n",
        "\n",
        "print(\"Training Data: \",Train_DF.shape)\n",
        "print()\n",
        "print(\"Validaion DF: \", ValidTrain_DF.shape,ValidTest_DF.shape)\n",
        "print(\"Test DF:      \", TestTrain_DF.shape,TestTest_DF.shape)"
      ],
      "execution_count": 35,
      "outputs": [
        {
          "output_type": "stream",
          "name": "stdout",
          "text": [
            "Training Data:  (265769, 2)\n\nValidaion DF:  (33206, 2) (6876, 2)\nTest DF:       (32413, 2) (6618, 2)\n"
          ]
        }
      ]
    },
    {
      "cell_type": "code",
      "metadata": {
        "id": "biktQjiJ8NIM",
        "outputId": "c58c2f14-47a8-46e0-cc04-ca196fffa4f9"
      },
      "source": [
        "n_items = len(train_Items)                            #train_Items = unique_sid\n",
        "TrainDF_RatMat = get_TrainRatMat(Train_DF,'Updated_UserID','Updated_ItemID',n_items)\n",
        "ValidTrain_RatMat, ValidTest_RatMat = getTrainTest_RatMat(ValidTrain_DF, ValidTest_DF,'Updated_UserID','Updated_ItemID',n_items)\n",
        "TestTrain_RatMat, TestTest_RatMat = getTrainTest_RatMat(TestTrain_DF, TestTest_DF,'Updated_UserID','Updated_ItemID',n_items)\n",
        "\n",
        "TrainDF_RatMat"
      ],
      "execution_count": 36,
      "outputs": [
        {
          "output_type": "execute_result",
          "data": {
            "text/plain": [
              "<39284x17148 sparse matrix of type '<class 'numpy.float64'>'\n",
              "\twith 253101 stored elements in Compressed Sparse Row format>"
            ]
          },
          "metadata": {},
          "execution_count": 36
        }
      ]
    },
    {
      "cell_type": "code",
      "metadata": {
        "id": "W0cj6wFz8NIN",
        "outputId": "b6758cad-44b1-424a-d670-583660789930"
      },
      "source": [
        "ValidTrain_RatMat"
      ],
      "execution_count": 209,
      "outputs": [
        {
          "output_type": "execute_result",
          "data": {
            "text/plain": [
              "<39264x17148 sparse matrix of type '<class 'numpy.float64'>'\n",
              "\twith 31962 stored elements in Compressed Sparse Row format>"
            ]
          },
          "metadata": {},
          "execution_count": 209
        }
      ]
    },
    {
      "cell_type": "code",
      "metadata": {
        "id": "qvKCxz2Z8NIO",
        "outputId": "695e67db-555c-4e34-85f0-87cd0ca2f456"
      },
      "source": [
        "ValidTest_RatMat"
      ],
      "execution_count": 210,
      "outputs": [
        {
          "output_type": "execute_result",
          "data": {
            "text/plain": [
              "<39264x17148 sparse matrix of type '<class 'numpy.float64'>'\n",
              "\twith 6859 stored elements in Compressed Sparse Row format>"
            ]
          },
          "metadata": {},
          "execution_count": 210
        }
      ]
    },
    {
      "cell_type": "code",
      "metadata": {
        "id": "9DN6CdF48NIO",
        "outputId": "44db7d7c-8f15-4566-b48b-ecee6e36a3a1"
      },
      "source": [
        "TestTrain_RatMat"
      ],
      "execution_count": 211,
      "outputs": [
        {
          "output_type": "execute_result",
          "data": {
            "text/plain": [
              "<39281x17148 sparse matrix of type '<class 'numpy.float64'>'\n",
              "\twith 31263 stored elements in Compressed Sparse Row format>"
            ]
          },
          "metadata": {},
          "execution_count": 211
        }
      ]
    },
    {
      "cell_type": "code",
      "metadata": {
        "id": "u5iOrwE38NIP",
        "outputId": "5ab183d7-96ad-466f-a598-d1e902ede57b"
      },
      "source": [
        "TestTest_RatMat"
      ],
      "execution_count": 212,
      "outputs": [
        {
          "output_type": "execute_result",
          "data": {
            "text/plain": [
              "<39281x17148 sparse matrix of type '<class 'numpy.float64'>'\n",
              "\twith 6598 stored elements in Compressed Sparse Row format>"
            ]
          },
          "metadata": {},
          "execution_count": 212
        }
      ]
    },
    {
      "cell_type": "code",
      "metadata": {
        "id": "YrA6PoZb8NIQ"
      },
      "source": [
        "def tuning_2(model,train_set,validtrain_set,validtest_set,als_param_grid,n_epochs,model_name,save_results= True):\n",
        "    \n",
        "    for i in trange(len(als_param_grid)): \n",
        "        batch_size, lr_, weightdecay_ = list(als_param_grid)[i]\n",
        "        total_anneal_steps = getTot_annealSTeps(train_set,batch_size,n_epochs,anneal_cap)\n",
        "        Optimizer_ = torch.optim.AdamW(model.parameters(), lr=lr_, weight_decay=weightdecay_)\n",
        "        print('batch_size = {} ,learning_rate = {}, weight_decay = {} '.format(batch_size,lr_,weightdecay_))\n",
        "        model_2 = model\n",
        "        best_score = 0     ##based on MetricEval..\n",
        "        stop = False\n",
        "        stop_step = 0\n",
        "        for epoch in trange(n_epochs):            \n",
        "            train_step_2(model_2, Optimizer_, train_set,total_anneal_steps,epoch)\n",
        "            val_loss, NDCG100_ = eval_step_2(model_2,validtrain_set,validtest_set)\n",
        "            curr_score = NDCG100_\n",
        "            best_score,stop_step,stop = early_stop(curr_score,best_score,stop_step,\n",
        "                                           patience=20,score_fn='metric')\n",
        "            if stop:\n",
        "                break\n",
        "            if (stop_step == 0) & (save_results):\n",
        "               best_epoch = epoch\n",
        "               best_BS  = batch_size\n",
        "               best_lr_ = lr_\n",
        "               best_weightdecay_ = weightdecay_\n",
        "               best_NGCG100 = NDCG100_\n",
        "               torch.save(model_2.state_dict(),model_name+\".pth\")\n",
        "               #print('NDCG100_ = {}, epoch = {}, best_score = {} '.format(best_NGCG100,best_epoch,best_score))\n",
        "               \n",
        "        print('NDCG100_ = {} '.format(best_NGCG100))\n",
        "\n",
        "    print('\\n Best parameters; batch_size= {}, learning_rate = {}, weight_decay = {}, NDCG100_ = {}, best_epoch = {}'.format(best_BS, best_lr_,best_weightdecay_,best_NGCG100,best_epoch))\n",
        "    return best_BS, best_lr_, best_weightdecay_,best_NGCG100, best_epoch  "
      ],
      "execution_count": null,
      "outputs": []
    },
    {
      "cell_type": "code",
      "metadata": {
        "id": "Zm9atxyq8NIQ"
      },
      "source": [
        "from tqdm import trange\n",
        "      \n",
        "def Tuning(model,train_set,validtrain_set,validtest_set,als_param_grid,n_epochs,model_name,save_results= False):\n",
        "    best_score = 0     ##based on MetricEval..\n",
        "    stop_step = 0      \n",
        "    for i in trange(len(als_param_grid)): \n",
        "        batch_size, lr_, weightdecay_ = list(als_param_grid)[i]\n",
        "        total_anneal_steps = getTot_annealSTeps(train_set,batch_size,n_epochs,anneal_cap)\n",
        "        Optimizer_ = torch.optim.AdamW(model.parameters(), lr=lr_, weight_decay=weightdecay_)\n",
        "        print('batch_size = {} ,learning_rate = {}, weight_decay = {} '.format(batch_size,lr_,weightdecay_))\n",
        "        model_2 = model\n",
        "        for epoch in trange(n_epochs):            \n",
        "            train_step_2(model_2, Optimizer_, train_set,total_anneal_steps,epoch)\n",
        "            val_loss, curr_score = eval_step_2(model_2,validtrain_set,validtest_set)\n",
        "            stop_step = stop_step + 1\n",
        "           \n",
        "            if (curr_score > best_score) & (save_results):\n",
        "               best_epoch = epoch\n",
        "               best_BS  = batch_size\n",
        "               best_lr_ = lr_\n",
        "               best_weightdecay_ = weightdecay_\n",
        "               best_score = curr_score\n",
        "               torch.save(model_2.state_dict(),model_name+\".pth\")\n",
        "               stop_step = 0\n",
        "               print('best_NGCG = {}, best_epoch = {}, stop_step = {} '.format(best_score,best_epoch,stop_step))\n",
        "\n",
        "            if (stop_step > patience):\n",
        "                print(\"Early Stop Activated...\")\n",
        "                print('epoch= {}, best_epoch = {}, curr_score = {}, best_score = {},Stop_Step = {}'.format(epoch, best_epoch,curr_score,best_score,stop_step))\n",
        "                stop_step = 0\n",
        "                break\n",
        "               \n",
        "        #print('NDCG100_ = {} '.format(best_NGCG100))\n",
        "\n",
        "    print('\\n Best parameters; batch_size= {}, lr_ = {}, weight_decay = {}, NDCG100_ = {}'.format(best_BS, best_lr_,best_weightdecay_,best_score))\n",
        "    return best_BS, best_lr_, best_weightdecay_,best_score  "
      ],
      "execution_count": 50,
      "outputs": []
    },
    {
      "cell_type": "code",
      "metadata": {
        "id": "dkdeoeVN8NIR",
        "outputId": "0505cf80-8c65-4e0d-81b9-e8dbfd159dd0"
      },
      "source": [
        "als_params = dict(batch_size = [50,100,200,300,500],\n",
        "                  lr = [1e-7,1e-5,1e-3,1e-1],\n",
        "                  weight_decay= [0.,0.1,0.2,0.3])\n",
        "\n",
        "als_param_grid, als_param_names = random_grid(als_params, n=20)\n",
        "print(als_param_names)\n",
        "len(als_param_grid)                 "
      ],
      "execution_count": 41,
      "outputs": [
        {
          "output_type": "stream",
          "name": "stdout",
          "text": [
            "('batch_size', 'lr', 'weight_decay')\n"
          ]
        },
        {
          "output_type": "execute_result",
          "data": {
            "text/plain": [
              "20"
            ]
          },
          "metadata": {},
          "execution_count": 41
        }
      ]
    },
    {
      "cell_type": "code",
      "execution_count": 39,
      "metadata": {},
      "outputs": [
        {
          "output_type": "execute_result",
          "data": {
            "text/plain": [
              "device(type='cuda')"
            ]
          },
          "metadata": {},
          "execution_count": 39
        }
      ],
      "source": [
        "device"
      ]
    },
    {
      "cell_type": "code",
      "metadata": {
        "id": "2mnBaBnT8NIS",
        "outputId": "c3410d7f-caba-40d5-8728-86856ac4a439"
      },
      "source": [
        "for i in range(10):\n",
        "    batch_size, lr, weight_decay = list(als_param_grid)[i]  \n",
        "    print(batch_size, lr, weight_decay)"
      ],
      "execution_count": 42,
      "outputs": [
        {
          "output_type": "stream",
          "name": "stdout",
          "text": [
            "100 1e-07 0.1\n300 1e-05 0.2\n200 0.001 0.2\n50 1e-07 0.0\n500 1e-05 0.0\n100 1e-07 0.0\n50 1e-05 0.1\n500 1e-07 0.0\n300 0.001 0.1\n50 1e-05 0.0\n"
          ]
        }
      ]
    },
    {
      "cell_type": "code",
      "metadata": {
        "id": "Dq9zubDl8NIU",
        "outputId": "8035777e-f7e3-4c22-fff6-bd4323746a76"
      },
      "source": [
        "n_items = len(train_Items)   \n",
        "I = n_items    ##I is the total number of items in the train date\n",
        "q_dims = [I] + [600, 200]\n",
        "p_dims = [200, 600] + [I]\n",
        "dropout_enc = [0.5, 0.]\n",
        "dropout_dec = [0., 0.]\n",
        "\n",
        "                    \n",
        "VAEmodel = MultiVAE(p_dims,q_dims,dropout_enc,dropout_dec)\n",
        "init_weights(VAEmodel)\n",
        "VAEmodel.to(device)"
      ],
      "execution_count": 43,
      "outputs": [
        {
          "output_type": "execute_result",
          "data": {
            "text/plain": [
              "MultiVAE(\n",
              "  (encode): Encoder(\n",
              "    (q_layers): Sequential(\n",
              "      (dropout_0): Dropout(p=0.5, inplace=False)\n",
              "      (linear_0): Linear(in_features=17148, out_features=600, bias=True)\n",
              "      (dropout_1): Dropout(p=0.0, inplace=False)\n",
              "      (linear_1): Linear(in_features=600, out_features=400, bias=True)\n",
              "    )\n",
              "  )\n",
              "  (decode): Decoder(\n",
              "    (p_layers): Sequential(\n",
              "      (dropout_0): Dropout(p=0.0, inplace=False)\n",
              "      (linear_0): Linear(in_features=200, out_features=600, bias=True)\n",
              "      (dropout_1): Dropout(p=0.0, inplace=False)\n",
              "      (linear_1): Linear(in_features=600, out_features=17148, bias=True)\n",
              "    )\n",
              "  )\n",
              ")"
            ]
          },
          "metadata": {},
          "execution_count": 43
        }
      ]
    },
    {
      "cell_type": "code",
      "execution_count": 44,
      "metadata": {},
      "outputs": [
        {
          "output_type": "execute_result",
          "data": {
            "text/plain": [
              "device(type='cuda')"
            ]
          },
          "metadata": {},
          "execution_count": 44
        }
      ],
      "source": [
        "device"
      ]
    },
    {
      "cell_type": "code",
      "execution_count": null,
      "metadata": {},
      "outputs": [],
      "source": [
        " "
      ]
    },
    {
      "cell_type": "code",
      "metadata": {
        "id": "FauhrmJn8NIW",
        "outputId": "0aa3382d-94c0-4c47-f021-b2e6dc2399b6"
      },
      "source": [
        "update_count = 0 \n",
        "anneal_epochs = None  \n",
        "anneal_cap = 0.2\n",
        "constant_anneal = False\n",
        "patience = 20\n",
        "bestModelInfo = Tuning(VAEmodel,TrainDF_RatMat,ValidTrain_RatMat,ValidTest_RatMat,als_param_grid,50,\"AMZG_VAE\",save_results= True)"
      ],
      "execution_count": 241,
      "outputs": [
        {
          "output_type": "stream",
          "name": "stderr",
          "text": [
            "  0%|          | 0/20 [00:00<?, ?it/s]\n",
            "  0%|          | 0/50 [00:00<?, ?it/s]\u001b[Abatch_size = 50 ,learning_rate = 0.001, weight_decay = 0.2 \n",
            "\n",
            "  2%|▏         | 1/50 [00:17<14:34, 17.86s/it]\u001b[Abest_NGCG = 0.05778058103374835, best_epoch = 0, stop_step = 0 \n",
            "\n",
            "  4%|▍         | 2/50 [00:34<13:56, 17.43s/it]\u001b[Abest_NGCG = 0.08695633303418869, best_epoch = 1, stop_step = 0 \n",
            "\n",
            "  6%|▌         | 3/50 [00:52<13:45, 17.56s/it]\u001b[Abest_NGCG = 0.09749623611743817, best_epoch = 2, stop_step = 0 \n",
            "\n",
            "  8%|▊         | 4/50 [01:09<13:11, 17.21s/it]\u001b[A\n",
            " 10%|█         | 5/50 [01:26<12:49, 17.09s/it]\u001b[A\n",
            " 12%|█▏        | 6/50 [01:43<12:39, 17.27s/it]\u001b[A\n",
            " 14%|█▍        | 7/50 [02:01<12:24, 17.32s/it]\u001b[A\n",
            " 16%|█▌        | 8/50 [02:18<12:06, 17.29s/it]\u001b[A\n",
            " 18%|█▊        | 9/50 [02:34<11:37, 17.02s/it]\u001b[A\n",
            " 20%|██        | 10/50 [02:50<11:07, 16.68s/it]\u001b[A\n",
            " 22%|██▏       | 11/50 [03:08<11:05, 17.06s/it]\u001b[Abest_NGCG = 0.09840413276845342, best_epoch = 10, stop_step = 0 \n",
            "\n",
            " 24%|██▍       | 12/50 [03:26<10:50, 17.13s/it]\u001b[Abest_NGCG = 0.09902151529505088, best_epoch = 11, stop_step = 0 \n",
            "\n",
            " 26%|██▌       | 13/50 [03:43<10:32, 17.09s/it]\u001b[A\n",
            " 28%|██▊       | 14/50 [04:00<10:19, 17.21s/it]\u001b[Abest_NGCG = 0.10064155748654806, best_epoch = 13, stop_step = 0 \n",
            "\n",
            " 30%|███       | 15/50 [04:17<09:55, 17.02s/it]\u001b[A\n",
            " 32%|███▏      | 16/50 [04:33<09:35, 16.94s/it]\u001b[A\n",
            " 34%|███▍      | 17/50 [04:50<09:19, 16.94s/it]\u001b[A\n",
            " 36%|███▌      | 18/50 [05:08<09:05, 17.06s/it]\u001b[Abest_NGCG = 0.10153690576459004, best_epoch = 17, stop_step = 0 \n",
            "\n",
            " 38%|███▊      | 19/50 [05:24<08:41, 16.83s/it]\u001b[A\n",
            " 40%|████      | 20/50 [05:40<08:14, 16.49s/it]\u001b[A\n",
            " 42%|████▏     | 21/50 [05:55<07:52, 16.28s/it]\u001b[A\n",
            " 44%|████▍     | 22/50 [06:14<07:51, 16.84s/it]\u001b[Abest_NGCG = 0.10162088502929892, best_epoch = 21, stop_step = 0 \n",
            "\n",
            " 46%|████▌     | 23/50 [06:30<07:32, 16.75s/it]\u001b[A\n",
            " 48%|████▊     | 24/50 [06:48<07:24, 17.09s/it]\u001b[A\n",
            " 50%|█████     | 25/50 [07:06<07:11, 17.25s/it]\u001b[A\n",
            " 52%|█████▏    | 26/50 [07:24<07:03, 17.65s/it]\u001b[A\n",
            " 54%|█████▍    | 27/50 [07:42<06:46, 17.68s/it]\u001b[A\n",
            " 56%|█████▌    | 28/50 [08:00<06:29, 17.71s/it]\u001b[Abest_NGCG = 0.1023357876234243, best_epoch = 27, stop_step = 0 \n",
            "\n",
            " 58%|█████▊    | 29/50 [08:18<06:15, 17.90s/it]\u001b[Abest_NGCG = 0.10274882815901996, best_epoch = 28, stop_step = 0 \n",
            "\n",
            " 60%|██████    | 30/50 [08:36<05:56, 17.81s/it]\u001b[Abest_NGCG = 0.10316591608534487, best_epoch = 29, stop_step = 0 \n",
            "\n",
            " 62%|██████▏   | 31/50 [08:54<05:41, 17.95s/it]\u001b[A\n",
            " 64%|██████▍   | 32/50 [09:11<05:19, 17.75s/it]\u001b[A\n",
            " 66%|██████▌   | 33/50 [09:31<05:10, 18.24s/it]\u001b[A\n",
            " 68%|██████▊   | 34/50 [09:48<04:49, 18.09s/it]\u001b[A\n",
            " 70%|███████   | 35/50 [10:06<04:27, 17.84s/it]\u001b[A\n",
            " 72%|███████▏  | 36/50 [10:23<04:08, 17.78s/it]\u001b[A\n",
            " 74%|███████▍  | 37/50 [10:40<03:48, 17.59s/it]\u001b[A\n",
            " 76%|███████▌  | 38/50 [10:58<03:31, 17.62s/it]\u001b[A\n",
            " 78%|███████▊  | 39/50 [11:15<03:11, 17.45s/it]\u001b[A\n",
            " 80%|████████  | 40/50 [11:35<03:03, 18.31s/it]\u001b[A\n",
            " 82%|████████▏ | 41/50 [11:54<02:46, 18.51s/it]\u001b[A\n",
            " 84%|████████▍ | 42/50 [12:14<02:31, 18.94s/it]\u001b[Abest_NGCG = 0.10336994686017552, best_epoch = 41, stop_step = 0 \n",
            "\n",
            " 86%|████████▌ | 43/50 [12:33<02:12, 18.94s/it]\u001b[A\n",
            " 88%|████████▊ | 44/50 [12:52<01:53, 18.92s/it]\u001b[A\n",
            " 90%|█████████ | 45/50 [13:08<01:30, 18.11s/it]\u001b[A\n",
            " 92%|█████████▏| 46/50 [13:24<01:09, 17.48s/it]\u001b[A\n",
            " 94%|█████████▍| 47/50 [13:41<00:51, 17.26s/it]\u001b[Abest_NGCG = 0.10357765609403065, best_epoch = 46, stop_step = 0 \n",
            "\n",
            " 96%|█████████▌| 48/50 [13:59<00:35, 17.51s/it]\u001b[A\n",
            " 98%|█████████▊| 49/50 [14:18<00:17, 17.98s/it]\u001b[A\n",
            "100%|██████████| 50/50 [14:38<00:00, 17.56s/it]\n",
            "  5%|▌         | 1/20 [14:38<4:38:02, 878.04s/it]\n",
            "  0%|          | 0/50 [00:00<?, ?it/s]\u001b[Abatch_size = 500 ,learning_rate = 1e-05, weight_decay = 0.0 \n",
            "\n",
            "  2%|▏         | 1/50 [00:20<16:44, 20.49s/it]\u001b[Abest_NGCG = 0.10491884962062539, best_epoch = 0, stop_step = 0 \n",
            "\n",
            "  4%|▍         | 2/50 [00:38<15:26, 19.29s/it]\u001b[Abest_NGCG = 0.10583390283140476, best_epoch = 1, stop_step = 0 \n",
            "\n",
            "  6%|▌         | 3/50 [00:57<14:56, 19.08s/it]\u001b[Abest_NGCG = 0.10671151452958412, best_epoch = 2, stop_step = 0 \n",
            "\n",
            "  8%|▊         | 4/50 [01:16<14:31, 18.95s/it]\u001b[Abest_NGCG = 0.1078983096434636, best_epoch = 3, stop_step = 0 \n",
            "\n",
            " 10%|█         | 5/50 [01:35<14:06, 18.82s/it]\u001b[Abest_NGCG = 0.10883104954318275, best_epoch = 4, stop_step = 0 \n",
            "\n",
            " 12%|█▏        | 6/50 [01:53<13:38, 18.60s/it]\u001b[Abest_NGCG = 0.10921852577262339, best_epoch = 5, stop_step = 0 \n",
            "\n",
            " 14%|█▍        | 7/50 [02:12<13:23, 18.70s/it]\u001b[Abest_NGCG = 0.10961313949387393, best_epoch = 6, stop_step = 0 \n",
            "\n",
            " 16%|█▌        | 8/50 [02:30<13:02, 18.62s/it]\u001b[Abest_NGCG = 0.10972536701549028, best_epoch = 7, stop_step = 0 \n",
            "\n",
            " 18%|█▊        | 9/50 [02:48<12:39, 18.54s/it]\u001b[Abest_NGCG = 0.11000044484481844, best_epoch = 8, stop_step = 0 \n",
            "\n",
            " 20%|██        | 10/50 [03:07<12:22, 18.57s/it]\u001b[Abest_NGCG = 0.11046844637278998, best_epoch = 9, stop_step = 0 \n",
            "\n",
            " 22%|██▏       | 11/50 [03:26<12:03, 18.55s/it]\u001b[Abest_NGCG = 0.11090310306336142, best_epoch = 10, stop_step = 0 \n",
            "\n",
            " 24%|██▍       | 12/50 [03:45<11:48, 18.66s/it]\u001b[Abest_NGCG = 0.11128010635586534, best_epoch = 11, stop_step = 0 \n",
            "\n",
            " 26%|██▌       | 13/50 [04:03<11:28, 18.60s/it]\u001b[A\n",
            " 28%|██▊       | 14/50 [04:21<11:02, 18.40s/it]\u001b[Abest_NGCG = 0.11144308615811369, best_epoch = 13, stop_step = 0 \n",
            "\n",
            " 30%|███       | 15/50 [04:41<10:58, 18.81s/it]\u001b[Abest_NGCG = 0.11213701006627107, best_epoch = 14, stop_step = 0 \n",
            "\n",
            " 32%|███▏      | 16/50 [05:01<10:56, 19.30s/it]\u001b[Abest_NGCG = 0.11258227578414555, best_epoch = 15, stop_step = 0 \n",
            "\n",
            " 34%|███▍      | 17/50 [05:21<10:39, 19.38s/it]\u001b[Abest_NGCG = 0.11261622480047755, best_epoch = 16, stop_step = 0 \n",
            "\n",
            " 36%|███▌      | 18/50 [05:40<10:16, 19.28s/it]\u001b[Abest_NGCG = 0.112924941104523, best_epoch = 17, stop_step = 0 \n",
            "\n",
            " 38%|███▊      | 19/50 [06:00<10:05, 19.52s/it]\u001b[Abest_NGCG = 0.1132627180936996, best_epoch = 18, stop_step = 0 \n",
            "\n",
            " 40%|████      | 20/50 [06:20<09:54, 19.81s/it]\u001b[Abest_NGCG = 0.11379234685776246, best_epoch = 19, stop_step = 0 \n",
            "\n",
            " 42%|████▏     | 21/50 [06:42<09:46, 20.24s/it]\u001b[A\n",
            " 44%|████▍     | 22/50 [07:02<09:29, 20.34s/it]\u001b[A\n",
            " 46%|████▌     | 23/50 [07:21<08:57, 19.91s/it]\u001b[A\n",
            " 48%|████▊     | 24/50 [07:39<08:24, 19.40s/it]\u001b[A\n",
            " 50%|█████     | 25/50 [07:57<07:52, 18.90s/it]\u001b[A\n",
            " 52%|█████▏    | 26/50 [08:15<07:30, 18.77s/it]\u001b[Abest_NGCG = 0.11381237589125064, best_epoch = 25, stop_step = 0 \n",
            "\n",
            " 54%|█████▍    | 27/50 [08:34<07:10, 18.74s/it]\u001b[Abest_NGCG = 0.1138710650533935, best_epoch = 26, stop_step = 0 \n",
            "\n",
            " 56%|█████▌    | 28/50 [08:52<06:47, 18.50s/it]\u001b[A\n",
            " 58%|█████▊    | 29/50 [09:10<06:26, 18.38s/it]\u001b[A\n",
            " 60%|██████    | 30/50 [09:28<06:04, 18.24s/it]\u001b[A\n",
            " 62%|██████▏   | 31/50 [09:46<05:45, 18.19s/it]\u001b[A\n",
            " 64%|██████▍   | 32/50 [10:04<05:24, 18.05s/it]\u001b[A\n",
            " 66%|██████▌   | 33/50 [10:22<05:07, 18.11s/it]\u001b[Abest_NGCG = 0.11400267743691138, best_epoch = 32, stop_step = 0 \n",
            "\n",
            " 68%|██████▊   | 34/50 [10:41<04:51, 18.25s/it]\u001b[Abest_NGCG = 0.11407611845016202, best_epoch = 33, stop_step = 0 \n",
            "\n",
            " 70%|███████   | 35/50 [10:59<04:32, 18.19s/it]\u001b[A\n",
            " 72%|███████▏  | 36/50 [11:17<04:13, 18.08s/it]\u001b[A\n",
            " 74%|███████▍  | 37/50 [11:35<03:56, 18.18s/it]\u001b[A\n",
            " 76%|███████▌  | 38/50 [11:54<03:40, 18.37s/it]\u001b[Abest_NGCG = 0.11417333854573371, best_epoch = 37, stop_step = 0 \n",
            "\n",
            " 78%|███████▊  | 39/50 [12:12<03:22, 18.43s/it]\u001b[Abest_NGCG = 0.11424323012634943, best_epoch = 38, stop_step = 0 \n",
            "\n",
            " 80%|████████  | 40/50 [12:31<03:05, 18.50s/it]\u001b[A\n",
            " 82%|████████▏ | 41/50 [12:49<02:46, 18.46s/it]\u001b[A\n",
            " 84%|████████▍ | 42/50 [13:07<02:26, 18.32s/it]\u001b[A\n",
            " 86%|████████▌ | 43/50 [13:26<02:08, 18.38s/it]\u001b[Abest_NGCG = 0.11434205529157736, best_epoch = 42, stop_step = 0 \n",
            "\n",
            " 88%|████████▊ | 44/50 [13:44<01:49, 18.31s/it]\u001b[A\n",
            " 90%|█████████ | 45/50 [14:03<01:32, 18.49s/it]\u001b[Abest_NGCG = 0.11439891383934989, best_epoch = 44, stop_step = 0 \n",
            "\n",
            " 92%|█████████▏| 46/50 [14:21<01:13, 18.34s/it]\u001b[A\n",
            " 94%|█████████▍| 47/50 [14:39<00:54, 18.29s/it]\u001b[Abest_NGCG = 0.11451665597212994, best_epoch = 46, stop_step = 0 \n",
            "\n",
            " 96%|█████████▌| 48/50 [14:57<00:36, 18.27s/it]\u001b[A\n",
            " 98%|█████████▊| 49/50 [15:15<00:18, 18.20s/it]\u001b[A\n",
            "100%|██████████| 50/50 [15:33<00:00, 18.68s/it]\n",
            " 10%|█         | 2/20 [30:12<4:33:17, 910.95s/it]\n",
            "  0%|          | 0/50 [00:00<?, ?it/s]\u001b[Abatch_size = 500 ,learning_rate = 0.001, weight_decay = 0.1 \n",
            "\n",
            "  2%|▏         | 1/50 [00:18<15:01, 18.40s/it]\u001b[A\n",
            "  4%|▍         | 2/50 [00:37<14:49, 18.52s/it]\u001b[A\n",
            "  6%|▌         | 3/50 [00:55<14:26, 18.43s/it]\u001b[A\n",
            "  8%|▊         | 4/50 [01:13<14:06, 18.40s/it]\u001b[A\n",
            " 10%|█         | 5/50 [01:32<14:02, 18.72s/it]\u001b[A\n",
            " 12%|█▏        | 6/50 [01:50<13:33, 18.48s/it]\u001b[A\n",
            " 14%|█▍        | 7/50 [02:08<13:03, 18.22s/it]\u001b[A\n",
            " 16%|█▌        | 8/50 [02:26<12:45, 18.23s/it]\u001b[A\n",
            " 18%|█▊        | 9/50 [02:44<12:23, 18.13s/it]\u001b[A\n",
            " 20%|██        | 10/50 [03:02<11:58, 17.97s/it]\u001b[A\n",
            " 22%|██▏       | 11/50 [03:20<11:37, 17.90s/it]\u001b[A\n",
            " 24%|██▍       | 12/50 [03:38<11:19, 17.89s/it]\u001b[A\n",
            " 26%|██▌       | 13/50 [03:56<11:04, 17.95s/it]\u001b[A\n",
            " 28%|██▊       | 14/50 [04:14<10:50, 18.08s/it]\u001b[A\n",
            " 30%|███       | 15/50 [04:32<10:35, 18.17s/it]\u001b[A\n",
            " 32%|███▏      | 16/50 [04:50<10:15, 18.11s/it]\u001b[A\n",
            " 34%|███▍      | 17/50 [05:27<10:35, 19.26s/it]\n",
            " 15%|█▌        | 3/20 [35:39<3:02:36, 644.52s/it]\n",
            "  0%|          | 0/50 [00:00<?, ?it/s]\u001b[AEarly Stop Activated...\n",
            "epoch= 17, best_epoch = 46, curr_score = 0.10231600928870029, best_score = 0.11451665597212994,Stop_Step = 21\n",
            "batch_size = 200 ,learning_rate = 0.1, weight_decay = 0.2 \n",
            "  0%|          | 0/50 [00:19<?, ?it/s]\n",
            " 20%|██        | 4/20 [35:59<1:46:06, 397.93s/it]\n",
            "  0%|          | 0/50 [00:00<?, ?it/s]\u001b[AEarly Stop Activated...\n",
            "epoch= 0, best_epoch = 46, curr_score = 0.0028424051162257284, best_score = 0.11451665597212994,Stop_Step = 22\n",
            "batch_size = 200 ,learning_rate = 1e-05, weight_decay = 0.0 \n",
            "  0%|          | 0/50 [00:20<?, ?it/s]\n",
            " 25%|██▌       | 5/20 [36:19<1:05:27, 261.80s/it]\n",
            "  0%|          | 0/50 [00:00<?, ?it/s]\u001b[AEarly Stop Activated...\n",
            "epoch= 0, best_epoch = 46, curr_score = 0.0028424051162257284, best_score = 0.11451665597212994,Stop_Step = 23\n",
            "batch_size = 500 ,learning_rate = 0.1, weight_decay = 0.2 \n",
            "  0%|          | 0/50 [00:20<?, ?it/s]\n",
            " 30%|███       | 6/20 [36:40<41:57, 179.84s/it]  \n",
            "  0%|          | 0/50 [00:00<?, ?it/s]\u001b[AEarly Stop Activated...\n",
            "epoch= 0, best_epoch = 46, curr_score = 0.0028424051162257284, best_score = 0.11451665597212994,Stop_Step = 24\n",
            "batch_size = 100 ,learning_rate = 0.1, weight_decay = 0.2 \n",
            "  0%|          | 0/50 [00:19<?, ?it/s]\n",
            " 35%|███▌      | 7/20 [37:00<27:38, 127.57s/it]\n",
            "  0%|          | 0/50 [00:00<?, ?it/s]\u001b[AEarly Stop Activated...\n",
            "epoch= 0, best_epoch = 46, curr_score = 0.0028424051162257284, best_score = 0.11451665597212994,Stop_Step = 25\n",
            "batch_size = 300 ,learning_rate = 0.1, weight_decay = 0.2 \n",
            "  0%|          | 0/50 [00:20<?, ?it/s]\n",
            " 40%|████      | 8/20 [37:20<18:40, 93.37s/it] \n",
            "  0%|          | 0/50 [00:00<?, ?it/s]\u001b[AEarly Stop Activated...\n",
            "epoch= 0, best_epoch = 46, curr_score = 0.0028424051162257284, best_score = 0.11451665597212994,Stop_Step = 26\n",
            "batch_size = 100 ,learning_rate = 0.001, weight_decay = 0.1 \n",
            "  0%|          | 0/50 [00:20<?, ?it/s]\n",
            " 45%|████▌     | 9/20 [37:41<12:58, 70.74s/it]\n",
            "  0%|          | 0/50 [00:00<?, ?it/s]\u001b[AEarly Stop Activated...\n",
            "epoch= 0, best_epoch = 46, curr_score = 0.0028424051162257284, best_score = 0.11451665597212994,Stop_Step = 27\n",
            "batch_size = 50 ,learning_rate = 0.1, weight_decay = 0.2 \n",
            "  0%|          | 0/50 [00:20<?, ?it/s]\n",
            " 50%|█████     | 10/20 [38:01<09:11, 55.17s/it]\n",
            "  0%|          | 0/50 [00:00<?, ?it/s]\u001b[AEarly Stop Activated...\n",
            "epoch= 0, best_epoch = 46, curr_score = 0.0028424051162257284, best_score = 0.11451665597212994,Stop_Step = 28\n",
            "batch_size = 200 ,learning_rate = 1e-07, weight_decay = 0.2 \n",
            "  0%|          | 0/50 [00:20<?, ?it/s]\n",
            " 55%|█████▌    | 11/20 [38:22<06:41, 44.62s/it]\n",
            "  0%|          | 0/50 [00:00<?, ?it/s]\u001b[AEarly Stop Activated...\n",
            "epoch= 0, best_epoch = 46, curr_score = 0.0028424051162257284, best_score = 0.11451665597212994,Stop_Step = 29\n",
            "batch_size = 300 ,learning_rate = 0.1, weight_decay = 0.1 \n",
            "  0%|          | 0/50 [00:21<?, ?it/s]\n",
            " 60%|██████    | 12/20 [38:44<05:00, 37.60s/it]\n",
            "  0%|          | 0/50 [00:00<?, ?it/s]\u001b[AEarly Stop Activated...\n",
            "epoch= 0, best_epoch = 46, curr_score = 0.0028424051162257284, best_score = 0.11451665597212994,Stop_Step = 30\n",
            "batch_size = 300 ,learning_rate = 0.001, weight_decay = 0.0 \n",
            "  0%|          | 0/50 [00:22<?, ?it/s]\n",
            " 65%|██████▌   | 13/20 [39:06<03:50, 32.92s/it]\n",
            "  0%|          | 0/50 [00:00<?, ?it/s]\u001b[AEarly Stop Activated...\n",
            "epoch= 0, best_epoch = 46, curr_score = 0.0028424051162257284, best_score = 0.11451665597212994,Stop_Step = 31\n",
            "batch_size = 100 ,learning_rate = 1e-07, weight_decay = 0.3 \n",
            "  0%|          | 0/50 [00:22<?, ?it/s]\n",
            " 70%|███████   | 14/20 [39:28<02:58, 29.68s/it]\n",
            "  0%|          | 0/50 [00:00<?, ?it/s]\u001b[AEarly Stop Activated...\n",
            "epoch= 0, best_epoch = 46, curr_score = 0.0028424051162257284, best_score = 0.11451665597212994,Stop_Step = 32\n",
            "batch_size = 200 ,learning_rate = 1e-07, weight_decay = 0.1 \n",
            "  0%|          | 0/50 [00:22<?, ?it/s]\n",
            " 75%|███████▌  | 15/20 [39:51<02:17, 27.57s/it]\n",
            "  0%|          | 0/50 [00:00<?, ?it/s]\u001b[AEarly Stop Activated...\n",
            "epoch= 0, best_epoch = 46, curr_score = 0.0028424051162257284, best_score = 0.11451665597212994,Stop_Step = 33\n",
            "batch_size = 500 ,learning_rate = 1e-05, weight_decay = 0.2 \n",
            "  0%|          | 0/50 [00:22<?, ?it/s]\n",
            " 80%|████████  | 16/20 [40:13<01:44, 26.11s/it]\n",
            "  0%|          | 0/50 [00:00<?, ?it/s]\u001b[AEarly Stop Activated...\n",
            "epoch= 0, best_epoch = 46, curr_score = 0.0028424051162257284, best_score = 0.11451665597212994,Stop_Step = 34\n",
            "batch_size = 500 ,learning_rate = 1e-07, weight_decay = 0.1 \n",
            "  0%|          | 0/50 [00:21<?, ?it/s]\n",
            " 85%|████████▌ | 17/20 [40:35<01:14, 24.87s/it]\n",
            "  0%|          | 0/50 [00:00<?, ?it/s]\u001b[AEarly Stop Activated...\n",
            "epoch= 0, best_epoch = 46, curr_score = 0.0028424051162257284, best_score = 0.11451665597212994,Stop_Step = 35\n",
            "batch_size = 200 ,learning_rate = 1e-07, weight_decay = 0.0 \n",
            "  0%|          | 0/50 [00:22<?, ?it/s]\n",
            " 90%|█████████ | 18/20 [40:58<00:48, 24.17s/it]\n",
            "  0%|          | 0/50 [00:00<?, ?it/s]\u001b[AEarly Stop Activated...\n",
            "epoch= 0, best_epoch = 46, curr_score = 0.0028424051162257284, best_score = 0.11451665597212994,Stop_Step = 36\n",
            "batch_size = 50 ,learning_rate = 1e-07, weight_decay = 0.1 \n",
            "  0%|          | 0/50 [00:22<?, ?it/s]\n",
            " 95%|█████████▌| 19/20 [41:20<00:23, 23.53s/it]\n",
            "  0%|          | 0/50 [00:00<?, ?it/s]\u001b[AEarly Stop Activated...\n",
            "epoch= 0, best_epoch = 46, curr_score = 0.0028424051162257284, best_score = 0.11451665597212994,Stop_Step = 37\n",
            "batch_size = 100 ,learning_rate = 0.001, weight_decay = 0.3 \n",
            "  0%|          | 0/50 [00:22<?, ?it/s]\n",
            "100%|██████████| 20/20 [41:43<00:00, 125.15s/it]Early Stop Activated...\n",
            "epoch= 0, best_epoch = 46, curr_score = 0.0028424051162257284, best_score = 0.11451665597212994,Stop_Step = 38\n",
            "\n",
            " Best parameters; batch_size= 500, lr_ = 1e-05, weight_decay = 0.0, NDCG100_ = 0.11451665597212994\n",
            "\n"
          ]
        }
      ]
    },
    {
      "cell_type": "code",
      "metadata": {
        "id": "II82-Bb_8NIZ",
        "outputId": "11819411-79d6-4efd-be83-86e38639248f"
      },
      "source": [
        "best_BS, best_lr_, best_weightdecay_,best_score =  bestModelInfo\n",
        "print(\"batch_size     :\",best_BS)\n",
        "print(\"learning_rate  :\",best_lr_)\n",
        "print(\"weight_decay   :\",best_weightdecay_)\n",
        "print(\"best_NGCG100   :\",best_score)        "
      ],
      "execution_count": 242,
      "outputs": [
        {
          "output_type": "stream",
          "name": "stdout",
          "text": [
            "batch_size     : 500\nlearning_rate  : 1e-05\nweight_decay   : 0.0\nbest_NGCG100   : 0.11451665597212994\n"
          ]
        }
      ]
    },
    {
      "cell_type": "code",
      "metadata": {
        "id": "0ielXT4B8NIa"
      },
      "source": [
        "# Run on test data with best model\n",
        "#model.load_state_dict(torch.load(model_name + \".pt\")))\n",
        "VAEmodel.load_state_dict(torch.load('AMZG_VAE.pth'))\n",
        "test_loss,tst_ndgc100_ = eval_step_2(VAEmodel,TestTrain_RatMat,TestTest_RatMat)\n",
        "tst_ndgc100_"
      ],
      "execution_count": 55,
      "outputs": [
        {
          "output_type": "execute_result",
          "data": {
            "text/plain": [
              "0.11165834662539838"
            ]
          },
          "metadata": {},
          "execution_count": 55
        }
      ]
    },
    {
      "cell_type": "code",
      "execution_count": null,
      "metadata": {},
      "outputs": [],
      "source": []
    },
    {
      "cell_type": "code",
      "metadata": {
        "id": "yLS_AB7d8NIb",
        "outputId": "9acfd620-f13b-4724-f69c-a2fe0b71101c"
      },
      "source": [
        "update_count = 0 \n",
        "anneal_epochs = None  \n",
        "anneal_cap = 0.2\n",
        "constant_anneal = False\n",
        "patience = 20\n",
        "bestModelInfo = Tuning(VAEmodel,TrainDF_RatMat,ValidTrain_RatMat,ValidTest_RatMat,als_param_grid,50,\"AMZGVAE_2\",save_results= True)"
      ],
      "execution_count": 52,
      "outputs": [
        {
          "output_type": "stream",
          "name": "stderr",
          "text": [
            "  0%|          | 0/20 [00:00<?, ?it/s]\n",
            "  0%|          | 0/50 [00:00<?, ?it/s]\u001b[Abatch_size = 100 ,learning_rate = 1e-07, weight_decay = 0.1 \n",
            "\n",
            "  2%|▏         | 1/50 [00:18<15:19, 18.76s/it]\u001b[Abest_NGCG = 0.11448897296640466, best_epoch = 0, stop_step = 0 \n",
            "\n",
            "  4%|▍         | 2/50 [00:37<15:03, 18.83s/it]\u001b[Abest_NGCG = 0.11449775633852644, best_epoch = 1, stop_step = 0 \n",
            "\n",
            "  6%|▌         | 3/50 [00:55<14:19, 18.30s/it]\u001b[A\n",
            "  8%|▊         | 4/50 [01:13<14:05, 18.38s/it]\u001b[A\n",
            " 10%|█         | 5/50 [01:32<13:54, 18.55s/it]\u001b[A\n",
            " 12%|█▏        | 6/50 [01:50<13:19, 18.16s/it]\u001b[A\n",
            " 14%|█▍        | 7/50 [02:08<12:58, 18.10s/it]\u001b[A\n",
            " 16%|█▌        | 8/50 [02:25<12:35, 18.00s/it]\u001b[A\n",
            " 18%|█▊        | 9/50 [02:43<12:09, 17.80s/it]\u001b[A\n",
            " 20%|██        | 10/50 [03:01<11:54, 17.87s/it]\u001b[A\n",
            " 22%|██▏       | 11/50 [03:19<11:35, 17.84s/it]\u001b[A\n",
            " 24%|██▍       | 12/50 [03:36<11:19, 17.88s/it]\u001b[A\n",
            " 26%|██▌       | 13/50 [03:54<10:56, 17.74s/it]\u001b[A\n",
            " 28%|██▊       | 14/50 [04:12<10:37, 17.70s/it]\u001b[A\n",
            " 30%|███       | 15/50 [04:29<10:18, 17.67s/it]\u001b[A\n",
            " 32%|███▏      | 16/50 [04:47<10:00, 17.67s/it]\u001b[A\n",
            " 34%|███▍      | 17/50 [05:05<09:46, 17.76s/it]\u001b[A\n",
            " 36%|███▌      | 18/50 [05:23<09:32, 17.90s/it]\u001b[A\n",
            " 38%|███▊      | 19/50 [05:41<09:17, 17.97s/it]\u001b[A\n",
            " 40%|████      | 20/50 [05:59<09:02, 18.08s/it]\u001b[A\n",
            " 42%|████▏     | 21/50 [06:17<08:42, 18.03s/it]\u001b[A\n",
            " 44%|████▍     | 22/50 [06:53<08:46, 18.80s/it]\n",
            "  5%|▌         | 1/20 [06:53<2:10:59, 413.63s/it]\n",
            "  0%|          | 0/50 [00:00<?, ?it/s]\u001b[AEarly Stop Activated...\n",
            "epoch= 22, best_epoch = 1, curr_score = 0.11439434360261291, best_score = 0.11449775633852644,Stop_Step = 21\n",
            "batch_size = 300 ,learning_rate = 1e-05, weight_decay = 0.2 \n",
            "\n",
            "  2%|▏         | 1/50 [00:18<14:50, 18.18s/it]\u001b[A\n",
            "  4%|▍         | 2/50 [00:36<14:27, 18.07s/it]\u001b[Abest_NGCG = 0.11467797821428771, best_epoch = 1, stop_step = 0 \n",
            "\n",
            "  6%|▌         | 3/50 [00:54<14:12, 18.14s/it]\u001b[Abest_NGCG = 0.11489973797077868, best_epoch = 2, stop_step = 0 \n",
            "\n",
            "  8%|▊         | 4/50 [01:13<14:04, 18.35s/it]\u001b[Abest_NGCG = 0.11490317385563405, best_epoch = 3, stop_step = 0 \n",
            "\n",
            " 10%|█         | 5/50 [01:31<13:43, 18.31s/it]\u001b[Abest_NGCG = 0.11505864323276833, best_epoch = 4, stop_step = 0 \n",
            "\n",
            " 12%|█▏        | 6/50 [01:49<13:19, 18.16s/it]\u001b[A\n",
            " 14%|█▍        | 7/50 [02:07<13:07, 18.32s/it]\u001b[Abest_NGCG = 0.11509518734754297, best_epoch = 6, stop_step = 0 \n",
            "\n",
            " 16%|█▌        | 8/50 [02:26<12:49, 18.32s/it]\u001b[A\n",
            " 18%|█▊        | 9/50 [02:43<12:21, 18.09s/it]\u001b[A\n",
            " 20%|██        | 10/50 [03:02<12:12, 18.31s/it]\u001b[A\n",
            " 22%|██▏       | 11/50 [03:20<11:52, 18.27s/it]\u001b[Abest_NGCG = 0.11529010742526881, best_epoch = 10, stop_step = 0 \n",
            "\n",
            " 24%|██▍       | 12/50 [03:38<11:29, 18.15s/it]\u001b[A\n",
            " 26%|██▌       | 13/50 [03:57<11:17, 18.31s/it]\u001b[A\n",
            " 28%|██▊       | 14/50 [04:14<10:51, 18.11s/it]\u001b[Abest_NGCG = 0.11535195248442996, best_epoch = 13, stop_step = 0 \n",
            "\n",
            " 30%|███       | 15/50 [04:33<10:36, 18.18s/it]\u001b[A\n",
            " 32%|███▏      | 16/50 [04:51<10:16, 18.15s/it]\u001b[A\n",
            " 34%|███▍      | 17/50 [05:09<10:02, 18.25s/it]\u001b[Abest_NGCG = 0.11544835922374094, best_epoch = 16, stop_step = 0 \n",
            "\n",
            " 36%|███▌      | 18/50 [05:28<09:43, 18.24s/it]\u001b[A\n",
            " 38%|███▊      | 19/50 [05:45<09:19, 18.06s/it]\u001b[A\n",
            " 40%|████      | 20/50 [06:03<09:03, 18.13s/it]\u001b[Abest_NGCG = 0.1156170880210791, best_epoch = 19, stop_step = 0 \n",
            "\n",
            " 42%|████▏     | 21/50 [06:22<08:45, 18.13s/it]\u001b[A\n",
            " 44%|████▍     | 22/50 [06:40<08:29, 18.20s/it]\u001b[A\n",
            " 46%|████▌     | 23/50 [06:58<08:10, 18.16s/it]\u001b[A\n",
            " 48%|████▊     | 24/50 [07:15<07:45, 17.91s/it]\u001b[A\n",
            " 50%|█████     | 25/50 [07:34<07:31, 18.07s/it]\u001b[A\n",
            " 52%|█████▏    | 26/50 [07:52<07:13, 18.08s/it]\u001b[Abest_NGCG = 0.11575195139586054, best_epoch = 25, stop_step = 0 \n",
            "\n",
            " 54%|█████▍    | 27/50 [08:10<06:53, 17.96s/it]\u001b[A\n",
            " 56%|█████▌    | 28/50 [08:28<06:39, 18.16s/it]\u001b[Abest_NGCG = 0.11601233601490342, best_epoch = 27, stop_step = 0 \n",
            "\n",
            " 58%|█████▊    | 29/50 [08:46<06:20, 18.11s/it]\u001b[A\n",
            " 60%|██████    | 30/50 [09:04<06:01, 18.06s/it]\u001b[A\n",
            " 62%|██████▏   | 31/50 [09:22<05:41, 17.99s/it]\u001b[A\n",
            " 64%|██████▍   | 32/50 [09:39<05:19, 17.76s/it]\u001b[A\n",
            " 66%|██████▌   | 33/50 [09:56<04:58, 17.58s/it]\u001b[A\n",
            " 68%|██████▊   | 34/50 [10:14<04:42, 17.66s/it]\u001b[A\n",
            " 70%|███████   | 35/50 [10:33<04:28, 17.90s/it]\u001b[Abest_NGCG = 0.11624446205889563, best_epoch = 34, stop_step = 0 \n",
            "\n",
            " 72%|███████▏  | 36/50 [10:52<04:15, 18.26s/it]\u001b[A\n",
            " 74%|███████▍  | 37/50 [11:09<03:53, 17.98s/it]\u001b[A\n",
            " 76%|███████▌  | 38/50 [11:27<03:36, 18.01s/it]\u001b[A\n",
            " 78%|███████▊  | 39/50 [11:45<03:17, 17.94s/it]\u001b[A\n",
            " 80%|████████  | 40/50 [12:03<02:59, 17.93s/it]\u001b[A\n",
            " 82%|████████▏ | 41/50 [12:21<02:41, 17.93s/it]\u001b[A\n",
            " 84%|████████▍ | 42/50 [12:39<02:23, 17.88s/it]\u001b[A\n",
            " 86%|████████▌ | 43/50 [12:56<02:05, 17.88s/it]\u001b[A\n",
            " 88%|████████▊ | 44/50 [13:15<01:47, 17.98s/it]\u001b[A\n",
            " 90%|█████████ | 45/50 [13:32<01:29, 17.89s/it]\u001b[A\n",
            " 92%|█████████▏| 46/50 [13:50<01:11, 17.90s/it]\u001b[A\n",
            " 94%|█████████▍| 47/50 [14:08<00:53, 17.94s/it]\u001b[A\n",
            " 96%|█████████▌| 48/50 [14:26<00:36, 18.00s/it]\u001b[Abest_NGCG = 0.11631584243792473, best_epoch = 47, stop_step = 0 \n",
            "\n",
            " 98%|█████████▊| 49/50 [14:45<00:18, 18.05s/it]\u001b[A\n",
            "100%|██████████| 50/50 [15:02<00:00, 18.05s/it]\n",
            " 10%|█         | 2/20 [21:56<3:30:23, 701.30s/it]\n",
            "  0%|          | 0/50 [00:00<?, ?it/s]\u001b[Abatch_size = 200 ,learning_rate = 0.001, weight_decay = 0.2 \n",
            "\n",
            "  2%|▏         | 1/50 [00:17<14:23, 17.62s/it]\u001b[A\n",
            "  4%|▍         | 2/50 [00:34<13:39, 17.08s/it]\u001b[A\n",
            "  6%|▌         | 3/50 [00:51<13:21, 17.06s/it]\u001b[A\n",
            "  8%|▊         | 4/50 [01:08<13:05, 17.08s/it]\u001b[A\n",
            " 10%|█         | 5/50 [01:26<13:00, 17.35s/it]\u001b[A\n",
            " 12%|█▏        | 6/50 [01:44<12:54, 17.60s/it]\u001b[A\n",
            " 14%|█▍        | 7/50 [02:02<12:40, 17.68s/it]\u001b[A\n",
            " 16%|█▌        | 8/50 [02:19<12:20, 17.63s/it]\u001b[A\n",
            " 18%|█▊        | 9/50 [02:37<12:04, 17.66s/it]\u001b[A\n",
            " 20%|██        | 10/50 [02:55<11:48, 17.72s/it]\u001b[A\n",
            " 22%|██▏       | 11/50 [03:13<11:38, 17.92s/it]\u001b[A\n",
            " 24%|██▍       | 12/50 [03:32<11:25, 18.04s/it]\u001b[A\n",
            " 26%|██▌       | 13/50 [03:49<11:02, 17.90s/it]\u001b[A\n",
            " 28%|██▊       | 14/50 [04:07<10:42, 17.85s/it]\u001b[A\n",
            " 30%|███       | 15/50 [04:24<10:21, 17.75s/it]\u001b[A\n",
            " 32%|███▏      | 16/50 [04:43<10:11, 17.99s/it]\u001b[A\n",
            " 34%|███▍      | 17/50 [05:01<09:54, 18.01s/it]\u001b[A\n",
            " 36%|███▌      | 18/50 [05:36<09:58, 18.70s/it]\n",
            " 15%|█▌        | 3/20 [27:32<2:31:31, 534.80s/it]\n",
            "  0%|          | 0/50 [00:00<?, ?it/s]\u001b[AEarly Stop Activated...\n",
            "epoch= 18, best_epoch = 47, curr_score = 0.09971914079865313, best_score = 0.11631584243792473,Stop_Step = 21\n",
            "batch_size = 50 ,learning_rate = 1e-07, weight_decay = 0.0 \n",
            "\n",
            "  2%|▏         | 1/50 [00:17<14:18, 17.51s/it]\u001b[A\n",
            "  4%|▍         | 2/50 [00:34<13:44, 17.19s/it]\u001b[A\n",
            "  6%|▌         | 3/50 [00:52<13:36, 17.38s/it]\u001b[A\n",
            "  8%|▊         | 4/50 [01:09<13:23, 17.46s/it]\u001b[A\n",
            " 10%|█         | 5/50 [01:27<13:09, 17.54s/it]\u001b[A\n",
            " 12%|█▏        | 6/50 [01:45<12:59, 17.70s/it]\u001b[A\n",
            " 14%|█▍        | 7/50 [02:02<12:39, 17.66s/it]\u001b[A\n",
            " 16%|█▌        | 8/50 [02:20<12:24, 17.73s/it]\u001b[A\n",
            " 18%|█▊        | 9/50 [02:39<12:13, 17.89s/it]\u001b[A\n",
            " 20%|██        | 10/50 [02:56<11:49, 17.74s/it]\u001b[A\n",
            " 22%|██▏       | 11/50 [03:14<11:33, 17.78s/it]\u001b[A\n",
            " 24%|██▍       | 12/50 [03:32<11:17, 17.83s/it]\u001b[A\n",
            " 26%|██▌       | 13/50 [03:49<10:53, 17.66s/it]\u001b[A\n",
            " 28%|██▊       | 14/50 [04:07<10:34, 17.64s/it]\u001b[A\n",
            " 30%|███       | 15/50 [04:24<10:18, 17.66s/it]\u001b[A\n",
            " 32%|███▏      | 16/50 [04:42<09:56, 17.55s/it]\u001b[A\n",
            " 34%|███▍      | 17/50 [04:59<09:39, 17.55s/it]\u001b[A\n",
            " 36%|███▌      | 18/50 [05:16<09:13, 17.31s/it]\u001b[A\n",
            " 38%|███▊      | 19/50 [05:34<08:59, 17.41s/it]\u001b[A\n",
            " 40%|████      | 20/50 [06:09<09:14, 18.48s/it]\n",
            " 20%|██        | 4/20 [33:42<2:05:13, 469.61s/it]\n",
            "  0%|          | 0/50 [00:00<?, ?it/s]\u001b[AEarly Stop Activated...\n",
            "epoch= 20, best_epoch = 47, curr_score = 0.09993132219500728, best_score = 0.11631584243792473,Stop_Step = 21\n",
            "batch_size = 500 ,learning_rate = 1e-05, weight_decay = 0.0 \n",
            "\n",
            "  2%|▏         | 1/50 [00:17<14:26, 17.68s/it]\u001b[A\n",
            "  4%|▍         | 2/50 [00:35<14:25, 18.03s/it]\u001b[A\n",
            "  6%|▌         | 3/50 [00:53<14:07, 18.03s/it]\u001b[A\n",
            "  8%|▊         | 4/50 [01:11<13:34, 17.72s/it]\u001b[A\n",
            " 10%|█         | 5/50 [01:28<13:07, 17.49s/it]\u001b[A\n",
            " 12%|█▏        | 6/50 [01:45<12:44, 17.37s/it]\u001b[A\n",
            " 14%|█▍        | 7/50 [02:02<12:23, 17.30s/it]\u001b[A\n",
            " 16%|█▌        | 8/50 [02:19<12:02, 17.21s/it]\u001b[A\n",
            " 18%|█▊        | 9/50 [02:36<11:45, 17.21s/it]\u001b[A\n",
            " 20%|██        | 10/50 [02:53<11:25, 17.14s/it]\u001b[A\n",
            " 22%|██▏       | 11/50 [03:10<11:08, 17.14s/it]\u001b[A\n",
            " 24%|██▍       | 12/50 [03:28<11:00, 17.37s/it]\u001b[A\n",
            " 26%|██▌       | 13/50 [03:46<10:40, 17.30s/it]\u001b[A\n",
            " 28%|██▊       | 14/50 [04:03<10:29, 17.49s/it]\u001b[A\n",
            " 30%|███       | 15/50 [04:22<10:21, 17.76s/it]\u001b[A\n",
            " 32%|███▏      | 16/50 [04:40<10:07, 17.88s/it]\u001b[A\n",
            " 34%|███▍      | 17/50 [04:58<09:51, 17.91s/it]\u001b[A\n",
            " 36%|███▌      | 18/50 [05:16<09:31, 17.86s/it]\u001b[A\n",
            " 38%|███▊      | 19/50 [05:33<09:09, 17.74s/it]\u001b[A\n",
            " 40%|████      | 20/50 [06:09<09:14, 18.47s/it]\n",
            " 25%|██▌       | 5/20 [39:51<1:48:21, 433.46s/it]\n",
            "  0%|          | 0/50 [00:00<?, ?it/s]\u001b[AEarly Stop Activated...\n",
            "epoch= 20, best_epoch = 47, curr_score = 0.10872015964811074, best_score = 0.11631584243792473,Stop_Step = 21\n",
            "batch_size = 100 ,learning_rate = 1e-07, weight_decay = 0.0 \n",
            "\n",
            "  2%|▏         | 1/50 [00:17<14:12, 17.41s/it]\u001b[A\n",
            "  4%|▍         | 2/50 [00:36<14:30, 18.14s/it]\u001b[A\n",
            "  6%|▌         | 3/50 [00:53<13:52, 17.71s/it]\u001b[A\n",
            "  8%|▊         | 4/50 [01:11<13:38, 17.78s/it]\u001b[A\n",
            " 10%|█         | 5/50 [01:28<13:16, 17.70s/it]\u001b[A\n",
            " 12%|█▏        | 6/50 [01:46<12:53, 17.58s/it]\u001b[A\n",
            " 14%|█▍        | 7/50 [02:03<12:40, 17.68s/it]\u001b[A\n",
            " 16%|█▌        | 8/50 [02:21<12:19, 17.61s/it]\u001b[A\n",
            " 18%|█▊        | 9/50 [02:38<11:55, 17.44s/it]\u001b[A\n",
            " 20%|██        | 10/50 [02:56<11:46, 17.66s/it]\u001b[A\n",
            " 22%|██▏       | 11/50 [03:13<11:16, 17.35s/it]\u001b[A\n",
            " 24%|██▍       | 12/50 [03:30<11:00, 17.39s/it]\u001b[A\n",
            " 26%|██▌       | 13/50 [03:47<10:39, 17.30s/it]\u001b[A\n",
            " 28%|██▊       | 14/50 [04:05<10:22, 17.29s/it]\u001b[A\n",
            " 30%|███       | 15/50 [04:22<10:01, 17.20s/it]\u001b[A\n",
            " 32%|███▏      | 16/50 [04:39<09:50, 17.37s/it]\u001b[A\n",
            " 34%|███▍      | 17/50 [04:57<09:34, 17.40s/it]\u001b[A\n",
            " 36%|███▌      | 18/50 [05:14<09:19, 17.47s/it]\u001b[A\n",
            " 38%|███▊      | 19/50 [05:32<09:02, 17.48s/it]\u001b[A\n",
            " 40%|████      | 20/50 [06:07<09:11, 18.40s/it]\n",
            " 30%|███       | 6/20 [45:59<1:35:56, 411.20s/it]\n",
            "  0%|          | 0/50 [00:00<?, ?it/s]\u001b[AEarly Stop Activated...\n",
            "epoch= 20, best_epoch = 47, curr_score = 0.10866184010874658, best_score = 0.11631584243792473,Stop_Step = 21\n",
            "batch_size = 50 ,learning_rate = 1e-05, weight_decay = 0.1 \n",
            "\n",
            "  2%|▏         | 1/50 [00:17<14:26, 17.67s/it]\u001b[A\n",
            "  4%|▍         | 2/50 [00:35<14:18, 17.88s/it]\u001b[A\n",
            "  6%|▌         | 3/50 [00:53<13:59, 17.86s/it]\u001b[A\n",
            "  8%|▊         | 4/50 [01:11<13:37, 17.77s/it]\u001b[A\n",
            " 10%|█         | 5/50 [01:43<15:28, 20.63s/it]\n",
            " 30%|███       | 6/20 [47:43<1:51:20, 477.19s/it]\n"
          ]
        },
        {
          "output_type": "error",
          "ename": "KeyboardInterrupt",
          "evalue": "",
          "traceback": [
            "\u001b[0;31m---------------------------------------------------------------------------\u001b[0m",
            "\u001b[0;31mKeyboardInterrupt\u001b[0m                         Traceback (most recent call last)",
            "\u001b[0;32m<ipython-input-52-6c659e263879>\u001b[0m in \u001b[0;36m<module>\u001b[0;34m\u001b[0m\n\u001b[1;32m      4\u001b[0m \u001b[0mconstant_anneal\u001b[0m \u001b[0;34m=\u001b[0m \u001b[0;32mFalse\u001b[0m\u001b[0;34m\u001b[0m\u001b[0;34m\u001b[0m\u001b[0m\n\u001b[1;32m      5\u001b[0m \u001b[0mpatience\u001b[0m \u001b[0;34m=\u001b[0m \u001b[0;36m20\u001b[0m\u001b[0;34m\u001b[0m\u001b[0;34m\u001b[0m\u001b[0m\n\u001b[0;32m----> 6\u001b[0;31m \u001b[0mbestModelInfo\u001b[0m \u001b[0;34m=\u001b[0m \u001b[0mTuning\u001b[0m\u001b[0;34m(\u001b[0m\u001b[0mVAEmodel\u001b[0m\u001b[0;34m,\u001b[0m\u001b[0mTrainDF_RatMat\u001b[0m\u001b[0;34m,\u001b[0m\u001b[0mValidTrain_RatMat\u001b[0m\u001b[0;34m,\u001b[0m\u001b[0mValidTest_RatMat\u001b[0m\u001b[0;34m,\u001b[0m\u001b[0mals_param_grid\u001b[0m\u001b[0;34m,\u001b[0m\u001b[0;36m50\u001b[0m\u001b[0;34m,\u001b[0m\u001b[0;34m\"AMZGVAE_2\"\u001b[0m\u001b[0;34m,\u001b[0m\u001b[0msave_results\u001b[0m\u001b[0;34m=\u001b[0m \u001b[0;32mTrue\u001b[0m\u001b[0;34m)\u001b[0m\u001b[0;34m\u001b[0m\u001b[0;34m\u001b[0m\u001b[0m\n\u001b[0m",
            "\u001b[0;32m<ipython-input-50-ab649992cae3>\u001b[0m in \u001b[0;36mTuning\u001b[0;34m(model, train_set, validtrain_set, validtest_set, als_param_grid, n_epochs, model_name, save_results)\u001b[0m\n\u001b[1;32m     12\u001b[0m         \u001b[0;32mfor\u001b[0m \u001b[0mepoch\u001b[0m \u001b[0;32min\u001b[0m \u001b[0mtrange\u001b[0m\u001b[0;34m(\u001b[0m\u001b[0mn_epochs\u001b[0m\u001b[0;34m)\u001b[0m\u001b[0;34m:\u001b[0m\u001b[0;34m\u001b[0m\u001b[0;34m\u001b[0m\u001b[0m\n\u001b[1;32m     13\u001b[0m             \u001b[0mtrain_step_2\u001b[0m\u001b[0;34m(\u001b[0m\u001b[0mmodel_2\u001b[0m\u001b[0;34m,\u001b[0m \u001b[0mOptimizer_\u001b[0m\u001b[0;34m,\u001b[0m \u001b[0mtrain_set\u001b[0m\u001b[0;34m,\u001b[0m\u001b[0mtotal_anneal_steps\u001b[0m\u001b[0;34m,\u001b[0m\u001b[0mepoch\u001b[0m\u001b[0;34m)\u001b[0m\u001b[0;34m\u001b[0m\u001b[0;34m\u001b[0m\u001b[0m\n\u001b[0;32m---> 14\u001b[0;31m             \u001b[0mval_loss\u001b[0m\u001b[0;34m,\u001b[0m \u001b[0mcurr_score\u001b[0m \u001b[0;34m=\u001b[0m \u001b[0meval_step_2\u001b[0m\u001b[0;34m(\u001b[0m\u001b[0mmodel_2\u001b[0m\u001b[0;34m,\u001b[0m\u001b[0mvalidtrain_set\u001b[0m\u001b[0;34m,\u001b[0m\u001b[0mvalidtest_set\u001b[0m\u001b[0;34m)\u001b[0m\u001b[0;34m\u001b[0m\u001b[0;34m\u001b[0m\u001b[0m\n\u001b[0m\u001b[1;32m     15\u001b[0m             \u001b[0mstop_step\u001b[0m \u001b[0;34m=\u001b[0m \u001b[0mstop_step\u001b[0m \u001b[0;34m+\u001b[0m \u001b[0;36m1\u001b[0m\u001b[0;34m\u001b[0m\u001b[0;34m\u001b[0m\u001b[0m\n\u001b[1;32m     16\u001b[0m \u001b[0;34m\u001b[0m\u001b[0m\n",
            "\u001b[0;32m<ipython-input-48-146e0b9ec7e9>\u001b[0m in \u001b[0;36meval_step_2\u001b[0;34m(model, data_tr, data_te)\u001b[0m\n\u001b[1;32m     50\u001b[0m              \u001b[0mX_out\u001b[0m\u001b[0;34m[\u001b[0m\u001b[0mX_tr\u001b[0m\u001b[0;34m.\u001b[0m\u001b[0mnonzero\u001b[0m\u001b[0;34m(\u001b[0m\u001b[0;34m)\u001b[0m\u001b[0;34m]\u001b[0m \u001b[0;34m=\u001b[0m \u001b[0;34m-\u001b[0m\u001b[0mnp\u001b[0m\u001b[0;34m.\u001b[0m\u001b[0minf\u001b[0m\u001b[0;34m\u001b[0m\u001b[0;34m\u001b[0m\u001b[0m\n\u001b[1;32m     51\u001b[0m \u001b[0;34m\u001b[0m\u001b[0m\n\u001b[0;32m---> 52\u001b[0;31m              \u001b[0mn100\u001b[0m \u001b[0;34m=\u001b[0m \u001b[0mNDCG_binary_at_k_batch\u001b[0m\u001b[0;34m(\u001b[0m\u001b[0mX_out\u001b[0m\u001b[0;34m,\u001b[0m \u001b[0mX_te\u001b[0m\u001b[0;34m,\u001b[0m \u001b[0mk\u001b[0m\u001b[0;34m=\u001b[0m\u001b[0;36m100\u001b[0m\u001b[0;34m)\u001b[0m\u001b[0;34m\u001b[0m\u001b[0;34m\u001b[0m\u001b[0m\n\u001b[0m\u001b[1;32m     53\u001b[0m              \u001b[0mn100_list\u001b[0m\u001b[0;34m.\u001b[0m\u001b[0mappend\u001b[0m\u001b[0;34m(\u001b[0m\u001b[0mn100\u001b[0m\u001b[0;34m)\u001b[0m\u001b[0;34m\u001b[0m\u001b[0;34m\u001b[0m\u001b[0m\n\u001b[1;32m     54\u001b[0m          \u001b[0mn100_list\u001b[0m \u001b[0;34m=\u001b[0m \u001b[0mnp\u001b[0m\u001b[0;34m.\u001b[0m\u001b[0mconcatenate\u001b[0m\u001b[0;34m(\u001b[0m\u001b[0mn100_list\u001b[0m\u001b[0;34m)\u001b[0m\u001b[0;34m\u001b[0m\u001b[0;34m\u001b[0m\u001b[0m\n",
            "\u001b[0;32m<ipython-input-18-95a14933d431>\u001b[0m in \u001b[0;36mNDCG_binary_at_k_batch\u001b[0;34m(X_pred, heldout_batch, k)\u001b[0m\n\u001b[1;32m     59\u001b[0m \u001b[0;32mdef\u001b[0m \u001b[0mNDCG_binary_at_k_batch\u001b[0m\u001b[0;34m(\u001b[0m\u001b[0mX_pred\u001b[0m\u001b[0;34m,\u001b[0m \u001b[0mheldout_batch\u001b[0m\u001b[0;34m,\u001b[0m \u001b[0mk\u001b[0m\u001b[0;34m=\u001b[0m\u001b[0;36m100\u001b[0m\u001b[0;34m)\u001b[0m\u001b[0;34m:\u001b[0m\u001b[0;34m\u001b[0m\u001b[0;34m\u001b[0m\u001b[0m\n\u001b[1;32m     60\u001b[0m     \u001b[0mbatch_users\u001b[0m \u001b[0;34m=\u001b[0m \u001b[0mX_pred\u001b[0m\u001b[0;34m.\u001b[0m\u001b[0mshape\u001b[0m\u001b[0;34m[\u001b[0m\u001b[0;36m0\u001b[0m\u001b[0;34m]\u001b[0m\u001b[0;34m\u001b[0m\u001b[0;34m\u001b[0m\u001b[0m\n\u001b[0;32m---> 61\u001b[0;31m     \u001b[0midx_topk_part\u001b[0m \u001b[0;34m=\u001b[0m \u001b[0mbn\u001b[0m\u001b[0;34m.\u001b[0m\u001b[0margpartition\u001b[0m\u001b[0;34m(\u001b[0m\u001b[0;34m-\u001b[0m\u001b[0mX_pred\u001b[0m\u001b[0;34m,\u001b[0m \u001b[0mk\u001b[0m\u001b[0;34m,\u001b[0m \u001b[0maxis\u001b[0m\u001b[0;34m=\u001b[0m\u001b[0;36m1\u001b[0m\u001b[0;34m)\u001b[0m\u001b[0;34m\u001b[0m\u001b[0;34m\u001b[0m\u001b[0m\n\u001b[0m\u001b[1;32m     62\u001b[0m     \u001b[0mtopk_part\u001b[0m \u001b[0;34m=\u001b[0m \u001b[0mX_pred\u001b[0m\u001b[0;34m[\u001b[0m\u001b[0mnp\u001b[0m\u001b[0;34m.\u001b[0m\u001b[0marange\u001b[0m\u001b[0;34m(\u001b[0m\u001b[0mbatch_users\u001b[0m\u001b[0;34m)\u001b[0m\u001b[0;34m[\u001b[0m\u001b[0;34m:\u001b[0m\u001b[0;34m,\u001b[0m \u001b[0mnp\u001b[0m\u001b[0;34m.\u001b[0m\u001b[0mnewaxis\u001b[0m\u001b[0;34m]\u001b[0m\u001b[0;34m,\u001b[0m \u001b[0midx_topk_part\u001b[0m\u001b[0;34m[\u001b[0m\u001b[0;34m:\u001b[0m\u001b[0;34m,\u001b[0m \u001b[0;34m:\u001b[0m\u001b[0mk\u001b[0m\u001b[0;34m]\u001b[0m\u001b[0;34m]\u001b[0m\u001b[0;34m\u001b[0m\u001b[0;34m\u001b[0m\u001b[0m\n\u001b[1;32m     63\u001b[0m     \u001b[0midx_part\u001b[0m \u001b[0;34m=\u001b[0m \u001b[0mnp\u001b[0m\u001b[0;34m.\u001b[0m\u001b[0margsort\u001b[0m\u001b[0;34m(\u001b[0m\u001b[0;34m-\u001b[0m\u001b[0mtopk_part\u001b[0m\u001b[0;34m,\u001b[0m \u001b[0maxis\u001b[0m\u001b[0;34m=\u001b[0m\u001b[0;36m1\u001b[0m\u001b[0;34m)\u001b[0m\u001b[0;34m\u001b[0m\u001b[0;34m\u001b[0m\u001b[0m\n",
            "\u001b[0;31mKeyboardInterrupt\u001b[0m: "
          ]
        }
      ]
    },
    {
      "cell_type": "code",
      "metadata": {
        "id": "rjaXHu818NId"
      },
      "source": [
        "# Run on test data with best model\n",
        "#model.load_state_dict(torch.load(model_name + \".pt\")))\n",
        "VAEmodel.load_state_dict(torch.load('AMZGVAE_2.pth'))\n",
        "test_loss,tst_ndgc100_ = eval_step_2(VAEmodel,TestTrain_RatMat,TestTest_RatMat)\n",
        "tst_ndgc100_"
      ],
      "execution_count": 54,
      "outputs": [
        {
          "output_type": "execute_result",
          "data": {
            "text/plain": [
              "0.1126028189297491"
            ]
          },
          "metadata": {},
          "execution_count": 54
        }
      ]
    },
    {
      "cell_type": "code",
      "metadata": {
        "id": "jUhco3_H8NIe",
        "outputId": "3f0dbb72-283d-45f0-a724-d2f183a91259"
      },
      "source": [
        "print(\"batch_size     :\",300)\n",
        "print(\"learning_rate  :\",1e-05)\n",
        "print(\"weight_decay   :\",0.2)\n",
        "print(\"best_NGCG100   :\", 0.11631584243792473)        \n",
        "#print(\"best_epoch      :\",best_epoch)"
      ],
      "execution_count": 57,
      "outputs": [
        {
          "output_type": "stream",
          "name": "stdout",
          "text": [
            "batch_size     : 300\nlearning_rate  : 1e-05\nweight_decay   : 0.2\nbest_NGCG100   : 0.11631584243792473\n"
          ]
        }
      ]
    },
    {
      "cell_type": "code",
      "metadata": {
        "id": "9ZYnQrEQ8NIh"
      },
      "source": [],
      "execution_count": null,
      "outputs": []
    },
    {
      "cell_type": "code",
      "metadata": {
        "id": "xktq667i8NIj"
      },
      "source": [
        "##P_Dimension Tuning"
      ],
      "execution_count": null,
      "outputs": []
    },
    {
      "cell_type": "code",
      "metadata": {
        "id": "mdA-9UIu8NIk"
      },
      "source": [
        "def getVAEModel(n_items,p_dims):\n",
        "    I = n_items    #I is the total number of items in the train date\n",
        "    q_Dims = [I] + p_dims[::-1]\n",
        "    P_Dims = p_dims + [I]\n",
        "    dropout_enc = [0.5, 0.]\n",
        "    dropout_dec = [0., 0]\n",
        "\n",
        "    VAEmodel = MultiVAE(P_Dims,q_Dims,dropout_enc,dropout_dec)\n",
        "    init_weights(VAEmodel)\n",
        "    VAEmodel.to(device)\n",
        "    return VAEmodel\n",
        "\n",
        "\n",
        "def P_dimsTuning(train_set,validtrain_set,validtest_set,n_items,p_dimsList,model_name,n_epochs,save_results= True):\n",
        "    update_count = 0\n",
        "    best_score = 0     ##based on MetricEval..\n",
        "    stop_step = 0\n",
        "    patience_epoch = 20\n",
        "    total_anneal_steps = getTot_annealSTeps(train_set,batch_size,n_epochs,anneal_cap)\n",
        "    for p_dims in tqdm(p_dimsList):\n",
        "        print(\"P_Dimensions: \",p_dims)\n",
        "        model_ = getVAEModel(n_items,p_dims) \n",
        "        Optimizer_ = torch.optim.AdamW(model_.parameters(), lr=lr_, weight_decay=weightdecay_)\n",
        "        for epoch in range(n_epochs):            \n",
        "            train_step_2(model_, Optimizer_, train_set,total_anneal_steps,epoch)\n",
        "            val_loss, NDCG100_ = eval_step_2(model_,validtrain_set,validtest_set)\n",
        "            curr_score = NDCG100_\n",
        "            stop_step = stop_step + 1\n",
        "\n",
        "            if (curr_score > best_score) & (save_results):\n",
        "               best_epoch = epoch\n",
        "               best_dims = p_dims\n",
        "               best_score = curr_score\n",
        "               torch.save(model_.state_dict(),model_name+\".pth\")\n",
        "               stop_step = 0\n",
        "               print('best_NGCG = {}, best_epoch = {}'.format(best_score,best_epoch))\n",
        "\n",
        "\n",
        "            if (stop_step > patience):\n",
        "                print(\"Early Stop Activated...\")\n",
        "                print('epoch= {}, best_epoch = {}, curr_score = {}, best_score = {},Stop_Step = {}'.format(epoch,best_epoch,curr_score,best_score,stop_step))\n",
        "                stop_step = 0\n",
        "                break\n",
        "\n",
        "    print('\\n Best parameters; Best_dims= {}, Best_NDCG100 = {}, Best_epoch = {}'.format(best_dims,best_score,best_epoch))\n",
        "    return best_score, best_dims, best_epoch  "
      ],
      "execution_count": 86,
      "outputs": []
    },
    {
      "cell_type": "code",
      "metadata": {
        "id": "ud_Hz3U78NIl",
        "outputId": "4835d083-272d-4927-fb55-0a60d8dc730e"
      },
      "source": [
        "anneal_epochs = None  \n",
        "anneal_cap = 0.2\n",
        "constant_anneal = False\n",
        "update_count = 0\n",
        "batch_size=200\n",
        "lr_=1e-5\n",
        "weightdecay_=0.2\n",
        "n_items = len(train_Items) \n",
        "p_dimsList  = [[32,64],[64,128],[256,512],[100,300],[200,600],[300,900]]\n",
        "\n",
        "\n",
        "best_ModelInfo2 = P_dimsTuning(TrainDF_RatMat,ValidTrain_RatMat,ValidTest_RatMat,n_items,p_dimsList,\"AMZGmz_DimModel\",n_epochs=50,save_results= True)"
      ],
      "execution_count": 85,
      "outputs": [
        {
          "output_type": "stream",
          "name": "stderr",
          "text": [
            "  0%|          | 0/6 [00:00<?, ?it/s]P_Dimensions:  [32, 64]\n",
            "best_NGCG = 0.004512107970191858, best_epoch = 0\n",
            "best_NGCG = 0.008262346267688401, best_epoch = 1\n",
            "best_NGCG = 0.010896885028696141, best_epoch = 2\n",
            "best_NGCG = 0.012613479919410774, best_epoch = 3\n",
            "best_NGCG = 0.01403577132607424, best_epoch = 4\n",
            "best_NGCG = 0.01475274614343334, best_epoch = 5\n",
            "best_NGCG = 0.015615465233999391, best_epoch = 6\n",
            "best_NGCG = 0.01620494853727642, best_epoch = 7\n",
            "best_NGCG = 0.01665866770632762, best_epoch = 8\n",
            "best_NGCG = 0.01674098052166523, best_epoch = 9\n",
            "best_NGCG = 0.017091835680260334, best_epoch = 10\n",
            "best_NGCG = 0.017272355551979982, best_epoch = 11\n",
            "best_NGCG = 0.01750127941562805, best_epoch = 12\n",
            "best_NGCG = 0.017521952352648883, best_epoch = 13\n",
            "best_NGCG = 0.017560629811112723, best_epoch = 14\n",
            "best_NGCG = 0.017630346563536806, best_epoch = 16\n",
            "best_NGCG = 0.017783248351527586, best_epoch = 17\n",
            "best_NGCG = 0.017797832444441435, best_epoch = 18\n",
            "best_NGCG = 0.017968853585443437, best_epoch = 22\n",
            "best_NGCG = 0.017970388232227578, best_epoch = 23\n",
            "best_NGCG = 0.018111580132057756, best_epoch = 24\n",
            "best_NGCG = 0.018278593237886463, best_epoch = 25\n",
            "best_NGCG = 0.018451542978402072, best_epoch = 27\n",
            "best_NGCG = 0.018628275017819957, best_epoch = 28\n",
            "best_NGCG = 0.018733125188953745, best_epoch = 29\n",
            "best_NGCG = 0.019114182209298277, best_epoch = 30\n",
            "best_NGCG = 0.019162429479991586, best_epoch = 31\n",
            "best_NGCG = 0.019299036309514947, best_epoch = 32\n",
            "best_NGCG = 0.01936341021531719, best_epoch = 33\n",
            "best_NGCG = 0.019464446949405485, best_epoch = 34\n",
            "best_NGCG = 0.019659436168182495, best_epoch = 35\n",
            "best_NGCG = 0.019850130697711812, best_epoch = 36\n",
            "best_NGCG = 0.019976625121772656, best_epoch = 37\n",
            "best_NGCG = 0.020230468767931935, best_epoch = 38\n",
            "best_NGCG = 0.02023737628202848, best_epoch = 39\n",
            "best_NGCG = 0.020360742720091377, best_epoch = 40\n",
            "best_NGCG = 0.020400799037644905, best_epoch = 41\n",
            "best_NGCG = 0.020599756794261785, best_epoch = 42\n",
            "best_NGCG = 0.02077299950108286, best_epoch = 44\n",
            "best_NGCG = 0.020945059209899957, best_epoch = 45\n",
            "best_NGCG = 0.020962432436612128, best_epoch = 46\n",
            "best_NGCG = 0.021099875051188363, best_epoch = 47\n",
            "best_NGCG = 0.02116825756048481, best_epoch = 48\n",
            " 17%|█▋        | 1/6 [09:35<47:57, 575.57s/it]best_NGCG = 0.02129700046959968, best_epoch = 49\n",
            "P_Dimensions:  [64, 128]\n",
            "best_NGCG = 0.02140500982592109, best_epoch = 14\n",
            "best_NGCG = 0.021530609117846603, best_epoch = 15\n",
            "best_NGCG = 0.021635993676060238, best_epoch = 16\n",
            "best_NGCG = 0.02211402973369854, best_epoch = 17\n",
            "best_NGCG = 0.022149872023274553, best_epoch = 18\n",
            "best_NGCG = 0.022274530958857962, best_epoch = 19\n",
            "best_NGCG = 0.02239069478984187, best_epoch = 25\n",
            "best_NGCG = 0.022476862106361337, best_epoch = 27\n",
            "best_NGCG = 0.022668552343122057, best_epoch = 28\n",
            "best_NGCG = 0.022718737172179447, best_epoch = 29\n",
            "best_NGCG = 0.022719808834113567, best_epoch = 31\n",
            "best_NGCG = 0.022854432243631054, best_epoch = 43\n",
            " 33%|███▎      | 2/6 [19:19<38:42, 580.60s/it]P_Dimensions:  [256, 512]\n",
            " 50%|█████     | 3/6 [22:35<20:14, 404.88s/it]Early Stop Activated...\n",
            "epoch= 14, best_epoch = 43, curr_score = 0.021660158993769503, best_score = 0.022854432243631054,Stop_Step = 21\n",
            "P_Dimensions:  [100, 300]\n",
            " 67%|██████▋   | 4/6 [26:41<11:24, 342.12s/it]Early Stop Activated...\n",
            "epoch= 20, best_epoch = 43, curr_score = 0.020140246635352438, best_score = 0.022854432243631054,Stop_Step = 21\n",
            "P_Dimensions:  [200, 600]\n",
            "best_NGCG = 0.022862197724670814, best_epoch = 12\n",
            "best_NGCG = 0.022933778878996648, best_epoch = 13\n",
            "best_NGCG = 0.023186525195636264, best_epoch = 14\n",
            "best_NGCG = 0.02330425247667543, best_epoch = 15\n",
            " 83%|████████▎ | 5/6 [34:27<06:27, 387.02s/it]Early Stop Activated...\n",
            "epoch= 36, best_epoch = 15, curr_score = 0.021899327593737906, best_score = 0.02330425247667543,Stop_Step = 21\n",
            "P_Dimensions:  [300, 900]\n",
            "best_NGCG = 0.02350032122373614, best_epoch = 13\n",
            "best_NGCG = 0.02384084661952264, best_epoch = 15\n",
            "100%|██████████| 6/6 [42:45<00:00, 427.54s/it]Early Stop Activated...\n",
            "epoch= 36, best_epoch = 15, curr_score = 0.021201094557752417, best_score = 0.02384084661952264,Stop_Step = 21\n",
            "\n"
          ]
        },
        {
          "output_type": "error",
          "ename": "NameError",
          "evalue": "name 'best_NGCG100' is not defined",
          "traceback": [
            "\u001b[0;31m---------------------------------------------------------------------------\u001b[0m",
            "\u001b[0;31mNameError\u001b[0m                                 Traceback (most recent call last)",
            "\u001b[0;32m<ipython-input-85-242a4280da25>\u001b[0m in \u001b[0;36m<module>\u001b[0;34m\u001b[0m\n\u001b[1;32m     10\u001b[0m \u001b[0;34m\u001b[0m\u001b[0m\n\u001b[1;32m     11\u001b[0m \u001b[0;34m\u001b[0m\u001b[0m\n\u001b[0;32m---> 12\u001b[0;31m \u001b[0mbest_ModelInfo2\u001b[0m \u001b[0;34m=\u001b[0m \u001b[0mP_dimsTuning\u001b[0m\u001b[0;34m(\u001b[0m\u001b[0mTrainDF_RatMat\u001b[0m\u001b[0;34m,\u001b[0m\u001b[0mValidTrain_RatMat\u001b[0m\u001b[0;34m,\u001b[0m\u001b[0mValidTest_RatMat\u001b[0m\u001b[0;34m,\u001b[0m\u001b[0mn_items\u001b[0m\u001b[0;34m,\u001b[0m\u001b[0mp_dimsList\u001b[0m\u001b[0;34m,\u001b[0m\u001b[0;34m\"AMZGmz_DimModel\"\u001b[0m\u001b[0;34m,\u001b[0m\u001b[0mn_epochs\u001b[0m\u001b[0;34m=\u001b[0m\u001b[0;36m50\u001b[0m\u001b[0;34m,\u001b[0m\u001b[0msave_results\u001b[0m\u001b[0;34m=\u001b[0m \u001b[0;32mTrue\u001b[0m\u001b[0;34m)\u001b[0m\u001b[0;34m\u001b[0m\u001b[0;34m\u001b[0m\u001b[0m\n\u001b[0m",
            "\u001b[0;32m<ipython-input-84-5e142730455f>\u001b[0m in \u001b[0;36mP_dimsTuning\u001b[0;34m(train_set, validtrain_set, validtest_set, n_items, p_dimsList, model_name, n_epochs, save_results)\u001b[0m\n\u001b[1;32m     43\u001b[0m                 \u001b[0;32mbreak\u001b[0m\u001b[0;34m\u001b[0m\u001b[0;34m\u001b[0m\u001b[0m\n\u001b[1;32m     44\u001b[0m \u001b[0;34m\u001b[0m\u001b[0m\n\u001b[0;32m---> 45\u001b[0;31m     \u001b[0mprint\u001b[0m\u001b[0;34m(\u001b[0m\u001b[0;34m'\\n Best parameters; Best_dims= {}, Best_NDCG100 = {}, Best_epoch = {}'\u001b[0m\u001b[0;34m.\u001b[0m\u001b[0mformat\u001b[0m\u001b[0;34m(\u001b[0m\u001b[0mbest_dims\u001b[0m\u001b[0;34m,\u001b[0m\u001b[0mbest_NGCG100\u001b[0m\u001b[0;34m,\u001b[0m\u001b[0mbest_epoch\u001b[0m\u001b[0;34m)\u001b[0m\u001b[0;34m)\u001b[0m\u001b[0;34m\u001b[0m\u001b[0;34m\u001b[0m\u001b[0m\n\u001b[0m\u001b[1;32m     46\u001b[0m     \u001b[0;32mreturn\u001b[0m \u001b[0mbest_NGCG100\u001b[0m\u001b[0;34m,\u001b[0m\u001b[0mbest_dims\u001b[0m\u001b[0;34m,\u001b[0m\u001b[0mbest_epoch\u001b[0m\u001b[0;34m\u001b[0m\u001b[0;34m\u001b[0m\u001b[0m\n\u001b[1;32m     47\u001b[0m \u001b[0;34m\u001b[0m\u001b[0m\n",
            "\u001b[0;31mNameError\u001b[0m: name 'best_NGCG100' is not defined"
          ]
        }
      ]
    },
    {
      "cell_type": "code",
      "execution_count": null,
      "metadata": {},
      "outputs": [],
      "source": []
    },
    {
      "cell_type": "code",
      "metadata": {
        "id": "PHzoPkWm8NIo",
        "outputId": "e1e22973-6b26-4dbb-e90c-60692a8cdbaa"
      },
      "source": [
        "rows_i = newAMZGames_DF['Updated_UserID'].nunique()\n",
        "cols_i = newAMZGames_DF['Updated_ItemID'].nunique()\n",
        "UserItem_MATList = AllRatingMatrices(newUserItem_list,'Updated_UserID','Updated_ItemID',rows_i ,cols_i) \n",
        "print(len(UserItem_MATList))   \n",
        "UserItem_MATList"
      ],
      "execution_count": 64,
      "outputs": [
        {
          "output_type": "stream",
          "name": "stdout",
          "text": [
            "15\n"
          ]
        },
        {
          "output_type": "execute_result",
          "data": {
            "text/plain": [
              "[<39284x17318 sparse matrix of type '<class 'numpy.float64'>'\n",
              " \twith 250384 stored elements in Compressed Sparse Row format>,\n",
              " <39284x17318 sparse matrix of type '<class 'numpy.float64'>'\n",
              " \twith 255520 stored elements in Compressed Sparse Row format>,\n",
              " <39284x17318 sparse matrix of type '<class 'numpy.float64'>'\n",
              " \twith 261105 stored elements in Compressed Sparse Row format>,\n",
              " <39284x17318 sparse matrix of type '<class 'numpy.float64'>'\n",
              " \twith 266597 stored elements in Compressed Sparse Row format>,\n",
              " <39284x17318 sparse matrix of type '<class 'numpy.float64'>'\n",
              " \twith 272102 stored elements in Compressed Sparse Row format>,\n",
              " <39284x17318 sparse matrix of type '<class 'numpy.float64'>'\n",
              " \twith 277572 stored elements in Compressed Sparse Row format>,\n",
              " <39284x17318 sparse matrix of type '<class 'numpy.float64'>'\n",
              " \twith 282899 stored elements in Compressed Sparse Row format>,\n",
              " <39284x17318 sparse matrix of type '<class 'numpy.float64'>'\n",
              " \twith 288493 stored elements in Compressed Sparse Row format>,\n",
              " <39284x17318 sparse matrix of type '<class 'numpy.float64'>'\n",
              " \twith 294033 stored elements in Compressed Sparse Row format>,\n",
              " <39284x17318 sparse matrix of type '<class 'numpy.float64'>'\n",
              " \twith 299422 stored elements in Compressed Sparse Row format>,\n",
              " <39284x17318 sparse matrix of type '<class 'numpy.float64'>'\n",
              " \twith 304874 stored elements in Compressed Sparse Row format>,\n",
              " <39284x17318 sparse matrix of type '<class 'numpy.float64'>'\n",
              " \twith 310345 stored elements in Compressed Sparse Row format>,\n",
              " <39284x17318 sparse matrix of type '<class 'numpy.float64'>'\n",
              " \twith 315857 stored elements in Compressed Sparse Row format>,\n",
              " <39284x17318 sparse matrix of type '<class 'numpy.float64'>'\n",
              " \twith 321360 stored elements in Compressed Sparse Row format>,\n",
              " <39284x17318 sparse matrix of type '<class 'numpy.float64'>'\n",
              " \twith 326607 stored elements in Compressed Sparse Row format>]"
            ]
          },
          "metadata": {},
          "execution_count": 64
        }
      ]
    },
    {
      "cell_type": "code",
      "metadata": {
        "id": "sXvlZxKl8NIp"
      },
      "source": [
        "def Trainwith_Best(model,UserItem_TRset,best_BS,best_lr,best_wd):\n",
        "    total_anneal_steps = getTot_annealSTeps(UserItem_TRset,best_BS,anneal_n,anneal_cap)\n",
        "    Optimizer_ = torch.optim.AdamW(model.parameters(), lr=best_lr, weight_decay=best_wd)\n",
        "    for epoch in tqdm(range(bst_epochs)):            \n",
        "        train_step_2(model, Optimizer_, UserItem_TRset,total_anneal_steps,epoch)\n",
        "      \n",
        "    #torch.save(model.state_dict(),model_name+\".pth\")\n",
        "    return model\n",
        "\n",
        "def get_ModelOut(X_train,model):  #X_train== RatMat...\n",
        "    with torch.no_grad():\n",
        "         X_input = torch.FloatTensor(X_train.toarray()).to(device)\n",
        "         X_out, mu, logvar = model(X_input)\n",
        "         X_out = X_out.cpu().numpy()         #convert from tensor to numpy\n",
        "         X_out[X_train.nonzero()] = -np.inf  #Exclude examples from training set\n",
        "    return X_out\n",
        "\n",
        "\n",
        "def getVAE_TopNPred(X_out,k):   ##X_out == tensor output from model\n",
        "    batch_users = X_out.shape[0]\n",
        "    idx_topk_part = bn.argpartition(-X_out, k, axis=1)\n",
        "    topk_part = X_out[np.arange(batch_users)[:, np.newaxis], idx_topk_part[:, :k]]\n",
        "    idx_part = np.argsort(-topk_part, axis=1)\n",
        "    idx_topk = idx_topk_part[np.arange(batch_users)[:, np.newaxis], idx_part]\n",
        "    return idx_topk\n",
        "\n",
        "def getVAE_AllPred(model,UserItemList,best_BS,best_lr,best_wd,k=10):\n",
        "    ALLstep_Pred  = []\n",
        "    for UserItem_ in UserItemList:\n",
        "        Trainedmodel = Trainwith_Best(model,UserItem_,best_BS,best_lr,best_wd)\n",
        "        X_out = get_ModelOut(UserItem_,Trainedmodel)\n",
        "        topNPred = getVAE_TopNPred(X_out,k)   ##get prediction for all users..\n",
        "        ALLstep_Pred.append(topNPred)\n",
        "    return ALLstep_Pred\n",
        "\n",
        "\n",
        "def VAEHitrate_Eval_2(allPred,holdout,user_column,item_column):  ##N == Top_N\n",
        "    TestUsers = holdout[user_column]\n",
        "    HOLDOUT_pred = allPred[TestUsers,:] \n",
        "    Eval_itemsVector  = holdout[[item_column]].to_numpy()\n",
        "    HitRate_arr   =  (HOLDOUT_pred == Eval_itemsVector).sum(axis=1)  ##sum along row...\n",
        "    HitCount = np.count_nonzero(HitRate_arr == 1)\n",
        "    HitRate_ = HitRate_arr.mean()\n",
        "    print(\"Number of hits: \", HitCount)\n",
        "    print(\"Total Num of users: \",len(holdout[user_column]))\n",
        "    print(\"Recommendation HitRate: \",HitRate_)\n",
        "    return HitRate_\n",
        "\n",
        "def VAEHitrate_Eval(allPred,holdout,user_column,item_column):  ##N == Top_N\n",
        "    TestUsers = holdout[user_column]\n",
        "    HOLDOUT_pred = allPred[TestUsers,:] \n",
        "    Eval_itemsVector  = holdout[[item_column]].to_numpy()\n",
        "    HitRate_arr   =  (HOLDOUT_pred == Eval_itemsVector).sum(axis=1)  ##sum along row...\n",
        "    HitCount = np.count_nonzero(HitRate_arr == 1)\n",
        "    HitRate_ = HitRate_arr.mean()\n",
        "    return HitRate_\n",
        "\n",
        "def mean_confidence_interval(data, confidence=0.95):\n",
        "    a = 1.0 * np.array(data)\n",
        "    n = len(a)\n",
        "    mean, se = np.mean(a), st.sem(a)\n",
        "    h = se * scipy.stats.t.ppf((1 + confidence) / 2., n-1)\n",
        "    lower_band =  mean-h\n",
        "    upper_band =  mean+h\n",
        "    return lower_band, mean,upper_band                ##LowerBand || Mean || UpperBand\n",
        "\n",
        "\n",
        "\n",
        "def getAll_VAEHitRate(HOLDOUT_list,All_TOPN_PRED,user_column,item_column):\n",
        "    AllSteps_Hitrate = []\n",
        "    for holdout, allPred in zip(HOLDOUT_list,All_TOPN_PRED):                   \n",
        "        HitRate_ = VAEHitrate_Eval_2(allPred,holdout,user_column,item_column)\n",
        "        AllSteps_Hitrate.append(HitRate_)\n",
        "\n",
        "    LowerBand, Avg_HitRate, UpperBand  = mean_confidence_interval(AllSteps_Hitrate, confidence=0.95)\n",
        "    print(\"Average HitRate for All Recommendations: \", Avg_HitRate)\n",
        "    return AllSteps_Hitrate, LowerBand, Avg_HitRate, UpperBand    \n",
        "print(\"batch_size     :\",300)\n",
        "print(\"learning_rate  :\",1e-05)\n",
        "print(\"weight_decay   :\",0.2)"
      ],
      "execution_count": 68,
      "outputs": []
    },
    {
      "cell_type": "code",
      "metadata": {
        "id": "0VPXTRm48NIo",
        "outputId": "7afdc1d2-8005-4af7-ffa2-8bb57862e0da"
      },
      "source": [
        " I =  newAMZGames_DF['Updated_ItemID'].nunique()  #I is the total number of items in the train date\n",
        "q_dims = [I] + [600, 200]\n",
        "p_dims = [200, 600] + [I]\n",
        "dropout_enc = [0.5, 0.]\n",
        "dropout_dec = [0., 0.]\n",
        "\n",
        "                    #p_dims,q_dims,dropout_enc,dropout_dec\n",
        "VAEmodel_untrain = MultiVAE(p_dims,q_dims,dropout_enc,dropout_dec)\n",
        "init_weights(VAEmodel_untrain)\n",
        "VAEmodel_untrain.to(device)"
      ],
      "execution_count": 69,
      "outputs": [
        {
          "output_type": "execute_result",
          "data": {
            "text/plain": [
              "MultiVAE(\n",
              "  (encode): Encoder(\n",
              "    (q_layers): Sequential(\n",
              "      (dropout_0): Dropout(p=0.5, inplace=False)\n",
              "      (linear_0): Linear(in_features=17318, out_features=600, bias=True)\n",
              "      (dropout_1): Dropout(p=0.0, inplace=False)\n",
              "      (linear_1): Linear(in_features=600, out_features=400, bias=True)\n",
              "    )\n",
              "  )\n",
              "  (decode): Decoder(\n",
              "    (p_layers): Sequential(\n",
              "      (dropout_0): Dropout(p=0.0, inplace=False)\n",
              "      (linear_0): Linear(in_features=200, out_features=600, bias=True)\n",
              "      (dropout_1): Dropout(p=0.0, inplace=False)\n",
              "      (linear_1): Linear(in_features=600, out_features=17318, bias=True)\n",
              "    )\n",
              "  )\n",
              ")"
            ]
          },
          "metadata": {},
          "execution_count": 69
        }
      ]
    },
    {
      "cell_type": "code",
      "execution_count": 92,
      "metadata": {},
      "outputs": [
        {
          "output_type": "execute_result",
          "data": {
            "text/plain": [
              "MultiVAE(\n",
              "  (encode): Encoder(\n",
              "    (q_layers): Sequential(\n",
              "      (dropout_0): Dropout(p=0.5, inplace=False)\n",
              "      (linear_0): Linear(in_features=17318, out_features=900, bias=True)\n",
              "      (dropout_1): Dropout(p=0.0, inplace=False)\n",
              "      (linear_1): Linear(in_features=900, out_features=600, bias=True)\n",
              "    )\n",
              "  )\n",
              "  (decode): Decoder(\n",
              "    (p_layers): Sequential(\n",
              "      (dropout_0): Dropout(p=0.0, inplace=False)\n",
              "      (linear_0): Linear(in_features=300, out_features=900, bias=True)\n",
              "      (dropout_1): Dropout(p=0.0, inplace=False)\n",
              "      (linear_1): Linear(in_features=900, out_features=17318, bias=True)\n",
              "    )\n",
              "  )\n",
              ")"
            ]
          },
          "metadata": {},
          "execution_count": 92
        }
      ],
      "source": [
        " \n",
        "I =  newAMZGames_DF['Updated_ItemID'].nunique()  #I is the total number of items in the train date\n",
        "q_dims = [I] + [900, 300]\n",
        "p_dims = [300, 900] + [I]\n",
        "dropout_enc = [0.5, 0.]\n",
        "dropout_dec = [0., 0.]\n",
        "\n",
        "                    #p_dims,q_dims,dropout_enc,dropout_dec\n",
        "VAEmodeluntrain_2 = MultiVAE(p_dims,q_dims,dropout_enc,dropout_dec)\n",
        "init_weights(VAEmodeluntrain_2)\n",
        "VAEmodeluntrain_2.to(device)"
      ]
    },
    {
      "cell_type": "code",
      "execution_count": 94,
      "metadata": {},
      "outputs": [
        {
          "output_type": "stream",
          "name": "stderr",
          "text": [
            "100%|██████████| 50/50 [03:38<00:00,  4.36s/it]\n"
          ]
        },
        {
          "output_type": "error",
          "ename": "RuntimeError",
          "evalue": "CUDA out of memory. Tried to allocate 2.54 GiB (GPU 0; 10.92 GiB total capacity; 6.30 GiB already allocated; 1.33 GiB free; 8.68 GiB reserved in total by PyTorch)",
          "traceback": [
            "\u001b[0;31m---------------------------------------------------------------------------\u001b[0m",
            "\u001b[0;31mRuntimeError\u001b[0m                              Traceback (most recent call last)",
            "\u001b[0;32m<ipython-input-94-b9d0395ec98c>\u001b[0m in \u001b[0;36m<module>\u001b[0;34m\u001b[0m\n\u001b[1;32m      8\u001b[0m \u001b[0mbest_lr_\u001b[0m \u001b[0;34m=\u001b[0m \u001b[0;36m1e-05\u001b[0m\u001b[0;34m\u001b[0m\u001b[0;34m\u001b[0m\u001b[0m\n\u001b[1;32m      9\u001b[0m \u001b[0mbest_wd\u001b[0m \u001b[0;34m=\u001b[0m \u001b[0;36m0.2\u001b[0m\u001b[0;34m\u001b[0m\u001b[0;34m\u001b[0m\u001b[0m\n\u001b[0;32m---> 10\u001b[0;31m \u001b[0mALLstepPredList_2\u001b[0m \u001b[0;34m=\u001b[0m  \u001b[0mgetVAE_AllPred\u001b[0m\u001b[0;34m(\u001b[0m\u001b[0mVAEmodeluntrain_2\u001b[0m\u001b[0;34m,\u001b[0m\u001b[0mUserItem_MATList\u001b[0m\u001b[0;34m,\u001b[0m\u001b[0mbest_BS\u001b[0m\u001b[0;34m,\u001b[0m\u001b[0mbest_lr_\u001b[0m\u001b[0;34m,\u001b[0m\u001b[0mbest_wd\u001b[0m\u001b[0;34m,\u001b[0m\u001b[0mk\u001b[0m\u001b[0;34m=\u001b[0m\u001b[0;36m10\u001b[0m\u001b[0;34m)\u001b[0m\u001b[0;34m\u001b[0m\u001b[0;34m\u001b[0m\u001b[0m\n\u001b[0m",
            "\u001b[0;32m<ipython-input-68-0267b178795b>\u001b[0m in \u001b[0;36mgetVAE_AllPred\u001b[0;34m(model, UserItemList, best_BS, best_lr, best_wd, k)\u001b[0m\n\u001b[1;32m     29\u001b[0m     \u001b[0;32mfor\u001b[0m \u001b[0mUserItem_\u001b[0m \u001b[0;32min\u001b[0m \u001b[0mUserItemList\u001b[0m\u001b[0;34m:\u001b[0m\u001b[0;34m\u001b[0m\u001b[0;34m\u001b[0m\u001b[0m\n\u001b[1;32m     30\u001b[0m         \u001b[0mTrainedmodel\u001b[0m \u001b[0;34m=\u001b[0m \u001b[0mTrainwith_Best\u001b[0m\u001b[0;34m(\u001b[0m\u001b[0mmodel\u001b[0m\u001b[0;34m,\u001b[0m\u001b[0mUserItem_\u001b[0m\u001b[0;34m,\u001b[0m\u001b[0mbest_BS\u001b[0m\u001b[0;34m,\u001b[0m\u001b[0mbest_lr\u001b[0m\u001b[0;34m,\u001b[0m\u001b[0mbest_wd\u001b[0m\u001b[0;34m)\u001b[0m\u001b[0;34m\u001b[0m\u001b[0;34m\u001b[0m\u001b[0m\n\u001b[0;32m---> 31\u001b[0;31m         \u001b[0mX_out\u001b[0m \u001b[0;34m=\u001b[0m \u001b[0mget_ModelOut\u001b[0m\u001b[0;34m(\u001b[0m\u001b[0mUserItem_\u001b[0m\u001b[0;34m,\u001b[0m\u001b[0mTrainedmodel\u001b[0m\u001b[0;34m)\u001b[0m\u001b[0;34m\u001b[0m\u001b[0;34m\u001b[0m\u001b[0m\n\u001b[0m\u001b[1;32m     32\u001b[0m         \u001b[0mtopNPred\u001b[0m \u001b[0;34m=\u001b[0m \u001b[0mgetVAE_TopNPred\u001b[0m\u001b[0;34m(\u001b[0m\u001b[0mX_out\u001b[0m\u001b[0;34m,\u001b[0m\u001b[0mk\u001b[0m\u001b[0;34m)\u001b[0m   \u001b[0;31m##get prediction for all users..\u001b[0m\u001b[0;34m\u001b[0m\u001b[0;34m\u001b[0m\u001b[0m\n\u001b[1;32m     33\u001b[0m         \u001b[0mALLstep_Pred\u001b[0m\u001b[0;34m.\u001b[0m\u001b[0mappend\u001b[0m\u001b[0;34m(\u001b[0m\u001b[0mtopNPred\u001b[0m\u001b[0;34m)\u001b[0m\u001b[0;34m\u001b[0m\u001b[0;34m\u001b[0m\u001b[0m\n",
            "\u001b[0;32m<ipython-input-68-0267b178795b>\u001b[0m in \u001b[0;36mget_ModelOut\u001b[0;34m(X_train, model)\u001b[0m\n\u001b[1;32m     10\u001b[0m \u001b[0;32mdef\u001b[0m \u001b[0mget_ModelOut\u001b[0m\u001b[0;34m(\u001b[0m\u001b[0mX_train\u001b[0m\u001b[0;34m,\u001b[0m\u001b[0mmodel\u001b[0m\u001b[0;34m)\u001b[0m\u001b[0;34m:\u001b[0m  \u001b[0;31m#X_train== RatMat...\u001b[0m\u001b[0;34m\u001b[0m\u001b[0;34m\u001b[0m\u001b[0m\n\u001b[1;32m     11\u001b[0m     \u001b[0;32mwith\u001b[0m \u001b[0mtorch\u001b[0m\u001b[0;34m.\u001b[0m\u001b[0mno_grad\u001b[0m\u001b[0;34m(\u001b[0m\u001b[0;34m)\u001b[0m\u001b[0;34m:\u001b[0m\u001b[0;34m\u001b[0m\u001b[0;34m\u001b[0m\u001b[0m\n\u001b[0;32m---> 12\u001b[0;31m          \u001b[0mX_input\u001b[0m \u001b[0;34m=\u001b[0m \u001b[0mtorch\u001b[0m\u001b[0;34m.\u001b[0m\u001b[0mFloatTensor\u001b[0m\u001b[0;34m(\u001b[0m\u001b[0mX_train\u001b[0m\u001b[0;34m.\u001b[0m\u001b[0mtoarray\u001b[0m\u001b[0;34m(\u001b[0m\u001b[0;34m)\u001b[0m\u001b[0;34m)\u001b[0m\u001b[0;34m.\u001b[0m\u001b[0mto\u001b[0m\u001b[0;34m(\u001b[0m\u001b[0mdevice\u001b[0m\u001b[0;34m)\u001b[0m\u001b[0;34m\u001b[0m\u001b[0;34m\u001b[0m\u001b[0m\n\u001b[0m\u001b[1;32m     13\u001b[0m          \u001b[0mX_out\u001b[0m\u001b[0;34m,\u001b[0m \u001b[0mmu\u001b[0m\u001b[0;34m,\u001b[0m \u001b[0mlogvar\u001b[0m \u001b[0;34m=\u001b[0m \u001b[0mmodel\u001b[0m\u001b[0;34m(\u001b[0m\u001b[0mX_input\u001b[0m\u001b[0;34m)\u001b[0m\u001b[0;34m\u001b[0m\u001b[0;34m\u001b[0m\u001b[0m\n\u001b[1;32m     14\u001b[0m          \u001b[0mX_out\u001b[0m \u001b[0;34m=\u001b[0m \u001b[0mX_out\u001b[0m\u001b[0;34m.\u001b[0m\u001b[0mcpu\u001b[0m\u001b[0;34m(\u001b[0m\u001b[0;34m)\u001b[0m\u001b[0;34m.\u001b[0m\u001b[0mnumpy\u001b[0m\u001b[0;34m(\u001b[0m\u001b[0;34m)\u001b[0m         \u001b[0;31m#convert from tensor to numpy\u001b[0m\u001b[0;34m\u001b[0m\u001b[0;34m\u001b[0m\u001b[0m\n",
            "\u001b[0;31mRuntimeError\u001b[0m: CUDA out of memory. Tried to allocate 2.54 GiB (GPU 0; 10.92 GiB total capacity; 6.30 GiB already allocated; 1.33 GiB free; 8.68 GiB reserved in total by PyTorch)"
          ]
        }
      ],
      "source": [
        "anneal_epochs = None  \n",
        "anneal_cap = 0.2\n",
        "constant_anneal = False\n",
        "update_count = 0\n",
        "anneal_n = 200\n",
        "bst_epochs = 50\n",
        "best_BS = 200\n",
        "best_lr_ = 1e-05\n",
        "best_wd = 0.2\n",
        "ALLstepPredList_2 =  getVAE_AllPred(VAEmodeluntrain_2,UserItem_MATList,best_BS,best_lr_,best_wd,k=10)"
      ]
    },
    {
      "cell_type": "code",
      "metadata": {
        "id": "5hwBIEKY8NIq",
        "outputId": "ccb701e8-eafa-4b8f-e0db-f3d7b2b1ed4b"
      },
      "source": [
        "anneal_epochs = None  \n",
        "anneal_cap = 0.2\n",
        "constant_anneal = False\n",
        "update_count = 0\n",
        "anneal_n = 200\n",
        "bst_epochs = 50\n",
        "best_BS = 300\n",
        "best_lr_ = 1e-05\n",
        "best_wd = 0.2\n",
        "ALLstep_PredList =  getVAE_AllPred(VAEmodel_untrain,UserItem_MATList,best_BS,best_lr_,best_wd,k=10)"
      ],
      "execution_count": 71,
      "outputs": [
        {
          "output_type": "stream",
          "name": "stderr",
          "text": [
            "100%|██████████| 50/50 [07:53<00:00,  9.48s/it]\n",
            "100%|██████████| 50/50 [07:50<00:00,  9.40s/it]\n",
            "100%|██████████| 50/50 [07:49<00:00,  9.39s/it]\n",
            "100%|██████████| 50/50 [07:51<00:00,  9.43s/it]\n",
            "100%|██████████| 50/50 [07:49<00:00,  9.40s/it]\n",
            "100%|██████████| 50/50 [07:50<00:00,  9.41s/it]\n",
            "100%|██████████| 50/50 [07:51<00:00,  9.44s/it]\n",
            "100%|██████████| 50/50 [07:49<00:00,  9.40s/it]\n",
            "100%|██████████| 50/50 [07:51<00:00,  9.42s/it]\n",
            "100%|██████████| 50/50 [07:51<00:00,  9.42s/it]\n",
            "100%|██████████| 50/50 [07:51<00:00,  9.43s/it]\n",
            "100%|██████████| 50/50 [07:50<00:00,  9.42s/it]\n",
            "100%|██████████| 50/50 [07:50<00:00,  9.41s/it]\n",
            "100%|██████████| 50/50 [07:53<00:00,  9.46s/it]\n",
            "100%|██████████| 50/50 [07:26<00:00,  8.94s/it]\n"
          ]
        }
      ]
    },
    {
      "cell_type": "code",
      "metadata": {
        "id": "3_rq-uIh8NIr",
        "outputId": "c04aec7e-7952-4736-c348-9fc0cde047ba"
      },
      "source": [
        "print(len(ALLstep_PredList))\n",
        "ALLstep_PredList[:2]"
      ],
      "execution_count": 88,
      "outputs": [
        {
          "output_type": "stream",
          "name": "stdout",
          "text": [
            "15\n"
          ]
        },
        {
          "output_type": "execute_result",
          "data": {
            "text/plain": [
              "[array([[ 4190,  3771, 12918, ...,  5586,  4764, 13384],\n",
              "        [10344,  3771, 12027, ...,  4950, 10874, 12021],\n",
              "        [ 3771,  4190, 10874, ...,   345, 10344, 13510],\n",
              "        ...,\n",
              "        [ 3771, 10344,  4928, ...,  4930, 12027,  4190],\n",
              "        [13857, 12918,  4532, ..., 10498, 12652,  4928],\n",
              "        [12027, 13857,  4190, ...,  4928,  7666, 11840]]),\n",
              " array([[ 3771,  5452,  7304, ...,  1552,  3792,   385],\n",
              "        [ 3771,   984,  5452, ...,  5483,  1050,  4735],\n",
              "        [ 5739,   958,  5374, ...,     1,  9879,  9667],\n",
              "        ...,\n",
              "        [13171, 12027,  4930, ..., 12043, 12595, 14555],\n",
              "        [ 4190, 12918, 10874, ...,  7666, 12021, 13857],\n",
              "        [10874, 10344,  3771, ...,  5452,  9344, 11414]])]"
            ]
          },
          "metadata": {},
          "execution_count": 88
        }
      ]
    },
    {
      "cell_type": "code",
      "execution_count": 91,
      "metadata": {},
      "outputs": [],
      "source": [
        "with open('AMZG_VAEPredList.pkl', 'wb') as f:\n",
        "     pickle.dump(ALLstep_PredList, f)\n"
      ]
    },
    {
      "cell_type": "code",
      "metadata": {
        "id": "zwA8-T0X8NIs",
        "outputId": "4d196ece-5aa5-4128-95dc-6259704e1f52"
      },
      "source": [
        "VAEHitrate_Eval_2(ALLstep_PredList[0],newHOLDOUT_LIST[0],'Updated_UserID', 'Updated_ItemID')"
      ],
      "execution_count": 89,
      "outputs": [
        {
          "output_type": "stream",
          "name": "stdout",
          "text": [
            "Number of hits:  16\nTotal Num of users:  2018\nRecommendation HitRate:  0.007928642220019821\n"
          ]
        },
        {
          "output_type": "execute_result",
          "data": {
            "text/plain": [
              "0.007928642220019821"
            ]
          },
          "metadata": {},
          "execution_count": 89
        }
      ]
    },
    {
      "cell_type": "code",
      "metadata": {
        "id": "5ogj8_kM8NIt",
        "outputId": "f91d4278-5685-4dfa-985e-76c0e5007584"
      },
      "source": [
        "#getAll_VAEHitRate(HOLDOUT_list,All_TOPN_PRED,user_column,item_column)\n",
        "VAE_AllStepsHitr_, VAE_LBand, VAE_AvgHitR_, VAE_UBand  = getAll_VAEHitRate(newHOLDOUT_LIST,ALLstep_PredList,'Updated_UserID', 'Updated_ItemID')"
      ],
      "execution_count": 90,
      "outputs": [
        {
          "output_type": "stream",
          "name": "stdout",
          "text": [
            "Number of hits:  16\nTotal Num of users:  2018\nRecommendation HitRate:  0.007928642220019821\nNumber of hits:  17\nTotal Num of users:  2200\nRecommendation HitRate:  0.007727272727272728\nNumber of hits:  24\nTotal Num of users:  2172\nRecommendation HitRate:  0.011049723756906077\nNumber of hits:  54\nTotal Num of users:  2079\nRecommendation HitRate:  0.025974025974025976\nNumber of hits:  46\nTotal Num of users:  2089\nRecommendation HitRate:  0.02202010531354715\nNumber of hits:  57\nTotal Num of users:  2120\nRecommendation HitRate:  0.02688679245283019\nNumber of hits:  56\nTotal Num of users:  2217\nRecommendation HitRate:  0.02525935949481281\nNumber of hits:  59\nTotal Num of users:  2207\nRecommendation HitRate:  0.026733121884911646\nNumber of hits:  82\nTotal Num of users:  2133\nRecommendation HitRate:  0.03844350679793718\nNumber of hits:  72\nTotal Num of users:  2171\nRecommendation HitRate:  0.033164440350069095\nNumber of hits:  66\nTotal Num of users:  2261\nRecommendation HitRate:  0.0291906236178682\nNumber of hits:  65\nTotal Num of users:  2246\nRecommendation HitRate:  0.02894033837934105\nNumber of hits:  75\nTotal Num of users:  2196\nRecommendation HitRate:  0.03415300546448088\nNumber of hits:  82\nTotal Num of users:  2269\nRecommendation HitRate:  0.03613926840017629\nNumber of hits:  72\nTotal Num of users:  2222\nRecommendation HitRate:  0.032403240324032405\nAverage HitRate for All Recommendations:  0.025734231143882104\n"
          ]
        }
      ]
    },
    {
      "cell_type": "code",
      "execution_count": 75,
      "metadata": {},
      "outputs": [
        {
          "output_type": "execute_result",
          "data": {
            "text/plain": [
              "[0.007928642220019821,\n",
              " 0.007727272727272728,\n",
              " 0.011049723756906077,\n",
              " 0.025974025974025976,\n",
              " 0.02202010531354715,\n",
              " 0.02688679245283019,\n",
              " 0.02525935949481281,\n",
              " 0.026733121884911646,\n",
              " 0.03844350679793718,\n",
              " 0.033164440350069095,\n",
              " 0.0291906236178682,\n",
              " 0.02894033837934105,\n",
              " 0.03415300546448088,\n",
              " 0.03613926840017629,\n",
              " 0.032403240324032405]"
            ]
          },
          "metadata": {},
          "execution_count": 75
        }
      ],
      "source": [
        "VAE_AllStepsHitr_"
      ]
    },
    {
      "cell_type": "code",
      "metadata": {
        "id": "MNlMu2Jd8NIu"
      },
      "source": [
        "##Stability Check"
      ],
      "execution_count": null,
      "outputs": []
    },
    {
      "cell_type": "code",
      "metadata": {
        "id": "SeF86kPN8NJP",
        "outputId": "0e95bc2c-2c0b-4ea4-a7f1-138af253f818"
      },
      "source": [
        "AllSteps = list(range(1,15))\n",
        "print(len(AllSteps))\n",
        "AllSteps  "
      ],
      "execution_count": 56,
      "outputs": [
        {
          "output_type": "stream",
          "name": "stdout",
          "text": [
            "14\n"
          ]
        },
        {
          "output_type": "execute_result",
          "data": {
            "text/plain": [
              "[1, 2, 3, 4, 5, 6, 7, 8, 9, 10, 11, 12, 13, 14]"
            ]
          },
          "metadata": {},
          "execution_count": 56
        }
      ]
    },
    {
      "cell_type": "code",
      "execution_count": 57,
      "metadata": {},
      "outputs": [],
      "source": [
        "with open('/mnt/bulky/oolaleke/TDM_Dataset/AMZ_GamesFiles/AMZG_VAEPredList.pkl', 'rb') as f:\n",
        "     ALLstep_PredList = pickle.load(f)     \n"
      ]
    },
    {
      "cell_type": "code",
      "metadata": {
        "id": "PL0Ijm0w8NJQ",
        "outputId": "5a239dff-157d-42ef-af67-ab410b6260f2"
      },
      "source": [
        "newUserItem_list[0].columns"
      ],
      "execution_count": null,
      "outputs": [
        {
          "output_type": "execute_result",
          "data": {
            "text/plain": [
              "Index(['userId', 'productId', 'Updated_UserID', 'Updated_ItemID'], dtype='object')"
            ]
          },
          "metadata": {
            "tags": []
          },
          "execution_count": 511
        }
      ]
    },
    {
      "cell_type": "code",
      "metadata": {
        "id": "I952Pke78NJR",
        "outputId": "537c0d51-161b-437a-e4a2-8ff7dd5e8b82"
      },
      "source": [
        "VAECorr_ = Updt_getAll_AvgCorr(ALLstep_PredList,newUserItem_list,AllSteps,'Updated_UserID')  #,\n",
        "VAECorr_"
      ],
      "execution_count": 58,
      "outputs": [
        {
          "output_type": "execute_result",
          "data": {
            "text/plain": [
              "array([array([0.09331951, 0.11647255, 0.        , ..., 0.06916781, 0.36811863,\n",
              "              0.49412955])                                                    ,\n",
              "       array([0.67711884, 0.02499653, 0.09331951, ..., 0.40697674, 0.        ,\n",
              "              0.        ])                                                    ,\n",
              "       array([0.39395656, 0.        , 0.        , ..., 0.        , 0.        ,\n",
              "              0.        ])                                                    ,\n",
              "       array([0.0476934 , 0.        , 0.        , ..., 0.54559732, 0.01736733,\n",
              "              0.01736733])                                                    ,\n",
              "       array([0.02180383, 0.        , 0.0476934 , ..., 0.56576156, 0.06033616,\n",
              "              0.        ])                                                    ,\n",
              "       array([0.29377739, 0.        , 0.3654611 , ..., 0.22760915, 0.48421476,\n",
              "              0.05873915])                                                    ,\n",
              "       array([0.40644055, 0.        , 0.22506224, ..., 0.        , 0.02180383,\n",
              "              0.10767615])                                                    ,\n",
              "       array([0.4499558 , 0.        , 0.04325088, ..., 0.        , 0.0476934 ,\n",
              "              0.09331951])                                                    ,\n",
              "       array([0.56343995, 0.        , 0.44456405, ..., 0.22577431, 0.04457968,\n",
              "              0.        ])                                                    ,\n",
              "       array([0.19356404, 0.        , 0.23552059, ..., 0.42407872, 0.61988368,\n",
              "              0.        ])                                                    ,\n",
              "       array([0.24426837, 0.        , 0.30027306, ..., 0.        , 0.        ,\n",
              "              0.        ])                                                    ,\n",
              "       array([0.6221978 , 0.01736733, 0.09049272, ..., 0.        , 0.17037977,\n",
              "              0.        ])                                                    ,\n",
              "       array([0.42065249, 0.17982737, 0.08768052, ..., 0.12326891, 0.        ,\n",
              "              0.        ])                                                    ,\n",
              "       array([0.17168029, 0.55014176, 0.7856538 , ..., 0.01736733, 0.        ,\n",
              "              0.03534858])                                                    ],\n",
              "      dtype=object)"
            ]
          },
          "metadata": {},
          "execution_count": 58
        }
      ]
    },
    {
      "cell_type": "code",
      "metadata": {
        "id": "EM0n2mt08NJS",
        "outputId": "f63a027c-d961-4757-d564-d02cb7d6124a"
      },
      "source": [
        "print(VAECorr_.shape)\n",
        "for df in VAECorr_:\n",
        "    print(df.mean())  "
      ],
      "execution_count": 59,
      "outputs": [
        {
          "output_type": "stream",
          "name": "stdout",
          "text": [
            "(14,)\n0.21517246389134106\n0.19724890388796845\n0.18093806209775654\n0.18273656120634277\n0.17324958912970048\n0.178882636022487\n0.16528631154639684\n0.16117625716687148\n0.15743603312550022\n0.15459819364617117\n0.15224520121757937\n0.14375165567103143\n0.14036705187180523\n0.14010309129844348\n"
          ]
        }
      ]
    },
    {
      "cell_type": "code",
      "execution_count": 81,
      "metadata": {},
      "outputs": [
        {
          "output_type": "stream",
          "name": "stderr",
          "text": [
            "15it [00:00, 347.99it/s]\n"
          ]
        }
      ],
      "source": [
        "VAE_AllStepsMRR, VAE_LBand, VAE_AvgMRR, VAE_UBand  = getAll_VAEMRR(newHOLDOUT_LIST,ALLstep_PredList,'Updated_UserID','Updated_ItemID')"
      ]
    },
    {
      "cell_type": "code",
      "execution_count": 82,
      "metadata": {},
      "outputs": [
        {
          "output_type": "execute_result",
          "data": {
            "text/plain": [
              "[0.002604,\n",
              " 0.003364,\n",
              " 0.003036,\n",
              " 0.008514,\n",
              " 0.008565,\n",
              " 0.010828,\n",
              " 0.012917,\n",
              " 0.014823,\n",
              " 0.01543,\n",
              " 0.01404,\n",
              " 0.012678,\n",
              " 0.010351,\n",
              " 0.013315,\n",
              " 0.014503,\n",
              " 0.011204]"
            ]
          },
          "metadata": {},
          "execution_count": 82
        }
      ],
      "source": [
        "VAE_AllStepsMRR"
      ]
    },
    {
      "cell_type": "code",
      "execution_count": 83,
      "metadata": {},
      "outputs": [
        {
          "output_type": "execute_result",
          "data": {
            "text/plain": [
              "[0.150537,\n",
              " 0.009932,\n",
              " 0.015591,\n",
              " 0.018074,\n",
              " 0.028756,\n",
              " 0.036205,\n",
              " 0.041922,\n",
              " 0.056127,\n",
              " 0.063575,\n",
              " 0.074547,\n",
              " 0.08136,\n",
              " 0.089271,\n",
              " 0.107403,\n",
              " 0.123398,\n",
              " 0.132521]"
            ]
          },
          "metadata": {},
          "execution_count": 83
        }
      ],
      "source": [
        "##Coverage...:\n",
        "VAE_AvgCoverageList = AllSteps_Coverage_Ratio(newAMZGames_DF,ALLstep_PredList,'Updated_ItemID')\n",
        "VAE_AvgCoverageList"
      ]
    },
    {
      "cell_type": "code",
      "execution_count": null,
      "metadata": {},
      "outputs": [],
      "source": []
    },
    {
      "cell_type": "code",
      "metadata": {
        "id": "jhLdobrK8NJU"
      },
      "source": [
        "# def get_ModelOut(X_train,model):  #X_train== RatMat...\n",
        "#     with torch.no_grad():\n",
        "#          X_input = torch.FloatTensor(X_train.toarray()).to(device)\n",
        "#          X_out, mu, logvar = model(X_input)\n",
        "#          X_out = X_out.cpu().numpy()         #convert from tensor to numpy\n",
        "#          X_out[X_train.nonzero()] = -np.inf  #Exclude examples from training set\n",
        "#     return X_out\n",
        "\n",
        "\n",
        "# def getVAE_TopNPred(X_out,k):   ##X_out == tensor output from model\n",
        "#     batch_users = X_out.shape[0]\n",
        "#     idx_topk_part = bn.argpartition(-X_out, k, axis=1)\n",
        "#     topk_part = X_out[np.arange(batch_users)[:, np.newaxis], idx_topk_part[:, :k]]\n",
        "#     idx_part = np.argsort(-topk_part, axis=1)\n",
        "#     idx_topk = idx_topk_part[np.arange(batch_users)[:, np.newaxis], idx_part]\n",
        "#     return idx_topk"
      ],
      "execution_count": null,
      "outputs": []
    }
  ]
}