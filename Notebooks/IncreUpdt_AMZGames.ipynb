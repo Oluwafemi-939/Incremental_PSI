{
  "nbformat": 4,
  "nbformat_minor": 0,
  "metadata": {
    "colab": {
      "name": "IncreUpdt_AMZGames.ipynb",
      "provenance": [],
      "collapsed_sections": [
        "ex_fBepRvk5I",
        "XTkVUSBi4sgE"
      ],
      "toc_visible": true
    },
    "kernelspec": {
      "name": "python3",
      "display_name": "Python 3"
    },
    "language_info": {
      "name": "python"
    }
  },
  "cells": [
    {
      "cell_type": "code",
      "metadata": {
        "id": "gf2XKkWXXcDg"
      },
      "source": [
        ""
      ],
      "execution_count": null,
      "outputs": []
    },
    {
      "cell_type": "markdown",
      "metadata": {
        "id": "waGNRsQkGt3t"
      },
      "source": [
        "## Imports"
      ]
    },
    {
      "cell_type": "code",
      "metadata": {
        "id": "LSMrVzzrFcnl"
      },
      "source": [
        "import io\n",
        "import os\n",
        "import gzip\n",
        "import json\n",
        "import scipy\n",
        "import random\n",
        "import warnings\n",
        "import numpy as np\n",
        "import numba as nb\n",
        "import pandas as pd\n",
        "import datetime as dt\n",
        "import seaborn as sns\n",
        "from tqdm import tqdm\n",
        "import scipy.stats as st\n",
        "from collections import OrderedDict\n",
        "import scipy.sparse as sparse\n",
        "from scipy.linalg import orth\n",
        "import matplotlib.pyplot as plt\n",
        "from numpy import linalg as lin\n",
        "warnings.filterwarnings('ignore')\n",
        "from scipy.sparse import coo_matrix\n",
        "from scipy.sparse.linalg import svds\n",
        "from datetime import datetime as dt_dt\n",
        "from scipy.sparse.linalg import spsolve\n",
        "from numpy.linalg import qr as QR_decomp\n",
        "from scipy.sparse import csr_matrix, find\n",
        "from pandas.api.types import CategoricalDtype"
      ],
      "execution_count": 1,
      "outputs": []
    },
    {
      "cell_type": "markdown",
      "metadata": {
        "id": "IkLZJhQWqaPp"
      },
      "source": [
        "## Functions"
      ]
    },
    {
      "cell_type": "code",
      "metadata": {
        "id": "Uvv8Q8zR7OAn"
      },
      "source": [
        "import sys\n",
        "sys.path.append('/content/')"
      ],
      "execution_count": 2,
      "outputs": []
    },
    {
      "cell_type": "code",
      "metadata": {
        "id": "qoOQOsCf7849"
      },
      "source": [
        "import a_DataHelpers\n",
        "import b_AlgoFunctions\n",
        "import c_PredEval\n",
        "import d_CorrScores"
      ],
      "execution_count": 3,
      "outputs": []
    },
    {
      "cell_type": "code",
      "metadata": {
        "id": "slSdgbc1XxNT"
      },
      "source": [
        "from a_DataHelpers import getPivotMonths,Time_DataSplit,TestTrain_DataSplit,SingleRatingMatrix\n",
        "from a_DataHelpers import AllRatingMatrices,All_SingleStepRatMat,psiStep_RatMat,psiAllStep_RatMat\n",
        "from a_DataHelpers import Find_NewUsersItems,adjustedPSI_DF,adjustedAllDF,get_NEWHoldout,ADJUST_mainDF\n",
        "\n",
        "from b_AlgoFunctions import integrator,getStartingValues,integratorOnMat,last_psiTrainMat\n",
        "from b_AlgoFunctions import Updt_RowMatrix,getRow_Mat,row_update, Updt_ColMatrix,getCol_Mat,colunm_update\n",
        "from b_AlgoFunctions import UsersItems_RatPair,getRowCol_psiupdt,ITEMS_defferredStatus,USERS_defferredStatus\n",
        "from b_AlgoFunctions import getV_listUpdate, SingleStep_UPDATE,ALLSTEPs_UPDATE\n",
        "\n",
        "from c_PredEval import TopNPred,TQDMgetALLTopNPred, Hitrate_Eval,getAll_HitRate\n",
        "from c_PredEval import TQDMgetALLTopNPred_ALLUSERS,getALLTopNPred_ALLUSERS\n",
        "from c_PredEval import get_ALLRandPred,getAll_RandomHitRate,getMOSTPOP_Pred,getAll_MostPOPHitRate,getAll_MOSTPOP_Pred\n",
        "from c_PredEval import topN_Index,get_ALLRandPred_2,getAll_RandomHitRate_2,getAll_MostPOPHitRate2\n",
        "\n",
        "from d_CorrScores import no_copy_csr_matrix,build_rank_weights_matrix,rank_weighted_jaccard_index\n",
        "from d_CorrScores import Updt_getAll_AvgCorr, updtCorr_4AllRanks"
      ],
      "execution_count": 5,
      "outputs": []
    },
    {
      "cell_type": "code",
      "metadata": {
        "id": "9DMiakUEX3DY"
      },
      "source": [
        ""
      ],
      "execution_count": null,
      "outputs": []
    },
    {
      "cell_type": "markdown",
      "metadata": {
        "id": "xpocYB8bMmtu"
      },
      "source": [
        "## Apply Functions on *AMZGames*"
      ]
    },
    {
      "cell_type": "markdown",
      "metadata": {
        "id": "jg2rUDx4QFkB"
      },
      "source": [
        "### Import Cleaned Data"
      ]
    },
    {
      "cell_type": "code",
      "metadata": {
        "colab": {
          "base_uri": "https://localhost:8080/",
          "height": 566
        },
        "id": "pSTnVLyjbnKd",
        "outputId": "17d47942-42a1-4378-ec56-10ef90ad4195"
      },
      "source": [
        "AMZG_DF  = pd.read_csv('/content/usedAMZGames.csv')\n",
        "AMZG_DF['timestamp'] = pd.to_datetime(AMZG_DF['timestamp']) \n",
        "print(AMZG_DF.shape)       #productId_int\tuserId_int\n",
        "print(AMZG_DF.dtypes)\n",
        "print()\n",
        "AMZG_DF"
      ],
      "execution_count": 7,
      "outputs": [
        {
          "output_type": "stream",
          "text": [
            "(372453, 6)\n",
            "userId_int               object\n",
            "productId_int            object\n",
            "rating                    int64\n",
            "timestamp        datetime64[ns]\n",
            "userId                    int64\n",
            "productId                 int64\n",
            "dtype: object\n",
            "\n"
          ],
          "name": "stdout"
        },
        {
          "output_type": "execute_result",
          "data": {
            "text/html": [
              "<div>\n",
              "<style scoped>\n",
              "    .dataframe tbody tr th:only-of-type {\n",
              "        vertical-align: middle;\n",
              "    }\n",
              "\n",
              "    .dataframe tbody tr th {\n",
              "        vertical-align: top;\n",
              "    }\n",
              "\n",
              "    .dataframe thead th {\n",
              "        text-align: right;\n",
              "    }\n",
              "</style>\n",
              "<table border=\"1\" class=\"dataframe\">\n",
              "  <thead>\n",
              "    <tr style=\"text-align: right;\">\n",
              "      <th></th>\n",
              "      <th>userId_int</th>\n",
              "      <th>productId_int</th>\n",
              "      <th>rating</th>\n",
              "      <th>timestamp</th>\n",
              "      <th>userId</th>\n",
              "      <th>productId</th>\n",
              "    </tr>\n",
              "  </thead>\n",
              "  <tbody>\n",
              "    <tr>\n",
              "      <th>0</th>\n",
              "      <td>A3BEJOL2X8PS8I</td>\n",
              "      <td>B00004TC6E</td>\n",
              "      <td>1</td>\n",
              "      <td>2001-01-01</td>\n",
              "      <td>0</td>\n",
              "      <td>0</td>\n",
              "    </tr>\n",
              "    <tr>\n",
              "      <th>1</th>\n",
              "      <td>A1SQUI6BNEOB6C</td>\n",
              "      <td>B00004UE0G</td>\n",
              "      <td>1</td>\n",
              "      <td>2001-01-01</td>\n",
              "      <td>1</td>\n",
              "      <td>1</td>\n",
              "    </tr>\n",
              "    <tr>\n",
              "      <th>2</th>\n",
              "      <td>A2ZESFCRJL7YA0</td>\n",
              "      <td>B00002CF9M</td>\n",
              "      <td>1</td>\n",
              "      <td>2001-01-01</td>\n",
              "      <td>2</td>\n",
              "      <td>2</td>\n",
              "    </tr>\n",
              "    <tr>\n",
              "      <th>3</th>\n",
              "      <td>A3URVWPFJOHT72</td>\n",
              "      <td>B00000K1AF</td>\n",
              "      <td>1</td>\n",
              "      <td>2001-01-01</td>\n",
              "      <td>3</td>\n",
              "      <td>3</td>\n",
              "    </tr>\n",
              "    <tr>\n",
              "      <th>4</th>\n",
              "      <td>A1EE8EZLR8LJ9M</td>\n",
              "      <td>B00004WLMA</td>\n",
              "      <td>1</td>\n",
              "      <td>2001-01-02</td>\n",
              "      <td>4</td>\n",
              "      <td>4</td>\n",
              "    </tr>\n",
              "    <tr>\n",
              "      <th>...</th>\n",
              "      <td>...</td>\n",
              "      <td>...</td>\n",
              "      <td>...</td>\n",
              "      <td>...</td>\n",
              "      <td>...</td>\n",
              "      <td>...</td>\n",
              "    </tr>\n",
              "    <tr>\n",
              "      <th>372448</th>\n",
              "      <td>A2UVBD3N7449IC</td>\n",
              "      <td>B01ABTJ2BM</td>\n",
              "      <td>1</td>\n",
              "      <td>2018-08-31</td>\n",
              "      <td>28129</td>\n",
              "      <td>16648</td>\n",
              "    </tr>\n",
              "    <tr>\n",
              "      <th>372449</th>\n",
              "      <td>A27F1N27M1X0NM</td>\n",
              "      <td>B01D8H09LQ</td>\n",
              "      <td>1</td>\n",
              "      <td>2018-08-31</td>\n",
              "      <td>3183</td>\n",
              "      <td>16542</td>\n",
              "    </tr>\n",
              "    <tr>\n",
              "      <th>372450</th>\n",
              "      <td>A1J5HIF41ENSMZ</td>\n",
              "      <td>B01D8H09LQ</td>\n",
              "      <td>1</td>\n",
              "      <td>2018-08-31</td>\n",
              "      <td>16433</td>\n",
              "      <td>16542</td>\n",
              "    </tr>\n",
              "    <tr>\n",
              "      <th>372451</th>\n",
              "      <td>A18C19UTTAQEOD</td>\n",
              "      <td>B01GW3P9PE</td>\n",
              "      <td>1</td>\n",
              "      <td>2018-08-31</td>\n",
              "      <td>16400</td>\n",
              "      <td>17342</td>\n",
              "    </tr>\n",
              "    <tr>\n",
              "      <th>372452</th>\n",
              "      <td>A1USYGPU8OCPTA</td>\n",
              "      <td>B014H2W1YO</td>\n",
              "      <td>1</td>\n",
              "      <td>2018-08-31</td>\n",
              "      <td>29668</td>\n",
              "      <td>15738</td>\n",
              "    </tr>\n",
              "  </tbody>\n",
              "</table>\n",
              "<p>372453 rows × 6 columns</p>\n",
              "</div>"
            ],
            "text/plain": [
              "            userId_int productId_int  rating  timestamp  userId  productId\n",
              "0       A3BEJOL2X8PS8I    B00004TC6E       1 2001-01-01       0          0\n",
              "1       A1SQUI6BNEOB6C    B00004UE0G       1 2001-01-01       1          1\n",
              "2       A2ZESFCRJL7YA0    B00002CF9M       1 2001-01-01       2          2\n",
              "3       A3URVWPFJOHT72    B00000K1AF       1 2001-01-01       3          3\n",
              "4       A1EE8EZLR8LJ9M    B00004WLMA       1 2001-01-02       4          4\n",
              "...                ...           ...     ...        ...     ...        ...\n",
              "372448  A2UVBD3N7449IC    B01ABTJ2BM       1 2018-08-31   28129      16648\n",
              "372449  A27F1N27M1X0NM    B01D8H09LQ       1 2018-08-31    3183      16542\n",
              "372450  A1J5HIF41ENSMZ    B01D8H09LQ       1 2018-08-31   16433      16542\n",
              "372451  A18C19UTTAQEOD    B01GW3P9PE       1 2018-08-31   16400      17342\n",
              "372452  A1USYGPU8OCPTA    B014H2W1YO       1 2018-08-31   29668      15738\n",
              "\n",
              "[372453 rows x 6 columns]"
            ]
          },
          "metadata": {
            "tags": []
          },
          "execution_count": 7
        }
      ]
    },
    {
      "cell_type": "code",
      "metadata": {
        "colab": {
          "base_uri": "https://localhost:8080/",
          "height": 620
        },
        "id": "4vdRrsHEQFkm",
        "outputId": "130058e9-bd45-44fb-9c7e-b9b288a77633"
      },
      "source": [
        "AMZG_DF = AMZG_DF[['userId','productId','rating','timestamp']]\n",
        "print(AMZG_DF.shape)\n",
        "print(\"For users: \")\n",
        "print(AMZG_DF['userId'].nunique())\n",
        "print(AMZG_DF['userId'].max())\n",
        "print()\n",
        "print(\"For items: \")\n",
        "print(AMZG_DF['productId'].nunique())\n",
        "print(AMZG_DF['productId'].max())\n",
        "print()\n",
        "print(\"Timestamp\")\n",
        "print(AMZG_DF['timestamp'].min())\n",
        "print(AMZG_DF['timestamp'].max())\n",
        "AMZG_DF"
      ],
      "execution_count": 8,
      "outputs": [
        {
          "output_type": "stream",
          "text": [
            "(372453, 4)\n",
            "For users: \n",
            "53242\n",
            "53241\n",
            "\n",
            "For items: \n",
            "17351\n",
            "17350\n",
            "\n",
            "Timestamp\n",
            "2001-01-01 00:00:00\n",
            "2018-08-31 00:00:00\n"
          ],
          "name": "stdout"
        },
        {
          "output_type": "execute_result",
          "data": {
            "text/html": [
              "<div>\n",
              "<style scoped>\n",
              "    .dataframe tbody tr th:only-of-type {\n",
              "        vertical-align: middle;\n",
              "    }\n",
              "\n",
              "    .dataframe tbody tr th {\n",
              "        vertical-align: top;\n",
              "    }\n",
              "\n",
              "    .dataframe thead th {\n",
              "        text-align: right;\n",
              "    }\n",
              "</style>\n",
              "<table border=\"1\" class=\"dataframe\">\n",
              "  <thead>\n",
              "    <tr style=\"text-align: right;\">\n",
              "      <th></th>\n",
              "      <th>userId</th>\n",
              "      <th>productId</th>\n",
              "      <th>rating</th>\n",
              "      <th>timestamp</th>\n",
              "    </tr>\n",
              "  </thead>\n",
              "  <tbody>\n",
              "    <tr>\n",
              "      <th>0</th>\n",
              "      <td>0</td>\n",
              "      <td>0</td>\n",
              "      <td>1</td>\n",
              "      <td>2001-01-01</td>\n",
              "    </tr>\n",
              "    <tr>\n",
              "      <th>1</th>\n",
              "      <td>1</td>\n",
              "      <td>1</td>\n",
              "      <td>1</td>\n",
              "      <td>2001-01-01</td>\n",
              "    </tr>\n",
              "    <tr>\n",
              "      <th>2</th>\n",
              "      <td>2</td>\n",
              "      <td>2</td>\n",
              "      <td>1</td>\n",
              "      <td>2001-01-01</td>\n",
              "    </tr>\n",
              "    <tr>\n",
              "      <th>3</th>\n",
              "      <td>3</td>\n",
              "      <td>3</td>\n",
              "      <td>1</td>\n",
              "      <td>2001-01-01</td>\n",
              "    </tr>\n",
              "    <tr>\n",
              "      <th>4</th>\n",
              "      <td>4</td>\n",
              "      <td>4</td>\n",
              "      <td>1</td>\n",
              "      <td>2001-01-02</td>\n",
              "    </tr>\n",
              "    <tr>\n",
              "      <th>...</th>\n",
              "      <td>...</td>\n",
              "      <td>...</td>\n",
              "      <td>...</td>\n",
              "      <td>...</td>\n",
              "    </tr>\n",
              "    <tr>\n",
              "      <th>372448</th>\n",
              "      <td>28129</td>\n",
              "      <td>16648</td>\n",
              "      <td>1</td>\n",
              "      <td>2018-08-31</td>\n",
              "    </tr>\n",
              "    <tr>\n",
              "      <th>372449</th>\n",
              "      <td>3183</td>\n",
              "      <td>16542</td>\n",
              "      <td>1</td>\n",
              "      <td>2018-08-31</td>\n",
              "    </tr>\n",
              "    <tr>\n",
              "      <th>372450</th>\n",
              "      <td>16433</td>\n",
              "      <td>16542</td>\n",
              "      <td>1</td>\n",
              "      <td>2018-08-31</td>\n",
              "    </tr>\n",
              "    <tr>\n",
              "      <th>372451</th>\n",
              "      <td>16400</td>\n",
              "      <td>17342</td>\n",
              "      <td>1</td>\n",
              "      <td>2018-08-31</td>\n",
              "    </tr>\n",
              "    <tr>\n",
              "      <th>372452</th>\n",
              "      <td>29668</td>\n",
              "      <td>15738</td>\n",
              "      <td>1</td>\n",
              "      <td>2018-08-31</td>\n",
              "    </tr>\n",
              "  </tbody>\n",
              "</table>\n",
              "<p>372453 rows × 4 columns</p>\n",
              "</div>"
            ],
            "text/plain": [
              "        userId  productId  rating  timestamp\n",
              "0            0          0       1 2001-01-01\n",
              "1            1          1       1 2001-01-01\n",
              "2            2          2       1 2001-01-01\n",
              "3            3          3       1 2001-01-01\n",
              "4            4          4       1 2001-01-02\n",
              "...        ...        ...     ...        ...\n",
              "372448   28129      16648       1 2018-08-31\n",
              "372449    3183      16542       1 2018-08-31\n",
              "372450   16433      16542       1 2018-08-31\n",
              "372451   16400      17342       1 2018-08-31\n",
              "372452   29668      15738       1 2018-08-31\n",
              "\n",
              "[372453 rows x 4 columns]"
            ]
          },
          "metadata": {
            "tags": []
          },
          "execution_count": 8
        }
      ]
    },
    {
      "cell_type": "markdown",
      "metadata": {
        "id": "pvKWYN8fTvMG"
      },
      "source": [
        "###Step 1: Data Splitting"
      ]
    },
    {
      "cell_type": "code",
      "metadata": {
        "colab": {
          "base_uri": "https://localhost:8080/"
        },
        "id": "uPKsoiMgTvMs",
        "outputId": "c34b5b76-b3d8-4ce7-847f-2f86f3f66e61"
      },
      "source": [
        "pivotMonths_list  = getPivotMonths(AMZG_DF,'timestamp',N_TMonths=18)  \n",
        "pivotMonths_list"
      ],
      "execution_count": 9,
      "outputs": [
        {
          "output_type": "execute_result",
          "data": {
            "text/plain": [
              "[Timestamp('2018-07-31 00:00:00'),\n",
              " Timestamp('2018-06-30 00:00:00'),\n",
              " Timestamp('2018-05-31 00:00:00'),\n",
              " Timestamp('2018-04-30 00:00:00'),\n",
              " Timestamp('2018-03-31 00:00:00'),\n",
              " Timestamp('2018-02-28 00:00:00'),\n",
              " Timestamp('2018-01-31 00:00:00'),\n",
              " Timestamp('2017-12-31 00:00:00'),\n",
              " Timestamp('2017-11-30 00:00:00'),\n",
              " Timestamp('2017-10-31 00:00:00'),\n",
              " Timestamp('2017-09-30 00:00:00'),\n",
              " Timestamp('2017-08-31 00:00:00'),\n",
              " Timestamp('2017-07-31 00:00:00'),\n",
              " Timestamp('2017-06-30 00:00:00'),\n",
              " Timestamp('2017-05-31 00:00:00'),\n",
              " Timestamp('2017-04-30 00:00:00'),\n",
              " Timestamp('2017-03-31 00:00:00'),\n",
              " Timestamp('2017-02-28 00:00:00')]"
            ]
          },
          "metadata": {
            "tags": []
          },
          "execution_count": 9
        }
      ]
    },
    {
      "cell_type": "code",
      "metadata": {
        "colab": {
          "base_uri": "https://localhost:8080/"
        },
        "id": "ruYdG0P1TvMw",
        "outputId": "9d907959-e02f-4187-bcd6-53fe7e47819e"
      },
      "source": [
        "A0_df,ΔA_train,ΔA_test = Time_DataSplit(AMZG_DF,'timestamp',pivotMonths_list,N_TMonths= 18,n_train=10)\n",
        "print('Last date in A0_df :',A0_df['timestamp'].max())\n",
        "print('Num ΔA_train :', len(ΔA_train))"
      ],
      "execution_count": 10,
      "outputs": [
        {
          "output_type": "stream",
          "text": [
            "Last date in A0_df : 2017-02-27 00:00:00\n",
            "Num ΔA_train : 10\n"
          ],
          "name": "stdout"
        }
      ]
    },
    {
      "cell_type": "code",
      "metadata": {
        "colab": {
          "base_uri": "https://localhost:8080/"
        },
        "id": "3VlxVQQMTvMy",
        "outputId": "f2120213-156c-412b-d08d-42774d280927"
      },
      "source": [
        "AllDF_list, PSITest_list, HOLDOUT_list, UserItemDF_list = TestTrain_DataSplit(AMZG_DF,'userId','timestamp',pivotMonths_list,ΔA_test)\n",
        "print('Num AllDF_list :', len(AllDF_list))"
      ],
      "execution_count": 11,
      "outputs": [
        {
          "output_type": "stream",
          "text": [
            "Num AllDF_list : 8\n"
          ],
          "name": "stdout"
        }
      ]
    },
    {
      "cell_type": "code",
      "metadata": {
        "id": "pm4NRJ9jTvMz"
      },
      "source": [
        "for df in ΔA_train:\n",
        "    print(df['userId'].nunique(),df['productId'].nunique())\n",
        "for df in ΔA_test:\n",
        "    print(df['userId'].nunique(),df['productId'].nunique())"
      ],
      "execution_count": null,
      "outputs": []
    },
    {
      "cell_type": "code",
      "metadata": {
        "id": "eWMwJPUFTvM0"
      },
      "source": [
        ""
      ],
      "execution_count": null,
      "outputs": []
    },
    {
      "cell_type": "markdown",
      "metadata": {
        "id": "dzWCij3ZipQX"
      },
      "source": [
        "### Step 2: Find new users and items"
      ]
    },
    {
      "cell_type": "code",
      "metadata": {
        "colab": {
          "base_uri": "https://localhost:8080/"
        },
        "id": "L-GolZfZipQZ",
        "outputId": "fd751d20-d814-4190-b6d1-def2ecf65ab6"
      },
      "source": [
        "Tstps = AMZG_DF['timestamp']\n",
        "tr_ts = ΔA_train[-1]['timestamp'].max()\n",
        "print(\"ΔA_train_last max date: \",tr_ts)\n",
        "AllDF_start = AMZG_DF.loc[Tstps <= tr_ts] \n",
        "print(AllDF_start['timestamp'].min())\n",
        "print(AllDF_start['timestamp'].max())\n",
        "print()\n",
        "print(AllDF_list[0]['timestamp'].min())\n",
        "print(AllDF_list[0]['timestamp'].max())"
      ],
      "execution_count": 12,
      "outputs": [
        {
          "output_type": "stream",
          "text": [
            "ΔA_train_last max date:  2017-12-30 00:00:00\n",
            "2001-01-01 00:00:00\n",
            "2017-12-30 00:00:00\n",
            "\n",
            "2001-01-01 00:00:00\n",
            "2018-01-30 00:00:00\n"
          ],
          "name": "stdout"
        }
      ]
    },
    {
      "cell_type": "code",
      "metadata": {
        "colab": {
          "base_uri": "https://localhost:8080/"
        },
        "id": "GfgYKuugA3lO",
        "outputId": "21f0fd10-c6a4-4c6f-da14-654ad34b16cc"
      },
      "source": [
        "New_usersList,New_itemsList = Find_NewUsersItems(AllDF_start,AllDF_list,'userId','productId',N_steps=8)\n",
        "New_usersList[0]   #"
      ],
      "execution_count": 13,
      "outputs": [
        {
          "output_type": "execute_result",
          "data": {
            "text/plain": [
              "array([52808, 52809, 52810, 52811, 52812, 52813, 52814, 52815, 52816,\n",
              "       52817, 52818, 52819, 52820, 52821, 52822, 52823, 52824, 52825,\n",
              "       52826, 52827, 52828, 52829, 52830, 52831, 52832, 52833, 52834,\n",
              "       52835, 52836, 52837, 52838, 52839, 52840, 52841, 52842, 52843,\n",
              "       52844, 52845, 52846, 52847, 52848, 52849, 52850, 52851, 52852,\n",
              "       52853, 52854, 52855, 52856, 52857, 52858, 52859, 52860, 52861,\n",
              "       52862, 52863, 52864, 52865, 52866, 52867, 52868, 52869, 52870,\n",
              "       52871, 52872, 52873, 52874, 52875, 52876, 52877, 52878, 52879,\n",
              "       52880, 52881, 52882, 52883, 52884, 52885, 52886, 52887, 52888,\n",
              "       52889, 52890, 52891, 52892, 52893, 52894, 52895, 52896, 52897,\n",
              "       52898])"
            ]
          },
          "metadata": {
            "tags": []
          },
          "execution_count": 13
        }
      ]
    },
    {
      "cell_type": "code",
      "metadata": {
        "colab": {
          "base_uri": "https://localhost:8080/"
        },
        "id": "0icoPBf-ipQb",
        "outputId": "d8eb6e84-0a47-4f03-bf11-01e452765eab"
      },
      "source": [
        "New_itemsList[0]   "
      ],
      "execution_count": 14,
      "outputs": [
        {
          "output_type": "execute_result",
          "data": {
            "text/plain": [
              "array([17329, 17330, 17331])"
            ]
          },
          "metadata": {
            "tags": []
          },
          "execution_count": 14
        }
      ]
    },
    {
      "cell_type": "code",
      "metadata": {
        "colab": {
          "base_uri": "https://localhost:8080/"
        },
        "id": "KXIsxxPnjhx2",
        "outputId": "6328c8bd-53a4-4294-ba4b-b1f81ed1c8a9"
      },
      "source": [
        "for i,j in zip(New_usersList,New_itemsList):\n",
        "    print(i.size)\n",
        "    print(j.size)\n",
        "    print()"
      ],
      "execution_count": 15,
      "outputs": [
        {
          "output_type": "stream",
          "text": [
            "91\n",
            "3\n",
            "\n",
            "75\n",
            "4\n",
            "\n",
            "95\n",
            "3\n",
            "\n",
            "74\n",
            "6\n",
            "\n",
            "46\n",
            "2\n",
            "\n",
            "25\n",
            "2\n",
            "\n",
            "13\n",
            "2\n",
            "\n",
            "15\n",
            "0\n",
            "\n"
          ],
          "name": "stdout"
        }
      ]
    },
    {
      "cell_type": "code",
      "metadata": {
        "id": "1ykECNc7G4GL"
      },
      "source": [
        ""
      ],
      "execution_count": null,
      "outputs": []
    },
    {
      "cell_type": "markdown",
      "metadata": {
        "id": "n_XyE7otUxey"
      },
      "source": [
        "###Get Updt RatMat"
      ]
    },
    {
      "cell_type": "code",
      "metadata": {
        "colab": {
          "base_uri": "https://localhost:8080/"
        },
        "id": "Xdhii7cmgw2h",
        "outputId": "ae5ed319-3116-4e61-d65c-40dcf700acca"
      },
      "source": [
        "print(AllDF_start['userId'].nunique(),AllDF_start['productId'].nunique())   #"
      ],
      "execution_count": 16,
      "outputs": [
        {
          "output_type": "stream",
          "text": [
            "52808 17329\n"
          ],
          "name": "stdout"
        }
      ]
    },
    {
      "cell_type": "code",
      "metadata": {
        "colab": {
          "base_uri": "https://localhost:8080/"
        },
        "id": "-S_Ti3jIVmL7",
        "outputId": "595fef5a-dfab-4bdd-fc9f-08ae444fdf77"
      },
      "source": [
        "rows_i = AllDF_start['userId'].nunique()\n",
        "cols_i = AllDF_start['productId'].nunique()\n",
        "print(A0_df.shape)\n",
        "A0_RatMat_updt = SingleRatingMatrix(A0_df,'userId', 'productId',rows_i,cols_i)\n",
        "A0_RatMat_updt"
      ],
      "execution_count": 17,
      "outputs": [
        {
          "output_type": "stream",
          "text": [
            "(339913, 4)\n"
          ],
          "name": "stdout"
        },
        {
          "output_type": "execute_result",
          "data": {
            "text/plain": [
              "<52808x17329 sparse matrix of type '<class 'numpy.float64'>'\n",
              "\twith 339644 stored elements in Compressed Sparse Row format>"
            ]
          },
          "metadata": {
            "tags": []
          },
          "execution_count": 17
        }
      ]
    },
    {
      "cell_type": "code",
      "metadata": {
        "colab": {
          "base_uri": "https://localhost:8080/"
        },
        "id": "9bSWovTNVmMX",
        "outputId": "1dd56dca-3534-4dbf-be8e-d8e36111bc84"
      },
      "source": [
        "PSI_TrainMat_updt = AllRatingMatrices(ΔA_train,'userId','productId',rows_i ,cols_i)\n",
        "PSI_TrainMat_updt"
      ],
      "execution_count": 18,
      "outputs": [
        {
          "output_type": "execute_result",
          "data": {
            "text/plain": [
              "[<52808x17329 sparse matrix of type '<class 'numpy.float64'>'\n",
              " \twith 4066 stored elements in Compressed Sparse Row format>,\n",
              " <52808x17329 sparse matrix of type '<class 'numpy.float64'>'\n",
              " \twith 3053 stored elements in Compressed Sparse Row format>,\n",
              " <52808x17329 sparse matrix of type '<class 'numpy.float64'>'\n",
              " \twith 2559 stored elements in Compressed Sparse Row format>,\n",
              " <52808x17329 sparse matrix of type '<class 'numpy.float64'>'\n",
              " \twith 2208 stored elements in Compressed Sparse Row format>,\n",
              " <52808x17329 sparse matrix of type '<class 'numpy.float64'>'\n",
              " \twith 2163 stored elements in Compressed Sparse Row format>,\n",
              " <52808x17329 sparse matrix of type '<class 'numpy.float64'>'\n",
              " \twith 2166 stored elements in Compressed Sparse Row format>,\n",
              " <52808x17329 sparse matrix of type '<class 'numpy.float64'>'\n",
              " \twith 1855 stored elements in Compressed Sparse Row format>,\n",
              " <52808x17329 sparse matrix of type '<class 'numpy.float64'>'\n",
              " \twith 1644 stored elements in Compressed Sparse Row format>,\n",
              " <52808x17329 sparse matrix of type '<class 'numpy.float64'>'\n",
              " \twith 1725 stored elements in Compressed Sparse Row format>,\n",
              " <52808x17329 sparse matrix of type '<class 'numpy.float64'>'\n",
              " \twith 1691 stored elements in Compressed Sparse Row format>]"
            ]
          },
          "metadata": {
            "tags": []
          },
          "execution_count": 18
        }
      ]
    },
    {
      "cell_type": "code",
      "metadata": {
        "id": "X9B1wEG8YUQa",
        "colab": {
          "base_uri": "https://localhost:8080/"
        },
        "outputId": "4b8c2bdd-55d7-44e7-cbf6-01d63e1ef317"
      },
      "source": [
        "print(AllDF_start['userId'].nunique(),AllDF_start['productId'].nunique()) #"
      ],
      "execution_count": 19,
      "outputs": [
        {
          "output_type": "stream",
          "text": [
            "52808 17329\n"
          ],
          "name": "stdout"
        }
      ]
    },
    {
      "cell_type": "code",
      "metadata": {
        "id": "e9NJhE62HOOO"
      },
      "source": [
        ""
      ],
      "execution_count": null,
      "outputs": []
    },
    {
      "cell_type": "markdown",
      "metadata": {
        "id": "A0k3BxpQCEDK"
      },
      "source": [
        "### Allsteps Update"
      ]
    },
    {
      "cell_type": "code",
      "metadata": {
        "id": "RrhIaattvMvN"
      },
      "source": [
        "# rows_i = AllDF_start['userId'].nunique()\n",
        "# cols_i = AllDF_start['productId'].nunique()\n",
        "# print(AllDF_start.shape)\n",
        "# AllDF_startRatMat = SingleRatingMatrix(AllDF_start,'userId', 'productId',rows_i,cols_i)\n",
        "\n",
        "# U_start,S_start,V_start = svds(AllDF_startRatMat,k=50)\n",
        "# V_start = V_start.T\n",
        "# print()\n",
        "# print(\"U_start shape: \",U_start.shape)\n",
        "# print(\"S_start shape: \",S_start.shape)\n",
        "# print(\"V_start shape: \",V_start.shape)"
      ],
      "execution_count": null,
      "outputs": []
    },
    {
      "cell_type": "code",
      "metadata": {
        "colab": {
          "base_uri": "https://localhost:8080/"
        },
        "id": "gZKKzIA4UPAt",
        "outputId": "7f99ca96-3feb-4329-a525-470df8f39425"
      },
      "source": [
        "U_start,S_start,V_start = last_psiTrainMat(A0_RatMat_updt,PSI_TrainMat_updt,k=50)\n",
        "print()\n",
        "print(\"U_start shape: \",U_start.shape)\n",
        "print(\"S_start shape: \",S_start.shape)\n",
        "print(\"V_start shape: \",V_start.shape)"
      ],
      "execution_count": 20,
      "outputs": [
        {
          "output_type": "stream",
          "text": [
            "100%|██████████| 10/10 [00:02<00:00,  3.80it/s]"
          ],
          "name": "stderr"
        },
        {
          "output_type": "stream",
          "text": [
            "\n",
            "U_start shape:  (52808, 50)\n",
            "S_start shape:  (50, 50)\n",
            "V_start shape:  (17329, 50)\n"
          ],
          "name": "stdout"
        },
        {
          "output_type": "stream",
          "text": [
            "\n"
          ],
          "name": "stderr"
        }
      ]
    },
    {
      "cell_type": "code",
      "metadata": {
        "colab": {
          "base_uri": "https://localhost:8080/"
        },
        "id": "1c2frghJa9qQ",
        "outputId": "2b0b0988-3407-490a-eb76-6c6b85b3fafc"
      },
      "source": [
        "U_list,S_list,V_list = [],[],[]\n",
        "U_list.append(U_start)\n",
        "S_list.append(S_start)\n",
        "V_list.append(V_start)\n",
        "print(len(U_list),len(V_list))"
      ],
      "execution_count": 21,
      "outputs": [
        {
          "output_type": "stream",
          "text": [
            "1 1\n"
          ],
          "name": "stdout"
        }
      ]
    },
    {
      "cell_type": "code",
      "metadata": {
        "colab": {
          "base_uri": "https://localhost:8080/"
        },
        "id": "zrWnw-d_NaEe",
        "outputId": "7a2650c5-0a12-4bc5-edc8-bb8495f21cc4"
      },
      "source": [
        "DItems_, DUsers_,In_DomainUSERS,In_DomainITEMS,userID_dict,itemID_dict,AllUpdtUSERS_,AllUpdtITEMS_,U_list,S_list,V_list = ALLSTEPs_UPDATE(AllDF_start,\n",
        "                                            UserItemDF_list,New_itemsList,New_usersList,U_list,S_list,V_list,'userId','productId',Nsteps=8,k=50,Forced_Orth=False)"
      ],
      "execution_count": 22,
      "outputs": [
        {
          "output_type": "stream",
          "text": [
            "100%|██████████| 7/7 [00:22<00:00,  3.27s/it]\n"
          ],
          "name": "stderr"
        }
      ]
    },
    {
      "cell_type": "code",
      "metadata": {
        "id": "rdX0nPyQz1LO"
      },
      "source": [
        ""
      ],
      "execution_count": null,
      "outputs": []
    },
    {
      "cell_type": "markdown",
      "metadata": {
        "id": "H9o1U4E-zttV"
      },
      "source": [
        "#### Output Check"
      ]
    },
    {
      "cell_type": "code",
      "metadata": {
        "colab": {
          "base_uri": "https://localhost:8080/"
        },
        "id": "dkB8VuZaiYrZ",
        "outputId": "c457e38e-8722-4472-b18a-243486405b8b"
      },
      "source": [
        "AllDF_start['userId'].max() "
      ],
      "execution_count": 23,
      "outputs": [
        {
          "output_type": "execute_result",
          "data": {
            "text/plain": [
              "52807"
            ]
          },
          "metadata": {
            "tags": []
          },
          "execution_count": 23
        }
      ]
    },
    {
      "cell_type": "code",
      "metadata": {
        "colab": {
          "base_uri": "https://localhost:8080/"
        },
        "id": "0J4Qrzf9OvVN",
        "outputId": "353cfab2-97c5-4a0f-bcb4-c8e9ea125477"
      },
      "source": [
        "print(len(In_DomainITEMS[17329:]))\n",
        "print(In_DomainITEMS[17329:])\n",
        "print()\n",
        "print(len(In_DomainUSERS[52808:]))\n",
        "print(In_DomainUSERS[52808:])"
      ],
      "execution_count": 24,
      "outputs": [
        {
          "output_type": "stream",
          "text": [
            "22\n",
            "[17329, 17330, 17331, 17332, 17333, 17334, 17335, 17339, 17340, 17342, 17336, 17337, 17338, 17341, 17344, 17343, 17345, 17347, 17348, 17346, 17349, 17350]\n",
            "\n",
            "430\n",
            "[52808, 52809, 52810, 52811, 52812, 52813, 52814, 52815, 52816, 52817, 52818, 52819, 52820, 52821, 52822, 52823, 52824, 52825, 52826, 52827, 52828, 52829, 52830, 52832, 52833, 52834, 52835, 52836, 52837, 52838, 52839, 52840, 52841, 52842, 52843, 52844, 52845, 52846, 52847, 52848, 52849, 52850, 52851, 52852, 52855, 52856, 52857, 52858, 52859, 52861, 52862, 52863, 52864, 52865, 52866, 52867, 52868, 52869, 52871, 52872, 52873, 52874, 52875, 52876, 52877, 52878, 52879, 52880, 52881, 52882, 52883, 52884, 52885, 52886, 52887, 52888, 52889, 52890, 52891, 52892, 52893, 52894, 52895, 52896, 52897, 52898, 52899, 52900, 52901, 52902, 52903, 52904, 52905, 52906, 52908, 52909, 52910, 52911, 52912, 52913, 52914, 52915, 52916, 52917, 52918, 52919, 52920, 52921, 52922, 52923, 52924, 52925, 52926, 52927, 52928, 52929, 52930, 52931, 52932, 52933, 52935, 52936, 52937, 52939, 52940, 52941, 52942, 52943, 52944, 52945, 52947, 52948, 52949, 52950, 52951, 52952, 52953, 52954, 52955, 52956, 52957, 52959, 52960, 52961, 52962, 52963, 52964, 52965, 52966, 52967, 52969, 52970, 52971, 52972, 52973, 52831, 52853, 52854, 52860, 52870, 52974, 52975, 52976, 52977, 52978, 52979, 52980, 52981, 52982, 52983, 52984, 52985, 52986, 52988, 52989, 52990, 52991, 52994, 52995, 52996, 52997, 52998, 52999, 53000, 53001, 53002, 53003, 53004, 53005, 53006, 53007, 53009, 53010, 53011, 53012, 53014, 53015, 53016, 53017, 53018, 53019, 53020, 53021, 53022, 53023, 53024, 53025, 53026, 53027, 53028, 53029, 53031, 53032, 53033, 53034, 53035, 53036, 53037, 53038, 53039, 53040, 53041, 53042, 53043, 53044, 53045, 53046, 53047, 53048, 53049, 53050, 53052, 53053, 53054, 53055, 53056, 53057, 53058, 53059, 53060, 53062, 53063, 53064, 53065, 53066, 53067, 53068, 52907, 52934, 52938, 52946, 52958, 52968, 53069, 53070, 53071, 53072, 53074, 53075, 53076, 53077, 53078, 53079, 53081, 53082, 53084, 53085, 53086, 53087, 53088, 53089, 53090, 53091, 53092, 53093, 53094, 53096, 53097, 53098, 53099, 53100, 53101, 53102, 53103, 53104, 53105, 53106, 53107, 53108, 53109, 53110, 53111, 53112, 53113, 53114, 53115, 53116, 53117, 53118, 53119, 53120, 53121, 53122, 53123, 53124, 53125, 53126, 53127, 53128, 53129, 53130, 53131, 53132, 53133, 53134, 53135, 53136, 53137, 53138, 53139, 53140, 53141, 53142, 52987, 52992, 52993, 53008, 53013, 53030, 53051, 53061, 53143, 53144, 53145, 53146, 53147, 53148, 53149, 53150, 53151, 53152, 53153, 53154, 53155, 53156, 53157, 53158, 53159, 53160, 53162, 53163, 53164, 53165, 53166, 53167, 53168, 53169, 53170, 53171, 53172, 53173, 53174, 53175, 53176, 53177, 53178, 53179, 53180, 53181, 53182, 53183, 53184, 53185, 53186, 53187, 53188, 53073, 53080, 53083, 53095, 53189, 53190, 53191, 53192, 53193, 53194, 53195, 53197, 53198, 53199, 53201, 53202, 53203, 53204, 53205, 53206, 53207, 53208, 53209, 53210, 53211, 53212, 53213, 53161, 53214, 53215, 53216, 53217, 53218, 53220, 53221, 53222, 53224, 53225, 53226, 53196, 53200, 53227, 53228, 53229, 53230, 53232, 53233, 53234, 53235, 53239, 53240, 53241, 53219, 53223]\n"
          ],
          "name": "stdout"
        }
      ]
    },
    {
      "cell_type": "code",
      "metadata": {
        "colab": {
          "base_uri": "https://localhost:8080/"
        },
        "id": "5vpSt3xLOvVU",
        "outputId": "39f588df-e20a-4353-a552-de076b6b799d"
      },
      "source": [
        "#deferred items and users\n",
        "print(len(DItems_))\n",
        "print(DItems_)\n",
        "print()\n",
        "print(len(DUsers_))\n",
        "print(DUsers_)      "
      ],
      "execution_count": 25,
      "outputs": [
        {
          "output_type": "stream",
          "text": [
            "0\n",
            "[]\n",
            "\n",
            "4\n",
            "[53231, 53236, 53237, 53238]\n"
          ],
          "name": "stdout"
        }
      ]
    },
    {
      "cell_type": "code",
      "metadata": {
        "colab": {
          "base_uri": "https://localhost:8080/"
        },
        "id": "fYRgZGwlOvVW",
        "outputId": "6f287ff8-19e5-4f1f-9d9f-6f1f83f772b6"
      },
      "source": [
        "for x in list(itemID_dict)[17329:]:\n",
        "    print (\"Id: {}, UpdtId: {} \".format(x,  itemID_dict[x]))   ##id ==key || updtedid == values  ,itemID_dict"
      ],
      "execution_count": 26,
      "outputs": [
        {
          "output_type": "stream",
          "text": [
            "Id: 17329, UpdtId: 17329 \n",
            "Id: 17330, UpdtId: 17330 \n",
            "Id: 17331, UpdtId: 17331 \n",
            "Id: 17332, UpdtId: 17332 \n",
            "Id: 17333, UpdtId: 17333 \n",
            "Id: 17334, UpdtId: 17334 \n",
            "Id: 17335, UpdtId: 17335 \n",
            "Id: 17339, UpdtId: 17336 \n",
            "Id: 17340, UpdtId: 17337 \n",
            "Id: 17342, UpdtId: 17338 \n",
            "Id: 17336, UpdtId: 17339 \n",
            "Id: 17337, UpdtId: 17340 \n",
            "Id: 17338, UpdtId: 17341 \n",
            "Id: 17341, UpdtId: 17342 \n",
            "Id: 17344, UpdtId: 17343 \n",
            "Id: 17343, UpdtId: 17344 \n",
            "Id: 17345, UpdtId: 17345 \n",
            "Id: 17347, UpdtId: 17346 \n",
            "Id: 17348, UpdtId: 17347 \n",
            "Id: 17346, UpdtId: 17348 \n",
            "Id: 17349, UpdtId: 17349 \n",
            "Id: 17350, UpdtId: 17350 \n"
          ],
          "name": "stdout"
        }
      ]
    },
    {
      "cell_type": "code",
      "metadata": {
        "id": "XP6aaq1qOvVY",
        "colab": {
          "base_uri": "https://localhost:8080/"
        },
        "outputId": "c322e822-2abe-4820-e9d3-c0427a3ff273"
      },
      "source": [
        "for x in list(userID_dict)[52808:]:\n",
        "    print (\"Id: {}, UpdtId: {} \".format(x,  userID_dict[x]))   ##id ==key || updtedid == values "
      ],
      "execution_count": 27,
      "outputs": [
        {
          "output_type": "stream",
          "text": [
            "Id: 52808, UpdtId: 52808 \n",
            "Id: 52809, UpdtId: 52809 \n",
            "Id: 52810, UpdtId: 52810 \n",
            "Id: 52811, UpdtId: 52811 \n",
            "Id: 52812, UpdtId: 52812 \n",
            "Id: 52813, UpdtId: 52813 \n",
            "Id: 52814, UpdtId: 52814 \n",
            "Id: 52815, UpdtId: 52815 \n",
            "Id: 52816, UpdtId: 52816 \n",
            "Id: 52817, UpdtId: 52817 \n",
            "Id: 52818, UpdtId: 52818 \n",
            "Id: 52819, UpdtId: 52819 \n",
            "Id: 52820, UpdtId: 52820 \n",
            "Id: 52821, UpdtId: 52821 \n",
            "Id: 52822, UpdtId: 52822 \n",
            "Id: 52823, UpdtId: 52823 \n",
            "Id: 52824, UpdtId: 52824 \n",
            "Id: 52825, UpdtId: 52825 \n",
            "Id: 52826, UpdtId: 52826 \n",
            "Id: 52827, UpdtId: 52827 \n",
            "Id: 52828, UpdtId: 52828 \n",
            "Id: 52829, UpdtId: 52829 \n",
            "Id: 52830, UpdtId: 52830 \n",
            "Id: 52832, UpdtId: 52831 \n",
            "Id: 52833, UpdtId: 52832 \n",
            "Id: 52834, UpdtId: 52833 \n",
            "Id: 52835, UpdtId: 52834 \n",
            "Id: 52836, UpdtId: 52835 \n",
            "Id: 52837, UpdtId: 52836 \n",
            "Id: 52838, UpdtId: 52837 \n",
            "Id: 52839, UpdtId: 52838 \n",
            "Id: 52840, UpdtId: 52839 \n",
            "Id: 52841, UpdtId: 52840 \n",
            "Id: 52842, UpdtId: 52841 \n",
            "Id: 52843, UpdtId: 52842 \n",
            "Id: 52844, UpdtId: 52843 \n",
            "Id: 52845, UpdtId: 52844 \n",
            "Id: 52846, UpdtId: 52845 \n",
            "Id: 52847, UpdtId: 52846 \n",
            "Id: 52848, UpdtId: 52847 \n",
            "Id: 52849, UpdtId: 52848 \n",
            "Id: 52850, UpdtId: 52849 \n",
            "Id: 52851, UpdtId: 52850 \n",
            "Id: 52852, UpdtId: 52851 \n",
            "Id: 52855, UpdtId: 52852 \n",
            "Id: 52856, UpdtId: 52853 \n",
            "Id: 52857, UpdtId: 52854 \n",
            "Id: 52858, UpdtId: 52855 \n",
            "Id: 52859, UpdtId: 52856 \n",
            "Id: 52861, UpdtId: 52857 \n",
            "Id: 52862, UpdtId: 52858 \n",
            "Id: 52863, UpdtId: 52859 \n",
            "Id: 52864, UpdtId: 52860 \n",
            "Id: 52865, UpdtId: 52861 \n",
            "Id: 52866, UpdtId: 52862 \n",
            "Id: 52867, UpdtId: 52863 \n",
            "Id: 52868, UpdtId: 52864 \n",
            "Id: 52869, UpdtId: 52865 \n",
            "Id: 52871, UpdtId: 52866 \n",
            "Id: 52872, UpdtId: 52867 \n",
            "Id: 52873, UpdtId: 52868 \n",
            "Id: 52874, UpdtId: 52869 \n",
            "Id: 52875, UpdtId: 52870 \n",
            "Id: 52876, UpdtId: 52871 \n",
            "Id: 52877, UpdtId: 52872 \n",
            "Id: 52878, UpdtId: 52873 \n",
            "Id: 52879, UpdtId: 52874 \n",
            "Id: 52880, UpdtId: 52875 \n",
            "Id: 52881, UpdtId: 52876 \n",
            "Id: 52882, UpdtId: 52877 \n",
            "Id: 52883, UpdtId: 52878 \n",
            "Id: 52884, UpdtId: 52879 \n",
            "Id: 52885, UpdtId: 52880 \n",
            "Id: 52886, UpdtId: 52881 \n",
            "Id: 52887, UpdtId: 52882 \n",
            "Id: 52888, UpdtId: 52883 \n",
            "Id: 52889, UpdtId: 52884 \n",
            "Id: 52890, UpdtId: 52885 \n",
            "Id: 52891, UpdtId: 52886 \n",
            "Id: 52892, UpdtId: 52887 \n",
            "Id: 52893, UpdtId: 52888 \n",
            "Id: 52894, UpdtId: 52889 \n",
            "Id: 52895, UpdtId: 52890 \n",
            "Id: 52896, UpdtId: 52891 \n",
            "Id: 52897, UpdtId: 52892 \n",
            "Id: 52898, UpdtId: 52893 \n",
            "Id: 52899, UpdtId: 52894 \n",
            "Id: 52900, UpdtId: 52895 \n",
            "Id: 52901, UpdtId: 52896 \n",
            "Id: 52902, UpdtId: 52897 \n",
            "Id: 52903, UpdtId: 52898 \n",
            "Id: 52904, UpdtId: 52899 \n",
            "Id: 52905, UpdtId: 52900 \n",
            "Id: 52906, UpdtId: 52901 \n",
            "Id: 52908, UpdtId: 52902 \n",
            "Id: 52909, UpdtId: 52903 \n",
            "Id: 52910, UpdtId: 52904 \n",
            "Id: 52911, UpdtId: 52905 \n",
            "Id: 52912, UpdtId: 52906 \n",
            "Id: 52913, UpdtId: 52907 \n",
            "Id: 52914, UpdtId: 52908 \n",
            "Id: 52915, UpdtId: 52909 \n",
            "Id: 52916, UpdtId: 52910 \n",
            "Id: 52917, UpdtId: 52911 \n",
            "Id: 52918, UpdtId: 52912 \n",
            "Id: 52919, UpdtId: 52913 \n",
            "Id: 52920, UpdtId: 52914 \n",
            "Id: 52921, UpdtId: 52915 \n",
            "Id: 52922, UpdtId: 52916 \n",
            "Id: 52923, UpdtId: 52917 \n",
            "Id: 52924, UpdtId: 52918 \n",
            "Id: 52925, UpdtId: 52919 \n",
            "Id: 52926, UpdtId: 52920 \n",
            "Id: 52927, UpdtId: 52921 \n",
            "Id: 52928, UpdtId: 52922 \n",
            "Id: 52929, UpdtId: 52923 \n",
            "Id: 52930, UpdtId: 52924 \n",
            "Id: 52931, UpdtId: 52925 \n",
            "Id: 52932, UpdtId: 52926 \n",
            "Id: 52933, UpdtId: 52927 \n",
            "Id: 52935, UpdtId: 52928 \n",
            "Id: 52936, UpdtId: 52929 \n",
            "Id: 52937, UpdtId: 52930 \n",
            "Id: 52939, UpdtId: 52931 \n",
            "Id: 52940, UpdtId: 52932 \n",
            "Id: 52941, UpdtId: 52933 \n",
            "Id: 52942, UpdtId: 52934 \n",
            "Id: 52943, UpdtId: 52935 \n",
            "Id: 52944, UpdtId: 52936 \n",
            "Id: 52945, UpdtId: 52937 \n",
            "Id: 52947, UpdtId: 52938 \n",
            "Id: 52948, UpdtId: 52939 \n",
            "Id: 52949, UpdtId: 52940 \n",
            "Id: 52950, UpdtId: 52941 \n",
            "Id: 52951, UpdtId: 52942 \n",
            "Id: 52952, UpdtId: 52943 \n",
            "Id: 52953, UpdtId: 52944 \n",
            "Id: 52954, UpdtId: 52945 \n",
            "Id: 52955, UpdtId: 52946 \n",
            "Id: 52956, UpdtId: 52947 \n",
            "Id: 52957, UpdtId: 52948 \n",
            "Id: 52959, UpdtId: 52949 \n",
            "Id: 52960, UpdtId: 52950 \n",
            "Id: 52961, UpdtId: 52951 \n",
            "Id: 52962, UpdtId: 52952 \n",
            "Id: 52963, UpdtId: 52953 \n",
            "Id: 52964, UpdtId: 52954 \n",
            "Id: 52965, UpdtId: 52955 \n",
            "Id: 52966, UpdtId: 52956 \n",
            "Id: 52967, UpdtId: 52957 \n",
            "Id: 52969, UpdtId: 52958 \n",
            "Id: 52970, UpdtId: 52959 \n",
            "Id: 52971, UpdtId: 52960 \n",
            "Id: 52972, UpdtId: 52961 \n",
            "Id: 52973, UpdtId: 52962 \n",
            "Id: 52831, UpdtId: 52963 \n",
            "Id: 52853, UpdtId: 52964 \n",
            "Id: 52854, UpdtId: 52965 \n",
            "Id: 52860, UpdtId: 52966 \n",
            "Id: 52870, UpdtId: 52967 \n",
            "Id: 52974, UpdtId: 52968 \n",
            "Id: 52975, UpdtId: 52969 \n",
            "Id: 52976, UpdtId: 52970 \n",
            "Id: 52977, UpdtId: 52971 \n",
            "Id: 52978, UpdtId: 52972 \n",
            "Id: 52979, UpdtId: 52973 \n",
            "Id: 52980, UpdtId: 52974 \n",
            "Id: 52981, UpdtId: 52975 \n",
            "Id: 52982, UpdtId: 52976 \n",
            "Id: 52983, UpdtId: 52977 \n",
            "Id: 52984, UpdtId: 52978 \n",
            "Id: 52985, UpdtId: 52979 \n",
            "Id: 52986, UpdtId: 52980 \n",
            "Id: 52988, UpdtId: 52981 \n",
            "Id: 52989, UpdtId: 52982 \n",
            "Id: 52990, UpdtId: 52983 \n",
            "Id: 52991, UpdtId: 52984 \n",
            "Id: 52994, UpdtId: 52985 \n",
            "Id: 52995, UpdtId: 52986 \n",
            "Id: 52996, UpdtId: 52987 \n",
            "Id: 52997, UpdtId: 52988 \n",
            "Id: 52998, UpdtId: 52989 \n",
            "Id: 52999, UpdtId: 52990 \n",
            "Id: 53000, UpdtId: 52991 \n",
            "Id: 53001, UpdtId: 52992 \n",
            "Id: 53002, UpdtId: 52993 \n",
            "Id: 53003, UpdtId: 52994 \n",
            "Id: 53004, UpdtId: 52995 \n",
            "Id: 53005, UpdtId: 52996 \n",
            "Id: 53006, UpdtId: 52997 \n",
            "Id: 53007, UpdtId: 52998 \n",
            "Id: 53009, UpdtId: 52999 \n",
            "Id: 53010, UpdtId: 53000 \n",
            "Id: 53011, UpdtId: 53001 \n",
            "Id: 53012, UpdtId: 53002 \n",
            "Id: 53014, UpdtId: 53003 \n",
            "Id: 53015, UpdtId: 53004 \n",
            "Id: 53016, UpdtId: 53005 \n",
            "Id: 53017, UpdtId: 53006 \n",
            "Id: 53018, UpdtId: 53007 \n",
            "Id: 53019, UpdtId: 53008 \n",
            "Id: 53020, UpdtId: 53009 \n",
            "Id: 53021, UpdtId: 53010 \n",
            "Id: 53022, UpdtId: 53011 \n",
            "Id: 53023, UpdtId: 53012 \n",
            "Id: 53024, UpdtId: 53013 \n",
            "Id: 53025, UpdtId: 53014 \n",
            "Id: 53026, UpdtId: 53015 \n",
            "Id: 53027, UpdtId: 53016 \n",
            "Id: 53028, UpdtId: 53017 \n",
            "Id: 53029, UpdtId: 53018 \n",
            "Id: 53031, UpdtId: 53019 \n",
            "Id: 53032, UpdtId: 53020 \n",
            "Id: 53033, UpdtId: 53021 \n",
            "Id: 53034, UpdtId: 53022 \n",
            "Id: 53035, UpdtId: 53023 \n",
            "Id: 53036, UpdtId: 53024 \n",
            "Id: 53037, UpdtId: 53025 \n",
            "Id: 53038, UpdtId: 53026 \n",
            "Id: 53039, UpdtId: 53027 \n",
            "Id: 53040, UpdtId: 53028 \n",
            "Id: 53041, UpdtId: 53029 \n",
            "Id: 53042, UpdtId: 53030 \n",
            "Id: 53043, UpdtId: 53031 \n",
            "Id: 53044, UpdtId: 53032 \n",
            "Id: 53045, UpdtId: 53033 \n",
            "Id: 53046, UpdtId: 53034 \n",
            "Id: 53047, UpdtId: 53035 \n",
            "Id: 53048, UpdtId: 53036 \n",
            "Id: 53049, UpdtId: 53037 \n",
            "Id: 53050, UpdtId: 53038 \n",
            "Id: 53052, UpdtId: 53039 \n",
            "Id: 53053, UpdtId: 53040 \n",
            "Id: 53054, UpdtId: 53041 \n",
            "Id: 53055, UpdtId: 53042 \n",
            "Id: 53056, UpdtId: 53043 \n",
            "Id: 53057, UpdtId: 53044 \n",
            "Id: 53058, UpdtId: 53045 \n",
            "Id: 53059, UpdtId: 53046 \n",
            "Id: 53060, UpdtId: 53047 \n",
            "Id: 53062, UpdtId: 53048 \n",
            "Id: 53063, UpdtId: 53049 \n",
            "Id: 53064, UpdtId: 53050 \n",
            "Id: 53065, UpdtId: 53051 \n",
            "Id: 53066, UpdtId: 53052 \n",
            "Id: 53067, UpdtId: 53053 \n",
            "Id: 53068, UpdtId: 53054 \n",
            "Id: 52907, UpdtId: 53055 \n",
            "Id: 52934, UpdtId: 53056 \n",
            "Id: 52938, UpdtId: 53057 \n",
            "Id: 52946, UpdtId: 53058 \n",
            "Id: 52958, UpdtId: 53059 \n",
            "Id: 52968, UpdtId: 53060 \n",
            "Id: 53069, UpdtId: 53061 \n",
            "Id: 53070, UpdtId: 53062 \n",
            "Id: 53071, UpdtId: 53063 \n",
            "Id: 53072, UpdtId: 53064 \n",
            "Id: 53074, UpdtId: 53065 \n",
            "Id: 53075, UpdtId: 53066 \n",
            "Id: 53076, UpdtId: 53067 \n",
            "Id: 53077, UpdtId: 53068 \n",
            "Id: 53078, UpdtId: 53069 \n",
            "Id: 53079, UpdtId: 53070 \n",
            "Id: 53081, UpdtId: 53071 \n",
            "Id: 53082, UpdtId: 53072 \n",
            "Id: 53084, UpdtId: 53073 \n",
            "Id: 53085, UpdtId: 53074 \n",
            "Id: 53086, UpdtId: 53075 \n",
            "Id: 53087, UpdtId: 53076 \n",
            "Id: 53088, UpdtId: 53077 \n",
            "Id: 53089, UpdtId: 53078 \n",
            "Id: 53090, UpdtId: 53079 \n",
            "Id: 53091, UpdtId: 53080 \n",
            "Id: 53092, UpdtId: 53081 \n",
            "Id: 53093, UpdtId: 53082 \n",
            "Id: 53094, UpdtId: 53083 \n",
            "Id: 53096, UpdtId: 53084 \n",
            "Id: 53097, UpdtId: 53085 \n",
            "Id: 53098, UpdtId: 53086 \n",
            "Id: 53099, UpdtId: 53087 \n",
            "Id: 53100, UpdtId: 53088 \n",
            "Id: 53101, UpdtId: 53089 \n",
            "Id: 53102, UpdtId: 53090 \n",
            "Id: 53103, UpdtId: 53091 \n",
            "Id: 53104, UpdtId: 53092 \n",
            "Id: 53105, UpdtId: 53093 \n",
            "Id: 53106, UpdtId: 53094 \n",
            "Id: 53107, UpdtId: 53095 \n",
            "Id: 53108, UpdtId: 53096 \n",
            "Id: 53109, UpdtId: 53097 \n",
            "Id: 53110, UpdtId: 53098 \n",
            "Id: 53111, UpdtId: 53099 \n",
            "Id: 53112, UpdtId: 53100 \n",
            "Id: 53113, UpdtId: 53101 \n",
            "Id: 53114, UpdtId: 53102 \n",
            "Id: 53115, UpdtId: 53103 \n",
            "Id: 53116, UpdtId: 53104 \n",
            "Id: 53117, UpdtId: 53105 \n",
            "Id: 53118, UpdtId: 53106 \n",
            "Id: 53119, UpdtId: 53107 \n",
            "Id: 53120, UpdtId: 53108 \n",
            "Id: 53121, UpdtId: 53109 \n",
            "Id: 53122, UpdtId: 53110 \n",
            "Id: 53123, UpdtId: 53111 \n",
            "Id: 53124, UpdtId: 53112 \n",
            "Id: 53125, UpdtId: 53113 \n",
            "Id: 53126, UpdtId: 53114 \n",
            "Id: 53127, UpdtId: 53115 \n",
            "Id: 53128, UpdtId: 53116 \n",
            "Id: 53129, UpdtId: 53117 \n",
            "Id: 53130, UpdtId: 53118 \n",
            "Id: 53131, UpdtId: 53119 \n",
            "Id: 53132, UpdtId: 53120 \n",
            "Id: 53133, UpdtId: 53121 \n",
            "Id: 53134, UpdtId: 53122 \n",
            "Id: 53135, UpdtId: 53123 \n",
            "Id: 53136, UpdtId: 53124 \n",
            "Id: 53137, UpdtId: 53125 \n",
            "Id: 53138, UpdtId: 53126 \n",
            "Id: 53139, UpdtId: 53127 \n",
            "Id: 53140, UpdtId: 53128 \n",
            "Id: 53141, UpdtId: 53129 \n",
            "Id: 53142, UpdtId: 53130 \n",
            "Id: 52987, UpdtId: 53131 \n",
            "Id: 52992, UpdtId: 53132 \n",
            "Id: 52993, UpdtId: 53133 \n",
            "Id: 53008, UpdtId: 53134 \n",
            "Id: 53013, UpdtId: 53135 \n",
            "Id: 53030, UpdtId: 53136 \n",
            "Id: 53051, UpdtId: 53137 \n",
            "Id: 53061, UpdtId: 53138 \n",
            "Id: 53143, UpdtId: 53139 \n",
            "Id: 53144, UpdtId: 53140 \n",
            "Id: 53145, UpdtId: 53141 \n",
            "Id: 53146, UpdtId: 53142 \n",
            "Id: 53147, UpdtId: 53143 \n",
            "Id: 53148, UpdtId: 53144 \n",
            "Id: 53149, UpdtId: 53145 \n",
            "Id: 53150, UpdtId: 53146 \n",
            "Id: 53151, UpdtId: 53147 \n",
            "Id: 53152, UpdtId: 53148 \n",
            "Id: 53153, UpdtId: 53149 \n",
            "Id: 53154, UpdtId: 53150 \n",
            "Id: 53155, UpdtId: 53151 \n",
            "Id: 53156, UpdtId: 53152 \n",
            "Id: 53157, UpdtId: 53153 \n",
            "Id: 53158, UpdtId: 53154 \n",
            "Id: 53159, UpdtId: 53155 \n",
            "Id: 53160, UpdtId: 53156 \n",
            "Id: 53162, UpdtId: 53157 \n",
            "Id: 53163, UpdtId: 53158 \n",
            "Id: 53164, UpdtId: 53159 \n",
            "Id: 53165, UpdtId: 53160 \n",
            "Id: 53166, UpdtId: 53161 \n",
            "Id: 53167, UpdtId: 53162 \n",
            "Id: 53168, UpdtId: 53163 \n",
            "Id: 53169, UpdtId: 53164 \n",
            "Id: 53170, UpdtId: 53165 \n",
            "Id: 53171, UpdtId: 53166 \n",
            "Id: 53172, UpdtId: 53167 \n",
            "Id: 53173, UpdtId: 53168 \n",
            "Id: 53174, UpdtId: 53169 \n",
            "Id: 53175, UpdtId: 53170 \n",
            "Id: 53176, UpdtId: 53171 \n",
            "Id: 53177, UpdtId: 53172 \n",
            "Id: 53178, UpdtId: 53173 \n",
            "Id: 53179, UpdtId: 53174 \n",
            "Id: 53180, UpdtId: 53175 \n",
            "Id: 53181, UpdtId: 53176 \n",
            "Id: 53182, UpdtId: 53177 \n",
            "Id: 53183, UpdtId: 53178 \n",
            "Id: 53184, UpdtId: 53179 \n",
            "Id: 53185, UpdtId: 53180 \n",
            "Id: 53186, UpdtId: 53181 \n",
            "Id: 53187, UpdtId: 53182 \n",
            "Id: 53188, UpdtId: 53183 \n",
            "Id: 53073, UpdtId: 53184 \n",
            "Id: 53080, UpdtId: 53185 \n",
            "Id: 53083, UpdtId: 53186 \n",
            "Id: 53095, UpdtId: 53187 \n",
            "Id: 53189, UpdtId: 53188 \n",
            "Id: 53190, UpdtId: 53189 \n",
            "Id: 53191, UpdtId: 53190 \n",
            "Id: 53192, UpdtId: 53191 \n",
            "Id: 53193, UpdtId: 53192 \n",
            "Id: 53194, UpdtId: 53193 \n",
            "Id: 53195, UpdtId: 53194 \n",
            "Id: 53197, UpdtId: 53195 \n",
            "Id: 53198, UpdtId: 53196 \n",
            "Id: 53199, UpdtId: 53197 \n",
            "Id: 53201, UpdtId: 53198 \n",
            "Id: 53202, UpdtId: 53199 \n",
            "Id: 53203, UpdtId: 53200 \n",
            "Id: 53204, UpdtId: 53201 \n",
            "Id: 53205, UpdtId: 53202 \n",
            "Id: 53206, UpdtId: 53203 \n",
            "Id: 53207, UpdtId: 53204 \n",
            "Id: 53208, UpdtId: 53205 \n",
            "Id: 53209, UpdtId: 53206 \n",
            "Id: 53210, UpdtId: 53207 \n",
            "Id: 53211, UpdtId: 53208 \n",
            "Id: 53212, UpdtId: 53209 \n",
            "Id: 53213, UpdtId: 53210 \n",
            "Id: 53161, UpdtId: 53211 \n",
            "Id: 53214, UpdtId: 53212 \n",
            "Id: 53215, UpdtId: 53213 \n",
            "Id: 53216, UpdtId: 53214 \n",
            "Id: 53217, UpdtId: 53215 \n",
            "Id: 53218, UpdtId: 53216 \n",
            "Id: 53220, UpdtId: 53217 \n",
            "Id: 53221, UpdtId: 53218 \n",
            "Id: 53222, UpdtId: 53219 \n",
            "Id: 53224, UpdtId: 53220 \n",
            "Id: 53225, UpdtId: 53221 \n",
            "Id: 53226, UpdtId: 53222 \n",
            "Id: 53196, UpdtId: 53223 \n",
            "Id: 53200, UpdtId: 53224 \n",
            "Id: 53227, UpdtId: 53225 \n",
            "Id: 53228, UpdtId: 53226 \n",
            "Id: 53229, UpdtId: 53227 \n",
            "Id: 53230, UpdtId: 53228 \n",
            "Id: 53232, UpdtId: 53229 \n",
            "Id: 53233, UpdtId: 53230 \n",
            "Id: 53234, UpdtId: 53231 \n",
            "Id: 53235, UpdtId: 53232 \n",
            "Id: 53239, UpdtId: 53233 \n",
            "Id: 53240, UpdtId: 53234 \n",
            "Id: 53241, UpdtId: 53235 \n",
            "Id: 53219, UpdtId: 53236 \n",
            "Id: 53223, UpdtId: 53237 \n"
          ],
          "name": "stdout"
        }
      ]
    },
    {
      "cell_type": "code",
      "metadata": {
        "colab": {
          "base_uri": "https://localhost:8080/"
        },
        "id": "9hrMshBYOvVa",
        "outputId": "806b45fc-18ea-4509-c131-e450de981851"
      },
      "source": [
        "print(len(U_list),len(V_list))\n",
        "print(U_list[0].shape,V_list[0].shape)\n",
        "print()\n",
        "for u,v in zip(U_list[1:],V_list[1:]):\n",
        "    print(u.shape,v.shape)   "
      ],
      "execution_count": 28,
      "outputs": [
        {
          "output_type": "stream",
          "text": [
            "9 9\n",
            "(52808, 50) (17329, 50)\n",
            "\n",
            "(52894, 50) (17330, 50)\n",
            "(52968, 50) (17332, 50)\n",
            "(53061, 50) (17336, 50)\n",
            "(53139, 50) (17344, 50)\n",
            "(53188, 50) (17346, 50)\n",
            "(53212, 50) (17349, 50)\n",
            "(53225, 50) (17349, 50)\n",
            "(53238, 50) (17351, 50)\n"
          ],
          "name": "stdout"
        }
      ]
    },
    {
      "cell_type": "code",
      "metadata": {
        "colab": {
          "base_uri": "https://localhost:8080/"
        },
        "id": "xOQC6r84_ju1",
        "outputId": "a3b9f6c2-e675-4066-e795-6effefd2c010"
      },
      "source": [
        "for i,j in zip(AllUpdtUSERS_,AllUpdtITEMS_):\n",
        "    print(len(i),len(j))"
      ],
      "execution_count": 29,
      "outputs": [
        {
          "output_type": "stream",
          "text": [
            "52894 17330\n",
            "52968 17332\n",
            "53061 17336\n",
            "53139 17344\n",
            "53188 17346\n",
            "53212 17349\n",
            "53225 17349\n",
            "53238 17351\n"
          ],
          "name": "stdout"
        }
      ]
    },
    {
      "cell_type": "code",
      "metadata": {
        "colab": {
          "base_uri": "https://localhost:8080/"
        },
        "id": "AMjo4AbxOvVc",
        "outputId": "f855f11d-8498-4d34-dc46-0631927b1808"
      },
      "source": [
        "print(len(In_DomainUSERS),len(In_DomainITEMS))"
      ],
      "execution_count": 30,
      "outputs": [
        {
          "output_type": "stream",
          "text": [
            "53238 17351\n"
          ],
          "name": "stdout"
        }
      ]
    },
    {
      "cell_type": "code",
      "metadata": {
        "id": "VKsZcD9kMzd4"
      },
      "source": [
        ""
      ],
      "execution_count": null,
      "outputs": []
    },
    {
      "cell_type": "markdown",
      "metadata": {
        "id": "nNpsng5z8doR"
      },
      "source": [
        "Data Adjustments"
      ]
    },
    {
      "cell_type": "markdown",
      "metadata": {
        "id": "U8YcpbXKpAMG"
      },
      "source": [
        "#### Data Adjustment"
      ]
    },
    {
      "cell_type": "code",
      "metadata": {
        "colab": {
          "base_uri": "https://localhost:8080/"
        },
        "id": "uBF411YtOzhA",
        "outputId": "739a6fde-3584-4d63-b851-9ccc309748c1"
      },
      "source": [
        "newHOLDOUT_LIST = get_NEWHoldout(HOLDOUT_list,userID_dict,itemID_dict,AllUpdtUSERS_,AllUpdtITEMS_,'userId','productId',n=8)\n",
        "print(len(newHOLDOUT_LIST))\n",
        "print()\n",
        "for old,new in zip(HOLDOUT_list,newHOLDOUT_LIST):\n",
        "    print(old.shape[0],new.shape[0])"
      ],
      "execution_count": 31,
      "outputs": [
        {
          "output_type": "stream",
          "text": [
            "100%|██████████| 8/8 [00:00<00:00, 86.91it/s]"
          ],
          "name": "stderr"
        },
        {
          "output_type": "stream",
          "text": [
            "8\n",
            "\n",
            "865 857\n",
            "687 676\n",
            "816 800\n",
            "718 713\n",
            "560 556\n",
            "465 463\n",
            "405 398\n",
            "243 239\n"
          ],
          "name": "stdout"
        },
        {
          "output_type": "stream",
          "text": [
            "\n"
          ],
          "name": "stderr"
        }
      ]
    },
    {
      "cell_type": "code",
      "metadata": {
        "colab": {
          "base_uri": "https://localhost:8080/"
        },
        "id": "HbyiliDLf9ul",
        "outputId": "a400056b-d7bc-4bc7-d8d7-95780341f20e"
      },
      "source": [
        "newUserItem_list = adjustedAllDF(UserItemDF_list,userID_dict,itemID_dict,AllUpdtUSERS_,AllUpdtITEMS_,'userId','productId',n=8)\n",
        "print()\n",
        "for df in newUserItem_list:\n",
        "    print(df['Updated_UserID'].nunique(),df['Updated_ItemID'].nunique())"
      ],
      "execution_count": 32,
      "outputs": [
        {
          "output_type": "stream",
          "text": [
            "\n",
            "52894 17330\n",
            "52968 17332\n",
            "53061 17336\n",
            "53139 17344\n",
            "53188 17346\n",
            "53212 17349\n",
            "53225 17349\n",
            "53238 17351\n"
          ],
          "name": "stdout"
        }
      ]
    },
    {
      "cell_type": "code",
      "metadata": {
        "colab": {
          "base_uri": "https://localhost:8080/"
        },
        "id": "1vJrhuEAQXDn",
        "outputId": "459fec60-8b66-4655-e900-4335faab750d"
      },
      "source": [
        "new_PSIDFlist = adjustedPSI_DF(PSITest_list,userID_dict,itemID_dict,AllUpdtUSERS_,AllUpdtITEMS_,'userId','productId',n=8)\n",
        "for old,new in zip(PSITest_list,new_PSIDFlist):\n",
        "    print(old.shape[0],new.shape[0])"
      ],
      "execution_count": 33,
      "outputs": [
        {
          "output_type": "stream",
          "text": [
            "805 805\n",
            "742 742\n",
            "1068 1068\n",
            "837 837\n",
            "593 593\n",
            "336 336\n",
            "178 178\n",
            "90 90\n"
          ],
          "name": "stdout"
        }
      ]
    },
    {
      "cell_type": "code",
      "metadata": {
        "id": "bfFHg8h0QiVE"
      },
      "source": [
        ""
      ],
      "execution_count": null,
      "outputs": []
    },
    {
      "cell_type": "markdown",
      "metadata": {
        "id": "J_bFpV2cKCuA"
      },
      "source": [
        "#### Get UserItem MAT"
      ]
    },
    {
      "cell_type": "code",
      "metadata": {
        "colab": {
          "base_uri": "https://localhost:8080/"
        },
        "id": "N1FI-D8uKCuG",
        "outputId": "2866b4d6-ab5c-4f70-e162-15c4c20cf664"
      },
      "source": [
        "UserItem_MatUpdt = All_SingleStepRatMat(newUserItem_list,'Updated_UserID','Updated_ItemID')\n",
        "print(len(UserItem_MatUpdt))\n",
        "UserItem_MatUpdt"
      ],
      "execution_count": 34,
      "outputs": [
        {
          "output_type": "stream",
          "text": [
            "8\n"
          ],
          "name": "stdout"
        },
        {
          "output_type": "execute_result",
          "data": {
            "text/plain": [
              "[<52894x17330 sparse matrix of type '<class 'numpy.float64'>'\n",
              " \twith 363560 stored elements in Compressed Sparse Row format>,\n",
              " <52968x17332 sparse matrix of type '<class 'numpy.float64'>'\n",
              " \twith 365165 stored elements in Compressed Sparse Row format>,\n",
              " <53061x17336 sparse matrix of type '<class 'numpy.float64'>'\n",
              " \twith 366920 stored elements in Compressed Sparse Row format>,\n",
              " <53139x17344 sparse matrix of type '<class 'numpy.float64'>'\n",
              " \twith 368571 stored elements in Compressed Sparse Row format>,\n",
              " <53188x17346 sparse matrix of type '<class 'numpy.float64'>'\n",
              " \twith 369882 stored elements in Compressed Sparse Row format>,\n",
              " <53212x17349 sparse matrix of type '<class 'numpy.float64'>'\n",
              " \twith 370778 stored elements in Compressed Sparse Row format>,\n",
              " <53225x17349 sparse matrix of type '<class 'numpy.float64'>'\n",
              " \twith 371421 stored elements in Compressed Sparse Row format>,\n",
              " <53238x17351 sparse matrix of type '<class 'numpy.float64'>'\n",
              " \twith 371915 stored elements in Compressed Sparse Row format>]"
            ]
          },
          "metadata": {
            "tags": []
          },
          "execution_count": 34
        }
      ]
    },
    {
      "cell_type": "code",
      "metadata": {
        "colab": {
          "base_uri": "https://localhost:8080/"
        },
        "id": "bA6bmr-CKCuD",
        "outputId": "969068ec-4518-40f7-f43e-1b99a7495d26"
      },
      "source": [
        "print(len(U_list),len(V_list))\n",
        "for u,v in zip(U_list,V_list):\n",
        "    print(u.shape[0],v.shape[0])   "
      ],
      "execution_count": 35,
      "outputs": [
        {
          "output_type": "stream",
          "text": [
            "9 9\n",
            "52808 17329\n",
            "52894 17330\n",
            "52968 17332\n",
            "53061 17336\n",
            "53139 17344\n",
            "53188 17346\n",
            "53212 17349\n",
            "53225 17349\n",
            "53238 17351\n"
          ],
          "name": "stdout"
        }
      ]
    },
    {
      "cell_type": "code",
      "metadata": {
        "colab": {
          "base_uri": "https://localhost:8080/"
        },
        "id": "kRkFwCd8KCuE",
        "outputId": "222a8dd7-f60a-438a-933a-cc4eb7fcd581"
      },
      "source": [
        "print(AllDF_start['userId'].nunique(),AllDF_start['productId'].nunique())\n",
        "print()\n",
        "for i,j in zip(AllUpdtUSERS_,AllUpdtITEMS_):\n",
        "    print(len(i),len(j))"
      ],
      "execution_count": 36,
      "outputs": [
        {
          "output_type": "stream",
          "text": [
            "52808 17329\n",
            "\n",
            "52894 17330\n",
            "52968 17332\n",
            "53061 17336\n",
            "53139 17344\n",
            "53188 17346\n",
            "53212 17349\n",
            "53225 17349\n",
            "53238 17351\n"
          ],
          "name": "stdout"
        }
      ]
    },
    {
      "cell_type": "markdown",
      "metadata": {
        "id": "-FWZcWCDzJ-i"
      },
      "source": [
        "#### Prediction"
      ]
    },
    {
      "cell_type": "code",
      "metadata": {
        "colab": {
          "base_uri": "https://localhost:8080/"
        },
        "id": "NrcfgZCCzPPu",
        "outputId": "95915767-37b2-4f61-bf58-8552158dfe20"
      },
      "source": [
        "print(len(UserItem_MatUpdt),len(newHOLDOUT_LIST))"
      ],
      "execution_count": null,
      "outputs": [
        {
          "output_type": "stream",
          "text": [
            "8 8\n"
          ],
          "name": "stdout"
        }
      ]
    },
    {
      "cell_type": "code",
      "metadata": {
        "colab": {
          "base_uri": "https://localhost:8080/"
        },
        "id": "RguT3Utr0iLy",
        "outputId": "08209253-1d69-458b-ade5-c4a50e538028"
      },
      "source": [
        "Vpsi_listUpdt = V_list[1:]\n",
        "for v in Vpsi_listUpdt:\n",
        "    print(v.shape)"
      ],
      "execution_count": 37,
      "outputs": [
        {
          "output_type": "stream",
          "text": [
            "(17330, 50)\n",
            "(17332, 50)\n",
            "(17336, 50)\n",
            "(17344, 50)\n",
            "(17346, 50)\n",
            "(17349, 50)\n",
            "(17349, 50)\n",
            "(17351, 50)\n"
          ],
          "name": "stdout"
        }
      ]
    },
    {
      "cell_type": "code",
      "metadata": {
        "colab": {
          "base_uri": "https://localhost:8080/"
        },
        "id": "py9S9LGoKamJ",
        "outputId": "052742cc-e21f-4407-ee4d-5466eea43fdf"
      },
      "source": [
        "V_1 = Vpsi_listUpdt[0]\n",
        "V_1.shape"
      ],
      "execution_count": 38,
      "outputs": [
        {
          "output_type": "execute_result",
          "data": {
            "text/plain": [
              "(17330, 50)"
            ]
          },
          "metadata": {
            "tags": []
          },
          "execution_count": 38
        }
      ]
    },
    {
      "cell_type": "code",
      "metadata": {
        "colab": {
          "base_uri": "https://localhost:8080/"
        },
        "id": "LtlchmQtHN5c",
        "outputId": "dada7547-e549-4683-8990-ef509083721d"
      },
      "source": [
        "Top_NPred = TopNPred(UserItem_MatUpdt[0],newHOLDOUT_LIST[0],V_1,'Updated_UserID',10)\n",
        "Top_NPred"
      ],
      "execution_count": 39,
      "outputs": [
        {
          "output_type": "execute_result",
          "data": {
            "text/plain": [
              "array([[13664, 12255, 12012, ..., 12776,  5008, 13920],\n",
              "       [12230,  4114,  7941, ...,  7353,  6190,  6665],\n",
              "       [ 2819,  1287,  1565, ..., 10727,  2820,  1359],\n",
              "       ...,\n",
              "       [13413, 12012, 14484, ..., 14002, 14542, 14009],\n",
              "       [ 5687,  1359,   829, ...,  3390,  3027, 12776],\n",
              "       [ 5030,  1489,  5008, ...,  9805,  5687, 12231]])"
            ]
          },
          "metadata": {
            "tags": []
          },
          "execution_count": 39
        }
      ]
    },
    {
      "cell_type": "code",
      "metadata": {
        "colab": {
          "base_uri": "https://localhost:8080/"
        },
        "id": "Ql0pwhxeHN5g",
        "outputId": "6be1279e-5e14-4726-fc3e-41eb9a52c2a2"
      },
      "source": [
        "Hitrate_Eval(newHOLDOUT_LIST[0],Top_NPred,'Updated_UserID','Updated_ItemID')"
      ],
      "execution_count": 40,
      "outputs": [
        {
          "output_type": "stream",
          "text": [
            "Number of hits:  43\n",
            "Total Num of users:  857\n",
            "Recommendation HitRate:  0.050175029171528586\n"
          ],
          "name": "stdout"
        },
        {
          "output_type": "execute_result",
          "data": {
            "text/plain": [
              "0.050175029171528586"
            ]
          },
          "metadata": {
            "tags": []
          },
          "execution_count": 40
        }
      ]
    },
    {
      "cell_type": "code",
      "metadata": {
        "id": "-ALFq_slAffr"
      },
      "source": [
        ""
      ],
      "execution_count": null,
      "outputs": []
    },
    {
      "cell_type": "code",
      "metadata": {
        "colab": {
          "base_uri": "https://localhost:8080/"
        },
        "id": "8J8LC6tDAiir",
        "outputId": "68cab14d-0aee-49e0-cbde-9bed62acb628"
      },
      "source": [
        "AllUpdt_pred =  TQDMgetALLTopNPred(UserItem_MatUpdt,newHOLDOUT_LIST,Vpsi_listUpdt,'Updated_UserID',N = 10)\n",
        "print(len(AllUpdt_pred))\n",
        "AllUpdt_pred[:2]"
      ],
      "execution_count": 41,
      "outputs": [
        {
          "output_type": "stream",
          "text": [
            "8it [00:01,  4.66it/s]"
          ],
          "name": "stderr"
        },
        {
          "output_type": "stream",
          "text": [
            "8\n"
          ],
          "name": "stdout"
        },
        {
          "output_type": "stream",
          "text": [
            "\n"
          ],
          "name": "stderr"
        },
        {
          "output_type": "execute_result",
          "data": {
            "text/plain": [
              "[array([[13664, 12255, 12012, ..., 12776,  5008, 13920],\n",
              "        [12230,  4114,  7941, ...,  7353,  6190,  6665],\n",
              "        [ 2819,  1287,  1565, ..., 10727,  2820,  1359],\n",
              "        ...,\n",
              "        [13413, 12012, 14484, ..., 14002, 14542, 14009],\n",
              "        [ 5687,  1359,   829, ...,  3390,  3027, 12776],\n",
              "        [ 5030,  1489,  5008, ...,  9805,  5687, 12231]]),\n",
              " array([[11083,  9421,  4238, ..., 11588, 11929,  3601],\n",
              "        [ 3819,  3455,  2848, ...,  4807,  1760,  8121],\n",
              "        [10727, 13923, 15655, ..., 16535,  6903,  5030],\n",
              "        ...,\n",
              "        [10129, 12255,  8072, ..., 13648, 13218, 13672],\n",
              "        [  928,    59,   172, ...,  1879,  3754,  3115],\n",
              "        [  237,    59,   172, ...,   270,  7812,   154]])]"
            ]
          },
          "metadata": {
            "tags": []
          },
          "execution_count": 41
        }
      ]
    },
    {
      "cell_type": "code",
      "metadata": {
        "colab": {
          "base_uri": "https://localhost:8080/"
        },
        "id": "Osi894h4Aiiv",
        "outputId": "65a9e42d-ea45-4ceb-e536-24f661f2183b"
      },
      "source": [
        "AllSteps_HitR_updt, LowerBand_updt, Avg_HitR_updt, UpperBand_updt   = getAll_HitRate(newHOLDOUT_LIST,AllUpdt_pred,'Updated_UserID','Updated_ItemID')"
      ],
      "execution_count": 42,
      "outputs": [
        {
          "output_type": "stream",
          "text": [
            "Number of hits:  43\n",
            "Total Num of users:  857\n",
            "Recommendation HitRate:  0.050175029171528586\n",
            "Number of hits:  26\n",
            "Total Num of users:  676\n",
            "Recommendation HitRate:  0.038461538461538464\n",
            "Number of hits:  20\n",
            "Total Num of users:  800\n",
            "Recommendation HitRate:  0.025\n",
            "Number of hits:  15\n",
            "Total Num of users:  713\n",
            "Recommendation HitRate:  0.021037868162692847\n",
            "Number of hits:  17\n",
            "Total Num of users:  556\n",
            "Recommendation HitRate:  0.030575539568345324\n",
            "Number of hits:  23\n",
            "Total Num of users:  463\n",
            "Recommendation HitRate:  0.04967602591792657\n",
            "Number of hits:  10\n",
            "Total Num of users:  398\n",
            "Recommendation HitRate:  0.02512562814070352\n",
            "Number of hits:  2\n",
            "Total Num of users:  239\n",
            "Recommendation HitRate:  0.008368200836820083\n",
            "Average HitRate for All Recommendations:  0.031052478782444423\n"
          ],
          "name": "stdout"
        }
      ]
    },
    {
      "cell_type": "code",
      "metadata": {
        "id": "H3kfcIzLq3aq"
      },
      "source": [
        ""
      ],
      "execution_count": null,
      "outputs": []
    },
    {
      "cell_type": "markdown",
      "metadata": {
        "id": "dlm-q9ms_BWw"
      },
      "source": [
        "### Regular PSI "
      ]
    },
    {
      "cell_type": "markdown",
      "metadata": {
        "id": "uWbLS4cbPI19"
      },
      "source": [
        "#### Get Rating Matrices"
      ]
    },
    {
      "cell_type": "code",
      "metadata": {
        "colab": {
          "base_uri": "https://localhost:8080/",
          "height": 304
        },
        "id": "L90Ba27xDyQQ",
        "outputId": "6f5c9c86-b993-4c8f-cee8-d20c23710b94"
      },
      "source": [
        "newAMZg_DF = ADJUST_mainDF(AMZG_DF,userID_dict,itemID_dict,AllUpdtUSERS_,AllUpdtITEMS_,'userId','productId')\n",
        "print(newAMZg_DF.shape)\n",
        "print(newAMZg_DF['userId'].max(),newAMZg_DF['productId'].max())\n",
        "print(newAMZg_DF['userId'].nunique(),newAMZg_DF['productId'].nunique())\n",
        "print()\n",
        "print(newAMZg_DF['Updated_UserID'].max(),newAMZg_DF['Updated_ItemID'].max())\n",
        "print(newAMZg_DF['Updated_UserID'].nunique(),newAMZg_DF['Updated_ItemID'].nunique())\n",
        "newAMZg_DF.head()"
      ],
      "execution_count": 43,
      "outputs": [
        {
          "output_type": "stream",
          "text": [
            "(372449, 6)\n",
            "53241 17350\n",
            "53238 17351\n",
            "\n",
            "53237 17350\n",
            "53238 17351\n"
          ],
          "name": "stdout"
        },
        {
          "output_type": "execute_result",
          "data": {
            "text/html": [
              "<div>\n",
              "<style scoped>\n",
              "    .dataframe tbody tr th:only-of-type {\n",
              "        vertical-align: middle;\n",
              "    }\n",
              "\n",
              "    .dataframe tbody tr th {\n",
              "        vertical-align: top;\n",
              "    }\n",
              "\n",
              "    .dataframe thead th {\n",
              "        text-align: right;\n",
              "    }\n",
              "</style>\n",
              "<table border=\"1\" class=\"dataframe\">\n",
              "  <thead>\n",
              "    <tr style=\"text-align: right;\">\n",
              "      <th></th>\n",
              "      <th>userId</th>\n",
              "      <th>productId</th>\n",
              "      <th>rating</th>\n",
              "      <th>timestamp</th>\n",
              "      <th>Updated_UserID</th>\n",
              "      <th>Updated_ItemID</th>\n",
              "    </tr>\n",
              "  </thead>\n",
              "  <tbody>\n",
              "    <tr>\n",
              "      <th>0</th>\n",
              "      <td>0</td>\n",
              "      <td>0</td>\n",
              "      <td>1</td>\n",
              "      <td>2001-01-01</td>\n",
              "      <td>0</td>\n",
              "      <td>0</td>\n",
              "    </tr>\n",
              "    <tr>\n",
              "      <th>1</th>\n",
              "      <td>1</td>\n",
              "      <td>1</td>\n",
              "      <td>1</td>\n",
              "      <td>2001-01-01</td>\n",
              "      <td>1</td>\n",
              "      <td>1</td>\n",
              "    </tr>\n",
              "    <tr>\n",
              "      <th>2</th>\n",
              "      <td>2</td>\n",
              "      <td>2</td>\n",
              "      <td>1</td>\n",
              "      <td>2001-01-01</td>\n",
              "      <td>2</td>\n",
              "      <td>2</td>\n",
              "    </tr>\n",
              "    <tr>\n",
              "      <th>3</th>\n",
              "      <td>3</td>\n",
              "      <td>3</td>\n",
              "      <td>1</td>\n",
              "      <td>2001-01-01</td>\n",
              "      <td>3</td>\n",
              "      <td>3</td>\n",
              "    </tr>\n",
              "    <tr>\n",
              "      <th>4</th>\n",
              "      <td>4</td>\n",
              "      <td>4</td>\n",
              "      <td>1</td>\n",
              "      <td>2001-01-02</td>\n",
              "      <td>4</td>\n",
              "      <td>4</td>\n",
              "    </tr>\n",
              "  </tbody>\n",
              "</table>\n",
              "</div>"
            ],
            "text/plain": [
              "   userId  productId  rating  timestamp  Updated_UserID  Updated_ItemID\n",
              "0       0          0       1 2001-01-01               0               0\n",
              "1       1          1       1 2001-01-01               1               1\n",
              "2       2          2       1 2001-01-01               2               2\n",
              "3       3          3       1 2001-01-01               3               3\n",
              "4       4          4       1 2001-01-02               4               4"
            ]
          },
          "metadata": {
            "tags": []
          },
          "execution_count": 43
        }
      ]
    },
    {
      "cell_type": "code",
      "metadata": {
        "id": "f1Ed3v8rRQyT"
      },
      "source": [
        ""
      ],
      "execution_count": null,
      "outputs": []
    },
    {
      "cell_type": "code",
      "metadata": {
        "colab": {
          "base_uri": "https://localhost:8080/"
        },
        "id": "9VaLJAAPRRLc",
        "outputId": "8d2c835f-de86-4cdc-fa42-ae59718d226c"
      },
      "source": [
        "rows_i = newAMZg_DF['Updated_UserID'].nunique()\n",
        "cols_i = newAMZg_DF['Updated_ItemID'].nunique()\n",
        "print(A0_df.shape)\n",
        "A0_Rating_matrix = SingleRatingMatrix(A0_df,'userId', 'productId',rows_i,cols_i)  ##changes start within steps...\n",
        "A0_Rating_matrix"
      ],
      "execution_count": 44,
      "outputs": [
        {
          "output_type": "stream",
          "text": [
            "(339913, 4)\n"
          ],
          "name": "stdout"
        },
        {
          "output_type": "execute_result",
          "data": {
            "text/plain": [
              "<53238x17351 sparse matrix of type '<class 'numpy.float64'>'\n",
              "\twith 339644 stored elements in Compressed Sparse Row format>"
            ]
          },
          "metadata": {
            "tags": []
          },
          "execution_count": 44
        }
      ]
    },
    {
      "cell_type": "code",
      "metadata": {
        "colab": {
          "base_uri": "https://localhost:8080/"
        },
        "id": "c_dQwNgf9joe",
        "outputId": "feaf89f7-479f-4354-e4e2-86f4de5e9691"
      },
      "source": [
        "for df in new_PSIDFlist:\n",
        "    print(df['Updated_UserID'].max(),df['Updated_ItemID'].max())"
      ],
      "execution_count": 45,
      "outputs": [
        {
          "output_type": "stream",
          "text": [
            "52893 17329\n",
            "52967 17327\n",
            "53060 17335\n",
            "53138 17343\n",
            "53187 17345\n",
            "53210 17348\n",
            "53222 17346\n",
            "53237 17265\n"
          ],
          "name": "stdout"
        }
      ]
    },
    {
      "cell_type": "code",
      "metadata": {
        "colab": {
          "base_uri": "https://localhost:8080/"
        },
        "id": "PJgsMKCpRRMD",
        "outputId": "ea098aa6-b0d4-42d5-dfc0-48f4ba8026d5"
      },
      "source": [
        "print(\"Length of PSI_Train :\",len(ΔA_train))\n",
        "print(\"Length of PSI_Test  :\",len(new_PSIDFlist))"
      ],
      "execution_count": 46,
      "outputs": [
        {
          "output_type": "stream",
          "text": [
            "Length of PSI_Train : 10\n",
            "Length of PSI_Test  : 8\n"
          ],
          "name": "stdout"
        }
      ]
    },
    {
      "cell_type": "code",
      "metadata": {
        "colab": {
          "base_uri": "https://localhost:8080/"
        },
        "id": "EBFJoOOvRRME",
        "outputId": "9107d1fd-f56c-40d5-d81f-9c8c061c0065"
      },
      "source": [
        "PSI_train_matrix = AllRatingMatrices(ΔA_train,'userId','productId',rows_i ,cols_i)\n",
        "PSI_train_matrix   "
      ],
      "execution_count": 47,
      "outputs": [
        {
          "output_type": "execute_result",
          "data": {
            "text/plain": [
              "[<53238x17351 sparse matrix of type '<class 'numpy.float64'>'\n",
              " \twith 4066 stored elements in Compressed Sparse Row format>,\n",
              " <53238x17351 sparse matrix of type '<class 'numpy.float64'>'\n",
              " \twith 3053 stored elements in Compressed Sparse Row format>,\n",
              " <53238x17351 sparse matrix of type '<class 'numpy.float64'>'\n",
              " \twith 2559 stored elements in Compressed Sparse Row format>,\n",
              " <53238x17351 sparse matrix of type '<class 'numpy.float64'>'\n",
              " \twith 2208 stored elements in Compressed Sparse Row format>,\n",
              " <53238x17351 sparse matrix of type '<class 'numpy.float64'>'\n",
              " \twith 2163 stored elements in Compressed Sparse Row format>,\n",
              " <53238x17351 sparse matrix of type '<class 'numpy.float64'>'\n",
              " \twith 2166 stored elements in Compressed Sparse Row format>,\n",
              " <53238x17351 sparse matrix of type '<class 'numpy.float64'>'\n",
              " \twith 1855 stored elements in Compressed Sparse Row format>,\n",
              " <53238x17351 sparse matrix of type '<class 'numpy.float64'>'\n",
              " \twith 1644 stored elements in Compressed Sparse Row format>,\n",
              " <53238x17351 sparse matrix of type '<class 'numpy.float64'>'\n",
              " \twith 1725 stored elements in Compressed Sparse Row format>,\n",
              " <53238x17351 sparse matrix of type '<class 'numpy.float64'>'\n",
              " \twith 1691 stored elements in Compressed Sparse Row format>]"
            ]
          },
          "metadata": {
            "tags": []
          },
          "execution_count": 47
        }
      ]
    },
    {
      "cell_type": "code",
      "metadata": {
        "colab": {
          "base_uri": "https://localhost:8080/"
        },
        "id": "uTb5wHRNRRMG",
        "outputId": "102d03a0-1b44-4080-f44d-d9fc45279864"
      },
      "source": [
        "PSI_test_matrix = AllRatingMatrices(new_PSIDFlist,'Updated_UserID','Updated_ItemID',rows_i ,cols_i)                                                                      \n",
        "print(len(PSI_test_matrix))\n",
        "PSI_test_matrix\n"
      ],
      "execution_count": 48,
      "outputs": [
        {
          "output_type": "stream",
          "text": [
            "8\n"
          ],
          "name": "stdout"
        },
        {
          "output_type": "execute_result",
          "data": {
            "text/plain": [
              "[<53238x17351 sparse matrix of type '<class 'numpy.float64'>'\n",
              " \twith 805 stored elements in Compressed Sparse Row format>,\n",
              " <53238x17351 sparse matrix of type '<class 'numpy.float64'>'\n",
              " \twith 742 stored elements in Compressed Sparse Row format>,\n",
              " <53238x17351 sparse matrix of type '<class 'numpy.float64'>'\n",
              " \twith 1068 stored elements in Compressed Sparse Row format>,\n",
              " <53238x17351 sparse matrix of type '<class 'numpy.float64'>'\n",
              " \twith 837 stored elements in Compressed Sparse Row format>,\n",
              " <53238x17351 sparse matrix of type '<class 'numpy.float64'>'\n",
              " \twith 593 stored elements in Compressed Sparse Row format>,\n",
              " <53238x17351 sparse matrix of type '<class 'numpy.float64'>'\n",
              " \twith 336 stored elements in Compressed Sparse Row format>,\n",
              " <53238x17351 sparse matrix of type '<class 'numpy.float64'>'\n",
              " \twith 178 stored elements in Compressed Sparse Row format>,\n",
              " <53238x17351 sparse matrix of type '<class 'numpy.float64'>'\n",
              " \twith 90 stored elements in Compressed Sparse Row format>]"
            ]
          },
          "metadata": {
            "tags": []
          },
          "execution_count": 48
        }
      ]
    },
    {
      "cell_type": "code",
      "metadata": {
        "colab": {
          "base_uri": "https://localhost:8080/"
        },
        "id": "_6YCH6jWRRMH",
        "outputId": "70696bd6-fd0a-437b-c649-ab93219f612f"
      },
      "source": [
        "UserItemMAT_reglist = AllRatingMatrices(newUserItem_list,'Updated_UserID','Updated_ItemID',rows_i ,cols_i) \n",
        "UserItemMAT_reglist  "
      ],
      "execution_count": 49,
      "outputs": [
        {
          "output_type": "execute_result",
          "data": {
            "text/plain": [
              "[<53238x17351 sparse matrix of type '<class 'numpy.float64'>'\n",
              " \twith 363560 stored elements in Compressed Sparse Row format>,\n",
              " <53238x17351 sparse matrix of type '<class 'numpy.float64'>'\n",
              " \twith 365165 stored elements in Compressed Sparse Row format>,\n",
              " <53238x17351 sparse matrix of type '<class 'numpy.float64'>'\n",
              " \twith 366920 stored elements in Compressed Sparse Row format>,\n",
              " <53238x17351 sparse matrix of type '<class 'numpy.float64'>'\n",
              " \twith 368571 stored elements in Compressed Sparse Row format>,\n",
              " <53238x17351 sparse matrix of type '<class 'numpy.float64'>'\n",
              " \twith 369882 stored elements in Compressed Sparse Row format>,\n",
              " <53238x17351 sparse matrix of type '<class 'numpy.float64'>'\n",
              " \twith 370778 stored elements in Compressed Sparse Row format>,\n",
              " <53238x17351 sparse matrix of type '<class 'numpy.float64'>'\n",
              " \twith 371421 stored elements in Compressed Sparse Row format>,\n",
              " <53238x17351 sparse matrix of type '<class 'numpy.float64'>'\n",
              " \twith 371915 stored elements in Compressed Sparse Row format>]"
            ]
          },
          "metadata": {
            "tags": []
          },
          "execution_count": 49
        }
      ]
    },
    {
      "cell_type": "code",
      "metadata": {
        "colab": {
          "base_uri": "https://localhost:8080/"
        },
        "id": "bZGtyUJPRCff",
        "outputId": "9d8ddeb6-d604-4cff-830d-7bb87ed13621"
      },
      "source": [
        "print(AllDF_list[-1]['userId'].nunique(),AllDF_list[-1]['productId'].nunique())\n",
        "print(AMZG_DF['userId'].nunique(),AMZG_DF['productId'].nunique())"
      ],
      "execution_count": 50,
      "outputs": [
        {
          "output_type": "stream",
          "text": [
            "53242 17351\n",
            "53242 17351\n"
          ],
          "name": "stdout"
        }
      ]
    },
    {
      "cell_type": "markdown",
      "metadata": {
        "id": "PTIqbZ8v3wX3"
      },
      "source": [
        "#### PSI Prediction"
      ]
    },
    {
      "cell_type": "code",
      "metadata": {
        "colab": {
          "base_uri": "https://localhost:8080/"
        },
        "id": "erGth4eKRRMJ",
        "outputId": "8c769d4c-a134-43a4-b3c6-52022d3ab1f4"
      },
      "source": [
        "                                                                                   #integratorOnMat(A0,ΔA_train_matrix,ΔA_test_matrix,k):\n",
        "Vpsi_listReg =  integratorOnMat(A0_Rating_matrix,PSI_train_matrix,PSI_test_matrix,k=50)  #PSI == projector splitting integrator\n",
        "print(len(Vpsi_listReg))  "
      ],
      "execution_count": 51,
      "outputs": [
        {
          "output_type": "stream",
          "text": [
            "8\n"
          ],
          "name": "stdout"
        }
      ]
    },
    {
      "cell_type": "code",
      "metadata": {
        "colab": {
          "base_uri": "https://localhost:8080/"
        },
        "id": "c9jUgHkKAhbi",
        "outputId": "f10e3b2e-a51c-4bd0-ce65-1536fc8e1b09"
      },
      "source": [
        "Top10Pred_psi = TopNPred(UserItemMAT_reglist[0], newHOLDOUT_LIST[0],Vpsi_listReg[0],'Updated_UserID',N=10)\n",
        "print(Top10Pred_psi.shape)\n",
        "Top10Pred_psi"
      ],
      "execution_count": 52,
      "outputs": [
        {
          "output_type": "stream",
          "text": [
            "(857, 10)\n"
          ],
          "name": "stdout"
        },
        {
          "output_type": "execute_result",
          "data": {
            "text/plain": [
              "array([[13664, 12255, 12012, ..., 12776,  5008, 13920],\n",
              "       [12230,  4114,  7941, ...,  7353,  6190,  6665],\n",
              "       [ 2819,  1287,  1565, ..., 10727,  2820,  1359],\n",
              "       ...,\n",
              "       [13413, 12012, 14484, ..., 14002, 14542, 14009],\n",
              "       [ 5687,  1359,   829, ...,  3390,  3027, 12776],\n",
              "       [ 5030,  1489,  5008, ...,  9805,  5687, 12231]])"
            ]
          },
          "metadata": {
            "tags": []
          },
          "execution_count": 52
        }
      ]
    },
    {
      "cell_type": "code",
      "metadata": {
        "colab": {
          "base_uri": "https://localhost:8080/"
        },
        "id": "u1sFaxNBAhc2",
        "outputId": "21c6912c-2874-412a-ed55-f430975b99bc"
      },
      "source": [
        "Hitrate_Eval(newHOLDOUT_LIST[0],Top10Pred_psi,'Updated_UserID','Updated_ItemID')"
      ],
      "execution_count": 53,
      "outputs": [
        {
          "output_type": "stream",
          "text": [
            "Number of hits:  43\n",
            "Total Num of users:  857\n",
            "Recommendation HitRate:  0.050175029171528586\n"
          ],
          "name": "stdout"
        },
        {
          "output_type": "execute_result",
          "data": {
            "text/plain": [
              "0.050175029171528586"
            ]
          },
          "metadata": {
            "tags": []
          },
          "execution_count": 53
        }
      ]
    },
    {
      "cell_type": "code",
      "metadata": {
        "colab": {
          "base_uri": "https://localhost:8080/"
        },
        "id": "oUDxtIohbVj8",
        "outputId": "2a19ea2b-9506-4bf9-82f8-1153c4cd4ff0"
      },
      "source": [
        "All_PSI_PRED =  TQDMgetALLTopNPred(UserItemMAT_reglist,newHOLDOUT_LIST,Vpsi_listReg,'Updated_UserID',N = 10)\n",
        "print(len(All_PSI_PRED))\n",
        "All_PSI_PRED[:2]"
      ],
      "execution_count": 54,
      "outputs": [
        {
          "output_type": "stream",
          "text": [
            "8it [00:01,  4.89it/s]"
          ],
          "name": "stderr"
        },
        {
          "output_type": "stream",
          "text": [
            "8\n"
          ],
          "name": "stdout"
        },
        {
          "output_type": "stream",
          "text": [
            "\n"
          ],
          "name": "stderr"
        },
        {
          "output_type": "execute_result",
          "data": {
            "text/plain": [
              "[array([[13664, 12255, 12012, ..., 12776,  5008, 13920],\n",
              "        [12230,  4114,  7941, ...,  7353,  6190,  6665],\n",
              "        [ 2819,  1287,  1565, ..., 10727,  2820,  1359],\n",
              "        ...,\n",
              "        [13413, 12012, 14484, ..., 14002, 14542, 14009],\n",
              "        [ 5687,  1359,   829, ...,  3390,  3027, 12776],\n",
              "        [ 5030,  1489,  5008, ...,  9805,  5687, 12231]]),\n",
              " array([[11083,  9421,  4238, ..., 11588, 11929,  3601],\n",
              "        [ 3819,  3455,  2848, ...,  4807,  1760,  8121],\n",
              "        [10727, 13923, 15655, ..., 16535,  6903,  5030],\n",
              "        ...,\n",
              "        [10129, 12255,  8072, ..., 13648, 13218, 13672],\n",
              "        [  928,    59,   172, ...,  1879,  3754,  3115],\n",
              "        [  237,    59,   172, ...,   270,  7812,   154]])]"
            ]
          },
          "metadata": {
            "tags": []
          },
          "execution_count": 54
        }
      ]
    },
    {
      "cell_type": "code",
      "metadata": {
        "colab": {
          "base_uri": "https://localhost:8080/"
        },
        "id": "2ZnpolG9A7KZ",
        "outputId": "7fc07d5e-09d2-458a-9cb9-8bf06f67ef65"
      },
      "source": [
        "AllSteps_Hitrate_psi, LowerBand, Avg_HitRate, UpperBand   = getAll_HitRate(newHOLDOUT_LIST,All_PSI_PRED,'Updated_UserID','Updated_ItemID')"
      ],
      "execution_count": 55,
      "outputs": [
        {
          "output_type": "stream",
          "text": [
            "Number of hits:  43\n",
            "Total Num of users:  857\n",
            "Recommendation HitRate:  0.050175029171528586\n",
            "Number of hits:  26\n",
            "Total Num of users:  676\n",
            "Recommendation HitRate:  0.038461538461538464\n",
            "Number of hits:  21\n",
            "Total Num of users:  800\n",
            "Recommendation HitRate:  0.02625\n",
            "Number of hits:  15\n",
            "Total Num of users:  713\n",
            "Recommendation HitRate:  0.021037868162692847\n",
            "Number of hits:  17\n",
            "Total Num of users:  556\n",
            "Recommendation HitRate:  0.030575539568345324\n",
            "Number of hits:  22\n",
            "Total Num of users:  463\n",
            "Recommendation HitRate:  0.047516198704103674\n",
            "Number of hits:  10\n",
            "Total Num of users:  398\n",
            "Recommendation HitRate:  0.02512562814070352\n",
            "Number of hits:  2\n",
            "Total Num of users:  239\n",
            "Recommendation HitRate:  0.008368200836820083\n",
            "Average HitRate for All Recommendations:  0.03093875038071656\n"
          ],
          "name": "stdout"
        }
      ]
    },
    {
      "cell_type": "code",
      "metadata": {
        "id": "wzOFbi-7SrOS"
      },
      "source": [
        ""
      ],
      "execution_count": null,
      "outputs": []
    },
    {
      "cell_type": "code",
      "metadata": {
        "colab": {
          "base_uri": "https://localhost:8080/"
        },
        "id": "p65XDxesTfBL",
        "outputId": "33da34b6-d51e-4bb3-a9d8-557a742ed581"
      },
      "source": [
        "for df in newUserItem_list:\n",
        "    print(df['Updated_UserID'].nunique(),df['Updated_ItemID'].nunique())"
      ],
      "execution_count": 56,
      "outputs": [
        {
          "output_type": "stream",
          "text": [
            "52894 17330\n",
            "52968 17332\n",
            "53061 17336\n",
            "53139 17344\n",
            "53188 17346\n",
            "53212 17349\n",
            "53225 17349\n",
            "53238 17351\n"
          ],
          "name": "stdout"
        }
      ]
    },
    {
      "cell_type": "code",
      "metadata": {
        "id": "r-omdXc5YnAM"
      },
      "source": [
        ""
      ],
      "execution_count": null,
      "outputs": []
    },
    {
      "cell_type": "markdown",
      "metadata": {
        "id": "ex_fBepRvk5I"
      },
      "source": [
        "###  RandRec:Test"
      ]
    },
    {
      "cell_type": "code",
      "metadata": {
        "colab": {
          "base_uri": "https://localhost:8080/"
        },
        "id": "42RCvm1dlZNu",
        "outputId": "5fe54861-9c7c-4a8b-e9e2-bc2ace741b47"
      },
      "source": [
        "print(len(UserItem_MatUpdt),len(newHOLDOUT_LIST))"
      ],
      "execution_count": null,
      "outputs": [
        {
          "output_type": "stream",
          "text": [
            "8 8\n"
          ],
          "name": "stdout"
        }
      ]
    },
    {
      "cell_type": "code",
      "metadata": {
        "colab": {
          "base_uri": "https://localhost:8080/"
        },
        "id": "TBkzzmmFlZNz",
        "outputId": "855a7ea5-86c7-4497-fba3-6f2c26783e2b"
      },
      "source": [
        "All_RandPred = get_ALLRandPred(UserItem_MatUpdt,newHOLDOUT_LIST,'Updated_UserID',N=10)\n",
        "All_RandPred[:2]  "
      ],
      "execution_count": null,
      "outputs": [
        {
          "output_type": "stream",
          "text": [
            "8it [00:02,  3.81it/s]\n"
          ],
          "name": "stderr"
        },
        {
          "output_type": "execute_result",
          "data": {
            "text/plain": [
              "[array([[ 4997,  1277,  3397, ..., 13074, 11424,  8355],\n",
              "        [13658,  9719, 11786, ...,  9565,  6288,  2143],\n",
              "        [ 2222,  4426, 11526, ...,  3724, 12245,  9353],\n",
              "        ...,\n",
              "        [11445,  3541, 12022, ..., 16711,  7446, 15335],\n",
              "        [11184, 10147,  7645, ...,    46,  1534,  4738],\n",
              "        [10238, 16054,  2390, ..., 16763,  3514, 12209]]),\n",
              " array([[ 1982,  3235, 11099, ...,  2938,   765,  9281],\n",
              "        [14573,  9665,  5641, ...,  7224,  3170, 10120],\n",
              "        [10139, 13444, 11819, ..., 10274,  5166,  6747],\n",
              "        ...,\n",
              "        [ 2915,  7827, 12274, ..., 17293, 12459,  4018],\n",
              "        [ 2825,  1436, 13636, ..., 11140, 12051,  5315],\n",
              "        [12441, 13650,  9944, ..., 14026,  2711,  4632]])]"
            ]
          },
          "metadata": {
            "tags": []
          },
          "execution_count": 76
        }
      ]
    },
    {
      "cell_type": "code",
      "metadata": {
        "colab": {
          "base_uri": "https://localhost:8080/"
        },
        "id": "uMLoaZ6YlZN3",
        "outputId": "c7ca7e8e-7e2d-454f-dd2f-a4b316a08ecb"
      },
      "source": [
        "AllSteps_Hitrate, LowerBand, Avg_HitRate, UpperBand = getAll_RandomHitRate(newHOLDOUT_LIST,All_RandPred,'Updated_UserID','Updated_ItemID')"
      ],
      "execution_count": null,
      "outputs": [
        {
          "output_type": "stream",
          "text": [
            "Number of hits:  0\n",
            "Total Num of users:  857\n",
            "Recommendation HitRate:  0.0\n",
            "Number of hits:  0\n",
            "Total Num of users:  676\n",
            "Recommendation HitRate:  0.0\n",
            "Number of hits:  0\n",
            "Total Num of users:  800\n",
            "Recommendation HitRate:  0.0\n",
            "Number of hits:  0\n",
            "Total Num of users:  713\n",
            "Recommendation HitRate:  0.0\n",
            "Number of hits:  1\n",
            "Total Num of users:  556\n",
            "Recommendation HitRate:  0.0017985611510791368\n",
            "Number of hits:  0\n",
            "Total Num of users:  463\n",
            "Recommendation HitRate:  0.0\n",
            "Number of hits:  0\n",
            "Total Num of users:  398\n",
            "Recommendation HitRate:  0.0\n",
            "Number of hits:  0\n",
            "Total Num of users:  239\n",
            "Recommendation HitRate:  0.0\n",
            "Average HitRate for All Recommendations:  0.0002248201438848921\n"
          ],
          "name": "stdout"
        }
      ]
    },
    {
      "cell_type": "code",
      "metadata": {
        "id": "ZKEdny0fj3At"
      },
      "source": [
        ""
      ],
      "execution_count": null,
      "outputs": []
    },
    {
      "cell_type": "markdown",
      "metadata": {
        "id": "XTkVUSBi4sgE"
      },
      "source": [
        "### Most Pop Rec"
      ]
    },
    {
      "cell_type": "code",
      "metadata": {
        "id": "Gl9RwPlyoatA"
      },
      "source": [
        "new_PSIDFlist = adjustedPSI_DF(PSITest_list,userID_dict,itemID_dict,AllUpdtUSERS_,AllUpdtITEMS_,n=8)\n",
        "for old,new in zip(PSITest_list,new_PSIDFlist):\n",
        "    print(old.shape[0],new.shape[0])"
      ],
      "execution_count": null,
      "outputs": []
    },
    {
      "cell_type": "code",
      "metadata": {
        "colab": {
          "base_uri": "https://localhost:8080/"
        },
        "id": "dwtyYptbxT1n",
        "outputId": "8f85b99a-ad5d-4c22-9e0a-141eb8f383e6"
      },
      "source": [
        "All_MostPOPRED_List =  getAll_MOSTPOP_Pred(new_PSIDFlist,newHOLDOUT_LIST,'Updated_UserID','Updated_ItemID',N=10)\n",
        "All_MostPOPRED_List[:2]"
      ],
      "execution_count": null,
      "outputs": [
        {
          "output_type": "execute_result",
          "data": {
            "text/plain": [
              "[array([[ 8818, 12079, 17129, ...,  7965, 13218, 16535],\n",
              "        [ 8818, 12079, 17129, ...,  7965, 13218, 16535],\n",
              "        [ 8818, 12079, 17129, ...,  7965, 13218, 16535],\n",
              "        ...,\n",
              "        [ 8818, 12079, 17129, ...,  7965, 13218, 16535],\n",
              "        [ 8818, 12079, 17129, ...,  7965, 13218, 16535],\n",
              "        [ 8818, 12079, 17129, ...,  7965, 13218, 16535]]),\n",
              " array([[17226,  8818, 12079, ..., 17129, 13981, 17008],\n",
              "        [17226,  8818, 12079, ..., 17129, 13981, 17008],\n",
              "        [17226,  8818, 12079, ..., 17129, 13981, 17008],\n",
              "        ...,\n",
              "        [17226,  8818, 12079, ..., 17129, 13981, 17008],\n",
              "        [17226,  8818, 12079, ..., 17129, 13981, 17008],\n",
              "        [17226,  8818, 12079, ..., 17129, 13981, 17008]])]"
            ]
          },
          "metadata": {
            "tags": []
          },
          "execution_count": 78
        }
      ]
    },
    {
      "cell_type": "code",
      "metadata": {
        "colab": {
          "base_uri": "https://localhost:8080/"
        },
        "id": "pzPaCjrsUvFa",
        "outputId": "e7cf5094-027a-4219-d28e-2c9f323c19df"
      },
      "source": [
        "AllSteps_Hitrate, LowerBand, Avg_HitRate, UpperBand  = getAll_MostPOPHitRate(newHOLDOUT_LIST,All_MostPOPRED_List,'Updated_UserID','Updated_ItemID')"
      ],
      "execution_count": null,
      "outputs": [
        {
          "output_type": "stream",
          "text": [
            "Number of hits:  42\n",
            "Total Num of users:  857\n",
            "Recommendation HitRate:  0.049008168028004666\n",
            "Number of hits:  26\n",
            "Total Num of users:  676\n",
            "Recommendation HitRate:  0.038461538461538464\n",
            "Number of hits:  19\n",
            "Total Num of users:  800\n",
            "Recommendation HitRate:  0.02375\n",
            "Number of hits:  21\n",
            "Total Num of users:  713\n",
            "Recommendation HitRate:  0.029453015427769985\n",
            "Number of hits:  12\n",
            "Total Num of users:  556\n",
            "Recommendation HitRate:  0.02158273381294964\n",
            "Number of hits:  38\n",
            "Total Num of users:  463\n",
            "Recommendation HitRate:  0.08207343412526998\n",
            "Number of hits:  28\n",
            "Total Num of users:  398\n",
            "Recommendation HitRate:  0.07035175879396985\n",
            "Number of hits:  5\n",
            "Total Num of users:  239\n",
            "Recommendation HitRate:  0.02092050209205021\n",
            "Average HitRate for All Recommendations:  0.0419501438426941\n"
          ],
          "name": "stdout"
        }
      ]
    },
    {
      "cell_type": "code",
      "metadata": {
        "colab": {
          "base_uri": "https://localhost:8080/"
        },
        "id": "CbzcieIu7oCt",
        "outputId": "5ddd98b7-1da7-4062-ffde-64129e2aec59"
      },
      "source": [
        "print(len(UserItem_MatUpdt),len(newHOLDOUT_LIST))"
      ],
      "execution_count": null,
      "outputs": [
        {
          "output_type": "stream",
          "text": [
            "8 8\n"
          ],
          "name": "stdout"
        }
      ]
    },
    {
      "cell_type": "code",
      "metadata": {
        "id": "gshLEV6neh4Y"
      },
      "source": [
        ""
      ],
      "execution_count": null,
      "outputs": []
    },
    {
      "cell_type": "code",
      "metadata": {
        "id": "zD4s8IY4DvsK"
      },
      "source": [
        ""
      ],
      "execution_count": null,
      "outputs": []
    },
    {
      "cell_type": "markdown",
      "metadata": {
        "id": "00phYsByS9Oq"
      },
      "source": [
        "### CORRELATION Report\n"
      ]
    },
    {
      "cell_type": "code",
      "metadata": {
        "colab": {
          "base_uri": "https://localhost:8080/"
        },
        "id": "T1Sq8YA6U-V2",
        "outputId": "fb85da2d-b552-4d33-b20c-7621a61ac8b9"
      },
      "source": [
        "print(UserItem_MatUpdt[0].shape)\n",
        "print(UserItemMAT_reglist[0].shape)"
      ],
      "execution_count": 57,
      "outputs": [
        {
          "output_type": "stream",
          "text": [
            "(52894, 17330)\n",
            "(53238, 17351)\n"
          ],
          "name": "stdout"
        }
      ]
    },
    {
      "cell_type": "markdown",
      "metadata": {
        "id": "gfiwUrPKfayk"
      },
      "source": [
        "#### getAll User Pred"
      ]
    },
    {
      "cell_type": "code",
      "metadata": {
        "colab": {
          "base_uri": "https://localhost:8080/"
        },
        "id": "BxV4PhiFfkuM",
        "outputId": "9d2cfe01-6078-43f6-9343-6408a4e58bc6"
      },
      "source": [
        "AllUsers_updtPRED =  TQDMgetALLTopNPred_ALLUSERS(UserItem_MatUpdt,Vpsi_listUpdt, N=10) \n",
        "print(len(AllUsers_updtPRED))\n",
        "AllUsers_updtPRED[:2]"
      ],
      "execution_count": 58,
      "outputs": [
        {
          "output_type": "stream",
          "text": [
            "8it [02:10, 16.27s/it]"
          ],
          "name": "stderr"
        },
        {
          "output_type": "stream",
          "text": [
            "8\n"
          ],
          "name": "stdout"
        },
        {
          "output_type": "stream",
          "text": [
            "\n"
          ],
          "name": "stderr"
        },
        {
          "output_type": "execute_result",
          "data": {
            "text/plain": [
              "[array([[ 1359,   237,    59, ...,   873,   727,   154],\n",
              "        [10129,  8072, 10567, ...,  1359,  5687, 12099],\n",
              "        [  791, 10129,  8072, ...,  4344, 15655,   928],\n",
              "        ...,\n",
              "        [13413, 12012, 14484, ..., 14002, 14542, 14009],\n",
              "        [ 5687,  1359,   829, ...,  3390,  3027, 12776],\n",
              "        [ 5030,  1489,  5008, ...,  9805,  5687, 12231]]),\n",
              " array([[ 1359,   237,    59, ...,   873,   727,   154],\n",
              "        [10129,  8072, 10567, ...,  1359,  5687, 12099],\n",
              "        [  791, 10129,  8072, ...,  4344, 15655,   928],\n",
              "        ...,\n",
              "        [16429, 12579, 17226, ..., 16184, 14505, 15652],\n",
              "        [ 4148, 15202,  1489, ...,  7326, 15454, 13664],\n",
              "        [11588, 10567, 12202, ...,  5030, 12099,  4832]])]"
            ]
          },
          "metadata": {
            "tags": []
          },
          "execution_count": 58
        }
      ]
    },
    {
      "cell_type": "code",
      "metadata": {
        "id": "IxlTtkOs5tTN",
        "colab": {
          "base_uri": "https://localhost:8080/"
        },
        "outputId": "ca4b3afb-ce4e-4137-ef9e-35b3d36dfef2"
      },
      "source": [
        "AllUsers_updtPRED[2].shape"
      ],
      "execution_count": 59,
      "outputs": [
        {
          "output_type": "execute_result",
          "data": {
            "text/plain": [
              "(53061, 10)"
            ]
          },
          "metadata": {
            "tags": []
          },
          "execution_count": 59
        }
      ]
    },
    {
      "cell_type": "markdown",
      "metadata": {
        "id": "4GLHnKJViAHo"
      },
      "source": [
        "####  SingleRank Corr "
      ]
    },
    {
      "cell_type": "code",
      "metadata": {
        "colab": {
          "base_uri": "https://localhost:8080/"
        },
        "id": "UkFqDvcW_Amh",
        "outputId": "3213e7a6-0bfb-4276-f9e6-ee2453e1ef17"
      },
      "source": [
        "AllSteps = list(range(1,8))\n",
        "print(len(AllSteps))\n",
        "print(len(AllUsers_updtPRED))\n",
        "AllSteps"
      ],
      "execution_count": 60,
      "outputs": [
        {
          "output_type": "stream",
          "text": [
            "7\n",
            "8\n"
          ],
          "name": "stdout"
        },
        {
          "output_type": "execute_result",
          "data": {
            "text/plain": [
              "[1, 2, 3, 4, 5, 6, 7]"
            ]
          },
          "metadata": {
            "tags": []
          },
          "execution_count": 60
        }
      ]
    },
    {
      "cell_type": "code",
      "metadata": {
        "colab": {
          "base_uri": "https://localhost:8080/"
        },
        "id": "QlTrlJKrNwRC",
        "outputId": "054213cc-2b3c-446f-c22d-5693fff24f16"
      },
      "source": [
        "UpdtPSICorr_ = Updt_getAll_AvgCorr(AllUsers_updtPRED,newUserItem_list,AllSteps,'Updated_UserID')  #,\n",
        "UpdtPSICorr_"
      ],
      "execution_count": 61,
      "outputs": [
        {
          "output_type": "execute_result",
          "data": {
            "text/plain": [
              "array([array([1.        , 1.        , 1.        , ..., 0.99056095, 0.45352501,\n",
              "       0.8372122 ]),\n",
              "       array([1.        , 1.        , 1.        , ..., 0.96643133, 0.85080241,\n",
              "       0.4196961 ]),\n",
              "       array([1.        , 1.        , 1.        , ..., 0.48421476, 1.        ,\n",
              "       0.36773835]),\n",
              "       array([1.        , 1.        , 1.        , ..., 0.92690249, 1.        ,\n",
              "       0.8923215 ]),\n",
              "       array([1.        , 1.        , 1.        , ..., 0.59107566, 0.63731145,\n",
              "       0.01933435]),\n",
              "       array([1.        , 1.        , 1.        , ..., 0.85662181, 1.        ,\n",
              "       0.49898457]),\n",
              "       array([1.        , 1.        , 1.        , ..., 0.38701494, 1.        ,\n",
              "       0.70757663])], dtype=object)"
            ]
          },
          "metadata": {
            "tags": []
          },
          "execution_count": 61
        }
      ]
    },
    {
      "cell_type": "code",
      "metadata": {
        "colab": {
          "base_uri": "https://localhost:8080/"
        },
        "id": "Ms8Nj-1ndBAG",
        "outputId": "523c7009-951d-4862-a2ce-978cc6a87a23"
      },
      "source": [
        "UpdtPSICorr_.shape\n",
        "for df in UpdtPSICorr_:\n",
        "    print(df.mean())  "
      ],
      "execution_count": 62,
      "outputs": [
        {
          "output_type": "stream",
          "text": [
            "0.9899609562814747\n",
            "0.9905641149516281\n",
            "0.9904058503197232\n",
            "0.9933173287467842\n",
            "0.9955900374158145\n",
            "0.9974810324489751\n",
            "0.9984659483219057\n"
          ],
          "name": "stdout"
        }
      ]
    },
    {
      "cell_type": "code",
      "metadata": {
        "id": "MkdAFQCZTnco"
      },
      "source": [
        ""
      ],
      "execution_count": null,
      "outputs": []
    },
    {
      "cell_type": "code",
      "metadata": {
        "id": "PhfkO3EcJN5W"
      },
      "source": [
        ""
      ],
      "execution_count": null,
      "outputs": []
    },
    {
      "cell_type": "markdown",
      "metadata": {
        "id": "s19yQCNaTxSL"
      },
      "source": [
        "#### RegPSI Corr_"
      ]
    },
    {
      "cell_type": "code",
      "metadata": {
        "id": "C5-t8Ck1UYWv"
      },
      "source": [
        ""
      ],
      "execution_count": null,
      "outputs": []
    },
    {
      "cell_type": "code",
      "metadata": {
        "colab": {
          "base_uri": "https://localhost:8080/"
        },
        "id": "nNWgpQTkTxSv",
        "outputId": "3332bede-8435-40a4-9d99-22b21ad290bc"
      },
      "source": [
        "AllUsersRegPIS_PRED =  TQDMgetALLTopNPred_ALLUSERS(UserItemMAT_reglist,Vpsi_listReg, N=10) \n",
        "print(len(AllUsersRegPIS_PRED))\n",
        "AllUsersRegPIS_PRED[:2]"
      ],
      "execution_count": 63,
      "outputs": [
        {
          "output_type": "stream",
          "text": [
            "8it [02:03, 15.48s/it]"
          ],
          "name": "stderr"
        },
        {
          "output_type": "stream",
          "text": [
            "8\n"
          ],
          "name": "stdout"
        },
        {
          "output_type": "stream",
          "text": [
            "\n"
          ],
          "name": "stderr"
        },
        {
          "output_type": "execute_result",
          "data": {
            "text/plain": [
              "[array([[ 1359,   237,    59, ...,   873,   727,   154],\n",
              "        [10129,  8072, 10567, ...,  1359,  5687, 12099],\n",
              "        [  791, 10129,  8072, ...,  4344, 15655,   928],\n",
              "        ...,\n",
              "        [ 5786,  5788,  5793, ...,  5782,  5781, 17350],\n",
              "        [ 5786,  5788,  5793, ...,  5782,  5781, 17350],\n",
              "        [ 5786,  5788,  5793, ...,  5782,  5781, 17350]]),\n",
              " array([[ 1359,   237,    59, ...,   873,   727,   154],\n",
              "        [10129,  8072, 10567, ...,  1359,  5687, 12099],\n",
              "        [  791, 10129,  8072, ...,  4344, 15655,   928],\n",
              "        ...,\n",
              "        [ 5786,  5788,  5793, ...,  5782,  5781, 17350],\n",
              "        [ 5786,  5788,  5793, ...,  5782,  5781, 17350],\n",
              "        [ 5786,  5788,  5793, ...,  5782,  5781, 17350]])]"
            ]
          },
          "metadata": {
            "tags": []
          },
          "execution_count": 63
        }
      ]
    },
    {
      "cell_type": "code",
      "metadata": {
        "colab": {
          "base_uri": "https://localhost:8080/"
        },
        "id": "e9CyySeHTxS1",
        "outputId": "a9b3ac21-074f-4f81-87c2-6cf7bbe4871c"
      },
      "source": [
        "AllUsersRegPIS_PRED[2].shape"
      ],
      "execution_count": 64,
      "outputs": [
        {
          "output_type": "execute_result",
          "data": {
            "text/plain": [
              "(53238, 10)"
            ]
          },
          "metadata": {
            "tags": []
          },
          "execution_count": 64
        }
      ]
    },
    {
      "cell_type": "markdown",
      "metadata": {
        "id": "r0AvdqsHTxS4"
      },
      "source": [
        "####  RegPSI SingleRankCorr "
      ]
    },
    {
      "cell_type": "code",
      "metadata": {
        "colab": {
          "base_uri": "https://localhost:8080/"
        },
        "id": "gEYu_nLCTxS6",
        "outputId": "a0e14fb1-9245-436c-f5a2-190822b671ef"
      },
      "source": [
        "AllSteps = list(range(1,8))\n",
        "print(len(AllSteps))\n",
        "print(len(AllUsersRegPIS_PRED))\n",
        "AllSteps  "
      ],
      "execution_count": 65,
      "outputs": [
        {
          "output_type": "stream",
          "text": [
            "7\n",
            "8\n"
          ],
          "name": "stdout"
        },
        {
          "output_type": "execute_result",
          "data": {
            "text/plain": [
              "[1, 2, 3, 4, 5, 6, 7]"
            ]
          },
          "metadata": {
            "tags": []
          },
          "execution_count": 65
        }
      ]
    },
    {
      "cell_type": "code",
      "metadata": {
        "colab": {
          "base_uri": "https://localhost:8080/"
        },
        "id": "5jPXwk8KTxS9",
        "outputId": "99b352d3-31f5-433b-b5a2-05c9242e5ed2"
      },
      "source": [
        "RegPSICorr_ = Updt_getAll_AvgCorr(AllUsersRegPIS_PRED,newUserItem_list,AllSteps,'Updated_UserID')  #,\n",
        "RegPSICorr_"
      ],
      "execution_count": 66,
      "outputs": [
        {
          "output_type": "execute_result",
          "data": {
            "text/plain": [
              "array([array([1.        , 1.        , 1.        , ..., 0.99056095, 0.45352501,\n",
              "       0.8372122 ]),\n",
              "       array([1.        , 1.        , 1.        , ..., 0.96643133, 0.85080241,\n",
              "       0.4196961 ]),\n",
              "       array([1.        , 1.        , 1.        , ..., 0.51950592, 1.        ,\n",
              "       0.54851568]),\n",
              "       array([1.        , 1.        , 1.        , ..., 0.92690249, 1.        ,\n",
              "       0.8923215 ]),\n",
              "       array([1.        , 1.        , 1.        , ..., 0.5850961 , 0.63731145,\n",
              "       0.01933435]),\n",
              "       array([1.        , 1.        , 1.        , ..., 0.90698876, 1.        ,\n",
              "       0.50325866]),\n",
              "       array([1.        , 1.        , 1.        , ..., 0.38701494, 1.        ,\n",
              "       0.72796442])], dtype=object)"
            ]
          },
          "metadata": {
            "tags": []
          },
          "execution_count": 66
        }
      ]
    },
    {
      "cell_type": "code",
      "metadata": {
        "colab": {
          "base_uri": "https://localhost:8080/"
        },
        "id": "7Jw6LVmFTxTC",
        "outputId": "2f8d7f6b-b094-4eea-ecdb-5fcfd43885c8"
      },
      "source": [
        "RegPSICorr_.shape\n",
        "for df in RegPSICorr_:\n",
        "    print(df.mean())  "
      ],
      "execution_count": 67,
      "outputs": [
        {
          "output_type": "stream",
          "text": [
            "0.9868358626012891\n",
            "0.9871147545573127\n",
            "0.987093266074119\n",
            "0.9910057051073075\n",
            "0.9940084226728061\n",
            "0.9961010544835398\n",
            "0.9980445634054407\n"
          ],
          "name": "stdout"
        }
      ]
    },
    {
      "cell_type": "code",
      "metadata": {
        "id": "O1ZQgxN2TxTF"
      },
      "source": [
        ""
      ],
      "execution_count": null,
      "outputs": []
    },
    {
      "cell_type": "code",
      "metadata": {
        "id": "eSKdJ115TxTG"
      },
      "source": [
        ""
      ],
      "execution_count": null,
      "outputs": []
    },
    {
      "cell_type": "code",
      "metadata": {
        "id": "H_lvPsHkTwh2"
      },
      "source": [
        ""
      ],
      "execution_count": null,
      "outputs": []
    }
  ]
}