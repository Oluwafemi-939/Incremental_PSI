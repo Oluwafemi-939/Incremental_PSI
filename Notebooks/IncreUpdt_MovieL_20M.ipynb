{
  "nbformat": 4,
  "nbformat_minor": 0,
  "metadata": {
    "colab": {
      "name": "ServerNote.ipynb",
      "provenance": [],
      "collapsed_sections": [],
      "toc_visible": true
    },
    "kernelspec": {
      "name": "python392jvsc74a57bd01d40221c0336dfe0c468749ccfbce19a4d0ada951efb74219fd3ebf7d78ddc70",
      "display_name": "Python 3.9.2 64-bit ('PSI_project': conda)"
    },
    "language_info": {
      "codemirror_mode": {
        "name": "ipython",
        "version": 3
      },
      "file_extension": ".py",
      "mimetype": "text/x-python",
      "name": "python",
      "nbconvert_exporter": "python",
      "pygments_lexer": "ipython3",
      "version": "3.9.2"
    },
    "metadata": {
      "interpreter": {
        "hash": "1d40221c0336dfe0c468749ccfbce19a4d0ada951efb74219fd3ebf7d78ddc70"
      }
    }
  },
  "cells": [
    {
      "cell_type": "code",
      "execution_count": 3,
      "metadata": {},
      "outputs": [],
      "source": [
        "import os                                  #Hello2021\n",
        "os.environ[\"OMP_NUM_THREADS\"] = \"8\"        #\"export\" OMP_NUM_THREADS=4\n",
        "os.environ[\"OPENBLAS_NUM_THREADS\"] = \"8\"   #\"export\" OPENBLAS_NUM_THREADS=4 \n",
        "os.environ[\"MKL_NUM_THREADS\"] = \"8\"        #\"export\" MKL_NUM_THREADS=6\n",
        "os.environ[\"VECLIB_MAXIMUM_THREADS\"] = \"8\" #\"export\" VECLIB_MAXIMUM_THREADS=4\n",
        "os.environ[\"NUMEXPR_NUM_THREADS\"] = \"8\"    #Hello2021"
      ]
    },
    {
      "cell_type": "markdown",
      "metadata": {
        "id": "waGNRsQkGt3t"
      },
      "source": [
        "## Imports"
      ]
    },
    {
      "cell_type": "code",
      "metadata": {
        "id": "LSMrVzzrFcnl"
      },
      "source": [
        "import io\n",
        "import os\n",
        "import gzip\n",
        "import json\n",
        "import scipy\n",
        "import random\n",
        "import warnings\n",
        "import numpy as np\n",
        "import numba as nb\n",
        "import pandas as pd\n",
        "import datetime as dt\n",
        "import seaborn as sns\n",
        "from tqdm import tqdm\n",
        "import scipy.stats as st\n",
        "from collections import OrderedDict\n",
        "import scipy.sparse as sparse\n",
        "from scipy.linalg import orth\n",
        "import matplotlib.pyplot as plt\n",
        "from numpy import linalg as lin\n",
        "import implicit\n",
        "import pickle\n",
        "warnings.filterwarnings('ignore')\n",
        "from scipy.sparse import coo_matrix\n",
        "from scipy.sparse.linalg import svds\n",
        "from datetime import datetime as dt_dt\n",
        "from scipy.sparse.linalg import spsolve\n",
        "from numpy.linalg import qr as QR_decomp\n",
        "from scipy.sparse import csr_matrix, find\n",
        "from pandas.api.types import CategoricalDtype\n",
        "from typing import List\n",
        "import torch\n",
        "import torch.nn.functional as F\n",
        "from torch import nn\n",
        "from polara.evaluation.pipelines import random_grid\n",
        "import bottleneck as bn"
      ],
      "execution_count": 4,
      "outputs": []
    },
    {
      "cell_type": "markdown",
      "metadata": {
        "id": "IkLZJhQWqaPp"
      },
      "source": [
        "## Functions"
      ]
    },
    {
      "cell_type": "code",
      "metadata": {
        "id": "Uvv8Q8zR7OAn"
      },
      "source": [
        "import sys\n",
        "sys.path.append('/home/oolaleke/incremental_PSI/Scripts/')\n",
        "#sys.path.append('/content/')"
      ],
      "execution_count": 5,
      "outputs": []
    },
    {
      "cell_type": "code",
      "metadata": {
        "id": "qoOQOsCf7849"
      },
      "source": [
        "import a_DataHelpers\n",
        "import b_AlgoFunctions\n",
        "import c_PredEval\n",
        "import d_CorrScores\n",
        "import e_VAEfunction"
      ],
      "execution_count": 6,
      "outputs": []
    },
    {
      "cell_type": "code",
      "metadata": {
        "id": "slSdgbc1XxNT"
      },
      "source": [
        "from a_DataHelpers import getPivotMonths,Time_DataSplit,TestTrain_DataSplit,SingleRatingMatrix\n",
        "from a_DataHelpers import AllRatingMatrices,All_SingleStepRatMat,psiStep_RatMat,psiAllStep_RatMat\n",
        "from a_DataHelpers import Find_NewUsersItems,adjustedPSI_DF,adjustedAllDF,get_NEWHoldout,ADJUST_mainDF\n",
        "from a_DataHelpers import  SingleStepRatMat_2,AllSingleStepRatMat_2\n",
        "\n",
        "from b_AlgoFunctions import integrator,getStartingValues,integratorOnMat,last_psiTrainMat, pureSVD\n",
        "from b_AlgoFunctions import Updt_RowMatrix,getRow_Mat,row_update, Updt_ColMatrix,getCol_Mat,colunm_update\n",
        "from b_AlgoFunctions import UsersItems_RatPair,getRowCol_psiupdt,ITEMS_defferredStatus,USERS_defferredStatus\n",
        "from b_AlgoFunctions import getV_listUpdate, SingleStep_UPDATE,ALLSTEPs_UPDATE, auc_score,TrainTest\n",
        "from b_AlgoFunctions import mean_auc,tune_ALS,nonzeros,least_squares_cg,alternating_least_squares_cg\n",
        "\n",
        "from c_PredEval import TopNPred,TQDMgetALLTopNPred, Hitrate_Eval,getAll_HitRate,mean_confidence_interval\n",
        "from c_PredEval import TQDMgetALLTopNPred_ALLUSERS,getALLTopNPred_ALLUSERS,get_ALLRandPred\n",
        "from c_PredEval import topN_Index,getAll_RandomHitRate,getMOSTPOP_Pred,getAll_MostPOPHitRate,getAll_MOSTPOP_Pred\n",
        "from c_PredEval import StepCoverage_Ratio,AllSteps_Coverage_Ratio,getAll_VAEMRR, MRR_Eval,getAll_MRR_Eval\n",
        "from c_PredEval import TQDMgetAll_MRR_Eval, getAll_MostPOP_MRR,getAll_RandomRecMRR, ials_TopNPred,ials_getALLPred\n",
        "from c_PredEval import ials_getALLPredTQDM,ials_ALLUSERSpred,ialsALLPred_ALLUSERS,TQDM_ialsALLPred_ALLUSERS\n",
        "\n",
        "from d_CorrScores import no_copy_csr_matrix,build_rank_weights_matrix,rank_weighted_jaccard_index\n",
        "from d_CorrScores import Updt_getAll_AvgCorr, updtCorr_4AllRanks\n",
        "\n",
        "from e_VAEfunction import split_users, split_train_test, numerize_data, get_TrainRatMat, getTrainTest_RatMat\n"
      ],
      "execution_count": 7,
      "outputs": []
    },
    {
      "cell_type": "markdown",
      "metadata": {
        "id": "e556n8BpXy0b"
      },
      "source": [
        "## Apply Functions on *MovieLenDF*"
      ]
    },
    {
      "cell_type": "markdown",
      "metadata": {
        "id": "Kq7VUKhmJPxP"
      },
      "source": [
        "### Import Clean Data "
      ]
    },
    {
      "cell_type": "code",
      "metadata": {
        "id": "hE6KEjteGV3c"
      },
      "source": [
        "#MLDF_20M = pd.read_csv('/mnt/bulky/oolaleke/TDM_Dataset/newIncreMLDF_20M.csv.zip') \n",
        "MLDF_20M = pd.read_csv('/mnt/bulky/oolaleke/TDM_Dataset/MLDF_20M.csv.zip') \n",
        "MLDF_20M['timestamp'] = pd.to_datetime(MLDF_20M['timestamp']) \n",
        "print(MLDF_20M.shape)   #\n",
        "print(MLDF_20M.dtypes)\n",
        "MLDF_20M"
      ],
      "execution_count": 9,
      "outputs": [
        {
          "output_type": "stream",
          "name": "stdout",
          "text": [
            "(9990682, 7)\nuserid                   int64\nmovieId                  int64\nrating                   int64\ntimestamp       datetime64[ns]\ntimestamp_YM            object\nuserId                   int64\nproductId                int64\ndtype: object\n"
          ]
        },
        {
          "output_type": "execute_result",
          "data": {
            "text/plain": [
              "         userid  movieId  rating           timestamp timestamp_YM  userId  \\\n",
              "0         28507     1176       1 1995-01-09 11:46:44      1995-01       0   \n",
              "1        131160       47       1 1995-01-09 11:46:49      1995-01       1   \n",
              "2         85252       70       1 1996-01-29 00:00:00      1996-01       2   \n",
              "3        134445       45       1 1996-01-29 00:00:00      1996-01       3   \n",
              "4         99851       10       1 1996-01-29 00:00:00      1996-01       4   \n",
              "...         ...      ...     ...                 ...          ...     ...   \n",
              "9990677   57814     3527       1 2015-03-31 05:44:17      2015-03  136366   \n",
              "9990678   57814    48774       1 2015-03-31 05:44:23      2015-03  136366   \n",
              "9990679   57814     1240       1 2015-03-31 05:50:01      2015-03  136366   \n",
              "9990680   57814     2311       1 2015-03-31 05:51:23      2015-03  136366   \n",
              "9990681   89081    52458       1 2015-03-31 06:11:28      2015-03  108996   \n",
              "\n",
              "         productId  \n",
              "0                0  \n",
              "1                1  \n",
              "2                2  \n",
              "3                3  \n",
              "4                4  \n",
              "...            ...  \n",
              "9990677       3314  \n",
              "9990678       9045  \n",
              "9990679       1073  \n",
              "9990680       2129  \n",
              "9990681       9228  \n",
              "\n",
              "[9990682 rows x 7 columns]"
            ],
            "text/html": "<div>\n<style scoped>\n    .dataframe tbody tr th:only-of-type {\n        vertical-align: middle;\n    }\n\n    .dataframe tbody tr th {\n        vertical-align: top;\n    }\n\n    .dataframe thead th {\n        text-align: right;\n    }\n</style>\n<table border=\"1\" class=\"dataframe\">\n  <thead>\n    <tr style=\"text-align: right;\">\n      <th></th>\n      <th>userid</th>\n      <th>movieId</th>\n      <th>rating</th>\n      <th>timestamp</th>\n      <th>timestamp_YM</th>\n      <th>userId</th>\n      <th>productId</th>\n    </tr>\n  </thead>\n  <tbody>\n    <tr>\n      <th>0</th>\n      <td>28507</td>\n      <td>1176</td>\n      <td>1</td>\n      <td>1995-01-09 11:46:44</td>\n      <td>1995-01</td>\n      <td>0</td>\n      <td>0</td>\n    </tr>\n    <tr>\n      <th>1</th>\n      <td>131160</td>\n      <td>47</td>\n      <td>1</td>\n      <td>1995-01-09 11:46:49</td>\n      <td>1995-01</td>\n      <td>1</td>\n      <td>1</td>\n    </tr>\n    <tr>\n      <th>2</th>\n      <td>85252</td>\n      <td>70</td>\n      <td>1</td>\n      <td>1996-01-29 00:00:00</td>\n      <td>1996-01</td>\n      <td>2</td>\n      <td>2</td>\n    </tr>\n    <tr>\n      <th>3</th>\n      <td>134445</td>\n      <td>45</td>\n      <td>1</td>\n      <td>1996-01-29 00:00:00</td>\n      <td>1996-01</td>\n      <td>3</td>\n      <td>3</td>\n    </tr>\n    <tr>\n      <th>4</th>\n      <td>99851</td>\n      <td>10</td>\n      <td>1</td>\n      <td>1996-01-29 00:00:00</td>\n      <td>1996-01</td>\n      <td>4</td>\n      <td>4</td>\n    </tr>\n    <tr>\n      <th>...</th>\n      <td>...</td>\n      <td>...</td>\n      <td>...</td>\n      <td>...</td>\n      <td>...</td>\n      <td>...</td>\n      <td>...</td>\n    </tr>\n    <tr>\n      <th>9990677</th>\n      <td>57814</td>\n      <td>3527</td>\n      <td>1</td>\n      <td>2015-03-31 05:44:17</td>\n      <td>2015-03</td>\n      <td>136366</td>\n      <td>3314</td>\n    </tr>\n    <tr>\n      <th>9990678</th>\n      <td>57814</td>\n      <td>48774</td>\n      <td>1</td>\n      <td>2015-03-31 05:44:23</td>\n      <td>2015-03</td>\n      <td>136366</td>\n      <td>9045</td>\n    </tr>\n    <tr>\n      <th>9990679</th>\n      <td>57814</td>\n      <td>1240</td>\n      <td>1</td>\n      <td>2015-03-31 05:50:01</td>\n      <td>2015-03</td>\n      <td>136366</td>\n      <td>1073</td>\n    </tr>\n    <tr>\n      <th>9990680</th>\n      <td>57814</td>\n      <td>2311</td>\n      <td>1</td>\n      <td>2015-03-31 05:51:23</td>\n      <td>2015-03</td>\n      <td>136366</td>\n      <td>2129</td>\n    </tr>\n    <tr>\n      <th>9990681</th>\n      <td>89081</td>\n      <td>52458</td>\n      <td>1</td>\n      <td>2015-03-31 06:11:28</td>\n      <td>2015-03</td>\n      <td>108996</td>\n      <td>9228</td>\n    </tr>\n  </tbody>\n</table>\n<p>9990682 rows × 7 columns</p>\n</div>"
          },
          "metadata": {},
          "execution_count": 9
        }
      ]
    },
    {
      "cell_type": "code",
      "metadata": {
        "colab": {
          "base_uri": "https://localhost:8080/"
        },
        "id": "2XWFDaGwFFCR",
        "outputId": "3fdc693b-c261-4c90-c686-89a29fab2ad9"
      },
      "source": [
        "print(MLDF_20M.shape)\n",
        "print(\"For users: \")\n",
        "print(MLDF_20M['userId'].nunique())\n",
        "print(MLDF_20M['userId'].max())\n",
        "print()\n",
        "print(\"For items: \")\n",
        "print(MLDF_20M['productId'].nunique())\n",
        "print(MLDF_20M['productId'].max())\n",
        "print()\n",
        "print(\"Timestamp\")\n",
        "print(MLDF_20M['timestamp'].min())\n",
        "print(MLDF_20M['timestamp'].max())"
      ],
      "execution_count": 11,
      "outputs": [
        {
          "output_type": "stream",
          "name": "stdout",
          "text": [
            "(9990682, 7)\n",
            "For users: \n",
            "136677\n",
            "136676\n",
            "\n",
            "For items: \n",
            "20720\n",
            "20719\n",
            "\n",
            "Timestamp\n",
            "1995-01-09 11:46:44\n",
            "2015-03-31 06:11:28\n"
          ]
        }
      ]
    },
    {
      "cell_type": "code",
      "metadata": {
        "id": "xlbzMS4hGeF3"
      },
      "source": [
        "nunsers = MLDF_20M['userId'].nunique()\n",
        "nitems = MLDF_20M['productId'].nunique()\n",
        "print(\"Num of unique users: \",nunsers)\n",
        "print(\"Num of unique items: \",nitems)\n",
        "print()\n",
        "sparsity = (1. * MLDF_20M.shape[0]) / (nunsers * nitems)\n",
        "print(\"After filtering, there are %d inyteractions from %d users and %d items (sparsity: %.3f%%)\" % \n",
        "      (MLDF_20M.shape[0], nunsers, nitems, sparsity * 100))"
      ],
      "execution_count": 38,
      "outputs": [
        {
          "output_type": "stream",
          "name": "stdout",
          "text": [
            "Num of unique users:  136677\nNum of unique items:  20720\n\nAfter filtering, there are 9990682 inyteractions from 136677 users and 20720 items (sparsity: 0.353%)\n"
          ]
        }
      ]
    },
    {
      "cell_type": "markdown",
      "metadata": {
        "id": "KwnnNu5ISAOR"
      },
      "source": [
        "### Data Split"
      ]
    },
    {
      "cell_type": "code",
      "metadata": {
        "colab": {
          "base_uri": "https://localhost:8080/"
        },
        "id": "iMlutJ-GSAOT",
        "outputId": "a50b2e42-5c64-4264-cbbf-96f44bab0809"
      },
      "source": [
        "print(\"Size of Dataset: \", MLDF_20M.shape)\n",
        "print('Min Date: ', MLDF_20M['timestamp'].min())\n",
        "print(\"Max Date: \",MLDF_20M['timestamp'].max())"
      ],
      "execution_count": 12,
      "outputs": [
        {
          "output_type": "stream",
          "name": "stdout",
          "text": [
            "Size of Dataset:  (9990682, 7)\nMin Date:  1995-01-09 11:46:44\nMax Date:  2015-03-31 06:11:28\n"
          ]
        }
      ]
    },
    {
      "cell_type": "code",
      "metadata": {
        "colab": {
          "base_uri": "https://localhost:8080/"
        },
        "id": "Jqqxa8AOSAOd",
        "outputId": "71798581-1161-4a56-9c83-46298fdf5517"
      },
      "source": [
        "train_df = MLDF_20M[MLDF_20M['timestamp_YM'] < '2010-01']    #'2016-02\n",
        "print(\"DF Shape: \",train_df['userId'].shape)  ##63%\n",
        "print(\"NUsers  : \",train_df['userId'].nunique())\n",
        "print(\"max Ids  : \",train_df['userId'].max(),train_df['productId'].max())"
      ],
      "execution_count": 14,
      "outputs": [
        {
          "output_type": "stream",
          "name": "stdout",
          "text": [
            "DF Shape:  (8066566,)\nNUsers  :  112109\nmax Ids  :  112108 12063\n"
          ]
        }
      ]
    },
    {
      "cell_type": "code",
      "metadata": {
        "colab": {
          "base_uri": "https://localhost:8080/"
        },
        "id": "XkUSFKB1SAOe",
        "outputId": "ff91b6bf-4f5a-45fd-c9bb-7a5746118748"
      },
      "source": [
        "remainder_df = MLDF_20M[MLDF_20M['timestamp_YM'] >= '2010-01']  \n",
        "print(\"DF Shape: \",remainder_df['userId'].shape)  ##63%\n",
        "print(\"NUsers  : \",remainder_df['userId'].nunique())\n",
        "#print(\"max Ids  : \",remainder_df['userId'].min(),remainder_df['productId'].min())"
      ],
      "execution_count": 17,
      "outputs": [
        {
          "output_type": "stream",
          "name": "stdout",
          "text": [
            "DF Shape:  (1924116,)\nNUsers  :  30094\n"
          ]
        }
      ]
    },
    {
      "cell_type": "code",
      "metadata": {
        "colab": {
          "base_uri": "https://localhost:8080/"
        },
        "id": "6TDHVuxGSAOf",
        "outputId": "0526a446-9cdf-465e-c2fb-ffd4edcc51c3"
      },
      "source": [
        "n = 80200  #num_of_interaction/no_steps\n",
        "all_df = []\n",
        "for g, df in remainder_df.groupby(np.arange(len(remainder_df)) // n):\n",
        "    all_df.append(df)\n",
        "    print(df['userId'].nunique())\n",
        "print()\n",
        "print(g+1)    "
      ],
      "execution_count": 18,
      "outputs": [
        {
          "output_type": "stream",
          "name": "stdout",
          "text": [
            "3322\n3482\n3194\n3142\n3224\n3536\n3559\n3263\n3562\n3459\n3311\n3124\n3115\n3165\n3098\n3169\n3129\n3192\n3409\n3267\n3077\n2772\n2644\n2730\n\n24\n"
          ]
        }
      ]
    },
    {
      "cell_type": "code",
      "execution_count": 21,
      "metadata": {},
      "outputs": [
        {
          "output_type": "stream",
          "name": "stdout",
          "text": [
            "2010-01-01 00:01:13\n2010-03-08 08:53:21\n\n2010-03-08 08:53:27\n2010-05-27 20:50:21\n\n2010-05-27 20:51:00\n2010-08-07 17:30:17\n\n2010-08-07 17:30:18\n2010-10-01 02:39:05\n\n2010-10-01 02:39:10\n2010-12-03 14:19:53\n\n"
          ]
        }
      ],
      "source": [
        "for i in range(5):\n",
        "    print(all_df[i]['timestamp'].min()) \n",
        "    print(all_df[i]['timestamp'].max())\n",
        "    print()"
      ]
    },
    {
      "cell_type": "markdown",
      "metadata": {
        "id": "CfrlfYwtg0RR"
      },
      "source": [
        "###Traintest Split"
      ]
    },
    {
      "cell_type": "code",
      "metadata": {
        "id": "3gAygjGd8NFK",
        "colab": {
          "base_uri": "https://localhost:8080/"
        },
        "outputId": "b819133d-8aa2-431f-bb5a-224e80dd08e3"
      },
      "source": [
        "A0_df = train_df  \n",
        "print(\"Initial Training Data: \") \n",
        "print(\"Start Time: \",A0_df['timestamp'].min())\n",
        "print(\"End Time:   \",A0_df['timestamp'].max())\n",
        "print()\n",
        "print(\"Num of interactions: \",A0_df.shape[0])\n",
        "print(\"Num of uniqueUsers:  \",A0_df['userId'].nunique())"
      ],
      "execution_count": 22,
      "outputs": [
        {
          "output_type": "stream",
          "name": "stdout",
          "text": [
            "Initial Training Data: \n",
            "Start Time:  1995-01-09 11:46:44\n",
            "End Time:    2009-12-31 23:59:17\n",
            "\n",
            "Num of interactions:  8066566\n",
            "Num of uniqueUsers:   112109\n"
          ]
        }
      ]
    },
    {
      "cell_type": "code",
      "execution_count": 23,
      "metadata": {},
      "outputs": [
        {
          "output_type": "stream",
          "name": "stdout",
          "text": [
            "max of userId     :   112108\nmax of productId  :   12063\n"
          ]
        }
      ],
      "source": [
        "print(\"max of userId     :  \",A0_df['userId'].max())\n",
        "print(\"max of productId  :  \",A0_df['productId'].max())"
      ]
    },
    {
      "cell_type": "code",
      "metadata": {
        "id": "FSvG81Gs8NFL",
        "colab": {
          "base_uri": "https://localhost:8080/"
        },
        "outputId": "5e2ab424-5b82-40ad-9b4d-e24c9caae7f1"
      },
      "source": [
        "ΔA_train = all_df[:9] \n",
        "print(\"Incremental Train steps: \",len(ΔA_train))\n",
        "print(\"Start Time: \",ΔA_train[0]['timestamp'].min())\n",
        "print(\"End Time:   \",ΔA_train[-1]['timestamp'].max())\n"
      ],
      "execution_count": 24,
      "outputs": [
        {
          "output_type": "stream",
          "name": "stdout",
          "text": [
            "Incremental Train steps:  9\nStart Time:  2010-01-01 00:01:13\nEnd Time:    2011-09-20 19:46:58\n"
          ]
        }
      ]
    },
    {
      "cell_type": "code",
      "metadata": {
        "id": "2V6tLApz8NFM",
        "colab": {
          "base_uri": "https://localhost:8080/"
        },
        "outputId": "060fe08e-1bb3-4047-cb13-7d3d9c2136c5"
      },
      "source": [
        "ΔA_test = all_df[9:] \n",
        "print(\"Incremental Test steps: \",len(ΔA_test))\n",
        "print(\"Start Time: \",ΔA_test[0]['timestamp'].min())\n",
        "print(\"End Time:   \",ΔA_test[-1]['timestamp'].max())"
      ],
      "execution_count": 26,
      "outputs": [
        {
          "output_type": "stream",
          "name": "stdout",
          "text": [
            "Incremental Test steps:  15\nStart Time:  2011-09-20 19:47:28\nEnd Time:    2015-03-31 06:11:28\n"
          ]
        }
      ]
    },
    {
      "cell_type": "code",
      "metadata": {
        "id": "O_HSp4Ax8NFN",
        "colab": {
          "base_uri": "https://localhost:8080/"
        },
        "outputId": "ab3d83e1-0094-4bac-a742-b33de1072bb7"
      },
      "source": [
        "ΔA_test[0]['timestamp'].max()"
      ],
      "execution_count": 27,
      "outputs": [
        {
          "output_type": "execute_result",
          "data": {
            "text/plain": [
              "Timestamp('2011-12-24 12:40:43')"
            ]
          },
          "metadata": {},
          "execution_count": 27
        }
      ]
    },
    {
      "cell_type": "code",
      "execution_count": 28,
      "metadata": {},
      "outputs": [],
      "source": [
        "ML20M_DF = MLDF_20M"
      ]
    },
    {
      "cell_type": "code",
      "metadata": {
        "id": "baVjA5xh8NFT",
        "colab": {
          "base_uri": "https://localhost:8080/"
        },
        "outputId": "0bc578ff-c30c-40e5-d3a7-02b7c9e770ed"
      },
      "source": [
        "AllDF_list, PSITest_list, HOLDOUT_list,UserItemDF_list = TestTrain_DataSplit(ML20M_DF,'userId','timestamp',ΔA_test)\n",
        "print(AllDF_list[1]['timestamp'].min())\n",
        "print(AllDF_list[1]['timestamp'].max())\n",
        "print()\n",
        "print(ΔA_test[1]['timestamp'].min())\n",
        "print(ΔA_test[1]['timestamp'].max())"
      ],
      "execution_count": 29,
      "outputs": [
        {
          "output_type": "stream",
          "name": "stdout",
          "text": [
            "1995-01-09 11:46:44\n2012-03-16 20:45:10\n\n2011-12-24 12:40:45\n2012-03-16 20:45:10\n"
          ]
        }
      ]
    },
    {
      "cell_type": "code",
      "metadata": {
        "id": "FXqq0BEw8NFW",
        "colab": {
          "base_uri": "https://localhost:8080/"
        },
        "outputId": "4544d831-2883-4a11-d8a6-b50016b50dd8"
      },
      "source": [
        "for i in range(10):\n",
        "    print(AllDF_list[i]['userId'].max(),AllDF_list[i]['userId'].nunique())"
      ],
      "execution_count": 30,
      "outputs": [
        {
          "output_type": "stream",
          "name": "stdout",
          "text": [
            "122396 122397\n",
            "123312 123313\n",
            "124423 124424\n",
            "125345 125346\n",
            "126344 126345\n",
            "127270 127271\n",
            "128218 128219\n",
            "129236 129237\n",
            "130491 130492\n",
            "131632 131633\n"
          ]
        }
      ]
    },
    {
      "cell_type": "code",
      "metadata": {
        "id": "C9_iraoz8NFY",
        "colab": {
          "base_uri": "https://localhost:8080/"
        },
        "outputId": "fac1b830-7f41-4957-afd2-e8f3858fd464"
      },
      "source": [
        "print(ΔA_test[2].shape)\n",
        "print(PSITest_list[2].shape)\n",
        "print(HOLDOUT_list[2]['userId'].nunique())"
      ],
      "execution_count": 31,
      "outputs": [
        {
          "output_type": "stream",
          "name": "stdout",
          "text": [
            "(80200, 7)\n(77076, 7)\n3124\n"
          ]
        }
      ]
    },
    {
      "cell_type": "markdown",
      "metadata": {
        "id": "dzWCij3ZipQX"
      },
      "source": [
        "### Find new users and items"
      ]
    },
    {
      "cell_type": "code",
      "metadata": {
        "colab": {
          "base_uri": "https://localhost:8080/"
        },
        "id": "L-GolZfZipQZ",
        "outputId": "9670753c-d17e-45a4-f73e-c95d1fe4d0ee"
      },
      "source": [
        "Tstps = ML20M_DF['timestamp']\n",
        "tr_ts = ΔA_train[-1]['timestamp'].max()\n",
        "print(\"ΔA_train_last max date: \",tr_ts)\n",
        "AllDF_start = ML20M_DF.loc[Tstps <= tr_ts] \n",
        "print(AllDF_start['timestamp'].min())\n",
        "print(AllDF_start['timestamp'].max())\n",
        "print()\n",
        "print(AllDF_list[0]['timestamp'].min())\n",
        "print(AllDF_list[0]['timestamp'].max())"
      ],
      "execution_count": 32,
      "outputs": [
        {
          "output_type": "stream",
          "name": "stdout",
          "text": [
            "ΔA_train_last max date:  2011-09-20 19:46:58\n",
            "1995-01-09 11:46:44\n",
            "2011-09-20 19:46:58\n",
            "\n",
            "1995-01-09 11:46:44\n",
            "2011-12-24 12:40:43\n"
          ]
        }
      ]
    },
    {
      "cell_type": "code",
      "execution_count": 33,
      "metadata": {},
      "outputs": [
        {
          "output_type": "execute_result",
          "data": {
            "text/plain": [
              "15"
            ]
          },
          "metadata": {},
          "execution_count": 33
        }
      ],
      "source": [
        "len(ΔA_test)"
      ]
    },
    {
      "cell_type": "code",
      "metadata": {
        "colab": {
          "base_uri": "https://localhost:8080/"
        },
        "id": "GfgYKuugA3lO",
        "outputId": "93ffa1b9-9a78-46ad-e657-f4afc2d46081"
      },
      "source": [
        "New_usersList,New_itemsList = Find_NewUsersItems(AllDF_start,AllDF_list,'userId','productId',N_steps=15)\n",
        "print(New_usersList[0][:10]) #\n",
        "print()\n",
        "print(New_itemsList[0][:10]) #"
      ],
      "execution_count": 34,
      "outputs": [
        {
          "output_type": "stream",
          "name": "stdout",
          "text": [
            "[121304 121305 121306 121307 121308 121309 121310 121311 121312 121313]\n\n[14959 14960 14961 14962 14963 14964 14965 14966 14967 14968]\n"
          ]
        }
      ]
    },
    {
      "cell_type": "code",
      "metadata": {
        "colab": {
          "base_uri": "https://localhost:8080/"
        },
        "id": "KXIsxxPnjhx2",
        "outputId": "89e48312-1337-44fd-c912-c49f7829ef23"
      },
      "source": [
        "print(\"users,Items\")\n",
        "for i,j in zip(New_usersList,New_itemsList):\n",
        "    print(i.size,j.size)\n",
        "    print()\n",
        "    "
      ],
      "execution_count": 35,
      "outputs": [
        {
          "output_type": "stream",
          "name": "stdout",
          "text": [
            "users,Items\n1093 339\n\n916 305\n\n1111 276\n\n922 304\n\n999 350\n\n926 329\n\n948 362\n\n1018 345\n\n1255 388\n\n1141 425\n\n1180 444\n\n1015 400\n\n952 477\n\n873 535\n\n1024 482\n\n"
          ]
        }
      ]
    },
    {
      "cell_type": "code",
      "execution_count": 40,
      "metadata": {},
      "outputs": [
        {
          "output_type": "stream",
          "name": "stdout",
          "text": [
            "121303\n"
          ]
        },
        {
          "output_type": "execute_result",
          "data": {
            "text/plain": [
              "array([121304, 121305, 121306, ..., 122394, 122395, 122396])"
            ]
          },
          "metadata": {},
          "execution_count": 40
        }
      ],
      "source": [
        "print(AllDF_start['userId'].max())\n",
        "New_usersList[0]"
      ]
    },
    {
      "cell_type": "code",
      "execution_count": null,
      "metadata": {},
      "outputs": [],
      "source": []
    },
    {
      "cell_type": "code",
      "metadata": {
        "id": "1ykECNc7G4GL"
      },
      "source": [],
      "execution_count": null,
      "outputs": []
    },
    {
      "cell_type": "markdown",
      "metadata": {
        "id": "gk_I6-j-nqwZ"
      },
      "source": [
        "## Incre Update"
      ]
    },
    {
      "cell_type": "markdown",
      "metadata": {
        "id": "n_XyE7otUxey"
      },
      "source": [
        "###Get Updt RatMat"
      ]
    },
    {
      "cell_type": "code",
      "execution_count": 42,
      "metadata": {},
      "outputs": [
        {
          "output_type": "stream",
          "name": "stdout",
          "text": [
            "121304\n2009-12-31 23:59:17\n2011-09-20 19:46:58\n"
          ]
        }
      ],
      "source": [
        "print(AllDF_start['userId'].nunique())\n",
        "print(A0_df['timestamp'].max())\n",
        "print(AllDF_start['timestamp'].max())"
      ]
    },
    {
      "cell_type": "code",
      "metadata": {
        "colab": {
          "base_uri": "https://localhost:8080/"
        },
        "id": "-S_Ti3jIVmL7",
        "outputId": "2f20526a-161b-4f43-8a9c-2ca2ef433386"
      },
      "source": [
        "rows_i = AllDF_start['userId'].nunique()\n",
        "cols_i = AllDF_start['productId'].nunique()\n",
        "print(A0_df.shape)\n",
        "A0_RatMat_updt = SingleRatingMatrix(A0_df,'userId', 'productId',rows_i,cols_i)\n",
        "A0_RatMat_updt"
      ],
      "execution_count": 43,
      "outputs": [
        {
          "output_type": "stream",
          "name": "stdout",
          "text": [
            "(8066566, 7)\n"
          ]
        },
        {
          "output_type": "execute_result",
          "data": {
            "text/plain": [
              "<121304x14959 sparse matrix of type '<class 'numpy.float64'>'\n",
              "\twith 8066566 stored elements in Compressed Sparse Row format>"
            ]
          },
          "metadata": {},
          "execution_count": 43
        }
      ]
    },
    {
      "cell_type": "code",
      "metadata": {
        "colab": {
          "base_uri": "https://localhost:8080/"
        },
        "id": "9bSWovTNVmMX",
        "outputId": "6e884a38-df23-4e1a-8743-a82fc9c246d2"
      },
      "source": [
        "PSI_TrainMat_updt = AllRatingMatrices(ΔA_train,'userId','productId',rows_i ,cols_i)\n",
        "PSI_TrainMat_updt"
      ],
      "execution_count": 44,
      "outputs": [
        {
          "output_type": "execute_result",
          "data": {
            "text/plain": [
              "[<121304x14959 sparse matrix of type '<class 'numpy.float64'>'\n",
              " \twith 80200 stored elements in Compressed Sparse Row format>,\n",
              " <121304x14959 sparse matrix of type '<class 'numpy.float64'>'\n",
              " \twith 80200 stored elements in Compressed Sparse Row format>,\n",
              " <121304x14959 sparse matrix of type '<class 'numpy.float64'>'\n",
              " \twith 80200 stored elements in Compressed Sparse Row format>,\n",
              " <121304x14959 sparse matrix of type '<class 'numpy.float64'>'\n",
              " \twith 80200 stored elements in Compressed Sparse Row format>,\n",
              " <121304x14959 sparse matrix of type '<class 'numpy.float64'>'\n",
              " \twith 80200 stored elements in Compressed Sparse Row format>,\n",
              " <121304x14959 sparse matrix of type '<class 'numpy.float64'>'\n",
              " \twith 80200 stored elements in Compressed Sparse Row format>,\n",
              " <121304x14959 sparse matrix of type '<class 'numpy.float64'>'\n",
              " \twith 80200 stored elements in Compressed Sparse Row format>,\n",
              " <121304x14959 sparse matrix of type '<class 'numpy.float64'>'\n",
              " \twith 80200 stored elements in Compressed Sparse Row format>,\n",
              " <121304x14959 sparse matrix of type '<class 'numpy.float64'>'\n",
              " \twith 80200 stored elements in Compressed Sparse Row format>]"
            ]
          },
          "metadata": {},
          "execution_count": 44
        }
      ]
    },
    {
      "cell_type": "code",
      "metadata": {
        "id": "X9B1wEG8YUQa"
      },
      "source": [],
      "execution_count": null,
      "outputs": []
    },
    {
      "cell_type": "markdown",
      "metadata": {
        "id": "A0k3BxpQCEDK"
      },
      "source": [
        "### Allsteps Update"
      ]
    },
    {
      "cell_type": "code",
      "metadata": {
        "id": "RrhIaattvMvN"
      },
      "source": [
        "# rows_i = AllDF_start['userId'].nunique()\n",
        "# cols_i = AllDF_start['productId'].nunique()\n",
        "# print(AllDF_start.shape)\n",
        "# AllDF_startRatMat = SingleRatingMatrix(AllDF_start,'userId', 'productId',rows_i,cols_i)\n",
        "\n",
        "# U_start,S_start,V_start = svds(AllDF_startRatMat,k=50)\n",
        "# V_start = V_start.T\n",
        "# print()\n",
        "# print(\"U_start shape: \",U_start.shape)\n",
        "# print(\"S_start shape: \",S_start.shape)\n",
        "# print(\"V_start shape: \",V_start.shape)"
      ],
      "execution_count": null,
      "outputs": []
    },
    {
      "cell_type": "code",
      "metadata": {
        "colab": {
          "base_uri": "https://localhost:8080/"
        },
        "id": "gZKKzIA4UPAt",
        "outputId": "48841a1b-8ec0-48fc-fdd6-cc5994e3aa00"
      },
      "source": [
        "U_start,S_start,V_start = last_psiTrainMat(A0_RatMat_updt,PSI_TrainMat_updt,k=50)\n",
        "print()\n",
        "print(\"U_start shape: \",U_start.shape)\n",
        "print(\"S_start shape: \",S_start.shape)\n",
        "print(\"V_start shape: \",V_start.shape)"
      ],
      "execution_count": 45,
      "outputs": [
        {
          "output_type": "stream",
          "name": "stderr",
          "text": [
            "100%|██████████| 9/9 [00:01<00:00,  5.59it/s]\n",
            "U_start shape:  (121304, 50)\n",
            "S_start shape:  (50, 50)\n",
            "V_start shape:  (14959, 50)\n",
            "\n"
          ]
        }
      ]
    },
    {
      "cell_type": "code",
      "metadata": {
        "colab": {
          "base_uri": "https://localhost:8080/"
        },
        "id": "1c2frghJa9qQ",
        "outputId": "56ab2b11-f3cc-4376-8ac1-470ed4d9b697"
      },
      "source": [
        "U_list,S_list,V_list = [],[],[]\n",
        "U_list.append(U_start)\n",
        "S_list.append(S_start)\n",
        "V_list.append(V_start)\n",
        "print(len(U_list),len(V_list))"
      ],
      "execution_count": 46,
      "outputs": [
        {
          "output_type": "stream",
          "name": "stdout",
          "text": [
            "1 1\n"
          ]
        }
      ]
    },
    {
      "cell_type": "code",
      "metadata": {
        "id": "GBY5SEHx8NFk",
        "colab": {
          "base_uri": "https://localhost:8080/"
        },
        "outputId": "3d2af409-b6a3-4258-afc1-149527a386be"
      },
      "source": [
        "DItems_, DUsers_,In_DomainUSERS,In_DomainITEMS,userID_dict,itemID_dict,AllUpdtUSERS_,AllUpdtITEMS_,U_list,S_list,V_list = ALLSTEPs_UPDATE(AllDF_start,AllDF_list,New_itemsList,New_usersList,U_list,\n",
        "                                       S_list,V_list,'userId','productId',Nsteps=15,k=50,Forced_Orth=False)"
      ],
      "execution_count": 47,
      "outputs": [
        {
          "output_type": "stream",
          "name": "stderr",
          "text": [
            "100%|██████████| 14/14 [31:03<00:00, 133.11s/it]\n"
          ]
        }
      ]
    },
    {
      "cell_type": "markdown",
      "metadata": {
        "id": "H9o1U4E-zttV"
      },
      "source": [
        "### Output Check"
      ]
    },
    {
      "cell_type": "code",
      "metadata": {
        "id": "d92VJcjh8NFn",
        "colab": {
          "base_uri": "https://localhost:8080/"
        },
        "outputId": "6221ef5b-6dc2-4651-8486-7c3e24db1b66"
      },
      "source": [
        "print(AllDF_start['productId'].max())\n",
        "print(AllDF_start['userId'].max())"
      ],
      "execution_count": 48,
      "outputs": [
        {
          "output_type": "stream",
          "name": "stdout",
          "text": [
            "14958\n121303\n"
          ]
        }
      ]
    },
    {
      "cell_type": "code",
      "metadata": {
        "colab": {
          "base_uri": "https://localhost:8080/"
        },
        "id": "0J4Qrzf9OvVN",
        "outputId": "61a5bb25-b4bc-4477-80ce-3c2f023462fa"
      },
      "source": [
        "print(len(In_DomainITEMS[14958+1:]))\n",
        "print(In_DomainITEMS[14958+1:][:10])\n",
        "print()\n",
        "print(len(In_DomainUSERS[121303+1:]))\n",
        "print(In_DomainUSERS[121303+1:][:10])"
      ],
      "execution_count": 49,
      "outputs": [
        {
          "output_type": "stream",
          "name": "stdout",
          "text": [
            "5761\n[14959, 14960, 14961, 14962, 14963, 14965, 14966, 14967, 14968, 14969]\n\n15373\n[121304, 121305, 121306, 121307, 121308, 121309, 121310, 121311, 121312, 121313]\n"
          ]
        }
      ]
    },
    {
      "cell_type": "code",
      "metadata": {
        "colab": {
          "base_uri": "https://localhost:8080/"
        },
        "id": "5vpSt3xLOvVU",
        "outputId": "f8071193-7eb5-4079-cd4f-71cec00b649f"
      },
      "source": [
        "#deferred items and users\n",
        "print(len(DItems_))\n",
        "print(DItems_[:10])\n",
        "print()\n",
        "print(len(DUsers_))\n",
        "print(DUsers_[:10])"
      ],
      "execution_count": 52,
      "outputs": [
        {
          "output_type": "stream",
          "name": "stdout",
          "text": [
            "0\n[]\n\n0\n[]\n"
          ]
        }
      ]
    },
    {
      "cell_type": "code",
      "metadata": {
        "colab": {
          "base_uri": "https://localhost:8080/"
        },
        "id": "fYRgZGwlOvVW",
        "tags": [],
        "outputId": "fb60070e-9e33-4250-ddbb-3177944ed509"
      },
      "source": [
        "for x in list(itemID_dict)[3477+1:][:100]:\n",
        "    print (\"Id: {}, UpdtId: {} \".format(x,  itemID_dict[x]))   ##id ==key || updtedid == values  ,itemID_dict"
      ],
      "execution_count": 53,
      "outputs": [
        {
          "output_type": "stream",
          "name": "stdout",
          "text": [
            "Id: 3478, UpdtId: 3478 \nId: 3479, UpdtId: 3479 \nId: 3480, UpdtId: 3480 \nId: 3481, UpdtId: 3481 \nId: 3482, UpdtId: 3482 \nId: 3483, UpdtId: 3483 \nId: 3484, UpdtId: 3484 \nId: 3485, UpdtId: 3485 \nId: 3486, UpdtId: 3486 \nId: 3487, UpdtId: 3487 \nId: 3488, UpdtId: 3488 \nId: 3489, UpdtId: 3489 \nId: 3490, UpdtId: 3490 \nId: 3491, UpdtId: 3491 \nId: 3492, UpdtId: 3492 \nId: 3493, UpdtId: 3493 \nId: 3494, UpdtId: 3494 \nId: 3495, UpdtId: 3495 \nId: 3496, UpdtId: 3496 \nId: 3497, UpdtId: 3497 \nId: 3498, UpdtId: 3498 \nId: 3499, UpdtId: 3499 \nId: 3500, UpdtId: 3500 \nId: 3501, UpdtId: 3501 \nId: 3502, UpdtId: 3502 \nId: 3503, UpdtId: 3503 \nId: 3504, UpdtId: 3504 \nId: 3505, UpdtId: 3505 \nId: 3506, UpdtId: 3506 \nId: 3507, UpdtId: 3507 \nId: 3508, UpdtId: 3508 \nId: 3509, UpdtId: 3509 \nId: 3510, UpdtId: 3510 \nId: 3511, UpdtId: 3511 \nId: 3512, UpdtId: 3512 \nId: 3513, UpdtId: 3513 \nId: 3514, UpdtId: 3514 \nId: 3515, UpdtId: 3515 \nId: 3516, UpdtId: 3516 \nId: 3517, UpdtId: 3517 \nId: 3518, UpdtId: 3518 \nId: 3519, UpdtId: 3519 \nId: 3520, UpdtId: 3520 \nId: 3521, UpdtId: 3521 \nId: 3522, UpdtId: 3522 \nId: 3523, UpdtId: 3523 \nId: 3524, UpdtId: 3524 \nId: 3525, UpdtId: 3525 \nId: 3526, UpdtId: 3526 \nId: 3527, UpdtId: 3527 \nId: 3528, UpdtId: 3528 \nId: 3529, UpdtId: 3529 \nId: 3530, UpdtId: 3530 \nId: 3531, UpdtId: 3531 \nId: 3532, UpdtId: 3532 \nId: 3533, UpdtId: 3533 \nId: 3534, UpdtId: 3534 \nId: 3535, UpdtId: 3535 \nId: 3536, UpdtId: 3536 \nId: 3537, UpdtId: 3537 \nId: 3538, UpdtId: 3538 \nId: 3539, UpdtId: 3539 \nId: 3540, UpdtId: 3540 \nId: 3541, UpdtId: 3541 \nId: 3542, UpdtId: 3542 \nId: 3543, UpdtId: 3543 \nId: 3544, UpdtId: 3544 \nId: 3545, UpdtId: 3545 \nId: 3546, UpdtId: 3546 \nId: 3547, UpdtId: 3547 \nId: 3548, UpdtId: 3548 \nId: 3549, UpdtId: 3549 \nId: 3550, UpdtId: 3550 \nId: 3551, UpdtId: 3551 \nId: 3552, UpdtId: 3552 \nId: 3553, UpdtId: 3553 \nId: 3554, UpdtId: 3554 \nId: 3555, UpdtId: 3555 \nId: 3556, UpdtId: 3556 \nId: 3557, UpdtId: 3557 \nId: 3558, UpdtId: 3558 \nId: 3559, UpdtId: 3559 \nId: 3560, UpdtId: 3560 \nId: 3561, UpdtId: 3561 \nId: 3562, UpdtId: 3562 \nId: 3563, UpdtId: 3563 \nId: 3564, UpdtId: 3564 \nId: 3565, UpdtId: 3565 \nId: 3566, UpdtId: 3566 \nId: 3567, UpdtId: 3567 \nId: 3568, UpdtId: 3568 \nId: 3569, UpdtId: 3569 \nId: 3570, UpdtId: 3570 \nId: 3571, UpdtId: 3571 \nId: 3572, UpdtId: 3572 \nId: 3573, UpdtId: 3573 \nId: 3574, UpdtId: 3574 \nId: 3575, UpdtId: 3575 \nId: 3576, UpdtId: 3576 \nId: 3577, UpdtId: 3577 \n"
          ]
        }
      ]
    },
    {
      "cell_type": "code",
      "metadata": {
        "colab": {
          "base_uri": "https://localhost:8080/"
        },
        "id": "XP6aaq1qOvVY",
        "tags": [],
        "outputId": "ea126af8-d952-422b-c5f3-a7678b3fb8b7"
      },
      "source": [
        "for x in list(userID_dict)[5710:][:100]:\n",
        "    print (\"Id: {}, UpdtId: {} \".format(x,  userID_dict[x]))   ##id ==key || updtedid == values "
      ],
      "execution_count": 54,
      "outputs": [
        {
          "output_type": "stream",
          "name": "stdout",
          "text": [
            "Id: 5710, UpdtId: 5710 \nId: 5711, UpdtId: 5711 \nId: 5712, UpdtId: 5712 \nId: 5713, UpdtId: 5713 \nId: 5714, UpdtId: 5714 \nId: 5715, UpdtId: 5715 \nId: 5716, UpdtId: 5716 \nId: 5717, UpdtId: 5717 \nId: 5718, UpdtId: 5718 \nId: 5719, UpdtId: 5719 \nId: 5720, UpdtId: 5720 \nId: 5721, UpdtId: 5721 \nId: 5722, UpdtId: 5722 \nId: 5723, UpdtId: 5723 \nId: 5724, UpdtId: 5724 \nId: 5725, UpdtId: 5725 \nId: 5726, UpdtId: 5726 \nId: 5727, UpdtId: 5727 \nId: 5728, UpdtId: 5728 \nId: 5729, UpdtId: 5729 \nId: 5730, UpdtId: 5730 \nId: 5731, UpdtId: 5731 \nId: 5732, UpdtId: 5732 \nId: 5733, UpdtId: 5733 \nId: 5734, UpdtId: 5734 \nId: 5735, UpdtId: 5735 \nId: 5736, UpdtId: 5736 \nId: 5737, UpdtId: 5737 \nId: 5738, UpdtId: 5738 \nId: 5739, UpdtId: 5739 \nId: 5740, UpdtId: 5740 \nId: 5741, UpdtId: 5741 \nId: 5742, UpdtId: 5742 \nId: 5743, UpdtId: 5743 \nId: 5744, UpdtId: 5744 \nId: 5745, UpdtId: 5745 \nId: 5746, UpdtId: 5746 \nId: 5747, UpdtId: 5747 \nId: 5748, UpdtId: 5748 \nId: 5749, UpdtId: 5749 \nId: 5750, UpdtId: 5750 \nId: 5751, UpdtId: 5751 \nId: 5752, UpdtId: 5752 \nId: 5753, UpdtId: 5753 \nId: 5754, UpdtId: 5754 \nId: 5755, UpdtId: 5755 \nId: 5756, UpdtId: 5756 \nId: 5757, UpdtId: 5757 \nId: 5758, UpdtId: 5758 \nId: 5759, UpdtId: 5759 \nId: 5760, UpdtId: 5760 \nId: 5761, UpdtId: 5761 \nId: 5762, UpdtId: 5762 \nId: 5763, UpdtId: 5763 \nId: 5764, UpdtId: 5764 \nId: 5765, UpdtId: 5765 \nId: 5766, UpdtId: 5766 \nId: 5767, UpdtId: 5767 \nId: 5768, UpdtId: 5768 \nId: 5769, UpdtId: 5769 \nId: 5770, UpdtId: 5770 \nId: 5771, UpdtId: 5771 \nId: 5772, UpdtId: 5772 \nId: 5773, UpdtId: 5773 \nId: 5774, UpdtId: 5774 \nId: 5775, UpdtId: 5775 \nId: 5776, UpdtId: 5776 \nId: 5777, UpdtId: 5777 \nId: 5778, UpdtId: 5778 \nId: 5779, UpdtId: 5779 \nId: 5780, UpdtId: 5780 \nId: 5781, UpdtId: 5781 \nId: 5782, UpdtId: 5782 \nId: 5783, UpdtId: 5783 \nId: 5784, UpdtId: 5784 \nId: 5785, UpdtId: 5785 \nId: 5786, UpdtId: 5786 \nId: 5787, UpdtId: 5787 \nId: 5788, UpdtId: 5788 \nId: 5789, UpdtId: 5789 \nId: 5790, UpdtId: 5790 \nId: 5791, UpdtId: 5791 \nId: 5792, UpdtId: 5792 \nId: 5793, UpdtId: 5793 \nId: 5794, UpdtId: 5794 \nId: 5795, UpdtId: 5795 \nId: 5796, UpdtId: 5796 \nId: 5797, UpdtId: 5797 \nId: 5798, UpdtId: 5798 \nId: 5799, UpdtId: 5799 \nId: 5800, UpdtId: 5800 \nId: 5801, UpdtId: 5801 \nId: 5802, UpdtId: 5802 \nId: 5803, UpdtId: 5803 \nId: 5804, UpdtId: 5804 \nId: 5805, UpdtId: 5805 \nId: 5806, UpdtId: 5806 \nId: 5807, UpdtId: 5807 \nId: 5808, UpdtId: 5808 \nId: 5809, UpdtId: 5809 \n"
          ]
        }
      ]
    },
    {
      "cell_type": "code",
      "metadata": {
        "colab": {
          "base_uri": "https://localhost:8080/"
        },
        "id": "9hrMshBYOvVa",
        "outputId": "980377e4-7a74-47a0-c12d-a8f20749f23f"
      },
      "source": [
        "print(len(U_list),len(V_list))\n",
        "print(U_list[0].shape,V_list[0].shape)\n",
        "print()\n",
        "for u,v in zip(U_list[1:],V_list[1:]):\n",
        "    print(u.shape,v.shape)   "
      ],
      "execution_count": 55,
      "outputs": [
        {
          "output_type": "stream",
          "name": "stdout",
          "text": [
            "16 16\n(121304, 50) (14959, 50)\n\n(122397, 50) (15298, 50)\n(123313, 50) (15603, 50)\n(124424, 50) (15879, 50)\n(125346, 50) (16183, 50)\n(126345, 50) (16533, 50)\n(127271, 50) (16862, 50)\n(128219, 50) (17224, 50)\n(129237, 50) (17569, 50)\n(130492, 50) (17957, 50)\n(131633, 50) (18382, 50)\n(132813, 50) (18826, 50)\n(133828, 50) (19226, 50)\n(134780, 50) (19703, 50)\n(135653, 50) (20238, 50)\n(136677, 50) (20720, 50)\n"
          ]
        }
      ]
    },
    {
      "cell_type": "code",
      "metadata": {
        "colab": {
          "base_uri": "https://localhost:8080/"
        },
        "id": "xOQC6r84_ju1",
        "outputId": "687e7c0a-2ca0-4667-bb8e-9f86de99ffc6"
      },
      "source": [
        "for i,j in zip(AllUpdtUSERS_,AllUpdtITEMS_):\n",
        "    print(len(i),len(j))"
      ],
      "execution_count": 56,
      "outputs": [
        {
          "output_type": "stream",
          "name": "stdout",
          "text": [
            "122397 15298\n123313 15603\n124424 15879\n125346 16183\n126345 16533\n127271 16862\n128219 17224\n129237 17569\n130492 17957\n131633 18382\n132813 18826\n133828 19226\n134780 19703\n135653 20238\n136677 20720\n"
          ]
        }
      ]
    },
    {
      "cell_type": "code",
      "metadata": {
        "colab": {
          "base_uri": "https://localhost:8080/"
        },
        "id": "AMjo4AbxOvVc",
        "outputId": "553f733f-70f8-451f-84f4-ed7c5da4420d"
      },
      "source": [
        "print(len(In_DomainUSERS),len(In_DomainITEMS))\n",
        "print(ML20M_DF['userId'].nunique(),ML20M_DF['productId'].nunique())"
      ],
      "execution_count": 58,
      "outputs": [
        {
          "output_type": "stream",
          "name": "stdout",
          "text": [
            "136677 20720\n",
            "136677 20720\n"
          ]
        }
      ]
    },
    {
      "cell_type": "markdown",
      "metadata": {
        "id": "nNpsng5z8doR"
      },
      "source": [
        "Data Adjustments"
      ]
    },
    {
      "cell_type": "markdown",
      "metadata": {
        "id": "U8YcpbXKpAMG"
      },
      "source": [
        "### Data Adjustment"
      ]
    },
    {
      "cell_type": "code",
      "metadata": {
        "id": "beVvlDTN8NFx",
        "colab": {
          "base_uri": "https://localhost:8080/"
        },
        "outputId": "8f5e802e-bb84-4e7f-a17c-46262f72a431"
      },
      "source": [
        "len(AllUpdtITEMS_)"
      ],
      "execution_count": 59,
      "outputs": [
        {
          "output_type": "execute_result",
          "data": {
            "text/plain": [
              "15"
            ]
          },
          "metadata": {},
          "execution_count": 59
        }
      ]
    },
    {
      "cell_type": "code",
      "metadata": {
        "id": "DDU62aYf8NF0",
        "colab": {
          "base_uri": "https://localhost:8080/"
        },
        "outputId": "ddad99b4-3954-4aab-a9f2-b9794918e868"
      },
      "source": [
        "newHOLDOUT_LIST = get_NEWHoldout(HOLDOUT_list,userID_dict,itemID_dict,AllUpdtUSERS_,AllUpdtITEMS_,'userId','productId')\n",
        "print(len(newHOLDOUT_LIST))\n",
        "print()\n",
        "for old,new in zip(HOLDOUT_list,newHOLDOUT_LIST):\n",
        "    print(old.shape[0],new.shape[0])"
      ],
      "execution_count": 60,
      "outputs": [
        {
          "output_type": "stream",
          "name": "stderr",
          "text": [
            "15it [00:00, 25.98it/s]15\n",
            "\n",
            "3459 3459\n",
            "3311 3311\n",
            "3124 3124\n",
            "3115 3115\n",
            "3165 3165\n",
            "3098 3098\n",
            "3169 3169\n",
            "3129 3129\n",
            "3192 3192\n",
            "3409 3409\n",
            "3267 3267\n",
            "3077 3077\n",
            "2772 2772\n",
            "2644 2644\n",
            "2730 2730\n",
            "\n"
          ]
        }
      ]
    },
    {
      "cell_type": "code",
      "metadata": {
        "id": "oqs2gnUq8NF1",
        "colab": {
          "base_uri": "https://localhost:8080/"
        },
        "outputId": "605d3c8a-2b69-4321-e4a8-2dbab62571aa"
      },
      "source": [
        "newUserItem_list = adjustedAllDF(UserItemDF_list,userID_dict,itemID_dict,AllUpdtUSERS_,AllUpdtITEMS_,'userId','productId')\n",
        "print()\n",
        "for df in newUserItem_list:\n",
        "    print(df['Updated_UserID'].max(),df['Updated_ItemID'].max())"
      ],
      "execution_count": 61,
      "outputs": [
        {
          "output_type": "stream",
          "name": "stderr",
          "text": [
            "15it [02:27,  9.85s/it]\n",
            "\n",
            "122396 15297\n",
            "123312 15600\n",
            "124423 15878\n",
            "125345 16182\n",
            "126344 16531\n",
            "127270 16861\n",
            "128217 17223\n",
            "129236 17568\n",
            "130491 17956\n",
            "131632 18381\n",
            "132812 18825\n",
            "133827 19225\n",
            "134779 19702\n",
            "135652 20237\n",
            "136676 20719\n"
          ]
        }
      ]
    },
    {
      "cell_type": "code",
      "execution_count": 43,
      "metadata": {},
      "outputs": [],
      "source": []
    },
    {
      "cell_type": "code",
      "metadata": {
        "id": "FHJylUYj8NF3",
        "colab": {
          "base_uri": "https://localhost:8080/"
        },
        "outputId": "c521557e-78b4-4f18-d96d-23d044a334d4"
      },
      "source": [
        "new_PSIDFlist = adjustedPSI_DF(PSITest_list,userID_dict,itemID_dict,AllUpdtUSERS_,AllUpdtITEMS_,'userId','productId')\n",
        "for old,new in zip(PSITest_list,new_PSIDFlist):\n",
        "    print(old.shape[0],new.shape[0])"
      ],
      "execution_count": 62,
      "outputs": [
        {
          "output_type": "stream",
          "name": "stderr",
          "text": [
            "15it [00:01,  7.78it/s]76741 76741\n",
            "76889 76889\n",
            "77076 77076\n",
            "77085 77085\n",
            "77035 77035\n",
            "77102 77102\n",
            "77031 77031\n",
            "77071 77071\n",
            "77008 77008\n",
            "76791 76791\n",
            "76933 76933\n",
            "77123 77123\n",
            "77428 77428\n",
            "77556 77556\n",
            "76786 76786\n",
            "\n"
          ]
        }
      ]
    },
    {
      "cell_type": "code",
      "metadata": {
        "id": "injTPfoD8NF3",
        "colab": {
          "base_uri": "https://localhost:8080/"
        },
        "outputId": "bce70823-2c33-4a4c-ebd0-cf7a9776f461"
      },
      "source": [
        "newMLDF_20M = ADJUST_mainDF(ML20M_DF,userID_dict,itemID_dict,AllUpdtUSERS_,AllUpdtITEMS_,'userId','productId')\n",
        "print(newMLDF_20M.shape)\n",
        "print(newMLDF_20M['userId'].max(),newMLDF_20M['productId'].max())\n",
        "print(newMLDF_20M['userId'].nunique(),newMLDF_20M['productId'].nunique())\n",
        "print()\n",
        "print(newMLDF_20M['Updated_UserID'].max(),newMLDF_20M['Updated_ItemID'].max())\n",
        "print(newMLDF_20M['Updated_UserID'].nunique(),newMLDF_20M['Updated_ItemID'].nunique())\n",
        "#newAMZB_DF.head()"
      ],
      "execution_count": 63,
      "outputs": [
        {
          "output_type": "stream",
          "name": "stdout",
          "text": [
            "(9990682, 9)\n",
            "136676 20719\n",
            "136677 20720\n",
            "\n",
            "136676 20719\n",
            "136677 20720\n"
          ]
        }
      ]
    },
    {
      "cell_type": "code",
      "metadata": {
        "id": "cB4Q1VO18NF5"
      },
      "source": [
        "#Hello2021"
      ],
      "execution_count": null,
      "outputs": []
    },
    {
      "cell_type": "code",
      "metadata": {
        "id": "rvb8bp_j8NF5"
      },
      "source": [
        "with open('MLDF20M_newUserItem.pkl', 'wb') as f:\n",
        "     pickle.dump(newUserItem_list, f)\n",
        "\n",
        "with open('MLDF20M_newHoldout.pkl', 'wb') as f:\n",
        "     pickle.dump(newHOLDOUT_LIST, f)\n",
        "\n",
        "with open('MLDF20M_newPSITest.pkl', 'wb') as f:\n",
        "     pickle.dump(new_PSIDFlist, f)     "
      ],
      "execution_count": 64,
      "outputs": []
    },
    {
      "cell_type": "code",
      "metadata": {
        "id": "XjluqAp68NF6"
      },
      "source": [
        "newMLDF_20M.to_csv('MLDF20M_afterUpdt.csv.zip',index=False,compression='zip')"
      ],
      "execution_count": 65,
      "outputs": []
    },
    {
      "cell_type": "code",
      "metadata": {
        "id": "bfFHg8h0QiVE"
      },
      "source": [],
      "execution_count": null,
      "outputs": []
    },
    {
      "cell_type": "markdown",
      "metadata": {
        "id": "J_bFpV2cKCuA"
      },
      "source": [
        "### Get UserItem MAT"
      ]
    },
    {
      "cell_type": "code",
      "metadata": {
        "id": "l9uf6prp8NF-",
        "colab": {
          "base_uri": "https://localhost:8080/"
        },
        "outputId": "3028691f-cba4-45bc-acee-806e5dc8f90a"
      },
      "source": [
        "for i in range(10):\n",
        "    print(newUserItem_list[i]['Updated_UserID'].max(),newUserItem_list[i]['Updated_ItemID'].max())"
      ],
      "execution_count": 66,
      "outputs": [
        {
          "output_type": "stream",
          "name": "stdout",
          "text": [
            "122396 15297\n",
            "123312 15600\n",
            "124423 15878\n",
            "125345 16182\n",
            "126344 16531\n",
            "127270 16861\n",
            "128217 17223\n",
            "129236 17568\n",
            "130491 17956\n",
            "131632 18381\n"
          ]
        }
      ]
    },
    {
      "cell_type": "code",
      "metadata": {
        "colab": {
          "base_uri": "https://localhost:8080/"
        },
        "id": "bA6bmr-CKCuD",
        "outputId": "43496cd7-6b4e-4e5a-f22b-10d46c92df04"
      },
      "source": [
        "print(len(U_list[1:]),len(V_list[1:]))\n",
        "for u,v in zip(U_list[1:],V_list[1:]):\n",
        "    print(u.shape[0],v.shape[0])   "
      ],
      "execution_count": 67,
      "outputs": [
        {
          "output_type": "stream",
          "name": "stdout",
          "text": [
            "15 15\n122397 15298\n123313 15603\n124424 15879\n125346 16183\n126345 16533\n127271 16862\n128219 17224\n129237 17569\n130492 17957\n131633 18382\n132813 18826\n133828 19226\n134780 19703\n135653 20238\n136677 20720\n"
          ]
        }
      ]
    },
    {
      "cell_type": "code",
      "execution_count": 80,
      "metadata": {},
      "outputs": [],
      "source": [
        "#######################################################################\n",
        "def SingleStepRatMat_2(DF,U,V,user_column,item_column):  ##rows_ = n_users,cols_ = n_items\n",
        "    rows_ = U.shape[0]\n",
        "    cols_ = V.shape[0] \n",
        "    \n",
        "    rows0 = DF[user_column].values\n",
        "    cols0 = DF[item_column].values\n",
        "    data  = np.broadcast_to(1., DF.shape[0]) # ignore ratings\n",
        "\n",
        "    A0_Rating_matrix = coo_matrix((data, (rows0, cols0)), shape=(rows_, cols_)).tocsr()\n",
        "    if A0_Rating_matrix.nnz < len(data):\n",
        "        A0_Rating_matrix = A0_Rating_matrix._with_data(np.broadcast_to(1., A0_Rating_matrix.nnz), copy=False)\n",
        "\n",
        "    return A0_Rating_matrix\n",
        "\n",
        "def AllSingleStepRatMat_2(DFList,Ulist,Vlist,user_column,item_column):\n",
        "    Rating_matrix_list = []\n",
        "    for DF,U,V, in zip(DFList,Ulist,Vlist):\n",
        "        df_Mat = SingleStepRatMat_2(DF,U,V,user_column,item_column)\n",
        "        Rating_matrix_list.append(df_Mat)\n",
        "    return Rating_matrix_list              \n"
      ]
    },
    {
      "cell_type": "code",
      "execution_count": 81,
      "metadata": {},
      "outputs": [
        {
          "output_type": "stream",
          "name": "stdout",
          "text": [
            "15\n"
          ]
        },
        {
          "output_type": "execute_result",
          "data": {
            "text/plain": [
              "[<122397x15298 sparse matrix of type '<class 'numpy.float64'>'\n",
              " \twith 8865107 stored elements in Compressed Sparse Row format>,\n",
              " <123313x15603 sparse matrix of type '<class 'numpy.float64'>'\n",
              " \twith 8945455 stored elements in Compressed Sparse Row format>,\n",
              " <124424x15879 sparse matrix of type '<class 'numpy.float64'>'\n",
              " \twith 9025842 stored elements in Compressed Sparse Row format>,\n",
              " <125346x16183 sparse matrix of type '<class 'numpy.float64'>'\n",
              " \twith 9106051 stored elements in Compressed Sparse Row format>,\n",
              " <126345x16533 sparse matrix of type '<class 'numpy.float64'>'\n",
              " \twith 9186201 stored elements in Compressed Sparse Row format>,\n",
              " <127271x16862 sparse matrix of type '<class 'numpy.float64'>'\n",
              " \twith 9266468 stored elements in Compressed Sparse Row format>,\n",
              " <128219x17224 sparse matrix of type '<class 'numpy.float64'>'\n",
              " \twith 9346597 stored elements in Compressed Sparse Row format>,\n",
              " <129237x17569 sparse matrix of type '<class 'numpy.float64'>'\n",
              " \twith 9426837 stored elements in Compressed Sparse Row format>,\n",
              " <130492x17957 sparse matrix of type '<class 'numpy.float64'>'\n",
              " \twith 9506974 stored elements in Compressed Sparse Row format>,\n",
              " <131633x18382 sparse matrix of type '<class 'numpy.float64'>'\n",
              " \twith 9586957 stored elements in Compressed Sparse Row format>,\n",
              " <132813x18826 sparse matrix of type '<class 'numpy.float64'>'\n",
              " \twith 9667299 stored elements in Compressed Sparse Row format>,\n",
              " <133828x19226 sparse matrix of type '<class 'numpy.float64'>'\n",
              " \twith 9747689 stored elements in Compressed Sparse Row format>,\n",
              " <134780x19703 sparse matrix of type '<class 'numpy.float64'>'\n",
              " \twith 9828194 stored elements in Compressed Sparse Row format>,\n",
              " <135653x20238 sparse matrix of type '<class 'numpy.float64'>'\n",
              " \twith 9908522 stored elements in Compressed Sparse Row format>,\n",
              " <136677x20720 sparse matrix of type '<class 'numpy.float64'>'\n",
              " \twith 9987952 stored elements in Compressed Sparse Row format>]"
            ]
          },
          "metadata": {},
          "execution_count": 81
        }
      ],
      "source": [
        "UserItem_Matupdt = AllSingleStepRatMat_2(newUserItem_list,U_list[1:],V_list[1:],'Updated_UserID','Updated_ItemID')\n",
        "print(len(UserItem_Matupdt))\n",
        "UserItem_Matupdt   #Hello2021"
      ]
    },
    {
      "cell_type": "code",
      "metadata": {
        "colab": {
          "base_uri": "https://localhost:8080/"
        },
        "id": "kRkFwCd8KCuE",
        "outputId": "12084721-5223-489d-af82-70e647f55c90"
      },
      "source": [
        "# print(AllDF_start['userId'].nunique(),AllDF_start['productId'].nunique())\n",
        "# print()\n",
        "# for i,j in zip(AllUpdtUSERS_,AllUpdtITEMS_):\n",
        "#     print(len(i),len(j))"
      ],
      "execution_count": 53,
      "outputs": []
    },
    {
      "cell_type": "markdown",
      "metadata": {
        "id": "-FWZcWCDzJ-i"
      },
      "source": [
        "### V_list"
      ]
    },
    {
      "cell_type": "code",
      "metadata": {
        "colab": {
          "base_uri": "https://localhost:8080/"
        },
        "id": "NrcfgZCCzPPu",
        "outputId": "1a2cbc17-cb12-4d3b-d166-271fcfadcffc"
      },
      "source": [
        "print(len(UserItem_Matupdt),len(newHOLDOUT_LIST))"
      ],
      "execution_count": 82,
      "outputs": [
        {
          "output_type": "stream",
          "name": "stdout",
          "text": [
            "15 15\n"
          ]
        }
      ]
    },
    {
      "cell_type": "code",
      "metadata": {
        "colab": {
          "base_uri": "https://localhost:8080/"
        },
        "id": "RguT3Utr0iLy",
        "outputId": "56a7d213-bb0d-4807-cd0d-009f8386ac51"
      },
      "source": [
        "Vpsi_listUpdt = V_list[1:]\n",
        "for v in Vpsi_listUpdt:\n",
        "    print(v.shape)"
      ],
      "execution_count": 83,
      "outputs": [
        {
          "output_type": "stream",
          "name": "stdout",
          "text": [
            "(15298, 50)\n(15603, 50)\n(15879, 50)\n(16183, 50)\n(16533, 50)\n(16862, 50)\n(17224, 50)\n(17569, 50)\n(17957, 50)\n(18382, 50)\n(18826, 50)\n(19226, 50)\n(19703, 50)\n(20238, 50)\n(20720, 50)\n"
          ]
        }
      ]
    },
    {
      "cell_type": "code",
      "metadata": {
        "colab": {
          "base_uri": "https://localhost:8080/"
        },
        "id": "py9S9LGoKamJ",
        "outputId": "e9121055-f7a1-45a3-a859-e0cb353a1776"
      },
      "source": [
        "V_1 = Vpsi_listUpdt[0]\n",
        "V_1.shape"
      ],
      "execution_count": 84,
      "outputs": [
        {
          "output_type": "execute_result",
          "data": {
            "text/plain": [
              "(15298, 50)"
            ]
          },
          "metadata": {},
          "execution_count": 84
        }
      ]
    },
    {
      "cell_type": "code",
      "metadata": {
        "id": "N1Vc6Na38NGR"
      },
      "source": [],
      "execution_count": null,
      "outputs": []
    },
    {
      "cell_type": "markdown",
      "metadata": {
        "id": "M1ro3DThmGq2"
      },
      "source": [
        "### All Prediction"
      ]
    },
    {
      "cell_type": "code",
      "metadata": {
        "id": "Mylf5NR98NGR",
        "outputId": "b0e7a61d-3c24-48e5-f59a-3db3bebc0940"
      },
      "source": [
        "print(UserItem_Matupdt[0].shape)\n",
        "UserItem_Matupdt[0]"
      ],
      "execution_count": 85,
      "outputs": [
        {
          "output_type": "stream",
          "name": "stdout",
          "text": [
            "(122397, 15298)\n"
          ]
        },
        {
          "output_type": "execute_result",
          "data": {
            "text/plain": [
              "<122397x15298 sparse matrix of type '<class 'numpy.float64'>'\n",
              "\twith 8865107 stored elements in Compressed Sparse Row format>"
            ]
          },
          "metadata": {},
          "execution_count": 85
        }
      ]
    },
    {
      "cell_type": "code",
      "execution_count": 90,
      "metadata": {},
      "outputs": [
        {
          "output_type": "execute_result",
          "data": {
            "text/plain": [
              "15600"
            ]
          },
          "metadata": {},
          "execution_count": 90
        }
      ],
      "source": [
        "newUserItem_list[1]['Updated_ItemID'].max()"
      ]
    },
    {
      "cell_type": "code",
      "execution_count": 87,
      "metadata": {},
      "outputs": [
        {
          "output_type": "stream",
          "name": "stdout",
          "text": [
            "15298 15298 15297\n",
            "15603 15603 15600\n",
            "15879 15879 15878\n",
            "16183 16183 16182\n",
            "16533 16533 16531\n",
            "16862 16862 16861\n",
            "17224 17224 17223\n",
            "17569 17569 17568\n",
            "17957 17957 17956\n",
            "18382 18382 18381\n",
            "18826 18826 18825\n",
            "19226 19226 19225\n",
            "19703 19703 19702\n",
            "20238 20238 20237\n",
            "20720 20720 20719\n"
          ]
        }
      ],
      "source": [
        "for i,j,k in zip(UserItem_Matupdt,Vpsi_listUpdt,newUserItem_list):\n",
        "    print(i.shape[1],j.shape[0],k['Updated_ItemID'].max())"
      ]
    },
    {
      "cell_type": "code",
      "metadata": {
        "id": "H3qyz8eO8NGS",
        "outputId": "2cb6f173-b4e9-4d94-e313-a3dd3a437044"
      },
      "source": [
        "AllUsers_updtPRED =  TQDMgetALLTopNPred_ALLUSERS(UserItem_Matupdt,Vpsi_listUpdt, N=10) \n",
        "print(len(AllUsers_updtPRED))\n",
        "AllUsers_updtPRED[:2]"
      ],
      "execution_count": 91,
      "outputs": [
        {
          "output_type": "stream",
          "name": "stderr",
          "text": [
            "15it [07:04, 28.27s/it]15\n",
            "\n"
          ]
        },
        {
          "output_type": "execute_result",
          "data": {
            "text/plain": [
              "[array([[  17,  108, 1072, ...,   81,  118,   89],\n",
              "        [ 663, 1062,  969, ..., 1107,  719,   42],\n",
              "        [1300,  108,  609, ...,  678,  274,   50],\n",
              "        ...,\n",
              "        [ 180,  179, 1923, ...,  352,  781,  869],\n",
              "        [1109,  144, 1115, ..., 2501, 1460, 1630],\n",
              "        [2469, 1460,  157, ..., 2340, 2630, 2502]]),\n",
              " array([[  17,  108, 1072, ...,   81,  118,   89],\n",
              "        [ 663, 1062,  969, ..., 1107,  719,   42],\n",
              "        [1300,  108,  609, ...,  678,  274,   50],\n",
              "        ...,\n",
              "        [2707,  969, 1763, ..., 1319, 4724, 2008],\n",
              "        [1829, 1055, 2770, ..., 1070, 1807, 4080],\n",
              "        [4724, 8837, 8928, ..., 8958, 4032, 9331]])]"
            ]
          },
          "metadata": {},
          "execution_count": 91
        }
      ]
    },
    {
      "cell_type": "code",
      "metadata": {
        "id": "3GtRYa2z8NGT",
        "outputId": "644b11fe-8b52-4f43-be68-645e8bc482e3"
      },
      "source": [
        "AllUsers_updtPRED[-1].shape"
      ],
      "execution_count": 92,
      "outputs": [
        {
          "output_type": "execute_result",
          "data": {
            "text/plain": [
              "(136677, 10)"
            ]
          },
          "metadata": {},
          "execution_count": 92
        }
      ]
    },
    {
      "cell_type": "code",
      "metadata": {
        "id": "ayCKyzF98NGT"
      },
      "source": [
        "with open('MLDF20M_UpdtPSI_allPRED.pkl', 'wb') as f:\n",
        "     pickle.dump(AllUsers_updtPRED, f)\n"
      ],
      "execution_count": 93,
      "outputs": []
    },
    {
      "cell_type": "code",
      "metadata": {
        "id": "DuzCtDJ08NGU"
      },
      "source": [
        "# with open('/mnt/bulky/oolaleke/TDM_Dataset/AMZB_UpdtPSI_AllPRED.pkl', 'rb') as f:\n",
        "#      allpred_updt = pickle.load(f)\n",
        "# print(len(allpred_updt))\n",
        "# allpred_updt[:2]"
      ],
      "execution_count": null,
      "outputs": []
    },
    {
      "cell_type": "code",
      "metadata": {
        "id": "qRcPwH0tqAlR"
      },
      "source": [],
      "execution_count": null,
      "outputs": []
    },
    {
      "cell_type": "code",
      "metadata": {
        "id": "NHM6hJEV8NGa"
      },
      "source": [
        "##lOAD Saved Lists...\n",
        "with open('/mnt/bulky/oolaleke/TDM_Dataset/AMZB_newUserItem.pkl', 'rb') as f:\n",
        "     newUserItem_LIST = pickle.load(f)\n",
        "\n",
        "with open('/mnt/bulky/oolaleke/TDM_Dataset/AMZB_newPSITest.pkl', 'rb') as f:\n",
        "     newPSIDF_LIST = pickle.load(f)\n",
        "\n",
        "\n",
        "with open('/mnt/bulky/oolaleke/TDM_Dataset/AMZB_newHoldout.pkl', 'rb') as f:\n",
        "     newHOLDOUTDF_LIST = pickle.load(f)\n",
        "\n",
        "#newAMZB_DF = pd.read_csv()"
      ],
      "execution_count": null,
      "outputs": []
    },
    {
      "cell_type": "markdown",
      "metadata": {
        "id": "dlm-q9ms_BWw"
      },
      "source": [
        "## Regular PSI "
      ]
    },
    {
      "cell_type": "markdown",
      "metadata": {
        "id": "uWbLS4cbPI19"
      },
      "source": [
        "### Get Rating Matrices"
      ]
    },
    {
      "cell_type": "code",
      "metadata": {
        "id": "0i3Z3Aay8NGe",
        "outputId": "c4064d1d-a5b5-4365-e677-9de2fc7f9758"
      },
      "source": [
        "print(newMLDF_20M.shape)\n",
        "print(newMLDF_20M['userId'].max(),newMLDF_20M['productId'].max())\n",
        "print(newMLDF_20M['userId'].nunique(),newMLDF_20M['productId'].nunique())\n",
        "print()\n",
        "print(newMLDF_20M['Updated_UserID'].max(),newMLDF_20M['Updated_ItemID'].max())\n",
        "print(newMLDF_20M['Updated_UserID'].nunique(),newMLDF_20M['Updated_ItemID'].nunique())\n",
        "newMLDF_20M.head()"
      ],
      "execution_count": 94,
      "outputs": [
        {
          "output_type": "stream",
          "name": "stdout",
          "text": [
            "(9990682, 9)\n",
            "136676 20719\n",
            "136677 20720\n",
            "\n",
            "136676 20719\n",
            "136677 20720\n"
          ]
        },
        {
          "output_type": "execute_result",
          "data": {
            "text/plain": [
              "   userid  movieId  rating           timestamp timestamp_YM  userId  \\\n",
              "0   28507     1176       1 1995-01-09 11:46:44      1995-01       0   \n",
              "1  131160       47       1 1995-01-09 11:46:49      1995-01       1   \n",
              "2   85252       70       1 1996-01-29 00:00:00      1996-01       2   \n",
              "3  134445       45       1 1996-01-29 00:00:00      1996-01       3   \n",
              "4   99851       10       1 1996-01-29 00:00:00      1996-01       4   \n",
              "\n",
              "   productId  Updated_UserID  Updated_ItemID  \n",
              "0          0               0               0  \n",
              "1          1               1               1  \n",
              "2          2               2               2  \n",
              "3          3               3               3  \n",
              "4          4               4               4  "
            ],
            "text/html": "<div>\n<style scoped>\n    .dataframe tbody tr th:only-of-type {\n        vertical-align: middle;\n    }\n\n    .dataframe tbody tr th {\n        vertical-align: top;\n    }\n\n    .dataframe thead th {\n        text-align: right;\n    }\n</style>\n<table border=\"1\" class=\"dataframe\">\n  <thead>\n    <tr style=\"text-align: right;\">\n      <th></th>\n      <th>userid</th>\n      <th>movieId</th>\n      <th>rating</th>\n      <th>timestamp</th>\n      <th>timestamp_YM</th>\n      <th>userId</th>\n      <th>productId</th>\n      <th>Updated_UserID</th>\n      <th>Updated_ItemID</th>\n    </tr>\n  </thead>\n  <tbody>\n    <tr>\n      <th>0</th>\n      <td>28507</td>\n      <td>1176</td>\n      <td>1</td>\n      <td>1995-01-09 11:46:44</td>\n      <td>1995-01</td>\n      <td>0</td>\n      <td>0</td>\n      <td>0</td>\n      <td>0</td>\n    </tr>\n    <tr>\n      <th>1</th>\n      <td>131160</td>\n      <td>47</td>\n      <td>1</td>\n      <td>1995-01-09 11:46:49</td>\n      <td>1995-01</td>\n      <td>1</td>\n      <td>1</td>\n      <td>1</td>\n      <td>1</td>\n    </tr>\n    <tr>\n      <th>2</th>\n      <td>85252</td>\n      <td>70</td>\n      <td>1</td>\n      <td>1996-01-29 00:00:00</td>\n      <td>1996-01</td>\n      <td>2</td>\n      <td>2</td>\n      <td>2</td>\n      <td>2</td>\n    </tr>\n    <tr>\n      <th>3</th>\n      <td>134445</td>\n      <td>45</td>\n      <td>1</td>\n      <td>1996-01-29 00:00:00</td>\n      <td>1996-01</td>\n      <td>3</td>\n      <td>3</td>\n      <td>3</td>\n      <td>3</td>\n    </tr>\n    <tr>\n      <th>4</th>\n      <td>99851</td>\n      <td>10</td>\n      <td>1</td>\n      <td>1996-01-29 00:00:00</td>\n      <td>1996-01</td>\n      <td>4</td>\n      <td>4</td>\n      <td>4</td>\n      <td>4</td>\n    </tr>\n  </tbody>\n</table>\n</div>"
          },
          "metadata": {},
          "execution_count": 94
        }
      ]
    },
    {
      "cell_type": "code",
      "metadata": {
        "colab": {
          "base_uri": "https://localhost:8080/"
        },
        "id": "9VaLJAAPRRLc",
        "outputId": "3cb7f9b6-ccb4-4b5a-ef25-66be8380bd80"
      },
      "source": [
        "rows_i = newMLDF_20M['Updated_UserID'].nunique()\n",
        "cols_i = newMLDF_20M['Updated_ItemID'].nunique()\n",
        "print(A0_df.shape)\n",
        "A0_Rating_matrix = SingleRatingMatrix(A0_df,'userId', 'productId',rows_i,cols_i)  ##changes start within steps...\n",
        "A0_Rating_matrix"
      ],
      "execution_count": 95,
      "outputs": [
        {
          "output_type": "stream",
          "name": "stdout",
          "text": [
            "(8066566, 7)\n"
          ]
        },
        {
          "output_type": "execute_result",
          "data": {
            "text/plain": [
              "<136677x20720 sparse matrix of type '<class 'numpy.float64'>'\n",
              "\twith 8066566 stored elements in Compressed Sparse Row format>"
            ]
          },
          "metadata": {},
          "execution_count": 95
        }
      ]
    },
    {
      "cell_type": "code",
      "metadata": {
        "id": "1deDiBeP8NGg",
        "outputId": "b76bfb65-a52f-490b-c011-f66c0757240b"
      },
      "source": [
        "for df in new_PSIDFlist:\n",
        "    print(df['Updated_UserID'].max(),df['Updated_ItemID'].max())"
      ],
      "execution_count": 96,
      "outputs": [
        {
          "output_type": "stream",
          "name": "stdout",
          "text": [
            "122396 15297\n123312 15600\n124423 15878\n125345 16182\n126344 16531\n127270 16861\n128217 17223\n129236 17568\n130491 17956\n131632 18381\n132812 18825\n133827 19225\n134779 19702\n135652 20237\n136676 20719\n"
          ]
        }
      ]
    },
    {
      "cell_type": "code",
      "metadata": {
        "colab": {
          "base_uri": "https://localhost:8080/"
        },
        "id": "PJgsMKCpRRMD",
        "outputId": "1b4cc003-3329-4043-de8a-c5f7d5a40e41"
      },
      "source": [
        "print(\"Length of PSI_Train :\",len(ΔA_train))\n",
        "print(\"Length of PSI_Test  :\",len(new_PSIDFlist))"
      ],
      "execution_count": 97,
      "outputs": [
        {
          "output_type": "stream",
          "name": "stdout",
          "text": [
            "Length of PSI_Train : 9\nLength of PSI_Test  : 15\n"
          ]
        }
      ]
    },
    {
      "cell_type": "code",
      "metadata": {
        "colab": {
          "base_uri": "https://localhost:8080/"
        },
        "id": "EBFJoOOvRRME",
        "outputId": "fd8f9149-59dd-40ad-d6c5-572b6df59721"
      },
      "source": [
        "PSI_train_matrix = AllRatingMatrices(ΔA_train,'userId','productId',rows_i ,cols_i)\n",
        "PSI_train_matrix   "
      ],
      "execution_count": 98,
      "outputs": [
        {
          "output_type": "execute_result",
          "data": {
            "text/plain": [
              "[<136677x20720 sparse matrix of type '<class 'numpy.float64'>'\n",
              " \twith 80200 stored elements in Compressed Sparse Row format>,\n",
              " <136677x20720 sparse matrix of type '<class 'numpy.float64'>'\n",
              " \twith 80200 stored elements in Compressed Sparse Row format>,\n",
              " <136677x20720 sparse matrix of type '<class 'numpy.float64'>'\n",
              " \twith 80200 stored elements in Compressed Sparse Row format>,\n",
              " <136677x20720 sparse matrix of type '<class 'numpy.float64'>'\n",
              " \twith 80200 stored elements in Compressed Sparse Row format>,\n",
              " <136677x20720 sparse matrix of type '<class 'numpy.float64'>'\n",
              " \twith 80200 stored elements in Compressed Sparse Row format>,\n",
              " <136677x20720 sparse matrix of type '<class 'numpy.float64'>'\n",
              " \twith 80200 stored elements in Compressed Sparse Row format>,\n",
              " <136677x20720 sparse matrix of type '<class 'numpy.float64'>'\n",
              " \twith 80200 stored elements in Compressed Sparse Row format>,\n",
              " <136677x20720 sparse matrix of type '<class 'numpy.float64'>'\n",
              " \twith 80200 stored elements in Compressed Sparse Row format>,\n",
              " <136677x20720 sparse matrix of type '<class 'numpy.float64'>'\n",
              " \twith 80200 stored elements in Compressed Sparse Row format>]"
            ]
          },
          "metadata": {},
          "execution_count": 98
        }
      ]
    },
    {
      "cell_type": "code",
      "metadata": {
        "id": "8M_ymqxs8NGk",
        "outputId": "0104bf9b-3bdd-4f8b-919c-7be44f27ddcf"
      },
      "source": [
        "PSI_test_matrix = AllRatingMatrices(new_PSIDFlist,'Updated_UserID','Updated_ItemID',rows_i ,cols_i)                                                                      \n",
        "print(len(PSI_test_matrix))\n",
        "PSI_test_matrix"
      ],
      "execution_count": 99,
      "outputs": [
        {
          "output_type": "stream",
          "name": "stdout",
          "text": [
            "15\n"
          ]
        },
        {
          "output_type": "execute_result",
          "data": {
            "text/plain": [
              "[<136677x20720 sparse matrix of type '<class 'numpy.float64'>'\n",
              " \twith 76741 stored elements in Compressed Sparse Row format>,\n",
              " <136677x20720 sparse matrix of type '<class 'numpy.float64'>'\n",
              " \twith 76889 stored elements in Compressed Sparse Row format>,\n",
              " <136677x20720 sparse matrix of type '<class 'numpy.float64'>'\n",
              " \twith 77076 stored elements in Compressed Sparse Row format>,\n",
              " <136677x20720 sparse matrix of type '<class 'numpy.float64'>'\n",
              " \twith 77085 stored elements in Compressed Sparse Row format>,\n",
              " <136677x20720 sparse matrix of type '<class 'numpy.float64'>'\n",
              " \twith 77035 stored elements in Compressed Sparse Row format>,\n",
              " <136677x20720 sparse matrix of type '<class 'numpy.float64'>'\n",
              " \twith 77102 stored elements in Compressed Sparse Row format>,\n",
              " <136677x20720 sparse matrix of type '<class 'numpy.float64'>'\n",
              " \twith 77031 stored elements in Compressed Sparse Row format>,\n",
              " <136677x20720 sparse matrix of type '<class 'numpy.float64'>'\n",
              " \twith 77071 stored elements in Compressed Sparse Row format>,\n",
              " <136677x20720 sparse matrix of type '<class 'numpy.float64'>'\n",
              " \twith 77008 stored elements in Compressed Sparse Row format>,\n",
              " <136677x20720 sparse matrix of type '<class 'numpy.float64'>'\n",
              " \twith 76791 stored elements in Compressed Sparse Row format>,\n",
              " <136677x20720 sparse matrix of type '<class 'numpy.float64'>'\n",
              " \twith 76933 stored elements in Compressed Sparse Row format>,\n",
              " <136677x20720 sparse matrix of type '<class 'numpy.float64'>'\n",
              " \twith 77123 stored elements in Compressed Sparse Row format>,\n",
              " <136677x20720 sparse matrix of type '<class 'numpy.float64'>'\n",
              " \twith 77428 stored elements in Compressed Sparse Row format>,\n",
              " <136677x20720 sparse matrix of type '<class 'numpy.float64'>'\n",
              " \twith 77556 stored elements in Compressed Sparse Row format>,\n",
              " <136677x20720 sparse matrix of type '<class 'numpy.float64'>'\n",
              " \twith 76786 stored elements in Compressed Sparse Row format>]"
            ]
          },
          "metadata": {},
          "execution_count": 99
        }
      ]
    },
    {
      "cell_type": "code",
      "metadata": {
        "id": "1nRNYRwH8NGm",
        "outputId": "385e0297-a621-410c-920d-48a288304ce2"
      },
      "source": [
        "UserItemMAT_regPSI = AllRatingMatrices(newUserItem_list,'Updated_UserID','Updated_ItemID',rows_i ,cols_i) \n",
        "UserItemMAT_regPSI  "
      ],
      "execution_count": 100,
      "outputs": [
        {
          "output_type": "execute_result",
          "data": {
            "text/plain": [
              "[<136677x20720 sparse matrix of type '<class 'numpy.float64'>'\n",
              " \twith 8865107 stored elements in Compressed Sparse Row format>,\n",
              " <136677x20720 sparse matrix of type '<class 'numpy.float64'>'\n",
              " \twith 8945455 stored elements in Compressed Sparse Row format>,\n",
              " <136677x20720 sparse matrix of type '<class 'numpy.float64'>'\n",
              " \twith 9025842 stored elements in Compressed Sparse Row format>,\n",
              " <136677x20720 sparse matrix of type '<class 'numpy.float64'>'\n",
              " \twith 9106051 stored elements in Compressed Sparse Row format>,\n",
              " <136677x20720 sparse matrix of type '<class 'numpy.float64'>'\n",
              " \twith 9186201 stored elements in Compressed Sparse Row format>,\n",
              " <136677x20720 sparse matrix of type '<class 'numpy.float64'>'\n",
              " \twith 9266468 stored elements in Compressed Sparse Row format>,\n",
              " <136677x20720 sparse matrix of type '<class 'numpy.float64'>'\n",
              " \twith 9346597 stored elements in Compressed Sparse Row format>,\n",
              " <136677x20720 sparse matrix of type '<class 'numpy.float64'>'\n",
              " \twith 9426837 stored elements in Compressed Sparse Row format>,\n",
              " <136677x20720 sparse matrix of type '<class 'numpy.float64'>'\n",
              " \twith 9506974 stored elements in Compressed Sparse Row format>,\n",
              " <136677x20720 sparse matrix of type '<class 'numpy.float64'>'\n",
              " \twith 9586957 stored elements in Compressed Sparse Row format>,\n",
              " <136677x20720 sparse matrix of type '<class 'numpy.float64'>'\n",
              " \twith 9667299 stored elements in Compressed Sparse Row format>,\n",
              " <136677x20720 sparse matrix of type '<class 'numpy.float64'>'\n",
              " \twith 9747689 stored elements in Compressed Sparse Row format>,\n",
              " <136677x20720 sparse matrix of type '<class 'numpy.float64'>'\n",
              " \twith 9828194 stored elements in Compressed Sparse Row format>,\n",
              " <136677x20720 sparse matrix of type '<class 'numpy.float64'>'\n",
              " \twith 9908522 stored elements in Compressed Sparse Row format>,\n",
              " <136677x20720 sparse matrix of type '<class 'numpy.float64'>'\n",
              " \twith 9987952 stored elements in Compressed Sparse Row format>]"
            ]
          },
          "metadata": {},
          "execution_count": 100
        }
      ]
    },
    {
      "cell_type": "code",
      "metadata": {
        "colab": {
          "base_uri": "https://localhost:8080/"
        },
        "id": "erGth4eKRRMJ",
        "outputId": "55daf721-ccc9-438f-a637-b77da7712052"
      },
      "source": [
        "Vpsi_listReg =  integratorOnMat(A0_Rating_matrix,PSI_train_matrix,PSI_test_matrix,k=50)  #PSI\n",
        "print(len(Vpsi_listReg))  "
      ],
      "execution_count": 101,
      "outputs": [
        {
          "output_type": "stream",
          "name": "stdout",
          "text": [
            "15\n"
          ]
        }
      ]
    },
    {
      "cell_type": "code",
      "metadata": {
        "id": "-ALFq_slAffr"
      },
      "source": [],
      "execution_count": null,
      "outputs": []
    },
    {
      "cell_type": "markdown",
      "metadata": {
        "id": "iPIvCmfbnLsl"
      },
      "source": [
        "### All Pred"
      ]
    },
    {
      "cell_type": "code",
      "metadata": {
        "id": "ODBMy0uE8NGv",
        "outputId": "e252c358-d034-4443-f224-92a89b457e56"
      },
      "source": [
        "AllUsersRegPIS_PRED =  TQDMgetALLTopNPred_ALLUSERS(UserItemMAT_regPSI,Vpsi_listReg, N=10) \n",
        "print(len(AllUsersRegPIS_PRED))\n",
        "AllUsersRegPIS_PRED[:2]"
      ],
      "execution_count": 102,
      "outputs": [
        {
          "output_type": "stream",
          "name": "stderr",
          "text": [
            "15it [07:35, 30.37s/it]15\n",
            "\n"
          ]
        },
        {
          "output_type": "execute_result",
          "data": {
            "text/plain": [
              "[array([[   17,   108,  1072, ...,    81,   118,    89],\n",
              "        [  663,  1062,   969, ...,  1107,   719,    42],\n",
              "        [ 1300,   108,   609, ...,   678,   274,    50],\n",
              "        ...,\n",
              "        [ 6918,  6901,  6908, ...,  6903,  6902, 20719],\n",
              "        [ 6918,  6901,  6908, ...,  6903,  6902, 20719],\n",
              "        [ 6918,  6901,  6908, ...,  6903,  6902, 20719]]),\n",
              " array([[   17,   108,  1072, ...,    81,   118,    89],\n",
              "        [  663,  1062,   969, ...,  1107,   719,    42],\n",
              "        [ 1300,   108,   609, ...,   678,   274,    50],\n",
              "        ...,\n",
              "        [ 6918,  6901,  6908, ...,  6903,  6902, 20719],\n",
              "        [ 6918,  6901,  6908, ...,  6903,  6902, 20719],\n",
              "        [ 6918,  6901,  6908, ...,  6903,  6902, 20719]])]"
            ]
          },
          "metadata": {},
          "execution_count": 102
        }
      ]
    },
    {
      "cell_type": "code",
      "metadata": {
        "id": "73btpxdn8NGv"
      },
      "source": [
        "with open('MLDF20M_PSI_allPRED.pkl', 'wb') as f:\n",
        "     pickle.dump(AllUsersRegPIS_PRED, f)\n"
      ],
      "execution_count": 103,
      "outputs": []
    },
    {
      "cell_type": "code",
      "metadata": {
        "id": "rq50242q8NGw",
        "outputId": "708ff346-61f0-45eb-fe4b-54c2e88875d2"
      },
      "source": [
        "AllUsersRegPIS_PRED[2].shape"
      ],
      "execution_count": 104,
      "outputs": [
        {
          "output_type": "execute_result",
          "data": {
            "text/plain": [
              "(136677, 10)"
            ]
          },
          "metadata": {},
          "execution_count": 104
        }
      ]
    },
    {
      "cell_type": "code",
      "metadata": {
        "id": "2USarS-qnYeZ"
      },
      "source": [],
      "execution_count": null,
      "outputs": []
    },
    {
      "cell_type": "code",
      "metadata": {
        "id": "-7YAxpTBnYRT"
      },
      "source": [],
      "execution_count": null,
      "outputs": []
    },
    {
      "cell_type": "markdown",
      "metadata": {
        "id": "PkouMhzgmD-N"
      },
      "source": [
        "## Pure SVD"
      ]
    },
    {
      "cell_type": "markdown",
      "metadata": {
        "id": "IplkHKXjmEAU"
      },
      "source": [
        "### Get Rating Matrices"
      ]
    },
    {
      "cell_type": "code",
      "execution_count": 8,
      "metadata": {},
      "outputs": [
        {
          "output_type": "stream",
          "name": "stdout",
          "text": [
            "(9990682, 9)\n"
          ]
        },
        {
          "output_type": "execute_result",
          "data": {
            "text/plain": [
              "   userid  movieId  rating            timestamp timestamp_YM  userId  \\\n",
              "0   28507     1176       1  1995-01-09 11:46:44      1995-01       0   \n",
              "1  131160       47       1  1995-01-09 11:46:49      1995-01       1   \n",
              "2   85252       70       1  1996-01-29 00:00:00      1996-01       2   \n",
              "3  134445       45       1  1996-01-29 00:00:00      1996-01       3   \n",
              "4   99851       10       1  1996-01-29 00:00:00      1996-01       4   \n",
              "\n",
              "   productId  Updated_UserID  Updated_ItemID  \n",
              "0          0               0               0  \n",
              "1          1               1               1  \n",
              "2          2               2               2  \n",
              "3          3               3               3  \n",
              "4          4               4               4  "
            ],
            "text/html": "<div>\n<style scoped>\n    .dataframe tbody tr th:only-of-type {\n        vertical-align: middle;\n    }\n\n    .dataframe tbody tr th {\n        vertical-align: top;\n    }\n\n    .dataframe thead th {\n        text-align: right;\n    }\n</style>\n<table border=\"1\" class=\"dataframe\">\n  <thead>\n    <tr style=\"text-align: right;\">\n      <th></th>\n      <th>userid</th>\n      <th>movieId</th>\n      <th>rating</th>\n      <th>timestamp</th>\n      <th>timestamp_YM</th>\n      <th>userId</th>\n      <th>productId</th>\n      <th>Updated_UserID</th>\n      <th>Updated_ItemID</th>\n    </tr>\n  </thead>\n  <tbody>\n    <tr>\n      <th>0</th>\n      <td>28507</td>\n      <td>1176</td>\n      <td>1</td>\n      <td>1995-01-09 11:46:44</td>\n      <td>1995-01</td>\n      <td>0</td>\n      <td>0</td>\n      <td>0</td>\n      <td>0</td>\n    </tr>\n    <tr>\n      <th>1</th>\n      <td>131160</td>\n      <td>47</td>\n      <td>1</td>\n      <td>1995-01-09 11:46:49</td>\n      <td>1995-01</td>\n      <td>1</td>\n      <td>1</td>\n      <td>1</td>\n      <td>1</td>\n    </tr>\n    <tr>\n      <th>2</th>\n      <td>85252</td>\n      <td>70</td>\n      <td>1</td>\n      <td>1996-01-29 00:00:00</td>\n      <td>1996-01</td>\n      <td>2</td>\n      <td>2</td>\n      <td>2</td>\n      <td>2</td>\n    </tr>\n    <tr>\n      <th>3</th>\n      <td>134445</td>\n      <td>45</td>\n      <td>1</td>\n      <td>1996-01-29 00:00:00</td>\n      <td>1996-01</td>\n      <td>3</td>\n      <td>3</td>\n      <td>3</td>\n      <td>3</td>\n    </tr>\n    <tr>\n      <th>4</th>\n      <td>99851</td>\n      <td>10</td>\n      <td>1</td>\n      <td>1996-01-29 00:00:00</td>\n      <td>1996-01</td>\n      <td>4</td>\n      <td>4</td>\n      <td>4</td>\n      <td>4</td>\n    </tr>\n  </tbody>\n</table>\n</div>"
          },
          "metadata": {},
          "execution_count": 8
        }
      ],
      "source": [
        "#MOVIElen_20M\n",
        "newMLDF_20M = pd.read_csv('/mnt/bulky/oolaleke/TDM_Dataset/ML_20M/MLDF20M_afterUpdt.csv.zip')\n",
        "print(newMLDF_20M.shape)   #userId_int\n",
        "newMLDF_20M.head()"
      ]
    },
    {
      "cell_type": "code",
      "execution_count": 9,
      "metadata": {},
      "outputs": [],
      "source": [
        "import pickle\n",
        "\n",
        "with open('/mnt/bulky/oolaleke/TDM_Dataset/ML_20M/MLDF20M_newHoldout.pkl', 'rb') as f:\n",
        "     newHoldout_list = pickle.load(f)\n",
        "    \n",
        "    \n",
        "with open('/mnt/bulky/oolaleke/TDM_Dataset/ML_20M/MLDF20M_newUserItem.pkl', 'rb') as f:\n",
        "     newUserItem_list = pickle.load(f)\n"
      ]
    },
    {
      "cell_type": "code",
      "metadata": {
        "id": "CqfE0PNF8NG1",
        "outputId": "e3b1b61c-4d5b-4913-9d5a-1a9528958c35"
      },
      "source": [
        "rows_i = newMLDF_20M['Updated_UserID'].nunique()\n",
        "cols_i = newMLDF_20M['Updated_ItemID'].nunique()\n",
        "SVD_UserItemMAT = AllRatingMatrices(newUserItem_list,'Updated_UserID','Updated_ItemID',rows_i ,cols_i) ##Same as UserItemMAT_regPSI\n",
        "SVD_UserItemMAT"
      ],
      "execution_count": 16,
      "outputs": [
        {
          "output_type": "execute_result",
          "data": {
            "text/plain": [
              "[<136677x20720 sparse matrix of type '<class 'numpy.float64'>'\n",
              " \twith 8865107 stored elements in Compressed Sparse Row format>,\n",
              " <136677x20720 sparse matrix of type '<class 'numpy.float64'>'\n",
              " \twith 8945455 stored elements in Compressed Sparse Row format>,\n",
              " <136677x20720 sparse matrix of type '<class 'numpy.float64'>'\n",
              " \twith 9025842 stored elements in Compressed Sparse Row format>,\n",
              " <136677x20720 sparse matrix of type '<class 'numpy.float64'>'\n",
              " \twith 9106051 stored elements in Compressed Sparse Row format>,\n",
              " <136677x20720 sparse matrix of type '<class 'numpy.float64'>'\n",
              " \twith 9186201 stored elements in Compressed Sparse Row format>,\n",
              " <136677x20720 sparse matrix of type '<class 'numpy.float64'>'\n",
              " \twith 9266468 stored elements in Compressed Sparse Row format>,\n",
              " <136677x20720 sparse matrix of type '<class 'numpy.float64'>'\n",
              " \twith 9346597 stored elements in Compressed Sparse Row format>,\n",
              " <136677x20720 sparse matrix of type '<class 'numpy.float64'>'\n",
              " \twith 9426837 stored elements in Compressed Sparse Row format>,\n",
              " <136677x20720 sparse matrix of type '<class 'numpy.float64'>'\n",
              " \twith 9506974 stored elements in Compressed Sparse Row format>,\n",
              " <136677x20720 sparse matrix of type '<class 'numpy.float64'>'\n",
              " \twith 9586957 stored elements in Compressed Sparse Row format>,\n",
              " <136677x20720 sparse matrix of type '<class 'numpy.float64'>'\n",
              " \twith 9667299 stored elements in Compressed Sparse Row format>,\n",
              " <136677x20720 sparse matrix of type '<class 'numpy.float64'>'\n",
              " \twith 9747689 stored elements in Compressed Sparse Row format>,\n",
              " <136677x20720 sparse matrix of type '<class 'numpy.float64'>'\n",
              " \twith 9828194 stored elements in Compressed Sparse Row format>,\n",
              " <136677x20720 sparse matrix of type '<class 'numpy.float64'>'\n",
              " \twith 9908522 stored elements in Compressed Sparse Row format>,\n",
              " <136677x20720 sparse matrix of type '<class 'numpy.float64'>'\n",
              " \twith 9987952 stored elements in Compressed Sparse Row format>]"
            ]
          },
          "metadata": {},
          "execution_count": 16
        }
      ]
    },
    {
      "cell_type": "code",
      "execution_count": 20,
      "metadata": {},
      "outputs": [],
      "source": [
        "##Tuning:\n",
        "def SVDoptimalSearch(RatingMat,holdout,user_column,item_column,start,end,increment,N=10):\n",
        "    AllHitrate = []\n",
        "    for rank in tqdm(range(start,end+1,increment)): \n",
        "        Usvd, Ssvd, VTsvd = svds(RatingMat, k=rank)\n",
        "        Vsvd = VTsvd.T\n",
        "        top_k = TopNPred(RatingMat,holdout,Vsvd, user_column, N)\n",
        "        hit_r = Hitrate_Eval(holdout,top_k,user_column,item_column)\n",
        "        AllHitrate.append(hit_r)\n",
        "    return AllHitrate"
      ]
    },
    {
      "cell_type": "code",
      "execution_count": 21,
      "metadata": {},
      "outputs": [
        {
          "output_type": "stream",
          "name": "stderr",
          "text": [
            " 12%|█▎        | 1/8 [00:02<00:17,  2.47s/it]Number of hits:  157\n",
            "Total Num of users:  3459\n",
            "Recommendation HitRate:  0.045388840705406185\n",
            " 25%|██▌       | 2/8 [00:06<00:21,  3.53s/it]Number of hits:  179\n",
            "Total Num of users:  3459\n",
            "Recommendation HitRate:  0.05174906042208731\n",
            " 38%|███▊      | 3/8 [00:10<00:19,  3.86s/it]Number of hits:  180\n",
            "Total Num of users:  3459\n",
            "Recommendation HitRate:  0.05203816131830009\n",
            " 50%|█████     | 4/8 [00:17<00:19,  4.78s/it]Number of hits:  182\n",
            "Total Num of users:  3459\n",
            "Recommendation HitRate:  0.05261636311072564\n",
            " 62%|██████▎   | 5/8 [00:25<00:17,  5.98s/it]Number of hits:  205\n",
            "Total Num of users:  3459\n",
            "Recommendation HitRate:  0.059265683723619546\n",
            " 75%|███████▌  | 6/8 [00:33<00:13,  6.77s/it]Number of hits:  203\n",
            "Total Num of users:  3459\n",
            "Recommendation HitRate:  0.05868748193119399\n",
            " 88%|████████▊ | 7/8 [00:43<00:07,  7.91s/it]Number of hits:  197\n",
            "Total Num of users:  3459\n",
            "Recommendation HitRate:  0.056952876553917314\n",
            "100%|██████████| 8/8 [00:54<00:00,  6.85s/it]Number of hits:  198\n",
            "Total Num of users:  3459\n",
            "Recommendation HitRate:  0.05724197745013009\n",
            "\n"
          ]
        }
      ],
      "source": [
        "AllHitrate = SVDoptimalSearch(SVD_UserItemMAT[0],newHoldout_list[0],'Updated_UserID','Updated_ItemID',start=10,end=80,increment=10,N=10)"
      ]
    },
    {
      "cell_type": "code",
      "execution_count": 23,
      "metadata": {},
      "outputs": [
        {
          "output_type": "execute_result",
          "data": {
            "text/plain": [
              "[0.045388840705406185,\n",
              " 0.05174906042208731,\n",
              " 0.05203816131830009,\n",
              " 0.05261636311072564,\n",
              " 0.059265683723619546,\n",
              " 0.05868748193119399,\n",
              " 0.056952876553917314,\n",
              " 0.05724197745013009]"
            ]
          },
          "metadata": {},
          "execution_count": 23
        }
      ],
      "source": [
        "AllHitrate"
      ]
    },
    {
      "cell_type": "code",
      "execution_count": 22,
      "metadata": {},
      "outputs": [
        {
          "output_type": "execute_result",
          "data": {
            "text/plain": [
              "[<matplotlib.lines.Line2D at 0x7f6d3de6f910>]"
            ]
          },
          "metadata": {},
          "execution_count": 22
        },
        {
          "output_type": "display_data",
          "data": {
            "text/plain": "<Figure size 432x288 with 1 Axes>",
            "image/svg+xml": "<?xml version=\"1.0\" encoding=\"utf-8\" standalone=\"no\"?>\n<!DOCTYPE svg PUBLIC \"-//W3C//DTD SVG 1.1//EN\"\n  \"http://www.w3.org/Graphics/SVG/1.1/DTD/svg11.dtd\">\n<svg height=\"248.518125pt\" version=\"1.1\" viewBox=\"0 0 384.828125 248.518125\" width=\"384.828125pt\" xmlns=\"http://www.w3.org/2000/svg\" xmlns:xlink=\"http://www.w3.org/1999/xlink\">\n <metadata>\n  <rdf:RDF xmlns:cc=\"http://creativecommons.org/ns#\" xmlns:dc=\"http://purl.org/dc/elements/1.1/\" xmlns:rdf=\"http://www.w3.org/1999/02/22-rdf-syntax-ns#\">\n   <cc:Work>\n    <dc:type rdf:resource=\"http://purl.org/dc/dcmitype/StillImage\"/>\n    <dc:date>2021-05-16T00:34:42.594854</dc:date>\n    <dc:format>image/svg+xml</dc:format>\n    <dc:creator>\n     <cc:Agent>\n      <dc:title>Matplotlib v3.4.1, https://matplotlib.org/</dc:title>\n     </cc:Agent>\n    </dc:creator>\n   </cc:Work>\n  </rdf:RDF>\n </metadata>\n <defs>\n  <style type=\"text/css\">*{stroke-linecap:butt;stroke-linejoin:round;}</style>\n </defs>\n <g id=\"figure_1\">\n  <g id=\"patch_1\">\n   <path d=\"M 0 248.518125 \nL 384.828125 248.518125 \nL 384.828125 0 \nL 0 0 \nz\n\" style=\"fill:none;\"/>\n  </g>\n  <g id=\"axes_1\">\n   <g id=\"patch_2\">\n    <path d=\"M 42.828125 224.64 \nL 377.628125 224.64 \nL 377.628125 7.2 \nL 42.828125 7.2 \nz\n\" style=\"fill:#ffffff;\"/>\n   </g>\n   <g id=\"matplotlib.axis_1\">\n    <g id=\"xtick_1\">\n     <g id=\"line2d_1\">\n      <defs>\n       <path d=\"M 0 0 \nL 0 3.5 \n\" id=\"m3224eaee31\" style=\"stroke:#000000;stroke-width:0.8;\"/>\n      </defs>\n      <g>\n       <use style=\"stroke:#000000;stroke-width:0.8;\" x=\"58.046307\" xlink:href=\"#m3224eaee31\" y=\"224.64\"/>\n      </g>\n     </g>\n     <g id=\"text_1\">\n      <!-- 0 -->\n      <g transform=\"translate(54.865057 239.238437)scale(0.1 -0.1)\">\n       <defs>\n        <path d=\"M 2034 4250 \nQ 1547 4250 1301 3770 \nQ 1056 3291 1056 2328 \nQ 1056 1369 1301 889 \nQ 1547 409 2034 409 \nQ 2525 409 2770 889 \nQ 3016 1369 3016 2328 \nQ 3016 3291 2770 3770 \nQ 2525 4250 2034 4250 \nz\nM 2034 4750 \nQ 2819 4750 3233 4129 \nQ 3647 3509 3647 2328 \nQ 3647 1150 3233 529 \nQ 2819 -91 2034 -91 \nQ 1250 -91 836 529 \nQ 422 1150 422 2328 \nQ 422 3509 836 4129 \nQ 1250 4750 2034 4750 \nz\n\" id=\"DejaVuSans-30\" transform=\"scale(0.015625)\"/>\n       </defs>\n       <use xlink:href=\"#DejaVuSans-30\"/>\n      </g>\n     </g>\n    </g>\n    <g id=\"xtick_2\">\n     <g id=\"line2d_2\">\n      <g>\n       <use style=\"stroke:#000000;stroke-width:0.8;\" x=\"101.526826\" xlink:href=\"#m3224eaee31\" y=\"224.64\"/>\n      </g>\n     </g>\n     <g id=\"text_2\">\n      <!-- 1 -->\n      <g transform=\"translate(98.345576 239.238437)scale(0.1 -0.1)\">\n       <defs>\n        <path d=\"M 794 531 \nL 1825 531 \nL 1825 4091 \nL 703 3866 \nL 703 4441 \nL 1819 4666 \nL 2450 4666 \nL 2450 531 \nL 3481 531 \nL 3481 0 \nL 794 0 \nL 794 531 \nz\n\" id=\"DejaVuSans-31\" transform=\"scale(0.015625)\"/>\n       </defs>\n       <use xlink:href=\"#DejaVuSans-31\"/>\n      </g>\n     </g>\n    </g>\n    <g id=\"xtick_3\">\n     <g id=\"line2d_3\">\n      <g>\n       <use style=\"stroke:#000000;stroke-width:0.8;\" x=\"145.007346\" xlink:href=\"#m3224eaee31\" y=\"224.64\"/>\n      </g>\n     </g>\n     <g id=\"text_3\">\n      <!-- 2 -->\n      <g transform=\"translate(141.826096 239.238437)scale(0.1 -0.1)\">\n       <defs>\n        <path d=\"M 1228 531 \nL 3431 531 \nL 3431 0 \nL 469 0 \nL 469 531 \nQ 828 903 1448 1529 \nQ 2069 2156 2228 2338 \nQ 2531 2678 2651 2914 \nQ 2772 3150 2772 3378 \nQ 2772 3750 2511 3984 \nQ 2250 4219 1831 4219 \nQ 1534 4219 1204 4116 \nQ 875 4013 500 3803 \nL 500 4441 \nQ 881 4594 1212 4672 \nQ 1544 4750 1819 4750 \nQ 2544 4750 2975 4387 \nQ 3406 4025 3406 3419 \nQ 3406 3131 3298 2873 \nQ 3191 2616 2906 2266 \nQ 2828 2175 2409 1742 \nQ 1991 1309 1228 531 \nz\n\" id=\"DejaVuSans-32\" transform=\"scale(0.015625)\"/>\n       </defs>\n       <use xlink:href=\"#DejaVuSans-32\"/>\n      </g>\n     </g>\n    </g>\n    <g id=\"xtick_4\">\n     <g id=\"line2d_4\">\n      <g>\n       <use style=\"stroke:#000000;stroke-width:0.8;\" x=\"188.487865\" xlink:href=\"#m3224eaee31\" y=\"224.64\"/>\n      </g>\n     </g>\n     <g id=\"text_4\">\n      <!-- 3 -->\n      <g transform=\"translate(185.306615 239.238437)scale(0.1 -0.1)\">\n       <defs>\n        <path d=\"M 2597 2516 \nQ 3050 2419 3304 2112 \nQ 3559 1806 3559 1356 \nQ 3559 666 3084 287 \nQ 2609 -91 1734 -91 \nQ 1441 -91 1130 -33 \nQ 819 25 488 141 \nL 488 750 \nQ 750 597 1062 519 \nQ 1375 441 1716 441 \nQ 2309 441 2620 675 \nQ 2931 909 2931 1356 \nQ 2931 1769 2642 2001 \nQ 2353 2234 1838 2234 \nL 1294 2234 \nL 1294 2753 \nL 1863 2753 \nQ 2328 2753 2575 2939 \nQ 2822 3125 2822 3475 \nQ 2822 3834 2567 4026 \nQ 2313 4219 1838 4219 \nQ 1578 4219 1281 4162 \nQ 984 4106 628 3988 \nL 628 4550 \nQ 988 4650 1302 4700 \nQ 1616 4750 1894 4750 \nQ 2613 4750 3031 4423 \nQ 3450 4097 3450 3541 \nQ 3450 3153 3228 2886 \nQ 3006 2619 2597 2516 \nz\n\" id=\"DejaVuSans-33\" transform=\"scale(0.015625)\"/>\n       </defs>\n       <use xlink:href=\"#DejaVuSans-33\"/>\n      </g>\n     </g>\n    </g>\n    <g id=\"xtick_5\">\n     <g id=\"line2d_5\">\n      <g>\n       <use style=\"stroke:#000000;stroke-width:0.8;\" x=\"231.968385\" xlink:href=\"#m3224eaee31\" y=\"224.64\"/>\n      </g>\n     </g>\n     <g id=\"text_5\">\n      <!-- 4 -->\n      <g transform=\"translate(228.787135 239.238437)scale(0.1 -0.1)\">\n       <defs>\n        <path d=\"M 2419 4116 \nL 825 1625 \nL 2419 1625 \nL 2419 4116 \nz\nM 2253 4666 \nL 3047 4666 \nL 3047 1625 \nL 3713 1625 \nL 3713 1100 \nL 3047 1100 \nL 3047 0 \nL 2419 0 \nL 2419 1100 \nL 313 1100 \nL 313 1709 \nL 2253 4666 \nz\n\" id=\"DejaVuSans-34\" transform=\"scale(0.015625)\"/>\n       </defs>\n       <use xlink:href=\"#DejaVuSans-34\"/>\n      </g>\n     </g>\n    </g>\n    <g id=\"xtick_6\">\n     <g id=\"line2d_6\">\n      <g>\n       <use style=\"stroke:#000000;stroke-width:0.8;\" x=\"275.448904\" xlink:href=\"#m3224eaee31\" y=\"224.64\"/>\n      </g>\n     </g>\n     <g id=\"text_6\">\n      <!-- 5 -->\n      <g transform=\"translate(272.267654 239.238437)scale(0.1 -0.1)\">\n       <defs>\n        <path d=\"M 691 4666 \nL 3169 4666 \nL 3169 4134 \nL 1269 4134 \nL 1269 2991 \nQ 1406 3038 1543 3061 \nQ 1681 3084 1819 3084 \nQ 2600 3084 3056 2656 \nQ 3513 2228 3513 1497 \nQ 3513 744 3044 326 \nQ 2575 -91 1722 -91 \nQ 1428 -91 1123 -41 \nQ 819 9 494 109 \nL 494 744 \nQ 775 591 1075 516 \nQ 1375 441 1709 441 \nQ 2250 441 2565 725 \nQ 2881 1009 2881 1497 \nQ 2881 1984 2565 2268 \nQ 2250 2553 1709 2553 \nQ 1456 2553 1204 2497 \nQ 953 2441 691 2322 \nL 691 4666 \nz\n\" id=\"DejaVuSans-35\" transform=\"scale(0.015625)\"/>\n       </defs>\n       <use xlink:href=\"#DejaVuSans-35\"/>\n      </g>\n     </g>\n    </g>\n    <g id=\"xtick_7\">\n     <g id=\"line2d_7\">\n      <g>\n       <use style=\"stroke:#000000;stroke-width:0.8;\" x=\"318.929424\" xlink:href=\"#m3224eaee31\" y=\"224.64\"/>\n      </g>\n     </g>\n     <g id=\"text_7\">\n      <!-- 6 -->\n      <g transform=\"translate(315.748174 239.238437)scale(0.1 -0.1)\">\n       <defs>\n        <path d=\"M 2113 2584 \nQ 1688 2584 1439 2293 \nQ 1191 2003 1191 1497 \nQ 1191 994 1439 701 \nQ 1688 409 2113 409 \nQ 2538 409 2786 701 \nQ 3034 994 3034 1497 \nQ 3034 2003 2786 2293 \nQ 2538 2584 2113 2584 \nz\nM 3366 4563 \nL 3366 3988 \nQ 3128 4100 2886 4159 \nQ 2644 4219 2406 4219 \nQ 1781 4219 1451 3797 \nQ 1122 3375 1075 2522 \nQ 1259 2794 1537 2939 \nQ 1816 3084 2150 3084 \nQ 2853 3084 3261 2657 \nQ 3669 2231 3669 1497 \nQ 3669 778 3244 343 \nQ 2819 -91 2113 -91 \nQ 1303 -91 875 529 \nQ 447 1150 447 2328 \nQ 447 3434 972 4092 \nQ 1497 4750 2381 4750 \nQ 2619 4750 2861 4703 \nQ 3103 4656 3366 4563 \nz\n\" id=\"DejaVuSans-36\" transform=\"scale(0.015625)\"/>\n       </defs>\n       <use xlink:href=\"#DejaVuSans-36\"/>\n      </g>\n     </g>\n    </g>\n    <g id=\"xtick_8\">\n     <g id=\"line2d_8\">\n      <g>\n       <use style=\"stroke:#000000;stroke-width:0.8;\" x=\"362.409943\" xlink:href=\"#m3224eaee31\" y=\"224.64\"/>\n      </g>\n     </g>\n     <g id=\"text_8\">\n      <!-- 7 -->\n      <g transform=\"translate(359.228693 239.238437)scale(0.1 -0.1)\">\n       <defs>\n        <path d=\"M 525 4666 \nL 3525 4666 \nL 3525 4397 \nL 1831 0 \nL 1172 0 \nL 2766 4134 \nL 525 4134 \nL 525 4666 \nz\n\" id=\"DejaVuSans-37\" transform=\"scale(0.015625)\"/>\n       </defs>\n       <use xlink:href=\"#DejaVuSans-37\"/>\n      </g>\n     </g>\n    </g>\n   </g>\n   <g id=\"matplotlib.axis_2\">\n    <g id=\"ytick_1\">\n     <g id=\"line2d_9\">\n      <defs>\n       <path d=\"M 0 0 \nL -3.5 0 \n\" id=\"me3481dfaf5\" style=\"stroke:#000000;stroke-width:0.8;\"/>\n      </defs>\n      <g>\n       <use style=\"stroke:#000000;stroke-width:0.8;\" x=\"42.828125\" xlink:href=\"#me3481dfaf5\" y=\"206.050527\"/>\n      </g>\n     </g>\n     <g id=\"text_9\">\n      <!-- 0.046 -->\n      <g transform=\"translate(7.2 209.849746)scale(0.1 -0.1)\">\n       <defs>\n        <path d=\"M 684 794 \nL 1344 794 \nL 1344 0 \nL 684 0 \nL 684 794 \nz\n\" id=\"DejaVuSans-2e\" transform=\"scale(0.015625)\"/>\n       </defs>\n       <use xlink:href=\"#DejaVuSans-30\"/>\n       <use x=\"63.623047\" xlink:href=\"#DejaVuSans-2e\"/>\n       <use x=\"95.410156\" xlink:href=\"#DejaVuSans-30\"/>\n       <use x=\"159.033203\" xlink:href=\"#DejaVuSans-34\"/>\n       <use x=\"222.65625\" xlink:href=\"#DejaVuSans-36\"/>\n      </g>\n     </g>\n    </g>\n    <g id=\"ytick_2\">\n     <g id=\"line2d_10\">\n      <g>\n       <use style=\"stroke:#000000;stroke-width:0.8;\" x=\"42.828125\" xlink:href=\"#me3481dfaf5\" y=\"177.560945\"/>\n      </g>\n     </g>\n     <g id=\"text_10\">\n      <!-- 0.048 -->\n      <g transform=\"translate(7.2 181.360164)scale(0.1 -0.1)\">\n       <defs>\n        <path d=\"M 2034 2216 \nQ 1584 2216 1326 1975 \nQ 1069 1734 1069 1313 \nQ 1069 891 1326 650 \nQ 1584 409 2034 409 \nQ 2484 409 2743 651 \nQ 3003 894 3003 1313 \nQ 3003 1734 2745 1975 \nQ 2488 2216 2034 2216 \nz\nM 1403 2484 \nQ 997 2584 770 2862 \nQ 544 3141 544 3541 \nQ 544 4100 942 4425 \nQ 1341 4750 2034 4750 \nQ 2731 4750 3128 4425 \nQ 3525 4100 3525 3541 \nQ 3525 3141 3298 2862 \nQ 3072 2584 2669 2484 \nQ 3125 2378 3379 2068 \nQ 3634 1759 3634 1313 \nQ 3634 634 3220 271 \nQ 2806 -91 2034 -91 \nQ 1263 -91 848 271 \nQ 434 634 434 1313 \nQ 434 1759 690 2068 \nQ 947 2378 1403 2484 \nz\nM 1172 3481 \nQ 1172 3119 1398 2916 \nQ 1625 2713 2034 2713 \nQ 2441 2713 2670 2916 \nQ 2900 3119 2900 3481 \nQ 2900 3844 2670 4047 \nQ 2441 4250 2034 4250 \nQ 1625 4250 1398 4047 \nQ 1172 3844 1172 3481 \nz\n\" id=\"DejaVuSans-38\" transform=\"scale(0.015625)\"/>\n       </defs>\n       <use xlink:href=\"#DejaVuSans-30\"/>\n       <use x=\"63.623047\" xlink:href=\"#DejaVuSans-2e\"/>\n       <use x=\"95.410156\" xlink:href=\"#DejaVuSans-30\"/>\n       <use x=\"159.033203\" xlink:href=\"#DejaVuSans-34\"/>\n       <use x=\"222.65625\" xlink:href=\"#DejaVuSans-38\"/>\n      </g>\n     </g>\n    </g>\n    <g id=\"ytick_3\">\n     <g id=\"line2d_11\">\n      <g>\n       <use style=\"stroke:#000000;stroke-width:0.8;\" x=\"42.828125\" xlink:href=\"#me3481dfaf5\" y=\"149.071364\"/>\n      </g>\n     </g>\n     <g id=\"text_11\">\n      <!-- 0.050 -->\n      <g transform=\"translate(7.2 152.870582)scale(0.1 -0.1)\">\n       <use xlink:href=\"#DejaVuSans-30\"/>\n       <use x=\"63.623047\" xlink:href=\"#DejaVuSans-2e\"/>\n       <use x=\"95.410156\" xlink:href=\"#DejaVuSans-30\"/>\n       <use x=\"159.033203\" xlink:href=\"#DejaVuSans-35\"/>\n       <use x=\"222.65625\" xlink:href=\"#DejaVuSans-30\"/>\n      </g>\n     </g>\n    </g>\n    <g id=\"ytick_4\">\n     <g id=\"line2d_12\">\n      <g>\n       <use style=\"stroke:#000000;stroke-width:0.8;\" x=\"42.828125\" xlink:href=\"#me3481dfaf5\" y=\"120.581782\"/>\n      </g>\n     </g>\n     <g id=\"text_12\">\n      <!-- 0.052 -->\n      <g transform=\"translate(7.2 124.381001)scale(0.1 -0.1)\">\n       <use xlink:href=\"#DejaVuSans-30\"/>\n       <use x=\"63.623047\" xlink:href=\"#DejaVuSans-2e\"/>\n       <use x=\"95.410156\" xlink:href=\"#DejaVuSans-30\"/>\n       <use x=\"159.033203\" xlink:href=\"#DejaVuSans-35\"/>\n       <use x=\"222.65625\" xlink:href=\"#DejaVuSans-32\"/>\n      </g>\n     </g>\n    </g>\n    <g id=\"ytick_5\">\n     <g id=\"line2d_13\">\n      <g>\n       <use style=\"stroke:#000000;stroke-width:0.8;\" x=\"42.828125\" xlink:href=\"#me3481dfaf5\" y=\"92.0922\"/>\n      </g>\n     </g>\n     <g id=\"text_13\">\n      <!-- 0.054 -->\n      <g transform=\"translate(7.2 95.891419)scale(0.1 -0.1)\">\n       <use xlink:href=\"#DejaVuSans-30\"/>\n       <use x=\"63.623047\" xlink:href=\"#DejaVuSans-2e\"/>\n       <use x=\"95.410156\" xlink:href=\"#DejaVuSans-30\"/>\n       <use x=\"159.033203\" xlink:href=\"#DejaVuSans-35\"/>\n       <use x=\"222.65625\" xlink:href=\"#DejaVuSans-34\"/>\n      </g>\n     </g>\n    </g>\n    <g id=\"ytick_6\">\n     <g id=\"line2d_14\">\n      <g>\n       <use style=\"stroke:#000000;stroke-width:0.8;\" x=\"42.828125\" xlink:href=\"#me3481dfaf5\" y=\"63.602618\"/>\n      </g>\n     </g>\n     <g id=\"text_14\">\n      <!-- 0.056 -->\n      <g transform=\"translate(7.2 67.401837)scale(0.1 -0.1)\">\n       <use xlink:href=\"#DejaVuSans-30\"/>\n       <use x=\"63.623047\" xlink:href=\"#DejaVuSans-2e\"/>\n       <use x=\"95.410156\" xlink:href=\"#DejaVuSans-30\"/>\n       <use x=\"159.033203\" xlink:href=\"#DejaVuSans-35\"/>\n       <use x=\"222.65625\" xlink:href=\"#DejaVuSans-36\"/>\n      </g>\n     </g>\n    </g>\n    <g id=\"ytick_7\">\n     <g id=\"line2d_15\">\n      <g>\n       <use style=\"stroke:#000000;stroke-width:0.8;\" x=\"42.828125\" xlink:href=\"#me3481dfaf5\" y=\"35.113036\"/>\n      </g>\n     </g>\n     <g id=\"text_15\">\n      <!-- 0.058 -->\n      <g transform=\"translate(7.2 38.912255)scale(0.1 -0.1)\">\n       <use xlink:href=\"#DejaVuSans-30\"/>\n       <use x=\"63.623047\" xlink:href=\"#DejaVuSans-2e\"/>\n       <use x=\"95.410156\" xlink:href=\"#DejaVuSans-30\"/>\n       <use x=\"159.033203\" xlink:href=\"#DejaVuSans-35\"/>\n       <use x=\"222.65625\" xlink:href=\"#DejaVuSans-38\"/>\n      </g>\n     </g>\n    </g>\n   </g>\n   <g id=\"line2d_16\">\n    <path clip-path=\"url(#pda2e250291)\" d=\"M 58.046307 214.756364 \nL 101.526826 124.156364 \nL 145.007346 120.038182 \nL 188.487865 111.801818 \nL 231.968385 17.083636 \nL 275.448904 25.32 \nL 318.929424 50.029091 \nL 362.409943 45.910909 \n\" style=\"fill:none;stroke:#1f77b4;stroke-linecap:square;stroke-width:1.5;\"/>\n   </g>\n   <g id=\"patch_3\">\n    <path d=\"M 42.828125 224.64 \nL 42.828125 7.2 \n\" style=\"fill:none;stroke:#000000;stroke-linecap:square;stroke-linejoin:miter;stroke-width:0.8;\"/>\n   </g>\n   <g id=\"patch_4\">\n    <path d=\"M 377.628125 224.64 \nL 377.628125 7.2 \n\" style=\"fill:none;stroke:#000000;stroke-linecap:square;stroke-linejoin:miter;stroke-width:0.8;\"/>\n   </g>\n   <g id=\"patch_5\">\n    <path d=\"M 42.828125 224.64 \nL 377.628125 224.64 \n\" style=\"fill:none;stroke:#000000;stroke-linecap:square;stroke-linejoin:miter;stroke-width:0.8;\"/>\n   </g>\n   <g id=\"patch_6\">\n    <path d=\"M 42.828125 7.2 \nL 377.628125 7.2 \n\" style=\"fill:none;stroke:#000000;stroke-linecap:square;stroke-linejoin:miter;stroke-width:0.8;\"/>\n   </g>\n  </g>\n </g>\n <defs>\n  <clipPath id=\"pda2e250291\">\n   <rect height=\"217.44\" width=\"334.8\" x=\"42.828125\" y=\"7.2\"/>\n  </clipPath>\n </defs>\n</svg>\n",
            "image/png": "[encoded data removed]"
          },
          "metadata": {
            "needs_background": "light"
          }
        }
      ],
      "source": [
        "plt.plot(AllHitrate)   ###Max == 50"
      ]
    },
    {
      "cell_type": "code",
      "metadata": {
        "colab": {
          "base_uri": "https://localhost:8080/"
        },
        "id": "qJSJnDKTdogh",
        "outputId": "fe099c50-df55-458f-e6c5-5e4d308d0155"
      },
      "source": [
        "Vsvd_list = pureSVD(SVD_UserItemMAT,k=50)\n",
        "print(len(Vsvd_list))"
      ],
      "execution_count": 106,
      "outputs": [
        {
          "output_type": "stream",
          "name": "stdout",
          "text": [
            "15\n"
          ]
        }
      ]
    },
    {
      "cell_type": "code",
      "metadata": {
        "colab": {
          "base_uri": "https://localhost:8080/"
        },
        "id": "DT9ATyeIdogj",
        "outputId": "9e3ba5db-7a86-4af1-fad5-cf98485e992d"
      },
      "source": [
        "Vsvd_last = Vsvd_list[-1]\n",
        "Vsvd_last"
      ],
      "execution_count": 107,
      "outputs": [
        {
          "output_type": "execute_result",
          "data": {
            "text/plain": [
              "array([[-5.21093989e-03, -1.43997794e-03,  8.24085211e-04, ...,\n",
              "        -8.84044305e-03, -7.85443608e-03, -4.24750457e-03],\n",
              "       [-2.31463216e-01, -3.18206357e-02, -4.90215540e-02, ...,\n",
              "         6.41414572e-02,  5.63991071e-02, -9.01850235e-02],\n",
              "       [ 1.38939582e-02,  1.48931262e-02,  1.71452752e-03, ...,\n",
              "         6.33829077e-03,  4.59954168e-03, -1.85764305e-02],\n",
              "       ...,\n",
              "       [ 1.15398630e-05, -1.10198082e-04, -4.03091186e-05, ...,\n",
              "        -7.91126412e-07,  2.37334984e-05, -6.28646908e-06],\n",
              "       [ 1.15398630e-05, -1.10198082e-04, -4.03091186e-05, ...,\n",
              "        -7.91126412e-07,  2.37334984e-05, -6.28646908e-06],\n",
              "       [ 1.15398630e-05, -1.10198082e-04, -4.03091186e-05, ...,\n",
              "        -7.91126412e-07,  2.37334984e-05, -6.28646908e-06]])"
            ]
          },
          "metadata": {},
          "execution_count": 107
        }
      ]
    },
    {
      "cell_type": "code",
      "execution_count": null,
      "metadata": {},
      "outputs": [],
      "source": []
    },
    {
      "cell_type": "code",
      "metadata": {
        "id": "3RwA_O_gq7J_"
      },
      "source": [],
      "execution_count": null,
      "outputs": []
    },
    {
      "cell_type": "markdown",
      "metadata": {
        "id": "MOwfp31xq_M8"
      },
      "source": [
        "### SVDAll Pred"
      ]
    },
    {
      "cell_type": "code",
      "metadata": {
        "id": "lZJ2v4048NHA",
        "outputId": "2099c143-4973-4b04-9ae2-d5a7a2f7a672"
      },
      "source": [
        "AllUsersSVD_PRED =  TQDMgetALLTopNPred_ALLUSERS(SVD_UserItemMAT,Vsvd_list, N=10) \n",
        "print(len(AllUsersSVD_PRED))\n",
        "AllUsersSVD_PRED[:2]"
      ],
      "execution_count": 108,
      "outputs": [
        {
          "output_type": "stream",
          "name": "stderr",
          "text": [
            "15it [07:33, 30.24s/it]15\n",
            "\n"
          ]
        },
        {
          "output_type": "execute_result",
          "data": {
            "text/plain": [
              "[array([[   17,   108,  1072, ...,  1108,    89,  1215],\n",
              "        [  663,  1062,   969, ...,   267,   719,  1107],\n",
              "        [ 1300,   108,    90, ...,    50,   318,   678],\n",
              "        ...,\n",
              "        [ 6918,  6901,  6908, ...,  6903,  6902, 20719],\n",
              "        [ 6918,  6901,  6908, ...,  6903,  6902, 20719],\n",
              "        [ 6918,  6901,  6908, ...,  6903,  6902, 20719]]),\n",
              " array([[   17,   108,  1072, ...,  1108,    89,  1215],\n",
              "        [  663,  1062,   969, ...,   267,   719,  1107],\n",
              "        [ 1300,   108,    90, ...,    50,   318,   213],\n",
              "        ...,\n",
              "        [ 6918,  6901,  6908, ...,  6903,  6902, 20719],\n",
              "        [ 6918,  6901,  6908, ...,  6903,  6902, 20719],\n",
              "        [ 6918,  6901,  6908, ...,  6903,  6902, 20719]])]"
            ]
          },
          "metadata": {},
          "execution_count": 108
        }
      ]
    },
    {
      "cell_type": "code",
      "metadata": {
        "id": "mAycsmW78NHB"
      },
      "source": [
        "with open('MLDF20M_SVD_allPRED.pkl', 'wb') as f:\n",
        "     pickle.dump(AllUsersSVD_PRED, f)\n"
      ],
      "execution_count": 109,
      "outputs": []
    },
    {
      "cell_type": "code",
      "metadata": {
        "id": "vTuT6e8M5oFM"
      },
      "source": [],
      "execution_count": null,
      "outputs": []
    },
    {
      "cell_type": "markdown",
      "metadata": {
        "id": "GWbQaDzo5pp6"
      },
      "source": [
        "## iALS"
      ]
    },
    {
      "cell_type": "markdown",
      "metadata": {
        "id": "n8B40fi_A0YY"
      },
      "source": [
        "### ALS_Tuning"
      ]
    },
    {
      "cell_type": "code",
      "metadata": {
        "id": "EOo9_0Ry9Zts"
      },
      "source": [
        "# newAMZB_DF = pd.read_csv(\"/mnt/bulky/oolaleke/TDM_Dataset/AMZB_afterUpdt.csv\")\n",
        "# print(newAMZB_DF.shape)\n",
        "# print(newAMZB_DF['userId'].max(),newAMZB_DF['productId'].max())\n",
        "# print(newAMZB_DF['userId'].nunique(),newAMZB_DF['productId'].nunique())\n",
        "# print()\n",
        "# print(newAMZB_DF['Updated_UserID'].max(),newAMZB_DF['Updated_ItemID'].max())\n",
        "# print(newAMZB_DF['Updated_UserID'].nunique(),newAMZB_DF['Updated_ItemID'].nunique())\n",
        "# newAMZB_DF.head()"
      ],
      "execution_count": null,
      "outputs": []
    },
    {
      "cell_type": "code",
      "metadata": {
        "id": "MKnejGU29f-a"
      },
      "source": [
        "rows_i = newMLDF_20M['Updated_UserID'].nunique()\n",
        "cols_i = newMLDF_20M['Updated_ItemID'].nunique()\n",
        "Rating_matrix = SingleRatingMatrix(newUserItem_list[0],'Updated_UserID','Updated_ItemID',rows_i,cols_i)  #changes start within steps...\n",
        "Rating_matrix"
      ],
      "execution_count": 110,
      "outputs": [
        {
          "output_type": "execute_result",
          "data": {
            "text/plain": [
              "<136677x20720 sparse matrix of type '<class 'numpy.float64'>'\n",
              "\twith 8865107 stored elements in Compressed Sparse Row format>"
            ]
          },
          "metadata": {},
          "execution_count": 110
        }
      ]
    },
    {
      "cell_type": "code",
      "metadata": {
        "id": "dfLt7GJs9iz5"
      },
      "source": [
        "als_params = dict(alpha = [ 0.001,0.05, 0.1, 0.5, 1, 5, 10, 50, 100],\n",
        "                  regularization = [0.001, 0.005, 0.01, 0.05, 0.1, 0.5, 1, 10],\n",
        "                  rank = list(range(10, 81, 10)),\n",
        "                  iter_array = [10,15,20,25,30])\n",
        "\n",
        "als_param_grid, als_param_names = random_grid(als_params, n=30)\n",
        "print(als_param_names)\n",
        "len(als_param_grid)                 "
      ],
      "execution_count": 111,
      "outputs": [
        {
          "output_type": "stream",
          "name": "stdout",
          "text": [
            "('alpha', 'regularization', 'rank', 'iter_array')\n"
          ]
        },
        {
          "output_type": "execute_result",
          "data": {
            "text/plain": [
              "30"
            ]
          },
          "metadata": {},
          "execution_count": 111
        }
      ]
    },
    {
      "cell_type": "code",
      "metadata": {
        "id": "DU0MGbNx9pjN"
      },
      "source": [
        "for i in range(10):\n",
        "    alpha, reg, rank, iter = list(als_param_grid)[i]  \n",
        "    print(alpha, reg, rank,iter)"
      ],
      "execution_count": 112,
      "outputs": [
        {
          "output_type": "stream",
          "name": "stdout",
          "text": [
            "100 0.01 10 30\n0.1 0.5 50 25\n0.5 0.005 70 10\n0.1 0.05 60 25\n1 0.001 70 10\n0.05 0.1 60 30\n50 0.005 60 15\n0.1 0.1 80 10\n0.001 0.001 30 10\n1 0.01 30 15\n"
          ]
        }
      ]
    },
    {
      "cell_type": "code",
      "metadata": {
        "id": "_ccyFbxr9sdg"
      },
      "source": [
        "train_set ,test_set,valid_set = TrainTest(Rating_matrix, pct_mask=0.2)\n",
        "train_set"
      ],
      "execution_count": 113,
      "outputs": [
        {
          "output_type": "execute_result",
          "data": {
            "text/plain": [
              "<136677x20720 sparse matrix of type '<class 'numpy.float64'>'\n",
              "\twith 7092085 stored elements in Compressed Sparse Row format>"
            ]
          },
          "metadata": {},
          "execution_count": 113
        }
      ]
    },
    {
      "cell_type": "code",
      "metadata": {
        "id": "1SUGsWOM9vBY"
      },
      "source": [
        "test_set"
      ],
      "execution_count": 114,
      "outputs": [
        {
          "output_type": "execute_result",
          "data": {
            "text/plain": [
              "<136677x20720 sparse matrix of type '<class 'numpy.float64'>'\n",
              "\twith 8865107 stored elements in Compressed Sparse Row format>"
            ]
          },
          "metadata": {},
          "execution_count": 114
        }
      ]
    },
    {
      "cell_type": "code",
      "metadata": {
        "id": "AcEgxGZB9xhE"
      },
      "source": [
        "len(valid_set)"
      ],
      "execution_count": 115,
      "outputs": [
        {
          "output_type": "execute_result",
          "data": {
            "text/plain": [
              "119781"
            ]
          },
          "metadata": {},
          "execution_count": 115
        }
      ]
    },
    {
      "cell_type": "code",
      "metadata": {
        "id": "iF3zHFkY90aQ"
      },
      "source": [
        "best_model_Info = tune_ALS(train_set,test_set,valid_set,als_param_grid)"
      ],
      "execution_count": 116,
      "outputs": [
        {
          "output_type": "stream",
          "name": "stderr",
          "text": [
            "  0%|          | 0/30 [00:00<?, ?it/s]"
          ]
        },
        {
          "output_type": "display_data",
          "data": {
            "text/plain": "  0%|          | 0/30 [00:00<?, ?it/s]",
            "application/vnd.jupyter.widget-view+json": {
              "version_major": 2,
              "version_minor": 0,
              "model_id": "e6b99e96b3b84408ac7a5465ea5b2670"
            }
          },
          "metadata": {}
        },
        {
          "output_type": "stream",
          "name": "stderr",
          "text": [
            "  3%|▎         | 1/30 [15:29<7:29:19, 929.65s/it]latent factors= 10 ,regularization = 0.01:, n_iter = 30, alpha = 100, AUC= 0.981234\n"
          ]
        },
        {
          "output_type": "display_data",
          "data": {
            "text/plain": "  0%|          | 0/25 [00:00<?, ?it/s]",
            "application/vnd.jupyter.widget-view+json": {
              "version_major": 2,
              "version_minor": 0,
              "model_id": "e47a4384c56749ad95e7f7dfdb54f975"
            }
          },
          "metadata": {}
        },
        {
          "output_type": "stream",
          "name": "stderr",
          "text": [
            "  7%|▋         | 2/30 [33:11<7:50:13, 1007.62s/it]latent factors= 50 ,regularization = 0.5:, n_iter = 25, alpha = 0.1, AUC= 0.882249\n"
          ]
        },
        {
          "output_type": "display_data",
          "data": {
            "text/plain": "  0%|          | 0/10 [00:00<?, ?it/s]",
            "application/vnd.jupyter.widget-view+json": {
              "version_major": 2,
              "version_minor": 0,
              "model_id": "e20a8db2736341ba859366fb3d89688e"
            }
          },
          "metadata": {}
        },
        {
          "output_type": "stream",
          "name": "stderr",
          "text": [
            " 10%|█         | 3/30 [52:05<7:59:15, 1065.01s/it]latent factors= 70 ,regularization = 0.005:, n_iter = 10, alpha = 0.5, AUC= 0.87876\n"
          ]
        },
        {
          "output_type": "display_data",
          "data": {
            "text/plain": "  0%|          | 0/25 [00:00<?, ?it/s]",
            "application/vnd.jupyter.widget-view+json": {
              "version_major": 2,
              "version_minor": 0,
              "model_id": "3f318d5a916144ffb726725f8b72cc77"
            }
          },
          "metadata": {}
        },
        {
          "output_type": "stream",
          "name": "stderr",
          "text": [
            " 13%|█▎        | 4/30 [1:11:21<7:57:07, 1101.05s/it]latent factors= 60 ,regularization = 0.05:, n_iter = 25, alpha = 0.1, AUC= 0.869231\n"
          ]
        },
        {
          "output_type": "display_data",
          "data": {
            "text/plain": "  0%|          | 0/10 [00:00<?, ?it/s]",
            "application/vnd.jupyter.widget-view+json": {
              "version_major": 2,
              "version_minor": 0,
              "model_id": "05db8030208848f8be0c18d000e52cc8"
            }
          },
          "metadata": {}
        },
        {
          "output_type": "stream",
          "name": "stderr",
          "text": [
            " 17%|█▋        | 5/30 [1:30:06<7:42:20, 1109.61s/it]latent factors= 70 ,regularization = 0.001:, n_iter = 10, alpha = 1, AUC= 0.897181\n"
          ]
        },
        {
          "output_type": "display_data",
          "data": {
            "text/plain": "  0%|          | 0/30 [00:00<?, ?it/s]",
            "application/vnd.jupyter.widget-view+json": {
              "version_major": 2,
              "version_minor": 0,
              "model_id": "3d48d3154ba54f66beadefc48d9786e1"
            }
          },
          "metadata": {}
        },
        {
          "output_type": "stream",
          "name": "stderr",
          "text": [
            " 20%|██        | 6/30 [1:49:54<7:34:30, 1136.28s/it]latent factors= 60 ,regularization = 0.1:, n_iter = 30, alpha = 0.05, AUC= 0.870689\n"
          ]
        },
        {
          "output_type": "display_data",
          "data": {
            "text/plain": "  0%|          | 0/15 [00:00<?, ?it/s]",
            "application/vnd.jupyter.widget-view+json": {
              "version_major": 2,
              "version_minor": 0,
              "model_id": "9407de48bb1e4b16a94bff541e223576"
            }
          },
          "metadata": {}
        },
        {
          "output_type": "stream",
          "name": "stderr",
          "text": [
            " 23%|██▎       | 7/30 [2:08:24<7:12:16, 1127.69s/it]latent factors= 60 ,regularization = 0.005:, n_iter = 15, alpha = 50, AUC= 0.973382\n"
          ]
        },
        {
          "output_type": "display_data",
          "data": {
            "text/plain": "  0%|          | 0/10 [00:00<?, ?it/s]",
            "application/vnd.jupyter.widget-view+json": {
              "version_major": 2,
              "version_minor": 0,
              "model_id": "0d9ddca88dfc4fd5aeb59487bf04de5a"
            }
          },
          "metadata": {}
        },
        {
          "output_type": "stream",
          "name": "stderr",
          "text": [
            " 27%|██▋       | 8/30 [2:28:29<7:02:34, 1152.46s/it]latent factors= 80 ,regularization = 0.1:, n_iter = 10, alpha = 0.1, AUC= 0.840435\n"
          ]
        },
        {
          "output_type": "display_data",
          "data": {
            "text/plain": "  0%|          | 0/10 [00:00<?, ?it/s]",
            "application/vnd.jupyter.widget-view+json": {
              "version_major": 2,
              "version_minor": 0,
              "model_id": "79a085125c314d5381dc4cb168cf8a26"
            }
          },
          "metadata": {}
        },
        {
          "output_type": "stream",
          "name": "stderr",
          "text": [
            " 30%|███       | 9/30 [2:45:10<6:26:43, 1104.91s/it]latent factors= 30 ,regularization = 0.001:, n_iter = 10, alpha = 0.001, AUC= 0.893471\n"
          ]
        },
        {
          "output_type": "display_data",
          "data": {
            "text/plain": "  0%|          | 0/15 [00:00<?, ?it/s]",
            "application/vnd.jupyter.widget-view+json": {
              "version_major": 2,
              "version_minor": 0,
              "model_id": "f11aba20f23849db9b4b97f749ff78e4"
            }
          },
          "metadata": {}
        },
        {
          "output_type": "stream",
          "name": "stderr",
          "text": [
            " 33%|███▎      | 10/30 [3:02:01<5:58:42, 1076.12s/it]latent factors= 30 ,regularization = 0.01:, n_iter = 15, alpha = 1, AUC= 0.937063\n"
          ]
        },
        {
          "output_type": "display_data",
          "data": {
            "text/plain": "  0%|          | 0/25 [00:00<?, ?it/s]",
            "application/vnd.jupyter.widget-view+json": {
              "version_major": 2,
              "version_minor": 0,
              "model_id": "ce100b867e434944881e112e789a311c"
            }
          },
          "metadata": {}
        },
        {
          "output_type": "stream",
          "name": "stderr",
          "text": [
            " 37%|███▋      | 11/30 [3:22:06<5:53:11, 1115.34s/it]latent factors= 80 ,regularization = 0.1:, n_iter = 25, alpha = 0.001, AUC= 0.926929\n"
          ]
        },
        {
          "output_type": "display_data",
          "data": {
            "text/plain": "  0%|          | 0/10 [00:00<?, ?it/s]",
            "application/vnd.jupyter.widget-view+json": {
              "version_major": 2,
              "version_minor": 0,
              "model_id": "2810273fc840460292886c4f3500e385"
            }
          },
          "metadata": {}
        },
        {
          "output_type": "stream",
          "name": "stderr",
          "text": [
            " 40%|████      | 12/30 [3:36:39<5:12:34, 1041.90s/it]latent factors= 10 ,regularization = 0.5:, n_iter = 10, alpha = 5, AUC= 0.968743\n"
          ]
        },
        {
          "output_type": "display_data",
          "data": {
            "text/plain": "  0%|          | 0/25 [00:00<?, ?it/s]",
            "application/vnd.jupyter.widget-view+json": {
              "version_major": 2,
              "version_minor": 0,
              "model_id": "db9f14ba179c4f37ad1f394e86842feb"
            }
          },
          "metadata": {}
        },
        {
          "output_type": "stream",
          "name": "stderr",
          "text": [
            " 40%|████      | 12/30 [3:49:06<5:43:39, 1145.53s/it]\n"
          ]
        },
        {
          "output_type": "error",
          "ename": "KeyboardInterrupt",
          "evalue": "",
          "traceback": [
            "\u001b[0;31m---------------------------------------------------------------------------\u001b[0m",
            "\u001b[0;31mKeyboardInterrupt\u001b[0m                         Traceback (most recent call last)",
            "\u001b[0;32m<ipython-input-116-91a8bb5cce3d>\u001b[0m in \u001b[0;36m<module>\u001b[0;34m\u001b[0m\n\u001b[0;32m----> 1\u001b[0;31m \u001b[0mbest_model_Info\u001b[0m \u001b[0;34m=\u001b[0m \u001b[0mtune_ALS\u001b[0m\u001b[0;34m(\u001b[0m\u001b[0mtrain_set\u001b[0m\u001b[0;34m,\u001b[0m\u001b[0mtest_set\u001b[0m\u001b[0;34m,\u001b[0m\u001b[0mvalid_set\u001b[0m\u001b[0;34m,\u001b[0m\u001b[0mals_param_grid\u001b[0m\u001b[0;34m)\u001b[0m\u001b[0;34m\u001b[0m\u001b[0;34m\u001b[0m\u001b[0m\n\u001b[0m",
            "\u001b[0;32m~/incremental_PSI/Scripts/b_AlgoFunctions.py\u001b[0m in \u001b[0;36mtune_ALS\u001b[0;34m(train_set, test_set, validation_set, als_param_grid)\u001b[0m\n\u001b[1;32m    149\u001b[0m         \u001b[0mitem_vecs_csr\u001b[0m \u001b[0;34m=\u001b[0m \u001b[0msparse\u001b[0m\u001b[0;34m.\u001b[0m\u001b[0mcsr_matrix\u001b[0m\u001b[0;34m(\u001b[0m\u001b[0mitem_vecs\u001b[0m\u001b[0;34m.\u001b[0m\u001b[0mT\u001b[0m\u001b[0;34m)\u001b[0m     \u001b[0;31m#and transposing th eitem vectors:\u001b[0m\u001b[0;34m\u001b[0m\u001b[0;34m\u001b[0m\u001b[0m\n\u001b[1;32m    150\u001b[0m         \u001b[0mlatent_features\u001b[0m \u001b[0;34m=\u001b[0m \u001b[0;34m[\u001b[0m\u001b[0muser_vecs_csr\u001b[0m\u001b[0;34m,\u001b[0m\u001b[0mitem_vecs_csr\u001b[0m\u001b[0;34m]\u001b[0m\u001b[0;34m\u001b[0m\u001b[0;34m\u001b[0m\u001b[0m\n\u001b[0;32m--> 151\u001b[0;31m         \u001b[0mtest_auc\u001b[0m  \u001b[0;34m=\u001b[0m  \u001b[0mmean_auc\u001b[0m\u001b[0;34m(\u001b[0m\u001b[0mtrain_set\u001b[0m\u001b[0;34m,\u001b[0m\u001b[0mtest_set\u001b[0m\u001b[0;34m,\u001b[0m\u001b[0mlatent_features\u001b[0m\u001b[0;34m,\u001b[0m\u001b[0mvalidation_set\u001b[0m\u001b[0;34m)\u001b[0m   \u001b[0;31m#masked_users == VALIDATION SET\u001b[0m\u001b[0;34m\u001b[0m\u001b[0;34m\u001b[0m\u001b[0m\n\u001b[0m\u001b[1;32m    152\u001b[0m \u001b[0;34m\u001b[0m\u001b[0m\n\u001b[1;32m    153\u001b[0m         \u001b[0mprint\u001b[0m\u001b[0;34m(\u001b[0m\u001b[0;34m'latent factors= {} ,regularization = {}:, n_iter = {}, alpha = {}, AUC= {}'\u001b[0m\u001b[0;34m.\u001b[0m\u001b[0mformat\u001b[0m\u001b[0;34m(\u001b[0m\u001b[0mrank\u001b[0m\u001b[0;34m,\u001b[0m\u001b[0mreg\u001b[0m\u001b[0;34m,\u001b[0m\u001b[0miter\u001b[0m\u001b[0;34m,\u001b[0m\u001b[0malpha\u001b[0m\u001b[0;34m,\u001b[0m\u001b[0mtest_auc\u001b[0m\u001b[0;34m)\u001b[0m\u001b[0;34m)\u001b[0m\u001b[0;34m\u001b[0m\u001b[0;34m\u001b[0m\u001b[0m\n",
            "\u001b[0;32m~/incremental_PSI/Scripts/b_AlgoFunctions.py\u001b[0m in \u001b[0;36mmean_auc\u001b[0;34m(train_set, test_set, latent_features, masked_users)\u001b[0m\n\u001b[1;32m    129\u001b[0m                                                             \u001b[0;31m#to test with our system recommending popular item for every user\u001b[0m\u001b[0;34m\u001b[0m\u001b[0;34m\u001b[0m\u001b[0;34m\u001b[0m\u001b[0m\n\u001b[1;32m    130\u001b[0m         \u001b[0muser_AUC\u001b[0m\u001b[0;34m.\u001b[0m\u001b[0mappend\u001b[0m\u001b[0;34m(\u001b[0m\u001b[0mauc_score\u001b[0m\u001b[0;34m(\u001b[0m\u001b[0mpred_\u001b[0m\u001b[0;34m,\u001b[0m\u001b[0mactual_\u001b[0m\u001b[0;34m)\u001b[0m\u001b[0;34m)\u001b[0m\u001b[0;34m\u001b[0m\u001b[0;34m\u001b[0m\u001b[0m\n\u001b[0;32m--> 131\u001b[0;31m         \u001b[0mAVG_test_AUC\u001b[0m \u001b[0;34m=\u001b[0m \u001b[0mfloat\u001b[0m\u001b[0;34m(\u001b[0m\u001b[0;34m'%.6f'\u001b[0m\u001b[0;34m%\u001b[0m\u001b[0mnp\u001b[0m\u001b[0;34m.\u001b[0m\u001b[0mmean\u001b[0m\u001b[0;34m(\u001b[0m\u001b[0muser_AUC\u001b[0m\u001b[0;34m)\u001b[0m\u001b[0;34m)\u001b[0m\u001b[0;34m\u001b[0m\u001b[0;34m\u001b[0m\u001b[0m\n\u001b[0m\u001b[1;32m    132\u001b[0m     \u001b[0;32mreturn\u001b[0m \u001b[0mAVG_test_AUC\u001b[0m\u001b[0;34m\u001b[0m\u001b[0;34m\u001b[0m\u001b[0m\n\u001b[1;32m    133\u001b[0m \u001b[0;34m\u001b[0m\u001b[0m\n",
            "\u001b[0;32m<__array_function__ internals>\u001b[0m in \u001b[0;36mmean\u001b[0;34m(*args, **kwargs)\u001b[0m\n",
            "\u001b[0;32m/mnt/bulky/oolaleke/mambaforge/envs/PSI_project/lib/python3.9/site-packages/numpy/core/fromnumeric.py\u001b[0m in \u001b[0;36mmean\u001b[0;34m(a, axis, dtype, out, keepdims, where)\u001b[0m\n\u001b[1;32m   3417\u001b[0m             \u001b[0;32mreturn\u001b[0m \u001b[0mmean\u001b[0m\u001b[0;34m(\u001b[0m\u001b[0maxis\u001b[0m\u001b[0;34m=\u001b[0m\u001b[0maxis\u001b[0m\u001b[0;34m,\u001b[0m \u001b[0mdtype\u001b[0m\u001b[0;34m=\u001b[0m\u001b[0mdtype\u001b[0m\u001b[0;34m,\u001b[0m \u001b[0mout\u001b[0m\u001b[0;34m=\u001b[0m\u001b[0mout\u001b[0m\u001b[0;34m,\u001b[0m \u001b[0;34m**\u001b[0m\u001b[0mkwargs\u001b[0m\u001b[0;34m)\u001b[0m\u001b[0;34m\u001b[0m\u001b[0;34m\u001b[0m\u001b[0m\n\u001b[1;32m   3418\u001b[0m \u001b[0;34m\u001b[0m\u001b[0m\n\u001b[0;32m-> 3419\u001b[0;31m     return _methods._mean(a, axis=axis, dtype=dtype,\n\u001b[0m\u001b[1;32m   3420\u001b[0m                           out=out, **kwargs)\n\u001b[1;32m   3421\u001b[0m \u001b[0;34m\u001b[0m\u001b[0m\n",
            "\u001b[0;32m/mnt/bulky/oolaleke/mambaforge/envs/PSI_project/lib/python3.9/site-packages/numpy/core/_methods.py\u001b[0m in \u001b[0;36m_mean\u001b[0;34m(a, axis, dtype, out, keepdims, where)\u001b[0m\n\u001b[1;32m    160\u001b[0m \u001b[0;34m\u001b[0m\u001b[0m\n\u001b[1;32m    161\u001b[0m \u001b[0;32mdef\u001b[0m \u001b[0m_mean\u001b[0m\u001b[0;34m(\u001b[0m\u001b[0ma\u001b[0m\u001b[0;34m,\u001b[0m \u001b[0maxis\u001b[0m\u001b[0;34m=\u001b[0m\u001b[0;32mNone\u001b[0m\u001b[0;34m,\u001b[0m \u001b[0mdtype\u001b[0m\u001b[0;34m=\u001b[0m\u001b[0;32mNone\u001b[0m\u001b[0;34m,\u001b[0m \u001b[0mout\u001b[0m\u001b[0;34m=\u001b[0m\u001b[0;32mNone\u001b[0m\u001b[0;34m,\u001b[0m \u001b[0mkeepdims\u001b[0m\u001b[0;34m=\u001b[0m\u001b[0;32mFalse\u001b[0m\u001b[0;34m,\u001b[0m \u001b[0;34m*\u001b[0m\u001b[0;34m,\u001b[0m \u001b[0mwhere\u001b[0m\u001b[0;34m=\u001b[0m\u001b[0;32mTrue\u001b[0m\u001b[0;34m)\u001b[0m\u001b[0;34m:\u001b[0m\u001b[0;34m\u001b[0m\u001b[0;34m\u001b[0m\u001b[0m\n\u001b[0;32m--> 162\u001b[0;31m     \u001b[0marr\u001b[0m \u001b[0;34m=\u001b[0m \u001b[0masanyarray\u001b[0m\u001b[0;34m(\u001b[0m\u001b[0ma\u001b[0m\u001b[0;34m)\u001b[0m\u001b[0;34m\u001b[0m\u001b[0;34m\u001b[0m\u001b[0m\n\u001b[0m\u001b[1;32m    163\u001b[0m \u001b[0;34m\u001b[0m\u001b[0m\n\u001b[1;32m    164\u001b[0m     \u001b[0mis_float16_result\u001b[0m \u001b[0;34m=\u001b[0m \u001b[0;32mFalse\u001b[0m\u001b[0;34m\u001b[0m\u001b[0;34m\u001b[0m\u001b[0m\n",
            "\u001b[0;32m/mnt/bulky/oolaleke/mambaforge/envs/PSI_project/lib/python3.9/site-packages/numpy/core/_asarray.py\u001b[0m in \u001b[0;36masanyarray\u001b[0;34m(a, dtype, order, like)\u001b[0m\n\u001b[1;32m    169\u001b[0m         \u001b[0;32mreturn\u001b[0m \u001b[0m_asanyarray_with_like\u001b[0m\u001b[0;34m(\u001b[0m\u001b[0ma\u001b[0m\u001b[0;34m,\u001b[0m \u001b[0mdtype\u001b[0m\u001b[0;34m=\u001b[0m\u001b[0mdtype\u001b[0m\u001b[0;34m,\u001b[0m \u001b[0morder\u001b[0m\u001b[0;34m=\u001b[0m\u001b[0morder\u001b[0m\u001b[0;34m,\u001b[0m \u001b[0mlike\u001b[0m\u001b[0;34m=\u001b[0m\u001b[0mlike\u001b[0m\u001b[0;34m)\u001b[0m\u001b[0;34m\u001b[0m\u001b[0;34m\u001b[0m\u001b[0m\n\u001b[1;32m    170\u001b[0m \u001b[0;34m\u001b[0m\u001b[0m\n\u001b[0;32m--> 171\u001b[0;31m     \u001b[0;32mreturn\u001b[0m \u001b[0marray\u001b[0m\u001b[0;34m(\u001b[0m\u001b[0ma\u001b[0m\u001b[0;34m,\u001b[0m \u001b[0mdtype\u001b[0m\u001b[0;34m,\u001b[0m \u001b[0mcopy\u001b[0m\u001b[0;34m=\u001b[0m\u001b[0;32mFalse\u001b[0m\u001b[0;34m,\u001b[0m \u001b[0morder\u001b[0m\u001b[0;34m=\u001b[0m\u001b[0morder\u001b[0m\u001b[0;34m,\u001b[0m \u001b[0msubok\u001b[0m\u001b[0;34m=\u001b[0m\u001b[0;32mTrue\u001b[0m\u001b[0;34m)\u001b[0m\u001b[0;34m\u001b[0m\u001b[0;34m\u001b[0m\u001b[0m\n\u001b[0m\u001b[1;32m    172\u001b[0m \u001b[0;34m\u001b[0m\u001b[0m\n\u001b[1;32m    173\u001b[0m \u001b[0;34m\u001b[0m\u001b[0m\n",
            "\u001b[0;31mKeyboardInterrupt\u001b[0m: "
          ]
        }
      ]
    },
    {
      "cell_type": "code",
      "execution_count": 121,
      "metadata": {},
      "outputs": [],
      "source": [
        "best_rank= 10 \n",
        "best_reg = 0.01 \n",
        "best_iter = 30 \n",
        "best_alpha = 100\n",
        "best_auc= 0.981234"
      ]
    },
    {
      "cell_type": "code",
      "metadata": {
        "id": "_DYBxq1L936w"
      },
      "source": [
        "#best_rank, best_reg, best_iter,best_alpha,best_auc,best_model = best_model_Info\n",
        "print('best_rank: ', best_rank)\n",
        "print('best_reg:  ', best_reg)\n",
        "print('best_iter: ', best_iter)\n",
        "print('best_alpha: ', best_alpha)\n",
        "print('best_auc:  ', best_auc)"
      ],
      "execution_count": 122,
      "outputs": [
        {
          "output_type": "stream",
          "name": "stdout",
          "text": [
            "best_rank:  10\nbest_reg:   0.01\nbest_iter:  30\nbest_alpha:  100\nbest_auc:   0.981234\n"
          ]
        }
      ]
    },
    {
      "cell_type": "markdown",
      "metadata": {
        "id": "vjHCbHid5pqD"
      },
      "source": [
        "###RatMat & Updt"
      ]
    },
    {
      "cell_type": "code",
      "metadata": {
        "id": "x5xQk58a5pqG",
        "outputId": "e3b1b61c-4d5b-4913-9d5a-1a9528958c35"
      },
      "source": [
        "rows_i = newMLDF_20M['Updated_UserID'].nunique()\n",
        "cols_i = newMLDF_20M['Updated_ItemID'].nunique()\n",
        "UserItem_RatMAT = AllRatingMatrices(newUserItem_list,'Updated_UserID','Updated_ItemID',rows_i ,cols_i) ##Same as UserItemMAT_regPSI\n",
        "UserItem_RatMAT"
      ],
      "execution_count": 123,
      "outputs": [
        {
          "output_type": "execute_result",
          "data": {
            "text/plain": [
              "[<136677x20720 sparse matrix of type '<class 'numpy.float64'>'\n",
              " \twith 8865107 stored elements in Compressed Sparse Row format>,\n",
              " <136677x20720 sparse matrix of type '<class 'numpy.float64'>'\n",
              " \twith 8945455 stored elements in Compressed Sparse Row format>,\n",
              " <136677x20720 sparse matrix of type '<class 'numpy.float64'>'\n",
              " \twith 9025842 stored elements in Compressed Sparse Row format>,\n",
              " <136677x20720 sparse matrix of type '<class 'numpy.float64'>'\n",
              " \twith 9106051 stored elements in Compressed Sparse Row format>,\n",
              " <136677x20720 sparse matrix of type '<class 'numpy.float64'>'\n",
              " \twith 9186201 stored elements in Compressed Sparse Row format>,\n",
              " <136677x20720 sparse matrix of type '<class 'numpy.float64'>'\n",
              " \twith 9266468 stored elements in Compressed Sparse Row format>,\n",
              " <136677x20720 sparse matrix of type '<class 'numpy.float64'>'\n",
              " \twith 9346597 stored elements in Compressed Sparse Row format>,\n",
              " <136677x20720 sparse matrix of type '<class 'numpy.float64'>'\n",
              " \twith 9426837 stored elements in Compressed Sparse Row format>,\n",
              " <136677x20720 sparse matrix of type '<class 'numpy.float64'>'\n",
              " \twith 9506974 stored elements in Compressed Sparse Row format>,\n",
              " <136677x20720 sparse matrix of type '<class 'numpy.float64'>'\n",
              " \twith 9586957 stored elements in Compressed Sparse Row format>,\n",
              " <136677x20720 sparse matrix of type '<class 'numpy.float64'>'\n",
              " \twith 9667299 stored elements in Compressed Sparse Row format>,\n",
              " <136677x20720 sparse matrix of type '<class 'numpy.float64'>'\n",
              " \twith 9747689 stored elements in Compressed Sparse Row format>,\n",
              " <136677x20720 sparse matrix of type '<class 'numpy.float64'>'\n",
              " \twith 9828194 stored elements in Compressed Sparse Row format>,\n",
              " <136677x20720 sparse matrix of type '<class 'numpy.float64'>'\n",
              " \twith 9908522 stored elements in Compressed Sparse Row format>,\n",
              " <136677x20720 sparse matrix of type '<class 'numpy.float64'>'\n",
              " \twith 9987952 stored elements in Compressed Sparse Row format>]"
            ]
          },
          "metadata": {},
          "execution_count": 123
        }
      ]
    },
    {
      "cell_type": "code",
      "metadata": {
        "id": "-AQfKIXEtTlC"
      },
      "source": [],
      "execution_count": null,
      "outputs": []
    },
    {
      "cell_type": "code",
      "metadata": {
        "colab": {
          "base_uri": "https://localhost:8080/"
        },
        "id": "JQrN9_fh5pqL",
        "outputId": "fe099c50-df55-458f-e6c5-5e4d308d0155"
      },
      "source": [
        "nuser_list = []\n",
        "nItem_list = []\n",
        "for df in  newUserItem_list:\n",
        "    nuser_list.append(df['Updated_UserID'].max()+1)\n",
        "    nItem_list.append(df['Updated_ItemID'].max()+1)\n",
        "\n",
        "nuser_list = [0] + nuser_list  \n",
        "nItem_list = [0] + nItem_list  \n",
        "\n",
        "print(nuser_list)\n",
        "print(nItem_list) "
      ],
      "execution_count": 124,
      "outputs": [
        {
          "output_type": "stream",
          "name": "stdout",
          "text": [
            "[0, 122397, 123313, 124424, 125346, 126345, 127271, 128218, 129237, 130492, 131633, 132813, 133828, 134780, 135653, 136677]\n[0, 15298, 15601, 15879, 16183, 16532, 16862, 17224, 17569, 17957, 18382, 18826, 19226, 19703, 20238, 20720]\n"
          ]
        }
      ]
    },
    {
      "cell_type": "code",
      "metadata": {
        "colab": {
          "base_uri": "https://localhost:8080/"
        },
        "id": "MwTOl3Zw5pqN",
        "outputId": "9e3ba5db-7a86-4af1-fad5-cf98485e992d"
      },
      "source": [
        "## latent factors= 10 ,regularization = 0.01:, n_iter = 30, alpha = 100,\n",
        "Ulist_als,Vlist_als = alternating_least_squares_cg(UserItem_RatMAT[-1],nuser_list,nItem_list,factors=10,alpha=100,reglr=0.01,iter=30)\n",
        "print(len(Ulist_als))  \n",
        "Ulist_als[:2]"
      ],
      "execution_count": 125,
      "outputs": [
        {
          "output_type": "stream",
          "name": "stderr",
          "text": [
            "15it [3:42:41, 890.79s/it]15\n",
            "\n"
          ]
        },
        {
          "output_type": "execute_result",
          "data": {
            "text/plain": [
              "[array([[  5.28960945,  -3.47666675, -11.35418894, ..., -13.44966809,\n",
              "          -0.12086596,   9.11610477],\n",
              "        [ 10.47963892,  -2.29918768,  -4.82125089, ...,  -6.64665462,\n",
              "          -6.11842063,   5.03027435],\n",
              "        [  6.067721  ,  -1.11676687,  -4.3791496 , ..., -11.69010428,\n",
              "         -11.42126117,   5.41734081],\n",
              "        ...,\n",
              "        [  8.92934911,  -2.93698352,  -2.07587963, ...,  -8.60711546,\n",
              "           2.9300254 ,  -5.07105461],\n",
              "        [  5.41032867,   0.5365421 ,  -6.76302212, ..., -10.53108666,\n",
              "           5.12894852,  -4.94637789],\n",
              "        [ 14.26189166,   3.68644619,   3.00248255, ..., -17.80604756,\n",
              "           4.09919732,  -2.77420875]]),\n",
              " array([[  5.28960945,  -3.47666675, -11.35418894, ..., -13.44966809,\n",
              "          -0.12086596,   9.11610477],\n",
              "        [ 10.47963892,  -2.29918768,  -4.82125089, ...,  -6.64665462,\n",
              "          -6.11842063,   5.03027435],\n",
              "        [  6.067721  ,  -1.11676687,  -4.3791496 , ..., -11.69010428,\n",
              "         -11.42126117,   5.41734081],\n",
              "        ...,\n",
              "        [  8.92934911,  -2.93698352,  -2.07587963, ...,  -8.60711546,\n",
              "           2.9300254 ,  -5.07105461],\n",
              "        [  5.41032867,   0.5365421 ,  -6.76302212, ..., -10.53108666,\n",
              "           5.12894852,  -4.94637789],\n",
              "        [ 14.26189166,   3.68644619,   3.00248255, ..., -17.80604756,\n",
              "           4.09919732,  -2.77420875]])]"
            ]
          },
          "metadata": {},
          "execution_count": 125
        }
      ]
    },
    {
      "cell_type": "code",
      "metadata": {
        "id": "GeUirxvG5pqQ"
      },
      "source": [
        "Ulist_als[0].shape"
      ],
      "execution_count": 126,
      "outputs": [
        {
          "output_type": "execute_result",
          "data": {
            "text/plain": [
              "(136677, 10)"
            ]
          },
          "metadata": {},
          "execution_count": 126
        }
      ]
    },
    {
      "cell_type": "markdown",
      "metadata": {
        "id": "EpIR1Dk_5pqS"
      },
      "source": [
        "### ilsAll Pred"
      ]
    },
    {
      "cell_type": "code",
      "metadata": {
        "id": "oOASTtvn5pqT",
        "outputId": "2099c143-4973-4b04-9ae2-d5a7a2f7a672"
      },
      "source": [
        "##All prediction:\n",
        "All_alsPRED_List = ialsALLPred_ALLUSERS(UserItem_RatMAT,Ulist_als,Vlist_als,N=10)\n",
        "print(len(All_alsPRED_List))\n",
        "All_alsPRED_List[:2]"
      ],
      "execution_count": 127,
      "outputs": [
        {
          "output_type": "stream",
          "name": "stdout",
          "text": [
            "15\n"
          ]
        },
        {
          "output_type": "execute_result",
          "data": {
            "text/plain": [
              "[array([[ 140,   17,  261, ...,  948,  151, 1215],\n",
              "        [  78,  149,  105, ...,  138,   89,  191],\n",
              "        [ 129,  124,  179, ...,  609,  205,   63],\n",
              "        ...,\n",
              "        [  78,  135,  149, ...,  105,   15,   58],\n",
              "        [2630, 4750, 5632, ..., 4032, 4137,  861],\n",
              "        [ 135, 1062,   14, ...,   20,  969, 1052]]),\n",
              " array([[ 140,   17,  261, ...,  948,  151, 1215],\n",
              "        [  78,  149,  105, ...,  138,   89,  191],\n",
              "        [ 129,  124,  179, ...,  609,  205,   63],\n",
              "        ...,\n",
              "        [  78,  135,  149, ...,  105,   15,   58],\n",
              "        [2630, 4750, 5632, ..., 4032, 4137,  861],\n",
              "        [ 135, 1062,   14, ...,   20,  969, 1052]])]"
            ]
          },
          "metadata": {},
          "execution_count": 127
        }
      ]
    },
    {
      "cell_type": "code",
      "metadata": {
        "id": "IYPmNPdaCY1d"
      },
      "source": [
        "All_alsPRED_List[0].shape"
      ],
      "execution_count": 128,
      "outputs": [
        {
          "output_type": "execute_result",
          "data": {
            "text/plain": [
              "(136677, 10)"
            ]
          },
          "metadata": {},
          "execution_count": 128
        }
      ]
    },
    {
      "cell_type": "code",
      "metadata": {
        "id": "3bEEVRap5pqX"
      },
      "source": [
        "with open('MLDF20M_iALS_AllPRED.pkl', 'wb') as f:\n",
        "     pickle.dump(All_alsPRED_List, f)\n"
      ],
      "execution_count": 129,
      "outputs": []
    },
    {
      "cell_type": "code",
      "metadata": {
        "id": "fG3RC_5y5pqZ"
      },
      "source": [],
      "execution_count": null,
      "outputs": []
    },
    {
      "cell_type": "markdown",
      "metadata": {
        "id": "ex_fBepRvk5I"
      },
      "source": [
        "##  RandRec:Test"
      ]
    },
    {
      "cell_type": "code",
      "metadata": {
        "colab": {
          "base_uri": "https://localhost:8080/"
        },
        "id": "42RCvm1dlZNu",
        "outputId": "485957b6-7ebc-4c72-baac-94e7c3c51671"
      },
      "source": [
        "print(len(SVD_UserItemMAT),len(newHOLDOUT_LIST))"
      ],
      "execution_count": 130,
      "outputs": [
        {
          "output_type": "stream",
          "name": "stdout",
          "text": [
            "15 15\n"
          ]
        }
      ]
    },
    {
      "cell_type": "code",
      "metadata": {
        "id": "eMuYANAS8NHY",
        "outputId": "23484f2c-75c8-4649-97c7-6b930e2a39a9"
      },
      "source": [
        "All_UsersRRecPred = get_ALLRandPred(SVD_UserItemMAT,'Updated_UserID',N=10)\n",
        "All_UsersRRecPred[:2]  "
      ],
      "execution_count": 131,
      "outputs": [
        {
          "output_type": "stream",
          "name": "stderr",
          "text": [
            "100%|██████████| 15/15 [15:04<00:00, 60.33s/it]\n"
          ]
        },
        {
          "output_type": "execute_result",
          "data": {
            "text/plain": [
              "[array([[10399,  9457, 10652, ..., 20293,  9969, 13074],\n",
              "        [17381,  9187, 19470, ..., 14438,  6737,  1733],\n",
              "        [ 1731,  9052,  7557, ..., 12049, 13872,  9385],\n",
              "        ...,\n",
              "        [ 6374,  1653,   274, ..., 11490,  2060, 19305],\n",
              "        [17965,  1419, 12976, ...,  9405, 14280,  4617],\n",
              "        [17993, 15722,  5623, ..., 10584,  5186, 20247]]),\n",
              " array([[ 7497, 10920, 17390, ...,  1635, 18499, 10468],\n",
              "        [10507, 15677,  3154, ...,  3331, 16174,  4025],\n",
              "        [ 5266, 14584,  6137, ..., 14818,  7548,  1695],\n",
              "        ...,\n",
              "        [18879,  6476,  5348, ...,  4450, 12138,  8014],\n",
              "        [ 8858,  8683, 15085, ..., 19253,  4969,   121],\n",
              "        [ 5690, 14254,   503, ..., 19807,  4225, 17752]])]"
            ]
          },
          "metadata": {},
          "execution_count": 131
        }
      ]
    },
    {
      "cell_type": "code",
      "metadata": {
        "colab": {
          "base_uri": "https://localhost:8080/"
        },
        "id": "TBkzzmmFlZNz",
        "outputId": "f066dac9-b2a2-4c9a-d9b8-eba929a11b75"
      },
      "source": [
        "All_UsersRRecPred[1].shape"
      ],
      "execution_count": 132,
      "outputs": [
        {
          "output_type": "execute_result",
          "data": {
            "text/plain": [
              "(136677, 10)"
            ]
          },
          "metadata": {},
          "execution_count": 132
        }
      ]
    },
    {
      "cell_type": "code",
      "metadata": {
        "id": "80XlCcJS8NHZ"
      },
      "source": [
        "with open('MLDF20M_RRec_AllPRED.pkl', 'wb') as f:\n",
        "     pickle.dump(All_UsersRRecPred, f)\n"
      ],
      "execution_count": 133,
      "outputs": []
    },
    {
      "cell_type": "code",
      "metadata": {
        "id": "_YumCnLur0p_"
      },
      "source": [],
      "execution_count": null,
      "outputs": []
    },
    {
      "cell_type": "markdown",
      "metadata": {
        "id": "XTkVUSBi4sgE"
      },
      "source": [
        "## Most Pop Rec"
      ]
    },
    {
      "cell_type": "code",
      "execution_count": null,
      "metadata": {},
      "outputs": [],
      "source": []
    },
    {
      "cell_type": "code",
      "metadata": {
        "id": "A-V7Lj0H8NHl",
        "outputId": "973422c8-813d-4bf7-d007-9c95f3fb1cf1"
      },
      "source": [
        "                      #getAll_MOSTPOP_Pred(DF_list,user_column,item_colum,Nusers,N\n",
        "Nusers = newMLDF_20M['Updated_UserID'].nunique()\n",
        "All_MostPOPRED_List =  getAll_MOSTPOP_Pred(new_PSIDFlist,'Updated_UserID','Updated_ItemID',Nusers,N=10)\n",
        "All_MostPOPRED_List[:2]"
      ],
      "execution_count": 134,
      "outputs": [
        {
          "output_type": "execute_result",
          "data": {
            "text/plain": [
              "[array([[13086,  2770,    78, ...,    92,  6760,  5632],\n",
              "        [13086,  2770,    78, ...,    92,  6760,  5632],\n",
              "        [13086,  2770,    78, ...,    92,  6760,  5632],\n",
              "        ...,\n",
              "        [13086,  2770,    78, ...,    92,  6760,  5632],\n",
              "        [13086,  2770,    78, ...,    92,  6760,  5632],\n",
              "        [13086,  2770,    78, ...,    92,  6760,  5632]]),\n",
              " array([[13086,  2770,    76, ...,  4750,  6760,  5632],\n",
              "        [13086,  2770,    76, ...,  4750,  6760,  5632],\n",
              "        [13086,  2770,    76, ...,  4750,  6760,  5632],\n",
              "        ...,\n",
              "        [13086,  2770,    76, ...,  4750,  6760,  5632],\n",
              "        [13086,  2770,    76, ...,  4750,  6760,  5632],\n",
              "        [13086,  2770,    76, ...,  4750,  6760,  5632]])]"
            ]
          },
          "metadata": {},
          "execution_count": 134
        }
      ]
    },
    {
      "cell_type": "code",
      "metadata": {
        "colab": {
          "base_uri": "https://localhost:8080/"
        },
        "id": "dwtyYptbxT1n",
        "outputId": "79b08aa3-3f9e-40e7-a037-7bbec7b343a1"
      },
      "source": [
        "All_MostPOPRED_List[1].shape"
      ],
      "execution_count": 135,
      "outputs": [
        {
          "output_type": "execute_result",
          "data": {
            "text/plain": [
              "(136677, 10)"
            ]
          },
          "metadata": {},
          "execution_count": 135
        }
      ]
    },
    {
      "cell_type": "code",
      "metadata": {
        "id": "AoBZNlPu8NHr"
      },
      "source": [
        "with open('MLDF20M_MPop_allPRED.pkl', 'wb') as f:\n",
        "     pickle.dump(All_MostPOPRED_List, f)\n"
      ],
      "execution_count": 136,
      "outputs": []
    },
    {
      "cell_type": "markdown",
      "metadata": {
        "id": "krCIIB8flw0U"
      },
      "source": [
        "## HitRate"
      ]
    },
    {
      "cell_type": "markdown",
      "metadata": {
        "id": "FZd_vVsPpIqV"
      },
      "source": [
        "### Updated PSI"
      ]
    },
    {
      "cell_type": "code",
      "metadata": {
        "colab": {
          "base_uri": "https://localhost:8080/"
        },
        "id": "LtlchmQtHN5c",
        "outputId": "5774d60b-ae54-4fad-f2ae-9cfe8fbbefd5"
      },
      "source": [
        "Top_NPred = TopNPred(UserItem_Matupdt[0],newHOLDOUT_LIST[0],V_1,'Updated_UserID',10)\n",
        "Top_NPred"
      ],
      "execution_count": 137,
      "outputs": [
        {
          "output_type": "execute_result",
          "data": {
            "text/plain": [
              "array([[2560, 1072, 4744, ..., 3041,  829, 3815],\n",
              "       [ 980, 2250, 4652, ..., 1624, 4061, 1911],\n",
              "       [2180,  532, 9037, ...,  144, 1466, 1066],\n",
              "       ...,\n",
              "       [ 180,  179, 1923, ...,  352,  781,  869],\n",
              "       [1109,  144, 1115, ..., 2501, 1460, 1630],\n",
              "       [2469, 1460,  157, ..., 2340, 2630, 2502]])"
            ]
          },
          "metadata": {},
          "execution_count": 137
        }
      ]
    },
    {
      "cell_type": "code",
      "metadata": {
        "colab": {
          "base_uri": "https://localhost:8080/"
        },
        "id": "Ql0pwhxeHN5g",
        "outputId": "c7eee04a-f906-4789-e52e-89d7fdfd71d2"
      },
      "source": [
        "Hitrate_Eval(newHOLDOUT_LIST[0],Top_NPred,'Updated_UserID','Updated_ItemID')"
      ],
      "execution_count": 138,
      "outputs": [
        {
          "output_type": "stream",
          "name": "stdout",
          "text": [
            "Number of hits:  185\nTotal Num of users:  3459\nRecommendation HitRate:  0.05348366579936398\n"
          ]
        },
        {
          "output_type": "execute_result",
          "data": {
            "text/plain": [
              "0.05348366579936398"
            ]
          },
          "metadata": {},
          "execution_count": 138
        }
      ]
    },
    {
      "cell_type": "code",
      "metadata": {
        "colab": {
          "base_uri": "https://localhost:8080/"
        },
        "id": "8J8LC6tDAiir",
        "outputId": "38d39465-88e3-44fc-cd8e-1930185d0047"
      },
      "source": [
        "AllUpdt_pred =  TQDMgetALLTopNPred(UserItem_Matupdt,newHOLDOUT_LIST,Vpsi_listUpdt,'Updated_UserID',N = 10)\n",
        "print(len(AllUpdt_pred))\n",
        "AllUpdt_pred[:2]"
      ],
      "execution_count": 139,
      "outputs": [
        {
          "output_type": "stream",
          "name": "stderr",
          "text": [
            "15it [00:11,  1.31it/s]15\n",
            "\n"
          ]
        },
        {
          "output_type": "execute_result",
          "data": {
            "text/plain": [
              "[array([[2560, 1072, 4744, ..., 3041,  829, 3815],\n",
              "        [ 980, 2250, 4652, ..., 1624, 4061, 1911],\n",
              "        [2180,  532, 9037, ...,  144, 1466, 1066],\n",
              "        ...,\n",
              "        [ 180,  179, 1923, ...,  352,  781,  869],\n",
              "        [1109,  144, 1115, ..., 2501, 1460, 1630],\n",
              "        [2469, 1460,  157, ..., 2340, 2630, 2502]]),\n",
              " array([[2560, 1072, 4744, ..., 3041, 9331, 8837],\n",
              "        [ 980, 2250, 4652, ..., 1624, 4061, 1911],\n",
              "        [1300,  603, 1086, ..., 2560,  267,  663],\n",
              "        ...,\n",
              "        [2707,  969, 1763, ..., 1319, 4724, 2008],\n",
              "        [1829, 1055, 2770, ..., 1070, 1807, 4080],\n",
              "        [4724, 8837, 8928, ..., 8958, 4032, 9331]])]"
            ]
          },
          "metadata": {},
          "execution_count": 139
        }
      ]
    },
    {
      "cell_type": "code",
      "metadata": {
        "colab": {
          "base_uri": "https://localhost:8080/"
        },
        "id": "Osi894h4Aiiv",
        "outputId": "230d7213-4baf-4ea5-eb7b-b98c616ca36a"
      },
      "source": [
        "AllSteps_HitR_updt, LowerBand_updt, Avg_HitR_updt, UpperBand_updt   = getAll_HitRate(newHOLDOUT_LIST,AllUpdt_pred,'Updated_UserID','Updated_ItemID')\n",
        "AllSteps_HitR_updt"
      ],
      "execution_count": 140,
      "outputs": [
        {
          "output_type": "stream",
          "name": "stdout",
          "text": [
            "Number of hits:  185\nTotal Num of users:  3459\nRecommendation HitRate:  0.05348366579936398\nNumber of hits:  160\nTotal Num of users:  3311\nRecommendation HitRate:  0.048323769254001815\nNumber of hits:  163\nTotal Num of users:  3124\nRecommendation HitRate:  0.052176696542893725\nNumber of hits:  160\nTotal Num of users:  3115\nRecommendation HitRate:  0.051364365971107544\nNumber of hits:  173\nTotal Num of users:  3165\nRecommendation HitRate:  0.05466034755134281\nNumber of hits:  154\nTotal Num of users:  3098\nRecommendation HitRate:  0.04970948999354422\nNumber of hits:  136\nTotal Num of users:  3169\nRecommendation HitRate:  0.04291574629220574\nNumber of hits:  168\nTotal Num of users:  3129\nRecommendation HitRate:  0.053691275167785234\nNumber of hits:  186\nTotal Num of users:  3192\nRecommendation HitRate:  0.05827067669172932\nNumber of hits:  183\nTotal Num of users:  3409\nRecommendation HitRate:  0.05368143150484013\nNumber of hits:  182\nTotal Num of users:  3267\nRecommendation HitRate:  0.05570860116314662\nNumber of hits:  155\nTotal Num of users:  3077\nRecommendation HitRate:  0.05037374065648359\nNumber of hits:  165\nTotal Num of users:  2772\nRecommendation HitRate:  0.05952380952380952\nNumber of hits:  142\nTotal Num of users:  2644\nRecommendation HitRate:  0.05370650529500756\nNumber of hits:  160\nTotal Num of users:  2730\nRecommendation HitRate:  0.05860805860805861\nAverage HitRate for All Recommendations:  0.05307987866768803\n"
          ]
        },
        {
          "output_type": "execute_result",
          "data": {
            "text/plain": [
              "[0.05348366579936398,\n",
              " 0.048323769254001815,\n",
              " 0.052176696542893725,\n",
              " 0.051364365971107544,\n",
              " 0.05466034755134281,\n",
              " 0.04970948999354422,\n",
              " 0.04291574629220574,\n",
              " 0.053691275167785234,\n",
              " 0.05827067669172932,\n",
              " 0.05368143150484013,\n",
              " 0.05570860116314662,\n",
              " 0.05037374065648359,\n",
              " 0.05952380952380952,\n",
              " 0.05370650529500756,\n",
              " 0.05860805860805861]"
            ]
          },
          "metadata": {},
          "execution_count": 140
        }
      ]
    },
    {
      "cell_type": "code",
      "metadata": {
        "id": "3-FkHqn-pB_G"
      },
      "source": [
        "print(LowerBand_updt)\n",
        "print(UpperBand_updt)\n",
        "print(Avg_HitR_updt)"
      ],
      "execution_count": 141,
      "outputs": [
        {
          "output_type": "stream",
          "name": "stdout",
          "text": [
            "0.05070211425418469\n0.05545764308119137\n0.05307987866768803\n"
          ]
        }
      ]
    },
    {
      "cell_type": "code",
      "metadata": {
        "id": "wvVmP30opBuv"
      },
      "source": [],
      "execution_count": null,
      "outputs": []
    },
    {
      "cell_type": "markdown",
      "metadata": {
        "id": "KcaJU4aApEpg"
      },
      "source": [
        "### Regular PSI"
      ]
    },
    {
      "cell_type": "code",
      "metadata": {
        "colab": {
          "base_uri": "https://localhost:8080/"
        },
        "id": "c9jUgHkKAhbi",
        "outputId": "be5430ee-3931-400d-8944-8c8126127ea2"
      },
      "source": [
        "Top10Pred_psi = TopNPred(UserItemMAT_regPSI[0], newHOLDOUT_LIST[0],Vpsi_listReg[0],'Updated_UserID',N=10)\n",
        "print(Top10Pred_psi.shape)"
      ],
      "execution_count": 142,
      "outputs": [
        {
          "output_type": "stream",
          "name": "stdout",
          "text": [
            "(3459, 10)\n"
          ]
        }
      ]
    },
    {
      "cell_type": "code",
      "metadata": {
        "colab": {
          "base_uri": "https://localhost:8080/"
        },
        "id": "u1sFaxNBAhc2",
        "outputId": "a221cdb8-2cb0-4ae9-b4b2-eace696881c5"
      },
      "source": [
        "Hitrate_Eval(newHOLDOUT_LIST[0],Top10Pred_psi,'Updated_UserID','Updated_ItemID')"
      ],
      "execution_count": 143,
      "outputs": [
        {
          "output_type": "stream",
          "name": "stdout",
          "text": [
            "Number of hits:  183\nTotal Num of users:  3459\nRecommendation HitRate:  0.05290546400693842\n"
          ]
        },
        {
          "output_type": "execute_result",
          "data": {
            "text/plain": [
              "0.05290546400693842"
            ]
          },
          "metadata": {},
          "execution_count": 143
        }
      ]
    },
    {
      "cell_type": "code",
      "metadata": {
        "colab": {
          "base_uri": "https://localhost:8080/"
        },
        "id": "oUDxtIohbVj8",
        "outputId": "48677220-09c6-4c42-bb00-17236691f54f"
      },
      "source": [
        "All_regPSI_PRED =  TQDMgetALLTopNPred(UserItemMAT_regPSI,newHOLDOUT_LIST,Vpsi_listReg,'Updated_UserID',N = 10)\n",
        "print(len(All_regPSI_PRED))\n",
        "All_regPSI_PRED[:2]"
      ],
      "execution_count": 144,
      "outputs": [
        {
          "output_type": "stream",
          "name": "stderr",
          "text": [
            "15it [00:10,  1.42it/s]15\n",
            "\n"
          ]
        },
        {
          "output_type": "execute_result",
          "data": {
            "text/plain": [
              "[array([[2560, 1072, 4744, ..., 3041,  829, 3815],\n",
              "        [ 980, 2250, 4652, ..., 1624, 4061, 1911],\n",
              "        [2180,  532, 9037, ...,  144, 1466, 1066],\n",
              "        ...,\n",
              "        [ 180,  179, 1923, ...,  352,  781,  869],\n",
              "        [1109,  144, 1115, ..., 2501, 1460, 1630],\n",
              "        [2469, 1460,  157, ..., 2340, 2630, 2502]]),\n",
              " array([[2560, 1072, 4744, ..., 3041, 9331, 8837],\n",
              "        [ 980, 2250, 4652, ..., 1624, 4061, 1911],\n",
              "        [1300,  603, 1086, ..., 2560,  267,  663],\n",
              "        ...,\n",
              "        [2707,  969, 1763, ..., 1319, 4724, 2008],\n",
              "        [1829, 1055, 2770, ..., 1070, 4080, 1807],\n",
              "        [4724, 8837, 8928, ..., 8958, 4032, 4652]])]"
            ]
          },
          "metadata": {},
          "execution_count": 144
        }
      ]
    },
    {
      "cell_type": "code",
      "metadata": {
        "colab": {
          "base_uri": "https://localhost:8080/"
        },
        "id": "2ZnpolG9A7KZ",
        "outputId": "e843ebf9-2b5e-410b-84d5-21a21489fb4e"
      },
      "source": [
        "AllSteps_Hitrate_psi, LowerBand, Avg_HitRate, UpperBand   = getAll_HitRate(newHOLDOUT_LIST,All_regPSI_PRED,'Updated_UserID','Updated_ItemID')\n",
        "AllSteps_Hitrate_psi"
      ],
      "execution_count": 145,
      "outputs": [
        {
          "output_type": "stream",
          "name": "stdout",
          "text": [
            "Number of hits:  183\nTotal Num of users:  3459\nRecommendation HitRate:  0.05290546400693842\nNumber of hits:  160\nTotal Num of users:  3311\nRecommendation HitRate:  0.048323769254001815\nNumber of hits:  163\nTotal Num of users:  3124\nRecommendation HitRate:  0.052176696542893725\nNumber of hits:  164\nTotal Num of users:  3115\nRecommendation HitRate:  0.05264847512038523\nNumber of hits:  173\nTotal Num of users:  3165\nRecommendation HitRate:  0.05466034755134281\nNumber of hits:  152\nTotal Num of users:  3098\nRecommendation HitRate:  0.04906391220142027\nNumber of hits:  140\nTotal Num of users:  3169\nRecommendation HitRate:  0.044177974124329444\nNumber of hits:  167\nTotal Num of users:  3129\nRecommendation HitRate:  0.05337168424416747\nNumber of hits:  187\nTotal Num of users:  3192\nRecommendation HitRate:  0.05858395989974937\nNumber of hits:  182\nTotal Num of users:  3409\nRecommendation HitRate:  0.053388090349075976\nNumber of hits:  181\nTotal Num of users:  3267\nRecommendation HitRate:  0.055402509947964494\nNumber of hits:  154\nTotal Num of users:  3077\nRecommendation HitRate:  0.05004874878128047\nNumber of hits:  166\nTotal Num of users:  2772\nRecommendation HitRate:  0.05988455988455989\nNumber of hits:  143\nTotal Num of users:  2644\nRecommendation HitRate:  0.054084720121028745\nNumber of hits:  162\nTotal Num of users:  2730\nRecommendation HitRate:  0.05934065934065934\nAverage HitRate for All Recommendations:  0.053204104757986495\n"
          ]
        },
        {
          "output_type": "execute_result",
          "data": {
            "text/plain": [
              "[0.05290546400693842,\n",
              " 0.048323769254001815,\n",
              " 0.052176696542893725,\n",
              " 0.05264847512038523,\n",
              " 0.05466034755134281,\n",
              " 0.04906391220142027,\n",
              " 0.044177974124329444,\n",
              " 0.05337168424416747,\n",
              " 0.05858395989974937,\n",
              " 0.053388090349075976,\n",
              " 0.055402509947964494,\n",
              " 0.05004874878128047,\n",
              " 0.05988455988455989,\n",
              " 0.054084720121028745,\n",
              " 0.05934065934065934]"
            ]
          },
          "metadata": {},
          "execution_count": 145
        }
      ]
    },
    {
      "cell_type": "code",
      "metadata": {
        "id": "Ak2Iuz1mrPwE"
      },
      "source": [
        "print(LowerBand, Avg_HitRate, UpperBand)"
      ],
      "execution_count": 146,
      "outputs": [
        {
          "output_type": "stream",
          "name": "stdout",
          "text": [
            "0.05085060616484444 0.053204104757986495 0.05555760335112855\n"
          ]
        }
      ]
    },
    {
      "cell_type": "markdown",
      "metadata": {
        "id": "HQB5V56-rLfg"
      },
      "source": [
        "### SVD HItR_"
      ]
    },
    {
      "cell_type": "code",
      "metadata": {
        "colab": {
          "base_uri": "https://localhost:8080/"
        },
        "id": "WnCO3ZL96e4I",
        "outputId": "364ac4f0-b337-49d1-b2ca-8c8eced89c9f"
      },
      "source": [
        "Top10Pred_SVD = TopNPred(SVD_UserItemMAT[0],newHOLDOUT_LIST[0],Vsvd_list[0],'Updated_UserID',N=10)\n",
        "print(Top10Pred_SVD.shape)\n",
        "Top10Pred_SVD"
      ],
      "execution_count": 147,
      "outputs": [
        {
          "output_type": "stream",
          "name": "stdout",
          "text": [
            "(3459, 10)\n"
          ]
        },
        {
          "output_type": "execute_result",
          "data": {
            "text/plain": [
              "array([[4744, 2560, 1072, ..., 1069, 1070,  829],\n",
              "       [ 980, 4652, 2250, ..., 4061, 1624, 1911],\n",
              "       [2180,  532, 6381, ..., 1466, 3407,    1],\n",
              "       ...,\n",
              "       [ 180,  352,  179, ..., 1909,  969, 1917],\n",
              "       [ 144, 1109, 1115, ..., 2542, 2501,  198],\n",
              "       [2469, 1460,  157, ..., 2340, 2630, 2502]])"
            ]
          },
          "metadata": {},
          "execution_count": 147
        }
      ]
    },
    {
      "cell_type": "code",
      "metadata": {
        "colab": {
          "base_uri": "https://localhost:8080/"
        },
        "id": "_y8C9P5hr-sN",
        "outputId": "ff5b210c-636b-4d66-a012-67fdca10344b"
      },
      "source": [
        "Hitrate_Eval(newHOLDOUT_LIST[0],Top10Pred_SVD,'Updated_UserID','Updated_ItemID')"
      ],
      "execution_count": 148,
      "outputs": [
        {
          "output_type": "stream",
          "name": "stdout",
          "text": [
            "Number of hits:  205\nTotal Num of users:  3459\nRecommendation HitRate:  0.059265683723619546\n"
          ]
        },
        {
          "output_type": "execute_result",
          "data": {
            "text/plain": [
              "0.059265683723619546"
            ]
          },
          "metadata": {},
          "execution_count": 148
        }
      ]
    },
    {
      "cell_type": "code",
      "metadata": {
        "colab": {
          "base_uri": "https://localhost:8080/"
        },
        "id": "nOTHviyK-jwT",
        "outputId": "eab74d67-67fd-4f08-dec6-61126557c065"
      },
      "source": [
        "AllSVD_topNPRED =  TQDMgetALLTopNPred(SVD_UserItemMAT,newHOLDOUT_LIST,Vsvd_list,'Updated_UserID',N = 10)\n",
        "print(len(AllSVD_topNPRED))\n",
        "AllSVD_topNPRED[:2]"
      ],
      "execution_count": 149,
      "outputs": [
        {
          "output_type": "stream",
          "name": "stderr",
          "text": [
            "15it [00:10,  1.44it/s]15\n",
            "\n"
          ]
        },
        {
          "output_type": "execute_result",
          "data": {
            "text/plain": [
              "[array([[4744, 2560, 1072, ..., 1069, 1070,  829],\n",
              "        [ 980, 4652, 2250, ..., 4061, 1624, 1911],\n",
              "        [2180,  532, 6381, ..., 1466, 3407,    1],\n",
              "        ...,\n",
              "        [ 180,  352,  179, ..., 1909,  969, 1917],\n",
              "        [ 144, 1109, 1115, ..., 2542, 2501,  198],\n",
              "        [2469, 1460,  157, ..., 2340, 2630, 2502]]),\n",
              " array([[ 4744,  1072,  2560, ...,  9331,  1069,  8837],\n",
              "        [  980,  4652,  2250, ...,  4061,  1624,  1911],\n",
              "        [ 1300,  1086,   603, ...,   267,   663,  3220],\n",
              "        ...,\n",
              "        [ 2707,   969,  1763, ...,  2543,  1319,  1126],\n",
              "        [ 1829,  1055,  2770, ...,  1070,  4080,    59],\n",
              "        [ 4724,  9761,  8837, ...,  9695, 11965,  8958]])]"
            ]
          },
          "metadata": {},
          "execution_count": 149
        }
      ]
    },
    {
      "cell_type": "code",
      "metadata": {
        "colab": {
          "base_uri": "https://localhost:8080/"
        },
        "id": "d7xlsk71shw9",
        "outputId": "7e4b2f47-441d-4732-d206-e8a1f3f0cfd3"
      },
      "source": [
        "AllSteps_Hitrate_svd, LowerBand, Avg_HitRate, UpperBand   = getAll_HitRate(newHOLDOUT_LIST,AllSVD_topNPRED,'Updated_UserID','Updated_ItemID')"
      ],
      "execution_count": 150,
      "outputs": [
        {
          "output_type": "stream",
          "name": "stdout",
          "text": [
            "Number of hits:  205\nTotal Num of users:  3459\nRecommendation HitRate:  0.059265683723619546\nNumber of hits:  165\nTotal Num of users:  3311\nRecommendation HitRate:  0.04983388704318937\nNumber of hits:  169\nTotal Num of users:  3124\nRecommendation HitRate:  0.05409731113956466\nNumber of hits:  182\nTotal Num of users:  3115\nRecommendation HitRate:  0.058426966292134834\nNumber of hits:  182\nTotal Num of users:  3165\nRecommendation HitRate:  0.05750394944707741\nNumber of hits:  154\nTotal Num of users:  3098\nRecommendation HitRate:  0.04970948999354422\nNumber of hits:  147\nTotal Num of users:  3169\nRecommendation HitRate:  0.04638687283054591\nNumber of hits:  180\nTotal Num of users:  3129\nRecommendation HitRate:  0.05752636625119847\nNumber of hits:  195\nTotal Num of users:  3192\nRecommendation HitRate:  0.06109022556390977\nNumber of hits:  187\nTotal Num of users:  3409\nRecommendation HitRate:  0.054854796127896746\nNumber of hits:  198\nTotal Num of users:  3267\nRecommendation HitRate:  0.06060606060606061\nNumber of hits:  163\nTotal Num of users:  3077\nRecommendation HitRate:  0.052973675658108545\nNumber of hits:  185\nTotal Num of users:  2772\nRecommendation HitRate:  0.06673881673881674\nNumber of hits:  157\nTotal Num of users:  2644\nRecommendation HitRate:  0.05937972768532526\nNumber of hits:  171\nTotal Num of users:  2730\nRecommendation HitRate:  0.06263736263736264\nAverage HitRate for All Recommendations:  0.05673541278255698\n"
          ]
        }
      ]
    },
    {
      "cell_type": "code",
      "metadata": {
        "colab": {
          "base_uri": "https://localhost:8080/"
        },
        "id": "x_L3w8iDPcDV",
        "outputId": "363b53f7-434d-49d0-ea7e-008773d42541"
      },
      "source": [
        "AllSteps_Hitrate_svd"
      ],
      "execution_count": 151,
      "outputs": [
        {
          "output_type": "execute_result",
          "data": {
            "text/plain": [
              "[0.059265683723619546,\n",
              " 0.04983388704318937,\n",
              " 0.05409731113956466,\n",
              " 0.058426966292134834,\n",
              " 0.05750394944707741,\n",
              " 0.04970948999354422,\n",
              " 0.04638687283054591,\n",
              " 0.05752636625119847,\n",
              " 0.06109022556390977,\n",
              " 0.054854796127896746,\n",
              " 0.06060606060606061,\n",
              " 0.052973675658108545,\n",
              " 0.06673881673881674,\n",
              " 0.05937972768532526,\n",
              " 0.06263736263736264]"
            ]
          },
          "metadata": {},
          "execution_count": 151
        }
      ]
    },
    {
      "cell_type": "code",
      "execution_count": 152,
      "metadata": {},
      "outputs": [
        {
          "output_type": "stream",
          "name": "stdout",
          "text": [
            "0.05372014044420813 0.05673541278255698 0.05975068512090584\n"
          ]
        }
      ],
      "source": [
        " print(LowerBand, Avg_HitRate, UpperBand) "
      ]
    },
    {
      "cell_type": "markdown",
      "metadata": {
        "id": "2mG-deAzqE-C"
      },
      "source": [
        "### RRec HitR_"
      ]
    },
    {
      "cell_type": "code",
      "metadata": {
        "id": "6z2TMCnuqJ3n"
      },
      "source": [],
      "execution_count": null,
      "outputs": []
    },
    {
      "cell_type": "markdown",
      "metadata": {
        "id": "YZNhrtpwr_fM"
      },
      "source": [
        "### MPop HitR_"
      ]
    },
    {
      "cell_type": "code",
      "metadata": {
        "colab": {
          "base_uri": "https://localhost:8080/"
        },
        "id": "uMLoaZ6YlZN3",
        "outputId": "90ba4c62-a1f1-4242-f422-cd84cd1ab274"
      },
      "source": [
        "RRec_AllStepsHitR, RRec_LowBHR, RREC_AvgHitR, RRec_UppBHR = getAll_RandomHitRate(newHOLDOUT_LIST,All_UsersRRecPred,'Updated_UserID','Updated_ItemID')"
      ],
      "execution_count": 153,
      "outputs": [
        {
          "output_type": "stream",
          "name": "stdout",
          "text": [
            "Number of hits:  1\nTotal Num of users:  3459\nRecommendation HitRate:  0.0002891008962127783\nNumber of hits:  2\nTotal Num of users:  3311\nRecommendation HitRate:  0.0006040471156750226\nNumber of hits:  2\nTotal Num of users:  3124\nRecommendation HitRate:  0.0006402048655569782\nNumber of hits:  0\nTotal Num of users:  3115\nRecommendation HitRate:  0.0\nNumber of hits:  1\nTotal Num of users:  3165\nRecommendation HitRate:  0.000315955766192733\nNumber of hits:  2\nTotal Num of users:  3098\nRecommendation HitRate:  0.0006455777921239509\nNumber of hits:  4\nTotal Num of users:  3169\nRecommendation HitRate:  0.0012622278321236984\nNumber of hits:  1\nTotal Num of users:  3129\nRecommendation HitRate:  0.00031959092361776926\nNumber of hits:  2\nTotal Num of users:  3192\nRecommendation HitRate:  0.0006265664160401002\nNumber of hits:  3\nTotal Num of users:  3409\nRecommendation HitRate:  0.0008800234672924611\nNumber of hits:  0\nTotal Num of users:  3267\nRecommendation HitRate:  0.0\nNumber of hits:  1\nTotal Num of users:  3077\nRecommendation HitRate:  0.00032499187520311994\nNumber of hits:  1\nTotal Num of users:  2772\nRecommendation HitRate:  0.00036075036075036075\nNumber of hits:  2\nTotal Num of users:  2644\nRecommendation HitRate:  0.0007564296520423601\nNumber of hits:  3\nTotal Num of users:  2730\nRecommendation HitRate:  0.001098901098901099\nAverage HitRate for All Recommendations:  0.0005416245374488288\n"
          ]
        }
      ]
    },
    {
      "cell_type": "code",
      "metadata": {
        "id": "FVPb6680r81m"
      },
      "source": [
        "RRec_AllStepsHitR"
      ],
      "execution_count": 154,
      "outputs": [
        {
          "output_type": "execute_result",
          "data": {
            "text/plain": [
              "[0.0002891008962127783,\n",
              " 0.0006040471156750226,\n",
              " 0.0006402048655569782,\n",
              " 0.0,\n",
              " 0.000315955766192733,\n",
              " 0.0006455777921239509,\n",
              " 0.0012622278321236984,\n",
              " 0.00031959092361776926,\n",
              " 0.0006265664160401002,\n",
              " 0.0008800234672924611,\n",
              " 0.0,\n",
              " 0.00032499187520311994,\n",
              " 0.00036075036075036075,\n",
              " 0.0007564296520423601,\n",
              " 0.001098901098901099]"
            ]
          },
          "metadata": {},
          "execution_count": 154
        }
      ]
    },
    {
      "cell_type": "code",
      "execution_count": 155,
      "metadata": {},
      "outputs": [
        {
          "output_type": "stream",
          "name": "stdout",
          "text": [
            "0.000340182505375665 0.0005416245374488288 0.0007430665695219926\n"
          ]
        }
      ],
      "source": [
        "print( RRec_LowBHR, RREC_AvgHitR, RRec_UppBHR)"
      ]
    },
    {
      "cell_type": "code",
      "execution_count": null,
      "metadata": {},
      "outputs": [],
      "source": [
        "##MOSTPOP"
      ]
    },
    {
      "cell_type": "code",
      "metadata": {
        "colab": {
          "base_uri": "https://localhost:8080/"
        },
        "id": "pzPaCjrsUvFa",
        "outputId": "b7ffccf3-91fc-459b-dd5e-4d8322459502"
      },
      "source": [
        "AllSteps_Hitrate, LowerBand, Avg_HitRate, UpperBand  = getAll_MostPOPHitRate(newHOLDOUT_LIST,All_MostPOPRED_List,'Updated_UserID','Updated_ItemID')"
      ],
      "execution_count": 156,
      "outputs": [
        {
          "output_type": "stream",
          "name": "stdout",
          "text": [
            "Number of hits:  98\nTotal Num of users:  3459\nRecommendation HitRate:  0.028331887828852268\nNumber of hits:  68\nTotal Num of users:  3311\nRecommendation HitRate:  0.02053760193295077\nNumber of hits:  70\nTotal Num of users:  3124\nRecommendation HitRate:  0.02240717029449424\nNumber of hits:  105\nTotal Num of users:  3115\nRecommendation HitRate:  0.033707865168539325\nNumber of hits:  157\nTotal Num of users:  3165\nRecommendation HitRate:  0.04960505529225909\nNumber of hits:  144\nTotal Num of users:  3098\nRecommendation HitRate:  0.046481601032924466\nNumber of hits:  158\nTotal Num of users:  3169\nRecommendation HitRate:  0.04985799936888608\nNumber of hits:  106\nTotal Num of users:  3129\nRecommendation HitRate:  0.03387663790348354\nNumber of hits:  108\nTotal Num of users:  3192\nRecommendation HitRate:  0.03383458646616541\nNumber of hits:  164\nTotal Num of users:  3409\nRecommendation HitRate:  0.04810794954532121\nNumber of hits:  114\nTotal Num of users:  3267\nRecommendation HitRate:  0.03489439853076217\nNumber of hits:  120\nTotal Num of users:  3077\nRecommendation HitRate:  0.03899902502437439\nNumber of hits:  75\nTotal Num of users:  2772\nRecommendation HitRate:  0.027056277056277056\nNumber of hits:  117\nTotal Num of users:  2644\nRecommendation HitRate:  0.044251134644478066\nNumber of hits:  114\nTotal Num of users:  2730\nRecommendation HitRate:  0.041758241758241756\nAverage HitRate for All Recommendations:  0.03691382878986733\n"
          ]
        }
      ]
    },
    {
      "cell_type": "code",
      "metadata": {
        "id": "H3kfcIzLq3aq"
      },
      "source": [
        "AllSteps_Hitrate"
      ],
      "execution_count": 157,
      "outputs": [
        {
          "output_type": "execute_result",
          "data": {
            "text/plain": [
              "[0.028331887828852268,\n",
              " 0.02053760193295077,\n",
              " 0.02240717029449424,\n",
              " 0.033707865168539325,\n",
              " 0.04960505529225909,\n",
              " 0.046481601032924466,\n",
              " 0.04985799936888608,\n",
              " 0.03387663790348354,\n",
              " 0.03383458646616541,\n",
              " 0.04810794954532121,\n",
              " 0.03489439853076217,\n",
              " 0.03899902502437439,\n",
              " 0.027056277056277056,\n",
              " 0.044251134644478066,\n",
              " 0.041758241758241756]"
            ]
          },
          "metadata": {},
          "execution_count": 157
        }
      ]
    },
    {
      "cell_type": "code",
      "metadata": {
        "id": "dmerRgcn_tH-"
      },
      "source": [
        "print(LowerBand, Avg_HitRate, UpperBand)"
      ],
      "execution_count": 158,
      "outputs": [
        {
          "output_type": "stream",
          "name": "stdout",
          "text": [
            "0.03155772898046011 0.03691382878986733 0.042269928599274545\n"
          ]
        }
      ]
    },
    {
      "cell_type": "markdown",
      "metadata": {
        "id": "CiN76aQU_tyi"
      },
      "source": [
        "### iALS HitR_"
      ]
    },
    {
      "cell_type": "code",
      "metadata": {
        "id": "NcwzoILo_6Gd"
      },
      "source": [
        "##Hitrate\n",
        "top10_pred = ials_TopNPred(UserItem_RatMAT[0],newHOLDOUT_LIST[0],Ulist_als[0],Vlist_als[0],'Updated_UserID', N=10)\n",
        "print(top10_pred.shape)\n",
        "top10_pred"
      ],
      "execution_count": 159,
      "outputs": [
        {
          "output_type": "stream",
          "name": "stdout",
          "text": [
            "(3459, 10)\n"
          ]
        },
        {
          "output_type": "execute_result",
          "data": {
            "text/plain": [
              "array([[18096, 16481, 18113, ...,  9142, 19018,  1397],\n",
              "       [  914,   286,   406, ..., 11192,  2063,  2996],\n",
              "       [  146,  1310,   228, ...,  3381,  7800,  5624],\n",
              "       ...,\n",
              "       [ 1062,   135,   969, ...,  1003,    20,   980],\n",
              "       [ 1624,  2630,  2560, ...,  2167,  2378,  2250],\n",
              "       [ 2547,  2347,  2235, ...,  1582,  2931,  3070]])"
            ]
          },
          "metadata": {},
          "execution_count": 159
        }
      ]
    },
    {
      "cell_type": "code",
      "metadata": {
        "id": "ZqkQMd00_wi_"
      },
      "source": [
        "Hitrate_Eval(newHOLDOUT_LIST[0],top10_pred,'Updated_UserID','Updated_ItemID')  #"
      ],
      "execution_count": 161,
      "outputs": [
        {
          "output_type": "stream",
          "name": "stdout",
          "text": [
            "Number of hits:  144\nTotal Num of users:  3459\nRecommendation HitRate:  0.04163052905464007\n"
          ]
        },
        {
          "output_type": "execute_result",
          "data": {
            "text/plain": [
              "0.04163052905464007"
            ]
          },
          "metadata": {},
          "execution_count": 161
        }
      ]
    },
    {
      "cell_type": "code",
      "metadata": {
        "id": "B2XjziE3CH50"
      },
      "source": [
        "                #ials_getALLPredTQDM(RatingMat_List,HOLDOUT_list,U_list,V_list,user_column,N)\n",
        "Allals_topNPRED =  ials_getALLPredTQDM(UserItem_RatMAT,newHOLDOUT_LIST,Ulist_als,Vlist_als,'Updated_UserID',N = 10)\n",
        "print(len(Allals_topNPRED))\n",
        "Allals_topNPRED[:2]"
      ],
      "execution_count": 162,
      "outputs": [
        {
          "output_type": "stream",
          "name": "stderr",
          "text": [
            "15it [00:09,  1.55it/s]15\n",
            "\n"
          ]
        },
        {
          "output_type": "execute_result",
          "data": {
            "text/plain": [
              "[array([[18096, 16481, 18113, ...,  9142, 19018,  1397],\n",
              "        [  914,   286,   406, ..., 11192,  2063,  2996],\n",
              "        [  146,  1310,   228, ...,  3381,  7800,  5624],\n",
              "        ...,\n",
              "        [ 1062,   135,   969, ...,  1003,    20,   980],\n",
              "        [ 1624,  2630,  2560, ...,  2167,  2378,  2250],\n",
              "        [ 2547,  2347,  2235, ...,  1582,  2931,  3070]]),\n",
              " array([[18096, 16481, 18113, ...,  9142, 19018,  1397],\n",
              "        [  914,   286,   406, ..., 11192,  2063,  2996],\n",
              "        [  195,   137,  2347, ...,    62,   199,  2925],\n",
              "        ...,\n",
              "        [  825,   797,   779, ...,  1061,  1745,  1129],\n",
              "        [ 1053,   800,   980, ...,  1048,  1052,  1072],\n",
              "        [ 4724,  8837,  6760, ...,  9761,  8695,  5632]])]"
            ]
          },
          "metadata": {},
          "execution_count": 162
        }
      ]
    },
    {
      "cell_type": "code",
      "metadata": {
        "id": "v-UBuiJLCMpd"
      },
      "source": [
        "als_AllStepsHitR_, als_LBand, als_AvgHitR, als_UBand   = getAll_HitRate(newHOLDOUT_LIST,Allals_topNPRED,'Updated_UserID','Updated_ItemID')\n",
        "als_AllStepsHitR_"
      ],
      "execution_count": 163,
      "outputs": [
        {
          "output_type": "stream",
          "name": "stdout",
          "text": [
            "Number of hits:  144\nTotal Num of users:  3459\nRecommendation HitRate:  0.04163052905464007\nNumber of hits:  136\nTotal Num of users:  3311\nRecommendation HitRate:  0.04107520386590154\nNumber of hits:  120\nTotal Num of users:  3124\nRecommendation HitRate:  0.03841229193341869\nNumber of hits:  120\nTotal Num of users:  3115\nRecommendation HitRate:  0.038523274478330656\nNumber of hits:  124\nTotal Num of users:  3165\nRecommendation HitRate:  0.039178515007898894\nNumber of hits:  100\nTotal Num of users:  3098\nRecommendation HitRate:  0.03227888960619755\nNumber of hits:  105\nTotal Num of users:  3169\nRecommendation HitRate:  0.03313348059324708\nNumber of hits:  127\nTotal Num of users:  3129\nRecommendation HitRate:  0.0405880472994567\nNumber of hits:  122\nTotal Num of users:  3192\nRecommendation HitRate:  0.03822055137844611\nNumber of hits:  146\nTotal Num of users:  3409\nRecommendation HitRate:  0.04282780874156644\nNumber of hits:  120\nTotal Num of users:  3267\nRecommendation HitRate:  0.03673094582185491\nNumber of hits:  117\nTotal Num of users:  3077\nRecommendation HitRate:  0.03802404939876503\nNumber of hits:  112\nTotal Num of users:  2772\nRecommendation HitRate:  0.04040404040404041\nNumber of hits:  88\nTotal Num of users:  2644\nRecommendation HitRate:  0.03328290468986384\nNumber of hits:  77\nTotal Num of users:  2730\nRecommendation HitRate:  0.028205128205128206\nAverage HitRate for All Recommendations:  0.03750104403191708\n"
          ]
        },
        {
          "output_type": "execute_result",
          "data": {
            "text/plain": [
              "[0.04163052905464007,\n",
              " 0.04107520386590154,\n",
              " 0.03841229193341869,\n",
              " 0.038523274478330656,\n",
              " 0.039178515007898894,\n",
              " 0.03227888960619755,\n",
              " 0.03313348059324708,\n",
              " 0.0405880472994567,\n",
              " 0.03822055137844611,\n",
              " 0.04282780874156644,\n",
              " 0.03673094582185491,\n",
              " 0.03802404939876503,\n",
              " 0.04040404040404041,\n",
              " 0.03328290468986384,\n",
              " 0.028205128205128206]"
            ]
          },
          "metadata": {},
          "execution_count": 163
        }
      ]
    },
    {
      "cell_type": "code",
      "execution_count": 165,
      "metadata": {},
      "outputs": [
        {
          "output_type": "stream",
          "name": "stdout",
          "text": [
            "0.03524289624938684 0.03750104403191708 0.039759191814447314\n"
          ]
        }
      ],
      "source": [
        "print( als_LBand, als_AvgHitR, als_UBand)"
      ]
    },
    {
      "cell_type": "markdown",
      "metadata": {
        "id": "4LTu6CfTlkKV"
      },
      "source": [
        "## MRR_Scores"
      ]
    },
    {
      "cell_type": "markdown",
      "metadata": {
        "id": "zSy_1uXgpvHE"
      },
      "source": [
        "### Updated_mrr"
      ]
    },
    {
      "cell_type": "code",
      "metadata": {
        "id": "Jua1mher8NGO",
        "outputId": "75892255-0e71-4966-aa09-bbcebd25f107"
      },
      "source": [
        "mrr_1st = MRR_Eval(newHOLDOUT_LIST[0],Top_NPred,'Updated_ItemID')\n",
        "print(\"1st Step MRR: \",mrr_1st)"
      ],
      "execution_count": 166,
      "outputs": [
        {
          "output_type": "stream",
          "name": "stdout",
          "text": [
            "1st Step MRR:  0.01975006539186938\n"
          ]
        }
      ]
    },
    {
      "cell_type": "code",
      "metadata": {
        "id": "HKCypKY78NGP",
        "outputId": "a3b76d44-bca2-4ebb-faa3-31e32a223bc3"
      },
      "source": [
        "AllSteps_MRRUpdt, LowerB_Updt, AvgMRR_Updt, UpperB_Updt  = TQDMgetAll_MRR_Eval(newHOLDOUT_LIST,AllUpdt_pred,'Updated_ItemID')\n",
        "AllSteps_MRRUpdt    "
      ],
      "execution_count": 167,
      "outputs": [
        {
          "output_type": "stream",
          "name": "stderr",
          "text": [
            "15it [00:00, 570.76it/s]\n"
          ]
        },
        {
          "output_type": "execute_result",
          "data": {
            "text/plain": [
              "[0.01975,\n",
              " 0.019939,\n",
              " 0.020556,\n",
              " 0.023973,\n",
              " 0.022273,\n",
              " 0.018741,\n",
              " 0.015228,\n",
              " 0.020376,\n",
              " 0.024525,\n",
              " 0.020789,\n",
              " 0.023081,\n",
              " 0.019634,\n",
              " 0.025079,\n",
              " 0.021992,\n",
              " 0.025983]"
            ]
          },
          "metadata": {},
          "execution_count": 167
        }
      ]
    },
    {
      "cell_type": "code",
      "metadata": {
        "id": "xvxgknDI8NGQ",
        "outputId": "49f4e381-1f53-41d9-ea1b-13334722749b"
      },
      "source": [
        "print(LowerB_Updt, AvgMRR_Updt, UpperB_Updt)\n",
        "print(\"Average MRR: \",AvgMRR_Updt)"
      ],
      "execution_count": 169,
      "outputs": [
        {
          "output_type": "stream",
          "name": "stdout",
          "text": [
            "0.019908 0.021461 0.023014\nAverage MRR:  0.021461\n"
          ]
        }
      ]
    },
    {
      "cell_type": "code",
      "metadata": {
        "id": "Kcme4SUDp0UO"
      },
      "source": [],
      "execution_count": null,
      "outputs": []
    },
    {
      "cell_type": "markdown",
      "metadata": {
        "id": "NViCcctzqDX0"
      },
      "source": [
        "### RegPSI_MRR"
      ]
    },
    {
      "cell_type": "code",
      "metadata": {
        "id": "QiUIA7jglb2c",
        "outputId": "8ca95a94-c146-4519-95b6-bbe6b9d4289e"
      },
      "source": [
        "##MRR: \n",
        "mrr_psi_1st = MRR_Eval(newHOLDOUT_LIST[0],Top10Pred_psi,'Updated_ItemID')\n",
        "print(\"1st Step MRR: \",mrr_psi_1st)"
      ],
      "execution_count": 171,
      "outputs": [
        {
          "output_type": "stream",
          "name": "stdout",
          "text": [
            "1st Step MRR:  0.019661040671448304\n"
          ]
        }
      ]
    },
    {
      "cell_type": "code",
      "metadata": {
        "id": "lHlCnS9t8NGt",
        "outputId": "359894ce-1a44-4294-fc09-eb36ce23e040"
      },
      "source": [
        "psi_AllStepsMRR, psi_LowerB, psi_AvgMRR, psi_UpperB  = TQDMgetAll_MRR_Eval(newHOLDOUT_LIST,All_regPSI_PRED,'Updated_ItemID')\n",
        "psi_AllStepsMRR  \n"
      ],
      "execution_count": 172,
      "outputs": [
        {
          "output_type": "stream",
          "name": "stderr",
          "text": [
            "15it [00:00, 585.94it/s]\n"
          ]
        },
        {
          "output_type": "execute_result",
          "data": {
            "text/plain": [
              "[0.019661,\n",
              " 0.019737,\n",
              " 0.020506,\n",
              " 0.024115,\n",
              " 0.022424,\n",
              " 0.018706,\n",
              " 0.015411,\n",
              " 0.020189,\n",
              " 0.024576,\n",
              " 0.020357,\n",
              " 0.023035,\n",
              " 0.019458,\n",
              " 0.025305,\n",
              " 0.021488,\n",
              " 0.026158]"
            ]
          },
          "metadata": {},
          "execution_count": 172
        }
      ]
    },
    {
      "cell_type": "code",
      "metadata": {
        "id": "-V-t5JQ68NGu",
        "outputId": "9d506c1d-e490-4b15-d1fe-24f7296a79be"
      },
      "source": [
        "print(psi_LowerB, psi_AvgMRR, psi_UpperB)\n",
        "print(\"Average MRR: \",psi_AvgMRR)"
      ],
      "execution_count": 173,
      "outputs": [
        {
          "output_type": "stream",
          "name": "stdout",
          "text": [
            "0.01982 0.021408 0.022996\nAverage MRR:  0.021408\n"
          ]
        }
      ]
    },
    {
      "cell_type": "code",
      "metadata": {
        "id": "ZCXL-Upxrfcf"
      },
      "source": [],
      "execution_count": null,
      "outputs": []
    },
    {
      "cell_type": "markdown",
      "metadata": {
        "id": "0VF39Re9rg3C"
      },
      "source": [
        "### SVD_MRR"
      ]
    },
    {
      "cell_type": "code",
      "metadata": {
        "id": "2VNpJ3gc8NG-",
        "outputId": "5be82150-5b2a-40aa-f4a5-ac1c051917d3"
      },
      "source": [
        "##MRR: \n",
        "mrr_SVD_1st = MRR_Eval(newHOLDOUT_LIST[0],Top10Pred_SVD,'Updated_ItemID')\n",
        "print(\"1st Step MRR: \",mrr_SVD_1st)"
      ],
      "execution_count": 174,
      "outputs": [
        {
          "output_type": "stream",
          "name": "stdout",
          "text": [
            "1st Step MRR:  0.021891477030245462\n"
          ]
        }
      ]
    },
    {
      "cell_type": "code",
      "metadata": {
        "id": "Xxx66F3a8NG_",
        "outputId": "7e2a3c90-0b6d-4303-a498-94fafacfdf70"
      },
      "source": [
        "svd_AllStepsMRR, svd_LowerB, svd_AvgMRR, svd_UpperB  = TQDMgetAll_MRR_Eval(newHOLDOUT_LIST,AllSVD_topNPRED,'Updated_ItemID')\n",
        "svd_AllStepsMRR  "
      ],
      "execution_count": 175,
      "outputs": [
        {
          "output_type": "stream",
          "name": "stderr",
          "text": [
            "15it [00:00, 593.52it/s]\n"
          ]
        },
        {
          "output_type": "execute_result",
          "data": {
            "text/plain": [
              "[0.021891,\n",
              " 0.020462,\n",
              " 0.020787,\n",
              " 0.026738,\n",
              " 0.023202,\n",
              " 0.019234,\n",
              " 0.015943,\n",
              " 0.020867,\n",
              " 0.025518,\n",
              " 0.02196,\n",
              " 0.024627,\n",
              " 0.020163,\n",
              " 0.027391,\n",
              " 0.023731,\n",
              " 0.02687]"
            ]
          },
          "metadata": {},
          "execution_count": 175
        }
      ]
    },
    {
      "cell_type": "code",
      "metadata": {
        "id": "CdIKor9yrnkW"
      },
      "source": [
        " print(svd_LowerB, svd_AvgMRR, svd_UpperB )"
      ],
      "execution_count": 176,
      "outputs": [
        {
          "output_type": "stream",
          "name": "stdout",
          "text": [
            "0.020838 0.022626 0.024413\n"
          ]
        }
      ]
    },
    {
      "cell_type": "markdown",
      "metadata": {
        "id": "R9brrLc1q8RZ"
      },
      "source": [
        "### RRec_MRR"
      ]
    },
    {
      "cell_type": "code",
      "metadata": {
        "id": "2f566w7D8NHa",
        "outputId": "d1444399-0394-4490-c971-48d9a8b60221"
      },
      "source": [
        "RRec_AllStepsMRR, RRec_LowB, RRec_Avg_MRR, RRec_UppB = getAll_RandomRecMRR(newHOLDOUT_LIST,All_UsersRRecPred,'Updated_UserID','Updated_ItemID')\n",
        "RRec_AllStepsMRR"
      ],
      "execution_count": 177,
      "outputs": [
        {
          "output_type": "stream",
          "name": "stderr",
          "text": [
            "15it [00:00, 421.28it/s]\n"
          ]
        },
        {
          "output_type": "execute_result",
          "data": {
            "text/plain": [
              "[2.9e-05,\n",
              " 0.000136,\n",
              " 0.000267,\n",
              " 0,\n",
              " 6.3e-05,\n",
              " 0.000145,\n",
              " 0.00051,\n",
              " 5.3e-05,\n",
              " 0.000107,\n",
              " 0.000293,\n",
              " 0,\n",
              " 4.6e-05,\n",
              " 3.6e-05,\n",
              " 0.00018,\n",
              " 0.000534]"
            ]
          },
          "metadata": {},
          "execution_count": 177
        }
      ]
    },
    {
      "cell_type": "code",
      "execution_count": 178,
      "metadata": {},
      "outputs": [
        {
          "output_type": "stream",
          "name": "stdout",
          "text": [
            "6.480499621493013e-05 0.00015993333333333334 0.00025506167045173656\n"
          ]
        }
      ],
      "source": [
        "print(RRec_LowB, RRec_Avg_MRR, RRec_UppB )"
      ]
    },
    {
      "cell_type": "markdown",
      "metadata": {
        "id": "3jYTmPkgsL7r"
      },
      "source": [
        "### Mpop_MRR"
      ]
    },
    {
      "cell_type": "code",
      "metadata": {
        "id": "IQFQoOfF8NHu",
        "outputId": "a4574a8c-32a5-4479-e0db-61b516426f18"
      },
      "source": [
        "#MRR....\n",
        "                                    #getAll_MostPOP_MRR(HOLDOUT_list,All_MostPOPRED_List,user_column,item_column)\n",
        "Mpop_AllStepsMRR, Mpop_LowB, Mpop_AvgMRR, Mpop_UppB = getAll_MostPOP_MRR(newHOLDOUT_LIST,All_MostPOPRED_List,'Updated_UserID','Updated_ItemID')\n",
        "Mpop_AllStepsMRR"
      ],
      "execution_count": 179,
      "outputs": [
        {
          "output_type": "stream",
          "name": "stderr",
          "text": [
            "15it [00:00, 408.52it/s]\n"
          ]
        },
        {
          "output_type": "execute_result",
          "data": {
            "text/plain": [
              "[0.01098044209492605,\n",
              " 0.008510112995162829,\n",
              " 0.005915797817206269,\n",
              " 0.01641162832174068,\n",
              " 0.02132036911657765,\n",
              " 0.012429934315021467,\n",
              " 0.02729592731170516,\n",
              " 0.009584937629041177,\n",
              " 0.011028439153439156,\n",
              " 0.010724296563252267,\n",
              " 0.010729225880741034,\n",
              " 0.008993634286126975,\n",
              " 0.007528802766898005,\n",
              " 0.0121273383281704,\n",
              " 0.009541979184836328]"
            ]
          },
          "metadata": {},
          "execution_count": 179
        }
      ]
    },
    {
      "cell_type": "code",
      "metadata": {
        "id": "F8sooK_TCywX"
      },
      "source": [
        "print( Mpop_LowB, Mpop_AvgMRR, Mpop_UppB )"
      ],
      "execution_count": 180,
      "outputs": [
        {
          "output_type": "stream",
          "name": "stdout",
          "text": [
            "0.0091206955312628 0.012208191050989697 0.015295686570716595\n"
          ]
        }
      ]
    },
    {
      "cell_type": "markdown",
      "metadata": {
        "id": "MqgUGRaeDD1a"
      },
      "source": [
        "### IALS_MRR"
      ]
    },
    {
      "cell_type": "code",
      "metadata": {
        "id": "NM0Bqs_psQio"
      },
      "source": [
        "##mrr\n",
        "#als_AllStepsHitR_, als_LBand, als_AvgHitR, als_UBand \n",
        "als_AllStepsMRR, als_LBand, als_AvgMRR, als_UBand  = TQDMgetAll_MRR_Eval(newHOLDOUT_LIST,Allals_topNPRED,'Updated_ItemID')\n",
        "als_AllStepsMRR    "
      ],
      "execution_count": 181,
      "outputs": [
        {
          "output_type": "stream",
          "name": "stderr",
          "text": [
            "15it [00:00, 598.79it/s]\n"
          ]
        },
        {
          "output_type": "execute_result",
          "data": {
            "text/plain": [
              "[0.017103,\n",
              " 0.013691,\n",
              " 0.013936,\n",
              " 0.013442,\n",
              " 0.011989,\n",
              " 0.011103,\n",
              " 0.011098,\n",
              " 0.012904,\n",
              " 0.013783,\n",
              " 0.014778,\n",
              " 0.013291,\n",
              " 0.012516,\n",
              " 0.015566,\n",
              " 0.013148,\n",
              " 0.009847]"
            ]
          },
          "metadata": {},
          "execution_count": 181
        }
      ]
    },
    {
      "cell_type": "code",
      "execution_count": 182,
      "metadata": {},
      "outputs": [
        {
          "output_type": "stream",
          "name": "stdout",
          "text": [
            "0.012203 0.013213 0.014223\n"
          ]
        }
      ],
      "source": [
        "print(als_LBand, als_AvgMRR, als_UBand )"
      ]
    },
    {
      "cell_type": "markdown",
      "metadata": {
        "id": "9E5uZACqmdRw"
      },
      "source": [
        "## Coverage"
      ]
    },
    {
      "cell_type": "markdown",
      "metadata": {
        "id": "T_N9aVIdmiJw"
      },
      "source": [
        "### UpdtedPSI_COV"
      ]
    },
    {
      "cell_type": "code",
      "metadata": {
        "id": "V6MBUBiw8NGX",
        "outputId": "7f06e0ee-9b91-4105-dd35-f7c70ddab502"
      },
      "source": [
        "StepCoverage_Ratio(newMLDF_20M,AllUsers_updtPRED[0],'Updated_ItemID')  "
      ],
      "execution_count": 185,
      "outputs": [
        {
          "output_type": "execute_result",
          "data": {
            "text/plain": [
              "0.042278"
            ]
          },
          "metadata": {},
          "execution_count": 185
        }
      ]
    },
    {
      "cell_type": "code",
      "metadata": {
        "id": "UWbQX8v-8NGY",
        "outputId": "ac300c20-57ab-40d8-ec3a-cfeedade9b95"
      },
      "source": [
        "UpdtAvg_Coverage_List = AllSteps_Coverage_Ratio(newMLDF_20M,AllUsers_updtPRED,'Updated_ItemID')\n",
        "UpdtAvg_Coverage_List"
      ],
      "execution_count": 187,
      "outputs": [
        {
          "output_type": "execute_result",
          "data": {
            "text/plain": [
              "[0.042278,\n",
              " 0.042326,\n",
              " 0.042278,\n",
              " 0.042278,\n",
              " 0.042133,\n",
              " 0.042181,\n",
              " 0.042471,\n",
              " 0.042471,\n",
              " 0.042519,\n",
              " 0.042471,\n",
              " 0.042471,\n",
              " 0.041988,\n",
              " 0.042085,\n",
              " 0.042085,\n",
              " 0.042181]"
            ]
          },
          "metadata": {},
          "execution_count": 187
        }
      ]
    },
    {
      "cell_type": "code",
      "metadata": {
        "id": "yLH8e0QZ8NGs"
      },
      "source": [],
      "execution_count": null,
      "outputs": []
    },
    {
      "cell_type": "markdown",
      "metadata": {
        "id": "1GSmfsOoqcSR"
      },
      "source": [
        "###RegPSI_COV"
      ]
    },
    {
      "cell_type": "code",
      "metadata": {
        "id": "4qGnS77i8NGx",
        "outputId": "c6276faf-3ed0-4205-a7c2-8e7333f6c869"
      },
      "source": [
        "psi_AvgCoverage_List = AllSteps_Coverage_Ratio(newMLDF_20M,AllUsersRegPIS_PRED,'Updated_ItemID')\n",
        "psi_AvgCoverage_List"
      ],
      "execution_count": 188,
      "outputs": [
        {
          "output_type": "execute_result",
          "data": {
            "text/plain": [
              "[0.042326,\n",
              " 0.042375,\n",
              " 0.042326,\n",
              " 0.042423,\n",
              " 0.042568,\n",
              " 0.042519,\n",
              " 0.042664,\n",
              " 0.042809,\n",
              " 0.042761,\n",
              " 0.042905,\n",
              " 0.042857,\n",
              " 0.043098,\n",
              " 0.043243,\n",
              " 0.04334,\n",
              " 0.042905]"
            ]
          },
          "metadata": {},
          "execution_count": 188
        }
      ]
    },
    {
      "cell_type": "code",
      "metadata": {
        "id": "-oVnc3FR_DfB"
      },
      "source": [],
      "execution_count": null,
      "outputs": []
    },
    {
      "cell_type": "markdown",
      "metadata": {
        "id": "6lEpxbMqoPdG"
      },
      "source": [
        "### SVD_COV\n"
      ]
    },
    {
      "cell_type": "code",
      "metadata": {
        "id": "o-7SsHoVo2gx",
        "outputId": "c6e6fb89-4de7-4ca6-8d1c-c8ebf340c15e"
      },
      "source": [
        "SVD_AvgCoverage_List = AllSteps_Coverage_Ratio(newMLDF_20M,AllUsersSVD_PRED,'Updated_ItemID')\n",
        "SVD_AvgCoverage_List"
      ],
      "execution_count": 189,
      "outputs": [
        {
          "output_type": "execute_result",
          "data": {
            "text/plain": [
              "[0.043292,\n",
              " 0.043147,\n",
              " 0.043243,\n",
              " 0.043243,\n",
              " 0.043678,\n",
              " 0.043822,\n",
              " 0.044112,\n",
              " 0.044208,\n",
              " 0.044112,\n",
              " 0.044402,\n",
              " 0.044788,\n",
              " 0.045077,\n",
              " 0.04527,\n",
              " 0.04527,\n",
              " 0.044643]"
            ]
          },
          "metadata": {},
          "execution_count": 189
        }
      ]
    },
    {
      "cell_type": "code",
      "metadata": {
        "id": "Oxcy-gTkrRVG"
      },
      "source": [],
      "execution_count": null,
      "outputs": []
    },
    {
      "cell_type": "markdown",
      "metadata": {
        "id": "q5lllTOKrGZi"
      },
      "source": [
        "### RRec_COV"
      ]
    },
    {
      "cell_type": "code",
      "metadata": {
        "id": "DUFoVqur8NHb",
        "outputId": "da623733-8c91-4c52-d440-d610613648bf"
      },
      "source": [
        "##COVERAGE\n",
        "RRec_AvgCoverageList = AllSteps_Coverage_Ratio(newMLDF_20M,All_UsersRRecPred,'Updated_ItemID')\n",
        "RRec_AvgCoverageList"
      ],
      "execution_count": 190,
      "outputs": [
        {
          "output_type": "execute_result",
          "data": {
            "text/plain": [
              "[1.0, 1.0, 1.0, 1.0, 1.0, 1.0, 1.0, 1.0, 1.0, 1.0, 1.0, 1.0, 1.0, 1.0, 1.0]"
            ]
          },
          "metadata": {},
          "execution_count": 190
        }
      ]
    },
    {
      "cell_type": "code",
      "metadata": {
        "id": "J2VTX-PBsUVL"
      },
      "source": [],
      "execution_count": null,
      "outputs": []
    },
    {
      "cell_type": "markdown",
      "metadata": {
        "id": "TQEA5_2msUjM"
      },
      "source": [
        "### Mpop_COV"
      ]
    },
    {
      "cell_type": "code",
      "metadata": {
        "id": "LcCzVhcD8NHv",
        "outputId": "804e1087-609c-4f93-8b8f-2a0c926cf0a5"
      },
      "source": [
        "##COVERAGE\n",
        "MPop_AvgCoverageList = AllSteps_Coverage_Ratio(newMLDF_20M,All_MostPOPRED_List,'Updated_ItemID')\n",
        "MPop_AvgCoverageList"
      ],
      "execution_count": 191,
      "outputs": [
        {
          "output_type": "execute_result",
          "data": {
            "text/plain": [
              "[0.000483,\n",
              " 0.000483,\n",
              " 0.000483,\n",
              " 0.000483,\n",
              " 0.000483,\n",
              " 0.000483,\n",
              " 0.000483,\n",
              " 0.000483,\n",
              " 0.000483,\n",
              " 0.000483,\n",
              " 0.000483,\n",
              " 0.000483,\n",
              " 0.000483,\n",
              " 0.000483,\n",
              " 0.000483]"
            ]
          },
          "metadata": {},
          "execution_count": 191
        }
      ]
    },
    {
      "cell_type": "code",
      "metadata": {
        "id": "wLBSI-B3C6NG"
      },
      "source": [],
      "execution_count": null,
      "outputs": []
    },
    {
      "cell_type": "markdown",
      "metadata": {
        "id": "kfmr9AFQC6tA"
      },
      "source": [
        "### IALS_COV"
      ]
    },
    {
      "cell_type": "code",
      "metadata": {
        "id": "U0VvTDfJC11T"
      },
      "source": [
        "###cOVERAGE:\n",
        "als_AvgCovList = AllSteps_Coverage_Ratio(newMLDF_20M,All_alsPRED_List,'Updated_ItemID')\n",
        "als_AvgCovList"
      ],
      "execution_count": 192,
      "outputs": [
        {
          "output_type": "execute_result",
          "data": {
            "text/plain": [
              "[0.117712,\n",
              " 0.117664,\n",
              " 0.117712,\n",
              " 0.117712,\n",
              " 0.117712,\n",
              " 0.117857,\n",
              " 0.118002,\n",
              " 0.118002,\n",
              " 0.118098,\n",
              " 0.118243,\n",
              " 0.118243,\n",
              " 0.11834,\n",
              " 0.118726,\n",
              " 0.11916,\n",
              " 0.119208]"
            ]
          },
          "metadata": {},
          "execution_count": 192
        }
      ]
    },
    {
      "cell_type": "code",
      "metadata": {
        "id": "q2oT8wMP8NG_"
      },
      "source": [
        "## AllSVD Prediction"
      ],
      "execution_count": null,
      "outputs": []
    },
    {
      "cell_type": "markdown",
      "metadata": {
        "id": "00phYsByS9Oq"
      },
      "source": [
        "## CORRELATION Report\n"
      ]
    },
    {
      "cell_type": "code",
      "metadata": {
        "id": "YpmeR79n8NHC"
      },
      "source": [],
      "execution_count": null,
      "outputs": []
    },
    {
      "cell_type": "code",
      "metadata": {
        "colab": {
          "base_uri": "https://localhost:8080/"
        },
        "id": "UkFqDvcW_Amh",
        "outputId": "5ab6a0c0-723f-4ae3-a451-b5db08df1ca0"
      },
      "source": [
        "AllSteps = list(range(1,15))\n",
        "print(len(AllSteps))\n",
        "print(len(AllUsers_updtPRED))\n",
        "AllSteps"
      ],
      "execution_count": 193,
      "outputs": [
        {
          "output_type": "stream",
          "name": "stdout",
          "text": [
            "14\n15\n"
          ]
        },
        {
          "output_type": "execute_result",
          "data": {
            "text/plain": [
              "[1, 2, 3, 4, 5, 6, 7, 8, 9, 10, 11, 12, 13, 14]"
            ]
          },
          "metadata": {},
          "execution_count": 193
        }
      ]
    },
    {
      "cell_type": "markdown",
      "metadata": {
        "id": "4GLHnKJViAHo"
      },
      "source": [
        "####  Updated_Corr "
      ]
    },
    {
      "cell_type": "code",
      "execution_count": null,
      "metadata": {},
      "outputs": [],
      "source": [
        "#newHOLDOUT_LIST  newUserItem_list new_PSIDFlist newMLDF_1M"
      ]
    },
    {
      "cell_type": "code",
      "metadata": {
        "colab": {
          "base_uri": "https://localhost:8080/"
        },
        "id": "QlTrlJKrNwRC",
        "outputId": "48d55153-12ed-4742-be38-3beb3266a589"
      },
      "source": [
        "UpdtPSICorr_ = Updt_getAll_AvgCorr(AllUsers_updtPRED,newUserItem_list,AllSteps,'Updated_UserID')  #,\n",
        "UpdtPSICorr_"
      ],
      "execution_count": 194,
      "outputs": [
        {
          "output_type": "execute_result",
          "data": {
            "text/plain": [
              "array([array([1.        , 1.        , 1.        , ..., 0.        , 0.5327588 ,\n",
              "              0.92942099])                                                    ,\n",
              "       array([1.        , 1.        , 1.        , ..., 1.        , 0.88483146,\n",
              "              0.93397092])                                                    ,\n",
              "       array([1.        , 1.        , 1.        , ..., 0.37435993, 1.        ,\n",
              "              0.22080715])                                                    ,\n",
              "       array([1., 1., 1., ..., 0., 0., 0.]),\n",
              "       array([1.        , 0.98788042, 1.        , ..., 0.14186262, 0.47797357,\n",
              "              0.25762481])                                                    ,\n",
              "       array([1.        , 1.        , 1.        , ..., 0.12326891, 0.97749498,\n",
              "              0.        ])                                                    ,\n",
              "       array([1.        , 0.99244163, 1.        , ..., 0.74656886, 0.97010543,\n",
              "              0.42311771])                                                    ,\n",
              "       array([1.        , 1.        , 1.        , ..., 0.3124111 , 0.27203791,\n",
              "              0.0373858 ])                                                    ,\n",
              "       array([1.        , 1.        , 1.        , ..., 0.        , 0.56692495,\n",
              "              0.92238573])                                                    ,\n",
              "       array([1.        , 1.        , 1.        , ..., 0.95006605, 0.76473401,\n",
              "              0.39619786])                                                    ,\n",
              "       array([1.        , 1.        , 1.        , ..., 0.40176621, 0.02180383,\n",
              "              0.24500295])                                                    ,\n",
              "       array([1.        , 0.98387314, 1.        , ..., 0.85173106, 0.9077281 ,\n",
              "              0.03534858])                                                    ,\n",
              "       array([1.        , 1.        , 1.        , ..., 0.91813929, 0.03994364,\n",
              "              0.60753566])                                                    ,\n",
              "       array([0.93397092, 1.        , 1.        , ..., 0.99244163, 0.4435752 ,\n",
              "              0.42987214])                                                    ],\n",
              "      dtype=object)"
            ]
          },
          "metadata": {},
          "execution_count": 194
        }
      ]
    },
    {
      "cell_type": "code",
      "execution_count": null,
      "metadata": {},
      "outputs": [],
      "source": []
    },
    {
      "cell_type": "code",
      "metadata": {
        "colab": {
          "base_uri": "https://localhost:8080/"
        },
        "id": "Ms8Nj-1ndBAG",
        "outputId": "744e9e7a-12fa-4919-a992-faa64d30e9b2"
      },
      "source": [
        "UpdtPSICorr_.shape\n",
        "for df in UpdtPSICorr_:\n",
        "    print(df.mean())  "
      ],
      "execution_count": 195,
      "outputs": [
        {
          "output_type": "stream",
          "name": "stdout",
          "text": [
            "0.9869968716072547\n0.9868989972464394\n0.9865945505051228\n0.9867358455398915\n0.9870913236773649\n0.9873940193396127\n0.9861379816431397\n0.9847879831721422\n0.9859487909279454\n0.9857501791677638\n0.9862889000073568\n0.9861786579017224\n0.9869899653239385\n0.9867127416063536\n"
          ]
        }
      ]
    },
    {
      "cell_type": "code",
      "metadata": {
        "id": "PhfkO3EcJN5W"
      },
      "source": [],
      "execution_count": null,
      "outputs": []
    },
    {
      "cell_type": "markdown",
      "metadata": {
        "id": "s19yQCNaTxSL"
      },
      "source": [
        "#### RegPSI Corr_"
      ]
    },
    {
      "cell_type": "code",
      "metadata": {
        "colab": {
          "base_uri": "https://localhost:8080/"
        },
        "id": "5jPXwk8KTxS9",
        "outputId": "c3ed416c-2aab-4494-b731-b57f7a837dd8"
      },
      "source": [
        "RegPSICorr_ = Updt_getAll_AvgCorr(AllUsersRegPIS_PRED,newUserItem_list,AllSteps,'Updated_UserID')  #,\n",
        "RegPSICorr_"
      ],
      "execution_count": 196,
      "outputs": [
        {
          "output_type": "execute_result",
          "data": {
            "text/plain": [
              "array([array([1.        , 1.        , 1.        , ..., 0.        , 0.5327588 ,\n",
              "              0.92942099])                                                    ,\n",
              "       array([1.        , 1.        , 1.        , ..., 1.        , 0.88483146,\n",
              "              0.99244163])                                                    ,\n",
              "       array([1.        , 1.        , 1.        , ..., 0.37435993, 0.94467132,\n",
              "              0.22080715])                                                    ,\n",
              "       array([1.        , 0.99244163, 1.        , ..., 0.        , 0.        ,\n",
              "              0.        ])                                                    ,\n",
              "       array([1.        , 1.        , 1.        , ..., 0.14933043, 0.47384185,\n",
              "              0.25762481])                                                    ,\n",
              "       array([1.        , 0.98788042, 1.        , ..., 0.12326891, 0.97749498,\n",
              "              0.        ])                                                    ,\n",
              "       array([1.        , 1.        , 1.        , ..., 0.74656886, 0.97010543,\n",
              "              0.39487858])                                                    ,\n",
              "       array([1.        , 1.        , 1.        , ..., 0.3124111 , 0.27511445,\n",
              "              0.01933435])                                                    ,\n",
              "       array([1.        , 1.        , 1.        , ..., 0.        , 0.5946851 ,\n",
              "              0.90084986])                                                    ,\n",
              "       array([1.        , 1.        , 1.        , ..., 0.97194764, 0.77748344,\n",
              "              0.43028776])                                                    ,\n",
              "       array([1.        , 1.        , 1.        , ..., 0.23552059, 0.02180383,\n",
              "              0.24974602])                                                    ,\n",
              "       array([1.        , 0.98387314, 1.        , ..., 0.79651941, 0.9077281 ,\n",
              "              0.04457968])                                                    ,\n",
              "       array([1.        , 1.        , 1.        , ..., 0.93397092, 0.0373858 ,\n",
              "              0.60753566])                                                    ,\n",
              "       array([1.        , 1.        , 1.        , ..., 1.        , 0.4386512 ,\n",
              "              0.54285117])                                                    ],\n",
              "      dtype=object)"
            ]
          },
          "metadata": {},
          "execution_count": 196
        }
      ]
    },
    {
      "cell_type": "code",
      "metadata": {
        "colab": {
          "base_uri": "https://localhost:8080/"
        },
        "id": "7Jw6LVmFTxTC",
        "outputId": "38745d49-00dd-4f61-c7d0-78bc0f17010f"
      },
      "source": [
        "RegPSICorr_.shape\n",
        "for df in RegPSICorr_:\n",
        "    print(df.mean())  "
      ],
      "execution_count": 197,
      "outputs": [
        {
          "output_type": "stream",
          "name": "stdout",
          "text": [
            "0.9855048062717018\n0.9861018386404111\n0.9852377038892418\n0.9857303673077384\n0.9862022524456981\n0.9866724545432374\n0.9854086006170346\n0.9847044408034471\n0.9852414145782077\n0.9852197279323629\n0.9858297502108592\n0.9850812223405825\n0.9861475520293389\n0.9863765964344147\n"
          ]
        }
      ]
    },
    {
      "cell_type": "code",
      "metadata": {
        "id": "O1ZQgxN2TxTF"
      },
      "source": [],
      "execution_count": null,
      "outputs": []
    },
    {
      "cell_type": "markdown",
      "metadata": {
        "id": "yfOZLbLYuqpn"
      },
      "source": [
        "#### SVD Corr_"
      ]
    },
    {
      "cell_type": "code",
      "metadata": {
        "colab": {
          "base_uri": "https://localhost:8080/"
        },
        "id": "B6Dik3BEvZDE",
        "outputId": "133b7aeb-06be-4e8c-defd-8c5e80bbca0a"
      },
      "source": [
        "pureSVDCorr_ = Updt_getAll_AvgCorr(AllUsersSVD_PRED,newUserItem_list,AllSteps,'Updated_UserID')  #,\n",
        "pureSVDCorr_"
      ],
      "execution_count": 198,
      "outputs": [
        {
          "output_type": "execute_result",
          "data": {
            "text/plain": [
              "array([array([1.        , 1.        , 0.9188873 , ..., 0.        , 0.52326901,\n",
              "              0.9526455 ])                                                    ,\n",
              "       array([1.        , 1.        , 0.94287971, ..., 0.96643133, 0.91739187,\n",
              "              0.93397092])                                                    ,\n",
              "       array([1.        , 1.        , 0.9188873 , ..., 0.40176621, 1.        ,\n",
              "              0.26897619])                                                    ,\n",
              "       array([0.88386932, 1.        , 1.        , ..., 0.        , 0.        ,\n",
              "              0.01933435])                                                    ,\n",
              "       array([1.        , 0.99056095, 0.82833787, ..., 0.12661223, 0.46768741,\n",
              "              0.20792079])                                                    ,\n",
              "       array([1.        , 1.        , 0.98788042, ..., 0.1898122 , 0.93473132,\n",
              "              0.        ])                                                    ,\n",
              "       array([1.        , 1.        , 0.96643133, ..., 0.7153149 , 0.9226361 ,\n",
              "              0.7308008 ])                                                    ,\n",
              "       array([0.88555371, 1.        , 0.8923215 , ..., 0.18751508, 0.47797357,\n",
              "              0.01736733])                                                    ,\n",
              "       array([1.        , 1.        , 0.96172757, ..., 0.        , 0.46346783,\n",
              "              0.97010543])                                                    ,\n",
              "       array([0.87787813, 0.98307362, 0.93930636, ..., 0.93397092, 0.70836709,\n",
              "              0.43376068])                                                    ,\n",
              "       array([0.87787813, 1.        , 0.96826667, ..., 0.25869714, 0.        ,\n",
              "              0.23552059])                                                    ,\n",
              "       array([0.97194764, 0.98788042, 0.93930636, ..., 0.81418213, 0.92942099,\n",
              "              0.01736733])                                                    ,\n",
              "       array([1.        , 1.        , 0.93321111, ..., 1.        , 0.10967451,\n",
              "              0.43907194])                                                    ,\n",
              "       array([1.        , 1.        , 0.96643133, ..., 0.83310567, 0.41547608,\n",
              "              0.84271627])                                                    ],\n",
              "      dtype=object)"
            ]
          },
          "metadata": {},
          "execution_count": 198
        }
      ]
    },
    {
      "cell_type": "code",
      "metadata": {
        "colab": {
          "base_uri": "https://localhost:8080/"
        },
        "id": "ei8R6zjrvZDG",
        "outputId": "15f545fe-060f-49aa-cce9-b1b0b3e96fee"
      },
      "source": [
        "pureSVDCorr_.shape\n",
        "for df in pureSVDCorr_:\n",
        "    print(df.mean())  "
      ],
      "execution_count": 199,
      "outputs": [
        {
          "output_type": "stream",
          "name": "stdout",
          "text": [
            "0.9579424284625256\n0.965364936075921\n0.9642275983258505\n0.9608110874077603\n0.953990420958191\n0.9599172349005631\n0.9566948972961938\n0.9513547931345175\n0.9524740479592377\n0.9549345307900835\n0.9570971666956241\n0.9560427963904784\n0.9606629440666354\n0.9639037143474501\n"
          ]
        }
      ]
    },
    {
      "cell_type": "code",
      "metadata": {
        "id": "RG9tvVXSvYaX"
      },
      "source": [],
      "execution_count": null,
      "outputs": []
    },
    {
      "cell_type": "markdown",
      "metadata": {
        "id": "xwHxO9FCrisT"
      },
      "source": [
        "### RRec_Corr "
      ]
    },
    {
      "cell_type": "code",
      "metadata": {
        "id": "3xq4aMTZ8NHc",
        "outputId": "21f01b8a-82ee-431c-f265-e14de586903e"
      },
      "source": [
        "RandRec_Corr = Updt_getAll_AvgCorr(All_UsersRRecPred,newUserItem_list,AllSteps,'Updated_UserID')  #,\n",
        "RandRec_Corr"
      ],
      "execution_count": 200,
      "outputs": [
        {
          "output_type": "execute_result",
          "data": {
            "text/plain": [
              "array([array([0., 0., 0., ..., 0., 0., 0.]),\n",
              "       array([0., 0., 0., ..., 0., 0., 0.]),\n",
              "       array([0., 0., 0., ..., 0., 0., 0.]),\n",
              "       array([0., 0., 0., ..., 0., 0., 0.]),\n",
              "       array([0., 0., 0., ..., 0., 0., 0.]),\n",
              "       array([0., 0., 0., ..., 0., 0., 0.]),\n",
              "       array([0., 0., 0., ..., 0., 0., 0.]),\n",
              "       array([0., 0., 0., ..., 0., 0., 0.]),\n",
              "       array([0., 0., 0., ..., 0., 0., 0.]),\n",
              "       array([0., 0., 0., ..., 0., 0., 0.]),\n",
              "       array([0., 0., 0., ..., 0., 0., 0.]),\n",
              "       array([0., 0., 0., ..., 0., 0., 0.]),\n",
              "       array([0., 0., 0., ..., 0., 0., 0.]),\n",
              "       array([0., 0., 0., ..., 0., 0., 0.])], dtype=object)"
            ]
          },
          "metadata": {},
          "execution_count": 200
        }
      ]
    },
    {
      "cell_type": "code",
      "metadata": {
        "id": "yAYdhFex8NHd",
        "outputId": "f066b764-1806-419c-89cf-508e6e36f6eb"
      },
      "source": [
        "RandRec_Corr.shape\n",
        "for df in RandRec_Corr:\n",
        "    print(df.mean())  "
      ],
      "execution_count": 201,
      "outputs": [
        {
          "output_type": "stream",
          "name": "stdout",
          "text": [
            "0.00014943053005383439\n0.00014655634827379167\n0.00016311911918226105\n0.00015405213865251005\n0.0001428826447486091\n0.00015048594727601791\n0.00015796929672729035\n0.00015671588665702664\n0.00014516019575147408\n0.00016528054798944014\n0.00015321439168188263\n0.0001413929288347257\n0.00014559461697162025\n0.00014997510393781067\n"
          ]
        }
      ]
    },
    {
      "cell_type": "code",
      "metadata": {
        "id": "YAou17RX8NHf"
      },
      "source": [],
      "execution_count": null,
      "outputs": []
    },
    {
      "cell_type": "markdown",
      "metadata": {
        "id": "3W-oNrd2s__2"
      },
      "source": [
        "### Mpop_Corr "
      ]
    },
    {
      "cell_type": "code",
      "metadata": {
        "colab": {
          "base_uri": "https://localhost:8080/"
        },
        "id": "CbzcieIu7oCt",
        "outputId": "5c7ee35e-baa8-4a5a-efbf-2f07298adec1"
      },
      "source": [
        "MPop_Corr = Updt_getAll_AvgCorr(All_MostPOPRED_List,newUserItem_list,AllSteps,'Updated_UserID')  #,\n",
        "MPop_Corr"
      ],
      "execution_count": 202,
      "outputs": [
        {
          "output_type": "execute_result",
          "data": {
            "text/plain": [
              "array([array([0.88146826, 0.88146826, 0.88146826, ..., 0.88146826, 0.88146826,\n",
              "              0.88146826])                                                    ,\n",
              "       array([0.39435156, 0.39435156, 0.39435156, ..., 0.39435156, 0.39435156,\n",
              "              0.39435156])                                                    ,\n",
              "       array([0.47017229, 0.47017229, 0.47017229, ..., 0.47017229, 0.47017229,\n",
              "              0.47017229])                                                    ,\n",
              "       array([0.39382495, 0.39382495, 0.39382495, ..., 0.39382495, 0.39382495,\n",
              "              0.39382495])                                                    ,\n",
              "       array([0.44146079, 0.44146079, 0.44146079, ..., 0.44146079, 0.44146079,\n",
              "              0.44146079])                                                    ,\n",
              "       array([0.45095341, 0.45095341, 0.45095341, ..., 0.45095341, 0.45095341,\n",
              "              0.45095341])                                                    ,\n",
              "       array([0.43851101, 0.43851101, 0.43851101, ..., 0.43851101, 0.43851101,\n",
              "              0.43851101])                                                    ,\n",
              "       array([0.65548951, 0.65548951, 0.65548951, ..., 0.65548951, 0.65548951,\n",
              "              0.65548951])                                                    ,\n",
              "       array([0.76346912, 0.76346912, 0.76346912, ..., 0.76346912, 0.76346912,\n",
              "              0.76346912])                                                    ,\n",
              "       array([0.70010365, 0.70010365, 0.70010365, ..., 0.70010365, 0.70010365,\n",
              "              0.70010365])                                                    ,\n",
              "       array([0.77087332, 0.77087332, 0.77087332, ..., 0.77087332, 0.77087332,\n",
              "              0.77087332])                                                    ,\n",
              "       array([0.5519344, 0.5519344, 0.5519344, ..., 0.5519344, 0.5519344,\n",
              "              0.5519344])                                                ,\n",
              "       array([0.40216565, 0.40216565, 0.40216565, ..., 0.40216565, 0.40216565,\n",
              "              0.40216565])                                                    ,\n",
              "       array([0.57092689, 0.57092689, 0.57092689, ..., 0.57092689, 0.57092689,\n",
              "              0.57092689])                                                    ],\n",
              "      dtype=object)"
            ]
          },
          "metadata": {},
          "execution_count": 202
        }
      ]
    },
    {
      "cell_type": "code",
      "metadata": {
        "id": "aVz6areR8NH0",
        "outputId": "813e828e-7d5e-41f1-9c2b-02cdc99f9dbb"
      },
      "source": [
        "MPop_Corr.shape\n",
        "for df in MPop_Corr:\n",
        "    print(df.mean())  "
      ],
      "execution_count": 203,
      "outputs": [
        {
          "output_type": "stream",
          "name": "stdout",
          "text": [
            "0.8814682640836098\n0.39435156323793324\n0.4701722935962555\n0.39382494570862053\n0.44146079484425366\n0.45095341065461\n0.43851101149873295\n0.6554895144106763\n0.7634691195795007\n0.700103650811931\n0.7708733205374277\n0.5519343986543311\n0.4021656534954409\n0.5709268915611362\n"
          ]
        }
      ]
    },
    {
      "cell_type": "code",
      "metadata": {
        "id": "kvEzAs238NHt"
      },
      "source": [],
      "execution_count": null,
      "outputs": []
    },
    {
      "cell_type": "markdown",
      "metadata": {
        "id": "6a9Dpzf2Cqwk"
      },
      "source": [
        "### iALS_Corr "
      ]
    },
    {
      "cell_type": "code",
      "metadata": {
        "id": "zbx2IlID8NH1"
      },
      "source": [
        "iALSCorr_ = Updt_getAll_AvgCorr(All_alsPRED_List,newUserItem_list,AllSteps,'Updated_UserID')  #,\n",
        "iALSCorr_"
      ],
      "execution_count": 204,
      "outputs": [
        {
          "output_type": "execute_result",
          "data": {
            "text/plain": [
              "array([array([1.        , 1.        , 1.        , ..., 0.92690249, 1.        ,\n",
              "              1.        ])                                                    ,\n",
              "       array([1., 1., 1., ..., 1., 1., 1.]),\n",
              "       array([1., 1., 1., ..., 1., 1., 1.]),\n",
              "       array([1.        , 1.        , 1.        , ..., 0.71951077, 0.80796081,\n",
              "              0.09331951])                                                    ,\n",
              "       array([1.        , 1.        , 1.        , ..., 0.32264134, 0.92690249,\n",
              "              0.87216233])                                                    ,\n",
              "       array([1.        , 1.        , 1.        , ..., 0.78048486, 1.        ,\n",
              "              0.49096051])                                                    ,\n",
              "       array([1.        , 1.        , 1.        , ..., 0.91813929, 1.        ,\n",
              "              1.        ])                                                    ,\n",
              "       array([1.        , 1.        , 1.        , ..., 1.        , 0.92690249,\n",
              "              0.08321104])                                                    ,\n",
              "       array([1.        , 1.        , 1.        , ..., 0.90698876, 1.        ,\n",
              "              1.        ])                                                    ,\n",
              "       array([1.        , 1.        , 1.        , ..., 1.        , 1.        ,\n",
              "              0.77300024])                                                    ,\n",
              "       array([1.        , 1.        , 1.        , ..., 1.        , 0.67979062,\n",
              "              1.        ])                                                    ,\n",
              "       array([1.       , 1.       , 1.       , ..., 1.       , 1.       ,\n",
              "              0.0882418])                                                ,\n",
              "       array([1.        , 1.        , 1.        , ..., 1.        , 0.49096051,\n",
              "              0.93397092])                                                    ,\n",
              "       array([1., 1., 1., ..., 1., 1., 1.])], dtype=object)"
            ]
          },
          "metadata": {},
          "execution_count": 204
        }
      ]
    },
    {
      "cell_type": "code",
      "metadata": {
        "id": "gshLEV6neh4Y"
      },
      "source": [
        "iALSCorr_.shape\n",
        "for df in iALSCorr_:\n",
        "    print(df.mean())  "
      ],
      "execution_count": 205,
      "outputs": [
        {
          "output_type": "stream",
          "name": "stdout",
          "text": [
            "0.9987567467120707\n0.9991266579475448\n0.9989145893222382\n0.9989932732371845\n0.99905141450639\n0.9990424458960305\n0.999147814037508\n0.9992544468887866\n0.9989828959987427\n0.9990199918046216\n0.9990891580278136\n0.9988215829920856\n0.9989475675329732\n0.9992511952139278\n"
          ]
        }
      ]
    },
    {
      "cell_type": "markdown",
      "metadata": {
        "id": "MNzZxw2UtL8a"
      },
      "source": [
        "## Multi VAE"
      ]
    },
    {
      "cell_type": "markdown",
      "metadata": {
        "id": "jFLj9KfTGq4d"
      },
      "source": [
        "###Functions"
      ]
    },
    {
      "cell_type": "code",
      "metadata": {
        "id": "VpAzvqaY8NH2"
      },
      "source": [
        "from e_VAEfunction import split_users, split_train_test, numerize_data, get_TrainRatMat, getTrainTest_RatMat"
      ],
      "execution_count": 34,
      "outputs": []
    },
    {
      "cell_type": "code",
      "metadata": {
        "id": "zD4s8IY4DvsK"
      },
      "source": [
        "use_cuda = torch.cuda.is_available()\n",
        "device = torch.device(\"cuda\" if use_cuda else \"cpu\")"
      ],
      "execution_count": 35,
      "outputs": []
    },
    {
      "cell_type": "code",
      "execution_count": 36,
      "metadata": {},
      "outputs": [],
      "source": [
        "def init_weights(model):\n",
        "    for name, param in model.named_parameters():\n",
        "        if \"weight\" in name:\n",
        "            nn.init.xavier_uniform_(param.data)\n",
        "        elif \"bias\" in name:\n",
        "            param.data.normal_(std=0.001)\n",
        "\n",
        "def vae_loss_fn(inp, out, mu, logvar, anneal):\n",
        "    neg_ll = -torch.mean(torch.sum(F.log_softmax(out, 1) * inp, -1))\n",
        "    KLD = -0.5 * torch.mean(torch.sum(1 + logvar - mu.pow(2) - logvar.exp(), dim=1))\n",
        "    return neg_ll + anneal * KLD\n",
        "\n",
        "\n",
        "def early_stopping(curr_value, best_value, stop_step, patience, score_fn):\n",
        "    if (score_fn == \"loss\" and curr_value <= best_value) or (\n",
        "        score_fn == \"metric\" and curr_value >= best_value):\n",
        "        stop_step, best_value = 0, curr_value\n",
        "    else:\n",
        "        stop_step += 1\n",
        "    if stop_step >= patience:\n",
        "        print(\"Early stopping triggered. patience: {} log:{}\".format(patience, best_value))\n",
        "        stop = True\n",
        "    else:\n",
        "        stop = False\n",
        "    return best_value, stop_step, stop      \n",
        "\n"
      ]
    },
    {
      "cell_type": "code",
      "execution_count": null,
      "metadata": {},
      "outputs": [],
      "source": []
    },
    {
      "cell_type": "code",
      "execution_count": 58,
      "metadata": {},
      "outputs": [],
      "source": []
    },
    {
      "cell_type": "code",
      "metadata": {
        "id": "RIm6iBaE8NH5"
      },
      "source": [
        "class Encoder(nn.Module):\n",
        "    def __init__(self, q_dims, dropout):  ## q_dims: List[int], dropout: List[float]\n",
        "        super().__init__()\n",
        "\n",
        "        self.q_dims = q_dims\n",
        "        q_dims_ = self.q_dims[:-1] + [self.q_dims[-1] * 2]\n",
        "        self.q_layers = nn.Sequential()\n",
        "        for i, (p, inp, out) in enumerate(zip(dropout, q_dims_[:-1], q_dims_[1:])):\n",
        "            self.q_layers.add_module(\"_\".join([\"dropout\", str(i)]), nn.Dropout(p))\n",
        "            self.q_layers.add_module(\"_\".join([\"linear\", str(i)]), nn.Linear(inp, out))\n",
        "\n",
        "    def forward(self, X):\n",
        "        h = F.normalize(X, p=2, dim=1)\n",
        "        for i, layer in enumerate(self.q_layers):\n",
        "            h = layer(h)\n",
        "            if i != len(self.q_layers) - 1:\n",
        "                h = torch.tanh(h)\n",
        "            else:\n",
        "                mu, logvar = torch.split(h, self.q_dims[-1], dim=1)\n",
        "        return mu, logvar\n",
        "\n",
        "class Decoder(nn.Module):\n",
        "    def __init__(self, p_dims, dropout):  #p_dims: List[int], dropout: List[float]\n",
        "        super().__init__()\n",
        "\n",
        "        self.p_layers = nn.Sequential()\n",
        "        for i, (p, inp, out) in enumerate(zip(dropout, p_dims[:-1], p_dims[1:])):\n",
        "            self.p_layers.add_module(\"_\".join([\"dropout\", str(i)]), nn.Dropout(p))\n",
        "            self.p_layers.add_module(\"_\".join([\"linear\", str(i)]), nn.Linear(inp, out))\n",
        "\n",
        "    def forward(self, X):\n",
        "        h = X\n",
        "        for i, layer in enumerate(self.p_layers):\n",
        "            h = layer(h)\n",
        "            if i != len(self.p_layers) - 1:\n",
        "                h = torch.tanh(h)\n",
        "        return h\n",
        "\n",
        "\n",
        "class MultiVAE(nn.Module):\n",
        "    def __init__(self,p_dims,q_dims,dropout_enc,dropout_dec): #p_dims:List[int],q_dims:List[int],dropout_enc:List[float],dropout_dec:List[float], \n",
        "        super().__init__()\n",
        "        self.encode = Encoder(q_dims, dropout_enc)  #q_dims == Encoder dimensions\n",
        "        self.decode = Decoder(p_dims, dropout_dec)  #p_dims == Decoder dimensions\n",
        "\n",
        "    def forward(self, X):\n",
        "        mu, logvar = self.encode(X)\n",
        "        std = torch.exp(0.5 * logvar)\n",
        "        eps = torch.randn_like(std)\n",
        "        sampled_z = mu + float(self.training) * eps * std\n",
        "        return self.decode(sampled_z), mu, logvar        \n",
        "\n",
        "\n",
        "\n",
        "#Recall = (Relevant_Items_Recommended in top-k)/(Relevant_Items)\n",
        "\n"
      ],
      "execution_count": 37,
      "outputs": []
    },
    {
      "cell_type": "code",
      "metadata": {
        "id": "0ODKCnro8NH6"
      },
      "source": [],
      "execution_count": 217,
      "outputs": []
    },
    {
      "cell_type": "code",
      "metadata": {
        "id": "-h7m0OUv8NH7"
      },
      "source": [],
      "execution_count": 219,
      "outputs": []
    },
    {
      "cell_type": "code",
      "metadata": {
        "id": "pPjpfcaU8NH7"
      },
      "source": [],
      "execution_count": 220,
      "outputs": []
    },
    {
      "cell_type": "markdown",
      "metadata": {
        "id": "kkiCVmawGzlA"
      },
      "source": [
        "### Data Import"
      ]
    },
    {
      "cell_type": "code",
      "metadata": {
        "id": "xycH9Ztu8NH8",
        "outputId": "22306792-bbde-4d7b-f9c9-b8663206f457"
      },
      "source": [
        "#MOVIElen_20M\n",
        "newMLDF_20M = pd.read_csv('/home/oolaleke/incremental_PSI/Notebooks/MLDF20M_afterUpdt.csv.zip')\n",
        "newMLDF_20M['timestamp'] = pd.to_datetime(newMLDF_20M['timestamp']) \n",
        "print(newMLDF_20M.shape)   #userId_int\n",
        "print(newMLDF_20M.dtypes)\n",
        "newMLDF_20M.head()"
      ],
      "execution_count": 12,
      "outputs": [
        {
          "output_type": "stream",
          "name": "stdout",
          "text": [
            "(9990682, 9)\nuserid                     int64\nmovieId                    int64\nrating                     int64\ntimestamp         datetime64[ns]\ntimestamp_YM              object\nuserId                     int64\nproductId                  int64\nUpdated_UserID             int64\nUpdated_ItemID             int64\ndtype: object\n"
          ]
        },
        {
          "output_type": "execute_result",
          "data": {
            "text/plain": [
              "   userid  movieId  rating           timestamp timestamp_YM  userId  \\\n",
              "0   28507     1176       1 1995-01-09 11:46:44      1995-01       0   \n",
              "1  131160       47       1 1995-01-09 11:46:49      1995-01       1   \n",
              "2   85252       70       1 1996-01-29 00:00:00      1996-01       2   \n",
              "3  134445       45       1 1996-01-29 00:00:00      1996-01       3   \n",
              "4   99851       10       1 1996-01-29 00:00:00      1996-01       4   \n",
              "\n",
              "   productId  Updated_UserID  Updated_ItemID  \n",
              "0          0               0               0  \n",
              "1          1               1               1  \n",
              "2          2               2               2  \n",
              "3          3               3               3  \n",
              "4          4               4               4  "
            ],
            "text/html": "<div>\n<style scoped>\n    .dataframe tbody tr th:only-of-type {\n        vertical-align: middle;\n    }\n\n    .dataframe tbody tr th {\n        vertical-align: top;\n    }\n\n    .dataframe thead th {\n        text-align: right;\n    }\n</style>\n<table border=\"1\" class=\"dataframe\">\n  <thead>\n    <tr style=\"text-align: right;\">\n      <th></th>\n      <th>userid</th>\n      <th>movieId</th>\n      <th>rating</th>\n      <th>timestamp</th>\n      <th>timestamp_YM</th>\n      <th>userId</th>\n      <th>productId</th>\n      <th>Updated_UserID</th>\n      <th>Updated_ItemID</th>\n    </tr>\n  </thead>\n  <tbody>\n    <tr>\n      <th>0</th>\n      <td>28507</td>\n      <td>1176</td>\n      <td>1</td>\n      <td>1995-01-09 11:46:44</td>\n      <td>1995-01</td>\n      <td>0</td>\n      <td>0</td>\n      <td>0</td>\n      <td>0</td>\n    </tr>\n    <tr>\n      <th>1</th>\n      <td>131160</td>\n      <td>47</td>\n      <td>1</td>\n      <td>1995-01-09 11:46:49</td>\n      <td>1995-01</td>\n      <td>1</td>\n      <td>1</td>\n      <td>1</td>\n      <td>1</td>\n    </tr>\n    <tr>\n      <th>2</th>\n      <td>85252</td>\n      <td>70</td>\n      <td>1</td>\n      <td>1996-01-29 00:00:00</td>\n      <td>1996-01</td>\n      <td>2</td>\n      <td>2</td>\n      <td>2</td>\n      <td>2</td>\n    </tr>\n    <tr>\n      <th>3</th>\n      <td>134445</td>\n      <td>45</td>\n      <td>1</td>\n      <td>1996-01-29 00:00:00</td>\n      <td>1996-01</td>\n      <td>3</td>\n      <td>3</td>\n      <td>3</td>\n      <td>3</td>\n    </tr>\n    <tr>\n      <th>4</th>\n      <td>99851</td>\n      <td>10</td>\n      <td>1</td>\n      <td>1996-01-29 00:00:00</td>\n      <td>1996-01</td>\n      <td>4</td>\n      <td>4</td>\n      <td>4</td>\n      <td>4</td>\n    </tr>\n  </tbody>\n</table>\n</div>"
          },
          "metadata": {},
          "execution_count": 12
        }
      ]
    },
    {
      "cell_type": "code",
      "metadata": {
        "id": "3J31ET588NH_",
        "outputId": "1938765d-08ef-4d13-ad63-b953541ce741"
      },
      "source": [
        "newMLDF_20M['Updated_UserID'].nunique()"
      ],
      "execution_count": 13,
      "outputs": [
        {
          "output_type": "execute_result",
          "data": {
            "text/plain": [
              "136677"
            ]
          },
          "metadata": {},
          "execution_count": 13
        }
      ]
    },
    {
      "cell_type": "code",
      "metadata": {
        "id": "Qxj9EM848NIA",
        "outputId": "405f762b-7309-44fb-d95d-516b98b706d7"
      },
      "source": [
        "raw_data = newMLDF_20M\n",
        "user_activity =   raw_data['Updated_UserID'].unique()\n",
        "item_popularity = raw_data['Updated_ItemID'].unique()\n",
        "print(user_activity.shape)\n",
        "print(item_popularity.shape)\n",
        "print()\n",
        "sparsity = 1. * raw_data.shape[0] / (user_activity.shape[0] * item_popularity.shape[0])\n",
        "\n",
        "print(\"After filtering, there are %d watching events from %d users and %d movies (sparsity: %.3f%%)\" % \n",
        "      (raw_data.shape[0], user_activity.shape[0], item_popularity.shape[0], sparsity * 100))"
      ],
      "execution_count": 14,
      "outputs": [
        {
          "output_type": "stream",
          "name": "stdout",
          "text": [
            "(136677,)\n(20720,)\n\nAfter filtering, there are 9990682 watching events from 136677 users and 20720 movies (sparsity: 0.353%)\n"
          ]
        }
      ]
    },
    {
      "cell_type": "code",
      "metadata": {
        "id": "TVbNoHwR8NIB",
        "outputId": "82c038e8-c832-4a5d-dc0b-7f1c09a98390"
      },
      "source": [
        "unique_uid = user_activity\n",
        "train_users, valid_users, test_users = split_users(raw_data,'Updated_UserID',n_heldout_users=10000)\n",
        "print(train_users.shape)\n",
        "train_users"
      ],
      "execution_count": 15,
      "outputs": [
        {
          "output_type": "stream",
          "name": "stdout",
          "text": [
            "(116677,)\n"
          ]
        },
        {
          "output_type": "execute_result",
          "data": {
            "text/plain": [
              "array([104323,  11053, 111295, ..., 110461,  35852, 136618])"
            ]
          },
          "metadata": {},
          "execution_count": 15
        }
      ]
    },
    {
      "cell_type": "code",
      "metadata": {
        "id": "okI9dplV8NID",
        "outputId": "a826a61d-95fa-4607-baa4-3eb42f1cf12d"
      },
      "source": [
        "print(valid_users.shape)\n",
        "#valid_users"
      ],
      "execution_count": 16,
      "outputs": [
        {
          "output_type": "stream",
          "name": "stdout",
          "text": [
            "(10000,)\n"
          ]
        }
      ]
    },
    {
      "cell_type": "code",
      "metadata": {
        "id": "Vi7CVPLv8NIE",
        "outputId": "057693f0-d520-44a6-9b86-2eb69b6d2815"
      },
      "source": [
        "print(test_users.shape)\n",
        "#test_users"
      ],
      "execution_count": 17,
      "outputs": [
        {
          "output_type": "stream",
          "name": "stdout",
          "text": [
            "(10000,)\n"
          ]
        }
      ]
    },
    {
      "cell_type": "code",
      "metadata": {
        "id": "5eDTvBPd8NIF",
        "outputId": "7c9e9e95-c785-4831-e6c2-214f9aa0367c"
      },
      "source": [
        "##train data observation...\n",
        "train_df = raw_data.loc[raw_data['Updated_UserID'].isin(train_users)]\n",
        "print(train_df['Updated_UserID'].nunique())\n",
        "train_df.sample(10)"
      ],
      "execution_count": 18,
      "outputs": [
        {
          "output_type": "stream",
          "name": "stdout",
          "text": [
            "116677\n"
          ]
        },
        {
          "output_type": "execute_result",
          "data": {
            "text/plain": [
              "         userid  movieId  rating           timestamp timestamp_YM  userId  \\\n",
              "852947    83071      376       1 1997-02-08 14:52:45      1997-02   27273   \n",
              "716480    98098       62       1 1996-12-02 12:22:35      1996-12   23782   \n",
              "4194814   60666     1734       1 2002-11-07 13:19:05      2002-11   69308   \n",
              "9232925   25367      296       1 2012-12-16 17:06:50      2012-12  126873   \n",
              "4901622   38205     3510       1 2004-03-20 13:13:52      2004-03   76428   \n",
              "3241519   11747     3967       1 2001-02-12 04:02:33      2001-02   57243   \n",
              "2897122   10190     1210       1 2000-11-20 00:52:14      2000-11   55679   \n",
              "6949263   75879     1198       1 2007-09-21 21:46:54      2007-09   98731   \n",
              "9890013  135828      175       1 2015-01-22 05:46:15      2015-01  135432   \n",
              "5465198   98603     5971       1 2005-03-22 07:51:15      2005-03   82256   \n",
              "\n",
              "         productId  Updated_UserID  Updated_ItemID  \n",
              "852947         112           27273             112  \n",
              "716480          27           23782              27  \n",
              "4194814       1658           69308            1658  \n",
              "9232925         76          126873              76  \n",
              "4901622       3373           76428            3373  \n",
              "3241519       3758           57243            3758  \n",
              "2897122       1062           55679            1062  \n",
              "6949263       1048           98731            1048  \n",
              "9890013        248          135432             248  \n",
              "5465198       5639           82256            5639  "
            ],
            "text/html": "<div>\n<style scoped>\n    .dataframe tbody tr th:only-of-type {\n        vertical-align: middle;\n    }\n\n    .dataframe tbody tr th {\n        vertical-align: top;\n    }\n\n    .dataframe thead th {\n        text-align: right;\n    }\n</style>\n<table border=\"1\" class=\"dataframe\">\n  <thead>\n    <tr style=\"text-align: right;\">\n      <th></th>\n      <th>userid</th>\n      <th>movieId</th>\n      <th>rating</th>\n      <th>timestamp</th>\n      <th>timestamp_YM</th>\n      <th>userId</th>\n      <th>productId</th>\n      <th>Updated_UserID</th>\n      <th>Updated_ItemID</th>\n    </tr>\n  </thead>\n  <tbody>\n    <tr>\n      <th>852947</th>\n      <td>83071</td>\n      <td>376</td>\n      <td>1</td>\n      <td>1997-02-08 14:52:45</td>\n      <td>1997-02</td>\n      <td>27273</td>\n      <td>112</td>\n      <td>27273</td>\n      <td>112</td>\n    </tr>\n    <tr>\n      <th>716480</th>\n      <td>98098</td>\n      <td>62</td>\n      <td>1</td>\n      <td>1996-12-02 12:22:35</td>\n      <td>1996-12</td>\n      <td>23782</td>\n      <td>27</td>\n      <td>23782</td>\n      <td>27</td>\n    </tr>\n    <tr>\n      <th>4194814</th>\n      <td>60666</td>\n      <td>1734</td>\n      <td>1</td>\n      <td>2002-11-07 13:19:05</td>\n      <td>2002-11</td>\n      <td>69308</td>\n      <td>1658</td>\n      <td>69308</td>\n      <td>1658</td>\n    </tr>\n    <tr>\n      <th>9232925</th>\n      <td>25367</td>\n      <td>296</td>\n      <td>1</td>\n      <td>2012-12-16 17:06:50</td>\n      <td>2012-12</td>\n      <td>126873</td>\n      <td>76</td>\n      <td>126873</td>\n      <td>76</td>\n    </tr>\n    <tr>\n      <th>4901622</th>\n      <td>38205</td>\n      <td>3510</td>\n      <td>1</td>\n      <td>2004-03-20 13:13:52</td>\n      <td>2004-03</td>\n      <td>76428</td>\n      <td>3373</td>\n      <td>76428</td>\n      <td>3373</td>\n    </tr>\n    <tr>\n      <th>3241519</th>\n      <td>11747</td>\n      <td>3967</td>\n      <td>1</td>\n      <td>2001-02-12 04:02:33</td>\n      <td>2001-02</td>\n      <td>57243</td>\n      <td>3758</td>\n      <td>57243</td>\n      <td>3758</td>\n    </tr>\n    <tr>\n      <th>2897122</th>\n      <td>10190</td>\n      <td>1210</td>\n      <td>1</td>\n      <td>2000-11-20 00:52:14</td>\n      <td>2000-11</td>\n      <td>55679</td>\n      <td>1062</td>\n      <td>55679</td>\n      <td>1062</td>\n    </tr>\n    <tr>\n      <th>6949263</th>\n      <td>75879</td>\n      <td>1198</td>\n      <td>1</td>\n      <td>2007-09-21 21:46:54</td>\n      <td>2007-09</td>\n      <td>98731</td>\n      <td>1048</td>\n      <td>98731</td>\n      <td>1048</td>\n    </tr>\n    <tr>\n      <th>9890013</th>\n      <td>135828</td>\n      <td>175</td>\n      <td>1</td>\n      <td>2015-01-22 05:46:15</td>\n      <td>2015-01</td>\n      <td>135432</td>\n      <td>248</td>\n      <td>135432</td>\n      <td>248</td>\n    </tr>\n    <tr>\n      <th>5465198</th>\n      <td>98603</td>\n      <td>5971</td>\n      <td>1</td>\n      <td>2005-03-22 07:51:15</td>\n      <td>2005-03</td>\n      <td>82256</td>\n      <td>5639</td>\n      <td>82256</td>\n      <td>5639</td>\n    </tr>\n  </tbody>\n</table>\n</div>"
          },
          "metadata": {},
          "execution_count": 18
        }
      ]
    },
    {
      "cell_type": "code",
      "metadata": {
        "id": "v4pFsuyA8NIH",
        "outputId": "f8c1b158-b8b2-4dbe-8654-00bb7ff76c37"
      },
      "source": [
        "### items used in the training data...\n",
        "train_Items = pd.unique(train_df['Updated_ItemID']) \n",
        "print(len(train_Items))\n",
        "train_Items"
      ],
      "execution_count": 33,
      "outputs": [
        {
          "output_type": "stream",
          "name": "stdout",
          "text": [
            "20161\n"
          ]
        },
        {
          "output_type": "execute_result",
          "data": {
            "text/plain": [
              "array([    0,     1,     2, ..., 20509, 20510, 20511])"
            ]
          },
          "metadata": {},
          "execution_count": 33
        }
      ]
    },
    {
      "cell_type": "code",
      "metadata": {
        "id": "u2woxjzG8NII",
        "outputId": "84ec2f62-7674-4fe1-e76e-8b13e96a407f"
      },
      "source": [
        "# Save index dictionaries to \"numerise\" later one\n",
        "unique_uid = user_activity\n",
        "item2id = dict((sid, i) for (i, sid) in enumerate(train_Items))\n",
        "user2id = dict((pid, i) for (i, pid) in enumerate(unique_uid))\n",
        "print(len(item2id))\n",
        "print(len(user2id))"
      ],
      "execution_count": 20,
      "outputs": [
        {
          "output_type": "stream",
          "name": "stdout",
          "text": [
            "20161\n136677\n"
          ]
        }
      ]
    },
    {
      "cell_type": "code",
      "metadata": {
        "id": "ewiw5VTo8NIJ",
        "outputId": "3e6fb1f7-6668-4441-ec69-db6f609d7e1c"
      },
      "source": [
        "          #for validation and test they consider \"only\" items that have been seen during training\n",
        "valid_df = raw_data[raw_data[\"Updated_UserID\"].isin(valid_users)& raw_data[\"Updated_ItemID\"].isin(train_Items)]  #vd_obsrv \n",
        "test_df = raw_data[raw_data[\"Updated_UserID\"].isin(test_users) & raw_data[\"Updated_ItemID\"].isin(train_Items)]  #te_obsr\n",
        "print(\"Validation Set\")\n",
        "print(valid_df['Updated_UserID'].nunique())\n",
        "print(valid_df.shape)\n",
        "print()\n",
        "print(\"Test Set\")\n",
        "print(test_df['Updated_UserID'].nunique())\n",
        "print(test_df.shape)\n"
      ],
      "execution_count": 21,
      "outputs": [
        {
          "output_type": "stream",
          "name": "stdout",
          "text": [
            "Validation Set\n10000\n(747800, 9)\n\nTest Set\n10000\n(731563, 9)\n"
          ]
        }
      ]
    },
    {
      "cell_type": "code",
      "metadata": {
        "id": "got_WQUb8NIK",
        "outputId": "62acdbeb-b9ec-4c71-8585-5a399ef79c11"
      },
      "source": [
        "valid_trn, valid_tst = split_train_test(valid_df, test_prop=0.2)\n",
        "print(valid_trn.shape, valid_tst.shape) "
      ],
      "execution_count": 22,
      "outputs": [
        {
          "output_type": "stream",
          "name": "stdout",
          "text": [
            "0 users sampled\n",
            "250 users sampled\n",
            "500 users sampled\n",
            "750 users sampled\n",
            "1000 users sampled\n",
            "1250 users sampled\n",
            "1500 users sampled\n",
            "1750 users sampled\n",
            "2000 users sampled\n",
            "2250 users sampled\n",
            "2500 users sampled\n",
            "2750 users sampled\n",
            "3000 users sampled\n",
            "3250 users sampled\n",
            "3500 users sampled\n",
            "3750 users sampled\n",
            "4000 users sampled\n",
            "4250 users sampled\n",
            "4500 users sampled\n",
            "4750 users sampled\n",
            "5000 users sampled\n",
            "5250 users sampled\n",
            "5500 users sampled\n",
            "5750 users sampled\n",
            "6000 users sampled\n",
            "6250 users sampled\n",
            "6500 users sampled\n",
            "6750 users sampled\n",
            "7000 users sampled\n",
            "7250 users sampled\n",
            "7500 users sampled\n",
            "7750 users sampled\n",
            "8000 users sampled\n",
            "8250 users sampled\n",
            "8500 users sampled\n",
            "8750 users sampled\n",
            "9000 users sampled\n",
            "9250 users sampled\n",
            "9500 users sampled\n",
            "9750 users sampled\n",
            "(602214, 9) (145586, 9)\n"
          ]
        }
      ]
    },
    {
      "cell_type": "code",
      "metadata": {
        "id": "dOYqgXnD8NIL",
        "outputId": "f54a7286-d575-4cca-e3f7-60c34c588853"
      },
      "source": [
        "test_train, test_tst = split_train_test(test_df, test_prop=0.2)\n",
        "print(test_train.shape, test_tst.shape)   ##"
      ],
      "execution_count": 23,
      "outputs": [
        {
          "output_type": "stream",
          "name": "stdout",
          "text": [
            "0 users sampled\n",
            "250 users sampled\n",
            "500 users sampled\n",
            "750 users sampled\n",
            "1000 users sampled\n",
            "1250 users sampled\n",
            "1500 users sampled\n",
            "1750 users sampled\n",
            "2000 users sampled\n",
            "2250 users sampled\n",
            "2500 users sampled\n",
            "2750 users sampled\n",
            "3000 users sampled\n",
            "3250 users sampled\n",
            "3500 users sampled\n",
            "3750 users sampled\n",
            "4000 users sampled\n",
            "4250 users sampled\n",
            "4500 users sampled\n",
            "4750 users sampled\n",
            "5000 users sampled\n",
            "5250 users sampled\n",
            "5500 users sampled\n",
            "5750 users sampled\n",
            "6000 users sampled\n",
            "6250 users sampled\n",
            "6500 users sampled\n",
            "6750 users sampled\n",
            "7000 users sampled\n",
            "7250 users sampled\n",
            "7500 users sampled\n",
            "7750 users sampled\n",
            "8000 users sampled\n",
            "8250 users sampled\n",
            "8500 users sampled\n",
            "8750 users sampled\n",
            "9000 users sampled\n",
            "9250 users sampled\n",
            "9500 users sampled\n",
            "9750 users sampled\n",
            "(589240, 9) (142323, 9)\n"
          ]
        }
      ]
    },
    {
      "cell_type": "code",
      "metadata": {
        "id": "mzOW6uIb8NIL",
        "outputId": "c87d31a4-cadd-4596-f4da-e1e76cd0a3b1"
      },
      "source": [
        "Train_DF   =    numerize_data(train_df,user2id,item2id, 'Updated_UserID','Updated_ItemID')\n",
        "ValidTrain_DF = numerize_data(valid_trn,user2id,item2id,'Updated_UserID','Updated_ItemID')\n",
        "ValidTest_DF = numerize_data(valid_tst,user2id,item2id, 'Updated_UserID','Updated_ItemID')\n",
        "TestTrain_DF = numerize_data(test_train,user2id,item2id,'Updated_UserID','Updated_ItemID')\n",
        "TestTest_DF =  numerize_data(test_tst,user2id,item2id, 'Updated_UserID','Updated_ItemID')\n",
        "\n",
        "print(\"Training Data: \",Train_DF.shape)\n",
        "print()\n",
        "print(\"Validaion DF: \", ValidTrain_DF.shape,ValidTest_DF.shape)\n",
        "print(\"Test DF:      \", TestTrain_DF.shape,TestTest_DF.shape)"
      ],
      "execution_count": 24,
      "outputs": [
        {
          "output_type": "stream",
          "name": "stdout",
          "text": [
            "Training Data:  (8510699, 2)\n\nValidaion DF:  (602214, 2) (145586, 2)\nTest DF:       (589240, 2) (142323, 2)\n"
          ]
        }
      ]
    },
    {
      "cell_type": "code",
      "metadata": {
        "id": "biktQjiJ8NIM",
        "outputId": "c58c2f14-47a8-46e0-cc04-ca196fffa4f9"
      },
      "source": [
        "n_items = len(train_Items)                            #train_Items = unique_sid\n",
        "TrainDF_RatMat = get_TrainRatMat(Train_DF,'Updated_UserID','Updated_ItemID',n_items)\n",
        "ValidTrain_RatMat, ValidTest_RatMat = getTrainTest_RatMat(ValidTrain_DF, ValidTest_DF,'Updated_UserID','Updated_ItemID',n_items)\n",
        "TestTrain_RatMat, TestTest_RatMat = getTrainTest_RatMat(TestTrain_DF, TestTest_DF,'Updated_UserID','Updated_ItemID',n_items)\n",
        "\n",
        "TrainDF_RatMat"
      ],
      "execution_count": 25,
      "outputs": [
        {
          "output_type": "execute_result",
          "data": {
            "text/plain": [
              "<136677x20161 sparse matrix of type '<class 'numpy.float64'>'\n",
              "\twith 8510699 stored elements in Compressed Sparse Row format>"
            ]
          },
          "metadata": {},
          "execution_count": 25
        }
      ]
    },
    {
      "cell_type": "code",
      "metadata": {
        "id": "W0cj6wFz8NIN",
        "outputId": "b6758cad-44b1-424a-d670-583660789930"
      },
      "source": [
        "ValidTrain_RatMat"
      ],
      "execution_count": 32,
      "outputs": [
        {
          "output_type": "execute_result",
          "data": {
            "text/plain": [
              "<136671x20161 sparse matrix of type '<class 'numpy.float64'>'\n",
              "\twith 602214 stored elements in Compressed Sparse Row format>"
            ]
          },
          "metadata": {},
          "execution_count": 32
        }
      ]
    },
    {
      "cell_type": "code",
      "execution_count": null,
      "metadata": {},
      "outputs": [],
      "source": []
    },
    {
      "cell_type": "code",
      "execution_count": 1,
      "metadata": {},
      "outputs": [],
      "source": [
        "def train_step(model, optimizer, data, epoch):\n",
        "    model.train()\n",
        "    running_loss = 0.0\n",
        "    global update_count\n",
        "    N = data.shape[0]\n",
        "    idxlist = list(range(N))\n",
        "    np.random.shuffle(idxlist)\n",
        "    training_steps = len(range(0, N, batch_size))   #training_steps\n",
        "    for batch_idx, start_idx in zip(range(training_steps), range(0, N, batch_size)):\n",
        "        end_idx = min(start_idx + batch_size, N)\n",
        "        X_inp = data[idxlist[start_idx:end_idx]]\n",
        "        X_inp = torch.FloatTensor(X_inp.toarray()).to(device)\n",
        "        if constant_anneal:\n",
        "            anneal = anneal_cap\n",
        "        else:\n",
        "            anneal = min(anneal_cap, update_count / total_anneal_steps)\n",
        "        update_count += 1\n",
        "        optimizer.zero_grad()\n",
        "        X_out, mu, logvar = model(X_inp)\n",
        "        loss = vae_loss_fn(X_inp, X_out, mu, logvar, anneal)\n",
        "        train_step.anneal = anneal\n",
        "        loss.backward()\n",
        "        optimizer.step()\n",
        "        running_loss += loss.item()\n",
        "        avg_loss = running_loss / (batch_idx + 1)\n",
        "        #t.set_postfix(loss=avg_loss)\n",
        "\n",
        "\n",
        "def eval_step(model,data_tr,data_te):\n",
        "    model.eval()\n",
        "    running_loss = 0.0\n",
        "    eval_idxlist = list(range(data_tr.shape[0]))\n",
        "    eval_N = data_tr.shape[0]\n",
        "    eval_steps = len(range(0, eval_N, batch_size))\n",
        "    n100_list, r20_list, r50_list = [], [], []\n",
        "    #with trange(eval_steps) as t:\n",
        "    with torch.no_grad():\n",
        "         for batch_idx, start_idx in zip(range(eval_steps), range(0, eval_N, batch_size)):\n",
        "             end_idx = min(start_idx + batch_size, eval_N)\n",
        "             X_tr = data_tr[eval_idxlist[start_idx:end_idx]]\n",
        "             X_te = data_te[eval_idxlist[start_idx:end_idx]]\n",
        "             X_tr_inp = torch.FloatTensor(X_tr.toarray()).to(device)\n",
        "\n",
        "             X_out, mu, logvar = model(X_tr_inp)\n",
        "             loss = vae_loss_fn(X_tr_inp, X_out, mu, logvar, train_step.anneal)\n",
        "             running_loss += loss.item()\n",
        "             avg_loss = running_loss / (batch_idx + 1)\n",
        "\n",
        "             #Exclude examples from training set\n",
        "             X_out = X_out.cpu().numpy()\n",
        "             X_out[X_tr.nonzero()] = -np.inf\n",
        "\n",
        "             n100 = NDCG_binary_at_k_batch(X_out, X_te, k=100)\n",
        "             r50 = Recall_at_k_batch(X_out, X_te, k=50)\n",
        "             #r20 = Recall_at_k_batch(X_out, X_te, k=20)\n",
        "\n",
        "             r50_list.append(r50)\n",
        "             n100_list.append(n100)\n",
        "             #r20_list.append(r20)\n",
        "                \n",
        "\n",
        "    n100_list = np.concatenate(n100_list)\n",
        "    r50_list = np.concatenate(r50_list)\n",
        "    #r20_list = np.concatenate(r20_list)\n",
        "    return avg_loss, np.mean(n100_list), np.mean(r50_list)  #, np.mean(r50_list)"
      ]
    },
    {
      "cell_type": "code",
      "execution_count": 36,
      "metadata": {},
      "outputs": [],
      "source": []
    },
    {
      "cell_type": "code",
      "execution_count": 37,
      "metadata": {},
      "outputs": [],
      "source": [
        "training_steps = len(range(0, TrainDF_RatMat.shape[0], batch_size))\n",
        "try:\n",
        "   total_anneal_steps = (training_steps * (n_epochs - int(n_epochs * 0.15))) / anneal_cap\n",
        "except ZeroDivisionError:\n",
        "   assert (constant_anneal), \"if 'anneal_cap' is set to 0.0 'constant_anneal' must be set to 'True\"\n",
        "total_anneal_steps"
      ]
    },
    {
      "cell_type": "code",
      "execution_count": 2,
      "metadata": {},
      "outputs": [
        {
          "output_type": "error",
          "ename": "NameError",
          "evalue": "name 'device' is not defined",
          "traceback": [
            "\u001b[0;31m---------------------------------------------------------------------------\u001b[0m",
            "\u001b[0;31mNameError\u001b[0m                                 Traceback (most recent call last)",
            "\u001b[0;32m<ipython-input-2-305df3368e86>\u001b[0m in \u001b[0;36m<module>\u001b[0;34m\u001b[0m\n\u001b[0;32m----> 1\u001b[0;31m \u001b[0mdevice\u001b[0m\u001b[0;34m\u001b[0m\u001b[0;34m\u001b[0m\u001b[0m\n\u001b[0m",
            "\u001b[0;31mNameError\u001b[0m: name 'device' is not defined"
          ]
        }
      ],
      "source": [
        "device"
      ]
    },
    {
      "cell_type": "code",
      "execution_count": 51,
      "metadata": {},
      "outputs": [
        {
          "output_type": "execute_result",
          "data": {
            "text/plain": [
              "MultiVAE(\n",
              "  (encode): Encoder(\n",
              "    (q_layers): Sequential(\n",
              "      (dropout_0): Dropout(p=0.5, inplace=False)\n",
              "      (linear_0): Linear(in_features=20161, out_features=600, bias=True)\n",
              "      (dropout_1): Dropout(p=0.0, inplace=False)\n",
              "      (linear_1): Linear(in_features=600, out_features=400, bias=True)\n",
              "    )\n",
              "  )\n",
              "  (decode): Decoder(\n",
              "    (p_layers): Sequential(\n",
              "      (dropout_0): Dropout(p=0.0, inplace=False)\n",
              "      (linear_0): Linear(in_features=200, out_features=600, bias=True)\n",
              "      (dropout_1): Dropout(p=0.0, inplace=False)\n",
              "      (linear_1): Linear(in_features=600, out_features=20161, bias=True)\n",
              "    )\n",
              "  )\n",
              ")"
            ]
          },
          "metadata": {},
          "execution_count": 51
        }
      ],
      "source": [
        "n_items = len(train_Items)   \n",
        "I = n_items    ##I is the total number of items in the train date\n",
        "q_dims = [I] + [600, 200]\n",
        "p_dims = [200, 600] + [I]\n",
        "dropout_enc = [0.5, 0.]\n",
        "dropout_dec = [0., 0.]\n",
        "\n",
        "VAEmodel = MultiVAE(p_dims,q_dims,dropout_enc,dropout_dec)\n",
        "\n",
        "\n",
        "init_weights(VAEmodel)\n",
        "VAEmodel.to(device)\n",
        "optimizer = torch.optim.AdamW(VAEmodel.parameters(), lr=1e-3, weight_decay=0.0)  \n",
        "VAEmodel              "
      ]
    },
    {
      "cell_type": "code",
      "execution_count": 52,
      "metadata": {},
      "outputs": [],
      "source": [
        "batch_size = 500\n",
        "anneal_cap = 0.2\n",
        "best_score = -np.inf\n",
        "update_count = 0\n",
        "total_anneal_steps = 200000\n",
        "n_epochs = 200\n",
        "constant_anneal = False\n",
        "r50_List = []\n",
        "ngdc_List = []"
      ]
    },
    {
      "cell_type": "code",
      "execution_count": 53,
      "metadata": {},
      "outputs": [],
      "source": [
        "from tqdm import trange"
      ]
    },
    {
      "cell_type": "code",
      "execution_count": 54,
      "metadata": {},
      "outputs": [
        {
          "output_type": "stream",
          "name": "stderr",
          "text": [
            "  0%|          | 1/200 [01:15<4:11:23, 75.80s/it]| valid loss 33.016 | n100 0.251 | r50 0.327 | \n",
            "  1%|          | 2/200 [02:28<4:03:33, 73.81s/it]| valid loss 30.899 | n100 0.331 | r50 0.423 | \n",
            "  2%|▏         | 3/200 [03:43<4:05:02, 74.63s/it]| valid loss 30.117 | n100 0.366 | r50 0.466 | \n",
            "  2%|▏         | 4/200 [04:57<4:03:05, 74.42s/it]| valid loss 29.839 | n100 0.382 | r50 0.484 | \n",
            "  2%|▎         | 5/200 [06:11<4:00:48, 74.10s/it]| valid loss 29.626 | n100 0.393 | r50 0.500 | \n",
            "  3%|▎         | 6/200 [07:26<4:00:19, 74.33s/it]| valid loss 29.537 | n100 0.400 | r50 0.508 | \n",
            "  4%|▎         | 7/200 [08:43<4:02:08, 75.28s/it]| valid loss 29.482 | n100 0.404 | r50 0.512 | \n",
            "  4%|▍         | 8/200 [09:59<4:01:21, 75.42s/it]| valid loss 29.421 | n100 0.406 | r50 0.517 | \n",
            "  4%|▍         | 9/200 [11:12<3:58:20, 74.87s/it]| valid loss 29.343 | n100 0.408 | r50 0.519 | \n",
            "  5%|▌         | 10/200 [12:29<3:58:38, 75.36s/it]| valid loss 29.259 | n100 0.411 | r50 0.522 | \n",
            "  6%|▌         | 11/200 [13:44<3:56:49, 75.18s/it]| valid loss 29.188 | n100 0.412 | r50 0.524 | \n",
            "  6%|▌         | 12/200 [15:00<3:56:27, 75.46s/it]| valid loss 29.108 | n100 0.413 | r50 0.525 | \n",
            "  6%|▋         | 13/200 [16:21<4:00:15, 77.09s/it]| valid loss 29.032 | n100 0.413 | r50 0.526 | \n",
            "  7%|▋         | 14/200 [17:37<3:58:36, 76.97s/it]| valid loss 28.963 | n100 0.414 | r50 0.529 | \n",
            "  8%|▊         | 15/200 [18:57<3:59:43, 77.75s/it]| valid loss 28.855 | n100 0.414 | r50 0.527 | \n",
            "  8%|▊         | 16/200 [20:16<3:59:31, 78.11s/it]| valid loss 28.766 | n100 0.416 | r50 0.528 | \n",
            "  8%|▊         | 17/200 [21:35<3:59:38, 78.57s/it]| valid loss 28.690 | n100 0.414 | r50 0.527 | \n",
            "  9%|▉         | 18/200 [22:57<4:01:08, 79.50s/it]| valid loss 28.615 | n100 0.415 | r50 0.530 | \n",
            " 10%|▉         | 19/200 [24:13<3:56:29, 78.40s/it]| valid loss 28.523 | n100 0.415 | r50 0.529 | \n",
            " 10%|█         | 20/200 [25:32<3:55:40, 78.56s/it]| valid loss 28.435 | n100 0.417 | r50 0.530 | \n",
            " 10%|█         | 21/200 [26:52<3:55:58, 79.10s/it]| valid loss 28.370 | n100 0.415 | r50 0.530 | \n",
            " 11%|█         | 22/200 [28:12<3:55:42, 79.45s/it]| valid loss 28.309 | n100 0.416 | r50 0.531 | \n",
            " 12%|█▏        | 23/200 [29:28<3:50:37, 78.18s/it]| valid loss 28.253 | n100 0.416 | r50 0.530 | \n",
            " 12%|█▏        | 24/200 [30:46<3:49:21, 78.19s/it]| valid loss 28.219 | n100 0.417 | r50 0.532 | \n",
            " 12%|█▎        | 25/200 [32:03<3:47:11, 77.89s/it]| valid loss 28.160 | n100 0.415 | r50 0.530 | \n",
            " 13%|█▎        | 26/200 [33:19<3:43:57, 77.23s/it]| valid loss 28.139 | n100 0.415 | r50 0.529 | \n",
            " 14%|█▎        | 27/200 [34:36<3:42:42, 77.24s/it]| valid loss 28.083 | n100 0.417 | r50 0.530 | \n",
            " 14%|█▍        | 28/200 [35:51<3:39:28, 76.56s/it]| valid loss 28.053 | n100 0.415 | r50 0.531 | \n",
            " 14%|█▍        | 29/200 [37:07<3:37:48, 76.43s/it]| valid loss 28.024 | n100 0.416 | r50 0.532 | \n",
            " 15%|█▌        | 30/200 [38:23<3:36:32, 76.43s/it]| valid loss 28.001 | n100 0.418 | r50 0.529 | \n",
            " 16%|█▌        | 31/200 [39:41<3:36:03, 76.71s/it]| valid loss 27.980 | n100 0.417 | r50 0.531 | \n",
            " 16%|█▌        | 32/200 [40:57<3:34:11, 76.50s/it]| valid loss 27.958 | n100 0.418 | r50 0.531 | \n",
            " 16%|█▋        | 33/200 [42:14<3:33:28, 76.70s/it]| valid loss 27.929 | n100 0.419 | r50 0.531 | \n",
            " 17%|█▋        | 34/200 [43:34<3:34:36, 77.57s/it]| valid loss 27.944 | n100 0.418 | r50 0.531 | \n",
            " 18%|█▊        | 35/200 [44:49<3:31:33, 76.93s/it]| valid loss 27.929 | n100 0.416 | r50 0.530 | \n",
            " 18%|█▊        | 36/200 [46:07<3:31:12, 77.27s/it]| valid loss 27.904 | n100 0.419 | r50 0.531 | \n",
            " 18%|█▊        | 37/200 [47:23<3:28:41, 76.82s/it]| valid loss 27.899 | n100 0.418 | r50 0.532 | \n",
            " 19%|█▉        | 38/200 [48:40<3:27:16, 76.77s/it]| valid loss 27.889 | n100 0.418 | r50 0.532 | \n",
            " 20%|█▉        | 39/200 [49:54<3:23:44, 75.93s/it]| valid loss 27.873 | n100 0.418 | r50 0.534 | \n",
            " 20%|██        | 40/200 [51:09<3:21:54, 75.72s/it]| valid loss 27.881 | n100 0.418 | r50 0.532 | \n",
            " 20%|██        | 41/200 [52:25<3:20:59, 75.84s/it]| valid loss 27.876 | n100 0.418 | r50 0.532 | \n",
            " 21%|██        | 42/200 [53:42<3:20:47, 76.25s/it]| valid loss 27.863 | n100 0.418 | r50 0.531 | \n",
            " 22%|██▏       | 43/200 [54:58<3:19:21, 76.18s/it]| valid loss 27.856 | n100 0.419 | r50 0.534 | \n",
            " 22%|██▏       | 44/200 [56:14<3:17:38, 76.02s/it]| valid loss 27.863 | n100 0.419 | r50 0.532 | \n",
            " 22%|██▎       | 45/200 [57:29<3:16:05, 75.90s/it]| valid loss 27.865 | n100 0.419 | r50 0.532 | \n",
            " 23%|██▎       | 46/200 [58:45<3:14:55, 75.94s/it]| valid loss 27.851 | n100 0.420 | r50 0.532 | \n",
            " 24%|██▎       | 47/200 [1:00:00<3:12:39, 75.55s/it]| valid loss 27.862 | n100 0.420 | r50 0.534 | \n",
            " 24%|██▍       | 48/200 [1:01:15<3:11:16, 75.50s/it]| valid loss 27.847 | n100 0.419 | r50 0.533 | \n",
            " 24%|██▍       | 49/200 [1:02:31<3:09:56, 75.47s/it]| valid loss 27.843 | n100 0.420 | r50 0.534 | \n",
            " 25%|██▌       | 50/200 [1:03:46<3:08:15, 75.30s/it]| valid loss 27.866 | n100 0.419 | r50 0.533 | \n",
            " 26%|██▌       | 51/200 [1:05:03<3:08:11, 75.78s/it]| valid loss 27.849 | n100 0.422 | r50 0.534 | \n",
            " 26%|██▌       | 52/200 [1:06:18<3:06:17, 75.52s/it]| valid loss 27.841 | n100 0.421 | r50 0.535 | \n",
            " 26%|██▋       | 53/200 [1:07:35<3:06:24, 76.08s/it]| valid loss 27.845 | n100 0.419 | r50 0.535 | \n",
            " 27%|██▋       | 54/200 [1:08:49<3:03:54, 75.58s/it]| valid loss 27.852 | n100 0.421 | r50 0.533 | \n",
            " 28%|██▊       | 55/200 [1:10:04<3:01:38, 75.16s/it]| valid loss 27.850 | n100 0.421 | r50 0.535 | \n",
            " 28%|██▊       | 56/200 [1:11:18<2:59:44, 74.89s/it]| valid loss 27.861 | n100 0.421 | r50 0.535 | \n",
            " 28%|██▊       | 57/200 [1:12:34<2:59:23, 75.27s/it]| valid loss 27.865 | n100 0.422 | r50 0.534 | \n",
            " 29%|██▉       | 58/200 [1:13:49<2:57:47, 75.12s/it]| valid loss 27.864 | n100 0.421 | r50 0.532 | \n",
            " 30%|██▉       | 59/200 [1:15:06<2:58:11, 75.83s/it]| valid loss 27.871 | n100 0.421 | r50 0.534 | \n",
            " 30%|███       | 60/200 [1:16:24<2:58:04, 76.32s/it]| valid loss 27.862 | n100 0.421 | r50 0.534 | \n",
            " 30%|███       | 61/200 [1:17:40<2:56:32, 76.21s/it]| valid loss 27.879 | n100 0.422 | r50 0.534 | \n",
            " 31%|███       | 62/200 [1:18:54<2:54:01, 75.66s/it]| valid loss 27.872 | n100 0.422 | r50 0.535 | \n",
            " 32%|███▏      | 63/200 [1:20:12<2:54:36, 76.47s/it]| valid loss 27.883 | n100 0.422 | r50 0.535 | \n",
            " 32%|███▏      | 64/200 [1:21:27<2:52:05, 75.92s/it]| valid loss 27.886 | n100 0.422 | r50 0.535 | \n",
            " 32%|███▎      | 65/200 [1:22:45<2:52:03, 76.47s/it]| valid loss 27.886 | n100 0.423 | r50 0.536 | \n",
            " 33%|███▎      | 66/200 [1:23:57<2:47:45, 75.12s/it]| valid loss 27.876 | n100 0.422 | r50 0.536 | \n",
            " 34%|███▎      | 67/200 [1:25:11<2:45:54, 74.85s/it]| valid loss 27.886 | n100 0.423 | r50 0.535 | \n",
            " 34%|███▍      | 68/200 [1:26:29<2:47:04, 75.94s/it]| valid loss 27.895 | n100 0.423 | r50 0.537 | \n",
            " 34%|███▍      | 69/200 [1:27:45<2:45:44, 75.91s/it]| valid loss 27.899 | n100 0.424 | r50 0.535 | \n",
            " 35%|███▌      | 70/200 [1:29:04<2:46:29, 76.84s/it]| valid loss 27.902 | n100 0.422 | r50 0.537 | \n",
            " 36%|███▌      | 71/200 [1:30:21<2:44:52, 76.69s/it]| valid loss 27.896 | n100 0.423 | r50 0.535 | \n",
            " 36%|███▌      | 72/200 [1:31:36<2:42:44, 76.28s/it]| valid loss 27.897 | n100 0.423 | r50 0.536 | \n",
            " 36%|███▋      | 73/200 [1:32:51<2:40:26, 75.80s/it]| valid loss 27.902 | n100 0.424 | r50 0.536 | \n",
            " 37%|███▋      | 74/200 [1:34:07<2:39:34, 75.99s/it]| valid loss 27.917 | n100 0.424 | r50 0.536 | \n",
            " 38%|███▊      | 75/200 [1:35:22<2:37:41, 75.69s/it]| valid loss 27.924 | n100 0.423 | r50 0.535 | \n",
            " 38%|███▊      | 76/200 [1:36:38<2:36:21, 75.66s/it]| valid loss 27.925 | n100 0.423 | r50 0.536 | \n",
            " 38%|███▊      | 77/200 [1:37:55<2:35:53, 76.05s/it]| valid loss 27.932 | n100 0.423 | r50 0.536 | \n",
            " 39%|███▉      | 78/200 [1:39:10<2:34:22, 75.92s/it]| valid loss 27.943 | n100 0.424 | r50 0.536 | \n",
            " 40%|███▉      | 79/200 [1:40:28<2:34:21, 76.54s/it]| valid loss 27.949 | n100 0.424 | r50 0.538 | \n",
            " 40%|████      | 80/200 [1:41:46<2:33:53, 76.95s/it]| valid loss 27.955 | n100 0.424 | r50 0.536 | \n",
            " 40%|████      | 81/200 [1:43:03<2:32:23, 76.84s/it]| valid loss 27.946 | n100 0.424 | r50 0.536 | \n",
            " 41%|████      | 82/200 [1:44:18<2:30:20, 76.45s/it]| valid loss 27.968 | n100 0.424 | r50 0.535 | \n",
            " 42%|████▏     | 83/200 [1:45:37<2:30:08, 77.00s/it]| valid loss 27.966 | n100 0.425 | r50 0.535 | \n",
            " 42%|████▏     | 84/200 [1:46:51<2:27:24, 76.25s/it]| valid loss 27.965 | n100 0.425 | r50 0.535 | \n",
            " 42%|████▎     | 85/200 [1:48:09<2:27:01, 76.71s/it]| valid loss 27.969 | n100 0.425 | r50 0.538 | \n",
            " 43%|████▎     | 86/200 [1:49:22<2:23:34, 75.57s/it]| valid loss 27.972 | n100 0.426 | r50 0.538 | \n",
            " 44%|████▎     | 87/200 [1:50:40<2:23:36, 76.25s/it]| valid loss 27.983 | n100 0.424 | r50 0.537 | \n",
            " 44%|████▍     | 88/200 [1:51:55<2:21:56, 76.04s/it]| valid loss 27.981 | n100 0.424 | r50 0.537 | \n",
            " 44%|████▍     | 89/200 [1:53:11<2:20:41, 76.05s/it]| valid loss 27.981 | n100 0.426 | r50 0.538 | \n",
            " 45%|████▌     | 90/200 [1:54:29<2:20:21, 76.56s/it]| valid loss 27.994 | n100 0.425 | r50 0.538 | \n",
            " 46%|████▌     | 91/200 [1:55:43<2:17:39, 75.77s/it]| valid loss 28.006 | n100 0.424 | r50 0.538 | \n",
            " 46%|████▌     | 92/200 [1:57:00<2:17:13, 76.24s/it]| valid loss 28.013 | n100 0.425 | r50 0.538 | \n",
            " 46%|████▋     | 93/200 [1:58:18<2:16:52, 76.75s/it]| valid loss 28.016 | n100 0.425 | r50 0.537 | \n",
            " 47%|████▋     | 94/200 [1:59:31<2:13:48, 75.74s/it]| valid loss 28.006 | n100 0.425 | r50 0.539 | \n",
            " 48%|████▊     | 95/200 [2:00:49<2:13:24, 76.23s/it]| valid loss 28.032 | n100 0.424 | r50 0.538 | \n",
            " 48%|████▊     | 96/200 [2:02:04<2:11:47, 76.04s/it]| valid loss 28.033 | n100 0.426 | r50 0.538 | \n",
            " 48%|████▊     | 97/200 [2:03:23<2:11:40, 76.71s/it]| valid loss 28.035 | n100 0.427 | r50 0.538 | \n",
            " 49%|████▉     | 98/200 [2:04:39<2:10:10, 76.58s/it]| valid loss 28.027 | n100 0.425 | r50 0.538 | \n",
            " 50%|████▉     | 99/200 [2:05:56<2:09:14, 76.77s/it]| valid loss 28.031 | n100 0.425 | r50 0.537 | \n",
            " 50%|█████     | 100/200 [2:07:13<2:07:48, 76.68s/it]| valid loss 28.065 | n100 0.425 | r50 0.538 | \n",
            " 50%|█████     | 101/200 [2:08:29<2:06:31, 76.69s/it]| valid loss 28.047 | n100 0.426 | r50 0.538 | \n",
            " 51%|█████     | 102/200 [2:09:48<2:06:04, 77.19s/it]| valid loss 28.057 | n100 0.425 | r50 0.539 | \n",
            " 52%|█████▏    | 103/200 [2:11:04<2:04:13, 76.84s/it]| valid loss 28.065 | n100 0.425 | r50 0.539 | \n",
            " 52%|█████▏    | 104/200 [2:12:21<2:03:10, 76.98s/it]| valid loss 28.072 | n100 0.426 | r50 0.538 | \n",
            " 52%|█████▎    | 105/200 [2:13:39<2:02:08, 77.14s/it]| valid loss 28.068 | n100 0.426 | r50 0.538 | \n",
            " 53%|█████▎    | 106/200 [2:14:54<2:00:10, 76.70s/it]| valid loss 28.082 | n100 0.426 | r50 0.538 | \n",
            " 54%|█████▎    | 107/200 [2:16:12<1:59:18, 76.98s/it]| valid loss 28.088 | n100 0.426 | r50 0.539 | \n",
            " 54%|█████▍    | 108/200 [2:17:29<1:57:58, 76.94s/it]| valid loss 28.083 | n100 0.426 | r50 0.539 | \n",
            " 55%|█████▍    | 109/200 [2:18:46<1:56:49, 77.02s/it]| valid loss 28.101 | n100 0.426 | r50 0.539 | \n",
            " 55%|█████▌    | 110/200 [2:20:04<1:55:51, 77.24s/it]| valid loss 28.091 | n100 0.427 | r50 0.539 | \n",
            " 56%|█████▌    | 111/200 [2:21:20<1:53:59, 76.85s/it]| valid loss 28.093 | n100 0.427 | r50 0.538 | \n",
            " 56%|█████▌    | 112/200 [2:22:39<1:53:39, 77.50s/it]| valid loss 28.099 | n100 0.426 | r50 0.537 | \n",
            " 56%|█████▋    | 113/200 [2:23:59<1:53:35, 78.34s/it]| valid loss 28.119 | n100 0.426 | r50 0.539 | \n",
            " 57%|█████▋    | 114/200 [2:25:17<1:52:01, 78.15s/it]| valid loss 28.122 | n100 0.426 | r50 0.538 | \n",
            " 57%|█████▊    | 115/200 [2:26:36<1:50:59, 78.35s/it]| valid loss 28.131 | n100 0.425 | r50 0.539 | \n",
            " 58%|█████▊    | 116/200 [2:27:49<1:47:48, 77.01s/it]| valid loss 28.137 | n100 0.426 | r50 0.538 | \n",
            " 58%|█████▊    | 117/200 [2:29:07<1:46:37, 77.07s/it]| valid loss 28.134 | n100 0.427 | r50 0.540 | \n",
            " 59%|█████▉    | 118/200 [2:30:22<1:44:36, 76.54s/it]| valid loss 28.132 | n100 0.426 | r50 0.539 | \n",
            " 60%|█████▉    | 119/200 [2:31:36<1:42:24, 75.85s/it]| valid loss 28.136 | n100 0.428 | r50 0.540 | \n",
            " 60%|██████    | 120/200 [2:32:53<1:41:23, 76.05s/it]| valid loss 28.137 | n100 0.428 | r50 0.540 | \n",
            " 60%|██████    | 121/200 [2:34:07<1:39:30, 75.58s/it]| valid loss 28.166 | n100 0.426 | r50 0.539 | \n",
            " 61%|██████    | 122/200 [2:35:26<1:39:22, 76.44s/it]| valid loss 28.156 | n100 0.427 | r50 0.538 | \n",
            " 62%|██████▏   | 123/200 [2:36:41<1:37:40, 76.11s/it]| valid loss 28.166 | n100 0.426 | r50 0.540 | \n",
            " 62%|██████▏   | 124/200 [2:37:59<1:37:11, 76.73s/it]| valid loss 28.177 | n100 0.426 | r50 0.539 | \n",
            " 62%|██████▎   | 125/200 [2:39:17<1:36:28, 77.19s/it]| valid loss 28.181 | n100 0.426 | r50 0.540 | \n",
            " 63%|██████▎   | 126/200 [2:40:31<1:33:55, 76.15s/it]| valid loss 28.194 | n100 0.426 | r50 0.539 | \n",
            " 64%|██████▎   | 127/200 [2:41:46<1:32:18, 75.87s/it]| valid loss 28.190 | n100 0.426 | r50 0.539 | \n",
            " 64%|██████▍   | 128/200 [2:43:02<1:31:05, 75.90s/it]| valid loss 28.188 | n100 0.427 | r50 0.541 | \n",
            " 64%|██████▍   | 129/200 [2:44:20<1:30:37, 76.58s/it]| valid loss 28.197 | n100 0.426 | r50 0.539 | \n",
            " 65%|██████▌   | 130/200 [2:45:38<1:29:35, 76.79s/it]| valid loss 28.209 | n100 0.428 | r50 0.540 | \n",
            " 66%|██████▌   | 131/200 [2:46:57<1:29:14, 77.60s/it]| valid loss 28.203 | n100 0.427 | r50 0.540 | \n",
            " 66%|██████▌   | 132/200 [2:48:16<1:28:24, 78.00s/it]| valid loss 28.220 | n100 0.428 | r50 0.540 | \n",
            " 66%|██████▋   | 133/200 [2:49:32<1:26:20, 77.32s/it]| valid loss 28.220 | n100 0.428 | r50 0.539 | \n",
            " 67%|██████▋   | 134/200 [2:50:45<1:23:44, 76.14s/it]| valid loss 28.218 | n100 0.427 | r50 0.541 | \n",
            " 68%|██████▊   | 135/200 [2:52:00<1:21:57, 75.65s/it]| valid loss 28.245 | n100 0.425 | r50 0.539 | \n",
            " 68%|██████▊   | 136/200 [2:53:14<1:20:11, 75.19s/it]| valid loss 28.240 | n100 0.427 | r50 0.538 | \n",
            " 68%|██████▊   | 137/200 [2:54:24<1:17:17, 73.62s/it]| valid loss 28.244 | n100 0.426 | r50 0.539 | \n",
            " 69%|██████▉   | 138/200 [2:55:37<1:16:04, 73.62s/it]| valid loss 28.256 | n100 0.427 | r50 0.539 | \n",
            " 70%|██████▉   | 139/200 [2:56:50<1:14:27, 73.25s/it]| valid loss 28.261 | n100 0.427 | r50 0.539 | \n",
            " 70%|███████   | 140/200 [2:58:00<1:12:26, 72.45s/it]| valid loss 28.263 | n100 0.426 | r50 0.539 | \n",
            " 70%|███████   | 141/200 [2:59:13<1:11:20, 72.55s/it]| valid loss 28.271 | n100 0.427 | r50 0.540 | \n",
            " 71%|███████   | 142/200 [3:00:27<1:10:35, 73.03s/it]| valid loss 28.266 | n100 0.427 | r50 0.539 | \n",
            " 72%|███████▏  | 143/200 [3:01:38<1:08:48, 72.42s/it]| valid loss 28.277 | n100 0.427 | r50 0.539 | \n",
            " 72%|███████▏  | 144/200 [3:02:50<1:07:25, 72.24s/it]| valid loss 28.291 | n100 0.427 | r50 0.540 | \n",
            " 72%|███████▎  | 145/200 [3:04:07<1:07:29, 73.62s/it]| valid loss 28.283 | n100 0.429 | r50 0.538 | \n",
            " 73%|███████▎  | 146/200 [3:05:19<1:05:48, 73.11s/it]| valid loss 28.299 | n100 0.427 | r50 0.540 | \n",
            " 74%|███████▎  | 147/200 [3:06:33<1:04:42, 73.25s/it]| valid loss 28.299 | n100 0.427 | r50 0.540 | \n",
            " 74%|███████▍  | 148/200 [3:07:45<1:03:10, 72.90s/it]| valid loss 28.295 | n100 0.427 | r50 0.541 | \n",
            " 74%|███████▍  | 149/200 [3:09:00<1:02:31, 73.57s/it]| valid loss 28.310 | n100 0.427 | r50 0.541 | \n",
            " 75%|███████▌  | 150/200 [3:10:13<1:01:07, 73.36s/it]| valid loss 28.304 | n100 0.427 | r50 0.539 | \n",
            " 76%|███████▌  | 151/200 [3:11:25<59:43, 73.14s/it]  | valid loss 28.296 | n100 0.427 | r50 0.540 | \n",
            " 76%|███████▌  | 152/200 [3:12:38<58:24, 73.01s/it]| valid loss 28.306 | n100 0.427 | r50 0.540 | \n",
            " 76%|███████▋  | 153/200 [3:13:50<57:01, 72.80s/it]| valid loss 28.309 | n100 0.426 | r50 0.539 | \n",
            " 77%|███████▋  | 154/200 [3:15:05<56:18, 73.44s/it]| valid loss 28.307 | n100 0.426 | r50 0.540 | \n",
            " 78%|███████▊  | 155/200 [3:16:19<55:04, 73.43s/it]| valid loss 28.293 | n100 0.425 | r50 0.539 | \n",
            " 78%|███████▊  | 156/200 [3:17:31<53:43, 73.25s/it]| valid loss 28.308 | n100 0.426 | r50 0.540 | \n",
            " 78%|███████▊  | 157/200 [3:18:41<51:39, 72.09s/it]| valid loss 28.303 | n100 0.428 | r50 0.539 | \n",
            " 79%|███████▉  | 158/200 [3:19:53<50:25, 72.04s/it]| valid loss 28.309 | n100 0.428 | r50 0.539 | \n",
            " 80%|███████▉  | 159/200 [3:21:06<49:31, 72.48s/it]| valid loss 28.307 | n100 0.426 | r50 0.539 | \n",
            " 80%|████████  | 160/200 [3:22:17<48:01, 72.05s/it]| valid loss 28.300 | n100 0.427 | r50 0.539 | \n",
            " 80%|████████  | 161/200 [3:23:30<46:59, 72.30s/it]| valid loss 28.313 | n100 0.427 | r50 0.540 | \n",
            " 81%|████████  | 162/200 [3:24:42<45:45, 72.25s/it]| valid loss 28.291 | n100 0.427 | r50 0.541 | \n",
            " 82%|████████▏ | 163/200 [3:25:53<44:21, 71.93s/it]| valid loss 28.305 | n100 0.427 | r50 0.539 | \n",
            " 82%|████████▏ | 164/200 [3:27:04<42:49, 71.38s/it]| valid loss 28.306 | n100 0.428 | r50 0.540 | \n",
            " 82%|████████▎ | 165/200 [3:28:16<41:45, 71.58s/it]| valid loss 28.315 | n100 0.427 | r50 0.539 | \n",
            " 83%|████████▎ | 166/200 [3:29:27<40:30, 71.48s/it]| valid loss 28.316 | n100 0.426 | r50 0.539 | \n",
            " 84%|████████▎ | 167/200 [3:30:41<39:43, 72.24s/it]| valid loss 28.304 | n100 0.427 | r50 0.540 | \n",
            " 84%|████████▍ | 168/200 [3:31:53<38:30, 72.20s/it]| valid loss 28.310 | n100 0.428 | r50 0.540 | \n",
            " 84%|████████▍ | 169/200 [3:33:01<36:43, 71.08s/it]| valid loss 28.304 | n100 0.427 | r50 0.540 | \n",
            " 85%|████████▌ | 170/200 [3:34:12<35:28, 70.96s/it]| valid loss 28.319 | n100 0.428 | r50 0.541 | \n",
            " 86%|████████▌ | 171/200 [3:35:23<34:13, 70.82s/it]| valid loss 28.307 | n100 0.428 | r50 0.540 | \n",
            " 86%|████████▌ | 172/200 [3:36:38<33:41, 72.19s/it]| valid loss 28.304 | n100 0.427 | r50 0.540 | \n",
            " 86%|████████▋ | 173/200 [3:37:51<32:36, 72.47s/it]| valid loss 28.320 | n100 0.426 | r50 0.540 | \n",
            " 87%|████████▋ | 174/200 [3:39:01<31:03, 71.67s/it]| valid loss 28.305 | n100 0.429 | r50 0.540 | \n",
            " 88%|████████▊ | 175/200 [3:40:14<30:02, 72.10s/it]| valid loss 28.315 | n100 0.427 | r50 0.540 | \n",
            " 88%|████████▊ | 176/200 [3:41:24<28:33, 71.39s/it]| valid loss 28.324 | n100 0.426 | r50 0.540 | \n",
            " 88%|████████▊ | 177/200 [3:42:35<27:20, 71.34s/it]| valid loss 28.333 | n100 0.427 | r50 0.541 | \n",
            " 89%|████████▉ | 178/200 [3:43:46<26:09, 71.34s/it]| valid loss 28.320 | n100 0.428 | r50 0.540 | \n",
            " 90%|████████▉ | 179/200 [3:44:57<24:54, 71.18s/it]| valid loss 28.306 | n100 0.428 | r50 0.541 | \n",
            " 90%|█████████ | 180/200 [3:46:07<23:34, 70.74s/it]| valid loss 28.327 | n100 0.429 | r50 0.541 | \n",
            " 90%|█████████ | 181/200 [3:47:20<22:38, 71.48s/it]| valid loss 28.321 | n100 0.427 | r50 0.540 | \n",
            " 91%|█████████ | 182/200 [3:48:35<21:47, 72.66s/it]| valid loss 28.303 | n100 0.427 | r50 0.541 | \n",
            " 92%|█████████▏| 183/200 [3:49:46<20:23, 71.99s/it]| valid loss 28.326 | n100 0.427 | r50 0.540 | \n",
            " 92%|█████████▏| 184/200 [3:50:55<18:59, 71.22s/it]| valid loss 28.323 | n100 0.426 | r50 0.540 | \n",
            " 92%|█████████▎| 185/200 [3:52:07<17:49, 71.30s/it]| valid loss 28.314 | n100 0.426 | r50 0.540 | \n",
            " 93%|█████████▎| 186/200 [3:53:19<16:40, 71.46s/it]| valid loss 28.322 | n100 0.427 | r50 0.540 | \n",
            " 94%|█████████▎| 187/200 [3:54:32<15:34, 71.91s/it]| valid loss 28.326 | n100 0.426 | r50 0.540 | \n",
            " 94%|█████████▍| 188/200 [3:55:41<14:15, 71.29s/it]| valid loss 28.329 | n100 0.427 | r50 0.540 | \n",
            " 94%|█████████▍| 189/200 [3:56:53<13:06, 71.49s/it]| valid loss 28.324 | n100 0.427 | r50 0.540 | \n",
            " 95%|█████████▌| 190/200 [3:58:06<11:57, 71.72s/it]| valid loss 28.315 | n100 0.427 | r50 0.540 | \n",
            " 96%|█████████▌| 191/200 [3:59:15<10:38, 70.91s/it]| valid loss 28.322 | n100 0.426 | r50 0.540 | \n",
            " 96%|█████████▌| 192/200 [4:00:25<09:24, 70.62s/it]| valid loss 28.329 | n100 0.427 | r50 0.541 | \n",
            " 96%|█████████▋| 193/200 [4:01:35<08:13, 70.45s/it]| valid loss 28.312 | n100 0.427 | r50 0.541 | \n",
            " 97%|█████████▋| 194/200 [4:02:44<07:01, 70.18s/it]| valid loss 28.331 | n100 0.426 | r50 0.542 | \n",
            " 98%|█████████▊| 195/200 [4:03:53<05:48, 69.71s/it]| valid loss 28.330 | n100 0.428 | r50 0.541 | \n",
            " 98%|█████████▊| 196/200 [4:05:03<04:39, 69.85s/it]| valid loss 28.327 | n100 0.427 | r50 0.540 | \n",
            " 98%|█████████▊| 197/200 [4:06:17<03:32, 70.95s/it]| valid loss 28.331 | n100 0.428 | r50 0.540 | \n",
            " 99%|█████████▉| 198/200 [4:07:27<02:21, 70.66s/it]| valid loss 28.336 | n100 0.425 | r50 0.541 | \n",
            "100%|█████████▉| 199/200 [4:08:37<01:10, 70.52s/it]| valid loss 28.319 | n100 0.428 | r50 0.540 | \n",
            "100%|██████████| 200/200 [4:09:48<00:00, 74.94s/it]| valid loss 28.336 | n100 0.427 | r50 0.540 | \n",
            "\n"
          ]
        },
        {
          "output_type": "execute_result",
          "data": {
            "text/plain": [
              "[0.2505852556319632,\n",
              " 0.3310970095897333,\n",
              " 0.366115340082574,\n",
              " 0.38206935411139475,\n",
              " 0.3931426247447323,\n",
              " 0.3996172691589931,\n",
              " 0.4041535186498079,\n",
              " 0.40557512210980684,\n",
              " 0.40772910251985534,\n",
              " 0.4108698816570927,\n",
              " 0.4118502903758582,\n",
              " 0.41331954579726327,\n",
              " 0.4131683560611911,\n",
              " 0.4141471498240243,\n",
              " 0.41419095134456957,\n",
              " 0.4160316074747848,\n",
              " 0.4143474259985617,\n",
              " 0.415269890744049,\n",
              " 0.4146773311310258,\n",
              " 0.41657946929575745,\n",
              " 0.4154679643734375,\n",
              " 0.4160781968951622,\n",
              " 0.4157786193780212,\n",
              " 0.41718714783200356,\n",
              " 0.41514288515786557,\n",
              " 0.415314497443046,\n",
              " 0.41654332254326965,\n",
              " 0.41529835136108834,\n",
              " 0.4162971502029043,\n",
              " 0.41807294237623754,\n",
              " 0.4173288879467288,\n",
              " 0.41787763060283434,\n",
              " 0.41900987076160157,\n",
              " 0.41761464109398094,\n",
              " 0.4163818167191474,\n",
              " 0.4192062683849228,\n",
              " 0.41755529703382616,\n",
              " 0.4181858228401321,\n",
              " 0.4180196473053586,\n",
              " 0.41771497680678205,\n",
              " 0.4175710992521974,\n",
              " 0.418253297271666,\n",
              " 0.41914165591341007,\n",
              " 0.419445177845743,\n",
              " 0.41857203431873197,\n",
              " 0.4198922966540945,\n",
              " 0.41972365017133495,\n",
              " 0.4191908039710811,\n",
              " 0.4196744511642499,\n",
              " 0.41926685072264464,\n",
              " 0.4216382067172671,\n",
              " 0.42079119588193814,\n",
              " 0.418727695743257,\n",
              " 0.4207352027420925,\n",
              " 0.4208474734106733,\n",
              " 0.4209710928856218,\n",
              " 0.4218415902655814,\n",
              " 0.420739878493711,\n",
              " 0.4207381369675899,\n",
              " 0.4210666817926999,\n",
              " 0.42206164971152255,\n",
              " 0.4217208779066581,\n",
              " 0.4215143077090395,\n",
              " 0.4223194634983303,\n",
              " 0.42262117343182054,\n",
              " 0.4221890565876473,\n",
              " 0.4230277650571422,\n",
              " 0.4234061975749748,\n",
              " 0.42354267233230203,\n",
              " 0.42230268745198685,\n",
              " 0.4225607957085147,\n",
              " 0.42326047176353065,\n",
              " 0.42405290037338617,\n",
              " 0.4238259952595674,\n",
              " 0.423137964518572,\n",
              " 0.4228386100364957,\n",
              " 0.4234564512724213,\n",
              " 0.42400717797288423,\n",
              " 0.42428887156352696,\n",
              " 0.4237541595598568,\n",
              " 0.42432589614381944,\n",
              " 0.4238602429278135,\n",
              " 0.42495540709495006,\n",
              " 0.4245338064601521,\n",
              " 0.42480931079373,\n",
              " 0.42584637861496794,\n",
              " 0.4236870177898434,\n",
              " 0.42359261804669557,\n",
              " 0.4257351912921601,\n",
              " 0.4248696863504576,\n",
              " 0.42440556466878077,\n",
              " 0.42492860068794,\n",
              " 0.4252648645363882,\n",
              " 0.42534357007995705,\n",
              " 0.42422692495373204,\n",
              " 0.42603871749639066,\n",
              " 0.4266763765898738,\n",
              " 0.4251640523128501,\n",
              " 0.4254655856939615,\n",
              " 0.4247232659651087,\n",
              " 0.4256677039978179,\n",
              " 0.42453497652923144,\n",
              " 0.42523256699348677,\n",
              " 0.4259793680802506,\n",
              " 0.42597144666743814,\n",
              " 0.4264426638675159,\n",
              " 0.4261430163326935,\n",
              " 0.42588732369647225,\n",
              " 0.4260902750012293,\n",
              " 0.42663985055932835,\n",
              " 0.42658179592794115,\n",
              " 0.4264271289971044,\n",
              " 0.426334834203253,\n",
              " 0.425973409855337,\n",
              " 0.4254542821868363,\n",
              " 0.4258682789225377,\n",
              " 0.42671597356280544,\n",
              " 0.42608272394966773,\n",
              " 0.42802299692521983,\n",
              " 0.42751525608237606,\n",
              " 0.4261894337097683,\n",
              " 0.4267188557194234,\n",
              " 0.42582949901274386,\n",
              " 0.42590483758582476,\n",
              " 0.4260256473730686,\n",
              " 0.4257711612589041,\n",
              " 0.4257295277730533,\n",
              " 0.4267063387908867,\n",
              " 0.42567100797784496,\n",
              " 0.42793091048605564,\n",
              " 0.42682281343918277,\n",
              " 0.4276673412519604,\n",
              " 0.42800737936717215,\n",
              " 0.4267774630219438,\n",
              " 0.4251602740996707,\n",
              " 0.4271120623113603,\n",
              " 0.42573398099162285,\n",
              " 0.4274960184126562,\n",
              " 0.42708962854809723,\n",
              " 0.42600327303463803,\n",
              " 0.4272269049440027,\n",
              " 0.427402704001249,\n",
              " 0.4267629989371102,\n",
              " 0.42654014060344736,\n",
              " 0.42856303448076377,\n",
              " 0.42689917046306536,\n",
              " 0.4273881645052801,\n",
              " 0.4269368972519662,\n",
              " 0.4271851986241478,\n",
              " 0.4268225772260125,\n",
              " 0.4270567149598429,\n",
              " 0.4270265327592655,\n",
              " 0.42612906385565263,\n",
              " 0.4257328284261335,\n",
              " 0.42522326648355685,\n",
              " 0.4255799067575508,\n",
              " 0.4278590966561458,\n",
              " 0.42758967605770315,\n",
              " 0.42634503653140293,\n",
              " 0.4273220783660631,\n",
              " 0.42661473291886925,\n",
              " 0.426614644948555,\n",
              " 0.4272527742079735,\n",
              " 0.4276032757531905,\n",
              " 0.4270602305778675,\n",
              " 0.4255256469413266,\n",
              " 0.4267868609421231,\n",
              " 0.4279224575325629,\n",
              " 0.4266242418090227,\n",
              " 0.42845799091562076,\n",
              " 0.42826271145492756,\n",
              " 0.4271689133485053,\n",
              " 0.426356978859967,\n",
              " 0.42857791179007343,\n",
              " 0.4265563295861135,\n",
              " 0.4264438639825106,\n",
              " 0.427065037472949,\n",
              " 0.4278275799105815,\n",
              " 0.4280588708801799,\n",
              " 0.42857599605327584,\n",
              " 0.4266067893506573,\n",
              " 0.42691089799232385,\n",
              " 0.42658005435583257,\n",
              " 0.4263452824546692,\n",
              " 0.4264375802007318,\n",
              " 0.42705247753877473,\n",
              " 0.42579060174463645,\n",
              " 0.42713965892814293,\n",
              " 0.42719774906003205,\n",
              " 0.42697387685885785,\n",
              " 0.42645128724893905,\n",
              " 0.426625855636565,\n",
              " 0.4272810228317155,\n",
              " 0.425673581925577,\n",
              " 0.4276881980659514,\n",
              " 0.42700592520811026,\n",
              " 0.4275937541860347,\n",
              " 0.42514797602631105,\n",
              " 0.4278978560574476,\n",
              " 0.42705517068790216]"
            ]
          },
          "metadata": {},
          "execution_count": 54
        }
      ],
      "source": [
        "for epoch in tqdm(range(n_epochs)):\n",
        "    train_step(VAEmodel, optimizer, TrainDF_RatMat, epoch)\n",
        "    val_loss, n100, r50 = eval_step(VAEmodel,ValidTrain_RatMat, ValidTest_RatMat)  \n",
        "    ngdc_List.append(n100)\n",
        "    r50_List.append(r50)\n",
        "    print(\"| valid loss {:4.3f} | n100 {:4.3f} | r50 {:4.3f} | \".format(val_loss, n100, r50))\n",
        "            \n",
        "\n",
        "ngdc_List            "
      ]
    },
    {
      "cell_type": "code",
      "execution_count": 60,
      "metadata": {},
      "outputs": [
        {
          "output_type": "display_data",
          "data": {
            "text/plain": "<Figure size 864x360 with 1 Axes>",
            "image/svg+xml": "<?xml version=\"1.0\" encoding=\"utf-8\" standalone=\"no\"?>\n<!DOCTYPE svg PUBLIC \"-//W3C//DTD SVG 1.1//EN\"\n  \"http://www.w3.org/Graphics/SVG/1.1/DTD/svg11.dtd\">\n<svg height=\"316.55625pt\" version=\"1.1\" viewBox=\"0 0 733.30625 316.55625\" width=\"733.30625pt\" xmlns=\"http://www.w3.org/2000/svg\" xmlns:xlink=\"http://www.w3.org/1999/xlink\">\n <metadata>\n  <rdf:RDF xmlns:cc=\"http://creativecommons.org/ns#\" xmlns:dc=\"http://purl.org/dc/elements/1.1/\" xmlns:rdf=\"http://www.w3.org/1999/02/22-rdf-syntax-ns#\">\n   <cc:Work>\n    <dc:type rdf:resource=\"http://purl.org/dc/dcmitype/StillImage\"/>\n    <dc:date>2021-05-07T12:13:17.202597</dc:date>\n    <dc:format>image/svg+xml</dc:format>\n    <dc:creator>\n     <cc:Agent>\n      <dc:title>Matplotlib v3.4.1, https://matplotlib.org/</dc:title>\n     </cc:Agent>\n    </dc:creator>\n   </cc:Work>\n  </rdf:RDF>\n </metadata>\n <defs>\n  <style type=\"text/css\">*{stroke-linecap:butt;stroke-linejoin:round;}</style>\n </defs>\n <g id=\"figure_1\">\n  <g id=\"patch_1\">\n   <path d=\"M 0 316.55625 \nL 733.30625 316.55625 \nL 733.30625 0 \nL 0 0 \nz\n\" style=\"fill:none;\"/>\n  </g>\n  <g id=\"axes_1\">\n   <g id=\"patch_2\">\n    <path d=\"M 56.50625 279 \nL 726.10625 279 \nL 726.10625 7.2 \nL 56.50625 7.2 \nz\n\" style=\"fill:#ffffff;\"/>\n   </g>\n   <g id=\"matplotlib.axis_1\">\n    <g id=\"xtick_1\">\n     <g id=\"line2d_1\">\n      <path clip-path=\"url(#p83bf43cbfe)\" d=\"M 86.942614 279 \nL 86.942614 7.2 \n\" style=\"fill:none;stroke:#b0b0b0;stroke-linecap:square;stroke-width:0.8;\"/>\n     </g>\n     <g id=\"line2d_2\">\n      <defs>\n       <path d=\"M 0 0 \nL 0 3.5 \n\" id=\"me9d58b2438\" style=\"stroke:#000000;stroke-width:0.8;\"/>\n      </defs>\n      <g>\n       <use style=\"stroke:#000000;stroke-width:0.8;\" x=\"86.942614\" xlink:href=\"#me9d58b2438\" y=\"279\"/>\n      </g>\n     </g>\n     <g id=\"text_1\">\n      <!-- 0 -->\n      <g transform=\"translate(83.761364 293.598437)scale(0.1 -0.1)\">\n       <defs>\n        <path d=\"M 2034 4250 \nQ 1547 4250 1301 3770 \nQ 1056 3291 1056 2328 \nQ 1056 1369 1301 889 \nQ 1547 409 2034 409 \nQ 2525 409 2770 889 \nQ 3016 1369 3016 2328 \nQ 3016 3291 2770 3770 \nQ 2525 4250 2034 4250 \nz\nM 2034 4750 \nQ 2819 4750 3233 4129 \nQ 3647 3509 3647 2328 \nQ 3647 1150 3233 529 \nQ 2819 -91 2034 -91 \nQ 1250 -91 836 529 \nQ 422 1150 422 2328 \nQ 422 3509 836 4129 \nQ 1250 4750 2034 4750 \nz\n\" id=\"DejaVuSans-30\" transform=\"scale(0.015625)\"/>\n       </defs>\n       <use xlink:href=\"#DejaVuSans-30\"/>\n      </g>\n     </g>\n    </g>\n    <g id=\"xtick_2\">\n     <g id=\"line2d_3\">\n      <path clip-path=\"url(#p83bf43cbfe)\" d=\"M 163.415889 279 \nL 163.415889 7.2 \n\" style=\"fill:none;stroke:#b0b0b0;stroke-linecap:square;stroke-width:0.8;\"/>\n     </g>\n     <g id=\"line2d_4\">\n      <g>\n       <use style=\"stroke:#000000;stroke-width:0.8;\" x=\"163.415889\" xlink:href=\"#me9d58b2438\" y=\"279\"/>\n      </g>\n     </g>\n     <g id=\"text_2\">\n      <!-- 25 -->\n      <g transform=\"translate(157.053389 293.598437)scale(0.1 -0.1)\">\n       <defs>\n        <path d=\"M 1228 531 \nL 3431 531 \nL 3431 0 \nL 469 0 \nL 469 531 \nQ 828 903 1448 1529 \nQ 2069 2156 2228 2338 \nQ 2531 2678 2651 2914 \nQ 2772 3150 2772 3378 \nQ 2772 3750 2511 3984 \nQ 2250 4219 1831 4219 \nQ 1534 4219 1204 4116 \nQ 875 4013 500 3803 \nL 500 4441 \nQ 881 4594 1212 4672 \nQ 1544 4750 1819 4750 \nQ 2544 4750 2975 4387 \nQ 3406 4025 3406 3419 \nQ 3406 3131 3298 2873 \nQ 3191 2616 2906 2266 \nQ 2828 2175 2409 1742 \nQ 1991 1309 1228 531 \nz\n\" id=\"DejaVuSans-32\" transform=\"scale(0.015625)\"/>\n        <path d=\"M 691 4666 \nL 3169 4666 \nL 3169 4134 \nL 1269 4134 \nL 1269 2991 \nQ 1406 3038 1543 3061 \nQ 1681 3084 1819 3084 \nQ 2600 3084 3056 2656 \nQ 3513 2228 3513 1497 \nQ 3513 744 3044 326 \nQ 2575 -91 1722 -91 \nQ 1428 -91 1123 -41 \nQ 819 9 494 109 \nL 494 744 \nQ 775 591 1075 516 \nQ 1375 441 1709 441 \nQ 2250 441 2565 725 \nQ 2881 1009 2881 1497 \nQ 2881 1984 2565 2268 \nQ 2250 2553 1709 2553 \nQ 1456 2553 1204 2497 \nQ 953 2441 691 2322 \nL 691 4666 \nz\n\" id=\"DejaVuSans-35\" transform=\"scale(0.015625)\"/>\n       </defs>\n       <use xlink:href=\"#DejaVuSans-32\"/>\n       <use x=\"63.623047\" xlink:href=\"#DejaVuSans-35\"/>\n      </g>\n     </g>\n    </g>\n    <g id=\"xtick_3\">\n     <g id=\"line2d_5\">\n      <path clip-path=\"url(#p83bf43cbfe)\" d=\"M 239.889165 279 \nL 239.889165 7.2 \n\" style=\"fill:none;stroke:#b0b0b0;stroke-linecap:square;stroke-width:0.8;\"/>\n     </g>\n     <g id=\"line2d_6\">\n      <g>\n       <use style=\"stroke:#000000;stroke-width:0.8;\" x=\"239.889165\" xlink:href=\"#me9d58b2438\" y=\"279\"/>\n      </g>\n     </g>\n     <g id=\"text_3\">\n      <!-- 50 -->\n      <g transform=\"translate(233.526665 293.598437)scale(0.1 -0.1)\">\n       <use xlink:href=\"#DejaVuSans-35\"/>\n       <use x=\"63.623047\" xlink:href=\"#DejaVuSans-30\"/>\n      </g>\n     </g>\n    </g>\n    <g id=\"xtick_4\">\n     <g id=\"line2d_7\">\n      <path clip-path=\"url(#p83bf43cbfe)\" d=\"M 316.36244 279 \nL 316.36244 7.2 \n\" style=\"fill:none;stroke:#b0b0b0;stroke-linecap:square;stroke-width:0.8;\"/>\n     </g>\n     <g id=\"line2d_8\">\n      <g>\n       <use style=\"stroke:#000000;stroke-width:0.8;\" x=\"316.36244\" xlink:href=\"#me9d58b2438\" y=\"279\"/>\n      </g>\n     </g>\n     <g id=\"text_4\">\n      <!-- 75 -->\n      <g transform=\"translate(309.99994 293.598437)scale(0.1 -0.1)\">\n       <defs>\n        <path d=\"M 525 4666 \nL 3525 4666 \nL 3525 4397 \nL 1831 0 \nL 1172 0 \nL 2766 4134 \nL 525 4134 \nL 525 4666 \nz\n\" id=\"DejaVuSans-37\" transform=\"scale(0.015625)\"/>\n       </defs>\n       <use xlink:href=\"#DejaVuSans-37\"/>\n       <use x=\"63.623047\" xlink:href=\"#DejaVuSans-35\"/>\n      </g>\n     </g>\n    </g>\n    <g id=\"xtick_5\">\n     <g id=\"line2d_9\">\n      <path clip-path=\"url(#p83bf43cbfe)\" d=\"M 392.835716 279 \nL 392.835716 7.2 \n\" style=\"fill:none;stroke:#b0b0b0;stroke-linecap:square;stroke-width:0.8;\"/>\n     </g>\n     <g id=\"line2d_10\">\n      <g>\n       <use style=\"stroke:#000000;stroke-width:0.8;\" x=\"392.835716\" xlink:href=\"#me9d58b2438\" y=\"279\"/>\n      </g>\n     </g>\n     <g id=\"text_5\">\n      <!-- 100 -->\n      <g transform=\"translate(383.291966 293.598437)scale(0.1 -0.1)\">\n       <defs>\n        <path d=\"M 794 531 \nL 1825 531 \nL 1825 4091 \nL 703 3866 \nL 703 4441 \nL 1819 4666 \nL 2450 4666 \nL 2450 531 \nL 3481 531 \nL 3481 0 \nL 794 0 \nL 794 531 \nz\n\" id=\"DejaVuSans-31\" transform=\"scale(0.015625)\"/>\n       </defs>\n       <use xlink:href=\"#DejaVuSans-31\"/>\n       <use x=\"63.623047\" xlink:href=\"#DejaVuSans-30\"/>\n       <use x=\"127.246094\" xlink:href=\"#DejaVuSans-30\"/>\n      </g>\n     </g>\n    </g>\n    <g id=\"xtick_6\">\n     <g id=\"line2d_11\">\n      <path clip-path=\"url(#p83bf43cbfe)\" d=\"M 469.308991 279 \nL 469.308991 7.2 \n\" style=\"fill:none;stroke:#b0b0b0;stroke-linecap:square;stroke-width:0.8;\"/>\n     </g>\n     <g id=\"line2d_12\">\n      <g>\n       <use style=\"stroke:#000000;stroke-width:0.8;\" x=\"469.308991\" xlink:href=\"#me9d58b2438\" y=\"279\"/>\n      </g>\n     </g>\n     <g id=\"text_6\">\n      <!-- 125 -->\n      <g transform=\"translate(459.765241 293.598437)scale(0.1 -0.1)\">\n       <use xlink:href=\"#DejaVuSans-31\"/>\n       <use x=\"63.623047\" xlink:href=\"#DejaVuSans-32\"/>\n       <use x=\"127.246094\" xlink:href=\"#DejaVuSans-35\"/>\n      </g>\n     </g>\n    </g>\n    <g id=\"xtick_7\">\n     <g id=\"line2d_13\">\n      <path clip-path=\"url(#p83bf43cbfe)\" d=\"M 545.782266 279 \nL 545.782266 7.2 \n\" style=\"fill:none;stroke:#b0b0b0;stroke-linecap:square;stroke-width:0.8;\"/>\n     </g>\n     <g id=\"line2d_14\">\n      <g>\n       <use style=\"stroke:#000000;stroke-width:0.8;\" x=\"545.782266\" xlink:href=\"#me9d58b2438\" y=\"279\"/>\n      </g>\n     </g>\n     <g id=\"text_7\">\n      <!-- 150 -->\n      <g transform=\"translate(536.238516 293.598437)scale(0.1 -0.1)\">\n       <use xlink:href=\"#DejaVuSans-31\"/>\n       <use x=\"63.623047\" xlink:href=\"#DejaVuSans-35\"/>\n       <use x=\"127.246094\" xlink:href=\"#DejaVuSans-30\"/>\n      </g>\n     </g>\n    </g>\n    <g id=\"xtick_8\">\n     <g id=\"line2d_15\">\n      <path clip-path=\"url(#p83bf43cbfe)\" d=\"M 622.255542 279 \nL 622.255542 7.2 \n\" style=\"fill:none;stroke:#b0b0b0;stroke-linecap:square;stroke-width:0.8;\"/>\n     </g>\n     <g id=\"line2d_16\">\n      <g>\n       <use style=\"stroke:#000000;stroke-width:0.8;\" x=\"622.255542\" xlink:href=\"#me9d58b2438\" y=\"279\"/>\n      </g>\n     </g>\n     <g id=\"text_8\">\n      <!-- 175 -->\n      <g transform=\"translate(612.711792 293.598437)scale(0.1 -0.1)\">\n       <use xlink:href=\"#DejaVuSans-31\"/>\n       <use x=\"63.623047\" xlink:href=\"#DejaVuSans-37\"/>\n       <use x=\"127.246094\" xlink:href=\"#DejaVuSans-35\"/>\n      </g>\n     </g>\n    </g>\n    <g id=\"xtick_9\">\n     <g id=\"line2d_17\">\n      <path clip-path=\"url(#p83bf43cbfe)\" d=\"M 698.728817 279 \nL 698.728817 7.2 \n\" style=\"fill:none;stroke:#b0b0b0;stroke-linecap:square;stroke-width:0.8;\"/>\n     </g>\n     <g id=\"line2d_18\">\n      <g>\n       <use style=\"stroke:#000000;stroke-width:0.8;\" x=\"698.728817\" xlink:href=\"#me9d58b2438\" y=\"279\"/>\n      </g>\n     </g>\n     <g id=\"text_9\">\n      <!-- 200 -->\n      <g transform=\"translate(689.185067 293.598437)scale(0.1 -0.1)\">\n       <use xlink:href=\"#DejaVuSans-32\"/>\n       <use x=\"63.623047\" xlink:href=\"#DejaVuSans-30\"/>\n       <use x=\"127.246094\" xlink:href=\"#DejaVuSans-30\"/>\n      </g>\n     </g>\n    </g>\n    <g id=\"text_10\">\n     <!-- Epochs -->\n     <g transform=\"translate(373.390625 307.276562)scale(0.1 -0.1)\">\n      <defs>\n       <path d=\"M 628 4666 \nL 3578 4666 \nL 3578 4134 \nL 1259 4134 \nL 1259 2753 \nL 3481 2753 \nL 3481 2222 \nL 1259 2222 \nL 1259 531 \nL 3634 531 \nL 3634 0 \nL 628 0 \nL 628 4666 \nz\n\" id=\"DejaVuSans-45\" transform=\"scale(0.015625)\"/>\n       <path d=\"M 1159 525 \nL 1159 -1331 \nL 581 -1331 \nL 581 3500 \nL 1159 3500 \nL 1159 2969 \nQ 1341 3281 1617 3432 \nQ 1894 3584 2278 3584 \nQ 2916 3584 3314 3078 \nQ 3713 2572 3713 1747 \nQ 3713 922 3314 415 \nQ 2916 -91 2278 -91 \nQ 1894 -91 1617 61 \nQ 1341 213 1159 525 \nz\nM 3116 1747 \nQ 3116 2381 2855 2742 \nQ 2594 3103 2138 3103 \nQ 1681 3103 1420 2742 \nQ 1159 2381 1159 1747 \nQ 1159 1113 1420 752 \nQ 1681 391 2138 391 \nQ 2594 391 2855 752 \nQ 3116 1113 3116 1747 \nz\n\" id=\"DejaVuSans-70\" transform=\"scale(0.015625)\"/>\n       <path d=\"M 1959 3097 \nQ 1497 3097 1228 2736 \nQ 959 2375 959 1747 \nQ 959 1119 1226 758 \nQ 1494 397 1959 397 \nQ 2419 397 2687 759 \nQ 2956 1122 2956 1747 \nQ 2956 2369 2687 2733 \nQ 2419 3097 1959 3097 \nz\nM 1959 3584 \nQ 2709 3584 3137 3096 \nQ 3566 2609 3566 1747 \nQ 3566 888 3137 398 \nQ 2709 -91 1959 -91 \nQ 1206 -91 779 398 \nQ 353 888 353 1747 \nQ 353 2609 779 3096 \nQ 1206 3584 1959 3584 \nz\n\" id=\"DejaVuSans-6f\" transform=\"scale(0.015625)\"/>\n       <path d=\"M 3122 3366 \nL 3122 2828 \nQ 2878 2963 2633 3030 \nQ 2388 3097 2138 3097 \nQ 1578 3097 1268 2742 \nQ 959 2388 959 1747 \nQ 959 1106 1268 751 \nQ 1578 397 2138 397 \nQ 2388 397 2633 464 \nQ 2878 531 3122 666 \nL 3122 134 \nQ 2881 22 2623 -34 \nQ 2366 -91 2075 -91 \nQ 1284 -91 818 406 \nQ 353 903 353 1747 \nQ 353 2603 823 3093 \nQ 1294 3584 2113 3584 \nQ 2378 3584 2631 3529 \nQ 2884 3475 3122 3366 \nz\n\" id=\"DejaVuSans-63\" transform=\"scale(0.015625)\"/>\n       <path d=\"M 3513 2113 \nL 3513 0 \nL 2938 0 \nL 2938 2094 \nQ 2938 2591 2744 2837 \nQ 2550 3084 2163 3084 \nQ 1697 3084 1428 2787 \nQ 1159 2491 1159 1978 \nL 1159 0 \nL 581 0 \nL 581 4863 \nL 1159 4863 \nL 1159 2956 \nQ 1366 3272 1645 3428 \nQ 1925 3584 2291 3584 \nQ 2894 3584 3203 3211 \nQ 3513 2838 3513 2113 \nz\n\" id=\"DejaVuSans-68\" transform=\"scale(0.015625)\"/>\n       <path d=\"M 2834 3397 \nL 2834 2853 \nQ 2591 2978 2328 3040 \nQ 2066 3103 1784 3103 \nQ 1356 3103 1142 2972 \nQ 928 2841 928 2578 \nQ 928 2378 1081 2264 \nQ 1234 2150 1697 2047 \nL 1894 2003 \nQ 2506 1872 2764 1633 \nQ 3022 1394 3022 966 \nQ 3022 478 2636 193 \nQ 2250 -91 1575 -91 \nQ 1294 -91 989 -36 \nQ 684 19 347 128 \nL 347 722 \nQ 666 556 975 473 \nQ 1284 391 1588 391 \nQ 1994 391 2212 530 \nQ 2431 669 2431 922 \nQ 2431 1156 2273 1281 \nQ 2116 1406 1581 1522 \nL 1381 1569 \nQ 847 1681 609 1914 \nQ 372 2147 372 2553 \nQ 372 3047 722 3315 \nQ 1072 3584 1716 3584 \nQ 2034 3584 2315 3537 \nQ 2597 3491 2834 3397 \nz\n\" id=\"DejaVuSans-73\" transform=\"scale(0.015625)\"/>\n      </defs>\n      <use xlink:href=\"#DejaVuSans-45\"/>\n      <use x=\"63.183594\" xlink:href=\"#DejaVuSans-70\"/>\n      <use x=\"126.660156\" xlink:href=\"#DejaVuSans-6f\"/>\n      <use x=\"187.841797\" xlink:href=\"#DejaVuSans-63\"/>\n      <use x=\"242.822266\" xlink:href=\"#DejaVuSans-68\"/>\n      <use x=\"306.201172\" xlink:href=\"#DejaVuSans-73\"/>\n     </g>\n    </g>\n   </g>\n   <g id=\"matplotlib.axis_2\">\n    <g id=\"ytick_1\">\n     <g id=\"line2d_19\">\n      <path clip-path=\"url(#p83bf43cbfe)\" d=\"M 56.50625 267.457911 \nL 726.10625 267.457911 \n\" style=\"fill:none;stroke:#b0b0b0;stroke-linecap:square;stroke-width:0.8;\"/>\n     </g>\n     <g id=\"line2d_20\">\n      <defs>\n       <path d=\"M 0 0 \nL -3.5 0 \n\" id=\"mc8b1a4968f\" style=\"stroke:#000000;stroke-width:0.8;\"/>\n      </defs>\n      <g>\n       <use style=\"stroke:#000000;stroke-width:0.8;\" x=\"56.50625\" xlink:href=\"#mc8b1a4968f\" y=\"267.457911\"/>\n      </g>\n     </g>\n     <g id=\"text_11\">\n      <!-- 0.250 -->\n      <g transform=\"translate(20.878125 271.25713)scale(0.1 -0.1)\">\n       <defs>\n        <path d=\"M 684 794 \nL 1344 794 \nL 1344 0 \nL 684 0 \nL 684 794 \nz\n\" id=\"DejaVuSans-2e\" transform=\"scale(0.015625)\"/>\n       </defs>\n       <use xlink:href=\"#DejaVuSans-30\"/>\n       <use x=\"63.623047\" xlink:href=\"#DejaVuSans-2e\"/>\n       <use x=\"95.410156\" xlink:href=\"#DejaVuSans-32\"/>\n       <use x=\"159.033203\" xlink:href=\"#DejaVuSans-35\"/>\n       <use x=\"222.65625\" xlink:href=\"#DejaVuSans-30\"/>\n      </g>\n     </g>\n    </g>\n    <g id=\"ytick_2\">\n     <g id=\"line2d_21\">\n      <path clip-path=\"url(#p83bf43cbfe)\" d=\"M 56.50625 232.7527 \nL 726.10625 232.7527 \n\" style=\"fill:none;stroke:#b0b0b0;stroke-linecap:square;stroke-width:0.8;\"/>\n     </g>\n     <g id=\"line2d_22\">\n      <g>\n       <use style=\"stroke:#000000;stroke-width:0.8;\" x=\"56.50625\" xlink:href=\"#mc8b1a4968f\" y=\"232.7527\"/>\n      </g>\n     </g>\n     <g id=\"text_12\">\n      <!-- 0.275 -->\n      <g transform=\"translate(20.878125 236.551919)scale(0.1 -0.1)\">\n       <use xlink:href=\"#DejaVuSans-30\"/>\n       <use x=\"63.623047\" xlink:href=\"#DejaVuSans-2e\"/>\n       <use x=\"95.410156\" xlink:href=\"#DejaVuSans-32\"/>\n       <use x=\"159.033203\" xlink:href=\"#DejaVuSans-37\"/>\n       <use x=\"222.65625\" xlink:href=\"#DejaVuSans-35\"/>\n      </g>\n     </g>\n    </g>\n    <g id=\"ytick_3\">\n     <g id=\"line2d_23\">\n      <path clip-path=\"url(#p83bf43cbfe)\" d=\"M 56.50625 198.047489 \nL 726.10625 198.047489 \n\" style=\"fill:none;stroke:#b0b0b0;stroke-linecap:square;stroke-width:0.8;\"/>\n     </g>\n     <g id=\"line2d_24\">\n      <g>\n       <use style=\"stroke:#000000;stroke-width:0.8;\" x=\"56.50625\" xlink:href=\"#mc8b1a4968f\" y=\"198.047489\"/>\n      </g>\n     </g>\n     <g id=\"text_13\">\n      <!-- 0.300 -->\n      <g transform=\"translate(20.878125 201.846708)scale(0.1 -0.1)\">\n       <defs>\n        <path d=\"M 2597 2516 \nQ 3050 2419 3304 2112 \nQ 3559 1806 3559 1356 \nQ 3559 666 3084 287 \nQ 2609 -91 1734 -91 \nQ 1441 -91 1130 -33 \nQ 819 25 488 141 \nL 488 750 \nQ 750 597 1062 519 \nQ 1375 441 1716 441 \nQ 2309 441 2620 675 \nQ 2931 909 2931 1356 \nQ 2931 1769 2642 2001 \nQ 2353 2234 1838 2234 \nL 1294 2234 \nL 1294 2753 \nL 1863 2753 \nQ 2328 2753 2575 2939 \nQ 2822 3125 2822 3475 \nQ 2822 3834 2567 4026 \nQ 2313 4219 1838 4219 \nQ 1578 4219 1281 4162 \nQ 984 4106 628 3988 \nL 628 4550 \nQ 988 4650 1302 4700 \nQ 1616 4750 1894 4750 \nQ 2613 4750 3031 4423 \nQ 3450 4097 3450 3541 \nQ 3450 3153 3228 2886 \nQ 3006 2619 2597 2516 \nz\n\" id=\"DejaVuSans-33\" transform=\"scale(0.015625)\"/>\n       </defs>\n       <use xlink:href=\"#DejaVuSans-30\"/>\n       <use x=\"63.623047\" xlink:href=\"#DejaVuSans-2e\"/>\n       <use x=\"95.410156\" xlink:href=\"#DejaVuSans-33\"/>\n       <use x=\"159.033203\" xlink:href=\"#DejaVuSans-30\"/>\n       <use x=\"222.65625\" xlink:href=\"#DejaVuSans-30\"/>\n      </g>\n     </g>\n    </g>\n    <g id=\"ytick_4\">\n     <g id=\"line2d_25\">\n      <path clip-path=\"url(#p83bf43cbfe)\" d=\"M 56.50625 163.342278 \nL 726.10625 163.342278 \n\" style=\"fill:none;stroke:#b0b0b0;stroke-linecap:square;stroke-width:0.8;\"/>\n     </g>\n     <g id=\"line2d_26\">\n      <g>\n       <use style=\"stroke:#000000;stroke-width:0.8;\" x=\"56.50625\" xlink:href=\"#mc8b1a4968f\" y=\"163.342278\"/>\n      </g>\n     </g>\n     <g id=\"text_14\">\n      <!-- 0.325 -->\n      <g transform=\"translate(20.878125 167.141496)scale(0.1 -0.1)\">\n       <use xlink:href=\"#DejaVuSans-30\"/>\n       <use x=\"63.623047\" xlink:href=\"#DejaVuSans-2e\"/>\n       <use x=\"95.410156\" xlink:href=\"#DejaVuSans-33\"/>\n       <use x=\"159.033203\" xlink:href=\"#DejaVuSans-32\"/>\n       <use x=\"222.65625\" xlink:href=\"#DejaVuSans-35\"/>\n      </g>\n     </g>\n    </g>\n    <g id=\"ytick_5\">\n     <g id=\"line2d_27\">\n      <path clip-path=\"url(#p83bf43cbfe)\" d=\"M 56.50625 128.637066 \nL 726.10625 128.637066 \n\" style=\"fill:none;stroke:#b0b0b0;stroke-linecap:square;stroke-width:0.8;\"/>\n     </g>\n     <g id=\"line2d_28\">\n      <g>\n       <use style=\"stroke:#000000;stroke-width:0.8;\" x=\"56.50625\" xlink:href=\"#mc8b1a4968f\" y=\"128.637066\"/>\n      </g>\n     </g>\n     <g id=\"text_15\">\n      <!-- 0.350 -->\n      <g transform=\"translate(20.878125 132.436285)scale(0.1 -0.1)\">\n       <use xlink:href=\"#DejaVuSans-30\"/>\n       <use x=\"63.623047\" xlink:href=\"#DejaVuSans-2e\"/>\n       <use x=\"95.410156\" xlink:href=\"#DejaVuSans-33\"/>\n       <use x=\"159.033203\" xlink:href=\"#DejaVuSans-35\"/>\n       <use x=\"222.65625\" xlink:href=\"#DejaVuSans-30\"/>\n      </g>\n     </g>\n    </g>\n    <g id=\"ytick_6\">\n     <g id=\"line2d_29\">\n      <path clip-path=\"url(#p83bf43cbfe)\" d=\"M 56.50625 93.931855 \nL 726.10625 93.931855 \n\" style=\"fill:none;stroke:#b0b0b0;stroke-linecap:square;stroke-width:0.8;\"/>\n     </g>\n     <g id=\"line2d_30\">\n      <g>\n       <use style=\"stroke:#000000;stroke-width:0.8;\" x=\"56.50625\" xlink:href=\"#mc8b1a4968f\" y=\"93.931855\"/>\n      </g>\n     </g>\n     <g id=\"text_16\">\n      <!-- 0.375 -->\n      <g transform=\"translate(20.878125 97.731074)scale(0.1 -0.1)\">\n       <use xlink:href=\"#DejaVuSans-30\"/>\n       <use x=\"63.623047\" xlink:href=\"#DejaVuSans-2e\"/>\n       <use x=\"95.410156\" xlink:href=\"#DejaVuSans-33\"/>\n       <use x=\"159.033203\" xlink:href=\"#DejaVuSans-37\"/>\n       <use x=\"222.65625\" xlink:href=\"#DejaVuSans-35\"/>\n      </g>\n     </g>\n    </g>\n    <g id=\"ytick_7\">\n     <g id=\"line2d_31\">\n      <path clip-path=\"url(#p83bf43cbfe)\" d=\"M 56.50625 59.226644 \nL 726.10625 59.226644 \n\" style=\"fill:none;stroke:#b0b0b0;stroke-linecap:square;stroke-width:0.8;\"/>\n     </g>\n     <g id=\"line2d_32\">\n      <g>\n       <use style=\"stroke:#000000;stroke-width:0.8;\" x=\"56.50625\" xlink:href=\"#mc8b1a4968f\" y=\"59.226644\"/>\n      </g>\n     </g>\n     <g id=\"text_17\">\n      <!-- 0.400 -->\n      <g transform=\"translate(20.878125 63.025863)scale(0.1 -0.1)\">\n       <defs>\n        <path d=\"M 2419 4116 \nL 825 1625 \nL 2419 1625 \nL 2419 4116 \nz\nM 2253 4666 \nL 3047 4666 \nL 3047 1625 \nL 3713 1625 \nL 3713 1100 \nL 3047 1100 \nL 3047 0 \nL 2419 0 \nL 2419 1100 \nL 313 1100 \nL 313 1709 \nL 2253 4666 \nz\n\" id=\"DejaVuSans-34\" transform=\"scale(0.015625)\"/>\n       </defs>\n       <use xlink:href=\"#DejaVuSans-30\"/>\n       <use x=\"63.623047\" xlink:href=\"#DejaVuSans-2e\"/>\n       <use x=\"95.410156\" xlink:href=\"#DejaVuSans-34\"/>\n       <use x=\"159.033203\" xlink:href=\"#DejaVuSans-30\"/>\n       <use x=\"222.65625\" xlink:href=\"#DejaVuSans-30\"/>\n      </g>\n     </g>\n    </g>\n    <g id=\"ytick_8\">\n     <g id=\"line2d_33\">\n      <path clip-path=\"url(#p83bf43cbfe)\" d=\"M 56.50625 24.521433 \nL 726.10625 24.521433 \n\" style=\"fill:none;stroke:#b0b0b0;stroke-linecap:square;stroke-width:0.8;\"/>\n     </g>\n     <g id=\"line2d_34\">\n      <g>\n       <use style=\"stroke:#000000;stroke-width:0.8;\" x=\"56.50625\" xlink:href=\"#mc8b1a4968f\" y=\"24.521433\"/>\n      </g>\n     </g>\n     <g id=\"text_18\">\n      <!-- 0.425 -->\n      <g transform=\"translate(20.878125 28.320652)scale(0.1 -0.1)\">\n       <use xlink:href=\"#DejaVuSans-30\"/>\n       <use x=\"63.623047\" xlink:href=\"#DejaVuSans-2e\"/>\n       <use x=\"95.410156\" xlink:href=\"#DejaVuSans-34\"/>\n       <use x=\"159.033203\" xlink:href=\"#DejaVuSans-32\"/>\n       <use x=\"222.65625\" xlink:href=\"#DejaVuSans-35\"/>\n      </g>\n     </g>\n    </g>\n    <g id=\"text_19\">\n     <!-- Validation NDCG@100 -->\n     <g transform=\"translate(14.798437 198.879687)rotate(-90)scale(0.1 -0.1)\">\n      <defs>\n       <path d=\"M 1831 0 \nL 50 4666 \nL 709 4666 \nL 2188 738 \nL 3669 4666 \nL 4325 4666 \nL 2547 0 \nL 1831 0 \nz\n\" id=\"DejaVuSans-56\" transform=\"scale(0.015625)\"/>\n       <path d=\"M 2194 1759 \nQ 1497 1759 1228 1600 \nQ 959 1441 959 1056 \nQ 959 750 1161 570 \nQ 1363 391 1709 391 \nQ 2188 391 2477 730 \nQ 2766 1069 2766 1631 \nL 2766 1759 \nL 2194 1759 \nz\nM 3341 1997 \nL 3341 0 \nL 2766 0 \nL 2766 531 \nQ 2569 213 2275 61 \nQ 1981 -91 1556 -91 \nQ 1019 -91 701 211 \nQ 384 513 384 1019 \nQ 384 1609 779 1909 \nQ 1175 2209 1959 2209 \nL 2766 2209 \nL 2766 2266 \nQ 2766 2663 2505 2880 \nQ 2244 3097 1772 3097 \nQ 1472 3097 1187 3025 \nQ 903 2953 641 2809 \nL 641 3341 \nQ 956 3463 1253 3523 \nQ 1550 3584 1831 3584 \nQ 2591 3584 2966 3190 \nQ 3341 2797 3341 1997 \nz\n\" id=\"DejaVuSans-61\" transform=\"scale(0.015625)\"/>\n       <path d=\"M 603 4863 \nL 1178 4863 \nL 1178 0 \nL 603 0 \nL 603 4863 \nz\n\" id=\"DejaVuSans-6c\" transform=\"scale(0.015625)\"/>\n       <path d=\"M 603 3500 \nL 1178 3500 \nL 1178 0 \nL 603 0 \nL 603 3500 \nz\nM 603 4863 \nL 1178 4863 \nL 1178 4134 \nL 603 4134 \nL 603 4863 \nz\n\" id=\"DejaVuSans-69\" transform=\"scale(0.015625)\"/>\n       <path d=\"M 2906 2969 \nL 2906 4863 \nL 3481 4863 \nL 3481 0 \nL 2906 0 \nL 2906 525 \nQ 2725 213 2448 61 \nQ 2172 -91 1784 -91 \nQ 1150 -91 751 415 \nQ 353 922 353 1747 \nQ 353 2572 751 3078 \nQ 1150 3584 1784 3584 \nQ 2172 3584 2448 3432 \nQ 2725 3281 2906 2969 \nz\nM 947 1747 \nQ 947 1113 1208 752 \nQ 1469 391 1925 391 \nQ 2381 391 2643 752 \nQ 2906 1113 2906 1747 \nQ 2906 2381 2643 2742 \nQ 2381 3103 1925 3103 \nQ 1469 3103 1208 2742 \nQ 947 2381 947 1747 \nz\n\" id=\"DejaVuSans-64\" transform=\"scale(0.015625)\"/>\n       <path d=\"M 1172 4494 \nL 1172 3500 \nL 2356 3500 \nL 2356 3053 \nL 1172 3053 \nL 1172 1153 \nQ 1172 725 1289 603 \nQ 1406 481 1766 481 \nL 2356 481 \nL 2356 0 \nL 1766 0 \nQ 1100 0 847 248 \nQ 594 497 594 1153 \nL 594 3053 \nL 172 3053 \nL 172 3500 \nL 594 3500 \nL 594 4494 \nL 1172 4494 \nz\n\" id=\"DejaVuSans-74\" transform=\"scale(0.015625)\"/>\n       <path d=\"M 3513 2113 \nL 3513 0 \nL 2938 0 \nL 2938 2094 \nQ 2938 2591 2744 2837 \nQ 2550 3084 2163 3084 \nQ 1697 3084 1428 2787 \nQ 1159 2491 1159 1978 \nL 1159 0 \nL 581 0 \nL 581 3500 \nL 1159 3500 \nL 1159 2956 \nQ 1366 3272 1645 3428 \nQ 1925 3584 2291 3584 \nQ 2894 3584 3203 3211 \nQ 3513 2838 3513 2113 \nz\n\" id=\"DejaVuSans-6e\" transform=\"scale(0.015625)\"/>\n       <path id=\"DejaVuSans-20\" transform=\"scale(0.015625)\"/>\n       <path d=\"M 628 4666 \nL 1478 4666 \nL 3547 763 \nL 3547 4666 \nL 4159 4666 \nL 4159 0 \nL 3309 0 \nL 1241 3903 \nL 1241 0 \nL 628 0 \nL 628 4666 \nz\n\" id=\"DejaVuSans-4e\" transform=\"scale(0.015625)\"/>\n       <path d=\"M 1259 4147 \nL 1259 519 \nL 2022 519 \nQ 2988 519 3436 956 \nQ 3884 1394 3884 2338 \nQ 3884 3275 3436 3711 \nQ 2988 4147 2022 4147 \nL 1259 4147 \nz\nM 628 4666 \nL 1925 4666 \nQ 3281 4666 3915 4102 \nQ 4550 3538 4550 2338 \nQ 4550 1131 3912 565 \nQ 3275 0 1925 0 \nL 628 0 \nL 628 4666 \nz\n\" id=\"DejaVuSans-44\" transform=\"scale(0.015625)\"/>\n       <path d=\"M 4122 4306 \nL 4122 3641 \nQ 3803 3938 3442 4084 \nQ 3081 4231 2675 4231 \nQ 1875 4231 1450 3742 \nQ 1025 3253 1025 2328 \nQ 1025 1406 1450 917 \nQ 1875 428 2675 428 \nQ 3081 428 3442 575 \nQ 3803 722 4122 1019 \nL 4122 359 \nQ 3791 134 3420 21 \nQ 3050 -91 2638 -91 \nQ 1578 -91 968 557 \nQ 359 1206 359 2328 \nQ 359 3453 968 4101 \nQ 1578 4750 2638 4750 \nQ 3056 4750 3426 4639 \nQ 3797 4528 4122 4306 \nz\n\" id=\"DejaVuSans-43\" transform=\"scale(0.015625)\"/>\n       <path d=\"M 3809 666 \nL 3809 1919 \nL 2778 1919 \nL 2778 2438 \nL 4434 2438 \nL 4434 434 \nQ 4069 175 3628 42 \nQ 3188 -91 2688 -91 \nQ 1594 -91 976 548 \nQ 359 1188 359 2328 \nQ 359 3472 976 4111 \nQ 1594 4750 2688 4750 \nQ 3144 4750 3555 4637 \nQ 3966 4525 4313 4306 \nL 4313 3634 \nQ 3963 3931 3569 4081 \nQ 3175 4231 2741 4231 \nQ 1884 4231 1454 3753 \nQ 1025 3275 1025 2328 \nQ 1025 1384 1454 906 \nQ 1884 428 2741 428 \nQ 3075 428 3337 486 \nQ 3600 544 3809 666 \nz\n\" id=\"DejaVuSans-47\" transform=\"scale(0.015625)\"/>\n       <path d=\"M 2381 1678 \nQ 2381 1231 2603 976 \nQ 2825 722 3213 722 \nQ 3597 722 3817 978 \nQ 4038 1234 4038 1678 \nQ 4038 2116 3813 2373 \nQ 3588 2631 3206 2631 \nQ 2828 2631 2604 2375 \nQ 2381 2119 2381 1678 \nz\nM 4084 744 \nQ 3897 503 3655 389 \nQ 3413 275 3091 275 \nQ 2553 275 2217 664 \nQ 1881 1053 1881 1678 \nQ 1881 2303 2218 2693 \nQ 2556 3084 3091 3084 \nQ 3413 3084 3656 2967 \nQ 3900 2850 4084 2613 \nL 4084 3022 \nL 4531 3022 \nL 4531 722 \nQ 4988 791 5245 1139 \nQ 5503 1488 5503 2041 \nQ 5503 2375 5404 2669 \nQ 5306 2963 5106 3213 \nQ 4781 3622 4314 3839 \nQ 3847 4056 3297 4056 \nQ 2913 4056 2559 3954 \nQ 2206 3853 1906 3653 \nQ 1416 3334 1139 2817 \nQ 863 2300 863 1697 \nQ 863 1200 1042 765 \nQ 1222 331 1563 0 \nQ 1891 -325 2322 -495 \nQ 2753 -666 3244 -666 \nQ 3647 -666 4036 -530 \nQ 4425 -394 4750 -141 \nL 5031 -488 \nQ 4641 -791 4180 -952 \nQ 3719 -1113 3244 -1113 \nQ 2666 -1113 2153 -908 \nQ 1641 -703 1241 -313 \nQ 841 78 631 592 \nQ 422 1106 422 1697 \nQ 422 2266 634 2781 \nQ 847 3297 1241 3688 \nQ 1644 4084 2172 4295 \nQ 2700 4506 3291 4506 \nQ 3953 4506 4520 4234 \nQ 5088 3963 5472 3463 \nQ 5706 3156 5829 2797 \nQ 5953 2438 5953 2053 \nQ 5953 1231 5456 756 \nQ 4959 281 4084 263 \nL 4084 744 \nz\n\" id=\"DejaVuSans-40\" transform=\"scale(0.015625)\"/>\n      </defs>\n      <use xlink:href=\"#DejaVuSans-56\"/>\n      <use x=\"60.658203\" xlink:href=\"#DejaVuSans-61\"/>\n      <use x=\"121.9375\" xlink:href=\"#DejaVuSans-6c\"/>\n      <use x=\"149.720703\" xlink:href=\"#DejaVuSans-69\"/>\n      <use x=\"177.503906\" xlink:href=\"#DejaVuSans-64\"/>\n      <use x=\"240.980469\" xlink:href=\"#DejaVuSans-61\"/>\n      <use x=\"302.259766\" xlink:href=\"#DejaVuSans-74\"/>\n      <use x=\"341.46875\" xlink:href=\"#DejaVuSans-69\"/>\n      <use x=\"369.251953\" xlink:href=\"#DejaVuSans-6f\"/>\n      <use x=\"430.433594\" xlink:href=\"#DejaVuSans-6e\"/>\n      <use x=\"493.8125\" xlink:href=\"#DejaVuSans-20\"/>\n      <use x=\"525.599609\" xlink:href=\"#DejaVuSans-4e\"/>\n      <use x=\"600.404297\" xlink:href=\"#DejaVuSans-44\"/>\n      <use x=\"677.40625\" xlink:href=\"#DejaVuSans-43\"/>\n      <use x=\"747.230469\" xlink:href=\"#DejaVuSans-47\"/>\n      <use x=\"824.720703\" xlink:href=\"#DejaVuSans-40\"/>\n      <use x=\"924.720703\" xlink:href=\"#DejaVuSans-31\"/>\n      <use x=\"988.34375\" xlink:href=\"#DejaVuSans-30\"/>\n      <use x=\"1051.966797\" xlink:href=\"#DejaVuSans-30\"/>\n     </g>\n    </g>\n   </g>\n   <g id=\"line2d_35\">\n    <path clip-path=\"url(#p83bf43cbfe)\" d=\"M 86.942614 266.645455 \nL 90.001545 154.878357 \nL 93.060476 106.265615 \nL 96.119407 84.118118 \nL 99.178338 68.74611 \nL 102.237269 59.757954 \nL 105.2962 53.460694 \nL 108.355131 51.487212 \nL 111.414062 48.497039 \nL 114.472993 44.136982 \nL 117.531924 42.775971 \nL 120.590855 40.736338 \nL 123.649786 40.946221 \nL 126.708717 39.587451 \nL 129.767648 39.526645 \nL 132.826579 36.971431 \nL 135.88551 39.309426 \nL 138.944441 38.028853 \nL 142.003372 38.851449 \nL 145.062303 36.210885 \nL 148.121234 37.753885 \nL 151.180165 36.906755 \nL 154.239096 37.322631 \nL 157.298027 35.3673 \nL 160.356958 38.205163 \nL 163.415889 37.966929 \nL 166.47482 36.261064 \nL 169.533751 37.989343 \nL 172.592682 36.602802 \nL 175.651613 34.137633 \nL 178.710544 35.170535 \nL 181.769475 34.408766 \nL 184.828406 32.836981 \nL 187.887337 34.77385 \nL 190.946268 36.485268 \nL 194.005199 32.56434 \nL 197.06413 34.856232 \nL 200.123061 33.980931 \nL 203.181992 34.211617 \nL 206.240923 34.634564 \nL 209.299854 34.834296 \nL 212.358785 33.887263 \nL 215.417716 32.654036 \nL 218.476647 32.232684 \nL 221.535578 33.444789 \nL 224.594509 31.61199 \nL 227.65344 31.846106 \nL 230.712372 32.585808 \nL 233.771303 31.914405 \nL 236.830234 32.480239 \nL 239.889165 29.188303 \nL 242.948096 30.36413 \nL 246.007027 33.228699 \nL 249.065958 30.44186 \nL 255.18382 30.114396 \nL 258.242751 28.905964 \nL 261.301682 30.435369 \nL 264.360613 30.437787 \nL 267.419544 29.981698 \nL 270.478475 28.600476 \nL 273.537406 29.073538 \nL 276.596337 29.3603 \nL 279.655268 28.242576 \nL 282.714199 27.82374 \nL 285.77313 28.423608 \nL 288.832061 27.259306 \nL 291.890992 26.733963 \nL 294.949923 26.544507 \nL 298.008854 28.265865 \nL 301.067785 27.907557 \nL 304.126716 26.936261 \nL 307.185647 25.836205 \nL 310.244578 26.151196 \nL 313.303509 27.106326 \nL 316.36244 27.521893 \nL 322.480302 25.899677 \nL 325.539233 25.508627 \nL 328.598164 26.250919 \nL 331.657095 25.457229 \nL 334.716026 26.103653 \nL 337.774957 24.583337 \nL 340.833888 25.168607 \nL 343.892819 24.786149 \nL 346.95175 23.346483 \nL 350.010681 26.344126 \nL 353.069612 26.475172 \nL 356.128543 23.500834 \nL 359.187474 24.702335 \nL 362.246405 25.346633 \nL 365.305336 24.62055 \nL 368.364267 24.153746 \nL 371.423198 24.044486 \nL 374.482129 25.594622 \nL 377.54106 23.079476 \nL 380.599991 22.194273 \nL 383.658922 24.293694 \nL 386.717853 23.875103 \nL 389.776784 24.905597 \nL 392.835716 23.59452 \nL 395.894647 25.166982 \nL 402.012509 23.161866 \nL 405.07144 23.172862 \nL 408.130371 22.518715 \nL 414.248233 23.289643 \nL 417.307164 23.007904 \nL 420.366095 22.244978 \nL 423.425026 22.32557 \nL 429.542888 22.668405 \nL 432.601819 23.170137 \nL 435.66075 23.890794 \nL 438.719681 23.316081 \nL 441.778612 22.139304 \nL 444.837543 23.018386 \nL 447.896474 20.324883 \nL 450.955405 21.029733 \nL 454.014336 22.870251 \nL 457.073267 22.135303 \nL 460.132198 23.369915 \nL 466.25006 23.09762 \nL 469.308991 23.4509 \nL 472.367922 23.508696 \nL 475.426853 22.152679 \nL 478.485784 23.589934 \nL 481.544715 20.452718 \nL 484.603646 21.990988 \nL 487.662577 20.818607 \nL 490.721508 20.346563 \nL 493.780439 22.053944 \nL 496.83937 24.298939 \nL 499.898301 21.58945 \nL 502.957232 23.502514 \nL 506.016163 21.056439 \nL 509.075094 21.620593 \nL 512.134025 23.128681 \nL 515.192956 21.430025 \nL 518.251887 21.185979 \nL 521.310818 22.074023 \nL 524.369749 22.383397 \nL 527.42868 19.575198 \nL 530.487611 21.884988 \nL 533.546542 21.206163 \nL 536.605473 21.832616 \nL 539.664404 21.487922 \nL 542.723335 21.991316 \nL 545.782266 21.666284 \nL 548.841197 21.708183 \nL 551.900128 22.954057 \nL 554.95906 23.504114 \nL 558.017991 24.211492 \nL 561.076922 23.716401 \nL 564.135853 20.552411 \nL 567.194784 20.926423 \nL 570.253715 22.654242 \nL 573.312646 21.297904 \nL 576.371577 22.279847 \nL 579.430508 22.279969 \nL 582.489439 21.394113 \nL 585.54837 20.907543 \nL 588.607301 21.661403 \nL 591.666232 23.791725 \nL 594.725163 22.040897 \nL 597.784094 20.464453 \nL 600.843025 22.266647 \nL 603.901956 19.721021 \nL 606.960887 19.992109 \nL 610.019818 21.510529 \nL 613.078749 22.637663 \nL 616.13768 19.554545 \nL 619.196611 22.360923 \nL 622.255542 22.517049 \nL 625.314473 21.65473 \nL 628.373404 20.596163 \nL 631.432335 20.275082 \nL 634.491266 19.557205 \nL 637.550197 22.290874 \nL 640.609128 21.868708 \nL 643.668059 22.327988 \nL 646.72699 22.6539 \nL 649.785921 22.525772 \nL 652.844852 21.672166 \nL 655.903783 23.423913 \nL 658.962714 21.55114 \nL 662.021645 21.470499 \nL 665.080576 21.78128 \nL 668.139507 22.506744 \nL 671.198438 22.264406 \nL 674.257369 21.354898 \nL 677.3163 23.586361 \nL 680.375231 20.789654 \nL 683.434162 21.736791 \nL 686.493093 20.920761 \nL 689.552024 24.316011 \nL 692.610955 20.498605 \nL 695.669886 21.668428 \nL 695.669886 21.668428 \n\" style=\"fill:none;stroke:#1f77b4;stroke-linecap:square;stroke-width:1.5;\"/>\n   </g>\n   <g id=\"patch_3\">\n    <path d=\"M 56.50625 279 \nL 56.50625 7.2 \n\" style=\"fill:none;stroke:#000000;stroke-linecap:square;stroke-linejoin:miter;stroke-width:0.8;\"/>\n   </g>\n   <g id=\"patch_4\">\n    <path d=\"M 726.10625 279 \nL 726.10625 7.2 \n\" style=\"fill:none;stroke:#000000;stroke-linecap:square;stroke-linejoin:miter;stroke-width:0.8;\"/>\n   </g>\n   <g id=\"patch_5\">\n    <path d=\"M 56.50625 279 \nL 726.10625 279 \n\" style=\"fill:none;stroke:#000000;stroke-linecap:square;stroke-linejoin:miter;stroke-width:0.8;\"/>\n   </g>\n   <g id=\"patch_6\">\n    <path d=\"M 56.50625 7.2 \nL 726.10625 7.2 \n\" style=\"fill:none;stroke:#000000;stroke-linecap:square;stroke-linejoin:miter;stroke-width:0.8;\"/>\n   </g>\n  </g>\n </g>\n <defs>\n  <clipPath id=\"p83bf43cbfe\">\n   <rect height=\"271.8\" width=\"669.6\" x=\"56.50625\" y=\"7.2\"/>\n  </clipPath>\n </defs>\n</svg>\n",
            "image/png": "[encoded data removed]"
          },
          "metadata": {
            "needs_background": "light"
          }
        }
      ],
      "source": [
        "#print(r50_List)# \n",
        "plt.figure(figsize=(12, 5))\n",
        "plt.plot(ngdc_List)\n",
        "plt.ylabel(\"Validation NDCG@100\")\n",
        "plt.xlabel(\"Epochs\")\n",
        "plt.grid(True)"
      ]
    },
    {
      "cell_type": "code",
      "execution_count": 62,
      "metadata": {},
      "outputs": [
        {
          "output_type": "display_data",
          "data": {
            "text/plain": "<Figure size 864x360 with 1 Axes>",
            "image/svg+xml": "<?xml version=\"1.0\" encoding=\"utf-8\" standalone=\"no\"?>\n<!DOCTYPE svg PUBLIC \"-//W3C//DTD SVG 1.1//EN\"\n  \"http://www.w3.org/Graphics/SVG/1.1/DTD/svg11.dtd\">\n<svg height=\"317.293802pt\" version=\"1.1\" viewBox=\"0 0 726.94375 317.293802\" width=\"726.94375pt\" xmlns=\"http://www.w3.org/2000/svg\" xmlns:xlink=\"http://www.w3.org/1999/xlink\">\n <metadata>\n  <rdf:RDF xmlns:cc=\"http://creativecommons.org/ns#\" xmlns:dc=\"http://purl.org/dc/elements/1.1/\" xmlns:rdf=\"http://www.w3.org/1999/02/22-rdf-syntax-ns#\">\n   <cc:Work>\n    <dc:type rdf:resource=\"http://purl.org/dc/dcmitype/StillImage\"/>\n    <dc:date>2021-05-07T14:09:52.382464</dc:date>\n    <dc:format>image/svg+xml</dc:format>\n    <dc:creator>\n     <cc:Agent>\n      <dc:title>Matplotlib v3.4.1, https://matplotlib.org/</dc:title>\n     </cc:Agent>\n    </dc:creator>\n   </cc:Work>\n  </rdf:RDF>\n </metadata>\n <defs>\n  <style type=\"text/css\">*{stroke-linecap:butt;stroke-linejoin:round;}</style>\n </defs>\n <g id=\"figure_1\">\n  <g id=\"patch_1\">\n   <path d=\"M 0 317.293802 \nL 726.94375 317.293802 \nL 726.94375 0 \nL 0 0 \nz\n\" style=\"fill:none;\"/>\n  </g>\n  <g id=\"axes_1\">\n   <g id=\"patch_2\">\n    <path d=\"M 50.14375 279.737552 \nL 719.74375 279.737552 \nL 719.74375 7.937552 \nL 50.14375 7.937552 \nz\n\" style=\"fill:#ffffff;\"/>\n   </g>\n   <g id=\"matplotlib.axis_1\">\n    <g id=\"xtick_1\">\n     <g id=\"line2d_1\">\n      <path clip-path=\"url(#p1ce44c1b61)\" d=\"M 80.580114 279.737552 \nL 80.580114 7.937552 \n\" style=\"fill:none;stroke:#b0b0b0;stroke-linecap:square;stroke-width:0.8;\"/>\n     </g>\n     <g id=\"line2d_2\">\n      <defs>\n       <path d=\"M 0 0 \nL 0 3.5 \n\" id=\"mbd52405f81\" style=\"stroke:#000000;stroke-width:0.8;\"/>\n      </defs>\n      <g>\n       <use style=\"stroke:#000000;stroke-width:0.8;\" x=\"80.580114\" xlink:href=\"#mbd52405f81\" y=\"279.737552\"/>\n      </g>\n     </g>\n     <g id=\"text_1\">\n      <!-- 0 -->\n      <g transform=\"translate(77.398864 294.33599)scale(0.1 -0.1)\">\n       <defs>\n        <path d=\"M 2034 4250 \nQ 1547 4250 1301 3770 \nQ 1056 3291 1056 2328 \nQ 1056 1369 1301 889 \nQ 1547 409 2034 409 \nQ 2525 409 2770 889 \nQ 3016 1369 3016 2328 \nQ 3016 3291 2770 3770 \nQ 2525 4250 2034 4250 \nz\nM 2034 4750 \nQ 2819 4750 3233 4129 \nQ 3647 3509 3647 2328 \nQ 3647 1150 3233 529 \nQ 2819 -91 2034 -91 \nQ 1250 -91 836 529 \nQ 422 1150 422 2328 \nQ 422 3509 836 4129 \nQ 1250 4750 2034 4750 \nz\n\" id=\"DejaVuSans-30\" transform=\"scale(0.015625)\"/>\n       </defs>\n       <use xlink:href=\"#DejaVuSans-30\"/>\n      </g>\n     </g>\n    </g>\n    <g id=\"xtick_2\">\n     <g id=\"line2d_3\">\n      <path clip-path=\"url(#p1ce44c1b61)\" d=\"M 157.053389 279.737552 \nL 157.053389 7.937552 \n\" style=\"fill:none;stroke:#b0b0b0;stroke-linecap:square;stroke-width:0.8;\"/>\n     </g>\n     <g id=\"line2d_4\">\n      <g>\n       <use style=\"stroke:#000000;stroke-width:0.8;\" x=\"157.053389\" xlink:href=\"#mbd52405f81\" y=\"279.737552\"/>\n      </g>\n     </g>\n     <g id=\"text_2\">\n      <!-- 25 -->\n      <g transform=\"translate(150.690889 294.33599)scale(0.1 -0.1)\">\n       <defs>\n        <path d=\"M 1228 531 \nL 3431 531 \nL 3431 0 \nL 469 0 \nL 469 531 \nQ 828 903 1448 1529 \nQ 2069 2156 2228 2338 \nQ 2531 2678 2651 2914 \nQ 2772 3150 2772 3378 \nQ 2772 3750 2511 3984 \nQ 2250 4219 1831 4219 \nQ 1534 4219 1204 4116 \nQ 875 4013 500 3803 \nL 500 4441 \nQ 881 4594 1212 4672 \nQ 1544 4750 1819 4750 \nQ 2544 4750 2975 4387 \nQ 3406 4025 3406 3419 \nQ 3406 3131 3298 2873 \nQ 3191 2616 2906 2266 \nQ 2828 2175 2409 1742 \nQ 1991 1309 1228 531 \nz\n\" id=\"DejaVuSans-32\" transform=\"scale(0.015625)\"/>\n        <path d=\"M 691 4666 \nL 3169 4666 \nL 3169 4134 \nL 1269 4134 \nL 1269 2991 \nQ 1406 3038 1543 3061 \nQ 1681 3084 1819 3084 \nQ 2600 3084 3056 2656 \nQ 3513 2228 3513 1497 \nQ 3513 744 3044 326 \nQ 2575 -91 1722 -91 \nQ 1428 -91 1123 -41 \nQ 819 9 494 109 \nL 494 744 \nQ 775 591 1075 516 \nQ 1375 441 1709 441 \nQ 2250 441 2565 725 \nQ 2881 1009 2881 1497 \nQ 2881 1984 2565 2268 \nQ 2250 2553 1709 2553 \nQ 1456 2553 1204 2497 \nQ 953 2441 691 2322 \nL 691 4666 \nz\n\" id=\"DejaVuSans-35\" transform=\"scale(0.015625)\"/>\n       </defs>\n       <use xlink:href=\"#DejaVuSans-32\"/>\n       <use x=\"63.623047\" xlink:href=\"#DejaVuSans-35\"/>\n      </g>\n     </g>\n    </g>\n    <g id=\"xtick_3\">\n     <g id=\"line2d_5\">\n      <path clip-path=\"url(#p1ce44c1b61)\" d=\"M 233.526665 279.737552 \nL 233.526665 7.937552 \n\" style=\"fill:none;stroke:#b0b0b0;stroke-linecap:square;stroke-width:0.8;\"/>\n     </g>\n     <g id=\"line2d_6\">\n      <g>\n       <use style=\"stroke:#000000;stroke-width:0.8;\" x=\"233.526665\" xlink:href=\"#mbd52405f81\" y=\"279.737552\"/>\n      </g>\n     </g>\n     <g id=\"text_3\">\n      <!-- 50 -->\n      <g transform=\"translate(227.164165 294.33599)scale(0.1 -0.1)\">\n       <use xlink:href=\"#DejaVuSans-35\"/>\n       <use x=\"63.623047\" xlink:href=\"#DejaVuSans-30\"/>\n      </g>\n     </g>\n    </g>\n    <g id=\"xtick_4\">\n     <g id=\"line2d_7\">\n      <path clip-path=\"url(#p1ce44c1b61)\" d=\"M 309.99994 279.737552 \nL 309.99994 7.937552 \n\" style=\"fill:none;stroke:#b0b0b0;stroke-linecap:square;stroke-width:0.8;\"/>\n     </g>\n     <g id=\"line2d_8\">\n      <g>\n       <use style=\"stroke:#000000;stroke-width:0.8;\" x=\"309.99994\" xlink:href=\"#mbd52405f81\" y=\"279.737552\"/>\n      </g>\n     </g>\n     <g id=\"text_4\">\n      <!-- 75 -->\n      <g transform=\"translate(303.63744 294.33599)scale(0.1 -0.1)\">\n       <defs>\n        <path d=\"M 525 4666 \nL 3525 4666 \nL 3525 4397 \nL 1831 0 \nL 1172 0 \nL 2766 4134 \nL 525 4134 \nL 525 4666 \nz\n\" id=\"DejaVuSans-37\" transform=\"scale(0.015625)\"/>\n       </defs>\n       <use xlink:href=\"#DejaVuSans-37\"/>\n       <use x=\"63.623047\" xlink:href=\"#DejaVuSans-35\"/>\n      </g>\n     </g>\n    </g>\n    <g id=\"xtick_5\">\n     <g id=\"line2d_9\">\n      <path clip-path=\"url(#p1ce44c1b61)\" d=\"M 386.473216 279.737552 \nL 386.473216 7.937552 \n\" style=\"fill:none;stroke:#b0b0b0;stroke-linecap:square;stroke-width:0.8;\"/>\n     </g>\n     <g id=\"line2d_10\">\n      <g>\n       <use style=\"stroke:#000000;stroke-width:0.8;\" x=\"386.473216\" xlink:href=\"#mbd52405f81\" y=\"279.737552\"/>\n      </g>\n     </g>\n     <g id=\"text_5\">\n      <!-- 100 -->\n      <g transform=\"translate(376.929466 294.33599)scale(0.1 -0.1)\">\n       <defs>\n        <path d=\"M 794 531 \nL 1825 531 \nL 1825 4091 \nL 703 3866 \nL 703 4441 \nL 1819 4666 \nL 2450 4666 \nL 2450 531 \nL 3481 531 \nL 3481 0 \nL 794 0 \nL 794 531 \nz\n\" id=\"DejaVuSans-31\" transform=\"scale(0.015625)\"/>\n       </defs>\n       <use xlink:href=\"#DejaVuSans-31\"/>\n       <use x=\"63.623047\" xlink:href=\"#DejaVuSans-30\"/>\n       <use x=\"127.246094\" xlink:href=\"#DejaVuSans-30\"/>\n      </g>\n     </g>\n    </g>\n    <g id=\"xtick_6\">\n     <g id=\"line2d_11\">\n      <path clip-path=\"url(#p1ce44c1b61)\" d=\"M 462.946491 279.737552 \nL 462.946491 7.937552 \n\" style=\"fill:none;stroke:#b0b0b0;stroke-linecap:square;stroke-width:0.8;\"/>\n     </g>\n     <g id=\"line2d_12\">\n      <g>\n       <use style=\"stroke:#000000;stroke-width:0.8;\" x=\"462.946491\" xlink:href=\"#mbd52405f81\" y=\"279.737552\"/>\n      </g>\n     </g>\n     <g id=\"text_6\">\n      <!-- 125 -->\n      <g transform=\"translate(453.402741 294.33599)scale(0.1 -0.1)\">\n       <use xlink:href=\"#DejaVuSans-31\"/>\n       <use x=\"63.623047\" xlink:href=\"#DejaVuSans-32\"/>\n       <use x=\"127.246094\" xlink:href=\"#DejaVuSans-35\"/>\n      </g>\n     </g>\n    </g>\n    <g id=\"xtick_7\">\n     <g id=\"line2d_13\">\n      <path clip-path=\"url(#p1ce44c1b61)\" d=\"M 539.419766 279.737552 \nL 539.419766 7.937552 \n\" style=\"fill:none;stroke:#b0b0b0;stroke-linecap:square;stroke-width:0.8;\"/>\n     </g>\n     <g id=\"line2d_14\">\n      <g>\n       <use style=\"stroke:#000000;stroke-width:0.8;\" x=\"539.419766\" xlink:href=\"#mbd52405f81\" y=\"279.737552\"/>\n      </g>\n     </g>\n     <g id=\"text_7\">\n      <!-- 150 -->\n      <g transform=\"translate(529.876016 294.33599)scale(0.1 -0.1)\">\n       <use xlink:href=\"#DejaVuSans-31\"/>\n       <use x=\"63.623047\" xlink:href=\"#DejaVuSans-35\"/>\n       <use x=\"127.246094\" xlink:href=\"#DejaVuSans-30\"/>\n      </g>\n     </g>\n    </g>\n    <g id=\"xtick_8\">\n     <g id=\"line2d_15\">\n      <path clip-path=\"url(#p1ce44c1b61)\" d=\"M 615.893042 279.737552 \nL 615.893042 7.937552 \n\" style=\"fill:none;stroke:#b0b0b0;stroke-linecap:square;stroke-width:0.8;\"/>\n     </g>\n     <g id=\"line2d_16\">\n      <g>\n       <use style=\"stroke:#000000;stroke-width:0.8;\" x=\"615.893042\" xlink:href=\"#mbd52405f81\" y=\"279.737552\"/>\n      </g>\n     </g>\n     <g id=\"text_8\">\n      <!-- 175 -->\n      <g transform=\"translate(606.349292 294.33599)scale(0.1 -0.1)\">\n       <use xlink:href=\"#DejaVuSans-31\"/>\n       <use x=\"63.623047\" xlink:href=\"#DejaVuSans-37\"/>\n       <use x=\"127.246094\" xlink:href=\"#DejaVuSans-35\"/>\n      </g>\n     </g>\n    </g>\n    <g id=\"xtick_9\">\n     <g id=\"line2d_17\">\n      <path clip-path=\"url(#p1ce44c1b61)\" d=\"M 692.366317 279.737552 \nL 692.366317 7.937552 \n\" style=\"fill:none;stroke:#b0b0b0;stroke-linecap:square;stroke-width:0.8;\"/>\n     </g>\n     <g id=\"line2d_18\">\n      <g>\n       <use style=\"stroke:#000000;stroke-width:0.8;\" x=\"692.366317\" xlink:href=\"#mbd52405f81\" y=\"279.737552\"/>\n      </g>\n     </g>\n     <g id=\"text_9\">\n      <!-- 200 -->\n      <g transform=\"translate(682.822567 294.33599)scale(0.1 -0.1)\">\n       <use xlink:href=\"#DejaVuSans-32\"/>\n       <use x=\"63.623047\" xlink:href=\"#DejaVuSans-30\"/>\n       <use x=\"127.246094\" xlink:href=\"#DejaVuSans-30\"/>\n      </g>\n     </g>\n    </g>\n    <g id=\"text_10\">\n     <!-- Epochs -->\n     <g transform=\"translate(367.028125 308.014115)scale(0.1 -0.1)\">\n      <defs>\n       <path d=\"M 628 4666 \nL 3578 4666 \nL 3578 4134 \nL 1259 4134 \nL 1259 2753 \nL 3481 2753 \nL 3481 2222 \nL 1259 2222 \nL 1259 531 \nL 3634 531 \nL 3634 0 \nL 628 0 \nL 628 4666 \nz\n\" id=\"DejaVuSans-45\" transform=\"scale(0.015625)\"/>\n       <path d=\"M 1159 525 \nL 1159 -1331 \nL 581 -1331 \nL 581 3500 \nL 1159 3500 \nL 1159 2969 \nQ 1341 3281 1617 3432 \nQ 1894 3584 2278 3584 \nQ 2916 3584 3314 3078 \nQ 3713 2572 3713 1747 \nQ 3713 922 3314 415 \nQ 2916 -91 2278 -91 \nQ 1894 -91 1617 61 \nQ 1341 213 1159 525 \nz\nM 3116 1747 \nQ 3116 2381 2855 2742 \nQ 2594 3103 2138 3103 \nQ 1681 3103 1420 2742 \nQ 1159 2381 1159 1747 \nQ 1159 1113 1420 752 \nQ 1681 391 2138 391 \nQ 2594 391 2855 752 \nQ 3116 1113 3116 1747 \nz\n\" id=\"DejaVuSans-70\" transform=\"scale(0.015625)\"/>\n       <path d=\"M 1959 3097 \nQ 1497 3097 1228 2736 \nQ 959 2375 959 1747 \nQ 959 1119 1226 758 \nQ 1494 397 1959 397 \nQ 2419 397 2687 759 \nQ 2956 1122 2956 1747 \nQ 2956 2369 2687 2733 \nQ 2419 3097 1959 3097 \nz\nM 1959 3584 \nQ 2709 3584 3137 3096 \nQ 3566 2609 3566 1747 \nQ 3566 888 3137 398 \nQ 2709 -91 1959 -91 \nQ 1206 -91 779 398 \nQ 353 888 353 1747 \nQ 353 2609 779 3096 \nQ 1206 3584 1959 3584 \nz\n\" id=\"DejaVuSans-6f\" transform=\"scale(0.015625)\"/>\n       <path d=\"M 3122 3366 \nL 3122 2828 \nQ 2878 2963 2633 3030 \nQ 2388 3097 2138 3097 \nQ 1578 3097 1268 2742 \nQ 959 2388 959 1747 \nQ 959 1106 1268 751 \nQ 1578 397 2138 397 \nQ 2388 397 2633 464 \nQ 2878 531 3122 666 \nL 3122 134 \nQ 2881 22 2623 -34 \nQ 2366 -91 2075 -91 \nQ 1284 -91 818 406 \nQ 353 903 353 1747 \nQ 353 2603 823 3093 \nQ 1294 3584 2113 3584 \nQ 2378 3584 2631 3529 \nQ 2884 3475 3122 3366 \nz\n\" id=\"DejaVuSans-63\" transform=\"scale(0.015625)\"/>\n       <path d=\"M 3513 2113 \nL 3513 0 \nL 2938 0 \nL 2938 2094 \nQ 2938 2591 2744 2837 \nQ 2550 3084 2163 3084 \nQ 1697 3084 1428 2787 \nQ 1159 2491 1159 1978 \nL 1159 0 \nL 581 0 \nL 581 4863 \nL 1159 4863 \nL 1159 2956 \nQ 1366 3272 1645 3428 \nQ 1925 3584 2291 3584 \nQ 2894 3584 3203 3211 \nQ 3513 2838 3513 2113 \nz\n\" id=\"DejaVuSans-68\" transform=\"scale(0.015625)\"/>\n       <path d=\"M 2834 3397 \nL 2834 2853 \nQ 2591 2978 2328 3040 \nQ 2066 3103 1784 3103 \nQ 1356 3103 1142 2972 \nQ 928 2841 928 2578 \nQ 928 2378 1081 2264 \nQ 1234 2150 1697 2047 \nL 1894 2003 \nQ 2506 1872 2764 1633 \nQ 3022 1394 3022 966 \nQ 3022 478 2636 193 \nQ 2250 -91 1575 -91 \nQ 1294 -91 989 -36 \nQ 684 19 347 128 \nL 347 722 \nQ 666 556 975 473 \nQ 1284 391 1588 391 \nQ 1994 391 2212 530 \nQ 2431 669 2431 922 \nQ 2431 1156 2273 1281 \nQ 2116 1406 1581 1522 \nL 1381 1569 \nQ 847 1681 609 1914 \nQ 372 2147 372 2553 \nQ 372 3047 722 3315 \nQ 1072 3584 1716 3584 \nQ 2034 3584 2315 3537 \nQ 2597 3491 2834 3397 \nz\n\" id=\"DejaVuSans-73\" transform=\"scale(0.015625)\"/>\n      </defs>\n      <use xlink:href=\"#DejaVuSans-45\"/>\n      <use x=\"63.183594\" xlink:href=\"#DejaVuSans-70\"/>\n      <use x=\"126.660156\" xlink:href=\"#DejaVuSans-6f\"/>\n      <use x=\"187.841797\" xlink:href=\"#DejaVuSans-63\"/>\n      <use x=\"242.822266\" xlink:href=\"#DejaVuSans-68\"/>\n      <use x=\"306.201172\" xlink:href=\"#DejaVuSans-73\"/>\n     </g>\n    </g>\n   </g>\n   <g id=\"matplotlib.axis_2\">\n    <g id=\"ytick_1\">\n     <g id=\"line2d_19\">\n      <path clip-path=\"url(#p1ce44c1b61)\" d=\"M 50.14375 241.093053 \nL 719.74375 241.093053 \n\" style=\"fill:none;stroke:#b0b0b0;stroke-linecap:square;stroke-width:0.8;\"/>\n     </g>\n     <g id=\"line2d_20\">\n      <defs>\n       <path d=\"M 0 0 \nL -3.5 0 \n\" id=\"m381b6157aa\" style=\"stroke:#000000;stroke-width:0.8;\"/>\n      </defs>\n      <g>\n       <use style=\"stroke:#000000;stroke-width:0.8;\" x=\"50.14375\" xlink:href=\"#m381b6157aa\" y=\"241.093053\"/>\n      </g>\n     </g>\n     <g id=\"text_11\">\n      <!-- 0.35 -->\n      <g transform=\"translate(20.878125 244.892272)scale(0.1 -0.1)\">\n       <defs>\n        <path d=\"M 684 794 \nL 1344 794 \nL 1344 0 \nL 684 0 \nL 684 794 \nz\n\" id=\"DejaVuSans-2e\" transform=\"scale(0.015625)\"/>\n        <path d=\"M 2597 2516 \nQ 3050 2419 3304 2112 \nQ 3559 1806 3559 1356 \nQ 3559 666 3084 287 \nQ 2609 -91 1734 -91 \nQ 1441 -91 1130 -33 \nQ 819 25 488 141 \nL 488 750 \nQ 750 597 1062 519 \nQ 1375 441 1716 441 \nQ 2309 441 2620 675 \nQ 2931 909 2931 1356 \nQ 2931 1769 2642 2001 \nQ 2353 2234 1838 2234 \nL 1294 2234 \nL 1294 2753 \nL 1863 2753 \nQ 2328 2753 2575 2939 \nQ 2822 3125 2822 3475 \nQ 2822 3834 2567 4026 \nQ 2313 4219 1838 4219 \nQ 1578 4219 1281 4162 \nQ 984 4106 628 3988 \nL 628 4550 \nQ 988 4650 1302 4700 \nQ 1616 4750 1894 4750 \nQ 2613 4750 3031 4423 \nQ 3450 4097 3450 3541 \nQ 3450 3153 3228 2886 \nQ 3006 2619 2597 2516 \nz\n\" id=\"DejaVuSans-33\" transform=\"scale(0.015625)\"/>\n       </defs>\n       <use xlink:href=\"#DejaVuSans-30\"/>\n       <use x=\"63.623047\" xlink:href=\"#DejaVuSans-2e\"/>\n       <use x=\"95.410156\" xlink:href=\"#DejaVuSans-33\"/>\n       <use x=\"159.033203\" xlink:href=\"#DejaVuSans-35\"/>\n      </g>\n     </g>\n    </g>\n    <g id=\"ytick_2\">\n     <g id=\"line2d_21\">\n      <path clip-path=\"url(#p1ce44c1b61)\" d=\"M 50.14375 183.569594 \nL 719.74375 183.569594 \n\" style=\"fill:none;stroke:#b0b0b0;stroke-linecap:square;stroke-width:0.8;\"/>\n     </g>\n     <g id=\"line2d_22\">\n      <g>\n       <use style=\"stroke:#000000;stroke-width:0.8;\" x=\"50.14375\" xlink:href=\"#m381b6157aa\" y=\"183.569594\"/>\n      </g>\n     </g>\n     <g id=\"text_12\">\n      <!-- 0.40 -->\n      <g transform=\"translate(20.878125 187.368813)scale(0.1 -0.1)\">\n       <defs>\n        <path d=\"M 2419 4116 \nL 825 1625 \nL 2419 1625 \nL 2419 4116 \nz\nM 2253 4666 \nL 3047 4666 \nL 3047 1625 \nL 3713 1625 \nL 3713 1100 \nL 3047 1100 \nL 3047 0 \nL 2419 0 \nL 2419 1100 \nL 313 1100 \nL 313 1709 \nL 2253 4666 \nz\n\" id=\"DejaVuSans-34\" transform=\"scale(0.015625)\"/>\n       </defs>\n       <use xlink:href=\"#DejaVuSans-30\"/>\n       <use x=\"63.623047\" xlink:href=\"#DejaVuSans-2e\"/>\n       <use x=\"95.410156\" xlink:href=\"#DejaVuSans-34\"/>\n       <use x=\"159.033203\" xlink:href=\"#DejaVuSans-30\"/>\n      </g>\n     </g>\n    </g>\n    <g id=\"ytick_3\">\n     <g id=\"line2d_23\">\n      <path clip-path=\"url(#p1ce44c1b61)\" d=\"M 50.14375 126.046136 \nL 719.74375 126.046136 \n\" style=\"fill:none;stroke:#b0b0b0;stroke-linecap:square;stroke-width:0.8;\"/>\n     </g>\n     <g id=\"line2d_24\">\n      <g>\n       <use style=\"stroke:#000000;stroke-width:0.8;\" x=\"50.14375\" xlink:href=\"#m381b6157aa\" y=\"126.046136\"/>\n      </g>\n     </g>\n     <g id=\"text_13\">\n      <!-- 0.45 -->\n      <g transform=\"translate(20.878125 129.845355)scale(0.1 -0.1)\">\n       <use xlink:href=\"#DejaVuSans-30\"/>\n       <use x=\"63.623047\" xlink:href=\"#DejaVuSans-2e\"/>\n       <use x=\"95.410156\" xlink:href=\"#DejaVuSans-34\"/>\n       <use x=\"159.033203\" xlink:href=\"#DejaVuSans-35\"/>\n      </g>\n     </g>\n    </g>\n    <g id=\"ytick_4\">\n     <g id=\"line2d_25\">\n      <path clip-path=\"url(#p1ce44c1b61)\" d=\"M 50.14375 68.522677 \nL 719.74375 68.522677 \n\" style=\"fill:none;stroke:#b0b0b0;stroke-linecap:square;stroke-width:0.8;\"/>\n     </g>\n     <g id=\"line2d_26\">\n      <g>\n       <use style=\"stroke:#000000;stroke-width:0.8;\" x=\"50.14375\" xlink:href=\"#m381b6157aa\" y=\"68.522677\"/>\n      </g>\n     </g>\n     <g id=\"text_14\">\n      <!-- 0.50 -->\n      <g transform=\"translate(20.878125 72.321896)scale(0.1 -0.1)\">\n       <use xlink:href=\"#DejaVuSans-30\"/>\n       <use x=\"63.623047\" xlink:href=\"#DejaVuSans-2e\"/>\n       <use x=\"95.410156\" xlink:href=\"#DejaVuSans-35\"/>\n       <use x=\"159.033203\" xlink:href=\"#DejaVuSans-30\"/>\n      </g>\n     </g>\n    </g>\n    <g id=\"ytick_5\">\n     <g id=\"line2d_27\">\n      <path clip-path=\"url(#p1ce44c1b61)\" d=\"M 50.14375 10.999219 \nL 719.74375 10.999219 \n\" style=\"fill:none;stroke:#b0b0b0;stroke-linecap:square;stroke-width:0.8;\"/>\n     </g>\n     <g id=\"line2d_28\">\n      <g>\n       <use style=\"stroke:#000000;stroke-width:0.8;\" x=\"50.14375\" xlink:href=\"#m381b6157aa\" y=\"10.999219\"/>\n      </g>\n     </g>\n     <g id=\"text_15\">\n      <!-- 0.55 -->\n      <g transform=\"translate(20.878125 14.798437)scale(0.1 -0.1)\">\n       <use xlink:href=\"#DejaVuSans-30\"/>\n       <use x=\"63.623047\" xlink:href=\"#DejaVuSans-2e\"/>\n       <use x=\"95.410156\" xlink:href=\"#DejaVuSans-35\"/>\n       <use x=\"159.033203\" xlink:href=\"#DejaVuSans-35\"/>\n      </g>\n     </g>\n    </g>\n    <g id=\"text_16\">\n     <!-- Validation NDCG@100 -->\n     <g transform=\"translate(14.798438 199.61724)rotate(-90)scale(0.1 -0.1)\">\n      <defs>\n       <path d=\"M 1831 0 \nL 50 4666 \nL 709 4666 \nL 2188 738 \nL 3669 4666 \nL 4325 4666 \nL 2547 0 \nL 1831 0 \nz\n\" id=\"DejaVuSans-56\" transform=\"scale(0.015625)\"/>\n       <path d=\"M 2194 1759 \nQ 1497 1759 1228 1600 \nQ 959 1441 959 1056 \nQ 959 750 1161 570 \nQ 1363 391 1709 391 \nQ 2188 391 2477 730 \nQ 2766 1069 2766 1631 \nL 2766 1759 \nL 2194 1759 \nz\nM 3341 1997 \nL 3341 0 \nL 2766 0 \nL 2766 531 \nQ 2569 213 2275 61 \nQ 1981 -91 1556 -91 \nQ 1019 -91 701 211 \nQ 384 513 384 1019 \nQ 384 1609 779 1909 \nQ 1175 2209 1959 2209 \nL 2766 2209 \nL 2766 2266 \nQ 2766 2663 2505 2880 \nQ 2244 3097 1772 3097 \nQ 1472 3097 1187 3025 \nQ 903 2953 641 2809 \nL 641 3341 \nQ 956 3463 1253 3523 \nQ 1550 3584 1831 3584 \nQ 2591 3584 2966 3190 \nQ 3341 2797 3341 1997 \nz\n\" id=\"DejaVuSans-61\" transform=\"scale(0.015625)\"/>\n       <path d=\"M 603 4863 \nL 1178 4863 \nL 1178 0 \nL 603 0 \nL 603 4863 \nz\n\" id=\"DejaVuSans-6c\" transform=\"scale(0.015625)\"/>\n       <path d=\"M 603 3500 \nL 1178 3500 \nL 1178 0 \nL 603 0 \nL 603 3500 \nz\nM 603 4863 \nL 1178 4863 \nL 1178 4134 \nL 603 4134 \nL 603 4863 \nz\n\" id=\"DejaVuSans-69\" transform=\"scale(0.015625)\"/>\n       <path d=\"M 2906 2969 \nL 2906 4863 \nL 3481 4863 \nL 3481 0 \nL 2906 0 \nL 2906 525 \nQ 2725 213 2448 61 \nQ 2172 -91 1784 -91 \nQ 1150 -91 751 415 \nQ 353 922 353 1747 \nQ 353 2572 751 3078 \nQ 1150 3584 1784 3584 \nQ 2172 3584 2448 3432 \nQ 2725 3281 2906 2969 \nz\nM 947 1747 \nQ 947 1113 1208 752 \nQ 1469 391 1925 391 \nQ 2381 391 2643 752 \nQ 2906 1113 2906 1747 \nQ 2906 2381 2643 2742 \nQ 2381 3103 1925 3103 \nQ 1469 3103 1208 2742 \nQ 947 2381 947 1747 \nz\n\" id=\"DejaVuSans-64\" transform=\"scale(0.015625)\"/>\n       <path d=\"M 1172 4494 \nL 1172 3500 \nL 2356 3500 \nL 2356 3053 \nL 1172 3053 \nL 1172 1153 \nQ 1172 725 1289 603 \nQ 1406 481 1766 481 \nL 2356 481 \nL 2356 0 \nL 1766 0 \nQ 1100 0 847 248 \nQ 594 497 594 1153 \nL 594 3053 \nL 172 3053 \nL 172 3500 \nL 594 3500 \nL 594 4494 \nL 1172 4494 \nz\n\" id=\"DejaVuSans-74\" transform=\"scale(0.015625)\"/>\n       <path d=\"M 3513 2113 \nL 3513 0 \nL 2938 0 \nL 2938 2094 \nQ 2938 2591 2744 2837 \nQ 2550 3084 2163 3084 \nQ 1697 3084 1428 2787 \nQ 1159 2491 1159 1978 \nL 1159 0 \nL 581 0 \nL 581 3500 \nL 1159 3500 \nL 1159 2956 \nQ 1366 3272 1645 3428 \nQ 1925 3584 2291 3584 \nQ 2894 3584 3203 3211 \nQ 3513 2838 3513 2113 \nz\n\" id=\"DejaVuSans-6e\" transform=\"scale(0.015625)\"/>\n       <path id=\"DejaVuSans-20\" transform=\"scale(0.015625)\"/>\n       <path d=\"M 628 4666 \nL 1478 4666 \nL 3547 763 \nL 3547 4666 \nL 4159 4666 \nL 4159 0 \nL 3309 0 \nL 1241 3903 \nL 1241 0 \nL 628 0 \nL 628 4666 \nz\n\" id=\"DejaVuSans-4e\" transform=\"scale(0.015625)\"/>\n       <path d=\"M 1259 4147 \nL 1259 519 \nL 2022 519 \nQ 2988 519 3436 956 \nQ 3884 1394 3884 2338 \nQ 3884 3275 3436 3711 \nQ 2988 4147 2022 4147 \nL 1259 4147 \nz\nM 628 4666 \nL 1925 4666 \nQ 3281 4666 3915 4102 \nQ 4550 3538 4550 2338 \nQ 4550 1131 3912 565 \nQ 3275 0 1925 0 \nL 628 0 \nL 628 4666 \nz\n\" id=\"DejaVuSans-44\" transform=\"scale(0.015625)\"/>\n       <path d=\"M 4122 4306 \nL 4122 3641 \nQ 3803 3938 3442 4084 \nQ 3081 4231 2675 4231 \nQ 1875 4231 1450 3742 \nQ 1025 3253 1025 2328 \nQ 1025 1406 1450 917 \nQ 1875 428 2675 428 \nQ 3081 428 3442 575 \nQ 3803 722 4122 1019 \nL 4122 359 \nQ 3791 134 3420 21 \nQ 3050 -91 2638 -91 \nQ 1578 -91 968 557 \nQ 359 1206 359 2328 \nQ 359 3453 968 4101 \nQ 1578 4750 2638 4750 \nQ 3056 4750 3426 4639 \nQ 3797 4528 4122 4306 \nz\n\" id=\"DejaVuSans-43\" transform=\"scale(0.015625)\"/>\n       <path d=\"M 3809 666 \nL 3809 1919 \nL 2778 1919 \nL 2778 2438 \nL 4434 2438 \nL 4434 434 \nQ 4069 175 3628 42 \nQ 3188 -91 2688 -91 \nQ 1594 -91 976 548 \nQ 359 1188 359 2328 \nQ 359 3472 976 4111 \nQ 1594 4750 2688 4750 \nQ 3144 4750 3555 4637 \nQ 3966 4525 4313 4306 \nL 4313 3634 \nQ 3963 3931 3569 4081 \nQ 3175 4231 2741 4231 \nQ 1884 4231 1454 3753 \nQ 1025 3275 1025 2328 \nQ 1025 1384 1454 906 \nQ 1884 428 2741 428 \nQ 3075 428 3337 486 \nQ 3600 544 3809 666 \nz\n\" id=\"DejaVuSans-47\" transform=\"scale(0.015625)\"/>\n       <path d=\"M 2381 1678 \nQ 2381 1231 2603 976 \nQ 2825 722 3213 722 \nQ 3597 722 3817 978 \nQ 4038 1234 4038 1678 \nQ 4038 2116 3813 2373 \nQ 3588 2631 3206 2631 \nQ 2828 2631 2604 2375 \nQ 2381 2119 2381 1678 \nz\nM 4084 744 \nQ 3897 503 3655 389 \nQ 3413 275 3091 275 \nQ 2553 275 2217 664 \nQ 1881 1053 1881 1678 \nQ 1881 2303 2218 2693 \nQ 2556 3084 3091 3084 \nQ 3413 3084 3656 2967 \nQ 3900 2850 4084 2613 \nL 4084 3022 \nL 4531 3022 \nL 4531 722 \nQ 4988 791 5245 1139 \nQ 5503 1488 5503 2041 \nQ 5503 2375 5404 2669 \nQ 5306 2963 5106 3213 \nQ 4781 3622 4314 3839 \nQ 3847 4056 3297 4056 \nQ 2913 4056 2559 3954 \nQ 2206 3853 1906 3653 \nQ 1416 3334 1139 2817 \nQ 863 2300 863 1697 \nQ 863 1200 1042 765 \nQ 1222 331 1563 0 \nQ 1891 -325 2322 -495 \nQ 2753 -666 3244 -666 \nQ 3647 -666 4036 -530 \nQ 4425 -394 4750 -141 \nL 5031 -488 \nQ 4641 -791 4180 -952 \nQ 3719 -1113 3244 -1113 \nQ 2666 -1113 2153 -908 \nQ 1641 -703 1241 -313 \nQ 841 78 631 592 \nQ 422 1106 422 1697 \nQ 422 2266 634 2781 \nQ 847 3297 1241 3688 \nQ 1644 4084 2172 4295 \nQ 2700 4506 3291 4506 \nQ 3953 4506 4520 4234 \nQ 5088 3963 5472 3463 \nQ 5706 3156 5829 2797 \nQ 5953 2438 5953 2053 \nQ 5953 1231 5456 756 \nQ 4959 281 4084 263 \nL 4084 744 \nz\n\" id=\"DejaVuSans-40\" transform=\"scale(0.015625)\"/>\n      </defs>\n      <use xlink:href=\"#DejaVuSans-56\"/>\n      <use x=\"60.658203\" xlink:href=\"#DejaVuSans-61\"/>\n      <use x=\"121.9375\" xlink:href=\"#DejaVuSans-6c\"/>\n      <use x=\"149.720703\" xlink:href=\"#DejaVuSans-69\"/>\n      <use x=\"177.503906\" xlink:href=\"#DejaVuSans-64\"/>\n      <use x=\"240.980469\" xlink:href=\"#DejaVuSans-61\"/>\n      <use x=\"302.259766\" xlink:href=\"#DejaVuSans-74\"/>\n      <use x=\"341.46875\" xlink:href=\"#DejaVuSans-69\"/>\n      <use x=\"369.251953\" xlink:href=\"#DejaVuSans-6f\"/>\n      <use x=\"430.433594\" xlink:href=\"#DejaVuSans-6e\"/>\n      <use x=\"493.8125\" xlink:href=\"#DejaVuSans-20\"/>\n      <use x=\"525.599609\" xlink:href=\"#DejaVuSans-4e\"/>\n      <use x=\"600.404297\" xlink:href=\"#DejaVuSans-44\"/>\n      <use x=\"677.40625\" xlink:href=\"#DejaVuSans-43\"/>\n      <use x=\"747.230469\" xlink:href=\"#DejaVuSans-47\"/>\n      <use x=\"824.720703\" xlink:href=\"#DejaVuSans-40\"/>\n      <use x=\"924.720703\" xlink:href=\"#DejaVuSans-31\"/>\n      <use x=\"988.34375\" xlink:href=\"#DejaVuSans-30\"/>\n      <use x=\"1051.966797\" xlink:href=\"#DejaVuSans-30\"/>\n     </g>\n    </g>\n   </g>\n   <g id=\"line2d_29\">\n    <path clip-path=\"url(#p1ce44c1b61)\" d=\"M 80.580114 267.383007 \nL 83.639045 157.10611 \nL 86.697976 107.382234 \nL 89.756907 86.906439 \nL 92.815838 68.297965 \nL 95.874769 59.395794 \nL 98.9337 55.170583 \nL 101.992631 48.859729 \nL 105.051562 46.236453 \nL 108.110493 42.827946 \nL 111.169424 40.931832 \nL 114.228355 39.825675 \nL 117.287286 38.387839 \nL 120.346217 35.678759 \nL 123.405148 37.024145 \nL 126.464079 35.800027 \nL 129.52301 37.795854 \nL 132.581941 34.3706 \nL 135.640872 35.174463 \nL 138.699803 33.972483 \nL 141.758734 33.79365 \nL 144.817665 32.789979 \nL 147.876596 33.714842 \nL 150.935527 31.656851 \nL 153.994458 33.758251 \nL 157.053389 35.127423 \nL 163.171251 33.351519 \nL 166.230182 32.274878 \nL 169.289113 34.710859 \nL 172.348044 32.745699 \nL 175.406975 32.82572 \nL 178.465906 32.41141 \nL 181.524837 32.724448 \nL 184.583768 33.912821 \nL 187.642699 32.479706 \nL 193.760561 31.770576 \nL 196.819492 29.823861 \nL 199.878423 32.193653 \nL 202.937354 31.97345 \nL 205.996285 33.175766 \nL 209.055216 29.849258 \nL 212.114147 31.382425 \nL 215.173078 31.681349 \nL 218.232009 31.316034 \nL 221.29094 29.455157 \nL 224.349872 30.866597 \nL 227.408803 29.552984 \nL 230.467734 30.686158 \nL 233.526665 29.366212 \nL 236.585596 28.334632 \nL 239.644527 28.831419 \nL 242.703458 30.005412 \nL 245.762389 27.999821 \nL 248.82132 28.311895 \nL 251.880251 29.269877 \nL 254.939182 31.303346 \nL 257.998113 28.949449 \nL 261.057044 29.035684 \nL 264.115975 29.521148 \nL 267.174906 28.477227 \nL 273.292768 28.361077 \nL 276.351699 27.255537 \nL 279.41063 27.414949 \nL 282.469561 27.727232 \nL 285.528492 26.400909 \nL 288.587423 27.890028 \nL 291.646354 26.167618 \nL 294.705285 28.115815 \nL 297.764216 26.684864 \nL 303.882078 26.688079 \nL 306.941009 28.063081 \nL 309.99994 27.045802 \nL 313.058871 27.267665 \nL 316.117802 26.558294 \nL 319.176733 25.351453 \nL 322.235664 27.536173 \nL 325.294595 27.61907 \nL 328.353526 28.395004 \nL 331.412457 28.078653 \nL 334.471388 27.997618 \nL 337.530319 25.192311 \nL 340.58925 25.090422 \nL 343.648181 25.45659 \nL 346.707112 26.428303 \nL 349.766043 24.736547 \nL 352.824974 24.27095 \nL 355.883905 24.852003 \nL 358.942836 24.782325 \nL 362.001767 25.725711 \nL 365.060698 23.748826 \nL 368.119629 24.790201 \nL 371.17856 24.905077 \nL 374.237491 24.741001 \nL 377.296422 25.038538 \nL 380.355353 25.520355 \nL 383.414284 25.337414 \nL 386.473216 24.34228 \nL 389.532147 24.099324 \nL 392.591078 23.43691 \nL 395.650009 24.718139 \nL 398.70894 24.873974 \nL 401.767871 24.885298 \nL 404.826802 24.168367 \nL 407.885733 24.080049 \nL 410.944664 23.652539 \nL 414.003595 23.797229 \nL 420.121457 26.506366 \nL 423.180388 23.814447 \nL 426.239319 24.704883 \nL 429.29825 23.767942 \nL 432.357181 24.266139 \nL 435.416112 22.331018 \nL 438.475043 23.10513 \nL 441.533974 22.545996 \nL 444.592905 22.275062 \nL 447.651836 24.050933 \nL 450.710767 24.959318 \nL 453.769698 22.773424 \nL 456.828629 23.695993 \nL 459.88756 22.121902 \nL 462.946491 23.307627 \nL 466.005422 23.112155 \nL 469.064353 21.646321 \nL 472.123284 24.024293 \nL 475.182215 22.679154 \nL 478.241146 22.75637 \nL 484.359008 23.207127 \nL 487.417939 21.764419 \nL 490.47687 23.360045 \nL 493.535801 24.627241 \nL 496.594732 23.783827 \nL 499.653663 24.109424 \nL 502.712594 23.384222 \nL 505.771525 23.58401 \nL 508.830456 22.215856 \nL 511.889387 23.456339 \nL 514.948318 24.035255 \nL 518.007249 22.993056 \nL 521.06618 24.283717 \nL 524.125111 22.002135 \nL 527.184042 22.691202 \nL 530.242973 21.226163 \nL 533.301904 21.382878 \nL 536.360835 23.425385 \nL 539.419766 21.983053 \nL 542.478697 22.479742 \nL 545.537628 23.923662 \nL 548.59656 22.866329 \nL 551.655491 23.45431 \nL 554.714422 22.995921 \nL 557.773353 23.300237 \nL 560.832284 23.47845 \nL 563.891215 23.090272 \nL 566.950146 23.112202 \nL 570.009077 22.649688 \nL 573.068008 21.632275 \nL 576.126939 23.427899 \nL 579.18587 22.171889 \nL 582.244801 23.569511 \nL 585.303732 23.721859 \nL 588.362663 22.510373 \nL 591.421594 22.019011 \nL 594.480525 22.268984 \nL 597.539456 21.691948 \nL 600.598387 22.092948 \nL 603.657318 21.995546 \nL 606.716249 22.716011 \nL 612.834111 22.021373 \nL 615.893042 22.947657 \nL 618.951973 21.238868 \nL 622.010904 22.931351 \nL 625.069835 20.918737 \nL 628.128766 21.834546 \nL 631.187697 22.479256 \nL 634.246628 21.569635 \nL 637.305559 22.29962 \nL 640.36449 22.367466 \nL 643.423421 22.921085 \nL 649.541283 22.682751 \nL 652.600214 22.104883 \nL 655.659145 22.352697 \nL 658.718076 22.882781 \nL 661.777007 22.913885 \nL 664.835938 21.908457 \nL 667.894869 21.817984 \nL 670.9538 20.292098 \nL 674.012731 20.983692 \nL 677.071662 22.083979 \nL 680.130593 23.025304 \nL 683.189524 21.503264 \nL 686.248455 22.579436 \nL 689.307386 22.747224 \nL 689.307386 22.747224 \n\" style=\"fill:none;stroke:#1f77b4;stroke-linecap:square;stroke-width:1.5;\"/>\n   </g>\n   <g id=\"patch_3\">\n    <path d=\"M 50.14375 279.737552 \nL 50.14375 7.937552 \n\" style=\"fill:none;stroke:#000000;stroke-linecap:square;stroke-linejoin:miter;stroke-width:0.8;\"/>\n   </g>\n   <g id=\"patch_4\">\n    <path d=\"M 719.74375 279.737552 \nL 719.74375 7.937552 \n\" style=\"fill:none;stroke:#000000;stroke-linecap:square;stroke-linejoin:miter;stroke-width:0.8;\"/>\n   </g>\n   <g id=\"patch_5\">\n    <path d=\"M 50.14375 279.737552 \nL 719.74375 279.737552 \n\" style=\"fill:none;stroke:#000000;stroke-linecap:square;stroke-linejoin:miter;stroke-width:0.8;\"/>\n   </g>\n   <g id=\"patch_6\">\n    <path d=\"M 50.14375 7.937552 \nL 719.74375 7.937552 \n\" style=\"fill:none;stroke:#000000;stroke-linecap:square;stroke-linejoin:miter;stroke-width:0.8;\"/>\n   </g>\n  </g>\n </g>\n <defs>\n  <clipPath id=\"p1ce44c1b61\">\n   <rect height=\"271.8\" width=\"669.6\" x=\"50.14375\" y=\"7.937552\"/>\n  </clipPath>\n </defs>\n</svg>\n",
            "image/png": "[encoded data removed]"
          },
          "metadata": {
            "needs_background": "light"
          }
        }
      ],
      "source": [
        "#print(r50_List)# \n",
        "plt.figure(figsize=(12, 5))\n",
        "plt.plot(r50_List)\n",
        "plt.ylabel(\"Validation NDCG@100\")\n",
        "plt.xlabel(\"Epochs\")\n",
        "plt.grid(True)"
      ]
    },
    {
      "cell_type": "code",
      "execution_count": 127,
      "metadata": {},
      "outputs": [],
      "source": [
        "\n",
        "\n",
        "# def getpred_list(model_,trainMat,best_BS,test_BS,n_epoch, k=10):\n",
        "#     TrainSample = DataSampler(trainMat,batch_size=best_BS, shuffle=False)  #train_data\n",
        "#     model_.train(TrainSample, valid_data=None,num_epochs=n_epoch)\n",
        "#     All_userpred = []    \n",
        "#     pred_sample = DataSampler(trainMat, batch_size=test_BS, shuffle=False)  #train_data\n",
        "#     for batch_idx, (data, gt) in enumerate(pred_sample):\n",
        "#         input_data = data\n",
        "#         data_tensor = data.view(input_data.shape[0], -1).to(device)\n",
        "#         pred_out = model_.predict(data_tensor,remove_train=False)\n",
        "#         predOut_ = pred_out[0].to('cpu')\n",
        "#         #idx = bn.argpartition(-predOut_, k-1, axis=1)\n",
        "#         idx_topk_part = bn.argpartition(-predOut_, k-1, axis=1)\n",
        "#         topk_part = predOut_[np.arange(predOut_.shape[0])[:, np.newaxis], idx_topk_part[:, :k]]\n",
        "#         idx_part = np.argsort(-topk_part, axis=1)\n",
        "#         idx_topk = idx_topk_part[np.arange(predOut_.shape[0])[:, np.newaxis], idx_part]\n",
        "#         All_userpred.append(idx_topk)\n",
        "#     All_UserPRED = np.vstack(All_userpred)\n",
        "#     return All_UserPRED\n",
        "\n",
        "\n",
        "\n",
        "# def getVAE_TopNPred(X_out,k):   ##X_out == tensor output from model\n",
        "#     batch_users = X_out.shape[0]\n",
        "#     idx_topk_part = bn.argpartition(-X_out, k, axis=1)\n",
        "#     topk_part = X_out[np.arange(batch_users)[:, np.newaxis], idx_topk_part[:, :k]]\n",
        "#     idx_part = np.argsort(-topk_part, axis=1)\n",
        "#     idx_topk = idx_topk_part[np.arange(batch_users)[:, np.newaxis], idx_part]\n",
        "#     return idx_topk       "
      ]
    },
    {
      "cell_type": "code",
      "execution_count": null,
      "metadata": {},
      "outputs": [],
      "source": []
    },
    {
      "cell_type": "code",
      "execution_count": 64,
      "metadata": {},
      "outputs": [],
      "source": [
        "import pickle\n",
        "\n",
        "with open('/home/oolaleke/incremental_PSI/Notebooks/MLDF20M_newHoldout.pkl', 'rb') as f:\n",
        "     newHoldout_list = pickle.load(f)\n",
        "\n",
        "with open('/home/oolaleke/incremental_PSI/Notebooks/MLDF20M_newPSITest.pkl', 'rb') as f:\n",
        "     newPSITest_list = pickle.load(f)     \n",
        "    \n",
        "with open('/home/oolaleke/incremental_PSI/Notebooks/MLDF20M_newUserItem.pkl', 'rb') as f:\n",
        "     newUserItem_list = pickle.load(f)\n"
      ]
    },
    {
      "cell_type": "code",
      "execution_count": 65,
      "metadata": {},
      "outputs": [
        {
          "output_type": "stream",
          "name": "stdout",
          "text": [
            "15\n"
          ]
        },
        {
          "output_type": "execute_result",
          "data": {
            "text/plain": [
              "[<136677x20720 sparse matrix of type '<class 'numpy.float64'>'\n",
              " \twith 8865107 stored elements in Compressed Sparse Row format>,\n",
              " <136677x20720 sparse matrix of type '<class 'numpy.float64'>'\n",
              " \twith 8945455 stored elements in Compressed Sparse Row format>,\n",
              " <136677x20720 sparse matrix of type '<class 'numpy.float64'>'\n",
              " \twith 9025842 stored elements in Compressed Sparse Row format>,\n",
              " <136677x20720 sparse matrix of type '<class 'numpy.float64'>'\n",
              " \twith 9106051 stored elements in Compressed Sparse Row format>,\n",
              " <136677x20720 sparse matrix of type '<class 'numpy.float64'>'\n",
              " \twith 9186201 stored elements in Compressed Sparse Row format>,\n",
              " <136677x20720 sparse matrix of type '<class 'numpy.float64'>'\n",
              " \twith 9266468 stored elements in Compressed Sparse Row format>,\n",
              " <136677x20720 sparse matrix of type '<class 'numpy.float64'>'\n",
              " \twith 9346597 stored elements in Compressed Sparse Row format>,\n",
              " <136677x20720 sparse matrix of type '<class 'numpy.float64'>'\n",
              " \twith 9426837 stored elements in Compressed Sparse Row format>,\n",
              " <136677x20720 sparse matrix of type '<class 'numpy.float64'>'\n",
              " \twith 9506974 stored elements in Compressed Sparse Row format>,\n",
              " <136677x20720 sparse matrix of type '<class 'numpy.float64'>'\n",
              " \twith 9586957 stored elements in Compressed Sparse Row format>,\n",
              " <136677x20720 sparse matrix of type '<class 'numpy.float64'>'\n",
              " \twith 9667299 stored elements in Compressed Sparse Row format>,\n",
              " <136677x20720 sparse matrix of type '<class 'numpy.float64'>'\n",
              " \twith 9747689 stored elements in Compressed Sparse Row format>,\n",
              " <136677x20720 sparse matrix of type '<class 'numpy.float64'>'\n",
              " \twith 9828194 stored elements in Compressed Sparse Row format>,\n",
              " <136677x20720 sparse matrix of type '<class 'numpy.float64'>'\n",
              " \twith 9908522 stored elements in Compressed Sparse Row format>,\n",
              " <136677x20720 sparse matrix of type '<class 'numpy.float64'>'\n",
              " \twith 9987952 stored elements in Compressed Sparse Row format>]"
            ]
          },
          "metadata": {},
          "execution_count": 65
        }
      ],
      "source": [
        "rows_i = newMLDF_20M['Updated_UserID'].nunique()\n",
        "cols_i = newMLDF_20M['Updated_ItemID'].nunique()\n",
        "UserItem_MATList = AllRatingMatrices(newUserItem_list,'Updated_UserID','Updated_ItemID',rows_i ,cols_i) \n",
        "print(len(UserItem_MATList))   \n",
        "UserItem_MATList"
      ]
    },
    {
      "cell_type": "code",
      "execution_count": 377,
      "metadata": {},
      "outputs": [
        {
          "output_type": "execute_result",
          "data": {
            "text/plain": [
              "MultiVAE(\n",
              "  (encode): Encoder(\n",
              "    (q_layers): Sequential(\n",
              "      (dropout_0): Dropout(p=0.5, inplace=False)\n",
              "      (linear_0): Linear(in_features=20720, out_features=600, bias=True)\n",
              "      (dropout_1): Dropout(p=0.0, inplace=False)\n",
              "      (linear_1): Linear(in_features=600, out_features=400, bias=True)\n",
              "    )\n",
              "  )\n",
              "  (decode): Decoder(\n",
              "    (p_layers): Sequential(\n",
              "      (dropout_0): Dropout(p=0.0, inplace=False)\n",
              "      (linear_0): Linear(in_features=200, out_features=600, bias=True)\n",
              "      (dropout_1): Dropout(p=0.0, inplace=False)\n",
              "      (linear_1): Linear(in_features=600, out_features=20720, bias=True)\n",
              "    )\n",
              "  )\n",
              ")"
            ]
          },
          "metadata": {},
          "execution_count": 377
        }
      ],
      "source": [
        "I =  newMLDF_20M['Updated_ItemID'].nunique()  #I is the total number of items in the train date\n",
        "#I = len(train_Items) \n",
        "q_dims = [I] + [600, 200]\n",
        "p_dims = [200, 600] + [I]\n",
        "dropout_enc = [0.5, 0.]\n",
        "dropout_dec = [0., 0.]\n",
        "\n",
        "VAEmodel = MultiVAE(p_dims,q_dims,dropout_enc,dropout_dec)\n",
        "\n",
        "\n",
        "init_weights(VAEmodel)\n",
        "VAEmodel.to(device)\n",
        "optimizer = torch.optim.AdamW(VAEmodel.parameters(), lr=1e-3, weight_decay=0.0)  \n",
        "VAEmodel              "
      ]
    },
    {
      "cell_type": "code",
      "execution_count": null,
      "metadata": {},
      "outputs": [],
      "source": []
    },
    {
      "cell_type": "code",
      "execution_count": 131,
      "metadata": {},
      "outputs": [
        {
          "output_type": "stream",
          "name": "stderr",
          "text": [
            "100%|██████████| 100/100 [20:10<00:00, 12.11s/it]\n"
          ]
        }
      ],
      "source": [
        "for epoch in tqdm(range(100)):\n",
        "    train_step(VAEmodel, optimizer, UserItem_MATList[0], epoch)\n"
      ]
    },
    {
      "cell_type": "code",
      "execution_count": null,
      "metadata": {},
      "outputs": [],
      "source": [
        "if epoch % args.eval_every == (args.eval_every - 1):\n",
        "            val_loss, n100, r20, r50 = eval_step(valid_data_tr, valid_data_te)"
      ]
    },
    {
      "cell_type": "code",
      "execution_count": 132,
      "metadata": {},
      "outputs": [
        {
          "output_type": "stream",
          "name": "stdout",
          "text": [
            "(3459,)\n"
          ]
        },
        {
          "output_type": "execute_result",
          "data": {
            "text/plain": [
              "<3459x20720 sparse matrix of type '<class 'numpy.float64'>'\n",
              "\twith 611 stored elements in Compressed Sparse Row format>"
            ]
          },
          "metadata": {},
          "execution_count": 132
        }
      ],
      "source": [
        "heldout_users = newHoldout_list[0]['Updated_UserID']\n",
        "print(heldout_users.shape)\n",
        "holdout_Mat1 =  SingleRatingMatrix(newHoldout_list[-1],'Updated_UserID','Updated_ItemID',rows_i,cols_i)\n",
        "Holdout_Mat1 = holdout_Mat1[heldout_users,:] \n",
        "Holdout_Mat1"
      ]
    },
    {
      "cell_type": "code",
      "execution_count": 359,
      "metadata": {},
      "outputs": [],
      "source": []
    },
    {
      "cell_type": "code",
      "execution_count": null,
      "metadata": {},
      "outputs": [],
      "source": []
    },
    {
      "cell_type": "code",
      "execution_count": 368,
      "metadata": {},
      "outputs": [],
      "source": [
        "def topN_Index(a, n):\n",
        "    parted = np.argpartition(a, -n)[-n:]\n",
        "    return parted[np.argsort(-a[parted])]  \n",
        "\n",
        "\n",
        "def NDCG_binary_at_k_batch(X_pred, heldout_batch, k=100):  #Hello2021\n",
        "    batch_users = X_pred.shape[0]\n",
        "    idx_topk_part = bn.argpartition(-X_pred, k, axis=1)\n",
        "    topk_part = X_pred[np.arange(batch_users)[:, np.newaxis], idx_topk_part[:, :k]]\n",
        "    idx_part = np.argsort(-topk_part, axis=1)\n",
        "    idx_topk = idx_topk_part[np.arange(batch_users)[:, np.newaxis], idx_part]\n",
        "\n",
        "    # build the discount template\n",
        "    tp = 1.0 / np.log2(np.arange(2, k + 2))\n",
        "    DCG = (heldout_batch[np.arange(batch_users)[:, np.newaxis], idx_topk].toarray() * tp).sum(axis=1)\n",
        "    IDCG = np.array([(tp[: min(n, k)]).sum() for n in heldout_batch.getnnz(axis=1)])\n",
        "    return DCG[IDCG > 0.0] / IDCG[IDCG > 0.0]\n",
        "\n",
        "\n",
        "def Recall_at_k_batch(X_pred, heldout_batch, k=100):\n",
        "    batch_users = X_pred.shape[0]\n",
        "\n",
        "    idx = bn.argpartition(-X_pred, k, axis=1)\n",
        "    X_pred_binary = np.zeros_like(X_pred, dtype=bool)\n",
        "    X_pred_binary[np.arange(batch_users)[:, np.newaxis], idx[:, :k]] = True\n",
        "\n",
        "    X_true_binary = (heldout_batch > 0).toarray()\n",
        "    tmp = (np.logical_and(X_true_binary, X_pred_binary).sum(axis=1)).astype(np.float32)\n",
        "    denominator = np.minimum(k, X_true_binary.sum(axis=1))\n",
        "    recall = tmp[denominator > 0.0] / denominator[denominator > 0.0]\n",
        "    return recall\n",
        "\n",
        "def HR_at_k_batch(pred_scores, ground_truth, k=10):  #\"pred_scores' and 'ground_truth' must have the same shape.\"\n",
        "    k = min(pred_scores.shape[1], k)\n",
        "    idx = bn.argpartition(-pred_scores, k-1, axis=1)\n",
        "    pred_scores_binary = np.zeros_like(pred_scores, dtype=bool)\n",
        "    pred_scores_binary[np.arange(pred_scores.shape[0])[:, np.newaxis], idx[:, :k]] = True\n",
        "    X_true_binary = (ground_truth > 0)\n",
        "    num = (np.logical_and(X_true_binary, pred_scores_binary).sum(axis=1)).astype(np.float32)\n",
        "    return num > 0\n",
        "   \n",
        "def MRR_at_k_batch(pred_scores, ground_truth, k=10):  #'pred_scores' and 'ground_truth' must have the same shape\n",
        "       #Compute the Mean Reciprocal Rank (MRR)             \n",
        "    k = min(pred_scores.shape[1], k)\n",
        "    idx = np.argsort(-pred_scores)\n",
        "    hits = ground_truth[np.arange(ground_truth.shape[0])[:, np.newaxis], idx[:, :k]]\n",
        "    rranks, cranks = hits.nonzero()\n",
        "\n",
        "    mrr = [0. for _ in range(ground_truth.shape[0])]\n",
        "    for i, r in enumerate(rranks):\n",
        "        if mrr[r] == 0:\n",
        "           mrr[r] = 1. / (1 + cranks[i])\n",
        "\n",
        "    return np.array(mrr)\n"
      ]
    },
    {
      "cell_type": "code",
      "execution_count": null,
      "metadata": {},
      "outputs": [],
      "source": []
    },
    {
      "cell_type": "code",
      "execution_count": 381,
      "metadata": {},
      "outputs": [],
      "source": [
        "def get_eval(model,data_tr):\n",
        "    model.eval()\n",
        "    running_loss = 0.0\n",
        "    eval_idxlist = list(range(data_tr.shape[0]))\n",
        "    eval_N = data_tr.shape[0]\n",
        "    eval_steps = len(range(0, eval_N, batch_size))\n",
        "    n100_list, hr10_list, mrr10_list, topn_list = [], [], [],[]\n",
        "    with torch.no_grad():\n",
        "         for batch_idx, start_idx in zip(range(eval_steps), range(0, eval_N, batch_size)):\n",
        "             end_idx = min(start_idx + batch_size, eval_N)\n",
        "             X_tr = data_tr[eval_idxlist[start_idx:end_idx]]\n",
        "             X_tr_inp = torch.FloatTensor(X_tr.toarray()).to(device)\n",
        "             #Make pred:    \n",
        "             X_out, mu, logvar = model(X_tr_inp)\n",
        "             X_out = X_out.cpu().numpy()     \n",
        "             n100 =  NDCG_binary_at_k_batch(X_out, X_tr, k=100)\n",
        "             hr10 =  HR_at_k_batch(X_out, X_tr.toarray(), k=10)   # #X_tr.toarray() == groundTruth\n",
        "             mrr10 = MRR_at_k_batch(X_out, X_tr.toarray(), k=10)\n",
        "\n",
        "             topn_list.append(topN_pred)\n",
        "             n100_list.append(n100)   \n",
        "             hr10_list.append(hr10)\n",
        "             mrr10_list.append(mrr10)\n",
        "                \n",
        "    n100_list = np.concatenate(n100_list)\n",
        "    hr10_list = np.concatenate(hr10_list)\n",
        "    mrr10_list = np.concatenate(mrr10_list)\n",
        "    topn_list=  np.concatenate(topn_list)\n",
        "    return np.mean(n100_list), np.mean(hr10_list), np.mean(mrr10_list)\n",
        "\n",
        "\n",
        "def getPred_(model,data_tr,batch_size,k=10):\n",
        "    model.eval()\n",
        "    running_loss = 0.0\n",
        "    eval_idxlist = list(range(data_tr.shape[0]))\n",
        "    eval_N = data_tr.shape[0]\n",
        "    eval_steps = len(range(0, eval_N, batch_size))\n",
        "    n100_list, hr10_list, mrr10_list = [], [], []\n",
        "    users_pred = []\n",
        "    with torch.no_grad():\n",
        "         for batch_idx, start_idx in zip(range(eval_steps), range(0, eval_N, batch_size)):\n",
        "             end_idx = min(start_idx + batch_size, eval_N)\n",
        "             X_tr = data_tr[eval_idxlist[start_idx:end_idx]]\n",
        "             X_tr_inp = torch.FloatTensor(X_tr.toarray()).to(device)\n",
        "             #Make pred:    \n",
        "             X_out, mu, logvar = model(X_tr_inp)\n",
        "             X_out = X_out.cpu().numpy()        #X_out[X_tr.nonzero()] = -np.inf\n",
        "             topN_pred = np.apply_along_axis(topN_Index, 1, X_out,n = 10) \n",
        "             #batch_users = X_out.shape[0]\n",
        "             #idx_topk_part = bn.argpartition(-X_out, k, axis=1)##Not this\n",
        "             #topk_part = X_out[np.arange(batch_users)[:, np.newaxis], idx_topk_part[:, :k]]  \n",
        "             #idx_part = np.argsort(-topk_part, axis=1)   ##Not this\n",
        "             #idx_topk = idx_topk_part[np.arange(batch_users)[:, np.newaxis], idx_part]      \n",
        "             users_pred.append(topN_pred)\n",
        "        \n",
        "         AllUserPRED = np.vstack(users_pred)\n",
        "    return AllUserPRED \n"
      ]
    },
    {
      "cell_type": "code",
      "execution_count": 386,
      "metadata": {},
      "outputs": [],
      "source": [
        "def singlestep_predEval(model_,UserItemMat,holdout_Mat,pred_BS,n_epoch):\n",
        "    for epoch in range(n_epoch):\n",
        "        train_step(model_, optimizer, UserItemMat, epoch)\n",
        "    \n",
        "    n100, hr10,mrr10 = get_eval(model_,holdout_Mat)\n",
        "    allUserPRED = getPred_(model_,UserItemMat,batch_size=pred_BS,k=10)\n",
        "    return  n100, hr10,mrr10,allUserPRED\n",
        "\n",
        "def Allsteps_predEval(model_,UserItemMatList,holdout_MatList,pred_BS,n_epoch):   \n",
        "    n100_List = []\n",
        "    hr10_List = [] \n",
        "    mrr10_List = [] \n",
        "    ALLUsers_Pred = []\n",
        "    for UserItemMat,holdout_Mat in tqdm(zip(UserItemMatList,holdout_MatList)):\n",
        "        n100, hr10,mrr10,allUserpred_ = singlestep_predEval(model_,UserItemMat,holdout_Mat,pred_BS,n_epoch)\n",
        "        n100_List.append(n100)\n",
        "        hr10_List.append(hr10)   \n",
        "        mrr10_List.append(mrr10)\n",
        "        ALLUsers_Pred.append(allUserpred_)\n",
        "        print(\"| HitRate  {:4.3f} | NDGC100 {:4.3f} | Mrr {:4.3f} | \".format(hr10, n100, mrr10))\n",
        "    return n100_List,hr10_List,mrr10_List ,ALLUsers_Pred "
      ]
    },
    {
      "cell_type": "code",
      "execution_count": 370,
      "metadata": {},
      "outputs": [
        {
          "output_type": "stream",
          "name": "stdout",
          "text": [
            "0.37974422097264454 0.06764960971379011 0.06687867399055603\n"
          ]
        }
      ],
      "source": [
        " n100, hr10,mrr10 = get_eval(VAEmodel,Holdout_Mat1)\n",
        " print(n100,hr10, mrr10)"
      ]
    },
    {
      "cell_type": "code",
      "execution_count": 371,
      "metadata": {},
      "outputs": [
        {
          "output_type": "stream",
          "name": "stdout",
          "text": [
            "(136677, 10)\n"
          ]
        },
        {
          "output_type": "execute_result",
          "data": {
            "text/plain": [
              "array([[1039,   10,  105, ...,  912,  108, 1129],\n",
              "       [ 135,  268, 1251, ..., 1062,  105,  746],\n",
              "       [ 352,  869,   89, ...,   78,  865,  473],\n",
              "       ...,\n",
              "       [  78,  149,   20, ...,  861,  268,   58],\n",
              "       [  78,  149,   20, ...,  861,  268,   58],\n",
              "       [  78,  149,   20, ...,  861,  268,   58]])"
            ]
          },
          "metadata": {},
          "execution_count": 371
        }
      ],
      "source": [
        "AllUserPRED_1 = getPred_(VAEmodel,UserItem_MATList[0],batch_size=3000,k=10)\n",
        "print(AllUserPRED_1.shape)\n",
        "AllUserPRED_1"
      ]
    },
    {
      "cell_type": "code",
      "execution_count": 373,
      "metadata": {},
      "outputs": [],
      "source": [
        "def get_holdoutRatMat(Holdout_MATList,newHoldout_list):\n",
        "    HOLDOUT_MATList = []\n",
        "    for holdoutMAT, holdout_df in zip(Holdout_MATList,newHoldout_list):\n",
        "        heldout_users = holdout_df['Updated_UserID']\n",
        "        Holdout_Mat = holdoutMAT[heldout_users,:] \n",
        "        HOLDOUT_MATList.append(Holdout_Mat)\n",
        "    return  HOLDOUT_MATList"
      ]
    },
    {
      "cell_type": "code",
      "execution_count": null,
      "metadata": {},
      "outputs": [],
      "source": []
    },
    {
      "cell_type": "code",
      "execution_count": 374,
      "metadata": {},
      "outputs": [
        {
          "output_type": "stream",
          "name": "stdout",
          "text": [
            "15\n"
          ]
        },
        {
          "output_type": "execute_result",
          "data": {
            "text/plain": [
              "[<3459x20720 sparse matrix of type '<class 'numpy.float64'>'\n",
              " \twith 3459 stored elements in Compressed Sparse Row format>,\n",
              " <3311x20720 sparse matrix of type '<class 'numpy.float64'>'\n",
              " \twith 3311 stored elements in Compressed Sparse Row format>,\n",
              " <3124x20720 sparse matrix of type '<class 'numpy.float64'>'\n",
              " \twith 3124 stored elements in Compressed Sparse Row format>,\n",
              " <3115x20720 sparse matrix of type '<class 'numpy.float64'>'\n",
              " \twith 3115 stored elements in Compressed Sparse Row format>,\n",
              " <3165x20720 sparse matrix of type '<class 'numpy.float64'>'\n",
              " \twith 3165 stored elements in Compressed Sparse Row format>,\n",
              " <3098x20720 sparse matrix of type '<class 'numpy.float64'>'\n",
              " \twith 3098 stored elements in Compressed Sparse Row format>,\n",
              " <3169x20720 sparse matrix of type '<class 'numpy.float64'>'\n",
              " \twith 3169 stored elements in Compressed Sparse Row format>,\n",
              " <3129x20720 sparse matrix of type '<class 'numpy.float64'>'\n",
              " \twith 3129 stored elements in Compressed Sparse Row format>,\n",
              " <3192x20720 sparse matrix of type '<class 'numpy.float64'>'\n",
              " \twith 3192 stored elements in Compressed Sparse Row format>,\n",
              " <3409x20720 sparse matrix of type '<class 'numpy.float64'>'\n",
              " \twith 3409 stored elements in Compressed Sparse Row format>,\n",
              " <3267x20720 sparse matrix of type '<class 'numpy.float64'>'\n",
              " \twith 3267 stored elements in Compressed Sparse Row format>,\n",
              " <3077x20720 sparse matrix of type '<class 'numpy.float64'>'\n",
              " \twith 3077 stored elements in Compressed Sparse Row format>,\n",
              " <2772x20720 sparse matrix of type '<class 'numpy.float64'>'\n",
              " \twith 2772 stored elements in Compressed Sparse Row format>,\n",
              " <2644x20720 sparse matrix of type '<class 'numpy.float64'>'\n",
              " \twith 2644 stored elements in Compressed Sparse Row format>,\n",
              " <2730x20720 sparse matrix of type '<class 'numpy.float64'>'\n",
              " \twith 2730 stored elements in Compressed Sparse Row format>]"
            ]
          },
          "metadata": {},
          "execution_count": 374
        }
      ],
      "source": [
        "rows_i = newMLDF_20M['Updated_UserID'].nunique()\n",
        "cols_i = newMLDF_20M['Updated_ItemID'].nunique()\n",
        "holdout_MATList_1 = AllRatingMatrices(newHoldout_list,'Updated_UserID','Updated_ItemID',rows_i ,cols_i) \n",
        "\n",
        "HOLDOUT_MATList = get_holdoutRatMat(holdout_MATList_1,newHoldout_list)\n",
        "print(len(HOLDOUT_MATList))   \n",
        "HOLDOUT_MATList"
      ]
    },
    {
      "cell_type": "code",
      "execution_count": 387,
      "metadata": {},
      "outputs": [
        {
          "output_type": "execute_result",
          "data": {
            "text/plain": [
              "MultiVAE(\n",
              "  (encode): Encoder(\n",
              "    (q_layers): Sequential(\n",
              "      (dropout_0): Dropout(p=0.5, inplace=False)\n",
              "      (linear_0): Linear(in_features=20720, out_features=600, bias=True)\n",
              "      (dropout_1): Dropout(p=0.0, inplace=False)\n",
              "      (linear_1): Linear(in_features=600, out_features=400, bias=True)\n",
              "    )\n",
              "  )\n",
              "  (decode): Decoder(\n",
              "    (p_layers): Sequential(\n",
              "      (dropout_0): Dropout(p=0.0, inplace=False)\n",
              "      (linear_0): Linear(in_features=200, out_features=600, bias=True)\n",
              "      (dropout_1): Dropout(p=0.0, inplace=False)\n",
              "      (linear_1): Linear(in_features=600, out_features=20720, bias=True)\n",
              "    )\n",
              "  )\n",
              ")"
            ]
          },
          "metadata": {},
          "execution_count": 387
        }
      ],
      "source": [
        "I =  newMLDF_20M['Updated_ItemID'].nunique()  #I is the total number of items in the train date\n",
        "#I = len(train_Items) \n",
        "q_dims = [I] + [600, 200]\n",
        "p_dims = [200, 600] + [I]\n",
        "dropout_enc = [0.5, 0.]\n",
        "dropout_dec = [0., 0.]\n",
        "\n",
        "VAEmodel = MultiVAE(p_dims,q_dims,dropout_enc,dropout_dec)\n",
        "\n",
        "\n",
        "init_weights(VAEmodel)\n",
        "VAEmodel.to(device)\n",
        "optimizer = torch.optim.AdamW(VAEmodel.parameters(), lr=1e-3, weight_decay=0.0)  \n",
        "VAEmodel              "
      ]
    },
    {
      "cell_type": "code",
      "execution_count": 388,
      "metadata": {},
      "outputs": [
        {
          "output_type": "stream",
          "name": "stderr",
          "text": [
            "1it [41:10, 2470.87s/it]| HitRate  0.912 | NDGC100 0.898 | Mrr 0.888 | \n",
            "2it [1:22:17, 2468.17s/it]| HitRate  0.908 | NDGC100 0.894 | Mrr 0.882 | \n",
            "3it [2:03:27, 2469.24s/it]| HitRate  0.917 | NDGC100 0.906 | Mrr 0.896 | \n",
            "4it [2:44:42, 2471.45s/it]| HitRate  0.916 | NDGC100 0.904 | Mrr 0.895 | \n",
            "5it [3:25:55, 2472.05s/it]| HitRate  0.898 | NDGC100 0.888 | Mrr 0.878 | \n",
            "6it [4:07:11, 2473.25s/it]| HitRate  0.907 | NDGC100 0.896 | Mrr 0.887 | \n",
            "7it [4:48:25, 2473.67s/it]| HitRate  0.900 | NDGC100 0.891 | Mrr 0.884 | \n",
            "8it [5:29:44, 2475.26s/it]| HitRate  0.877 | NDGC100 0.861 | Mrr 0.851 | \n",
            "9it [6:11:05, 2477.06s/it]| HitRate  0.893 | NDGC100 0.881 | Mrr 0.872 | \n",
            "10it [6:52:24, 2477.73s/it]| HitRate  0.908 | NDGC100 0.896 | Mrr 0.887 | \n",
            "11it [7:46:56, 2720.69s/it]| HitRate  0.906 | NDGC100 0.900 | Mrr 0.891 | \n",
            "12it [8:42:01, 2898.60s/it]| HitRate  0.883 | NDGC100 0.873 | Mrr 0.862 | \n",
            "13it [10:31:31, 4010.79s/it]| HitRate  0.887 | NDGC100 0.883 | Mrr 0.874 | \n",
            "14it [11:12:14, 3537.17s/it]| HitRate  0.873 | NDGC100 0.866 | Mrr 0.856 | \n",
            "15it [11:52:52, 2851.50s/it]| HitRate  0.907 | NDGC100 0.892 | Mrr 0.882 | \n",
            "[0.9118242266551027, 0.9075807913017215, 0.9170934699103713, 0.9162118780096308, 0.89826224328594, 0.907036797934151, 0.899652887346166, 0.8772770853307766, 0.893170426065163, 0.9081842182458199, 0.90633608815427, 0.8830029249268768, 0.887085137085137, 0.8732980332829047, 0.906959706959707]\n",
            "[0.8883169968382457, 0.8822516815041731, 0.8962121212121212, 0.8948692960330199, 0.8782876952782166, 0.8866428161537909, 0.8835487134792909, 0.8507359468768864, 0.8719388998289375, 0.887305195863424, 0.8914368553257441, 0.8621993180329223, 0.8739458072791405, 0.8555228369713997, 0.882041107041107]\n",
            "\n"
          ]
        }
      ],
      "source": [
        "n100_List,hr10_List,mrr10_List ,ALLUsers_Pred  = Allsteps_predEval(VAEmodel,UserItem_MATList,HOLDOUT_MATList,pred_BS=3000,n_epoch=200)\n",
        "print(hr10_List)\n",
        "print(mrr10_List) "
      ]
    },
    {
      "cell_type": "code",
      "execution_count": 408,
      "metadata": {},
      "outputs": [],
      "source": [
        "with open('/mnt/bulky/oolaleke/TDM_Dataset/ML_20VAE_allPRED_NEW.pkl', 'wb') as f:\n",
        "     pickle.dump(ALLUsers_Pred, f)"
      ]
    },
    {
      "cell_type": "code",
      "execution_count": 391,
      "metadata": {},
      "outputs": [
        {
          "output_type": "execute_result",
          "data": {
            "text/plain": [
              "[array([[1039,  978, 1041, ..., 1003, 1053,   20],\n",
              "        [  20,  663,  268, ...,  969, 1062,   78],\n",
              "        [ 865,   89,    7, ...,   78,   87,   20],\n",
              "        ...,\n",
              "        [  78,   76,   92, ..., 2378,  268,  861],\n",
              "        [  78,   76,   92, ..., 2378,  268,  861],\n",
              "        [  78,   76,   92, ..., 2378,  268,  861]]),\n",
              " array([[1039, 1139,  979, ...,  108,  135, 1053],\n",
              "        [ 135,   20,  268, ...,  746,   14,   95],\n",
              "        [ 865,   89,  206, ...,  352,   20,   92],\n",
              "        ...,\n",
              "        [  78,   76,  149, ...,   20,  861,   15],\n",
              "        [  78,   76,  149, ...,   20,  861,   15],\n",
              "        [  78,   76,  149, ...,   20,  861,   15]])]"
            ]
          },
          "metadata": {},
          "execution_count": 391
        }
      ],
      "source": [
        "#Hello2021  \n",
        "ALLUsers_Pred[:2]"
      ]
    },
    {
      "cell_type": "code",
      "execution_count": 392,
      "metadata": {},
      "outputs": [
        {
          "output_type": "execute_result",
          "data": {
            "text/plain": [
              "[0.9118242266551027,\n",
              " 0.9075807913017215,\n",
              " 0.9170934699103713,\n",
              " 0.9162118780096308,\n",
              " 0.89826224328594,\n",
              " 0.907036797934151,\n",
              " 0.899652887346166,\n",
              " 0.8772770853307766,\n",
              " 0.893170426065163,\n",
              " 0.9081842182458199,\n",
              " 0.90633608815427,\n",
              " 0.8830029249268768,\n",
              " 0.887085137085137,\n",
              " 0.8732980332829047,\n",
              " 0.906959706959707]"
            ]
          },
          "metadata": {},
          "execution_count": 392
        }
      ],
      "source": [
        "hr10_List"
      ]
    },
    {
      "cell_type": "code",
      "execution_count": 393,
      "metadata": {},
      "outputs": [
        {
          "output_type": "execute_result",
          "data": {
            "text/plain": [
              "[0.8883169968382457,\n",
              " 0.8822516815041731,\n",
              " 0.8962121212121212,\n",
              " 0.8948692960330199,\n",
              " 0.8782876952782166,\n",
              " 0.8866428161537909,\n",
              " 0.8835487134792909,\n",
              " 0.8507359468768864,\n",
              " 0.8719388998289375,\n",
              " 0.887305195863424,\n",
              " 0.8914368553257441,\n",
              " 0.8621993180329223,\n",
              " 0.8739458072791405,\n",
              " 0.8555228369713997,\n",
              " 0.882041107041107]"
            ]
          },
          "metadata": {},
          "execution_count": 393
        }
      ],
      "source": [
        "mrr10_List"
      ]
    },
    {
      "cell_type": "code",
      "execution_count": 407,
      "metadata": {},
      "outputs": [
        {
          "output_type": "execute_result",
          "data": {
            "text/plain": [
              "[0.601158,\n",
              " 0.614575,\n",
              " 0.622876,\n",
              " 0.637597,\n",
              " 0.646139,\n",
              " 0.653764,\n",
              " 0.658446,\n",
              " 0.671139,\n",
              " 0.677317,\n",
              " 0.680068,\n",
              " 0.69194,\n",
              " 0.691844,\n",
              " 0.674759,\n",
              " 0.691409,\n",
              " 0.691071]"
            ]
          },
          "metadata": {},
          "execution_count": 407
        }
      ],
      "source": [
        "VAE_CovList = AllSteps_Coverage_Ratio(newMLDF_20M,ALLUsers_Pred,'Updated_ItemID')\n",
        "VAE_CovList"
      ]
    },
    {
      "cell_type": "code",
      "execution_count": 401,
      "metadata": {},
      "outputs": [
        {
          "output_type": "stream",
          "name": "stdout",
          "text": [
            "14\n"
          ]
        },
        {
          "output_type": "execute_result",
          "data": {
            "text/plain": [
              "[1, 2, 3, 4, 5, 6, 7, 8, 9, 10, 11, 12, 13, 14]"
            ]
          },
          "metadata": {},
          "execution_count": 401
        }
      ],
      "source": [
        "AllSteps = list(range(1,15))\n",
        "print(len(AllSteps))   #Hello2021\n",
        "AllSteps  "
      ]
    },
    {
      "cell_type": "code",
      "execution_count": 402,
      "metadata": {},
      "outputs": [
        {
          "output_type": "execute_result",
          "data": {
            "text/plain": [
              "array([array([0.59779197, 0.48840492, 0.52216952, ..., 0.33689549, 0.30510123,\n",
              "              0.5327588 ])                                                    ,\n",
              "       array([0.43376068, 0.39659413, 0.25869714, ..., 0.49458338, 0.70010365,\n",
              "              0.22506224])                                                    ,\n",
              "       array([0.26063194, 0.51017903, 0.35282258, ..., 0.26974024, 0.21869066,\n",
              "              0.39290432])                                                    ,\n",
              "       array([0.44498825, 0.47738191, 0.22121112, ..., 0.        , 0.02928462,\n",
              "              0.0476934 ])                                                    ,\n",
              "       array([0.48570853, 0.50909834, 0.18617919, ..., 0.08488278, 0.17785047,\n",
              "              0.34973027])                                                    ,\n",
              "       array([0.28164612, 0.4539545 , 0.39950702, ..., 0.35530665, 0.15337136,\n",
              "              0.        ])                                                    ,\n",
              "       array([0.35804968, 0.57092689, 0.31077961, ..., 0.4973121 , 0.50050823,\n",
              "              0.44498825])                                                    ,\n",
              "       array([0.70422535, 0.74574267, 0.50050823, ..., 0.42504103, 0.0373858 ,\n",
              "              0.27898111])                                                    ,\n",
              "       array([0.3067186 , 0.49141241, 0.28398713, ..., 0.        , 0.56162065,\n",
              "              0.48421476])                                                    ,\n",
              "       array([0.38208033, 0.40216565, 0.37975512, ..., 0.27621682, 0.79411765,\n",
              "              0.19967493])                                                    ,\n",
              "       array([0.64754464, 0.50740325, 0.23407457, ..., 0.31721246, 0.02499653,\n",
              "              0.18152713])                                                    ,\n",
              "       array([0.41303724, 0.54559732, 0.27039587, ..., 0.51934953, 0.78716707,\n",
              "              0.01736733])                                                    ,\n",
              "       array([0.41642679, 0.57444539, 0.26734203, ..., 0.65939748, 0.04977955,\n",
              "              0.2863367 ])                                                    ,\n",
              "       array([0.26289674, 0.76031481, 0.14611801, ..., 0.38701494, 0.28678522,\n",
              "              0.65548951])                                                    ],\n",
              "      dtype=object)"
            ]
          },
          "metadata": {},
          "execution_count": 402
        }
      ],
      "source": [
        "VAECorr_ = Updt_getAll_AvgCorr(ALLUsers_Pred,newUserItem_list,AllSteps,'Updated_UserID')  #,\n",
        "VAECorr_"
      ]
    },
    {
      "cell_type": "code",
      "execution_count": 403,
      "metadata": {},
      "outputs": [
        {
          "output_type": "stream",
          "name": "stdout",
          "text": [
            "(14,)\n0.4379622873056649\n0.44578233753296326\n0.4470349665368006\n0.4502740666650557\n0.446952496896618\n0.45243219313352456\n0.44677650769609084\n0.4622952622012326\n0.4548614262659261\n0.4458771262177781\n0.45360080691317306\n0.43744373841495576\n0.4319638455632983\n0.4403407751007617\n"
          ]
        }
      ],
      "source": [
        "print(VAECorr_.shape)\n",
        "for df in VAECorr_:\n",
        "    print(df.mean())    "
      ]
    },
    {
      "cell_type": "code",
      "execution_count": null,
      "metadata": {},
      "outputs": [],
      "source": []
    },
    {
      "cell_type": "code",
      "execution_count": 398,
      "metadata": {},
      "outputs": [
        {
          "output_type": "stream",
          "name": "stdout",
          "text": [
            "(3459, 10)\n"
          ]
        },
        {
          "output_type": "execute_result",
          "data": {
            "text/plain": [
              "array([[11105,  7897,  9633, ...,  3648,  9384,  5780],\n",
              "       [10297,  8508,  8532, ...,   828,  7899,  9067],\n",
              "       [  135,  1052,  4059, ...,  5713,  4750,   149],\n",
              "       ...,\n",
              "       [ 3549,   807,   734, ...,  2203,  1502,   124],\n",
              "       [15156, 11068,  8374, ...,  8445,    92,    78],\n",
              "       [ 8445,  6856,  6918, ...,  7596,  5991,  2501]])"
            ]
          },
          "metadata": {},
          "execution_count": 398
        }
      ],
      "source": [
        "heldout_users = newHoldout_list[0]['Updated_UserID']\n",
        "userpred_1 = ALLUsers_Pred[0][heldout_users,:]\n",
        "print(userpred_1.shape)  \n",
        "userpred_1"
      ]
    },
    {
      "cell_type": "code",
      "execution_count": 400,
      "metadata": {},
      "outputs": [
        {
          "output_type": "stream",
          "name": "stdout",
          "text": [
            "Number of hits:  77\nTotal Num of users:  3459\nRecommendation HitRate:  0.022260769008383925\n\nNumber of hits:  57\nTotal Num of users:  3311\nRecommendation HitRate:  0.017215342796738146\n\nNumber of hits:  58\nTotal Num of users:  3124\nRecommendation HitRate:  0.01856594110115237\n\nNumber of hits:  67\nTotal Num of users:  3115\nRecommendation HitRate:  0.021508828250401284\n\nNumber of hits:  51\nTotal Num of users:  3165\nRecommendation HitRate:  0.016113744075829384\n\nNumber of hits:  49\nTotal Num of users:  3098\nRecommendation HitRate:  0.0158166559070368\n\nNumber of hits:  40\nTotal Num of users:  3169\nRecommendation HitRate:  0.012622278321236984\n\nNumber of hits:  65\nTotal Num of users:  3129\nRecommendation HitRate:  0.020773410035155003\n\nNumber of hits:  81\nTotal Num of users:  3192\nRecommendation HitRate:  0.02537593984962406\n\nNumber of hits:  79\nTotal Num of users:  3409\nRecommendation HitRate:  0.023173951305368142\n\nNumber of hits:  75\nTotal Num of users:  3267\nRecommendation HitRate:  0.02295684113865932\n\nNumber of hits:  61\nTotal Num of users:  3077\nRecommendation HitRate:  0.019824504387390314\n\nNumber of hits:  74\nTotal Num of users:  2772\nRecommendation HitRate:  0.026695526695526696\n\nNumber of hits:  46\nTotal Num of users:  2644\nRecommendation HitRate:  0.01739788199697428\n\nNumber of hits:  49\nTotal Num of users:  2730\nRecommendation HitRate:  0.017948717948717947\n\n"
          ]
        }
      ],
      "source": [
        "for holdout_df,allpred in zip(newHoldout_list,ALLUsers_Pred):\n",
        "    heldout_users = holdout_df['Updated_UserID']\n",
        "    userpred_1 = allpred[heldout_users,:]\n",
        "    Hitrate_Eval(holdout_df,userpred_1,'Updated_UserID','Updated_ItemID') \n",
        "    print() "
      ]
    },
    {
      "cell_type": "code",
      "execution_count": 399,
      "metadata": {},
      "outputs": [
        {
          "output_type": "stream",
          "name": "stdout",
          "text": [
            "Number of hits:  77\nTotal Num of users:  3459\nRecommendation HitRate:  0.022260769008383925\n"
          ]
        },
        {
          "output_type": "execute_result",
          "data": {
            "text/plain": [
              "0.022260769008383925"
            ]
          },
          "metadata": {},
          "execution_count": 399
        }
      ],
      "source": [
        "Hitrate_Eval(newHoldout_list[0],userpred_1,'Updated_UserID','Updated_ItemID')"
      ]
    },
    {
      "cell_type": "code",
      "execution_count": 347,
      "metadata": {},
      "outputs": [
        {
          "output_type": "stream",
          "name": "stdout",
          "text": [
            "(136677, 10)\n"
          ]
        },
        {
          "output_type": "execute_result",
          "data": {
            "text/plain": [
              "array([[1039,   10,  105, ...,  912,  108, 1129],\n",
              "       [ 135,  268, 1251, ..., 1062,  105,  746],\n",
              "       [ 352,  869,   89, ...,   78,  865,  473],\n",
              "       ...,\n",
              "       [  78,  149,   20, ...,  861,  268,   58],\n",
              "       [  78,  149,   20, ...,  861,  268,   58],\n",
              "       [  78,  149,   20, ...,  861,  268,   58]])"
            ]
          },
          "metadata": {},
          "execution_count": 347
        }
      ],
      "source": [
        "batch_users = X_pred.shape[0]\n",
        "idx_topk_part = bn.argpartition(-X_pred, k, axis=1)\n",
        "topk_part = X_pred[np.arange(batch_users)[:, np.newaxis],idx_topk_part[:, :k]]\n",
        "idx_part = np.argsort(-topk_part, axis=1)\n",
        "# X_pred[np.arange(batch_users)[:, np.newaxis], idx_topk] is the sorted  topk predicted score\n",
        "idx_topk = idx_topk_part[np.arange(batch_users)[:, np.newaxis], idx_part]\n",
        "print(idx_topk.shape) \n",
        "idx_topk  "
      ]
    },
    {
      "cell_type": "code",
      "execution_count": 348,
      "metadata": {},
      "outputs": [
        {
          "output_type": "stream",
          "name": "stdout",
          "text": [
            "(3459, 10)\n"
          ]
        },
        {
          "output_type": "execute_result",
          "data": {
            "text/plain": [
              "array([[11105,  8252,  7113, ...,  7060,  8005, 12999],\n",
              "       [10152,  5892,  1521, ...,  6663,  3410,  7932],\n",
              "       [  135,  1052,  2477, ...,  4724,  2841,  4648],\n",
              "       ...,\n",
              "       [  734,  2203,  3549, ...,  1918,  2578,   807],\n",
              "       [11068, 14445,  2340, ..., 11887,  8445,    92],\n",
              "       [ 8445,  6856,  4838, ...,  5551,  5991,  9170]])"
            ]
          },
          "metadata": {},
          "execution_count": 348
        }
      ],
      "source": [
        "test_pred_2 = idx_topk[heldout_users,:]\n",
        "print(test_pred_2.shape)\n",
        "test_pred_2"
      ]
    },
    {
      "cell_type": "code",
      "execution_count": 339,
      "metadata": {},
      "outputs": [
        {
          "output_type": "stream",
          "name": "stdout",
          "text": [
            "(3459, 10)\n"
          ]
        },
        {
          "output_type": "execute_result",
          "data": {
            "text/plain": [
              "array([[11105,  8252,  7113, ...,  7060,  8005, 12999],\n",
              "       [10152,  5892,  1521, ...,  6663,  3410,  7932],\n",
              "       [  135,  1052,  2477, ...,  4724,  2841,  4648],\n",
              "       ...,\n",
              "       [  734,  2203,  3549, ...,  1918,  2578,   807],\n",
              "       [11068, 14445,  2340, ..., 11887,  8445,    92],\n",
              "       [ 8445,  6856,  4838, ...,  5551,  5991,  9170]])"
            ]
          },
          "metadata": {},
          "execution_count": 339
        }
      ],
      "source": [
        "test_pred = AllUserPRED_1[heldout_users,:]\n",
        "print(test_pred.shape)\n",
        "test_pred"
      ]
    },
    {
      "cell_type": "code",
      "execution_count": 315,
      "metadata": {},
      "outputs": [
        {
          "output_type": "stream",
          "name": "stdout",
          "text": [
            "(3459, 10)\n"
          ]
        },
        {
          "output_type": "execute_result",
          "data": {
            "text/plain": [
              "array([[ 78,  20, 149, ..., 861, 268,  58],\n",
              "       [ 78, 149, 105, ..., 861, 268,  58],\n",
              "       [ 78, 149,  20, ..., 861, 268,  58],\n",
              "       ...,\n",
              "       [ 78, 149,  20, ..., 861, 268,  58],\n",
              "       [ 78, 149,  20, ..., 861, 268,  58],\n",
              "       [ 78, 149,  20, ..., 861, 268,  58]])"
            ]
          },
          "metadata": {},
          "execution_count": 315
        }
      ],
      "source": [
        "AllUserPRED_1 =  getPred_(VAEmodel,Holdout_Mat1,k=10)   ##Hello2021\n",
        "print(AllUserPRED_1.shape)\n",
        "AllUserPRED_1"
      ]
    },
    {
      "cell_type": "code",
      "execution_count": 311,
      "metadata": {},
      "outputs": [
        {
          "output_type": "execute_result",
          "data": {
            "text/plain": [
              "array([[ 78,  20, 149, ..., 861, 268,  58],\n",
              "       [ 78, 149, 105, ..., 861, 268,  58],\n",
              "       [ 78, 149,  20, ..., 861, 268,  58],\n",
              "       ...,\n",
              "       [ 78, 149,  20, ..., 861, 268,  58],\n",
              "       [ 78, 149,  20, ..., 861, 268,  58],\n",
              "       [ 78, 149,  20, ..., 861, 268,  58]])"
            ]
          },
          "metadata": {},
          "execution_count": 311
        }
      ],
      "source": [
        " topN_pred = np.apply_along_axis(topN_Index, 1, AllUserPRED_1,n = 10)\n",
        " topN_pred"
      ]
    },
    {
      "cell_type": "code",
      "execution_count": 349,
      "metadata": {},
      "outputs": [
        {
          "output_type": "stream",
          "name": "stdout",
          "text": [
            "Number of hits:  84\nTotal Num of users:  3459\nRecommendation HitRate:  0.024284475281873375\n"
          ]
        },
        {
          "output_type": "execute_result",
          "data": {
            "text/plain": [
              "0.024284475281873375"
            ]
          },
          "metadata": {},
          "execution_count": 349
        }
      ],
      "source": [
        "Hitrate_Eval(newHoldout_list[0],test_pred_2,'Updated_UserID','Updated_ItemID')"
      ]
    },
    {
      "cell_type": "code",
      "execution_count": null,
      "metadata": {},
      "outputs": [],
      "source": [
        "def HR_at_k_batch(pred_scores, ground_truth, k=10):  #\"pred_scores' and 'ground_truth' must have the same shape.\"\n",
        "    k = min(pred_scores.shape[1], k)\n",
        "    idx = bn.argpartition(-pred_scores, k-1, axis=1)\n",
        "    pred_scores_binary = np.zeros_like(pred_scores, dtype=bool)\n",
        "    pred_scores_binary[np.arange(pred_scores.shape[0])[:, np.newaxis], idx[:, :k]] = True\n",
        "    X_true_binary = (ground_truth > 0)\n",
        "    num = (np.logical_and(X_true_binary, pred_scores_binary).sum(axis=1)).astype(np.float32)\n",
        "    return num > 0\n",
        " "
      ]
    },
    {
      "cell_type": "code",
      "execution_count": 305,
      "metadata": {},
      "outputs": [
        {
          "output_type": "stream",
          "name": "stdout",
          "text": [
            "(3459, 20720)\n"
          ]
        },
        {
          "output_type": "execute_result",
          "data": {
            "text/plain": [
              "array([[   20,    78,   149, ..., 20717, 20718, 20719],\n",
              "       [  135,   149,    20, ..., 20717, 20718, 20719],\n",
              "       [  861,    76,    78, ..., 20717, 20718, 20719],\n",
              "       ...,\n",
              "       [  861,    76,    78, ..., 20717, 20718, 20719],\n",
              "       [  861,    76,    78, ..., 20717, 20718, 20719],\n",
              "       [  861,    76,    78, ..., 20717, 20718, 20719]])"
            ]
          },
          "metadata": {},
          "execution_count": 305
        }
      ],
      "source": [
        "k =10\n",
        "idx = bn.argpartition(-AllUserPRED_1[0], k-1, axis=1)\n",
        "print(idx.shape)\n",
        "idx"
      ]
    },
    {
      "cell_type": "code",
      "execution_count": 250,
      "metadata": {},
      "outputs": [
        {
          "output_type": "stream",
          "name": "stdout",
          "text": [
            "(3459, 20720)\n"
          ]
        },
        {
          "output_type": "execute_result",
          "data": {
            "text/plain": [
              "array([[False, False, False, ..., False, False, False],\n",
              "       [False, False, False, ..., False, False, False],\n",
              "       [False, False, False, ..., False, False, False],\n",
              "       ...,\n",
              "       [False, False, False, ..., False, False, False],\n",
              "       [False, False, False, ..., False, False, False],\n",
              "       [False, False, False, ..., False, False, False]])"
            ]
          },
          "metadata": {},
          "execution_count": 250
        }
      ],
      "source": [
        " pred_scores_binary = np.zeros_like(AllUserPRED_1, dtype=bool)\n",
        " print(pred_scores_binary.shape)\n",
        " pred_scores_binary"
      ]
    },
    {
      "cell_type": "code",
      "execution_count": 251,
      "metadata": {},
      "outputs": [
        {
          "output_type": "execute_result",
          "data": {
            "text/plain": [
              "array([[False, False, False, ..., False, False, False],\n",
              "       [False, False, False, ..., False, False, False],\n",
              "       [False, False, False, ..., False, False, False],\n",
              "       ...,\n",
              "       [False, False, False, ..., False, False, False],\n",
              "       [False, False, False, ..., False, False, False],\n",
              "       [False, False, False, ..., False, False, False]])"
            ]
          },
          "metadata": {},
          "execution_count": 251
        }
      ],
      "source": [
        "pred_scores_binary[np.arange(AllUserPRED_1.shape[0])[:, np.newaxis], idx[:, :k]] = True\n",
        "pred_scores_binary"
      ]
    },
    {
      "cell_type": "code",
      "execution_count": 252,
      "metadata": {},
      "outputs": [
        {
          "output_type": "execute_result",
          "data": {
            "text/plain": [
              "(3459, 20720)"
            ]
          },
          "metadata": {},
          "execution_count": 252
        }
      ],
      "source": [
        "pred_scores_binary.shape"
      ]
    },
    {
      "cell_type": "code",
      "execution_count": 231,
      "metadata": {},
      "outputs": [
        {
          "output_type": "stream",
          "name": "stdout",
          "text": [
            "(3459, 20720)\n"
          ]
        },
        {
          "output_type": "execute_result",
          "data": {
            "text/plain": [
              "array([[   78,   135,   149, ..., 20717, 20718, 20719],\n",
              "       [   78,   149,   105, ..., 20717, 20718, 20719],\n",
              "       [   78,   135,    92, ..., 20717, 20718, 20719],\n",
              "       ...,\n",
              "       [   78,   135,    92, ..., 20717, 20718, 20719],\n",
              "       [   78,   135,    92, ..., 20717, 20718, 20719],\n",
              "       [   78,   135,    92, ..., 20717, 20718, 20719]])"
            ]
          },
          "metadata": {},
          "execution_count": 231
        }
      ],
      "source": [
        "idx_topk_part = bn.argpartition(-AllUserPRED_1, 10, axis=1)\n",
        "print(idx_topk_part.shape)\n",
        "idx_topk_part"
      ]
    },
    {
      "cell_type": "code",
      "execution_count": 232,
      "metadata": {},
      "outputs": [
        {
          "output_type": "stream",
          "name": "stdout",
          "text": [
            "(3459, 10)\n"
          ]
        },
        {
          "output_type": "execute_result",
          "data": {
            "text/plain": [
              "array([[9.684198 , 9.235962 , 9.341442 , ..., 9.215929 , 9.061156 ,\n",
              "        9.23575  ],\n",
              "       [9.702471 , 9.361824 , 9.354693 , ..., 9.254975 , 9.093869 ,\n",
              "        9.243983 ],\n",
              "       [9.7205715, 9.309681 , 9.252223 , ..., 9.217798 , 9.379328 ,\n",
              "        9.096189 ],\n",
              "       ...,\n",
              "       [9.7205715, 9.309681 , 9.252223 , ..., 9.217798 , 9.379328 ,\n",
              "        9.096189 ],\n",
              "       [9.7205715, 9.309681 , 9.252223 , ..., 9.217798 , 9.379328 ,\n",
              "        9.096189 ],\n",
              "       [9.7205715, 9.309681 , 9.252223 , ..., 9.217798 , 9.379328 ,\n",
              "        9.096189 ]], dtype=float32)"
            ]
          },
          "metadata": {},
          "execution_count": 232
        }
      ],
      "source": [
        "topk_part = AllUserPRED_1[np.arange(3459)[:, np.newaxis], idx_topk_part[:, :10]]\n",
        "print(topk_part.shape)\n",
        "topk_part"
      ]
    },
    {
      "cell_type": "code",
      "execution_count": 234,
      "metadata": {},
      "outputs": [
        {
          "output_type": "stream",
          "name": "stdout",
          "text": [
            "(3459, 10)\n"
          ]
        },
        {
          "output_type": "execute_result",
          "data": {
            "text/plain": [
              "array([[0, 4, 2, ..., 7, 6, 8],\n",
              "       [0, 1, 2, ..., 5, 6, 8],\n",
              "       [0, 8, 5, ..., 7, 3, 9],\n",
              "       ...,\n",
              "       [0, 8, 5, ..., 7, 3, 9],\n",
              "       [0, 8, 5, ..., 7, 3, 9],\n",
              "       [0, 8, 5, ..., 7, 3, 9]])"
            ]
          },
          "metadata": {},
          "execution_count": 234
        }
      ],
      "source": [
        "idx_part = np.argsort(-topk_part, axis=1)\n",
        "print(idx_part.shape)\n",
        "idx_part"
      ]
    },
    {
      "cell_type": "code",
      "execution_count": 245,
      "metadata": {},
      "outputs": [
        {
          "output_type": "stream",
          "name": "stdout",
          "text": [
            "(3459, 10)\n"
          ]
        },
        {
          "output_type": "execute_result",
          "data": {
            "text/plain": [
              "array([[ 78,  20, 149, ..., 861, 268,  58],\n",
              "       [ 78, 149, 105, ..., 861, 268,  58],\n",
              "       [ 78, 149,  20, ..., 861, 268,  58],\n",
              "       ...,\n",
              "       [ 78, 149,  20, ..., 861, 268,  58],\n",
              "       [ 78, 149,  20, ..., 861, 268,  58],\n",
              "       [ 78, 149,  20, ..., 861, 268,  58]])"
            ]
          },
          "metadata": {},
          "execution_count": 245
        }
      ],
      "source": [
        "idx_topk = idx_topk_part[np.arange(3459)[:, np.newaxis], idx_part] \n",
        "print(idx_topk.shape)\n",
        "idx_topk"
      ]
    },
    {
      "cell_type": "code",
      "execution_count": null,
      "metadata": {},
      "outputs": [],
      "source": [
        "#batch_users = X_out.shape[0]\n",
        "#idx_topk_part = bn.argpartition(-X_out, k, axis=1)##Not this\n",
        "#topk_part = X_out[np.arange(batch_users)[:, np.newaxis], idx_topk_part[:, :k]]  \n",
        "             #idx_part = np.argsort(-topk_part, axis=1)   ##Not this\n",
        "             #idx_topk = idx_topk_part[np.arange(batch_users)[:, np.newaxis], idx_part]  "
      ]
    },
    {
      "cell_type": "code",
      "execution_count": 201,
      "metadata": {},
      "outputs": [
        {
          "output_type": "stream",
          "name": "stdout",
          "text": [
            "(3459, 10)\n"
          ]
        },
        {
          "output_type": "execute_result",
          "data": {
            "text/plain": [
              "array([[ 78,  20, 149, ..., 861, 268,  58],\n",
              "       [ 78, 149, 105, ..., 861, 268,  58],\n",
              "       [ 78, 149,  20, ..., 861, 268,  58],\n",
              "       ...,\n",
              "       [ 78, 149,  20, ..., 861, 268,  58],\n",
              "       [ 78, 149,  20, ..., 861, 268,  58],\n",
              "       [ 78, 149,  20, ..., 861, 268,  58]])"
            ]
          },
          "metadata": {},
          "execution_count": 201
        }
      ],
      "source": [
        "print(AllUserPRED_1.shape)\n",
        "AllUserPRED_1"
      ]
    },
    {
      "cell_type": "code",
      "execution_count": null,
      "metadata": {},
      "outputs": [],
      "source": [
        "\n",
        "def Hitrate_Eval(Holdout,TopN_pred,user_column,item_column):\n",
        "    Eval_itemsVector  =  Holdout[[item_column]].to_numpy()\n",
        "    HitRate_arr   =  (TopN_pred == Eval_itemsVector).sum(axis=1)  ##sum along row...\n",
        "    HitCount = np.count_nonzero(HitRate_arr == 1)\n",
        "    HitRate_ = HitRate_arr.mean()\n",
        "    print(\"Number of hits: \", HitCount)\n",
        "    print(\"Total Num of users: \",len(Holdout[user_column]))\n",
        "    print(\"Recommendation HitRate: \",HitRate_)\n",
        "    return HitRate_"
      ]
    },
    {
      "cell_type": "code",
      "execution_count": 304,
      "metadata": {},
      "outputs": [
        {
          "output_type": "stream",
          "name": "stdout",
          "text": [
            "Number of hits:  83\nTotal Num of users:  3459\nRecommendation HitRate:  0.023995374385660597\n"
          ]
        },
        {
          "output_type": "execute_result",
          "data": {
            "text/plain": [
              "0.023995374385660597"
            ]
          },
          "metadata": {},
          "execution_count": 304
        }
      ],
      "source": [
        "Hitrate_Eval(newHoldout_list[0],topN_pred,'Updated_UserID','Updated_ItemID')"
      ]
    },
    {
      "cell_type": "code",
      "execution_count": 323,
      "metadata": {},
      "outputs": [
        {
          "output_type": "execute_result",
          "data": {
            "text/plain": [
              "0.005352381870161575"
            ]
          },
          "metadata": {},
          "execution_count": 323
        }
      ],
      "source": [
        "MRR_Eval(newHoldout_list[0],test_pred,'Updated_ItemID')"
      ]
    },
    {
      "cell_type": "code",
      "execution_count": null,
      "metadata": {},
      "outputs": [],
      "source": [
        "def MRR_Eval(Holdout,TopN_pred,item_column):\n",
        "    Ntest_users = Holdout.shape[0]\n",
        "    Eval_itemsVector  =  Holdout[[item_column]].to_numpy()\n",
        "    item_pos = np.where(Eval_itemsVector == TopN_pred)[1] +1  #eval item pos in pred_index1 \n",
        "    if item_pos.size:  ##if any hit\n",
        "       Hit_RR = (1/item_pos)  \n",
        "       MRR_ = np.divide(np.sum(Hit_RR),Ntest_users)  #mean of all reciprocal rank\n",
        "       return MRR_    \n",
        "    return 0"
      ]
    },
    {
      "cell_type": "code",
      "execution_count": 136,
      "metadata": {},
      "outputs": [
        {
          "output_type": "error",
          "ename": "NameError",
          "evalue": "name 'args' is not defined",
          "traceback": [
            "\u001b[0;31m---------------------------------------------------------------------------\u001b[0m",
            "\u001b[0;31mNameError\u001b[0m                                 Traceback (most recent call last)",
            "\u001b[0;32m<ipython-input-136-cfd21ff72e43>\u001b[0m in \u001b[0;36m<module>\u001b[0;34m\u001b[0m\n\u001b[0;32m----> 1\u001b[0;31m \u001b[0;32mif\u001b[0m \u001b[0mepoch\u001b[0m \u001b[0;34m%\u001b[0m \u001b[0margs\u001b[0m\u001b[0;34m.\u001b[0m\u001b[0meval_every\u001b[0m \u001b[0;34m==\u001b[0m \u001b[0;34m(\u001b[0m\u001b[0margs\u001b[0m\u001b[0;34m.\u001b[0m\u001b[0meval_every\u001b[0m \u001b[0;34m-\u001b[0m \u001b[0;36m1\u001b[0m\u001b[0;34m)\u001b[0m\u001b[0;34m:\u001b[0m\u001b[0;34m\u001b[0m\u001b[0;34m\u001b[0m\u001b[0m\n\u001b[0m\u001b[1;32m      2\u001b[0m             \u001b[0mval_loss\u001b[0m\u001b[0;34m,\u001b[0m \u001b[0mn100\u001b[0m\u001b[0;34m,\u001b[0m \u001b[0mr20\u001b[0m\u001b[0;34m,\u001b[0m \u001b[0mr50\u001b[0m \u001b[0;34m=\u001b[0m \u001b[0meval_step\u001b[0m\u001b[0;34m(\u001b[0m\u001b[0mvalid_data_tr\u001b[0m\u001b[0;34m,\u001b[0m \u001b[0mvalid_data_te\u001b[0m\u001b[0;34m)\u001b[0m\u001b[0;34m\u001b[0m\u001b[0;34m\u001b[0m\u001b[0m\n",
            "\u001b[0;31mNameError\u001b[0m: name 'args' is not defined"
          ]
        }
      ],
      "source": [
        "if epoch % eval_every == (eval_every - 1):\n",
        "            val_loss, n100, r20, r50 = eval_step(valid_data_tr, valid_data_te)"
      ]
    },
    {
      "cell_type": "code",
      "execution_count": null,
      "metadata": {},
      "outputs": [],
      "source": []
    },
    {
      "cell_type": "code",
      "execution_count": null,
      "metadata": {},
      "outputs": [],
      "source": [
        "    val_loss, n100, r50 = eval_step(VAEmodel,ValidTrain_RatMat, ValidTest_RatMat)  \n",
        "    ngdc_List.append(n100)\n",
        "    r50_List.append(r50)\n",
        "    print(\"| valid loss {:4.3f} | n100 {:4.3f} | r50 {:4.3f} | \".format(val_loss, n100, r50))\n",
        "            \n",
        "\n",
        "ngdc_List            "
      ]
    },
    {
      "cell_type": "code",
      "execution_count": null,
      "metadata": {},
      "outputs": [],
      "source": []
    },
    {
      "cell_type": "code",
      "metadata": {
        "id": "Zm9atxyq8NIQ"
      },
      "source": [
        "def train_step_2(model, optimizer, data,total_anneal_steps,epoch):\n",
        "    model.train()\n",
        "    running_loss = 0.0\n",
        "    global update_count\n",
        "    N = data.shape[0]\n",
        "    idxlist = list(range(N))\n",
        "    np.random.shuffle(idxlist)\n",
        "    t = len(range(0, N, batch_size))   #training_steps\n",
        "    for batch_idx, start_idx in zip(range(t), range(0, N, batch_size)):\n",
        "        end_idx = min(start_idx + batch_size, N)\n",
        "        X_inp = data[idxlist[start_idx:end_idx]]\n",
        "        X_inp = torch.FloatTensor(X_inp.toarray()).to(device)\n",
        "        if constant_anneal:\n",
        "           anneal = anneal_cap\n",
        "        else:\n",
        "             anneal = min(anneal_cap, update_count/total_anneal_steps)\n",
        "        update_count += 1\n",
        "        optimizer.zero_grad()\n",
        "        X_out, mu, logvar = model(X_inp)\n",
        "        loss = vae_loss_fn(X_inp, X_out, mu, logvar, anneal)\n",
        "        train_step_2.anneal = anneal\n",
        "        loss.backward()\n",
        "        optimizer.step()\n",
        "        running_loss += loss.item()\n",
        "        avg_loss = running_loss / (batch_idx + 1)\n",
        "        #t.set_postfix(loss=avg_loss)\n",
        "        #return model\n",
        "\n",
        "def eval_step_2(model,data_tr, data_te):\n",
        "    model.eval()\n",
        "    running_loss = 0.0\n",
        "    eval_idxlist = list(range(data_tr.shape[0]))\n",
        "    eval_N = data_tr.shape[0]\n",
        "    eval_steps = len(range(0, eval_N, batch_size))\n",
        "    n100_list = []\n",
        "    with torch.no_grad():\n",
        "         for batch_idx, start_idx in zip(range(eval_steps), range(0, eval_N, batch_size)):\n",
        "             end_idx = min(start_idx + batch_size, eval_N)\n",
        "             X_tr = data_tr[eval_idxlist[start_idx:end_idx]]\n",
        "             X_te = data_te[eval_idxlist[start_idx:end_idx]]\n",
        "             X_tr_inp = torch.FloatTensor(X_tr.toarray()).to(device)\n",
        "\n",
        "             X_out, mu, logvar = model(X_tr_inp)\n",
        "             loss = vae_loss_fn(X_tr_inp, X_out, mu, logvar, train_step_2.anneal)\n",
        "             running_loss += loss.item()\n",
        "             avg_loss = running_loss / (batch_idx + 1)\n",
        "\n",
        "             #Exclude examples from training set\n",
        "             X_out = X_out.cpu().numpy()\n",
        "             X_out[X_tr.nonzero()] = -np.inf\n",
        "\n",
        "             n100 = NDCG_binary_at_k_batch(X_out, X_te, k=100)\n",
        "             n100_list.append(n100)\n",
        "         n100_list = np.concatenate(n100_list)\n",
        "         avg_NDCG = np.mean(n100_list)\n",
        "    return avg_loss, avg_NDCG   \n",
        "\n",
        "def getTot_annealSTeps(train_RatMat,batch_size,n_epochs,anneal_cap):\n",
        "    training_steps = len(range(0, train_RatMat.shape[0], batch_size))\n",
        "    try:\n",
        "       total_anneal_steps = (training_steps * (n_epochs - int(n_epochs * 0.2))) / anneal_cap  ##\n",
        "    except ZeroDivisionError:\n",
        "        assert (constant_anneal), \"if 'anneal_cap' is set to 0.0 'constant_anneal' must be set to 'True\"\n",
        "\n",
        "    return total_anneal_steps\n",
        "\n",
        "    \n",
        "def Tuning(model,train_set,validtrain_set,validtest_set,als_param_grid,n_epochs,model_name,save_results= False):\n",
        "    best_score = 0     ##based on MetricEval..\n",
        "    stop_step = 0      \n",
        "    for i in trange(len(als_param_grid)): \n",
        "        batch_size, lr_, weightdecay_ = list(als_param_grid)[i]\n",
        "        total_anneal_steps = getTot_annealSTeps(train_set,batch_size,n_epochs,anneal_cap)\n",
        "        Optimizer_ = torch.optim.AdamW(model.parameters(), lr=lr_, weight_decay=weightdecay_)\n",
        "        print('batch_size = {} ,learning_rate = {}, weight_decay = {} '.format(batch_size,lr_,weightdecay_))\n",
        "        model_2 = model\n",
        "        for epoch in trange(n_epochs):            \n",
        "            train_step_2(model_2, Optimizer_, train_set,total_anneal_steps,epoch)\n",
        "            val_loss, curr_score = eval_step_2(model_2,validtrain_set,validtest_set)\n",
        "            stop_step = stop_step + 1\n",
        "           \n",
        "            if (curr_score > best_score) & (save_results):\n",
        "               best_epoch = epoch\n",
        "               best_BS  = batch_size\n",
        "               best_lr_ = lr_\n",
        "               best_weightdecay_ = weightdecay_\n",
        "               best_score = curr_score\n",
        "               torch.save(model_2.state_dict(),model_name+\".pth\")\n",
        "               stop_step = 0\n",
        "               print('best_NGCG = {}, best_epoch = {}, stop_step = {} '.format(best_score,best_epoch,stop_step))\n",
        "\n",
        "            if (stop_step > patience):\n",
        "                print(\"Early Stop Activated...\")\n",
        "                print('epoch= {}, best_epoch = {}, curr_score = {}, best_score = {},Stop_Step = {}'.format(epoch, best_epoch,curr_score,best_score,stop_step))\n",
        "                stop_step = 0\n",
        "                break\n",
        "               \n",
        "        #print('NDCG100_ = {} '.format(best_NGCG100))\n",
        "\n",
        "    print('\\n Best parameters; batch_size= {}, lr_ = {}, weight_decay = {}, NDCG100_ = {}'.format(best_BS, best_lr_,best_weightdecay_,best_score))\n",
        "    return best_BS, best_lr_, best_weightdecay_,best_score  \n"
      ],
      "execution_count": null,
      "outputs": []
    },
    {
      "cell_type": "code",
      "metadata": {
        "id": "YrA6PoZb8NIQ"
      },
      "source": [
        "class Encoder(nn.Module):\n",
        "    def __init__(self, options, dropout_p=0.5, q_dims=[20108, 600, 200]):\n",
        "        super(Encoder, self).__init__()\n",
        "        self.options = options\n",
        "        self.q_dims = q_dims\n",
        "\n",
        "        self.dropout = nn.Dropout(p=dropout_p, inplace=False)\n",
        "        self.linear_1 = nn.Linear(self.q_dims[0], self.q_dims[1], bias=True)\n",
        "        self.linear_2 = nn.Linear(self.q_dims[1], self.q_dims[2] * 2, bias=True)\n",
        "        self.tanh = nn.Tanh()\n",
        "\n",
        "        for module_name, m in self.named_modules():\n",
        "            if isinstance(m, nn.Linear):\n",
        "                nn.init.xavier_uniform_(m.weight.data)\n",
        "                if m.bias is not None:\n",
        "                    m.bias.data.normal_(0.0, 0.001)\n",
        "\n",
        "    def forward(self, x):\n",
        "        x = self.dropout(x)\n",
        "        x = self.linear_1(x)\n",
        "        x = self.tanh(x)\n",
        "        x = self.linear_2(x)\n",
        "        mu_q, logvar_q = torch.chunk(x, chunks=2, dim=1)\n",
        "        return mu_q, logvar_q\n",
        "\n",
        "class Decoder(nn.Module):\n",
        "    def __init__(self, options, p_dims=[200, 600, 20108]):\n",
        "        super(Decoder, self).__init__()\n",
        "        self.options = options\n",
        "        self.p_dims = p_dims\n",
        "\n",
        "        self.linear_1 = nn.Linear(self.p_dims[0], self.p_dims[1], bias=True)\n",
        "        self.linear_2 = nn.Linear(self.p_dims[1], self.p_dims[2], bias=True)\n",
        "        self.tanh = nn.Tanh()\n",
        "\n",
        "        for module_name, m in self.named_modules():\n",
        "            if isinstance(m, nn.Linear):\n",
        "                nn.init.xavier_uniform_(m.weight.data)\n",
        "                if m.bias is not None:\n",
        "                    m.bias.data.normal_(0.0, 0.001)\n",
        "\n",
        "    def forward(self, x):\n",
        "        x = self.linear_1(x)\n",
        "        x = self.tanh(x)\n",
        "        x = self.linear_2(x)\n",
        "        return x        "
      ],
      "execution_count": null,
      "outputs": []
    },
    {
      "cell_type": "code",
      "execution_count": null,
      "metadata": {},
      "outputs": [],
      "source": [
        "class MultiVAE(nn.Module):\n",
        "    def __init__(self, cuda2=True, weight_decay=0.0, dropout_p=0.5, q_dims=[20108, 600, 200], p_dims=[200, 600, 20108], n_conditioned=0):\n",
        "        super(MultiVAE, self).__init__()\n",
        "        self.cuda2 = cuda2\n",
        "        self.weight_decay = weight_decay\n",
        "        self.n_conditioned = n_conditioned\n",
        "        self.q_dims = q_dims\n",
        "        self.p_dims = p_dims\n",
        "        self.q_dims[0] += self.n_conditioned\n",
        "        self.p_dims[0] += self.n_conditioned\n",
        "\n",
        "        self.encoder = Encoder(None, dropout_p=dropout_p, q_dims=self.q_dims)\n",
        "        self.decoder = Decoder(None, p_dims=self.p_dims)\n",
        "\n",
        "    def forward(self, x, c):\n",
        "        x = f.normalize(x, p=2, dim=1)\n",
        "        if self.n_conditioned > 0:\n",
        "            x = torch.cat((x, c), dim=1)\n",
        "\n",
        "        mu_q, logvar_q = self.encoder.forward(x)\n",
        "        std_q = torch.exp(0.5 * logvar_q)\n",
        "        KL = torch.mean(torch.sum(0.5 * (-logvar_q + torch.exp(logvar_q) + mu_q ** 2 - 1), dim=1))\n",
        "        epsilon = torch.randn_like(std_q, requires_grad=False)\n",
        "        if True:\n",
        "            if self.training:\n",
        "                sampled_z = mu_q + epsilon * std_q\n",
        "            else:\n",
        "                sampled_z = mu_q\n",
        "        else:\n",
        "            sampled_z = mu_q + epsilon * std_q\n",
        "\n",
        "        if self.n_conditioned > 0:\n",
        "            sampled_z = torch.cat((sampled_z, c), dim=1)\n",
        "        logits = self.decoder.forward(sampled_z)\n",
        "\n",
        "        return logits, KL, mu_q, std_q, epsilon, sampled_z\n",
        "\n",
        "  def get_l2_reg(self):\n",
        "        l2_reg = Variable(torch.FloatTensor(1), requires_grad=True)\n",
        "        if self.weight_decay > 0:\n",
        "            for k, m in self.state_dict().items():\n",
        "                if k.endswith('.weight'):\n",
        "                    l2_reg = l2_reg + torch.norm(m, p=2) ** 2\n",
        "        if self.cuda2:\n",
        "            l2_reg = l2_reg.cuda()\n",
        "        return self.weight_decay * l2_reg[0]      "
      ]
    },
    {
      "cell_type": "code",
      "execution_count": null,
      "metadata": {},
      "outputs": [],
      "source": [
        "class Trainer(object):\n",
        "\n",
        "    def __init__(self, cmd, cuda, model, optim=None,\n",
        "                 train_loader=None, valid_loader=None, test_loader=None, log_file=None,\n",
        "                 interval_validate=1, lr_scheduler=None,\n",
        "                 start_step=0, total_steps=1e5, beta=0.05, start_epoch=0,\n",
        "                 total_anneal_steps=200000, anneal_cap=0.2, do_normalize=True,\n",
        "                 checkpoint_dir=None, result_dir=None, print_freq=1, result_save_freq=1, checkpoint_freq=1):\n",
        "\n",
        "        self.cmd = cmd\n",
        "        self.cuda = cuda\n",
        "        self.model = model\n",
        "\n",
        "        self.optim = optim\n",
        "        self.lr_scheduler = lr_scheduler\n",
        "\n",
        "        self.train_loader = train_loader\n",
        "        self.valid_loader = valid_loader\n",
        "        self.test_loader = test_loader\n",
        "\n",
        "        self.timestamp_start = datetime.datetime.now()\n",
        "\n",
        "        if self.cmd == 'train':\n",
        "            self.interval_validate = interval_validate\n",
        "\n",
        "        self.start_step = start_step\n",
        "        self.step = start_step\n",
        "        self.total_steps = total_steps\n",
        "        self.epoch = start_epoch\n",
        "\n",
        "        self.do_normalize = do_normalize\n",
        "        self.print_freq = print_freq\n",
        "        self.checkpoint_freq = checkpoint_freq\n",
        "\n",
        "        self.checkpoint_dir = checkpoint_dir\n",
        "\n",
        "        self.total_anneal_steps = total_anneal_steps\n",
        "        self.anneal_cap = anneal_cap\n",
        "\n",
        "        self.n20_all = []\n",
        "        self.n20_max_va, self.n100_max_va, self.r20_max_va, self.r50_max_va = 0, 0, 0, 0\n",
        "        self.n20_max_te, self.n100_max_te, self.r20_max_te, self.r50_max_te = 0, 0, 0, 0\n",
        "\n"
      ]
    },
    {
      "cell_type": "markdown",
      "metadata": {
        "id": "EGOcY8k9G_Wt"
      },
      "source": [
        "###Tuning"
      ]
    },
    {
      "cell_type": "code",
      "metadata": {
        "id": "dkdeoeVN8NIR",
        "outputId": "0505cf80-8c65-4e0d-81b9-e8dbfd159dd0"
      },
      "source": [
        "als_params = dict(batch_size = [50,100,200,300,500],\n",
        "                  lr = [1e-7,1e-5,1e-3,1e-1],\n",
        "                  weight_decay= [0.,0.1,0.2,0.3])\n",
        "\n",
        "als_param_grid, als_param_names = random_grid(als_params, n=30)\n",
        "print(als_param_names)\n",
        "len(als_param_grid)                 "
      ],
      "execution_count": 207,
      "outputs": [
        {
          "output_type": "stream",
          "name": "stdout",
          "text": [
            "('batch_size', 'lr', 'weight_decay')\n"
          ]
        },
        {
          "output_type": "execute_result",
          "data": {
            "text/plain": [
              "30"
            ]
          },
          "metadata": {},
          "execution_count": 207
        }
      ]
    },
    {
      "cell_type": "code",
      "metadata": {
        "id": "2mnBaBnT8NIS",
        "outputId": "c3410d7f-caba-40d5-8728-86856ac4a439"
      },
      "source": [
        "for i in range(10):\n",
        "    batch_size, lr, weight_decay = list(als_param_grid)[i]  \n",
        "    print(batch_size, lr, weight_decay)"
      ],
      "execution_count": 208,
      "outputs": [
        {
          "output_type": "stream",
          "name": "stdout",
          "text": [
            "50 1e-05 0.2\n200 0.001 0.2\n300 1e-05 0.2\n100 0.1 0.3\n500 0.001 0.1\n300 0.001 0.2\n100 1e-07 0.0\n500 0.1 0.2\n50 1e-05 0.1\n200 0.001 0.1\n"
          ]
        }
      ]
    },
    {
      "cell_type": "code",
      "metadata": {
        "id": "r2s6asVs8NIT",
        "outputId": "d9762de3-838d-45fa-b501-11d1e1ad765f"
      },
      "source": [],
      "execution_count": null,
      "outputs": [
        {
          "output_type": "execute_result",
          "data": {
            "text/plain": [
              "6961"
            ]
          },
          "metadata": {
            "tags": []
          },
          "execution_count": 271
        }
      ]
    },
    {
      "cell_type": "code",
      "metadata": {
        "id": "Dq9zubDl8NIU",
        "outputId": "8035777e-f7e3-4c22-fff6-bd4323746a76"
      },
      "source": [
        "n_items = len(train_Items)   \n",
        "I = n_items    ##I is the total number of items in the train date\n",
        "q_dims = [I] + [600, 200]\n",
        "p_dims = [200, 600] + [I]\n",
        "dropout_enc = [0.5, 0.]\n",
        "dropout_dec = [0., 0.]\n",
        "\n",
        "                    \n",
        "VAEmodel = MultiVAE(p_dims,q_dims,dropout_enc,dropout_dec)\n",
        "init_weights(VAEmodel)\n",
        "VAEmodel.to(device)"
      ],
      "execution_count": 223,
      "outputs": [
        {
          "output_type": "execute_result",
          "data": {
            "text/plain": [
              "MultiVAE(\n",
              "  (encode): Encoder(\n",
              "    (q_layers): Sequential(\n",
              "      (dropout_0): Dropout(p=0.5, inplace=False)\n",
              "      (linear_0): Linear(in_features=3473, out_features=600, bias=True)\n",
              "      (dropout_1): Dropout(p=0.0, inplace=False)\n",
              "      (linear_1): Linear(in_features=600, out_features=400, bias=True)\n",
              "    )\n",
              "  )\n",
              "  (decode): Decoder(\n",
              "    (p_layers): Sequential(\n",
              "      (dropout_0): Dropout(p=0.0, inplace=False)\n",
              "      (linear_0): Linear(in_features=200, out_features=600, bias=True)\n",
              "      (dropout_1): Dropout(p=0.0, inplace=False)\n",
              "      (linear_1): Linear(in_features=600, out_features=3473, bias=True)\n",
              "    )\n",
              "  )\n",
              ")"
            ]
          },
          "metadata": {},
          "execution_count": 223
        }
      ]
    },
    {
      "cell_type": "code",
      "execution_count": 215,
      "metadata": {},
      "outputs": [],
      "source": [
        "from tqdm import trange"
      ]
    },
    {
      "cell_type": "code",
      "metadata": {
        "id": "jUhco3_H8NIe",
        "outputId": "3f0dbb72-283d-45f0-a724-d2f183a91259"
      },
      "source": [
        "best_BS, best_lr_, best_weightdecay_,best_NGCG100 =  bestModelInfo\n",
        "print(\"batch_size     :\",best_BS)\n",
        "print(\"learning_rate  :\",best_lr_)\n",
        "print(\"weight_decay   :\",best_weightdecay_)\n",
        "print(\"best_NGCG100   :\",best_NGCG100)        "
      ],
      "execution_count": 227,
      "outputs": [
        {
          "output_type": "stream",
          "name": "stdout",
          "text": [
            "batch_size     : 300\nlearning_rate  : 1e-05\nweight_decay   : 0.2\nbest_NGCG100   : 0.3835523654706246\n"
          ]
        }
      ]
    },
    {
      "cell_type": "code",
      "metadata": {
        "id": "9ZYnQrEQ8NIh"
      },
      "source": [],
      "execution_count": null,
      "outputs": []
    },
    {
      "cell_type": "code",
      "metadata": {
        "id": "ToiZTh-b8NIi",
        "outputId": "afc75c01-d0a9-40e9-c27c-affb0d46ab43"
      },
      "source": [
        "# Run on test data with best model\n",
        "#model.load_state_dict(torch.load(model_name + \".pt\")))\n",
        "VAEmodel.load_state_dict(torch.load('MLDF1M_VAE.pth'))\n",
        "test_loss,tst_ndgc100_ = eval_step_2(VAEmodel,TestTrain_RatMat,TestTest_RatMat)\n",
        "tst_ndgc100_"
      ],
      "execution_count": 228,
      "outputs": [
        {
          "output_type": "execute_result",
          "data": {
            "text/plain": [
              "0.3877777527553243"
            ]
          },
          "metadata": {},
          "execution_count": 228
        }
      ]
    },
    {
      "cell_type": "code",
      "metadata": {
        "id": "xktq667i8NIj"
      },
      "source": [],
      "execution_count": null,
      "outputs": []
    },
    {
      "cell_type": "markdown",
      "metadata": {
        "id": "XPi3fl-UHGJo"
      },
      "source": [
        "###P_DimTuning"
      ]
    },
    {
      "cell_type": "code",
      "metadata": {
        "id": "mdA-9UIu8NIk"
      },
      "source": [
        "def getVAEModel(n_items,p_dims):\n",
        "    I = n_items    #I is the total number of items in the train date\n",
        "    q_Dims = [I] + p_dims[::-1]\n",
        "    P_Dims = p_dims + [I]\n",
        "    dropout_enc = [0.5, 0.]\n",
        "    dropout_dec = [0., 0.5]\n",
        "\n",
        "    VAEmodel = MultiVAE(P_Dims,q_Dims,dropout_enc,dropout_dec)\n",
        "    init_weights(VAEmodel)\n",
        "    VAEmodel.to(device)\n",
        "    return VAEmodel\n",
        "\n",
        "\n",
        "def P_dimsTuning(train_set,validtrain_set,validtest_set,n_items,p_dimsList,model_name,n_epochs,save_results= True):\n",
        "    update_count = 0\n",
        "    best_score = 0     ##based on MetricEval..\n",
        "    stop_step = 0\n",
        "    update_count = 0\n",
        "    stop = False\n",
        "    patience_epoch = 25\n",
        "    total_anneal_steps = getTot_annealSTeps(train_set,batch_size,n_epochs,anneal_cap)\n",
        "    for p_dims in tqdm(p_dimsList):\n",
        "        print(\"P_Dimensions: \",p_dims)\n",
        "        model_ = getVAEModel(n_items,p_dims) \n",
        "        Optimizer_ = torch.optim.AdamW(model_.parameters(), lr=lr_, weight_decay=weightdecay_)\n",
        "        for epoch in range(n_epochs):            \n",
        "            train_step_2(model_, Optimizer_, train_set,total_anneal_steps,epoch)\n",
        "            val_loss, NDCG100_ = eval_step_2(model_,validtrain_set,validtest_set)\n",
        "            curr_score = NDCG100_\n",
        "            best_score,stop_step,stop = early_stop(curr_score,best_score,stop_step,\n",
        "                                           patience=patience_epoch,score_fn='metric')\n",
        "            if stop:\n",
        "                break\n",
        "            if (stop_step == 0) & (save_results):\n",
        "               best_epoch = epoch\n",
        "               best_dims = p_dims\n",
        "               best_NGCG100 = NDCG100_\n",
        "               torch.save(model_.state_dict(),model_name+\".pth\")\n",
        "               print('NDCG100_ = {} '.format(best_NGCG100))\n",
        "               patience_epoch = epoch\n",
        "\n",
        "        #print('NDCG100_ = {} '.format(best_NGCG100))\n",
        "\n",
        "    print('\\n Best parameters; Best_dims= {}, Best_NDCG100 = {}, Best_epoch = {}'.format(best_dims,best_NGCG100,best_epoch))\n",
        "    return best_NGCG100,best_dims,best_epoch  \n",
        "\n"
      ],
      "execution_count": null,
      "outputs": []
    },
    {
      "cell_type": "code",
      "metadata": {
        "id": "ud_Hz3U78NIl",
        "outputId": "4835d083-272d-4927-fb55-0a60d8dc730e"
      },
      "source": [
        "# anneal_epochs = None  \n",
        "# anneal_cap = 0.2\n",
        "# constant_anneal = False\n",
        "# update_count = 0\n",
        "# batch_size=200\n",
        "# lr_=1e-5\n",
        "# weightdecay_=0.1\n",
        "# n_items = len(train_Items) \n",
        "# p_dimsList  = [[32,64],[64,128],[128,256],[256,512],[512,1024],[100,300],[200,600],[300,900]]\n",
        "\n",
        "\n",
        "# best_ModelInfo2 = P_dimsTuning(TrainDF_RatMat,ValidTrain_RatMat,ValidTest_RatMat,n_items,p_dimsList,\"AMZB_DimModel\",n_epochs=200,save_results= True)"
      ],
      "execution_count": 229,
      "outputs": []
    },
    {
      "cell_type": "code",
      "metadata": {
        "id": "0S2Ut2sW8NIn",
        "outputId": "d37efa37-f2ff-40c6-a307-dbc952f91396"
      },
      "source": [
        "newUserItem_list[0].columns  "
      ],
      "execution_count": null,
      "outputs": [
        {
          "output_type": "execute_result",
          "data": {
            "text/plain": [
              "Index(['userId', 'productId', 'Updated_UserID', 'Updated_ItemID'], dtype='object')"
            ]
          },
          "metadata": {
            "tags": []
          },
          "execution_count": 487
        }
      ]
    },
    {
      "cell_type": "code",
      "metadata": {
        "id": "PHzoPkWm8NIo",
        "outputId": "e1e22973-6b26-4dbb-e90c-60692a8cdbaa"
      },
      "source": [
        "rows_i = newMLDF_1M['Updated_UserID'].nunique()\n",
        "cols_i = newMLDF_1M['Updated_ItemID'].nunique()\n",
        "UserItem_MATList = AllRatingMatrices(newUserItem_list,'Updated_UserID','Updated_ItemID',rows_i ,cols_i) \n",
        "UserItem_MATList   "
      ],
      "execution_count": 230,
      "outputs": [
        {
          "output_type": "execute_result",
          "data": {
            "text/plain": [
              "[<6038x3533 sparse matrix of type '<class 'numpy.float64'>'\n",
              " \twith 500332 stored elements in Compressed Sparse Row format>,\n",
              " <6038x3533 sparse matrix of type '<class 'numpy.float64'>'\n",
              " \twith 508812 stored elements in Compressed Sparse Row format>,\n",
              " <6038x3533 sparse matrix of type '<class 'numpy.float64'>'\n",
              " \twith 517278 stored elements in Compressed Sparse Row format>,\n",
              " <6038x3533 sparse matrix of type '<class 'numpy.float64'>'\n",
              " \twith 525757 stored elements in Compressed Sparse Row format>,\n",
              " <6038x3533 sparse matrix of type '<class 'numpy.float64'>'\n",
              " \twith 534098 stored elements in Compressed Sparse Row format>,\n",
              " <6038x3533 sparse matrix of type '<class 'numpy.float64'>'\n",
              " \twith 542538 stored elements in Compressed Sparse Row format>,\n",
              " <6038x3533 sparse matrix of type '<class 'numpy.float64'>'\n",
              " \twith 551048 stored elements in Compressed Sparse Row format>,\n",
              " <6038x3533 sparse matrix of type '<class 'numpy.float64'>'\n",
              " \twith 559597 stored elements in Compressed Sparse Row format>,\n",
              " <6038x3533 sparse matrix of type '<class 'numpy.float64'>'\n",
              " \twith 568114 stored elements in Compressed Sparse Row format>,\n",
              " <6038x3533 sparse matrix of type '<class 'numpy.float64'>'\n",
              " \twith 574919 stored elements in Compressed Sparse Row format>]"
            ]
          },
          "metadata": {},
          "execution_count": 230
        }
      ]
    },
    {
      "cell_type": "code",
      "metadata": {
        "id": "0VPXTRm48NIo",
        "outputId": "7afdc1d2-8005-4af7-ffa2-8bb57862e0da"
      },
      "source": [
        " I =  newMLDF_1M['Updated_ItemID'].nunique()  #I is the total number of items in the train date\n",
        "q_dims = [I] + [600, 200]\n",
        "p_dims = [200, 600] + [I]\n",
        "dropout_enc = [0.5, 0.]\n",
        "dropout_dec = [0., 0.]\n",
        "\n",
        "                    #p_dims,q_dims,dropout_enc,dropout_dec\n",
        "VAEmodel_untrain = MultiVAE(p_dims,q_dims,dropout_enc,dropout_dec)\n",
        "init_weights(VAEmodel_untrain)\n",
        "VAEmodel_untrain.to(device)"
      ],
      "execution_count": 251,
      "outputs": [
        {
          "output_type": "execute_result",
          "data": {
            "text/plain": [
              "MultiVAE(\n",
              "  (encode): Encoder(\n",
              "    (q_layers): Sequential(\n",
              "      (dropout_0): Dropout(p=0.5, inplace=False)\n",
              "      (linear_0): Linear(in_features=3533, out_features=600, bias=True)\n",
              "      (dropout_1): Dropout(p=0.0, inplace=False)\n",
              "      (linear_1): Linear(in_features=600, out_features=400, bias=True)\n",
              "    )\n",
              "  )\n",
              "  (decode): Decoder(\n",
              "    (p_layers): Sequential(\n",
              "      (dropout_0): Dropout(p=0.0, inplace=False)\n",
              "      (linear_0): Linear(in_features=200, out_features=600, bias=True)\n",
              "      (dropout_1): Dropout(p=0.0, inplace=False)\n",
              "      (linear_1): Linear(in_features=600, out_features=3533, bias=True)\n",
              "    )\n",
              "  )\n",
              ")"
            ]
          },
          "metadata": {},
          "execution_count": 251
        }
      ]
    },
    {
      "cell_type": "code",
      "metadata": {
        "id": "wGQqTWnAHPBU"
      },
      "source": [],
      "execution_count": null,
      "outputs": []
    },
    {
      "cell_type": "markdown",
      "metadata": {
        "id": "qNpKrnblHPt2"
      },
      "source": [
        "### Get Prediction"
      ]
    },
    {
      "cell_type": "code",
      "metadata": {
        "id": "sXvlZxKl8NIp"
      },
      "source": [
        "def Trainwith_Best(model,UserItem_TRset,best_BS,best_lr,best_wd):\n",
        "    total_anneal_steps = getTot_annealSTeps(UserItem_TRset,best_BS,anneal_n,anneal_cap)\n",
        "    Optimizer_ = torch.optim.AdamW(model.parameters(), lr=best_lr, weight_decay=best_wd)\n",
        "    for epoch in tqdm(range(bst_epochs)):            \n",
        "        train_step_2(model, Optimizer_, UserItem_TRset,total_anneal_steps,epoch)\n",
        "      \n",
        "    #torch.save(model.state_dict(),model_name+\".pth\")\n",
        "    return model\n",
        "\n",
        "def get_ModelOut(X_train,model):  #X_train== RatMat...\n",
        "    with torch.no_grad():\n",
        "         X_input = torch.FloatTensor(X_train.toarray()).to(device)\n",
        "         X_out, mu, logvar = model(X_input)\n",
        "         X_out = X_out.cpu().numpy()         #convert from tensor to numpy\n",
        "         X_out[X_train.nonzero()] = -np.inf  #Exclude examples from training set\n",
        "    return X_out\n",
        "\n",
        "\n",
        "def getVAE_TopNPred(X_out,k):   ##X_out == tensor output from model\n",
        "    batch_users = X_out.shape[0]\n",
        "    idx_topk_part = bn.argpartition(-X_out, k, axis=1)\n",
        "    topk_part = X_out[np.arange(batch_users)[:, np.newaxis], idx_topk_part[:, :k]]\n",
        "    idx_part = np.argsort(-topk_part, axis=1)\n",
        "    idx_topk = idx_topk_part[np.arange(batch_users)[:, np.newaxis], idx_part]\n",
        "    return idx_topk\n",
        "\n",
        "def getVAE_AllPred(model,UserItemList,best_BS,best_lr,best_wd,k=10):\n",
        "    ALLstep_Pred  = []\n",
        "    for UserItem_ in UserItemList:\n",
        "        Trainedmodel = Trainwith_Best(model,UserItem_,best_BS,best_lr,best_wd)\n",
        "        X_out = get_ModelOut(UserItem_,Trainedmodel)\n",
        "        topNPred = getVAE_TopNPred(X_out,k)   ##get prediction for all users..\n",
        "        ALLstep_Pred.append(topNPred)\n",
        "    return ALLstep_Pred\n",
        "\n",
        "\n",
        "def VAEHitrate_Eval_2(allPred,holdout,user_column,item_column):  ##N == Top_N\n",
        "    TestUsers = holdout[user_column]\n",
        "    HOLDOUT_pred = allPred[TestUsers,:] \n",
        "    Eval_itemsVector  = holdout[[item_column]].to_numpy()\n",
        "    HitRate_arr   =  (HOLDOUT_pred == Eval_itemsVector).sum(axis=1)  ##sum along row...\n",
        "    HitCount = np.count_nonzero(HitRate_arr == 1)\n",
        "    HitRate_ = HitRate_arr.mean()\n",
        "    print(\"Number of hits: \", HitCount)\n",
        "    print(\"Total Num of users: \",len(holdout[user_column]))\n",
        "    print(\"Recommendation HitRate: \",HitRate_)\n",
        "    return HitRate_\n",
        "\n",
        "def VAEHitrate_Eval(allPred,holdout,user_column,item_column):  ##N == Top_N\n",
        "    TestUsers = holdout[user_column]\n",
        "    HOLDOUT_pred = allPred[TestUsers,:] \n",
        "    Eval_itemsVector  = holdout[[item_column]].to_numpy()\n",
        "    HitRate_arr   =  (HOLDOUT_pred == Eval_itemsVector).sum(axis=1)  ##sum along row...\n",
        "    HitCount = np.count_nonzero(HitRate_arr == 1)\n",
        "    HitRate_ = HitRate_arr.mean()\n",
        "    return HitRate_\n",
        "\n",
        "def mean_confidence_interval(data, confidence=0.95):\n",
        "    a = 1.0 * np.array(data)\n",
        "    n = len(a)\n",
        "    mean, se = np.mean(a), st.sem(a)\n",
        "    h = se * scipy.stats.t.ppf((1 + confidence) / 2., n-1)\n",
        "    lower_band =  mean-h\n",
        "    upper_band =  mean+h\n",
        "    return lower_band, mean,upper_band                ##LowerBand || Mean || UpperBand\n",
        "\n",
        "\n",
        "\n",
        "def getAll_VAEHitRate(HOLDOUT_list,All_TOPN_PRED,user_column,item_column):\n",
        "    AllSteps_Hitrate = []\n",
        "    for holdout, allPred in zip(HOLDOUT_list,All_TOPN_PRED):                   \n",
        "        HitRate_ = VAEHitrate_Eval_2(allPred,holdout,user_column,item_column)\n",
        "        AllSteps_Hitrate.append(HitRate_)\n",
        "\n",
        "    LowerBand, Avg_HitRate, UpperBand  = mean_confidence_interval(AllSteps_Hitrate, confidence=0.95)\n",
        "    print(\"Average HitRate for All Recommendations: \", Avg_HitRate)\n",
        "    return AllSteps_Hitrate, LowerBand, Avg_HitRate, UpperBand    \n",
        "       "
      ],
      "execution_count": 236,
      "outputs": []
    },
    {
      "cell_type": "code",
      "execution_count": 233,
      "metadata": {},
      "outputs": [
        {
          "output_type": "stream",
          "name": "stdout",
          "text": [
            "300 1e-05 0.2\n"
          ]
        }
      ],
      "source": [
        "print(best_BS, best_lr_, best_weightdecay_)"
      ]
    },
    {
      "cell_type": "code",
      "metadata": {
        "id": "5hwBIEKY8NIq",
        "outputId": "ccb701e8-eafa-4b8f-e0db-f3d7b2b1ed4b"
      },
      "source": [
        "anneal_epochs = None  \n",
        "anneal_cap = 0.2\n",
        "constant_anneal = False\n",
        "update_count = 0\n",
        "anneal_n = 200\n",
        "bst_epochs = 100   #50\n",
        "ALLstep_PredList =  getVAE_AllPred(VAEmodel_untrain,UserItem_MATList,best_BS,best_lr_,best_weightdecay_,k=10)"
      ],
      "execution_count": 252,
      "outputs": [
        {
          "output_type": "stream",
          "name": "stderr",
          "text": [
            "100%|██████████| 100/100 [00:19<00:00,  5.22it/s]\n",
            "100%|██████████| 100/100 [00:20<00:00,  4.87it/s]\n",
            "100%|██████████| 100/100 [00:19<00:00,  5.09it/s]\n",
            "100%|██████████| 100/100 [00:20<00:00,  4.93it/s]\n",
            "100%|██████████| 100/100 [00:19<00:00,  5.03it/s]\n",
            "100%|██████████| 100/100 [00:19<00:00,  5.19it/s]\n",
            "100%|██████████| 100/100 [00:17<00:00,  5.64it/s]\n",
            "100%|██████████| 100/100 [00:21<00:00,  4.67it/s]\n",
            "100%|██████████| 100/100 [00:20<00:00,  4.80it/s]\n",
            "100%|██████████| 100/100 [00:20<00:00,  4.95it/s]\n"
          ]
        }
      ]
    },
    {
      "cell_type": "code",
      "execution_count": 253,
      "metadata": {},
      "outputs": [
        {
          "output_type": "stream",
          "name": "stdout",
          "text": [
            "10\n"
          ]
        },
        {
          "output_type": "execute_result",
          "data": {
            "text/plain": [
              "[array([[223, 221,  91, ..., 271,  59, 129],\n",
              "        [221,  12,  19, ...,  40,  22,   2],\n",
              "        [ 87,  22,  19, ..., 223,  59,   2],\n",
              "        ...,\n",
              "        [223, 221,  91, ...,  19, 271,  18],\n",
              "        [ 19,  91, 261, ..., 478,   2,  87],\n",
              "        [137,  24, 455, ...,  91,  62,  87]]),\n",
              " array([[223, 221, 261, ..., 461, 283, 271],\n",
              "        [ 19, 223,   2, ...,  24, 156,  18],\n",
              "        [ 19, 223,  87, ...,  22,  24, 455],\n",
              "        ...,\n",
              "        [221,   2, 223, ..., 461, 330,  18],\n",
              "        [223,  87,  19, ...,  40, 221, 461],\n",
              "        [ 40,  87, 223, ...,  22, 330,  19]])]"
            ]
          },
          "metadata": {},
          "execution_count": 253
        }
      ],
      "source": [
        "print(len(ALLstep_PredList))   ##100\n",
        "ALLstep_PredList[:2]"
      ]
    },
    {
      "cell_type": "code",
      "metadata": {
        "id": "3_rq-uIh8NIr",
        "outputId": "c04aec7e-7952-4736-c348-9fc0cde047ba"
      },
      "source": [
        "print(len(ALLstep_PredList))  ##50\n",
        "ALLstep_PredList[:2]"
      ],
      "execution_count": 238,
      "outputs": [
        {
          "output_type": "stream",
          "name": "stdout",
          "text": [
            "10\n"
          ]
        },
        {
          "output_type": "execute_result",
          "data": {
            "text/plain": [
              "[array([[  91,  223,  221, ...,  461,  408,   59],\n",
              "        [  19,  261,  223, ...,   22,    2,   40],\n",
              "        [ 223,   89,   73, ...,  312,   24,   27],\n",
              "        ...,\n",
              "        [2933,  170,  330, ...,  271,   19,  263],\n",
              "        [ 100,   27,  695, ...,  332,   62,   15],\n",
              "        [ 330,  556,  595, ...,  413,  112,   12]]),\n",
              " array([[261, 223,  62, ..., 455, 330, 283],\n",
              "        [  2,  22, 221, ...,  24,  18, 330],\n",
              "        [ 19, 223,   0, ...,  40,  87,  89],\n",
              "        ...,\n",
              "        [ 19,  91, 261, ...,  87,  12,  24],\n",
              "        [ 87,  19, 283, ..., 330, 221,  15],\n",
              "        [223,  19,  87, ..., 330,  73,  18]])]"
            ]
          },
          "metadata": {},
          "execution_count": 238
        }
      ]
    },
    {
      "cell_type": "code",
      "metadata": {
        "id": "mzvjV_-yHulL"
      },
      "source": [
        "with open('MLDF1M_VAEPredList.pkl', 'wb') as f:\n",
        "     pickle.dump(ALLstep_PredList, f)\n"
      ],
      "execution_count": 246,
      "outputs": []
    },
    {
      "cell_type": "markdown",
      "metadata": {
        "id": "vcoGO_f_HvOA"
      },
      "source": [
        "### HitRate_"
      ]
    },
    {
      "cell_type": "code",
      "metadata": {
        "id": "5PyD_zvo8NIs",
        "outputId": "1bcfd223-89f6-4882-eda2-511386646b81"
      },
      "source": [
        "newHOLDOUT_LIST[0].columns"
      ],
      "execution_count": 239,
      "outputs": [
        {
          "output_type": "execute_result",
          "data": {
            "text/plain": [
              "Index(['userId', 'productId', 'Updated_UserID', 'Updated_ItemID'], dtype='object')"
            ]
          },
          "metadata": {},
          "execution_count": 239
        }
      ]
    },
    {
      "cell_type": "code",
      "metadata": {
        "id": "zwA8-T0X8NIs",
        "outputId": "4d196ece-5aa5-4128-95dc-6259704e1f52"
      },
      "source": [
        "VAEHitrate_Eval_2(ALLstep_PredList[0],newHOLDOUT_LIST[0],'Updated_UserID', 'Updated_ItemID')"
      ],
      "execution_count": 254,
      "outputs": [
        {
          "output_type": "stream",
          "name": "stdout",
          "text": [
            "Number of hits:  10\nTotal Num of users:  233\nRecommendation HitRate:  0.04291845493562232\n"
          ]
        },
        {
          "output_type": "execute_result",
          "data": {
            "text/plain": [
              "0.04291845493562232"
            ]
          },
          "metadata": {},
          "execution_count": 254
        }
      ]
    },
    {
      "cell_type": "code",
      "execution_count": 260,
      "metadata": {},
      "outputs": [],
      "source": [
        "#getAll_VAEHitRate(HOLDOUT_list,All_TOPN_PRED,user_column,item_column)\n",
        "#getAll_VAEHitRate(newHOLDOUT_LIST,ALLstep_PredList,'Updated_UserID', 'Updated_ItemID')"
      ]
    },
    {
      "cell_type": "code",
      "metadata": {
        "id": "5ogj8_kM8NIt",
        "outputId": "f91d4278-5685-4dfa-985e-76c0e5007584"
      },
      "source": [
        "#getAll_VAEHitRate(HOLDOUT_list,All_TOPN_PRED,user_column,item_column)\n",
        "getAll_VAEHitRate(newHOLDOUT_LIST,ALLstep_PredList,'Updated_UserID', 'Updated_ItemID')"
      ],
      "execution_count": 241,
      "outputs": [
        {
          "output_type": "stream",
          "name": "stdout",
          "text": [
            "Number of hits:  12\nTotal Num of users:  233\nRecommendation HitRate:  0.05150214592274678\nNumber of hits:  7\nTotal Num of users:  255\nRecommendation HitRate:  0.027450980392156862\nNumber of hits:  12\nTotal Num of users:  286\nRecommendation HitRate:  0.04195804195804196\nNumber of hits:  8\nTotal Num of users:  309\nRecommendation HitRate:  0.025889967637540454\nNumber of hits:  19\nTotal Num of users:  468\nRecommendation HitRate:  0.0405982905982906\nNumber of hits:  22\nTotal Num of users:  526\nRecommendation HitRate:  0.04182509505703422\nNumber of hits:  16\nTotal Num of users:  517\nRecommendation HitRate:  0.030947775628626693\nNumber of hits:  20\nTotal Num of users:  470\nRecommendation HitRate:  0.0425531914893617\nNumber of hits:  29\nTotal Num of users:  453\nRecommendation HitRate:  0.0640176600441501\nNumber of hits:  15\nTotal Num of users:  362\nRecommendation HitRate:  0.04143646408839779\nAverage HitRate for All Recommendations:  0.040817961281634715\n"
          ]
        },
        {
          "output_type": "execute_result",
          "data": {
            "text/plain": [
              "([0.05150214592274678,\n",
              "  0.027450980392156862,\n",
              "  0.04195804195804196,\n",
              "  0.025889967637540454,\n",
              "  0.0405982905982906,\n",
              "  0.04182509505703422,\n",
              "  0.030947775628626693,\n",
              "  0.0425531914893617,\n",
              "  0.0640176600441501,\n",
              "  0.04143646408839779],\n",
              " 0.03270681252766698,\n",
              " 0.040817961281634715,\n",
              " 0.04892911003560245)"
            ]
          },
          "metadata": {},
          "execution_count": 241
        }
      ]
    },
    {
      "cell_type": "code",
      "metadata": {
        "id": "MNlMu2Jd8NIu"
      },
      "source": [],
      "execution_count": null,
      "outputs": []
    },
    {
      "cell_type": "markdown",
      "metadata": {
        "id": "chL9EGivHZjG"
      },
      "source": [
        "###Stability Check"
      ]
    },
    {
      "cell_type": "code",
      "metadata": {
        "id": "SeF86kPN8NJP",
        "outputId": "0e95bc2c-2c0b-4ea4-a7f1-138af253f818"
      },
      "source": [
        "AllSteps = list(range(1,10))\n",
        "print(len(AllSteps))\n",
        "AllSteps  "
      ],
      "execution_count": 242,
      "outputs": [
        {
          "output_type": "stream",
          "name": "stdout",
          "text": [
            "9\n"
          ]
        },
        {
          "output_type": "execute_result",
          "data": {
            "text/plain": [
              "[1, 2, 3, 4, 5, 6, 7, 8, 9]"
            ]
          },
          "metadata": {},
          "execution_count": 242
        }
      ]
    },
    {
      "cell_type": "code",
      "metadata": {
        "id": "PL0Ijm0w8NJQ",
        "outputId": "5a239dff-157d-42ef-af67-ab410b6260f2"
      },
      "source": [
        "newUserItem_list[0].columns"
      ],
      "execution_count": 243,
      "outputs": [
        {
          "output_type": "execute_result",
          "data": {
            "text/plain": [
              "Index(['userId', 'productId', 'Updated_UserID', 'Updated_ItemID'], dtype='object')"
            ]
          },
          "metadata": {},
          "execution_count": 243
        }
      ]
    },
    {
      "cell_type": "code",
      "execution_count": 256,
      "metadata": {},
      "outputs": [
        {
          "output_type": "execute_result",
          "data": {
            "text/plain": [
              "array([array([0.74574267, 0.22293099, 0.30544747, ..., 0.23366204, 0.29627678,\n",
              "              0.28320584])                                                    ,\n",
              "       array([0.        , 0.08321104, 0.46201842, ..., 0.04457968, 0.03534858,\n",
              "              0.04791652])                                                    ,\n",
              "       array([0.23469388, 0.46057188, 0.25420561, ..., 0.35232686, 0.        ,\n",
              "              0.20851412])                                                    ,\n",
              "       array([0.24710653, 0.20722931, 0.5327588 , ..., 0.15626224, 0.13842832,\n",
              "              0.57042553])                                                    ,\n",
              "       array([0.31357893, 0.12386753, 0.46361293, ..., 0.36281388, 0.13449124,\n",
              "              0.33653237])                                                    ,\n",
              "       array([0.27698962, 0.04199901, 0.24311579, ..., 0.23614135, 0.09331951,\n",
              "              0.16392021])                                                    ,\n",
              "       array([0.42683163, 0.61739893, 0.12326891, ..., 0.55356767, 0.57983733,\n",
              "              0.06839401])                                                    ,\n",
              "       array([0.1804878 , 0.59952324, 0.19967493, ..., 0.30107527, 0.14870438,\n",
              "              0.23655554])                                                    ,\n",
              "       array([0.09526636, 0.37885298, 0.26930353, ..., 0.44753873, 0.13449124,\n",
              "              0.        ])                                                    ],\n",
              "      dtype=object)"
            ]
          },
          "metadata": {},
          "execution_count": 256
        }
      ],
      "source": [
        "VAECorr_ = Updt_getAll_AvgCorr(ALLstep_PredList,newUserItem_list,AllSteps,'Updated_UserID')  #,\n",
        "VAECorr_"
      ]
    },
    {
      "cell_type": "code",
      "execution_count": 259,
      "metadata": {},
      "outputs": [],
      "source": [
        "# print(VAECorr_.shape)\n",
        "# for df in VAECorr_:\n",
        "#     print(df.mean())  "
      ]
    },
    {
      "cell_type": "code",
      "metadata": {
        "id": "I952Pke78NJR",
        "outputId": "537c0d51-161b-437a-e4a2-8ff7dd5e8b82"
      },
      "source": [
        "# VAECorr_ = Updt_getAll_AvgCorr(ALLstep_PredList,newUserItem_list,AllSteps,'Updated_UserID')  #,\n",
        "# VAECorr_"
      ],
      "execution_count": 258,
      "outputs": []
    },
    {
      "cell_type": "code",
      "metadata": {
        "id": "EM0n2mt08NJS",
        "outputId": "f63a027c-d961-4757-d564-d02cb7d6124a"
      },
      "source": [
        "print(VAECorr_.shape)   #50\n",
        "    print(df.mean())  "
      ],
      "execution_count": 245,
      "outputs": [
        {
          "output_type": "stream",
          "name": "stdout",
          "text": [
            "(9,)\n0.39702879229666665\n0.4157991349449941\n0.43218495599712753\n0.38141795006644386\n0.3587914848103854\n0.3869316534308683\n0.34219130180373897\n0.3519408456708518\n0.36409856994483464\n"
          ]
        }
      ]
    },
    {
      "cell_type": "code",
      "metadata": {
        "id": "jhLdobrK8NJU"
      },
      "source": [
        "##mrr_\n",
        "VAE_AllStepsMRR, VAE_LBand, VAE_AvgMRR, VAE_UBand  = getAll_VAEMRR(newHOLDOUT_LIST,ALLstep_PredList,'Updated_UserID','Updated_ItemID')\n",
        "VAE_AllStepsMRR"
      ],
      "execution_count": 247,
      "outputs": [
        {
          "output_type": "stream",
          "name": "stderr",
          "text": [
            "10it [00:00, 565.12it/s]\n"
          ]
        },
        {
          "output_type": "execute_result",
          "data": {
            "text/plain": [
              "[0.012876,\n",
              " 0.008573,\n",
              " 0.016909,\n",
              " 0.012045,\n",
              " 0.011844,\n",
              " 0.018922,\n",
              " 0.01007,\n",
              " 0.015277,\n",
              " 0.023361,\n",
              " 0.017671]"
            ]
          },
          "metadata": {},
          "execution_count": 247
        }
      ]
    },
    {
      "cell_type": "code",
      "execution_count": 248,
      "metadata": {},
      "outputs": [
        {
          "output_type": "stream",
          "name": "stdout",
          "text": [
            "0.011517135847101786 0.014754799999999998 0.01799246415289821\n"
          ]
        }
      ],
      "source": [
        "print(VAE_LBand, VAE_AvgMRR, VAE_UBand)"
      ]
    },
    {
      "cell_type": "code",
      "execution_count": 250,
      "metadata": {},
      "outputs": [
        {
          "output_type": "execute_result",
          "data": {
            "text/plain": [
              "[0.22587,\n",
              " 0.119445,\n",
              " 0.115766,\n",
              " 0.109539,\n",
              " 0.105859,\n",
              " 0.112652,\n",
              " 0.122276,\n",
              " 0.125106,\n",
              " 0.159638,\n",
              " 0.178319]"
            ]
          },
          "metadata": {},
          "execution_count": 250
        }
      ],
      "source": [
        "##Coverage...:\n",
        "VAE_AvgCoverageList = AllSteps_Coverage_Ratio(newMLDF_1M,ALLstep_PredList,'Updated_ItemID')\n",
        "VAE_AvgCoverageList"
      ]
    },
    {
      "cell_type": "code",
      "execution_count": null,
      "metadata": {},
      "outputs": [],
      "source": []
    }
  ]
}