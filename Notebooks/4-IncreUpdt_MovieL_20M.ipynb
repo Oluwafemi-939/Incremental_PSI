{
  "nbformat": 4,
  "nbformat_minor": 0,
  "metadata": {
    "colab": {
      "name": "IncreUpdt_MovieL_20M.ipynb",
      "provenance": [],
      "collapsed_sections": [],
      "toc_visible": true
    },
    "kernelspec": {
      "name": "python392jvsc74a57bd01d40221c0336dfe0c468749ccfbce19a4d0ada951efb74219fd3ebf7d78ddc70",
      "display_name": "Python 3.9.2 64-bit ('PSI_project': conda)"
    },
    "language_info": {
      "codemirror_mode": {
        "name": "ipython",
        "version": 3
      },
      "file_extension": ".py",
      "mimetype": "text/x-python",
      "name": "python",
      "nbconvert_exporter": "python",
      "pygments_lexer": "ipython3",
      "version": "3.9.2"
    },
    "metadata": {
      "interpreter": {
        "hash": "1d40221c0336dfe0c468749ccfbce19a4d0ada951efb74219fd3ebf7d78ddc70"
      }
    }
  },
  "cells": [
    {
      "cell_type": "code",
      "metadata": {
        "id": "pQmFnJS3_wQR"
      },
      "source": [
        ""
      ],
      "execution_count": null,
      "outputs": []
    },
    {
      "cell_type": "markdown",
      "metadata": {
        "id": "P9ewr-a7RIil"
      },
      "source": [
        "- This notebook contains experiments for the MovieLen_20M Dataset for the following models:\n",
        "\n",
        "- **Updated PSI**\n",
        "\n",
        "- **Regular PSI**\n",
        "\n",
        "- **Pure SVD**\n",
        "\n",
        "- **Most Pop**\n",
        "\n",
        "- **Rand Rec**"
      ]
    },
    {
      "cell_type": "code",
      "metadata": {
        "id": "Pwh8F-1Y-ORA"
      },
      "source": [
        "import os                                  #Hello2021\n",
        "os.environ[\"OMP_NUM_THREADS\"] = \"8\"        #\"export\" OMP_NUM_THREADS=4\n",
        "os.environ[\"OPENBLAS_NUM_THREADS\"] = \"8\"   #\"export\" OPENBLAS_NUM_THREADS=4 \n",
        "os.environ[\"MKL_NUM_THREADS\"] = \"8\"        #\"export\" MKL_NUM_THREADS=6\n",
        "os.environ[\"VECLIB_MAXIMUM_THREADS\"] = \"8\" #\"export\" VECLIB_MAXIMUM_THREADS=4\n",
        "os.environ[\"NUMEXPR_NUM_THREADS\"] = \"8\"    #Hello2021"
      ],
      "execution_count": null,
      "outputs": []
    },
    {
      "cell_type": "markdown",
      "metadata": {
        "id": "waGNRsQkGt3t"
      },
      "source": [
        "## Imports"
      ]
    },
    {
      "cell_type": "code",
      "metadata": {
        "id": "LSMrVzzrFcnl"
      },
      "source": [
        "import io\n",
        "import os\n",
        "import gzip\n",
        "import json\n",
        "import scipy\n",
        "import random\n",
        "import warnings\n",
        "import numpy as np\n",
        "import numba as nb\n",
        "import pandas as pd\n",
        "import datetime as dt\n",
        "import seaborn as sns\n",
        "from tqdm import tqdm\n",
        "import scipy.stats as st\n",
        "from collections import OrderedDict\n",
        "import scipy.sparse as sparse\n",
        "from scipy.linalg import orth\n",
        "import matplotlib.pyplot as plt\n",
        "from numpy import linalg as lin\n",
        "import implicit\n",
        "import pickle\n",
        "warnings.filterwarnings('ignore')\n",
        "from scipy.sparse import coo_matrix\n",
        "from scipy.sparse.linalg import svds\n",
        "from datetime import datetime as dt_dt\n",
        "from scipy.sparse.linalg import spsolve\n",
        "from numpy.linalg import qr as QR_decomp\n",
        "from scipy.sparse import csr_matrix, find\n",
        "from pandas.api.types import CategoricalDtype\n",
        "from typing import List\n",
        "import torch\n",
        "import torch.nn.functional as F\n",
        "from torch import nn\n",
        "from polara.evaluation.pipelines import random_grid\n",
        "import bottleneck as bn"
      ],
      "execution_count": null,
      "outputs": []
    },
    {
      "cell_type": "markdown",
      "metadata": {
        "id": "IkLZJhQWqaPp"
      },
      "source": [
        "## Functions"
      ]
    },
    {
      "cell_type": "code",
      "metadata": {
        "id": "Uvv8Q8zR7OAn"
      },
      "source": [
        "import sys\n",
        "sys.path.append('/home/oolaleke/incremental_PSI/Scripts/')\n",
        "#sys.path.append('/content/')"
      ],
      "execution_count": null,
      "outputs": []
    },
    {
      "cell_type": "code",
      "metadata": {
        "id": "qoOQOsCf7849"
      },
      "source": [
        "import a_DataHelpers\n",
        "import b_AlgoFunctions\n",
        "import c_PredEval\n",
        "import d_CorrScores\n",
        "import e_VAEfunction"
      ],
      "execution_count": null,
      "outputs": []
    },
    {
      "cell_type": "code",
      "metadata": {
        "id": "slSdgbc1XxNT"
      },
      "source": [
        "from a_DataHelpers import getPivotMonths,Time_DataSplit,TestTrain_DataSplit,SingleRatingMatrix\n",
        "from a_DataHelpers import AllRatingMatrices,All_SingleStepRatMat,psiStep_RatMat,psiAllStep_RatMat\n",
        "from a_DataHelpers import Find_NewUsersItems,adjustedPSI_DF,adjustedAllDF,get_NEWHoldout,ADJUST_mainDF\n",
        "from a_DataHelpers import  SingleStepRatMat_2,AllSingleStepRatMat_2\n",
        "\n",
        "from b_AlgoFunctions import integrator,getStartingValues,integratorOnMat,last_psiTrainMat, pureSVD\n",
        "from b_AlgoFunctions import Updt_RowMatrix,getRow_Mat,row_update, Updt_ColMatrix,getCol_Mat,colunm_update\n",
        "from b_AlgoFunctions import UsersItems_RatPair,getRowCol_psiupdt,ITEMS_defferredStatus,USERS_defferredStatus\n",
        "from b_AlgoFunctions import getV_listUpdate, SingleStep_UPDATE,ALLSTEPs_UPDATE, auc_score,TrainTest\n",
        "from b_AlgoFunctions import mean_auc,tune_ALS,nonzeros,least_squares_cg,alternating_least_squares_cg\n",
        "\n",
        "from c_PredEval import TopNPred,TQDMgetALLTopNPred, Hitrate_Eval,getAll_HitRate,mean_confidence_interval\n",
        "from c_PredEval import TQDMgetALLTopNPred_ALLUSERS,getALLTopNPred_ALLUSERS,get_ALLRandPred\n",
        "from c_PredEval import topN_Index,getAll_RandomHitRate,getMOSTPOP_Pred,getAll_MostPOPHitRate,getAll_MOSTPOP_Pred\n",
        "from c_PredEval import StepCoverage_Ratio,AllSteps_Coverage_Ratio,getAll_VAEMRR, MRR_Eval,getAll_MRR_Eval\n",
        "from c_PredEval import TQDMgetAll_MRR_Eval, getAll_MostPOP_MRR,getAll_RandomRecMRR, ials_TopNPred,ials_getALLPred\n",
        "from c_PredEval import ials_getALLPredTQDM,ials_ALLUSERSpred,ialsALLPred_ALLUSERS,TQDM_ialsALLPred_ALLUSERS\n",
        "\n",
        "from d_CorrScores import no_copy_csr_matrix,build_rank_weights_matrix,rank_weighted_jaccard_index\n",
        "from d_CorrScores import Updt_getAll_AvgCorr, updtCorr_4AllRanks\n",
        "\n",
        "from e_VAEfunction import split_users, split_train_test, numerize_data, get_TrainRatMat, getTrainTest_RatMat\n"
      ],
      "execution_count": null,
      "outputs": []
    },
    {
      "cell_type": "code",
      "metadata": {
        "id": "6dVRruiuAprP"
      },
      "source": [
        "#######################################################################\n",
        "def SingleStepRatMat_2(DF,U,V,user_column,item_column):  ##rows_ = n_users,cols_ = n_items\n",
        "    rows_ = U.shape[0]\n",
        "    cols_ = V.shape[0] \n",
        "    \n",
        "    rows0 = DF[user_column].values\n",
        "    cols0 = DF[item_column].values\n",
        "    data  = np.broadcast_to(1., DF.shape[0]) # ignore ratings\n",
        "\n",
        "    A0_Rating_matrix = coo_matrix((data, (rows0, cols0)), shape=(rows_, cols_)).tocsr()\n",
        "    if A0_Rating_matrix.nnz < len(data):\n",
        "        A0_Rating_matrix = A0_Rating_matrix._with_data(np.broadcast_to(1., A0_Rating_matrix.nnz), copy=False)\n",
        "\n",
        "    return A0_Rating_matrix\n",
        "\n",
        "def AllSingleStepRatMat_2(DFList,Ulist,Vlist,user_column,item_column):\n",
        "    Rating_matrix_list = []\n",
        "    for DF,U,V, in zip(DFList,Ulist,Vlist):\n",
        "        df_Mat = SingleStepRatMat_2(DF,U,V,user_column,item_column)\n",
        "        Rating_matrix_list.append(df_Mat)\n",
        "    return Rating_matrix_list              \n"
      ],
      "execution_count": null,
      "outputs": []
    },
    {
      "cell_type": "markdown",
      "metadata": {
        "id": "e556n8BpXy0b"
      },
      "source": [
        "## Apply Functions on *MovieLenDF*"
      ]
    },
    {
      "cell_type": "markdown",
      "metadata": {
        "id": "Kq7VUKhmJPxP"
      },
      "source": [
        "# Data Preparation"
      ]
    },
    {
      "cell_type": "code",
      "metadata": {
        "id": "hE6KEjteGV3c",
        "outputId": "75f356b0-1b4c-4624-a6bf-3076bfaca93b"
      },
      "source": [
        "#MLDF_20M = pd.read_csv('/mnt/bulky/oolaleke/TDM_Dataset/newIncreMLDF_20M.csv.zip') \n",
        "MLDF_20M = pd.read_csv('/mnt/bulky/oolaleke/TDM_Dataset/MLDF_20M.csv.zip') \n",
        "MLDF_20M['timestamp'] = pd.to_datetime(MLDF_20M['timestamp']) \n",
        "print(MLDF_20M.shape)   #\n",
        "print(MLDF_20M.dtypes)\n",
        "MLDF_20M"
      ],
      "execution_count": null,
      "outputs": [
        {
          "output_type": "stream",
          "text": [
            "(9990682, 7)\n",
            "userid                   int64\n",
            "movieId                  int64\n",
            "rating                   int64\n",
            "timestamp       datetime64[ns]\n",
            "timestamp_YM            object\n",
            "userId                   int64\n",
            "productId                int64\n",
            "dtype: object\n"
          ],
          "name": "stdout"
        },
        {
          "output_type": "execute_result",
          "data": {
            "text/plain": [
              "         userid  movieId  rating           timestamp timestamp_YM  userId  \\\n",
              "0         28507     1176       1 1995-01-09 11:46:44      1995-01       0   \n",
              "1        131160       47       1 1995-01-09 11:46:49      1995-01       1   \n",
              "2         85252       70       1 1996-01-29 00:00:00      1996-01       2   \n",
              "3        134445       45       1 1996-01-29 00:00:00      1996-01       3   \n",
              "4         99851       10       1 1996-01-29 00:00:00      1996-01       4   \n",
              "...         ...      ...     ...                 ...          ...     ...   \n",
              "9990677   57814     3527       1 2015-03-31 05:44:17      2015-03  136366   \n",
              "9990678   57814    48774       1 2015-03-31 05:44:23      2015-03  136366   \n",
              "9990679   57814     1240       1 2015-03-31 05:50:01      2015-03  136366   \n",
              "9990680   57814     2311       1 2015-03-31 05:51:23      2015-03  136366   \n",
              "9990681   89081    52458       1 2015-03-31 06:11:28      2015-03  108996   \n",
              "\n",
              "         productId  \n",
              "0                0  \n",
              "1                1  \n",
              "2                2  \n",
              "3                3  \n",
              "4                4  \n",
              "...            ...  \n",
              "9990677       3314  \n",
              "9990678       9045  \n",
              "9990679       1073  \n",
              "9990680       2129  \n",
              "9990681       9228  \n",
              "\n",
              "[9990682 rows x 7 columns]"
            ],
            "text/html": [
              "<div>\n",
              "<style scoped>\n",
              "    .dataframe tbody tr th:only-of-type {\n",
              "        vertical-align: middle;\n",
              "    }\n",
              "\n",
              "    .dataframe tbody tr th {\n",
              "        vertical-align: top;\n",
              "    }\n",
              "\n",
              "    .dataframe thead th {\n",
              "        text-align: right;\n",
              "    }\n",
              "</style>\n",
              "<table border=\"1\" class=\"dataframe\">\n",
              "  <thead>\n",
              "    <tr style=\"text-align: right;\">\n",
              "      <th></th>\n",
              "      <th>userid</th>\n",
              "      <th>movieId</th>\n",
              "      <th>rating</th>\n",
              "      <th>timestamp</th>\n",
              "      <th>timestamp_YM</th>\n",
              "      <th>userId</th>\n",
              "      <th>productId</th>\n",
              "    </tr>\n",
              "  </thead>\n",
              "  <tbody>\n",
              "    <tr>\n",
              "      <th>0</th>\n",
              "      <td>28507</td>\n",
              "      <td>1176</td>\n",
              "      <td>1</td>\n",
              "      <td>1995-01-09 11:46:44</td>\n",
              "      <td>1995-01</td>\n",
              "      <td>0</td>\n",
              "      <td>0</td>\n",
              "    </tr>\n",
              "    <tr>\n",
              "      <th>1</th>\n",
              "      <td>131160</td>\n",
              "      <td>47</td>\n",
              "      <td>1</td>\n",
              "      <td>1995-01-09 11:46:49</td>\n",
              "      <td>1995-01</td>\n",
              "      <td>1</td>\n",
              "      <td>1</td>\n",
              "    </tr>\n",
              "    <tr>\n",
              "      <th>2</th>\n",
              "      <td>85252</td>\n",
              "      <td>70</td>\n",
              "      <td>1</td>\n",
              "      <td>1996-01-29 00:00:00</td>\n",
              "      <td>1996-01</td>\n",
              "      <td>2</td>\n",
              "      <td>2</td>\n",
              "    </tr>\n",
              "    <tr>\n",
              "      <th>3</th>\n",
              "      <td>134445</td>\n",
              "      <td>45</td>\n",
              "      <td>1</td>\n",
              "      <td>1996-01-29 00:00:00</td>\n",
              "      <td>1996-01</td>\n",
              "      <td>3</td>\n",
              "      <td>3</td>\n",
              "    </tr>\n",
              "    <tr>\n",
              "      <th>4</th>\n",
              "      <td>99851</td>\n",
              "      <td>10</td>\n",
              "      <td>1</td>\n",
              "      <td>1996-01-29 00:00:00</td>\n",
              "      <td>1996-01</td>\n",
              "      <td>4</td>\n",
              "      <td>4</td>\n",
              "    </tr>\n",
              "    <tr>\n",
              "      <th>...</th>\n",
              "      <td>...</td>\n",
              "      <td>...</td>\n",
              "      <td>...</td>\n",
              "      <td>...</td>\n",
              "      <td>...</td>\n",
              "      <td>...</td>\n",
              "      <td>...</td>\n",
              "    </tr>\n",
              "    <tr>\n",
              "      <th>9990677</th>\n",
              "      <td>57814</td>\n",
              "      <td>3527</td>\n",
              "      <td>1</td>\n",
              "      <td>2015-03-31 05:44:17</td>\n",
              "      <td>2015-03</td>\n",
              "      <td>136366</td>\n",
              "      <td>3314</td>\n",
              "    </tr>\n",
              "    <tr>\n",
              "      <th>9990678</th>\n",
              "      <td>57814</td>\n",
              "      <td>48774</td>\n",
              "      <td>1</td>\n",
              "      <td>2015-03-31 05:44:23</td>\n",
              "      <td>2015-03</td>\n",
              "      <td>136366</td>\n",
              "      <td>9045</td>\n",
              "    </tr>\n",
              "    <tr>\n",
              "      <th>9990679</th>\n",
              "      <td>57814</td>\n",
              "      <td>1240</td>\n",
              "      <td>1</td>\n",
              "      <td>2015-03-31 05:50:01</td>\n",
              "      <td>2015-03</td>\n",
              "      <td>136366</td>\n",
              "      <td>1073</td>\n",
              "    </tr>\n",
              "    <tr>\n",
              "      <th>9990680</th>\n",
              "      <td>57814</td>\n",
              "      <td>2311</td>\n",
              "      <td>1</td>\n",
              "      <td>2015-03-31 05:51:23</td>\n",
              "      <td>2015-03</td>\n",
              "      <td>136366</td>\n",
              "      <td>2129</td>\n",
              "    </tr>\n",
              "    <tr>\n",
              "      <th>9990681</th>\n",
              "      <td>89081</td>\n",
              "      <td>52458</td>\n",
              "      <td>1</td>\n",
              "      <td>2015-03-31 06:11:28</td>\n",
              "      <td>2015-03</td>\n",
              "      <td>108996</td>\n",
              "      <td>9228</td>\n",
              "    </tr>\n",
              "  </tbody>\n",
              "</table>\n",
              "<p>9990682 rows × 7 columns</p>\n",
              "</div>"
            ]
          },
          "metadata": {
            "tags": []
          },
          "execution_count": 9
        }
      ]
    },
    {
      "cell_type": "code",
      "metadata": {
        "colab": {
          "base_uri": "https://localhost:8080/"
        },
        "id": "2XWFDaGwFFCR",
        "outputId": "3fdc693b-c261-4c90-c686-89a29fab2ad9"
      },
      "source": [
        "print(MLDF_20M.shape)\n",
        "print(\"For users: \")\n",
        "print(MLDF_20M['userId'].nunique())\n",
        "print(MLDF_20M['userId'].max())\n",
        "print()\n",
        "print(\"For items: \")\n",
        "print(MLDF_20M['productId'].nunique())\n",
        "print(MLDF_20M['productId'].max())\n",
        "print()\n",
        "print(\"Timestamp\")\n",
        "print(MLDF_20M['timestamp'].min())\n",
        "print(MLDF_20M['timestamp'].max())"
      ],
      "execution_count": null,
      "outputs": [
        {
          "output_type": "stream",
          "text": [
            "(9990682, 7)\n",
            "For users: \n",
            "136677\n",
            "136676\n",
            "\n",
            "For items: \n",
            "20720\n",
            "20719\n",
            "\n",
            "Timestamp\n",
            "1995-01-09 11:46:44\n",
            "2015-03-31 06:11:28\n"
          ],
          "name": "stdout"
        }
      ]
    },
    {
      "cell_type": "code",
      "metadata": {
        "id": "xlbzMS4hGeF3",
        "outputId": "7137079e-05e3-418d-fc18-b46846117333"
      },
      "source": [
        "nunsers = MLDF_20M['userId'].nunique()\n",
        "nitems = MLDF_20M['productId'].nunique()\n",
        "print(\"Num of unique users: \",nunsers)\n",
        "print(\"Num of unique items: \",nitems)\n",
        "print()\n",
        "sparsity = (1. * MLDF_20M.shape[0]) / (nunsers * nitems)\n",
        "print(\"After filtering, there are %d inyteractions from %d users and %d items (sparsity: %.3f%%)\" % \n",
        "      (MLDF_20M.shape[0], nunsers, nitems, sparsity * 100))"
      ],
      "execution_count": null,
      "outputs": [
        {
          "output_type": "stream",
          "text": [
            "Num of unique users:  136677\n",
            "Num of unique items:  20720\n",
            "\n",
            "After filtering, there are 9990682 inyteractions from 136677 users and 20720 items (sparsity: 0.353%)\n"
          ],
          "name": "stdout"
        }
      ]
    },
    {
      "cell_type": "markdown",
      "metadata": {
        "id": "KwnnNu5ISAOR"
      },
      "source": [
        "**Data Split**"
      ]
    },
    {
      "cell_type": "code",
      "metadata": {
        "colab": {
          "base_uri": "https://localhost:8080/"
        },
        "id": "iMlutJ-GSAOT",
        "outputId": "a50b2e42-5c64-4264-cbbf-96f44bab0809"
      },
      "source": [
        "print(\"Size of Dataset: \", MLDF_20M.shape)\n",
        "print('Min Date: ', MLDF_20M['timestamp'].min())\n",
        "print(\"Max Date: \",MLDF_20M['timestamp'].max())"
      ],
      "execution_count": null,
      "outputs": [
        {
          "output_type": "stream",
          "text": [
            "Size of Dataset:  (9990682, 7)\n",
            "Min Date:  1995-01-09 11:46:44\n",
            "Max Date:  2015-03-31 06:11:28\n"
          ],
          "name": "stdout"
        }
      ]
    },
    {
      "cell_type": "code",
      "metadata": {
        "colab": {
          "base_uri": "https://localhost:8080/"
        },
        "id": "Jqqxa8AOSAOd",
        "outputId": "71798581-1161-4a56-9c83-46298fdf5517"
      },
      "source": [
        "train_df = MLDF_20M[MLDF_20M['timestamp_YM'] < '2010-01']    #'2016-02\n",
        "print(\"DF Shape: \",train_df['userId'].shape)  ##63%\n",
        "print(\"NUsers  : \",train_df['userId'].nunique())\n",
        "print(\"max Ids  : \",train_df['userId'].max(),train_df['productId'].max())"
      ],
      "execution_count": null,
      "outputs": [
        {
          "output_type": "stream",
          "text": [
            "DF Shape:  (8066566,)\n",
            "NUsers  :  112109\n",
            "max Ids  :  112108 12063\n"
          ],
          "name": "stdout"
        }
      ]
    },
    {
      "cell_type": "code",
      "metadata": {
        "colab": {
          "base_uri": "https://localhost:8080/"
        },
        "id": "XkUSFKB1SAOe",
        "outputId": "ff91b6bf-4f5a-45fd-c9bb-7a5746118748"
      },
      "source": [
        "remainder_df = MLDF_20M[MLDF_20M['timestamp_YM'] >= '2010-01']  \n",
        "print(\"DF Shape: \",remainder_df['userId'].shape)  ##63%\n",
        "print(\"NUsers  : \",remainder_df['userId'].nunique())\n",
        "#print(\"max Ids  : \",remainder_df['userId'].min(),remainder_df['productId'].min())"
      ],
      "execution_count": null,
      "outputs": [
        {
          "output_type": "stream",
          "text": [
            "DF Shape:  (1924116,)\n",
            "NUsers  :  30094\n"
          ],
          "name": "stdout"
        }
      ]
    },
    {
      "cell_type": "code",
      "metadata": {
        "colab": {
          "base_uri": "https://localhost:8080/"
        },
        "id": "6TDHVuxGSAOf",
        "outputId": "0526a446-9cdf-465e-c2fb-ffd4edcc51c3"
      },
      "source": [
        "n = 80200  #num_of_interaction/no_steps\n",
        "all_df = []\n",
        "for g, df in remainder_df.groupby(np.arange(len(remainder_df)) // n):\n",
        "    all_df.append(df)\n",
        "    print(df['userId'].nunique())\n",
        "print()\n",
        "print(g+1)    "
      ],
      "execution_count": null,
      "outputs": [
        {
          "output_type": "stream",
          "text": [
            "3322\n",
            "3482\n",
            "3194\n",
            "3142\n",
            "3224\n",
            "3536\n",
            "3559\n",
            "3263\n",
            "3562\n",
            "3459\n",
            "3311\n",
            "3124\n",
            "3115\n",
            "3165\n",
            "3098\n",
            "3169\n",
            "3129\n",
            "3192\n",
            "3409\n",
            "3267\n",
            "3077\n",
            "2772\n",
            "2644\n",
            "2730\n",
            "\n",
            "24\n"
          ],
          "name": "stdout"
        }
      ]
    },
    {
      "cell_type": "code",
      "metadata": {
        "id": "7unyvVfk-OR9",
        "outputId": "d4513c76-ed18-4bcf-cf69-bf1a18db2271"
      },
      "source": [
        "for i in range(5):\n",
        "    print(all_df[i]['timestamp'].min()) \n",
        "    print(all_df[i]['timestamp'].max())\n",
        "    print()"
      ],
      "execution_count": null,
      "outputs": [
        {
          "output_type": "stream",
          "text": [
            "2010-01-01 00:01:13\n",
            "2010-03-08 08:53:21\n",
            "\n",
            "2010-03-08 08:53:27\n",
            "2010-05-27 20:50:21\n",
            "\n",
            "2010-05-27 20:51:00\n",
            "2010-08-07 17:30:17\n",
            "\n",
            "2010-08-07 17:30:18\n",
            "2010-10-01 02:39:05\n",
            "\n",
            "2010-10-01 02:39:10\n",
            "2010-12-03 14:19:53\n",
            "\n"
          ],
          "name": "stdout"
        }
      ]
    },
    {
      "cell_type": "markdown",
      "metadata": {
        "id": "CfrlfYwtg0RR"
      },
      "source": [
        "**Traintest Split**"
      ]
    },
    {
      "cell_type": "code",
      "metadata": {
        "id": "3gAygjGd8NFK",
        "colab": {
          "base_uri": "https://localhost:8080/"
        },
        "outputId": "b819133d-8aa2-431f-bb5a-224e80dd08e3"
      },
      "source": [
        "A0_df = train_df  \n",
        "print(\"Initial Training Data: \") \n",
        "print(\"Start Time: \",A0_df['timestamp'].min())\n",
        "print(\"End Time:   \",A0_df['timestamp'].max())\n",
        "print()\n",
        "print(\"Num of interactions: \",A0_df.shape[0])\n",
        "print(\"Num of uniqueUsers:  \",A0_df['userId'].nunique())"
      ],
      "execution_count": null,
      "outputs": [
        {
          "output_type": "stream",
          "text": [
            "Initial Training Data: \n",
            "Start Time:  1995-01-09 11:46:44\n",
            "End Time:    2009-12-31 23:59:17\n",
            "\n",
            "Num of interactions:  8066566\n",
            "Num of uniqueUsers:   112109\n"
          ],
          "name": "stdout"
        }
      ]
    },
    {
      "cell_type": "code",
      "metadata": {
        "id": "rGt6Ko-N-OSB",
        "outputId": "65863240-ad49-4376-c0d8-8191a41b09dc"
      },
      "source": [
        "print(\"max of userId     :  \",A0_df['userId'].max())\n",
        "print(\"max of productId  :  \",A0_df['productId'].max())"
      ],
      "execution_count": null,
      "outputs": [
        {
          "output_type": "stream",
          "text": [
            "max of userId     :   112108\n",
            "max of productId  :   12063\n"
          ],
          "name": "stdout"
        }
      ]
    },
    {
      "cell_type": "code",
      "metadata": {
        "id": "FSvG81Gs8NFL",
        "colab": {
          "base_uri": "https://localhost:8080/"
        },
        "outputId": "5e2ab424-5b82-40ad-9b4d-e24c9caae7f1"
      },
      "source": [
        "ΔA_train = all_df[:9] \n",
        "print(\"Incremental Train steps: \",len(ΔA_train))\n",
        "print(\"Start Time: \",ΔA_train[0]['timestamp'].min())\n",
        "print(\"End Time:   \",ΔA_train[-1]['timestamp'].max())\n"
      ],
      "execution_count": null,
      "outputs": [
        {
          "output_type": "stream",
          "text": [
            "Incremental Train steps:  9\n",
            "Start Time:  2010-01-01 00:01:13\n",
            "End Time:    2011-09-20 19:46:58\n"
          ],
          "name": "stdout"
        }
      ]
    },
    {
      "cell_type": "code",
      "metadata": {
        "id": "2V6tLApz8NFM",
        "colab": {
          "base_uri": "https://localhost:8080/"
        },
        "outputId": "060fe08e-1bb3-4047-cb13-7d3d9c2136c5"
      },
      "source": [
        "ΔA_test = all_df[9:] \n",
        "print(\"Incremental Test steps: \",len(ΔA_test))\n",
        "print(\"Start Time: \",ΔA_test[0]['timestamp'].min())\n",
        "print(\"End Time:   \",ΔA_test[-1]['timestamp'].max())"
      ],
      "execution_count": null,
      "outputs": [
        {
          "output_type": "stream",
          "text": [
            "Incremental Test steps:  15\n",
            "Start Time:  2011-09-20 19:47:28\n",
            "End Time:    2015-03-31 06:11:28\n"
          ],
          "name": "stdout"
        }
      ]
    },
    {
      "cell_type": "code",
      "metadata": {
        "id": "O_HSp4Ax8NFN",
        "colab": {
          "base_uri": "https://localhost:8080/"
        },
        "outputId": "ab3d83e1-0094-4bac-a742-b33de1072bb7"
      },
      "source": [
        "ΔA_test[0]['timestamp'].max()"
      ],
      "execution_count": null,
      "outputs": [
        {
          "output_type": "execute_result",
          "data": {
            "text/plain": [
              "Timestamp('2011-12-24 12:40:43')"
            ]
          },
          "metadata": {
            "tags": []
          },
          "execution_count": 27
        }
      ]
    },
    {
      "cell_type": "code",
      "metadata": {
        "id": "r_w3DINi-OSG"
      },
      "source": [
        "ML20M_DF = MLDF_20M"
      ],
      "execution_count": null,
      "outputs": []
    },
    {
      "cell_type": "code",
      "metadata": {
        "id": "baVjA5xh8NFT",
        "colab": {
          "base_uri": "https://localhost:8080/"
        },
        "outputId": "0bc578ff-c30c-40e5-d3a7-02b7c9e770ed"
      },
      "source": [
        "AllDF_list, PSITest_list, HOLDOUT_list,UserItemDF_list = TestTrain_DataSplit(ML20M_DF,'userId','timestamp',ΔA_test)\n",
        "print(AllDF_list[1]['timestamp'].min())\n",
        "print(AllDF_list[1]['timestamp'].max())\n",
        "print()\n",
        "print(ΔA_test[1]['timestamp'].min())\n",
        "print(ΔA_test[1]['timestamp'].max())"
      ],
      "execution_count": null,
      "outputs": [
        {
          "output_type": "stream",
          "text": [
            "1995-01-09 11:46:44\n",
            "2012-03-16 20:45:10\n",
            "\n",
            "2011-12-24 12:40:45\n",
            "2012-03-16 20:45:10\n"
          ],
          "name": "stdout"
        }
      ]
    },
    {
      "cell_type": "code",
      "metadata": {
        "id": "FXqq0BEw8NFW",
        "colab": {
          "base_uri": "https://localhost:8080/"
        },
        "outputId": "4544d831-2883-4a11-d8a6-b50016b50dd8"
      },
      "source": [
        "for i in range(10):\n",
        "    print(AllDF_list[i]['userId'].max(),AllDF_list[i]['userId'].nunique())"
      ],
      "execution_count": null,
      "outputs": [
        {
          "output_type": "stream",
          "text": [
            "122396 122397\n",
            "123312 123313\n",
            "124423 124424\n",
            "125345 125346\n",
            "126344 126345\n",
            "127270 127271\n",
            "128218 128219\n",
            "129236 129237\n",
            "130491 130492\n",
            "131632 131633\n"
          ],
          "name": "stdout"
        }
      ]
    },
    {
      "cell_type": "code",
      "metadata": {
        "id": "C9_iraoz8NFY",
        "colab": {
          "base_uri": "https://localhost:8080/"
        },
        "outputId": "fac1b830-7f41-4957-afd2-e8f3858fd464"
      },
      "source": [
        "print(ΔA_test[2].shape)\n",
        "print(PSITest_list[2].shape)\n",
        "print(HOLDOUT_list[2]['userId'].nunique())"
      ],
      "execution_count": null,
      "outputs": [
        {
          "output_type": "stream",
          "text": [
            "(80200, 7)\n",
            "(77076, 7)\n",
            "3124\n"
          ],
          "name": "stdout"
        }
      ]
    },
    {
      "cell_type": "markdown",
      "metadata": {
        "id": "dzWCij3ZipQX"
      },
      "source": [
        "**Find new users and items**"
      ]
    },
    {
      "cell_type": "code",
      "metadata": {
        "colab": {
          "base_uri": "https://localhost:8080/"
        },
        "id": "L-GolZfZipQZ",
        "outputId": "9670753c-d17e-45a4-f73e-c95d1fe4d0ee"
      },
      "source": [
        "Tstps = ML20M_DF['timestamp']\n",
        "tr_ts = ΔA_train[-1]['timestamp'].max()\n",
        "print(\"ΔA_train_last max date: \",tr_ts)\n",
        "AllDF_start = ML20M_DF.loc[Tstps <= tr_ts] \n",
        "print(AllDF_start['timestamp'].min())\n",
        "print(AllDF_start['timestamp'].max())\n",
        "print()\n",
        "print(AllDF_list[0]['timestamp'].min())\n",
        "print(AllDF_list[0]['timestamp'].max())"
      ],
      "execution_count": null,
      "outputs": [
        {
          "output_type": "stream",
          "text": [
            "ΔA_train_last max date:  2011-09-20 19:46:58\n",
            "1995-01-09 11:46:44\n",
            "2011-09-20 19:46:58\n",
            "\n",
            "1995-01-09 11:46:44\n",
            "2011-12-24 12:40:43\n"
          ],
          "name": "stdout"
        }
      ]
    },
    {
      "cell_type": "code",
      "metadata": {
        "id": "gjvBkFIj-OSN",
        "outputId": "413da934-31b6-4c77-87e7-d1caa2799ba7"
      },
      "source": [
        "len(ΔA_test)"
      ],
      "execution_count": null,
      "outputs": [
        {
          "output_type": "execute_result",
          "data": {
            "text/plain": [
              "15"
            ]
          },
          "metadata": {
            "tags": []
          },
          "execution_count": 33
        }
      ]
    },
    {
      "cell_type": "code",
      "metadata": {
        "colab": {
          "base_uri": "https://localhost:8080/"
        },
        "id": "GfgYKuugA3lO",
        "outputId": "93ffa1b9-9a78-46ad-e657-f4afc2d46081"
      },
      "source": [
        "New_usersList,New_itemsList = Find_NewUsersItems(AllDF_start,AllDF_list,'userId','productId',N_steps=15)\n",
        "print(New_usersList[0][:10]) #\n",
        "print()\n",
        "print(New_itemsList[0][:10]) #"
      ],
      "execution_count": null,
      "outputs": [
        {
          "output_type": "stream",
          "text": [
            "[121304 121305 121306 121307 121308 121309 121310 121311 121312 121313]\n",
            "\n",
            "[14959 14960 14961 14962 14963 14964 14965 14966 14967 14968]\n"
          ],
          "name": "stdout"
        }
      ]
    },
    {
      "cell_type": "code",
      "metadata": {
        "colab": {
          "base_uri": "https://localhost:8080/"
        },
        "id": "KXIsxxPnjhx2",
        "outputId": "89e48312-1337-44fd-c912-c49f7829ef23"
      },
      "source": [
        "print(\"users,Items\")\n",
        "for i,j in zip(New_usersList,New_itemsList):\n",
        "    print(i.size,j.size)\n",
        "    print()\n",
        "    "
      ],
      "execution_count": null,
      "outputs": [
        {
          "output_type": "stream",
          "text": [
            "users,Items\n",
            "1093 339\n",
            "\n",
            "916 305\n",
            "\n",
            "1111 276\n",
            "\n",
            "922 304\n",
            "\n",
            "999 350\n",
            "\n",
            "926 329\n",
            "\n",
            "948 362\n",
            "\n",
            "1018 345\n",
            "\n",
            "1255 388\n",
            "\n",
            "1141 425\n",
            "\n",
            "1180 444\n",
            "\n",
            "1015 400\n",
            "\n",
            "952 477\n",
            "\n",
            "873 535\n",
            "\n",
            "1024 482\n",
            "\n"
          ],
          "name": "stdout"
        }
      ]
    },
    {
      "cell_type": "code",
      "metadata": {
        "id": "UgeRH64B-OSS",
        "outputId": "03304d94-f7ed-43d5-df43-3420fba46113"
      },
      "source": [
        "print(AllDF_start['userId'].max())\n",
        "New_usersList[0]"
      ],
      "execution_count": null,
      "outputs": [
        {
          "output_type": "stream",
          "text": [
            "121303\n"
          ],
          "name": "stdout"
        },
        {
          "output_type": "execute_result",
          "data": {
            "text/plain": [
              "array([121304, 121305, 121306, ..., 122394, 122395, 122396])"
            ]
          },
          "metadata": {
            "tags": []
          },
          "execution_count": 40
        }
      ]
    },
    {
      "cell_type": "code",
      "metadata": {
        "id": "T2POyXiz-OSU"
      },
      "source": [
        ""
      ],
      "execution_count": null,
      "outputs": []
    },
    {
      "cell_type": "code",
      "metadata": {
        "id": "1ykECNc7G4GL"
      },
      "source": [
        ""
      ],
      "execution_count": null,
      "outputs": []
    },
    {
      "cell_type": "markdown",
      "metadata": {
        "id": "gk_I6-j-nqwZ"
      },
      "source": [
        "# Updated PSI"
      ]
    },
    {
      "cell_type": "markdown",
      "metadata": {
        "id": "n_XyE7otUxey"
      },
      "source": [
        "**Get Updt RatMat**"
      ]
    },
    {
      "cell_type": "code",
      "metadata": {
        "id": "lLloc1pc-OSX",
        "outputId": "8ecd59d9-d5f7-42f3-cf26-139f08952d8b"
      },
      "source": [
        "print(AllDF_start['userId'].nunique())\n",
        "print(A0_df['timestamp'].max())\n",
        "print(AllDF_start['timestamp'].max())"
      ],
      "execution_count": null,
      "outputs": [
        {
          "output_type": "stream",
          "text": [
            "121304\n",
            "2009-12-31 23:59:17\n",
            "2011-09-20 19:46:58\n"
          ],
          "name": "stdout"
        }
      ]
    },
    {
      "cell_type": "code",
      "metadata": {
        "colab": {
          "base_uri": "https://localhost:8080/"
        },
        "id": "-S_Ti3jIVmL7",
        "outputId": "2f20526a-161b-4f43-8a9c-2ca2ef433386"
      },
      "source": [
        "rows_i = AllDF_start['userId'].nunique()\n",
        "cols_i = AllDF_start['productId'].nunique()\n",
        "print(A0_df.shape)\n",
        "A0_RatMat_updt = SingleRatingMatrix(A0_df,'userId', 'productId',rows_i,cols_i)\n",
        "A0_RatMat_updt"
      ],
      "execution_count": null,
      "outputs": [
        {
          "output_type": "stream",
          "text": [
            "(8066566, 7)\n"
          ],
          "name": "stdout"
        },
        {
          "output_type": "execute_result",
          "data": {
            "text/plain": [
              "<121304x14959 sparse matrix of type '<class 'numpy.float64'>'\n",
              "\twith 8066566 stored elements in Compressed Sparse Row format>"
            ]
          },
          "metadata": {
            "tags": []
          },
          "execution_count": 43
        }
      ]
    },
    {
      "cell_type": "code",
      "metadata": {
        "colab": {
          "base_uri": "https://localhost:8080/"
        },
        "id": "9bSWovTNVmMX",
        "outputId": "6e884a38-df23-4e1a-8743-a82fc9c246d2"
      },
      "source": [
        "PSI_TrainMat_updt = AllRatingMatrices(ΔA_train,'userId','productId',rows_i ,cols_i)\n",
        "PSI_TrainMat_updt"
      ],
      "execution_count": null,
      "outputs": [
        {
          "output_type": "execute_result",
          "data": {
            "text/plain": [
              "[<121304x14959 sparse matrix of type '<class 'numpy.float64'>'\n",
              " \twith 80200 stored elements in Compressed Sparse Row format>,\n",
              " <121304x14959 sparse matrix of type '<class 'numpy.float64'>'\n",
              " \twith 80200 stored elements in Compressed Sparse Row format>,\n",
              " <121304x14959 sparse matrix of type '<class 'numpy.float64'>'\n",
              " \twith 80200 stored elements in Compressed Sparse Row format>,\n",
              " <121304x14959 sparse matrix of type '<class 'numpy.float64'>'\n",
              " \twith 80200 stored elements in Compressed Sparse Row format>,\n",
              " <121304x14959 sparse matrix of type '<class 'numpy.float64'>'\n",
              " \twith 80200 stored elements in Compressed Sparse Row format>,\n",
              " <121304x14959 sparse matrix of type '<class 'numpy.float64'>'\n",
              " \twith 80200 stored elements in Compressed Sparse Row format>,\n",
              " <121304x14959 sparse matrix of type '<class 'numpy.float64'>'\n",
              " \twith 80200 stored elements in Compressed Sparse Row format>,\n",
              " <121304x14959 sparse matrix of type '<class 'numpy.float64'>'\n",
              " \twith 80200 stored elements in Compressed Sparse Row format>,\n",
              " <121304x14959 sparse matrix of type '<class 'numpy.float64'>'\n",
              " \twith 80200 stored elements in Compressed Sparse Row format>]"
            ]
          },
          "metadata": {
            "tags": []
          },
          "execution_count": 44
        }
      ]
    },
    {
      "cell_type": "code",
      "metadata": {
        "id": "X9B1wEG8YUQa"
      },
      "source": [
        ""
      ],
      "execution_count": null,
      "outputs": []
    },
    {
      "cell_type": "markdown",
      "metadata": {
        "id": "A0k3BxpQCEDK"
      },
      "source": [
        "**Allsteps Update**"
      ]
    },
    {
      "cell_type": "code",
      "metadata": {
        "id": "RrhIaattvMvN"
      },
      "source": [
        "# rows_i = AllDF_start['userId'].nunique()\n",
        "# cols_i = AllDF_start['productId'].nunique()\n",
        "# print(AllDF_start.shape)\n",
        "# AllDF_startRatMat = SingleRatingMatrix(AllDF_start,'userId', 'productId',rows_i,cols_i)\n",
        "\n",
        "# U_start,S_start,V_start = svds(AllDF_startRatMat,k=50)\n",
        "# V_start = V_start.T\n",
        "# print()\n",
        "# print(\"U_start shape: \",U_start.shape)\n",
        "# print(\"S_start shape: \",S_start.shape)\n",
        "# print(\"V_start shape: \",V_start.shape)"
      ],
      "execution_count": null,
      "outputs": []
    },
    {
      "cell_type": "code",
      "metadata": {
        "colab": {
          "base_uri": "https://localhost:8080/"
        },
        "id": "gZKKzIA4UPAt",
        "outputId": "48841a1b-8ec0-48fc-fdd6-cc5994e3aa00"
      },
      "source": [
        "U_start,S_start,V_start = last_psiTrainMat(A0_RatMat_updt,PSI_TrainMat_updt,k=50)\n",
        "print()\n",
        "print(\"U_start shape: \",U_start.shape)\n",
        "print(\"S_start shape: \",S_start.shape)\n",
        "print(\"V_start shape: \",V_start.shape)"
      ],
      "execution_count": null,
      "outputs": [
        {
          "output_type": "stream",
          "text": [
            "100%|██████████| 9/9 [00:01<00:00,  5.59it/s]\n",
            "U_start shape:  (121304, 50)\n",
            "S_start shape:  (50, 50)\n",
            "V_start shape:  (14959, 50)\n",
            "\n"
          ],
          "name": "stderr"
        }
      ]
    },
    {
      "cell_type": "code",
      "metadata": {
        "colab": {
          "base_uri": "https://localhost:8080/"
        },
        "id": "1c2frghJa9qQ",
        "outputId": "56ab2b11-f3cc-4376-8ac1-470ed4d9b697"
      },
      "source": [
        "U_list,S_list,V_list = [],[],[]\n",
        "U_list.append(U_start)\n",
        "S_list.append(S_start)\n",
        "V_list.append(V_start)\n",
        "print(len(U_list),len(V_list))"
      ],
      "execution_count": null,
      "outputs": [
        {
          "output_type": "stream",
          "text": [
            "1 1\n"
          ],
          "name": "stdout"
        }
      ]
    },
    {
      "cell_type": "code",
      "metadata": {
        "id": "GBY5SEHx8NFk",
        "colab": {
          "base_uri": "https://localhost:8080/"
        },
        "outputId": "3d2af409-b6a3-4258-afc1-149527a386be"
      },
      "source": [
        "DItems_, DUsers_,In_DomainUSERS,In_DomainITEMS,userID_dict,itemID_dict,AllUpdtUSERS_,AllUpdtITEMS_,U_list,S_list,V_list = ALLSTEPs_UPDATE(AllDF_start,AllDF_list,New_itemsList,New_usersList,U_list,\n",
        "                                       S_list,V_list,'userId','productId',Nsteps=15,k=50,Forced_Orth=False)"
      ],
      "execution_count": null,
      "outputs": [
        {
          "output_type": "stream",
          "text": [
            "100%|██████████| 14/14 [31:03<00:00, 133.11s/it]\n"
          ],
          "name": "stderr"
        }
      ]
    },
    {
      "cell_type": "code",
      "metadata": {
        "id": "i5B_8XJjAXv7"
      },
      "source": [
        ""
      ],
      "execution_count": null,
      "outputs": []
    },
    {
      "cell_type": "markdown",
      "metadata": {
        "id": "H9o1U4E-zttV"
      },
      "source": [
        "**Output Check**"
      ]
    },
    {
      "cell_type": "code",
      "metadata": {
        "id": "d92VJcjh8NFn",
        "colab": {
          "base_uri": "https://localhost:8080/"
        },
        "outputId": "6221ef5b-6dc2-4651-8486-7c3e24db1b66"
      },
      "source": [
        "print(AllDF_start['productId'].max())\n",
        "print(AllDF_start['userId'].max())"
      ],
      "execution_count": null,
      "outputs": [
        {
          "output_type": "stream",
          "text": [
            "14958\n",
            "121303\n"
          ],
          "name": "stdout"
        }
      ]
    },
    {
      "cell_type": "code",
      "metadata": {
        "colab": {
          "base_uri": "https://localhost:8080/"
        },
        "id": "0J4Qrzf9OvVN",
        "outputId": "61a5bb25-b4bc-4477-80ce-3c2f023462fa"
      },
      "source": [
        "print(len(In_DomainITEMS[14958+1:]))\n",
        "print(In_DomainITEMS[14958+1:][:10])\n",
        "print()\n",
        "print(len(In_DomainUSERS[121303+1:]))\n",
        "print(In_DomainUSERS[121303+1:][:10])"
      ],
      "execution_count": null,
      "outputs": [
        {
          "output_type": "stream",
          "text": [
            "5761\n",
            "[14959, 14960, 14961, 14962, 14963, 14965, 14966, 14967, 14968, 14969]\n",
            "\n",
            "15373\n",
            "[121304, 121305, 121306, 121307, 121308, 121309, 121310, 121311, 121312, 121313]\n"
          ],
          "name": "stdout"
        }
      ]
    },
    {
      "cell_type": "code",
      "metadata": {
        "colab": {
          "base_uri": "https://localhost:8080/"
        },
        "id": "5vpSt3xLOvVU",
        "outputId": "f8071193-7eb5-4079-cd4f-71cec00b649f"
      },
      "source": [
        "#deferred items and users\n",
        "print(len(DItems_))\n",
        "print(DItems_[:10])\n",
        "print()\n",
        "print(len(DUsers_))\n",
        "print(DUsers_[:10])"
      ],
      "execution_count": null,
      "outputs": [
        {
          "output_type": "stream",
          "text": [
            "0\n",
            "[]\n",
            "\n",
            "0\n",
            "[]\n"
          ],
          "name": "stdout"
        }
      ]
    },
    {
      "cell_type": "code",
      "metadata": {
        "colab": {
          "base_uri": "https://localhost:8080/"
        },
        "id": "fYRgZGwlOvVW",
        "tags": [],
        "outputId": "fb60070e-9e33-4250-ddbb-3177944ed509"
      },
      "source": [
        "for x in list(itemID_dict)[3477+1:][:100]:\n",
        "    print (\"Id: {}, UpdtId: {} \".format(x,  itemID_dict[x]))   ##id ==key || updtedid == values  ,itemID_dict"
      ],
      "execution_count": null,
      "outputs": [
        {
          "output_type": "stream",
          "text": [
            "Id: 3478, UpdtId: 3478 \n",
            "Id: 3479, UpdtId: 3479 \n",
            "Id: 3480, UpdtId: 3480 \n",
            "Id: 3481, UpdtId: 3481 \n",
            "Id: 3482, UpdtId: 3482 \n",
            "Id: 3483, UpdtId: 3483 \n",
            "Id: 3484, UpdtId: 3484 \n",
            "Id: 3485, UpdtId: 3485 \n",
            "Id: 3486, UpdtId: 3486 \n",
            "Id: 3487, UpdtId: 3487 \n",
            "Id: 3488, UpdtId: 3488 \n",
            "Id: 3489, UpdtId: 3489 \n",
            "Id: 3490, UpdtId: 3490 \n",
            "Id: 3491, UpdtId: 3491 \n",
            "Id: 3492, UpdtId: 3492 \n",
            "Id: 3493, UpdtId: 3493 \n",
            "Id: 3494, UpdtId: 3494 \n",
            "Id: 3495, UpdtId: 3495 \n",
            "Id: 3496, UpdtId: 3496 \n",
            "Id: 3497, UpdtId: 3497 \n",
            "Id: 3498, UpdtId: 3498 \n",
            "Id: 3499, UpdtId: 3499 \n",
            "Id: 3500, UpdtId: 3500 \n",
            "Id: 3501, UpdtId: 3501 \n",
            "Id: 3502, UpdtId: 3502 \n",
            "Id: 3503, UpdtId: 3503 \n",
            "Id: 3504, UpdtId: 3504 \n",
            "Id: 3505, UpdtId: 3505 \n",
            "Id: 3506, UpdtId: 3506 \n",
            "Id: 3507, UpdtId: 3507 \n",
            "Id: 3508, UpdtId: 3508 \n",
            "Id: 3509, UpdtId: 3509 \n",
            "Id: 3510, UpdtId: 3510 \n",
            "Id: 3511, UpdtId: 3511 \n",
            "Id: 3512, UpdtId: 3512 \n",
            "Id: 3513, UpdtId: 3513 \n",
            "Id: 3514, UpdtId: 3514 \n",
            "Id: 3515, UpdtId: 3515 \n",
            "Id: 3516, UpdtId: 3516 \n",
            "Id: 3517, UpdtId: 3517 \n",
            "Id: 3518, UpdtId: 3518 \n",
            "Id: 3519, UpdtId: 3519 \n",
            "Id: 3520, UpdtId: 3520 \n",
            "Id: 3521, UpdtId: 3521 \n",
            "Id: 3522, UpdtId: 3522 \n",
            "Id: 3523, UpdtId: 3523 \n",
            "Id: 3524, UpdtId: 3524 \n",
            "Id: 3525, UpdtId: 3525 \n",
            "Id: 3526, UpdtId: 3526 \n",
            "Id: 3527, UpdtId: 3527 \n",
            "Id: 3528, UpdtId: 3528 \n",
            "Id: 3529, UpdtId: 3529 \n",
            "Id: 3530, UpdtId: 3530 \n",
            "Id: 3531, UpdtId: 3531 \n",
            "Id: 3532, UpdtId: 3532 \n",
            "Id: 3533, UpdtId: 3533 \n",
            "Id: 3534, UpdtId: 3534 \n",
            "Id: 3535, UpdtId: 3535 \n",
            "Id: 3536, UpdtId: 3536 \n",
            "Id: 3537, UpdtId: 3537 \n",
            "Id: 3538, UpdtId: 3538 \n",
            "Id: 3539, UpdtId: 3539 \n",
            "Id: 3540, UpdtId: 3540 \n",
            "Id: 3541, UpdtId: 3541 \n",
            "Id: 3542, UpdtId: 3542 \n",
            "Id: 3543, UpdtId: 3543 \n",
            "Id: 3544, UpdtId: 3544 \n",
            "Id: 3545, UpdtId: 3545 \n",
            "Id: 3546, UpdtId: 3546 \n",
            "Id: 3547, UpdtId: 3547 \n",
            "Id: 3548, UpdtId: 3548 \n",
            "Id: 3549, UpdtId: 3549 \n",
            "Id: 3550, UpdtId: 3550 \n",
            "Id: 3551, UpdtId: 3551 \n",
            "Id: 3552, UpdtId: 3552 \n",
            "Id: 3553, UpdtId: 3553 \n",
            "Id: 3554, UpdtId: 3554 \n",
            "Id: 3555, UpdtId: 3555 \n",
            "Id: 3556, UpdtId: 3556 \n",
            "Id: 3557, UpdtId: 3557 \n",
            "Id: 3558, UpdtId: 3558 \n",
            "Id: 3559, UpdtId: 3559 \n",
            "Id: 3560, UpdtId: 3560 \n",
            "Id: 3561, UpdtId: 3561 \n",
            "Id: 3562, UpdtId: 3562 \n",
            "Id: 3563, UpdtId: 3563 \n",
            "Id: 3564, UpdtId: 3564 \n",
            "Id: 3565, UpdtId: 3565 \n",
            "Id: 3566, UpdtId: 3566 \n",
            "Id: 3567, UpdtId: 3567 \n",
            "Id: 3568, UpdtId: 3568 \n",
            "Id: 3569, UpdtId: 3569 \n",
            "Id: 3570, UpdtId: 3570 \n",
            "Id: 3571, UpdtId: 3571 \n",
            "Id: 3572, UpdtId: 3572 \n",
            "Id: 3573, UpdtId: 3573 \n",
            "Id: 3574, UpdtId: 3574 \n",
            "Id: 3575, UpdtId: 3575 \n",
            "Id: 3576, UpdtId: 3576 \n",
            "Id: 3577, UpdtId: 3577 \n"
          ],
          "name": "stdout"
        }
      ]
    },
    {
      "cell_type": "code",
      "metadata": {
        "colab": {
          "base_uri": "https://localhost:8080/"
        },
        "id": "XP6aaq1qOvVY",
        "tags": [],
        "outputId": "ea126af8-d952-422b-c5f3-a7678b3fb8b7"
      },
      "source": [
        "for x in list(userID_dict)[5710:][:100]:\n",
        "    print (\"Id: {}, UpdtId: {} \".format(x,  userID_dict[x]))   ##id ==key || updtedid == values "
      ],
      "execution_count": null,
      "outputs": [
        {
          "output_type": "stream",
          "text": [
            "Id: 5710, UpdtId: 5710 \n",
            "Id: 5711, UpdtId: 5711 \n",
            "Id: 5712, UpdtId: 5712 \n",
            "Id: 5713, UpdtId: 5713 \n",
            "Id: 5714, UpdtId: 5714 \n",
            "Id: 5715, UpdtId: 5715 \n",
            "Id: 5716, UpdtId: 5716 \n",
            "Id: 5717, UpdtId: 5717 \n",
            "Id: 5718, UpdtId: 5718 \n",
            "Id: 5719, UpdtId: 5719 \n",
            "Id: 5720, UpdtId: 5720 \n",
            "Id: 5721, UpdtId: 5721 \n",
            "Id: 5722, UpdtId: 5722 \n",
            "Id: 5723, UpdtId: 5723 \n",
            "Id: 5724, UpdtId: 5724 \n",
            "Id: 5725, UpdtId: 5725 \n",
            "Id: 5726, UpdtId: 5726 \n",
            "Id: 5727, UpdtId: 5727 \n",
            "Id: 5728, UpdtId: 5728 \n",
            "Id: 5729, UpdtId: 5729 \n",
            "Id: 5730, UpdtId: 5730 \n",
            "Id: 5731, UpdtId: 5731 \n",
            "Id: 5732, UpdtId: 5732 \n",
            "Id: 5733, UpdtId: 5733 \n",
            "Id: 5734, UpdtId: 5734 \n",
            "Id: 5735, UpdtId: 5735 \n",
            "Id: 5736, UpdtId: 5736 \n",
            "Id: 5737, UpdtId: 5737 \n",
            "Id: 5738, UpdtId: 5738 \n",
            "Id: 5739, UpdtId: 5739 \n",
            "Id: 5740, UpdtId: 5740 \n",
            "Id: 5741, UpdtId: 5741 \n",
            "Id: 5742, UpdtId: 5742 \n",
            "Id: 5743, UpdtId: 5743 \n",
            "Id: 5744, UpdtId: 5744 \n",
            "Id: 5745, UpdtId: 5745 \n",
            "Id: 5746, UpdtId: 5746 \n",
            "Id: 5747, UpdtId: 5747 \n",
            "Id: 5748, UpdtId: 5748 \n",
            "Id: 5749, UpdtId: 5749 \n",
            "Id: 5750, UpdtId: 5750 \n",
            "Id: 5751, UpdtId: 5751 \n",
            "Id: 5752, UpdtId: 5752 \n",
            "Id: 5753, UpdtId: 5753 \n",
            "Id: 5754, UpdtId: 5754 \n",
            "Id: 5755, UpdtId: 5755 \n",
            "Id: 5756, UpdtId: 5756 \n",
            "Id: 5757, UpdtId: 5757 \n",
            "Id: 5758, UpdtId: 5758 \n",
            "Id: 5759, UpdtId: 5759 \n",
            "Id: 5760, UpdtId: 5760 \n",
            "Id: 5761, UpdtId: 5761 \n",
            "Id: 5762, UpdtId: 5762 \n",
            "Id: 5763, UpdtId: 5763 \n",
            "Id: 5764, UpdtId: 5764 \n",
            "Id: 5765, UpdtId: 5765 \n",
            "Id: 5766, UpdtId: 5766 \n",
            "Id: 5767, UpdtId: 5767 \n",
            "Id: 5768, UpdtId: 5768 \n",
            "Id: 5769, UpdtId: 5769 \n",
            "Id: 5770, UpdtId: 5770 \n",
            "Id: 5771, UpdtId: 5771 \n",
            "Id: 5772, UpdtId: 5772 \n",
            "Id: 5773, UpdtId: 5773 \n",
            "Id: 5774, UpdtId: 5774 \n",
            "Id: 5775, UpdtId: 5775 \n",
            "Id: 5776, UpdtId: 5776 \n",
            "Id: 5777, UpdtId: 5777 \n",
            "Id: 5778, UpdtId: 5778 \n",
            "Id: 5779, UpdtId: 5779 \n",
            "Id: 5780, UpdtId: 5780 \n",
            "Id: 5781, UpdtId: 5781 \n",
            "Id: 5782, UpdtId: 5782 \n",
            "Id: 5783, UpdtId: 5783 \n",
            "Id: 5784, UpdtId: 5784 \n",
            "Id: 5785, UpdtId: 5785 \n",
            "Id: 5786, UpdtId: 5786 \n",
            "Id: 5787, UpdtId: 5787 \n",
            "Id: 5788, UpdtId: 5788 \n",
            "Id: 5789, UpdtId: 5789 \n",
            "Id: 5790, UpdtId: 5790 \n",
            "Id: 5791, UpdtId: 5791 \n",
            "Id: 5792, UpdtId: 5792 \n",
            "Id: 5793, UpdtId: 5793 \n",
            "Id: 5794, UpdtId: 5794 \n",
            "Id: 5795, UpdtId: 5795 \n",
            "Id: 5796, UpdtId: 5796 \n",
            "Id: 5797, UpdtId: 5797 \n",
            "Id: 5798, UpdtId: 5798 \n",
            "Id: 5799, UpdtId: 5799 \n",
            "Id: 5800, UpdtId: 5800 \n",
            "Id: 5801, UpdtId: 5801 \n",
            "Id: 5802, UpdtId: 5802 \n",
            "Id: 5803, UpdtId: 5803 \n",
            "Id: 5804, UpdtId: 5804 \n",
            "Id: 5805, UpdtId: 5805 \n",
            "Id: 5806, UpdtId: 5806 \n",
            "Id: 5807, UpdtId: 5807 \n",
            "Id: 5808, UpdtId: 5808 \n",
            "Id: 5809, UpdtId: 5809 \n"
          ],
          "name": "stdout"
        }
      ]
    },
    {
      "cell_type": "code",
      "metadata": {
        "colab": {
          "base_uri": "https://localhost:8080/"
        },
        "id": "9hrMshBYOvVa",
        "outputId": "980377e4-7a74-47a0-c12d-a8f20749f23f"
      },
      "source": [
        "print(len(U_list),len(V_list))\n",
        "print(U_list[0].shape,V_list[0].shape)\n",
        "print()\n",
        "for u,v in zip(U_list[1:],V_list[1:]):\n",
        "    print(u.shape,v.shape)   "
      ],
      "execution_count": null,
      "outputs": [
        {
          "output_type": "stream",
          "text": [
            "16 16\n",
            "(121304, 50) (14959, 50)\n",
            "\n",
            "(122397, 50) (15298, 50)\n",
            "(123313, 50) (15603, 50)\n",
            "(124424, 50) (15879, 50)\n",
            "(125346, 50) (16183, 50)\n",
            "(126345, 50) (16533, 50)\n",
            "(127271, 50) (16862, 50)\n",
            "(128219, 50) (17224, 50)\n",
            "(129237, 50) (17569, 50)\n",
            "(130492, 50) (17957, 50)\n",
            "(131633, 50) (18382, 50)\n",
            "(132813, 50) (18826, 50)\n",
            "(133828, 50) (19226, 50)\n",
            "(134780, 50) (19703, 50)\n",
            "(135653, 50) (20238, 50)\n",
            "(136677, 50) (20720, 50)\n"
          ],
          "name": "stdout"
        }
      ]
    },
    {
      "cell_type": "code",
      "metadata": {
        "colab": {
          "base_uri": "https://localhost:8080/"
        },
        "id": "xOQC6r84_ju1",
        "outputId": "687e7c0a-2ca0-4667-bb8e-9f86de99ffc6"
      },
      "source": [
        "for i,j in zip(AllUpdtUSERS_,AllUpdtITEMS_):\n",
        "    print(len(i),len(j))"
      ],
      "execution_count": null,
      "outputs": [
        {
          "output_type": "stream",
          "text": [
            "122397 15298\n",
            "123313 15603\n",
            "124424 15879\n",
            "125346 16183\n",
            "126345 16533\n",
            "127271 16862\n",
            "128219 17224\n",
            "129237 17569\n",
            "130492 17957\n",
            "131633 18382\n",
            "132813 18826\n",
            "133828 19226\n",
            "134780 19703\n",
            "135653 20238\n",
            "136677 20720\n"
          ],
          "name": "stdout"
        }
      ]
    },
    {
      "cell_type": "code",
      "metadata": {
        "colab": {
          "base_uri": "https://localhost:8080/"
        },
        "id": "AMjo4AbxOvVc",
        "outputId": "553f733f-70f8-451f-84f4-ed7c5da4420d"
      },
      "source": [
        "print(len(In_DomainUSERS),len(In_DomainITEMS))\n",
        "print(ML20M_DF['userId'].nunique(),ML20M_DF['productId'].nunique())"
      ],
      "execution_count": null,
      "outputs": [
        {
          "output_type": "stream",
          "text": [
            "136677 20720\n",
            "136677 20720\n"
          ],
          "name": "stdout"
        }
      ]
    },
    {
      "cell_type": "markdown",
      "metadata": {
        "id": "nNpsng5z8doR"
      },
      "source": [
        "Data Adjustments"
      ]
    },
    {
      "cell_type": "markdown",
      "metadata": {
        "id": "U8YcpbXKpAMG"
      },
      "source": [
        "**Data Adjustment**"
      ]
    },
    {
      "cell_type": "code",
      "metadata": {
        "id": "beVvlDTN8NFx",
        "colab": {
          "base_uri": "https://localhost:8080/"
        },
        "outputId": "8f5e802e-bb84-4e7f-a17c-46262f72a431"
      },
      "source": [
        "len(AllUpdtITEMS_)"
      ],
      "execution_count": null,
      "outputs": [
        {
          "output_type": "execute_result",
          "data": {
            "text/plain": [
              "15"
            ]
          },
          "metadata": {
            "tags": []
          },
          "execution_count": 59
        }
      ]
    },
    {
      "cell_type": "code",
      "metadata": {
        "id": "DDU62aYf8NF0",
        "colab": {
          "base_uri": "https://localhost:8080/"
        },
        "outputId": "ddad99b4-3954-4aab-a9f2-b9794918e868"
      },
      "source": [
        "newHOLDOUT_LIST = get_NEWHoldout(HOLDOUT_list,userID_dict,itemID_dict,AllUpdtUSERS_,AllUpdtITEMS_,'userId','productId')\n",
        "print(len(newHOLDOUT_LIST))\n",
        "print()\n",
        "for old,new in zip(HOLDOUT_list,newHOLDOUT_LIST):\n",
        "    print(old.shape[0],new.shape[0])"
      ],
      "execution_count": null,
      "outputs": [
        {
          "output_type": "stream",
          "text": [
            "15it [00:00, 25.98it/s]15\n",
            "\n",
            "3459 3459\n",
            "3311 3311\n",
            "3124 3124\n",
            "3115 3115\n",
            "3165 3165\n",
            "3098 3098\n",
            "3169 3169\n",
            "3129 3129\n",
            "3192 3192\n",
            "3409 3409\n",
            "3267 3267\n",
            "3077 3077\n",
            "2772 2772\n",
            "2644 2644\n",
            "2730 2730\n",
            "\n"
          ],
          "name": "stderr"
        }
      ]
    },
    {
      "cell_type": "code",
      "metadata": {
        "id": "oqs2gnUq8NF1",
        "colab": {
          "base_uri": "https://localhost:8080/"
        },
        "outputId": "605d3c8a-2b69-4321-e4a8-2dbab62571aa"
      },
      "source": [
        "newUserItem_list = adjustedAllDF(UserItemDF_list,userID_dict,itemID_dict,AllUpdtUSERS_,AllUpdtITEMS_,'userId','productId')\n",
        "print()\n",
        "for df in newUserItem_list:\n",
        "    print(df['Updated_UserID'].max(),df['Updated_ItemID'].max())"
      ],
      "execution_count": null,
      "outputs": [
        {
          "output_type": "stream",
          "text": [
            "15it [02:27,  9.85s/it]\n",
            "\n",
            "122396 15297\n",
            "123312 15600\n",
            "124423 15878\n",
            "125345 16182\n",
            "126344 16531\n",
            "127270 16861\n",
            "128217 17223\n",
            "129236 17568\n",
            "130491 17956\n",
            "131632 18381\n",
            "132812 18825\n",
            "133827 19225\n",
            "134779 19702\n",
            "135652 20237\n",
            "136676 20719\n"
          ],
          "name": "stderr"
        }
      ]
    },
    {
      "cell_type": "code",
      "metadata": {
        "id": "jn0Km1cg-OSw"
      },
      "source": [
        ""
      ],
      "execution_count": null,
      "outputs": []
    },
    {
      "cell_type": "code",
      "metadata": {
        "id": "FHJylUYj8NF3",
        "colab": {
          "base_uri": "https://localhost:8080/"
        },
        "outputId": "c521557e-78b4-4f18-d96d-23d044a334d4"
      },
      "source": [
        "new_PSIDFlist = adjustedPSI_DF(PSITest_list,userID_dict,itemID_dict,AllUpdtUSERS_,AllUpdtITEMS_,'userId','productId')\n",
        "for old,new in zip(PSITest_list,new_PSIDFlist):\n",
        "    print(old.shape[0],new.shape[0])"
      ],
      "execution_count": null,
      "outputs": [
        {
          "output_type": "stream",
          "text": [
            "15it [00:01,  7.78it/s]76741 76741\n",
            "76889 76889\n",
            "77076 77076\n",
            "77085 77085\n",
            "77035 77035\n",
            "77102 77102\n",
            "77031 77031\n",
            "77071 77071\n",
            "77008 77008\n",
            "76791 76791\n",
            "76933 76933\n",
            "77123 77123\n",
            "77428 77428\n",
            "77556 77556\n",
            "76786 76786\n",
            "\n"
          ],
          "name": "stderr"
        }
      ]
    },
    {
      "cell_type": "code",
      "metadata": {
        "id": "injTPfoD8NF3",
        "colab": {
          "base_uri": "https://localhost:8080/"
        },
        "outputId": "bce70823-2c33-4a4c-ebd0-cf7a9776f461"
      },
      "source": [
        "newMLDF_20M = ADJUST_mainDF(ML20M_DF,userID_dict,itemID_dict,AllUpdtUSERS_,AllUpdtITEMS_,'userId','productId')\n",
        "print(newMLDF_20M.shape)\n",
        "print(newMLDF_20M['userId'].max(),newMLDF_20M['productId'].max())\n",
        "print(newMLDF_20M['userId'].nunique(),newMLDF_20M['productId'].nunique())\n",
        "print()\n",
        "print(newMLDF_20M['Updated_UserID'].max(),newMLDF_20M['Updated_ItemID'].max())\n",
        "print(newMLDF_20M['Updated_UserID'].nunique(),newMLDF_20M['Updated_ItemID'].nunique())\n",
        "#newAMZB_DF.head()"
      ],
      "execution_count": null,
      "outputs": [
        {
          "output_type": "stream",
          "text": [
            "(9990682, 9)\n",
            "136676 20719\n",
            "136677 20720\n",
            "\n",
            "136676 20719\n",
            "136677 20720\n"
          ],
          "name": "stdout"
        }
      ]
    },
    {
      "cell_type": "code",
      "metadata": {
        "id": "cB4Q1VO18NF5"
      },
      "source": [
        "#Hello2021"
      ],
      "execution_count": null,
      "outputs": []
    },
    {
      "cell_type": "code",
      "metadata": {
        "id": "rvb8bp_j8NF5"
      },
      "source": [
        "with open('MLDF20M_newUserItem.pkl', 'wb') as f:\n",
        "     pickle.dump(newUserItem_list, f)\n",
        "\n",
        "with open('MLDF20M_newHoldout.pkl', 'wb') as f:\n",
        "     pickle.dump(newHOLDOUT_LIST, f)\n",
        "\n",
        "with open('MLDF20M_newPSITest.pkl', 'wb') as f:\n",
        "     pickle.dump(new_PSIDFlist, f)     "
      ],
      "execution_count": null,
      "outputs": []
    },
    {
      "cell_type": "code",
      "metadata": {
        "id": "XjluqAp68NF6"
      },
      "source": [
        "newMLDF_20M.to_csv('MLDF20M_afterUpdt.csv.zip',index=False,compression='zip')"
      ],
      "execution_count": null,
      "outputs": []
    },
    {
      "cell_type": "code",
      "metadata": {
        "id": "bfFHg8h0QiVE"
      },
      "source": [
        ""
      ],
      "execution_count": null,
      "outputs": []
    },
    {
      "cell_type": "markdown",
      "metadata": {
        "id": "J_bFpV2cKCuA"
      },
      "source": [
        "**Get UserItem MAT**"
      ]
    },
    {
      "cell_type": "code",
      "metadata": {
        "id": "l9uf6prp8NF-",
        "colab": {
          "base_uri": "https://localhost:8080/"
        },
        "outputId": "3028691f-cba4-45bc-acee-806e5dc8f90a"
      },
      "source": [
        "for i in range(10):\n",
        "    print(newUserItem_list[i]['Updated_UserID'].max(),newUserItem_list[i]['Updated_ItemID'].max())"
      ],
      "execution_count": null,
      "outputs": [
        {
          "output_type": "stream",
          "text": [
            "122396 15297\n",
            "123312 15600\n",
            "124423 15878\n",
            "125345 16182\n",
            "126344 16531\n",
            "127270 16861\n",
            "128217 17223\n",
            "129236 17568\n",
            "130491 17956\n",
            "131632 18381\n"
          ],
          "name": "stdout"
        }
      ]
    },
    {
      "cell_type": "code",
      "metadata": {
        "colab": {
          "base_uri": "https://localhost:8080/"
        },
        "id": "bA6bmr-CKCuD",
        "outputId": "43496cd7-6b4e-4e5a-f22b-10d46c92df04"
      },
      "source": [
        "print(len(U_list[1:]),len(V_list[1:]))\n",
        "for u,v in zip(U_list[1:],V_list[1:]):\n",
        "    print(u.shape[0],v.shape[0])   "
      ],
      "execution_count": null,
      "outputs": [
        {
          "output_type": "stream",
          "text": [
            "15 15\n",
            "122397 15298\n",
            "123313 15603\n",
            "124424 15879\n",
            "125346 16183\n",
            "126345 16533\n",
            "127271 16862\n",
            "128219 17224\n",
            "129237 17569\n",
            "130492 17957\n",
            "131633 18382\n",
            "132813 18826\n",
            "133828 19226\n",
            "134780 19703\n",
            "135653 20238\n",
            "136677 20720\n"
          ],
          "name": "stdout"
        }
      ]
    },
    {
      "cell_type": "code",
      "metadata": {
        "id": "INu3R6tS-OS6"
      },
      "source": [
        ""
      ],
      "execution_count": null,
      "outputs": []
    },
    {
      "cell_type": "code",
      "metadata": {
        "id": "FByMrQ4r-OS7",
        "outputId": "56dd3618-efe2-4464-b4d0-79bc4572f533"
      },
      "source": [
        "UserItem_Matupdt = AllSingleStepRatMat_2(newUserItem_list,U_list[1:],V_list[1:],'Updated_UserID','Updated_ItemID')\n",
        "print(len(UserItem_Matupdt))\n",
        "UserItem_Matupdt   #Hello2021"
      ],
      "execution_count": null,
      "outputs": [
        {
          "output_type": "stream",
          "text": [
            "15\n"
          ],
          "name": "stdout"
        },
        {
          "output_type": "execute_result",
          "data": {
            "text/plain": [
              "[<122397x15298 sparse matrix of type '<class 'numpy.float64'>'\n",
              " \twith 8865107 stored elements in Compressed Sparse Row format>,\n",
              " <123313x15603 sparse matrix of type '<class 'numpy.float64'>'\n",
              " \twith 8945455 stored elements in Compressed Sparse Row format>,\n",
              " <124424x15879 sparse matrix of type '<class 'numpy.float64'>'\n",
              " \twith 9025842 stored elements in Compressed Sparse Row format>,\n",
              " <125346x16183 sparse matrix of type '<class 'numpy.float64'>'\n",
              " \twith 9106051 stored elements in Compressed Sparse Row format>,\n",
              " <126345x16533 sparse matrix of type '<class 'numpy.float64'>'\n",
              " \twith 9186201 stored elements in Compressed Sparse Row format>,\n",
              " <127271x16862 sparse matrix of type '<class 'numpy.float64'>'\n",
              " \twith 9266468 stored elements in Compressed Sparse Row format>,\n",
              " <128219x17224 sparse matrix of type '<class 'numpy.float64'>'\n",
              " \twith 9346597 stored elements in Compressed Sparse Row format>,\n",
              " <129237x17569 sparse matrix of type '<class 'numpy.float64'>'\n",
              " \twith 9426837 stored elements in Compressed Sparse Row format>,\n",
              " <130492x17957 sparse matrix of type '<class 'numpy.float64'>'\n",
              " \twith 9506974 stored elements in Compressed Sparse Row format>,\n",
              " <131633x18382 sparse matrix of type '<class 'numpy.float64'>'\n",
              " \twith 9586957 stored elements in Compressed Sparse Row format>,\n",
              " <132813x18826 sparse matrix of type '<class 'numpy.float64'>'\n",
              " \twith 9667299 stored elements in Compressed Sparse Row format>,\n",
              " <133828x19226 sparse matrix of type '<class 'numpy.float64'>'\n",
              " \twith 9747689 stored elements in Compressed Sparse Row format>,\n",
              " <134780x19703 sparse matrix of type '<class 'numpy.float64'>'\n",
              " \twith 9828194 stored elements in Compressed Sparse Row format>,\n",
              " <135653x20238 sparse matrix of type '<class 'numpy.float64'>'\n",
              " \twith 9908522 stored elements in Compressed Sparse Row format>,\n",
              " <136677x20720 sparse matrix of type '<class 'numpy.float64'>'\n",
              " \twith 9987952 stored elements in Compressed Sparse Row format>]"
            ]
          },
          "metadata": {
            "tags": []
          },
          "execution_count": 81
        }
      ]
    },
    {
      "cell_type": "code",
      "metadata": {
        "id": "kRkFwCd8KCuE"
      },
      "source": [
        "# print(AllDF_start['userId'].nunique(),AllDF_start['productId'].nunique())\n",
        "# print()\n",
        "# for i,j in zip(AllUpdtUSERS_,AllUpdtITEMS_):\n",
        "#     print(len(i),len(j))"
      ],
      "execution_count": null,
      "outputs": []
    },
    {
      "cell_type": "markdown",
      "metadata": {
        "id": "-FWZcWCDzJ-i"
      },
      "source": [
        "**V_list**"
      ]
    },
    {
      "cell_type": "code",
      "metadata": {
        "colab": {
          "base_uri": "https://localhost:8080/"
        },
        "id": "NrcfgZCCzPPu",
        "outputId": "1a2cbc17-cb12-4d3b-d166-271fcfadcffc"
      },
      "source": [
        "print(len(UserItem_Matupdt),len(newHOLDOUT_LIST))"
      ],
      "execution_count": null,
      "outputs": [
        {
          "output_type": "stream",
          "text": [
            "15 15\n"
          ],
          "name": "stdout"
        }
      ]
    },
    {
      "cell_type": "code",
      "metadata": {
        "colab": {
          "base_uri": "https://localhost:8080/"
        },
        "id": "RguT3Utr0iLy",
        "outputId": "56a7d213-bb0d-4807-cd0d-009f8386ac51"
      },
      "source": [
        "Vpsi_listUpdt = V_list[1:]\n",
        "for v in Vpsi_listUpdt:\n",
        "    print(v.shape)"
      ],
      "execution_count": null,
      "outputs": [
        {
          "output_type": "stream",
          "text": [
            "(15298, 50)\n",
            "(15603, 50)\n",
            "(15879, 50)\n",
            "(16183, 50)\n",
            "(16533, 50)\n",
            "(16862, 50)\n",
            "(17224, 50)\n",
            "(17569, 50)\n",
            "(17957, 50)\n",
            "(18382, 50)\n",
            "(18826, 50)\n",
            "(19226, 50)\n",
            "(19703, 50)\n",
            "(20238, 50)\n",
            "(20720, 50)\n"
          ],
          "name": "stdout"
        }
      ]
    },
    {
      "cell_type": "code",
      "metadata": {
        "colab": {
          "base_uri": "https://localhost:8080/"
        },
        "id": "py9S9LGoKamJ",
        "outputId": "e9121055-f7a1-45a3-a859-e0cb353a1776"
      },
      "source": [
        "V_1 = Vpsi_listUpdt[0]\n",
        "V_1.shape"
      ],
      "execution_count": null,
      "outputs": [
        {
          "output_type": "execute_result",
          "data": {
            "text/plain": [
              "(15298, 50)"
            ]
          },
          "metadata": {
            "tags": []
          },
          "execution_count": 84
        }
      ]
    },
    {
      "cell_type": "code",
      "metadata": {
        "id": "N1Vc6Na38NGR"
      },
      "source": [
        ""
      ],
      "execution_count": null,
      "outputs": []
    },
    {
      "cell_type": "markdown",
      "metadata": {
        "id": "M1ro3DThmGq2"
      },
      "source": [
        "# AllUsers Predictions"
      ]
    },
    {
      "cell_type": "markdown",
      "metadata": {
        "id": "Mp6JnauDA2yR"
      },
      "source": [
        "## UpdtPSI AllPred"
      ]
    },
    {
      "cell_type": "code",
      "metadata": {
        "id": "Mylf5NR98NGR",
        "outputId": "b0e7a61d-3c24-48e5-f59a-3db3bebc0940"
      },
      "source": [
        "print(UserItem_Matupdt[0].shape)\n",
        "UserItem_Matupdt[0]"
      ],
      "execution_count": null,
      "outputs": [
        {
          "output_type": "stream",
          "text": [
            "(122397, 15298)\n"
          ],
          "name": "stdout"
        },
        {
          "output_type": "execute_result",
          "data": {
            "text/plain": [
              "<122397x15298 sparse matrix of type '<class 'numpy.float64'>'\n",
              "\twith 8865107 stored elements in Compressed Sparse Row format>"
            ]
          },
          "metadata": {
            "tags": []
          },
          "execution_count": 85
        }
      ]
    },
    {
      "cell_type": "code",
      "metadata": {
        "id": "eexNA7Oj-OTE",
        "outputId": "2b3d91aa-ed82-49c8-d22f-315f6846026b"
      },
      "source": [
        "newUserItem_list[1]['Updated_ItemID'].max()"
      ],
      "execution_count": null,
      "outputs": [
        {
          "output_type": "execute_result",
          "data": {
            "text/plain": [
              "15600"
            ]
          },
          "metadata": {
            "tags": []
          },
          "execution_count": 90
        }
      ]
    },
    {
      "cell_type": "code",
      "metadata": {
        "id": "r4jzA5iH-OTF",
        "outputId": "52f75dcf-3191-4032-af8f-1346fdc59c91"
      },
      "source": [
        "for i,j,k in zip(UserItem_Matupdt,Vpsi_listUpdt,newUserItem_list):\n",
        "    print(i.shape[1],j.shape[0],k['Updated_ItemID'].max())"
      ],
      "execution_count": null,
      "outputs": [
        {
          "output_type": "stream",
          "text": [
            "15298 15298 15297\n",
            "15603 15603 15600\n",
            "15879 15879 15878\n",
            "16183 16183 16182\n",
            "16533 16533 16531\n",
            "16862 16862 16861\n",
            "17224 17224 17223\n",
            "17569 17569 17568\n",
            "17957 17957 17956\n",
            "18382 18382 18381\n",
            "18826 18826 18825\n",
            "19226 19226 19225\n",
            "19703 19703 19702\n",
            "20238 20238 20237\n",
            "20720 20720 20719\n"
          ],
          "name": "stdout"
        }
      ]
    },
    {
      "cell_type": "code",
      "metadata": {
        "id": "H3qyz8eO8NGS",
        "outputId": "2cb6f173-b4e9-4d94-e313-a3dd3a437044"
      },
      "source": [
        "AllUsers_updtPRED =  TQDMgetALLTopNPred_ALLUSERS(UserItem_Matupdt,Vpsi_listUpdt, N=10) \n",
        "print(len(AllUsers_updtPRED))\n",
        "AllUsers_updtPRED[:2]"
      ],
      "execution_count": null,
      "outputs": [
        {
          "output_type": "stream",
          "text": [
            "15it [07:04, 28.27s/it]15\n",
            "\n"
          ],
          "name": "stderr"
        },
        {
          "output_type": "execute_result",
          "data": {
            "text/plain": [
              "[array([[  17,  108, 1072, ...,   81,  118,   89],\n",
              "        [ 663, 1062,  969, ..., 1107,  719,   42],\n",
              "        [1300,  108,  609, ...,  678,  274,   50],\n",
              "        ...,\n",
              "        [ 180,  179, 1923, ...,  352,  781,  869],\n",
              "        [1109,  144, 1115, ..., 2501, 1460, 1630],\n",
              "        [2469, 1460,  157, ..., 2340, 2630, 2502]]),\n",
              " array([[  17,  108, 1072, ...,   81,  118,   89],\n",
              "        [ 663, 1062,  969, ..., 1107,  719,   42],\n",
              "        [1300,  108,  609, ...,  678,  274,   50],\n",
              "        ...,\n",
              "        [2707,  969, 1763, ..., 1319, 4724, 2008],\n",
              "        [1829, 1055, 2770, ..., 1070, 1807, 4080],\n",
              "        [4724, 8837, 8928, ..., 8958, 4032, 9331]])]"
            ]
          },
          "metadata": {
            "tags": []
          },
          "execution_count": 91
        }
      ]
    },
    {
      "cell_type": "code",
      "metadata": {
        "id": "3GtRYa2z8NGT",
        "outputId": "644b11fe-8b52-4f43-be68-645e8bc482e3"
      },
      "source": [
        "AllUsers_updtPRED[-1].shape"
      ],
      "execution_count": null,
      "outputs": [
        {
          "output_type": "execute_result",
          "data": {
            "text/plain": [
              "(136677, 10)"
            ]
          },
          "metadata": {
            "tags": []
          },
          "execution_count": 92
        }
      ]
    },
    {
      "cell_type": "code",
      "metadata": {
        "id": "ayCKyzF98NGT"
      },
      "source": [
        "with open('MLDF20M_UpdtPSI_allPRED.pkl', 'wb') as f:\n",
        "     pickle.dump(AllUsers_updtPRED, f)\n"
      ],
      "execution_count": null,
      "outputs": []
    },
    {
      "cell_type": "code",
      "metadata": {
        "id": "DuzCtDJ08NGU"
      },
      "source": [
        "# with open('/mnt/bulky/oolaleke/TDM_Dataset/AMZB_UpdtPSI_AllPRED.pkl', 'rb') as f:\n",
        "#      allpred_updt = pickle.load(f)\n",
        "# print(len(allpred_updt))\n",
        "# allpred_updt[:2]"
      ],
      "execution_count": null,
      "outputs": []
    },
    {
      "cell_type": "code",
      "metadata": {
        "id": "qRcPwH0tqAlR"
      },
      "source": [
        ""
      ],
      "execution_count": null,
      "outputs": []
    },
    {
      "cell_type": "code",
      "metadata": {
        "id": "NHM6hJEV8NGa"
      },
      "source": [
        "##lOAD Saved Lists...\n",
        "with open('/mnt/bulky/oolaleke/TDM_Dataset/AMZB_newUserItem.pkl', 'rb') as f:\n",
        "     newUserItem_LIST = pickle.load(f)\n",
        "\n",
        "with open('/mnt/bulky/oolaleke/TDM_Dataset/AMZB_newPSITest.pkl', 'rb') as f:\n",
        "     newPSIDF_LIST = pickle.load(f)\n",
        "\n",
        "\n",
        "with open('/mnt/bulky/oolaleke/TDM_Dataset/AMZB_newHoldout.pkl', 'rb') as f:\n",
        "     newHOLDOUTDF_LIST = pickle.load(f)\n",
        "\n",
        "#newAMZB_DF = pd.read_csv()"
      ],
      "execution_count": null,
      "outputs": []
    },
    {
      "cell_type": "markdown",
      "metadata": {
        "id": "dlm-q9ms_BWw"
      },
      "source": [
        "# Regular PSI "
      ]
    },
    {
      "cell_type": "markdown",
      "metadata": {
        "id": "uWbLS4cbPI19"
      },
      "source": [
        "**Get Rating Matrices**"
      ]
    },
    {
      "cell_type": "code",
      "metadata": {
        "id": "0i3Z3Aay8NGe",
        "outputId": "c4064d1d-a5b5-4365-e677-9de2fc7f9758"
      },
      "source": [
        "print(newMLDF_20M.shape)\n",
        "print(newMLDF_20M['userId'].max(),newMLDF_20M['productId'].max())\n",
        "print(newMLDF_20M['userId'].nunique(),newMLDF_20M['productId'].nunique())\n",
        "print()\n",
        "print(newMLDF_20M['Updated_UserID'].max(),newMLDF_20M['Updated_ItemID'].max())\n",
        "print(newMLDF_20M['Updated_UserID'].nunique(),newMLDF_20M['Updated_ItemID'].nunique())\n",
        "newMLDF_20M.head()"
      ],
      "execution_count": null,
      "outputs": [
        {
          "output_type": "stream",
          "text": [
            "(9990682, 9)\n",
            "136676 20719\n",
            "136677 20720\n",
            "\n",
            "136676 20719\n",
            "136677 20720\n"
          ],
          "name": "stdout"
        },
        {
          "output_type": "execute_result",
          "data": {
            "text/plain": [
              "   userid  movieId  rating           timestamp timestamp_YM  userId  \\\n",
              "0   28507     1176       1 1995-01-09 11:46:44      1995-01       0   \n",
              "1  131160       47       1 1995-01-09 11:46:49      1995-01       1   \n",
              "2   85252       70       1 1996-01-29 00:00:00      1996-01       2   \n",
              "3  134445       45       1 1996-01-29 00:00:00      1996-01       3   \n",
              "4   99851       10       1 1996-01-29 00:00:00      1996-01       4   \n",
              "\n",
              "   productId  Updated_UserID  Updated_ItemID  \n",
              "0          0               0               0  \n",
              "1          1               1               1  \n",
              "2          2               2               2  \n",
              "3          3               3               3  \n",
              "4          4               4               4  "
            ],
            "text/html": [
              "<div>\n",
              "<style scoped>\n",
              "    .dataframe tbody tr th:only-of-type {\n",
              "        vertical-align: middle;\n",
              "    }\n",
              "\n",
              "    .dataframe tbody tr th {\n",
              "        vertical-align: top;\n",
              "    }\n",
              "\n",
              "    .dataframe thead th {\n",
              "        text-align: right;\n",
              "    }\n",
              "</style>\n",
              "<table border=\"1\" class=\"dataframe\">\n",
              "  <thead>\n",
              "    <tr style=\"text-align: right;\">\n",
              "      <th></th>\n",
              "      <th>userid</th>\n",
              "      <th>movieId</th>\n",
              "      <th>rating</th>\n",
              "      <th>timestamp</th>\n",
              "      <th>timestamp_YM</th>\n",
              "      <th>userId</th>\n",
              "      <th>productId</th>\n",
              "      <th>Updated_UserID</th>\n",
              "      <th>Updated_ItemID</th>\n",
              "    </tr>\n",
              "  </thead>\n",
              "  <tbody>\n",
              "    <tr>\n",
              "      <th>0</th>\n",
              "      <td>28507</td>\n",
              "      <td>1176</td>\n",
              "      <td>1</td>\n",
              "      <td>1995-01-09 11:46:44</td>\n",
              "      <td>1995-01</td>\n",
              "      <td>0</td>\n",
              "      <td>0</td>\n",
              "      <td>0</td>\n",
              "      <td>0</td>\n",
              "    </tr>\n",
              "    <tr>\n",
              "      <th>1</th>\n",
              "      <td>131160</td>\n",
              "      <td>47</td>\n",
              "      <td>1</td>\n",
              "      <td>1995-01-09 11:46:49</td>\n",
              "      <td>1995-01</td>\n",
              "      <td>1</td>\n",
              "      <td>1</td>\n",
              "      <td>1</td>\n",
              "      <td>1</td>\n",
              "    </tr>\n",
              "    <tr>\n",
              "      <th>2</th>\n",
              "      <td>85252</td>\n",
              "      <td>70</td>\n",
              "      <td>1</td>\n",
              "      <td>1996-01-29 00:00:00</td>\n",
              "      <td>1996-01</td>\n",
              "      <td>2</td>\n",
              "      <td>2</td>\n",
              "      <td>2</td>\n",
              "      <td>2</td>\n",
              "    </tr>\n",
              "    <tr>\n",
              "      <th>3</th>\n",
              "      <td>134445</td>\n",
              "      <td>45</td>\n",
              "      <td>1</td>\n",
              "      <td>1996-01-29 00:00:00</td>\n",
              "      <td>1996-01</td>\n",
              "      <td>3</td>\n",
              "      <td>3</td>\n",
              "      <td>3</td>\n",
              "      <td>3</td>\n",
              "    </tr>\n",
              "    <tr>\n",
              "      <th>4</th>\n",
              "      <td>99851</td>\n",
              "      <td>10</td>\n",
              "      <td>1</td>\n",
              "      <td>1996-01-29 00:00:00</td>\n",
              "      <td>1996-01</td>\n",
              "      <td>4</td>\n",
              "      <td>4</td>\n",
              "      <td>4</td>\n",
              "      <td>4</td>\n",
              "    </tr>\n",
              "  </tbody>\n",
              "</table>\n",
              "</div>"
            ]
          },
          "metadata": {
            "tags": []
          },
          "execution_count": 94
        }
      ]
    },
    {
      "cell_type": "code",
      "metadata": {
        "colab": {
          "base_uri": "https://localhost:8080/"
        },
        "id": "9VaLJAAPRRLc",
        "outputId": "3cb7f9b6-ccb4-4b5a-ef25-66be8380bd80"
      },
      "source": [
        "rows_i = newMLDF_20M['Updated_UserID'].nunique()\n",
        "cols_i = newMLDF_20M['Updated_ItemID'].nunique()\n",
        "print(A0_df.shape)\n",
        "A0_Rating_matrix = SingleRatingMatrix(A0_df,'userId', 'productId',rows_i,cols_i)  ##changes start within steps...\n",
        "A0_Rating_matrix"
      ],
      "execution_count": null,
      "outputs": [
        {
          "output_type": "stream",
          "text": [
            "(8066566, 7)\n"
          ],
          "name": "stdout"
        },
        {
          "output_type": "execute_result",
          "data": {
            "text/plain": [
              "<136677x20720 sparse matrix of type '<class 'numpy.float64'>'\n",
              "\twith 8066566 stored elements in Compressed Sparse Row format>"
            ]
          },
          "metadata": {
            "tags": []
          },
          "execution_count": 95
        }
      ]
    },
    {
      "cell_type": "code",
      "metadata": {
        "id": "1deDiBeP8NGg",
        "outputId": "b76bfb65-a52f-490b-c011-f66c0757240b"
      },
      "source": [
        "for df in new_PSIDFlist:\n",
        "    print(df['Updated_UserID'].max(),df['Updated_ItemID'].max())"
      ],
      "execution_count": null,
      "outputs": [
        {
          "output_type": "stream",
          "text": [
            "122396 15297\n",
            "123312 15600\n",
            "124423 15878\n",
            "125345 16182\n",
            "126344 16531\n",
            "127270 16861\n",
            "128217 17223\n",
            "129236 17568\n",
            "130491 17956\n",
            "131632 18381\n",
            "132812 18825\n",
            "133827 19225\n",
            "134779 19702\n",
            "135652 20237\n",
            "136676 20719\n"
          ],
          "name": "stdout"
        }
      ]
    },
    {
      "cell_type": "code",
      "metadata": {
        "colab": {
          "base_uri": "https://localhost:8080/"
        },
        "id": "PJgsMKCpRRMD",
        "outputId": "1b4cc003-3329-4043-de8a-c5f7d5a40e41"
      },
      "source": [
        "print(\"Length of PSI_Train :\",len(ΔA_train))\n",
        "print(\"Length of PSI_Test  :\",len(new_PSIDFlist))"
      ],
      "execution_count": null,
      "outputs": [
        {
          "output_type": "stream",
          "text": [
            "Length of PSI_Train : 9\n",
            "Length of PSI_Test  : 15\n"
          ],
          "name": "stdout"
        }
      ]
    },
    {
      "cell_type": "code",
      "metadata": {
        "colab": {
          "base_uri": "https://localhost:8080/"
        },
        "id": "EBFJoOOvRRME",
        "outputId": "fd8f9149-59dd-40ad-d6c5-572b6df59721"
      },
      "source": [
        "PSI_train_matrix = AllRatingMatrices(ΔA_train,'userId','productId',rows_i ,cols_i)\n",
        "PSI_train_matrix   "
      ],
      "execution_count": null,
      "outputs": [
        {
          "output_type": "execute_result",
          "data": {
            "text/plain": [
              "[<136677x20720 sparse matrix of type '<class 'numpy.float64'>'\n",
              " \twith 80200 stored elements in Compressed Sparse Row format>,\n",
              " <136677x20720 sparse matrix of type '<class 'numpy.float64'>'\n",
              " \twith 80200 stored elements in Compressed Sparse Row format>,\n",
              " <136677x20720 sparse matrix of type '<class 'numpy.float64'>'\n",
              " \twith 80200 stored elements in Compressed Sparse Row format>,\n",
              " <136677x20720 sparse matrix of type '<class 'numpy.float64'>'\n",
              " \twith 80200 stored elements in Compressed Sparse Row format>,\n",
              " <136677x20720 sparse matrix of type '<class 'numpy.float64'>'\n",
              " \twith 80200 stored elements in Compressed Sparse Row format>,\n",
              " <136677x20720 sparse matrix of type '<class 'numpy.float64'>'\n",
              " \twith 80200 stored elements in Compressed Sparse Row format>,\n",
              " <136677x20720 sparse matrix of type '<class 'numpy.float64'>'\n",
              " \twith 80200 stored elements in Compressed Sparse Row format>,\n",
              " <136677x20720 sparse matrix of type '<class 'numpy.float64'>'\n",
              " \twith 80200 stored elements in Compressed Sparse Row format>,\n",
              " <136677x20720 sparse matrix of type '<class 'numpy.float64'>'\n",
              " \twith 80200 stored elements in Compressed Sparse Row format>]"
            ]
          },
          "metadata": {
            "tags": []
          },
          "execution_count": 98
        }
      ]
    },
    {
      "cell_type": "code",
      "metadata": {
        "id": "8M_ymqxs8NGk",
        "outputId": "0104bf9b-3bdd-4f8b-919c-7be44f27ddcf"
      },
      "source": [
        "PSI_test_matrix = AllRatingMatrices(new_PSIDFlist,'Updated_UserID','Updated_ItemID',rows_i ,cols_i)                                                                      \n",
        "print(len(PSI_test_matrix))\n",
        "PSI_test_matrix"
      ],
      "execution_count": null,
      "outputs": [
        {
          "output_type": "stream",
          "text": [
            "15\n"
          ],
          "name": "stdout"
        },
        {
          "output_type": "execute_result",
          "data": {
            "text/plain": [
              "[<136677x20720 sparse matrix of type '<class 'numpy.float64'>'\n",
              " \twith 76741 stored elements in Compressed Sparse Row format>,\n",
              " <136677x20720 sparse matrix of type '<class 'numpy.float64'>'\n",
              " \twith 76889 stored elements in Compressed Sparse Row format>,\n",
              " <136677x20720 sparse matrix of type '<class 'numpy.float64'>'\n",
              " \twith 77076 stored elements in Compressed Sparse Row format>,\n",
              " <136677x20720 sparse matrix of type '<class 'numpy.float64'>'\n",
              " \twith 77085 stored elements in Compressed Sparse Row format>,\n",
              " <136677x20720 sparse matrix of type '<class 'numpy.float64'>'\n",
              " \twith 77035 stored elements in Compressed Sparse Row format>,\n",
              " <136677x20720 sparse matrix of type '<class 'numpy.float64'>'\n",
              " \twith 77102 stored elements in Compressed Sparse Row format>,\n",
              " <136677x20720 sparse matrix of type '<class 'numpy.float64'>'\n",
              " \twith 77031 stored elements in Compressed Sparse Row format>,\n",
              " <136677x20720 sparse matrix of type '<class 'numpy.float64'>'\n",
              " \twith 77071 stored elements in Compressed Sparse Row format>,\n",
              " <136677x20720 sparse matrix of type '<class 'numpy.float64'>'\n",
              " \twith 77008 stored elements in Compressed Sparse Row format>,\n",
              " <136677x20720 sparse matrix of type '<class 'numpy.float64'>'\n",
              " \twith 76791 stored elements in Compressed Sparse Row format>,\n",
              " <136677x20720 sparse matrix of type '<class 'numpy.float64'>'\n",
              " \twith 76933 stored elements in Compressed Sparse Row format>,\n",
              " <136677x20720 sparse matrix of type '<class 'numpy.float64'>'\n",
              " \twith 77123 stored elements in Compressed Sparse Row format>,\n",
              " <136677x20720 sparse matrix of type '<class 'numpy.float64'>'\n",
              " \twith 77428 stored elements in Compressed Sparse Row format>,\n",
              " <136677x20720 sparse matrix of type '<class 'numpy.float64'>'\n",
              " \twith 77556 stored elements in Compressed Sparse Row format>,\n",
              " <136677x20720 sparse matrix of type '<class 'numpy.float64'>'\n",
              " \twith 76786 stored elements in Compressed Sparse Row format>]"
            ]
          },
          "metadata": {
            "tags": []
          },
          "execution_count": 99
        }
      ]
    },
    {
      "cell_type": "code",
      "metadata": {
        "id": "1nRNYRwH8NGm",
        "outputId": "385e0297-a621-410c-920d-48a288304ce2"
      },
      "source": [
        "UserItemMAT_regPSI = AllRatingMatrices(newUserItem_list,'Updated_UserID','Updated_ItemID',rows_i ,cols_i) \n",
        "UserItemMAT_regPSI  "
      ],
      "execution_count": null,
      "outputs": [
        {
          "output_type": "execute_result",
          "data": {
            "text/plain": [
              "[<136677x20720 sparse matrix of type '<class 'numpy.float64'>'\n",
              " \twith 8865107 stored elements in Compressed Sparse Row format>,\n",
              " <136677x20720 sparse matrix of type '<class 'numpy.float64'>'\n",
              " \twith 8945455 stored elements in Compressed Sparse Row format>,\n",
              " <136677x20720 sparse matrix of type '<class 'numpy.float64'>'\n",
              " \twith 9025842 stored elements in Compressed Sparse Row format>,\n",
              " <136677x20720 sparse matrix of type '<class 'numpy.float64'>'\n",
              " \twith 9106051 stored elements in Compressed Sparse Row format>,\n",
              " <136677x20720 sparse matrix of type '<class 'numpy.float64'>'\n",
              " \twith 9186201 stored elements in Compressed Sparse Row format>,\n",
              " <136677x20720 sparse matrix of type '<class 'numpy.float64'>'\n",
              " \twith 9266468 stored elements in Compressed Sparse Row format>,\n",
              " <136677x20720 sparse matrix of type '<class 'numpy.float64'>'\n",
              " \twith 9346597 stored elements in Compressed Sparse Row format>,\n",
              " <136677x20720 sparse matrix of type '<class 'numpy.float64'>'\n",
              " \twith 9426837 stored elements in Compressed Sparse Row format>,\n",
              " <136677x20720 sparse matrix of type '<class 'numpy.float64'>'\n",
              " \twith 9506974 stored elements in Compressed Sparse Row format>,\n",
              " <136677x20720 sparse matrix of type '<class 'numpy.float64'>'\n",
              " \twith 9586957 stored elements in Compressed Sparse Row format>,\n",
              " <136677x20720 sparse matrix of type '<class 'numpy.float64'>'\n",
              " \twith 9667299 stored elements in Compressed Sparse Row format>,\n",
              " <136677x20720 sparse matrix of type '<class 'numpy.float64'>'\n",
              " \twith 9747689 stored elements in Compressed Sparse Row format>,\n",
              " <136677x20720 sparse matrix of type '<class 'numpy.float64'>'\n",
              " \twith 9828194 stored elements in Compressed Sparse Row format>,\n",
              " <136677x20720 sparse matrix of type '<class 'numpy.float64'>'\n",
              " \twith 9908522 stored elements in Compressed Sparse Row format>,\n",
              " <136677x20720 sparse matrix of type '<class 'numpy.float64'>'\n",
              " \twith 9987952 stored elements in Compressed Sparse Row format>]"
            ]
          },
          "metadata": {
            "tags": []
          },
          "execution_count": 100
        }
      ]
    },
    {
      "cell_type": "code",
      "metadata": {
        "colab": {
          "base_uri": "https://localhost:8080/"
        },
        "id": "erGth4eKRRMJ",
        "outputId": "55daf721-ccc9-438f-a637-b77da7712052"
      },
      "source": [
        "Vpsi_listReg =  integratorOnMat(A0_Rating_matrix,PSI_train_matrix,PSI_test_matrix,k=50)  #PSI\n",
        "print(len(Vpsi_listReg))  "
      ],
      "execution_count": null,
      "outputs": [
        {
          "output_type": "stream",
          "text": [
            "15\n"
          ],
          "name": "stdout"
        }
      ]
    },
    {
      "cell_type": "code",
      "metadata": {
        "id": "-ALFq_slAffr"
      },
      "source": [
        ""
      ],
      "execution_count": null,
      "outputs": []
    },
    {
      "cell_type": "markdown",
      "metadata": {
        "id": "iPIvCmfbnLsl"
      },
      "source": [
        "## RegPSI  AllPred"
      ]
    },
    {
      "cell_type": "code",
      "metadata": {
        "id": "ODBMy0uE8NGv",
        "outputId": "e252c358-d034-4443-f224-92a89b457e56"
      },
      "source": [
        "AllUsersRegPIS_PRED =  TQDMgetALLTopNPred_ALLUSERS(UserItemMAT_regPSI,Vpsi_listReg, N=10) \n",
        "print(len(AllUsersRegPIS_PRED))\n",
        "AllUsersRegPIS_PRED[:2]"
      ],
      "execution_count": null,
      "outputs": [
        {
          "output_type": "stream",
          "text": [
            "15it [07:35, 30.37s/it]15\n",
            "\n"
          ],
          "name": "stderr"
        },
        {
          "output_type": "execute_result",
          "data": {
            "text/plain": [
              "[array([[   17,   108,  1072, ...,    81,   118,    89],\n",
              "        [  663,  1062,   969, ...,  1107,   719,    42],\n",
              "        [ 1300,   108,   609, ...,   678,   274,    50],\n",
              "        ...,\n",
              "        [ 6918,  6901,  6908, ...,  6903,  6902, 20719],\n",
              "        [ 6918,  6901,  6908, ...,  6903,  6902, 20719],\n",
              "        [ 6918,  6901,  6908, ...,  6903,  6902, 20719]]),\n",
              " array([[   17,   108,  1072, ...,    81,   118,    89],\n",
              "        [  663,  1062,   969, ...,  1107,   719,    42],\n",
              "        [ 1300,   108,   609, ...,   678,   274,    50],\n",
              "        ...,\n",
              "        [ 6918,  6901,  6908, ...,  6903,  6902, 20719],\n",
              "        [ 6918,  6901,  6908, ...,  6903,  6902, 20719],\n",
              "        [ 6918,  6901,  6908, ...,  6903,  6902, 20719]])]"
            ]
          },
          "metadata": {
            "tags": []
          },
          "execution_count": 102
        }
      ]
    },
    {
      "cell_type": "code",
      "metadata": {
        "id": "73btpxdn8NGv"
      },
      "source": [
        "with open('MLDF20M_PSI_allPRED.pkl', 'wb') as f:\n",
        "     pickle.dump(AllUsersRegPIS_PRED, f)\n"
      ],
      "execution_count": null,
      "outputs": []
    },
    {
      "cell_type": "code",
      "metadata": {
        "id": "rq50242q8NGw",
        "outputId": "708ff346-61f0-45eb-fe4b-54c2e88875d2"
      },
      "source": [
        "AllUsersRegPIS_PRED[2].shape"
      ],
      "execution_count": null,
      "outputs": [
        {
          "output_type": "execute_result",
          "data": {
            "text/plain": [
              "(136677, 10)"
            ]
          },
          "metadata": {
            "tags": []
          },
          "execution_count": 104
        }
      ]
    },
    {
      "cell_type": "code",
      "metadata": {
        "id": "2USarS-qnYeZ"
      },
      "source": [
        ""
      ],
      "execution_count": null,
      "outputs": []
    },
    {
      "cell_type": "code",
      "metadata": {
        "id": "-7YAxpTBnYRT"
      },
      "source": [
        ""
      ],
      "execution_count": null,
      "outputs": []
    },
    {
      "cell_type": "markdown",
      "metadata": {
        "id": "PkouMhzgmD-N"
      },
      "source": [
        "# Pure SVD"
      ]
    },
    {
      "cell_type": "markdown",
      "metadata": {
        "id": "IplkHKXjmEAU"
      },
      "source": [
        "**Get Rating Matrices**"
      ]
    },
    {
      "cell_type": "code",
      "metadata": {
        "id": "n6YJC9n8-OTh",
        "outputId": "3b1f83e8-642e-47c6-a718-d58c87d6c9f6"
      },
      "source": [
        "#MOVIElen_20M\n",
        "newMLDF_20M = pd.read_csv('/mnt/bulky/oolaleke/TDM_Dataset/ML_20M/MLDF20M_afterUpdt.csv.zip')\n",
        "print(newMLDF_20M.shape)   #userId_int\n",
        "newMLDF_20M.head()"
      ],
      "execution_count": null,
      "outputs": [
        {
          "output_type": "stream",
          "text": [
            "(9990682, 9)\n"
          ],
          "name": "stdout"
        },
        {
          "output_type": "execute_result",
          "data": {
            "text/plain": [
              "   userid  movieId  rating            timestamp timestamp_YM  userId  \\\n",
              "0   28507     1176       1  1995-01-09 11:46:44      1995-01       0   \n",
              "1  131160       47       1  1995-01-09 11:46:49      1995-01       1   \n",
              "2   85252       70       1  1996-01-29 00:00:00      1996-01       2   \n",
              "3  134445       45       1  1996-01-29 00:00:00      1996-01       3   \n",
              "4   99851       10       1  1996-01-29 00:00:00      1996-01       4   \n",
              "\n",
              "   productId  Updated_UserID  Updated_ItemID  \n",
              "0          0               0               0  \n",
              "1          1               1               1  \n",
              "2          2               2               2  \n",
              "3          3               3               3  \n",
              "4          4               4               4  "
            ],
            "text/html": [
              "<div>\n",
              "<style scoped>\n",
              "    .dataframe tbody tr th:only-of-type {\n",
              "        vertical-align: middle;\n",
              "    }\n",
              "\n",
              "    .dataframe tbody tr th {\n",
              "        vertical-align: top;\n",
              "    }\n",
              "\n",
              "    .dataframe thead th {\n",
              "        text-align: right;\n",
              "    }\n",
              "</style>\n",
              "<table border=\"1\" class=\"dataframe\">\n",
              "  <thead>\n",
              "    <tr style=\"text-align: right;\">\n",
              "      <th></th>\n",
              "      <th>userid</th>\n",
              "      <th>movieId</th>\n",
              "      <th>rating</th>\n",
              "      <th>timestamp</th>\n",
              "      <th>timestamp_YM</th>\n",
              "      <th>userId</th>\n",
              "      <th>productId</th>\n",
              "      <th>Updated_UserID</th>\n",
              "      <th>Updated_ItemID</th>\n",
              "    </tr>\n",
              "  </thead>\n",
              "  <tbody>\n",
              "    <tr>\n",
              "      <th>0</th>\n",
              "      <td>28507</td>\n",
              "      <td>1176</td>\n",
              "      <td>1</td>\n",
              "      <td>1995-01-09 11:46:44</td>\n",
              "      <td>1995-01</td>\n",
              "      <td>0</td>\n",
              "      <td>0</td>\n",
              "      <td>0</td>\n",
              "      <td>0</td>\n",
              "    </tr>\n",
              "    <tr>\n",
              "      <th>1</th>\n",
              "      <td>131160</td>\n",
              "      <td>47</td>\n",
              "      <td>1</td>\n",
              "      <td>1995-01-09 11:46:49</td>\n",
              "      <td>1995-01</td>\n",
              "      <td>1</td>\n",
              "      <td>1</td>\n",
              "      <td>1</td>\n",
              "      <td>1</td>\n",
              "    </tr>\n",
              "    <tr>\n",
              "      <th>2</th>\n",
              "      <td>85252</td>\n",
              "      <td>70</td>\n",
              "      <td>1</td>\n",
              "      <td>1996-01-29 00:00:00</td>\n",
              "      <td>1996-01</td>\n",
              "      <td>2</td>\n",
              "      <td>2</td>\n",
              "      <td>2</td>\n",
              "      <td>2</td>\n",
              "    </tr>\n",
              "    <tr>\n",
              "      <th>3</th>\n",
              "      <td>134445</td>\n",
              "      <td>45</td>\n",
              "      <td>1</td>\n",
              "      <td>1996-01-29 00:00:00</td>\n",
              "      <td>1996-01</td>\n",
              "      <td>3</td>\n",
              "      <td>3</td>\n",
              "      <td>3</td>\n",
              "      <td>3</td>\n",
              "    </tr>\n",
              "    <tr>\n",
              "      <th>4</th>\n",
              "      <td>99851</td>\n",
              "      <td>10</td>\n",
              "      <td>1</td>\n",
              "      <td>1996-01-29 00:00:00</td>\n",
              "      <td>1996-01</td>\n",
              "      <td>4</td>\n",
              "      <td>4</td>\n",
              "      <td>4</td>\n",
              "      <td>4</td>\n",
              "    </tr>\n",
              "  </tbody>\n",
              "</table>\n",
              "</div>"
            ]
          },
          "metadata": {
            "tags": []
          },
          "execution_count": 8
        }
      ]
    },
    {
      "cell_type": "code",
      "metadata": {
        "id": "8KxoDcnN-OTi"
      },
      "source": [
        "import pickle\n",
        "\n",
        "with open('/mnt/bulky/oolaleke/TDM_Dataset/ML_20M/MLDF20M_newHoldout.pkl', 'rb') as f:\n",
        "     newHoldout_list = pickle.load(f)\n",
        "    \n",
        "    \n",
        "with open('/mnt/bulky/oolaleke/TDM_Dataset/ML_20M/MLDF20M_newUserItem.pkl', 'rb') as f:\n",
        "     newUserItem_list = pickle.load(f)\n"
      ],
      "execution_count": null,
      "outputs": []
    },
    {
      "cell_type": "code",
      "metadata": {
        "id": "CqfE0PNF8NG1",
        "outputId": "e3b1b61c-4d5b-4913-9d5a-1a9528958c35"
      },
      "source": [
        "rows_i = newMLDF_20M['Updated_UserID'].nunique()\n",
        "cols_i = newMLDF_20M['Updated_ItemID'].nunique()\n",
        "SVD_UserItemMAT = AllRatingMatrices(newUserItem_list,'Updated_UserID','Updated_ItemID',rows_i ,cols_i) ##Same as UserItemMAT_regPSI\n",
        "SVD_UserItemMAT"
      ],
      "execution_count": null,
      "outputs": [
        {
          "output_type": "execute_result",
          "data": {
            "text/plain": [
              "[<136677x20720 sparse matrix of type '<class 'numpy.float64'>'\n",
              " \twith 8865107 stored elements in Compressed Sparse Row format>,\n",
              " <136677x20720 sparse matrix of type '<class 'numpy.float64'>'\n",
              " \twith 8945455 stored elements in Compressed Sparse Row format>,\n",
              " <136677x20720 sparse matrix of type '<class 'numpy.float64'>'\n",
              " \twith 9025842 stored elements in Compressed Sparse Row format>,\n",
              " <136677x20720 sparse matrix of type '<class 'numpy.float64'>'\n",
              " \twith 9106051 stored elements in Compressed Sparse Row format>,\n",
              " <136677x20720 sparse matrix of type '<class 'numpy.float64'>'\n",
              " \twith 9186201 stored elements in Compressed Sparse Row format>,\n",
              " <136677x20720 sparse matrix of type '<class 'numpy.float64'>'\n",
              " \twith 9266468 stored elements in Compressed Sparse Row format>,\n",
              " <136677x20720 sparse matrix of type '<class 'numpy.float64'>'\n",
              " \twith 9346597 stored elements in Compressed Sparse Row format>,\n",
              " <136677x20720 sparse matrix of type '<class 'numpy.float64'>'\n",
              " \twith 9426837 stored elements in Compressed Sparse Row format>,\n",
              " <136677x20720 sparse matrix of type '<class 'numpy.float64'>'\n",
              " \twith 9506974 stored elements in Compressed Sparse Row format>,\n",
              " <136677x20720 sparse matrix of type '<class 'numpy.float64'>'\n",
              " \twith 9586957 stored elements in Compressed Sparse Row format>,\n",
              " <136677x20720 sparse matrix of type '<class 'numpy.float64'>'\n",
              " \twith 9667299 stored elements in Compressed Sparse Row format>,\n",
              " <136677x20720 sparse matrix of type '<class 'numpy.float64'>'\n",
              " \twith 9747689 stored elements in Compressed Sparse Row format>,\n",
              " <136677x20720 sparse matrix of type '<class 'numpy.float64'>'\n",
              " \twith 9828194 stored elements in Compressed Sparse Row format>,\n",
              " <136677x20720 sparse matrix of type '<class 'numpy.float64'>'\n",
              " \twith 9908522 stored elements in Compressed Sparse Row format>,\n",
              " <136677x20720 sparse matrix of type '<class 'numpy.float64'>'\n",
              " \twith 9987952 stored elements in Compressed Sparse Row format>]"
            ]
          },
          "metadata": {
            "tags": []
          },
          "execution_count": 16
        }
      ]
    },
    {
      "cell_type": "code",
      "metadata": {
        "id": "tlH1l9rq-OTj"
      },
      "source": [
        "##Tuning:\n",
        "def SVDoptimalSearch(RatingMat,holdout,user_column,item_column,start,end,increment,N=10):\n",
        "    AllHitrate = []\n",
        "    for rank in tqdm(range(start,end+1,increment)): \n",
        "        Usvd, Ssvd, VTsvd = svds(RatingMat, k=rank)\n",
        "        Vsvd = VTsvd.T\n",
        "        top_k = TopNPred(RatingMat,holdout,Vsvd, user_column, N)\n",
        "        hit_r = Hitrate_Eval(holdout,top_k,user_column,item_column)\n",
        "        AllHitrate.append(hit_r)\n",
        "    return AllHitrate"
      ],
      "execution_count": null,
      "outputs": []
    },
    {
      "cell_type": "code",
      "metadata": {
        "id": "QbjZweO7-OTk",
        "outputId": "c2492856-10f9-4e0e-affd-172ab19fbf09"
      },
      "source": [
        "AllHitrate = SVDoptimalSearch(SVD_UserItemMAT[0],newHoldout_list[0],'Updated_UserID','Updated_ItemID',start=10,end=80,increment=10,N=10)"
      ],
      "execution_count": null,
      "outputs": [
        {
          "output_type": "stream",
          "text": [
            " 12%|█▎        | 1/8 [00:02<00:17,  2.47s/it]Number of hits:  157\n",
            "Total Num of users:  3459\n",
            "Recommendation HitRate:  0.045388840705406185\n",
            " 25%|██▌       | 2/8 [00:06<00:21,  3.53s/it]Number of hits:  179\n",
            "Total Num of users:  3459\n",
            "Recommendation HitRate:  0.05174906042208731\n",
            " 38%|███▊      | 3/8 [00:10<00:19,  3.86s/it]Number of hits:  180\n",
            "Total Num of users:  3459\n",
            "Recommendation HitRate:  0.05203816131830009\n",
            " 50%|█████     | 4/8 [00:17<00:19,  4.78s/it]Number of hits:  182\n",
            "Total Num of users:  3459\n",
            "Recommendation HitRate:  0.05261636311072564\n",
            " 62%|██████▎   | 5/8 [00:25<00:17,  5.98s/it]Number of hits:  205\n",
            "Total Num of users:  3459\n",
            "Recommendation HitRate:  0.059265683723619546\n",
            " 75%|███████▌  | 6/8 [00:33<00:13,  6.77s/it]Number of hits:  203\n",
            "Total Num of users:  3459\n",
            "Recommendation HitRate:  0.05868748193119399\n",
            " 88%|████████▊ | 7/8 [00:43<00:07,  7.91s/it]Number of hits:  197\n",
            "Total Num of users:  3459\n",
            "Recommendation HitRate:  0.056952876553917314\n",
            "100%|██████████| 8/8 [00:54<00:00,  6.85s/it]Number of hits:  198\n",
            "Total Num of users:  3459\n",
            "Recommendation HitRate:  0.05724197745013009\n",
            "\n"
          ],
          "name": "stderr"
        }
      ]
    },
    {
      "cell_type": "code",
      "metadata": {
        "id": "yqQho76J-OTl",
        "outputId": "d9dd9b48-9c8a-48c8-97ad-ad5f2096a39c"
      },
      "source": [
        "AllHitrate"
      ],
      "execution_count": null,
      "outputs": [
        {
          "output_type": "execute_result",
          "data": {
            "text/plain": [
              "[0.045388840705406185,\n",
              " 0.05174906042208731,\n",
              " 0.05203816131830009,\n",
              " 0.05261636311072564,\n",
              " 0.059265683723619546,\n",
              " 0.05868748193119399,\n",
              " 0.056952876553917314,\n",
              " 0.05724197745013009]"
            ]
          },
          "metadata": {
            "tags": []
          },
          "execution_count": 23
        }
      ]
    },
    {
      "cell_type": "code",
      "metadata": {
        "id": "JH5lKGpe-OTn",
        "outputId": "6aa84992-5ec1-4445-ecaa-e583afc744c0"
      },
      "source": [
        "plt.plot(AllHitrate)   ###Max == 50"
      ],
      "execution_count": null,
      "outputs": [
        {
          "output_type": "execute_result",
          "data": {
            "text/plain": [
              "[<matplotlib.lines.Line2D at 0x7f6d3de6f910>]"
            ]
          },
          "metadata": {
            "tags": []
          },
          "execution_count": 22
        },
        {
          "output_type": "display_data",
          "data": {
            "text/plain": [
              "<Figure size 432x288 with 1 Axes>"
            ],
            "image/svg+xml": "<?xml version=\"1.0\" encoding=\"utf-8\" standalone=\"no\"?>\n<!DOCTYPE svg PUBLIC \"-//W3C//DTD SVG 1.1//EN\"\n  \"http://www.w3.org/Graphics/SVG/1.1/DTD/svg11.dtd\">\n<svg height=\"248.518125pt\" version=\"1.1\" viewBox=\"0 0 384.828125 248.518125\" width=\"384.828125pt\" xmlns=\"http://www.w3.org/2000/svg\" xmlns:xlink=\"http://www.w3.org/1999/xlink\">\n <metadata>\n  <rdf:RDF xmlns:cc=\"http://creativecommons.org/ns#\" xmlns:dc=\"http://purl.org/dc/elements/1.1/\" xmlns:rdf=\"http://www.w3.org/1999/02/22-rdf-syntax-ns#\">\n   <cc:Work>\n    <dc:type rdf:resource=\"http://purl.org/dc/dcmitype/StillImage\"/>\n    <dc:date>2021-05-16T00:34:42.594854</dc:date>\n    <dc:format>image/svg+xml</dc:format>\n    <dc:creator>\n     <cc:Agent>\n      <dc:title>Matplotlib v3.4.1, https://matplotlib.org/</dc:title>\n     </cc:Agent>\n    </dc:creator>\n   </cc:Work>\n  </rdf:RDF>\n </metadata>\n <defs>\n  <style type=\"text/css\">*{stroke-linecap:butt;stroke-linejoin:round;}</style>\n </defs>\n <g id=\"figure_1\">\n  <g id=\"patch_1\">\n   <path d=\"M 0 248.518125 \nL 384.828125 248.518125 \nL 384.828125 0 \nL 0 0 \nz\n\" style=\"fill:none;\"/>\n  </g>\n  <g id=\"axes_1\">\n   <g id=\"patch_2\">\n    <path d=\"M 42.828125 224.64 \nL 377.628125 224.64 \nL 377.628125 7.2 \nL 42.828125 7.2 \nz\n\" style=\"fill:#ffffff;\"/>\n   </g>\n   <g id=\"matplotlib.axis_1\">\n    <g id=\"xtick_1\">\n     <g id=\"line2d_1\">\n      <defs>\n       <path d=\"M 0 0 \nL 0 3.5 \n\" id=\"m3224eaee31\" style=\"stroke:#000000;stroke-width:0.8;\"/>\n      </defs>\n      <g>\n       <use style=\"stroke:#000000;stroke-width:0.8;\" x=\"58.046307\" xlink:href=\"#m3224eaee31\" y=\"224.64\"/>\n      </g>\n     </g>\n     <g id=\"text_1\">\n      <!-- 0 -->\n      <g transform=\"translate(54.865057 239.238437)scale(0.1 -0.1)\">\n       <defs>\n        <path d=\"M 2034 4250 \nQ 1547 4250 1301 3770 \nQ 1056 3291 1056 2328 \nQ 1056 1369 1301 889 \nQ 1547 409 2034 409 \nQ 2525 409 2770 889 \nQ 3016 1369 3016 2328 \nQ 3016 3291 2770 3770 \nQ 2525 4250 2034 4250 \nz\nM 2034 4750 \nQ 2819 4750 3233 4129 \nQ 3647 3509 3647 2328 \nQ 3647 1150 3233 529 \nQ 2819 -91 2034 -91 \nQ 1250 -91 836 529 \nQ 422 1150 422 2328 \nQ 422 3509 836 4129 \nQ 1250 4750 2034 4750 \nz\n\" id=\"DejaVuSans-30\" transform=\"scale(0.015625)\"/>\n       </defs>\n       <use xlink:href=\"#DejaVuSans-30\"/>\n      </g>\n     </g>\n    </g>\n    <g id=\"xtick_2\">\n     <g id=\"line2d_2\">\n      <g>\n       <use style=\"stroke:#000000;stroke-width:0.8;\" x=\"101.526826\" xlink:href=\"#m3224eaee31\" y=\"224.64\"/>\n      </g>\n     </g>\n     <g id=\"text_2\">\n      <!-- 1 -->\n      <g transform=\"translate(98.345576 239.238437)scale(0.1 -0.1)\">\n       <defs>\n        <path d=\"M 794 531 \nL 1825 531 \nL 1825 4091 \nL 703 3866 \nL 703 4441 \nL 1819 4666 \nL 2450 4666 \nL 2450 531 \nL 3481 531 \nL 3481 0 \nL 794 0 \nL 794 531 \nz\n\" id=\"DejaVuSans-31\" transform=\"scale(0.015625)\"/>\n       </defs>\n       <use xlink:href=\"#DejaVuSans-31\"/>\n      </g>\n     </g>\n    </g>\n    <g id=\"xtick_3\">\n     <g id=\"line2d_3\">\n      <g>\n       <use style=\"stroke:#000000;stroke-width:0.8;\" x=\"145.007346\" xlink:href=\"#m3224eaee31\" y=\"224.64\"/>\n      </g>\n     </g>\n     <g id=\"text_3\">\n      <!-- 2 -->\n      <g transform=\"translate(141.826096 239.238437)scale(0.1 -0.1)\">\n       <defs>\n        <path d=\"M 1228 531 \nL 3431 531 \nL 3431 0 \nL 469 0 \nL 469 531 \nQ 828 903 1448 1529 \nQ 2069 2156 2228 2338 \nQ 2531 2678 2651 2914 \nQ 2772 3150 2772 3378 \nQ 2772 3750 2511 3984 \nQ 2250 4219 1831 4219 \nQ 1534 4219 1204 4116 \nQ 875 4013 500 3803 \nL 500 4441 \nQ 881 4594 1212 4672 \nQ 1544 4750 1819 4750 \nQ 2544 4750 2975 4387 \nQ 3406 4025 3406 3419 \nQ 3406 3131 3298 2873 \nQ 3191 2616 2906 2266 \nQ 2828 2175 2409 1742 \nQ 1991 1309 1228 531 \nz\n\" id=\"DejaVuSans-32\" transform=\"scale(0.015625)\"/>\n       </defs>\n       <use xlink:href=\"#DejaVuSans-32\"/>\n      </g>\n     </g>\n    </g>\n    <g id=\"xtick_4\">\n     <g id=\"line2d_4\">\n      <g>\n       <use style=\"stroke:#000000;stroke-width:0.8;\" x=\"188.487865\" xlink:href=\"#m3224eaee31\" y=\"224.64\"/>\n      </g>\n     </g>\n     <g id=\"text_4\">\n      <!-- 3 -->\n      <g transform=\"translate(185.306615 239.238437)scale(0.1 -0.1)\">\n       <defs>\n        <path d=\"M 2597 2516 \nQ 3050 2419 3304 2112 \nQ 3559 1806 3559 1356 \nQ 3559 666 3084 287 \nQ 2609 -91 1734 -91 \nQ 1441 -91 1130 -33 \nQ 819 25 488 141 \nL 488 750 \nQ 750 597 1062 519 \nQ 1375 441 1716 441 \nQ 2309 441 2620 675 \nQ 2931 909 2931 1356 \nQ 2931 1769 2642 2001 \nQ 2353 2234 1838 2234 \nL 1294 2234 \nL 1294 2753 \nL 1863 2753 \nQ 2328 2753 2575 2939 \nQ 2822 3125 2822 3475 \nQ 2822 3834 2567 4026 \nQ 2313 4219 1838 4219 \nQ 1578 4219 1281 4162 \nQ 984 4106 628 3988 \nL 628 4550 \nQ 988 4650 1302 4700 \nQ 1616 4750 1894 4750 \nQ 2613 4750 3031 4423 \nQ 3450 4097 3450 3541 \nQ 3450 3153 3228 2886 \nQ 3006 2619 2597 2516 \nz\n\" id=\"DejaVuSans-33\" transform=\"scale(0.015625)\"/>\n       </defs>\n       <use xlink:href=\"#DejaVuSans-33\"/>\n      </g>\n     </g>\n    </g>\n    <g id=\"xtick_5\">\n     <g id=\"line2d_5\">\n      <g>\n       <use style=\"stroke:#000000;stroke-width:0.8;\" x=\"231.968385\" xlink:href=\"#m3224eaee31\" y=\"224.64\"/>\n      </g>\n     </g>\n     <g id=\"text_5\">\n      <!-- 4 -->\n      <g transform=\"translate(228.787135 239.238437)scale(0.1 -0.1)\">\n       <defs>\n        <path d=\"M 2419 4116 \nL 825 1625 \nL 2419 1625 \nL 2419 4116 \nz\nM 2253 4666 \nL 3047 4666 \nL 3047 1625 \nL 3713 1625 \nL 3713 1100 \nL 3047 1100 \nL 3047 0 \nL 2419 0 \nL 2419 1100 \nL 313 1100 \nL 313 1709 \nL 2253 4666 \nz\n\" id=\"DejaVuSans-34\" transform=\"scale(0.015625)\"/>\n       </defs>\n       <use xlink:href=\"#DejaVuSans-34\"/>\n      </g>\n     </g>\n    </g>\n    <g id=\"xtick_6\">\n     <g id=\"line2d_6\">\n      <g>\n       <use style=\"stroke:#000000;stroke-width:0.8;\" x=\"275.448904\" xlink:href=\"#m3224eaee31\" y=\"224.64\"/>\n      </g>\n     </g>\n     <g id=\"text_6\">\n      <!-- 5 -->\n      <g transform=\"translate(272.267654 239.238437)scale(0.1 -0.1)\">\n       <defs>\n        <path d=\"M 691 4666 \nL 3169 4666 \nL 3169 4134 \nL 1269 4134 \nL 1269 2991 \nQ 1406 3038 1543 3061 \nQ 1681 3084 1819 3084 \nQ 2600 3084 3056 2656 \nQ 3513 2228 3513 1497 \nQ 3513 744 3044 326 \nQ 2575 -91 1722 -91 \nQ 1428 -91 1123 -41 \nQ 819 9 494 109 \nL 494 744 \nQ 775 591 1075 516 \nQ 1375 441 1709 441 \nQ 2250 441 2565 725 \nQ 2881 1009 2881 1497 \nQ 2881 1984 2565 2268 \nQ 2250 2553 1709 2553 \nQ 1456 2553 1204 2497 \nQ 953 2441 691 2322 \nL 691 4666 \nz\n\" id=\"DejaVuSans-35\" transform=\"scale(0.015625)\"/>\n       </defs>\n       <use xlink:href=\"#DejaVuSans-35\"/>\n      </g>\n     </g>\n    </g>\n    <g id=\"xtick_7\">\n     <g id=\"line2d_7\">\n      <g>\n       <use style=\"stroke:#000000;stroke-width:0.8;\" x=\"318.929424\" xlink:href=\"#m3224eaee31\" y=\"224.64\"/>\n      </g>\n     </g>\n     <g id=\"text_7\">\n      <!-- 6 -->\n      <g transform=\"translate(315.748174 239.238437)scale(0.1 -0.1)\">\n       <defs>\n        <path d=\"M 2113 2584 \nQ 1688 2584 1439 2293 \nQ 1191 2003 1191 1497 \nQ 1191 994 1439 701 \nQ 1688 409 2113 409 \nQ 2538 409 2786 701 \nQ 3034 994 3034 1497 \nQ 3034 2003 2786 2293 \nQ 2538 2584 2113 2584 \nz\nM 3366 4563 \nL 3366 3988 \nQ 3128 4100 2886 4159 \nQ 2644 4219 2406 4219 \nQ 1781 4219 1451 3797 \nQ 1122 3375 1075 2522 \nQ 1259 2794 1537 2939 \nQ 1816 3084 2150 3084 \nQ 2853 3084 3261 2657 \nQ 3669 2231 3669 1497 \nQ 3669 778 3244 343 \nQ 2819 -91 2113 -91 \nQ 1303 -91 875 529 \nQ 447 1150 447 2328 \nQ 447 3434 972 4092 \nQ 1497 4750 2381 4750 \nQ 2619 4750 2861 4703 \nQ 3103 4656 3366 4563 \nz\n\" id=\"DejaVuSans-36\" transform=\"scale(0.015625)\"/>\n       </defs>\n       <use xlink:href=\"#DejaVuSans-36\"/>\n      </g>\n     </g>\n    </g>\n    <g id=\"xtick_8\">\n     <g id=\"line2d_8\">\n      <g>\n       <use style=\"stroke:#000000;stroke-width:0.8;\" x=\"362.409943\" xlink:href=\"#m3224eaee31\" y=\"224.64\"/>\n      </g>\n     </g>\n     <g id=\"text_8\">\n      <!-- 7 -->\n      <g transform=\"translate(359.228693 239.238437)scale(0.1 -0.1)\">\n       <defs>\n        <path d=\"M 525 4666 \nL 3525 4666 \nL 3525 4397 \nL 1831 0 \nL 1172 0 \nL 2766 4134 \nL 525 4134 \nL 525 4666 \nz\n\" id=\"DejaVuSans-37\" transform=\"scale(0.015625)\"/>\n       </defs>\n       <use xlink:href=\"#DejaVuSans-37\"/>\n      </g>\n     </g>\n    </g>\n   </g>\n   <g id=\"matplotlib.axis_2\">\n    <g id=\"ytick_1\">\n     <g id=\"line2d_9\">\n      <defs>\n       <path d=\"M 0 0 \nL -3.5 0 \n\" id=\"me3481dfaf5\" style=\"stroke:#000000;stroke-width:0.8;\"/>\n      </defs>\n      <g>\n       <use style=\"stroke:#000000;stroke-width:0.8;\" x=\"42.828125\" xlink:href=\"#me3481dfaf5\" y=\"206.050527\"/>\n      </g>\n     </g>\n     <g id=\"text_9\">\n      <!-- 0.046 -->\n      <g transform=\"translate(7.2 209.849746)scale(0.1 -0.1)\">\n       <defs>\n        <path d=\"M 684 794 \nL 1344 794 \nL 1344 0 \nL 684 0 \nL 684 794 \nz\n\" id=\"DejaVuSans-2e\" transform=\"scale(0.015625)\"/>\n       </defs>\n       <use xlink:href=\"#DejaVuSans-30\"/>\n       <use x=\"63.623047\" xlink:href=\"#DejaVuSans-2e\"/>\n       <use x=\"95.410156\" xlink:href=\"#DejaVuSans-30\"/>\n       <use x=\"159.033203\" xlink:href=\"#DejaVuSans-34\"/>\n       <use x=\"222.65625\" xlink:href=\"#DejaVuSans-36\"/>\n      </g>\n     </g>\n    </g>\n    <g id=\"ytick_2\">\n     <g id=\"line2d_10\">\n      <g>\n       <use style=\"stroke:#000000;stroke-width:0.8;\" x=\"42.828125\" xlink:href=\"#me3481dfaf5\" y=\"177.560945\"/>\n      </g>\n     </g>\n     <g id=\"text_10\">\n      <!-- 0.048 -->\n      <g transform=\"translate(7.2 181.360164)scale(0.1 -0.1)\">\n       <defs>\n        <path d=\"M 2034 2216 \nQ 1584 2216 1326 1975 \nQ 1069 1734 1069 1313 \nQ 1069 891 1326 650 \nQ 1584 409 2034 409 \nQ 2484 409 2743 651 \nQ 3003 894 3003 1313 \nQ 3003 1734 2745 1975 \nQ 2488 2216 2034 2216 \nz\nM 1403 2484 \nQ 997 2584 770 2862 \nQ 544 3141 544 3541 \nQ 544 4100 942 4425 \nQ 1341 4750 2034 4750 \nQ 2731 4750 3128 4425 \nQ 3525 4100 3525 3541 \nQ 3525 3141 3298 2862 \nQ 3072 2584 2669 2484 \nQ 3125 2378 3379 2068 \nQ 3634 1759 3634 1313 \nQ 3634 634 3220 271 \nQ 2806 -91 2034 -91 \nQ 1263 -91 848 271 \nQ 434 634 434 1313 \nQ 434 1759 690 2068 \nQ 947 2378 1403 2484 \nz\nM 1172 3481 \nQ 1172 3119 1398 2916 \nQ 1625 2713 2034 2713 \nQ 2441 2713 2670 2916 \nQ 2900 3119 2900 3481 \nQ 2900 3844 2670 4047 \nQ 2441 4250 2034 4250 \nQ 1625 4250 1398 4047 \nQ 1172 3844 1172 3481 \nz\n\" id=\"DejaVuSans-38\" transform=\"scale(0.015625)\"/>\n       </defs>\n       <use xlink:href=\"#DejaVuSans-30\"/>\n       <use x=\"63.623047\" xlink:href=\"#DejaVuSans-2e\"/>\n       <use x=\"95.410156\" xlink:href=\"#DejaVuSans-30\"/>\n       <use x=\"159.033203\" xlink:href=\"#DejaVuSans-34\"/>\n       <use x=\"222.65625\" xlink:href=\"#DejaVuSans-38\"/>\n      </g>\n     </g>\n    </g>\n    <g id=\"ytick_3\">\n     <g id=\"line2d_11\">\n      <g>\n       <use style=\"stroke:#000000;stroke-width:0.8;\" x=\"42.828125\" xlink:href=\"#me3481dfaf5\" y=\"149.071364\"/>\n      </g>\n     </g>\n     <g id=\"text_11\">\n      <!-- 0.050 -->\n      <g transform=\"translate(7.2 152.870582)scale(0.1 -0.1)\">\n       <use xlink:href=\"#DejaVuSans-30\"/>\n       <use x=\"63.623047\" xlink:href=\"#DejaVuSans-2e\"/>\n       <use x=\"95.410156\" xlink:href=\"#DejaVuSans-30\"/>\n       <use x=\"159.033203\" xlink:href=\"#DejaVuSans-35\"/>\n       <use x=\"222.65625\" xlink:href=\"#DejaVuSans-30\"/>\n      </g>\n     </g>\n    </g>\n    <g id=\"ytick_4\">\n     <g id=\"line2d_12\">\n      <g>\n       <use style=\"stroke:#000000;stroke-width:0.8;\" x=\"42.828125\" xlink:href=\"#me3481dfaf5\" y=\"120.581782\"/>\n      </g>\n     </g>\n     <g id=\"text_12\">\n      <!-- 0.052 -->\n      <g transform=\"translate(7.2 124.381001)scale(0.1 -0.1)\">\n       <use xlink:href=\"#DejaVuSans-30\"/>\n       <use x=\"63.623047\" xlink:href=\"#DejaVuSans-2e\"/>\n       <use x=\"95.410156\" xlink:href=\"#DejaVuSans-30\"/>\n       <use x=\"159.033203\" xlink:href=\"#DejaVuSans-35\"/>\n       <use x=\"222.65625\" xlink:href=\"#DejaVuSans-32\"/>\n      </g>\n     </g>\n    </g>\n    <g id=\"ytick_5\">\n     <g id=\"line2d_13\">\n      <g>\n       <use style=\"stroke:#000000;stroke-width:0.8;\" x=\"42.828125\" xlink:href=\"#me3481dfaf5\" y=\"92.0922\"/>\n      </g>\n     </g>\n     <g id=\"text_13\">\n      <!-- 0.054 -->\n      <g transform=\"translate(7.2 95.891419)scale(0.1 -0.1)\">\n       <use xlink:href=\"#DejaVuSans-30\"/>\n       <use x=\"63.623047\" xlink:href=\"#DejaVuSans-2e\"/>\n       <use x=\"95.410156\" xlink:href=\"#DejaVuSans-30\"/>\n       <use x=\"159.033203\" xlink:href=\"#DejaVuSans-35\"/>\n       <use x=\"222.65625\" xlink:href=\"#DejaVuSans-34\"/>\n      </g>\n     </g>\n    </g>\n    <g id=\"ytick_6\">\n     <g id=\"line2d_14\">\n      <g>\n       <use style=\"stroke:#000000;stroke-width:0.8;\" x=\"42.828125\" xlink:href=\"#me3481dfaf5\" y=\"63.602618\"/>\n      </g>\n     </g>\n     <g id=\"text_14\">\n      <!-- 0.056 -->\n      <g transform=\"translate(7.2 67.401837)scale(0.1 -0.1)\">\n       <use xlink:href=\"#DejaVuSans-30\"/>\n       <use x=\"63.623047\" xlink:href=\"#DejaVuSans-2e\"/>\n       <use x=\"95.410156\" xlink:href=\"#DejaVuSans-30\"/>\n       <use x=\"159.033203\" xlink:href=\"#DejaVuSans-35\"/>\n       <use x=\"222.65625\" xlink:href=\"#DejaVuSans-36\"/>\n      </g>\n     </g>\n    </g>\n    <g id=\"ytick_7\">\n     <g id=\"line2d_15\">\n      <g>\n       <use style=\"stroke:#000000;stroke-width:0.8;\" x=\"42.828125\" xlink:href=\"#me3481dfaf5\" y=\"35.113036\"/>\n      </g>\n     </g>\n     <g id=\"text_15\">\n      <!-- 0.058 -->\n      <g transform=\"translate(7.2 38.912255)scale(0.1 -0.1)\">\n       <use xlink:href=\"#DejaVuSans-30\"/>\n       <use x=\"63.623047\" xlink:href=\"#DejaVuSans-2e\"/>\n       <use x=\"95.410156\" xlink:href=\"#DejaVuSans-30\"/>\n       <use x=\"159.033203\" xlink:href=\"#DejaVuSans-35\"/>\n       <use x=\"222.65625\" xlink:href=\"#DejaVuSans-38\"/>\n      </g>\n     </g>\n    </g>\n   </g>\n   <g id=\"line2d_16\">\n    <path clip-path=\"url(#pda2e250291)\" d=\"M 58.046307 214.756364 \nL 101.526826 124.156364 \nL 145.007346 120.038182 \nL 188.487865 111.801818 \nL 231.968385 17.083636 \nL 275.448904 25.32 \nL 318.929424 50.029091 \nL 362.409943 45.910909 \n\" style=\"fill:none;stroke:#1f77b4;stroke-linecap:square;stroke-width:1.5;\"/>\n   </g>\n   <g id=\"patch_3\">\n    <path d=\"M 42.828125 224.64 \nL 42.828125 7.2 \n\" style=\"fill:none;stroke:#000000;stroke-linecap:square;stroke-linejoin:miter;stroke-width:0.8;\"/>\n   </g>\n   <g id=\"patch_4\">\n    <path d=\"M 377.628125 224.64 \nL 377.628125 7.2 \n\" style=\"fill:none;stroke:#000000;stroke-linecap:square;stroke-linejoin:miter;stroke-width:0.8;\"/>\n   </g>\n   <g id=\"patch_5\">\n    <path d=\"M 42.828125 224.64 \nL 377.628125 224.64 \n\" style=\"fill:none;stroke:#000000;stroke-linecap:square;stroke-linejoin:miter;stroke-width:0.8;\"/>\n   </g>\n   <g id=\"patch_6\">\n    <path d=\"M 42.828125 7.2 \nL 377.628125 7.2 \n\" style=\"fill:none;stroke:#000000;stroke-linecap:square;stroke-linejoin:miter;stroke-width:0.8;\"/>\n   </g>\n  </g>\n </g>\n <defs>\n  <clipPath id=\"pda2e250291\">\n   <rect height=\"217.44\" width=\"334.8\" x=\"42.828125\" y=\"7.2\"/>\n  </clipPath>\n </defs>\n</svg>\n",
            "image/png": "[encoded data removed]"
          },
          "metadata": {
            "tags": [],
            "needs_background": "light"
          }
        }
      ]
    },
    {
      "cell_type": "code",
      "metadata": {
        "colab": {
          "base_uri": "https://localhost:8080/"
        },
        "id": "qJSJnDKTdogh",
        "outputId": "fe099c50-df55-458f-e6c5-5e4d308d0155"
      },
      "source": [
        "Vsvd_list = pureSVD(SVD_UserItemMAT,k=50)\n",
        "print(len(Vsvd_list))"
      ],
      "execution_count": null,
      "outputs": [
        {
          "output_type": "stream",
          "text": [
            "15\n"
          ],
          "name": "stdout"
        }
      ]
    },
    {
      "cell_type": "code",
      "metadata": {
        "colab": {
          "base_uri": "https://localhost:8080/"
        },
        "id": "DT9ATyeIdogj",
        "outputId": "9e3ba5db-7a86-4af1-fad5-cf98485e992d"
      },
      "source": [
        "Vsvd_last = Vsvd_list[-1]\n",
        "Vsvd_last"
      ],
      "execution_count": null,
      "outputs": [
        {
          "output_type": "execute_result",
          "data": {
            "text/plain": [
              "array([[-5.21093989e-03, -1.43997794e-03,  8.24085211e-04, ...,\n",
              "        -8.84044305e-03, -7.85443608e-03, -4.24750457e-03],\n",
              "       [-2.31463216e-01, -3.18206357e-02, -4.90215540e-02, ...,\n",
              "         6.41414572e-02,  5.63991071e-02, -9.01850235e-02],\n",
              "       [ 1.38939582e-02,  1.48931262e-02,  1.71452752e-03, ...,\n",
              "         6.33829077e-03,  4.59954168e-03, -1.85764305e-02],\n",
              "       ...,\n",
              "       [ 1.15398630e-05, -1.10198082e-04, -4.03091186e-05, ...,\n",
              "        -7.91126412e-07,  2.37334984e-05, -6.28646908e-06],\n",
              "       [ 1.15398630e-05, -1.10198082e-04, -4.03091186e-05, ...,\n",
              "        -7.91126412e-07,  2.37334984e-05, -6.28646908e-06],\n",
              "       [ 1.15398630e-05, -1.10198082e-04, -4.03091186e-05, ...,\n",
              "        -7.91126412e-07,  2.37334984e-05, -6.28646908e-06]])"
            ]
          },
          "metadata": {
            "tags": []
          },
          "execution_count": 107
        }
      ]
    },
    {
      "cell_type": "code",
      "metadata": {
        "id": "XvWFjmhT-OTq"
      },
      "source": [
        ""
      ],
      "execution_count": null,
      "outputs": []
    },
    {
      "cell_type": "code",
      "metadata": {
        "id": "3RwA_O_gq7J_"
      },
      "source": [
        ""
      ],
      "execution_count": null,
      "outputs": []
    },
    {
      "cell_type": "markdown",
      "metadata": {
        "id": "MOwfp31xq_M8"
      },
      "source": [
        "### SVD AllPred"
      ]
    },
    {
      "cell_type": "code",
      "metadata": {
        "id": "lZJ2v4048NHA",
        "outputId": "2099c143-4973-4b04-9ae2-d5a7a2f7a672"
      },
      "source": [
        "AllUsersSVD_PRED =  TQDMgetALLTopNPred_ALLUSERS(SVD_UserItemMAT,Vsvd_list, N=10) \n",
        "print(len(AllUsersSVD_PRED))\n",
        "AllUsersSVD_PRED[:2]"
      ],
      "execution_count": null,
      "outputs": [
        {
          "output_type": "stream",
          "text": [
            "15it [07:33, 30.24s/it]15\n",
            "\n"
          ],
          "name": "stderr"
        },
        {
          "output_type": "execute_result",
          "data": {
            "text/plain": [
              "[array([[   17,   108,  1072, ...,  1108,    89,  1215],\n",
              "        [  663,  1062,   969, ...,   267,   719,  1107],\n",
              "        [ 1300,   108,    90, ...,    50,   318,   678],\n",
              "        ...,\n",
              "        [ 6918,  6901,  6908, ...,  6903,  6902, 20719],\n",
              "        [ 6918,  6901,  6908, ...,  6903,  6902, 20719],\n",
              "        [ 6918,  6901,  6908, ...,  6903,  6902, 20719]]),\n",
              " array([[   17,   108,  1072, ...,  1108,    89,  1215],\n",
              "        [  663,  1062,   969, ...,   267,   719,  1107],\n",
              "        [ 1300,   108,    90, ...,    50,   318,   213],\n",
              "        ...,\n",
              "        [ 6918,  6901,  6908, ...,  6903,  6902, 20719],\n",
              "        [ 6918,  6901,  6908, ...,  6903,  6902, 20719],\n",
              "        [ 6918,  6901,  6908, ...,  6903,  6902, 20719]])]"
            ]
          },
          "metadata": {
            "tags": []
          },
          "execution_count": 108
        }
      ]
    },
    {
      "cell_type": "code",
      "metadata": {
        "id": "mAycsmW78NHB"
      },
      "source": [
        "with open('MLDF20M_SVD_allPRED.pkl', 'wb') as f:\n",
        "     pickle.dump(AllUsersSVD_PRED, f)\n"
      ],
      "execution_count": null,
      "outputs": []
    },
    {
      "cell_type": "code",
      "metadata": {
        "id": "vTuT6e8M5oFM"
      },
      "source": [
        ""
      ],
      "execution_count": null,
      "outputs": []
    },
    {
      "cell_type": "markdown",
      "metadata": {
        "id": "tp_LhvKAM5ys"
      },
      "source": [
        "## RandRec AllPred"
      ]
    },
    {
      "cell_type": "code",
      "metadata": {
        "colab": {
          "base_uri": "https://localhost:8080/"
        },
        "id": "42RCvm1dlZNu",
        "outputId": "485957b6-7ebc-4c72-baac-94e7c3c51671"
      },
      "source": [
        "print(len(SVD_UserItemMAT),len(newHOLDOUT_LIST))"
      ],
      "execution_count": null,
      "outputs": [
        {
          "output_type": "stream",
          "text": [
            "15 15\n"
          ],
          "name": "stdout"
        }
      ]
    },
    {
      "cell_type": "code",
      "metadata": {
        "id": "eMuYANAS8NHY",
        "outputId": "23484f2c-75c8-4649-97c7-6b930e2a39a9"
      },
      "source": [
        "All_UsersRRecPred = get_ALLRandPred(SVD_UserItemMAT,'Updated_UserID',N=10)\n",
        "All_UsersRRecPred[:2]  "
      ],
      "execution_count": null,
      "outputs": [
        {
          "output_type": "stream",
          "text": [
            "100%|██████████| 15/15 [15:04<00:00, 60.33s/it]\n"
          ],
          "name": "stderr"
        },
        {
          "output_type": "execute_result",
          "data": {
            "text/plain": [
              "[array([[10399,  9457, 10652, ..., 20293,  9969, 13074],\n",
              "        [17381,  9187, 19470, ..., 14438,  6737,  1733],\n",
              "        [ 1731,  9052,  7557, ..., 12049, 13872,  9385],\n",
              "        ...,\n",
              "        [ 6374,  1653,   274, ..., 11490,  2060, 19305],\n",
              "        [17965,  1419, 12976, ...,  9405, 14280,  4617],\n",
              "        [17993, 15722,  5623, ..., 10584,  5186, 20247]]),\n",
              " array([[ 7497, 10920, 17390, ...,  1635, 18499, 10468],\n",
              "        [10507, 15677,  3154, ...,  3331, 16174,  4025],\n",
              "        [ 5266, 14584,  6137, ..., 14818,  7548,  1695],\n",
              "        ...,\n",
              "        [18879,  6476,  5348, ...,  4450, 12138,  8014],\n",
              "        [ 8858,  8683, 15085, ..., 19253,  4969,   121],\n",
              "        [ 5690, 14254,   503, ..., 19807,  4225, 17752]])]"
            ]
          },
          "metadata": {
            "tags": []
          },
          "execution_count": 131
        }
      ]
    },
    {
      "cell_type": "code",
      "metadata": {
        "colab": {
          "base_uri": "https://localhost:8080/"
        },
        "id": "TBkzzmmFlZNz",
        "outputId": "f066dac9-b2a2-4c9a-d9b8-eba929a11b75"
      },
      "source": [
        "All_UsersRRecPred[1].shape"
      ],
      "execution_count": null,
      "outputs": [
        {
          "output_type": "execute_result",
          "data": {
            "text/plain": [
              "(136677, 10)"
            ]
          },
          "metadata": {
            "tags": []
          },
          "execution_count": 132
        }
      ]
    },
    {
      "cell_type": "code",
      "metadata": {
        "id": "80XlCcJS8NHZ"
      },
      "source": [
        "with open('MLDF20M_RRec_AllPRED.pkl', 'wb') as f:\n",
        "     pickle.dump(All_UsersRRecPred, f)\n"
      ],
      "execution_count": null,
      "outputs": []
    },
    {
      "cell_type": "code",
      "metadata": {
        "id": "_YumCnLur0p_"
      },
      "source": [
        ""
      ],
      "execution_count": null,
      "outputs": []
    },
    {
      "cell_type": "markdown",
      "metadata": {
        "id": "DCw8gy2rM9Or"
      },
      "source": [
        "## MostPop AllPred"
      ]
    },
    {
      "cell_type": "code",
      "metadata": {
        "id": "A-V7Lj0H8NHl",
        "outputId": "973422c8-813d-4bf7-d007-9c95f3fb1cf1"
      },
      "source": [
        "                      #getAll_MOSTPOP_Pred(DF_list,user_column,item_colum,Nusers,N\n",
        "Nusers = newMLDF_20M['Updated_UserID'].nunique()\n",
        "All_MostPOPRED_List =  getAll_MOSTPOP_Pred(new_PSIDFlist,'Updated_UserID','Updated_ItemID',Nusers,N=10)\n",
        "All_MostPOPRED_List[:2]"
      ],
      "execution_count": null,
      "outputs": [
        {
          "output_type": "execute_result",
          "data": {
            "text/plain": [
              "[array([[13086,  2770,    78, ...,    92,  6760,  5632],\n",
              "        [13086,  2770,    78, ...,    92,  6760,  5632],\n",
              "        [13086,  2770,    78, ...,    92,  6760,  5632],\n",
              "        ...,\n",
              "        [13086,  2770,    78, ...,    92,  6760,  5632],\n",
              "        [13086,  2770,    78, ...,    92,  6760,  5632],\n",
              "        [13086,  2770,    78, ...,    92,  6760,  5632]]),\n",
              " array([[13086,  2770,    76, ...,  4750,  6760,  5632],\n",
              "        [13086,  2770,    76, ...,  4750,  6760,  5632],\n",
              "        [13086,  2770,    76, ...,  4750,  6760,  5632],\n",
              "        ...,\n",
              "        [13086,  2770,    76, ...,  4750,  6760,  5632],\n",
              "        [13086,  2770,    76, ...,  4750,  6760,  5632],\n",
              "        [13086,  2770,    76, ...,  4750,  6760,  5632]])]"
            ]
          },
          "metadata": {
            "tags": []
          },
          "execution_count": 134
        }
      ]
    },
    {
      "cell_type": "code",
      "metadata": {
        "colab": {
          "base_uri": "https://localhost:8080/"
        },
        "id": "dwtyYptbxT1n",
        "outputId": "79b08aa3-3f9e-40e7-a037-7bbec7b343a1"
      },
      "source": [
        "All_MostPOPRED_List[1].shape"
      ],
      "execution_count": null,
      "outputs": [
        {
          "output_type": "execute_result",
          "data": {
            "text/plain": [
              "(136677, 10)"
            ]
          },
          "metadata": {
            "tags": []
          },
          "execution_count": 135
        }
      ]
    },
    {
      "cell_type": "code",
      "metadata": {
        "id": "AoBZNlPu8NHr"
      },
      "source": [
        "with open('MLDF20M_MPop_allPRED.pkl', 'wb') as f:\n",
        "     pickle.dump(All_MostPOPRED_List, f)\n"
      ],
      "execution_count": null,
      "outputs": []
    },
    {
      "cell_type": "markdown",
      "metadata": {
        "id": "krCIIB8flw0U"
      },
      "source": [
        "# HitRate"
      ]
    },
    {
      "cell_type": "markdown",
      "metadata": {
        "id": "FZd_vVsPpIqV"
      },
      "source": [
        "### Updated PSI"
      ]
    },
    {
      "cell_type": "code",
      "metadata": {
        "colab": {
          "base_uri": "https://localhost:8080/"
        },
        "id": "LtlchmQtHN5c",
        "outputId": "5774d60b-ae54-4fad-f2ae-9cfe8fbbefd5"
      },
      "source": [
        "Top_NPred = TopNPred(UserItem_Matupdt[0],newHOLDOUT_LIST[0],V_1,'Updated_UserID',10)\n",
        "Top_NPred"
      ],
      "execution_count": null,
      "outputs": [
        {
          "output_type": "execute_result",
          "data": {
            "text/plain": [
              "array([[2560, 1072, 4744, ..., 3041,  829, 3815],\n",
              "       [ 980, 2250, 4652, ..., 1624, 4061, 1911],\n",
              "       [2180,  532, 9037, ...,  144, 1466, 1066],\n",
              "       ...,\n",
              "       [ 180,  179, 1923, ...,  352,  781,  869],\n",
              "       [1109,  144, 1115, ..., 2501, 1460, 1630],\n",
              "       [2469, 1460,  157, ..., 2340, 2630, 2502]])"
            ]
          },
          "metadata": {
            "tags": []
          },
          "execution_count": 137
        }
      ]
    },
    {
      "cell_type": "code",
      "metadata": {
        "colab": {
          "base_uri": "https://localhost:8080/"
        },
        "id": "Ql0pwhxeHN5g",
        "outputId": "c7eee04a-f906-4789-e52e-89d7fdfd71d2"
      },
      "source": [
        "Hitrate_Eval(newHOLDOUT_LIST[0],Top_NPred,'Updated_UserID','Updated_ItemID')"
      ],
      "execution_count": null,
      "outputs": [
        {
          "output_type": "stream",
          "text": [
            "Number of hits:  185\n",
            "Total Num of users:  3459\n",
            "Recommendation HitRate:  0.05348366579936398\n"
          ],
          "name": "stdout"
        },
        {
          "output_type": "execute_result",
          "data": {
            "text/plain": [
              "0.05348366579936398"
            ]
          },
          "metadata": {
            "tags": []
          },
          "execution_count": 138
        }
      ]
    },
    {
      "cell_type": "code",
      "metadata": {
        "colab": {
          "base_uri": "https://localhost:8080/"
        },
        "id": "8J8LC6tDAiir",
        "outputId": "38d39465-88e3-44fc-cd8e-1930185d0047"
      },
      "source": [
        "AllUpdt_pred =  TQDMgetALLTopNPred(UserItem_Matupdt,newHOLDOUT_LIST,Vpsi_listUpdt,'Updated_UserID',N = 10)\n",
        "print(len(AllUpdt_pred))\n",
        "AllUpdt_pred[:2]"
      ],
      "execution_count": null,
      "outputs": [
        {
          "output_type": "stream",
          "text": [
            "15it [00:11,  1.31it/s]15\n",
            "\n"
          ],
          "name": "stderr"
        },
        {
          "output_type": "execute_result",
          "data": {
            "text/plain": [
              "[array([[2560, 1072, 4744, ..., 3041,  829, 3815],\n",
              "        [ 980, 2250, 4652, ..., 1624, 4061, 1911],\n",
              "        [2180,  532, 9037, ...,  144, 1466, 1066],\n",
              "        ...,\n",
              "        [ 180,  179, 1923, ...,  352,  781,  869],\n",
              "        [1109,  144, 1115, ..., 2501, 1460, 1630],\n",
              "        [2469, 1460,  157, ..., 2340, 2630, 2502]]),\n",
              " array([[2560, 1072, 4744, ..., 3041, 9331, 8837],\n",
              "        [ 980, 2250, 4652, ..., 1624, 4061, 1911],\n",
              "        [1300,  603, 1086, ..., 2560,  267,  663],\n",
              "        ...,\n",
              "        [2707,  969, 1763, ..., 1319, 4724, 2008],\n",
              "        [1829, 1055, 2770, ..., 1070, 1807, 4080],\n",
              "        [4724, 8837, 8928, ..., 8958, 4032, 9331]])]"
            ]
          },
          "metadata": {
            "tags": []
          },
          "execution_count": 139
        }
      ]
    },
    {
      "cell_type": "code",
      "metadata": {
        "colab": {
          "base_uri": "https://localhost:8080/"
        },
        "id": "Osi894h4Aiiv",
        "outputId": "230d7213-4baf-4ea5-eb7b-b98c616ca36a"
      },
      "source": [
        "AllSteps_HitR_updt, LowerBand_updt, Avg_HitR_updt, UpperBand_updt   = getAll_HitRate(newHOLDOUT_LIST,AllUpdt_pred,'Updated_UserID','Updated_ItemID')\n",
        "AllSteps_HitR_updt"
      ],
      "execution_count": null,
      "outputs": [
        {
          "output_type": "stream",
          "text": [
            "Number of hits:  185\n",
            "Total Num of users:  3459\n",
            "Recommendation HitRate:  0.05348366579936398\n",
            "Number of hits:  160\n",
            "Total Num of users:  3311\n",
            "Recommendation HitRate:  0.048323769254001815\n",
            "Number of hits:  163\n",
            "Total Num of users:  3124\n",
            "Recommendation HitRate:  0.052176696542893725\n",
            "Number of hits:  160\n",
            "Total Num of users:  3115\n",
            "Recommendation HitRate:  0.051364365971107544\n",
            "Number of hits:  173\n",
            "Total Num of users:  3165\n",
            "Recommendation HitRate:  0.05466034755134281\n",
            "Number of hits:  154\n",
            "Total Num of users:  3098\n",
            "Recommendation HitRate:  0.04970948999354422\n",
            "Number of hits:  136\n",
            "Total Num of users:  3169\n",
            "Recommendation HitRate:  0.04291574629220574\n",
            "Number of hits:  168\n",
            "Total Num of users:  3129\n",
            "Recommendation HitRate:  0.053691275167785234\n",
            "Number of hits:  186\n",
            "Total Num of users:  3192\n",
            "Recommendation HitRate:  0.05827067669172932\n",
            "Number of hits:  183\n",
            "Total Num of users:  3409\n",
            "Recommendation HitRate:  0.05368143150484013\n",
            "Number of hits:  182\n",
            "Total Num of users:  3267\n",
            "Recommendation HitRate:  0.05570860116314662\n",
            "Number of hits:  155\n",
            "Total Num of users:  3077\n",
            "Recommendation HitRate:  0.05037374065648359\n",
            "Number of hits:  165\n",
            "Total Num of users:  2772\n",
            "Recommendation HitRate:  0.05952380952380952\n",
            "Number of hits:  142\n",
            "Total Num of users:  2644\n",
            "Recommendation HitRate:  0.05370650529500756\n",
            "Number of hits:  160\n",
            "Total Num of users:  2730\n",
            "Recommendation HitRate:  0.05860805860805861\n",
            "Average HitRate for All Recommendations:  0.05307987866768803\n"
          ],
          "name": "stdout"
        },
        {
          "output_type": "execute_result",
          "data": {
            "text/plain": [
              "[0.05348366579936398,\n",
              " 0.048323769254001815,\n",
              " 0.052176696542893725,\n",
              " 0.051364365971107544,\n",
              " 0.05466034755134281,\n",
              " 0.04970948999354422,\n",
              " 0.04291574629220574,\n",
              " 0.053691275167785234,\n",
              " 0.05827067669172932,\n",
              " 0.05368143150484013,\n",
              " 0.05570860116314662,\n",
              " 0.05037374065648359,\n",
              " 0.05952380952380952,\n",
              " 0.05370650529500756,\n",
              " 0.05860805860805861]"
            ]
          },
          "metadata": {
            "tags": []
          },
          "execution_count": 140
        }
      ]
    },
    {
      "cell_type": "code",
      "metadata": {
        "id": "3-FkHqn-pB_G",
        "outputId": "36f24e38-85f0-49db-8d1e-42dbb273b3ae"
      },
      "source": [
        "print(LowerBand_updt)\n",
        "print(UpperBand_updt)\n",
        "print(Avg_HitR_updt)"
      ],
      "execution_count": null,
      "outputs": [
        {
          "output_type": "stream",
          "text": [
            "0.05070211425418469\n",
            "0.05545764308119137\n",
            "0.05307987866768803\n"
          ],
          "name": "stdout"
        }
      ]
    },
    {
      "cell_type": "code",
      "metadata": {
        "id": "wvVmP30opBuv"
      },
      "source": [
        ""
      ],
      "execution_count": null,
      "outputs": []
    },
    {
      "cell_type": "markdown",
      "metadata": {
        "id": "KcaJU4aApEpg"
      },
      "source": [
        "### Regular PSI"
      ]
    },
    {
      "cell_type": "code",
      "metadata": {
        "colab": {
          "base_uri": "https://localhost:8080/"
        },
        "id": "c9jUgHkKAhbi",
        "outputId": "be5430ee-3931-400d-8944-8c8126127ea2"
      },
      "source": [
        "Top10Pred_psi = TopNPred(UserItemMAT_regPSI[0], newHOLDOUT_LIST[0],Vpsi_listReg[0],'Updated_UserID',N=10)\n",
        "print(Top10Pred_psi.shape)"
      ],
      "execution_count": null,
      "outputs": [
        {
          "output_type": "stream",
          "text": [
            "(3459, 10)\n"
          ],
          "name": "stdout"
        }
      ]
    },
    {
      "cell_type": "code",
      "metadata": {
        "colab": {
          "base_uri": "https://localhost:8080/"
        },
        "id": "u1sFaxNBAhc2",
        "outputId": "a221cdb8-2cb0-4ae9-b4b2-eace696881c5"
      },
      "source": [
        "Hitrate_Eval(newHOLDOUT_LIST[0],Top10Pred_psi,'Updated_UserID','Updated_ItemID')"
      ],
      "execution_count": null,
      "outputs": [
        {
          "output_type": "stream",
          "text": [
            "Number of hits:  183\n",
            "Total Num of users:  3459\n",
            "Recommendation HitRate:  0.05290546400693842\n"
          ],
          "name": "stdout"
        },
        {
          "output_type": "execute_result",
          "data": {
            "text/plain": [
              "0.05290546400693842"
            ]
          },
          "metadata": {
            "tags": []
          },
          "execution_count": 143
        }
      ]
    },
    {
      "cell_type": "code",
      "metadata": {
        "colab": {
          "base_uri": "https://localhost:8080/"
        },
        "id": "oUDxtIohbVj8",
        "outputId": "48677220-09c6-4c42-bb00-17236691f54f"
      },
      "source": [
        "All_regPSI_PRED =  TQDMgetALLTopNPred(UserItemMAT_regPSI,newHOLDOUT_LIST,Vpsi_listReg,'Updated_UserID',N = 10)\n",
        "print(len(All_regPSI_PRED))\n",
        "All_regPSI_PRED[:2]"
      ],
      "execution_count": null,
      "outputs": [
        {
          "output_type": "stream",
          "text": [
            "15it [00:10,  1.42it/s]15\n",
            "\n"
          ],
          "name": "stderr"
        },
        {
          "output_type": "execute_result",
          "data": {
            "text/plain": [
              "[array([[2560, 1072, 4744, ..., 3041,  829, 3815],\n",
              "        [ 980, 2250, 4652, ..., 1624, 4061, 1911],\n",
              "        [2180,  532, 9037, ...,  144, 1466, 1066],\n",
              "        ...,\n",
              "        [ 180,  179, 1923, ...,  352,  781,  869],\n",
              "        [1109,  144, 1115, ..., 2501, 1460, 1630],\n",
              "        [2469, 1460,  157, ..., 2340, 2630, 2502]]),\n",
              " array([[2560, 1072, 4744, ..., 3041, 9331, 8837],\n",
              "        [ 980, 2250, 4652, ..., 1624, 4061, 1911],\n",
              "        [1300,  603, 1086, ..., 2560,  267,  663],\n",
              "        ...,\n",
              "        [2707,  969, 1763, ..., 1319, 4724, 2008],\n",
              "        [1829, 1055, 2770, ..., 1070, 4080, 1807],\n",
              "        [4724, 8837, 8928, ..., 8958, 4032, 4652]])]"
            ]
          },
          "metadata": {
            "tags": []
          },
          "execution_count": 144
        }
      ]
    },
    {
      "cell_type": "code",
      "metadata": {
        "colab": {
          "base_uri": "https://localhost:8080/"
        },
        "id": "2ZnpolG9A7KZ",
        "outputId": "e843ebf9-2b5e-410b-84d5-21a21489fb4e"
      },
      "source": [
        "AllSteps_Hitrate_psi, LowerBand, Avg_HitRate, UpperBand   = getAll_HitRate(newHOLDOUT_LIST,All_regPSI_PRED,'Updated_UserID','Updated_ItemID')\n",
        "AllSteps_Hitrate_psi"
      ],
      "execution_count": null,
      "outputs": [
        {
          "output_type": "stream",
          "text": [
            "Number of hits:  183\n",
            "Total Num of users:  3459\n",
            "Recommendation HitRate:  0.05290546400693842\n",
            "Number of hits:  160\n",
            "Total Num of users:  3311\n",
            "Recommendation HitRate:  0.048323769254001815\n",
            "Number of hits:  163\n",
            "Total Num of users:  3124\n",
            "Recommendation HitRate:  0.052176696542893725\n",
            "Number of hits:  164\n",
            "Total Num of users:  3115\n",
            "Recommendation HitRate:  0.05264847512038523\n",
            "Number of hits:  173\n",
            "Total Num of users:  3165\n",
            "Recommendation HitRate:  0.05466034755134281\n",
            "Number of hits:  152\n",
            "Total Num of users:  3098\n",
            "Recommendation HitRate:  0.04906391220142027\n",
            "Number of hits:  140\n",
            "Total Num of users:  3169\n",
            "Recommendation HitRate:  0.044177974124329444\n",
            "Number of hits:  167\n",
            "Total Num of users:  3129\n",
            "Recommendation HitRate:  0.05337168424416747\n",
            "Number of hits:  187\n",
            "Total Num of users:  3192\n",
            "Recommendation HitRate:  0.05858395989974937\n",
            "Number of hits:  182\n",
            "Total Num of users:  3409\n",
            "Recommendation HitRate:  0.053388090349075976\n",
            "Number of hits:  181\n",
            "Total Num of users:  3267\n",
            "Recommendation HitRate:  0.055402509947964494\n",
            "Number of hits:  154\n",
            "Total Num of users:  3077\n",
            "Recommendation HitRate:  0.05004874878128047\n",
            "Number of hits:  166\n",
            "Total Num of users:  2772\n",
            "Recommendation HitRate:  0.05988455988455989\n",
            "Number of hits:  143\n",
            "Total Num of users:  2644\n",
            "Recommendation HitRate:  0.054084720121028745\n",
            "Number of hits:  162\n",
            "Total Num of users:  2730\n",
            "Recommendation HitRate:  0.05934065934065934\n",
            "Average HitRate for All Recommendations:  0.053204104757986495\n"
          ],
          "name": "stdout"
        },
        {
          "output_type": "execute_result",
          "data": {
            "text/plain": [
              "[0.05290546400693842,\n",
              " 0.048323769254001815,\n",
              " 0.052176696542893725,\n",
              " 0.05264847512038523,\n",
              " 0.05466034755134281,\n",
              " 0.04906391220142027,\n",
              " 0.044177974124329444,\n",
              " 0.05337168424416747,\n",
              " 0.05858395989974937,\n",
              " 0.053388090349075976,\n",
              " 0.055402509947964494,\n",
              " 0.05004874878128047,\n",
              " 0.05988455988455989,\n",
              " 0.054084720121028745,\n",
              " 0.05934065934065934]"
            ]
          },
          "metadata": {
            "tags": []
          },
          "execution_count": 145
        }
      ]
    },
    {
      "cell_type": "code",
      "metadata": {
        "id": "Ak2Iuz1mrPwE",
        "outputId": "cc71ed67-5cad-4bf6-a2fd-a0d3273b6a98"
      },
      "source": [
        "print(LowerBand, Avg_HitRate, UpperBand)"
      ],
      "execution_count": null,
      "outputs": [
        {
          "output_type": "stream",
          "text": [
            "0.05085060616484444 0.053204104757986495 0.05555760335112855\n"
          ],
          "name": "stdout"
        }
      ]
    },
    {
      "cell_type": "markdown",
      "metadata": {
        "id": "HQB5V56-rLfg"
      },
      "source": [
        "### SVD HItR_"
      ]
    },
    {
      "cell_type": "code",
      "metadata": {
        "colab": {
          "base_uri": "https://localhost:8080/"
        },
        "id": "WnCO3ZL96e4I",
        "outputId": "364ac4f0-b337-49d1-b2ca-8c8eced89c9f"
      },
      "source": [
        "Top10Pred_SVD = TopNPred(SVD_UserItemMAT[0],newHOLDOUT_LIST[0],Vsvd_list[0],'Updated_UserID',N=10)\n",
        "print(Top10Pred_SVD.shape)\n",
        "Top10Pred_SVD"
      ],
      "execution_count": null,
      "outputs": [
        {
          "output_type": "stream",
          "text": [
            "(3459, 10)\n"
          ],
          "name": "stdout"
        },
        {
          "output_type": "execute_result",
          "data": {
            "text/plain": [
              "array([[4744, 2560, 1072, ..., 1069, 1070,  829],\n",
              "       [ 980, 4652, 2250, ..., 4061, 1624, 1911],\n",
              "       [2180,  532, 6381, ..., 1466, 3407,    1],\n",
              "       ...,\n",
              "       [ 180,  352,  179, ..., 1909,  969, 1917],\n",
              "       [ 144, 1109, 1115, ..., 2542, 2501,  198],\n",
              "       [2469, 1460,  157, ..., 2340, 2630, 2502]])"
            ]
          },
          "metadata": {
            "tags": []
          },
          "execution_count": 147
        }
      ]
    },
    {
      "cell_type": "code",
      "metadata": {
        "colab": {
          "base_uri": "https://localhost:8080/"
        },
        "id": "_y8C9P5hr-sN",
        "outputId": "ff5b210c-636b-4d66-a012-67fdca10344b"
      },
      "source": [
        "Hitrate_Eval(newHOLDOUT_LIST[0],Top10Pred_SVD,'Updated_UserID','Updated_ItemID')"
      ],
      "execution_count": null,
      "outputs": [
        {
          "output_type": "stream",
          "text": [
            "Number of hits:  205\n",
            "Total Num of users:  3459\n",
            "Recommendation HitRate:  0.059265683723619546\n"
          ],
          "name": "stdout"
        },
        {
          "output_type": "execute_result",
          "data": {
            "text/plain": [
              "0.059265683723619546"
            ]
          },
          "metadata": {
            "tags": []
          },
          "execution_count": 148
        }
      ]
    },
    {
      "cell_type": "code",
      "metadata": {
        "colab": {
          "base_uri": "https://localhost:8080/"
        },
        "id": "nOTHviyK-jwT",
        "outputId": "eab74d67-67fd-4f08-dec6-61126557c065"
      },
      "source": [
        "AllSVD_topNPRED =  TQDMgetALLTopNPred(SVD_UserItemMAT,newHOLDOUT_LIST,Vsvd_list,'Updated_UserID',N = 10)\n",
        "print(len(AllSVD_topNPRED))\n",
        "AllSVD_topNPRED[:2]"
      ],
      "execution_count": null,
      "outputs": [
        {
          "output_type": "stream",
          "text": [
            "15it [00:10,  1.44it/s]15\n",
            "\n"
          ],
          "name": "stderr"
        },
        {
          "output_type": "execute_result",
          "data": {
            "text/plain": [
              "[array([[4744, 2560, 1072, ..., 1069, 1070,  829],\n",
              "        [ 980, 4652, 2250, ..., 4061, 1624, 1911],\n",
              "        [2180,  532, 6381, ..., 1466, 3407,    1],\n",
              "        ...,\n",
              "        [ 180,  352,  179, ..., 1909,  969, 1917],\n",
              "        [ 144, 1109, 1115, ..., 2542, 2501,  198],\n",
              "        [2469, 1460,  157, ..., 2340, 2630, 2502]]),\n",
              " array([[ 4744,  1072,  2560, ...,  9331,  1069,  8837],\n",
              "        [  980,  4652,  2250, ...,  4061,  1624,  1911],\n",
              "        [ 1300,  1086,   603, ...,   267,   663,  3220],\n",
              "        ...,\n",
              "        [ 2707,   969,  1763, ...,  2543,  1319,  1126],\n",
              "        [ 1829,  1055,  2770, ...,  1070,  4080,    59],\n",
              "        [ 4724,  9761,  8837, ...,  9695, 11965,  8958]])]"
            ]
          },
          "metadata": {
            "tags": []
          },
          "execution_count": 149
        }
      ]
    },
    {
      "cell_type": "code",
      "metadata": {
        "colab": {
          "base_uri": "https://localhost:8080/"
        },
        "id": "d7xlsk71shw9",
        "outputId": "7e4b2f47-441d-4732-d206-e8a1f3f0cfd3"
      },
      "source": [
        "AllSteps_Hitrate_svd, LowerBand, Avg_HitRate, UpperBand   = getAll_HitRate(newHOLDOUT_LIST,AllSVD_topNPRED,'Updated_UserID','Updated_ItemID')"
      ],
      "execution_count": null,
      "outputs": [
        {
          "output_type": "stream",
          "text": [
            "Number of hits:  205\n",
            "Total Num of users:  3459\n",
            "Recommendation HitRate:  0.059265683723619546\n",
            "Number of hits:  165\n",
            "Total Num of users:  3311\n",
            "Recommendation HitRate:  0.04983388704318937\n",
            "Number of hits:  169\n",
            "Total Num of users:  3124\n",
            "Recommendation HitRate:  0.05409731113956466\n",
            "Number of hits:  182\n",
            "Total Num of users:  3115\n",
            "Recommendation HitRate:  0.058426966292134834\n",
            "Number of hits:  182\n",
            "Total Num of users:  3165\n",
            "Recommendation HitRate:  0.05750394944707741\n",
            "Number of hits:  154\n",
            "Total Num of users:  3098\n",
            "Recommendation HitRate:  0.04970948999354422\n",
            "Number of hits:  147\n",
            "Total Num of users:  3169\n",
            "Recommendation HitRate:  0.04638687283054591\n",
            "Number of hits:  180\n",
            "Total Num of users:  3129\n",
            "Recommendation HitRate:  0.05752636625119847\n",
            "Number of hits:  195\n",
            "Total Num of users:  3192\n",
            "Recommendation HitRate:  0.06109022556390977\n",
            "Number of hits:  187\n",
            "Total Num of users:  3409\n",
            "Recommendation HitRate:  0.054854796127896746\n",
            "Number of hits:  198\n",
            "Total Num of users:  3267\n",
            "Recommendation HitRate:  0.06060606060606061\n",
            "Number of hits:  163\n",
            "Total Num of users:  3077\n",
            "Recommendation HitRate:  0.052973675658108545\n",
            "Number of hits:  185\n",
            "Total Num of users:  2772\n",
            "Recommendation HitRate:  0.06673881673881674\n",
            "Number of hits:  157\n",
            "Total Num of users:  2644\n",
            "Recommendation HitRate:  0.05937972768532526\n",
            "Number of hits:  171\n",
            "Total Num of users:  2730\n",
            "Recommendation HitRate:  0.06263736263736264\n",
            "Average HitRate for All Recommendations:  0.05673541278255698\n"
          ],
          "name": "stdout"
        }
      ]
    },
    {
      "cell_type": "code",
      "metadata": {
        "colab": {
          "base_uri": "https://localhost:8080/"
        },
        "id": "x_L3w8iDPcDV",
        "outputId": "363b53f7-434d-49d0-ea7e-008773d42541"
      },
      "source": [
        "AllSteps_Hitrate_svd"
      ],
      "execution_count": null,
      "outputs": [
        {
          "output_type": "execute_result",
          "data": {
            "text/plain": [
              "[0.059265683723619546,\n",
              " 0.04983388704318937,\n",
              " 0.05409731113956466,\n",
              " 0.058426966292134834,\n",
              " 0.05750394944707741,\n",
              " 0.04970948999354422,\n",
              " 0.04638687283054591,\n",
              " 0.05752636625119847,\n",
              " 0.06109022556390977,\n",
              " 0.054854796127896746,\n",
              " 0.06060606060606061,\n",
              " 0.052973675658108545,\n",
              " 0.06673881673881674,\n",
              " 0.05937972768532526,\n",
              " 0.06263736263736264]"
            ]
          },
          "metadata": {
            "tags": []
          },
          "execution_count": 151
        }
      ]
    },
    {
      "cell_type": "code",
      "metadata": {
        "id": "V7WNCD1m-OUh",
        "outputId": "453dcae5-67ad-4589-97cd-45b75015b8b6"
      },
      "source": [
        " print(LowerBand, Avg_HitRate, UpperBand) "
      ],
      "execution_count": null,
      "outputs": [
        {
          "output_type": "stream",
          "text": [
            "0.05372014044420813 0.05673541278255698 0.05975068512090584\n"
          ],
          "name": "stdout"
        }
      ]
    },
    {
      "cell_type": "markdown",
      "metadata": {
        "id": "2mG-deAzqE-C"
      },
      "source": [
        "### RRec HitR_"
      ]
    },
    {
      "cell_type": "code",
      "metadata": {
        "id": "6z2TMCnuqJ3n"
      },
      "source": [
        ""
      ],
      "execution_count": null,
      "outputs": []
    },
    {
      "cell_type": "markdown",
      "metadata": {
        "id": "YZNhrtpwr_fM"
      },
      "source": [
        "### MPop HitR_"
      ]
    },
    {
      "cell_type": "code",
      "metadata": {
        "colab": {
          "base_uri": "https://localhost:8080/"
        },
        "id": "uMLoaZ6YlZN3",
        "outputId": "90ba4c62-a1f1-4242-f422-cd84cd1ab274"
      },
      "source": [
        "RRec_AllStepsHitR, RRec_LowBHR, RREC_AvgHitR, RRec_UppBHR = getAll_RandomHitRate(newHOLDOUT_LIST,All_UsersRRecPred,'Updated_UserID','Updated_ItemID')"
      ],
      "execution_count": null,
      "outputs": [
        {
          "output_type": "stream",
          "text": [
            "Number of hits:  1\n",
            "Total Num of users:  3459\n",
            "Recommendation HitRate:  0.0002891008962127783\n",
            "Number of hits:  2\n",
            "Total Num of users:  3311\n",
            "Recommendation HitRate:  0.0006040471156750226\n",
            "Number of hits:  2\n",
            "Total Num of users:  3124\n",
            "Recommendation HitRate:  0.0006402048655569782\n",
            "Number of hits:  0\n",
            "Total Num of users:  3115\n",
            "Recommendation HitRate:  0.0\n",
            "Number of hits:  1\n",
            "Total Num of users:  3165\n",
            "Recommendation HitRate:  0.000315955766192733\n",
            "Number of hits:  2\n",
            "Total Num of users:  3098\n",
            "Recommendation HitRate:  0.0006455777921239509\n",
            "Number of hits:  4\n",
            "Total Num of users:  3169\n",
            "Recommendation HitRate:  0.0012622278321236984\n",
            "Number of hits:  1\n",
            "Total Num of users:  3129\n",
            "Recommendation HitRate:  0.00031959092361776926\n",
            "Number of hits:  2\n",
            "Total Num of users:  3192\n",
            "Recommendation HitRate:  0.0006265664160401002\n",
            "Number of hits:  3\n",
            "Total Num of users:  3409\n",
            "Recommendation HitRate:  0.0008800234672924611\n",
            "Number of hits:  0\n",
            "Total Num of users:  3267\n",
            "Recommendation HitRate:  0.0\n",
            "Number of hits:  1\n",
            "Total Num of users:  3077\n",
            "Recommendation HitRate:  0.00032499187520311994\n",
            "Number of hits:  1\n",
            "Total Num of users:  2772\n",
            "Recommendation HitRate:  0.00036075036075036075\n",
            "Number of hits:  2\n",
            "Total Num of users:  2644\n",
            "Recommendation HitRate:  0.0007564296520423601\n",
            "Number of hits:  3\n",
            "Total Num of users:  2730\n",
            "Recommendation HitRate:  0.001098901098901099\n",
            "Average HitRate for All Recommendations:  0.0005416245374488288\n"
          ],
          "name": "stdout"
        }
      ]
    },
    {
      "cell_type": "code",
      "metadata": {
        "id": "FVPb6680r81m",
        "outputId": "e2e3736d-3336-4a5a-f514-e8555dc0a69f"
      },
      "source": [
        "RRec_AllStepsHitR"
      ],
      "execution_count": null,
      "outputs": [
        {
          "output_type": "execute_result",
          "data": {
            "text/plain": [
              "[0.0002891008962127783,\n",
              " 0.0006040471156750226,\n",
              " 0.0006402048655569782,\n",
              " 0.0,\n",
              " 0.000315955766192733,\n",
              " 0.0006455777921239509,\n",
              " 0.0012622278321236984,\n",
              " 0.00031959092361776926,\n",
              " 0.0006265664160401002,\n",
              " 0.0008800234672924611,\n",
              " 0.0,\n",
              " 0.00032499187520311994,\n",
              " 0.00036075036075036075,\n",
              " 0.0007564296520423601,\n",
              " 0.001098901098901099]"
            ]
          },
          "metadata": {
            "tags": []
          },
          "execution_count": 154
        }
      ]
    },
    {
      "cell_type": "code",
      "metadata": {
        "id": "RAsrKWHl-OUm",
        "outputId": "feba98ce-e046-4b7a-936d-5619388ac04c"
      },
      "source": [
        "print( RRec_LowBHR, RREC_AvgHitR, RRec_UppBHR)"
      ],
      "execution_count": null,
      "outputs": [
        {
          "output_type": "stream",
          "text": [
            "0.000340182505375665 0.0005416245374488288 0.0007430665695219926\n"
          ],
          "name": "stdout"
        }
      ]
    },
    {
      "cell_type": "code",
      "metadata": {
        "id": "JdCo2ilJ-OUn"
      },
      "source": [
        "##MOSTPOP"
      ],
      "execution_count": null,
      "outputs": []
    },
    {
      "cell_type": "code",
      "metadata": {
        "colab": {
          "base_uri": "https://localhost:8080/"
        },
        "id": "pzPaCjrsUvFa",
        "outputId": "b7ffccf3-91fc-459b-dd5e-4d8322459502"
      },
      "source": [
        "AllSteps_Hitrate, LowerBand, Avg_HitRate, UpperBand  = getAll_MostPOPHitRate(newHOLDOUT_LIST,All_MostPOPRED_List,'Updated_UserID','Updated_ItemID')"
      ],
      "execution_count": null,
      "outputs": [
        {
          "output_type": "stream",
          "text": [
            "Number of hits:  98\n",
            "Total Num of users:  3459\n",
            "Recommendation HitRate:  0.028331887828852268\n",
            "Number of hits:  68\n",
            "Total Num of users:  3311\n",
            "Recommendation HitRate:  0.02053760193295077\n",
            "Number of hits:  70\n",
            "Total Num of users:  3124\n",
            "Recommendation HitRate:  0.02240717029449424\n",
            "Number of hits:  105\n",
            "Total Num of users:  3115\n",
            "Recommendation HitRate:  0.033707865168539325\n",
            "Number of hits:  157\n",
            "Total Num of users:  3165\n",
            "Recommendation HitRate:  0.04960505529225909\n",
            "Number of hits:  144\n",
            "Total Num of users:  3098\n",
            "Recommendation HitRate:  0.046481601032924466\n",
            "Number of hits:  158\n",
            "Total Num of users:  3169\n",
            "Recommendation HitRate:  0.04985799936888608\n",
            "Number of hits:  106\n",
            "Total Num of users:  3129\n",
            "Recommendation HitRate:  0.03387663790348354\n",
            "Number of hits:  108\n",
            "Total Num of users:  3192\n",
            "Recommendation HitRate:  0.03383458646616541\n",
            "Number of hits:  164\n",
            "Total Num of users:  3409\n",
            "Recommendation HitRate:  0.04810794954532121\n",
            "Number of hits:  114\n",
            "Total Num of users:  3267\n",
            "Recommendation HitRate:  0.03489439853076217\n",
            "Number of hits:  120\n",
            "Total Num of users:  3077\n",
            "Recommendation HitRate:  0.03899902502437439\n",
            "Number of hits:  75\n",
            "Total Num of users:  2772\n",
            "Recommendation HitRate:  0.027056277056277056\n",
            "Number of hits:  117\n",
            "Total Num of users:  2644\n",
            "Recommendation HitRate:  0.044251134644478066\n",
            "Number of hits:  114\n",
            "Total Num of users:  2730\n",
            "Recommendation HitRate:  0.041758241758241756\n",
            "Average HitRate for All Recommendations:  0.03691382878986733\n"
          ],
          "name": "stdout"
        }
      ]
    },
    {
      "cell_type": "code",
      "metadata": {
        "id": "H3kfcIzLq3aq",
        "outputId": "daa1ef1f-1cb1-4e09-8dd9-d854d7c6f5b2"
      },
      "source": [
        "AllSteps_Hitrate"
      ],
      "execution_count": null,
      "outputs": [
        {
          "output_type": "execute_result",
          "data": {
            "text/plain": [
              "[0.028331887828852268,\n",
              " 0.02053760193295077,\n",
              " 0.02240717029449424,\n",
              " 0.033707865168539325,\n",
              " 0.04960505529225909,\n",
              " 0.046481601032924466,\n",
              " 0.04985799936888608,\n",
              " 0.03387663790348354,\n",
              " 0.03383458646616541,\n",
              " 0.04810794954532121,\n",
              " 0.03489439853076217,\n",
              " 0.03899902502437439,\n",
              " 0.027056277056277056,\n",
              " 0.044251134644478066,\n",
              " 0.041758241758241756]"
            ]
          },
          "metadata": {
            "tags": []
          },
          "execution_count": 157
        }
      ]
    },
    {
      "cell_type": "code",
      "metadata": {
        "id": "dmerRgcn_tH-",
        "outputId": "a96b73ae-85ae-497c-ca73-ff0238e51411"
      },
      "source": [
        "print(LowerBand, Avg_HitRate, UpperBand)"
      ],
      "execution_count": null,
      "outputs": [
        {
          "output_type": "stream",
          "text": [
            "0.03155772898046011 0.03691382878986733 0.042269928599274545\n"
          ],
          "name": "stdout"
        }
      ]
    },
    {
      "cell_type": "code",
      "metadata": {
        "id": "lcNAxNb1CRhh"
      },
      "source": [
        ""
      ],
      "execution_count": null,
      "outputs": []
    },
    {
      "cell_type": "markdown",
      "metadata": {
        "id": "4LTu6CfTlkKV"
      },
      "source": [
        "# MRR_Scores"
      ]
    },
    {
      "cell_type": "markdown",
      "metadata": {
        "id": "zSy_1uXgpvHE"
      },
      "source": [
        "### Updated_mrr"
      ]
    },
    {
      "cell_type": "code",
      "metadata": {
        "id": "Jua1mher8NGO",
        "outputId": "75892255-0e71-4966-aa09-bbcebd25f107"
      },
      "source": [
        "mrr_1st = MRR_Eval(newHOLDOUT_LIST[0],Top_NPred,'Updated_ItemID')\n",
        "print(\"1st Step MRR: \",mrr_1st)"
      ],
      "execution_count": null,
      "outputs": [
        {
          "output_type": "stream",
          "text": [
            "1st Step MRR:  0.01975006539186938\n"
          ],
          "name": "stdout"
        }
      ]
    },
    {
      "cell_type": "code",
      "metadata": {
        "id": "HKCypKY78NGP",
        "outputId": "a3b76d44-bca2-4ebb-faa3-31e32a223bc3"
      },
      "source": [
        "AllSteps_MRRUpdt, LowerB_Updt, AvgMRR_Updt, UpperB_Updt  = TQDMgetAll_MRR_Eval(newHOLDOUT_LIST,AllUpdt_pred,'Updated_ItemID')\n",
        "AllSteps_MRRUpdt    "
      ],
      "execution_count": null,
      "outputs": [
        {
          "output_type": "stream",
          "text": [
            "15it [00:00, 570.76it/s]\n"
          ],
          "name": "stderr"
        },
        {
          "output_type": "execute_result",
          "data": {
            "text/plain": [
              "[0.01975,\n",
              " 0.019939,\n",
              " 0.020556,\n",
              " 0.023973,\n",
              " 0.022273,\n",
              " 0.018741,\n",
              " 0.015228,\n",
              " 0.020376,\n",
              " 0.024525,\n",
              " 0.020789,\n",
              " 0.023081,\n",
              " 0.019634,\n",
              " 0.025079,\n",
              " 0.021992,\n",
              " 0.025983]"
            ]
          },
          "metadata": {
            "tags": []
          },
          "execution_count": 167
        }
      ]
    },
    {
      "cell_type": "code",
      "metadata": {
        "id": "xvxgknDI8NGQ",
        "outputId": "49f4e381-1f53-41d9-ea1b-13334722749b"
      },
      "source": [
        "print(LowerB_Updt, AvgMRR_Updt, UpperB_Updt)\n",
        "print(\"Average MRR: \",AvgMRR_Updt)"
      ],
      "execution_count": null,
      "outputs": [
        {
          "output_type": "stream",
          "text": [
            "0.019908 0.021461 0.023014\n",
            "Average MRR:  0.021461\n"
          ],
          "name": "stdout"
        }
      ]
    },
    {
      "cell_type": "code",
      "metadata": {
        "id": "Kcme4SUDp0UO"
      },
      "source": [
        ""
      ],
      "execution_count": null,
      "outputs": []
    },
    {
      "cell_type": "markdown",
      "metadata": {
        "id": "NViCcctzqDX0"
      },
      "source": [
        "### RegPSI_MRR"
      ]
    },
    {
      "cell_type": "code",
      "metadata": {
        "id": "QiUIA7jglb2c",
        "outputId": "8ca95a94-c146-4519-95b6-bbe6b9d4289e"
      },
      "source": [
        "##MRR: \n",
        "mrr_psi_1st = MRR_Eval(newHOLDOUT_LIST[0],Top10Pred_psi,'Updated_ItemID')\n",
        "print(\"1st Step MRR: \",mrr_psi_1st)"
      ],
      "execution_count": null,
      "outputs": [
        {
          "output_type": "stream",
          "text": [
            "1st Step MRR:  0.019661040671448304\n"
          ],
          "name": "stdout"
        }
      ]
    },
    {
      "cell_type": "code",
      "metadata": {
        "id": "lHlCnS9t8NGt",
        "outputId": "359894ce-1a44-4294-fc09-eb36ce23e040"
      },
      "source": [
        "psi_AllStepsMRR, psi_LowerB, psi_AvgMRR, psi_UpperB  = TQDMgetAll_MRR_Eval(newHOLDOUT_LIST,All_regPSI_PRED,'Updated_ItemID')\n",
        "psi_AllStepsMRR  \n"
      ],
      "execution_count": null,
      "outputs": [
        {
          "output_type": "stream",
          "text": [
            "15it [00:00, 585.94it/s]\n"
          ],
          "name": "stderr"
        },
        {
          "output_type": "execute_result",
          "data": {
            "text/plain": [
              "[0.019661,\n",
              " 0.019737,\n",
              " 0.020506,\n",
              " 0.024115,\n",
              " 0.022424,\n",
              " 0.018706,\n",
              " 0.015411,\n",
              " 0.020189,\n",
              " 0.024576,\n",
              " 0.020357,\n",
              " 0.023035,\n",
              " 0.019458,\n",
              " 0.025305,\n",
              " 0.021488,\n",
              " 0.026158]"
            ]
          },
          "metadata": {
            "tags": []
          },
          "execution_count": 172
        }
      ]
    },
    {
      "cell_type": "code",
      "metadata": {
        "id": "-V-t5JQ68NGu",
        "outputId": "9d506c1d-e490-4b15-d1fe-24f7296a79be"
      },
      "source": [
        "print(psi_LowerB, psi_AvgMRR, psi_UpperB)\n",
        "print(\"Average MRR: \",psi_AvgMRR)"
      ],
      "execution_count": null,
      "outputs": [
        {
          "output_type": "stream",
          "text": [
            "0.01982 0.021408 0.022996\n",
            "Average MRR:  0.021408\n"
          ],
          "name": "stdout"
        }
      ]
    },
    {
      "cell_type": "code",
      "metadata": {
        "id": "ZCXL-Upxrfcf"
      },
      "source": [
        ""
      ],
      "execution_count": null,
      "outputs": []
    },
    {
      "cell_type": "markdown",
      "metadata": {
        "id": "0VF39Re9rg3C"
      },
      "source": [
        "### SVD_MRR"
      ]
    },
    {
      "cell_type": "code",
      "metadata": {
        "id": "2VNpJ3gc8NG-",
        "outputId": "5be82150-5b2a-40aa-f4a5-ac1c051917d3"
      },
      "source": [
        "##MRR: \n",
        "mrr_SVD_1st = MRR_Eval(newHOLDOUT_LIST[0],Top10Pred_SVD,'Updated_ItemID')\n",
        "print(\"1st Step MRR: \",mrr_SVD_1st)"
      ],
      "execution_count": null,
      "outputs": [
        {
          "output_type": "stream",
          "text": [
            "1st Step MRR:  0.021891477030245462\n"
          ],
          "name": "stdout"
        }
      ]
    },
    {
      "cell_type": "code",
      "metadata": {
        "id": "Xxx66F3a8NG_",
        "outputId": "7e2a3c90-0b6d-4303-a498-94fafacfdf70"
      },
      "source": [
        "svd_AllStepsMRR, svd_LowerB, svd_AvgMRR, svd_UpperB  = TQDMgetAll_MRR_Eval(newHOLDOUT_LIST,AllSVD_topNPRED,'Updated_ItemID')\n",
        "svd_AllStepsMRR  "
      ],
      "execution_count": null,
      "outputs": [
        {
          "output_type": "stream",
          "text": [
            "15it [00:00, 593.52it/s]\n"
          ],
          "name": "stderr"
        },
        {
          "output_type": "execute_result",
          "data": {
            "text/plain": [
              "[0.021891,\n",
              " 0.020462,\n",
              " 0.020787,\n",
              " 0.026738,\n",
              " 0.023202,\n",
              " 0.019234,\n",
              " 0.015943,\n",
              " 0.020867,\n",
              " 0.025518,\n",
              " 0.02196,\n",
              " 0.024627,\n",
              " 0.020163,\n",
              " 0.027391,\n",
              " 0.023731,\n",
              " 0.02687]"
            ]
          },
          "metadata": {
            "tags": []
          },
          "execution_count": 175
        }
      ]
    },
    {
      "cell_type": "code",
      "metadata": {
        "id": "CdIKor9yrnkW",
        "outputId": "d42ebece-823c-4a5c-ef1c-c9eb64fe0db4"
      },
      "source": [
        " print(svd_LowerB, svd_AvgMRR, svd_UpperB )"
      ],
      "execution_count": null,
      "outputs": [
        {
          "output_type": "stream",
          "text": [
            "0.020838 0.022626 0.024413\n"
          ],
          "name": "stdout"
        }
      ]
    },
    {
      "cell_type": "markdown",
      "metadata": {
        "id": "R9brrLc1q8RZ"
      },
      "source": [
        "### RRec_MRR"
      ]
    },
    {
      "cell_type": "code",
      "metadata": {
        "id": "2f566w7D8NHa",
        "outputId": "d1444399-0394-4490-c971-48d9a8b60221"
      },
      "source": [
        "RRec_AllStepsMRR, RRec_LowB, RRec_Avg_MRR, RRec_UppB = getAll_RandomRecMRR(newHOLDOUT_LIST,All_UsersRRecPred,'Updated_UserID','Updated_ItemID')\n",
        "RRec_AllStepsMRR"
      ],
      "execution_count": null,
      "outputs": [
        {
          "output_type": "stream",
          "text": [
            "15it [00:00, 421.28it/s]\n"
          ],
          "name": "stderr"
        },
        {
          "output_type": "execute_result",
          "data": {
            "text/plain": [
              "[2.9e-05,\n",
              " 0.000136,\n",
              " 0.000267,\n",
              " 0,\n",
              " 6.3e-05,\n",
              " 0.000145,\n",
              " 0.00051,\n",
              " 5.3e-05,\n",
              " 0.000107,\n",
              " 0.000293,\n",
              " 0,\n",
              " 4.6e-05,\n",
              " 3.6e-05,\n",
              " 0.00018,\n",
              " 0.000534]"
            ]
          },
          "metadata": {
            "tags": []
          },
          "execution_count": 177
        }
      ]
    },
    {
      "cell_type": "code",
      "metadata": {
        "id": "BAcyIGnF-OVI",
        "outputId": "29729057-2d74-4d58-ecfa-f911fe53bbc9"
      },
      "source": [
        "print(RRec_LowB, RRec_Avg_MRR, RRec_UppB )"
      ],
      "execution_count": null,
      "outputs": [
        {
          "output_type": "stream",
          "text": [
            "6.480499621493013e-05 0.00015993333333333334 0.00025506167045173656\n"
          ],
          "name": "stdout"
        }
      ]
    },
    {
      "cell_type": "markdown",
      "metadata": {
        "id": "3jYTmPkgsL7r"
      },
      "source": [
        "### Mpop_MRR"
      ]
    },
    {
      "cell_type": "code",
      "metadata": {
        "id": "IQFQoOfF8NHu",
        "outputId": "a4574a8c-32a5-4479-e0db-61b516426f18"
      },
      "source": [
        "#MRR....\n",
        "                                    #getAll_MostPOP_MRR(HOLDOUT_list,All_MostPOPRED_List,user_column,item_column)\n",
        "Mpop_AllStepsMRR, Mpop_LowB, Mpop_AvgMRR, Mpop_UppB = getAll_MostPOP_MRR(newHOLDOUT_LIST,All_MostPOPRED_List,'Updated_UserID','Updated_ItemID')\n",
        "Mpop_AllStepsMRR"
      ],
      "execution_count": null,
      "outputs": [
        {
          "output_type": "stream",
          "text": [
            "15it [00:00, 408.52it/s]\n"
          ],
          "name": "stderr"
        },
        {
          "output_type": "execute_result",
          "data": {
            "text/plain": [
              "[0.01098044209492605,\n",
              " 0.008510112995162829,\n",
              " 0.005915797817206269,\n",
              " 0.01641162832174068,\n",
              " 0.02132036911657765,\n",
              " 0.012429934315021467,\n",
              " 0.02729592731170516,\n",
              " 0.009584937629041177,\n",
              " 0.011028439153439156,\n",
              " 0.010724296563252267,\n",
              " 0.010729225880741034,\n",
              " 0.008993634286126975,\n",
              " 0.007528802766898005,\n",
              " 0.0121273383281704,\n",
              " 0.009541979184836328]"
            ]
          },
          "metadata": {
            "tags": []
          },
          "execution_count": 179
        }
      ]
    },
    {
      "cell_type": "code",
      "metadata": {
        "id": "F8sooK_TCywX",
        "outputId": "969fbc1e-8eba-411d-e294-0238932948a2"
      },
      "source": [
        "print( Mpop_LowB, Mpop_AvgMRR, Mpop_UppB )"
      ],
      "execution_count": null,
      "outputs": [
        {
          "output_type": "stream",
          "text": [
            "0.0091206955312628 0.012208191050989697 0.015295686570716595\n"
          ],
          "name": "stdout"
        }
      ]
    },
    {
      "cell_type": "code",
      "metadata": {
        "id": "nuBseLq8CVxx"
      },
      "source": [
        ""
      ],
      "execution_count": null,
      "outputs": []
    },
    {
      "cell_type": "markdown",
      "metadata": {
        "id": "9E5uZACqmdRw"
      },
      "source": [
        "# Coverage"
      ]
    },
    {
      "cell_type": "markdown",
      "metadata": {
        "id": "T_N9aVIdmiJw"
      },
      "source": [
        "### UpdtedPSI_COV"
      ]
    },
    {
      "cell_type": "code",
      "metadata": {
        "id": "V6MBUBiw8NGX",
        "outputId": "7f06e0ee-9b91-4105-dd35-f7c70ddab502"
      },
      "source": [
        "StepCoverage_Ratio(newMLDF_20M,AllUsers_updtPRED[0],'Updated_ItemID')  "
      ],
      "execution_count": null,
      "outputs": [
        {
          "output_type": "execute_result",
          "data": {
            "text/plain": [
              "0.042278"
            ]
          },
          "metadata": {
            "tags": []
          },
          "execution_count": 185
        }
      ]
    },
    {
      "cell_type": "code",
      "metadata": {
        "id": "UWbQX8v-8NGY",
        "outputId": "ac300c20-57ab-40d8-ec3a-cfeedade9b95"
      },
      "source": [
        "UpdtAvg_Coverage_List = AllSteps_Coverage_Ratio(newMLDF_20M,AllUsers_updtPRED,'Updated_ItemID')\n",
        "UpdtAvg_Coverage_List"
      ],
      "execution_count": null,
      "outputs": [
        {
          "output_type": "execute_result",
          "data": {
            "text/plain": [
              "[0.042278,\n",
              " 0.042326,\n",
              " 0.042278,\n",
              " 0.042278,\n",
              " 0.042133,\n",
              " 0.042181,\n",
              " 0.042471,\n",
              " 0.042471,\n",
              " 0.042519,\n",
              " 0.042471,\n",
              " 0.042471,\n",
              " 0.041988,\n",
              " 0.042085,\n",
              " 0.042085,\n",
              " 0.042181]"
            ]
          },
          "metadata": {
            "tags": []
          },
          "execution_count": 187
        }
      ]
    },
    {
      "cell_type": "code",
      "metadata": {
        "id": "yLH8e0QZ8NGs"
      },
      "source": [
        ""
      ],
      "execution_count": null,
      "outputs": []
    },
    {
      "cell_type": "markdown",
      "metadata": {
        "id": "1GSmfsOoqcSR"
      },
      "source": [
        "###RegPSI_COV"
      ]
    },
    {
      "cell_type": "code",
      "metadata": {
        "id": "4qGnS77i8NGx",
        "outputId": "c6276faf-3ed0-4205-a7c2-8e7333f6c869"
      },
      "source": [
        "psi_AvgCoverage_List = AllSteps_Coverage_Ratio(newMLDF_20M,AllUsersRegPIS_PRED,'Updated_ItemID')\n",
        "psi_AvgCoverage_List"
      ],
      "execution_count": null,
      "outputs": [
        {
          "output_type": "execute_result",
          "data": {
            "text/plain": [
              "[0.042326,\n",
              " 0.042375,\n",
              " 0.042326,\n",
              " 0.042423,\n",
              " 0.042568,\n",
              " 0.042519,\n",
              " 0.042664,\n",
              " 0.042809,\n",
              " 0.042761,\n",
              " 0.042905,\n",
              " 0.042857,\n",
              " 0.043098,\n",
              " 0.043243,\n",
              " 0.04334,\n",
              " 0.042905]"
            ]
          },
          "metadata": {
            "tags": []
          },
          "execution_count": 188
        }
      ]
    },
    {
      "cell_type": "code",
      "metadata": {
        "id": "-oVnc3FR_DfB"
      },
      "source": [
        ""
      ],
      "execution_count": null,
      "outputs": []
    },
    {
      "cell_type": "markdown",
      "metadata": {
        "id": "6lEpxbMqoPdG"
      },
      "source": [
        "### SVD_COV\n"
      ]
    },
    {
      "cell_type": "code",
      "metadata": {
        "id": "o-7SsHoVo2gx",
        "outputId": "c6e6fb89-4de7-4ca6-8d1c-c8ebf340c15e"
      },
      "source": [
        "SVD_AvgCoverage_List = AllSteps_Coverage_Ratio(newMLDF_20M,AllUsersSVD_PRED,'Updated_ItemID')\n",
        "SVD_AvgCoverage_List"
      ],
      "execution_count": null,
      "outputs": [
        {
          "output_type": "execute_result",
          "data": {
            "text/plain": [
              "[0.043292,\n",
              " 0.043147,\n",
              " 0.043243,\n",
              " 0.043243,\n",
              " 0.043678,\n",
              " 0.043822,\n",
              " 0.044112,\n",
              " 0.044208,\n",
              " 0.044112,\n",
              " 0.044402,\n",
              " 0.044788,\n",
              " 0.045077,\n",
              " 0.04527,\n",
              " 0.04527,\n",
              " 0.044643]"
            ]
          },
          "metadata": {
            "tags": []
          },
          "execution_count": 189
        }
      ]
    },
    {
      "cell_type": "code",
      "metadata": {
        "id": "Oxcy-gTkrRVG"
      },
      "source": [
        ""
      ],
      "execution_count": null,
      "outputs": []
    },
    {
      "cell_type": "markdown",
      "metadata": {
        "id": "q5lllTOKrGZi"
      },
      "source": [
        "### RRec_COV"
      ]
    },
    {
      "cell_type": "code",
      "metadata": {
        "id": "DUFoVqur8NHb",
        "outputId": "da623733-8c91-4c52-d440-d610613648bf"
      },
      "source": [
        "##COVERAGE\n",
        "RRec_AvgCoverageList = AllSteps_Coverage_Ratio(newMLDF_20M,All_UsersRRecPred,'Updated_ItemID')\n",
        "RRec_AvgCoverageList"
      ],
      "execution_count": null,
      "outputs": [
        {
          "output_type": "execute_result",
          "data": {
            "text/plain": [
              "[1.0, 1.0, 1.0, 1.0, 1.0, 1.0, 1.0, 1.0, 1.0, 1.0, 1.0, 1.0, 1.0, 1.0, 1.0]"
            ]
          },
          "metadata": {
            "tags": []
          },
          "execution_count": 190
        }
      ]
    },
    {
      "cell_type": "code",
      "metadata": {
        "id": "J2VTX-PBsUVL"
      },
      "source": [
        ""
      ],
      "execution_count": null,
      "outputs": []
    },
    {
      "cell_type": "markdown",
      "metadata": {
        "id": "TQEA5_2msUjM"
      },
      "source": [
        "### Mpop_COV"
      ]
    },
    {
      "cell_type": "code",
      "metadata": {
        "id": "LcCzVhcD8NHv",
        "outputId": "804e1087-609c-4f93-8b8f-2a0c926cf0a5"
      },
      "source": [
        "##COVERAGE\n",
        "MPop_AvgCoverageList = AllSteps_Coverage_Ratio(newMLDF_20M,All_MostPOPRED_List,'Updated_ItemID')\n",
        "MPop_AvgCoverageList"
      ],
      "execution_count": null,
      "outputs": [
        {
          "output_type": "execute_result",
          "data": {
            "text/plain": [
              "[0.000483,\n",
              " 0.000483,\n",
              " 0.000483,\n",
              " 0.000483,\n",
              " 0.000483,\n",
              " 0.000483,\n",
              " 0.000483,\n",
              " 0.000483,\n",
              " 0.000483,\n",
              " 0.000483,\n",
              " 0.000483,\n",
              " 0.000483,\n",
              " 0.000483,\n",
              " 0.000483,\n",
              " 0.000483]"
            ]
          },
          "metadata": {
            "tags": []
          },
          "execution_count": 191
        }
      ]
    },
    {
      "cell_type": "code",
      "metadata": {
        "id": "wLBSI-B3C6NG"
      },
      "source": [
        ""
      ],
      "execution_count": null,
      "outputs": []
    },
    {
      "cell_type": "code",
      "metadata": {
        "id": "A47e_yypCZeo"
      },
      "source": [
        ""
      ],
      "execution_count": null,
      "outputs": []
    },
    {
      "cell_type": "markdown",
      "metadata": {
        "id": "00phYsByS9Oq"
      },
      "source": [
        "# Stability"
      ]
    },
    {
      "cell_type": "code",
      "metadata": {
        "id": "YpmeR79n8NHC"
      },
      "source": [
        ""
      ],
      "execution_count": null,
      "outputs": []
    },
    {
      "cell_type": "code",
      "metadata": {
        "colab": {
          "base_uri": "https://localhost:8080/"
        },
        "id": "UkFqDvcW_Amh",
        "outputId": "5ab6a0c0-723f-4ae3-a451-b5db08df1ca0"
      },
      "source": [
        "AllSteps = list(range(1,15))\n",
        "print(len(AllSteps))\n",
        "print(len(AllUsers_updtPRED))\n",
        "AllSteps"
      ],
      "execution_count": null,
      "outputs": [
        {
          "output_type": "stream",
          "text": [
            "14\n",
            "15\n"
          ],
          "name": "stdout"
        },
        {
          "output_type": "execute_result",
          "data": {
            "text/plain": [
              "[1, 2, 3, 4, 5, 6, 7, 8, 9, 10, 11, 12, 13, 14]"
            ]
          },
          "metadata": {
            "tags": []
          },
          "execution_count": 193
        }
      ]
    },
    {
      "cell_type": "markdown",
      "metadata": {
        "id": "4GLHnKJViAHo"
      },
      "source": [
        "####  Updated_Corr "
      ]
    },
    {
      "cell_type": "code",
      "metadata": {
        "id": "zmX0dYBY-OVj"
      },
      "source": [
        "#newHOLDOUT_LIST  newUserItem_list new_PSIDFlist newMLDF_1M"
      ],
      "execution_count": null,
      "outputs": []
    },
    {
      "cell_type": "code",
      "metadata": {
        "colab": {
          "base_uri": "https://localhost:8080/"
        },
        "id": "QlTrlJKrNwRC",
        "outputId": "48d55153-12ed-4742-be38-3beb3266a589"
      },
      "source": [
        "UpdtPSICorr_ = Updt_getAll_AvgCorr(AllUsers_updtPRED,newUserItem_list,AllSteps,'Updated_UserID')  #,\n",
        "UpdtPSICorr_"
      ],
      "execution_count": null,
      "outputs": [
        {
          "output_type": "execute_result",
          "data": {
            "text/plain": [
              "array([array([1.        , 1.        , 1.        , ..., 0.        , 0.5327588 ,\n",
              "              0.92942099])                                                    ,\n",
              "       array([1.        , 1.        , 1.        , ..., 1.        , 0.88483146,\n",
              "              0.93397092])                                                    ,\n",
              "       array([1.        , 1.        , 1.        , ..., 0.37435993, 1.        ,\n",
              "              0.22080715])                                                    ,\n",
              "       array([1., 1., 1., ..., 0., 0., 0.]),\n",
              "       array([1.        , 0.98788042, 1.        , ..., 0.14186262, 0.47797357,\n",
              "              0.25762481])                                                    ,\n",
              "       array([1.        , 1.        , 1.        , ..., 0.12326891, 0.97749498,\n",
              "              0.        ])                                                    ,\n",
              "       array([1.        , 0.99244163, 1.        , ..., 0.74656886, 0.97010543,\n",
              "              0.42311771])                                                    ,\n",
              "       array([1.        , 1.        , 1.        , ..., 0.3124111 , 0.27203791,\n",
              "              0.0373858 ])                                                    ,\n",
              "       array([1.        , 1.        , 1.        , ..., 0.        , 0.56692495,\n",
              "              0.92238573])                                                    ,\n",
              "       array([1.        , 1.        , 1.        , ..., 0.95006605, 0.76473401,\n",
              "              0.39619786])                                                    ,\n",
              "       array([1.        , 1.        , 1.        , ..., 0.40176621, 0.02180383,\n",
              "              0.24500295])                                                    ,\n",
              "       array([1.        , 0.98387314, 1.        , ..., 0.85173106, 0.9077281 ,\n",
              "              0.03534858])                                                    ,\n",
              "       array([1.        , 1.        , 1.        , ..., 0.91813929, 0.03994364,\n",
              "              0.60753566])                                                    ,\n",
              "       array([0.93397092, 1.        , 1.        , ..., 0.99244163, 0.4435752 ,\n",
              "              0.42987214])                                                    ],\n",
              "      dtype=object)"
            ]
          },
          "metadata": {
            "tags": []
          },
          "execution_count": 194
        }
      ]
    },
    {
      "cell_type": "code",
      "metadata": {
        "id": "KPyggzn7-OVm"
      },
      "source": [
        ""
      ],
      "execution_count": null,
      "outputs": []
    },
    {
      "cell_type": "code",
      "metadata": {
        "colab": {
          "base_uri": "https://localhost:8080/"
        },
        "id": "Ms8Nj-1ndBAG",
        "outputId": "744e9e7a-12fa-4919-a992-faa64d30e9b2"
      },
      "source": [
        "UpdtPSICorr_.shape\n",
        "for df in UpdtPSICorr_:\n",
        "    print(df.mean())  "
      ],
      "execution_count": null,
      "outputs": [
        {
          "output_type": "stream",
          "text": [
            "0.9869968716072547\n",
            "0.9868989972464394\n",
            "0.9865945505051228\n",
            "0.9867358455398915\n",
            "0.9870913236773649\n",
            "0.9873940193396127\n",
            "0.9861379816431397\n",
            "0.9847879831721422\n",
            "0.9859487909279454\n",
            "0.9857501791677638\n",
            "0.9862889000073568\n",
            "0.9861786579017224\n",
            "0.9869899653239385\n",
            "0.9867127416063536\n"
          ],
          "name": "stdout"
        }
      ]
    },
    {
      "cell_type": "code",
      "metadata": {
        "id": "PhfkO3EcJN5W"
      },
      "source": [
        ""
      ],
      "execution_count": null,
      "outputs": []
    },
    {
      "cell_type": "markdown",
      "metadata": {
        "id": "s19yQCNaTxSL"
      },
      "source": [
        "#### RegPSI Corr_"
      ]
    },
    {
      "cell_type": "code",
      "metadata": {
        "colab": {
          "base_uri": "https://localhost:8080/"
        },
        "id": "5jPXwk8KTxS9",
        "outputId": "c3ed416c-2aab-4494-b731-b57f7a837dd8"
      },
      "source": [
        "RegPSICorr_ = Updt_getAll_AvgCorr(AllUsersRegPIS_PRED,newUserItem_list,AllSteps,'Updated_UserID')  #,\n",
        "RegPSICorr_"
      ],
      "execution_count": null,
      "outputs": [
        {
          "output_type": "execute_result",
          "data": {
            "text/plain": [
              "array([array([1.        , 1.        , 1.        , ..., 0.        , 0.5327588 ,\n",
              "              0.92942099])                                                    ,\n",
              "       array([1.        , 1.        , 1.        , ..., 1.        , 0.88483146,\n",
              "              0.99244163])                                                    ,\n",
              "       array([1.        , 1.        , 1.        , ..., 0.37435993, 0.94467132,\n",
              "              0.22080715])                                                    ,\n",
              "       array([1.        , 0.99244163, 1.        , ..., 0.        , 0.        ,\n",
              "              0.        ])                                                    ,\n",
              "       array([1.        , 1.        , 1.        , ..., 0.14933043, 0.47384185,\n",
              "              0.25762481])                                                    ,\n",
              "       array([1.        , 0.98788042, 1.        , ..., 0.12326891, 0.97749498,\n",
              "              0.        ])                                                    ,\n",
              "       array([1.        , 1.        , 1.        , ..., 0.74656886, 0.97010543,\n",
              "              0.39487858])                                                    ,\n",
              "       array([1.        , 1.        , 1.        , ..., 0.3124111 , 0.27511445,\n",
              "              0.01933435])                                                    ,\n",
              "       array([1.        , 1.        , 1.        , ..., 0.        , 0.5946851 ,\n",
              "              0.90084986])                                                    ,\n",
              "       array([1.        , 1.        , 1.        , ..., 0.97194764, 0.77748344,\n",
              "              0.43028776])                                                    ,\n",
              "       array([1.        , 1.        , 1.        , ..., 0.23552059, 0.02180383,\n",
              "              0.24974602])                                                    ,\n",
              "       array([1.        , 0.98387314, 1.        , ..., 0.79651941, 0.9077281 ,\n",
              "              0.04457968])                                                    ,\n",
              "       array([1.        , 1.        , 1.        , ..., 0.93397092, 0.0373858 ,\n",
              "              0.60753566])                                                    ,\n",
              "       array([1.        , 1.        , 1.        , ..., 1.        , 0.4386512 ,\n",
              "              0.54285117])                                                    ],\n",
              "      dtype=object)"
            ]
          },
          "metadata": {
            "tags": []
          },
          "execution_count": 196
        }
      ]
    },
    {
      "cell_type": "code",
      "metadata": {
        "colab": {
          "base_uri": "https://localhost:8080/"
        },
        "id": "7Jw6LVmFTxTC",
        "outputId": "38745d49-00dd-4f61-c7d0-78bc0f17010f"
      },
      "source": [
        "RegPSICorr_.shape\n",
        "for df in RegPSICorr_:\n",
        "    print(df.mean())  "
      ],
      "execution_count": null,
      "outputs": [
        {
          "output_type": "stream",
          "text": [
            "0.9855048062717018\n",
            "0.9861018386404111\n",
            "0.9852377038892418\n",
            "0.9857303673077384\n",
            "0.9862022524456981\n",
            "0.9866724545432374\n",
            "0.9854086006170346\n",
            "0.9847044408034471\n",
            "0.9852414145782077\n",
            "0.9852197279323629\n",
            "0.9858297502108592\n",
            "0.9850812223405825\n",
            "0.9861475520293389\n",
            "0.9863765964344147\n"
          ],
          "name": "stdout"
        }
      ]
    },
    {
      "cell_type": "code",
      "metadata": {
        "id": "O1ZQgxN2TxTF"
      },
      "source": [
        ""
      ],
      "execution_count": null,
      "outputs": []
    },
    {
      "cell_type": "markdown",
      "metadata": {
        "id": "yfOZLbLYuqpn"
      },
      "source": [
        "#### SVD Corr_"
      ]
    },
    {
      "cell_type": "code",
      "metadata": {
        "colab": {
          "base_uri": "https://localhost:8080/"
        },
        "id": "B6Dik3BEvZDE",
        "outputId": "133b7aeb-06be-4e8c-defd-8c5e80bbca0a"
      },
      "source": [
        "pureSVDCorr_ = Updt_getAll_AvgCorr(AllUsersSVD_PRED,newUserItem_list,AllSteps,'Updated_UserID')  #,\n",
        "pureSVDCorr_"
      ],
      "execution_count": null,
      "outputs": [
        {
          "output_type": "execute_result",
          "data": {
            "text/plain": [
              "array([array([1.        , 1.        , 0.9188873 , ..., 0.        , 0.52326901,\n",
              "              0.9526455 ])                                                    ,\n",
              "       array([1.        , 1.        , 0.94287971, ..., 0.96643133, 0.91739187,\n",
              "              0.93397092])                                                    ,\n",
              "       array([1.        , 1.        , 0.9188873 , ..., 0.40176621, 1.        ,\n",
              "              0.26897619])                                                    ,\n",
              "       array([0.88386932, 1.        , 1.        , ..., 0.        , 0.        ,\n",
              "              0.01933435])                                                    ,\n",
              "       array([1.        , 0.99056095, 0.82833787, ..., 0.12661223, 0.46768741,\n",
              "              0.20792079])                                                    ,\n",
              "       array([1.        , 1.        , 0.98788042, ..., 0.1898122 , 0.93473132,\n",
              "              0.        ])                                                    ,\n",
              "       array([1.        , 1.        , 0.96643133, ..., 0.7153149 , 0.9226361 ,\n",
              "              0.7308008 ])                                                    ,\n",
              "       array([0.88555371, 1.        , 0.8923215 , ..., 0.18751508, 0.47797357,\n",
              "              0.01736733])                                                    ,\n",
              "       array([1.        , 1.        , 0.96172757, ..., 0.        , 0.46346783,\n",
              "              0.97010543])                                                    ,\n",
              "       array([0.87787813, 0.98307362, 0.93930636, ..., 0.93397092, 0.70836709,\n",
              "              0.43376068])                                                    ,\n",
              "       array([0.87787813, 1.        , 0.96826667, ..., 0.25869714, 0.        ,\n",
              "              0.23552059])                                                    ,\n",
              "       array([0.97194764, 0.98788042, 0.93930636, ..., 0.81418213, 0.92942099,\n",
              "              0.01736733])                                                    ,\n",
              "       array([1.        , 1.        , 0.93321111, ..., 1.        , 0.10967451,\n",
              "              0.43907194])                                                    ,\n",
              "       array([1.        , 1.        , 0.96643133, ..., 0.83310567, 0.41547608,\n",
              "              0.84271627])                                                    ],\n",
              "      dtype=object)"
            ]
          },
          "metadata": {
            "tags": []
          },
          "execution_count": 198
        }
      ]
    },
    {
      "cell_type": "code",
      "metadata": {
        "colab": {
          "base_uri": "https://localhost:8080/"
        },
        "id": "ei8R6zjrvZDG",
        "outputId": "15f545fe-060f-49aa-cce9-b1b0b3e96fee"
      },
      "source": [
        "pureSVDCorr_.shape\n",
        "for df in pureSVDCorr_:\n",
        "    print(df.mean())  "
      ],
      "execution_count": null,
      "outputs": [
        {
          "output_type": "stream",
          "text": [
            "0.9579424284625256\n",
            "0.965364936075921\n",
            "0.9642275983258505\n",
            "0.9608110874077603\n",
            "0.953990420958191\n",
            "0.9599172349005631\n",
            "0.9566948972961938\n",
            "0.9513547931345175\n",
            "0.9524740479592377\n",
            "0.9549345307900835\n",
            "0.9570971666956241\n",
            "0.9560427963904784\n",
            "0.9606629440666354\n",
            "0.9639037143474501\n"
          ],
          "name": "stdout"
        }
      ]
    },
    {
      "cell_type": "code",
      "metadata": {
        "id": "RG9tvVXSvYaX"
      },
      "source": [
        ""
      ],
      "execution_count": null,
      "outputs": []
    },
    {
      "cell_type": "markdown",
      "metadata": {
        "id": "xwHxO9FCrisT"
      },
      "source": [
        "### RRec_Corr "
      ]
    },
    {
      "cell_type": "code",
      "metadata": {
        "id": "3xq4aMTZ8NHc",
        "outputId": "21f01b8a-82ee-431c-f265-e14de586903e"
      },
      "source": [
        "RandRec_Corr = Updt_getAll_AvgCorr(All_UsersRRecPred,newUserItem_list,AllSteps,'Updated_UserID')  #,\n",
        "RandRec_Corr"
      ],
      "execution_count": null,
      "outputs": [
        {
          "output_type": "execute_result",
          "data": {
            "text/plain": [
              "array([array([0., 0., 0., ..., 0., 0., 0.]),\n",
              "       array([0., 0., 0., ..., 0., 0., 0.]),\n",
              "       array([0., 0., 0., ..., 0., 0., 0.]),\n",
              "       array([0., 0., 0., ..., 0., 0., 0.]),\n",
              "       array([0., 0., 0., ..., 0., 0., 0.]),\n",
              "       array([0., 0., 0., ..., 0., 0., 0.]),\n",
              "       array([0., 0., 0., ..., 0., 0., 0.]),\n",
              "       array([0., 0., 0., ..., 0., 0., 0.]),\n",
              "       array([0., 0., 0., ..., 0., 0., 0.]),\n",
              "       array([0., 0., 0., ..., 0., 0., 0.]),\n",
              "       array([0., 0., 0., ..., 0., 0., 0.]),\n",
              "       array([0., 0., 0., ..., 0., 0., 0.]),\n",
              "       array([0., 0., 0., ..., 0., 0., 0.]),\n",
              "       array([0., 0., 0., ..., 0., 0., 0.])], dtype=object)"
            ]
          },
          "metadata": {
            "tags": []
          },
          "execution_count": 200
        }
      ]
    },
    {
      "cell_type": "code",
      "metadata": {
        "id": "yAYdhFex8NHd",
        "outputId": "f066b764-1806-419c-89cf-508e6e36f6eb"
      },
      "source": [
        "RandRec_Corr.shape\n",
        "for df in RandRec_Corr:\n",
        "    print(df.mean())  "
      ],
      "execution_count": null,
      "outputs": [
        {
          "output_type": "stream",
          "text": [
            "0.00014943053005383439\n",
            "0.00014655634827379167\n",
            "0.00016311911918226105\n",
            "0.00015405213865251005\n",
            "0.0001428826447486091\n",
            "0.00015048594727601791\n",
            "0.00015796929672729035\n",
            "0.00015671588665702664\n",
            "0.00014516019575147408\n",
            "0.00016528054798944014\n",
            "0.00015321439168188263\n",
            "0.0001413929288347257\n",
            "0.00014559461697162025\n",
            "0.00014997510393781067\n"
          ],
          "name": "stdout"
        }
      ]
    },
    {
      "cell_type": "code",
      "metadata": {
        "id": "YAou17RX8NHf"
      },
      "source": [
        ""
      ],
      "execution_count": null,
      "outputs": []
    },
    {
      "cell_type": "markdown",
      "metadata": {
        "id": "3W-oNrd2s__2"
      },
      "source": [
        "### Mpop_Corr "
      ]
    },
    {
      "cell_type": "code",
      "metadata": {
        "colab": {
          "base_uri": "https://localhost:8080/"
        },
        "id": "CbzcieIu7oCt",
        "outputId": "5c7ee35e-baa8-4a5a-efbf-2f07298adec1"
      },
      "source": [
        "MPop_Corr = Updt_getAll_AvgCorr(All_MostPOPRED_List,newUserItem_list,AllSteps,'Updated_UserID')  #,\n",
        "MPop_Corr"
      ],
      "execution_count": null,
      "outputs": [
        {
          "output_type": "execute_result",
          "data": {
            "text/plain": [
              "array([array([0.88146826, 0.88146826, 0.88146826, ..., 0.88146826, 0.88146826,\n",
              "              0.88146826])                                                    ,\n",
              "       array([0.39435156, 0.39435156, 0.39435156, ..., 0.39435156, 0.39435156,\n",
              "              0.39435156])                                                    ,\n",
              "       array([0.47017229, 0.47017229, 0.47017229, ..., 0.47017229, 0.47017229,\n",
              "              0.47017229])                                                    ,\n",
              "       array([0.39382495, 0.39382495, 0.39382495, ..., 0.39382495, 0.39382495,\n",
              "              0.39382495])                                                    ,\n",
              "       array([0.44146079, 0.44146079, 0.44146079, ..., 0.44146079, 0.44146079,\n",
              "              0.44146079])                                                    ,\n",
              "       array([0.45095341, 0.45095341, 0.45095341, ..., 0.45095341, 0.45095341,\n",
              "              0.45095341])                                                    ,\n",
              "       array([0.43851101, 0.43851101, 0.43851101, ..., 0.43851101, 0.43851101,\n",
              "              0.43851101])                                                    ,\n",
              "       array([0.65548951, 0.65548951, 0.65548951, ..., 0.65548951, 0.65548951,\n",
              "              0.65548951])                                                    ,\n",
              "       array([0.76346912, 0.76346912, 0.76346912, ..., 0.76346912, 0.76346912,\n",
              "              0.76346912])                                                    ,\n",
              "       array([0.70010365, 0.70010365, 0.70010365, ..., 0.70010365, 0.70010365,\n",
              "              0.70010365])                                                    ,\n",
              "       array([0.77087332, 0.77087332, 0.77087332, ..., 0.77087332, 0.77087332,\n",
              "              0.77087332])                                                    ,\n",
              "       array([0.5519344, 0.5519344, 0.5519344, ..., 0.5519344, 0.5519344,\n",
              "              0.5519344])                                                ,\n",
              "       array([0.40216565, 0.40216565, 0.40216565, ..., 0.40216565, 0.40216565,\n",
              "              0.40216565])                                                    ,\n",
              "       array([0.57092689, 0.57092689, 0.57092689, ..., 0.57092689, 0.57092689,\n",
              "              0.57092689])                                                    ],\n",
              "      dtype=object)"
            ]
          },
          "metadata": {
            "tags": []
          },
          "execution_count": 202
        }
      ]
    },
    {
      "cell_type": "code",
      "metadata": {
        "id": "aVz6areR8NH0",
        "outputId": "813e828e-7d5e-41f1-9c2b-02cdc99f9dbb"
      },
      "source": [
        "MPop_Corr.shape\n",
        "for df in MPop_Corr:\n",
        "    print(df.mean())  "
      ],
      "execution_count": null,
      "outputs": [
        {
          "output_type": "stream",
          "text": [
            "0.8814682640836098\n",
            "0.39435156323793324\n",
            "0.4701722935962555\n",
            "0.39382494570862053\n",
            "0.44146079484425366\n",
            "0.45095341065461\n",
            "0.43851101149873295\n",
            "0.6554895144106763\n",
            "0.7634691195795007\n",
            "0.700103650811931\n",
            "0.7708733205374277\n",
            "0.5519343986543311\n",
            "0.4021656534954409\n",
            "0.5709268915611362\n"
          ],
          "name": "stdout"
        }
      ]
    },
    {
      "cell_type": "code",
      "metadata": {
        "id": "kvEzAs238NHt"
      },
      "source": [
        ""
      ],
      "execution_count": null,
      "outputs": []
    }
  ]
}