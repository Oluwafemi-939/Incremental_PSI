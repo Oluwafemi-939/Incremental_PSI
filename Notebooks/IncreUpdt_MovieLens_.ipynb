{
  "nbformat": 4,
  "nbformat_minor": 0,
  "metadata": {
    "colab": {
      "name": "ServerNote.ipynb",
      "provenance": [],
      "collapsed_sections": [],
      "toc_visible": true
    },
    "kernelspec": {
      "name": "python392jvsc74a57bd01d40221c0336dfe0c468749ccfbce19a4d0ada951efb74219fd3ebf7d78ddc70",
      "display_name": "Python 3.9.2 64-bit ('PSI_project': conda)"
    },
    "language_info": {
      "codemirror_mode": {
        "name": "ipython",
        "version": 3
      },
      "file_extension": ".py",
      "mimetype": "text/x-python",
      "name": "python",
      "nbconvert_exporter": "python",
      "pygments_lexer": "ipython3",
      "version": "3.9.2"
    },
    "metadata": {
      "interpreter": {
        "hash": "1d40221c0336dfe0c468749ccfbce19a4d0ada951efb74219fd3ebf7d78ddc70"
      }
    }
  },
  "cells": [
    {
      "cell_type": "code",
      "execution_count": 3,
      "metadata": {},
      "outputs": [],
      "source": [
        "import os\n",
        "os.environ[\"OMP_NUM_THREADS\"] = \"8\"        # export OMP_NUM_THREADS=4\n",
        "os.environ[\"OPENBLAS_NUM_THREADS\"] = \"8\"   # export OPENBLAS_NUM_THREADS=4 \n",
        "os.environ[\"MKL_NUM_THREADS\"] = \"8\"        # export MKL_NUM_THREADS=6\n",
        "os.environ[\"VECLIB_MAXIMUM_THREADS\"] = \"8\" # export VECLIB_MAXIMUM_THREADS=478\n",
        "os.environ[\"NUMEXPR_NUM_THREADS\"] = \"8\""
      ]
    },
    {
      "cell_type": "markdown",
      "metadata": {
        "id": "waGNRsQkGt3t"
      },
      "source": [
        "## Imports"
      ]
    },
    {
      "cell_type": "code",
      "metadata": {
        "id": "LSMrVzzrFcnl"
      },
      "source": [
        "import io\n",
        "import os\n",
        "import gzip\n",
        "import json\n",
        "import scipy\n",
        "import random\n",
        "import warnings\n",
        "import numpy as np\n",
        "import numba as nb\n",
        "import pandas as pd\n",
        "import datetime as dt\n",
        "import seaborn as sns\n",
        "from tqdm import tqdm\n",
        "import scipy.stats as st\n",
        "from collections import OrderedDict\n",
        "import scipy.sparse as sparse\n",
        "from scipy.linalg import orth\n",
        "import matplotlib.pyplot as plt\n",
        "from numpy import linalg as lin\n",
        "import implicit\n",
        "import pickle\n",
        "warnings.filterwarnings('ignore')\n",
        "from scipy.sparse import coo_matrix\n",
        "from scipy.sparse.linalg import svds\n",
        "from datetime import datetime as dt_dt\n",
        "from scipy.sparse.linalg import spsolve\n",
        "from numpy.linalg import qr as QR_decomp\n",
        "from scipy.sparse import csr_matrix, find\n",
        "from pandas.api.types import CategoricalDtype\n",
        "from typing import List\n",
        "import torch\n",
        "import torch.nn.functional as F\n",
        "from torch import nn\n",
        "from polara.evaluation.pipelines import random_grid\n",
        "import bottleneck as bn"
      ],
      "execution_count": 5,
      "outputs": []
    },
    {
      "cell_type": "markdown",
      "metadata": {
        "id": "IkLZJhQWqaPp"
      },
      "source": [
        "## Functions"
      ]
    },
    {
      "cell_type": "code",
      "metadata": {
        "id": "Uvv8Q8zR7OAn"
      },
      "source": [
        "import sys\n",
        "sys.path.append('/home/oolaleke/incremental_PSI/Scripts/')\n",
        "#sys.path.append('/content/')"
      ],
      "execution_count": 6,
      "outputs": []
    },
    {
      "cell_type": "code",
      "metadata": {
        "id": "qoOQOsCf7849"
      },
      "source": [
        "import a_DataHelpers\n",
        "import b_AlgoFunctions\n",
        "import c_PredEval\n",
        "import d_CorrScores\n",
        "import e_VAEfunction"
      ],
      "execution_count": 7,
      "outputs": []
    },
    {
      "cell_type": "code",
      "metadata": {
        "id": "slSdgbc1XxNT"
      },
      "source": [
        "from a_DataHelpers import getPivotMonths,Time_DataSplit,TestTrain_DataSplit,SingleRatingMatrix\n",
        "from a_DataHelpers import AllRatingMatrices,All_SingleStepRatMat,psiStep_RatMat,psiAllStep_RatMat\n",
        "from a_DataHelpers import Find_NewUsersItems,adjustedPSI_DF,adjustedAllDF,get_NEWHoldout,ADJUST_mainDF\n",
        "from a_DataHelpers import  SingleStepRatMat_2,AllSingleStepRatMat_2\n",
        "\n",
        "from b_AlgoFunctions import integrator,getStartingValues,integratorOnMat,last_psiTrainMat, pureSVD\n",
        "from b_AlgoFunctions import Updt_RowMatrix,getRow_Mat,row_update, Updt_ColMatrix,getCol_Mat,colunm_update\n",
        "from b_AlgoFunctions import UsersItems_RatPair,getRowCol_psiupdt,ITEMS_defferredStatus,USERS_defferredStatus\n",
        "from b_AlgoFunctions import getV_listUpdate, SingleStep_UPDATE,ALLSTEPs_UPDATE, auc_score,TrainTest\n",
        "from b_AlgoFunctions import mean_auc,tune_ALS,nonzeros,least_squares_cg,alternating_least_squares_cg\n",
        "\n",
        "from c_PredEval import TopNPred,TQDMgetALLTopNPred, Hitrate_Eval,getAll_HitRate,mean_confidence_interval\n",
        "from c_PredEval import TQDMgetALLTopNPred_ALLUSERS,getALLTopNPred_ALLUSERS,get_ALLRandPred\n",
        "from c_PredEval import topN_Index,getAll_RandomHitRate,getMOSTPOP_Pred,getAll_MostPOPHitRate,getAll_MOSTPOP_Pred\n",
        "from c_PredEval import StepCoverage_Ratio,AllSteps_Coverage_Ratio,getAll_VAEMRR, MRR_Eval,getAll_MRR_Eval\n",
        "from c_PredEval import TQDMgetAll_MRR_Eval, getAll_MostPOP_MRR,getAll_RandomRecMRR, ials_TopNPred,ials_getALLPred\n",
        "from c_PredEval import ials_getALLPredTQDM,ials_ALLUSERSpred,ialsALLPred_ALLUSERS,TQDM_ialsALLPred_ALLUSERS\n",
        "\n",
        "from d_CorrScores import no_copy_csr_matrix,build_rank_weights_matrix,rank_weighted_jaccard_index\n",
        "from d_CorrScores import Updt_getAll_AvgCorr, updtCorr_4AllRanks\n",
        "\n",
        "from e_VAEfunction import split_users, split_train_test, numerize_data, get_TrainRatMat, getTrainTest_RatMat\n"
      ],
      "execution_count": 8,
      "outputs": []
    },
    {
      "cell_type": "code",
      "execution_count": 68,
      "metadata": {},
      "outputs": [],
      "source": [
        "def SingleStepRatMat_2(DF,V,user_column,item_column):  ##rows_ = n_users,cols_ = n_items\n",
        "    rows_ = DF[user_column].max()+1 \n",
        "    cols_ = V.shape[0] \n",
        "    \n",
        "    rows0 = DF[user_column].values\n",
        "    cols0 = DF[item_column].values\n",
        "    data  = np.broadcast_to(1., DF.shape[0]) # ignore ratings\n",
        "\n",
        "    A0_Rating_matrix = coo_matrix((data, (rows0, cols0)), shape=(rows_, cols_)).tocsr()\n",
        "    if A0_Rating_matrix.nnz < len(data):\n",
        "        A0_Rating_matrix = A0_Rating_matrix._with_data(np.broadcast_to(1., A0_Rating_matrix.nnz), copy=False)\n",
        "\n",
        "    return A0_Rating_matrix\n",
        "\n",
        "def AllSingleStepRatMat_2(DFList,Vlist,user_column,item_column):\n",
        "    Rating_matrix_list = []\n",
        "    for df,v in zip(DFList,Vlist):\n",
        "        df_Mat = SingleStepRatMat_2(df,v,user_column,item_column)\n",
        "        Rating_matrix_list.append(df_Mat)\n",
        "    return Rating_matrix_list              \n"
      ]
    },
    {
      "cell_type": "markdown",
      "metadata": {
        "id": "e556n8BpXy0b"
      },
      "source": [
        "## Apply Functions on *MovieLenDF*"
      ]
    },
    {
      "cell_type": "markdown",
      "metadata": {
        "id": "Kq7VUKhmJPxP"
      },
      "source": [
        "###Import Clean Data "
      ]
    },
    {
      "cell_type": "code",
      "metadata": {
        "id": "hE6KEjteGV3c"
      },
      "source": [
        "ML1M_DF = pd.read_csv('/mnt/bulky/oolaleke/TDM_Dataset/ML_1M/newIncreMLDF_1M.zip') \n",
        "ML1M_DF['timestamp'] = pd.to_datetime(ML1M_DF['timestamp']) \n",
        "print(ML1M_DF.shape)   #userId_int\n",
        "print(ML1M_DF.dtypes)\n",
        "ML1M_DF"
      ],
      "execution_count": 30,
      "outputs": [
        {
          "output_type": "stream",
          "name": "stdout",
          "text": [
            "(575281, 7)\nuserId_int               int64\nmovieId_int              int64\nrating                   int64\ntimestamp       datetime64[ns]\nuserId                   int64\nproductId                int64\ntimestamp_YM            object\ndtype: object\n"
          ]
        },
        {
          "output_type": "execute_result",
          "data": {
            "text/plain": [
              "        userId_int  movieId_int  rating           timestamp  userId  \\\n",
              "0             6040          858       1 2000-04-25 23:05:32       0   \n",
              "1             6040         2384       1 2000-04-25 23:05:54       0   \n",
              "2             6040          593       1 2000-04-25 23:05:54       0   \n",
              "3             6040         1961       1 2000-04-25 23:06:17       0   \n",
              "4             6040         2019       1 2000-04-25 23:06:17       0   \n",
              "...            ...          ...     ...                 ...     ...   \n",
              "575276        4958         2453       1 2003-02-28 17:44:20    1081   \n",
              "575277        4958         3489       1 2003-02-28 17:45:20    1081   \n",
              "575278        4958         1407       1 2003-02-28 17:47:23    1081   \n",
              "575279        4958         3264       1 2003-02-28 17:49:08    1081   \n",
              "575280        4958         1924       1 2003-02-28 17:49:50    1081   \n",
              "\n",
              "        productId timestamp_YM  \n",
              "0               0      2000-04  \n",
              "1               1      2000-04  \n",
              "2               2      2000-04  \n",
              "3               3      2000-04  \n",
              "4               4      2000-04  \n",
              "...           ...          ...  \n",
              "575276       1838      2003-02  \n",
              "575277        632      2003-02  \n",
              "575278        677      2003-02  \n",
              "575279       1018      2003-02  \n",
              "575280        656      2003-02  \n",
              "\n",
              "[575281 rows x 7 columns]"
            ],
            "text/html": "<div>\n<style scoped>\n    .dataframe tbody tr th:only-of-type {\n        vertical-align: middle;\n    }\n\n    .dataframe tbody tr th {\n        vertical-align: top;\n    }\n\n    .dataframe thead th {\n        text-align: right;\n    }\n</style>\n<table border=\"1\" class=\"dataframe\">\n  <thead>\n    <tr style=\"text-align: right;\">\n      <th></th>\n      <th>userId_int</th>\n      <th>movieId_int</th>\n      <th>rating</th>\n      <th>timestamp</th>\n      <th>userId</th>\n      <th>productId</th>\n      <th>timestamp_YM</th>\n    </tr>\n  </thead>\n  <tbody>\n    <tr>\n      <th>0</th>\n      <td>6040</td>\n      <td>858</td>\n      <td>1</td>\n      <td>2000-04-25 23:05:32</td>\n      <td>0</td>\n      <td>0</td>\n      <td>2000-04</td>\n    </tr>\n    <tr>\n      <th>1</th>\n      <td>6040</td>\n      <td>2384</td>\n      <td>1</td>\n      <td>2000-04-25 23:05:54</td>\n      <td>0</td>\n      <td>1</td>\n      <td>2000-04</td>\n    </tr>\n    <tr>\n      <th>2</th>\n      <td>6040</td>\n      <td>593</td>\n      <td>1</td>\n      <td>2000-04-25 23:05:54</td>\n      <td>0</td>\n      <td>2</td>\n      <td>2000-04</td>\n    </tr>\n    <tr>\n      <th>3</th>\n      <td>6040</td>\n      <td>1961</td>\n      <td>1</td>\n      <td>2000-04-25 23:06:17</td>\n      <td>0</td>\n      <td>3</td>\n      <td>2000-04</td>\n    </tr>\n    <tr>\n      <th>4</th>\n      <td>6040</td>\n      <td>2019</td>\n      <td>1</td>\n      <td>2000-04-25 23:06:17</td>\n      <td>0</td>\n      <td>4</td>\n      <td>2000-04</td>\n    </tr>\n    <tr>\n      <th>...</th>\n      <td>...</td>\n      <td>...</td>\n      <td>...</td>\n      <td>...</td>\n      <td>...</td>\n      <td>...</td>\n      <td>...</td>\n    </tr>\n    <tr>\n      <th>575276</th>\n      <td>4958</td>\n      <td>2453</td>\n      <td>1</td>\n      <td>2003-02-28 17:44:20</td>\n      <td>1081</td>\n      <td>1838</td>\n      <td>2003-02</td>\n    </tr>\n    <tr>\n      <th>575277</th>\n      <td>4958</td>\n      <td>3489</td>\n      <td>1</td>\n      <td>2003-02-28 17:45:20</td>\n      <td>1081</td>\n      <td>632</td>\n      <td>2003-02</td>\n    </tr>\n    <tr>\n      <th>575278</th>\n      <td>4958</td>\n      <td>1407</td>\n      <td>1</td>\n      <td>2003-02-28 17:47:23</td>\n      <td>1081</td>\n      <td>677</td>\n      <td>2003-02</td>\n    </tr>\n    <tr>\n      <th>575279</th>\n      <td>4958</td>\n      <td>3264</td>\n      <td>1</td>\n      <td>2003-02-28 17:49:08</td>\n      <td>1081</td>\n      <td>1018</td>\n      <td>2003-02</td>\n    </tr>\n    <tr>\n      <th>575280</th>\n      <td>4958</td>\n      <td>1924</td>\n      <td>1</td>\n      <td>2003-02-28 17:49:50</td>\n      <td>1081</td>\n      <td>656</td>\n      <td>2003-02</td>\n    </tr>\n  </tbody>\n</table>\n<p>575281 rows × 7 columns</p>\n</div>"
          },
          "metadata": {},
          "execution_count": 30
        }
      ]
    },
    {
      "cell_type": "code",
      "metadata": {
        "colab": {
          "base_uri": "https://localhost:8080/"
        },
        "id": "2XWFDaGwFFCR",
        "outputId": "3fdc693b-c261-4c90-c686-89a29fab2ad9"
      },
      "source": [
        "print(ML1M_DF.shape)\n",
        "print(\"For users: \")\n",
        "print(ML1M_DF['userId'].nunique())\n",
        "print(ML1M_DF['userId'].max())\n",
        "print()\n",
        "print(\"For items: \")\n",
        "print(ML1M_DF['productId'].nunique())\n",
        "print(ML1M_DF['productId'].max())\n",
        "print()\n",
        "print(\"Timestamp\")\n",
        "print(ML1M_DF['timestamp'].min())\n",
        "print(ML1M_DF['timestamp'].max())"
      ],
      "execution_count": 31,
      "outputs": [
        {
          "output_type": "stream",
          "name": "stdout",
          "text": [
            "(575281, 7)\nFor users: \n6038\n6037\n\nFor items: \n3533\n3532\n\nTimestamp\n2000-04-25 23:05:32\n2003-02-28 17:49:50\n"
          ]
        }
      ]
    },
    {
      "cell_type": "code",
      "metadata": {
        "id": "xlbzMS4hGeF3"
      },
      "source": [],
      "execution_count": null,
      "outputs": []
    },
    {
      "cell_type": "markdown",
      "metadata": {
        "id": "KwnnNu5ISAOR"
      },
      "source": [
        "### Data Split"
      ]
    },
    {
      "cell_type": "code",
      "metadata": {
        "colab": {
          "base_uri": "https://localhost:8080/"
        },
        "id": "iMlutJ-GSAOT",
        "outputId": "a50b2e42-5c64-4264-cbbf-96f44bab0809"
      },
      "source": [
        "print(\"Size of Dataset: \", ML1M_DF.shape)\n",
        "print('Min Date: ', ML1M_DF['timestamp'].min())\n",
        "print(\"Max Date: \",ML1M_DF['timestamp'].max())"
      ],
      "execution_count": 32,
      "outputs": [
        {
          "output_type": "stream",
          "name": "stdout",
          "text": [
            "Size of Dataset:  (575281, 7)\nMin Date:  2000-04-25 23:05:32\nMax Date:  2003-02-28 17:49:50\n"
          ]
        }
      ]
    },
    {
      "cell_type": "code",
      "metadata": {
        "colab": {
          "base_uri": "https://localhost:8080/"
        },
        "id": "Jqqxa8AOSAOd",
        "outputId": "71798581-1161-4a56-9c83-46298fdf5517"
      },
      "source": [
        "train_df = ML1M_DF[ML1M_DF['timestamp_YM'] < '2000-12']    #'2016-02\n",
        "print(\"DF Shape: \",train_df['userId'].shape)  ##63%\n",
        "print(\"NUsers  : \",train_df['userId'].nunique())"
      ],
      "execution_count": 33,
      "outputs": [
        {
          "output_type": "stream",
          "name": "stdout",
          "text": [
            "DF Shape:  (458067,)\nNUsers  :  5361\n"
          ]
        }
      ]
    },
    {
      "cell_type": "code",
      "metadata": {
        "colab": {
          "base_uri": "https://localhost:8080/"
        },
        "id": "XkUSFKB1SAOe",
        "outputId": "ff91b6bf-4f5a-45fd-c9bb-7a5746118748"
      },
      "source": [
        "remainder_df = ML1M_DF[ML1M_DF['timestamp_YM'] >= '2000-12']  \n",
        "print(remainder_df['userId'].nunique())\n",
        "print(remainder_df.shape)"
      ],
      "execution_count": 34,
      "outputs": [
        {
          "output_type": "stream",
          "name": "stdout",
          "text": [
            "1801\n(117214, 7)\n"
          ]
        }
      ]
    },
    {
      "cell_type": "code",
      "metadata": {
        "colab": {
          "base_uri": "https://localhost:8080/"
        },
        "id": "6TDHVuxGSAOf",
        "outputId": "0526a446-9cdf-465e-c2fb-ffd4edcc51c3"
      },
      "source": [
        "n = 8500  #num_of_interaction/no_steps\n",
        "all_df = []\n",
        "for g, df in remainder_df.groupby(np.arange(len(remainder_df)) // n):\n",
        "    all_df.append(df)\n",
        "    print(df['userId'].nunique())\n",
        "print()\n",
        "print(g+1)    "
      ],
      "execution_count": 35,
      "outputs": [
        {
          "output_type": "stream",
          "name": "stdout",
          "text": [
            "213\n197\n148\n194\n233\n255\n286\n309\n468\n526\n517\n470\n453\n362\n\n14\n"
          ]
        }
      ]
    },
    {
      "cell_type": "code",
      "metadata": {
        "id": "l96vNu21SAOi"
      },
      "source": [],
      "execution_count": null,
      "outputs": []
    },
    {
      "cell_type": "markdown",
      "metadata": {
        "id": "CfrlfYwtg0RR"
      },
      "source": [
        "###Traintest Split"
      ]
    },
    {
      "cell_type": "code",
      "metadata": {
        "id": "3gAygjGd8NFK",
        "colab": {
          "base_uri": "https://localhost:8080/"
        },
        "outputId": "b819133d-8aa2-431f-bb5a-224e80dd08e3"
      },
      "source": [
        "A0_df = train_df  \n",
        "print(\"Initial Training Data: \") \n",
        "print(\"Start Time: \",A0_df['timestamp'].min())\n",
        "print(\"End Time:   \",A0_df['timestamp'].max())\n",
        "print()\n",
        "print(\"Num of interactions: \",A0_df.shape[0])\n",
        "print(\"Num of uniqueUsers:  \",A0_df['userId'].nunique())"
      ],
      "execution_count": 36,
      "outputs": [
        {
          "output_type": "stream",
          "name": "stdout",
          "text": [
            "Initial Training Data: \nStart Time:  2000-04-25 23:05:32\nEnd Time:    2000-11-30 23:59:47\n\nNum of interactions:  458067\nNum of uniqueUsers:   5361\n"
          ]
        }
      ]
    },
    {
      "cell_type": "code",
      "metadata": {
        "id": "FSvG81Gs8NFL",
        "colab": {
          "base_uri": "https://localhost:8080/"
        },
        "outputId": "5e2ab424-5b82-40ad-9b4d-e24c9caae7f1"
      },
      "source": [
        "ΔA_train = all_df[:4] \n",
        "print(\"Incremental Train steps: \",len(ΔA_train))\n",
        "print(\"Start Time: \",ΔA_train[0]['timestamp'].min())\n",
        "print(\"End Time:   \",ΔA_train[-1]['timestamp'].max())\n",
        "\n"
      ],
      "execution_count": 37,
      "outputs": [
        {
          "output_type": "stream",
          "name": "stdout",
          "text": [
            "Incremental Train steps:  4\nStart Time:  2000-12-01 00:00:15\nEnd Time:    2000-12-10 04:09:37\n"
          ]
        }
      ]
    },
    {
      "cell_type": "code",
      "metadata": {
        "id": "2V6tLApz8NFM",
        "colab": {
          "base_uri": "https://localhost:8080/"
        },
        "outputId": "060fe08e-1bb3-4047-cb13-7d3d9c2136c5"
      },
      "source": [
        "ΔA_test = all_df[4:] \n",
        "print(\"Incremental Test steps: \",len(ΔA_test))\n",
        "print(\"Start Time: \",ΔA_test[0]['timestamp'].min())\n",
        "print(\"End Time:   \",ΔA_test[-1]['timestamp'].max())"
      ],
      "execution_count": 38,
      "outputs": [
        {
          "output_type": "stream",
          "name": "stdout",
          "text": [
            "Incremental Test steps:  10\nStart Time:  2000-12-10 04:09:37\nEnd Time:    2003-02-28 17:49:50\n"
          ]
        }
      ]
    },
    {
      "cell_type": "code",
      "metadata": {
        "id": "O_HSp4Ax8NFN",
        "colab": {
          "base_uri": "https://localhost:8080/"
        },
        "outputId": "ab3d83e1-0094-4bac-a742-b33de1072bb7"
      },
      "source": [
        "ΔA_test[0]['timestamp'].max()"
      ],
      "execution_count": 39,
      "outputs": [
        {
          "output_type": "execute_result",
          "data": {
            "text/plain": [
              "Timestamp('2000-12-14 00:34:30')"
            ]
          },
          "metadata": {},
          "execution_count": 39
        }
      ]
    },
    {
      "cell_type": "code",
      "metadata": {
        "id": "baVjA5xh8NFT",
        "colab": {
          "base_uri": "https://localhost:8080/"
        },
        "outputId": "0bc578ff-c30c-40e5-d3a7-02b7c9e770ed"
      },
      "source": [
        "AllDF_list, PSITest_list, HOLDOUT_list,UserItemDF_list = TestTrain_DataSplit(ML1M_DF,'userId','timestamp',ΔA_test)\n",
        "print(AllDF_list[1]['timestamp'].min())\n",
        "print(AllDF_list[1]['timestamp'].max())\n",
        "print()\n",
        "print(ΔA_test[1]['timestamp'].min())\n",
        "print(ΔA_test[1]['timestamp'].max())"
      ],
      "execution_count": 40,
      "outputs": [
        {
          "output_type": "stream",
          "name": "stdout",
          "text": [
            "2000-04-25 23:05:32\n2000-12-19 13:44:29\n\n2000-12-14 00:36:17\n2000-12-19 13:44:29\n"
          ]
        }
      ]
    },
    {
      "cell_type": "code",
      "metadata": {
        "id": "FXqq0BEw8NFW",
        "colab": {
          "base_uri": "https://localhost:8080/"
        },
        "outputId": "4544d831-2883-4a11-d8a6-b50016b50dd8"
      },
      "source": [
        "for i in range(10):\n",
        "    print(AllDF_list[i]['userId'].max(),AllDF_list[i]['userId'].nunique())"
      ],
      "execution_count": 41,
      "outputs": [
        {
          "output_type": "stream",
          "name": "stdout",
          "text": [
            "5787 5788\n5869 5870\n5973 5974\n6029 6030\n6029 6030\n6030 6031\n6032 6033\n6034 6035\n6035 6036\n6037 6038\n"
          ]
        }
      ]
    },
    {
      "cell_type": "code",
      "metadata": {
        "id": "C9_iraoz8NFY",
        "colab": {
          "base_uri": "https://localhost:8080/"
        },
        "outputId": "fac1b830-7f41-4957-afd2-e8f3858fd464"
      },
      "source": [
        "print(ΔA_test[2].shape)\n",
        "print(PSITest_list[2].shape)\n",
        "print(HOLDOUT_list[2]['userId'].nunique())"
      ],
      "execution_count": 42,
      "outputs": [
        {
          "output_type": "stream",
          "name": "stdout",
          "text": [
            "(8500, 7)\n(8214, 7)\n286\n"
          ]
        }
      ]
    },
    {
      "cell_type": "markdown",
      "metadata": {
        "id": "dzWCij3ZipQX"
      },
      "source": [
        "### Find new users and items"
      ]
    },
    {
      "cell_type": "code",
      "metadata": {
        "colab": {
          "base_uri": "https://localhost:8080/"
        },
        "id": "L-GolZfZipQZ",
        "outputId": "9670753c-d17e-45a4-f73e-c95d1fe4d0ee"
      },
      "source": [
        "Tstps = ML1M_DF['timestamp']\n",
        "tr_ts = ΔA_train[-1]['timestamp'].max()\n",
        "print(\"ΔA_train_last max date: \",tr_ts)\n",
        "AllDF_start = ML1M_DF.loc[Tstps <= tr_ts] \n",
        "print(AllDF_start['timestamp'].min())\n",
        "print(AllDF_start['timestamp'].max())\n",
        "print()\n",
        "print(AllDF_list[0]['timestamp'].min())\n",
        "print(AllDF_list[0]['timestamp'].max())"
      ],
      "execution_count": 43,
      "outputs": [
        {
          "output_type": "stream",
          "name": "stdout",
          "text": [
            "ΔA_train_last max date:  2000-12-10 04:09:37\n2000-04-25 23:05:32\n2000-12-10 04:09:37\n\n2000-04-25 23:05:32\n2000-12-14 00:34:30\n"
          ]
        }
      ]
    },
    {
      "cell_type": "code",
      "metadata": {
        "colab": {
          "base_uri": "https://localhost:8080/"
        },
        "id": "GfgYKuugA3lO",
        "outputId": "93ffa1b9-9a78-46ad-e657-f4afc2d46081"
      },
      "source": [
        "New_usersList,New_itemsList = Find_NewUsersItems(AllDF_start,AllDF_list,'userId','productId',N_steps=10)\n",
        "print(New_usersList[0][:10]) #\n",
        "print()\n",
        "print(New_itemsList[0][:10]) #"
      ],
      "execution_count": 44,
      "outputs": [
        {
          "output_type": "stream",
          "name": "stdout",
          "text": [
            "[5711 5712 5713 5714 5715 5716 5717 5718 5719 5720]\n\n[3478 3479 3480 3481 3482 3483]\n"
          ]
        }
      ]
    },
    {
      "cell_type": "code",
      "metadata": {
        "colab": {
          "base_uri": "https://localhost:8080/"
        },
        "id": "KXIsxxPnjhx2",
        "outputId": "89e48312-1337-44fd-c912-c49f7829ef23"
      },
      "source": [
        "print(\"users,Items\")\n",
        "for i,j in zip(New_usersList,New_itemsList):\n",
        "    print(i.size,j.size)\n",
        "    print()\n",
        "    "
      ],
      "execution_count": 45,
      "outputs": [
        {
          "output_type": "stream",
          "name": "stdout",
          "text": [
            "users,Items\n77 6\n\n82 5\n\n104 0\n\n56 6\n\n0 5\n\n1 5\n\n2 7\n\n2 9\n\n1 9\n\n2 3\n\n"
          ]
        }
      ]
    },
    {
      "cell_type": "code",
      "metadata": {
        "id": "1ykECNc7G4GL"
      },
      "source": [],
      "execution_count": null,
      "outputs": []
    },
    {
      "cell_type": "markdown",
      "metadata": {
        "id": "gk_I6-j-nqwZ"
      },
      "source": [
        "## Incre Update"
      ]
    },
    {
      "cell_type": "markdown",
      "metadata": {
        "id": "n_XyE7otUxey"
      },
      "source": [
        "###Get Updt RatMat"
      ]
    },
    {
      "cell_type": "code",
      "metadata": {
        "colab": {
          "base_uri": "https://localhost:8080/"
        },
        "id": "-S_Ti3jIVmL7",
        "outputId": "2f20526a-161b-4f43-8a9c-2ca2ef433386"
      },
      "source": [
        "rows_i = AllDF_start['userId'].nunique()\n",
        "cols_i = AllDF_start['productId'].nunique()\n",
        "print(A0_df.shape)\n",
        "A0_RatMat_updt = SingleRatingMatrix(A0_df,'userId', 'productId',rows_i,cols_i)\n",
        "A0_RatMat_updt"
      ],
      "execution_count": 46,
      "outputs": [
        {
          "output_type": "stream",
          "name": "stdout",
          "text": [
            "(458067, 7)\n"
          ]
        },
        {
          "output_type": "execute_result",
          "data": {
            "text/plain": [
              "<5711x3478 sparse matrix of type '<class 'numpy.float64'>'\n",
              "\twith 458067 stored elements in Compressed Sparse Row format>"
            ]
          },
          "metadata": {},
          "execution_count": 46
        }
      ]
    },
    {
      "cell_type": "code",
      "metadata": {
        "colab": {
          "base_uri": "https://localhost:8080/"
        },
        "id": "9bSWovTNVmMX",
        "outputId": "6e884a38-df23-4e1a-8743-a82fc9c246d2"
      },
      "source": [
        "PSI_TrainMat_updt = AllRatingMatrices(ΔA_train,'userId','productId',rows_i ,cols_i)\n",
        "PSI_TrainMat_updt"
      ],
      "execution_count": 47,
      "outputs": [
        {
          "output_type": "execute_result",
          "data": {
            "text/plain": [
              "[<5711x3478 sparse matrix of type '<class 'numpy.float64'>'\n",
              " \twith 8500 stored elements in Compressed Sparse Row format>,\n",
              " <5711x3478 sparse matrix of type '<class 'numpy.float64'>'\n",
              " \twith 8500 stored elements in Compressed Sparse Row format>,\n",
              " <5711x3478 sparse matrix of type '<class 'numpy.float64'>'\n",
              " \twith 8500 stored elements in Compressed Sparse Row format>,\n",
              " <5711x3478 sparse matrix of type '<class 'numpy.float64'>'\n",
              " \twith 8500 stored elements in Compressed Sparse Row format>]"
            ]
          },
          "metadata": {},
          "execution_count": 47
        }
      ]
    },
    {
      "cell_type": "code",
      "metadata": {
        "id": "X9B1wEG8YUQa"
      },
      "source": [],
      "execution_count": null,
      "outputs": []
    },
    {
      "cell_type": "markdown",
      "metadata": {
        "id": "A0k3BxpQCEDK"
      },
      "source": [
        "### Allsteps Update"
      ]
    },
    {
      "cell_type": "code",
      "metadata": {
        "id": "RrhIaattvMvN"
      },
      "source": [
        "# rows_i = AllDF_start['userId'].nunique()\n",
        "# cols_i = AllDF_start['productId'].nunique()\n",
        "# print(AllDF_start.shape)\n",
        "# AllDF_startRatMat = SingleRatingMatrix(AllDF_start,'userId', 'productId',rows_i,cols_i)\n",
        "\n",
        "# U_start,S_start,V_start = svds(AllDF_startRatMat,k=50)\n",
        "# V_start = V_start.T\n",
        "# print()\n",
        "# print(\"U_start shape: \",U_start.shape)\n",
        "# print(\"S_start shape: \",S_start.shape)\n",
        "# print(\"V_start shape: \",V_start.shape)"
      ],
      "execution_count": 48,
      "outputs": []
    },
    {
      "cell_type": "code",
      "metadata": {
        "colab": {
          "base_uri": "https://localhost:8080/"
        },
        "id": "gZKKzIA4UPAt",
        "outputId": "48841a1b-8ec0-48fc-fdd6-cc5994e3aa00"
      },
      "source": [
        "U_start,S_start,V_start = last_psiTrainMat(A0_RatMat_updt,PSI_TrainMat_updt,k=20)\n",
        "print()\n",
        "print(\"U_start shape: \",U_start.shape)\n",
        "print(\"S_start shape: \",S_start.shape)\n",
        "print(\"V_start shape: \",V_start.shape)"
      ],
      "execution_count": 49,
      "outputs": [
        {
          "output_type": "stream",
          "name": "stderr",
          "text": [
            "100%|██████████| 4/4 [00:00<00:00, 165.83it/s]\n",
            "U_start shape:  (5711, 20)\n",
            "S_start shape:  (20, 20)\n",
            "V_start shape:  (3478, 20)\n",
            "\n"
          ]
        }
      ]
    },
    {
      "cell_type": "code",
      "metadata": {
        "colab": {
          "base_uri": "https://localhost:8080/"
        },
        "id": "1c2frghJa9qQ",
        "outputId": "56ab2b11-f3cc-4376-8ac1-470ed4d9b697"
      },
      "source": [
        "U_list,S_list,V_list = [],[],[]\n",
        "U_list.append(U_start)\n",
        "S_list.append(S_start)\n",
        "V_list.append(V_start)\n",
        "print(len(U_list),len(V_list))"
      ],
      "execution_count": 50,
      "outputs": [
        {
          "output_type": "stream",
          "name": "stdout",
          "text": [
            "1 1\n"
          ]
        }
      ]
    },
    {
      "cell_type": "code",
      "metadata": {
        "id": "GBY5SEHx8NFk",
        "colab": {
          "base_uri": "https://localhost:8080/"
        },
        "outputId": "3d2af409-b6a3-4258-afc1-149527a386be"
      },
      "source": [
        "DItems_, DUsers_,In_DomainUSERS,In_DomainITEMS,userID_dict,itemID_dict,AllUpdtUSERS_,AllUpdtITEMS_,U_list,S_list,V_list = ALLSTEPs_UPDATE(AllDF_start,AllDF_list,New_itemsList,New_usersList,U_list,\n",
        "                                       S_list,V_list,'userId','productId',Nsteps=10,k=20,Forced_Orth=False)"
      ],
      "execution_count": 51,
      "outputs": [
        {
          "output_type": "stream",
          "name": "stderr",
          "text": [
            "100%|██████████| 9/9 [00:01<00:00,  5.67it/s]\n"
          ]
        }
      ]
    },
    {
      "cell_type": "markdown",
      "metadata": {
        "id": "H9o1U4E-zttV"
      },
      "source": [
        "### Output Check"
      ]
    },
    {
      "cell_type": "code",
      "metadata": {
        "id": "d92VJcjh8NFn",
        "colab": {
          "base_uri": "https://localhost:8080/"
        },
        "outputId": "6221ef5b-6dc2-4651-8486-7c3e24db1b66"
      },
      "source": [
        "print(AllDF_start['productId'].max())\n",
        "print(AllDF_start['userId'].max())"
      ],
      "execution_count": 52,
      "outputs": [
        {
          "output_type": "stream",
          "name": "stdout",
          "text": [
            "3477\n5710\n"
          ]
        }
      ]
    },
    {
      "cell_type": "code",
      "metadata": {
        "colab": {
          "base_uri": "https://localhost:8080/"
        },
        "id": "0J4Qrzf9OvVN",
        "outputId": "61a5bb25-b4bc-4477-80ce-3c2f023462fa"
      },
      "source": [
        "print(len(In_DomainITEMS[3477+1:]))\n",
        "print(In_DomainITEMS[3477+1:][:10])\n",
        "print()\n",
        "print(len(In_DomainUSERS[5710+1:]))\n",
        "print(In_DomainUSERS[5710+1:][:10])"
      ],
      "execution_count": 53,
      "outputs": [
        {
          "output_type": "stream",
          "name": "stdout",
          "text": [
            "55\n[3478, 3479, 3480, 3481, 3482, 3483, 3484, 3487, 3485, 3486]\n\n327\n[5711, 5712, 5713, 5714, 5715, 5716, 5717, 5718, 5719, 5720]\n"
          ]
        }
      ]
    },
    {
      "cell_type": "code",
      "metadata": {
        "colab": {
          "base_uri": "https://localhost:8080/"
        },
        "id": "5vpSt3xLOvVU",
        "outputId": "f8071193-7eb5-4079-cd4f-71cec00b649f"
      },
      "source": [
        "#deferred items and users\n",
        "print(len(DItems_))\n",
        "print(DItems_[:10])\n",
        "print()\n",
        "print(len(DUsers_))\n",
        "print(DUsers_[:10])"
      ],
      "execution_count": 54,
      "outputs": [
        {
          "output_type": "stream",
          "name": "stdout",
          "text": [
            "0\n[]\n\n0\n[]\n"
          ]
        }
      ]
    },
    {
      "cell_type": "code",
      "metadata": {
        "colab": {
          "base_uri": "https://localhost:8080/"
        },
        "id": "fYRgZGwlOvVW",
        "tags": [],
        "outputId": "fb60070e-9e33-4250-ddbb-3177944ed509"
      },
      "source": [
        "for x in list(itemID_dict)[3477+1:][:100]:\n",
        "    print (\"Id: {}, UpdtId: {} \".format(x,  itemID_dict[x]))   ##id ==key || updtedid == values  ,itemID_dict"
      ],
      "execution_count": 55,
      "outputs": [
        {
          "output_type": "stream",
          "name": "stdout",
          "text": [
            "Id: 3478, UpdtId: 3478 \nId: 3479, UpdtId: 3479 \nId: 3480, UpdtId: 3480 \nId: 3481, UpdtId: 3481 \nId: 3482, UpdtId: 3482 \nId: 3483, UpdtId: 3483 \nId: 3484, UpdtId: 3484 \nId: 3487, UpdtId: 3485 \nId: 3485, UpdtId: 3486 \nId: 3486, UpdtId: 3487 \nId: 3488, UpdtId: 3488 \nId: 3491, UpdtId: 3489 \nId: 3492, UpdtId: 3490 \nId: 3493, UpdtId: 3491 \nId: 3494, UpdtId: 3492 \nId: 3489, UpdtId: 3493 \nId: 3490, UpdtId: 3494 \nId: 3495, UpdtId: 3495 \nId: 3496, UpdtId: 3496 \nId: 3497, UpdtId: 3497 \nId: 3498, UpdtId: 3498 \nId: 3499, UpdtId: 3499 \nId: 3500, UpdtId: 3500 \nId: 3501, UpdtId: 3501 \nId: 3502, UpdtId: 3502 \nId: 3503, UpdtId: 3503 \nId: 3504, UpdtId: 3504 \nId: 3505, UpdtId: 3505 \nId: 3506, UpdtId: 3506 \nId: 3507, UpdtId: 3507 \nId: 3508, UpdtId: 3508 \nId: 3509, UpdtId: 3509 \nId: 3510, UpdtId: 3510 \nId: 3511, UpdtId: 3511 \nId: 3512, UpdtId: 3512 \nId: 3513, UpdtId: 3513 \nId: 3514, UpdtId: 3514 \nId: 3515, UpdtId: 3515 \nId: 3516, UpdtId: 3516 \nId: 3517, UpdtId: 3517 \nId: 3518, UpdtId: 3518 \nId: 3519, UpdtId: 3519 \nId: 3520, UpdtId: 3520 \nId: 3521, UpdtId: 3521 \nId: 3522, UpdtId: 3522 \nId: 3523, UpdtId: 3523 \nId: 3524, UpdtId: 3524 \nId: 3525, UpdtId: 3525 \nId: 3526, UpdtId: 3526 \nId: 3527, UpdtId: 3527 \nId: 3528, UpdtId: 3528 \nId: 3529, UpdtId: 3529 \nId: 3530, UpdtId: 3530 \nId: 3531, UpdtId: 3531 \nId: 3532, UpdtId: 3532 \n"
          ]
        }
      ]
    },
    {
      "cell_type": "code",
      "metadata": {
        "colab": {
          "base_uri": "https://localhost:8080/"
        },
        "id": "XP6aaq1qOvVY",
        "tags": [],
        "outputId": "ea126af8-d952-422b-c5f3-a7678b3fb8b7"
      },
      "source": [
        "for x in list(userID_dict)[5710:][:100]:\n",
        "    print (\"Id: {}, UpdtId: {} \".format(x,  userID_dict[x]))   ##id ==key || updtedid == values "
      ],
      "execution_count": 56,
      "outputs": [
        {
          "output_type": "stream",
          "name": "stdout",
          "text": [
            "Id: 5710, UpdtId: 5710 \nId: 5711, UpdtId: 5711 \nId: 5712, UpdtId: 5712 \nId: 5713, UpdtId: 5713 \nId: 5714, UpdtId: 5714 \nId: 5715, UpdtId: 5715 \nId: 5716, UpdtId: 5716 \nId: 5717, UpdtId: 5717 \nId: 5718, UpdtId: 5718 \nId: 5719, UpdtId: 5719 \nId: 5720, UpdtId: 5720 \nId: 5721, UpdtId: 5721 \nId: 5722, UpdtId: 5722 \nId: 5723, UpdtId: 5723 \nId: 5724, UpdtId: 5724 \nId: 5725, UpdtId: 5725 \nId: 5726, UpdtId: 5726 \nId: 5727, UpdtId: 5727 \nId: 5728, UpdtId: 5728 \nId: 5729, UpdtId: 5729 \nId: 5730, UpdtId: 5730 \nId: 5731, UpdtId: 5731 \nId: 5732, UpdtId: 5732 \nId: 5733, UpdtId: 5733 \nId: 5734, UpdtId: 5734 \nId: 5735, UpdtId: 5735 \nId: 5736, UpdtId: 5736 \nId: 5737, UpdtId: 5737 \nId: 5738, UpdtId: 5738 \nId: 5739, UpdtId: 5739 \nId: 5740, UpdtId: 5740 \nId: 5741, UpdtId: 5741 \nId: 5742, UpdtId: 5742 \nId: 5743, UpdtId: 5743 \nId: 5744, UpdtId: 5744 \nId: 5745, UpdtId: 5745 \nId: 5746, UpdtId: 5746 \nId: 5747, UpdtId: 5747 \nId: 5748, UpdtId: 5748 \nId: 5749, UpdtId: 5749 \nId: 5750, UpdtId: 5750 \nId: 5751, UpdtId: 5751 \nId: 5752, UpdtId: 5752 \nId: 5753, UpdtId: 5753 \nId: 5754, UpdtId: 5754 \nId: 5755, UpdtId: 5755 \nId: 5756, UpdtId: 5756 \nId: 5757, UpdtId: 5757 \nId: 5758, UpdtId: 5758 \nId: 5759, UpdtId: 5759 \nId: 5760, UpdtId: 5760 \nId: 5761, UpdtId: 5761 \nId: 5762, UpdtId: 5762 \nId: 5763, UpdtId: 5763 \nId: 5764, UpdtId: 5764 \nId: 5765, UpdtId: 5765 \nId: 5766, UpdtId: 5766 \nId: 5767, UpdtId: 5767 \nId: 5768, UpdtId: 5768 \nId: 5769, UpdtId: 5769 \nId: 5770, UpdtId: 5770 \nId: 5771, UpdtId: 5771 \nId: 5772, UpdtId: 5772 \nId: 5773, UpdtId: 5773 \nId: 5774, UpdtId: 5774 \nId: 5775, UpdtId: 5775 \nId: 5776, UpdtId: 5776 \nId: 5777, UpdtId: 5777 \nId: 5778, UpdtId: 5778 \nId: 5779, UpdtId: 5779 \nId: 5780, UpdtId: 5780 \nId: 5781, UpdtId: 5781 \nId: 5782, UpdtId: 5782 \nId: 5783, UpdtId: 5783 \nId: 5784, UpdtId: 5784 \nId: 5785, UpdtId: 5785 \nId: 5786, UpdtId: 5786 \nId: 5787, UpdtId: 5787 \nId: 5788, UpdtId: 5788 \nId: 5789, UpdtId: 5789 \nId: 5790, UpdtId: 5790 \nId: 5791, UpdtId: 5791 \nId: 5792, UpdtId: 5792 \nId: 5793, UpdtId: 5793 \nId: 5794, UpdtId: 5794 \nId: 5795, UpdtId: 5795 \nId: 5796, UpdtId: 5796 \nId: 5797, UpdtId: 5797 \nId: 5798, UpdtId: 5798 \nId: 5799, UpdtId: 5799 \nId: 5800, UpdtId: 5800 \nId: 5801, UpdtId: 5801 \nId: 5802, UpdtId: 5802 \nId: 5803, UpdtId: 5803 \nId: 5804, UpdtId: 5804 \nId: 5805, UpdtId: 5805 \nId: 5806, UpdtId: 5806 \nId: 5807, UpdtId: 5807 \nId: 5808, UpdtId: 5808 \nId: 5809, UpdtId: 5809 \n"
          ]
        }
      ]
    },
    {
      "cell_type": "code",
      "metadata": {
        "colab": {
          "base_uri": "https://localhost:8080/"
        },
        "id": "9hrMshBYOvVa",
        "outputId": "980377e4-7a74-47a0-c12d-a8f20749f23f"
      },
      "source": [
        "print(len(U_list),len(V_list))\n",
        "print(U_list[0].shape,V_list[0].shape)\n",
        "print()\n",
        "for u,v in zip(U_list[1:],V_list[1:]):\n",
        "    print(u.shape,v.shape)   "
      ],
      "execution_count": 57,
      "outputs": [
        {
          "output_type": "stream",
          "name": "stdout",
          "text": [
            "11 11\n(5711, 20) (3478, 20)\n\n(5788, 20) (3484, 20)\n(5870, 20) (3489, 20)\n(5974, 20) (3489, 20)\n(6030, 20) (3495, 20)\n(6030, 20) (3500, 20)\n(6031, 20) (3505, 20)\n(6033, 20) (3512, 20)\n(6035, 20) (3521, 20)\n(6036, 20) (3530, 20)\n(6038, 20) (3533, 20)\n"
          ]
        }
      ]
    },
    {
      "cell_type": "code",
      "metadata": {
        "colab": {
          "base_uri": "https://localhost:8080/"
        },
        "id": "xOQC6r84_ju1",
        "outputId": "687e7c0a-2ca0-4667-bb8e-9f86de99ffc6"
      },
      "source": [
        "for i,j in zip(AllUpdtUSERS_,AllUpdtITEMS_):\n",
        "    print(len(i),len(j))"
      ],
      "execution_count": 58,
      "outputs": [
        {
          "output_type": "stream",
          "name": "stdout",
          "text": [
            "5788 3484\n5870 3489\n5974 3489\n6030 3495\n6030 3500\n6031 3505\n6033 3512\n6035 3521\n6036 3530\n6038 3533\n"
          ]
        }
      ]
    },
    {
      "cell_type": "code",
      "metadata": {
        "colab": {
          "base_uri": "https://localhost:8080/"
        },
        "id": "AMjo4AbxOvVc",
        "outputId": "553f733f-70f8-451f-84f4-ed7c5da4420d"
      },
      "source": [
        "print(len(In_DomainUSERS),len(In_DomainITEMS))\n",
        "print(ML1M_DF['userId'].nunique(),ML1M_DF['productId'].nunique())"
      ],
      "execution_count": 59,
      "outputs": [
        {
          "output_type": "stream",
          "name": "stdout",
          "text": [
            "6038 3533\n6038 3533\n"
          ]
        }
      ]
    },
    {
      "cell_type": "markdown",
      "metadata": {
        "id": "nNpsng5z8doR"
      },
      "source": [
        "Data Adjustments"
      ]
    },
    {
      "cell_type": "markdown",
      "metadata": {
        "id": "U8YcpbXKpAMG"
      },
      "source": [
        "### Data Adjustment"
      ]
    },
    {
      "cell_type": "code",
      "metadata": {
        "id": "beVvlDTN8NFx",
        "colab": {
          "base_uri": "https://localhost:8080/"
        },
        "outputId": "8f5e802e-bb84-4e7f-a17c-46262f72a431"
      },
      "source": [
        "len(AllUpdtITEMS_)"
      ],
      "execution_count": 60,
      "outputs": [
        {
          "output_type": "execute_result",
          "data": {
            "text/plain": [
              "10"
            ]
          },
          "metadata": {},
          "execution_count": 60
        }
      ]
    },
    {
      "cell_type": "code",
      "metadata": {
        "id": "DDU62aYf8NF0",
        "colab": {
          "base_uri": "https://localhost:8080/"
        },
        "outputId": "ddad99b4-3954-4aab-a9f2-b9794918e868"
      },
      "source": [
        "newHOLDOUT_LIST = get_NEWHoldout(HOLDOUT_list,userID_dict,itemID_dict,AllUpdtUSERS_,AllUpdtITEMS_,'userId','productId')\n",
        "print(len(newHOLDOUT_LIST))\n",
        "print()\n",
        "for old,new in zip(HOLDOUT_list,newHOLDOUT_LIST):\n",
        "    print(old.shape[0],new.shape[0])"
      ],
      "execution_count": 61,
      "outputs": [
        {
          "output_type": "stream",
          "name": "stderr",
          "text": [
            "10it [00:00, 118.81it/s]10\n",
            "\n",
            "233 233\n",
            "255 255\n",
            "286 286\n",
            "309 309\n",
            "468 468\n",
            "526 526\n",
            "517 517\n",
            "470 470\n",
            "453 453\n",
            "362 362\n",
            "\n"
          ]
        }
      ]
    },
    {
      "cell_type": "code",
      "metadata": {
        "id": "oqs2gnUq8NF1",
        "colab": {
          "base_uri": "https://localhost:8080/"
        },
        "outputId": "605d3c8a-2b69-4321-e4a8-2dbab62571aa"
      },
      "source": [
        "newUserItem_list = adjustedAllDF(UserItemDF_list,userID_dict,itemID_dict,AllUpdtUSERS_,AllUpdtITEMS_,'userId','productId')\n",
        "print()\n",
        "for df in newUserItem_list:\n",
        "    print(df['Updated_UserID'].max(),df['Updated_ItemID'].max())"
      ],
      "execution_count": 62,
      "outputs": [
        {
          "output_type": "stream",
          "name": "stderr",
          "text": [
            "10it [00:06,  1.49it/s]\n",
            "5787 3483\n",
            "5869 3488\n",
            "5973 3488\n",
            "6029 3494\n",
            "6029 3498\n",
            "6030 3504\n",
            "6032 3509\n",
            "6034 3520\n",
            "6035 3529\n",
            "6037 3531\n",
            "\n"
          ]
        }
      ]
    },
    {
      "cell_type": "code",
      "execution_count": 43,
      "metadata": {},
      "outputs": [],
      "source": []
    },
    {
      "cell_type": "code",
      "metadata": {
        "id": "FHJylUYj8NF3",
        "colab": {
          "base_uri": "https://localhost:8080/"
        },
        "outputId": "c521557e-78b4-4f18-d96d-23d044a334d4"
      },
      "source": [
        "new_PSIDFlist = adjustedPSI_DF(PSITest_list,userID_dict,itemID_dict,AllUpdtUSERS_,AllUpdtITEMS_,'userId','productId')\n",
        "for old,new in zip(PSITest_list,new_PSIDFlist):\n",
        "    print(old.shape[0],new.shape[0])"
      ],
      "execution_count": 63,
      "outputs": [
        {
          "output_type": "stream",
          "name": "stderr",
          "text": [
            "10it [00:00, 49.88it/s]8267 8267\n",
            "8245 8245\n",
            "8214 8214\n",
            "8191 8191\n",
            "8032 8032\n",
            "7974 7974\n",
            "7983 7983\n",
            "8030 8030\n",
            "8047 8047\n",
            "6352 6352\n",
            "\n"
          ]
        }
      ]
    },
    {
      "cell_type": "code",
      "metadata": {
        "id": "injTPfoD8NF3",
        "colab": {
          "base_uri": "https://localhost:8080/"
        },
        "outputId": "bce70823-2c33-4a4c-ebd0-cf7a9776f461"
      },
      "source": [
        "newMLDF_1M = ADJUST_mainDF(ML1M_DF,userID_dict,itemID_dict,AllUpdtUSERS_,AllUpdtITEMS_,'userId','productId')\n",
        "print(newMLDF_1M.shape)\n",
        "print(newMLDF_1M['userId'].max(),newMLDF_1M['productId'].max())\n",
        "print(newMLDF_1M['userId'].nunique(),newMLDF_1M['productId'].nunique())\n",
        "print()\n",
        "print(newMLDF_1M['Updated_UserID'].max(),newMLDF_1M['Updated_ItemID'].max())\n",
        "print(newMLDF_1M['Updated_UserID'].nunique(),newMLDF_1M['Updated_ItemID'].nunique())\n",
        "#newAMZB_DF.head()"
      ],
      "execution_count": 46,
      "outputs": [
        {
          "output_type": "stream",
          "name": "stdout",
          "text": [
            "(575281, 9)\n6037 3532\n6038 3533\n\n6037 3532\n6038 3533\n"
          ]
        }
      ]
    },
    {
      "cell_type": "code",
      "metadata": {
        "id": "cB4Q1VO18NF5"
      },
      "source": [
        "#Hello2021"
      ],
      "execution_count": null,
      "outputs": []
    },
    {
      "cell_type": "code",
      "metadata": {
        "id": "rvb8bp_j8NF5"
      },
      "source": [
        "with open('MLDF1M_newUserItem.pkl', 'wb') as f:\n",
        "     pickle.dump(newUserItem_list, f)\n",
        "\n",
        "with open('MLDF1M_newHoldout.pkl', 'wb') as f:\n",
        "     pickle.dump(newHOLDOUT_LIST, f)\n",
        "\n",
        "with open('MLDF1M_newPSITest.pkl', 'wb') as f:\n",
        "     pickle.dump(new_PSIDFlist, f)     "
      ],
      "execution_count": 48,
      "outputs": []
    },
    {
      "cell_type": "code",
      "metadata": {
        "id": "XjluqAp68NF6"
      },
      "source": [
        "newMLDF_1M.to_csv('MLDF1M_afterUpdt.csv.zip',index=False,compression='zip')"
      ],
      "execution_count": 49,
      "outputs": []
    },
    {
      "cell_type": "code",
      "metadata": {
        "id": "bfFHg8h0QiVE"
      },
      "source": [],
      "execution_count": null,
      "outputs": []
    },
    {
      "cell_type": "markdown",
      "metadata": {
        "id": "J_bFpV2cKCuA"
      },
      "source": [
        "### Get UserItem MAT"
      ]
    },
    {
      "cell_type": "code",
      "metadata": {
        "id": "l9uf6prp8NF-",
        "colab": {
          "base_uri": "https://localhost:8080/"
        },
        "outputId": "3028691f-cba4-45bc-acee-806e5dc8f90a"
      },
      "source": [
        "for i in range(10):\n",
        "    print(newUserItem_list[i]['Updated_UserID'].max(),newUserItem_list[i]['Updated_ItemID'].max())"
      ],
      "execution_count": 50,
      "outputs": [
        {
          "output_type": "stream",
          "name": "stdout",
          "text": [
            "5787 3483\n5869 3488\n5973 3488\n6029 3494\n6029 3498\n6030 3504\n6032 3509\n6034 3520\n6035 3529\n6037 3531\n"
          ]
        }
      ]
    },
    {
      "cell_type": "code",
      "metadata": {
        "colab": {
          "base_uri": "https://localhost:8080/"
        },
        "id": "bA6bmr-CKCuD",
        "outputId": "43496cd7-6b4e-4e5a-f22b-10d46c92df04"
      },
      "source": [
        "print(len(U_list[1:]),len(V_list[1:]))\n",
        "for u,v in zip(U_list[1:],V_list[1:]):\n",
        "    print(u.shape[0],v.shape[0])   "
      ],
      "execution_count": 64,
      "outputs": [
        {
          "output_type": "stream",
          "name": "stdout",
          "text": [
            "10 10\n5788 3484\n5870 3489\n5974 3489\n6030 3495\n6030 3500\n6031 3505\n6033 3512\n6035 3521\n6036 3530\n6038 3533\n"
          ]
        }
      ]
    },
    {
      "cell_type": "code",
      "metadata": {
        "colab": {
          "base_uri": "https://localhost:8080/"
        },
        "id": "N1FI-D8uKCuG",
        "outputId": "5d1600df-8cfa-462e-cf4d-c97817585079"
      },
      "source": [
        "#UserItem_Matupdt = All_SingleStepRatMat(newUserItem_list,'Updated_UserID','Updated_ItemID')\n",
        "UserItem_Matupdt = AllSingleStepRatMat_2(newUserItem_list,V_list[1:],'Updated_UserID','Updated_ItemID')\n",
        "print(len(UserItem_Matupdt))\n",
        "UserItem_Matupdt"
      ],
      "execution_count": 69,
      "outputs": [
        {
          "output_type": "stream",
          "name": "stdout",
          "text": [
            "10\n"
          ]
        },
        {
          "output_type": "execute_result",
          "data": {
            "text/plain": [
              "[<5788x3484 sparse matrix of type '<class 'numpy.float64'>'\n",
              " \twith 500332 stored elements in Compressed Sparse Row format>,\n",
              " <5870x3489 sparse matrix of type '<class 'numpy.float64'>'\n",
              " \twith 508812 stored elements in Compressed Sparse Row format>,\n",
              " <5974x3489 sparse matrix of type '<class 'numpy.float64'>'\n",
              " \twith 517278 stored elements in Compressed Sparse Row format>,\n",
              " <6030x3495 sparse matrix of type '<class 'numpy.float64'>'\n",
              " \twith 525757 stored elements in Compressed Sparse Row format>,\n",
              " <6030x3500 sparse matrix of type '<class 'numpy.float64'>'\n",
              " \twith 534098 stored elements in Compressed Sparse Row format>,\n",
              " <6031x3505 sparse matrix of type '<class 'numpy.float64'>'\n",
              " \twith 542538 stored elements in Compressed Sparse Row format>,\n",
              " <6033x3512 sparse matrix of type '<class 'numpy.float64'>'\n",
              " \twith 551048 stored elements in Compressed Sparse Row format>,\n",
              " <6035x3521 sparse matrix of type '<class 'numpy.float64'>'\n",
              " \twith 559597 stored elements in Compressed Sparse Row format>,\n",
              " <6036x3530 sparse matrix of type '<class 'numpy.float64'>'\n",
              " \twith 568114 stored elements in Compressed Sparse Row format>,\n",
              " <6038x3533 sparse matrix of type '<class 'numpy.float64'>'\n",
              " \twith 574919 stored elements in Compressed Sparse Row format>]"
            ]
          },
          "metadata": {},
          "execution_count": 69
        }
      ]
    },
    {
      "cell_type": "code",
      "metadata": {
        "colab": {
          "base_uri": "https://localhost:8080/"
        },
        "id": "kRkFwCd8KCuE",
        "outputId": "12084721-5223-489d-af82-70e647f55c90"
      },
      "source": [
        "# print(AllDF_start['userId'].nunique(),AllDF_start['productId'].nunique())\n",
        "# print()\n",
        "# for i,j in zip(AllUpdtUSERS_,AllUpdtITEMS_):\n",
        "#     print(len(i),len(j))"
      ],
      "execution_count": 53,
      "outputs": []
    },
    {
      "cell_type": "markdown",
      "metadata": {
        "id": "-FWZcWCDzJ-i"
      },
      "source": [
        "### V_list"
      ]
    },
    {
      "cell_type": "code",
      "metadata": {
        "colab": {
          "base_uri": "https://localhost:8080/"
        },
        "id": "NrcfgZCCzPPu",
        "outputId": "1a2cbc17-cb12-4d3b-d166-271fcfadcffc"
      },
      "source": [
        "print(len(UserItem_Matupdt),len(newHOLDOUT_LIST))"
      ],
      "execution_count": 70,
      "outputs": [
        {
          "output_type": "stream",
          "name": "stdout",
          "text": [
            "10 10\n"
          ]
        }
      ]
    },
    {
      "cell_type": "code",
      "metadata": {
        "colab": {
          "base_uri": "https://localhost:8080/"
        },
        "id": "RguT3Utr0iLy",
        "outputId": "56a7d213-bb0d-4807-cd0d-009f8386ac51"
      },
      "source": [
        "Vpsi_listUpdt = V_list[1:]\n",
        "for v in Vpsi_listUpdt:\n",
        "    print(v.shape)"
      ],
      "execution_count": 71,
      "outputs": [
        {
          "output_type": "stream",
          "name": "stdout",
          "text": [
            "(3484, 20)\n(3489, 20)\n(3489, 20)\n(3495, 20)\n(3500, 20)\n(3505, 20)\n(3512, 20)\n(3521, 20)\n(3530, 20)\n(3533, 20)\n"
          ]
        }
      ]
    },
    {
      "cell_type": "code",
      "metadata": {
        "colab": {
          "base_uri": "https://localhost:8080/"
        },
        "id": "py9S9LGoKamJ",
        "outputId": "e9121055-f7a1-45a3-a859-e0cb353a1776"
      },
      "source": [
        "V_1 = Vpsi_listUpdt[0]\n",
        "V_1.shape"
      ],
      "execution_count": 72,
      "outputs": [
        {
          "output_type": "execute_result",
          "data": {
            "text/plain": [
              "(3484, 20)"
            ]
          },
          "metadata": {},
          "execution_count": 72
        }
      ]
    },
    {
      "cell_type": "code",
      "metadata": {
        "id": "N1Vc6Na38NGR"
      },
      "source": [],
      "execution_count": null,
      "outputs": []
    },
    {
      "cell_type": "markdown",
      "metadata": {
        "id": "M1ro3DThmGq2"
      },
      "source": [
        "### All Prediction"
      ]
    },
    {
      "cell_type": "code",
      "metadata": {
        "id": "Mylf5NR98NGR",
        "outputId": "b0e7a61d-3c24-48e5-f59a-3db3bebc0940"
      },
      "source": [
        "print(UserItem_Matupdt[0].shape)\n",
        "UserItem_Matupdt[0]"
      ],
      "execution_count": 73,
      "outputs": [
        {
          "output_type": "stream",
          "name": "stdout",
          "text": [
            "(5788, 3484)\n"
          ]
        },
        {
          "output_type": "execute_result",
          "data": {
            "text/plain": [
              "<5788x3484 sparse matrix of type '<class 'numpy.float64'>'\n",
              "\twith 500332 stored elements in Compressed Sparse Row format>"
            ]
          },
          "metadata": {},
          "execution_count": 73
        }
      ]
    },
    {
      "cell_type": "code",
      "execution_count": 74,
      "metadata": {},
      "outputs": [],
      "source": [
        "# for i,j,k in zip(UserItem_Matupdt,Vpsi_listUpdt,newUserItem_list):\n",
        "#     print(i.shape[1],j.shape[0],k['Updated_ItemID'].max())"
      ]
    },
    {
      "cell_type": "code",
      "metadata": {
        "id": "H3qyz8eO8NGS",
        "outputId": "2cb6f173-b4e9-4d94-e313-a3dd3a437044"
      },
      "source": [
        "AllUsers_updtPRED =  TQDMgetALLTopNPred_ALLUSERS(UserItem_Matupdt,Vpsi_listUpdt, N=10) \n",
        "print(len(AllUsers_updtPRED))\n",
        "AllUsers_updtPRED[:2]"
      ],
      "execution_count": 75,
      "outputs": [
        {
          "output_type": "stream",
          "name": "stderr",
          "text": [
            "10it [00:04,  2.49it/s]10\n",
            "\n"
          ]
        },
        {
          "output_type": "execute_result",
          "data": {
            "text/plain": [
              "[array([[ 136,  138,  142, ...,  858,  256,  131],\n",
              "        [ 140,  563,  398, ...,  412,  134,  365],\n",
              "        [  62,  413,   59, ...,  695,   50,  219],\n",
              "        ...,\n",
              "        [  59,   57,  566, ...,  156,  576,  184],\n",
              "        [ 271,  413,  156, ...,  254,  818, 1238],\n",
              "        [  87,  223,  292, ...,  848,  262,  461]]),\n",
              " array([[136, 138, 142, ..., 858, 256, 131],\n",
              "        [140, 563, 398, ..., 412, 134, 365],\n",
              "        [ 62, 413,  59, ..., 695,  50, 219],\n",
              "        ...,\n",
              "        [261, 644, 647, ..., 254, 549, 272],\n",
              "        [138, 137,   0, ..., 317, 136,  89],\n",
              "        [ 91,  40, 223, ..., 254,  73, 156]])]"
            ]
          },
          "metadata": {},
          "execution_count": 75
        }
      ]
    },
    {
      "cell_type": "code",
      "metadata": {
        "id": "3GtRYa2z8NGT",
        "outputId": "644b11fe-8b52-4f43-be68-645e8bc482e3"
      },
      "source": [
        "AllUsers_updtPRED[-1].shape"
      ],
      "execution_count": 76,
      "outputs": [
        {
          "output_type": "execute_result",
          "data": {
            "text/plain": [
              "(6038, 10)"
            ]
          },
          "metadata": {},
          "execution_count": 76
        }
      ]
    },
    {
      "cell_type": "code",
      "metadata": {
        "id": "ayCKyzF98NGT"
      },
      "source": [
        "with open('/mnt/bulky/oolaleke/TDM_Dataset/ML_1M/MLDF1M_UpdtPSI_allPRED.pkl', 'wb') as f:\n",
        "     pickle.dump(AllUsers_updtPRED, f)\n"
      ],
      "execution_count": 83,
      "outputs": []
    },
    {
      "cell_type": "code",
      "metadata": {
        "id": "DuzCtDJ08NGU"
      },
      "source": [
        "# with open('/mnt/bulky/oolaleke/TDM_Dataset/AMZB_UpdtPSI_AllPRED.pkl', 'rb') as f:\n",
        "#      allpred_updt = pickle.load(f)\n",
        "# print(len(allpred_updt))\n",
        "# allpred_updt[:2]"
      ],
      "execution_count": null,
      "outputs": []
    },
    {
      "cell_type": "code",
      "metadata": {
        "id": "NHM6hJEV8NGa"
      },
      "source": [
        "# ##lOAD Saved Lists...\n",
        "# with open('/mnt/bulky/oolaleke/TDM_Dataset/AMZB_newUserItem.pkl', 'rb') as f:\n",
        "#      newUserItem_LIST = pickle.load(f)\n",
        "\n",
        "# with open('/mnt/bulky/oolaleke/TDM_Dataset/AMZB_newPSITest.pkl', 'rb') as f:\n",
        "#      newPSIDF_LIST = pickle.load(f)\n",
        "\n",
        "\n",
        "# with open('/mnt/bulky/oolaleke/TDM_Dataset/AMZB_newHoldout.pkl', 'rb') as f:\n",
        "#      newHOLDOUTDF_LIST = pickle.load(f)\n",
        "\n",
        "# #newAMZB_DF = pd.read_csv()"
      ],
      "execution_count": null,
      "outputs": []
    },
    {
      "cell_type": "markdown",
      "metadata": {
        "id": "dlm-q9ms_BWw"
      },
      "source": [
        "## Regular PSI "
      ]
    },
    {
      "cell_type": "markdown",
      "metadata": {
        "id": "uWbLS4cbPI19"
      },
      "source": [
        "### Get Rating Matrices"
      ]
    },
    {
      "cell_type": "code",
      "metadata": {
        "id": "0i3Z3Aay8NGe",
        "outputId": "c4064d1d-a5b5-4365-e677-9de2fc7f9758"
      },
      "source": [
        "print(newMLDF_1M.shape)\n",
        "print(newMLDF_1M['userId'].max(),newMLDF_1M['productId'].max())\n",
        "print(newMLDF_1M['userId'].nunique(),newMLDF_1M['productId'].nunique())\n",
        "print()\n",
        "print(newMLDF_1M['Updated_UserID'].max(),newMLDF_1M['Updated_ItemID'].max())\n",
        "print(newMLDF_1M['Updated_UserID'].nunique(),newMLDF_1M['Updated_ItemID'].nunique())\n",
        "newMLDF_1M.head()"
      ],
      "execution_count": 84,
      "outputs": [
        {
          "output_type": "stream",
          "name": "stdout",
          "text": [
            "(575281, 9)\n6037 3532\n6038 3533\n\n6037 3532\n6038 3533\n"
          ]
        },
        {
          "output_type": "execute_result",
          "data": {
            "text/plain": [
              "   userId_int  movieId_int  rating           timestamp  userId  productId  \\\n",
              "0        6040          858       1 2000-04-25 23:05:32       0          0   \n",
              "1        6040         2384       1 2000-04-25 23:05:54       0          1   \n",
              "2        6040          593       1 2000-04-25 23:05:54       0          2   \n",
              "3        6040         1961       1 2000-04-25 23:06:17       0          3   \n",
              "4        6040         2019       1 2000-04-25 23:06:17       0          4   \n",
              "\n",
              "  timestamp_YM  Updated_UserID  Updated_ItemID  \n",
              "0      2000-04               0               0  \n",
              "1      2000-04               0               1  \n",
              "2      2000-04               0               2  \n",
              "3      2000-04               0               3  \n",
              "4      2000-04               0               4  "
            ],
            "text/html": "<div>\n<style scoped>\n    .dataframe tbody tr th:only-of-type {\n        vertical-align: middle;\n    }\n\n    .dataframe tbody tr th {\n        vertical-align: top;\n    }\n\n    .dataframe thead th {\n        text-align: right;\n    }\n</style>\n<table border=\"1\" class=\"dataframe\">\n  <thead>\n    <tr style=\"text-align: right;\">\n      <th></th>\n      <th>userId_int</th>\n      <th>movieId_int</th>\n      <th>rating</th>\n      <th>timestamp</th>\n      <th>userId</th>\n      <th>productId</th>\n      <th>timestamp_YM</th>\n      <th>Updated_UserID</th>\n      <th>Updated_ItemID</th>\n    </tr>\n  </thead>\n  <tbody>\n    <tr>\n      <th>0</th>\n      <td>6040</td>\n      <td>858</td>\n      <td>1</td>\n      <td>2000-04-25 23:05:32</td>\n      <td>0</td>\n      <td>0</td>\n      <td>2000-04</td>\n      <td>0</td>\n      <td>0</td>\n    </tr>\n    <tr>\n      <th>1</th>\n      <td>6040</td>\n      <td>2384</td>\n      <td>1</td>\n      <td>2000-04-25 23:05:54</td>\n      <td>0</td>\n      <td>1</td>\n      <td>2000-04</td>\n      <td>0</td>\n      <td>1</td>\n    </tr>\n    <tr>\n      <th>2</th>\n      <td>6040</td>\n      <td>593</td>\n      <td>1</td>\n      <td>2000-04-25 23:05:54</td>\n      <td>0</td>\n      <td>2</td>\n      <td>2000-04</td>\n      <td>0</td>\n      <td>2</td>\n    </tr>\n    <tr>\n      <th>3</th>\n      <td>6040</td>\n      <td>1961</td>\n      <td>1</td>\n      <td>2000-04-25 23:06:17</td>\n      <td>0</td>\n      <td>3</td>\n      <td>2000-04</td>\n      <td>0</td>\n      <td>3</td>\n    </tr>\n    <tr>\n      <th>4</th>\n      <td>6040</td>\n      <td>2019</td>\n      <td>1</td>\n      <td>2000-04-25 23:06:17</td>\n      <td>0</td>\n      <td>4</td>\n      <td>2000-04</td>\n      <td>0</td>\n      <td>4</td>\n    </tr>\n  </tbody>\n</table>\n</div>"
          },
          "metadata": {},
          "execution_count": 84
        }
      ]
    },
    {
      "cell_type": "code",
      "metadata": {
        "colab": {
          "base_uri": "https://localhost:8080/"
        },
        "id": "9VaLJAAPRRLc",
        "outputId": "3cb7f9b6-ccb4-4b5a-ef25-66be8380bd80"
      },
      "source": [
        "rows_i = newMLDF_1M['Updated_UserID'].nunique()\n",
        "cols_i = newMLDF_1M['Updated_ItemID'].nunique()\n",
        "print(A0_df.shape)\n",
        "A0_Rating_matrix = SingleRatingMatrix(A0_df,'userId', 'productId',rows_i,cols_i)  ##changes start within steps...\n",
        "A0_Rating_matrix"
      ],
      "execution_count": 85,
      "outputs": [
        {
          "output_type": "stream",
          "name": "stdout",
          "text": [
            "(458067, 7)\n"
          ]
        },
        {
          "output_type": "execute_result",
          "data": {
            "text/plain": [
              "<6038x3533 sparse matrix of type '<class 'numpy.float64'>'\n",
              "\twith 458067 stored elements in Compressed Sparse Row format>"
            ]
          },
          "metadata": {},
          "execution_count": 85
        }
      ]
    },
    {
      "cell_type": "code",
      "metadata": {
        "id": "1deDiBeP8NGg",
        "outputId": "b76bfb65-a52f-490b-c011-f66c0757240b"
      },
      "source": [
        "for df in new_PSIDFlist:\n",
        "    print(df['Updated_UserID'].max(),df['Updated_ItemID'].max())"
      ],
      "execution_count": 86,
      "outputs": [
        {
          "output_type": "stream",
          "name": "stdout",
          "text": [
            "5787 3483\n5869 3488\n5973 3441\n6029 3494\n6029 3498\n6030 3504\n6032 3509\n6034 3520\n6035 3529\n6037 3531\n"
          ]
        }
      ]
    },
    {
      "cell_type": "code",
      "metadata": {
        "colab": {
          "base_uri": "https://localhost:8080/"
        },
        "id": "PJgsMKCpRRMD",
        "outputId": "1b4cc003-3329-4043-de8a-c5f7d5a40e41"
      },
      "source": [
        "print(\"Length of PSI_Train :\",len(ΔA_train))\n",
        "print(\"Length of PSI_Test  :\",len(new_PSIDFlist))"
      ],
      "execution_count": 87,
      "outputs": [
        {
          "output_type": "stream",
          "name": "stdout",
          "text": [
            "Length of PSI_Train : 4\nLength of PSI_Test  : 10\n"
          ]
        }
      ]
    },
    {
      "cell_type": "code",
      "metadata": {
        "colab": {
          "base_uri": "https://localhost:8080/"
        },
        "id": "EBFJoOOvRRME",
        "outputId": "fd8f9149-59dd-40ad-d6c5-572b6df59721"
      },
      "source": [
        "PSI_train_matrix = AllRatingMatrices(ΔA_train,'userId','productId',rows_i ,cols_i)\n",
        "PSI_train_matrix   "
      ],
      "execution_count": 88,
      "outputs": [
        {
          "output_type": "execute_result",
          "data": {
            "text/plain": [
              "[<6038x3533 sparse matrix of type '<class 'numpy.float64'>'\n",
              " \twith 8500 stored elements in Compressed Sparse Row format>,\n",
              " <6038x3533 sparse matrix of type '<class 'numpy.float64'>'\n",
              " \twith 8500 stored elements in Compressed Sparse Row format>,\n",
              " <6038x3533 sparse matrix of type '<class 'numpy.float64'>'\n",
              " \twith 8500 stored elements in Compressed Sparse Row format>,\n",
              " <6038x3533 sparse matrix of type '<class 'numpy.float64'>'\n",
              " \twith 8500 stored elements in Compressed Sparse Row format>]"
            ]
          },
          "metadata": {},
          "execution_count": 88
        }
      ]
    },
    {
      "cell_type": "code",
      "metadata": {
        "id": "8M_ymqxs8NGk",
        "outputId": "0104bf9b-3bdd-4f8b-919c-7be44f27ddcf"
      },
      "source": [
        "PSI_test_matrix = AllRatingMatrices(new_PSIDFlist,'Updated_UserID','Updated_ItemID',rows_i ,cols_i)                                                                      \n",
        "print(len(PSI_test_matrix))\n",
        "PSI_test_matrix"
      ],
      "execution_count": 89,
      "outputs": [
        {
          "output_type": "stream",
          "name": "stdout",
          "text": [
            "10\n"
          ]
        },
        {
          "output_type": "execute_result",
          "data": {
            "text/plain": [
              "[<6038x3533 sparse matrix of type '<class 'numpy.float64'>'\n",
              " \twith 8267 stored elements in Compressed Sparse Row format>,\n",
              " <6038x3533 sparse matrix of type '<class 'numpy.float64'>'\n",
              " \twith 8245 stored elements in Compressed Sparse Row format>,\n",
              " <6038x3533 sparse matrix of type '<class 'numpy.float64'>'\n",
              " \twith 8214 stored elements in Compressed Sparse Row format>,\n",
              " <6038x3533 sparse matrix of type '<class 'numpy.float64'>'\n",
              " \twith 8191 stored elements in Compressed Sparse Row format>,\n",
              " <6038x3533 sparse matrix of type '<class 'numpy.float64'>'\n",
              " \twith 8032 stored elements in Compressed Sparse Row format>,\n",
              " <6038x3533 sparse matrix of type '<class 'numpy.float64'>'\n",
              " \twith 7974 stored elements in Compressed Sparse Row format>,\n",
              " <6038x3533 sparse matrix of type '<class 'numpy.float64'>'\n",
              " \twith 7983 stored elements in Compressed Sparse Row format>,\n",
              " <6038x3533 sparse matrix of type '<class 'numpy.float64'>'\n",
              " \twith 8030 stored elements in Compressed Sparse Row format>,\n",
              " <6038x3533 sparse matrix of type '<class 'numpy.float64'>'\n",
              " \twith 8047 stored elements in Compressed Sparse Row format>,\n",
              " <6038x3533 sparse matrix of type '<class 'numpy.float64'>'\n",
              " \twith 6352 stored elements in Compressed Sparse Row format>]"
            ]
          },
          "metadata": {},
          "execution_count": 89
        }
      ]
    },
    {
      "cell_type": "code",
      "metadata": {
        "id": "1nRNYRwH8NGm",
        "outputId": "385e0297-a621-410c-920d-48a288304ce2"
      },
      "source": [
        "UserItemMAT_regPSI = AllRatingMatrices(newUserItem_list,'Updated_UserID','Updated_ItemID',rows_i ,cols_i) \n",
        "UserItemMAT_regPSI  "
      ],
      "execution_count": 90,
      "outputs": [
        {
          "output_type": "execute_result",
          "data": {
            "text/plain": [
              "[<6038x3533 sparse matrix of type '<class 'numpy.float64'>'\n",
              " \twith 500332 stored elements in Compressed Sparse Row format>,\n",
              " <6038x3533 sparse matrix of type '<class 'numpy.float64'>'\n",
              " \twith 508812 stored elements in Compressed Sparse Row format>,\n",
              " <6038x3533 sparse matrix of type '<class 'numpy.float64'>'\n",
              " \twith 517278 stored elements in Compressed Sparse Row format>,\n",
              " <6038x3533 sparse matrix of type '<class 'numpy.float64'>'\n",
              " \twith 525757 stored elements in Compressed Sparse Row format>,\n",
              " <6038x3533 sparse matrix of type '<class 'numpy.float64'>'\n",
              " \twith 534098 stored elements in Compressed Sparse Row format>,\n",
              " <6038x3533 sparse matrix of type '<class 'numpy.float64'>'\n",
              " \twith 542538 stored elements in Compressed Sparse Row format>,\n",
              " <6038x3533 sparse matrix of type '<class 'numpy.float64'>'\n",
              " \twith 551048 stored elements in Compressed Sparse Row format>,\n",
              " <6038x3533 sparse matrix of type '<class 'numpy.float64'>'\n",
              " \twith 559597 stored elements in Compressed Sparse Row format>,\n",
              " <6038x3533 sparse matrix of type '<class 'numpy.float64'>'\n",
              " \twith 568114 stored elements in Compressed Sparse Row format>,\n",
              " <6038x3533 sparse matrix of type '<class 'numpy.float64'>'\n",
              " \twith 574919 stored elements in Compressed Sparse Row format>]"
            ]
          },
          "metadata": {},
          "execution_count": 90
        }
      ]
    },
    {
      "cell_type": "code",
      "metadata": {
        "colab": {
          "base_uri": "https://localhost:8080/"
        },
        "id": "bZGtyUJPRCff",
        "outputId": "8e7cd4d6-1f3a-42b7-806e-6ebdb96bed2b"
      },
      "source": [
        "# print(AllDF_list[-1]['userId'].nunique(),AllDF_list[-1]['productId'].nunique())\n",
        "# print(AMZB_DF['userId'].nunique(),AMZB_DF['productId'].nunique())"
      ],
      "execution_count": null,
      "outputs": [
        {
          "output_type": "stream",
          "text": [
            "22799 8620\n",
            "22799 8620\n"
          ],
          "name": "stdout"
        }
      ]
    },
    {
      "cell_type": "code",
      "metadata": {
        "colab": {
          "base_uri": "https://localhost:8080/"
        },
        "id": "erGth4eKRRMJ",
        "outputId": "55daf721-ccc9-438f-a637-b77da7712052"
      },
      "source": [
        "Vpsi_listReg =  integratorOnMat(A0_Rating_matrix,PSI_train_matrix,PSI_test_matrix,k=20)  #PSI\n",
        "print(len(Vpsi_listReg))  "
      ],
      "execution_count": 92,
      "outputs": [
        {
          "output_type": "stream",
          "name": "stdout",
          "text": [
            "10\n"
          ]
        }
      ]
    },
    {
      "cell_type": "code",
      "metadata": {
        "id": "-ALFq_slAffr"
      },
      "source": [
        "Vpsi_listReg[0].shape"
      ],
      "execution_count": 93,
      "outputs": [
        {
          "output_type": "execute_result",
          "data": {
            "text/plain": [
              "(3533, 20)"
            ]
          },
          "metadata": {},
          "execution_count": 93
        }
      ]
    },
    {
      "cell_type": "code",
      "execution_count": null,
      "metadata": {},
      "outputs": [],
      "source": []
    },
    {
      "cell_type": "markdown",
      "metadata": {
        "id": "iPIvCmfbnLsl"
      },
      "source": [
        "### All Pred"
      ]
    },
    {
      "cell_type": "code",
      "metadata": {
        "id": "ODBMy0uE8NGv",
        "outputId": "e252c358-d034-4443-f224-92a89b457e56"
      },
      "source": [
        "AllUsersRegPIS_PRED =  TQDMgetALLTopNPred_ALLUSERS(UserItemMAT_regPSI,Vpsi_listReg, N=10) \n",
        "print(len(AllUsersRegPIS_PRED))\n",
        "AllUsersRegPIS_PRED[:2]"
      ],
      "execution_count": 94,
      "outputs": [
        {
          "output_type": "stream",
          "name": "stderr",
          "text": [
            "10it [00:04,  2.29it/s]10\n",
            "\n"
          ]
        },
        {
          "output_type": "execute_result",
          "data": {
            "text/plain": [
              "[array([[ 136,  138,  142, ...,  858,  256,  131],\n",
              "        [ 140,  563,  398, ...,  412,  134,  365],\n",
              "        [  62,  413,   59, ...,  695,   50,  219],\n",
              "        ...,\n",
              "        [1181, 1179, 1182, ..., 1177, 1176, 3532],\n",
              "        [1181, 1179, 1182, ..., 1177, 1176, 3532],\n",
              "        [1181, 1179, 1182, ..., 1177, 1176, 3532]]),\n",
              " array([[ 136,  138,  142, ...,  858,  256,  131],\n",
              "        [ 140,  563,  398, ...,  412,  134,  365],\n",
              "        [  62,   59,  413, ...,  695,   50,  219],\n",
              "        ...,\n",
              "        [1181, 1179, 1182, ..., 1177, 1176, 3532],\n",
              "        [1181, 1179, 1182, ..., 1177, 1176, 3532],\n",
              "        [1181, 1179, 1182, ..., 1177, 1176, 3532]])]"
            ]
          },
          "metadata": {},
          "execution_count": 94
        }
      ]
    },
    {
      "cell_type": "code",
      "metadata": {
        "id": "73btpxdn8NGv"
      },
      "source": [
        "with open('/mnt/bulky/oolaleke/TDM_Dataset/ML_1M/MLDF1M_PSI_allPRED.pkl', 'wb') as f:\n",
        "     pickle.dump(AllUsersRegPIS_PRED, f)\n"
      ],
      "execution_count": 95,
      "outputs": []
    },
    {
      "cell_type": "code",
      "metadata": {
        "id": "rq50242q8NGw",
        "outputId": "708ff346-61f0-45eb-fe4b-54c2e88875d2"
      },
      "source": [
        "AllUsersRegPIS_PRED[2].shape"
      ],
      "execution_count": 96,
      "outputs": [
        {
          "output_type": "execute_result",
          "data": {
            "text/plain": [
              "(6038, 10)"
            ]
          },
          "metadata": {},
          "execution_count": 96
        }
      ]
    },
    {
      "cell_type": "code",
      "metadata": {
        "id": "2USarS-qnYeZ"
      },
      "source": [],
      "execution_count": null,
      "outputs": []
    },
    {
      "cell_type": "code",
      "metadata": {
        "id": "-7YAxpTBnYRT"
      },
      "source": [],
      "execution_count": null,
      "outputs": []
    },
    {
      "cell_type": "markdown",
      "metadata": {
        "id": "PkouMhzgmD-N"
      },
      "source": [
        "## Pure SVD"
      ]
    },
    {
      "cell_type": "markdown",
      "metadata": {
        "id": "IplkHKXjmEAU"
      },
      "source": [
        "### Get Rating Matrices"
      ]
    },
    {
      "cell_type": "code",
      "execution_count": null,
      "metadata": {},
      "outputs": [],
      "source": []
    },
    {
      "cell_type": "code",
      "execution_count": 9,
      "metadata": {},
      "outputs": [
        {
          "output_type": "stream",
          "name": "stdout",
          "text": [
            "(575281, 9)\n"
          ]
        },
        {
          "output_type": "execute_result",
          "data": {
            "text/plain": [
              "   userId_int  movieId_int  rating           timestamp  userId  productId  \\\n",
              "0        6040          858       1 2000-04-25 23:05:32       0          0   \n",
              "1        6040         2384       1 2000-04-25 23:05:54       0          1   \n",
              "2        6040          593       1 2000-04-25 23:05:54       0          2   \n",
              "3        6040         1961       1 2000-04-25 23:06:17       0          3   \n",
              "4        6040         2019       1 2000-04-25 23:06:17       0          4   \n",
              "\n",
              "  timestamp_YM  Updated_UserID  Updated_ItemID  \n",
              "0      2000-04               0               0  \n",
              "1      2000-04               0               1  \n",
              "2      2000-04               0               2  \n",
              "3      2000-04               0               3  \n",
              "4      2000-04               0               4  "
            ],
            "text/html": "<div>\n<style scoped>\n    .dataframe tbody tr th:only-of-type {\n        vertical-align: middle;\n    }\n\n    .dataframe tbody tr th {\n        vertical-align: top;\n    }\n\n    .dataframe thead th {\n        text-align: right;\n    }\n</style>\n<table border=\"1\" class=\"dataframe\">\n  <thead>\n    <tr style=\"text-align: right;\">\n      <th></th>\n      <th>userId_int</th>\n      <th>movieId_int</th>\n      <th>rating</th>\n      <th>timestamp</th>\n      <th>userId</th>\n      <th>productId</th>\n      <th>timestamp_YM</th>\n      <th>Updated_UserID</th>\n      <th>Updated_ItemID</th>\n    </tr>\n  </thead>\n  <tbody>\n    <tr>\n      <th>0</th>\n      <td>6040</td>\n      <td>858</td>\n      <td>1</td>\n      <td>2000-04-25 23:05:32</td>\n      <td>0</td>\n      <td>0</td>\n      <td>2000-04</td>\n      <td>0</td>\n      <td>0</td>\n    </tr>\n    <tr>\n      <th>1</th>\n      <td>6040</td>\n      <td>2384</td>\n      <td>1</td>\n      <td>2000-04-25 23:05:54</td>\n      <td>0</td>\n      <td>1</td>\n      <td>2000-04</td>\n      <td>0</td>\n      <td>1</td>\n    </tr>\n    <tr>\n      <th>2</th>\n      <td>6040</td>\n      <td>593</td>\n      <td>1</td>\n      <td>2000-04-25 23:05:54</td>\n      <td>0</td>\n      <td>2</td>\n      <td>2000-04</td>\n      <td>0</td>\n      <td>2</td>\n    </tr>\n    <tr>\n      <th>3</th>\n      <td>6040</td>\n      <td>1961</td>\n      <td>1</td>\n      <td>2000-04-25 23:06:17</td>\n      <td>0</td>\n      <td>3</td>\n      <td>2000-04</td>\n      <td>0</td>\n      <td>3</td>\n    </tr>\n    <tr>\n      <th>4</th>\n      <td>6040</td>\n      <td>2019</td>\n      <td>1</td>\n      <td>2000-04-25 23:06:17</td>\n      <td>0</td>\n      <td>4</td>\n      <td>2000-04</td>\n      <td>0</td>\n      <td>4</td>\n    </tr>\n  </tbody>\n</table>\n</div>"
          },
          "metadata": {},
          "execution_count": 9
        }
      ],
      "source": [
        "#MOVIElen_1M\n",
        "newMLDF_1M = pd.read_csv('/mnt/bulky/oolaleke/TDM_Dataset/ML_1M/MLDF1M_afterUpdt.csv.zip')\n",
        "newMLDF_1M['timestamp'] = pd.to_datetime(newMLDF_1M['timestamp']) \n",
        "print(newMLDF_1M.shape)   #userId_int\n",
        "newMLDF_1M.head()"
      ]
    },
    {
      "cell_type": "code",
      "execution_count": 10,
      "metadata": {},
      "outputs": [],
      "source": [
        "import pickle\n",
        "\n",
        "with open('/mnt/bulky/oolaleke/TDM_Dataset/ML_1M/MLDF1M_newHoldout.pkl', 'rb') as f:\n",
        "     newHoldout_list = pickle.load(f)     \n",
        "    \n",
        "with open('/mnt/bulky/oolaleke/TDM_Dataset/ML_1M/MLDF1M_newUserItem.pkl', 'rb') as f:\n",
        "     newUserItem_list = pickle.load(f)\n"
      ]
    },
    {
      "cell_type": "code",
      "metadata": {
        "id": "CqfE0PNF8NG1",
        "outputId": "e3b1b61c-4d5b-4913-9d5a-1a9528958c35"
      },
      "source": [
        "rows_i = newMLDF_1M['Updated_UserID'].nunique()\n",
        "cols_i = newMLDF_1M['Updated_ItemID'].nunique()\n",
        "SVD_UserItemMAT = AllRatingMatrices(newUserItem_list,'Updated_UserID','Updated_ItemID',rows_i ,cols_i) ##Same as UserItemMAT_regPSI\n",
        "SVD_UserItemMAT"
      ],
      "execution_count": 11,
      "outputs": [
        {
          "output_type": "execute_result",
          "data": {
            "text/plain": [
              "[<6038x3533 sparse matrix of type '<class 'numpy.float64'>'\n",
              " \twith 500332 stored elements in Compressed Sparse Row format>,\n",
              " <6038x3533 sparse matrix of type '<class 'numpy.float64'>'\n",
              " \twith 508812 stored elements in Compressed Sparse Row format>,\n",
              " <6038x3533 sparse matrix of type '<class 'numpy.float64'>'\n",
              " \twith 517278 stored elements in Compressed Sparse Row format>,\n",
              " <6038x3533 sparse matrix of type '<class 'numpy.float64'>'\n",
              " \twith 525757 stored elements in Compressed Sparse Row format>,\n",
              " <6038x3533 sparse matrix of type '<class 'numpy.float64'>'\n",
              " \twith 534098 stored elements in Compressed Sparse Row format>,\n",
              " <6038x3533 sparse matrix of type '<class 'numpy.float64'>'\n",
              " \twith 542538 stored elements in Compressed Sparse Row format>,\n",
              " <6038x3533 sparse matrix of type '<class 'numpy.float64'>'\n",
              " \twith 551048 stored elements in Compressed Sparse Row format>,\n",
              " <6038x3533 sparse matrix of type '<class 'numpy.float64'>'\n",
              " \twith 559597 stored elements in Compressed Sparse Row format>,\n",
              " <6038x3533 sparse matrix of type '<class 'numpy.float64'>'\n",
              " \twith 568114 stored elements in Compressed Sparse Row format>,\n",
              " <6038x3533 sparse matrix of type '<class 'numpy.float64'>'\n",
              " \twith 574919 stored elements in Compressed Sparse Row format>]"
            ]
          },
          "metadata": {},
          "execution_count": 11
        }
      ]
    },
    {
      "cell_type": "code",
      "execution_count": 13,
      "metadata": {},
      "outputs": [],
      "source": [
        "##Tuning:\n",
        "def SVDoptimalSearch(RatingMat,holdout,user_column,item_column,start,end,increment,N=10):\n",
        "    AllHitrate = []\n",
        "    for rank in tqdm(range(start,end+1,increment)): \n",
        "        Usvd, Ssvd, VTsvd = svds(RatingMat, k=rank)\n",
        "        Vsvd = VTsvd.T\n",
        "        top_k = TopNPred(RatingMat,holdout,Vsvd, user_column, N)\n",
        "        hit_r = Hitrate_Eval(holdout,top_k,user_column,item_column)\n",
        "        AllHitrate.append(hit_r)\n",
        "    return AllHitrate"
      ]
    },
    {
      "cell_type": "code",
      "execution_count": 23,
      "metadata": {},
      "outputs": [
        {
          "output_type": "stream",
          "name": "stderr",
          "text": [
            " 20%|██        | 2/10 [00:00<00:01,  6.29it/s]Number of hits:  15\n",
            "Total Num of users:  233\n",
            "Recommendation HitRate:  0.06437768240343347\n",
            "Number of hits:  17\n",
            "Total Num of users:  233\n",
            "Recommendation HitRate:  0.07296137339055794\n",
            " 30%|███       | 3/10 [00:00<00:01,  5.14it/s]Number of hits:  12\n",
            "Total Num of users:  233\n",
            "Recommendation HitRate:  0.05150214592274678\n",
            " 40%|████      | 4/10 [00:00<00:01,  4.20it/s]Number of hits:  14\n",
            "Total Num of users:  233\n",
            "Recommendation HitRate:  0.060085836909871244\n",
            " 50%|█████     | 5/10 [00:01<00:01,  3.58it/s]Number of hits:  12\n",
            "Total Num of users:  233\n",
            "Recommendation HitRate:  0.05150214592274678\n",
            " 60%|██████    | 6/10 [00:01<00:01,  3.21it/s]Number of hits:  15\n",
            "Total Num of users:  233\n",
            "Recommendation HitRate:  0.06437768240343347\n",
            " 70%|███████   | 7/10 [00:02<00:01,  2.85it/s]Number of hits:  15\n",
            "Total Num of users:  233\n",
            "Recommendation HitRate:  0.06437768240343347\n",
            " 80%|████████  | 8/10 [00:02<00:00,  2.51it/s]Number of hits:  14\n",
            "Total Num of users:  233\n",
            "Recommendation HitRate:  0.060085836909871244\n",
            " 90%|█████████ | 9/10 [00:03<00:00,  2.21it/s]Number of hits:  14\n",
            "Total Num of users:  233\n",
            "Recommendation HitRate:  0.060085836909871244\n",
            "100%|██████████| 10/10 [00:03<00:00,  2.68it/s]Number of hits:  12\n",
            "Total Num of users:  233\n",
            "Recommendation HitRate:  0.05150214592274678\n",
            "\n"
          ]
        }
      ],
      "source": [
        "AllHitrate = SVDoptimalSearch(SVD_UserItemMAT[0],newHoldout_list[0],'Updated_UserID','Updated_ItemID',start=10,end=100,increment=10,N=10)"
      ]
    },
    {
      "cell_type": "code",
      "execution_count": 24,
      "metadata": {},
      "outputs": [
        {
          "output_type": "execute_result",
          "data": {
            "text/plain": [
              "[0.06437768240343347,\n",
              " 0.07296137339055794,\n",
              " 0.05150214592274678,\n",
              " 0.060085836909871244,\n",
              " 0.05150214592274678,\n",
              " 0.06437768240343347,\n",
              " 0.06437768240343347,\n",
              " 0.060085836909871244,\n",
              " 0.060085836909871244,\n",
              " 0.05150214592274678]"
            ]
          },
          "metadata": {},
          "execution_count": 24
        }
      ],
      "source": [
        "AllHitrate"
      ]
    },
    {
      "cell_type": "code",
      "execution_count": 26,
      "metadata": {},
      "outputs": [
        {
          "output_type": "execute_result",
          "data": {
            "text/plain": [
              "[10, 20, 30, 40, 50, 60, 70, 80, 90, 100]"
            ]
          },
          "metadata": {},
          "execution_count": 26
        }
      ],
      "source": [
        "rank_list = list(range(10,101,10))\n",
        "rank_list"
      ]
    },
    {
      "cell_type": "code",
      "execution_count": 27,
      "metadata": {},
      "outputs": [
        {
          "output_type": "execute_result",
          "data": {
            "text/plain": [
              "[<matplotlib.lines.Line2D at 0x7f46284d63d0>]"
            ]
          },
          "metadata": {},
          "execution_count": 27
        },
        {
          "output_type": "display_data",
          "data": {
            "text/plain": "<Figure size 432x288 with 1 Axes>",
            "image/svg+xml": "<?xml version=\"1.0\" encoding=\"utf-8\" standalone=\"no\"?>\n<!DOCTYPE svg PUBLIC \"-//W3C//DTD SVG 1.1//EN\"\n  \"http://www.w3.org/Graphics/SVG/1.1/DTD/svg11.dtd\">\n<svg height=\"248.518125pt\" version=\"1.1\" viewBox=\"0 0 384.828125 248.518125\" width=\"384.828125pt\" xmlns=\"http://www.w3.org/2000/svg\" xmlns:xlink=\"http://www.w3.org/1999/xlink\">\n <metadata>\n  <rdf:RDF xmlns:cc=\"http://creativecommons.org/ns#\" xmlns:dc=\"http://purl.org/dc/elements/1.1/\" xmlns:rdf=\"http://www.w3.org/1999/02/22-rdf-syntax-ns#\">\n   <cc:Work>\n    <dc:type rdf:resource=\"http://purl.org/dc/dcmitype/StillImage\"/>\n    <dc:date>2021-05-18T13:16:01.028907</dc:date>\n    <dc:format>image/svg+xml</dc:format>\n    <dc:creator>\n     <cc:Agent>\n      <dc:title>Matplotlib v3.4.1, https://matplotlib.org/</dc:title>\n     </cc:Agent>\n    </dc:creator>\n   </cc:Work>\n  </rdf:RDF>\n </metadata>\n <defs>\n  <style type=\"text/css\">*{stroke-linecap:butt;stroke-linejoin:round;}</style>\n </defs>\n <g id=\"figure_1\">\n  <g id=\"patch_1\">\n   <path d=\"M 0 248.518125 \nL 384.828125 248.518125 \nL 384.828125 0 \nL 0 0 \nz\n\" style=\"fill:none;\"/>\n  </g>\n  <g id=\"axes_1\">\n   <g id=\"patch_2\">\n    <path d=\"M 42.828125 224.64 \nL 377.628125 224.64 \nL 377.628125 7.2 \nL 42.828125 7.2 \nz\n\" style=\"fill:#ffffff;\"/>\n   </g>\n   <g id=\"matplotlib.axis_1\">\n    <g id=\"xtick_1\">\n     <g id=\"line2d_1\">\n      <defs>\n       <path d=\"M 0 0 \nL 0 3.5 \n\" id=\"mfd83771587\" style=\"stroke:#000000;stroke-width:0.8;\"/>\n      </defs>\n      <g>\n       <use style=\"stroke:#000000;stroke-width:0.8;\" x=\"91.864489\" xlink:href=\"#mfd83771587\" y=\"224.64\"/>\n      </g>\n     </g>\n     <g id=\"text_1\">\n      <!-- 20 -->\n      <g transform=\"translate(85.501989 239.238437)scale(0.1 -0.1)\">\n       <defs>\n        <path d=\"M 1228 531 \nL 3431 531 \nL 3431 0 \nL 469 0 \nL 469 531 \nQ 828 903 1448 1529 \nQ 2069 2156 2228 2338 \nQ 2531 2678 2651 2914 \nQ 2772 3150 2772 3378 \nQ 2772 3750 2511 3984 \nQ 2250 4219 1831 4219 \nQ 1534 4219 1204 4116 \nQ 875 4013 500 3803 \nL 500 4441 \nQ 881 4594 1212 4672 \nQ 1544 4750 1819 4750 \nQ 2544 4750 2975 4387 \nQ 3406 4025 3406 3419 \nQ 3406 3131 3298 2873 \nQ 3191 2616 2906 2266 \nQ 2828 2175 2409 1742 \nQ 1991 1309 1228 531 \nz\n\" id=\"DejaVuSans-32\" transform=\"scale(0.015625)\"/>\n        <path d=\"M 2034 4250 \nQ 1547 4250 1301 3770 \nQ 1056 3291 1056 2328 \nQ 1056 1369 1301 889 \nQ 1547 409 2034 409 \nQ 2525 409 2770 889 \nQ 3016 1369 3016 2328 \nQ 3016 3291 2770 3770 \nQ 2525 4250 2034 4250 \nz\nM 2034 4750 \nQ 2819 4750 3233 4129 \nQ 3647 3509 3647 2328 \nQ 3647 1150 3233 529 \nQ 2819 -91 2034 -91 \nQ 1250 -91 836 529 \nQ 422 1150 422 2328 \nQ 422 3509 836 4129 \nQ 1250 4750 2034 4750 \nz\n\" id=\"DejaVuSans-30\" transform=\"scale(0.015625)\"/>\n       </defs>\n       <use xlink:href=\"#DejaVuSans-32\"/>\n       <use x=\"63.623047\" xlink:href=\"#DejaVuSans-30\"/>\n      </g>\n     </g>\n    </g>\n    <g id=\"xtick_2\">\n     <g id=\"line2d_2\">\n      <g>\n       <use style=\"stroke:#000000;stroke-width:0.8;\" x=\"159.500852\" xlink:href=\"#mfd83771587\" y=\"224.64\"/>\n      </g>\n     </g>\n     <g id=\"text_2\">\n      <!-- 40 -->\n      <g transform=\"translate(153.138352 239.238437)scale(0.1 -0.1)\">\n       <defs>\n        <path d=\"M 2419 4116 \nL 825 1625 \nL 2419 1625 \nL 2419 4116 \nz\nM 2253 4666 \nL 3047 4666 \nL 3047 1625 \nL 3713 1625 \nL 3713 1100 \nL 3047 1100 \nL 3047 0 \nL 2419 0 \nL 2419 1100 \nL 313 1100 \nL 313 1709 \nL 2253 4666 \nz\n\" id=\"DejaVuSans-34\" transform=\"scale(0.015625)\"/>\n       </defs>\n       <use xlink:href=\"#DejaVuSans-34\"/>\n       <use x=\"63.623047\" xlink:href=\"#DejaVuSans-30\"/>\n      </g>\n     </g>\n    </g>\n    <g id=\"xtick_3\">\n     <g id=\"line2d_3\">\n      <g>\n       <use style=\"stroke:#000000;stroke-width:0.8;\" x=\"227.137216\" xlink:href=\"#mfd83771587\" y=\"224.64\"/>\n      </g>\n     </g>\n     <g id=\"text_3\">\n      <!-- 60 -->\n      <g transform=\"translate(220.774716 239.238437)scale(0.1 -0.1)\">\n       <defs>\n        <path d=\"M 2113 2584 \nQ 1688 2584 1439 2293 \nQ 1191 2003 1191 1497 \nQ 1191 994 1439 701 \nQ 1688 409 2113 409 \nQ 2538 409 2786 701 \nQ 3034 994 3034 1497 \nQ 3034 2003 2786 2293 \nQ 2538 2584 2113 2584 \nz\nM 3366 4563 \nL 3366 3988 \nQ 3128 4100 2886 4159 \nQ 2644 4219 2406 4219 \nQ 1781 4219 1451 3797 \nQ 1122 3375 1075 2522 \nQ 1259 2794 1537 2939 \nQ 1816 3084 2150 3084 \nQ 2853 3084 3261 2657 \nQ 3669 2231 3669 1497 \nQ 3669 778 3244 343 \nQ 2819 -91 2113 -91 \nQ 1303 -91 875 529 \nQ 447 1150 447 2328 \nQ 447 3434 972 4092 \nQ 1497 4750 2381 4750 \nQ 2619 4750 2861 4703 \nQ 3103 4656 3366 4563 \nz\n\" id=\"DejaVuSans-36\" transform=\"scale(0.015625)\"/>\n       </defs>\n       <use xlink:href=\"#DejaVuSans-36\"/>\n       <use x=\"63.623047\" xlink:href=\"#DejaVuSans-30\"/>\n      </g>\n     </g>\n    </g>\n    <g id=\"xtick_4\">\n     <g id=\"line2d_4\">\n      <g>\n       <use style=\"stroke:#000000;stroke-width:0.8;\" x=\"294.77358\" xlink:href=\"#mfd83771587\" y=\"224.64\"/>\n      </g>\n     </g>\n     <g id=\"text_4\">\n      <!-- 80 -->\n      <g transform=\"translate(288.41108 239.238437)scale(0.1 -0.1)\">\n       <defs>\n        <path d=\"M 2034 2216 \nQ 1584 2216 1326 1975 \nQ 1069 1734 1069 1313 \nQ 1069 891 1326 650 \nQ 1584 409 2034 409 \nQ 2484 409 2743 651 \nQ 3003 894 3003 1313 \nQ 3003 1734 2745 1975 \nQ 2488 2216 2034 2216 \nz\nM 1403 2484 \nQ 997 2584 770 2862 \nQ 544 3141 544 3541 \nQ 544 4100 942 4425 \nQ 1341 4750 2034 4750 \nQ 2731 4750 3128 4425 \nQ 3525 4100 3525 3541 \nQ 3525 3141 3298 2862 \nQ 3072 2584 2669 2484 \nQ 3125 2378 3379 2068 \nQ 3634 1759 3634 1313 \nQ 3634 634 3220 271 \nQ 2806 -91 2034 -91 \nQ 1263 -91 848 271 \nQ 434 634 434 1313 \nQ 434 1759 690 2068 \nQ 947 2378 1403 2484 \nz\nM 1172 3481 \nQ 1172 3119 1398 2916 \nQ 1625 2713 2034 2713 \nQ 2441 2713 2670 2916 \nQ 2900 3119 2900 3481 \nQ 2900 3844 2670 4047 \nQ 2441 4250 2034 4250 \nQ 1625 4250 1398 4047 \nQ 1172 3844 1172 3481 \nz\n\" id=\"DejaVuSans-38\" transform=\"scale(0.015625)\"/>\n       </defs>\n       <use xlink:href=\"#DejaVuSans-38\"/>\n       <use x=\"63.623047\" xlink:href=\"#DejaVuSans-30\"/>\n      </g>\n     </g>\n    </g>\n    <g id=\"xtick_5\">\n     <g id=\"line2d_5\">\n      <g>\n       <use style=\"stroke:#000000;stroke-width:0.8;\" x=\"362.409943\" xlink:href=\"#mfd83771587\" y=\"224.64\"/>\n      </g>\n     </g>\n     <g id=\"text_5\">\n      <!-- 100 -->\n      <g transform=\"translate(352.866193 239.238437)scale(0.1 -0.1)\">\n       <defs>\n        <path d=\"M 794 531 \nL 1825 531 \nL 1825 4091 \nL 703 3866 \nL 703 4441 \nL 1819 4666 \nL 2450 4666 \nL 2450 531 \nL 3481 531 \nL 3481 0 \nL 794 0 \nL 794 531 \nz\n\" id=\"DejaVuSans-31\" transform=\"scale(0.015625)\"/>\n       </defs>\n       <use xlink:href=\"#DejaVuSans-31\"/>\n       <use x=\"63.623047\" xlink:href=\"#DejaVuSans-30\"/>\n       <use x=\"127.246094\" xlink:href=\"#DejaVuSans-30\"/>\n      </g>\n     </g>\n    </g>\n   </g>\n   <g id=\"matplotlib.axis_2\">\n    <g id=\"ytick_1\">\n     <g id=\"line2d_6\">\n      <defs>\n       <path d=\"M 0 0 \nL -3.5 0 \n\" id=\"m894142e95e\" style=\"stroke:#000000;stroke-width:0.8;\"/>\n      </defs>\n      <g>\n       <use style=\"stroke:#000000;stroke-width:0.8;\" x=\"42.828125\" xlink:href=\"#m894142e95e\" y=\"182.535709\"/>\n      </g>\n     </g>\n     <g id=\"text_6\">\n      <!-- 0.055 -->\n      <g transform=\"translate(7.2 186.334928)scale(0.1 -0.1)\">\n       <defs>\n        <path d=\"M 684 794 \nL 1344 794 \nL 1344 0 \nL 684 0 \nL 684 794 \nz\n\" id=\"DejaVuSans-2e\" transform=\"scale(0.015625)\"/>\n        <path d=\"M 691 4666 \nL 3169 4666 \nL 3169 4134 \nL 1269 4134 \nL 1269 2991 \nQ 1406 3038 1543 3061 \nQ 1681 3084 1819 3084 \nQ 2600 3084 3056 2656 \nQ 3513 2228 3513 1497 \nQ 3513 744 3044 326 \nQ 2575 -91 1722 -91 \nQ 1428 -91 1123 -41 \nQ 819 9 494 109 \nL 494 744 \nQ 775 591 1075 516 \nQ 1375 441 1709 441 \nQ 2250 441 2565 725 \nQ 2881 1009 2881 1497 \nQ 2881 1984 2565 2268 \nQ 2250 2553 1709 2553 \nQ 1456 2553 1204 2497 \nQ 953 2441 691 2322 \nL 691 4666 \nz\n\" id=\"DejaVuSans-35\" transform=\"scale(0.015625)\"/>\n       </defs>\n       <use xlink:href=\"#DejaVuSans-30\"/>\n       <use x=\"63.623047\" xlink:href=\"#DejaVuSans-2e\"/>\n       <use x=\"95.410156\" xlink:href=\"#DejaVuSans-30\"/>\n       <use x=\"159.033203\" xlink:href=\"#DejaVuSans-35\"/>\n       <use x=\"222.65625\" xlink:href=\"#DejaVuSans-35\"/>\n      </g>\n     </g>\n    </g>\n    <g id=\"ytick_2\">\n     <g id=\"line2d_7\">\n      <g>\n       <use style=\"stroke:#000000;stroke-width:0.8;\" x=\"42.828125\" xlink:href=\"#m894142e95e\" y=\"136.477964\"/>\n      </g>\n     </g>\n     <g id=\"text_7\">\n      <!-- 0.060 -->\n      <g transform=\"translate(7.2 140.277182)scale(0.1 -0.1)\">\n       <use xlink:href=\"#DejaVuSans-30\"/>\n       <use x=\"63.623047\" xlink:href=\"#DejaVuSans-2e\"/>\n       <use x=\"95.410156\" xlink:href=\"#DejaVuSans-30\"/>\n       <use x=\"159.033203\" xlink:href=\"#DejaVuSans-36\"/>\n       <use x=\"222.65625\" xlink:href=\"#DejaVuSans-30\"/>\n      </g>\n     </g>\n    </g>\n    <g id=\"ytick_3\">\n     <g id=\"line2d_8\">\n      <g>\n       <use style=\"stroke:#000000;stroke-width:0.8;\" x=\"42.828125\" xlink:href=\"#m894142e95e\" y=\"90.420218\"/>\n      </g>\n     </g>\n     <g id=\"text_8\">\n      <!-- 0.065 -->\n      <g transform=\"translate(7.2 94.219437)scale(0.1 -0.1)\">\n       <use xlink:href=\"#DejaVuSans-30\"/>\n       <use x=\"63.623047\" xlink:href=\"#DejaVuSans-2e\"/>\n       <use x=\"95.410156\" xlink:href=\"#DejaVuSans-30\"/>\n       <use x=\"159.033203\" xlink:href=\"#DejaVuSans-36\"/>\n       <use x=\"222.65625\" xlink:href=\"#DejaVuSans-35\"/>\n      </g>\n     </g>\n    </g>\n    <g id=\"ytick_4\">\n     <g id=\"line2d_9\">\n      <g>\n       <use style=\"stroke:#000000;stroke-width:0.8;\" x=\"42.828125\" xlink:href=\"#m894142e95e\" y=\"44.362473\"/>\n      </g>\n     </g>\n     <g id=\"text_9\">\n      <!-- 0.070 -->\n      <g transform=\"translate(7.2 48.161691)scale(0.1 -0.1)\">\n       <defs>\n        <path d=\"M 525 4666 \nL 3525 4666 \nL 3525 4397 \nL 1831 0 \nL 1172 0 \nL 2766 4134 \nL 525 4134 \nL 525 4666 \nz\n\" id=\"DejaVuSans-37\" transform=\"scale(0.015625)\"/>\n       </defs>\n       <use xlink:href=\"#DejaVuSans-30\"/>\n       <use x=\"63.623047\" xlink:href=\"#DejaVuSans-2e\"/>\n       <use x=\"95.410156\" xlink:href=\"#DejaVuSans-30\"/>\n       <use x=\"159.033203\" xlink:href=\"#DejaVuSans-37\"/>\n       <use x=\"222.65625\" xlink:href=\"#DejaVuSans-30\"/>\n      </g>\n     </g>\n    </g>\n   </g>\n   <g id=\"line2d_10\">\n    <path clip-path=\"url(#pd518a9f579)\" d=\"M 58.046307 96.152727 \nL 91.864489 17.083636 \nL 125.68267 214.756364 \nL 159.500852 135.687273 \nL 193.319034 214.756364 \nL 227.137216 96.152727 \nL 260.955398 96.152727 \nL 294.77358 135.687273 \nL 328.591761 135.687273 \nL 362.409943 214.756364 \n\" style=\"fill:none;stroke:#1f77b4;stroke-linecap:square;stroke-width:1.5;\"/>\n   </g>\n   <g id=\"patch_3\">\n    <path d=\"M 42.828125 224.64 \nL 42.828125 7.2 \n\" style=\"fill:none;stroke:#000000;stroke-linecap:square;stroke-linejoin:miter;stroke-width:0.8;\"/>\n   </g>\n   <g id=\"patch_4\">\n    <path d=\"M 377.628125 224.64 \nL 377.628125 7.2 \n\" style=\"fill:none;stroke:#000000;stroke-linecap:square;stroke-linejoin:miter;stroke-width:0.8;\"/>\n   </g>\n   <g id=\"patch_5\">\n    <path d=\"M 42.828125 224.64 \nL 377.628125 224.64 \n\" style=\"fill:none;stroke:#000000;stroke-linecap:square;stroke-linejoin:miter;stroke-width:0.8;\"/>\n   </g>\n   <g id=\"patch_6\">\n    <path d=\"M 42.828125 7.2 \nL 377.628125 7.2 \n\" style=\"fill:none;stroke:#000000;stroke-linecap:square;stroke-linejoin:miter;stroke-width:0.8;\"/>\n   </g>\n  </g>\n </g>\n <defs>\n  <clipPath id=\"pd518a9f579\">\n   <rect height=\"217.44\" width=\"334.8\" x=\"42.828125\" y=\"7.2\"/>\n  </clipPath>\n </defs>\n</svg>\n",
            "image/png": "[encoded data removed]"
          },
          "metadata": {
            "needs_background": "light"
          }
        }
      ],
      "source": [
        "plt.plot(rank_list,AllHitrate)   ###Max == 80"
      ]
    },
    {
      "cell_type": "code",
      "metadata": {
        "colab": {
          "base_uri": "https://localhost:8080/"
        },
        "id": "qJSJnDKTdogh",
        "outputId": "fe099c50-df55-458f-e6c5-5e4d308d0155"
      },
      "source": [
        "Vsvd_list = pureSVD(SVD_UserItemMAT,k=20)\n",
        "print(len(Vsvd_list))"
      ],
      "execution_count": 97,
      "outputs": [
        {
          "output_type": "stream",
          "name": "stdout",
          "text": [
            "10\n"
          ]
        }
      ]
    },
    {
      "cell_type": "code",
      "metadata": {
        "colab": {
          "base_uri": "https://localhost:8080/"
        },
        "id": "DT9ATyeIdogj",
        "outputId": "9e3ba5db-7a86-4af1-fad5-cf98485e992d"
      },
      "source": [
        "Vsvd_last = Vsvd_list[-1]\n",
        "print(Vsvd_last.shape)\n",
        "Vsvd_last"
      ],
      "execution_count": 98,
      "outputs": [
        {
          "output_type": "stream",
          "name": "stdout",
          "text": [
            "(3533, 20)\n"
          ]
        },
        {
          "output_type": "execute_result",
          "data": {
            "text/plain": [
              "array([[-5.78136534e-02,  1.01859278e-01, -3.09093094e-02, ...,\n",
              "         4.73060697e-02, -5.63458829e-02,  8.96398052e-02],\n",
              "       [-6.20111637e-03,  1.75745786e-02,  7.33128684e-03, ...,\n",
              "        -1.37249409e-02, -1.04115742e-02,  1.42355835e-02],\n",
              "       [ 1.68719523e-02, -2.55868247e-04, -3.86794689e-02, ...,\n",
              "        -7.45063256e-02,  1.87714505e-03,  9.78856070e-02],\n",
              "       ...,\n",
              "       [-4.11195564e-04, -2.88080722e-04,  3.21895136e-04, ...,\n",
              "        -2.58801333e-04,  3.95958426e-04,  9.40604543e-05],\n",
              "       [-2.62450195e-04,  8.68072965e-04,  7.51641417e-04, ...,\n",
              "        -2.59917487e-04,  3.02481953e-04,  7.40757638e-05],\n",
              "       [-1.99385601e-21, -1.12561639e-20,  2.67570451e-21, ...,\n",
              "        -6.68213062e-21,  3.62665612e-21,  7.49341146e-21]])"
            ]
          },
          "metadata": {},
          "execution_count": 98
        }
      ]
    },
    {
      "cell_type": "code",
      "execution_count": null,
      "metadata": {},
      "outputs": [],
      "source": []
    },
    {
      "cell_type": "code",
      "metadata": {
        "id": "3RwA_O_gq7J_"
      },
      "source": [],
      "execution_count": null,
      "outputs": []
    },
    {
      "cell_type": "markdown",
      "metadata": {
        "id": "MOwfp31xq_M8"
      },
      "source": [
        "### SVDAll Pred"
      ]
    },
    {
      "cell_type": "code",
      "metadata": {
        "id": "lZJ2v4048NHA",
        "outputId": "2099c143-4973-4b04-9ae2-d5a7a2f7a672"
      },
      "source": [
        "AllUsersSVD_PRED =  TQDMgetALLTopNPred_ALLUSERS(SVD_UserItemMAT,Vsvd_list, N=10) \n",
        "print(len(AllUsersSVD_PRED))\n",
        "AllUsersSVD_PRED[:2]"
      ],
      "execution_count": 99,
      "outputs": [
        {
          "output_type": "stream",
          "name": "stderr",
          "text": [
            "10it [00:04,  2.17it/s]10\n",
            "\n"
          ]
        },
        {
          "output_type": "execute_result",
          "data": {
            "text/plain": [
              "[array([[ 136,  138,  142, ...,  858,  256,  319],\n",
              "        [ 140,  563,  398, ...,  412,  134,  497],\n",
              "        [  62,   59,  413, ...,   50,  261,  221],\n",
              "        ...,\n",
              "        [1181, 1179, 1182, ..., 1177, 1176, 3532],\n",
              "        [1181, 1179, 1182, ..., 1177, 1176, 3532],\n",
              "        [1181, 1179, 1182, ..., 1177, 1176, 3532]]),\n",
              " array([[ 136,  138,  142, ...,  858,  256,  319],\n",
              "        [ 140,  563,  398, ...,  412,  134,  497],\n",
              "        [  62,   59,  413, ...,   50,  695,  221],\n",
              "        ...,\n",
              "        [1181, 1179, 1182, ..., 1177, 1176, 3532],\n",
              "        [1181, 1179, 1182, ..., 1177, 1176, 3532],\n",
              "        [1181, 1179, 1182, ..., 1177, 1176, 3532]])]"
            ]
          },
          "metadata": {},
          "execution_count": 99
        }
      ]
    },
    {
      "cell_type": "code",
      "metadata": {
        "id": "mAycsmW78NHB"
      },
      "source": [
        "with open('/mnt/bulky/oolaleke/TDM_Dataset/ML_1M/MLDF1M_SVD_allPRED.pkl', 'wb') as f:\n",
        "     pickle.dump(AllUsersSVD_PRED, f)\n"
      ],
      "execution_count": 100,
      "outputs": []
    },
    {
      "cell_type": "code",
      "metadata": {
        "id": "vTuT6e8M5oFM"
      },
      "source": [],
      "execution_count": null,
      "outputs": []
    },
    {
      "cell_type": "markdown",
      "metadata": {
        "id": "GWbQaDzo5pp6"
      },
      "source": [
        "## iALS"
      ]
    },
    {
      "cell_type": "markdown",
      "metadata": {
        "id": "n8B40fi_A0YY"
      },
      "source": [
        "### ALS_Tuning"
      ]
    },
    {
      "cell_type": "code",
      "metadata": {
        "id": "EOo9_0Ry9Zts"
      },
      "source": [
        "# newAMZB_DF = pd.read_csv(\"/mnt/bulky/oolaleke/TDM_Dataset/AMZB_afterUpdt.csv\")\n",
        "# print(newAMZB_DF.shape)\n",
        "# print(newAMZB_DF['userId'].max(),newAMZB_DF['productId'].max())\n",
        "# print(newAMZB_DF['userId'].nunique(),newAMZB_DF['productId'].nunique())\n",
        "# print()\n",
        "# print(newAMZB_DF['Updated_UserID'].max(),newAMZB_DF['Updated_ItemID'].max())\n",
        "# print(newAMZB_DF['Updated_UserID'].nunique(),newAMZB_DF['Updated_ItemID'].nunique())\n",
        "# newAMZB_DF.head()"
      ],
      "execution_count": null,
      "outputs": []
    },
    {
      "cell_type": "code",
      "metadata": {
        "id": "MKnejGU29f-a"
      },
      "source": [
        "rows_i = newMLDF_1M['Updated_UserID'].nunique()\n",
        "cols_i = newMLDF_1M['Updated_ItemID'].nunique()\n",
        "Rating_matrix = SingleRatingMatrix(newUserItem_list[0],'Updated_UserID','Updated_ItemID',rows_i,cols_i)  #changes start within steps...\n",
        "Rating_matrix"
      ],
      "execution_count": 83,
      "outputs": [
        {
          "output_type": "execute_result",
          "data": {
            "text/plain": [
              "<6038x3533 sparse matrix of type '<class 'numpy.float64'>'\n",
              "\twith 500332 stored elements in Compressed Sparse Row format>"
            ]
          },
          "metadata": {},
          "execution_count": 83
        }
      ]
    },
    {
      "cell_type": "code",
      "metadata": {
        "id": "dfLt7GJs9iz5"
      },
      "source": [
        "als_params = dict(alpha = [ 0.001,0.05, 0.1, 0.5, 1, 5, 10, 50, 100],\n",
        "                  regularization = [0.001, 0.005, 0.01, 0.05, 0.1, 0.5, 1, 10],\n",
        "                  rank = list(range(10, 81, 10)),\n",
        "                  iter_array = [10,15,20,25,30])\n",
        "\n",
        "als_param_grid, als_param_names = random_grid(als_params, n=30)\n",
        "print(als_param_names)\n",
        "len(als_param_grid)                 "
      ],
      "execution_count": 84,
      "outputs": [
        {
          "output_type": "stream",
          "name": "stdout",
          "text": [
            "('alpha', 'regularization', 'rank', 'iter_array')\n"
          ]
        },
        {
          "output_type": "execute_result",
          "data": {
            "text/plain": [
              "30"
            ]
          },
          "metadata": {},
          "execution_count": 84
        }
      ]
    },
    {
      "cell_type": "code",
      "metadata": {
        "id": "DU0MGbNx9pjN"
      },
      "source": [
        "for i in range(10):\n",
        "    alpha, reg, rank, iter = list(als_param_grid)[i]  \n",
        "    print(alpha, reg, rank,iter)"
      ],
      "execution_count": 85,
      "outputs": [
        {
          "output_type": "stream",
          "name": "stdout",
          "text": [
            "0.1 0.5 70 25\n0.1 0.5 50 25\n0.1 0.05 80 25\n10 0.5 50 15\n50 0.001 70 25\n50 0.05 20 20\n100 0.05 60 25\n0.1 0.005 70 20\n0.001 1 30 30\n0.1 1 20 15\n"
          ]
        }
      ]
    },
    {
      "cell_type": "code",
      "metadata": {
        "id": "_ccyFbxr9sdg"
      },
      "source": [
        "train_set ,test_set,valid_set = TrainTest(Rating_matrix, pct_mask=0.2)\n",
        "train_set"
      ],
      "execution_count": 86,
      "outputs": [
        {
          "output_type": "execute_result",
          "data": {
            "text/plain": [
              "<6038x3533 sparse matrix of type '<class 'numpy.float64'>'\n",
              "\twith 400265 stored elements in Compressed Sparse Row format>"
            ]
          },
          "metadata": {},
          "execution_count": 86
        }
      ]
    },
    {
      "cell_type": "code",
      "metadata": {
        "id": "1SUGsWOM9vBY"
      },
      "source": [
        "test_set"
      ],
      "execution_count": 87,
      "outputs": [
        {
          "output_type": "execute_result",
          "data": {
            "text/plain": [
              "<6038x3533 sparse matrix of type '<class 'numpy.float64'>'\n",
              "\twith 500332 stored elements in Compressed Sparse Row format>"
            ]
          },
          "metadata": {},
          "execution_count": 87
        }
      ]
    },
    {
      "cell_type": "code",
      "metadata": {
        "id": "AcEgxGZB9xhE"
      },
      "source": [
        "len(valid_set)"
      ],
      "execution_count": 88,
      "outputs": [
        {
          "output_type": "execute_result",
          "data": {
            "text/plain": [
              "5709"
            ]
          },
          "metadata": {},
          "execution_count": 88
        }
      ]
    },
    {
      "cell_type": "code",
      "metadata": {
        "id": "iF3zHFkY90aQ"
      },
      "source": [
        "best_model_Info = tune_ALS(train_set,test_set,valid_set,als_param_grid)"
      ],
      "execution_count": 89,
      "outputs": [
        {
          "output_type": "stream",
          "name": "stderr",
          "text": [
            "  0%|          | 0/30 [00:00<?, ?it/s]"
          ]
        },
        {
          "output_type": "display_data",
          "data": {
            "text/plain": "  0%|          | 0/25 [00:00<?, ?it/s]",
            "application/vnd.jupyter.widget-view+json": {
              "version_major": 2,
              "version_minor": 0,
              "model_id": "fa3b0201d3fe404ba8e625e93cd37509"
            }
          },
          "metadata": {}
        },
        {
          "output_type": "stream",
          "name": "stderr",
          "text": [
            "  3%|▎         | 1/30 [00:18<08:59, 18.61s/it]latent factors= 70 ,regularization = 0.5:, n_iter = 25, alpha = 0.1, AUC= 0.852464\n"
          ]
        },
        {
          "output_type": "display_data",
          "data": {
            "text/plain": "  0%|          | 0/25 [00:00<?, ?it/s]",
            "application/vnd.jupyter.widget-view+json": {
              "version_major": 2,
              "version_minor": 0,
              "model_id": "19aa5591bf2849c79b094564c9254dae"
            }
          },
          "metadata": {}
        },
        {
          "output_type": "stream",
          "name": "stderr",
          "text": [
            "  7%|▋         | 2/30 [00:36<08:24, 18.02s/it]latent factors= 50 ,regularization = 0.5:, n_iter = 25, alpha = 0.1, AUC= 0.847507\n"
          ]
        },
        {
          "output_type": "display_data",
          "data": {
            "text/plain": "  0%|          | 0/25 [00:00<?, ?it/s]",
            "application/vnd.jupyter.widget-view+json": {
              "version_major": 2,
              "version_minor": 0,
              "model_id": "e865f936b7ed4fb895504994685b91c5"
            }
          },
          "metadata": {}
        },
        {
          "output_type": "stream",
          "name": "stderr",
          "text": [
            " 10%|█         | 3/30 [00:55<08:25, 18.71s/it]latent factors= 80 ,regularization = 0.05:, n_iter = 25, alpha = 0.1, AUC= 0.786092\n"
          ]
        },
        {
          "output_type": "display_data",
          "data": {
            "text/plain": "  0%|          | 0/15 [00:00<?, ?it/s]",
            "application/vnd.jupyter.widget-view+json": {
              "version_major": 2,
              "version_minor": 0,
              "model_id": "5667192a13464cdfb94e6345632b8ff4"
            }
          },
          "metadata": {}
        },
        {
          "output_type": "stream",
          "name": "stderr",
          "text": [
            " 13%|█▎        | 4/30 [01:10<07:28, 17.24s/it]latent factors= 50 ,regularization = 0.5:, n_iter = 15, alpha = 10, AUC= 0.924448\n"
          ]
        },
        {
          "output_type": "display_data",
          "data": {
            "text/plain": "  0%|          | 0/25 [00:00<?, ?it/s]",
            "application/vnd.jupyter.widget-view+json": {
              "version_major": 2,
              "version_minor": 0,
              "model_id": "a4dea6ceb4b44aef860b99f6485ab0a0"
            }
          },
          "metadata": {}
        },
        {
          "output_type": "stream",
          "name": "stderr",
          "text": [
            " 17%|█▋        | 5/30 [01:29<07:24, 17.79s/it]latent factors= 70 ,regularization = 0.001:, n_iter = 25, alpha = 50, AUC= 0.911016\n"
          ]
        },
        {
          "output_type": "display_data",
          "data": {
            "text/plain": "  0%|          | 0/20 [00:00<?, ?it/s]",
            "application/vnd.jupyter.widget-view+json": {
              "version_major": 2,
              "version_minor": 0,
              "model_id": "1f889b1949ee4d2796508a42043bc522"
            }
          },
          "metadata": {}
        },
        {
          "output_type": "stream",
          "name": "stderr",
          "text": [
            " 20%|██        | 6/30 [01:44<06:44, 16.85s/it]latent factors= 20 ,regularization = 0.05:, n_iter = 20, alpha = 50, AUC= 0.935555\n"
          ]
        },
        {
          "output_type": "display_data",
          "data": {
            "text/plain": "  0%|          | 0/25 [00:00<?, ?it/s]",
            "application/vnd.jupyter.widget-view+json": {
              "version_major": 2,
              "version_minor": 0,
              "model_id": "9c7a775396a64900b05ab8a8e9a51f52"
            }
          },
          "metadata": {}
        },
        {
          "output_type": "stream",
          "name": "stderr",
          "text": [
            " 23%|██▎       | 7/30 [02:02<06:37, 17.29s/it]latent factors= 60 ,regularization = 0.05:, n_iter = 25, alpha = 100, AUC= 0.915265\n"
          ]
        },
        {
          "output_type": "display_data",
          "data": {
            "text/plain": "  0%|          | 0/20 [00:00<?, ?it/s]",
            "application/vnd.jupyter.widget-view+json": {
              "version_major": 2,
              "version_minor": 0,
              "model_id": "ea6c81a99c384ba496a5a5d3cc39e0bd"
            }
          },
          "metadata": {}
        },
        {
          "output_type": "stream",
          "name": "stderr",
          "text": [
            " 27%|██▋       | 8/30 [02:21<06:30, 17.74s/it]latent factors= 70 ,regularization = 0.005:, n_iter = 20, alpha = 0.1, AUC= 0.79075\n"
          ]
        },
        {
          "output_type": "display_data",
          "data": {
            "text/plain": "  0%|          | 0/30 [00:00<?, ?it/s]",
            "application/vnd.jupyter.widget-view+json": {
              "version_major": 2,
              "version_minor": 0,
              "model_id": "5bf7cc21842d4d6d85366ee922e0dee2"
            }
          },
          "metadata": {}
        },
        {
          "output_type": "stream",
          "name": "stderr",
          "text": [
            " 30%|███       | 9/30 [02:34<05:44, 16.42s/it]latent factors= 30 ,regularization = 1:, n_iter = 30, alpha = 0.001, AUC= 0.551245\n"
          ]
        },
        {
          "output_type": "display_data",
          "data": {
            "text/plain": "  0%|          | 0/15 [00:00<?, ?it/s]",
            "application/vnd.jupyter.widget-view+json": {
              "version_major": 2,
              "version_minor": 0,
              "model_id": "445946e367b04a989405d5199384ec48"
            }
          },
          "metadata": {}
        },
        {
          "output_type": "stream",
          "name": "stderr",
          "text": [
            " 33%|███▎      | 10/30 [02:48<05:10, 15.53s/it]latent factors= 20 ,regularization = 1:, n_iter = 15, alpha = 0.1, AUC= 0.866714\n"
          ]
        },
        {
          "output_type": "display_data",
          "data": {
            "text/plain": "  0%|          | 0/10 [00:00<?, ?it/s]",
            "application/vnd.jupyter.widget-view+json": {
              "version_major": 2,
              "version_minor": 0,
              "model_id": "9d1dbf3fb2164c09b6d224307e311f54"
            }
          },
          "metadata": {}
        },
        {
          "output_type": "stream",
          "name": "stderr",
          "text": [
            " 37%|███▋      | 11/30 [03:02<04:48, 15.19s/it]latent factors= 60 ,regularization = 0.001:, n_iter = 10, alpha = 0.5, AUC= 0.843279\n"
          ]
        },
        {
          "output_type": "display_data",
          "data": {
            "text/plain": "  0%|          | 0/30 [00:00<?, ?it/s]",
            "application/vnd.jupyter.widget-view+json": {
              "version_major": 2,
              "version_minor": 0,
              "model_id": "10b4b35176a449598748a50f41abae51"
            }
          },
          "metadata": {}
        },
        {
          "output_type": "stream",
          "name": "stderr",
          "text": [
            " 40%|████      | 12/30 [03:22<04:56, 16.48s/it]latent factors= 70 ,regularization = 0.5:, n_iter = 30, alpha = 0.1, AUC= 0.853043\n"
          ]
        },
        {
          "output_type": "display_data",
          "data": {
            "text/plain": "  0%|          | 0/20 [00:00<?, ?it/s]",
            "application/vnd.jupyter.widget-view+json": {
              "version_major": 2,
              "version_minor": 0,
              "model_id": "ebfd2ae9c840457294c6d57779a872b8"
            }
          },
          "metadata": {}
        },
        {
          "output_type": "stream",
          "name": "stderr",
          "text": [
            " 43%|████▎     | 13/30 [03:37<04:33, 16.08s/it]latent factors= 80 ,regularization = 0.5:, n_iter = 20, alpha = 0.001, AUC= 0.745172\n"
          ]
        },
        {
          "output_type": "display_data",
          "data": {
            "text/plain": "  0%|          | 0/20 [00:00<?, ?it/s]",
            "application/vnd.jupyter.widget-view+json": {
              "version_major": 2,
              "version_minor": 0,
              "model_id": "717d249a7a854017af0a0a9d3f79eb2e"
            }
          },
          "metadata": {}
        },
        {
          "output_type": "stream",
          "name": "stderr",
          "text": [
            " 47%|████▋     | 14/30 [03:55<04:24, 16.55s/it]latent factors= 30 ,regularization = 0.05:, n_iter = 20, alpha = 10, AUC= 0.932313\n"
          ]
        },
        {
          "output_type": "display_data",
          "data": {
            "text/plain": "  0%|          | 0/30 [00:00<?, ?it/s]",
            "application/vnd.jupyter.widget-view+json": {
              "version_major": 2,
              "version_minor": 0,
              "model_id": "bcf99ad041ce4c0893eb01bde4c22673"
            }
          },
          "metadata": {}
        },
        {
          "output_type": "stream",
          "name": "stderr",
          "text": [
            " 50%|█████     | 15/30 [04:11<04:07, 16.51s/it]latent factors= 10 ,regularization = 0.1:, n_iter = 30, alpha = 0.001, AUC= 0.879993\n"
          ]
        },
        {
          "output_type": "display_data",
          "data": {
            "text/plain": "  0%|          | 0/30 [00:00<?, ?it/s]",
            "application/vnd.jupyter.widget-view+json": {
              "version_major": 2,
              "version_minor": 0,
              "model_id": "bc1168d606a0444f9737b821ed9449eb"
            }
          },
          "metadata": {}
        },
        {
          "output_type": "stream",
          "name": "stderr",
          "text": [
            " 53%|█████▎    | 16/30 [04:23<03:31, 15.09s/it]latent factors= 10 ,regularization = 1:, n_iter = 30, alpha = 0.001, AUC= 0.564142\n"
          ]
        },
        {
          "output_type": "display_data",
          "data": {
            "text/plain": "  0%|          | 0/20 [00:00<?, ?it/s]",
            "application/vnd.jupyter.widget-view+json": {
              "version_major": 2,
              "version_minor": 0,
              "model_id": "d49acf3144fe470a909e01b77ffd9e14"
            }
          },
          "metadata": {}
        },
        {
          "output_type": "stream",
          "name": "stderr",
          "text": [
            " 57%|█████▋    | 17/30 [04:40<03:25, 15.79s/it]latent factors= 80 ,regularization = 0.1:, n_iter = 20, alpha = 100, AUC= 0.906967\n"
          ]
        },
        {
          "output_type": "display_data",
          "data": {
            "text/plain": "  0%|          | 0/30 [00:00<?, ?it/s]",
            "application/vnd.jupyter.widget-view+json": {
              "version_major": 2,
              "version_minor": 0,
              "model_id": "0a2631e821a846d8a35649204cd50328"
            }
          },
          "metadata": {}
        },
        {
          "output_type": "stream",
          "name": "stderr",
          "text": [
            " 60%|██████    | 18/30 [05:04<03:38, 18.19s/it]latent factors= 30 ,regularization = 0.5:, n_iter = 30, alpha = 0.1, AUC= 0.848844\n"
          ]
        },
        {
          "output_type": "display_data",
          "data": {
            "text/plain": "  0%|          | 0/25 [00:00<?, ?it/s]",
            "application/vnd.jupyter.widget-view+json": {
              "version_major": 2,
              "version_minor": 0,
              "model_id": "8da1178c4124473fb46cd363c12aed40"
            }
          },
          "metadata": {}
        },
        {
          "output_type": "stream",
          "name": "stderr",
          "text": [
            " 63%|██████▎   | 19/30 [05:20<03:12, 17.46s/it]latent factors= 20 ,regularization = 0.5:, n_iter = 25, alpha = 50, AUC= 0.93544\n"
          ]
        },
        {
          "output_type": "display_data",
          "data": {
            "text/plain": "  0%|          | 0/15 [00:00<?, ?it/s]",
            "application/vnd.jupyter.widget-view+json": {
              "version_major": 2,
              "version_minor": 0,
              "model_id": "5635bf0675cf4763b603401cfd349c77"
            }
          },
          "metadata": {}
        },
        {
          "output_type": "stream",
          "name": "stderr",
          "text": [
            " 67%|██████▋   | 20/30 [05:35<02:46, 16.68s/it]latent factors= 80 ,regularization = 10:, n_iter = 15, alpha = 0.001, AUC= 0.664822\n"
          ]
        },
        {
          "output_type": "display_data",
          "data": {
            "text/plain": "  0%|          | 0/20 [00:00<?, ?it/s]",
            "application/vnd.jupyter.widget-view+json": {
              "version_major": 2,
              "version_minor": 0,
              "model_id": "0ce98b0579e248ed9fe120eb4212746c"
            }
          },
          "metadata": {}
        },
        {
          "output_type": "stream",
          "name": "stderr",
          "text": [
            " 70%|███████   | 21/30 [05:52<02:33, 17.00s/it]latent factors= 80 ,regularization = 0.05:, n_iter = 20, alpha = 0.5, AUC= 0.827437\n"
          ]
        },
        {
          "output_type": "display_data",
          "data": {
            "text/plain": "  0%|          | 0/10 [00:00<?, ?it/s]",
            "application/vnd.jupyter.widget-view+json": {
              "version_major": 2,
              "version_minor": 0,
              "model_id": "c36e68dd8a0c473db243559c17225755"
            }
          },
          "metadata": {}
        },
        {
          "output_type": "stream",
          "name": "stderr",
          "text": [
            " 73%|███████▎  | 22/30 [06:07<02:11, 16.42s/it]latent factors= 60 ,regularization = 0.001:, n_iter = 10, alpha = 100, AUC= 0.912888\n"
          ]
        },
        {
          "output_type": "display_data",
          "data": {
            "text/plain": "  0%|          | 0/30 [00:00<?, ?it/s]",
            "application/vnd.jupyter.widget-view+json": {
              "version_major": 2,
              "version_minor": 0,
              "model_id": "019dfd64a667475fb7e50858f3b2dd60"
            }
          },
          "metadata": {}
        },
        {
          "output_type": "stream",
          "name": "stderr",
          "text": [
            " 77%|███████▋  | 23/30 [06:24<01:55, 16.46s/it]latent factors= 10 ,regularization = 0.005:, n_iter = 30, alpha = 0.5, AUC= 0.902956\n"
          ]
        },
        {
          "output_type": "display_data",
          "data": {
            "text/plain": "  0%|          | 0/15 [00:00<?, ?it/s]",
            "application/vnd.jupyter.widget-view+json": {
              "version_major": 2,
              "version_minor": 0,
              "model_id": "f11a5fea866740569b76fa6c42299387"
            }
          },
          "metadata": {}
        },
        {
          "output_type": "stream",
          "name": "stderr",
          "text": [
            " 80%|████████  | 24/30 [06:42<01:40, 16.81s/it]latent factors= 80 ,regularization = 10:, n_iter = 15, alpha = 50, AUC= 0.910782\n"
          ]
        },
        {
          "output_type": "display_data",
          "data": {
            "text/plain": "  0%|          | 0/15 [00:00<?, ?it/s]",
            "application/vnd.jupyter.widget-view+json": {
              "version_major": 2,
              "version_minor": 0,
              "model_id": "8df7f92326444972b8d51aab8be5b1f9"
            }
          },
          "metadata": {}
        },
        {
          "output_type": "stream",
          "name": "stderr",
          "text": [
            " 83%|████████▎ | 25/30 [06:54<01:17, 15.59s/it]latent factors= 10 ,regularization = 10:, n_iter = 15, alpha = 10, AUC= 0.930883\n"
          ]
        },
        {
          "output_type": "display_data",
          "data": {
            "text/plain": "  0%|          | 0/25 [00:00<?, ?it/s]",
            "application/vnd.jupyter.widget-view+json": {
              "version_major": 2,
              "version_minor": 0,
              "model_id": "46ddb277a7a6469b80ce5dd93153340c"
            }
          },
          "metadata": {}
        },
        {
          "output_type": "stream",
          "name": "stderr",
          "text": [
            " 87%|████████▋ | 26/30 [07:10<01:02, 15.56s/it]latent factors= 10 ,regularization = 0.1:, n_iter = 25, alpha = 100, AUC= 0.930546\n"
          ]
        },
        {
          "output_type": "display_data",
          "data": {
            "text/plain": "  0%|          | 0/10 [00:00<?, ?it/s]",
            "application/vnd.jupyter.widget-view+json": {
              "version_major": 2,
              "version_minor": 0,
              "model_id": "e2e866966136482db8e650a8363d4286"
            }
          },
          "metadata": {}
        },
        {
          "output_type": "stream",
          "name": "stderr",
          "text": [
            " 90%|█████████ | 27/30 [07:24<00:45, 15.05s/it]latent factors= 20 ,regularization = 0.001:, n_iter = 10, alpha = 50, AUC= 0.934391\n"
          ]
        },
        {
          "output_type": "display_data",
          "data": {
            "text/plain": "  0%|          | 0/20 [00:00<?, ?it/s]",
            "application/vnd.jupyter.widget-view+json": {
              "version_major": 2,
              "version_minor": 0,
              "model_id": "1cc0c8647dd24937b4d1f09c193a307c"
            }
          },
          "metadata": {}
        },
        {
          "output_type": "stream",
          "name": "stderr",
          "text": [
            " 93%|█████████▎| 28/30 [07:39<00:30, 15.15s/it]latent factors= 10 ,regularization = 0.005:, n_iter = 20, alpha = 1, AUC= 0.914837\n"
          ]
        },
        {
          "output_type": "display_data",
          "data": {
            "text/plain": "  0%|          | 0/30 [00:00<?, ?it/s]",
            "application/vnd.jupyter.widget-view+json": {
              "version_major": 2,
              "version_minor": 0,
              "model_id": "3de522ab66b844f0bbf6aa78cbce7c7f"
            }
          },
          "metadata": {}
        },
        {
          "output_type": "stream",
          "name": "stderr",
          "text": [
            " 97%|█████████▋| 29/30 [08:00<00:16, 16.99s/it]latent factors= 80 ,regularization = 0.01:, n_iter = 30, alpha = 50, AUC= 0.907018\n"
          ]
        },
        {
          "output_type": "display_data",
          "data": {
            "text/plain": "  0%|          | 0/20 [00:00<?, ?it/s]",
            "application/vnd.jupyter.widget-view+json": {
              "version_major": 2,
              "version_minor": 0,
              "model_id": "2b479bcbc2524ef182605b8935bbed79"
            }
          },
          "metadata": {}
        },
        {
          "output_type": "stream",
          "name": "stderr",
          "text": [
            "100%|██████████| 30/30 [08:18<00:00, 16.60s/it]latent factors= 60 ,regularization = 0.05:, n_iter = 20, alpha = 50, AUC= 0.919498\n",
            "\n",
            " Best model; latent factors= 20 , regularization = 0.05, n_iter = 20, alpha = 50, AUC = 0.935555\n",
            "\n"
          ]
        }
      ]
    },
    {
      "cell_type": "code",
      "metadata": {
        "id": "_DYBxq1L936w"
      },
      "source": [
        "# latent factors= 20 , regularization = 0.05, n_iter = 20, alpha = 50\n",
        "best_rank, best_reg, best_iter,best_alpha,best_auc,best_model = best_model_Info\n",
        "print('best_rank: ', best_rank)\n",
        "print('best_reg:  ', best_reg)\n",
        "print('best_iter: ', best_iter)\n",
        "print('best_alpha: ', best_alpha)\n",
        "print('best_auc:  ', best_auc)\n",
        "best_model"
      ],
      "execution_count": 90,
      "outputs": [
        {
          "output_type": "stream",
          "name": "stdout",
          "text": [
            "best_rank:  20\nbest_reg:   0.05\nbest_iter:  20\nbest_alpha:  50\nbest_auc:   0.935555\n"
          ]
        },
        {
          "output_type": "execute_result",
          "data": {
            "text/plain": [
              "<implicit.als.AlternatingLeastSquares at 0x7f67a6ca5490>"
            ]
          },
          "metadata": {},
          "execution_count": 90
        }
      ]
    },
    {
      "cell_type": "markdown",
      "metadata": {
        "id": "vjHCbHid5pqD"
      },
      "source": [
        "###RatMat & Updt"
      ]
    },
    {
      "cell_type": "code",
      "metadata": {
        "id": "x5xQk58a5pqG",
        "outputId": "e3b1b61c-4d5b-4913-9d5a-1a9528958c35"
      },
      "source": [
        "rows_i = newMLDF_1M['Updated_UserID'].nunique()\n",
        "cols_i = newMLDF_1M['Updated_ItemID'].nunique()\n",
        "UserItem_RatMAT = AllRatingMatrices(newUserItem_list,'Updated_UserID','Updated_ItemID',rows_i ,cols_i) ##Same as UserItemMAT_regPSI\n",
        "UserItem_RatMAT"
      ],
      "execution_count": 91,
      "outputs": [
        {
          "output_type": "execute_result",
          "data": {
            "text/plain": [
              "[<6038x3533 sparse matrix of type '<class 'numpy.float64'>'\n",
              " \twith 500332 stored elements in Compressed Sparse Row format>,\n",
              " <6038x3533 sparse matrix of type '<class 'numpy.float64'>'\n",
              " \twith 508812 stored elements in Compressed Sparse Row format>,\n",
              " <6038x3533 sparse matrix of type '<class 'numpy.float64'>'\n",
              " \twith 517278 stored elements in Compressed Sparse Row format>,\n",
              " <6038x3533 sparse matrix of type '<class 'numpy.float64'>'\n",
              " \twith 525757 stored elements in Compressed Sparse Row format>,\n",
              " <6038x3533 sparse matrix of type '<class 'numpy.float64'>'\n",
              " \twith 534098 stored elements in Compressed Sparse Row format>,\n",
              " <6038x3533 sparse matrix of type '<class 'numpy.float64'>'\n",
              " \twith 542538 stored elements in Compressed Sparse Row format>,\n",
              " <6038x3533 sparse matrix of type '<class 'numpy.float64'>'\n",
              " \twith 551048 stored elements in Compressed Sparse Row format>,\n",
              " <6038x3533 sparse matrix of type '<class 'numpy.float64'>'\n",
              " \twith 559597 stored elements in Compressed Sparse Row format>,\n",
              " <6038x3533 sparse matrix of type '<class 'numpy.float64'>'\n",
              " \twith 568114 stored elements in Compressed Sparse Row format>,\n",
              " <6038x3533 sparse matrix of type '<class 'numpy.float64'>'\n",
              " \twith 574919 stored elements in Compressed Sparse Row format>]"
            ]
          },
          "metadata": {},
          "execution_count": 91
        }
      ]
    },
    {
      "cell_type": "code",
      "metadata": {
        "id": "-AQfKIXEtTlC"
      },
      "source": [],
      "execution_count": null,
      "outputs": []
    },
    {
      "cell_type": "code",
      "metadata": {
        "colab": {
          "base_uri": "https://localhost:8080/"
        },
        "id": "JQrN9_fh5pqL",
        "outputId": "fe099c50-df55-458f-e6c5-5e4d308d0155"
      },
      "source": [
        "nuser_list = []\n",
        "nItem_list = []\n",
        "for df in  newUserItem_list:\n",
        "    nuser_list.append(df['Updated_UserID'].max()+1)\n",
        "    nItem_list.append(df['Updated_ItemID'].max()+1)\n",
        "\n",
        "nuser_list = [0] + nuser_list  \n",
        "nItem_list = [0] + nItem_list  \n",
        "\n",
        "print(nuser_list)\n",
        "print(nItem_list) "
      ],
      "execution_count": 92,
      "outputs": [
        {
          "output_type": "stream",
          "name": "stdout",
          "text": [
            "[0, 5788, 5870, 5974, 6030, 6030, 6031, 6033, 6035, 6036, 6038]\n[0, 3484, 3489, 3489, 3495, 3499, 3505, 3510, 3521, 3530, 3532]\n"
          ]
        }
      ]
    },
    {
      "cell_type": "code",
      "metadata": {
        "colab": {
          "base_uri": "https://localhost:8080/"
        },
        "id": "MwTOl3Zw5pqN",
        "outputId": "9e3ba5db-7a86-4af1-fad5-cf98485e992d"
      },
      "source": [
        "## latent factors= 20 , regularization = 0.05, n_iter = 20, alpha = 50\n",
        "Ulist_als,Vlist_als = alternating_least_squares_cg(UserItem_RatMAT[-1],nuser_list,nItem_list,factors=20,alpha=50,reglr=0.05,iter=20)\n",
        "print(len(Ulist_als))  \n",
        "Ulist_als[:2]"
      ],
      "execution_count": 93,
      "outputs": [
        {
          "output_type": "stream",
          "name": "stderr",
          "text": [
            "10it [09:16, 55.63s/it]10\n",
            "\n"
          ]
        },
        {
          "output_type": "execute_result",
          "data": {
            "text/plain": [
              "[array([[10.75578499, -0.88828345, -1.92666343, ...,  9.1609629 ,\n",
              "          5.98881225,  3.80574421],\n",
              "        [10.71394831,  6.87240146, -2.41710295, ..., -2.32741868,\n",
              "          2.96584897,  6.77741221],\n",
              "        [ 5.99257983,  3.27934665,  2.05784815, ...,  2.09574455,\n",
              "         -1.69100917,  7.39108097],\n",
              "        ...,\n",
              "        [-0.58722636,  2.34880433,  5.96764359, ..., 11.91051671,\n",
              "          2.26553146,  6.89241694],\n",
              "        [ 9.02325385, 10.32874062, -0.49513867, ...,  1.58668329,\n",
              "          5.4838228 ,  6.16134246],\n",
              "        [ 3.38863004, -3.26056536,  1.15209156, ...,  3.75145773,\n",
              "          1.16183882, 11.22707119]]),\n",
              " array([[10.75578499, -0.88828345, -1.92666343, ...,  9.1609629 ,\n",
              "          5.98881225,  3.80574421],\n",
              "        [10.71394831,  6.87240146, -2.41710295, ..., -2.32741868,\n",
              "          2.96584897,  6.77741221],\n",
              "        [ 5.99257983,  3.27934665,  2.05784815, ...,  2.09574455,\n",
              "         -1.69100917,  7.39108097],\n",
              "        ...,\n",
              "        [-0.58722636,  2.34880433,  5.96764359, ..., 11.91051671,\n",
              "          2.26553146,  6.89241694],\n",
              "        [ 9.02325385, 10.32874062, -0.49513867, ...,  1.58668329,\n",
              "          5.4838228 ,  6.16134246],\n",
              "        [ 3.38863004, -3.26056536,  1.15209156, ...,  3.75145773,\n",
              "          1.16183882, 11.22707119]])]"
            ]
          },
          "metadata": {},
          "execution_count": 93
        }
      ]
    },
    {
      "cell_type": "code",
      "metadata": {
        "id": "GeUirxvG5pqQ"
      },
      "source": [
        "Ulist_als[0].shape"
      ],
      "execution_count": 94,
      "outputs": [
        {
          "output_type": "execute_result",
          "data": {
            "text/plain": [
              "(6038, 20)"
            ]
          },
          "metadata": {},
          "execution_count": 94
        }
      ]
    },
    {
      "cell_type": "markdown",
      "metadata": {
        "id": "EpIR1Dk_5pqS"
      },
      "source": [
        "### ilsAll Pred"
      ]
    },
    {
      "cell_type": "code",
      "metadata": {
        "id": "oOASTtvn5pqT",
        "outputId": "2099c143-4973-4b04-9ae2-d5a7a2f7a672"
      },
      "source": [
        "##All prediction:\n",
        "All_alsPRED_List = ialsALLPred_ALLUSERS(UserItem_RatMAT,Ulist_als,Vlist_als,N=10)\n",
        "print(len(All_alsPRED_List))\n",
        "All_alsPRED_List[:2]"
      ],
      "execution_count": 95,
      "outputs": [
        {
          "output_type": "stream",
          "name": "stdout",
          "text": [
            "10\n"
          ]
        },
        {
          "output_type": "execute_result",
          "data": {
            "text/plain": [
              "[array([[ 320,  279,   65, ...,  247, 1288, 1246],\n",
              "        [ 369,  574,  432, ...,  538,  140,  398],\n",
              "        [  32,   79,  570, ...,  413,  170,  408],\n",
              "        ...,\n",
              "        [ 472,  975,  677, ...,  546,  984, 1159],\n",
              "        [ 921,  102,   58, ...,   85,  925,  312],\n",
              "        [ 897,   82,   31, ..., 1634,  166, 1964]]),\n",
              " array([[ 320,  279,   65, ...,  247, 1288, 1246],\n",
              "        [ 369,  574,  432, ...,  538,  140,  398],\n",
              "        [  32,   79,  570, ...,  413,  170,  408],\n",
              "        ...,\n",
              "        [ 472,  975,  677, ...,  546,  984, 1159],\n",
              "        [ 921,  102,   58, ...,   85,  925,  312],\n",
              "        [ 897,   82,   31, ..., 1634,  166, 1964]])]"
            ]
          },
          "metadata": {},
          "execution_count": 95
        }
      ]
    },
    {
      "cell_type": "code",
      "metadata": {
        "id": "IYPmNPdaCY1d"
      },
      "source": [
        "All_alsPRED_List[0].shape"
      ],
      "execution_count": 96,
      "outputs": [
        {
          "output_type": "execute_result",
          "data": {
            "text/plain": [
              "(6038, 10)"
            ]
          },
          "metadata": {},
          "execution_count": 96
        }
      ]
    },
    {
      "cell_type": "code",
      "metadata": {
        "id": "3bEEVRap5pqX"
      },
      "source": [
        "with open('MLDF1M_iALS_AllPRED.pkl', 'wb') as f:\n",
        "     pickle.dump(All_alsPRED_List, f)\n"
      ],
      "execution_count": 97,
      "outputs": []
    },
    {
      "cell_type": "code",
      "metadata": {
        "id": "fG3RC_5y5pqZ"
      },
      "source": [],
      "execution_count": null,
      "outputs": []
    },
    {
      "cell_type": "markdown",
      "metadata": {
        "id": "ex_fBepRvk5I"
      },
      "source": [
        "##  RandRec:Test"
      ]
    },
    {
      "cell_type": "code",
      "metadata": {
        "colab": {
          "base_uri": "https://localhost:8080/"
        },
        "id": "42RCvm1dlZNu",
        "outputId": "485957b6-7ebc-4c72-baac-94e7c3c51671"
      },
      "source": [
        "print(len(SVD_UserItemMAT),len(newHOLDOUT_LIST))"
      ],
      "execution_count": 98,
      "outputs": [
        {
          "output_type": "stream",
          "name": "stdout",
          "text": [
            "10 10\n"
          ]
        }
      ]
    },
    {
      "cell_type": "code",
      "metadata": {
        "id": "eMuYANAS8NHY",
        "outputId": "23484f2c-75c8-4649-97c7-6b930e2a39a9"
      },
      "source": [
        "All_UsersRRecPred = get_ALLRandPred(SVD_UserItemMAT,'Updated_UserID',N=10)\n",
        "All_UsersRRecPred[:2]  "
      ],
      "execution_count": 100,
      "outputs": [
        {
          "output_type": "stream",
          "name": "stderr",
          "text": [
            "100%|██████████| 10/10 [00:05<00:00,  1.81it/s]\n"
          ]
        },
        {
          "output_type": "execute_result",
          "data": {
            "text/plain": [
              "[array([[2689, 2334,  540, ..., 2563, 3392, 1283],\n",
              "        [2632, 2863, 2628, ..., 2876, 2011, 1847],\n",
              "        [1925, 1883, 1987, ..., 1233, 1989, 1847],\n",
              "        ...,\n",
              "        [2025, 2309, 2262, ..., 2106, 1212, 2957],\n",
              "        [1144, 3027, 2287, ...,  273,  290, 2798],\n",
              "        [ 799, 2831,  756, ...,  803,  381, 1644]]),\n",
              " array([[1454,  980, 3108, ..., 1363,  546, 3417],\n",
              "        [1606, 1879, 1747, ...,  731,  714, 2163],\n",
              "        [1616, 1209, 2232, ...,  394, 2256,  462],\n",
              "        ...,\n",
              "        [2157, 1429,  479, ..., 1740, 3478, 1788],\n",
              "        [3430, 1003, 1141, ..., 1336, 1039, 2261],\n",
              "        [3094,  378,  976, ..., 2947,  221, 3269]])]"
            ]
          },
          "metadata": {},
          "execution_count": 100
        }
      ]
    },
    {
      "cell_type": "code",
      "metadata": {
        "colab": {
          "base_uri": "https://localhost:8080/"
        },
        "id": "TBkzzmmFlZNz",
        "outputId": "f066dac9-b2a2-4c9a-d9b8-eba929a11b75"
      },
      "source": [
        "All_UsersRRecPred[1].shape"
      ],
      "execution_count": 101,
      "outputs": [
        {
          "output_type": "execute_result",
          "data": {
            "text/plain": [
              "(6038, 10)"
            ]
          },
          "metadata": {},
          "execution_count": 101
        }
      ]
    },
    {
      "cell_type": "code",
      "metadata": {
        "id": "80XlCcJS8NHZ"
      },
      "source": [
        "with open('MLDF1M_RRec_AllPRED.pkl', 'wb') as f:\n",
        "     pickle.dump(All_UsersRRecPred, f)\n"
      ],
      "execution_count": 102,
      "outputs": []
    },
    {
      "cell_type": "code",
      "metadata": {
        "id": "_YumCnLur0p_"
      },
      "source": [],
      "execution_count": null,
      "outputs": []
    },
    {
      "cell_type": "markdown",
      "metadata": {
        "id": "XTkVUSBi4sgE"
      },
      "source": [
        "## Most Pop Rec"
      ]
    },
    {
      "cell_type": "code",
      "execution_count": null,
      "metadata": {},
      "outputs": [],
      "source": []
    },
    {
      "cell_type": "code",
      "metadata": {
        "id": "A-V7Lj0H8NHl",
        "outputId": "973422c8-813d-4bf7-d007-9c95f3fb1cf1"
      },
      "source": [
        "                      #getAll_MOSTPOP_Pred(DF_list,user_column,item_colum,Nusers,N\n",
        "Nusers = newMLDF_1M['Updated_UserID'].nunique()\n",
        "All_MostPOPRED_List =  getAll_MOSTPOP_Pred(new_PSIDFlist,'Updated_UserID','Updated_ItemID',Nusers,N=10)\n",
        "All_MostPOPRED_List[:2]"
      ],
      "execution_count": 104,
      "outputs": [
        {
          "output_type": "execute_result",
          "data": {
            "text/plain": [
              "[array([[ 87,  19,   2, ...,  62,  15, 283],\n",
              "        [ 87,  19,   2, ...,  62,  15, 283],\n",
              "        [ 87,  19,   2, ...,  62,  15, 283],\n",
              "        ...,\n",
              "        [ 87,  19,   2, ...,  62,  15, 283],\n",
              "        [ 87,  19,   2, ...,  62,  15, 283],\n",
              "        [ 87,  19,   2, ...,  62,  15, 283]]),\n",
              " array([[ 19, 223,  87, ..., 193,  18,  91],\n",
              "        [ 19, 223,  87, ..., 193,  18,  91],\n",
              "        [ 19, 223,  87, ..., 193,  18,  91],\n",
              "        ...,\n",
              "        [ 19, 223,  87, ..., 193,  18,  91],\n",
              "        [ 19, 223,  87, ..., 193,  18,  91],\n",
              "        [ 19, 223,  87, ..., 193,  18,  91]])]"
            ]
          },
          "metadata": {},
          "execution_count": 104
        }
      ]
    },
    {
      "cell_type": "code",
      "metadata": {
        "colab": {
          "base_uri": "https://localhost:8080/"
        },
        "id": "dwtyYptbxT1n",
        "outputId": "79b08aa3-3f9e-40e7-a037-7bbec7b343a1"
      },
      "source": [
        "All_MostPOPRED_List[1].shape"
      ],
      "execution_count": 105,
      "outputs": [
        {
          "output_type": "execute_result",
          "data": {
            "text/plain": [
              "(6038, 10)"
            ]
          },
          "metadata": {},
          "execution_count": 105
        }
      ]
    },
    {
      "cell_type": "code",
      "metadata": {
        "id": "AoBZNlPu8NHr"
      },
      "source": [
        "with open('MLDF1M_MPop_allPRED.pkl', 'wb') as f:\n",
        "     pickle.dump(All_MostPOPRED_List, f)\n"
      ],
      "execution_count": 106,
      "outputs": []
    },
    {
      "cell_type": "markdown",
      "metadata": {
        "id": "krCIIB8flw0U"
      },
      "source": [
        "## HitRate"
      ]
    },
    {
      "cell_type": "markdown",
      "metadata": {
        "id": "FZd_vVsPpIqV"
      },
      "source": [
        "### Updated PSI"
      ]
    },
    {
      "cell_type": "code",
      "metadata": {
        "colab": {
          "base_uri": "https://localhost:8080/"
        },
        "id": "LtlchmQtHN5c",
        "outputId": "5774d60b-ae54-4fad-f2ae-9cfe8fbbefd5"
      },
      "source": [
        "Top_NPred = TopNPred(UserItem_Matupdt[0],newHOLDOUT_LIST[0],V_1,'Updated_UserID',10)\n",
        "Top_NPred"
      ],
      "execution_count": 77,
      "outputs": [
        {
          "output_type": "execute_result",
          "data": {
            "text/plain": [
              "array([[ 574,   13,  497, ...,   68,  935,  572],\n",
              "       [  37,   15,   62, ...,  556,    9,   86],\n",
              "       [  23,  209,  413, ...,  540,  577,  419],\n",
              "       ...,\n",
              "       [  59,   57,  566, ...,  156,  576,  184],\n",
              "       [ 271,  413,  156, ...,  254,  818, 1238],\n",
              "       [  87,  223,  292, ...,  848,  262,  461]])"
            ]
          },
          "metadata": {},
          "execution_count": 77
        }
      ]
    },
    {
      "cell_type": "code",
      "metadata": {
        "colab": {
          "base_uri": "https://localhost:8080/"
        },
        "id": "Ql0pwhxeHN5g",
        "outputId": "c7eee04a-f906-4789-e52e-89d7fdfd71d2"
      },
      "source": [
        "Hitrate_Eval(newHOLDOUT_LIST[0],Top_NPred,'Updated_UserID','Updated_ItemID')"
      ],
      "execution_count": 78,
      "outputs": [
        {
          "output_type": "stream",
          "name": "stdout",
          "text": [
            "Number of hits:  17\nTotal Num of users:  233\nRecommendation HitRate:  0.07296137339055794\n"
          ]
        },
        {
          "output_type": "execute_result",
          "data": {
            "text/plain": [
              "0.07296137339055794"
            ]
          },
          "metadata": {},
          "execution_count": 78
        }
      ]
    },
    {
      "cell_type": "code",
      "metadata": {
        "colab": {
          "base_uri": "https://localhost:8080/"
        },
        "id": "8J8LC6tDAiir",
        "outputId": "38d39465-88e3-44fc-cd8e-1930185d0047"
      },
      "source": [
        "AllUpdt_pred =  TQDMgetALLTopNPred(UserItem_Matupdt,newHOLDOUT_LIST,Vpsi_listUpdt,'Updated_UserID',N = 10)\n",
        "print(len(AllUpdt_pred))\n",
        "AllUpdt_pred[:2]"
      ],
      "execution_count": 79,
      "outputs": [
        {
          "output_type": "stream",
          "name": "stderr",
          "text": [
            "10it [00:00, 29.52it/s]10\n",
            "\n"
          ]
        },
        {
          "output_type": "execute_result",
          "data": {
            "text/plain": [
              "[array([[ 574,   13,  497, ...,   68,  935,  572],\n",
              "        [  37,   15,   62, ...,  556,    9,   86],\n",
              "        [  23,  209,  413, ...,  540,  577,  419],\n",
              "        ...,\n",
              "        [  59,   57,  566, ...,  156,  576,  184],\n",
              "        [ 271,  413,  156, ...,  254,  818, 1238],\n",
              "        [  87,  223,  292, ...,  848,  262,  461]]),\n",
              " array([[  19,  330,   12, ...,  337,  170, 2765],\n",
              "        [ 193,  223,  330, ...,  342,  433,  317],\n",
              "        [ 166,  169,  239, ...,  330,  560,  317],\n",
              "        ...,\n",
              "        [ 261,  644,  647, ...,  254,  549,  272],\n",
              "        [ 138,  137,    0, ...,  317,  136,   89],\n",
              "        [  91,   40,  223, ...,  254,   73,  156]])]"
            ]
          },
          "metadata": {},
          "execution_count": 79
        }
      ]
    },
    {
      "cell_type": "code",
      "metadata": {
        "colab": {
          "base_uri": "https://localhost:8080/"
        },
        "id": "Osi894h4Aiiv",
        "outputId": "230d7213-4baf-4ea5-eb7b-b98c616ca36a"
      },
      "source": [
        "AllSteps_HitR_updt, LowerBand_updt, Avg_HitR_updt, UpperBand_updt   = getAll_HitRate(newHOLDOUT_LIST,AllUpdt_pred,'Updated_UserID','Updated_ItemID')\n",
        "AllSteps_HitR_updt"
      ],
      "execution_count": 80,
      "outputs": [
        {
          "output_type": "stream",
          "name": "stdout",
          "text": [
            "Number of hits:  17\nTotal Num of users:  233\nRecommendation HitRate:  0.07296137339055794\nNumber of hits:  20\nTotal Num of users:  255\nRecommendation HitRate:  0.0784313725490196\nNumber of hits:  24\nTotal Num of users:  286\nRecommendation HitRate:  0.08391608391608392\nNumber of hits:  20\nTotal Num of users:  309\nRecommendation HitRate:  0.06472491909385113\nNumber of hits:  20\nTotal Num of users:  468\nRecommendation HitRate:  0.042735042735042736\nNumber of hits:  23\nTotal Num of users:  526\nRecommendation HitRate:  0.043726235741444866\nNumber of hits:  27\nTotal Num of users:  517\nRecommendation HitRate:  0.05222437137330754\nNumber of hits:  22\nTotal Num of users:  470\nRecommendation HitRate:  0.04680851063829787\nNumber of hits:  28\nTotal Num of users:  453\nRecommendation HitRate:  0.06181015452538632\nNumber of hits:  20\nTotal Num of users:  362\nRecommendation HitRate:  0.055248618784530384\nAverage HitRate for All Recommendations:  0.060258668274752236\n"
          ]
        },
        {
          "output_type": "execute_result",
          "data": {
            "text/plain": [
              "[0.07296137339055794,\n",
              " 0.0784313725490196,\n",
              " 0.08391608391608392,\n",
              " 0.06472491909385113,\n",
              " 0.042735042735042736,\n",
              " 0.043726235741444866,\n",
              " 0.05222437137330754,\n",
              " 0.04680851063829787,\n",
              " 0.06181015452538632,\n",
              " 0.055248618784530384]"
            ]
          },
          "metadata": {},
          "execution_count": 80
        }
      ]
    },
    {
      "cell_type": "code",
      "metadata": {
        "id": "3-FkHqn-pB_G"
      },
      "source": [
        "print(LowerBand_updt)\n",
        "print(UpperBand_updt)\n",
        "print(Avg_HitR_updt)"
      ],
      "execution_count": 81,
      "outputs": [
        {
          "output_type": "stream",
          "name": "stdout",
          "text": [
            "0.049797730838973965\n0.0707196057105305\n0.060258668274752236\n"
          ]
        }
      ]
    },
    {
      "cell_type": "code",
      "metadata": {
        "id": "wvVmP30opBuv"
      },
      "source": [
        "AllSteps_HitR_updt  ##Rank ==20"
      ],
      "execution_count": 82,
      "outputs": [
        {
          "output_type": "execute_result",
          "data": {
            "text/plain": [
              "[0.07296137339055794,\n",
              " 0.0784313725490196,\n",
              " 0.08391608391608392,\n",
              " 0.06472491909385113,\n",
              " 0.042735042735042736,\n",
              " 0.043726235741444866,\n",
              " 0.05222437137330754,\n",
              " 0.04680851063829787,\n",
              " 0.06181015452538632,\n",
              " 0.055248618784530384]"
            ]
          },
          "metadata": {},
          "execution_count": 82
        }
      ]
    },
    {
      "cell_type": "markdown",
      "metadata": {
        "id": "KcaJU4aApEpg"
      },
      "source": [
        "### Regular PSI"
      ]
    },
    {
      "cell_type": "code",
      "metadata": {
        "colab": {
          "base_uri": "https://localhost:8080/"
        },
        "id": "c9jUgHkKAhbi",
        "outputId": "be5430ee-3931-400d-8944-8c8126127ea2"
      },
      "source": [
        "Top10Pred_psi = TopNPred(UserItemMAT_regPSI[0], newHOLDOUT_LIST[0],Vpsi_listReg[0],'Updated_UserID',N=10)\n",
        "print(Top10Pred_psi.shape)"
      ],
      "execution_count": 101,
      "outputs": [
        {
          "output_type": "stream",
          "name": "stdout",
          "text": [
            "(233, 10)\n"
          ]
        }
      ]
    },
    {
      "cell_type": "code",
      "metadata": {
        "colab": {
          "base_uri": "https://localhost:8080/"
        },
        "id": "u1sFaxNBAhc2",
        "outputId": "a221cdb8-2cb0-4ae9-b4b2-eace696881c5"
      },
      "source": [
        "Hitrate_Eval(newHOLDOUT_LIST[0],Top10Pred_psi,'Updated_UserID','Updated_ItemID')"
      ],
      "execution_count": 102,
      "outputs": [
        {
          "output_type": "stream",
          "name": "stdout",
          "text": [
            "Number of hits:  17\nTotal Num of users:  233\nRecommendation HitRate:  0.07296137339055794\n"
          ]
        },
        {
          "output_type": "execute_result",
          "data": {
            "text/plain": [
              "0.07296137339055794"
            ]
          },
          "metadata": {},
          "execution_count": 102
        }
      ]
    },
    {
      "cell_type": "code",
      "metadata": {
        "colab": {
          "base_uri": "https://localhost:8080/"
        },
        "id": "oUDxtIohbVj8",
        "outputId": "48677220-09c6-4c42-bb00-17236691f54f"
      },
      "source": [
        "All_regPSI_PRED =  TQDMgetALLTopNPred(UserItemMAT_regPSI,newHOLDOUT_LIST,Vpsi_listReg,'Updated_UserID',N = 10)\n",
        "print(len(All_regPSI_PRED))\n",
        "All_regPSI_PRED[:2]"
      ],
      "execution_count": 103,
      "outputs": [
        {
          "output_type": "stream",
          "name": "stderr",
          "text": [
            "10it [00:00, 30.62it/s]10\n",
            "\n"
          ]
        },
        {
          "output_type": "execute_result",
          "data": {
            "text/plain": [
              "[array([[574,  13, 497, ...,  68, 935, 572],\n",
              "        [ 37,  15,  62, ..., 556,   9,  86],\n",
              "        [ 23, 209, 413, ..., 540, 419, 577],\n",
              "        ...,\n",
              "        [ 59,  57, 902, ..., 156, 184, 576],\n",
              "        [271, 413, 156, ..., 254, 818, 259],\n",
              "        [ 87, 223, 292, ..., 848, 262, 651]]),\n",
              " array([[  19,  330,   12, ...,  337,  170, 2765],\n",
              "        [ 193,  223,  330, ...,  342,  433,  317],\n",
              "        [ 166,  169,  239, ...,  330,  560, 2933],\n",
              "        ...,\n",
              "        [ 261,  644,  647, ...,  254,  549,  466],\n",
              "        [ 138,  137,    0, ...,  317,  136,   89],\n",
              "        [  91,   40,  223, ...,  254,   73,  156]])]"
            ]
          },
          "metadata": {},
          "execution_count": 103
        }
      ]
    },
    {
      "cell_type": "code",
      "metadata": {
        "colab": {
          "base_uri": "https://localhost:8080/"
        },
        "id": "2ZnpolG9A7KZ",
        "outputId": "e843ebf9-2b5e-410b-84d5-21a21489fb4e"
      },
      "source": [
        "AllSteps_Hitrate_psi, LowerBand, Avg_HitRate, UpperBand   = getAll_HitRate(newHOLDOUT_LIST,All_regPSI_PRED,'Updated_UserID','Updated_ItemID')"
      ],
      "execution_count": 104,
      "outputs": [
        {
          "output_type": "stream",
          "name": "stdout",
          "text": [
            "Number of hits:  17\nTotal Num of users:  233\nRecommendation HitRate:  0.07296137339055794\nNumber of hits:  22\nTotal Num of users:  255\nRecommendation HitRate:  0.08627450980392157\nNumber of hits:  24\nTotal Num of users:  286\nRecommendation HitRate:  0.08391608391608392\nNumber of hits:  21\nTotal Num of users:  309\nRecommendation HitRate:  0.06796116504854369\nNumber of hits:  22\nTotal Num of users:  468\nRecommendation HitRate:  0.04700854700854701\nNumber of hits:  25\nTotal Num of users:  526\nRecommendation HitRate:  0.04752851711026616\nNumber of hits:  28\nTotal Num of users:  517\nRecommendation HitRate:  0.05415860735009671\nNumber of hits:  22\nTotal Num of users:  470\nRecommendation HitRate:  0.04680851063829787\nNumber of hits:  28\nTotal Num of users:  453\nRecommendation HitRate:  0.06181015452538632\nNumber of hits:  20\nTotal Num of users:  362\nRecommendation HitRate:  0.055248618784530384\nAverage HitRate for All Recommendations:  0.06236760875762315\n"
          ]
        }
      ]
    },
    {
      "cell_type": "code",
      "execution_count": 105,
      "metadata": {},
      "outputs": [
        {
          "output_type": "execute_result",
          "data": {
            "text/plain": [
              "[0.07296137339055794,\n",
              " 0.08627450980392157,\n",
              " 0.08391608391608392,\n",
              " 0.06796116504854369,\n",
              " 0.04700854700854701,\n",
              " 0.04752851711026616,\n",
              " 0.05415860735009671,\n",
              " 0.04680851063829787,\n",
              " 0.06181015452538632,\n",
              " 0.055248618784530384]"
            ]
          },
          "metadata": {},
          "execution_count": 105
        }
      ],
      "source": [
        "AllSteps_Hitrate_psi ##Rank ==20"
      ]
    },
    {
      "cell_type": "code",
      "metadata": {
        "id": "Ak2Iuz1mrPwE"
      },
      "source": [
        "print(LowerBand, Avg_HitRate, UpperBand)"
      ],
      "execution_count": 106,
      "outputs": [
        {
          "output_type": "stream",
          "name": "stdout",
          "text": [
            "0.051714484692394674 0.06236760875762315 0.07302073282285163\n"
          ]
        }
      ]
    },
    {
      "cell_type": "markdown",
      "metadata": {
        "id": "HQB5V56-rLfg"
      },
      "source": [
        "### SVD HItR_"
      ]
    },
    {
      "cell_type": "code",
      "metadata": {
        "colab": {
          "base_uri": "https://localhost:8080/"
        },
        "id": "WnCO3ZL96e4I",
        "outputId": "364ac4f0-b337-49d1-b2ca-8c8eced89c9f"
      },
      "source": [
        "Top10Pred_SVD = TopNPred(SVD_UserItemMAT[0],newHOLDOUT_LIST[0],Vsvd_list[0],'Updated_UserID',N=10)\n",
        "print(Top10Pred_SVD.shape)\n",
        "Top10Pred_SVD"
      ],
      "execution_count": 107,
      "outputs": [
        {
          "output_type": "stream",
          "name": "stdout",
          "text": [
            "(233, 10)\n"
          ]
        },
        {
          "output_type": "execute_result",
          "data": {
            "text/plain": [
              "array([[ 574,   13,  497, ...,  935,  572,   68],\n",
              "       [  37,   15,   62, ...,   86, 1929,  556],\n",
              "       [  23,  209,  413, ...,  540,  419,  687],\n",
              "       ...,\n",
              "       [  59,   57,  902, ...,  156,  184,  576],\n",
              "       [ 271,  413,  156, ...,  408, 1238,  259],\n",
              "       [  87,  223,  292, ...,  848,  262,  651]])"
            ]
          },
          "metadata": {},
          "execution_count": 107
        }
      ]
    },
    {
      "cell_type": "code",
      "metadata": {
        "colab": {
          "base_uri": "https://localhost:8080/"
        },
        "id": "_y8C9P5hr-sN",
        "outputId": "ff5b210c-636b-4d66-a012-67fdca10344b"
      },
      "source": [
        "Hitrate_Eval(newHOLDOUT_LIST[0],Top10Pred_SVD,'Updated_UserID','Updated_ItemID')"
      ],
      "execution_count": 108,
      "outputs": [
        {
          "output_type": "stream",
          "name": "stdout",
          "text": [
            "Number of hits:  17\nTotal Num of users:  233\nRecommendation HitRate:  0.07296137339055794\n"
          ]
        },
        {
          "output_type": "execute_result",
          "data": {
            "text/plain": [
              "0.07296137339055794"
            ]
          },
          "metadata": {},
          "execution_count": 108
        }
      ]
    },
    {
      "cell_type": "code",
      "metadata": {
        "colab": {
          "base_uri": "https://localhost:8080/"
        },
        "id": "nOTHviyK-jwT",
        "outputId": "eab74d67-67fd-4f08-dec6-61126557c065"
      },
      "source": [
        "AllSVD_topNPRED =  TQDMgetALLTopNPred(SVD_UserItemMAT,newHOLDOUT_LIST,Vsvd_list,'Updated_UserID',N = 10)\n",
        "print(len(AllSVD_topNPRED))\n",
        "AllSVD_topNPRED[:2]"
      ],
      "execution_count": 109,
      "outputs": [
        {
          "output_type": "stream",
          "name": "stderr",
          "text": [
            "10it [00:00, 24.89it/s]10\n",
            "\n"
          ]
        },
        {
          "output_type": "execute_result",
          "data": {
            "text/plain": [
              "[array([[ 574,   13,  497, ...,  935,  572,   68],\n",
              "        [  37,   15,   62, ...,   86, 1929,  556],\n",
              "        [  23,  209,  413, ...,  540,  419,  687],\n",
              "        ...,\n",
              "        [  59,   57,  902, ...,  156,  184,  576],\n",
              "        [ 271,  413,  156, ...,  408, 1238,  259],\n",
              "        [  87,  223,  292, ...,  848,  262,  651]]),\n",
              " array([[  19,  330,   12, ...,  337, 2765,  455],\n",
              "        [ 193,  223,  330, ...,  209,  433,  317],\n",
              "        [ 166,  169,  239, ...,  560,  153,  206],\n",
              "        ...,\n",
              "        [ 261,  644,  647, ...,  549,  466,  462],\n",
              "        [ 138,  137,    0, ...,   59,  136,   89],\n",
              "        [  91,   40,  223, ...,  254, 1929,   73]])]"
            ]
          },
          "metadata": {},
          "execution_count": 109
        }
      ]
    },
    {
      "cell_type": "code",
      "metadata": {
        "colab": {
          "base_uri": "https://localhost:8080/"
        },
        "id": "d7xlsk71shw9",
        "outputId": "7e4b2f47-441d-4732-d206-e8a1f3f0cfd3"
      },
      "source": [
        "AllSteps_Hitrate_svd, LowerBand, Avg_HitRate, UpperBand   = getAll_HitRate(newHOLDOUT_LIST,AllSVD_topNPRED,'Updated_UserID','Updated_ItemID')"
      ],
      "execution_count": 110,
      "outputs": [
        {
          "output_type": "stream",
          "name": "stdout",
          "text": [
            "Number of hits:  17\nTotal Num of users:  233\nRecommendation HitRate:  0.07296137339055794\nNumber of hits:  21\nTotal Num of users:  255\nRecommendation HitRate:  0.08235294117647059\nNumber of hits:  25\nTotal Num of users:  286\nRecommendation HitRate:  0.08741258741258741\nNumber of hits:  20\nTotal Num of users:  309\nRecommendation HitRate:  0.06472491909385113\nNumber of hits:  23\nTotal Num of users:  468\nRecommendation HitRate:  0.049145299145299144\nNumber of hits:  27\nTotal Num of users:  526\nRecommendation HitRate:  0.051330798479087454\nNumber of hits:  34\nTotal Num of users:  517\nRecommendation HitRate:  0.06576402321083172\nNumber of hits:  22\nTotal Num of users:  470\nRecommendation HitRate:  0.04680851063829787\nNumber of hits:  29\nTotal Num of users:  453\nRecommendation HitRate:  0.0640176600441501\nNumber of hits:  19\nTotal Num of users:  362\nRecommendation HitRate:  0.052486187845303865\nAverage HitRate for All Recommendations:  0.06370043004364373\n"
          ]
        }
      ]
    },
    {
      "cell_type": "code",
      "metadata": {
        "colab": {
          "base_uri": "https://localhost:8080/"
        },
        "id": "x_L3w8iDPcDV",
        "outputId": "363b53f7-434d-49d0-ea7e-008773d42541"
      },
      "source": [
        "AllSteps_Hitrate_svd  #Rank =20"
      ],
      "execution_count": 111,
      "outputs": [
        {
          "output_type": "execute_result",
          "data": {
            "text/plain": [
              "[0.07296137339055794,\n",
              " 0.08235294117647059,\n",
              " 0.08741258741258741,\n",
              " 0.06472491909385113,\n",
              " 0.049145299145299144,\n",
              " 0.051330798479087454,\n",
              " 0.06576402321083172,\n",
              " 0.04680851063829787,\n",
              " 0.0640176600441501,\n",
              " 0.052486187845303865]"
            ]
          },
          "metadata": {},
          "execution_count": 111
        }
      ]
    },
    {
      "cell_type": "code",
      "execution_count": 112,
      "metadata": {},
      "outputs": [
        {
          "output_type": "stream",
          "name": "stdout",
          "text": [
            "0.05364771517696369 0.06370043004364373 0.07375314491032377\n"
          ]
        }
      ],
      "source": [
        " print(LowerBand, Avg_HitRate, UpperBand) "
      ]
    },
    {
      "cell_type": "markdown",
      "metadata": {
        "id": "2mG-deAzqE-C"
      },
      "source": [
        "### RRec HitR_"
      ]
    },
    {
      "cell_type": "code",
      "metadata": {
        "colab": {
          "base_uri": "https://localhost:8080/"
        },
        "id": "uMLoaZ6YlZN3",
        "outputId": "90ba4c62-a1f1-4242-f422-cd84cd1ab274"
      },
      "source": [
        "RRec_AllStepsHitR, RRec_LowBHR, RREC_AvgHitR, RRec_UppBHR = getAll_RandomHitRate(newHOLDOUT_LIST,All_UsersRRecPred,'Updated_UserID','Updated_ItemID')"
      ],
      "execution_count": 127,
      "outputs": [
        {
          "output_type": "stream",
          "name": "stdout",
          "text": [
            "Number of hits:  0\nTotal Num of users:  233\nRecommendation HitRate:  0.0\nNumber of hits:  0\nTotal Num of users:  255\nRecommendation HitRate:  0.0\nNumber of hits:  0\nTotal Num of users:  286\nRecommendation HitRate:  0.0\nNumber of hits:  0\nTotal Num of users:  309\nRecommendation HitRate:  0.0\nNumber of hits:  2\nTotal Num of users:  468\nRecommendation HitRate:  0.004273504273504274\nNumber of hits:  3\nTotal Num of users:  526\nRecommendation HitRate:  0.005703422053231939\nNumber of hits:  2\nTotal Num of users:  517\nRecommendation HitRate:  0.0038684719535783366\nNumber of hits:  2\nTotal Num of users:  470\nRecommendation HitRate:  0.00425531914893617\nNumber of hits:  0\nTotal Num of users:  453\nRecommendation HitRate:  0.0\nNumber of hits:  1\nTotal Num of users:  362\nRecommendation HitRate:  0.0027624309392265192\nAverage HitRate for All Recommendations:  0.002086314836847724\n"
          ]
        }
      ]
    },
    {
      "cell_type": "code",
      "metadata": {
        "id": "FVPb6680r81m"
      },
      "source": [
        "RRec_AllStepsHitR"
      ],
      "execution_count": 128,
      "outputs": [
        {
          "output_type": "execute_result",
          "data": {
            "text/plain": [
              "[0.0,\n",
              " 0.0,\n",
              " 0.0,\n",
              " 0.0,\n",
              " 0.004273504273504274,\n",
              " 0.005703422053231939,\n",
              " 0.0038684719535783366,\n",
              " 0.00425531914893617,\n",
              " 0.0,\n",
              " 0.0027624309392265192]"
            ]
          },
          "metadata": {},
          "execution_count": 128
        }
      ]
    },
    {
      "cell_type": "code",
      "execution_count": 129,
      "metadata": {},
      "outputs": [
        {
          "output_type": "stream",
          "name": "stdout",
          "text": [
            "0.00043480915401082143 0.002086314836847724 0.0037378205196846267\n"
          ]
        }
      ],
      "source": [
        "print( RRec_LowBHR, RREC_AvgHitR, RRec_UppBHR)"
      ]
    },
    {
      "cell_type": "markdown",
      "metadata": {
        "id": "YZNhrtpwr_fM"
      },
      "source": [
        "### MPop HitR_"
      ]
    },
    {
      "cell_type": "code",
      "metadata": {
        "colab": {
          "base_uri": "https://localhost:8080/"
        },
        "id": "pzPaCjrsUvFa",
        "outputId": "b7ffccf3-91fc-459b-dd5e-4d8322459502"
      },
      "source": [
        "AllSteps_Hitrate, LowerBand, Avg_HitRate, UpperBand  = getAll_MostPOPHitRate(newHOLDOUT_LIST,All_MostPOPRED_List,'Updated_UserID','Updated_ItemID')"
      ],
      "execution_count": 130,
      "outputs": [
        {
          "output_type": "stream",
          "name": "stdout",
          "text": [
            "Number of hits:  6\nTotal Num of users:  233\nRecommendation HitRate:  0.02575107296137339\nNumber of hits:  9\nTotal Num of users:  255\nRecommendation HitRate:  0.03529411764705882\nNumber of hits:  12\nTotal Num of users:  286\nRecommendation HitRate:  0.04195804195804196\nNumber of hits:  4\nTotal Num of users:  309\nRecommendation HitRate:  0.012944983818770227\nNumber of hits:  24\nTotal Num of users:  468\nRecommendation HitRate:  0.05128205128205128\nNumber of hits:  67\nTotal Num of users:  526\nRecommendation HitRate:  0.12737642585551331\nNumber of hits:  59\nTotal Num of users:  517\nRecommendation HitRate:  0.11411992263056092\nNumber of hits:  29\nTotal Num of users:  470\nRecommendation HitRate:  0.06170212765957447\nNumber of hits:  25\nTotal Num of users:  453\nRecommendation HitRate:  0.05518763796909492\nNumber of hits:  15\nTotal Num of users:  362\nRecommendation HitRate:  0.04143646408839779\nAverage HitRate for All Recommendations:  0.0567052845870437\n"
          ]
        }
      ]
    },
    {
      "cell_type": "code",
      "metadata": {
        "id": "H3kfcIzLq3aq"
      },
      "source": [
        "AllSteps_Hitrate"
      ],
      "execution_count": 131,
      "outputs": [
        {
          "output_type": "execute_result",
          "data": {
            "text/plain": [
              "[0.02575107296137339,\n",
              " 0.03529411764705882,\n",
              " 0.04195804195804196,\n",
              " 0.012944983818770227,\n",
              " 0.05128205128205128,\n",
              " 0.12737642585551331,\n",
              " 0.11411992263056092,\n",
              " 0.06170212765957447,\n",
              " 0.05518763796909492,\n",
              " 0.04143646408839779]"
            ]
          },
          "metadata": {},
          "execution_count": 131
        }
      ]
    },
    {
      "cell_type": "code",
      "metadata": {
        "id": "dmerRgcn_tH-"
      },
      "source": [
        "print(LowerBand, Avg_HitRate, UpperBand)"
      ],
      "execution_count": 132,
      "outputs": [
        {
          "output_type": "stream",
          "name": "stdout",
          "text": [
            "0.03044334133503459 0.0567052845870437 0.0829672278390528\n"
          ]
        }
      ]
    },
    {
      "cell_type": "markdown",
      "metadata": {
        "id": "CiN76aQU_tyi"
      },
      "source": [
        "### iALS HitR_"
      ]
    },
    {
      "cell_type": "code",
      "metadata": {
        "id": "NcwzoILo_6Gd"
      },
      "source": [
        "##Hitrate\n",
        "top10_pred = ials_TopNPred(UserItem_RatMAT[0],newHOLDOUT_LIST[0],Ulist_als[0],Vlist_als[0],'Updated_UserID', N=10)\n",
        "print(top10_pred.shape)\n",
        "top10_pred"
      ],
      "execution_count": 133,
      "outputs": [
        {
          "output_type": "stream",
          "name": "stdout",
          "text": [
            "(233, 10)\n"
          ]
        },
        {
          "output_type": "execute_result",
          "data": {
            "text/plain": [
              "array([[ 921,  574,  572, ..., 2282, 1288,  225],\n",
              "       [ 375,  460,  514, ...,  344,  388,  124],\n",
              "       [1051, 1742,  179, ...,  104, 2912, 3323],\n",
              "       ...,\n",
              "       [  59,   54,  566, ...,  576,  184,  153],\n",
              "       [ 523,  417, 1340, ..., 1238, 2933, 1502],\n",
              "       [ 443,  294,  541, ...,  223,  592,   91]])"
            ]
          },
          "metadata": {},
          "execution_count": 133
        }
      ]
    },
    {
      "cell_type": "code",
      "metadata": {
        "id": "ZqkQMd00_wi_"
      },
      "source": [
        "Hitrate_Eval(newHOLDOUTDF_LIST[0],top10_pred,'Updated_UserID','Updated_ItemID')  #"
      ],
      "execution_count": null,
      "outputs": []
    },
    {
      "cell_type": "code",
      "metadata": {
        "id": "B2XjziE3CH50"
      },
      "source": [
        "                #ials_getALLPredTQDM(RatingMat_List,HOLDOUT_list,U_list,V_list,user_column,N)\n",
        "Allals_topNPRED =  ials_getALLPredTQDM(UserItem_RatMAT,newHOLDOUT_LIST,Ulist_als,Vlist_als,'Updated_UserID',N = 10)\n",
        "print(len(Allals_topNPRED))\n",
        "Allals_topNPRED[:2]"
      ],
      "execution_count": 134,
      "outputs": [
        {
          "output_type": "stream",
          "name": "stderr",
          "text": [
            "10it [00:00, 30.11it/s]10\n",
            "\n"
          ]
        },
        {
          "output_type": "execute_result",
          "data": {
            "text/plain": [
              "[array([[ 921,  574,  572, ..., 2282, 1288,  225],\n",
              "        [ 375,  460,  514, ...,  344,  388,  124],\n",
              "        [1051, 1742,  179, ...,  104, 2912, 3323],\n",
              "        ...,\n",
              "        [  59,   54,  566, ...,  576,  184,  153],\n",
              "        [ 523,  417, 1340, ..., 1238, 2933, 1502],\n",
              "        [ 443,  294,  541, ...,  223,  592,   91]]),\n",
              " array([[  19,  169,   91, ...,   62,  330,   87],\n",
              "        [ 342,  330,   99, ...,   91,  209,  644],\n",
              "        [1964,  139,  169, ...,  201, 1634, 3270],\n",
              "        ...,\n",
              "        [2331,  647, 2765, ...,  462,  709, 1929],\n",
              "        [ 197,  396, 1042, ..., 1226,  247,  949],\n",
              "        [2765,  908,   40, ...,  223,   89, 1801]])]"
            ]
          },
          "metadata": {},
          "execution_count": 134
        }
      ]
    },
    {
      "cell_type": "code",
      "metadata": {
        "id": "v-UBuiJLCMpd"
      },
      "source": [
        "als_AllStepsHitR_, als_LBand, als_AvgHitR, als_UBand   = getAll_HitRate(newHOLDOUT_LIST,Allals_topNPRED,'Updated_UserID','Updated_ItemID')\n",
        "als_AllStepsHitR_"
      ],
      "execution_count": 136,
      "outputs": [
        {
          "output_type": "stream",
          "name": "stdout",
          "text": [
            "Number of hits:  14\nTotal Num of users:  233\nRecommendation HitRate:  0.060085836909871244\nNumber of hits:  15\nTotal Num of users:  255\nRecommendation HitRate:  0.058823529411764705\nNumber of hits:  33\nTotal Num of users:  286\nRecommendation HitRate:  0.11538461538461539\nNumber of hits:  20\nTotal Num of users:  309\nRecommendation HitRate:  0.06472491909385113\nNumber of hits:  17\nTotal Num of users:  468\nRecommendation HitRate:  0.03632478632478633\nNumber of hits:  28\nTotal Num of users:  526\nRecommendation HitRate:  0.053231939163498096\nNumber of hits:  19\nTotal Num of users:  517\nRecommendation HitRate:  0.0367504835589942\nNumber of hits:  18\nTotal Num of users:  470\nRecommendation HitRate:  0.03829787234042553\nNumber of hits:  17\nTotal Num of users:  453\nRecommendation HitRate:  0.037527593818984545\nNumber of hits:  19\nTotal Num of users:  362\nRecommendation HitRate:  0.052486187845303865\nAverage HitRate for All Recommendations:  0.05536377638520951\n"
          ]
        },
        {
          "output_type": "execute_result",
          "data": {
            "text/plain": [
              "[0.060085836909871244,\n",
              " 0.058823529411764705,\n",
              " 0.11538461538461539,\n",
              " 0.06472491909385113,\n",
              " 0.03632478632478633,\n",
              " 0.053231939163498096,\n",
              " 0.0367504835589942,\n",
              " 0.03829787234042553,\n",
              " 0.037527593818984545,\n",
              " 0.052486187845303865]"
            ]
          },
          "metadata": {},
          "execution_count": 136
        }
      ]
    },
    {
      "cell_type": "code",
      "execution_count": 137,
      "metadata": {},
      "outputs": [
        {
          "output_type": "stream",
          "name": "stdout",
          "text": [
            "0.03840926871072885 0.05536377638520951 0.07231828405969017\n"
          ]
        }
      ],
      "source": [
        "print( als_LBand, als_AvgHitR, als_UBand)"
      ]
    },
    {
      "cell_type": "markdown",
      "metadata": {
        "id": "4LTu6CfTlkKV"
      },
      "source": [
        "## MRR_Scores"
      ]
    },
    {
      "cell_type": "markdown",
      "metadata": {
        "id": "zSy_1uXgpvHE"
      },
      "source": [
        "### Updated_mrr"
      ]
    },
    {
      "cell_type": "code",
      "metadata": {
        "id": "Jua1mher8NGO",
        "outputId": "75892255-0e71-4966-aa09-bbcebd25f107"
      },
      "source": [
        "mrr_1st = MRR_Eval(newHOLDOUT_LIST[0],Top_NPred,'Updated_ItemID')\n",
        "print(\"1st Step MRR: \",mrr_1st)"
      ],
      "execution_count": 113,
      "outputs": [
        {
          "output_type": "stream",
          "name": "stdout",
          "text": [
            "1st Step MRR:  0.021786225219701617\n"
          ]
        }
      ]
    },
    {
      "cell_type": "code",
      "metadata": {
        "id": "HKCypKY78NGP",
        "outputId": "a3b76d44-bca2-4ebb-faa3-31e32a223bc3"
      },
      "source": [
        "AllSteps_MRRUpdt, LowerB_Updt, AvgMRR_Updt, UpperB_Updt  = TQDMgetAll_MRR_Eval(newHOLDOUT_LIST,AllUpdt_pred,'Updated_ItemID')\n",
        "AllSteps_MRRUpdt    ##Rank ==20"
      ],
      "execution_count": 114,
      "outputs": [
        {
          "output_type": "stream",
          "name": "stderr",
          "text": [
            "10it [00:00, 1165.83it/s]\n"
          ]
        },
        {
          "output_type": "execute_result",
          "data": {
            "text/plain": [
              "[0.021786,\n",
              " 0.023369,\n",
              " 0.032823,\n",
              " 0.019985,\n",
              " 0.01388,\n",
              " 0.016827,\n",
              " 0.018896,\n",
              " 0.021409,\n",
              " 0.024646,\n",
              " 0.018688]"
            ]
          },
          "metadata": {},
          "execution_count": 114
        }
      ]
    },
    {
      "cell_type": "code",
      "metadata": {
        "id": "xvxgknDI8NGQ",
        "outputId": "49f4e381-1f53-41d9-ea1b-13334722749b"
      },
      "source": [
        "print(LowerB_Updt, AvgMRR_Updt, UpperB_Updt)\n",
        "print(\"Average MRR: \",AvgMRR_Updt)"
      ],
      "execution_count": 115,
      "outputs": [
        {
          "output_type": "stream",
          "name": "stdout",
          "text": [
            "0.017553 0.021231 0.024908\nAverage MRR:  0.021231\n"
          ]
        }
      ]
    },
    {
      "cell_type": "code",
      "metadata": {
        "id": "Kcme4SUDp0UO"
      },
      "source": [],
      "execution_count": null,
      "outputs": []
    },
    {
      "cell_type": "markdown",
      "metadata": {
        "id": "NViCcctzqDX0"
      },
      "source": [
        "### RegPSI_MRR"
      ]
    },
    {
      "cell_type": "code",
      "metadata": {
        "id": "QiUIA7jglb2c",
        "outputId": "8ca95a94-c146-4519-95b6-bbe6b9d4289e"
      },
      "source": [
        "##MRR: \n",
        "mrr_psi_1st = MRR_Eval(newHOLDOUT_LIST[0],Top10Pred_psi,'Updated_ItemID')\n",
        "print(\"1st Step MRR: \",mrr_psi_1st)"
      ],
      "execution_count": 116,
      "outputs": [
        {
          "output_type": "stream",
          "name": "stdout",
          "text": [
            "1st Step MRR:  0.021684038422235846\n"
          ]
        }
      ]
    },
    {
      "cell_type": "code",
      "metadata": {
        "id": "lHlCnS9t8NGt",
        "outputId": "359894ce-1a44-4294-fc09-eb36ce23e040"
      },
      "source": [
        "psi_AllStepsMRR, psi_LowerB, psi_AvgMRR, psi_UpperB  = TQDMgetAll_MRR_Eval(newHOLDOUT_LIST,All_regPSI_PRED,'Updated_ItemID')\n",
        "psi_AllStepsMRR    ##Rank ==20"
      ],
      "execution_count": 117,
      "outputs": [
        {
          "output_type": "stream",
          "name": "stderr",
          "text": [
            "10it [00:00, 1066.36it/s]\n"
          ]
        },
        {
          "output_type": "execute_result",
          "data": {
            "text/plain": [
              "[0.021684,\n",
              " 0.024197,\n",
              " 0.031262,\n",
              " 0.020147,\n",
              " 0.014692,\n",
              " 0.017142,\n",
              " 0.019946,\n",
              " 0.021279,\n",
              " 0.023715,\n",
              " 0.020008]"
            ]
          },
          "metadata": {},
          "execution_count": 117
        }
      ]
    },
    {
      "cell_type": "code",
      "metadata": {
        "id": "-V-t5JQ68NGu",
        "outputId": "9d506c1d-e490-4b15-d1fe-24f7296a79be"
      },
      "source": [
        "print(psi_LowerB, psi_AvgMRR, psi_UpperB)\n",
        "print(\"Average MRR: \",psi_AvgMRR)"
      ],
      "execution_count": 118,
      "outputs": [
        {
          "output_type": "stream",
          "name": "stdout",
          "text": [
            "0.018214 0.021407 0.0246\nAverage MRR:  0.021407\n"
          ]
        }
      ]
    },
    {
      "cell_type": "code",
      "metadata": {
        "id": "ZCXL-Upxrfcf"
      },
      "source": [],
      "execution_count": null,
      "outputs": []
    },
    {
      "cell_type": "markdown",
      "metadata": {
        "id": "0VF39Re9rg3C"
      },
      "source": [
        "### SVD_MRR"
      ]
    },
    {
      "cell_type": "code",
      "metadata": {
        "id": "2VNpJ3gc8NG-",
        "outputId": "5be82150-5b2a-40aa-f4a5-ac1c051917d3"
      },
      "source": [
        "##MRR: \n",
        "mrr_SVD_1st = MRR_Eval(newHOLDOUT_LIST[0],Top10Pred_SVD,'Updated_ItemID')\n",
        "print(\"1st Step MRR: \",mrr_SVD_1st)"
      ],
      "execution_count": 119,
      "outputs": [
        {
          "output_type": "stream",
          "name": "stdout",
          "text": [
            "1st Step MRR:  0.019473397370393077\n"
          ]
        }
      ]
    },
    {
      "cell_type": "code",
      "metadata": {
        "id": "Xxx66F3a8NG_",
        "outputId": "7e2a3c90-0b6d-4303-a498-94fafacfdf70"
      },
      "source": [
        "svd_AllStepsMRR, svd_LowerB, svd_AvgMRR, svd_UpperB  = TQDMgetAll_MRR_Eval(newHOLDOUT_LIST,AllSVD_topNPRED,'Updated_ItemID')\n",
        "svd_AllStepsMRR    ####Rank ==20"
      ],
      "execution_count": 120,
      "outputs": [
        {
          "output_type": "stream",
          "name": "stderr",
          "text": [
            "10it [00:00, 837.10it/s]\n"
          ]
        },
        {
          "output_type": "execute_result",
          "data": {
            "text/plain": [
              "[0.019473,\n",
              " 0.023609,\n",
              " 0.035299,\n",
              " 0.020142,\n",
              " 0.017286,\n",
              " 0.017076,\n",
              " 0.024127,\n",
              " 0.020408,\n",
              " 0.025603,\n",
              " 0.016128]"
            ]
          },
          "metadata": {},
          "execution_count": 120
        }
      ]
    },
    {
      "cell_type": "code",
      "metadata": {
        "id": "CdIKor9yrnkW"
      },
      "source": [
        " print(svd_LowerB, svd_AvgMRR, svd_UpperB )"
      ],
      "execution_count": 121,
      "outputs": [
        {
          "output_type": "stream",
          "name": "stdout",
          "text": [
            "0.017853 0.021915 0.025977\n"
          ]
        }
      ]
    },
    {
      "cell_type": "markdown",
      "metadata": {
        "id": "R9brrLc1q8RZ"
      },
      "source": [
        "### RRec_MRR"
      ]
    },
    {
      "cell_type": "code",
      "metadata": {
        "id": "2f566w7D8NHa",
        "outputId": "d1444399-0394-4490-c971-48d9a8b60221"
      },
      "source": [
        "RRec_AllStepsMRR, RRec_LowB, RRec_Avg_MRR, RRec_UppB = getAll_RandomRecMRR(newHOLDOUT_LIST,All_UsersRRecPred,'Updated_UserID','Updated_ItemID')\n",
        "RRec_AllStepsMRR"
      ],
      "execution_count": 147,
      "outputs": [
        {
          "output_type": "stream",
          "name": "stderr",
          "text": [
            "10it [00:00, 511.28it/s]\n"
          ]
        },
        {
          "output_type": "execute_result",
          "data": {
            "text/plain": [
              "[0, 0, 0, 0, 0.00089, 0.001061, 0.000516, 0.00266, 0, 0.000345]"
            ]
          },
          "metadata": {},
          "execution_count": 147
        }
      ]
    },
    {
      "cell_type": "code",
      "execution_count": 148,
      "metadata": {},
      "outputs": [
        {
          "output_type": "stream",
          "name": "stdout",
          "text": [
            "-5.530737401062021e-05 0.0005472 0.00114970737401062\n"
          ]
        }
      ],
      "source": [
        "print(RRec_LowB, RRec_Avg_MRR, RRec_UppB )"
      ]
    },
    {
      "cell_type": "markdown",
      "metadata": {
        "id": "3jYTmPkgsL7r"
      },
      "source": [
        "### Mpop_MRR"
      ]
    },
    {
      "cell_type": "code",
      "metadata": {
        "id": "IQFQoOfF8NHu",
        "outputId": "a4574a8c-32a5-4479-e0db-61b516426f18"
      },
      "source": [
        "#MRR....\n",
        "                                    #getAll_MostPOP_MRR(HOLDOUT_list,All_MostPOPRED_List,user_column,item_column)\n",
        "Mpop_AllStepsMRR, Mpop_LowB, Mpop_AvgMRR, Mpop_UppB = getAll_MostPOP_MRR(newHOLDOUT_LIST,All_MostPOPRED_List,'Updated_UserID','Updated_ItemID')\n",
        "Mpop_AllStepsMRR"
      ],
      "execution_count": 149,
      "outputs": [
        {
          "output_type": "stream",
          "name": "stderr",
          "text": [
            "10it [00:00, 611.72it/s]\n"
          ]
        },
        {
          "output_type": "execute_result",
          "data": {
            "text/plain": [
              "[0.006521220791607057,\n",
              " 0.012324929971988795,\n",
              " 0.01705516705516705,\n",
              " 0.002542764678687009,\n",
              " 0.026788258038258038,\n",
              " 0.05003922988713864,\n",
              " 0.045606521138436024,\n",
              " 0.02277271192164809,\n",
              " 0.02058761694523284,\n",
              " 0.007988029465930017]"
            ]
          },
          "metadata": {},
          "execution_count": 149
        }
      ]
    },
    {
      "cell_type": "code",
      "metadata": {
        "id": "F8sooK_TCywX"
      },
      "source": [
        "print( Mpop_LowB, Mpop_AvgMRR, Mpop_UppB )"
      ],
      "execution_count": 150,
      "outputs": [
        {
          "output_type": "stream",
          "name": "stdout",
          "text": [
            "0.009798034485784535 0.021222644989409355 0.032647255493034176\n"
          ]
        }
      ]
    },
    {
      "cell_type": "markdown",
      "metadata": {
        "id": "MqgUGRaeDD1a"
      },
      "source": [
        "### IALS_MRR"
      ]
    },
    {
      "cell_type": "code",
      "metadata": {
        "id": "NM0Bqs_psQio"
      },
      "source": [
        "##mrr\n",
        "#als_AllStepsHitR_, als_LBand, als_AvgHitR, als_UBand \n",
        "als_AllStepsMRR, als_LBand, als_AvgMRR, als_UBand  = TQDMgetAll_MRR_Eval(newHOLDOUT_LIST,Allals_topNPRED,'Updated_ItemID')\n",
        "als_AllStepsMRR    "
      ],
      "execution_count": 153,
      "outputs": [
        {
          "output_type": "stream",
          "name": "stderr",
          "text": [
            "10it [00:00, 599.53it/s]\n"
          ]
        },
        {
          "output_type": "execute_result",
          "data": {
            "text/plain": [
              "[0.014209,\n",
              " 0.020552,\n",
              " 0.038903,\n",
              " 0.018688,\n",
              " 0.012292,\n",
              " 0.012772,\n",
              " 0.010984,\n",
              " 0.013956,\n",
              " 0.009436,\n",
              " 0.020242]"
            ]
          },
          "metadata": {},
          "execution_count": 153
        }
      ]
    },
    {
      "cell_type": "code",
      "execution_count": 154,
      "metadata": {},
      "outputs": [
        {
          "output_type": "stream",
          "name": "stdout",
          "text": [
            "0.011097 0.017203 0.02331\n"
          ]
        }
      ],
      "source": [
        "print(als_LBand, als_AvgMRR, als_UBand )"
      ]
    },
    {
      "cell_type": "markdown",
      "metadata": {
        "id": "9E5uZACqmdRw"
      },
      "source": [
        "## Coverage"
      ]
    },
    {
      "cell_type": "markdown",
      "metadata": {
        "id": "T_N9aVIdmiJw"
      },
      "source": [
        "### UpdtedPSI_COV"
      ]
    },
    {
      "cell_type": "code",
      "execution_count": null,
      "metadata": {},
      "outputs": [],
      "source": []
    },
    {
      "cell_type": "code",
      "metadata": {
        "id": "V6MBUBiw8NGX",
        "outputId": "7f06e0ee-9b91-4105-dd35-f7c70ddab502"
      },
      "source": [
        "StepCoverage_Ratio(newMLDF_1M,AllUsers_updtPRED[0],'Updated_ItemID')  "
      ],
      "execution_count": 122,
      "outputs": [
        {
          "output_type": "execute_result",
          "data": {
            "text/plain": [
              "0.152845"
            ]
          },
          "metadata": {},
          "execution_count": 122
        }
      ]
    },
    {
      "cell_type": "code",
      "metadata": {
        "id": "UWbQX8v-8NGY",
        "outputId": "ac300c20-57ab-40d8-ec3a-cfeedade9b95"
      },
      "source": [
        "UpdtAvg_Coverage_List = AllSteps_Coverage_Ratio(newMLDF_1M,AllUsers_updtPRED,'Updated_ItemID')\n",
        "UpdtAvg_Coverage_List  #Rank == 20"
      ],
      "execution_count": 123,
      "outputs": [
        {
          "output_type": "execute_result",
          "data": {
            "text/plain": [
              "[0.152845,\n",
              " 0.156524,\n",
              " 0.155392,\n",
              " 0.152279,\n",
              " 0.152279,\n",
              " 0.152845,\n",
              " 0.152562,\n",
              " 0.152845,\n",
              " 0.153694,\n",
              " 0.153411]"
            ]
          },
          "metadata": {},
          "execution_count": 123
        }
      ]
    },
    {
      "cell_type": "code",
      "metadata": {
        "id": "yLH8e0QZ8NGs"
      },
      "source": [],
      "execution_count": null,
      "outputs": []
    },
    {
      "cell_type": "markdown",
      "metadata": {
        "id": "1GSmfsOoqcSR"
      },
      "source": [
        "###RegPSI_COV"
      ]
    },
    {
      "cell_type": "code",
      "metadata": {
        "id": "4qGnS77i8NGx",
        "outputId": "c6276faf-3ed0-4205-a7c2-8e7333f6c869"
      },
      "source": [
        "psi_AvgCoverage_List = AllSteps_Coverage_Ratio(newMLDF_1M,AllUsersRegPIS_PRED,'Updated_ItemID')\n",
        "psi_AvgCoverage_List  #Rank ==20"
      ],
      "execution_count": 124,
      "outputs": [
        {
          "output_type": "execute_result",
          "data": {
            "text/plain": [
              "[0.155958,\n",
              " 0.15709,\n",
              " 0.155675,\n",
              " 0.155675,\n",
              " 0.156241,\n",
              " 0.158222,\n",
              " 0.158222,\n",
              " 0.158222,\n",
              " 0.158789,\n",
              " 0.156807]"
            ]
          },
          "metadata": {},
          "execution_count": 124
        }
      ]
    },
    {
      "cell_type": "code",
      "metadata": {
        "id": "-oVnc3FR_DfB"
      },
      "source": [],
      "execution_count": null,
      "outputs": []
    },
    {
      "cell_type": "markdown",
      "metadata": {
        "id": "6lEpxbMqoPdG"
      },
      "source": [
        "### SVD_COV\n"
      ]
    },
    {
      "cell_type": "code",
      "metadata": {
        "id": "o-7SsHoVo2gx",
        "outputId": "c6e6fb89-4de7-4ca6-8d1c-c8ebf340c15e"
      },
      "source": [
        "SVD_AvgCoverage_List = AllSteps_Coverage_Ratio(newMLDF_1M,AllUsersSVD_PRED,'Updated_ItemID')\n",
        "SVD_AvgCoverage_List  ##Rank == 20"
      ],
      "execution_count": 125,
      "outputs": [
        {
          "output_type": "execute_result",
          "data": {
            "text/plain": [
              "[0.155109,\n",
              " 0.155392,\n",
              " 0.154543,\n",
              " 0.155675,\n",
              " 0.158789,\n",
              " 0.157939,\n",
              " 0.15709,\n",
              " 0.157656,\n",
              " 0.158506,\n",
              " 0.155109]"
            ]
          },
          "metadata": {},
          "execution_count": 125
        }
      ]
    },
    {
      "cell_type": "code",
      "metadata": {
        "id": "Oxcy-gTkrRVG"
      },
      "source": [],
      "execution_count": null,
      "outputs": []
    },
    {
      "cell_type": "markdown",
      "metadata": {
        "id": "q5lllTOKrGZi"
      },
      "source": [
        "### RRec_COV"
      ]
    },
    {
      "cell_type": "code",
      "metadata": {
        "id": "DUFoVqur8NHb",
        "outputId": "da623733-8c91-4c52-d440-d610613648bf"
      },
      "source": [
        "##COVERAGE\n",
        "RRec_AvgCoverageList = AllSteps_Coverage_Ratio(newMLDF_1M,All_UsersRRecPred,'Updated_ItemID')\n",
        "RRec_AvgCoverageList"
      ],
      "execution_count": 161,
      "outputs": [
        {
          "output_type": "execute_result",
          "data": {
            "text/plain": [
              "[1.0, 1.0, 1.0, 1.0, 1.0, 1.0, 1.0, 1.0, 1.0, 1.0]"
            ]
          },
          "metadata": {},
          "execution_count": 161
        }
      ]
    },
    {
      "cell_type": "code",
      "metadata": {
        "id": "J2VTX-PBsUVL"
      },
      "source": [],
      "execution_count": null,
      "outputs": []
    },
    {
      "cell_type": "markdown",
      "metadata": {
        "id": "TQEA5_2msUjM"
      },
      "source": [
        "### Mpop_COV"
      ]
    },
    {
      "cell_type": "code",
      "metadata": {
        "id": "LcCzVhcD8NHv",
        "outputId": "804e1087-609c-4f93-8b8f-2a0c926cf0a5"
      },
      "source": [
        "##COVERAGE\n",
        "MPop_AvgCoverageList = AllSteps_Coverage_Ratio(newMLDF_1M,All_MostPOPRED_List,'Updated_ItemID')\n",
        "MPop_AvgCoverageList"
      ],
      "execution_count": 162,
      "outputs": [
        {
          "output_type": "execute_result",
          "data": {
            "text/plain": [
              "[0.00283,\n",
              " 0.00283,\n",
              " 0.00283,\n",
              " 0.00283,\n",
              " 0.00283,\n",
              " 0.00283,\n",
              " 0.00283,\n",
              " 0.00283,\n",
              " 0.00283,\n",
              " 0.00283]"
            ]
          },
          "metadata": {},
          "execution_count": 162
        }
      ]
    },
    {
      "cell_type": "code",
      "metadata": {
        "id": "wLBSI-B3C6NG"
      },
      "source": [],
      "execution_count": null,
      "outputs": []
    },
    {
      "cell_type": "markdown",
      "metadata": {
        "id": "kfmr9AFQC6tA"
      },
      "source": [
        "### IALS_COV"
      ]
    },
    {
      "cell_type": "code",
      "metadata": {
        "id": "U0VvTDfJC11T"
      },
      "source": [
        "###cOVERAGE:\n",
        "als_AvgCovList = AllSteps_Coverage_Ratio(newMLDF_1M,All_alsPRED_List,'Updated_ItemID')\n",
        "als_AvgCovList"
      ],
      "execution_count": 163,
      "outputs": [
        {
          "output_type": "execute_result",
          "data": {
            "text/plain": [
              "[0.461364,\n",
              " 0.461647,\n",
              " 0.46193,\n",
              " 0.462213,\n",
              " 0.46278,\n",
              " 0.463063,\n",
              " 0.463063,\n",
              " 0.463063,\n",
              " 0.464195,\n",
              " 0.464478]"
            ]
          },
          "metadata": {},
          "execution_count": 163
        }
      ]
    },
    {
      "cell_type": "code",
      "metadata": {
        "id": "q2oT8wMP8NG_"
      },
      "source": [
        "## AllSVD Prediction"
      ],
      "execution_count": null,
      "outputs": []
    },
    {
      "cell_type": "markdown",
      "metadata": {
        "id": "00phYsByS9Oq"
      },
      "source": [
        "## CORRELATION Report\n"
      ]
    },
    {
      "cell_type": "code",
      "metadata": {
        "id": "YpmeR79n8NHC"
      },
      "source": [],
      "execution_count": null,
      "outputs": []
    },
    {
      "cell_type": "code",
      "metadata": {
        "colab": {
          "base_uri": "https://localhost:8080/"
        },
        "id": "UkFqDvcW_Amh",
        "outputId": "5ab6a0c0-723f-4ae3-a451-b5db08df1ca0"
      },
      "source": [
        "AllSteps = list(range(1,10))\n",
        "print(len(AllSteps))\n",
        "print(len(AllUsers_updtPRED))\n",
        "AllSteps"
      ],
      "execution_count": 126,
      "outputs": [
        {
          "output_type": "stream",
          "name": "stdout",
          "text": [
            "9\n10\n"
          ]
        },
        {
          "output_type": "execute_result",
          "data": {
            "text/plain": [
              "[1, 2, 3, 4, 5, 6, 7, 8, 9]"
            ]
          },
          "metadata": {},
          "execution_count": 126
        }
      ]
    },
    {
      "cell_type": "markdown",
      "metadata": {
        "id": "4GLHnKJViAHo"
      },
      "source": [
        "####  Updated_Corr "
      ]
    },
    {
      "cell_type": "code",
      "execution_count": null,
      "metadata": {},
      "outputs": [],
      "source": [
        "#newHOLDOUT_LIST  newUserItem_list new_PSIDFlist newMLDF_1M"
      ]
    },
    {
      "cell_type": "code",
      "metadata": {
        "colab": {
          "base_uri": "https://localhost:8080/"
        },
        "id": "QlTrlJKrNwRC",
        "outputId": "48d55153-12ed-4742-be38-3beb3266a589"
      },
      "source": [
        "UpdtPSICorr_ = Updt_getAll_AvgCorr(AllUsers_updtPRED,newUserItem_list,AllSteps,'Updated_UserID')  #,\n",
        "UpdtPSICorr_"
      ],
      "execution_count": 127,
      "outputs": [
        {
          "output_type": "execute_result",
          "data": {
            "text/plain": [
              "array([array([0.97749498, 1.        , 0.98387314, ..., 0.76346912, 0.77748344,\n",
              "              0.93752461])                                                    ,\n",
              "       array([1.        , 1.        , 0.80641214, ..., 0.89742931, 0.98788042,\n",
              "              0.83310567])                                                    ,\n",
              "       array([1.        , 0.93397092, 0.8923215 , ..., 0.97749498, 0.0820994 ,\n",
              "              0.49579491])                                                    ,\n",
              "       array([1.        , 1.        , 1.        , ..., 0.8923215 , 1.        ,\n",
              "              0.26365348])                                                    ,\n",
              "       array([1.        , 1.        , 1.        , ..., 1.        , 1.        ,\n",
              "              0.91192851])                                                    ,\n",
              "       array([1.        , 1.        , 1.        , ..., 1.        , 1.        ,\n",
              "              0.49141241])                                                    ,\n",
              "       array([0.98387314, 1.        , 1.        , ..., 1.        , 0.62971958,\n",
              "              0.04199901])                                                    ,\n",
              "       array([0.4539545 , 1.        , 1.        , ..., 0.21268381, 0.25837525,\n",
              "              1.        ])                                                    ,\n",
              "       array([0.98387314, 1.        , 1.        , ..., 0.49412955, 1.        ,\n",
              "              0.55422194])                                                    ],\n",
              "      dtype=object)"
            ]
          },
          "metadata": {},
          "execution_count": 127
        }
      ]
    },
    {
      "cell_type": "code",
      "metadata": {
        "colab": {
          "base_uri": "https://localhost:8080/"
        },
        "id": "Ms8Nj-1ndBAG",
        "outputId": "744e9e7a-12fa-4919-a992-faa64d30e9b2"
      },
      "source": [
        "UpdtPSICorr_.shape  ##Raank ==20\n",
        "for df in UpdtPSICorr_:\n",
        "    print(df.mean())  "
      ],
      "execution_count": 128,
      "outputs": [
        {
          "output_type": "stream",
          "name": "stdout",
          "text": [
            "0.9620970285062926\n0.9607216348825189\n0.9630551961242444\n0.9765954882468535\n0.9731713720756313\n0.9750155671598835\n0.9723693530189954\n0.9754953602840869\n0.9769391266876223\n"
          ]
        }
      ]
    },
    {
      "cell_type": "code",
      "metadata": {
        "id": "PhfkO3EcJN5W"
      },
      "source": [],
      "execution_count": null,
      "outputs": []
    },
    {
      "cell_type": "markdown",
      "metadata": {
        "id": "s19yQCNaTxSL"
      },
      "source": [
        "#### RegPSI Corr_"
      ]
    },
    {
      "cell_type": "code",
      "metadata": {
        "colab": {
          "base_uri": "https://localhost:8080/"
        },
        "id": "5jPXwk8KTxS9",
        "outputId": "c3ed416c-2aab-4494-b731-b57f7a837dd8"
      },
      "source": [
        "RegPSICorr_ = Updt_getAll_AvgCorr(AllUsersRegPIS_PRED,newUserItem_list,AllSteps,'Updated_UserID')  #,\n",
        "RegPSICorr_"
      ],
      "execution_count": 129,
      "outputs": [
        {
          "output_type": "execute_result",
          "data": {
            "text/plain": [
              "array([array([1.        , 1.        , 0.87787813, ..., 0.80884696, 0.78198938,\n",
              "              0.87549231])                                                    ,\n",
              "       array([0.93397092, 0.93397092, 0.88724111, ..., 0.89742931, 0.9804132 ,\n",
              "              0.83310567])                                                    ,\n",
              "       array([1.        , 0.91291953, 0.98788042, ..., 0.90428277, 0.07988296,\n",
              "              0.49579491])                                                    ,\n",
              "       array([0.93752461, 0.93397092, 0.97458534, ..., 1.        , 0.98788042,\n",
              "              0.26063194])                                                    ,\n",
              "       array([0.94467132, 0.97749498, 0.87787813, ..., 0.70836709, 1.        ,\n",
              "              0.9226361 ])                                                    ,\n",
              "       array([0.98307362, 1.        , 0.85242816, ..., 1.        , 1.        ,\n",
              "              0.51669578])                                                    ,\n",
              "       array([0.98307362, 1.        , 0.87716175, ..., 0.87477775, 0.62469734,\n",
              "              0.04199901])                                                    ,\n",
              "       array([0.47841763, 1.        , 0.98307362, ..., 0.26701571, 0.25837525,\n",
              "              1.        ])                                                    ,\n",
              "       array([1.        , 0.98788042, 0.84825341, ..., 0.47531481, 1.        ,\n",
              "              0.54059695])                                                    ],\n",
              "      dtype=object)"
            ]
          },
          "metadata": {},
          "execution_count": 129
        }
      ]
    },
    {
      "cell_type": "code",
      "execution_count": null,
      "metadata": {},
      "outputs": [],
      "source": []
    },
    {
      "cell_type": "code",
      "metadata": {
        "colab": {
          "base_uri": "https://localhost:8080/"
        },
        "id": "7Jw6LVmFTxTC",
        "outputId": "38745d49-00dd-4f61-c7d0-78bc0f17010f"
      },
      "source": [
        "RegPSICorr_.shape   ##Rank ==20\n",
        "for df in RegPSICorr_:\n",
        "    print(df.mean())  "
      ],
      "execution_count": 130,
      "outputs": [
        {
          "output_type": "stream",
          "name": "stdout",
          "text": [
            "0.9599783547670391\n0.9606047528373529\n0.956993887099318\n0.944814578108829\n0.9431241776247598\n0.9441558231795784\n0.9412947863264628\n0.9473987669946528\n0.9513248035619233\n"
          ]
        }
      ]
    },
    {
      "cell_type": "code",
      "metadata": {
        "id": "O1ZQgxN2TxTF"
      },
      "source": [],
      "execution_count": null,
      "outputs": []
    },
    {
      "cell_type": "markdown",
      "metadata": {
        "id": "yfOZLbLYuqpn"
      },
      "source": [
        "#### SVD Corr_"
      ]
    },
    {
      "cell_type": "code",
      "metadata": {
        "colab": {
          "base_uri": "https://localhost:8080/"
        },
        "id": "B6Dik3BEvZDE",
        "outputId": "133b7aeb-06be-4e8c-defd-8c5e80bbca0a"
      },
      "source": [
        "pureSVDCorr_ = Updt_getAll_AvgCorr(AllUsersSVD_PRED,newUserItem_list,AllSteps,'Updated_UserID')  #,\n",
        "pureSVDCorr_"
      ],
      "execution_count": 131,
      "outputs": [
        {
          "output_type": "execute_result",
          "data": {
            "text/plain": [
              "array([array([1.        , 1.        , 0.92439056, ..., 0.80884696, 0.72453271,\n",
              "              0.84755945])                                                    ,\n",
              "       array([0.89816124, 0.98387314, 0.91391158, ..., 0.96721748, 1.        ,\n",
              "              0.88386932])                                                    ,\n",
              "       array([0.89816124, 0.98788042, 0.90428277, ..., 0.84594223, 0.06033616,\n",
              "              0.480939  ])                                                    ,\n",
              "       array([0.97749498, 0.97194764, 0.9711577 , ..., 0.91813929, 0.91391158,\n",
              "              0.26745085])                                                    ,\n",
              "       array([0.92514345, 0.8714503 , 0.86224297, ..., 0.84271627, 0.92514345,\n",
              "              0.85080241])                                                    ,\n",
              "       array([0.9804132 , 0.90330067, 0.8923215 , ..., 0.91019669, 0.91118591,\n",
              "              0.83242304])                                                    ,\n",
              "       array([0.9804132 , 0.9711577 , 0.86648122, ..., 0.91813929, 0.74162341,\n",
              "              0.01933435])                                                    ,\n",
              "       array([0.47841763, 0.97010543, 0.8923215 , ..., 0.27588591, 0.29072309,\n",
              "              0.97749498])                                                    ,\n",
              "       array([0.98788042, 0.92514345, 0.97194764, ..., 0.22151427, 0.93397092,\n",
              "              0.5388304 ])                                                    ],\n",
              "      dtype=object)"
            ]
          },
          "metadata": {},
          "execution_count": 131
        }
      ]
    },
    {
      "cell_type": "code",
      "metadata": {
        "colab": {
          "base_uri": "https://localhost:8080/"
        },
        "id": "ei8R6zjrvZDG",
        "outputId": "15f545fe-060f-49aa-cce9-b1b0b3e96fee"
      },
      "source": [
        "pureSVDCorr_.shape   #Rank ==20\n",
        "for df in pureSVDCorr_:\n",
        "    print(df.mean())  "
      ],
      "execution_count": 132,
      "outputs": [
        {
          "output_type": "stream",
          "name": "stdout",
          "text": [
            "0.9323322516589378\n0.9324193010339629\n0.9262582334143175\n0.8740615242956935\n0.8118970867704245\n0.8610486821761149\n0.8572816226862137\n0.916621474708931\n0.9169505447269858\n"
          ]
        }
      ]
    },
    {
      "cell_type": "code",
      "metadata": {
        "id": "RG9tvVXSvYaX"
      },
      "source": [],
      "execution_count": null,
      "outputs": []
    },
    {
      "cell_type": "markdown",
      "metadata": {
        "id": "xwHxO9FCrisT"
      },
      "source": [
        "### RRec_Corr "
      ]
    },
    {
      "cell_type": "code",
      "metadata": {
        "id": "3xq4aMTZ8NHc",
        "outputId": "21f01b8a-82ee-431c-f265-e14de586903e"
      },
      "source": [
        "RandRec_Corr = Updt_getAll_AvgCorr(All_UsersRRecPred,newUserItem_list,AllSteps,'Updated_UserID')  #,\n",
        "RandRec_Corr"
      ],
      "execution_count": 172,
      "outputs": [
        {
          "output_type": "execute_result",
          "data": {
            "text/plain": [
              "array([array([0., 0., 0., ..., 0., 0., 0.]),\n",
              "       array([0., 0., 0., ..., 0., 0., 0.]),\n",
              "       array([0.02928462, 0.        , 0.        , ..., 0.        , 0.        ,\n",
              "              0.        ])                                                    ,\n",
              "       array([0., 0., 0., ..., 0., 0., 0.]),\n",
              "       array([0., 0., 0., ..., 0., 0., 0.]),\n",
              "       array([0., 0., 0., ..., 0., 0., 0.]),\n",
              "       array([0.        , 0.01933435, 0.        , ..., 0.        , 0.        ,\n",
              "              0.        ])                                                    ,\n",
              "       array([0., 0., 0., ..., 0., 0., 0.]),\n",
              "       array([0., 0., 0., ..., 0., 0., 0.])], dtype=object)"
            ]
          },
          "metadata": {},
          "execution_count": 172
        }
      ]
    },
    {
      "cell_type": "code",
      "metadata": {
        "id": "yAYdhFex8NHd",
        "outputId": "f066b764-1806-419c-89cf-508e6e36f6eb"
      },
      "source": [
        "RandRec_Corr.shape\n",
        "for df in RandRec_Corr:\n",
        "    print(df.mean())  "
      ],
      "execution_count": 173,
      "outputs": [
        {
          "output_type": "stream",
          "name": "stdout",
          "text": [
            "0.0008539759501276988\n0.0009934460742910861\n0.0007693024931910824\n0.0010225318100066166\n0.0009904980277526095\n0.0010209302145753653\n0.0009490019932535105\n0.0007092371131026445\n0.0008256794136270756\n"
          ]
        }
      ]
    },
    {
      "cell_type": "code",
      "metadata": {
        "id": "YAou17RX8NHf"
      },
      "source": [],
      "execution_count": null,
      "outputs": []
    },
    {
      "cell_type": "markdown",
      "metadata": {
        "id": "3W-oNrd2s__2"
      },
      "source": [
        "### Mpop_Corr "
      ]
    },
    {
      "cell_type": "code",
      "metadata": {
        "colab": {
          "base_uri": "https://localhost:8080/"
        },
        "id": "CbzcieIu7oCt",
        "outputId": "5c7ee35e-baa8-4a5a-efbf-2f07298adec1"
      },
      "source": [
        "MPop_Corr = Updt_getAll_AvgCorr(All_MostPOPRED_List,newUserItem_list,AllSteps,'Updated_UserID')  #,\n",
        "MPop_Corr"
      ],
      "execution_count": 174,
      "outputs": [
        {
          "output_type": "execute_result",
          "data": {
            "text/plain": [
              "array([array([0.31650763, 0.31650763, 0.31650763, ..., 0.31650763, 0.31650763,\n",
              "              0.31650763])                                                    ,\n",
              "       array([0.3070657, 0.3070657, 0.3070657, ..., 0.3070657, 0.3070657,\n",
              "              0.3070657])                                                ,\n",
              "       array([0.20821738, 0.20821738, 0.20821738, ..., 0.20821738, 0.20821738,\n",
              "              0.20821738])                                                    ,\n",
              "       array([0.07736097, 0.07736097, 0.07736097, ..., 0.07736097, 0.07736097,\n",
              "              0.07736097])                                                    ,\n",
              "       array([0.13571319, 0.13571319, 0.13571319, ..., 0.13571319, 0.13571319,\n",
              "              0.13571319])                                                    ,\n",
              "       array([0.36811863, 0.36811863, 0.36811863, ..., 0.36811863, 0.36811863,\n",
              "              0.36811863])                                                    ,\n",
              "       array([0.44697118, 0.44697118, 0.44697118, ..., 0.44697118, 0.44697118,\n",
              "              0.44697118])                                                    ,\n",
              "       array([0.32967033, 0.32967033, 0.32967033, ..., 0.32967033, 0.32967033,\n",
              "              0.32967033])                                                    ,\n",
              "       array([0.09673105, 0.09673105, 0.09673105, ..., 0.09673105, 0.09673105,\n",
              "              0.09673105])                                                    ],\n",
              "      dtype=object)"
            ]
          },
          "metadata": {},
          "execution_count": 174
        }
      ]
    },
    {
      "cell_type": "code",
      "metadata": {
        "id": "aVz6areR8NH0",
        "outputId": "813e828e-7d5e-41f1-9c2b-02cdc99f9dbb"
      },
      "source": [
        "MPop_Corr.shape\n",
        "for df in MPop_Corr:\n",
        "    print(df.mean())  "
      ],
      "execution_count": 175,
      "outputs": [
        {
          "output_type": "stream",
          "name": "stdout",
          "text": [
            "0.3165076250780343\n0.30706569860102706\n0.20821738418726468\n0.07736096920157642\n0.13571318664409907\n0.36811862835959225\n0.44697118212115267\n0.3296703296703298\n0.09673105497771173\n"
          ]
        }
      ]
    },
    {
      "cell_type": "code",
      "metadata": {
        "id": "kvEzAs238NHt"
      },
      "source": [],
      "execution_count": null,
      "outputs": []
    },
    {
      "cell_type": "markdown",
      "metadata": {
        "id": "6a9Dpzf2Cqwk"
      },
      "source": [
        "### iALS_Corr "
      ]
    },
    {
      "cell_type": "code",
      "metadata": {
        "id": "zbx2IlID8NH1"
      },
      "source": [
        "iALSCorr_ = Updt_getAll_AvgCorr(All_alsPRED_List,newUserItem_list,AllSteps,'Updated_UserID')  #,\n",
        "iALSCorr_"
      ],
      "execution_count": 177,
      "outputs": [
        {
          "output_type": "execute_result",
          "data": {
            "text/plain": [
              "array([array([1., 1., 1., ..., 1., 1., 1.]),\n",
              "       array([1., 1., 1., ..., 1., 1., 1.]),\n",
              "       array([1.        , 1.        , 1.        , ..., 1.        , 0.09331951,\n",
              "              0.92690249])                                                    ,\n",
              "       array([1.        , 1.        , 1.        , ..., 1.        , 1.        ,\n",
              "              0.37129587])                                                    ,\n",
              "       array([1., 1., 1., ..., 1., 1., 1.]),\n",
              "       array([1., 1., 1., ..., 1., 1., 1.]),\n",
              "       array([0.7956453 , 1.        , 1.        , ..., 1.        , 0.87216233,\n",
              "              0.22760915])                                                    ,\n",
              "       array([1.        , 1.        , 1.        , ..., 0.33774354, 0.32513465,\n",
              "              1.        ])                                                    ,\n",
              "       array([1.        , 1.        , 1.        , ..., 0.20065067, 1.        ,\n",
              "              1.        ])                                                    ],\n",
              "      dtype=object)"
            ]
          },
          "metadata": {},
          "execution_count": 177
        }
      ]
    },
    {
      "cell_type": "code",
      "metadata": {
        "id": "gshLEV6neh4Y"
      },
      "source": [
        "iALSCorr_.shape\n",
        "for df in iALSCorr_:\n",
        "    print(df.mean())  "
      ],
      "execution_count": 178,
      "outputs": [
        {
          "output_type": "stream",
          "name": "stdout",
          "text": [
            "0.9971048936231008\n0.9969143594380959\n0.9949897448431629\n0.9913191513684101\n0.9912101538588354\n0.9914527632689101\n0.9910762558962544\n0.9928193550471222\n0.9938451223611917\n"
          ]
        }
      ]
    },
    {
      "cell_type": "markdown",
      "metadata": {
        "id": "MNzZxw2UtL8a"
      },
      "source": [
        "## Multi VAE"
      ]
    },
    {
      "cell_type": "markdown",
      "metadata": {
        "id": "jFLj9KfTGq4d"
      },
      "source": [
        "###Functions"
      ]
    },
    {
      "cell_type": "code",
      "metadata": {
        "id": "VpAzvqaY8NH2"
      },
      "source": [
        "from e_VAEfunction import split_users, split_train_test, numerize_data, get_TrainRatMat, getTrainTest_RatMat"
      ],
      "execution_count": 7,
      "outputs": []
    },
    {
      "cell_type": "code",
      "metadata": {
        "id": "zD4s8IY4DvsK"
      },
      "source": [
        "use_cuda = torch.cuda.is_available()\n",
        "device = torch.device(\"cuda\" if use_cuda else \"cpu\")"
      ],
      "execution_count": 13,
      "outputs": []
    },
    {
      "cell_type": "code",
      "metadata": {
        "id": "RIm6iBaE8NH5"
      },
      "source": [
        "class Encoder(nn.Module):\n",
        "    def __init__(self, q_dims, dropout):  ## q_dims: List[int], dropout: List[float]\n",
        "        super().__init__()\n",
        "\n",
        "        self.q_dims = q_dims\n",
        "        q_dims_ = self.q_dims[:-1] + [self.q_dims[-1] * 2]\n",
        "        self.q_layers = nn.Sequential()\n",
        "        for i, (p, inp, out) in enumerate(zip(dropout, q_dims_[:-1], q_dims_[1:])):\n",
        "            self.q_layers.add_module(\"_\".join([\"dropout\", str(i)]), nn.Dropout(p))\n",
        "            self.q_layers.add_module(\"_\".join([\"linear\", str(i)]), nn.Linear(inp, out))\n",
        "\n",
        "    def forward(self, X):\n",
        "        h = F.normalize(X, p=2, dim=1)\n",
        "        for i, layer in enumerate(self.q_layers):\n",
        "            h = layer(h)\n",
        "            if i != len(self.q_layers) - 1:\n",
        "                h = torch.tanh(h)\n",
        "            else:\n",
        "                mu, logvar = torch.split(h, self.q_dims[-1], dim=1)\n",
        "        return mu, logvar\n",
        "\n",
        "class Decoder(nn.Module):\n",
        "    def __init__(self, p_dims, dropout):  #p_dims: List[int], dropout: List[float]\n",
        "        super().__init__()\n",
        "\n",
        "        self.p_layers = nn.Sequential()\n",
        "        for i, (p, inp, out) in enumerate(zip(dropout, p_dims[:-1], p_dims[1:])):\n",
        "            self.p_layers.add_module(\"_\".join([\"dropout\", str(i)]), nn.Dropout(p))\n",
        "            self.p_layers.add_module(\"_\".join([\"linear\", str(i)]), nn.Linear(inp, out))\n",
        "\n",
        "    def forward(self, X):\n",
        "        h = X\n",
        "        for i, layer in enumerate(self.p_layers):\n",
        "            h = layer(h)\n",
        "            if i != len(self.p_layers) - 1:\n",
        "                h = torch.tanh(h)\n",
        "        return h\n",
        "\n",
        "\n",
        "class MultiVAE(nn.Module):\n",
        "    def __init__(self,p_dims,q_dims,dropout_enc,dropout_dec): #p_dims:List[int],q_dims:List[int],dropout_enc:List[float],dropout_dec:List[float], \n",
        "        super().__init__()\n",
        "        self.encode = Encoder(q_dims, dropout_enc)  #q_dims == Encoder dimensions\n",
        "        self.decode = Decoder(p_dims, dropout_dec)  #p_dims == Decoder dimensions\n",
        "\n",
        "    def forward(self, X):\n",
        "        mu, logvar = self.encode(X)\n",
        "        std = torch.exp(0.5 * logvar)\n",
        "        eps = torch.randn_like(std)\n",
        "        sampled_z = mu + float(self.training) * eps * std\n",
        "        return self.decode(sampled_z), mu, logvar        \n",
        "\n",
        "def vae_loss_fn(inp, out, mu, logvar, anneal):\n",
        "    neg_ll = -torch.mean(torch.sum(F.log_softmax(out, 1) * inp, -1))\n",
        "    KLD = -0.5 * torch.mean(torch.sum(1 + logvar - mu.pow(2) - logvar.exp(), dim=1))\n",
        "    return neg_ll + anneal * KLD\n",
        "\n",
        "\n",
        "def NDCG_binary_at_k_batch(X_pred, heldout_batch, k=100):\n",
        "    batch_users = X_pred.shape[0]\n",
        "    idx_topk_part = bn.argpartition(-X_pred, k, axis=1)\n",
        "    topk_part = X_pred[np.arange(batch_users)[:, np.newaxis], idx_topk_part[:, :k]]\n",
        "    idx_part = np.argsort(-topk_part, axis=1)\n",
        "    idx_topk = idx_topk_part[np.arange(batch_users)[:, np.newaxis], idx_part]\n",
        "\n",
        "    # build the discount template\n",
        "    tp = 1.0 / np.log2(np.arange(2, k + 2))\n",
        "    DCG = (heldout_batch[np.arange(batch_users)[:, np.newaxis], idx_topk].toarray() * tp).sum(axis=1)\n",
        "    IDCG = np.array([(tp[: min(n, k)]).sum() for n in heldout_batch.getnnz(axis=1)])\n",
        "    return DCG[IDCG > 0.0] / IDCG[IDCG > 0.0]\n",
        "\n",
        "#Recall = (Relevant_Items_Recommended in top-k)/(Relevant_Items)\n",
        "\n"
      ],
      "execution_count": 24,
      "outputs": []
    },
    {
      "cell_type": "code",
      "metadata": {
        "id": "0ODKCnro8NH6"
      },
      "source": [
        "def train_step(model, optimizer, data, epoch):\n",
        "    model.train()\n",
        "    running_loss = 0.0\n",
        "    global update_count\n",
        "    N = data.shape[0]\n",
        "    idxlist = list(range(N))\n",
        "    np.random.shuffle(idxlist)\n",
        "    training_steps = len(range(0, N, batch_size))   #training_steps\n",
        "    for batch_idx, start_idx in zip(range(training_steps), range(0, N, batch_size)):\n",
        "        end_idx = min(start_idx + batch_size, N)\n",
        "        X_inp = data[idxlist[start_idx:end_idx]]\n",
        "        X_inp = torch.FloatTensor(X_inp.toarray()).to(device)\n",
        "        if constant_anneal:\n",
        "            anneal = anneal_cap\n",
        "        else:\n",
        "            anneal = min(anneal_cap, update_count / total_anneal_steps)\n",
        "        update_count += 1\n",
        "        optimizer.zero_grad()\n",
        "        X_out, mu, logvar = model(X_inp)\n",
        "        loss = vae_loss_fn(X_inp, X_out, mu, logvar, anneal)\n",
        "        train_step.anneal = anneal\n",
        "        loss.backward()\n",
        "        optimizer.step()\n",
        "        running_loss += loss.item()\n",
        "        avg_loss = running_loss / (batch_idx + 1)\n",
        "        #t.set_postfix(loss=avg_loss)\n",
        "\n",
        "\n",
        "def eval_step(model,data_tr, data_te):\n",
        "    model.eval()\n",
        "    running_loss = 0.0\n",
        "    eval_idxlist = list(range(data_tr.shape[0]))\n",
        "    eval_N = data_tr.shape[0]\n",
        "    eval_steps = len(range(0, eval_N, batch_size))\n",
        "    n100_list, r20_list, r50_list = [], [], []\n",
        "    #with trange(eval_steps) as t:\n",
        "    with torch.no_grad():\n",
        "         for batch_idx, start_idx in zip(range(eval_steps), range(0, eval_N, batch_size)):\n",
        "             end_idx = min(start_idx + batch_size, eval_N)\n",
        "             X_tr = data_tr[eval_idxlist[start_idx:end_idx]]\n",
        "             X_te = data_te[eval_idxlist[start_idx:end_idx]]\n",
        "             X_tr_inp = torch.FloatTensor(X_tr.toarray()).to(device)\n",
        "\n",
        "             X_out, mu, logvar = model(X_tr_inp)\n",
        "             loss = vae_loss_fn(X_tr_inp, X_out, mu, logvar, train_step.anneal)\n",
        "             running_loss += loss.item()\n",
        "             avg_loss = running_loss / (batch_idx + 1)\n",
        "\n",
        "             #Exclude examples from training set\n",
        "             X_out = X_out.cpu().numpy()\n",
        "             X_out[X_tr.nonzero()] = -np.inf\n",
        "\n",
        "             n100 = NDCG_binary_at_k_batch(X_out, X_te, k=100)\n",
        "             r50 = Recall_at_k_batch(X_out, X_te, k=50)\n",
        "             #r20 = Recall_at_k_batch(X_out, X_te, k=20)\n",
        "\n",
        "             r50_list.append(r50)\n",
        "             n100_list.append(n100)\n",
        "             #r20_list.append(r20)\n",
        "                \n",
        "\n",
        "    n100_list = np.concatenate(n100_list)\n",
        "    r50_list = np.concatenate(r50_list)\n",
        "    #r20_list = np.concatenate(r20_list)\n",
        "    return avg_loss, np.mean(n100_list), np.mean(r50_list)  #, np.mean(r50_list)"
      ],
      "execution_count": 25,
      "outputs": []
    },
    {
      "cell_type": "code",
      "metadata": {
        "id": "-h7m0OUv8NH7"
      },
      "source": [
        "def getTot_annealSTeps(train_RatMat,batch_size,n_epochs,anneal_cap):\n",
        "    training_steps = len(range(0, train_RatMat.shape[0], batch_size))\n",
        "    try:\n",
        "       total_anneal_steps = (training_steps * (n_epochs - int(n_epochs * 0.2))) / anneal_cap  ##\n",
        "    except ZeroDivisionError:\n",
        "        assert (constant_anneal), \"if 'anneal_cap' is set to 0.0 'constant_anneal' must be set to 'True\"\n",
        "\n",
        "    return total_anneal_steps\n",
        "\n",
        "#############################################\n",
        "def early_stop(curr_value, best_value, stop_step, patience, score_fn='metric'):\n",
        "    if (score_fn == \"loss\" and curr_value <= best_value) or (score_fn == \"metric\" and curr_value >= best_value):\n",
        "        stop_step, best_value = 0, curr_value\n",
        "    else:\n",
        "        stop_step += 1\n",
        "    if stop_step >= patience:\n",
        "        print(\"Early stopping triggered. patience: {} log:{}\".format(patience, best_value))\n",
        "        stop = True\n",
        "    else:\n",
        "        stop = False\n",
        "    return best_value, stop_step, stop \n",
        "\n",
        "def init_weights(model):\n",
        "    for name, param in model.named_parameters():\n",
        "        if \"weight\" in name:\n",
        "            nn.init.xavier_uniform_(param.data)\n",
        "        elif \"bias\" in name:\n",
        "            param.data.normal_(std=0.001)\n",
        "  \n"
      ],
      "execution_count": 26,
      "outputs": []
    },
    {
      "cell_type": "code",
      "execution_count": 17,
      "metadata": {},
      "outputs": [],
      "source": [
        "def get_holdoutRatMat(Holdout_MATList,newHoldout_list):\n",
        "    HOLDOUT_MATList = []\n",
        "    for holdoutMAT, holdout_df in zip(Holdout_MATList,newHoldout_list):\n",
        "        heldout_users = holdout_df['Updated_UserID']\n",
        "        Holdout_Mat = holdoutMAT[heldout_users,:] \n",
        "        HOLDOUT_MATList.append(Holdout_Mat)\n",
        "    return  HOLDOUT_MATList\n",
        "\n",
        " "
      ]
    },
    {
      "cell_type": "markdown",
      "metadata": {
        "id": "kkiCVmawGzlA"
      },
      "source": [
        "### Data Import"
      ]
    },
    {
      "cell_type": "code",
      "metadata": {
        "id": "xycH9Ztu8NH8",
        "outputId": "22306792-bbde-4d7b-f9c9-b8663206f457"
      },
      "source": [
        "#MOVIElen_20M\n",
        "newMLDF_1M = pd.read_csv('/mnt/bulky/oolaleke/TDM_Dataset/ML_1M/MLDF1M_afterUpdt.csv.zip')\n",
        "newMLDF_1M['timestamp'] = pd.to_datetime(newMLDF_1M['timestamp']) \n",
        "print(newMLDF_1M.shape)   #userId_int\n",
        "print(newMLDF_1M.dtypes)\n",
        "newMLDF_1M.head()"
      ],
      "execution_count": 14,
      "outputs": [
        {
          "output_type": "stream",
          "name": "stdout",
          "text": [
            "(575281, 9)\nuserId_int                 int64\nmovieId_int                int64\nrating                     int64\ntimestamp         datetime64[ns]\nuserId                     int64\nproductId                  int64\ntimestamp_YM              object\nUpdated_UserID             int64\nUpdated_ItemID             int64\ndtype: object\n"
          ]
        },
        {
          "output_type": "execute_result",
          "data": {
            "text/plain": [
              "   userId_int  movieId_int  rating           timestamp  userId  productId  \\\n",
              "0        6040          858       1 2000-04-25 23:05:32       0          0   \n",
              "1        6040         2384       1 2000-04-25 23:05:54       0          1   \n",
              "2        6040          593       1 2000-04-25 23:05:54       0          2   \n",
              "3        6040         1961       1 2000-04-25 23:06:17       0          3   \n",
              "4        6040         2019       1 2000-04-25 23:06:17       0          4   \n",
              "\n",
              "  timestamp_YM  Updated_UserID  Updated_ItemID  \n",
              "0      2000-04               0               0  \n",
              "1      2000-04               0               1  \n",
              "2      2000-04               0               2  \n",
              "3      2000-04               0               3  \n",
              "4      2000-04               0               4  "
            ],
            "text/html": "<div>\n<style scoped>\n    .dataframe tbody tr th:only-of-type {\n        vertical-align: middle;\n    }\n\n    .dataframe tbody tr th {\n        vertical-align: top;\n    }\n\n    .dataframe thead th {\n        text-align: right;\n    }\n</style>\n<table border=\"1\" class=\"dataframe\">\n  <thead>\n    <tr style=\"text-align: right;\">\n      <th></th>\n      <th>userId_int</th>\n      <th>movieId_int</th>\n      <th>rating</th>\n      <th>timestamp</th>\n      <th>userId</th>\n      <th>productId</th>\n      <th>timestamp_YM</th>\n      <th>Updated_UserID</th>\n      <th>Updated_ItemID</th>\n    </tr>\n  </thead>\n  <tbody>\n    <tr>\n      <th>0</th>\n      <td>6040</td>\n      <td>858</td>\n      <td>1</td>\n      <td>2000-04-25 23:05:32</td>\n      <td>0</td>\n      <td>0</td>\n      <td>2000-04</td>\n      <td>0</td>\n      <td>0</td>\n    </tr>\n    <tr>\n      <th>1</th>\n      <td>6040</td>\n      <td>2384</td>\n      <td>1</td>\n      <td>2000-04-25 23:05:54</td>\n      <td>0</td>\n      <td>1</td>\n      <td>2000-04</td>\n      <td>0</td>\n      <td>1</td>\n    </tr>\n    <tr>\n      <th>2</th>\n      <td>6040</td>\n      <td>593</td>\n      <td>1</td>\n      <td>2000-04-25 23:05:54</td>\n      <td>0</td>\n      <td>2</td>\n      <td>2000-04</td>\n      <td>0</td>\n      <td>2</td>\n    </tr>\n    <tr>\n      <th>3</th>\n      <td>6040</td>\n      <td>1961</td>\n      <td>1</td>\n      <td>2000-04-25 23:06:17</td>\n      <td>0</td>\n      <td>3</td>\n      <td>2000-04</td>\n      <td>0</td>\n      <td>3</td>\n    </tr>\n    <tr>\n      <th>4</th>\n      <td>6040</td>\n      <td>2019</td>\n      <td>1</td>\n      <td>2000-04-25 23:06:17</td>\n      <td>0</td>\n      <td>4</td>\n      <td>2000-04</td>\n      <td>0</td>\n      <td>4</td>\n    </tr>\n  </tbody>\n</table>\n</div>"
          },
          "metadata": {},
          "execution_count": 14
        }
      ]
    },
    {
      "cell_type": "code",
      "execution_count": 15,
      "metadata": {},
      "outputs": [
        {
          "output_type": "execute_result",
          "data": {
            "text/plain": [
              "6038"
            ]
          },
          "metadata": {},
          "execution_count": 15
        }
      ],
      "source": [
        "newMLDF_1M['Updated_UserID'].nunique()"
      ]
    },
    {
      "cell_type": "code",
      "execution_count": 16,
      "metadata": {},
      "outputs": [],
      "source": [
        "import pickle\n",
        "\n",
        "with open('/mnt/bulky/oolaleke/TDM_Dataset/ML_1M/MLDF1M_newHoldout.pkl', 'rb') as f:\n",
        "     newHoldout_list = pickle.load(f)     \n",
        "    \n",
        "with open('/mnt/bulky/oolaleke/TDM_Dataset/ML_1M/MLDF1M_newUserItem.pkl', 'rb') as f:\n",
        "     newUserItem_list = pickle.load(f)\n",
        "\n"
      ]
    },
    {
      "cell_type": "code",
      "execution_count": 21,
      "metadata": {},
      "outputs": [
        {
          "output_type": "stream",
          "name": "stdout",
          "text": [
            "10\n"
          ]
        },
        {
          "output_type": "execute_result",
          "data": {
            "text/plain": [
              "[<6038x3533 sparse matrix of type '<class 'numpy.float64'>'\n",
              " \twith 500332 stored elements in Compressed Sparse Row format>,\n",
              " <6038x3533 sparse matrix of type '<class 'numpy.float64'>'\n",
              " \twith 508812 stored elements in Compressed Sparse Row format>,\n",
              " <6038x3533 sparse matrix of type '<class 'numpy.float64'>'\n",
              " \twith 517278 stored elements in Compressed Sparse Row format>,\n",
              " <6038x3533 sparse matrix of type '<class 'numpy.float64'>'\n",
              " \twith 525757 stored elements in Compressed Sparse Row format>,\n",
              " <6038x3533 sparse matrix of type '<class 'numpy.float64'>'\n",
              " \twith 534098 stored elements in Compressed Sparse Row format>,\n",
              " <6038x3533 sparse matrix of type '<class 'numpy.float64'>'\n",
              " \twith 542538 stored elements in Compressed Sparse Row format>,\n",
              " <6038x3533 sparse matrix of type '<class 'numpy.float64'>'\n",
              " \twith 551048 stored elements in Compressed Sparse Row format>,\n",
              " <6038x3533 sparse matrix of type '<class 'numpy.float64'>'\n",
              " \twith 559597 stored elements in Compressed Sparse Row format>,\n",
              " <6038x3533 sparse matrix of type '<class 'numpy.float64'>'\n",
              " \twith 568114 stored elements in Compressed Sparse Row format>,\n",
              " <6038x3533 sparse matrix of type '<class 'numpy.float64'>'\n",
              " \twith 574919 stored elements in Compressed Sparse Row format>]"
            ]
          },
          "metadata": {},
          "execution_count": 21
        }
      ],
      "source": [
        "rows_i = newMLDF_1M['Updated_UserID'].nunique()\n",
        "cols_i = newMLDF_1M['Updated_ItemID'].nunique()\n",
        "UserItem_MATList = AllRatingMatrices(newUserItem_list,'Updated_UserID','Updated_ItemID',rows_i ,cols_i) \n",
        "print(len(UserItem_MATList))   \n",
        "UserItem_MATList"
      ]
    },
    {
      "cell_type": "code",
      "execution_count": 22,
      "metadata": {},
      "outputs": [
        {
          "output_type": "stream",
          "name": "stdout",
          "text": [
            "10\n"
          ]
        },
        {
          "output_type": "execute_result",
          "data": {
            "text/plain": [
              "[<233x3533 sparse matrix of type '<class 'numpy.float64'>'\n",
              " \twith 233 stored elements in Compressed Sparse Row format>,\n",
              " <255x3533 sparse matrix of type '<class 'numpy.float64'>'\n",
              " \twith 255 stored elements in Compressed Sparse Row format>,\n",
              " <286x3533 sparse matrix of type '<class 'numpy.float64'>'\n",
              " \twith 286 stored elements in Compressed Sparse Row format>,\n",
              " <309x3533 sparse matrix of type '<class 'numpy.float64'>'\n",
              " \twith 309 stored elements in Compressed Sparse Row format>,\n",
              " <468x3533 sparse matrix of type '<class 'numpy.float64'>'\n",
              " \twith 468 stored elements in Compressed Sparse Row format>,\n",
              " <526x3533 sparse matrix of type '<class 'numpy.float64'>'\n",
              " \twith 526 stored elements in Compressed Sparse Row format>,\n",
              " <517x3533 sparse matrix of type '<class 'numpy.float64'>'\n",
              " \twith 517 stored elements in Compressed Sparse Row format>,\n",
              " <470x3533 sparse matrix of type '<class 'numpy.float64'>'\n",
              " \twith 470 stored elements in Compressed Sparse Row format>,\n",
              " <453x3533 sparse matrix of type '<class 'numpy.float64'>'\n",
              " \twith 453 stored elements in Compressed Sparse Row format>,\n",
              " <362x3533 sparse matrix of type '<class 'numpy.float64'>'\n",
              " \twith 362 stored elements in Compressed Sparse Row format>]"
            ]
          },
          "metadata": {},
          "execution_count": 22
        }
      ],
      "source": [
        "holdout_MATList_1 = AllRatingMatrices(newHoldout_list,'Updated_UserID','Updated_ItemID',rows_i ,cols_i) \n",
        "\n",
        "HOLDOUT_MATList = get_holdoutRatMat(holdout_MATList_1,newHoldout_list)\n",
        "print(len(HOLDOUT_MATList))   \n",
        "HOLDOUT_MATList  "
      ]
    },
    {
      "cell_type": "code",
      "execution_count": null,
      "metadata": {},
      "outputs": [],
      "source": []
    },
    {
      "cell_type": "code",
      "execution_count": 32,
      "metadata": {},
      "outputs": [],
      "source": [
        "def topN_Index(a, n):\n",
        "    parted = np.argpartition(a, -n)[-n:]\n",
        "    return parted[np.argsort(-a[parted])]  \n",
        "\n",
        "def getall_UsersPred(model,data_tr,batch_size,k=10):\n",
        "    model.eval()\n",
        "    running_loss = 0.0\n",
        "    eval_idxlist = list(range(data_tr.shape[0]))\n",
        "    eval_N = data_tr.shape[0]\n",
        "    eval_steps = len(range(0, eval_N, batch_size))\n",
        "    n100_list, hr10_list, mrr10_list = [], [], []\n",
        "    users_pred = []\n",
        "    with torch.no_grad():\n",
        "         for batch_idx, start_idx in zip(range(eval_steps), range(0, eval_N, batch_size)):\n",
        "             end_idx = min(start_idx + batch_size, eval_N)\n",
        "             X_tr = data_tr[eval_idxlist[start_idx:end_idx]]\n",
        "             X_tr_inp = torch.FloatTensor(X_tr.toarray()).to(device)\n",
        "             #Make pred:    \n",
        "             X_out, mu, logvar = model(X_tr_inp)\n",
        "             X_out = X_out.cpu().numpy()        \n",
        "             topN_pred = np.apply_along_axis(topN_Index, 1, X_out,n = 10)     \n",
        "             users_pred.append(topN_pred)        \n",
        "         AllUserPRED = np.vstack(users_pred)\n",
        "         \n",
        "    return AllUserPRED \n",
        " \n",
        "\n",
        "   #getmetrics_(model_,holdout_Mat,holdout_df,batch_size=holdout_Mat.shape[0],k)\n",
        "def getmetrics_(model,data_tr,holdout_df,batch_size,k=10):\n",
        "    model.eval()\n",
        "    running_loss = 0.0\n",
        "    eval_idxlist = list(range(data_tr.shape[0]))\n",
        "    eval_N = data_tr.shape[0]\n",
        "    eval_steps = len(range(0, eval_N, batch_size))\n",
        "    n100_list, hr10_list, mrr10_list = [], [], []\n",
        "    users_pred = []\n",
        "    with torch.no_grad():\n",
        "         for batch_idx, start_idx in zip(range(eval_steps), range(0, eval_N, batch_size)):\n",
        "             end_idx = min(start_idx + batch_size, eval_N)\n",
        "             X_tr = data_tr[eval_idxlist[start_idx:end_idx]]\n",
        "             X_tr_inp = torch.FloatTensor(X_tr.toarray()).to(device)\n",
        "             #Make pred:    \n",
        "             X_out, mu, logvar = model(X_tr_inp)\n",
        "             X_out = X_out.cpu().numpy()        \n",
        "             #topN_pred = TopNPred(holdout_df,X_out,k)\n",
        "             topN_pred = np.apply_along_axis(topN_Index, 1, X_out,n = k)     \n",
        "             users_pred.append(topN_pred)        \n",
        "         AllUserPRED = np.vstack(users_pred)\n",
        "    hr_value = Hitrate_Eval(holdout_df,AllUserPRED,'Updated_UserID','Updated_ItemID')   \n",
        "    mrr_value = MRR_Eval(holdout_df,AllUserPRED,'Updated_ItemID') \n",
        "    return hr_value,mrr_value     \n",
        "\n",
        "def singlestep_predEval(model_,UserItemMat,holdout_Mat,holdout_df,pred_BS,n_epoch,k=10):\n",
        "    for epoch in range(n_epoch):\n",
        "        train_step(model_, optimizer, UserItemMat, epoch)\n",
        "    \n",
        "    hr10,mrr10 = getmetrics_(model_,holdout_Mat,holdout_df,holdout_Mat.shape[0],k)\n",
        "    allUserPRED = getall_UsersPred(model_,UserItemMat,pred_BS,k)\n",
        "    return  hr10,mrr10,allUserPRED\n",
        "\n",
        "def Allsteps_predEval(model_,UserItemMatList,holdout_MatList,newHoldoutList, pred_BS,n_epoch,k=10):   \n",
        "    hr10_List = [] \n",
        "    mrr10_List = [] \n",
        "    ALLUsers_Pred = []\n",
        "    for UserItemMat,holdout_Mat,holdout_df in tqdm(zip(UserItemMatList,holdout_MatList,newHoldoutList)):\n",
        "        hr10,mrr10,allUserpred_ = singlestep_predEval(model_,UserItemMat,holdout_Mat,holdout_df,pred_BS,n_epoch,k)\n",
        "        hr10_List.append(hr10)   \n",
        "        mrr10_List.append(mrr10)\n",
        "        ALLUsers_Pred.append(allUserpred_)\n",
        "        print(\"| HitRate  {:4.3f} | Mrr {:4.3f} | \".format(hr10, mrr10))\n",
        "    return hr10_List,mrr10_List ,ALLUsers_Pred    "
      ]
    },
    {
      "cell_type": "code",
      "execution_count": 61,
      "metadata": {},
      "outputs": [
        {
          "output_type": "execute_result",
          "data": {
            "text/plain": [
              "MultiVAE(\n",
              "  (encode): Encoder(\n",
              "    (q_layers): Sequential(\n",
              "      (dropout_0): Dropout(p=0.5, inplace=False)\n",
              "      (linear_0): Linear(in_features=3533, out_features=600, bias=True)\n",
              "      (dropout_1): Dropout(p=0.0, inplace=False)\n",
              "      (linear_1): Linear(in_features=600, out_features=400, bias=True)\n",
              "    )\n",
              "  )\n",
              "  (decode): Decoder(\n",
              "    (p_layers): Sequential(\n",
              "      (dropout_0): Dropout(p=0.0, inplace=False)\n",
              "      (linear_0): Linear(in_features=200, out_features=600, bias=True)\n",
              "      (dropout_1): Dropout(p=0.0, inplace=False)\n",
              "      (linear_1): Linear(in_features=600, out_features=3533, bias=True)\n",
              "    )\n",
              "  )\n",
              ")"
            ]
          },
          "metadata": {},
          "execution_count": 61
        }
      ],
      "source": [
        "I =  newMLDF_1M['Updated_ItemID'].nunique()  #I is the total number of items in the train date\n",
        "#I = len(train_Items) \n",
        "q_dims = [I] + [600, 200]\n",
        "p_dims = [200, 600] + [I]\n",
        "dropout_enc = [0.5, 0.]\n",
        "dropout_dec = [0., 0.]\n",
        "\n",
        "VAEmodel = MultiVAE(p_dims,q_dims,dropout_enc,dropout_dec)\n",
        "\n",
        "\n",
        "init_weights(VAEmodel)\n",
        "VAEmodel.to(device)\n",
        "optimizer = torch.optim.AdamW(VAEmodel.parameters(), lr=1e-3, weight_decay=0.0)  \n",
        "VAEmodel              "
      ]
    },
    {
      "cell_type": "code",
      "execution_count": 52,
      "metadata": {},
      "outputs": [],
      "source": [
        "batch_size = 300\n",
        "anneal_cap = 0.2\n",
        "update_count = 0\n",
        "n_epochs = 100\n",
        "constant_anneal = False\n"
      ]
    },
    {
      "cell_type": "code",
      "execution_count": 53,
      "metadata": {},
      "outputs": [
        {
          "output_type": "execute_result",
          "data": {
            "text/plain": [
              "8400.0"
            ]
          },
          "metadata": {},
          "execution_count": 53
        }
      ],
      "source": [
        " total_anneal_steps = getTot_annealSTeps(UserItem_MATList[0],batch_size,n_epochs,anneal_cap)\n",
        " total_anneal_steps"
      ]
    },
    {
      "cell_type": "code",
      "execution_count": 54,
      "metadata": {},
      "outputs": [],
      "source": [
        "total_anneal_steps = 9000"
      ]
    },
    {
      "cell_type": "code",
      "execution_count": 55,
      "metadata": {},
      "outputs": [
        {
          "output_type": "stream",
          "name": "stderr",
          "text": [
            "100%|██████████| 100/100 [00:15<00:00,  6.45it/s]\n"
          ]
        }
      ],
      "source": [
        "for epoch in tqdm(range(100)):\n",
        "    train_step(VAEmodel, optimizer, UserItem_MATList[0], epoch)\n"
      ]
    },
    {
      "cell_type": "code",
      "execution_count": 59,
      "metadata": {},
      "outputs": [
        {
          "output_type": "stream",
          "name": "stdout",
          "text": [
            "Number of hits:  200\nTotal Num of users:  233\nRecommendation HitRate:  0.8583690987124464\n"
          ]
        },
        {
          "output_type": "execute_result",
          "data": {
            "text/plain": [
              "(0.8583690987124464, 0.6668029157299542)"
            ]
          },
          "metadata": {},
          "execution_count": 59
        }
      ],
      "source": [
        " getmetrics_(VAEmodel,HOLDOUT_MATList[0],newHoldout_list[0],HOLDOUT_MATList[0].shape[0],k=10)\n",
        " #getmetrics_(model_,holdout_Mat,holdout_df,batch_size=holdout_Mat.shape[0],k)"
      ]
    },
    {
      "cell_type": "code",
      "execution_count": 63,
      "metadata": {},
      "outputs": [
        {
          "output_type": "execute_result",
          "data": {
            "text/plain": [
              "MultiVAE(\n",
              "  (encode): Encoder(\n",
              "    (q_layers): Sequential(\n",
              "      (dropout_0): Dropout(p=0.5, inplace=False)\n",
              "      (linear_0): Linear(in_features=3533, out_features=600, bias=True)\n",
              "      (dropout_1): Dropout(p=0.0, inplace=False)\n",
              "      (linear_1): Linear(in_features=600, out_features=400, bias=True)\n",
              "    )\n",
              "  )\n",
              "  (decode): Decoder(\n",
              "    (p_layers): Sequential(\n",
              "      (dropout_0): Dropout(p=0.0, inplace=False)\n",
              "      (linear_0): Linear(in_features=200, out_features=600, bias=True)\n",
              "      (dropout_1): Dropout(p=0.0, inplace=False)\n",
              "      (linear_1): Linear(in_features=600, out_features=3533, bias=True)\n",
              "    )\n",
              "  )\n",
              ")"
            ]
          },
          "metadata": {},
          "execution_count": 63
        }
      ],
      "source": [
        "I =  newMLDF_1M['Updated_ItemID'].nunique()  #I is the total number of items in the train date\n",
        "#I = len(train_Items) \n",
        "q_dims = [I] + [600, 200]\n",
        "p_dims = [200, 600] + [I]\n",
        "dropout_enc = [0.5, 0.]\n",
        "dropout_dec = [0., 0.]\n",
        "\n",
        "VAEmodel = MultiVAE(p_dims,q_dims,dropout_enc,dropout_dec)\n",
        "\n",
        "\n",
        "init_weights(VAEmodel)\n",
        "VAEmodel.to(device)\n",
        "optimizer = torch.optim.AdamW(VAEmodel.parameters(), lr=1e-3, weight_decay=0.0)  \n",
        "VAEmodel              "
      ]
    },
    {
      "cell_type": "code",
      "execution_count": 64,
      "metadata": {},
      "outputs": [
        {
          "output_type": "stream",
          "name": "stderr",
          "text": [
            "0it [00:00, ?it/s]Number of hits:  165\n",
            "Total Num of users:  233\n",
            "Recommendation HitRate:  0.7081545064377682\n",
            "1it [00:16, 16.64s/it]| HitRate  0.708 | Mrr 0.422 | \n",
            "Number of hits:  237\n",
            "Total Num of users:  255\n",
            "Recommendation HitRate:  0.9294117647058824\n",
            "2it [00:32, 16.17s/it]| HitRate  0.929 | Mrr 0.807 | \n",
            "Number of hits:  277\n",
            "Total Num of users:  286\n",
            "Recommendation HitRate:  0.9685314685314685\n",
            "3it [00:48, 16.11s/it]| HitRate  0.969 | Mrr 0.901 | \n",
            "Number of hits:  297\n",
            "Total Num of users:  309\n",
            "Recommendation HitRate:  0.9611650485436893\n",
            "4it [01:04, 16.01s/it]| HitRate  0.961 | Mrr 0.887 | \n",
            "Number of hits:  447\n",
            "Total Num of users:  468\n",
            "Recommendation HitRate:  0.9551282051282052\n",
            "5it [01:20, 16.01s/it]| HitRate  0.955 | Mrr 0.870 | \n",
            "Number of hits:  504\n",
            "Total Num of users:  526\n",
            "Recommendation HitRate:  0.9581749049429658\n",
            "6it [01:36, 15.90s/it]| HitRate  0.958 | Mrr 0.882 | \n",
            "Number of hits:  496\n",
            "Total Num of users:  517\n",
            "Recommendation HitRate:  0.9593810444874274\n",
            "7it [01:52, 16.02s/it]| HitRate  0.959 | Mrr 0.894 | \n",
            "Number of hits:  442\n",
            "Total Num of users:  470\n",
            "Recommendation HitRate:  0.9404255319148936\n",
            "8it [02:08, 16.02s/it]| HitRate  0.940 | Mrr 0.857 | \n",
            "Number of hits:  424\n",
            "Total Num of users:  453\n",
            "Recommendation HitRate:  0.9359823399558499\n",
            "9it [02:25, 16.22s/it]| HitRate  0.936 | Mrr 0.849 | \n",
            "Number of hits:  339\n",
            "Total Num of users:  362\n",
            "Recommendation HitRate:  0.93646408839779\n",
            "10it [02:41, 16.13s/it]| HitRate  0.936 | Mrr 0.852 | \n",
            "\n"
          ]
        }
      ],
      "source": [
        "                                      #Allsteps_predEval(model_,UserItemMatList,holdout_MatList,newHoldoutList, pred_BS,n_epoch,k=10)\n",
        "hr10_List,mrr10_List ,ALLUsersPred_ = Allsteps_predEval(VAEmodel,UserItem_MATList,HOLDOUT_MATList,newHoldout_list,pred_BS=300,n_epoch=100,k=10)"
      ]
    },
    {
      "cell_type": "code",
      "execution_count": 65,
      "metadata": {},
      "outputs": [
        {
          "output_type": "execute_result",
          "data": {
            "text/plain": [
              "[0.7081545064377682,\n",
              " 0.9294117647058824,\n",
              " 0.9685314685314685,\n",
              " 0.9611650485436893,\n",
              " 0.9551282051282052,\n",
              " 0.9581749049429658,\n",
              " 0.9593810444874274,\n",
              " 0.9404255319148936,\n",
              " 0.9359823399558499,\n",
              " 0.93646408839779]"
            ]
          },
          "metadata": {},
          "execution_count": 65
        }
      ],
      "source": [
        "hr10_List"
      ]
    },
    {
      "cell_type": "code",
      "execution_count": 66,
      "metadata": {},
      "outputs": [
        {
          "output_type": "execute_result",
          "data": {
            "text/plain": [
              "[0.4222648000544997,\n",
              " 0.8071070650482415,\n",
              " 0.9008547008547009,\n",
              " 0.8874364308830328,\n",
              " 0.8695512820512822,\n",
              " 0.8819648138089203,\n",
              " 0.8944375364588131,\n",
              " 0.8573674434312731,\n",
              " 0.849334244367357,\n",
              " 0.852262562483557]"
            ]
          },
          "metadata": {},
          "execution_count": 66
        }
      ],
      "source": [
        "mrr10_List"
      ]
    },
    {
      "cell_type": "code",
      "execution_count": 67,
      "metadata": {},
      "outputs": [
        {
          "output_type": "execute_result",
          "data": {
            "text/plain": [
              "[array([[ 178,  280,   90, ...,  137,  166,   86],\n",
              "        [ 563,    9,   10, ..., 2388,  412,  587],\n",
              "        [ 131,  478,   62, ...,   12,   10,   19],\n",
              "        ...,\n",
              "        [  19,   91,   22, ...,  137,  129,  223],\n",
              "        [  19,   91,   22, ...,  137,  129,  223],\n",
              "        [  19,   91,   22, ...,  137,  129,  223]]),\n",
              " array([[1167, 2083,  475, ...,  166,   82, 1825],\n",
              "        [  60,   58,   97, ...,  563,   93,    9],\n",
              "        [ 131,   61,   64, ...,  219,   62,   12],\n",
              "        ...,\n",
              "        [  19,   91,  137, ...,  330,   12,  223],\n",
              "        [  19,   91,  137, ...,  330,   12,  223],\n",
              "        [  19,   91,  137, ...,  330,   12,  223]])]"
            ]
          },
          "metadata": {},
          "execution_count": 67
        }
      ],
      "source": [
        "ALLUsersPred_[:2]"
      ]
    },
    {
      "cell_type": "code",
      "execution_count": 73,
      "metadata": {},
      "outputs": [],
      "source": [
        "with open('/mnt/bulky/oolaleke/TDM_Dataset/ML_1M/ML_1MVAE_allPRED_NEW.pkl', 'wb') as f:   #/mnt/bulky/oolaleke/TDM_Dataset/ML_1M\n",
        "     pickle.dump(ALLUsersPred_, f)  "
      ]
    },
    {
      "cell_type": "code",
      "execution_count": 68,
      "metadata": {},
      "outputs": [
        {
          "output_type": "execute_result",
          "data": {
            "text/plain": [
              "[0.729691,\n",
              " 0.912539,\n",
              " 0.94424,\n",
              " 0.942542,\n",
              " 0.937447,\n",
              " 0.942259,\n",
              " 0.94141,\n",
              " 0.942825,\n",
              " 0.951033,\n",
              " 0.94424]"
            ]
          },
          "metadata": {},
          "execution_count": 68
        }
      ],
      "source": [
        "VAE_CovList = AllSteps_Coverage_Ratio(newMLDF_1M,ALLUsersPred_,'Updated_ItemID')\n",
        "VAE_CovList "
      ]
    },
    {
      "cell_type": "code",
      "execution_count": 69,
      "metadata": {},
      "outputs": [
        {
          "output_type": "stream",
          "name": "stdout",
          "text": [
            "9\n"
          ]
        },
        {
          "output_type": "execute_result",
          "data": {
            "text/plain": [
              "[1, 2, 3, 4, 5, 6, 7, 8, 9]"
            ]
          },
          "metadata": {},
          "execution_count": 69
        }
      ],
      "source": [
        "AllSteps = list(range(1,10))\n",
        "print(len(AllSteps))   #Hello2021\n",
        "AllSteps "
      ]
    },
    {
      "cell_type": "code",
      "execution_count": 71,
      "metadata": {},
      "outputs": [
        {
          "output_type": "execute_result",
          "data": {
            "text/plain": [
              "array([array([0.04977955, 0.14212766, 0.30061674, ..., 0.31733   , 0.21688237,\n",
              "              0.21728375])                                                    ,\n",
              "       array([0.03534858, 0.13049472, 0.7119332 , ..., 0.39251014, 0.19860344,\n",
              "              0.7596853 ])                                                    ,\n",
              "       array([0.16778736, 0.39566985, 0.69463896, ..., 0.52926551, 0.        ,\n",
              "              0.20035778])                                                    ,\n",
              "       array([0.27931363, 0.38389425, 0.67123288, ..., 0.64004   , 0.22904005,\n",
              "              0.27621682])                                                    ,\n",
              "       array([0.18020467, 0.39303576, 0.52879039, ..., 0.60264901, 0.20821738,\n",
              "              0.3326713 ])                                                    ,\n",
              "       array([0.33146929, 0.19356404, 0.47428343, ..., 0.35842459, 0.56576156,\n",
              "              0.2612782 ])                                                    ,\n",
              "       array([0.11260175, 0.22546904, 0.81418213, ..., 0.25314092, 0.42793577,\n",
              "              0.        ])                                                    ,\n",
              "       array([0.05608814, 0.19627229, 0.81418213, ..., 0.11647255, 0.47428343,\n",
              "              0.56975755])                                                    ,\n",
              "       array([0.0373858 , 0.1540025 , 0.51825568, ..., 0.25762481, 0.66595192,\n",
              "              0.15058457])                                                    ],\n",
              "      dtype=object)"
            ]
          },
          "metadata": {},
          "execution_count": 71
        }
      ],
      "source": [
        "VAECorr_ = Updt_getAll_AvgCorr(ALLUsersPred_,newUserItem_list,AllSteps,'Updated_UserID')  #,\n",
        "VAECorr_"
      ]
    },
    {
      "cell_type": "code",
      "execution_count": 72,
      "metadata": {},
      "outputs": [
        {
          "output_type": "stream",
          "name": "stdout",
          "text": [
            "(9,)\n0.30446724566338546\n0.374892354972082\n0.39789999350823685\n0.39188618587561896\n0.40096236556302656\n0.3968801745272582\n0.3918934747373392\n0.39534956624651146\n0.40019018926095445\n"
          ]
        }
      ],
      "source": [
        "print(VAECorr_.shape)\n",
        "for df in VAECorr_:\n",
        "    print(df.mean())    \n"
      ]
    },
    {
      "cell_type": "code",
      "execution_count": null,
      "metadata": {},
      "outputs": [],
      "source": []
    },
    {
      "cell_type": "code",
      "execution_count": null,
      "metadata": {},
      "outputs": [],
      "source": []
    },
    {
      "cell_type": "code",
      "execution_count": null,
      "metadata": {},
      "outputs": [],
      "source": []
    },
    {
      "cell_type": "code",
      "metadata": {
        "id": "pPjpfcaU8NH7"
      },
      "source": [
        "\n",
        "def Tuning(model,train_set,validtrain_set,validtest_set,als_param_grid,n_epochs,model_name,save_results= False):\n",
        "    best_score = 0     ##based on MetricEval..\n",
        "    stop_step = 0      \n",
        "    for i in trange(len(als_param_grid)): \n",
        "        batch_size, lr_, weightdecay_ = list(als_param_grid)[i]\n",
        "        total_anneal_steps = getTot_annealSTeps(train_set,batch_size,n_epochs,anneal_cap)\n",
        "        Optimizer_ = torch.optim.AdamW(model.parameters(), lr=lr_, weight_decay=weightdecay_)\n",
        "        print('batch_size = {} ,learning_rate = {}, weight_decay = {} '.format(batch_size,lr_,weightdecay_))\n",
        "        model_2 = model\n",
        "        for epoch in trange(n_epochs):            \n",
        "            train_step_2(model_2, Optimizer_, train_set,total_anneal_steps,epoch)\n",
        "            val_loss, curr_score = eval_step_2(model_2,validtrain_set,validtest_set)\n",
        "            stop_step = stop_step + 1\n",
        "           \n",
        "            if (curr_score > best_score) & (save_results):\n",
        "               best_epoch = epoch\n",
        "               best_BS  = batch_size\n",
        "               best_lr_ = lr_\n",
        "               best_weightdecay_ = weightdecay_\n",
        "               best_score = curr_score\n",
        "               torch.save(model_2.state_dict(),model_name+\".pth\")\n",
        "               stop_step = 0\n",
        "               print('best_NGCG = {}, best_epoch = {}, stop_step = {} '.format(best_score,best_epoch,stop_step))\n",
        "\n",
        "            if (stop_step > patience):\n",
        "                print(\"Early Stop Activated...\")\n",
        "                print('epoch= {}, best_epoch = {}, curr_score = {}, best_score = {},Stop_Step = {}'.format(epoch, best_epoch,curr_score,best_score,stop_step))\n",
        "                stop_step = 0\n",
        "                break\n",
        "               \n",
        "        #print('NDCG100_ = {} '.format(best_NGCG100))\n",
        "\n",
        "    print('\\n Best parameters; batch_size= {}, lr_ = {}, weight_decay = {}, NDCG100_ = {}'.format(best_BS, best_lr_,best_weightdecay_,best_score))\n",
        "    return best_BS, best_lr_, best_weightdecay_,best_score  "
      ],
      "execution_count": 220,
      "outputs": []
    },
    {
      "cell_type": "code",
      "metadata": {
        "id": "3J31ET588NH_",
        "outputId": "1938765d-08ef-4d13-ad63-b953541ce741"
      },
      "source": [
        "newMLDF_1M['Updated_UserID'].nunique()"
      ],
      "execution_count": 186,
      "outputs": [
        {
          "output_type": "execute_result",
          "data": {
            "text/plain": [
              "6038"
            ]
          },
          "metadata": {},
          "execution_count": 186
        }
      ]
    },
    {
      "cell_type": "code",
      "metadata": {
        "id": "Qxj9EM848NIA",
        "outputId": "405f762b-7309-44fb-d95d-516b98b706d7"
      },
      "source": [
        "raw_data = newMLDF_1M\n",
        "user_activity =   raw_data['Updated_UserID'].unique()\n",
        "item_popularity = raw_data['Updated_ItemID'].unique()\n",
        "print(user_activity.shape)\n",
        "print(item_popularity.shape)\n",
        "print()\n",
        "sparsity = 1. * raw_data.shape[0] / (user_activity.shape[0] * item_popularity.shape[0])\n",
        "\n",
        "print(\"After filtering, there are %d watching events from %d users and %d movies (sparsity: %.3f%%)\" % \n",
        "      (raw_data.shape[0], user_activity.shape[0], item_popularity.shape[0], sparsity * 100))"
      ],
      "execution_count": 187,
      "outputs": [
        {
          "output_type": "stream",
          "name": "stdout",
          "text": [
            "(6038,)\n(3533,)\n\nAfter filtering, there are 575281 watching events from 6038 users and 3533 movies (sparsity: 2.697%)\n"
          ]
        }
      ]
    },
    {
      "cell_type": "code",
      "metadata": {
        "id": "TVbNoHwR8NIB",
        "outputId": "82c038e8-c832-4a5d-dc0b-7f1c09a98390"
      },
      "source": [
        "unique_uid = user_activity\n",
        "train_users, valid_users, test_users = split_users(raw_data,'Updated_UserID',n_heldout_users=1000)\n",
        "print(train_users.shape)\n",
        "train_users"
      ],
      "execution_count": 190,
      "outputs": [
        {
          "output_type": "stream",
          "name": "stdout",
          "text": [
            "(4038,)\n"
          ]
        },
        {
          "output_type": "execute_result",
          "data": {
            "text/plain": [
              "array([5268, 5660, 5965, ..., 1579, 1622, 4540])"
            ]
          },
          "metadata": {},
          "execution_count": 190
        }
      ]
    },
    {
      "cell_type": "code",
      "metadata": {
        "id": "okI9dplV8NID",
        "outputId": "a826a61d-95fa-4607-baa4-3eb42f1cf12d"
      },
      "source": [
        "print(valid_users.shape)\n",
        "#valid_users"
      ],
      "execution_count": 193,
      "outputs": [
        {
          "output_type": "stream",
          "name": "stdout",
          "text": [
            "(1000,)\n"
          ]
        }
      ]
    },
    {
      "cell_type": "code",
      "metadata": {
        "id": "Vi7CVPLv8NIE",
        "outputId": "057693f0-d520-44a6-9b86-2eb69b6d2815"
      },
      "source": [
        "print(test_users.shape)\n",
        "#test_users"
      ],
      "execution_count": 194,
      "outputs": [
        {
          "output_type": "stream",
          "name": "stdout",
          "text": [
            "(1000,)\n"
          ]
        }
      ]
    },
    {
      "cell_type": "code",
      "metadata": {
        "id": "5eDTvBPd8NIF",
        "outputId": "7c9e9e95-c785-4831-e6c2-214f9aa0367c"
      },
      "source": [
        "##train data observation...\n",
        "train_df = raw_data.loc[raw_data['Updated_UserID'].isin(train_users)]\n",
        "print(train_df['Updated_UserID'].nunique())\n",
        "train_df.sample(10)"
      ],
      "execution_count": 195,
      "outputs": [
        {
          "output_type": "stream",
          "name": "stdout",
          "text": [
            "4038\n"
          ]
        },
        {
          "output_type": "execute_result",
          "data": {
            "text/plain": [
              "        userId_int  movieId_int  rating           timestamp  userId  \\\n",
              "168475        4021          952       1 2000-08-06 00:49:02    2017   \n",
              "358517        1875          915       1 2000-11-20 06:29:14    4239   \n",
              "213721        3559         2891       1 2000-08-20 18:33:02    2475   \n",
              "536873        3367         3448       1 2001-02-22 02:38:37    2668   \n",
              "391732        1319         2000       1 2000-11-21 03:51:54    4709   \n",
              "566641        2353         2186       1 2002-05-03 23:20:03    3681   \n",
              "517387          62         2407       1 2000-12-27 14:53:34    5968   \n",
              "55194         5382         3263       1 2000-06-07 06:22:28     657   \n",
              "110633        4710         2908       1 2000-07-13 18:24:04    1329   \n",
              "366429        1699         1244       1 2000-11-20 09:04:28    4334   \n",
              "\n",
              "        productId timestamp_YM  Updated_UserID  Updated_ItemID  \n",
              "168475         80      2000-08            2017              80  \n",
              "358517         85      2000-11            4239              85  \n",
              "213721        943      2000-08            2475             943  \n",
              "536873        952      2001-02            2668             952  \n",
              "391732        719      2000-11            4709             719  \n",
              "566641        246      2002-05            3681             246  \n",
              "517387        302      2000-12            5968             302  \n",
              "55194         650      2000-06             657             650  \n",
              "110633        385      2000-07            1329             385  \n",
              "366429        547      2000-11            4334             547  "
            ],
            "text/html": "<div>\n<style scoped>\n    .dataframe tbody tr th:only-of-type {\n        vertical-align: middle;\n    }\n\n    .dataframe tbody tr th {\n        vertical-align: top;\n    }\n\n    .dataframe thead th {\n        text-align: right;\n    }\n</style>\n<table border=\"1\" class=\"dataframe\">\n  <thead>\n    <tr style=\"text-align: right;\">\n      <th></th>\n      <th>userId_int</th>\n      <th>movieId_int</th>\n      <th>rating</th>\n      <th>timestamp</th>\n      <th>userId</th>\n      <th>productId</th>\n      <th>timestamp_YM</th>\n      <th>Updated_UserID</th>\n      <th>Updated_ItemID</th>\n    </tr>\n  </thead>\n  <tbody>\n    <tr>\n      <th>168475</th>\n      <td>4021</td>\n      <td>952</td>\n      <td>1</td>\n      <td>2000-08-06 00:49:02</td>\n      <td>2017</td>\n      <td>80</td>\n      <td>2000-08</td>\n      <td>2017</td>\n      <td>80</td>\n    </tr>\n    <tr>\n      <th>358517</th>\n      <td>1875</td>\n      <td>915</td>\n      <td>1</td>\n      <td>2000-11-20 06:29:14</td>\n      <td>4239</td>\n      <td>85</td>\n      <td>2000-11</td>\n      <td>4239</td>\n      <td>85</td>\n    </tr>\n    <tr>\n      <th>213721</th>\n      <td>3559</td>\n      <td>2891</td>\n      <td>1</td>\n      <td>2000-08-20 18:33:02</td>\n      <td>2475</td>\n      <td>943</td>\n      <td>2000-08</td>\n      <td>2475</td>\n      <td>943</td>\n    </tr>\n    <tr>\n      <th>536873</th>\n      <td>3367</td>\n      <td>3448</td>\n      <td>1</td>\n      <td>2001-02-22 02:38:37</td>\n      <td>2668</td>\n      <td>952</td>\n      <td>2001-02</td>\n      <td>2668</td>\n      <td>952</td>\n    </tr>\n    <tr>\n      <th>391732</th>\n      <td>1319</td>\n      <td>2000</td>\n      <td>1</td>\n      <td>2000-11-21 03:51:54</td>\n      <td>4709</td>\n      <td>719</td>\n      <td>2000-11</td>\n      <td>4709</td>\n      <td>719</td>\n    </tr>\n    <tr>\n      <th>566641</th>\n      <td>2353</td>\n      <td>2186</td>\n      <td>1</td>\n      <td>2002-05-03 23:20:03</td>\n      <td>3681</td>\n      <td>246</td>\n      <td>2002-05</td>\n      <td>3681</td>\n      <td>246</td>\n    </tr>\n    <tr>\n      <th>517387</th>\n      <td>62</td>\n      <td>2407</td>\n      <td>1</td>\n      <td>2000-12-27 14:53:34</td>\n      <td>5968</td>\n      <td>302</td>\n      <td>2000-12</td>\n      <td>5968</td>\n      <td>302</td>\n    </tr>\n    <tr>\n      <th>55194</th>\n      <td>5382</td>\n      <td>3263</td>\n      <td>1</td>\n      <td>2000-06-07 06:22:28</td>\n      <td>657</td>\n      <td>650</td>\n      <td>2000-06</td>\n      <td>657</td>\n      <td>650</td>\n    </tr>\n    <tr>\n      <th>110633</th>\n      <td>4710</td>\n      <td>2908</td>\n      <td>1</td>\n      <td>2000-07-13 18:24:04</td>\n      <td>1329</td>\n      <td>385</td>\n      <td>2000-07</td>\n      <td>1329</td>\n      <td>385</td>\n    </tr>\n    <tr>\n      <th>366429</th>\n      <td>1699</td>\n      <td>1244</td>\n      <td>1</td>\n      <td>2000-11-20 09:04:28</td>\n      <td>4334</td>\n      <td>547</td>\n      <td>2000-11</td>\n      <td>4334</td>\n      <td>547</td>\n    </tr>\n  </tbody>\n</table>\n</div>"
          },
          "metadata": {},
          "execution_count": 195
        }
      ]
    },
    {
      "cell_type": "code",
      "metadata": {
        "id": "v4pFsuyA8NIH",
        "outputId": "f8c1b158-b8b2-4dbe-8654-00bb7ff76c37"
      },
      "source": [
        "### items used in the training data...\n",
        "train_Items = pd.unique(train_df['Updated_ItemID'])  #unique_sid == train_Items\n",
        "print(len(train_Items))\n",
        "train_Items"
      ],
      "execution_count": 196,
      "outputs": [
        {
          "output_type": "stream",
          "name": "stdout",
          "text": [
            "3473\n"
          ]
        },
        {
          "output_type": "execute_result",
          "data": {
            "text/plain": [
              "array([   0,    1,    2, ..., 3532, 3517, 2909])"
            ]
          },
          "metadata": {},
          "execution_count": 196
        }
      ]
    },
    {
      "cell_type": "code",
      "metadata": {
        "id": "u2woxjzG8NII",
        "outputId": "84ec2f62-7674-4fe1-e76e-8b13e96a407f"
      },
      "source": [
        "# Save index dictionaries to \"numerise\" later one\n",
        "unique_uid = user_activity\n",
        "item2id = dict((sid, i) for (i, sid) in enumerate(train_Items))\n",
        "user2id = dict((pid, i) for (i, pid) in enumerate(unique_uid))\n",
        "print(len(item2id))\n",
        "print(len(user2id))"
      ],
      "execution_count": 197,
      "outputs": [
        {
          "output_type": "stream",
          "name": "stdout",
          "text": [
            "3473\n6038\n"
          ]
        }
      ]
    },
    {
      "cell_type": "code",
      "metadata": {
        "id": "ewiw5VTo8NIJ",
        "outputId": "3e6fb1f7-6668-4441-ec69-db6f609d7e1c"
      },
      "source": [
        "          #for validation and test they consider \"only\" items that have been seen during training\n",
        "valid_df = raw_data[raw_data[\"Updated_UserID\"].isin(valid_users)& raw_data[\"Updated_ItemID\"].isin(train_Items)]  #vd_obsrv \n",
        "test_df = raw_data[raw_data[\"Updated_UserID\"].isin(test_users) & raw_data[\"Updated_ItemID\"].isin(train_Items)]  #te_obsr\n",
        "print(\"Validation Set\")\n",
        "print(valid_df['Updated_UserID'].nunique())\n",
        "print(valid_df.shape)\n",
        "print()\n",
        "print(\"Test Set\")\n",
        "print(test_df['Updated_UserID'].nunique())\n",
        "print(test_df.shape)\n"
      ],
      "execution_count": 198,
      "outputs": [
        {
          "output_type": "stream",
          "name": "stdout",
          "text": [
            "Validation Set\n1000\n(92282, 9)\n\nTest Set\n1000\n(93699, 9)\n"
          ]
        }
      ]
    },
    {
      "cell_type": "code",
      "metadata": {
        "id": "got_WQUb8NIK",
        "outputId": "62acdbeb-b9ec-4c71-8585-5a399ef79c11"
      },
      "source": [
        "valid_trn, valid_tst = split_train_test(valid_df, test_prop=0.2)\n",
        "print(valid_trn.shape, valid_tst.shape) "
      ],
      "execution_count": 199,
      "outputs": [
        {
          "output_type": "stream",
          "name": "stdout",
          "text": [
            "0 users sampled\n",
            "250 users sampled\n",
            "500 users sampled\n",
            "750 users sampled\n",
            "(74234, 9) (18048, 9)\n"
          ]
        }
      ]
    },
    {
      "cell_type": "code",
      "execution_count": null,
      "metadata": {},
      "outputs": [],
      "source": []
    },
    {
      "cell_type": "code",
      "metadata": {
        "id": "dOYqgXnD8NIL",
        "outputId": "f54a7286-d575-4cca-e3f7-60c34c588853"
      },
      "source": [
        "test_train, test_tst = split_train_test(test_df, test_prop=0.2)\n",
        "print(test_train.shape, test_tst.shape)   ##"
      ],
      "execution_count": 200,
      "outputs": [
        {
          "output_type": "stream",
          "name": "stdout",
          "text": [
            "0 users sampled\n",
            "250 users sampled\n",
            "500 users sampled\n",
            "750 users sampled\n",
            "(75353, 9) (18346, 9)\n"
          ]
        }
      ]
    },
    {
      "cell_type": "code",
      "metadata": {
        "id": "mzOW6uIb8NIL",
        "outputId": "c87d31a4-cadd-4596-f4da-e1e76cd0a3b1"
      },
      "source": [
        "Train_DF   =    numerize_data(train_df,user2id,item2id, 'Updated_UserID','Updated_ItemID')\n",
        "ValidTrain_DF = numerize_data(valid_trn,user2id,item2id,'Updated_UserID','Updated_ItemID')\n",
        "ValidTest_DF = numerize_data(valid_tst,user2id,item2id, 'Updated_UserID','Updated_ItemID')\n",
        "TestTrain_DF = numerize_data(test_train,user2id,item2id, 'Updated_UserID','Updated_ItemID')\n",
        "TestTest_DF =  numerize_data(test_tst,user2id,item2id, 'Updated_UserID','Updated_ItemID')\n",
        "\n",
        "print(\"Training Data: \",Train_DF.shape)\n",
        "print()\n",
        "print(\"Validaion DF: \", ValidTrain_DF.shape,ValidTest_DF.shape)\n",
        "print(\"Test DF:      \", TestTrain_DF.shape,TestTest_DF.shape)"
      ],
      "execution_count": 201,
      "outputs": [
        {
          "output_type": "stream",
          "name": "stdout",
          "text": [
            "Training Data:  (389221, 2)\n\nValidaion DF:  (74234, 2) (18048, 2)\nTest DF:       (75353, 2) (18346, 2)\n"
          ]
        }
      ]
    },
    {
      "cell_type": "code",
      "metadata": {
        "id": "biktQjiJ8NIM",
        "outputId": "c58c2f14-47a8-46e0-cc04-ca196fffa4f9"
      },
      "source": [
        "n_items = len(train_Items)                            #train_Items = unique_sid\n",
        "TrainDF_RatMat = get_TrainRatMat(Train_DF,'Updated_UserID','Updated_ItemID',n_items)\n",
        "ValidTrain_RatMat, ValidTest_RatMat = getTrainTest_RatMat(ValidTrain_DF, ValidTest_DF,'Updated_UserID','Updated_ItemID',n_items)\n",
        "TestTrain_RatMat, TestTest_RatMat = getTrainTest_RatMat(TestTrain_DF, TestTest_DF,'Updated_UserID','Updated_ItemID',n_items)\n",
        "\n",
        "TrainDF_RatMat"
      ],
      "execution_count": 202,
      "outputs": [
        {
          "output_type": "execute_result",
          "data": {
            "text/plain": [
              "<6038x3473 sparse matrix of type '<class 'numpy.float64'>'\n",
              "\twith 389221 stored elements in Compressed Sparse Row format>"
            ]
          },
          "metadata": {},
          "execution_count": 202
        }
      ]
    },
    {
      "cell_type": "code",
      "metadata": {
        "id": "W0cj6wFz8NIN",
        "outputId": "b6758cad-44b1-424a-d670-583660789930"
      },
      "source": [
        "ValidTrain_RatMat"
      ],
      "execution_count": 203,
      "outputs": [
        {
          "output_type": "execute_result",
          "data": {
            "text/plain": [
              "<6009x3473 sparse matrix of type '<class 'numpy.float64'>'\n",
              "\twith 74234 stored elements in Compressed Sparse Row format>"
            ]
          },
          "metadata": {},
          "execution_count": 203
        }
      ]
    },
    {
      "cell_type": "code",
      "metadata": {
        "id": "qvKCxz2Z8NIO",
        "outputId": "695e67db-555c-4e34-85f0-87cd0ca2f456"
      },
      "source": [
        "ValidTest_RatMat"
      ],
      "execution_count": 204,
      "outputs": [
        {
          "output_type": "execute_result",
          "data": {
            "text/plain": [
              "<6009x3473 sparse matrix of type '<class 'numpy.float64'>'\n",
              "\twith 18048 stored elements in Compressed Sparse Row format>"
            ]
          },
          "metadata": {},
          "execution_count": 204
        }
      ]
    },
    {
      "cell_type": "code",
      "metadata": {
        "id": "9DN6CdF48NIO",
        "outputId": "44db7d7c-8f15-4566-b48b-ecee6e36a3a1"
      },
      "source": [
        "TestTrain_RatMat"
      ],
      "execution_count": 205,
      "outputs": [
        {
          "output_type": "execute_result",
          "data": {
            "text/plain": [
              "<6012x3473 sparse matrix of type '<class 'numpy.float64'>'\n",
              "\twith 75353 stored elements in Compressed Sparse Row format>"
            ]
          },
          "metadata": {},
          "execution_count": 205
        }
      ]
    },
    {
      "cell_type": "code",
      "metadata": {
        "id": "u5iOrwE38NIP",
        "outputId": "5ab183d7-96ad-466f-a598-d1e902ede57b"
      },
      "source": [
        "TestTest_RatMat"
      ],
      "execution_count": 206,
      "outputs": [
        {
          "output_type": "execute_result",
          "data": {
            "text/plain": [
              "<6012x3473 sparse matrix of type '<class 'numpy.float64'>'\n",
              "\twith 18346 stored elements in Compressed Sparse Row format>"
            ]
          },
          "metadata": {},
          "execution_count": 206
        }
      ]
    },
    {
      "cell_type": "code",
      "metadata": {
        "id": "Zm9atxyq8NIQ"
      },
      "source": [],
      "execution_count": null,
      "outputs": []
    },
    {
      "cell_type": "code",
      "metadata": {
        "id": "YrA6PoZb8NIQ"
      },
      "source": [],
      "execution_count": null,
      "outputs": []
    },
    {
      "cell_type": "markdown",
      "metadata": {
        "id": "EGOcY8k9G_Wt"
      },
      "source": [
        "###Tuning"
      ]
    },
    {
      "cell_type": "code",
      "metadata": {
        "id": "dkdeoeVN8NIR",
        "outputId": "0505cf80-8c65-4e0d-81b9-e8dbfd159dd0"
      },
      "source": [
        "als_params = dict(batch_size = [50,100,200,300,500],\n",
        "                  lr = [1e-7,1e-5,1e-3,1e-1],\n",
        "                  weight_decay= [0.,0.1,0.2,0.3])\n",
        "\n",
        "als_param_grid, als_param_names = random_grid(als_params, n=30)\n",
        "print(als_param_names)\n",
        "len(als_param_grid)                 "
      ],
      "execution_count": 207,
      "outputs": [
        {
          "output_type": "stream",
          "name": "stdout",
          "text": [
            "('batch_size', 'lr', 'weight_decay')\n"
          ]
        },
        {
          "output_type": "execute_result",
          "data": {
            "text/plain": [
              "30"
            ]
          },
          "metadata": {},
          "execution_count": 207
        }
      ]
    },
    {
      "cell_type": "code",
      "metadata": {
        "id": "2mnBaBnT8NIS",
        "outputId": "c3410d7f-caba-40d5-8728-86856ac4a439"
      },
      "source": [
        "for i in range(10):\n",
        "    batch_size, lr, weight_decay = list(als_param_grid)[i]  \n",
        "    print(batch_size, lr, weight_decay)"
      ],
      "execution_count": 208,
      "outputs": [
        {
          "output_type": "stream",
          "name": "stdout",
          "text": [
            "50 1e-05 0.2\n200 0.001 0.2\n300 1e-05 0.2\n100 0.1 0.3\n500 0.001 0.1\n300 0.001 0.2\n100 1e-07 0.0\n500 0.1 0.2\n50 1e-05 0.1\n200 0.001 0.1\n"
          ]
        }
      ]
    },
    {
      "cell_type": "code",
      "metadata": {
        "id": "r2s6asVs8NIT",
        "outputId": "d9762de3-838d-45fa-b501-11d1e1ad765f"
      },
      "source": [],
      "execution_count": null,
      "outputs": [
        {
          "output_type": "execute_result",
          "data": {
            "text/plain": [
              "6961"
            ]
          },
          "metadata": {
            "tags": []
          },
          "execution_count": 271
        }
      ]
    },
    {
      "cell_type": "code",
      "metadata": {
        "id": "Dq9zubDl8NIU",
        "outputId": "8035777e-f7e3-4c22-fff6-bd4323746a76"
      },
      "source": [
        "n_items = len(train_Items)   \n",
        "I = n_items    ##I is the total number of items in the train date\n",
        "q_dims = [I] + [600, 200]\n",
        "p_dims = [200, 600] + [I]\n",
        "dropout_enc = [0.5, 0.]\n",
        "dropout_dec = [0., 0.]\n",
        "\n",
        "                    \n",
        "VAEmodel = MultiVAE(p_dims,q_dims,dropout_enc,dropout_dec)\n",
        "init_weights(VAEmodel)\n",
        "VAEmodel.to(device)"
      ],
      "execution_count": 223,
      "outputs": [
        {
          "output_type": "execute_result",
          "data": {
            "text/plain": [
              "MultiVAE(\n",
              "  (encode): Encoder(\n",
              "    (q_layers): Sequential(\n",
              "      (dropout_0): Dropout(p=0.5, inplace=False)\n",
              "      (linear_0): Linear(in_features=3473, out_features=600, bias=True)\n",
              "      (dropout_1): Dropout(p=0.0, inplace=False)\n",
              "      (linear_1): Linear(in_features=600, out_features=400, bias=True)\n",
              "    )\n",
              "  )\n",
              "  (decode): Decoder(\n",
              "    (p_layers): Sequential(\n",
              "      (dropout_0): Dropout(p=0.0, inplace=False)\n",
              "      (linear_0): Linear(in_features=200, out_features=600, bias=True)\n",
              "      (dropout_1): Dropout(p=0.0, inplace=False)\n",
              "      (linear_1): Linear(in_features=600, out_features=3473, bias=True)\n",
              "    )\n",
              "  )\n",
              ")"
            ]
          },
          "metadata": {},
          "execution_count": 223
        }
      ]
    },
    {
      "cell_type": "code",
      "execution_count": 215,
      "metadata": {},
      "outputs": [],
      "source": [
        "from tqdm import trange"
      ]
    },
    {
      "cell_type": "code",
      "metadata": {
        "id": "FauhrmJn8NIW",
        "outputId": "0aa3382d-94c0-4c47-f021-b2e6dc2399b6",
        "tags": [
          "outputPrepend"
        ]
      },
      "source": [
        "update_count = 0 \n",
        "anneal_epochs = None  \n",
        "anneal_cap = 0.2\n",
        "constant_anneal = False\n",
        "patience = 15\n",
        "\n",
        "bestModelInfo =  Tuning(VAEmodel,TrainDF_RatMat,ValidTrain_RatMat,ValidTest_RatMat,als_param_grid,50,\"MLDF1M_VAE\",save_results= True)"
      ],
      "execution_count": 224,
      "outputs": [
        {
          "output_type": "stream",
          "name": "stderr",
          "text": [
            "  1.93it/s]\n",
            " 37%|███▋      | 11/30 [02:18<02:41,  8.48s/it]\n",
            "  0%|          | 0/50 [00:00<?, ?it/s]\u001b[AEarly Stop Activated...\n",
            "epoch= 15, best_epoch = 44, curr_score = 0.004997701622589416, best_score = 0.3835523654706246,Stop_Step = 16\n",
            "batch_size = 100 ,learning_rate = 0.001, weight_decay = 0.1 \n",
            "\n",
            "  2%|▏         | 1/50 [00:00<00:24,  2.04it/s]\u001b[A\n",
            "  4%|▍         | 2/50 [00:00<00:22,  2.13it/s]\u001b[A\n",
            "  6%|▌         | 3/50 [00:01<00:21,  2.18it/s]\u001b[A\n",
            "  8%|▊         | 4/50 [00:01<00:21,  2.18it/s]\u001b[A\n",
            " 10%|█         | 5/50 [00:02<00:20,  2.20it/s]\u001b[A\n",
            " 12%|█▏        | 6/50 [00:02<00:19,  2.23it/s]\u001b[A\n",
            " 14%|█▍        | 7/50 [00:03<00:19,  2.24it/s]\u001b[A\n",
            " 16%|█▌        | 8/50 [00:03<00:18,  2.25it/s]\u001b[A\n",
            " 18%|█▊        | 9/50 [00:04<00:18,  2.26it/s]\u001b[A\n",
            " 20%|██        | 10/50 [00:04<00:17,  2.26it/s]\u001b[A\n",
            " 22%|██▏       | 11/50 [00:04<00:17,  2.26it/s]\u001b[A\n",
            " 24%|██▍       | 12/50 [00:05<00:16,  2.26it/s]\u001b[A\n",
            " 26%|██▌       | 13/50 [00:05<00:16,  2.26it/s]\u001b[A\n",
            " 28%|██▊       | 14/50 [00:06<00:15,  2.27it/s]\u001b[A\n",
            " 30%|███       | 15/50 [00:07<00:16,  2.10it/s]\n",
            " 40%|████      | 12/30 [02:25<02:25,  8.07s/it]\n",
            "  0%|          | 0/50 [00:00<?, ?it/s]\u001b[AEarly Stop Activated...\n",
            "epoch= 15, best_epoch = 44, curr_score = 0.004997701622589416, best_score = 0.3835523654706246,Stop_Step = 16\n",
            "batch_size = 50 ,learning_rate = 0.1, weight_decay = 0.2 \n",
            "\n",
            "  2%|▏         | 1/50 [00:00<00:21,  2.27it/s]\u001b[A\n",
            "  4%|▍         | 2/50 [00:00<00:21,  2.27it/s]\u001b[A\n",
            "  6%|▌         | 3/50 [00:01<00:20,  2.27it/s]\u001b[A\n",
            "  8%|▊         | 4/50 [00:01<00:21,  2.14it/s]\u001b[A\n",
            " 10%|█         | 5/50 [00:02<00:21,  2.09it/s]\u001b[A\n",
            " 12%|█▏        | 6/50 [00:02<00:21,  2.05it/s]\u001b[A\n",
            " 14%|█▍        | 7/50 [00:03<00:21,  2.02it/s]\u001b[A\n",
            " 16%|█▌        | 8/50 [00:03<00:20,  2.01it/s]\u001b[A\n",
            " 18%|█▊        | 9/50 [00:04<00:20,  1.99it/s]\u001b[A\n",
            " 20%|██        | 10/50 [00:04<00:20,  1.97it/s]\u001b[A\n",
            " 22%|██▏       | 11/50 [00:05<00:19,  1.96it/s]\u001b[A\n",
            " 24%|██▍       | 12/50 [00:05<00:19,  1.90it/s]\u001b[A\n",
            " 26%|██▌       | 13/50 [00:06<00:19,  1.91it/s]\u001b[A\n",
            " 28%|██▊       | 14/50 [00:07<00:18,  1.90it/s]\u001b[A\n",
            " 30%|███       | 15/50 [00:08<00:18,  1.86it/s]\n",
            " 43%|████▎     | 13/30 [02:33<02:17,  8.08s/it]\n",
            "  0%|          | 0/50 [00:00<?, ?it/s]\u001b[AEarly Stop Activated...\n",
            "epoch= 15, best_epoch = 44, curr_score = 0.004997701622589416, best_score = 0.3835523654706246,Stop_Step = 16\n",
            "batch_size = 50 ,learning_rate = 1e-05, weight_decay = 0.0 \n",
            "\n",
            "  2%|▏         | 1/50 [00:00<00:28,  1.74it/s]\u001b[A\n",
            "  4%|▍         | 2/50 [00:01<00:26,  1.80it/s]\u001b[A\n",
            "  6%|▌         | 3/50 [00:01<00:26,  1.78it/s]\u001b[A\n",
            "  8%|▊         | 4/50 [00:02<00:24,  1.85it/s]\u001b[A\n",
            " 10%|█         | 5/50 [00:02<00:23,  1.89it/s]\u001b[A\n",
            " 12%|█▏        | 6/50 [00:03<00:22,  1.92it/s]\u001b[A\n",
            " 14%|█▍        | 7/50 [00:03<00:21,  2.00it/s]\u001b[A\n",
            " 16%|█▌        | 8/50 [00:04<00:22,  1.89it/s]\u001b[A\n",
            " 18%|█▊        | 9/50 [00:04<00:22,  1.82it/s]\u001b[A\n",
            " 20%|██        | 10/50 [00:05<00:22,  1.81it/s]\u001b[A\n",
            " 22%|██▏       | 11/50 [00:05<00:21,  1.81it/s]\u001b[A\n",
            " 24%|██▍       | 12/50 [00:06<00:20,  1.86it/s]\u001b[A\n",
            " 26%|██▌       | 13/50 [00:06<00:19,  1.90it/s]\u001b[A\n",
            " 28%|██▊       | 14/50 [00:07<00:18,  1.97it/s]\u001b[A\n",
            " 30%|███       | 15/50 [00:08<00:19,  1.79it/s]\n",
            " 47%|████▋     | 14/30 [02:41<02:10,  8.17s/it]\n",
            "  0%|          | 0/50 [00:00<?, ?it/s]\u001b[AEarly Stop Activated...\n",
            "epoch= 15, best_epoch = 44, curr_score = 0.004997701622589416, best_score = 0.3835523654706246,Stop_Step = 16\n",
            "batch_size = 200 ,learning_rate = 0.001, weight_decay = 0.0 \n",
            "\n",
            "  2%|▏         | 1/50 [00:00<00:28,  1.70it/s]\u001b[A\n",
            "  4%|▍         | 2/50 [00:01<00:26,  1.81it/s]\u001b[A\n",
            "  6%|▌         | 3/50 [00:01<00:25,  1.86it/s]\u001b[A\n",
            "  8%|▊         | 4/50 [00:02<00:24,  1.86it/s]\u001b[A\n",
            " 10%|█         | 5/50 [00:02<00:23,  1.91it/s]\u001b[A\n",
            " 12%|█▏        | 6/50 [00:03<00:22,  1.96it/s]\u001b[A\n",
            " 14%|█▍        | 7/50 [00:03<00:21,  1.99it/s]\u001b[A\n",
            " 16%|█▌        | 8/50 [00:04<00:20,  2.01it/s]\u001b[A\n",
            " 18%|█▊        | 9/50 [00:04<00:20,  2.03it/s]\u001b[A\n",
            " 20%|██        | 10/50 [00:05<00:19,  2.06it/s]\u001b[A\n",
            " 22%|██▏       | 11/50 [00:05<00:19,  1.98it/s]\u001b[A\n",
            " 24%|██▍       | 12/50 [00:06<00:19,  1.94it/s]\u001b[A\n",
            " 26%|██▌       | 13/50 [00:06<00:19,  1.94it/s]\u001b[A\n",
            " 28%|██▊       | 14/50 [00:07<00:18,  1.93it/s]\u001b[A\n",
            " 30%|███       | 15/50 [00:08<00:18,  1.85it/s]\n",
            " 50%|█████     | 15/30 [02:49<02:02,  8.15s/it]\n",
            "  0%|          | 0/50 [00:00<?, ?it/s]\u001b[AEarly Stop Activated...\n",
            "epoch= 15, best_epoch = 44, curr_score = 0.004997701622589416, best_score = 0.3835523654706246,Stop_Step = 16\n",
            "batch_size = 300 ,learning_rate = 1e-05, weight_decay = 0.0 \n",
            "\n",
            "  2%|▏         | 1/50 [00:00<00:21,  2.27it/s]\u001b[A\n",
            "  4%|▍         | 2/50 [00:00<00:20,  2.29it/s]\u001b[A\n",
            "  6%|▌         | 3/50 [00:01<00:20,  2.29it/s]\u001b[A\n",
            "  8%|▊         | 4/50 [00:01<00:21,  2.10it/s]\u001b[A\n",
            " 10%|█         | 5/50 [00:02<00:23,  1.95it/s]\u001b[A\n",
            " 12%|█▏        | 6/50 [00:02<00:23,  1.90it/s]\u001b[A\n",
            " 14%|█▍        | 7/50 [00:03<00:21,  1.95it/s]\u001b[A\n",
            " 16%|█▌        | 8/50 [00:03<00:20,  2.05it/s]\u001b[A\n",
            " 18%|█▊        | 9/50 [00:04<00:19,  2.12it/s]\u001b[A\n",
            " 20%|██        | 10/50 [00:04<00:18,  2.16it/s]\u001b[A\n",
            " 22%|██▏       | 11/50 [00:05<00:17,  2.20it/s]\u001b[A\n",
            " 24%|██▍       | 12/50 [00:05<00:17,  2.23it/s]\u001b[A\n",
            " 26%|██▌       | 13/50 [00:06<00:16,  2.25it/s]\u001b[A\n",
            " 28%|██▊       | 14/50 [00:06<00:15,  2.26it/s]\u001b[A\n",
            " 30%|███       | 15/50 [00:07<00:17,  1.98it/s]\n",
            " 53%|█████▎    | 16/30 [02:57<01:51,  7.98s/it]\n",
            "  0%|          | 0/50 [00:00<?, ?it/s]\u001b[AEarly Stop Activated...\n",
            "epoch= 15, best_epoch = 44, curr_score = 0.004997701622589416, best_score = 0.3835523654706246,Stop_Step = 16\n",
            "batch_size = 100 ,learning_rate = 0.1, weight_decay = 0.1 \n",
            "\n",
            "  2%|▏         | 1/50 [00:00<00:24,  1.99it/s]\u001b[A\n",
            "  4%|▍         | 2/50 [00:01<00:24,  1.98it/s]\u001b[A\n",
            "  6%|▌         | 3/50 [00:01<00:23,  1.98it/s]\u001b[A\n",
            "  8%|▊         | 4/50 [00:02<00:23,  1.92it/s]\u001b[A\n",
            " 10%|█         | 5/50 [00:02<00:22,  1.96it/s]\u001b[A\n",
            " 12%|█▏        | 6/50 [00:03<00:21,  2.03it/s]\u001b[A\n",
            " 14%|█▍        | 7/50 [00:03<00:21,  2.04it/s]\u001b[A\n",
            " 16%|█▌        | 8/50 [00:03<00:20,  2.08it/s]\u001b[A\n",
            " 18%|█▊        | 9/50 [00:04<00:19,  2.09it/s]\u001b[A\n",
            " 20%|██        | 10/50 [00:04<00:20,  1.99it/s]\u001b[A\n",
            " 22%|██▏       | 11/50 [00:05<00:20,  1.94it/s]\u001b[A\n",
            " 24%|██▍       | 12/50 [00:06<00:19,  1.93it/s]\u001b[A\n",
            " 26%|██▌       | 13/50 [00:06<00:18,  1.95it/s]\u001b[A\n",
            " 28%|██▊       | 14/50 [00:07<00:18,  1.99it/s]\u001b[A\n",
            " 30%|███       | 15/50 [00:08<00:18,  1.87it/s]\n",
            " 57%|█████▋    | 17/30 [03:05<01:43,  7.99s/it]\n",
            "  0%|          | 0/50 [00:00<?, ?it/s]\u001b[AEarly Stop Activated...\n",
            "epoch= 15, best_epoch = 44, curr_score = 0.004997701622589416, best_score = 0.3835523654706246,Stop_Step = 16\n",
            "batch_size = 50 ,learning_rate = 1e-07, weight_decay = 0.3 \n",
            "\n",
            "  2%|▏         | 1/50 [00:00<00:23,  2.12it/s]\u001b[A\n",
            "  4%|▍         | 2/50 [00:00<00:22,  2.11it/s]\u001b[A\n",
            "  6%|▌         | 3/50 [00:01<00:22,  2.10it/s]\u001b[A\n",
            "  8%|▊         | 4/50 [00:01<00:21,  2.11it/s]\u001b[A\n",
            " 10%|█         | 5/50 [00:02<00:21,  2.14it/s]\u001b[A\n",
            " 12%|█▏        | 6/50 [00:02<00:21,  2.08it/s]\u001b[A\n",
            " 14%|█▍        | 7/50 [00:03<00:21,  1.97it/s]\u001b[A\n",
            " 16%|█▌        | 8/50 [00:03<00:21,  1.92it/s]\u001b[A\n",
            " 18%|█▊        | 9/50 [00:04<00:22,  1.86it/s]\u001b[A\n",
            " 20%|██        | 10/50 [00:05<00:21,  1.90it/s]\u001b[A\n",
            " 22%|██▏       | 11/50 [00:05<00:19,  1.95it/s]\u001b[A\n",
            " 24%|██▍       | 12/50 [00:05<00:18,  2.00it/s]\u001b[A\n",
            " 26%|██▌       | 13/50 [00:06<00:18,  2.03it/s]\u001b[A\n",
            " 28%|██▊       | 14/50 [00:06<00:17,  2.05it/s]\u001b[A\n",
            " 30%|███       | 15/50 [00:07<00:18,  1.90it/s]\n",
            " 60%|██████    | 18/30 [03:13<01:35,  7.96s/it]\n",
            "  0%|          | 0/50 [00:00<?, ?it/s]\u001b[AEarly Stop Activated...\n",
            "epoch= 15, best_epoch = 44, curr_score = 0.004997701622589416, best_score = 0.3835523654706246,Stop_Step = 16\n",
            "batch_size = 200 ,learning_rate = 1e-07, weight_decay = 0.2 \n",
            "\n",
            "  2%|▏         | 1/50 [00:00<00:22,  2.16it/s]\u001b[A\n",
            "  4%|▍         | 2/50 [00:00<00:21,  2.21it/s]\u001b[A\n",
            "  6%|▌         | 3/50 [00:01<00:21,  2.16it/s]\u001b[A\n",
            "  8%|▊         | 4/50 [00:01<00:22,  2.07it/s]\u001b[A\n",
            " 10%|█         | 5/50 [00:02<00:21,  2.09it/s]\u001b[A\n",
            " 12%|█▏        | 6/50 [00:02<00:20,  2.13it/s]\u001b[A\n",
            " 14%|█▍        | 7/50 [00:03<00:19,  2.15it/s]\u001b[A\n",
            " 16%|█▌        | 8/50 [00:03<00:19,  2.16it/s]\u001b[A\n",
            " 18%|█▊        | 9/50 [00:04<00:18,  2.16it/s]\u001b[A\n",
            " 20%|██        | 10/50 [00:04<00:18,  2.16it/s]\u001b[A\n",
            " 22%|██▏       | 11/50 [00:05<00:18,  2.07it/s]\u001b[A\n",
            " 24%|██▍       | 12/50 [00:05<00:18,  2.09it/s]\u001b[A\n",
            " 26%|██▌       | 13/50 [00:06<00:17,  2.12it/s]\u001b[A\n",
            " 28%|██▊       | 14/50 [00:06<00:17,  2.10it/s]\u001b[A\n",
            " 30%|███       | 15/50 [00:07<00:17,  2.00it/s]\n",
            " 63%|██████▎   | 19/30 [03:20<01:26,  7.82s/it]\n",
            "  0%|          | 0/50 [00:00<?, ?it/s]\u001b[AEarly Stop Activated...\n",
            "epoch= 15, best_epoch = 44, curr_score = 0.004997701622589416, best_score = 0.3835523654706246,Stop_Step = 16\n",
            "batch_size = 500 ,learning_rate = 1e-05, weight_decay = 0.3 \n",
            "\n",
            "  2%|▏         | 1/50 [00:00<00:23,  2.07it/s]\u001b[A\n",
            "  4%|▍         | 2/50 [00:00<00:23,  2.03it/s]\u001b[A\n",
            "  6%|▌         | 3/50 [00:01<00:24,  1.91it/s]\u001b[A\n",
            "  8%|▊         | 4/50 [00:01<00:22,  2.02it/s]\u001b[A\n",
            " 10%|█         | 5/50 [00:02<00:21,  2.08it/s]\u001b[A\n",
            " 12%|█▏        | 6/50 [00:02<00:20,  2.12it/s]\u001b[A\n",
            " 14%|█▍        | 7/50 [00:03<00:20,  2.13it/s]\u001b[A\n",
            " 16%|█▌        | 8/50 [00:03<00:19,  2.12it/s]\u001b[A\n",
            " 18%|█▊        | 9/50 [00:04<00:19,  2.14it/s]\u001b[A\n",
            " 20%|██        | 10/50 [00:04<00:19,  2.10it/s]\u001b[A\n",
            " 22%|██▏       | 11/50 [00:05<00:19,  2.02it/s]\u001b[A\n",
            " 24%|██▍       | 12/50 [00:05<00:19,  1.98it/s]\u001b[A\n",
            " 26%|██▌       | 13/50 [00:06<00:19,  1.92it/s]\u001b[A\n",
            " 28%|██▊       | 14/50 [00:06<00:18,  1.98it/s]\u001b[A\n",
            " 30%|███       | 15/50 [00:07<00:18,  1.88it/s]\n",
            " 67%|██████▋   | 20/30 [03:28<01:18,  7.87s/it]\n",
            "  0%|          | 0/50 [00:00<?, ?it/s]\u001b[AEarly Stop Activated...\n",
            "epoch= 15, best_epoch = 44, curr_score = 0.004997701622589416, best_score = 0.3835523654706246,Stop_Step = 16\n",
            "batch_size = 200 ,learning_rate = 0.1, weight_decay = 0.0 \n",
            "\n",
            "  2%|▏         | 1/50 [00:00<00:22,  2.15it/s]\u001b[A\n",
            "  4%|▍         | 2/50 [00:00<00:22,  2.18it/s]\u001b[A\n",
            "  6%|▌         | 3/50 [00:01<00:21,  2.17it/s]\u001b[A\n",
            "  8%|▊         | 4/50 [00:01<00:21,  2.18it/s]\u001b[A\n",
            " 10%|█         | 5/50 [00:02<00:20,  2.15it/s]\u001b[A\n",
            " 12%|█▏        | 6/50 [00:02<00:20,  2.18it/s]\u001b[A\n",
            " 14%|█▍        | 7/50 [00:03<00:19,  2.17it/s]\u001b[A\n",
            " 16%|█▌        | 8/50 [00:03<00:19,  2.17it/s]\u001b[A\n",
            " 18%|█▊        | 9/50 [00:04<00:18,  2.17it/s]\u001b[A\n",
            " 20%|██        | 10/50 [00:04<00:18,  2.15it/s]\u001b[A\n",
            " 22%|██▏       | 11/50 [00:05<00:18,  2.14it/s]\u001b[A\n",
            " 24%|██▍       | 12/50 [00:05<00:17,  2.14it/s]\u001b[A\n",
            " 26%|██▌       | 13/50 [00:06<00:17,  2.07it/s]\u001b[A\n",
            " 28%|██▊       | 14/50 [00:06<00:17,  2.09it/s]\u001b[A\n",
            " 30%|███       | 15/50 [00:07<00:17,  2.00it/s]\n",
            " 70%|███████   | 21/30 [03:36<01:09,  7.76s/it]\n",
            "  0%|          | 0/50 [00:00<?, ?it/s]\u001b[AEarly Stop Activated...\n",
            "epoch= 15, best_epoch = 44, curr_score = 0.004997701622589416, best_score = 0.3835523654706246,Stop_Step = 16\n",
            "batch_size = 500 ,learning_rate = 1e-07, weight_decay = 0.2 \n",
            "\n",
            "  2%|▏         | 1/50 [00:00<00:22,  2.19it/s]\u001b[A\n",
            "  4%|▍         | 2/50 [00:00<00:23,  2.00it/s]\u001b[A\n",
            "  6%|▌         | 3/50 [00:01<00:23,  1.98it/s]\u001b[A\n",
            "  8%|▊         | 4/50 [00:02<00:23,  1.97it/s]\u001b[A\n",
            " 10%|█         | 5/50 [00:02<00:22,  2.02it/s]\u001b[A\n",
            " 12%|█▏        | 6/50 [00:02<00:21,  2.05it/s]\u001b[A\n",
            " 14%|█▍        | 7/50 [00:03<00:20,  2.06it/s]\u001b[A\n",
            " 16%|█▌        | 8/50 [00:03<00:20,  2.00it/s]\u001b[A\n",
            " 18%|█▊        | 9/50 [00:04<00:20,  1.99it/s]\u001b[A\n",
            " 20%|██        | 10/50 [00:04<00:20,  1.98it/s]\u001b[A\n",
            " 22%|██▏       | 11/50 [00:05<00:19,  1.97it/s]\u001b[A\n",
            " 24%|██▍       | 12/50 [00:06<00:19,  1.95it/s]\u001b[A\n",
            " 26%|██▌       | 13/50 [00:06<00:19,  1.94it/s]\u001b[A\n",
            " 28%|██▊       | 14/50 [00:07<00:17,  2.01it/s]\u001b[A\n",
            " 30%|███       | 15/50 [00:07<00:18,  1.89it/s]\n",
            " 73%|███████▎  | 22/30 [03:44<01:02,  7.81s/it]\n",
            "  0%|          | 0/50 [00:00<?, ?it/s]\u001b[AEarly Stop Activated...\n",
            "epoch= 15, best_epoch = 44, curr_score = 0.004997701622589416, best_score = 0.3835523654706246,Stop_Step = 16\n",
            "batch_size = 300 ,learning_rate = 0.001, weight_decay = 0.0 \n",
            "\n",
            "  2%|▏         | 1/50 [00:00<00:23,  2.11it/s]\u001b[A\n",
            "  4%|▍         | 2/50 [00:00<00:22,  2.10it/s]\u001b[A\n",
            "  6%|▌         | 3/50 [00:01<00:22,  2.10it/s]\u001b[A\n",
            "  8%|▊         | 4/50 [00:01<00:22,  2.09it/s]\u001b[A\n",
            " 10%|█         | 5/50 [00:02<00:21,  2.09it/s]\u001b[A\n",
            " 12%|█▏        | 6/50 [00:02<00:20,  2.10it/s]\u001b[A\n",
            " 14%|█▍        | 7/50 [00:03<00:21,  1.98it/s]\u001b[A\n",
            " 16%|█▌        | 8/50 [00:03<00:21,  1.93it/s]\u001b[A\n",
            " 18%|█▊        | 9/50 [00:04<00:21,  1.88it/s]\u001b[A\n",
            " 20%|██        | 10/50 [00:05<00:20,  1.91it/s]\u001b[A\n",
            " 22%|██▏       | 11/50 [00:05<00:20,  1.94it/s]\u001b[A\n",
            " 24%|██▍       | 12/50 [00:06<00:19,  1.99it/s]\u001b[A\n",
            " 26%|██▌       | 13/50 [00:06<00:18,  2.02it/s]\u001b[A\n",
            " 28%|██▊       | 14/50 [00:06<00:17,  2.06it/s]\u001b[A\n",
            " 30%|███       | 15/50 [00:07<00:18,  1.90it/s]\n",
            " 77%|███████▋  | 23/30 [03:52<00:54,  7.84s/it]\n",
            "  0%|          | 0/50 [00:00<?, ?it/s]\u001b[AEarly Stop Activated...\n",
            "epoch= 15, best_epoch = 44, curr_score = 0.004997701622589416, best_score = 0.3835523654706246,Stop_Step = 16\n",
            "batch_size = 100 ,learning_rate = 0.1, weight_decay = 0.0 \n",
            "\n",
            "  2%|▏         | 1/50 [00:00<00:23,  2.11it/s]\u001b[A\n",
            "  4%|▍         | 2/50 [00:00<00:23,  2.05it/s]\u001b[A\n",
            "  6%|▌         | 3/50 [00:01<00:22,  2.10it/s]\u001b[A\n",
            "  8%|▊         | 4/50 [00:02<00:24,  1.89it/s]\u001b[A\n",
            " 10%|█         | 5/50 [00:02<00:24,  1.83it/s]\u001b[A\n",
            " 12%|█▏        | 6/50 [00:03<00:23,  1.86it/s]\u001b[A\n",
            " 14%|█▍        | 7/50 [00:03<00:23,  1.81it/s]\u001b[A\n",
            " 16%|█▌        | 8/50 [00:04<00:23,  1.78it/s]\u001b[A\n",
            " 18%|█▊        | 9/50 [00:04<00:22,  1.82it/s]\u001b[A\n",
            " 20%|██        | 10/50 [00:05<00:22,  1.81it/s]\u001b[A\n",
            " 22%|██▏       | 11/50 [00:05<00:21,  1.85it/s]\u001b[A\n",
            " 24%|██▍       | 12/50 [00:06<00:20,  1.82it/s]\u001b[A\n",
            " 26%|██▌       | 13/50 [00:06<00:19,  1.86it/s]\u001b[A\n",
            " 28%|██▊       | 14/50 [00:07<00:18,  1.91it/s]\u001b[A\n",
            " 30%|███       | 15/50 [00:08<00:19,  1.79it/s]\n",
            " 80%|████████  | 24/30 [04:00<00:48,  8.01s/it]\n",
            "  0%|          | 0/50 [00:00<?, ?it/s]\u001b[AEarly Stop Activated...\n",
            "epoch= 15, best_epoch = 44, curr_score = 0.004997701622589416, best_score = 0.3835523654706246,Stop_Step = 16\n",
            "batch_size = 200 ,learning_rate = 1e-07, weight_decay = 0.1 \n",
            "\n",
            "  2%|▏         | 1/50 [00:00<00:23,  2.13it/s]\u001b[A\n",
            "  4%|▍         | 2/50 [00:00<00:22,  2.12it/s]\u001b[A\n",
            "  6%|▌         | 3/50 [00:01<00:22,  2.12it/s]\u001b[A\n",
            "  8%|▊         | 4/50 [00:01<00:22,  2.01it/s]\u001b[A\n",
            " 10%|█         | 5/50 [00:02<00:21,  2.05it/s]\u001b[A\n",
            " 12%|█▏        | 6/50 [00:02<00:21,  2.02it/s]\u001b[A\n",
            " 14%|█▍        | 7/50 [00:03<00:21,  2.05it/s]\u001b[A\n",
            " 16%|█▌        | 8/50 [00:03<00:21,  1.99it/s]\u001b[A\n",
            " 18%|█▊        | 9/50 [00:04<00:21,  1.92it/s]\u001b[A\n",
            " 20%|██        | 10/50 [00:05<00:20,  1.92it/s]\u001b[A\n",
            " 22%|██▏       | 11/50 [00:05<00:20,  1.92it/s]\u001b[A\n",
            " 24%|██▍       | 12/50 [00:06<00:19,  1.94it/s]\u001b[A\n",
            " 26%|██▌       | 13/50 [00:06<00:19,  1.89it/s]\u001b[A\n",
            " 28%|██▊       | 14/50 [00:07<00:18,  1.90it/s]\u001b[A\n",
            " 30%|███       | 15/50 [00:08<00:19,  1.84it/s]\n",
            " 83%|████████▎ | 25/30 [04:08<00:40,  8.06s/it]\n",
            "  0%|          | 0/50 [00:00<?, ?it/s]\u001b[AEarly Stop Activated...\n",
            "epoch= 15, best_epoch = 44, curr_score = 0.004997701622589416, best_score = 0.3835523654706246,Stop_Step = 16\n",
            "batch_size = 50 ,learning_rate = 0.1, weight_decay = 0.0 \n",
            "\n",
            "  2%|▏         | 1/50 [00:00<00:25,  1.90it/s]\u001b[A\n",
            "  4%|▍         | 2/50 [00:01<00:24,  1.99it/s]\u001b[A\n",
            "  6%|▌         | 3/50 [00:01<00:24,  1.90it/s]\u001b[A\n",
            "  8%|▊         | 4/50 [00:02<00:24,  1.91it/s]\u001b[A\n",
            " 10%|█         | 5/50 [00:02<00:23,  1.93it/s]\u001b[A\n",
            " 12%|█▏        | 6/50 [00:03<00:22,  1.94it/s]\u001b[A\n",
            " 14%|█▍        | 7/50 [00:03<00:22,  1.91it/s]\u001b[A\n",
            " 16%|█▌        | 8/50 [00:04<00:22,  1.88it/s]\u001b[A\n",
            " 18%|█▊        | 9/50 [00:04<00:21,  1.94it/s]\u001b[A\n",
            " 20%|██        | 10/50 [00:05<00:19,  2.02it/s]\u001b[A\n",
            " 22%|██▏       | 11/50 [00:05<00:18,  2.10it/s]\u001b[A\n",
            " 24%|██▍       | 12/50 [00:05<00:17,  2.15it/s]\u001b[A\n",
            " 26%|██▌       | 13/50 [00:06<00:16,  2.20it/s]\u001b[A\n",
            " 28%|██▊       | 14/50 [00:06<00:16,  2.23it/s]\u001b[A\n",
            " 30%|███       | 15/50 [00:07<00:18,  1.91it/s]\n",
            " 87%|████████▋ | 26/30 [04:16<00:31,  7.99s/it]\n",
            "  0%|          | 0/50 [00:00<?, ?it/s]\u001b[AEarly Stop Activated...\n",
            "epoch= 15, best_epoch = 44, curr_score = 0.004997701622589416, best_score = 0.3835523654706246,Stop_Step = 16\n",
            "batch_size = 50 ,learning_rate = 1e-05, weight_decay = 0.3 \n",
            "\n",
            "  2%|▏         | 1/50 [00:00<00:22,  2.15it/s]\u001b[A\n",
            "  4%|▍         | 2/50 [00:00<00:22,  2.15it/s]\u001b[A\n",
            "  6%|▌         | 3/50 [00:01<00:21,  2.14it/s]\u001b[A\n",
            "  8%|▊         | 4/50 [00:01<00:21,  2.13it/s]\u001b[A\n",
            " 10%|█         | 5/50 [00:02<00:21,  2.10it/s]\u001b[A\n",
            " 12%|█▏        | 6/50 [00:02<00:21,  2.04it/s]\u001b[A\n",
            " 14%|█▍        | 7/50 [00:03<00:21,  2.00it/s]\u001b[A\n",
            " 16%|█▌        | 8/50 [00:03<00:20,  2.04it/s]\u001b[A\n",
            " 18%|█▊        | 9/50 [00:04<00:19,  2.07it/s]\u001b[A\n",
            " 20%|██        | 10/50 [00:04<00:19,  2.08it/s]\u001b[A\n",
            " 22%|██▏       | 11/50 [00:05<00:18,  2.11it/s]\u001b[A\n",
            " 24%|██▍       | 12/50 [00:05<00:17,  2.12it/s]\u001b[A\n",
            " 26%|██▌       | 13/50 [00:06<00:17,  2.14it/s]\u001b[A\n",
            " 28%|██▊       | 14/50 [00:06<00:16,  2.14it/s]\u001b[A\n",
            " 30%|███       | 15/50 [00:07<00:17,  1.98it/s]\n",
            " 90%|█████████ | 27/30 [04:24<00:23,  7.87s/it]\n",
            "  0%|          | 0/50 [00:00<?, ?it/s]\u001b[AEarly Stop Activated...\n",
            "epoch= 15, best_epoch = 44, curr_score = 0.004997701622589416, best_score = 0.3835523654706246,Stop_Step = 16\n",
            "batch_size = 100 ,learning_rate = 1e-07, weight_decay = 0.2 \n",
            "\n",
            "  2%|▏         | 1/50 [00:00<00:22,  2.22it/s]\u001b[A\n",
            "  4%|▍         | 2/50 [00:00<00:22,  2.17it/s]\u001b[A\n",
            "  6%|▌         | 3/50 [00:01<00:21,  2.14it/s]\u001b[A\n",
            "  8%|▊         | 4/50 [00:01<00:21,  2.15it/s]\u001b[A\n",
            " 10%|█         | 5/50 [00:02<00:20,  2.16it/s]\u001b[A\n",
            " 12%|█▏        | 6/50 [00:02<00:20,  2.15it/s]\u001b[A\n",
            " 14%|█▍        | 7/50 [00:03<00:19,  2.15it/s]\u001b[A\n",
            " 16%|█▌        | 8/50 [00:03<00:19,  2.13it/s]\u001b[A\n",
            " 18%|█▊        | 9/50 [00:04<00:19,  2.13it/s]\u001b[A\n",
            " 20%|██        | 10/50 [00:04<00:18,  2.13it/s]\u001b[A\n",
            " 22%|██▏       | 11/50 [00:05<00:18,  2.13it/s]\u001b[A\n",
            " 24%|██▍       | 12/50 [00:05<00:17,  2.14it/s]\u001b[A\n",
            " 26%|██▌       | 13/50 [00:06<00:17,  2.14it/s]\u001b[A\n",
            " 28%|██▊       | 14/50 [00:06<00:16,  2.14it/s]\u001b[A\n",
            " 30%|███       | 15/50 [00:07<00:17,  2.01it/s]\n",
            " 93%|█████████▎| 28/30 [04:31<00:15,  7.75s/it]\n",
            "  0%|          | 0/50 [00:00<?, ?it/s]\u001b[AEarly Stop Activated...\n",
            "epoch= 15, best_epoch = 44, curr_score = 0.004997701622589416, best_score = 0.3835523654706246,Stop_Step = 16\n",
            "batch_size = 300 ,learning_rate = 1e-05, weight_decay = 0.3 \n",
            "\n",
            "  2%|▏         | 1/50 [00:00<00:22,  2.15it/s]\u001b[A\n",
            "  4%|▍         | 2/50 [00:00<00:22,  2.17it/s]\u001b[A\n",
            "  6%|▌         | 3/50 [00:01<00:21,  2.15it/s]\u001b[A\n",
            "  8%|▊         | 4/50 [00:01<00:21,  2.13it/s]\u001b[A\n",
            " 10%|█         | 5/50 [00:02<00:22,  2.03it/s]\u001b[A\n",
            " 12%|█▏        | 6/50 [00:02<00:21,  2.01it/s]\u001b[A\n",
            " 14%|█▍        | 7/50 [00:03<00:21,  1.99it/s]\u001b[A\n",
            " 16%|█▌        | 8/50 [00:03<00:20,  2.05it/s]\u001b[A\n",
            " 18%|█▊        | 9/50 [00:04<00:19,  2.09it/s]\u001b[A\n",
            " 20%|██        | 10/50 [00:04<00:18,  2.11it/s]\u001b[A\n",
            " 22%|██▏       | 11/50 [00:05<00:18,  2.13it/s]\u001b[A\n",
            " 24%|██▍       | 12/50 [00:05<00:17,  2.13it/s]\u001b[A\n",
            " 26%|██▌       | 13/50 [00:06<00:17,  2.13it/s]\u001b[A\n",
            " 28%|██▊       | 14/50 [00:06<00:16,  2.14it/s]\u001b[A\n",
            " 30%|███       | 15/50 [00:07<00:17,  1.97it/s]\n",
            " 97%|█████████▋| 29/30 [04:39<00:07,  7.71s/it]\n",
            "  0%|          | 0/50 [00:00<?, ?it/s]\u001b[AEarly Stop Activated...\n",
            "epoch= 15, best_epoch = 44, curr_score = 0.004997701622589416, best_score = 0.3835523654706246,Stop_Step = 16\n",
            "batch_size = 200 ,learning_rate = 1e-07, weight_decay = 0.0 \n",
            "\n",
            "  2%|▏         | 1/50 [00:00<00:47,  1.02it/s]\u001b[A\n",
            "  4%|▍         | 2/50 [00:01<00:41,  1.16it/s]\u001b[A\n",
            "  6%|▌         | 3/50 [00:02<00:31,  1.47it/s]\u001b[A\n",
            "  8%|▊         | 4/50 [00:02<00:27,  1.66it/s]\u001b[A\n",
            " 10%|█         | 5/50 [00:03<00:26,  1.73it/s]\u001b[A\n",
            " 12%|█▏        | 6/50 [00:03<00:24,  1.77it/s]\u001b[A\n",
            " 14%|█▍        | 7/50 [00:04<00:23,  1.84it/s]\u001b[A\n",
            " 16%|█▌        | 8/50 [00:04<00:22,  1.85it/s]\u001b[A\n",
            " 18%|█▊        | 9/50 [00:05<00:21,  1.90it/s]\u001b[A\n",
            " 20%|██        | 10/50 [00:05<00:21,  1.88it/s]\u001b[A\n",
            " 22%|██▏       | 11/50 [00:06<00:20,  1.89it/s]\u001b[A\n",
            " 24%|██▍       | 12/50 [00:06<00:20,  1.86it/s]\u001b[A\n",
            " 26%|██▌       | 13/50 [00:07<00:19,  1.85it/s]\u001b[A\n",
            " 28%|██▊       | 14/50 [00:07<00:18,  1.91it/s]\u001b[A\n",
            " 30%|███       | 15/50 [00:09<00:21,  1.66it/s]\n",
            "100%|██████████| 30/30 [04:48<00:00,  9.61s/it]Early Stop Activated...\n",
            "epoch= 15, best_epoch = 44, curr_score = 0.004997701622589416, best_score = 0.3835523654706246,Stop_Step = 16\n",
            "\n",
            " Best parameters; batch_size= 300, lr_ = 1e-05, weight_decay = 0.2, NDCG100_ = 0.3835523654706246\n",
            "\n"
          ]
        }
      ]
    },
    {
      "cell_type": "code",
      "metadata": {
        "id": "jUhco3_H8NIe",
        "outputId": "3f0dbb72-283d-45f0-a724-d2f183a91259"
      },
      "source": [
        "best_BS, best_lr_, best_weightdecay_,best_NGCG100 =  bestModelInfo\n",
        "print(\"batch_size     :\",best_BS)\n",
        "print(\"learning_rate  :\",best_lr_)\n",
        "print(\"weight_decay   :\",best_weightdecay_)\n",
        "print(\"best_NGCG100   :\",best_NGCG100)        "
      ],
      "execution_count": 227,
      "outputs": [
        {
          "output_type": "stream",
          "name": "stdout",
          "text": [
            "batch_size     : 300\nlearning_rate  : 1e-05\nweight_decay   : 0.2\nbest_NGCG100   : 0.3835523654706246\n"
          ]
        }
      ]
    },
    {
      "cell_type": "code",
      "metadata": {
        "id": "9ZYnQrEQ8NIh"
      },
      "source": [],
      "execution_count": null,
      "outputs": []
    },
    {
      "cell_type": "code",
      "metadata": {
        "id": "ToiZTh-b8NIi",
        "outputId": "afc75c01-d0a9-40e9-c27c-affb0d46ab43"
      },
      "source": [
        "# Run on test data with best model\n",
        "#model.load_state_dict(torch.load(model_name + \".pt\")))\n",
        "VAEmodel.load_state_dict(torch.load('MLDF1M_VAE.pth'))\n",
        "test_loss,tst_ndgc100_ = eval_step_2(VAEmodel,TestTrain_RatMat,TestTest_RatMat)\n",
        "tst_ndgc100_"
      ],
      "execution_count": 228,
      "outputs": [
        {
          "output_type": "execute_result",
          "data": {
            "text/plain": [
              "0.3877777527553243"
            ]
          },
          "metadata": {},
          "execution_count": 228
        }
      ]
    },
    {
      "cell_type": "code",
      "metadata": {
        "id": "xktq667i8NIj"
      },
      "source": [],
      "execution_count": null,
      "outputs": []
    },
    {
      "cell_type": "markdown",
      "metadata": {
        "id": "XPi3fl-UHGJo"
      },
      "source": [
        "###P_DimTuning"
      ]
    },
    {
      "cell_type": "code",
      "metadata": {
        "id": "mdA-9UIu8NIk"
      },
      "source": [
        "def getVAEModel(n_items,p_dims):\n",
        "    I = n_items    #I is the total number of items in the train date\n",
        "    q_Dims = [I] + p_dims[::-1]\n",
        "    P_Dims = p_dims + [I]\n",
        "    dropout_enc = [0.5, 0.]\n",
        "    dropout_dec = [0., 0.5]\n",
        "\n",
        "    VAEmodel = MultiVAE(P_Dims,q_Dims,dropout_enc,dropout_dec)\n",
        "    init_weights(VAEmodel)\n",
        "    VAEmodel.to(device)\n",
        "    return VAEmodel\n",
        "\n",
        "\n",
        "def P_dimsTuning(train_set,validtrain_set,validtest_set,n_items,p_dimsList,model_name,n_epochs,save_results= True):\n",
        "    update_count = 0\n",
        "    best_score = 0     ##based on MetricEval..\n",
        "    stop_step = 0\n",
        "    update_count = 0\n",
        "    stop = False\n",
        "    patience_epoch = 25\n",
        "    total_anneal_steps = getTot_annealSTeps(train_set,batch_size,n_epochs,anneal_cap)\n",
        "    for p_dims in tqdm(p_dimsList):\n",
        "        print(\"P_Dimensions: \",p_dims)\n",
        "        model_ = getVAEModel(n_items,p_dims) \n",
        "        Optimizer_ = torch.optim.AdamW(model_.parameters(), lr=lr_, weight_decay=weightdecay_)\n",
        "        for epoch in range(n_epochs):            \n",
        "            train_step_2(model_, Optimizer_, train_set,total_anneal_steps,epoch)\n",
        "            val_loss, NDCG100_ = eval_step_2(model_,validtrain_set,validtest_set)\n",
        "            curr_score = NDCG100_\n",
        "            best_score,stop_step,stop = early_stop(curr_score,best_score,stop_step,\n",
        "                                           patience=patience_epoch,score_fn='metric')\n",
        "            if stop:\n",
        "                break\n",
        "            if (stop_step == 0) & (save_results):\n",
        "               best_epoch = epoch\n",
        "               best_dims = p_dims\n",
        "               best_NGCG100 = NDCG100_\n",
        "               torch.save(model_.state_dict(),model_name+\".pth\")\n",
        "               print('NDCG100_ = {} '.format(best_NGCG100))\n",
        "               patience_epoch = epoch\n",
        "\n",
        "        #print('NDCG100_ = {} '.format(best_NGCG100))\n",
        "\n",
        "    print('\\n Best parameters; Best_dims= {}, Best_NDCG100 = {}, Best_epoch = {}'.format(best_dims,best_NGCG100,best_epoch))\n",
        "    return best_NGCG100,best_dims,best_epoch  \n",
        "\n"
      ],
      "execution_count": null,
      "outputs": []
    },
    {
      "cell_type": "code",
      "metadata": {
        "id": "ud_Hz3U78NIl",
        "outputId": "4835d083-272d-4927-fb55-0a60d8dc730e"
      },
      "source": [
        "# anneal_epochs = None  \n",
        "# anneal_cap = 0.2\n",
        "# constant_anneal = False\n",
        "# update_count = 0\n",
        "# batch_size=200\n",
        "# lr_=1e-5\n",
        "# weightdecay_=0.1\n",
        "# n_items = len(train_Items) \n",
        "# p_dimsList  = [[32,64],[64,128],[128,256],[256,512],[512,1024],[100,300],[200,600],[300,900]]\n",
        "\n",
        "\n",
        "# best_ModelInfo2 = P_dimsTuning(TrainDF_RatMat,ValidTrain_RatMat,ValidTest_RatMat,n_items,p_dimsList,\"AMZB_DimModel\",n_epochs=200,save_results= True)"
      ],
      "execution_count": 229,
      "outputs": []
    },
    {
      "cell_type": "code",
      "metadata": {
        "id": "0S2Ut2sW8NIn",
        "outputId": "d37efa37-f2ff-40c6-a307-dbc952f91396"
      },
      "source": [
        "newUserItem_list[0].columns  "
      ],
      "execution_count": null,
      "outputs": [
        {
          "output_type": "execute_result",
          "data": {
            "text/plain": [
              "Index(['userId', 'productId', 'Updated_UserID', 'Updated_ItemID'], dtype='object')"
            ]
          },
          "metadata": {
            "tags": []
          },
          "execution_count": 487
        }
      ]
    },
    {
      "cell_type": "code",
      "metadata": {
        "id": "PHzoPkWm8NIo",
        "outputId": "e1e22973-6b26-4dbb-e90c-60692a8cdbaa"
      },
      "source": [
        "rows_i = newMLDF_1M['Updated_UserID'].nunique()\n",
        "cols_i = newMLDF_1M['Updated_ItemID'].nunique()\n",
        "UserItem_MATList = AllRatingMatrices(newUserItem_list,'Updated_UserID','Updated_ItemID',rows_i ,cols_i) \n",
        "UserItem_MATList   "
      ],
      "execution_count": 230,
      "outputs": [
        {
          "output_type": "execute_result",
          "data": {
            "text/plain": [
              "[<6038x3533 sparse matrix of type '<class 'numpy.float64'>'\n",
              " \twith 500332 stored elements in Compressed Sparse Row format>,\n",
              " <6038x3533 sparse matrix of type '<class 'numpy.float64'>'\n",
              " \twith 508812 stored elements in Compressed Sparse Row format>,\n",
              " <6038x3533 sparse matrix of type '<class 'numpy.float64'>'\n",
              " \twith 517278 stored elements in Compressed Sparse Row format>,\n",
              " <6038x3533 sparse matrix of type '<class 'numpy.float64'>'\n",
              " \twith 525757 stored elements in Compressed Sparse Row format>,\n",
              " <6038x3533 sparse matrix of type '<class 'numpy.float64'>'\n",
              " \twith 534098 stored elements in Compressed Sparse Row format>,\n",
              " <6038x3533 sparse matrix of type '<class 'numpy.float64'>'\n",
              " \twith 542538 stored elements in Compressed Sparse Row format>,\n",
              " <6038x3533 sparse matrix of type '<class 'numpy.float64'>'\n",
              " \twith 551048 stored elements in Compressed Sparse Row format>,\n",
              " <6038x3533 sparse matrix of type '<class 'numpy.float64'>'\n",
              " \twith 559597 stored elements in Compressed Sparse Row format>,\n",
              " <6038x3533 sparse matrix of type '<class 'numpy.float64'>'\n",
              " \twith 568114 stored elements in Compressed Sparse Row format>,\n",
              " <6038x3533 sparse matrix of type '<class 'numpy.float64'>'\n",
              " \twith 574919 stored elements in Compressed Sparse Row format>]"
            ]
          },
          "metadata": {},
          "execution_count": 230
        }
      ]
    },
    {
      "cell_type": "code",
      "metadata": {
        "id": "0VPXTRm48NIo",
        "outputId": "7afdc1d2-8005-4af7-ffa2-8bb57862e0da"
      },
      "source": [
        " I =  newMLDF_1M['Updated_ItemID'].nunique()  #I is the total number of items in the train date\n",
        "q_dims = [I] + [600, 200]\n",
        "p_dims = [200, 600] + [I]\n",
        "dropout_enc = [0.5, 0.]\n",
        "dropout_dec = [0., 0.]\n",
        "\n",
        "                    #p_dims,q_dims,dropout_enc,dropout_dec\n",
        "VAEmodel_untrain = MultiVAE(p_dims,q_dims,dropout_enc,dropout_dec)\n",
        "init_weights(VAEmodel_untrain)\n",
        "VAEmodel_untrain.to(device)"
      ],
      "execution_count": 251,
      "outputs": [
        {
          "output_type": "execute_result",
          "data": {
            "text/plain": [
              "MultiVAE(\n",
              "  (encode): Encoder(\n",
              "    (q_layers): Sequential(\n",
              "      (dropout_0): Dropout(p=0.5, inplace=False)\n",
              "      (linear_0): Linear(in_features=3533, out_features=600, bias=True)\n",
              "      (dropout_1): Dropout(p=0.0, inplace=False)\n",
              "      (linear_1): Linear(in_features=600, out_features=400, bias=True)\n",
              "    )\n",
              "  )\n",
              "  (decode): Decoder(\n",
              "    (p_layers): Sequential(\n",
              "      (dropout_0): Dropout(p=0.0, inplace=False)\n",
              "      (linear_0): Linear(in_features=200, out_features=600, bias=True)\n",
              "      (dropout_1): Dropout(p=0.0, inplace=False)\n",
              "      (linear_1): Linear(in_features=600, out_features=3533, bias=True)\n",
              "    )\n",
              "  )\n",
              ")"
            ]
          },
          "metadata": {},
          "execution_count": 251
        }
      ]
    },
    {
      "cell_type": "code",
      "metadata": {
        "id": "wGQqTWnAHPBU"
      },
      "source": [],
      "execution_count": null,
      "outputs": []
    },
    {
      "cell_type": "markdown",
      "metadata": {
        "id": "qNpKrnblHPt2"
      },
      "source": [
        "### Get Prediction"
      ]
    },
    {
      "cell_type": "code",
      "metadata": {
        "id": "sXvlZxKl8NIp"
      },
      "source": [
        "def Trainwith_Best(model,UserItem_TRset,best_BS,best_lr,best_wd):\n",
        "    total_anneal_steps = getTot_annealSTeps(UserItem_TRset,best_BS,anneal_n,anneal_cap)\n",
        "    Optimizer_ = torch.optim.AdamW(model.parameters(), lr=best_lr, weight_decay=best_wd)\n",
        "    for epoch in tqdm(range(bst_epochs)):            \n",
        "        train_step_2(model, Optimizer_, UserItem_TRset,total_anneal_steps,epoch)\n",
        "      \n",
        "    #torch.save(model.state_dict(),model_name+\".pth\")\n",
        "    return model\n",
        "\n",
        "def get_ModelOut(X_train,model):  #X_train== RatMat...\n",
        "    with torch.no_grad():\n",
        "         X_input = torch.FloatTensor(X_train.toarray()).to(device)\n",
        "         X_out, mu, logvar = model(X_input)\n",
        "         X_out = X_out.cpu().numpy()         #convert from tensor to numpy\n",
        "         X_out[X_train.nonzero()] = -np.inf  #Exclude examples from training set\n",
        "    return X_out\n",
        "\n",
        "\n",
        "def getVAE_TopNPred(X_out,k):   ##X_out == tensor output from model\n",
        "    batch_users = X_out.shape[0]\n",
        "    idx_topk_part = bn.argpartition(-X_out, k, axis=1)\n",
        "    topk_part = X_out[np.arange(batch_users)[:, np.newaxis], idx_topk_part[:, :k]]\n",
        "    idx_part = np.argsort(-topk_part, axis=1)\n",
        "    idx_topk = idx_topk_part[np.arange(batch_users)[:, np.newaxis], idx_part]\n",
        "    return idx_topk\n",
        "\n",
        "def getVAE_AllPred(model,UserItemList,best_BS,best_lr,best_wd,k=10):\n",
        "    ALLstep_Pred  = []\n",
        "    for UserItem_ in UserItemList:\n",
        "        Trainedmodel = Trainwith_Best(model,UserItem_,best_BS,best_lr,best_wd)\n",
        "        X_out = get_ModelOut(UserItem_,Trainedmodel)\n",
        "        topNPred = getVAE_TopNPred(X_out,k)   ##get prediction for all users..\n",
        "        ALLstep_Pred.append(topNPred)\n",
        "    return ALLstep_Pred\n",
        "\n",
        "\n",
        "def VAEHitrate_Eval_2(allPred,holdout,user_column,item_column):  ##N == Top_N\n",
        "    TestUsers = holdout[user_column]\n",
        "    HOLDOUT_pred = allPred[TestUsers,:] \n",
        "    Eval_itemsVector  = holdout[[item_column]].to_numpy()\n",
        "    HitRate_arr   =  (HOLDOUT_pred == Eval_itemsVector).sum(axis=1)  ##sum along row...\n",
        "    HitCount = np.count_nonzero(HitRate_arr == 1)\n",
        "    HitRate_ = HitRate_arr.mean()\n",
        "    print(\"Number of hits: \", HitCount)\n",
        "    print(\"Total Num of users: \",len(holdout[user_column]))\n",
        "    print(\"Recommendation HitRate: \",HitRate_)\n",
        "    return HitRate_\n",
        "\n",
        "def VAEHitrate_Eval(allPred,holdout,user_column,item_column):  ##N == Top_N\n",
        "    TestUsers = holdout[user_column]\n",
        "    HOLDOUT_pred = allPred[TestUsers,:] \n",
        "    Eval_itemsVector  = holdout[[item_column]].to_numpy()\n",
        "    HitRate_arr   =  (HOLDOUT_pred == Eval_itemsVector).sum(axis=1)  ##sum along row...\n",
        "    HitCount = np.count_nonzero(HitRate_arr == 1)\n",
        "    HitRate_ = HitRate_arr.mean()\n",
        "    return HitRate_\n",
        "\n",
        "def mean_confidence_interval(data, confidence=0.95):\n",
        "    a = 1.0 * np.array(data)\n",
        "    n = len(a)\n",
        "    mean, se = np.mean(a), st.sem(a)\n",
        "    h = se * scipy.stats.t.ppf((1 + confidence) / 2., n-1)\n",
        "    lower_band =  mean-h\n",
        "    upper_band =  mean+h\n",
        "    return lower_band, mean,upper_band                ##LowerBand || Mean || UpperBand\n",
        "\n",
        "\n",
        "\n",
        "def getAll_VAEHitRate(HOLDOUT_list,All_TOPN_PRED,user_column,item_column):\n",
        "    AllSteps_Hitrate = []\n",
        "    for holdout, allPred in zip(HOLDOUT_list,All_TOPN_PRED):                   \n",
        "        HitRate_ = VAEHitrate_Eval_2(allPred,holdout,user_column,item_column)\n",
        "        AllSteps_Hitrate.append(HitRate_)\n",
        "\n",
        "    LowerBand, Avg_HitRate, UpperBand  = mean_confidence_interval(AllSteps_Hitrate, confidence=0.95)\n",
        "    print(\"Average HitRate for All Recommendations: \", Avg_HitRate)\n",
        "    return AllSteps_Hitrate, LowerBand, Avg_HitRate, UpperBand    \n",
        "       "
      ],
      "execution_count": 236,
      "outputs": []
    },
    {
      "cell_type": "code",
      "execution_count": 233,
      "metadata": {},
      "outputs": [
        {
          "output_type": "stream",
          "name": "stdout",
          "text": [
            "300 1e-05 0.2\n"
          ]
        }
      ],
      "source": [
        "print(best_BS, best_lr_, best_weightdecay_)"
      ]
    },
    {
      "cell_type": "code",
      "metadata": {
        "id": "5hwBIEKY8NIq",
        "outputId": "ccb701e8-eafa-4b8f-e0db-f3d7b2b1ed4b"
      },
      "source": [
        "anneal_epochs = None  \n",
        "anneal_cap = 0.2\n",
        "constant_anneal = False\n",
        "update_count = 0\n",
        "anneal_n = 200\n",
        "bst_epochs = 100   #50\n",
        "ALLstep_PredList =  getVAE_AllPred(VAEmodel_untrain,UserItem_MATList,best_BS,best_lr_,best_weightdecay_,k=10)"
      ],
      "execution_count": 252,
      "outputs": [
        {
          "output_type": "stream",
          "name": "stderr",
          "text": [
            "100%|██████████| 100/100 [00:19<00:00,  5.22it/s]\n",
            "100%|██████████| 100/100 [00:20<00:00,  4.87it/s]\n",
            "100%|██████████| 100/100 [00:19<00:00,  5.09it/s]\n",
            "100%|██████████| 100/100 [00:20<00:00,  4.93it/s]\n",
            "100%|██████████| 100/100 [00:19<00:00,  5.03it/s]\n",
            "100%|██████████| 100/100 [00:19<00:00,  5.19it/s]\n",
            "100%|██████████| 100/100 [00:17<00:00,  5.64it/s]\n",
            "100%|██████████| 100/100 [00:21<00:00,  4.67it/s]\n",
            "100%|██████████| 100/100 [00:20<00:00,  4.80it/s]\n",
            "100%|██████████| 100/100 [00:20<00:00,  4.95it/s]\n"
          ]
        }
      ]
    },
    {
      "cell_type": "code",
      "execution_count": 253,
      "metadata": {},
      "outputs": [
        {
          "output_type": "stream",
          "name": "stdout",
          "text": [
            "10\n"
          ]
        },
        {
          "output_type": "execute_result",
          "data": {
            "text/plain": [
              "[array([[223, 221,  91, ..., 271,  59, 129],\n",
              "        [221,  12,  19, ...,  40,  22,   2],\n",
              "        [ 87,  22,  19, ..., 223,  59,   2],\n",
              "        ...,\n",
              "        [223, 221,  91, ...,  19, 271,  18],\n",
              "        [ 19,  91, 261, ..., 478,   2,  87],\n",
              "        [137,  24, 455, ...,  91,  62,  87]]),\n",
              " array([[223, 221, 261, ..., 461, 283, 271],\n",
              "        [ 19, 223,   2, ...,  24, 156,  18],\n",
              "        [ 19, 223,  87, ...,  22,  24, 455],\n",
              "        ...,\n",
              "        [221,   2, 223, ..., 461, 330,  18],\n",
              "        [223,  87,  19, ...,  40, 221, 461],\n",
              "        [ 40,  87, 223, ...,  22, 330,  19]])]"
            ]
          },
          "metadata": {},
          "execution_count": 253
        }
      ],
      "source": [
        "print(len(ALLstep_PredList))   ##100\n",
        "ALLstep_PredList[:2]"
      ]
    },
    {
      "cell_type": "code",
      "metadata": {
        "id": "3_rq-uIh8NIr",
        "outputId": "c04aec7e-7952-4736-c348-9fc0cde047ba"
      },
      "source": [
        "print(len(ALLstep_PredList))  ##50\n",
        "ALLstep_PredList[:2]"
      ],
      "execution_count": 238,
      "outputs": [
        {
          "output_type": "stream",
          "name": "stdout",
          "text": [
            "10\n"
          ]
        },
        {
          "output_type": "execute_result",
          "data": {
            "text/plain": [
              "[array([[  91,  223,  221, ...,  461,  408,   59],\n",
              "        [  19,  261,  223, ...,   22,    2,   40],\n",
              "        [ 223,   89,   73, ...,  312,   24,   27],\n",
              "        ...,\n",
              "        [2933,  170,  330, ...,  271,   19,  263],\n",
              "        [ 100,   27,  695, ...,  332,   62,   15],\n",
              "        [ 330,  556,  595, ...,  413,  112,   12]]),\n",
              " array([[261, 223,  62, ..., 455, 330, 283],\n",
              "        [  2,  22, 221, ...,  24,  18, 330],\n",
              "        [ 19, 223,   0, ...,  40,  87,  89],\n",
              "        ...,\n",
              "        [ 19,  91, 261, ...,  87,  12,  24],\n",
              "        [ 87,  19, 283, ..., 330, 221,  15],\n",
              "        [223,  19,  87, ..., 330,  73,  18]])]"
            ]
          },
          "metadata": {},
          "execution_count": 238
        }
      ]
    },
    {
      "cell_type": "code",
      "metadata": {
        "id": "mzvjV_-yHulL"
      },
      "source": [
        "with open('MLDF1M_VAEPredList.pkl', 'wb') as f:\n",
        "     pickle.dump(ALLstep_PredList, f)\n"
      ],
      "execution_count": 246,
      "outputs": []
    },
    {
      "cell_type": "markdown",
      "metadata": {
        "id": "vcoGO_f_HvOA"
      },
      "source": [
        "### HitRate_"
      ]
    },
    {
      "cell_type": "code",
      "metadata": {
        "id": "5PyD_zvo8NIs",
        "outputId": "1bcfd223-89f6-4882-eda2-511386646b81"
      },
      "source": [
        "newHOLDOUT_LIST[0].columns"
      ],
      "execution_count": 239,
      "outputs": [
        {
          "output_type": "execute_result",
          "data": {
            "text/plain": [
              "Index(['userId', 'productId', 'Updated_UserID', 'Updated_ItemID'], dtype='object')"
            ]
          },
          "metadata": {},
          "execution_count": 239
        }
      ]
    },
    {
      "cell_type": "code",
      "metadata": {
        "id": "zwA8-T0X8NIs",
        "outputId": "4d196ece-5aa5-4128-95dc-6259704e1f52"
      },
      "source": [
        "VAEHitrate_Eval_2(ALLstep_PredList[0],newHOLDOUT_LIST[0],'Updated_UserID', 'Updated_ItemID')"
      ],
      "execution_count": 254,
      "outputs": [
        {
          "output_type": "stream",
          "name": "stdout",
          "text": [
            "Number of hits:  10\nTotal Num of users:  233\nRecommendation HitRate:  0.04291845493562232\n"
          ]
        },
        {
          "output_type": "execute_result",
          "data": {
            "text/plain": [
              "0.04291845493562232"
            ]
          },
          "metadata": {},
          "execution_count": 254
        }
      ]
    },
    {
      "cell_type": "code",
      "execution_count": 260,
      "metadata": {},
      "outputs": [],
      "source": [
        "#getAll_VAEHitRate(HOLDOUT_list,All_TOPN_PRED,user_column,item_column)\n",
        "#getAll_VAEHitRate(newHOLDOUT_LIST,ALLstep_PredList,'Updated_UserID', 'Updated_ItemID')"
      ]
    },
    {
      "cell_type": "code",
      "metadata": {
        "id": "5ogj8_kM8NIt",
        "outputId": "f91d4278-5685-4dfa-985e-76c0e5007584"
      },
      "source": [
        "#getAll_VAEHitRate(HOLDOUT_list,All_TOPN_PRED,user_column,item_column)\n",
        "getAll_VAEHitRate(newHOLDOUT_LIST,ALLstep_PredList,'Updated_UserID', 'Updated_ItemID')"
      ],
      "execution_count": 241,
      "outputs": [
        {
          "output_type": "stream",
          "name": "stdout",
          "text": [
            "Number of hits:  12\nTotal Num of users:  233\nRecommendation HitRate:  0.05150214592274678\nNumber of hits:  7\nTotal Num of users:  255\nRecommendation HitRate:  0.027450980392156862\nNumber of hits:  12\nTotal Num of users:  286\nRecommendation HitRate:  0.04195804195804196\nNumber of hits:  8\nTotal Num of users:  309\nRecommendation HitRate:  0.025889967637540454\nNumber of hits:  19\nTotal Num of users:  468\nRecommendation HitRate:  0.0405982905982906\nNumber of hits:  22\nTotal Num of users:  526\nRecommendation HitRate:  0.04182509505703422\nNumber of hits:  16\nTotal Num of users:  517\nRecommendation HitRate:  0.030947775628626693\nNumber of hits:  20\nTotal Num of users:  470\nRecommendation HitRate:  0.0425531914893617\nNumber of hits:  29\nTotal Num of users:  453\nRecommendation HitRate:  0.0640176600441501\nNumber of hits:  15\nTotal Num of users:  362\nRecommendation HitRate:  0.04143646408839779\nAverage HitRate for All Recommendations:  0.040817961281634715\n"
          ]
        },
        {
          "output_type": "execute_result",
          "data": {
            "text/plain": [
              "([0.05150214592274678,\n",
              "  0.027450980392156862,\n",
              "  0.04195804195804196,\n",
              "  0.025889967637540454,\n",
              "  0.0405982905982906,\n",
              "  0.04182509505703422,\n",
              "  0.030947775628626693,\n",
              "  0.0425531914893617,\n",
              "  0.0640176600441501,\n",
              "  0.04143646408839779],\n",
              " 0.03270681252766698,\n",
              " 0.040817961281634715,\n",
              " 0.04892911003560245)"
            ]
          },
          "metadata": {},
          "execution_count": 241
        }
      ]
    },
    {
      "cell_type": "code",
      "metadata": {
        "id": "MNlMu2Jd8NIu"
      },
      "source": [],
      "execution_count": null,
      "outputs": []
    },
    {
      "cell_type": "markdown",
      "metadata": {
        "id": "chL9EGivHZjG"
      },
      "source": [
        "###Stability Check"
      ]
    },
    {
      "cell_type": "code",
      "metadata": {
        "id": "SeF86kPN8NJP",
        "outputId": "0e95bc2c-2c0b-4ea4-a7f1-138af253f818"
      },
      "source": [
        "AllSteps = list(range(1,10))\n",
        "print(len(AllSteps))\n",
        "AllSteps  "
      ],
      "execution_count": 242,
      "outputs": [
        {
          "output_type": "stream",
          "name": "stdout",
          "text": [
            "9\n"
          ]
        },
        {
          "output_type": "execute_result",
          "data": {
            "text/plain": [
              "[1, 2, 3, 4, 5, 6, 7, 8, 9]"
            ]
          },
          "metadata": {},
          "execution_count": 242
        }
      ]
    },
    {
      "cell_type": "code",
      "metadata": {
        "id": "PL0Ijm0w8NJQ",
        "outputId": "5a239dff-157d-42ef-af67-ab410b6260f2"
      },
      "source": [
        "newUserItem_list[0].columns"
      ],
      "execution_count": 243,
      "outputs": [
        {
          "output_type": "execute_result",
          "data": {
            "text/plain": [
              "Index(['userId', 'productId', 'Updated_UserID', 'Updated_ItemID'], dtype='object')"
            ]
          },
          "metadata": {},
          "execution_count": 243
        }
      ]
    },
    {
      "cell_type": "code",
      "execution_count": 256,
      "metadata": {},
      "outputs": [
        {
          "output_type": "execute_result",
          "data": {
            "text/plain": [
              "array([array([0.74574267, 0.22293099, 0.30544747, ..., 0.23366204, 0.29627678,\n",
              "              0.28320584])                                                    ,\n",
              "       array([0.        , 0.08321104, 0.46201842, ..., 0.04457968, 0.03534858,\n",
              "              0.04791652])                                                    ,\n",
              "       array([0.23469388, 0.46057188, 0.25420561, ..., 0.35232686, 0.        ,\n",
              "              0.20851412])                                                    ,\n",
              "       array([0.24710653, 0.20722931, 0.5327588 , ..., 0.15626224, 0.13842832,\n",
              "              0.57042553])                                                    ,\n",
              "       array([0.31357893, 0.12386753, 0.46361293, ..., 0.36281388, 0.13449124,\n",
              "              0.33653237])                                                    ,\n",
              "       array([0.27698962, 0.04199901, 0.24311579, ..., 0.23614135, 0.09331951,\n",
              "              0.16392021])                                                    ,\n",
              "       array([0.42683163, 0.61739893, 0.12326891, ..., 0.55356767, 0.57983733,\n",
              "              0.06839401])                                                    ,\n",
              "       array([0.1804878 , 0.59952324, 0.19967493, ..., 0.30107527, 0.14870438,\n",
              "              0.23655554])                                                    ,\n",
              "       array([0.09526636, 0.37885298, 0.26930353, ..., 0.44753873, 0.13449124,\n",
              "              0.        ])                                                    ],\n",
              "      dtype=object)"
            ]
          },
          "metadata": {},
          "execution_count": 256
        }
      ],
      "source": [
        "VAECorr_ = Updt_getAll_AvgCorr(ALLstep_PredList,newUserItem_list,AllSteps,'Updated_UserID')  #,\n",
        "VAECorr_"
      ]
    },
    {
      "cell_type": "code",
      "execution_count": 259,
      "metadata": {},
      "outputs": [],
      "source": [
        "# print(VAECorr_.shape)\n",
        "# for df in VAECorr_:\n",
        "#     print(df.mean())  "
      ]
    },
    {
      "cell_type": "code",
      "metadata": {
        "id": "I952Pke78NJR",
        "outputId": "537c0d51-161b-437a-e4a2-8ff7dd5e8b82"
      },
      "source": [
        "# VAECorr_ = Updt_getAll_AvgCorr(ALLstep_PredList,newUserItem_list,AllSteps,'Updated_UserID')  #,\n",
        "# VAECorr_"
      ],
      "execution_count": 258,
      "outputs": []
    },
    {
      "cell_type": "code",
      "metadata": {
        "id": "EM0n2mt08NJS",
        "outputId": "f63a027c-d961-4757-d564-d02cb7d6124a"
      },
      "source": [
        "print(VAECorr_.shape)   #50\n",
        "    print(df.mean())  "
      ],
      "execution_count": 245,
      "outputs": [
        {
          "output_type": "stream",
          "name": "stdout",
          "text": [
            "(9,)\n0.39702879229666665\n0.4157991349449941\n0.43218495599712753\n0.38141795006644386\n0.3587914848103854\n0.3869316534308683\n0.34219130180373897\n0.3519408456708518\n0.36409856994483464\n"
          ]
        }
      ]
    },
    {
      "cell_type": "code",
      "metadata": {
        "id": "jhLdobrK8NJU"
      },
      "source": [
        "##mrr_\n",
        "VAE_AllStepsMRR, VAE_LBand, VAE_AvgMRR, VAE_UBand  = getAll_VAEMRR(newHOLDOUT_LIST,ALLstep_PredList,'Updated_UserID','Updated_ItemID')\n",
        "VAE_AllStepsMRR"
      ],
      "execution_count": 247,
      "outputs": [
        {
          "output_type": "stream",
          "name": "stderr",
          "text": [
            "10it [00:00, 565.12it/s]\n"
          ]
        },
        {
          "output_type": "execute_result",
          "data": {
            "text/plain": [
              "[0.012876,\n",
              " 0.008573,\n",
              " 0.016909,\n",
              " 0.012045,\n",
              " 0.011844,\n",
              " 0.018922,\n",
              " 0.01007,\n",
              " 0.015277,\n",
              " 0.023361,\n",
              " 0.017671]"
            ]
          },
          "metadata": {},
          "execution_count": 247
        }
      ]
    },
    {
      "cell_type": "code",
      "execution_count": 248,
      "metadata": {},
      "outputs": [
        {
          "output_type": "stream",
          "name": "stdout",
          "text": [
            "0.011517135847101786 0.014754799999999998 0.01799246415289821\n"
          ]
        }
      ],
      "source": [
        "print(VAE_LBand, VAE_AvgMRR, VAE_UBand)"
      ]
    },
    {
      "cell_type": "code",
      "execution_count": 250,
      "metadata": {},
      "outputs": [
        {
          "output_type": "execute_result",
          "data": {
            "text/plain": [
              "[0.22587,\n",
              " 0.119445,\n",
              " 0.115766,\n",
              " 0.109539,\n",
              " 0.105859,\n",
              " 0.112652,\n",
              " 0.122276,\n",
              " 0.125106,\n",
              " 0.159638,\n",
              " 0.178319]"
            ]
          },
          "metadata": {},
          "execution_count": 250
        }
      ],
      "source": [
        "##Coverage...:\n",
        "VAE_AvgCoverageList = AllSteps_Coverage_Ratio(newMLDF_1M,ALLstep_PredList,'Updated_ItemID')\n",
        "VAE_AvgCoverageList"
      ]
    },
    {
      "cell_type": "code",
      "execution_count": null,
      "metadata": {},
      "outputs": [],
      "source": []
    }
  ]
}