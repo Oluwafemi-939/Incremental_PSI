{
  "nbformat": 4,
  "nbformat_minor": 0,
  "metadata": {
    "colab": {
      "name": "IncreUpdt_AMZBeauty.ipynb",
      "provenance": [],
      "collapsed_sections": [
        "15dFS1TUYbdh"
      ],
      "toc_visible": true
    },
    "kernelspec": {
      "name": "python392jvsc74a57bd01d40221c0336dfe0c468749ccfbce19a4d0ada951efb74219fd3ebf7d78ddc70",
      "display_name": "Python 3.9.2 64-bit ('PSI_project': conda)"
    },
    "language_info": {
      "codemirror_mode": {
        "name": "ipython",
        "version": 3
      },
      "file_extension": ".py",
      "mimetype": "text/x-python",
      "name": "python",
      "nbconvert_exporter": "python",
      "pygments_lexer": "ipython3",
      "version": "3.9.2"
    },
    "metadata": {
      "interpreter": {
        "hash": "1d40221c0336dfe0c468749ccfbce19a4d0ada951efb74219fd3ebf7d78ddc70"
      }
    }
  },
  "cells": [
    {
      "cell_type": "code",
      "metadata": {
        "id": "bnB7cJYMVY4Y"
      },
      "source": [
        ""
      ],
      "execution_count": null,
      "outputs": []
    },
    {
      "cell_type": "markdown",
      "metadata": {
        "id": "0N04kT5hHSNS"
      },
      "source": [
        "- This Notebook contains Experiements with **Amazon Beauty** Dataset for the following models:\n",
        "\n",
        "- **Updated PSI**\n",
        "\n",
        "- **Regular PSI**\n",
        "\n",
        "- **Pure SVD**\n",
        "\n",
        "- **Most Pop**\n",
        "\n",
        "- **Rand Rec**"
      ]
    },
    {
      "cell_type": "markdown",
      "metadata": {
        "id": "waGNRsQkGt3t"
      },
      "source": [
        "## Imports"
      ]
    },
    {
      "cell_type": "code",
      "metadata": {
        "id": "SsI3KjeZs-Yz"
      },
      "source": [
        "import os\n",
        "os.environ[\"OMP_NUM_THREADS\"] = \"8\"        #export OMP_NUM_THREADS=4\n",
        "os.environ[\"OPENBLAS_NUM_THREADS\"] = \"8\"   #export OPENBLAS_NUM_THREADS=4 \n",
        "os.environ[\"MKL_NUM_THREADS\"] = \"8\"        #export MKL_NUM_THREADS=6\n",
        "os.environ[\"VECLIB_MAXIMUM_THREADS\"] = \"8\" # export VECLIB_MAXIMUM_THREADS=4\n",
        "os.environ[\"NUMEXPR_NUM_THREADS\"] = \"8\""
      ],
      "execution_count": null,
      "outputs": []
    },
    {
      "cell_type": "code",
      "metadata": {
        "id": "LSMrVzzrFcnl"
      },
      "source": [
        "import io\n",
        "import os\n",
        "import gzip\n",
        "import json\n",
        "import scipy\n",
        "import random\n",
        "import warnings\n",
        "import numpy as np\n",
        "import numba as nb\n",
        "import pandas as pd\n",
        "import datetime as dt\n",
        "import seaborn as sns\n",
        "from tqdm import tqdm\n",
        "import scipy.stats as st\n",
        "from collections import OrderedDict\n",
        "import scipy.sparse as sparse\n",
        "from scipy.linalg import orth\n",
        "import matplotlib.pyplot as plt\n",
        "from numpy import linalg as lin\n",
        "warnings.filterwarnings('ignore')\n",
        "from scipy.sparse import coo_matrix\n",
        "from scipy.sparse.linalg import svds\n",
        "from datetime import datetime as dt_dt\n",
        "from scipy.sparse.linalg import spsolve\n",
        "from numpy.linalg import qr as QR_decomp\n",
        "from scipy.sparse import csr_matrix, find\n",
        "from pandas.api.types import CategoricalDtype\n",
        "from typing import List\n",
        "import torch\n",
        "import torch.nn.functional as F\n",
        "from torch import nn\n",
        "from polara.evaluation.pipelines import random_grid\n",
        "import bottleneck as bn\n",
        "import pickle"
      ],
      "execution_count": null,
      "outputs": []
    },
    {
      "cell_type": "code",
      "metadata": {
        "id": "lgWjyfTCs-Y2"
      },
      "source": [
        "from  polara import RecommenderData\n",
        "import os; os.environ[\"MKL_NUM_THREADS\"] = \"1\" # as required by implicit\n",
        "import numpy as np\n",
        "\n",
        "from polara.recommender.external.implicit.ialswrapper import ImplicitALS\n",
        "from polara.evaluation.pipelines import random_grid, set_config,find_optimal_config"
      ],
      "execution_count": null,
      "outputs": []
    },
    {
      "cell_type": "markdown",
      "metadata": {
        "id": "IkLZJhQWqaPp"
      },
      "source": [
        "## Functions"
      ]
    },
    {
      "cell_type": "code",
      "metadata": {
        "id": "Uvv8Q8zR7OAn"
      },
      "source": [
        "import sys\n",
        "sys.path.append('/home/oolaleke/incremental_PSI/Scripts/')"
      ],
      "execution_count": null,
      "outputs": []
    },
    {
      "cell_type": "code",
      "metadata": {
        "id": "qoOQOsCf7849"
      },
      "source": [
        "import a_DataHelpers\n",
        "import b_AlgoFunctions\n",
        "import c_PredEval\n",
        "import d_CorrScores\n",
        "import e_VAEfunction"
      ],
      "execution_count": null,
      "outputs": []
    },
    {
      "cell_type": "code",
      "metadata": {
        "id": "q3U41fqMd0bb"
      },
      "source": [
        "# import sys\n",
        "# sys.path.append('/content/drive/MyDrive/ColabNotebooks/Research/Functions/')"
      ],
      "execution_count": null,
      "outputs": []
    },
    {
      "cell_type": "code",
      "metadata": {
        "id": "slSdgbc1XxNT"
      },
      "source": [
        "from a_DataHelpers import getPivotMonths,Time_DataSplit,TestTrain_DataSplit,SingleRatingMatrix\n",
        "from a_DataHelpers import AllRatingMatrices,All_SingleStepRatMat,psiStep_RatMat,psiAllStep_RatMat\n",
        "from a_DataHelpers import Find_NewUsersItems,adjustedPSI_DF,adjustedAllDF,get_NEWHoldout,ADJUST_mainDF\n",
        "from a_DataHelpers import  SingleStepRatMat_2,AllSingleStepRatMat_2\n",
        "\n",
        "from b_AlgoFunctions import integrator,getStartingValues,integratorOnMat,last_psiTrainMat, pureSVD\n",
        "from b_AlgoFunctions import Updt_RowMatrix,getRow_Mat,row_update, Updt_ColMatrix,getCol_Mat,colunm_update\n",
        "from b_AlgoFunctions import UsersItems_RatPair,getRowCol_psiupdt,ITEMS_defferredStatus,USERS_defferredStatus\n",
        "from b_AlgoFunctions import getV_listUpdate, SingleStep_UPDATE,ALLSTEPs_UPDATE\n",
        "from b_AlgoFunctions import tune_ALS,auc_score,TrainTest,mean_auc,getiALS_VUlist\n",
        "from b_AlgoFunctions import HitrEval_noprint,SVDoptimalSearch\n",
        "\n",
        "from c_PredEval import TopNPred,TQDMgetALLTopNPred, Hitrate_Eval,getAll_HitRate,mean_confidence_interval\n",
        "from c_PredEval import TQDMgetALLTopNPred_ALLUSERS,getALLTopNPred_ALLUSERS,get_ALLRandPred\n",
        "from c_PredEval import topN_Index,getAll_RandomHitRate,getMOSTPOP_Pred,getAll_MostPOPHitRate,getAll_MOSTPOP_Pred\n",
        "from c_PredEval import StepCoverage_Ratio,AllSteps_Coverage_Ratio,getAll_VAEMRR\n",
        "from c_PredEval import MRR_Eval,getAll_MRR_Eval,TQDMgetAll_MRR_Eval, getAll_MostPOP_MRR,getAll_RandomRecMRR\n",
        "from c_PredEval import ials_TopNPred, ials_getALLPred, ials_getALLPredTQDM,ialsALLPred_ALLUSERS\n",
        "\n",
        "from d_CorrScores import no_copy_csr_matrix,build_rank_weights_matrix,rank_weighted_jaccard_index\n",
        "from d_CorrScores import Updt_getAll_AvgCorr, updtCorr_4AllRanks\n",
        "\n",
        "from e_VAEfunction import split_users, split_train_test, numerize_data, get_TrainRatMat, getTrainTest_RatMat\n"
      ],
      "execution_count": null,
      "outputs": []
    },
    {
      "cell_type": "code",
      "metadata": {
        "id": "EYW8rLW6s-Zi"
      },
      "source": [
        "\n",
        "def get_NEWHoldout(HOLDOUT_list,userID_dict,itemID_dict,AllUpdtUSERS_,AllUpdtITEMS_,user_col,item_col):\n",
        "    newHOLDOUT_LIST =  []\n",
        "    for DF,Updt_Users,Updt_Items in tqdm(zip(HOLDOUT_list,AllUpdtUSERS_,AllUpdtITEMS_)):\n",
        "        df = DF.copy()\n",
        "        newHOLDOUT_ =   df.loc[(df[item_col].isin(Updt_Items)) & (df[user_col].isin(Updt_Users))]#\n",
        "        newHOLDOUT_ =   newHOLDOUT_[[user_col,item_col]]\n",
        "\n",
        "        prevUser_ID =   newHOLDOUT_[user_col].values  ##\n",
        "        prevItems_ID =  newHOLDOUT_[item_col].values   #\n",
        "        Updted_UserID = [userID_dict.get(user) for user in prevUser_ID]   \n",
        "        Updted_ItemID = [itemID_dict.get(item) for item in prevItems_ID]\n",
        "\n",
        "        newHOLDOUT_['Updated_UserID'] = Updted_UserID\n",
        "        newHOLDOUT_['Updated_ItemID'] = Updted_ItemID\n",
        "        newHOLDOUT_LIST.append(newHOLDOUT_)\n",
        "    return  newHOLDOUT_LIST\n",
        "\n",
        "\n",
        "def adjustedAllDF(AllDF_list,userID_dict,itemID_dict,AllUpdtUSERS_,AllUpdtITEMS_,user_col,item_col):\n",
        "    newAllDF_list =[]\n",
        "    for DF, Updt_Users, Updt_Items in tqdm(zip(AllDF_list,AllUpdtUSERS_,AllUpdtITEMS_)):\n",
        "        df = DF.copy()\n",
        "        df = df[[user_col,item_col]]\n",
        "        allnew_df     = df.loc[(df[item_col].isin(Updt_Items)) & (df[user_col].isin(Updt_Users))]\n",
        "\n",
        "        prevUser_ID =   allnew_df[user_col].values  \n",
        "        prevItems_ID =  allnew_df[item_col].values   \n",
        "        Updted_UserID = [userID_dict.get(user) for user in prevUser_ID]   \n",
        "        Updted_ItemID = [itemID_dict.get(item) for item in prevItems_ID]\n",
        "        allnew_df['Updated_UserID'] = Updted_UserID\n",
        "        allnew_df['Updated_ItemID'] = Updted_ItemID\n",
        "        newAllDF_list.append(allnew_df)\n",
        "    return newAllDF_list\n",
        "\n",
        "def adjustedPSI_DF(PSITest_list,userID_dict,itemID_dict,AllUpdtUSERS_,AllUpdtITEMS_,user_col,item_col):\n",
        "    new_PSIDFlist =[]\n",
        "    for DF, Updt_Users, Updt_Items in tqdm(zip(PSITest_list,AllUpdtUSERS_,AllUpdtITEMS_)):\n",
        "        df = DF.copy()\n",
        "        df = df[[user_col,item_col]]\n",
        "        new_PSIdf     = df.loc[(df[item_col].isin(Updt_Items)) & (df[user_col].isin(Updt_Users))]\n",
        "\n",
        "        prevUser_ID =   new_PSIdf[user_col].values  \n",
        "        prevItems_ID =  new_PSIdf[item_col].values   \n",
        "        Updted_UserID = [userID_dict.get(user) for user in prevUser_ID]   \n",
        "        Updted_ItemID = [itemID_dict.get(item) for item in prevItems_ID]\n",
        "        new_PSIdf['Updated_UserID'] = Updted_UserID\n",
        "        new_PSIdf['Updated_ItemID'] = Updted_ItemID\n",
        "        new_PSIDFlist.append(new_PSIdf)\n",
        "    return new_PSIDFlist\n",
        "\n",
        "\n"
      ],
      "execution_count": null,
      "outputs": []
    },
    {
      "cell_type": "code",
      "metadata": {
        "id": "JnEnCTo2s-Z0"
      },
      "source": [
        "#######################################################################\n",
        "      ##get Rating Matrices based on single step interaction only \n",
        "def SingleStepRatMat_2(DF,user_column,item_column):  ##rows_ = n_users,cols_ = n_items\n",
        "    rows_ = DF[user_column].max()+1 \n",
        "    cols_ = DF[item_column].max()+1 \n",
        "    \n",
        "    rows0 = DF[user_column].values\n",
        "    cols0 = DF[item_column].values\n",
        "    data  = np.broadcast_to(1., DF.shape[0]) # ignore ratings\n",
        "\n",
        "    A0_Rating_matrix = coo_matrix((data, (rows0, cols0)), shape=(rows_, cols_)).tocsr()\n",
        "    if A0_Rating_matrix.nnz < len(data):\n",
        "        A0_Rating_matrix = A0_Rating_matrix._with_data(np.broadcast_to(1., A0_Rating_matrix.nnz), copy=False)\n",
        "\n",
        "    return A0_Rating_matrix\n",
        "\n",
        "def AllSingleStepRatMat_2(DFList,user_column,item_column):\n",
        "    Rating_matrix_list = []\n",
        "    for df in DFList:\n",
        "        df_Mat = SingleStepRatMat_2(df,user_column,item_column)\n",
        "        Rating_matrix_list.append(df_Mat)\n",
        "    return Rating_matrix_list               #return the list of Rating matrices\n",
        "\n",
        "################################################################################# #"
      ],
      "execution_count": null,
      "outputs": []
    },
    {
      "cell_type": "code",
      "metadata": {
        "id": "ohriDqDOs-Z_"
      },
      "source": [
        "            ########### MEAN RECIPROCAL RANK #################\n",
        "\n",
        "def MRR_Eval(Holdout,TopN_pred,item_column):\n",
        "    Ntest_users = Holdout.shape[0]\n",
        "    Eval_itemsVector  =  Holdout[[item_column]].to_numpy()\n",
        "    item_pos = np.where(Eval_itemsVector == TopN_pred)[1] +1  #eval item pos in pred_index1 \n",
        "    if item_pos.size:  ##if any hit\n",
        "       Hit_RR = (1/item_pos)  \n",
        "       MRR_ = np.divide(np.sum(Hit_RR),Ntest_users)  #mean of all reciprocal rank\n",
        "       return MRR_    \n",
        "    return 0\n",
        "\n",
        "def getAll_MRR_Eval(HOLDOUT_list,All_TOPN_PRED,item_column):\n",
        "    AllSteps_MRR = []\n",
        "    for Holdout, TopN_pred in zip(HOLDOUT_list,All_TOPN_PRED):  \n",
        "        MRR_ = MRR_Eval(Holdout,TopN_pred,item_column)\n",
        "        AllSteps_MRR.append(round(MRR_,6))\n",
        "\n",
        "    LowerBand, Avg_MRR, UpperBand  = mean_confidence_interval(AllSteps_MRR, confidence=0.95)\n",
        "    LowerBand = round(LowerBand,6)\n",
        "    Avg_MRR  = round(Avg_MRR,6)\n",
        "    UpperBand =round(UpperBand,6)\n",
        "    return AllSteps_MRR, LowerBand, Avg_MRR, UpperBand    \n",
        "\n",
        "#\n",
        "def TQDMgetAll_MRR_Eval(HOLDOUT_list,All_TOPN_PRED,item_column):\n",
        "    AllSteps_MRR = []\n",
        "    for Holdout, TopN_pred in tqdm(zip(HOLDOUT_list,All_TOPN_PRED)):  \n",
        "        MRR_ = MRR_Eval(Holdout,TopN_pred,item_column)\n",
        "        AllSteps_MRR.append(round(MRR_,6))\n",
        "\n",
        "    LowerBand, Avg_MRR, UpperBand  = mean_confidence_interval(AllSteps_MRR, confidence=0.95)\n",
        "    LowerBand = round(LowerBand,6)\n",
        "    Avg_MRR  = round(Avg_MRR,6)\n",
        "    UpperBand =round(UpperBand,6)\n",
        "    return AllSteps_MRR, LowerBand, Avg_MRR, UpperBand    \n",
        "\n",
        "######################################################################################\n"
      ],
      "execution_count": null,
      "outputs": []
    },
    {
      "cell_type": "code",
      "metadata": {
        "id": "Vli3m4Zms-aE"
      },
      "source": [
        "## Coverage:\n",
        "def StepCoverage_Ratio(DF,Step_Pred,item_column):\n",
        "  nItems_tot  = DF[item_column].nunique()\n",
        "  nPred_items = len(np.unique(Step_Pred))\n",
        "  coverage_ratio = round((nPred_items/nItems_tot),6)\n",
        "  return coverage_ratio\n",
        "\n",
        "def AllSteps_Coverage_Ratio(DF,All_Pred,item_column):\n",
        "  Avg_Coverage_List = []\n",
        "  for Step_Pred in All_Pred:\n",
        "    step_CI = StepCoverage_Ratio(DF,Step_Pred,item_column)\n",
        "    Avg_Coverage_List.append(step_CI)\n",
        "  return Avg_Coverage_List\n"
      ],
      "execution_count": null,
      "outputs": []
    },
    {
      "cell_type": "code",
      "metadata": {
        "id": "0-LiCggGs-bH"
      },
      "source": [
        "def TopN_RandomPred_2(RatingMat,user_column,N):  \n",
        "    N_users,N_items = RatingMat.shape   \n",
        "    PVVT_RandScores = np.random.rand(N_users,N_items)   ##Assigns random scores to items\n",
        "    users_column = RatingMat.nonzero()[0]\n",
        "    items_column = RatingMat.nonzero()[1]\n",
        "    args = np.array([users_column,items_column])\n",
        "    np.put(PVVT_RandScores, np.ravel_multi_index(args, PVVT_RandScores.shape),-np.inf)   ##downsample previously \n",
        "    TopN_pred = np.apply_along_axis(topN_Index, 1,PVVT_RandScores,n = N)\n",
        "    return TopN_pred\n",
        "\n",
        "def get_ALLRandPred_2(RatingMat_List,user_column,N):\n",
        "    All_RandPred = []\n",
        "    for RatingMat in tqdm(RatingMat_List):  \n",
        "        Rand_pred =  TopN_RandomPred_2(RatingMat,user_column, N)\n",
        "        All_RandPred.append(Rand_pred)\n",
        "    return All_RandPred\n",
        "\n",
        "def getAll_RandomHitRate_2(HOLDOUT_list,All_RandPred,user_column,item_column):\n",
        "    AllSteps_Hitrate = []\n",
        "    for Holdout, Random_pred in zip(HOLDOUT_list,All_RandPred):  \n",
        "        TestUsers = Holdout[user_column]\n",
        "        HOLDOUT_RandPred = Random_pred[TestUsers,:]    \n",
        "        HitRate_ = Hitrate_Eval(Holdout,HOLDOUT_RandPred,user_column,item_column)\n",
        "        #HitRate_ = Sample_Hitrate(Holdout,HOLDOUT_RandPred,user_column,item_column)\n",
        "        AllSteps_Hitrate.append(HitRate_)\n",
        "    LowerBand, Avg_HitRate, UpperBand  = mean_confidence_interval(AllSteps_Hitrate, confidence=0.95)\n",
        "    print(\"Average HitRate for All Recommendations: \", Avg_HitRate)\n",
        "    return AllSteps_Hitrate, LowerBand, Avg_HitRate, UpperBand\n",
        "\n",
        "    \n",
        "def getAll_RandomRecMRR(HOLDOUT_list,All_RandPred,user_column,item_column):\n",
        "    AllSteps_MRR = []\n",
        "    for Holdout, Random_pred in tqdm(zip(HOLDOUT_list,All_RandPred)):  \n",
        "        TestUsers = Holdout[user_column]\n",
        "        HOLDOUT_RandPred = Random_pred[TestUsers,:]    \n",
        "        MRR_ = MRR_Eval(Holdout,HOLDOUT_RandPred,item_column)\n",
        "        AllSteps_MRR.append(round(MRR_,6))\n",
        "\n",
        "    LowerBand, Avg_MRR, UpperBand  = mean_confidence_interval(AllSteps_MRR, confidence=0.95)\n",
        "    return AllSteps_MRR, LowerBand, Avg_MRR, UpperBand       \n",
        "\n"
      ],
      "execution_count": null,
      "outputs": []
    },
    {
      "cell_type": "code",
      "metadata": {
        "id": "xvUmSe4DH9Rw"
      },
      "source": [
        "\n",
        "def getMOSTPOP_Pred(DF,user_column,item_colum,Nusers,N):  ##get the most popular item at a particular step\n",
        "    top_counts= DF.groupby(item_colum)[user_column].count()    \n",
        "    top_items = top_counts.sort_values(ascending=False) \n",
        "    MostPOP_Items = top_items[:N].index.values\n",
        "    MostPOP_Pred = np.array([MostPOP_Items,]*Nusers)\n",
        "    return MostPOP_Pred\n",
        "\n",
        "def getAll_MOSTPOP_Pred(DF_list,user_column,item_colum,Nusers,N):\n",
        "    All_MostPOPRED_List = []\n",
        "    for DF in DF_list:\n",
        "        MostPOP_Pred = getMOSTPOP_Pred(DF,user_column,item_colum,Nusers,N)\n",
        "        All_MostPOPRED_List.append(MostPOP_Pred) \n",
        "    return All_MostPOPRED_List\n",
        "\n",
        "def getAll_MostPOPHitRate(HOLDOUT_list,All_MostPOPRED_List,user_column,item_column):\n",
        "    AllSteps_Hitrate = []\n",
        "    for Holdout, MostPOP_pred in zip(HOLDOUT_list,All_MostPOPRED_List): \n",
        "        TestUsers = Holdout[user_column]\n",
        "        Holdout_MPPred = MostPOP_pred[TestUsers,:]    \n",
        "        HitRate_ = Hitrate_Eval(Holdout,Holdout_MPPred,user_column,item_column)\n",
        "        AllSteps_Hitrate.append(HitRate_)\n",
        "    LowerBand, Avg_HitRate, UpperBand  = mean_confidence_interval(AllSteps_Hitrate, confidence=0.95)\n",
        "    print(\"Average HitRate for All Recommendations: \", Avg_HitRate)\n",
        "    return AllSteps_Hitrate, LowerBand, Avg_HitRate, UpperBand    \n",
        "\n",
        "\n",
        "def getAll_MostPOP_MRR(HOLDOUT_list,All_MostPOPRED_List,user_column,item_column):\n",
        "    AllSteps_MRR = []\n",
        "    for Holdout, MostPOP_pred in tqdm(zip(HOLDOUT_list,All_MostPOPRED_List)): \n",
        "        TestUsers = Holdout[user_column]\n",
        "        Holdout_MostPOPred =  MostPOP_pred[TestUsers,:]   \n",
        "        MRR_ = MRR_Eval(Holdout,Holdout_MostPOPred,item_column)\n",
        "        AllSteps_MRR.append(MRR_)\n",
        "    LowerBand, Avg_MRR, UpperBand  = mean_confidence_interval(AllSteps_MRR, confidence=0.95)\n",
        "    return AllSteps_MRR, LowerBand, Avg_MRR, UpperBand "
      ],
      "execution_count": null,
      "outputs": []
    },
    {
      "cell_type": "markdown",
      "metadata": {
        "id": "e556n8BpXy0b"
      },
      "source": [
        "**Apply Functions on AmazonBeauty**"
      ]
    },
    {
      "cell_type": "markdown",
      "metadata": {
        "id": "15dFS1TUYbdh"
      },
      "source": [
        "## Data Preparation"
      ]
    },
    {
      "cell_type": "code",
      "metadata": {
        "colab": {
          "base_uri": "https://localhost:8080/",
          "height": 513
        },
        "id": "YDwA6s5IaiIe",
        "outputId": "91d4a308-6479-4b2b-8127-cfa6ae62916e"
      },
      "source": [
        "#AMZB_DF = /mnt/bulky/oolaleke/TDM_Dataset/AMZB_increDF.csv\n",
        "AMZB_DF = pd.read_csv('/mnt/bulky/oolaleke/TDM_Dataset/AMZ_Btyfiles/AMZB_increDF.csv') \n",
        "AMZB_DF['timestamp'] = pd.to_datetime(AMZB_DF['timestamp']) \n",
        "print(AMZB_DF.shape)   #userId_int\n",
        "print(AMZB_DF.dtypes)\n",
        "AMZB_DF"
      ],
      "execution_count": null,
      "outputs": [
        {
          "output_type": "stream",
          "text": [
            "(51869, 4)\n",
            "userId                int64\n",
            "productId             int64\n",
            "rating                int64\n",
            "timestamp    datetime64[ns]\n",
            "dtype: object\n"
          ],
          "name": "stdout"
        },
        {
          "output_type": "execute_result",
          "data": {
            "text/plain": [
              "       userId  productId  rating  timestamp\n",
              "0           0          0       1 2001-06-08\n",
              "1           1          0       1 2002-06-12\n",
              "2           1          1       1 2002-06-12\n",
              "3           2          1       1 2002-06-17\n",
              "4           3          1       1 2002-07-04\n",
              "...       ...        ...     ...        ...\n",
              "51864   21470       6687       1 2018-09-21\n",
              "51865   16839       5635       1 2018-09-21\n",
              "51866   15319       8618       1 2018-09-25\n",
              "51867   12925       5977       1 2018-09-25\n",
              "51868   22789       8619       1 2018-09-26\n",
              "\n",
              "[51869 rows x 4 columns]"
            ],
            "text/html": [
              "<div>\n",
              "<style scoped>\n",
              "    .dataframe tbody tr th:only-of-type {\n",
              "        vertical-align: middle;\n",
              "    }\n",
              "\n",
              "    .dataframe tbody tr th {\n",
              "        vertical-align: top;\n",
              "    }\n",
              "\n",
              "    .dataframe thead th {\n",
              "        text-align: right;\n",
              "    }\n",
              "</style>\n",
              "<table border=\"1\" class=\"dataframe\">\n",
              "  <thead>\n",
              "    <tr style=\"text-align: right;\">\n",
              "      <th></th>\n",
              "      <th>userId</th>\n",
              "      <th>productId</th>\n",
              "      <th>rating</th>\n",
              "      <th>timestamp</th>\n",
              "    </tr>\n",
              "  </thead>\n",
              "  <tbody>\n",
              "    <tr>\n",
              "      <th>0</th>\n",
              "      <td>0</td>\n",
              "      <td>0</td>\n",
              "      <td>1</td>\n",
              "      <td>2001-06-08</td>\n",
              "    </tr>\n",
              "    <tr>\n",
              "      <th>1</th>\n",
              "      <td>1</td>\n",
              "      <td>0</td>\n",
              "      <td>1</td>\n",
              "      <td>2002-06-12</td>\n",
              "    </tr>\n",
              "    <tr>\n",
              "      <th>2</th>\n",
              "      <td>1</td>\n",
              "      <td>1</td>\n",
              "      <td>1</td>\n",
              "      <td>2002-06-12</td>\n",
              "    </tr>\n",
              "    <tr>\n",
              "      <th>3</th>\n",
              "      <td>2</td>\n",
              "      <td>1</td>\n",
              "      <td>1</td>\n",
              "      <td>2002-06-17</td>\n",
              "    </tr>\n",
              "    <tr>\n",
              "      <th>4</th>\n",
              "      <td>3</td>\n",
              "      <td>1</td>\n",
              "      <td>1</td>\n",
              "      <td>2002-07-04</td>\n",
              "    </tr>\n",
              "    <tr>\n",
              "      <th>...</th>\n",
              "      <td>...</td>\n",
              "      <td>...</td>\n",
              "      <td>...</td>\n",
              "      <td>...</td>\n",
              "    </tr>\n",
              "    <tr>\n",
              "      <th>51864</th>\n",
              "      <td>21470</td>\n",
              "      <td>6687</td>\n",
              "      <td>1</td>\n",
              "      <td>2018-09-21</td>\n",
              "    </tr>\n",
              "    <tr>\n",
              "      <th>51865</th>\n",
              "      <td>16839</td>\n",
              "      <td>5635</td>\n",
              "      <td>1</td>\n",
              "      <td>2018-09-21</td>\n",
              "    </tr>\n",
              "    <tr>\n",
              "      <th>51866</th>\n",
              "      <td>15319</td>\n",
              "      <td>8618</td>\n",
              "      <td>1</td>\n",
              "      <td>2018-09-25</td>\n",
              "    </tr>\n",
              "    <tr>\n",
              "      <th>51867</th>\n",
              "      <td>12925</td>\n",
              "      <td>5977</td>\n",
              "      <td>1</td>\n",
              "      <td>2018-09-25</td>\n",
              "    </tr>\n",
              "    <tr>\n",
              "      <th>51868</th>\n",
              "      <td>22789</td>\n",
              "      <td>8619</td>\n",
              "      <td>1</td>\n",
              "      <td>2018-09-26</td>\n",
              "    </tr>\n",
              "  </tbody>\n",
              "</table>\n",
              "<p>51869 rows × 4 columns</p>\n",
              "</div>"
            ]
          },
          "metadata": {
            "tags": []
          },
          "execution_count": 37
        }
      ]
    },
    {
      "cell_type": "code",
      "metadata": {
        "colab": {
          "base_uri": "https://localhost:8080/"
        },
        "id": "2XWFDaGwFFCR",
        "outputId": "eb2aa104-dd71-4bcb-9092-e901712e8f9c"
      },
      "source": [
        "print(AMZB_DF.shape)\n",
        "print(\"For users: \")\n",
        "print(AMZB_DF['userId'].nunique())\n",
        "print(AMZB_DF['userId'].max())\n",
        "print()\n",
        "print(\"For items: \")\n",
        "print(AMZB_DF['productId'].nunique())\n",
        "print(AMZB_DF['productId'].max())\n",
        "print()\n",
        "print(\"Timestamp\")\n",
        "print(AMZB_DF['timestamp'].min())\n",
        "print(AMZB_DF['timestamp'].max())"
      ],
      "execution_count": null,
      "outputs": [
        {
          "output_type": "stream",
          "text": [
            "(51869, 4)\n",
            "For users: \n",
            "22799\n",
            "22798\n",
            "\n",
            "For items: \n",
            "8620\n",
            "8619\n",
            "\n",
            "Timestamp\n",
            "2001-06-08 00:00:00\n",
            "2018-09-26 00:00:00\n"
          ],
          "name": "stdout"
        }
      ]
    },
    {
      "cell_type": "code",
      "metadata": {
        "id": "xlbzMS4hGeF3",
        "outputId": "23f84550-f8c4-4983-a958-73e6388e2fe7"
      },
      "source": [
        "nunsers = AMZB_DF['userId'].nunique()\n",
        "nitems = AMZB_DF['productId'].nunique()\n",
        "print(\"Num of unique users: \",nunsers)\n",
        "print(\"Num of unique items: \",nitems)\n",
        "print()\n",
        "sparsity = 1. * AMZB_DF.shape[0] / (nunsers * nitems)\n",
        "\n",
        "print(\"After filtering, there are %d inyteractions from %d users and %d items (sparsity: %.3f%%)\" % \n",
        "      (AMZB_DF.shape[0], nunsers, nitems, sparsity * 100))"
      ],
      "execution_count": null,
      "outputs": [
        {
          "output_type": "stream",
          "text": [
            "Num of unique users:  22799\n",
            "Num of unique items:  8620\n",
            "\n",
            "After filtering, there are 51869 inyteractions from 22799 users and 8620 items (sparsity: 0.026%)\n"
          ],
          "name": "stdout"
        }
      ]
    },
    {
      "cell_type": "code",
      "metadata": {
        "id": "_YILw3hauCoA"
      },
      "source": [
        ""
      ],
      "execution_count": null,
      "outputs": []
    },
    {
      "cell_type": "markdown",
      "metadata": {
        "id": "XD_pQm8Lfko0"
      },
      "source": [
        "**Data Splitting**"
      ]
    },
    {
      "cell_type": "code",
      "metadata": {
        "id": "jv_wFgaNs-ZE",
        "outputId": "76d0f803-9d52-4bfe-bc3d-de618596a494"
      },
      "source": [
        "AMZB_DF.shape\n",
        "AMZB_DF['timestamp_YM'] = pd.to_datetime(AMZB_DF['timestamp']).dt.to_period('M')   ##get date appropriately \n",
        "AMZB_DF.head()"
      ],
      "execution_count": null,
      "outputs": [
        {
          "output_type": "execute_result",
          "data": {
            "text/plain": [
              "   userId  productId  rating  timestamp timestamp_YM\n",
              "0       0          0       1 2001-06-08      2001-06\n",
              "1       1          0       1 2002-06-12      2002-06\n",
              "2       1          1       1 2002-06-12      2002-06\n",
              "3       2          1       1 2002-06-17      2002-06\n",
              "4       3          1       1 2002-07-04      2002-07"
            ],
            "text/html": [
              "<div>\n",
              "<style scoped>\n",
              "    .dataframe tbody tr th:only-of-type {\n",
              "        vertical-align: middle;\n",
              "    }\n",
              "\n",
              "    .dataframe tbody tr th {\n",
              "        vertical-align: top;\n",
              "    }\n",
              "\n",
              "    .dataframe thead th {\n",
              "        text-align: right;\n",
              "    }\n",
              "</style>\n",
              "<table border=\"1\" class=\"dataframe\">\n",
              "  <thead>\n",
              "    <tr style=\"text-align: right;\">\n",
              "      <th></th>\n",
              "      <th>userId</th>\n",
              "      <th>productId</th>\n",
              "      <th>rating</th>\n",
              "      <th>timestamp</th>\n",
              "      <th>timestamp_YM</th>\n",
              "    </tr>\n",
              "  </thead>\n",
              "  <tbody>\n",
              "    <tr>\n",
              "      <th>0</th>\n",
              "      <td>0</td>\n",
              "      <td>0</td>\n",
              "      <td>1</td>\n",
              "      <td>2001-06-08</td>\n",
              "      <td>2001-06</td>\n",
              "    </tr>\n",
              "    <tr>\n",
              "      <th>1</th>\n",
              "      <td>1</td>\n",
              "      <td>0</td>\n",
              "      <td>1</td>\n",
              "      <td>2002-06-12</td>\n",
              "      <td>2002-06</td>\n",
              "    </tr>\n",
              "    <tr>\n",
              "      <th>2</th>\n",
              "      <td>1</td>\n",
              "      <td>1</td>\n",
              "      <td>1</td>\n",
              "      <td>2002-06-12</td>\n",
              "      <td>2002-06</td>\n",
              "    </tr>\n",
              "    <tr>\n",
              "      <th>3</th>\n",
              "      <td>2</td>\n",
              "      <td>1</td>\n",
              "      <td>1</td>\n",
              "      <td>2002-06-17</td>\n",
              "      <td>2002-06</td>\n",
              "    </tr>\n",
              "    <tr>\n",
              "      <th>4</th>\n",
              "      <td>3</td>\n",
              "      <td>1</td>\n",
              "      <td>1</td>\n",
              "      <td>2002-07-04</td>\n",
              "      <td>2002-07</td>\n",
              "    </tr>\n",
              "  </tbody>\n",
              "</table>\n",
              "</div>"
            ]
          },
          "metadata": {
            "tags": []
          },
          "execution_count": 40
        }
      ]
    },
    {
      "cell_type": "code",
      "metadata": {
        "id": "XbKHm4Cds-ZF",
        "outputId": "fdded38c-becd-4665-9773-e5e20a77b575"
      },
      "source": [
        "train_df = AMZB_DF[AMZB_DF['timestamp_YM'] < '2016-01']  \n",
        "print(train_df['userId'].nunique())\n",
        "print(train_df['userId'].shape)  ##~60%"
      ],
      "execution_count": null,
      "outputs": [
        {
          "output_type": "stream",
          "text": [
            "15291\n",
            "(30661,)\n"
          ],
          "name": "stdout"
        }
      ]
    },
    {
      "cell_type": "code",
      "metadata": {
        "id": "cYMFyX58s-ZG",
        "outputId": "45cc21ce-846f-40d7-c252-a9caa70a1ea3"
      },
      "source": [
        "remainder_df = AMZB_DF[AMZB_DF['timestamp_YM'] >= '2016-01']  \n",
        "print(remainder_df['userId'].nunique())\n",
        "print(remainder_df.shape)"
      ],
      "execution_count": null,
      "outputs": [
        {
          "output_type": "stream",
          "text": [
            "10653\n",
            "(21208, 5)\n"
          ],
          "name": "stdout"
        }
      ]
    },
    {
      "cell_type": "code",
      "metadata": {
        "id": "HCnBJZzTs-ZH",
        "outputId": "abe644bf-1196-47f0-bd43-5aacc8b03005"
      },
      "source": [
        "n = 1200  #num_of_interaction/no_steps (3%-5%)\n",
        "all_df = []\n",
        "for g, df in remainder_df.groupby(np.arange(len(remainder_df)) // n):\n",
        "    all_df.append(df)\n",
        "    \n",
        "print()\n",
        "print(\"Number of steps: \",g+1)  \n",
        "for df in all_df:\n",
        "    print(df['userId'].nunique())\n",
        "    #print(df['timestamp'].min())\n",
        "    #print(df['timestamp'].max())\n",
        "    #print()"
      ],
      "execution_count": null,
      "outputs": [
        {
          "output_type": "stream",
          "text": [
            "\n",
            "Number of steps:  18\n",
            "794\n",
            "805\n",
            "817\n",
            "809\n",
            "852\n",
            "799\n",
            "805\n",
            "839\n",
            "829\n",
            "801\n",
            "811\n",
            "812\n",
            "820\n",
            "868\n",
            "787\n",
            "847\n",
            "789\n",
            "580\n"
          ],
          "name": "stdout"
        }
      ]
    },
    {
      "cell_type": "code",
      "metadata": {
        "id": "cmra5sc4s-ZI",
        "outputId": "da50f798-1988-4326-d999-e0bd12f78fe3"
      },
      "source": [
        "A0_df = train_df  \n",
        "print(\"Initial Training Data: \") \n",
        "print(\"Start Time: \",A0_df['timestamp'].min())\n",
        "print(\"End Time:   \",A0_df['timestamp'].max())\n",
        "print()\n",
        "print(\"Num of interactions: \",A0_df.shape[0])\n",
        "print(\"Num of uniqueUsers:  \",A0_df['userId'].nunique())"
      ],
      "execution_count": null,
      "outputs": [
        {
          "output_type": "stream",
          "text": [
            "Initial Training Data: \n",
            "Start Time:  2001-06-08 00:00:00\n",
            "End Time:    2015-12-31 00:00:00\n",
            "\n",
            "Num of interactions:  30661\n",
            "Num of uniqueUsers:   15291\n"
          ],
          "name": "stdout"
        }
      ]
    },
    {
      "cell_type": "code",
      "metadata": {
        "id": "pxRJMcSxs-ZJ",
        "outputId": "bacaeb72-c184-45b2-b908-6af9368bc414"
      },
      "source": [
        "\n",
        "ΔA_train = all_df[:8] \n",
        "print(\"Incremental Train steps: \",len(ΔA_train))\n",
        "print(\"Start Time: \",ΔA_train[0]['timestamp'].min())\n",
        "print(\"End Time:   \",ΔA_train[-1]['timestamp'].max())\n",
        "\n",
        "#,ΔA_train,ΔA_test "
      ],
      "execution_count": null,
      "outputs": [
        {
          "output_type": "stream",
          "text": [
            "Incremental Train steps:  8\n",
            "Start Time:  2016-01-01 00:00:00\n",
            "End Time:    2016-09-19 00:00:00\n"
          ],
          "name": "stdout"
        }
      ]
    },
    {
      "cell_type": "code",
      "metadata": {
        "id": "T5BpskcKs-ZJ",
        "outputId": "e4f14d61-523b-4043-90d5-adfde72d0c1c"
      },
      "source": [
        "ΔA_test = all_df[8:] \n",
        "print(\"Incremental Test steps: \",len(ΔA_test))\n",
        "print(\"Start Time: \",ΔA_test[0]['timestamp'].min())\n",
        "print(\"End Time:   \",ΔA_test[-1]['timestamp'].max())"
      ],
      "execution_count": null,
      "outputs": [
        {
          "output_type": "stream",
          "text": [
            "Incremental Test steps:  10\n",
            "Start Time:  2016-09-19 00:00:00\n",
            "End Time:    2018-09-26 00:00:00\n"
          ],
          "name": "stdout"
        }
      ]
    },
    {
      "cell_type": "code",
      "metadata": {
        "id": "0Z0f8QWYs-ZK",
        "outputId": "ffa7f642-95ac-4d0a-fb1f-99d4981c333a"
      },
      "source": [
        "ΔA_test[0]['timestamp'].max()"
      ],
      "execution_count": null,
      "outputs": [
        {
          "output_type": "execute_result",
          "data": {
            "text/plain": [
              "Timestamp('2016-11-01 00:00:00')"
            ]
          },
          "metadata": {
            "tags": []
          },
          "execution_count": 48
        }
      ]
    },
    {
      "cell_type": "code",
      "metadata": {
        "id": "wrP1xsoKbkP2"
      },
      "source": [
        "# pivotMonths_list = getPivotMonths(AMZB_DF,'timestamp',N_TMonths=18)  \n",
        "# pivotMonths_list\n",
        "\n",
        "# A0_df,ΔA_train,ΔA_test = Time_DataSplit(AMZB_DF,'timestamp',pivotMonths_list,N_TMonths= 18,n_train=10)\n",
        "# print('Last date in A0_df :',A0_df['timestamp'].max())\n",
        "# print('Num ΔA_train :', len(ΔA_train))\n",
        "\n",
        "# AllDF_list, PSITest_list, HOLDOUT_list, UserItemDF_list = TestTrain_DataSplit(AMZB_DF,'userId','timestamp',pivotMonths_list,ΔA_test)\n",
        "# print('Num AllDF_list :', len(AllDF_list))"
      ],
      "execution_count": null,
      "outputs": []
    },
    {
      "cell_type": "code",
      "metadata": {
        "id": "Sy14roJPs-ZL"
      },
      "source": [
        "def TestTrain_DataSplit(DF,user_column,time_column,ΔA_test):\n",
        "    AllDF_list  =  []\n",
        "    PSITest_list = []\n",
        "    HOLDOUT_list = []\n",
        "    UserItemDF_list = []\n",
        "    ts = DF[time_column]\n",
        "    for test_ in ΔA_test:\n",
        "        train_ = DF.loc[ts < test_[time_column].min()]\n",
        "        test_sorted = test_.sort_values(time_column)\n",
        "        test_idx = [x[-1] for x in test_sorted.index.groupby(test_sorted[user_column]).values()]\n",
        "    \n",
        "        holdout = test_.loc[test_idx]\n",
        "        psi_test = test_.drop(test_idx)\n",
        "        all_df_ = DF.loc[ts <= test_[time_column].max()] \n",
        "        useritem_df = pd.concat([train_,test_.drop(test_idx)], axis = 0)  ##remove holdout items\n",
        "        \n",
        "        PSITest_list.append(psi_test)\n",
        "        HOLDOUT_list.append(holdout)\n",
        "        AllDF_list.append(all_df_)\n",
        "        UserItemDF_list.append(useritem_df)\n",
        "\n",
        "    return AllDF_list, PSITest_list, HOLDOUT_list,UserItemDF_list"
      ],
      "execution_count": null,
      "outputs": []
    },
    {
      "cell_type": "code",
      "metadata": {
        "id": "CFg7UDaIs-ZM"
      },
      "source": [
        "AllDF_list, PSITest_list, HOLDOUT_list,UserItemDF_list = TestTrain_DataSplit(AMZB_DF,'userId','timestamp',ΔA_test)"
      ],
      "execution_count": null,
      "outputs": []
    },
    {
      "cell_type": "code",
      "metadata": {
        "id": "rI62sJwPs-ZN",
        "outputId": "377f04c5-ff11-4482-ed7b-1dcf1a087c5c"
      },
      "source": [
        "print(AllDF_list[1]['timestamp'].min())\n",
        "print(AllDF_list[1]['timestamp'].max())\n",
        "print()\n",
        "print(ΔA_test[1]['timestamp'].min())\n",
        "print(ΔA_test[1]['timestamp'].max())"
      ],
      "execution_count": null,
      "outputs": [
        {
          "output_type": "stream",
          "text": [
            "2001-06-08 00:00:00\n",
            "2016-12-18 00:00:00\n",
            "\n",
            "2016-11-01 00:00:00\n",
            "2016-12-18 00:00:00\n"
          ],
          "name": "stdout"
        }
      ]
    },
    {
      "cell_type": "code",
      "metadata": {
        "id": "C9s2xON-s-ZO",
        "outputId": "1e91d0ee-9f12-49c3-9eee-475ffeb4ff4a"
      },
      "source": [
        "for i in range(10):\n",
        "    print(AllDF_list[i]['userId'].max(),AllDF_list[i]['userId'].nunique())"
      ],
      "execution_count": null,
      "outputs": [
        {
          "output_type": "stream",
          "text": [
            "19611 19612\n",
            "20071 20072\n",
            "20498 20499\n",
            "20915 20916\n",
            "21303 21304\n",
            "21676 21677\n",
            "21971 21972\n",
            "22297 22298\n",
            "22644 22645\n",
            "22798 22799\n"
          ],
          "name": "stdout"
        }
      ]
    },
    {
      "cell_type": "code",
      "metadata": {
        "id": "nXfFnhkUs-ZO",
        "outputId": "d45be737-dbd5-4f89-b036-c3f45b691b8a"
      },
      "source": [
        "print(ΔA_test[2].shape)\n",
        "print(PSITest_list[2].shape)\n",
        "print(HOLDOUT_list[2]['userId'].nunique())"
      ],
      "execution_count": null,
      "outputs": [
        {
          "output_type": "stream",
          "text": [
            "(1200, 5)\n",
            "(389, 5)\n",
            "811\n"
          ],
          "name": "stdout"
        }
      ]
    },
    {
      "cell_type": "code",
      "metadata": {
        "colab": {
          "base_uri": "https://localhost:8080/"
        },
        "id": "IFIEfHbaGkcJ",
        "outputId": "c28eea05-9f07-45bb-b3db-0604d4c37f23"
      },
      "source": [
        "print(AllDF_list[0].shape)\n",
        "print(UserItemDF_list[0].shape)\n",
        "print(HOLDOUT_list[0].shape)"
      ],
      "execution_count": null,
      "outputs": [
        {
          "output_type": "stream",
          "text": [
            "(41472, 5)\n",
            "(40609, 5)\n",
            "(829, 5)\n"
          ],
          "name": "stdout"
        }
      ]
    },
    {
      "cell_type": "code",
      "metadata": {
        "id": "Q9eunrg4s-ZQ"
      },
      "source": [
        ""
      ],
      "execution_count": null,
      "outputs": []
    },
    {
      "cell_type": "markdown",
      "metadata": {
        "id": "dzWCij3ZipQX"
      },
      "source": [
        "**Find new users and items**"
      ]
    },
    {
      "cell_type": "code",
      "metadata": {
        "colab": {
          "base_uri": "https://localhost:8080/"
        },
        "id": "L-GolZfZipQZ",
        "outputId": "aa9d3925-b4b0-47e1-de55-be613fe02d24"
      },
      "source": [
        "Tstps = AMZB_DF['timestamp']\n",
        "tr_ts = ΔA_train[-1]['timestamp'].max()\n",
        "print(\"ΔA_train_last max date: \",tr_ts)\n",
        "AllDF_start = AMZB_DF.loc[Tstps <= tr_ts] \n",
        "print(AllDF_start['timestamp'].min())\n",
        "print(AllDF_start['timestamp'].max())\n",
        "print()\n",
        "print(AllDF_list[0]['timestamp'].min())\n",
        "print(AllDF_list[0]['timestamp'].max())"
      ],
      "execution_count": null,
      "outputs": [
        {
          "output_type": "stream",
          "text": [
            "ΔA_train_last max date:  2016-09-19 00:00:00\n",
            "2001-06-08 00:00:00\n",
            "2016-09-19 00:00:00\n",
            "\n",
            "2001-06-08 00:00:00\n",
            "2016-11-01 00:00:00\n"
          ],
          "name": "stdout"
        }
      ]
    },
    {
      "cell_type": "code",
      "metadata": {
        "colab": {
          "base_uri": "https://localhost:8080/"
        },
        "id": "GfgYKuugA3lO",
        "outputId": "07293a06-18d6-4146-f84a-8836b20bc015"
      },
      "source": [
        "New_usersList,New_itemsList = Find_NewUsersItems(AllDF_start,AllDF_list,'userId','productId',N_steps=10)\n",
        "print(New_usersList[0][:10]) #\n",
        "print()\n",
        "print(New_itemsList[0][:10]) #"
      ],
      "execution_count": null,
      "outputs": [
        {
          "output_type": "stream",
          "text": [
            "[19169 19170 19171 19172 19173 19174 19175 19176 19177 19178]\n",
            "\n",
            "[6515 6516 6517 6518 6519 6520 6521 6522 6523 6524]\n"
          ],
          "name": "stdout"
        }
      ]
    },
    {
      "cell_type": "code",
      "metadata": {
        "colab": {
          "base_uri": "https://localhost:8080/"
        },
        "id": "KXIsxxPnjhx2",
        "outputId": "bf1c1858-4436-4c96-e75d-55624089bd8b"
      },
      "source": [
        "print(\"users,Items\")\n",
        "for i,j in zip(New_usersList,New_itemsList):\n",
        "    print(i.size,j.size)\n",
        "    print()\n",
        "    "
      ],
      "execution_count": null,
      "outputs": [
        {
          "output_type": "stream",
          "text": [
            "users,Items\n",
            "443 274\n",
            "\n",
            "460 277\n",
            "\n",
            "427 224\n",
            "\n",
            "417 238\n",
            "\n",
            "388 249\n",
            "\n",
            "373 232\n",
            "\n",
            "295 101\n",
            "\n",
            "326 190\n",
            "\n",
            "347 186\n",
            "\n",
            "154 134\n",
            "\n"
          ],
          "name": "stdout"
        }
      ]
    },
    {
      "cell_type": "code",
      "metadata": {
        "id": "zLUbep9ouPdA"
      },
      "source": [
        ""
      ],
      "execution_count": null,
      "outputs": []
    },
    {
      "cell_type": "markdown",
      "metadata": {
        "id": "vWIl32pduS01"
      },
      "source": [
        "**Rank Tuning**"
      ]
    },
    {
      "cell_type": "code",
      "metadata": {
        "id": "1ykECNc7G4GL"
      },
      "source": [
        "########## #####\n",
        "#Rank Tuning \n",
        "######### ######"
      ],
      "execution_count": null,
      "outputs": []
    },
    {
      "cell_type": "code",
      "metadata": {
        "id": "9_PJ-IRJs-ZT",
        "outputId": "f815707c-428b-4054-fcb6-b62da304b24d"
      },
      "source": [
        "newAMZB_DF = pd.read_csv('/mnt/bulky/oolaleke/TDM_Dataset/AMZ_Btyfiles/AMZB_afterUpdt.csv') \n",
        "newAMZB_DF['timestamp'] = pd.to_datetime(newAMZB_DF['timestamp']) \n",
        "print(newAMZB_DF.shape) ##\n",
        "newAMZB_DF.head(3)"
      ],
      "execution_count": null,
      "outputs": [
        {
          "output_type": "stream",
          "text": [
            "(51277, 7)\n"
          ],
          "name": "stdout"
        },
        {
          "output_type": "execute_result",
          "data": {
            "text/plain": [
              "   userId  productId  rating  timestamp timestamp_YM  Updated_UserID  \\\n",
              "0       0          0       1 2001-06-08      2001-06               0   \n",
              "1       1          0       1 2002-06-12      2002-06               1   \n",
              "2       1          1       1 2002-06-12      2002-06               1   \n",
              "\n",
              "   Updated_ItemID  \n",
              "0               0  \n",
              "1               0  \n",
              "2               1  "
            ],
            "text/html": [
              "<div>\n",
              "<style scoped>\n",
              "    .dataframe tbody tr th:only-of-type {\n",
              "        vertical-align: middle;\n",
              "    }\n",
              "\n",
              "    .dataframe tbody tr th {\n",
              "        vertical-align: top;\n",
              "    }\n",
              "\n",
              "    .dataframe thead th {\n",
              "        text-align: right;\n",
              "    }\n",
              "</style>\n",
              "<table border=\"1\" class=\"dataframe\">\n",
              "  <thead>\n",
              "    <tr style=\"text-align: right;\">\n",
              "      <th></th>\n",
              "      <th>userId</th>\n",
              "      <th>productId</th>\n",
              "      <th>rating</th>\n",
              "      <th>timestamp</th>\n",
              "      <th>timestamp_YM</th>\n",
              "      <th>Updated_UserID</th>\n",
              "      <th>Updated_ItemID</th>\n",
              "    </tr>\n",
              "  </thead>\n",
              "  <tbody>\n",
              "    <tr>\n",
              "      <th>0</th>\n",
              "      <td>0</td>\n",
              "      <td>0</td>\n",
              "      <td>1</td>\n",
              "      <td>2001-06-08</td>\n",
              "      <td>2001-06</td>\n",
              "      <td>0</td>\n",
              "      <td>0</td>\n",
              "    </tr>\n",
              "    <tr>\n",
              "      <th>1</th>\n",
              "      <td>1</td>\n",
              "      <td>0</td>\n",
              "      <td>1</td>\n",
              "      <td>2002-06-12</td>\n",
              "      <td>2002-06</td>\n",
              "      <td>1</td>\n",
              "      <td>0</td>\n",
              "    </tr>\n",
              "    <tr>\n",
              "      <th>2</th>\n",
              "      <td>1</td>\n",
              "      <td>1</td>\n",
              "      <td>1</td>\n",
              "      <td>2002-06-12</td>\n",
              "      <td>2002-06</td>\n",
              "      <td>1</td>\n",
              "      <td>1</td>\n",
              "    </tr>\n",
              "  </tbody>\n",
              "</table>\n",
              "</div>"
            ]
          },
          "metadata": {
            "tags": []
          },
          "execution_count": 12
        }
      ]
    },
    {
      "cell_type": "code",
      "metadata": {
        "id": "xv-7lOaAs-ZU"
      },
      "source": [
        "\n",
        "with open('/mnt/bulky/oolaleke/TDM_Dataset/AMZ_Btyfiles/AMZB_newHoldout.pkl', 'rb') as f:\n",
        "     newHoldout_list = pickle.load(f)     \n",
        "    \n",
        "with open('/mnt/bulky/oolaleke/TDM_Dataset/AMZ_Btyfiles/AMZB_newUserItem.pkl', 'rb') as f:\n",
        "     newUserItem_list = pickle.load(f)\n"
      ],
      "execution_count": null,
      "outputs": []
    },
    {
      "cell_type": "code",
      "metadata": {
        "id": "24xa3DnSs-ZU",
        "outputId": "fb11304f-8200-4ebb-a448-0b1895b29207"
      },
      "source": [
        "rows_i = newAMZB_DF['Updated_UserID'].nunique()\n",
        "cols_i = newAMZB_DF['Updated_ItemID'].nunique()\n",
        "SVD_UserItemMAT = AllRatingMatrices(newUserItem_list,'Updated_UserID','Updated_ItemID',rows_i ,cols_i) ##Same as UserItemMAT_regPSI\n",
        "print(len(SVD_UserItemMAT))\n",
        "SVD_UserItemMAT"
      ],
      "execution_count": null,
      "outputs": [
        {
          "output_type": "stream",
          "text": [
            "10\n"
          ],
          "name": "stdout"
        },
        {
          "output_type": "execute_result",
          "data": {
            "text/plain": [
              "[<22557x8109 sparse matrix of type '<class 'numpy.float64'>'\n",
              " \twith 40228 stored elements in Compressed Sparse Row format>,\n",
              " <22557x8109 sparse matrix of type '<class 'numpy.float64'>'\n",
              " \twith 41330 stored elements in Compressed Sparse Row format>,\n",
              " <22557x8109 sparse matrix of type '<class 'numpy.float64'>'\n",
              " \twith 42432 stored elements in Compressed Sparse Row format>,\n",
              " <22557x8109 sparse matrix of type '<class 'numpy.float64'>'\n",
              " \twith 43525 stored elements in Compressed Sparse Row format>,\n",
              " <22557x8109 sparse matrix of type '<class 'numpy.float64'>'\n",
              " \twith 44665 stored elements in Compressed Sparse Row format>,\n",
              " <22557x8109 sparse matrix of type '<class 'numpy.float64'>'\n",
              " \twith 45752 stored elements in Compressed Sparse Row format>,\n",
              " <22557x8109 sparse matrix of type '<class 'numpy.float64'>'\n",
              " \twith 47034 stored elements in Compressed Sparse Row format>,\n",
              " <22557x8109 sparse matrix of type '<class 'numpy.float64'>'\n",
              " \twith 48112 stored elements in Compressed Sparse Row format>,\n",
              " <22557x8109 sparse matrix of type '<class 'numpy.float64'>'\n",
              " \twith 49321 stored elements in Compressed Sparse Row format>,\n",
              " <22557x8109 sparse matrix of type '<class 'numpy.float64'>'\n",
              " \twith 50337 stored elements in Compressed Sparse Row format>]"
            ]
          },
          "metadata": {
            "tags": []
          },
          "execution_count": 14
        }
      ]
    },
    {
      "cell_type": "code",
      "metadata": {
        "id": "_-vHpVqBs-ZV",
        "outputId": "4efe5ce2-b082-4b6e-e3b8-87d1d8d27630"
      },
      "source": [
        "AllHitr_,maxhit,maxrank = SVDoptimalSearch(SVD_UserItemMAT[0],newHoldout_list[0],'Updated_UserID','Updated_ItemID',start=10,end=200,increment=10,N=10)"
      ],
      "execution_count": null,
      "outputs": [
        {
          "output_type": "stream",
          "text": [
            " 10%|█         | 2/20 [00:00<00:02,  6.73it/s]\n",
            " Max Rank: 10 | HitRate:0.22573839662447256\n",
            "\n",
            " Max Rank: 20 | HitRate:0.2616033755274262\n",
            " 20%|██        | 4/20 [00:00<00:02,  5.98it/s]\n",
            " Max Rank: 40 | HitRate:0.2721518987341772\n",
            " 25%|██▌       | 5/20 [00:00<00:02,  5.38it/s]\n",
            " Max Rank: 50 | HitRate:0.27637130801687765\n",
            " 30%|███       | 6/20 [00:01<00:02,  4.80it/s]\n",
            " Max Rank: 60 | HitRate:0.28270042194092826\n",
            " 35%|███▌      | 7/20 [00:01<00:03,  3.88it/s]\n",
            " Max Rank: 70 | HitRate:0.3037974683544304\n",
            "100%|██████████| 20/20 [00:11<00:00,  1.71it/s]\n",
            " Best-Params; Max Rank: 70 | HitRate: 0.3037974683544304\n",
            "\n"
          ],
          "name": "stderr"
        }
      ]
    },
    {
      "cell_type": "code",
      "metadata": {
        "id": "jFjEvKhks-ZV",
        "outputId": "fabaa618-4b83-4beb-fa64-a08b6678fcf7"
      },
      "source": [
        "print(maxhit,maxrank )\n",
        "rank_list = list(range(10,201,10))\n",
        "print(rank_list)"
      ],
      "execution_count": null,
      "outputs": [
        {
          "output_type": "stream",
          "text": [
            "0.3037974683544304 70\n",
            "[10, 20, 30, 40, 50, 60, 70, 80, 90, 100, 110, 120, 130, 140, 150, 160, 170, 180, 190, 200]\n"
          ],
          "name": "stdout"
        }
      ]
    },
    {
      "cell_type": "code",
      "metadata": {
        "id": "rUIsv0tos-ZW",
        "outputId": "91e995b7-5fe6-4287-bf64-11a10e86f4a8"
      },
      "source": [
        "plt.figure(figsize=(12,8))  \n",
        "plt.plot(rank_list,AllHitr_)   ###Max == 70\n",
        "plt.grid()"
      ],
      "execution_count": null,
      "outputs": [
        {
          "output_type": "display_data",
          "data": {
            "text/plain": [
              "<Figure size 864x576 with 1 Axes>"
            ],
            "image/svg+xml": "<?xml version=\"1.0\" encoding=\"utf-8\" standalone=\"no\"?>\n<!DOCTYPE svg PUBLIC \"-//W3C//DTD SVG 1.1//EN\"\n  \"http://www.w3.org/Graphics/SVG/1.1/DTD/svg11.dtd\">\n<svg height=\"465.958125pt\" version=\"1.1\" viewBox=\"0 0 713.265625 465.958125\" width=\"713.265625pt\" xmlns=\"http://www.w3.org/2000/svg\" xmlns:xlink=\"http://www.w3.org/1999/xlink\">\n <metadata>\n  <rdf:RDF xmlns:cc=\"http://creativecommons.org/ns#\" xmlns:dc=\"http://purl.org/dc/elements/1.1/\" xmlns:rdf=\"http://www.w3.org/1999/02/22-rdf-syntax-ns#\">\n   <cc:Work>\n    <dc:type rdf:resource=\"http://purl.org/dc/dcmitype/StillImage\"/>\n    <dc:date>2021-05-23T15:28:38.452667</dc:date>\n    <dc:format>image/svg+xml</dc:format>\n    <dc:creator>\n     <cc:Agent>\n      <dc:title>Matplotlib v3.4.1, https://matplotlib.org/</dc:title>\n     </cc:Agent>\n    </dc:creator>\n   </cc:Work>\n  </rdf:RDF>\n </metadata>\n <defs>\n  <style type=\"text/css\">*{stroke-linecap:butt;stroke-linejoin:round;}</style>\n </defs>\n <g id=\"figure_1\">\n  <g id=\"patch_1\">\n   <path d=\"M 0 465.958125 \nL 713.265625 465.958125 \nL 713.265625 0 \nL 0 0 \nz\n\" style=\"fill:none;\"/>\n  </g>\n  <g id=\"axes_1\">\n   <g id=\"patch_2\">\n    <path d=\"M 36.465625 442.08 \nL 706.065625 442.08 \nL 706.065625 7.2 \nL 36.465625 7.2 \nz\n\" style=\"fill:#ffffff;\"/>\n   </g>\n   <g id=\"matplotlib.axis_1\">\n    <g id=\"xtick_1\">\n     <g id=\"line2d_1\">\n      <path clip-path=\"url(#p9a6370d714)\" d=\"M 114.959405 442.08 \nL 114.959405 7.2 \n\" style=\"fill:none;stroke:#b0b0b0;stroke-linecap:square;stroke-width:0.8;\"/>\n     </g>\n     <g id=\"line2d_2\">\n      <defs>\n       <path d=\"M 0 0 \nL 0 3.5 \n\" id=\"m278d739089\" style=\"stroke:#000000;stroke-width:0.8;\"/>\n      </defs>\n      <g>\n       <use style=\"stroke:#000000;stroke-width:0.8;\" x=\"114.959405\" xlink:href=\"#m278d739089\" y=\"442.08\"/>\n      </g>\n     </g>\n     <g id=\"text_1\">\n      <!-- 25 -->\n      <g transform=\"translate(108.596905 456.678438)scale(0.1 -0.1)\">\n       <defs>\n        <path d=\"M 1228 531 \nL 3431 531 \nL 3431 0 \nL 469 0 \nL 469 531 \nQ 828 903 1448 1529 \nQ 2069 2156 2228 2338 \nQ 2531 2678 2651 2914 \nQ 2772 3150 2772 3378 \nQ 2772 3750 2511 3984 \nQ 2250 4219 1831 4219 \nQ 1534 4219 1204 4116 \nQ 875 4013 500 3803 \nL 500 4441 \nQ 881 4594 1212 4672 \nQ 1544 4750 1819 4750 \nQ 2544 4750 2975 4387 \nQ 3406 4025 3406 3419 \nQ 3406 3131 3298 2873 \nQ 3191 2616 2906 2266 \nQ 2828 2175 2409 1742 \nQ 1991 1309 1228 531 \nz\n\" id=\"DejaVuSans-32\" transform=\"scale(0.015625)\"/>\n        <path d=\"M 691 4666 \nL 3169 4666 \nL 3169 4134 \nL 1269 4134 \nL 1269 2991 \nQ 1406 3038 1543 3061 \nQ 1681 3084 1819 3084 \nQ 2600 3084 3056 2656 \nQ 3513 2228 3513 1497 \nQ 3513 744 3044 326 \nQ 2575 -91 1722 -91 \nQ 1428 -91 1123 -41 \nQ 819 9 494 109 \nL 494 744 \nQ 775 591 1075 516 \nQ 1375 441 1709 441 \nQ 2250 441 2565 725 \nQ 2881 1009 2881 1497 \nQ 2881 1984 2565 2268 \nQ 2250 2553 1709 2553 \nQ 1456 2553 1204 2497 \nQ 953 2441 691 2322 \nL 691 4666 \nz\n\" id=\"DejaVuSans-35\" transform=\"scale(0.015625)\"/>\n       </defs>\n       <use xlink:href=\"#DejaVuSans-32\"/>\n       <use x=\"63.623047\" xlink:href=\"#DejaVuSans-35\"/>\n      </g>\n     </g>\n    </g>\n    <g id=\"xtick_2\">\n     <g id=\"line2d_3\">\n      <path clip-path=\"url(#p9a6370d714)\" d=\"M 195.055099 442.08 \nL 195.055099 7.2 \n\" style=\"fill:none;stroke:#b0b0b0;stroke-linecap:square;stroke-width:0.8;\"/>\n     </g>\n     <g id=\"line2d_4\">\n      <g>\n       <use style=\"stroke:#000000;stroke-width:0.8;\" x=\"195.055099\" xlink:href=\"#m278d739089\" y=\"442.08\"/>\n      </g>\n     </g>\n     <g id=\"text_2\">\n      <!-- 50 -->\n      <g transform=\"translate(188.692599 456.678438)scale(0.1 -0.1)\">\n       <defs>\n        <path d=\"M 2034 4250 \nQ 1547 4250 1301 3770 \nQ 1056 3291 1056 2328 \nQ 1056 1369 1301 889 \nQ 1547 409 2034 409 \nQ 2525 409 2770 889 \nQ 3016 1369 3016 2328 \nQ 3016 3291 2770 3770 \nQ 2525 4250 2034 4250 \nz\nM 2034 4750 \nQ 2819 4750 3233 4129 \nQ 3647 3509 3647 2328 \nQ 3647 1150 3233 529 \nQ 2819 -91 2034 -91 \nQ 1250 -91 836 529 \nQ 422 1150 422 2328 \nQ 422 3509 836 4129 \nQ 1250 4750 2034 4750 \nz\n\" id=\"DejaVuSans-30\" transform=\"scale(0.015625)\"/>\n       </defs>\n       <use xlink:href=\"#DejaVuSans-35\"/>\n       <use x=\"63.623047\" xlink:href=\"#DejaVuSans-30\"/>\n      </g>\n     </g>\n    </g>\n    <g id=\"xtick_3\">\n     <g id=\"line2d_5\">\n      <path clip-path=\"url(#p9a6370d714)\" d=\"M 275.150792 442.08 \nL 275.150792 7.2 \n\" style=\"fill:none;stroke:#b0b0b0;stroke-linecap:square;stroke-width:0.8;\"/>\n     </g>\n     <g id=\"line2d_6\">\n      <g>\n       <use style=\"stroke:#000000;stroke-width:0.8;\" x=\"275.150792\" xlink:href=\"#m278d739089\" y=\"442.08\"/>\n      </g>\n     </g>\n     <g id=\"text_3\">\n      <!-- 75 -->\n      <g transform=\"translate(268.788292 456.678438)scale(0.1 -0.1)\">\n       <defs>\n        <path d=\"M 525 4666 \nL 3525 4666 \nL 3525 4397 \nL 1831 0 \nL 1172 0 \nL 2766 4134 \nL 525 4134 \nL 525 4666 \nz\n\" id=\"DejaVuSans-37\" transform=\"scale(0.015625)\"/>\n       </defs>\n       <use xlink:href=\"#DejaVuSans-37\"/>\n       <use x=\"63.623047\" xlink:href=\"#DejaVuSans-35\"/>\n      </g>\n     </g>\n    </g>\n    <g id=\"xtick_4\">\n     <g id=\"line2d_7\">\n      <path clip-path=\"url(#p9a6370d714)\" d=\"M 355.246486 442.08 \nL 355.246486 7.2 \n\" style=\"fill:none;stroke:#b0b0b0;stroke-linecap:square;stroke-width:0.8;\"/>\n     </g>\n     <g id=\"line2d_8\">\n      <g>\n       <use style=\"stroke:#000000;stroke-width:0.8;\" x=\"355.246486\" xlink:href=\"#m278d739089\" y=\"442.08\"/>\n      </g>\n     </g>\n     <g id=\"text_4\">\n      <!-- 100 -->\n      <g transform=\"translate(345.702736 456.678438)scale(0.1 -0.1)\">\n       <defs>\n        <path d=\"M 794 531 \nL 1825 531 \nL 1825 4091 \nL 703 3866 \nL 703 4441 \nL 1819 4666 \nL 2450 4666 \nL 2450 531 \nL 3481 531 \nL 3481 0 \nL 794 0 \nL 794 531 \nz\n\" id=\"DejaVuSans-31\" transform=\"scale(0.015625)\"/>\n       </defs>\n       <use xlink:href=\"#DejaVuSans-31\"/>\n       <use x=\"63.623047\" xlink:href=\"#DejaVuSans-30\"/>\n       <use x=\"127.246094\" xlink:href=\"#DejaVuSans-30\"/>\n      </g>\n     </g>\n    </g>\n    <g id=\"xtick_5\">\n     <g id=\"line2d_9\">\n      <path clip-path=\"url(#p9a6370d714)\" d=\"M 435.34218 442.08 \nL 435.34218 7.2 \n\" style=\"fill:none;stroke:#b0b0b0;stroke-linecap:square;stroke-width:0.8;\"/>\n     </g>\n     <g id=\"line2d_10\">\n      <g>\n       <use style=\"stroke:#000000;stroke-width:0.8;\" x=\"435.34218\" xlink:href=\"#m278d739089\" y=\"442.08\"/>\n      </g>\n     </g>\n     <g id=\"text_5\">\n      <!-- 125 -->\n      <g transform=\"translate(425.79843 456.678438)scale(0.1 -0.1)\">\n       <use xlink:href=\"#DejaVuSans-31\"/>\n       <use x=\"63.623047\" xlink:href=\"#DejaVuSans-32\"/>\n       <use x=\"127.246094\" xlink:href=\"#DejaVuSans-35\"/>\n      </g>\n     </g>\n    </g>\n    <g id=\"xtick_6\">\n     <g id=\"line2d_11\">\n      <path clip-path=\"url(#p9a6370d714)\" d=\"M 515.437874 442.08 \nL 515.437874 7.2 \n\" style=\"fill:none;stroke:#b0b0b0;stroke-linecap:square;stroke-width:0.8;\"/>\n     </g>\n     <g id=\"line2d_12\">\n      <g>\n       <use style=\"stroke:#000000;stroke-width:0.8;\" x=\"515.437874\" xlink:href=\"#m278d739089\" y=\"442.08\"/>\n      </g>\n     </g>\n     <g id=\"text_6\">\n      <!-- 150 -->\n      <g transform=\"translate(505.894124 456.678438)scale(0.1 -0.1)\">\n       <use xlink:href=\"#DejaVuSans-31\"/>\n       <use x=\"63.623047\" xlink:href=\"#DejaVuSans-35\"/>\n       <use x=\"127.246094\" xlink:href=\"#DejaVuSans-30\"/>\n      </g>\n     </g>\n    </g>\n    <g id=\"xtick_7\">\n     <g id=\"line2d_13\">\n      <path clip-path=\"url(#p9a6370d714)\" d=\"M 595.533568 442.08 \nL 595.533568 7.2 \n\" style=\"fill:none;stroke:#b0b0b0;stroke-linecap:square;stroke-width:0.8;\"/>\n     </g>\n     <g id=\"line2d_14\">\n      <g>\n       <use style=\"stroke:#000000;stroke-width:0.8;\" x=\"595.533568\" xlink:href=\"#m278d739089\" y=\"442.08\"/>\n      </g>\n     </g>\n     <g id=\"text_7\">\n      <!-- 175 -->\n      <g transform=\"translate(585.989818 456.678438)scale(0.1 -0.1)\">\n       <use xlink:href=\"#DejaVuSans-31\"/>\n       <use x=\"63.623047\" xlink:href=\"#DejaVuSans-37\"/>\n       <use x=\"127.246094\" xlink:href=\"#DejaVuSans-35\"/>\n      </g>\n     </g>\n    </g>\n    <g id=\"xtick_8\">\n     <g id=\"line2d_15\">\n      <path clip-path=\"url(#p9a6370d714)\" d=\"M 675.629261 442.08 \nL 675.629261 7.2 \n\" style=\"fill:none;stroke:#b0b0b0;stroke-linecap:square;stroke-width:0.8;\"/>\n     </g>\n     <g id=\"line2d_16\">\n      <g>\n       <use style=\"stroke:#000000;stroke-width:0.8;\" x=\"675.629261\" xlink:href=\"#m278d739089\" y=\"442.08\"/>\n      </g>\n     </g>\n     <g id=\"text_8\">\n      <!-- 200 -->\n      <g transform=\"translate(666.085511 456.678438)scale(0.1 -0.1)\">\n       <use xlink:href=\"#DejaVuSans-32\"/>\n       <use x=\"63.623047\" xlink:href=\"#DejaVuSans-30\"/>\n       <use x=\"127.246094\" xlink:href=\"#DejaVuSans-30\"/>\n      </g>\n     </g>\n    </g>\n   </g>\n   <g id=\"matplotlib.axis_2\">\n    <g id=\"ytick_1\">\n     <g id=\"line2d_17\">\n      <path clip-path=\"url(#p9a6370d714)\" d=\"M 36.465625 440.207311 \nL 706.065625 440.207311 \n\" style=\"fill:none;stroke:#b0b0b0;stroke-linecap:square;stroke-width:0.8;\"/>\n     </g>\n     <g id=\"line2d_18\">\n      <defs>\n       <path d=\"M 0 0 \nL -3.5 0 \n\" id=\"ma6c91afc4c\" style=\"stroke:#000000;stroke-width:0.8;\"/>\n      </defs>\n      <g>\n       <use style=\"stroke:#000000;stroke-width:0.8;\" x=\"36.465625\" xlink:href=\"#ma6c91afc4c\" y=\"440.207311\"/>\n      </g>\n     </g>\n     <g id=\"text_9\">\n      <!-- 0.22 -->\n      <g transform=\"translate(7.2 444.00653)scale(0.1 -0.1)\">\n       <defs>\n        <path d=\"M 684 794 \nL 1344 794 \nL 1344 0 \nL 684 0 \nL 684 794 \nz\n\" id=\"DejaVuSans-2e\" transform=\"scale(0.015625)\"/>\n       </defs>\n       <use xlink:href=\"#DejaVuSans-30\"/>\n       <use x=\"63.623047\" xlink:href=\"#DejaVuSans-2e\"/>\n       <use x=\"95.410156\" xlink:href=\"#DejaVuSans-32\"/>\n       <use x=\"159.033203\" xlink:href=\"#DejaVuSans-32\"/>\n      </g>\n     </g>\n    </g>\n    <g id=\"ytick_2\">\n     <g id=\"line2d_19\">\n      <path clip-path=\"url(#p9a6370d714)\" d=\"M 36.465625 390.893167 \nL 706.065625 390.893167 \n\" style=\"fill:none;stroke:#b0b0b0;stroke-linecap:square;stroke-width:0.8;\"/>\n     </g>\n     <g id=\"line2d_20\">\n      <g>\n       <use style=\"stroke:#000000;stroke-width:0.8;\" x=\"36.465625\" xlink:href=\"#ma6c91afc4c\" y=\"390.893167\"/>\n      </g>\n     </g>\n     <g id=\"text_10\">\n      <!-- 0.23 -->\n      <g transform=\"translate(7.2 394.692386)scale(0.1 -0.1)\">\n       <defs>\n        <path d=\"M 2597 2516 \nQ 3050 2419 3304 2112 \nQ 3559 1806 3559 1356 \nQ 3559 666 3084 287 \nQ 2609 -91 1734 -91 \nQ 1441 -91 1130 -33 \nQ 819 25 488 141 \nL 488 750 \nQ 750 597 1062 519 \nQ 1375 441 1716 441 \nQ 2309 441 2620 675 \nQ 2931 909 2931 1356 \nQ 2931 1769 2642 2001 \nQ 2353 2234 1838 2234 \nL 1294 2234 \nL 1294 2753 \nL 1863 2753 \nQ 2328 2753 2575 2939 \nQ 2822 3125 2822 3475 \nQ 2822 3834 2567 4026 \nQ 2313 4219 1838 4219 \nQ 1578 4219 1281 4162 \nQ 984 4106 628 3988 \nL 628 4550 \nQ 988 4650 1302 4700 \nQ 1616 4750 1894 4750 \nQ 2613 4750 3031 4423 \nQ 3450 4097 3450 3541 \nQ 3450 3153 3228 2886 \nQ 3006 2619 2597 2516 \nz\n\" id=\"DejaVuSans-33\" transform=\"scale(0.015625)\"/>\n       </defs>\n       <use xlink:href=\"#DejaVuSans-30\"/>\n       <use x=\"63.623047\" xlink:href=\"#DejaVuSans-2e\"/>\n       <use x=\"95.410156\" xlink:href=\"#DejaVuSans-32\"/>\n       <use x=\"159.033203\" xlink:href=\"#DejaVuSans-33\"/>\n      </g>\n     </g>\n    </g>\n    <g id=\"ytick_3\">\n     <g id=\"line2d_21\">\n      <path clip-path=\"url(#p9a6370d714)\" d=\"M 36.465625 341.579024 \nL 706.065625 341.579024 \n\" style=\"fill:none;stroke:#b0b0b0;stroke-linecap:square;stroke-width:0.8;\"/>\n     </g>\n     <g id=\"line2d_22\">\n      <g>\n       <use style=\"stroke:#000000;stroke-width:0.8;\" x=\"36.465625\" xlink:href=\"#ma6c91afc4c\" y=\"341.579024\"/>\n      </g>\n     </g>\n     <g id=\"text_11\">\n      <!-- 0.24 -->\n      <g transform=\"translate(7.2 345.378243)scale(0.1 -0.1)\">\n       <defs>\n        <path d=\"M 2419 4116 \nL 825 1625 \nL 2419 1625 \nL 2419 4116 \nz\nM 2253 4666 \nL 3047 4666 \nL 3047 1625 \nL 3713 1625 \nL 3713 1100 \nL 3047 1100 \nL 3047 0 \nL 2419 0 \nL 2419 1100 \nL 313 1100 \nL 313 1709 \nL 2253 4666 \nz\n\" id=\"DejaVuSans-34\" transform=\"scale(0.015625)\"/>\n       </defs>\n       <use xlink:href=\"#DejaVuSans-30\"/>\n       <use x=\"63.623047\" xlink:href=\"#DejaVuSans-2e\"/>\n       <use x=\"95.410156\" xlink:href=\"#DejaVuSans-32\"/>\n       <use x=\"159.033203\" xlink:href=\"#DejaVuSans-34\"/>\n      </g>\n     </g>\n    </g>\n    <g id=\"ytick_4\">\n     <g id=\"line2d_23\">\n      <path clip-path=\"url(#p9a6370d714)\" d=\"M 36.465625 292.26488 \nL 706.065625 292.26488 \n\" style=\"fill:none;stroke:#b0b0b0;stroke-linecap:square;stroke-width:0.8;\"/>\n     </g>\n     <g id=\"line2d_24\">\n      <g>\n       <use style=\"stroke:#000000;stroke-width:0.8;\" x=\"36.465625\" xlink:href=\"#ma6c91afc4c\" y=\"292.26488\"/>\n      </g>\n     </g>\n     <g id=\"text_12\">\n      <!-- 0.25 -->\n      <g transform=\"translate(7.2 296.064099)scale(0.1 -0.1)\">\n       <use xlink:href=\"#DejaVuSans-30\"/>\n       <use x=\"63.623047\" xlink:href=\"#DejaVuSans-2e\"/>\n       <use x=\"95.410156\" xlink:href=\"#DejaVuSans-32\"/>\n       <use x=\"159.033203\" xlink:href=\"#DejaVuSans-35\"/>\n      </g>\n     </g>\n    </g>\n    <g id=\"ytick_5\">\n     <g id=\"line2d_25\">\n      <path clip-path=\"url(#p9a6370d714)\" d=\"M 36.465625 242.950737 \nL 706.065625 242.950737 \n\" style=\"fill:none;stroke:#b0b0b0;stroke-linecap:square;stroke-width:0.8;\"/>\n     </g>\n     <g id=\"line2d_26\">\n      <g>\n       <use style=\"stroke:#000000;stroke-width:0.8;\" x=\"36.465625\" xlink:href=\"#ma6c91afc4c\" y=\"242.950737\"/>\n      </g>\n     </g>\n     <g id=\"text_13\">\n      <!-- 0.26 -->\n      <g transform=\"translate(7.2 246.749956)scale(0.1 -0.1)\">\n       <defs>\n        <path d=\"M 2113 2584 \nQ 1688 2584 1439 2293 \nQ 1191 2003 1191 1497 \nQ 1191 994 1439 701 \nQ 1688 409 2113 409 \nQ 2538 409 2786 701 \nQ 3034 994 3034 1497 \nQ 3034 2003 2786 2293 \nQ 2538 2584 2113 2584 \nz\nM 3366 4563 \nL 3366 3988 \nQ 3128 4100 2886 4159 \nQ 2644 4219 2406 4219 \nQ 1781 4219 1451 3797 \nQ 1122 3375 1075 2522 \nQ 1259 2794 1537 2939 \nQ 1816 3084 2150 3084 \nQ 2853 3084 3261 2657 \nQ 3669 2231 3669 1497 \nQ 3669 778 3244 343 \nQ 2819 -91 2113 -91 \nQ 1303 -91 875 529 \nQ 447 1150 447 2328 \nQ 447 3434 972 4092 \nQ 1497 4750 2381 4750 \nQ 2619 4750 2861 4703 \nQ 3103 4656 3366 4563 \nz\n\" id=\"DejaVuSans-36\" transform=\"scale(0.015625)\"/>\n       </defs>\n       <use xlink:href=\"#DejaVuSans-30\"/>\n       <use x=\"63.623047\" xlink:href=\"#DejaVuSans-2e\"/>\n       <use x=\"95.410156\" xlink:href=\"#DejaVuSans-32\"/>\n       <use x=\"159.033203\" xlink:href=\"#DejaVuSans-36\"/>\n      </g>\n     </g>\n    </g>\n    <g id=\"ytick_6\">\n     <g id=\"line2d_27\">\n      <path clip-path=\"url(#p9a6370d714)\" d=\"M 36.465625 193.636593 \nL 706.065625 193.636593 \n\" style=\"fill:none;stroke:#b0b0b0;stroke-linecap:square;stroke-width:0.8;\"/>\n     </g>\n     <g id=\"line2d_28\">\n      <g>\n       <use style=\"stroke:#000000;stroke-width:0.8;\" x=\"36.465625\" xlink:href=\"#ma6c91afc4c\" y=\"193.636593\"/>\n      </g>\n     </g>\n     <g id=\"text_14\">\n      <!-- 0.27 -->\n      <g transform=\"translate(7.2 197.435812)scale(0.1 -0.1)\">\n       <use xlink:href=\"#DejaVuSans-30\"/>\n       <use x=\"63.623047\" xlink:href=\"#DejaVuSans-2e\"/>\n       <use x=\"95.410156\" xlink:href=\"#DejaVuSans-32\"/>\n       <use x=\"159.033203\" xlink:href=\"#DejaVuSans-37\"/>\n      </g>\n     </g>\n    </g>\n    <g id=\"ytick_7\">\n     <g id=\"line2d_29\">\n      <path clip-path=\"url(#p9a6370d714)\" d=\"M 36.465625 144.32245 \nL 706.065625 144.32245 \n\" style=\"fill:none;stroke:#b0b0b0;stroke-linecap:square;stroke-width:0.8;\"/>\n     </g>\n     <g id=\"line2d_30\">\n      <g>\n       <use style=\"stroke:#000000;stroke-width:0.8;\" x=\"36.465625\" xlink:href=\"#ma6c91afc4c\" y=\"144.32245\"/>\n      </g>\n     </g>\n     <g id=\"text_15\">\n      <!-- 0.28 -->\n      <g transform=\"translate(7.2 148.121669)scale(0.1 -0.1)\">\n       <defs>\n        <path d=\"M 2034 2216 \nQ 1584 2216 1326 1975 \nQ 1069 1734 1069 1313 \nQ 1069 891 1326 650 \nQ 1584 409 2034 409 \nQ 2484 409 2743 651 \nQ 3003 894 3003 1313 \nQ 3003 1734 2745 1975 \nQ 2488 2216 2034 2216 \nz\nM 1403 2484 \nQ 997 2584 770 2862 \nQ 544 3141 544 3541 \nQ 544 4100 942 4425 \nQ 1341 4750 2034 4750 \nQ 2731 4750 3128 4425 \nQ 3525 4100 3525 3541 \nQ 3525 3141 3298 2862 \nQ 3072 2584 2669 2484 \nQ 3125 2378 3379 2068 \nQ 3634 1759 3634 1313 \nQ 3634 634 3220 271 \nQ 2806 -91 2034 -91 \nQ 1263 -91 848 271 \nQ 434 634 434 1313 \nQ 434 1759 690 2068 \nQ 947 2378 1403 2484 \nz\nM 1172 3481 \nQ 1172 3119 1398 2916 \nQ 1625 2713 2034 2713 \nQ 2441 2713 2670 2916 \nQ 2900 3119 2900 3481 \nQ 2900 3844 2670 4047 \nQ 2441 4250 2034 4250 \nQ 1625 4250 1398 4047 \nQ 1172 3844 1172 3481 \nz\n\" id=\"DejaVuSans-38\" transform=\"scale(0.015625)\"/>\n       </defs>\n       <use xlink:href=\"#DejaVuSans-30\"/>\n       <use x=\"63.623047\" xlink:href=\"#DejaVuSans-2e\"/>\n       <use x=\"95.410156\" xlink:href=\"#DejaVuSans-32\"/>\n       <use x=\"159.033203\" xlink:href=\"#DejaVuSans-38\"/>\n      </g>\n     </g>\n    </g>\n    <g id=\"ytick_8\">\n     <g id=\"line2d_31\">\n      <path clip-path=\"url(#p9a6370d714)\" d=\"M 36.465625 95.008306 \nL 706.065625 95.008306 \n\" style=\"fill:none;stroke:#b0b0b0;stroke-linecap:square;stroke-width:0.8;\"/>\n     </g>\n     <g id=\"line2d_32\">\n      <g>\n       <use style=\"stroke:#000000;stroke-width:0.8;\" x=\"36.465625\" xlink:href=\"#ma6c91afc4c\" y=\"95.008306\"/>\n      </g>\n     </g>\n     <g id=\"text_16\">\n      <!-- 0.29 -->\n      <g transform=\"translate(7.2 98.807525)scale(0.1 -0.1)\">\n       <defs>\n        <path d=\"M 703 97 \nL 703 672 \nQ 941 559 1184 500 \nQ 1428 441 1663 441 \nQ 2288 441 2617 861 \nQ 2947 1281 2994 2138 \nQ 2813 1869 2534 1725 \nQ 2256 1581 1919 1581 \nQ 1219 1581 811 2004 \nQ 403 2428 403 3163 \nQ 403 3881 828 4315 \nQ 1253 4750 1959 4750 \nQ 2769 4750 3195 4129 \nQ 3622 3509 3622 2328 \nQ 3622 1225 3098 567 \nQ 2575 -91 1691 -91 \nQ 1453 -91 1209 -44 \nQ 966 3 703 97 \nz\nM 1959 2075 \nQ 2384 2075 2632 2365 \nQ 2881 2656 2881 3163 \nQ 2881 3666 2632 3958 \nQ 2384 4250 1959 4250 \nQ 1534 4250 1286 3958 \nQ 1038 3666 1038 3163 \nQ 1038 2656 1286 2365 \nQ 1534 2075 1959 2075 \nz\n\" id=\"DejaVuSans-39\" transform=\"scale(0.015625)\"/>\n       </defs>\n       <use xlink:href=\"#DejaVuSans-30\"/>\n       <use x=\"63.623047\" xlink:href=\"#DejaVuSans-2e\"/>\n       <use x=\"95.410156\" xlink:href=\"#DejaVuSans-32\"/>\n       <use x=\"159.033203\" xlink:href=\"#DejaVuSans-39\"/>\n      </g>\n     </g>\n    </g>\n    <g id=\"ytick_9\">\n     <g id=\"line2d_33\">\n      <path clip-path=\"url(#p9a6370d714)\" d=\"M 36.465625 45.694163 \nL 706.065625 45.694163 \n\" style=\"fill:none;stroke:#b0b0b0;stroke-linecap:square;stroke-width:0.8;\"/>\n     </g>\n     <g id=\"line2d_34\">\n      <g>\n       <use style=\"stroke:#000000;stroke-width:0.8;\" x=\"36.465625\" xlink:href=\"#ma6c91afc4c\" y=\"45.694163\"/>\n      </g>\n     </g>\n     <g id=\"text_17\">\n      <!-- 0.30 -->\n      <g transform=\"translate(7.2 49.493381)scale(0.1 -0.1)\">\n       <use xlink:href=\"#DejaVuSans-30\"/>\n       <use x=\"63.623047\" xlink:href=\"#DejaVuSans-2e\"/>\n       <use x=\"95.410156\" xlink:href=\"#DejaVuSans-33\"/>\n       <use x=\"159.033203\" xlink:href=\"#DejaVuSans-30\"/>\n      </g>\n     </g>\n    </g>\n   </g>\n   <g id=\"line2d_35\">\n    <path clip-path=\"url(#p9a6370d714)\" d=\"M 66.901989 411.9089 \nL 98.940266 235.043828 \nL 130.978544 245.447656 \nL 163.016821 183.024689 \nL 195.055099 162.217033 \nL 227.093376 131.00555 \nL 259.131654 26.967273 \nL 291.169931 255.851483 \nL 323.208209 245.447656 \nL 355.246486 255.851483 \nL 387.284764 245.447656 \nL 419.323041 235.043828 \nL 451.361319 235.043828 \nL 483.399596 422.312727 \nL 515.437874 422.312727 \nL 547.476151 422.312727 \nL 579.514429 401.505072 \nL 611.552706 380.697416 \nL 643.590984 391.101244 \nL 675.629261 245.447656 \n\" style=\"fill:none;stroke:#1f77b4;stroke-linecap:square;stroke-width:1.5;\"/>\n   </g>\n   <g id=\"patch_3\">\n    <path d=\"M 36.465625 442.08 \nL 36.465625 7.2 \n\" style=\"fill:none;stroke:#000000;stroke-linecap:square;stroke-linejoin:miter;stroke-width:0.8;\"/>\n   </g>\n   <g id=\"patch_4\">\n    <path d=\"M 706.065625 442.08 \nL 706.065625 7.2 \n\" style=\"fill:none;stroke:#000000;stroke-linecap:square;stroke-linejoin:miter;stroke-width:0.8;\"/>\n   </g>\n   <g id=\"patch_5\">\n    <path d=\"M 36.465625 442.08 \nL 706.065625 442.08 \n\" style=\"fill:none;stroke:#000000;stroke-linecap:square;stroke-linejoin:miter;stroke-width:0.8;\"/>\n   </g>\n   <g id=\"patch_6\">\n    <path d=\"M 36.465625 7.2 \nL 706.065625 7.2 \n\" style=\"fill:none;stroke:#000000;stroke-linecap:square;stroke-linejoin:miter;stroke-width:0.8;\"/>\n   </g>\n  </g>\n </g>\n <defs>\n  <clipPath id=\"p9a6370d714\">\n   <rect height=\"434.88\" width=\"669.6\" x=\"36.465625\" y=\"7.2\"/>\n  </clipPath>\n </defs>\n</svg>\n",
            "image/png": "[encoded data removed]"
          },
          "metadata": {
            "tags": [],
            "needs_background": "light"
          }
        }
      ]
    },
    {
      "cell_type": "code",
      "metadata": {
        "id": "UNnrX386uZa1"
      },
      "source": [
        ""
      ],
      "execution_count": null,
      "outputs": []
    },
    {
      "cell_type": "markdown",
      "metadata": {
        "id": "n_XyE7otUxey"
      },
      "source": [
        "# Updated PSI"
      ]
    },
    {
      "cell_type": "code",
      "metadata": {
        "id": "ypa8Ew6Rur7P"
      },
      "source": [
        ""
      ],
      "execution_count": null,
      "outputs": []
    },
    {
      "cell_type": "markdown",
      "metadata": {
        "id": "GnvQfVQ5ul5S"
      },
      "source": [
        "**Get Updated Mat**"
      ]
    },
    {
      "cell_type": "code",
      "metadata": {
        "colab": {
          "base_uri": "https://localhost:8080/"
        },
        "id": "-S_Ti3jIVmL7",
        "outputId": "c73fe5ee-6aea-4bd2-86d5-5c1f31e1a6d2"
      },
      "source": [
        "rows_i = AllDF_start['userId'].nunique()\n",
        "cols_i = AllDF_start['productId'].nunique()\n",
        "print(A0_df.shape)\n",
        "A0_RatMat_updt = SingleRatingMatrix(A0_df,'userId', 'productId',rows_i,cols_i)\n",
        "A0_RatMat_updt"
      ],
      "execution_count": null,
      "outputs": [
        {
          "output_type": "stream",
          "text": [
            "(30661, 5)\n"
          ],
          "name": "stdout"
        },
        {
          "output_type": "execute_result",
          "data": {
            "text/plain": [
              "<19169x6515 sparse matrix of type '<class 'numpy.float64'>'\n",
              "\twith 30415 stored elements in Compressed Sparse Row format>"
            ]
          },
          "metadata": {
            "tags": []
          },
          "execution_count": 58
        }
      ]
    },
    {
      "cell_type": "code",
      "metadata": {
        "colab": {
          "base_uri": "https://localhost:8080/"
        },
        "id": "9bSWovTNVmMX",
        "outputId": "3ff1e108-67c9-40fc-8f18-966adbcba55c"
      },
      "source": [
        "PSI_TrainMat_updt = AllRatingMatrices(ΔA_train,'userId','productId',rows_i ,cols_i)\n",
        "PSI_TrainMat_updt"
      ],
      "execution_count": null,
      "outputs": [
        {
          "output_type": "execute_result",
          "data": {
            "text/plain": [
              "[<19169x6515 sparse matrix of type '<class 'numpy.float64'>'\n",
              " \twith 1197 stored elements in Compressed Sparse Row format>,\n",
              " <19169x6515 sparse matrix of type '<class 'numpy.float64'>'\n",
              " \twith 1199 stored elements in Compressed Sparse Row format>,\n",
              " <19169x6515 sparse matrix of type '<class 'numpy.float64'>'\n",
              " \twith 1197 stored elements in Compressed Sparse Row format>,\n",
              " <19169x6515 sparse matrix of type '<class 'numpy.float64'>'\n",
              " \twith 1199 stored elements in Compressed Sparse Row format>,\n",
              " <19169x6515 sparse matrix of type '<class 'numpy.float64'>'\n",
              " \twith 1199 stored elements in Compressed Sparse Row format>,\n",
              " <19169x6515 sparse matrix of type '<class 'numpy.float64'>'\n",
              " \twith 1200 stored elements in Compressed Sparse Row format>,\n",
              " <19169x6515 sparse matrix of type '<class 'numpy.float64'>'\n",
              " \twith 1200 stored elements in Compressed Sparse Row format>,\n",
              " <19169x6515 sparse matrix of type '<class 'numpy.float64'>'\n",
              " \twith 1200 stored elements in Compressed Sparse Row format>]"
            ]
          },
          "metadata": {
            "tags": []
          },
          "execution_count": 59
        }
      ]
    },
    {
      "cell_type": "code",
      "metadata": {
        "id": "X9B1wEG8YUQa"
      },
      "source": [
        ""
      ],
      "execution_count": null,
      "outputs": []
    },
    {
      "cell_type": "markdown",
      "metadata": {
        "id": "A0k3BxpQCEDK"
      },
      "source": [
        "**Allsteps Update**"
      ]
    },
    {
      "cell_type": "code",
      "metadata": {
        "id": "3cEAR8lWvMv0"
      },
      "source": [
        ""
      ],
      "execution_count": null,
      "outputs": []
    },
    {
      "cell_type": "code",
      "metadata": {
        "colab": {
          "base_uri": "https://localhost:8080/"
        },
        "id": "gZKKzIA4UPAt",
        "outputId": "c4e8f520-7013-4d87-c1cf-ff5eb3844b6c"
      },
      "source": [
        "U_start,S_start,V_start = last_psiTrainMat(A0_RatMat_updt,PSI_TrainMat_updt,k=70)\n",
        "print()\n",
        "print(\"U_start shape: \",U_start.shape)\n",
        "print(\"S_start shape: \",S_start.shape)\n",
        "print(\"V_start shape: \",V_start.shape)"
      ],
      "execution_count": null,
      "outputs": [
        {
          "output_type": "stream",
          "text": [
            "100%|██████████| 8/8 [00:00<00:00, 20.83it/s]\n",
            "U_start shape:  (19169, 70)\n",
            "S_start shape:  (70, 70)\n",
            "V_start shape:  (6515, 70)\n",
            "\n"
          ],
          "name": "stderr"
        }
      ]
    },
    {
      "cell_type": "code",
      "metadata": {
        "colab": {
          "base_uri": "https://localhost:8080/"
        },
        "id": "1c2frghJa9qQ",
        "outputId": "bf4b9614-fae8-4573-e112-6c0587f6580e"
      },
      "source": [
        "U_list,S_list,V_list = [],[],[]\n",
        "U_list.append(U_start)\n",
        "S_list.append(S_start)\n",
        "V_list.append(V_start)\n",
        "print(len(U_list),len(V_list))"
      ],
      "execution_count": null,
      "outputs": [
        {
          "output_type": "stream",
          "text": [
            "1 1\n"
          ],
          "name": "stdout"
        }
      ]
    },
    {
      "cell_type": "code",
      "metadata": {
        "id": "DXlEMSHos-Za",
        "outputId": "36a060d3-80dd-4153-fdf0-334c1012e824"
      },
      "source": [
        "DItems_, DUsers_,In_DomainUSERS,In_DomainITEMS,userID_dict,itemID_dict,AllUpdtUSERS_,AllUpdtITEMS_,U_list,S_list,V_list = ALLSTEPs_UPDATE(AllDF_start,UserItemDF_list,New_itemsList,New_usersList,U_list,S_list,V_list,'userId','productId',Nsteps=10,k=70,Forced_Orth=False)"
      ],
      "execution_count": null,
      "outputs": [
        {
          "output_type": "stream",
          "text": [
            "100%|██████████| 9/9 [01:59<00:00, 13.29s/it]\n"
          ],
          "name": "stderr"
        }
      ]
    },
    {
      "cell_type": "code",
      "metadata": {
        "id": "rdX0nPyQz1LO"
      },
      "source": [
        ""
      ],
      "execution_count": null,
      "outputs": []
    },
    {
      "cell_type": "markdown",
      "metadata": {
        "id": "H9o1U4E-zttV"
      },
      "source": [
        "**Output Check**"
      ]
    },
    {
      "cell_type": "code",
      "metadata": {
        "id": "2nlJ_uE8s-Zb",
        "outputId": "871df9fd-78af-48d2-d183-b8e1e810102b"
      },
      "source": [
        "print(AllDF_start['productId'].max())\n",
        "print(AllDF_start['userId'].max())"
      ],
      "execution_count": null,
      "outputs": [
        {
          "output_type": "stream",
          "text": [
            "6514\n",
            "19168\n"
          ],
          "name": "stdout"
        }
      ]
    },
    {
      "cell_type": "code",
      "metadata": {
        "colab": {
          "base_uri": "https://localhost:8080/"
        },
        "id": "0J4Qrzf9OvVN",
        "outputId": "55614d54-493f-498c-f4ed-7af591e48114"
      },
      "source": [
        "print(len(In_DomainITEMS[6514+1:]))\n",
        "print(In_DomainITEMS[6514+1:][:10])\n",
        "print()\n",
        "print(len(In_DomainUSERS[19168+1:]))\n",
        "print(In_DomainUSERS[19168+1:][:10])"
      ],
      "execution_count": null,
      "outputs": [
        {
          "output_type": "stream",
          "text": [
            "1594\n",
            "[6515, 6516, 6526, 6530, 6550, 6552, 6586, 6588, 6598, 6619]\n",
            "\n",
            "3388\n",
            "[19169, 19170, 19172, 19176, 19177, 19178, 19180, 19182, 19183, 19185]\n"
          ],
          "name": "stdout"
        }
      ]
    },
    {
      "cell_type": "code",
      "metadata": {
        "colab": {
          "base_uri": "https://localhost:8080/"
        },
        "id": "5vpSt3xLOvVU",
        "outputId": "e6aa00d0-e415-47b4-92bf-f4304cfedf39"
      },
      "source": [
        "#deferred items and users\n",
        "print(len(DItems_))\n",
        "print(DItems_[:10])\n",
        "print()\n",
        "print(len(DUsers_))\n",
        "print(DUsers_[:10])"
      ],
      "execution_count": null,
      "outputs": [
        {
          "output_type": "stream",
          "text": [
            "511\n",
            "[8486, 8487, 8488, 8489, 8490, 8491, 8492, 8493, 8494, 8495]\n",
            "\n",
            "242\n",
            "[22646, 22651, 22653, 22659, 22661, 22676, 22677, 22706, 22729, 22733]\n"
          ],
          "name": "stdout"
        }
      ]
    },
    {
      "cell_type": "code",
      "metadata": {
        "colab": {
          "base_uri": "https://localhost:8080/"
        },
        "id": "fYRgZGwlOvVW",
        "tags": [],
        "outputId": "185320cf-41bf-48a3-c031-570ab5236543"
      },
      "source": [
        "for x in list(itemID_dict)[6514+1:][:100]:\n",
        "    print (\"Id: {}, UpdtId: {} \".format(x,  itemID_dict[x]))   ##id ==key || updtedid == values  ,itemID_dict"
      ],
      "execution_count": null,
      "outputs": [
        {
          "output_type": "stream",
          "text": [
            "Id: 6515, UpdtId: 6515 \n",
            "Id: 6516, UpdtId: 6516 \n",
            "Id: 6526, UpdtId: 6517 \n",
            "Id: 6530, UpdtId: 6518 \n",
            "Id: 6550, UpdtId: 6519 \n",
            "Id: 6552, UpdtId: 6520 \n",
            "Id: 6586, UpdtId: 6521 \n",
            "Id: 6588, UpdtId: 6522 \n",
            "Id: 6598, UpdtId: 6523 \n",
            "Id: 6619, UpdtId: 6524 \n",
            "Id: 6620, UpdtId: 6525 \n",
            "Id: 6630, UpdtId: 6526 \n",
            "Id: 6632, UpdtId: 6527 \n",
            "Id: 6645, UpdtId: 6528 \n",
            "Id: 6661, UpdtId: 6529 \n",
            "Id: 6662, UpdtId: 6530 \n",
            "Id: 6666, UpdtId: 6531 \n",
            "Id: 6578, UpdtId: 6532 \n",
            "Id: 6579, UpdtId: 6533 \n",
            "Id: 6621, UpdtId: 6534 \n",
            "Id: 6679, UpdtId: 6535 \n",
            "Id: 6778, UpdtId: 6536 \n",
            "Id: 6792, UpdtId: 6537 \n",
            "Id: 6803, UpdtId: 6538 \n",
            "Id: 6815, UpdtId: 6539 \n",
            "Id: 6830, UpdtId: 6540 \n",
            "Id: 6844, UpdtId: 6541 \n",
            "Id: 6881, UpdtId: 6542 \n",
            "Id: 6518, UpdtId: 6543 \n",
            "Id: 6520, UpdtId: 6544 \n",
            "Id: 6524, UpdtId: 6545 \n",
            "Id: 6533, UpdtId: 6546 \n",
            "Id: 6534, UpdtId: 6547 \n",
            "Id: 6539, UpdtId: 6548 \n",
            "Id: 6542, UpdtId: 6549 \n",
            "Id: 6543, UpdtId: 6550 \n",
            "Id: 6544, UpdtId: 6551 \n",
            "Id: 6545, UpdtId: 6552 \n",
            "Id: 6549, UpdtId: 6553 \n",
            "Id: 6553, UpdtId: 6554 \n",
            "Id: 6557, UpdtId: 6555 \n",
            "Id: 6558, UpdtId: 6556 \n",
            "Id: 6561, UpdtId: 6557 \n",
            "Id: 6565, UpdtId: 6558 \n",
            "Id: 6567, UpdtId: 6559 \n",
            "Id: 6568, UpdtId: 6560 \n",
            "Id: 6569, UpdtId: 6561 \n",
            "Id: 6570, UpdtId: 6562 \n",
            "Id: 6571, UpdtId: 6563 \n",
            "Id: 6572, UpdtId: 6564 \n",
            "Id: 6573, UpdtId: 6565 \n",
            "Id: 6574, UpdtId: 6566 \n",
            "Id: 6575, UpdtId: 6567 \n",
            "Id: 6582, UpdtId: 6568 \n",
            "Id: 6583, UpdtId: 6569 \n",
            "Id: 6584, UpdtId: 6570 \n",
            "Id: 6585, UpdtId: 6571 \n",
            "Id: 6587, UpdtId: 6572 \n",
            "Id: 6589, UpdtId: 6573 \n",
            "Id: 6591, UpdtId: 6574 \n",
            "Id: 6592, UpdtId: 6575 \n",
            "Id: 6597, UpdtId: 6576 \n",
            "Id: 6600, UpdtId: 6577 \n",
            "Id: 6601, UpdtId: 6578 \n",
            "Id: 6602, UpdtId: 6579 \n",
            "Id: 6604, UpdtId: 6580 \n",
            "Id: 6605, UpdtId: 6581 \n",
            "Id: 6610, UpdtId: 6582 \n",
            "Id: 6611, UpdtId: 6583 \n",
            "Id: 6612, UpdtId: 6584 \n",
            "Id: 6613, UpdtId: 6585 \n",
            "Id: 6614, UpdtId: 6586 \n",
            "Id: 6616, UpdtId: 6587 \n",
            "Id: 6623, UpdtId: 6588 \n",
            "Id: 6626, UpdtId: 6589 \n",
            "Id: 6627, UpdtId: 6590 \n",
            "Id: 6628, UpdtId: 6591 \n",
            "Id: 6629, UpdtId: 6592 \n",
            "Id: 6631, UpdtId: 6593 \n",
            "Id: 6633, UpdtId: 6594 \n",
            "Id: 6636, UpdtId: 6595 \n",
            "Id: 6638, UpdtId: 6596 \n",
            "Id: 6639, UpdtId: 6597 \n",
            "Id: 6640, UpdtId: 6598 \n",
            "Id: 6646, UpdtId: 6599 \n",
            "Id: 6648, UpdtId: 6600 \n",
            "Id: 6649, UpdtId: 6601 \n",
            "Id: 6650, UpdtId: 6602 \n",
            "Id: 6652, UpdtId: 6603 \n",
            "Id: 6654, UpdtId: 6604 \n",
            "Id: 6657, UpdtId: 6605 \n",
            "Id: 6668, UpdtId: 6606 \n",
            "Id: 6669, UpdtId: 6607 \n",
            "Id: 6672, UpdtId: 6608 \n",
            "Id: 6673, UpdtId: 6609 \n",
            "Id: 6674, UpdtId: 6610 \n",
            "Id: 6675, UpdtId: 6611 \n",
            "Id: 6676, UpdtId: 6612 \n",
            "Id: 6681, UpdtId: 6613 \n",
            "Id: 6683, UpdtId: 6614 \n"
          ],
          "name": "stdout"
        }
      ]
    },
    {
      "cell_type": "code",
      "metadata": {
        "colab": {
          "base_uri": "https://localhost:8080/"
        },
        "id": "XP6aaq1qOvVY",
        "tags": [],
        "outputId": "653bb770-1c08-434f-964b-8f96b46575fc"
      },
      "source": [
        "for x in list(userID_dict)[19169:][:100]:\n",
        "    print (\"Id: {}, UpdtId: {} \".format(x,  userID_dict[x]))   ##id ==key || updtedid == values "
      ],
      "execution_count": null,
      "outputs": [
        {
          "output_type": "stream",
          "text": [
            "Id: 19169, UpdtId: 19169 \n",
            "Id: 19170, UpdtId: 19170 \n",
            "Id: 19172, UpdtId: 19171 \n",
            "Id: 19176, UpdtId: 19172 \n",
            "Id: 19177, UpdtId: 19173 \n",
            "Id: 19178, UpdtId: 19174 \n",
            "Id: 19180, UpdtId: 19175 \n",
            "Id: 19182, UpdtId: 19176 \n",
            "Id: 19183, UpdtId: 19177 \n",
            "Id: 19185, UpdtId: 19178 \n",
            "Id: 19186, UpdtId: 19179 \n",
            "Id: 19193, UpdtId: 19180 \n",
            "Id: 19194, UpdtId: 19181 \n",
            "Id: 19196, UpdtId: 19182 \n",
            "Id: 19197, UpdtId: 19183 \n",
            "Id: 19198, UpdtId: 19184 \n",
            "Id: 19201, UpdtId: 19185 \n",
            "Id: 19202, UpdtId: 19186 \n",
            "Id: 19203, UpdtId: 19187 \n",
            "Id: 19209, UpdtId: 19188 \n",
            "Id: 19210, UpdtId: 19189 \n",
            "Id: 19212, UpdtId: 19190 \n",
            "Id: 19217, UpdtId: 19191 \n",
            "Id: 19220, UpdtId: 19192 \n",
            "Id: 19223, UpdtId: 19193 \n",
            "Id: 19224, UpdtId: 19194 \n",
            "Id: 19226, UpdtId: 19195 \n",
            "Id: 19230, UpdtId: 19196 \n",
            "Id: 19232, UpdtId: 19197 \n",
            "Id: 19234, UpdtId: 19198 \n",
            "Id: 19235, UpdtId: 19199 \n",
            "Id: 19236, UpdtId: 19200 \n",
            "Id: 19238, UpdtId: 19201 \n",
            "Id: 19240, UpdtId: 19202 \n",
            "Id: 19242, UpdtId: 19203 \n",
            "Id: 19245, UpdtId: 19204 \n",
            "Id: 19250, UpdtId: 19205 \n",
            "Id: 19251, UpdtId: 19206 \n",
            "Id: 19254, UpdtId: 19207 \n",
            "Id: 19255, UpdtId: 19208 \n",
            "Id: 19257, UpdtId: 19209 \n",
            "Id: 19259, UpdtId: 19210 \n",
            "Id: 19261, UpdtId: 19211 \n",
            "Id: 19263, UpdtId: 19212 \n",
            "Id: 19264, UpdtId: 19213 \n",
            "Id: 19265, UpdtId: 19214 \n",
            "Id: 19266, UpdtId: 19215 \n",
            "Id: 19267, UpdtId: 19216 \n",
            "Id: 19268, UpdtId: 19217 \n",
            "Id: 19269, UpdtId: 19218 \n",
            "Id: 19271, UpdtId: 19219 \n",
            "Id: 19272, UpdtId: 19220 \n",
            "Id: 19276, UpdtId: 19221 \n",
            "Id: 19278, UpdtId: 19222 \n",
            "Id: 19280, UpdtId: 19223 \n",
            "Id: 19281, UpdtId: 19224 \n",
            "Id: 19282, UpdtId: 19225 \n",
            "Id: 19284, UpdtId: 19226 \n",
            "Id: 19285, UpdtId: 19227 \n",
            "Id: 19287, UpdtId: 19228 \n",
            "Id: 19288, UpdtId: 19229 \n",
            "Id: 19289, UpdtId: 19230 \n",
            "Id: 19292, UpdtId: 19231 \n",
            "Id: 19293, UpdtId: 19232 \n",
            "Id: 19294, UpdtId: 19233 \n",
            "Id: 19296, UpdtId: 19234 \n",
            "Id: 19297, UpdtId: 19235 \n",
            "Id: 19298, UpdtId: 19236 \n",
            "Id: 19299, UpdtId: 19237 \n",
            "Id: 19300, UpdtId: 19238 \n",
            "Id: 19302, UpdtId: 19239 \n",
            "Id: 19307, UpdtId: 19240 \n",
            "Id: 19309, UpdtId: 19241 \n",
            "Id: 19310, UpdtId: 19242 \n",
            "Id: 19311, UpdtId: 19243 \n",
            "Id: 19312, UpdtId: 19244 \n",
            "Id: 19313, UpdtId: 19245 \n",
            "Id: 19314, UpdtId: 19246 \n",
            "Id: 19315, UpdtId: 19247 \n",
            "Id: 19317, UpdtId: 19248 \n",
            "Id: 19319, UpdtId: 19249 \n",
            "Id: 19320, UpdtId: 19250 \n",
            "Id: 19321, UpdtId: 19251 \n",
            "Id: 19323, UpdtId: 19252 \n",
            "Id: 19327, UpdtId: 19253 \n",
            "Id: 19330, UpdtId: 19254 \n",
            "Id: 19331, UpdtId: 19255 \n",
            "Id: 19332, UpdtId: 19256 \n",
            "Id: 19333, UpdtId: 19257 \n",
            "Id: 19335, UpdtId: 19258 \n",
            "Id: 19340, UpdtId: 19259 \n",
            "Id: 19344, UpdtId: 19260 \n",
            "Id: 19345, UpdtId: 19261 \n",
            "Id: 19347, UpdtId: 19262 \n",
            "Id: 19349, UpdtId: 19263 \n",
            "Id: 19352, UpdtId: 19264 \n",
            "Id: 19355, UpdtId: 19265 \n",
            "Id: 19357, UpdtId: 19266 \n",
            "Id: 19358, UpdtId: 19267 \n",
            "Id: 19359, UpdtId: 19268 \n"
          ],
          "name": "stdout"
        }
      ]
    },
    {
      "cell_type": "code",
      "metadata": {
        "colab": {
          "base_uri": "https://localhost:8080/"
        },
        "id": "9hrMshBYOvVa",
        "outputId": "1fcf1ed5-3f98-4a55-a24b-6d45c7b73f21"
      },
      "source": [
        "print(len(U_list),len(V_list))\n",
        "print(U_list[0].shape,V_list[0].shape)\n",
        "print()\n",
        "for u,v in zip(U_list[1:],V_list[1:]):\n",
        "    print(u.shape,v.shape)   "
      ],
      "execution_count": null,
      "outputs": [
        {
          "output_type": "stream",
          "text": [
            "11 11\n",
            "(19169, 70) (6515, 70)\n",
            "\n",
            "(19386, 70) (6537, 70)\n",
            "(19763, 70) (6694, 70)\n",
            "(20149, 70) (6873, 70)\n",
            "(20538, 70) (7034, 70)\n",
            "(20916, 70) (7224, 70)\n",
            "(21244, 70) (7428, 70)\n",
            "(21630, 70) (7645, 70)\n",
            "(21959, 70) (7748, 70)\n",
            "(22315, 70) (7914, 70)\n",
            "(22557, 70) (8109, 70)\n"
          ],
          "name": "stdout"
        }
      ]
    },
    {
      "cell_type": "code",
      "metadata": {
        "colab": {
          "base_uri": "https://localhost:8080/"
        },
        "id": "xOQC6r84_ju1",
        "outputId": "e836e928-6992-4d65-97a0-7942b7dd02be"
      },
      "source": [
        "for i,j in zip(AllUpdtUSERS_,AllUpdtITEMS_):\n",
        "    print(len(i),len(j))"
      ],
      "execution_count": null,
      "outputs": [
        {
          "output_type": "stream",
          "text": [
            "19386 6537\n",
            "19763 6694\n",
            "20149 6873\n",
            "20538 7034\n",
            "20916 7224\n",
            "21244 7428\n",
            "21630 7645\n",
            "21959 7748\n",
            "22315 7914\n",
            "22557 8109\n"
          ],
          "name": "stdout"
        }
      ]
    },
    {
      "cell_type": "code",
      "metadata": {
        "colab": {
          "base_uri": "https://localhost:8080/"
        },
        "id": "AMjo4AbxOvVc",
        "outputId": "82ef4864-1a74-44b7-ce14-ba4aec675ef3"
      },
      "source": [
        "print(len(In_DomainUSERS),len(In_DomainITEMS))\n",
        "print(AMZB_DF['userId'].nunique(),AMZB_DF['productId'].nunique())"
      ],
      "execution_count": null,
      "outputs": [
        {
          "output_type": "stream",
          "text": [
            "22557 8109\n",
            "22799 8620\n"
          ],
          "name": "stdout"
        }
      ]
    },
    {
      "cell_type": "code",
      "metadata": {
        "id": "CnUjJLRku-UE"
      },
      "source": [
        ""
      ],
      "execution_count": null,
      "outputs": []
    },
    {
      "cell_type": "markdown",
      "metadata": {
        "id": "nNpsng5z8doR"
      },
      "source": [
        "**Data Adjustments**"
      ]
    },
    {
      "cell_type": "code",
      "metadata": {
        "id": "KurbTdVfs-Zh",
        "outputId": "6b4113f8-d453-4462-ad19-3aedd1826457"
      },
      "source": [
        "len(AllUpdtITEMS_)"
      ],
      "execution_count": null,
      "outputs": [
        {
          "output_type": "execute_result",
          "data": {
            "text/plain": [
              "10"
            ]
          },
          "metadata": {
            "tags": []
          },
          "execution_count": 72
        }
      ]
    },
    {
      "cell_type": "code",
      "metadata": {
        "id": "fttuCjmNs-Zi",
        "outputId": "fc6b632f-3d29-450b-f9d3-cb3407870f9c"
      },
      "source": [
        "\n",
        "newHOLDOUT_LIST = get_NEWHoldout(HOLDOUT_list,userID_dict,itemID_dict,AllUpdtUSERS_,AllUpdtITEMS_,'userId','productId')\n",
        "print(len(newHOLDOUT_LIST))\n",
        "print()\n",
        "for old,new in zip(HOLDOUT_list,newHOLDOUT_LIST):\n",
        "    print(old.shape[0],new.shape[0])"
      ],
      "execution_count": null,
      "outputs": [
        {
          "output_type": "stream",
          "text": [
            "10it [00:00, 111.49it/s]10\n",
            "\n",
            "829 474\n",
            "801 433\n",
            "811 465\n",
            "812 478\n",
            "820 478\n",
            "868 508\n",
            "787 612\n",
            "847 599\n",
            "789 536\n",
            "580 425\n",
            "\n"
          ],
          "name": "stderr"
        }
      ]
    },
    {
      "cell_type": "code",
      "metadata": {
        "id": "g_gCDmIls-Zj",
        "outputId": "bcc7ba2b-6891-4c8e-9acf-0bc43172c3d8"
      },
      "source": [
        "newUserItem_list = adjustedAllDF(UserItemDF_list,userID_dict,itemID_dict,AllUpdtUSERS_,AllUpdtITEMS_,'userId','productId')\n",
        "print()\n",
        "for df in newUserItem_list:\n",
        "    print(df['Updated_UserID'].max(),df['Updated_ItemID'].max())"
      ],
      "execution_count": null,
      "outputs": [
        {
          "output_type": "stream",
          "text": [
            "10it [00:00, 16.81it/s]\n",
            "19385 6536\n",
            "19762 6693\n",
            "20148 6872\n",
            "20537 7033\n",
            "20915 7223\n",
            "21243 7427\n",
            "21629 7644\n",
            "21958 7747\n",
            "22314 7913\n",
            "22556 8108\n",
            "\n"
          ],
          "name": "stderr"
        }
      ]
    },
    {
      "cell_type": "code",
      "metadata": {
        "id": "p4iTA5zks-Zk",
        "outputId": "89d0e9df-0713-40b5-b431-6a3509761cf3"
      },
      "source": [
        "new_PSIDFlist = adjustedPSI_DF(PSITest_list,userID_dict,itemID_dict,AllUpdtUSERS_,AllUpdtITEMS_,'userId','productId')\n",
        "for old,new in zip(PSITest_list,new_PSIDFlist):\n",
        "    print(old.shape[0],new.shape[0])"
      ],
      "execution_count": null,
      "outputs": [
        {
          "output_type": "stream",
          "text": [
            "10it [00:00, 130.43it/s]371 324\n",
            "399 343\n",
            "389 347\n",
            "388 338\n",
            "380 338\n",
            "332 292\n",
            "413 397\n",
            "353 323\n",
            "411 365\n",
            "228 203\n",
            "\n"
          ],
          "name": "stderr"
        }
      ]
    },
    {
      "cell_type": "code",
      "metadata": {
        "id": "_HWuXQXXs-Zl",
        "outputId": "605eda8f-d753-4d76-91aa-11a7f01d9817"
      },
      "source": [
        "newAMZB_DF = ADJUST_mainDF(AMZB_DF,userID_dict,itemID_dict,AllUpdtUSERS_,AllUpdtITEMS_,'userId','productId')\n",
        "print(newAMZB_DF.shape)\n",
        "print(newAMZB_DF['userId'].max(),newAMZB_DF['productId'].max())\n",
        "print(newAMZB_DF['userId'].nunique(),newAMZB_DF['productId'].nunique())\n",
        "print()\n",
        "print(newAMZB_DF['Updated_UserID'].max(),newAMZB_DF['Updated_ItemID'].max())\n",
        "print(newAMZB_DF['Updated_UserID'].nunique(),newAMZB_DF['Updated_ItemID'].nunique())\n",
        "#newAMZB_DF.head()"
      ],
      "execution_count": null,
      "outputs": [
        {
          "output_type": "stream",
          "text": [
            "(51277, 7)\n",
            "22797 8611\n",
            "22557 8109\n",
            "\n",
            "22556 8108\n",
            "22557 8109\n"
          ],
          "name": "stdout"
        }
      ]
    },
    {
      "cell_type": "code",
      "metadata": {
        "id": "DXKCIQ92s-Zr"
      },
      "source": [
        ""
      ],
      "execution_count": null,
      "outputs": []
    },
    {
      "cell_type": "code",
      "metadata": {
        "id": "5AlRji_Os-Zu"
      },
      "source": [
        "import pickle\n",
        "with open('AMZB_newUserItem.pkl', 'wb') as f:\n",
        "     pickle.dump(newUserItem_list, f)\n",
        "\n",
        "with open('AMZB_newHoldout.pkl', 'wb') as f:\n",
        "     pickle.dump(newHOLDOUT_LIST, f)     \n",
        "\n",
        "with open('AMZB_newPSITest.pkl', 'wb') as f:\n",
        "     pickle.dump(new_PSIDFlist, f)     \n",
        "\n",
        "newAMZB_DF.to_csv('AMZB_newDF.csv',index=False)     "
      ],
      "execution_count": null,
      "outputs": []
    },
    {
      "cell_type": "code",
      "metadata": {
        "id": "SrLwfdFAs-Zz"
      },
      "source": [
        "with open('/mnt/bulky/oolaleke/TDM_Dataset/AMZB_newUserItem.pkl', 'rb') as f:\n",
        "     newUserItem_l = pickle.load(f)\n"
      ],
      "execution_count": null,
      "outputs": []
    },
    {
      "cell_type": "code",
      "metadata": {
        "id": "bfFHg8h0QiVE"
      },
      "source": [
        ""
      ],
      "execution_count": null,
      "outputs": []
    },
    {
      "cell_type": "markdown",
      "metadata": {
        "id": "J_bFpV2cKCuA"
      },
      "source": [
        "**Get UserItem MAT**"
      ]
    },
    {
      "cell_type": "code",
      "metadata": {
        "id": "rNFXg3qKs-Z2",
        "outputId": "5d95800e-0c17-42e8-dec4-d23dfdfd9ac3"
      },
      "source": [
        "for i in range(10):\n",
        "    print(newUserItem_list[i]['Updated_UserID'].max(),newUserItem_list[i]['Updated_ItemID'].max())"
      ],
      "execution_count": null,
      "outputs": [
        {
          "output_type": "stream",
          "text": [
            "19385 6536\n",
            "19762 6693\n",
            "20148 6872\n",
            "20537 7033\n",
            "20915 7223\n",
            "21243 7427\n",
            "21629 7644\n",
            "21958 7747\n",
            "22314 7913\n",
            "22556 8108\n"
          ],
          "name": "stdout"
        }
      ]
    },
    {
      "cell_type": "code",
      "metadata": {
        "colab": {
          "base_uri": "https://localhost:8080/"
        },
        "id": "bA6bmr-CKCuD",
        "outputId": "653135f8-fe39-4133-d3c9-5d8bc6c11bdd"
      },
      "source": [
        "print(len(U_list[1:]),len(V_list[1:]))\n",
        "for u,v in zip(U_list[1:],V_list[1:]):\n",
        "    print(u.shape[0],v.shape[0])   "
      ],
      "execution_count": null,
      "outputs": [
        {
          "output_type": "stream",
          "text": [
            "10 10\n",
            "19386 6537\n",
            "19763 6694\n",
            "20149 6873\n",
            "20538 7034\n",
            "20916 7224\n",
            "21244 7428\n",
            "21630 7645\n",
            "21959 7748\n",
            "22315 7914\n",
            "22557 8109\n"
          ],
          "name": "stdout"
        }
      ]
    },
    {
      "cell_type": "code",
      "metadata": {
        "colab": {
          "base_uri": "https://localhost:8080/"
        },
        "id": "N1FI-D8uKCuG",
        "outputId": "249efeec-cfb6-4211-9eb2-a736c2bda594"
      },
      "source": [
        "UserItem_Matupdt = AllSingleStepRatMat_2(newUserItem_list,'Updated_UserID','Updated_ItemID')\n",
        "print(len(UserItem_Matupdt))\n",
        "UserItem_Matupdt"
      ],
      "execution_count": null,
      "outputs": [
        {
          "output_type": "stream",
          "text": [
            "10\n"
          ],
          "name": "stdout"
        },
        {
          "output_type": "execute_result",
          "data": {
            "text/plain": [
              "[<19386x6537 sparse matrix of type '<class 'numpy.float64'>'\n",
              " \twith 40228 stored elements in Compressed Sparse Row format>,\n",
              " <19763x6694 sparse matrix of type '<class 'numpy.float64'>'\n",
              " \twith 41330 stored elements in Compressed Sparse Row format>,\n",
              " <20149x6873 sparse matrix of type '<class 'numpy.float64'>'\n",
              " \twith 42432 stored elements in Compressed Sparse Row format>,\n",
              " <20538x7034 sparse matrix of type '<class 'numpy.float64'>'\n",
              " \twith 43525 stored elements in Compressed Sparse Row format>,\n",
              " <20916x7224 sparse matrix of type '<class 'numpy.float64'>'\n",
              " \twith 44665 stored elements in Compressed Sparse Row format>,\n",
              " <21244x7428 sparse matrix of type '<class 'numpy.float64'>'\n",
              " \twith 45752 stored elements in Compressed Sparse Row format>,\n",
              " <21630x7645 sparse matrix of type '<class 'numpy.float64'>'\n",
              " \twith 47034 stored elements in Compressed Sparse Row format>,\n",
              " <21959x7748 sparse matrix of type '<class 'numpy.float64'>'\n",
              " \twith 48112 stored elements in Compressed Sparse Row format>,\n",
              " <22315x7914 sparse matrix of type '<class 'numpy.float64'>'\n",
              " \twith 49321 stored elements in Compressed Sparse Row format>,\n",
              " <22557x8109 sparse matrix of type '<class 'numpy.float64'>'\n",
              " \twith 50337 stored elements in Compressed Sparse Row format>]"
            ]
          },
          "metadata": {
            "tags": []
          },
          "execution_count": 81
        }
      ]
    },
    {
      "cell_type": "code",
      "metadata": {
        "colab": {
          "base_uri": "https://localhost:8080/"
        },
        "id": "kRkFwCd8KCuE",
        "outputId": "403613d4-2978-4330-ffcb-9afd850e4d4a"
      },
      "source": [
        "print(AllDF_start['userId'].nunique(),AllDF_start['productId'].nunique())\n",
        "print()\n",
        "for i,j in zip(AllUpdtUSERS_,AllUpdtITEMS_):\n",
        "    print(len(i),len(j))"
      ],
      "execution_count": null,
      "outputs": [
        {
          "output_type": "stream",
          "text": [
            "19169 6515\n",
            "\n",
            "19386 6537\n",
            "19763 6694\n",
            "20149 6873\n",
            "20538 7034\n",
            "20916 7224\n",
            "21244 7428\n",
            "21630 7645\n",
            "21959 7748\n",
            "22315 7914\n",
            "22557 8109\n"
          ],
          "name": "stdout"
        }
      ]
    },
    {
      "cell_type": "code",
      "metadata": {
        "id": "6R44k5kTwIAf"
      },
      "source": [
        ""
      ],
      "execution_count": null,
      "outputs": []
    },
    {
      "cell_type": "markdown",
      "metadata": {
        "id": "-FWZcWCDzJ-i"
      },
      "source": [
        "## HitRate"
      ]
    },
    {
      "cell_type": "code",
      "metadata": {
        "colab": {
          "base_uri": "https://localhost:8080/"
        },
        "id": "NrcfgZCCzPPu",
        "outputId": "ab5b7b13-354d-4b68-9cfd-ba637687db89"
      },
      "source": [
        "print(len(UserItem_Matupdt),len(newHOLDOUT_LIST))"
      ],
      "execution_count": null,
      "outputs": [
        {
          "output_type": "stream",
          "text": [
            "10 10\n"
          ],
          "name": "stdout"
        }
      ]
    },
    {
      "cell_type": "code",
      "metadata": {
        "colab": {
          "base_uri": "https://localhost:8080/"
        },
        "id": "RguT3Utr0iLy",
        "outputId": "b0b6a4ed-f7ae-4f88-c7ea-226f92f41373"
      },
      "source": [
        "Vpsi_listUpdt = V_list[1:]\n",
        "for v in Vpsi_listUpdt:\n",
        "    print(v.shape)"
      ],
      "execution_count": null,
      "outputs": [
        {
          "output_type": "stream",
          "text": [
            "(6537, 70)\n",
            "(6694, 70)\n",
            "(6873, 70)\n",
            "(7034, 70)\n",
            "(7224, 70)\n",
            "(7428, 70)\n",
            "(7645, 70)\n",
            "(7748, 70)\n",
            "(7914, 70)\n",
            "(8109, 70)\n"
          ],
          "name": "stdout"
        }
      ]
    },
    {
      "cell_type": "code",
      "metadata": {
        "colab": {
          "base_uri": "https://localhost:8080/"
        },
        "id": "py9S9LGoKamJ",
        "outputId": "1789bd81-16c2-4741-e816-79344eb3d1ff"
      },
      "source": [
        "V_1 = Vpsi_listUpdt[0]\n",
        "V_1.shape"
      ],
      "execution_count": null,
      "outputs": [
        {
          "output_type": "execute_result",
          "data": {
            "text/plain": [
              "(6537, 70)"
            ]
          },
          "metadata": {
            "tags": []
          },
          "execution_count": 85
        }
      ]
    },
    {
      "cell_type": "code",
      "metadata": {
        "colab": {
          "base_uri": "https://localhost:8080/"
        },
        "id": "LtlchmQtHN5c",
        "outputId": "ce489caf-9424-4007-cac5-c45a1b6305de"
      },
      "source": [
        "Top_NPred = TopNPred(UserItem_Matupdt[0],newHOLDOUT_LIST[0],V_1,'Updated_UserID',10)\n",
        "Top_NPred"
      ],
      "execution_count": null,
      "outputs": [
        {
          "output_type": "execute_result",
          "data": {
            "text/plain": [
              "array([[ 558,   22,  995, ...,  488,   66, 4323],\n",
              "       [ 360, 1283,  185, ..., 1012,  928,  242],\n",
              "       [ 389,  598,  723, ...,   82,  804, 1310],\n",
              "       ...,\n",
              "       [ 251,  239, 1566, ...,  499, 1247, 1967],\n",
              "       [ 319,  815,  422, ...,  420,  588, 3373],\n",
              "       [ 369,  420, 1120, ...,   74, 1283,  694]])"
            ]
          },
          "metadata": {
            "tags": []
          },
          "execution_count": 86
        }
      ]
    },
    {
      "cell_type": "code",
      "metadata": {
        "colab": {
          "base_uri": "https://localhost:8080/"
        },
        "id": "Ql0pwhxeHN5g",
        "outputId": "3398c6a4-6fa3-43d0-ac70-c792e3b86223"
      },
      "source": [
        "Hitrate_Eval(newHOLDOUT_LIST[0],Top_NPred,'Updated_UserID','Updated_ItemID')"
      ],
      "execution_count": null,
      "outputs": [
        {
          "output_type": "stream",
          "text": [
            "Number of hits:  127\n",
            "Total Num of users:  474\n",
            "Recommendation HitRate:  0.2679324894514768\n"
          ],
          "name": "stdout"
        },
        {
          "output_type": "execute_result",
          "data": {
            "text/plain": [
              "0.2679324894514768"
            ]
          },
          "metadata": {
            "tags": []
          },
          "execution_count": 87
        }
      ]
    },
    {
      "cell_type": "code",
      "metadata": {
        "id": "-ALFq_slAffr"
      },
      "source": [
        ""
      ],
      "execution_count": null,
      "outputs": []
    },
    {
      "cell_type": "code",
      "metadata": {
        "colab": {
          "base_uri": "https://localhost:8080/"
        },
        "id": "8J8LC6tDAiir",
        "outputId": "a1a50084-9165-4e7c-89ba-890d2cd582a3"
      },
      "source": [
        "AllUpdt_pred =  TQDMgetALLTopNPred(UserItem_Matupdt,newHOLDOUT_LIST,Vpsi_listUpdt,'Updated_UserID',N = 10)\n",
        "print(len(AllUpdt_pred))\n",
        "AllUpdt_pred[:2]"
      ],
      "execution_count": null,
      "outputs": [
        {
          "output_type": "stream",
          "text": [
            "10it [00:00, 16.15it/s]10\n",
            "\n"
          ],
          "name": "stderr"
        },
        {
          "output_type": "execute_result",
          "data": {
            "text/plain": [
              "[array([[ 558,   22,  995, ...,  488,   66, 4323],\n",
              "        [ 360, 1283,  185, ..., 1012,  928,  242],\n",
              "        [ 389,  598,  723, ...,   82,  804, 1310],\n",
              "        ...,\n",
              "        [ 251,  239, 1566, ...,  499, 1247, 1967],\n",
              "        [ 319,  815,  422, ...,  420,  588, 3373],\n",
              "        [ 369,  420, 1120, ...,   74, 1283,  694]]),\n",
              " array([[ 389,  598,  723, ...,   82,  804, 1310],\n",
              "        [1283,  694,  231, ...,  965, 1012,  789],\n",
              "        [  86,   92,  272, ..., 1947, 5594,    5],\n",
              "        ...,\n",
              "        [ 311,  129,   85, ...,   92,  242,  272],\n",
              "        [ 427, 1435,  635, ..., 6626,  191, 6661],\n",
              "        [  74, 2255,  231, ..., 1307, 2645,  460]])]"
            ]
          },
          "metadata": {
            "tags": []
          },
          "execution_count": 88
        }
      ]
    },
    {
      "cell_type": "code",
      "metadata": {
        "colab": {
          "base_uri": "https://localhost:8080/"
        },
        "id": "Osi894h4Aiiv",
        "outputId": "12e69b4e-233f-4687-d666-1b1a24781c6b"
      },
      "source": [
        "AllSteps_HitR_updt, LowerBand_updt, Avg_HitR_updt, UpperBand_updt   = getAll_HitRate(newHOLDOUT_LIST,AllUpdt_pred,'Updated_UserID','Updated_ItemID')"
      ],
      "execution_count": null,
      "outputs": [
        {
          "output_type": "stream",
          "text": [
            "Number of hits:  127\n",
            "Total Num of users:  474\n",
            "Recommendation HitRate:  0.2679324894514768\n",
            "Number of hits:  149\n",
            "Total Num of users:  433\n",
            "Recommendation HitRate:  0.3441108545034642\n",
            "Number of hits:  156\n",
            "Total Num of users:  465\n",
            "Recommendation HitRate:  0.33548387096774196\n",
            "Number of hits:  146\n",
            "Total Num of users:  478\n",
            "Recommendation HitRate:  0.3054393305439331\n",
            "Number of hits:  136\n",
            "Total Num of users:  478\n",
            "Recommendation HitRate:  0.28451882845188287\n",
            "Number of hits:  139\n",
            "Total Num of users:  508\n",
            "Recommendation HitRate:  0.2736220472440945\n",
            "Number of hits:  174\n",
            "Total Num of users:  612\n",
            "Recommendation HitRate:  0.28431372549019607\n",
            "Number of hits:  151\n",
            "Total Num of users:  599\n",
            "Recommendation HitRate:  0.25208681135225375\n",
            "Number of hits:  162\n",
            "Total Num of users:  536\n",
            "Recommendation HitRate:  0.30223880597014924\n",
            "Number of hits:  58\n",
            "Total Num of users:  425\n",
            "Recommendation HitRate:  0.13647058823529412\n",
            "Average HitRate for All Recommendations:  0.2786217352210487\n"
          ],
          "name": "stdout"
        }
      ]
    },
    {
      "cell_type": "code",
      "metadata": {
        "id": "dZ-Y67nYs-Z_",
        "outputId": "24baabf5-c22c-4d51-9c03-b855dc72f3e9"
      },
      "source": [
        "AllSteps_HitR_updt"
      ],
      "execution_count": null,
      "outputs": [
        {
          "output_type": "execute_result",
          "data": {
            "text/plain": [
              "[0.2679324894514768,\n",
              " 0.3441108545034642,\n",
              " 0.33548387096774196,\n",
              " 0.3054393305439331,\n",
              " 0.28451882845188287,\n",
              " 0.2736220472440945,\n",
              " 0.28431372549019607,\n",
              " 0.25208681135225375,\n",
              " 0.30223880597014924,\n",
              " 0.13647058823529412]"
            ]
          },
          "metadata": {
            "tags": []
          },
          "execution_count": 90
        }
      ]
    },
    {
      "cell_type": "code",
      "metadata": {
        "id": "H3kfcIzLq3aq"
      },
      "source": [
        "##MRR Test"
      ],
      "execution_count": null,
      "outputs": []
    },
    {
      "cell_type": "code",
      "metadata": {
        "id": "0wds8aKms-aA"
      },
      "source": [
        ""
      ],
      "execution_count": null,
      "outputs": []
    },
    {
      "cell_type": "markdown",
      "metadata": {
        "id": "wA8GdxnzwoBx"
      },
      "source": [
        "## MRR"
      ]
    },
    {
      "cell_type": "code",
      "metadata": {
        "id": "jjQ9We94s-aA",
        "outputId": "0a206060-3922-4d0f-812e-139ad8b55fd7"
      },
      "source": [
        "mrr_1st = MRR_Eval(newHOLDOUT_LIST[0],Top_NPred,'Updated_ItemID')\n",
        "print(\"1st Step MRR: \",mrr_1st)"
      ],
      "execution_count": null,
      "outputs": [
        {
          "output_type": "stream",
          "text": [
            "1st Step MRR:  0.24122714486638538\n"
          ],
          "name": "stdout"
        }
      ]
    },
    {
      "cell_type": "code",
      "metadata": {
        "id": "vgoxzHk6s-aB",
        "outputId": "ee0f1eb9-a406-43ed-a529-2dc20fdf1030"
      },
      "source": [
        "AllSteps_MRRUpdt, LowerB_Updt, AvgMRR_Updt, UpperB_Updt  = TQDMgetAll_MRR_Eval(newHOLDOUT_LIST,AllUpdt_pred,'Updated_ItemID')\n",
        "AllSteps_MRRUpdt    ##Rank ==70"
      ],
      "execution_count": null,
      "outputs": [
        {
          "output_type": "stream",
          "text": [
            "10it [00:00, 1120.93it/s]\n"
          ],
          "name": "stderr"
        },
        {
          "output_type": "execute_result",
          "data": {
            "text/plain": [
              "[0.241227,\n",
              " 0.298919,\n",
              " 0.311335,\n",
              " 0.271502,\n",
              " 0.260327,\n",
              " 0.245122,\n",
              " 0.205629,\n",
              " 0.215582,\n",
              " 0.259141,\n",
              " 0.113294]"
            ]
          },
          "metadata": {
            "tags": []
          },
          "execution_count": 92
        }
      ]
    },
    {
      "cell_type": "code",
      "metadata": {
        "id": "ns8TjHFFs-aB",
        "outputId": "7a50ae98-0f09-4c0b-9af9-a1aab209e100"
      },
      "source": [
        "print(\"Average MRR: \",AvgMRR_Updt)"
      ],
      "execution_count": null,
      "outputs": [
        {
          "output_type": "stream",
          "text": [
            "Average MRR:  0.242208\n"
          ],
          "name": "stdout"
        }
      ]
    },
    {
      "cell_type": "code",
      "metadata": {
        "id": "hhTADPBRxQlw"
      },
      "source": [
        ""
      ],
      "execution_count": null,
      "outputs": []
    },
    {
      "cell_type": "markdown",
      "metadata": {
        "id": "-Nf4crx9w1KQ"
      },
      "source": [
        "## Allusers Preds"
      ]
    },
    {
      "cell_type": "code",
      "metadata": {
        "id": "KB0Ukdb5s-aC"
      },
      "source": [
        "##All Prediction"
      ],
      "execution_count": null,
      "outputs": []
    },
    {
      "cell_type": "code",
      "metadata": {
        "id": "mdOeStg1s-aC",
        "outputId": "7bc28dd2-b57e-4d87-a4c9-56fd8f92587b"
      },
      "source": [
        "print(UserItem_Matupdt[0].shape)\n",
        "UserItem_Matupdt[0]"
      ],
      "execution_count": null,
      "outputs": [
        {
          "output_type": "stream",
          "text": [
            "(19386, 6537)\n"
          ],
          "name": "stdout"
        },
        {
          "output_type": "execute_result",
          "data": {
            "text/plain": [
              "<19386x6537 sparse matrix of type '<class 'numpy.float64'>'\n",
              "\twith 40228 stored elements in Compressed Sparse Row format>"
            ]
          },
          "metadata": {
            "tags": []
          },
          "execution_count": 108
        }
      ]
    },
    {
      "cell_type": "code",
      "metadata": {
        "id": "SDAl9v_Ls-aD",
        "outputId": "342a0fb7-47ec-45b9-e418-b9965e33e054"
      },
      "source": [
        "AllUsers_updtPRED =  TQDMgetALLTopNPred_ALLUSERS(UserItem_Matupdt,Vpsi_listUpdt, N=10) \n",
        "print(len(AllUsers_updtPRED))\n",
        "AllUsers_updtPRED[:2]"
      ],
      "execution_count": null,
      "outputs": [
        {
          "output_type": "stream",
          "text": [
            "10it [00:23,  2.39s/it]10\n",
            "\n"
          ],
          "name": "stderr"
        },
        {
          "output_type": "execute_result",
          "data": {
            "text/plain": [
              "[array([[ 133,   71,  134, ...,   57,  139,  216],\n",
              "        [  60,  297,  133, ...,  242,  245,   63],\n",
              "        [ 297,  242,  424, ...,  199,  357,  595],\n",
              "        ...,\n",
              "        [ 251,  239, 1566, ...,  499, 1247, 1967],\n",
              "        [ 319,  815,  422, ...,  420,  588, 3373],\n",
              "        [ 369,  420, 1120, ...,   74, 1283,  694]]),\n",
              " array([[ 133,   71,  134, ...,   57,  139,  216],\n",
              "        [  60,  297,  133, ...,  242,  245,   63],\n",
              "        [ 297,  242,  424, ...,  199,  357,  595],\n",
              "        ...,\n",
              "        [ 694,   83,  416, ...,  105,  800,  757],\n",
              "        [ 239,  815,   25, ..., 1826, 3030,  551],\n",
              "        [ 558,  717, 1203, ...,  124, 3026,  474]])]"
            ]
          },
          "metadata": {
            "tags": []
          },
          "execution_count": 94
        }
      ]
    },
    {
      "cell_type": "code",
      "metadata": {
        "id": "ZscN9stus-aD",
        "outputId": "03bb8ad0-d846-4f9a-e26e-1800adb9e766"
      },
      "source": [
        "AllUsers_updtPRED[2].shape"
      ],
      "execution_count": null,
      "outputs": [
        {
          "output_type": "execute_result",
          "data": {
            "text/plain": [
              "(20149, 10)"
            ]
          },
          "metadata": {
            "tags": []
          },
          "execution_count": 96
        }
      ]
    },
    {
      "cell_type": "code",
      "metadata": {
        "id": "gPMcyXLOs-aE"
      },
      "source": [
        "with open('/mnt/bulky/oolaleke/TDM_Dataset/AMZ_Btyfiles/AMZB_UpdtPSI_AllPRED.pkl', 'wb') as f:\n",
        "     pickle.dump(AllUsers_updtPRED, f)"
      ],
      "execution_count": null,
      "outputs": []
    },
    {
      "cell_type": "code",
      "metadata": {
        "id": "QLrV5juFxzve"
      },
      "source": [
        ""
      ],
      "execution_count": null,
      "outputs": []
    },
    {
      "cell_type": "markdown",
      "metadata": {
        "id": "sZPEEZkUx0gz"
      },
      "source": [
        "## Coverage"
      ]
    },
    {
      "cell_type": "code",
      "metadata": {
        "id": "6GjCXiBAs-aF",
        "outputId": "9011e588-73f7-4191-afb9-dece91b1b06b"
      },
      "source": [
        "StepCoverage_Ratio(newAMZB_DF,AllUsers_updtPRED[0],'Updated_ItemID')"
      ],
      "execution_count": null,
      "outputs": [
        {
          "output_type": "execute_result",
          "data": {
            "text/plain": [
              "0.079911"
            ]
          },
          "metadata": {
            "tags": []
          },
          "execution_count": 98
        }
      ]
    },
    {
      "cell_type": "code",
      "metadata": {
        "id": "Ant0RAd_s-aG",
        "outputId": "784dac9d-ede8-4e5d-905b-4f3a3159ce96"
      },
      "source": [
        "UpdtAvg_Coverage_List = AllSteps_Coverage_Ratio(newAMZB_DF,AllUsers_updtPRED,'Updated_ItemID')\n",
        "UpdtAvg_Coverage_List"
      ],
      "execution_count": null,
      "outputs": [
        {
          "output_type": "execute_result",
          "data": {
            "text/plain": [
              "[0.079911,\n",
              " 0.081884,\n",
              " 0.083364,\n",
              " 0.084351,\n",
              " 0.083981,\n",
              " 0.083118,\n",
              " 0.083487,\n",
              " 0.082008,\n",
              " 0.082131,\n",
              " 0.082871]"
            ]
          },
          "metadata": {
            "tags": []
          },
          "execution_count": 99
        }
      ]
    },
    {
      "cell_type": "code",
      "metadata": {
        "id": "jAX45kMTyQdY"
      },
      "source": [
        ""
      ],
      "execution_count": null,
      "outputs": []
    },
    {
      "cell_type": "markdown",
      "metadata": {
        "id": "yyAzJsIKyUHY"
      },
      "source": [
        "## Stability"
      ]
    },
    {
      "cell_type": "code",
      "metadata": {
        "colab": {
          "base_uri": "https://localhost:8080/"
        },
        "id": "UkFqDvcW_Amh",
        "outputId": "5ab6a0c0-723f-4ae3-a451-b5db08df1ca0"
      },
      "source": [
        "AllSteps = list(range(1,10))\n",
        "print(len(AllSteps))\n",
        "print(len(AllUsers_updtPRED))\n",
        "AllSteps"
      ],
      "execution_count": null,
      "outputs": [
        {
          "output_type": "stream",
          "text": [
            "9\n",
            "10\n"
          ],
          "name": "stdout"
        },
        {
          "output_type": "execute_result",
          "data": {
            "text/plain": [
              "[1, 2, 3, 4, 5, 6, 7, 8, 9]"
            ]
          },
          "metadata": {
            "tags": []
          },
          "execution_count": 153
        }
      ]
    },
    {
      "cell_type": "code",
      "metadata": {
        "colab": {
          "base_uri": "https://localhost:8080/"
        },
        "id": "QlTrlJKrNwRC",
        "outputId": "48d55153-12ed-4742-be38-3beb3266a589"
      },
      "source": [
        "UpdtPSICorr_ = Updt_getAll_AvgCorr(AllUsers_updtPRED,newUserItem_list,AllSteps,'Updated_UserID')  #,\n",
        "UpdtPSICorr_"
      ],
      "execution_count": null,
      "outputs": [
        {
          "output_type": "execute_result",
          "data": {
            "text/plain": [
              "array([array([1.        , 1.        , 1.        , ..., 0.        , 0.02499653,\n",
              "              0.        ])                                                    ,\n",
              "       array([1.        , 1.        , 1.        , ..., 0.38792779, 0.67845367,\n",
              "              0.        ])                                                    ,\n",
              "       array([0.98387314, 1.        , 1.        , ..., 0.        , 0.        ,\n",
              "              0.        ])                                                    ,\n",
              "       array([0.98387314, 0.94467132, 1.        , ..., 0.86813465, 0.4539545 ,\n",
              "              0.        ])                                                    ,\n",
              "       array([0.97749498, 0.9226361 , 1.        , ..., 0.49096051, 0.23150079,\n",
              "              0.33050924])                                                    ,\n",
              "       array([1.        , 1.        , 0.98387314, ..., 0.02499653, 0.08321104,\n",
              "              0.        ])                                                    ,\n",
              "       array([0.99056095, 1.        , 1.        , ..., 0.        , 0.        ,\n",
              "              0.        ])                                                    ,\n",
              "       array([0.87477775, 0.99244163, 0.96643133, ..., 0.        , 0.        ,\n",
              "              0.        ])                                                    ,\n",
              "       array([0.99056095, 0.97749498, 1.        , ..., 0.        , 0.40885665,\n",
              "              0.40885665])                                                    ],\n",
              "      dtype=object)"
            ]
          },
          "metadata": {
            "tags": []
          },
          "execution_count": 155
        }
      ]
    },
    {
      "cell_type": "code",
      "metadata": {
        "colab": {
          "base_uri": "https://localhost:8080/"
        },
        "id": "Ms8Nj-1ndBAG",
        "outputId": "744e9e7a-12fa-4919-a992-faa64d30e9b2"
      },
      "source": [
        "print(UpdtPSICorr_.shape)\n",
        "print()\n",
        "for df in UpdtPSICorr_:\n",
        "    print(df.mean())  "
      ],
      "execution_count": null,
      "outputs": [
        {
          "output_type": "stream",
          "text": [
            "(9,)\n",
            "\n",
            "0.9507462669864827\n",
            "0.9541200786395395\n",
            "0.9462585543316474\n",
            "0.954978187309988\n",
            "0.9558312089585588\n",
            "0.9507349839638036\n",
            "0.9493731138244673\n",
            "0.9385440611135092\n",
            "0.9621093635351206\n"
          ],
          "name": "stdout"
        }
      ]
    },
    {
      "cell_type": "code",
      "metadata": {
        "id": "yQX6NCUtyQMs"
      },
      "source": [
        ""
      ],
      "execution_count": null,
      "outputs": []
    },
    {
      "cell_type": "markdown",
      "metadata": {
        "id": "dlm-q9ms_BWw"
      },
      "source": [
        "# Regular PSI "
      ]
    },
    {
      "cell_type": "markdown",
      "metadata": {
        "id": "uWbLS4cbPI19"
      },
      "source": [
        "**Get Rating Matrices**"
      ]
    },
    {
      "cell_type": "code",
      "metadata": {
        "id": "zT5EU5YVs-ac",
        "outputId": "ac44e4e0-a080-4422-f331-ad99ebdbd12b"
      },
      "source": [
        "print(newAMZB_DF.shape)\n",
        "print(newAMZB_DF['userId'].max(),newAMZB_DF['productId'].max())\n",
        "print(newAMZB_DF['userId'].nunique(),newAMZB_DF['productId'].nunique())\n",
        "print()\n",
        "print(newAMZB_DF['Updated_UserID'].max(),newAMZB_DF['Updated_ItemID'].max())\n",
        "print(newAMZB_DF['Updated_UserID'].nunique(),newAMZB_DF['Updated_ItemID'].nunique())\n",
        "newAMZB_DF.head()"
      ],
      "execution_count": null,
      "outputs": [
        {
          "output_type": "stream",
          "text": [
            "(51277, 7)\n",
            "22797 8611\n",
            "22557 8109\n",
            "\n",
            "22556 8108\n",
            "22557 8109\n"
          ],
          "name": "stdout"
        },
        {
          "output_type": "execute_result",
          "data": {
            "text/plain": [
              "   userId  productId  rating  timestamp timestamp_YM  Updated_UserID  \\\n",
              "0       0          0       1 2001-06-08      2001-06               0   \n",
              "1       1          0       1 2002-06-12      2002-06               1   \n",
              "2       1          1       1 2002-06-12      2002-06               1   \n",
              "3       2          1       1 2002-06-17      2002-06               2   \n",
              "4       3          1       1 2002-07-04      2002-07               3   \n",
              "\n",
              "   Updated_ItemID  \n",
              "0               0  \n",
              "1               0  \n",
              "2               1  \n",
              "3               1  \n",
              "4               1  "
            ],
            "text/html": [
              "<div>\n",
              "<style scoped>\n",
              "    .dataframe tbody tr th:only-of-type {\n",
              "        vertical-align: middle;\n",
              "    }\n",
              "\n",
              "    .dataframe tbody tr th {\n",
              "        vertical-align: top;\n",
              "    }\n",
              "\n",
              "    .dataframe thead th {\n",
              "        text-align: right;\n",
              "    }\n",
              "</style>\n",
              "<table border=\"1\" class=\"dataframe\">\n",
              "  <thead>\n",
              "    <tr style=\"text-align: right;\">\n",
              "      <th></th>\n",
              "      <th>userId</th>\n",
              "      <th>productId</th>\n",
              "      <th>rating</th>\n",
              "      <th>timestamp</th>\n",
              "      <th>timestamp_YM</th>\n",
              "      <th>Updated_UserID</th>\n",
              "      <th>Updated_ItemID</th>\n",
              "    </tr>\n",
              "  </thead>\n",
              "  <tbody>\n",
              "    <tr>\n",
              "      <th>0</th>\n",
              "      <td>0</td>\n",
              "      <td>0</td>\n",
              "      <td>1</td>\n",
              "      <td>2001-06-08</td>\n",
              "      <td>2001-06</td>\n",
              "      <td>0</td>\n",
              "      <td>0</td>\n",
              "    </tr>\n",
              "    <tr>\n",
              "      <th>1</th>\n",
              "      <td>1</td>\n",
              "      <td>0</td>\n",
              "      <td>1</td>\n",
              "      <td>2002-06-12</td>\n",
              "      <td>2002-06</td>\n",
              "      <td>1</td>\n",
              "      <td>0</td>\n",
              "    </tr>\n",
              "    <tr>\n",
              "      <th>2</th>\n",
              "      <td>1</td>\n",
              "      <td>1</td>\n",
              "      <td>1</td>\n",
              "      <td>2002-06-12</td>\n",
              "      <td>2002-06</td>\n",
              "      <td>1</td>\n",
              "      <td>1</td>\n",
              "    </tr>\n",
              "    <tr>\n",
              "      <th>3</th>\n",
              "      <td>2</td>\n",
              "      <td>1</td>\n",
              "      <td>1</td>\n",
              "      <td>2002-06-17</td>\n",
              "      <td>2002-06</td>\n",
              "      <td>2</td>\n",
              "      <td>1</td>\n",
              "    </tr>\n",
              "    <tr>\n",
              "      <th>4</th>\n",
              "      <td>3</td>\n",
              "      <td>1</td>\n",
              "      <td>1</td>\n",
              "      <td>2002-07-04</td>\n",
              "      <td>2002-07</td>\n",
              "      <td>3</td>\n",
              "      <td>1</td>\n",
              "    </tr>\n",
              "  </tbody>\n",
              "</table>\n",
              "</div>"
            ]
          },
          "metadata": {
            "tags": []
          },
          "execution_count": 100
        }
      ]
    },
    {
      "cell_type": "code",
      "metadata": {
        "colab": {
          "base_uri": "https://localhost:8080/"
        },
        "id": "9VaLJAAPRRLc",
        "outputId": "3cb7f9b6-ccb4-4b5a-ef25-66be8380bd80"
      },
      "source": [
        "rows_i = newAMZB_DF['Updated_UserID'].nunique()\n",
        "cols_i = newAMZB_DF['Updated_ItemID'].nunique()\n",
        "print(A0_df.shape)\n",
        "A0_Rating_matrix = SingleRatingMatrix(A0_df,'userId', 'productId',rows_i,cols_i)  ##changes start within steps...\n",
        "A0_Rating_matrix"
      ],
      "execution_count": null,
      "outputs": [
        {
          "output_type": "stream",
          "text": [
            "(30661, 5)\n"
          ],
          "name": "stdout"
        },
        {
          "output_type": "execute_result",
          "data": {
            "text/plain": [
              "<22557x8109 sparse matrix of type '<class 'numpy.float64'>'\n",
              "\twith 30415 stored elements in Compressed Sparse Row format>"
            ]
          },
          "metadata": {
            "tags": []
          },
          "execution_count": 101
        }
      ]
    },
    {
      "cell_type": "code",
      "metadata": {
        "id": "n7nvHVtYs-ad",
        "outputId": "cfa27e67-c296-4992-b50a-9bf0611aedd3"
      },
      "source": [
        "for df in new_PSIDFlist:\n",
        "    print(df['Updated_UserID'].max(),df['Updated_ItemID'].max())"
      ],
      "execution_count": null,
      "outputs": [
        {
          "output_type": "stream",
          "text": [
            "19385 6536\n",
            "19747 6674\n",
            "20140 6837\n",
            "20537 6998\n",
            "20915 7178\n",
            "21216 7383\n",
            "21628 7579\n",
            "21948 7742\n",
            "22314 7866\n",
            "22502 8041\n"
          ],
          "name": "stdout"
        }
      ]
    },
    {
      "cell_type": "code",
      "metadata": {
        "colab": {
          "base_uri": "https://localhost:8080/"
        },
        "id": "PJgsMKCpRRMD",
        "outputId": "1b4cc003-3329-4043-de8a-c5f7d5a40e41"
      },
      "source": [
        "print(\"Length of PSI_Train :\",len(ΔA_train))\n",
        "print(\"Length of PSI_Test  :\",len(new_PSIDFlist))  "
      ],
      "execution_count": null,
      "outputs": [
        {
          "output_type": "stream",
          "text": [
            "Length of PSI_Train : 8\n",
            "Length of PSI_Test  : 10\n"
          ],
          "name": "stdout"
        }
      ]
    },
    {
      "cell_type": "code",
      "metadata": {
        "colab": {
          "base_uri": "https://localhost:8080/"
        },
        "id": "EBFJoOOvRRME",
        "outputId": "fd8f9149-59dd-40ad-d6c5-572b6df59721"
      },
      "source": [
        "PSI_train_matrix = AllRatingMatrices(ΔA_train,'userId','productId',rows_i ,cols_i)\n",
        "PSI_train_matrix   "
      ],
      "execution_count": null,
      "outputs": [
        {
          "output_type": "execute_result",
          "data": {
            "text/plain": [
              "[<22557x8109 sparse matrix of type '<class 'numpy.float64'>'\n",
              " \twith 1197 stored elements in Compressed Sparse Row format>,\n",
              " <22557x8109 sparse matrix of type '<class 'numpy.float64'>'\n",
              " \twith 1199 stored elements in Compressed Sparse Row format>,\n",
              " <22557x8109 sparse matrix of type '<class 'numpy.float64'>'\n",
              " \twith 1197 stored elements in Compressed Sparse Row format>,\n",
              " <22557x8109 sparse matrix of type '<class 'numpy.float64'>'\n",
              " \twith 1199 stored elements in Compressed Sparse Row format>,\n",
              " <22557x8109 sparse matrix of type '<class 'numpy.float64'>'\n",
              " \twith 1199 stored elements in Compressed Sparse Row format>,\n",
              " <22557x8109 sparse matrix of type '<class 'numpy.float64'>'\n",
              " \twith 1200 stored elements in Compressed Sparse Row format>,\n",
              " <22557x8109 sparse matrix of type '<class 'numpy.float64'>'\n",
              " \twith 1200 stored elements in Compressed Sparse Row format>,\n",
              " <22557x8109 sparse matrix of type '<class 'numpy.float64'>'\n",
              " \twith 1200 stored elements in Compressed Sparse Row format>]"
            ]
          },
          "metadata": {
            "tags": []
          },
          "execution_count": 107
        }
      ]
    },
    {
      "cell_type": "code",
      "metadata": {
        "id": "QdhX0HAks-ae",
        "outputId": "205dc4be-eec1-420b-a465-1ae9b0b65a8b"
      },
      "source": [
        "PSI_test_matrix = AllRatingMatrices(new_PSIDFlist,'Updated_UserID','Updated_ItemID',rows_i ,cols_i)                                                                      \n",
        "print(len(PSI_test_matrix))\n",
        "PSI_test_matrix"
      ],
      "execution_count": null,
      "outputs": [
        {
          "output_type": "stream",
          "text": [
            "10\n"
          ],
          "name": "stdout"
        },
        {
          "output_type": "execute_result",
          "data": {
            "text/plain": [
              "[<22557x8109 sparse matrix of type '<class 'numpy.float64'>'\n",
              " \twith 324 stored elements in Compressed Sparse Row format>,\n",
              " <22557x8109 sparse matrix of type '<class 'numpy.float64'>'\n",
              " \twith 343 stored elements in Compressed Sparse Row format>,\n",
              " <22557x8109 sparse matrix of type '<class 'numpy.float64'>'\n",
              " \twith 347 stored elements in Compressed Sparse Row format>,\n",
              " <22557x8109 sparse matrix of type '<class 'numpy.float64'>'\n",
              " \twith 338 stored elements in Compressed Sparse Row format>,\n",
              " <22557x8109 sparse matrix of type '<class 'numpy.float64'>'\n",
              " \twith 338 stored elements in Compressed Sparse Row format>,\n",
              " <22557x8109 sparse matrix of type '<class 'numpy.float64'>'\n",
              " \twith 292 stored elements in Compressed Sparse Row format>,\n",
              " <22557x8109 sparse matrix of type '<class 'numpy.float64'>'\n",
              " \twith 395 stored elements in Compressed Sparse Row format>,\n",
              " <22557x8109 sparse matrix of type '<class 'numpy.float64'>'\n",
              " \twith 323 stored elements in Compressed Sparse Row format>,\n",
              " <22557x8109 sparse matrix of type '<class 'numpy.float64'>'\n",
              " \twith 362 stored elements in Compressed Sparse Row format>,\n",
              " <22557x8109 sparse matrix of type '<class 'numpy.float64'>'\n",
              " \twith 203 stored elements in Compressed Sparse Row format>]"
            ]
          },
          "metadata": {
            "tags": []
          },
          "execution_count": 109
        }
      ]
    },
    {
      "cell_type": "code",
      "metadata": {
        "id": "g8lRFzims-af",
        "outputId": "e14865cd-81c3-4908-bbe0-0028c9377399"
      },
      "source": [
        "UserItemMAT_regPSI = AllRatingMatrices(newUserItem_list,'Updated_UserID','Updated_ItemID',rows_i ,cols_i) \n",
        "UserItemMAT_regPSI  "
      ],
      "execution_count": null,
      "outputs": [
        {
          "output_type": "execute_result",
          "data": {
            "text/plain": [
              "[<22557x8109 sparse matrix of type '<class 'numpy.float64'>'\n",
              " \twith 40228 stored elements in Compressed Sparse Row format>,\n",
              " <22557x8109 sparse matrix of type '<class 'numpy.float64'>'\n",
              " \twith 41330 stored elements in Compressed Sparse Row format>,\n",
              " <22557x8109 sparse matrix of type '<class 'numpy.float64'>'\n",
              " \twith 42432 stored elements in Compressed Sparse Row format>,\n",
              " <22557x8109 sparse matrix of type '<class 'numpy.float64'>'\n",
              " \twith 43525 stored elements in Compressed Sparse Row format>,\n",
              " <22557x8109 sparse matrix of type '<class 'numpy.float64'>'\n",
              " \twith 44665 stored elements in Compressed Sparse Row format>,\n",
              " <22557x8109 sparse matrix of type '<class 'numpy.float64'>'\n",
              " \twith 45752 stored elements in Compressed Sparse Row format>,\n",
              " <22557x8109 sparse matrix of type '<class 'numpy.float64'>'\n",
              " \twith 47034 stored elements in Compressed Sparse Row format>,\n",
              " <22557x8109 sparse matrix of type '<class 'numpy.float64'>'\n",
              " \twith 48112 stored elements in Compressed Sparse Row format>,\n",
              " <22557x8109 sparse matrix of type '<class 'numpy.float64'>'\n",
              " \twith 49321 stored elements in Compressed Sparse Row format>,\n",
              " <22557x8109 sparse matrix of type '<class 'numpy.float64'>'\n",
              " \twith 50337 stored elements in Compressed Sparse Row format>]"
            ]
          },
          "metadata": {
            "tags": []
          },
          "execution_count": 112
        }
      ]
    },
    {
      "cell_type": "code",
      "metadata": {
        "colab": {
          "base_uri": "https://localhost:8080/"
        },
        "id": "bZGtyUJPRCff",
        "outputId": "8e7cd4d6-1f3a-42b7-806e-6ebdb96bed2b"
      },
      "source": [
        "print(AllDF_list[-1]['userId'].nunique(),AllDF_list[-1]['productId'].nunique())\n",
        "print(AMZB_DF['userId'].nunique(),AMZB_DF['productId'].nunique())"
      ],
      "execution_count": null,
      "outputs": [
        {
          "output_type": "stream",
          "text": [
            "22799 8620\n",
            "22799 8620\n"
          ],
          "name": "stdout"
        }
      ]
    },
    {
      "cell_type": "code",
      "metadata": {
        "id": "Vg12WJ4kzL1x"
      },
      "source": [
        ""
      ],
      "execution_count": null,
      "outputs": []
    },
    {
      "cell_type": "markdown",
      "metadata": {
        "id": "PTIqbZ8v3wX3"
      },
      "source": [
        "## HitRate"
      ]
    },
    {
      "cell_type": "code",
      "metadata": {
        "colab": {
          "base_uri": "https://localhost:8080/"
        },
        "id": "erGth4eKRRMJ",
        "outputId": "55daf721-ccc9-438f-a637-b77da7712052"
      },
      "source": [
        "Vpsi_listReg =  integratorOnMat(A0_Rating_matrix,PSI_train_matrix,PSI_test_matrix,k=70)  #PSI\n",
        "print(len(Vpsi_listReg))  ##Rank==70"
      ],
      "execution_count": null,
      "outputs": [
        {
          "output_type": "stream",
          "text": [
            "10\n"
          ],
          "name": "stdout"
        }
      ]
    },
    {
      "cell_type": "code",
      "metadata": {
        "colab": {
          "base_uri": "https://localhost:8080/"
        },
        "id": "c9jUgHkKAhbi",
        "outputId": "be5430ee-3931-400d-8944-8c8126127ea2"
      },
      "source": [
        "Top10Pred_psi = TopNPred(UserItemMAT_regPSI[0], newHoldout_list[0],Vpsi_listReg[0],'Updated_UserID',N=10)\n",
        "print(Top10Pred_psi.shape)\n",
        "Top10Pred_psi  "
      ],
      "execution_count": null,
      "outputs": [
        {
          "output_type": "stream",
          "text": [
            "(474, 10)\n"
          ],
          "name": "stdout"
        },
        {
          "output_type": "execute_result",
          "data": {
            "text/plain": [
              "array([[ 558,   22,  995, ...,  488,   66, 4323],\n",
              "       [ 360, 1283,  185, ...,  789,  928,  242],\n",
              "       [ 389,  598,  723, ...,   82,  804, 1310],\n",
              "       ...,\n",
              "       [ 251,  239, 1566, ...,  499, 1247, 1967],\n",
              "       [ 319,  815,  422, ...,  854, 1412, 4005],\n",
              "       [ 369,  420, 1120, ...,  694,  144, 1076]])"
            ]
          },
          "metadata": {
            "tags": []
          },
          "execution_count": 116
        }
      ]
    },
    {
      "cell_type": "code",
      "metadata": {
        "colab": {
          "base_uri": "https://localhost:8080/"
        },
        "id": "u1sFaxNBAhc2",
        "outputId": "a221cdb8-2cb0-4ae9-b4b2-eace696881c5"
      },
      "source": [
        "Hitrate_Eval(newHoldout_list[0],Top10Pred_psi,'Updated_UserID','Updated_ItemID')"
      ],
      "execution_count": null,
      "outputs": [
        {
          "output_type": "stream",
          "text": [
            "Number of hits:  127\n",
            "Total Num of users:  474\n",
            "Recommendation HitRate:  0.2679324894514768\n"
          ],
          "name": "stdout"
        },
        {
          "output_type": "execute_result",
          "data": {
            "text/plain": [
              "0.2679324894514768"
            ]
          },
          "metadata": {
            "tags": []
          },
          "execution_count": 118
        }
      ]
    },
    {
      "cell_type": "code",
      "metadata": {
        "colab": {
          "base_uri": "https://localhost:8080/"
        },
        "id": "oUDxtIohbVj8",
        "outputId": "48677220-09c6-4c42-bb00-17236691f54f"
      },
      "source": [
        "All_regPSI_PRED =  TQDMgetALLTopNPred(UserItemMAT_regPSI,newHoldout_list,Vpsi_listReg,'Updated_UserID',N = 10)\n",
        "print(len(All_regPSI_PRED))\n",
        "All_regPSI_PRED[:2]"
      ],
      "execution_count": null,
      "outputs": [
        {
          "output_type": "stream",
          "text": [
            "10it [00:00, 13.53it/s]10\n",
            "\n"
          ],
          "name": "stderr"
        },
        {
          "output_type": "execute_result",
          "data": {
            "text/plain": [
              "[array([[ 558,   22,  995, ...,  488,   66, 4323],\n",
              "        [ 360, 1283,  185, ...,  789,  928,  242],\n",
              "        [ 389,  598,  723, ...,   82,  804, 1310],\n",
              "        ...,\n",
              "        [ 251,  239, 1566, ...,  499, 1247, 1967],\n",
              "        [ 319,  815,  422, ...,  854, 1412, 4005],\n",
              "        [ 369,  420, 1120, ...,  694,  144, 1076]]),\n",
              " array([[ 389,  598,  723, ...,   82,  804, 1310],\n",
              "        [1283,  694,  231, ...,  965, 1012,  789],\n",
              "        [  86,   92,  272, ..., 1947, 5594,    5],\n",
              "        ...,\n",
              "        [ 311,  129,   85, ...,  242,  272, 1385],\n",
              "        [ 427, 1435,  635, ..., 2043,  582, 1401],\n",
              "        [  74, 2255,  231, ..., 1307, 2645,  460]])]"
            ]
          },
          "metadata": {
            "tags": []
          },
          "execution_count": 119
        }
      ]
    },
    {
      "cell_type": "code",
      "metadata": {
        "colab": {
          "base_uri": "https://localhost:8080/"
        },
        "id": "2ZnpolG9A7KZ",
        "outputId": "e843ebf9-2b5e-410b-84d5-21a21489fb4e"
      },
      "source": [
        "AllSteps_Hitrate_psi, LowerBand, Avg_HitRate, UpperBand   = getAll_HitRate(newHoldout_list,All_regPSI_PRED,'Updated_UserID','Updated_ItemID')"
      ],
      "execution_count": null,
      "outputs": [
        {
          "output_type": "stream",
          "text": [
            "Number of hits:  127\n",
            "Total Num of users:  474\n",
            "Recommendation HitRate:  0.2679324894514768\n",
            "Number of hits:  148\n",
            "Total Num of users:  433\n",
            "Recommendation HitRate:  0.3418013856812933\n",
            "Number of hits:  157\n",
            "Total Num of users:  465\n",
            "Recommendation HitRate:  0.33763440860215055\n",
            "Number of hits:  144\n",
            "Total Num of users:  478\n",
            "Recommendation HitRate:  0.301255230125523\n",
            "Number of hits:  135\n",
            "Total Num of users:  478\n",
            "Recommendation HitRate:  0.2824267782426778\n",
            "Number of hits:  139\n",
            "Total Num of users:  508\n",
            "Recommendation HitRate:  0.2736220472440945\n",
            "Number of hits:  168\n",
            "Total Num of users:  612\n",
            "Recommendation HitRate:  0.27450980392156865\n",
            "Number of hits:  149\n",
            "Total Num of users:  599\n",
            "Recommendation HitRate:  0.24874791318864775\n",
            "Number of hits:  165\n",
            "Total Num of users:  536\n",
            "Recommendation HitRate:  0.30783582089552236\n",
            "Number of hits:  61\n",
            "Total Num of users:  425\n",
            "Recommendation HitRate:  0.14352941176470588\n",
            "Average HitRate for All Recommendations:  0.27792952891176614\n"
          ],
          "name": "stdout"
        }
      ]
    },
    {
      "cell_type": "code",
      "metadata": {
        "id": "wzOFbi-7SrOS",
        "outputId": "140110fb-a423-4dc0-dd65-c82cf12ab566"
      },
      "source": [
        "AllSteps_Hitrate_psi  #Rank ==70"
      ],
      "execution_count": null,
      "outputs": [
        {
          "output_type": "execute_result",
          "data": {
            "text/plain": [
              "[0.2679324894514768,\n",
              " 0.3418013856812933,\n",
              " 0.33763440860215055,\n",
              " 0.301255230125523,\n",
              " 0.2824267782426778,\n",
              " 0.2736220472440945,\n",
              " 0.27450980392156865,\n",
              " 0.24874791318864775,\n",
              " 0.30783582089552236,\n",
              " 0.14352941176470588]"
            ]
          },
          "metadata": {
            "tags": []
          },
          "execution_count": 121
        }
      ]
    },
    {
      "cell_type": "code",
      "metadata": {
        "id": "vDi2mHDhs-aj"
      },
      "source": [
        ""
      ],
      "execution_count": null,
      "outputs": []
    },
    {
      "cell_type": "markdown",
      "metadata": {
        "id": "RqiqPgckzV7V"
      },
      "source": [
        "## MRR "
      ]
    },
    {
      "cell_type": "code",
      "metadata": {
        "id": "QiUIA7jglb2c",
        "outputId": "d2634481-0dea-46cd-9a40-e2cd45858368"
      },
      "source": [
        "##MRR: \n",
        "mrr_psi_1st = MRR_Eval(newHoldout_list[0],Top10Pred_psi,'Updated_ItemID')\n",
        "print(\"1st Step MRR: \",mrr_psi_1st)"
      ],
      "execution_count": null,
      "outputs": [
        {
          "output_type": "stream",
          "text": [
            "1st Step MRR:  0.2394188266023709\n"
          ],
          "name": "stdout"
        }
      ]
    },
    {
      "cell_type": "code",
      "metadata": {
        "id": "5eFSzmc-s-ak",
        "outputId": "8cf03f7e-ea59-4218-ebfb-2b6571dc00b1"
      },
      "source": [
        "psi_AllStepsMRR, psi_LowerB, psi_AvgMRR, psi_UpperB  = TQDMgetAll_MRR_Eval(newHoldout_list,All_regPSI_PRED,'Updated_ItemID')\n",
        "psi_AllStepsMRR  "
      ],
      "execution_count": null,
      "outputs": [
        {
          "output_type": "stream",
          "text": [
            "10it [00:00, 805.02it/s]\n"
          ],
          "name": "stderr"
        },
        {
          "output_type": "execute_result",
          "data": {
            "text/plain": [
              "[0.239419,\n",
              " 0.29641,\n",
              " 0.312709,\n",
              " 0.2697,\n",
              " 0.260157,\n",
              " 0.243877,\n",
              " 0.211119,\n",
              " 0.219799,\n",
              " 0.259858,\n",
              " 0.116059]"
            ]
          },
          "metadata": {
            "tags": []
          },
          "execution_count": 124
        }
      ]
    },
    {
      "cell_type": "code",
      "metadata": {
        "id": "MpZB_0abs-ak",
        "outputId": "d009d541-87af-42e7-a586-d8cf1ad1a7e5"
      },
      "source": [
        "print(\"Average MRR: \",psi_AvgMRR)"
      ],
      "execution_count": null,
      "outputs": [
        {
          "output_type": "stream",
          "text": [
            "Average MRR:  0.242911\n"
          ],
          "name": "stdout"
        }
      ]
    },
    {
      "cell_type": "code",
      "metadata": {
        "id": "LvVm1VPszghR"
      },
      "source": [
        ""
      ],
      "execution_count": null,
      "outputs": []
    },
    {
      "cell_type": "markdown",
      "metadata": {
        "id": "UXWGflW1zcgD"
      },
      "source": [
        "## AllUsers Pred"
      ]
    },
    {
      "cell_type": "code",
      "metadata": {
        "id": "Xk2tXEtGs-al"
      },
      "source": [
        "### Get All Prediction"
      ],
      "execution_count": null,
      "outputs": []
    },
    {
      "cell_type": "code",
      "metadata": {
        "id": "lylBffSis-al",
        "outputId": "1d8505a0-a11b-414c-b287-a3c6ab07a9b2"
      },
      "source": [
        "AllUsersRegPIS_PRED =  TQDMgetALLTopNPred_ALLUSERS(UserItemMAT_regPSI,Vpsi_listReg, N=10) \n",
        "print(len(AllUsersRegPIS_PRED))\n",
        "AllUsersRegPIS_PRED[:2]"
      ],
      "execution_count": null,
      "outputs": [
        {
          "output_type": "stream",
          "text": [
            "10it [00:28,  2.89s/it]10\n",
            "\n"
          ],
          "name": "stderr"
        },
        {
          "output_type": "execute_result",
          "data": {
            "text/plain": [
              "[array([[ 133,   71,  134, ...,   57,  139,  216],\n",
              "        [  60,  297,  133, ...,  242,  245,   63],\n",
              "        [ 297,  242,  424, ...,  199,  357,  595],\n",
              "        ...,\n",
              "        [2702, 2699, 2695, ..., 2705, 2706, 8108],\n",
              "        [2702, 2699, 2695, ..., 2705, 2706, 8108],\n",
              "        [2702, 2699, 2695, ..., 2705, 2706, 8108]]),\n",
              " array([[ 133,   71,  134, ...,   57,  139,  216],\n",
              "        [  60,  297,  133, ...,  242,  245,   63],\n",
              "        [ 297,  242,  424, ...,  199,  357,  595],\n",
              "        ...,\n",
              "        [2702, 2699, 2695, ..., 2705, 2706, 8108],\n",
              "        [2702, 2699, 2695, ..., 2705, 2706, 8108],\n",
              "        [2702, 2699, 2695, ..., 2705, 2706, 8108]])]"
            ]
          },
          "metadata": {
            "tags": []
          },
          "execution_count": 126
        }
      ]
    },
    {
      "cell_type": "code",
      "metadata": {
        "id": "KSrZi8V4s-am"
      },
      "source": [
        "with open('/mnt/bulky/oolaleke/TDM_Dataset/AMZ_Btyfiles/AMZB_PSI_AllPRED.pkl', 'wb') as f:\n",
        "     pickle.dump(AllUsersRegPIS_PRED, f)\n"
      ],
      "execution_count": null,
      "outputs": []
    },
    {
      "cell_type": "code",
      "metadata": {
        "id": "mZ9cnsrus-am",
        "outputId": "ece4e58d-7c5c-415f-92b8-67df0e443232"
      },
      "source": [
        "AllUsersRegPIS_PRED[2].shape"
      ],
      "execution_count": null,
      "outputs": [
        {
          "output_type": "execute_result",
          "data": {
            "text/plain": [
              "(22557, 10)"
            ]
          },
          "metadata": {
            "tags": []
          },
          "execution_count": 128
        }
      ]
    },
    {
      "cell_type": "markdown",
      "metadata": {
        "id": "X_AVVs8xzk3M"
      },
      "source": [
        "## Coverage"
      ]
    },
    {
      "cell_type": "code",
      "metadata": {
        "id": "o87rXpi0s-an",
        "outputId": "2608c697-83ef-4692-e0d6-ce70a86564ab"
      },
      "source": [
        "psi_AvgCoverage_List = AllSteps_Coverage_Ratio(newAMZB_DF,AllUsersRegPIS_PRED,'Updated_ItemID')\n",
        "psi_AvgCoverage_List   #Rank ==70"
      ],
      "execution_count": null,
      "outputs": [
        {
          "output_type": "execute_result",
          "data": {
            "text/plain": [
              "[0.079788,\n",
              " 0.080035,\n",
              " 0.080281,\n",
              " 0.080035,\n",
              " 0.079295,\n",
              " 0.078925,\n",
              " 0.078308,\n",
              " 0.078678,\n",
              " 0.077568,\n",
              " 0.076458]"
            ]
          },
          "metadata": {
            "tags": []
          },
          "execution_count": 129
        }
      ]
    },
    {
      "cell_type": "code",
      "metadata": {
        "id": "_uts3n2es-an"
      },
      "source": [
        ""
      ],
      "execution_count": null,
      "outputs": []
    },
    {
      "cell_type": "markdown",
      "metadata": {
        "id": "HY4GOuuCzzif"
      },
      "source": [
        "## Stability"
      ]
    },
    {
      "cell_type": "code",
      "metadata": {
        "colab": {
          "base_uri": "https://localhost:8080/"
        },
        "id": "gEYu_nLCTxS6",
        "outputId": "f8e4a810-944d-42e2-cd09-ec0cdf07d83e"
      },
      "source": [
        "AllSteps = list(range(1,10))\n",
        "print(len(AllSteps))\n",
        "print(len(AllUsers_updtPRED))\n",
        "AllSteps  "
      ],
      "execution_count": null,
      "outputs": [
        {
          "output_type": "stream",
          "text": [
            "9\n",
            "10\n"
          ],
          "name": "stdout"
        },
        {
          "output_type": "execute_result",
          "data": {
            "text/plain": [
              "[1, 2, 3, 4, 5, 6, 7, 8, 9]"
            ]
          },
          "metadata": {
            "tags": []
          },
          "execution_count": 158
        }
      ]
    },
    {
      "cell_type": "code",
      "metadata": {
        "colab": {
          "base_uri": "https://localhost:8080/"
        },
        "id": "5jPXwk8KTxS9",
        "outputId": "c3ed416c-2aab-4494-b731-b57f7a837dd8"
      },
      "source": [
        "RegPSICorr_ = Updt_getAll_AvgCorr(AllUsersRegPIS_PRED,newUserItem_list,AllSteps,'Updated_UserID')  #,\n",
        "RegPSICorr_"
      ],
      "execution_count": null,
      "outputs": [
        {
          "output_type": "execute_result",
          "data": {
            "text/plain": [
              "array([array([1.        , 1.        , 1.        , ..., 0.        , 0.02180383,\n",
              "              0.        ])                                                    ,\n",
              "       array([1.        , 1.        , 1.        , ..., 0.49096051, 0.67845367,\n",
              "              0.        ])                                                    ,\n",
              "       array([1., 1., 1., ..., 0., 0., 0.]),\n",
              "       array([1.        , 0.94467132, 1.        , ..., 0.86813465, 0.49096051,\n",
              "              0.        ])                                                    ,\n",
              "       array([1.        , 0.98788042, 1.        , ..., 0.41493338, 0.15058457,\n",
              "              0.33050924])                                                    ,\n",
              "       array([1.        , 1.        , 1.        , ..., 0.02180383, 0.08321104,\n",
              "              0.        ])                                                    ,\n",
              "       array([0.97749498, 1.        , 1.        , ..., 0.        , 0.        ,\n",
              "              0.        ])                                                    ,\n",
              "       array([1.        , 0.93397092, 1.        , ..., 0.        , 0.        ,\n",
              "              0.        ])                                                    ,\n",
              "       array([1.        , 1.        , 0.93397092, ..., 0.        , 0.40885665,\n",
              "              0.40885665])                                                    ],\n",
              "      dtype=object)"
            ]
          },
          "metadata": {
            "tags": []
          },
          "execution_count": 159
        }
      ]
    },
    {
      "cell_type": "code",
      "metadata": {
        "colab": {
          "base_uri": "https://localhost:8080/"
        },
        "id": "7Jw6LVmFTxTC",
        "outputId": "38745d49-00dd-4f61-c7d0-78bc0f17010f"
      },
      "source": [
        "print(RegPSICorr_.shape)\n",
        "print()\n",
        "for df in RegPSICorr_:  ##Rank == 70\n",
        "    print(df.mean())  "
      ],
      "execution_count": null,
      "outputs": [
        {
          "output_type": "stream",
          "text": [
            "(9,)\n",
            "\n",
            "0.9650199240782822\n",
            "0.9654632087140693\n",
            "0.9695926766281905\n",
            "0.9686051221346264\n",
            "0.9527405218684136\n",
            "0.9601414867533916\n",
            "0.9622915047414743\n",
            "0.9439463379000846\n",
            "0.9700566762443715\n"
          ],
          "name": "stdout"
        }
      ]
    },
    {
      "cell_type": "markdown",
      "metadata": {
        "id": "PkouMhzgmD-N"
      },
      "source": [
        "# Pure SVD"
      ]
    },
    {
      "cell_type": "markdown",
      "metadata": {
        "id": "IplkHKXjmEAU"
      },
      "source": [
        "**Get Rating Matrices**"
      ]
    },
    {
      "cell_type": "code",
      "metadata": {
        "id": "jVKTdQnGs-ao"
      },
      "source": [
        "import pickle\n",
        "\n",
        "with open('/mnt/bulky/oolaleke/TDM_Dataset/AMZ_Btyfiles/AMZB_newHoldout.pkl', 'rb') as f:\n",
        "     newHoldout_list = pickle.load(f)     \n",
        "    \n",
        "with open('/mnt/bulky/oolaleke/TDM_Dataset/AMZ_Btyfiles/AMZB_newUserItem.pkl', 'rb') as f:\n",
        "     newUserItem_list = pickle.load(f)\n",
        "\n",
        "with open('/mnt/bulky/oolaleke/TDM_Dataset/AMZ_Btyfiles/AMZB_newPSITest.pkl', 'rb') as f:\n",
        "     newPSIDF_LIST = pickle.load(f)"
      ],
      "execution_count": null,
      "outputs": []
    },
    {
      "cell_type": "code",
      "metadata": {
        "id": "75ZBcfkbs-ap",
        "outputId": "d16e4913-3e97-4251-9393-5006f1929a0d"
      },
      "source": [
        "for df in newPSIDF_LIST:\n",
        "    print(df.shape[0])"
      ],
      "execution_count": null,
      "outputs": [
        {
          "output_type": "stream",
          "text": [
            "324\n",
            "343\n",
            "347\n",
            "338\n",
            "338\n",
            "292\n",
            "397\n",
            "323\n",
            "365\n",
            "203\n"
          ],
          "name": "stdout"
        }
      ]
    },
    {
      "cell_type": "code",
      "metadata": {
        "id": "2ZH1LJaTs-ap",
        "outputId": "e71e218d-038a-4f8c-bba7-ed714d64e99f"
      },
      "source": [
        "newHoldout_list[0].columns"
      ],
      "execution_count": null,
      "outputs": [
        {
          "output_type": "execute_result",
          "data": {
            "text/plain": [
              "Index(['userId', 'productId', 'Updated_UserID', 'Updated_ItemID'], dtype='object')"
            ]
          },
          "metadata": {
            "tags": []
          },
          "execution_count": 14
        }
      ]
    },
    {
      "cell_type": "code",
      "metadata": {
        "id": "jMzvfybvs-aq",
        "outputId": "88eaf059-73bc-4552-f355-4b1d17afb174"
      },
      "source": [
        "for df in newHoldout_list:\n",
        "    print(df['Updated_UserID'].nunique(),df.shape[0])"
      ],
      "execution_count": null,
      "outputs": [
        {
          "output_type": "stream",
          "text": [
            "474 474\n",
            "433 433\n",
            "465 465\n",
            "478 478\n",
            "478 478\n",
            "508 508\n",
            "612 612\n",
            "599 599\n",
            "536 536\n",
            "425 425\n"
          ],
          "name": "stdout"
        }
      ]
    },
    {
      "cell_type": "code",
      "metadata": {
        "id": "j15H1WTms-ar",
        "outputId": "c12b754e-8c0b-4c68-f8df-3fc8aa1cafa6"
      },
      "source": [
        "rows_i = newAMZB_DF['Updated_UserID'].nunique()\n",
        "cols_i = newAMZB_DF['Updated_ItemID'].nunique()\n",
        "SVD_UserItemMAT = AllRatingMatrices(newUserItem_list,'Updated_UserID','Updated_ItemID',rows_i ,cols_i) ##Same as UserItemMAT_regPSI\n",
        "SVD_UserItemMAT"
      ],
      "execution_count": null,
      "outputs": [
        {
          "output_type": "execute_result",
          "data": {
            "text/plain": [
              "[<22557x8109 sparse matrix of type '<class 'numpy.float64'>'\n",
              " \twith 40228 stored elements in Compressed Sparse Row format>,\n",
              " <22557x8109 sparse matrix of type '<class 'numpy.float64'>'\n",
              " \twith 41330 stored elements in Compressed Sparse Row format>,\n",
              " <22557x8109 sparse matrix of type '<class 'numpy.float64'>'\n",
              " \twith 42432 stored elements in Compressed Sparse Row format>,\n",
              " <22557x8109 sparse matrix of type '<class 'numpy.float64'>'\n",
              " \twith 43525 stored elements in Compressed Sparse Row format>,\n",
              " <22557x8109 sparse matrix of type '<class 'numpy.float64'>'\n",
              " \twith 44665 stored elements in Compressed Sparse Row format>,\n",
              " <22557x8109 sparse matrix of type '<class 'numpy.float64'>'\n",
              " \twith 45752 stored elements in Compressed Sparse Row format>,\n",
              " <22557x8109 sparse matrix of type '<class 'numpy.float64'>'\n",
              " \twith 47034 stored elements in Compressed Sparse Row format>,\n",
              " <22557x8109 sparse matrix of type '<class 'numpy.float64'>'\n",
              " \twith 48112 stored elements in Compressed Sparse Row format>,\n",
              " <22557x8109 sparse matrix of type '<class 'numpy.float64'>'\n",
              " \twith 49321 stored elements in Compressed Sparse Row format>,\n",
              " <22557x8109 sparse matrix of type '<class 'numpy.float64'>'\n",
              " \twith 50337 stored elements in Compressed Sparse Row format>]"
            ]
          },
          "metadata": {
            "tags": []
          },
          "execution_count": 130
        }
      ]
    },
    {
      "cell_type": "code",
      "metadata": {
        "id": "40f_F1pfs-ar"
      },
      "source": [
        "##Best Rank==70"
      ],
      "execution_count": null,
      "outputs": []
    },
    {
      "cell_type": "markdown",
      "metadata": {
        "id": "6lEpxbMqoPdG"
      },
      "source": [
        "## HitRate"
      ]
    },
    {
      "cell_type": "code",
      "metadata": {
        "colab": {
          "base_uri": "https://localhost:8080/"
        },
        "id": "qJSJnDKTdogh",
        "outputId": "fe099c50-df55-458f-e6c5-5e4d308d0155"
      },
      "source": [
        "Vsvd_list = pureSVD(SVD_UserItemMAT,k=70)\n",
        "print(len(Vsvd_list))"
      ],
      "execution_count": null,
      "outputs": [
        {
          "output_type": "stream",
          "text": [
            "10\n"
          ],
          "name": "stdout"
        }
      ]
    },
    {
      "cell_type": "code",
      "metadata": {
        "colab": {
          "base_uri": "https://localhost:8080/"
        },
        "id": "DT9ATyeIdogj",
        "outputId": "9e3ba5db-7a86-4af1-fad5-cf98485e992d"
      },
      "source": [
        "Vsvd_last = Vsvd_list[-1]\n",
        "Vsvd_last"
      ],
      "execution_count": null,
      "outputs": [
        {
          "output_type": "execute_result",
          "data": {
            "text/plain": [
              "array([[ 2.52465830e-06, -2.39704886e-04,  1.03121346e-03, ...,\n",
              "         5.48022918e-10,  8.84752319e-10, -3.54033696e-08],\n",
              "       [ 2.62720207e-05, -1.45760305e-05, -5.36633086e-04, ...,\n",
              "        -2.47271955e-10,  6.68028386e-10, -2.82444440e-08],\n",
              "       [-1.45282062e-04,  5.95159440e-04,  7.69668168e-04, ...,\n",
              "         1.49198330e-07,  3.52620464e-07, -2.67741390e-07],\n",
              "       ...,\n",
              "       [ 1.91234867e-07, -1.55406575e-06,  5.54581134e-07, ...,\n",
              "         2.87645739e-13,  8.51731986e-15, -3.67450004e-16],\n",
              "       [ 1.95433367e-09, -5.44213811e-08,  4.74408769e-08, ...,\n",
              "        -4.97039610e-17, -1.88676733e-16, -5.14630231e-18],\n",
              "       [-9.56958812e-05,  8.02592590e-04,  5.97933171e-06, ...,\n",
              "        -2.09547368e-10,  3.36571072e-10, -1.68180004e-11]])"
            ]
          },
          "metadata": {
            "tags": []
          },
          "execution_count": 133
        }
      ]
    },
    {
      "cell_type": "code",
      "metadata": {
        "colab": {
          "base_uri": "https://localhost:8080/"
        },
        "id": "WnCO3ZL96e4I",
        "outputId": "364ac4f0-b337-49d1-b2ca-8c8eced89c9f"
      },
      "source": [
        "Top10Pred_SVD = TopNPred(SVD_UserItemMAT[0],newHoldout_list[0],Vsvd_list[0],'Updated_UserID',N=10)\n",
        "print(Top10Pred_SVD.shape)\n",
        "Top10Pred_SVD  "
      ],
      "execution_count": null,
      "outputs": [
        {
          "output_type": "stream",
          "text": [
            "(474, 10)\n"
          ],
          "name": "stdout"
        },
        {
          "output_type": "execute_result",
          "data": {
            "text/plain": [
              "array([[ 558,   22,  995, ..., 3666,  488,  328],\n",
              "       [4017, 1283, 2255, ..., 2736,  194, 4401],\n",
              "       [ 389,  133,  598, ..., 1034,   82, 1310],\n",
              "       ...,\n",
              "       [ 251,  239, 1566, ...,  499, 1247, 1967],\n",
              "       [ 319,  815,  422, ...,  588,  416,  854],\n",
              "       [ 369,  158, 1628, ...,  328,  566,  219]])"
            ]
          },
          "metadata": {
            "tags": []
          },
          "execution_count": 135
        }
      ]
    },
    {
      "cell_type": "code",
      "metadata": {
        "colab": {
          "base_uri": "https://localhost:8080/"
        },
        "id": "_y8C9P5hr-sN",
        "outputId": "ff5b210c-636b-4d66-a012-67fdca10344b"
      },
      "source": [
        "Hitrate_Eval(newHoldout_list[0],Top10Pred_SVD,'Updated_UserID','Updated_ItemID')"
      ],
      "execution_count": null,
      "outputs": [
        {
          "output_type": "stream",
          "text": [
            "Number of hits:  141\n",
            "Total Num of users:  474\n",
            "Recommendation HitRate:  0.2974683544303797\n"
          ],
          "name": "stdout"
        },
        {
          "output_type": "execute_result",
          "data": {
            "text/plain": [
              "0.2974683544303797"
            ]
          },
          "metadata": {
            "tags": []
          },
          "execution_count": 136
        }
      ]
    },
    {
      "cell_type": "code",
      "metadata": {
        "colab": {
          "base_uri": "https://localhost:8080/"
        },
        "id": "nOTHviyK-jwT",
        "outputId": "eab74d67-67fd-4f08-dec6-61126557c065"
      },
      "source": [
        "AllSVD_topNPRED =  TQDMgetALLTopNPred(SVD_UserItemMAT,newHoldout_list,Vsvd_list,'Updated_UserID',N = 10)\n",
        "print(len(AllSVD_topNPRED))\n",
        "AllSVD_topNPRED[:2]"
      ],
      "execution_count": null,
      "outputs": [
        {
          "output_type": "stream",
          "text": [
            "10it [00:00, 12.70it/s]10\n",
            "\n"
          ],
          "name": "stderr"
        },
        {
          "output_type": "execute_result",
          "data": {
            "text/plain": [
              "[array([[ 558,   22,  995, ..., 3666,  488,  328],\n",
              "        [4017, 1283, 2255, ..., 2736,  194, 4401],\n",
              "        [ 389,  133,  598, ..., 1034,   82, 1310],\n",
              "        ...,\n",
              "        [ 251,  239, 1566, ...,  499, 1247, 1967],\n",
              "        [ 319,  815,  422, ...,  588,  416,  854],\n",
              "        [ 369,  158, 1628, ...,  328,  566,  219]]),\n",
              " array([[ 389,  133,  598, ...,   82, 1034, 1310],\n",
              "        [ 231,  523, 1260, ..., 3026,  225,  226],\n",
              "        [ 439,  922,  523, ...,   41,  191,  297],\n",
              "        ...,\n",
              "        [ 311,   85, 1230, ..., 2067, 3433, 4714],\n",
              "        [ 427, 6134, 1435, ..., 2043, 1401, 6386],\n",
              "        [  74, 2255,  231, ..., 3545, 2645,  566]])]"
            ]
          },
          "metadata": {
            "tags": []
          },
          "execution_count": 137
        }
      ]
    },
    {
      "cell_type": "code",
      "metadata": {
        "colab": {
          "base_uri": "https://localhost:8080/"
        },
        "id": "d7xlsk71shw9",
        "outputId": "7e4b2f47-441d-4732-d206-e8a1f3f0cfd3"
      },
      "source": [
        "AllSteps_Hitrate_svd, LowerBand, Avg_HitRate, UpperBand   = getAll_HitRate(newHoldout_list,AllSVD_topNPRED,'Updated_UserID','Updated_ItemID')"
      ],
      "execution_count": null,
      "outputs": [
        {
          "output_type": "stream",
          "text": [
            "Number of hits:  141\n",
            "Total Num of users:  474\n",
            "Recommendation HitRate:  0.2974683544303797\n",
            "Number of hits:  139\n",
            "Total Num of users:  433\n",
            "Recommendation HitRate:  0.3210161662817552\n",
            "Number of hits:  148\n",
            "Total Num of users:  465\n",
            "Recommendation HitRate:  0.31827956989247314\n",
            "Number of hits:  152\n",
            "Total Num of users:  478\n",
            "Recommendation HitRate:  0.3179916317991632\n",
            "Number of hits:  148\n",
            "Total Num of users:  478\n",
            "Recommendation HitRate:  0.30962343096234307\n",
            "Number of hits:  152\n",
            "Total Num of users:  508\n",
            "Recommendation HitRate:  0.2992125984251969\n",
            "Number of hits:  204\n",
            "Total Num of users:  612\n",
            "Recommendation HitRate:  0.3333333333333333\n",
            "Number of hits:  164\n",
            "Total Num of users:  599\n",
            "Recommendation HitRate:  0.27378964941569284\n",
            "Number of hits:  180\n",
            "Total Num of users:  536\n",
            "Recommendation HitRate:  0.3358208955223881\n",
            "Number of hits:  81\n",
            "Total Num of users:  425\n",
            "Recommendation HitRate:  0.19058823529411764\n",
            "Average HitRate for All Recommendations:  0.29971238653568427\n"
          ],
          "name": "stdout"
        }
      ]
    },
    {
      "cell_type": "code",
      "metadata": {
        "colab": {
          "base_uri": "https://localhost:8080/"
        },
        "id": "x_L3w8iDPcDV",
        "outputId": "363b53f7-434d-49d0-ea7e-008773d42541"
      },
      "source": [
        "AllSteps_Hitrate_svd  ##Rank == 70"
      ],
      "execution_count": null,
      "outputs": [
        {
          "output_type": "execute_result",
          "data": {
            "text/plain": [
              "[0.2974683544303797,\n",
              " 0.3210161662817552,\n",
              " 0.31827956989247314,\n",
              " 0.3179916317991632,\n",
              " 0.30962343096234307,\n",
              " 0.2992125984251969,\n",
              " 0.3333333333333333,\n",
              " 0.27378964941569284,\n",
              " 0.3358208955223881,\n",
              " 0.19058823529411764]"
            ]
          },
          "metadata": {
            "tags": []
          },
          "execution_count": 143
        }
      ]
    },
    {
      "cell_type": "code",
      "metadata": {
        "id": "3PzD5M_g6di-"
      },
      "source": [
        ""
      ],
      "execution_count": null,
      "outputs": []
    },
    {
      "cell_type": "markdown",
      "metadata": {
        "id": "cw7wVEUH6eaK"
      },
      "source": [
        "## MRR"
      ]
    },
    {
      "cell_type": "code",
      "metadata": {
        "id": "84FR2rjGs-aw",
        "outputId": "f209dda2-10ed-46be-9edd-77aeb8666ccd"
      },
      "source": [
        "##MRR: \n",
        "mrr_SVD_1st = MRR_Eval(newHoldout_list[0],Top10Pred_SVD,'Updated_ItemID')\n",
        "print(\"1st Step MRR: \",mrr_SVD_1st)"
      ],
      "execution_count": null,
      "outputs": [
        {
          "output_type": "stream",
          "text": [
            "1st Step MRR:  0.2579038577456299\n"
          ],
          "name": "stdout"
        }
      ]
    },
    {
      "cell_type": "code",
      "metadata": {
        "id": "S5zoEw1ds-ay",
        "outputId": "ac1a9162-eb59-4316-9e2f-235fb564a6fb"
      },
      "source": [
        "svd_AllStepsMRR, svd_LowerB, svd_AvgMRR, svd_UpperB  = TQDMgetAll_MRR_Eval(newHoldout_list,AllSVD_topNPRED,'Updated_ItemID')\n",
        "svd_AllStepsMRR  "
      ],
      "execution_count": null,
      "outputs": [
        {
          "output_type": "stream",
          "text": [
            "10it [00:00, 748.88it/s]\n"
          ],
          "name": "stderr"
        },
        {
          "output_type": "execute_result",
          "data": {
            "text/plain": [
              "[0.257904,\n",
              " 0.265928,\n",
              " 0.282022,\n",
              " 0.277618,\n",
              " 0.276946,\n",
              " 0.262233,\n",
              " 0.252534,\n",
              " 0.238937,\n",
              " 0.271409,\n",
              " 0.152591]"
            ]
          },
          "metadata": {
            "tags": []
          },
          "execution_count": 145
        }
      ]
    },
    {
      "cell_type": "code",
      "metadata": {
        "id": "r_63j1l96guR"
      },
      "source": [
        ""
      ],
      "execution_count": null,
      "outputs": []
    },
    {
      "cell_type": "markdown",
      "metadata": {
        "id": "rFfiEAjK6hjh"
      },
      "source": [
        "## AllUsers Pred"
      ]
    },
    {
      "cell_type": "code",
      "metadata": {
        "id": "jxkTsjOMs-az"
      },
      "source": [
        "## AllSVD Prediction"
      ],
      "execution_count": null,
      "outputs": []
    },
    {
      "cell_type": "code",
      "metadata": {
        "id": "AHr9AsUXs-a0",
        "outputId": "fb24f2ce-daf7-4572-e4e8-8014c2945e3a"
      },
      "source": [
        "AllUsersSVD_PRED =  TQDMgetALLTopNPred_ALLUSERS(SVD_UserItemMAT,Vsvd_list, N=10) \n",
        "print(len(AllUsersSVD_PRED))\n",
        "AllUsersSVD_PRED[:2]"
      ],
      "execution_count": null,
      "outputs": [
        {
          "output_type": "stream",
          "text": [
            "10it [00:27,  2.77s/it]10\n",
            "\n"
          ],
          "name": "stderr"
        },
        {
          "output_type": "execute_result",
          "data": {
            "text/plain": [
              "[array([[  63,   71,  205, ...,  215,  191,   50],\n",
              "        [  60,  297,   43, ...,  928,  205,   57],\n",
              "        [ 297,  242,  424, ...,  449,  928,  199],\n",
              "        ...,\n",
              "        [2702, 2699, 2695, ..., 2705, 2706, 8108],\n",
              "        [2702, 2699, 2695, ..., 2705, 2706, 8108],\n",
              "        [2702, 2699, 2695, ..., 2705, 2706, 8108]]),\n",
              " array([[  63,   71,  205, ...,  215,  191,   83],\n",
              "        [  60,  297,   43, ...,  928,  205,   57],\n",
              "        [ 297,  242,  424, ...,  199,  357,  928],\n",
              "        ...,\n",
              "        [2702, 2699, 2695, ..., 2705, 2706, 8108],\n",
              "        [2702, 2699, 2695, ..., 2705, 2706, 8108],\n",
              "        [2702, 2699, 2695, ..., 2705, 2706, 8108]])]"
            ]
          },
          "metadata": {
            "tags": []
          },
          "execution_count": 147
        }
      ]
    },
    {
      "cell_type": "code",
      "metadata": {
        "id": "CA1TWcxas-a2"
      },
      "source": [
        "with open('/mnt/bulky/oolaleke/TDM_Dataset/AMZ_Btyfiles/AMZB_SVD_AllPRED.pkl', 'wb') as f:\n",
        "     pickle.dump(AllUsersSVD_PRED, f)\n"
      ],
      "execution_count": null,
      "outputs": []
    },
    {
      "cell_type": "markdown",
      "metadata": {
        "id": "mgrDtjOh6sHA"
      },
      "source": [
        "## Coverage"
      ]
    },
    {
      "cell_type": "code",
      "metadata": {
        "id": "o-7SsHoVo2gx",
        "outputId": "c77746f3-09ff-4e96-adbc-3debb54e8663"
      },
      "source": [
        "SVD_AvgCoverage_List = AllSteps_Coverage_Ratio(newAMZB_DF,AllUsersSVD_PRED,'Updated_ItemID')\n",
        "SVD_AvgCoverage_List  ##..Rank == 70"
      ],
      "execution_count": null,
      "outputs": [
        {
          "output_type": "execute_result",
          "data": {
            "text/plain": [
              "[0.079788,\n",
              " 0.081021,\n",
              " 0.079788,\n",
              " 0.079295,\n",
              " 0.079665,\n",
              " 0.079048,\n",
              " 0.080035,\n",
              " 0.080035,\n",
              " 0.079911,\n",
              " 0.079418]"
            ]
          },
          "metadata": {
            "tags": []
          },
          "execution_count": 151
        }
      ]
    },
    {
      "cell_type": "code",
      "metadata": {
        "id": "60di6dN862s2"
      },
      "source": [
        ""
      ],
      "execution_count": null,
      "outputs": []
    },
    {
      "cell_type": "markdown",
      "metadata": {
        "id": "yfOZLbLYuqpn"
      },
      "source": [
        "## Stability"
      ]
    },
    {
      "cell_type": "code",
      "metadata": {
        "colab": {
          "base_uri": "https://localhost:8080/"
        },
        "id": "Y4VC_GCQvZDB",
        "outputId": "cd9f45ea-2ad8-4172-b672-70068303dd9e"
      },
      "source": [
        "AllSteps = list(range(1,10))\n",
        "print(len(AllSteps))\n",
        "AllSteps  "
      ],
      "execution_count": null,
      "outputs": [
        {
          "output_type": "stream",
          "text": [
            "9\n"
          ],
          "name": "stdout"
        },
        {
          "output_type": "execute_result",
          "data": {
            "text/plain": [
              "[1, 2, 3, 4, 5, 6, 7, 8, 9]"
            ]
          },
          "metadata": {
            "tags": []
          },
          "execution_count": 162
        }
      ]
    },
    {
      "cell_type": "code",
      "metadata": {
        "colab": {
          "base_uri": "https://localhost:8080/"
        },
        "id": "B6Dik3BEvZDE",
        "outputId": "133b7aeb-06be-4e8c-defd-8c5e80bbca0a"
      },
      "source": [
        "pureSVDCorr_ = Updt_getAll_AvgCorr(AllUsersSVD_PRED,newUserItem_list,AllSteps,'Updated_UserID')  #,\n",
        "pureSVDCorr_"
      ],
      "execution_count": null,
      "outputs": [
        {
          "output_type": "execute_result",
          "data": {
            "text/plain": [
              "array([array([0.93397092, 1.        , 0.91118591, ..., 0.        , 0.02928462,\n",
              "              0.        ])                                                    ,\n",
              "       array([0.87216233, 1.        , 1.        , ..., 0.49096051, 0.48421476,\n",
              "              0.        ])                                                    ,\n",
              "       array([0.88965694, 0.87216233, 0.90256476, ..., 0.        , 0.        ,\n",
              "              0.        ])                                                    ,\n",
              "       array([0.61846289, 0.96643133, 0.95083917, ..., 0.36331733, 0.44498825,\n",
              "              0.        ])                                                    ,\n",
              "       array([0.87216233, 1.        , 0.88555371, ..., 0.49096051, 0.43767043,\n",
              "              0.84271627])                                                    ,\n",
              "       array([0.32979011, 0.44753873, 0.7685396 , ..., 0.15148206, 0.12147687,\n",
              "              0.20133464])                                                    ,\n",
              "       array([0.65474723, 0.74162341, 0.7385467 , ..., 0.        , 0.        ,\n",
              "              0.        ])                                                    ,\n",
              "       array([0.89913804, 0.94569659, 0.99056095, ..., 0.09388662, 0.13842832,\n",
              "              0.09526636])                                                    ,\n",
              "       array([0.67180068, 0.97010543, 0.95471398, ..., 0.        , 0.33146929,\n",
              "              0.33146929])                                                    ],\n",
              "      dtype=object)"
            ]
          },
          "metadata": {
            "tags": []
          },
          "execution_count": 163
        }
      ]
    },
    {
      "cell_type": "code",
      "metadata": {
        "colab": {
          "base_uri": "https://localhost:8080/"
        },
        "id": "ei8R6zjrvZDG",
        "outputId": "15f545fe-060f-49aa-cce9-b1b0b3e96fee"
      },
      "source": [
        "print(pureSVDCorr_.shape)\n",
        "print()\n",
        "for df in pureSVDCorr_:  ##Rank == 70\n",
        "    print(df.mean())  "
      ],
      "execution_count": null,
      "outputs": [
        {
          "output_type": "stream",
          "text": [
            "(9,)\n",
            "\n",
            "0.7276529488793384\n",
            "0.7800912000874578\n",
            "0.7950770993914437\n",
            "0.7779707098984335\n",
            "0.8316167535358526\n",
            "0.6910707965040934\n",
            "0.7405049881683469\n",
            "0.7925807479319823\n",
            "0.7955066322845123\n"
          ],
          "name": "stdout"
        }
      ]
    },
    {
      "cell_type": "code",
      "metadata": {
        "id": "cDLCEFXgs-aW"
      },
      "source": [
        ""
      ],
      "execution_count": null,
      "outputs": []
    },
    {
      "cell_type": "markdown",
      "metadata": {
        "id": "ex_fBepRvk5I"
      },
      "source": [
        "#  RandRec:Test"
      ]
    },
    {
      "cell_type": "code",
      "metadata": {
        "colab": {
          "base_uri": "https://localhost:8080/"
        },
        "id": "42RCvm1dlZNu",
        "outputId": "485957b6-7ebc-4c72-baac-94e7c3c51671"
      },
      "source": [
        "print(len(SVD_UserItemMAT),len(newHOLDOUT_LIST))"
      ],
      "execution_count": null,
      "outputs": [
        {
          "output_type": "stream",
          "text": [
            "10 10\n"
          ],
          "name": "stdout"
        }
      ]
    },
    {
      "cell_type": "markdown",
      "metadata": {
        "id": "eavcKvRsF3Ns"
      },
      "source": [
        "## AllUsers Pred"
      ]
    },
    {
      "cell_type": "code",
      "metadata": {
        "id": "CJvSXj2-s-bI",
        "outputId": "5a3e654c-fea1-4924-ee12-9e61d9f97d9f"
      },
      "source": [
        "All_UsersRRecPred = get_ALLRandPred_2(SVD_UserItemMAT,'Updated_UserID',N=10)\n",
        "All_UsersRRecPred[:2]  "
      ],
      "execution_count": null,
      "outputs": [
        {
          "output_type": "stream",
          "text": [
            "100%|██████████| 10/10 [01:07<00:00,  6.71s/it]\n"
          ],
          "name": "stderr"
        },
        {
          "output_type": "execute_result",
          "data": {
            "text/plain": [
              "[array([[7113, 1023, 4800, ..., 2370, 4504, 8050],\n",
              "        [3656, 4990, 5604, ..., 7997, 6576, 5283],\n",
              "        [5462, 5960,   57, ..., 6255, 3119, 1420],\n",
              "        ...,\n",
              "        [5281, 5435, 3735, ..., 1418, 2805, 5019],\n",
              "        [4540, 1015,  955, ...,   51, 5749, 1866],\n",
              "        [5736,  390, 6479, ...,  451, 2147, 4771]]),\n",
              " array([[5533,  646, 2750, ..., 6767, 4991, 5788],\n",
              "        [6467, 7528, 2011, ..., 1509, 7335, 3460],\n",
              "        [4100, 5937, 1909, ..., 5114,  952,  198],\n",
              "        ...,\n",
              "        [3719,  629,   96, ..., 4776, 4365, 6035],\n",
              "        [ 534, 7773, 2771, ..., 4924,  266, 7755],\n",
              "        [4278, 7374, 5239, ..., 6123, 3059,    7]])]"
            ]
          },
          "metadata": {
            "tags": []
          },
          "execution_count": 195
        }
      ]
    },
    {
      "cell_type": "code",
      "metadata": {
        "colab": {
          "base_uri": "https://localhost:8080/"
        },
        "id": "TBkzzmmFlZNz",
        "outputId": "f066dac9-b2a2-4c9a-d9b8-eba929a11b75"
      },
      "source": [
        "All_UsersRRecPred[1].shape"
      ],
      "execution_count": null,
      "outputs": [
        {
          "output_type": "execute_result",
          "data": {
            "text/plain": [
              "(22557, 10)"
            ]
          },
          "metadata": {
            "tags": []
          },
          "execution_count": 197
        }
      ]
    },
    {
      "cell_type": "code",
      "metadata": {
        "id": "nQcwf1TEs-bJ"
      },
      "source": [
        "with open('RandRec_AllPRED.pkl', 'wb') as f:\n",
        "     pickle.dump(All_UsersRRecPred, f)\n"
      ],
      "execution_count": null,
      "outputs": []
    },
    {
      "cell_type": "markdown",
      "metadata": {
        "id": "1U-nmEG3Fta3"
      },
      "source": [
        "## HitRate"
      ]
    },
    {
      "cell_type": "code",
      "metadata": {
        "colab": {
          "base_uri": "https://localhost:8080/"
        },
        "id": "uMLoaZ6YlZN3",
        "outputId": "90ba4c62-a1f1-4242-f422-cd84cd1ab274"
      },
      "source": [
        "RRec_AllStepsHitR, RRec_LowBHR, RREC_AvgHitR, RRec_UppBHR = getAll_RandomHitRate_2(newHOLDOUTDF_LIST,All_UsersRRecPred,'Updated_UserID','Updated_ItemID')"
      ],
      "execution_count": null,
      "outputs": [
        {
          "output_type": "stream",
          "text": [
            "Number of hits:  0\n",
            "Total Num of users:  474\n",
            "Recommendation HitRate:  0.0\n",
            "Number of hits:  1\n",
            "Total Num of users:  433\n",
            "Recommendation HitRate:  0.0023094688221709007\n",
            "Number of hits:  1\n",
            "Total Num of users:  465\n",
            "Recommendation HitRate:  0.002150537634408602\n",
            "Number of hits:  1\n",
            "Total Num of users:  478\n",
            "Recommendation HitRate:  0.0020920502092050207\n",
            "Number of hits:  0\n",
            "Total Num of users:  478\n",
            "Recommendation HitRate:  0.0\n",
            "Number of hits:  0\n",
            "Total Num of users:  508\n",
            "Recommendation HitRate:  0.0\n",
            "Number of hits:  0\n",
            "Total Num of users:  612\n",
            "Recommendation HitRate:  0.0\n",
            "Number of hits:  0\n",
            "Total Num of users:  599\n",
            "Recommendation HitRate:  0.0\n",
            "Number of hits:  1\n",
            "Total Num of users:  536\n",
            "Recommendation HitRate:  0.0018656716417910447\n",
            "Number of hits:  0\n",
            "Total Num of users:  425\n",
            "Recommendation HitRate:  0.0\n",
            "Average HitRate for All Recommendations:  0.0008417728307575569\n"
          ],
          "name": "stdout"
        }
      ]
    },
    {
      "cell_type": "markdown",
      "metadata": {
        "id": "MW99Iud2F_YV"
      },
      "source": [
        "## MRR"
      ]
    },
    {
      "cell_type": "code",
      "metadata": {
        "id": "fZ4JWheEs-bK",
        "outputId": "013e256b-5606-41a8-f359-22374811ea8b"
      },
      "source": [
        "RRec_AllStepsMRR, RRec_LowB, RRec_Avg_MRR, RRec_UppB = getAll_RandomRecMRR(newHOLDOUTDF_LIST,All_UsersRRecPred,'Updated_UserID','Updated_ItemID')\n",
        "RRec_AllStepsMRR"
      ],
      "execution_count": null,
      "outputs": [
        {
          "output_type": "stream",
          "text": [
            "10it [00:00, 252.23it/s]\n"
          ],
          "name": "stderr"
        },
        {
          "output_type": "execute_result",
          "data": {
            "text/plain": [
              "[0, 0.00077, 0.00043, 0.000299, 0, 0, 0, 0, 0.000187, 0]"
            ]
          },
          "metadata": {
            "tags": []
          },
          "execution_count": 200
        }
      ]
    },
    {
      "cell_type": "markdown",
      "metadata": {
        "id": "4udAsr7rGBqN"
      },
      "source": [
        "## Coverage"
      ]
    },
    {
      "cell_type": "code",
      "metadata": {
        "id": "QFhwGZK6s-bL",
        "outputId": "3c148916-465e-4807-99a3-61420c83d321"
      },
      "source": [
        "##COVERAGE\n",
        "RRec_AvgCoverageList = AllSteps_Coverage_Ratio(newAMZB_DF,All_UsersRRecPred,'Updated_ItemID')\n",
        "RRec_AvgCoverageList"
      ],
      "execution_count": null,
      "outputs": [
        {
          "output_type": "execute_result",
          "data": {
            "text/plain": [
              "[1.0, 1.0, 1.0, 1.0, 1.0, 1.0, 1.0, 1.0, 1.0, 1.0]"
            ]
          },
          "metadata": {
            "tags": []
          },
          "execution_count": 201
        }
      ]
    },
    {
      "cell_type": "markdown",
      "metadata": {
        "id": "HM_jXRGjGG1L"
      },
      "source": [
        "## Stability"
      ]
    },
    {
      "cell_type": "code",
      "metadata": {
        "id": "Kr-L9Jgws-bL",
        "outputId": "49a6a8eb-f4f2-4d13-f659-2da88bc3c34f"
      },
      "source": [
        "#Stability: \n",
        "AllSteps = list(range(1,10))\n",
        "print(len(AllSteps))\n",
        "AllSteps  "
      ],
      "execution_count": null,
      "outputs": [
        {
          "output_type": "stream",
          "text": [
            "9\n"
          ],
          "name": "stdout"
        },
        {
          "output_type": "execute_result",
          "data": {
            "text/plain": [
              "[1, 2, 3, 4, 5, 6, 7, 8, 9]"
            ]
          },
          "metadata": {
            "tags": []
          },
          "execution_count": 202
        }
      ]
    },
    {
      "cell_type": "code",
      "metadata": {
        "id": "BZQyYHWus-bX",
        "outputId": "15caa792-35a4-4d55-96c7-cf8212b02d78"
      },
      "source": [
        "RandRec_Corr = Updt_getAll_AvgCorr(All_UsersRRecPred,newUserItem_list,AllSteps,'Updated_UserID')  #,\n",
        "RandRec_Corr"
      ],
      "execution_count": null,
      "outputs": [
        {
          "output_type": "execute_result",
          "data": {
            "text/plain": [
              "array([array([0., 0., 0., ..., 0., 0., 0.]),\n",
              "       array([0., 0., 0., ..., 0., 0., 0.]),\n",
              "       array([0., 0., 0., ..., 0., 0., 0.]),\n",
              "       array([0., 0., 0., ..., 0., 0., 0.]),\n",
              "       array([0., 0., 0., ..., 0., 0., 0.]),\n",
              "       array([0., 0., 0., ..., 0., 0., 0.]),\n",
              "       array([0.        , 0.02499653, 0.        , ..., 0.        , 0.        ,\n",
              "              0.        ])                                                    ,\n",
              "       array([0., 0., 0., ..., 0., 0., 0.]),\n",
              "       array([0., 0., 0., ..., 0., 0., 0.])], dtype=object)"
            ]
          },
          "metadata": {
            "tags": []
          },
          "execution_count": 203
        }
      ]
    },
    {
      "cell_type": "code",
      "metadata": {
        "id": "Cy6-6io6s-bX",
        "outputId": "29916fd5-48eb-409a-cb63-b18d74a61c0d"
      },
      "source": [
        "RandRec_Corr.shape\n",
        "for df in RandRec_Corr:\n",
        "    print(df.mean())  "
      ],
      "execution_count": null,
      "outputs": [
        {
          "output_type": "stream",
          "text": [
            "0.00034168174161810095\n",
            "0.00041356184035532147\n",
            "0.00037166892182754195\n",
            "0.00036455975507635895\n",
            "0.00034647512586037757\n",
            "0.00039221420296906695\n",
            "0.000405889395615047\n",
            "0.0003310416333331755\n",
            "0.0003389459917360753\n"
          ],
          "name": "stdout"
        }
      ]
    },
    {
      "cell_type": "code",
      "metadata": {
        "id": "CsquCeT4s-bY"
      },
      "source": [
        ""
      ],
      "execution_count": null,
      "outputs": []
    },
    {
      "cell_type": "markdown",
      "metadata": {
        "id": "XTkVUSBi4sgE"
      },
      "source": [
        "# Most Pop Rec"
      ]
    },
    {
      "cell_type": "markdown",
      "metadata": {
        "id": "GYmS72aKG5q_"
      },
      "source": [
        "## AllUsers Pred"
      ]
    },
    {
      "cell_type": "code",
      "metadata": {
        "id": "JvZw38Ubs-ba",
        "outputId": "f6ad6896-d0ea-47da-951f-2450317ea170"
      },
      "source": [
        "Nusers = newAMZB_DF['Updated_UserID'].nunique() \n",
        "Nusers   "
      ],
      "execution_count": null,
      "outputs": [
        {
          "output_type": "execute_result",
          "data": {
            "text/plain": [
              "22557"
            ]
          },
          "metadata": {
            "tags": []
          },
          "execution_count": 20
        }
      ]
    },
    {
      "cell_type": "code",
      "metadata": {
        "id": "v_p9l3bSs-ba",
        "outputId": "a80e08d8-1bcd-4074-ca3b-f32866f936cf"
      },
      "source": [
        "                      #getAll_MOSTPOP_Pred(DF_list,user_column,item_colum,Nusers,N\n",
        "All_MostPOPRED_List =  getAll_MOSTPOP_Pred(newUserItem_list,'Updated_UserID','Updated_ItemID',Nusers,N=10)\n",
        "All_MostPOPRED_List[:2]"
      ],
      "execution_count": null,
      "outputs": [
        {
          "output_type": "execute_result",
          "data": {
            "text/plain": [
              "[array([[ 67,  74, 239, ..., 107, 251, 319],\n",
              "        [ 67,  74, 239, ..., 107, 251, 319],\n",
              "        [ 67,  74, 239, ..., 107, 251, 319],\n",
              "        ...,\n",
              "        [ 67,  74, 239, ..., 107, 251, 319],\n",
              "        [ 67,  74, 239, ..., 107, 251, 319],\n",
              "        [ 67,  74, 239, ..., 107, 251, 319]]),\n",
              " array([[ 67,  74, 239, ..., 106, 251, 319],\n",
              "        [ 67,  74, 239, ..., 106, 251, 319],\n",
              "        [ 67,  74, 239, ..., 106, 251, 319],\n",
              "        ...,\n",
              "        [ 67,  74, 239, ..., 106, 251, 319],\n",
              "        [ 67,  74, 239, ..., 106, 251, 319],\n",
              "        [ 67,  74, 239, ..., 106, 251, 319]])]"
            ]
          },
          "metadata": {
            "tags": []
          },
          "execution_count": 22
        }
      ]
    },
    {
      "cell_type": "code",
      "metadata": {
        "colab": {
          "base_uri": "https://localhost:8080/"
        },
        "id": "dwtyYptbxT1n",
        "outputId": "79b08aa3-3f9e-40e7-a037-7bbec7b343a1"
      },
      "source": [
        "All_MostPOPRED_List[1].shape"
      ],
      "execution_count": null,
      "outputs": [
        {
          "output_type": "execute_result",
          "data": {
            "text/plain": [
              "(22557, 10)"
            ]
          },
          "metadata": {
            "tags": []
          },
          "execution_count": 23
        }
      ]
    },
    {
      "cell_type": "code",
      "metadata": {
        "id": "cpMzjabgs-bb"
      },
      "source": [
        "with open('/mnt/bulky/oolaleke/TDM_Dataset/AMZ_Btyfiles/AMZB_MostPop_AllPRED.pkl', 'wb') as f:  /mnt/bulky/oolaleke/TDM_Dataset/ML_1M/MLDF1M_MPop_allPRED.pkl\n",
        "     pickle.dump(All_MostPOPRED_List, f)\n"
      ],
      "execution_count": null,
      "outputs": []
    },
    {
      "cell_type": "code",
      "metadata": {
        "id": "KiixwnrQG_KC"
      },
      "source": [
        ""
      ],
      "execution_count": null,
      "outputs": []
    },
    {
      "cell_type": "markdown",
      "metadata": {
        "id": "tBAlT6SNG_0d"
      },
      "source": [
        "## HitRate"
      ]
    },
    {
      "cell_type": "code",
      "metadata": {
        "colab": {
          "base_uri": "https://localhost:8080/"
        },
        "id": "pzPaCjrsUvFa",
        "outputId": "b7ffccf3-91fc-459b-dd5e-4d8322459502"
      },
      "source": [
        "AllSteps_Hitrate, LowerBand, Avg_HitRate, UpperBand  = getAll_MostPOPHitRate(newHoldout_list,All_MostPOPRED_List,'Updated_UserID','Updated_ItemID')"
      ],
      "execution_count": null,
      "outputs": [
        {
          "output_type": "stream",
          "text": [
            "Number of hits:  72\n",
            "Total Num of users:  474\n",
            "Recommendation HitRate:  0.1518987341772152\n",
            "Number of hits:  89\n",
            "Total Num of users:  433\n",
            "Recommendation HitRate:  0.20554272517321015\n",
            "Number of hits:  89\n",
            "Total Num of users:  465\n",
            "Recommendation HitRate:  0.1913978494623656\n",
            "Number of hits:  87\n",
            "Total Num of users:  478\n",
            "Recommendation HitRate:  0.18200836820083682\n",
            "Number of hits:  67\n",
            "Total Num of users:  478\n",
            "Recommendation HitRate:  0.1401673640167364\n",
            "Number of hits:  74\n",
            "Total Num of users:  508\n",
            "Recommendation HitRate:  0.14566929133858267\n",
            "Number of hits:  38\n",
            "Total Num of users:  612\n",
            "Recommendation HitRate:  0.06209150326797386\n",
            "Number of hits:  114\n",
            "Total Num of users:  599\n",
            "Recommendation HitRate:  0.19031719532554256\n",
            "Number of hits:  102\n",
            "Total Num of users:  536\n",
            "Recommendation HitRate:  0.19029850746268656\n",
            "Number of hits:  60\n",
            "Total Num of users:  425\n",
            "Recommendation HitRate:  0.1411764705882353\n",
            "Average HitRate for All Recommendations:  0.16005680090133853\n"
          ],
          "name": "stdout"
        }
      ]
    },
    {
      "cell_type": "code",
      "metadata": {
        "id": "dWHkvrYKs-bc",
        "outputId": "87f4ad76-1660-4b64-ec91-a246ddce14a3"
      },
      "source": [
        "AllSteps_Hitrate ##Mpop with newUserItem list "
      ],
      "execution_count": null,
      "outputs": [
        {
          "output_type": "execute_result",
          "data": {
            "text/plain": [
              "[0.1518987341772152,\n",
              " 0.20554272517321015,\n",
              " 0.1913978494623656,\n",
              " 0.18200836820083682,\n",
              " 0.1401673640167364,\n",
              " 0.14566929133858267,\n",
              " 0.06209150326797386,\n",
              " 0.19031719532554256,\n",
              " 0.19029850746268656,\n",
              " 0.1411764705882353]"
            ]
          },
          "metadata": {
            "tags": []
          },
          "execution_count": 28
        }
      ]
    },
    {
      "cell_type": "markdown",
      "metadata": {
        "id": "4Q8r8IH1HGjL"
      },
      "source": [
        "## MRR"
      ]
    },
    {
      "cell_type": "code",
      "metadata": {
        "id": "oJLdX3Sns-bd",
        "outputId": "c88a349f-c34d-4327-80aa-aecb305bbba8"
      },
      "source": [
        "#MRR....                              \n",
        "Mpop_AllStepsMRR, Mpop_LowB, Mpop_AvgMRR, Mpop_UppB = getAll_MostPOP_MRR(newHoldout_list,All_MostPOPRED_List,'Updated_UserID','Updated_ItemID')\n",
        "Mpop_AllStepsMRR   ##Mpop with newUserItem list"
      ],
      "execution_count": null,
      "outputs": [
        {
          "output_type": "stream",
          "text": [
            "10it [00:00, 970.43it/s]\n"
          ],
          "name": "stderr"
        },
        {
          "output_type": "execute_result",
          "data": {
            "text/plain": [
              "[0.06648918357779118,\n",
              " 0.0883866710656549,\n",
              " 0.08514763611537805,\n",
              " 0.07598044099090125,\n",
              " 0.0593428305771402,\n",
              " 0.06167744656917885,\n",
              " 0.02786531279178338,\n",
              " 0.057431698333200845,\n",
              " 0.06239561122956646,\n",
              " 0.03582446311858077]"
            ]
          },
          "metadata": {
            "tags": []
          },
          "execution_count": 29
        }
      ]
    },
    {
      "cell_type": "markdown",
      "metadata": {
        "id": "d3UX1bM-HGjO"
      },
      "source": [
        "## Coverage"
      ]
    },
    {
      "cell_type": "code",
      "metadata": {
        "id": "nn-T56has-be",
        "outputId": "005828a2-ef7d-4586-84d0-e28bd426465a"
      },
      "source": [
        "##COVERAGE\n",
        "MPop_AvgCoverageList = AllSteps_Coverage_Ratio(newAMZB_DF,All_MostPOPRED_List,'Updated_ItemID')\n",
        "MPop_AvgCoverageList  ##Mpop with newUserItem list"
      ],
      "execution_count": null,
      "outputs": [
        {
          "output_type": "execute_result",
          "data": {
            "text/plain": [
              "[0.001233,\n",
              " 0.001233,\n",
              " 0.001233,\n",
              " 0.001233,\n",
              " 0.001233,\n",
              " 0.001233,\n",
              " 0.001233,\n",
              " 0.001233,\n",
              " 0.001233,\n",
              " 0.001233]"
            ]
          },
          "metadata": {
            "tags": []
          },
          "execution_count": 30
        }
      ]
    },
    {
      "cell_type": "code",
      "metadata": {
        "id": "gW_f28iiHKWO"
      },
      "source": [
        ""
      ],
      "execution_count": null,
      "outputs": []
    },
    {
      "cell_type": "markdown",
      "metadata": {
        "id": "njlHvs-FHGjP"
      },
      "source": [
        "## Stability"
      ]
    },
    {
      "cell_type": "code",
      "metadata": {
        "colab": {
          "base_uri": "https://localhost:8080/"
        },
        "id": "CbzcieIu7oCt",
        "outputId": "5c7ee35e-baa8-4a5a-efbf-2f07298adec1"
      },
      "source": [
        "# #Stability: \n",
        "AllSteps = list(range(1,10))\n",
        "MPop_Corr = Updt_getAll_AvgCorr(All_MostPOPRED_List,newUserItem_list,AllSteps,'Updated_UserID')  #,\n",
        "MPop_Corr"
      ],
      "execution_count": null,
      "outputs": [
        {
          "output_type": "execute_result",
          "data": {
            "text/plain": [
              "array([array([0.96564581, 0.96564581, 0.96564581, ..., 0.96564581, 0.96564581,\n",
              "              0.96564581])                                                    ,\n",
              "       array([1., 1., 1., ..., 1., 1., 1.]),\n",
              "       array([0.96564581, 0.96564581, 0.96564581, ..., 0.96564581, 0.96564581,\n",
              "              0.96564581])                                                    ,\n",
              "       array([0.98788042, 0.98788042, 0.98788042, ..., 0.98788042, 0.98788042,\n",
              "              0.98788042])                                                    ,\n",
              "       array([1., 1., 1., ..., 1., 1., 1.]),\n",
              "       array([1., 1., 1., ..., 1., 1., 1.]),\n",
              "       array([0.93397092, 0.93397092, 0.93397092, ..., 0.93397092, 0.93397092,\n",
              "              0.93397092])                                                    ,\n",
              "       array([0.9711577, 0.9711577, 0.9711577, ..., 0.9711577, 0.9711577,\n",
              "              0.9711577])                                                ,\n",
              "       array([0.90600387, 0.90600387, 0.90600387, ..., 0.90600387, 0.90600387,\n",
              "              0.90600387])                                                    ],\n",
              "      dtype=object)"
            ]
          },
          "metadata": {
            "tags": []
          },
          "execution_count": 32
        }
      ]
    },
    {
      "cell_type": "code",
      "metadata": {
        "id": "7yecZPScs-bg",
        "outputId": "a4793930-b632-46b4-b110-733a82b04fda"
      },
      "source": [
        "MPop_Corr.shape\n",
        "for df in MPop_Corr:\n",
        "    print(df.mean())  ##Mpop with newUserItem list"
      ],
      "execution_count": null,
      "outputs": [
        {
          "output_type": "stream",
          "text": [
            "0.9656458055925435\n",
            "1.0\n",
            "0.9656458055925436\n",
            "0.9878804201454352\n",
            "1.0\n",
            "1.0\n",
            "0.9339709157605134\n",
            "0.9711576979570039\n",
            "0.906003873466753\n"
          ],
          "name": "stdout"
        }
      ]
    },
    {
      "cell_type": "code",
      "metadata": {
        "id": "OjiB5g8_s-bh"
      },
      "source": [
        ""
      ],
      "execution_count": null,
      "outputs": []
    }
  ]
}