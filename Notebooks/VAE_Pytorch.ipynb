{
  "cells": [
    {
      "cell_type": "code",
      "execution_count": null,
      "metadata": {
        "id": "v25EQf26hwia"
      },
      "outputs": [],
      "source": []
    },
    {
      "cell_type": "markdown",
      "metadata": {
        "id": "eRgN35bDrEzC"
      },
      "source": [
        "##Import"
      ]
    },
    {
      "cell_type": "code",
      "execution_count": 2,
      "metadata": {},
      "outputs": [],
      "source": [
        "import os\n",
        "os.environ[\"OMP_NUM_THREADS\"] = \"8\"        # export OMP_NUM_THREADS=4\n",
        "os.environ[\"OPENBLAS_NUM_THREADS\"] = \"8\"   # export OPENBLAS_NUM_THREADS=4 \n",
        "os.environ[\"MKL_NUM_THREADS\"] = \"8\"        # export MKL_NUM_THREADS=6\n",
        "os.environ[\"VECLIB_MAXIMUM_THREADS\"] = \"8\" # export VECLIB_MAXIMUM_THREADS=4\n",
        "os.environ[\"NUMEXPR_NUM_THREADS\"] = \"8\""
      ]
    },
    {
      "cell_type": "code",
      "execution_count": 3,
      "metadata": {},
      "outputs": [],
      "source": [
        "import io\n",
        "import os\n",
        "import gzip\n",
        "import json\n",
        "import scipy\n",
        "import random\n",
        "import warnings\n",
        "import numpy as np\n",
        "#import numba as nb\n",
        "import pandas as pd\n",
        "import datetime as dt\n",
        "import seaborn as sns\n",
        "from tqdm import trange,tqdm\n",
        "import scipy.stats as st\n",
        "from collections import OrderedDict\n",
        "import scipy.sparse as sparse\n",
        "from scipy.linalg import orth\n",
        "import matplotlib.pyplot as plt\n",
        "from numpy import linalg as lin\n",
        "import implicit\n",
        "import pickle\n",
        "warnings.filterwarnings('ignore')\n",
        "from scipy.sparse import coo_matrix\n",
        "from scipy.sparse.linalg import svds\n",
        "from datetime import datetime as dt_dt\n",
        "from scipy.sparse.linalg import spsolve\n",
        "from numpy.linalg import qr as QR_decomp\n",
        "from scipy.sparse import csr_matrix, find\n",
        "from pandas.api.types import CategoricalDtype\n",
        "from typing import List\n",
        "import torch\n",
        "import torch.nn.functional as F\n",
        "from torch import nn\n",
        "from polara.evaluation.pipelines import random_grid\n",
        "import bottleneck as bn\n",
        "from typing import List"
      ]
    },
    {
      "cell_type": "code",
      "execution_count": 4,
      "metadata": {
        "id": "rLdjLGPtrEaG"
      },
      "outputs": [],
      "source": [
        "import sys\n",
        "sys.path.append('/home/oolaleke/incremental_PSI/Scripts/')"
      ]
    },
    {
      "cell_type": "code",
      "execution_count": 5,
      "metadata": {
        "id": "afzO77lY5_WD"
      },
      "outputs": [],
      "source": [
        "import a_DataHelpers\n",
        "import b_AlgoFunctions\n",
        "import c_PredEval\n",
        "import d_CorrScores\n",
        "import e_VAEfunction"
      ]
    },
    {
      "cell_type": "code",
      "execution_count": 6,
      "metadata": {},
      "outputs": [],
      "source": [
        "from a_DataHelpers import getPivotMonths,Time_DataSplit,TestTrain_DataSplit,SingleRatingMatrix\n",
        "from a_DataHelpers import AllRatingMatrices,All_SingleStepRatMat,psiStep_RatMat,psiAllStep_RatMat\n",
        "from a_DataHelpers import Find_NewUsersItems,adjustedPSI_DF,adjustedAllDF,get_NEWHoldout,ADJUST_mainDF\n",
        "from a_DataHelpers import  SingleStepRatMat_2,AllSingleStepRatMat_2,SingleStep_RatMat\n",
        "\n",
        "from b_AlgoFunctions import integrator,getStartingValues,integratorOnMat,last_psiTrainMat, pureSVD\n",
        "from b_AlgoFunctions import Updt_RowMatrix,getRow_Mat,row_update, Updt_ColMatrix,getCol_Mat,colunm_update\n",
        "from b_AlgoFunctions import UsersItems_RatPair,getRowCol_psiupdt,ITEMS_defferredStatus,USERS_defferredStatus\n",
        "from b_AlgoFunctions import getV_listUpdate, SingleStep_UPDATE,ALLSTEPs_UPDATE\n",
        "from b_AlgoFunctions import tune_ALS,auc_score,TrainTest,mean_auc\n",
        "from b_AlgoFunctions import nonzeros,least_squares_cg,alternating_least_squares_cg\n",
        "\n",
        "\n",
        "from c_PredEval import TopNPred,TQDMgetALLTopNPred, Hitrate_Eval,getAll_HitRate,mean_confidence_interval\n",
        "from c_PredEval import TQDMgetALLTopNPred_ALLUSERS,getALLTopNPred_ALLUSERS,get_ALLRandPred\n",
        "from c_PredEval import topN_Index,getAll_RandomHitRate,getMOSTPOP_Pred,getAll_MostPOPHitRate,getAll_MOSTPOP_Pred\n",
        "from c_PredEval import StepCoverage_Ratio,AllSteps_Coverage_Ratio,getAll_VAEMRR\n",
        "from c_PredEval import MRR_Eval,getAll_MRR_Eval,TQDMgetAll_MRR_Eval, getAll_MostPOP_MRR,getAll_RandomRecMRR\n",
        "from c_PredEval import ials_TopNPred, ials_getALLPred, ials_getALLPredTQDM,ialsALLPred_ALLUSERS\n",
        "\n",
        "from d_CorrScores import no_copy_csr_matrix,build_rank_weights_matrix,rank_weighted_jaccard_index\n",
        "from d_CorrScores import Updt_getAll_AvgCorr, updtCorr_4AllRanks\n",
        "\n",
        "from e_VAEfunction import split_users, split_train_test, numerize_data, get_TrainRatMat, getTrainTest_RatMat"
      ]
    },
    {
      "cell_type": "markdown",
      "metadata": {
        "id": "rFRmLCS-jaLn"
      },
      "source": [
        "# Functions"
      ]
    },
    {
      "cell_type": "markdown",
      "metadata": {
        "id": "Kq7VUKhmJPxP"
      },
      "source": [
        "##Multi VAE Model"
      ]
    },
    {
      "cell_type": "code",
      "execution_count": 7,
      "metadata": {
        "id": "NNKxavME6Hgd"
      },
      "outputs": [],
      "source": [
        "class Encoder(nn.Module):\n",
        "    def __init__(self, q_dims, dropout):  ## q_dims: List[int], dropout: List[float]\n",
        "        super().__init__()\n",
        "\n",
        "        self.q_dims = q_dims\n",
        "        q_dims_ = self.q_dims[:-1] + [self.q_dims[-1] * 2]\n",
        "        self.q_layers = nn.Sequential()\n",
        "        for i, (p, inp, out) in enumerate(zip(dropout, q_dims_[:-1], q_dims_[1:])):\n",
        "            self.q_layers.add_module(\"_\".join([\"dropout\", str(i)]), nn.Dropout(p))\n",
        "            self.q_layers.add_module(\"_\".join([\"linear\", str(i)]), nn.Linear(inp, out))\n",
        "\n",
        "    def forward(self, X):\n",
        "        h = F.normalize(X, p=2, dim=1)\n",
        "        for i, layer in enumerate(self.q_layers):\n",
        "            h = layer(h)\n",
        "            if i != len(self.q_layers) - 1:\n",
        "                h = torch.tanh(h)\n",
        "            else:\n",
        "                mu, logvar = torch.split(h, self.q_dims[-1], dim=1)\n",
        "        return mu, logvar\n",
        "\n",
        "class Decoder(nn.Module):\n",
        "    def __init__(self, p_dims, dropout):  #p_dims: List[int], dropout: List[float]\n",
        "        super().__init__()\n",
        "\n",
        "        self.p_layers = nn.Sequential()\n",
        "        for i, (p, inp, out) in enumerate(zip(dropout, p_dims[:-1], p_dims[1:])):\n",
        "            self.p_layers.add_module(\"_\".join([\"dropout\", str(i)]), nn.Dropout(p))\n",
        "            self.p_layers.add_module(\"_\".join([\"linear\", str(i)]), nn.Linear(inp, out))\n",
        "\n",
        "    def forward(self, X):\n",
        "        h = X\n",
        "        for i, layer in enumerate(self.p_layers):\n",
        "            h = layer(h)\n",
        "            if i != len(self.p_layers) - 1:\n",
        "                h = torch.tanh(h)\n",
        "        return h\n",
        "\n",
        "\n",
        "class MultiVAE(nn.Module):\n",
        "    def __init__(self,p_dims,q_dims,dropout_enc,dropout_dec): #p_dims:List[int],q_dims:List[int],dropout_enc:List[float],dropout_dec:List[float], \n",
        "        super().__init__()\n",
        "        self.encode = Encoder(q_dims, dropout_enc)  #q_dims == Encoder dimensions\n",
        "        self.decode = Decoder(p_dims, dropout_dec)  #p_dims == Decoder dimensions\n",
        "\n",
        "    def forward(self, X):\n",
        "        mu, logvar = self.encode(X)\n",
        "        std = torch.exp(0.5 * logvar)\n",
        "        eps = torch.randn_like(std)\n",
        "        sampled_z = mu + float(self.training) * eps * std\n",
        "        return self.decode(sampled_z), mu, logvar        \n",
        "\n",
        "def init_weights(model):\n",
        "    for name, param in model.named_parameters():\n",
        "        if \"weight\" in name:\n",
        "            nn.init.xavier_uniform_(param.data)\n",
        "        elif \"bias\" in name:\n",
        "            param.data.normal_(std=0.001)\n",
        "  \n",
        "\n",
        "def getTot_annealSTeps(train_RatMat,batch_size,n_epochs,anneal_cap):\n",
        "    training_steps = len(range(0, train_RatMat.shape[0], batch_size))\n",
        "    try:\n",
        "       total_anneal_steps = (training_steps * (n_epochs - int(n_epochs * 0.2))) / anneal_cap  ##\n",
        "    except ZeroDivisionError:\n",
        "        assert (constant_anneal), \"if 'anneal_cap' is set to 0.0 'constant_anneal' must be set to 'True\"\n",
        "\n",
        "    return total_anneal_steps"
      ]
    },
    {
      "cell_type": "code",
      "execution_count": null,
      "metadata": {
        "id": "dv1CljAejDZg"
      },
      "outputs": [],
      "source": []
    },
    {
      "cell_type": "markdown",
      "metadata": {
        "id": "vlKEUnoFukDY"
      },
      "source": [
        "## Train and Eval"
      ]
    },
    {
      "cell_type": "code",
      "execution_count": 8,
      "metadata": {
        "id": "dehjN5mzrOKw"
      },
      "outputs": [],
      "source": [
        "def train_step(model, optimizer, data, epoch):\n",
        "    model.train()\n",
        "    running_loss = 0.0\n",
        "    global update_count\n",
        "    N = data.shape[0]\n",
        "    idxlist = list(range(N))\n",
        "    np.random.shuffle(idxlist)\n",
        "    training_steps = len(range(0, N, batch_size))   #training_steps\n",
        "    for batch_idx, start_idx in zip(range(training_steps), range(0, N, batch_size)):\n",
        "        end_idx = min(start_idx + batch_size, N)\n",
        "        X_inp = data[idxlist[start_idx:end_idx]]\n",
        "        X_inp = torch.FloatTensor(X_inp.toarray()).to(device)\n",
        "        if constant_anneal:\n",
        "            anneal = anneal_cap\n",
        "        else:\n",
        "            anneal = min(anneal_cap, update_count / total_anneal_steps)\n",
        "        update_count += 1\n",
        "        optimizer.zero_grad()\n",
        "        X_out, mu, logvar = model(X_inp)\n",
        "        loss = vae_loss_fn(X_inp, X_out, mu, logvar, anneal)\n",
        "        train_step.anneal = anneal\n",
        "        loss.backward()\n",
        "        optimizer.step()\n",
        "        running_loss += loss.item()\n",
        "        avg_loss = running_loss / (batch_idx + 1)\n",
        "        #t.set_postfix(loss=avg_loss)\n",
        "\n",
        "\n",
        "def eval_step(model,data_tr):\n",
        "    model.eval()\n",
        "    running_loss = 0.0\n",
        "    eval_idxlist = list(range(data_tr.shape[0]))\n",
        "    eval_N = data_tr.shape[0]\n",
        "    eval_steps = len(range(0, eval_N, batch_size))\n",
        "    n10_list,r10_list,hr10_list,mrr10_list = [], [], [], []\n",
        "    with torch.no_grad():\n",
        "         for batch_idx, start_idx in zip(range(eval_steps), range(0, eval_N, batch_size)):\n",
        "             end_idx = min(start_idx + batch_size, eval_N)\n",
        "             X_tr = data_tr[eval_idxlist[start_idx:end_idx]]\n",
        "             #X_te = data_te[eval_idxlist[start_idx:end_idx]]\n",
        "             X_tr_inp = torch.FloatTensor(X_tr.toarray()).to(device)\n",
        "\n",
        "             X_out, mu, logvar = model(X_tr_inp)\n",
        "             X_out = X_out.cpu().numpy()                           #X_out[X_tr.nonzero()] = -np.inf  \n",
        "               \n",
        "             n10 =  NDCG_binary_at_k_batch(X_out, X_tr, k=10)\n",
        "             r10 =  Recall_at_k_batch(X_out, X_tr, k=10)\n",
        "             hr10 =  HR_at_k_batch(X_out, X_tr.toarray(), k=10)     #X_tr.toarray() == groundTruth\n",
        "             mrr10 = MRR_at_k_batch(X_out, X_tr.toarray(), k=10)\n",
        "\n",
        "             n10_list.append(n10)\n",
        "             r10_list.append(r10)\n",
        "             hr10_list.append(hr10)\n",
        "             mrr10_list.append(mrr10)\n",
        "                \n",
        "    n10_list = np.concatenate(n10_list)\n",
        "    r10_list = np.concatenate(r10_list)\n",
        "    hr10_list = np.concatenate(hr10_list)\n",
        "    mrr10_list = np.concatenate(mrr10_list)\n",
        "    return np.mean(hr10_list), np.mean(mrr10_list),np.mean(r10_list), np.mean(n10_list)\n",
        "\n"
      ]
    },
    {
      "cell_type": "code",
      "execution_count": null,
      "metadata": {
        "id": "0sEyju9Lkml8"
      },
      "outputs": [],
      "source": []
    },
    {
      "cell_type": "markdown",
      "metadata": {
        "id": "X4D9FMfQAypj"
      },
      "source": [
        "## Loss & Metric"
      ]
    },
    {
      "cell_type": "code",
      "execution_count": 9,
      "metadata": {
        "id": "ri9P3J1xrHub"
      },
      "outputs": [],
      "source": [
        "def vae_loss_fn(inp, out, mu, logvar, anneal):\n",
        "    neg_ll = -torch.mean(torch.sum(F.log_softmax(out, 1) * inp, -1))\n",
        "    KLD = -0.5 * torch.mean(torch.sum(1 + logvar - mu.pow(2) - logvar.exp(), dim=1))\n",
        "    return neg_ll + anneal * KLD\n"
      ]
    },
    {
      "cell_type": "code",
      "execution_count": 10,
      "metadata": {
        "id": "ToDKIvJ1n8LJ"
      },
      "outputs": [],
      "source": [
        "def topN_Index(a, n):\n",
        "    parted = np.argpartition(a, -n)[-n:]\n",
        "    return parted[np.argsort(-a[parted])]  \n",
        "\n",
        "\n",
        "def NDCG_binary_at_k_batch(X_pred, heldout_batch, k=10):  #Hello2021\n",
        "    batch_users = X_pred.shape[0]\n",
        "    idx_topk_part = bn.argpartition(-X_pred, k, axis=1)\n",
        "    topk_part = X_pred[np.arange(batch_users)[:, np.newaxis], idx_topk_part[:, :k]]\n",
        "    idx_part = np.argsort(-topk_part, axis=1)\n",
        "    idx_topk = idx_topk_part[np.arange(batch_users)[:, np.newaxis], idx_part]\n",
        "\n",
        "    # build the discount template\n",
        "    tp = 1.0 / np.log2(np.arange(2, k + 2))\n",
        "    DCG = (heldout_batch[np.arange(batch_users)[:, np.newaxis], idx_topk].toarray() * tp).sum(axis=1)\n",
        "    IDCG = np.array([(tp[: min(n, k)]).sum() for n in heldout_batch.getnnz(axis=1)])\n",
        "    return DCG[IDCG > 0.0] / IDCG[IDCG > 0.0]\n",
        "\n",
        "\n",
        "def Recall_at_k_batch(X_pred, heldout_batch, k=10):\n",
        "    batch_users = X_pred.shape[0]\n",
        "    \n",
        "    idx = bn.argpartition(-X_pred, k, axis=1)\n",
        "    X_pred_binary = np.zeros_like(X_pred, dtype=bool)\n",
        "    X_pred_binary[np.arange(batch_users)[:, np.newaxis], idx[:, :k]] = True\n",
        "\n",
        "    X_true_binary = (heldout_batch > 0).toarray()\n",
        "    tmp = (np.logical_and(X_true_binary, X_pred_binary).sum(axis=1)).astype(np.float32)\n",
        "    denominator = np.minimum(k, X_true_binary.sum(axis=1))\n",
        "    recall = tmp[denominator > 0.0] / denominator[denominator > 0.0]\n",
        "    return recall\n",
        "\n",
        "def HR_at_k_batch(pred_scores, ground_truth, k=10):  #\"pred_scores' and 'ground_truth' must have the same shape.\"\n",
        "    k = min(pred_scores.shape[1], k)\n",
        "    idx = bn.argpartition(-pred_scores, k-1, axis=1)\n",
        "    pred_scores_binary = np.zeros_like(pred_scores, dtype=bool)\n",
        "    pred_scores_binary[np.arange(pred_scores.shape[0])[:, np.newaxis], idx[:, :k]] = True\n",
        "    X_true_binary = (ground_truth > 0)\n",
        "    num = (np.logical_and(X_true_binary, pred_scores_binary).sum(axis=1)).astype(np.float32)\n",
        "    return num > 0\n",
        "   \n",
        "def MRR_at_k_batch(pred_scores, ground_truth, k=10):  #'pred_scores' and 'ground_truth' must have the same shape\n",
        "       #Compute the Mean Reciprocal Rank (MRR)             \n",
        "    k = min(pred_scores.shape[1], k)\n",
        "    idx = np.argsort(-pred_scores)\n",
        "    hits = ground_truth[np.arange(ground_truth.shape[0])[:, np.newaxis], idx[:, :k]]\n",
        "    rranks, cranks = hits.nonzero()\n",
        "\n",
        "    mrr = [0. for _ in range(ground_truth.shape[0])]\n",
        "    for i, r in enumerate(rranks):\n",
        "        if mrr[r] == 0:\n",
        "           mrr[r] = 1. / (1 + cranks[i])\n",
        "\n",
        "    return np.array(mrr)\n"
      ]
    },
    {
      "cell_type": "markdown",
      "metadata": {
        "id": "eH5zOX38rNxS"
      },
      "source": [
        "## Get Pred & Metrics"
      ]
    },
    {
      "cell_type": "code",
      "execution_count": 11,
      "metadata": {
        "id": "wA64SqSgo6Lp"
      },
      "outputs": [],
      "source": [
        "##Generate Prediction list:\n",
        "def topN_Index(a, n):\n",
        "    parted = np.argpartition(a, -n)[-n:]\n",
        "    return parted[np.argsort(-a[parted])]  \n",
        "\n",
        "   #getmetrics_(model_,holdout_Mat,holdout_df,batch_size=holdout_Mat.shape[0],k)\n",
        "def getmetrics_(model,data_tr,holdout_df,k=10):\n",
        "    model.eval()\n",
        "    running_loss = 0.0\n",
        "    eval_idxlist = list(range(data_tr.shape[0]))\n",
        "    eval_N = data_tr.shape[0]\n",
        "    eval_steps = len(range(0, eval_N, batch_size))\n",
        "    n100_list, hr10_list, mrr10_list = [], [], []\n",
        "    users_pred = []\n",
        "    with torch.no_grad():\n",
        "         for batch_idx, start_idx in zip(range(eval_steps), range(0, eval_N, batch_size)):\n",
        "             end_idx = min(start_idx + batch_size, eval_N)\n",
        "             X_tr = data_tr[eval_idxlist[start_idx:end_idx]]\n",
        "             X_tr_inp = torch.FloatTensor(X_tr.toarray()).to(device)\n",
        "             #Make pred:    \n",
        "             X_out, mu, logvar = model(X_tr_inp)\n",
        "             X_out = X_out.cpu().numpy() \n",
        "             X_out[X_tr.nonzero()] = -np.inf        \n",
        "             topN_pred = np.apply_along_axis(topN_Index, 1, X_out,n = 10)     \n",
        "             users_pred.append(topN_pred)        \n",
        "         AllUserPRED = np.vstack(users_pred)\n",
        "  \n",
        "    test_users = holdout_df['Updated_UserID'].unique()\n",
        "    TestUserPRED =  AllUserPRED[test_users,:]    \n",
        "    hr_value = Hitrate_Eval(holdout_df,TestUserPRED,'Updated_UserID','Updated_ItemID')   \n",
        "    mrr_value = MRR_Eval(holdout_df,TestUserPRED,'Updated_ItemID') \n",
        "      \n",
        "    return AllUserPRED, hr_value, mrr_value \n"
      ]
    },
    {
      "cell_type": "code",
      "execution_count": null,
      "metadata": {},
      "outputs": [],
      "source": []
    },
    {
      "cell_type": "code",
      "execution_count": 12,
      "metadata": {},
      "outputs": [],
      "source": [
        "##Tuning......\n",
        "def HitrateEval_(Holdout,TopN_pred,user_column,item_column):\n",
        "    Eval_itemsVector  =  Holdout[[item_column]].to_numpy()\n",
        "    HitRate_arr   =  (TopN_pred == Eval_itemsVector).sum(axis=1)  ##sum along row...\n",
        "    HitCount = np.count_nonzero(HitRate_arr == 1)\n",
        "    HitRate_ = HitRate_arr.mean()\n",
        "    return HitRate_\n",
        "\n",
        "def getEvalmetrics_(model,data_tr,holdout_df,k=10):\n",
        "    model.eval()\n",
        "    running_loss = 0.0\n",
        "    eval_idxlist = list(range(data_tr.shape[0]))\n",
        "    eval_N = data_tr.shape[0]\n",
        "    eval_steps = len(range(0, eval_N, batch_size))\n",
        "    hr10_list, mrr10_list = [], []\n",
        "    users_pred = []\n",
        "    with torch.no_grad():\n",
        "         for batch_idx, start_idx in zip(range(eval_steps), range(0, eval_N, batch_size)):\n",
        "             end_idx = min(start_idx + batch_size, eval_N)\n",
        "             X_tr = data_tr[eval_idxlist[start_idx:end_idx]]\n",
        "             X_tr_inp = torch.FloatTensor(X_tr.toarray()).to(device)\n",
        "             #Make pred:    \n",
        "             X_out, mu, logvar = model(X_tr_inp)\n",
        "             X_out = X_out.cpu().numpy() \n",
        "             X_out[X_tr.nonzero()] = -np.inf        \n",
        "             topN_pred = np.apply_along_axis(topN_Index, 1, X_out,n = 10)     \n",
        "             users_pred.append(topN_pred)        \n",
        "         AllUserPRED = np.vstack(users_pred)\n",
        "  \n",
        "    test_users = holdout_df['Updated_UserID'].unique()\n",
        "    TestUserPRED =  AllUserPRED[test_users,:]    \n",
        "    hr_value  = HitrateEval_(holdout_df,TestUserPRED,'Updated_UserID','Updated_ItemID')   \n",
        "    mrr_value = MRR_Eval(holdout_df,TestUserPRED,'Updated_ItemID')      \n",
        "    return hr_value, mrr_value \n",
        "\n",
        "def getModel(train_Mat,lr_):\n",
        "    I =  train_Mat.shape[1] \n",
        "    q_dims = [I] + [600, 200]\n",
        "    p_dims = [200, 600] + [I]\n",
        "    dropout_enc = [0.5, 0.]\n",
        "    dropout_dec = [0., 0.]\n",
        "\n",
        "    VAEmodel = MultiVAE(p_dims,q_dims,dropout_enc,dropout_dec)\n",
        "    init_weights(VAEmodel)\n",
        "    VAEmodel.to(device)\n",
        "    optimizer = torch.optim.AdamW(VAEmodel.parameters(), lr=lr_, weight_decay=0.0)  \n",
        "    return VAEmodel, optimizer   \n",
        "\n",
        "\n",
        "def tuning_model(train_Mat,holdout_df,als_param_grid):\n",
        "    best_hr = -np.inf  \n",
        "    for i in trange(len(als_param_grid)): \n",
        "        batch_size, lr, n_epochs = list(als_param_grid)[i]  \n",
        "        model, optimizer = getModel(train_Mat,lr)\n",
        "        total_anneal_steps = getTot_annealSTeps(train_Mat,batch_size,n_epochs,anneal_cap)\n",
        "        for epoch in range(n_epochs):\n",
        "            train_step(model, optimizer, train_Mat, epoch)\n",
        "\n",
        "        hr_, mrr_ = getEvalmetrics_(model,train_Mat,holdout_df,k=10)\n",
        "        print('\\n BS_ = {} | lr_ = {} | n_epoch = {}| HR = {} | MRR = {} '.format(batch_size, lr, n_epochs, hr_, mrr_))\n",
        "        if (hr_ > best_hr):\n",
        "           best_BS  = batch_size\n",
        "           best_lr = lr\n",
        "           best_epoch = n_epochs\n",
        "           best_hr = hr_\n",
        "           best_mrr = mrr_\n",
        "               \n",
        "    print('\\n Best_param; BS_ = {} | lr_ = {} | n_epoch = {} | HR = {} | MRR = {}'.format(best_BS,best_lr,best_epoch,best_hr,best_mrr))\n",
        "    return best_BS,best_lr,best_epoch,best_hr,best_mrr\n",
        "               "
      ]
    },
    {
      "cell_type": "code",
      "execution_count": 35,
      "metadata": {},
      "outputs": [],
      "source": [
        "def getVAEModel(train_Mat,lr_,p_dims):\n",
        "    I =  train_Mat.shape[1] \n",
        "    q_Dims = [I] + p_dims[::-1]\n",
        "    P_Dims = p_dims + [I]\n",
        "    dropout_enc = [0.5, 0.]\n",
        "    dropout_dec = [0., 0]\n",
        "\n",
        "    VAEmodel = MultiVAE(P_Dims,q_Dims,dropout_enc,dropout_dec)\n",
        "    init_weights(VAEmodel)\n",
        "    VAEmodel.to(device)\n",
        "    optimizer = torch.optim.AdamW(VAEmodel.parameters(), lr=lr_, weight_decay=0.0) \n",
        "    return VAEmodel, optimizer\n",
        "\n",
        "\n",
        "def tuning_dim(train_Mat,holdout_df,pdim_list,lr,batch_size,n_epochs):\n",
        "    best_hr = -np.inf  \n",
        "    for p_dims in tqdm(pdim_list): \n",
        "        model, optimizer = getVAEModel(train_Mat,lr,p_dims)\n",
        "        total_anneal_steps = getTot_annealSTeps(train_Mat,batch_size,n_epochs,anneal_cap)\n",
        "        for epoch in range(n_epochs):\n",
        "            train_step(model, optimizer, train_Mat, epoch)\n",
        "\n",
        "        hr_, mrr_ = getEvalmetrics_(model,train_Mat,holdout_df,k=10)\n",
        "        print('\\n p_dim = {} ,HR = {} , MRR = {} '.format(p_dims,hr_,mrr_))\n",
        "        if (hr_ > best_hr):\n",
        "           best_hr = hr_\n",
        "           best_mrr = mrr_\n",
        "           best_dims = p_dims\n",
        "               \n",
        "    print('\\n Best_param; p_dim = {},HR = {} ,MRR = {}'.format(best_dims,best_hr,best_mrr))\n",
        "    return best_dims,best_hr,best_mrr\n",
        "               "
      ]
    },
    {
      "cell_type": "code",
      "execution_count": 36,
      "metadata": {},
      "outputs": [],
      "source": [
        "def singlestep_predEval(model,UserItemMat,holdout_df,n_epoch):\n",
        "    for epoch in range(n_epoch):\n",
        "        train_step(model, optimizer, UserItemMat, epoch)\n",
        "  \n",
        "    allUsersPRED, hr10,mrr10 = getmetrics_(model,UserItemMat,holdout_df,k=10) \n",
        "    return allUsersPRED, hr10 ,mrr10\n",
        "\n",
        "def Allsteps_predEval(model,UserItemMatList,holdout_DFList,n_epoch):   \n",
        "    hr10_List = [] \n",
        "    mrr10_List = [] \n",
        "    ALLUsers_Pred = []\n",
        "    for UserItemMat,holdout_df in tqdm(zip(UserItemMatList,holdout_DFList)):\n",
        "        allUsersPRED, hr10 ,mrr10= singlestep_predEval(model,UserItemMat,holdout_df,n_epoch)\n",
        "        hr10_List.append(hr10)   \n",
        "        mrr10_List.append(mrr10)\n",
        "        ALLUsers_Pred.append(allUsersPRED)\n",
        "        print(\"| HitRate  {:4.3f} | Mrr {:4.3f} | \".format(hr10, mrr10))  \n",
        "    return hr10_List,mrr10_List ,ALLUsers_Pred "
      ]
    },
    {
      "cell_type": "code",
      "execution_count": 14,
      "metadata": {},
      "outputs": [
        {
          "output_type": "execute_result",
          "data": {
            "text/plain": [
              "device(type='cuda')"
            ]
          },
          "metadata": {},
          "execution_count": 14
        }
      ],
      "source": [
        "use_cuda = torch.cuda.is_available()\n",
        "device = torch.device(\"cuda\" if use_cuda else \"cpu\")\n",
        "device"
      ]
    },
    {
      "cell_type": "code",
      "execution_count": null,
      "metadata": {},
      "outputs": [],
      "source": []
    },
    {
      "cell_type": "markdown",
      "metadata": {
        "id": "kXiQr6PzlRPr"
      },
      "source": [
        "## Import Data || ML_20M"
      ]
    },
    {
      "cell_type": "code",
      "execution_count": 14,
      "metadata": {},
      "outputs": [
        {
          "output_type": "stream",
          "name": "stdout",
          "text": [
            "(9990682, 9)\n"
          ]
        },
        {
          "output_type": "execute_result",
          "data": {
            "text/plain": [
              "   userid  movieId  rating            timestamp timestamp_YM  userId  \\\n",
              "0   28507     1176       1  1995-01-09 11:46:44      1995-01       0   \n",
              "1  131160       47       1  1995-01-09 11:46:49      1995-01       1   \n",
              "2   85252       70       1  1996-01-29 00:00:00      1996-01       2   \n",
              "3  134445       45       1  1996-01-29 00:00:00      1996-01       3   \n",
              "4   99851       10       1  1996-01-29 00:00:00      1996-01       4   \n",
              "\n",
              "   productId  Updated_UserID  Updated_ItemID  \n",
              "0          0               0               0  \n",
              "1          1               1               1  \n",
              "2          2               2               2  \n",
              "3          3               3               3  \n",
              "4          4               4               4  "
            ],
            "text/html": "<div>\n<style scoped>\n    .dataframe tbody tr th:only-of-type {\n        vertical-align: middle;\n    }\n\n    .dataframe tbody tr th {\n        vertical-align: top;\n    }\n\n    .dataframe thead th {\n        text-align: right;\n    }\n</style>\n<table border=\"1\" class=\"dataframe\">\n  <thead>\n    <tr style=\"text-align: right;\">\n      <th></th>\n      <th>userid</th>\n      <th>movieId</th>\n      <th>rating</th>\n      <th>timestamp</th>\n      <th>timestamp_YM</th>\n      <th>userId</th>\n      <th>productId</th>\n      <th>Updated_UserID</th>\n      <th>Updated_ItemID</th>\n    </tr>\n  </thead>\n  <tbody>\n    <tr>\n      <th>0</th>\n      <td>28507</td>\n      <td>1176</td>\n      <td>1</td>\n      <td>1995-01-09 11:46:44</td>\n      <td>1995-01</td>\n      <td>0</td>\n      <td>0</td>\n      <td>0</td>\n      <td>0</td>\n    </tr>\n    <tr>\n      <th>1</th>\n      <td>131160</td>\n      <td>47</td>\n      <td>1</td>\n      <td>1995-01-09 11:46:49</td>\n      <td>1995-01</td>\n      <td>1</td>\n      <td>1</td>\n      <td>1</td>\n      <td>1</td>\n    </tr>\n    <tr>\n      <th>2</th>\n      <td>85252</td>\n      <td>70</td>\n      <td>1</td>\n      <td>1996-01-29 00:00:00</td>\n      <td>1996-01</td>\n      <td>2</td>\n      <td>2</td>\n      <td>2</td>\n      <td>2</td>\n    </tr>\n    <tr>\n      <th>3</th>\n      <td>134445</td>\n      <td>45</td>\n      <td>1</td>\n      <td>1996-01-29 00:00:00</td>\n      <td>1996-01</td>\n      <td>3</td>\n      <td>3</td>\n      <td>3</td>\n      <td>3</td>\n    </tr>\n    <tr>\n      <th>4</th>\n      <td>99851</td>\n      <td>10</td>\n      <td>1</td>\n      <td>1996-01-29 00:00:00</td>\n      <td>1996-01</td>\n      <td>4</td>\n      <td>4</td>\n      <td>4</td>\n      <td>4</td>\n    </tr>\n  </tbody>\n</table>\n</div>"
          },
          "metadata": {},
          "execution_count": 14
        }
      ],
      "source": [
        "#MOVIElen_20M\n",
        "newMLDF_20M = pd.read_csv('/mnt/bulky/oolaleke/TDM_Dataset/ML_20M/MLDF20M_afterUpdt.csv.zip')\n",
        "print(newMLDF_20M.shape) #userId_int\n",
        "newMLDF_20M.head()"
      ]
    },
    {
      "cell_type": "code",
      "execution_count": null,
      "metadata": {
        "id": "id5VrmNnlPnH"
      },
      "outputs": [],
      "source": []
    },
    {
      "cell_type": "code",
      "execution_count": 75,
      "metadata": {
        "id": "kx4JmzkFeZEM"
      },
      "outputs": [],
      "source": [
        "import pickle\n",
        "\n",
        "with open('/mnt/bulky/oolaleke/TDM_Dataset/ML_20M/MLDF20M_newHoldout.pkl', 'rb') as f:\n",
        "     newHoldout_list = pickle.load(f)\n",
        "    \n",
        "    \n",
        "with open('/mnt/bulky/oolaleke/TDM_Dataset/ML_20M/MLDF20M_newUserItem.pkl', 'rb') as f:\n",
        "     newUserItem_list = pickle.load(f)\n"
      ]
    },
    {
      "cell_type": "code",
      "execution_count": 16,
      "metadata": {},
      "outputs": [
        {
          "output_type": "stream",
          "name": "stdout",
          "text": [
            "122396\n122396\n\n15297\n15276\n"
          ]
        }
      ],
      "source": [
        "UserItem_1 = newUserItem_list[0]\n",
        "valid_1 = newHoldout_list[0]\n",
        "\n",
        "print(UserItem_1['Updated_UserID'].max())\n",
        "print(valid_1['Updated_UserID'].max())\n",
        "print()\n",
        "print(UserItem_1['Updated_ItemID'].max())\n",
        "print(valid_1['Updated_ItemID'].max())"
      ]
    },
    {
      "cell_type": "code",
      "execution_count": 17,
      "metadata": {},
      "outputs": [
        {
          "output_type": "execute_result",
          "data": {
            "text/plain": [
              "<122397x15298 sparse matrix of type '<class 'numpy.float64'>'\n",
              "\twith 8865107 stored elements in Compressed Sparse Row format>"
            ]
          },
          "metadata": {},
          "execution_count": 17
        }
      ],
      "source": [
        "row_i =  UserItem_1['Updated_UserID'].max()+1\n",
        "col_i =  UserItem_1['Updated_ItemID'].max()+1\n",
        "TrainDFRatMat_ =  SingleRatingMatrix(UserItem_1,'Updated_UserID','Updated_ItemID',row_i,col_i)\n",
        "TrainDFRatMat_"
      ]
    },
    {
      "cell_type": "code",
      "execution_count": 18,
      "metadata": {},
      "outputs": [
        {
          "output_type": "execute_result",
          "data": {
            "text/plain": [
              "<122397x15298 sparse matrix of type '<class 'numpy.float64'>'\n",
              "\twith 3459 stored elements in Compressed Sparse Row format>"
            ]
          },
          "metadata": {},
          "execution_count": 18
        }
      ],
      "source": [
        "ValidDFRatMat_ =  SingleRatingMatrix(valid_1,'Updated_UserID','Updated_ItemID',row_i,col_i)\n",
        "ValidDFRatMat_"
      ]
    },
    {
      "cell_type": "code",
      "execution_count": null,
      "metadata": {},
      "outputs": [],
      "source": []
    },
    {
      "cell_type": "code",
      "execution_count": null,
      "metadata": {},
      "outputs": [],
      "source": [
        "##SVD Test.."
      ]
    },
    {
      "cell_type": "code",
      "execution_count": 32,
      "metadata": {},
      "outputs": [],
      "source": [
        "def TopNPred_2(RatingMat,holdout,V, user_column, N):  ##N == Top_N\n",
        "    TestUsers = holdout[user_column]\n",
        "    HOLDOUT_usersMat = RatingMat[TestUsers,:]         ##this doubles as the \"previously seen items\"\n",
        "    PVVT =  HOLDOUT_usersMat.dot(V).dot(V.T) \n",
        "    #users_column = HOLDOUT_usersMat.nonzero()[0]\n",
        "    #items_column = HOLDOUT_usersMat.nonzero()[1]\n",
        "    #args = np.array([users_column,items_column])\n",
        "    #np.put(PVVT, np.ravel_multi_index(args, PVVT.shape),-np.inf)   ##downsample previously seen items\n",
        "    TopN_pred = np.apply_along_axis(topN_Index, 1,PVVT,n = N)\n",
        "    return TopN_pred"
      ]
    },
    {
      "cell_type": "code",
      "execution_count": null,
      "metadata": {},
      "outputs": [],
      "source": [
        "TrainDFRatMat_"
      ]
    },
    {
      "cell_type": "code",
      "execution_count": 29,
      "metadata": {},
      "outputs": [
        {
          "output_type": "stream",
          "name": "stdout",
          "text": [
            "(122397, 50)\n(15298, 50)\n"
          ]
        }
      ],
      "source": [
        "Usvd, Ssvd, VTsvd = svds(TrainDFRatMat_, k=50)\n",
        "Vsvd = VTsvd.T \n",
        "print(Usvd.shape)\n",
        "print(Vsvd.shape)"
      ]
    },
    {
      "cell_type": "code",
      "execution_count": 30,
      "metadata": {},
      "outputs": [
        {
          "output_type": "stream",
          "name": "stdout",
          "text": [
            "(3459, 10)\n"
          ]
        },
        {
          "output_type": "execute_result",
          "data": {
            "text/plain": [
              "array([[4744, 2560, 1072, ..., 1069, 1070,  829],\n",
              "       [ 980, 4652, 2250, ..., 4061, 1624, 1911],\n",
              "       [2180,  532, 6381, ..., 1466, 3407,    1],\n",
              "       ...,\n",
              "       [ 180,  352,  179, ..., 1909,  969, 1917],\n",
              "       [ 144, 1109, 1115, ..., 2542, 2501,  198],\n",
              "       [2469, 1460,  157, ..., 2340, 2630, 2502]])"
            ]
          },
          "metadata": {},
          "execution_count": 30
        }
      ],
      "source": [
        "Topk_pred  =TopNPred(TrainDFRatMat_,valid_1,Vsvd,'Updated_UserID', N=10)\n",
        "print(Topk_pred.shape)\n",
        "Topk_pred"
      ]
    },
    {
      "cell_type": "code",
      "execution_count": 33,
      "metadata": {},
      "outputs": [
        {
          "output_type": "stream",
          "name": "stdout",
          "text": [
            "(3459, 10)\n"
          ]
        },
        {
          "output_type": "execute_result",
          "data": {
            "text/plain": [
              "array([[ 268,   76,  135, ..., 4137,   89, 4652],\n",
              "       [1003,   20,  484, ...,  825,   58, 4137],\n",
              "       [ 135,  268, 1062, ...,  576, 1052, 4724],\n",
              "       ...,\n",
              "       [ 180,  352,  179, ..., 1909,  969, 1917],\n",
              "       [  92, 1053, 2707, ..., 1109, 1793, 1115],\n",
              "       [2501, 2469, 1460, ..., 1793, 2340, 2630]])"
            ]
          },
          "metadata": {},
          "execution_count": 33
        }
      ],
      "source": [
        "Topkpred_2  =TopNPred_2(TrainDFRatMat_,valid_1,Vsvd,'Updated_UserID', N=10)\n",
        "print(Topkpred_2.shape)\n",
        "Topkpred_2"
      ]
    },
    {
      "cell_type": "code",
      "execution_count": 31,
      "metadata": {},
      "outputs": [
        {
          "output_type": "stream",
          "name": "stdout",
          "text": [
            "Number of hits:  205\nTotal Num of users:  3459\nRecommendation HitRate:  0.059265683723619546\n"
          ]
        },
        {
          "output_type": "execute_result",
          "data": {
            "text/plain": [
              "0.059265683723619546"
            ]
          },
          "metadata": {},
          "execution_count": 31
        }
      ],
      "source": [
        "Hitrate_Eval(valid_1,Topk_pred,'Updated_UserID','Updated_ItemID')  ##With -np.inf(removing seen items)"
      ]
    },
    {
      "cell_type": "code",
      "execution_count": 34,
      "metadata": {},
      "outputs": [
        {
          "output_type": "stream",
          "name": "stdout",
          "text": [
            "Number of hits:  73\nTotal Num of users:  3459\nRecommendation HitRate:  0.021104365423532813\n"
          ]
        },
        {
          "output_type": "execute_result",
          "data": {
            "text/plain": [
              "0.021104365423532813"
            ]
          },
          "metadata": {},
          "execution_count": 34
        }
      ],
      "source": [
        "Hitrate_Eval(valid_1,Topkpred_2,'Updated_UserID','Updated_ItemID')  ##Without -np.inf(including seen items)"
      ]
    },
    {
      "cell_type": "code",
      "execution_count": null,
      "metadata": {},
      "outputs": [],
      "source": []
    },
    {
      "cell_type": "markdown",
      "metadata": {
        "id": "7Wo1pUQbeViu"
      },
      "source": [
        "## Training"
      ]
    },
    {
      "cell_type": "code",
      "execution_count": 77,
      "metadata": {},
      "outputs": [],
      "source": [
        "#"
      ]
    },
    {
      "cell_type": "code",
      "execution_count": 21,
      "metadata": {},
      "outputs": [
        {
          "output_type": "execute_result",
          "data": {
            "text/plain": [
              "MultiVAE(\n",
              "  (encode): Encoder(\n",
              "    (q_layers): Sequential(\n",
              "      (dropout_0): Dropout(p=0.5, inplace=False)\n",
              "      (linear_0): Linear(in_features=15298, out_features=600, bias=True)\n",
              "      (dropout_1): Dropout(p=0.0, inplace=False)\n",
              "      (linear_1): Linear(in_features=600, out_features=400, bias=True)\n",
              "    )\n",
              "  )\n",
              "  (decode): Decoder(\n",
              "    (p_layers): Sequential(\n",
              "      (dropout_0): Dropout(p=0.0, inplace=False)\n",
              "      (linear_0): Linear(in_features=200, out_features=600, bias=True)\n",
              "      (dropout_1): Dropout(p=0.0, inplace=False)\n",
              "      (linear_1): Linear(in_features=600, out_features=15298, bias=True)\n",
              "    )\n",
              "  )\n",
              ")"
            ]
          },
          "metadata": {},
          "execution_count": 21
        }
      ],
      "source": [
        "I =  TrainDFRatMat_.shape[1] \n",
        "\n",
        "q_dims = [I] + [600, 200]\n",
        "p_dims = [200, 600] + [I]\n",
        "dropout_enc = [0.5, 0.]\n",
        "dropout_dec = [0., 0.]\n",
        "\n",
        "VAEmodel = MultiVAE(p_dims,q_dims,dropout_enc,dropout_dec)\n",
        "\n",
        "\n",
        "init_weights(VAEmodel)\n",
        "VAEmodel.to(device)\n",
        "optimizer = torch.optim.AdamW(VAEmodel.parameters(), lr=1e-3, weight_decay=0.0)  \n",
        "VAEmodel              "
      ]
    },
    {
      "cell_type": "code",
      "execution_count": 22,
      "metadata": {},
      "outputs": [],
      "source": [
        "batch_size = 500\n",
        "anneal_cap = 0.2\n",
        "update_count = 0\n",
        "n_epochs = 200\n",
        "constant_anneal = False\n",
        "total_anneal_steps = 200000"
      ]
    },
    {
      "cell_type": "code",
      "execution_count": 24,
      "metadata": {},
      "outputs": [
        {
          "output_type": "stream",
          "name": "stderr",
          "text": [
            "100%|██████████| 200/200 [27:00<00:00,  8.10s/it]\n"
          ]
        }
      ],
      "source": [
        "for epoch in tqdm(range(n_epochs)):\n",
        "    train_step(VAEmodel, optimizer, TrainDFRatMat_, epoch)\n"
      ]
    },
    {
      "cell_type": "markdown",
      "metadata": {
        "id": "uK7DzdSMvEzK"
      },
      "source": [
        "## Evaluation"
      ]
    },
    {
      "cell_type": "code",
      "execution_count": 27,
      "metadata": {
        "id": "sGPA3IDVlqds"
      },
      "outputs": [
        {
          "output_type": "stream",
          "name": "stdout",
          "text": [
            "Number of hits:  269\nTotal Num of users:  3459\nRecommendation HitRate:  0.07776814108123735\n\nMRR   :  0.028184584038877185\n"
          ]
        }
      ],
      "source": [
        "##Generate Prediction list:\n",
        "holdout_df = newHoldout_list[0]\n",
        "AllUserPRED, hr_, mrr_ = getmetrics_(VAEmodel,TrainDFRatMat_,holdout_df,k=10)\n",
        "print()\n",
        "print(\"MRR   : \",mrr_)"
      ]
    },
    {
      "cell_type": "code",
      "execution_count": 28,
      "metadata": {},
      "outputs": [
        {
          "output_type": "execute_result",
          "data": {
            "text/plain": [
              "0.26834"
            ]
          },
          "metadata": {},
          "execution_count": 28
        }
      ],
      "source": [
        "cov_ = StepCoverage_Ratio(newMLDF_20M,AllUserPRED,'Updated_ItemID')\n",
        "cov_"
      ]
    },
    {
      "cell_type": "code",
      "execution_count": null,
      "metadata": {},
      "outputs": [],
      "source": []
    },
    {
      "cell_type": "markdown",
      "metadata": {
        "id": "5eTPWIpX62tn"
      },
      "source": [
        "## Get AllStep Eval"
      ]
    },
    {
      "cell_type": "code",
      "execution_count": 57,
      "metadata": {},
      "outputs": [
        {
          "output_type": "stream",
          "name": "stdout",
          "text": [
            "15\n"
          ]
        },
        {
          "output_type": "execute_result",
          "data": {
            "text/plain": [
              "[<136677x20720 sparse matrix of type '<class 'numpy.float64'>'\n",
              " \twith 8865107 stored elements in Compressed Sparse Row format>,\n",
              " <136677x20720 sparse matrix of type '<class 'numpy.float64'>'\n",
              " \twith 8945455 stored elements in Compressed Sparse Row format>,\n",
              " <136677x20720 sparse matrix of type '<class 'numpy.float64'>'\n",
              " \twith 9025842 stored elements in Compressed Sparse Row format>,\n",
              " <136677x20720 sparse matrix of type '<class 'numpy.float64'>'\n",
              " \twith 9106051 stored elements in Compressed Sparse Row format>,\n",
              " <136677x20720 sparse matrix of type '<class 'numpy.float64'>'\n",
              " \twith 9186201 stored elements in Compressed Sparse Row format>,\n",
              " <136677x20720 sparse matrix of type '<class 'numpy.float64'>'\n",
              " \twith 9266468 stored elements in Compressed Sparse Row format>,\n",
              " <136677x20720 sparse matrix of type '<class 'numpy.float64'>'\n",
              " \twith 9346597 stored elements in Compressed Sparse Row format>,\n",
              " <136677x20720 sparse matrix of type '<class 'numpy.float64'>'\n",
              " \twith 9426837 stored elements in Compressed Sparse Row format>,\n",
              " <136677x20720 sparse matrix of type '<class 'numpy.float64'>'\n",
              " \twith 9506974 stored elements in Compressed Sparse Row format>,\n",
              " <136677x20720 sparse matrix of type '<class 'numpy.float64'>'\n",
              " \twith 9586957 stored elements in Compressed Sparse Row format>,\n",
              " <136677x20720 sparse matrix of type '<class 'numpy.float64'>'\n",
              " \twith 9667299 stored elements in Compressed Sparse Row format>,\n",
              " <136677x20720 sparse matrix of type '<class 'numpy.float64'>'\n",
              " \twith 9747689 stored elements in Compressed Sparse Row format>,\n",
              " <136677x20720 sparse matrix of type '<class 'numpy.float64'>'\n",
              " \twith 9828194 stored elements in Compressed Sparse Row format>,\n",
              " <136677x20720 sparse matrix of type '<class 'numpy.float64'>'\n",
              " \twith 9908522 stored elements in Compressed Sparse Row format>,\n",
              " <136677x20720 sparse matrix of type '<class 'numpy.float64'>'\n",
              " \twith 9987952 stored elements in Compressed Sparse Row format>]"
            ]
          },
          "metadata": {},
          "execution_count": 57
        }
      ],
      "source": [
        "rows_i = newMLDF_20M['Updated_UserID'].nunique()\n",
        "cols_i = newMLDF_20M['Updated_ItemID'].nunique()\n",
        "UserItem_MATList = AllRatingMatrices(newUserItem_list,'Updated_UserID','Updated_ItemID',rows_i ,cols_i) \n",
        "print(len(UserItem_MATList))   \n",
        "UserItem_MATList"
      ]
    },
    {
      "cell_type": "code",
      "execution_count": 61,
      "metadata": {},
      "outputs": [
        {
          "output_type": "execute_result",
          "data": {
            "text/plain": [
              "MultiVAE(\n",
              "  (encode): Encoder(\n",
              "    (q_layers): Sequential(\n",
              "      (dropout_0): Dropout(p=0.5, inplace=False)\n",
              "      (linear_0): Linear(in_features=20720, out_features=600, bias=True)\n",
              "      (dropout_1): Dropout(p=0.0, inplace=False)\n",
              "      (linear_1): Linear(in_features=600, out_features=400, bias=True)\n",
              "    )\n",
              "  )\n",
              "  (decode): Decoder(\n",
              "    (p_layers): Sequential(\n",
              "      (dropout_0): Dropout(p=0.0, inplace=False)\n",
              "      (linear_0): Linear(in_features=200, out_features=600, bias=True)\n",
              "      (dropout_1): Dropout(p=0.0, inplace=False)\n",
              "      (linear_1): Linear(in_features=600, out_features=20720, bias=True)\n",
              "    )\n",
              "  )\n",
              ")"
            ]
          },
          "metadata": {},
          "execution_count": 61
        }
      ],
      "source": [
        "I = newMLDF_20M['Updated_ItemID'].nunique()\n",
        "\n",
        "q_dims = [I] + [600, 200]\n",
        "p_dims = [200, 600] + [I]\n",
        "dropout_enc = [0.5, 0.]\n",
        "dropout_dec = [0., 0.]\n",
        "\n",
        "VAEmodel = MultiVAE(p_dims,q_dims,dropout_enc,dropout_dec)\n",
        "init_weights(VAEmodel)\n",
        "VAEmodel.to(device)\n",
        "optimizer = torch.optim.AdamW(VAEmodel.parameters(), lr=1e-3, weight_decay=0.0)  \n",
        "VAEmodel              "
      ]
    },
    {
      "cell_type": "code",
      "execution_count": 60,
      "metadata": {},
      "outputs": [],
      "source": [
        "batch_size = 500\n",
        "anneal_cap = 0.2\n",
        "update_count = 0\n",
        "n_epochs = 200\n",
        "constant_anneal = False\n",
        "\n",
        "total_anneal_steps = 200000"
      ]
    },
    {
      "cell_type": "code",
      "execution_count": 62,
      "metadata": {},
      "outputs": [
        {
          "output_type": "stream",
          "name": "stderr",
          "text": [
            "1it [40:08, 2408.14s/it]Number of hits:  259\n",
            "Total Num of users:  3459\n",
            "Recommendation HitRate:  0.07487713211910957\n",
            "| HitRate  0.075 | Mrr 0.029 | \n",
            "2it [1:20:17, 2408.85s/it]Number of hits:  202\n",
            "Total Num of users:  3311\n",
            "Recommendation HitRate:  0.06100875868317729\n",
            "| HitRate  0.061 | Mrr 0.023 | \n",
            "3it [2:00:20, 2406.34s/it]Number of hits:  219\n",
            "Total Num of users:  3124\n",
            "Recommendation HitRate:  0.07010243277848911\n",
            "| HitRate  0.070 | Mrr 0.026 | \n",
            "4it [2:40:18, 2402.86s/it]Number of hits:  215\n",
            "Total Num of users:  3115\n",
            "Recommendation HitRate:  0.06902086677367576\n",
            "| HitRate  0.069 | Mrr 0.029 | \n",
            "5it [3:20:17, 2401.37s/it]Number of hits:  240\n",
            "Total Num of users:  3165\n",
            "Recommendation HitRate:  0.07582938388625593\n",
            "| HitRate  0.076 | Mrr 0.026 | \n",
            "6it [4:00:16, 2400.76s/it]Number of hits:  178\n",
            "Total Num of users:  3098\n",
            "Recommendation HitRate:  0.057456423499031635\n",
            "| HitRate  0.057 | Mrr 0.021 | \n",
            "7it [4:40:18, 2400.96s/it]Number of hits:  175\n",
            "Total Num of users:  3169\n",
            "Recommendation HitRate:  0.0552224676554118\n",
            "| HitRate  0.055 | Mrr 0.018 | \n",
            "8it [5:20:20, 2401.36s/it]Number of hits:  228\n",
            "Total Num of users:  3129\n",
            "Recommendation HitRate:  0.0728667305848514\n",
            "| HitRate  0.073 | Mrr 0.028 | \n",
            "9it [6:00:30, 2404.10s/it]Number of hits:  252\n",
            "Total Num of users:  3192\n",
            "Recommendation HitRate:  0.07894736842105263\n",
            "| HitRate  0.079 | Mrr 0.029 | \n",
            "10it [6:41:15, 2416.73s/it]Number of hits:  257\n",
            "Total Num of users:  3409\n",
            "Recommendation HitRate:  0.0753886770313875\n",
            "| HitRate  0.075 | Mrr 0.028 | \n",
            "11it [7:21:58, 2424.89s/it]Number of hits:  249\n",
            "Total Num of users:  3267\n",
            "Recommendation HitRate:  0.07621671258034894\n",
            "| HitRate  0.076 | Mrr 0.029 | \n",
            "12it [8:02:44, 2431.08s/it]Number of hits:  222\n",
            "Total Num of users:  3077\n",
            "Recommendation HitRate:  0.07214819629509263\n",
            "| HitRate  0.072 | Mrr 0.028 | \n",
            "13it [8:43:34, 2436.86s/it]Number of hits:  215\n",
            "Total Num of users:  2772\n",
            "Recommendation HitRate:  0.07756132756132757\n",
            "| HitRate  0.078 | Mrr 0.029 | \n",
            "14it [9:24:21, 2439.87s/it]Number of hits:  195\n",
            "Total Num of users:  2644\n",
            "Recommendation HitRate:  0.0737518910741301\n",
            "| HitRate  0.074 | Mrr 0.030 | \n",
            "15it [10:05:08, 2420.55s/it]Number of hits:  214\n",
            "Total Num of users:  2730\n",
            "Recommendation HitRate:  0.07838827838827839\n",
            "| HitRate  0.078 | Mrr 0.028 | \n",
            "[0.07487713211910957, 0.06100875868317729, 0.07010243277848911, 0.06902086677367576, 0.07582938388625593, 0.057456423499031635, 0.0552224676554118, 0.0728667305848514, 0.07894736842105263, 0.0753886770313875, 0.07621671258034894, 0.07214819629509263, 0.07756132756132757, 0.0737518910741301, 0.07838827838827839]\n",
            "[0.02933777539154816, 0.023010240036818112, 0.026060402820966198, 0.028608244796045762, 0.02621705659620352, 0.021436000696814124, 0.017781885027072782, 0.028112714138601003, 0.029159331861399528, 0.028052726908696406, 0.028610418761933914, 0.028289124121103328, 0.029036968322682613, 0.030437288379799733, 0.02793127507413222]\n",
            "\n"
          ]
        }
      ],
      "source": [
        "                                       #Allsteps_predEval(model,UserItemMatList,holdout_DFList,n_epoch)\n",
        "hr10_List,mrr10_List ,ALLUsers_Pred  = Allsteps_predEval(VAEmodel,UserItem_MATList,newHoldout_list,n_epochs)\n",
        "print(hr10_List)\n",
        "print(mrr10_List) "
      ]
    },
    {
      "cell_type": "code",
      "execution_count": 64,
      "metadata": {},
      "outputs": [],
      "source": [
        "with open('/mnt/bulky/oolaleke/TDM_Dataset/ML20mVAE_allPRED_NEW2.pkl', 'wb') as f:\n",
        "     pickle.dump(ALLUsers_Pred, f)"
      ]
    },
    {
      "cell_type": "code",
      "execution_count": 65,
      "metadata": {},
      "outputs": [
        {
          "output_type": "execute_result",
          "data": {
            "text/plain": [
              "[0.07487713211910957,\n",
              " 0.06100875868317729,\n",
              " 0.07010243277848911,\n",
              " 0.06902086677367576,\n",
              " 0.07582938388625593,\n",
              " 0.057456423499031635,\n",
              " 0.0552224676554118,\n",
              " 0.0728667305848514,\n",
              " 0.07894736842105263,\n",
              " 0.0753886770313875,\n",
              " 0.07621671258034894,\n",
              " 0.07214819629509263,\n",
              " 0.07756132756132757,\n",
              " 0.0737518910741301,\n",
              " 0.07838827838827839]"
            ]
          },
          "metadata": {},
          "execution_count": 65
        }
      ],
      "source": [
        "hr10_List"
      ]
    },
    {
      "cell_type": "code",
      "execution_count": 66,
      "metadata": {},
      "outputs": [
        {
          "output_type": "execute_result",
          "data": {
            "text/plain": [
              "[0.02933777539154816,\n",
              " 0.023010240036818112,\n",
              " 0.026060402820966198,\n",
              " 0.028608244796045762,\n",
              " 0.02621705659620352,\n",
              " 0.021436000696814124,\n",
              " 0.017781885027072782,\n",
              " 0.028112714138601003,\n",
              " 0.029159331861399528,\n",
              " 0.028052726908696406,\n",
              " 0.028610418761933914,\n",
              " 0.028289124121103328,\n",
              " 0.029036968322682613,\n",
              " 0.030437288379799733,\n",
              " 0.02793127507413222]"
            ]
          },
          "metadata": {},
          "execution_count": 66
        }
      ],
      "source": [
        "mrr10_List"
      ]
    },
    {
      "cell_type": "code",
      "execution_count": 67,
      "metadata": {},
      "outputs": [
        {
          "output_type": "execute_result",
          "data": {
            "text/plain": [
              "[0.264913,\n",
              " 0.258784,\n",
              " 0.2639,\n",
              " 0.259797,\n",
              " 0.26221,\n",
              " 0.261921,\n",
              " 0.269064,\n",
              " 0.2764,\n",
              " 0.279585,\n",
              " 0.276255,\n",
              " 0.291409,\n",
              " 0.295849,\n",
              " 0.303909,\n",
              " 0.311824,\n",
              " 0.311004]"
            ]
          },
          "metadata": {},
          "execution_count": 67
        }
      ],
      "source": [
        "Cov_List = AllSteps_Coverage_Ratio(newMLDF_20M,ALLUsers_Pred,'Updated_ItemID')\n",
        "Cov_List"
      ]
    },
    {
      "cell_type": "code",
      "execution_count": 69,
      "metadata": {},
      "outputs": [
        {
          "output_type": "stream",
          "name": "stdout",
          "text": [
            "14\n"
          ]
        },
        {
          "output_type": "execute_result",
          "data": {
            "text/plain": [
              "[1, 2, 3, 4, 5, 6, 7, 8, 9, 10, 11, 12, 13, 14]"
            ]
          },
          "metadata": {},
          "execution_count": 69
        }
      ],
      "source": [
        "AllSteps = list(range(1,15))\n",
        "print(len(AllSteps))\n",
        "AllSteps"
      ]
    },
    {
      "cell_type": "code",
      "execution_count": 70,
      "metadata": {},
      "outputs": [
        {
          "output_type": "execute_result",
          "data": {
            "text/plain": [
              "array([array([0.36369515, 0.54624489, 0.61474513, ..., 0.11059284, 0.50909834,\n",
              "              0.56112521])                                                    ,\n",
              "       array([0.35980103, 0.57142857, 0.64828048, ..., 0.37435993, 0.64387528,\n",
              "              0.4640484 ])                                                    ,\n",
              "       array([0.31980331, 0.84755945, 0.39659413, ..., 0.41737878, 0.1527409 ,\n",
              "              0.04457968])                                                    ,\n",
              "       array([0.35369097, 0.92514345, 0.42449098, ..., 0.        , 0.01736733,\n",
              "              0.        ])                                                    ,\n",
              "       array([0.42696955, 0.6221978 , 0.47738191, ..., 0.11411321, 0.35980103,\n",
              "              0.24342992])                                                    ,\n",
              "       array([0.33303233, 0.68458291, 0.44753873, ..., 0.37576887, 0.34505695,\n",
              "              0.01933435])                                                    ,\n",
              "       array([0.29582163, 0.44160156, 0.25612662, ..., 0.80729677, 0.37923947,\n",
              "              0.47590482])                                                    ,\n",
              "       array([0.31850661, 0.50264658, 0.21417996, ..., 0.28365217, 0.12122133,\n",
              "              0.17457034])                                                    ,\n",
              "       array([0.38208033, 0.40926014, 0.39765196, ..., 0.        , 0.57797969,\n",
              "              0.43125848])                                                    ,\n",
              "       array([0.35493346, 0.54737945, 0.34114654, ..., 0.38389425, 0.47531481,\n",
              "              0.26516969])                                                    ,\n",
              "       array([0.32513465, 0.88290816, 0.59589189, ..., 0.76769249, 0.07657526,\n",
              "              0.23150079])                                                    ,\n",
              "       array([0.368626  , 0.76642336, 0.31486595, ..., 0.53164557, 0.81418213,\n",
              "              0.06033616])                                                    ,\n",
              "       array([0.29027183, 0.36243655, 0.422158  , ..., 0.58748253, 0.06216722,\n",
              "              0.19356404])                                                    ,\n",
              "       array([0.38844996, 0.38753642, 0.23150079, ..., 0.25016938, 0.17168029,\n",
              "              0.48466258])                                                    ],\n",
              "      dtype=object)"
            ]
          },
          "metadata": {},
          "execution_count": 70
        }
      ],
      "source": [
        "UpdtPSICorr_ = Updt_getAll_AvgCorr(ALLUsers_Pred,newUserItem_list,AllSteps,'Updated_UserID')  #,\n",
        "UpdtPSICorr_"
      ]
    },
    {
      "cell_type": "code",
      "execution_count": 71,
      "metadata": {},
      "outputs": [
        {
          "output_type": "stream",
          "name": "stdout",
          "text": [
            "0.4890564348504757\n0.5139198543271317\n0.5110664391439165\n0.5144665571911105\n0.5099897313510342\n0.5236193810611822\n0.5211199667647584\n0.5099962481868815\n0.507363795405602\n0.5180855235610252\n0.520402266399777\n0.5126099920020206\n0.49874961971866727\n0.4971462370271155\n"
          ]
        }
      ],
      "source": [
        "UpdtPSICorr_.shape\n",
        "for df in UpdtPSICorr_:\n",
        "    print(df.mean())  "
      ]
    },
    {
      "cell_type": "code",
      "execution_count": null,
      "metadata": {},
      "outputs": [],
      "source": []
    },
    {
      "cell_type": "code",
      "execution_count": 56,
      "metadata": {},
      "outputs": [],
      "source": []
    },
    {
      "cell_type": "markdown",
      "metadata": {
        "id": "XVY8RalM6PUw"
      },
      "source": [
        "# Amazon Games"
      ]
    },
    {
      "cell_type": "code",
      "execution_count": 22,
      "metadata": {},
      "outputs": [
        {
          "output_type": "stream",
          "name": "stdout",
          "text": [
            "(345203, 9)\n"
          ]
        },
        {
          "output_type": "execute_result",
          "data": {
            "text/plain": [
              "           userid   ProductID  rating   timestamp timestamp_YM  userId  \\\n",
              "0  A2AXQTB83VMK4L  B0000296O5       1  1999-10-14      1999-10       0   \n",
              "1  A2T04VAIXSKJH2  B00002NDRY       1  1999-11-05      1999-11       1   \n",
              "2  A1QA8K3LD9K892  B000021Y5F       1  1999-11-10      1999-11       2   \n",
              "3  A1QA8K3LD9K892  B000021Y5Q       1  1999-11-10      1999-11       2   \n",
              "4   ANLA598UNJI8A  B00001IVGE       1  1999-11-14      1999-11       3   \n",
              "\n",
              "   productId  Updated_UserID  Updated_ItemID  \n",
              "0          0               0               0  \n",
              "1          1               1               1  \n",
              "2          2               2               2  \n",
              "3          3               2               3  \n",
              "4          4               3               4  "
            ],
            "text/html": "<div>\n<style scoped>\n    .dataframe tbody tr th:only-of-type {\n        vertical-align: middle;\n    }\n\n    .dataframe tbody tr th {\n        vertical-align: top;\n    }\n\n    .dataframe thead th {\n        text-align: right;\n    }\n</style>\n<table border=\"1\" class=\"dataframe\">\n  <thead>\n    <tr style=\"text-align: right;\">\n      <th></th>\n      <th>userid</th>\n      <th>ProductID</th>\n      <th>rating</th>\n      <th>timestamp</th>\n      <th>timestamp_YM</th>\n      <th>userId</th>\n      <th>productId</th>\n      <th>Updated_UserID</th>\n      <th>Updated_ItemID</th>\n    </tr>\n  </thead>\n  <tbody>\n    <tr>\n      <th>0</th>\n      <td>A2AXQTB83VMK4L</td>\n      <td>B0000296O5</td>\n      <td>1</td>\n      <td>1999-10-14</td>\n      <td>1999-10</td>\n      <td>0</td>\n      <td>0</td>\n      <td>0</td>\n      <td>0</td>\n    </tr>\n    <tr>\n      <th>1</th>\n      <td>A2T04VAIXSKJH2</td>\n      <td>B00002NDRY</td>\n      <td>1</td>\n      <td>1999-11-05</td>\n      <td>1999-11</td>\n      <td>1</td>\n      <td>1</td>\n      <td>1</td>\n      <td>1</td>\n    </tr>\n    <tr>\n      <th>2</th>\n      <td>A1QA8K3LD9K892</td>\n      <td>B000021Y5F</td>\n      <td>1</td>\n      <td>1999-11-10</td>\n      <td>1999-11</td>\n      <td>2</td>\n      <td>2</td>\n      <td>2</td>\n      <td>2</td>\n    </tr>\n    <tr>\n      <th>3</th>\n      <td>A1QA8K3LD9K892</td>\n      <td>B000021Y5Q</td>\n      <td>1</td>\n      <td>1999-11-10</td>\n      <td>1999-11</td>\n      <td>2</td>\n      <td>3</td>\n      <td>2</td>\n      <td>3</td>\n    </tr>\n    <tr>\n      <th>4</th>\n      <td>ANLA598UNJI8A</td>\n      <td>B00001IVGE</td>\n      <td>1</td>\n      <td>1999-11-14</td>\n      <td>1999-11</td>\n      <td>3</td>\n      <td>4</td>\n      <td>3</td>\n      <td>4</td>\n    </tr>\n  </tbody>\n</table>\n</div>"
          },
          "metadata": {},
          "execution_count": 22
        }
      ],
      "source": [
        "newAMZGames_DF = pd.read_csv('/mnt/bulky/oolaleke/TDM_Dataset/AMZ_GamesFiles/AMZGames_afterUpdt.csv')\n",
        "print(newAMZGames_DF.shape)  \n",
        "newAMZGames_DF.head()"
      ]
    },
    {
      "cell_type": "code",
      "execution_count": 98,
      "metadata": {},
      "outputs": [],
      "source": [
        "##lOAD Saved Lists...\n",
        "with open('/mnt/bulky/oolaleke/TDM_Dataset/AMZ_GamesFiles/AMZGames_newUserItem.pkl', 'rb') as f:   #\n",
        "     newUserItem_list = pickle.load(f)\n",
        "\n",
        "with open('/mnt/bulky/oolaleke/TDM_Dataset/AMZ_GamesFiles/AMZGames_newHoldout.pkl', 'rb') as f:\n",
        "     newHoldout_list = pickle.load(f)\n"
      ]
    },
    {
      "cell_type": "code",
      "execution_count": 25,
      "metadata": {},
      "outputs": [
        {
          "output_type": "stream",
          "name": "stdout",
          "text": [
            "34575\n34575\n\n16138\n16137\n"
          ]
        }
      ],
      "source": [
        "UserItem_1 = newUserItem_list[0]\n",
        "valid_1 = newHoldout_list[0]\n",
        "print(UserItem_1['Updated_UserID'].max())\n",
        "print(valid_1['Updated_UserID'].max())\n",
        "print()\n",
        "print(UserItem_1['Updated_ItemID'].max())\n",
        "print(valid_1['Updated_ItemID'].max())"
      ]
    },
    {
      "cell_type": "code",
      "execution_count": 26,
      "metadata": {},
      "outputs": [
        {
          "output_type": "execute_result",
          "data": {
            "text/plain": [
              "<34576x16139 sparse matrix of type '<class 'numpy.float64'>'\n",
              "\twith 250384 stored elements in Compressed Sparse Row format>"
            ]
          },
          "metadata": {},
          "execution_count": 26
        }
      ],
      "source": [
        "row_i =  UserItem_1['Updated_UserID'].max()+1\n",
        "col_i =  UserItem_1['Updated_ItemID'].max()+1\n",
        "TrainDFRatMat_1 =  SingleRatingMatrix(UserItem_1,'Updated_UserID','Updated_ItemID',row_i,col_i)\n",
        "TrainDFRatMat_1"
      ]
    },
    {
      "cell_type": "code",
      "execution_count": 29,
      "metadata": {
        "id": "M1BPqcFIlqW7"
      },
      "outputs": [
        {
          "output_type": "execute_result",
          "data": {
            "text/plain": [
              "<34576x16139 sparse matrix of type '<class 'numpy.float64'>'\n",
              "\twith 2018 stored elements in Compressed Sparse Row format>"
            ]
          },
          "metadata": {},
          "execution_count": 29
        }
      ],
      "source": [
        "ValidDFRatMat_1 =  SingleRatingMatrix(valid_1,'Updated_UserID','Updated_ItemID',row_i,col_i)\n",
        "ValidDFRatMat_1"
      ]
    },
    {
      "cell_type": "code",
      "execution_count": null,
      "metadata": {},
      "outputs": [],
      "source": []
    },
    {
      "cell_type": "code",
      "execution_count": 79,
      "metadata": {},
      "outputs": [
        {
          "output_type": "execute_result",
          "data": {
            "text/plain": [
              "MultiVAE(\n",
              "  (encode): Encoder(\n",
              "    (q_layers): Sequential(\n",
              "      (dropout_0): Dropout(p=0.5, inplace=False)\n",
              "      (linear_0): Linear(in_features=16139, out_features=600, bias=True)\n",
              "      (dropout_1): Dropout(p=0.0, inplace=False)\n",
              "      (linear_1): Linear(in_features=600, out_features=400, bias=True)\n",
              "    )\n",
              "  )\n",
              "  (decode): Decoder(\n",
              "    (p_layers): Sequential(\n",
              "      (dropout_0): Dropout(p=0.0, inplace=False)\n",
              "      (linear_0): Linear(in_features=200, out_features=600, bias=True)\n",
              "      (dropout_1): Dropout(p=0.0, inplace=False)\n",
              "      (linear_1): Linear(in_features=600, out_features=16139, bias=True)\n",
              "    )\n",
              "  )\n",
              ")"
            ]
          },
          "metadata": {},
          "execution_count": 79
        }
      ],
      "source": [
        "I =  TrainDFRatMat_1.shape[1] \n",
        "\n",
        "q_dims = [I] + [600, 200]\n",
        "p_dims = [200, 600] + [I]\n",
        "dropout_enc = [0.5, 0.]\n",
        "dropout_dec = [0., 0.]\n",
        "VAEmodel = MultiVAE(p_dims,q_dims,dropout_enc,dropout_dec)\n",
        "\n",
        "init_weights(VAEmodel)\n",
        "VAEmodel.to(device)\n",
        "optimizer = torch.optim.AdamW(VAEmodel.parameters(), lr=1e-3, weight_decay=0.0)  \n",
        "VAEmodel              "
      ]
    },
    {
      "cell_type": "code",
      "execution_count": 105,
      "metadata": {},
      "outputs": [],
      "source": [
        "batch_size = 200  #\n",
        "anneal_cap = 0.2\n",
        "update_count = 0\n",
        "n_epochs = 100\n",
        "constant_anneal = False"
      ]
    },
    {
      "cell_type": "code",
      "execution_count": 58,
      "metadata": {},
      "outputs": [],
      "source": [
        "##Best parameters; BS_ = 100 ,lr_ = 0.001 , n_epoch = 50 "
      ]
    },
    {
      "cell_type": "code",
      "execution_count": 106,
      "metadata": {},
      "outputs": [
        {
          "output_type": "execute_result",
          "data": {
            "text/plain": [
              "69200.0"
            ]
          },
          "metadata": {},
          "execution_count": 106
        }
      ],
      "source": [
        "total_anneal_steps = getTot_annealSTeps(TrainDFRatMat_1,batch_size,n_epochs,anneal_cap)\n",
        "total_anneal_steps"
      ]
    },
    {
      "cell_type": "code",
      "execution_count": 73,
      "metadata": {},
      "outputs": [
        {
          "output_type": "stream",
          "name": "stderr",
          "text": [
            "100%|██████████| 100/100 [04:44<00:00,  2.84s/it]\n"
          ]
        }
      ],
      "source": [
        "for epoch in tqdm(range(n_epochs)):\n",
        "    train_step(VAEmodel, optimizer, TrainDFRatMat_1, epoch)\n"
      ]
    },
    {
      "cell_type": "code",
      "execution_count": 74,
      "metadata": {},
      "outputs": [
        {
          "output_type": "stream",
          "name": "stdout",
          "text": [
            "Number of hits:  136\nTotal Num of users:  2018\nRecommendation HitRate:  0.06739345887016848\n\nMRR   :  0.02463385089747825\n"
          ]
        }
      ],
      "source": [
        "#Generate Prediction list:\n",
        "holdout_df1 = newHoldout_list[0]\n",
        "AllUserPRED, hr_, mrr_ = getmetrics_(VAEmodel,TrainDFRatMat_1,holdout_df1,k=10)\n",
        "print()\n",
        "print(\"MRR   : \",mrr_)"
      ]
    },
    {
      "cell_type": "code",
      "execution_count": null,
      "metadata": {},
      "outputs": [],
      "source": []
    },
    {
      "cell_type": "code",
      "execution_count": 101,
      "metadata": {},
      "outputs": [],
      "source": [
        "# for i,j in zip(newUserItem_list,newHoldout_list):\n",
        "#     print(i['Updated_UserID'].max(),j['Updated_UserID'].max())\n",
        "#     print(i['Updated_ItemID'].max(),j['Updated_ItemID'].max())\n",
        "#     print()"
      ]
    },
    {
      "cell_type": "code",
      "execution_count": 102,
      "metadata": {},
      "outputs": [
        {
          "output_type": "stream",
          "name": "stdout",
          "text": [
            "15\n"
          ]
        },
        {
          "output_type": "execute_result",
          "data": {
            "text/plain": [
              "[<39284x17318 sparse matrix of type '<class 'numpy.float64'>'\n",
              " \twith 250384 stored elements in Compressed Sparse Row format>,\n",
              " <39284x17318 sparse matrix of type '<class 'numpy.float64'>'\n",
              " \twith 255520 stored elements in Compressed Sparse Row format>,\n",
              " <39284x17318 sparse matrix of type '<class 'numpy.float64'>'\n",
              " \twith 261105 stored elements in Compressed Sparse Row format>,\n",
              " <39284x17318 sparse matrix of type '<class 'numpy.float64'>'\n",
              " \twith 266597 stored elements in Compressed Sparse Row format>,\n",
              " <39284x17318 sparse matrix of type '<class 'numpy.float64'>'\n",
              " \twith 272102 stored elements in Compressed Sparse Row format>,\n",
              " <39284x17318 sparse matrix of type '<class 'numpy.float64'>'\n",
              " \twith 277572 stored elements in Compressed Sparse Row format>,\n",
              " <39284x17318 sparse matrix of type '<class 'numpy.float64'>'\n",
              " \twith 282899 stored elements in Compressed Sparse Row format>,\n",
              " <39284x17318 sparse matrix of type '<class 'numpy.float64'>'\n",
              " \twith 288493 stored elements in Compressed Sparse Row format>,\n",
              " <39284x17318 sparse matrix of type '<class 'numpy.float64'>'\n",
              " \twith 294033 stored elements in Compressed Sparse Row format>,\n",
              " <39284x17318 sparse matrix of type '<class 'numpy.float64'>'\n",
              " \twith 299422 stored elements in Compressed Sparse Row format>,\n",
              " <39284x17318 sparse matrix of type '<class 'numpy.float64'>'\n",
              " \twith 304874 stored elements in Compressed Sparse Row format>,\n",
              " <39284x17318 sparse matrix of type '<class 'numpy.float64'>'\n",
              " \twith 310345 stored elements in Compressed Sparse Row format>,\n",
              " <39284x17318 sparse matrix of type '<class 'numpy.float64'>'\n",
              " \twith 315857 stored elements in Compressed Sparse Row format>,\n",
              " <39284x17318 sparse matrix of type '<class 'numpy.float64'>'\n",
              " \twith 321360 stored elements in Compressed Sparse Row format>,\n",
              " <39284x17318 sparse matrix of type '<class 'numpy.float64'>'\n",
              " \twith 326607 stored elements in Compressed Sparse Row format>]"
            ]
          },
          "metadata": {},
          "execution_count": 102
        }
      ],
      "source": [
        "rows_i = newAMZGames_DF['Updated_UserID'].nunique()\n",
        "cols_i = newAMZGames_DF['Updated_ItemID'].nunique()\n",
        "\n",
        "UserItem_MATList = AllRatingMatrices(newUserItem_list,'Updated_UserID','Updated_ItemID',rows_i ,cols_i) \n",
        "print(len(UserItem_MATList))   \n",
        "UserItem_MATList"
      ]
    },
    {
      "cell_type": "code",
      "execution_count": 110,
      "metadata": {},
      "outputs": [],
      "source": [
        "batch_size = 200  #\n",
        "anneal_cap = 0.2\n",
        "update_count = 0\n",
        "n_epochs = 100\n",
        "constant_anneal = False"
      ]
    },
    {
      "cell_type": "code",
      "execution_count": 111,
      "metadata": {},
      "outputs": [
        {
          "output_type": "execute_result",
          "data": {
            "text/plain": [
              "MultiVAE(\n",
              "  (encode): Encoder(\n",
              "    (q_layers): Sequential(\n",
              "      (dropout_0): Dropout(p=0.5, inplace=False)\n",
              "      (linear_0): Linear(in_features=17318, out_features=600, bias=True)\n",
              "      (dropout_1): Dropout(p=0.0, inplace=False)\n",
              "      (linear_1): Linear(in_features=600, out_features=400, bias=True)\n",
              "    )\n",
              "  )\n",
              "  (decode): Decoder(\n",
              "    (p_layers): Sequential(\n",
              "      (dropout_0): Dropout(p=0.0, inplace=False)\n",
              "      (linear_0): Linear(in_features=200, out_features=600, bias=True)\n",
              "      (dropout_1): Dropout(p=0.0, inplace=False)\n",
              "      (linear_1): Linear(in_features=600, out_features=17318, bias=True)\n",
              "    )\n",
              "  )\n",
              ")"
            ]
          },
          "metadata": {},
          "execution_count": 111
        }
      ],
      "source": [
        "I = newAMZGames_DF['Updated_ItemID'].nunique()\n",
        "\n",
        "q_dims = [I] + [600, 200]\n",
        "p_dims = [200, 600] + [I]\n",
        "dropout_enc = [0.5, 0.]\n",
        "dropout_dec = [0., 0.]\n",
        "\n",
        "VAEmodel = MultiVAE(p_dims,q_dims,dropout_enc,dropout_dec)\n",
        "\n",
        "init_weights(VAEmodel)\n",
        "VAEmodel.to(device)\n",
        "optimizer = torch.optim.AdamW(VAEmodel.parameters(), lr=1e-3, weight_decay=0.0)  \n",
        "VAEmodel   \n"
      ]
    },
    {
      "cell_type": "code",
      "execution_count": 112,
      "metadata": {},
      "outputs": [
        {
          "output_type": "stream",
          "name": "stderr",
          "text": [
            "1it [05:51, 351.67s/it]Number of hits:  132\n",
            "Total Num of users:  2018\n",
            "Recommendation HitRate:  0.06541129831516353\n",
            "| HitRate  0.065 | Mrr 0.026 | \n",
            "2it [11:41, 350.40s/it]Number of hits:  137\n",
            "Total Num of users:  2200\n",
            "Recommendation HitRate:  0.06227272727272727\n",
            "| HitRate  0.062 | Mrr 0.028 | \n",
            "3it [17:35, 352.17s/it]Number of hits:  150\n",
            "Total Num of users:  2172\n",
            "Recommendation HitRate:  0.06906077348066299\n",
            "| HitRate  0.069 | Mrr 0.029 | \n",
            "4it [23:27, 351.97s/it]Number of hits:  169\n",
            "Total Num of users:  2079\n",
            "Recommendation HitRate:  0.08128908128908129\n",
            "| HitRate  0.081 | Mrr 0.038 | \n",
            "5it [29:19, 352.23s/it]Number of hits:  160\n",
            "Total Num of users:  2089\n",
            "Recommendation HitRate:  0.07659167065581618\n",
            "| HitRate  0.077 | Mrr 0.034 | \n",
            "6it [35:13, 352.83s/it]Number of hits:  140\n",
            "Total Num of users:  2120\n",
            "Recommendation HitRate:  0.0660377358490566\n",
            "| HitRate  0.066 | Mrr 0.035 | \n",
            "7it [41:05, 352.55s/it]Number of hits:  139\n",
            "Total Num of users:  2217\n",
            "Recommendation HitRate:  0.06269733874605322\n",
            "| HitRate  0.063 | Mrr 0.031 | \n",
            "8it [46:58, 352.54s/it]Number of hits:  125\n",
            "Total Num of users:  2207\n",
            "Recommendation HitRate:  0.05663797009515179\n",
            "| HitRate  0.057 | Mrr 0.027 | \n",
            "9it [52:50, 352.59s/it]Number of hits:  164\n",
            "Total Num of users:  2133\n",
            "Recommendation HitRate:  0.07688701359587435\n",
            "| HitRate  0.077 | Mrr 0.032 | \n",
            "10it [58:42, 352.19s/it]Number of hits:  127\n",
            "Total Num of users:  2171\n",
            "Recommendation HitRate:  0.05849838783970521\n",
            "| HitRate  0.058 | Mrr 0.027 | \n",
            "11it [1:04:36, 352.80s/it]Number of hits:  123\n",
            "Total Num of users:  2261\n",
            "Recommendation HitRate:  0.054400707651481646\n",
            "| HitRate  0.054 | Mrr 0.023 | \n",
            "12it [1:10:28, 352.69s/it]Number of hits:  131\n",
            "Total Num of users:  2246\n",
            "Recommendation HitRate:  0.05832591273374889\n",
            "| HitRate  0.058 | Mrr 0.024 | \n",
            "13it [1:16:24, 353.61s/it]Number of hits:  109\n",
            "Total Num of users:  2196\n",
            "Recommendation HitRate:  0.04963570127504554\n",
            "| HitRate  0.050 | Mrr 0.024 | \n",
            "14it [1:22:23, 355.17s/it]Number of hits:  147\n",
            "Total Num of users:  2269\n",
            "Recommendation HitRate:  0.06478624944909651\n",
            "| HitRate  0.065 | Mrr 0.024 | \n",
            "15it [1:28:19, 353.29s/it]Number of hits:  112\n",
            "Total Num of users:  2222\n",
            "Recommendation HitRate:  0.050405040504050404\n",
            "| HitRate  0.050 | Mrr 0.022 | \n",
            "[0.06541129831516353, 0.06227272727272727, 0.06906077348066299, 0.08128908128908129, 0.07659167065581618, 0.0660377358490566, 0.06269733874605322, 0.05663797009515179, 0.07688701359587435, 0.05849838783970521, 0.054400707651481646, 0.05832591273374889, 0.04963570127504554, 0.06478624944909651, 0.050405040504050404]\n",
            "[0.02627050985574276, 0.028140331890331886, 0.02874517670788389, 0.03762149079609397, 0.03363593881784404, 0.034990266546870326, 0.030708951750900333, 0.02722308527700462, 0.03174621778700541, 0.026930571092247738, 0.023193838939084405, 0.02433179267551485, 0.024046426402983778, 0.024205299866384044, 0.021777892074921777]\n",
            "\n"
          ]
        }
      ],
      "source": [
        "                                       #Allsteps_predEval(model,UserItemMatList,holdout_DFList,n_epoch)\n",
        "hr10_List, mrr10_List, ALLUsers_Pred  = Allsteps_predEval(VAEmodel,UserItem_MATList,newHoldout_list,n_epochs) \n",
        "print(hr10_List)\n",
        "print(mrr10_List) "
      ]
    },
    {
      "cell_type": "code",
      "execution_count": null,
      "metadata": {},
      "outputs": [],
      "source": []
    },
    {
      "cell_type": "code",
      "execution_count": 113,
      "metadata": {},
      "outputs": [
        {
          "output_type": "execute_result",
          "data": {
            "text/plain": [
              "[0.06541129831516353,\n",
              " 0.06227272727272727,\n",
              " 0.06906077348066299,\n",
              " 0.08128908128908129,\n",
              " 0.07659167065581618,\n",
              " 0.0660377358490566,\n",
              " 0.06269733874605322,\n",
              " 0.05663797009515179,\n",
              " 0.07688701359587435,\n",
              " 0.05849838783970521,\n",
              " 0.054400707651481646,\n",
              " 0.05832591273374889,\n",
              " 0.04963570127504554,\n",
              " 0.06478624944909651,\n",
              " 0.050405040504050404]"
            ]
          },
          "metadata": {},
          "execution_count": 113
        }
      ],
      "source": [
        "hr10_List"
      ]
    },
    {
      "cell_type": "code",
      "execution_count": 114,
      "metadata": {},
      "outputs": [
        {
          "output_type": "execute_result",
          "data": {
            "text/plain": [
              "[0.02627050985574276,\n",
              " 0.028140331890331886,\n",
              " 0.02874517670788389,\n",
              " 0.03762149079609397,\n",
              " 0.03363593881784404,\n",
              " 0.034990266546870326,\n",
              " 0.030708951750900333,\n",
              " 0.02722308527700462,\n",
              " 0.03174621778700541,\n",
              " 0.026930571092247738,\n",
              " 0.023193838939084405,\n",
              " 0.02433179267551485,\n",
              " 0.024046426402983778,\n",
              " 0.024205299866384044,\n",
              " 0.021777892074921777]"
            ]
          },
          "metadata": {},
          "execution_count": 114
        }
      ],
      "source": [
        "mrr10_List"
      ]
    },
    {
      "cell_type": "code",
      "execution_count": 116,
      "metadata": {},
      "outputs": [],
      "source": [
        "with open('/mnt/bulky/oolaleke/TDM_Dataset/AMZ_GamesFiles/AMZgmsVAE_allPRED_NEW2.pkl', 'wb') as f: \n",
        "     pickle.dump(ALLUsers_Pred, f)"
      ]
    },
    {
      "cell_type": "code",
      "execution_count": 115,
      "metadata": {},
      "outputs": [
        {
          "output_type": "execute_result",
          "data": {
            "text/plain": [
              "[array([[  145,   243,   385, ...,   752,   204,    23],\n",
              "        [   29,    28,  2612, ..., 14958,   681,  7492],\n",
              "        [  151,   385,  1485, ...,   289,   225,   145],\n",
              "        ...,\n",
              "        [ 4190, 12918, 10874, ...,  4532,  7304, 12043],\n",
              "        [ 4190, 12918, 10874, ...,  4532,  7304, 12043],\n",
              "        [ 4190, 12918, 10874, ...,  4532,  7304, 12043]]),\n",
              " array([[  145,   243,   385, ...,   348,   436,  1050],\n",
              "        [   29,  5867,  3525, ..., 14958,  9995,   681],\n",
              "        [  385,   340,   145, ...,   270,   198,  1330],\n",
              "        ...,\n",
              "        [10874, 10344,  4190, ...,  9913, 15563,  4532],\n",
              "        [10874, 10344,  4190, ...,  9913, 15563,  4532],\n",
              "        [10874, 10344,  4190, ...,  9913, 15563,  4532]])]"
            ]
          },
          "metadata": {},
          "execution_count": 115
        }
      ],
      "source": [
        "ALLUsers_Pred[:2]"
      ]
    },
    {
      "cell_type": "code",
      "execution_count": 117,
      "metadata": {},
      "outputs": [
        {
          "output_type": "execute_result",
          "data": {
            "text/plain": [
              "[0.667976,\n",
              " 0.682411,\n",
              " 0.709955,\n",
              " 0.723871,\n",
              " 0.73438,\n",
              " 0.737903,\n",
              " 0.754995,\n",
              " 0.763252,\n",
              " 0.769777,\n",
              " 0.766082,\n",
              " 0.770874,\n",
              " 0.774685,\n",
              " 0.774512,\n",
              " 0.782481,\n",
              " 0.781499]"
            ]
          },
          "metadata": {},
          "execution_count": 117
        }
      ],
      "source": [
        "Cov_List = AllSteps_Coverage_Ratio(newAMZGames_DF,ALLUsers_Pred,'Updated_ItemID')\n",
        "Cov_List"
      ]
    },
    {
      "cell_type": "code",
      "execution_count": 118,
      "metadata": {},
      "outputs": [
        {
          "output_type": "stream",
          "name": "stdout",
          "text": [
            "14\n"
          ]
        },
        {
          "output_type": "execute_result",
          "data": {
            "text/plain": [
              "[1, 2, 3, 4, 5, 6, 7, 8, 9, 10, 11, 12, 13, 14]"
            ]
          },
          "metadata": {},
          "execution_count": 118
        }
      ],
      "source": [
        "AllSteps = list(range(1,15))\n",
        "print(len(AllSteps))\n",
        "AllSteps"
      ]
    },
    {
      "cell_type": "code",
      "execution_count": 119,
      "metadata": {},
      "outputs": [
        {
          "output_type": "execute_result",
          "data": {
            "text/plain": [
              "array([array([0.66708075, 0.32145734, 0.23366204, ..., 0.        , 0.        ,\n",
              "              0.        ])                                                    ,\n",
              "       array([0.42065249, 0.15058457, 0.11647255, ..., 0.        , 0.        ,\n",
              "              0.        ])                                                    ,\n",
              "       array([0.30915218, 0.30752879, 0.08880366, ..., 0.        , 0.01933435,\n",
              "              0.02499653])                                                    ,\n",
              "       array([0.25869714, 0.12326891, 0.28835748, ..., 0.08880366, 0.        ,\n",
              "              0.21      ])                                                    ,\n",
              "       array([0.27588591, 0.36143134, 0.09186391, ..., 0.        , 0.        ,\n",
              "              0.02928462])                                                    ,\n",
              "       array([0.29707407, 0.64497437, 0.43181377, ..., 0.04531936, 0.        ,\n",
              "              0.        ])                                                    ,\n",
              "       array([0.6166904 , 0.19559407, 0.23769598, ..., 0.01736733, 0.40043639,\n",
              "              0.07328777])                                                    ,\n",
              "       array([0.42738348, 0.22050434, 0.28164612, ..., 0.06033616, 0.01736733,\n",
              "              0.19792258])                                                    ,\n",
              "       array([0.52326901, 0.38975711, 0.18418097, ..., 0.0476934 , 0.06033616,\n",
              "              0.        ])                                                    ,\n",
              "       array([0.32181232, 0.27898111, 0.41357847, ..., 0.        , 0.21838891,\n",
              "              0.        ])                                                    ,\n",
              "       array([0.27390404, 0.17233164, 0.24311579, ..., 0.10271159, 0.        ,\n",
              "              0.        ])                                                    ,\n",
              "       array([0.33689549, 0.12661223, 0.22760915, ..., 0.        , 0.        ,\n",
              "              0.        ])                                                    ,\n",
              "       array([0.41493338, 0.15780392, 0.2828713 , ..., 0.        , 0.28835748,\n",
              "              0.        ])                                                    ,\n",
              "       array([0.25197184, 0.35282258, 0.47693847, ..., 0.01933435, 0.04457968,\n",
              "              0.        ])                                                    ],\n",
              "      dtype=object)"
            ]
          },
          "metadata": {},
          "execution_count": 119
        }
      ],
      "source": [
        "UpdtPSICorr_ = Updt_getAll_AvgCorr(ALLUsers_Pred,newUserItem_list,AllSteps,'Updated_UserID')  #,\n",
        "UpdtPSICorr_\n"
      ]
    },
    {
      "cell_type": "code",
      "execution_count": null,
      "metadata": {},
      "outputs": [],
      "source": []
    },
    {
      "cell_type": "code",
      "execution_count": 120,
      "metadata": {},
      "outputs": [
        {
          "output_type": "stream",
          "name": "stdout",
          "text": [
            "0.3171733674250139\n0.3424896252800678\n0.35240674070693684\n0.35635566796544155\n0.3540354833310521\n0.3585428097502578\n0.3590566627369354\n0.3575911089462821\n0.35591817581563023\n0.3502110547336786\n0.35379508485915956\n0.35726544280326017\n0.35334324644624404\n0.35097745703939615\n"
          ]
        }
      ],
      "source": [
        "UpdtPSICorr_.shape\n",
        "for df in UpdtPSICorr_:\n",
        "    print(df.mean())  "
      ]
    },
    {
      "cell_type": "code",
      "execution_count": 130,
      "metadata": {},
      "outputs": [],
      "source": [
        "# AllHitrate = SVDoptimalSearch(SVD_UserItemMAT[0],newHoldout_list[0],'Updated_UserID','Updated_ItemID',start=10,end=100,increment=10,N=10)"
      ]
    },
    {
      "cell_type": "code",
      "execution_count": null,
      "metadata": {},
      "outputs": [],
      "source": []
    },
    {
      "cell_type": "code",
      "execution_count": 2,
      "metadata": {},
      "outputs": [],
      "source": [
        "##MOVIELEN_1M"
      ]
    },
    {
      "cell_type": "code",
      "execution_count": 15,
      "metadata": {},
      "outputs": [
        {
          "output_type": "stream",
          "name": "stdout",
          "text": [
            "(575281, 9)\n"
          ]
        },
        {
          "output_type": "execute_result",
          "data": {
            "text/plain": [
              "   userId_int  movieId_int  rating           timestamp  userId  productId  \\\n",
              "0        6040          858       1 2000-04-25 23:05:32       0          0   \n",
              "1        6040         2384       1 2000-04-25 23:05:54       0          1   \n",
              "2        6040          593       1 2000-04-25 23:05:54       0          2   \n",
              "3        6040         1961       1 2000-04-25 23:06:17       0          3   \n",
              "4        6040         2019       1 2000-04-25 23:06:17       0          4   \n",
              "\n",
              "  timestamp_YM  Updated_UserID  Updated_ItemID  \n",
              "0      2000-04               0               0  \n",
              "1      2000-04               0               1  \n",
              "2      2000-04               0               2  \n",
              "3      2000-04               0               3  \n",
              "4      2000-04               0               4  "
            ],
            "text/html": "<div>\n<style scoped>\n    .dataframe tbody tr th:only-of-type {\n        vertical-align: middle;\n    }\n\n    .dataframe tbody tr th {\n        vertical-align: top;\n    }\n\n    .dataframe thead th {\n        text-align: right;\n    }\n</style>\n<table border=\"1\" class=\"dataframe\">\n  <thead>\n    <tr style=\"text-align: right;\">\n      <th></th>\n      <th>userId_int</th>\n      <th>movieId_int</th>\n      <th>rating</th>\n      <th>timestamp</th>\n      <th>userId</th>\n      <th>productId</th>\n      <th>timestamp_YM</th>\n      <th>Updated_UserID</th>\n      <th>Updated_ItemID</th>\n    </tr>\n  </thead>\n  <tbody>\n    <tr>\n      <th>0</th>\n      <td>6040</td>\n      <td>858</td>\n      <td>1</td>\n      <td>2000-04-25 23:05:32</td>\n      <td>0</td>\n      <td>0</td>\n      <td>2000-04</td>\n      <td>0</td>\n      <td>0</td>\n    </tr>\n    <tr>\n      <th>1</th>\n      <td>6040</td>\n      <td>2384</td>\n      <td>1</td>\n      <td>2000-04-25 23:05:54</td>\n      <td>0</td>\n      <td>1</td>\n      <td>2000-04</td>\n      <td>0</td>\n      <td>1</td>\n    </tr>\n    <tr>\n      <th>2</th>\n      <td>6040</td>\n      <td>593</td>\n      <td>1</td>\n      <td>2000-04-25 23:05:54</td>\n      <td>0</td>\n      <td>2</td>\n      <td>2000-04</td>\n      <td>0</td>\n      <td>2</td>\n    </tr>\n    <tr>\n      <th>3</th>\n      <td>6040</td>\n      <td>1961</td>\n      <td>1</td>\n      <td>2000-04-25 23:06:17</td>\n      <td>0</td>\n      <td>3</td>\n      <td>2000-04</td>\n      <td>0</td>\n      <td>3</td>\n    </tr>\n    <tr>\n      <th>4</th>\n      <td>6040</td>\n      <td>2019</td>\n      <td>1</td>\n      <td>2000-04-25 23:06:17</td>\n      <td>0</td>\n      <td>4</td>\n      <td>2000-04</td>\n      <td>0</td>\n      <td>4</td>\n    </tr>\n  </tbody>\n</table>\n</div>"
          },
          "metadata": {},
          "execution_count": 15
        }
      ],
      "source": [
        "#MOVIElen_1M\n",
        "newMLDF_1M = pd.read_csv('/mnt/bulky/oolaleke/TDM_Dataset/ML_1M/MLDF1M_afterUpdt.csv.zip')\n",
        "newMLDF_1M['timestamp'] = pd.to_datetime(newMLDF_1M['timestamp']) \n",
        "print(newMLDF_1M.shape)   #userId_int\n",
        "newMLDF_1M.head()"
      ]
    },
    {
      "cell_type": "code",
      "execution_count": 16,
      "metadata": {},
      "outputs": [],
      "source": [
        "import pickle\n",
        "\n",
        "with open('/mnt/bulky/oolaleke/TDM_Dataset/ML_1M/MLDF1M_newHoldout.pkl', 'rb') as f:\n",
        "     newHoldout_list = pickle.load(f)     \n",
        "    \n",
        "with open('/mnt/bulky/oolaleke/TDM_Dataset/ML_1M/MLDF1M_newUserItem.pkl', 'rb') as f:\n",
        "     newUserItem_list = pickle.load(f)\n"
      ]
    },
    {
      "cell_type": "code",
      "execution_count": 17,
      "metadata": {},
      "outputs": [
        {
          "output_type": "stream",
          "name": "stdout",
          "text": [
            "5787\n5787\n\n3483\n3482\n"
          ]
        }
      ],
      "source": [
        "UserItem_2 = newUserItem_list[0]\n",
        "valid_2 = newHoldout_list[0]\n",
        "print(UserItem_2['Updated_UserID'].max())\n",
        "print(valid_2['Updated_UserID'].max())\n",
        "print()\n",
        "print(UserItem_2['Updated_ItemID'].max())\n",
        "print(valid_2['Updated_ItemID'].max())\n"
      ]
    },
    {
      "cell_type": "code",
      "execution_count": 18,
      "metadata": {},
      "outputs": [
        {
          "output_type": "execute_result",
          "data": {
            "text/plain": [
              "<5788x3484 sparse matrix of type '<class 'numpy.float64'>'\n",
              "\twith 500332 stored elements in Compressed Sparse Row format>"
            ]
          },
          "metadata": {},
          "execution_count": 18
        }
      ],
      "source": [
        "row_i =  UserItem_2['Updated_UserID'].max()+1\n",
        "col_i =  UserItem_2['Updated_ItemID'].max()+1\n",
        "TrainDFRatMat_2 =  SingleRatingMatrix(UserItem_2,'Updated_UserID','Updated_ItemID',row_i,col_i)\n",
        "TrainDFRatMat_2"
      ]
    },
    {
      "cell_type": "code",
      "execution_count": 19,
      "metadata": {},
      "outputs": [
        {
          "output_type": "execute_result",
          "data": {
            "text/plain": [
              "<5788x3484 sparse matrix of type '<class 'numpy.float64'>'\n",
              "\twith 233 stored elements in Compressed Sparse Row format>"
            ]
          },
          "metadata": {},
          "execution_count": 19
        }
      ],
      "source": [
        "ValidDFRatMat_2 =  SingleRatingMatrix(valid_2,'Updated_UserID','Updated_ItemID',row_i,col_i)\n",
        "ValidDFRatMat_2"
      ]
    },
    {
      "cell_type": "code",
      "execution_count": 50,
      "metadata": {},
      "outputs": [],
      "source": [
        "dim = [200, 600]    #[64,128]"
      ]
    },
    {
      "cell_type": "code",
      "execution_count": 51,
      "metadata": {},
      "outputs": [
        {
          "output_type": "execute_result",
          "data": {
            "text/plain": [
              "MultiVAE(\n",
              "  (encode): Encoder(\n",
              "    (q_layers): Sequential(\n",
              "      (dropout_0): Dropout(p=0.5, inplace=False)\n",
              "      (linear_0): Linear(in_features=3484, out_features=600, bias=True)\n",
              "      (dropout_1): Dropout(p=0.0, inplace=False)\n",
              "      (linear_1): Linear(in_features=600, out_features=400, bias=True)\n",
              "    )\n",
              "  )\n",
              "  (decode): Decoder(\n",
              "    (p_layers): Sequential(\n",
              "      (dropout_0): Dropout(p=0.0, inplace=False)\n",
              "      (linear_0): Linear(in_features=200, out_features=600, bias=True)\n",
              "      (dropout_1): Dropout(p=0.0, inplace=False)\n",
              "      (linear_1): Linear(in_features=600, out_features=3484, bias=True)\n",
              "    )\n",
              "  )\n",
              ")"
            ]
          },
          "metadata": {},
          "execution_count": 51
        }
      ],
      "source": [
        "I =  TrainDFRatMat_2.shape[1] \n",
        "q_dims = [I] + dim[::-1]   \n",
        "p_dims = dim + [I]\n",
        "dropout_enc = [0.5, 0.]\n",
        "dropout_dec = [0., 0.]\n",
        "VAEmodel_ = MultiVAE(p_dims,q_dims,dropout_enc,dropout_dec)\n",
        "\n",
        "init_weights(VAEmodel_)\n",
        "VAEmodel_.to(device)\n",
        "optimizer = torch.optim.AdamW(VAEmodel_.parameters(), lr=1e-3, weight_decay=0.0)  \n",
        "VAEmodel_"
      ]
    },
    {
      "cell_type": "code",
      "execution_count": null,
      "metadata": {},
      "outputs": [],
      "source": []
    },
    {
      "cell_type": "code",
      "execution_count": 52,
      "metadata": {},
      "outputs": [
        {
          "output_type": "execute_result",
          "data": {
            "text/plain": [
              "11600.0"
            ]
          },
          "metadata": {},
          "execution_count": 52
        }
      ],
      "source": [
        "#BS_ = 100 | lr_ = 0.001 | n_epoch = 50\n",
        "\n",
        "batch_size = 100\n",
        "anneal_cap = 0.2\n",
        "update_count = 0\n",
        "n_epochs = 50\n",
        "constant_anneal = False\n",
        "\n",
        "total_anneal_steps = getTot_annealSTeps(TrainDFRatMat_2,batch_size,n_epochs,anneal_cap)\n",
        "total_anneal_steps\n"
      ]
    },
    {
      "cell_type": "code",
      "execution_count": 53,
      "metadata": {},
      "outputs": [
        {
          "output_type": "stream",
          "name": "stderr",
          "text": [
            "100%|██████████| 50/50 [00:16<00:00,  2.97it/s]\n"
          ]
        }
      ],
      "source": [
        "for epoch in tqdm(range(n_epochs)):\n",
        "    train_step(VAEmodel_, optimizer, TrainDFRatMat_2, epoch)"
      ]
    },
    {
      "cell_type": "code",
      "execution_count": 25,
      "metadata": {},
      "outputs": [
        {
          "output_type": "stream",
          "name": "stdout",
          "text": [
            "Number of hits:  20\nTotal Num of users:  233\nRecommendation HitRate:  0.08583690987124463\n\nMRR   :  0.019931534845697936\n"
          ]
        }
      ],
      "source": [
        "#Generate Prediction list:\n",
        "holdout_df2 = newHoldout_list[0]  #BS=100, EPOCH =50  | [200,600]\n",
        "AllUserPRED, hr_, mrr_ = getmetrics_(VAEmodel_,TrainDFRatMat_2,holdout_df2,k=10)\n",
        "print()\n",
        "print(\"MRR   : \",mrr_)"
      ]
    },
    {
      "cell_type": "code",
      "execution_count": 32,
      "metadata": {},
      "outputs": [
        {
          "output_type": "stream",
          "name": "stdout",
          "text": [
            "Number of hits:  16\nTotal Num of users:  233\nRecommendation HitRate:  0.06866952789699571\n\nMRR   :  0.020234689011513044\n"
          ]
        }
      ],
      "source": [
        "#Generate Prediction list:\n",
        "holdout_df2 = newHoldout_list[0]  #BS=200, EPOCH =100\n",
        "AllUserPRED, hr_, mrr_ = getmetrics_(VAEmodel_,TrainDFRatMat_2,holdout_df2,k=10)\n",
        "print()\n",
        "print(\"MRR   : \",mrr_)"
      ]
    },
    {
      "cell_type": "code",
      "execution_count": 48,
      "metadata": {},
      "outputs": [
        {
          "output_type": "stream",
          "name": "stdout",
          "text": [
            "('batch_size', 'lr_', 'n_epochs')\n"
          ]
        },
        {
          "output_type": "execute_result",
          "data": {
            "text/plain": [
              "40"
            ]
          },
          "metadata": {},
          "execution_count": 48
        }
      ],
      "source": [
        "als_params = dict(batch_size = [100,200,300,500],\n",
        "                  lr_ = [1e-5,1e-3,1e-1],\n",
        "                  n_epochs = [50,100,150,200])        # dim_i  = [0,1,2,3,4]\n",
        "als_param_grid, als_param_names = random_grid(als_params, n=40)\n",
        "print(als_param_names)\n",
        "len(als_param_grid)  "
      ]
    },
    {
      "cell_type": "code",
      "execution_count": 50,
      "metadata": {},
      "outputs": [
        {
          "output_type": "stream",
          "name": "stdout",
          "text": [
            "100 1e-05 50\n100 0.001 200\n200 0.001 50\n300 1e-05 50\n300 0.001 200\n500 0.1 200\n100 0.1 200\n500 0.001 150\n200 0.1 50\n100 0.001 50\n"
          ]
        }
      ],
      "source": [
        "for i in range(10):\n",
        "    batch_size, lr, n_epochs = list(als_param_grid)[i]  \n",
        "    print(batch_size, lr, n_epochs)   #pdim_list[dim_i])"
      ]
    },
    {
      "cell_type": "code",
      "execution_count": 51,
      "metadata": {},
      "outputs": [
        {
          "output_type": "stream",
          "name": "stderr",
          "text": [
            "  2%|▎         | 1/40 [00:17<11:22, 17.49s/it]\n",
            " BS_ = 100 | lr_ = 1e-05 | n_epoch = 50| HR = 0.060085836909871244 | MRR = 0.022162613257033857 \n",
            "  5%|▌         | 2/40 [01:24<29:26, 46.50s/it]\n",
            " BS_ = 100 | lr_ = 0.001 | n_epoch = 200| HR = 0.05150214592274678 | MRR = 0.014031950405340965 \n",
            "  8%|▊         | 3/40 [01:40<20:16, 32.89s/it]\n",
            " BS_ = 200 | lr_ = 0.001 | n_epoch = 50| HR = 0.07296137339055794 | MRR = 0.02134341576401662 \n",
            " 10%|█         | 4/40 [01:57<15:53, 26.49s/it]\n",
            " BS_ = 300 | lr_ = 1e-05 | n_epoch = 50| HR = 0.055793991416309016 | MRR = 0.01996900333810205 \n",
            " 12%|█▎        | 5/40 [03:05<24:06, 41.34s/it]\n",
            " BS_ = 300 | lr_ = 0.001 | n_epoch = 200| HR = 0.04721030042918455 | MRR = 0.011008924313645344 \n",
            " 15%|█▌        | 6/40 [04:14<28:42, 50.65s/it]\n",
            " BS_ = 500 | lr_ = 0.1 | n_epoch = 200| HR = 0.004291845493562232 | MRR = 0.0006131207847946045 \n",
            " 18%|█▊        | 7/40 [05:20<30:42, 55.84s/it]\n",
            " BS_ = 100 | lr_ = 0.1 | n_epoch = 200| HR = 0.004291845493562232 | MRR = 0.0006131207847946045 \n",
            " 20%|██        | 8/40 [06:11<28:52, 54.15s/it]\n",
            " BS_ = 500 | lr_ = 0.001 | n_epoch = 150| HR = 0.03862660944206009 | MRR = 0.007141154029566046 \n",
            " 22%|██▎       | 9/40 [06:28<21:59, 42.58s/it]\n",
            " BS_ = 200 | lr_ = 0.1 | n_epoch = 50| HR = 0.004291845493562232 | MRR = 0.0006131207847946045 \n",
            " 25%|██▌       | 10/40 [06:46<17:29, 34.99s/it]\n",
            " BS_ = 100 | lr_ = 0.001 | n_epoch = 50| HR = 0.07725321888412018 | MRR = 0.018322092785612098 \n",
            " 28%|██▊       | 11/40 [07:54<21:49, 45.16s/it]\n",
            " BS_ = 300 | lr_ = 0.1 | n_epoch = 200| HR = 0.004291845493562232 | MRR = 0.0006131207847946045 \n",
            " 30%|███       | 12/40 [08:11<17:01, 36.47s/it]\n",
            " BS_ = 300 | lr_ = 0.001 | n_epoch = 50| HR = 0.04721030042918455 | MRR = 0.014144355882553307 \n",
            " 32%|███▎      | 13/40 [09:02<18:27, 41.03s/it]\n",
            " BS_ = 300 | lr_ = 1e-05 | n_epoch = 150| HR = 0.055793991416309016 | MRR = 0.018741058655221743 \n",
            " 35%|███▌      | 14/40 [09:18<14:30, 33.48s/it]\n",
            " BS_ = 500 | lr_ = 0.1 | n_epoch = 50| HR = 0.004291845493562232 | MRR = 0.0006131207847946045 \n",
            " 38%|███▊      | 15/40 [09:36<12:00, 28.81s/it]\n",
            " BS_ = 300 | lr_ = 0.1 | n_epoch = 50| HR = 0.004291845493562232 | MRR = 0.0006131207847946045 \n",
            " 40%|████      | 16/40 [10:09<12:00, 30.00s/it]\n",
            " BS_ = 500 | lr_ = 1e-05 | n_epoch = 100| HR = 0.06437768240343347 | MRR = 0.021244635193133046 \n",
            " 42%|████▎     | 17/40 [11:01<13:59, 36.51s/it]\n",
            " BS_ = 100 | lr_ = 0.001 | n_epoch = 150| HR = 0.060085836909871244 | MRR = 0.017172491314122216 \n",
            " 45%|████▌     | 18/40 [11:51<14:55, 40.72s/it]\n",
            " BS_ = 200 | lr_ = 0.1 | n_epoch = 150| HR = 0.004291845493562232 | MRR = 0.0006131207847946045 \n",
            " 48%|████▊     | 19/40 [12:42<15:19, 43.78s/it]\n",
            " BS_ = 300 | lr_ = 0.001 | n_epoch = 150| HR = 0.04721030042918455 | MRR = 0.014883507050889025 \n",
            " 50%|█████     | 20/40 [13:18<13:48, 41.44s/it]\n",
            " BS_ = 200 | lr_ = 1e-05 | n_epoch = 100| HR = 0.060085836909871244 | MRR = 0.02447544110634239 \n",
            " 52%|█████▎    | 21/40 [14:11<14:13, 44.91s/it]\n",
            " BS_ = 500 | lr_ = 0.1 | n_epoch = 150| HR = 0.004291845493562232 | MRR = 0.0006131207847946045 \n",
            " 55%|█████▌    | 22/40 [15:03<14:05, 47.00s/it]\n",
            " BS_ = 300 | lr_ = 0.1 | n_epoch = 150| HR = 0.004291845493562232 | MRR = 0.0006131207847946045 \n",
            " 57%|█████▊    | 23/40 [16:14<15:22, 54.27s/it]\n",
            " BS_ = 500 | lr_ = 1e-05 | n_epoch = 200| HR = 0.05150214592274678 | MRR = 0.01789972068942026 \n",
            " 60%|██████    | 24/40 [16:51<13:03, 48.98s/it]\n",
            " BS_ = 300 | lr_ = 1e-05 | n_epoch = 100| HR = 0.060085836909871244 | MRR = 0.02020743919885551 \n",
            " 62%|██████▎   | 25/40 [17:26<11:15, 45.02s/it]\n",
            " BS_ = 100 | lr_ = 1e-05 | n_epoch = 100| HR = 0.060085836909871244 | MRR = 0.021030042918454936 \n",
            " 65%|██████▌   | 26/40 [18:03<09:53, 42.39s/it]\n",
            " BS_ = 200 | lr_ = 0.001 | n_epoch = 100| HR = 0.05150214592274678 | MRR = 0.015081068192656175 \n",
            " 68%|██████▊   | 27/40 [19:14<11:02, 50.96s/it]\n",
            " BS_ = 200 | lr_ = 1e-05 | n_epoch = 200| HR = 0.055793991416309016 | MRR = 0.016509980243885825 \n",
            " 70%|███████   | 28/40 [19:31<08:09, 40.76s/it]\n",
            " BS_ = 500 | lr_ = 1e-05 | n_epoch = 50| HR = 0.06437768240343347 | MRR = 0.02175045984058859 \n",
            " 72%|███████▎  | 29/40 [20:42<09:09, 49.92s/it]\n",
            " BS_ = 500 | lr_ = 0.001 | n_epoch = 200| HR = 0.04721030042918455 | MRR = 0.01307139450916275 \n",
            " 75%|███████▌  | 30/40 [21:17<07:34, 45.47s/it]\n",
            " BS_ = 100 | lr_ = 0.001 | n_epoch = 100| HR = 0.07296137339055794 | MRR = 0.025458137475304857 \n",
            " 78%|███████▊  | 31/40 [21:52<06:20, 42.30s/it]\n",
            " BS_ = 200 | lr_ = 0.1 | n_epoch = 100| HR = 0.004291845493562232 | MRR = 0.0006131207847946045 \n",
            " 80%|████████  | 32/40 [23:03<06:48, 51.03s/it]\n",
            " BS_ = 100 | lr_ = 1e-05 | n_epoch = 200| HR = 0.060085836909871244 | MRR = 0.018471966755228556 \n",
            " 82%|████████▎ | 33/40 [23:21<04:47, 41.09s/it]\n",
            " BS_ = 200 | lr_ = 1e-05 | n_epoch = 50| HR = 0.06437768240343347 | MRR = 0.021268478779208393 \n",
            " 85%|████████▌ | 34/40 [23:57<03:57, 39.64s/it]\n",
            " BS_ = 300 | lr_ = 0.001 | n_epoch = 100| HR = 0.04291845493562232 | MRR = 0.013464813679405952 \n",
            " 88%|████████▊ | 35/40 [24:32<03:11, 38.26s/it]\n",
            " BS_ = 500 | lr_ = 0.1 | n_epoch = 100| HR = 0.004291845493562232 | MRR = 0.0006131207847946045 \n",
            " 90%|█████████ | 36/40 [25:44<03:12, 48.17s/it]\n",
            " BS_ = 200 | lr_ = 0.001 | n_epoch = 200| HR = 0.060085836909871244 | MRR = 0.013822467470536141 \n",
            " 92%|█████████▎| 37/40 [26:19<02:13, 44.42s/it]\n",
            " BS_ = 100 | lr_ = 0.1 | n_epoch = 100| HR = 0.004291845493562232 | MRR = 0.0006131207847946045 \n",
            " 95%|█████████▌| 38/40 [26:38<01:13, 36.59s/it]\n",
            " BS_ = 500 | lr_ = 0.001 | n_epoch = 50| HR = 0.06866952789699571 | MRR = 0.018078547584985352 \n",
            " 98%|█████████▊| 39/40 [27:14<00:36, 36.52s/it]\n",
            " BS_ = 300 | lr_ = 0.1 | n_epoch = 100| HR = 0.004291845493562232 | MRR = 0.0006131207847946045 \n",
            "100%|██████████| 40/40 [28:05<00:00, 42.15s/it]\n",
            " BS_ = 500 | lr_ = 1e-05 | n_epoch = 150| HR = 0.05150214592274678 | MRR = 0.018114312964098375 \n",
            "\n",
            " Best_param; BS_ = 100 | lr_ = 0.001 | n_epoch = 50 | HR = 0.07725321888412018 | MRR = 0.018322092785612098\n",
            "\n"
          ]
        }
      ],
      "source": [
        "anneal_cap = 0.2\n",
        "update_count = 0\n",
        "constant_anneal = False    \n",
        "\n",
        "                #tuning_model(train_Mat,holdout_df,als_param_grid)\n",
        "bestModelInfo = tuning_model(TrainDFRatMat_2,holdout_df2,als_param_grid)"
      ]
    },
    {
      "cell_type": "code",
      "execution_count": null,
      "metadata": {},
      "outputs": [],
      "source": [
        "##Tuning Dimension"
      ]
    },
    {
      "cell_type": "code",
      "execution_count": 38,
      "metadata": {},
      "outputs": [
        {
          "output_type": "stream",
          "name": "stderr",
          "text": [
            " 17%|█▋        | 1/6 [00:09<00:45,  9.11s/it]\n",
            " p_dim = [32, 64] ,HR = 0.04291845493562232 , MRR = 0.01639757476667348 \n",
            " 33%|███▎      | 2/6 [00:17<00:35,  8.93s/it]\n",
            " p_dim = [64, 128] ,HR = 0.06866952789699571 , MRR = 0.0155971115198583 \n",
            " 50%|█████     | 3/6 [00:26<00:26,  8.94s/it]\n",
            " p_dim = [256, 512] ,HR = 0.034334763948497854 , MRR = 0.006764765992233803 \n",
            " 67%|██████▋   | 4/6 [00:35<00:17,  8.96s/it]\n",
            " p_dim = [100, 300] ,HR = 0.04721030042918455 , MRR = 0.011587982832618027 \n",
            " 83%|████████▎ | 5/6 [00:43<00:08,  8.63s/it]\n",
            " p_dim = [200, 600] ,HR = 0.06437768240343347 , MRR = 0.012224947203487975 \n",
            "100%|██████████| 6/6 [00:52<00:00,  8.82s/it]\n",
            " p_dim = [300, 900] ,HR = 0.060085836909871244 , MRR = 0.02159377341780775 \n",
            "\n",
            " Best_param; p_dim = [64, 128],HR = 0.06866952789699571 ,MRR = 0.0155971115198583\n",
            "\n"
          ]
        }
      ],
      "source": [
        "pdim_list = [[32,64],[64,128],[256,512],[100,300],[200,600],[300,900]]\n",
        "\n",
        "                             #tuning_dim(train_Mat,holdout_df,pdim_list,lr,batch_size,n_epochs):\n",
        "best_dims,best_hr,best_mrr = tuning_dim(TrainDFRatMat_2,holdout_df2,pdim_list,lr=0.001,batch_size=100,n_epochs=50)"
      ]
    },
    {
      "cell_type": "code",
      "execution_count": null,
      "metadata": {},
      "outputs": [],
      "source": []
    },
    {
      "cell_type": "code",
      "execution_count": 72,
      "metadata": {},
      "outputs": [
        {
          "output_type": "stream",
          "name": "stdout",
          "text": [
            "10\n"
          ]
        },
        {
          "output_type": "execute_result",
          "data": {
            "text/plain": [
              "[<6038x3533 sparse matrix of type '<class 'numpy.float64'>'\n",
              " \twith 500332 stored elements in Compressed Sparse Row format>,\n",
              " <6038x3533 sparse matrix of type '<class 'numpy.float64'>'\n",
              " \twith 508812 stored elements in Compressed Sparse Row format>,\n",
              " <6038x3533 sparse matrix of type '<class 'numpy.float64'>'\n",
              " \twith 517278 stored elements in Compressed Sparse Row format>,\n",
              " <6038x3533 sparse matrix of type '<class 'numpy.float64'>'\n",
              " \twith 525757 stored elements in Compressed Sparse Row format>,\n",
              " <6038x3533 sparse matrix of type '<class 'numpy.float64'>'\n",
              " \twith 534098 stored elements in Compressed Sparse Row format>,\n",
              " <6038x3533 sparse matrix of type '<class 'numpy.float64'>'\n",
              " \twith 542538 stored elements in Compressed Sparse Row format>,\n",
              " <6038x3533 sparse matrix of type '<class 'numpy.float64'>'\n",
              " \twith 551048 stored elements in Compressed Sparse Row format>,\n",
              " <6038x3533 sparse matrix of type '<class 'numpy.float64'>'\n",
              " \twith 559597 stored elements in Compressed Sparse Row format>,\n",
              " <6038x3533 sparse matrix of type '<class 'numpy.float64'>'\n",
              " \twith 568114 stored elements in Compressed Sparse Row format>,\n",
              " <6038x3533 sparse matrix of type '<class 'numpy.float64'>'\n",
              " \twith 574919 stored elements in Compressed Sparse Row format>]"
            ]
          },
          "metadata": {},
          "execution_count": 72
        }
      ],
      "source": [
        "rows_i = newMLDF_1M['Updated_UserID'].nunique()\n",
        "cols_i = newMLDF_1M['Updated_ItemID'].nunique()\n",
        "UserItem_MATList = AllRatingMatrices(newUserItem_list,'Updated_UserID','Updated_ItemID',rows_i ,cols_i) \n",
        "print(len(UserItem_MATList))   \n",
        "UserItem_MATList"
      ]
    },
    {
      "cell_type": "code",
      "execution_count": 74,
      "metadata": {},
      "outputs": [
        {
          "output_type": "execute_result",
          "data": {
            "text/plain": [
              "MultiVAE(\n",
              "  (encode): Encoder(\n",
              "    (q_layers): Sequential(\n",
              "      (dropout_0): Dropout(p=0.5, inplace=False)\n",
              "      (linear_0): Linear(in_features=3533, out_features=600, bias=True)\n",
              "      (dropout_1): Dropout(p=0.0, inplace=False)\n",
              "      (linear_1): Linear(in_features=600, out_features=400, bias=True)\n",
              "    )\n",
              "  )\n",
              "  (decode): Decoder(\n",
              "    (p_layers): Sequential(\n",
              "      (dropout_0): Dropout(p=0.0, inplace=False)\n",
              "      (linear_0): Linear(in_features=200, out_features=600, bias=True)\n",
              "      (dropout_1): Dropout(p=0.0, inplace=False)\n",
              "      (linear_1): Linear(in_features=600, out_features=3533, bias=True)\n",
              "    )\n",
              "  )\n",
              ")"
            ]
          },
          "metadata": {},
          "execution_count": 74
        }
      ],
      "source": [
        "dim = [200,600]\n",
        "I =  UserItem_MATList[0].shape[1] \n",
        "q_dims = [I] + dim[::-1]   \n",
        "p_dims = dim + [I]\n",
        "dropout_enc = [0.5, 0.]\n",
        "dropout_dec = [0., 0.]\n",
        "VAEmodel_ml1 = MultiVAE(p_dims,q_dims,dropout_enc,dropout_dec)\n",
        "\n",
        "init_weights(VAEmodel_ml1)\n",
        "VAEmodel_ml1.to(device)\n",
        "optimizer = torch.optim.AdamW(VAEmodel_ml1.parameters(), lr=1e-3, weight_decay=0.0)  \n",
        "VAEmodel_ml1"
      ]
    },
    {
      "cell_type": "code",
      "execution_count": 82,
      "metadata": {},
      "outputs": [
        {
          "output_type": "execute_result",
          "data": {
            "text/plain": [
              "11600.0"
            ]
          },
          "metadata": {},
          "execution_count": 82
        }
      ],
      "source": [
        "#BS_ = 100 | lr_ = 0.001 | n_epoch = 50\n",
        "                                    \n",
        "batch_size = 100\n",
        "anneal_cap = 0.2\n",
        "update_count = 0\n",
        "n_epochs = 50\n",
        "constant_anneal = False\n",
        "\n",
        "total_anneal_steps = getTot_annealSTeps(TrainDFRatMat_2,batch_size,n_epochs,anneal_cap)\n",
        "total_anneal_steps"
      ]
    },
    {
      "cell_type": "code",
      "execution_count": 62,
      "metadata": {},
      "outputs": [
        {
          "output_type": "stream",
          "name": "stderr",
          "text": [
            "1it [00:18, 18.50s/it]Number of hits:  14\n",
            "Total Num of users:  233\n",
            "Recommendation HitRate:  0.060085836909871244\n",
            "| HitRate  0.060 | Mrr 0.014 | \n",
            "2it [00:36, 17.94s/it]Number of hits:  17\n",
            "Total Num of users:  255\n",
            "Recommendation HitRate:  0.06666666666666667\n",
            "| HitRate  0.067 | Mrr 0.028 | \n",
            "3it [00:52, 17.21s/it]Number of hits:  28\n",
            "Total Num of users:  286\n",
            "Recommendation HitRate:  0.0979020979020979\n",
            "| HitRate  0.098 | Mrr 0.026 | \n",
            "4it [01:09, 17.03s/it]Number of hits:  21\n",
            "Total Num of users:  309\n",
            "Recommendation HitRate:  0.06796116504854369\n",
            "| HitRate  0.068 | Mrr 0.027 | \n",
            "5it [01:27, 17.48s/it]Number of hits:  17\n",
            "Total Num of users:  468\n",
            "Recommendation HitRate:  0.03632478632478633\n",
            "| HitRate  0.036 | Mrr 0.006 | \n",
            "6it [01:45, 17.66s/it]Number of hits:  28\n",
            "Total Num of users:  526\n",
            "Recommendation HitRate:  0.053231939163498096\n",
            "| HitRate  0.053 | Mrr 0.017 | \n",
            "7it [02:03, 17.83s/it]Number of hits:  34\n",
            "Total Num of users:  517\n",
            "Recommendation HitRate:  0.06576402321083172\n",
            "| HitRate  0.066 | Mrr 0.018 | \n",
            "8it [02:22, 18.08s/it]Number of hits:  19\n",
            "Total Num of users:  470\n",
            "Recommendation HitRate:  0.04042553191489362\n",
            "| HitRate  0.040 | Mrr 0.015 | \n",
            "9it [02:40, 18.22s/it]Number of hits:  26\n",
            "Total Num of users:  453\n",
            "Recommendation HitRate:  0.05739514348785872\n",
            "| HitRate  0.057 | Mrr 0.015 | \n",
            "10it [02:59, 17.91s/it]Number of hits:  18\n",
            "Total Num of users:  362\n",
            "Recommendation HitRate:  0.049723756906077346\n",
            "| HitRate  0.050 | Mrr 0.014 | \n",
            "[0.060085836909871244, 0.06666666666666667, 0.0979020979020979, 0.06796116504854369, 0.03632478632478633, 0.053231939163498096, 0.06576402321083172, 0.04042553191489362, 0.05739514348785872, 0.049723756906077346]\n",
            "[0.014461134954697185, 0.027972300031123564, 0.025538350538350536, 0.026945600246571118, 0.0063025708859042184, 0.01651804574808377, 0.017650670842160203, 0.014615839243498819, 0.014880514383825642, 0.014007278786284313]\n",
            "\n"
          ]
        }
      ],
      "source": [
        "                                       #BS_ = 100 | lr_ = 0.001 | n_epoch = 50\n",
        "                                       #Allsteps_predEval(model,UserItemMatList,holdout_DFList,n_epoch)\n",
        "hr10_List, mrr10_List, ALLUsers_Pred  = Allsteps_predEval(VAEmodel_ml1,UserItem_MATList,newHoldout_list,n_epochs) \n",
        "print(hr10_List)\n",
        "print(mrr10_List) "
      ]
    },
    {
      "cell_type": "code",
      "execution_count": 63,
      "metadata": {},
      "outputs": [
        {
          "output_type": "execute_result",
          "data": {
            "text/plain": [
              "[0.060085836909871244,\n",
              " 0.06666666666666667,\n",
              " 0.0979020979020979,\n",
              " 0.06796116504854369,\n",
              " 0.03632478632478633,\n",
              " 0.053231939163498096,\n",
              " 0.06576402321083172,\n",
              " 0.04042553191489362,\n",
              " 0.05739514348785872,\n",
              " 0.049723756906077346]"
            ]
          },
          "metadata": {},
          "execution_count": 63
        }
      ],
      "source": [
        "hr10_List"
      ]
    },
    {
      "cell_type": "code",
      "execution_count": 64,
      "metadata": {},
      "outputs": [
        {
          "output_type": "execute_result",
          "data": {
            "text/plain": [
              "[0.014461134954697185,\n",
              " 0.027972300031123564,\n",
              " 0.025538350538350536,\n",
              " 0.026945600246571118,\n",
              " 0.0063025708859042184,\n",
              " 0.01651804574808377,\n",
              " 0.017650670842160203,\n",
              " 0.014615839243498819,\n",
              " 0.014880514383825642,\n",
              " 0.014007278786284313]"
            ]
          },
          "metadata": {},
          "execution_count": 64
        }
      ],
      "source": [
        "mrr10_List"
      ]
    },
    {
      "cell_type": "code",
      "execution_count": 65,
      "metadata": {},
      "outputs": [
        {
          "output_type": "execute_result",
          "data": {
            "text/plain": [
              "[array([[ 247,  566,  256, ..., 1564,  246,  134],\n",
              "        [ 369,  563, 1650, ...,  630,  564,  398],\n",
              "        [ 478,   73,   59, ...,   19,  138,  538],\n",
              "        ...,\n",
              "        [  19,   91,   22, ...,  330,  129,   89],\n",
              "        [  19,   91,   22, ...,  330,  129,   89],\n",
              "        [  19,   91,   22, ...,  330,  129,   89]]),\n",
              " array([[1042,  247,  566, ...,  134,  242, 1296],\n",
              "        [1650,  538,  497, ...,  240,  412,  564],\n",
              "        [ 478,  219,   54, ...,  564,  408,   73],\n",
              "        ...,\n",
              "        [  19,  137,   91, ...,  330,    2,  129],\n",
              "        [  19,  137,   91, ...,  330,    2,  129],\n",
              "        [  19,  137,   91, ...,  330,    2,  129]])]"
            ]
          },
          "metadata": {},
          "execution_count": 65
        }
      ],
      "source": [
        "ALLUsers_Pred[:2]"
      ]
    },
    {
      "cell_type": "code",
      "execution_count": 66,
      "metadata": {},
      "outputs": [],
      "source": [
        "with open('/mnt/bulky/oolaleke/TDM_Dataset/ML_1M/ML_1MVAE_allPRED_NEW.pkl', 'wb') as f: \n",
        "     pickle.dump(ALLUsers_Pred, f)"
      ]
    },
    {
      "cell_type": "code",
      "execution_count": 67,
      "metadata": {},
      "outputs": [
        {
          "output_type": "execute_result",
          "data": {
            "text/plain": [
              "[0.536088,\n",
              " 0.49533,\n",
              " 0.467025,\n",
              " 0.457968,\n",
              " 0.447495,\n",
              " 0.43957,\n",
              " 0.442966,\n",
              " 0.431644,\n",
              " 0.442117,\n",
              " 0.438155]"
            ]
          },
          "metadata": {},
          "execution_count": 67
        }
      ],
      "source": [
        "Cov_List = AllSteps_Coverage_Ratio(newMLDF_1M,ALLUsers_Pred,'Updated_ItemID')\n",
        "Cov_List    #Hello2021"
      ]
    },
    {
      "cell_type": "code",
      "execution_count": 68,
      "metadata": {},
      "outputs": [
        {
          "output_type": "stream",
          "name": "stdout",
          "text": [
            "9\n"
          ]
        },
        {
          "output_type": "execute_result",
          "data": {
            "text/plain": [
              "[1, 2, 3, 4, 5, 6, 7, 8, 9]"
            ]
          },
          "metadata": {},
          "execution_count": 68
        }
      ],
      "source": [
        "AllSteps = list(range(1,10))\n",
        "print(len(AllSteps))\n",
        "AllSteps"
      ]
    },
    {
      "cell_type": "code",
      "execution_count": 70,
      "metadata": {},
      "outputs": [
        {
          "output_type": "execute_result",
          "data": {
            "text/plain": [
              "array([array([0.32680209, 0.2472119 , 0.52326901, ..., 0.3441996 , 0.56443408,\n",
              "              0.32216749])                                                    ,\n",
              "       array([0.39067358, 0.20930614, 0.63931149, ..., 0.41833205, 0.05578601,\n",
              "              0.65939748])                                                    ,\n",
              "       array([0.38610329, 0.22151427, 0.71332405, ..., 0.37346483, 0.01933435,\n",
              "              0.3952741 ])                                                    ,\n",
              "       array([0.3243025 , 0.19967493, 0.56228172, ..., 0.20584872, 0.2293471 ,\n",
              "              0.15310108])                                                    ,\n",
              "       array([0.2405042 , 0.29309741, 0.40363221, ..., 0.22080715, 0.32264134,\n",
              "              0.67902639])                                                    ,\n",
              "       array([0.41874099, 0.41168595, 0.43557328, ..., 0.12773109, 0.29468514,\n",
              "              0.15121266])                                                    ,\n",
              "       array([0.25122902, 0.26441113, 0.69795261, ..., 0.30950058, 0.61917297,\n",
              "              0.02499653])                                                    ,\n",
              "       array([0.33689549, 0.29027183, 0.62112893, ..., 0.        , 0.05397687,\n",
              "              0.66257461])                                                    ,\n",
              "       array([0.21278344, 0.11790988, 0.50971569, ..., 0.13205521, 0.3654611 ,\n",
              "              0.24342992])                                                    ],\n",
              "      dtype=object)"
            ]
          },
          "metadata": {},
          "execution_count": 70
        }
      ],
      "source": [
        "UpdtPSICorr_ = Updt_getAll_AvgCorr(ALLUsers_Pred,newUserItem_list,AllSteps,'Updated_UserID')  #,\n",
        "UpdtPSICorr_"
      ]
    },
    {
      "cell_type": "code",
      "execution_count": 71,
      "metadata": {},
      "outputs": [
        {
          "output_type": "stream",
          "name": "stdout",
          "text": [
            "(9,)\n0.3453725730844539\n0.4009852104303515\n0.43006594151081473\n0.438709649557558\n0.4388300808238541\n0.4403475362482562\n0.44581312224985903\n0.44451138645394694\n0.44270213323950186\n"
          ]
        }
      ],
      "source": [
        "print(UpdtPSICorr_.shape)\n",
        "for df in UpdtPSICorr_:\n",
        "    print(df.mean())  "
      ]
    },
    {
      "cell_type": "code",
      "execution_count": null,
      "metadata": {},
      "outputs": [],
      "source": []
    },
    {
      "cell_type": "code",
      "execution_count": null,
      "metadata": {},
      "outputs": [],
      "source": []
    },
    {
      "cell_type": "markdown",
      "metadata": {
        "id": "HFL2d28bNlyK"
      },
      "source": [
        "# Amazon_Bty"
      ]
    },
    {
      "cell_type": "code",
      "execution_count": 131,
      "metadata": {},
      "outputs": [
        {
          "output_type": "stream",
          "name": "stdout",
          "text": [
            "(51277, 7)\n"
          ]
        },
        {
          "output_type": "execute_result",
          "data": {
            "text/plain": [
              "   userId  productId  rating  timestamp timestamp_YM  Updated_UserID  \\\n",
              "0       0          0       1 2001-06-08      2001-06               0   \n",
              "1       1          0       1 2002-06-12      2002-06               1   \n",
              "2       1          1       1 2002-06-12      2002-06               1   \n",
              "3       2          1       1 2002-06-17      2002-06               2   \n",
              "4       3          1       1 2002-07-04      2002-07               3   \n",
              "\n",
              "   Updated_ItemID  \n",
              "0               0  \n",
              "1               0  \n",
              "2               1  \n",
              "3               1  \n",
              "4               1  "
            ],
            "text/html": "<div>\n<style scoped>\n    .dataframe tbody tr th:only-of-type {\n        vertical-align: middle;\n    }\n\n    .dataframe tbody tr th {\n        vertical-align: top;\n    }\n\n    .dataframe thead th {\n        text-align: right;\n    }\n</style>\n<table border=\"1\" class=\"dataframe\">\n  <thead>\n    <tr style=\"text-align: right;\">\n      <th></th>\n      <th>userId</th>\n      <th>productId</th>\n      <th>rating</th>\n      <th>timestamp</th>\n      <th>timestamp_YM</th>\n      <th>Updated_UserID</th>\n      <th>Updated_ItemID</th>\n    </tr>\n  </thead>\n  <tbody>\n    <tr>\n      <th>0</th>\n      <td>0</td>\n      <td>0</td>\n      <td>1</td>\n      <td>2001-06-08</td>\n      <td>2001-06</td>\n      <td>0</td>\n      <td>0</td>\n    </tr>\n    <tr>\n      <th>1</th>\n      <td>1</td>\n      <td>0</td>\n      <td>1</td>\n      <td>2002-06-12</td>\n      <td>2002-06</td>\n      <td>1</td>\n      <td>0</td>\n    </tr>\n    <tr>\n      <th>2</th>\n      <td>1</td>\n      <td>1</td>\n      <td>1</td>\n      <td>2002-06-12</td>\n      <td>2002-06</td>\n      <td>1</td>\n      <td>1</td>\n    </tr>\n    <tr>\n      <th>3</th>\n      <td>2</td>\n      <td>1</td>\n      <td>1</td>\n      <td>2002-06-17</td>\n      <td>2002-06</td>\n      <td>2</td>\n      <td>1</td>\n    </tr>\n    <tr>\n      <th>4</th>\n      <td>3</td>\n      <td>1</td>\n      <td>1</td>\n      <td>2002-07-04</td>\n      <td>2002-07</td>\n      <td>3</td>\n      <td>1</td>\n    </tr>\n  </tbody>\n</table>\n</div>"
          },
          "metadata": {},
          "execution_count": 131
        }
      ],
      "source": [
        "newAMZB_DF = pd.read_csv('/mnt/bulky/oolaleke/TDM_Dataset/AMZ_Btyfiles/AMZB_afterUpdt.csv') \n",
        "newAMZB_DF['timestamp'] = pd.to_datetime(newAMZB_DF['timestamp']) \n",
        "print(newAMZB_DF.shape)   #userId_int\n",
        "newAMZB_DF.head()"
      ]
    },
    {
      "cell_type": "code",
      "execution_count": 241,
      "metadata": {},
      "outputs": [],
      "source": [
        "\n",
        "with open('/mnt/bulky/oolaleke/TDM_Dataset/AMZ_Btyfiles/AMZB_newHoldout.pkl', 'rb') as f:\n",
        "     newHoldout_list = pickle.load(f)     \n",
        "    \n",
        "with open('/mnt/bulky/oolaleke/TDM_Dataset/AMZ_Btyfiles/AMZB_newUserItem.pkl', 'rb') as f:\n",
        "     newUserItem_list = pickle.load(f)\n"
      ]
    },
    {
      "cell_type": "code",
      "execution_count": 230,
      "metadata": {},
      "outputs": [
        {
          "output_type": "stream",
          "name": "stdout",
          "text": [
            "19385\n19385\n\n6536\n6530\n"
          ]
        }
      ],
      "source": [
        "UserItem_2 = newUserItem_list[0]\n",
        "valid_2 = newHoldout_list[0]\n",
        "print(UserItem_2['Updated_UserID'].max())\n",
        "print(valid_2['Updated_UserID'].max())\n",
        "print()\n",
        "print(UserItem_2['Updated_ItemID'].max())\n",
        "print(valid_2['Updated_ItemID'].max())"
      ]
    },
    {
      "cell_type": "code",
      "execution_count": 138,
      "metadata": {},
      "outputs": [
        {
          "output_type": "execute_result",
          "data": {
            "text/plain": [
              "<19386x6537 sparse matrix of type '<class 'numpy.float64'>'\n",
              "\twith 40228 stored elements in Compressed Sparse Row format>"
            ]
          },
          "metadata": {},
          "execution_count": 138
        }
      ],
      "source": [
        "row_i =  UserItem_2['Updated_UserID'].max()+1\n",
        "col_i =  UserItem_2['Updated_ItemID'].max()+1\n",
        "TrainDFRatMat_2 =  SingleRatingMatrix(UserItem_2,'Updated_UserID','Updated_ItemID',row_i,col_i)\n",
        "TrainDFRatMat_2"
      ]
    },
    {
      "cell_type": "code",
      "execution_count": 139,
      "metadata": {},
      "outputs": [
        {
          "output_type": "execute_result",
          "data": {
            "text/plain": [
              "<19386x6537 sparse matrix of type '<class 'numpy.float64'>'\n",
              "\twith 474 stored elements in Compressed Sparse Row format>"
            ]
          },
          "metadata": {},
          "execution_count": 139
        }
      ],
      "source": [
        "ValidDFRatMat_2 =  SingleRatingMatrix(valid_2,'Updated_UserID','Updated_ItemID',row_i,col_i)\n",
        "ValidDFRatMat_2"
      ]
    },
    {
      "cell_type": "code",
      "execution_count": 211,
      "metadata": {},
      "outputs": [
        {
          "output_type": "execute_result",
          "data": {
            "text/plain": [
              "MultiVAE(\n",
              "  (encode): Encoder(\n",
              "    (q_layers): Sequential(\n",
              "      (dropout_0): Dropout(p=0.5, inplace=False)\n",
              "      (linear_0): Linear(in_features=6537, out_features=600, bias=True)\n",
              "      (dropout_1): Dropout(p=0.0, inplace=False)\n",
              "      (linear_1): Linear(in_features=600, out_features=400, bias=True)\n",
              "    )\n",
              "  )\n",
              "  (decode): Decoder(\n",
              "    (p_layers): Sequential(\n",
              "      (dropout_0): Dropout(p=0.0, inplace=False)\n",
              "      (linear_0): Linear(in_features=200, out_features=600, bias=True)\n",
              "      (dropout_1): Dropout(p=0.0, inplace=False)\n",
              "      (linear_1): Linear(in_features=600, out_features=6537, bias=True)\n",
              "    )\n",
              "  )\n",
              ")"
            ]
          },
          "metadata": {},
          "execution_count": 211
        }
      ],
      "source": [
        "I =  TrainDFRatMat_2.shape[1] \n",
        "q_dims = [I] + [600, 200]\n",
        "p_dims = [200, 600] + [I]\n",
        "dropout_enc = [0.5, 0.]\n",
        "dropout_dec = [0., 0.]\n",
        "VAEmodel_bty = MultiVAE(p_dims,q_dims,dropout_enc,dropout_dec)\n",
        "\n",
        "init_weights(VAEmodel_bty)\n",
        "VAEmodel_bty.to(device)\n",
        "optimizer = torch.optim.AdamW(VAEmodel_bty.parameters(), lr=1e-3, weight_decay=0.0)  \n",
        "VAEmodel_bty              "
      ]
    },
    {
      "cell_type": "code",
      "execution_count": null,
      "metadata": {},
      "outputs": [],
      "source": []
    },
    {
      "cell_type": "code",
      "execution_count": null,
      "metadata": {},
      "outputs": [],
      "source": [
        "#Best_param; BS_ = 200 | lr_ = 0.001 | n_epoch = 100 |"
      ]
    },
    {
      "cell_type": "code",
      "execution_count": 212,
      "metadata": {},
      "outputs": [
        {
          "output_type": "execute_result",
          "data": {
            "text/plain": [
              "38800.0"
            ]
          },
          "metadata": {},
          "execution_count": 212
        }
      ],
      "source": [
        "batch_size = 200\n",
        "anneal_cap = 0.2\n",
        "update_count = 0\n",
        "n_epochs = 100\n",
        "constant_anneal = False\n",
        "\n",
        "total_anneal_steps = getTot_annealSTeps(TrainDFRatMat_2,batch_size,n_epochs,anneal_cap)\n",
        "total_anneal_steps"
      ]
    },
    {
      "cell_type": "code",
      "execution_count": 213,
      "metadata": {},
      "outputs": [
        {
          "output_type": "stream",
          "name": "stderr",
          "text": [
            "100%|██████████| 100/100 [01:22<00:00,  1.22it/s]\n"
          ]
        }
      ],
      "source": [
        "for epoch in tqdm(range(n_epochs)):\n",
        "    train_step(VAEmodel_bty, optimizer, TrainDFRatMat_2, epoch)"
      ]
    },
    {
      "cell_type": "code",
      "execution_count": 214,
      "metadata": {},
      "outputs": [
        {
          "output_type": "stream",
          "name": "stdout",
          "text": [
            "Number of hits:  162\nTotal Num of users:  474\nRecommendation HitRate:  0.34177215189873417\n\nMRR   :  0.30471753398968593\n"
          ]
        }
      ],
      "source": [
        "#Generate Prediction list:\n",
        "holdout_df2 = newHoldout_list[0]\n",
        "AllUserPRED, hr_, mrr_ = getmetrics_(VAEmodel_bty,TrainDFRatMat_2,holdout_df2,k=10)\n",
        "print()\n",
        "print(\"MRR   : \",mrr_)"
      ]
    },
    {
      "cell_type": "code",
      "execution_count": null,
      "metadata": {},
      "outputs": [],
      "source": []
    },
    {
      "cell_type": "markdown",
      "metadata": {
        "id": "HPDoypE0L3qU"
      },
      "source": [
        "## Tuning"
      ]
    },
    {
      "cell_type": "code",
      "execution_count": 190,
      "metadata": {},
      "outputs": [
        {
          "output_type": "stream",
          "name": "stdout",
          "text": [
            "('batch_size', 'lr_', 'n_epochs')\n"
          ]
        },
        {
          "output_type": "execute_result",
          "data": {
            "text/plain": [
              "40"
            ]
          },
          "metadata": {},
          "execution_count": 190
        }
      ],
      "source": [
        "als_params = dict(batch_size = [100,200,300,500],\n",
        "                  lr_ = [1e-5,1e-3,1e-1],\n",
        "                  n_epochs = [50,100,150,200])        # dim_i  = [0,1,2,3,4]\n",
        "als_param_grid, als_param_names = random_grid(als_params, n=40)\n",
        "print(als_param_names)\n",
        "len(als_param_grid)                 "
      ]
    },
    {
      "cell_type": "code",
      "execution_count": 191,
      "metadata": {},
      "outputs": [
        {
          "output_type": "stream",
          "name": "stdout",
          "text": [
            "100 1e-05 50\n200 0.1 200\n100 0.001 200\n200 0.001 50\n300 1e-05 50\n200 1e-05 150\n300 0.001 200\n500 0.1 200\n100 0.1 200\n500 0.001 150\n"
          ]
        }
      ],
      "source": [
        "for i in range(10):\n",
        "    batch_size, lr, n_epochs = list(als_param_grid)[i]  \n",
        "    print(batch_size, lr, n_epochs)   #pdim_list[dim_i])"
      ]
    },
    {
      "cell_type": "code",
      "execution_count": null,
      "metadata": {},
      "outputs": [],
      "source": []
    },
    {
      "cell_type": "code",
      "execution_count": 202,
      "metadata": {},
      "outputs": [
        {
          "output_type": "stream",
          "name": "stderr",
          "text": [
            "  2%|▎         | 1/40 [00:28<18:21, 28.24s/it]\n",
            " BS_ = 100 | lr_ = 1e-05 | n_epoch = 50| HR = 0.1518987341772152 | MRR = 0.08615631906771147 \n",
            "  5%|▌         | 2/40 [02:11<45:40, 72.11s/it]\n",
            " BS_ = 200 | lr_ = 0.1 | n_epoch = 200| HR = 0.0 | MRR = 0 \n",
            "  8%|▊         | 3/40 [03:54<53:17, 86.41s/it]\n",
            " BS_ = 100 | lr_ = 0.001 | n_epoch = 200| HR = 0.3459915611814346 | MRR = 0.31348452883263006 \n",
            " 10%|█         | 4/40 [04:22<37:57, 63.27s/it]\n",
            " BS_ = 200 | lr_ = 0.001 | n_epoch = 50| HR = 0.33544303797468356 | MRR = 0.3109821847163619 \n",
            " 12%|█▎        | 5/40 [04:50<29:30, 50.59s/it]\n",
            " BS_ = 300 | lr_ = 1e-05 | n_epoch = 50| HR = 0.1518987341772152 | MRR = 0.0874355368026254 \n",
            " 15%|█▌        | 6/40 [06:09<34:08, 60.26s/it]\n",
            " BS_ = 200 | lr_ = 1e-05 | n_epoch = 150| HR = 0.1518987341772152 | MRR = 0.08663100261201527 \n",
            " 18%|█▊        | 7/40 [07:52<40:50, 74.27s/it]\n",
            " BS_ = 300 | lr_ = 0.001 | n_epoch = 200| HR = 0.339662447257384 | MRR = 0.3096217600964436 \n",
            " 20%|██        | 8/40 [09:35<44:33, 83.53s/it]\n",
            " BS_ = 500 | lr_ = 0.1 | n_epoch = 200| HR = 0.0 | MRR = 0 \n",
            " 22%|██▎       | 9/40 [11:18<46:09, 89.35s/it]\n",
            " BS_ = 100 | lr_ = 0.1 | n_epoch = 200| HR = 0.0 | MRR = 0 \n",
            " 25%|██▌       | 10/40 [12:36<43:01, 86.05s/it]\n",
            " BS_ = 500 | lr_ = 0.001 | n_epoch = 150| HR = 0.3438818565400844 | MRR = 0.3143510146674704 \n",
            " 28%|██▊       | 11/40 [13:03<32:48, 67.86s/it]\n",
            " BS_ = 200 | lr_ = 0.1 | n_epoch = 50| HR = 0.0 | MRR = 0 \n",
            " 30%|███       | 12/40 [13:31<26:00, 55.73s/it]\n",
            " BS_ = 100 | lr_ = 0.001 | n_epoch = 50| HR = 0.33544303797468356 | MRR = 0.3136101064898534 \n",
            " 32%|███▎      | 13/40 [15:14<31:36, 70.25s/it]\n",
            " BS_ = 300 | lr_ = 0.1 | n_epoch = 200| HR = 0.0 | MRR = 0 \n",
            " 35%|███▌      | 14/40 [16:34<31:38, 73.03s/it]\n",
            " BS_ = 100 | lr_ = 1e-05 | n_epoch = 150| HR = 0.1518987341772152 | MRR = 0.08611864577054451 \n",
            " 38%|███▊      | 15/40 [17:01<24:43, 59.32s/it]\n",
            " BS_ = 300 | lr_ = 0.001 | n_epoch = 50| HR = 0.3333333333333333 | MRR = 0.3067912397026321 \n",
            " 40%|████      | 16/40 [17:28<19:48, 49.50s/it]\n",
            " BS_ = 500 | lr_ = 0.1 | n_epoch = 50| HR = 0.0 | MRR = 0 \n",
            " 42%|████▎     | 17/40 [18:48<22:25, 58.50s/it]\n",
            " BS_ = 300 | lr_ = 1e-05 | n_epoch = 150| HR = 0.1518987341772152 | MRR = 0.08682690375728351 \n",
            " 45%|████▌     | 18/40 [20:06<23:38, 64.49s/it]\n",
            " BS_ = 200 | lr_ = 0.001 | n_epoch = 150| HR = 0.34177215189873417 | MRR = 0.3144012457303597 \n",
            " 48%|████▊     | 19/40 [21:23<23:54, 68.33s/it]\n",
            " BS_ = 200 | lr_ = 0.1 | n_epoch = 150| HR = 0.0 | MRR = 0 \n",
            " 50%|█████     | 20/40 [22:42<23:47, 71.39s/it]\n",
            " BS_ = 100 | lr_ = 0.001 | n_epoch = 150| HR = 0.3438818565400844 | MRR = 0.30754721719911593 \n",
            " 52%|█████▎    | 21/40 [24:01<23:20, 73.71s/it]\n",
            " BS_ = 300 | lr_ = 0.001 | n_epoch = 150| HR = 0.339662447257384 | MRR = 0.3089160136628491 \n",
            " 55%|█████▌    | 22/40 [24:55<20:19, 67.76s/it]\n",
            " BS_ = 200 | lr_ = 1e-05 | n_epoch = 100| HR = 0.1518987341772152 | MRR = 0.08622413100261202 \n",
            " 57%|█████▊    | 23/40 [26:12<20:02, 70.71s/it]\n",
            " BS_ = 500 | lr_ = 0.1 | n_epoch = 150| HR = 0.0 | MRR = 0 \n",
            " 60%|██████    | 24/40 [27:30<19:25, 72.83s/it]\n",
            " BS_ = 100 | lr_ = 0.1 | n_epoch = 150| HR = 0.0 | MRR = 0 \n",
            " 62%|██████▎   | 25/40 [28:48<18:32, 74.19s/it]\n",
            " BS_ = 300 | lr_ = 0.1 | n_epoch = 150| HR = 0.0 | MRR = 0 \n",
            " 65%|██████▌   | 26/40 [30:33<19:29, 83.52s/it]\n",
            " BS_ = 500 | lr_ = 1e-05 | n_epoch = 200| HR = 0.1518987341772152 | MRR = 0.08725135623869802 \n",
            " 68%|██████▊   | 27/40 [31:27<16:09, 74.61s/it]\n",
            " BS_ = 300 | lr_ = 1e-05 | n_epoch = 100| HR = 0.1518987341772152 | MRR = 0.08611864577054451 \n",
            " 70%|███████   | 28/40 [32:20<13:39, 68.30s/it]\n",
            " BS_ = 100 | lr_ = 1e-05 | n_epoch = 100| HR = 0.1518987341772152 | MRR = 0.08622413100261202 \n",
            " 72%|███████▎  | 29/40 [33:14<11:42, 63.90s/it]\n",
            " BS_ = 200 | lr_ = 0.001 | n_epoch = 100| HR = 0.3333333333333333 | MRR = 0.3120135958743554 \n",
            " 75%|███████▌  | 30/40 [34:59<12:41, 76.15s/it]\n",
            " BS_ = 200 | lr_ = 1e-05 | n_epoch = 200| HR = 0.16455696202531644 | MRR = 0.1045961422543701 \n",
            " 78%|███████▊  | 31/40 [35:52<10:24, 69.38s/it]\n",
            " BS_ = 100 | lr_ = 0.001 | n_epoch = 100| HR = 0.339662447257384 | MRR = 0.31176913803496076 \n",
            " 80%|████████  | 32/40 [36:44<08:32, 64.09s/it]\n",
            " BS_ = 200 | lr_ = 0.1 | n_epoch = 100| HR = 0.0 | MRR = 0 \n",
            " 82%|████████▎ | 33/40 [37:36<07:03, 60.50s/it]\n",
            " BS_ = 300 | lr_ = 0.001 | n_epoch = 100| HR = 0.339662447257384 | MRR = 0.3096016676712879 \n",
            " 85%|████████▌ | 34/40 [38:04<05:04, 50.67s/it]\n",
            " BS_ = 200 | lr_ = 1e-05 | n_epoch = 50| HR = 0.15822784810126583 | MRR = 0.08729237827339094 \n",
            " 88%|████████▊ | 35/40 [39:50<05:36, 67.22s/it]\n",
            " BS_ = 300 | lr_ = 1e-05 | n_epoch = 200| HR = 0.1518987341772152 | MRR = 0.08725135623869802 \n",
            " 90%|█████████ | 36/40 [40:47<04:16, 64.16s/it]\n",
            " BS_ = 500 | lr_ = 0.1 | n_epoch = 100| HR = 0.0 | MRR = 0 \n",
            " 92%|█████████▎| 37/40 [42:36<03:53, 77.80s/it]\n",
            " BS_ = 200 | lr_ = 0.001 | n_epoch = 200| HR = 0.33755274261603374 | MRR = 0.3085468153506128 \n",
            " 95%|█████████▌| 38/40 [43:28<02:19, 69.92s/it]\n",
            " BS_ = 100 | lr_ = 0.1 | n_epoch = 100| HR = 0.0 | MRR = 0 \n",
            " 98%|█████████▊| 39/40 [43:55<00:57, 57.14s/it]\n",
            " BS_ = 500 | lr_ = 0.001 | n_epoch = 50| HR = 0.33755274261603374 | MRR = 0.3080369700622865 \n",
            "100%|██████████| 40/40 [44:47<00:00, 67.18s/it]\n",
            " BS_ = 300 | lr_ = 0.1 | n_epoch = 100| HR = 0.0 | MRR = 0 \n",
            "\n",
            " Best_param; BS_ = 100 | lr_ = 0.001 | n_epoch = 200 | HR = 0.3459915611814346 | MRR = 0.31348452883263006\n",
            "\n"
          ]
        }
      ],
      "source": [
        "anneal_cap = 0.2\n",
        "update_count = 0\n",
        "constant_anneal = False    \n",
        "\n",
        "                 #tuning_model(train_Mat,holdout_df,als_param_grid)\n",
        "bestModelInfo =  tuning_model(TrainDFRatMat_2,holdout_df2,als_param_grid)"
      ]
    },
    {
      "cell_type": "code",
      "execution_count": null,
      "metadata": {},
      "outputs": [],
      "source": [
        "#Best_param; BS_ = 100 | lr_ = 0.001 | n_epoch = 200 | HR = 0.3459915611814346 | MRR = 0.31348452883263006"
      ]
    },
    {
      "cell_type": "code",
      "execution_count": 204,
      "metadata": {},
      "outputs": [
        {
          "output_type": "stream",
          "name": "stdout",
          "text": [
            "batch_size     : 100\nlearning_rate  : 0.001\nn_epochs       : 200\nbest_hr        : 0.34599\nbest_mrr       : 0.31348\n"
          ]
        }
      ],
      "source": [
        "##best_BS,best_lr,best_epoch,best_hr,best_mrr = bestModelInfo\n",
        "print(\"batch_size     :\",100)\n",
        "print(\"learning_rate  :\",0.001)\n",
        "print(\"n_epochs       :\",200)\n",
        "print(\"best_hr        :\",0.34599)   \n",
        "print(\"best_mrr       :\",0.31348) "
      ]
    },
    {
      "cell_type": "code",
      "execution_count": null,
      "metadata": {},
      "outputs": [],
      "source": []
    },
    {
      "cell_type": "code",
      "execution_count": 220,
      "metadata": {
        "id": "_P1Q24CaUczo"
      },
      "outputs": [],
      "source": []
    },
    {
      "cell_type": "code",
      "execution_count": 222,
      "metadata": {},
      "outputs": [],
      "source": [
        "#                             #tuning_dim(train_Mat,holdout_df,lr,batch_size,n_epochs,pdim_list):\n",
        "# pdim_list = [[64,128],[256,512],[100,300],[200,600],[300,900]]\n",
        "# best_dims,best_hr,best_mrr = tuning_dim(TrainDFRatMat_2,holdout_df2,pdim_list,lr=0.001,batch_size=100,n_epochs=200)"
      ]
    },
    {
      "cell_type": "code",
      "execution_count": 219,
      "metadata": {
        "id": "VAOBtX8QDURw"
      },
      "outputs": [
        {
          "output_type": "stream",
          "name": "stderr",
          "text": [
            " 20%|██        | 1/5 [01:10<04:40, 70.01s/it]\n",
            " p_dim = [64, 128] ,HR = 0.339662447257384 , MRR = 0.30888085191882664 \n",
            " 40%|████      | 2/5 [02:28<03:45, 75.09s/it]\n",
            " p_dim = [256, 512] ,HR = 0.34810126582278483 , MRR = 0.3114593798138102 \n",
            " 60%|██████    | 3/5 [03:42<02:29, 74.60s/it]\n",
            " p_dim = [100, 300] ,HR = 0.33544303797468356 , MRR = 0.30983273056057864 \n",
            " 80%|████████  | 4/5 [05:03<01:17, 77.25s/it]\n",
            " p_dim = [200, 600] ,HR = 0.350210970464135 , MRR = 0.31551470095773887 \n",
            "100%|██████████| 5/5 [06:39<00:00, 79.91s/it]\n",
            " p_dim = [300, 900] ,HR = 0.3333333333333333 , MRR = 0.31237944544906565 \n",
            "\n",
            " Best_param; p_dim = [200, 600],HR = 0.350210970464135 ,MRR = 0.31551470095773887\n",
            "\n"
          ]
        }
      ],
      "source": [
        "                            #tuning_dim(train_Mat,holdout_df,lr,batch_size,n_epochs,pdim_list):\n",
        "pdim_list = [[64,128],[256,512],[100,300],[200,600],[300,900]]\n",
        "best_dims,best_hr,best_mrr = tuning_dim(TrainDFRatMat_2,holdout_df2,pdim_list,lr=0.001,batch_size=200,n_epochs=100)"
      ]
    },
    {
      "cell_type": "code",
      "execution_count": 227,
      "metadata": {},
      "outputs": [
        {
          "output_type": "stream",
          "name": "stdout",
          "text": [
            "10\n"
          ]
        },
        {
          "output_type": "execute_result",
          "data": {
            "text/plain": [
              "[<22557x8109 sparse matrix of type '<class 'numpy.float64'>'\n",
              " \twith 40228 stored elements in Compressed Sparse Row format>,\n",
              " <22557x8109 sparse matrix of type '<class 'numpy.float64'>'\n",
              " \twith 41330 stored elements in Compressed Sparse Row format>,\n",
              " <22557x8109 sparse matrix of type '<class 'numpy.float64'>'\n",
              " \twith 42432 stored elements in Compressed Sparse Row format>,\n",
              " <22557x8109 sparse matrix of type '<class 'numpy.float64'>'\n",
              " \twith 43525 stored elements in Compressed Sparse Row format>,\n",
              " <22557x8109 sparse matrix of type '<class 'numpy.float64'>'\n",
              " \twith 44665 stored elements in Compressed Sparse Row format>,\n",
              " <22557x8109 sparse matrix of type '<class 'numpy.float64'>'\n",
              " \twith 45752 stored elements in Compressed Sparse Row format>,\n",
              " <22557x8109 sparse matrix of type '<class 'numpy.float64'>'\n",
              " \twith 47034 stored elements in Compressed Sparse Row format>,\n",
              " <22557x8109 sparse matrix of type '<class 'numpy.float64'>'\n",
              " \twith 48112 stored elements in Compressed Sparse Row format>,\n",
              " <22557x8109 sparse matrix of type '<class 'numpy.float64'>'\n",
              " \twith 49321 stored elements in Compressed Sparse Row format>,\n",
              " <22557x8109 sparse matrix of type '<class 'numpy.float64'>'\n",
              " \twith 50337 stored elements in Compressed Sparse Row format>]"
            ]
          },
          "metadata": {},
          "execution_count": 227
        }
      ],
      "source": [
        "rows_i = newAMZB_DF['Updated_UserID'].nunique()\n",
        "cols_i = newAMZB_DF['Updated_ItemID'].nunique()\n",
        "\n",
        "UserItem_MATList = AllRatingMatrices(newUserItem_list,'Updated_UserID','Updated_ItemID',rows_i ,cols_i) \n",
        "print(len(UserItem_MATList))   \n",
        "UserItem_MATList"
      ]
    },
    {
      "cell_type": "code",
      "execution_count": null,
      "metadata": {},
      "outputs": [],
      "source": []
    },
    {
      "cell_type": "code",
      "execution_count": 239,
      "metadata": {},
      "outputs": [
        {
          "output_type": "execute_result",
          "data": {
            "text/plain": [
              "38800.0"
            ]
          },
          "metadata": {},
          "execution_count": 239
        }
      ],
      "source": [
        "#lr=0.001,batch_size=200,n_epochs=100\n",
        "batch_size = 200\n",
        "anneal_cap = 0.2\n",
        "update_count = 0\n",
        "n_epochs = 100\n",
        "constant_anneal = False\n",
        "\n",
        "total_anneal_steps = getTot_annealSTeps(TrainDFRatMat_2,batch_size,n_epochs,anneal_cap)\n",
        "total_anneal_steps"
      ]
    },
    {
      "cell_type": "code",
      "execution_count": 240,
      "metadata": {},
      "outputs": [
        {
          "output_type": "execute_result",
          "data": {
            "text/plain": [
              "MultiVAE(\n",
              "  (encode): Encoder(\n",
              "    (q_layers): Sequential(\n",
              "      (dropout_0): Dropout(p=0.5, inplace=False)\n",
              "      (linear_0): Linear(in_features=8109, out_features=600, bias=True)\n",
              "      (dropout_1): Dropout(p=0.0, inplace=False)\n",
              "      (linear_1): Linear(in_features=600, out_features=400, bias=True)\n",
              "    )\n",
              "  )\n",
              "  (decode): Decoder(\n",
              "    (p_layers): Sequential(\n",
              "      (dropout_0): Dropout(p=0.0, inplace=False)\n",
              "      (linear_0): Linear(in_features=200, out_features=600, bias=True)\n",
              "      (dropout_1): Dropout(p=0.0, inplace=False)\n",
              "      (linear_1): Linear(in_features=600, out_features=8109, bias=True)\n",
              "    )\n",
              "  )\n",
              ")"
            ]
          },
          "metadata": {},
          "execution_count": 240
        }
      ],
      "source": [
        "I = newAMZB_DF['Updated_ItemID'].nunique()\n",
        "\n",
        "q_dims = [I] + [600, 200]\n",
        "p_dims = [200, 600] + [I]\n",
        "dropout_enc = [0.5, 0.]\n",
        "dropout_dec = [0., 0.]\n",
        "\n",
        "VAEmodel_bty = MultiVAE(p_dims,q_dims,dropout_enc,dropout_dec)\n",
        "\n",
        "init_weights(VAEmodel_bty)\n",
        "VAEmodel_bty.to(device)\n",
        "optimizer = torch.optim.AdamW(VAEmodel_bty.parameters(), lr=1e-3, weight_decay=0.0)  \n",
        "VAEmodel_bty "
      ]
    },
    {
      "cell_type": "code",
      "execution_count": 242,
      "metadata": {},
      "outputs": [
        {
          "output_type": "stream",
          "name": "stderr",
          "text": [
            "1it [01:47, 107.98s/it]Number of hits:  164\n",
            "Total Num of users:  474\n",
            "Recommendation HitRate:  0.3459915611814346\n",
            "| HitRate  0.346 | Mrr 0.306 | \n",
            "2it [03:35, 107.75s/it]Number of hits:  168\n",
            "Total Num of users:  433\n",
            "Recommendation HitRate:  0.38799076212471134\n",
            "| HitRate  0.388 | Mrr 0.366 | \n",
            "3it [05:23, 107.68s/it]Number of hits:  192\n",
            "Total Num of users:  465\n",
            "Recommendation HitRate:  0.4129032258064516\n",
            "| HitRate  0.413 | Mrr 0.365 | \n",
            "4it [07:10, 107.37s/it]Number of hits:  181\n",
            "Total Num of users:  478\n",
            "Recommendation HitRate:  0.3786610878661088\n",
            "| HitRate  0.379 | Mrr 0.345 | \n",
            "5it [08:58, 107.81s/it]Number of hits:  169\n",
            "Total Num of users:  478\n",
            "Recommendation HitRate:  0.35355648535564854\n",
            "| HitRate  0.354 | Mrr 0.319 | \n",
            "6it [10:47, 108.14s/it]Number of hits:  160\n",
            "Total Num of users:  508\n",
            "Recommendation HitRate:  0.31496062992125984\n",
            "| HitRate  0.315 | Mrr 0.279 | \n",
            "7it [12:36, 108.31s/it]Number of hits:  246\n",
            "Total Num of users:  612\n",
            "Recommendation HitRate:  0.4019607843137255\n",
            "| HitRate  0.402 | Mrr 0.271 | \n",
            "8it [14:25, 108.74s/it]Number of hits:  229\n",
            "Total Num of users:  599\n",
            "Recommendation HitRate:  0.3823038397328882\n",
            "| HitRate  0.382 | Mrr 0.314 | \n",
            "9it [16:14, 108.72s/it]Number of hits:  205\n",
            "Total Num of users:  536\n",
            "Recommendation HitRate:  0.3824626865671642\n",
            "| HitRate  0.382 | Mrr 0.334 | \n",
            "10it [18:01, 108.15s/it]Number of hits:  114\n",
            "Total Num of users:  425\n",
            "Recommendation HitRate:  0.26823529411764707\n",
            "| HitRate  0.268 | Mrr 0.204 | \n",
            "[0.3459915611814346, 0.38799076212471134, 0.4129032258064516, 0.3786610878661088, 0.35355648535564854, 0.31496062992125984, 0.4019607843137255, 0.3823038397328882, 0.3824626865671642, 0.26823529411764707]\n",
            "[0.30574559641015336, 0.36602148172586974, 0.3653328213005632, 0.3454232250780368, 0.3186624161519559, 0.27873703287089113, 0.27096625687311965, 0.31361462225402126, 0.33429208126036486, 0.2043183940242764]\n",
            "\n"
          ]
        }
      ],
      "source": [
        "                                       #Allsteps_predEval(model,UserItemMatList,holdout_DFList,n_epoch)\n",
        "hr10_List, mrr10_List, ALLUsers_Pred  = Allsteps_predEval(VAEmodel_bty,UserItem_MATList,newHoldout_list,n_epochs) \n",
        "print(hr10_List)\n",
        "print(mrr10_List) "
      ]
    },
    {
      "cell_type": "code",
      "execution_count": 243,
      "metadata": {},
      "outputs": [
        {
          "output_type": "execute_result",
          "data": {
            "text/plain": [
              "[0.3459915611814346,\n",
              " 0.38799076212471134,\n",
              " 0.4129032258064516,\n",
              " 0.3786610878661088,\n",
              " 0.35355648535564854,\n",
              " 0.31496062992125984,\n",
              " 0.4019607843137255,\n",
              " 0.3823038397328882,\n",
              " 0.3824626865671642,\n",
              " 0.26823529411764707]"
            ]
          },
          "metadata": {},
          "execution_count": 243
        }
      ],
      "source": [
        "hr10_List"
      ]
    },
    {
      "cell_type": "code",
      "execution_count": 244,
      "metadata": {},
      "outputs": [
        {
          "output_type": "execute_result",
          "data": {
            "text/plain": [
              "[0.30574559641015336,\n",
              " 0.36602148172586974,\n",
              " 0.3653328213005632,\n",
              " 0.3454232250780368,\n",
              " 0.3186624161519559,\n",
              " 0.27873703287089113,\n",
              " 0.27096625687311965,\n",
              " 0.31361462225402126,\n",
              " 0.33429208126036486,\n",
              " 0.2043183940242764]"
            ]
          },
          "metadata": {},
          "execution_count": 244
        }
      ],
      "source": [
        "mrr10_List"
      ]
    },
    {
      "cell_type": "code",
      "execution_count": 245,
      "metadata": {},
      "outputs": [],
      "source": [
        "with open('/mnt/bulky/oolaleke/TDM_Dataset/AMZ_Btyfiles/AMZB_VAE_AllPRED_new.pkl', 'wb') as f: \n",
        "     pickle.dump(ALLUsers_Pred, f)"
      ]
    },
    {
      "cell_type": "code",
      "execution_count": 246,
      "metadata": {},
      "outputs": [
        {
          "output_type": "execute_result",
          "data": {
            "text/plain": [
              "[array([[  71,  116,    1, ..., 3491, 1191,  191],\n",
              "        [  62,    9,   43, ...,  297,  692, 4099],\n",
              "        [   9,    0,   43, ...,  439,    3, 4099],\n",
              "        ...,\n",
              "        [  74,   67,  107, ...,  692,  842,   24],\n",
              "        [  74,   67,  107, ...,  692,  842,   24],\n",
              "        [  74,   67,  107, ...,  692,  842,   24]]),\n",
              " array([[  71,  116,    1, ...,    2, 1385, 1191],\n",
              "        [  62,   43, 4099, ...,   71,    2,  116],\n",
              "        [   0,    9, 4099, ...,  231,   60, 5086],\n",
              "        ...,\n",
              "        [  74,   67,  107, ...,  692,  842,   25],\n",
              "        [  74,   67,  107, ...,  692,  842,   25],\n",
              "        [  74,   67,  107, ...,  692,  842,   25]])]"
            ]
          },
          "metadata": {},
          "execution_count": 246
        }
      ],
      "source": [
        "ALLUsers_Pred[:2]"
      ]
    },
    {
      "cell_type": "code",
      "execution_count": 247,
      "metadata": {},
      "outputs": [
        {
          "output_type": "execute_result",
          "data": {
            "text/plain": [
              "[0.743988,\n",
              " 0.768652,\n",
              " 0.809841,\n",
              " 0.832655,\n",
              " 0.860155,\n",
              " 0.886546,\n",
              " 0.912566,\n",
              " 0.924282,\n",
              " 0.93982,\n",
              " 0.958318]"
            ]
          },
          "metadata": {},
          "execution_count": 247
        }
      ],
      "source": [
        "Cov_List = AllSteps_Coverage_Ratio(newAMZB_DF,ALLUsers_Pred,'Updated_ItemID')\n",
        "Cov_List "
      ]
    },
    {
      "cell_type": "code",
      "execution_count": 248,
      "metadata": {},
      "outputs": [
        {
          "output_type": "stream",
          "name": "stdout",
          "text": [
            "9\n"
          ]
        },
        {
          "output_type": "execute_result",
          "data": {
            "text/plain": [
              "[1, 2, 3, 4, 5, 6, 7, 8, 9]"
            ]
          },
          "metadata": {},
          "execution_count": 248
        }
      ],
      "source": [
        "AllSteps = list(range(1,10))\n",
        "print(len(AllSteps))\n",
        "AllSteps"
      ]
    },
    {
      "cell_type": "code",
      "execution_count": null,
      "metadata": {},
      "outputs": [],
      "source": []
    },
    {
      "cell_type": "code",
      "execution_count": 249,
      "metadata": {},
      "outputs": [
        {
          "output_type": "execute_result",
          "data": {
            "text/plain": [
              "array([array([0.62738397, 0.59056136, 0.41874099, ..., 0.06677266, 0.30787632,\n",
              "              0.24647471])                                                    ,\n",
              "       array([0.4357129 , 0.72372723, 0.6405868 , ..., 0.36369515, 0.02499653,\n",
              "              0.03534858])                                                    ,\n",
              "       array([0.50863567, 0.58102174, 0.42600464, ..., 0.        , 0.14585112,\n",
              "              0.27357432])                                                    ,\n",
              "       array([0.32477789, 0.62112893, 0.46158416, ..., 0.21979838, 0.32513465,\n",
              "              0.08880366])                                                    ,\n",
              "       array([0.55307733, 0.33689549, 0.37576887, ..., 0.39619786, 0.02928462,\n",
              "              0.18684676])                                                    ,\n",
              "       array([0.46462943, 0.65548951, 0.34714364, ..., 0.31980331, 0.17289051,\n",
              "              0.27621682])                                                    ,\n",
              "       array([0.54949092, 0.42987214, 0.23119266, ..., 0.04457968, 0.02928462,\n",
              "              0.13571319])                                                    ,\n",
              "       array([0.42738348, 0.74656886, 0.31404664, ..., 0.10477473, 0.08321104,\n",
              "              0.01736733])                                                    ,\n",
              "       array([0.55014176, 0.59831096, 0.50005081, ..., 0.18152713, 0.16585058,\n",
              "              0.16585058])                                                    ],\n",
              "      dtype=object)"
            ]
          },
          "metadata": {},
          "execution_count": 249
        }
      ],
      "source": [
        "UpdtPSICorr_ = Updt_getAll_AvgCorr(ALLUsers_Pred,newUserItem_list,AllSteps,'Updated_UserID')  #,\n",
        "UpdtPSICorr_"
      ]
    },
    {
      "cell_type": "code",
      "execution_count": 1,
      "metadata": {},
      "outputs": [
        {
          "output_type": "error",
          "ename": "NameError",
          "evalue": "name 'UpdtPSICorr_' is not defined",
          "traceback": [
            "\u001b[0;31m---------------------------------------------------------------------------\u001b[0m",
            "\u001b[0;31mNameError\u001b[0m                                 Traceback (most recent call last)",
            "\u001b[0;32m<ipython-input-1-79ab9c377d04>\u001b[0m in \u001b[0;36m<module>\u001b[0;34m\u001b[0m\n\u001b[0;32m----> 1\u001b[0;31m \u001b[0mprint\u001b[0m\u001b[0;34m(\u001b[0m\u001b[0mUpdtPSICorr_\u001b[0m\u001b[0;34m.\u001b[0m\u001b[0mshape\u001b[0m\u001b[0;34m)\u001b[0m\u001b[0;34m\u001b[0m\u001b[0;34m\u001b[0m\u001b[0m\n\u001b[0m\u001b[1;32m      2\u001b[0m \u001b[0;32mfor\u001b[0m \u001b[0mdf\u001b[0m \u001b[0;32min\u001b[0m \u001b[0mUpdtPSICorr_\u001b[0m\u001b[0;34m:\u001b[0m\u001b[0;34m\u001b[0m\u001b[0;34m\u001b[0m\u001b[0m\n\u001b[1;32m      3\u001b[0m     \u001b[0mprint\u001b[0m\u001b[0;34m(\u001b[0m\u001b[0mdf\u001b[0m\u001b[0;34m.\u001b[0m\u001b[0mmean\u001b[0m\u001b[0;34m(\u001b[0m\u001b[0;34m)\u001b[0m\u001b[0;34m)\u001b[0m\u001b[0;34m\u001b[0m\u001b[0;34m\u001b[0m\u001b[0m\n",
            "\u001b[0;31mNameError\u001b[0m: name 'UpdtPSICorr_' is not defined"
          ]
        }
      ],
      "source": [
        "print(UpdtPSICorr_.shape)\n",
        "for df in UpdtPSICorr_:\n",
        "    print(df.mean())  "
      ]
    },
    {
      "cell_type": "code",
      "execution_count": null,
      "metadata": {},
      "outputs": [],
      "source": [
        "[0.3277198714275054\n",
        "0.26332006122461243\n",
        "0.28246567567737907\n",
        "0.29588632270231247\n",
        "0.3172873706719801\n",
        "0.301323636758813\n",
        "0.29593038382611475\n",
        "0.4263375327221993\n",
        "0.3851709408829141"
      ]
    },
    {
      "cell_type": "code",
      "execution_count": null,
      "metadata": {},
      "outputs": [],
      "source": []
    },
    {
      "cell_type": "code",
      "execution_count": null,
      "metadata": {},
      "outputs": [],
      "source": []
    },
    {
      "cell_type": "code",
      "execution_count": null,
      "metadata": {},
      "outputs": [],
      "source": []
    },
    {
      "cell_type": "code",
      "execution_count": null,
      "metadata": {},
      "outputs": [],
      "source": []
    },
    {
      "cell_type": "code",
      "execution_count": null,
      "metadata": {},
      "outputs": [],
      "source": []
    },
    {
      "cell_type": "markdown",
      "metadata": {
        "id": "G0bN7QjRMMfF"
      },
      "source": [
        "# Split TrainTest"
      ]
    },
    {
      "cell_type": "code",
      "execution_count": 25,
      "metadata": {
        "colab": {
          "base_uri": "https://localhost:8080/"
        },
        "id": "dIoEf97Z9Ksk",
        "outputId": "a9dbd3ab-28d6-466e-f0a9-3dd53c25a9b1"
      },
      "outputs": [
        {
          "name": "stdout",
          "output_type": "stream",
          "text": [
            "0 users sampled\n",
            "250 users sampled\n",
            "500 users sampled\n",
            "750 users sampled\n",
            "1000 users sampled\n",
            "1250 users sampled\n",
            "1500 users sampled\n",
            "1750 users sampled\n",
            "2000 users sampled\n",
            "2250 users sampled\n",
            "(4916, 4) (165, 4)\n"
          ]
        }
      ],
      "source": [
        "valid_trn, valid_tst = split_train_test(valid_df, test_prop=0.3)\n",
        "print(valid_trn.shape, valid_tst.shape) "
      ]
    },
    {
      "cell_type": "code",
      "execution_count": 26,
      "metadata": {
        "colab": {
          "base_uri": "https://localhost:8080/"
        },
        "id": "4bcqOpYaCazZ",
        "outputId": "a139990d-f3c3-400e-8959-9624d43d024f"
      },
      "outputs": [
        {
          "name": "stdout",
          "output_type": "stream",
          "text": [
            "0 users sampled\n",
            "250 users sampled\n",
            "500 users sampled\n",
            "750 users sampled\n",
            "1000 users sampled\n",
            "1250 users sampled\n",
            "1500 users sampled\n",
            "1750 users sampled\n",
            "2000 users sampled\n",
            "2250 users sampled\n",
            "(4868, 4) (152, 4)\n"
          ]
        }
      ],
      "source": [
        "test_train, test_tst = split_train_test(test_df, test_prop=0.3)\n",
        "print(test_train.shape, test_tst.shape)   ##"
      ]
    },
    {
      "cell_type": "code",
      "execution_count": 27,
      "metadata": {
        "colab": {
          "base_uri": "https://localhost:8080/"
        },
        "id": "EBfGYxyx3TAK",
        "outputId": "e8e652ce-ba6e-4a01-baa7-cc4e63b48af9"
      },
      "outputs": [
        {
          "name": "stdout",
          "output_type": "stream",
          "text": [
            "Training Data:  (40458, 2)\n",
            "\n",
            "Validaion DF:  (4916, 2) (165, 2)\n",
            "Test DF:       (4868, 2) (152, 2)\n"
          ]
        }
      ],
      "source": [
        "Train_DF   =    numerize_data(train_df,user2id,item2id,'userId','productId')\n",
        "ValidTrain_DF = numerize_data(valid_trn,user2id,item2id,'userId','productId')\n",
        "ValidTest_DF = numerize_data(valid_tst,user2id,item2id,'userId','productId')\n",
        "TestTrain_DF = numerize_data(test_train,user2id,item2id,'userId','productId')\n",
        "TestTest_DF =  numerize_data(test_tst,user2id,item2id,'userId','productId')\n",
        "\n",
        "print(\"Training Data: \",Train_DF.shape)\n",
        "print()\n",
        "print(\"Validaion DF: \", ValidTrain_DF.shape,ValidTest_DF.shape)\n",
        "print(\"Test DF:      \", TestTrain_DF.shape,TestTest_DF.shape)"
      ]
    },
    {
      "cell_type": "code",
      "execution_count": null,
      "metadata": {
        "id": "DvGFlZ2uk2Df"
      },
      "outputs": [],
      "source": []
    },
    {
      "cell_type": "markdown",
      "metadata": {
        "id": "U573psAUMCSa"
      },
      "source": [
        "# Convert to RatMat"
      ]
    },
    {
      "cell_type": "code",
      "execution_count": 28,
      "metadata": {
        "colab": {
          "base_uri": "https://localhost:8080/"
        },
        "id": "NHOaP2PbYHfN",
        "outputId": "0a523444-0d63-483f-bc63-30db04bd2486"
      },
      "outputs": [
        {
          "data": {
            "text/plain": "<22799x7400 sparse matrix of type '<class 'numpy.float64'>'\n\twith 40064 stored elements in Compressed Sparse Row format>"
          },
          "execution_count": 28,
          "metadata": {},
          "output_type": "execute_result"
        }
      ],
      "source": [
        "n_items = len(train_Items)                            #train_Items = unique_sid\n",
        "TrainDF_RatMat = get_TrainRatMat(Train_DF,'userId','productId',n_items)\n",
        "ValidTrain_RatMat, ValidTest_RatMat = getTrainTest_RatMat(ValidTrain_DF, ValidTest_DF,'userId','productId',n_items)\n",
        "TestTrain_RatMat, TestTest_RatMat = getTrainTest_RatMat(TestTrain_DF, TestTest_DF,'userId','productId',n_items)\n",
        "\n",
        "TrainDF_RatMat"
      ]
    },
    {
      "cell_type": "code",
      "execution_count": null,
      "metadata": {
        "colab": {
          "base_uri": "https://localhost:8080/"
        },
        "id": "gJQFLHM1ZPdD",
        "outputId": "7b6f32f6-b814-4161-827e-4c1a24930bf6"
      },
      "outputs": [
        {
          "data": {
            "text/plain": [
              "<22773x7400 sparse matrix of type '<class 'numpy.float64'>'\n",
              "\twith 4861 stored elements in Compressed Sparse Row format>"
            ]
          },
          "execution_count": 28,
          "metadata": {
            "tags": []
          },
          "output_type": "execute_result"
        }
      ],
      "source": [
        "ValidTrain_RatMat"
      ]
    },
    {
      "cell_type": "code",
      "execution_count": null,
      "metadata": {
        "colab": {
          "base_uri": "https://localhost:8080/"
        },
        "id": "CV7YZA3BokN7",
        "outputId": "bc6ba644-c700-4654-ff64-9514555b374f"
      },
      "outputs": [
        {
          "data": {
            "text/plain": [
              "<22773x7400 sparse matrix of type '<class 'numpy.float64'>'\n",
              "\twith 165 stored elements in Compressed Sparse Row format>"
            ]
          },
          "execution_count": 29,
          "metadata": {
            "tags": []
          },
          "output_type": "execute_result"
        }
      ],
      "source": [
        "ValidTest_RatMat"
      ]
    },
    {
      "cell_type": "code",
      "execution_count": null,
      "metadata": {
        "colab": {
          "base_uri": "https://localhost:8080/"
        },
        "id": "IMVYuEJHojYe",
        "outputId": "9811a3e5-f434-4092-b8b2-a20a887c7fbf"
      },
      "outputs": [
        {
          "data": {
            "text/plain": [
              "<22759x7400 sparse matrix of type '<class 'numpy.float64'>'\n",
              "\twith 4820 stored elements in Compressed Sparse Row format>"
            ]
          },
          "execution_count": 30,
          "metadata": {
            "tags": []
          },
          "output_type": "execute_result"
        }
      ],
      "source": [
        "TestTrain_RatMat"
      ]
    },
    {
      "cell_type": "code",
      "execution_count": null,
      "metadata": {
        "colab": {
          "base_uri": "https://localhost:8080/"
        },
        "id": "4vWJOrsAo5rW",
        "outputId": "aedac24a-1d55-411c-dbe2-76a4857f7026"
      },
      "outputs": [
        {
          "data": {
            "text/plain": [
              "<22759x7400 sparse matrix of type '<class 'numpy.float64'>'\n",
              "\twith 152 stored elements in Compressed Sparse Row format>"
            ]
          },
          "execution_count": 31,
          "metadata": {
            "tags": []
          },
          "output_type": "execute_result"
        }
      ],
      "source": [
        "TestTest_RatMat"
      ]
    },
    {
      "cell_type": "code",
      "execution_count": null,
      "metadata": {
        "id": "WYVhx3H-kD_f"
      },
      "outputs": [],
      "source": []
    },
    {
      "cell_type": "markdown",
      "metadata": {
        "id": "flyr7cPsrxQX"
      },
      "source": [
        "# Tuning"
      ]
    },
    {
      "cell_type": "code",
      "execution_count": null,
      "metadata": {},
      "outputs": [],
      "source": [
        "# def early_stop(curr_value, best_value, stop_step, patience, score_fn='metric'):\n",
        "#     if (score_fn == \"loss\" and curr_value <= best_value) or (score_fn == \"metric\" and curr_value >= best_value):\n",
        "#         stop_step, best_value = 0, curr_value\n",
        "#     else:\n",
        "#         stop_step += 1\n",
        "#     if stop_step >= patience:\n",
        "#         print(\"Early stopping triggered. patience: {} log:{}\".format(patience, best_value))\n",
        "#         stop = True\n",
        "#     else:\n",
        "#         stop = False\n",
        "#     return best_value, stop_step, stop \n",
        "\n",
        "# def tuning_2(model,train_set,validtrain_set,validtest_set,als_param_grid,n_epochs,model_name,save_results= True):\n",
        "#     update_count = 0\n",
        "#     best_score = 0     ##based on MetricEval..\n",
        "#     stop_step = 0\n",
        "#     update_count = 0\n",
        "#     stop = False\n",
        "\n",
        "#     for i in tqdm(range(len(als_param_grid))):\n",
        "#         batch_size, lr_, weightdecay_ = list(als_param_grid)[i]\n",
        "#         total_anneal_steps = getTot_annealSTeps(train_set,batch_size,n_epochs,anneal_cap)\n",
        "#         Optimizer_ = torch.optim.AdamW(model.parameters(), lr=lr_, weight_decay=weightdecay_)\n",
        "#         print('batch_size = {} ,learning_rate = {}, weight_decay = {} '.format(batch_size,lr_,weightdecay_))\n",
        "#         model_2 = model\n",
        "#         for epoch in range(n_epochs):            \n",
        "#             train_step_2(model_2, Optimizer_, train_set,total_anneal_steps,epoch)\n",
        "#             val_loss, NDCG100_ = eval_step_2(model_2,validtrain_set,validtest_set)\n",
        "#             curr_score = NDCG100_\n",
        "#             best_score,stop_step,stop = early_stop(curr_score,best_score,stop_step,\n",
        "#                                            patience=25,score_fn='metric')\n",
        "#             if stop:\n",
        "#                 break\n",
        "#             if (stop_step == 0) & (save_results):\n",
        "#                best_epoch = epoch\n",
        "#                best_BS  = batch_size\n",
        "#                best_lr_ = lr_\n",
        "#                best_weightdecay_ = weightdecay_\n",
        "#                best_NGCG100 = NDCG100_\n",
        "#                torch.save(model_2.state_dict(),model_name+\".pth\")\n",
        "#                #print('NDCG100_ = {} '.format(best_NGCG100))\n",
        "\n",
        "#         print('NDCG100_ = {} '.format(best_NGCG100))\n",
        "\n",
        "#     print('\\n Best parameters; batch_size= {}, learning_rate = {}, weight_decay = {}, NDCG100_ = {}, best_epoch = {}'.format(best_BS,\n",
        "#                                                                             best_lr_,best_weightdecay_,best_NGCG100,best_epoch))\n",
        "#     return best_BS, best_lr_, best_weightdecay_,best_NGCG100, best_epoch  "
      ]
    },
    {
      "cell_type": "code",
      "execution_count": 48,
      "metadata": {
        "colab": {
          "base_uri": "https://localhost:8080/"
        },
        "id": "QhPnHGY5a8cX",
        "outputId": "52de1ae2-1739-4fb1-e1e2-5ed79901ba09"
      },
      "outputs": [
        {
          "name": "stdout",
          "output_type": "stream",
          "text": [
            "('batch_size', 'lr', 'weight_decay')\n"
          ]
        },
        {
          "data": {
            "text/plain": "50"
          },
          "execution_count": 48,
          "metadata": {},
          "output_type": "execute_result"
        }
      ],
      "source": [
        "# als_params = dict(batch_size = [50,100,200,300,500],\n",
        "#                   lr = [1e-7,1e-5,1e-3,1e-1],\n",
        "#                   weight_decay= [0.,0.1,0.2,0.3])\n",
        "\n",
        "# als_param_grid, als_param_names = random_grid(als_params, n=50)\n",
        "# print(als_param_names)\n",
        "# len(als_param_grid)                 "
      ]
    },
    {
      "cell_type": "code",
      "execution_count": 49,
      "metadata": {
        "colab": {
          "base_uri": "https://localhost:8080/"
        },
        "id": "MVs7LvOwEkJc",
        "outputId": "c9881fe4-23ea-4d6d-83da-9dfa147ba84e"
      },
      "outputs": [
        {
          "name": "stdout",
          "output_type": "stream",
          "text": [
            "200 1e-05 0.1\n",
            "50 1e-05 0.2\n",
            "200 0.001 0.2\n",
            "300 1e-07 0.0\n",
            "500 0.1 0.3\n",
            "300 0.1 0.3\n",
            "50 1e-07 0.0\n",
            "200 0.1 0.2\n",
            "300 0.001 0.2\n",
            "200 1e-05 0.0\n"
          ]
        }
      ],
      "source": [
        "# for i in range(10):\n",
        "#     batch_size, lr, weight_decay = list(als_param_grid)[i]  \n",
        "#     print(batch_size, lr, weight_decay)"
      ]
    },
    {
      "cell_type": "code",
      "execution_count": 50,
      "metadata": {
        "id": "kg0zAr1EuekZ"
      },
      "outputs": [],
      "source": [
        "n_items = len(train_Items)   \n",
        "I = n_items    ##I is the total number of items in the train date\n",
        "q_dims = [I] + [600, 200]\n",
        "p_dims = [200, 600] + [I]\n",
        "dropout_enc = [0.5, 0.]\n",
        "dropout_dec = [0., 0.]"
      ]
    },
    {
      "cell_type": "code",
      "execution_count": 51,
      "metadata": {
        "colab": {
          "base_uri": "https://localhost:8080/"
        },
        "id": "xOYuNtSyYP_r",
        "outputId": "9ef2ea03-bef0-46e8-e16e-92db35322b68"
      },
      "outputs": [
        {
          "data": {
            "text/plain": "MultiVAE(\n  (encode): Encoder(\n    (q_layers): Sequential(\n      (dropout_0): Dropout(p=0.5, inplace=False)\n      (linear_0): Linear(in_features=7400, out_features=600, bias=True)\n      (dropout_1): Dropout(p=0.0, inplace=False)\n      (linear_1): Linear(in_features=600, out_features=400, bias=True)\n    )\n  )\n  (decode): Decoder(\n    (p_layers): Sequential(\n      (dropout_0): Dropout(p=0.0, inplace=False)\n      (linear_0): Linear(in_features=200, out_features=600, bias=True)\n      (dropout_1): Dropout(p=0.0, inplace=False)\n      (linear_1): Linear(in_features=600, out_features=7400, bias=True)\n    )\n  )\n)"
          },
          "execution_count": 51,
          "metadata": {},
          "output_type": "execute_result"
        }
      ],
      "source": [
        "                    #p_dims,q_dims,dropout_enc,dropout_dec\n",
        "VAEmodel = MultiVAE(p_dims,q_dims,dropout_enc,dropout_dec)\n",
        "init_weights(VAEmodel)\n",
        "VAEmodel.to(device)"
      ]
    },
    {
      "cell_type": "code",
      "execution_count": 52,
      "metadata": {},
      "outputs": [
        {
          "data": {
            "text/plain": "device(type='cuda')"
          },
          "execution_count": 52,
          "metadata": {},
          "output_type": "execute_result"
        }
      ],
      "source": [
        "device"
      ]
    },
    {
      "cell_type": "code",
      "execution_count": 53,
      "metadata": {
        "colab": {
          "base_uri": "https://localhost:8080/"
        },
        "id": "rB0DwRDdW45b",
        "outputId": "f9a6eda2-69cf-4c28-b848-561ddbd42a41"
      },
      "outputs": [
        {
          "name": "stderr",
          "output_type": "stream",
          "text": [
            "  0%|          | 0/50 [00:00<?, ?it/s]"
          ]
        },
        {
          "name": "stdout",
          "output_type": "stream",
          "text": [
            "batch_size = 200 ,learning_rate = 1e-05, weight_decay = 0.1 \n"
          ]
        },
        {
          "name": "stderr",
          "output_type": "stream",
          "text": [
            "  2%|▏         | 1/50 [04:57<4:02:33, 297.00s/it]"
          ]
        },
        {
          "name": "stdout",
          "output_type": "stream",
          "text": [
            "Early stopping triggered. patience: 25 log:0.3178213020949254\n",
            "NDCG100_ = 0.3178213020949254 \n",
            "batch_size = 50 ,learning_rate = 1e-05, weight_decay = 0.2 \n"
          ]
        },
        {
          "name": "stderr",
          "output_type": "stream",
          "text": [
            "  4%|▍         | 2/50 [05:01<1:39:44, 124.68s/it]"
          ]
        },
        {
          "name": "stdout",
          "output_type": "stream",
          "text": [
            "Early stopping triggered. patience: 25 log:0.3178213020949254\n",
            "NDCG100_ = 0.3178213020949254 \n",
            "batch_size = 200 ,learning_rate = 0.001, weight_decay = 0.2 \n"
          ]
        },
        {
          "name": "stderr",
          "output_type": "stream",
          "text": [
            "  6%|▌         | 3/50 [07:03<1:36:52, 123.66s/it]"
          ]
        },
        {
          "name": "stdout",
          "output_type": "stream",
          "text": [
            "Early stopping triggered. patience: 25 log:0.6664325618825107\n",
            "NDCG100_ = 0.6664325618825107 \n",
            "batch_size = 300 ,learning_rate = 1e-07, weight_decay = 0.0 \n"
          ]
        },
        {
          "name": "stderr",
          "output_type": "stream",
          "text": [
            "  8%|▊         | 4/50 [07:07<58:29, 76.29s/it]   "
          ]
        },
        {
          "name": "stdout",
          "output_type": "stream",
          "text": [
            "Early stopping triggered. patience: 25 log:0.6664325618825107\n",
            "NDCG100_ = 0.6664325618825107 \n",
            "batch_size = 500 ,learning_rate = 0.1, weight_decay = 0.3 \n"
          ]
        },
        {
          "name": "stderr",
          "output_type": "stream",
          "text": [
            " 10%|█         | 5/50 [07:11<37:51, 50.49s/it]"
          ]
        },
        {
          "name": "stdout",
          "output_type": "stream",
          "text": [
            "Early stopping triggered. patience: 25 log:0.6664325618825107\n",
            "NDCG100_ = 0.6664325618825107 \n",
            "batch_size = 300 ,learning_rate = 0.1, weight_decay = 0.3 \n"
          ]
        },
        {
          "name": "stderr",
          "output_type": "stream",
          "text": [
            " 12%|█▏        | 6/50 [07:16<25:30, 34.77s/it]"
          ]
        },
        {
          "name": "stdout",
          "output_type": "stream",
          "text": [
            "Early stopping triggered. patience: 25 log:0.6664325618825107\n",
            "NDCG100_ = 0.6664325618825107 \n",
            "batch_size = 50 ,learning_rate = 1e-07, weight_decay = 0.0 \n"
          ]
        },
        {
          "name": "stderr",
          "output_type": "stream",
          "text": [
            " 14%|█▍        | 7/50 [07:20<17:49, 24.86s/it]"
          ]
        },
        {
          "name": "stdout",
          "output_type": "stream",
          "text": [
            "Early stopping triggered. patience: 25 log:0.6664325618825107\n",
            "NDCG100_ = 0.6664325618825107 \n",
            "batch_size = 200 ,learning_rate = 0.1, weight_decay = 0.2 \n"
          ]
        },
        {
          "name": "stderr",
          "output_type": "stream",
          "text": [
            " 16%|█▌        | 8/50 [07:24<12:41, 18.13s/it]"
          ]
        },
        {
          "name": "stdout",
          "output_type": "stream",
          "text": [
            "Early stopping triggered. patience: 25 log:0.6664325618825107\n",
            "NDCG100_ = 0.6664325618825107 \n",
            "batch_size = 300 ,learning_rate = 0.001, weight_decay = 0.2 \n"
          ]
        },
        {
          "name": "stderr",
          "output_type": "stream",
          "text": [
            " 18%|█▊        | 9/50 [07:29<09:30, 13.92s/it]"
          ]
        },
        {
          "name": "stdout",
          "output_type": "stream",
          "text": [
            "Early stopping triggered. patience: 25 log:0.6664325618825107\n",
            "NDCG100_ = 0.6664325618825107 \n",
            "batch_size = 200 ,learning_rate = 1e-05, weight_decay = 0.0 \n"
          ]
        },
        {
          "name": "stderr",
          "output_type": "stream",
          "text": [
            " 20%|██        | 10/50 [07:33<07:24, 11.10s/it]"
          ]
        },
        {
          "name": "stdout",
          "output_type": "stream",
          "text": [
            "Early stopping triggered. patience: 25 log:0.6664325618825107\n",
            "NDCG100_ = 0.6664325618825107 \n",
            "batch_size = 500 ,learning_rate = 0.1, weight_decay = 0.2 \n"
          ]
        },
        {
          "name": "stderr",
          "output_type": "stream",
          "text": [
            " 22%|██▏       | 11/50 [07:37<05:49,  8.96s/it]"
          ]
        },
        {
          "name": "stdout",
          "output_type": "stream",
          "text": [
            "Early stopping triggered. patience: 25 log:0.6664325618825107\n",
            "NDCG100_ = 0.6664325618825107 \n",
            "batch_size = 50 ,learning_rate = 1e-05, weight_decay = 0.1 \n"
          ]
        },
        {
          "name": "stderr",
          "output_type": "stream",
          "text": [
            " 24%|██▍       | 12/50 [07:40<04:29,  7.10s/it]"
          ]
        },
        {
          "name": "stdout",
          "output_type": "stream",
          "text": [
            "Early stopping triggered. patience: 25 log:0.6664325618825107\n",
            "NDCG100_ = 0.6664325618825107 \n",
            "batch_size = 300 ,learning_rate = 1e-05, weight_decay = 0.1 \n"
          ]
        },
        {
          "name": "stderr",
          "output_type": "stream",
          "text": [
            " 26%|██▌       | 13/50 [07:43<03:37,  5.89s/it]"
          ]
        },
        {
          "name": "stdout",
          "output_type": "stream",
          "text": [
            "Early stopping triggered. patience: 25 log:0.6664325618825107\n",
            "NDCG100_ = 0.6664325618825107 \n",
            "batch_size = 200 ,learning_rate = 0.001, weight_decay = 0.1 \n"
          ]
        },
        {
          "name": "stderr",
          "output_type": "stream",
          "text": [
            " 28%|██▊       | 14/50 [07:46<03:00,  5.00s/it]"
          ]
        },
        {
          "name": "stdout",
          "output_type": "stream",
          "text": [
            "Early stopping triggered. patience: 25 log:0.6664325618825107\n",
            "NDCG100_ = 0.6664325618825107 \n",
            "batch_size = 100 ,learning_rate = 0.1, weight_decay = 0.2 \n"
          ]
        },
        {
          "name": "stderr",
          "output_type": "stream",
          "text": [
            " 30%|███       | 15/50 [07:50<02:37,  4.50s/it]"
          ]
        },
        {
          "name": "stdout",
          "output_type": "stream",
          "text": [
            "Early stopping triggered. patience: 25 log:0.6664325618825107\n",
            "NDCG100_ = 0.6664325618825107 \n",
            "batch_size = 300 ,learning_rate = 0.1, weight_decay = 0.2 \n"
          ]
        },
        {
          "name": "stderr",
          "output_type": "stream",
          "text": [
            " 32%|███▏      | 16/50 [07:53<02:20,  4.14s/it]"
          ]
        },
        {
          "name": "stdout",
          "output_type": "stream",
          "text": [
            "Early stopping triggered. patience: 25 log:0.6664325618825107\n",
            "NDCG100_ = 0.6664325618825107 \n",
            "batch_size = 500 ,learning_rate = 0.001, weight_decay = 0.0 \n"
          ]
        },
        {
          "name": "stderr",
          "output_type": "stream",
          "text": [
            " 34%|███▍      | 17/50 [07:56<02:03,  3.73s/it]"
          ]
        },
        {
          "name": "stdout",
          "output_type": "stream",
          "text": [
            "Early stopping triggered. patience: 25 log:0.6664325618825107\n",
            "NDCG100_ = 0.6664325618825107 \n",
            "batch_size = 100 ,learning_rate = 0.001, weight_decay = 0.1 \n"
          ]
        },
        {
          "name": "stderr",
          "output_type": "stream",
          "text": [
            " 36%|███▌      | 18/50 [07:59<01:50,  3.47s/it]"
          ]
        },
        {
          "name": "stdout",
          "output_type": "stream",
          "text": [
            "Early stopping triggered. patience: 25 log:0.6664325618825107\n",
            "NDCG100_ = 0.6664325618825107 \n",
            "batch_size = 100 ,learning_rate = 1e-05, weight_decay = 0.0 \n"
          ]
        },
        {
          "name": "stderr",
          "output_type": "stream",
          "text": [
            " 38%|███▊      | 19/50 [08:02<01:46,  3.43s/it]"
          ]
        },
        {
          "name": "stdout",
          "output_type": "stream",
          "text": [
            "Early stopping triggered. patience: 25 log:0.6664325618825107\n",
            "NDCG100_ = 0.6664325618825107 \n",
            "batch_size = 300 ,learning_rate = 0.001, weight_decay = 0.1 \n"
          ]
        },
        {
          "name": "stderr",
          "output_type": "stream",
          "text": [
            " 40%|████      | 20/50 [08:05<01:40,  3.34s/it]"
          ]
        },
        {
          "name": "stdout",
          "output_type": "stream",
          "text": [
            "Early stopping triggered. patience: 25 log:0.6664325618825107\n",
            "NDCG100_ = 0.6664325618825107 \n",
            "batch_size = 50 ,learning_rate = 1e-05, weight_decay = 0.0 \n"
          ]
        },
        {
          "name": "stderr",
          "output_type": "stream",
          "text": [
            " 42%|████▏     | 21/50 [08:08<01:34,  3.26s/it]"
          ]
        },
        {
          "name": "stdout",
          "output_type": "stream",
          "text": [
            "Early stopping triggered. patience: 25 log:0.6664325618825107\n",
            "NDCG100_ = 0.6664325618825107 \n",
            "batch_size = 300 ,learning_rate = 1e-05, weight_decay = 0.0 \n"
          ]
        },
        {
          "name": "stderr",
          "output_type": "stream",
          "text": [
            " 44%|████▍     | 22/50 [08:11<01:28,  3.15s/it]"
          ]
        },
        {
          "name": "stdout",
          "output_type": "stream",
          "text": [
            "Early stopping triggered. patience: 25 log:0.6664325618825107\n",
            "NDCG100_ = 0.6664325618825107 \n",
            "batch_size = 200 ,learning_rate = 0.001, weight_decay = 0.0 \n"
          ]
        },
        {
          "name": "stderr",
          "output_type": "stream",
          "text": [
            " 46%|████▌     | 23/50 [08:14<01:23,  3.10s/it]"
          ]
        },
        {
          "name": "stdout",
          "output_type": "stream",
          "text": [
            "Early stopping triggered. patience: 25 log:0.6664325618825107\n",
            "NDCG100_ = 0.6664325618825107 \n",
            "batch_size = 50 ,learning_rate = 0.001, weight_decay = 0.0 \n"
          ]
        },
        {
          "name": "stderr",
          "output_type": "stream",
          "text": [
            " 48%|████▊     | 24/50 [08:18<01:23,  3.23s/it]"
          ]
        },
        {
          "name": "stdout",
          "output_type": "stream",
          "text": [
            "Early stopping triggered. patience: 25 log:0.6664325618825107\n",
            "NDCG100_ = 0.6664325618825107 \n",
            "batch_size = 300 ,learning_rate = 0.1, weight_decay = 0.1 \n"
          ]
        },
        {
          "name": "stderr",
          "output_type": "stream",
          "text": [
            " 50%|█████     | 25/50 [08:21<01:20,  3.22s/it]"
          ]
        },
        {
          "name": "stdout",
          "output_type": "stream",
          "text": [
            "Early stopping triggered. patience: 25 log:0.6664325618825107\n",
            "NDCG100_ = 0.6664325618825107 \n",
            "batch_size = 100 ,learning_rate = 0.001, weight_decay = 0.3 \n"
          ]
        },
        {
          "name": "stderr",
          "output_type": "stream",
          "text": [
            " 52%|█████▏    | 26/50 [08:24<01:18,  3.27s/it]"
          ]
        },
        {
          "name": "stdout",
          "output_type": "stream",
          "text": [
            "Early stopping triggered. patience: 25 log:0.6664325618825107\n",
            "NDCG100_ = 0.6664325618825107 \n",
            "batch_size = 100 ,learning_rate = 0.001, weight_decay = 0.0 \n"
          ]
        },
        {
          "name": "stderr",
          "output_type": "stream",
          "text": [
            " 54%|█████▍    | 27/50 [08:27<01:14,  3.26s/it]"
          ]
        },
        {
          "name": "stdout",
          "output_type": "stream",
          "text": [
            "Early stopping triggered. patience: 25 log:0.6664325618825107\n",
            "NDCG100_ = 0.6664325618825107 \n",
            "batch_size = 200 ,learning_rate = 0.1, weight_decay = 0.0 \n"
          ]
        },
        {
          "name": "stderr",
          "output_type": "stream",
          "text": [
            " 56%|█████▌    | 28/50 [08:30<01:09,  3.16s/it]"
          ]
        },
        {
          "name": "stdout",
          "output_type": "stream",
          "text": [
            "Early stopping triggered. patience: 25 log:0.6664325618825107\n",
            "NDCG100_ = 0.6664325618825107 \n",
            "batch_size = 500 ,learning_rate = 1e-07, weight_decay = 0.2 \n"
          ]
        },
        {
          "name": "stderr",
          "output_type": "stream",
          "text": [
            " 58%|█████▊    | 29/50 [08:34<01:08,  3.27s/it]"
          ]
        },
        {
          "name": "stdout",
          "output_type": "stream",
          "text": [
            "Early stopping triggered. patience: 25 log:0.6664325618825107\n",
            "NDCG100_ = 0.6664325618825107 \n",
            "batch_size = 300 ,learning_rate = 0.001, weight_decay = 0.0 \n"
          ]
        },
        {
          "name": "stderr",
          "output_type": "stream",
          "text": [
            " 60%|██████    | 30/50 [08:37<01:04,  3.21s/it]"
          ]
        },
        {
          "name": "stdout",
          "output_type": "stream",
          "text": [
            "Early stopping triggered. patience: 25 log:0.6664325618825107\n",
            "NDCG100_ = 0.6664325618825107 \n",
            "batch_size = 200 ,learning_rate = 1e-05, weight_decay = 0.3 \n"
          ]
        },
        {
          "name": "stderr",
          "output_type": "stream",
          "text": [
            " 62%|██████▏   | 31/50 [08:40<01:01,  3.24s/it]"
          ]
        },
        {
          "name": "stdout",
          "output_type": "stream",
          "text": [
            "Early stopping triggered. patience: 25 log:0.6664325618825107\n",
            "NDCG100_ = 0.6664325618825107 \n",
            "batch_size = 500 ,learning_rate = 0.1, weight_decay = 0.0 \n"
          ]
        },
        {
          "name": "stderr",
          "output_type": "stream",
          "text": [
            " 64%|██████▍   | 32/50 [08:44<00:58,  3.27s/it]"
          ]
        },
        {
          "name": "stdout",
          "output_type": "stream",
          "text": [
            "Early stopping triggered. patience: 25 log:0.6664325618825107\n",
            "NDCG100_ = 0.6664325618825107 \n",
            "batch_size = 100 ,learning_rate = 1e-07, weight_decay = 0.3 \n"
          ]
        },
        {
          "name": "stderr",
          "output_type": "stream",
          "text": [
            " 66%|██████▌   | 33/50 [08:47<00:55,  3.28s/it]"
          ]
        },
        {
          "name": "stdout",
          "output_type": "stream",
          "text": [
            "Early stopping triggered. patience: 25 log:0.6664325618825107\n",
            "NDCG100_ = 0.6664325618825107 \n",
            "batch_size = 100 ,learning_rate = 0.1, weight_decay = 0.0 \n"
          ]
        },
        {
          "name": "stderr",
          "output_type": "stream",
          "text": [
            " 68%|██████▊   | 34/50 [08:50<00:51,  3.23s/it]"
          ]
        },
        {
          "name": "stdout",
          "output_type": "stream",
          "text": [
            "Early stopping triggered. patience: 25 log:0.6664325618825107\n",
            "NDCG100_ = 0.6664325618825107 \n",
            "batch_size = 300 ,learning_rate = 0.1, weight_decay = 0.0 \n"
          ]
        },
        {
          "name": "stderr",
          "output_type": "stream",
          "text": [
            " 70%|███████   | 35/50 [08:53<00:49,  3.29s/it]"
          ]
        },
        {
          "name": "stdout",
          "output_type": "stream",
          "text": [
            "Early stopping triggered. patience: 25 log:0.6664325618825107\n",
            "NDCG100_ = 0.6664325618825107 \n",
            "batch_size = 500 ,learning_rate = 1e-05, weight_decay = 0.2 \n"
          ]
        },
        {
          "name": "stderr",
          "output_type": "stream",
          "text": [
            " 72%|███████▏  | 36/50 [08:56<00:45,  3.22s/it]"
          ]
        },
        {
          "name": "stdout",
          "output_type": "stream",
          "text": [
            "Early stopping triggered. patience: 25 log:0.6664325618825107\n",
            "NDCG100_ = 0.6664325618825107 \n",
            "batch_size = 200 ,learning_rate = 0.1, weight_decay = 0.3 \n"
          ]
        },
        {
          "name": "stderr",
          "output_type": "stream",
          "text": [
            " 74%|███████▍  | 37/50 [09:00<00:42,  3.28s/it]"
          ]
        },
        {
          "name": "stdout",
          "output_type": "stream",
          "text": [
            "Early stopping triggered. patience: 25 log:0.6664325618825107\n",
            "NDCG100_ = 0.6664325618825107 \n",
            "batch_size = 500 ,learning_rate = 0.001, weight_decay = 0.3 \n"
          ]
        },
        {
          "name": "stderr",
          "output_type": "stream",
          "text": [
            " 76%|███████▌  | 38/50 [09:03<00:39,  3.32s/it]"
          ]
        },
        {
          "name": "stdout",
          "output_type": "stream",
          "text": [
            "Early stopping triggered. patience: 25 log:0.6664325618825107\n",
            "NDCG100_ = 0.6664325618825107 \n",
            "batch_size = 500 ,learning_rate = 1e-07, weight_decay = 0.1 \n"
          ]
        },
        {
          "name": "stderr",
          "output_type": "stream",
          "text": [
            " 78%|███████▊  | 39/50 [09:07<00:36,  3.32s/it]"
          ]
        },
        {
          "name": "stdout",
          "output_type": "stream",
          "text": [
            "Early stopping triggered. patience: 25 log:0.6664325618825107\n",
            "NDCG100_ = 0.6664325618825107 \n",
            "batch_size = 100 ,learning_rate = 1e-05, weight_decay = 0.3 \n"
          ]
        },
        {
          "name": "stderr",
          "output_type": "stream",
          "text": [
            " 80%|████████  | 40/50 [09:10<00:32,  3.24s/it]"
          ]
        },
        {
          "name": "stdout",
          "output_type": "stream",
          "text": [
            "Early stopping triggered. patience: 25 log:0.6664325618825107\n",
            "NDCG100_ = 0.6664325618825107 \n",
            "batch_size = 50 ,learning_rate = 1e-05, weight_decay = 0.3 \n"
          ]
        },
        {
          "name": "stderr",
          "output_type": "stream",
          "text": [
            " 82%|████████▏ | 41/50 [09:13<00:28,  3.20s/it]"
          ]
        },
        {
          "name": "stdout",
          "output_type": "stream",
          "text": [
            "Early stopping triggered. patience: 25 log:0.6664325618825107\n",
            "NDCG100_ = 0.6664325618825107 \n",
            "batch_size = 300 ,learning_rate = 1e-05, weight_decay = 0.3 \n"
          ]
        },
        {
          "name": "stderr",
          "output_type": "stream",
          "text": [
            " 84%|████████▍ | 42/50 [09:16<00:25,  3.16s/it]"
          ]
        },
        {
          "name": "stdout",
          "output_type": "stream",
          "text": [
            "Early stopping triggered. patience: 25 log:0.6664325618825107\n",
            "NDCG100_ = 0.6664325618825107 \n",
            "batch_size = 200 ,learning_rate = 0.001, weight_decay = 0.3 \n"
          ]
        },
        {
          "name": "stderr",
          "output_type": "stream",
          "text": [
            " 86%|████████▌ | 43/50 [09:19<00:22,  3.23s/it]"
          ]
        },
        {
          "name": "stdout",
          "output_type": "stream",
          "text": [
            "Early stopping triggered. patience: 25 log:0.6664325618825107\n",
            "NDCG100_ = 0.6664325618825107 \n",
            "batch_size = 300 ,learning_rate = 1e-07, weight_decay = 0.1 \n"
          ]
        },
        {
          "name": "stderr",
          "output_type": "stream",
          "text": [
            " 88%|████████▊ | 44/50 [09:22<00:19,  3.18s/it]"
          ]
        },
        {
          "name": "stdout",
          "output_type": "stream",
          "text": [
            "Early stopping triggered. patience: 25 log:0.6664325618825107\n",
            "NDCG100_ = 0.6664325618825107 \n",
            "batch_size = 50 ,learning_rate = 0.001, weight_decay = 0.3 \n"
          ]
        },
        {
          "name": "stderr",
          "output_type": "stream",
          "text": [
            " 90%|█████████ | 45/50 [09:26<00:16,  3.23s/it]"
          ]
        },
        {
          "name": "stdout",
          "output_type": "stream",
          "text": [
            "Early stopping triggered. patience: 25 log:0.6664325618825107\n",
            "NDCG100_ = 0.6664325618825107 \n",
            "batch_size = 50 ,learning_rate = 1e-07, weight_decay = 0.1 \n"
          ]
        },
        {
          "name": "stderr",
          "output_type": "stream",
          "text": [
            " 92%|█████████▏| 46/50 [09:29<00:12,  3.24s/it]"
          ]
        },
        {
          "name": "stdout",
          "output_type": "stream",
          "text": [
            "Early stopping triggered. patience: 25 log:0.6664325618825107\n",
            "NDCG100_ = 0.6664325618825107 \n",
            "batch_size = 500 ,learning_rate = 1e-05, weight_decay = 0.1 \n"
          ]
        },
        {
          "name": "stderr",
          "output_type": "stream",
          "text": [
            " 94%|█████████▍| 47/50 [09:32<00:09,  3.16s/it]"
          ]
        },
        {
          "name": "stdout",
          "output_type": "stream",
          "text": [
            "Early stopping triggered. patience: 25 log:0.6664325618825107\n",
            "NDCG100_ = 0.6664325618825107 \n",
            "batch_size = 500 ,learning_rate = 0.001, weight_decay = 0.2 \n"
          ]
        },
        {
          "name": "stderr",
          "output_type": "stream",
          "text": [
            " 96%|█████████▌| 48/50 [09:35<00:06,  3.26s/it]"
          ]
        },
        {
          "name": "stdout",
          "output_type": "stream",
          "text": [
            "Early stopping triggered. patience: 25 log:0.6664325618825107\n",
            "NDCG100_ = 0.6664325618825107 \n",
            "batch_size = 300 ,learning_rate = 0.001, weight_decay = 0.3 \n"
          ]
        },
        {
          "name": "stderr",
          "output_type": "stream",
          "text": [
            " 98%|█████████▊| 49/50 [09:38<00:03,  3.16s/it]"
          ]
        },
        {
          "name": "stdout",
          "output_type": "stream",
          "text": [
            "Early stopping triggered. patience: 25 log:0.6664325618825107\n",
            "NDCG100_ = 0.6664325618825107 \n",
            "batch_size = 100 ,learning_rate = 1e-05, weight_decay = 0.2 \n"
          ]
        },
        {
          "name": "stderr",
          "output_type": "stream",
          "text": [
            "100%|██████████| 50/50 [09:41<00:00, 11.63s/it]"
          ]
        },
        {
          "name": "stdout",
          "output_type": "stream",
          "text": [
            "Early stopping triggered. patience: 25 log:0.6664325618825107\n",
            "NDCG100_ = 0.6664325618825107 \n",
            "\n",
            " Best parameters; batch_size= 200, learning_rate = 0.001, weight_decay = 0.2, NDCG100_ = 0.6664325618825107, best_epoch = 4\n"
          ]
        },
        {
          "name": "stderr",
          "output_type": "stream",
          "text": [
            "\n"
          ]
        }
      ],
      "source": [
        "anneal_epochs = None  \n",
        "anneal_cap = 0.2\n",
        "constant_anneal = False\n",
        "update_count = 0\n",
        "\n",
        "#tuning_2(model,train_set,validtrain_set,validtest_set,als_param_grid,200,'AMZBModel',save_results= True)\n",
        "bestModel_info =  tuning_2(VAEmodel,TrainDF_RatMat,ValidTrain_RatMat,ValidTest_RatMat,als_param_grid,200,'AMZBModel',save_results= True)"
      ]
    },
    {
      "cell_type": "code",
      "execution_count": 54,
      "metadata": {
        "colab": {
          "base_uri": "https://localhost:8080/"
        },
        "id": "zfXVXvF0Vyl1",
        "outputId": "89373d64-ef18-41a5-b3ce-b69b3666f31e"
      },
      "outputs": [
        {
          "name": "stdout",
          "output_type": "stream",
          "text": [
            "batch_size     : 200\n",
            "learning_rate  : 0.001\n",
            "weight_decay   : 0.2\n",
            "best_NGCG100   : 0.6664325618825107\n",
            "best_epoch      : 4\n"
          ]
        }
      ],
      "source": [
        "best_BS, best_lr_, best_weightdecay_,best_NGCG100, best_epoch =  bestModel_info\n",
        "print(\"batch_size     :\",best_BS)\n",
        "print(\"learning_rate  :\",best_lr_)\n",
        "print(\"weight_decay   :\",best_weightdecay_)\n",
        "print(\"best_NGCG100   :\",best_NGCG100)        \n",
        "print(\"best_epoch      :\",best_epoch)"
      ]
    },
    {
      "cell_type": "code",
      "execution_count": null,
      "metadata": {
        "id": "zu0CxTpXr58k"
      },
      "outputs": [],
      "source": [
        "#/home/oolaleke/incremental_PSI/Notebooks/AMZBModel.pth"
      ]
    },
    {
      "cell_type": "code",
      "execution_count": 55,
      "metadata": {
        "colab": {
          "base_uri": "https://localhost:8080/"
        },
        "id": "_rFnKmWte-gW",
        "outputId": "06ab22ac-fdc9-4add-cc46-9fe6d61dc060"
      },
      "outputs": [
        {
          "data": {
            "text/plain": "0.6940390856562167"
          },
          "execution_count": 55,
          "metadata": {},
          "output_type": "execute_result"
        }
      ],
      "source": [
        "# Run on test data with best model\n",
        "#model.load_state_dict(torch.load(model_name + \".pt\")))\n",
        "VAEmodel.load_state_dict(torch.load('AMZBModel.pth'))\n",
        "test_loss,tst_ndgc100_ = eval_step_2(VAEmodel,TestTrain_RatMat,TestTest_RatMat)\n",
        "tst_ndgc100_"
      ]
    },
    {
      "cell_type": "code",
      "execution_count": null,
      "metadata": {
        "id": "H4ys91WOtMdv"
      },
      "outputs": [],
      "source": []
    },
    {
      "cell_type": "markdown",
      "metadata": {
        "id": "lD-gXk9zthcm"
      },
      "source": [
        "# get Prediction"
      ]
    },
    {
      "cell_type": "code",
      "execution_count": 38,
      "metadata": {
        "colab": {
          "base_uri": "https://localhost:8080/"
        },
        "id": "2UDKhB0kcTWx",
        "outputId": "535b8ea4-4cc0-47ce-917a-f6390f47475d"
      },
      "outputs": [
        {
          "ename": "NameError",
          "evalue": "name 'X_tr1' is not defined",
          "output_type": "error",
          "traceback": [
            "\u001b[0;31m---------------------------------------------------------------------------\u001b[0m",
            "\u001b[0;31mNameError\u001b[0m                                 Traceback (most recent call last)",
            "\u001b[0;32m<ipython-input-38-35b4d1c3de1c>\u001b[0m in \u001b[0;36m<module>\u001b[0;34m\u001b[0m\n\u001b[0;32m----> 1\u001b[0;31m \u001b[0mX_out_1\u001b[0m \u001b[0;34m=\u001b[0m \u001b[0mget_ModelOut\u001b[0m\u001b[0;34m(\u001b[0m\u001b[0mX_tr1\u001b[0m\u001b[0;34m,\u001b[0m\u001b[0mVAEmodel\u001b[0m\u001b[0;34m)\u001b[0m\u001b[0;34m\u001b[0m\u001b[0;34m\u001b[0m\u001b[0m\n\u001b[0m\u001b[1;32m      2\u001b[0m \u001b[0mprint\u001b[0m\u001b[0;34m(\u001b[0m\u001b[0mX_out_1\u001b[0m\u001b[0;34m.\u001b[0m\u001b[0mshape\u001b[0m\u001b[0;34m)\u001b[0m\u001b[0;34m\u001b[0m\u001b[0;34m\u001b[0m\u001b[0m\n\u001b[1;32m      3\u001b[0m \u001b[0mX_out_1\u001b[0m\u001b[0;34m\u001b[0m\u001b[0;34m\u001b[0m\u001b[0m\n",
            "\u001b[0;31mNameError\u001b[0m: name 'X_tr1' is not defined"
          ]
        }
      ],
      "source": [
        "X_out_1 = get_ModelOut(X_tr1,VAEmodel)\n",
        "print(X_out_1.shape)\n",
        "X_out_1"
      ]
    },
    {
      "cell_type": "code",
      "execution_count": null,
      "metadata": {
        "colab": {
          "base_uri": "https://localhost:8080/"
        },
        "id": "5zFPSQVXe54i",
        "outputId": "1462679f-5d7a-42e3-e5fe-f27b7bba6b42"
      },
      "outputs": [
        {
          "data": {
            "text/plain": [
              "array([[ 56,  64, 200, ..., 273,  90,  91],\n",
              "       [ 56,  64, 200, ..., 273,  90,  91],\n",
              "       [ 56,  64, 200, ..., 273,  90,  91],\n",
              "       ...,\n",
              "       [ 56,  64, 200, ..., 273,  90,  91],\n",
              "       [ 56,  64, 200, ..., 273,  90,  91],\n",
              "       [ 56,  64, 200, ..., 273,  90,  91]])"
            ]
          },
          "execution_count": 78,
          "metadata": {
            "tags": []
          },
          "output_type": "execute_result"
        }
      ],
      "source": [
        "top10_sample  = get_TopNPred(X_out_1,k=10)\n",
        "top10_sample"
      ]
    },
    {
      "cell_type": "code",
      "execution_count": null,
      "metadata": {
        "id": "u5QLKBJKfFtr"
      },
      "outputs": [],
      "source": [
        "for i in range(10): \n",
        "    print(top10_sample[i])"
      ]
    },
    {
      "cell_type": "code",
      "execution_count": null,
      "metadata": {},
      "outputs": [],
      "source": []
    },
    {
      "cell_type": "code",
      "execution_count": null,
      "metadata": {},
      "outputs": [],
      "source": []
    }
  ],
  "metadata": {
    "colab": {
      "collapsed_sections": [],
      "name": "VAE_Pytorch.ipynb",
      "provenance": [],
      "toc_visible": true
    },
    "kernelspec": {
      "name": "python392jvsc74a57bd01d40221c0336dfe0c468749ccfbce19a4d0ada951efb74219fd3ebf7d78ddc70",
      "display_name": "Python 3.9.2 64-bit ('PSI_project': conda)"
    },
    "language_info": {
      "codemirror_mode": {
        "name": "ipython",
        "version": 3
      },
      "file_extension": ".py",
      "mimetype": "text/x-python",
      "name": "python",
      "nbconvert_exporter": "python",
      "pygments_lexer": "ipython3",
      "version": "3.9.2"
    },
    "metadata": {
      "interpreter": {
        "hash": "1d40221c0336dfe0c468749ccfbce19a4d0ada951efb74219fd3ebf7d78ddc70"
      }
    }
  },
  "nbformat": 4,
  "nbformat_minor": 0
}