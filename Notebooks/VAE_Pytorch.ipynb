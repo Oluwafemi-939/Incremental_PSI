{
  "nbformat": 4,
  "nbformat_minor": 0,
  "metadata": {
    "colab": {
      "name": "VAE_Pytorch.ipynb",
      "provenance": [],
      "collapsed_sections": [],
      "toc_visible": true
    },
    "kernelspec": {
      "name": "python392jvsc74a57bd01d40221c0336dfe0c468749ccfbce19a4d0ada951efb74219fd3ebf7d78ddc70",
      "display_name": "Python 3.9.2 64-bit ('PSI_project': conda)"
    },
    "language_info": {
      "codemirror_mode": {
        "name": "ipython",
        "version": 3
      },
      "file_extension": ".py",
      "mimetype": "text/x-python",
      "name": "python",
      "nbconvert_exporter": "python",
      "pygments_lexer": "ipython3",
      "version": "3.9.2"
    },
    "metadata": {
      "interpreter": {
        "hash": "1d40221c0336dfe0c468749ccfbce19a4d0ada951efb74219fd3ebf7d78ddc70"
      }
    }
  },
  "cells": [
    {
      "cell_type": "code",
      "metadata": {
        "id": "v25EQf26hwia"
      },
      "source": [
        ""
      ],
      "execution_count": null,
      "outputs": []
    },
    {
      "cell_type": "markdown",
      "metadata": {
        "id": "eRgN35bDrEzC"
      },
      "source": [
        "##Import"
      ]
    },
    {
      "cell_type": "code",
      "metadata": {
        "id": "UIZknAAkRP2G"
      },
      "source": [
        "import os\n",
        "os.environ[\"OMP_NUM_THREADS\"] = \"8\"        # export OMP_NUM_THREADS=4\n",
        "os.environ[\"OPENBLAS_NUM_THREADS\"] = \"8\"   # export OPENBLAS_NUM_THREADS=4 \n",
        "os.environ[\"MKL_NUM_THREADS\"] = \"8\"        # export MKL_NUM_THREADS=6\n",
        "os.environ[\"VECLIB_MAXIMUM_THREADS\"] = \"8\" # export VECLIB_MAXIMUM_THREADS=4\n",
        "os.environ[\"NUMEXPR_NUM_THREADS\"] = \"8\""
      ],
      "execution_count": null,
      "outputs": []
    },
    {
      "cell_type": "code",
      "metadata": {
        "id": "xnuh9_I1RP2I"
      },
      "source": [
        "import io\n",
        "import os\n",
        "import gzip\n",
        "import json\n",
        "import scipy\n",
        "import random\n",
        "import warnings\n",
        "import numpy as np\n",
        "#import numba as nb\n",
        "import pandas as pd\n",
        "import datetime as dt\n",
        "import seaborn as sns\n",
        "from tqdm import trange,tqdm\n",
        "import scipy.stats as st\n",
        "from collections import OrderedDict\n",
        "import scipy.sparse as sparse\n",
        "from scipy.linalg import orth\n",
        "import matplotlib.pyplot as plt\n",
        "from numpy import linalg as lin\n",
        "import implicit\n",
        "import pickle\n",
        "warnings.filterwarnings('ignore')\n",
        "from scipy.sparse import coo_matrix\n",
        "from scipy.sparse.linalg import svds\n",
        "from datetime import datetime as dt_dt\n",
        "from scipy.sparse.linalg import spsolve\n",
        "from numpy.linalg import qr as QR_decomp\n",
        "from scipy.sparse import csr_matrix, find\n",
        "from pandas.api.types import CategoricalDtype\n",
        "from typing import List\n",
        "import torch\n",
        "import torch.nn.functional as F\n",
        "from torch import nn\n",
        "from polara.evaluation.pipelines import random_grid\n",
        "import bottleneck as bn\n",
        "from typing import List"
      ],
      "execution_count": null,
      "outputs": []
    },
    {
      "cell_type": "code",
      "metadata": {
        "id": "rLdjLGPtrEaG"
      },
      "source": [
        "import sys\n",
        "sys.path.append('/home/oolaleke/incremental_PSI/Scripts/')"
      ],
      "execution_count": null,
      "outputs": []
    },
    {
      "cell_type": "code",
      "metadata": {
        "id": "afzO77lY5_WD"
      },
      "source": [
        "import a_DataHelpers\n",
        "import b_AlgoFunctions\n",
        "import c_PredEval\n",
        "import d_CorrScores\n",
        "import e_VAEfunction"
      ],
      "execution_count": null,
      "outputs": []
    },
    {
      "cell_type": "code",
      "metadata": {
        "id": "p6oOdhgiRP2O"
      },
      "source": [
        "from a_DataHelpers import getPivotMonths,Time_DataSplit,TestTrain_DataSplit,SingleRatingMatrix\n",
        "from a_DataHelpers import AllRatingMatrices,All_SingleStepRatMat,psiStep_RatMat,psiAllStep_RatMat\n",
        "from a_DataHelpers import Find_NewUsersItems,adjustedPSI_DF,adjustedAllDF,get_NEWHoldout,ADJUST_mainDF\n",
        "from a_DataHelpers import  SingleStepRatMat_2,AllSingleStepRatMat_2,SingleStep_RatMat\n",
        "\n",
        "from b_AlgoFunctions import integrator,getStartingValues,integratorOnMat,last_psiTrainMat, pureSVD\n",
        "from b_AlgoFunctions import Updt_RowMatrix,getRow_Mat,row_update, Updt_ColMatrix,getCol_Mat,colunm_update\n",
        "from b_AlgoFunctions import UsersItems_RatPair,getRowCol_psiupdt,ITEMS_defferredStatus,USERS_defferredStatus\n",
        "from b_AlgoFunctions import getV_listUpdate, SingleStep_UPDATE,ALLSTEPs_UPDATE\n",
        "from b_AlgoFunctions import TuneALS,HitrEval_noprint\n",
        "from b_AlgoFunctions import nonzeros,least_squares_cg,alternating_least_squares_cg\n",
        "\n",
        "\n",
        "from c_PredEval import TopNPred,TQDMgetALLTopNPred, Hitrate_Eval,getAll_HitRate,mean_confidence_interval\n",
        "from c_PredEval import TQDMgetALLTopNPred_ALLUSERS,getALLTopNPred_ALLUSERS,get_ALLRandPred\n",
        "from c_PredEval import topN_Index,getAll_RandomHitRate,getMOSTPOP_Pred,getAll_MostPOPHitRate,getAll_MOSTPOP_Pred\n",
        "from c_PredEval import StepCoverage_Ratio,AllSteps_Coverage_Ratio,getAll_VAEMRR\n",
        "from c_PredEval import MRR_Eval,getAll_MRR_Eval,TQDMgetAll_MRR_Eval, getAll_MostPOP_MRR,getAll_RandomRecMRR\n",
        "from c_PredEval import ials_TopNPred, ials_getALLPred, ials_getALLPredTQDM,ialsALLPred_ALLUSERS\n",
        "\n",
        "from d_CorrScores import no_copy_csr_matrix,build_rank_weights_matrix,rank_weighted_jaccard_index\n",
        "from d_CorrScores import Updt_getAll_AvgCorr, updtCorr_4AllRanks\n",
        "\n",
        "from e_VAEfunction import split_users, split_train_test, numerize_data, get_TrainRatMat, getTrainTest_RatMat"
      ],
      "execution_count": null,
      "outputs": []
    },
    {
      "cell_type": "markdown",
      "metadata": {
        "id": "rFRmLCS-jaLn"
      },
      "source": [
        "# Functions"
      ]
    },
    {
      "cell_type": "markdown",
      "metadata": {
        "id": "Kq7VUKhmJPxP"
      },
      "source": [
        "##Multi VAE Model"
      ]
    },
    {
      "cell_type": "code",
      "metadata": {
        "id": "NNKxavME6Hgd"
      },
      "source": [
        "class Encoder(nn.Module):\n",
        "    def __init__(self, q_dims, dropout):  ## q_dims: List[int], dropout: List[float]\n",
        "        super().__init__()\n",
        "\n",
        "        self.q_dims = q_dims\n",
        "        q_dims_ = self.q_dims[:-1] + [self.q_dims[-1] * 2]\n",
        "        self.q_layers = nn.Sequential()\n",
        "        for i, (p, inp, out) in enumerate(zip(dropout, q_dims_[:-1], q_dims_[1:])):\n",
        "            self.q_layers.add_module(\"_\".join([\"dropout\", str(i)]), nn.Dropout(p))\n",
        "            self.q_layers.add_module(\"_\".join([\"linear\", str(i)]), nn.Linear(inp, out))\n",
        "\n",
        "    def forward(self, X):\n",
        "        h = F.normalize(X, p=2, dim=1)\n",
        "        for i, layer in enumerate(self.q_layers):\n",
        "            h = layer(h)\n",
        "            if i != len(self.q_layers) - 1:\n",
        "                h = torch.tanh(h)\n",
        "            else:\n",
        "                mu, logvar = torch.split(h, self.q_dims[-1], dim=1)\n",
        "        return mu, logvar\n",
        "\n",
        "class Decoder(nn.Module):\n",
        "    def __init__(self, p_dims, dropout):  #p_dims: List[int], dropout: List[float]\n",
        "        super().__init__()\n",
        "\n",
        "        self.p_layers = nn.Sequential()\n",
        "        for i, (p, inp, out) in enumerate(zip(dropout, p_dims[:-1], p_dims[1:])):\n",
        "            self.p_layers.add_module(\"_\".join([\"dropout\", str(i)]), nn.Dropout(p))\n",
        "            self.p_layers.add_module(\"_\".join([\"linear\", str(i)]), nn.Linear(inp, out))\n",
        "\n",
        "    def forward(self, X):\n",
        "        h = X\n",
        "        for i, layer in enumerate(self.p_layers):\n",
        "            h = layer(h)\n",
        "            if i != len(self.p_layers) - 1:\n",
        "                h = torch.tanh(h)\n",
        "        return h\n",
        "\n",
        "\n",
        "class MultiVAE(nn.Module):\n",
        "    def __init__(self,p_dims,q_dims,dropout_enc,dropout_dec): #p_dims:List[int],q_dims:List[int],dropout_enc:List[float],dropout_dec:List[float], \n",
        "        super().__init__()\n",
        "        self.encode = Encoder(q_dims, dropout_enc)  #q_dims == Encoder dimensions\n",
        "        self.decode = Decoder(p_dims, dropout_dec)  #p_dims == Decoder dimensions\n",
        "\n",
        "    def forward(self, X):\n",
        "        mu, logvar = self.encode(X)\n",
        "        std = torch.exp(0.5 * logvar)\n",
        "        eps = torch.randn_like(std)\n",
        "        sampled_z = mu + float(self.training) * eps * std\n",
        "        return self.decode(sampled_z), mu, logvar        \n",
        "\n",
        "def init_weights(model):\n",
        "    for name, param in model.named_parameters():\n",
        "        if \"weight\" in name:\n",
        "            nn.init.xavier_uniform_(param.data)\n",
        "        elif \"bias\" in name:\n",
        "            param.data.normal_(std=0.001)\n",
        "  \n",
        "\n",
        "def getTot_annealSTeps(train_RatMat,batch_size,n_epochs,anneal_cap):\n",
        "    training_steps = len(range(0, train_RatMat.shape[0], batch_size))\n",
        "    try:\n",
        "       total_anneal_steps = (training_steps * (n_epochs - int(n_epochs * 0.2))) / anneal_cap  ##\n",
        "    except ZeroDivisionError:\n",
        "        assert (constant_anneal), \"if 'anneal_cap' is set to 0.0 'constant_anneal' must be set to 'True\"\n",
        "\n",
        "    return total_anneal_steps"
      ],
      "execution_count": null,
      "outputs": []
    },
    {
      "cell_type": "code",
      "metadata": {
        "id": "dv1CljAejDZg"
      },
      "source": [
        ""
      ],
      "execution_count": null,
      "outputs": []
    },
    {
      "cell_type": "markdown",
      "metadata": {
        "id": "vlKEUnoFukDY"
      },
      "source": [
        "## Train and Eval"
      ]
    },
    {
      "cell_type": "code",
      "metadata": {
        "id": "dehjN5mzrOKw"
      },
      "source": [
        "def train_step(model, optimizer, data, epoch):\n",
        "    model.train()\n",
        "    running_loss = 0.0\n",
        "    global update_count\n",
        "    N = data.shape[0]\n",
        "    idxlist = list(range(N))\n",
        "    np.random.shuffle(idxlist)\n",
        "    training_steps = len(range(0, N, batch_size))   #training_steps\n",
        "    for batch_idx, start_idx in zip(range(training_steps), range(0, N, batch_size)):\n",
        "        end_idx = min(start_idx + batch_size, N)\n",
        "        X_inp = data[idxlist[start_idx:end_idx]]\n",
        "        X_inp = torch.FloatTensor(X_inp.toarray()).to(device)\n",
        "        if constant_anneal:\n",
        "            anneal = anneal_cap\n",
        "        else:\n",
        "            anneal = min(anneal_cap, update_count / total_anneal_steps)\n",
        "        update_count += 1\n",
        "        optimizer.zero_grad()\n",
        "        X_out, mu, logvar = model(X_inp)\n",
        "        loss = vae_loss_fn(X_inp, X_out, mu, logvar, anneal)\n",
        "        train_step.anneal = anneal\n",
        "        loss.backward()\n",
        "        optimizer.step()\n",
        "        running_loss += loss.item()\n",
        "        avg_loss = running_loss / (batch_idx + 1)\n",
        "        #t.set_postfix(loss=avg_loss)\n",
        "\n",
        "\n",
        "def eval_step(model,data_tr):\n",
        "    model.eval()\n",
        "    running_loss = 0.0\n",
        "    eval_idxlist = list(range(data_tr.shape[0]))\n",
        "    eval_N = data_tr.shape[0]\n",
        "    eval_steps = len(range(0, eval_N, batch_size))\n",
        "    n10_list,r10_list,hr10_list,mrr10_list = [], [], [], []\n",
        "    with torch.no_grad():\n",
        "         for batch_idx, start_idx in zip(range(eval_steps), range(0, eval_N, batch_size)):\n",
        "             end_idx = min(start_idx + batch_size, eval_N)\n",
        "             X_tr = data_tr[eval_idxlist[start_idx:end_idx]]\n",
        "             #X_te = data_te[eval_idxlist[start_idx:end_idx]]\n",
        "             X_tr_inp = torch.FloatTensor(X_tr.toarray()).to(device)\n",
        "\n",
        "             X_out, mu, logvar = model(X_tr_inp)\n",
        "             X_out = X_out.cpu().numpy()                           #X_out[X_tr.nonzero()] = -np.inf  \n",
        "               \n",
        "             n10 =  NDCG_binary_at_k_batch(X_out, X_tr, k=10)\n",
        "             r10 =  Recall_at_k_batch(X_out, X_tr, k=10)\n",
        "             hr10 =  HR_at_k_batch(X_out, X_tr.toarray(), k=10)     #X_tr.toarray() == groundTruth\n",
        "             mrr10 = MRR_at_k_batch(X_out, X_tr.toarray(), k=10)\n",
        "\n",
        "             n10_list.append(n10)\n",
        "             r10_list.append(r10)\n",
        "             hr10_list.append(hr10)\n",
        "             mrr10_list.append(mrr10)\n",
        "                \n",
        "    n10_list = np.concatenate(n10_list)\n",
        "    r10_list = np.concatenate(r10_list)\n",
        "    hr10_list = np.concatenate(hr10_list)\n",
        "    mrr10_list = np.concatenate(mrr10_list)\n",
        "    return np.mean(hr10_list), np.mean(mrr10_list),np.mean(r10_list), np.mean(n10_list)\n",
        "\n"
      ],
      "execution_count": null,
      "outputs": []
    },
    {
      "cell_type": "code",
      "metadata": {
        "id": "0sEyju9Lkml8"
      },
      "source": [
        ""
      ],
      "execution_count": null,
      "outputs": []
    },
    {
      "cell_type": "markdown",
      "metadata": {
        "id": "X4D9FMfQAypj"
      },
      "source": [
        "## Loss & Metric"
      ]
    },
    {
      "cell_type": "code",
      "metadata": {
        "id": "ri9P3J1xrHub"
      },
      "source": [
        "def vae_loss_fn(inp, out, mu, logvar, anneal):\n",
        "    neg_ll = -torch.mean(torch.sum(F.log_softmax(out, 1) * inp, -1))\n",
        "    KLD = -0.5 * torch.mean(torch.sum(1 + logvar - mu.pow(2) - logvar.exp(), dim=1))\n",
        "    return neg_ll + anneal * KLD\n"
      ],
      "execution_count": null,
      "outputs": []
    },
    {
      "cell_type": "code",
      "metadata": {
        "id": "ToDKIvJ1n8LJ"
      },
      "source": [
        "def topN_Index(a, n):\n",
        "    parted = np.argpartition(a, -n)[-n:]\n",
        "    return parted[np.argsort(-a[parted])]  \n",
        "\n",
        "\n",
        "def NDCG_binary_at_k_batch(X_pred, heldout_batch, k=10):  #Hello2021\n",
        "    batch_users = X_pred.shape[0]\n",
        "    idx_topk_part = bn.argpartition(-X_pred, k, axis=1)\n",
        "    topk_part = X_pred[np.arange(batch_users)[:, np.newaxis], idx_topk_part[:, :k]]\n",
        "    idx_part = np.argsort(-topk_part, axis=1)\n",
        "    idx_topk = idx_topk_part[np.arange(batch_users)[:, np.newaxis], idx_part]\n",
        "\n",
        "    # build the discount template\n",
        "    tp = 1.0 / np.log2(np.arange(2, k + 2))\n",
        "    DCG = (heldout_batch[np.arange(batch_users)[:, np.newaxis], idx_topk].toarray() * tp).sum(axis=1)\n",
        "    IDCG = np.array([(tp[: min(n, k)]).sum() for n in heldout_batch.getnnz(axis=1)])\n",
        "    return DCG[IDCG > 0.0] / IDCG[IDCG > 0.0]\n",
        "\n",
        "\n",
        "def Recall_at_k_batch(X_pred, heldout_batch, k=10):\n",
        "    batch_users = X_pred.shape[0]\n",
        "    \n",
        "    idx = bn.argpartition(-X_pred, k, axis=1)\n",
        "    X_pred_binary = np.zeros_like(X_pred, dtype=bool)\n",
        "    X_pred_binary[np.arange(batch_users)[:, np.newaxis], idx[:, :k]] = True\n",
        "\n",
        "    X_true_binary = (heldout_batch > 0).toarray()\n",
        "    tmp = (np.logical_and(X_true_binary, X_pred_binary).sum(axis=1)).astype(np.float32)\n",
        "    denominator = np.minimum(k, X_true_binary.sum(axis=1))\n",
        "    recall = tmp[denominator > 0.0] / denominator[denominator > 0.0]\n",
        "    return recall\n",
        "\n",
        "def HR_at_k_batch(pred_scores, ground_truth, k=10):  #\"pred_scores' and 'ground_truth' must have the same shape.\"\n",
        "    k = min(pred_scores.shape[1], k)\n",
        "    idx = bn.argpartition(-pred_scores, k-1, axis=1)\n",
        "    pred_scores_binary = np.zeros_like(pred_scores, dtype=bool)\n",
        "    pred_scores_binary[np.arange(pred_scores.shape[0])[:, np.newaxis], idx[:, :k]] = True\n",
        "    X_true_binary = (ground_truth > 0)\n",
        "    num = (np.logical_and(X_true_binary, pred_scores_binary).sum(axis=1)).astype(np.float32)\n",
        "    return num > 0\n",
        "   \n",
        "def MRR_at_k_batch(pred_scores, ground_truth, k=10):  #'pred_scores' and 'ground_truth' must have the same shape\n",
        "       #Compute the Mean Reciprocal Rank (MRR)             \n",
        "    k = min(pred_scores.shape[1], k)\n",
        "    idx = np.argsort(-pred_scores)\n",
        "    hits = ground_truth[np.arange(ground_truth.shape[0])[:, np.newaxis], idx[:, :k]]\n",
        "    rranks, cranks = hits.nonzero()\n",
        "\n",
        "    mrr = [0. for _ in range(ground_truth.shape[0])]\n",
        "    for i, r in enumerate(rranks):\n",
        "        if mrr[r] == 0:\n",
        "           mrr[r] = 1. / (1 + cranks[i])\n",
        "\n",
        "    return np.array(mrr)\n"
      ],
      "execution_count": null,
      "outputs": []
    },
    {
      "cell_type": "markdown",
      "metadata": {
        "id": "eH5zOX38rNxS"
      },
      "source": [
        "## Get Pred & Metrics"
      ]
    },
    {
      "cell_type": "code",
      "metadata": {
        "id": "wA64SqSgo6Lp"
      },
      "source": [
        "##Generate Prediction list:\n",
        "def topN_Index(a, n):\n",
        "    parted = np.argpartition(a, -n)[-n:]\n",
        "    return parted[np.argsort(-a[parted])]  \n",
        "\n",
        "   #getmetrics_(model_,holdout_Mat,holdout_df,batch_size=holdout_Mat.shape[0],k)\n",
        "def getmetrics_(model,data_tr,holdout_df,k=10):\n",
        "    model.eval()\n",
        "    running_loss = 0.0\n",
        "    eval_idxlist = list(range(data_tr.shape[0]))\n",
        "    eval_N = data_tr.shape[0]\n",
        "    eval_steps = len(range(0, eval_N, batch_size))\n",
        "    n100_list, hr10_list, mrr10_list = [], [], []\n",
        "    users_pred = []\n",
        "    with torch.no_grad():\n",
        "         for batch_idx, start_idx in zip(range(eval_steps), range(0, eval_N, batch_size)):\n",
        "             end_idx = min(start_idx + batch_size, eval_N)\n",
        "             X_tr = data_tr[eval_idxlist[start_idx:end_idx]]\n",
        "             X_tr_inp = torch.FloatTensor(X_tr.toarray()).to(device)\n",
        "             #Make pred:    \n",
        "             X_out, mu, logvar = model(X_tr_inp)\n",
        "             X_out = X_out.cpu().numpy() \n",
        "             X_out[X_tr.nonzero()] = -np.inf        \n",
        "             topN_pred = np.apply_along_axis(topN_Index, 1, X_out,n = 10)     \n",
        "             users_pred.append(topN_pred)        \n",
        "         AllUserPRED = np.vstack(users_pred)\n",
        "  \n",
        "    test_users = holdout_df['Updated_UserID'].unique()\n",
        "    TestUserPRED =  AllUserPRED[test_users,:]    \n",
        "    hr_value = Hitrate_Eval(holdout_df,TestUserPRED,'Updated_UserID','Updated_ItemID')   \n",
        "    mrr_value = MRR_Eval(holdout_df,TestUserPRED,'Updated_ItemID') \n",
        "      \n",
        "    return AllUserPRED, hr_value, mrr_value \n"
      ],
      "execution_count": null,
      "outputs": []
    },
    {
      "cell_type": "code",
      "metadata": {
        "id": "XCmvZvBRRP2m"
      },
      "source": [
        "##Tuning.....\n",
        "def HitrateEval_(Holdout,TopN_pred,user_column,item_column):\n",
        "    Eval_itemsVector  =  Holdout[[item_column]].to_numpy()\n",
        "    HitRate_arr   = (TopN_pred == Eval_itemsVector).sum(axis=1)  ##sum along row...\n",
        "    HitCount = np.count_nonzero(HitRate_arr == 1)\n",
        "    HitRate_ = HitRate_arr.mean()\n",
        "    return HitRate_\n",
        "\n",
        "def getEvalmetrics_(model,data_tr,holdout_df,k=10):\n",
        "    model.eval()\n",
        "    running_loss = 0.0\n",
        "    eval_idxlist = list(range(data_tr.shape[0]))\n",
        "    eval_N = data_tr.shape[0]\n",
        "    eval_steps = len(range(0, eval_N, batch_size))\n",
        "    hr10_list, mrr10_list = [], []\n",
        "    users_pred = []\n",
        "    with torch.no_grad():\n",
        "         for batch_idx, start_idx in zip(range(eval_steps), range(0, eval_N, batch_size)):\n",
        "             end_idx = min(start_idx + batch_size, eval_N)\n",
        "             X_tr = data_tr[eval_idxlist[start_idx:end_idx]]\n",
        "             X_tr_inp = torch.FloatTensor(X_tr.toarray()).to(device)\n",
        "             #Make pred:    \n",
        "             X_out, mu, logvar = model(X_tr_inp)\n",
        "             X_out = X_out.cpu().numpy() \n",
        "             X_out[X_tr.nonzero()] = -np.inf        \n",
        "             topN_pred = np.apply_along_axis(topN_Index, 1, X_out,n = 10)     \n",
        "             users_pred.append(topN_pred)        \n",
        "         AllUserPRED = np.vstack(users_pred)\n",
        "  \n",
        "    test_users = holdout_df['Updated_UserID'].unique()\n",
        "    TestUserPRED =  AllUserPRED[test_users,:]    \n",
        "    hr_value  = HitrateEval_(holdout_df,TestUserPRED,'Updated_UserID','Updated_ItemID')   \n",
        "    mrr_value = MRR_Eval(holdout_df,TestUserPRED,'Updated_ItemID')      \n",
        "    return hr_value, mrr_value \n",
        "\n",
        "def getModel(train_Mat,lr_):\n",
        "    I =  train_Mat.shape[1] \n",
        "    q_dims = [I] + [600, 200]\n",
        "    p_dims = [200, 600] + [I]\n",
        "    dropout_enc = [0.5, 0.]\n",
        "    dropout_dec = [0., 0.]\n",
        "\n",
        "    VAEmodel = MultiVAE(p_dims,q_dims,dropout_enc,dropout_dec)\n",
        "    init_weights(VAEmodel)\n",
        "    VAEmodel.to(device)\n",
        "    optimizer = torch.optim.AdamW(VAEmodel.parameters(), lr=lr_, weight_decay=0.0)  \n",
        "    return VAEmodel, optimizer   \n",
        "\n",
        "\n",
        "# def tuning_model(train_Mat,holdout_df,als_param_grid):\n",
        "#     best_hr = -np.inf  \n",
        "#     for i in trange(len(als_param_grid)): \n",
        "#         batch_size, lr, n_epochs = list(als_param_grid)[i]  \n",
        "#         model, optimizer = getModel(train_Mat,lr)\n",
        "#         total_anneal_steps = getTot_annealSTeps(train_Mat,batch_size,n_epochs,anneal_cap)\n",
        "#         for epoch in range(n_epochs):\n",
        "#             train_step(model, optimizer, train_Mat, epoch)\n",
        "\n",
        "#         hr_, mrr_ = getEvalmetrics_(model,train_Mat,holdout_df,k=10)\n",
        "#         print('\\n BS_ = {} | lr_ = {} | n_epoch = {}| HR = {} | MRR = {} '.format(batch_size, lr, n_epochs, hr_, mrr_))\n",
        "#         if (hr_ > best_hr):\n",
        "#            best_BS  = batch_size\n",
        "#            best_lr = lr\n",
        "#            best_epoch = n_epochs\n",
        "#            best_hr = hr_\n",
        "#            best_mrr = mrr_\n",
        "               \n",
        "#     print('\\n Best_param; BS_ = {} | lr_ = {} | n_epoch = {} | HR = {} | MRR = {}'.format(best_BS,best_lr,best_epoch,best_hr,best_mrr))\n",
        "#     return best_BS,best_lr,best_epoch,best_hr,best_mrr\n",
        "\n",
        "# def tuning_dim(train_Mat,holdout_df,pdim_list,lr,batch_size,n_epochs):\n",
        "#     best_hr = -np.inf  \n",
        "#     for p_dims in tqdm(pdim_list): \n",
        "#         model, optimizer = getVAEModel(train_Mat,lr,p_dims)\n",
        "#         total_anneal_steps = getTot_annealSTeps(train_Mat,batch_size,n_epochs,anneal_cap)\n",
        "#         for epoch in range(n_epochs):\n",
        "#             train_step(model, optimizer, train_Mat, epoch)\n",
        "\n",
        "#         hr_, mrr_ = getEvalmetrics_(model,train_Mat,holdout_df,k=10)\n",
        "#         print('\\n p_dim = {} ,HR = {} , MRR = {} '.format(p_dims,hr_,mrr_))\n",
        "#         if (hr_ > best_hr):\n",
        "#            best_hr = hr_\n",
        "#            best_mrr = mrr_\n",
        "#            best_dims = p_dims\n",
        "               \n",
        "#     print('\\n Best_param; p_dim = {},HR = {} ,MRR = {}'.format(best_dims,best_hr,best_mrr))\n",
        "#     return best_dims,best_hr,best_mrr\n",
        "               \n",
        "               "
      ],
      "execution_count": null,
      "outputs": []
    },
    {
      "cell_type": "code",
      "metadata": {
        "id": "tzswsZT_RP2q"
      },
      "source": [
        ""
      ],
      "execution_count": null,
      "outputs": []
    },
    {
      "cell_type": "code",
      "metadata": {
        "id": "gTRkM81CRP2q"
      },
      "source": [
        "### Tuning 2nd :  \n",
        "### Tuning 2nd :\n",
        "### .......... :\n",
        "\n",
        "def getVAEModel(train_Mat,lr_,p_dims):\n",
        "    I =  train_Mat.shape[1] \n",
        "    q_Dims = [I] + p_dims[::-1]\n",
        "    P_Dims = p_dims + [I]\n",
        "    dropout_enc = [0.5, 0.]\n",
        "    dropout_dec = [0., 0]\n",
        "\n",
        "    VAEmodel = MultiVAE(P_Dims,q_Dims,dropout_enc,dropout_dec)\n",
        "    init_weights(VAEmodel)\n",
        "    VAEmodel.to(device)\n",
        "    optimizer = torch.optim.AdamW(VAEmodel.parameters(), lr=lr_, weight_decay=0.0) \n",
        "    return VAEmodel, optimizer \n",
        "               \n",
        "def single_train(model, optimizer, train_Mat,holdout_df,eval_every,n_epochs):\n",
        "    best_hr = -np.inf\n",
        "    for epoch in range(n_epochs):\n",
        "        train_step(model, optimizer, train_Mat, epoch)\n",
        "        if epoch % eval_every == (eval_every - 1):\n",
        "           hr_ , mrr_ = getEvalmetrics_(model,train_Mat,holdout_df,k=10)\n",
        "           if (hr_ > best_hr):\n",
        "              best_hr = hr_\n",
        "              best_mrr = mrr_\n",
        "              best_epoch = epoch\n",
        "           else:\n",
        "               #print(\"Early stop activated;| Epoch:{} | hr_:{} | mrr_:{}\".format(best_epoch, best_hr,best_mrr))\n",
        "               break\n",
        "    return best_hr,best_mrr,best_epoch\n",
        "  \n",
        "\n",
        "def TuningModel_2(train_Mat,holdout_df,pdim_list,als_param_grid,eval_every=20,n_epochs=200):\n",
        "    best_hr = -np.inf  \n",
        "    for i in trange(len(als_param_grid)): \n",
        "        batch_size, lr, dim_i = list(als_param_grid)[i]                      \n",
        "        model, optimizer = getVAEModel(train_Mat, lr, pdim_list[dim_i]) \n",
        "        total_anneal_steps = getTot_annealSTeps(train_Mat,batch_size,n_epochs,anneal_cap)\n",
        "        hr_,mrr_,stop_epoch = single_train(model, optimizer, train_Mat, holdout_df,eval_every,n_epochs)\n",
        "            \n",
        "        print('\\n BS_ = {} | lr_ = {} | n_epoch = {}| HR = {} | MRR = {} | p_dims = {} '.format(batch_size, lr, stop_epoch, hr_, mrr_,pdim_list[dim_i]))\n",
        "        if (hr_ > best_hr):\n",
        "           best_BS  = batch_size\n",
        "           best_lr = lr\n",
        "           best_epoch = stop_epoch\n",
        "           best_hr = hr_\n",
        "           best_mrr = mrr_\n",
        "           best_dims = pdim_list[dim_i]\n",
        "               \n",
        "    print('\\n Best_param; BS_ = {} | lr_ = {} | n_epoch = {} | HR = {} | MRR = {} | p_dims = {}'.format(best_BS,best_lr,best_epoch,best_hr,best_mrr,best_dims))\n",
        "    return best_BS, best_lr, best_epoch, best_hr, best_mrr, best_dims\n",
        "\n",
        "\n",
        "def singlepredEval_2(UserItemMat,holdout_df,batch_size,n_epoch,lr_,p_dims):\n",
        "    update_count = 0\n",
        "    constant_anneal = False\n",
        "    total_anneal_steps = getTot_annealSTeps(UserItemMat,batch_size,n_epoch,anneal_cap=0.2)\n",
        "    model, optimizer = getVAEModel(UserItemMat,lr_,p_dims)\n",
        "    for epoch in range(n_epoch):\n",
        "        train_step(model, optimizer, UserItemMat, epoch)\n",
        "  \n",
        "    allUsersPRED, hr10,mrr10 = getmetrics_(model,UserItemMat,holdout_df,k=10) \n",
        "    return allUsersPRED, hr10 ,mrr10\n",
        "\n",
        "def AllpredEval_2(UserItemMatList,holdout_DFList,batch_size,n_epoch,lr_,p_dims):   \n",
        "    hr10_List = [] \n",
        "    mrr10_List = [] \n",
        "    ALLUsers_Pred = []\n",
        "    for UserItemMat,holdout_df in tqdm(zip(UserItemMatList,holdout_DFList)):\n",
        "        allUsersPRED, hr10 ,mrr10= singlepredEval_2(UserItemMat,holdout_df,batch_size,n_epoch,lr_,p_dims)\n",
        "        hr10_List.append(hr10)   \n",
        "        mrr10_List.append(mrr10)\n",
        "        ALLUsers_Pred.append(allUsersPRED)\n",
        "        print(\"| HitRate  {:4.3f} | Mrr {:4.3f} | \".format(hr10, mrr10))  \n",
        "    return hr10_List,mrr10_List ,ALLUsers_Pred \n"
      ],
      "execution_count": null,
      "outputs": []
    },
    {
      "cell_type": "code",
      "metadata": {
        "id": "xa_tFEjUZbNh"
      },
      "source": [
        "def singlepredEval_(UserItemMat,holdout_df,batch_size,n_epoch,lr_,p_dims):\n",
        "    update_count = 0\n",
        "    constant_anneal = False\n",
        "    anneal_cap = 0.2\n",
        "    total_anneal_steps = 200000      #getTot_annealSTeps(UserItemMat,batch_size,n_epoch,anneal_cap=0.2)\n",
        "    model, optimizer = getVAEModel(UserItemMat,lr_,p_dims)\n",
        "    for epoch in range(n_epoch):\n",
        "        train_step(model, optimizer, UserItemMat, epoch)\n",
        "  \n",
        "    allUsersPRED, hr10,mrr10 = getmetrics_(model,UserItemMat,holdout_df,k=10) \n",
        "    return allUsersPRED, hr10 ,mrr10\n",
        "\n",
        "def AllpredEval_(UserItemMatList,holdout_DFList,batch_size,n_epoch,lr_,p_dims):   \n",
        "    hr10_List = [] \n",
        "    mrr10_List = [] \n",
        "    ALLUsers_Pred = []\n",
        "    for UserItemMat,holdout_df in tqdm(zip(UserItemMatList,holdout_DFList)):\n",
        "        allUsersPRED, hr10 ,mrr10= singlepredEval_(UserItemMat,holdout_df,batch_size,n_epoch,lr_,p_dims)\n",
        "        hr10_List.append(hr10)   \n",
        "        mrr10_List.append(mrr10)\n",
        "        ALLUsers_Pred.append(allUsersPRED)\n",
        "        print(\"| HitRate  {:4.3f} | Mrr {:4.3f} | \".format(hr10, mrr10))  \n",
        "    return hr10_List,mrr10_List ,ALLUsers_Pred \n"
      ],
      "execution_count": null,
      "outputs": []
    },
    {
      "cell_type": "code",
      "metadata": {
        "id": "ycuvI9I3RP2s"
      },
      "source": [
        "# def singlestep_predEval(model,UserItemMat,holdout_df,n_epoch):\n",
        "#     for epoch in range(n_epoch):\n",
        "#         train_step(model, optimizer, UserItemMat, epoch)\n",
        "  \n",
        "#     allUsersPRED, hr10,mrr10 = getmetrics_(model,UserItemMat,holdout_df,k=10) \n",
        "#     return allUsersPRED, hr10 ,mrr10\n",
        "\n",
        "# def Allsteps_predEval(model,UserItemMatList,holdout_DFList,n_epoch):   \n",
        "#     hr10_List = [] \n",
        "#     mrr10_List = [] \n",
        "#     ALLUsers_Pred = []\n",
        "#     for UserItemMat,holdout_df in tqdm(zip(UserItemMatList,holdout_DFList)):\n",
        "#         allUsersPRED, hr10 ,mrr10= singlestep_predEval(model,UserItemMat,holdout_df,n_epoch)\n",
        "#         hr10_List.append(hr10)   \n",
        "#         mrr10_List.append(mrr10)\n",
        "#         ALLUsers_Pred.append(allUsersPRED)\n",
        "#         print(\"| HitRate  {:4.3f} | Mrr {:4.3f} | \".format(hr10, mrr10))  \n",
        "#     return hr10_List,mrr10_List ,ALLUsers_Pred "
      ],
      "execution_count": null,
      "outputs": []
    },
    {
      "cell_type": "code",
      "metadata": {
        "id": "2ZBH_cYgRP2t",
        "outputId": "a5e2598c-b3ce-402d-958f-456a41671926"
      },
      "source": [
        "use_cuda = torch.cuda.is_available()\n",
        "device = torch.device(\"cuda\" if use_cuda else \"cpu\")\n",
        "device"
      ],
      "execution_count": null,
      "outputs": [
        {
          "output_type": "execute_result",
          "data": {
            "text/plain": [
              "device(type='cuda')"
            ]
          },
          "metadata": {
            "tags": []
          },
          "execution_count": 16
        }
      ]
    },
    {
      "cell_type": "code",
      "metadata": {
        "id": "1Bds6D63RP2x"
      },
      "source": [
        ""
      ],
      "execution_count": null,
      "outputs": []
    },
    {
      "cell_type": "markdown",
      "metadata": {
        "id": "kXiQr6PzlRPr"
      },
      "source": [
        "# MovieLen_20M"
      ]
    },
    {
      "cell_type": "code",
      "metadata": {
        "id": "cpACOttHRP2y"
      },
      "source": [
        "#MOVIElen_20M\n",
        "newMLDF_20M = pd.read_csv('/mnt/bulky/oolaleke/TDM_Dataset/ML_20M/MLDF20M_afterUpdt.csv.zip')\n",
        "# print(newMLDF_20M.shape) #userId_int\n",
        "# newMLDF_20M.head()"
      ],
      "execution_count": null,
      "outputs": []
    },
    {
      "cell_type": "code",
      "metadata": {
        "id": "kx4JmzkFeZEM"
      },
      "source": [
        "import pickle\n",
        "\n",
        "with open('/mnt/bulky/oolaleke/TDM_Dataset/ML_20M/MLDF20M_newHoldout.pkl', 'rb') as f:\n",
        "     newHoldoutlist_20M = pickle.load(f)\n",
        "    \n",
        "    \n",
        "with open('/mnt/bulky/oolaleke/TDM_Dataset/ML_20M/MLDF20M_newUserItem.pkl', 'rb') as f:\n",
        "     newUserItemlist_20M = pickle.load(f)\n"
      ],
      "execution_count": null,
      "outputs": []
    },
    {
      "cell_type": "code",
      "metadata": {
        "id": "23Bx4HroRP20",
        "outputId": "eb9be042-b7f4-48f5-823f-0079d47cae6e"
      },
      "source": [
        "row_i =  UserItem_1['Updated_UserID'].max()+1\n",
        "col_i =  UserItem_1['Updated_ItemID'].max()+1\n",
        "TrainDFRatMat_ =  SingleRatingMatrix(newUserItemlist_20M[0],'Updated_UserID','Updated_ItemID',row_i,col_i)\n",
        "TrainDFRatMat_"
      ],
      "execution_count": null,
      "outputs": [
        {
          "output_type": "execute_result",
          "data": {
            "text/plain": [
              "<122397x15298 sparse matrix of type '<class 'numpy.float64'>'\n",
              "\twith 8865107 stored elements in Compressed Sparse Row format>"
            ]
          },
          "metadata": {
            "tags": []
          },
          "execution_count": 17
        }
      ]
    },
    {
      "cell_type": "code",
      "metadata": {
        "id": "gYX8yUA2RP21",
        "outputId": "3ff5de83-1017-4f7d-d9ff-ea6f9ff5049a"
      },
      "source": [
        "ValidDFRatMat_ =  SingleRatingMatrix(newHoldoutlist_20M[0],'Updated_UserID','Updated_ItemID',row_i,col_i)\n",
        "ValidDFRatMat_"
      ],
      "execution_count": null,
      "outputs": [
        {
          "output_type": "execute_result",
          "data": {
            "text/plain": [
              "<122397x15298 sparse matrix of type '<class 'numpy.float64'>'\n",
              "\twith 3459 stored elements in Compressed Sparse Row format>"
            ]
          },
          "metadata": {
            "tags": []
          },
          "execution_count": 18
        }
      ]
    },
    {
      "cell_type": "code",
      "metadata": {
        "id": "W9u3YhLcRP22"
      },
      "source": [
        ""
      ],
      "execution_count": null,
      "outputs": []
    },
    {
      "cell_type": "code",
      "metadata": {
        "id": "az8cVdCVRP22"
      },
      "source": [
        "##SVD TEST....\n",
        "####  TEST....\n",
        "##SVD TEST...."
      ],
      "execution_count": null,
      "outputs": []
    },
    {
      "cell_type": "code",
      "metadata": {
        "id": "uFnMkzf9RP23"
      },
      "source": [
        "def TopNPred_2(RatingMat,holdout,V, user_column, N): #N == Top_N\n",
        "    TestUsers = holdout[user_column]\n",
        "    HOLDOUT_usersMat = RatingMat[TestUsers,:]        #This doubles as the \"previously seen items\"\n",
        "    PVVT =  HOLDOUT_usersMat.dot(V).dot(V.T) \n",
        "    #users_column = HOLDOUT_usersMat.nonzero()[0]\n",
        "    #items_column = HOLDOUT_usersMat.nonzero()[1]\n",
        "    #args = np.array([users_column,items_column])\n",
        "    #np.put(PVVT, np.ravel_multi_index(args, PVVT.shape),-np.inf)  #downsample previously seen items\n",
        "    TopN_pred = np.apply_along_axis(topN_Index, 1,PVVT,n = N)\n",
        "    return TopN_pred"
      ],
      "execution_count": null,
      "outputs": []
    },
    {
      "cell_type": "code",
      "metadata": {
        "id": "6Qj1QsXdRP24"
      },
      "source": [
        "TrainDFRatMat_"
      ],
      "execution_count": null,
      "outputs": []
    },
    {
      "cell_type": "code",
      "metadata": {
        "id": "iPosGd2NRP24",
        "outputId": "66267225-65a9-4a3c-98a6-bf469d259ffa"
      },
      "source": [
        "Usvd, Ssvd, VTsvd = svds(TrainDFRatMat_, k=50)\n",
        "Vsvd = VTsvd.T \n",
        "print(Usvd.shape)\n",
        "print(Vsvd.shape)"
      ],
      "execution_count": null,
      "outputs": [
        {
          "output_type": "stream",
          "text": [
            "(122397, 50)\n",
            "(15298, 50)\n"
          ],
          "name": "stdout"
        }
      ]
    },
    {
      "cell_type": "code",
      "metadata": {
        "id": "RryZAlSqRP25",
        "outputId": "d6f5c864-c36d-499f-f868-cad309b8047c"
      },
      "source": [
        "Topk_pred = TopNPred(TrainDFRatMat_,valid_1,Vsvd,'Updated_UserID', N=10)\n",
        "print(Topk_pred.shape)\n",
        "Topk_pred"
      ],
      "execution_count": null,
      "outputs": [
        {
          "output_type": "stream",
          "text": [
            "(3459, 10)\n"
          ],
          "name": "stdout"
        },
        {
          "output_type": "execute_result",
          "data": {
            "text/plain": [
              "array([[4744, 2560, 1072, ..., 1069, 1070,  829],\n",
              "       [ 980, 4652, 2250, ..., 4061, 1624, 1911],\n",
              "       [2180,  532, 6381, ..., 1466, 3407,    1],\n",
              "       ...,\n",
              "       [ 180,  352,  179, ..., 1909,  969, 1917],\n",
              "       [ 144, 1109, 1115, ..., 2542, 2501,  198],\n",
              "       [2469, 1460,  157, ..., 2340, 2630, 2502]])"
            ]
          },
          "metadata": {
            "tags": []
          },
          "execution_count": 30
        }
      ]
    },
    {
      "cell_type": "code",
      "metadata": {
        "id": "nAtC47rpRP27",
        "outputId": "025453f1-51e5-427a-ea2a-a27771ac673d"
      },
      "source": [
        "Topkpred_2 = TopNPred_2(TrainDFRatMat_, valid_1, Vsvd,'Updated_UserID', N=10)\n",
        "print(Topkpred_2.shape)\n",
        "Topkpred_2"
      ],
      "execution_count": null,
      "outputs": [
        {
          "output_type": "stream",
          "text": [
            "(3459, 10)\n"
          ],
          "name": "stdout"
        },
        {
          "output_type": "execute_result",
          "data": {
            "text/plain": [
              "array([[ 268,   76,  135, ..., 4137,   89, 4652],\n",
              "       [1003,   20,  484, ...,  825,   58, 4137],\n",
              "       [ 135,  268, 1062, ...,  576, 1052, 4724],\n",
              "       ...,\n",
              "       [ 180,  352,  179, ..., 1909,  969, 1917],\n",
              "       [  92, 1053, 2707, ..., 1109, 1793, 1115],\n",
              "       [2501, 2469, 1460, ..., 1793, 2340, 2630]])"
            ]
          },
          "metadata": {
            "tags": []
          },
          "execution_count": 33
        }
      ]
    },
    {
      "cell_type": "code",
      "metadata": {
        "id": "ImP6kzFARP29",
        "outputId": "b85b5140-4020-46b3-ae44-3e9d5131af4c"
      },
      "source": [
        "Hitrate_Eval(valid_1,Topk_pred,'Updated_UserID','Updated_ItemID')  ##With -np.inf(removing seen items)"
      ],
      "execution_count": null,
      "outputs": [
        {
          "output_type": "stream",
          "text": [
            "Number of hits:  205\n",
            "Total Num of users:  3459\n",
            "Recommendation HitRate:  0.059265683723619546\n"
          ],
          "name": "stdout"
        },
        {
          "output_type": "execute_result",
          "data": {
            "text/plain": [
              "0.059265683723619546"
            ]
          },
          "metadata": {
            "tags": []
          },
          "execution_count": 31
        }
      ]
    },
    {
      "cell_type": "code",
      "metadata": {
        "id": "fFepsRcLRP2_",
        "outputId": "b218e59f-69e4-4a10-d44b-2ec591e908a1"
      },
      "source": [
        "Hitrate_Eval(valid_1,Topkpred_2,'Updated_UserID','Updated_ItemID')  ##Without -np.inf(including seen items)"
      ],
      "execution_count": null,
      "outputs": [
        {
          "output_type": "stream",
          "text": [
            "Number of hits:  73\n",
            "Total Num of users:  3459\n",
            "Recommendation HitRate:  0.021104365423532813\n"
          ],
          "name": "stdout"
        },
        {
          "output_type": "execute_result",
          "data": {
            "text/plain": [
              "0.021104365423532813"
            ]
          },
          "metadata": {
            "tags": []
          },
          "execution_count": 34
        }
      ]
    },
    {
      "cell_type": "code",
      "metadata": {
        "id": "m1GoARoKRP3A"
      },
      "source": [
        ""
      ],
      "execution_count": null,
      "outputs": []
    },
    {
      "cell_type": "markdown",
      "metadata": {
        "id": "7Wo1pUQbeViu"
      },
      "source": [
        "**Training**"
      ]
    },
    {
      "cell_type": "code",
      "metadata": {
        "id": "4N6WkWHuRP3B"
      },
      "source": [
        "#"
      ],
      "execution_count": null,
      "outputs": []
    },
    {
      "cell_type": "code",
      "metadata": {
        "id": "abVqwm3xRP3B",
        "outputId": "7ea3816a-6f77-48c8-dc6c-3bda5bb08be5"
      },
      "source": [
        "I =  TrainDFRatMat_.shape[1] \n",
        "\n",
        "q_dims = [I] + [600, 200]\n",
        "p_dims = [200, 600] + [I]\n",
        "dropout_enc = [0.5, 0.]\n",
        "dropout_dec = [0., 0.]\n",
        "\n",
        "VAEmodel = MultiVAE(p_dims,q_dims,dropout_enc,dropout_dec)\n",
        "\n",
        "\n",
        "init_weights(VAEmodel)\n",
        "VAEmodel.to(device)\n",
        "optimizer = torch.optim.AdamW(VAEmodel.parameters(), lr=1e-3, weight_decay=0.0)  \n",
        "VAEmodel              "
      ],
      "execution_count": null,
      "outputs": [
        {
          "output_type": "execute_result",
          "data": {
            "text/plain": [
              "MultiVAE(\n",
              "  (encode): Encoder(\n",
              "    (q_layers): Sequential(\n",
              "      (dropout_0): Dropout(p=0.5, inplace=False)\n",
              "      (linear_0): Linear(in_features=15298, out_features=600, bias=True)\n",
              "      (dropout_1): Dropout(p=0.0, inplace=False)\n",
              "      (linear_1): Linear(in_features=600, out_features=400, bias=True)\n",
              "    )\n",
              "  )\n",
              "  (decode): Decoder(\n",
              "    (p_layers): Sequential(\n",
              "      (dropout_0): Dropout(p=0.0, inplace=False)\n",
              "      (linear_0): Linear(in_features=200, out_features=600, bias=True)\n",
              "      (dropout_1): Dropout(p=0.0, inplace=False)\n",
              "      (linear_1): Linear(in_features=600, out_features=15298, bias=True)\n",
              "    )\n",
              "  )\n",
              ")"
            ]
          },
          "metadata": {
            "tags": []
          },
          "execution_count": 21
        }
      ]
    },
    {
      "cell_type": "code",
      "metadata": {
        "id": "9ozu7yG_RP3D"
      },
      "source": [
        "batch_size = 500\n",
        "anneal_cap = 0.2\n",
        "update_count = 0\n",
        "n_epochs = 200\n",
        "constant_anneal = False\n",
        "total_anneal_steps = 200000"
      ],
      "execution_count": null,
      "outputs": []
    },
    {
      "cell_type": "code",
      "metadata": {
        "id": "D1qq44K6RP3D",
        "outputId": "fa4a6c90-f6f3-4ff0-d877-050544cd6f6c"
      },
      "source": [
        "for epoch in tqdm(range(n_epochs)):\n",
        "    train_step(VAEmodel, optimizer, TrainDFRatMat_, epoch)\n"
      ],
      "execution_count": null,
      "outputs": [
        {
          "output_type": "stream",
          "text": [
            "100%|██████████| 200/200 [27:00<00:00,  8.10s/it]\n"
          ],
          "name": "stderr"
        }
      ]
    },
    {
      "cell_type": "code",
      "metadata": {
        "id": "hbzp38hFRP3E"
      },
      "source": [
        ""
      ],
      "execution_count": null,
      "outputs": []
    },
    {
      "cell_type": "markdown",
      "metadata": {
        "id": "uK7DzdSMvEzK"
      },
      "source": [
        "**Evaluation**"
      ]
    },
    {
      "cell_type": "code",
      "metadata": {
        "id": "sGPA3IDVlqds",
        "outputId": "f8d5a0b2-3a16-4b2a-ba0e-a20b93fad9b6"
      },
      "source": [
        "##Generate Prediction list:\n",
        "holdout_df = newHoldout_list[0]\n",
        "AllUserPRED, hr_, mrr_ = getmetrics_(VAEmodel,TrainDFRatMat_,holdout_df,k=10)\n",
        "print()\n",
        "print(\"MRR   : \",mrr_)"
      ],
      "execution_count": null,
      "outputs": [
        {
          "output_type": "stream",
          "text": [
            "Number of hits:  269\n",
            "Total Num of users:  3459\n",
            "Recommendation HitRate:  0.07776814108123735\n",
            "\n",
            "MRR   :  0.028184584038877185\n"
          ],
          "name": "stdout"
        }
      ]
    },
    {
      "cell_type": "code",
      "metadata": {
        "id": "I3NukrG9RP3G",
        "outputId": "10dd8e87-8e03-44b9-9075-1cf838bc69d1"
      },
      "source": [
        "cov_ = StepCoverage_Ratio(newMLDF_20M,AllUserPRED,'Updated_ItemID')\n",
        "cov_"
      ],
      "execution_count": null,
      "outputs": [
        {
          "output_type": "execute_result",
          "data": {
            "text/plain": [
              "0.26834"
            ]
          },
          "metadata": {
            "tags": []
          },
          "execution_count": 28
        }
      ]
    },
    {
      "cell_type": "code",
      "metadata": {
        "id": "rHnzDcfpRP3H"
      },
      "source": [
        ""
      ],
      "execution_count": null,
      "outputs": []
    },
    {
      "cell_type": "markdown",
      "metadata": {
        "id": "5eTPWIpX62tn"
      },
      "source": [
        "## Get AllStep Eval"
      ]
    },
    {
      "cell_type": "code",
      "metadata": {
        "id": "uUgc7VhGRP3I",
        "outputId": "cddb230f-6665-43cc-faaa-69a1e42de559"
      },
      "source": [
        "rows_i = newMLDF_20M['Updated_UserID'].nunique()\n",
        "cols_i = newMLDF_20M['Updated_ItemID'].nunique()\n",
        "UserItemMATList_20m = AllRatingMatrices(newUserItemlist_20M,'Updated_UserID','Updated_ItemID',rows_i ,cols_i) \n",
        "print(len(UserItemMATList_20m))   \n",
        "UserItemMATList_20m"
      ],
      "execution_count": null,
      "outputs": [
        {
          "output_type": "stream",
          "text": [
            "15\n"
          ],
          "name": "stdout"
        },
        {
          "output_type": "execute_result",
          "data": {
            "text/plain": [
              "[<136677x20720 sparse matrix of type '<class 'numpy.float64'>'\n",
              " \twith 8865107 stored elements in Compressed Sparse Row format>,\n",
              " <136677x20720 sparse matrix of type '<class 'numpy.float64'>'\n",
              " \twith 8945455 stored elements in Compressed Sparse Row format>,\n",
              " <136677x20720 sparse matrix of type '<class 'numpy.float64'>'\n",
              " \twith 9025842 stored elements in Compressed Sparse Row format>,\n",
              " <136677x20720 sparse matrix of type '<class 'numpy.float64'>'\n",
              " \twith 9106051 stored elements in Compressed Sparse Row format>,\n",
              " <136677x20720 sparse matrix of type '<class 'numpy.float64'>'\n",
              " \twith 9186201 stored elements in Compressed Sparse Row format>,\n",
              " <136677x20720 sparse matrix of type '<class 'numpy.float64'>'\n",
              " \twith 9266468 stored elements in Compressed Sparse Row format>,\n",
              " <136677x20720 sparse matrix of type '<class 'numpy.float64'>'\n",
              " \twith 9346597 stored elements in Compressed Sparse Row format>,\n",
              " <136677x20720 sparse matrix of type '<class 'numpy.float64'>'\n",
              " \twith 9426837 stored elements in Compressed Sparse Row format>,\n",
              " <136677x20720 sparse matrix of type '<class 'numpy.float64'>'\n",
              " \twith 9506974 stored elements in Compressed Sparse Row format>,\n",
              " <136677x20720 sparse matrix of type '<class 'numpy.float64'>'\n",
              " \twith 9586957 stored elements in Compressed Sparse Row format>,\n",
              " <136677x20720 sparse matrix of type '<class 'numpy.float64'>'\n",
              " \twith 9667299 stored elements in Compressed Sparse Row format>,\n",
              " <136677x20720 sparse matrix of type '<class 'numpy.float64'>'\n",
              " \twith 9747689 stored elements in Compressed Sparse Row format>,\n",
              " <136677x20720 sparse matrix of type '<class 'numpy.float64'>'\n",
              " \twith 9828194 stored elements in Compressed Sparse Row format>,\n",
              " <136677x20720 sparse matrix of type '<class 'numpy.float64'>'\n",
              " \twith 9908522 stored elements in Compressed Sparse Row format>,\n",
              " <136677x20720 sparse matrix of type '<class 'numpy.float64'>'\n",
              " \twith 9987952 stored elements in Compressed Sparse Row format>]"
            ]
          },
          "metadata": {
            "tags": []
          },
          "execution_count": 121
        }
      ]
    },
    {
      "cell_type": "code",
      "metadata": {
        "id": "4qpuBTgfRP3J",
        "outputId": "9563201e-f49b-4c7b-a2d9-ca7916413f31"
      },
      "source": [
        "I = newMLDF_20M['Updated_ItemID'].nunique()\n",
        "\n",
        "q_dims = [I] + [600, 200]\n",
        "p_dims = [200, 600] + [I]\n",
        "dropout_enc = [0.5, 0.]\n",
        "dropout_dec = [0., 0.]\n",
        "\n",
        "VAEmodel = MultiVAE(p_dims,q_dims,dropout_enc,dropout_dec)\n",
        "init_weights(VAEmodel)\n",
        "VAEmodel.to(device)\n",
        "optimizer = torch.optim.AdamW(VAEmodel.parameters(), lr=1e-3, weight_decay=0.0)  \n",
        "VAEmodel              "
      ],
      "execution_count": null,
      "outputs": [
        {
          "output_type": "execute_result",
          "data": {
            "text/plain": [
              "MultiVAE(\n",
              "  (encode): Encoder(\n",
              "    (q_layers): Sequential(\n",
              "      (dropout_0): Dropout(p=0.5, inplace=False)\n",
              "      (linear_0): Linear(in_features=20720, out_features=600, bias=True)\n",
              "      (dropout_1): Dropout(p=0.0, inplace=False)\n",
              "      (linear_1): Linear(in_features=600, out_features=400, bias=True)\n",
              "    )\n",
              "  )\n",
              "  (decode): Decoder(\n",
              "    (p_layers): Sequential(\n",
              "      (dropout_0): Dropout(p=0.0, inplace=False)\n",
              "      (linear_0): Linear(in_features=200, out_features=600, bias=True)\n",
              "      (dropout_1): Dropout(p=0.0, inplace=False)\n",
              "      (linear_1): Linear(in_features=600, out_features=20720, bias=True)\n",
              "    )\n",
              "  )\n",
              ")"
            ]
          },
          "metadata": {
            "tags": []
          },
          "execution_count": 61
        }
      ]
    },
    {
      "cell_type": "code",
      "metadata": {
        "id": "ujugGm4WRP3K"
      },
      "source": [
        "batch_size = 500\n",
        "anneal_cap = 0.2\n",
        "update_count = 0\n",
        "n_epochs = 200\n",
        "constant_anneal = False\n",
        "\n",
        "total_anneal_steps = 200000"
      ],
      "execution_count": null,
      "outputs": []
    },
    {
      "cell_type": "code",
      "metadata": {
        "id": "GY9cV1SbRP3K",
        "outputId": "a489b62d-29a4-463b-e5b3-55a40d960c84"
      },
      "source": [
        "                                       #Allsteps_predEval(model,UserItemMatList,holdout_DFList,n_epoch)\n",
        "hr10_List,mrr10_List ,ALLUsers_Pred  = Allsteps_predEval(VAEmodel,UserItem_MATList,newHoldout_list,n_epochs)\n",
        "print(hr10_List)\n",
        "print(mrr10_List) "
      ],
      "execution_count": null,
      "outputs": [
        {
          "output_type": "stream",
          "text": [
            "1it [40:08, 2408.14s/it]Number of hits:  259\n",
            "Total Num of users:  3459\n",
            "Recommendation HitRate:  0.07487713211910957\n",
            "| HitRate  0.075 | Mrr 0.029 | \n",
            "2it [1:20:17, 2408.85s/it]Number of hits:  202\n",
            "Total Num of users:  3311\n",
            "Recommendation HitRate:  0.06100875868317729\n",
            "| HitRate  0.061 | Mrr 0.023 | \n",
            "3it [2:00:20, 2406.34s/it]Number of hits:  219\n",
            "Total Num of users:  3124\n",
            "Recommendation HitRate:  0.07010243277848911\n",
            "| HitRate  0.070 | Mrr 0.026 | \n",
            "4it [2:40:18, 2402.86s/it]Number of hits:  215\n",
            "Total Num of users:  3115\n",
            "Recommendation HitRate:  0.06902086677367576\n",
            "| HitRate  0.069 | Mrr 0.029 | \n",
            "5it [3:20:17, 2401.37s/it]Number of hits:  240\n",
            "Total Num of users:  3165\n",
            "Recommendation HitRate:  0.07582938388625593\n",
            "| HitRate  0.076 | Mrr 0.026 | \n",
            "6it [4:00:16, 2400.76s/it]Number of hits:  178\n",
            "Total Num of users:  3098\n",
            "Recommendation HitRate:  0.057456423499031635\n",
            "| HitRate  0.057 | Mrr 0.021 | \n",
            "7it [4:40:18, 2400.96s/it]Number of hits:  175\n",
            "Total Num of users:  3169\n",
            "Recommendation HitRate:  0.0552224676554118\n",
            "| HitRate  0.055 | Mrr 0.018 | \n",
            "8it [5:20:20, 2401.36s/it]Number of hits:  228\n",
            "Total Num of users:  3129\n",
            "Recommendation HitRate:  0.0728667305848514\n",
            "| HitRate  0.073 | Mrr 0.028 | \n",
            "9it [6:00:30, 2404.10s/it]Number of hits:  252\n",
            "Total Num of users:  3192\n",
            "Recommendation HitRate:  0.07894736842105263\n",
            "| HitRate  0.079 | Mrr 0.029 | \n",
            "10it [6:41:15, 2416.73s/it]Number of hits:  257\n",
            "Total Num of users:  3409\n",
            "Recommendation HitRate:  0.0753886770313875\n",
            "| HitRate  0.075 | Mrr 0.028 | \n",
            "11it [7:21:58, 2424.89s/it]Number of hits:  249\n",
            "Total Num of users:  3267\n",
            "Recommendation HitRate:  0.07621671258034894\n",
            "| HitRate  0.076 | Mrr 0.029 | \n",
            "12it [8:02:44, 2431.08s/it]Number of hits:  222\n",
            "Total Num of users:  3077\n",
            "Recommendation HitRate:  0.07214819629509263\n",
            "| HitRate  0.072 | Mrr 0.028 | \n",
            "13it [8:43:34, 2436.86s/it]Number of hits:  215\n",
            "Total Num of users:  2772\n",
            "Recommendation HitRate:  0.07756132756132757\n",
            "| HitRate  0.078 | Mrr 0.029 | \n",
            "14it [9:24:21, 2439.87s/it]Number of hits:  195\n",
            "Total Num of users:  2644\n",
            "Recommendation HitRate:  0.0737518910741301\n",
            "| HitRate  0.074 | Mrr 0.030 | \n",
            "15it [10:05:08, 2420.55s/it]Number of hits:  214\n",
            "Total Num of users:  2730\n",
            "Recommendation HitRate:  0.07838827838827839\n",
            "| HitRate  0.078 | Mrr 0.028 | \n",
            "[0.07487713211910957, 0.06100875868317729, 0.07010243277848911, 0.06902086677367576, 0.07582938388625593, 0.057456423499031635, 0.0552224676554118, 0.0728667305848514, 0.07894736842105263, 0.0753886770313875, 0.07621671258034894, 0.07214819629509263, 0.07756132756132757, 0.0737518910741301, 0.07838827838827839]\n",
            "[0.02933777539154816, 0.023010240036818112, 0.026060402820966198, 0.028608244796045762, 0.02621705659620352, 0.021436000696814124, 0.017781885027072782, 0.028112714138601003, 0.029159331861399528, 0.028052726908696406, 0.028610418761933914, 0.028289124121103328, 0.029036968322682613, 0.030437288379799733, 0.02793127507413222]\n",
            "\n"
          ],
          "name": "stderr"
        }
      ]
    },
    {
      "cell_type": "code",
      "metadata": {
        "id": "3Ekt0DHcRP3L"
      },
      "source": [
        "with open('/mnt/bulky/oolaleke/TDM_Dataset/ML20mVAE_allPRED_NEW2.pkl', 'wb') as f:\n",
        "     pickle.dump(ALLUsers_Pred, f)"
      ],
      "execution_count": null,
      "outputs": []
    },
    {
      "cell_type": "code",
      "metadata": {
        "id": "8H7Oqri1RP3M",
        "outputId": "a81df9e8-94d7-484f-8e5d-c4a71710850f"
      },
      "source": [
        "hr10_List"
      ],
      "execution_count": null,
      "outputs": [
        {
          "output_type": "execute_result",
          "data": {
            "text/plain": [
              "[0.07487713211910957,\n",
              " 0.06100875868317729,\n",
              " 0.07010243277848911,\n",
              " 0.06902086677367576,\n",
              " 0.07582938388625593,\n",
              " 0.057456423499031635,\n",
              " 0.0552224676554118,\n",
              " 0.0728667305848514,\n",
              " 0.07894736842105263,\n",
              " 0.0753886770313875,\n",
              " 0.07621671258034894,\n",
              " 0.07214819629509263,\n",
              " 0.07756132756132757,\n",
              " 0.0737518910741301,\n",
              " 0.07838827838827839]"
            ]
          },
          "metadata": {
            "tags": []
          },
          "execution_count": 65
        }
      ]
    },
    {
      "cell_type": "code",
      "metadata": {
        "id": "QnJHhBRhRP3N",
        "outputId": "4b546c69-363f-4df3-8f57-f07d8f1a18d1"
      },
      "source": [
        "mrr10_List"
      ],
      "execution_count": null,
      "outputs": [
        {
          "output_type": "execute_result",
          "data": {
            "text/plain": [
              "[0.02933777539154816,\n",
              " 0.023010240036818112,\n",
              " 0.026060402820966198,\n",
              " 0.028608244796045762,\n",
              " 0.02621705659620352,\n",
              " 0.021436000696814124,\n",
              " 0.017781885027072782,\n",
              " 0.028112714138601003,\n",
              " 0.029159331861399528,\n",
              " 0.028052726908696406,\n",
              " 0.028610418761933914,\n",
              " 0.028289124121103328,\n",
              " 0.029036968322682613,\n",
              " 0.030437288379799733,\n",
              " 0.02793127507413222]"
            ]
          },
          "metadata": {
            "tags": []
          },
          "execution_count": 66
        }
      ]
    },
    {
      "cell_type": "code",
      "metadata": {
        "id": "h4VrpOG2RP3N",
        "outputId": "e58c7d5b-0bde-4790-bdf0-b08c1f34b743"
      },
      "source": [
        "Cov_List = AllSteps_Coverage_Ratio(newMLDF_20M,ALLUsers_Pred,'Updated_ItemID')\n",
        "Cov_List"
      ],
      "execution_count": null,
      "outputs": [
        {
          "output_type": "execute_result",
          "data": {
            "text/plain": [
              "[0.264913,\n",
              " 0.258784,\n",
              " 0.2639,\n",
              " 0.259797,\n",
              " 0.26221,\n",
              " 0.261921,\n",
              " 0.269064,\n",
              " 0.2764,\n",
              " 0.279585,\n",
              " 0.276255,\n",
              " 0.291409,\n",
              " 0.295849,\n",
              " 0.303909,\n",
              " 0.311824,\n",
              " 0.311004]"
            ]
          },
          "metadata": {
            "tags": []
          },
          "execution_count": 67
        }
      ]
    },
    {
      "cell_type": "code",
      "metadata": {
        "id": "f6QD6k4uRP3O",
        "outputId": "dfd86906-ee75-4ba9-abe5-c179a38a2e01"
      },
      "source": [
        "AllSteps = list(range(1,15))\n",
        "print(len(AllSteps))\n",
        "AllSteps"
      ],
      "execution_count": null,
      "outputs": [
        {
          "output_type": "stream",
          "text": [
            "14\n"
          ],
          "name": "stdout"
        },
        {
          "output_type": "execute_result",
          "data": {
            "text/plain": [
              "[1, 2, 3, 4, 5, 6, 7, 8, 9, 10, 11, 12, 13, 14]"
            ]
          },
          "metadata": {
            "tags": []
          },
          "execution_count": 69
        }
      ]
    },
    {
      "cell_type": "code",
      "metadata": {
        "id": "qA_-AURHRP3P",
        "outputId": "74149df8-0ad5-46d5-a99c-a0b0e6f19633"
      },
      "source": [
        "UpdtPSICorr_ = Updt_getAll_AvgCorr(ALLUsers_Pred,newUserItem_list,AllSteps,'Updated_UserID')  #,\n",
        "UpdtPSICorr_"
      ],
      "execution_count": null,
      "outputs": [
        {
          "output_type": "execute_result",
          "data": {
            "text/plain": [
              "array([array([0.36369515, 0.54624489, 0.61474513, ..., 0.11059284, 0.50909834,\n",
              "              0.56112521])                                                    ,\n",
              "       array([0.35980103, 0.57142857, 0.64828048, ..., 0.37435993, 0.64387528,\n",
              "              0.4640484 ])                                                    ,\n",
              "       array([0.31980331, 0.84755945, 0.39659413, ..., 0.41737878, 0.1527409 ,\n",
              "              0.04457968])                                                    ,\n",
              "       array([0.35369097, 0.92514345, 0.42449098, ..., 0.        , 0.01736733,\n",
              "              0.        ])                                                    ,\n",
              "       array([0.42696955, 0.6221978 , 0.47738191, ..., 0.11411321, 0.35980103,\n",
              "              0.24342992])                                                    ,\n",
              "       array([0.33303233, 0.68458291, 0.44753873, ..., 0.37576887, 0.34505695,\n",
              "              0.01933435])                                                    ,\n",
              "       array([0.29582163, 0.44160156, 0.25612662, ..., 0.80729677, 0.37923947,\n",
              "              0.47590482])                                                    ,\n",
              "       array([0.31850661, 0.50264658, 0.21417996, ..., 0.28365217, 0.12122133,\n",
              "              0.17457034])                                                    ,\n",
              "       array([0.38208033, 0.40926014, 0.39765196, ..., 0.        , 0.57797969,\n",
              "              0.43125848])                                                    ,\n",
              "       array([0.35493346, 0.54737945, 0.34114654, ..., 0.38389425, 0.47531481,\n",
              "              0.26516969])                                                    ,\n",
              "       array([0.32513465, 0.88290816, 0.59589189, ..., 0.76769249, 0.07657526,\n",
              "              0.23150079])                                                    ,\n",
              "       array([0.368626  , 0.76642336, 0.31486595, ..., 0.53164557, 0.81418213,\n",
              "              0.06033616])                                                    ,\n",
              "       array([0.29027183, 0.36243655, 0.422158  , ..., 0.58748253, 0.06216722,\n",
              "              0.19356404])                                                    ,\n",
              "       array([0.38844996, 0.38753642, 0.23150079, ..., 0.25016938, 0.17168029,\n",
              "              0.48466258])                                                    ],\n",
              "      dtype=object)"
            ]
          },
          "metadata": {
            "tags": []
          },
          "execution_count": 70
        }
      ]
    },
    {
      "cell_type": "code",
      "metadata": {
        "id": "Tydo8HomRP3Q",
        "outputId": "6b52e983-25f5-4672-ccf1-dc204ccc69a2"
      },
      "source": [
        "UpdtPSICorr_.shape\n",
        "for df in UpdtPSICorr_:\n",
        "    print(df.mean())  "
      ],
      "execution_count": null,
      "outputs": [
        {
          "output_type": "stream",
          "text": [
            "0.4890564348504757\n",
            "0.5139198543271317\n",
            "0.5110664391439165\n",
            "0.5144665571911105\n",
            "0.5099897313510342\n",
            "0.5236193810611822\n",
            "0.5211199667647584\n",
            "0.5099962481868815\n",
            "0.507363795405602\n",
            "0.5180855235610252\n",
            "0.520402266399777\n",
            "0.5126099920020206\n",
            "0.49874961971866727\n",
            "0.4971462370271155\n"
          ],
          "name": "stdout"
        }
      ]
    },
    {
      "cell_type": "code",
      "metadata": {
        "id": "aoVQBhZ3RP3Q"
      },
      "source": [
        ""
      ],
      "execution_count": null,
      "outputs": []
    },
    {
      "cell_type": "code",
      "metadata": {
        "id": "sPV77ThnRP3R"
      },
      "source": [
        "# def singlepredEval_(UserItemMat,holdout_df,batch_size,n_epoch,lr_,p_dims):\n",
        "#     update_count = 0\n",
        "#     constant_anneal = False\n",
        "#     anneal_cap = 0.2\n",
        "#     total_anneal_steps = 200000      #getTot_annealSTeps(UserItemMat,batch_size,n_epoch,anneal_cap=0.2)\n",
        "#     model, optimizer = getVAEModel(UserItemMat,lr_,p_dims)\n",
        "#     for epoch in range(n_epoch):\n",
        "#         train_step(model, optimizer, UserItemMat, epoch)\n",
        "  \n",
        "#     allUsersPRED, hr10,mrr10 = getmetrics_(model,UserItemMat,holdout_df,k=10) \n",
        "#     return allUsersPRED, hr10 ,mrr10\n",
        "\n",
        "# def AllpredEval_(UserItemMatList,holdout_DFList,batch_size,n_epoch,lr_,p_dims):   \n",
        "#     hr10_List = [] \n",
        "#     mrr10_List = [] \n",
        "#     ALLUsers_Pred = []\n",
        "#     for UserItemMat,holdout_df in tqdm(zip(UserItemMatList,holdout_DFList)):\n",
        "#         allUsersPRED, hr10 ,mrr10= singlepredEval_(UserItemMat,holdout_df,batch_size,n_epoch,lr_,p_dims)\n",
        "#         hr10_List.append(hr10)   \n",
        "#         mrr10_List.append(mrr10)\n",
        "#         ALLUsers_Pred.append(allUsersPRED)\n",
        "#         print(\"| HitRate  {:4.3f} | Mrr {:4.3f} | \".format(hr10, mrr10))  \n",
        "#     return hr10_List,mrr10_List ,ALLUsers_Pred \n"
      ],
      "execution_count": null,
      "outputs": []
    },
    {
      "cell_type": "code",
      "metadata": {
        "id": "Fmq74KSLRP3S"
      },
      "source": [
        ""
      ],
      "execution_count": null,
      "outputs": []
    },
    {
      "cell_type": "markdown",
      "metadata": {
        "id": "XVY8RalM6PUw"
      },
      "source": [
        "# Amazon Games"
      ]
    },
    {
      "cell_type": "code",
      "metadata": {
        "id": "cKhJ0tEmRP3T"
      },
      "source": [
        "newAMZGames_DF = pd.read_csv('/mnt/bulky/oolaleke/TDM_Dataset/AMZ_GamesFiles/AMZGames_afterUpdt.csv')\n",
        "# print(newAMZGames_DF.shape)  \n",
        "# newAMZGames_DF.head()"
      ],
      "execution_count": null,
      "outputs": []
    },
    {
      "cell_type": "code",
      "metadata": {
        "id": "njPEcRqeRP3T"
      },
      "source": [
        "##lOAD Saved Lists...\n",
        "with open('/mnt/bulky/oolaleke/TDM_Dataset/AMZ_GamesFiles/AMZGames_newUserItem.pkl', 'rb') as f:   #\n",
        "     newUserItemlist_AMZG = pickle.load(f)\n",
        "\n",
        "with open('/mnt/bulky/oolaleke/TDM_Dataset/AMZ_GamesFiles/AMZGames_newHoldout.pkl', 'rb') as f:\n",
        "     newHoldoutlist_AMZG = pickle.load(f)\n"
      ],
      "execution_count": null,
      "outputs": []
    },
    {
      "cell_type": "code",
      "metadata": {
        "id": "WmoIE5QmRP3U",
        "outputId": "73242533-d1e7-432e-bfe6-1f2be4369fa8"
      },
      "source": [
        "row_i =  newAMZGames_DF['Updated_UserID'].max()+1\n",
        "col_i =  newAMZGames_DF['Updated_ItemID'].max()+1\n",
        "TrainDFRatMat_1 =  SingleRatingMatrix(newUserItemlist_AMZG[0],'Updated_UserID','Updated_ItemID',row_i,col_i)\n",
        "TrainDFRatMat_1"
      ],
      "execution_count": null,
      "outputs": [
        {
          "output_type": "execute_result",
          "data": {
            "text/plain": [
              "<34576x16139 sparse matrix of type '<class 'numpy.float64'>'\n",
              "\twith 250384 stored elements in Compressed Sparse Row format>"
            ]
          },
          "metadata": {
            "tags": []
          },
          "execution_count": 27
        }
      ]
    },
    {
      "cell_type": "code",
      "metadata": {
        "id": "M1BPqcFIlqW7",
        "outputId": "f1e43e35-e39a-4e6a-c8de-8041519d3607"
      },
      "source": [
        "ValidDFRatMat_1 =  SingleRatingMatrix(newHoldoutlist_AMZG[0],'Updated_UserID','Updated_ItemID',row_i,col_i)\n",
        "ValidDFRatMat_1"
      ],
      "execution_count": null,
      "outputs": [
        {
          "output_type": "execute_result",
          "data": {
            "text/plain": [
              "<34576x16139 sparse matrix of type '<class 'numpy.float64'>'\n",
              "\twith 2018 stored elements in Compressed Sparse Row format>"
            ]
          },
          "metadata": {
            "tags": []
          },
          "execution_count": 28
        }
      ]
    },
    {
      "cell_type": "code",
      "metadata": {
        "id": "ln1f2HonRP3X"
      },
      "source": [
        ""
      ],
      "execution_count": null,
      "outputs": []
    },
    {
      "cell_type": "code",
      "metadata": {
        "id": "267YDQlVRP3X",
        "outputId": "c0a2dcbc-77b7-49ad-d899-61c2a4afbe0f"
      },
      "source": [
        "I =  TrainDFRatMat_1.shape[1] \n",
        "\n",
        "q_dims = [I] + [600, 200]\n",
        "p_dims = [200, 600] + [I]\n",
        "dropout_enc = [0.5, 0.]\n",
        "dropout_dec = [0., 0.]\n",
        "VAEmodel = MultiVAE(p_dims,q_dims,dropout_enc,dropout_dec)\n",
        "\n",
        "init_weights(VAEmodel)\n",
        "VAEmodel.to(device)\n",
        "optimizer = torch.optim.AdamW(VAEmodel.parameters(), lr=1e-3, weight_decay=0.0)  \n",
        "VAEmodel              "
      ],
      "execution_count": null,
      "outputs": [
        {
          "output_type": "execute_result",
          "data": {
            "text/plain": [
              "MultiVAE(\n",
              "  (encode): Encoder(\n",
              "    (q_layers): Sequential(\n",
              "      (dropout_0): Dropout(p=0.5, inplace=False)\n",
              "      (linear_0): Linear(in_features=16139, out_features=600, bias=True)\n",
              "      (dropout_1): Dropout(p=0.0, inplace=False)\n",
              "      (linear_1): Linear(in_features=600, out_features=400, bias=True)\n",
              "    )\n",
              "  )\n",
              "  (decode): Decoder(\n",
              "    (p_layers): Sequential(\n",
              "      (dropout_0): Dropout(p=0.0, inplace=False)\n",
              "      (linear_0): Linear(in_features=200, out_features=600, bias=True)\n",
              "      (dropout_1): Dropout(p=0.0, inplace=False)\n",
              "      (linear_1): Linear(in_features=600, out_features=16139, bias=True)\n",
              "    )\n",
              "  )\n",
              ")"
            ]
          },
          "metadata": {
            "tags": []
          },
          "execution_count": 34
        }
      ]
    },
    {
      "cell_type": "code",
      "metadata": {
        "id": "I-_NlupMRP3Z"
      },
      "source": [
        "batch_size = 200  #\n",
        "anneal_cap = 0.2\n",
        "update_count = 0\n",
        "n_epochs = 100\n",
        "constant_anneal = False"
      ],
      "execution_count": null,
      "outputs": []
    },
    {
      "cell_type": "code",
      "metadata": {
        "id": "t5JyNbDlRP3Z"
      },
      "source": [
        ""
      ],
      "execution_count": null,
      "outputs": []
    },
    {
      "cell_type": "markdown",
      "metadata": {
        "id": "A0pXgbJkapE4"
      },
      "source": [
        "## Tuning"
      ]
    },
    {
      "cell_type": "code",
      "metadata": {
        "id": "s7PPpBu8RP3a",
        "outputId": "d6bc27e5-053d-4ec1-f0bb-de6c0ad53be3"
      },
      "source": [
        "total_anneal_steps = getTot_annealSTeps(TrainDFRatMat_1,batch_size,n_epochs,anneal_cap)\n",
        "total_anneal_steps"
      ],
      "execution_count": null,
      "outputs": [
        {
          "output_type": "execute_result",
          "data": {
            "text/plain": [
              "69200.0"
            ]
          },
          "metadata": {
            "tags": []
          },
          "execution_count": 36
        }
      ]
    },
    {
      "cell_type": "code",
      "metadata": {
        "id": "c5g9WxlKRP3b",
        "outputId": "b7d5b317-1094-40f7-dcad-7e96df7e4dfe"
      },
      "source": [
        "for epoch in tqdm(range(n_epochs)):\n",
        "    train_step(VAEmodel, optimizer, TrainDFRatMat_1, epoch)\n"
      ],
      "execution_count": null,
      "outputs": [
        {
          "output_type": "stream",
          "text": [
            "100%|██████████| 100/100 [04:45<00:00,  2.85s/it]\n"
          ],
          "name": "stderr"
        }
      ]
    },
    {
      "cell_type": "code",
      "metadata": {
        "id": "Gl_2h6gfRP3c",
        "outputId": "9046756c-b4b1-44e9-f09b-e85de8211b58"
      },
      "source": [
        "#Generate Prediction list:\n",
        "holdout_df1 = newHoldout_list[0]\n",
        "AllUserPRED, hr_, mrr_ = getmetrics_(VAEmodel,TrainDFRatMat_1,holdout_df1,k=10)\n",
        "print()\n",
        "print(\"MRR   : \",mrr_)"
      ],
      "execution_count": null,
      "outputs": [
        {
          "output_type": "stream",
          "text": [
            "Number of hits:  124\n",
            "Total Num of users:  2018\n",
            "Recommendation HitRate:  0.061446977205153616\n",
            "\n",
            "MRR   :  0.025622374817122096\n"
          ],
          "name": "stdout"
        }
      ]
    },
    {
      "cell_type": "code",
      "metadata": {
        "id": "pDt1MUdyRP3d"
      },
      "source": [
        ""
      ],
      "execution_count": null,
      "outputs": []
    },
    {
      "cell_type": "code",
      "metadata": {
        "id": "Xu8mBxtkRP3e"
      },
      "source": [
        ""
      ],
      "execution_count": null,
      "outputs": []
    },
    {
      "cell_type": "code",
      "metadata": {
        "id": "5YRI5qRzRP3e",
        "outputId": "befe6a9a-87e2-4723-8a50-cc7169c405cf"
      },
      "source": [
        "als_params = dict(batch_size = [50,100,200,300,500],\n",
        "                         lr_ = [1e-5,5e-3,1e-3,5e-1,1e-1],\n",
        "                      dims_i = [0,1,2,3,4,5] )\n",
        "\n",
        "als_param_grid, als_param_names = random_grid(als_params, n=60)\n",
        "print(als_param_names)\n",
        "len(als_param_grid)  "
      ],
      "execution_count": null,
      "outputs": [
        {
          "output_type": "stream",
          "text": [
            "('batch_size', 'lr_', 'dims_i')\n"
          ],
          "name": "stdout"
        },
        {
          "output_type": "execute_result",
          "data": {
            "text/plain": [
              "60"
            ]
          },
          "metadata": {
            "tags": []
          },
          "execution_count": 94
        }
      ]
    },
    {
      "cell_type": "code",
      "metadata": {
        "id": "6MrPxilmRP3g",
        "outputId": "4df63969-633d-4cd6-e475-694d1bbbf461"
      },
      "source": [
        "pdim_list = [[32,64],[64,128],[256,512],[100,300],[200,600],[300,900]]\n",
        "for i in range(10):\n",
        "    batch_size, lr, dim_i = list(als_param_grid)[i]  \n",
        "    print(batch_size, lr, pdim_list[dim_i])   #"
      ],
      "execution_count": null,
      "outputs": [
        {
          "output_type": "stream",
          "text": [
            "500 0.1 [300, 900]\n",
            "100 1e-05 [64, 128]\n",
            "100 1e-05 [200, 600]\n",
            "50 0.1 [256, 512]\n",
            "200 0.001 [200, 600]\n",
            "50 0.001 [64, 128]\n",
            "100 0.005 [32, 64]\n",
            "300 0.5 [32, 64]\n",
            "500 1e-05 [100, 300]\n",
            "50 0.5 [100, 300]\n"
          ],
          "name": "stdout"
        }
      ]
    },
    {
      "cell_type": "code",
      "metadata": {
        "id": "SAHFe4OzRP3h",
        "outputId": "30243afb-22f3-4d2c-9b76-78bcfdd199d9"
      },
      "source": [
        "anneal_cap = 0.2\n",
        "update_count = 0\n",
        "constant_anneal = False    \n",
        "\n",
        "               #TuningModel_2(train_Mat,holdout_df,pdim_list,als_param_grid,eval_every=20,n_epochs=200)\n",
        "bestModelInfo = TuningModel_2(TrainDFRatMat_1,holdout_df1,pdim_list,als_param_grid,eval_every=20,n_epochs=200)"
      ],
      "execution_count": null,
      "outputs": [
        {
          "output_type": "stream",
          "text": [
            "  2%|▏         | 1/60 [06:03<5:57:05, 363.15s/it]\n",
            " BS_ = 500 | lr_ = 0.1 | n_epoch = 19| HR = 0.0 | MRR = 0 | p_dims = [300, 900] \n",
            "  3%|▎         | 2/60 [10:45<5:04:58, 315.49s/it]\n",
            " BS_ = 100 | lr_ = 1e-05 | n_epoch = 39| HR = 0.00842418235877106 | MRR = 0.003206852612204446 | p_dims = [64, 128] \n",
            "  5%|▌         | 3/60 [15:37<4:49:28, 304.71s/it]\n",
            " BS_ = 100 | lr_ = 1e-05 | n_epoch = 19| HR = 0.00842418235877106 | MRR = 0.0030747085752041155 | p_dims = [200, 600] \n",
            "  7%|▋         | 4/60 [20:01<4:29:37, 288.89s/it]\n",
            " BS_ = 50 | lr_ = 0.1 | n_epoch = 19| HR = 0.0 | MRR = 0 | p_dims = [256, 512] \n",
            "  8%|▊         | 5/60 [24:52<4:25:33, 289.69s/it]\n",
            " BS_ = 200 | lr_ = 0.001 | n_epoch = 19| HR = 0.06442021803766106 | MRR = 0.0264647930529992 | p_dims = [200, 600] \n",
            " 10%|█         | 6/60 [29:36<4:18:56, 287.71s/it]\n",
            " BS_ = 50 | lr_ = 0.001 | n_epoch = 39| HR = 0.06293359762140734 | MRR = 0.024678685481460513 | p_dims = [64, 128] \n",
            " 12%|█▏        | 7/60 [34:03<4:08:00, 280.76s/it]\n",
            " BS_ = 100 | lr_ = 0.005 | n_epoch = 39| HR = 0.053518334985133795 | MRR = 0.02142483521323958 | p_dims = [32, 64] \n",
            " 13%|█▎        | 8/60 [36:58<3:34:08, 247.09s/it]\n",
            " BS_ = 300 | lr_ = 0.5 | n_epoch = 19| HR = 0.0 | MRR = 0 | p_dims = [32, 64] \n",
            " 15%|█▌        | 9/60 [40:35<3:22:00, 237.65s/it]\n",
            " BS_ = 500 | lr_ = 1e-05 | n_epoch = 19| HR = 0.00842418235877106 | MRR = 0.0022027939024965785 | p_dims = [100, 300] \n",
            " 17%|█▋        | 10/60 [44:04<3:10:49, 229.00s/it]\n",
            " BS_ = 50 | lr_ = 0.5 | n_epoch = 19| HR = 0.0 | MRR = 0 | p_dims = [100, 300] \n",
            " 18%|█▊        | 11/60 [50:07<3:40:29, 269.99s/it]\n",
            " BS_ = 500 | lr_ = 0.5 | n_epoch = 19| HR = 0.0 | MRR = 0 | p_dims = [300, 900] \n",
            " 20%|██        | 12/60 [54:40<3:36:42, 270.88s/it]\n",
            " BS_ = 500 | lr_ = 0.005 | n_epoch = 19| HR = 0.031219028741328047 | MRR = 0.012796930797426338 | p_dims = [256, 512] \n",
            " 22%|██▏       | 13/60 [59:04<3:30:26, 268.64s/it]\n",
            " BS_ = 500 | lr_ = 0.5 | n_epoch = 19| HR = 0.0 | MRR = 0 | p_dims = [256, 512] \n",
            " 23%|██▎       | 14/60 [1:12:26<5:29:40, 430.01s/it]\n",
            " BS_ = 100 | lr_ = 0.001 | n_epoch = 79| HR = 0.06937561942517344 | MRR = 0.02755675114446175 | p_dims = [200, 600] \n",
            " 25%|██▌       | 15/60 [1:16:05<4:34:40, 366.22s/it]\n",
            " BS_ = 500 | lr_ = 0.001 | n_epoch = 19| HR = 0.05698711595639247 | MRR = 0.023231197004735162 | p_dims = [100, 300] \n",
            " 27%|██▋       | 16/60 [1:20:36<4:07:38, 337.69s/it]\n",
            " BS_ = 500 | lr_ = 0.001 | n_epoch = 39| HR = 0.06342913776015857 | MRR = 0.025284149008133153 | p_dims = [32, 64] \n",
            " 28%|██▊       | 17/60 [1:26:42<4:07:58, 346.02s/it]\n",
            " BS_ = 200 | lr_ = 0.5 | n_epoch = 19| HR = 0.0 | MRR = 0 | p_dims = [300, 900] \n",
            " 30%|███       | 18/60 [1:29:43<3:27:28, 296.39s/it]\n",
            " BS_ = 100 | lr_ = 1e-05 | n_epoch = 19| HR = 0.010901883052527254 | MRR = 0.003664244025988327 | p_dims = [32, 64] \n",
            " 32%|███▏      | 19/60 [1:33:25<3:07:23, 274.24s/it]\n",
            " BS_ = 300 | lr_ = 1e-05 | n_epoch = 19| HR = 0.00842418235877106 | MRR = 0.0030912265798291568 | p_dims = [100, 300] \n",
            " 33%|███▎      | 20/60 [1:39:36<3:22:14, 303.36s/it]\n",
            " BS_ = 50 | lr_ = 0.005 | n_epoch = 19| HR = 0.013875123885034688 | MRR = 0.0039021819497538027 | p_dims = [300, 900] \n",
            " 35%|███▌      | 21/60 [1:44:09<3:11:13, 294.20s/it]\n",
            " BS_ = 50 | lr_ = 1e-05 | n_epoch = 39| HR = 0.008919722497522299 | MRR = 0.0021941416143596527 | p_dims = [32, 64] \n",
            " 37%|███▋      | 22/60 [1:48:54<3:04:37, 291.50s/it]\n",
            " BS_ = 50 | lr_ = 0.1 | n_epoch = 19| HR = 0.0 | MRR = 0 | p_dims = [200, 600] \n",
            " 38%|███▊      | 23/60 [1:52:32<2:46:03, 269.27s/it]\n",
            " BS_ = 50 | lr_ = 1e-05 | n_epoch = 19| HR = 0.00842418235877106 | MRR = 0.003172636745481146 | p_dims = [100, 300] \n",
            " 40%|████      | 24/60 [1:56:14<2:33:01, 255.03s/it]\n",
            " BS_ = 200 | lr_ = 0.001 | n_epoch = 19| HR = 0.06342913776015857 | MRR = 0.026724754982931396 | p_dims = [100, 300] \n",
            " 42%|████▏     | 25/60 [2:00:45<2:31:32, 259.78s/it]\n",
            " BS_ = 50 | lr_ = 0.001 | n_epoch = 39| HR = 0.0599603567888999 | MRR = 0.026706860477920934 | p_dims = [32, 64] \n",
            " 43%|████▎     | 26/60 [2:07:33<2:52:30, 304.41s/it]\n",
            " BS_ = 300 | lr_ = 0.005 | n_epoch = 39| HR = 0.024281466798810703 | MRR = 0.01047025186024195 | p_dims = [256, 512] \n",
            " 45%|████▌     | 27/60 [2:11:55<2:40:25, 291.68s/it]\n",
            " BS_ = 50 | lr_ = 0.5 | n_epoch = 19| HR = 0.0 | MRR = 0 | p_dims = [256, 512] \n",
            " 47%|████▋     | 28/60 [2:16:29<2:32:45, 286.41s/it]\n",
            " BS_ = 100 | lr_ = 0.001 | n_epoch = 39| HR = 0.061446977205153616 | MRR = 0.027142424528450296 | p_dims = [32, 64] \n",
            " 48%|████▊     | 29/60 [2:21:04<2:26:10, 282.92s/it]\n",
            " BS_ = 200 | lr_ = 0.1 | n_epoch = 39| HR = 0.006937561942517344 | MRR = 0.0012388503468780969 | p_dims = [32, 64] \n",
            " 50%|█████     | 30/60 [2:27:09<2:33:45, 307.52s/it]\n",
            " BS_ = 50 | lr_ = 0.5 | n_epoch = 19| HR = 0.0 | MRR = 0 | p_dims = [300, 900] \n",
            " 52%|█████▏    | 31/60 [2:30:47<2:15:41, 280.75s/it]\n",
            " BS_ = 100 | lr_ = 0.001 | n_epoch = 19| HR = 0.06640237859266601 | MRR = 0.02718175311089087 | p_dims = [100, 300] \n",
            " 53%|█████▎    | 32/60 [2:35:26<2:10:47, 280.26s/it]\n",
            " BS_ = 500 | lr_ = 0.005 | n_epoch = 39| HR = 0.055004955401387515 | MRR = 0.025458767914169306 | p_dims = [64, 128] \n",
            " 55%|█████▌    | 33/60 [2:39:57<2:04:53, 277.53s/it]\n",
            " BS_ = 200 | lr_ = 1e-05 | n_epoch = 19| HR = 0.00842418235877106 | MRR = 0.0029508235405163057 | p_dims = [256, 512] \n",
            " 57%|█████▋    | 34/60 [2:44:20<1:58:15, 272.91s/it]\n",
            " BS_ = 500 | lr_ = 0.1 | n_epoch = 39| HR = 0.0014866204162537165 | MRR = 0.0009910802775024777 | p_dims = [32, 64] \n",
            " 58%|█████▊    | 35/60 [2:47:20<1:42:05, 245.02s/it]\n",
            " BS_ = 100 | lr_ = 0.5 | n_epoch = 19| HR = 0.0 | MRR = 0 | p_dims = [64, 128] \n",
            " 60%|██████    | 36/60 [2:51:51<1:41:11, 253.00s/it]\n",
            " BS_ = 300 | lr_ = 0.001 | n_epoch = 39| HR = 0.062438057482656094 | MRR = 0.02908741957304891 | p_dims = [32, 64] \n",
            " 62%|██████▏   | 37/60 [2:56:36<1:40:38, 262.55s/it]\n",
            " BS_ = 200 | lr_ = 0.5 | n_epoch = 19| HR = 0.0 | MRR = 0 | p_dims = [200, 600] \n",
            " 63%|██████▎   | 38/60 [3:09:01<2:29:20, 407.31s/it]\n",
            " BS_ = 500 | lr_ = 0.001 | n_epoch = 59| HR = 0.07234886025768088 | MRR = 0.028562972926203852 | p_dims = [300, 900] \n",
            " 65%|██████▌   | 39/60 [3:11:59<1:58:26, 338.41s/it]\n",
            " BS_ = 100 | lr_ = 0.1 | n_epoch = 19| HR = 0.0009910802775024777 | MRR = 0.0005946481665014866 | p_dims = [32, 64] \n",
            " 67%|██████▋   | 40/60 [3:16:27<1:45:49, 317.45s/it]\n",
            " BS_ = 300 | lr_ = 0.1 | n_epoch = 39| HR = 0.0019821605550049554 | MRR = 0.0003510075982821275 | p_dims = [32, 64] \n",
            " 68%|██████▊   | 41/60 [3:22:42<1:45:57, 334.60s/it]\n",
            " BS_ = 50 | lr_ = 0.005 | n_epoch = 59| HR = 0.0639246778989098 | MRR = 0.02580918558371482 | p_dims = [64, 128] \n",
            " 70%|███████   | 42/60 [3:27:14<1:34:44, 315.81s/it]\n",
            " BS_ = 300 | lr_ = 1e-05 | n_epoch = 19| HR = 0.00842418235877106 | MRR = 0.0029207371749492665 | p_dims = [256, 512] \n",
            " 72%|███████▏  | 43/60 [3:31:46<1:25:44, 302.64s/it]\n",
            " BS_ = 200 | lr_ = 0.001 | n_epoch = 19| HR = 0.06491575817641229 | MRR = 0.026895834316547896 | p_dims = [256, 512] \n",
            " 73%|███████▎  | 44/60 [3:41:03<1:41:03, 379.00s/it]\n",
            " BS_ = 200 | lr_ = 0.001 | n_epoch = 39| HR = 0.062438057482656094 | MRR = 0.025833372661915783 | p_dims = [300, 900] \n",
            " 75%|███████▌  | 45/60 [3:46:01<1:28:40, 354.73s/it]\n",
            " BS_ = 100 | lr_ = 0.005 | n_epoch = 19| HR = 0.02527254707631318 | MRR = 0.009717699435241556 | p_dims = [200, 600] \n",
            " 77%|███████▋  | 46/60 [3:50:50<1:18:10, 335.02s/it]\n",
            " BS_ = 300 | lr_ = 0.5 | n_epoch = 19| HR = 0.0 | MRR = 0 | p_dims = [200, 600] \n",
            " 78%|███████▊  | 47/60 [4:00:01<1:26:36, 399.71s/it]\n",
            " BS_ = 50 | lr_ = 0.001 | n_epoch = 59| HR = 0.07036669970267592 | MRR = 0.03002324319222238 | p_dims = [256, 512] \n",
            " 80%|████████  | 48/60 [4:03:14<1:07:31, 337.66s/it]\n",
            " BS_ = 50 | lr_ = 0.5 | n_epoch = 19| HR = 0.0 | MRR = 0 | p_dims = [64, 128] \n",
            " 82%|████████▏ | 49/60 [4:06:24<53:49, 293.58s/it]  \n",
            " BS_ = 300 | lr_ = 0.5 | n_epoch = 19| HR = 0.0 | MRR = 0 | p_dims = [64, 128] \n",
            " 83%|████████▎ | 50/60 [4:09:40<44:00, 264.08s/it]\n",
            " BS_ = 300 | lr_ = 0.005 | n_epoch = 19| HR = 0.05847373637264618 | MRR = 0.025199199270061513 | p_dims = [64, 128] \n",
            " 85%|████████▌ | 51/60 [4:15:56<44:40, 297.80s/it]\n",
            " BS_ = 50 | lr_ = 0.001 | n_epoch = 19| HR = 0.07433102081268583 | MRR = 0.03249740431355892 | p_dims = [300, 900] \n",
            " 87%|████████▋ | 52/60 [4:20:51<39:34, 296.84s/it]\n",
            " BS_ = 500 | lr_ = 1e-05 | n_epoch = 39| HR = 0.00842418235877106 | MRR = 0.003206852612204446 | p_dims = [64, 128] \n",
            " 88%|████████▊ | 53/60 [4:23:52<30:36, 262.32s/it]\n",
            " BS_ = 500 | lr_ = 0.5 | n_epoch = 19| HR = 0.0 | MRR = 0 | p_dims = [32, 64] \n",
            " 90%|█████████ | 54/60 [4:27:35<25:01, 250.30s/it]\n",
            " BS_ = 500 | lr_ = 0.5 | n_epoch = 19| HR = 0.0 | MRR = 0 | p_dims = [100, 300] \n",
            " 92%|█████████▏| 55/60 [4:30:46<19:22, 232.54s/it]\n",
            " BS_ = 500 | lr_ = 0.005 | n_epoch = 19| HR = 0.05252725470763132 | MRR = 0.023252827725077474 | p_dims = [32, 64] \n",
            " 93%|█████████▎| 56/60 [4:40:09<22:07, 331.84s/it]\n",
            " BS_ = 100 | lr_ = 0.001 | n_epoch = 39| HR = 0.06937561942517344 | MRR = 0.02809240643730238 | p_dims = [300, 900] \n",
            " 95%|█████████▌| 57/60 [4:43:57<15:02, 300.72s/it]\n",
            " BS_ = 500 | lr_ = 0.005 | n_epoch = 19| HR = 0.049554013875123884 | MRR = 0.021553046391995845 | p_dims = [100, 300] \n",
            " 97%|█████████▋| 58/60 [4:48:31<09:44, 292.49s/it]\n",
            " BS_ = 300 | lr_ = 0.001 | n_epoch = 19| HR = 0.061446977205153616 | MRR = 0.02432964431230041 | p_dims = [256, 512] \n",
            " 98%|█████████▊| 59/60 [4:51:40<04:21, 261.47s/it]\n",
            " BS_ = 200 | lr_ = 0.005 | n_epoch = 19| HR = 0.05450941526263627 | MRR = 0.021299573678166348 | p_dims = [32, 64] \n",
            "100%|██████████| 60/60 [4:54:56<00:00, 294.94s/it]\n",
            " BS_ = 500 | lr_ = 0.001 | n_epoch = 19| HR = 0.0639246778989098 | MRR = 0.025185630909119516 | p_dims = [64, 128] \n",
            "\n",
            " Best_param; BS_ = 50 | lr_ = 0.001 | n_epoch = 19 | HR = 0.07433102081268583 | MRR = 0.03249740431355892 | p_dims = [300, 900]\n",
            "\n"
          ],
          "name": "stderr"
        }
      ]
    },
    {
      "cell_type": "code",
      "metadata": {
        "id": "736lNsV0RP3i",
        "outputId": "b803edd6-1f2d-4d4d-f18b-96fa5feefe75"
      },
      "source": [
        "print('BestParams_1: BS_ = {} | lr_ = {} | n_epoch = {}| p_dims = {} '.format(200, 1e-3, 100, [200,600]))\n",
        "print('BestParams_2: BS_ = {}  | lr_ = {} | n_epoch = {} | p_dims = {} '.format(50, 1e-3, 19, [300,900]))\n",
        "print('BestParams_3: BS_ = {}  | lr_ = {} | n_epoch = {} | p_dims = {} '.format(50, 1e-3, 50, [300,900]))\n",
        "\n"
      ],
      "execution_count": null,
      "outputs": [
        {
          "output_type": "stream",
          "text": [
            "BestParams_1: BS_ = 200 | lr_ = 0.001 | n_epoch = 100| p_dims = [200, 600] \n",
            "BestParams_2: BS_ = 50  | lr_ = 0.001 | n_epoch = 19 | p_dims = [300, 900] \n",
            "BestParams_3: BS_ = 50  | lr_ = 0.001 | n_epoch = 50 | p_dims = [300, 900] \n"
          ],
          "name": "stdout"
        }
      ]
    },
    {
      "cell_type": "code",
      "metadata": {
        "id": "CJDMjrDDRP3j"
      },
      "source": [
        ""
      ],
      "execution_count": null,
      "outputs": []
    },
    {
      "cell_type": "code",
      "metadata": {
        "id": "fcWjI599RP3j",
        "outputId": "7fc528bf-441a-4b49-da85-439304890626"
      },
      "source": [
        "rows_i = newAMZGames_DF['Updated_UserID'].nunique()\n",
        "cols_i = newAMZGames_DF['Updated_ItemID'].nunique()\n",
        "\n",
        "UserItemMATList_AMZG = AllRatingMatrices(newUserItemlist_AMZG,'Updated_UserID','Updated_ItemID',rows_i ,cols_i) \n",
        "print(len(UserItemMATList_AMZG))   \n",
        "UserItemMATList_AMZG"
      ],
      "execution_count": null,
      "outputs": [
        {
          "output_type": "stream",
          "text": [
            "15\n"
          ],
          "name": "stdout"
        },
        {
          "output_type": "execute_result",
          "data": {
            "text/plain": [
              "[<39284x17318 sparse matrix of type '<class 'numpy.float64'>'\n",
              " \twith 250384 stored elements in Compressed Sparse Row format>,\n",
              " <39284x17318 sparse matrix of type '<class 'numpy.float64'>'\n",
              " \twith 255520 stored elements in Compressed Sparse Row format>,\n",
              " <39284x17318 sparse matrix of type '<class 'numpy.float64'>'\n",
              " \twith 261105 stored elements in Compressed Sparse Row format>,\n",
              " <39284x17318 sparse matrix of type '<class 'numpy.float64'>'\n",
              " \twith 266597 stored elements in Compressed Sparse Row format>,\n",
              " <39284x17318 sparse matrix of type '<class 'numpy.float64'>'\n",
              " \twith 272102 stored elements in Compressed Sparse Row format>,\n",
              " <39284x17318 sparse matrix of type '<class 'numpy.float64'>'\n",
              " \twith 277572 stored elements in Compressed Sparse Row format>,\n",
              " <39284x17318 sparse matrix of type '<class 'numpy.float64'>'\n",
              " \twith 282899 stored elements in Compressed Sparse Row format>,\n",
              " <39284x17318 sparse matrix of type '<class 'numpy.float64'>'\n",
              " \twith 288493 stored elements in Compressed Sparse Row format>,\n",
              " <39284x17318 sparse matrix of type '<class 'numpy.float64'>'\n",
              " \twith 294033 stored elements in Compressed Sparse Row format>,\n",
              " <39284x17318 sparse matrix of type '<class 'numpy.float64'>'\n",
              " \twith 299422 stored elements in Compressed Sparse Row format>,\n",
              " <39284x17318 sparse matrix of type '<class 'numpy.float64'>'\n",
              " \twith 304874 stored elements in Compressed Sparse Row format>,\n",
              " <39284x17318 sparse matrix of type '<class 'numpy.float64'>'\n",
              " \twith 310345 stored elements in Compressed Sparse Row format>,\n",
              " <39284x17318 sparse matrix of type '<class 'numpy.float64'>'\n",
              " \twith 315857 stored elements in Compressed Sparse Row format>,\n",
              " <39284x17318 sparse matrix of type '<class 'numpy.float64'>'\n",
              " \twith 321360 stored elements in Compressed Sparse Row format>,\n",
              " <39284x17318 sparse matrix of type '<class 'numpy.float64'>'\n",
              " \twith 326607 stored elements in Compressed Sparse Row format>]"
            ]
          },
          "metadata": {
            "tags": []
          },
          "execution_count": 99
        }
      ]
    },
    {
      "cell_type": "code",
      "metadata": {
        "id": "Z31IeN4ARP3l"
      },
      "source": [
        ""
      ],
      "execution_count": null,
      "outputs": []
    },
    {
      "cell_type": "code",
      "metadata": {
        "id": "xqOa53NORP3l"
      },
      "source": [
        "#Best_param; BS_ = 50 | lr_ = 0.001 | n_epoch = 19 | HR = 0.07433102081268583 | MRR = 0.03249740431355892 | p_dims = [300, 900]"
      ],
      "execution_count": null,
      "outputs": []
    },
    {
      "cell_type": "markdown",
      "metadata": {
        "id": "kU9lHweaaayr"
      },
      "source": [
        "## EvalPred"
      ]
    },
    {
      "cell_type": "code",
      "metadata": {
        "id": "5nEECso4RP3m",
        "outputId": "d5b09013-dd19-4311-f090-e880984e22a9"
      },
      "source": [
        "#BS_ = 50 | lr_ = 0.001 | n_epoch = 50 |p_dims = [300, 900] \n",
        "hr10_List, mrr10_List, ALLUsrsPred_AMZg  = AllpredEval_2(UserItemMATList_AMZG,newHoldoutlist_AMZG,batch_size=50,n_epoch=50,lr_=1e-3,p_dims=[300,900])\n",
        "print(hr10_List)\n",
        "print(mrr10_List)"
      ],
      "execution_count": null,
      "outputs": [
        {
          "output_type": "stream",
          "text": [
            "1it [03:45, 225.17s/it]Number of hits:  128\n",
            "Total Num of users:  2018\n",
            "Recommendation HitRate:  0.06342913776015857\n",
            "| HitRate  0.063 | Mrr 0.027 | \n",
            "2it [07:31, 226.10s/it]Number of hits:  139\n",
            "Total Num of users:  2200\n",
            "Recommendation HitRate:  0.06318181818181819\n",
            "| HitRate  0.063 | Mrr 0.030 | \n",
            "3it [11:17, 225.89s/it]Number of hits:  153\n",
            "Total Num of users:  2172\n",
            "Recommendation HitRate:  0.07044198895027624\n",
            "| HitRate  0.070 | Mrr 0.030 | \n",
            "4it [15:03, 225.99s/it]Number of hits:  184\n",
            "Total Num of users:  2079\n",
            "Recommendation HitRate:  0.0885040885040885\n",
            "| HitRate  0.089 | Mrr 0.040 | \n",
            "5it [18:51, 226.47s/it]Number of hits:  174\n",
            "Total Num of users:  2089\n",
            "Recommendation HitRate:  0.0832934418382001\n",
            "| HitRate  0.083 | Mrr 0.039 | \n",
            "6it [22:38, 226.81s/it]Number of hits:  148\n",
            "Total Num of users:  2120\n",
            "Recommendation HitRate:  0.06981132075471698\n",
            "| HitRate  0.070 | Mrr 0.035 | \n",
            "7it [26:25, 227.03s/it]Number of hits:  145\n",
            "Total Num of users:  2217\n",
            "Recommendation HitRate:  0.06540369869192603\n",
            "| HitRate  0.065 | Mrr 0.031 | \n",
            "8it [30:13, 227.14s/it]Number of hits:  141\n",
            "Total Num of users:  2207\n",
            "Recommendation HitRate:  0.06388763026733121\n",
            "| HitRate  0.064 | Mrr 0.031 | \n",
            "9it [34:00, 227.08s/it]Number of hits:  159\n",
            "Total Num of users:  2133\n",
            "Recommendation HitRate:  0.07454289732770746\n",
            "| HitRate  0.075 | Mrr 0.037 | \n",
            "10it [37:47, 227.06s/it]Number of hits:  145\n",
            "Total Num of users:  2171\n",
            "Recommendation HitRate:  0.06678949792722248\n",
            "| HitRate  0.067 | Mrr 0.033 | \n",
            "11it [41:34, 227.08s/it]Number of hits:  139\n",
            "Total Num of users:  2261\n",
            "Recommendation HitRate:  0.06147722246793454\n",
            "| HitRate  0.061 | Mrr 0.027 | \n",
            "12it [45:21, 227.21s/it]Number of hits:  160\n",
            "Total Num of users:  2246\n",
            "Recommendation HitRate:  0.07123775601068566\n",
            "| HitRate  0.071 | Mrr 0.032 | \n",
            "13it [49:09, 227.29s/it]Number of hits:  146\n",
            "Total Num of users:  2196\n",
            "Recommendation HitRate:  0.06648451730418943\n",
            "| HitRate  0.066 | Mrr 0.030 | \n",
            "14it [52:56, 227.21s/it]Number of hits:  163\n",
            "Total Num of users:  2269\n",
            "Recommendation HitRate:  0.07183781401498457\n",
            "| HitRate  0.072 | Mrr 0.033 | \n",
            "15it [56:44, 227.00s/it]Number of hits:  120\n",
            "Total Num of users:  2222\n",
            "Recommendation HitRate:  0.054005400540054004\n",
            "| HitRate  0.054 | Mrr 0.026 | \n",
            "[0.06342913776015857, 0.06318181818181819, 0.07044198895027624, 0.0885040885040885, 0.0832934418382001, 0.06981132075471698, 0.06540369869192603, 0.06388763026733121, 0.07454289732770746, 0.06678949792722248, 0.06147722246793454, 0.07123775601068566, 0.06648451730418943, 0.07183781401498457, 0.054005400540054004]\n",
            "[0.026572946654710775, 0.030148088023088025, 0.02968608407144319, 0.039664597601105536, 0.039016921592316525, 0.034910714285714295, 0.03101431220511058, 0.031453671938492966, 0.036950341943309595, 0.033213792195828123, 0.02660643204650281, 0.03219886500162547, 0.03021637464943476, 0.03254930148936319, 0.025842048490563343]\n",
            "\n"
          ],
          "name": "stderr"
        }
      ]
    },
    {
      "cell_type": "code",
      "metadata": {
        "id": "aVEa3NY8RP3n",
        "outputId": "13f2f9a6-bd0f-4593-864b-6bf096a4415f"
      },
      "source": [
        "hr10_List"
      ],
      "execution_count": null,
      "outputs": [
        {
          "output_type": "execute_result",
          "data": {
            "text/plain": [
              "[0.06342913776015857,\n",
              " 0.06318181818181819,\n",
              " 0.07044198895027624,\n",
              " 0.0885040885040885,\n",
              " 0.0832934418382001,\n",
              " 0.06981132075471698,\n",
              " 0.06540369869192603,\n",
              " 0.06388763026733121,\n",
              " 0.07454289732770746,\n",
              " 0.06678949792722248,\n",
              " 0.06147722246793454,\n",
              " 0.07123775601068566,\n",
              " 0.06648451730418943,\n",
              " 0.07183781401498457,\n",
              " 0.054005400540054004]"
            ]
          },
          "metadata": {
            "tags": []
          },
          "execution_count": 107
        }
      ]
    },
    {
      "cell_type": "code",
      "metadata": {
        "id": "kkqI4jzTRP3n",
        "outputId": "90b574a7-3b5f-43cf-c1ae-3350bd64ccae"
      },
      "source": [
        "mrr10_List"
      ],
      "execution_count": null,
      "outputs": [
        {
          "output_type": "execute_result",
          "data": {
            "text/plain": [
              "[0.026572946654710775,\n",
              " 0.030148088023088025,\n",
              " 0.02968608407144319,\n",
              " 0.039664597601105536,\n",
              " 0.039016921592316525,\n",
              " 0.034910714285714295,\n",
              " 0.03101431220511058,\n",
              " 0.031453671938492966,\n",
              " 0.036950341943309595,\n",
              " 0.033213792195828123,\n",
              " 0.02660643204650281,\n",
              " 0.03219886500162547,\n",
              " 0.03021637464943476,\n",
              " 0.03254930148936319,\n",
              " 0.025842048490563343]"
            ]
          },
          "metadata": {
            "tags": []
          },
          "execution_count": 108
        }
      ]
    },
    {
      "cell_type": "code",
      "metadata": {
        "id": "ncVyQ8VDRP3o",
        "outputId": "e0545b3d-58ea-450f-8617-fa5e960b32b9"
      },
      "source": [
        "CovList_amzg = AllSteps_Coverage_Ratio(newAMZGames_DF,ALLUsrsPred_AMZg,'Updated_ItemID')\n",
        "CovList_amzg"
      ],
      "execution_count": null,
      "outputs": [
        {
          "output_type": "execute_result",
          "data": {
            "text/plain": [
              "[0.669881,\n",
              " 0.685414,\n",
              " 0.674443,\n",
              " 0.67964,\n",
              " 0.683393,\n",
              " 0.688532,\n",
              " 0.703776,\n",
              " 0.698464,\n",
              " 0.706895,\n",
              " 0.705509,\n",
              " 0.710706,\n",
              " 0.706433,\n",
              " 0.708107,\n",
              " 0.71827,\n",
              " 0.709666]"
            ]
          },
          "metadata": {
            "tags": []
          },
          "execution_count": 112
        }
      ]
    },
    {
      "cell_type": "code",
      "metadata": {
        "id": "7pKWtaDdRP3p",
        "outputId": "cad1a67e-dece-463f-a326-2d44d25ac45f"
      },
      "source": [
        "AllSteps = list(range(1,15))\n",
        "UpdtPSICorr_amzg = Updt_getAll_AvgCorr(ALLUsrsPred_AMZg,newUserItemlist_AMZG,AllSteps,'Updated_UserID')  #,\n",
        "for df in UpdtPSICorr_amzg:\n",
        "    print(df.mean())  "
      ],
      "execution_count": null,
      "outputs": [
        {
          "output_type": "stream",
          "text": [
            "0.19049199058888142\n",
            "0.19009906602419063\n",
            "0.19537018183204707\n",
            "0.19421349326574192\n",
            "0.19107112164352957\n",
            "0.19457981990273224\n",
            "0.19218792126533343\n",
            "0.18997230250651637\n",
            "0.19050888629426557\n",
            "0.18953465342818945\n",
            "0.19224917297316788\n",
            "0.19124223637098348\n",
            "0.18817902333573716\n",
            "0.18921506904440163\n"
          ],
          "name": "stdout"
        }
      ]
    },
    {
      "cell_type": "code",
      "metadata": {
        "id": "yWXopimgRP3q"
      },
      "source": [
        "with open('/mnt/bulky/oolaleke/TDM_Dataset/AMZ_GamesFiles/AMZG_VAEPredList.pkl', 'wb') as f: ##for [300,900]\n",
        "     pickle.dump(ALLUsrsPred_AMZg, f)\n",
        "     ALLUsrsPred_AMZg[:2]"
      ],
      "execution_count": null,
      "outputs": []
    },
    {
      "cell_type": "code",
      "metadata": {
        "id": "NIA1GcZRRP3_"
      },
      "source": [
        ""
      ],
      "execution_count": null,
      "outputs": []
    },
    {
      "cell_type": "code",
      "metadata": {
        "id": "EUqA_glURP3_"
      },
      "source": [
        ""
      ],
      "execution_count": null,
      "outputs": []
    },
    {
      "cell_type": "markdown",
      "metadata": {
        "id": "Dbr8UOgjaM7B"
      },
      "source": [
        "# MovieLen_1M"
      ]
    },
    {
      "cell_type": "code",
      "metadata": {
        "id": "BzbxuKhBRP4A"
      },
      "source": [
        "#MOVIElen_1M\n",
        "newMLDF_1M = pd.read_csv('/mnt/bulky/oolaleke/TDM_Dataset/ML_1M/MLDF1M_afterUpdt.csv.zip')"
      ],
      "execution_count": null,
      "outputs": []
    },
    {
      "cell_type": "code",
      "metadata": {
        "id": "Dck6gj4aRP4A"
      },
      "source": [
        "import pickle\n",
        "\n",
        "with open('/mnt/bulky/oolaleke/TDM_Dataset/ML_1M/MLDF1M_newHoldout.pkl', 'rb') as f:\n",
        "     newHoldout_list = pickle.load(f)     \n",
        "    \n",
        "with open('/mnt/bulky/oolaleke/TDM_Dataset/ML_1M/MLDF1M_newUserItem.pkl', 'rb') as f:\n",
        "     newUserItem_list = pickle.load(f)\n"
      ],
      "execution_count": null,
      "outputs": []
    },
    {
      "cell_type": "code",
      "metadata": {
        "id": "HqqQeiiaRP4B"
      },
      "source": [
        "#new trial||"
      ],
      "execution_count": null,
      "outputs": []
    },
    {
      "cell_type": "code",
      "metadata": {
        "id": "e_XbYFAsRP4B",
        "outputId": "5d8147fe-8de6-4352-9cc5-0792f596c8ce"
      },
      "source": [
        "rows_i = newMLDF_1M['Updated_UserID'].nunique()\n",
        "cols_i = newMLDF_1M['Updated_ItemID'].nunique()\n",
        "UserItem_MATList = AllRatingMatrices(newUserItem_list,'Updated_UserID','Updated_ItemID',rows_i ,cols_i) \n",
        "print(len(UserItem_MATList))   \n",
        "UserItem_MATList"
      ],
      "execution_count": null,
      "outputs": [
        {
          "output_type": "stream",
          "text": [
            "10\n"
          ],
          "name": "stdout"
        },
        {
          "output_type": "execute_result",
          "data": {
            "text/plain": [
              "[<6038x3533 sparse matrix of type '<class 'numpy.float64'>'\n",
              " \twith 500332 stored elements in Compressed Sparse Row format>,\n",
              " <6038x3533 sparse matrix of type '<class 'numpy.float64'>'\n",
              " \twith 508812 stored elements in Compressed Sparse Row format>,\n",
              " <6038x3533 sparse matrix of type '<class 'numpy.float64'>'\n",
              " \twith 517278 stored elements in Compressed Sparse Row format>,\n",
              " <6038x3533 sparse matrix of type '<class 'numpy.float64'>'\n",
              " \twith 525757 stored elements in Compressed Sparse Row format>,\n",
              " <6038x3533 sparse matrix of type '<class 'numpy.float64'>'\n",
              " \twith 534098 stored elements in Compressed Sparse Row format>,\n",
              " <6038x3533 sparse matrix of type '<class 'numpy.float64'>'\n",
              " \twith 542538 stored elements in Compressed Sparse Row format>,\n",
              " <6038x3533 sparse matrix of type '<class 'numpy.float64'>'\n",
              " \twith 551048 stored elements in Compressed Sparse Row format>,\n",
              " <6038x3533 sparse matrix of type '<class 'numpy.float64'>'\n",
              " \twith 559597 stored elements in Compressed Sparse Row format>,\n",
              " <6038x3533 sparse matrix of type '<class 'numpy.float64'>'\n",
              " \twith 568114 stored elements in Compressed Sparse Row format>,\n",
              " <6038x3533 sparse matrix of type '<class 'numpy.float64'>'\n",
              " \twith 574919 stored elements in Compressed Sparse Row format>]"
            ]
          },
          "metadata": {
            "tags": []
          },
          "execution_count": 31
        }
      ]
    },
    {
      "cell_type": "code",
      "metadata": {
        "id": "W0iRbXURRP4C"
      },
      "source": [
        ""
      ],
      "execution_count": null,
      "outputs": []
    },
    {
      "cell_type": "code",
      "metadata": {
        "id": "G86Ob-RVRP4G"
      },
      "source": [
        "##BS_ = 100 | lr_ = 0.001 | n_epoch = 50|[200,600]\n",
        "#BS_ = {}  | lr_ = {} | n_epoch = {} | p_dims = {} '.format(200, 1e-3, 100, [200,600]))\n",
        "#BS_ = {}  | lr_ = {} | n_epoch = {} | p_dims = {} '.format(200, 1e-05, 100,[256, 512]))\n",
        "#BS_ = {}  | lr_ = {} | n_epoch = {} | p_dims = {} '.format(100, 1e-3, 50,  [64, 128]))\n",
        "#BS_ = {}  | lr_ = {} | n_epoch = {} | p_dims = {} '.format(100, 1e-3, 50, [200,600]))"
      ],
      "execution_count": null,
      "outputs": []
    },
    {
      "cell_type": "code",
      "metadata": {
        "id": "WHyIIT_GRP4I"
      },
      "source": [
        ""
      ],
      "execution_count": null,
      "outputs": []
    },
    {
      "cell_type": "code",
      "metadata": {
        "id": "k9k9-QRdRP4I",
        "outputId": "b3b16419-86f6-4812-f61b-35360aa058bc"
      },
      "source": [
        "rows_i = newMLDF_1M['Updated_UserID'].nunique()  \n",
        "cols_i = newMLDF_1M['Updated_ItemID'].nunique()\n",
        "\n",
        "TrainDFRatMat_ML =  SingleRatingMatrix(newUserItem_list[0],'Updated_UserID','Updated_ItemID',rows_i,cols_i)\n",
        "TrainDFRatMat_ML"
      ],
      "execution_count": null,
      "outputs": [
        {
          "output_type": "execute_result",
          "data": {
            "text/plain": [
              "<6038x3533 sparse matrix of type '<class 'numpy.float64'>'\n",
              "\twith 500332 stored elements in Compressed Sparse Row format>"
            ]
          },
          "metadata": {
            "tags": []
          },
          "execution_count": 25
        }
      ]
    },
    {
      "cell_type": "code",
      "metadata": {
        "id": "72Ex8xJnRP4J",
        "outputId": "e16f9eb7-e31b-4325-dd0b-e89157eb4f3b"
      },
      "source": [
        "ValidDFRatMat_ML =  SingleRatingMatrix(newHoldout_list[0],'Updated_UserID','Updated_ItemID',rows_i,cols_i)\n",
        "ValidDFRatMat_ML"
      ],
      "execution_count": null,
      "outputs": [
        {
          "output_type": "execute_result",
          "data": {
            "text/plain": [
              "<6038x3533 sparse matrix of type '<class 'numpy.float64'>'\n",
              "\twith 233 stored elements in Compressed Sparse Row format>"
            ]
          },
          "metadata": {
            "tags": []
          },
          "execution_count": 26
        }
      ]
    },
    {
      "cell_type": "code",
      "metadata": {
        "id": "N9CJA3UWRP4K",
        "outputId": "7c78261c-87cd-4d47-b456-3f886cb9e69b"
      },
      "source": [
        "I =  TrainDFRatMat_ML.shape[1] \n",
        "dim = [200, 600]    #[64,128]\n",
        "q_dims = [I] + dim[::-1]   \n",
        "p_dims = dim + [I]\n",
        "dropout_enc = [0.5, 0.]\n",
        "dropout_dec = [0., 0.]\n",
        "VAEmodel_ = MultiVAE(p_dims,q_dims,dropout_enc,dropout_dec)\n",
        "\n",
        "init_weights(VAEmodel_)\n",
        "VAEmodel_.to(device)\n",
        "optimizer = torch.optim.AdamW(VAEmodel_.parameters(), lr=1e-3, weight_decay=0.0)  \n",
        "VAEmodel_"
      ],
      "execution_count": null,
      "outputs": [
        {
          "output_type": "execute_result",
          "data": {
            "text/plain": [
              "MultiVAE(\n",
              "  (encode): Encoder(\n",
              "    (q_layers): Sequential(\n",
              "      (dropout_0): Dropout(p=0.5, inplace=False)\n",
              "      (linear_0): Linear(in_features=3533, out_features=600, bias=True)\n",
              "      (dropout_1): Dropout(p=0.0, inplace=False)\n",
              "      (linear_1): Linear(in_features=600, out_features=400, bias=True)\n",
              "    )\n",
              "  )\n",
              "  (decode): Decoder(\n",
              "    (p_layers): Sequential(\n",
              "      (dropout_0): Dropout(p=0.0, inplace=False)\n",
              "      (linear_0): Linear(in_features=200, out_features=600, bias=True)\n",
              "      (dropout_1): Dropout(p=0.0, inplace=False)\n",
              "      (linear_1): Linear(in_features=600, out_features=3533, bias=True)\n",
              "    )\n",
              "  )\n",
              ")"
            ]
          },
          "metadata": {
            "tags": []
          },
          "execution_count": 21
        }
      ]
    },
    {
      "cell_type": "code",
      "metadata": {
        "id": "CIkXST96RP4L",
        "outputId": "70a7b15e-889d-4612-a129-fd390be47d13"
      },
      "source": [
        "batch_size = 200  #100\n",
        "anneal_cap = 0.2\n",
        "update_count = 0\n",
        "n_epochs =  100  #50\n",
        "constant_anneal = False\n",
        "\n",
        "total_anneal_steps = getTot_annealSTeps(TrainDFRatMat_ML,batch_size,n_epochs,anneal_cap)\n",
        "total_anneal_steps"
      ],
      "execution_count": null,
      "outputs": [
        {
          "output_type": "execute_result",
          "data": {
            "text/plain": [
              "12400.0"
            ]
          },
          "metadata": {
            "tags": []
          },
          "execution_count": 28
        }
      ]
    },
    {
      "cell_type": "code",
      "metadata": {
        "id": "wsr5wtWxRP4M"
      },
      "source": [
        ""
      ],
      "execution_count": null,
      "outputs": []
    },
    {
      "cell_type": "code",
      "metadata": {
        "id": "YDu5NFXKRP4N",
        "outputId": "c553d31b-d256-49c8-b9cc-9bf8ec923fe1"
      },
      "source": [
        "for epoch in tqdm(range(n_epochs)):\n",
        "    train_step(VAEmodel_, optimizer, TrainDFRatMat_ML, epoch)"
      ],
      "execution_count": null,
      "outputs": [
        {
          "output_type": "stream",
          "text": [
            "100%|██████████| 100/100 [00:21<00:00,  4.71it/s]\n"
          ],
          "name": "stderr"
        }
      ]
    },
    {
      "cell_type": "code",
      "metadata": {
        "id": "t-gjGkwGRP4O",
        "outputId": "58a64efb-47b1-4a63-d855-c0eefbf7d40d"
      },
      "source": [
        "#Generate Prediction list:\n",
        "holdout_df2 = newHoldout_list[0]  #BS=100, EPOCH =50  | [200,600]\n",
        "AllUserPRED, hr_, mrr_ = getmetrics_(VAEmodel_,TrainDFRatMat_ML,holdout_df2,k=10)\n",
        "print()\n",
        "print(\"MRR   : \",mrr_)"
      ],
      "execution_count": null,
      "outputs": [
        {
          "output_type": "stream",
          "text": [
            "Number of hits:  13\n",
            "Total Num of users:  233\n",
            "Recommendation HitRate:  0.055793991416309016\n",
            "\n",
            "MRR   :  0.01007902445670686\n"
          ],
          "name": "stdout"
        }
      ]
    },
    {
      "cell_type": "code",
      "metadata": {
        "id": "S6yyMMcHRP4O",
        "outputId": "b6576d5f-6e16-49e6-b827-068a848d09b4"
      },
      "source": [
        "#Generate Prediction list:\n",
        "holdout_df2 = newHoldout_list[0]  #BS=200, EPOCH =100\n",
        "AllUserPRED, hr_, mrr_ = getmetrics_(VAEmodel_,TrainDFRatMat_2,holdout_df2,k=10)\n",
        "print()\n",
        "print(\"MRR   : \",mrr_)"
      ],
      "execution_count": null,
      "outputs": [
        {
          "output_type": "stream",
          "text": [
            "Number of hits:  14\n",
            "Total Num of users:  233\n",
            "Recommendation HitRate:  0.060085836909871244\n",
            "\n",
            "MRR   :  0.020755841678588464\n"
          ],
          "name": "stdout"
        }
      ]
    },
    {
      "cell_type": "code",
      "metadata": {
        "id": "WWpfqQ5EcGhA"
      },
      "source": [
        ""
      ],
      "execution_count": null,
      "outputs": []
    },
    {
      "cell_type": "code",
      "metadata": {
        "id": "sF5qFgzicGUq"
      },
      "source": [
        ""
      ],
      "execution_count": null,
      "outputs": []
    },
    {
      "cell_type": "markdown",
      "metadata": {
        "id": "L-F6zCcNcHR3"
      },
      "source": [
        "## Tuning"
      ]
    },
    {
      "cell_type": "code",
      "metadata": {
        "id": "xEK8Ai-hRP4P"
      },
      "source": [
        "##########\n",
        "##TUNING..\n",
        "###########"
      ],
      "execution_count": null,
      "outputs": []
    },
    {
      "cell_type": "code",
      "metadata": {
        "id": "WZVcX5hnRP4Q",
        "outputId": "4305392a-d0d3-4236-ca36-d818a5fd9150"
      },
      "source": [
        "als_params = dict(batch_size = [50,100,200,300,500],\n",
        "                         lr_ = [1e-5,5e-3,1e-3,5e-1,1e-1],\n",
        "                      dims_i = [0,1,2,3,4,5] )\n",
        "\n",
        "als_param_grid, als_param_names = random_grid(als_params, n=60)\n",
        "print(als_param_names)\n",
        "len(als_param_grid)  "
      ],
      "execution_count": null,
      "outputs": [
        {
          "output_type": "stream",
          "text": [
            "('batch_size', 'lr_', 'dims_i')\n"
          ],
          "name": "stdout"
        },
        {
          "output_type": "execute_result",
          "data": {
            "text/plain": [
              "60"
            ]
          },
          "metadata": {
            "tags": []
          },
          "execution_count": 22
        }
      ]
    },
    {
      "cell_type": "code",
      "metadata": {
        "id": "0G6TePOHRP4R",
        "outputId": "5bb8693b-c4e7-4201-b741-003758ccbb95"
      },
      "source": [
        "pdim_list = [[32,64],[64,128],[256,512],[100,300],[200,600],[300,900]]\n",
        "for i in range(10):\n",
        "    batch_size, lr, dim_i = list(als_param_grid)[i]  \n",
        "    print(batch_size, lr, pdim_list[dim_i])   #"
      ],
      "execution_count": null,
      "outputs": [
        {
          "output_type": "stream",
          "text": [
            "100 0.5 [100, 300]\n",
            "100 1e-05 [64, 128]\n",
            "100 0.1 [300, 900]\n",
            "300 1e-05 [64, 128]\n",
            "50 0.005 [100, 300]\n",
            "50 0.1 [256, 512]\n",
            "300 1e-05 [200, 600]\n",
            "50 0.001 [64, 128]\n",
            "100 0.005 [32, 64]\n",
            "300 0.5 [32, 64]\n"
          ],
          "name": "stdout"
        }
      ]
    },
    {
      "cell_type": "code",
      "metadata": {
        "id": "vdJCRVs9RP4R",
        "outputId": "9d684ce6-1e65-4382-b9b8-e7f51a6ecc45"
      },
      "source": [
        "anneal_cap = 0.2\n",
        "update_count = 0\n",
        "constant_anneal = False    \n",
        "\n",
        "               #TuningModel_2(train_Mat,holdout_df,pdim_list,als_param_grid,eval_every=20,n_epochs=200)\n",
        "bestModelInfo = TuningModel_2(TrainDFRatMat_ML,newHoldout_list[0],pdim_list,als_param_grid,eval_every=20,n_epochs=200)   "
      ],
      "execution_count": null,
      "outputs": [
        {
          "output_type": "stream",
          "text": [
            "  2%|▏         | 1/60 [00:08<07:57,  8.10s/it]\n",
            " BS_ = 100 | lr_ = 0.5 | n_epoch = 19| HR = 0.004291845493562232 | MRR = 0.004291845493562232 | p_dims = [100, 300] \n",
            "  3%|▎         | 2/60 [00:24<12:24, 12.84s/it]\n",
            " BS_ = 100 | lr_ = 1e-05 | n_epoch = 59| HR = 0.055793991416309016 | MRR = 0.01821649976156414 | p_dims = [64, 128] \n",
            "  5%|▌         | 3/60 [00:33<10:41, 11.26s/it]\n",
            " BS_ = 100 | lr_ = 0.1 | n_epoch = 19| HR = 0.004291845493562232 | MRR = 0.004291845493562232 | p_dims = [300, 900] \n",
            "  7%|▋         | 4/60 [00:58<15:41, 16.80s/it]\n",
            " BS_ = 300 | lr_ = 1e-05 | n_epoch = 99| HR = 0.060085836909871244 | MRR = 0.018734246202057363 | p_dims = [64, 128] \n",
            "  8%|▊         | 5/60 [01:06<12:27, 13.59s/it]\n",
            " BS_ = 50 | lr_ = 0.005 | n_epoch = 19| HR = 0.060085836909871244 | MRR = 0.012105729273111248 | p_dims = [100, 300] \n",
            " 10%|█         | 6/60 [01:15<10:41, 11.87s/it]\n",
            " BS_ = 50 | lr_ = 0.1 | n_epoch = 19| HR = 0.004291845493562232 | MRR = 0.004291845493562232 | p_dims = [256, 512] \n",
            " 12%|█▏        | 7/60 [01:33<12:13, 13.85s/it]\n",
            " BS_ = 300 | lr_ = 1e-05 | n_epoch = 59| HR = 0.060085836909871244 | MRR = 0.022436814496900333 | p_dims = [200, 600] \n",
            " 13%|█▎        | 8/60 [01:45<11:34, 13.35s/it]\n",
            " BS_ = 50 | lr_ = 0.001 | n_epoch = 39| HR = 0.060085836909871244 | MRR = 0.013715171333197084 | p_dims = [64, 128] \n",
            " 15%|█▌        | 9/60 [02:02<12:10, 14.32s/it]\n",
            " BS_ = 100 | lr_ = 0.005 | n_epoch = 59| HR = 0.06866952789699571 | MRR = 0.020217657878602083 | p_dims = [32, 64] \n",
            " 17%|█▋        | 10/60 [02:10<10:20, 12.40s/it]\n",
            " BS_ = 300 | lr_ = 0.5 | n_epoch = 19| HR = 0.008583690987124463 | MRR = 0.0019074868860276585 | p_dims = [32, 64] \n",
            " 18%|█▊        | 11/60 [02:31<12:15, 15.01s/it]\n",
            " BS_ = 500 | lr_ = 1e-05 | n_epoch = 79| HR = 0.060085836909871244 | MRR = 0.019360991893180735 | p_dims = [100, 300] \n",
            " 20%|██        | 12/60 [02:39<10:21, 12.95s/it]\n",
            " BS_ = 300 | lr_ = 0.5 | n_epoch = 19| HR = 0.004291845493562232 | MRR = 0.004291845493562232 | p_dims = [100, 300] \n",
            " 22%|██▏       | 13/60 [02:47<09:04, 11.58s/it]\n",
            " BS_ = 300 | lr_ = 0.005 | n_epoch = 19| HR = 0.06866952789699571 | MRR = 0.013904216908508755 | p_dims = [32, 64] \n",
            " 23%|██▎       | 14/60 [03:06<10:30, 13.70s/it]\n",
            " BS_ = 200 | lr_ = 1e-05 | n_epoch = 79| HR = 0.04721030042918455 | MRR = 0.01759656652360515 | p_dims = [32, 64] \n",
            " 25%|██▌       | 15/60 [03:15<09:16, 12.37s/it]\n",
            " BS_ = 500 | lr_ = 0.5 | n_epoch = 19| HR = 0.004291845493562232 | MRR = 0.004291845493562232 | p_dims = [300, 900] \n",
            " 27%|██▋       | 16/60 [03:28<09:17, 12.68s/it]\n",
            " BS_ = 500 | lr_ = 0.005 | n_epoch = 39| HR = 0.060085836909871244 | MRR = 0.014888616390762312 | p_dims = [256, 512] \n",
            " 28%|██▊       | 17/60 [03:37<08:14, 11.51s/it]\n",
            " BS_ = 100 | lr_ = 0.001 | n_epoch = 19| HR = 0.06437768240343347 | MRR = 0.014449213161659515 | p_dims = [200, 600] \n",
            " 30%|███       | 18/60 [03:45<07:14, 10.34s/it]\n",
            " BS_ = 500 | lr_ = 0.1 | n_epoch = 19| HR = 0.004291845493562232 | MRR = 0.004291845493562232 | p_dims = [200, 600] \n",
            " 32%|███▏      | 19/60 [03:54<06:43,  9.84s/it]\n",
            " BS_ = 200 | lr_ = 0.5 | n_epoch = 19| HR = 0.004291845493562232 | MRR = 0.004291845493562232 | p_dims = [256, 512] \n",
            " 33%|███▎      | 20/60 [04:03<06:31,  9.80s/it]\n",
            " BS_ = 200 | lr_ = 0.005 | n_epoch = 19| HR = 0.07296137339055794 | MRR = 0.017678315961577762 | p_dims = [300, 900] \n",
            " 35%|███▌      | 21/60 [04:13<06:18,  9.70s/it]\n",
            " BS_ = 200 | lr_ = 0.5 | n_epoch = 19| HR = 0.004291845493562232 | MRR = 0.004291845493562232 | p_dims = [300, 900] \n",
            " 37%|███▋      | 22/60 [04:26<06:46, 10.71s/it]\n",
            " BS_ = 200 | lr_ = 0.005 | n_epoch = 39| HR = 0.07725321888412018 | MRR = 0.014476462974317051 | p_dims = [256, 512] \n",
            " 38%|███▊      | 23/60 [04:38<06:50, 11.10s/it]\n",
            " BS_ = 100 | lr_ = 1e-05 | n_epoch = 39| HR = 0.060085836909871244 | MRR = 0.019376319912800602 | p_dims = [100, 300] \n",
            " 40%|████      | 24/60 [05:03<09:08, 15.22s/it]\n",
            " BS_ = 100 | lr_ = 1e-05 | n_epoch = 99| HR = 0.060085836909871244 | MRR = 0.029899856938483543 | p_dims = [32, 64] \n",
            " 42%|████▏     | 25/60 [05:15<08:26, 14.48s/it]\n",
            " BS_ = 100 | lr_ = 0.1 | n_epoch = 39| HR = 0.012875536480686695 | MRR = 0.0026227944682880307 | p_dims = [200, 600] \n",
            " 43%|████▎     | 26/60 [05:28<07:49, 13.82s/it]\n",
            " BS_ = 300 | lr_ = 1e-05 | n_epoch = 39| HR = 0.060085836909871244 | MRR = 0.020827372436814498 | p_dims = [100, 300] \n",
            " 45%|████▌     | 27/60 [05:38<06:57, 12.64s/it]\n",
            " BS_ = 50 | lr_ = 0.005 | n_epoch = 19| HR = 0.05150214592274678 | MRR = 0.01881769875332107 | p_dims = [300, 900] \n",
            " 47%|████▋     | 28/60 [05:51<06:50, 12.82s/it]\n",
            " BS_ = 200 | lr_ = 0.001 | n_epoch = 39| HR = 0.07296137339055794 | MRR = 0.026905783772736558 | p_dims = [32, 64] \n",
            " 48%|████▊     | 29/60 [05:59<05:54, 11.45s/it]\n",
            " BS_ = 300 | lr_ = 0.1 | n_epoch = 19| HR = 0.004291845493562232 | MRR = 0.004291845493562232 | p_dims = [200, 600] \n",
            " 50%|█████     | 30/60 [06:11<05:49, 11.64s/it]\n",
            " BS_ = 200 | lr_ = 0.001 | n_epoch = 39| HR = 0.055793991416309016 | MRR = 0.011843449826282446 | p_dims = [100, 300] \n",
            " 52%|█████▏    | 31/60 [06:24<05:51, 12.11s/it]\n",
            " BS_ = 500 | lr_ = 1e-05 | n_epoch = 39| HR = 0.055793991416309016 | MRR = 0.020183595612780166 | p_dims = [256, 512] \n",
            " 53%|█████▎    | 32/60 [06:33<05:11, 11.14s/it]\n",
            " BS_ = 50 | lr_ = 0.001 | n_epoch = 19| HR = 0.055793991416309016 | MRR = 0.014692758362286258 | p_dims = [32, 64] \n",
            " 55%|█████▌    | 33/60 [06:47<05:26, 12.07s/it]\n",
            " BS_ = 100 | lr_ = 0.005 | n_epoch = 39| HR = 0.04721030042918455 | MRR = 0.01069895769466585 | p_dims = [300, 900] \n",
            " 57%|█████▋    | 34/60 [07:03<05:40, 13.09s/it]\n",
            " BS_ = 200 | lr_ = 0.1 | n_epoch = 59| HR = 0.04721030042918455 | MRR = 0.01222324409019688 | p_dims = [32, 64] \n",
            " 58%|█████▊    | 35/60 [07:12<04:56, 11.87s/it]\n",
            " BS_ = 100 | lr_ = 0.001 | n_epoch = 19| HR = 0.04721030042918455 | MRR = 0.01467913345595749 | p_dims = [32, 64] \n",
            " 60%|██████    | 36/60 [07:21<04:24, 11.04s/it]\n",
            " BS_ = 50 | lr_ = 0.5 | n_epoch = 19| HR = 0.004291845493562232 | MRR = 0.004291845493562232 | p_dims = [300, 900] \n",
            " 62%|██████▏   | 37/60 [07:33<04:22, 11.40s/it]\n",
            " BS_ = 100 | lr_ = 0.001 | n_epoch = 39| HR = 0.055793991416309016 | MRR = 0.012987941957899039 | p_dims = [100, 300] \n",
            " 63%|██████▎   | 38/60 [07:44<04:09, 11.34s/it]\n",
            " BS_ = 500 | lr_ = 0.1 | n_epoch = 39| HR = 0.02575107296137339 | MRR = 0.013202534232577152 | p_dims = [32, 64] \n",
            " 65%|██████▌   | 39/60 [07:52<03:36, 10.31s/it]\n",
            " BS_ = 200 | lr_ = 0.5 | n_epoch = 19| HR = 0.004291845493562232 | MRR = 0.004291845493562232 | p_dims = [64, 128] \n",
            " 67%|██████▋   | 40/60 [08:01<03:16,  9.81s/it]\n",
            " BS_ = 100 | lr_ = 0.5 | n_epoch = 19| HR = 0.004291845493562232 | MRR = 0.004291845493562232 | p_dims = [200, 600] \n",
            " 68%|██████▊   | 41/60 [08:10<03:01,  9.56s/it]\n",
            " BS_ = 200 | lr_ = 0.5 | n_epoch = 19| HR = 0.004291845493562232 | MRR = 0.004291845493562232 | p_dims = [200, 600] \n",
            " 70%|███████   | 42/60 [08:24<03:17, 11.00s/it]\n",
            " BS_ = 500 | lr_ = 0.001 | n_epoch = 39| HR = 0.06866952789699571 | MRR = 0.019359288779889638 | p_dims = [300, 900] \n",
            " 72%|███████▏  | 43/60 [08:42<03:40, 12.99s/it]\n",
            " BS_ = 500 | lr_ = 0.001 | n_epoch = 59| HR = 0.060085836909871244 | MRR = 0.019318414060903333 | p_dims = [256, 512] \n",
            " 73%|███████▎  | 44/60 [08:51<03:08, 11.78s/it]\n",
            " BS_ = 200 | lr_ = 0.005 | n_epoch = 19| HR = 0.055793991416309016 | MRR = 0.02428469241773963 | p_dims = [200, 600] \n",
            " 75%|███████▌  | 45/60 [09:00<02:46, 11.08s/it]\n",
            " BS_ = 50 | lr_ = 0.005 | n_epoch = 19| HR = 0.060085836909871244 | MRR = 0.02518904557531167 | p_dims = [200, 600] \n",
            " 77%|███████▋  | 46/60 [09:14<02:44, 11.72s/it]\n",
            " BS_ = 100 | lr_ = 1e-05 | n_epoch = 39| HR = 0.060085836909871244 | MRR = 0.019289461134954698 | p_dims = [256, 512] \n",
            " 78%|███████▊  | 47/60 [09:22<02:17, 10.61s/it]\n",
            " BS_ = 50 | lr_ = 0.005 | n_epoch = 19| HR = 0.055793991416309016 | MRR = 0.009995571905443151 | p_dims = [64, 128] \n",
            " 80%|████████  | 48/60 [09:30<01:59,  9.93s/it]\n",
            " BS_ = 50 | lr_ = 0.1 | n_epoch = 19| HR = 0.03862660944206009 | MRR = 0.007313168471966755 | p_dims = [32, 64] \n",
            " 82%|████████▏ | 49/60 [09:39<01:46,  9.64s/it]\n",
            " BS_ = 200 | lr_ = 0.001 | n_epoch = 19| HR = 0.05150214592274678 | MRR = 0.017041351590707816 | p_dims = [256, 512] \n",
            " 83%|████████▎ | 50/60 [09:53<01:50, 11.07s/it]\n",
            " BS_ = 100 | lr_ = 1e-05 | n_epoch = 39| HR = 0.060085836909871244 | MRR = 0.021506914639961846 | p_dims = [300, 900] \n",
            " 85%|████████▌ | 51/60 [10:14<02:06, 14.06s/it]\n",
            " BS_ = 100 | lr_ = 0.005 | n_epoch = 79| HR = 0.060085836909871244 | MRR = 0.01840043599700252 | p_dims = [64, 128] \n",
            " 87%|████████▋ | 52/60 [10:23<01:40, 12.56s/it]\n",
            " BS_ = 200 | lr_ = 0.001 | n_epoch = 19| HR = 0.06437768240343347 | MRR = 0.018768308467879285 | p_dims = [300, 900] \n",
            " 88%|████████▊ | 53/60 [10:43<01:42, 14.64s/it]\n",
            " BS_ = 300 | lr_ = 1e-05 | n_epoch = 59| HR = 0.06437768240343347 | MRR = 0.022525376388037328 | p_dims = [300, 900] \n",
            " 90%|█████████ | 54/60 [10:56<01:25, 14.28s/it]\n",
            " BS_ = 100 | lr_ = 0.005 | n_epoch = 39| HR = 0.055793991416309016 | MRR = 0.019752707950132845 | p_dims = [200, 600] \n",
            " 92%|█████████▏| 55/60 [11:12<01:13, 14.64s/it]\n",
            " BS_ = 500 | lr_ = 1e-05 | n_epoch = 59| HR = 0.06437768240343347 | MRR = 0.02840282035561005 | p_dims = [64, 128] \n",
            " 93%|█████████▎| 56/60 [11:19<00:49, 12.39s/it]\n",
            " BS_ = 300 | lr_ = 0.5 | n_epoch = 19| HR = 0.004291845493562232 | MRR = 0.004291845493562232 | p_dims = [200, 600] \n",
            " 95%|█████████▌| 57/60 [11:27<00:33, 11.08s/it]\n",
            " BS_ = 50 | lr_ = 0.5 | n_epoch = 19| HR = 0.004291845493562232 | MRR = 0.004291845493562232 | p_dims = [64, 128] \n",
            " 97%|█████████▋| 58/60 [11:35<00:20, 10.12s/it]\n",
            " BS_ = 200 | lr_ = 0.1 | n_epoch = 19| HR = 0.004291845493562232 | MRR = 0.004291845493562232 | p_dims = [256, 512] \n",
            " 98%|█████████▊| 59/60 [11:44<00:09,  9.88s/it]\n",
            " BS_ = 200 | lr_ = 0.1 | n_epoch = 19| HR = 0.004291845493562232 | MRR = 0.004291845493562232 | p_dims = [300, 900] \n",
            "100%|██████████| 60/60 [11:53<00:00, 11.90s/it]\n",
            " BS_ = 500 | lr_ = 0.1 | n_epoch = 19| HR = 0.004291845493562232 | MRR = 0.004291845493562232 | p_dims = [300, 900] \n",
            "\n",
            " Best_param; BS_ = 200 | lr_ = 0.005 | n_epoch = 39 | HR = 0.07725321888412018 | MRR = 0.014476462974317051 | p_dims = [256, 512]\n",
            "\n"
          ],
          "name": "stderr"
        }
      ]
    },
    {
      "cell_type": "code",
      "metadata": {
        "id": "hnYxVLDfRP4S",
        "outputId": "0f4baa46-4d53-42b8-b7c3-bad17eb7413a"
      },
      "source": [
        "anneal_cap = 0.2\n",
        "update_count = 0\n",
        "constant_anneal = False    \n",
        "\n",
        "               #TuningModel_2(train_Mat,holdout_df,pdim_list,als_param_grid,eval_every=20,n_epochs=200)\n",
        "bestModelInfo = TuningModel_2(TrainDFRatMat_ML,valid_ml,pdim_list,als_param_grid,eval_every=20,n_epochs=200)   "
      ],
      "execution_count": null,
      "outputs": [
        {
          "output_type": "stream",
          "text": [
            "  2%|▏         | 1/60 [00:25<24:49, 25.25s/it]\n",
            " BS_ = 100 | lr_ = 0.5 | n_epoch = 19| HR = 0.004291845493562232 | MRR = 0.004291845493562232 | p_dims = [100, 300] \n",
            "  3%|▎         | 2/60 [01:05<32:45, 33.89s/it]\n",
            " BS_ = 200 | lr_ = 0.005 | n_epoch = 39| HR = 0.060085836909871244 | MRR = 0.01840043599700252 | p_dims = [100, 300] \n",
            "  5%|▌         | 3/60 [01:31<29:03, 30.58s/it]\n",
            " BS_ = 200 | lr_ = 0.005 | n_epoch = 19| HR = 0.060085836909871244 | MRR = 0.019251992642550588 | p_dims = [32, 64] \n",
            "  7%|▋         | 4/60 [01:59<27:21, 29.32s/it]\n",
            " BS_ = 100 | lr_ = 0.1 | n_epoch = 19| HR = 0.004291845493562232 | MRR = 0.004291845493562232 | p_dims = [300, 900] \n",
            "  8%|▊         | 5/60 [02:25<25:50, 28.19s/it]\n",
            " BS_ = 50 | lr_ = 0.005 | n_epoch = 19| HR = 0.05150214592274678 | MRR = 0.008725049390285441 | p_dims = [32, 64] \n",
            " 10%|█         | 6/60 [03:04<28:46, 31.96s/it]\n",
            " BS_ = 300 | lr_ = 1e-05 | n_epoch = 39| HR = 0.06437768240343347 | MRR = 0.01940867906533143 | p_dims = [64, 128] \n",
            " 12%|█▏        | 7/60 [03:33<27:17, 30.89s/it]\n",
            " BS_ = 300 | lr_ = 0.1 | n_epoch = 19| HR = 0.004291845493562232 | MRR = 0.004291845493562232 | p_dims = [300, 900] \n",
            " 13%|█▎        | 8/60 [04:00<25:37, 29.57s/it]\n",
            " BS_ = 50 | lr_ = 0.1 | n_epoch = 19| HR = 0.004291845493562232 | MRR = 0.004291845493562232 | p_dims = [256, 512] \n",
            " 15%|█▌        | 9/60 [04:26<24:21, 28.65s/it]\n",
            " BS_ = 200 | lr_ = 0.001 | n_epoch = 19| HR = 0.060085836909871244 | MRR = 0.012948770352203829 | p_dims = [200, 600] \n",
            " 17%|█▋        | 10/60 [04:53<23:22, 28.04s/it]\n",
            " BS_ = 50 | lr_ = 1e-05 | n_epoch = 19| HR = 0.06437768240343347 | MRR = 0.027527420123986644 | p_dims = [64, 128] \n",
            " 18%|█▊        | 11/60 [05:20<22:38, 27.73s/it]\n",
            " BS_ = 200 | lr_ = 0.001 | n_epoch = 19| HR = 0.060085836909871244 | MRR = 0.013429048300292935 | p_dims = [64, 128] \n",
            " 20%|██        | 12/60 [05:45<21:25, 26.79s/it]\n",
            " BS_ = 300 | lr_ = 0.5 | n_epoch = 19| HR = 0.004291845493562232 | MRR = 0.004291845493562232 | p_dims = [32, 64] \n",
            " 22%|██▏       | 13/60 [06:12<21:01, 26.85s/it]\n",
            " BS_ = 50 | lr_ = 0.5 | n_epoch = 19| HR = 0.012875536480686695 | MRR = 0.005197901764425369 | p_dims = [32, 64] \n",
            " 23%|██▎       | 14/60 [06:39<20:40, 26.96s/it]\n",
            " BS_ = 200 | lr_ = 0.1 | n_epoch = 19| HR = 0.004291845493562232 | MRR = 0.004291845493562232 | p_dims = [200, 600] \n",
            " 25%|██▌       | 15/60 [07:06<20:20, 27.12s/it]\n",
            " BS_ = 500 | lr_ = 0.5 | n_epoch = 19| HR = 0.004291845493562232 | MRR = 0.004291845493562232 | p_dims = [256, 512] \n",
            " 27%|██▋       | 16/60 [07:34<19:56, 27.20s/it]\n",
            " BS_ = 500 | lr_ = 0.1 | n_epoch = 19| HR = 0.004291845493562232 | MRR = 0.004291845493562232 | p_dims = [200, 600] \n",
            " 28%|██▊       | 17/60 [08:00<19:20, 26.98s/it]\n",
            " BS_ = 500 | lr_ = 0.1 | n_epoch = 19| HR = 0.02575107296137339 | MRR = 0.0068362967504598405 | p_dims = [64, 128] \n",
            " 30%|███       | 18/60 [08:28<19:10, 27.39s/it]\n",
            " BS_ = 200 | lr_ = 0.5 | n_epoch = 19| HR = 0.004291845493562232 | MRR = 0.004291845493562232 | p_dims = [300, 900] \n",
            " 32%|███▏      | 19/60 [08:56<18:47, 27.49s/it]\n",
            " BS_ = 200 | lr_ = 0.005 | n_epoch = 19| HR = 0.03862660944206009 | MRR = 0.014382791743306766 | p_dims = [256, 512] \n",
            " 33%|███▎      | 20/60 [09:37<21:00, 31.51s/it]\n",
            " BS_ = 50 | lr_ = 0.005 | n_epoch = 39| HR = 0.055793991416309016 | MRR = 0.01438960419647115 | p_dims = [256, 512] \n",
            " 35%|███▌      | 21/60 [10:42<27:05, 41.67s/it]\n",
            " BS_ = 100 | lr_ = 1e-05 | n_epoch = 79| HR = 0.06437768240343347 | MRR = 0.022401049117787317 | p_dims = [32, 64] \n",
            " 37%|███▋      | 22/60 [11:23<26:07, 41.24s/it]\n",
            " BS_ = 300 | lr_ = 1e-05 | n_epoch = 39| HR = 0.06437768240343347 | MRR = 0.021626132570338578 | p_dims = [100, 300] \n",
            " 38%|███▊      | 23/60 [11:49<22:38, 36.72s/it]\n",
            " BS_ = 200 | lr_ = 0.001 | n_epoch = 19| HR = 0.060085836909871244 | MRR = 0.015937734178077527 | p_dims = [32, 64] \n",
            " 40%|████      | 24/60 [12:15<20:10, 33.63s/it]\n",
            " BS_ = 300 | lr_ = 0.1 | n_epoch = 19| HR = 0.004291845493562232 | MRR = 0.004291845493562232 | p_dims = [200, 600] \n",
            " 42%|████▏     | 25/60 [13:08<22:53, 39.23s/it]\n",
            " BS_ = 300 | lr_ = 1e-05 | n_epoch = 59| HR = 0.06437768240343347 | MRR = 0.02119694802098236 | p_dims = [32, 64] \n",
            " 43%|████▎     | 26/60 [13:34<20:06, 35.48s/it]\n",
            " BS_ = 200 | lr_ = 0.001 | n_epoch = 19| HR = 0.04721030042918455 | MRR = 0.013595953402820356 | p_dims = [100, 300] \n",
            " 45%|████▌     | 27/60 [14:01<18:03, 32.82s/it]\n",
            " BS_ = 50 | lr_ = 0.001 | n_epoch = 19| HR = 0.05150214592274678 | MRR = 0.010232304652905509 | p_dims = [100, 300] \n",
            " 47%|████▋     | 28/60 [14:28<16:38, 31.21s/it]\n",
            " BS_ = 100 | lr_ = 0.005 | n_epoch = 19| HR = 0.04291845493562232 | MRR = 0.01510491177873152 | p_dims = [256, 512] \n",
            " 48%|████▊     | 29/60 [14:56<15:30, 30.01s/it]\n",
            " BS_ = 300 | lr_ = 0.5 | n_epoch = 19| HR = 0.004291845493562232 | MRR = 0.004291845493562232 | p_dims = [256, 512] \n",
            " 50%|█████     | 30/60 [15:37<16:45, 33.52s/it]\n",
            " BS_ = 300 | lr_ = 0.005 | n_epoch = 39| HR = 0.05150214592274678 | MRR = 0.011211594795285782 | p_dims = [256, 512] \n",
            " 52%|█████▏    | 31/60 [16:05<15:18, 31.68s/it]\n",
            " BS_ = 50 | lr_ = 0.5 | n_epoch = 19| HR = 0.004291845493562232 | MRR = 0.004291845493562232 | p_dims = [256, 512] \n",
            " 53%|█████▎    | 32/60 [16:30<13:57, 29.92s/it]\n",
            " BS_ = 100 | lr_ = 0.001 | n_epoch = 19| HR = 0.055793991416309016 | MRR = 0.017589754070440763 | p_dims = [32, 64] \n",
            " 55%|█████▌    | 33/60 [16:59<13:15, 29.46s/it]\n",
            " BS_ = 300 | lr_ = 0.005 | n_epoch = 19| HR = 0.04291845493562232 | MRR = 0.013750936712310103 | p_dims = [300, 900] \n",
            " 57%|█████▋    | 34/60 [17:27<12:33, 28.99s/it]\n",
            " BS_ = 50 | lr_ = 0.5 | n_epoch = 19| HR = 0.004291845493562232 | MRR = 0.004291845493562232 | p_dims = [300, 900] \n",
            " 58%|█████▊    | 35/60 [18:19<14:59, 35.99s/it]\n",
            " BS_ = 200 | lr_ = 0.1 | n_epoch = 59| HR = 0.030042918454935622 | MRR = 0.008088085019415492 | p_dims = [100, 300] \n",
            " 60%|██████    | 36/60 [18:47<13:23, 33.49s/it]\n",
            " BS_ = 500 | lr_ = 0.5 | n_epoch = 19| HR = 0.004291845493562232 | MRR = 0.004291845493562232 | p_dims = [200, 600] \n",
            " 62%|██████▏   | 37/60 [19:26<13:33, 35.35s/it]\n",
            " BS_ = 300 | lr_ = 0.001 | n_epoch = 39| HR = 0.05150214592274678 | MRR = 0.010561005518087065 | p_dims = [32, 64] \n",
            " 63%|██████▎   | 38/60 [20:07<13:31, 36.88s/it]\n",
            " BS_ = 200 | lr_ = 1e-05 | n_epoch = 39| HR = 0.06866952789699571 | MRR = 0.0216193201171742 | p_dims = [256, 512] \n",
            " 65%|██████▌   | 39/60 [20:33<11:47, 33.67s/it]\n",
            " BS_ = 200 | lr_ = 0.5 | n_epoch = 19| HR = 0.004291845493562232 | MRR = 0.004291845493562232 | p_dims = [64, 128] \n",
            " 67%|██████▋   | 40/60 [21:00<10:35, 31.75s/it]\n",
            " BS_ = 500 | lr_ = 0.1 | n_epoch = 19| HR = 0.004291845493562232 | MRR = 0.004291845493562232 | p_dims = [100, 300] \n",
            " 68%|██████▊   | 41/60 [21:30<09:52, 31.16s/it]\n",
            " BS_ = 500 | lr_ = 0.001 | n_epoch = 19| HR = 0.060085836909871244 | MRR = 0.023330948974725797 | p_dims = [300, 900] \n",
            " 70%|███████   | 42/60 [21:56<08:52, 29.57s/it]\n",
            " BS_ = 100 | lr_ = 0.1 | n_epoch = 19| HR = 0.034334763948497854 | MRR = 0.012356086926902378 | p_dims = [32, 64] \n",
            " 72%|███████▏  | 43/60 [22:25<08:20, 29.47s/it]\n",
            " BS_ = 100 | lr_ = 1e-05 | n_epoch = 19| HR = 0.06866952789699571 | MRR = 0.022985216976633284 | p_dims = [300, 900] \n",
            " 73%|███████▎  | 44/60 [22:52<07:37, 28.61s/it]\n",
            " BS_ = 200 | lr_ = 0.001 | n_epoch = 19| HR = 0.05150214592274678 | MRR = 0.013960419647114926 | p_dims = [256, 512] \n",
            " 75%|███████▌  | 45/60 [23:46<09:04, 36.29s/it]\n",
            " BS_ = 300 | lr_ = 1e-05 | n_epoch = 59| HR = 0.06866952789699571 | MRR = 0.021697663328564615 | p_dims = [256, 512] \n",
            " 77%|███████▋  | 46/60 [24:15<07:57, 34.09s/it]\n",
            " BS_ = 50 | lr_ = 1e-05 | n_epoch = 19| HR = 0.060085836909871244 | MRR = 0.021912255603242725 | p_dims = [300, 900] \n",
            " 78%|███████▊  | 47/60 [24:42<06:57, 32.08s/it]\n",
            " BS_ = 100 | lr_ = 0.005 | n_epoch = 19| HR = 0.05150214592274678 | MRR = 0.020355610055180866 | p_dims = [200, 600] \n",
            " 80%|████████  | 48/60 [25:09<06:04, 30.38s/it]\n",
            " BS_ = 300 | lr_ = 0.5 | n_epoch = 19| HR = 0.004291845493562232 | MRR = 0.004291845493562232 | p_dims = [200, 600] \n",
            " 82%|████████▏ | 49/60 [25:48<06:04, 33.15s/it]\n",
            " BS_ = 50 | lr_ = 0.001 | n_epoch = 39| HR = 0.060085836909871244 | MRR = 0.011640779344642008 | p_dims = [256, 512] \n",
            " 83%|████████▎ | 50/60 [26:18<05:21, 32.13s/it]\n",
            " BS_ = 50 | lr_ = 0.5 | n_epoch = 19| HR = 0.004291845493562232 | MRR = 0.004291845493562232 | p_dims = [64, 128] \n",
            " 85%|████████▌ | 51/60 [26:52<04:53, 32.63s/it]\n",
            " BS_ = 300 | lr_ = 0.5 | n_epoch = 19| HR = 0.004291845493562232 | MRR = 0.004291845493562232 | p_dims = [64, 128] \n",
            " 87%|████████▋ | 52/60 [27:29<04:31, 33.93s/it]\n",
            " BS_ = 300 | lr_ = 0.005 | n_epoch = 19| HR = 0.06866952789699571 | MRR = 0.02260031337284556 | p_dims = [200, 600] \n",
            " 88%|████████▊ | 53/60 [28:05<04:01, 34.57s/it]\n",
            " BS_ = 50 | lr_ = 0.5 | n_epoch = 19| HR = 0.004291845493562232 | MRR = 0.004291845493562232 | p_dims = [200, 600] \n",
            " 90%|█████████ | 54/60 [28:39<03:25, 34.28s/it]\n",
            " BS_ = 500 | lr_ = 0.5 | n_epoch = 19| HR = 0.004291845493562232 | MRR = 0.004291845493562232 | p_dims = [100, 300] \n",
            " 92%|█████████▏| 55/60 [29:26<03:10, 38.17s/it]\n",
            " BS_ = 500 | lr_ = 0.005 | n_epoch = 39| HR = 0.06437768240343347 | MRR = 0.016097826827440563 | p_dims = [100, 300] \n",
            " 93%|█████████▎| 56/60 [30:01<02:28, 37.23s/it]\n",
            " BS_ = 200 | lr_ = 1e-05 | n_epoch = 19| HR = 0.06437768240343347 | MRR = 0.019514272089379385 | p_dims = [200, 600] \n",
            " 95%|█████████▌| 57/60 [30:34<01:48, 36.15s/it]\n",
            " BS_ = 500 | lr_ = 0.1 | n_epoch = 19| HR = 0.004291845493562232 | MRR = 0.004291845493562232 | p_dims = [256, 512] \n",
            " 97%|█████████▋| 58/60 [31:00<01:05, 32.92s/it]\n",
            " BS_ = 200 | lr_ = 0.5 | n_epoch = 19| HR = 0.004291845493562232 | MRR = 0.004291845493562232 | p_dims = [100, 300] \n",
            " 98%|█████████▊| 59/60 [31:38<00:34, 34.42s/it]\n",
            " BS_ = 100 | lr_ = 0.5 | n_epoch = 39| HR = 0.034334763948497854 | MRR = 0.010949315348456978 | p_dims = [32, 64] \n",
            "100%|██████████| 60/60 [32:06<00:00, 32.10s/it]\n",
            " BS_ = 500 | lr_ = 0.001 | n_epoch = 19| HR = 0.05150214592274678 | MRR = 0.012296477961714014 | p_dims = [64, 128] \n",
            "\n",
            " Best_param; BS_ = 200 | lr_ = 1e-05 | n_epoch = 39 | HR = 0.06866952789699571 | MRR = 0.0216193201171742 | p_dims = [256, 512]\n",
            "\n"
          ],
          "name": "stderr"
        }
      ]
    },
    {
      "cell_type": "code",
      "metadata": {
        "id": "wzoTcDtzRP4T",
        "outputId": "68a8561f-0f8c-4a70-b544-8451615e35c9"
      },
      "source": [
        "#BS_ = 100 | lr_ = 0.001 | n_epoch = 50  | pdims =[200,600]\n",
        "#BS_ = 200 | lr_ = 0.001 | n_epoch = 100 | pdims =[200,600]\n",
        "print('BestParams_latest: BS_ = {}  | lr_ = {} | n_epoch = {} | p_dims = {} '.format(200, 1e-05, 39,[256, 512]))\n",
        "print()\n",
        "print('BestParams_1: BS_ = {}  | lr_ = {} | n_epoch = {} | p_dims = {} '.format(100, 1e-3, 50,  [64, 128]))\n",
        "print('BestParams_2: BS_ = {}  | lr_ = {} | n_epoch = {} | p_dims = {} '.format(100, 1e-3, 50, [200,600]))\n",
        "print('BestParams_3: BS_ = {}  | lr_ = {} | n_epoch = {} | p_dims = {} '.format(200, 1e-3, 100, [200,600]))\n",
        "\n",
        " "
      ],
      "execution_count": null,
      "outputs": [
        {
          "output_type": "stream",
          "text": [
            "BestParams_latest: BS_ = 200  | lr_ = 1e-05 | n_epoch = 39 | p_dims = [256, 512] \n",
            "\n",
            "BestParams_1: BS_ = 100  | lr_ = 0.001 | n_epoch = 50 | p_dims = [64, 128] \n",
            "BestParams_2: BS_ = 100  | lr_ = 0.001 | n_epoch = 50 | p_dims = [200, 600] \n",
            "BestParams_3: BS_ = 200  | lr_ = 0.001 | n_epoch = 100 | p_dims = [200, 600] \n"
          ],
          "name": "stdout"
        }
      ]
    },
    {
      "cell_type": "code",
      "metadata": {
        "id": "bkJj3KFcRP4U",
        "outputId": "3c81117a-26eb-493e-9ffe-0604f84a4f9c"
      },
      "source": [
        "#Best_param; BS_ = 200 | lr_ = 0.005 | n_epoch = 39 | HR = 0.07725321888412018 | MRR = 0.014476462974317051 | p_dims = [256, 512]\n",
        "#Best_param; BS_ = 200 | lr_ = 0.005 | n_epoch = 39 | p_dims = [200, 600]\n",
        "\n",
        "\n",
        "batch_size = 100\n",
        "anneal_cap = 0.2\n",
        "update_count = 0\n",
        "n_epochs =  50 \n",
        "constant_anneal = False\n",
        "VAEmodel_tst, optimizer = getVAEModel(TrainDFRatMat_ML,lr_=5e-03,p_dims=[256, 512])\n",
        "total_anneal_steps = getTot_annealSTeps(TrainDFRatMat_ML,batch_size,n_epochs,anneal_cap)\n",
        "#total_anneal_steps = 15000\n",
        "\n",
        "for epoch in tqdm(range(n_epochs)):\n",
        "    train_step(VAEmodel_tst, optimizer,TrainDFRatMat_ML, epoch) \n",
        "\n",
        "valid_ml = newHoldout_list[0]\n",
        "AllUserPRED, hr_, mrr_ = getmetrics_(VAEmodel_tst,TrainDFRatMat_ML,valid_ml,k=10)\n",
        "print()\n",
        "print(\"MRR   : \",mrr_)      "
      ],
      "execution_count": null,
      "outputs": [
        {
          "output_type": "stream",
          "text": [
            "100%|██████████| 50/50 [00:16<00:00,  2.98it/s]\n",
            "Number of hits:  10\n",
            "Total Num of users:  233\n",
            "Recommendation HitRate:  0.04291845493562232\n",
            "\n",
            "MRR   :  0.011891136998433137\n"
          ],
          "name": "stderr"
        }
      ]
    },
    {
      "cell_type": "code",
      "metadata": {
        "id": "II2JHsGWRP4V",
        "outputId": "3578782c-ce58-47ca-b6b4-f56fe5ed3704"
      },
      "source": [
        "#Best_param; BS_ = 200 | lr_ = 0.005 | n_epoch = 39 |\n",
        "valid_ml = newHoldout_list[0]\n",
        "AllUserPRED, hr_, mrr_ = getmetrics_(VAEmodel_tst,TrainDFRatMat_ML,valid_ml,k=10)\n",
        "print()\n",
        "print(\"MRR   : \",mrr_)   "
      ],
      "execution_count": null,
      "outputs": [
        {
          "output_type": "stream",
          "text": [
            "Number of hits:  16\n",
            "Total Num of users:  233\n",
            "Recommendation HitRate:  0.06866952789699571\n",
            "\n",
            "MRR   :  0.025202670481640436\n"
          ],
          "name": "stdout"
        }
      ]
    },
    {
      "cell_type": "code",
      "metadata": {
        "id": "LNNhOXJzRP4V"
      },
      "source": [
        "def findbest(batch_size,n_epochs,lr,p_dims):\n",
        "    anneal_cap = 0.2\n",
        "    update_count = 0\n",
        "    constant_anneal = False\n",
        "\n",
        "    total_anneal_steps = getTot_annealSTeps(TrainDFRatMat_ML,batch_size,n_epochs,anneal_cap)\n",
        "    VAEmodel_tst, optimizer = getVAEModel(TrainDFRatMat_ML,lr_=lr,p_dims=p_dims)\n",
        "\n",
        "    for epoch in tqdm(range(n_epochs)):\n",
        "        train_step(VAEmodel_tst, optimizer, TrainDFRatMat_ML, epoch)\n",
        "\n",
        "    holdout_df2 = newHoldout_list[0]  \n",
        "    AllUserPRED, hr_, mrr_ = getmetrics_(VAEmodel_tst,TrainDFRatMat_ML,holdout_df2,k=10)\n",
        "    print()\n",
        "    print(\"MRR   : \",mrr_)  "
      ],
      "execution_count": null,
      "outputs": []
    },
    {
      "cell_type": "code",
      "metadata": {
        "id": "nzs0KVZYRP4W",
        "outputId": "e32812e5-ffc8-43d6-c6c3-3bcbc4fe4faf"
      },
      "source": [
        "findbest(batch_size=200,n_epochs=100,lr=1e-03,p_dims=[200,600])   #[200, 1e-3, 100, [200,600]"
      ],
      "execution_count": null,
      "outputs": [
        {
          "output_type": "stream",
          "text": [
            "100%|██████████| 100/100 [00:20<00:00,  4.97it/s]\n",
            "Number of hits:  10\n",
            "Total Num of users:  233\n",
            "Recommendation HitRate:  0.04291845493562232\n",
            "\n",
            "MRR   :  0.013386470468015532\n"
          ],
          "name": "stderr"
        }
      ]
    },
    {
      "cell_type": "code",
      "metadata": {
        "id": "-hCtXNjORP4X",
        "outputId": "d45494d0-2e98-419a-d846-0a391eb2666f"
      },
      "source": [
        "findbest(batch_size=100,n_epochs=50,lr=1e-03,p_dims=[200,600])   # [100, 1e-3, 50, [200,600]"
      ],
      "execution_count": null,
      "outputs": [
        {
          "output_type": "stream",
          "text": [
            "100%|██████████| 50/50 [00:09<00:00,  5.05it/s]\n",
            "Number of hits:  15\n",
            "Total Num of users:  233\n",
            "Recommendation HitRate:  0.06437768240343347\n",
            "\n",
            "MRR   :  0.016295387969207712\n"
          ],
          "name": "stderr"
        }
      ]
    },
    {
      "cell_type": "code",
      "metadata": {
        "id": "1910LxcwRP4Y",
        "outputId": "b3e70e94-5257-468b-f81a-3cb5d838443a"
      },
      "source": [
        "findbest(batch_size=100,n_epochs=100,lr=1e-03,p_dims=[64, 128])    #[100, 1e-3, 50/100,  [64, 128]"
      ],
      "execution_count": null,
      "outputs": [
        {
          "output_type": "stream",
          "text": [
            "100%|██████████| 100/100 [00:18<00:00,  5.35it/s]\n",
            "Number of hits:  13\n",
            "Total Num of users:  233\n",
            "Recommendation HitRate:  0.055793991416309016\n",
            "\n",
            "MRR   :  0.01126950064718305\n"
          ],
          "name": "stderr"
        }
      ]
    },
    {
      "cell_type": "code",
      "metadata": {
        "id": "yvy1v2chRP4Y",
        "outputId": "b3e60bf4-d778-47b3-8571-bac7ddfdb8cb"
      },
      "source": [
        "findbest(batch_size=200,n_epochs=100,lr=1e-05,p_dims=[256, 512])    #[200, 1e-05, 100,[256, 512]"
      ],
      "execution_count": null,
      "outputs": [
        {
          "output_type": "stream",
          "text": [
            "100%|██████████| 100/100 [00:19<00:00,  5.17it/s]\n",
            "Number of hits:  15\n",
            "Total Num of users:  233\n",
            "Recommendation HitRate:  0.06437768240343347\n",
            "\n",
            "MRR   :  0.020290891750119215\n"
          ],
          "name": "stderr"
        }
      ]
    },
    {
      "cell_type": "code",
      "metadata": {
        "id": "IhiZJnQCRP4Z",
        "outputId": "920e3594-1f00-4f50-d634-33a409f7ba56"
      },
      "source": [
        "print('BestParams: BS_ = {}  | lr_ = {} | n_epoch = {} | p_dims = {} '.format(200, 1e-05, 100,[256, 512]))\n"
      ],
      "execution_count": null,
      "outputs": [
        {
          "output_type": "stream",
          "text": [
            "BestParams: BS_ = 200  | lr_ = 1e-05 | n_epoch = 100 | p_dims = [256, 512] \n"
          ],
          "name": "stdout"
        }
      ]
    },
    {
      "cell_type": "code",
      "metadata": {
        "id": "Ukd4W7fXRP4a"
      },
      "source": [
        ""
      ],
      "execution_count": null,
      "outputs": []
    },
    {
      "cell_type": "markdown",
      "metadata": {
        "id": "6_vQ4wmRb3Sy"
      },
      "source": [
        "## PredEval"
      ]
    },
    {
      "cell_type": "code",
      "metadata": {
        "id": "ZjkrHyyKRP4a"
      },
      "source": [
        "##All step Prediction Dimension"
      ],
      "execution_count": null,
      "outputs": []
    },
    {
      "cell_type": "code",
      "metadata": {
        "id": "gJ_TjW4YRP4b",
        "outputId": "05151950-e179-4bbd-ecbd-95c3fa73f33c"
      },
      "source": [
        "rows_i = newMLDF_1M['Updated_UserID'].nunique()\n",
        "cols_i = newMLDF_1M['Updated_ItemID'].nunique()\n",
        "UserItem_MATList = AllRatingMatrices(newUserItem_list,'Updated_UserID','Updated_ItemID',rows_i ,cols_i) \n",
        "print(len(UserItem_MATList))   \n",
        "UserItem_MATList"
      ],
      "execution_count": null,
      "outputs": [
        {
          "output_type": "stream",
          "text": [
            "10\n"
          ],
          "name": "stdout"
        },
        {
          "output_type": "execute_result",
          "data": {
            "text/plain": [
              "[<6038x3533 sparse matrix of type '<class 'numpy.float64'>'\n",
              " \twith 500332 stored elements in Compressed Sparse Row format>,\n",
              " <6038x3533 sparse matrix of type '<class 'numpy.float64'>'\n",
              " \twith 508812 stored elements in Compressed Sparse Row format>,\n",
              " <6038x3533 sparse matrix of type '<class 'numpy.float64'>'\n",
              " \twith 517278 stored elements in Compressed Sparse Row format>,\n",
              " <6038x3533 sparse matrix of type '<class 'numpy.float64'>'\n",
              " \twith 525757 stored elements in Compressed Sparse Row format>,\n",
              " <6038x3533 sparse matrix of type '<class 'numpy.float64'>'\n",
              " \twith 534098 stored elements in Compressed Sparse Row format>,\n",
              " <6038x3533 sparse matrix of type '<class 'numpy.float64'>'\n",
              " \twith 542538 stored elements in Compressed Sparse Row format>,\n",
              " <6038x3533 sparse matrix of type '<class 'numpy.float64'>'\n",
              " \twith 551048 stored elements in Compressed Sparse Row format>,\n",
              " <6038x3533 sparse matrix of type '<class 'numpy.float64'>'\n",
              " \twith 559597 stored elements in Compressed Sparse Row format>,\n",
              " <6038x3533 sparse matrix of type '<class 'numpy.float64'>'\n",
              " \twith 568114 stored elements in Compressed Sparse Row format>,\n",
              " <6038x3533 sparse matrix of type '<class 'numpy.float64'>'\n",
              " \twith 574919 stored elements in Compressed Sparse Row format>]"
            ]
          },
          "metadata": {
            "tags": []
          },
          "execution_count": 67
        }
      ]
    },
    {
      "cell_type": "code",
      "metadata": {
        "id": "uEFpXRDSbvvs"
      },
      "source": [
        ""
      ],
      "execution_count": null,
      "outputs": []
    },
    {
      "cell_type": "code",
      "metadata": {
        "id": "I1-xhD5VRP4D",
        "outputId": "ca9f4cc2-292a-49ea-f211-addda10caed7"
      },
      "source": [
        "#BS_ = 100 | lr_ = 0.001 | n_epoch = 100|[200,600]   ##fINAL RESULT TO BE USED (Thesis)\n",
        "hr10_List, mrr10_List, ALLUsersPredTST  = AllpredEval_2(UserItem_MATList,newHoldout_list,batch_size=100,n_epoch=100,lr_=1e-3,p_dims=[200,600])\n",
        "print(hr10_List)\n",
        "print(mrr10_List) "
      ],
      "execution_count": null,
      "outputs": [
        {
          "output_type": "stream",
          "text": [
            "1it [00:18, 18.44s/it]Number of hits:  15\n",
            "Total Num of users:  233\n",
            "Recommendation HitRate:  0.06437768240343347\n",
            "| HitRate  0.064 | Mrr 0.016 | \n",
            "2it [00:37, 18.82s/it]Number of hits:  18\n",
            "Total Num of users:  255\n",
            "Recommendation HitRate:  0.07058823529411765\n",
            "| HitRate  0.071 | Mrr 0.022 | \n",
            "3it [00:57, 19.52s/it]Number of hits:  31\n",
            "Total Num of users:  286\n",
            "Recommendation HitRate:  0.10839160839160839\n",
            "| HitRate  0.108 | Mrr 0.034 | \n",
            "4it [01:17, 19.60s/it]Number of hits:  25\n",
            "Total Num of users:  309\n",
            "Recommendation HitRate:  0.08090614886731391\n",
            "| HitRate  0.081 | Mrr 0.028 | \n",
            "5it [01:38, 19.94s/it]Number of hits:  22\n",
            "Total Num of users:  468\n",
            "Recommendation HitRate:  0.04700854700854701\n",
            "| HitRate  0.047 | Mrr 0.011 | \n",
            "6it [01:57, 19.67s/it]Number of hits:  27\n",
            "Total Num of users:  526\n",
            "Recommendation HitRate:  0.051330798479087454\n",
            "| HitRate  0.051 | Mrr 0.016 | \n",
            "7it [02:16, 19.60s/it]Number of hits:  34\n",
            "Total Num of users:  517\n",
            "Recommendation HitRate:  0.06576402321083172\n",
            "| HitRate  0.066 | Mrr 0.021 | \n",
            "8it [02:36, 19.70s/it]Number of hits:  25\n",
            "Total Num of users:  470\n",
            "Recommendation HitRate:  0.05319148936170213\n",
            "| HitRate  0.053 | Mrr 0.020 | \n",
            "9it [02:56, 19.83s/it]Number of hits:  30\n",
            "Total Num of users:  453\n",
            "Recommendation HitRate:  0.06622516556291391\n",
            "| HitRate  0.066 | Mrr 0.029 | \n",
            "10it [03:17, 19.74s/it]Number of hits:  18\n",
            "Total Num of users:  362\n",
            "Recommendation HitRate:  0.049723756906077346\n",
            "| HitRate  0.050 | Mrr 0.018 | \n",
            "[0.06437768240343347, 0.07058823529411765, 0.10839160839160839, 0.08090614886731391, 0.04700854700854701, 0.051330798479087454, 0.06576402321083172, 0.05319148936170213, 0.06622516556291391, 0.049723756906077346]\n",
            "[0.01640268410654677, 0.02237317149081855, 0.03447247197247197, 0.027857399702059894, 0.010845712929046264, 0.0155584223550003, 0.02118909459334991, 0.020008443093549478, 0.028510108973685132, 0.018212312549329125]\n",
            "\n"
          ],
          "name": "stderr"
        }
      ]
    },
    {
      "cell_type": "code",
      "metadata": {
        "id": "drv7cWVQRP4D",
        "outputId": "f45e7a17-f19b-4217-dbd8-30c6d032cb88"
      },
      "source": [
        "hr10_List"
      ],
      "execution_count": null,
      "outputs": [
        {
          "output_type": "execute_result",
          "data": {
            "text/plain": [
              "[0.06437768240343347,\n",
              " 0.07058823529411765,\n",
              " 0.10839160839160839,\n",
              " 0.08090614886731391,\n",
              " 0.04700854700854701,\n",
              " 0.051330798479087454,\n",
              " 0.06576402321083172,\n",
              " 0.05319148936170213,\n",
              " 0.06622516556291391,\n",
              " 0.049723756906077346]"
            ]
          },
          "metadata": {
            "tags": []
          },
          "execution_count": 79
        }
      ]
    },
    {
      "cell_type": "code",
      "metadata": {
        "id": "W92Mg3pFRP4E"
      },
      "source": [
        "MRR_list = [0.01640268410654677, 0.02237317149081855, 0.03447247197247197, 0.027857399702059894, 0.010845712929046264, 0.0155584223550003, 0.02118909459334991, 0.020008443093549478, 0.028510108973685132, 0.018212312549329125]"
      ],
      "execution_count": null,
      "outputs": []
    },
    {
      "cell_type": "code",
      "metadata": {
        "id": "7aDD28kkRP4F",
        "outputId": "f4aaba2e-674e-4d6a-eb97-5b7cdf529ea0"
      },
      "source": [
        "#BS_ = {}  | lr_ = {} | n_epoch = {} | p_dims = {} '.format(100, 1e-03, 100,[200,600]))\n",
        "CovList_1 = AllSteps_Coverage_Ratio(newMLDF_1M,ALLUsersPredTST,'Updated_ItemID')\n",
        "CovList_1"
      ],
      "execution_count": null,
      "outputs": [
        {
          "output_type": "execute_result",
          "data": {
            "text/plain": [
              "[0.539202,\n",
              " 0.529578,\n",
              " 0.534673,\n",
              " 0.527314,\n",
              " 0.523634,\n",
              " 0.543731,\n",
              " 0.541749,\n",
              " 0.538919,\n",
              " 0.529012,\n",
              " 0.536654]"
            ]
          },
          "metadata": {
            "tags": []
          },
          "execution_count": 80
        }
      ]
    },
    {
      "cell_type": "code",
      "metadata": {
        "id": "tVlGizkMRP4F",
        "outputId": "e033500c-c5ef-476b-8660-e12e329e368e"
      },
      "source": [
        "AllSteps = list(range(1,10))\n",
        "print(len(AllSteps))\n",
        "\n",
        "UpdtPSICorr_ = Updt_getAll_AvgCorr(ALLUsersPredTST,newUserItem_list,AllSteps,'Updated_UserID')  #,\n",
        "UpdtPSICorr_\n",
        "print(UpdtPSICorr_.shape)\n",
        "for df in UpdtPSICorr_:\n",
        "    print(df.mean())"
      ],
      "execution_count": null,
      "outputs": [
        {
          "output_type": "stream",
          "text": [
            "9\n",
            "(9,)\n",
            "0.3023582456790712\n",
            "0.30214255696918013\n",
            "0.3091562462585303\n",
            "0.30474573203702865\n",
            "0.30824468532561594\n",
            "0.30389999919732014\n",
            "0.30136914984019914\n",
            "0.3044112213227685\n",
            "0.30522822489712176\n"
          ],
          "name": "stdout"
        }
      ]
    },
    {
      "cell_type": "code",
      "metadata": {
        "id": "RTmonD6fbvkL"
      },
      "source": [
        ""
      ],
      "execution_count": null,
      "outputs": []
    },
    {
      "cell_type": "code",
      "metadata": {
        "id": "685S27QmbvVq"
      },
      "source": [
        ""
      ],
      "execution_count": null,
      "outputs": []
    },
    {
      "cell_type": "markdown",
      "metadata": {
        "id": "HFL2d28bNlyK"
      },
      "source": [
        "# Amazon_Bty"
      ]
    },
    {
      "cell_type": "code",
      "metadata": {
        "id": "-JwY4d-MRP41"
      },
      "source": [
        "newAMZB_DF = pd.read_csv('/mnt/bulky/oolaleke/TDM_Dataset/AMZ_Btyfiles/AMZB_afterUpdt.csv') "
      ],
      "execution_count": null,
      "outputs": []
    },
    {
      "cell_type": "code",
      "metadata": {
        "id": "aBnJBgH2RP42"
      },
      "source": [
        "\n",
        "with open('/mnt/bulky/oolaleke/TDM_Dataset/AMZ_Btyfiles/AMZB_newHoldout.pkl', 'rb') as f:\n",
        "     newHoldoutlist_amb = pickle.load(f)     \n",
        "    \n",
        "with open('/mnt/bulky/oolaleke/TDM_Dataset/AMZ_Btyfiles/AMZB_newUserItem.pkl', 'rb') as f:\n",
        "     newUserItemlist_amb = pickle.load(f)\n"
      ],
      "execution_count": null,
      "outputs": []
    },
    {
      "cell_type": "code",
      "metadata": {
        "id": "Yj7Kt9SZRP43",
        "outputId": "23021cb4-2a8d-49b8-a0b1-ae86f85728ab"
      },
      "source": [
        "rows_i = newAMZB_DF['Updated_UserID'].nunique()\n",
        "cols_i = newAMZB_DF['Updated_ItemID'].nunique()\n",
        "TrainDFRatMat_Bty =  SingleRatingMatrix(newUserItemlist_amb[0],'Updated_UserID','Updated_ItemID',rows_i,cols_i)\n",
        "TrainDFRatMat_Bty"
      ],
      "execution_count": null,
      "outputs": [
        {
          "output_type": "execute_result",
          "data": {
            "text/plain": [
              "<22557x8109 sparse matrix of type '<class 'numpy.float64'>'\n",
              "\twith 40228 stored elements in Compressed Sparse Row format>"
            ]
          },
          "metadata": {
            "tags": []
          },
          "execution_count": 22
        }
      ]
    },
    {
      "cell_type": "code",
      "metadata": {
        "id": "pxsl9HlqRP43",
        "outputId": "ccdb8d08-a1d1-43e9-91b0-9eab9e54e793"
      },
      "source": [
        "ValidDFRatMat_Bty =  SingleRatingMatrix(newHoldoutlist_amb[0],'Updated_UserID','Updated_ItemID',rows_i,cols_i)\n",
        "ValidDFRatMat_Bty"
      ],
      "execution_count": null,
      "outputs": [
        {
          "output_type": "execute_result",
          "data": {
            "text/plain": [
              "<22557x8109 sparse matrix of type '<class 'numpy.float64'>'\n",
              "\twith 474 stored elements in Compressed Sparse Row format>"
            ]
          },
          "metadata": {
            "tags": []
          },
          "execution_count": 23
        }
      ]
    },
    {
      "cell_type": "code",
      "metadata": {
        "id": "UsPTdhLoRP44",
        "outputId": "ab98c6d9-d37b-478c-bdf2-72c9d7db1bb6"
      },
      "source": [
        "#BS_ = 200 | lr_ = 0.001 | n_epoch = 100 | [200.600]\n",
        "batch_size = 200\n",
        "anneal_cap = 0.2\n",
        "update_count = 0\n",
        "n_epochs =  100 \n",
        "constant_anneal = False\n",
        "VAEmodel_tst, optimizer = getVAEModel(TrainDFRatMat_Bty,lr_=1e-03,p_dims=[200, 600])\n",
        "total_anneal_steps = getTot_annealSTeps(TrainDFRatMat_Bty,batch_size,n_epochs,anneal_cap)\n",
        "total_anneal_steps\n",
        "\n",
        "for epoch in tqdm(range(n_epochs)):\n",
        "    train_step(VAEmodel_tst, optimizer, TrainDFRatMat_Bty, epoch) "
      ],
      "execution_count": null,
      "outputs": [
        {
          "output_type": "stream",
          "text": [
            "100%|██████████| 100/100 [01:42<00:00,  1.02s/it]\n"
          ],
          "name": "stderr"
        }
      ]
    },
    {
      "cell_type": "code",
      "metadata": {
        "id": "WHeNFoy-RP45",
        "outputId": "cd381745-8908-4ad1-bce6-78e9c0c4e8c4"
      },
      "source": [
        "valid_bty = newHoldoutlist_amb[0]\n",
        "AllUserPRED, hr_, mrr_ = getmetrics_(VAEmodel_tst,TrainDFRatMat_Bty,valid_bty,k=10)\n",
        "print()\n",
        "print(\"MRR   : \",mrr_) "
      ],
      "execution_count": null,
      "outputs": [
        {
          "output_type": "stream",
          "text": [
            "Number of hits:  165\n",
            "Total Num of users:  474\n",
            "Recommendation HitRate:  0.34810126582278483\n",
            "\n",
            "MRR   :  0.3107829348335678\n"
          ],
          "name": "stdout"
        }
      ]
    },
    {
      "cell_type": "code",
      "metadata": {
        "id": "IWjlUDXNRP46"
      },
      "source": [
        ""
      ],
      "execution_count": null,
      "outputs": []
    },
    {
      "cell_type": "code",
      "metadata": {
        "id": "6oyrKwByRP46"
      },
      "source": [
        ""
      ],
      "execution_count": null,
      "outputs": []
    },
    {
      "cell_type": "markdown",
      "metadata": {
        "id": "HPDoypE0L3qU"
      },
      "source": [
        "## Tuning"
      ]
    },
    {
      "cell_type": "code",
      "metadata": {
        "id": "cjtfS11eRP49",
        "outputId": "b8de051e-197f-4a50-d2e1-dc6b884357d6"
      },
      "source": [
        "als_params = dict(batch_size = [50,100,200,300,500],\n",
        "                         lr_ = [1e-5,5e-3,1e-3,5e-1,1e-1],\n",
        "                      dims_i = [0,1,2,3,4,5] )\n",
        "\n",
        "als_param_grid, als_param_names = random_grid(als_params, n=60)\n",
        "print(als_param_names)\n",
        "len(als_param_grid)  "
      ],
      "execution_count": null,
      "outputs": [
        {
          "output_type": "stream",
          "text": [
            "('batch_size', 'lr_', 'dims_i')\n"
          ],
          "name": "stdout"
        },
        {
          "output_type": "execute_result",
          "data": {
            "text/plain": [
              "60"
            ]
          },
          "metadata": {
            "tags": []
          },
          "execution_count": 22
        }
      ]
    },
    {
      "cell_type": "code",
      "metadata": {
        "id": "LaeLEAAYRP4-",
        "outputId": "c053d835-b218-497c-d180-509ef642b881"
      },
      "source": [
        "pdim_list = [[32,64],[64,128],[256,512],[100,300],[200,600],[300,900]]\n",
        "for i in range(10):\n",
        "    batch_size, lr, dim_i = list(als_param_grid)[i]  \n",
        "    print(batch_size, lr, pdim_list[dim_i])   #"
      ],
      "execution_count": null,
      "outputs": [
        {
          "output_type": "stream",
          "text": [
            "100 0.5 [100, 300]\n",
            "500 0.001 [200, 600]\n",
            "100 0.1 [300, 900]\n",
            "100 1e-05 [200, 600]\n",
            "100 0.1 [256, 512]\n",
            "300 1e-05 [64, 128]\n",
            "50 0.1 [256, 512]\n",
            "300 1e-05 [200, 600]\n",
            "50 0.1 [300, 900]\n",
            "200 0.001 [64, 128]\n"
          ],
          "name": "stdout"
        }
      ]
    },
    {
      "cell_type": "code",
      "metadata": {
        "id": "KZIJjLDBRP4_"
      },
      "source": [
        "valid_bty = newHoldout_list[0]\n",
        "#valid_bty"
      ],
      "execution_count": null,
      "outputs": []
    },
    {
      "cell_type": "code",
      "metadata": {
        "id": "vOZBAyEwRP5A",
        "outputId": "004bd279-1260-4a28-8052-d9e423e9a1b7"
      },
      "source": [
        "anneal_cap = 0.2\n",
        "update_count = 0\n",
        "constant_anneal = False    \n",
        "valid_bty = newHoldout_list[0]\n",
        "               #TuningModel_2(train_Mat,holdout_df,pdim_list,als_param_grid,eval_every=20,n_epochs=200)\n",
        "bestModelInfo = TuningModel_2(TrainDFRatMat_Bty,valid_bty,pdim_list,als_param_grid,eval_every=20,n_epochs=200)       "
      ],
      "execution_count": null,
      "outputs": [
        {
          "output_type": "stream",
          "text": [
            "  2%|▏         | 1/60 [00:37<37:01, 37.66s/it]\n",
            " BS_ = 100 | lr_ = 0.5 | n_epoch = 19| HR = 0.0 | MRR = 0 | p_dims = [100, 300] \n",
            "  3%|▎         | 2/60 [02:10<1:07:53, 70.23s/it]\n",
            " BS_ = 500 | lr_ = 0.001 | n_epoch = 59| HR = 0.339662447257384 | MRR = 0.31038443506797936 | p_dims = [200, 600] \n",
            "  5%|▌         | 3/60 [03:01<58:17, 61.36s/it]  \n",
            " BS_ = 100 | lr_ = 0.1 | n_epoch = 19| HR = 0.0 | MRR = 0 | p_dims = [300, 900] \n",
            "  7%|▋         | 4/60 [04:08<59:31, 63.77s/it]\n",
            " BS_ = 100 | lr_ = 1e-05 | n_epoch = 39| HR = 0.1518987341772152 | MRR = 0.08611864577054451 | p_dims = [200, 600] \n",
            "  8%|▊         | 5/60 [04:48<50:25, 55.00s/it]\n",
            " BS_ = 100 | lr_ = 0.1 | n_epoch = 19| HR = 0.0 | MRR = 0 | p_dims = [256, 512] \n",
            " 10%|█         | 6/60 [05:45<50:15, 55.84s/it]\n",
            " BS_ = 300 | lr_ = 1e-05 | n_epoch = 39| HR = 0.15822784810126583 | MRR = 0.08662849105887081 | p_dims = [64, 128] \n",
            " 12%|█▏        | 7/60 [06:26<45:03, 51.00s/it]\n",
            " BS_ = 50 | lr_ = 0.1 | n_epoch = 19| HR = 0.0 | MRR = 0 | p_dims = [256, 512] \n",
            " 13%|█▎        | 8/60 [07:11<42:28, 49.01s/it]\n",
            " BS_ = 300 | lr_ = 1e-05 | n_epoch = 19| HR = 0.1518987341772152 | MRR = 0.08801821713214118 | p_dims = [200, 600] \n",
            " 15%|█▌        | 9/60 [08:03<42:17, 49.75s/it]\n",
            " BS_ = 50 | lr_ = 0.1 | n_epoch = 19| HR = 0.0 | MRR = 0 | p_dims = [300, 900] \n",
            " 17%|█▋        | 10/60 [09:17<47:42, 57.26s/it]\n",
            " BS_ = 200 | lr_ = 0.001 | n_epoch = 59| HR = 0.33122362869198313 | MRR = 0.3017781796262809 | p_dims = [64, 128] \n",
            " 18%|█▊        | 11/60 [10:56<57:21, 70.23s/it]\n",
            " BS_ = 50 | lr_ = 0.001 | n_epoch = 79| HR = 0.3438818565400844 | MRR = 0.30570708592860496 | p_dims = [64, 128] \n",
            " 20%|██        | 12/60 [11:43<50:34, 63.21s/it]\n",
            " BS_ = 50 | lr_ = 1e-05 | n_epoch = 19| HR = 0.1518987341772152 | MRR = 0.08668709396557499 | p_dims = [200, 600] \n",
            " 22%|██▏       | 13/60 [12:21<43:20, 55.33s/it]\n",
            " BS_ = 300 | lr_ = 0.5 | n_epoch = 19| HR = 0.0 | MRR = 0 | p_dims = [32, 64] \n",
            " 23%|██▎       | 14/60 [13:07<40:25, 52.73s/it]\n",
            " BS_ = 50 | lr_ = 0.001 | n_epoch = 19| HR = 0.33755274261603374 | MRR = 0.3010129931016007 | p_dims = [200, 600] \n",
            " 25%|██▌       | 15/60 [13:47<36:38, 48.86s/it]\n",
            " BS_ = 300 | lr_ = 0.005 | n_epoch = 19| HR = 0.33122362869198313 | MRR = 0.301377168307548 | p_dims = [32, 64] \n",
            " 27%|██▋       | 16/60 [14:24<33:16, 45.37s/it]\n",
            " BS_ = 50 | lr_ = 0.5 | n_epoch = 19| HR = 0.0 | MRR = 0 | p_dims = [32, 64] \n",
            " 28%|██▊       | 17/60 [15:21<34:55, 48.74s/it]\n",
            " BS_ = 200 | lr_ = 1e-05 | n_epoch = 39| HR = 0.1518987341772152 | MRR = 0.08657825999598151 | p_dims = [32, 64] \n",
            " 30%|███       | 18/60 [16:03<32:37, 46.62s/it]\n",
            " BS_ = 200 | lr_ = 1e-05 | n_epoch = 19| HR = 0.16244725738396623 | MRR = 0.088314580403188 | p_dims = [100, 300] \n",
            " 32%|███▏      | 19/60 [16:44<30:49, 45.12s/it]\n",
            " BS_ = 500 | lr_ = 0.5 | n_epoch = 19| HR = 0.0 | MRR = 0 | p_dims = [256, 512] \n",
            " 33%|███▎      | 20/60 [18:24<40:57, 61.43s/it]\n",
            " BS_ = 300 | lr_ = 0.001 | n_epoch = 79| HR = 0.33755274261603374 | MRR = 0.3049192954256245 | p_dims = [64, 128] \n",
            " 35%|███▌      | 21/60 [19:56<45:49, 70.51s/it]\n",
            " BS_ = 300 | lr_ = 0.001 | n_epoch = 59| HR = 0.339662447257384 | MRR = 0.3097188734846963 | p_dims = [200, 600] \n",
            " 37%|███▋      | 22/60 [20:46<40:53, 64.58s/it]\n",
            " BS_ = 100 | lr_ = 0.5 | n_epoch = 19| HR = 0.0 | MRR = 0 | p_dims = [300, 900] \n",
            " 38%|███▊      | 23/60 [23:01<52:52, 85.75s/it]\n",
            " BS_ = 500 | lr_ = 0.001 | n_epoch = 119| HR = 0.33122362869198313 | MRR = 0.3003767329716696 | p_dims = [32, 64] \n",
            " 40%|████      | 24/60 [23:41<43:10, 71.96s/it]\n",
            " BS_ = 100 | lr_ = 1e-05 | n_epoch = 19| HR = 0.1518987341772152 | MRR = 0.08511486169714019 | p_dims = [100, 300] \n",
            " 42%|████▏     | 25/60 [24:40<39:36, 67.91s/it]\n",
            " BS_ = 100 | lr_ = 0.1 | n_epoch = 39| HR = 0.20042194092827004 | MRR = 0.13920367021632846 | p_dims = [64, 128] \n",
            " 43%|████▎     | 26/60 [25:46<38:13, 67.44s/it]\n",
            " BS_ = 50 | lr_ = 0.005 | n_epoch = 39| HR = 0.32489451476793246 | MRR = 0.29584756546781865 | p_dims = [256, 512] \n",
            " 45%|████▌     | 27/60 [26:26<32:30, 59.10s/it]\n",
            " BS_ = 300 | lr_ = 0.1 | n_epoch = 19| HR = 0.20253164556962025 | MRR = 0.1377067845422276 | p_dims = [64, 128] \n",
            " 47%|████▋     | 28/60 [27:05<28:23, 53.24s/it]\n",
            " BS_ = 300 | lr_ = 1e-05 | n_epoch = 19| HR = 0.16455696202531644 | MRR = 0.08805840198245263 | p_dims = [100, 300] \n",
            " 48%|████▊     | 29/60 [27:46<25:34, 49.51s/it]\n",
            " BS_ = 50 | lr_ = 1e-05 | n_epoch = 19| HR = 0.1518987341772152 | MRR = 0.08795040519724064 | p_dims = [100, 300] \n",
            " 50%|█████     | 30/60 [28:30<23:52, 47.75s/it]\n",
            " BS_ = 500 | lr_ = 1e-05 | n_epoch = 19| HR = 0.1518987341772152 | MRR = 0.08693322617373249 | p_dims = [256, 512] \n",
            " 52%|█████▏    | 31/60 [29:14<22:39, 46.87s/it]\n",
            " BS_ = 100 | lr_ = 0.005 | n_epoch = 19| HR = 0.3227848101265823 | MRR = 0.3012825664724399 | p_dims = [256, 512] \n",
            " 53%|█████▎    | 32/60 [30:08<22:51, 48.98s/it]\n",
            " BS_ = 500 | lr_ = 1e-05 | n_epoch = 19| HR = 0.1518987341772152 | MRR = 0.08788426763110307 | p_dims = [300, 900] \n",
            " 55%|█████▌    | 33/60 [31:48<28:49, 64.07s/it]\n",
            " BS_ = 50 | lr_ = 0.001 | n_epoch = 79| HR = 0.31645569620253167 | MRR = 0.28631287254704973 | p_dims = [32, 64] \n",
            " 57%|█████▋    | 34/60 [33:10<30:06, 69.48s/it]\n",
            " BS_ = 100 | lr_ = 0.005 | n_epoch = 39| HR = 0.3059071729957806 | MRR = 0.2783838992699752 | p_dims = [300, 900] \n",
            " 58%|█████▊    | 35/60 [33:51<25:22, 60.91s/it]\n",
            " BS_ = 50 | lr_ = 0.5 | n_epoch = 19| HR = 0.0 | MRR = 0 | p_dims = [256, 512] \n",
            " 60%|██████    | 36/60 [34:45<23:35, 58.98s/it]\n",
            " BS_ = 300 | lr_ = 0.005 | n_epoch = 19| HR = 0.3206751054852321 | MRR = 0.2908194360726006 | p_dims = [300, 900] \n",
            " 62%|██████▏   | 37/60 [35:36<21:39, 56.49s/it]\n",
            " BS_ = 50 | lr_ = 0.5 | n_epoch = 19| HR = 0.0 | MRR = 0 | p_dims = [300, 900] \n",
            " 63%|██████▎   | 38/60 [36:18<19:08, 52.18s/it]\n",
            " BS_ = 500 | lr_ = 0.5 | n_epoch = 19| HR = 0.0 | MRR = 0 | p_dims = [200, 600] \n",
            " 65%|██████▌   | 39/60 [36:55<16:39, 47.58s/it]\n",
            " BS_ = 100 | lr_ = 0.5 | n_epoch = 19| HR = 0.0 | MRR = 0 | p_dims = [64, 128] \n",
            " 67%|██████▋   | 40/60 [38:12<18:50, 56.51s/it]\n",
            " BS_ = 300 | lr_ = 0.001 | n_epoch = 59| HR = 0.33755274261603374 | MRR = 0.3094760900140647 | p_dims = [100, 300] \n",
            " 68%|██████▊   | 41/60 [38:57<16:45, 52.94s/it]\n",
            " BS_ = 200 | lr_ = 0.5 | n_epoch = 19| HR = 0.0 | MRR = 0 | p_dims = [200, 600] \n",
            " 70%|███████   | 42/60 [39:36<14:36, 48.72s/it]\n",
            " BS_ = 100 | lr_ = 0.1 | n_epoch = 19| HR = 0.20042194092827004 | MRR = 0.1757961623467952 | p_dims = [32, 64] \n",
            " 72%|███████▏  | 43/60 [40:52<16:10, 57.10s/it]\n",
            " BS_ = 500 | lr_ = 0.001 | n_epoch = 39| HR = 0.33544303797468356 | MRR = 0.3029887482419128 | p_dims = [300, 900] \n",
            " 73%|███████▎  | 44/60 [41:38<14:17, 53.57s/it]\n",
            " BS_ = 50 | lr_ = 0.005 | n_epoch = 19| HR = 0.3227848101265823 | MRR = 0.29638671220949697 | p_dims = [200, 600] \n",
            " 75%|███████▌  | 45/60 [42:15<12:11, 48.75s/it]\n",
            " BS_ = 300 | lr_ = 0.1 | n_epoch = 19| HR = 0.0 | MRR = 0 | p_dims = [100, 300] \n",
            " 77%|███████▋  | 46/60 [43:19<12:24, 53.16s/it]\n",
            " BS_ = 200 | lr_ = 0.001 | n_epoch = 39| HR = 0.34177215189873417 | MRR = 0.3117314647377939 | p_dims = [256, 512] \n",
            " 78%|███████▊  | 47/60 [44:01<10:50, 50.04s/it]\n",
            " BS_ = 300 | lr_ = 1e-05 | n_epoch = 19| HR = 0.1518987341772152 | MRR = 0.08666951309356372 | p_dims = [256, 512] \n",
            " 80%|████████  | 48/60 [44:37<09:09, 45.81s/it]\n",
            " BS_ = 100 | lr_ = 0.005 | n_epoch = 19| HR = 0.34177215189873417 | MRR = 0.31041875962762033 | p_dims = [64, 128] \n",
            " 82%|████████▏ | 49/60 [45:30<08:45, 47.80s/it]\n",
            " BS_ = 300 | lr_ = 1e-05 | n_epoch = 19| HR = 0.1518987341772152 | MRR = 0.08658160873350747 | p_dims = [300, 900] \n",
            " 83%|████████▎ | 50/60 [46:23<08:13, 49.34s/it]\n",
            " BS_ = 200 | lr_ = 0.001 | n_epoch = 19| HR = 0.3291139240506329 | MRR = 0.3010339227111379 | p_dims = [300, 900] \n",
            " 85%|████████▌ | 51/60 [47:08<07:12, 48.03s/it]\n",
            " BS_ = 500 | lr_ = 1e-05 | n_epoch = 19| HR = 0.1518987341772152 | MRR = 0.08706885004353358 | p_dims = [200, 600] \n",
            " 87%|████████▋ | 52/60 [48:00<06:34, 49.29s/it]\n",
            " BS_ = 50 | lr_ = 1e-05 | n_epoch = 19| HR = 0.1518987341772152 | MRR = 0.08694829549259929 | p_dims = [300, 900] \n",
            " 88%|████████▊ | 53/60 [48:36<05:16, 45.27s/it]\n",
            " BS_ = 500 | lr_ = 0.5 | n_epoch = 19| HR = 0.0 | MRR = 0 | p_dims = [32, 64] \n",
            " 90%|█████████ | 54/60 [49:16<04:22, 43.76s/it]\n",
            " BS_ = 200 | lr_ = 0.1 | n_epoch = 19| HR = 0.0 | MRR = 0 | p_dims = [256, 512] \n",
            " 92%|█████████▏| 55/60 [51:28<05:51, 70.30s/it]\n",
            " BS_ = 100 | lr_ = 0.001 | n_epoch = 79| HR = 0.3459915611814346 | MRR = 0.3179115598419396 | p_dims = [300, 900] \n",
            " 93%|█████████▎| 56/60 [52:26<04:26, 66.56s/it]\n",
            " BS_ = 500 | lr_ = 0.005 | n_epoch = 39| HR = 0.339662447257384 | MRR = 0.31223210099792376 | p_dims = [100, 300] \n",
            " 95%|█████████▌| 57/60 [53:10<02:59, 59.91s/it]\n",
            " BS_ = 200 | lr_ = 1e-05 | n_epoch = 19| HR = 0.1518987341772152 | MRR = 0.08625510682472708 | p_dims = [200, 600] \n",
            " 97%|█████████▋| 58/60 [53:51<01:48, 54.16s/it]\n",
            " BS_ = 500 | lr_ = 0.1 | n_epoch = 19| HR = 0.0 | MRR = 0 | p_dims = [256, 512] \n",
            " 98%|█████████▊| 59/60 [54:50<00:55, 55.44s/it]\n",
            " BS_ = 200 | lr_ = 0.005 | n_epoch = 39| HR = 0.33544303797468356 | MRR = 0.3011770812403724 | p_dims = [32, 64] \n",
            "100%|██████████| 60/60 [56:17<00:00, 56.29s/it]\n",
            " BS_ = 500 | lr_ = 0.001 | n_epoch = 79| HR = 0.339662447257384 | MRR = 0.3056375996249414 | p_dims = [64, 128] \n",
            "\n",
            " Best_param; BS_ = 100 | lr_ = 0.001 | n_epoch = 79 | HR = 0.3459915611814346 | MRR = 0.3179115598419396 | p_dims = [300, 900]\n",
            "\n"
          ],
          "name": "stderr"
        }
      ]
    },
    {
      "cell_type": "code",
      "metadata": {
        "id": "P0hbTiO7RP5B",
        "outputId": "1e1d2696-6ae3-4d32-f887-6b1158dbe53d"
      },
      "source": [
        "print('BestParams_latest: BS_ = {}  | lr_ = {} | n_epoch = {} | p_dims = {} '.format(100, 1e-03, 80,[300, 900]))\n",
        "print(\"Previous Sets\")\n",
        "print('BestParams_1: BS_ = {}  | lr_ = {} | n_epoch = {} | p_dims = {} '.format(100, 1e-3, 200,  [200, 600]))\n",
        "print('BestParams_2: BS_ = {}  | lr_ = {} | n_epoch = {} | p_dims = {} '.format(200, 1e-3, 100, [200,600]))\n"
      ],
      "execution_count": null,
      "outputs": [
        {
          "output_type": "stream",
          "text": [
            "BestParams_latest: BS_ = 100  | lr_ = 0.001 | n_epoch = 80 | p_dims = [300, 900] \n",
            "Previous Sets\n",
            "BestParams_1: BS_ = 100  | lr_ = 0.001 | n_epoch = 200 | p_dims = [200, 600] \n",
            "BestParams_2: BS_ = 200  | lr_ = 0.001 | n_epoch = 100 | p_dims = [200, 600] \n"
          ],
          "name": "stdout"
        }
      ]
    },
    {
      "cell_type": "code",
      "metadata": {
        "id": "8STHj_8yRP5C",
        "outputId": "5cd379bf-bd98-4623-9590-0fd50d9e0f6e"
      },
      "source": [
        "#BS_ = 100 | lr_ = 0.001 | n_epoch = 80 | [300,900]\n",
        "batch_size = 100\n",
        "anneal_cap = 0.2\n",
        "update_count = 0\n",
        "n_epochs =  80 \n",
        "constant_anneal = False\n",
        "VAEmodel_tst, optimizer = getVAEModel(TrainDFRatMat_Bty,lr_=1e-03,p_dims=[300, 900])\n",
        "total_anneal_steps = getTot_annealSTeps(TrainDFRatMat_Bty,batch_size,n_epochs,anneal_cap)\n",
        "total_anneal_steps\n",
        "\n",
        "for epoch in tqdm(range(n_epochs)):\n",
        "    train_step(VAEmodel_tst, optimizer, TrainDFRatMat_Bty, epoch)     \n"
      ],
      "execution_count": null,
      "outputs": [
        {
          "output_type": "stream",
          "text": [
            "100%|██████████| 80/80 [02:46<00:00,  2.08s/it]\n"
          ],
          "name": "stderr"
        }
      ]
    },
    {
      "cell_type": "code",
      "metadata": {
        "id": "aQ2O_FisRP5E",
        "outputId": "e67150df-6326-4bc6-f02d-50edae522b7f"
      },
      "source": [
        "valid_bty = newHoldout_list[0]\n",
        "AllUserPRED, hr_, mrr_ = getmetrics_(VAEmodel_tst,TrainDFRatMat_Bty,valid_bty,k=10)\n",
        "print()\n",
        "print(\"MRR   : \",mrr_) "
      ],
      "execution_count": null,
      "outputs": [
        {
          "output_type": "stream",
          "text": [
            "Number of hits:  166\n",
            "Total Num of users:  474\n",
            "Recommendation HitRate:  0.350210970464135\n",
            "\n",
            "MRR   :  0.3129102203469292\n"
          ],
          "name": "stdout"
        }
      ]
    },
    {
      "cell_type": "code",
      "metadata": {
        "id": "9C_jyHdfRP5F",
        "outputId": "bd27e4cb-a243-44bc-c6d6-480491b654d0"
      },
      "source": [
        "rows_i = newAMZB_DF['Updated_UserID'].nunique()\n",
        "cols_i = newAMZB_DF['Updated_ItemID'].nunique()\n",
        "\n",
        "UserItemMATList_amb = AllRatingMatrices(newUserItemlist_amb,'Updated_UserID','Updated_ItemID',rows_i ,cols_i) \n",
        "print(len(UserItemMATList_amb))   \n",
        "UserItemMATList_amb"
      ],
      "execution_count": null,
      "outputs": [
        {
          "output_type": "stream",
          "text": [
            "10\n"
          ],
          "name": "stdout"
        },
        {
          "output_type": "execute_result",
          "data": {
            "text/plain": [
              "[<22557x8109 sparse matrix of type '<class 'numpy.float64'>'\n",
              " \twith 40228 stored elements in Compressed Sparse Row format>,\n",
              " <22557x8109 sparse matrix of type '<class 'numpy.float64'>'\n",
              " \twith 41330 stored elements in Compressed Sparse Row format>,\n",
              " <22557x8109 sparse matrix of type '<class 'numpy.float64'>'\n",
              " \twith 42432 stored elements in Compressed Sparse Row format>,\n",
              " <22557x8109 sparse matrix of type '<class 'numpy.float64'>'\n",
              " \twith 43525 stored elements in Compressed Sparse Row format>,\n",
              " <22557x8109 sparse matrix of type '<class 'numpy.float64'>'\n",
              " \twith 44665 stored elements in Compressed Sparse Row format>,\n",
              " <22557x8109 sparse matrix of type '<class 'numpy.float64'>'\n",
              " \twith 45752 stored elements in Compressed Sparse Row format>,\n",
              " <22557x8109 sparse matrix of type '<class 'numpy.float64'>'\n",
              " \twith 47034 stored elements in Compressed Sparse Row format>,\n",
              " <22557x8109 sparse matrix of type '<class 'numpy.float64'>'\n",
              " \twith 48112 stored elements in Compressed Sparse Row format>,\n",
              " <22557x8109 sparse matrix of type '<class 'numpy.float64'>'\n",
              " \twith 49321 stored elements in Compressed Sparse Row format>,\n",
              " <22557x8109 sparse matrix of type '<class 'numpy.float64'>'\n",
              " \twith 50337 stored elements in Compressed Sparse Row format>]"
            ]
          },
          "metadata": {
            "tags": []
          },
          "execution_count": 19
        }
      ]
    },
    {
      "cell_type": "code",
      "metadata": {
        "id": "wiR9kHDxiCT7"
      },
      "source": [
        ""
      ],
      "execution_count": null,
      "outputs": []
    },
    {
      "cell_type": "markdown",
      "metadata": {
        "id": "hl6gBCtgdtKY"
      },
      "source": [
        "## PredEval"
      ]
    },
    {
      "cell_type": "code",
      "metadata": {
        "id": "G6yYMWSYRP5R"
      },
      "source": [
        ""
      ],
      "execution_count": null,
      "outputs": []
    },
    {
      "cell_type": "code",
      "metadata": {
        "id": "TE6jd7FxRP5R",
        "outputId": "15f6bb67-31cf-4b10-be37-eee327f15de2"
      },
      "source": [
        "#BS_ = 100 | lr_ = 0.001 | n_epoch = 80 | p_dims = [300, 900]  #\n",
        "hr10_List, mrr10_List, ALLUsersPredBty  = AllpredEval_2(UserItemMATList_amb,newHoldoutlist_amb,batch_size=100,n_epoch=80,lr_=1e-3,p_dims=[300,900])"
      ],
      "execution_count": null,
      "outputs": [
        {
          "output_type": "stream",
          "text": [
            "1it [01:39, 99.38s/it]Number of hits:  160\n",
            "Total Num of users:  474\n",
            "Recommendation HitRate:  0.33755274261603374\n",
            "| HitRate  0.338 | Mrr 0.312 | \n",
            "2it [03:18, 99.30s/it]Number of hits:  171\n",
            "Total Num of users:  433\n",
            "Recommendation HitRate:  0.394919168591224\n",
            "| HitRate  0.395 | Mrr 0.368 | \n",
            "3it [04:57, 99.21s/it]Number of hits:  192\n",
            "Total Num of users:  465\n",
            "Recommendation HitRate:  0.4129032258064516\n",
            "| HitRate  0.413 | Mrr 0.367 | \n",
            "4it [06:37, 99.47s/it]Number of hits:  180\n",
            "Total Num of users:  478\n",
            "Recommendation HitRate:  0.37656903765690375\n",
            "| HitRate  0.377 | Mrr 0.348 | \n",
            "5it [08:17, 99.69s/it]Number of hits:  167\n",
            "Total Num of users:  478\n",
            "Recommendation HitRate:  0.3493723849372385\n",
            "| HitRate  0.349 | Mrr 0.317 | \n",
            "6it [09:57, 99.74s/it]Number of hits:  167\n",
            "Total Num of users:  508\n",
            "Recommendation HitRate:  0.328740157480315\n",
            "| HitRate  0.329 | Mrr 0.291 | \n",
            "7it [11:38, 100.16s/it]Number of hits:  301\n",
            "Total Num of users:  612\n",
            "Recommendation HitRate:  0.4918300653594771\n",
            "| HitRate  0.492 | Mrr 0.329 | \n",
            "8it [13:19, 100.45s/it]Number of hits:  241\n",
            "Total Num of users:  599\n",
            "Recommendation HitRate:  0.4023372287145242\n",
            "| HitRate  0.402 | Mrr 0.331 | \n",
            "9it [14:59, 100.39s/it]Number of hits:  206\n",
            "Total Num of users:  536\n",
            "Recommendation HitRate:  0.3843283582089552\n",
            "| HitRate  0.384 | Mrr 0.332 | \n",
            "10it [16:40, 100.03s/it]Number of hits:  121\n",
            "Total Num of users:  425\n",
            "Recommendation HitRate:  0.2847058823529412\n",
            "| HitRate  0.285 | Mrr 0.214 | \n",
            "\n"
          ],
          "name": "stderr"
        }
      ]
    },
    {
      "cell_type": "code",
      "metadata": {
        "id": "ZzmGeWDBRP5S",
        "outputId": "7ab67439-8b14-48ad-df41-0c38f1cda564"
      },
      "source": [
        "hr10_List"
      ],
      "execution_count": null,
      "outputs": [
        {
          "output_type": "execute_result",
          "data": {
            "text/plain": [
              "[0.33755274261603374,\n",
              " 0.394919168591224,\n",
              " 0.4129032258064516,\n",
              " 0.37656903765690375,\n",
              " 0.3493723849372385,\n",
              " 0.328740157480315,\n",
              " 0.4918300653594771,\n",
              " 0.4023372287145242,\n",
              " 0.3843283582089552,\n",
              " 0.2847058823529412]"
            ]
          },
          "metadata": {
            "tags": []
          },
          "execution_count": 88
        }
      ]
    },
    {
      "cell_type": "code",
      "metadata": {
        "id": "8TZChbvBRP5T",
        "outputId": "85b312a8-da70-4c7a-bbec-a6171d67efdc"
      },
      "source": [
        "mrr10_List"
      ],
      "execution_count": null,
      "outputs": [
        {
          "output_type": "execute_result",
          "data": {
            "text/plain": [
              "[0.31162346795258195,\n",
              " 0.36823105685692287,\n",
              " 0.36662143710530803,\n",
              " 0.3476522547652255,\n",
              " 0.3167596466759646,\n",
              " 0.29117610298712665,\n",
              " 0.32900586160390083,\n",
              " 0.33142539152555844,\n",
              " 0.332130271262734,\n",
              " 0.2141923436041083]"
            ]
          },
          "metadata": {
            "tags": []
          },
          "execution_count": 89
        }
      ]
    },
    {
      "cell_type": "code",
      "metadata": {
        "id": "BTm4Pe8-RP5T",
        "outputId": "0a92f093-fd63-4ef5-90a0-562e9aff6d47"
      },
      "source": [
        "CovList_bty = AllSteps_Coverage_Ratio(newAMZB_DF,ALLUsersPredBty,'Updated_ItemID')\n",
        "CovList_bty"
      ],
      "execution_count": null,
      "outputs": [
        {
          "output_type": "execute_result",
          "data": {
            "text/plain": [
              "[0.673573,\n",
              " 0.703046,\n",
              " 0.728573,\n",
              " 0.759773,\n",
              " 0.797632,\n",
              " 0.817487,\n",
              " 0.847453,\n",
              " 0.85288,\n",
              " 0.874584,\n",
              " 0.90899]"
            ]
          },
          "metadata": {
            "tags": []
          },
          "execution_count": 115
        }
      ]
    },
    {
      "cell_type": "code",
      "metadata": {
        "id": "cS5bxYxkRP5U",
        "outputId": "a545baf9-75b4-4d47-83a0-d00a87c45199"
      },
      "source": [
        "AllSteps = list(range(1,10))\n",
        "\n",
        "UpdtPSICorr_ = Updt_getAll_AvgCorr(ALLUsersPredBty,newUserItemlist_amb,AllSteps,'Updated_UserID')  #,\n",
        "print(UpdtPSICorr_.shape)\n",
        "for df in UpdtPSICorr_:\n",
        "    print(df.mean())  "
      ],
      "execution_count": null,
      "outputs": [
        {
          "output_type": "stream",
          "text": [
            "(9,)\n",
            "0.31377638938832686\n",
            "0.3637656448840618\n",
            "0.30750119986459723\n",
            "0.2907014606113554\n",
            "0.3510674863994579\n",
            "0.37129889861740684\n",
            "0.3950800734468571\n",
            "0.34481981281393803\n",
            "0.3829175644964863\n"
          ],
          "name": "stdout"
        }
      ]
    },
    {
      "cell_type": "code",
      "metadata": {
        "id": "QZ5KfwqfRP5V"
      },
      "source": [
        "with open('/mnt/bulky/oolaleke/TDM_Dataset/AMZ_Btyfiles/AMZB_VAE_AllPRED_new.pkl', 'wb') as f: \n",
        "     pickle.dump(ALLUsersPredBty, f)"
      ],
      "execution_count": null,
      "outputs": []
    },
    {
      "cell_type": "code",
      "metadata": {
        "id": "S4E5NIwdRP5W"
      },
      "source": [
        ""
      ],
      "execution_count": null,
      "outputs": []
    },
    {
      "cell_type": "code",
      "metadata": {
        "id": "HgJD9tzPRP5W"
      },
      "source": [
        ""
      ],
      "execution_count": null,
      "outputs": []
    },
    {
      "cell_type": "markdown",
      "metadata": {
        "id": "1widyaS-hyAp"
      },
      "source": [
        "## Test Coverage"
      ]
    },
    {
      "cell_type": "code",
      "metadata": {
        "id": "v8g6RLNaRP5F"
      },
      "source": [
        "#Test with single Mat\n",
        "sameMat_List = [UserItemMATList_amb[0]]*10\n",
        "tstMATsame_List = [newHoldoutlist_amb[0]]*10\n",
        "sameMat_List"
      ],
      "execution_count": null,
      "outputs": []
    },
    {
      "cell_type": "code",
      "metadata": {
        "id": "A0nB11rvRP5G",
        "outputId": "939070e7-b71e-4ee9-b28b-098709594a0a"
      },
      "source": [
        "#Test with single Mat\n",
        "sameMat_List = [UserItemMATList_amb[0]]*10\n",
        "tstMATsame_List = [newHoldoutlist_amb[0]]*10\n",
        "sameMat_List"
      ],
      "execution_count": null,
      "outputs": [
        {
          "output_type": "execute_result",
          "data": {
            "text/plain": [
              "[<22557x8109 sparse matrix of type '<class 'numpy.float64'>'\n",
              " \twith 40228 stored elements in Compressed Sparse Row format>,\n",
              " <22557x8109 sparse matrix of type '<class 'numpy.float64'>'\n",
              " \twith 40228 stored elements in Compressed Sparse Row format>,\n",
              " <22557x8109 sparse matrix of type '<class 'numpy.float64'>'\n",
              " \twith 40228 stored elements in Compressed Sparse Row format>,\n",
              " <22557x8109 sparse matrix of type '<class 'numpy.float64'>'\n",
              " \twith 40228 stored elements in Compressed Sparse Row format>,\n",
              " <22557x8109 sparse matrix of type '<class 'numpy.float64'>'\n",
              " \twith 40228 stored elements in Compressed Sparse Row format>,\n",
              " <22557x8109 sparse matrix of type '<class 'numpy.float64'>'\n",
              " \twith 40228 stored elements in Compressed Sparse Row format>,\n",
              " <22557x8109 sparse matrix of type '<class 'numpy.float64'>'\n",
              " \twith 40228 stored elements in Compressed Sparse Row format>,\n",
              " <22557x8109 sparse matrix of type '<class 'numpy.float64'>'\n",
              " \twith 40228 stored elements in Compressed Sparse Row format>,\n",
              " <22557x8109 sparse matrix of type '<class 'numpy.float64'>'\n",
              " \twith 40228 stored elements in Compressed Sparse Row format>,\n",
              " <22557x8109 sparse matrix of type '<class 'numpy.float64'>'\n",
              " \twith 40228 stored elements in Compressed Sparse Row format>]"
            ]
          },
          "metadata": {
            "tags": []
          },
          "execution_count": 101
        }
      ]
    },
    {
      "cell_type": "code",
      "metadata": {
        "id": "HFo4AFoxRP5H",
        "outputId": "0277f789-b5dc-4776-f883-67840a455577"
      },
      "source": [
        "#BS_ = 100 | lr_ = 0.001 | n_epoch = 80 | p_dims = [300, 900]  ##test with singleMAT\n",
        "hr10_tst, mrr10_tst, AllUsrsPred_tst  = AllpredEval_2(sameMat_List,tstMATsame_List,batch_size=100,n_epoch=80,lr_=1e-3,p_dims=[300,900])"
      ],
      "execution_count": null,
      "outputs": [
        {
          "output_type": "stream",
          "text": [
            "1it [01:39, 99.54s/it]Number of hits:  160\n",
            "Total Num of users:  474\n",
            "Recommendation HitRate:  0.33755274261603374\n",
            "| HitRate  0.338 | Mrr 0.311 | \n",
            "2it [03:19, 99.63s/it]Number of hits:  161\n",
            "Total Num of users:  474\n",
            "Recommendation HitRate:  0.339662447257384\n",
            "| HitRate  0.340 | Mrr 0.305 | \n",
            "3it [04:58, 99.65s/it]Number of hits:  159\n",
            "Total Num of users:  474\n",
            "Recommendation HitRate:  0.33544303797468356\n",
            "| HitRate  0.335 | Mrr 0.310 | \n",
            "4it [06:39, 100.09s/it]Number of hits:  163\n",
            "Total Num of users:  474\n",
            "Recommendation HitRate:  0.3438818565400844\n",
            "| HitRate  0.344 | Mrr 0.313 | \n",
            "5it [08:19, 100.06s/it]Number of hits:  159\n",
            "Total Num of users:  474\n",
            "Recommendation HitRate:  0.33544303797468356\n",
            "| HitRate  0.335 | Mrr 0.309 | \n",
            "6it [09:58, 99.70s/it] Number of hits:  157\n",
            "Total Num of users:  474\n",
            "Recommendation HitRate:  0.33122362869198313\n",
            "| HitRate  0.331 | Mrr 0.312 | \n",
            "7it [11:38, 99.73s/it]Number of hits:  160\n",
            "Total Num of users:  474\n",
            "Recommendation HitRate:  0.33755274261603374\n",
            "| HitRate  0.338 | Mrr 0.313 | \n",
            "8it [13:17, 99.43s/it]Number of hits:  160\n",
            "Total Num of users:  474\n",
            "Recommendation HitRate:  0.33755274261603374\n",
            "| HitRate  0.338 | Mrr 0.307 | \n",
            "9it [14:56, 99.24s/it]Number of hits:  159\n",
            "Total Num of users:  474\n",
            "Recommendation HitRate:  0.33544303797468356\n",
            "| HitRate  0.335 | Mrr 0.309 | \n",
            "10it [16:35, 99.57s/it]Number of hits:  164\n",
            "Total Num of users:  474\n",
            "Recommendation HitRate:  0.3459915611814346\n",
            "| HitRate  0.346 | Mrr 0.314 | \n",
            "\n"
          ],
          "name": "stderr"
        }
      ]
    },
    {
      "cell_type": "code",
      "metadata": {
        "id": "MgYBMB-TRP5J",
        "outputId": "b42137ad-fcec-4fef-b43a-a51576045cc4"
      },
      "source": [
        "##same at all steps\n",
        "AllSteps_Coverage_Ratio(newAMZB_DF,AllUsrsPred_tst,'Updated_ItemID')"
      ],
      "execution_count": null,
      "outputs": [
        {
          "output_type": "execute_result",
          "data": {
            "text/plain": [
              "[0.683685,\n",
              " 0.692564,\n",
              " 0.686398,\n",
              " 0.680109,\n",
              " 0.691331,\n",
              " 0.683561,\n",
              " 0.677889,\n",
              " 0.684055,\n",
              " 0.685658,\n",
              " 0.683808]"
            ]
          },
          "metadata": {
            "tags": []
          },
          "execution_count": 104
        }
      ]
    },
    {
      "cell_type": "code",
      "metadata": {
        "id": "9MoTjZn0RP5K"
      },
      "source": [
        "userItem_1 = UserItemMATList_amb[0]\n",
        "holdout_1  = newHoldoutlist_amb[0]\n",
        "\n",
        "def AllpredEval_tst(model,UserItemMatList,holdout_DFList):   \n",
        "    hr10_List = [] \n",
        "    mrr10_List = [] \n",
        "    ALLUsers_Pred = []\n",
        "    for UserItemMat,holdout_df in tqdm(zip(UserItemMatList,holdout_DFList)):\n",
        "        allUsersPRED, hr10,mrr10 = getmetrics_(model,UserItemMat,holdout_df,k=10) \n",
        "        hr10_List.append(hr10)   \n",
        "        mrr10_List.append(mrr10)\n",
        "        ALLUsers_Pred.append(allUsersPRED)\n",
        "        print(\"| HitRate  {:4.3f} | Mrr {:4.3f} | \".format(hr10, mrr10))  \n",
        "    return hr10_List,mrr10_List ,ALLUsers_Pred \n"
      ],
      "execution_count": null,
      "outputs": []
    },
    {
      "cell_type": "code",
      "metadata": {
        "id": "vwSO2wKeRP5L"
      },
      "source": [
        "update_count = 0\n",
        "constant_anneal = False\n",
        "n_epoch = 80\n",
        "batch_size = 100\n",
        "anneal_cap = 0.2\n",
        "total_anneal_steps =  getTot_annealSTeps(userItem_1,batch_size,n_epoch,anneal_cap)\n",
        "tst_model, optimizer = getVAEModel(userItem_1,lr_=1e-3,p_dims=[300,900])\n",
        "for epoch in range(n_epoch):\n",
        "    train_step(tst_model, optimizer, userItem_1, epoch)"
      ],
      "execution_count": null,
      "outputs": []
    },
    {
      "cell_type": "code",
      "metadata": {
        "id": "TocxcxAGRP5M",
        "outputId": "6f566800-794d-4069-9ba7-14f1dfe87922"
      },
      "source": [
        "#BS_ = 100 | lr_ = 0.001 | n_epoch = 80 | p_dims = [300, 900]  ##test with singleMAT\n",
        "hr_tst, mrr_tst, AllUsrsPredtst_2 = AllpredEval_tst(tst_model,UserItemMATList_amb,newHoldoutlist_amb)\n",
        "print(hr_tst)\n",
        "print(mrr_tst)"
      ],
      "execution_count": null,
      "outputs": [
        {
          "output_type": "stream",
          "text": [
            "1it [00:03,  3.06s/it]Number of hits:  163\n",
            "Total Num of users:  474\n",
            "Recommendation HitRate:  0.3438818565400844\n",
            "| HitRate  0.344 | Mrr 0.311 | \n",
            "2it [00:05,  2.96s/it]Number of hits:  174\n",
            "Total Num of users:  433\n",
            "Recommendation HitRate:  0.4018475750577367\n",
            "| HitRate  0.402 | Mrr 0.362 | \n",
            "3it [00:08,  3.00s/it]Number of hits:  181\n",
            "Total Num of users:  465\n",
            "Recommendation HitRate:  0.38924731182795697\n",
            "| HitRate  0.389 | Mrr 0.357 | \n",
            "4it [00:11,  2.96s/it]Number of hits:  176\n",
            "Total Num of users:  478\n",
            "Recommendation HitRate:  0.3682008368200837\n",
            "| HitRate  0.368 | Mrr 0.343 | \n",
            "5it [00:14,  2.94s/it]Number of hits:  161\n",
            "Total Num of users:  478\n",
            "Recommendation HitRate:  0.3368200836820084\n",
            "| HitRate  0.337 | Mrr 0.307 | \n",
            "6it [00:17,  2.92s/it]Number of hits:  157\n",
            "Total Num of users:  508\n",
            "Recommendation HitRate:  0.3090551181102362\n",
            "| HitRate  0.309 | Mrr 0.275 | \n",
            "7it [00:20,  2.91s/it]Number of hits:  158\n",
            "Total Num of users:  612\n",
            "Recommendation HitRate:  0.2581699346405229\n",
            "| HitRate  0.258 | Mrr 0.215 | \n",
            "8it [00:23,  2.94s/it]Number of hits:  165\n",
            "Total Num of users:  599\n",
            "Recommendation HitRate:  0.27545909849749584\n",
            "| HitRate  0.275 | Mrr 0.248 | \n",
            "9it [00:26,  3.01s/it]Number of hits:  181\n",
            "Total Num of users:  536\n",
            "Recommendation HitRate:  0.3376865671641791\n",
            "| HitRate  0.338 | Mrr 0.306 | \n",
            "10it [00:29,  2.99s/it]Number of hits:  84\n",
            "Total Num of users:  425\n",
            "Recommendation HitRate:  0.1976470588235294\n",
            "| HitRate  0.198 | Mrr 0.160 | \n",
            "[0.3438818565400844, 0.4018475750577367, 0.38924731182795697, 0.3682008368200837, 0.3368200836820084, 0.3090551181102362, 0.2581699346405229, 0.27545909849749584, 0.3376865671641791, 0.1976470588235294]\n",
            "[0.3113388252628759, 0.3621824480369515, 0.35654121863799276, 0.34295676429567645, 0.3072897987646941, 0.27481330458692665, 0.2151558771656811, 0.24780189204229272, 0.3060219734660033, 0.16012698412698412]\n",
            "\n"
          ],
          "name": "stderr"
        }
      ]
    },
    {
      "cell_type": "code",
      "metadata": {
        "id": "348c2dwpRP5M"
      },
      "source": [
        "#"
      ],
      "execution_count": null,
      "outputs": []
    },
    {
      "cell_type": "code",
      "metadata": {
        "id": "RJYLVfuJRP5N",
        "outputId": "ccfdd6a8-c914-4c1d-e4e1-638fbdeb6005"
      },
      "source": [
        "CovListbty_2 = AllSteps_Coverage_Ratio(newAMZB_DF,AllUsrsPredtst_2,'Updated_ItemID')\n",
        "CovListbty_2"
      ],
      "execution_count": null,
      "outputs": [
        {
          "output_type": "execute_result",
          "data": {
            "text/plain": [
              "[0.656924,\n",
              " 0.658774,\n",
              " 0.659391,\n",
              " 0.659761,\n",
              " 0.660377,\n",
              " 0.660131,\n",
              " 0.660254,\n",
              " 0.660007,\n",
              " 0.659637,\n",
              " 0.660254]"
            ]
          },
          "metadata": {
            "tags": []
          },
          "execution_count": 34
        }
      ]
    },
    {
      "cell_type": "code",
      "metadata": {
        "id": "K0tOj3VPRP5O"
      },
      "source": [
        "incre_items = [0.673573,0.703046,0.728573,0.759773,0.797632,0.817487,0.847453,0.85288,0.874584,0.90899]\n",
        "same_items = [0.683685,0.692564,0.686398,0.680109, 0.691331, 0.683561,0.677889,0.684055,0.685658,0.683808]\n",
        "same_model = [0.656924, 0.658774, 0.659391, 0.659761, 0.660377,0.660131,0.660254,0.660007,0.659637,0.660254]"
      ],
      "execution_count": null,
      "outputs": []
    },
    {
      "cell_type": "code",
      "metadata": {
        "id": "Q3WnqYD9RP5O",
        "outputId": "f1fb91f9-18a2-4fa3-ad55-6be947b9b9c1"
      },
      "source": [
        "AllSteps_11 = list(range(1,11))\n",
        "plt.plot(AllSteps_11,incre_items, marker='x',label='Incre-Items')   \n",
        "plt.plot(AllSteps_11,same_items, marker='x',label='Same-Items')\n",
        "plt.plot(AllSteps_11,same_model, marker='x',label='Same-Model')\n",
        "\n",
        "plt.grid()\n",
        "plt.legend()"
      ],
      "execution_count": null,
      "outputs": [
        {
          "output_type": "execute_result",
          "data": {
            "text/plain": [
              "<matplotlib.legend.Legend at 0x7f282d2b6e50>"
            ]
          },
          "metadata": {
            "tags": []
          },
          "execution_count": 36
        },
        {
          "output_type": "display_data",
          "data": {
            "text/plain": [
              "<Figure size 432x288 with 1 Axes>"
            ],
            "image/svg+xml": "<?xml version=\"1.0\" encoding=\"utf-8\" standalone=\"no\"?>\n<!DOCTYPE svg PUBLIC \"-//W3C//DTD SVG 1.1//EN\"\n  \"http://www.w3.org/Graphics/SVG/1.1/DTD/svg11.dtd\">\n<svg height=\"248.518125pt\" version=\"1.1\" viewBox=\"0 0 378.465625 248.518125\" width=\"378.465625pt\" xmlns=\"http://www.w3.org/2000/svg\" xmlns:xlink=\"http://www.w3.org/1999/xlink\">\n <metadata>\n  <rdf:RDF xmlns:cc=\"http://creativecommons.org/ns#\" xmlns:dc=\"http://purl.org/dc/elements/1.1/\" xmlns:rdf=\"http://www.w3.org/1999/02/22-rdf-syntax-ns#\">\n   <cc:Work>\n    <dc:type rdf:resource=\"http://purl.org/dc/dcmitype/StillImage\"/>\n    <dc:date>2021-05-31T19:14:52.779730</dc:date>\n    <dc:format>image/svg+xml</dc:format>\n    <dc:creator>\n     <cc:Agent>\n      <dc:title>Matplotlib v3.4.1, https://matplotlib.org/</dc:title>\n     </cc:Agent>\n    </dc:creator>\n   </cc:Work>\n  </rdf:RDF>\n </metadata>\n <defs>\n  <style type=\"text/css\">*{stroke-linecap:butt;stroke-linejoin:round;}</style>\n </defs>\n <g id=\"figure_1\">\n  <g id=\"patch_1\">\n   <path d=\"M 0 248.518125 \nL 378.465625 248.518125 \nL 378.465625 0 \nL 0 0 \nz\n\" style=\"fill:none;\"/>\n  </g>\n  <g id=\"axes_1\">\n   <g id=\"patch_2\">\n    <path d=\"M 36.465625 224.64 \nL 371.265625 224.64 \nL 371.265625 7.2 \nL 36.465625 7.2 \nz\n\" style=\"fill:#ffffff;\"/>\n   </g>\n   <g id=\"matplotlib.axis_1\">\n    <g id=\"xtick_1\">\n     <g id=\"line2d_1\">\n      <path clip-path=\"url(#pa6c3ef6995)\" d=\"M 85.501989 224.64 \nL 85.501989 7.2 \n\" style=\"fill:none;stroke:#b0b0b0;stroke-linecap:square;stroke-width:0.8;\"/>\n     </g>\n     <g id=\"line2d_2\">\n      <defs>\n       <path d=\"M 0 0 \nL 0 3.5 \n\" id=\"ma92906728e\" style=\"stroke:#000000;stroke-width:0.8;\"/>\n      </defs>\n      <g>\n       <use style=\"stroke:#000000;stroke-width:0.8;\" x=\"85.501989\" xlink:href=\"#ma92906728e\" y=\"224.64\"/>\n      </g>\n     </g>\n     <g id=\"text_1\">\n      <!-- 2 -->\n      <g transform=\"translate(82.320739 239.238437)scale(0.1 -0.1)\">\n       <defs>\n        <path d=\"M 1228 531 \nL 3431 531 \nL 3431 0 \nL 469 0 \nL 469 531 \nQ 828 903 1448 1529 \nQ 2069 2156 2228 2338 \nQ 2531 2678 2651 2914 \nQ 2772 3150 2772 3378 \nQ 2772 3750 2511 3984 \nQ 2250 4219 1831 4219 \nQ 1534 4219 1204 4116 \nQ 875 4013 500 3803 \nL 500 4441 \nQ 881 4594 1212 4672 \nQ 1544 4750 1819 4750 \nQ 2544 4750 2975 4387 \nQ 3406 4025 3406 3419 \nQ 3406 3131 3298 2873 \nQ 3191 2616 2906 2266 \nQ 2828 2175 2409 1742 \nQ 1991 1309 1228 531 \nz\n\" id=\"DejaVuSans-32\" transform=\"scale(0.015625)\"/>\n       </defs>\n       <use xlink:href=\"#DejaVuSans-32\"/>\n      </g>\n     </g>\n    </g>\n    <g id=\"xtick_2\">\n     <g id=\"line2d_3\">\n      <path clip-path=\"url(#pa6c3ef6995)\" d=\"M 153.138352 224.64 \nL 153.138352 7.2 \n\" style=\"fill:none;stroke:#b0b0b0;stroke-linecap:square;stroke-width:0.8;\"/>\n     </g>\n     <g id=\"line2d_4\">\n      <g>\n       <use style=\"stroke:#000000;stroke-width:0.8;\" x=\"153.138352\" xlink:href=\"#ma92906728e\" y=\"224.64\"/>\n      </g>\n     </g>\n     <g id=\"text_2\">\n      <!-- 4 -->\n      <g transform=\"translate(149.957102 239.238437)scale(0.1 -0.1)\">\n       <defs>\n        <path d=\"M 2419 4116 \nL 825 1625 \nL 2419 1625 \nL 2419 4116 \nz\nM 2253 4666 \nL 3047 4666 \nL 3047 1625 \nL 3713 1625 \nL 3713 1100 \nL 3047 1100 \nL 3047 0 \nL 2419 0 \nL 2419 1100 \nL 313 1100 \nL 313 1709 \nL 2253 4666 \nz\n\" id=\"DejaVuSans-34\" transform=\"scale(0.015625)\"/>\n       </defs>\n       <use xlink:href=\"#DejaVuSans-34\"/>\n      </g>\n     </g>\n    </g>\n    <g id=\"xtick_3\">\n     <g id=\"line2d_5\">\n      <path clip-path=\"url(#pa6c3ef6995)\" d=\"M 220.774716 224.64 \nL 220.774716 7.2 \n\" style=\"fill:none;stroke:#b0b0b0;stroke-linecap:square;stroke-width:0.8;\"/>\n     </g>\n     <g id=\"line2d_6\">\n      <g>\n       <use style=\"stroke:#000000;stroke-width:0.8;\" x=\"220.774716\" xlink:href=\"#ma92906728e\" y=\"224.64\"/>\n      </g>\n     </g>\n     <g id=\"text_3\">\n      <!-- 6 -->\n      <g transform=\"translate(217.593466 239.238437)scale(0.1 -0.1)\">\n       <defs>\n        <path d=\"M 2113 2584 \nQ 1688 2584 1439 2293 \nQ 1191 2003 1191 1497 \nQ 1191 994 1439 701 \nQ 1688 409 2113 409 \nQ 2538 409 2786 701 \nQ 3034 994 3034 1497 \nQ 3034 2003 2786 2293 \nQ 2538 2584 2113 2584 \nz\nM 3366 4563 \nL 3366 3988 \nQ 3128 4100 2886 4159 \nQ 2644 4219 2406 4219 \nQ 1781 4219 1451 3797 \nQ 1122 3375 1075 2522 \nQ 1259 2794 1537 2939 \nQ 1816 3084 2150 3084 \nQ 2853 3084 3261 2657 \nQ 3669 2231 3669 1497 \nQ 3669 778 3244 343 \nQ 2819 -91 2113 -91 \nQ 1303 -91 875 529 \nQ 447 1150 447 2328 \nQ 447 3434 972 4092 \nQ 1497 4750 2381 4750 \nQ 2619 4750 2861 4703 \nQ 3103 4656 3366 4563 \nz\n\" id=\"DejaVuSans-36\" transform=\"scale(0.015625)\"/>\n       </defs>\n       <use xlink:href=\"#DejaVuSans-36\"/>\n      </g>\n     </g>\n    </g>\n    <g id=\"xtick_4\">\n     <g id=\"line2d_7\">\n      <path clip-path=\"url(#pa6c3ef6995)\" d=\"M 288.41108 224.64 \nL 288.41108 7.2 \n\" style=\"fill:none;stroke:#b0b0b0;stroke-linecap:square;stroke-width:0.8;\"/>\n     </g>\n     <g id=\"line2d_8\">\n      <g>\n       <use style=\"stroke:#000000;stroke-width:0.8;\" x=\"288.41108\" xlink:href=\"#ma92906728e\" y=\"224.64\"/>\n      </g>\n     </g>\n     <g id=\"text_4\">\n      <!-- 8 -->\n      <g transform=\"translate(285.22983 239.238437)scale(0.1 -0.1)\">\n       <defs>\n        <path d=\"M 2034 2216 \nQ 1584 2216 1326 1975 \nQ 1069 1734 1069 1313 \nQ 1069 891 1326 650 \nQ 1584 409 2034 409 \nQ 2484 409 2743 651 \nQ 3003 894 3003 1313 \nQ 3003 1734 2745 1975 \nQ 2488 2216 2034 2216 \nz\nM 1403 2484 \nQ 997 2584 770 2862 \nQ 544 3141 544 3541 \nQ 544 4100 942 4425 \nQ 1341 4750 2034 4750 \nQ 2731 4750 3128 4425 \nQ 3525 4100 3525 3541 \nQ 3525 3141 3298 2862 \nQ 3072 2584 2669 2484 \nQ 3125 2378 3379 2068 \nQ 3634 1759 3634 1313 \nQ 3634 634 3220 271 \nQ 2806 -91 2034 -91 \nQ 1263 -91 848 271 \nQ 434 634 434 1313 \nQ 434 1759 690 2068 \nQ 947 2378 1403 2484 \nz\nM 1172 3481 \nQ 1172 3119 1398 2916 \nQ 1625 2713 2034 2713 \nQ 2441 2713 2670 2916 \nQ 2900 3119 2900 3481 \nQ 2900 3844 2670 4047 \nQ 2441 4250 2034 4250 \nQ 1625 4250 1398 4047 \nQ 1172 3844 1172 3481 \nz\n\" id=\"DejaVuSans-38\" transform=\"scale(0.015625)\"/>\n       </defs>\n       <use xlink:href=\"#DejaVuSans-38\"/>\n      </g>\n     </g>\n    </g>\n    <g id=\"xtick_5\">\n     <g id=\"line2d_9\">\n      <path clip-path=\"url(#pa6c3ef6995)\" d=\"M 356.047443 224.64 \nL 356.047443 7.2 \n\" style=\"fill:none;stroke:#b0b0b0;stroke-linecap:square;stroke-width:0.8;\"/>\n     </g>\n     <g id=\"line2d_10\">\n      <g>\n       <use style=\"stroke:#000000;stroke-width:0.8;\" x=\"356.047443\" xlink:href=\"#ma92906728e\" y=\"224.64\"/>\n      </g>\n     </g>\n     <g id=\"text_5\">\n      <!-- 10 -->\n      <g transform=\"translate(349.684943 239.238437)scale(0.1 -0.1)\">\n       <defs>\n        <path d=\"M 794 531 \nL 1825 531 \nL 1825 4091 \nL 703 3866 \nL 703 4441 \nL 1819 4666 \nL 2450 4666 \nL 2450 531 \nL 3481 531 \nL 3481 0 \nL 794 0 \nL 794 531 \nz\n\" id=\"DejaVuSans-31\" transform=\"scale(0.015625)\"/>\n        <path d=\"M 2034 4250 \nQ 1547 4250 1301 3770 \nQ 1056 3291 1056 2328 \nQ 1056 1369 1301 889 \nQ 1547 409 2034 409 \nQ 2525 409 2770 889 \nQ 3016 1369 3016 2328 \nQ 3016 3291 2770 3770 \nQ 2525 4250 2034 4250 \nz\nM 2034 4750 \nQ 2819 4750 3233 4129 \nQ 3647 3509 3647 2328 \nQ 3647 1150 3233 529 \nQ 2819 -91 2034 -91 \nQ 1250 -91 836 529 \nQ 422 1150 422 2328 \nQ 422 3509 836 4129 \nQ 1250 4750 2034 4750 \nz\n\" id=\"DejaVuSans-30\" transform=\"scale(0.015625)\"/>\n       </defs>\n       <use xlink:href=\"#DejaVuSans-31\"/>\n       <use x=\"63.623047\" xlink:href=\"#DejaVuSans-30\"/>\n      </g>\n     </g>\n    </g>\n   </g>\n   <g id=\"matplotlib.axis_2\">\n    <g id=\"ytick_1\">\n     <g id=\"line2d_11\">\n      <path clip-path=\"url(#pa6c3ef6995)\" d=\"M 36.465625 220.186235 \nL 371.265625 220.186235 \n\" style=\"fill:none;stroke:#b0b0b0;stroke-linecap:square;stroke-width:0.8;\"/>\n     </g>\n     <g id=\"line2d_12\">\n      <defs>\n       <path d=\"M 0 0 \nL -3.5 0 \n\" id=\"m5378391537\" style=\"stroke:#000000;stroke-width:0.8;\"/>\n      </defs>\n      <g>\n       <use style=\"stroke:#000000;stroke-width:0.8;\" x=\"36.465625\" xlink:href=\"#m5378391537\" y=\"220.186235\"/>\n      </g>\n     </g>\n     <g id=\"text_6\">\n      <!-- 0.65 -->\n      <g transform=\"translate(7.2 223.985454)scale(0.1 -0.1)\">\n       <defs>\n        <path d=\"M 684 794 \nL 1344 794 \nL 1344 0 \nL 684 0 \nL 684 794 \nz\n\" id=\"DejaVuSans-2e\" transform=\"scale(0.015625)\"/>\n        <path d=\"M 691 4666 \nL 3169 4666 \nL 3169 4134 \nL 1269 4134 \nL 1269 2991 \nQ 1406 3038 1543 3061 \nQ 1681 3084 1819 3084 \nQ 2600 3084 3056 2656 \nQ 3513 2228 3513 1497 \nQ 3513 744 3044 326 \nQ 2575 -91 1722 -91 \nQ 1428 -91 1123 -41 \nQ 819 9 494 109 \nL 494 744 \nQ 775 591 1075 516 \nQ 1375 441 1709 441 \nQ 2250 441 2565 725 \nQ 2881 1009 2881 1497 \nQ 2881 1984 2565 2268 \nQ 2250 2553 1709 2553 \nQ 1456 2553 1204 2497 \nQ 953 2441 691 2322 \nL 691 4666 \nz\n\" id=\"DejaVuSans-35\" transform=\"scale(0.015625)\"/>\n       </defs>\n       <use xlink:href=\"#DejaVuSans-30\"/>\n       <use x=\"63.623047\" xlink:href=\"#DejaVuSans-2e\"/>\n       <use x=\"95.410156\" xlink:href=\"#DejaVuSans-36\"/>\n       <use x=\"159.033203\" xlink:href=\"#DejaVuSans-35\"/>\n      </g>\n     </g>\n    </g>\n    <g id=\"ytick_2\">\n     <g id=\"line2d_13\">\n      <path clip-path=\"url(#pa6c3ef6995)\" d=\"M 36.465625 180.975725 \nL 371.265625 180.975725 \n\" style=\"fill:none;stroke:#b0b0b0;stroke-linecap:square;stroke-width:0.8;\"/>\n     </g>\n     <g id=\"line2d_14\">\n      <g>\n       <use style=\"stroke:#000000;stroke-width:0.8;\" x=\"36.465625\" xlink:href=\"#m5378391537\" y=\"180.975725\"/>\n      </g>\n     </g>\n     <g id=\"text_7\">\n      <!-- 0.70 -->\n      <g transform=\"translate(7.2 184.774944)scale(0.1 -0.1)\">\n       <defs>\n        <path d=\"M 525 4666 \nL 3525 4666 \nL 3525 4397 \nL 1831 0 \nL 1172 0 \nL 2766 4134 \nL 525 4134 \nL 525 4666 \nz\n\" id=\"DejaVuSans-37\" transform=\"scale(0.015625)\"/>\n       </defs>\n       <use xlink:href=\"#DejaVuSans-30\"/>\n       <use x=\"63.623047\" xlink:href=\"#DejaVuSans-2e\"/>\n       <use x=\"95.410156\" xlink:href=\"#DejaVuSans-37\"/>\n       <use x=\"159.033203\" xlink:href=\"#DejaVuSans-30\"/>\n      </g>\n     </g>\n    </g>\n    <g id=\"ytick_3\">\n     <g id=\"line2d_15\">\n      <path clip-path=\"url(#pa6c3ef6995)\" d=\"M 36.465625 141.765215 \nL 371.265625 141.765215 \n\" style=\"fill:none;stroke:#b0b0b0;stroke-linecap:square;stroke-width:0.8;\"/>\n     </g>\n     <g id=\"line2d_16\">\n      <g>\n       <use style=\"stroke:#000000;stroke-width:0.8;\" x=\"36.465625\" xlink:href=\"#m5378391537\" y=\"141.765215\"/>\n      </g>\n     </g>\n     <g id=\"text_8\">\n      <!-- 0.75 -->\n      <g transform=\"translate(7.2 145.564434)scale(0.1 -0.1)\">\n       <use xlink:href=\"#DejaVuSans-30\"/>\n       <use x=\"63.623047\" xlink:href=\"#DejaVuSans-2e\"/>\n       <use x=\"95.410156\" xlink:href=\"#DejaVuSans-37\"/>\n       <use x=\"159.033203\" xlink:href=\"#DejaVuSans-35\"/>\n      </g>\n     </g>\n    </g>\n    <g id=\"ytick_4\">\n     <g id=\"line2d_17\">\n      <path clip-path=\"url(#pa6c3ef6995)\" d=\"M 36.465625 102.554706 \nL 371.265625 102.554706 \n\" style=\"fill:none;stroke:#b0b0b0;stroke-linecap:square;stroke-width:0.8;\"/>\n     </g>\n     <g id=\"line2d_18\">\n      <g>\n       <use style=\"stroke:#000000;stroke-width:0.8;\" x=\"36.465625\" xlink:href=\"#m5378391537\" y=\"102.554706\"/>\n      </g>\n     </g>\n     <g id=\"text_9\">\n      <!-- 0.80 -->\n      <g transform=\"translate(7.2 106.353924)scale(0.1 -0.1)\">\n       <use xlink:href=\"#DejaVuSans-30\"/>\n       <use x=\"63.623047\" xlink:href=\"#DejaVuSans-2e\"/>\n       <use x=\"95.410156\" xlink:href=\"#DejaVuSans-38\"/>\n       <use x=\"159.033203\" xlink:href=\"#DejaVuSans-30\"/>\n      </g>\n     </g>\n    </g>\n    <g id=\"ytick_5\">\n     <g id=\"line2d_19\">\n      <path clip-path=\"url(#pa6c3ef6995)\" d=\"M 36.465625 63.344196 \nL 371.265625 63.344196 \n\" style=\"fill:none;stroke:#b0b0b0;stroke-linecap:square;stroke-width:0.8;\"/>\n     </g>\n     <g id=\"line2d_20\">\n      <g>\n       <use style=\"stroke:#000000;stroke-width:0.8;\" x=\"36.465625\" xlink:href=\"#m5378391537\" y=\"63.344196\"/>\n      </g>\n     </g>\n     <g id=\"text_10\">\n      <!-- 0.85 -->\n      <g transform=\"translate(7.2 67.143415)scale(0.1 -0.1)\">\n       <use xlink:href=\"#DejaVuSans-30\"/>\n       <use x=\"63.623047\" xlink:href=\"#DejaVuSans-2e\"/>\n       <use x=\"95.410156\" xlink:href=\"#DejaVuSans-38\"/>\n       <use x=\"159.033203\" xlink:href=\"#DejaVuSans-35\"/>\n      </g>\n     </g>\n    </g>\n    <g id=\"ytick_6\">\n     <g id=\"line2d_21\">\n      <path clip-path=\"url(#pa6c3ef6995)\" d=\"M 36.465625 24.133686 \nL 371.265625 24.133686 \n\" style=\"fill:none;stroke:#b0b0b0;stroke-linecap:square;stroke-width:0.8;\"/>\n     </g>\n     <g id=\"line2d_22\">\n      <g>\n       <use style=\"stroke:#000000;stroke-width:0.8;\" x=\"36.465625\" xlink:href=\"#m5378391537\" y=\"24.133686\"/>\n      </g>\n     </g>\n     <g id=\"text_11\">\n      <!-- 0.90 -->\n      <g transform=\"translate(7.2 27.932905)scale(0.1 -0.1)\">\n       <defs>\n        <path d=\"M 703 97 \nL 703 672 \nQ 941 559 1184 500 \nQ 1428 441 1663 441 \nQ 2288 441 2617 861 \nQ 2947 1281 2994 2138 \nQ 2813 1869 2534 1725 \nQ 2256 1581 1919 1581 \nQ 1219 1581 811 2004 \nQ 403 2428 403 3163 \nQ 403 3881 828 4315 \nQ 1253 4750 1959 4750 \nQ 2769 4750 3195 4129 \nQ 3622 3509 3622 2328 \nQ 3622 1225 3098 567 \nQ 2575 -91 1691 -91 \nQ 1453 -91 1209 -44 \nQ 966 3 703 97 \nz\nM 1959 2075 \nQ 2384 2075 2632 2365 \nQ 2881 2656 2881 3163 \nQ 2881 3666 2632 3958 \nQ 2384 4250 1959 4250 \nQ 1534 4250 1286 3958 \nQ 1038 3666 1038 3163 \nQ 1038 2656 1286 2365 \nQ 1534 2075 1959 2075 \nz\n\" id=\"DejaVuSans-39\" transform=\"scale(0.015625)\"/>\n       </defs>\n       <use xlink:href=\"#DejaVuSans-30\"/>\n       <use x=\"63.623047\" xlink:href=\"#DejaVuSans-2e\"/>\n       <use x=\"95.410156\" xlink:href=\"#DejaVuSans-39\"/>\n       <use x=\"159.033203\" xlink:href=\"#DejaVuSans-30\"/>\n      </g>\n     </g>\n    </g>\n   </g>\n   <g id=\"line2d_23\">\n    <path clip-path=\"url(#pa6c3ef6995)\" d=\"M 51.683807 201.700048 \nL 85.501989 178.587021 \nL 119.32017 158.568487 \nL 153.138352 134.101129 \nL 186.956534 104.411715 \nL 220.774716 88.841222 \nL 254.592898 65.341579 \nL 288.41108 61.08567 \nL 322.229261 44.065172 \nL 356.047443 17.083636 \n\" style=\"fill:none;stroke:#1f77b4;stroke-linecap:square;stroke-width:1.5;\"/>\n    <defs>\n     <path d=\"M -3 3 \nL 3 -3 \nM -3 -3 \nL 3 3 \n\" id=\"mcbaae2caa8\" style=\"stroke:#1f77b4;\"/>\n    </defs>\n    <g clip-path=\"url(#pa6c3ef6995)\">\n     <use style=\"fill:#1f77b4;stroke:#1f77b4;\" x=\"51.683807\" xlink:href=\"#mcbaae2caa8\" y=\"201.700048\"/>\n     <use style=\"fill:#1f77b4;stroke:#1f77b4;\" x=\"85.501989\" xlink:href=\"#mcbaae2caa8\" y=\"178.587021\"/>\n     <use style=\"fill:#1f77b4;stroke:#1f77b4;\" x=\"119.32017\" xlink:href=\"#mcbaae2caa8\" y=\"158.568487\"/>\n     <use style=\"fill:#1f77b4;stroke:#1f77b4;\" x=\"153.138352\" xlink:href=\"#mcbaae2caa8\" y=\"134.101129\"/>\n     <use style=\"fill:#1f77b4;stroke:#1f77b4;\" x=\"186.956534\" xlink:href=\"#mcbaae2caa8\" y=\"104.411715\"/>\n     <use style=\"fill:#1f77b4;stroke:#1f77b4;\" x=\"220.774716\" xlink:href=\"#mcbaae2caa8\" y=\"88.841222\"/>\n     <use style=\"fill:#1f77b4;stroke:#1f77b4;\" x=\"254.592898\" xlink:href=\"#mcbaae2caa8\" y=\"65.341579\"/>\n     <use style=\"fill:#1f77b4;stroke:#1f77b4;\" x=\"288.41108\" xlink:href=\"#mcbaae2caa8\" y=\"61.08567\"/>\n     <use style=\"fill:#1f77b4;stroke:#1f77b4;\" x=\"322.229261\" xlink:href=\"#mcbaae2caa8\" y=\"44.065172\"/>\n     <use style=\"fill:#1f77b4;stroke:#1f77b4;\" x=\"356.047443\" xlink:href=\"#mcbaae2caa8\" y=\"17.083636\"/>\n    </g>\n   </g>\n   <g id=\"line2d_24\">\n    <path clip-path=\"url(#pa6c3ef6995)\" d=\"M 51.683807 193.770115 \nL 85.501989 186.807112 \nL 119.32017 191.642552 \nL 153.138352 196.57445 \nL 186.956534 187.774043 \nL 220.774716 193.867357 \nL 254.592898 198.315397 \nL 288.41108 193.479957 \nL 322.229261 192.222868 \nL 356.047443 193.673657 \n\" style=\"fill:none;stroke:#ff7f0e;stroke-linecap:square;stroke-width:1.5;\"/>\n    <defs>\n     <path d=\"M -3 3 \nL 3 -3 \nM -3 -3 \nL 3 3 \n\" id=\"mca41e72fce\" style=\"stroke:#ff7f0e;\"/>\n    </defs>\n    <g clip-path=\"url(#pa6c3ef6995)\">\n     <use style=\"fill:#ff7f0e;stroke:#ff7f0e;\" x=\"51.683807\" xlink:href=\"#mca41e72fce\" y=\"193.770115\"/>\n     <use style=\"fill:#ff7f0e;stroke:#ff7f0e;\" x=\"85.501989\" xlink:href=\"#mca41e72fce\" y=\"186.807112\"/>\n     <use style=\"fill:#ff7f0e;stroke:#ff7f0e;\" x=\"119.32017\" xlink:href=\"#mca41e72fce\" y=\"191.642552\"/>\n     <use style=\"fill:#ff7f0e;stroke:#ff7f0e;\" x=\"153.138352\" xlink:href=\"#mca41e72fce\" y=\"196.57445\"/>\n     <use style=\"fill:#ff7f0e;stroke:#ff7f0e;\" x=\"186.956534\" xlink:href=\"#mca41e72fce\" y=\"187.774043\"/>\n     <use style=\"fill:#ff7f0e;stroke:#ff7f0e;\" x=\"220.774716\" xlink:href=\"#mca41e72fce\" y=\"193.867357\"/>\n     <use style=\"fill:#ff7f0e;stroke:#ff7f0e;\" x=\"254.592898\" xlink:href=\"#mca41e72fce\" y=\"198.315397\"/>\n     <use style=\"fill:#ff7f0e;stroke:#ff7f0e;\" x=\"288.41108\" xlink:href=\"#mca41e72fce\" y=\"193.479957\"/>\n     <use style=\"fill:#ff7f0e;stroke:#ff7f0e;\" x=\"322.229261\" xlink:href=\"#mca41e72fce\" y=\"192.222868\"/>\n     <use style=\"fill:#ff7f0e;stroke:#ff7f0e;\" x=\"356.047443\" xlink:href=\"#mca41e72fce\" y=\"193.673657\"/>\n    </g>\n   </g>\n   <g id=\"line2d_25\">\n    <path clip-path=\"url(#pa6c3ef6995)\" d=\"M 51.683807 214.756364 \nL 85.501989 213.305575 \nL 119.32017 212.821717 \nL 153.138352 212.531559 \nL 186.956534 212.048486 \nL 220.774716 212.241402 \nL 254.592898 212.144944 \nL 288.41108 212.338644 \nL 322.229261 212.628801 \nL 356.047443 212.144944 \n\" style=\"fill:none;stroke:#2ca02c;stroke-linecap:square;stroke-width:1.5;\"/>\n    <defs>\n     <path d=\"M -3 3 \nL 3 -3 \nM -3 -3 \nL 3 3 \n\" id=\"mdb9ff325e9\" style=\"stroke:#2ca02c;\"/>\n    </defs>\n    <g clip-path=\"url(#pa6c3ef6995)\">\n     <use style=\"fill:#2ca02c;stroke:#2ca02c;\" x=\"51.683807\" xlink:href=\"#mdb9ff325e9\" y=\"214.756364\"/>\n     <use style=\"fill:#2ca02c;stroke:#2ca02c;\" x=\"85.501989\" xlink:href=\"#mdb9ff325e9\" y=\"213.305575\"/>\n     <use style=\"fill:#2ca02c;stroke:#2ca02c;\" x=\"119.32017\" xlink:href=\"#mdb9ff325e9\" y=\"212.821717\"/>\n     <use style=\"fill:#2ca02c;stroke:#2ca02c;\" x=\"153.138352\" xlink:href=\"#mdb9ff325e9\" y=\"212.531559\"/>\n     <use style=\"fill:#2ca02c;stroke:#2ca02c;\" x=\"186.956534\" xlink:href=\"#mdb9ff325e9\" y=\"212.048486\"/>\n     <use style=\"fill:#2ca02c;stroke:#2ca02c;\" x=\"220.774716\" xlink:href=\"#mdb9ff325e9\" y=\"212.241402\"/>\n     <use style=\"fill:#2ca02c;stroke:#2ca02c;\" x=\"254.592898\" xlink:href=\"#mdb9ff325e9\" y=\"212.144944\"/>\n     <use style=\"fill:#2ca02c;stroke:#2ca02c;\" x=\"288.41108\" xlink:href=\"#mdb9ff325e9\" y=\"212.338644\"/>\n     <use style=\"fill:#2ca02c;stroke:#2ca02c;\" x=\"322.229261\" xlink:href=\"#mdb9ff325e9\" y=\"212.628801\"/>\n     <use style=\"fill:#2ca02c;stroke:#2ca02c;\" x=\"356.047443\" xlink:href=\"#mdb9ff325e9\" y=\"212.144944\"/>\n    </g>\n   </g>\n   <g id=\"patch_3\">\n    <path d=\"M 36.465625 224.64 \nL 36.465625 7.2 \n\" style=\"fill:none;stroke:#000000;stroke-linecap:square;stroke-linejoin:miter;stroke-width:0.8;\"/>\n   </g>\n   <g id=\"patch_4\">\n    <path d=\"M 371.265625 224.64 \nL 371.265625 7.2 \n\" style=\"fill:none;stroke:#000000;stroke-linecap:square;stroke-linejoin:miter;stroke-width:0.8;\"/>\n   </g>\n   <g id=\"patch_5\">\n    <path d=\"M 36.465625 224.64 \nL 371.265625 224.64 \n\" style=\"fill:none;stroke:#000000;stroke-linecap:square;stroke-linejoin:miter;stroke-width:0.8;\"/>\n   </g>\n   <g id=\"patch_6\">\n    <path d=\"M 36.465625 7.2 \nL 371.265625 7.2 \n\" style=\"fill:none;stroke:#000000;stroke-linecap:square;stroke-linejoin:miter;stroke-width:0.8;\"/>\n   </g>\n   <g id=\"legend_1\">\n    <g id=\"patch_7\">\n     <path d=\"M 43.465625 59.234375 \nL 137.470313 59.234375 \nQ 139.470313 59.234375 139.470313 57.234375 \nL 139.470313 14.2 \nQ 139.470313 12.2 137.470313 12.2 \nL 43.465625 12.2 \nQ 41.465625 12.2 41.465625 14.2 \nL 41.465625 57.234375 \nQ 41.465625 59.234375 43.465625 59.234375 \nz\n\" style=\"fill:#ffffff;opacity:0.8;stroke:#cccccc;stroke-linejoin:miter;\"/>\n    </g>\n    <g id=\"line2d_26\">\n     <path d=\"M 45.465625 20.298437 \nL 65.465625 20.298437 \n\" style=\"fill:none;stroke:#1f77b4;stroke-linecap:square;stroke-width:1.5;\"/>\n    </g>\n    <g id=\"line2d_27\">\n     <g>\n      <use style=\"fill:#1f77b4;stroke:#1f77b4;\" x=\"55.465625\" xlink:href=\"#mcbaae2caa8\" y=\"20.298437\"/>\n     </g>\n    </g>\n    <g id=\"text_12\">\n     <!-- Incre-Items -->\n     <g transform=\"translate(73.465625 23.798437)scale(0.1 -0.1)\">\n      <defs>\n       <path d=\"M 628 4666 \nL 1259 4666 \nL 1259 0 \nL 628 0 \nL 628 4666 \nz\n\" id=\"DejaVuSans-49\" transform=\"scale(0.015625)\"/>\n       <path d=\"M 3513 2113 \nL 3513 0 \nL 2938 0 \nL 2938 2094 \nQ 2938 2591 2744 2837 \nQ 2550 3084 2163 3084 \nQ 1697 3084 1428 2787 \nQ 1159 2491 1159 1978 \nL 1159 0 \nL 581 0 \nL 581 3500 \nL 1159 3500 \nL 1159 2956 \nQ 1366 3272 1645 3428 \nQ 1925 3584 2291 3584 \nQ 2894 3584 3203 3211 \nQ 3513 2838 3513 2113 \nz\n\" id=\"DejaVuSans-6e\" transform=\"scale(0.015625)\"/>\n       <path d=\"M 3122 3366 \nL 3122 2828 \nQ 2878 2963 2633 3030 \nQ 2388 3097 2138 3097 \nQ 1578 3097 1268 2742 \nQ 959 2388 959 1747 \nQ 959 1106 1268 751 \nQ 1578 397 2138 397 \nQ 2388 397 2633 464 \nQ 2878 531 3122 666 \nL 3122 134 \nQ 2881 22 2623 -34 \nQ 2366 -91 2075 -91 \nQ 1284 -91 818 406 \nQ 353 903 353 1747 \nQ 353 2603 823 3093 \nQ 1294 3584 2113 3584 \nQ 2378 3584 2631 3529 \nQ 2884 3475 3122 3366 \nz\n\" id=\"DejaVuSans-63\" transform=\"scale(0.015625)\"/>\n       <path d=\"M 2631 2963 \nQ 2534 3019 2420 3045 \nQ 2306 3072 2169 3072 \nQ 1681 3072 1420 2755 \nQ 1159 2438 1159 1844 \nL 1159 0 \nL 581 0 \nL 581 3500 \nL 1159 3500 \nL 1159 2956 \nQ 1341 3275 1631 3429 \nQ 1922 3584 2338 3584 \nQ 2397 3584 2469 3576 \nQ 2541 3569 2628 3553 \nL 2631 2963 \nz\n\" id=\"DejaVuSans-72\" transform=\"scale(0.015625)\"/>\n       <path d=\"M 3597 1894 \nL 3597 1613 \nL 953 1613 \nQ 991 1019 1311 708 \nQ 1631 397 2203 397 \nQ 2534 397 2845 478 \nQ 3156 559 3463 722 \nL 3463 178 \nQ 3153 47 2828 -22 \nQ 2503 -91 2169 -91 \nQ 1331 -91 842 396 \nQ 353 884 353 1716 \nQ 353 2575 817 3079 \nQ 1281 3584 2069 3584 \nQ 2775 3584 3186 3129 \nQ 3597 2675 3597 1894 \nz\nM 3022 2063 \nQ 3016 2534 2758 2815 \nQ 2500 3097 2075 3097 \nQ 1594 3097 1305 2825 \nQ 1016 2553 972 2059 \nL 3022 2063 \nz\n\" id=\"DejaVuSans-65\" transform=\"scale(0.015625)\"/>\n       <path d=\"M 313 2009 \nL 1997 2009 \nL 1997 1497 \nL 313 1497 \nL 313 2009 \nz\n\" id=\"DejaVuSans-2d\" transform=\"scale(0.015625)\"/>\n       <path d=\"M 1172 4494 \nL 1172 3500 \nL 2356 3500 \nL 2356 3053 \nL 1172 3053 \nL 1172 1153 \nQ 1172 725 1289 603 \nQ 1406 481 1766 481 \nL 2356 481 \nL 2356 0 \nL 1766 0 \nQ 1100 0 847 248 \nQ 594 497 594 1153 \nL 594 3053 \nL 172 3053 \nL 172 3500 \nL 594 3500 \nL 594 4494 \nL 1172 4494 \nz\n\" id=\"DejaVuSans-74\" transform=\"scale(0.015625)\"/>\n       <path d=\"M 3328 2828 \nQ 3544 3216 3844 3400 \nQ 4144 3584 4550 3584 \nQ 5097 3584 5394 3201 \nQ 5691 2819 5691 2113 \nL 5691 0 \nL 5113 0 \nL 5113 2094 \nQ 5113 2597 4934 2840 \nQ 4756 3084 4391 3084 \nQ 3944 3084 3684 2787 \nQ 3425 2491 3425 1978 \nL 3425 0 \nL 2847 0 \nL 2847 2094 \nQ 2847 2600 2669 2842 \nQ 2491 3084 2119 3084 \nQ 1678 3084 1418 2786 \nQ 1159 2488 1159 1978 \nL 1159 0 \nL 581 0 \nL 581 3500 \nL 1159 3500 \nL 1159 2956 \nQ 1356 3278 1631 3431 \nQ 1906 3584 2284 3584 \nQ 2666 3584 2933 3390 \nQ 3200 3197 3328 2828 \nz\n\" id=\"DejaVuSans-6d\" transform=\"scale(0.015625)\"/>\n       <path d=\"M 2834 3397 \nL 2834 2853 \nQ 2591 2978 2328 3040 \nQ 2066 3103 1784 3103 \nQ 1356 3103 1142 2972 \nQ 928 2841 928 2578 \nQ 928 2378 1081 2264 \nQ 1234 2150 1697 2047 \nL 1894 2003 \nQ 2506 1872 2764 1633 \nQ 3022 1394 3022 966 \nQ 3022 478 2636 193 \nQ 2250 -91 1575 -91 \nQ 1294 -91 989 -36 \nQ 684 19 347 128 \nL 347 722 \nQ 666 556 975 473 \nQ 1284 391 1588 391 \nQ 1994 391 2212 530 \nQ 2431 669 2431 922 \nQ 2431 1156 2273 1281 \nQ 2116 1406 1581 1522 \nL 1381 1569 \nQ 847 1681 609 1914 \nQ 372 2147 372 2553 \nQ 372 3047 722 3315 \nQ 1072 3584 1716 3584 \nQ 2034 3584 2315 3537 \nQ 2597 3491 2834 3397 \nz\n\" id=\"DejaVuSans-73\" transform=\"scale(0.015625)\"/>\n      </defs>\n      <use xlink:href=\"#DejaVuSans-49\"/>\n      <use x=\"29.492188\" xlink:href=\"#DejaVuSans-6e\"/>\n      <use x=\"92.871094\" xlink:href=\"#DejaVuSans-63\"/>\n      <use x=\"147.851562\" xlink:href=\"#DejaVuSans-72\"/>\n      <use x=\"186.714844\" xlink:href=\"#DejaVuSans-65\"/>\n      <use x=\"248.238281\" xlink:href=\"#DejaVuSans-2d\"/>\n      <use x=\"284.322266\" xlink:href=\"#DejaVuSans-49\"/>\n      <use x=\"313.814453\" xlink:href=\"#DejaVuSans-74\"/>\n      <use x=\"353.023438\" xlink:href=\"#DejaVuSans-65\"/>\n      <use x=\"414.546875\" xlink:href=\"#DejaVuSans-6d\"/>\n      <use x=\"511.958984\" xlink:href=\"#DejaVuSans-73\"/>\n     </g>\n    </g>\n    <g id=\"line2d_28\">\n     <path d=\"M 45.465625 34.976562 \nL 65.465625 34.976562 \n\" style=\"fill:none;stroke:#ff7f0e;stroke-linecap:square;stroke-width:1.5;\"/>\n    </g>\n    <g id=\"line2d_29\">\n     <g>\n      <use style=\"fill:#ff7f0e;stroke:#ff7f0e;\" x=\"55.465625\" xlink:href=\"#mca41e72fce\" y=\"34.976562\"/>\n     </g>\n    </g>\n    <g id=\"text_13\">\n     <!-- Same-Items -->\n     <g transform=\"translate(73.465625 38.476562)scale(0.1 -0.1)\">\n      <defs>\n       <path d=\"M 3425 4513 \nL 3425 3897 \nQ 3066 4069 2747 4153 \nQ 2428 4238 2131 4238 \nQ 1616 4238 1336 4038 \nQ 1056 3838 1056 3469 \nQ 1056 3159 1242 3001 \nQ 1428 2844 1947 2747 \nL 2328 2669 \nQ 3034 2534 3370 2195 \nQ 3706 1856 3706 1288 \nQ 3706 609 3251 259 \nQ 2797 -91 1919 -91 \nQ 1588 -91 1214 -16 \nQ 841 59 441 206 \nL 441 856 \nQ 825 641 1194 531 \nQ 1563 422 1919 422 \nQ 2459 422 2753 634 \nQ 3047 847 3047 1241 \nQ 3047 1584 2836 1778 \nQ 2625 1972 2144 2069 \nL 1759 2144 \nQ 1053 2284 737 2584 \nQ 422 2884 422 3419 \nQ 422 4038 858 4394 \nQ 1294 4750 2059 4750 \nQ 2388 4750 2728 4690 \nQ 3069 4631 3425 4513 \nz\n\" id=\"DejaVuSans-53\" transform=\"scale(0.015625)\"/>\n       <path d=\"M 2194 1759 \nQ 1497 1759 1228 1600 \nQ 959 1441 959 1056 \nQ 959 750 1161 570 \nQ 1363 391 1709 391 \nQ 2188 391 2477 730 \nQ 2766 1069 2766 1631 \nL 2766 1759 \nL 2194 1759 \nz\nM 3341 1997 \nL 3341 0 \nL 2766 0 \nL 2766 531 \nQ 2569 213 2275 61 \nQ 1981 -91 1556 -91 \nQ 1019 -91 701 211 \nQ 384 513 384 1019 \nQ 384 1609 779 1909 \nQ 1175 2209 1959 2209 \nL 2766 2209 \nL 2766 2266 \nQ 2766 2663 2505 2880 \nQ 2244 3097 1772 3097 \nQ 1472 3097 1187 3025 \nQ 903 2953 641 2809 \nL 641 3341 \nQ 956 3463 1253 3523 \nQ 1550 3584 1831 3584 \nQ 2591 3584 2966 3190 \nQ 3341 2797 3341 1997 \nz\n\" id=\"DejaVuSans-61\" transform=\"scale(0.015625)\"/>\n      </defs>\n      <use xlink:href=\"#DejaVuSans-53\"/>\n      <use x=\"63.476562\" xlink:href=\"#DejaVuSans-61\"/>\n      <use x=\"124.755859\" xlink:href=\"#DejaVuSans-6d\"/>\n      <use x=\"222.167969\" xlink:href=\"#DejaVuSans-65\"/>\n      <use x=\"283.691406\" xlink:href=\"#DejaVuSans-2d\"/>\n      <use x=\"319.775391\" xlink:href=\"#DejaVuSans-49\"/>\n      <use x=\"349.267578\" xlink:href=\"#DejaVuSans-74\"/>\n      <use x=\"388.476562\" xlink:href=\"#DejaVuSans-65\"/>\n      <use x=\"450\" xlink:href=\"#DejaVuSans-6d\"/>\n      <use x=\"547.412109\" xlink:href=\"#DejaVuSans-73\"/>\n     </g>\n    </g>\n    <g id=\"line2d_30\">\n     <path d=\"M 45.465625 49.654687 \nL 65.465625 49.654687 \n\" style=\"fill:none;stroke:#2ca02c;stroke-linecap:square;stroke-width:1.5;\"/>\n    </g>\n    <g id=\"line2d_31\">\n     <g>\n      <use style=\"fill:#2ca02c;stroke:#2ca02c;\" x=\"55.465625\" xlink:href=\"#mdb9ff325e9\" y=\"49.654687\"/>\n     </g>\n    </g>\n    <g id=\"text_14\">\n     <!-- Same-Model -->\n     <g transform=\"translate(73.465625 53.154687)scale(0.1 -0.1)\">\n      <defs>\n       <path d=\"M 628 4666 \nL 1569 4666 \nL 2759 1491 \nL 3956 4666 \nL 4897 4666 \nL 4897 0 \nL 4281 0 \nL 4281 4097 \nL 3078 897 \nL 2444 897 \nL 1241 4097 \nL 1241 0 \nL 628 0 \nL 628 4666 \nz\n\" id=\"DejaVuSans-4d\" transform=\"scale(0.015625)\"/>\n       <path d=\"M 1959 3097 \nQ 1497 3097 1228 2736 \nQ 959 2375 959 1747 \nQ 959 1119 1226 758 \nQ 1494 397 1959 397 \nQ 2419 397 2687 759 \nQ 2956 1122 2956 1747 \nQ 2956 2369 2687 2733 \nQ 2419 3097 1959 3097 \nz\nM 1959 3584 \nQ 2709 3584 3137 3096 \nQ 3566 2609 3566 1747 \nQ 3566 888 3137 398 \nQ 2709 -91 1959 -91 \nQ 1206 -91 779 398 \nQ 353 888 353 1747 \nQ 353 2609 779 3096 \nQ 1206 3584 1959 3584 \nz\n\" id=\"DejaVuSans-6f\" transform=\"scale(0.015625)\"/>\n       <path d=\"M 2906 2969 \nL 2906 4863 \nL 3481 4863 \nL 3481 0 \nL 2906 0 \nL 2906 525 \nQ 2725 213 2448 61 \nQ 2172 -91 1784 -91 \nQ 1150 -91 751 415 \nQ 353 922 353 1747 \nQ 353 2572 751 3078 \nQ 1150 3584 1784 3584 \nQ 2172 3584 2448 3432 \nQ 2725 3281 2906 2969 \nz\nM 947 1747 \nQ 947 1113 1208 752 \nQ 1469 391 1925 391 \nQ 2381 391 2643 752 \nQ 2906 1113 2906 1747 \nQ 2906 2381 2643 2742 \nQ 2381 3103 1925 3103 \nQ 1469 3103 1208 2742 \nQ 947 2381 947 1747 \nz\n\" id=\"DejaVuSans-64\" transform=\"scale(0.015625)\"/>\n       <path d=\"M 603 4863 \nL 1178 4863 \nL 1178 0 \nL 603 0 \nL 603 4863 \nz\n\" id=\"DejaVuSans-6c\" transform=\"scale(0.015625)\"/>\n      </defs>\n      <use xlink:href=\"#DejaVuSans-53\"/>\n      <use x=\"63.476562\" xlink:href=\"#DejaVuSans-61\"/>\n      <use x=\"124.755859\" xlink:href=\"#DejaVuSans-6d\"/>\n      <use x=\"222.167969\" xlink:href=\"#DejaVuSans-65\"/>\n      <use x=\"283.691406\" xlink:href=\"#DejaVuSans-2d\"/>\n      <use x=\"319.775391\" xlink:href=\"#DejaVuSans-4d\"/>\n      <use x=\"406.054688\" xlink:href=\"#DejaVuSans-6f\"/>\n      <use x=\"467.236328\" xlink:href=\"#DejaVuSans-64\"/>\n      <use x=\"530.712891\" xlink:href=\"#DejaVuSans-65\"/>\n      <use x=\"592.236328\" xlink:href=\"#DejaVuSans-6c\"/>\n     </g>\n    </g>\n   </g>\n  </g>\n </g>\n <defs>\n  <clipPath id=\"pa6c3ef6995\">\n   <rect height=\"217.44\" width=\"334.8\" x=\"36.465625\" y=\"7.2\"/>\n  </clipPath>\n </defs>\n</svg>\n",
            "image/png": "[encoded data removed]"
          },
          "metadata": {
            "tags": [],
            "needs_background": "light"
          }
        }
      ]
    },
    {
      "cell_type": "code",
      "metadata": {
        "id": "F39sSa1NRP5P"
      },
      "source": [
        ""
      ],
      "execution_count": null,
      "outputs": []
    },
    {
      "cell_type": "code",
      "metadata": {
        "id": "lPB5bl4JRP5Q"
      },
      "source": [
        ""
      ],
      "execution_count": null,
      "outputs": []
    }
  ]
}