{
  "nbformat": 4,
  "nbformat_minor": 0,
  "metadata": {
    "colab": {
      "name": "Incremental_Update.ipynb",
      "provenance": [],
      "collapsed_sections": [
        "15dFS1TUYbdh"
      ],
      "toc_visible": true
    },
    "kernelspec": {
      "name": "python3",
      "display_name": "Python 3"
    }
  },
  "cells": [
    {
      "cell_type": "code",
      "metadata": {
        "id": "bnB7cJYMVY4Y"
      },
      "source": [
        ""
      ],
      "execution_count": null,
      "outputs": []
    },
    {
      "cell_type": "markdown",
      "metadata": {
        "id": "waGNRsQkGt3t"
      },
      "source": [
        "## Imports"
      ]
    },
    {
      "cell_type": "code",
      "metadata": {
        "id": "LSMrVzzrFcnl"
      },
      "source": [
        "import io\n",
        "import os\n",
        "import gzip\n",
        "import json\n",
        "import scipy\n",
        "import random\n",
        "import warnings\n",
        "import numpy as np\n",
        "import numba as nb\n",
        "import pandas as pd\n",
        "import datetime as dt\n",
        "import seaborn as sns\n",
        "from tqdm import tqdm\n",
        "import scipy.stats as st\n",
        "from collections import OrderedDict\n",
        "import scipy.sparse as sparse\n",
        "from scipy.linalg import orth\n",
        "import matplotlib.pyplot as plt\n",
        "from numpy import linalg as lin\n",
        "warnings.filterwarnings('ignore')\n",
        "from scipy.sparse import coo_matrix\n",
        "from scipy.sparse.linalg import svds\n",
        "from datetime import datetime as dt_dt\n",
        "from scipy.sparse.linalg import spsolve\n",
        "from numpy.linalg import qr as QR_decomp\n",
        "from scipy.sparse import csr_matrix, find\n",
        "from pandas.api.types import CategoricalDtype"
      ],
      "execution_count": 1,
      "outputs": []
    },
    {
      "cell_type": "markdown",
      "metadata": {
        "id": "IkLZJhQWqaPp"
      },
      "source": [
        "## Functions"
      ]
    },
    {
      "cell_type": "code",
      "metadata": {
        "id": "q3U41fqMd0bb"
      },
      "source": [
        "import sys\n",
        "sys.path.append('/content/drive/MyDrive/ColabNotebooks/Research/')"
      ],
      "execution_count": 2,
      "outputs": []
    },
    {
      "cell_type": "code",
      "metadata": {
        "id": "pvqaARcTdiBl"
      },
      "source": [
        "import functions_"
      ],
      "execution_count": 3,
      "outputs": []
    },
    {
      "cell_type": "code",
      "metadata": {
        "id": "slSdgbc1XxNT"
      },
      "source": [
        "from functions_ import getPivotMonths\n",
        "from functions_ import Time_DataSplit\n",
        "from functions_ import TestTrain_DataSplit\n",
        "from functions_ import SingleRatingMatrix\n",
        "from functions_ import AllRatingMatrices\n",
        "from functions_ import All_SingleStepRatMat\n",
        "from functions_ import psiStep_RatMat\n",
        "from functions_ import psiAllStep_RatMat\n",
        "from functions_ import Find_NewUsersItems\n",
        "from functions_ import integrator\n",
        "from functions_ import getStartingValues\n",
        "from functions_ import integratorOnMat\n",
        "from functions_ import Find_NewUsersItems\n",
        "from functions_ import last_psiTrainMat\n",
        "from functions_ import Updt_RowMatrix\n",
        "from functions_ import getRow_Mat\n",
        "from functions_ import row_update\n",
        "from functions_ import Updt_ColMatrix\n",
        "from functions_ import getCol_Mat\n",
        "from functions_ import colunm_update\n",
        "from functions_ import UsersItems_RatPair\n",
        "from functions_ import getRowCol_psiupdt\n",
        "from functions_ import ITEMS_defferredStatus\n",
        "from functions_ import USERS_defferredStatus\n",
        "from functions_ import V_listUpdate\n",
        "from functions_ import SingleStep_UPDATE\n",
        "from functions_ import ALLSTEPs_update\n",
        "from functions_ import get_NEWHoldout\n",
        "from functions_ import adjustedAllDF\n",
        "from functions_ import adjustedPSI_DF\n",
        "from functions_ import adjustedAllDF\n",
        "from functions_ import getALLTopNPred\n",
        "from functions_ import TQDMgetALLTopNPred\n",
        "from functions_ import getALLTopNPred_ALLUSERS\n",
        "from functions_ import TQDMgetALLTopNPred_ALLUSERS\n",
        "from functions_ import getAll_HitRate\n",
        "from functions_ import get_ALLRandPred,getAll_RandomHitRate,getAll_MOSTPOP_Pred,getAll_MostPOPHitRate\n"
      ],
      "execution_count": 4,
      "outputs": []
    },
    {
      "cell_type": "code",
      "metadata": {
        "id": "rfvWf2AHehKD"
      },
      "source": [
        ""
      ],
      "execution_count": 5,
      "outputs": []
    },
    {
      "cell_type": "code",
      "metadata": {
        "id": "g0oNy5S9Cdjf"
      },
      "source": [
        ""
      ],
      "execution_count": null,
      "outputs": []
    },
    {
      "cell_type": "markdown",
      "metadata": {
        "id": "e556n8BpXy0b"
      },
      "source": [
        "## Apply Functions on *AmazonBeauty*"
      ]
    },
    {
      "cell_type": "markdown",
      "metadata": {
        "id": "15dFS1TUYbdh"
      },
      "source": [
        "###Step 1: Data Cleaning"
      ]
    },
    {
      "cell_type": "code",
      "metadata": {
        "id": "VUZRaA685ziq"
      },
      "source": [
        "BeautyDFF = BeautyDFF.drop_duplicates()\n",
        "BeautyDFF.shape"
      ],
      "execution_count": null,
      "outputs": []
    },
    {
      "cell_type": "code",
      "metadata": {
        "id": "78dMIU2k6mo1"
      },
      "source": [
        "sample_df = BeautyDFF.groupby(['userId_int']).agg({'productId_int':'count'}) \n",
        "sample_df = sample_df.rename(columns = {'productId_int':'Product_Count'}).reset_index() \n",
        "sample_ = sample_df[sample_df['Product_Count'] > 1]         #get list of users that have rated more than 5 products\n",
        "print(sample_.shape[0])\n",
        "onetime_userslist =  sample_['userId_int'].to_list()\n",
        "#print(len(onetime_userslist))\n",
        "#onetime_userslist[:10]"
      ],
      "execution_count": null,
      "outputs": []
    },
    {
      "cell_type": "code",
      "metadata": {
        "id": "Yb88IIGVv-Jo"
      },
      "source": [
        "# df_SAMPLE = BeautyDFF.groupby(['productId_int']).agg({'userId_int':'count'}) \n",
        "# df_SAMPLE = df_SAMPLE.rename(columns = {'userId_int':'User_Count'}).reset_index() \n",
        "# DF_Items = df_SAMPLE[df_SAMPLE['User_Count'] > 1]         #get list of users that have rated more than 5 products\n",
        "# print(DF_Items.shape[0])\n",
        "# onetime_itemslist =  DF_Items['productId_int'].to_list()\n",
        "# print(len(onetime_itemslist))\n",
        "# #onetime_itemslist[:10]"
      ],
      "execution_count": null,
      "outputs": []
    },
    {
      "cell_type": "code",
      "metadata": {
        "id": "IddXZ5DZEBt6"
      },
      "source": [
        "DFF_ = BeautyDFF.loc[ BeautyDFF['userId_int'].isin(onetime_userslist) ]#& BeautyDFF['productId_int'].isin(onetime_itemslist)]\n",
        "print(DFF_['productId_int'].nunique())\n",
        "print(DFF_['userId_int'].nunique())"
      ],
      "execution_count": null,
      "outputs": []
    },
    {
      "cell_type": "code",
      "metadata": {
        "id": "59SXuhxHGLQf"
      },
      "source": [
        ""
      ],
      "execution_count": null,
      "outputs": []
    },
    {
      "cell_type": "code",
      "metadata": {
        "id": "7xKUoM2e9HFr"
      },
      "source": [
        "#AMZB_1 = BeautyDFF.loc[BeautyDFF['userId_int'].isin(onetime_userslist) & BeautyDFF['productId_int'].isin(onetime_userslist)]\n",
        "AMZB_1 = DFF_[['productId_int','userId_int','rating','timestamp']]\n",
        "AMZB_1"
      ],
      "execution_count": null,
      "outputs": []
    },
    {
      "cell_type": "code",
      "metadata": {
        "id": "HbvFiTpDalYK"
      },
      "source": [
        "#AMZB_df = AMZB_11.rename(columns={'userId':'userId_int','productId':'productId_int'})\n",
        "#AMZB_1['timestamp'] = pd.to_datetime(AMZB_1['timestamp']) \n",
        "AMZB_df = AMZB_1.copy()\n",
        "print(AMZB_df.dtypes)\n",
        "print()\n",
        "print(\"nUnique users: \",AMZB_df['userId_int'].nunique())\n",
        "print(\"nUnique items: \",AMZB_df['productId_int'].nunique())\n",
        "AMZB_df = AMZB_df.sort_values(['timestamp'])\n",
        "AMZB_df"
      ],
      "execution_count": null,
      "outputs": []
    },
    {
      "cell_type": "code",
      "metadata": {
        "id": "s0_KQuEmYbdj"
      },
      "source": [
        "unique_USER_id = pd.unique(AMZB_df.userId_int)\n",
        "unique_PRODUCT_id = pd.unique(AMZB_df.productId_int)\n",
        "\n",
        "zipped_USER_id_pair = zip(unique_USER_id, range(0, len(unique_USER_id)+1, 1))\n",
        "zipped_PRODUCT_id_pair = zip(unique_PRODUCT_id, range(0, len(unique_PRODUCT_id)+1, 1))\n",
        "\n",
        "USER_id_dict = OrderedDict(zipped_USER_id_pair)\n",
        "PRODUCT_id_dict = OrderedDict(zipped_PRODUCT_id_pair)\n",
        "\n",
        "AMZB_df['userId'] = AMZB_df.userId_int.map(USER_id_dict)\n",
        "AMZB_df['productId'] = AMZB_df.productId_int.map(PRODUCT_id_dict)\n",
        "print(AMZB_df['userId'].max())\n",
        "print(AMZB_df['productId'].max())\n",
        "print()\n",
        "print(AMZB_df['userId'].nunique())\n",
        "print(AMZB_df['productId'].nunique())\n",
        "AMZB_df"
      ],
      "execution_count": null,
      "outputs": []
    },
    {
      "cell_type": "code",
      "metadata": {
        "id": "RdK1FuzFYbdm"
      },
      "source": [
        "AMZB_DF = AMZB_df[['userId','productId','rating','timestamp']]\n",
        "print(AMZB_DF.shape)\n",
        "print(\"For users: \")\n",
        "print(AMZB_DF['userId'].nunique())\n",
        "print(AMZB_DF['userId'].max())\n",
        "print()\n",
        "print(\"For items: \")\n",
        "print(AMZB_DF['productId'].nunique())\n",
        "print(AMZB_DF['productId'].max())\n",
        "print()\n",
        "print(\"Timestamp\")\n",
        "print(AMZB_DF['timestamp'].min())\n",
        "print(AMZB_DF['timestamp'].max())\n",
        "AMZB_DF"
      ],
      "execution_count": null,
      "outputs": []
    },
    {
      "cell_type": "markdown",
      "metadata": {
        "id": "Kq7VUKhmJPxP"
      },
      "source": [
        "###Step 2: Import Clean Data "
      ]
    },
    {
      "cell_type": "code",
      "metadata": {
        "id": "b5Ua7cmyGUuD"
      },
      "source": [
        ""
      ],
      "execution_count": null,
      "outputs": []
    },
    {
      "cell_type": "code",
      "metadata": {
        "colab": {
          "base_uri": "https://localhost:8080/",
          "height": 513
        },
        "id": "YDwA6s5IaiIe",
        "outputId": "6802a0ab-bef9-4b81-8abe-7e464d4d02d0"
      },
      "source": [
        "AMZB_DF  = pd.read_csv('/content/drive/MyDrive/ColabNotebooks/Research/Test_Data/usedAMZB.csv')\n",
        "AMZB_DF['timestamp'] = pd.to_datetime(AMZB_DF['timestamp']) \n",
        "print(AMZB_DF.shape)     #\tproductId_int\tuserId_int\n",
        "print(AMZB_DF.dtypes)\n",
        "AMZB_DF"
      ],
      "execution_count": 6,
      "outputs": [
        {
          "output_type": "stream",
          "text": [
            "(51869, 4)\n",
            "userId                int64\n",
            "productId             int64\n",
            "rating                int64\n",
            "timestamp    datetime64[ns]\n",
            "dtype: object\n"
          ],
          "name": "stdout"
        },
        {
          "output_type": "execute_result",
          "data": {
            "text/html": [
              "<div>\n",
              "<style scoped>\n",
              "    .dataframe tbody tr th:only-of-type {\n",
              "        vertical-align: middle;\n",
              "    }\n",
              "\n",
              "    .dataframe tbody tr th {\n",
              "        vertical-align: top;\n",
              "    }\n",
              "\n",
              "    .dataframe thead th {\n",
              "        text-align: right;\n",
              "    }\n",
              "</style>\n",
              "<table border=\"1\" class=\"dataframe\">\n",
              "  <thead>\n",
              "    <tr style=\"text-align: right;\">\n",
              "      <th></th>\n",
              "      <th>userId</th>\n",
              "      <th>productId</th>\n",
              "      <th>rating</th>\n",
              "      <th>timestamp</th>\n",
              "    </tr>\n",
              "  </thead>\n",
              "  <tbody>\n",
              "    <tr>\n",
              "      <th>0</th>\n",
              "      <td>0</td>\n",
              "      <td>0</td>\n",
              "      <td>1</td>\n",
              "      <td>2001-06-08</td>\n",
              "    </tr>\n",
              "    <tr>\n",
              "      <th>1</th>\n",
              "      <td>1</td>\n",
              "      <td>0</td>\n",
              "      <td>1</td>\n",
              "      <td>2002-06-12</td>\n",
              "    </tr>\n",
              "    <tr>\n",
              "      <th>2</th>\n",
              "      <td>1</td>\n",
              "      <td>1</td>\n",
              "      <td>1</td>\n",
              "      <td>2002-06-12</td>\n",
              "    </tr>\n",
              "    <tr>\n",
              "      <th>3</th>\n",
              "      <td>2</td>\n",
              "      <td>1</td>\n",
              "      <td>1</td>\n",
              "      <td>2002-06-17</td>\n",
              "    </tr>\n",
              "    <tr>\n",
              "      <th>4</th>\n",
              "      <td>3</td>\n",
              "      <td>1</td>\n",
              "      <td>1</td>\n",
              "      <td>2002-07-04</td>\n",
              "    </tr>\n",
              "    <tr>\n",
              "      <th>...</th>\n",
              "      <td>...</td>\n",
              "      <td>...</td>\n",
              "      <td>...</td>\n",
              "      <td>...</td>\n",
              "    </tr>\n",
              "    <tr>\n",
              "      <th>51864</th>\n",
              "      <td>21470</td>\n",
              "      <td>6687</td>\n",
              "      <td>1</td>\n",
              "      <td>2018-09-21</td>\n",
              "    </tr>\n",
              "    <tr>\n",
              "      <th>51865</th>\n",
              "      <td>16839</td>\n",
              "      <td>5635</td>\n",
              "      <td>1</td>\n",
              "      <td>2018-09-21</td>\n",
              "    </tr>\n",
              "    <tr>\n",
              "      <th>51866</th>\n",
              "      <td>15319</td>\n",
              "      <td>8618</td>\n",
              "      <td>1</td>\n",
              "      <td>2018-09-25</td>\n",
              "    </tr>\n",
              "    <tr>\n",
              "      <th>51867</th>\n",
              "      <td>12925</td>\n",
              "      <td>5977</td>\n",
              "      <td>1</td>\n",
              "      <td>2018-09-25</td>\n",
              "    </tr>\n",
              "    <tr>\n",
              "      <th>51868</th>\n",
              "      <td>22789</td>\n",
              "      <td>8619</td>\n",
              "      <td>1</td>\n",
              "      <td>2018-09-26</td>\n",
              "    </tr>\n",
              "  </tbody>\n",
              "</table>\n",
              "<p>51869 rows × 4 columns</p>\n",
              "</div>"
            ],
            "text/plain": [
              "       userId  productId  rating  timestamp\n",
              "0           0          0       1 2001-06-08\n",
              "1           1          0       1 2002-06-12\n",
              "2           1          1       1 2002-06-12\n",
              "3           2          1       1 2002-06-17\n",
              "4           3          1       1 2002-07-04\n",
              "...       ...        ...     ...        ...\n",
              "51864   21470       6687       1 2018-09-21\n",
              "51865   16839       5635       1 2018-09-21\n",
              "51866   15319       8618       1 2018-09-25\n",
              "51867   12925       5977       1 2018-09-25\n",
              "51868   22789       8619       1 2018-09-26\n",
              "\n",
              "[51869 rows x 4 columns]"
            ]
          },
          "metadata": {
            "tags": []
          },
          "execution_count": 6
        }
      ]
    },
    {
      "cell_type": "code",
      "metadata": {
        "colab": {
          "base_uri": "https://localhost:8080/"
        },
        "id": "2XWFDaGwFFCR",
        "outputId": "bc8ade91-b19e-4c1f-c72f-c5862f1053f6"
      },
      "source": [
        "print(AMZB_DF.shape)\n",
        "print(\"For users: \")\n",
        "print(AMZB_DF['userId'].nunique())\n",
        "print(AMZB_DF['userId'].max())\n",
        "print()\n",
        "print(\"For items: \")\n",
        "print(AMZB_DF['productId'].nunique())\n",
        "print(AMZB_DF['productId'].max())\n",
        "print()\n",
        "print(\"Timestamp\")\n",
        "print(AMZB_DF['timestamp'].min())\n",
        "print(AMZB_DF['timestamp'].max())"
      ],
      "execution_count": 7,
      "outputs": [
        {
          "output_type": "stream",
          "text": [
            "(51869, 4)\n",
            "For users: \n",
            "22799\n",
            "22798\n",
            "\n",
            "For items: \n",
            "8620\n",
            "8619\n",
            "\n",
            "Timestamp\n",
            "2001-06-08 00:00:00\n",
            "2018-09-26 00:00:00\n"
          ],
          "name": "stdout"
        }
      ]
    },
    {
      "cell_type": "code",
      "metadata": {
        "id": "xlbzMS4hGeF3"
      },
      "source": [
        ""
      ],
      "execution_count": null,
      "outputs": []
    },
    {
      "cell_type": "markdown",
      "metadata": {
        "id": "XD_pQm8Lfko0"
      },
      "source": [
        "###Step 1: Data Splitting"
      ]
    },
    {
      "cell_type": "code",
      "metadata": {
        "colab": {
          "base_uri": "https://localhost:8080/"
        },
        "id": "wrP1xsoKbkP2",
        "outputId": "6fb1150c-c85f-4df8-be26-36f9beeeeca8"
      },
      "source": [
        "pivotMonths_list  = getPivotMonths(AMZB_DF,'timestamp',N_TMonths=18)  \n",
        "pivotMonths_list"
      ],
      "execution_count": 8,
      "outputs": [
        {
          "output_type": "execute_result",
          "data": {
            "text/plain": [
              "[Timestamp('2018-08-26 00:00:00'),\n",
              " Timestamp('2018-07-26 00:00:00'),\n",
              " Timestamp('2018-06-26 00:00:00'),\n",
              " Timestamp('2018-05-26 00:00:00'),\n",
              " Timestamp('2018-04-26 00:00:00'),\n",
              " Timestamp('2018-03-26 00:00:00'),\n",
              " Timestamp('2018-02-26 00:00:00'),\n",
              " Timestamp('2018-01-26 00:00:00'),\n",
              " Timestamp('2017-12-26 00:00:00'),\n",
              " Timestamp('2017-11-26 00:00:00'),\n",
              " Timestamp('2017-10-26 00:00:00'),\n",
              " Timestamp('2017-09-26 00:00:00'),\n",
              " Timestamp('2017-08-26 00:00:00'),\n",
              " Timestamp('2017-07-26 00:00:00'),\n",
              " Timestamp('2017-06-26 00:00:00'),\n",
              " Timestamp('2017-05-26 00:00:00'),\n",
              " Timestamp('2017-04-26 00:00:00'),\n",
              " Timestamp('2017-03-26 00:00:00')]"
            ]
          },
          "metadata": {
            "tags": []
          },
          "execution_count": 8
        }
      ]
    },
    {
      "cell_type": "code",
      "metadata": {
        "colab": {
          "base_uri": "https://localhost:8080/"
        },
        "id": "eR4XK_e1882W",
        "outputId": "16766a0f-83f0-406d-d3bc-45b8404ae601"
      },
      "source": [
        "A0_df,ΔA_train,ΔA_test = Time_DataSplit(AMZB_DF,'timestamp',pivotMonths_list,N_TMonths= 18,n_train=10)\n",
        "print('Last date in A0_df :',A0_df['timestamp'].max())\n",
        "print('Num ΔA_train :', len(ΔA_train))"
      ],
      "execution_count": 9,
      "outputs": [
        {
          "output_type": "stream",
          "text": [
            "Last date in A0_df : 2017-03-25 00:00:00\n",
            "Num ΔA_train : 10\n"
          ],
          "name": "stdout"
        }
      ]
    },
    {
      "cell_type": "code",
      "metadata": {
        "colab": {
          "base_uri": "https://localhost:8080/"
        },
        "id": "FG95ceXI882a",
        "outputId": "af8db26f-e6ed-4acd-d6f9-0ec34dfb0a0d"
      },
      "source": [
        "AllDF_list, PSITest_list,HOLDOUT_list = TestTrain_DataSplit(AMZB_DF,'userId','timestamp',pivotMonths_list,ΔA_test)\n",
        "print('Num AllDF_list :', len(AllDF_list))"
      ],
      "execution_count": 10,
      "outputs": [
        {
          "output_type": "stream",
          "text": [
            "Num AllDF_list : 8\n"
          ],
          "name": "stdout"
        }
      ]
    },
    {
      "cell_type": "code",
      "metadata": {
        "id": "IFIEfHbaGkcJ"
      },
      "source": [
        ""
      ],
      "execution_count": null,
      "outputs": []
    },
    {
      "cell_type": "markdown",
      "metadata": {
        "id": "dzWCij3ZipQX"
      },
      "source": [
        "### Step 2: Find new users and items"
      ]
    },
    {
      "cell_type": "code",
      "metadata": {
        "colab": {
          "base_uri": "https://localhost:8080/"
        },
        "id": "L-GolZfZipQZ",
        "outputId": "61e830cc-10a4-4eee-edbd-aa26067675ed"
      },
      "source": [
        "Tstps = AMZB_DF['timestamp']\n",
        "tr_ts = ΔA_train[-1]['timestamp'].max()\n",
        "print(\"ΔA_train_last max date: \",tr_ts)\n",
        "AllDF_start = AMZB_DF.loc[Tstps <= tr_ts] \n",
        "print(AllDF_start['timestamp'].min())\n",
        "print(AllDF_start['timestamp'].max())\n",
        "print()\n",
        "print(AllDF_list[0]['timestamp'].min())\n",
        "print(AllDF_list[0]['timestamp'].max())"
      ],
      "execution_count": 11,
      "outputs": [
        {
          "output_type": "stream",
          "text": [
            "ΔA_train_last max date:  2018-01-25 00:00:00\n",
            "2001-06-08 00:00:00\n",
            "2018-01-25 00:00:00\n",
            "\n",
            "2001-06-08 00:00:00\n",
            "2018-02-25 00:00:00\n"
          ],
          "name": "stdout"
        }
      ]
    },
    {
      "cell_type": "code",
      "metadata": {
        "colab": {
          "base_uri": "https://localhost:8080/"
        },
        "id": "GfgYKuugA3lO",
        "outputId": "92e2d8f6-c08b-454c-be10-a29dbc080a59"
      },
      "source": [
        "New_usersList,New_itemsList = Find_NewUsersItems(AllDF_start,AllDF_list,'userId','productId',N_steps=8)\n",
        "New_usersList[0]   #[:10]"
      ],
      "execution_count": 12,
      "outputs": [
        {
          "output_type": "execute_result",
          "data": {
            "text/plain": [
              "array([22340, 22341, 22342, 22343, 22344, 22345, 22346, 22347, 22348,\n",
              "       22349, 22350, 22351, 22352, 22353, 22354, 22355, 22356, 22357,\n",
              "       22358, 22359, 22360, 22361, 22362, 22363, 22364, 22365, 22366,\n",
              "       22367, 22368, 22369, 22370, 22371, 22372, 22373, 22374, 22375,\n",
              "       22376, 22377, 22378, 22379, 22380, 22381, 22382, 22383, 22384,\n",
              "       22385, 22386, 22387, 22388, 22389, 22390, 22391, 22392, 22393,\n",
              "       22394, 22395, 22396, 22397, 22398, 22399, 22400, 22401, 22402,\n",
              "       22403, 22404, 22405, 22406, 22407, 22408, 22409, 22410, 22411,\n",
              "       22412, 22413, 22414, 22415, 22416, 22417, 22418, 22419, 22420,\n",
              "       22421, 22422, 22423, 22424, 22425, 22426, 22427, 22428, 22429,\n",
              "       22430, 22431, 22432, 22433, 22434, 22435, 22436, 22437, 22438,\n",
              "       22439, 22440, 22441, 22442, 22443, 22444, 22445, 22446, 22447,\n",
              "       22448, 22449, 22450])"
            ]
          },
          "metadata": {
            "tags": []
          },
          "execution_count": 12
        }
      ]
    },
    {
      "cell_type": "code",
      "metadata": {
        "colab": {
          "base_uri": "https://localhost:8080/"
        },
        "id": "0icoPBf-ipQb",
        "outputId": "391243ba-c727-4103-bf88-2e642acd4951"
      },
      "source": [
        "New_itemsList[0]    #[:10]"
      ],
      "execution_count": null,
      "outputs": [
        {
          "output_type": "execute_result",
          "data": {
            "text/plain": [
              "array([8328, 8329, 8330, 8331, 8332, 8333, 8334, 8335, 8336, 8337, 8338,\n",
              "       8339, 8340, 8341, 8342, 8343, 8344, 8345, 8346, 8347, 8348, 8349,\n",
              "       8350, 8351, 8352, 8353, 8354, 8355, 8356, 8357, 8358, 8359, 8360,\n",
              "       8361, 8362, 8363, 8364, 8365, 8366, 8367, 8368, 8369, 8370, 8371,\n",
              "       8372, 8373, 8374, 8375, 8376, 8377, 8378, 8379, 8380, 8381, 8382,\n",
              "       8383, 8384, 8385, 8386, 8387, 8388, 8389, 8390, 8391, 8392, 8393,\n",
              "       8394, 8395, 8396, 8397, 8398])"
            ]
          },
          "metadata": {
            "tags": []
          },
          "execution_count": 23
        }
      ]
    },
    {
      "cell_type": "code",
      "metadata": {
        "colab": {
          "base_uri": "https://localhost:8080/"
        },
        "id": "KXIsxxPnjhx2",
        "outputId": "7fe1de91-067a-4891-9b85-e3e66886d0e8"
      },
      "source": [
        "for i,j in zip(New_usersList,New_itemsList):\n",
        "    print(i.size)\n",
        "    print(j.size)\n",
        "    print()"
      ],
      "execution_count": 13,
      "outputs": [
        {
          "output_type": "stream",
          "text": [
            "111\n",
            "71\n",
            "\n",
            "97\n",
            "56\n",
            "\n",
            "119\n",
            "44\n",
            "\n",
            "78\n",
            "36\n",
            "\n",
            "24\n",
            "26\n",
            "\n",
            "17\n",
            "28\n",
            "\n",
            "12\n",
            "20\n",
            "\n",
            "1\n",
            "11\n",
            "\n"
          ],
          "name": "stdout"
        }
      ]
    },
    {
      "cell_type": "code",
      "metadata": {
        "id": "1ykECNc7G4GL"
      },
      "source": [
        ""
      ],
      "execution_count": null,
      "outputs": []
    },
    {
      "cell_type": "markdown",
      "metadata": {
        "id": "n_XyE7otUxey"
      },
      "source": [
        "###Get Updt RatMat"
      ]
    },
    {
      "cell_type": "code",
      "metadata": {
        "id": "PjMS-Xdzj0SO",
        "colab": {
          "base_uri": "https://localhost:8080/"
        },
        "outputId": "1dc803ad-263a-4098-f790-32cf405dc555"
      },
      "source": [
        "print(AllDF_start['userId'].nunique(),AllDF_start['productId'].nunique())   #"
      ],
      "execution_count": null,
      "outputs": [
        {
          "output_type": "stream",
          "text": [
            "22340 8328\n"
          ],
          "name": "stdout"
        }
      ]
    },
    {
      "cell_type": "code",
      "metadata": {
        "colab": {
          "base_uri": "https://localhost:8080/"
        },
        "id": "-S_Ti3jIVmL7",
        "outputId": "38aa768c-0309-41ac-9359-2b6db7c600b1"
      },
      "source": [
        "rows_i = AllDF_start['userId'].nunique()\n",
        "cols_i = AllDF_start['productId'].nunique()\n",
        "print(A0_df.shape)\n",
        "A0_RatMat_updt = SingleRatingMatrix(A0_df,'userId', 'productId',rows_i,cols_i)\n",
        "A0_RatMat_updt"
      ],
      "execution_count": 14,
      "outputs": [
        {
          "output_type": "stream",
          "text": [
            "(45139, 4)\n"
          ],
          "name": "stdout"
        },
        {
          "output_type": "execute_result",
          "data": {
            "text/plain": [
              "<22340x8328 sparse matrix of type '<class 'numpy.float64'>'\n",
              "\twith 44740 stored elements in Compressed Sparse Row format>"
            ]
          },
          "metadata": {
            "tags": []
          },
          "execution_count": 14
        }
      ]
    },
    {
      "cell_type": "code",
      "metadata": {
        "colab": {
          "base_uri": "https://localhost:8080/"
        },
        "id": "9bSWovTNVmMX",
        "outputId": "46ce7292-7294-4427-d803-a2c9a0d6b33f"
      },
      "source": [
        "PSI_TrainMat_updt = AllRatingMatrices(ΔA_train,'userId','productId',rows_i ,cols_i)\n",
        "PSI_TrainMat_updt"
      ],
      "execution_count": 15,
      "outputs": [
        {
          "output_type": "execute_result",
          "data": {
            "text/plain": [
              "[<22340x8328 sparse matrix of type '<class 'numpy.float64'>'\n",
              " \twith 553 stored elements in Compressed Sparse Row format>,\n",
              " <22340x8328 sparse matrix of type '<class 'numpy.float64'>'\n",
              " \twith 518 stored elements in Compressed Sparse Row format>,\n",
              " <22340x8328 sparse matrix of type '<class 'numpy.float64'>'\n",
              " \twith 432 stored elements in Compressed Sparse Row format>,\n",
              " <22340x8328 sparse matrix of type '<class 'numpy.float64'>'\n",
              " \twith 397 stored elements in Compressed Sparse Row format>,\n",
              " <22340x8328 sparse matrix of type '<class 'numpy.float64'>'\n",
              " \twith 493 stored elements in Compressed Sparse Row format>,\n",
              " <22340x8328 sparse matrix of type '<class 'numpy.float64'>'\n",
              " \twith 1017 stored elements in Compressed Sparse Row format>,\n",
              " <22340x8328 sparse matrix of type '<class 'numpy.float64'>'\n",
              " \twith 482 stored elements in Compressed Sparse Row format>,\n",
              " <22340x8328 sparse matrix of type '<class 'numpy.float64'>'\n",
              " \twith 357 stored elements in Compressed Sparse Row format>,\n",
              " <22340x8328 sparse matrix of type '<class 'numpy.float64'>'\n",
              " \twith 290 stored elements in Compressed Sparse Row format>,\n",
              " <22340x8328 sparse matrix of type '<class 'numpy.float64'>'\n",
              " \twith 318 stored elements in Compressed Sparse Row format>]"
            ]
          },
          "metadata": {
            "tags": []
          },
          "execution_count": 15
        }
      ]
    },
    {
      "cell_type": "code",
      "metadata": {
        "id": "X9B1wEG8YUQa",
        "colab": {
          "base_uri": "https://localhost:8080/"
        },
        "outputId": "eb89053e-f64a-4205-ba8c-c801839c2e24"
      },
      "source": [
        "print(ΔA_train[-1]['userId'].max(),AllDF_start['userId'].nunique())\n",
        "print(AllDF_start['userId'].nunique(),AllDF_start['productId'].nunique()) "
      ],
      "execution_count": null,
      "outputs": [
        {
          "output_type": "stream",
          "text": [
            "22339 22340\n",
            "22340 8328\n"
          ],
          "name": "stdout"
        }
      ]
    },
    {
      "cell_type": "code",
      "metadata": {
        "colab": {
          "base_uri": "https://localhost:8080/"
        },
        "id": "gZKKzIA4UPAt",
        "outputId": "6b763053-987d-477f-fb14-9f66a6ebb245"
      },
      "source": [
        "U_start,S_start,V_start = last_psiTrainMat(A0_RatMat_updt,PSI_TrainMat_updt,k=50)\n",
        "print()\n",
        "print(\"U_start shape: \",U_start.shape)\n",
        "print(\"S_start shape: \",S_start.shape)\n",
        "print(\"V_start shape: \",V_start.shape)"
      ],
      "execution_count": 16,
      "outputs": [
        {
          "output_type": "stream",
          "text": [
            "100%|██████████| 10/10 [00:01<00:00,  8.75it/s]"
          ],
          "name": "stderr"
        },
        {
          "output_type": "stream",
          "text": [
            "\n",
            "U_start shape:  (22340, 50)\n",
            "S_start shape:  (50, 50)\n",
            "V_start shape:  (8328, 50)\n"
          ],
          "name": "stdout"
        },
        {
          "output_type": "stream",
          "text": [
            "\n"
          ],
          "name": "stderr"
        }
      ]
    },
    {
      "cell_type": "code",
      "metadata": {
        "id": "e9NJhE62HOOO"
      },
      "source": [
        ""
      ],
      "execution_count": null,
      "outputs": []
    },
    {
      "cell_type": "markdown",
      "metadata": {
        "id": "A0k3BxpQCEDK"
      },
      "source": [
        "### Allsteps Update"
      ]
    },
    {
      "cell_type": "code",
      "metadata": {
        "colab": {
          "base_uri": "https://localhost:8080/"
        },
        "id": "1c2frghJa9qQ",
        "outputId": "7bd60a8c-b7fd-4471-b2d0-d2cd9bee31e6"
      },
      "source": [
        "U_list,S_list,V_list = [],[],[]\n",
        "U_list.append(U_start)\n",
        "S_list.append(S_start)\n",
        "V_list.append(V_start)\n",
        "print(len(U_list),len(V_list))"
      ],
      "execution_count": 17,
      "outputs": [
        {
          "output_type": "stream",
          "text": [
            "1 1\n"
          ],
          "name": "stdout"
        }
      ]
    },
    {
      "cell_type": "code",
      "metadata": {
        "id": "REJpSyBqoAOj"
      },
      "source": [
        ""
      ],
      "execution_count": null,
      "outputs": []
    },
    {
      "cell_type": "code",
      "metadata": {
        "colab": {
          "base_uri": "https://localhost:8080/"
        },
        "id": "eUxq--VoCbNL",
        "outputId": "2ff976fb-c217-4a0f-f142-58c924b12361"
      },
      "source": [
        "DItems_, DUsers_,In_DomainUSERS,In_DomainITEMS,userID_dict,itemID_dict,AllUpdtUSERS_,AllUpdtITEMS_,U_list,S_list,V_list = ALLSTEPs_update(AllDF_start,\n",
        "                                                                          AllDF_list,New_itemsList,New_usersList,U_list,S_list,V_list)"
      ],
      "execution_count": 18,
      "outputs": [
        {
          "output_type": "stream",
          "text": [
            "  1%|          | 1/111 [00:00<00:11,  9.38it/s]"
          ],
          "name": "stderr"
        },
        {
          "output_type": "stream",
          "text": [
            "1st Updating Phase..\n",
            "\n",
            "Is_UserCold? : False\n",
            "Is_ItemCold? : True\n",
            "Is_ItemCold? : False\n",
            "22340 8329\n",
            "\n",
            "Is_UserCold? : False\n",
            "Is_ItemCold? : False\n",
            "22341 8330\n",
            "\n",
            "Is_UserCold? : False\n"
          ],
          "name": "stdout"
        },
        {
          "output_type": "stream",
          "text": [
            "\r  3%|▎         | 3/111 [00:00<00:10, 10.10it/s]"
          ],
          "name": "stderr"
        },
        {
          "output_type": "stream",
          "text": [
            "Is_ItemCold? : False\n",
            "22342 8331\n",
            "\n",
            "Is_UserCold? : False\n",
            "Is_ItemCold? : False\n",
            "22343 8332\n",
            "\n",
            "Is_UserCold? : False\n",
            "Is_ItemCold? : True\n",
            "Is_ItemCold? : True\n",
            "Is_ItemCold? : True\n",
            "Is_ItemCold? : False\n",
            "22344 8336\n"
          ],
          "name": "stdout"
        },
        {
          "output_type": "stream",
          "text": [
            "  5%|▌         | 6/111 [00:00<00:11,  9.38it/s]"
          ],
          "name": "stderr"
        },
        {
          "output_type": "stream",
          "text": [
            "\n",
            "Is_UserCold? : False\n",
            "Is_ItemCold? : True\n",
            "Is_ItemCold? : True\n",
            "Is_ItemCold? : True\n",
            "Is_ItemCold? : True\n",
            "Is_ItemCold? : True\n",
            "Is_ItemCold? : True\n",
            "Is_ItemCold? : False\n",
            "22345 8343\n",
            "\n",
            "Is_UserCold? : False\n",
            "Is_ItemCold? : False\n",
            "22346 8344\n"
          ],
          "name": "stdout"
        },
        {
          "output_type": "stream",
          "text": [
            "\r  7%|▋         | 8/111 [00:00<00:10, 10.02it/s]"
          ],
          "name": "stderr"
        },
        {
          "output_type": "stream",
          "text": [
            "\n",
            "Is_UserCold? : False\n",
            "Is_ItemCold? : False\n",
            "22347 8345\n",
            "\n",
            "Is_UserCold? : False\n",
            "Is_ItemCold? : False\n",
            "22348 8346\n",
            "\n",
            "Is_UserCold? : False\n",
            "Is_ItemCold? : True\n",
            "Is_ItemCold? : True\n",
            "Is_ItemCold? : False\n",
            "22349 8349\n"
          ],
          "name": "stdout"
        },
        {
          "output_type": "stream",
          "text": [
            " 11%|█         | 12/111 [00:01<00:09, 10.46it/s]"
          ],
          "name": "stderr"
        },
        {
          "output_type": "stream",
          "text": [
            "\n",
            "Is_UserCold? : False\n",
            "Is_ItemCold? : True\n",
            "Is_ItemCold? : True\n",
            "Is_ItemCold? : False\n",
            "22350 8352\n",
            "\n",
            "Is_UserCold? : False\n",
            "Is_ItemCold? : True\n",
            "Is_ItemCold? : True\n",
            "Is_ItemCold? : False\n",
            "22351 8355\n",
            "\n",
            "Is_UserCold? : False\n",
            "Is_ItemCold? : True\n"
          ],
          "name": "stdout"
        },
        {
          "output_type": "stream",
          "text": [
            "\r 12%|█▏        | 13/111 [00:01<00:10,  9.72it/s]"
          ],
          "name": "stderr"
        },
        {
          "output_type": "stream",
          "text": [
            "Is_ItemCold? : True\n",
            "Is_ItemCold? : True\n",
            "Is_ItemCold? : True\n",
            "Is_ItemCold? : True\n",
            "Is_ItemCold? : False\n",
            "22352 8361\n",
            "\n",
            "Is_UserCold? : False\n",
            "Is_ItemCold? : True\n",
            "Is_ItemCold? : False\n",
            "22353 8363\n",
            "\n",
            "Is_UserCold? : False\n",
            "Is_ItemCold? : False\n",
            "22354 8364\n"
          ],
          "name": "stdout"
        },
        {
          "output_type": "stream",
          "text": [
            " 15%|█▌        | 17/111 [00:01<00:08, 10.58it/s]"
          ],
          "name": "stderr"
        },
        {
          "output_type": "stream",
          "text": [
            "\n",
            "Is_UserCold? : True\n",
            "Is_UserCold? : False\n",
            "Is_ItemCold? : True\n",
            "Is_ItemCold? : True\n",
            "Is_ItemCold? : True\n",
            "Is_ItemCold? : False\n",
            "22356 8368\n",
            "\n",
            "Is_UserCold? : False\n",
            "Is_ItemCold? : False\n",
            "22357 8369\n",
            "\n",
            "Is_UserCold? : False\n",
            "Is_ItemCold? : False\n",
            "22358 8370\n"
          ],
          "name": "stdout"
        },
        {
          "output_type": "stream",
          "text": [
            "\r 17%|█▋        | 19/111 [00:01<00:08, 10.93it/s]"
          ],
          "name": "stderr"
        },
        {
          "output_type": "stream",
          "text": [
            "\n",
            "Is_UserCold? : False\n",
            "Is_ItemCold? : False\n",
            "22359 8371\n",
            "\n",
            "Is_UserCold? : True\n",
            "Is_UserCold? : False\n",
            "Is_ItemCold? : False\n",
            "22361 8372\n",
            "\n",
            "Is_UserCold? : True\n",
            "Is_UserCold? : False\n",
            "Is_ItemCold? : False\n",
            "22363 8373\n"
          ],
          "name": "stdout"
        },
        {
          "output_type": "stream",
          "text": [
            " 21%|██        | 23/111 [00:02<00:07, 11.43it/s]"
          ],
          "name": "stderr"
        },
        {
          "output_type": "stream",
          "text": [
            "\n",
            "Is_UserCold? : False\n",
            "Is_ItemCold? : False\n",
            "22364 8374\n",
            "\n",
            "Is_UserCold? : True\n",
            "Is_UserCold? : False\n",
            "Is_ItemCold? : False\n",
            "22366 8375\n",
            "\n",
            "Is_UserCold? : False\n",
            "Is_ItemCold? : True\n",
            "Is_ItemCold? : True\n"
          ],
          "name": "stdout"
        },
        {
          "output_type": "stream",
          "text": [
            "\r 23%|██▎       | 25/111 [00:02<00:07, 11.20it/s]"
          ],
          "name": "stderr"
        },
        {
          "output_type": "stream",
          "text": [
            "Is_ItemCold? : False\n",
            "22367 8378\n",
            "\n",
            "Is_UserCold? : False\n",
            "Is_ItemCold? : False\n",
            "22368 8379\n",
            "\n",
            "Is_UserCold? : False\n",
            "Is_ItemCold? : True\n",
            "Is_ItemCold? : True\n",
            "Is_ItemCold? : True\n",
            "Is_ItemCold? : True\n",
            "Is_ItemCold? : True\n",
            "Is_ItemCold? : False\n",
            "22369 8385\n"
          ],
          "name": "stdout"
        },
        {
          "output_type": "stream",
          "text": [
            "\r 24%|██▍       | 27/111 [00:02<00:07, 10.91it/s]"
          ],
          "name": "stderr"
        },
        {
          "output_type": "stream",
          "text": [
            "\n",
            "Is_UserCold? : False\n",
            "Is_ItemCold? : False\n",
            "22370 8386\n",
            "\n",
            "Is_UserCold? : False\n",
            "Is_ItemCold? : True\n",
            "Is_ItemCold? : True\n",
            "Is_ItemCold? : False\n",
            "22371 8389\n",
            "\n",
            "Is_UserCold? : True\n",
            "Is_UserCold? : False\n",
            "Is_ItemCold? : True\n",
            "Is_ItemCold? : False\n",
            "22373 8391\n"
          ],
          "name": "stdout"
        },
        {
          "output_type": "stream",
          "text": [
            " 28%|██▊       | 31/111 [00:02<00:07, 10.53it/s]"
          ],
          "name": "stderr"
        },
        {
          "output_type": "stream",
          "text": [
            "\n",
            "Is_UserCold? : False\n",
            "Is_ItemCold? : True\n",
            "Is_ItemCold? : True\n",
            "Is_ItemCold? : True\n",
            "Is_ItemCold? : True\n",
            "Is_ItemCold? : True\n",
            "Is_ItemCold? : True\n",
            "Is_ItemCold? : False\n",
            "22374 8398\n",
            "\n",
            "\n",
            "Is_UserCold? : False\n",
            "\n"
          ],
          "name": "stdout"
        },
        {
          "output_type": "stream",
          "text": [
            "\r 31%|███       | 34/111 [00:02<00:06, 12.69it/s]"
          ],
          "name": "stderr"
        },
        {
          "output_type": "stream",
          "text": [
            "Is_UserCold? : True\n",
            "Is_UserCold? : False\n",
            "\n",
            "Is_UserCold? : False\n",
            "\n",
            "Is_UserCold? : False\n",
            "\n",
            "Is_UserCold? : False\n",
            "\n",
            "Is_UserCold? : False\n",
            "\n",
            "Is_UserCold? : False\n"
          ],
          "name": "stdout"
        },
        {
          "output_type": "stream",
          "text": [
            " 36%|███▌      | 40/111 [00:03<00:04, 17.35it/s]"
          ],
          "name": "stderr"
        },
        {
          "output_type": "stream",
          "text": [
            "\n",
            "Is_UserCold? : True\n",
            "Is_UserCold? : False\n",
            "\n",
            "Is_UserCold? : False\n",
            "\n",
            "Is_UserCold? : False\n",
            "\n",
            "Is_UserCold? : True\n",
            "Is_UserCold? : True\n",
            "Is_UserCold? : False\n",
            "\n",
            "Is_UserCold? : False\n",
            "\n",
            "Is_UserCold? : False\n"
          ],
          "name": "stdout"
        },
        {
          "output_type": "stream",
          "text": [
            " 41%|████▏     | 46/111 [00:03<00:03, 20.94it/s]"
          ],
          "name": "stderr"
        },
        {
          "output_type": "stream",
          "text": [
            "\n",
            "Is_UserCold? : False\n",
            "\n",
            "Is_UserCold? : False\n",
            "\n",
            "Is_UserCold? : False\n",
            "\n",
            "Is_UserCold? : False\n",
            "\n",
            "Is_UserCold? : False\n",
            "\n",
            "Is_UserCold? : False\n"
          ],
          "name": "stdout"
        },
        {
          "output_type": "stream",
          "text": [
            " 47%|████▋     | 52/111 [00:03<00:02, 23.32it/s]"
          ],
          "name": "stderr"
        },
        {
          "output_type": "stream",
          "text": [
            "\n",
            "Is_UserCold? : True\n",
            "Is_UserCold? : False\n",
            "\n",
            "Is_UserCold? : False\n",
            "\n",
            "Is_UserCold? : False\n",
            "\n",
            "Is_UserCold? : False\n",
            "\n",
            "Is_UserCold? : False\n",
            "\n"
          ],
          "name": "stdout"
        },
        {
          "output_type": "stream",
          "text": [
            " 52%|█████▏    | 58/111 [00:03<00:02, 24.55it/s]"
          ],
          "name": "stderr"
        },
        {
          "output_type": "stream",
          "text": [
            "Is_UserCold? : False\n",
            "\n",
            "Is_UserCold? : False\n",
            "\n",
            "Is_UserCold? : False\n",
            "\n",
            "Is_UserCold? : False\n",
            "\n",
            "Is_UserCold? : False\n",
            "\n",
            "Is_UserCold? : False\n"
          ],
          "name": "stdout"
        },
        {
          "output_type": "stream",
          "text": [
            " 58%|█████▊    | 64/111 [00:04<00:01, 25.66it/s]"
          ],
          "name": "stderr"
        },
        {
          "output_type": "stream",
          "text": [
            "\n",
            "Is_UserCold? : False\n",
            "\n",
            "Is_UserCold? : False\n",
            "\n",
            "Is_UserCold? : False\n",
            "\n",
            "Is_UserCold? : False\n",
            "\n",
            "Is_UserCold? : False\n",
            "\n",
            "Is_UserCold? : False\n"
          ],
          "name": "stdout"
        },
        {
          "output_type": "stream",
          "text": [
            " 63%|██████▎   | 70/111 [00:04<00:01, 26.13it/s]"
          ],
          "name": "stderr"
        },
        {
          "output_type": "stream",
          "text": [
            "\n",
            "Is_UserCold? : False\n",
            "\n",
            "Is_UserCold? : False\n",
            "\n",
            "Is_UserCold? : False\n",
            "\n",
            "Is_UserCold? : False\n",
            "\n",
            "Is_UserCold? : False\n",
            "\n",
            "Is_UserCold? : False\n"
          ],
          "name": "stdout"
        },
        {
          "output_type": "stream",
          "text": [
            " 68%|██████▊   | 76/111 [00:04<00:01, 26.46it/s]"
          ],
          "name": "stderr"
        },
        {
          "output_type": "stream",
          "text": [
            "\n",
            "Is_UserCold? : False\n",
            "\n",
            "Is_UserCold? : False\n",
            "\n",
            "Is_UserCold? : False\n",
            "\n",
            "Is_UserCold? : False\n",
            "\n",
            "Is_UserCold? : False\n",
            "\n",
            "Is_UserCold? : False\n"
          ],
          "name": "stdout"
        },
        {
          "output_type": "stream",
          "text": [
            " 74%|███████▍  | 82/111 [00:04<00:01, 25.70it/s]"
          ],
          "name": "stderr"
        },
        {
          "output_type": "stream",
          "text": [
            "\n",
            "Is_UserCold? : False\n",
            "\n",
            "Is_UserCold? : False\n",
            "\n",
            "Is_UserCold? : False\n",
            "\n",
            "Is_UserCold? : False\n",
            "\n",
            "Is_UserCold? : True\n",
            "Is_UserCold? : False\n"
          ],
          "name": "stdout"
        },
        {
          "output_type": "stream",
          "text": [
            " 79%|███████▉  | 88/111 [00:05<00:00, 25.32it/s]"
          ],
          "name": "stderr"
        },
        {
          "output_type": "stream",
          "text": [
            "\n",
            "Is_UserCold? : False\n",
            "\n",
            "Is_UserCold? : False\n",
            "\n",
            "Is_UserCold? : False\n",
            "\n",
            "Is_UserCold? : False\n",
            "\n",
            "Is_UserCold? : False\n",
            "\n",
            "Is_UserCold? : False\n"
          ],
          "name": "stdout"
        },
        {
          "output_type": "stream",
          "text": [
            " 85%|████████▍ | 94/111 [00:05<00:00, 25.55it/s]"
          ],
          "name": "stderr"
        },
        {
          "output_type": "stream",
          "text": [
            "\n",
            "Is_UserCold? : False\n",
            "\n",
            "Is_UserCold? : False\n",
            "\n",
            "Is_UserCold? : True\n",
            "Is_UserCold? : False\n",
            "\n",
            "Is_UserCold? : False\n",
            "\n",
            "Is_UserCold? : True\n",
            "Is_UserCold? : False\n",
            "\n",
            "Is_UserCold? : False\n"
          ],
          "name": "stdout"
        },
        {
          "output_type": "stream",
          "text": [
            "100%|██████████| 111/111 [00:05<00:00, 20.46it/s]\n",
            "  0%|          | 0/41 [00:00<?, ?it/s]"
          ],
          "name": "stderr"
        },
        {
          "output_type": "stream",
          "text": [
            "\n",
            "Is_UserCold? : False\n",
            "\n",
            "Is_UserCold? : False\n",
            "\n",
            "2nd Updating Phase..\n",
            "\n",
            "Is_UserCold? : True\n",
            "Is_UserCold? : True\n",
            "Is_UserCold? : True\n",
            "Is_UserCold? : True\n",
            "Is_UserCold? : True\n",
            "Is_UserCold? : True\n",
            "Is_UserCold? : True\n",
            "Is_UserCold? : True\n",
            "Is_UserCold? : True\n",
            "Is_UserCold? : True\n",
            "Is_UserCold? : True\n",
            "Is_UserCold? : True\n",
            "Is_UserCold? : True\n",
            "Is_ItemCold? : False\n",
            "\n",
            "Is_ItemCold? : False\n"
          ],
          "name": "stdout"
        },
        {
          "output_type": "stream",
          "text": [
            " 10%|▉         | 4/41 [00:00<00:02, 15.40it/s]"
          ],
          "name": "stderr"
        },
        {
          "output_type": "stream",
          "text": [
            "\n",
            "Is_ItemCold? : False\n",
            "\n",
            "Is_ItemCold? : True\n",
            "Is_ItemCold? : True\n",
            "Is_ItemCold? : True\n",
            "Is_ItemCold? : True\n",
            "Is_ItemCold? : False\n",
            "\n",
            "Is_ItemCold? : True\n",
            "Is_ItemCold? : True\n",
            "Is_ItemCold? : True\n",
            "Is_ItemCold? : False\n",
            "\n"
          ],
          "name": "stdout"
        },
        {
          "output_type": "stream",
          "text": [
            " 20%|█▉        | 8/41 [00:00<00:02, 15.52it/s]"
          ],
          "name": "stderr"
        },
        {
          "output_type": "stream",
          "text": [
            "Is_ItemCold? : True\n",
            "Is_ItemCold? : True\n",
            "Is_ItemCold? : False\n",
            "\n",
            "Is_ItemCold? : True\n",
            "Is_ItemCold? : True\n",
            "Is_ItemCold? : False\n",
            "\n",
            "Is_ItemCold? : True\n",
            "Is_ItemCold? : True\n",
            "Is_ItemCold? : True\n",
            "Is_ItemCold? : False\n",
            "\n",
            "Is_ItemCold? : False\n"
          ],
          "name": "stdout"
        },
        {
          "output_type": "stream",
          "text": [
            "\r 27%|██▋       | 11/41 [00:00<00:01, 16.88it/s]"
          ],
          "name": "stderr"
        },
        {
          "output_type": "stream",
          "text": [
            "\n",
            "Is_ItemCold? : True\n",
            "Is_ItemCold? : False\n",
            "\n",
            "Is_ItemCold? : False\n",
            "\n",
            "Is_ItemCold? : False\n",
            "\n",
            "Is_ItemCold? : False\n",
            "\n",
            "Is_ItemCold? : False\n"
          ],
          "name": "stdout"
        },
        {
          "output_type": "stream",
          "text": [
            " 41%|████▏     | 17/41 [00:00<00:01, 18.91it/s]"
          ],
          "name": "stderr"
        },
        {
          "output_type": "stream",
          "text": [
            "\n",
            "Is_ItemCold? : True\n",
            "Is_ItemCold? : False\n",
            "\n",
            "Is_ItemCold? : False\n",
            "\n",
            "Is_ItemCold? : True\n",
            "Is_ItemCold? : False\n",
            "\n",
            "Is_ItemCold? : False\n",
            "\n",
            "Is_ItemCold? : False\n"
          ],
          "name": "stdout"
        },
        {
          "output_type": "stream",
          "text": [
            "100%|██████████| 41/41 [00:01<00:00, 37.35it/s]\n",
            "  0%|          | 0/7 [00:00<?, ?it/s]\n",
            "  0%|          | 0/110 [00:00<?, ?it/s]\u001b[A"
          ],
          "name": "stderr"
        },
        {
          "output_type": "stream",
          "text": [
            "\n",
            "Is_ItemCold? : True\n",
            "Is_ItemCold? : True\n",
            "Is_ItemCold? : False\n",
            "\n",
            "Is_ItemCold? : True\n",
            "Is_ItemCold? : True\n",
            "1st Updating Phase..\n",
            "\n",
            "Is_UserCold? : False\n",
            "Is_ItemCold? : False\n",
            "22451 8399\n",
            "\n",
            "Is_UserCold? : False\n",
            "Is_ItemCold? : False\n",
            "22452 8400\n"
          ],
          "name": "stdout"
        },
        {
          "output_type": "stream",
          "text": [
            "\n",
            "  2%|▏         | 2/110 [00:00<00:09, 11.27it/s]\u001b[A\n",
            "  3%|▎         | 3/110 [00:00<00:10, 10.51it/s]\u001b[A"
          ],
          "name": "stderr"
        },
        {
          "output_type": "stream",
          "text": [
            "\n",
            "Is_UserCold? : True\n",
            "Is_UserCold? : False\n",
            "Is_ItemCold? : False\n",
            "22454 8401\n",
            "\n"
          ],
          "name": "stdout"
        },
        {
          "output_type": "stream",
          "text": [
            "\n",
            "  4%|▎         | 4/110 [00:00<00:10,  9.79it/s]\u001b[A"
          ],
          "name": "stderr"
        },
        {
          "output_type": "stream",
          "text": [
            "Is_UserCold? : False\n",
            "Is_ItemCold? : True\n",
            "Is_ItemCold? : True\n",
            "Is_ItemCold? : False\n",
            "22455 8404\n",
            "\n",
            "Is_UserCold? : False\n",
            "Is_ItemCold? : False\n",
            "22456 8405\n",
            "\n",
            "Is_UserCold? : False\n",
            "Is_ItemCold? : False\n",
            "22457 8406\n"
          ],
          "name": "stdout"
        },
        {
          "output_type": "stream",
          "text": [
            "\n",
            "  5%|▌         | 6/110 [00:00<00:10, 10.17it/s]\u001b[A\n",
            "  6%|▋         | 7/110 [00:00<00:10, 10.01it/s]\u001b[A"
          ],
          "name": "stderr"
        },
        {
          "output_type": "stream",
          "text": [
            "\n",
            "Is_UserCold? : False\n",
            "Is_ItemCold? : False\n",
            "22458 8407\n",
            "\n",
            "Is_UserCold? : False\n",
            "Is_ItemCold? : False\n",
            "22459 8408\n",
            "\n"
          ],
          "name": "stdout"
        },
        {
          "output_type": "stream",
          "text": [
            "\n",
            "  8%|▊         | 9/110 [00:00<00:09, 10.37it/s]\u001b[A"
          ],
          "name": "stderr"
        },
        {
          "output_type": "stream",
          "text": [
            "Is_UserCold? : True\n",
            "Is_UserCold? : False\n",
            "Is_ItemCold? : False\n",
            "22461 8409\n",
            "\n",
            "Is_UserCold? : False\n",
            "Is_ItemCold? : False\n",
            "22462 8410\n",
            "\n",
            "Is_UserCold? : False\n",
            "Is_ItemCold? : False\n",
            "22463 8411\n"
          ],
          "name": "stdout"
        },
        {
          "output_type": "stream",
          "text": [
            "\n",
            " 10%|█         | 11/110 [00:01<00:09, 10.60it/s]\u001b[A\n",
            " 12%|█▏        | 13/110 [00:01<00:08, 10.92it/s]\u001b[A"
          ],
          "name": "stderr"
        },
        {
          "output_type": "stream",
          "text": [
            "\n",
            "Is_UserCold? : False\n",
            "Is_ItemCold? : True\n",
            "Is_ItemCold? : False\n",
            "22464 8413\n",
            "\n",
            "Is_UserCold? : False\n",
            "Is_ItemCold? : False\n",
            "22465 8414\n",
            "\n",
            "Is_UserCold? : False\n",
            "Is_ItemCold? : False\n",
            "22466 8415\n"
          ],
          "name": "stdout"
        },
        {
          "output_type": "stream",
          "text": [
            "\n",
            " 14%|█▎        | 15/110 [00:01<00:08, 11.37it/s]\u001b[A"
          ],
          "name": "stderr"
        },
        {
          "output_type": "stream",
          "text": [
            "\n",
            "Is_UserCold? : False\n",
            "Is_ItemCold? : False\n",
            "22467 8416\n",
            "\n",
            "Is_UserCold? : False\n",
            "Is_ItemCold? : False\n",
            "22468 8417\n",
            "\n",
            "Is_UserCold? : False\n",
            "Is_ItemCold? : False\n",
            "22469 8418\n"
          ],
          "name": "stdout"
        },
        {
          "output_type": "stream",
          "text": [
            "\n",
            " 15%|█▌        | 17/110 [00:01<00:08, 11.07it/s]\u001b[A\n",
            " 17%|█▋        | 19/110 [00:01<00:08, 10.90it/s]\u001b[A"
          ],
          "name": "stderr"
        },
        {
          "output_type": "stream",
          "text": [
            "\n",
            "Is_UserCold? : False\n",
            "Is_ItemCold? : False\n",
            "22470 8419\n",
            "\n",
            "Is_UserCold? : False\n",
            "Is_ItemCold? : True\n",
            "Is_ItemCold? : True\n",
            "Is_ItemCold? : False\n",
            "22471 8422\n",
            "\n"
          ],
          "name": "stdout"
        },
        {
          "output_type": "stream",
          "text": [
            "\n",
            " 19%|█▉        | 21/110 [00:01<00:07, 11.33it/s]\u001b[A"
          ],
          "name": "stderr"
        },
        {
          "output_type": "stream",
          "text": [
            "Is_UserCold? : False\n",
            "Is_ItemCold? : False\n",
            "22472 8423\n",
            "\n",
            "Is_UserCold? : False\n",
            "Is_ItemCold? : False\n",
            "22473 8424\n",
            "\n",
            "Is_UserCold? : False\n",
            "Is_ItemCold? : True\n",
            "Is_ItemCold? : True\n",
            "Is_ItemCold? : True\n",
            "Is_ItemCold? : False\n",
            "22474 8428\n"
          ],
          "name": "stdout"
        },
        {
          "output_type": "stream",
          "text": [
            "\n",
            " 21%|██        | 23/110 [00:02<00:07, 10.91it/s]\u001b[A"
          ],
          "name": "stderr"
        },
        {
          "output_type": "stream",
          "text": [
            "\n",
            "Is_UserCold? : False\n",
            "Is_ItemCold? : True\n",
            "Is_ItemCold? : True\n",
            "Is_ItemCold? : False\n",
            "22475 8431\n",
            "\n",
            "Is_UserCold? : False\n",
            "Is_ItemCold? : True\n",
            "Is_ItemCold? : False\n",
            "22476 8433\n",
            "\n",
            "Is_UserCold? : False\n",
            "Is_ItemCold? : True\n"
          ],
          "name": "stdout"
        },
        {
          "output_type": "stream",
          "text": [
            "\n",
            " 23%|██▎       | 25/110 [00:02<00:07, 10.75it/s]\u001b[A"
          ],
          "name": "stderr"
        },
        {
          "output_type": "stream",
          "text": [
            "Is_ItemCold? : True\n",
            "Is_ItemCold? : True\n",
            "Is_ItemCold? : False\n",
            "22477 8437\n",
            "\n",
            "Is_UserCold? : False\n",
            "Is_ItemCold? : False\n",
            "22478 8438\n",
            "\n",
            "Is_UserCold? : False\n",
            "Is_ItemCold? : False\n",
            "22479 8439\n"
          ],
          "name": "stdout"
        },
        {
          "output_type": "stream",
          "text": [
            "\n",
            " 25%|██▍       | 27/110 [00:02<00:07, 11.25it/s]\u001b[A\n",
            " 26%|██▋       | 29/110 [00:02<00:06, 11.58it/s]\u001b[A"
          ],
          "name": "stderr"
        },
        {
          "output_type": "stream",
          "text": [
            "\n",
            "Is_UserCold? : False\n",
            "Is_ItemCold? : False\n",
            "22480 8440\n",
            "\n",
            "Is_UserCold? : False\n",
            "Is_ItemCold? : False\n",
            "22481 8441\n",
            "\n",
            "Is_UserCold? : False\n",
            "Is_ItemCold? : False\n",
            "22482 8442\n"
          ],
          "name": "stdout"
        },
        {
          "output_type": "stream",
          "text": [
            "\n",
            " 28%|██▊       | 31/110 [00:02<00:06, 11.76it/s]\u001b[A"
          ],
          "name": "stderr"
        },
        {
          "output_type": "stream",
          "text": [
            "\n",
            "Is_UserCold? : False\n",
            "Is_ItemCold? : False\n",
            "22483 8443\n",
            "\n",
            "Is_UserCold? : False\n",
            "Is_ItemCold? : False\n",
            "22484 8444\n",
            "\n",
            "Is_UserCold? : True\n",
            "Is_UserCold? : False\n",
            "Is_ItemCold? : False\n",
            "22486 8445\n"
          ],
          "name": "stdout"
        },
        {
          "output_type": "stream",
          "text": [
            "\n",
            " 30%|███       | 33/110 [00:02<00:06, 11.78it/s]\u001b[A\n",
            " 32%|███▏      | 35/110 [00:03<00:06, 11.67it/s]\u001b[A"
          ],
          "name": "stderr"
        },
        {
          "output_type": "stream",
          "text": [
            "\n",
            "Is_UserCold? : True\n",
            "Is_UserCold? : False\n",
            "Is_ItemCold? : False\n",
            "22488 8446\n",
            "\n",
            "Is_UserCold? : False\n",
            "Is_ItemCold? : False\n",
            "22489 8447\n",
            "\n",
            "Is_UserCold? : False\n"
          ],
          "name": "stdout"
        },
        {
          "output_type": "stream",
          "text": [
            "\n",
            " 34%|███▎      | 37/110 [00:03<00:06, 11.41it/s]\u001b[A"
          ],
          "name": "stderr"
        },
        {
          "output_type": "stream",
          "text": [
            "Is_ItemCold? : False\n",
            "22490 8448\n",
            "\n",
            "Is_UserCold? : False\n",
            "Is_ItemCold? : False\n",
            "22491 8449\n",
            "\n",
            "Is_UserCold? : False\n",
            "Is_ItemCold? : True\n",
            "Is_ItemCold? : False\n",
            "22492 8451\n"
          ],
          "name": "stdout"
        },
        {
          "output_type": "stream",
          "text": [
            "\n",
            " 35%|███▌      | 39/110 [00:03<00:06, 11.10it/s]\u001b[A"
          ],
          "name": "stderr"
        },
        {
          "output_type": "stream",
          "text": [
            "\n",
            "Is_UserCold? : False\n",
            "Is_ItemCold? : False\n",
            "22493 8452\n",
            "\n",
            "Is_UserCold? : False\n",
            "Is_ItemCold? : False\n",
            "22494 8453\n",
            "\n",
            "Is_UserCold? : False\n",
            "Is_ItemCold? : False\n",
            "22495 8454\n"
          ],
          "name": "stdout"
        },
        {
          "output_type": "stream",
          "text": [
            "\n",
            " 37%|███▋      | 41/110 [00:03<00:06, 10.94it/s]\u001b[A"
          ],
          "name": "stderr"
        },
        {
          "output_type": "stream",
          "text": [
            "\n",
            "Is_UserCold? : False\n",
            "Is_ItemCold? : True\n",
            "Is_ItemCold? : True\n",
            "Is_ItemCold? : True\n",
            "Is_ItemCold? : True\n",
            "Is_ItemCold? : True\n",
            "Is_ItemCold? : True\n",
            "Is_ItemCold? : True\n",
            "Is_ItemCold? : True\n",
            "Is_ItemCold? : True\n",
            "Is_ItemCold? : True\n",
            "Is_ItemCold? : True\n",
            "Is_ItemCold? : True\n",
            "Is_ItemCold? : True\n",
            "Is_ItemCold? : True\n",
            "Is_ItemCold? : True\n",
            "Is_ItemCold? : True\n",
            "Is_ItemCold? : True\n",
            "Is_ItemCold? : True\n",
            "Is_ItemCold? : True\n",
            "Is_ItemCold? : True\n",
            "Is_ItemCold? : True\n",
            "\n",
            "Is_UserCold? : True\n",
            "Is_UserCold? : False\n"
          ],
          "name": "stdout"
        },
        {
          "output_type": "stream",
          "text": [
            "\n",
            " 39%|███▉      | 43/110 [00:03<00:06, 10.13it/s]\u001b[A\n",
            " 42%|████▏     | 46/110 [00:04<00:05, 12.41it/s]\u001b[A"
          ],
          "name": "stderr"
        },
        {
          "output_type": "stream",
          "text": [
            "\n",
            "Is_UserCold? : False\n",
            "\n",
            "Is_UserCold? : False\n",
            "\n",
            "Is_UserCold? : False\n",
            "\n",
            "Is_UserCold? : False\n",
            "\n",
            "Is_UserCold? : False\n"
          ],
          "name": "stdout"
        },
        {
          "output_type": "stream",
          "text": [
            "\n",
            " 45%|████▍     | 49/110 [00:04<00:04, 14.49it/s]\u001b[A\n",
            " 47%|████▋     | 52/110 [00:04<00:03, 16.34it/s]\u001b[A"
          ],
          "name": "stderr"
        },
        {
          "output_type": "stream",
          "text": [
            "\n",
            "Is_UserCold? : False\n",
            "\n",
            "Is_UserCold? : False\n",
            "\n",
            "Is_UserCold? : False\n",
            "\n",
            "Is_UserCold? : False\n",
            "\n",
            "Is_UserCold? : False\n"
          ],
          "name": "stdout"
        },
        {
          "output_type": "stream",
          "text": [
            "\n",
            " 50%|█████     | 55/110 [00:04<00:03, 18.12it/s]\u001b[A\n",
            " 53%|█████▎    | 58/110 [00:04<00:02, 20.00it/s]\u001b[A"
          ],
          "name": "stderr"
        },
        {
          "output_type": "stream",
          "text": [
            "\n",
            "Is_UserCold? : False\n",
            "\n",
            "Is_UserCold? : False\n",
            "\n",
            "Is_UserCold? : False\n",
            "\n",
            "Is_UserCold? : False\n",
            "\n",
            "Is_UserCold? : False\n",
            "\n",
            "Is_UserCold? : False\n"
          ],
          "name": "stdout"
        },
        {
          "output_type": "stream",
          "text": [
            "\n",
            " 55%|█████▌    | 61/110 [00:04<00:02, 20.99it/s]\u001b[A\n",
            " 58%|█████▊    | 64/110 [00:04<00:02, 22.49it/s]\u001b[A"
          ],
          "name": "stderr"
        },
        {
          "output_type": "stream",
          "text": [
            "\n",
            "Is_UserCold? : False\n",
            "\n",
            "Is_UserCold? : False\n",
            "\n",
            "Is_UserCold? : False\n",
            "\n",
            "Is_UserCold? : False\n",
            "\n",
            "Is_UserCold? : False\n",
            "\n",
            "Is_UserCold? : False\n"
          ],
          "name": "stdout"
        },
        {
          "output_type": "stream",
          "text": [
            "\n",
            " 61%|██████    | 67/110 [00:04<00:01, 23.20it/s]\u001b[A\n",
            " 64%|██████▎   | 70/110 [00:05<00:01, 23.87it/s]\u001b[A"
          ],
          "name": "stderr"
        },
        {
          "output_type": "stream",
          "text": [
            "\n",
            "Is_UserCold? : False\n",
            "\n",
            "Is_UserCold? : False\n",
            "\n",
            "Is_UserCold? : False\n",
            "\n",
            "Is_UserCold? : False\n",
            "\n",
            "Is_UserCold? : False\n",
            "\n",
            "Is_UserCold? : False\n"
          ],
          "name": "stdout"
        },
        {
          "output_type": "stream",
          "text": [
            "\n",
            " 66%|██████▋   | 73/110 [00:05<00:01, 24.36it/s]\u001b[A\n",
            " 69%|██████▉   | 76/110 [00:05<00:01, 24.92it/s]\u001b[A"
          ],
          "name": "stderr"
        },
        {
          "output_type": "stream",
          "text": [
            "\n",
            "Is_UserCold? : False\n",
            "\n",
            "Is_UserCold? : False\n",
            "\n",
            "Is_UserCold? : False\n",
            "\n",
            "Is_UserCold? : False\n",
            "\n",
            "Is_UserCold? : False\n",
            "\n",
            "Is_UserCold? : False\n"
          ],
          "name": "stdout"
        },
        {
          "output_type": "stream",
          "text": [
            "\n",
            " 72%|███████▏  | 79/110 [00:05<00:01, 24.30it/s]\u001b[A\n",
            " 75%|███████▍  | 82/110 [00:05<00:01, 24.29it/s]"
          ],
          "name": "stderr"
        },
        {
          "output_type": "stream",
          "text": [
            "\n",
            "Is_UserCold? : False\n",
            "\n",
            "Is_UserCold? : False\n",
            "\n",
            "Is_UserCold? : False\n",
            "\n",
            "Is_UserCold? : False\n",
            "\n",
            "Is_UserCold? : False\n",
            "\n"
          ],
          "name": "stdout"
        },
        {
          "output_type": "stream",
          "text": [
            "\u001b[A\n",
            " 77%|███████▋  | 85/110 [00:05<00:01, 23.75it/s]\u001b[A"
          ],
          "name": "stderr"
        },
        {
          "output_type": "stream",
          "text": [
            "Is_UserCold? : False\n",
            "\n",
            "Is_UserCold? : False\n",
            "\n",
            "Is_UserCold? : False\n",
            "\n",
            "Is_UserCold? : False\n",
            "\n",
            "Is_UserCold? : False\n",
            "\n",
            "Is_UserCold? : False\n"
          ],
          "name": "stdout"
        },
        {
          "output_type": "stream",
          "text": [
            "\n",
            " 80%|████████  | 88/110 [00:05<00:00, 23.77it/s]\u001b[A\n",
            " 83%|████████▎ | 91/110 [00:05<00:00, 23.97it/s]\u001b[A"
          ],
          "name": "stderr"
        },
        {
          "output_type": "stream",
          "text": [
            "\n",
            "Is_UserCold? : False\n",
            "\n",
            "Is_UserCold? : False\n",
            "\n",
            "Is_UserCold? : False\n",
            "\n",
            "Is_UserCold? : False\n",
            "\n",
            "Is_UserCold? : True\n",
            "Is_UserCold? : True\n",
            "Is_UserCold? : True\n",
            "Is_UserCold? : True\n",
            "Is_UserCold? : True\n",
            "Is_UserCold? : True\n"
          ],
          "name": "stdout"
        },
        {
          "output_type": "stream",
          "text": [
            "\n",
            "100%|██████████| 110/110 [00:06<00:00, 18.21it/s]\n",
            "\n",
            "  0%|          | 0/36 [00:00<?, ?it/s]\u001b[A"
          ],
          "name": "stderr"
        },
        {
          "output_type": "stream",
          "text": [
            "Is_UserCold? : True\n",
            "Is_UserCold? : True\n",
            "Is_UserCold? : False\n",
            "\n",
            "Is_UserCold? : True\n",
            "Is_UserCold? : True\n",
            "Is_UserCold? : True\n",
            "Is_UserCold? : True\n",
            "2nd Updating Phase..\n",
            "\n",
            "Is_UserCold? : True\n",
            "Is_UserCold? : False\n",
            "Is_ItemCold? : True\n",
            "Is_ItemCold? : True\n",
            "Is_ItemCold? : True\n",
            "Is_ItemCold? : False\n",
            "22460 8420\n"
          ],
          "name": "stdout"
        },
        {
          "output_type": "stream",
          "text": [
            "\n",
            "  3%|▎         | 1/36 [00:00<00:04,  7.62it/s]\u001b[A\n",
            "  6%|▌         | 2/36 [00:00<00:04,  7.17it/s]\u001b[A"
          ],
          "name": "stderr"
        },
        {
          "output_type": "stream",
          "text": [
            "\n",
            "Is_UserCold? : True\n",
            "Is_UserCold? : True\n",
            "Is_UserCold? : True\n",
            "Is_UserCold? : True\n",
            "Is_UserCold? : True\n",
            "Is_UserCold? : True\n",
            "Is_UserCold? : True\n",
            "Is_UserCold? : True\n",
            "Is_UserCold? : True\n",
            "Is_UserCold? : True\n",
            "Is_UserCold? : True\n",
            "Is_UserCold? : True\n",
            "Is_UserCold? : True\n",
            "Is_UserCold? : True\n",
            "Is_UserCold? : True\n",
            "Is_ItemCold? : True\n",
            "Is_ItemCold? : True\n",
            "Is_ItemCold? : True\n",
            "Is_ItemCold? : False\n",
            "\n",
            "Is_ItemCold? : True\n",
            "Is_ItemCold? : True\n",
            "Is_ItemCold? : False\n"
          ],
          "name": "stdout"
        },
        {
          "output_type": "stream",
          "text": [
            "\n",
            " 11%|█         | 4/36 [00:00<00:03,  8.60it/s]\u001b[A\n",
            " 17%|█▋        | 6/36 [00:00<00:02, 10.36it/s]\u001b[A"
          ],
          "name": "stderr"
        },
        {
          "output_type": "stream",
          "text": [
            "\n",
            "Is_ItemCold? : False\n",
            "\n",
            "Is_ItemCold? : False\n",
            "\n",
            "Is_ItemCold? : False\n",
            "\n",
            "Is_ItemCold? : False\n",
            "\n"
          ],
          "name": "stdout"
        },
        {
          "output_type": "stream",
          "text": [
            "\n",
            "100%|██████████| 36/36 [00:00<00:00, 46.98it/s]\n",
            " 14%|█▍        | 1/7 [00:06<00:41,  6.83s/it]\n",
            "  0%|          | 0/135 [00:00<?, ?it/s]"
          ],
          "name": "stderr"
        },
        {
          "output_type": "stream",
          "text": [
            "Is_ItemCold? : True\n",
            "Is_ItemCold? : True\n",
            "Is_ItemCold? : True\n",
            "Is_ItemCold? : True\n",
            "Is_ItemCold? : True\n",
            "Is_ItemCold? : True\n",
            "Is_ItemCold? : True\n",
            "Is_ItemCold? : True\n",
            "Is_ItemCold? : True\n",
            "Is_ItemCold? : True\n",
            "Is_ItemCold? : True\n",
            "Is_ItemCold? : True\n",
            "Is_ItemCold? : True\n",
            "Is_ItemCold? : False\n",
            "\n",
            "Is_ItemCold? : True\n",
            "Is_ItemCold? : True\n",
            "Is_ItemCold? : True\n",
            "Is_ItemCold? : True\n",
            "Is_ItemCold? : True\n",
            "Is_ItemCold? : True\n",
            "Is_ItemCold? : True\n",
            "1st Updating Phase..\n",
            "\n"
          ],
          "name": "stdout"
        },
        {
          "output_type": "stream",
          "text": [
            "\u001b[A\n",
            "  1%|▏         | 2/135 [00:00<00:10, 12.74it/s]\u001b[A"
          ],
          "name": "stderr"
        },
        {
          "output_type": "stream",
          "text": [
            "Is_UserCold? : False\n",
            "Is_ItemCold? : False\n",
            "22548 8455\n",
            "\n",
            "Is_UserCold? : False\n",
            "Is_ItemCold? : False\n",
            "22549 8456\n",
            "\n",
            "Is_UserCold? : False\n",
            "Is_ItemCold? : False\n",
            "22550 8457\n"
          ],
          "name": "stdout"
        },
        {
          "output_type": "stream",
          "text": [
            "\n",
            "  2%|▏         | 3/135 [00:00<00:11, 11.20it/s]\u001b[A\n",
            "  4%|▎         | 5/135 [00:00<00:11, 11.26it/s]\u001b[A"
          ],
          "name": "stderr"
        },
        {
          "output_type": "stream",
          "text": [
            "\n",
            "Is_UserCold? : False\n",
            "Is_ItemCold? : False\n",
            "22551 8458\n",
            "\n",
            "Is_UserCold? : False\n",
            "Is_ItemCold? : False\n",
            "22552 8459\n",
            "\n",
            "Is_UserCold? : False"
          ],
          "name": "stdout"
        },
        {
          "output_type": "stream",
          "text": [
            "\n",
            "  4%|▍         | 6/135 [00:00<00:12, 10.43it/s]\u001b[A"
          ],
          "name": "stderr"
        },
        {
          "output_type": "stream",
          "text": [
            "\n",
            "Is_ItemCold? : True\n",
            "Is_ItemCold? : False\n",
            "22553 8461\n",
            "\n",
            "Is_UserCold? : False\n",
            "Is_ItemCold? : True\n",
            "Is_ItemCold? : True\n",
            "Is_ItemCold? : False\n",
            "22554 8464\n",
            "\n",
            "Is_UserCold? : False\n",
            "Is_ItemCold? : False\n",
            "22555 8465\n"
          ],
          "name": "stdout"
        },
        {
          "output_type": "stream",
          "text": [
            "\n",
            "  6%|▌         | 8/135 [00:00<00:11, 10.67it/s]\u001b[A\n",
            "  7%|▋         | 10/135 [00:00<00:11, 10.79it/s]\u001b[A"
          ],
          "name": "stderr"
        },
        {
          "output_type": "stream",
          "text": [
            "\n",
            "Is_UserCold? : False\n",
            "Is_ItemCold? : True\n",
            "Is_ItemCold? : False\n",
            "22556 8467\n",
            "\n",
            "Is_UserCold? : False\n",
            "Is_ItemCold? : True\n",
            "Is_ItemCold? : True\n",
            "Is_ItemCold? : False\n",
            "22557 8470\n",
            "\n",
            "Is_UserCold? : False\n"
          ],
          "name": "stdout"
        },
        {
          "output_type": "stream",
          "text": [
            "\n",
            "  8%|▊         | 11/135 [00:01<00:12, 10.30it/s]\u001b[A"
          ],
          "name": "stderr"
        },
        {
          "output_type": "stream",
          "text": [
            "Is_ItemCold? : True\n",
            "Is_ItemCold? : False\n",
            "22558 8472\n",
            "\n",
            "Is_UserCold? : False\n",
            "Is_ItemCold? : True\n",
            "Is_ItemCold? : False\n",
            "22559 8474\n",
            "\n",
            "Is_UserCold? : True\n",
            "Is_UserCold? : False\n",
            "Is_ItemCold? : False\n",
            "22561 8475\n"
          ],
          "name": "stdout"
        },
        {
          "output_type": "stream",
          "text": [
            "\n",
            " 10%|▉         | 13/135 [00:01<00:11, 10.43it/s]\u001b[A\n",
            " 11%|█         | 15/135 [00:01<00:11, 10.90it/s]\u001b[A"
          ],
          "name": "stderr"
        },
        {
          "output_type": "stream",
          "text": [
            "\n",
            "Is_UserCold? : False\n",
            "Is_ItemCold? : False\n",
            "22562 8476\n",
            "\n",
            "Is_UserCold? : False\n",
            "Is_ItemCold? : True\n",
            "Is_ItemCold? : False\n",
            "22563 8478\n",
            "\n",
            "Is_UserCold? : False\n",
            "Is_ItemCold? : False\n",
            "22564 8479\n"
          ],
          "name": "stdout"
        },
        {
          "output_type": "stream",
          "text": [
            "\n",
            " 13%|█▎        | 17/135 [00:01<00:10, 11.09it/s]\u001b[A"
          ],
          "name": "stderr"
        },
        {
          "output_type": "stream",
          "text": [
            "\n",
            "Is_UserCold? : False\n",
            "Is_ItemCold? : True\n",
            "Is_ItemCold? : False\n",
            "22565 8481\n",
            "\n",
            "Is_UserCold? : False\n",
            "Is_ItemCold? : False\n",
            "22566 8482\n",
            "\n",
            "Is_UserCold? : False\n",
            "Is_ItemCold? : False\n",
            "22567 8483\n"
          ],
          "name": "stdout"
        },
        {
          "output_type": "stream",
          "text": [
            "\n",
            " 14%|█▍        | 19/135 [00:01<00:10, 11.15it/s]\u001b[A\n",
            " 16%|█▌        | 21/135 [00:01<00:10, 10.94it/s]\u001b[A"
          ],
          "name": "stderr"
        },
        {
          "output_type": "stream",
          "text": [
            "\n",
            "Is_UserCold? : False\n",
            "Is_ItemCold? : False\n",
            "22568 8484\n",
            "\n",
            "Is_UserCold? : True\n",
            "Is_UserCold? : False\n",
            "Is_ItemCold? : True\n",
            "Is_ItemCold? : True\n",
            "Is_ItemCold? : False\n",
            "22570 8487\n",
            "\n"
          ],
          "name": "stdout"
        },
        {
          "output_type": "stream",
          "text": [
            "\n",
            " 17%|█▋        | 23/135 [00:02<00:10, 11.12it/s]\u001b[A"
          ],
          "name": "stderr"
        },
        {
          "output_type": "stream",
          "text": [
            "Is_UserCold? : False\n",
            "Is_ItemCold? : True\n",
            "Is_ItemCold? : False\n",
            "22571 8489\n",
            "\n",
            "Is_UserCold? : False\n",
            "Is_ItemCold? : False\n",
            "22572 8490\n",
            "\n",
            "Is_UserCold? : False\n",
            "Is_ItemCold? : True\n",
            "Is_ItemCold? : True\n",
            "Is_ItemCold? : True\n"
          ],
          "name": "stdout"
        },
        {
          "output_type": "stream",
          "text": [
            "\n",
            " 19%|█▊        | 25/135 [00:02<00:10, 10.33it/s]\u001b[A"
          ],
          "name": "stderr"
        },
        {
          "output_type": "stream",
          "text": [
            "Is_ItemCold? : True\n",
            "Is_ItemCold? : False\n",
            "22573 8495\n",
            "\n",
            "Is_UserCold? : False\n",
            "Is_ItemCold? : True\n",
            "Is_ItemCold? : True\n",
            "Is_ItemCold? : True\n",
            "Is_ItemCold? : True\n",
            "Is_ItemCold? : True\n",
            "Is_ItemCold? : False\n",
            "22574 8412\n",
            "\n",
            "Is_UserCold? : False\n",
            "Is_ItemCold? : True\n",
            "Is_ItemCold? : True\n",
            "Is_ItemCold? : True\n",
            "Is_ItemCold? : True\n",
            "Is_ItemCold? : True\n",
            "Is_ItemCold? : True\n",
            "Is_ItemCold? : True\n",
            "Is_ItemCold? : True\n",
            "Is_ItemCold? : True\n",
            "Is_ItemCold? : True\n",
            "Is_ItemCold? : True\n",
            "Is_ItemCold? : True\n",
            "Is_ItemCold? : True\n",
            "Is_ItemCold? : True\n",
            "Is_ItemCold? : True\n",
            "Is_ItemCold? : True\n",
            "Is_ItemCold? : True\n",
            "Is_ItemCold? : True\n",
            "Is_ItemCold? : True\n",
            "Is_ItemCold? : True\n",
            "Is_ItemCold? : True\n",
            "Is_ItemCold? : True\n",
            "Is_ItemCold? : True\n",
            "Is_ItemCold? : True\n",
            "Is_ItemCold? : True\n",
            "\n",
            "Is_UserCold? : False\n"
          ],
          "name": "stdout"
        },
        {
          "output_type": "stream",
          "text": [
            "\n",
            " 20%|██        | 27/135 [00:02<00:11,  9.48it/s]\u001b[A\n",
            " 22%|██▏       | 30/135 [00:02<00:08, 11.67it/s]\u001b[A"
          ],
          "name": "stderr"
        },
        {
          "output_type": "stream",
          "text": [
            "\n",
            "Is_UserCold? : False\n",
            "\n",
            "Is_UserCold? : False\n",
            "\n",
            "Is_UserCold? : False\n",
            "\n",
            "Is_UserCold? : False\n",
            "\n",
            "Is_UserCold? : False\n"
          ],
          "name": "stdout"
        },
        {
          "output_type": "stream",
          "text": [
            "\n",
            " 24%|██▍       | 33/135 [00:02<00:07, 13.43it/s]\u001b[A\n",
            " 27%|██▋       | 36/135 [00:02<00:06, 15.48it/s]\u001b[A"
          ],
          "name": "stderr"
        },
        {
          "output_type": "stream",
          "text": [
            "\n",
            "Is_UserCold? : False\n",
            "\n",
            "Is_UserCold? : False\n",
            "\n",
            "Is_UserCold? : False\n",
            "\n",
            "Is_UserCold? : False\n",
            "\n",
            "Is_UserCold? : False\n"
          ],
          "name": "stdout"
        },
        {
          "output_type": "stream",
          "text": [
            "\n",
            " 29%|██▉       | 39/135 [00:03<00:05, 17.28it/s]\u001b[A\n",
            " 31%|███       | 42/135 [00:03<00:04, 19.16it/s]\u001b[A"
          ],
          "name": "stderr"
        },
        {
          "output_type": "stream",
          "text": [
            "\n",
            "Is_UserCold? : False\n",
            "\n",
            "Is_UserCold? : False\n",
            "\n",
            "Is_UserCold? : False\n",
            "\n",
            "Is_UserCold? : False\n",
            "\n",
            "Is_UserCold? : False\n",
            "\n",
            "Is_UserCold? : False\n"
          ],
          "name": "stdout"
        },
        {
          "output_type": "stream",
          "text": [
            "\n",
            " 33%|███▎      | 45/135 [00:03<00:04, 19.67it/s]\u001b[A\n",
            " 36%|███▌      | 48/135 [00:03<00:04, 21.22it/s]\u001b[A"
          ],
          "name": "stderr"
        },
        {
          "output_type": "stream",
          "text": [
            "\n",
            "Is_UserCold? : False\n",
            "\n",
            "Is_UserCold? : False\n",
            "\n",
            "Is_UserCold? : False\n",
            "\n",
            "Is_UserCold? : False\n",
            "\n",
            "Is_UserCold? : False\n",
            "\n"
          ],
          "name": "stdout"
        },
        {
          "output_type": "stream",
          "text": [
            "\n",
            " 38%|███▊      | 51/135 [00:03<00:03, 21.70it/s]\u001b[A"
          ],
          "name": "stderr"
        },
        {
          "output_type": "stream",
          "text": [
            "Is_UserCold? : False\n",
            "\n",
            "Is_UserCold? : False\n",
            "\n",
            "Is_UserCold? : False\n",
            "\n",
            "Is_UserCold? : False\n",
            "\n",
            "Is_UserCold? : False\n",
            "\n",
            "Is_UserCold? : False\n"
          ],
          "name": "stdout"
        },
        {
          "output_type": "stream",
          "text": [
            "\n",
            " 40%|████      | 54/135 [00:03<00:03, 22.85it/s]\u001b[A\n",
            " 42%|████▏     | 57/135 [00:03<00:03, 23.98it/s]\u001b[A"
          ],
          "name": "stderr"
        },
        {
          "output_type": "stream",
          "text": [
            "\n",
            "Is_UserCold? : False\n",
            "\n",
            "Is_UserCold? : False\n",
            "\n",
            "Is_UserCold? : False\n",
            "\n",
            "Is_UserCold? : False\n",
            "\n",
            "Is_UserCold? : False\n",
            "\n",
            "Is_UserCold? : False\n"
          ],
          "name": "stdout"
        },
        {
          "output_type": "stream",
          "text": [
            "\n",
            " 44%|████▍     | 60/135 [00:03<00:03, 24.00it/s]\u001b[A\n",
            " 47%|████▋     | 63/135 [00:04<00:03, 23.57it/s]\u001b[A"
          ],
          "name": "stderr"
        },
        {
          "output_type": "stream",
          "text": [
            "\n",
            "Is_UserCold? : False\n",
            "\n",
            "Is_UserCold? : False\n",
            "\n",
            "Is_UserCold? : False\n",
            "\n",
            "Is_UserCold? : True\n",
            "Is_UserCold? : False\n",
            "\n",
            "Is_UserCold? : False\n"
          ],
          "name": "stdout"
        },
        {
          "output_type": "stream",
          "text": [
            "\n",
            " 49%|████▉     | 66/135 [00:04<00:02, 23.85it/s]\u001b[A\n",
            " 51%|█████     | 69/135 [00:04<00:02, 23.48it/s]\u001b[A"
          ],
          "name": "stderr"
        },
        {
          "output_type": "stream",
          "text": [
            "\n",
            "Is_UserCold? : False\n",
            "\n",
            "Is_UserCold? : False\n",
            "\n",
            "Is_UserCold? : False\n",
            "\n",
            "Is_UserCold? : False\n",
            "\n",
            "Is_UserCold? : False\n"
          ],
          "name": "stdout"
        },
        {
          "output_type": "stream",
          "text": [
            "\n",
            " 53%|█████▎    | 72/135 [00:04<00:02, 23.85it/s]\u001b[A"
          ],
          "name": "stderr"
        },
        {
          "output_type": "stream",
          "text": [
            "\n",
            "Is_UserCold? : False\n",
            "\n",
            "Is_UserCold? : False\n",
            "\n",
            "Is_UserCold? : False\n",
            "\n",
            "Is_UserCold? : False\n",
            "\n",
            "Is_UserCold? : False\n"
          ],
          "name": "stdout"
        },
        {
          "output_type": "stream",
          "text": [
            "\n",
            " 56%|█████▌    | 75/135 [00:04<00:02, 23.41it/s]\u001b[A\n",
            " 58%|█████▊    | 78/135 [00:04<00:02, 24.20it/s]\u001b[A"
          ],
          "name": "stderr"
        },
        {
          "output_type": "stream",
          "text": [
            "\n",
            "Is_UserCold? : False\n",
            "\n",
            "Is_UserCold? : False\n",
            "\n",
            "Is_UserCold? : False\n",
            "\n",
            "Is_UserCold? : False\n",
            "\n",
            "Is_UserCold? : False\n",
            "\n",
            "Is_UserCold? : False\n"
          ],
          "name": "stdout"
        },
        {
          "output_type": "stream",
          "text": [
            "\n",
            " 60%|██████    | 81/135 [00:04<00:02, 24.45it/s]\u001b[A\n",
            " 62%|██████▏   | 84/135 [00:04<00:02, 24.77it/s]\u001b[A"
          ],
          "name": "stderr"
        },
        {
          "output_type": "stream",
          "text": [
            "\n",
            "Is_UserCold? : False\n",
            "\n",
            "Is_UserCold? : False\n",
            "\n",
            "Is_UserCold? : False\n",
            "\n",
            "Is_UserCold? : False\n",
            "\n",
            "Is_UserCold? : False\n"
          ],
          "name": "stdout"
        },
        {
          "output_type": "stream",
          "text": [
            "\n",
            " 64%|██████▍   | 87/135 [00:05<00:01, 24.28it/s]\u001b[A\n",
            " 67%|██████▋   | 90/135 [00:05<00:01, 25.00it/s]\u001b[A"
          ],
          "name": "stderr"
        },
        {
          "output_type": "stream",
          "text": [
            "\n",
            "Is_UserCold? : True\n",
            "Is_UserCold? : False\n",
            "\n",
            "Is_UserCold? : False\n",
            "\n",
            "Is_UserCold? : False\n",
            "\n",
            "Is_UserCold? : False\n",
            "\n",
            "Is_UserCold? : False\n",
            "\n",
            "Is_UserCold? : False\n"
          ],
          "name": "stdout"
        },
        {
          "output_type": "stream",
          "text": [
            "\n",
            " 69%|██████▉   | 93/135 [00:05<00:01, 25.01it/s]\u001b[A\n",
            " 71%|███████   | 96/135 [00:05<00:01, 24.48it/s]\u001b[A"
          ],
          "name": "stderr"
        },
        {
          "output_type": "stream",
          "text": [
            "\n",
            "Is_UserCold? : False\n",
            "\n",
            "Is_UserCold? : False\n",
            "\n",
            "Is_UserCold? : True\n",
            "Is_UserCold? : False\n",
            "\n",
            "Is_UserCold? : False\n",
            "\n",
            "Is_UserCold? : False\n"
          ],
          "name": "stdout"
        },
        {
          "output_type": "stream",
          "text": [
            "\n",
            " 73%|███████▎  | 99/135 [00:05<00:01, 24.24it/s]\u001b[A"
          ],
          "name": "stderr"
        },
        {
          "output_type": "stream",
          "text": [
            "\n",
            "Is_UserCold? : False\n",
            "\n",
            "Is_UserCold? : True\n",
            "Is_UserCold? : False\n",
            "\n",
            "Is_UserCold? : True\n",
            "Is_UserCold? : False\n",
            "\n",
            "Is_UserCold? : False\n",
            "\n",
            "Is_UserCold? : False\n"
          ],
          "name": "stdout"
        },
        {
          "output_type": "stream",
          "text": [
            "\n",
            " 76%|███████▌  | 102/135 [00:05<00:01, 23.79it/s]\u001b[A\n",
            " 78%|███████▊  | 105/135 [00:05<00:01, 23.74it/s]\u001b[A"
          ],
          "name": "stderr"
        },
        {
          "output_type": "stream",
          "text": [
            "\n",
            "Is_UserCold? : False\n",
            "\n",
            "Is_UserCold? : False\n",
            "\n",
            "Is_UserCold? : True\n",
            "Is_UserCold? : False\n",
            "\n",
            "Is_UserCold? : True\n",
            "Is_UserCold? : False\n",
            "\n",
            "Is_UserCold? : False\n"
          ],
          "name": "stdout"
        },
        {
          "output_type": "stream",
          "text": [
            "\n",
            " 80%|████████  | 108/135 [00:05<00:01, 22.70it/s]\u001b[A\n",
            " 82%|████████▏ | 111/135 [00:06<00:01, 22.65it/s]\u001b[A"
          ],
          "name": "stderr"
        },
        {
          "output_type": "stream",
          "text": [
            "\n",
            "Is_UserCold? : False\n",
            "\n",
            "Is_UserCold? : False\n",
            "\n",
            "Is_UserCold? : False\n",
            "\n",
            "Is_UserCold? : True\n",
            "Is_UserCold? : False\n",
            "\n",
            "Is_UserCold? : "
          ],
          "name": "stdout"
        },
        {
          "output_type": "stream",
          "text": [
            "\r100%|██████████| 135/135 [00:06<00:00, 21.92it/s]\n",
            "\n",
            "  0%|          | 0/47 [00:00<?, ?it/s]\u001b[A\n"
          ],
          "name": "stderr"
        },
        {
          "output_type": "stream",
          "text": [
            "True\n",
            "Is_UserCold? : True\n",
            "Is_UserCold? : True\n",
            "Is_UserCold? : True\n",
            "Is_UserCold? : True\n",
            "Is_UserCold? : True\n",
            "Is_UserCold? : True\n",
            "Is_UserCold? : True\n",
            "Is_UserCold? : True\n",
            "Is_UserCold? : True\n",
            "Is_UserCold? : True\n",
            "Is_UserCold? : True\n",
            "Is_UserCold? : True\n",
            "Is_UserCold? : True\n",
            "2nd Updating Phase..\n",
            "\n",
            "Is_UserCold? : True\n",
            "Is_UserCold? : True\n",
            "Is_UserCold? : True\n",
            "Is_UserCold? : True\n",
            "Is_UserCold? : True\n",
            "Is_UserCold? : True\n",
            "Is_UserCold? : True\n",
            "Is_UserCold? : True\n",
            "Is_UserCold? : True\n",
            "Is_UserCold? : True\n",
            "Is_UserCold? : True\n",
            "Is_UserCold? : True\n",
            "Is_UserCold? : True\n",
            "Is_UserCold? : True\n",
            "Is_UserCold? : True\n",
            "Is_UserCold? : True\n",
            "Is_UserCold? : True\n",
            "Is_UserCold? : True\n",
            "Is_UserCold? : True\n",
            "Is_UserCold? : True\n",
            "Is_UserCold? : True\n",
            "Is_UserCold? : True\n",
            "Is_UserCold? : True\n",
            "Is_UserCold? : True\n",
            "Is_ItemCold? : True\n",
            "Is_ItemCold? : True\n",
            "Is_ItemCold? : False\n",
            "\n"
          ],
          "name": "stdout"
        },
        {
          "output_type": "stream",
          "text": [
            "  2%|▏         | 1/47 [00:00<00:06,  7.55it/s]\u001b[A\n",
            "  6%|▋         | 3/47 [00:00<00:04,  9.01it/s]\u001b[A"
          ],
          "name": "stderr"
        },
        {
          "output_type": "stream",
          "text": [
            "Is_ItemCold? : True\n",
            "Is_ItemCold? : False\n",
            "\n",
            "Is_ItemCold? : False\n",
            "\n",
            "Is_ItemCold? : False\n",
            "\n",
            "Is_ItemCold? : True\n",
            "Is_ItemCold? : True\n",
            "Is_ItemCold? : True\n",
            "Is_ItemCold? : True\n",
            "Is_ItemCold? : True\n",
            "Is_ItemCold? : True\n"
          ],
          "name": "stdout"
        },
        {
          "output_type": "stream",
          "text": [
            "\n",
            " 11%|█         | 5/47 [00:00<00:04,  8.99it/s]\u001b[A"
          ],
          "name": "stderr"
        },
        {
          "output_type": "stream",
          "text": [
            "Is_ItemCold? : True\n",
            "Is_ItemCold? : True\n",
            "Is_ItemCold? : True\n",
            "Is_ItemCold? : True\n",
            "Is_ItemCold? : True\n",
            "Is_ItemCold? : True\n",
            "Is_ItemCold? : True\n",
            "Is_ItemCold? : True\n",
            "Is_ItemCold? : True\n",
            "Is_ItemCold? : False\n",
            "\n",
            "Is_ItemCold? : True\n",
            "Is_ItemCold? : True\n",
            "Is_ItemCold? : True\n",
            "Is_ItemCold? : True\n",
            "Is_ItemCold? : True\n",
            "Is_ItemCold? : True\n",
            "Is_ItemCold? : True\n",
            "Is_ItemCold? : True\n",
            "Is_ItemCold? : True\n",
            "Is_ItemCold? : True\n",
            "Is_ItemCold? : True\n"
          ],
          "name": "stdout"
        },
        {
          "output_type": "stream",
          "text": [
            "\n",
            "100%|██████████| 47/47 [00:00<00:00, 64.08it/s]\n",
            " 29%|██▊       | 2/7 [00:13<00:34,  6.87s/it]\n",
            "  0%|          | 0/102 [00:00<?, ?it/s]\u001b[A"
          ],
          "name": "stderr"
        },
        {
          "output_type": "stream",
          "text": [
            "Is_ItemCold? : True\n",
            "Is_ItemCold? : False\n",
            "\n",
            "Is_ItemCold? : True\n",
            "Is_ItemCold? : True\n",
            "Is_ItemCold? : True\n",
            "Is_ItemCold? : True\n",
            "Is_ItemCold? : True\n",
            "Is_ItemCold? : True\n",
            "Is_ItemCold? : True\n",
            "Is_ItemCold? : True\n",
            "Is_ItemCold? : True\n",
            "Is_ItemCold? : True\n",
            "Is_ItemCold? : True\n",
            "1st Updating Phase..\n",
            "\n",
            "Is_UserCold? : False\n",
            "Is_ItemCold? : False\n",
            "22667 8499\n"
          ],
          "name": "stdout"
        },
        {
          "output_type": "stream",
          "text": [
            "\n",
            "  2%|▏         | 2/102 [00:00<00:08, 12.00it/s]\u001b[A"
          ],
          "name": "stderr"
        },
        {
          "output_type": "stream",
          "text": [
            "\n",
            "Is_UserCold? : False\n",
            "Is_ItemCold? : False\n",
            "22668 8500\n",
            "\n",
            "Is_UserCold? : False\n",
            "Is_ItemCold? : False\n",
            "22669 8501\n",
            "\n",
            "Is_UserCold? : False\n",
            "Is_ItemCold? : True\n",
            "Is_ItemCold? : True\n",
            "Is_ItemCold? : False\n",
            "22670 8504\n"
          ],
          "name": "stdout"
        },
        {
          "output_type": "stream",
          "text": [
            "\n",
            "  4%|▍         | 4/102 [00:00<00:08, 11.77it/s]\u001b[A\n",
            "  6%|▌         | 6/102 [00:00<00:08, 11.82it/s]\u001b[A"
          ],
          "name": "stderr"
        },
        {
          "output_type": "stream",
          "text": [
            "\n",
            "Is_UserCold? : False\n",
            "Is_ItemCold? : False\n",
            "22671 8505\n",
            "\n",
            "Is_UserCold? : False\n",
            "Is_ItemCold? : False\n",
            "22672 8506\n",
            "\n",
            "Is_UserCold? : False\n",
            "Is_ItemCold? : True\n",
            "Is_ItemCold? : False\n",
            "22673 8508\n"
          ],
          "name": "stdout"
        },
        {
          "output_type": "stream",
          "text": [
            "\n",
            "  8%|▊         | 8/102 [00:00<00:08, 11.37it/s]\u001b[A\n"
          ],
          "name": "stderr"
        },
        {
          "output_type": "stream",
          "text": [
            "\n",
            "Is_UserCold? : False\n",
            "Is_ItemCold? : False\n",
            "22674 8509\n",
            "\n",
            "Is_UserCold? : False\n",
            "Is_ItemCold? : False\n",
            "22675 8510\n",
            "\n"
          ],
          "name": "stdout"
        },
        {
          "output_type": "stream",
          "text": [
            "  9%|▉         | 9/102 [00:00<00:08, 10.66it/s]\u001b[A\n",
            " 10%|▉         | 10/102 [00:00<00:08, 10.26it/s]\u001b[A"
          ],
          "name": "stderr"
        },
        {
          "output_type": "stream",
          "text": [
            "Is_UserCold? : False\n",
            "Is_ItemCold? : False\n",
            "22676 8511\n",
            "\n",
            "Is_UserCold? : True\n",
            "Is_UserCold? : False\n",
            "Is_ItemCold? : False\n",
            "22678 8512\n",
            "\n",
            "Is_UserCold? : False\n",
            "Is_ItemCold? : False\n",
            "22679 8513\n"
          ],
          "name": "stdout"
        },
        {
          "output_type": "stream",
          "text": [
            "\n",
            " 12%|█▏        | 12/102 [00:01<00:08, 10.55it/s]\u001b[A\n",
            " 14%|█▎        | 14/102 [00:01<00:08, 10.92it/s]\u001b[A"
          ],
          "name": "stderr"
        },
        {
          "output_type": "stream",
          "text": [
            "\n",
            "Is_UserCold? : False\n",
            "Is_ItemCold? : False\n",
            "22680 8514\n",
            "\n",
            "Is_UserCold? : False\n",
            "Is_ItemCold? : False\n",
            "22681 8515\n",
            "\n",
            "Is_UserCold? : False\n"
          ],
          "name": "stdout"
        },
        {
          "output_type": "stream",
          "text": [
            "\n",
            " 16%|█▌        | 16/102 [00:01<00:07, 10.86it/s]\u001b[A"
          ],
          "name": "stderr"
        },
        {
          "output_type": "stream",
          "text": [
            "Is_ItemCold? : False\n",
            "22682 8516\n",
            "\n",
            "Is_UserCold? : False\n",
            "Is_ItemCold? : False\n",
            "22683 8517\n",
            "\n",
            "Is_UserCold? : False\n",
            "Is_ItemCold? : False\n",
            "22684 8518\n"
          ],
          "name": "stdout"
        },
        {
          "output_type": "stream",
          "text": [
            "\n",
            " 18%|█▊        | 18/102 [00:01<00:07, 11.11it/s]\u001b[A"
          ],
          "name": "stderr"
        },
        {
          "output_type": "stream",
          "text": [
            "\n",
            "Is_UserCold? : False\n",
            "Is_ItemCold? : True\n",
            "Is_ItemCold? : False\n",
            "22685 8520\n",
            "\n",
            "Is_UserCold? : False\n",
            "Is_ItemCold? : True\n",
            "Is_ItemCold? : False\n",
            "22686 8522\n",
            "\n",
            "Is_UserCold? : False\n",
            "Is_ItemCold? : False\n",
            "22687 8523\n"
          ],
          "name": "stdout"
        },
        {
          "output_type": "stream",
          "text": [
            "\n",
            " 20%|█▉        | 20/102 [00:01<00:07, 11.09it/s]\u001b[A"
          ],
          "name": "stderr"
        },
        {
          "output_type": "stream",
          "text": [
            "\n",
            "Is_UserCold? : False\n",
            "Is_ItemCold? : False\n",
            "22688 8524\n",
            "\n",
            "Is_UserCold? : False\n",
            "Is_ItemCold? : True\n",
            "Is_ItemCold? : True\n",
            "Is_ItemCold? : True\n",
            "Is_ItemCold? : True\n",
            "Is_ItemCold? : True\n",
            "Is_ItemCold? : False\n",
            "22689 8530\n",
            "\n"
          ],
          "name": "stdout"
        },
        {
          "output_type": "stream",
          "text": [
            "\n",
            " 22%|██▏       | 22/102 [00:02<00:07, 10.71it/s]\u001b[A\n",
            " 24%|██▎       | 24/102 [00:02<00:07, 11.08it/s]\u001b[A"
          ],
          "name": "stderr"
        },
        {
          "output_type": "stream",
          "text": [
            "Is_UserCold? : False\n",
            "Is_ItemCold? : False\n",
            "22690 8531\n",
            "\n",
            "Is_UserCold? : False\n",
            "Is_ItemCold? : False\n",
            "22691 8532\n",
            "\n",
            "Is_UserCold? : False\n",
            "Is_ItemCold? : True\n",
            "Is_ItemCold? : True\n",
            "Is_ItemCold? : True\n",
            "Is_ItemCold? : True\n",
            "Is_ItemCold? : True\n",
            "Is_ItemCold? : True\n",
            "Is_ItemCold? : True\n",
            "Is_ItemCold? : True\n",
            "Is_ItemCold? : True\n",
            "Is_ItemCold? : True\n",
            "Is_ItemCold? : True\n",
            "Is_ItemCold? : True\n",
            "Is_ItemCold? : True\n",
            "Is_ItemCold? : True\n",
            "Is_ItemCold? : True\n",
            "Is_ItemCold? : True\n",
            "Is_ItemCold? : True\n",
            "Is_ItemCold? : True\n",
            "Is_ItemCold? : True\n",
            "Is_ItemCold? : True\n",
            "Is_ItemCold? : True\n",
            "Is_ItemCold? : True\n",
            "Is_ItemCold? : True\n",
            "Is_ItemCold? : True\n",
            "Is_ItemCold? : True\n",
            "Is_ItemCold? : True\n",
            "Is_ItemCold? : True\n",
            "Is_ItemCold? : True\n",
            "Is_ItemCold? : True\n",
            "Is_ItemCold? : True\n",
            "Is_ItemCold? : True\n",
            "Is_ItemCold? : True\n",
            "Is_ItemCold? : False\n",
            "22692 8354\n"
          ],
          "name": "stdout"
        },
        {
          "output_type": "stream",
          "text": [
            "\n",
            " 25%|██▌       | 26/102 [00:02<00:09,  8.32it/s]\u001b[A"
          ],
          "name": "stderr"
        },
        {
          "output_type": "stream",
          "text": [
            "\n",
            "Is_UserCold? : False\n",
            "Is_ItemCold? : True\n",
            "Is_ItemCold? : True\n",
            "Is_ItemCold? : True\n",
            "Is_ItemCold? : True\n",
            "Is_ItemCold? : True\n",
            "Is_ItemCold? : True\n",
            "Is_ItemCold? : True\n",
            "Is_ItemCold? : True\n",
            "Is_ItemCold? : True\n",
            "Is_ItemCold? : True\n",
            "\n",
            "Is_UserCold? : False\n",
            "\n",
            "Is_UserCold? : False\n",
            "\n",
            "Is_UserCold? : False\n"
          ],
          "name": "stdout"
        },
        {
          "output_type": "stream",
          "text": [
            "\n",
            " 28%|██▊       | 29/102 [00:02<00:07, 10.29it/s]\u001b[A\n",
            " 31%|███▏      | 32/102 [00:02<00:05, 12.46it/s]\u001b[A"
          ],
          "name": "stderr"
        },
        {
          "output_type": "stream",
          "text": [
            "\n",
            "Is_UserCold? : False\n",
            "\n",
            "Is_UserCold? : False\n",
            "\n",
            "Is_UserCold? : False\n",
            "\n",
            "Is_UserCold? : False\n",
            "\n",
            "Is_UserCold? : False\n"
          ],
          "name": "stdout"
        },
        {
          "output_type": "stream",
          "text": [
            "\n",
            " 34%|███▍      | 35/102 [00:02<00:04, 14.73it/s]\u001b[A\n",
            " 37%|███▋      | 38/102 [00:03<00:03, 16.66it/s]\u001b[A"
          ],
          "name": "stderr"
        },
        {
          "output_type": "stream",
          "text": [
            "\n",
            "Is_UserCold? : False\n",
            "\n",
            "Is_UserCold? : False\n",
            "\n",
            "Is_UserCold? : False\n",
            "\n",
            "Is_UserCold? : False\n",
            "\n",
            "Is_UserCold? : False\n"
          ],
          "name": "stdout"
        },
        {
          "output_type": "stream",
          "text": [
            "\n",
            " 40%|████      | 41/102 [00:03<00:03, 18.16it/s]\u001b[A\n"
          ],
          "name": "stderr"
        },
        {
          "output_type": "stream",
          "text": [
            "\n",
            "Is_UserCold? : False\n",
            "\n",
            "Is_UserCold? : False\n",
            "\n",
            "Is_UserCold? : False\n",
            "\n",
            "Is_UserCold? : False\n",
            "\n",
            "Is_UserCold? : False\n",
            "\n"
          ],
          "name": "stdout"
        },
        {
          "output_type": "stream",
          "text": [
            " 43%|████▎     | 44/102 [00:03<00:02, 19.49it/s]\u001b[A\n",
            " 46%|████▌     | 47/102 [00:03<00:02, 20.51it/s]\u001b[A"
          ],
          "name": "stderr"
        },
        {
          "output_type": "stream",
          "text": [
            "Is_UserCold? : False\n",
            "\n",
            "Is_UserCold? : False\n",
            "\n",
            "Is_UserCold? : False\n",
            "\n",
            "Is_UserCold? : False\n",
            "\n",
            "Is_UserCold? : False\n",
            "\n",
            "Is_UserCold? : False\n"
          ],
          "name": "stdout"
        },
        {
          "output_type": "stream",
          "text": [
            "\n",
            " 49%|████▉     | 50/102 [00:03<00:02, 21.10it/s]\u001b[A\n",
            " 52%|█████▏    | 53/102 [00:03<00:02, 22.36it/s]\u001b[A"
          ],
          "name": "stderr"
        },
        {
          "output_type": "stream",
          "text": [
            "\n",
            "Is_UserCold? : False\n",
            "\n",
            "Is_UserCold? : False\n",
            "\n",
            "Is_UserCold? : False\n",
            "\n",
            "Is_UserCold? : False\n",
            "\n",
            "Is_UserCold? : False\n"
          ],
          "name": "stdout"
        },
        {
          "output_type": "stream",
          "text": [
            "\n",
            " 55%|█████▍    | 56/102 [00:03<00:02, 22.23it/s]\u001b[A\n",
            " 58%|█████▊    | 59/102 [00:03<00:01, 22.21it/s]\u001b[A"
          ],
          "name": "stderr"
        },
        {
          "output_type": "stream",
          "text": [
            "\n",
            "Is_UserCold? : False\n",
            "\n",
            "Is_UserCold? : False\n",
            "\n",
            "Is_UserCold? : False\n",
            "\n",
            "Is_UserCold? : False\n",
            "\n",
            "Is_UserCold? : False\n"
          ],
          "name": "stdout"
        },
        {
          "output_type": "stream",
          "text": [
            "\n",
            " 61%|██████    | 62/102 [00:04<00:01, 22.16it/s]\u001b[A\n",
            " 64%|██████▎   | 65/102 [00:04<00:01, 22.83it/s]"
          ],
          "name": "stderr"
        },
        {
          "output_type": "stream",
          "text": [
            "\n",
            "Is_UserCold? : False\n",
            "\n",
            "Is_UserCold? : False\n",
            "\n",
            "Is_UserCold? : False\n",
            "\n",
            "Is_UserCold? : False\n",
            "\n",
            "Is_UserCold? : False\n",
            "\n"
          ],
          "name": "stdout"
        },
        {
          "output_type": "stream",
          "text": [
            "\u001b[A\n",
            " 67%|██████▋   | 68/102 [00:04<00:01, 22.33it/s]\u001b[A"
          ],
          "name": "stderr"
        },
        {
          "output_type": "stream",
          "text": [
            "Is_UserCold? : False\n",
            "\n",
            "Is_UserCold? : True\n",
            "Is_UserCold? : False\n",
            "\n",
            "Is_UserCold? : False\n",
            "\n",
            "Is_UserCold? : False\n",
            "\n",
            "Is_UserCold? : False\n"
          ],
          "name": "stdout"
        },
        {
          "output_type": "stream",
          "text": [
            "\n",
            " 70%|██████▉   | 71/102 [00:04<00:01, 22.13it/s]\u001b[A\n",
            " 73%|███████▎  | 74/102 [00:04<00:01, 22.38it/s]\u001b[A"
          ],
          "name": "stderr"
        },
        {
          "output_type": "stream",
          "text": [
            "\n",
            "Is_UserCold? : False\n",
            "\n",
            "Is_UserCold? : False\n",
            "\n",
            "Is_UserCold? : False\n",
            "\n",
            "Is_UserCold? : True\n",
            "Is_UserCold? : False\n",
            "\n",
            "Is_UserCold? : False\n"
          ],
          "name": "stdout"
        },
        {
          "output_type": "stream",
          "text": [
            "\n",
            " 75%|███████▌  | 77/102 [00:04<00:01, 20.19it/s]\u001b[A"
          ],
          "name": "stderr"
        },
        {
          "output_type": "stream",
          "text": [
            "\n",
            "Is_UserCold? : False\n",
            "\n",
            "Is_UserCold? : True\n",
            "Is_UserCold? : True\n",
            "Is_UserCold? : True\n",
            "Is_UserCold? : True\n",
            "Is_UserCold? : True\n",
            "Is_UserCold? : True\n",
            "Is_UserCold? : True\n",
            "Is_UserCold? : False\n",
            "\n",
            "Is_UserCold? : True\n",
            "Is_UserCold? : True\n",
            "Is_UserCold? : True\n",
            "Is_UserCold? : True\n",
            "Is_UserCold? : True\n",
            "Is_UserCold? : True\n",
            "Is_UserCold? : True\n",
            "Is_UserCold? : True\n",
            "Is_UserCold? : False\n",
            "\n"
          ],
          "name": "stdout"
        },
        {
          "output_type": "stream",
          "text": [
            "\n",
            "100%|██████████| 102/102 [00:04<00:00, 20.47it/s]\n",
            "\n",
            "  0%|          | 0/52 [00:00<?, ?it/s]\u001b[A"
          ],
          "name": "stderr"
        },
        {
          "output_type": "stream",
          "text": [
            "Is_UserCold? : False\n",
            "\n",
            "Is_UserCold? : True\n",
            "Is_UserCold? : True\n",
            "Is_UserCold? : True\n",
            "Is_UserCold? : True\n",
            "Is_UserCold? : True\n",
            "2nd Updating Phase..\n",
            "\n",
            "Is_UserCold? : True\n",
            "Is_UserCold? : True\n",
            "Is_UserCold? : True\n",
            "Is_UserCold? : True\n",
            "Is_UserCold? : True\n",
            "Is_UserCold? : True\n",
            "Is_UserCold? : True\n",
            "Is_UserCold? : True\n",
            "Is_UserCold? : True\n",
            "Is_UserCold? : True\n",
            "Is_UserCold? : True\n",
            "Is_UserCold? : True\n",
            "Is_UserCold? : True\n",
            "Is_UserCold? : True\n",
            "Is_UserCold? : True\n",
            "Is_UserCold? : True\n",
            "Is_UserCold? : True\n",
            "Is_UserCold? : True\n",
            "Is_UserCold? : True\n",
            "Is_UserCold? : True\n",
            "Is_UserCold? : True\n",
            "Is_UserCold? : True\n",
            "Is_UserCold? : True\n"
          ],
          "name": "stdout"
        },
        {
          "output_type": "stream",
          "text": [
            "\n",
            "  2%|▏         | 1/52 [00:00<00:07,  6.69it/s]\u001b[A\n",
            "  8%|▊         | 4/52 [00:00<00:05,  8.47it/s]\u001b[A"
          ],
          "name": "stderr"
        },
        {
          "output_type": "stream",
          "text": [
            "Is_ItemCold? : True\n",
            "Is_ItemCold? : True\n",
            "Is_ItemCold? : False\n",
            "\n",
            "Is_ItemCold? : False\n",
            "\n",
            "Is_ItemCold? : False\n",
            "\n",
            "Is_ItemCold? : False\n",
            "\n"
          ],
          "name": "stdout"
        },
        {
          "output_type": "stream",
          "text": [
            "\n",
            " 12%|█▏        | 6/52 [00:00<00:04,  9.79it/s]\u001b[A"
          ],
          "name": "stderr"
        },
        {
          "output_type": "stream",
          "text": [
            "Is_ItemCold? : False\n",
            "\n",
            "Is_ItemCold? : True\n",
            "Is_ItemCold? : True\n",
            "Is_ItemCold? : False\n",
            "\n",
            "Is_ItemCold? : True\n",
            "Is_ItemCold? : True\n",
            "Is_ItemCold? : False\n",
            "\n",
            "Is_ItemCold? : True\n",
            "Is_ItemCold? : True\n",
            "Is_ItemCold? : True\n",
            "Is_ItemCold? : True\n",
            "Is_ItemCold? : True\n"
          ],
          "name": "stdout"
        },
        {
          "output_type": "stream",
          "text": [
            "\n",
            " 15%|█▌        | 8/52 [00:00<00:04,  9.59it/s]\u001b[A"
          ],
          "name": "stderr"
        },
        {
          "output_type": "stream",
          "text": [
            "Is_ItemCold? : True\n",
            "Is_ItemCold? : True\n",
            "Is_ItemCold? : True\n",
            "Is_ItemCold? : True\n",
            "Is_ItemCold? : True\n",
            "Is_ItemCold? : True\n",
            "Is_ItemCold? : True\n",
            "Is_ItemCold? : True\n",
            "Is_ItemCold? : True\n",
            "Is_ItemCold? : False\n",
            "\n",
            "Is_ItemCold? : True\n",
            "Is_ItemCold? : True\n",
            "Is_ItemCold? : True\n",
            "Is_ItemCold? : True\n",
            "Is_ItemCold? : True\n",
            "Is_ItemCold? : True\n",
            "Is_ItemCold? : True\n",
            "Is_ItemCold? : True\n",
            "Is_ItemCold? : True\n",
            "Is_ItemCold? : True\n",
            "Is_ItemCold? : True\n",
            "Is_ItemCold? : True\n"
          ],
          "name": "stdout"
        },
        {
          "output_type": "stream",
          "text": [
            "\n",
            " 17%|█▋        | 9/52 [00:00<00:05,  8.27it/s]\u001b[A\n",
            "100%|██████████| 52/52 [00:00<00:00, 55.66it/s]\n",
            " 43%|████▎     | 3/7 [00:19<00:26,  6.59s/it]\n"
          ],
          "name": "stderr"
        },
        {
          "output_type": "stream",
          "text": [
            "Is_ItemCold? : True\n",
            "Is_ItemCold? : False\n",
            "\n",
            "Is_ItemCold? : False\n",
            "\n",
            "Is_ItemCold? : True\n",
            "Is_ItemCold? : True\n",
            "Is_ItemCold? : True\n",
            "Is_ItemCold? : True\n",
            "Is_ItemCold? : True\n",
            "Is_ItemCold? : True\n",
            "Is_ItemCold? : True\n",
            "Is_ItemCold? : True\n",
            "Is_ItemCold? : True\n",
            "1st Updating Phase..\n",
            "\n"
          ],
          "name": "stdout"
        },
        {
          "output_type": "stream",
          "text": [
            "  0%|          | 0/68 [00:00<?, ?it/s]\u001b[A\n",
            "  3%|▎         | 2/68 [00:00<00:05, 11.43it/s]\u001b[A"
          ],
          "name": "stderr"
        },
        {
          "output_type": "stream",
          "text": [
            "Is_UserCold? : False\n",
            "Is_ItemCold? : False\n",
            "22745 8535\n",
            "\n",
            "Is_UserCold? : False\n",
            "Is_ItemCold? : True\n",
            "Is_ItemCold? : False\n",
            "22746 8537\n",
            "\n",
            "Is_UserCold? : False\n",
            "Is_ItemCold? :"
          ],
          "name": "stdout"
        },
        {
          "output_type": "stream",
          "text": [
            "\n",
            "  4%|▍         | 3/68 [00:00<00:05, 10.86it/s]\u001b[A"
          ],
          "name": "stderr"
        },
        {
          "output_type": "stream",
          "text": [
            " False\n",
            "22747 8538\n",
            "\n",
            "Is_UserCold? : False\n",
            "Is_ItemCold? : False\n",
            "22748 8539\n",
            "\n",
            "Is_UserCold? : False\n",
            "Is_ItemCold? : False\n",
            "22749 8540\n"
          ],
          "name": "stdout"
        },
        {
          "output_type": "stream",
          "text": [
            "\n",
            "  7%|▋         | 5/68 [00:00<00:05, 11.16it/s]\u001b[A\n",
            " 10%|█         | 7/68 [00:00<00:05, 11.45it/s]\u001b[A"
          ],
          "name": "stderr"
        },
        {
          "output_type": "stream",
          "text": [
            "\n",
            "Is_UserCold? : False\n",
            "Is_ItemCold? : False\n",
            "22750 8541\n",
            "\n",
            "Is_UserCold? : True\n",
            "Is_UserCold? : False\n",
            "Is_ItemCold? : False\n",
            "22752 8542\n",
            "\n",
            "Is_UserCold? : False\n",
            "Is_ItemCold? : False\n",
            "22753 8543\n"
          ],
          "name": "stdout"
        },
        {
          "output_type": "stream",
          "text": [
            "\n",
            " 12%|█▏        | 8/68 [00:00<00:05, 10.96it/s]\u001b[A\n",
            " 15%|█▍        | 10/68 [00:00<00:05, 10.83it/s]\u001b[A"
          ],
          "name": "stderr"
        },
        {
          "output_type": "stream",
          "text": [
            "\n",
            "Is_UserCold? : False\n",
            "Is_ItemCold? : True\n",
            "Is_ItemCold? : False\n",
            "22754 8545\n",
            "\n",
            "Is_UserCold? : False\n",
            "Is_ItemCold? : True\n",
            "Is_ItemCold? : True\n",
            "Is_ItemCold? : False\n",
            "22755 8548\n",
            "\n",
            "Is_UserCold? :"
          ],
          "name": "stdout"
        },
        {
          "output_type": "stream",
          "text": [
            "\n",
            " 18%|█▊        | 12/68 [00:01<00:04, 11.38it/s]\u001b[A"
          ],
          "name": "stderr"
        },
        {
          "output_type": "stream",
          "text": [
            " False\n",
            "Is_ItemCold? : False\n",
            "22756 8549\n",
            "\n",
            "Is_UserCold? : False\n",
            "Is_ItemCold? : False\n",
            "22757 8550\n",
            "\n",
            "Is_UserCold? : False\n",
            "Is_ItemCold? : False\n",
            "22758 8551\n"
          ],
          "name": "stdout"
        },
        {
          "output_type": "stream",
          "text": [
            "\n",
            " 21%|██        | 14/68 [00:01<00:04, 11.58it/s]\u001b[A"
          ],
          "name": "stderr"
        },
        {
          "output_type": "stream",
          "text": [
            "\n",
            "Is_UserCold? : False\n",
            "Is_ItemCold? : False\n",
            "22759 8552\n",
            "\n",
            "Is_UserCold? : False\n",
            "Is_ItemCold? : False\n",
            "22760 8553\n",
            "\n",
            "Is_UserCold? : False\n",
            "Is_ItemCold? : False\n",
            "22761 8554\n"
          ],
          "name": "stdout"
        },
        {
          "output_type": "stream",
          "text": [
            "\n",
            " 24%|██▎       | 16/68 [00:01<00:04, 11.79it/s]\u001b[A\n",
            " 26%|██▋       | 18/68 [00:01<00:04, 11.95it/s]\u001b[A"
          ],
          "name": "stderr"
        },
        {
          "output_type": "stream",
          "text": [
            "\n",
            "Is_UserCold? : False\n",
            "Is_ItemCold? : False\n",
            "22762 8555\n",
            "\n",
            "Is_UserCold? : False\n",
            "Is_ItemCold? : False\n",
            "22763 8556\n",
            "\n",
            "Is_UserCold? : False\n",
            "Is_ItemCold? : False\n",
            "22764 8557\n"
          ],
          "name": "stdout"
        },
        {
          "output_type": "stream",
          "text": [
            "\n",
            " 29%|██▉       | 20/68 [00:01<00:04, 11.77it/s]\u001b[A"
          ],
          "name": "stderr"
        },
        {
          "output_type": "stream",
          "text": [
            "\n",
            "Is_UserCold? : False\n",
            "Is_ItemCold? : True\n",
            "Is_ItemCold? : False\n",
            "22765 8559\n",
            "\n",
            "Is_UserCold? : False\n",
            "Is_ItemCold? : False\n",
            "22766 8560\n",
            "\n",
            "Is_UserCold? : False\n",
            "Is_ItemCold? : True\n",
            "Is_ItemCold? : True\n"
          ],
          "name": "stdout"
        },
        {
          "output_type": "stream",
          "text": [
            "\n",
            " 32%|███▏      | 22/68 [00:01<00:04, 10.56it/s]\u001b[A"
          ],
          "name": "stderr"
        },
        {
          "output_type": "stream",
          "text": [
            "Is_ItemCold? : True\n",
            "Is_ItemCold? : True\n",
            "Is_ItemCold? : True\n",
            "Is_ItemCold? : True\n",
            "Is_ItemCold? : False\n",
            "22767 8462\n",
            "\n",
            "Is_UserCold? : False\n",
            "Is_ItemCold? : True\n",
            "Is_ItemCold? : True\n",
            "Is_ItemCold? : True\n",
            "Is_ItemCold? : True\n",
            "Is_ItemCold? : True\n",
            "Is_ItemCold? : True\n",
            "Is_ItemCold? : True\n",
            "Is_ItemCold? : True\n",
            "Is_ItemCold? : True\n",
            "Is_ItemCold? : True\n"
          ],
          "name": "stdout"
        },
        {
          "output_type": "stream",
          "text": [
            "\n",
            " 35%|███▌      | 24/68 [00:02<00:04,  9.09it/s]\u001b[A"
          ],
          "name": "stderr"
        },
        {
          "output_type": "stream",
          "text": [
            "Is_ItemCold? : True\n",
            "Is_ItemCold? : True\n",
            "Is_ItemCold? : True\n",
            "Is_ItemCold? : True\n",
            "Is_ItemCold? : True\n",
            "Is_ItemCold? : True\n",
            "Is_ItemCold? : True\n",
            "Is_ItemCold? : True\n",
            "Is_ItemCold? : True\n",
            "Is_ItemCold? : True\n",
            "Is_ItemCold? : True\n",
            "Is_ItemCold? : True\n",
            "Is_ItemCold? : True\n",
            "Is_ItemCold? : True\n",
            "Is_ItemCold? : True\n",
            "Is_ItemCold? : True\n",
            "Is_ItemCold? : True\n",
            "Is_ItemCold? : True\n",
            "Is_ItemCold? : True\n",
            "Is_ItemCold? : True\n",
            "Is_ItemCold? : True\n",
            "Is_ItemCold? : True\n",
            "Is_ItemCold? : True\n",
            "Is_ItemCold? : True\n",
            "Is_ItemCold? : True\n",
            "\n",
            "Is_UserCold? : True\n",
            "Is_UserCold? : True\n",
            "Is_UserCold? : True\n",
            "Is_UserCold? : False\n",
            "\n"
          ],
          "name": "stdout"
        },
        {
          "output_type": "stream",
          "text": [
            "\n",
            " 37%|███▋      | 25/68 [00:02<00:04,  9.33it/s]\u001b[A\n",
            "100%|██████████| 68/68 [00:02<00:00, 27.38it/s]"
          ],
          "name": "stderr"
        },
        {
          "output_type": "stream",
          "text": [
            "Is_UserCold? : True\n",
            "Is_UserCold? : True\n",
            "Is_UserCold? : True\n",
            "Is_UserCold? : True\n",
            "Is_UserCold? : True\n",
            "Is_UserCold? : True\n",
            "Is_UserCold? : True\n",
            "Is_UserCold? : True\n",
            "Is_UserCold? : True\n",
            "Is_UserCold? : True\n",
            "Is_UserCold? : False\n",
            "\n",
            "Is_UserCold? : True\n",
            "Is_UserCold? : True\n",
            "Is_UserCold? : True\n",
            "Is_UserCold? : True\n",
            "Is_UserCold? : False\n",
            "\n",
            "Is_UserCold? : False\n",
            "\n",
            "Is_UserCold? : True\n",
            "Is_UserCold? : True\n"
          ],
          "name": "stdout"
        },
        {
          "output_type": "stream",
          "text": [
            "\n",
            "\n",
            "  0%|          | 0/46 [00:00<?, ?it/s]\u001b[A\n",
            "  2%|▏         | 1/46 [00:00<00:05,  7.68it/s]\u001b[A"
          ],
          "name": "stderr"
        },
        {
          "output_type": "stream",
          "text": [
            "2nd Updating Phase..\n",
            "\n",
            "Is_UserCold? : True\n",
            "Is_UserCold? : True\n",
            "Is_UserCold? : True\n",
            "Is_UserCold? : True\n",
            "Is_UserCold? : True\n",
            "Is_UserCold? : True\n",
            "Is_UserCold? : True\n",
            "Is_UserCold? : True\n",
            "Is_UserCold? : True\n",
            "Is_UserCold? : True\n",
            "Is_UserCold? : True\n",
            "Is_UserCold? : True\n",
            "Is_UserCold? : True\n",
            "Is_UserCold? : True\n",
            "Is_UserCold? : True\n",
            "Is_UserCold? : True\n",
            "Is_UserCold? : True\n",
            "Is_UserCold? : True\n",
            "Is_UserCold? : True\n",
            "Is_UserCold? : True\n",
            "Is_ItemCold? : False\n",
            "\n",
            "Is_ItemCold? : False\n",
            "\n"
          ],
          "name": "stdout"
        },
        {
          "output_type": "stream",
          "text": [
            "\n",
            "  7%|▋         | 3/46 [00:00<00:04,  8.97it/s]\u001b[A"
          ],
          "name": "stderr"
        },
        {
          "output_type": "stream",
          "text": [
            "Is_ItemCold? : True\n",
            "Is_ItemCold? : True\n",
            "Is_ItemCold? : False\n",
            "\n",
            "Is_ItemCold? : True\n",
            "Is_ItemCold? : True\n",
            "Is_ItemCold? : True\n",
            "Is_ItemCold? : True\n",
            "Is_ItemCold? : True\n",
            "Is_ItemCold? : True\n",
            "Is_ItemCold? : True\n",
            "Is_ItemCold? : True\n",
            "Is_ItemCold? : True\n",
            "Is_ItemCold? : True\n",
            "Is_ItemCold? : True\n",
            "Is_ItemCold? : True\n",
            "Is_ItemCold? : True\n",
            "Is_ItemCold? : True\n",
            "Is_ItemCold? : True\n",
            "Is_ItemCold? : True\n",
            "Is_ItemCold? : True\n",
            "Is_ItemCold? : True\n",
            "Is_ItemCold? : True\n"
          ],
          "name": "stdout"
        },
        {
          "output_type": "stream",
          "text": [
            "\n",
            "  9%|▊         | 4/46 [00:00<00:06,  6.85it/s]\u001b[A\n",
            " 11%|█         | 5/46 [00:00<00:05,  7.21it/s]\u001b[A"
          ],
          "name": "stderr"
        },
        {
          "output_type": "stream",
          "text": [
            "Is_ItemCold? : True\n",
            "Is_ItemCold? : True\n",
            "Is_ItemCold? : True\n",
            "Is_ItemCold? : True\n",
            "Is_ItemCold? : True\n",
            "Is_ItemCold? : True\n",
            "Is_ItemCold? : True\n",
            "Is_ItemCold? : False\n",
            "\n",
            "Is_ItemCold? : True\n",
            "Is_ItemCold? : True\n",
            "Is_ItemCold? : True\n",
            "Is_ItemCold? : True\n",
            "Is_ItemCold? : True\n",
            "Is_ItemCold? : True\n",
            "Is_ItemCold? : True\n",
            "Is_ItemCold? : False\n",
            "\n",
            "Is_ItemCold? : True\n"
          ],
          "name": "stdout"
        },
        {
          "output_type": "stream",
          "text": [
            "\n",
            "100%|██████████| 46/46 [00:00<00:00, 62.45it/s]\n",
            " 57%|█████▋    | 4/7 [00:22<00:16,  5.59s/it]\n",
            "  0%|          | 0/68 [00:00<?, ?it/s]\u001b[A"
          ],
          "name": "stderr"
        },
        {
          "output_type": "stream",
          "text": [
            "Is_ItemCold? : False\n",
            "\n",
            "Is_ItemCold? : True\n",
            "Is_ItemCold? : True\n",
            "Is_ItemCold? : True\n",
            "Is_ItemCold? : True\n",
            "1st Updating Phase..\n",
            "\n",
            "Is_UserCold? : False\n",
            "Is_ItemCold? : False\n",
            "22769 8561\n",
            "\n",
            "Is_UserCold? : False\n"
          ],
          "name": "stdout"
        },
        {
          "output_type": "stream",
          "text": [
            "\n",
            "  3%|▎         | 2/68 [00:00<00:06, 10.10it/s]\u001b[A\n",
            "  4%|▍         | 3/68 [00:00<00:06,  9.82it/s]\u001b[A"
          ],
          "name": "stderr"
        },
        {
          "output_type": "stream",
          "text": [
            "Is_ItemCold? : False\n",
            "22770 8562\n",
            "\n",
            "Is_UserCold? : True\n",
            "Is_UserCold? : False\n",
            "Is_ItemCold? : False\n",
            "22772 8563\n",
            "\n"
          ],
          "name": "stdout"
        },
        {
          "output_type": "stream",
          "text": [
            "\n",
            "  6%|▌         | 4/68 [00:00<00:06,  9.47it/s]\u001b[A"
          ],
          "name": "stderr"
        },
        {
          "output_type": "stream",
          "text": [
            "Is_UserCold? : False\n",
            "Is_ItemCold? : False\n",
            "22773 8564\n",
            "\n",
            "Is_UserCold? : False\n",
            "Is_ItemCold? : False\n",
            "22774 8565\n",
            "\n",
            "Is_UserCold? : False\n",
            "Is_ItemCold? : True\n"
          ],
          "name": "stdout"
        },
        {
          "output_type": "stream",
          "text": [
            "\n",
            "  9%|▉         | 6/68 [00:00<00:06,  9.87it/s]\u001b[A\n",
            " 10%|█         | 7/68 [00:00<00:06,  9.34it/s]"
          ],
          "name": "stderr"
        },
        {
          "output_type": "stream",
          "text": [
            "Is_ItemCold? : True\n",
            "Is_ItemCold? : False\n",
            "22775 8568\n",
            "\n",
            "Is_UserCold? : True\n",
            "Is_UserCold? : False\n",
            "Is_ItemCold? : False\n",
            "22777 8569\n",
            "\n"
          ],
          "name": "stdout"
        },
        {
          "output_type": "stream",
          "text": [
            "\u001b[A\n",
            " 12%|█▏        | 8/68 [00:00<00:06,  9.45it/s]\u001b[A\n",
            " 13%|█▎        | 9/68 [00:00<00:06,  9.53it/s]\u001b[A"
          ],
          "name": "stderr"
        },
        {
          "output_type": "stream",
          "text": [
            "Is_UserCold? : False\n",
            "Is_ItemCold? : True\n",
            "Is_ItemCold? : False\n",
            "22778 8571\n",
            "\n",
            "Is_UserCold? : False\n",
            "Is_ItemCold? : True\n",
            "Is_ItemCold? : True\n",
            "Is_ItemCold? : False\n",
            "22779 8574\n",
            "\n",
            "Is_UserCold? :"
          ],
          "name": "stdout"
        },
        {
          "output_type": "stream",
          "text": [
            "\n",
            " 16%|█▌        | 11/68 [00:01<00:05, 10.24it/s]\u001b[A"
          ],
          "name": "stderr"
        },
        {
          "output_type": "stream",
          "text": [
            " False\n",
            "Is_ItemCold? : False\n",
            "22780 8575\n",
            "\n",
            "Is_UserCold? : False\n",
            "Is_ItemCold? : False\n",
            "22781 8576\n",
            "\n",
            "Is_UserCold? : False\n",
            "Is_ItemCold? : False\n",
            "22782 8577\n"
          ],
          "name": "stdout"
        },
        {
          "output_type": "stream",
          "text": [
            "\n",
            " 18%|█▊        | 12/68 [00:01<00:05, 10.15it/s]\u001b[A\n",
            " 21%|██        | 14/68 [00:01<00:04, 10.84it/s]\u001b[A"
          ],
          "name": "stderr"
        },
        {
          "output_type": "stream",
          "text": [
            "\n",
            "Is_UserCold? : False\n",
            "Is_ItemCold? : False\n",
            "22783 8578\n",
            "\n",
            "Is_UserCold? : False\n",
            "Is_ItemCold? : False\n",
            "22784 8579\n",
            "\n",
            "Is_UserCold? : True\n",
            "Is_UserCold? : True\n",
            "Is_UserCold? : True\n",
            "Is_UserCold? : True\n",
            "Is_UserCold? : True\n",
            "Is_UserCold? : True\n",
            "Is_UserCold? : True\n",
            "Is_UserCold? : True\n",
            "Is_UserCold? : True\n"
          ],
          "name": "stdout"
        },
        {
          "output_type": "stream",
          "text": [
            "\n",
            " 24%|██▎       | 16/68 [00:01<00:04, 11.08it/s]\u001b[A"
          ],
          "name": "stderr"
        },
        {
          "output_type": "stream",
          "text": [
            "Is_UserCold? : True\n",
            "Is_UserCold? : True\n",
            "Is_UserCold? : True\n",
            "Is_UserCold? : True\n",
            "Is_UserCold? : True\n",
            "Is_UserCold? : True\n",
            "Is_UserCold? : True\n",
            "Is_UserCold? : True\n",
            "Is_UserCold? : True\n",
            "Is_UserCold? : True\n",
            "Is_UserCold? : True\n",
            "Is_UserCold? : True\n",
            "Is_ItemCold? : False\n",
            "\n",
            "Is_ItemCold? : False\n",
            "\n",
            "Is_ItemCold? : False\n",
            "\n",
            "Is_ItemCold? : False\n"
          ],
          "name": "stdout"
        },
        {
          "output_type": "stream",
          "text": [
            "\n",
            " 26%|██▋       | 18/68 [00:01<00:04, 12.24it/s]\u001b[A\n",
            " 29%|██▉       | 20/68 [00:01<00:03, 13.61it/s]\u001b[A"
          ],
          "name": "stderr"
        },
        {
          "output_type": "stream",
          "text": [
            "\n",
            "Is_ItemCold? : False\n",
            "\n",
            "Is_ItemCold? : True\n",
            "Is_ItemCold? : True\n",
            "Is_ItemCold? : False\n",
            "\n",
            "Is_ItemCold? : False\n",
            "\n",
            "Is_ItemCold? : True\n",
            "Is_ItemCold? : True\n",
            "Is_ItemCold? : True\n",
            "Is_ItemCold? : True\n",
            "Is_ItemCold? : True\n"
          ],
          "name": "stdout"
        },
        {
          "output_type": "stream",
          "text": [
            "\n",
            "100%|██████████| 68/68 [00:02<00:00, 33.61it/s]\n",
            "\n",
            "  0%|          | 0/47 [00:00<?, ?it/s]\u001b[A"
          ],
          "name": "stderr"
        },
        {
          "output_type": "stream",
          "text": [
            "Is_ItemCold? : True\n",
            "Is_ItemCold? : True\n",
            "Is_ItemCold? : True\n",
            "Is_ItemCold? : True\n",
            "Is_ItemCold? : True\n",
            "Is_ItemCold? : True\n",
            "Is_ItemCold? : True\n",
            "Is_ItemCold? : True\n",
            "Is_ItemCold? : True\n",
            "Is_ItemCold? : True\n",
            "Is_ItemCold? : True\n",
            "Is_ItemCold? : True\n",
            "Is_ItemCold? : True\n",
            "Is_ItemCold? : True\n",
            "Is_ItemCold? : True\n",
            "Is_ItemCold? : True\n",
            "Is_ItemCold? : True\n",
            "Is_ItemCold? : True\n",
            "Is_ItemCold? : True\n",
            "Is_ItemCold? : True\n",
            "Is_ItemCold? : True\n",
            "Is_ItemCold? : True\n",
            "Is_ItemCold? : True\n",
            "Is_ItemCold? : True\n",
            "Is_ItemCold? : True\n",
            "Is_ItemCold? : True\n",
            "Is_ItemCold? : True\n",
            "Is_ItemCold? : True\n",
            "Is_ItemCold? : True\n",
            "Is_ItemCold? : True\n",
            "Is_ItemCold? : True\n",
            "Is_ItemCold? : True\n",
            "Is_ItemCold? : True\n",
            "Is_ItemCold? : True\n",
            "Is_ItemCold? : True\n",
            "2nd Updating Phase..\n",
            "\n",
            "Is_UserCold? : True\n",
            "Is_UserCold? : True\n",
            "Is_UserCold? : True\n",
            "Is_UserCold? : True\n",
            "Is_UserCold? : True\n",
            "Is_UserCold? : True\n",
            "Is_UserCold? : True\n",
            "Is_UserCold? : True\n",
            "Is_UserCold? : True\n",
            "Is_UserCold? : True\n",
            "Is_UserCold? : True\n",
            "Is_UserCold? : True\n",
            "Is_UserCold? : True\n",
            "Is_UserCold? : True\n",
            "Is_UserCold? : True\n",
            "Is_UserCold? : True\n",
            "Is_UserCold? : True\n",
            "Is_UserCold? : True\n",
            "Is_UserCold? : True\n",
            "Is_UserCold? : True\n",
            "Is_UserCold? : True\n",
            "Is_UserCold? : True\n",
            "Is_UserCold? : True\n",
            "Is_ItemCold? : True\n",
            "Is_ItemCold? : True\n",
            "Is_ItemCold? : True\n",
            "Is_ItemCold? : True\n",
            "Is_ItemCold? : True\n",
            "Is_ItemCold? : True\n",
            "Is_ItemCold? : True\n",
            "Is_ItemCold? : True\n",
            "Is_ItemCold? : True\n",
            "Is_ItemCold? : True\n",
            "Is_ItemCold? : True\n",
            "Is_ItemCold? : True\n",
            "Is_ItemCold? : True\n",
            "Is_ItemCold? : True\n",
            "Is_ItemCold? : True\n",
            "Is_ItemCold? : True\n",
            "Is_ItemCold? : True\n",
            "Is_ItemCold? : True\n",
            "Is_ItemCold? : True\n",
            "Is_ItemCold? : True\n",
            "Is_ItemCold? : True\n",
            "Is_ItemCold? : True\n",
            "Is_ItemCold? : True\n",
            "Is_ItemCold? : True\n",
            "Is_ItemCold? : True\n",
            "Is_ItemCold? : True\n",
            "Is_ItemCold? : True\n",
            "Is_ItemCold? : True\n",
            "Is_ItemCold? : True\n"
          ],
          "name": "stdout"
        },
        {
          "output_type": "stream",
          "text": [
            "\n",
            "100%|██████████| 47/47 [00:00<00:00, 144.46it/s]\n",
            " 71%|███████▏  | 5/7 [00:25<00:09,  4.63s/it]\n",
            "  0%|          | 0/67 [00:00<?, ?it/s]\u001b[A"
          ],
          "name": "stderr"
        },
        {
          "output_type": "stream",
          "text": [
            "Is_ItemCold? : True\n",
            "Is_ItemCold? : True\n",
            "Is_ItemCold? : True\n",
            "Is_ItemCold? : True\n",
            "Is_ItemCold? : True\n",
            "Is_ItemCold? : True\n",
            "Is_ItemCold? : True\n",
            "Is_ItemCold? : True\n",
            "Is_ItemCold? : True\n",
            "Is_ItemCold? : True\n",
            "Is_ItemCold? : True\n",
            "Is_ItemCold? : True\n",
            "Is_ItemCold? : True\n",
            "Is_ItemCold? : True\n",
            "Is_ItemCold? : True\n",
            "Is_ItemCold? : True\n",
            "Is_ItemCold? : True\n",
            "Is_ItemCold? : True\n",
            "1st Updating Phase..\n",
            "\n",
            "Is_UserCold? : False\n",
            "Is_ItemCold? : False\n",
            "22786 8589\n"
          ],
          "name": "stdout"
        },
        {
          "output_type": "stream",
          "text": [
            "\n",
            "  3%|▎         | 2/67 [00:00<00:05, 11.89it/s]\u001b[A"
          ],
          "name": "stderr"
        },
        {
          "output_type": "stream",
          "text": [
            "\n",
            "Is_UserCold? : False\n",
            "Is_ItemCold? : False\n",
            "22787 8590\n",
            "\n",
            "Is_UserCold? : False\n",
            "Is_ItemCold? : False\n",
            "22788 8591\n",
            "\n",
            "Is_UserCold? : False\n",
            "Is_ItemCold? : False\n",
            "22789 8592\n"
          ],
          "name": "stdout"
        },
        {
          "output_type": "stream",
          "text": [
            "\n",
            "  6%|▌         | 4/67 [00:00<00:05, 11.59it/s]\u001b[A\n",
            "  7%|▋         | 5/67 [00:00<00:05, 10.67it/s]\u001b[A"
          ],
          "name": "stderr"
        },
        {
          "output_type": "stream",
          "text": [
            "\n",
            "Is_UserCold? : False\n",
            "Is_ItemCold? : False\n",
            "22790 8593\n",
            "\n",
            "Is_UserCold? : False\n",
            "Is_ItemCold? : False\n",
            "22791 8594\n"
          ],
          "name": "stdout"
        },
        {
          "output_type": "stream",
          "text": [
            "\n",
            " 10%|█         | 7/67 [00:00<00:05, 10.99it/s]\u001b[A"
          ],
          "name": "stderr"
        },
        {
          "output_type": "stream",
          "text": [
            "\n",
            "Is_UserCold? : False\n",
            "Is_ItemCold? : False\n",
            "22792 8595\n",
            "\n",
            "Is_UserCold? : False\n",
            "Is_ItemCold? : False\n",
            "22793 8596\n",
            "\n",
            "Is_UserCold? : False\n",
            "Is_ItemCold? : False\n",
            "22794 8597\n"
          ],
          "name": "stdout"
        },
        {
          "output_type": "stream",
          "text": [
            "\n",
            " 13%|█▎        | 9/67 [00:00<00:05, 10.92it/s]\u001b[A\n",
            " 16%|█▋        | 11/67 [00:01<00:05, 11.00it/s]\u001b[A"
          ],
          "name": "stderr"
        },
        {
          "output_type": "stream",
          "text": [
            "\n",
            "Is_UserCold? : False\n",
            "Is_ItemCold? : False\n",
            "22795 8598\n",
            "\n",
            "Is_UserCold? : False\n",
            "Is_ItemCold? : False\n",
            "22796 8599\n",
            "\n"
          ],
          "name": "stdout"
        },
        {
          "output_type": "stream",
          "text": [
            "\n",
            " 18%|█▊        | 12/67 [00:01<00:05, 10.44it/s]\u001b[A"
          ],
          "name": "stderr"
        },
        {
          "output_type": "stream",
          "text": [
            "Is_UserCold? : False\n",
            "Is_ItemCold? : False\n",
            "22797 8600\n",
            "\n",
            "Is_UserCold? : True\n",
            "Is_UserCold? : True\n",
            "Is_UserCold? : True\n",
            "Is_UserCold? : True\n",
            "Is_UserCold? : True\n",
            "Is_UserCold? : True\n",
            "Is_UserCold? : True\n",
            "Is_UserCold? : True\n",
            "Is_UserCold? : True\n",
            "Is_UserCold? : True\n",
            "Is_UserCold? : True\n",
            "Is_UserCold? : True\n",
            "Is_UserCold? : True\n",
            "Is_UserCold? : True\n",
            "Is_UserCold? : True\n",
            "Is_UserCold? : True\n",
            "Is_UserCold? : True\n",
            "Is_UserCold? : True\n",
            "Is_UserCold? : True\n",
            "Is_UserCold? : True\n",
            "Is_UserCold? : True\n",
            "Is_UserCold? : True\n",
            "Is_UserCold? : True\n",
            "Is_ItemCold? : False\n"
          ],
          "name": "stdout"
        },
        {
          "output_type": "stream",
          "text": [
            "\n",
            " 19%|█▉        | 13/67 [00:01<00:06,  8.79it/s]\u001b[A\n",
            " 22%|██▏       | 15/67 [00:01<00:05, 10.20it/s]\u001b[A"
          ],
          "name": "stderr"
        },
        {
          "output_type": "stream",
          "text": [
            "\n",
            "Is_ItemCold? : False\n",
            "\n",
            "Is_ItemCold? : False\n",
            "\n",
            "Is_ItemCold? : False\n",
            "\n"
          ],
          "name": "stdout"
        },
        {
          "output_type": "stream",
          "text": [
            "\n",
            " 25%|██▌       | 17/67 [00:01<00:04, 11.59it/s]\u001b[A\n",
            " 30%|██▉       | 20/67 [00:01<00:03, 13.49it/s]\u001b[A"
          ],
          "name": "stderr"
        },
        {
          "output_type": "stream",
          "text": [
            "Is_ItemCold? : False\n",
            "\n",
            "Is_ItemCold? : False\n",
            "\n",
            "Is_ItemCold? : False\n",
            "\n",
            "Is_ItemCold? : False\n",
            "\n",
            "Is_ItemCold? : True\n",
            "Is_ItemCold? : True\n",
            "Is_ItemCold? : True\n",
            "Is_ItemCold? : True\n",
            "Is_ItemCold? : True\n",
            "Is_ItemCold? : True\n",
            "Is_ItemCold? : True\n",
            "Is_ItemCold? : True\n",
            "Is_ItemCold? : True\n",
            "Is_ItemCold? : True\n",
            "Is_ItemCold? : True\n",
            "Is_ItemCold? : True\n",
            "Is_ItemCold? : True\n",
            "Is_ItemCold? : True\n",
            "Is_ItemCold? : True\n",
            "Is_ItemCold? : True\n",
            "Is_ItemCold? : True\n",
            "Is_ItemCold? : True\n",
            "Is_ItemCold? : True\n",
            "Is_ItemCold? : True\n",
            "Is_ItemCold? : True\n",
            "Is_ItemCold? : True\n",
            "Is_ItemCold? : True\n",
            "Is_ItemCold? : True\n",
            "Is_ItemCold? : True\n",
            "Is_ItemCold? : True\n",
            "Is_ItemCold? : True\n",
            "Is_ItemCold? : True\n",
            "Is_ItemCold? : True\n",
            "Is_ItemCold? : True\n",
            "Is_ItemCold? : True\n",
            "Is_ItemCold? : True\n",
            "Is_ItemCold? : True\n",
            "Is_ItemCold? : True\n",
            "Is_ItemCold? : True\n",
            "Is_ItemCold? : True\n",
            "Is_ItemCold? : True\n",
            "Is_ItemCold? : True\n",
            "Is_ItemCold? : True\n"
          ],
          "name": "stdout"
        },
        {
          "output_type": "stream",
          "text": [
            "\n",
            "100%|██████████| 67/67 [00:01<00:00, 34.47it/s]\n",
            "\n",
            "  0%|          | 0/47 [00:00<?, ?it/s]\u001b[A"
          ],
          "name": "stderr"
        },
        {
          "output_type": "stream",
          "text": [
            "Is_ItemCold? : True\n",
            "Is_ItemCold? : True\n",
            "Is_ItemCold? : True\n",
            "Is_ItemCold? : True\n",
            "Is_ItemCold? : True\n",
            "Is_ItemCold? : True\n",
            "Is_ItemCold? : True\n",
            "Is_ItemCold? : True\n",
            "2nd Updating Phase..\n",
            "\n",
            "Is_UserCold? : True\n",
            "Is_UserCold? : True\n",
            "Is_UserCold? : True\n",
            "Is_UserCold? : True\n",
            "Is_UserCold? : True\n",
            "Is_UserCold? : True\n",
            "Is_UserCold? : True\n",
            "Is_UserCold? : True\n",
            "Is_UserCold? : True\n",
            "Is_UserCold? : True\n",
            "Is_UserCold? : True\n",
            "Is_UserCold? : True\n",
            "Is_UserCold? : True\n",
            "Is_UserCold? : True\n",
            "Is_UserCold? : True\n",
            "Is_UserCold? : True\n",
            "Is_UserCold? : True\n",
            "Is_UserCold? : True\n",
            "Is_UserCold? : True\n",
            "Is_UserCold? : True\n",
            "Is_UserCold? : True\n",
            "Is_UserCold? : True\n",
            "Is_UserCold? : True\n",
            "Is_ItemCold? : True\n",
            "Is_ItemCold? : True\n",
            "Is_ItemCold? : True\n",
            "Is_ItemCold? : True\n",
            "Is_ItemCold? : True\n",
            "Is_ItemCold? : True\n",
            "Is_ItemCold? : True\n",
            "Is_ItemCold? : True\n",
            "Is_ItemCold? : True\n",
            "Is_ItemCold? : True\n",
            "Is_ItemCold? : True\n",
            "Is_ItemCold? : True\n",
            "Is_ItemCold? : True\n"
          ],
          "name": "stdout"
        },
        {
          "output_type": "stream",
          "text": [
            "\n",
            "100%|██████████| 47/47 [00:00<00:00, 157.80it/s]\n",
            " 86%|████████▌ | 6/7 [00:27<00:03,  3.92s/it]\n",
            "  0%|          | 0/58 [00:00<?, ?it/s]\u001b[A"
          ],
          "name": "stderr"
        },
        {
          "output_type": "stream",
          "text": [
            "Is_ItemCold? : True\n",
            "Is_ItemCold? : True\n",
            "Is_ItemCold? : True\n",
            "Is_ItemCold? : True\n",
            "Is_ItemCold? : True\n",
            "Is_ItemCold? : True\n",
            "Is_ItemCold? : True\n",
            "Is_ItemCold? : True\n",
            "Is_ItemCold? : True\n",
            "Is_ItemCold? : True\n",
            "Is_ItemCold? : True\n",
            "Is_ItemCold? : True\n",
            "Is_ItemCold? : True\n",
            "Is_ItemCold? : True\n",
            "Is_ItemCold? : True\n",
            "Is_ItemCold? : True\n",
            "Is_ItemCold? : True\n",
            "Is_ItemCold? : True\n",
            "Is_ItemCold? : True\n",
            "Is_ItemCold? : True\n",
            "Is_ItemCold? : True\n",
            "Is_ItemCold? : True\n",
            "Is_ItemCold? : True\n",
            "Is_ItemCold? : True\n",
            "Is_ItemCold? : True\n",
            "Is_ItemCold? : True\n",
            "Is_ItemCold? : True\n",
            "Is_ItemCold? : True\n",
            "Is_ItemCold? : True\n",
            "Is_ItemCold? : True\n",
            "Is_ItemCold? : True\n",
            "Is_ItemCold? : True\n",
            "Is_ItemCold? : True\n",
            "Is_ItemCold? : True\n",
            "1st Updating Phase..\n",
            "\n",
            "Is_UserCold? : False\n",
            "Is_ItemCold? : False\n",
            "22798 8609\n"
          ],
          "name": "stdout"
        },
        {
          "output_type": "stream",
          "text": [
            "\n",
            "  2%|▏         | 1/58 [00:00<00:07,  8.06it/s]\u001b[A\n",
            "  3%|▎         | 2/58 [00:00<00:07,  7.64it/s]\u001b[A"
          ],
          "name": "stderr"
        },
        {
          "output_type": "stream",
          "text": [
            "\n",
            "Is_UserCold? : True\n",
            "Is_UserCold? : True\n",
            "Is_UserCold? : True\n",
            "Is_UserCold? : True\n",
            "Is_UserCold? : True\n",
            "Is_UserCold? : True\n",
            "Is_UserCold? : True\n",
            "Is_UserCold? : True\n",
            "Is_UserCold? : True\n",
            "Is_UserCold? : True\n",
            "Is_UserCold? : True\n",
            "Is_UserCold? : True\n",
            "Is_UserCold? : True\n",
            "Is_UserCold? : True\n",
            "Is_UserCold? : True\n",
            "Is_UserCold? : True\n",
            "Is_UserCold? : True\n",
            "Is_UserCold? : True\n",
            "Is_UserCold? : True\n",
            "Is_UserCold? : True\n",
            "Is_UserCold? : True\n",
            "Is_UserCold? : True\n",
            "Is_UserCold? : True\n",
            "Is_ItemCold? : False\n",
            "\n",
            "Is_ItemCold? : False\n"
          ],
          "name": "stdout"
        },
        {
          "output_type": "stream",
          "text": [
            "\n",
            "  9%|▊         | 5/58 [00:00<00:05,  9.48it/s]\u001b[A\n",
            " 12%|█▏        | 7/58 [00:00<00:04, 11.15it/s]\u001b[A"
          ],
          "name": "stderr"
        },
        {
          "output_type": "stream",
          "text": [
            "\n",
            "Is_ItemCold? : False\n",
            "\n",
            "Is_ItemCold? : False\n",
            "\n",
            "Is_ItemCold? : False\n",
            "\n",
            "Is_ItemCold? : False\n",
            "\n"
          ],
          "name": "stdout"
        },
        {
          "output_type": "stream",
          "text": [
            "\n",
            " 16%|█▌        | 9/58 [00:00<00:03, 12.76it/s]\u001b[A\n",
            " 19%|█▉        | 11/58 [00:00<00:03, 14.14it/s]\u001b[A"
          ],
          "name": "stderr"
        },
        {
          "output_type": "stream",
          "text": [
            "Is_ItemCold? : False\n",
            "\n",
            "Is_ItemCold? : False\n",
            "\n",
            "Is_ItemCold? : False\n",
            "\n",
            "Is_ItemCold? : False\n",
            "\n",
            "Is_ItemCold? : True\n",
            "Is_ItemCold? : True\n",
            "Is_ItemCold? : True\n",
            "Is_ItemCold? : True\n",
            "Is_ItemCold? : True\n",
            "Is_ItemCold? : True\n",
            "Is_ItemCold? : True\n",
            "Is_ItemCold? : True\n",
            "Is_ItemCold? : True\n",
            "Is_ItemCold? : True\n",
            "Is_ItemCold? : True\n",
            "Is_ItemCold? : True\n",
            "Is_ItemCold? : True\n",
            "Is_ItemCold? : True\n",
            "Is_ItemCold? : True\n",
            "Is_ItemCold? : True\n",
            "Is_ItemCold? : True\n",
            "Is_ItemCold? : True\n",
            "Is_ItemCold? : True\n",
            "Is_ItemCold? : True\n",
            "Is_ItemCold? : True\n",
            "Is_ItemCold? : True\n",
            "Is_ItemCold? : True\n",
            "Is_ItemCold? : True\n",
            "Is_ItemCold? : True\n",
            "Is_ItemCold? : True\n",
            "Is_ItemCold? : True\n",
            "Is_ItemCold? : True\n",
            "Is_ItemCold? : True\n",
            "Is_ItemCold? : True\n",
            "Is_ItemCold? : True\n",
            "Is_ItemCold? : True\n",
            "Is_ItemCold? : True\n",
            "Is_ItemCold? : True\n",
            "Is_ItemCold? : True\n",
            "Is_ItemCold? : True\n",
            "Is_ItemCold? : True\n",
            "Is_ItemCold? : True\n"
          ],
          "name": "stdout"
        },
        {
          "output_type": "stream",
          "text": [
            "\n",
            "100%|██████████| 58/58 [00:01<00:00, 56.87it/s]\n",
            "\n",
            "  0%|          | 0/47 [00:00<?, ?it/s]\u001b[A"
          ],
          "name": "stderr"
        },
        {
          "output_type": "stream",
          "text": [
            "Is_ItemCold? : True\n",
            "Is_ItemCold? : True\n",
            "Is_ItemCold? : True\n",
            "Is_ItemCold? : True\n",
            "Is_ItemCold? : True\n",
            "Is_ItemCold? : True\n",
            "Is_ItemCold? : True\n",
            "Is_ItemCold? : True\n",
            "Is_ItemCold? : True\n",
            "2nd Updating Phase..\n",
            "\n",
            "Is_UserCold? : True\n",
            "Is_UserCold? : True\n",
            "Is_UserCold? : True\n",
            "Is_UserCold? : True\n",
            "Is_UserCold? : True\n",
            "Is_UserCold? : True\n",
            "Is_UserCold? : True\n",
            "Is_UserCold? : True\n",
            "Is_UserCold? : True\n",
            "Is_UserCold? : True\n",
            "Is_UserCold? : True\n",
            "Is_UserCold? : True\n",
            "Is_UserCold? : True\n",
            "Is_UserCold? : True\n",
            "Is_UserCold? : True\n",
            "Is_UserCold? : True\n",
            "Is_UserCold? : True\n",
            "Is_UserCold? : True\n",
            "Is_UserCold? : True\n",
            "Is_UserCold? : True\n",
            "Is_UserCold? : True\n",
            "Is_UserCold? : True\n",
            "Is_UserCold? : True\n",
            "Is_ItemCold? : True\n",
            "Is_ItemCold? : True\n",
            "Is_ItemCold? : True\n",
            "Is_ItemCold? : True\n",
            "Is_ItemCold? : True\n",
            "Is_ItemCold? : True\n",
            "Is_ItemCold? : True\n",
            "Is_ItemCold? : True\n",
            "Is_ItemCold? : True\n",
            "Is_ItemCold? : True\n"
          ],
          "name": "stdout"
        },
        {
          "output_type": "stream",
          "text": [
            "\n",
            "100%|██████████| 47/47 [00:00<00:00, 137.80it/s]\n",
            "100%|██████████| 7/7 [00:29<00:00,  4.15s/it]"
          ],
          "name": "stderr"
        },
        {
          "output_type": "stream",
          "text": [
            "Is_ItemCold? : True\n",
            "Is_ItemCold? : True\n",
            "Is_ItemCold? : True\n",
            "Is_ItemCold? : True\n",
            "Is_ItemCold? : True\n",
            "Is_ItemCold? : True\n",
            "Is_ItemCold? : True\n",
            "Is_ItemCold? : True\n",
            "Is_ItemCold? : True\n",
            "Is_ItemCold? : True\n",
            "Is_ItemCold? : True\n",
            "Is_ItemCold? : True\n",
            "Is_ItemCold? : True\n",
            "Is_ItemCold? : True\n",
            "Is_ItemCold? : True\n",
            "Is_ItemCold? : True\n",
            "Is_ItemCold? : True\n",
            "Is_ItemCold? : True\n",
            "Is_ItemCold? : True\n",
            "Is_ItemCold? : True\n",
            "Is_ItemCold? : True\n",
            "Is_ItemCold? : True\n",
            "Is_ItemCold? : True\n",
            "Is_ItemCold? : True\n",
            "Is_ItemCold? : True\n",
            "Is_ItemCold? : True\n",
            "Is_ItemCold? : True\n",
            "Is_ItemCold? : True\n",
            "Is_ItemCold? : True\n",
            "Is_ItemCold? : True\n",
            "Is_ItemCold? : True\n",
            "Is_ItemCold? : True\n",
            "Is_ItemCold? : True\n",
            "Is_ItemCold? : True\n",
            "Is_ItemCold? : True\n",
            "Is_ItemCold? : True\n",
            "Is_ItemCold? : True\n"
          ],
          "name": "stdout"
        },
        {
          "output_type": "stream",
          "text": [
            "\n"
          ],
          "name": "stderr"
        }
      ]
    },
    {
      "cell_type": "code",
      "metadata": {
        "colab": {
          "base_uri": "https://localhost:8080/"
        },
        "id": "0J4Qrzf9OvVN",
        "outputId": "d8affdb4-2377-4b95-f9db-7c33d91c10c0"
      },
      "source": [
        "print(len(In_DomainITEMS[8327+1:]))\n",
        "print(In_DomainITEMS[8327+1:])\n",
        "print()\n",
        "print(len(In_DomainUSERS[22339+1:]))\n",
        "print(In_DomainUSERS[22339+1:])"
      ],
      "execution_count": 19,
      "outputs": [
        {
          "output_type": "stream",
          "text": [
            "245\n",
            "[8329, 8330, 8331, 8332, 8336, 8343, 8344, 8345, 8346, 8349, 8352, 8355, 8361, 8363, 8364, 8368, 8369, 8370, 8371, 8372, 8373, 8374, 8375, 8378, 8379, 8385, 8386, 8389, 8391, 8398, 8328, 8333, 8334, 8340, 8348, 8353, 8357, 8362, 8365, 8367, 8376, 8377, 8380, 8381, 8383, 8384, 8388, 8390, 8392, 8395, 8399, 8400, 8401, 8404, 8405, 8406, 8407, 8408, 8409, 8410, 8411, 8413, 8414, 8415, 8416, 8417, 8418, 8419, 8422, 8423, 8424, 8428, 8431, 8433, 8437, 8438, 8439, 8440, 8441, 8442, 8443, 8444, 8445, 8446, 8447, 8448, 8449, 8451, 8452, 8453, 8454, 8420, 8427, 8432, 8434, 8435, 8436, 8450, 8360, 8455, 8456, 8457, 8458, 8459, 8461, 8464, 8465, 8467, 8470, 8472, 8474, 8475, 8476, 8478, 8479, 8481, 8482, 8483, 8484, 8487, 8489, 8490, 8495, 8412, 8463, 8468, 8469, 8471, 8421, 8351, 8499, 8500, 8501, 8504, 8505, 8506, 8508, 8509, 8510, 8511, 8512, 8513, 8514, 8515, 8516, 8517, 8518, 8520, 8522, 8523, 8524, 8530, 8531, 8532, 8354, 8507, 8519, 8521, 8525, 8526, 8529, 8460, 8498, 8350, 8356, 8535, 8537, 8538, 8539, 8540, 8541, 8542, 8543, 8545, 8548, 8549, 8550, 8551, 8552, 8553, 8554, 8555, 8556, 8557, 8559, 8560, 8462, 8536, 8544, 8558, 8337, 8366, 8387, 8561, 8562, 8563, 8564, 8565, 8568, 8569, 8571, 8574, 8575, 8576, 8577, 8578, 8579, 8580, 8581, 8582, 8583, 8584, 8587, 8588, 8589, 8590, 8591, 8592, 8593, 8594, 8595, 8596, 8597, 8598, 8599, 8600, 8601, 8602, 8603, 8604, 8605, 8606, 8607, 8608, 8609, 8610, 8611, 8612, 8613, 8614, 8615, 8616, 8617, 8618, 8619]\n",
            "\n",
            "436\n",
            "[22340, 22341, 22342, 22343, 22344, 22345, 22346, 22347, 22348, 22349, 22350, 22351, 22352, 22353, 22354, 22356, 22357, 22358, 22359, 22361, 22363, 22364, 22366, 22367, 22368, 22369, 22370, 22371, 22373, 22374, 22375, 22376, 22378, 22379, 22380, 22381, 22382, 22383, 22385, 22386, 22387, 22390, 22391, 22392, 22393, 22394, 22395, 22396, 22397, 22398, 22400, 22401, 22402, 22403, 22404, 22405, 22406, 22407, 22408, 22409, 22410, 22411, 22412, 22413, 22414, 22415, 22416, 22417, 22418, 22419, 22420, 22421, 22422, 22423, 22424, 22425, 22426, 22427, 22428, 22429, 22430, 22431, 22432, 22434, 22435, 22436, 22437, 22438, 22439, 22440, 22441, 22442, 22444, 22445, 22447, 22448, 22449, 22450, 22451, 22452, 22454, 22455, 22456, 22457, 22458, 22459, 22461, 22462, 22463, 22464, 22465, 22466, 22467, 22468, 22469, 22470, 22471, 22472, 22473, 22474, 22475, 22476, 22477, 22478, 22479, 22480, 22481, 22482, 22483, 22484, 22486, 22488, 22489, 22490, 22491, 22492, 22493, 22494, 22495, 22496, 22498, 22499, 22500, 22501, 22502, 22503, 22504, 22505, 22506, 22507, 22508, 22509, 22510, 22511, 22512, 22513, 22514, 22515, 22516, 22517, 22518, 22519, 22520, 22521, 22522, 22523, 22524, 22525, 22526, 22527, 22528, 22529, 22530, 22531, 22532, 22533, 22534, 22535, 22536, 22537, 22538, 22539, 22540, 22541, 22542, 22543, 22544, 22545, 22546, 22547, 22389, 22460, 22548, 22549, 22550, 22551, 22552, 22553, 22554, 22555, 22556, 22557, 22558, 22559, 22561, 22562, 22563, 22564, 22565, 22566, 22567, 22568, 22570, 22571, 22572, 22573, 22574, 22575, 22576, 22577, 22578, 22579, 22580, 22581, 22582, 22583, 22584, 22585, 22586, 22587, 22588, 22589, 22590, 22591, 22592, 22593, 22594, 22595, 22596, 22597, 22598, 22599, 22600, 22601, 22602, 22603, 22604, 22605, 22606, 22607, 22608, 22609, 22610, 22611, 22612, 22614, 22615, 22616, 22617, 22618, 22619, 22620, 22621, 22622, 22623, 22624, 22625, 22626, 22627, 22628, 22629, 22630, 22631, 22632, 22633, 22634, 22635, 22636, 22638, 22639, 22640, 22641, 22642, 22643, 22644, 22645, 22647, 22648, 22649, 22650, 22652, 22654, 22655, 22656, 22657, 22658, 22660, 22662, 22663, 22664, 22665, 22666, 22485, 22667, 22668, 22669, 22670, 22671, 22672, 22673, 22674, 22675, 22676, 22678, 22679, 22680, 22681, 22682, 22683, 22684, 22685, 22686, 22687, 22688, 22689, 22690, 22691, 22692, 22693, 22694, 22695, 22696, 22697, 22698, 22699, 22700, 22701, 22702, 22703, 22704, 22705, 22706, 22707, 22708, 22709, 22710, 22711, 22712, 22713, 22714, 22715, 22716, 22717, 22718, 22719, 22720, 22721, 22722, 22723, 22724, 22725, 22726, 22727, 22728, 22729, 22730, 22731, 22732, 22733, 22735, 22736, 22737, 22738, 22739, 22740, 22741, 22743, 22744, 22560, 22661, 22377, 22384, 22745, 22746, 22747, 22748, 22749, 22750, 22752, 22753, 22754, 22755, 22756, 22757, 22758, 22759, 22760, 22761, 22762, 22763, 22764, 22765, 22766, 22767, 22768, 22569, 22360, 22399, 22433, 22769, 22770, 22772, 22773, 22774, 22775, 22777, 22778, 22779, 22780, 22781, 22782, 22783, 22784, 22786, 22787, 22788, 22789, 22790, 22791, 22792, 22793, 22794, 22795, 22796, 22797, 22798]\n"
          ],
          "name": "stdout"
        }
      ]
    },
    {
      "cell_type": "code",
      "metadata": {
        "colab": {
          "base_uri": "https://localhost:8080/"
        },
        "id": "5vpSt3xLOvVU",
        "outputId": "5f24d3b9-81aa-470e-b5df-b60ad4e55411"
      },
      "source": [
        "#deferred items and users\n",
        "print(len(DItems_))\n",
        "print(DItems_)\n",
        "print()\n",
        "print(len(DUsers_))\n",
        "print(DUsers_)"
      ],
      "execution_count": null,
      "outputs": [
        {
          "output_type": "stream",
          "text": [
            "47\n",
            "[8566, 8567, 8570, 8572, 8573, 8585, 8586, 8546, 8547, 8502, 8503, 8527, 8528, 8533, 8534, 8466, 8473, 8477, 8480, 8485, 8486, 8488, 8491, 8492, 8493, 8494, 8496, 8497, 8402, 8403, 8425, 8426, 8429, 8430, 8335, 8338, 8339, 8341, 8342, 8347, 8358, 8359, 8382, 8393, 8394, 8396, 8397]\n",
            "\n",
            "23\n",
            "[22771, 22776, 22785, 22751, 22677, 22734, 22742, 22613, 22637, 22646, 22651, 22653, 22659, 22453, 22487, 22497, 22355, 22362, 22365, 22372, 22388, 22443, 22446]\n"
          ],
          "name": "stdout"
        }
      ]
    },
    {
      "cell_type": "code",
      "metadata": {
        "colab": {
          "base_uri": "https://localhost:8080/"
        },
        "id": "fYRgZGwlOvVW",
        "outputId": "28b7f704-4f40-441f-d597-ae95d8e4d672"
      },
      "source": [
        "for x in list(itemID_dict)[8355:]:\n",
        "    print (\"Id: {}, UpdtId: {} \".format(x,  itemID_dict[x]))   ##id ==key || updtedid == values  ,itemID_dict"
      ],
      "execution_count": null,
      "outputs": [
        {
          "output_type": "stream",
          "text": [
            "Id: 8389, UpdtId: 8355 \n",
            "Id: 8391, UpdtId: 8356 \n",
            "Id: 8398, UpdtId: 8357 \n",
            "Id: 8328, UpdtId: 8358 \n",
            "Id: 8333, UpdtId: 8359 \n",
            "Id: 8334, UpdtId: 8360 \n",
            "Id: 8340, UpdtId: 8361 \n",
            "Id: 8348, UpdtId: 8362 \n",
            "Id: 8353, UpdtId: 8363 \n",
            "Id: 8357, UpdtId: 8364 \n",
            "Id: 8362, UpdtId: 8365 \n",
            "Id: 8365, UpdtId: 8366 \n",
            "Id: 8367, UpdtId: 8367 \n",
            "Id: 8376, UpdtId: 8368 \n",
            "Id: 8377, UpdtId: 8369 \n",
            "Id: 8380, UpdtId: 8370 \n",
            "Id: 8381, UpdtId: 8371 \n",
            "Id: 8383, UpdtId: 8372 \n",
            "Id: 8384, UpdtId: 8373 \n",
            "Id: 8388, UpdtId: 8374 \n",
            "Id: 8390, UpdtId: 8375 \n",
            "Id: 8392, UpdtId: 8376 \n",
            "Id: 8395, UpdtId: 8377 \n",
            "Id: 8399, UpdtId: 8378 \n",
            "Id: 8400, UpdtId: 8379 \n",
            "Id: 8401, UpdtId: 8380 \n",
            "Id: 8404, UpdtId: 8381 \n",
            "Id: 8405, UpdtId: 8382 \n",
            "Id: 8406, UpdtId: 8383 \n",
            "Id: 8407, UpdtId: 8384 \n",
            "Id: 8408, UpdtId: 8385 \n",
            "Id: 8409, UpdtId: 8386 \n",
            "Id: 8410, UpdtId: 8387 \n",
            "Id: 8411, UpdtId: 8388 \n",
            "Id: 8413, UpdtId: 8389 \n",
            "Id: 8414, UpdtId: 8390 \n",
            "Id: 8415, UpdtId: 8391 \n",
            "Id: 8416, UpdtId: 8392 \n",
            "Id: 8417, UpdtId: 8393 \n",
            "Id: 8418, UpdtId: 8394 \n",
            "Id: 8419, UpdtId: 8395 \n",
            "Id: 8422, UpdtId: 8396 \n",
            "Id: 8423, UpdtId: 8397 \n",
            "Id: 8424, UpdtId: 8398 \n",
            "Id: 8428, UpdtId: 8399 \n",
            "Id: 8431, UpdtId: 8400 \n",
            "Id: 8433, UpdtId: 8401 \n",
            "Id: 8437, UpdtId: 8402 \n",
            "Id: 8438, UpdtId: 8403 \n",
            "Id: 8439, UpdtId: 8404 \n",
            "Id: 8440, UpdtId: 8405 \n",
            "Id: 8441, UpdtId: 8406 \n",
            "Id: 8442, UpdtId: 8407 \n",
            "Id: 8443, UpdtId: 8408 \n",
            "Id: 8444, UpdtId: 8409 \n",
            "Id: 8445, UpdtId: 8410 \n",
            "Id: 8446, UpdtId: 8411 \n",
            "Id: 8447, UpdtId: 8412 \n",
            "Id: 8448, UpdtId: 8413 \n",
            "Id: 8449, UpdtId: 8414 \n",
            "Id: 8451, UpdtId: 8415 \n",
            "Id: 8452, UpdtId: 8416 \n",
            "Id: 8453, UpdtId: 8417 \n",
            "Id: 8454, UpdtId: 8418 \n",
            "Id: 8420, UpdtId: 8419 \n",
            "Id: 8427, UpdtId: 8420 \n",
            "Id: 8432, UpdtId: 8421 \n",
            "Id: 8434, UpdtId: 8422 \n",
            "Id: 8435, UpdtId: 8423 \n",
            "Id: 8436, UpdtId: 8424 \n",
            "Id: 8450, UpdtId: 8425 \n",
            "Id: 8360, UpdtId: 8426 \n",
            "Id: 8455, UpdtId: 8427 \n",
            "Id: 8456, UpdtId: 8428 \n",
            "Id: 8457, UpdtId: 8429 \n",
            "Id: 8458, UpdtId: 8430 \n",
            "Id: 8459, UpdtId: 8431 \n",
            "Id: 8461, UpdtId: 8432 \n",
            "Id: 8464, UpdtId: 8433 \n",
            "Id: 8465, UpdtId: 8434 \n",
            "Id: 8467, UpdtId: 8435 \n",
            "Id: 8470, UpdtId: 8436 \n",
            "Id: 8472, UpdtId: 8437 \n",
            "Id: 8474, UpdtId: 8438 \n",
            "Id: 8475, UpdtId: 8439 \n",
            "Id: 8476, UpdtId: 8440 \n",
            "Id: 8478, UpdtId: 8441 \n",
            "Id: 8479, UpdtId: 8442 \n",
            "Id: 8481, UpdtId: 8443 \n",
            "Id: 8482, UpdtId: 8444 \n",
            "Id: 8483, UpdtId: 8445 \n",
            "Id: 8484, UpdtId: 8446 \n",
            "Id: 8487, UpdtId: 8447 \n",
            "Id: 8489, UpdtId: 8448 \n",
            "Id: 8490, UpdtId: 8449 \n",
            "Id: 8495, UpdtId: 8450 \n",
            "Id: 8412, UpdtId: 8451 \n",
            "Id: 8463, UpdtId: 8452 \n",
            "Id: 8468, UpdtId: 8453 \n",
            "Id: 8469, UpdtId: 8454 \n",
            "Id: 8471, UpdtId: 8455 \n",
            "Id: 8421, UpdtId: 8456 \n",
            "Id: 8351, UpdtId: 8457 \n",
            "Id: 8499, UpdtId: 8458 \n",
            "Id: 8500, UpdtId: 8459 \n",
            "Id: 8501, UpdtId: 8460 \n",
            "Id: 8504, UpdtId: 8461 \n",
            "Id: 8505, UpdtId: 8462 \n",
            "Id: 8506, UpdtId: 8463 \n",
            "Id: 8508, UpdtId: 8464 \n",
            "Id: 8509, UpdtId: 8465 \n",
            "Id: 8510, UpdtId: 8466 \n",
            "Id: 8511, UpdtId: 8467 \n",
            "Id: 8512, UpdtId: 8468 \n",
            "Id: 8513, UpdtId: 8469 \n",
            "Id: 8514, UpdtId: 8470 \n",
            "Id: 8515, UpdtId: 8471 \n",
            "Id: 8516, UpdtId: 8472 \n",
            "Id: 8517, UpdtId: 8473 \n",
            "Id: 8518, UpdtId: 8474 \n",
            "Id: 8520, UpdtId: 8475 \n",
            "Id: 8522, UpdtId: 8476 \n",
            "Id: 8523, UpdtId: 8477 \n",
            "Id: 8524, UpdtId: 8478 \n",
            "Id: 8530, UpdtId: 8479 \n",
            "Id: 8531, UpdtId: 8480 \n",
            "Id: 8532, UpdtId: 8481 \n",
            "Id: 8354, UpdtId: 8482 \n",
            "Id: 8507, UpdtId: 8483 \n",
            "Id: 8519, UpdtId: 8484 \n",
            "Id: 8521, UpdtId: 8485 \n",
            "Id: 8525, UpdtId: 8486 \n",
            "Id: 8526, UpdtId: 8487 \n",
            "Id: 8529, UpdtId: 8488 \n",
            "Id: 8460, UpdtId: 8489 \n",
            "Id: 8498, UpdtId: 8490 \n",
            "Id: 8350, UpdtId: 8491 \n",
            "Id: 8356, UpdtId: 8492 \n",
            "Id: 8535, UpdtId: 8493 \n",
            "Id: 8537, UpdtId: 8494 \n",
            "Id: 8538, UpdtId: 8495 \n",
            "Id: 8539, UpdtId: 8496 \n",
            "Id: 8540, UpdtId: 8497 \n",
            "Id: 8541, UpdtId: 8498 \n",
            "Id: 8542, UpdtId: 8499 \n",
            "Id: 8543, UpdtId: 8500 \n",
            "Id: 8545, UpdtId: 8501 \n",
            "Id: 8548, UpdtId: 8502 \n",
            "Id: 8549, UpdtId: 8503 \n",
            "Id: 8550, UpdtId: 8504 \n",
            "Id: 8551, UpdtId: 8505 \n",
            "Id: 8552, UpdtId: 8506 \n",
            "Id: 8553, UpdtId: 8507 \n",
            "Id: 8554, UpdtId: 8508 \n",
            "Id: 8555, UpdtId: 8509 \n",
            "Id: 8556, UpdtId: 8510 \n",
            "Id: 8557, UpdtId: 8511 \n",
            "Id: 8559, UpdtId: 8512 \n",
            "Id: 8560, UpdtId: 8513 \n",
            "Id: 8462, UpdtId: 8514 \n",
            "Id: 8536, UpdtId: 8515 \n",
            "Id: 8544, UpdtId: 8516 \n",
            "Id: 8558, UpdtId: 8517 \n",
            "Id: 8337, UpdtId: 8518 \n",
            "Id: 8366, UpdtId: 8519 \n",
            "Id: 8387, UpdtId: 8520 \n",
            "Id: 8561, UpdtId: 8521 \n",
            "Id: 8562, UpdtId: 8522 \n",
            "Id: 8563, UpdtId: 8523 \n",
            "Id: 8564, UpdtId: 8524 \n",
            "Id: 8565, UpdtId: 8525 \n",
            "Id: 8568, UpdtId: 8526 \n",
            "Id: 8569, UpdtId: 8527 \n",
            "Id: 8571, UpdtId: 8528 \n",
            "Id: 8574, UpdtId: 8529 \n",
            "Id: 8575, UpdtId: 8530 \n",
            "Id: 8576, UpdtId: 8531 \n",
            "Id: 8577, UpdtId: 8532 \n",
            "Id: 8578, UpdtId: 8533 \n",
            "Id: 8579, UpdtId: 8534 \n",
            "Id: 8580, UpdtId: 8535 \n",
            "Id: 8581, UpdtId: 8536 \n",
            "Id: 8582, UpdtId: 8537 \n",
            "Id: 8583, UpdtId: 8538 \n",
            "Id: 8584, UpdtId: 8539 \n",
            "Id: 8587, UpdtId: 8540 \n",
            "Id: 8588, UpdtId: 8541 \n",
            "Id: 8589, UpdtId: 8542 \n",
            "Id: 8590, UpdtId: 8543 \n",
            "Id: 8591, UpdtId: 8544 \n",
            "Id: 8592, UpdtId: 8545 \n",
            "Id: 8593, UpdtId: 8546 \n",
            "Id: 8594, UpdtId: 8547 \n",
            "Id: 8595, UpdtId: 8548 \n",
            "Id: 8596, UpdtId: 8549 \n",
            "Id: 8597, UpdtId: 8550 \n",
            "Id: 8598, UpdtId: 8551 \n",
            "Id: 8599, UpdtId: 8552 \n",
            "Id: 8600, UpdtId: 8553 \n",
            "Id: 8601, UpdtId: 8554 \n",
            "Id: 8602, UpdtId: 8555 \n",
            "Id: 8603, UpdtId: 8556 \n",
            "Id: 8604, UpdtId: 8557 \n",
            "Id: 8605, UpdtId: 8558 \n",
            "Id: 8606, UpdtId: 8559 \n",
            "Id: 8607, UpdtId: 8560 \n",
            "Id: 8608, UpdtId: 8561 \n",
            "Id: 8609, UpdtId: 8562 \n",
            "Id: 8610, UpdtId: 8563 \n",
            "Id: 8611, UpdtId: 8564 \n",
            "Id: 8612, UpdtId: 8565 \n",
            "Id: 8613, UpdtId: 8566 \n",
            "Id: 8614, UpdtId: 8567 \n",
            "Id: 8615, UpdtId: 8568 \n",
            "Id: 8616, UpdtId: 8569 \n",
            "Id: 8617, UpdtId: 8570 \n",
            "Id: 8618, UpdtId: 8571 \n",
            "Id: 8619, UpdtId: 8572 \n"
          ],
          "name": "stdout"
        }
      ]
    },
    {
      "cell_type": "code",
      "metadata": {
        "id": "XP6aaq1qOvVY",
        "colab": {
          "base_uri": "https://localhost:8080/"
        },
        "outputId": "67b099d1-7018-4936-8cbe-47e33b1b1d7a"
      },
      "source": [
        "for x in list(userID_dict)[22339:]:\n",
        "    print (\"Id: {}, UpdtId: {} \".format(x,  userID_dict[x]))   ##id ==key || updtedid == values "
      ],
      "execution_count": null,
      "outputs": [
        {
          "output_type": "stream",
          "text": [
            "Id: 22339, UpdtId: 22339 \n",
            "Id: 22340, UpdtId: 22340 \n",
            "Id: 22341, UpdtId: 22341 \n",
            "Id: 22342, UpdtId: 22342 \n",
            "Id: 22343, UpdtId: 22343 \n",
            "Id: 22344, UpdtId: 22344 \n",
            "Id: 22345, UpdtId: 22345 \n",
            "Id: 22346, UpdtId: 22346 \n",
            "Id: 22347, UpdtId: 22347 \n",
            "Id: 22348, UpdtId: 22348 \n",
            "Id: 22349, UpdtId: 22349 \n",
            "Id: 22350, UpdtId: 22350 \n",
            "Id: 22351, UpdtId: 22351 \n",
            "Id: 22352, UpdtId: 22352 \n",
            "Id: 22353, UpdtId: 22353 \n",
            "Id: 22354, UpdtId: 22354 \n",
            "Id: 22356, UpdtId: 22355 \n",
            "Id: 22357, UpdtId: 22356 \n",
            "Id: 22358, UpdtId: 22357 \n",
            "Id: 22359, UpdtId: 22358 \n",
            "Id: 22361, UpdtId: 22359 \n",
            "Id: 22363, UpdtId: 22360 \n",
            "Id: 22364, UpdtId: 22361 \n",
            "Id: 22366, UpdtId: 22362 \n",
            "Id: 22367, UpdtId: 22363 \n",
            "Id: 22368, UpdtId: 22364 \n",
            "Id: 22369, UpdtId: 22365 \n",
            "Id: 22370, UpdtId: 22366 \n",
            "Id: 22371, UpdtId: 22367 \n",
            "Id: 22373, UpdtId: 22368 \n",
            "Id: 22374, UpdtId: 22369 \n",
            "Id: 22375, UpdtId: 22370 \n",
            "Id: 22376, UpdtId: 22371 \n",
            "Id: 22378, UpdtId: 22372 \n",
            "Id: 22379, UpdtId: 22373 \n",
            "Id: 22380, UpdtId: 22374 \n",
            "Id: 22381, UpdtId: 22375 \n",
            "Id: 22382, UpdtId: 22376 \n",
            "Id: 22383, UpdtId: 22377 \n",
            "Id: 22385, UpdtId: 22378 \n",
            "Id: 22386, UpdtId: 22379 \n",
            "Id: 22387, UpdtId: 22380 \n",
            "Id: 22390, UpdtId: 22381 \n",
            "Id: 22391, UpdtId: 22382 \n",
            "Id: 22392, UpdtId: 22383 \n",
            "Id: 22393, UpdtId: 22384 \n",
            "Id: 22394, UpdtId: 22385 \n",
            "Id: 22395, UpdtId: 22386 \n",
            "Id: 22396, UpdtId: 22387 \n",
            "Id: 22397, UpdtId: 22388 \n",
            "Id: 22398, UpdtId: 22389 \n",
            "Id: 22400, UpdtId: 22390 \n",
            "Id: 22401, UpdtId: 22391 \n",
            "Id: 22402, UpdtId: 22392 \n",
            "Id: 22403, UpdtId: 22393 \n",
            "Id: 22404, UpdtId: 22394 \n",
            "Id: 22405, UpdtId: 22395 \n",
            "Id: 22406, UpdtId: 22396 \n",
            "Id: 22407, UpdtId: 22397 \n",
            "Id: 22408, UpdtId: 22398 \n",
            "Id: 22409, UpdtId: 22399 \n",
            "Id: 22410, UpdtId: 22400 \n",
            "Id: 22411, UpdtId: 22401 \n",
            "Id: 22412, UpdtId: 22402 \n",
            "Id: 22413, UpdtId: 22403 \n",
            "Id: 22414, UpdtId: 22404 \n",
            "Id: 22415, UpdtId: 22405 \n",
            "Id: 22416, UpdtId: 22406 \n",
            "Id: 22417, UpdtId: 22407 \n",
            "Id: 22418, UpdtId: 22408 \n",
            "Id: 22419, UpdtId: 22409 \n",
            "Id: 22420, UpdtId: 22410 \n",
            "Id: 22421, UpdtId: 22411 \n",
            "Id: 22422, UpdtId: 22412 \n",
            "Id: 22423, UpdtId: 22413 \n",
            "Id: 22424, UpdtId: 22414 \n",
            "Id: 22425, UpdtId: 22415 \n",
            "Id: 22426, UpdtId: 22416 \n",
            "Id: 22427, UpdtId: 22417 \n",
            "Id: 22428, UpdtId: 22418 \n",
            "Id: 22429, UpdtId: 22419 \n",
            "Id: 22430, UpdtId: 22420 \n",
            "Id: 22431, UpdtId: 22421 \n",
            "Id: 22432, UpdtId: 22422 \n",
            "Id: 22434, UpdtId: 22423 \n",
            "Id: 22435, UpdtId: 22424 \n",
            "Id: 22436, UpdtId: 22425 \n",
            "Id: 22437, UpdtId: 22426 \n",
            "Id: 22438, UpdtId: 22427 \n",
            "Id: 22439, UpdtId: 22428 \n",
            "Id: 22440, UpdtId: 22429 \n",
            "Id: 22441, UpdtId: 22430 \n",
            "Id: 22442, UpdtId: 22431 \n",
            "Id: 22444, UpdtId: 22432 \n",
            "Id: 22445, UpdtId: 22433 \n",
            "Id: 22447, UpdtId: 22434 \n",
            "Id: 22448, UpdtId: 22435 \n",
            "Id: 22449, UpdtId: 22436 \n",
            "Id: 22450, UpdtId: 22437 \n",
            "Id: 22451, UpdtId: 22438 \n",
            "Id: 22452, UpdtId: 22439 \n",
            "Id: 22454, UpdtId: 22440 \n",
            "Id: 22455, UpdtId: 22441 \n",
            "Id: 22456, UpdtId: 22442 \n",
            "Id: 22457, UpdtId: 22443 \n",
            "Id: 22458, UpdtId: 22444 \n",
            "Id: 22459, UpdtId: 22445 \n",
            "Id: 22461, UpdtId: 22446 \n",
            "Id: 22462, UpdtId: 22447 \n",
            "Id: 22463, UpdtId: 22448 \n",
            "Id: 22464, UpdtId: 22449 \n",
            "Id: 22465, UpdtId: 22450 \n",
            "Id: 22466, UpdtId: 22451 \n",
            "Id: 22467, UpdtId: 22452 \n",
            "Id: 22468, UpdtId: 22453 \n",
            "Id: 22469, UpdtId: 22454 \n",
            "Id: 22470, UpdtId: 22455 \n",
            "Id: 22471, UpdtId: 22456 \n",
            "Id: 22472, UpdtId: 22457 \n",
            "Id: 22473, UpdtId: 22458 \n",
            "Id: 22474, UpdtId: 22459 \n",
            "Id: 22475, UpdtId: 22460 \n",
            "Id: 22476, UpdtId: 22461 \n",
            "Id: 22477, UpdtId: 22462 \n",
            "Id: 22478, UpdtId: 22463 \n",
            "Id: 22479, UpdtId: 22464 \n",
            "Id: 22480, UpdtId: 22465 \n",
            "Id: 22481, UpdtId: 22466 \n",
            "Id: 22482, UpdtId: 22467 \n",
            "Id: 22483, UpdtId: 22468 \n",
            "Id: 22484, UpdtId: 22469 \n",
            "Id: 22486, UpdtId: 22470 \n",
            "Id: 22488, UpdtId: 22471 \n",
            "Id: 22489, UpdtId: 22472 \n",
            "Id: 22490, UpdtId: 22473 \n",
            "Id: 22491, UpdtId: 22474 \n",
            "Id: 22492, UpdtId: 22475 \n",
            "Id: 22493, UpdtId: 22476 \n",
            "Id: 22494, UpdtId: 22477 \n",
            "Id: 22495, UpdtId: 22478 \n",
            "Id: 22496, UpdtId: 22479 \n",
            "Id: 22498, UpdtId: 22480 \n",
            "Id: 22499, UpdtId: 22481 \n",
            "Id: 22500, UpdtId: 22482 \n",
            "Id: 22501, UpdtId: 22483 \n",
            "Id: 22502, UpdtId: 22484 \n",
            "Id: 22503, UpdtId: 22485 \n",
            "Id: 22504, UpdtId: 22486 \n",
            "Id: 22505, UpdtId: 22487 \n",
            "Id: 22506, UpdtId: 22488 \n",
            "Id: 22507, UpdtId: 22489 \n",
            "Id: 22508, UpdtId: 22490 \n",
            "Id: 22509, UpdtId: 22491 \n",
            "Id: 22510, UpdtId: 22492 \n",
            "Id: 22511, UpdtId: 22493 \n",
            "Id: 22512, UpdtId: 22494 \n",
            "Id: 22513, UpdtId: 22495 \n",
            "Id: 22514, UpdtId: 22496 \n",
            "Id: 22515, UpdtId: 22497 \n",
            "Id: 22516, UpdtId: 22498 \n",
            "Id: 22517, UpdtId: 22499 \n",
            "Id: 22518, UpdtId: 22500 \n",
            "Id: 22519, UpdtId: 22501 \n",
            "Id: 22520, UpdtId: 22502 \n",
            "Id: 22521, UpdtId: 22503 \n",
            "Id: 22522, UpdtId: 22504 \n",
            "Id: 22523, UpdtId: 22505 \n",
            "Id: 22524, UpdtId: 22506 \n",
            "Id: 22525, UpdtId: 22507 \n",
            "Id: 22526, UpdtId: 22508 \n",
            "Id: 22527, UpdtId: 22509 \n",
            "Id: 22528, UpdtId: 22510 \n",
            "Id: 22529, UpdtId: 22511 \n",
            "Id: 22530, UpdtId: 22512 \n",
            "Id: 22531, UpdtId: 22513 \n",
            "Id: 22532, UpdtId: 22514 \n",
            "Id: 22533, UpdtId: 22515 \n",
            "Id: 22534, UpdtId: 22516 \n",
            "Id: 22535, UpdtId: 22517 \n",
            "Id: 22536, UpdtId: 22518 \n",
            "Id: 22537, UpdtId: 22519 \n",
            "Id: 22538, UpdtId: 22520 \n",
            "Id: 22539, UpdtId: 22521 \n",
            "Id: 22540, UpdtId: 22522 \n",
            "Id: 22541, UpdtId: 22523 \n",
            "Id: 22542, UpdtId: 22524 \n",
            "Id: 22543, UpdtId: 22525 \n",
            "Id: 22544, UpdtId: 22526 \n",
            "Id: 22545, UpdtId: 22527 \n",
            "Id: 22546, UpdtId: 22528 \n",
            "Id: 22547, UpdtId: 22529 \n",
            "Id: 22389, UpdtId: 22530 \n",
            "Id: 22460, UpdtId: 22531 \n",
            "Id: 22548, UpdtId: 22532 \n",
            "Id: 22549, UpdtId: 22533 \n",
            "Id: 22550, UpdtId: 22534 \n",
            "Id: 22551, UpdtId: 22535 \n",
            "Id: 22552, UpdtId: 22536 \n",
            "Id: 22553, UpdtId: 22537 \n",
            "Id: 22554, UpdtId: 22538 \n",
            "Id: 22555, UpdtId: 22539 \n",
            "Id: 22556, UpdtId: 22540 \n",
            "Id: 22557, UpdtId: 22541 \n",
            "Id: 22558, UpdtId: 22542 \n",
            "Id: 22559, UpdtId: 22543 \n",
            "Id: 22561, UpdtId: 22544 \n",
            "Id: 22562, UpdtId: 22545 \n",
            "Id: 22563, UpdtId: 22546 \n",
            "Id: 22564, UpdtId: 22547 \n",
            "Id: 22565, UpdtId: 22548 \n",
            "Id: 22566, UpdtId: 22549 \n",
            "Id: 22567, UpdtId: 22550 \n",
            "Id: 22568, UpdtId: 22551 \n",
            "Id: 22570, UpdtId: 22552 \n",
            "Id: 22571, UpdtId: 22553 \n",
            "Id: 22572, UpdtId: 22554 \n",
            "Id: 22573, UpdtId: 22555 \n",
            "Id: 22574, UpdtId: 22556 \n",
            "Id: 22575, UpdtId: 22557 \n",
            "Id: 22576, UpdtId: 22558 \n",
            "Id: 22577, UpdtId: 22559 \n",
            "Id: 22578, UpdtId: 22560 \n",
            "Id: 22579, UpdtId: 22561 \n",
            "Id: 22580, UpdtId: 22562 \n",
            "Id: 22581, UpdtId: 22563 \n",
            "Id: 22582, UpdtId: 22564 \n",
            "Id: 22583, UpdtId: 22565 \n",
            "Id: 22584, UpdtId: 22566 \n",
            "Id: 22585, UpdtId: 22567 \n",
            "Id: 22586, UpdtId: 22568 \n",
            "Id: 22587, UpdtId: 22569 \n",
            "Id: 22588, UpdtId: 22570 \n",
            "Id: 22589, UpdtId: 22571 \n",
            "Id: 22590, UpdtId: 22572 \n",
            "Id: 22591, UpdtId: 22573 \n",
            "Id: 22592, UpdtId: 22574 \n",
            "Id: 22593, UpdtId: 22575 \n",
            "Id: 22594, UpdtId: 22576 \n",
            "Id: 22595, UpdtId: 22577 \n",
            "Id: 22596, UpdtId: 22578 \n",
            "Id: 22597, UpdtId: 22579 \n",
            "Id: 22598, UpdtId: 22580 \n",
            "Id: 22599, UpdtId: 22581 \n",
            "Id: 22600, UpdtId: 22582 \n",
            "Id: 22601, UpdtId: 22583 \n",
            "Id: 22602, UpdtId: 22584 \n",
            "Id: 22603, UpdtId: 22585 \n",
            "Id: 22604, UpdtId: 22586 \n",
            "Id: 22605, UpdtId: 22587 \n",
            "Id: 22606, UpdtId: 22588 \n",
            "Id: 22607, UpdtId: 22589 \n",
            "Id: 22608, UpdtId: 22590 \n",
            "Id: 22609, UpdtId: 22591 \n",
            "Id: 22610, UpdtId: 22592 \n",
            "Id: 22611, UpdtId: 22593 \n",
            "Id: 22612, UpdtId: 22594 \n",
            "Id: 22614, UpdtId: 22595 \n",
            "Id: 22615, UpdtId: 22596 \n",
            "Id: 22616, UpdtId: 22597 \n",
            "Id: 22617, UpdtId: 22598 \n",
            "Id: 22618, UpdtId: 22599 \n",
            "Id: 22619, UpdtId: 22600 \n",
            "Id: 22620, UpdtId: 22601 \n",
            "Id: 22621, UpdtId: 22602 \n",
            "Id: 22622, UpdtId: 22603 \n",
            "Id: 22623, UpdtId: 22604 \n",
            "Id: 22624, UpdtId: 22605 \n",
            "Id: 22625, UpdtId: 22606 \n",
            "Id: 22626, UpdtId: 22607 \n",
            "Id: 22627, UpdtId: 22608 \n",
            "Id: 22628, UpdtId: 22609 \n",
            "Id: 22629, UpdtId: 22610 \n",
            "Id: 22630, UpdtId: 22611 \n",
            "Id: 22631, UpdtId: 22612 \n",
            "Id: 22632, UpdtId: 22613 \n",
            "Id: 22633, UpdtId: 22614 \n",
            "Id: 22634, UpdtId: 22615 \n",
            "Id: 22635, UpdtId: 22616 \n",
            "Id: 22636, UpdtId: 22617 \n",
            "Id: 22638, UpdtId: 22618 \n",
            "Id: 22639, UpdtId: 22619 \n",
            "Id: 22640, UpdtId: 22620 \n",
            "Id: 22641, UpdtId: 22621 \n",
            "Id: 22642, UpdtId: 22622 \n",
            "Id: 22643, UpdtId: 22623 \n",
            "Id: 22644, UpdtId: 22624 \n",
            "Id: 22645, UpdtId: 22625 \n",
            "Id: 22647, UpdtId: 22626 \n",
            "Id: 22648, UpdtId: 22627 \n",
            "Id: 22649, UpdtId: 22628 \n",
            "Id: 22650, UpdtId: 22629 \n",
            "Id: 22652, UpdtId: 22630 \n",
            "Id: 22654, UpdtId: 22631 \n",
            "Id: 22655, UpdtId: 22632 \n",
            "Id: 22656, UpdtId: 22633 \n",
            "Id: 22657, UpdtId: 22634 \n",
            "Id: 22658, UpdtId: 22635 \n",
            "Id: 22660, UpdtId: 22636 \n",
            "Id: 22662, UpdtId: 22637 \n",
            "Id: 22663, UpdtId: 22638 \n",
            "Id: 22664, UpdtId: 22639 \n",
            "Id: 22665, UpdtId: 22640 \n",
            "Id: 22666, UpdtId: 22641 \n",
            "Id: 22485, UpdtId: 22642 \n",
            "Id: 22667, UpdtId: 22643 \n",
            "Id: 22668, UpdtId: 22644 \n",
            "Id: 22669, UpdtId: 22645 \n",
            "Id: 22670, UpdtId: 22646 \n",
            "Id: 22671, UpdtId: 22647 \n",
            "Id: 22672, UpdtId: 22648 \n",
            "Id: 22673, UpdtId: 22649 \n",
            "Id: 22674, UpdtId: 22650 \n",
            "Id: 22675, UpdtId: 22651 \n",
            "Id: 22676, UpdtId: 22652 \n",
            "Id: 22678, UpdtId: 22653 \n",
            "Id: 22679, UpdtId: 22654 \n",
            "Id: 22680, UpdtId: 22655 \n",
            "Id: 22681, UpdtId: 22656 \n",
            "Id: 22682, UpdtId: 22657 \n",
            "Id: 22683, UpdtId: 22658 \n",
            "Id: 22684, UpdtId: 22659 \n",
            "Id: 22685, UpdtId: 22660 \n",
            "Id: 22686, UpdtId: 22661 \n",
            "Id: 22687, UpdtId: 22662 \n",
            "Id: 22688, UpdtId: 22663 \n",
            "Id: 22689, UpdtId: 22664 \n",
            "Id: 22690, UpdtId: 22665 \n",
            "Id: 22691, UpdtId: 22666 \n",
            "Id: 22692, UpdtId: 22667 \n",
            "Id: 22693, UpdtId: 22668 \n",
            "Id: 22694, UpdtId: 22669 \n",
            "Id: 22695, UpdtId: 22670 \n",
            "Id: 22696, UpdtId: 22671 \n",
            "Id: 22697, UpdtId: 22672 \n",
            "Id: 22698, UpdtId: 22673 \n",
            "Id: 22699, UpdtId: 22674 \n",
            "Id: 22700, UpdtId: 22675 \n",
            "Id: 22701, UpdtId: 22676 \n",
            "Id: 22702, UpdtId: 22677 \n",
            "Id: 22703, UpdtId: 22678 \n",
            "Id: 22704, UpdtId: 22679 \n",
            "Id: 22705, UpdtId: 22680 \n",
            "Id: 22706, UpdtId: 22681 \n",
            "Id: 22707, UpdtId: 22682 \n",
            "Id: 22708, UpdtId: 22683 \n",
            "Id: 22709, UpdtId: 22684 \n",
            "Id: 22710, UpdtId: 22685 \n",
            "Id: 22711, UpdtId: 22686 \n",
            "Id: 22712, UpdtId: 22687 \n",
            "Id: 22713, UpdtId: 22688 \n",
            "Id: 22714, UpdtId: 22689 \n",
            "Id: 22715, UpdtId: 22690 \n",
            "Id: 22716, UpdtId: 22691 \n",
            "Id: 22717, UpdtId: 22692 \n",
            "Id: 22718, UpdtId: 22693 \n",
            "Id: 22719, UpdtId: 22694 \n",
            "Id: 22720, UpdtId: 22695 \n",
            "Id: 22721, UpdtId: 22696 \n",
            "Id: 22722, UpdtId: 22697 \n",
            "Id: 22723, UpdtId: 22698 \n",
            "Id: 22724, UpdtId: 22699 \n",
            "Id: 22725, UpdtId: 22700 \n",
            "Id: 22726, UpdtId: 22701 \n",
            "Id: 22727, UpdtId: 22702 \n",
            "Id: 22728, UpdtId: 22703 \n",
            "Id: 22729, UpdtId: 22704 \n",
            "Id: 22730, UpdtId: 22705 \n",
            "Id: 22731, UpdtId: 22706 \n",
            "Id: 22732, UpdtId: 22707 \n",
            "Id: 22733, UpdtId: 22708 \n",
            "Id: 22735, UpdtId: 22709 \n",
            "Id: 22736, UpdtId: 22710 \n",
            "Id: 22737, UpdtId: 22711 \n",
            "Id: 22738, UpdtId: 22712 \n",
            "Id: 22739, UpdtId: 22713 \n",
            "Id: 22740, UpdtId: 22714 \n",
            "Id: 22741, UpdtId: 22715 \n",
            "Id: 22743, UpdtId: 22716 \n",
            "Id: 22744, UpdtId: 22717 \n",
            "Id: 22560, UpdtId: 22718 \n",
            "Id: 22661, UpdtId: 22719 \n",
            "Id: 22377, UpdtId: 22720 \n",
            "Id: 22384, UpdtId: 22721 \n",
            "Id: 22745, UpdtId: 22722 \n",
            "Id: 22746, UpdtId: 22723 \n",
            "Id: 22747, UpdtId: 22724 \n",
            "Id: 22748, UpdtId: 22725 \n",
            "Id: 22749, UpdtId: 22726 \n",
            "Id: 22750, UpdtId: 22727 \n",
            "Id: 22752, UpdtId: 22728 \n",
            "Id: 22753, UpdtId: 22729 \n",
            "Id: 22754, UpdtId: 22730 \n",
            "Id: 22755, UpdtId: 22731 \n",
            "Id: 22756, UpdtId: 22732 \n",
            "Id: 22757, UpdtId: 22733 \n",
            "Id: 22758, UpdtId: 22734 \n",
            "Id: 22759, UpdtId: 22735 \n",
            "Id: 22760, UpdtId: 22736 \n",
            "Id: 22761, UpdtId: 22737 \n",
            "Id: 22762, UpdtId: 22738 \n",
            "Id: 22763, UpdtId: 22739 \n",
            "Id: 22764, UpdtId: 22740 \n",
            "Id: 22765, UpdtId: 22741 \n",
            "Id: 22766, UpdtId: 22742 \n",
            "Id: 22767, UpdtId: 22743 \n",
            "Id: 22768, UpdtId: 22744 \n",
            "Id: 22569, UpdtId: 22745 \n",
            "Id: 22360, UpdtId: 22746 \n",
            "Id: 22399, UpdtId: 22747 \n",
            "Id: 22433, UpdtId: 22748 \n",
            "Id: 22769, UpdtId: 22749 \n",
            "Id: 22770, UpdtId: 22750 \n",
            "Id: 22772, UpdtId: 22751 \n",
            "Id: 22773, UpdtId: 22752 \n",
            "Id: 22774, UpdtId: 22753 \n",
            "Id: 22775, UpdtId: 22754 \n",
            "Id: 22777, UpdtId: 22755 \n",
            "Id: 22778, UpdtId: 22756 \n",
            "Id: 22779, UpdtId: 22757 \n",
            "Id: 22780, UpdtId: 22758 \n",
            "Id: 22781, UpdtId: 22759 \n",
            "Id: 22782, UpdtId: 22760 \n",
            "Id: 22783, UpdtId: 22761 \n",
            "Id: 22784, UpdtId: 22762 \n",
            "Id: 22786, UpdtId: 22763 \n",
            "Id: 22787, UpdtId: 22764 \n",
            "Id: 22788, UpdtId: 22765 \n",
            "Id: 22789, UpdtId: 22766 \n",
            "Id: 22790, UpdtId: 22767 \n",
            "Id: 22791, UpdtId: 22768 \n",
            "Id: 22792, UpdtId: 22769 \n",
            "Id: 22793, UpdtId: 22770 \n",
            "Id: 22794, UpdtId: 22771 \n",
            "Id: 22795, UpdtId: 22772 \n",
            "Id: 22796, UpdtId: 22773 \n",
            "Id: 22797, UpdtId: 22774 \n",
            "Id: 22798, UpdtId: 22775 \n"
          ],
          "name": "stdout"
        }
      ]
    },
    {
      "cell_type": "code",
      "metadata": {
        "colab": {
          "base_uri": "https://localhost:8080/"
        },
        "id": "9hrMshBYOvVa",
        "outputId": "d857eaec-db17-4268-f4e7-51ba9d687c82"
      },
      "source": [
        "print(len(U_list),len(V_list))\n",
        "for u,v in zip(U_list,V_list):\n",
        "    print(u.shape,v.shape)   "
      ],
      "execution_count": null,
      "outputs": [
        {
          "output_type": "stream",
          "text": [
            "9 9\n",
            "(22340, 50) (8328, 50)\n",
            "(22438, 50) (8378, 50)\n",
            "(22532, 50) (8427, 50)\n",
            "(22643, 50) (8458, 50)\n",
            "(22722, 50) (8493, 50)\n",
            "(22749, 50) (8521, 50)\n",
            "(22763, 50) (8542, 50)\n",
            "(22775, 50) (8562, 50)\n",
            "(22776, 50) (8573, 50)\n"
          ],
          "name": "stdout"
        }
      ]
    },
    {
      "cell_type": "code",
      "metadata": {
        "colab": {
          "base_uri": "https://localhost:8080/"
        },
        "id": "xOQC6r84_ju1",
        "outputId": "7fcec7a6-25c5-420e-fcab-dff5eafe0959"
      },
      "source": [
        "for i,j in zip(AllUpdtUSERS_,AllUpdtITEMS_):\n",
        "    print(len(i),len(j))"
      ],
      "execution_count": null,
      "outputs": [
        {
          "output_type": "stream",
          "text": [
            "22438 8378\n",
            "22532 8427\n",
            "22643 8458\n",
            "22722 8493\n",
            "22749 8521\n",
            "22763 8542\n",
            "22775 8562\n",
            "22776 8573\n"
          ],
          "name": "stdout"
        }
      ]
    },
    {
      "cell_type": "code",
      "metadata": {
        "colab": {
          "base_uri": "https://localhost:8080/"
        },
        "id": "AMjo4AbxOvVc",
        "outputId": "34a0779a-00d8-429a-9bc3-0f87b9a058da"
      },
      "source": [
        "print(len(In_DomainUSERS),len(In_DomainITEMS))"
      ],
      "execution_count": null,
      "outputs": [
        {
          "output_type": "stream",
          "text": [
            "22776 8573\n"
          ],
          "name": "stdout"
        }
      ]
    },
    {
      "cell_type": "code",
      "metadata": {
        "id": "VKsZcD9kMzd4"
      },
      "source": [
        ""
      ],
      "execution_count": null,
      "outputs": []
    },
    {
      "cell_type": "markdown",
      "metadata": {
        "id": "nNpsng5z8doR"
      },
      "source": [
        "### Get_newHoldoutDF"
      ]
    },
    {
      "cell_type": "code",
      "metadata": {
        "colab": {
          "base_uri": "https://localhost:8080/"
        },
        "id": "eDB-r_-O5LUz",
        "outputId": "0428a9ef-31c6-436e-a19a-eaa464ce4d01"
      },
      "source": [
        "newHOLDOUT_LIST = get_NEWHoldout(HOLDOUT_list,userID_dict,itemID_dict,AllUpdtUSERS_,AllUpdtITEMS_,n=8)\n",
        "len(newHOLDOUT_LIST)"
      ],
      "execution_count": 20,
      "outputs": [
        {
          "output_type": "stream",
          "text": [
            "100%|██████████| 8/8 [00:00<00:00, 170.56it/s]\n"
          ],
          "name": "stderr"
        },
        {
          "output_type": "execute_result",
          "data": {
            "text/plain": [
              "8"
            ]
          },
          "metadata": {
            "tags": []
          },
          "execution_count": 20
        }
      ]
    },
    {
      "cell_type": "code",
      "metadata": {
        "colab": {
          "base_uri": "https://localhost:8080/"
        },
        "id": "qeIKLVb1mzAD",
        "outputId": "a2634363-2c4c-4001-fd6e-0de502ef3d68"
      },
      "source": [
        "for old,new in zip(HOLDOUT_list,newHOLDOUT_LIST):\n",
        "    print(old.shape[0],new.shape[0])"
      ],
      "execution_count": 21,
      "outputs": [
        {
          "output_type": "stream",
          "text": [
            "258 245\n",
            "239 234\n",
            "253 243\n",
            "207 204\n",
            "148 147\n",
            "97 93\n",
            "66 66\n",
            "30 30\n"
          ],
          "name": "stdout"
        }
      ]
    },
    {
      "cell_type": "code",
      "metadata": {
        "colab": {
          "base_uri": "https://localhost:8080/"
        },
        "id": "uvtzgzwx6GWw",
        "outputId": "f1e66b0b-99de-4bc5-9f83-9d556772aa36"
      },
      "source": [
        "newHOLDOUT_LIST[0]['Updated_UserID'].max()"
      ],
      "execution_count": null,
      "outputs": [
        {
          "output_type": "execute_result",
          "data": {
            "text/plain": [
              "22437"
            ]
          },
          "metadata": {
            "tags": []
          },
          "execution_count": 129
        }
      ]
    },
    {
      "cell_type": "code",
      "metadata": {
        "id": "QxHiKrRVJ5TS"
      },
      "source": [
        ""
      ],
      "execution_count": null,
      "outputs": []
    },
    {
      "cell_type": "markdown",
      "metadata": {
        "id": "J_bFpV2cKCuA"
      },
      "source": [
        "### Get UserItem MAT"
      ]
    },
    {
      "cell_type": "code",
      "metadata": {
        "id": "hfU1kWiRoJ8V"
      },
      "source": [
        "userID_dict"
      ],
      "execution_count": null,
      "outputs": []
    },
    {
      "cell_type": "code",
      "metadata": {
        "id": "cy98ZlWXacuH"
      },
      "source": [
        "def adjustedAllDF(AllDF_list,userID_dict,itemID_dict,AllUpdtUSERS_,AllUpdtITEMS_,n):\n",
        "    newAllDF_list =[]\n",
        "    for i in range(n):\n",
        "        AllDF_list[i] = AllDF_list[i][['userId','productId']]\n",
        "        Updt_Items    = AllUpdtITEMS_[i]\n",
        "        Updt_Users    = AllUpdtUSERS_[i]     \n",
        "        allnew_df     = AllDF_list[i].loc[(AllDF_list[i]['productId'].isin(Updt_Items)) & (AllDF_list[i]['userId'].isin(Updt_Users))]\n",
        "\n",
        "        prevUser_ID =   allnew_df['userId'].values  \n",
        "        prevItems_ID =  allnew_df['productId'].values   \n",
        "        Updted_UserID = [userID_dict.get(user) for user in prevUser_ID]   \n",
        "        Updted_ItemID = [itemID_dict.get(item) for item in prevItems_ID]\n",
        "        allnew_df['Updated_UserID'] = Updted_UserID\n",
        "        allnew_df['Updated_ItemID'] = Updted_ItemID\n",
        "        newAllDF_list.append(allnew_df)\n",
        "    return newAllDF_list\n",
        "\n",
        "\n"
      ],
      "execution_count": 24,
      "outputs": []
    },
    {
      "cell_type": "code",
      "metadata": {
        "colab": {
          "base_uri": "https://localhost:8080/"
        },
        "id": "-GFiiHEHKCuF",
        "outputId": "7d583576-e05a-460a-9dd8-c0cddffd3295"
      },
      "source": [
        "newAllDF_list = adjustedAllDF(AllDF_list,userID_dict,itemID_dict,AllUpdtUSERS_,AllUpdtITEMS_,n=8)\n",
        "print(AllDF_start['userId'].nunique(),AllDF_start['productId'].nunique())\n",
        "print()\n",
        "for df in newAllDF_list:\n",
        "    print(df['Updated_UserID'].nunique(),df['Updated_ItemID'].nunique())"
      ],
      "execution_count": 26,
      "outputs": [
        {
          "output_type": "stream",
          "text": [
            "22340 8328\n",
            "\n",
            "22438 8378\n",
            "22532 8427\n",
            "22643 8458\n",
            "22722 8493\n",
            "22749 8521\n",
            "22763 8542\n",
            "22775 8562\n",
            "22776 8573\n"
          ],
          "name": "stdout"
        }
      ]
    },
    {
      "cell_type": "code",
      "metadata": {
        "colab": {
          "base_uri": "https://localhost:8080/"
        },
        "id": "N1FI-D8uKCuG",
        "outputId": "9f5115a2-f761-412d-fae9-b384d4deafd9"
      },
      "source": [
        "UserItem_Mat = All_SingleStepRatMat(newAllDF_list,'Updated_UserID','Updated_ItemID')\n",
        "print(len(UserItem_Mat))\n",
        "UserItem_Mat"
      ],
      "execution_count": 29,
      "outputs": [
        {
          "output_type": "stream",
          "text": [
            "8\n"
          ],
          "name": "stdout"
        },
        {
          "output_type": "execute_result",
          "data": {
            "text/plain": [
              "[<22438x8378 sparse matrix of type '<class 'numpy.float64'>'\n",
              " \twith 49858 stored elements in Compressed Sparse Row format>,\n",
              " <22532x8427 sparse matrix of type '<class 'numpy.float64'>'\n",
              " \twith 50186 stored elements in Compressed Sparse Row format>,\n",
              " <22643x8458 sparse matrix of type '<class 'numpy.float64'>'\n",
              " \twith 50599 stored elements in Compressed Sparse Row format>,\n",
              " <22722x8493 sparse matrix of type '<class 'numpy.float64'>'\n",
              " \twith 50919 stored elements in Compressed Sparse Row format>,\n",
              " <22749x8521 sparse matrix of type '<class 'numpy.float64'>'\n",
              " \twith 51094 stored elements in Compressed Sparse Row format>,\n",
              " <22763x8542 sparse matrix of type '<class 'numpy.float64'>'\n",
              " \twith 51202 stored elements in Compressed Sparse Row format>,\n",
              " <22775x8562 sparse matrix of type '<class 'numpy.float64'>'\n",
              " \twith 51277 stored elements in Compressed Sparse Row format>,\n",
              " <22776x8573 sparse matrix of type '<class 'numpy.float64'>'\n",
              " \twith 51310 stored elements in Compressed Sparse Row format>]"
            ]
          },
          "metadata": {
            "tags": []
          },
          "execution_count": 29
        }
      ]
    },
    {
      "cell_type": "code",
      "metadata": {
        "colab": {
          "base_uri": "https://localhost:8080/"
        },
        "id": "bA6bmr-CKCuD",
        "outputId": "b60548a9-60ac-4cdc-9032-a6a484fc4efd"
      },
      "source": [
        "print(len(U_list),len(V_list))\n",
        "for u,v in zip(U_list,V_list):\n",
        "    print(u.shape[0],v.shape[0])   "
      ],
      "execution_count": 30,
      "outputs": [
        {
          "output_type": "stream",
          "text": [
            "9 9\n",
            "22340 8328\n",
            "22438 8378\n",
            "22532 8427\n",
            "22643 8458\n",
            "22722 8493\n",
            "22749 8521\n",
            "22763 8542\n",
            "22775 8562\n",
            "22776 8573\n"
          ],
          "name": "stdout"
        }
      ]
    },
    {
      "cell_type": "code",
      "metadata": {
        "colab": {
          "base_uri": "https://localhost:8080/"
        },
        "id": "kRkFwCd8KCuE",
        "outputId": "8c8e81f8-ff7c-47fd-ebae-2696d46d4757"
      },
      "source": [
        "print(AllDF_start['userId'].nunique(),AllDF_start['productId'].nunique())\n",
        "print()\n",
        "for i,j in zip(AllUpdtUSERS_,AllUpdtITEMS_):\n",
        "    print(len(i),len(j))"
      ],
      "execution_count": 31,
      "outputs": [
        {
          "output_type": "stream",
          "text": [
            "22340 8328\n",
            "\n",
            "22438 8378\n",
            "22532 8427\n",
            "22643 8458\n",
            "22722 8493\n",
            "22749 8521\n",
            "22763 8542\n",
            "22775 8562\n",
            "22776 8573\n"
          ],
          "name": "stdout"
        }
      ]
    },
    {
      "cell_type": "markdown",
      "metadata": {
        "id": "-FWZcWCDzJ-i"
      },
      "source": [
        "### PREDICTION"
      ]
    },
    {
      "cell_type": "code",
      "metadata": {
        "colab": {
          "base_uri": "https://localhost:8080/"
        },
        "id": "NrcfgZCCzPPu",
        "outputId": "8669b15b-d18a-4e78-ea2e-2db754e5ea02"
      },
      "source": [
        "print(len(UserItem_Mat),len(newHOLDOUT_LIST))"
      ],
      "execution_count": null,
      "outputs": [
        {
          "output_type": "stream",
          "text": [
            "8 8\n"
          ],
          "name": "stdout"
        }
      ]
    },
    {
      "cell_type": "code",
      "metadata": {
        "id": "b6AHiPbN0W5m"
      },
      "source": [
        "newHOLDOUT_LIST[0].columns"
      ],
      "execution_count": null,
      "outputs": []
    },
    {
      "cell_type": "code",
      "metadata": {
        "colab": {
          "base_uri": "https://localhost:8080/"
        },
        "id": "RguT3Utr0iLy",
        "outputId": "ea2f2b8b-d20c-4e93-8c51-b40cb3a23e3f"
      },
      "source": [
        "Vpsi_listUpdt = V_list[1:]\n",
        "for v in Vpsi_listUpdt:\n",
        "    print(v.shape)"
      ],
      "execution_count": 32,
      "outputs": [
        {
          "output_type": "stream",
          "text": [
            "(8378, 50)\n",
            "(8427, 50)\n",
            "(8458, 50)\n",
            "(8493, 50)\n",
            "(8521, 50)\n",
            "(8542, 50)\n",
            "(8562, 50)\n",
            "(8573, 50)\n"
          ],
          "name": "stdout"
        }
      ]
    },
    {
      "cell_type": "code",
      "metadata": {
        "colab": {
          "base_uri": "https://localhost:8080/"
        },
        "id": "u_4YBZ1qA7KV",
        "outputId": "fae72846-0dc8-4acb-8ae7-1af12bbebc1e"
      },
      "source": [
        "All_PSI_UPDTPRED =  TQDMgetALLTopNPred(UserItem_Mat,newHOLDOUT_LIST,Vpsi_listUpdt,'Updated_UserID',N = 10)\n",
        "print(len(All_PSI_UPDTPRED))\n",
        "All_PSI_UPDTPRED[:2]"
      ],
      "execution_count": 33,
      "outputs": [
        {
          "output_type": "stream",
          "text": [
            "8it [00:00, 25.03it/s]"
          ],
          "name": "stderr"
        },
        {
          "output_type": "stream",
          "text": [
            "8\n"
          ],
          "name": "stdout"
        },
        {
          "output_type": "stream",
          "text": [
            "\n"
          ],
          "name": "stderr"
        },
        {
          "output_type": "execute_result",
          "data": {
            "text/plain": [
              "[array([[ 439,  717,  230, ..., 3985, 1230,  415],\n",
              "        [ 922,  519,  194, ..., 3666,  231,  557],\n",
              "        [  63,  520,   43, ...,  137,   36,  134],\n",
              "        ...,\n",
              "        [ 519,  381,   60, ...,  520, 1725,  694],\n",
              "        [ 191,   43,  613, ...,  512,  566, 4714],\n",
              "        [ 389,  133,  598, ..., 1034,   82, 1310]]),\n",
              " array([[1409,  566, 3727, ...,  457, 2543,  389],\n",
              "        [  68,   69,  457, ..., 3139,   18, 3026],\n",
              "        [1202,  899,  677, ..., 1409,  833, 1164],\n",
              "        ...,\n",
              "        [1765,   68,   69, ...,  362,  151, 1203],\n",
              "        [ 389,  133,  598, ..., 1034,   82, 1310],\n",
              "        [ 566,  606, 3442, ..., 4231,  516, 1549]])]"
            ]
          },
          "metadata": {
            "tags": []
          },
          "execution_count": 33
        }
      ]
    },
    {
      "cell_type": "code",
      "metadata": {
        "colab": {
          "base_uri": "https://localhost:8080/"
        },
        "id": "H3kfcIzLq3aq",
        "outputId": "13dc0e97-7aa5-445f-a67a-72e2c217d650"
      },
      "source": [
        "All_PSI_UPDTPRED[0].shape"
      ],
      "execution_count": null,
      "outputs": [
        {
          "output_type": "execute_result",
          "data": {
            "text/plain": [
              "(245, 10)"
            ]
          },
          "metadata": {
            "tags": []
          },
          "execution_count": 157
        }
      ]
    },
    {
      "cell_type": "code",
      "metadata": {
        "colab": {
          "base_uri": "https://localhost:8080/"
        },
        "id": "PhfkO3EcJN5W",
        "outputId": "40b58d17-a644-4a1c-e345-c2e9d6dc8dc8"
      },
      "source": [
        "AllSteps_HitR_updt, LowerBand_updt, Avg_HitR_updt, UpperBand_updt   = getAll_HitRate(newHOLDOUT_LIST,All_PSI_UPDTPRED,'Updated_UserID','Updated_ItemID')"
      ],
      "execution_count": 34,
      "outputs": [
        {
          "output_type": "stream",
          "text": [
            "Number of hits:  0\n",
            "Total Num of users:  245\n",
            "Recommendation HitRate:  0.0\n",
            "Number of hits:  0\n",
            "Total Num of users:  234\n",
            "Recommendation HitRate:  0.0\n",
            "Number of hits:  0\n",
            "Total Num of users:  243\n",
            "Recommendation HitRate:  0.0\n",
            "Number of hits:  0\n",
            "Total Num of users:  204\n",
            "Recommendation HitRate:  0.0\n",
            "Number of hits:  0\n",
            "Total Num of users:  147\n",
            "Recommendation HitRate:  0.0\n",
            "Number of hits:  0\n",
            "Total Num of users:  93\n",
            "Recommendation HitRate:  0.0\n",
            "Number of hits:  0\n",
            "Total Num of users:  66\n",
            "Recommendation HitRate:  0.0\n",
            "Number of hits:  0\n",
            "Total Num of users:  30\n",
            "Recommendation HitRate:  0.0\n",
            "Average HitRate for All Recommendations:  0.0\n"
          ],
          "name": "stdout"
        }
      ]
    },
    {
      "cell_type": "code",
      "metadata": {
        "id": "G4CERcVFNPAA"
      },
      "source": [
        ""
      ],
      "execution_count": null,
      "outputs": []
    },
    {
      "cell_type": "code",
      "metadata": {
        "id": "hFTqSAOZeeux"
      },
      "source": [
        ""
      ],
      "execution_count": null,
      "outputs": []
    },
    {
      "cell_type": "markdown",
      "metadata": {
        "id": "ex_fBepRvk5I"
      },
      "source": [
        "###  RandRec:Test"
      ]
    },
    {
      "cell_type": "code",
      "metadata": {
        "id": "kKNWV8QXlYyR"
      },
      "source": [
        ""
      ],
      "execution_count": null,
      "outputs": []
    },
    {
      "cell_type": "code",
      "metadata": {
        "colab": {
          "base_uri": "https://localhost:8080/"
        },
        "id": "42RCvm1dlZNu",
        "outputId": "a30f94f1-bdcd-46a9-ae7a-56cb47eac033"
      },
      "source": [
        "print(len(UserItem_Mat),len(newHOLDOUT_LIST))"
      ],
      "execution_count": null,
      "outputs": [
        {
          "output_type": "stream",
          "text": [
            "8 8\n"
          ],
          "name": "stdout"
        }
      ]
    },
    {
      "cell_type": "code",
      "metadata": {
        "colab": {
          "base_uri": "https://localhost:8080/"
        },
        "id": "TBkzzmmFlZNz",
        "outputId": "66c77e3a-a63e-44f1-c48f-60b22a734269"
      },
      "source": [
        "All_RandPred = get_ALLRandPred(UserItem_Mat,newHOLDOUT_LIST,'Updated_UserID',N=10)\n",
        "All_RandPred[:2]"
      ],
      "execution_count": 35,
      "outputs": [
        {
          "output_type": "stream",
          "text": [
            "8it [00:00, 28.95it/s]\n"
          ],
          "name": "stderr"
        },
        {
          "output_type": "execute_result",
          "data": {
            "text/plain": [
              "[array([[7555, 7330, 3307, ...,  235, 6928, 4176],\n",
              "        [6361, 7917,  615, ..., 3761, 2344, 5562],\n",
              "        [5991, 4866, 4440, ...,  718, 2240, 5167],\n",
              "        ...,\n",
              "        [6465,  616, 1220, ..., 3243, 3409, 3850],\n",
              "        [7337, 6236, 2489, ..., 2137, 3550, 5808],\n",
              "        [6900, 1052, 4751, ..., 3136, 3478, 7238]]),\n",
              " array([[3840, 1832, 6094, ..., 2071, 6278, 5993],\n",
              "        [7146, 7018,  950, ..., 8344, 5630, 4626],\n",
              "        [2878, 8287, 2722, ..., 5747, 2791, 6784],\n",
              "        ...,\n",
              "        [2477, 1462, 6696, ..., 8240, 6521, 8091],\n",
              "        [4319, 7401, 3868, ..., 2551, 3881, 6271],\n",
              "        [ 531, 7235, 5840, ...,  252, 1319,  884]])]"
            ]
          },
          "metadata": {
            "tags": []
          },
          "execution_count": 35
        }
      ]
    },
    {
      "cell_type": "code",
      "metadata": {
        "colab": {
          "base_uri": "https://localhost:8080/"
        },
        "id": "y49Wcy09qwt8",
        "outputId": "bf61790d-1781-4b06-b2ee-c616d443c588"
      },
      "source": [
        "All_RandPred[0].shape"
      ],
      "execution_count": null,
      "outputs": [
        {
          "output_type": "execute_result",
          "data": {
            "text/plain": [
              "(245, 10)"
            ]
          },
          "metadata": {
            "tags": []
          },
          "execution_count": 169
        }
      ]
    },
    {
      "cell_type": "code",
      "metadata": {
        "colab": {
          "base_uri": "https://localhost:8080/"
        },
        "id": "uMLoaZ6YlZN3",
        "outputId": "915d2264-b04e-48ba-d23c-077d6ff47f50"
      },
      "source": [
        " AllSteps_Hitrate, LowerBand, Avg_HitRate, UpperBand  = getAll_RandomHitRate(newHOLDOUT_LIST,All_RandPred,'Updated_UserID','Updated_ItemID')"
      ],
      "execution_count": 36,
      "outputs": [
        {
          "output_type": "stream",
          "text": [
            "Number of hits:  0\n",
            "Total Num of users:  245\n",
            "Recommendation HitRate:  0.0\n",
            "Number of hits:  0\n",
            "Total Num of users:  234\n",
            "Recommendation HitRate:  0.0\n",
            "Number of hits:  0\n",
            "Total Num of users:  243\n",
            "Recommendation HitRate:  0.0\n",
            "Number of hits:  0\n",
            "Total Num of users:  204\n",
            "Recommendation HitRate:  0.0\n",
            "Number of hits:  0\n",
            "Total Num of users:  147\n",
            "Recommendation HitRate:  0.0\n",
            "Number of hits:  0\n",
            "Total Num of users:  93\n",
            "Recommendation HitRate:  0.0\n",
            "Number of hits:  0\n",
            "Total Num of users:  66\n",
            "Recommendation HitRate:  0.0\n",
            "Number of hits:  0\n",
            "Total Num of users:  30\n",
            "Recommendation HitRate:  0.0\n",
            "Average HitRate for All Recommendations:  0.0\n"
          ],
          "name": "stdout"
        }
      ]
    },
    {
      "cell_type": "markdown",
      "metadata": {
        "id": "XTkVUSBi4sgE"
      },
      "source": [
        "### Most Pop Rec"
      ]
    },
    {
      "cell_type": "code",
      "metadata": {
        "id": "GPcvVqgXi8xM"
      },
      "source": [
        "PSITest_list[1]['timestamp'].min()"
      ],
      "execution_count": null,
      "outputs": []
    },
    {
      "cell_type": "code",
      "metadata": {
        "id": "oGVHnA5FmFd8"
      },
      "source": [
        "def adjustedPSI_DF(PSITest_list,userID_dict,itemID_dict,AllUpdtUSERS_,AllUpdtITEMS_,n):\n",
        "    new_PSIDFlist =[]\n",
        "    for i in range(n):\n",
        "        PSITest_list[i] = PSITest_list[i][['userId','productId']]\n",
        "        Updt_Items    = AllUpdtITEMS_[i]\n",
        "        Updt_Users    = AllUpdtUSERS_[i]     \n",
        "        new_PSIdf     = PSITest_list[i].loc[(PSITest_list[i]['productId'].isin(Updt_Items)) & (PSITest_list[i]['userId'].isin(Updt_Users))]\n",
        "\n",
        "        prevUser_ID =   new_PSIdf['userId'].values  \n",
        "        prevItems_ID =  new_PSIdf['productId'].values   \n",
        "        Updted_UserID = [userID_dict.get(user) for user in prevUser_ID]   \n",
        "        Updted_ItemID = [itemID_dict.get(item) for item in prevItems_ID]\n",
        "        new_PSIdf['Updated_UserID'] = Updted_UserID\n",
        "        new_PSIdf['Updated_ItemID'] = Updted_ItemID\n",
        "        new_PSIDFlist.append(new_PSIdf)\n",
        "    return new_PSIDFlist\n"
      ],
      "execution_count": 37,
      "outputs": []
    },
    {
      "cell_type": "code",
      "metadata": {
        "colab": {
          "base_uri": "https://localhost:8080/"
        },
        "id": "Gl9RwPlyoatA",
        "outputId": "391ce16f-b5dc-4350-8516-e39b4504e52d"
      },
      "source": [
        "new_PSIDFlist = adjustedPSI_DF(PSITest_list,userID_dict,itemID_dict,AllUpdtUSERS_,AllUpdtITEMS_,n=8)\n",
        "for old,new in zip(PSITest_list,new_PSIDFlist):\n",
        "    print(old.shape[0],new.shape[0])"
      ],
      "execution_count": 39,
      "outputs": [
        {
          "output_type": "stream",
          "text": [
            "110 102\n",
            "104 101\n",
            "178 172\n",
            "114 111\n",
            "25 24\n",
            "18 15\n",
            "10 10\n",
            "3 3\n"
          ],
          "name": "stdout"
        }
      ]
    },
    {
      "cell_type": "code",
      "metadata": {
        "colab": {
          "base_uri": "https://localhost:8080/",
          "height": 406
        },
        "id": "u5z9KwbFpC6o",
        "outputId": "cf73ae2a-6ab2-4a6d-922f-3ed210d3aba9"
      },
      "source": [
        "new_PSIDFlist[0]"
      ],
      "execution_count": null,
      "outputs": [
        {
          "output_type": "execute_result",
          "data": {
            "text/html": [
              "<div>\n",
              "<style scoped>\n",
              "    .dataframe tbody tr th:only-of-type {\n",
              "        vertical-align: middle;\n",
              "    }\n",
              "\n",
              "    .dataframe tbody tr th {\n",
              "        vertical-align: top;\n",
              "    }\n",
              "\n",
              "    .dataframe thead th {\n",
              "        text-align: right;\n",
              "    }\n",
              "</style>\n",
              "<table border=\"1\" class=\"dataframe\">\n",
              "  <thead>\n",
              "    <tr style=\"text-align: right;\">\n",
              "      <th></th>\n",
              "      <th>userId</th>\n",
              "      <th>productId</th>\n",
              "      <th>Updated_UserID</th>\n",
              "      <th>Updated_ItemID</th>\n",
              "    </tr>\n",
              "  </thead>\n",
              "  <tbody>\n",
              "    <tr>\n",
              "      <th>50009</th>\n",
              "      <td>22340</td>\n",
              "      <td>1514</td>\n",
              "      <td>22340</td>\n",
              "      <td>1514</td>\n",
              "    </tr>\n",
              "    <tr>\n",
              "      <th>50011</th>\n",
              "      <td>22341</td>\n",
              "      <td>413</td>\n",
              "      <td>22341</td>\n",
              "      <td>413</td>\n",
              "    </tr>\n",
              "    <tr>\n",
              "      <th>50014</th>\n",
              "      <td>22342</td>\n",
              "      <td>948</td>\n",
              "      <td>22342</td>\n",
              "      <td>948</td>\n",
              "    </tr>\n",
              "    <tr>\n",
              "      <th>50015</th>\n",
              "      <td>22343</td>\n",
              "      <td>8328</td>\n",
              "      <td>22343</td>\n",
              "      <td>8358</td>\n",
              "    </tr>\n",
              "    <tr>\n",
              "      <th>50025</th>\n",
              "      <td>22346</td>\n",
              "      <td>4078</td>\n",
              "      <td>22346</td>\n",
              "      <td>4078</td>\n",
              "    </tr>\n",
              "    <tr>\n",
              "      <th>...</th>\n",
              "      <td>...</td>\n",
              "      <td>...</td>\n",
              "      <td>...</td>\n",
              "      <td>...</td>\n",
              "    </tr>\n",
              "    <tr>\n",
              "      <th>50360</th>\n",
              "      <td>22445</td>\n",
              "      <td>251</td>\n",
              "      <td>22433</td>\n",
              "      <td>251</td>\n",
              "    </tr>\n",
              "    <tr>\n",
              "      <th>50365</th>\n",
              "      <td>22445</td>\n",
              "      <td>815</td>\n",
              "      <td>22433</td>\n",
              "      <td>815</td>\n",
              "    </tr>\n",
              "    <tr>\n",
              "      <th>50366</th>\n",
              "      <td>20754</td>\n",
              "      <td>105</td>\n",
              "      <td>20754</td>\n",
              "      <td>105</td>\n",
              "    </tr>\n",
              "    <tr>\n",
              "      <th>50367</th>\n",
              "      <td>22449</td>\n",
              "      <td>168</td>\n",
              "      <td>22436</td>\n",
              "      <td>168</td>\n",
              "    </tr>\n",
              "    <tr>\n",
              "      <th>50375</th>\n",
              "      <td>22450</td>\n",
              "      <td>74</td>\n",
              "      <td>22437</td>\n",
              "      <td>74</td>\n",
              "    </tr>\n",
              "  </tbody>\n",
              "</table>\n",
              "<p>102 rows × 4 columns</p>\n",
              "</div>"
            ],
            "text/plain": [
              "       userId  productId  Updated_UserID  Updated_ItemID\n",
              "50009   22340       1514           22340            1514\n",
              "50011   22341        413           22341             413\n",
              "50014   22342        948           22342             948\n",
              "50015   22343       8328           22343            8358\n",
              "50025   22346       4078           22346            4078\n",
              "...       ...        ...             ...             ...\n",
              "50360   22445        251           22433             251\n",
              "50365   22445        815           22433             815\n",
              "50366   20754        105           20754             105\n",
              "50367   22449        168           22436             168\n",
              "50375   22450         74           22437              74\n",
              "\n",
              "[102 rows x 4 columns]"
            ]
          },
          "metadata": {
            "tags": []
          },
          "execution_count": 154
        }
      ]
    },
    {
      "cell_type": "code",
      "metadata": {
        "colab": {
          "base_uri": "https://localhost:8080/"
        },
        "id": "xvUmSe4DH9Rw",
        "outputId": "fc8917cf-f3ba-4517-fc1f-22839446e6af"
      },
      "source": [
        "MostPOPPred_ = getMOSTPOP_Pred(new_PSIDFlist[0],'Updated_UserID','Updated_ItemID',Nusers=10,N=10)\n",
        "MostPOPPred_"
      ],
      "execution_count": null,
      "outputs": [
        {
          "output_type": "execute_result",
          "data": {
            "text/plain": [
              "array([[ 74, 106, 168, 239, 230, 555, 319, 251, 815, 369],\n",
              "       [ 74, 106, 168, 239, 230, 555, 319, 251, 815, 369],\n",
              "       [ 74, 106, 168, 239, 230, 555, 319, 251, 815, 369],\n",
              "       [ 74, 106, 168, 239, 230, 555, 319, 251, 815, 369],\n",
              "       [ 74, 106, 168, 239, 230, 555, 319, 251, 815, 369],\n",
              "       [ 74, 106, 168, 239, 230, 555, 319, 251, 815, 369],\n",
              "       [ 74, 106, 168, 239, 230, 555, 319, 251, 815, 369],\n",
              "       [ 74, 106, 168, 239, 230, 555, 319, 251, 815, 369],\n",
              "       [ 74, 106, 168, 239, 230, 555, 319, 251, 815, 369],\n",
              "       [ 74, 106, 168, 239, 230, 555, 319, 251, 815, 369]])"
            ]
          },
          "metadata": {
            "tags": []
          },
          "execution_count": 155
        }
      ]
    },
    {
      "cell_type": "code",
      "metadata": {
        "colab": {
          "base_uri": "https://localhost:8080/"
        },
        "id": "dwtyYptbxT1n",
        "outputId": "7d621729-312d-46dc-8a20-60ebaa51089b"
      },
      "source": [
        "All_MostPOPRED_List =  getAll_MOSTPOP_Pred(new_PSIDFlist,newHOLDOUT_LIST,'Updated_UserID','Updated_ItemID',N=10)\n",
        "All_MostPOPRED_List[:2]"
      ],
      "execution_count": 41,
      "outputs": [
        {
          "output_type": "execute_result",
          "data": {
            "text/plain": [
              "[array([[ 74, 106, 168, ..., 251, 815, 369],\n",
              "        [ 74, 106, 168, ..., 251, 815, 369],\n",
              "        [ 74, 106, 168, ..., 251, 815, 369],\n",
              "        ...,\n",
              "        [ 74, 106, 168, ..., 251, 815, 369],\n",
              "        [ 74, 106, 168, ..., 251, 815, 369],\n",
              "        [ 74, 106, 168, ..., 251, 815, 369]]),\n",
              " array([[110,  74, 376, ..., 251, 239, 948],\n",
              "        [110,  74, 376, ..., 251, 239, 948],\n",
              "        [110,  74, 376, ..., 251, 239, 948],\n",
              "        ...,\n",
              "        [110,  74, 376, ..., 251, 239, 948],\n",
              "        [110,  74, 376, ..., 251, 239, 948],\n",
              "        [110,  74, 376, ..., 251, 239, 948]])]"
            ]
          },
          "metadata": {
            "tags": []
          },
          "execution_count": 41
        }
      ]
    },
    {
      "cell_type": "code",
      "metadata": {
        "colab": {
          "base_uri": "https://localhost:8080/"
        },
        "id": "fNHAudSIx9dw",
        "outputId": "ab47d9e2-0def-4130-aa58-be371b55b91d"
      },
      "source": [
        "All_MostPOPRED_List[0].shape"
      ],
      "execution_count": null,
      "outputs": [
        {
          "output_type": "execute_result",
          "data": {
            "text/plain": [
              "(245, 10)"
            ]
          },
          "metadata": {
            "tags": []
          },
          "execution_count": 170
        }
      ]
    },
    {
      "cell_type": "code",
      "metadata": {
        "colab": {
          "base_uri": "https://localhost:8080/"
        },
        "id": "pzPaCjrsUvFa",
        "outputId": "b11c7bad-6ad9-4eec-8d25-29c92e3d210f"
      },
      "source": [
        "AllSteps_Hitrate, LowerBand, Avg_HitRate, UpperBand  = getAll_MostPOPHitRate(newHOLDOUT_LIST,All_MostPOPRED_List,'Updated_UserID','Updated_ItemID')"
      ],
      "execution_count": 42,
      "outputs": [
        {
          "output_type": "stream",
          "text": [
            "Number of hits:  24\n",
            "Total Num of users:  245\n",
            "Recommendation HitRate:  0.09795918367346938\n",
            "Number of hits:  20\n",
            "Total Num of users:  234\n",
            "Recommendation HitRate:  0.08547008547008547\n",
            "Number of hits:  57\n",
            "Total Num of users:  243\n",
            "Recommendation HitRate:  0.2345679012345679\n",
            "Number of hits:  32\n",
            "Total Num of users:  204\n",
            "Recommendation HitRate:  0.1568627450980392\n",
            "Number of hits:  24\n",
            "Total Num of users:  147\n",
            "Recommendation HitRate:  0.16326530612244897\n",
            "Number of hits:  1\n",
            "Total Num of users:  93\n",
            "Recommendation HitRate:  0.010752688172043012\n",
            "Number of hits:  4\n",
            "Total Num of users:  66\n",
            "Recommendation HitRate:  0.06060606060606061\n",
            "Number of hits:  0\n",
            "Total Num of users:  30\n",
            "Recommendation HitRate:  0.0\n",
            "Average HitRate for All Recommendations:  0.10118549629708933\n"
          ],
          "name": "stdout"
        }
      ]
    },
    {
      "cell_type": "code",
      "metadata": {
        "colab": {
          "base_uri": "https://localhost:8080/"
        },
        "id": "CbzcieIu7oCt",
        "outputId": "f67c3985-1865-4917-a69c-33eca27fa198"
      },
      "source": [
        "print(len(UserItem_Mat),len(newHOLDOUT_LIST))"
      ],
      "execution_count": 43,
      "outputs": [
        {
          "output_type": "stream",
          "text": [
            "8 8\n"
          ],
          "name": "stdout"
        }
      ]
    },
    {
      "cell_type": "code",
      "metadata": {
        "id": "gshLEV6neh4Y"
      },
      "source": [
        ""
      ],
      "execution_count": null,
      "outputs": []
    },
    {
      "cell_type": "code",
      "metadata": {
        "id": "zD4s8IY4DvsK"
      },
      "source": [
        ""
      ],
      "execution_count": null,
      "outputs": []
    },
    {
      "cell_type": "markdown",
      "metadata": {
        "id": "xpocYB8bMmtu"
      },
      "source": [
        "## Apply Functions on *AMZGames*"
      ]
    },
    {
      "cell_type": "markdown",
      "metadata": {
        "id": "jg2rUDx4QFkB"
      },
      "source": [
        "### Import Cleaned Data"
      ]
    },
    {
      "cell_type": "code",
      "metadata": {
        "colab": {
          "base_uri": "https://localhost:8080/",
          "height": 566
        },
        "id": "Q-9KJbwIQFkl",
        "outputId": "5cc1a367-2b7b-4474-f760-baf48c13f392"
      },
      "source": [
        "AMZGames_DF  = pd.read_csv('/content/usedAMZGames.csv')\n",
        "AMZGames_DF['timestamp'] = pd.to_datetime(AMZGames_DF['timestamp']) \n",
        "print(AMZGames_DF.shape)       #productId_int\tuserId_int\n",
        "print(AMZGames_DF.dtypes)\n",
        "print()\n",
        "AMZGames_DF"
      ],
      "execution_count": 44,
      "outputs": [
        {
          "output_type": "stream",
          "text": [
            "(372453, 6)\n",
            "userId_int               object\n",
            "productId_int            object\n",
            "rating                    int64\n",
            "timestamp        datetime64[ns]\n",
            "userId                    int64\n",
            "productId                 int64\n",
            "dtype: object\n",
            "\n"
          ],
          "name": "stdout"
        },
        {
          "output_type": "execute_result",
          "data": {
            "text/html": [
              "<div>\n",
              "<style scoped>\n",
              "    .dataframe tbody tr th:only-of-type {\n",
              "        vertical-align: middle;\n",
              "    }\n",
              "\n",
              "    .dataframe tbody tr th {\n",
              "        vertical-align: top;\n",
              "    }\n",
              "\n",
              "    .dataframe thead th {\n",
              "        text-align: right;\n",
              "    }\n",
              "</style>\n",
              "<table border=\"1\" class=\"dataframe\">\n",
              "  <thead>\n",
              "    <tr style=\"text-align: right;\">\n",
              "      <th></th>\n",
              "      <th>userId_int</th>\n",
              "      <th>productId_int</th>\n",
              "      <th>rating</th>\n",
              "      <th>timestamp</th>\n",
              "      <th>userId</th>\n",
              "      <th>productId</th>\n",
              "    </tr>\n",
              "  </thead>\n",
              "  <tbody>\n",
              "    <tr>\n",
              "      <th>0</th>\n",
              "      <td>A3BEJOL2X8PS8I</td>\n",
              "      <td>B00004TC6E</td>\n",
              "      <td>1</td>\n",
              "      <td>2001-01-01</td>\n",
              "      <td>0</td>\n",
              "      <td>0</td>\n",
              "    </tr>\n",
              "    <tr>\n",
              "      <th>1</th>\n",
              "      <td>A1SQUI6BNEOB6C</td>\n",
              "      <td>B00004UE0G</td>\n",
              "      <td>1</td>\n",
              "      <td>2001-01-01</td>\n",
              "      <td>1</td>\n",
              "      <td>1</td>\n",
              "    </tr>\n",
              "    <tr>\n",
              "      <th>2</th>\n",
              "      <td>A2ZESFCRJL7YA0</td>\n",
              "      <td>B00002CF9M</td>\n",
              "      <td>1</td>\n",
              "      <td>2001-01-01</td>\n",
              "      <td>2</td>\n",
              "      <td>2</td>\n",
              "    </tr>\n",
              "    <tr>\n",
              "      <th>3</th>\n",
              "      <td>A3URVWPFJOHT72</td>\n",
              "      <td>B00000K1AF</td>\n",
              "      <td>1</td>\n",
              "      <td>2001-01-01</td>\n",
              "      <td>3</td>\n",
              "      <td>3</td>\n",
              "    </tr>\n",
              "    <tr>\n",
              "      <th>4</th>\n",
              "      <td>A1EE8EZLR8LJ9M</td>\n",
              "      <td>B00004WLMA</td>\n",
              "      <td>1</td>\n",
              "      <td>2001-01-02</td>\n",
              "      <td>4</td>\n",
              "      <td>4</td>\n",
              "    </tr>\n",
              "    <tr>\n",
              "      <th>...</th>\n",
              "      <td>...</td>\n",
              "      <td>...</td>\n",
              "      <td>...</td>\n",
              "      <td>...</td>\n",
              "      <td>...</td>\n",
              "      <td>...</td>\n",
              "    </tr>\n",
              "    <tr>\n",
              "      <th>372448</th>\n",
              "      <td>A2UVBD3N7449IC</td>\n",
              "      <td>B01ABTJ2BM</td>\n",
              "      <td>1</td>\n",
              "      <td>2018-08-31</td>\n",
              "      <td>28129</td>\n",
              "      <td>16648</td>\n",
              "    </tr>\n",
              "    <tr>\n",
              "      <th>372449</th>\n",
              "      <td>A27F1N27M1X0NM</td>\n",
              "      <td>B01D8H09LQ</td>\n",
              "      <td>1</td>\n",
              "      <td>2018-08-31</td>\n",
              "      <td>3183</td>\n",
              "      <td>16542</td>\n",
              "    </tr>\n",
              "    <tr>\n",
              "      <th>372450</th>\n",
              "      <td>A1J5HIF41ENSMZ</td>\n",
              "      <td>B01D8H09LQ</td>\n",
              "      <td>1</td>\n",
              "      <td>2018-08-31</td>\n",
              "      <td>16433</td>\n",
              "      <td>16542</td>\n",
              "    </tr>\n",
              "    <tr>\n",
              "      <th>372451</th>\n",
              "      <td>A18C19UTTAQEOD</td>\n",
              "      <td>B01GW3P9PE</td>\n",
              "      <td>1</td>\n",
              "      <td>2018-08-31</td>\n",
              "      <td>16400</td>\n",
              "      <td>17342</td>\n",
              "    </tr>\n",
              "    <tr>\n",
              "      <th>372452</th>\n",
              "      <td>A1USYGPU8OCPTA</td>\n",
              "      <td>B014H2W1YO</td>\n",
              "      <td>1</td>\n",
              "      <td>2018-08-31</td>\n",
              "      <td>29668</td>\n",
              "      <td>15738</td>\n",
              "    </tr>\n",
              "  </tbody>\n",
              "</table>\n",
              "<p>372453 rows × 6 columns</p>\n",
              "</div>"
            ],
            "text/plain": [
              "            userId_int productId_int  rating  timestamp  userId  productId\n",
              "0       A3BEJOL2X8PS8I    B00004TC6E       1 2001-01-01       0          0\n",
              "1       A1SQUI6BNEOB6C    B00004UE0G       1 2001-01-01       1          1\n",
              "2       A2ZESFCRJL7YA0    B00002CF9M       1 2001-01-01       2          2\n",
              "3       A3URVWPFJOHT72    B00000K1AF       1 2001-01-01       3          3\n",
              "4       A1EE8EZLR8LJ9M    B00004WLMA       1 2001-01-02       4          4\n",
              "...                ...           ...     ...        ...     ...        ...\n",
              "372448  A2UVBD3N7449IC    B01ABTJ2BM       1 2018-08-31   28129      16648\n",
              "372449  A27F1N27M1X0NM    B01D8H09LQ       1 2018-08-31    3183      16542\n",
              "372450  A1J5HIF41ENSMZ    B01D8H09LQ       1 2018-08-31   16433      16542\n",
              "372451  A18C19UTTAQEOD    B01GW3P9PE       1 2018-08-31   16400      17342\n",
              "372452  A1USYGPU8OCPTA    B014H2W1YO       1 2018-08-31   29668      15738\n",
              "\n",
              "[372453 rows x 6 columns]"
            ]
          },
          "metadata": {
            "tags": []
          },
          "execution_count": 44
        }
      ]
    },
    {
      "cell_type": "code",
      "metadata": {
        "colab": {
          "base_uri": "https://localhost:8080/",
          "height": 620
        },
        "id": "4vdRrsHEQFkm",
        "outputId": "e7468676-ed40-4f0b-93bf-6164dcd299f6"
      },
      "source": [
        "AMZGames_DF = AMZGames_DF[['userId','productId','rating','timestamp']]\n",
        "print(AMZGames_DF.shape)\n",
        "print(\"For users: \")\n",
        "print(AMZGames_DF['userId'].nunique())\n",
        "print(AMZGames_DF['userId'].max())\n",
        "print()\n",
        "print(\"For items: \")\n",
        "print(AMZGames_DF['productId'].nunique())\n",
        "print(AMZGames_DF['productId'].max())\n",
        "print()\n",
        "print(\"Timestamp\")\n",
        "print(AMZGames_DF['timestamp'].min())\n",
        "print(AMZGames_DF['timestamp'].max())\n",
        "AMZGames_DF"
      ],
      "execution_count": 45,
      "outputs": [
        {
          "output_type": "stream",
          "text": [
            "(372453, 4)\n",
            "For users: \n",
            "53242\n",
            "53241\n",
            "\n",
            "For items: \n",
            "17351\n",
            "17350\n",
            "\n",
            "Timestamp\n",
            "2001-01-01 00:00:00\n",
            "2018-08-31 00:00:00\n"
          ],
          "name": "stdout"
        },
        {
          "output_type": "execute_result",
          "data": {
            "text/html": [
              "<div>\n",
              "<style scoped>\n",
              "    .dataframe tbody tr th:only-of-type {\n",
              "        vertical-align: middle;\n",
              "    }\n",
              "\n",
              "    .dataframe tbody tr th {\n",
              "        vertical-align: top;\n",
              "    }\n",
              "\n",
              "    .dataframe thead th {\n",
              "        text-align: right;\n",
              "    }\n",
              "</style>\n",
              "<table border=\"1\" class=\"dataframe\">\n",
              "  <thead>\n",
              "    <tr style=\"text-align: right;\">\n",
              "      <th></th>\n",
              "      <th>userId</th>\n",
              "      <th>productId</th>\n",
              "      <th>rating</th>\n",
              "      <th>timestamp</th>\n",
              "    </tr>\n",
              "  </thead>\n",
              "  <tbody>\n",
              "    <tr>\n",
              "      <th>0</th>\n",
              "      <td>0</td>\n",
              "      <td>0</td>\n",
              "      <td>1</td>\n",
              "      <td>2001-01-01</td>\n",
              "    </tr>\n",
              "    <tr>\n",
              "      <th>1</th>\n",
              "      <td>1</td>\n",
              "      <td>1</td>\n",
              "      <td>1</td>\n",
              "      <td>2001-01-01</td>\n",
              "    </tr>\n",
              "    <tr>\n",
              "      <th>2</th>\n",
              "      <td>2</td>\n",
              "      <td>2</td>\n",
              "      <td>1</td>\n",
              "      <td>2001-01-01</td>\n",
              "    </tr>\n",
              "    <tr>\n",
              "      <th>3</th>\n",
              "      <td>3</td>\n",
              "      <td>3</td>\n",
              "      <td>1</td>\n",
              "      <td>2001-01-01</td>\n",
              "    </tr>\n",
              "    <tr>\n",
              "      <th>4</th>\n",
              "      <td>4</td>\n",
              "      <td>4</td>\n",
              "      <td>1</td>\n",
              "      <td>2001-01-02</td>\n",
              "    </tr>\n",
              "    <tr>\n",
              "      <th>...</th>\n",
              "      <td>...</td>\n",
              "      <td>...</td>\n",
              "      <td>...</td>\n",
              "      <td>...</td>\n",
              "    </tr>\n",
              "    <tr>\n",
              "      <th>372448</th>\n",
              "      <td>28129</td>\n",
              "      <td>16648</td>\n",
              "      <td>1</td>\n",
              "      <td>2018-08-31</td>\n",
              "    </tr>\n",
              "    <tr>\n",
              "      <th>372449</th>\n",
              "      <td>3183</td>\n",
              "      <td>16542</td>\n",
              "      <td>1</td>\n",
              "      <td>2018-08-31</td>\n",
              "    </tr>\n",
              "    <tr>\n",
              "      <th>372450</th>\n",
              "      <td>16433</td>\n",
              "      <td>16542</td>\n",
              "      <td>1</td>\n",
              "      <td>2018-08-31</td>\n",
              "    </tr>\n",
              "    <tr>\n",
              "      <th>372451</th>\n",
              "      <td>16400</td>\n",
              "      <td>17342</td>\n",
              "      <td>1</td>\n",
              "      <td>2018-08-31</td>\n",
              "    </tr>\n",
              "    <tr>\n",
              "      <th>372452</th>\n",
              "      <td>29668</td>\n",
              "      <td>15738</td>\n",
              "      <td>1</td>\n",
              "      <td>2018-08-31</td>\n",
              "    </tr>\n",
              "  </tbody>\n",
              "</table>\n",
              "<p>372453 rows × 4 columns</p>\n",
              "</div>"
            ],
            "text/plain": [
              "        userId  productId  rating  timestamp\n",
              "0            0          0       1 2001-01-01\n",
              "1            1          1       1 2001-01-01\n",
              "2            2          2       1 2001-01-01\n",
              "3            3          3       1 2001-01-01\n",
              "4            4          4       1 2001-01-02\n",
              "...        ...        ...     ...        ...\n",
              "372448   28129      16648       1 2018-08-31\n",
              "372449    3183      16542       1 2018-08-31\n",
              "372450   16433      16542       1 2018-08-31\n",
              "372451   16400      17342       1 2018-08-31\n",
              "372452   29668      15738       1 2018-08-31\n",
              "\n",
              "[372453 rows x 4 columns]"
            ]
          },
          "metadata": {
            "tags": []
          },
          "execution_count": 45
        }
      ]
    },
    {
      "cell_type": "markdown",
      "metadata": {
        "id": "pvKWYN8fTvMG"
      },
      "source": [
        "###Step 1: Data Splitting"
      ]
    },
    {
      "cell_type": "code",
      "metadata": {
        "colab": {
          "base_uri": "https://localhost:8080/"
        },
        "id": "uPKsoiMgTvMs",
        "outputId": "225c44d9-d8fa-44eb-89de-15d26fb0f8b6"
      },
      "source": [
        "pivotMonths_list  = getPivotMonths(AMZGames_DF,'timestamp',N_TMonths=18)  \n",
        "pivotMonths_list"
      ],
      "execution_count": 46,
      "outputs": [
        {
          "output_type": "execute_result",
          "data": {
            "text/plain": [
              "[Timestamp('2018-07-31 00:00:00'),\n",
              " Timestamp('2018-06-30 00:00:00'),\n",
              " Timestamp('2018-05-31 00:00:00'),\n",
              " Timestamp('2018-04-30 00:00:00'),\n",
              " Timestamp('2018-03-31 00:00:00'),\n",
              " Timestamp('2018-02-28 00:00:00'),\n",
              " Timestamp('2018-01-31 00:00:00'),\n",
              " Timestamp('2017-12-31 00:00:00'),\n",
              " Timestamp('2017-11-30 00:00:00'),\n",
              " Timestamp('2017-10-31 00:00:00'),\n",
              " Timestamp('2017-09-30 00:00:00'),\n",
              " Timestamp('2017-08-31 00:00:00'),\n",
              " Timestamp('2017-07-31 00:00:00'),\n",
              " Timestamp('2017-06-30 00:00:00'),\n",
              " Timestamp('2017-05-31 00:00:00'),\n",
              " Timestamp('2017-04-30 00:00:00'),\n",
              " Timestamp('2017-03-31 00:00:00'),\n",
              " Timestamp('2017-02-28 00:00:00')]"
            ]
          },
          "metadata": {
            "tags": []
          },
          "execution_count": 46
        }
      ]
    },
    {
      "cell_type": "code",
      "metadata": {
        "colab": {
          "base_uri": "https://localhost:8080/"
        },
        "id": "ruYdG0P1TvMw",
        "outputId": "3d88b8e2-8576-432a-f288-a65c314ea2e7"
      },
      "source": [
        "A0_df,ΔA_train,ΔA_test = Time_DataSplit(AMZGames_DF,'timestamp',pivotMonths_list,N_TMonths= 18,n_train=10)\n",
        "print('Last date in A0_df :',A0_df['timestamp'].max())\n",
        "print('Num ΔA_train :', len(ΔA_train))"
      ],
      "execution_count": 47,
      "outputs": [
        {
          "output_type": "stream",
          "text": [
            "Last date in A0_df : 2017-02-27 00:00:00\n",
            "Num ΔA_train : 10\n"
          ],
          "name": "stdout"
        }
      ]
    },
    {
      "cell_type": "code",
      "metadata": {
        "colab": {
          "base_uri": "https://localhost:8080/"
        },
        "id": "3VlxVQQMTvMy",
        "outputId": "6cc5f4f9-fcbf-4c3c-8292-a18e8581e099"
      },
      "source": [
        "AllDF_list, PSITest_list,HOLDOUT_list = TestTrain_DataSplit(AMZGames_DF,'userId','timestamp',pivotMonths_list,ΔA_test)\n",
        "print('Num AllDF_list :', len(AllDF_list))"
      ],
      "execution_count": 48,
      "outputs": [
        {
          "output_type": "stream",
          "text": [
            "Num AllDF_list : 8\n"
          ],
          "name": "stdout"
        }
      ]
    },
    {
      "cell_type": "code",
      "metadata": {
        "colab": {
          "base_uri": "https://localhost:8080/"
        },
        "id": "pm4NRJ9jTvMz",
        "outputId": "c78ae8d4-2d52-494c-f341-7058175e9283"
      },
      "source": [
        "for df in ΔA_train:\n",
        "    print(df['userId'].nunique(),df['productId'].nunique())"
      ],
      "execution_count": 49,
      "outputs": [
        {
          "output_type": "stream",
          "text": [
            "1959 2319\n",
            "1455 1844\n",
            "1236 1637\n",
            "1080 1492\n",
            "1033 1490\n",
            "1041 1577\n",
            "907 1355\n",
            "871 1203\n",
            "862 1228\n",
            "845 1238\n"
          ],
          "name": "stdout"
        }
      ]
    },
    {
      "cell_type": "code",
      "metadata": {
        "colab": {
          "base_uri": "https://localhost:8080/"
        },
        "id": "eWMwJPUFTvM0",
        "outputId": "b38dfc09-549d-4cf1-942c-1f393d2a4fb6"
      },
      "source": [
        "for df in ΔA_test:\n",
        "    print(df['userId'].nunique(),df['productId'].nunique())"
      ],
      "execution_count": 50,
      "outputs": [
        {
          "output_type": "stream",
          "text": [
            "865 1224\n",
            "687 1080\n",
            "816 1462\n",
            "718 1183\n",
            "560 901\n",
            "465 584\n",
            "405 421\n",
            "243 256\n"
          ],
          "name": "stdout"
        }
      ]
    },
    {
      "cell_type": "code",
      "metadata": {
        "id": "rPDz4dduEoiY"
      },
      "source": [
        ""
      ],
      "execution_count": null,
      "outputs": []
    },
    {
      "cell_type": "code",
      "metadata": {
        "id": "BItcUkOhGls7"
      },
      "source": [
        ""
      ],
      "execution_count": null,
      "outputs": []
    },
    {
      "cell_type": "markdown",
      "metadata": {
        "id": "DB71nWjybvjn"
      },
      "source": [
        "## Apply Functions on *AMZElect*"
      ]
    },
    {
      "cell_type": "markdown",
      "metadata": {
        "id": "gR7ter5eg9AP"
      },
      "source": [
        "### Import Cleaned Data"
      ]
    },
    {
      "cell_type": "code",
      "metadata": {
        "colab": {
          "base_uri": "https://localhost:8080/"
        },
        "id": "4Vgsaf4Gg9AR",
        "outputId": "99f2df77-10ab-4999-cd94-c40008bcdfc4"
      },
      "source": [
        "!unzip  /content/usedAMZElect.zip"
      ],
      "execution_count": 52,
      "outputs": [
        {
          "output_type": "stream",
          "text": [
            "Archive:  /content/usedAMZElect.zip\n",
            "  inflating: usedAMZElect.csv        \n"
          ],
          "name": "stdout"
        }
      ]
    },
    {
      "cell_type": "code",
      "metadata": {
        "id": "163gbN7J_yiL",
        "colab": {
          "base_uri": "https://localhost:8080/",
          "height": 513
        },
        "outputId": "0904f5f8-5e84-429a-f8e7-6bf76aaeca9e"
      },
      "source": [
        "AMZElect_DF  = pd.read_csv('/content/usedAMZElect.csv')\n",
        "AMZElect_DF['timestamp'] = pd.to_datetime(AMZElect_DF['timestamp']) \n",
        "print(AMZElect_DF.shape)      #productId_int\tuserId_int\n",
        "print(AMZElect_DF.dtypes)\n",
        "AMZElect_DF"
      ],
      "execution_count": 53,
      "outputs": [
        {
          "output_type": "stream",
          "text": [
            "(2760569, 4)\n",
            "userId                int64\n",
            "productId             int64\n",
            "rating                int64\n",
            "timestamp    datetime64[ns]\n",
            "dtype: object\n"
          ],
          "name": "stdout"
        },
        {
          "output_type": "execute_result",
          "data": {
            "text/html": [
              "<div>\n",
              "<style scoped>\n",
              "    .dataframe tbody tr th:only-of-type {\n",
              "        vertical-align: middle;\n",
              "    }\n",
              "\n",
              "    .dataframe tbody tr th {\n",
              "        vertical-align: top;\n",
              "    }\n",
              "\n",
              "    .dataframe thead th {\n",
              "        text-align: right;\n",
              "    }\n",
              "</style>\n",
              "<table border=\"1\" class=\"dataframe\">\n",
              "  <thead>\n",
              "    <tr style=\"text-align: right;\">\n",
              "      <th></th>\n",
              "      <th>userId</th>\n",
              "      <th>productId</th>\n",
              "      <th>rating</th>\n",
              "      <th>timestamp</th>\n",
              "    </tr>\n",
              "  </thead>\n",
              "  <tbody>\n",
              "    <tr>\n",
              "      <th>0</th>\n",
              "      <td>0</td>\n",
              "      <td>0</td>\n",
              "      <td>1</td>\n",
              "      <td>2000-01-01</td>\n",
              "    </tr>\n",
              "    <tr>\n",
              "      <th>1</th>\n",
              "      <td>1</td>\n",
              "      <td>1</td>\n",
              "      <td>1</td>\n",
              "      <td>2000-01-02</td>\n",
              "    </tr>\n",
              "    <tr>\n",
              "      <th>2</th>\n",
              "      <td>2</td>\n",
              "      <td>2</td>\n",
              "      <td>1</td>\n",
              "      <td>2000-01-03</td>\n",
              "    </tr>\n",
              "    <tr>\n",
              "      <th>3</th>\n",
              "      <td>3</td>\n",
              "      <td>3</td>\n",
              "      <td>1</td>\n",
              "      <td>2000-01-06</td>\n",
              "    </tr>\n",
              "    <tr>\n",
              "      <th>4</th>\n",
              "      <td>4</td>\n",
              "      <td>4</td>\n",
              "      <td>1</td>\n",
              "      <td>2000-01-06</td>\n",
              "    </tr>\n",
              "    <tr>\n",
              "      <th>...</th>\n",
              "      <td>...</td>\n",
              "      <td>...</td>\n",
              "      <td>...</td>\n",
              "      <td>...</td>\n",
              "    </tr>\n",
              "    <tr>\n",
              "      <th>2760564</th>\n",
              "      <td>60863</td>\n",
              "      <td>220253</td>\n",
              "      <td>1</td>\n",
              "      <td>2018-08-31</td>\n",
              "    </tr>\n",
              "    <tr>\n",
              "      <th>2760565</th>\n",
              "      <td>9978</td>\n",
              "      <td>220253</td>\n",
              "      <td>1</td>\n",
              "      <td>2018-08-31</td>\n",
              "    </tr>\n",
              "    <tr>\n",
              "      <th>2760566</th>\n",
              "      <td>59037</td>\n",
              "      <td>238414</td>\n",
              "      <td>1</td>\n",
              "      <td>2018-08-31</td>\n",
              "    </tr>\n",
              "    <tr>\n",
              "      <th>2760567</th>\n",
              "      <td>75909</td>\n",
              "      <td>251125</td>\n",
              "      <td>1</td>\n",
              "      <td>2018-08-31</td>\n",
              "    </tr>\n",
              "    <tr>\n",
              "      <th>2760568</th>\n",
              "      <td>151982</td>\n",
              "      <td>238694</td>\n",
              "      <td>1</td>\n",
              "      <td>2018-08-31</td>\n",
              "    </tr>\n",
              "  </tbody>\n",
              "</table>\n",
              "<p>2760569 rows × 4 columns</p>\n",
              "</div>"
            ],
            "text/plain": [
              "         userId  productId  rating  timestamp\n",
              "0             0          0       1 2000-01-01\n",
              "1             1          1       1 2000-01-02\n",
              "2             2          2       1 2000-01-03\n",
              "3             3          3       1 2000-01-06\n",
              "4             4          4       1 2000-01-06\n",
              "...         ...        ...     ...        ...\n",
              "2760564   60863     220253       1 2018-08-31\n",
              "2760565    9978     220253       1 2018-08-31\n",
              "2760566   59037     238414       1 2018-08-31\n",
              "2760567   75909     251125       1 2018-08-31\n",
              "2760568  151982     238694       1 2018-08-31\n",
              "\n",
              "[2760569 rows x 4 columns]"
            ]
          },
          "metadata": {
            "tags": []
          },
          "execution_count": 53
        }
      ]
    },
    {
      "cell_type": "code",
      "metadata": {
        "colab": {
          "base_uri": "https://localhost:8080/",
          "height": 620
        },
        "id": "wioNSfQNg9AW",
        "outputId": "dcc5ae9c-791c-4e34-9966-d1b0df7c50e3"
      },
      "source": [
        "print(AMZElect_DF.shape)\n",
        "print(\"For users: \")\n",
        "print(AMZElect_DF['userId'].nunique())\n",
        "print(AMZElect_DF['userId'].max())\n",
        "print()\n",
        "print(\"For items: \")\n",
        "print(AMZElect_DF['productId'].nunique())\n",
        "print(AMZElect_DF['productId'].max())\n",
        "print()\n",
        "print(\"Timestamp\")\n",
        "print(AMZElect_DF['timestamp'].min())\n",
        "print(AMZElect_DF['timestamp'].max())\n",
        "AMZElect_DF"
      ],
      "execution_count": 54,
      "outputs": [
        {
          "output_type": "stream",
          "text": [
            "(2760569, 4)\n",
            "For users: \n",
            "161594\n",
            "161593\n",
            "\n",
            "For items: \n",
            "318020\n",
            "318019\n",
            "\n",
            "Timestamp\n",
            "2000-01-01 00:00:00\n",
            "2018-08-31 00:00:00\n"
          ],
          "name": "stdout"
        },
        {
          "output_type": "execute_result",
          "data": {
            "text/html": [
              "<div>\n",
              "<style scoped>\n",
              "    .dataframe tbody tr th:only-of-type {\n",
              "        vertical-align: middle;\n",
              "    }\n",
              "\n",
              "    .dataframe tbody tr th {\n",
              "        vertical-align: top;\n",
              "    }\n",
              "\n",
              "    .dataframe thead th {\n",
              "        text-align: right;\n",
              "    }\n",
              "</style>\n",
              "<table border=\"1\" class=\"dataframe\">\n",
              "  <thead>\n",
              "    <tr style=\"text-align: right;\">\n",
              "      <th></th>\n",
              "      <th>userId</th>\n",
              "      <th>productId</th>\n",
              "      <th>rating</th>\n",
              "      <th>timestamp</th>\n",
              "    </tr>\n",
              "  </thead>\n",
              "  <tbody>\n",
              "    <tr>\n",
              "      <th>0</th>\n",
              "      <td>0</td>\n",
              "      <td>0</td>\n",
              "      <td>1</td>\n",
              "      <td>2000-01-01</td>\n",
              "    </tr>\n",
              "    <tr>\n",
              "      <th>1</th>\n",
              "      <td>1</td>\n",
              "      <td>1</td>\n",
              "      <td>1</td>\n",
              "      <td>2000-01-02</td>\n",
              "    </tr>\n",
              "    <tr>\n",
              "      <th>2</th>\n",
              "      <td>2</td>\n",
              "      <td>2</td>\n",
              "      <td>1</td>\n",
              "      <td>2000-01-03</td>\n",
              "    </tr>\n",
              "    <tr>\n",
              "      <th>3</th>\n",
              "      <td>3</td>\n",
              "      <td>3</td>\n",
              "      <td>1</td>\n",
              "      <td>2000-01-06</td>\n",
              "    </tr>\n",
              "    <tr>\n",
              "      <th>4</th>\n",
              "      <td>4</td>\n",
              "      <td>4</td>\n",
              "      <td>1</td>\n",
              "      <td>2000-01-06</td>\n",
              "    </tr>\n",
              "    <tr>\n",
              "      <th>...</th>\n",
              "      <td>...</td>\n",
              "      <td>...</td>\n",
              "      <td>...</td>\n",
              "      <td>...</td>\n",
              "    </tr>\n",
              "    <tr>\n",
              "      <th>2760564</th>\n",
              "      <td>60863</td>\n",
              "      <td>220253</td>\n",
              "      <td>1</td>\n",
              "      <td>2018-08-31</td>\n",
              "    </tr>\n",
              "    <tr>\n",
              "      <th>2760565</th>\n",
              "      <td>9978</td>\n",
              "      <td>220253</td>\n",
              "      <td>1</td>\n",
              "      <td>2018-08-31</td>\n",
              "    </tr>\n",
              "    <tr>\n",
              "      <th>2760566</th>\n",
              "      <td>59037</td>\n",
              "      <td>238414</td>\n",
              "      <td>1</td>\n",
              "      <td>2018-08-31</td>\n",
              "    </tr>\n",
              "    <tr>\n",
              "      <th>2760567</th>\n",
              "      <td>75909</td>\n",
              "      <td>251125</td>\n",
              "      <td>1</td>\n",
              "      <td>2018-08-31</td>\n",
              "    </tr>\n",
              "    <tr>\n",
              "      <th>2760568</th>\n",
              "      <td>151982</td>\n",
              "      <td>238694</td>\n",
              "      <td>1</td>\n",
              "      <td>2018-08-31</td>\n",
              "    </tr>\n",
              "  </tbody>\n",
              "</table>\n",
              "<p>2760569 rows × 4 columns</p>\n",
              "</div>"
            ],
            "text/plain": [
              "         userId  productId  rating  timestamp\n",
              "0             0          0       1 2000-01-01\n",
              "1             1          1       1 2000-01-02\n",
              "2             2          2       1 2000-01-03\n",
              "3             3          3       1 2000-01-06\n",
              "4             4          4       1 2000-01-06\n",
              "...         ...        ...     ...        ...\n",
              "2760564   60863     220253       1 2018-08-31\n",
              "2760565    9978     220253       1 2018-08-31\n",
              "2760566   59037     238414       1 2018-08-31\n",
              "2760567   75909     251125       1 2018-08-31\n",
              "2760568  151982     238694       1 2018-08-31\n",
              "\n",
              "[2760569 rows x 4 columns]"
            ]
          },
          "metadata": {
            "tags": []
          },
          "execution_count": 54
        }
      ]
    },
    {
      "cell_type": "markdown",
      "metadata": {
        "id": "X2bzlBe1g9Ad"
      },
      "source": [
        "###Step 1: Data Splitting"
      ]
    },
    {
      "cell_type": "code",
      "metadata": {
        "colab": {
          "base_uri": "https://localhost:8080/"
        },
        "id": "ZZ1TNxpJg9Ae",
        "outputId": "7b681c5d-6168-4252-d1bd-b61c57d69059"
      },
      "source": [
        "pivotMonths_list  = getPivotMonths(AMZElect_DF,'timestamp',N_TMonths=18)  \n",
        "pivotMonths_list"
      ],
      "execution_count": 55,
      "outputs": [
        {
          "output_type": "execute_result",
          "data": {
            "text/plain": [
              "[Timestamp('2018-07-31 00:00:00'),\n",
              " Timestamp('2018-06-30 00:00:00'),\n",
              " Timestamp('2018-05-31 00:00:00'),\n",
              " Timestamp('2018-04-30 00:00:00'),\n",
              " Timestamp('2018-03-31 00:00:00'),\n",
              " Timestamp('2018-02-28 00:00:00'),\n",
              " Timestamp('2018-01-31 00:00:00'),\n",
              " Timestamp('2017-12-31 00:00:00'),\n",
              " Timestamp('2017-11-30 00:00:00'),\n",
              " Timestamp('2017-10-31 00:00:00'),\n",
              " Timestamp('2017-09-30 00:00:00'),\n",
              " Timestamp('2017-08-31 00:00:00'),\n",
              " Timestamp('2017-07-31 00:00:00'),\n",
              " Timestamp('2017-06-30 00:00:00'),\n",
              " Timestamp('2017-05-31 00:00:00'),\n",
              " Timestamp('2017-04-30 00:00:00'),\n",
              " Timestamp('2017-03-31 00:00:00'),\n",
              " Timestamp('2017-02-28 00:00:00')]"
            ]
          },
          "metadata": {
            "tags": []
          },
          "execution_count": 55
        }
      ]
    },
    {
      "cell_type": "code",
      "metadata": {
        "colab": {
          "base_uri": "https://localhost:8080/"
        },
        "id": "PGLywQnyg9Am",
        "outputId": "d09f441d-2cb3-4e50-c0b9-d6204fa71f0a"
      },
      "source": [
        "A0_df,ΔA_train,ΔA_test = Time_DataSplit(AMZElect_DF,'timestamp',pivotMonths_list,N_TMonths= 18,n_train=10)\n",
        "print('Last date in A0_df :',A0_df['timestamp'].max())\n",
        "print('Num ΔA_train :', len(ΔA_train))"
      ],
      "execution_count": 58,
      "outputs": [
        {
          "output_type": "stream",
          "text": [
            "Last date in A0_df : 2017-02-27 00:00:00\n",
            "Num ΔA_train : 10\n"
          ],
          "name": "stdout"
        }
      ]
    },
    {
      "cell_type": "code",
      "metadata": {
        "colab": {
          "base_uri": "https://localhost:8080/"
        },
        "id": "hjFWsU2dg9An",
        "outputId": "47f40a85-6d79-4ae6-d534-b2bd8d1369ab"
      },
      "source": [
        "AllDF_list, PSITest_list,HOLDOUT_list = TestTrain_DataSplit(AMZElect_DF,'userId','timestamp',pivotMonths_list,ΔA_test)\n",
        "print('Num AllDF_list :', len(AllDF_list))"
      ],
      "execution_count": 59,
      "outputs": [
        {
          "output_type": "stream",
          "text": [
            "Num AllDF_list : 8\n"
          ],
          "name": "stdout"
        }
      ]
    },
    {
      "cell_type": "code",
      "metadata": {
        "colab": {
          "base_uri": "https://localhost:8080/"
        },
        "id": "SJiLlWsrg9Ap",
        "outputId": "ce83fd0d-0849-48d9-dbe7-968daf038fb1"
      },
      "source": [
        "for df in ΔA_train:\n",
        "    print(df['userId'].nunique(),df['productId'].nunique())"
      ],
      "execution_count": 60,
      "outputs": [
        {
          "output_type": "stream",
          "text": [
            "17570 21425\n",
            "15010 19188\n",
            "13933 17058\n",
            "12711 16008\n",
            "12667 15464\n",
            "12695 15398\n",
            "11746 14523\n",
            "10733 13206\n",
            "10129 12593\n",
            "10375 12375\n"
          ],
          "name": "stdout"
        }
      ]
    },
    {
      "cell_type": "code",
      "metadata": {
        "colab": {
          "base_uri": "https://localhost:8080/"
        },
        "id": "56MGR9Z5g9Aq",
        "outputId": "e3c1bb1e-fe42-4939-dfcf-67150379ee90"
      },
      "source": [
        "for df in ΔA_test:\n",
        "    print(df['userId'].nunique(),df['productId'].nunique())"
      ],
      "execution_count": 61,
      "outputs": [
        {
          "output_type": "stream",
          "text": [
            "11572 13325\n",
            "9614 11772\n",
            "10842 13592\n",
            "9888 12416\n",
            "8939 10901\n",
            "7677 8770\n",
            "6609 6753\n",
            "4279 3895\n"
          ],
          "name": "stdout"
        }
      ]
    },
    {
      "cell_type": "code",
      "metadata": {
        "colab": {
          "base_uri": "https://localhost:8080/"
        },
        "id": "TvV8obpSg9Ar",
        "outputId": "53d1918a-d1d8-4211-ef4f-e05073ef8332"
      },
      "source": [
        "print(A0_df['productId'].max(),A0_df['productId'].nunique())\n",
        "print(A0_df['userId'].max(),A0_df['userId'].nunique())"
      ],
      "execution_count": 62,
      "outputs": [
        {
          "output_type": "stream",
          "text": [
            "293278 293279\n",
            "158466 158467\n"
          ],
          "name": "stdout"
        }
      ]
    }
  ]
}